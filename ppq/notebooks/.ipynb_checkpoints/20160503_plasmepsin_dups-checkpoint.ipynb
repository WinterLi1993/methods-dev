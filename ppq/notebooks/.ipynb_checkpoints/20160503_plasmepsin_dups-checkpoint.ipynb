{
 "cells": [
  {
   "cell_type": "code",
   "execution_count": 1,
   "metadata": {
    "collapsed": false
   },
   "outputs": [
    {
     "name": "stdout",
     "output_type": "stream",
     "text": [
      "python 3.4.3 |Anaconda 2.2.0 (64-bit)| (default, Mar  6 2015, 12:03:53) \n",
      "[GCC 4.4.7 20120313 (Red Hat 4.4.7-1)]\n",
      "numpy 1.9.2\n",
      "scipy 0.15.1\n",
      "pandas 0.15.2\n",
      "numexpr 2.3.1\n",
      "pysam 0.8.3\n",
      "pysamstats 0.23\n",
      "petl 1.0.11\n",
      "petlx 1.0.3\n",
      "vcf 0.6.7\n",
      "vcfnp 2.3.0.dev0\n",
      "h5py 2.4.0\n",
      "tables 3.1.1\n"
     ]
    }
   ],
   "source": [
    "%run _standard_imports.ipynb"
   ]
  },
  {
   "cell_type": "code",
   "execution_count": 2,
   "metadata": {
    "collapsed": true
   },
   "outputs": [],
   "source": [
    "import stat\n",
    "# from sh import ssh\n",
    "# farm3 = ssh.bake(\"farm3-login\")\n",
    "bsub = sh.Command('bsub')"
   ]
  },
  {
   "cell_type": "code",
   "execution_count": 4,
   "metadata": {
    "collapsed": false
   },
   "outputs": [],
   "source": [
    "ppq_bam_dir = '/nfs/team112_internal/production_files/Pf/ppq'\n",
    "# pf_40_freeze_manifest_fn = '/nfs/team112_internal/production_files/Pf/4_0/pf_40_freeze_manifest.tab'\n",
    "# samples_subset_fn = '/nfs/team112_internal/rp7/data/Pf/4_0/meta/PfCP_4.txt' # From Roberto March 30, 2106 14:14\n",
    "# cinzia_metadata_fn = '/nfs/team112_internal/rp7/data/Pf/4_0/meta/PF_metadata_base.csv' # From Cinzia 22/03/2016 07:47\n",
    "# cinzia_extra_metadata_fn = '/nfs/team112_internal/rp7/data/Pf/4_0/meta/PF_extrametadata.csv' # From Cinzia 22/03/2016 08:22\n",
    "# compiled_metadata_3488_fn = '/nfs/team112_internal/rp7/data/Pf/4_0/meta/PfCP_4_3488_withtypes.txt'\n",
    "output_dir = '/lustre/scratch109/malaria/rp7/data/ppq/breakpoint_spanning_reads'\n",
    "# output_dir = '/nfs/team112_internal/rp7/data/Pf/4_0/pysamstats'\n",
    "# !mkdir -p {\"%s/scripts\" % output_dir}\n",
    "# !mkdir -p {\"%s/results\" % output_dir}\n",
    "\n"
   ]
  },
  {
   "cell_type": "code",
   "execution_count": 7,
   "metadata": {
    "collapsed": false
   },
   "outputs": [],
   "source": [
    "bam_files_dict = collections.OrderedDict()\n",
    "import glob\n",
    "for subdir in ['TRAC1', 'PFV2']:\n",
    "    bam_files_dict[subdir] = glob.glob(\"%s/%s/*/*.bam\" % (ppq_bam_dir, subdir))"
   ]
  },
  {
   "cell_type": "code",
   "execution_count": 9,
   "metadata": {
    "collapsed": false
   },
   "outputs": [
    {
     "data": {
      "text/plain": [
       "['/nfs/team112_internal/production_files/Pf/ppq/TRAC1/PH0502_C/pe.1.bam',\n",
       " '/nfs/team112_internal/production_files/Pf/ppq/TRAC1/PH0503_C/pe.1.bam',\n",
       " '/nfs/team112_internal/production_files/Pf/ppq/TRAC1/PH0504_C/pe.1.bam',\n",
       " '/nfs/team112_internal/production_files/Pf/ppq/TRAC1/PH0505_C/pe.1.bam',\n",
       " '/nfs/team112_internal/production_files/Pf/ppq/TRAC1/PH0506_C/pe.1.bam',\n",
       " '/nfs/team112_internal/production_files/Pf/ppq/TRAC1/PH0507_C/pe.1.bam',\n",
       " '/nfs/team112_internal/production_files/Pf/ppq/TRAC1/PH0508_C/pe.1.bam',\n",
       " '/nfs/team112_internal/production_files/Pf/ppq/TRAC1/PH0509_C/pe.1.bam',\n",
       " '/nfs/team112_internal/production_files/Pf/ppq/TRAC1/PH0510_C/pe.1.bam',\n",
       " '/nfs/team112_internal/production_files/Pf/ppq/TRAC1/PH0511_C/pe.1.bam',\n",
       " '/nfs/team112_internal/production_files/Pf/ppq/TRAC1/PH0512_C/pe.1.bam',\n",
       " '/nfs/team112_internal/production_files/Pf/ppq/TRAC1/PH0513_C/pe.1.bam',\n",
       " '/nfs/team112_internal/production_files/Pf/ppq/TRAC1/PH0514_C/pe.1.bam',\n",
       " '/nfs/team112_internal/production_files/Pf/ppq/TRAC1/PH0515_C/pe.1.bam',\n",
       " '/nfs/team112_internal/production_files/Pf/ppq/TRAC1/PH0516_C/pe.1.bam',\n",
       " '/nfs/team112_internal/production_files/Pf/ppq/TRAC1/PH0517_C/pe.1.bam',\n",
       " '/nfs/team112_internal/production_files/Pf/ppq/TRAC1/PH0518_C/pe.1.bam',\n",
       " '/nfs/team112_internal/production_files/Pf/ppq/TRAC1/PH0519_C/pe.1.bam',\n",
       " '/nfs/team112_internal/production_files/Pf/ppq/TRAC1/PH0520_C/pe.1.bam',\n",
       " '/nfs/team112_internal/production_files/Pf/ppq/TRAC1/PH0521_C/pe.1.bam',\n",
       " '/nfs/team112_internal/production_files/Pf/ppq/TRAC1/PH0522_C/pe.1.bam',\n",
       " '/nfs/team112_internal/production_files/Pf/ppq/TRAC1/PH0523_C/pe.1.bam',\n",
       " '/nfs/team112_internal/production_files/Pf/ppq/TRAC1/PH0524_C/pe.1.bam',\n",
       " '/nfs/team112_internal/production_files/Pf/ppq/TRAC1/PH0525_C/pe.1.bam',\n",
       " '/nfs/team112_internal/production_files/Pf/ppq/TRAC1/PH0526_C/pe.1.bam',\n",
       " '/nfs/team112_internal/production_files/Pf/ppq/TRAC1/PH0527_C/pe.1.bam',\n",
       " '/nfs/team112_internal/production_files/Pf/ppq/TRAC1/PH0528_C/pe.1.bam',\n",
       " '/nfs/team112_internal/production_files/Pf/ppq/TRAC1/PH0529_C/pe.1.bam',\n",
       " '/nfs/team112_internal/production_files/Pf/ppq/TRAC1/PH0530_C/pe.1.bam',\n",
       " '/nfs/team112_internal/production_files/Pf/ppq/TRAC1/PH0531_C/pe.1.bam',\n",
       " '/nfs/team112_internal/production_files/Pf/ppq/TRAC1/PH0532_C/pe.1.bam',\n",
       " '/nfs/team112_internal/production_files/Pf/ppq/TRAC1/PH0533_C/pe.1.bam',\n",
       " '/nfs/team112_internal/production_files/Pf/ppq/TRAC1/PH0534_C/pe.1.bam',\n",
       " '/nfs/team112_internal/production_files/Pf/ppq/TRAC1/PH0535_C/pe.1.bam',\n",
       " '/nfs/team112_internal/production_files/Pf/ppq/TRAC1/PH0536_C/pe.1.bam',\n",
       " '/nfs/team112_internal/production_files/Pf/ppq/TRAC1/PH0537_C/pe.1.bam',\n",
       " '/nfs/team112_internal/production_files/Pf/ppq/TRAC1/PH0538_C/pe.1.bam',\n",
       " '/nfs/team112_internal/production_files/Pf/ppq/TRAC1/PH0539_C/pe.1.bam',\n",
       " '/nfs/team112_internal/production_files/Pf/ppq/TRAC1/PH0540_C/pe.1.bam',\n",
       " '/nfs/team112_internal/production_files/Pf/ppq/TRAC1/PH0541_C/pe.1.bam',\n",
       " '/nfs/team112_internal/production_files/Pf/ppq/TRAC1/PH0542_C/pe.1.bam',\n",
       " '/nfs/team112_internal/production_files/Pf/ppq/TRAC1/PH0543_C/pe.1.bam',\n",
       " '/nfs/team112_internal/production_files/Pf/ppq/TRAC1/PH0544_C/pe.1.bam',\n",
       " '/nfs/team112_internal/production_files/Pf/ppq/TRAC1/PH0545_C/pe.1.bam',\n",
       " '/nfs/team112_internal/production_files/Pf/ppq/TRAC1/PH0546_C/pe.1.bam',\n",
       " '/nfs/team112_internal/production_files/Pf/ppq/TRAC1/PH0547_C/pe.1.bam',\n",
       " '/nfs/team112_internal/production_files/Pf/ppq/TRAC1/PH0548_C/pe.1.bam',\n",
       " '/nfs/team112_internal/production_files/Pf/ppq/TRAC1/PH0549_C/pe.1.bam',\n",
       " '/nfs/team112_internal/production_files/Pf/ppq/TRAC1/PH0550_C/pe.1.bam',\n",
       " '/nfs/team112_internal/production_files/Pf/ppq/TRAC1/PH0551_C/pe.1.bam',\n",
       " '/nfs/team112_internal/production_files/Pf/ppq/TRAC1/PH0552_C/pe.1.bam',\n",
       " '/nfs/team112_internal/production_files/Pf/ppq/TRAC1/PH0553_C/pe.1.bam',\n",
       " '/nfs/team112_internal/production_files/Pf/ppq/TRAC1/PH0554_C/pe.1.bam',\n",
       " '/nfs/team112_internal/production_files/Pf/ppq/TRAC1/PH0555_C/pe.1.bam',\n",
       " '/nfs/team112_internal/production_files/Pf/ppq/TRAC1/PH0556_C/pe.1.bam',\n",
       " '/nfs/team112_internal/production_files/Pf/ppq/TRAC1/PH0557_C/pe.1.bam',\n",
       " '/nfs/team112_internal/production_files/Pf/ppq/TRAC1/PH0558_C/pe.1.bam',\n",
       " '/nfs/team112_internal/production_files/Pf/ppq/TRAC1/PH0559_C/pe.1.bam',\n",
       " '/nfs/team112_internal/production_files/Pf/ppq/TRAC1/PH0560_C/pe.1.bam',\n",
       " '/nfs/team112_internal/production_files/Pf/ppq/TRAC1/PH0561_C/pe.1.bam',\n",
       " '/nfs/team112_internal/production_files/Pf/ppq/TRAC1/PH0562_C/pe.1.bam',\n",
       " '/nfs/team112_internal/production_files/Pf/ppq/TRAC1/PH0563_C/pe.1.bam',\n",
       " '/nfs/team112_internal/production_files/Pf/ppq/TRAC1/PH0564_C/pe.1.bam',\n",
       " '/nfs/team112_internal/production_files/Pf/ppq/TRAC1/PH0565_C/pe.1.bam',\n",
       " '/nfs/team112_internal/production_files/Pf/ppq/TRAC1/PH0566_C/pe.1.bam',\n",
       " '/nfs/team112_internal/production_files/Pf/ppq/TRAC1/PH0567_C/pe.1.bam',\n",
       " '/nfs/team112_internal/production_files/Pf/ppq/TRAC1/PH0568_C/pe.1.bam',\n",
       " '/nfs/team112_internal/production_files/Pf/ppq/TRAC1/PH0569_C/pe.1.bam',\n",
       " '/nfs/team112_internal/production_files/Pf/ppq/TRAC1/PH0570_C/pe.1.bam',\n",
       " '/nfs/team112_internal/production_files/Pf/ppq/TRAC1/PH0571_C/pe.1.bam',\n",
       " '/nfs/team112_internal/production_files/Pf/ppq/TRAC1/PH0572_C/pe.1.bam',\n",
       " '/nfs/team112_internal/production_files/Pf/ppq/TRAC1/PH0573_C/pe.1.bam',\n",
       " '/nfs/team112_internal/production_files/Pf/ppq/TRAC1/PH0574_C/pe.1.bam',\n",
       " '/nfs/team112_internal/production_files/Pf/ppq/TRAC1/PH0575_C/pe.1.bam',\n",
       " '/nfs/team112_internal/production_files/Pf/ppq/TRAC1/PH0576_C/pe.1.bam',\n",
       " '/nfs/team112_internal/production_files/Pf/ppq/TRAC1/PH0577_C/pe.1.bam',\n",
       " '/nfs/team112_internal/production_files/Pf/ppq/TRAC1/PH0578_C/pe.1.bam',\n",
       " '/nfs/team112_internal/production_files/Pf/ppq/TRAC1/PH0579_C/pe.1.bam',\n",
       " '/nfs/team112_internal/production_files/Pf/ppq/TRAC1/PH0580_C/pe.1.bam',\n",
       " '/nfs/team112_internal/production_files/Pf/ppq/TRAC1/PH0581_C/pe.1.bam',\n",
       " '/nfs/team112_internal/production_files/Pf/ppq/TRAC1/PH0582_C/pe.1.bam',\n",
       " '/nfs/team112_internal/production_files/Pf/ppq/TRAC1/PH0583_C/pe.1.bam',\n",
       " '/nfs/team112_internal/production_files/Pf/ppq/TRAC1/PH0584_C/pe.1.bam',\n",
       " '/nfs/team112_internal/production_files/Pf/ppq/TRAC1/PH0585_C/pe.1.bam',\n",
       " '/nfs/team112_internal/production_files/Pf/ppq/TRAC1/PH0586_C/pe.1.bam',\n",
       " '/nfs/team112_internal/production_files/Pf/ppq/TRAC1/PH0587_C/pe.1.bam',\n",
       " '/nfs/team112_internal/production_files/Pf/ppq/TRAC1/PH0588_C/pe.1.bam',\n",
       " '/nfs/team112_internal/production_files/Pf/ppq/TRAC1/PH0589_C/pe.1.bam',\n",
       " '/nfs/team112_internal/production_files/Pf/ppq/TRAC1/PH0590_C/pe.1.bam',\n",
       " '/nfs/team112_internal/production_files/Pf/ppq/TRAC1/PH0591_C/pe.1.bam',\n",
       " '/nfs/team112_internal/production_files/Pf/ppq/TRAC1/PH0592_C/pe.1.bam',\n",
       " '/nfs/team112_internal/production_files/Pf/ppq/TRAC1/PH0593_C/pe.1.bam',\n",
       " '/nfs/team112_internal/production_files/Pf/ppq/TRAC1/PH0594_C/pe.1.bam',\n",
       " '/nfs/team112_internal/production_files/Pf/ppq/TRAC1/PH0595_C/pe.1.bam',\n",
       " '/nfs/team112_internal/production_files/Pf/ppq/TRAC1/PH0596_C/pe.1.bam',\n",
       " '/nfs/team112_internal/production_files/Pf/ppq/TRAC1/PH0597_C/pe.1.bam',\n",
       " '/nfs/team112_internal/production_files/Pf/ppq/TRAC1/PH0598_C/pe.1.bam',\n",
       " '/nfs/team112_internal/production_files/Pf/ppq/TRAC1/PH0599_C/pe.1.bam',\n",
       " '/nfs/team112_internal/production_files/Pf/ppq/TRAC1/PH0600_C/pe.1.bam',\n",
       " '/nfs/team112_internal/production_files/Pf/ppq/TRAC1/PH0601_C/pe.1.bam',\n",
       " '/nfs/team112_internal/production_files/Pf/ppq/TRAC1/PH0602_C/pe.1.bam',\n",
       " '/nfs/team112_internal/production_files/Pf/ppq/TRAC1/PH0603_C/pe.1.bam',\n",
       " '/nfs/team112_internal/production_files/Pf/ppq/TRAC1/PH0604_C/pe.1.bam',\n",
       " '/nfs/team112_internal/production_files/Pf/ppq/TRAC1/PH0605_C/pe.1.bam',\n",
       " '/nfs/team112_internal/production_files/Pf/ppq/TRAC1/PH0606_C/pe.1.bam',\n",
       " '/nfs/team112_internal/production_files/Pf/ppq/TRAC1/PH0607_C/pe.1.bam',\n",
       " '/nfs/team112_internal/production_files/Pf/ppq/TRAC1/PH0608_C/pe.1.bam',\n",
       " '/nfs/team112_internal/production_files/Pf/ppq/TRAC1/PH0609_C/pe.1.bam',\n",
       " '/nfs/team112_internal/production_files/Pf/ppq/TRAC1/PH0610_C/pe.1.bam',\n",
       " '/nfs/team112_internal/production_files/Pf/ppq/TRAC1/PH0611_C/pe.1.bam',\n",
       " '/nfs/team112_internal/production_files/Pf/ppq/TRAC1/PH0612_C/pe.1.bam',\n",
       " '/nfs/team112_internal/production_files/Pf/ppq/TRAC1/PH0613_C/pe.1.bam',\n",
       " '/nfs/team112_internal/production_files/Pf/ppq/TRAC1/PH0614_C/pe.1.bam',\n",
       " '/nfs/team112_internal/production_files/Pf/ppq/TRAC1/PH0615_C/pe.1.bam',\n",
       " '/nfs/team112_internal/production_files/Pf/ppq/TRAC1/PH0616_C/pe.1.bam',\n",
       " '/nfs/team112_internal/production_files/Pf/ppq/TRAC1/PH0617_C/pe.1.bam',\n",
       " '/nfs/team112_internal/production_files/Pf/ppq/TRAC1/PH0618_C/pe.1.bam',\n",
       " '/nfs/team112_internal/production_files/Pf/ppq/TRAC1/PH0619_C/pe.1.bam',\n",
       " '/nfs/team112_internal/production_files/Pf/ppq/TRAC1/PH0620_C/pe.1.bam',\n",
       " '/nfs/team112_internal/production_files/Pf/ppq/TRAC1/PH0621_C/pe.1.bam',\n",
       " '/nfs/team112_internal/production_files/Pf/ppq/TRAC1/PH0622_C/pe.1.bam',\n",
       " '/nfs/team112_internal/production_files/Pf/ppq/TRAC1/PH0623_C/pe.1.bam',\n",
       " '/nfs/team112_internal/production_files/Pf/ppq/TRAC1/PH0624_C/pe.1.bam',\n",
       " '/nfs/team112_internal/production_files/Pf/ppq/TRAC1/PH0625_C/pe.1.bam',\n",
       " '/nfs/team112_internal/production_files/Pf/ppq/TRAC1/PH0626_C/pe.1.bam',\n",
       " '/nfs/team112_internal/production_files/Pf/ppq/TRAC1/PH0627_C/pe.1.bam',\n",
       " '/nfs/team112_internal/production_files/Pf/ppq/TRAC1/PH0628_C/pe.1.bam',\n",
       " '/nfs/team112_internal/production_files/Pf/ppq/TRAC1/PH0629_C/pe.1.bam',\n",
       " '/nfs/team112_internal/production_files/Pf/ppq/TRAC1/PH0630_C/pe.1.bam',\n",
       " '/nfs/team112_internal/production_files/Pf/ppq/TRAC1/PH0631_C/pe.1.bam',\n",
       " '/nfs/team112_internal/production_files/Pf/ppq/TRAC1/PH0632_C/pe.1.bam',\n",
       " '/nfs/team112_internal/production_files/Pf/ppq/TRAC1/PH0633_C/pe.1.bam',\n",
       " '/nfs/team112_internal/production_files/Pf/ppq/TRAC1/PH0634_C/pe.1.bam',\n",
       " '/nfs/team112_internal/production_files/Pf/ppq/TRAC1/PH0635_C/pe.1.bam',\n",
       " '/nfs/team112_internal/production_files/Pf/ppq/TRAC1/PH0636_C/pe.1.bam',\n",
       " '/nfs/team112_internal/production_files/Pf/ppq/TRAC1/PH0637_C/pe.1.bam',\n",
       " '/nfs/team112_internal/production_files/Pf/ppq/TRAC1/PH0638_C/pe.1.bam',\n",
       " '/nfs/team112_internal/production_files/Pf/ppq/TRAC1/PH0639_C/pe.1.bam',\n",
       " '/nfs/team112_internal/production_files/Pf/ppq/TRAC1/PH0640_C/pe.1.bam',\n",
       " '/nfs/team112_internal/production_files/Pf/ppq/TRAC1/PH0641_C/pe.1.bam',\n",
       " '/nfs/team112_internal/production_files/Pf/ppq/TRAC1/PH0642_C/pe.1.bam',\n",
       " '/nfs/team112_internal/production_files/Pf/ppq/TRAC1/PH0643_C/pe.1.bam',\n",
       " '/nfs/team112_internal/production_files/Pf/ppq/TRAC1/PH0644_C/pe.1.bam',\n",
       " '/nfs/team112_internal/production_files/Pf/ppq/TRAC1/PH0645_C/pe.1.bam',\n",
       " '/nfs/team112_internal/production_files/Pf/ppq/TRAC1/PH0646_C/pe.1.bam',\n",
       " '/nfs/team112_internal/production_files/Pf/ppq/TRAC1/PH0647_C/pe.1.bam',\n",
       " '/nfs/team112_internal/production_files/Pf/ppq/TRAC1/PH0648_C/pe.1.bam',\n",
       " '/nfs/team112_internal/production_files/Pf/ppq/TRAC1/PH0649_C/pe.1.bam',\n",
       " '/nfs/team112_internal/production_files/Pf/ppq/TRAC1/PH0650_C/pe.1.bam',\n",
       " '/nfs/team112_internal/production_files/Pf/ppq/TRAC1/PH0651_C/pe.1.bam',\n",
       " '/nfs/team112_internal/production_files/Pf/ppq/TRAC1/PH0676_C/pe.1.bam',\n",
       " '/nfs/team112_internal/production_files/Pf/ppq/TRAC1/PH0677_C/pe.1.bam',\n",
       " '/nfs/team112_internal/production_files/Pf/ppq/TRAC1/PH0678_C/pe.1.bam',\n",
       " '/nfs/team112_internal/production_files/Pf/ppq/TRAC1/PH0679_C/pe.1.bam',\n",
       " '/nfs/team112_internal/production_files/Pf/ppq/TRAC1/PH0680_C/pe.1.bam',\n",
       " '/nfs/team112_internal/production_files/Pf/ppq/TRAC1/PH0681_C/pe.1.bam',\n",
       " '/nfs/team112_internal/production_files/Pf/ppq/TRAC1/PH0682_C/pe.1.bam',\n",
       " '/nfs/team112_internal/production_files/Pf/ppq/TRAC1/PH0683_C/pe.1.bam',\n",
       " '/nfs/team112_internal/production_files/Pf/ppq/TRAC1/PH0684_C/pe.1.bam',\n",
       " '/nfs/team112_internal/production_files/Pf/ppq/TRAC1/PH0685_C/pe.1.bam',\n",
       " '/nfs/team112_internal/production_files/Pf/ppq/TRAC1/PH0686_C/pe.1.bam',\n",
       " '/nfs/team112_internal/production_files/Pf/ppq/TRAC1/PH0687_C/pe.1.bam',\n",
       " '/nfs/team112_internal/production_files/Pf/ppq/TRAC1/PH0689_C/pe.1.bam',\n",
       " '/nfs/team112_internal/production_files/Pf/ppq/TRAC1/PH0692_C/pe.1.bam',\n",
       " '/nfs/team112_internal/production_files/Pf/ppq/TRAC1/PH0694_C/pe.1.bam',\n",
       " '/nfs/team112_internal/production_files/Pf/ppq/TRAC1/PH0695_C/pe.1.bam',\n",
       " '/nfs/team112_internal/production_files/Pf/ppq/TRAC1/PH0696_C/pe.1.bam',\n",
       " '/nfs/team112_internal/production_files/Pf/ppq/TRAC1/PH0697_C/pe.1.bam',\n",
       " '/nfs/team112_internal/production_files/Pf/ppq/TRAC1/PH0698_C/pe.1.bam',\n",
       " '/nfs/team112_internal/production_files/Pf/ppq/TRAC1/PH0700_C/pe.1.bam',\n",
       " '/nfs/team112_internal/production_files/Pf/ppq/TRAC1/PH0701_C/pe.1.bam',\n",
       " '/nfs/team112_internal/production_files/Pf/ppq/TRAC1/PH0702_C/pe.1.bam',\n",
       " '/nfs/team112_internal/production_files/Pf/ppq/TRAC1/PH0703_C/pe.1.bam',\n",
       " '/nfs/team112_internal/production_files/Pf/ppq/TRAC1/PH0704_C/pe.1.bam',\n",
       " '/nfs/team112_internal/production_files/Pf/ppq/TRAC1/PH0705_C/pe.1.bam',\n",
       " '/nfs/team112_internal/production_files/Pf/ppq/TRAC1/PH0706_C/pe.1.bam',\n",
       " '/nfs/team112_internal/production_files/Pf/ppq/TRAC1/PH0707_C/pe.1.bam',\n",
       " '/nfs/team112_internal/production_files/Pf/ppq/TRAC1/PH0708_C/pe.1.bam',\n",
       " '/nfs/team112_internal/production_files/Pf/ppq/TRAC1/PH0709_C/pe.1.bam',\n",
       " '/nfs/team112_internal/production_files/Pf/ppq/TRAC1/PH0712_C/pe.1.bam',\n",
       " '/nfs/team112_internal/production_files/Pf/ppq/TRAC1/PH0713_C/pe.1.bam',\n",
       " '/nfs/team112_internal/production_files/Pf/ppq/TRAC1/PH0714_C/pe.1.bam',\n",
       " '/nfs/team112_internal/production_files/Pf/ppq/TRAC1/PH0715_C/pe.1.bam',\n",
       " '/nfs/team112_internal/production_files/Pf/ppq/TRAC1/PH0716_C/pe.1.bam',\n",
       " '/nfs/team112_internal/production_files/Pf/ppq/TRAC1/PH0717_C/pe.1.bam',\n",
       " '/nfs/team112_internal/production_files/Pf/ppq/TRAC1/PH0718_C/pe.1.bam',\n",
       " '/nfs/team112_internal/production_files/Pf/ppq/TRAC1/PH0719_C/pe.1.bam',\n",
       " '/nfs/team112_internal/production_files/Pf/ppq/TRAC1/PH0722_C/pe.1.bam',\n",
       " '/nfs/team112_internal/production_files/Pf/ppq/TRAC1/PH0723_C/pe.1.bam',\n",
       " '/nfs/team112_internal/production_files/Pf/ppq/TRAC1/PH0724_C/pe.1.bam',\n",
       " '/nfs/team112_internal/production_files/Pf/ppq/TRAC1/PH0725_C/pe.1.bam',\n",
       " '/nfs/team112_internal/production_files/Pf/ppq/TRAC1/PH0727_C/pe.1.bam',\n",
       " '/nfs/team112_internal/production_files/Pf/ppq/TRAC1/PH0728_C/pe.1.bam',\n",
       " '/nfs/team112_internal/production_files/Pf/ppq/TRAC1/PH0729_C/pe.1.bam',\n",
       " '/nfs/team112_internal/production_files/Pf/ppq/TRAC1/PH0730_C/pe.1.bam',\n",
       " '/nfs/team112_internal/production_files/Pf/ppq/TRAC1/PH0731_C/pe.1.bam',\n",
       " '/nfs/team112_internal/production_files/Pf/ppq/TRAC1/PH0732_C/pe.1.bam',\n",
       " '/nfs/team112_internal/production_files/Pf/ppq/TRAC1/PH0733_C/pe.1.bam',\n",
       " '/nfs/team112_internal/production_files/Pf/ppq/TRAC1/PH0734_C/pe.1.bam',\n",
       " '/nfs/team112_internal/production_files/Pf/ppq/TRAC1/PH0735_C/pe.1.bam',\n",
       " '/nfs/team112_internal/production_files/Pf/ppq/TRAC1/PH0736_C/pe.1.bam',\n",
       " '/nfs/team112_internal/production_files/Pf/ppq/TRAC1/PH0737_C/pe.1.bam',\n",
       " '/nfs/team112_internal/production_files/Pf/ppq/TRAC1/PH0738_C/pe.1.bam',\n",
       " '/nfs/team112_internal/production_files/Pf/ppq/TRAC1/PH0739_C/pe.1.bam',\n",
       " '/nfs/team112_internal/production_files/Pf/ppq/TRAC1/PH0741_C/pe.1.bam',\n",
       " '/nfs/team112_internal/production_files/Pf/ppq/TRAC1/PH0742_C/pe.1.bam',\n",
       " '/nfs/team112_internal/production_files/Pf/ppq/TRAC1/PH0743_C/pe.1.bam',\n",
       " '/nfs/team112_internal/production_files/Pf/ppq/TRAC1/PH0744_C/pe.1.bam',\n",
       " '/nfs/team112_internal/production_files/Pf/ppq/TRAC1/PH0745_C/pe.1.bam',\n",
       " '/nfs/team112_internal/production_files/Pf/ppq/TRAC1/PH0746_C/pe.1.bam',\n",
       " '/nfs/team112_internal/production_files/Pf/ppq/TRAC1/PH0749_C/pe.1.bam',\n",
       " '/nfs/team112_internal/production_files/Pf/ppq/TRAC1/PH0752_C/pe.1.bam',\n",
       " '/nfs/team112_internal/production_files/Pf/ppq/TRAC1/PH0754_C/pe.1.bam',\n",
       " '/nfs/team112_internal/production_files/Pf/ppq/TRAC1/PH0755_C/pe.1.bam',\n",
       " '/nfs/team112_internal/production_files/Pf/ppq/TRAC1/PH0757_C/pe.1.bam',\n",
       " '/nfs/team112_internal/production_files/Pf/ppq/TRAC1/PH0758_C/pe.1.bam',\n",
       " '/nfs/team112_internal/production_files/Pf/ppq/TRAC1/PH0759_C/pe.1.bam',\n",
       " '/nfs/team112_internal/production_files/Pf/ppq/TRAC1/PH0760_C/pe.1.bam',\n",
       " '/nfs/team112_internal/production_files/Pf/ppq/TRAC1/PH0761_C/pe.1.bam',\n",
       " '/nfs/team112_internal/production_files/Pf/ppq/TRAC1/PH0763_C/pe.1.bam',\n",
       " '/nfs/team112_internal/production_files/Pf/ppq/TRAC1/PH0764_C/pe.1.bam',\n",
       " '/nfs/team112_internal/production_files/Pf/ppq/TRAC1/PH0765_C/pe.1.bam',\n",
       " '/nfs/team112_internal/production_files/Pf/ppq/TRAC1/PH0767_C/pe.1.bam',\n",
       " '/nfs/team112_internal/production_files/Pf/ppq/TRAC1/PH0768_C/pe.1.bam',\n",
       " '/nfs/team112_internal/production_files/Pf/ppq/TRAC1/PH0769_C/pe.1.bam',\n",
       " '/nfs/team112_internal/production_files/Pf/ppq/TRAC1/PH0770_C/pe.1.bam',\n",
       " '/nfs/team112_internal/production_files/Pf/ppq/TRAC1/PH0772_C/pe.1.bam',\n",
       " '/nfs/team112_internal/production_files/Pf/ppq/TRAC1/PH0774_C/pe.1.bam',\n",
       " '/nfs/team112_internal/production_files/Pf/ppq/TRAC1/PH0776_C/pe.1.bam',\n",
       " '/nfs/team112_internal/production_files/Pf/ppq/TRAC1/PH0777_C/pe.1.bam',\n",
       " '/nfs/team112_internal/production_files/Pf/ppq/TRAC1/PH0778_C/pe.1.bam',\n",
       " '/nfs/team112_internal/production_files/Pf/ppq/TRAC1/PH0780_C/pe.1.bam',\n",
       " '/nfs/team112_internal/production_files/Pf/ppq/TRAC1/PH0782_C/pe.1.bam',\n",
       " '/nfs/team112_internal/production_files/Pf/ppq/TRAC1/PH0783_C/pe.1.bam',\n",
       " '/nfs/team112_internal/production_files/Pf/ppq/TRAC1/PH0784_C/pe.1.bam',\n",
       " '/nfs/team112_internal/production_files/Pf/ppq/TRAC1/PH0788_C/pe.1.bam',\n",
       " '/nfs/team112_internal/production_files/Pf/ppq/TRAC1/PH0789_C/pe.1.bam',\n",
       " '/nfs/team112_internal/production_files/Pf/ppq/TRAC1/PH0790_C/pe.1.bam',\n",
       " '/nfs/team112_internal/production_files/Pf/ppq/TRAC1/PH0792_C/pe.1.bam',\n",
       " '/nfs/team112_internal/production_files/Pf/ppq/TRAC1/PH0793_C/pe.1.bam',\n",
       " '/nfs/team112_internal/production_files/Pf/ppq/TRAC1/PH0794_C/pe.1.bam',\n",
       " '/nfs/team112_internal/production_files/Pf/ppq/TRAC1/PH0795_C/pe.1.bam',\n",
       " '/nfs/team112_internal/production_files/Pf/ppq/TRAC1/PH0797_C/pe.1.bam',\n",
       " '/nfs/team112_internal/production_files/Pf/ppq/TRAC1/PH0800_C/pe.1.bam',\n",
       " '/nfs/team112_internal/production_files/Pf/ppq/TRAC1/PH0801_C/pe.1.bam',\n",
       " '/nfs/team112_internal/production_files/Pf/ppq/TRAC1/PH0802_C/pe.1.bam',\n",
       " '/nfs/team112_internal/production_files/Pf/ppq/TRAC1/PH0805_C/pe.1.bam',\n",
       " '/nfs/team112_internal/production_files/Pf/ppq/TRAC1/PH0807_C/pe.1.bam',\n",
       " '/nfs/team112_internal/production_files/Pf/ppq/TRAC1/PH0810_C/pe.1.bam',\n",
       " '/nfs/team112_internal/production_files/Pf/ppq/TRAC1/PH0811_C/pe.1.bam',\n",
       " '/nfs/team112_internal/production_files/Pf/ppq/TRAC1/PH0813_C/pe.1.bam',\n",
       " '/nfs/team112_internal/production_files/Pf/ppq/TRAC1/PH0815_C/pe.1.bam',\n",
       " '/nfs/team112_internal/production_files/Pf/ppq/TRAC1/PH0865_C/pe.1.bam',\n",
       " '/nfs/team112_internal/production_files/Pf/ppq/TRAC1/PH0866_C/pe.1.bam',\n",
       " '/nfs/team112_internal/production_files/Pf/ppq/TRAC1/PH0870_C/pe.1.bam',\n",
       " '/nfs/team112_internal/production_files/Pf/ppq/TRAC1/PH0871_C/pe.1.bam',\n",
       " '/nfs/team112_internal/production_files/Pf/ppq/TRAC1/PH0872_C/pe.1.bam',\n",
       " '/nfs/team112_internal/production_files/Pf/ppq/TRAC1/PH0875_C/pe.1.bam',\n",
       " '/nfs/team112_internal/production_files/Pf/ppq/TRAC1/PH0876_C/pe.1.bam',\n",
       " '/nfs/team112_internal/production_files/Pf/ppq/TRAC1/PH0877_C/pe.1.bam',\n",
       " '/nfs/team112_internal/production_files/Pf/ppq/TRAC1/PH0878_C/pe.1.bam',\n",
       " '/nfs/team112_internal/production_files/Pf/ppq/TRAC1/PH0879_C/pe.1.bam',\n",
       " '/nfs/team112_internal/production_files/Pf/ppq/TRAC1/PH0880_C/pe.1.bam',\n",
       " '/nfs/team112_internal/production_files/Pf/ppq/TRAC1/PH0882_C/pe.1.bam',\n",
       " '/nfs/team112_internal/production_files/Pf/ppq/TRAC1/PH0919_C/pe.1.bam',\n",
       " '/nfs/team112_internal/production_files/Pf/ppq/TRAC1/PH0921_C/pe.1.bam',\n",
       " '/nfs/team112_internal/production_files/Pf/ppq/TRAC1/PH0924_C/pe.1.bam',\n",
       " '/nfs/team112_internal/production_files/Pf/ppq/TRAC1/PH0925_C/pe.1.bam',\n",
       " '/nfs/team112_internal/production_files/Pf/ppq/TRAC1/PH0926_C/pe.1.bam',\n",
       " '/nfs/team112_internal/production_files/Pf/ppq/TRAC1/PH0927_C/pe.1.bam',\n",
       " '/nfs/team112_internal/production_files/Pf/ppq/TRAC1/PH0928_C/pe.1.bam',\n",
       " '/nfs/team112_internal/production_files/Pf/ppq/TRAC1/PH0929_C/pe.1.bam',\n",
       " '/nfs/team112_internal/production_files/Pf/ppq/TRAC1/PH0931_C/pe.1.bam',\n",
       " '/nfs/team112_internal/production_files/Pf/ppq/TRAC1/PH0932_C/pe.1.bam',\n",
       " '/nfs/team112_internal/production_files/Pf/ppq/TRAC1/PH0933_C/pe.1.bam',\n",
       " '/nfs/team112_internal/production_files/Pf/ppq/TRAC1/PH0935_C/pe.1.bam',\n",
       " '/nfs/team112_internal/production_files/Pf/ppq/TRAC1/PH0936_C/pe.1.bam',\n",
       " '/nfs/team112_internal/production_files/Pf/ppq/TRAC1/PH0937_C/pe.1.bam',\n",
       " '/nfs/team112_internal/production_files/Pf/ppq/TRAC1/PH0938_C/pe.1.bam',\n",
       " '/nfs/team112_internal/production_files/Pf/ppq/TRAC1/PH0939_C/pe.1.bam',\n",
       " '/nfs/team112_internal/production_files/Pf/ppq/TRAC1/PH0941_C/pe.1.bam',\n",
       " '/nfs/team112_internal/production_files/Pf/ppq/TRAC1/PH0976_C/pe.1.bam',\n",
       " '/nfs/team112_internal/production_files/Pf/ppq/TRAC1/PH0979_C/pe.1.bam',\n",
       " '/nfs/team112_internal/production_files/Pf/ppq/TRAC1/PH0980_C/pe.1.bam',\n",
       " '/nfs/team112_internal/production_files/Pf/ppq/TRAC1/PH0981_C/pe.1.bam',\n",
       " '/nfs/team112_internal/production_files/Pf/ppq/TRAC1/PH0982_C/pe.1.bam',\n",
       " '/nfs/team112_internal/production_files/Pf/ppq/TRAC1/PH0983_C/pe.1.bam',\n",
       " '/nfs/team112_internal/production_files/Pf/ppq/TRAC1/PH0984_C/pe.1.bam',\n",
       " '/nfs/team112_internal/production_files/Pf/ppq/TRAC1/PH0985_C/pe.1.bam',\n",
       " '/nfs/team112_internal/production_files/Pf/ppq/TRAC1/PH1007_C/pe.1.bam']"
      ]
     },
     "execution_count": 9,
     "metadata": {},
     "output_type": "execute_result"
    }
   ],
   "source": [
    "bam_files_dict['TRAC1']"
   ]
  },
  {
   "cell_type": "code",
   "execution_count": 11,
   "metadata": {
    "collapsed": false
   },
   "outputs": [
    {
     "data": {
      "text/plain": [
       "'ATTACGATAATCACACTGTTG'"
      ]
     },
     "execution_count": 11,
     "metadata": {},
     "output_type": "execute_result"
    }
   ],
   "source": [
    "breakpoint_sequences = collections.OrderedDict()\n",
    "breakpoint_sequences['1bp'] = 'CGATAATCACACT'\n",
    "breakpoint_sequences['5bp'] = 'ATTACGATAATCACACTGTTG'\n",
    "breakpoint_sequences['10bp'] = 'TTATGATTACGATAATCACACTGTTGGTTTC'\n",
    "breakpoint_sequences['15bp'] = 'ACCGTTTATGATTACGATAATCACACTGTTGGTTTCGCCCT'\n",
    "breakpoint_sequences['20bp'] = 'ATTTTACCGTTTATGATTACGATAATCACACTGTTGGTTTCGCCCTTGCCA'\n",
    "breakpoint_sequences['5bp']"
   ]
  },
  {
   "cell_type": "code",
   "execution_count": 13,
   "metadata": {
    "collapsed": false
   },
   "outputs": [
    {
     "name": "stdout",
     "output_type": "stream",
     "text": [
      "AGTGTGATTATCG\n"
     ]
    }
   ],
   "source": [
    "from Bio.Seq import Seq\n",
    "print(Seq(breakpoint_sequences['1bp']).reverse_complement())\n"
   ]
  },
  {
   "cell_type": "code",
   "execution_count": 15,
   "metadata": {
    "collapsed": false
   },
   "outputs": [
    {
     "name": "stdout",
     "output_type": "stream",
     "text": [
      "TRAC1 'CGATAATCACACT|AGTGTGATTATCG'\n",
      "..................................................................................................................................................................................................................................................................................................PFV2 'CGATAATCACACT|AGTGTGATTATCG'\n",
      "...................................................................................................................................................................................................................................................................................................................TRAC1 'ATTACGATAATCACACTGTTG|CAACAGTGTGATTATCGTAAT'\n",
      "..................................................................................................................................................................................................................................................................................................PFV2 'ATTACGATAATCACACTGTTG|CAACAGTGTGATTATCGTAAT'\n",
      "...................................................................................................................................................................................................................................................................................................................TRAC1 'TTATGATTACGATAATCACACTGTTGGTTTC|GAAACCAACAGTGTGATTATCGTAATCATAA'\n",
      "..................................................................................................................................................................................................................................................................................................PFV2 'TTATGATTACGATAATCACACTGTTGGTTTC|GAAACCAACAGTGTGATTATCGTAATCATAA'\n",
      "...................................................................................................................................................................................................................................................................................................................TRAC1 'ACCGTTTATGATTACGATAATCACACTGTTGGTTTCGCCCT|AGGGCGAAACCAACAGTGTGATTATCGTAATCATAAACGGT'\n",
      "..................................................................................................................................................................................................................................................................................................PFV2 'ACCGTTTATGATTACGATAATCACACTGTTGGTTTCGCCCT|AGGGCGAAACCAACAGTGTGATTATCGTAATCATAAACGGT'\n",
      "...................................................................................................................................................................................................................................................................................................................TRAC1 'ATTTTACCGTTTATGATTACGATAATCACACTGTTGGTTTCGCCCTTGCCA|TGGCAAGGGCGAAACCAACAGTGTGATTATCGTAATCATAAACGGTAAAAT'\n",
      "..................................................................................................................................................................................................................................................................................................PFV2 'ATTTTACCGTTTATGATTACGATAATCACACTGTTGGTTTCGCCCTTGCCA|TGGCAAGGGCGAAACCAACAGTGTGATTATCGTAATCATAAACGGTAAAAT'\n",
      "..................................................................................................................................................................................................................................................................................................................."
     ]
    }
   ],
   "source": [
    "# PH0395-C\n",
    "\n",
    "import stat\n",
    "bsub = sh.Command('bsub')\n",
    "\n",
    "for breakpoint_sequence_name in breakpoint_sequences:\n",
    "    breakpoint_reads_dir = '%s/plasmepsin_1_3/%s' % (output_dir, breakpoint_sequence_name)\n",
    "    !mkdir -p {breakpoint_reads_dir}/results\n",
    "    !mkdir -p {breakpoint_reads_dir}/scripts\n",
    "    !mkdir -p {breakpoint_reads_dir}/logs\n",
    "\n",
    "#     breakpoint_sequence = \"'ATATAATTCAGGGTTTAGGGTTTA|TAAACCCTAAACCCTGAATTATAT'\"\n",
    "    breakpoint_sequence = \"'%s|%s'\" % (\n",
    "        breakpoint_sequences[breakpoint_sequence_name],\n",
    "        Seq(breakpoint_sequences[breakpoint_sequence_name]).reverse_complement()\n",
    "    )\n",
    "    for study in bam_files_dict:\n",
    "        print(\"%s %s\" % (study, breakpoint_sequence))\n",
    "        for bam_fn in bam_files_dict[study]:\n",
    "            ox_code = bam_fn.split('/')[7]\n",
    "#             print(\"%s %s %s\" % (study, ox_code, breakpoint_sequence))\n",
    "            print('.', end='')\n",
    "            num_breakpoint_reads_fn = \"%s/results/num_breakpoint_reads_%s.txt\" % (breakpoint_reads_dir, ox_code)\n",
    "            if not os.path.exists(num_breakpoint_reads_fn):\n",
    "                script_fn = \"%s/scripts/nbpr_%s.sh\" % (breakpoint_reads_dir, ox_code)\n",
    "                fo = open(script_fn, 'w')\n",
    "                print('samtools view %s | grep -E %s | wc -l > %s' % (bam_fn, breakpoint_sequence, num_breakpoint_reads_fn), file = fo)\n",
    "                fo.close()\n",
    "                st = os.stat(script_fn)\n",
    "                os.chmod(script_fn, st.st_mode | stat.S_IEXEC)\n",
    "                bsub(\n",
    "                    '-G', 'malaria-dk',\n",
    "                    '-P', 'malaria-dk',\n",
    "                    '-q', 'normal',\n",
    "                    '-o', '%s/logs/nbpr_%s.out' % (breakpoint_reads_dir, ox_code),\n",
    "                    '-e', '%s/logs/nbpr_%s.err' % (breakpoint_reads_dir, ox_code),\n",
    "                    '-J', 'nbpr_%s' % (ox_code),\n",
    "                    '-R', \"'select[mem>4000] rusage[mem=4000]'\",\n",
    "                    '-M', '4000',\n",
    "                    script_fn\n",
    "                )\n"
   ]
  },
  {
   "cell_type": "code",
   "execution_count": 18,
   "metadata": {
    "collapsed": false
   },
   "outputs": [
    {
     "name": "stdout",
     "output_type": "stream",
     "text": [
      "TRAC1 'ATTTTACCGTTTATGATTACGATAATCACACTGTTGGTTTCGCCCTTGCCA|TGGCAAGGGCGAAACCAACAGTGTGATTATCGTAATCATAAACGGTAAAAT'\n",
      "..................................................................................................................................................................................................................................................................................................PFV2 'ATTTTACCGTTTATGATTACGATAATCACACTGTTGGTTTCGCCCTTGCCA|TGGCAAGGGCGAAACCAACAGTGTGATTATCGTAATCATAAACGGTAAAAT'\n",
      "...................................................................................................................................................................................................................................................................................................................TRAC1 'ATTTTACCGTTTATGATTACGATAATCACACTGTTGGTTTCGCCCTTGCCA|TGGCAAGGGCGAAACCAACAGTGTGATTATCGTAATCATAAACGGTAAAAT'\n",
      "..................................................................................................................................................................................................................................................................................................PFV2 'ATTTTACCGTTTATGATTACGATAATCACACTGTTGGTTTCGCCCTTGCCA|TGGCAAGGGCGAAACCAACAGTGTGATTATCGTAATCATAAACGGTAAAAT'\n",
      "...................................................................................................................................................................................................................................................................................................................TRAC1 'ATTTTACCGTTTATGATTACGATAATCACACTGTTGGTTTCGCCCTTGCCA|TGGCAAGGGCGAAACCAACAGTGTGATTATCGTAATCATAAACGGTAAAAT'\n",
      "..................................................................................................................................................................................................................................................................................................PFV2 'ATTTTACCGTTTATGATTACGATAATCACACTGTTGGTTTCGCCCTTGCCA|TGGCAAGGGCGAAACCAACAGTGTGATTATCGTAATCATAAACGGTAAAAT'\n",
      "...................................................................................................................................................................................................................................................................................................................TRAC1 'ATTTTACCGTTTATGATTACGATAATCACACTGTTGGTTTCGCCCTTGCCA|TGGCAAGGGCGAAACCAACAGTGTGATTATCGTAATCATAAACGGTAAAAT'\n",
      "..................................................................................................................................................................................................................................................................................................PFV2 'ATTTTACCGTTTATGATTACGATAATCACACTGTTGGTTTCGCCCTTGCCA|TGGCAAGGGCGAAACCAACAGTGTGATTATCGTAATCATAAACGGTAAAAT'\n",
      "...................................................................................................................................................................................................................................................................................................................TRAC1 'ATTTTACCGTTTATGATTACGATAATCACACTGTTGGTTTCGCCCTTGCCA|TGGCAAGGGCGAAACCAACAGTGTGATTATCGTAATCATAAACGGTAAAAT'\n",
      "..................................................................................................................................................................................................................................................................................................PFV2 'ATTTTACCGTTTATGATTACGATAATCACACTGTTGGTTTCGCCCTTGCCA|TGGCAAGGGCGAAACCAACAGTGTGATTATCGTAATCATAAACGGTAAAAT'\n",
      "..................................................................................................................................................................................................................................................................................................................."
     ]
    }
   ],
   "source": [
    "num_breakpoints_dict = collections.OrderedDict()\n",
    "\n",
    "for breakpoint_sequence_name in breakpoint_sequences:\n",
    "    num_breakpoints_dict[breakpoint_sequence_name] = collections.OrderedDict()\n",
    "    breakpoint_reads_dir = '%s/plasmepsin_1_3/%s' % (output_dir, breakpoint_sequence_name)\n",
    "\n",
    "    for study in bam_files_dict:\n",
    "        print(\"%s %s\" % (study, breakpoint_sequence))\n",
    "        for bam_fn in bam_files_dict[study]:\n",
    "            ox_code = bam_fn.split('/')[7]\n",
    "#             print(\"%s %s %s\" % (study, ox_code, breakpoint_sequence))\n",
    "            print('.', end='')\n",
    "            num_breakpoint_reads_fn = \"%s/results/num_breakpoint_reads_%s.txt\" % (breakpoint_reads_dir, ox_code)\n",
    "            fi = open(num_breakpoint_reads_fn, 'r')\n",
    "            num_breakpoints_dict[breakpoint_sequence_name][ox_code] = int(fi.read())\n"
   ]
  },
  {
   "cell_type": "code",
   "execution_count": 36,
   "metadata": {
    "collapsed": false
   },
   "outputs": [
    {
     "data": {
      "text/html": [
       "<table class='petl'>\n",
       "<thead>\n",
       "<tr>\n",
       "<th>ox_code</th>\n",
       "<th>num_breakpoint_reads</th>\n",
       "</tr>\n",
       "</thead>\n",
       "<tbody>\n",
       "<tr>\n",
       "<td>PH0502_C</td>\n",
       "<td style='text-align: right'>0</td>\n",
       "</tr>\n",
       "<tr>\n",
       "<td>PH0503_C</td>\n",
       "<td style='text-align: right'>0</td>\n",
       "</tr>\n",
       "<tr>\n",
       "<td>PH0504_C</td>\n",
       "<td style='text-align: right'>2</td>\n",
       "</tr>\n",
       "<tr>\n",
       "<td>PH0505_C</td>\n",
       "<td style='text-align: right'>1</td>\n",
       "</tr>\n",
       "<tr>\n",
       "<td>PH0506_C</td>\n",
       "<td style='text-align: right'>0</td>\n",
       "</tr>\n",
       "</tbody>\n",
       "</table>\n",
       "<p><strong>...</strong></p>"
      ],
      "text/plain": [
       "+------------+----------------------+\n",
       "| ox_code    | num_breakpoint_reads |\n",
       "+============+======================+\n",
       "| 'PH0508_C' |                    0 |\n",
       "+------------+----------------------+\n",
       "| 'PH0509_C' |                    5 |\n",
       "+------------+----------------------+\n",
       "| 'PH0510_C' |                    0 |\n",
       "+------------+----------------------+\n",
       "| 'PH0511_C' |                    0 |\n",
       "+------------+----------------------+\n",
       "| 'PH0512_C' |                    0 |\n",
       "+------------+----------------------+\n",
       "..."
      ]
     },
     "execution_count": 36,
     "metadata": {},
     "output_type": "execute_result"
    }
   ],
   "source": [
    "etl.wrap(zip(num_breakpoints_dict['1bp'].keys(), num_breakpoints_dict['1bp'].values())).pushheader(['ox_code', 'num_breakpoint_reads'])"
   ]
  },
  {
   "cell_type": "code",
   "execution_count": null,
   "metadata": {
    "collapsed": true
   },
   "outputs": [],
   "source": [
    "l /lustre/scratch109/malaria/rp7/data/Pf/4_0/breakpoint_spanning_reads/Pf3D7_13_v3_2830953/results/* | wc -l\n",
    "bjobs | wc -l\n",
    "!egrep -v '^0$' /lustre/scratch109/malaria/rp7/data/Pf/4_0/breakpoint_spanning_reads/Pf3D7_13_v3_2830953/results/*"
   ]
  },
  {
   "cell_type": "code",
   "execution_count": 56,
   "metadata": {
    "collapsed": false
   },
   "outputs": [
    {
     "name": "stdout",
     "output_type": "stream",
     "text": [
      "AACCCTGAACCCTAAACCTACCAA\n"
     ]
    }
   ],
   "source": [
    "print(Seq('TTGGTAGGTTTAGGGTTCAGGGTT').reverse_complement())"
   ]
  },
  {
   "cell_type": "code",
   "execution_count": 57,
   "metadata": {
    "collapsed": false
   },
   "outputs": [
    {
     "name": "stdout",
     "output_type": "stream",
     "text": [
      "AACCCTGAACCCTAAACCTACCAA\n",
      "................................................................................................................................................................................................................................................................................................................................................................................................................................................................................................................................................................................................................................................................................................................................................................................................................................................................................................................................................................................................................................................................................................................................................................................................................................................................................................................................................................................................................................................................................................................................................................................................................................................................................................................................................................................................................................................................................................................................................................................................................................................................................................................................................................................................................................................................................................................................................................................................................................................................................................................................................................................................................................................................................................................................................................................................................................................................................................................................................................................................................................................................................................................................................................................................................................................................................................................................................................................................................................................................................................................................................................................................................................"
     ]
    }
   ],
   "source": [
    "# PV0097-C\n",
    "print(Seq('TTGGTAGGTTTAGGGTTCAGGGTT').reverse_complement())\n",
    "\n",
    "import stat\n",
    "bsub = sh.Command('bsub')\n",
    "\n",
    "breakpoint_reads_dir = '/lustre/scratch109/malaria/rp7/data/Pf/4_0/breakpoint_spanning_reads/Pf3D7_13_v3_2837144'\n",
    "!mkdir -p {breakpoint_reads_dir}/results\n",
    "!mkdir -p {breakpoint_reads_dir}/scripts\n",
    "!mkdir -p {breakpoint_reads_dir}/logs\n",
    "\n",
    "breakpoint_sequence = \"'TTGGTAGGTTTAGGGTTCAGGGTT|AACCCTGAACCCTAAACCTACCAA'\"\n",
    "for rec in tbl_pf_40_freeze_manifest.data():\n",
    "    bam_fn = rec[0]\n",
    "    ox_code = rec[2].replace('-', '_')\n",
    "    print('.', end='')\n",
    "    num_breakpoint_reads_fn = \"%s/results/num_breakpoint_reads_%s.txt\" % (breakpoint_reads_dir, ox_code)\n",
    "    if not os.path.exists(num_breakpoint_reads_fn):\n",
    "        script_fn = \"%s/scripts/nbpr_%s.sh\" % (breakpoint_reads_dir, ox_code)\n",
    "        fo = open(script_fn, 'w')\n",
    "        print('samtools view %s | grep -E %s | wc -l > %s' % (bam_fn, breakpoint_sequence, num_breakpoint_reads_fn), file = fo)\n",
    "        fo.close()\n",
    "        st = os.stat(script_fn)\n",
    "        os.chmod(script_fn, st.st_mode | stat.S_IEXEC)\n",
    "        bsub(\n",
    "            '-G', 'malaria-dk',\n",
    "            '-P', 'malaria-dk',\n",
    "            '-q', 'normal',\n",
    "            '-o', '%s/logs/nbpr_%s.out' % (breakpoint_reads_dir, ox_code),\n",
    "            '-e', '%s/logs/nbpr_%s.err' % (breakpoint_reads_dir, ox_code),\n",
    "            '-J', 'nbpr_%s' % (ox_code),\n",
    "            '-R', \"'select[mem>4000] rusage[mem=4000]'\",\n",
    "            '-M', '4000',\n",
    "            script_fn\n",
    "        )\n"
   ]
  },
  {
   "cell_type": "code",
   "execution_count": null,
   "metadata": {
    "collapsed": true
   },
   "outputs": [],
   "source": []
  }
 ],
 "metadata": {
  "kernelspec": {
   "display_name": "Python 3",
   "language": "python",
   "name": "python3"
  },
  "language_info": {
   "codemirror_mode": {
    "name": "ipython",
    "version": 3
   },
   "file_extension": ".py",
   "mimetype": "text/x-python",
   "name": "python",
   "nbconvert_exporter": "python",
   "pygments_lexer": "ipython3",
   "version": "3.4.3"
  }
 },
 "nbformat": 4,
 "nbformat_minor": 0
}
