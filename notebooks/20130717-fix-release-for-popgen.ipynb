{
 "metadata": {
  "name": "20130717-fix-release-for-popgen"
 },
 "nbformat": 3,
 "nbformat_minor": 0,
 "worksheets": [
  {
   "cells": [
    {
     "cell_type": "code",
     "collapsed": false,
     "input": [
      "SANGER_VCF_WITH_ALL_SAMPLES = '/data/mirror/nfs/team112_internal/production_files/Pf/3_0/merged_filtered_20130322.vcf.gz'\n",
      "SANGER_VCF_WITH_NEW_FILTERS = '/data/mirror/nfs/team112_internal/production_files/Pf/3_0/merged_nohyperhet_20130715.vcf.gz'\n",
      "ALL_SAMPLES_FILTERS_FN = '/data/plasmodium/pfalciparum/3_0/data/release_fix/merged_filtered_20130322.filters.txt'\n",
      "NEW_FILTERS_FN = '/data/plasmodium/pfalciparum/3_0/data/release_fix/merged_nohyperhet_20130715.filters.txt'\n"
     ],
     "language": "python",
     "metadata": {},
     "outputs": [],
     "prompt_number": 1
    },
    {
     "cell_type": "code",
     "collapsed": false,
     "input": [
      "!zgrep -v '^#' {SANGER_VCF_WITH_ALL_SAMPLES} | cut -f 7 > {ALL_SAMPLES_FILTERS_FN}"
     ],
     "language": "python",
     "metadata": {},
     "outputs": [],
     "prompt_number": 2
    },
    {
     "cell_type": "code",
     "collapsed": false,
     "input": [
      "!zgrep -v '^#' {SANGER_VCF_WITH_NEW_FILTERS} | cut -f 7 > {NEW_FILTERS_FN}"
     ],
     "language": "python",
     "metadata": {},
     "outputs": []
    },
    {
     "cell_type": "code",
     "collapsed": false,
     "input": [],
     "language": "python",
     "metadata": {},
     "outputs": []
    },
    {
     "cell_type": "code",
     "collapsed": false,
     "input": [
      "# /nfs/team112_internal/production/tools/bin/bgzip -f /lustre/scratch108/malaria/pfalciparum/output/c/5/3/2/62690/6_vfp_filter_het_uniq/PA0007-C.group0.group0.group0.info_added.coding_and_regions.coverage.min_alt.biallelic.monoallelic.het_uniq.vcf > /lustre/scratch110/malaria/rp7/merged_hetuniq_20130717.vcf.gz"
     ],
     "language": "python",
     "metadata": {},
     "outputs": []
    },
    {
     "cell_type": "code",
     "collapsed": false,
     "input": [
      "bsub -eo bgzip_hetuniq.vcf.log \"/nfs/team112_internal/production/tools/bin/bgzip -c -f /lustre/scratch108/malaria/pfalciparum/output/c/5/3/2/62690/6_vfp_filter_het_uniq/PA0007-C.group0.group0.group0.info_added.coding_and_regions.coverage.min_alt.biallelic.monoallelic.het_uniq.vcf > /lustre/scratch110/malaria/rp7/merged_hetuniq_20130717.vcf.gz\""
     ],
     "language": "python",
     "metadata": {},
     "outputs": []
    }
   ],
   "metadata": {}
  }
 ]
}