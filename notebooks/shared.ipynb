{
 "metadata": {
  "name": "shared"
 },
 "nbformat": 3,
 "nbformat_minor": 0,
 "worksheets": [
  {
   "cells": [
    {
     "cell_type": "code",
     "collapsed": false,
     "input": [
      "import os\n",
      "import vcfnp\n",
      "import vcf\n",
      "from vcf.parser import _Info as Info\n",
      "import numpy as np\n",
      "from matplotlib import *\n",
      "import matplotlib.pyplot as plt\n",
      "import rpy2\n",
      "import rpy2.robjects as ro\n",
      "from rpy2.robjects.packages import importr\n",
      "import rpy2.robjects.numpy2ri\n",
      "rpy2.robjects.numpy2ri.activate()\n",
      "import pysam"
     ],
     "language": "python",
     "metadata": {},
     "outputs": []
    }
   ],
   "metadata": {}
  }
 ]
}