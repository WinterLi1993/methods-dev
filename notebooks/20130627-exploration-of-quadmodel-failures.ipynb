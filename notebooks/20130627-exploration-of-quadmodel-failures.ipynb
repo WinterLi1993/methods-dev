{
 "metadata": {
  "name": "20130627-exploration-of-quadmodel-failures"
 },
 "nbformat": 3,
 "nbformat_minor": 0,
 "worksheets": [
  {
   "cells": [
    {
     "cell_type": "code",
     "collapsed": false,
     "input": [
      "import os\n",
      "import vcfnp\n",
      "import vcf\n",
      "from vcf.parser import _Info as Info\n",
      "import numpy as np\n",
      "from matplotlib import *\n",
      "import matplotlib.pyplot as plt\n",
      "import rpy2\n",
      "import rpy2.robjects as ro\n",
      "from rpy2.robjects.packages import importr\n",
      "import rpy2.robjects.numpy2ri\n",
      "rpy2.robjects.numpy2ri.activate()\n",
      "import pysam\n",
      "from collections import OrderedDict\n"
     ],
     "language": "python",
     "metadata": {},
     "outputs": [],
     "prompt_number": 12
    },
    {
     "cell_type": "code",
     "collapsed": false,
     "input": [
      "vcf.VERSION"
     ],
     "language": "python",
     "metadata": {},
     "outputs": [
      {
       "output_type": "pyout",
       "prompt_number": 28,
       "text": [
        "'0.6.3'"
       ]
      }
     ],
     "prompt_number": 28
    },
    {
     "cell_type": "code",
     "collapsed": false,
     "input": [
      "# VCF_FN = '../temp/merged_filtered_20130322.50000rows.vcf.gz'\n",
      "VCF_FN = '/data/mirror/nfs/team112_internal/production_files/Pf/3_0/merged_filtered_20130322.vcf.gz'\n",
      "SUBSET_VCF_FN = '../temp/merged_filtered_20130322.Pf3D7_01_v3.vcf'\n",
      "OUT_VCF_FN = SUBSET_VCF_FN.replace('.vcf', '.GBA.vcf')\n",
      "QUAD_FIT_PARAMS_FN = SUBSET_VCF_FN.replace('.vcf', '.GBA.quadFitParams.tab')\n",
      "FILTERED_VCF_FN = SUBSET_VCF_FN.replace('.vcf', '.quadModelFiltered.vcf')\n",
      "QC_PLUS_SAMPLES_FN = '../meta/pf_30_qcplus.tab'"
     ],
     "language": "python",
     "metadata": {},
     "outputs": [],
     "prompt_number": 51
    },
    {
     "cell_type": "code",
     "collapsed": false,
     "input": [
      "!(zcat {VCF_FN} | head -n 1000 | grep '^#'; tabix {VCF_FN} Pf3D7_01_v3) > {SUBSET_VCF_FN}\n",
      "!bgzip -f {SUBSET_VCF_FN}\n",
      "!tabix -f -p vcf {SUBSET_VCF_FN}.gz"
     ],
     "language": "python",
     "metadata": {},
     "outputs": [
      {
       "output_type": "stream",
       "stream": "stdout",
       "text": [
        "\r\n",
        "gzip: stdout: Broken pipe\r\n"
       ]
      }
     ],
     "prompt_number": 45
    },
    {
     "cell_type": "code",
     "collapsed": false,
     "input": [
      "!/data/plasmodium/pvivax/scripts/python/genotypeBasedAnnotation.py -i {SUBSET_VCF_FN}.gz -o {OUT_VCF_FN} -q {QC_PLUS_SAMPLES_FN}"
     ],
     "language": "python",
     "metadata": {},
     "outputs": [
      {
       "output_type": "stream",
       "stream": "stdout",
       "text": [
        "../temp/merged_filtered_20130322.50000rows.Pf3D7_01_v3subset.vcf.gz\r\n"
       ]
      },
      {
       "output_type": "stream",
       "stream": "stdout",
       "text": [
        "/usr/local/lib/python2.7/dist-packages/scipy/stats/stats.py:298: RuntimeWarning: invalid value encountered in double_scalars\r\n",
        "  return np.mean(x,axis)/factor\r\n"
       ]
      },
      {
       "output_type": "stream",
       "stream": "stdout",
       "text": [
        "1000 199 Pf3D7_01_v3 128176\r\n"
       ]
      },
      {
       "output_type": "stream",
       "stream": "stdout",
       "text": [
        "2000 406 Pf3D7_01_v3 136455\r\n"
       ]
      },
      {
       "output_type": "stream",
       "stream": "stdout",
       "text": [
        "done (2569 variants, 611 passed)\r\n"
       ]
      }
     ],
     "prompt_number": 46
    },
    {
     "cell_type": "code",
     "collapsed": false,
     "input": [
      "!bgzip -f {OUT_VCF_FN}\n",
      "!tabix -f -p vcf {OUT_VCF_FN}.gz"
     ],
     "language": "python",
     "metadata": {},
     "outputs": [],
     "prompt_number": 47
    },
    {
     "cell_type": "code",
     "collapsed": false,
     "input": [
      "!/data/plasmodium/pvivax/scripts/python/quadModelFit.py -i {OUT_VCF_FN}.gz -q {QC_PLUS_SAMPLES_FN}"
     ],
     "language": "python",
     "metadata": {},
     "outputs": [
      {
       "output_type": "stream",
       "stream": "stdout",
       "text": [
        "building ../temp/merged_filtered_20130322.50000rows.Pf3D7_01_v3subset.GBA.info.npy\r\n"
       ]
      },
      {
       "output_type": "stream",
       "stream": "stdout",
       "text": [
        "2569 rows in 5.30s (485 rows/s)\r\n"
       ]
      },
      {
       "output_type": "stream",
       "stream": "stdout",
       "text": [
        "All\r\n"
       ]
      },
      {
       "output_type": "stream",
       "stream": "stdout",
       "text": [
        "AllQCplus\r\n"
       ]
      },
      {
       "output_type": "stream",
       "stream": "stdout",
       "text": [
        "SAM\r\n"
       ]
      },
      {
       "output_type": "stream",
       "stream": "stdout",
       "text": [
        "WAF\r\n"
       ]
      },
      {
       "output_type": "stream",
       "stream": "stdout",
       "text": [
        "EAF\r\n"
       ]
      },
      {
       "output_type": "stream",
       "stream": "stdout",
       "text": [
        "WSEA\r\n"
       ]
      },
      {
       "output_type": "stream",
       "stream": "stdout",
       "text": [
        "ESEA\r\n"
       ]
      },
      {
       "output_type": "stream",
       "stream": "stdout",
       "text": [
        "SAS\r\n"
       ]
      },
      {
       "output_type": "stream",
       "stream": "stdout",
       "text": [
        "PNG\r\n"
       ]
      }
     ],
     "prompt_number": 49
    },
    {
     "cell_type": "code",
     "collapsed": false,
     "input": [
      "!/data/plasmodium/pvivax/scripts/python/quadModelFilters.py -i {OUT_VCF_FN}.gz -o {FILTERED_VCF_FN} -q {QUAD_FIT_PARAMS_FN}"
     ],
     "language": "python",
     "metadata": {},
     "outputs": [
      {
       "output_type": "stream",
       "stream": "stdout",
       "text": [
        "../temp/merged_filtered_20130322.50000rows.Pf3D7_01_v3subset.GBA.vcf.gz\r\n"
       ]
      },
      {
       "output_type": "stream",
       "stream": "stdout",
       "text": [
        "1000 196 Pf3D7_01_v3 128176\r\n"
       ]
      },
      {
       "output_type": "stream",
       "stream": "stdout",
       "text": [
        "2000 400 Pf3D7_01_v3 136455\r\n"
       ]
      }
     ],
     "prompt_number": 52
    },
    {
     "cell_type": "code",
     "collapsed": false,
     "input": [
      "def replaceNoneWithZeros(object, numOfElements):\n",
      "\tif object == None:\n",
      "\t\treturn([0 for i in range(numOfElements)])\n",
      "\telif isinstance(object, int):\n",
      "\t\tobject = [object]\n",
      "\telif len(object) < numOfElements:\n",
      "\t\tfor i in range(numOfElements-len(object)):\n",
      "\t\t\tobject.append(0)\n",
      "\treturn object\n"
     ],
     "language": "python",
     "metadata": {},
     "outputs": [],
     "prompt_number": 4
    },
    {
     "cell_type": "code",
     "collapsed": false,
     "input": [
      "def qcPlusSampleGroups(input_vcf_fn, qcplus_samples_fn = '../meta/sampleStringentPops.tab'):\n",
      "\tqcplus_samples = dict()\n",
      "\twith open(qcplus_samples_fn) as f:\n",
      "\t\tfor line in f:\n",
      "\t\t\tsplits = line.split()\n",
      "\t\t\tsample_id = splits[0]\n",
      "\t\t\tpop = splits[1]\n",
      "\t\t\tqcplus_samples[sample_id] = pop\n",
      "\twith open(input_vcf_fn, 'rb') as f:\n",
      "\t\tvcf_reader = vcf.Reader(f)\n",
      "\t\tvcf_samples = vcf_reader.samples\n",
      "\tsamples_in_vcf = list()\n",
      "\tqcplus_samples_in_vcf = list()\n",
      "\tfor sample in vcf_samples:\n",
      "\t\tsamples_in_vcf.append(True)\n",
      "\t\tqcplus_samples_in_vcf.append(sample in qcplus_samples.keys())\n",
      "\tsample_groups = OrderedDict()\n",
      "\tsample_groups['All'] = np.array(samples_in_vcf)\n",
      "\tsample_groups['AllQCplus'] = np.array(qcplus_samples_in_vcf)\n",
      "\tfor region in list(set(qcplus_samples.values())):\n",
      "\t\tQCplusSamplesThisRegion = list()\n",
      "\t\tfor sample in vcf_samples:\n",
      "\t\t\tQCplusSamplesThisRegion.append(sample in qcplus_samples.keys() and qcplus_samples[sample]==region)\n",
      "\t\tsample_groups[region] = np.array(QCplusSamplesThisRegion)\n",
      "\treturn(sample_groups)\n"
     ],
     "language": "python",
     "metadata": {},
     "outputs": [],
     "prompt_number": 13
    },
    {
     "cell_type": "heading",
     "level": 3,
     "metadata": {},
     "source": [
      "Problems with 0 ADs - first few examples"
     ]
    },
    {
     "cell_type": "code",
     "collapsed": false,
     "input": [
      "qcplus_sample_groups = qcPlusSampleGroups(VCF_FN, QC_PLUS_SAMPLES_FN)\n",
      "count_nonzero(qcplus_sample_groups[\"WAF\"])"
     ],
     "language": "python",
     "metadata": {},
     "outputs": [],
     "prompt_number": 14
    },
    {
     "cell_type": "code",
     "collapsed": false,
     "input": [
      "ad_column = 'AD'\n",
      "inputReader = vcf.Reader(open(VCF_FN, 'rb')).fetch('PFC10_API_IRAB', 7, 100)\n",
      "samples = inputReader.samples\n",
      "cur_var = inputReader.next()\n",
      "sample_calls = [cur_var.genotype(s) for s in samples]\n",
      "num_alleles = np.size(cur_var.alleles)\n",
      "num_alts = len(cur_var.ALT)\n",
      "qcplus_sample_group = qcplus_sample_groups.keys()[0]\n",
      "ADs = np.array([replaceNoneWithZeros(cur_var.genotype(s).data.__getattribute__(ad_column), num_alleles) for s in samples])\n",
      "ADsThisGroup = ADs[qcplus_sample_groups[qcplus_sample_group], :]"
     ],
     "language": "python",
     "metadata": {},
     "outputs": [],
     "prompt_number": 22
    },
    {
     "cell_type": "code",
     "collapsed": false,
     "input": [
      "cur_var"
     ],
     "language": "python",
     "metadata": {},
     "outputs": [
      {
       "output_type": "pyout",
       "prompt_number": 23,
       "text": [
        "<vcf.model._Record at 0x5a68a10>"
       ]
      }
     ],
     "prompt_number": 23
    },
    {
     "cell_type": "code",
     "collapsed": false,
     "input": [
      "len(ADs)"
     ],
     "language": "python",
     "metadata": {},
     "outputs": [
      {
       "output_type": "pyout",
       "prompt_number": 25,
       "text": [
        "3281"
       ]
      }
     ],
     "prompt_number": 25
    },
    {
     "cell_type": "code",
     "collapsed": false,
     "input": [],
     "language": "python",
     "metadata": {},
     "outputs": []
    }
   ],
   "metadata": {}
  }
 ]
}