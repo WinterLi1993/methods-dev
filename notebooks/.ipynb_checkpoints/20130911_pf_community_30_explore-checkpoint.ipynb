{
 "metadata": {
  "name": ""
 },
 "nbformat": 3,
 "nbformat_minor": 0,
 "worksheets": [
  {
   "cells": [
    {
     "cell_type": "heading",
     "level": 2,
     "metadata": {},
     "source": [
      "Prepare VCF"
     ]
    },
    {
     "cell_type": "code",
     "collapsed": false,
     "input": [
      "import os"
     ],
     "language": "python",
     "metadata": {},
     "outputs": [],
     "prompt_number": 1
    },
    {
     "cell_type": "code",
     "collapsed": false,
     "input": [
      "vcf_fn = '../data/production_files/Pf/3_0/merged_hetuniq_newbiallelic_20130809.vcf.gz'\n",
      "!ls -l {vcf_fn}*"
     ],
     "language": "python",
     "metadata": {},
     "outputs": [
      {
       "output_type": "stream",
       "stream": "stdout",
       "text": [
        "-rw-rw-r-- 1 2761 543 38713217212 Aug  9 17:21 ../data/production_files/Pf/3_0/merged_hetuniq_newbiallelic_20130809.vcf.gz\r\n"
       ]
      }
     ],
     "prompt_number": 2
    },
    {
     "cell_type": "code",
     "collapsed": false,
     "input": [
      "!zcat {vcf_fn} | head -n19"
     ],
     "language": "python",
     "metadata": {},
     "outputs": [
      {
       "output_type": "stream",
       "stream": "stdout",
       "text": [
        "##fileformat=VCFv4.1\r\n",
        "##INFO=<ID=NS,Number=1,Type=Integer,Description=\"Number of Samples With Data\">\r\n",
        "##FORMAT=<ID=GT,Number=1,Type=String,Description=\"Genotype\">\r\n",
        "##FORMAT=<ID=DP,Number=1,Type=Integer,Description=\"Read Depth\">\r\n",
        "##FORMAT=<ID=AD,Number=G,Type=Integer,Description=\"Allelic depths for the ref and alt alleles in the order listed, base-quality filtered\">\r\n",
        "##FORMAT=<ID=DF,Number=G,Type=Integer,Description=\"Allelic depths for the ref and alt alleles in the order listed, forward reads, base-quality filtered\">\r\n",
        "##FORMAT=<ID=DR,Number=G,Type=Integer,Description=\"Allelic depths for the ref and alt alleles in the order listed, reverse reads, base-quality filtered\">\r\n",
        "##INFO=<ID=UQ,Number=1,Type=Integer,Description=\"Uniqueness score for this variant\">\r\n",
        "##INFO=<ID=CODING,Number=0,Type=Flag,Description=\"Mark variants at protein coding positions\">\r\n",
        "##FILTER=<ID=CodingType,Description=\"Using coding SNPs\">\r\n",
        "##FILTER=<ID=Region,Description=\"Limiting to certail regions (chromosomes); excluding M76611, PFC10_API_IRAB\">\r\n",
        "##FILTER=<ID=MinCoverage,Description=\"coding:81641x, noncoding:26431x\">\r\n",
        "##FILTER=<ID=MaxCoverage,Description=\"coding:300910x, noncoding:167431x\">\r\n",
        "##FILTER=<ID=MinAlt,Description=\"SNP fails if the minor allele has not at least 1% in all samples, or more than 10x depth in at least one sample\">\r\n",
        "##FILTER=<ID=triallelic,Description=\"Only non-tetrallelic SNPs allowed; low-coverage tertallelic SNPS may be converted to triallelic, if there are less than 1 with >= 10 x\">\r\n",
        "##FILTER=<ID=Biallelic,Description=\"Only biallelic SNPs allowed; low-coverage tri-allelic SNPS may be converted to biallelic, if there are less than 1 with >= 10 x\">\r\n",
        "##FILTER=<ID=MonoAllelic,Description=\"Fails if little evidence for alternate allele; min coverage=1\">\r\n",
        "##FILTER=<ID=NoAltAllele,Description=\"Fails if little evidence for alternate allele; min coverage=1\">\r\n",
        "##FILTER=<ID=HetUniq,Description=\"SNP fails if it has heterozygous samples(min coverage=1) and a uniqueness score>26\">\r\n",
        "\r\n",
        "gzip: stdout: Broken pipe\r\n"
       ]
      }
     ],
     "prompt_number": 10
    },
    {
     "cell_type": "code",
     "collapsed": false,
     "input": [
      "!tabix -p vcf {vcf_fn}"
     ],
     "language": "python",
     "metadata": {},
     "outputs": [
      {
       "output_type": "stream",
       "stream": "stdout",
       "text": [
        "[tabix] was bgzip used to compress this file? ../data/production_files/Pf/3_0/merged_hetuniq_newbiallelic_20130809.vcf.gz\r\n"
       ]
      }
     ],
     "prompt_number": 11
    },
    {
     "cell_type": "code",
     "collapsed": false,
     "input": [
      "vcf_bgz_fn = '../data/plasmodium/pfalciparum/methods_dev/Pf/3_0/merged_hetuniq_newbiallelic_20130809.vcf.bgz'"
     ],
     "language": "python",
     "metadata": {},
     "outputs": [],
     "prompt_number": 12
    },
    {
     "cell_type": "code",
     "collapsed": false,
     "input": [
      "if not os.path.exists(vcf_bgz_fn):\n",
      "    !zcat {vcf_fn} | bgzip -c > {vcf_bgz_fn}"
     ],
     "language": "python",
     "metadata": {},
     "outputs": [],
     "prompt_number": 13
    },
    {
     "cell_type": "code",
     "collapsed": false,
     "input": [
      "if not os.path.exists(vcf_bgz_fn + '.tbi'):\n",
      "    !tabix -p vcf {vcf_bgz_fn}"
     ],
     "language": "python",
     "metadata": {},
     "outputs": [],
     "prompt_number": 14
    },
    {
     "cell_type": "heading",
     "level": 2,
     "metadata": {},
     "source": [
      "Build arrays"
     ]
    },
    {
     "cell_type": "code",
     "collapsed": false,
     "input": [
      "import vcfnp\n",
      "import numpy as np\n",
      "import sys"
     ],
     "language": "python",
     "metadata": {},
     "outputs": [],
     "prompt_number": 15
    },
    {
     "cell_type": "code",
     "collapsed": false,
     "input": [
      "def build_arrays(vcf_fn, region, samples=None, force=False):\n",
      "    \n",
      "    variants_array_fn = vcf_fn + '.' + region.replace('-:', '_') + '.variants.npy'\n",
      "    if force or not os.path.exists(variants_array_fn):\n",
      "        print >>sys.stderr, 'building', variants_array_fn\n",
      "        V = vcfnp.variants(vcf_fn, region=region, progress=20000)\n",
      "        np.save(variants_array_fn, V)\n",
      "    else:\n",
      "        print >>sys.stderr, 'skipping', variants_array_fn \n",
      "        \n",
      "    info_array_fn = vcf_fn + '.' + region.replace('-:', '_') + '.info.npy'\n",
      "    if force or not os.path.exists(info_array_fn):\n",
      "        print >>sys.stderr, 'building', info_array_fn\n",
      "        I = vcfnp.info(vcf_fn, region=region, progress=20000, fields=['NS', 'UQ', 'CODING', 'DP', 'AD'], vcf_types={'DP': 'Integer', 'AD': 'Integer'}, arities={'AD': 2})\n",
      "        np.save(info_array_fn, I)\n",
      "    else:\n",
      "        print >>sys.stderr, 'skipping', info_array_fn \n",
      "        \n",
      "    "
     ],
     "language": "python",
     "metadata": {},
     "outputs": [],
     "prompt_number": 16
    },
    {
     "cell_type": "code",
     "collapsed": false,
     "input": [
      "for chrom in ['Pf3D7_%02d_v3' % i for i in range(1, 15)]:\n",
      "    build_arrays(vcf_bgz_fn, region=chrom)"
     ],
     "language": "python",
     "metadata": {},
     "outputs": [
      {
       "output_type": "stream",
       "stream": "stderr",
       "text": [
        "skipping ../data/plasmodium/pfalciparum/methods_dev/Pf/3_0/merged_hetuniq_newbiallelic_20130809.vcf.bgz.Pf3D7_01_v3.variants.npy\n",
        "skipping ../data/plasmodium/pfalciparum/methods_dev/Pf/3_0/merged_hetuniq_newbiallelic_20130809.vcf.bgz.Pf3D7_01_v3.info.npy\n",
        "skipping ../data/plasmodium/pfalciparum/methods_dev/Pf/3_0/merged_hetuniq_newbiallelic_20130809.vcf.bgz.Pf3D7_02_v3.variants.npy\n",
        "skipping ../data/plasmodium/pfalciparum/methods_dev/Pf/3_0/merged_hetuniq_newbiallelic_20130809.vcf.bgz.Pf3D7_02_v3.info.npy\n",
        "skipping ../data/plasmodium/pfalciparum/methods_dev/Pf/3_0/merged_hetuniq_newbiallelic_20130809.vcf.bgz.Pf3D7_03_v3.variants.npy\n",
        "skipping ../data/plasmodium/pfalciparum/methods_dev/Pf/3_0/merged_hetuniq_newbiallelic_20130809.vcf.bgz.Pf3D7_03_v3.info.npy\n",
        "skipping ../data/plasmodium/pfalciparum/methods_dev/Pf/3_0/merged_hetuniq_newbiallelic_20130809.vcf.bgz.Pf3D7_04_v3.variants.npy\n",
        "skipping ../data/plasmodium/pfalciparum/methods_dev/Pf/3_0/merged_hetuniq_newbiallelic_20130809.vcf.bgz.Pf3D7_04_v3.info.npy\n",
        "skipping ../data/plasmodium/pfalciparum/methods_dev/Pf/3_0/merged_hetuniq_newbiallelic_20130809.vcf.bgz.Pf3D7_05_v3.variants.npy\n",
        "skipping ../data/plasmodium/pfalciparum/methods_dev/Pf/3_0/merged_hetuniq_newbiallelic_20130809.vcf.bgz.Pf3D7_05_v3.info.npy\n",
        "skipping ../data/plasmodium/pfalciparum/methods_dev/Pf/3_0/merged_hetuniq_newbiallelic_20130809.vcf.bgz.Pf3D7_06_v3.variants.npy\n",
        "skipping ../data/plasmodium/pfalciparum/methods_dev/Pf/3_0/merged_hetuniq_newbiallelic_20130809.vcf.bgz.Pf3D7_06_v3.info.npy\n",
        "skipping ../data/plasmodium/pfalciparum/methods_dev/Pf/3_0/merged_hetuniq_newbiallelic_20130809.vcf.bgz.Pf3D7_07_v3.variants.npy\n",
        "building ../data/plasmodium/pfalciparum/methods_dev/Pf/3_0/merged_hetuniq_newbiallelic_20130809.vcf.bgz.Pf3D7_07_v3.info.npy\n",
        "WARNING: no definition found for field DP\n",
        "WARNING: no definition found for field AD\n",
        "20000 rows in 31.81s; batch in 31.81s (628 rows/s)"
       ]
      },
      {
       "output_type": "stream",
       "stream": "stderr",
       "text": [
        "\n",
        "40000 rows in 64.56s; batch in 32.74s (610 rows/s)"
       ]
      },
      {
       "output_type": "stream",
       "stream": "stderr",
       "text": [
        "\n",
        "60000 rows in 97.77s; batch in 33.22s (602 rows/s)"
       ]
      },
      {
       "output_type": "stream",
       "stream": "stderr",
       "text": [
        "\n",
        "80000 rows in 130.28s; batch in 32.51s (615 rows/s)"
       ]
      },
      {
       "output_type": "stream",
       "stream": "stderr",
       "text": [
        "\n",
        "100000 rows in 160.80s; batch in 30.52s (655 rows/s)"
       ]
      },
      {
       "output_type": "stream",
       "stream": "stderr",
       "text": [
        "\n",
        "120000 rows in 192.64s; batch in 31.84s (628 rows/s)"
       ]
      },
      {
       "output_type": "stream",
       "stream": "stderr",
       "text": [
        "\n",
        "140000 rows in 225.94s; batch in 33.30s (600 rows/s)"
       ]
      },
      {
       "output_type": "stream",
       "stream": "stderr",
       "text": [
        "\n",
        "160000 rows in 259.43s; batch in 33.49s (597 rows/s)"
       ]
      },
      {
       "output_type": "stream",
       "stream": "stderr",
       "text": [
        "\n",
        "180000 rows in 293.30s; batch in 33.87s (590 rows/s)"
       ]
      },
      {
       "output_type": "stream",
       "stream": "stderr",
       "text": [
        "\n",
        "200000 rows in 327.15s; batch in 33.85s (590 rows/s)"
       ]
      },
      {
       "output_type": "stream",
       "stream": "stderr",
       "text": [
        "\n",
        "220000 rows in 358.96s; batch in 31.80s (628 rows/s)"
       ]
      },
      {
       "output_type": "stream",
       "stream": "stderr",
       "text": [
        "\n",
        "222810 rows in 363.85s (612 rows/s)"
       ]
      },
      {
       "output_type": "stream",
       "stream": "stderr",
       "text": [
        "\n",
        "building"
       ]
      },
      {
       "output_type": "stream",
       "stream": "stderr",
       "text": [
        " ../data/plasmodium/pfalciparum/methods_dev/Pf/3_0/merged_hetuniq_newbiallelic_20130809.vcf.bgz.Pf3D7_08_v3.variants.npy\n",
        "20000 rows in 31.95s; batch in 31.95s (625 rows/s)"
       ]
      },
      {
       "output_type": "stream",
       "stream": "stderr",
       "text": [
        "\n",
        "40000 rows in 64.58s; batch in 32.62s (613 rows/s)"
       ]
      },
      {
       "output_type": "stream",
       "stream": "stderr",
       "text": [
        "\n",
        "60000 rows in 97.98s; batch in 33.40s (598 rows/s)"
       ]
      },
      {
       "output_type": "stream",
       "stream": "stderr",
       "text": [
        "\n",
        "80000 rows in 129.48s; batch in 31.50s (634 rows/s)"
       ]
      },
      {
       "output_type": "stream",
       "stream": "stderr",
       "text": [
        "\n",
        "100000 rows in 161.83s; batch in 32.35s (618 rows/s)"
       ]
      },
      {
       "output_type": "stream",
       "stream": "stderr",
       "text": [
        "\n",
        "120000 rows in 194.40s; batch in 32.57s (614 rows/s)"
       ]
      },
      {
       "output_type": "stream",
       "stream": "stderr",
       "text": [
        "\n",
        "140000 rows in 227.00s; batch in 32.60s (613 rows/s)"
       ]
      },
      {
       "output_type": "stream",
       "stream": "stderr",
       "text": [
        "\n",
        "160000 rows in 260.60s; batch in 33.60s (595 rows/s)"
       ]
      },
      {
       "output_type": "stream",
       "stream": "stderr",
       "text": [
        "\n",
        "180000 rows in 294.17s; batch in 33.57s (595 rows/s)"
       ]
      },
      {
       "output_type": "stream",
       "stream": "stderr",
       "text": [
        "\n",
        "200000 rows in 326.75s; batch in 32.57s (614 rows/s)"
       ]
      },
      {
       "output_type": "stream",
       "stream": "stderr",
       "text": [
        "\n",
        "220000 rows in 359.16s; batch in 32.42s (616 rows/s)"
       ]
      },
      {
       "output_type": "stream",
       "stream": "stderr",
       "text": [
        "\n",
        "224143 rows in 366.27s (611 rows/s)"
       ]
      },
      {
       "output_type": "stream",
       "stream": "stderr",
       "text": [
        "\n",
        "building"
       ]
      },
      {
       "output_type": "stream",
       "stream": "stderr",
       "text": [
        " ../data/plasmodium/pfalciparum/methods_dev/Pf/3_0/merged_hetuniq_newbiallelic_20130809.vcf.bgz.Pf3D7_08_v3.info.npy\n",
        "WARNING: no definition found for field DP\n",
        "WARNING: no definition found for field AD\n",
        "20000 rows in 32.27s; batch in 32.27s (619 rows/s)"
       ]
      },
      {
       "output_type": "stream",
       "stream": "stderr",
       "text": [
        "\n",
        "40000 rows in 64.85s; batch in 32.58s (613 rows/s)"
       ]
      },
      {
       "output_type": "stream",
       "stream": "stderr",
       "text": [
        "\n",
        "60000 rows in 98.43s; batch in 33.58s (595 rows/s)"
       ]
      },
      {
       "output_type": "stream",
       "stream": "stderr",
       "text": [
        "\n",
        "80000 rows in 130.20s; batch in 31.76s (629 rows/s)"
       ]
      },
      {
       "output_type": "stream",
       "stream": "stderr",
       "text": [
        "\n",
        "100000 rows in 163.02s; batch in 32.82s (609 rows/s)"
       ]
      },
      {
       "output_type": "stream",
       "stream": "stderr",
       "text": [
        "\n",
        "120000 rows in 196.01s; batch in 32.99s (606 rows/s)"
       ]
      },
      {
       "output_type": "stream",
       "stream": "stderr",
       "text": [
        "\n",
        "140000 rows in 229.02s; batch in 33.01s (605 rows/s)"
       ]
      },
      {
       "output_type": "stream",
       "stream": "stderr",
       "text": [
        "\n",
        "160000 rows in 262.66s; batch in 33.63s (594 rows/s)"
       ]
      },
      {
       "output_type": "stream",
       "stream": "stderr",
       "text": [
        "\n",
        "180000 rows in 296.50s; batch in 33.84s (590 rows/s)"
       ]
      },
      {
       "output_type": "stream",
       "stream": "stderr",
       "text": [
        "\n",
        "200000 rows in 328.84s; batch in 32.34s (618 rows/s)"
       ]
      },
      {
       "output_type": "stream",
       "stream": "stderr",
       "text": [
        "\n",
        "220000 rows in 361.16s; batch in 32.32s (618 rows/s)"
       ]
      },
      {
       "output_type": "stream",
       "stream": "stderr",
       "text": [
        "\n",
        "224143 rows in 368.26s (608 rows/s)"
       ]
      },
      {
       "output_type": "stream",
       "stream": "stderr",
       "text": [
        "\n",
        "building"
       ]
      },
      {
       "output_type": "stream",
       "stream": "stderr",
       "text": [
        " ../data/plasmodium/pfalciparum/methods_dev/Pf/3_0/merged_hetuniq_newbiallelic_20130809.vcf.bgz.Pf3D7_09_v3.variants.npy\n",
        "20000 rows in 32.50s; batch in 32.50s (615 rows/s)"
       ]
      },
      {
       "output_type": "stream",
       "stream": "stderr",
       "text": [
        "\n",
        "40000 rows in 64.51s; batch in 32.01s (624 rows/s)"
       ]
      },
      {
       "output_type": "stream",
       "stream": "stderr",
       "text": [
        "\n",
        "60000 rows in 98.03s; batch in 33.52s (596 rows/s)"
       ]
      },
      {
       "output_type": "stream",
       "stream": "stderr",
       "text": [
        "\n",
        "80000 rows in 130.78s; batch in 32.75s (610 rows/s)"
       ]
      },
      {
       "output_type": "stream",
       "stream": "stderr",
       "text": [
        "\n",
        "100000 rows in 163.88s; batch in 33.10s (604 rows/s)"
       ]
      },
      {
       "output_type": "stream",
       "stream": "stderr",
       "text": [
        "\n",
        "120000 rows in 196.79s; batch in 32.91s (607 rows/s)"
       ]
      },
      {
       "output_type": "stream",
       "stream": "stderr",
       "text": [
        "\n",
        "140000 rows in 230.16s; batch in 33.37s (599 rows/s)"
       ]
      },
      {
       "output_type": "stream",
       "stream": "stderr",
       "text": [
        "\n",
        "160000 rows in 263.47s; batch in 33.31s (600 rows/s)"
       ]
      },
      {
       "output_type": "stream",
       "stream": "stderr",
       "text": [
        "\n",
        "180000 rows in 296.52s; batch in 33.06s (605 rows/s)"
       ]
      },
      {
       "output_type": "stream",
       "stream": "stderr",
       "text": [
        "\n",
        "200000 rows in 328.85s; batch in 32.33s (618 rows/s)"
       ]
      },
      {
       "output_type": "stream",
       "stream": "stderr",
       "text": [
        "\n",
        "220000 rows in 360.88s; batch in 32.03s (624 rows/s)"
       ]
      },
      {
       "output_type": "stream",
       "stream": "stderr",
       "text": [
        "\n",
        "238468 rows in 392.82s (607 rows/s)"
       ]
      },
      {
       "output_type": "stream",
       "stream": "stderr",
       "text": [
        "\n",
        "building"
       ]
      },
      {
       "output_type": "stream",
       "stream": "stderr",
       "text": [
        " ../data/plasmodium/pfalciparum/methods_dev/Pf/3_0/merged_hetuniq_newbiallelic_20130809.vcf.bgz.Pf3D7_09_v3.info.npy\n",
        "WARNING: no definition found for field DP\n",
        "WARNING: no definition found for field AD\n",
        "20000 rows in 32.35s; batch in 32.35s (618 rows/s)"
       ]
      },
      {
       "output_type": "stream",
       "stream": "stderr",
       "text": [
        "\n",
        "40000 rows in 64.56s; batch in 32.20s (621 rows/s)"
       ]
      },
      {
       "output_type": "stream",
       "stream": "stderr",
       "text": [
        "\n",
        "60000 rows in 98.46s; batch in 33.91s (589 rows/s)"
       ]
      },
      {
       "output_type": "stream",
       "stream": "stderr",
       "text": [
        "\n",
        "80000 rows in 131.18s; batch in 32.72s (611 rows/s)"
       ]
      },
      {
       "output_type": "stream",
       "stream": "stderr",
       "text": [
        "\n",
        "100000 rows in 164.28s; batch in 33.10s (604 rows/s)"
       ]
      },
      {
       "output_type": "stream",
       "stream": "stderr",
       "text": [
        "\n",
        "120000 rows in 197.04s; batch in 32.77s (610 rows/s)"
       ]
      },
      {
       "output_type": "stream",
       "stream": "stderr",
       "text": [
        "\n",
        "140000 rows in 230.02s; batch in 32.98s (606 rows/s)"
       ]
      },
      {
       "output_type": "stream",
       "stream": "stderr",
       "text": [
        "\n",
        "160000 rows in 262.95s; batch in 32.93s (607 rows/s)"
       ]
      },
      {
       "output_type": "stream",
       "stream": "stderr",
       "text": [
        "\n",
        "180000 rows in 295.75s; batch in 32.80s (609 rows/s)"
       ]
      },
      {
       "output_type": "stream",
       "stream": "stderr",
       "text": [
        "\n",
        "200000 rows in 327.95s; batch in 32.20s (621 rows/s)"
       ]
      },
      {
       "output_type": "stream",
       "stream": "stderr",
       "text": [
        "\n",
        "220000 rows in 359.43s; batch in 31.48s (635 rows/s)"
       ]
      },
      {
       "output_type": "stream",
       "stream": "stderr",
       "text": [
        "\n",
        "238468 rows in 390.74s (610 rows/s)"
       ]
      },
      {
       "output_type": "stream",
       "stream": "stderr",
       "text": [
        "\n",
        "building"
       ]
      },
      {
       "output_type": "stream",
       "stream": "stderr",
       "text": [
        " ../data/plasmodium/pfalciparum/methods_dev/Pf/3_0/merged_hetuniq_newbiallelic_20130809.vcf.bgz.Pf3D7_10_v3.variants.npy\n",
        "20000 rows in 32.76s; batch in 32.76s (610 rows/s)"
       ]
      },
      {
       "output_type": "stream",
       "stream": "stderr",
       "text": [
        "\n",
        "40000 rows in 65.30s; batch in 32.54s (614 rows/s)"
       ]
      },
      {
       "output_type": "stream",
       "stream": "stderr",
       "text": [
        "\n",
        "60000 rows in 97.95s; batch in 32.66s (612 rows/s)"
       ]
      },
      {
       "output_type": "stream",
       "stream": "stderr",
       "text": [
        "\n",
        "80000 rows in 130.82s; batch in 32.87s (608 rows/s)"
       ]
      },
      {
       "output_type": "stream",
       "stream": "stderr",
       "text": [
        "\n",
        "100000 rows in 164.15s; batch in 33.33s (600 rows/s)"
       ]
      },
      {
       "output_type": "stream",
       "stream": "stderr",
       "text": [
        "\n",
        "120000 rows in 197.45s; batch in 33.30s (600 rows/s)"
       ]
      },
      {
       "output_type": "stream",
       "stream": "stderr",
       "text": [
        "\n",
        "140000 rows in 230.76s; batch in 33.32s (600 rows/s)"
       ]
      },
      {
       "output_type": "stream",
       "stream": "stderr",
       "text": [
        "\n",
        "160000 rows in 263.61s; batch in 32.85s (608 rows/s)"
       ]
      },
      {
       "output_type": "stream",
       "stream": "stderr",
       "text": [
        "\n",
        "180000 rows in 296.28s; batch in 32.67s (612 rows/s)"
       ]
      },
      {
       "output_type": "stream",
       "stream": "stderr",
       "text": [
        "\n",
        "200000 rows in 329.34s; batch in 33.07s (604 rows/s)"
       ]
      },
      {
       "output_type": "stream",
       "stream": "stderr",
       "text": [
        "\n",
        "220000 rows in 363.76s; batch in 34.41s (581 rows/s)"
       ]
      },
      {
       "output_type": "stream",
       "stream": "stderr",
       "text": [
        "\n",
        "240000 rows in 394.35s; batch in 30.60s (653 rows/s)"
       ]
      },
      {
       "output_type": "stream",
       "stream": "stderr",
       "text": [
        "\n",
        "256752 rows in 422.31s (607 rows/s)"
       ]
      },
      {
       "output_type": "stream",
       "stream": "stderr",
       "text": [
        "\n",
        "building"
       ]
      },
      {
       "output_type": "stream",
       "stream": "stderr",
       "text": [
        " ../data/plasmodium/pfalciparum/methods_dev/Pf/3_0/merged_hetuniq_newbiallelic_20130809.vcf.bgz.Pf3D7_10_v3.info.npy\n",
        "WARNING: no definition found for field DP\n",
        "WARNING: no definition found for field AD\n",
        "20000 rows in 32.88s; batch in 32.88s (608 rows/s)"
       ]
      },
      {
       "output_type": "stream",
       "stream": "stderr",
       "text": [
        "\n",
        "40000 rows in 65.55s; batch in 32.67s (612 rows/s)"
       ]
      },
      {
       "output_type": "stream",
       "stream": "stderr",
       "text": [
        "\n",
        "60000 rows in 98.26s; batch in 32.71s (611 rows/s)"
       ]
      },
      {
       "output_type": "stream",
       "stream": "stderr",
       "text": [
        "\n",
        "80000 rows in 131.16s; batch in 32.90s (607 rows/s)"
       ]
      },
      {
       "output_type": "stream",
       "stream": "stderr",
       "text": [
        "\n",
        "100000 rows in 164.66s; batch in 33.51s (596 rows/s)"
       ]
      },
      {
       "output_type": "stream",
       "stream": "stderr",
       "text": [
        "\n",
        "120000 rows in 197.89s; batch in 33.23s (601 rows/s)"
       ]
      },
      {
       "output_type": "stream",
       "stream": "stderr",
       "text": [
        "\n",
        "140000 rows in 231.54s; batch in 33.65s (594 rows/s)"
       ]
      },
      {
       "output_type": "stream",
       "stream": "stderr",
       "text": [
        "\n",
        "160000 rows in 264.79s; batch in 33.25s (601 rows/s)"
       ]
      },
      {
       "output_type": "stream",
       "stream": "stderr",
       "text": [
        "\n",
        "180000 rows in 297.92s; batch in 33.14s (603 rows/s)"
       ]
      },
      {
       "output_type": "stream",
       "stream": "stderr",
       "text": [
        "\n",
        "200000 rows in 331.29s; batch in 33.37s (599 rows/s)"
       ]
      },
      {
       "output_type": "stream",
       "stream": "stderr",
       "text": [
        "\n",
        "220000 rows in 365.93s; batch in 34.63s (577 rows/s)"
       ]
      },
      {
       "output_type": "stream",
       "stream": "stderr",
       "text": [
        "\n",
        "240000 rows in 396.47s; batch in 30.55s (654 rows/s)"
       ]
      },
      {
       "output_type": "stream",
       "stream": "stderr",
       "text": [
        "\n",
        "256752 rows in 424.59s (604 rows/s)"
       ]
      },
      {
       "output_type": "stream",
       "stream": "stderr",
       "text": [
        "\n",
        "building"
       ]
      },
      {
       "output_type": "stream",
       "stream": "stderr",
       "text": [
        " ../data/plasmodium/pfalciparum/methods_dev/Pf/3_0/merged_hetuniq_newbiallelic_20130809.vcf.bgz.Pf3D7_11_v3.variants.npy\n",
        "20000 rows in 32.36s; batch in 32.36s (618 rows/s)"
       ]
      },
      {
       "output_type": "stream",
       "stream": "stderr",
       "text": [
        "\n",
        "40000 rows in 63.63s; batch in 31.27s (639 rows/s)"
       ]
      },
      {
       "output_type": "stream",
       "stream": "stderr",
       "text": [
        "\n",
        "60000 rows in 96.55s; batch in 32.92s (607 rows/s)"
       ]
      },
      {
       "output_type": "stream",
       "stream": "stderr",
       "text": [
        "\n",
        "80000 rows in 129.48s; batch in 32.93s (607 rows/s)"
       ]
      },
      {
       "output_type": "stream",
       "stream": "stderr",
       "text": [
        "\n",
        "100000 rows in 162.62s; batch in 33.14s (603 rows/s)"
       ]
      },
      {
       "output_type": "stream",
       "stream": "stderr",
       "text": [
        "\n",
        "120000 rows in 195.56s; batch in 32.93s (607 rows/s)"
       ]
      },
      {
       "output_type": "stream",
       "stream": "stderr",
       "text": [
        "\n",
        "140000 rows in 228.47s; batch in 32.91s (607 rows/s)"
       ]
      },
      {
       "output_type": "stream",
       "stream": "stderr",
       "text": [
        "\n",
        "160000 rows in 261.16s; batch in 32.69s (611 rows/s)"
       ]
      },
      {
       "output_type": "stream",
       "stream": "stderr",
       "text": [
        "\n",
        "180000 rows in 294.53s; batch in 33.36s (599 rows/s)"
       ]
      },
      {
       "output_type": "stream",
       "stream": "stderr",
       "text": [
        "\n",
        "200000 rows in 328.05s; batch in 33.53s (596 rows/s)"
       ]
      },
      {
       "output_type": "stream",
       "stream": "stderr",
       "text": [
        "\n",
        "220000 rows in 361.87s; batch in 33.82s (591 rows/s)"
       ]
      },
      {
       "output_type": "stream",
       "stream": "stderr",
       "text": [
        "\n",
        "240000 rows in 395.16s; batch in 33.30s (600 rows/s)"
       ]
      },
      {
       "output_type": "stream",
       "stream": "stderr",
       "text": [
        "\n",
        "260000 rows in 428.95s; batch in 33.79s (591 rows/s)"
       ]
      },
      {
       "output_type": "stream",
       "stream": "stderr",
       "text": [
        "\n",
        "280000 rows in 460.83s; batch in 31.88s (627 rows/s)"
       ]
      },
      {
       "output_type": "stream",
       "stream": "stderr",
       "text": [
        "\n",
        "282118 rows in 464.17s (607 rows/s)"
       ]
      },
      {
       "output_type": "stream",
       "stream": "stderr",
       "text": [
        "\n",
        "building"
       ]
      },
      {
       "output_type": "stream",
       "stream": "stderr",
       "text": [
        " ../data/plasmodium/pfalciparum/methods_dev/Pf/3_0/merged_hetuniq_newbiallelic_20130809.vcf.bgz.Pf3D7_11_v3.info.npy\n",
        "WARNING: no definition found for field DP\n",
        "WARNING: no definition found for field AD\n",
        "20000 rows in 32.49s; batch in 32.49s (615 rows/s)"
       ]
      },
      {
       "output_type": "stream",
       "stream": "stderr",
       "text": [
        "\n",
        "40000 rows in 64.04s; batch in 31.56s (633 rows/s)"
       ]
      },
      {
       "output_type": "stream",
       "stream": "stderr",
       "text": [
        "\n",
        "60000 rows in 96.99s; batch in 32.95s (606 rows/s)"
       ]
      },
      {
       "output_type": "stream",
       "stream": "stderr",
       "text": [
        "\n",
        "80000 rows in 130.11s; batch in 33.12s (603 rows/s)"
       ]
      },
      {
       "output_type": "stream",
       "stream": "stderr",
       "text": [
        "\n",
        "100000 rows in 163.18s; batch in 33.07s (604 rows/s)"
       ]
      },
      {
       "output_type": "stream",
       "stream": "stderr",
       "text": [
        "\n",
        "120000 rows in 196.02s; batch in 32.84s (608 rows/s)"
       ]
      },
      {
       "output_type": "stream",
       "stream": "stderr",
       "text": [
        "\n",
        "140000 rows in 228.91s; batch in 32.88s (608 rows/s)"
       ]
      },
      {
       "output_type": "stream",
       "stream": "stderr",
       "text": [
        "\n",
        "160000 rows in 261.48s; batch in 32.57s (614 rows/s)"
       ]
      },
      {
       "output_type": "stream",
       "stream": "stderr",
       "text": [
        "\n",
        "180000 rows in 294.54s; batch in 33.06s (604 rows/s)"
       ]
      },
      {
       "output_type": "stream",
       "stream": "stderr",
       "text": [
        "\n",
        "200000 rows in 327.78s; batch in 33.24s (601 rows/s)"
       ]
      },
      {
       "output_type": "stream",
       "stream": "stderr",
       "text": [
        "\n",
        "220000 rows in 361.22s; batch in 33.44s (598 rows/s)"
       ]
      },
      {
       "output_type": "stream",
       "stream": "stderr",
       "text": [
        "\n",
        "240000 rows in 394.10s; batch in 32.89s (608 rows/s)"
       ]
      },
      {
       "output_type": "stream",
       "stream": "stderr",
       "text": [
        "\n",
        "260000 rows in 427.38s; batch in 33.28s (600 rows/s)"
       ]
      },
      {
       "output_type": "stream",
       "stream": "stderr",
       "text": [
        "\n",
        "280000 rows in 459.09s; batch in 31.71s (630 rows/s)"
       ]
      },
      {
       "output_type": "stream",
       "stream": "stderr",
       "text": [
        "\n",
        "282118 rows in 462.37s (610 rows/s)"
       ]
      },
      {
       "output_type": "stream",
       "stream": "stderr",
       "text": [
        "\n",
        "building"
       ]
      },
      {
       "output_type": "stream",
       "stream": "stderr",
       "text": [
        " ../data/plasmodium/pfalciparum/methods_dev/Pf/3_0/merged_hetuniq_newbiallelic_20130809.vcf.bgz.Pf3D7_12_v3.variants.npy\n",
        "20000 rows in 31.79s; batch in 31.79s (629 rows/s)"
       ]
      },
      {
       "output_type": "stream",
       "stream": "stderr",
       "text": [
        "\n",
        "40000 rows in 64.57s; batch in 32.78s (610 rows/s)"
       ]
      },
      {
       "output_type": "stream",
       "stream": "stderr",
       "text": [
        "\n",
        "60000 rows in 97.57s; batch in 33.00s (605 rows/s)"
       ]
      },
      {
       "output_type": "stream",
       "stream": "stderr",
       "text": [
        "\n",
        "80000 rows in 130.93s; batch in 33.36s (599 rows/s)"
       ]
      },
      {
       "output_type": "stream",
       "stream": "stderr",
       "text": [
        "\n",
        "100000 rows in 163.58s; batch in 32.64s (612 rows/s)"
       ]
      },
      {
       "output_type": "stream",
       "stream": "stderr",
       "text": [
        "\n",
        "120000 rows in 196.10s; batch in 32.52s (614 rows/s)"
       ]
      },
      {
       "output_type": "stream",
       "stream": "stderr",
       "text": [
        "\n",
        "140000 rows in 229.26s; batch in 33.16s (603 rows/s)"
       ]
      },
      {
       "output_type": "stream",
       "stream": "stderr",
       "text": [
        "\n",
        "160000 rows in 262.40s; batch in 33.14s (603 rows/s)"
       ]
      },
      {
       "output_type": "stream",
       "stream": "stderr",
       "text": [
        "\n",
        "180000 rows in 294.91s; batch in 32.51s (615 rows/s)"
       ]
      },
      {
       "output_type": "stream",
       "stream": "stderr",
       "text": [
        "\n",
        "200000 rows in 328.09s; batch in 33.18s (602 rows/s)"
       ]
      },
      {
       "output_type": "stream",
       "stream": "stderr",
       "text": [
        "\n",
        "220000 rows in 360.75s; batch in 32.66s (612 rows/s)"
       ]
      },
      {
       "output_type": "stream",
       "stream": "stderr",
       "text": [
        "\n",
        "240000 rows in 391.43s; batch in 30.68s (651 rows/s)"
       ]
      },
      {
       "output_type": "stream",
       "stream": "stderr",
       "text": [
        "\n",
        "260000 rows in 424.15s; batch in 32.72s (611 rows/s)"
       ]
      },
      {
       "output_type": "stream",
       "stream": "stderr",
       "text": [
        "\n",
        "280000 rows in 456.91s; batch in 32.77s (610 rows/s)"
       ]
      },
      {
       "output_type": "stream",
       "stream": "stderr",
       "text": [
        "\n",
        "300000 rows in 488.42s; batch in 31.51s (634 rows/s)"
       ]
      },
      {
       "output_type": "stream",
       "stream": "stderr",
       "text": [
        "\n",
        "320000 rows in 520.03s; batch in 31.61s (632 rows/s)"
       ]
      },
      {
       "output_type": "stream",
       "stream": "stderr",
       "text": [
        "\n",
        "322441 rows in 524.21s (615 rows/s)"
       ]
      },
      {
       "output_type": "stream",
       "stream": "stderr",
       "text": [
        "\n",
        "building"
       ]
      },
      {
       "output_type": "stream",
       "stream": "stderr",
       "text": [
        " ../data/plasmodium/pfalciparum/methods_dev/Pf/3_0/merged_hetuniq_newbiallelic_20130809.vcf.bgz.Pf3D7_12_v3.info.npy\n",
        "WARNING: no definition found for field DP\n",
        "WARNING: no definition found for field AD\n",
        "20000 rows in 31.75s; batch in 31.75s (629 rows/s)"
       ]
      },
      {
       "output_type": "stream",
       "stream": "stderr",
       "text": [
        "\n",
        "40000 rows in 64.91s; batch in 33.16s (603 rows/s)"
       ]
      },
      {
       "output_type": "stream",
       "stream": "stderr",
       "text": [
        "\n",
        "60000 rows in 98.03s; batch in 33.12s (603 rows/s)"
       ]
      },
      {
       "output_type": "stream",
       "stream": "stderr",
       "text": [
        "\n",
        "80000 rows in 131.81s; batch in 33.78s (592 rows/s)"
       ]
      },
      {
       "output_type": "stream",
       "stream": "stderr",
       "text": [
        "\n",
        "100000 rows in 164.56s; batch in 32.75s (610 rows/s)"
       ]
      },
      {
       "output_type": "stream",
       "stream": "stderr",
       "text": [
        "\n",
        "120000 rows in 197.20s; batch in 32.64s (612 rows/s)"
       ]
      },
      {
       "output_type": "stream",
       "stream": "stderr",
       "text": [
        "\n",
        "140000 rows in 230.54s; batch in 33.35s (599 rows/s)"
       ]
      },
      {
       "output_type": "stream",
       "stream": "stderr",
       "text": [
        "\n",
        "160000 rows in 264.56s; batch in 34.01s (588 rows/s)"
       ]
      },
      {
       "output_type": "stream",
       "stream": "stderr",
       "text": [
        "\n",
        "180000 rows in 297.67s; batch in 33.12s (603 rows/s)"
       ]
      },
      {
       "output_type": "stream",
       "stream": "stderr",
       "text": [
        "\n",
        "200000 rows in 331.45s; batch in 33.78s (592 rows/s)"
       ]
      },
      {
       "output_type": "stream",
       "stream": "stderr",
       "text": [
        "\n",
        "220000 rows in 364.64s; batch in 33.19s (602 rows/s)"
       ]
      },
      {
       "output_type": "stream",
       "stream": "stderr",
       "text": [
        "\n",
        "240000 rows in 395.74s; batch in 31.10s (643 rows/s)"
       ]
      },
      {
       "output_type": "stream",
       "stream": "stderr",
       "text": [
        "\n",
        "260000 rows in 429.07s; batch in 33.33s (600 rows/s)"
       ]
      },
      {
       "output_type": "stream",
       "stream": "stderr",
       "text": [
        "\n",
        "280000 rows in 462.33s; batch in 33.26s (601 rows/s)"
       ]
      },
      {
       "output_type": "stream",
       "stream": "stderr",
       "text": [
        "\n",
        "300000 rows in 494.11s; batch in 31.78s (629 rows/s)"
       ]
      },
      {
       "output_type": "stream",
       "stream": "stderr",
       "text": [
        "\n",
        "320000 rows in 526.03s; batch in 31.92s (626 rows/s)"
       ]
      },
      {
       "output_type": "stream",
       "stream": "stderr",
       "text": [
        "\n",
        "322441 rows in 530.26s (608 rows/s)"
       ]
      },
      {
       "output_type": "stream",
       "stream": "stderr",
       "text": [
        "\n",
        "building"
       ]
      },
      {
       "output_type": "stream",
       "stream": "stderr",
       "text": [
        " ../data/plasmodium/pfalciparum/methods_dev/Pf/3_0/merged_hetuniq_newbiallelic_20130809.vcf.bgz.Pf3D7_13_v3.variants.npy\n",
        "20000 rows in 41.33s; batch in 41.33s (483 rows/s)"
       ]
      },
      {
       "output_type": "stream",
       "stream": "stderr",
       "text": [
        "\n",
        "40000 rows in 94.94s; batch in 53.61s (373 rows/s)"
       ]
      },
      {
       "output_type": "stream",
       "stream": "stderr",
       "text": [
        "\n",
        "60000 rows in 156.07s; batch in 61.13s (327 rows/s)"
       ]
      },
      {
       "output_type": "stream",
       "stream": "stderr",
       "text": [
        "\n",
        "80000 rows in 214.41s; batch in 58.34s (342 rows/s)"
       ]
      },
      {
       "output_type": "stream",
       "stream": "stderr",
       "text": [
        "\n",
        "100000 rows in 271.25s; batch in 56.84s (351 rows/s)"
       ]
      },
      {
       "output_type": "stream",
       "stream": "stderr",
       "text": [
        "\n",
        "120000 rows in 328.63s; batch in 57.38s (348 rows/s)"
       ]
      },
      {
       "output_type": "stream",
       "stream": "stderr",
       "text": [
        "\n",
        "140000 rows in 385.92s; batch in 57.29s (349 rows/s)"
       ]
      },
      {
       "output_type": "stream",
       "stream": "stderr",
       "text": [
        "\n",
        "160000 rows in 441.26s; batch in 55.33s (361 rows/s)"
       ]
      },
      {
       "output_type": "stream",
       "stream": "stderr",
       "text": [
        "\n",
        "180000 rows in 493.81s; batch in 52.56s (380 rows/s)"
       ]
      },
      {
       "output_type": "stream",
       "stream": "stderr",
       "text": [
        "\n",
        "200000 rows in 547.49s; batch in 53.68s (372 rows/s)"
       ]
      },
      {
       "output_type": "stream",
       "stream": "stderr",
       "text": [
        "\n",
        "220000 rows in 597.53s; batch in 50.04s (399 rows/s)"
       ]
      },
      {
       "output_type": "stream",
       "stream": "stderr",
       "text": [
        "\n",
        "240000 rows in 640.15s; batch in 42.62s (469 rows/s)"
       ]
      },
      {
       "output_type": "stream",
       "stream": "stderr",
       "text": [
        "\n",
        "260000 rows in 673.68s; batch in 33.53s (596 rows/s)"
       ]
      },
      {
       "output_type": "stream",
       "stream": "stderr",
       "text": [
        "\n",
        "280000 rows in 706.91s; batch in 33.23s (601 rows/s)"
       ]
      },
      {
       "output_type": "stream",
       "stream": "stderr",
       "text": [
        "\n",
        "300000 rows in 741.38s; batch in 34.47s (580 rows/s)"
       ]
      },
      {
       "output_type": "stream",
       "stream": "stderr",
       "text": [
        "\n",
        "320000 rows in 775.19s; batch in 33.80s (591 rows/s)"
       ]
      },
      {
       "output_type": "stream",
       "stream": "stderr",
       "text": [
        "\n",
        "340000 rows in 808.48s; batch in 33.30s (600 rows/s)"
       ]
      },
      {
       "output_type": "stream",
       "stream": "stderr",
       "text": [
        "\n",
        "360000 rows in 845.63s; batch in 37.15s (538 rows/s)"
       ]
      },
      {
       "output_type": "stream",
       "stream": "stderr",
       "text": [
        "\n",
        "380000 rows in 889.77s; batch in 44.14s (453 rows/s)"
       ]
      },
      {
       "output_type": "stream",
       "stream": "stderr",
       "text": [
        "\n",
        "397539 rows in 930.88s (427 rows/s)"
       ]
      },
      {
       "output_type": "stream",
       "stream": "stderr",
       "text": [
        "\n",
        "building"
       ]
      },
      {
       "output_type": "stream",
       "stream": "stderr",
       "text": [
        " ../data/plasmodium/pfalciparum/methods_dev/Pf/3_0/merged_hetuniq_newbiallelic_20130809.vcf.bgz.Pf3D7_13_v3.info.npy\n",
        "WARNING: no definition found for field DP\n",
        "WARNING: no definition found for field AD\n",
        "20000 rows in 30.17s; batch in 30.17s (662 rows/s)"
       ]
      },
      {
       "output_type": "stream",
       "stream": "stderr",
       "text": [
        "\n",
        "40000 rows in 63.80s; batch in 33.63s (594 rows/s)"
       ]
      },
      {
       "output_type": "stream",
       "stream": "stderr",
       "text": [
        "\n",
        "60000 rows in 97.92s; batch in 34.12s (586 rows/s)"
       ]
      },
      {
       "output_type": "stream",
       "stream": "stderr",
       "text": [
        "\n",
        "80000 rows in 130.97s; batch in 33.05s (605 rows/s)"
       ]
      },
      {
       "output_type": "stream",
       "stream": "stderr",
       "text": [
        "\n",
        "100000 rows in 164.65s; batch in 33.69s (593 rows/s)"
       ]
      },
      {
       "output_type": "stream",
       "stream": "stderr",
       "text": [
        "\n",
        "120000 rows in 198.29s; batch in 33.64s (594 rows/s)"
       ]
      },
      {
       "output_type": "stream",
       "stream": "stderr",
       "text": [
        "\n",
        "140000 rows in 241.89s; batch in 43.60s (458 rows/s)"
       ]
      },
      {
       "output_type": "stream",
       "stream": "stderr",
       "text": [
        "\n",
        "160000 rows in 287.39s; batch in 45.50s (439 rows/s)"
       ]
      },
      {
       "output_type": "stream",
       "stream": "stderr",
       "text": [
        "\n",
        "180000 rows in 335.08s; batch in 47.69s (419 rows/s)"
       ]
      },
      {
       "output_type": "stream",
       "stream": "stderr",
       "text": [
        "\n",
        "200000 rows in 383.53s; batch in 48.46s (412 rows/s)"
       ]
      },
      {
       "output_type": "stream",
       "stream": "stderr",
       "text": [
        "\n",
        "220000 rows in 430.84s; batch in 47.31s (422 rows/s)"
       ]
      },
      {
       "output_type": "stream",
       "stream": "stderr",
       "text": [
        "\n",
        "240000 rows in 466.35s; batch in 35.51s (563 rows/s)"
       ]
      },
      {
       "output_type": "stream",
       "stream": "stderr",
       "text": [
        "\n",
        "260000 rows in 499.66s; batch in 33.31s (600 rows/s)"
       ]
      },
      {
       "output_type": "stream",
       "stream": "stderr",
       "text": [
        "\n",
        "280000 rows in 533.27s; batch in 33.61s (595 rows/s)"
       ]
      },
      {
       "output_type": "stream",
       "stream": "stderr",
       "text": [
        "\n",
        "300000 rows in 566.79s; batch in 33.52s (596 rows/s)"
       ]
      },
      {
       "output_type": "stream",
       "stream": "stderr",
       "text": [
        "\n",
        "320000 rows in 600.09s; batch in 33.30s (600 rows/s)"
       ]
      },
      {
       "output_type": "stream",
       "stream": "stderr",
       "text": [
        "\n",
        "340000 rows in 633.56s; batch in 33.47s (597 rows/s)"
       ]
      },
      {
       "output_type": "stream",
       "stream": "stderr",
       "text": [
        "\n",
        "360000 rows in 666.77s; batch in 33.21s (602 rows/s)"
       ]
      },
      {
       "output_type": "stream",
       "stream": "stderr",
       "text": [
        "\n",
        "380000 rows in 698.31s; batch in 31.54s (634 rows/s)"
       ]
      },
      {
       "output_type": "stream",
       "stream": "stderr",
       "text": [
        "\n",
        "397539 rows in 727.87s (546 rows/s)"
       ]
      },
      {
       "output_type": "stream",
       "stream": "stderr",
       "text": [
        "\n",
        "building"
       ]
      },
      {
       "output_type": "stream",
       "stream": "stderr",
       "text": [
        " ../data/plasmodium/pfalciparum/methods_dev/Pf/3_0/merged_hetuniq_newbiallelic_20130809.vcf.bgz.Pf3D7_14_v3.variants.npy\n",
        "20000 rows in 31.27s; batch in 31.27s (639 rows/s)"
       ]
      },
      {
       "output_type": "stream",
       "stream": "stderr",
       "text": [
        "\n",
        "40000 rows in 64.52s; batch in 33.25s (601 rows/s)"
       ]
      },
      {
       "output_type": "stream",
       "stream": "stderr",
       "text": [
        "\n",
        "60000 rows in 97.34s; batch in 32.82s (609 rows/s)"
       ]
      },
      {
       "output_type": "stream",
       "stream": "stderr",
       "text": [
        "\n",
        "80000 rows in 130.17s; batch in 32.83s (609 rows/s)"
       ]
      },
      {
       "output_type": "stream",
       "stream": "stderr",
       "text": [
        "\n",
        "100000 rows in 163.17s; batch in 33.00s (606 rows/s)"
       ]
      },
      {
       "output_type": "stream",
       "stream": "stderr",
       "text": [
        "\n",
        "120000 rows in 196.24s; batch in 33.07s (604 rows/s)"
       ]
      },
      {
       "output_type": "stream",
       "stream": "stderr",
       "text": [
        "\n",
        "140000 rows in 228.60s; batch in 32.36s (618 rows/s)"
       ]
      },
      {
       "output_type": "stream",
       "stream": "stderr",
       "text": [
        "\n",
        "160000 rows in 261.61s; batch in 33.01s (605 rows/s)"
       ]
      },
      {
       "output_type": "stream",
       "stream": "stderr",
       "text": [
        "\n",
        "180000 rows in 294.88s; batch in 33.27s (601 rows/s)"
       ]
      },
      {
       "output_type": "stream",
       "stream": "stderr",
       "text": [
        "\n",
        "200000 rows in 327.84s; batch in 32.96s (606 rows/s)"
       ]
      },
      {
       "output_type": "stream",
       "stream": "stderr",
       "text": [
        "\n",
        "220000 rows in 360.71s; batch in 32.87s (608 rows/s)"
       ]
      },
      {
       "output_type": "stream",
       "stream": "stderr",
       "text": [
        "\n",
        "240000 rows in 394.54s; batch in 33.83s (591 rows/s)"
       ]
      },
      {
       "output_type": "stream",
       "stream": "stderr",
       "text": [
        "\n",
        "260000 rows in 427.89s; batch in 33.35s (599 rows/s)"
       ]
      },
      {
       "output_type": "stream",
       "stream": "stderr",
       "text": [
        "\n",
        "280000 rows in 460.93s; batch in 33.04s (605 rows/s)"
       ]
      },
      {
       "output_type": "stream",
       "stream": "stderr",
       "text": [
        "\n",
        "300000 rows in 493.93s; batch in 33.00s (606 rows/s)"
       ]
      },
      {
       "output_type": "stream",
       "stream": "stderr",
       "text": [
        "\n",
        "320000 rows in 527.00s; batch in 33.07s (604 rows/s)"
       ]
      },
      {
       "output_type": "stream",
       "stream": "stderr",
       "text": [
        "\n",
        "340000 rows in 560.10s; batch in 33.10s (604 rows/s)"
       ]
      },
      {
       "output_type": "stream",
       "stream": "stderr",
       "text": [
        "\n",
        "360000 rows in 593.43s; batch in 33.33s (600 rows/s)"
       ]
      },
      {
       "output_type": "stream",
       "stream": "stderr",
       "text": [
        "\n",
        "380000 rows in 626.74s; batch in 33.32s (600 rows/s)"
       ]
      },
      {
       "output_type": "stream",
       "stream": "stderr",
       "text": [
        "\n",
        "400000 rows in 660.01s; batch in 33.27s (601 rows/s)"
       ]
      },
      {
       "output_type": "stream",
       "stream": "stderr",
       "text": [
        "\n",
        "420000 rows in 693.05s; batch in 33.04s (605 rows/s)"
       ]
      },
      {
       "output_type": "stream",
       "stream": "stderr",
       "text": [
        "\n",
        "437250 rows in 720.72s (606 rows/s)"
       ]
      },
      {
       "output_type": "stream",
       "stream": "stderr",
       "text": [
        "\n",
        "building"
       ]
      },
      {
       "output_type": "stream",
       "stream": "stderr",
       "text": [
        " ../data/plasmodium/pfalciparum/methods_dev/Pf/3_0/merged_hetuniq_newbiallelic_20130809.vcf.bgz.Pf3D7_14_v3.info.npy\n",
        "WARNING: no definition found for field DP\n",
        "WARNING: no definition found for field AD\n",
        "20000 rows in 31.06s; batch in 31.06s (643 rows/s)"
       ]
      },
      {
       "output_type": "stream",
       "stream": "stderr",
       "text": [
        "\n",
        "40000 rows in 64.19s; batch in 33.13s (603 rows/s)"
       ]
      },
      {
       "output_type": "stream",
       "stream": "stderr",
       "text": [
        "\n",
        "60000 rows in 97.16s; batch in 32.96s (606 rows/s)"
       ]
      },
      {
       "output_type": "stream",
       "stream": "stderr",
       "text": [
        "\n",
        "80000 rows in 130.29s; batch in 33.13s (603 rows/s)"
       ]
      },
      {
       "output_type": "stream",
       "stream": "stderr",
       "text": [
        "\n",
        "100000 rows in 163.41s; batch in 33.13s (603 rows/s)"
       ]
      },
      {
       "output_type": "stream",
       "stream": "stderr",
       "text": [
        "\n",
        "120000 rows in 196.63s; batch in 33.21s (602 rows/s)"
       ]
      },
      {
       "output_type": "stream",
       "stream": "stderr",
       "text": [
        "\n",
        "140000 rows in 229.11s; batch in 32.49s (615 rows/s)"
       ]
      },
      {
       "output_type": "stream",
       "stream": "stderr",
       "text": [
        "\n",
        "160000 rows in 263.00s; batch in 33.88s (590 rows/s)"
       ]
      },
      {
       "output_type": "stream",
       "stream": "stderr",
       "text": [
        "\n",
        "180000 rows in 309.05s; batch in 46.05s (434 rows/s)"
       ]
      },
      {
       "output_type": "stream",
       "stream": "stderr",
       "text": [
        "\n",
        "200000 rows in 357.24s; batch in 48.19s (415 rows/s)"
       ]
      },
      {
       "output_type": "stream",
       "stream": "stderr",
       "text": [
        "\n",
        "220000 rows in 402.13s; batch in 44.89s (445 rows/s)"
       ]
      },
      {
       "output_type": "stream",
       "stream": "stderr",
       "text": [
        "\n",
        "240000 rows in 447.38s; batch in 45.25s (441 rows/s)"
       ]
      },
      {
       "output_type": "stream",
       "stream": "stderr",
       "text": [
        "\n",
        "260000 rows in 489.70s; batch in 42.32s (472 rows/s)"
       ]
      },
      {
       "output_type": "stream",
       "stream": "stderr",
       "text": [
        "\n",
        "280000 rows in 534.19s; batch in 44.49s (449 rows/s)"
       ]
      },
      {
       "output_type": "stream",
       "stream": "stderr",
       "text": [
        "\n",
        "300000 rows in 570.55s; batch in 36.36s (550 rows/s)"
       ]
      },
      {
       "output_type": "stream",
       "stream": "stderr",
       "text": [
        "\n",
        "320000 rows in 603.77s; batch in 33.22s (602 rows/s)"
       ]
      },
      {
       "output_type": "stream",
       "stream": "stderr",
       "text": [
        "\n",
        "340000 rows in 637.02s; batch in 33.25s (601 rows/s)"
       ]
      },
      {
       "output_type": "stream",
       "stream": "stderr",
       "text": [
        "\n",
        "360000 rows in 670.92s; batch in 33.90s (589 rows/s)"
       ]
      },
      {
       "output_type": "stream",
       "stream": "stderr",
       "text": [
        "\n",
        "380000 rows in 703.92s; batch in 33.00s (606 rows/s)"
       ]
      },
      {
       "output_type": "stream",
       "stream": "stderr",
       "text": [
        "\n",
        "400000 rows in 737.40s; batch in 33.48s (597 rows/s)"
       ]
      },
      {
       "output_type": "stream",
       "stream": "stderr",
       "text": [
        "\n",
        "420000 rows in 770.42s; batch in 33.03s (605 rows/s)"
       ]
      },
      {
       "output_type": "stream",
       "stream": "stderr",
       "text": [
        "\n",
        "437250 rows in 797.55s (548 rows/s)"
       ]
      },
      {
       "output_type": "stream",
       "stream": "stderr",
       "text": [
        "\n"
       ]
      }
     ],
     "prompt_number": 36
    },
    {
     "cell_type": "code",
     "collapsed": false,
     "input": [
      "def load_arrays(vcf_fn, region):\n",
      "    variants_array_fn = vcf_fn + '.' + region.replace('-:', '_') + '.variants.npy'\n",
      "    info_array_fn = vcf_fn + '.' + region.replace('-:', '_') + '.info.npy'\n",
      "    return np.load(variants_array_fn).view(np.recarray), np.load(info_array_fn).view(np.recarray)"
     ],
     "language": "python",
     "metadata": {},
     "outputs": [],
     "prompt_number": 17
    },
    {
     "cell_type": "heading",
     "level": 2,
     "metadata": {},
     "source": [
      "Investigate variants"
     ]
    },
    {
     "cell_type": "code",
     "collapsed": false,
     "input": [
      "chrom = 'Pf3D7_04_v3'"
     ],
     "language": "python",
     "metadata": {},
     "outputs": [],
     "prompt_number": 125
    },
    {
     "cell_type": "code",
     "collapsed": false,
     "input": [
      "V, I = load_arrays(vcf_bgz_fn, region=chrom)"
     ],
     "language": "python",
     "metadata": {},
     "outputs": [],
     "prompt_number": 126
    },
    {
     "cell_type": "code",
     "collapsed": false,
     "input": [
      "V"
     ],
     "language": "python",
     "metadata": {},
     "outputs": [
      {
       "metadata": {},
       "output_type": "pyout",
       "prompt_number": 127,
       "text": [
        "rec.array([ ('Pf3D7_04_v3', 2, '.', 'A', '.', 0.0, (False, False, True, False, False, False, True, False, True, False, False), 2, False, 0),\n",
        "       ('Pf3D7_04_v3', 3, '.', 'C', 'A', 0.0, (False, False, True, True, False, False, True, False, False, False, False), 2, True, 0),\n",
        "       ('Pf3D7_04_v3', 5, '.', 'C', '.', 0.0, (False, False, True, False, False, False, True, False, True, False, False), 2, False, 0),\n",
        "       ...,\n",
        "       ('Pf3D7_04_v3', 1200479, '.', 'G', 'T', 0.0, (False, False, True, True, False, False, True, False, False, False, False), 2, True, 0),\n",
        "       ('Pf3D7_04_v3', 1200480, '.', 'T', 'G', 0.0, (False, False, True, True, False, True, True, False, False, False, False), 2, True, 0),\n",
        "       ('Pf3D7_04_v3', 1200482, '.', 'T', 'C', 0.0, (False, False, True, True, False, False, True, False, False, False, False), 2, True, 0)], \n",
        "      dtype=[('CHROM', 'S12'), ('POS', '<i4'), ('ID', 'S12'), ('REF', 'S12'), ('ALT', 'S12'), ('QUAL', '<f4'), ('FILTER', [('PASS', '?'), ('Biallelic', '?'), ('CodingType', '?'), ('HetUniq', '?'), ('MaxCoverage', '?'), ('MinAlt', '?'), ('MinCoverage', '?'), ('MonoAllelic', '?'), ('NoAltAllele', '?'), ('Region', '?'), ('triallelic', '?')]), ('num_alleles', 'u1'), ('is_snp', '?'), ('svlen', '<i4')])"
       ]
      }
     ],
     "prompt_number": 127
    },
    {
     "cell_type": "code",
     "collapsed": false,
     "input": [
      "I"
     ],
     "language": "python",
     "metadata": {},
     "outputs": [
      {
       "metadata": {},
       "output_type": "pyout",
       "prompt_number": 128,
       "text": [
        "rec.array([(100, 99, False, 133, [133, 0]), (146, 99, False, 213, [186, 27]),\n",
        "       (283, 99, False, 491, [491, 0]), ...,\n",
        "       (2276, 99, False, 10702, [10443, 259]),\n",
        "       (2184, 99, False, 9492, [9481, 11]),\n",
        "       (2035, 99, False, 7710, [5886, 1824])], \n",
        "      dtype=[('NS', '<i4'), ('UQ', '<i4'), ('CODING', '?'), ('DP', '<i4'), ('AD', '<i4', (2,))])"
       ]
      }
     ],
     "prompt_number": 128
    },
    {
     "cell_type": "code",
     "collapsed": false,
     "input": [
      "figure(figsize=(16, 4))\n",
      "hist(I.DP, bins=linspace(0, 700000, 100), color='w')\n",
      "xlabel('DP')\n",
      "ylabel('frequency')\n",
      "title('all SNPs (%s)' % chrom)"
     ],
     "language": "python",
     "metadata": {},
     "outputs": [
      {
       "metadata": {},
       "output_type": "pyout",
       "prompt_number": 129,
       "text": [
        "<matplotlib.text.Text at 0x15205bd0>"
       ]
      },
      {
       "metadata": {},
       "output_type": "display_data",
       "png": "[encoded data removed]",
       "text": [
        "<matplotlib.figure.Figure at 0x138e1350>"
       ]
      }
     ],
     "prompt_number": 129
    },
    {
     "cell_type": "code",
     "collapsed": false,
     "input": [
      "figure(figsize=(16, 4))\n",
      "hist(I.DP[I.CODING], bins=linspace(0, 600000, 150), histtype='step', color='b', linewidth=2, label='all coding')\n",
      "hist(I.DP[~I.CODING], bins=linspace(0, 600000, 150), histtype='step', color='r', linewidth=2, label='all non-coding')\n",
      "xlabel('DP')\n",
      "ylabel('frequency')\n",
      "title('all SNPs (%s)' % chrom)\n",
      "legend()"
     ],
     "language": "python",
     "metadata": {},
     "outputs": [
      {
       "metadata": {},
       "output_type": "pyout",
       "prompt_number": 130,
       "text": [
        "<matplotlib.legend.Legend at 0x16899b90>"
       ]
      },
      {
       "metadata": {},
       "output_type": "display_data",
       "png": "[encoded data removed]",
       "text": [
        "<matplotlib.figure.Figure at 0x16886290>"
       ]
      }
     ],
     "prompt_number": 130
    },
    {
     "cell_type": "code",
     "collapsed": false,
     "input": [
      "figure(figsize=(16, 4))\n",
      "all_coding = I.DP[I.CODING]\n",
      "hist(all_coding, bins=linspace(0, 600000, 150), histtype='step', color='b', linewidth=2, label='all coding')\n",
      "axvline(percentile(all_coding, 15), color='k', linestyle=':')\n",
      "axvline(percentile(all_coding, 85), color='k', linestyle=':')\n",
      "xlabel('DP')\n",
      "ylabel('frequency')\n",
      "title('all SNPs (%s)' % chrom)\n",
      "legend()"
     ],
     "language": "python",
     "metadata": {},
     "outputs": [
      {
       "metadata": {},
       "output_type": "pyout",
       "prompt_number": 131,
       "text": [
        "<matplotlib.legend.Legend at 0x16d02e50>"
       ]
      },
      {
       "metadata": {},
       "output_type": "display_data",
       "png": "[encoded data removed]",
       "text": [
        "<matplotlib.figure.Figure at 0x16a01390>"
       ]
      }
     ],
     "prompt_number": 131
    },
    {
     "cell_type": "code",
     "collapsed": false,
     "input": [
      "from petl.interactive import etl\n",
      "import petlx.array\n",
      "import petlx.interval"
     ],
     "language": "python",
     "metadata": {},
     "outputs": [],
     "prompt_number": 132
    },
    {
     "cell_type": "code",
     "collapsed": false,
     "input": [
      "tbl_regions = (etl\n",
      "    .fromtsv('../data/plasmodium/pfalciparum/methods_dev/Pf/misc/regions-20130225.onebased.txt')\n",
      "    .pushheader(['chrom', 'start', 'stop', 'region'])\n",
      "    .convertnumbers()\n",
      ")\n",
      "tbl_regions.head()"
     ],
     "language": "python",
     "metadata": {},
     "outputs": [
      {
       "html": [
        "<table>\n",
        "<thead>\n",
        "<tr>\n",
        "<th>chrom</th>\n",
        "<th>start</th>\n",
        "<th>stop</th>\n",
        "<th>region</th>\n",
        "</tr>\n",
        "</thead>\n",
        "<tbody>\n",
        "<tr>\n",
        "<td>'Pf3D7_01_v3'</td>\n",
        "<td style='text-align: right'>1</td>\n",
        "<td style='text-align: right'>27336</td>\n",
        "<td>'SubtelomericRepeat'</td>\n",
        "</tr>\n",
        "<tr>\n",
        "<td>'Pf3D7_01_v3'</td>\n",
        "<td style='text-align: right'>27337</td>\n",
        "<td style='text-align: right'>92900</td>\n",
        "<td>'SubtelomericHypervariable'</td>\n",
        "</tr>\n",
        "<tr>\n",
        "<td>'Pf3D7_01_v3'</td>\n",
        "<td style='text-align: right'>92901</td>\n",
        "<td style='text-align: right'>457931</td>\n",
        "<td>'Core'</td>\n",
        "</tr>\n",
        "<tr>\n",
        "<td>'Pf3D7_01_v3'</td>\n",
        "<td style='text-align: right'>457932</td>\n",
        "<td style='text-align: right'>460311</td>\n",
        "<td>'Centromere'</td>\n",
        "</tr>\n",
        "<tr>\n",
        "<td>'Pf3D7_01_v3'</td>\n",
        "<td style='text-align: right'>460312</td>\n",
        "<td style='text-align: right'>575900</td>\n",
        "<td>'Core'</td>\n",
        "</tr>\n",
        "<tr>\n",
        "<td>'Pf3D7_01_v3'</td>\n",
        "<td style='text-align: right'>575901</td>\n",
        "<td style='text-align: right'>616691</td>\n",
        "<td>'SubtelomericHypervariable'</td>\n",
        "</tr>\n",
        "<tr>\n",
        "<td>'Pf3D7_01_v3'</td>\n",
        "<td style='text-align: right'>616692</td>\n",
        "<td style='text-align: right'>640851</td>\n",
        "<td>'SubtelomericRepeat'</td>\n",
        "</tr>\n",
        "<tr>\n",
        "<td>'Pf3D7_02_v3'</td>\n",
        "<td style='text-align: right'>1</td>\n",
        "<td style='text-align: right'>23100</td>\n",
        "<td>'SubtelomericRepeat'</td>\n",
        "</tr>\n",
        "<tr>\n",
        "<td>'Pf3D7_02_v3'</td>\n",
        "<td style='text-align: right'>23101</td>\n",
        "<td style='text-align: right'>105800</td>\n",
        "<td>'SubtelomericHypervariable'</td>\n",
        "</tr>\n",
        "<tr>\n",
        "<td>'Pf3D7_02_v3'</td>\n",
        "<td style='text-align: right'>105801</td>\n",
        "<td style='text-align: right'>447300</td>\n",
        "<td>'Core'</td>\n",
        "</tr>\n",
        "</tbody>\n",
        "</table>\n"
       ],
       "metadata": {},
       "output_type": "pyout",
       "prompt_number": 133,
       "text": [
        "+---------------+---------+--------+-----------------------------+\n",
        "| 'chrom'       | 'start' | 'stop' | 'region'                    |\n",
        "+===============+=========+========+=============================+\n",
        "| 'Pf3D7_01_v3' |       1 |  27336 | 'SubtelomericRepeat'        |\n",
        "+---------------+---------+--------+-----------------------------+\n",
        "| 'Pf3D7_01_v3' |   27337 |  92900 | 'SubtelomericHypervariable' |\n",
        "+---------------+---------+--------+-----------------------------+\n",
        "| 'Pf3D7_01_v3' |   92901 | 457931 | 'Core'                      |\n",
        "+---------------+---------+--------+-----------------------------+\n",
        "| 'Pf3D7_01_v3' |  457932 | 460311 | 'Centromere'                |\n",
        "+---------------+---------+--------+-----------------------------+\n",
        "| 'Pf3D7_01_v3' |  460312 | 575900 | 'Core'                      |\n",
        "+---------------+---------+--------+-----------------------------+\n",
        "| 'Pf3D7_01_v3' |  575901 | 616691 | 'SubtelomericHypervariable' |\n",
        "+---------------+---------+--------+-----------------------------+\n",
        "| 'Pf3D7_01_v3' |  616692 | 640851 | 'SubtelomericRepeat'        |\n",
        "+---------------+---------+--------+-----------------------------+\n",
        "| 'Pf3D7_02_v3' |       1 |  23100 | 'SubtelomericRepeat'        |\n",
        "+---------------+---------+--------+-----------------------------+\n",
        "| 'Pf3D7_02_v3' |   23101 | 105800 | 'SubtelomericHypervariable' |\n",
        "+---------------+---------+--------+-----------------------------+\n",
        "| 'Pf3D7_02_v3' |  105801 | 447300 | 'Core'                      |\n",
        "+---------------+---------+--------+-----------------------------+\n"
       ]
      }
     ],
     "prompt_number": 133
    },
    {
     "cell_type": "code",
     "collapsed": false,
     "input": [
      "tbl_variants = etl.fromarray(V).cut('CHROM', 'POS')\n",
      "tbl_variants.head()"
     ],
     "language": "python",
     "metadata": {},
     "outputs": [
      {
       "html": [
        "<table>\n",
        "<thead>\n",
        "<tr>\n",
        "<th>CHROM</th>\n",
        "<th>POS</th>\n",
        "</tr>\n",
        "</thead>\n",
        "<tbody>\n",
        "<tr>\n",
        "<td>'Pf3D7_04_v3'</td>\n",
        "<td>2</td>\n",
        "</tr>\n",
        "<tr>\n",
        "<td>'Pf3D7_04_v3'</td>\n",
        "<td>3</td>\n",
        "</tr>\n",
        "<tr>\n",
        "<td>'Pf3D7_04_v3'</td>\n",
        "<td>5</td>\n",
        "</tr>\n",
        "<tr>\n",
        "<td>'Pf3D7_04_v3'</td>\n",
        "<td>7</td>\n",
        "</tr>\n",
        "<tr>\n",
        "<td>'Pf3D7_04_v3'</td>\n",
        "<td>10</td>\n",
        "</tr>\n",
        "<tr>\n",
        "<td>'Pf3D7_04_v3'</td>\n",
        "<td>12</td>\n",
        "</tr>\n",
        "<tr>\n",
        "<td>'Pf3D7_04_v3'</td>\n",
        "<td>13</td>\n",
        "</tr>\n",
        "<tr>\n",
        "<td>'Pf3D7_04_v3'</td>\n",
        "<td>14</td>\n",
        "</tr>\n",
        "<tr>\n",
        "<td>'Pf3D7_04_v3'</td>\n",
        "<td>17</td>\n",
        "</tr>\n",
        "<tr>\n",
        "<td>'Pf3D7_04_v3'</td>\n",
        "<td>19</td>\n",
        "</tr>\n",
        "</tbody>\n",
        "</table>\n"
       ],
       "metadata": {},
       "output_type": "pyout",
       "prompt_number": 134,
       "text": [
        "+---------------+-------+\n",
        "| 'CHROM'       | 'POS' |\n",
        "+===============+=======+\n",
        "| 'Pf3D7_04_v3' | 2     |\n",
        "+---------------+-------+\n",
        "| 'Pf3D7_04_v3' | 3     |\n",
        "+---------------+-------+\n",
        "| 'Pf3D7_04_v3' | 5     |\n",
        "+---------------+-------+\n",
        "| 'Pf3D7_04_v3' | 7     |\n",
        "+---------------+-------+\n",
        "| 'Pf3D7_04_v3' | 10    |\n",
        "+---------------+-------+\n",
        "| 'Pf3D7_04_v3' | 12    |\n",
        "+---------------+-------+\n",
        "| 'Pf3D7_04_v3' | 13    |\n",
        "+---------------+-------+\n",
        "| 'Pf3D7_04_v3' | 14    |\n",
        "+---------------+-------+\n",
        "| 'Pf3D7_04_v3' | 17    |\n",
        "+---------------+-------+\n",
        "| 'Pf3D7_04_v3' | 19    |\n",
        "+---------------+-------+\n"
       ]
      }
     ],
     "prompt_number": 134
    },
    {
     "cell_type": "code",
     "collapsed": false,
     "input": [
      "tbl_variants_with_regions = tbl_variants.intervalleftjoin(tbl_regions, lfacet='CHROM', rfacet='chrom', lstart='POS', lstop='POS', rstart='start', rstop='stop', proximity=1)\n",
      "tbl_variants_with_regions.head()"
     ],
     "language": "python",
     "metadata": {},
     "outputs": [
      {
       "html": [
        "<table>\n",
        "<thead>\n",
        "<tr>\n",
        "<th>CHROM</th>\n",
        "<th>POS</th>\n",
        "<th>chrom</th>\n",
        "<th>start</th>\n",
        "<th>stop</th>\n",
        "<th>region</th>\n",
        "</tr>\n",
        "</thead>\n",
        "<tbody>\n",
        "<tr>\n",
        "<td>'Pf3D7_04_v3'</td>\n",
        "<td>2</td>\n",
        "<td>'Pf3D7_04_v3'</td>\n",
        "<td style='text-align: right'>1</td>\n",
        "<td style='text-align: right'>26511</td>\n",
        "<td>'SubtelomericRepeat'</td>\n",
        "</tr>\n",
        "<tr>\n",
        "<td>'Pf3D7_04_v3'</td>\n",
        "<td>3</td>\n",
        "<td>'Pf3D7_04_v3'</td>\n",
        "<td style='text-align: right'>1</td>\n",
        "<td style='text-align: right'>26511</td>\n",
        "<td>'SubtelomericRepeat'</td>\n",
        "</tr>\n",
        "<tr>\n",
        "<td>'Pf3D7_04_v3'</td>\n",
        "<td>5</td>\n",
        "<td>'Pf3D7_04_v3'</td>\n",
        "<td style='text-align: right'>1</td>\n",
        "<td style='text-align: right'>26511</td>\n",
        "<td>'SubtelomericRepeat'</td>\n",
        "</tr>\n",
        "<tr>\n",
        "<td>'Pf3D7_04_v3'</td>\n",
        "<td>7</td>\n",
        "<td>'Pf3D7_04_v3'</td>\n",
        "<td style='text-align: right'>1</td>\n",
        "<td style='text-align: right'>26511</td>\n",
        "<td>'SubtelomericRepeat'</td>\n",
        "</tr>\n",
        "<tr>\n",
        "<td>'Pf3D7_04_v3'</td>\n",
        "<td>10</td>\n",
        "<td>'Pf3D7_04_v3'</td>\n",
        "<td style='text-align: right'>1</td>\n",
        "<td style='text-align: right'>26511</td>\n",
        "<td>'SubtelomericRepeat'</td>\n",
        "</tr>\n",
        "<tr>\n",
        "<td>'Pf3D7_04_v3'</td>\n",
        "<td>12</td>\n",
        "<td>'Pf3D7_04_v3'</td>\n",
        "<td style='text-align: right'>1</td>\n",
        "<td style='text-align: right'>26511</td>\n",
        "<td>'SubtelomericRepeat'</td>\n",
        "</tr>\n",
        "<tr>\n",
        "<td>'Pf3D7_04_v3'</td>\n",
        "<td>13</td>\n",
        "<td>'Pf3D7_04_v3'</td>\n",
        "<td style='text-align: right'>1</td>\n",
        "<td style='text-align: right'>26511</td>\n",
        "<td>'SubtelomericRepeat'</td>\n",
        "</tr>\n",
        "<tr>\n",
        "<td>'Pf3D7_04_v3'</td>\n",
        "<td>14</td>\n",
        "<td>'Pf3D7_04_v3'</td>\n",
        "<td style='text-align: right'>1</td>\n",
        "<td style='text-align: right'>26511</td>\n",
        "<td>'SubtelomericRepeat'</td>\n",
        "</tr>\n",
        "<tr>\n",
        "<td>'Pf3D7_04_v3'</td>\n",
        "<td>17</td>\n",
        "<td>'Pf3D7_04_v3'</td>\n",
        "<td style='text-align: right'>1</td>\n",
        "<td style='text-align: right'>26511</td>\n",
        "<td>'SubtelomericRepeat'</td>\n",
        "</tr>\n",
        "<tr>\n",
        "<td>'Pf3D7_04_v3'</td>\n",
        "<td>19</td>\n",
        "<td>'Pf3D7_04_v3'</td>\n",
        "<td style='text-align: right'>1</td>\n",
        "<td style='text-align: right'>26511</td>\n",
        "<td>'SubtelomericRepeat'</td>\n",
        "</tr>\n",
        "</tbody>\n",
        "</table>\n"
       ],
       "metadata": {},
       "output_type": "pyout",
       "prompt_number": 135,
       "text": [
        "+---------------+-------+---------------+---------+--------+----------------------+\n",
        "| 'CHROM'       | 'POS' | 'chrom'       | 'start' | 'stop' | 'region'             |\n",
        "+===============+=======+===============+=========+========+======================+\n",
        "| 'Pf3D7_04_v3' | 2     | 'Pf3D7_04_v3' |       1 |  26511 | 'SubtelomericRepeat' |\n",
        "+---------------+-------+---------------+---------+--------+----------------------+\n",
        "| 'Pf3D7_04_v3' | 3     | 'Pf3D7_04_v3' |       1 |  26511 | 'SubtelomericRepeat' |\n",
        "+---------------+-------+---------------+---------+--------+----------------------+\n",
        "| 'Pf3D7_04_v3' | 5     | 'Pf3D7_04_v3' |       1 |  26511 | 'SubtelomericRepeat' |\n",
        "+---------------+-------+---------------+---------+--------+----------------------+\n",
        "| 'Pf3D7_04_v3' | 7     | 'Pf3D7_04_v3' |       1 |  26511 | 'SubtelomericRepeat' |\n",
        "+---------------+-------+---------------+---------+--------+----------------------+\n",
        "| 'Pf3D7_04_v3' | 10    | 'Pf3D7_04_v3' |       1 |  26511 | 'SubtelomericRepeat' |\n",
        "+---------------+-------+---------------+---------+--------+----------------------+\n",
        "| 'Pf3D7_04_v3' | 12    | 'Pf3D7_04_v3' |       1 |  26511 | 'SubtelomericRepeat' |\n",
        "+---------------+-------+---------------+---------+--------+----------------------+\n",
        "| 'Pf3D7_04_v3' | 13    | 'Pf3D7_04_v3' |       1 |  26511 | 'SubtelomericRepeat' |\n",
        "+---------------+-------+---------------+---------+--------+----------------------+\n",
        "| 'Pf3D7_04_v3' | 14    | 'Pf3D7_04_v3' |       1 |  26511 | 'SubtelomericRepeat' |\n",
        "+---------------+-------+---------------+---------+--------+----------------------+\n",
        "| 'Pf3D7_04_v3' | 17    | 'Pf3D7_04_v3' |       1 |  26511 | 'SubtelomericRepeat' |\n",
        "+---------------+-------+---------------+---------+--------+----------------------+\n",
        "| 'Pf3D7_04_v3' | 19    | 'Pf3D7_04_v3' |       1 |  26511 | 'SubtelomericRepeat' |\n",
        "+---------------+-------+---------------+---------+--------+----------------------+\n"
       ]
      }
     ],
     "prompt_number": 135
    },
    {
     "cell_type": "code",
     "collapsed": false,
     "input": [
      "region = tbl_variants_with_regions.cut('region').torecarray(dtype={'region': 'a25'}).region"
     ],
     "language": "python",
     "metadata": {},
     "outputs": [],
     "prompt_number": 136
    },
    {
     "cell_type": "code",
     "collapsed": false,
     "input": [
      "region"
     ],
     "language": "python",
     "metadata": {},
     "outputs": [
      {
       "metadata": {},
       "output_type": "pyout",
       "prompt_number": 137,
       "text": [
        "chararray(['SubtelomericRepeat', 'SubtelomericRepeat', 'SubtelomericRepeat',\n",
        "       ..., 'SubtelomericRepeat', 'SubtelomericRepeat',\n",
        "       'SubtelomericRepeat'], \n",
        "      dtype='|S25')"
       ]
      }
     ],
     "prompt_number": 137
    },
    {
     "cell_type": "code",
     "collapsed": false,
     "input": [
      "set(region)"
     ],
     "language": "python",
     "metadata": {},
     "outputs": [
      {
       "metadata": {},
       "output_type": "pyout",
       "prompt_number": 138,
       "text": [
        "{'Centromere',\n",
        " 'Core',\n",
        " 'InternalHypervariable',\n",
        " 'SubtelomericHypervariable',\n",
        " 'SubtelomericRepeat'}"
       ]
      }
     ],
     "prompt_number": 138
    },
    {
     "cell_type": "code",
     "collapsed": false,
     "input": [
      "figure(figsize=(16, 4))\n",
      "bins = linspace(0, 600000, 150)\n",
      "\n",
      "core_coding = I.DP[(region == 'Core') & I.CODING]\n",
      "f, _, _ = hist(core_coding, bins=bins, histtype='step', linewidth=2, label='core coding')\n",
      "axvline(percentile(core_coding, 15), color='k', linestyle=':')\n",
      "axvline(percentile(core_coding, 85), color='k', linestyle=':')\n",
      "\n",
      "hypervariable_coding = I.DP[((region == 'SubtelomericHypervariable') | (region == 'InternalHypervariable')) & I.CODING]\n",
      "hist(hypervariable_coding, bins=linspace(0, 600000, 150), histtype='step', linewidth=2, label='hypervariable coding')\n",
      "\n",
      "xlabel('DP')\n",
      "ylabel('frequency')\n",
      "title('all SNPs (%s)' % chrom)\n",
      "legend()"
     ],
     "language": "python",
     "metadata": {},
     "outputs": [
      {
       "metadata": {},
       "output_type": "pyout",
       "prompt_number": 139,
       "text": [
        "<matplotlib.legend.Legend at 0x172e6510>"
       ]
      },
      {
       "metadata": {},
       "output_type": "display_data",
       "png": "[encoded data removed]",
       "text": [
        "<matplotlib.figure.Figure at 0x16d06b10>"
       ]
      }
     ],
     "prompt_number": 139
    },
    {
     "cell_type": "code",
     "collapsed": false,
     "input": [
      "figure(figsize=(16, 4))\n",
      "hist(I.DP[(region == 'Core') & I.CODING], bins=linspace(0, 600000, 150), histtype='step', linewidth=2, label='core coding')\n",
      "hist(I.DP[(region == 'SubtelomericHypervariable') & I.CODING], bins=linspace(0, 600000, 150), histtype='step', linewidth=2, label='hypervariable coding')\n",
      "hist(I.DP[(region == 'Core') & ~I.CODING], bins=linspace(0, 600000, 150), histtype='step', linewidth=2, label='core non-coding')\n",
      "hist(I.DP[(region == 'SubtelomericHypervariable') & ~I.CODING], bins=linspace(0, 600000, 150), histtype='step', linewidth=2, label='hypervariable non-coding')\n",
      "xlabel('DP')\n",
      "ylabel('frequency')\n",
      "title('all SNPs (%s)' % chrom)\n",
      "legend()"
     ],
     "language": "python",
     "metadata": {},
     "outputs": [
      {
       "metadata": {},
       "output_type": "pyout",
       "prompt_number": 140,
       "text": [
        "<matplotlib.legend.Legend at 0x17a4e390>"
       ]
      },
      {
       "metadata": {},
       "output_type": "display_data",
       "png": "[encoded data removed]",
       "text": [
        "<matplotlib.figure.Figure at 0x17a48bd0>"
       ]
      }
     ],
     "prompt_number": 140
    },
    {
     "cell_type": "code",
     "collapsed": false,
     "input": [
      "colors = {'Core': 'w', 'SubtelomericHypervariable': 'r', 'InternalHypervariable': 'r', 'SubtelomericRepeat': 'orange', 'Centromere': 'k'}\n",
      "figure(figsize=(16, 4))\n",
      "\n",
      "subplot2grid((4, 1), (0, 0), rowspan=3)\n",
      "window = 10000\n",
      "bins = arange(0, max(V.POS), window)\n",
      "X = bins[:-1] + window/2\n",
      "Y, _ = histogram(V.POS, bins=bins)\n",
      "plot(X, Y*1./window, linewidth=2, label='all SNPs')\n",
      "Y, _ = histogram(V.POS[I.CODING], bins=bins)\n",
      "plot(X, Y*1./window, linewidth=2, label='coding SNPs')\n",
      "Y, _ = histogram(V.POS[~I.CODING], bins=bins)\n",
      "plot(X, Y*1./window, linewidth=2, label='non-coding SNPs')\n",
      "\n",
      "title('SNP density')\n",
      "xlim(0, max(V.POS))\n",
      "xticks([])\n",
      "ylabel('SNP density')\n",
      "legend(bbox_to_anchor=(1.01, 1), loc=2, borderaxespad=0.)\n",
      "\n",
      "subplot2grid((4, 1), (3, 0))\n",
      "xranges = [(r.start, r.stop-r.start) for r in tbl_regions.eq('chrom', chrom).records()]\n",
      "broken_barh(xranges, (0, 1), color=[colors[r.region] for r in tbl_regions.eq('chrom', chrom).records()])\n",
      "yticks([])\n",
      "xlim(0, max(V.POS))\n",
      "xlabel('%s position (bp)' % chrom)\n"
     ],
     "language": "python",
     "metadata": {},
     "outputs": [
      {
       "metadata": {},
       "output_type": "pyout",
       "prompt_number": 141,
       "text": [
        "<matplotlib.text.Text at 0x17770590>"
       ]
      },
      {
       "metadata": {},
       "output_type": "display_data",
       "png": "[encoded data removed]",
       "text": [
        "<matplotlib.figure.Figure at 0x17461f50>"
       ]
      }
     ],
     "prompt_number": 141
    },
    {
     "cell_type": "code",
     "collapsed": false,
     "input": [
      "import scipy.stats as stats\n",
      "\n",
      "colors = {'Core': 'w', 'SubtelomericHypervariable': 'r', 'InternalHypervariable': 'r', 'SubtelomericRepeat': 'orange', 'Centromere': 'k'}\n",
      "figure(figsize=(16, 4))\n",
      "\n",
      "subplot2grid((4, 1), (0, 0), rowspan=3)\n",
      "window = 10000\n",
      "bins = arange(0, max(V.POS), window)\n",
      "X = bins[:-1] + window/2\n",
      "pos = V.POS[I.CODING]\n",
      "values = I.DP[I.CODING]\n",
      "\n",
      "# outer percentiles\n",
      "Y1, _, _ = stats.binned_statistic(pos, values, statistic=lambda a: percentile(a, 1), bins=bins)\n",
      "Y2, _, _ = stats.binned_statistic(pos, values, statistic=lambda a: percentile(a, 99), bins=bins)\n",
      "check = (Y2 > 0) & (Y2 > Y1)\n",
      "fill_between(X[check], Y1[check], Y2[check], color='b', alpha=.2)\n",
      "# quartiles\n",
      "Y1, _, _ = stats.binned_statistic(pos, values, statistic=lambda a: percentile(a, 25), bins=bins)\n",
      "Y2, _, _ = stats.binned_statistic(pos, values, statistic=lambda a: percentile(a, 75), bins=bins)\n",
      "check = (Y2 > 0) & (Y2 > Y1)\n",
      "fill_between(X[check], Y1[check], Y2[check], color='b', alpha=.4)\n",
      "# median\n",
      "M, _, _ = stats.binned_statistic(pos, values, statistic='median', bins=bins)\n",
      "plot(X, M, color='b', linewidth=1)\n",
      "        \n",
      "title('depth at coding SNPs')\n",
      "xlim(0, max(V.POS))\n",
      "xticks([])\n",
      "ylabel('DP')\n",
      "legend(bbox_to_anchor=(1.01, 1), loc=2, borderaxespad=0.)\n",
      "\n",
      "subplot2grid((4, 1), (3, 0))\n",
      "xranges = [(r.start, r.stop-r.start) for r in tbl_regions.eq('chrom', chrom).records()]\n",
      "broken_barh(xranges, (0, 1), color=[colors[r.region] for r in tbl_regions.eq('chrom', chrom).records()])\n",
      "yticks([])\n",
      "xlim(0, max(V.POS))\n",
      "xlabel('%s position (bp)' % chrom)\n"
     ],
     "language": "python",
     "metadata": {},
     "outputs": [
      {
       "metadata": {},
       "output_type": "pyout",
       "prompt_number": 142,
       "text": [
        "<matplotlib.text.Text at 0x18861990>"
       ]
      },
      {
       "metadata": {},
       "output_type": "display_data",
       "png": "[encoded data removed]",
       "text": [
        "<matplotlib.figure.Figure at 0x18842710>"
       ]
      }
     ],
     "prompt_number": 142
    },
    {
     "cell_type": "code",
     "collapsed": false,
     "input": [
      "tbl_gc = (etl\n",
      "    .fromtsv('../data/plasmodium/pfalciparum/pf-crosses/data/genome/sanger/version3/September_2012/Pf3D7_v3.gc.300.txt.gz')\n",
      "    .pushheader(['chrom', 'pos', 'gc300'])\n",
      "    .convertnumbers()\n",
      ")\n",
      "tbl_gc.head()"
     ],
     "language": "python",
     "metadata": {},
     "outputs": [
      {
       "html": [
        "<table>\n",
        "<thead>\n",
        "<tr>\n",
        "<th>chrom</th>\n",
        "<th>pos</th>\n",
        "<th>gc300</th>\n",
        "</tr>\n",
        "</thead>\n",
        "<tbody>\n",
        "<tr>\n",
        "<td>'Pf3D7_01_v3'</td>\n",
        "<td style='text-align: right'>150</td>\n",
        "<td style='text-align: right'>47.3333333333</td>\n",
        "</tr>\n",
        "<tr>\n",
        "<td>'Pf3D7_01_v3'</td>\n",
        "<td style='text-align: right'>151</td>\n",
        "<td style='text-align: right'>47.3333333333</td>\n",
        "</tr>\n",
        "<tr>\n",
        "<td>'Pf3D7_01_v3'</td>\n",
        "<td style='text-align: right'>152</td>\n",
        "<td style='text-align: right'>47</td>\n",
        "</tr>\n",
        "<tr>\n",
        "<td>'Pf3D7_01_v3'</td>\n",
        "<td style='text-align: right'>153</td>\n",
        "<td style='text-align: right'>47</td>\n",
        "</tr>\n",
        "<tr>\n",
        "<td>'Pf3D7_01_v3'</td>\n",
        "<td style='text-align: right'>154</td>\n",
        "<td style='text-align: right'>47</td>\n",
        "</tr>\n",
        "<tr>\n",
        "<td>'Pf3D7_01_v3'</td>\n",
        "<td style='text-align: right'>155</td>\n",
        "<td style='text-align: right'>47</td>\n",
        "</tr>\n",
        "<tr>\n",
        "<td>'Pf3D7_01_v3'</td>\n",
        "<td style='text-align: right'>156</td>\n",
        "<td style='text-align: right'>47</td>\n",
        "</tr>\n",
        "<tr>\n",
        "<td>'Pf3D7_01_v3'</td>\n",
        "<td style='text-align: right'>157</td>\n",
        "<td style='text-align: right'>47</td>\n",
        "</tr>\n",
        "<tr>\n",
        "<td>'Pf3D7_01_v3'</td>\n",
        "<td style='text-align: right'>158</td>\n",
        "<td style='text-align: right'>47</td>\n",
        "</tr>\n",
        "<tr>\n",
        "<td>'Pf3D7_01_v3'</td>\n",
        "<td style='text-align: right'>159</td>\n",
        "<td style='text-align: right'>47</td>\n",
        "</tr>\n",
        "</tbody>\n",
        "</table>\n"
       ],
       "metadata": {},
       "output_type": "pyout",
       "prompt_number": 143,
       "text": [
        "+---------------+-------+------------------+\n",
        "| 'chrom'       | 'pos' | 'gc300'          |\n",
        "+===============+=======+==================+\n",
        "| 'Pf3D7_01_v3' |   150 | 47.3333333333333 |\n",
        "+---------------+-------+------------------+\n",
        "| 'Pf3D7_01_v3' |   151 | 47.3333333333333 |\n",
        "+---------------+-------+------------------+\n",
        "| 'Pf3D7_01_v3' |   152 |               47 |\n",
        "+---------------+-------+------------------+\n",
        "| 'Pf3D7_01_v3' |   153 |               47 |\n",
        "+---------------+-------+------------------+\n",
        "| 'Pf3D7_01_v3' |   154 |               47 |\n",
        "+---------------+-------+------------------+\n",
        "| 'Pf3D7_01_v3' |   155 |               47 |\n",
        "+---------------+-------+------------------+\n",
        "| 'Pf3D7_01_v3' |   156 |               47 |\n",
        "+---------------+-------+------------------+\n",
        "| 'Pf3D7_01_v3' |   157 |               47 |\n",
        "+---------------+-------+------------------+\n",
        "| 'Pf3D7_01_v3' |   158 |               47 |\n",
        "+---------------+-------+------------------+\n",
        "| 'Pf3D7_01_v3' |   159 |               47 |\n",
        "+---------------+-------+------------------+\n"
       ]
      }
     ],
     "prompt_number": 143
    },
    {
     "cell_type": "code",
     "collapsed": false,
     "input": [
      "tbl_variants_with_gc = (\n",
      "    tbl_variants\n",
      "    .rename({'CHROM': 'chrom', 'POS': 'pos'})\n",
      "    .leftjoin(tbl_gc, key=('chrom', 'pos'), presorted=True, missing=-1)\n",
      ")\n",
      "tbl_variants_with_gc.head()"
     ],
     "language": "python",
     "metadata": {},
     "outputs": [
      {
       "html": [
        "<table>\n",
        "<thead>\n",
        "<tr>\n",
        "<th>chrom</th>\n",
        "<th>pos</th>\n",
        "<th>gc300</th>\n",
        "</tr>\n",
        "</thead>\n",
        "<tbody>\n",
        "<tr>\n",
        "<td>'Pf3D7_04_v3'</td>\n",
        "<td>2</td>\n",
        "<td style='text-align: right'>-1</td>\n",
        "</tr>\n",
        "<tr>\n",
        "<td>'Pf3D7_04_v3'</td>\n",
        "<td>3</td>\n",
        "<td style='text-align: right'>-1</td>\n",
        "</tr>\n",
        "<tr>\n",
        "<td>'Pf3D7_04_v3'</td>\n",
        "<td>5</td>\n",
        "<td style='text-align: right'>-1</td>\n",
        "</tr>\n",
        "<tr>\n",
        "<td>'Pf3D7_04_v3'</td>\n",
        "<td>7</td>\n",
        "<td style='text-align: right'>-1</td>\n",
        "</tr>\n",
        "<tr>\n",
        "<td>'Pf3D7_04_v3'</td>\n",
        "<td>10</td>\n",
        "<td style='text-align: right'>-1</td>\n",
        "</tr>\n",
        "<tr>\n",
        "<td>'Pf3D7_04_v3'</td>\n",
        "<td>12</td>\n",
        "<td style='text-align: right'>-1</td>\n",
        "</tr>\n",
        "<tr>\n",
        "<td>'Pf3D7_04_v3'</td>\n",
        "<td>13</td>\n",
        "<td style='text-align: right'>-1</td>\n",
        "</tr>\n",
        "<tr>\n",
        "<td>'Pf3D7_04_v3'</td>\n",
        "<td>14</td>\n",
        "<td style='text-align: right'>-1</td>\n",
        "</tr>\n",
        "<tr>\n",
        "<td>'Pf3D7_04_v3'</td>\n",
        "<td>17</td>\n",
        "<td style='text-align: right'>-1</td>\n",
        "</tr>\n",
        "<tr>\n",
        "<td>'Pf3D7_04_v3'</td>\n",
        "<td>19</td>\n",
        "<td style='text-align: right'>-1</td>\n",
        "</tr>\n",
        "</tbody>\n",
        "</table>\n"
       ],
       "metadata": {},
       "output_type": "pyout",
       "prompt_number": 144,
       "text": [
        "+---------------+-------+---------+\n",
        "| 'chrom'       | 'pos' | 'gc300' |\n",
        "+===============+=======+=========+\n",
        "| 'Pf3D7_04_v3' | 2     |      -1 |\n",
        "+---------------+-------+---------+\n",
        "| 'Pf3D7_04_v3' | 3     |      -1 |\n",
        "+---------------+-------+---------+\n",
        "| 'Pf3D7_04_v3' | 5     |      -1 |\n",
        "+---------------+-------+---------+\n",
        "| 'Pf3D7_04_v3' | 7     |      -1 |\n",
        "+---------------+-------+---------+\n",
        "| 'Pf3D7_04_v3' | 10    |      -1 |\n",
        "+---------------+-------+---------+\n",
        "| 'Pf3D7_04_v3' | 12    |      -1 |\n",
        "+---------------+-------+---------+\n",
        "| 'Pf3D7_04_v3' | 13    |      -1 |\n",
        "+---------------+-------+---------+\n",
        "| 'Pf3D7_04_v3' | 14    |      -1 |\n",
        "+---------------+-------+---------+\n",
        "| 'Pf3D7_04_v3' | 17    |      -1 |\n",
        "+---------------+-------+---------+\n",
        "| 'Pf3D7_04_v3' | 19    |      -1 |\n",
        "+---------------+-------+---------+\n"
       ]
      }
     ],
     "prompt_number": 144
    },
    {
     "cell_type": "code",
     "collapsed": false,
     "input": [
      "gc300 = tbl_variants_with_gc.cut('gc300').torecarray(dtype={'gc300': 'f4'}).gc300"
     ],
     "language": "python",
     "metadata": {},
     "outputs": [],
     "prompt_number": 145
    },
    {
     "cell_type": "code",
     "collapsed": false,
     "input": [
      "figure()\n",
      "hist(gc300[I.CODING], histtype='step', linewidth=2, bins=arange(0, 100, 2), label='coding')\n",
      "hist(gc300[~I.CODING & (region == 'SubtelomericRepeat')], histtype='step', linewidth=2, bins=arange(0, 100, 2), label='non-coding subtelomeric repeat')\n",
      "hist(gc300[~I.CODING & (region != 'SubtelomericRepeat')], histtype='step', linewidth=2, bins=arange(0, 100, 2), label='non-coding other')\n",
      "xlabel('GC')\n",
      "ylabel('frequency')\n",
      "legend()"
     ],
     "language": "python",
     "metadata": {},
     "outputs": [
      {
       "metadata": {},
       "output_type": "pyout",
       "prompt_number": 152,
       "text": [
        "<matplotlib.legend.Legend at 0x19bbdb50>"
       ]
      },
      {
       "metadata": {},
       "output_type": "display_data",
       "png": "[encoded data removed]",
       "text": [
        "<matplotlib.figure.Figure at 0x19bda090>"
       ]
      }
     ],
     "prompt_number": 152
    },
    {
     "cell_type": "code",
     "collapsed": false,
     "input": [
      "figure()\n",
      "flt = (region == 'Core') & I.CODING\n",
      "X = gc300[flt]\n",
      "Y = I.DP[flt]\n",
      "plot(X, Y, 'bo', alpha=.05)\n",
      "xlabel('GC')\n",
      "ylabel('DP')\n",
      "figure()\n",
      "hexbin(X, Y)\n",
      "xlabel('GC')\n",
      "ylabel('DP')\n"
     ],
     "language": "python",
     "metadata": {},
     "outputs": [
      {
       "metadata": {},
       "output_type": "pyout",
       "prompt_number": 153,
       "text": [
        "<matplotlib.text.Text at 0x1a18f6d0>"
       ]
      },
      {
       "metadata": {},
       "output_type": "display_data",
       "png": "[encoded data removed]",
       "text": [
        "<matplotlib.figure.Figure at 0x19294a50>"
       ]
      },
      {
       "metadata": {},
       "output_type": "display_data",
       "png": "[encoded data removed]",
       "text": [
        "<matplotlib.figure.Figure at 0x191688d0>"
       ]
      }
     ],
     "prompt_number": 153
    },
    {
     "cell_type": "code",
     "collapsed": false,
     "input": [
      "figure(figsize=(16, 4))\n",
      "hist(I.DP[(region == 'Core') & I.CODING], bins=linspace(0, 600000, 150), histtype='step', linewidth=2, label='core coding')\n",
      "hist(I.DP[(region == 'Core') & (gc300 >= 20) & I.CODING], bins=linspace(0, 600000, 150), histtype='step', linewidth=2, label='core coding, GC>=20%')\n",
      "hist(I.DP[(region == 'Core') & (gc300 < 20) & I.CODING], bins=linspace(0, 600000, 150), histtype='step', linewidth=2, label='core coding, GC<20')\n",
      "legend()\n",
      "xlabel('DP')\n",
      "ylabel('frequency')"
     ],
     "language": "python",
     "metadata": {},
     "outputs": [
      {
       "metadata": {},
       "output_type": "pyout",
       "prompt_number": 154,
       "text": [
        "<matplotlib.text.Text at 0x1a1addd0>"
       ]
      },
      {
       "metadata": {},
       "output_type": "display_data",
       "png": "[encoded data removed]",
       "text": [
        "<matplotlib.figure.Figure at 0x1a1bd390>"
       ]
      }
     ],
     "prompt_number": 154
    },
    {
     "cell_type": "code",
     "collapsed": false,
     "input": [],
     "language": "python",
     "metadata": {},
     "outputs": []
    }
   ],
   "metadata": {}
  }
 ]
}