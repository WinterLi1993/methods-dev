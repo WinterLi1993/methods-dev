{
 "metadata": {
  "name": "",
  "signature": "sha256:5dc28795ef4aca8286e83b64274cee65d31ff9f745c1aba6fe57c94a6e78ad84"
 },
 "nbformat": 3,
 "nbformat_minor": 0,
 "worksheets": [
  {
   "cells": [
    {
     "cell_type": "markdown",
     "metadata": {},
     "source": [
      "<div class='suptitle'>\n",
      "Standard imports for all notebooks\n",
      "</div>\n",
      "\n",
      "Use this in other notebooks, e.g.:\n",
      "\n",
      "```\n",
      "%run standard_imports.ipynb\n",
      "```\n"
     ]
    },
    {
     "cell_type": "code",
     "collapsed": false,
     "input": [
      "# standard libraries\n",
      "from __future__ import division\n",
      "import sys\n",
      "import os\n",
      "import operator\n",
      "import itertools\n",
      "import collections\n",
      "import functools\n",
      "import glob\n",
      "import csv\n",
      "import datetime\n",
      "import bisect\n",
      "import sqlite3\n",
      "import subprocess\n",
      "import traceback\n",
      "import random\n",
      "import gc\n",
      "\n",
      "# third party libraries\n",
      "# N.B., don't import matplotlib because notebooks and scripts may want to import it in different ways (e.g., if using different backends)\n",
      "import numpy as np\n",
      "import scipy\n",
      "import scipy.stats as stats\n",
      "import pandas\n",
      "import numexpr\n",
      "import sklearn\n",
      "import sklearn.decomposition\n",
      "import sklearn.manifold\n",
      "import MySQLdb\n",
      "import pyfasta\n",
      "import pysam\n",
      "import pysamstats\n",
      "import petl\n",
      "import petl.interactive as etl\n",
      "etl.repr_index_header = True\n",
      "import petl.io\n",
      "import petlx\n",
      "import petlx.array\n",
      "import petlx.dataframe\n",
      "import petlx.vcf\n",
      "import petlx.interval\n",
      "import petlx.gff3\n",
      "import petlx.xlsx\n",
      "import petlx.ipython\n",
      "import petlx.tabix\n",
      "import vcf\n",
      "import vcfnp\n",
      "import h5py\n",
      "import tables\n",
      "import vcfplt\n",
      "import sh"
     ],
     "language": "python",
     "metadata": {},
     "outputs": [],
     "prompt_number": 7
    },
    {
     "cell_type": "code",
     "collapsed": false,
     "input": [
      "def print_library_versions():\n",
      "    print 'numpy', np.__version__\n",
      "    print 'scipy', sp.__version__\n",
      "    print 'pandas', pd.__version__\n",
      "    print 'numexpr', numexpr.__version__\n",
      "    print 'pysam', pysam.__version__\n",
      "    print 'pysamstats', pysamstats.__version__\n",
      "    print 'petl', petl.__version__\n",
      "    etl.repr_index_header = True\n",
      "    print 'petlx', petlx.__version__\n",
      "    print 'vcf', vcf.VERSION\n",
      "    print 'vcfnp', vcfnp.__version__\n",
      "    print 'h5py', h5py.__version__\n",
      "    print 'tables', tables.__version__\n",
      "    print 'vcfplt', vcfplt.__version__\n"
     ],
     "language": "python",
     "metadata": {},
     "outputs": [],
     "prompt_number": 8
    },
    {
     "cell_type": "code",
     "collapsed": false,
     "input": [],
     "language": "python",
     "metadata": {},
     "outputs": [],
     "prompt_number": 9
    }
   ],
   "metadata": {}
  }
 ]
}