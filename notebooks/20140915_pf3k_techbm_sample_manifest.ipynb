{
 "metadata": {
  "name": "",
  "signature": "sha256:ead0b2041530ca617ad6b90352ee0f1c0fb12e86f8ecc0978e5b143f255b8e3f"
 },
 "nbformat": 3,
 "nbformat_minor": 0,
 "worksheets": [
  {
   "cells": [
    {
     "cell_type": "heading",
     "level": 1,
     "metadata": {},
     "source": [
      "Setup"
     ]
    },
    {
     "cell_type": "code",
     "collapsed": false,
     "input": [
      "%run standard_imports.ipynb\n",
      "%matplotlib inline\n",
      "import matplotlib.pyplot as plt\n",
      "print_library_versions()\n"
     ],
     "language": "python",
     "metadata": {},
     "outputs": [
      {
       "output_type": "stream",
       "stream": "stdout",
       "text": [
        "Bioconductor version 2.13 (BiocInstaller 1.12.1), ?biocLite for help\n",
        "A newer version of Bioconductor is available for this version of R,\n",
        "  ?BiocUpgrade for help\n",
        "numpy"
       ]
      },
      {
       "output_type": "stream",
       "stream": "stdout",
       "text": [
        " 1.8.1\n",
        "scipy 0.14.0\n",
        "pandas 0.14.0\n",
        "numexpr 2.4\n",
        "pysam 0.7.8\n",
        "pysamstats 0.15.1\n",
        "petl 0.24.3\n",
        "petlx 0.16.1\n",
        "vcf 0.6.7\n",
        "vcfnp 1.11.5\n",
        "h5py 2.3.1\n",
        "tables 3.1.1\n",
        "vcfplt 0.8\n",
        "numpy 1.8.1\n",
        "scipy 0.14.0\n",
        "pandas 0.14.0\n",
        "numexpr 2.4\n",
        "pysam 0.7.8\n",
        "pysamstats 0.15.1\n",
        "petl 0.24.3\n",
        "petlx 0.16.1\n",
        "vcf 0.6.7\n",
        "vcfnp 1.11.5\n",
        "h5py 2.3.1\n",
        "tables 3.1.1\n",
        "vcfplt 0.8\n"
       ]
      },
      {
       "output_type": "stream",
       "stream": "stderr",
       "text": [
        "/home/rpearson/pyenv/science/local/lib/python2.7/site-packages/pandas/io/excel.py:626: UserWarning: Installed openpyxl is not supported at this time. Use >=1.6.1 and <2.0.0.\n",
        "  .format(openpyxl_compat.start_ver, openpyxl_compat.stop_ver))\n"
       ]
      }
     ],
     "prompt_number": 1
    },
    {
     "cell_type": "code",
     "collapsed": false,
     "input": [
      "def tabulate(x):\n",
      "    u, indices = np.unique(x, return_inverse=True)\n",
      "    return dict(zip(u, np.bincount(indices)))"
     ],
     "language": "python",
     "metadata": {},
     "outputs": [],
     "prompt_number": 2
    },
    {
     "cell_type": "code",
     "collapsed": false,
     "input": [
      "panoptes_samples_fn = '/data/plasmodium/pfalciparum/pf3k_techbm/meta/pf3k_1.0_pilot_samples_panoptes.txt'\n",
      "fws_4_0_fn = '/data/plasmodium/pfalciparum/pf3k_techbm/meta/SampleFws.tab'\n",
      "fws_3_0_fn = '/data/plasmodium/PfAnalysis/PfAnalysis/PGV-3.0/results/Typables-7Populations/hetero/data/SampleFws.tab'\n",
      "vcf_7g8_gb4_fn = '/data/plasmodium/pfalciparum/pf-crosses/data/public/20140515/7g8_gb4.combined.final.vcf.gz'\n",
      "vcf_hb3_dd2_fn = '/data/plasmodium/pfalciparum/pf-crosses/data/public/20140515/hb3_dd2.combined.final.vcf.gz'\n",
      "vcf_3d7_hb3_fn = '/data/plasmodium/pfalciparum/pf-crosses/data/public/20140515/3d7_hb3.combined.final.vcf.gz'\n",
      "panoptes_7g8_gb4_fn = '/data/plasmodium/pfalciparum/pf3k_techbm/meta/pf_crosses_1.0_7g8_gb4_samples_panoptes.txt'\n",
      "panoptes_hb3_dd2_fn = '/data/plasmodium/pfalciparum/pf3k_techbm/meta/pf_crosses_1.0_hb3_dd2_samples_panoptes.txt'\n",
      "panoptes_3d7_hb3_fn = '/data/plasmodium/pfalciparum/pf3k_techbm/meta/pf_crosses_1.0_3d7_hb3_samples_panoptes.txt'\n",
      "dan_google_docs_fn = '/data/plasmodium/pfalciparum/pf3k_techbm/meta/Pf3K_techbenchmarking_validation_data.xlsx'\n",
      "reference_genome_fn = '/data/mirror/lustre/scratch108/malaria/pfalciparum/resources/3D7_V3.fasta'"
     ],
     "language": "python",
     "metadata": {},
     "outputs": [],
     "prompt_number": 3
    },
    {
     "cell_type": "code",
     "collapsed": false,
     "input": [
      "plot_dir = os.path.expanduser('~/Documents/projects/Pf3k_techbm/reports/20140915_pf3k_techbm_sample_manifest/figures')\n",
      "!mkdir -p {plot_dir}"
     ],
     "language": "python",
     "metadata": {},
     "outputs": [],
     "prompt_number": 4
    },
    {
     "cell_type": "code",
     "collapsed": false,
     "input": [
      "KH_samples = {'KH1': 'PH0199-C', 'KH2': 'PH0197-C'}\n",
      "Cross_parents = ['3D7', 'HB3', 'GB4', '7G8', 'DD2'] # NB these are also all in LRS project"
     ],
     "language": "python",
     "metadata": {},
     "outputs": [],
     "prompt_number": 5
    },
    {
     "cell_type": "code",
     "collapsed": false,
     "input": [
      "sample_manifest_fn = os.path.expanduser('/data/plasmodium/pfalciparum/pf3k_techbm/meta/pf3k_techbm_sample_manifest_20140915.txt')"
     ],
     "language": "python",
     "metadata": {},
     "outputs": [],
     "prompt_number": 6
    },
    {
     "cell_type": "code",
     "collapsed": false,
     "input": [
      "import brewer2mpl\n",
      "# Get \"Set2\" colors from ColorBrewer (all colorbrewer scales: http://bl.ocks.org/mbostock/5577023)\n",
      "set1 = brewer2mpl.get_map('Set1', 'qualitative', 9).mpl_colors\n"
     ],
     "language": "python",
     "metadata": {},
     "outputs": [],
     "prompt_number": 7
    },
    {
     "cell_type": "heading",
     "level": 1,
     "metadata": {},
     "source": [
      "Length of genome"
     ]
    },
    {
     "cell_type": "code",
     "collapsed": false,
     "input": [
      "from Bio import SeqIO\n",
      "handle = open(reference_genome_fn, \"rU\")\n",
      "records = list(SeqIO.parse(handle, \"fasta\"))\n",
      "genome_length = sum([len(record) for record in records])\n",
      "print genome_length"
     ],
     "language": "python",
     "metadata": {},
     "outputs": [
      {
       "output_type": "stream",
       "stream": "stdout",
       "text": [
        "23332831\n"
       ]
      }
     ],
     "prompt_number": 8
    },
    {
     "cell_type": "heading",
     "level": 1,
     "metadata": {},
     "source": [
      "Choose clinical samples"
     ]
    },
    {
     "cell_type": "code",
     "collapsed": false,
     "input": [
      "table_panoptes_samples = (etl.fromtsv(panoptes_samples_fn))\n",
      "table_fws_4_0 = (etl.fromtsv(fws_4_0_fn))\n",
      "table_fws_3_0 = (etl.fromtsv(fws_3_0_fn))\n",
      "table_dan_google_docs = etl.wrap(petlx.xlsx.fromxlsx(dan_google_docs_fn))\n"
     ],
     "language": "python",
     "metadata": {},
     "outputs": [],
     "prompt_number": 9
    },
    {
     "cell_type": "code",
     "collapsed": false,
     "input": [
      "required_fields = ([u'ox_code'] + list(table_dan_google_docs.header())\n",
      "         + [u'study', u'country', u'samplingSite', u'In LRS project']\n",
      "         + [u'meanCoverage', u'Proportion of genome at 5x']\n",
      "         + [u'insertSizeAverage', u'insertSizeStandardDeviation'])\n",
      "required_fields"
     ],
     "language": "python",
     "metadata": {},
     "outputs": [
      {
       "metadata": {},
       "output_type": "pyout",
       "prompt_number": 10,
       "text": [
        "[u'ox_code',\n",
        " u'Sample',\n",
        " u'Read Type',\n",
        " u'Data Source',\n",
        " u'Cultured/Field Isolate',\n",
        " u'Cross Parent',\n",
        " u'Cross Progeny',\n",
        " u'Single/Mixed',\n",
        " u'Other Notes',\n",
        " u'study',\n",
        " u'country',\n",
        " u'samplingSite',\n",
        " u'In LRS project',\n",
        " u'meanCoverage',\n",
        " u'Proportion of genome at 5x',\n",
        " u'insertSizeAverage',\n",
        " u'insertSizeStandardDeviation']"
       ]
      }
     ],
     "prompt_number": 10
    },
    {
     "cell_type": "code",
     "collapsed": false,
     "input": [
      "table_panoptes_samples"
     ],
     "language": "python",
     "metadata": {},
     "outputs": [
      {
       "html": [
        "<table class='petl'>\r\n",
        "<thead>\r\n",
        "<tr>\r\n",
        "<th>0|sample_id</th>\r\n",
        "<th>1|study</th>\r\n",
        "<th>2|country</th>\r\n",
        "<th>3|samplingSite</th>\r\n",
        "<th>4|ena_accession</th>\r\n",
        "<th>5|totalBases</th>\r\n",
        "<th>6|basesMapped</th>\r\n",
        "<th>7|basesDuplicated</th>\r\n",
        "<th>8|averageReadLength</th>\r\n",
        "<th>9|averageQuality</th>\r\n",
        "<th>10|basesof1xCoverage</th>\r\n",
        "<th>11|basesof5xCoverage</th>\r\n",
        "<th>12|basesof10xCoverage</th>\r\n",
        "<th>13|basesof50xCoverage</th>\r\n",
        "<th>14|meanCoverage</th>\r\n",
        "<th>15|insertSizeAverage</th>\r\n",
        "<th>16|insertSizeStandardDeviation</th>\r\n",
        "</tr>\r\n",
        "</thead>\r\n",
        "<tbody>\r\n",
        "<tr>\r\n",
        "<td>PA0007-C</td>\r\n",
        "<td>1006</td>\r\n",
        "<td>The Gambia</td>\r\n",
        "<td>GM_Coastal</td>\r\n",
        "<td>ERS010116</td>\r\n",
        "<td>2074610304.0</td>\r\n",
        "<td>1849037212.0</td>\r\n",
        "<td>792743536.0</td>\r\n",
        "<td>76.0</td>\r\n",
        "<td>33.1</td>\r\n",
        "<td>22703916.0</td>\r\n",
        "<td>20226914.0</td>\r\n",
        "<td>17341168.0</td>\r\n",
        "<td>9063212.0</td>\r\n",
        "<td>74.27</td>\r\n",
        "<td>320.9</td>\r\n",
        "<td>68.3</td>\r\n",
        "</tr>\r\n",
        "<tr>\r\n",
        "<td>PA0008-C</td>\r\n",
        "<td>1006</td>\r\n",
        "<td>The Gambia</td>\r\n",
        "<td>GM_Coastal</td>\r\n",
        "<td>ERS010126</td>\r\n",
        "<td>2529943176.0</td>\r\n",
        "<td>2302964844.0</td>\r\n",
        "<td>413304492.0</td>\r\n",
        "<td>76.0</td>\r\n",
        "<td>33.3</td>\r\n",
        "<td>23160225.0</td>\r\n",
        "<td>22873797.0</td>\r\n",
        "<td>22241258.0</td>\r\n",
        "<td>14633143.0</td>\r\n",
        "<td>96.81</td>\r\n",
        "<td>339.9</td>\r\n",
        "<td>40.2</td>\r\n",
        "</tr>\r\n",
        "<tr>\r\n",
        "<td>PA0011-C</td>\r\n",
        "<td>1006</td>\r\n",
        "<td>The Gambia</td>\r\n",
        "<td>GM_Coastal</td>\r\n",
        "<td>ERS010043</td>\r\n",
        "<td>3707830088.0</td>\r\n",
        "<td>3451499872.0</td>\r\n",
        "<td>80645044.0</td>\r\n",
        "<td>76.0</td>\r\n",
        "<td>32.5</td>\r\n",
        "<td>22960209.0</td>\r\n",
        "<td>22798857.0</td>\r\n",
        "<td>22697202.0</td>\r\n",
        "<td>21815652.0</td>\r\n",
        "<td>149.59</td>\r\n",
        "<td>249.8</td>\r\n",
        "<td>44.8</td>\r\n",
        "</tr>\r\n",
        "<tr>\r\n",
        "<td>PA0012-C</td>\r\n",
        "<td>1006</td>\r\n",
        "<td>The Gambia</td>\r\n",
        "<td>GM_Coastal</td>\r\n",
        "<td>ERS010127</td>\r\n",
        "<td>2910823712.0</td>\r\n",
        "<td>2219976340.0</td>\r\n",
        "<td>125521448.0</td>\r\n",
        "<td>76.0</td>\r\n",
        "<td>32.3</td>\r\n",
        "<td>22982697.0</td>\r\n",
        "<td>22430685.0</td>\r\n",
        "<td>21499677.0</td>\r\n",
        "<td>14970548.0</td>\r\n",
        "<td>95.02</td>\r\n",
        "<td>251.9</td>\r\n",
        "<td>84.1</td>\r\n",
        "</tr>\r\n",
        "<tr>\r\n",
        "<td>PA0015-C</td>\r\n",
        "<td>1006</td>\r\n",
        "<td>The Gambia</td>\r\n",
        "<td>GM_Coastal</td>\r\n",
        "<td>ERS010044</td>\r\n",
        "<td>4228662344.0</td>\r\n",
        "<td>3910137604.0</td>\r\n",
        "<td>122161792.0</td>\r\n",
        "<td>76.0</td>\r\n",
        "<td>32.1</td>\r\n",
        "<td>23002807.0</td>\r\n",
        "<td>22866914.0</td>\r\n",
        "<td>22784685.0</td>\r\n",
        "<td>22157189.0</td>\r\n",
        "<td>169.55</td>\r\n",
        "<td>255.1</td>\r\n",
        "<td>47.2</td>\r\n",
        "</tr>\r\n",
        "</tbody>\r\n",
        "</table>\r\n",
        "<p><strong>...</strong></p>"
       ],
       "metadata": {},
       "output_type": "pyout",
       "prompt_number": 11,
       "text": [
        "+---------------+-----------+--------------+------------------+-------------------+----------------+-----------------+---------------------+-----------------------+--------------------+------------------------+------------------------+-------------------------+-------------------------+-------------------+------------------------+----------------------------------+\n",
        "| '0|sample_id' | '1|study' | '2|country'  | '3|samplingSite' | '4|ena_accession' | '5|totalBases' | '6|basesMapped' | '7|basesDuplicated' | '8|averageReadLength' | '9|averageQuality' | '10|basesof1xCoverage' | '11|basesof5xCoverage' | '12|basesof10xCoverage' | '13|basesof50xCoverage' | '14|meanCoverage' | '15|insertSizeAverage' | '16|insertSizeStandardDeviation' |\n",
        "+===============+===========+==============+==================+===================+================+=================+=====================+=======================+====================+========================+========================+=========================+=========================+===================+========================+==================================+\n",
        "| 'PA0007-C'    | '1006'    | 'The Gambia' | 'GM_Coastal'     | 'ERS010116'       | '2074610304.0' | '1849037212.0'  | '792743536.0'       | '76.0'                | '33.1'             | '22703916.0'           | '20226914.0'           | '17341168.0'            | '9063212.0'             | '74.27'           | '320.9'                | '68.3'                           |\n",
        "+---------------+-----------+--------------+------------------+-------------------+----------------+-----------------+---------------------+-----------------------+--------------------+------------------------+------------------------+-------------------------+-------------------------+-------------------+------------------------+----------------------------------+\n",
        "| 'PA0008-C'    | '1006'    | 'The Gambia' | 'GM_Coastal'     | 'ERS010126'       | '2529943176.0' | '2302964844.0'  | '413304492.0'       | '76.0'                | '33.3'             | '23160225.0'           | '22873797.0'           | '22241258.0'            | '14633143.0'            | '96.81'           | '339.9'                | '40.2'                           |\n",
        "+---------------+-----------+--------------+------------------+-------------------+----------------+-----------------+---------------------+-----------------------+--------------------+------------------------+------------------------+-------------------------+-------------------------+-------------------+------------------------+----------------------------------+\n",
        "| 'PA0011-C'    | '1006'    | 'The Gambia' | 'GM_Coastal'     | 'ERS010043'       | '3707830088.0' | '3451499872.0'  | '80645044.0'        | '76.0'                | '32.5'             | '22960209.0'           | '22798857.0'           | '22697202.0'            | '21815652.0'            | '149.59'          | '249.8'                | '44.8'                           |\n",
        "+---------------+-----------+--------------+------------------+-------------------+----------------+-----------------+---------------------+-----------------------+--------------------+------------------------+------------------------+-------------------------+-------------------------+-------------------+------------------------+----------------------------------+\n",
        "| 'PA0012-C'    | '1006'    | 'The Gambia' | 'GM_Coastal'     | 'ERS010127'       | '2910823712.0' | '2219976340.0'  | '125521448.0'       | '76.0'                | '32.3'             | '22982697.0'           | '22430685.0'           | '21499677.0'            | '14970548.0'            | '95.02'           | '251.9'                | '84.1'                           |\n",
        "+---------------+-----------+--------------+------------------+-------------------+----------------+-----------------+---------------------+-----------------------+--------------------+------------------------+------------------------+-------------------------+-------------------------+-------------------+------------------------+----------------------------------+\n",
        "| 'PA0015-C'    | '1006'    | 'The Gambia' | 'GM_Coastal'     | 'ERS010044'       | '4228662344.0' | '3910137604.0'  | '122161792.0'       | '76.0'                | '32.1'             | '23002807.0'           | '22866914.0'           | '22784685.0'            | '22157189.0'            | '169.55'          | '255.1'                | '47.2'                           |\n",
        "+---------------+-----------+--------------+------------------+-------------------+----------------+-----------------+---------------------+-----------------------+--------------------+------------------------+------------------------+-------------------------+-------------------------+-------------------+------------------------+----------------------------------+"
       ]
      }
     ],
     "prompt_number": 11
    },
    {
     "cell_type": "code",
     "collapsed": false,
     "input": [
      "table_fws_4_0"
     ],
     "language": "python",
     "metadata": {},
     "outputs": [
      {
       "html": [
        "<table class='petl'>\r\n",
        "<thead>\r\n",
        "<tr>\r\n",
        "<th>0|Sample</th>\r\n",
        "<th>1|Pop</th>\r\n",
        "<th>2|Group</th>\r\n",
        "<th>3|Fws</th>\r\n",
        "<th>4|r2</th>\r\n",
        "<th>5|maf_0.05</th>\r\n",
        "<th>6|maf_0.1</th>\r\n",
        "<th>7|maf_0.15</th>\r\n",
        "<th>8|maf_0.2</th>\r\n",
        "<th>9|maf_0.25</th>\r\n",
        "<th>10|maf_0.3</th>\r\n",
        "<th>11|maf_0.35</th>\r\n",
        "<th>12|maf_0.4</th>\r\n",
        "<th>13|maf_0.45</th>\r\n",
        "<th>14|maf_0.5</th>\r\n",
        "</tr>\r\n",
        "</thead>\r\n",
        "<tbody>\r\n",
        "<tr>\r\n",
        "<td>PR0001-CW</td>\r\n",
        "<td>SAS</td>\r\n",
        "<td>BD</td>\r\n",
        "<td>0.99927564121063</td>\r\n",
        "<td>0.379859126385902</td>\r\n",
        "<td>0.000468024020367856</td>\r\n",
        "<td>0.000380627267730831</td>\r\n",
        "<td>0.0000412343382576847</td>\r\n",
        "<td>0</td>\r\n",
        "<td>0.000668640828359801</td>\r\n",
        "<td>0.000238424865318318</td>\r\n",
        "<td>0.000953382169301435</td>\r\n",
        "<td>0.000104185891445255</td>\r\n",
        "<td>0.000192517371707603</td>\r\n",
        "<td>0</td>\r\n",
        "</tr>\r\n",
        "<tr>\r\n",
        "<td>PR0002-CW</td>\r\n",
        "<td>SAS</td>\r\n",
        "<td>BD</td>\r\n",
        "<td>0.998539968532666</td>\r\n",
        "<td>0.687439269099474</td>\r\n",
        "<td>0.000499975131337494</td>\r\n",
        "<td>0.000901908018634094</td>\r\n",
        "<td>0.00032269682564337</td>\r\n",
        "<td>0.000552568227741459</td>\r\n",
        "<td>0.000121764071189591</td>\r\n",
        "<td>0.000856200929757942</td>\r\n",
        "<td>0.0008459988451424</td>\r\n",
        "<td>0.000729575806639706</td>\r\n",
        "<td>0.000189536244194932</td>\r\n",
        "<td>0.000771668814691871</td>\r\n",
        "</tr>\r\n",
        "<tr>\r\n",
        "<td>PR0003-CW</td>\r\n",
        "<td>SAS</td>\r\n",
        "<td>BD</td>\r\n",
        "<td>0.999213137478884</td>\r\n",
        "<td>0.365035819884098</td>\r\n",
        "<td>0.000338086379030293</td>\r\n",
        "<td>0.00106844069056312</td>\r\n",
        "<td>0.000197501231940984</td>\r\n",
        "<td>0.00015914129142963</td>\r\n",
        "<td>0.00011087158464</td>\r\n",
        "<td>0.0000767810358846737</td>\r\n",
        "<td>0.000345369727891026</td>\r\n",
        "<td>0.000739528403769653</td>\r\n",
        "<td>0.000488003140159844</td>\r\n",
        "<td>0</td>\r\n",
        "</tr>\r\n",
        "<tr>\r\n",
        "<td>PR0004-CW</td>\r\n",
        "<td>SAS</td>\r\n",
        "<td>BD</td>\r\n",
        "<td>0.606837531570178</td>\r\n",
        "<td>0.99810262374775</td>\r\n",
        "<td>0.0115753623049074</td>\r\n",
        "<td>0.0468284993955824</td>\r\n",
        "<td>0.0896734084115566</td>\r\n",
        "<td>0.121701942872189</td>\r\n",
        "<td>0.12668255779566</td>\r\n",
        "<td>0.156629087197976</td>\r\n",
        "<td>0.161749261181427</td>\r\n",
        "<td>0.191983108539808</td>\r\n",
        "<td>0.192269232690805</td>\r\n",
        "<td>0.197556474614063</td>\r\n",
        "</tr>\r\n",
        "<tr>\r\n",
        "<td>PR0005-CW</td>\r\n",
        "<td>SAS</td>\r\n",
        "<td>BD</td>\r\n",
        "<td>0.997780717136339</td>\r\n",
        "<td>0.829336558675705</td>\r\n",
        "<td>0.000429739165444405</td>\r\n",
        "<td>0.000998075941021208</td>\r\n",
        "<td>0.00064540312580561</td>\r\n",
        "<td>0.000868175808738772</td>\r\n",
        "<td>0.000874962211558025</td>\r\n",
        "<td>0.000655032885384384</td>\r\n",
        "<td>0.00133514647935669</td>\r\n",
        "<td>0.00101574646283729</td>\r\n",
        "<td>0.000435836379929961</td>\r\n",
        "<td>0.00114124440416729</td>\r\n",
        "</tr>\r\n",
        "</tbody>\r\n",
        "</table>\r\n",
        "<p><strong>...</strong></p>"
       ],
       "metadata": {},
       "output_type": "pyout",
       "prompt_number": 12,
       "text": [
        "+-------------+---------+-----------+---------------------+---------------------+------------------------+------------------------+-------------------------+------------------------+------------------------+-------------------------+------------------------+------------------------+------------------------+------------------------+\n",
        "| '0|Sample'  | '1|Pop' | '2|Group' | '3|Fws'             | '4|r2'              | '5|maf_0.05'           | '6|maf_0.1'            | '7|maf_0.15'            | '8|maf_0.2'            | '9|maf_0.25'           | '10|maf_0.3'            | '11|maf_0.35'          | '12|maf_0.4'           | '13|maf_0.45'          | '14|maf_0.5'           |\n",
        "+=============+=========+===========+=====================+=====================+========================+========================+=========================+========================+========================+=========================+========================+========================+========================+========================+\n",
        "| 'PR0001-CW' | 'SAS'   | 'BD'      | '0.99927564121063'  | '0.379859126385902' | '0.000468024020367856' | '0.000380627267730831' | '0.0000412343382576847' | '0'                    | '0.000668640828359801' | '0.000238424865318318'  | '0.000953382169301435' | '0.000104185891445255' | '0.000192517371707603' | '0'                    |\n",
        "+-------------+---------+-----------+---------------------+---------------------+------------------------+------------------------+-------------------------+------------------------+------------------------+-------------------------+------------------------+------------------------+------------------------+------------------------+\n",
        "| 'PR0002-CW' | 'SAS'   | 'BD'      | '0.998539968532666' | '0.687439269099474' | '0.000499975131337494' | '0.000901908018634094' | '0.00032269682564337'   | '0.000552568227741459' | '0.000121764071189591' | '0.000856200929757942'  | '0.0008459988451424'   | '0.000729575806639706' | '0.000189536244194932' | '0.000771668814691871' |\n",
        "+-------------+---------+-----------+---------------------+---------------------+------------------------+------------------------+-------------------------+------------------------+------------------------+-------------------------+------------------------+------------------------+------------------------+------------------------+\n",
        "| 'PR0003-CW' | 'SAS'   | 'BD'      | '0.999213137478884' | '0.365035819884098' | '0.000338086379030293' | '0.00106844069056312'  | '0.000197501231940984'  | '0.00015914129142963'  | '0.00011087158464'     | '0.0000767810358846737' | '0.000345369727891026' | '0.000739528403769653' | '0.000488003140159844' | '0'                    |\n",
        "+-------------+---------+-----------+---------------------+---------------------+------------------------+------------------------+-------------------------+------------------------+------------------------+-------------------------+------------------------+------------------------+------------------------+------------------------+\n",
        "| 'PR0004-CW' | 'SAS'   | 'BD'      | '0.606837531570178' | '0.99810262374775'  | '0.0115753623049074'   | '0.0468284993955824'   | '0.0896734084115566'    | '0.121701942872189'    | '0.12668255779566'     | '0.156629087197976'     | '0.161749261181427'    | '0.191983108539808'    | '0.192269232690805'    | '0.197556474614063'    |\n",
        "+-------------+---------+-----------+---------------------+---------------------+------------------------+------------------------+-------------------------+------------------------+------------------------+-------------------------+------------------------+------------------------+------------------------+------------------------+\n",
        "| 'PR0005-CW' | 'SAS'   | 'BD'      | '0.997780717136339' | '0.829336558675705' | '0.000429739165444405' | '0.000998075941021208' | '0.00064540312580561'   | '0.000868175808738772' | '0.000874962211558025' | '0.000655032885384384'  | '0.00133514647935669'  | '0.00101574646283729'  | '0.000435836379929961' | '0.00114124440416729'  |\n",
        "+-------------+---------+-----------+---------------------+---------------------+------------------------+------------------------+-------------------------+------------------------+------------------------+-------------------------+------------------------+------------------------+------------------------+------------------------+"
       ]
      }
     ],
     "prompt_number": 12
    },
    {
     "cell_type": "code",
     "collapsed": false,
     "input": [
      "table_dan_google_docs"
     ],
     "language": "python",
     "metadata": {},
     "outputs": [
      {
       "html": [
        "<table class='petl'>\r\n",
        "<thead>\r\n",
        "<tr>\r\n",
        "<th>0|Sample</th>\r\n",
        "<th>1|Read Type</th>\r\n",
        "<th>2|Data Source</th>\r\n",
        "<th>3|Cultured/Field Isolate</th>\r\n",
        "<th>4|Cross Parent</th>\r\n",
        "<th>5|Cross Progeny</th>\r\n",
        "<th>6|Single/Mixed</th>\r\n",
        "<th>7|Other Notes</th>\r\n",
        "</tr>\r\n",
        "</thead>\r\n",
        "<tbody>\r\n",
        "<tr>\r\n",
        "<td>3D7</td>\r\n",
        "<td>None</td>\r\n",
        "<td>Sanger</td>\r\n",
        "<td>Cultured</td>\r\n",
        "<td style='text-align: right'>1.0</td>\r\n",
        "<td style='text-align: right'>0.0</td>\r\n",
        "<td>Single</td>\r\n",
        "<td>Reference assembly strain</td>\r\n",
        "</tr>\r\n",
        "<tr>\r\n",
        "<td>3D7</td>\r\n",
        "<td>250 bp p/e</td>\r\n",
        "<td>Broad</td>\r\n",
        "<td>Cultured</td>\r\n",
        "<td style='text-align: right'>1.0</td>\r\n",
        "<td style='text-align: right'>0.0</td>\r\n",
        "<td>Single</td>\r\n",
        "<td>Evaluation of DISCOVAR</td>\r\n",
        "</tr>\r\n",
        "<tr>\r\n",
        "<td>Dd2</td>\r\n",
        "<td>None</td>\r\n",
        "<td>Sanger</td>\r\n",
        "<td>Cultured</td>\r\n",
        "<td style='text-align: right'>1.0</td>\r\n",
        "<td style='text-align: right'>0.0</td>\r\n",
        "<td>Single</td>\r\n",
        "<td>None</td>\r\n",
        "</tr>\r\n",
        "<tr>\r\n",
        "<td>HB3</td>\r\n",
        "<td>None</td>\r\n",
        "<td>Sanger</td>\r\n",
        "<td>Cultured</td>\r\n",
        "<td style='text-align: right'>1.0</td>\r\n",
        "<td style='text-align: right'>0.0</td>\r\n",
        "<td>Single</td>\r\n",
        "<td>None</td>\r\n",
        "</tr>\r\n",
        "<tr>\r\n",
        "<td>7G8</td>\r\n",
        "<td>None</td>\r\n",
        "<td>Sanger</td>\r\n",
        "<td>Cultured</td>\r\n",
        "<td style='text-align: right'>1.0</td>\r\n",
        "<td style='text-align: right'>0.0</td>\r\n",
        "<td>Single</td>\r\n",
        "<td>None</td>\r\n",
        "</tr>\r\n",
        "</tbody>\r\n",
        "</table>\r\n",
        "<p><strong>...</strong></p>"
       ],
       "metadata": {},
       "output_type": "pyout",
       "prompt_number": 13,
       "text": [
        "+-------------+----------------+------------------+-----------------------------+-------------------+--------------------+-------------------+------------------------------+\n",
        "| u'0|Sample' | u'1|Read Type' | u'2|Data Source' | u'3|Cultured/Field Isolate' | u'4|Cross Parent' | u'5|Cross Progeny' | u'6|Single/Mixed' | u'7|Other Notes'             |\n",
        "+=============+================+==================+=============================+===================+====================+===================+==============================+\n",
        "| u'3D7'      | None           | u'Sanger'        | u'Cultured'                 |               1.0 |                0.0 | u'Single'         | u'Reference assembly strain' |\n",
        "+-------------+----------------+------------------+-----------------------------+-------------------+--------------------+-------------------+------------------------------+\n",
        "| u'3D7'      | u'250 bp p/e'  | u'Broad'         | u'Cultured'                 |               1.0 |                0.0 | u'Single'         | u'Evaluation of DISCOVAR'    |\n",
        "+-------------+----------------+------------------+-----------------------------+-------------------+--------------------+-------------------+------------------------------+\n",
        "| u'Dd2'      | None           | u'Sanger'        | u'Cultured'                 |               1.0 |                0.0 | u'Single'         | None                         |\n",
        "+-------------+----------------+------------------+-----------------------------+-------------------+--------------------+-------------------+------------------------------+\n",
        "| u'HB3'      | None           | u'Sanger'        | u'Cultured'                 |               1.0 |                0.0 | u'Single'         | None                         |\n",
        "+-------------+----------------+------------------+-----------------------------+-------------------+--------------------+-------------------+------------------------------+\n",
        "| u'7G8'      | None           | u'Sanger'        | u'Cultured'                 |               1.0 |                0.0 | u'Single'         | None                         |\n",
        "+-------------+----------------+------------------+-----------------------------+-------------------+--------------------+-------------------+------------------------------+"
       ]
      }
     ],
     "prompt_number": 13
    },
    {
     "cell_type": "code",
     "collapsed": false,
     "input": [
      "table_dan_google_docs.select(lambda rec: rec['Data Source'] == 'Broad' or rec['Sample'] == 'IT')"
     ],
     "language": "python",
     "metadata": {},
     "outputs": [
      {
       "html": [
        "<table class='petl'>\r\n",
        "<thead>\r\n",
        "<tr>\r\n",
        "<th>0|Sample</th>\r\n",
        "<th>1|Read Type</th>\r\n",
        "<th>2|Data Source</th>\r\n",
        "<th>3|Cultured/Field Isolate</th>\r\n",
        "<th>4|Cross Parent</th>\r\n",
        "<th>5|Cross Progeny</th>\r\n",
        "<th>6|Single/Mixed</th>\r\n",
        "<th>7|Other Notes</th>\r\n",
        "</tr>\r\n",
        "</thead>\r\n",
        "<tbody>\r\n",
        "<tr>\r\n",
        "<td>3D7</td>\r\n",
        "<td>250 bp p/e</td>\r\n",
        "<td>Broad</td>\r\n",
        "<td>Cultured</td>\r\n",
        "<td style='text-align: right'>1.0</td>\r\n",
        "<td style='text-align: right'>0.0</td>\r\n",
        "<td>Single</td>\r\n",
        "<td>Evaluation of DISCOVAR</td>\r\n",
        "</tr>\r\n",
        "<tr>\r\n",
        "<td>IT</td>\r\n",
        "<td>None</td>\r\n",
        "<td>Sanger</td>\r\n",
        "<td>Cultured</td>\r\n",
        "<td style='text-align: right'>0.0</td>\r\n",
        "<td style='text-align: right'>0.0</td>\r\n",
        "<td>Single</td>\r\n",
        "<td>Reference assembly strain</td>\r\n",
        "</tr>\r\n",
        "</tbody>\r\n",
        "</table>\r\n"
       ],
       "metadata": {},
       "output_type": "pyout",
       "prompt_number": 14,
       "text": [
        "+-------------+----------------+------------------+-----------------------------+-------------------+--------------------+-------------------+------------------------------+\n",
        "| u'0|Sample' | u'1|Read Type' | u'2|Data Source' | u'3|Cultured/Field Isolate' | u'4|Cross Parent' | u'5|Cross Progeny' | u'6|Single/Mixed' | u'7|Other Notes'             |\n",
        "+=============+================+==================+=============================+===================+====================+===================+==============================+\n",
        "| u'3D7'      | u'250 bp p/e'  | u'Broad'         | u'Cultured'                 |               1.0 |                0.0 | u'Single'         | u'Evaluation of DISCOVAR'    |\n",
        "+-------------+----------------+------------------+-----------------------------+-------------------+--------------------+-------------------+------------------------------+\n",
        "| u'IT'       | None           | u'Sanger'        | u'Cultured'                 |               0.0 |                0.0 | u'Single'         | u'Reference assembly strain' |\n",
        "+-------------+----------------+------------------+-----------------------------+-------------------+--------------------+-------------------+------------------------------+"
       ]
      }
     ],
     "prompt_number": 14
    },
    {
     "cell_type": "code",
     "collapsed": false,
     "input": [
      "list(table_dan_google_docs.header()) + [u'study', u'country', u'samplingSite']"
     ],
     "language": "python",
     "metadata": {},
     "outputs": [
      {
       "metadata": {},
       "output_type": "pyout",
       "prompt_number": 15,
       "text": [
        "[u'Sample',\n",
        " u'Read Type',\n",
        " u'Data Source',\n",
        " u'Cultured/Field Isolate',\n",
        " u'Cross Parent',\n",
        " u'Cross Progeny',\n",
        " u'Single/Mixed',\n",
        " u'Other Notes',\n",
        " u'study',\n",
        " u'country',\n",
        " u'samplingSite']"
       ]
      }
     ],
     "prompt_number": 15
    },
    {
     "cell_type": "code",
     "collapsed": false,
     "input": [
      "list(table_dan_google_docs.header())"
     ],
     "language": "python",
     "metadata": {},
     "outputs": [
      {
       "metadata": {},
       "output_type": "pyout",
       "prompt_number": 16,
       "text": [
        "[u'Sample',\n",
        " u'Read Type',\n",
        " u'Data Source',\n",
        " u'Cultured/Field Isolate',\n",
        " u'Cross Parent',\n",
        " u'Cross Progeny',\n",
        " u'Single/Mixed',\n",
        " u'Other Notes']"
       ]
      }
     ],
     "prompt_number": 16
    },
    {
     "cell_type": "code",
     "collapsed": false,
     "input": [
      "def is_in_lrs_project(rec):\n",
      "    if rec['ox_code'] in KH_samples.values():\n",
      "        return 1\n",
      "    else:\n",
      "        return 0"
     ],
     "language": "python",
     "metadata": {},
     "outputs": [],
     "prompt_number": 17
    },
    {
     "cell_type": "code",
     "collapsed": false,
     "input": [
      "table_sample_manifest = (\n",
      "    table_panoptes_samples\n",
      "    .rename('sample_id', 'ox_code')\n",
      "    .leftjoin(table_fws_3_0\n",
      "                  .rename('Sample', 'ox_code')\n",
      "                  .rename('Fws', 'Fws_3_0')\n",
      "                  .cut(['ox_code', 'Fws_3_0'])\n",
      "              , 'ox_code')\n",
      "    .leftjoin(table_fws_4_0\n",
      "                  .rename('Sample', 'ox_code')\n",
      "                  .rename('Fws', 'Fws_4_0')\n",
      "                  .cut(['ox_code', 'Fws_4_0'])\n",
      "              , 'ox_code')\n",
      "    .convertnumbers()\n",
      "    .addfield('Sample', lambda rec: rec['ox_code'][0:6])\n",
      "    .addfield('Read Type', lambda rec: \"%d bp p/e\" % rec['averageReadLength'])\n",
      "    .addfield('Data Source', lambda rec: \"Sanger\")\n",
      "    .addfield('Cultured/Field Isolate', lambda rec: \"Field Isolate\")\n",
      "    .addfield('Cross Parent', lambda rec: 0)\n",
      "    .addfield('Cross Progeny', lambda rec: 0)\n",
      "    .addfield('Single/Mixed', lambda rec: \"Single\")\n",
      "    .addfield('Other Notes', lambda rec: None)\n",
      "    .addfield('In LRS project', lambda rec: is_in_lrs_project(rec))\n",
      "    .addfield('Proportion of genome at 1x', lambda rec: float(rec['basesof1xCoverage']) / genome_length)\n",
      "    .addfield('Proportion of genome at 5x', lambda rec: float(rec['basesof5xCoverage']) / genome_length)\n",
      "    .addfield('country__samplingSite', lambda rec: \"%s__%s\" % (rec['country'], rec['samplingSite']))\n",
      "    .cut([u'ox_code'] + list(table_dan_google_docs.header())\n",
      "         + [u'study', u'country', u'samplingSite', u'Fws_3_0', u'Fws_4_0', u'In LRS project']\n",
      "         + [u'basesof1xCoverage', u'basesof5xCoverage', u'Proportion of genome at 1x', u'Proportion of genome at 5x']\n",
      "         + [u'meanCoverage', u'insertSizeAverage', u'insertSizeStandardDeviation', u'country__samplingSite']\n",
      "    )\n",
      ")"
     ],
     "language": "python",
     "metadata": {},
     "outputs": [],
     "prompt_number": 18
    },
    {
     "cell_type": "code",
     "collapsed": false,
     "input": [
      "table_sample_manifest"
     ],
     "language": "python",
     "metadata": {},
     "outputs": [
      {
       "html": [
        "<table class='petl'>\r\n",
        "<thead>\r\n",
        "<tr>\r\n",
        "<th>0|ox_code</th>\r\n",
        "<th>1|Sample</th>\r\n",
        "<th>2|Read Type</th>\r\n",
        "<th>3|Data Source</th>\r\n",
        "<th>4|Cultured/Field Isolate</th>\r\n",
        "<th>5|Cross Parent</th>\r\n",
        "<th>6|Cross Progeny</th>\r\n",
        "<th>7|Single/Mixed</th>\r\n",
        "<th>8|Other Notes</th>\r\n",
        "<th>9|study</th>\r\n",
        "<th>10|country</th>\r\n",
        "<th>11|samplingSite</th>\r\n",
        "<th>12|Fws_3_0</th>\r\n",
        "<th>13|Fws_4_0</th>\r\n",
        "<th>14|In LRS project</th>\r\n",
        "<th>15|basesof1xCoverage</th>\r\n",
        "<th>16|basesof5xCoverage</th>\r\n",
        "<th>17|Proportion of genome at 1x</th>\r\n",
        "<th>18|Proportion of genome at 5x</th>\r\n",
        "<th>19|meanCoverage</th>\r\n",
        "<th>20|insertSizeAverage</th>\r\n",
        "<th>21|insertSizeStandardDeviation</th>\r\n",
        "<th>22|country__samplingSite</th>\r\n",
        "</tr>\r\n",
        "</thead>\r\n",
        "<tbody>\r\n",
        "<tr>\r\n",
        "<td>PA0007-C</td>\r\n",
        "<td>PA0007</td>\r\n",
        "<td>76 bp p/e</td>\r\n",
        "<td>Sanger</td>\r\n",
        "<td>Field Isolate</td>\r\n",
        "<td style='text-align: right'>0</td>\r\n",
        "<td style='text-align: right'>0</td>\r\n",
        "<td>Single</td>\r\n",
        "<td>None</td>\r\n",
        "<td style='text-align: right'>1006</td>\r\n",
        "<td>The Gambia</td>\r\n",
        "<td>GM_Coastal</td>\r\n",
        "<td style='text-align: right'>0.995741465155</td>\r\n",
        "<td style='text-align: right'>0.995549265849</td>\r\n",
        "<td style='text-align: right'>0</td>\r\n",
        "<td style='text-align: right'>22703916.0</td>\r\n",
        "<td style='text-align: right'>20226914.0</td>\r\n",
        "<td style='text-align: right'>0.973045919717</td>\r\n",
        "<td style='text-align: right'>0.866886405683</td>\r\n",
        "<td style='text-align: right'>74.27</td>\r\n",
        "<td style='text-align: right'>320.9</td>\r\n",
        "<td style='text-align: right'>68.3</td>\r\n",
        "<td>The Gambia__GM_Coastal</td>\r\n",
        "</tr>\r\n",
        "<tr>\r\n",
        "<td>PA0008-C</td>\r\n",
        "<td>PA0008</td>\r\n",
        "<td>76 bp p/e</td>\r\n",
        "<td>Sanger</td>\r\n",
        "<td>Field Isolate</td>\r\n",
        "<td style='text-align: right'>0</td>\r\n",
        "<td style='text-align: right'>0</td>\r\n",
        "<td>Single</td>\r\n",
        "<td>None</td>\r\n",
        "<td style='text-align: right'>1006</td>\r\n",
        "<td>The Gambia</td>\r\n",
        "<td>GM_Coastal</td>\r\n",
        "<td style='text-align: right'>0.372167641823</td>\r\n",
        "<td style='text-align: right'>0.380544083596</td>\r\n",
        "<td style='text-align: right'>0</td>\r\n",
        "<td style='text-align: right'>23160225.0</td>\r\n",
        "<td style='text-align: right'>22873797.0</td>\r\n",
        "<td style='text-align: right'>0.992602440741</td>\r\n",
        "<td style='text-align: right'>0.980326690747</td>\r\n",
        "<td style='text-align: right'>96.81</td>\r\n",
        "<td style='text-align: right'>339.9</td>\r\n",
        "<td style='text-align: right'>40.2</td>\r\n",
        "<td>The Gambia__GM_Coastal</td>\r\n",
        "</tr>\r\n",
        "<tr>\r\n",
        "<td>PA0011-C</td>\r\n",
        "<td>PA0011</td>\r\n",
        "<td>76 bp p/e</td>\r\n",
        "<td>Sanger</td>\r\n",
        "<td>Field Isolate</td>\r\n",
        "<td style='text-align: right'>0</td>\r\n",
        "<td style='text-align: right'>0</td>\r\n",
        "<td>Single</td>\r\n",
        "<td>None</td>\r\n",
        "<td style='text-align: right'>1006</td>\r\n",
        "<td>The Gambia</td>\r\n",
        "<td>GM_Coastal</td>\r\n",
        "<td style='text-align: right'>0.999459939551</td>\r\n",
        "<td style='text-align: right'>0.999316200656</td>\r\n",
        "<td style='text-align: right'>0</td>\r\n",
        "<td style='text-align: right'>22960209.0</td>\r\n",
        "<td style='text-align: right'>22798857.0</td>\r\n",
        "<td style='text-align: right'>0.984030141906</td>\r\n",
        "<td style='text-align: right'>0.977114907317</td>\r\n",
        "<td style='text-align: right'>149.59</td>\r\n",
        "<td style='text-align: right'>249.8</td>\r\n",
        "<td style='text-align: right'>44.8</td>\r\n",
        "<td>The Gambia__GM_Coastal</td>\r\n",
        "</tr>\r\n",
        "<tr>\r\n",
        "<td>PA0012-C</td>\r\n",
        "<td>PA0012</td>\r\n",
        "<td>76 bp p/e</td>\r\n",
        "<td>Sanger</td>\r\n",
        "<td>Field Isolate</td>\r\n",
        "<td style='text-align: right'>0</td>\r\n",
        "<td style='text-align: right'>0</td>\r\n",
        "<td>Single</td>\r\n",
        "<td>None</td>\r\n",
        "<td style='text-align: right'>1006</td>\r\n",
        "<td>The Gambia</td>\r\n",
        "<td>GM_Coastal</td>\r\n",
        "<td style='text-align: right'>0.999995597873</td>\r\n",
        "<td style='text-align: right'>0.999922696135</td>\r\n",
        "<td style='text-align: right'>0</td>\r\n",
        "<td style='text-align: right'>22982697.0</td>\r\n",
        "<td style='text-align: right'>22430685.0</td>\r\n",
        "<td style='text-align: right'>0.984993934084</td>\r\n",
        "<td style='text-align: right'>0.961335767614</td>\r\n",
        "<td style='text-align: right'>95.02</td>\r\n",
        "<td style='text-align: right'>251.9</td>\r\n",
        "<td style='text-align: right'>84.1</td>\r\n",
        "<td>The Gambia__GM_Coastal</td>\r\n",
        "</tr>\r\n",
        "<tr>\r\n",
        "<td>PA0015-C</td>\r\n",
        "<td>PA0015</td>\r\n",
        "<td>76 bp p/e</td>\r\n",
        "<td>Sanger</td>\r\n",
        "<td>Field Isolate</td>\r\n",
        "<td style='text-align: right'>0</td>\r\n",
        "<td style='text-align: right'>0</td>\r\n",
        "<td>Single</td>\r\n",
        "<td>None</td>\r\n",
        "<td style='text-align: right'>1006</td>\r\n",
        "<td>The Gambia</td>\r\n",
        "<td>GM_Coastal</td>\r\n",
        "<td style='text-align: right'>0.999726137136</td>\r\n",
        "<td style='text-align: right'>0.999552759065</td>\r\n",
        "<td style='text-align: right'>0</td>\r\n",
        "<td style='text-align: right'>23002807.0</td>\r\n",
        "<td style='text-align: right'>22866914.0</td>\r\n",
        "<td style='text-align: right'>0.985855809782</td>\r\n",
        "<td style='text-align: right'>0.980031698682</td>\r\n",
        "<td style='text-align: right'>169.55</td>\r\n",
        "<td style='text-align: right'>255.1</td>\r\n",
        "<td style='text-align: right'>47.2</td>\r\n",
        "<td>The Gambia__GM_Coastal</td>\r\n",
        "</tr>\r\n",
        "</tbody>\r\n",
        "</table>\r\n",
        "<p><strong>...</strong></p>"
       ],
       "metadata": {},
       "output_type": "pyout",
       "prompt_number": 19,
       "text": [
        "+-------------+------------+---------------+-----------------+----------------------------+------------------+-------------------+------------------+-----------------+-----------+--------------+-------------------+-------------------+-------------------+---------------------+------------------------+------------------------+---------------------------------+---------------------------------+-------------------+------------------------+----------------------------------+----------------------------+\n",
        "| '0|ox_code' | '1|Sample' | '2|Read Type' | '3|Data Source' | '4|Cultured/Field Isolate' | '5|Cross Parent' | '6|Cross Progeny' | '7|Single/Mixed' | '8|Other Notes' | '9|study' | '10|country' | '11|samplingSite' | '12|Fws_3_0'      | '13|Fws_4_0'      | '14|In LRS project' | '15|basesof1xCoverage' | '16|basesof5xCoverage' | '17|Proportion of genome at 1x' | '18|Proportion of genome at 5x' | '19|meanCoverage' | '20|insertSizeAverage' | '21|insertSizeStandardDeviation' | '22|country__samplingSite' |\n",
        "+=============+============+===============+=================+============================+==================+===================+==================+=================+===========+==============+===================+===================+===================+=====================+========================+========================+=================================+=================================+===================+========================+==================================+============================+\n",
        "| 'PA0007-C'  | 'PA0007'   | '76 bp p/e'   | 'Sanger'        | 'Field Isolate'            |                0 |                 0 | 'Single'         | None            |      1006 | 'The Gambia' | 'GM_Coastal'      |  0.99574146515464 | 0.995549265848836 |                   0 |             22703916.0 |             20226914.0 |              0.9730459197171574 |              0.8668864056830481 |             74.27 |                  320.9 |                             68.3 | 'The Gambia__GM_Coastal'   |\n",
        "+-------------+------------+---------------+-----------------+----------------------------+------------------+-------------------+------------------+-----------------+-----------+--------------+-------------------+-------------------+-------------------+---------------------+------------------------+------------------------+---------------------------------+---------------------------------+-------------------+------------------------+----------------------------------+----------------------------+\n",
        "| 'PA0008-C'  | 'PA0008'   | '76 bp p/e'   | 'Sanger'        | 'Field Isolate'            |                0 |                 0 | 'Single'         | None            |      1006 | 'The Gambia' | 'GM_Coastal'      | 0.372167641823409 | 0.380544083595885 |                   0 |             23160225.0 |             22873797.0 |              0.9926024407411171 |              0.9803266907474708 |             96.81 |                  339.9 |                             40.2 | 'The Gambia__GM_Coastal'   |\n",
        "+-------------+------------+---------------+-----------------+----------------------------+------------------+-------------------+------------------+-----------------+-----------+--------------+-------------------+-------------------+-------------------+---------------------+------------------------+------------------------+---------------------------------+---------------------------------+-------------------+------------------------+----------------------------------+----------------------------+\n",
        "| 'PA0011-C'  | 'PA0011'   | '76 bp p/e'   | 'Sanger'        | 'Field Isolate'            |                0 |                 0 | 'Single'         | None            |      1006 | 'The Gambia' | 'GM_Coastal'      | 0.999459939550807 | 0.999316200656244 |                   0 |             22960209.0 |             22798857.0 |              0.9840301419060551 |              0.9771149073166475 |            149.59 |                  249.8 |                             44.8 | 'The Gambia__GM_Coastal'   |\n",
        "+-------------+------------+---------------+-----------------+----------------------------+------------------+-------------------+------------------+-----------------+-----------+--------------+-------------------+-------------------+-------------------+---------------------+------------------------+------------------------+---------------------------------+---------------------------------+-------------------+------------------------+----------------------------------+----------------------------+\n",
        "| 'PA0012-C'  | 'PA0012'   | '76 bp p/e'   | 'Sanger'        | 'Field Isolate'            |                0 |                 0 | 'Single'         | None            |      1006 | 'The Gambia' | 'GM_Coastal'      | 0.999995597873466 | 0.999922696134752 |                   0 |             22982697.0 |             22430685.0 |              0.9849939340836952 |              0.9613357676143114 |             95.02 |                  251.9 |                             84.1 | 'The Gambia__GM_Coastal'   |\n",
        "+-------------+------------+---------------+-----------------+----------------------------+------------------+-------------------+------------------+-----------------+-----------+--------------+-------------------+-------------------+-------------------+---------------------+------------------------+------------------------+---------------------------------+---------------------------------+-------------------+------------------------+----------------------------------+----------------------------+\n",
        "| 'PA0015-C'  | 'PA0015'   | '76 bp p/e'   | 'Sanger'        | 'Field Isolate'            |                0 |                 0 | 'Single'         | None            |      1006 | 'The Gambia' | 'GM_Coastal'      | 0.999726137135717 | 0.999552759064621 |                   0 |             23002807.0 |             22866914.0 |              0.9858558097815049 |              0.9800316986824273 |            169.55 |                  255.1 |                             47.2 | 'The Gambia__GM_Coastal'   |\n",
        "+-------------+------------+---------------+-----------------+----------------------------+------------------+-------------------+------------------+-----------------+-----------+--------------+-------------------+-------------------+-------------------+---------------------+------------------------+------------------------+---------------------------------+---------------------------------+-------------------+------------------------+----------------------------------+----------------------------+"
       ]
      }
     ],
     "prompt_number": 19
    },
    {
     "cell_type": "code",
     "collapsed": false,
     "input": [
      "table_sample_manifest.select(lambda rec: rec['ox_code'] in ['PH0199-C', 'PH0264-C', 'PH0279-C', 'PH0298-C', 'PH0197-C', 'PH0261-C', 'PH0276-C', 'PH0295-C', 'PH0476-C'])"
     ],
     "language": "python",
     "metadata": {},
     "outputs": [
      {
       "html": [
        "<table class='petl'>\r\n",
        "<thead>\r\n",
        "<tr>\r\n",
        "<th>0|ox_code</th>\r\n",
        "<th>1|Sample</th>\r\n",
        "<th>2|Read Type</th>\r\n",
        "<th>3|Data Source</th>\r\n",
        "<th>4|Cultured/Field Isolate</th>\r\n",
        "<th>5|Cross Parent</th>\r\n",
        "<th>6|Cross Progeny</th>\r\n",
        "<th>7|Single/Mixed</th>\r\n",
        "<th>8|Other Notes</th>\r\n",
        "<th>9|study</th>\r\n",
        "<th>10|country</th>\r\n",
        "<th>11|samplingSite</th>\r\n",
        "<th>12|Fws_3_0</th>\r\n",
        "<th>13|Fws_4_0</th>\r\n",
        "<th>14|In LRS project</th>\r\n",
        "<th>15|basesof1xCoverage</th>\r\n",
        "<th>16|basesof5xCoverage</th>\r\n",
        "<th>17|Proportion of genome at 1x</th>\r\n",
        "<th>18|Proportion of genome at 5x</th>\r\n",
        "<th>19|meanCoverage</th>\r\n",
        "<th>20|insertSizeAverage</th>\r\n",
        "<th>21|insertSizeStandardDeviation</th>\r\n",
        "<th>22|country__samplingSite</th>\r\n",
        "</tr>\r\n",
        "</thead>\r\n",
        "<tbody>\r\n",
        "<tr>\r\n",
        "<td>PH0197-C</td>\r\n",
        "<td>PH0197</td>\r\n",
        "<td>76 bp p/e</td>\r\n",
        "<td>Sanger</td>\r\n",
        "<td>Field Isolate</td>\r\n",
        "<td style='text-align: right'>0</td>\r\n",
        "<td style='text-align: right'>0</td>\r\n",
        "<td>Single</td>\r\n",
        "<td>None</td>\r\n",
        "<td style='text-align: right'>1044</td>\r\n",
        "<td>Cambodia</td>\r\n",
        "<td>Pursat</td>\r\n",
        "<td style='text-align: right'>0.999476596118</td>\r\n",
        "<td style='text-align: right'>0.999248897839</td>\r\n",
        "<td style='text-align: right'>1</td>\r\n",
        "<td style='text-align: right'>22974332.0</td>\r\n",
        "<td style='text-align: right'>22824631.0</td>\r\n",
        "<td style='text-align: right'>0.984635426366</td>\r\n",
        "<td style='text-align: right'>0.978219531098</td>\r\n",
        "<td style='text-align: right'>151.2</td>\r\n",
        "<td style='text-align: right'>285.9</td>\r\n",
        "<td style='text-align: right'>56.1</td>\r\n",
        "<td>Cambodia__Pursat</td>\r\n",
        "</tr>\r\n",
        "<tr>\r\n",
        "<td>PH0199-C</td>\r\n",
        "<td>PH0199</td>\r\n",
        "<td>76 bp p/e</td>\r\n",
        "<td>Sanger</td>\r\n",
        "<td>Field Isolate</td>\r\n",
        "<td style='text-align: right'>0</td>\r\n",
        "<td style='text-align: right'>0</td>\r\n",
        "<td>Single</td>\r\n",
        "<td>None</td>\r\n",
        "<td style='text-align: right'>1044</td>\r\n",
        "<td>Cambodia</td>\r\n",
        "<td>Pursat</td>\r\n",
        "<td style='text-align: right'>0.999395358147</td>\r\n",
        "<td>None</td>\r\n",
        "<td style='text-align: right'>1</td>\r\n",
        "<td style='text-align: right'>22972095.0</td>\r\n",
        "<td style='text-align: right'>22798293.0</td>\r\n",
        "<td style='text-align: right'>0.984539552873</td>\r\n",
        "<td style='text-align: right'>0.977090735368</td>\r\n",
        "<td style='text-align: right'>98.9</td>\r\n",
        "<td style='text-align: right'>281.1</td>\r\n",
        "<td style='text-align: right'>52.5</td>\r\n",
        "<td>Cambodia__Pursat</td>\r\n",
        "</tr>\r\n",
        "</tbody>\r\n",
        "</table>\r\n"
       ],
       "metadata": {},
       "output_type": "pyout",
       "prompt_number": 20,
       "text": [
        "+-------------+------------+---------------+-----------------+----------------------------+------------------+-------------------+------------------+-----------------+-----------+--------------+-------------------+-------------------+------------------+---------------------+------------------------+------------------------+---------------------------------+---------------------------------+-------------------+------------------------+----------------------------------+----------------------------+\n",
        "| '0|ox_code' | '1|Sample' | '2|Read Type' | '3|Data Source' | '4|Cultured/Field Isolate' | '5|Cross Parent' | '6|Cross Progeny' | '7|Single/Mixed' | '8|Other Notes' | '9|study' | '10|country' | '11|samplingSite' | '12|Fws_3_0'      | '13|Fws_4_0'     | '14|In LRS project' | '15|basesof1xCoverage' | '16|basesof5xCoverage' | '17|Proportion of genome at 1x' | '18|Proportion of genome at 5x' | '19|meanCoverage' | '20|insertSizeAverage' | '21|insertSizeStandardDeviation' | '22|country__samplingSite' |\n",
        "+=============+============+===============+=================+============================+==================+===================+==================+=================+===========+==============+===================+===================+==================+=====================+========================+========================+=================================+=================================+===================+========================+==================================+============================+\n",
        "| 'PH0197-C'  | 'PH0197'   | '76 bp p/e'   | 'Sanger'        | 'Field Isolate'            |                0 |                 0 | 'Single'         | None            |      1044 | 'Cambodia'   | 'Pursat'          | 0.999476596118035 | 0.99924889783895 |                   1 |             22974332.0 |             22824631.0 |              0.9846354263655361 |              0.9782195310976195 |             151.2 |                  285.9 |                             56.1 | 'Cambodia__Pursat'         |\n",
        "+-------------+------------+---------------+-----------------+----------------------------+------------------+-------------------+------------------+-----------------+-----------+--------------+-------------------+-------------------+------------------+---------------------+------------------------+------------------------+---------------------------------+---------------------------------+-------------------+------------------------+----------------------------------+----------------------------+\n",
        "| 'PH0199-C'  | 'PH0199'   | '76 bp p/e'   | 'Sanger'        | 'Field Isolate'            |                0 |                 0 | 'Single'         | None            |      1044 | 'Cambodia'   | 'Pursat'          | 0.999395358146868 | None             |                   1 |             22972095.0 |             22798293.0 |              0.9845395528729454 |              0.9770907353676885 |              98.9 |                  281.1 |                             52.5 | 'Cambodia__Pursat'         |\n",
        "+-------------+------------+---------------+-----------------+----------------------------+------------------+-------------------+------------------+-----------------+-----------+--------------+-------------------+-------------------+------------------+---------------------+------------------------+------------------------+---------------------------------+---------------------------------+-------------------+------------------------+----------------------------------+----------------------------+"
       ]
      }
     ],
     "prompt_number": 20
    },
    {
     "cell_type": "code",
     "collapsed": false,
     "input": [
      "table_both_fws = table_sample_manifest.select(lambda rec: rec['Fws_3_0'] > 0.0 and rec['Fws_4_0'] > 0.0)"
     ],
     "language": "python",
     "metadata": {},
     "outputs": [],
     "prompt_number": 21
    },
    {
     "cell_type": "code",
     "collapsed": false,
     "input": [
      "fig = plt.figure()\n",
      "ax = fig.add_subplot(111)\n",
      "ax.scatter(np.array(table_both_fws['Fws_3_0']), np.array(table_both_fws['Fws_4_0']))\n",
      "ax.set_xlim([0.995, 1])\n",
      "ax.set_ylim([0.995, 1])"
     ],
     "language": "python",
     "metadata": {},
     "outputs": [
      {
       "metadata": {},
       "output_type": "pyout",
       "prompt_number": 22,
       "text": [
        "(0.995, 1)"
       ]
      },
      {
       "metadata": {},
       "output_type": "display_data",
       "png": "[encoded data removed]",
       "text": [
        "<matplotlib.figure.Figure at 0x7fe0f90>"
       ]
      }
     ],
     "prompt_number": 22
    },
    {
     "cell_type": "code",
     "collapsed": false,
     "input": [
      "len(table_sample_manifest.select(lambda rec: rec['Fws_3_0'] is None and rec['Fws_4_0'] is not None))"
     ],
     "language": "python",
     "metadata": {},
     "outputs": [
      {
       "metadata": {},
       "output_type": "pyout",
       "prompt_number": 23,
       "text": [
        "269"
       ]
      }
     ],
     "prompt_number": 23
    },
    {
     "cell_type": "code",
     "collapsed": false,
     "input": [
      "len(table_sample_manifest.select(lambda rec: rec['Fws_3_0'] is not None and rec['Fws_4_0'] is None))"
     ],
     "language": "python",
     "metadata": {},
     "outputs": [
      {
       "metadata": {},
       "output_type": "pyout",
       "prompt_number": 24,
       "text": [
        "92"
       ]
      }
     ],
     "prompt_number": 24
    },
    {
     "cell_type": "code",
     "collapsed": false,
     "input": [
      "# Many samples that have Fws measures in Pf 3.0 but not in Pf 4.0.\n",
      "tabulate(table_sample_manifest.select(lambda rec: rec['Fws_3_0'] is not None and rec['Fws_4_0'] is None).cut('samplingSite')['samplingSite'])\n"
     ],
     "language": "python",
     "metadata": {},
     "outputs": [
      {
       "metadata": {},
       "output_type": "pyout",
       "prompt_number": 25,
       "text": [
        "{'Bago Division': 30,\n",
        " 'GM_Coastal': 2,\n",
        " 'Ilorin': 3,\n",
        " 'Kassena': 7,\n",
        " 'Preah Vihear': 13,\n",
        " 'Pursat': 17,\n",
        " 'Ranong': 5,\n",
        " 'Ratanakiri': 8,\n",
        " 'Sisakhet': 6}"
       ]
      }
     ],
     "prompt_number": 25
    },
    {
     "cell_type": "code",
     "collapsed": false,
     "input": [
      "# Many moresamples that have Fws measures in Pf 4.0 but not in Pf 3.0.\n",
      "# As such will use Fws scores from Pf 4.0\n",
      "tabulate(table_sample_manifest.select(lambda rec: rec['Fws_3_0'] is None and rec['Fws_4_0'] is not None).cut('samplingSite')['samplingSite'])\n"
     ],
     "language": "python",
     "metadata": {},
     "outputs": [
      {
       "metadata": {},
       "output_type": "pyout",
       "prompt_number": 26,
       "text": [
        "{'Attapeu': 7,\n",
        " 'Bago Division': 14,\n",
        " 'Ilorin': 2,\n",
        " 'Kassena': 13,\n",
        " 'Kinshasa': 107,\n",
        " 'Mae Sot': 9,\n",
        " 'Pailin': 8,\n",
        " 'Phuoc Long': 16,\n",
        " 'Preah Vihear': 16,\n",
        " 'Pursat': 9,\n",
        " 'Ramu': 41,\n",
        " 'Ranong': 6,\n",
        " 'Ratanakiri': 10,\n",
        " 'Sisakhet': 10}"
       ]
      }
     ],
     "prompt_number": 26
    },
    {
     "cell_type": "code",
     "collapsed": false,
     "input": [
      "fig = plt.figure()\n",
      "ax = fig.add_subplot(111)\n",
      "ax.hist(np.array(table_both_fws['Fws_4_0']), bins=np.arange(0, 1+1e-10, 0.01))\n",
      "ax.set_xlim([0.0, 1.0])\n",
      "ax.set_xlabel('Fws')\n",
      "ax.set_ylabel('Frequency (number of samples)')\n",
      "fig.savefig(os.path.join(plot_dir, 'Fws_all.pdf'))"
     ],
     "language": "python",
     "metadata": {},
     "outputs": [
      {
       "metadata": {},
       "output_type": "display_data",
       "png": "[encoded data removed]",
       "text": [
        "<matplotlib.figure.Figure at 0x81bd0d0>"
       ]
      }
     ],
     "prompt_number": 27
    },
    {
     "cell_type": "code",
     "collapsed": false,
     "input": [
      "fig = plt.figure()\n",
      "ax = fig.add_subplot(111)\n",
      "ax.hist(np.array(table_both_fws['Fws_4_0']), bins=np.arange(0, 1+1e-10, 0.0001))\n",
      "ax.set_xlim([0.995, 1.0])\n",
      "ax.set_xlabel('Fws')\n",
      "ax.set_ylabel('Frequency (number of samples)')\n",
      "ax.axvline(0.9995, color='red')\n",
      "fig.savefig(os.path.join(plot_dir, 'Fws_nearClonal.pdf'))"
     ],
     "language": "python",
     "metadata": {},
     "outputs": [
      {
       "metadata": {},
       "output_type": "display_data",
       "png": "[encoded data removed]",
       "text": [
        "<matplotlib.figure.Figure at 0x81b93d0>"
       ]
      }
     ],
     "prompt_number": 28
    },
    {
     "cell_type": "code",
     "collapsed": false,
     "input": [
      "print tabulate(np.array(table_both_fws['Fws_3_0'])>0.998)\n",
      "print tabulate(np.array(table_both_fws['Fws_4_0'])>0.998)\n",
      "print tabulate(np.array(table_both_fws['Fws_3_0'])>0.999)\n",
      "print tabulate(np.array(table_both_fws['Fws_4_0'])>0.999)\n",
      "print tabulate(np.array(table_both_fws['Fws_3_0'])>0.9995)\n",
      "print tabulate(np.array(table_both_fws['Fws_4_0'])>0.9995)\n"
     ],
     "language": "python",
     "metadata": {},
     "outputs": [
      {
       "output_type": "stream",
       "stream": "stdout",
       "text": [
        "{False: 723, True: 577}\n",
        "{False: 722, True: 578}"
       ]
      },
      {
       "output_type": "stream",
       "stream": "stdout",
       "text": [
        "\n",
        "{False: 811, True: 489}"
       ]
      },
      {
       "output_type": "stream",
       "stream": "stdout",
       "text": [
        "\n",
        "{False: 828, True: 472}"
       ]
      },
      {
       "output_type": "stream",
       "stream": "stdout",
       "text": [
        "\n",
        "{False: 948, True: 352}"
       ]
      },
      {
       "output_type": "stream",
       "stream": "stdout",
       "text": [
        "\n",
        "{False: 977, True: 323}"
       ]
      },
      {
       "output_type": "stream",
       "stream": "stdout",
       "text": [
        "\n"
       ]
      }
     ],
     "prompt_number": 29
    },
    {
     "cell_type": "code",
     "collapsed": false,
     "input": [
      "high_fws_samples_per_site = tabulate((table_sample_manifest\n",
      "    .addfield('country_samplingSite', lambda rec: \"%s_%s\" % (rec['country'], rec['samplingSite']))\n",
      "    .select(lambda rec: rec['Fws_4_0'] > 0.9995)\n",
      "    .cut('country_samplingSite')\n",
      ")['country_samplingSite'])\n",
      "high_fws_samples_per_site"
     ],
     "language": "python",
     "metadata": {},
     "outputs": [
      {
       "metadata": {},
       "output_type": "pyout",
       "prompt_number": 30,
       "text": [
        "{'Bangladesh_Ramu': 10,\n",
        " 'Cambodia_Pailin': 41,\n",
        " 'Cambodia_Preah Vihear': 33,\n",
        " 'Cambodia_Pursat': 77,\n",
        " 'Cambodia_Ratanakiri': 40,\n",
        " 'DR of the Congo_Kinshasa': 7,\n",
        " 'Ghana_Kassena': 29,\n",
        " 'Guinea_Nzerekore': 14,\n",
        " 'Laos_Attapeu': 21,\n",
        " 'Myanmar_Bago Division': 10,\n",
        " 'Thailand_Mae Sot': 23,\n",
        " 'Thailand_Ranong': 7,\n",
        " 'Thailand_Sisakhet': 4,\n",
        " 'The Gambia_GM_Coastal': 24,\n",
        " 'Vietnam_Bu Dang': 1,\n",
        " 'Vietnam_Bu Gia Map': 17,\n",
        " 'Vietnam_Phuoc Long': 7}"
       ]
      }
     ],
     "prompt_number": 30
    },
    {
     "cell_type": "code",
     "collapsed": false,
     "input": [
      "petlx.xlsx.toxlsx(\n",
      "    etl.wrap(\n",
      "        petl.aggregate(\n",
      "            table_sample_manifest.select(lambda rec: rec['Fws_4_0'] > 0.9995),\n",
      "            'country__samplingSite',\n",
      "            len\n",
      "        )\n",
      "    ).rename('country__samplingSite', 'Sampling site').rename('value', 'Number of samples'),\n",
      "    os.path.join(plot_dir, 'single_infection_per_site.xlsx')\n",
      ")"
     ],
     "language": "python",
     "metadata": {},
     "outputs": [],
     "prompt_number": 31
    },
    {
     "cell_type": "code",
     "collapsed": false,
     "input": [
      "petl.aggregate(\n",
      "    table_sample_manifest.select(lambda rec: rec['Fws_4_0'] > 0.9995),\n",
      "    'country__samplingSite',\n",
      "    len\n",
      ")['country__samplingSite']"
     ],
     "language": "python",
     "metadata": {},
     "outputs": [
      {
       "metadata": {},
       "output_type": "pyout",
       "prompt_number": 32,
       "text": [
        "'Bangladesh__Ramu', 'Cambodia__Pailin', 'Cambodia__Preah Vihear', 'Cambodia__Pursat', 'Cambodia__Ratanakiri', ..."
       ]
      }
     ],
     "prompt_number": 32
    },
    {
     "cell_type": "code",
     "collapsed": false,
     "input": [
      "tabulate(table_sample_manifest['samplingSite'])"
     ],
     "language": "python",
     "metadata": {},
     "outputs": [
      {
       "metadata": {},
       "output_type": "pyout",
       "prompt_number": 33,
       "text": [
        "{'Attapeu': 85,\n",
        " 'Bago Division': 60,\n",
        " 'Bu Dang': 1,\n",
        " 'Bu Gia Map': 64,\n",
        " 'GM_Coastal': 65,\n",
        " 'Ilorin': 5,\n",
        " 'Kassena': 501,\n",
        " 'Kinshasa': 113,\n",
        " 'Mae Sot': 106,\n",
        " 'Nzerekore': 100,\n",
        " 'Pailin': 84,\n",
        " 'Phuoc Long': 32,\n",
        " 'Preah Vihear': 104,\n",
        " 'Pursat': 235,\n",
        " 'Ramu': 50,\n",
        " 'Ranong': 20,\n",
        " 'Ratanakiri': 147,\n",
        " 'Sisakhet': 22}"
       ]
      }
     ],
     "prompt_number": 33
    },
    {
     "cell_type": "code",
     "collapsed": false,
     "input": [
      "samples_to_select = {\n",
      " 'Attapeu': 10,\n",
      " 'Bago Division': 10,\n",
      " 'Bu Dang': 1,\n",
      " 'Bu Gia Map': 5,\n",
      " 'GM_Coastal': 11,\n",
      " 'Ilorin': 0,\n",
      " 'Kassena': 11,\n",
      " 'Kinshasa': 7,\n",
      " 'Mae Sot': 4,\n",
      " 'Nzerekore': 11,\n",
      " 'Pailin': 3,\n",
      " 'Phuoc Long': 4,\n",
      " 'Preah Vihear': 2,\n",
      " 'Pursat': 1,\n",
      " 'Ramu': 10,\n",
      " 'Ranong': 3,\n",
      " 'Ratanakiri': 2,\n",
      " 'Sisakhet': 3\n",
      "}\n",
      "print sum(samples_to_select.values())\n"
     ],
     "language": "python",
     "metadata": {},
     "outputs": [
      {
       "output_type": "stream",
       "stream": "stdout",
       "text": [
        "98\n"
       ]
      }
     ],
     "prompt_number": 34
    },
    {
     "cell_type": "code",
     "collapsed": false,
     "input": [
      "etl.wrap([('Site', 'Samples selected')] + zip(samples_to_select.keys(), samples_to_select.values()))"
     ],
     "language": "python",
     "metadata": {},
     "outputs": [
      {
       "html": [
        "<table class='petl'>\r\n",
        "<thead>\r\n",
        "<tr>\r\n",
        "<th>0|Site</th>\r\n",
        "<th>1|Samples selected</th>\r\n",
        "</tr>\r\n",
        "</thead>\r\n",
        "<tbody>\r\n",
        "<tr>\r\n",
        "<td>Kinshasa</td>\r\n",
        "<td style='text-align: right'>7</td>\r\n",
        "</tr>\r\n",
        "<tr>\r\n",
        "<td>Mae Sot</td>\r\n",
        "<td style='text-align: right'>4</td>\r\n",
        "</tr>\r\n",
        "<tr>\r\n",
        "<td>Pursat</td>\r\n",
        "<td style='text-align: right'>1</td>\r\n",
        "</tr>\r\n",
        "<tr>\r\n",
        "<td>Pailin</td>\r\n",
        "<td style='text-align: right'>3</td>\r\n",
        "</tr>\r\n",
        "<tr>\r\n",
        "<td>Ratanakiri</td>\r\n",
        "<td style='text-align: right'>2</td>\r\n",
        "</tr>\r\n",
        "</tbody>\r\n",
        "</table>\r\n",
        "<p><strong>...</strong></p>"
       ],
       "metadata": {},
       "output_type": "pyout",
       "prompt_number": 35,
       "text": [
        "+--------------+----------------------+\n",
        "| '0|Site'     | '1|Samples selected' |\n",
        "+==============+======================+\n",
        "| 'Kinshasa'   |                    7 |\n",
        "+--------------+----------------------+\n",
        "| 'Mae Sot'    |                    4 |\n",
        "+--------------+----------------------+\n",
        "| 'Pursat'     |                    1 |\n",
        "+--------------+----------------------+\n",
        "| 'Pailin'     |                    3 |\n",
        "+--------------+----------------------+\n",
        "| 'Ratanakiri' |                    2 |\n",
        "+--------------+----------------------+"
       ]
      }
     ],
     "prompt_number": 35
    },
    {
     "cell_type": "code",
     "collapsed": false,
     "input": [
      "zip(samples_to_select.keys(), samples_to_select.values())"
     ],
     "language": "python",
     "metadata": {},
     "outputs": [
      {
       "metadata": {},
       "output_type": "pyout",
       "prompt_number": 36,
       "text": [
        "[('Kinshasa', 7),\n",
        " ('Mae Sot', 4),\n",
        " ('Pursat', 1),\n",
        " ('Pailin', 3),\n",
        " ('Ratanakiri', 2),\n",
        " ('Ramu', 10),\n",
        " ('Bu Gia Map', 5),\n",
        " ('Bago Division', 10),\n",
        " ('Ranong', 3),\n",
        " ('Ilorin', 0),\n",
        " ('Nzerekore', 11),\n",
        " ('Sisakhet', 3),\n",
        " ('Phuoc Long', 4),\n",
        " ('Attapeu', 10),\n",
        " ('GM_Coastal', 11),\n",
        " ('Kassena', 11),\n",
        " ('Bu Dang', 1),\n",
        " ('Preah Vihear', 2)]"
       ]
      }
     ],
     "prompt_number": 36
    },
    {
     "cell_type": "code",
     "collapsed": false,
     "input": [
      "def sample_from_site(samplingSite='Pailin', number_of_samples=10, fws_threshold=0.9995):\n",
      "    high_fws_samples_this_site = np.array(\n",
      "        (table_sample_manifest\n",
      "            .select(lambda rec: (rec['samplingSite'] == samplingSite) & (rec['Fws_4_0'] > fws_threshold))\n",
      "            .cut('ox_code')\n",
      "        )['ox_code']\n",
      "    )\n",
      "    if len(high_fws_samples_this_site) > number_of_samples:\n",
      "        return(np.random.choice(high_fws_samples_this_site, number_of_samples, replace=False).tolist())\n",
      "    else:\n",
      "        return(high_fws_samples_this_site.tolist())\n",
      " \n",
      "print sample_from_site()\n",
      "print sample_from_site('Ramu')\n",
      "print sample_from_site('Ramu', 6, 0.9995)\n",
      "print sample_from_site('Kassena', 11)\n",
      "print sample_from_site('Ilorin', 0)\n",
      "\n"
     ],
     "language": "python",
     "metadata": {},
     "outputs": [
      {
       "output_type": "stream",
       "stream": "stdout",
       "text": [
        "['PH0997-C', 'PH0818-C', 'PH0825-C', 'PH0891-Cx', 'PH0991-C', 'PH0904-C', 'PH0848-C', 'PH0826-C', 'PH0986-C', 'PH0843-C']\n",
        "['PR0118-C', 'PR0130-C', 'PR0131-C', 'PR0132-C', 'PR0145-C', 'PR0155-C', 'PR0157-C', 'PR0159-C', 'PR0160-C', 'PR0163-C']\n",
        "['PR0157-C', 'PR0132-C', 'PR0155-C', 'PR0145-C', 'PR0118-C', 'PR0160-C']\n",
        "['PF0328-C', 'PF0152-C', 'PF0188-C', 'PF0025-C', 'PF0185-C', 'PF0203-C', 'PF0427-C', 'PF0431-C', 'PF0151-C', 'PF0180-C', 'PF0417-C']\n",
        "[]\n"
       ]
      }
     ],
     "prompt_number": 37
    },
    {
     "cell_type": "code",
     "collapsed": false,
     "input": [
      "african_sites = ['Kassena', 'Nzerekore', 'Ilorin', 'GM_Coastal']"
     ],
     "language": "python",
     "metadata": {},
     "outputs": [],
     "prompt_number": 38
    },
    {
     "cell_type": "code",
     "collapsed": false,
     "input": [
      "distinct_sites = table_sample_manifest.cut('samplingSite').distinct()['samplingSite']\n",
      "print type(distinct_sites)\n",
      "print distinct_sites\n",
      "print len(distinct_sites)\n"
     ],
     "language": "python",
     "metadata": {},
     "outputs": [
      {
       "output_type": "stream",
       "stream": "stdout",
       "text": [
        "<class 'petl.util.ValuesContainer'>\n",
        "'Attapeu', 'Bago Division', 'Bu Dang', 'Bu Gia Map', 'GM_Coastal', ...\n",
        "18\n"
       ]
      }
     ],
     "prompt_number": 39
    },
    {
     "cell_type": "code",
     "collapsed": false,
     "input": [
      "np.random.seed(12345)\n",
      "clinical_single_infection_ox_code = list()\n",
      "for samplingSite in distinct_sites:\n",
      "    if samplingSite in african_sites:\n",
      "        samples_this_site = sample_from_site(samplingSite, 10)\n",
      "        print \"african\", samplingSite, len(samples_this_site)\n",
      "    else:\n",
      "        samples_this_site = sample_from_site(samplingSite, 6)\n",
      "        print \"non-african\", samplingSite, len(samples_this_site)\n",
      "    clinical_single_infection_ox_code.extend(samples_this_site)\n",
      "\n",
      "        "
     ],
     "language": "python",
     "metadata": {},
     "outputs": [
      {
       "output_type": "stream",
       "stream": "stdout",
       "text": [
        "non-african Attapeu 6\n",
        "non-african Bago Division 6\n",
        "non-african Bu Dang 1\n",
        "non-african Bu Gia Map 6\n",
        "african GM_Coastal 10\n",
        "african"
       ]
      },
      {
       "output_type": "stream",
       "stream": "stdout",
       "text": [
        " Ilorin 0\n",
        "african Kassena 10\n",
        "non-african Kinshasa 6\n",
        "non-african Mae Sot 6\n",
        "african Nzerekore 10\n",
        "non-african"
       ]
      },
      {
       "output_type": "stream",
       "stream": "stdout",
       "text": [
        " Pailin 6\n",
        "non-african Phuoc Long 6\n",
        "non-african Preah Vihear 6\n",
        "non-african Pursat 6\n",
        "non-african Ramu 6\n",
        "non-african Ranong 6\n",
        "non-african"
       ]
      },
      {
       "output_type": "stream",
       "stream": "stdout",
       "text": [
        " Ratanakiri 6\n",
        "non-african Sisakhet 4\n"
       ]
      }
     ],
     "prompt_number": 40
    },
    {
     "cell_type": "code",
     "collapsed": false,
     "input": [
      "np.random.seed(12345)\n",
      "clinical_single_infection_ox_code = list()\n",
      "for samplingSite in distinct_sites:\n",
      "    samples_this_site = sample_from_site(samplingSite, samples_to_select[samplingSite])\n",
      "    print samplingSite, len(samples_this_site)\n",
      "    clinical_single_infection_ox_code.extend(samples_this_site)\n",
      "\n",
      "        "
     ],
     "language": "python",
     "metadata": {},
     "outputs": [
      {
       "output_type": "stream",
       "stream": "stdout",
       "text": [
        "Attapeu 10\n",
        "Bago Division 10\n",
        "Bu Dang 1\n",
        "Bu Gia Map 5\n",
        "GM_Coastal 11\n",
        "Ilorin"
       ]
      },
      {
       "output_type": "stream",
       "stream": "stdout",
       "text": [
        " 0\n",
        "Kassena 11\n",
        "Kinshasa 7\n",
        "Mae Sot 4\n",
        "Nzerekore 11\n",
        "Pailin"
       ]
      },
      {
       "output_type": "stream",
       "stream": "stdout",
       "text": [
        " 3\n",
        "Phuoc Long 4\n",
        "Preah Vihear 2\n",
        "Pursat 1\n",
        "Ramu 10\n",
        "Ranong 3\n",
        "Ratanakiri"
       ]
      },
      {
       "output_type": "stream",
       "stream": "stdout",
       "text": [
        " 2\n",
        "Sisakhet 3\n"
       ]
      }
     ],
     "prompt_number": 41
    },
    {
     "cell_type": "code",
     "collapsed": false,
     "input": [
      "len(clinical_single_infection_ox_code)"
     ],
     "language": "python",
     "metadata": {},
     "outputs": [
      {
       "metadata": {},
       "output_type": "pyout",
       "prompt_number": 42,
       "text": [
        "98"
       ]
      }
     ],
     "prompt_number": 42
    },
    {
     "cell_type": "code",
     "collapsed": false,
     "input": [
      "clinical_single_infection_ox_code[0:20]"
     ],
     "language": "python",
     "metadata": {},
     "outputs": [
      {
       "metadata": {},
       "output_type": "pyout",
       "prompt_number": 43,
       "text": [
        "['QE0444-C',\n",
        " 'QE0430-C',\n",
        " 'QE0455-C',\n",
        " 'QE0403-Cx',\n",
        " 'QE0454-C',\n",
        " 'QE0443-C',\n",
        " 'QE0393-Cx',\n",
        " 'QE0432-C',\n",
        " 'QE0429-C',\n",
        " 'QE0440-C',\n",
        " 'QC0171-C',\n",
        " 'QC0172-C',\n",
        " 'QC0173-C',\n",
        " 'QC0176-C',\n",
        " 'QC0177-C',\n",
        " 'QC0198-C',\n",
        " 'QC0228-C',\n",
        " 'QC0232-C',\n",
        " 'QC0233-C',\n",
        " 'QC0242-C']"
       ]
      }
     ],
     "prompt_number": 43
    },
    {
     "cell_type": "code",
     "collapsed": false,
     "input": [
      "distinct_country__samplingSites = table_sample_manifest.cut('country__samplingSite').distinct()['country__samplingSite']\n",
      "print len(distinct_country__samplingSites)"
     ],
     "language": "python",
     "metadata": {},
     "outputs": [
      {
       "output_type": "stream",
       "stream": "stdout",
       "text": [
        "18\n"
       ]
      }
     ],
     "prompt_number": 44
    },
    {
     "cell_type": "code",
     "collapsed": false,
     "input": [
      "plot_params = {\n",
      "    'Fws_4_0'                    : {'xmax': 1,   'ymax': 30},\n",
      "    'Proportion of genome at 1x' : {'xmax': 1,   'ymax': 30},\n",
      "    'Proportion of genome at 5x' : {'xmax': 1,   'ymax': 30},\n",
      "    'meanCoverage'               : {'xmax': 300, 'ymax': 20},\n",
      "    'insertSizeAverage'          : {'xmax': 500, 'ymax': 30},\n",
      "    'insertSizeStandardDeviation': {'xmax': 150, 'ymax': 30},\n",
      "}"
     ],
     "language": "python",
     "metadata": {},
     "outputs": [],
     "prompt_number": 45
    },
    {
     "cell_type": "code",
     "collapsed": false,
     "input": [
      "for var_to_plot in plot_params:\n",
      "    fig = plt.figure(figsize=(12, 30))\n",
      "    for i, country__samplingSite in enumerate(distinct_country__samplingSites):\n",
      "        ax = fig.add_subplot(len(distinct_country__samplingSites), 1, i + 1)\n",
      "        var_values = np.array(\n",
      "            (table_sample_manifest\n",
      "                .select(lambda rec: (rec['country__samplingSite'] == country__samplingSite) & (rec[var_to_plot] is not None))\n",
      "                .cut(var_to_plot)\n",
      "            )[var_to_plot]\n",
      "        )\n",
      "        selected_var_values = np.array(\n",
      "            (table_sample_manifest\n",
      "                .select(lambda rec: (rec['ox_code'] in clinical_single_infection_ox_code) & (rec['country__samplingSite'] == country__samplingSite) & (rec[var_to_plot] is not None))\n",
      "                .cut(var_to_plot)\n",
      "            )[var_to_plot]\n",
      "        )\n",
      "#         ax.hist(var_values, color=set1[i % 9], bins=np.arange(0, plot_params[var_to_plot]['xmax']+1e-10, float(plot_params[var_to_plot]['xmax'])/100), label=samplingSite)\n",
      "        ax.hist(var_values, color=\"white\", bins=np.arange(0, plot_params[var_to_plot]['xmax']+1e-10, float(plot_params[var_to_plot]['xmax'])/100), label=samplingSite)\n",
      "        ax.hist(selected_var_values, color=\"red\", bins=np.arange(0, plot_params[var_to_plot]['xmax']+1e-10, float(plot_params[var_to_plot]['xmax'])/100), label=samplingSite)\n",
      "        if 'xmax' in plot_params[var_to_plot].keys():\n",
      "            ax.set_xlim(0, plot_params[var_to_plot]['xmax'])\n",
      "        if 'ymax' in plot_params[var_to_plot].keys():\n",
      "            ax.set_ylim(0, plot_params[var_to_plot]['ymax'])\n",
      "        if i < (len(distinct_country__samplingSites) - 1):\n",
      "            ax.set_xticks([])\n",
      "        ax.set_title(country__samplingSite)\n",
      "    ax.set_xlabel(var_to_plot)\n",
      "    fig.savefig(os.path.join(plot_dir, '%s_by_site.pdf' % var_to_plot))\n",
      "#     fig.savefig(PLOT_DIR + '/fig_s8_human_contamination_by_wbc_depletion.pdf')\n"
     ],
     "language": "python",
     "metadata": {},
     "outputs": [
      {
       "output_type": "stream",
       "stream": "stderr",
       "text": [
        "/home/rpearson/pyenv/science/local/lib/python2.7/site-packages/matplotlib/axes.py:8261: UserWarning: 2D hist input should be nsamples x nvariables;\n",
        " this looks transposed (shape is 0 x 1)\n",
        "  'this looks transposed (shape is %d x %d)' % x.shape[::-1])\n"
       ]
      },
      {
       "metadata": {},
       "output_type": "display_data",
       "png": "[encoded data removed]",
       "text": [
        "<matplotlib.figure.Figure at 0x1affca10>"
       ]
      },
      {
       "metadata": {},
       "output_type": "display_data",
       "png": "[encoded data removed]",
       "text": [
        "<matplotlib.figure.Figure at 0x1affcf90>"
       ]
      },
      {
       "metadata": {},
       "output_type": "display_data",
       "png": "[encoded data removed]",
       "text": [
        "<matplotlib.figure.Figure at 0x17f4bdd0>"
       ]
      },
      {
       "metadata": {},
       "output_type": "display_data",
       "png": "[encoded data removed]",
       "text": [
        "<matplotlib.figure.Figure at 0x9603e50>"
       ]
      },
      {
       "metadata": {},
       "output_type": "display_data",
       "png": "[encoded data removed]",
       "text": [
        "<matplotlib.figure.Figure at 0xd4bddd0>"
       ]
      },
      {
       "metadata": {},
       "output_type": "display_data",
       "png": "[encoded data removed]",
       "text": [
        "<matplotlib.figure.Figure at 0x27fdae10>"
       ]
      }
     ],
     "prompt_number": 46
    },
    {
     "cell_type": "code",
     "collapsed": false,
     "input": [
      "len(distinct_sites)"
     ],
     "language": "python",
     "metadata": {},
     "outputs": [
      {
       "metadata": {},
       "output_type": "pyout",
       "prompt_number": 47,
       "text": [
        "18"
       ]
      }
     ],
     "prompt_number": 47
    },
    {
     "cell_type": "code",
     "collapsed": false,
     "input": [
      "table_selected_clinical_samples = (table_sample_manifest\n",
      "    .select(lambda rec: rec['ox_code'] in (clinical_single_infection_ox_code + KH_samples.values()))\n",
      "    .cut(required_fields)\n",
      "#     .cutout(u'Fws_3_0', u'Fws_4_0', u'basesof1xCoverage', u'basesof5xCoverage', u'Proportion of genome at 1x', u'country__samplingSite')\n",
      ")"
     ],
     "language": "python",
     "metadata": {},
     "outputs": [],
     "prompt_number": 48
    },
    {
     "cell_type": "code",
     "collapsed": false,
     "input": [
      "table_selected_clinical_samples"
     ],
     "language": "python",
     "metadata": {},
     "outputs": [
      {
       "html": [
        "<table class='petl'>\r\n",
        "<thead>\r\n",
        "<tr>\r\n",
        "<th>0|ox_code</th>\r\n",
        "<th>1|Sample</th>\r\n",
        "<th>2|Read Type</th>\r\n",
        "<th>3|Data Source</th>\r\n",
        "<th>4|Cultured/Field Isolate</th>\r\n",
        "<th>5|Cross Parent</th>\r\n",
        "<th>6|Cross Progeny</th>\r\n",
        "<th>7|Single/Mixed</th>\r\n",
        "<th>8|Other Notes</th>\r\n",
        "<th>9|study</th>\r\n",
        "<th>10|country</th>\r\n",
        "<th>11|samplingSite</th>\r\n",
        "<th>12|In LRS project</th>\r\n",
        "<th>13|meanCoverage</th>\r\n",
        "<th>14|Proportion of genome at 5x</th>\r\n",
        "<th>15|insertSizeAverage</th>\r\n",
        "<th>16|insertSizeStandardDeviation</th>\r\n",
        "</tr>\r\n",
        "</thead>\r\n",
        "<tbody>\r\n",
        "<tr>\r\n",
        "<td>PA0012-C</td>\r\n",
        "<td>PA0012</td>\r\n",
        "<td>76 bp p/e</td>\r\n",
        "<td>Sanger</td>\r\n",
        "<td>Field Isolate</td>\r\n",
        "<td style='text-align: right'>0</td>\r\n",
        "<td style='text-align: right'>0</td>\r\n",
        "<td>Single</td>\r\n",
        "<td>None</td>\r\n",
        "<td style='text-align: right'>1006</td>\r\n",
        "<td>The Gambia</td>\r\n",
        "<td>GM_Coastal</td>\r\n",
        "<td style='text-align: right'>0</td>\r\n",
        "<td style='text-align: right'>95.02</td>\r\n",
        "<td style='text-align: right'>0.961335767614</td>\r\n",
        "<td style='text-align: right'>251.9</td>\r\n",
        "<td style='text-align: right'>84.1</td>\r\n",
        "</tr>\r\n",
        "<tr>\r\n",
        "<td>PA0015-C</td>\r\n",
        "<td>PA0015</td>\r\n",
        "<td>76 bp p/e</td>\r\n",
        "<td>Sanger</td>\r\n",
        "<td>Field Isolate</td>\r\n",
        "<td style='text-align: right'>0</td>\r\n",
        "<td style='text-align: right'>0</td>\r\n",
        "<td>Single</td>\r\n",
        "<td>None</td>\r\n",
        "<td style='text-align: right'>1006</td>\r\n",
        "<td>The Gambia</td>\r\n",
        "<td>GM_Coastal</td>\r\n",
        "<td style='text-align: right'>0</td>\r\n",
        "<td style='text-align: right'>169.55</td>\r\n",
        "<td style='text-align: right'>0.980031698682</td>\r\n",
        "<td style='text-align: right'>255.1</td>\r\n",
        "<td style='text-align: right'>47.2</td>\r\n",
        "</tr>\r\n",
        "<tr>\r\n",
        "<td>PA0022-C</td>\r\n",
        "<td>PA0022</td>\r\n",
        "<td>76 bp p/e</td>\r\n",
        "<td>Sanger</td>\r\n",
        "<td>Field Isolate</td>\r\n",
        "<td style='text-align: right'>0</td>\r\n",
        "<td style='text-align: right'>0</td>\r\n",
        "<td>Single</td>\r\n",
        "<td>None</td>\r\n",
        "<td style='text-align: right'>1006</td>\r\n",
        "<td>The Gambia</td>\r\n",
        "<td>GM_Coastal</td>\r\n",
        "<td style='text-align: right'>0</td>\r\n",
        "<td style='text-align: right'>73.98</td>\r\n",
        "<td style='text-align: right'>0.90425233869</td>\r\n",
        "<td style='text-align: right'>340.2</td>\r\n",
        "<td style='text-align: right'>57.5</td>\r\n",
        "</tr>\r\n",
        "<tr>\r\n",
        "<td>PA0034-C</td>\r\n",
        "<td>PA0034</td>\r\n",
        "<td>76 bp p/e</td>\r\n",
        "<td>Sanger</td>\r\n",
        "<td>Field Isolate</td>\r\n",
        "<td style='text-align: right'>0</td>\r\n",
        "<td style='text-align: right'>0</td>\r\n",
        "<td>Single</td>\r\n",
        "<td>None</td>\r\n",
        "<td style='text-align: right'>1006</td>\r\n",
        "<td>The Gambia</td>\r\n",
        "<td>GM_Coastal</td>\r\n",
        "<td style='text-align: right'>0</td>\r\n",
        "<td style='text-align: right'>81.03</td>\r\n",
        "<td style='text-align: right'>0.962065254748</td>\r\n",
        "<td style='text-align: right'>231.0</td>\r\n",
        "<td style='text-align: right'>78.2</td>\r\n",
        "</tr>\r\n",
        "<tr>\r\n",
        "<td>PA0037-C</td>\r\n",
        "<td>PA0037</td>\r\n",
        "<td>76 bp p/e</td>\r\n",
        "<td>Sanger</td>\r\n",
        "<td>Field Isolate</td>\r\n",
        "<td style='text-align: right'>0</td>\r\n",
        "<td style='text-align: right'>0</td>\r\n",
        "<td>Single</td>\r\n",
        "<td>None</td>\r\n",
        "<td style='text-align: right'>1006</td>\r\n",
        "<td>The Gambia</td>\r\n",
        "<td>GM_Coastal</td>\r\n",
        "<td style='text-align: right'>0</td>\r\n",
        "<td style='text-align: right'>183.66</td>\r\n",
        "<td style='text-align: right'>0.979954554164</td>\r\n",
        "<td style='text-align: right'>264.0</td>\r\n",
        "<td style='text-align: right'>37.8</td>\r\n",
        "</tr>\r\n",
        "</tbody>\r\n",
        "</table>\r\n",
        "<p><strong>...</strong></p>"
       ],
       "metadata": {},
       "output_type": "pyout",
       "prompt_number": 49,
       "text": [
        "+-------------+------------+---------------+-----------------+----------------------------+------------------+-------------------+------------------+-----------------+-----------+--------------+-------------------+---------------------+-------------------+---------------------------------+------------------------+----------------------------------+\n",
        "| '0|ox_code' | '1|Sample' | '2|Read Type' | '3|Data Source' | '4|Cultured/Field Isolate' | '5|Cross Parent' | '6|Cross Progeny' | '7|Single/Mixed' | '8|Other Notes' | '9|study' | '10|country' | '11|samplingSite' | '12|In LRS project' | '13|meanCoverage' | '14|Proportion of genome at 5x' | '15|insertSizeAverage' | '16|insertSizeStandardDeviation' |\n",
        "+=============+============+===============+=================+============================+==================+===================+==================+=================+===========+==============+===================+=====================+===================+=================================+========================+==================================+\n",
        "| 'PA0012-C'  | 'PA0012'   | '76 bp p/e'   | 'Sanger'        | 'Field Isolate'            |                0 |                 0 | 'Single'         | None            |      1006 | 'The Gambia' | 'GM_Coastal'      |                   0 |             95.02 |              0.9613357676143114 |                  251.9 |                             84.1 |\n",
        "+-------------+------------+---------------+-----------------+----------------------------+------------------+-------------------+------------------+-----------------+-----------+--------------+-------------------+---------------------+-------------------+---------------------------------+------------------------+----------------------------------+\n",
        "| 'PA0015-C'  | 'PA0015'   | '76 bp p/e'   | 'Sanger'        | 'Field Isolate'            |                0 |                 0 | 'Single'         | None            |      1006 | 'The Gambia' | 'GM_Coastal'      |                   0 |            169.55 |              0.9800316986824273 |                  255.1 |                             47.2 |\n",
        "+-------------+------------+---------------+-----------------+----------------------------+------------------+-------------------+------------------+-----------------+-----------+--------------+-------------------+---------------------+-------------------+---------------------------------+------------------------+----------------------------------+\n",
        "| 'PA0022-C'  | 'PA0022'   | '76 bp p/e'   | 'Sanger'        | 'Field Isolate'            |                0 |                 0 | 'Single'         | None            |      1006 | 'The Gambia' | 'GM_Coastal'      |                   0 |             73.98 |              0.9042523386896344 |                  340.2 |                             57.5 |\n",
        "+-------------+------------+---------------+-----------------+----------------------------+------------------+-------------------+------------------+-----------------+-----------+--------------+-------------------+---------------------+-------------------+---------------------------------+------------------------+----------------------------------+\n",
        "| 'PA0034-C'  | 'PA0034'   | '76 bp p/e'   | 'Sanger'        | 'Field Isolate'            |                0 |                 0 | 'Single'         | None            |      1006 | 'The Gambia' | 'GM_Coastal'      |                   0 |             81.03 |              0.9620652547476987 |                  231.0 |                             78.2 |\n",
        "+-------------+------------+---------------+-----------------+----------------------------+------------------+-------------------+------------------+-----------------+-----------+--------------+-------------------+---------------------+-------------------+---------------------------------+------------------------+----------------------------------+\n",
        "| 'PA0037-C'  | 'PA0037'   | '76 bp p/e'   | 'Sanger'        | 'Field Isolate'            |                0 |                 0 | 'Single'         | None            |      1006 | 'The Gambia' | 'GM_Coastal'      |                   0 |            183.66 |              0.9799545541644732 |                  264.0 |                             37.8 |\n",
        "+-------------+------------+---------------+-----------------+----------------------------+------------------+-------------------+------------------+-----------------+-----------+--------------+-------------------+---------------------+-------------------+---------------------------------+------------------------+----------------------------------+"
       ]
      }
     ],
     "prompt_number": 49
    },
    {
     "cell_type": "code",
     "collapsed": false,
     "input": [
      "len(table_selected_clinical_samples)"
     ],
     "language": "python",
     "metadata": {},
     "outputs": [
      {
       "metadata": {},
       "output_type": "pyout",
       "prompt_number": 50,
       "text": [
        "101"
       ]
      }
     ],
     "prompt_number": 50
    },
    {
     "cell_type": "code",
     "collapsed": false,
     "input": [
      "tabulate(table_selected_clinical_samples['Read Type'])"
     ],
     "language": "python",
     "metadata": {},
     "outputs": [
      {
       "metadata": {},
       "output_type": "pyout",
       "prompt_number": 51,
       "text": [
        "{'100 bp p/e': 79, '75 bp p/e': 6, '76 bp p/e': 15}"
       ]
      }
     ],
     "prompt_number": 51
    },
    {
     "cell_type": "code",
     "collapsed": false,
     "input": [
      "for var_to_plot in plot_params:\n",
      "    print var_to_plot, max(table_sample_manifest[var_to_plot]), max((table_sample_manifest\n",
      "        .select(lambda rec: rec['ox_code'] in clinical_single_infection_ox_code)\n",
      "    )[var_to_plot])"
     ],
     "language": "python",
     "metadata": {},
     "outputs": [
      {
       "output_type": "stream",
       "stream": "stdout",
       "text": [
        "insertSizeStandardDeviation 1791.2 98.9\n",
        "Proportion of genome at 5x 0.995365285936 0.985790836954\n",
        "meanCoverage 659.78 511.45\n",
        "insertSizeAverage 733.0 340.2\n",
        "Fws_4_0 0.999999984837 0.999990277394\n",
        "Proportion of genome at 1x 0.998446952279 "
       ]
      },
      {
       "output_type": "stream",
       "stream": "stdout",
       "text": [
        "0.990392078869\n"
       ]
      }
     ],
     "prompt_number": 52
    },
    {
     "cell_type": "heading",
     "level": 1,
     "metadata": {},
     "source": [
      "Choose KH1 and KH2 samples"
     ]
    },
    {
     "cell_type": "code",
     "collapsed": false,
     "input": [
      "table_KH_LRS_samples = (table_sample_manifest\n",
      "    .select(lambda rec: rec['ox_code'] in KH_samples.values())\n",
      "#     .cutout(u'Fws_3_0', u'Fws_4_0')\n",
      ")"
     ],
     "language": "python",
     "metadata": {},
     "outputs": [],
     "prompt_number": 53
    },
    {
     "cell_type": "code",
     "collapsed": false,
     "input": [
      "table_KH_LRS_samples"
     ],
     "language": "python",
     "metadata": {},
     "outputs": [
      {
       "html": [
        "<table class='petl'>\r\n",
        "<thead>\r\n",
        "<tr>\r\n",
        "<th>0|ox_code</th>\r\n",
        "<th>1|Sample</th>\r\n",
        "<th>2|Read Type</th>\r\n",
        "<th>3|Data Source</th>\r\n",
        "<th>4|Cultured/Field Isolate</th>\r\n",
        "<th>5|Cross Parent</th>\r\n",
        "<th>6|Cross Progeny</th>\r\n",
        "<th>7|Single/Mixed</th>\r\n",
        "<th>8|Other Notes</th>\r\n",
        "<th>9|study</th>\r\n",
        "<th>10|country</th>\r\n",
        "<th>11|samplingSite</th>\r\n",
        "<th>12|Fws_3_0</th>\r\n",
        "<th>13|Fws_4_0</th>\r\n",
        "<th>14|In LRS project</th>\r\n",
        "<th>15|basesof1xCoverage</th>\r\n",
        "<th>16|basesof5xCoverage</th>\r\n",
        "<th>17|Proportion of genome at 1x</th>\r\n",
        "<th>18|Proportion of genome at 5x</th>\r\n",
        "<th>19|meanCoverage</th>\r\n",
        "<th>20|insertSizeAverage</th>\r\n",
        "<th>21|insertSizeStandardDeviation</th>\r\n",
        "<th>22|country__samplingSite</th>\r\n",
        "</tr>\r\n",
        "</thead>\r\n",
        "<tbody>\r\n",
        "<tr>\r\n",
        "<td>PH0197-C</td>\r\n",
        "<td>PH0197</td>\r\n",
        "<td>76 bp p/e</td>\r\n",
        "<td>Sanger</td>\r\n",
        "<td>Field Isolate</td>\r\n",
        "<td style='text-align: right'>0</td>\r\n",
        "<td style='text-align: right'>0</td>\r\n",
        "<td>Single</td>\r\n",
        "<td>None</td>\r\n",
        "<td style='text-align: right'>1044</td>\r\n",
        "<td>Cambodia</td>\r\n",
        "<td>Pursat</td>\r\n",
        "<td style='text-align: right'>0.999476596118</td>\r\n",
        "<td style='text-align: right'>0.999248897839</td>\r\n",
        "<td style='text-align: right'>1</td>\r\n",
        "<td style='text-align: right'>22974332.0</td>\r\n",
        "<td style='text-align: right'>22824631.0</td>\r\n",
        "<td style='text-align: right'>0.984635426366</td>\r\n",
        "<td style='text-align: right'>0.978219531098</td>\r\n",
        "<td style='text-align: right'>151.2</td>\r\n",
        "<td style='text-align: right'>285.9</td>\r\n",
        "<td style='text-align: right'>56.1</td>\r\n",
        "<td>Cambodia__Pursat</td>\r\n",
        "</tr>\r\n",
        "<tr>\r\n",
        "<td>PH0199-C</td>\r\n",
        "<td>PH0199</td>\r\n",
        "<td>76 bp p/e</td>\r\n",
        "<td>Sanger</td>\r\n",
        "<td>Field Isolate</td>\r\n",
        "<td style='text-align: right'>0</td>\r\n",
        "<td style='text-align: right'>0</td>\r\n",
        "<td>Single</td>\r\n",
        "<td>None</td>\r\n",
        "<td style='text-align: right'>1044</td>\r\n",
        "<td>Cambodia</td>\r\n",
        "<td>Pursat</td>\r\n",
        "<td style='text-align: right'>0.999395358147</td>\r\n",
        "<td>None</td>\r\n",
        "<td style='text-align: right'>1</td>\r\n",
        "<td style='text-align: right'>22972095.0</td>\r\n",
        "<td style='text-align: right'>22798293.0</td>\r\n",
        "<td style='text-align: right'>0.984539552873</td>\r\n",
        "<td style='text-align: right'>0.977090735368</td>\r\n",
        "<td style='text-align: right'>98.9</td>\r\n",
        "<td style='text-align: right'>281.1</td>\r\n",
        "<td style='text-align: right'>52.5</td>\r\n",
        "<td>Cambodia__Pursat</td>\r\n",
        "</tr>\r\n",
        "</tbody>\r\n",
        "</table>\r\n"
       ],
       "metadata": {},
       "output_type": "pyout",
       "prompt_number": 54,
       "text": [
        "+-------------+------------+---------------+-----------------+----------------------------+------------------+-------------------+------------------+-----------------+-----------+--------------+-------------------+-------------------+------------------+---------------------+------------------------+------------------------+---------------------------------+---------------------------------+-------------------+------------------------+----------------------------------+----------------------------+\n",
        "| '0|ox_code' | '1|Sample' | '2|Read Type' | '3|Data Source' | '4|Cultured/Field Isolate' | '5|Cross Parent' | '6|Cross Progeny' | '7|Single/Mixed' | '8|Other Notes' | '9|study' | '10|country' | '11|samplingSite' | '12|Fws_3_0'      | '13|Fws_4_0'     | '14|In LRS project' | '15|basesof1xCoverage' | '16|basesof5xCoverage' | '17|Proportion of genome at 1x' | '18|Proportion of genome at 5x' | '19|meanCoverage' | '20|insertSizeAverage' | '21|insertSizeStandardDeviation' | '22|country__samplingSite' |\n",
        "+=============+============+===============+=================+============================+==================+===================+==================+=================+===========+==============+===================+===================+==================+=====================+========================+========================+=================================+=================================+===================+========================+==================================+============================+\n",
        "| 'PH0197-C'  | 'PH0197'   | '76 bp p/e'   | 'Sanger'        | 'Field Isolate'            |                0 |                 0 | 'Single'         | None            |      1044 | 'Cambodia'   | 'Pursat'          | 0.999476596118035 | 0.99924889783895 |                   1 |             22974332.0 |             22824631.0 |              0.9846354263655361 |              0.9782195310976195 |             151.2 |                  285.9 |                             56.1 | 'Cambodia__Pursat'         |\n",
        "+-------------+------------+---------------+-----------------+----------------------------+------------------+-------------------+------------------+-----------------+-----------+--------------+-------------------+-------------------+------------------+---------------------+------------------------+------------------------+---------------------------------+---------------------------------+-------------------+------------------------+----------------------------------+----------------------------+\n",
        "| 'PH0199-C'  | 'PH0199'   | '76 bp p/e'   | 'Sanger'        | 'Field Isolate'            |                0 |                 0 | 'Single'         | None            |      1044 | 'Cambodia'   | 'Pursat'          | 0.999395358146868 | None             |                   1 |             22972095.0 |             22798293.0 |              0.9845395528729454 |              0.9770907353676885 |              98.9 |                  281.1 |                             52.5 | 'Cambodia__Pursat'         |\n",
        "+-------------+------------+---------------+-----------------+----------------------------+------------------+-------------------+------------------+-----------------+-----------+--------------+-------------------+-------------------+------------------+---------------------+------------------------+------------------------+---------------------------------+---------------------------------+-------------------+------------------------+----------------------------------+----------------------------+"
       ]
      }
     ],
     "prompt_number": 54
    },
    {
     "cell_type": "heading",
     "level": 1,
     "metadata": {},
     "source": [
      "Choose crosses samples"
     ]
    },
    {
     "cell_type": "code",
     "collapsed": false,
     "input": [
      "vcf_reader = vcf.Reader(open(vcf_7g8_gb4_fn, 'r'))\n",
      "samples_7g8_gb4 = vcf_reader.samples\n",
      "vcf_reader = vcf.Reader(open(vcf_hb3_dd2_fn, 'r'))\n",
      "samples_hb3_dd2 = vcf_reader.samples\n",
      "vcf_reader = vcf.Reader(open(vcf_3d7_hb3_fn, 'r'))\n",
      "samples_3d7_hb3 = vcf_reader.samples\n"
     ],
     "language": "python",
     "metadata": {},
     "outputs": [],
     "prompt_number": 55
    },
    {
     "cell_type": "code",
     "collapsed": false,
     "input": [
      "table_panoptes_7g8_gb4 = (etl.fromtsv(panoptes_7g8_gb4_fn).rename('sample', 'ox_code').rename('coverage', 'meanCoverage').convertnumbers())\n",
      "table_panoptes_hb3_dd2 = (etl.fromtsv(panoptes_hb3_dd2_fn).rename('sample', 'ox_code').rename('coverage', 'meanCoverage').convertnumbers())\n",
      "table_panoptes_3d7_hb3 = (etl.fromtsv(panoptes_3d7_hb3_fn).rename('sample', 'ox_code').rename('coverage', 'meanCoverage').convertnumbers())\n"
     ],
     "language": "python",
     "metadata": {},
     "outputs": [],
     "prompt_number": 56
    },
    {
     "cell_type": "code",
     "collapsed": false,
     "input": [
      "table_panoptes_7g8_gb4"
     ],
     "language": "python",
     "metadata": {},
     "outputs": [
      {
       "html": [
        "<table class='petl'>\r\n",
        "<thead>\r\n",
        "<tr>\r\n",
        "<th>0|clone</th>\r\n",
        "<th>1|ox_code</th>\r\n",
        "<th>2|run</th>\r\n",
        "<th>3|instrument</th>\r\n",
        "<th>4|meanCoverage</th>\r\n",
        "</tr>\r\n",
        "</thead>\r\n",
        "<tbody>\r\n",
        "<tr>\r\n",
        "<td>7G8</td>\r\n",
        "<td>PG0083-C</td>\r\n",
        "<td>ERR027099</td>\r\n",
        "<td>Illumina Genome Analyzer II</td>\r\n",
        "<td style='text-align: right'>87.0</td>\r\n",
        "</tr>\r\n",
        "<tr>\r\n",
        "<td>AL2</td>\r\n",
        "<td>PG0103-CW</td>\r\n",
        "<td>ERR045627</td>\r\n",
        "<td>Illumina HiSeq 2000</td>\r\n",
        "<td style='text-align: right'>127.0</td>\r\n",
        "</tr>\r\n",
        "<tr>\r\n",
        "<td>AUD</td>\r\n",
        "<td>PG0112-C</td>\r\n",
        "<td>ERR029406</td>\r\n",
        "<td>Illumina Genome Analyzer II</td>\r\n",
        "<td style='text-align: right'>129.0</td>\r\n",
        "</tr>\r\n",
        "<tr>\r\n",
        "<td>AUD</td>\r\n",
        "<td>PG0112-CW</td>\r\n",
        "<td>ERR045639</td>\r\n",
        "<td>Illumina HiSeq 2000</td>\r\n",
        "<td style='text-align: right'>88.0</td>\r\n",
        "</tr>\r\n",
        "<tr>\r\n",
        "<td>D2</td>\r\n",
        "<td>PG0094-CW</td>\r\n",
        "<td>ERR045632</td>\r\n",
        "<td>Illumina HiSeq 2000</td>\r\n",
        "<td style='text-align: right'>153.0</td>\r\n",
        "</tr>\r\n",
        "</tbody>\r\n",
        "</table>\r\n",
        "<p><strong>...</strong></p>"
       ],
       "metadata": {},
       "output_type": "pyout",
       "prompt_number": 57,
       "text": [
        "+-----------+-------------+-------------+-------------------------------+------------------+\n",
        "| '0|clone' | '1|ox_code' | '2|run'     | '3|instrument'                | '4|meanCoverage' |\n",
        "+===========+=============+=============+===============================+==================+\n",
        "| '7G8'     | 'PG0083-C'  | 'ERR027099' | 'Illumina Genome Analyzer II' |             87.0 |\n",
        "+-----------+-------------+-------------+-------------------------------+------------------+\n",
        "| 'AL2'     | 'PG0103-CW' | 'ERR045627' | 'Illumina HiSeq 2000'         |            127.0 |\n",
        "+-----------+-------------+-------------+-------------------------------+------------------+\n",
        "| 'AUD'     | 'PG0112-C'  | 'ERR029406' | 'Illumina Genome Analyzer II' |            129.0 |\n",
        "+-----------+-------------+-------------+-------------------------------+------------------+\n",
        "| 'AUD'     | 'PG0112-CW' | 'ERR045639' | 'Illumina HiSeq 2000'         |             88.0 |\n",
        "+-----------+-------------+-------------+-------------------------------+------------------+\n",
        "| 'D2'      | 'PG0094-CW' | 'ERR045632' | 'Illumina HiSeq 2000'         |            153.0 |\n",
        "+-----------+-------------+-------------+-------------------------------+------------------+"
       ]
      }
     ],
     "prompt_number": 57
    },
    {
     "cell_type": "code",
     "collapsed": false,
     "input": [
      "def notes_3d7_hb3(rec):\n",
      "    if rec['Sample'] == '3D7':\n",
      "        return 'Reference assembly strain. This version from 3D7xHB3 cross'\n",
      "    if rec['Sample'] == 'HB3':\n",
      "        return 'This version from 3D7xHB3 cross'\n",
      "    else:\n",
      "        return None"
     ],
     "language": "python",
     "metadata": {},
     "outputs": [],
     "prompt_number": 58
    },
    {
     "cell_type": "code",
     "collapsed": false,
     "input": [
      "def notes_hb3_dd2(rec):\n",
      "    if rec['Sample'] == 'HB3':\n",
      "        return 'This version from HB3xDd2 cross'\n",
      "    else:\n",
      "        return None"
     ],
     "language": "python",
     "metadata": {},
     "outputs": [],
     "prompt_number": 59
    },
    {
     "cell_type": "code",
     "collapsed": false,
     "input": [
      "tables_crosses = {}\n",
      "tables_crosses['7g8_gb4'] = (etl.wrap([x.split('/') for x in ['Sample/ox_code/ERS'] + samples_7g8_gb4])\n",
      "    .addfield('study', 'PFproj3')\n",
      "    .addfield('Other Notes', None)\n",
      "    .leftjoin(table_panoptes_7g8_gb4, 'ox_code')\n",
      ")\n",
      "tables_crosses['hb3_dd2'] = (etl.wrap([x.split('/') for x in ['Sample/ox_code/ERS'] + samples_hb3_dd2])\n",
      "    .addfield('study', 'PFproj1')\n",
      "    .addfield('Other Notes', lambda rec: notes_hb3_dd2(rec))\n",
      "    .leftjoin(table_panoptes_hb3_dd2, 'ox_code')\n",
      ")\n",
      "tables_crosses['3d7_hb3'] = (etl.wrap([x.split('/') for x in ['Sample/ox_code/ERS'] + samples_3d7_hb3])\n",
      "    .addfield('study', 'PFproj2')\n",
      "    .addfield('Other Notes', lambda rec: notes_3d7_hb3(rec))\n",
      "    .select(lambda rec: rec['Sample'] in ['3D7', 'HB3']) # exclude progeny of 3D7xHB3\n",
      "    .leftjoin(table_panoptes_3d7_hb3, 'ox_code')\n",
      ")\n"
     ],
     "language": "python",
     "metadata": {},
     "outputs": [],
     "prompt_number": 60
    },
    {
     "cell_type": "code",
     "collapsed": false,
     "input": [
      "tables_crosses['3d7_hb3']"
     ],
     "language": "python",
     "metadata": {},
     "outputs": [
      {
       "html": [
        "<table class='petl'>\r\n",
        "<thead>\r\n",
        "<tr>\r\n",
        "<th>0|Sample</th>\r\n",
        "<th>1|ox_code</th>\r\n",
        "<th>2|ERS</th>\r\n",
        "<th>3|study</th>\r\n",
        "<th>4|Other Notes</th>\r\n",
        "<th>5|clone</th>\r\n",
        "<th>6|run</th>\r\n",
        "<th>7|instrument</th>\r\n",
        "<th>8|meanCoverage</th>\r\n",
        "</tr>\r\n",
        "</thead>\r\n",
        "<tbody>\r\n",
        "<tr>\r\n",
        "<td>3D7</td>\r\n",
        "<td>PG0051-C</td>\r\n",
        "<td>ERR019061</td>\r\n",
        "<td>PFproj2</td>\r\n",
        "<td>Reference assembly strain. This version from 3D7xHB3 cross</td>\r\n",
        "<td>3D7</td>\r\n",
        "<td>ERR019061</td>\r\n",
        "<td>Illumina Genome Analyzer II</td>\r\n",
        "<td style='text-align: right'>122.0</td>\r\n",
        "</tr>\r\n",
        "<tr>\r\n",
        "<td>HB3</td>\r\n",
        "<td>PG0052-C</td>\r\n",
        "<td>ERR019054</td>\r\n",
        "<td>PFproj2</td>\r\n",
        "<td>This version from 3D7xHB3 cross</td>\r\n",
        "<td>HB3</td>\r\n",
        "<td>ERR019054</td>\r\n",
        "<td>Illumina Genome Analyzer II</td>\r\n",
        "<td style='text-align: right'>100.0</td>\r\n",
        "</tr>\r\n",
        "</tbody>\r\n",
        "</table>\r\n"
       ],
       "metadata": {},
       "output_type": "pyout",
       "prompt_number": 61,
       "text": [
        "+------------+-------------+-------------+-----------+--------------------------------------------------------------+-----------+-------------+-------------------------------+------------------+\n",
        "| '0|Sample' | '1|ox_code' | '2|ERS'     | '3|study' | '4|Other Notes'                                              | '5|clone' | '6|run'     | '7|instrument'                | '8|meanCoverage' |\n",
        "+============+=============+=============+===========+==============================================================+===========+=============+===============================+==================+\n",
        "| '3D7'      | 'PG0051-C'  | 'ERR019061' | 'PFproj2' | 'Reference assembly strain. This version from 3D7xHB3 cross' | '3D7'     | 'ERR019061' | 'Illumina Genome Analyzer II' |            122.0 |\n",
        "+------------+-------------+-------------+-----------+--------------------------------------------------------------+-----------+-------------+-------------------------------+------------------+\n",
        "| 'HB3'      | 'PG0052-C'  | 'ERR019054' | 'PFproj2' | 'This version from 3D7xHB3 cross'                            | 'HB3'     | 'ERR019054' | 'Illumina Genome Analyzer II' |            100.0 |\n",
        "+------------+-------------+-------------+-----------+--------------------------------------------------------------+-----------+-------------+-------------------------------+------------------+"
       ]
      }
     ],
     "prompt_number": 61
    },
    {
     "cell_type": "code",
     "collapsed": false,
     "input": [
      "tables_crosses['7g8_gb4']"
     ],
     "language": "python",
     "metadata": {},
     "outputs": [
      {
       "html": [
        "<table class='petl'>\r\n",
        "<thead>\r\n",
        "<tr>\r\n",
        "<th>0|Sample</th>\r\n",
        "<th>1|ox_code</th>\r\n",
        "<th>2|ERS</th>\r\n",
        "<th>3|study</th>\r\n",
        "<th>4|Other Notes</th>\r\n",
        "<th>5|clone</th>\r\n",
        "<th>6|run</th>\r\n",
        "<th>7|instrument</th>\r\n",
        "<th>8|meanCoverage</th>\r\n",
        "</tr>\r\n",
        "</thead>\r\n",
        "<tbody>\r\n",
        "<tr>\r\n",
        "<td>JC3</td>\r\n",
        "<td>PG0077-CW</td>\r\n",
        "<td>ERR045636</td>\r\n",
        "<td>PFproj3</td>\r\n",
        "<td>None</td>\r\n",
        "<td>JC3</td>\r\n",
        "<td>ERR045636</td>\r\n",
        "<td>Illumina HiSeq 2000</td>\r\n",
        "<td style='text-align: right'>94.0</td>\r\n",
        "</tr>\r\n",
        "<tr>\r\n",
        "<td>QF5</td>\r\n",
        "<td>PG0078-C</td>\r\n",
        "<td>ERR029092</td>\r\n",
        "<td>PFproj3</td>\r\n",
        "<td>None</td>\r\n",
        "<td>QF5</td>\r\n",
        "<td>ERR029092</td>\r\n",
        "<td>Illumina Genome Analyzer II</td>\r\n",
        "<td style='text-align: right'>147.0</td>\r\n",
        "</tr>\r\n",
        "<tr>\r\n",
        "<td>QF5</td>\r\n",
        "<td>PG0078-CW</td>\r\n",
        "<td>ERR045638</td>\r\n",
        "<td>PFproj3</td>\r\n",
        "<td>None</td>\r\n",
        "<td>QF5</td>\r\n",
        "<td>ERR045638</td>\r\n",
        "<td>Illumina HiSeq 2000</td>\r\n",
        "<td style='text-align: right'>82.0</td>\r\n",
        "</tr>\r\n",
        "<tr>\r\n",
        "<td>JF6</td>\r\n",
        "<td>PG0079-C</td>\r\n",
        "<td>ERR027102</td>\r\n",
        "<td>PFproj3</td>\r\n",
        "<td>None</td>\r\n",
        "<td>JF6</td>\r\n",
        "<td>ERR027102</td>\r\n",
        "<td>Illumina Genome Analyzer II</td>\r\n",
        "<td style='text-align: right'>181.0</td>\r\n",
        "</tr>\r\n",
        "<tr>\r\n",
        "<td>JF6</td>\r\n",
        "<td>PG0079-CW</td>\r\n",
        "<td>ERR045637</td>\r\n",
        "<td>PFproj3</td>\r\n",
        "<td>None</td>\r\n",
        "<td>JF6</td>\r\n",
        "<td>ERR045637</td>\r\n",
        "<td>Illumina HiSeq 2000</td>\r\n",
        "<td style='text-align: right'>94.0</td>\r\n",
        "</tr>\r\n",
        "</tbody>\r\n",
        "</table>\r\n",
        "<p><strong>...</strong></p>"
       ],
       "metadata": {},
       "output_type": "pyout",
       "prompt_number": 62,
       "text": [
        "+------------+-------------+-------------+-----------+-----------------+-----------+-------------+-------------------------------+------------------+\n",
        "| '0|Sample' | '1|ox_code' | '2|ERS'     | '3|study' | '4|Other Notes' | '5|clone' | '6|run'     | '7|instrument'                | '8|meanCoverage' |\n",
        "+============+=============+=============+===========+=================+===========+=============+===============================+==================+\n",
        "| 'JC3'      | 'PG0077-CW' | 'ERR045636' | 'PFproj3' | None            | 'JC3'     | 'ERR045636' | 'Illumina HiSeq 2000'         |             94.0 |\n",
        "+------------+-------------+-------------+-----------+-----------------+-----------+-------------+-------------------------------+------------------+\n",
        "| 'QF5'      | 'PG0078-C'  | 'ERR029092' | 'PFproj3' | None            | 'QF5'     | 'ERR029092' | 'Illumina Genome Analyzer II' |            147.0 |\n",
        "+------------+-------------+-------------+-----------+-----------------+-----------+-------------+-------------------------------+------------------+\n",
        "| 'QF5'      | 'PG0078-CW' | 'ERR045638' | 'PFproj3' | None            | 'QF5'     | 'ERR045638' | 'Illumina HiSeq 2000'         |             82.0 |\n",
        "+------------+-------------+-------------+-----------+-----------------+-----------+-------------+-------------------------------+------------------+\n",
        "| 'JF6'      | 'PG0079-C'  | 'ERR027102' | 'PFproj3' | None            | 'JF6'     | 'ERR027102' | 'Illumina Genome Analyzer II' |            181.0 |\n",
        "+------------+-------------+-------------+-----------+-----------------+-----------+-------------+-------------------------------+------------------+\n",
        "| 'JF6'      | 'PG0079-CW' | 'ERR045637' | 'PFproj3' | None            | 'JF6'     | 'ERR045637' | 'Illumina HiSeq 2000'         |             94.0 |\n",
        "+------------+-------------+-------------+-----------+-----------------+-----------+-------------+-------------------------------+------------------+"
       ]
      }
     ],
     "prompt_number": 62
    },
    {
     "cell_type": "code",
     "collapsed": false,
     "input": [
      "tables_crosses['hb3_dd2'].select(lambda rec: rec['Sample'] in ['HB3', 'DD2'])"
     ],
     "language": "python",
     "metadata": {},
     "outputs": [
      {
       "html": [
        "<table class='petl'>\r\n",
        "<thead>\r\n",
        "<tr>\r\n",
        "<th>0|Sample</th>\r\n",
        "<th>1|ox_code</th>\r\n",
        "<th>2|ERS</th>\r\n",
        "<th>3|study</th>\r\n",
        "<th>4|Other Notes</th>\r\n",
        "<th>5|clone</th>\r\n",
        "<th>6|run</th>\r\n",
        "<th>7|instrument</th>\r\n",
        "<th>8|meanCoverage</th>\r\n",
        "</tr>\r\n",
        "</thead>\r\n",
        "<tbody>\r\n",
        "<tr>\r\n",
        "<td>HB3</td>\r\n",
        "<td>PG0004-CW</td>\r\n",
        "<td>ERR012788</td>\r\n",
        "<td>PFproj1</td>\r\n",
        "<td>This version from HB3xDd2 cross</td>\r\n",
        "<td>HB3</td>\r\n",
        "<td>ERR012788</td>\r\n",
        "<td>Illumina Genome Analyzer II</td>\r\n",
        "<td style='text-align: right'>80.0</td>\r\n",
        "</tr>\r\n",
        "<tr>\r\n",
        "<td>DD2</td>\r\n",
        "<td>PG0008-CW</td>\r\n",
        "<td>ERR012840</td>\r\n",
        "<td>PFproj1</td>\r\n",
        "<td>None</td>\r\n",
        "<td>DD2</td>\r\n",
        "<td>ERR012840</td>\r\n",
        "<td>Illumina Genome Analyzer II</td>\r\n",
        "<td style='text-align: right'>122.0</td>\r\n",
        "</tr>\r\n",
        "</tbody>\r\n",
        "</table>\r\n"
       ],
       "metadata": {},
       "output_type": "pyout",
       "prompt_number": 63,
       "text": [
        "+------------+-------------+-------------+-----------+-----------------------------------+-----------+-------------+-------------------------------+------------------+\n",
        "| '0|Sample' | '1|ox_code' | '2|ERS'     | '3|study' | '4|Other Notes'                   | '5|clone' | '6|run'     | '7|instrument'                | '8|meanCoverage' |\n",
        "+============+=============+=============+===========+===================================+===========+=============+===============================+==================+\n",
        "| 'HB3'      | 'PG0004-CW' | 'ERR012788' | 'PFproj1' | 'This version from HB3xDd2 cross' | 'HB3'     | 'ERR012788' | 'Illumina Genome Analyzer II' |             80.0 |\n",
        "+------------+-------------+-------------+-----------+-----------------------------------+-----------+-------------+-------------------------------+------------------+\n",
        "| 'DD2'      | 'PG0008-CW' | 'ERR012840' | 'PFproj1' | None                              | 'DD2'     | 'ERR012840' | 'Illumina Genome Analyzer II' |            122.0 |\n",
        "+------------+-------------+-------------+-----------+-----------------------------------+-----------+-------------+-------------------------------+------------------+"
       ]
      }
     ],
     "prompt_number": 63
    },
    {
     "cell_type": "code",
     "collapsed": false,
     "input": [
      "def read_length(bam_fn='/data/mirror/nfs/team112_internal/production_files/Pf/3_0/PFproj2/PG0051_C/PG0051_C.bam'):\n",
      "    samfile = pysam.Samfile(bam_fn, \"rb\")\n",
      "    alignedread = samfile.next()\n",
      "    return len(alignedread.seq)\n",
      "\n",
      "read_length()"
     ],
     "language": "python",
     "metadata": {},
     "outputs": [
      {
       "metadata": {},
       "output_type": "pyout",
       "prompt_number": 64,
       "text": [
        "76"
       ]
      }
     ],
     "prompt_number": 64
    },
    {
     "cell_type": "code",
     "collapsed": false,
     "input": [
      "def all_read_lengths(bam_fn='/data/mirror/nfs/team112_internal/production_files/Pf/3_0/PFlab1/PG0001_C/PG0001_C.bam'):\n",
      "    samfile = pysam.Samfile(bam_fn, \"rb\")\n",
      "    read_lengths = list()\n",
      "    i = 0\n",
      "    for alignedread in samfile.fetch():\n",
      "        i = i + 1\n",
      "        if i % 1000000 == 0:\n",
      "            print \".\",\n",
      "        if len(alignedread.seq) in read_lengths:\n",
      "            next\n",
      "        else:\n",
      "            read_lengths.append(len(alignedread.seq))\n",
      "    return read_lengths\n",
      "\n",
      "all_read_lengths()"
     ],
     "language": "python",
     "metadata": {},
     "outputs": [
      {
       "output_type": "stream",
       "stream": "stdout",
       "text": [
        ". "
       ]
      },
      {
       "output_type": "stream",
       "stream": "stdout",
       "text": [
        ". "
       ]
      },
      {
       "output_type": "stream",
       "stream": "stdout",
       "text": [
        ". "
       ]
      },
      {
       "output_type": "stream",
       "stream": "stdout",
       "text": [
        ". "
       ]
      },
      {
       "output_type": "stream",
       "stream": "stdout",
       "text": [
        ". "
       ]
      },
      {
       "output_type": "stream",
       "stream": "stdout",
       "text": [
        ". "
       ]
      },
      {
       "output_type": "stream",
       "stream": "stdout",
       "text": [
        ". "
       ]
      },
      {
       "output_type": "stream",
       "stream": "stdout",
       "text": [
        ". "
       ]
      },
      {
       "output_type": "stream",
       "stream": "stdout",
       "text": [
        ". "
       ]
      },
      {
       "output_type": "stream",
       "stream": "stdout",
       "text": [
        ". "
       ]
      },
      {
       "output_type": "stream",
       "stream": "stdout",
       "text": [
        ". "
       ]
      },
      {
       "output_type": "stream",
       "stream": "stdout",
       "text": [
        ". "
       ]
      },
      {
       "output_type": "stream",
       "stream": "stdout",
       "text": [
        ". "
       ]
      },
      {
       "output_type": "stream",
       "stream": "stdout",
       "text": [
        ". "
       ]
      },
      {
       "output_type": "stream",
       "stream": "stdout",
       "text": [
        ". "
       ]
      },
      {
       "output_type": "stream",
       "stream": "stdout",
       "text": [
        ". "
       ]
      },
      {
       "output_type": "stream",
       "stream": "stdout",
       "text": [
        ". "
       ]
      },
      {
       "output_type": "stream",
       "stream": "stdout",
       "text": [
        ". "
       ]
      },
      {
       "output_type": "stream",
       "stream": "stdout",
       "text": [
        ". "
       ]
      },
      {
       "output_type": "stream",
       "stream": "stdout",
       "text": [
        ". "
       ]
      },
      {
       "output_type": "stream",
       "stream": "stdout",
       "text": [
        ". "
       ]
      },
      {
       "output_type": "stream",
       "stream": "stdout",
       "text": [
        ". "
       ]
      },
      {
       "output_type": "stream",
       "stream": "stdout",
       "text": [
        ". "
       ]
      },
      {
       "output_type": "stream",
       "stream": "stdout",
       "text": [
        ". "
       ]
      },
      {
       "output_type": "stream",
       "stream": "stdout",
       "text": [
        ". "
       ]
      },
      {
       "output_type": "stream",
       "stream": "stdout",
       "text": [
        ". "
       ]
      },
      {
       "output_type": "stream",
       "stream": "stdout",
       "text": [
        ". "
       ]
      },
      {
       "output_type": "stream",
       "stream": "stdout",
       "text": [
        ". "
       ]
      },
      {
       "output_type": "stream",
       "stream": "stdout",
       "text": [
        ". "
       ]
      },
      {
       "output_type": "stream",
       "stream": "stdout",
       "text": [
        ". "
       ]
      },
      {
       "output_type": "stream",
       "stream": "stdout",
       "text": [
        ". "
       ]
      },
      {
       "output_type": "stream",
       "stream": "stdout",
       "text": [
        ". "
       ]
      },
      {
       "output_type": "stream",
       "stream": "stdout",
       "text": [
        ". "
       ]
      },
      {
       "output_type": "stream",
       "stream": "stdout",
       "text": [
        ". "
       ]
      },
      {
       "output_type": "stream",
       "stream": "stdout",
       "text": [
        ". "
       ]
      },
      {
       "output_type": "stream",
       "stream": "stdout",
       "text": [
        ". "
       ]
      },
      {
       "output_type": "stream",
       "stream": "stdout",
       "text": [
        ". "
       ]
      },
      {
       "output_type": "stream",
       "stream": "stdout",
       "text": [
        ". "
       ]
      },
      {
       "output_type": "stream",
       "stream": "stdout",
       "text": [
        ". "
       ]
      },
      {
       "output_type": "stream",
       "stream": "stdout",
       "text": [
        ". "
       ]
      },
      {
       "output_type": "stream",
       "stream": "stdout",
       "text": [
        ". "
       ]
      },
      {
       "output_type": "stream",
       "stream": "stdout",
       "text": [
        ". "
       ]
      },
      {
       "output_type": "stream",
       "stream": "stdout",
       "text": [
        ". "
       ]
      },
      {
       "output_type": "stream",
       "stream": "stdout",
       "text": [
        ". "
       ]
      },
      {
       "output_type": "stream",
       "stream": "stdout",
       "text": [
        ". "
       ]
      },
      {
       "output_type": "stream",
       "stream": "stdout",
       "text": [
        ". "
       ]
      },
      {
       "output_type": "stream",
       "stream": "stdout",
       "text": [
        ". "
       ]
      },
      {
       "output_type": "stream",
       "stream": "stdout",
       "text": [
        ". "
       ]
      },
      {
       "output_type": "stream",
       "stream": "stdout",
       "text": [
        ". "
       ]
      },
      {
       "output_type": "stream",
       "stream": "stdout",
       "text": [
        ". "
       ]
      },
      {
       "output_type": "stream",
       "stream": "stdout",
       "text": [
        ". "
       ]
      },
      {
       "output_type": "stream",
       "stream": "stdout",
       "text": [
        ". "
       ]
      },
      {
       "output_type": "stream",
       "stream": "stdout",
       "text": [
        ". "
       ]
      },
      {
       "output_type": "stream",
       "stream": "stdout",
       "text": [
        ". "
       ]
      },
      {
       "output_type": "stream",
       "stream": "stdout",
       "text": [
        ". "
       ]
      },
      {
       "output_type": "stream",
       "stream": "stdout",
       "text": [
        ". "
       ]
      },
      {
       "output_type": "stream",
       "stream": "stdout",
       "text": [
        ". "
       ]
      },
      {
       "output_type": "stream",
       "stream": "stdout",
       "text": [
        ". "
       ]
      },
      {
       "output_type": "stream",
       "stream": "stdout",
       "text": [
        ". "
       ]
      },
      {
       "output_type": "stream",
       "stream": "stdout",
       "text": [
        ". "
       ]
      },
      {
       "output_type": "stream",
       "stream": "stdout",
       "text": [
        ". "
       ]
      },
      {
       "output_type": "stream",
       "stream": "stdout",
       "text": [
        ". "
       ]
      },
      {
       "output_type": "stream",
       "stream": "stdout",
       "text": [
        ". "
       ]
      },
      {
       "output_type": "stream",
       "stream": "stdout",
       "text": [
        ". "
       ]
      },
      {
       "output_type": "stream",
       "stream": "stdout",
       "text": [
        ". "
       ]
      },
      {
       "output_type": "stream",
       "stream": "stdout",
       "text": [
        ". "
       ]
      },
      {
       "output_type": "stream",
       "stream": "stdout",
       "text": [
        ". "
       ]
      },
      {
       "output_type": "stream",
       "stream": "stdout",
       "text": [
        ". "
       ]
      },
      {
       "output_type": "stream",
       "stream": "stdout",
       "text": [
        ". "
       ]
      },
      {
       "output_type": "stream",
       "stream": "stdout",
       "text": [
        ". "
       ]
      },
      {
       "output_type": "stream",
       "stream": "stdout",
       "text": [
        ". "
       ]
      },
      {
       "output_type": "stream",
       "stream": "stdout",
       "text": [
        ". "
       ]
      },
      {
       "output_type": "stream",
       "stream": "stdout",
       "text": [
        ". "
       ]
      },
      {
       "output_type": "stream",
       "stream": "stdout",
       "text": [
        ". "
       ]
      },
      {
       "output_type": "stream",
       "stream": "stdout",
       "text": [
        ". "
       ]
      },
      {
       "output_type": "stream",
       "stream": "stdout",
       "text": [
        ". "
       ]
      },
      {
       "output_type": "stream",
       "stream": "stdout",
       "text": [
        ". "
       ]
      },
      {
       "output_type": "stream",
       "stream": "stdout",
       "text": [
        ". "
       ]
      },
      {
       "output_type": "stream",
       "stream": "stdout",
       "text": [
        "."
       ]
      },
      {
       "metadata": {},
       "output_type": "pyout",
       "prompt_number": 65,
       "text": [
        "[37, 76]"
       ]
      },
      {
       "output_type": "stream",
       "stream": "stdout",
       "text": [
        "\n"
       ]
      }
     ],
     "prompt_number": 65
    },
    {
     "cell_type": "code",
     "collapsed": false,
     "input": [
      "def sample_read_length(ox_code='PG0051-C', study='PFproj2', bam_dir='/data/mirror/nfs/team112_internal/production_files/Pf/3_0'):\n",
      "    bam_fn = os.path.join(bam_dir, study, ox_code.replace('-', '_'), \"%s.bam\" % ox_code.replace('-', '_'))\n",
      "    if os.path.exists(bam_fn):\n",
      "        return read_length(bam_fn)\n",
      "    else:\n",
      "        return -1\n",
      "sample_read_length()"
     ],
     "language": "python",
     "metadata": {},
     "outputs": [
      {
       "metadata": {},
       "output_type": "pyout",
       "prompt_number": 66,
       "text": [
        "76"
       ]
      }
     ],
     "prompt_number": 66
    },
    {
     "cell_type": "code",
     "collapsed": false,
     "input": [
      "print sample_read_length('PG0083-C', 'PFproj3')"
     ],
     "language": "python",
     "metadata": {},
     "outputs": [
      {
       "output_type": "stream",
       "stream": "stdout",
       "text": [
        "76\n"
       ]
      }
     ],
     "prompt_number": 67
    },
    {
     "cell_type": "code",
     "collapsed": false,
     "input": [
      "def rec_read_length(rec):\n",
      "    return sample_read_length(rec['ox_code'], rec['study'])"
     ],
     "language": "python",
     "metadata": {},
     "outputs": [],
     "prompt_number": 68
    },
    {
     "cell_type": "code",
     "collapsed": false,
     "input": [
      "def is_cross_parent(rec):\n",
      "    if rec['Sample'] in Cross_parents:\n",
      "        return 1\n",
      "    else:\n",
      "        return 0"
     ],
     "language": "python",
     "metadata": {},
     "outputs": [],
     "prompt_number": 69
    },
    {
     "cell_type": "code",
     "collapsed": false,
     "input": [
      "tables_crosses_extended = {}\n",
      "for cross in tables_crosses:\n",
      "    print cross\n",
      "    tables_crosses_extended[cross] = (tables_crosses[cross]\n",
      "        .addfield('Read Type', lambda rec: \"%d bp p/e\" % rec_read_length(rec))\n",
      "        .addfield('Data Source', lambda rec: \"Sanger\")\n",
      "        .addfield('Cultured/Field Isolate', lambda rec: \"Cultured\")\n",
      "        .addfield('Cross Parent', lambda rec: is_cross_parent(rec))\n",
      "        .addfield('Cross Progeny', lambda rec: 1-is_cross_parent(rec))\n",
      "        .addfield('Single/Mixed', lambda rec: \"Single\")\n",
      "        .addfield('Other Notes', None)\n",
      "        .addfield('In LRS project', lambda rec: is_cross_parent(rec))\n",
      "        .addfield('country', None)\n",
      "        .addfield('samplingSite', None)\n",
      "        .addfield('Proportion of genome at 5x', None)\n",
      "        .addfield('insertSizeAverage', None)\n",
      "        .addfield('insertSizeStandardDeviation', None)\n",
      "        .cut(required_fields)\n",
      "#         .cut([u'ox_code'] + list(table_dan_google_docs.header()) + [u'study', u'country', u'samplingSite', u'In LRS project'])\n",
      "    )"
     ],
     "language": "python",
     "metadata": {},
     "outputs": [
      {
       "output_type": "stream",
       "stream": "stdout",
       "text": [
        "3d7_hb3\n",
        "7g8_gb4\n",
        "hb3_dd2\n"
       ]
      }
     ],
     "prompt_number": 70
    },
    {
     "cell_type": "code",
     "collapsed": false,
     "input": [
      "required_fields"
     ],
     "language": "python",
     "metadata": {},
     "outputs": [
      {
       "metadata": {},
       "output_type": "pyout",
       "prompt_number": 71,
       "text": [
        "[u'ox_code',\n",
        " u'Sample',\n",
        " u'Read Type',\n",
        " u'Data Source',\n",
        " u'Cultured/Field Isolate',\n",
        " u'Cross Parent',\n",
        " u'Cross Progeny',\n",
        " u'Single/Mixed',\n",
        " u'Other Notes',\n",
        " u'study',\n",
        " u'country',\n",
        " u'samplingSite',\n",
        " u'In LRS project',\n",
        " u'meanCoverage',\n",
        " u'Proportion of genome at 5x',\n",
        " u'insertSizeAverage',\n",
        " u'insertSizeStandardDeviation']"
       ]
      }
     ],
     "prompt_number": 71
    },
    {
     "cell_type": "code",
     "collapsed": false,
     "input": [
      "tables_crosses_extended['3d7_hb3']"
     ],
     "language": "python",
     "metadata": {},
     "outputs": [
      {
       "html": [
        "<table class='petl'>\r\n",
        "<thead>\r\n",
        "<tr>\r\n",
        "<th>0|ox_code</th>\r\n",
        "<th>1|Sample</th>\r\n",
        "<th>2|Read Type</th>\r\n",
        "<th>3|Data Source</th>\r\n",
        "<th>4|Cultured/Field Isolate</th>\r\n",
        "<th>5|Cross Parent</th>\r\n",
        "<th>6|Cross Progeny</th>\r\n",
        "<th>7|Single/Mixed</th>\r\n",
        "<th>8|Other Notes</th>\r\n",
        "<th>9|study</th>\r\n",
        "<th>10|country</th>\r\n",
        "<th>11|samplingSite</th>\r\n",
        "<th>12|In LRS project</th>\r\n",
        "<th>13|meanCoverage</th>\r\n",
        "<th>14|Proportion of genome at 5x</th>\r\n",
        "<th>15|insertSizeAverage</th>\r\n",
        "<th>16|insertSizeStandardDeviation</th>\r\n",
        "</tr>\r\n",
        "</thead>\r\n",
        "<tbody>\r\n",
        "<tr>\r\n",
        "<td>PG0051-C</td>\r\n",
        "<td>3D7</td>\r\n",
        "<td>76 bp p/e</td>\r\n",
        "<td>Sanger</td>\r\n",
        "<td>Cultured</td>\r\n",
        "<td style='text-align: right'>1</td>\r\n",
        "<td style='text-align: right'>0</td>\r\n",
        "<td>Single</td>\r\n",
        "<td>Reference assembly strain. This version from 3D7xHB3 cross</td>\r\n",
        "<td>PFproj2</td>\r\n",
        "<td>None</td>\r\n",
        "<td>None</td>\r\n",
        "<td style='text-align: right'>1</td>\r\n",
        "<td style='text-align: right'>122.0</td>\r\n",
        "<td>None</td>\r\n",
        "<td>None</td>\r\n",
        "<td>None</td>\r\n",
        "</tr>\r\n",
        "<tr>\r\n",
        "<td>PG0052-C</td>\r\n",
        "<td>HB3</td>\r\n",
        "<td>76 bp p/e</td>\r\n",
        "<td>Sanger</td>\r\n",
        "<td>Cultured</td>\r\n",
        "<td style='text-align: right'>1</td>\r\n",
        "<td style='text-align: right'>0</td>\r\n",
        "<td>Single</td>\r\n",
        "<td>This version from 3D7xHB3 cross</td>\r\n",
        "<td>PFproj2</td>\r\n",
        "<td>None</td>\r\n",
        "<td>None</td>\r\n",
        "<td style='text-align: right'>1</td>\r\n",
        "<td style='text-align: right'>100.0</td>\r\n",
        "<td>None</td>\r\n",
        "<td>None</td>\r\n",
        "<td>None</td>\r\n",
        "</tr>\r\n",
        "</tbody>\r\n",
        "</table>\r\n"
       ],
       "metadata": {},
       "output_type": "pyout",
       "prompt_number": 72,
       "text": [
        "+-------------+------------+---------------+-----------------+----------------------------+------------------+-------------------+------------------+--------------------------------------------------------------+-----------+--------------+-------------------+---------------------+-------------------+---------------------------------+------------------------+----------------------------------+\n",
        "| '0|ox_code' | '1|Sample' | '2|Read Type' | '3|Data Source' | '4|Cultured/Field Isolate' | '5|Cross Parent' | '6|Cross Progeny' | '7|Single/Mixed' | '8|Other Notes'                                              | '9|study' | '10|country' | '11|samplingSite' | '12|In LRS project' | '13|meanCoverage' | '14|Proportion of genome at 5x' | '15|insertSizeAverage' | '16|insertSizeStandardDeviation' |\n",
        "+=============+============+===============+=================+============================+==================+===================+==================+==============================================================+===========+==============+===================+=====================+===================+=================================+========================+==================================+\n",
        "| 'PG0051-C'  | '3D7'      | '76 bp p/e'   | 'Sanger'        | 'Cultured'                 |                1 |                 0 | 'Single'         | 'Reference assembly strain. This version from 3D7xHB3 cross' | 'PFproj2' | None         | None              |                   1 |             122.0 | None                            | None                   | None                             |\n",
        "+-------------+------------+---------------+-----------------+----------------------------+------------------+-------------------+------------------+--------------------------------------------------------------+-----------+--------------+-------------------+---------------------+-------------------+---------------------------------+------------------------+----------------------------------+\n",
        "| 'PG0052-C'  | 'HB3'      | '76 bp p/e'   | 'Sanger'        | 'Cultured'                 |                1 |                 0 | 'Single'         | 'This version from 3D7xHB3 cross'                            | 'PFproj2' | None         | None              |                   1 |             100.0 | None                            | None                   | None                             |\n",
        "+-------------+------------+---------------+-----------------+----------------------------+------------------+-------------------+------------------+--------------------------------------------------------------+-----------+--------------+-------------------+---------------------+-------------------+---------------------------------+------------------------+----------------------------------+"
       ]
      }
     ],
     "prompt_number": 72
    },
    {
     "cell_type": "code",
     "collapsed": false,
     "input": [
      "tables_crosses_extended['7g8_gb4']"
     ],
     "language": "python",
     "metadata": {},
     "outputs": [
      {
       "html": [
        "<table class='petl'>\r\n",
        "<thead>\r\n",
        "<tr>\r\n",
        "<th>0|ox_code</th>\r\n",
        "<th>1|Sample</th>\r\n",
        "<th>2|Read Type</th>\r\n",
        "<th>3|Data Source</th>\r\n",
        "<th>4|Cultured/Field Isolate</th>\r\n",
        "<th>5|Cross Parent</th>\r\n",
        "<th>6|Cross Progeny</th>\r\n",
        "<th>7|Single/Mixed</th>\r\n",
        "<th>8|Other Notes</th>\r\n",
        "<th>9|study</th>\r\n",
        "<th>10|country</th>\r\n",
        "<th>11|samplingSite</th>\r\n",
        "<th>12|In LRS project</th>\r\n",
        "<th>13|meanCoverage</th>\r\n",
        "<th>14|Proportion of genome at 5x</th>\r\n",
        "<th>15|insertSizeAverage</th>\r\n",
        "<th>16|insertSizeStandardDeviation</th>\r\n",
        "</tr>\r\n",
        "</thead>\r\n",
        "<tbody>\r\n",
        "<tr>\r\n",
        "<td>PG0077-CW</td>\r\n",
        "<td>JC3</td>\r\n",
        "<td>75 bp p/e</td>\r\n",
        "<td>Sanger</td>\r\n",
        "<td>Cultured</td>\r\n",
        "<td style='text-align: right'>0</td>\r\n",
        "<td style='text-align: right'>1</td>\r\n",
        "<td>Single</td>\r\n",
        "<td>None</td>\r\n",
        "<td>PFproj3</td>\r\n",
        "<td>None</td>\r\n",
        "<td>None</td>\r\n",
        "<td style='text-align: right'>0</td>\r\n",
        "<td style='text-align: right'>94.0</td>\r\n",
        "<td>None</td>\r\n",
        "<td>None</td>\r\n",
        "<td>None</td>\r\n",
        "</tr>\r\n",
        "<tr>\r\n",
        "<td>PG0078-C</td>\r\n",
        "<td>QF5</td>\r\n",
        "<td>76 bp p/e</td>\r\n",
        "<td>Sanger</td>\r\n",
        "<td>Cultured</td>\r\n",
        "<td style='text-align: right'>0</td>\r\n",
        "<td style='text-align: right'>1</td>\r\n",
        "<td>Single</td>\r\n",
        "<td>None</td>\r\n",
        "<td>PFproj3</td>\r\n",
        "<td>None</td>\r\n",
        "<td>None</td>\r\n",
        "<td style='text-align: right'>0</td>\r\n",
        "<td style='text-align: right'>147.0</td>\r\n",
        "<td>None</td>\r\n",
        "<td>None</td>\r\n",
        "<td>None</td>\r\n",
        "</tr>\r\n",
        "<tr>\r\n",
        "<td>PG0078-CW</td>\r\n",
        "<td>QF5</td>\r\n",
        "<td>75 bp p/e</td>\r\n",
        "<td>Sanger</td>\r\n",
        "<td>Cultured</td>\r\n",
        "<td style='text-align: right'>0</td>\r\n",
        "<td style='text-align: right'>1</td>\r\n",
        "<td>Single</td>\r\n",
        "<td>None</td>\r\n",
        "<td>PFproj3</td>\r\n",
        "<td>None</td>\r\n",
        "<td>None</td>\r\n",
        "<td style='text-align: right'>0</td>\r\n",
        "<td style='text-align: right'>82.0</td>\r\n",
        "<td>None</td>\r\n",
        "<td>None</td>\r\n",
        "<td>None</td>\r\n",
        "</tr>\r\n",
        "<tr>\r\n",
        "<td>PG0079-C</td>\r\n",
        "<td>JF6</td>\r\n",
        "<td>76 bp p/e</td>\r\n",
        "<td>Sanger</td>\r\n",
        "<td>Cultured</td>\r\n",
        "<td style='text-align: right'>0</td>\r\n",
        "<td style='text-align: right'>1</td>\r\n",
        "<td>Single</td>\r\n",
        "<td>None</td>\r\n",
        "<td>PFproj3</td>\r\n",
        "<td>None</td>\r\n",
        "<td>None</td>\r\n",
        "<td style='text-align: right'>0</td>\r\n",
        "<td style='text-align: right'>181.0</td>\r\n",
        "<td>None</td>\r\n",
        "<td>None</td>\r\n",
        "<td>None</td>\r\n",
        "</tr>\r\n",
        "<tr>\r\n",
        "<td>PG0079-CW</td>\r\n",
        "<td>JF6</td>\r\n",
        "<td>75 bp p/e</td>\r\n",
        "<td>Sanger</td>\r\n",
        "<td>Cultured</td>\r\n",
        "<td style='text-align: right'>0</td>\r\n",
        "<td style='text-align: right'>1</td>\r\n",
        "<td>Single</td>\r\n",
        "<td>None</td>\r\n",
        "<td>PFproj3</td>\r\n",
        "<td>None</td>\r\n",
        "<td>None</td>\r\n",
        "<td style='text-align: right'>0</td>\r\n",
        "<td style='text-align: right'>94.0</td>\r\n",
        "<td>None</td>\r\n",
        "<td>None</td>\r\n",
        "<td>None</td>\r\n",
        "</tr>\r\n",
        "</tbody>\r\n",
        "</table>\r\n",
        "<p><strong>...</strong></p>"
       ],
       "metadata": {},
       "output_type": "pyout",
       "prompt_number": 73,
       "text": [
        "+-------------+------------+---------------+-----------------+----------------------------+------------------+-------------------+------------------+-----------------+-----------+--------------+-------------------+---------------------+-------------------+---------------------------------+------------------------+----------------------------------+\n",
        "| '0|ox_code' | '1|Sample' | '2|Read Type' | '3|Data Source' | '4|Cultured/Field Isolate' | '5|Cross Parent' | '6|Cross Progeny' | '7|Single/Mixed' | '8|Other Notes' | '9|study' | '10|country' | '11|samplingSite' | '12|In LRS project' | '13|meanCoverage' | '14|Proportion of genome at 5x' | '15|insertSizeAverage' | '16|insertSizeStandardDeviation' |\n",
        "+=============+============+===============+=================+============================+==================+===================+==================+=================+===========+==============+===================+=====================+===================+=================================+========================+==================================+\n",
        "| 'PG0077-CW' | 'JC3'      | '75 bp p/e'   | 'Sanger'        | 'Cultured'                 |                0 |                 1 | 'Single'         | None            | 'PFproj3' | None         | None              |                   0 |              94.0 | None                            | None                   | None                             |\n",
        "+-------------+------------+---------------+-----------------+----------------------------+------------------+-------------------+------------------+-----------------+-----------+--------------+-------------------+---------------------+-------------------+---------------------------------+------------------------+----------------------------------+\n",
        "| 'PG0078-C'  | 'QF5'      | '76 bp p/e'   | 'Sanger'        | 'Cultured'                 |                0 |                 1 | 'Single'         | None            | 'PFproj3' | None         | None              |                   0 |             147.0 | None                            | None                   | None                             |\n",
        "+-------------+------------+---------------+-----------------+----------------------------+------------------+-------------------+------------------+-----------------+-----------+--------------+-------------------+---------------------+-------------------+---------------------------------+------------------------+----------------------------------+\n",
        "| 'PG0078-CW' | 'QF5'      | '75 bp p/e'   | 'Sanger'        | 'Cultured'                 |                0 |                 1 | 'Single'         | None            | 'PFproj3' | None         | None              |                   0 |              82.0 | None                            | None                   | None                             |\n",
        "+-------------+------------+---------------+-----------------+----------------------------+------------------+-------------------+------------------+-----------------+-----------+--------------+-------------------+---------------------+-------------------+---------------------------------+------------------------+----------------------------------+\n",
        "| 'PG0079-C'  | 'JF6'      | '76 bp p/e'   | 'Sanger'        | 'Cultured'                 |                0 |                 1 | 'Single'         | None            | 'PFproj3' | None         | None              |                   0 |             181.0 | None                            | None                   | None                             |\n",
        "+-------------+------------+---------------+-----------------+----------------------------+------------------+-------------------+------------------+-----------------+-----------+--------------+-------------------+---------------------+-------------------+---------------------------------+------------------------+----------------------------------+\n",
        "| 'PG0079-CW' | 'JF6'      | '75 bp p/e'   | 'Sanger'        | 'Cultured'                 |                0 |                 1 | 'Single'         | None            | 'PFproj3' | None         | None              |                   0 |              94.0 | None                            | None                   | None                             |\n",
        "+-------------+------------+---------------+-----------------+----------------------------+------------------+-------------------+------------------+-----------------+-----------+--------------+-------------------+---------------------+-------------------+---------------------------------+------------------------+----------------------------------+"
       ]
      }
     ],
     "prompt_number": 73
    },
    {
     "cell_type": "code",
     "collapsed": false,
     "input": [
      "tables_crosses_extended['7g8_gb4'].select(lambda rec: rec['Sample'] in ['7G8', 'GB4'])"
     ],
     "language": "python",
     "metadata": {},
     "outputs": [
      {
       "html": [
        "<table class='petl'>\r\n",
        "<thead>\r\n",
        "<tr>\r\n",
        "<th>0|ox_code</th>\r\n",
        "<th>1|Sample</th>\r\n",
        "<th>2|Read Type</th>\r\n",
        "<th>3|Data Source</th>\r\n",
        "<th>4|Cultured/Field Isolate</th>\r\n",
        "<th>5|Cross Parent</th>\r\n",
        "<th>6|Cross Progeny</th>\r\n",
        "<th>7|Single/Mixed</th>\r\n",
        "<th>8|Other Notes</th>\r\n",
        "<th>9|study</th>\r\n",
        "<th>10|country</th>\r\n",
        "<th>11|samplingSite</th>\r\n",
        "<th>12|In LRS project</th>\r\n",
        "<th>13|meanCoverage</th>\r\n",
        "<th>14|Proportion of genome at 5x</th>\r\n",
        "<th>15|insertSizeAverage</th>\r\n",
        "<th>16|insertSizeStandardDeviation</th>\r\n",
        "</tr>\r\n",
        "</thead>\r\n",
        "<tbody>\r\n",
        "<tr>\r\n",
        "<td>PG0083-C</td>\r\n",
        "<td>7G8</td>\r\n",
        "<td>76 bp p/e</td>\r\n",
        "<td>Sanger</td>\r\n",
        "<td>Cultured</td>\r\n",
        "<td style='text-align: right'>1</td>\r\n",
        "<td style='text-align: right'>0</td>\r\n",
        "<td>Single</td>\r\n",
        "<td>None</td>\r\n",
        "<td>PFproj3</td>\r\n",
        "<td>None</td>\r\n",
        "<td>None</td>\r\n",
        "<td style='text-align: right'>1</td>\r\n",
        "<td style='text-align: right'>87.0</td>\r\n",
        "<td>None</td>\r\n",
        "<td>None</td>\r\n",
        "<td>None</td>\r\n",
        "</tr>\r\n",
        "<tr>\r\n",
        "<td>PG0084-C</td>\r\n",
        "<td>GB4</td>\r\n",
        "<td>76 bp p/e</td>\r\n",
        "<td>Sanger</td>\r\n",
        "<td>Cultured</td>\r\n",
        "<td style='text-align: right'>1</td>\r\n",
        "<td style='text-align: right'>0</td>\r\n",
        "<td>Single</td>\r\n",
        "<td>None</td>\r\n",
        "<td>PFproj3</td>\r\n",
        "<td>None</td>\r\n",
        "<td>None</td>\r\n",
        "<td style='text-align: right'>1</td>\r\n",
        "<td style='text-align: right'>104.0</td>\r\n",
        "<td>None</td>\r\n",
        "<td>None</td>\r\n",
        "<td>None</td>\r\n",
        "</tr>\r\n",
        "</tbody>\r\n",
        "</table>\r\n"
       ],
       "metadata": {},
       "output_type": "pyout",
       "prompt_number": 74,
       "text": [
        "+-------------+------------+---------------+-----------------+----------------------------+------------------+-------------------+------------------+-----------------+-----------+--------------+-------------------+---------------------+-------------------+---------------------------------+------------------------+----------------------------------+\n",
        "| '0|ox_code' | '1|Sample' | '2|Read Type' | '3|Data Source' | '4|Cultured/Field Isolate' | '5|Cross Parent' | '6|Cross Progeny' | '7|Single/Mixed' | '8|Other Notes' | '9|study' | '10|country' | '11|samplingSite' | '12|In LRS project' | '13|meanCoverage' | '14|Proportion of genome at 5x' | '15|insertSizeAverage' | '16|insertSizeStandardDeviation' |\n",
        "+=============+============+===============+=================+============================+==================+===================+==================+=================+===========+==============+===================+=====================+===================+=================================+========================+==================================+\n",
        "| 'PG0083-C'  | '7G8'      | '76 bp p/e'   | 'Sanger'        | 'Cultured'                 |                1 |                 0 | 'Single'         | None            | 'PFproj3' | None         | None              |                   1 |              87.0 | None                            | None                   | None                             |\n",
        "+-------------+------------+---------------+-----------------+----------------------------+------------------+-------------------+------------------+-----------------+-----------+--------------+-------------------+---------------------+-------------------+---------------------------------+------------------------+----------------------------------+\n",
        "| 'PG0084-C'  | 'GB4'      | '76 bp p/e'   | 'Sanger'        | 'Cultured'                 |                1 |                 0 | 'Single'         | None            | 'PFproj3' | None         | None              |                   1 |             104.0 | None                            | None                   | None                             |\n",
        "+-------------+------------+---------------+-----------------+----------------------------+------------------+-------------------+------------------+-----------------+-----------+--------------+-------------------+---------------------+-------------------+---------------------------------+------------------------+----------------------------------+"
       ]
      }
     ],
     "prompt_number": 74
    },
    {
     "cell_type": "code",
     "collapsed": false,
     "input": [
      "tables_crosses_extended['hb3_dd2'].select(lambda rec: rec['Sample'] in ['HB3', 'DD2'])"
     ],
     "language": "python",
     "metadata": {},
     "outputs": [
      {
       "html": [
        "<table class='petl'>\r\n",
        "<thead>\r\n",
        "<tr>\r\n",
        "<th>0|ox_code</th>\r\n",
        "<th>1|Sample</th>\r\n",
        "<th>2|Read Type</th>\r\n",
        "<th>3|Data Source</th>\r\n",
        "<th>4|Cultured/Field Isolate</th>\r\n",
        "<th>5|Cross Parent</th>\r\n",
        "<th>6|Cross Progeny</th>\r\n",
        "<th>7|Single/Mixed</th>\r\n",
        "<th>8|Other Notes</th>\r\n",
        "<th>9|study</th>\r\n",
        "<th>10|country</th>\r\n",
        "<th>11|samplingSite</th>\r\n",
        "<th>12|In LRS project</th>\r\n",
        "<th>13|meanCoverage</th>\r\n",
        "<th>14|Proportion of genome at 5x</th>\r\n",
        "<th>15|insertSizeAverage</th>\r\n",
        "<th>16|insertSizeStandardDeviation</th>\r\n",
        "</tr>\r\n",
        "</thead>\r\n",
        "<tbody>\r\n",
        "<tr>\r\n",
        "<td>PG0004-CW</td>\r\n",
        "<td>HB3</td>\r\n",
        "<td>76 bp p/e</td>\r\n",
        "<td>Sanger</td>\r\n",
        "<td>Cultured</td>\r\n",
        "<td style='text-align: right'>1</td>\r\n",
        "<td style='text-align: right'>0</td>\r\n",
        "<td>Single</td>\r\n",
        "<td>This version from HB3xDd2 cross</td>\r\n",
        "<td>PFproj1</td>\r\n",
        "<td>None</td>\r\n",
        "<td>None</td>\r\n",
        "<td style='text-align: right'>1</td>\r\n",
        "<td style='text-align: right'>80.0</td>\r\n",
        "<td>None</td>\r\n",
        "<td>None</td>\r\n",
        "<td>None</td>\r\n",
        "</tr>\r\n",
        "<tr>\r\n",
        "<td>PG0008-CW</td>\r\n",
        "<td>DD2</td>\r\n",
        "<td>76 bp p/e</td>\r\n",
        "<td>Sanger</td>\r\n",
        "<td>Cultured</td>\r\n",
        "<td style='text-align: right'>1</td>\r\n",
        "<td style='text-align: right'>0</td>\r\n",
        "<td>Single</td>\r\n",
        "<td>None</td>\r\n",
        "<td>PFproj1</td>\r\n",
        "<td>None</td>\r\n",
        "<td>None</td>\r\n",
        "<td style='text-align: right'>1</td>\r\n",
        "<td style='text-align: right'>122.0</td>\r\n",
        "<td>None</td>\r\n",
        "<td>None</td>\r\n",
        "<td>None</td>\r\n",
        "</tr>\r\n",
        "</tbody>\r\n",
        "</table>\r\n"
       ],
       "metadata": {},
       "output_type": "pyout",
       "prompt_number": 75,
       "text": [
        "+-------------+------------+---------------+-----------------+----------------------------+------------------+-------------------+------------------+-----------------------------------+-----------+--------------+-------------------+---------------------+-------------------+---------------------------------+------------------------+----------------------------------+\n",
        "| '0|ox_code' | '1|Sample' | '2|Read Type' | '3|Data Source' | '4|Cultured/Field Isolate' | '5|Cross Parent' | '6|Cross Progeny' | '7|Single/Mixed' | '8|Other Notes'                   | '9|study' | '10|country' | '11|samplingSite' | '12|In LRS project' | '13|meanCoverage' | '14|Proportion of genome at 5x' | '15|insertSizeAverage' | '16|insertSizeStandardDeviation' |\n",
        "+=============+============+===============+=================+============================+==================+===================+==================+===================================+===========+==============+===================+=====================+===================+=================================+========================+==================================+\n",
        "| 'PG0004-CW' | 'HB3'      | '76 bp p/e'   | 'Sanger'        | 'Cultured'                 |                1 |                 0 | 'Single'         | 'This version from HB3xDd2 cross' | 'PFproj1' | None         | None              |                   1 |              80.0 | None                            | None                   | None                             |\n",
        "+-------------+------------+---------------+-----------------+----------------------------+------------------+-------------------+------------------+-----------------------------------+-----------+--------------+-------------------+---------------------+-------------------+---------------------------------+------------------------+----------------------------------+\n",
        "| 'PG0008-CW' | 'DD2'      | '76 bp p/e'   | 'Sanger'        | 'Cultured'                 |                1 |                 0 | 'Single'         | None                              | 'PFproj1' | None         | None              |                   1 |             122.0 | None                            | None                   | None                             |\n",
        "+-------------+------------+---------------+-----------------+----------------------------+------------------+-------------------+------------------+-----------------------------------+-----------+--------------+-------------------+---------------------+-------------------+---------------------------------+------------------------+----------------------------------+"
       ]
      }
     ],
     "prompt_number": 75
    },
    {
     "cell_type": "code",
     "collapsed": false,
     "input": [
      "for cross in tables_crosses_extended:\n",
      "    print cross, len(tables_crosses_extended[cross]) - 3 # header and 2 parents"
     ],
     "language": "python",
     "metadata": {},
     "outputs": [
      {
       "output_type": "stream",
       "stream": "stdout",
       "text": [
        "3d7_hb3 0\n",
        "7g8_gb4 38\n",
        "hb3_dd2 35\n"
       ]
      }
     ],
     "prompt_number": 76
    },
    {
     "cell_type": "heading",
     "level": 1,
     "metadata": {},
     "source": [
      "Choose other samples (Broad and IT)"
     ]
    },
    {
     "cell_type": "code",
     "collapsed": false,
     "input": [
      "def other_samples_ox_code(rec):\n",
      "    if rec['Sample'] == 'IT':\n",
      "        return 'PG0001-C'\n",
      "    else:\n",
      "        return None"
     ],
     "language": "python",
     "metadata": {},
     "outputs": [],
     "prompt_number": 77
    },
    {
     "cell_type": "code",
     "collapsed": false,
     "input": [
      "def other_samples_study(rec):\n",
      "    if rec['Sample'] == 'IT':\n",
      "        return 'PFlab1'\n",
      "    else:\n",
      "        return None"
     ],
     "language": "python",
     "metadata": {},
     "outputs": [],
     "prompt_number": 78
    },
    {
     "cell_type": "code",
     "collapsed": false,
     "input": [
      "def other_samples_read_type(rec):\n",
      "    if rec['Sample'] == 'IT':\n",
      "        return \"37 & 76 bp p/e\"\n",
      "    else:\n",
      "        return rec['Read Type']"
     ],
     "language": "python",
     "metadata": {},
     "outputs": [],
     "prompt_number": 79
    },
    {
     "cell_type": "code",
     "collapsed": false,
     "input": [
      "table_other_samples = (table_dan_google_docs\n",
      "    .select(lambda rec: rec['Data Source'] == 'Broad' or rec['Sample'] == 'IT')\n",
      "    .addfield('ox_code', lambda rec: other_samples_ox_code(rec))\n",
      "    .addfield('study', lambda rec: other_samples_study(rec))\n",
      "    .convert('Read Type', lambda v, rec: other_samples_read_type(rec))\n",
      "    .addfield('In LRS project', lambda rec: is_cross_parent(rec))\n",
      "    .addfield('country', None)\n",
      "    .addfield('samplingSite', None)\n",
      "    .addfield('meanCoverage', None)\n",
      "    .addfield('Proportion of genome at 5x', None)\n",
      "    .addfield('insertSizeAverage', None)\n",
      "    .addfield('insertSizeStandardDeviation', None)\n",
      "    .cut(required_fields)\n",
      "#     .cut([u'ox_code'] + list(table_dan_google_docs.header()) + [u'study', u'country', u'samplingSite', u'In LRS project'])\n",
      ")"
     ],
     "language": "python",
     "metadata": {},
     "outputs": [],
     "prompt_number": 80
    },
    {
     "cell_type": "code",
     "collapsed": false,
     "input": [
      "table_other_samples"
     ],
     "language": "python",
     "metadata": {},
     "outputs": [
      {
       "html": [
        "<table class='petl'>\r\n",
        "<thead>\r\n",
        "<tr>\r\n",
        "<th>0|ox_code</th>\r\n",
        "<th>1|Sample</th>\r\n",
        "<th>2|Read Type</th>\r\n",
        "<th>3|Data Source</th>\r\n",
        "<th>4|Cultured/Field Isolate</th>\r\n",
        "<th>5|Cross Parent</th>\r\n",
        "<th>6|Cross Progeny</th>\r\n",
        "<th>7|Single/Mixed</th>\r\n",
        "<th>8|Other Notes</th>\r\n",
        "<th>9|study</th>\r\n",
        "<th>10|country</th>\r\n",
        "<th>11|samplingSite</th>\r\n",
        "<th>12|In LRS project</th>\r\n",
        "<th>13|meanCoverage</th>\r\n",
        "<th>14|Proportion of genome at 5x</th>\r\n",
        "<th>15|insertSizeAverage</th>\r\n",
        "<th>16|insertSizeStandardDeviation</th>\r\n",
        "</tr>\r\n",
        "</thead>\r\n",
        "<tbody>\r\n",
        "<tr>\r\n",
        "<td>None</td>\r\n",
        "<td>3D7</td>\r\n",
        "<td>250 bp p/e</td>\r\n",
        "<td>Broad</td>\r\n",
        "<td>Cultured</td>\r\n",
        "<td style='text-align: right'>1.0</td>\r\n",
        "<td style='text-align: right'>0.0</td>\r\n",
        "<td>Single</td>\r\n",
        "<td>Evaluation of DISCOVAR</td>\r\n",
        "<td>None</td>\r\n",
        "<td>None</td>\r\n",
        "<td>None</td>\r\n",
        "<td style='text-align: right'>1</td>\r\n",
        "<td>None</td>\r\n",
        "<td>None</td>\r\n",
        "<td>None</td>\r\n",
        "<td>None</td>\r\n",
        "</tr>\r\n",
        "<tr>\r\n",
        "<td>PG0001-C</td>\r\n",
        "<td>IT</td>\r\n",
        "<td>37 & 76 bp p/e</td>\r\n",
        "<td>Sanger</td>\r\n",
        "<td>Cultured</td>\r\n",
        "<td style='text-align: right'>0.0</td>\r\n",
        "<td style='text-align: right'>0.0</td>\r\n",
        "<td>Single</td>\r\n",
        "<td>Reference assembly strain</td>\r\n",
        "<td>PFlab1</td>\r\n",
        "<td>None</td>\r\n",
        "<td>None</td>\r\n",
        "<td style='text-align: right'>0</td>\r\n",
        "<td>None</td>\r\n",
        "<td>None</td>\r\n",
        "<td>None</td>\r\n",
        "<td>None</td>\r\n",
        "</tr>\r\n",
        "</tbody>\r\n",
        "</table>\r\n"
       ],
       "metadata": {},
       "output_type": "pyout",
       "prompt_number": 81,
       "text": [
        "+-------------+-------------+------------------+------------------+-----------------------------+-------------------+--------------------+-------------------+------------------------------+-----------+--------------+-------------------+---------------------+-------------------+---------------------------------+------------------------+----------------------------------+\n",
        "| '0|ox_code' | u'1|Sample' | u'2|Read Type'   | u'3|Data Source' | u'4|Cultured/Field Isolate' | u'5|Cross Parent' | u'6|Cross Progeny' | u'7|Single/Mixed' | u'8|Other Notes'             | '9|study' | '10|country' | '11|samplingSite' | '12|In LRS project' | '13|meanCoverage' | '14|Proportion of genome at 5x' | '15|insertSizeAverage' | '16|insertSizeStandardDeviation' |\n",
        "+=============+=============+==================+==================+=============================+===================+====================+===================+==============================+===========+==============+===================+=====================+===================+=================================+========================+==================================+\n",
        "| None        | u'3D7'      | u'250 bp p/e'    | u'Broad'         | u'Cultured'                 |               1.0 |                0.0 | u'Single'         | u'Evaluation of DISCOVAR'    | None      | None         | None              |                   1 | None              | None                            | None                   | None                             |\n",
        "+-------------+-------------+------------------+------------------+-----------------------------+-------------------+--------------------+-------------------+------------------------------+-----------+--------------+-------------------+---------------------+-------------------+---------------------------------+------------------------+----------------------------------+\n",
        "| 'PG0001-C'  | u'IT'       | '37 & 76 bp p/e' | u'Sanger'        | u'Cultured'                 |               0.0 |                0.0 | u'Single'         | u'Reference assembly strain' | 'PFlab1'  | None         | None              |                   0 | None              | None                            | None                   | None                             |\n",
        "+-------------+-------------+------------------+------------------+-----------------------------+-------------------+--------------------+-------------------+------------------------------+-----------+--------------+-------------------+---------------------+-------------------+---------------------------------+------------------------+----------------------------------+"
       ]
      }
     ],
     "prompt_number": 81
    },
    {
     "cell_type": "heading",
     "level": 1,
     "metadata": {},
     "source": [
      "Combine all samples"
     ]
    },
    {
     "cell_type": "code",
     "collapsed": false,
     "input": [
      "table_techbm_sample_manifest = (table_selected_clinical_samples\n",
      "#     .cat(table_KH_LRS_samples)\n",
      "    .cat(tables_crosses_extended['3d7_hb3'])\n",
      "    .cat(tables_crosses_extended['7g8_gb4'])\n",
      "    .cat(tables_crosses_extended['hb3_dd2'])\n",
      "    .cat(table_other_samples)\n",
      "    .sort('ox_code')\n",
      "    .convert('Cross Parent', int)\n",
      "    .convert('Cross Progeny', int)\n",
      ")"
     ],
     "language": "python",
     "metadata": {},
     "outputs": [],
     "prompt_number": 82
    },
    {
     "cell_type": "code",
     "collapsed": false,
     "input": [
      "table_techbm_sample_manifest"
     ],
     "language": "python",
     "metadata": {},
     "outputs": [
      {
       "html": [
        "<table class='petl'>\r\n",
        "<thead>\r\n",
        "<tr>\r\n",
        "<th>0|ox_code</th>\r\n",
        "<th>1|Sample</th>\r\n",
        "<th>2|Read Type</th>\r\n",
        "<th>3|Data Source</th>\r\n",
        "<th>4|Cultured/Field Isolate</th>\r\n",
        "<th>5|Cross Parent</th>\r\n",
        "<th>6|Cross Progeny</th>\r\n",
        "<th>7|Single/Mixed</th>\r\n",
        "<th>8|Other Notes</th>\r\n",
        "<th>9|study</th>\r\n",
        "<th>10|country</th>\r\n",
        "<th>11|samplingSite</th>\r\n",
        "<th>12|In LRS project</th>\r\n",
        "<th>13|meanCoverage</th>\r\n",
        "<th>14|Proportion of genome at 5x</th>\r\n",
        "<th>15|insertSizeAverage</th>\r\n",
        "<th>16|insertSizeStandardDeviation</th>\r\n",
        "</tr>\r\n",
        "</thead>\r\n",
        "<tbody>\r\n",
        "<tr>\r\n",
        "<td>None</td>\r\n",
        "<td>3D7</td>\r\n",
        "<td>250 bp p/e</td>\r\n",
        "<td>Broad</td>\r\n",
        "<td>Cultured</td>\r\n",
        "<td style='text-align: right'>1</td>\r\n",
        "<td style='text-align: right'>0</td>\r\n",
        "<td>Single</td>\r\n",
        "<td>Evaluation of DISCOVAR</td>\r\n",
        "<td>None</td>\r\n",
        "<td>None</td>\r\n",
        "<td>None</td>\r\n",
        "<td style='text-align: right'>1</td>\r\n",
        "<td>None</td>\r\n",
        "<td>None</td>\r\n",
        "<td>None</td>\r\n",
        "<td>None</td>\r\n",
        "</tr>\r\n",
        "<tr>\r\n",
        "<td>PA0012-C</td>\r\n",
        "<td>PA0012</td>\r\n",
        "<td>76 bp p/e</td>\r\n",
        "<td>Sanger</td>\r\n",
        "<td>Field Isolate</td>\r\n",
        "<td style='text-align: right'>0</td>\r\n",
        "<td style='text-align: right'>0</td>\r\n",
        "<td>Single</td>\r\n",
        "<td>None</td>\r\n",
        "<td style='text-align: right'>1006</td>\r\n",
        "<td>The Gambia</td>\r\n",
        "<td>GM_Coastal</td>\r\n",
        "<td style='text-align: right'>0</td>\r\n",
        "<td style='text-align: right'>95.02</td>\r\n",
        "<td style='text-align: right'>0.961335767614</td>\r\n",
        "<td style='text-align: right'>251.9</td>\r\n",
        "<td style='text-align: right'>84.1</td>\r\n",
        "</tr>\r\n",
        "<tr>\r\n",
        "<td>PA0015-C</td>\r\n",
        "<td>PA0015</td>\r\n",
        "<td>76 bp p/e</td>\r\n",
        "<td>Sanger</td>\r\n",
        "<td>Field Isolate</td>\r\n",
        "<td style='text-align: right'>0</td>\r\n",
        "<td style='text-align: right'>0</td>\r\n",
        "<td>Single</td>\r\n",
        "<td>None</td>\r\n",
        "<td style='text-align: right'>1006</td>\r\n",
        "<td>The Gambia</td>\r\n",
        "<td>GM_Coastal</td>\r\n",
        "<td style='text-align: right'>0</td>\r\n",
        "<td style='text-align: right'>169.55</td>\r\n",
        "<td style='text-align: right'>0.980031698682</td>\r\n",
        "<td style='text-align: right'>255.1</td>\r\n",
        "<td style='text-align: right'>47.2</td>\r\n",
        "</tr>\r\n",
        "<tr>\r\n",
        "<td>PA0022-C</td>\r\n",
        "<td>PA0022</td>\r\n",
        "<td>76 bp p/e</td>\r\n",
        "<td>Sanger</td>\r\n",
        "<td>Field Isolate</td>\r\n",
        "<td style='text-align: right'>0</td>\r\n",
        "<td style='text-align: right'>0</td>\r\n",
        "<td>Single</td>\r\n",
        "<td>None</td>\r\n",
        "<td style='text-align: right'>1006</td>\r\n",
        "<td>The Gambia</td>\r\n",
        "<td>GM_Coastal</td>\r\n",
        "<td style='text-align: right'>0</td>\r\n",
        "<td style='text-align: right'>73.98</td>\r\n",
        "<td style='text-align: right'>0.90425233869</td>\r\n",
        "<td style='text-align: right'>340.2</td>\r\n",
        "<td style='text-align: right'>57.5</td>\r\n",
        "</tr>\r\n",
        "<tr>\r\n",
        "<td>PA0034-C</td>\r\n",
        "<td>PA0034</td>\r\n",
        "<td>76 bp p/e</td>\r\n",
        "<td>Sanger</td>\r\n",
        "<td>Field Isolate</td>\r\n",
        "<td style='text-align: right'>0</td>\r\n",
        "<td style='text-align: right'>0</td>\r\n",
        "<td>Single</td>\r\n",
        "<td>None</td>\r\n",
        "<td style='text-align: right'>1006</td>\r\n",
        "<td>The Gambia</td>\r\n",
        "<td>GM_Coastal</td>\r\n",
        "<td style='text-align: right'>0</td>\r\n",
        "<td style='text-align: right'>81.03</td>\r\n",
        "<td style='text-align: right'>0.962065254748</td>\r\n",
        "<td style='text-align: right'>231.0</td>\r\n",
        "<td style='text-align: right'>78.2</td>\r\n",
        "</tr>\r\n",
        "</tbody>\r\n",
        "</table>\r\n",
        "<p><strong>...</strong></p>"
       ],
       "metadata": {},
       "output_type": "pyout",
       "prompt_number": 83,
       "text": [
        "+-------------+------------+---------------+-----------------+----------------------------+------------------+-------------------+------------------+---------------------------+-----------+--------------+-------------------+---------------------+-------------------+---------------------------------+------------------------+----------------------------------+\n",
        "| '0|ox_code' | '1|Sample' | '2|Read Type' | '3|Data Source' | '4|Cultured/Field Isolate' | '5|Cross Parent' | '6|Cross Progeny' | '7|Single/Mixed' | '8|Other Notes'           | '9|study' | '10|country' | '11|samplingSite' | '12|In LRS project' | '13|meanCoverage' | '14|Proportion of genome at 5x' | '15|insertSizeAverage' | '16|insertSizeStandardDeviation' |\n",
        "+=============+============+===============+=================+============================+==================+===================+==================+===========================+===========+==============+===================+=====================+===================+=================================+========================+==================================+\n",
        "| None        | u'3D7'     | u'250 bp p/e' | u'Broad'        | u'Cultured'                |                1 |                 0 | u'Single'        | u'Evaluation of DISCOVAR' | None      | None         | None              |                   1 | None              | None                            | None                   | None                             |\n",
        "+-------------+------------+---------------+-----------------+----------------------------+------------------+-------------------+------------------+---------------------------+-----------+--------------+-------------------+---------------------+-------------------+---------------------------------+------------------------+----------------------------------+\n",
        "| 'PA0012-C'  | 'PA0012'   | '76 bp p/e'   | 'Sanger'        | 'Field Isolate'            |                0 |                 0 | 'Single'         | None                      |      1006 | 'The Gambia' | 'GM_Coastal'      |                   0 |             95.02 |              0.9613357676143114 |                  251.9 |                             84.1 |\n",
        "+-------------+------------+---------------+-----------------+----------------------------+------------------+-------------------+------------------+---------------------------+-----------+--------------+-------------------+---------------------+-------------------+---------------------------------+------------------------+----------------------------------+\n",
        "| 'PA0015-C'  | 'PA0015'   | '76 bp p/e'   | 'Sanger'        | 'Field Isolate'            |                0 |                 0 | 'Single'         | None                      |      1006 | 'The Gambia' | 'GM_Coastal'      |                   0 |            169.55 |              0.9800316986824273 |                  255.1 |                             47.2 |\n",
        "+-------------+------------+---------------+-----------------+----------------------------+------------------+-------------------+------------------+---------------------------+-----------+--------------+-------------------+---------------------+-------------------+---------------------------------+------------------------+----------------------------------+\n",
        "| 'PA0022-C'  | 'PA0022'   | '76 bp p/e'   | 'Sanger'        | 'Field Isolate'            |                0 |                 0 | 'Single'         | None                      |      1006 | 'The Gambia' | 'GM_Coastal'      |                   0 |             73.98 |              0.9042523386896344 |                  340.2 |                             57.5 |\n",
        "+-------------+------------+---------------+-----------------+----------------------------+------------------+-------------------+------------------+---------------------------+-----------+--------------+-------------------+---------------------+-------------------+---------------------------------+------------------------+----------------------------------+\n",
        "| 'PA0034-C'  | 'PA0034'   | '76 bp p/e'   | 'Sanger'        | 'Field Isolate'            |                0 |                 0 | 'Single'         | None                      |      1006 | 'The Gambia' | 'GM_Coastal'      |                   0 |             81.03 |              0.9620652547476987 |                  231.0 |                             78.2 |\n",
        "+-------------+------------+---------------+-----------------+----------------------------+------------------+-------------------+------------------+---------------------------+-----------+--------------+-------------------+---------------------+-------------------+---------------------------------+------------------------+----------------------------------+"
       ]
      }
     ],
     "prompt_number": 83
    },
    {
     "cell_type": "code",
     "collapsed": false,
     "input": [
      "len(table_techbm_sample_manifest)"
     ],
     "language": "python",
     "metadata": {},
     "outputs": [
      {
       "metadata": {},
       "output_type": "pyout",
       "prompt_number": 84,
       "text": [
        "182"
       ]
      }
     ],
     "prompt_number": 84
    },
    {
     "cell_type": "code",
     "collapsed": false,
     "input": [
      "tabulate(table_techbm_sample_manifest['study'])"
     ],
     "language": "python",
     "metadata": {},
     "outputs": [
      {
       "metadata": {},
       "output_type": "pyout",
       "prompt_number": 85,
       "text": [
        "{None: 1,\n",
        " 1006: 11,\n",
        " 1017: 11,\n",
        " 1026: 11,\n",
        " 1044: 2,\n",
        " 1052: 65,\n",
        " 'PFlab1': 1,\n",
        " 'PFproj1': 37,\n",
        " 'PFproj2': 2,\n",
        " 'PFproj3': 40}"
       ]
      }
     ],
     "prompt_number": 85
    },
    {
     "cell_type": "heading",
     "level": 1,
     "metadata": {},
     "source": [
      "Check duplicates"
     ]
    },
    {
     "cell_type": "code",
     "collapsed": false,
     "input": [
      "petlx.xlsx.toxlsx(petl.duplicates(table_techbm_sample_manifest, 'Sample'), sample_manifest_fn.replace('.txt', '_duplicates.xlsx'))"
     ],
     "language": "python",
     "metadata": {},
     "outputs": [],
     "prompt_number": 86
    },
    {
     "cell_type": "heading",
     "level": 1,
     "metadata": {},
     "source": [
      "Write out sample manifest"
     ]
    },
    {
     "cell_type": "code",
     "collapsed": false,
     "input": [],
     "language": "python",
     "metadata": {},
     "outputs": [],
     "prompt_number": 86
    },
    {
     "cell_type": "code",
     "collapsed": false,
     "input": [
      "petl.totsv(table_techbm_sample_manifest, sample_manifest_fn)"
     ],
     "language": "python",
     "metadata": {},
     "outputs": [],
     "prompt_number": 87
    },
    {
     "cell_type": "code",
     "collapsed": false,
     "input": [
      "petlx.xlsx.toxlsx(table_techbm_sample_manifest, sample_manifest_fn.replace('.txt', '.xlsx'))"
     ],
     "language": "python",
     "metadata": {},
     "outputs": [],
     "prompt_number": 88
    },
    {
     "cell_type": "code",
     "collapsed": false,
     "input": [],
     "language": "python",
     "metadata": {},
     "outputs": []
    }
   ],
   "metadata": {}
  }
 ]
}