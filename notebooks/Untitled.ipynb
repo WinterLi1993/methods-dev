{
 "cells": [
  {
   "cell_type": "code",
   "execution_count": 2,
   "metadata": {
    "collapsed": false
   },
   "outputs": [
    {
     "name": "stdout",
     "output_type": "stream",
     "text": [
      "seq ATATAATTCAGGGTTTAGGGTTTA is 24 bases long\n",
      "reverse complement is TAAACCCTAAACCCTGAATTATAT\n"
     ]
    }
   ],
   "source": [
    "from Bio.Seq import Seq\n",
    " \n",
    "#create a sequence object\n",
    "my_seq = Seq('ATATAATTCAGGGTTTAGGGTTTA')\n",
    " \n",
    "#print out some details about it\n",
    "print('seq %s is %i bases long' % (my_seq, len(my_seq)))\n",
    "print('reverse complement is %s' % my_seq.reverse_complement())\n"
   ]
  },
  {
   "cell_type": "code",
   "execution_count": null,
   "metadata": {
    "collapsed": true
   },
   "outputs": [],
   "source": []
  }
 ],
 "metadata": {
  "kernelspec": {
   "display_name": "Python 3",
   "language": "python",
   "name": "python3"
  },
  "language_info": {
   "codemirror_mode": {
    "name": "ipython",
    "version": 3
   },
   "file_extension": ".py",
   "mimetype": "text/x-python",
   "name": "python",
   "nbconvert_exporter": "python",
   "pygments_lexer": "ipython3",
   "version": "3.4.3"
  }
 },
 "nbformat": 4,
 "nbformat_minor": 0
}
