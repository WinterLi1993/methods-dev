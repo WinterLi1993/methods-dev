{
 "metadata": {
  "name": "",
  "signature": "sha256:487f36c6af7928a3ed7052ae7137e877acdaa92cc2630bcedf69c41d9d701e29"
 },
 "nbformat": 3,
 "nbformat_minor": 0,
 "worksheets": [
  {
   "cells": [
    {
     "cell_type": "markdown",
     "metadata": {},
     "source": [
      "<div class='suptitle'>\n",
      "Standard imports for all notebooks\n",
      "</div>\n",
      "\n",
      "Use this in other notebooks, e.g.:\n",
      "\n",
      "```\n",
      "%run standard_imports.ipynb\n",
      "```\n"
     ]
    },
    {
     "cell_type": "code",
     "collapsed": false,
     "input": [
      "# standard libraries\n",
      "from __future__ import division\n",
      "import sys\n",
      "import os\n",
      "import operator\n",
      "import itertools\n",
      "import collections\n",
      "import functools\n",
      "import glob\n",
      "import csv\n",
      "import datetime\n",
      "import bisect\n",
      "import sqlite3\n",
      "import subprocess\n",
      "import traceback\n",
      "import random\n",
      "import gc\n",
      "\n",
      "# third party libraries\n",
      "# N.B., don't import matplotlib because notebooks and scripts may want to import it in different ways (e.g., if using different backends)\n",
      "import numpy as np\n",
      "import scipy\n",
      "import scipy.stats as stats\n",
      "import pandas\n",
      "import numexpr\n",
      "import sklearn\n",
      "import sklearn.decomposition\n",
      "import sklearn.manifold\n",
      "import MySQLdb\n",
      "import pyfasta\n",
      "import pysam\n",
      "import pysamstats\n",
      "import petl\n",
      "import petl.interactive as etl\n",
      "etl.repr_index_header = True\n",
      "import petl.io\n",
      "import petlx\n",
      "import petlx.array\n",
      "import petlx.dataframe\n",
      "import petlx.vcf\n",
      "import petlx.interval\n",
      "import petlx.gff3\n",
      "import petlx.xlsx\n",
      "import petlx.ipython\n",
      "import petlx.tabix\n",
      "import vcf\n",
      "import vcfnp\n",
      "import h5py\n",
      "import tables\n",
      "import vcfplt\n",
      "import sh"
     ],
     "language": "python",
     "metadata": {},
     "outputs": [
      {
       "output_type": "stream",
       "stream": "stdout",
       "text": [
        "Bioconductor version 2.13 (BiocInstaller 1.12.1), ?biocLite for help\n",
        "A newer version of Bioconductor is available for this version of R,\n",
        "  ?BiocUpgrade for help\n"
       ]
      },
      {
       "output_type": "stream",
       "stream": "stderr",
       "text": [
        "/home/rpearson/pyenv/science/local/lib/python2.7/site-packages/pandas/io/excel.py:626: UserWarning: Installed openpyxl is not supported at this time. Use >=1.6.1 and <2.0.0.\n",
        "  .format(openpyxl_compat.start_ver, openpyxl_compat.stop_ver))\n"
       ]
      }
     ],
     "prompt_number": 1
    },
    {
     "cell_type": "code",
     "collapsed": false,
     "input": [
      "def print_library_versions():\n",
      "    print 'numpy', np.__version__\n",
      "    print 'scipy', scipy.__version__\n",
      "    print 'pandas', pandas.__version__\n",
      "    print 'numexpr', numexpr.__version__\n",
      "    print 'pysam', pysam.__version__\n",
      "    print 'pysamstats', pysamstats.__version__\n",
      "    print 'petl', petl.__version__\n",
      "    etl.repr_index_header = True\n",
      "    print 'petlx', petlx.__version__\n",
      "    print 'vcf', vcf.VERSION\n",
      "    print 'vcfnp', vcfnp.__version__\n",
      "    print 'h5py', h5py.__version__\n",
      "    print 'tables', tables.__version__\n",
      "    print 'vcfplt', vcfplt.__version__\n"
     ],
     "language": "python",
     "metadata": {},
     "outputs": [
      {
       "output_type": "stream",
       "stream": "stdout",
       "text": [
        "\n"
       ]
      }
     ],
     "prompt_number": 4
    },
    {
     "cell_type": "code",
     "collapsed": false,
     "input": [
      "print_library_versions()"
     ],
     "language": "python",
     "metadata": {},
     "outputs": [
      {
       "output_type": "stream",
       "stream": "stdout",
       "text": [
        "numpy 1.8.1\n",
        "scipy 0.14.0\n",
        "pandas 0.14.0\n",
        "numexpr 2.4\n",
        "pysam 0.7.8\n",
        "pysamstats 0.15.1\n",
        "petl 0.24.3\n",
        "petlx 0.16.1\n",
        "vcf 0.6.7\n",
        "vcfnp 1.11.5\n",
        "h5py 2.3.1\n",
        "tables 3.1.1\n",
        "vcfplt 0.8\n"
       ]
      }
     ],
     "prompt_number": 5
    },
    {
     "cell_type": "code",
     "collapsed": false,
     "input": [],
     "language": "python",
     "metadata": {},
     "outputs": []
    }
   ],
   "metadata": {}
  }
 ]
}