{
 "metadata": {
  "name": "",
  "signature": "sha256:903fae6951de2efba75c1f4c467d50a414a630cd08400e58c979a112c4526ee9"
 },
 "nbformat": 3,
 "nbformat_minor": 0,
 "worksheets": [
  {
   "cells": [
    {
     "cell_type": "markdown",
     "metadata": {},
     "source": [
      "# Plan\n",
      "- Determine set of samples in both call sets\n",
      "- Create arrays of only these samples in 4.0\n",
      "- Create arrays of only these samples in ppq\n",
      "- Create arrays of all samples in ppq\n",
      "- SNPs variant in 4.0 but not discovered in ppq\n",
      "- SNPs discovered in ppq but not in 4.0\n",
      "- SNPs discovered in ppq and 4.0 but different ALTs?\n",
      "- Comparison of filters between call sets\n",
      "- Find duplicates in each call set\n",
      "- Any matches for non-matching expected duplicates?\n",
      "- Comparison of ADs between callsets for common SNPs/samples\n",
      "- Comparison of GTs between callsets for common SNPs/samples\n",
      "- Redo notebook using anhima and parallel"
     ]
    },
    {
     "cell_type": "heading",
     "level": 1,
     "metadata": {},
     "source": [
      "Setup"
     ]
    },
    {
     "cell_type": "code",
     "collapsed": false,
     "input": [
      "from petlx.xlsx import fromxlsx\n",
      "import petlx.array\n",
      "# from petl.interactive import etl\n",
      "from petlx.interval import intervaljoin\n",
      "from petl import totext, tocsv, fromtsv\n",
      "from scipy import stats\n",
      "from scipy.spatial.distance import pdist, cdist, squareform\n",
      "import vcf\n",
      "import vcfnp\n",
      "import numpy as np\n",
      "import sys\n",
      "import os\n",
      "import gc\n",
      "from collections import OrderedDict\n",
      "from numpy import *\n",
      "# from matplotlib import *\n",
      "# import matplotlib\n",
      "from pylab import *\n",
      "import petl.interactive as etl\n",
      "import scipy\n",
      "from scipy import stats\n"
     ],
     "language": "python",
     "metadata": {},
     "outputs": [],
     "prompt_number": 92
    },
    {
     "cell_type": "code",
     "collapsed": false,
     "input": [
      "%matplotlib inline"
     ],
     "language": "python",
     "metadata": {},
     "outputs": [],
     "prompt_number": 100
    },
    {
     "cell_type": "code",
     "collapsed": false,
     "input": [
      "def tabulate(x):\n",
      "    u, indices = np.unique(x, return_inverse=True)\n",
      "    return dict(zip(u, np.bincount(indices)))"
     ],
     "language": "python",
     "metadata": {},
     "outputs": [],
     "prompt_number": 4
    },
    {
     "cell_type": "code",
     "collapsed": false,
     "input": [
      "PLOT_DIR = '/data/plasmodium/pfalciparum/pf_community/data/ppq/20140821_pf_4_0_vs_ppq'\n",
      "!mkdir -p {PLOT_DIR}"
     ],
     "language": "python",
     "metadata": {},
     "outputs": [],
     "prompt_number": 5
    },
    {
     "cell_type": "code",
     "collapsed": false,
     "input": [
      "# metadata_2_2_fn = '/data/plasmodium/pfalciparum/pf_community/data/3_0/pre_release/meta/metadata2.2.xlsx'\n",
      "ppq_metadata_fn = '/data/plasmodium/pfalciparum/pf_community/data/ppq/ppq_meta.txt'\n",
      "relevant_snps_fn = '/data/plasmodium/pfalciparum/pf_community/data/4_0/meta/relevantSnps.txt'\n",
      "# vcf_fns = OrderedDict([\n",
      "#     ('ppq', '/data/plasmodium/pfalciparum/pf_community/data/ppq/ppq.40.vfp1.newCoverageFilters_pass_25_99.5.vcf.gz'),\n",
      "# #     ('4_0', '/data/mirror/nfs/team112_internal/production_files/Pf/4_0/vcf/pf_4_0_20140712_vfp1.vcf.gz')\n",
      "#     ('4_0', '/data/plasmodium/pfalciparum/pf_community/data/3_0/pre_release/pf_4_0_pass_5_99.5/final_genotypes/snps/pf_4_0_20140712_vfp1.newCoverageFilters_pass_5_99.5.vcf.gz')\n",
      "# ])\n",
      "vcf_fns = OrderedDict([\n",
      "    ('ppq', '/data/plasmodium/pfalciparum/pf_community/data/ppq/ppq.40.vfp1.newCoverageFilters_pass_25_99.5.HyperHet.vcf.gz'),\n",
      "    ('4_0', '/data/plasmodium/pfalciparum/pf_community/data/3_0/pre_release/pf_4_0_pass_5_99.5_hyperhet/pf_4_0_20140712_vfp1.newCoverageFilters_pass_5_99.5.HyperHet.vcf.gz')\n",
      "])\n",
      "common_samples_fn = '/data/plasmodium/pfalciparum/pf_community/data/ppq/meta/common_samples_ppq_4_0.txt'\n",
      "ppq_samples_fn = '/data/plasmodium/pfalciparum/pf_community/data/ppq/meta/ppq_samples.txt'\n",
      "# npy_filestem = '/data/plasmodium/pfalciparum/pf_community/data/ppq/ppq.40.vfp1.vcf.gz'\n"
     ],
     "language": "python",
     "metadata": {},
     "outputs": [],
     "prompt_number": 68
    },
    {
     "cell_type": "markdown",
     "metadata": {},
     "source": [
      "# Determine common samples"
     ]
    },
    {
     "cell_type": "code",
     "collapsed": false,
     "input": [
      "samplesInVcf = OrderedDict()\n",
      "for callset in vcf_fns:\n",
      "    samplesInVcf[callset] = np.array(vcf.Reader(open(vcf_fns[callset], 'rb')).samples)\n",
      "\n",
      "commonSamples = np.intersect1d(samplesInVcf['ppq'], samplesInVcf['4_0'])"
     ],
     "language": "python",
     "metadata": {},
     "outputs": [],
     "prompt_number": 18
    },
    {
     "cell_type": "code",
     "collapsed": false,
     "input": [
      "len(commonSamples)"
     ],
     "language": "python",
     "metadata": {},
     "outputs": [
      {
       "metadata": {},
       "output_type": "pyout",
       "prompt_number": 19,
       "text": [
        "529"
       ]
      }
     ],
     "prompt_number": 19
    },
    {
     "cell_type": "code",
     "collapsed": false,
     "input": [
      "!mkdir -p {os.path.dirname(common_samples_fn)}\n",
      "np.savetxt(common_samples_fn, commonSamples, fmt='%s')\n",
      "np.savetxt(ppq_samples_fn, samplesInVcf['ppq'], fmt='%s')"
     ],
     "language": "python",
     "metadata": {},
     "outputs": [],
     "prompt_number": 69
    },
    {
     "cell_type": "code",
     "collapsed": false,
     "input": [
      "len(samplesInVcf['ppq'])"
     ],
     "language": "python",
     "metadata": {},
     "outputs": [
      {
       "metadata": {},
       "output_type": "pyout",
       "prompt_number": 75,
       "text": [
        "597"
       ]
      }
     ],
     "prompt_number": 75
    },
    {
     "cell_type": "heading",
     "level": 1,
     "metadata": {},
     "source": [
      "Build arrays"
     ]
    },
    {
     "cell_type": "code",
     "collapsed": false,
     "input": [
      "# ./scripts/cluster/setups/setup_build_numpy_arrays_pf_4_0_ppq_common_samples.sh\n",
      "# ./scripts/cluster/setups/setup_build_numpy_arrays_ppq_pf_4_0_common_samples.sh\n"
     ],
     "language": "python",
     "metadata": {},
     "outputs": []
    },
    {
     "cell_type": "code",
     "collapsed": false,
     "input": [
      "def load_arrays(vcf_fn, region):\n",
      "    variants_array_fn = vcf_fn + '.' + region.replace('-:', '_') + '.variants.npy'\n",
      "    calldata_array_fn = vcf_fn + '.' + region.replace('-:', '_') + '.calldata_common_samples.npy'\n",
      "    return np.load(variants_array_fn).view(np.recarray), vcfnp.view2d(np.load(calldata_array_fn))\n"
     ],
     "language": "python",
     "metadata": {},
     "outputs": [],
     "prompt_number": 21
    },
    {
     "cell_type": "code",
     "collapsed": false,
     "input": [
      "def load_variants_arrays(vcf_fn, region):\n",
      "    variants_array_fn = vcf_fn + '.' + region.replace('-:', '_') + '.variants.npy'\n",
      "    return np.load(variants_array_fn).view(np.recarray)\n"
     ],
     "language": "python",
     "metadata": {},
     "outputs": [],
     "prompt_number": 44
    },
    {
     "cell_type": "code",
     "collapsed": false,
     "input": [
      "def load_calldata_arrays(vcf_fn, region):\n",
      "    calldata_array_fn = vcf_fn + '.' + region.replace('-:', '_') + '.calldata_ppq_samples.npy'\n",
      "    return vcfnp.view2d(np.load(calldata_array_fn))\n"
     ],
     "language": "python",
     "metadata": {},
     "outputs": [],
     "prompt_number": 80
    },
    {
     "cell_type": "heading",
     "level": 1,
     "metadata": {},
     "source": [
      "Combine all chromosomes"
     ]
    },
    {
     "cell_type": "code",
     "collapsed": false,
     "input": [
      "V = OrderedDict()\n",
      "C = OrderedDict()\n",
      "\n",
      "for callset in vcf_fns:\n",
      "    V_fn = PLOT_DIR + '/V_%s.npy' % callset\n",
      "    C_fn = PLOT_DIR + '/C_%s.npy' % callset\n",
      "\n",
      "    if not os.path.exists(V_fn) or not os.path.exists(C_fn):\n",
      "#     if True:\n",
      "        Vl=range(14)\n",
      "        Cl=range(14)\n",
      "        chromosomes = ['Pf3D7_%02d_v3' % i for i in range(1, 15)]\n",
      "        for i, chromosome in enumerate(chromosomes):\n",
      "            print callset, i, chromosome\n",
      "            Vl[i], Cl[i] = load_arrays(vcf_fns[callset], region=chromosome)\n",
      "        V[callset] = np.concatenate(Vl)\n",
      "        del Vl\n",
      "        gc.collect()\n",
      "        C[callset] = np.concatenate(Cl)\n",
      "        del Cl\n",
      "        gc.collect()\n",
      "        np.save(V_fn, V[callset])\n",
      "        np.save(C_fn, C[callset])\n",
      "    else:\n",
      "        V[callset] = np.load(V_fn)\n",
      "        C[callset] = np.load(C_fn)\n",
      "    \n",
      "\n"
     ],
     "language": "python",
     "metadata": {},
     "outputs": [
      {
       "output_type": "stream",
       "stream": "stdout",
       "text": [
        "ppq 0 Pf3D7_01_v3\n",
        "ppq"
       ]
      },
      {
       "output_type": "stream",
       "stream": "stdout",
       "text": [
        " 1 Pf3D7_02_v3\n",
        "ppq"
       ]
      },
      {
       "output_type": "stream",
       "stream": "stdout",
       "text": [
        " 2 Pf3D7_03_v3\n",
        "ppq"
       ]
      },
      {
       "output_type": "stream",
       "stream": "stdout",
       "text": [
        " 3 Pf3D7_04_v3\n",
        "ppq"
       ]
      },
      {
       "output_type": "stream",
       "stream": "stdout",
       "text": [
        " 4 Pf3D7_05_v3\n",
        "ppq"
       ]
      },
      {
       "output_type": "stream",
       "stream": "stdout",
       "text": [
        " 5 Pf3D7_06_v3\n",
        "ppq"
       ]
      },
      {
       "output_type": "stream",
       "stream": "stdout",
       "text": [
        " 6 Pf3D7_07_v3\n",
        "ppq"
       ]
      },
      {
       "output_type": "stream",
       "stream": "stdout",
       "text": [
        " 7 Pf3D7_08_v3\n",
        "ppq"
       ]
      },
      {
       "output_type": "stream",
       "stream": "stdout",
       "text": [
        " 8 Pf3D7_09_v3\n",
        "ppq"
       ]
      },
      {
       "output_type": "stream",
       "stream": "stdout",
       "text": [
        " 9 Pf3D7_10_v3\n",
        "ppq"
       ]
      },
      {
       "output_type": "stream",
       "stream": "stdout",
       "text": [
        " 10 Pf3D7_11_v3\n",
        "ppq"
       ]
      },
      {
       "output_type": "stream",
       "stream": "stdout",
       "text": [
        " 11 Pf3D7_12_v3\n",
        "ppq"
       ]
      },
      {
       "output_type": "stream",
       "stream": "stdout",
       "text": [
        " 12 Pf3D7_13_v3\n",
        "ppq"
       ]
      },
      {
       "output_type": "stream",
       "stream": "stdout",
       "text": [
        " 13 Pf3D7_14_v3\n",
        "4_0"
       ]
      },
      {
       "output_type": "stream",
       "stream": "stdout",
       "text": [
        " 0 Pf3D7_01_v3\n",
        "4_0"
       ]
      },
      {
       "output_type": "stream",
       "stream": "stdout",
       "text": [
        " 1 Pf3D7_02_v3\n",
        "4_0"
       ]
      },
      {
       "output_type": "stream",
       "stream": "stdout",
       "text": [
        " 2 Pf3D7_03_v3\n",
        "4_0"
       ]
      },
      {
       "output_type": "stream",
       "stream": "stdout",
       "text": [
        " 3 Pf3D7_04_v3\n",
        "4_0"
       ]
      },
      {
       "output_type": "stream",
       "stream": "stdout",
       "text": [
        " 4 Pf3D7_05_v3\n",
        "4_0"
       ]
      },
      {
       "output_type": "stream",
       "stream": "stdout",
       "text": [
        " 5 Pf3D7_06_v3\n",
        "4_0"
       ]
      },
      {
       "output_type": "stream",
       "stream": "stdout",
       "text": [
        " 6 Pf3D7_07_v3\n",
        "4_0"
       ]
      },
      {
       "output_type": "stream",
       "stream": "stdout",
       "text": [
        " 7 Pf3D7_08_v3\n",
        "4_0"
       ]
      },
      {
       "output_type": "stream",
       "stream": "stdout",
       "text": [
        " 8 Pf3D7_09_v3\n",
        "4_0"
       ]
      },
      {
       "output_type": "stream",
       "stream": "stdout",
       "text": [
        " 9 Pf3D7_10_v3\n",
        "4_0"
       ]
      },
      {
       "output_type": "stream",
       "stream": "stdout",
       "text": [
        " 10 Pf3D7_11_v3\n",
        "4_0"
       ]
      },
      {
       "output_type": "stream",
       "stream": "stdout",
       "text": [
        " 11 Pf3D7_12_v3\n",
        "4_0"
       ]
      },
      {
       "output_type": "stream",
       "stream": "stdout",
       "text": [
        " 12 Pf3D7_13_v3\n",
        "4_0"
       ]
      },
      {
       "output_type": "stream",
       "stream": "stdout",
       "text": [
        " 13 Pf3D7_14_v3\n"
       ]
      }
     ],
     "prompt_number": 184
    },
    {
     "cell_type": "code",
     "collapsed": false,
     "input": [
      "for callset in ['ppq']:\n",
      "    C_fn = PLOT_DIR + '/C_all_%s.npy' % callset\n",
      "\n",
      "    if not os.path.exists(C_fn):\n",
      "        Cl=range(14)\n",
      "        chromosomes = ['Pf3D7_%02d_v3' % i for i in range(1, 15)]\n",
      "        for i, chromosome in enumerate(chromosomes):\n",
      "            print callset, i, chromosome\n",
      "            Cl[i] = load_calldata_arrays(vcf_fns['ppq'], region=chromosome)\n",
      "            print shape(Cl[i])\n",
      "        C['ppq_all'] = np.concatenate(Cl)\n",
      "        del Cl\n",
      "        gc.collect()\n",
      "        np.save(C_fn, C['ppq_all'])\n",
      "    else:\n",
      "        C['ppq_all'] = np.load(C_fn)\n",
      "    \n",
      "\n"
     ],
     "language": "python",
     "metadata": {},
     "outputs": [],
     "prompt_number": 185
    },
    {
     "cell_type": "code",
     "collapsed": false,
     "input": [
      "V['ppq_all'] = V['ppq']"
     ],
     "language": "python",
     "metadata": {},
     "outputs": [],
     "prompt_number": 240
    },
    {
     "cell_type": "code",
     "collapsed": false,
     "input": [
      "for callset in C.keys():\n",
      "    print callset, shape(C[callset]), tabulate(V[callset]['FILTER']['PASS'])"
     ],
     "language": "python",
     "metadata": {},
     "outputs": [
      {
       "output_type": "stream",
       "stream": "stdout",
       "text": [
        "ppq (774565, 529) "
       ]
      },
      {
       "output_type": "stream",
       "stream": "stdout",
       "text": [
        "{False: 719048, True: 55517}\n",
        "4_0 (4302269, 529) "
       ]
      },
      {
       "output_type": "stream",
       "stream": "stdout",
       "text": [
        "{False: 3357999, True: 944270}\n",
        "ppq_all (774565, 597) "
       ]
      },
      {
       "output_type": "stream",
       "stream": "stdout",
       "text": [
        "{False: 719048, True: 55517}\n"
       ]
      }
     ],
     "prompt_number": 241
    },
    {
     "cell_type": "code",
     "collapsed": false,
     "input": [],
     "language": "python",
     "metadata": {},
     "outputs": []
    },
    {
     "cell_type": "heading",
     "level": 1,
     "metadata": {},
     "source": [
      "Differences between callsets"
     ]
    },
    {
     "cell_type": "code",
     "collapsed": false,
     "input": [
      "V['ppq'].dtype.names"
     ],
     "language": "python",
     "metadata": {},
     "outputs": [
      {
       "metadata": {},
       "output_type": "pyout",
       "prompt_number": 187,
       "text": [
        "('CHROM',\n",
        " 'POS',\n",
        " 'ID',\n",
        " 'REF',\n",
        " 'ALT',\n",
        " 'QUAL',\n",
        " 'FILTER',\n",
        " 'num_alleles',\n",
        " 'is_snp',\n",
        " 'svlen',\n",
        " 'CODING',\n",
        " 'NS',\n",
        " 'UQ',\n",
        " 'DP')"
       ]
      },
      {
       "output_type": "stream",
       "stream": "stdout",
       "text": [
        "\n"
       ]
      }
     ],
     "prompt_number": 187
    },
    {
     "cell_type": "code",
     "collapsed": false,
     "input": [
      "for callset in vcf_fns:\n",
      "    print callset, shape(V[callset]), shape(C[callset])"
     ],
     "language": "python",
     "metadata": {},
     "outputs": [
      {
       "output_type": "stream",
       "stream": "stdout",
       "text": [
        "ppq (774565,) (774565, 529)\n",
        "4_0 (4302269,) (4302269, 529)\n"
       ]
      }
     ],
     "prompt_number": 188
    },
    {
     "cell_type": "code",
     "collapsed": false,
     "input": [
      "V['ppq']['FILTER'][0:10]"
     ],
     "language": "python",
     "metadata": {},
     "outputs": [
      {
       "metadata": {},
       "output_type": "pyout",
       "prompt_number": 189,
       "text": [
        "array([ (False, True, False, True, False, False, False, False, True, False, False, False),\n",
        "       (False, True, False, True, False, False, False, False, True, False, False, False),\n",
        "       (False, True, False, True, False, False, False, False, False, False, False, False),\n",
        "       (False, True, True, True, False, False, False, False, False, False, False, False),\n",
        "       (False, True, True, True, False, False, False, False, False, False, False, False),\n",
        "       (False, True, True, True, False, False, False, False, False, False, False, False),\n",
        "       (False, True, False, False, False, False, False, False, True, False, False, False),\n",
        "       (False, True, True, False, False, False, False, False, False, False, False, False),\n",
        "       (False, True, True, True, False, False, False, False, False, False, False, False),\n",
        "       (False, True, True, True, False, False, False, False, False, False, False, False)], \n",
        "      dtype=[('Biallelic', '?'), ('CodingType', '?'), ('HetUniq', '?'), ('HyperHet', '?'), ('MaxCoverage', '?'), ('MinAlt', '?'), ('MinCoverage', '?'), ('MonoAllelic', '?'), ('NoAltAllele', '?'), ('Region', '?'), ('triallelic', '?'), ('PASS', '?')])"
       ]
      }
     ],
     "prompt_number": 189
    },
    {
     "cell_type": "code",
     "collapsed": false,
     "input": [
      "CHROM_POS = OrderedDict()\n",
      "CHROM_POS['all'] = OrderedDict()\n",
      "CHROM_POS['pass'] = OrderedDict()\n",
      "\n",
      "for callset in vcf_fns:\n",
      "    CHROM_POS['all'][callset] = np.core.defchararray.add(np.core.defchararray.add(V[callset]['CHROM'], '_'), V[callset]['POS'].astype(str))\n",
      "    CHROM_POS['pass'][callset] = np.core.defchararray.add(np.core.defchararray.add(V[callset]['CHROM'][V[callset]['FILTER']['PASS']], '_'), V[callset]['POS'][V[callset]['FILTER']['PASS']].astype(str))\n",
      "    "
     ],
     "language": "python",
     "metadata": {},
     "outputs": [],
     "prompt_number": 191
    },
    {
     "cell_type": "code",
     "collapsed": false,
     "input": [
      "CHROM_POS['fail'] = OrderedDict()\n",
      "\n",
      "for callset in vcf_fns:\n",
      "    CHROM_POS['fail'][callset] = np.core.defchararray.add(np.core.defchararray.add(V[callset]['CHROM'][np.logical_not(V[callset]['FILTER']['PASS'])], '_'), V[callset]['POS'][np.logical_not(V[callset]['FILTER']['PASS'])].astype(str))\n",
      "    "
     ],
     "language": "python",
     "metadata": {},
     "outputs": [],
     "prompt_number": 277
    },
    {
     "cell_type": "code",
     "collapsed": false,
     "input": [
      "for callset in vcf_fns:\n",
      "    print callset, shape(V[callset]), len(CHROM_POS['all'][callset]), len(CHROM_POS['pass'][callset]), len(CHROM_POS['fail'][callset])"
     ],
     "language": "python",
     "metadata": {},
     "outputs": [
      {
       "output_type": "stream",
       "stream": "stdout",
       "text": [
        "ppq (774565,) 774565 55517 719048\n",
        "4_0 (4302269,) 4302269 944270 3357999\n"
       ]
      }
     ],
     "prompt_number": 278
    },
    {
     "cell_type": "code",
     "collapsed": false,
     "input": [
      "print CHROM_POS['all']['ppq'][0:10]\n",
      "print CHROM_POS['pass']['ppq'][0:10]\n"
     ],
     "language": "python",
     "metadata": {},
     "outputs": [
      {
       "output_type": "stream",
       "stream": "stdout",
       "text": [
        "['Pf3D7_01_v3_5' 'Pf3D7_01_v3_9' 'Pf3D7_01_v3_12' 'Pf3D7_01_v3_16'\n",
        " 'Pf3D7_01_v3_23' 'Pf3D7_01_v3_37' 'Pf3D7_01_v3_43' 'Pf3D7_01_v3_44'\n",
        " 'Pf3D7_01_v3_51' 'Pf3D7_01_v3_58']\n",
        "['Pf3D7_01_v3_45623' 'Pf3D7_01_v3_45633' 'Pf3D7_01_v3_45685'\n",
        " 'Pf3D7_01_v3_45932' 'Pf3D7_01_v3_45968' 'Pf3D7_01_v3_45971'\n",
        " 'Pf3D7_01_v3_45973' 'Pf3D7_01_v3_46061' 'Pf3D7_01_v3_46087'\n",
        " 'Pf3D7_01_v3_46088']\n"
       ]
      }
     ],
     "prompt_number": 193
    },
    {
     "cell_type": "code",
     "collapsed": false,
     "input": [
      "len(np.setdiff1d(CHROM_POS['all']['ppq'], CHROM_POS['all']['4_0']))"
     ],
     "language": "python",
     "metadata": {},
     "outputs": [
      {
       "metadata": {},
       "output_type": "pyout",
       "prompt_number": 197,
       "text": [
        "22928"
       ]
      }
     ],
     "prompt_number": 197
    },
    {
     "cell_type": "code",
     "collapsed": false,
     "input": [
      "ppq_variants_not_in_4_0 = np.logical_not(np.in1d(CHROM_POS['all']['ppq'], CHROM_POS['all']['4_0']))\n",
      "print tabulate(ppq_variants_not_in_4_0)"
     ],
     "language": "python",
     "metadata": {},
     "outputs": [
      {
       "output_type": "stream",
       "stream": "stdout",
       "text": [
        "{False: 751637, True: 22928}\n"
       ]
      }
     ],
     "prompt_number": 198
    },
    {
     "cell_type": "code",
     "collapsed": false,
     "input": [
      "print tabulate(V['ppq']['FILTER']['PASS'])\n",
      "print tabulate(V['ppq']['FILTER']['PASS'][ppq_variants_not_in_4_0])\n"
     ],
     "language": "python",
     "metadata": {},
     "outputs": [
      {
       "output_type": "stream",
       "stream": "stdout",
       "text": [
        "{False: 719048, True: 55517}\n",
        "{False: 22839, True: 89}\n"
       ]
      }
     ],
     "prompt_number": 199
    },
    {
     "cell_type": "code",
     "collapsed": false,
     "input": [
      "CHROM_POS['all']['ppq'][(V['ppq']['FILTER']['PASS']) & (ppq_variants_not_in_4_0)]"
     ],
     "language": "python",
     "metadata": {},
     "outputs": [
      {
       "metadata": {},
       "output_type": "pyout",
       "prompt_number": 201,
       "text": [
        "array(['Pf3D7_01_v3_112074', 'Pf3D7_02_v3_123000', 'Pf3D7_02_v3_130632',\n",
        "       'Pf3D7_02_v3_284386', 'Pf3D7_02_v3_596929', 'Pf3D7_03_v3_266916',\n",
        "       'Pf3D7_03_v3_347208', 'Pf3D7_03_v3_568269', 'Pf3D7_03_v3_590099',\n",
        "       'Pf3D7_04_v3_462326', 'Pf3D7_05_v3_201495', 'Pf3D7_05_v3_391830',\n",
        "       'Pf3D7_05_v3_495576', 'Pf3D7_05_v3_685737', 'Pf3D7_05_v3_847373',\n",
        "       'Pf3D7_05_v3_922064', 'Pf3D7_06_v3_200702', 'Pf3D7_06_v3_377585',\n",
        "       'Pf3D7_06_v3_810681', 'Pf3D7_07_v3_1055848', 'Pf3D7_08_v3_597219',\n",
        "       'Pf3D7_08_v3_1144160', 'Pf3D7_09_v3_111139', 'Pf3D7_09_v3_419158',\n",
        "       'Pf3D7_09_v3_614777', 'Pf3D7_09_v3_844523', 'Pf3D7_09_v3_866439',\n",
        "       'Pf3D7_09_v3_1300333', 'Pf3D7_10_v3_323660', 'Pf3D7_10_v3_340695',\n",
        "       'Pf3D7_10_v3_344731', 'Pf3D7_10_v3_404135', 'Pf3D7_10_v3_584397',\n",
        "       'Pf3D7_10_v3_852781', 'Pf3D7_10_v3_879970', 'Pf3D7_10_v3_903337',\n",
        "       'Pf3D7_10_v3_966669', 'Pf3D7_10_v3_971352', 'Pf3D7_10_v3_1083671',\n",
        "       'Pf3D7_10_v3_1268223', 'Pf3D7_10_v3_1368153', 'Pf3D7_11_v3_519694',\n",
        "       'Pf3D7_11_v3_524705', 'Pf3D7_11_v3_1235432', 'Pf3D7_11_v3_1336056',\n",
        "       'Pf3D7_11_v3_1457113', 'Pf3D7_11_v3_1964878', 'Pf3D7_11_v3_1967640',\n",
        "       'Pf3D7_12_v3_407400', 'Pf3D7_12_v3_693594', 'Pf3D7_12_v3_1162743',\n",
        "       'Pf3D7_12_v3_1330648', 'Pf3D7_12_v3_1533202', 'Pf3D7_12_v3_1552790',\n",
        "       'Pf3D7_12_v3_2013983', 'Pf3D7_12_v3_2031817', 'Pf3D7_13_v3_297376',\n",
        "       'Pf3D7_13_v3_302709', 'Pf3D7_13_v3_408872', 'Pf3D7_13_v3_502930',\n",
        "       'Pf3D7_13_v3_627567', 'Pf3D7_13_v3_637581', 'Pf3D7_13_v3_900588',\n",
        "       'Pf3D7_13_v3_1135365', 'Pf3D7_13_v3_1219262', 'Pf3D7_13_v3_1489677',\n",
        "       'Pf3D7_13_v3_1859636', 'Pf3D7_13_v3_2006445', 'Pf3D7_13_v3_2090078',\n",
        "       'Pf3D7_13_v3_2162321', 'Pf3D7_13_v3_2189640', 'Pf3D7_13_v3_2299532',\n",
        "       'Pf3D7_13_v3_2619518', 'Pf3D7_14_v3_357122', 'Pf3D7_14_v3_475836',\n",
        "       'Pf3D7_14_v3_961709', 'Pf3D7_14_v3_996419', 'Pf3D7_14_v3_1215441',\n",
        "       'Pf3D7_14_v3_1239783', 'Pf3D7_14_v3_1354728', 'Pf3D7_14_v3_1423126',\n",
        "       'Pf3D7_14_v3_2171602', 'Pf3D7_14_v3_2201544', 'Pf3D7_14_v3_2505348',\n",
        "       'Pf3D7_14_v3_2668467', 'Pf3D7_14_v3_2672135', 'Pf3D7_14_v3_2699525',\n",
        "       'Pf3D7_14_v3_2703567', 'Pf3D7_14_v3_2876851'], \n",
        "      dtype='|S29')"
       ]
      }
     ],
     "prompt_number": 201
    },
    {
     "cell_type": "code",
     "collapsed": false,
     "input": [
      "common_CHROM_POS = OrderedDict()\n",
      "common_CHROM_POS['all'] = np.intersect1d(CHROM_POS['all']['ppq'], CHROM_POS['all']['4_0'])\n",
      "common_CHROM_POS['ppq_pass'] = np.intersect1d(CHROM_POS['pass']['ppq'], CHROM_POS['all']['4_0'])\n",
      "common_CHROM_POS['4_0_pass'] = np.intersect1d(CHROM_POS['all']['ppq'], CHROM_POS['pass']['4_0'])\n",
      "for comparison in common_CHROM_POS:\n",
      "    print comparison, len(common_CHROM_POS[comparison])\n"
     ],
     "language": "python",
     "metadata": {},
     "outputs": [
      {
       "output_type": "stream",
       "stream": "stdout",
       "text": [
        "all 751637\n",
        "ppq_pass 55428\n",
        "4_0_pass 59910\n"
       ]
      }
     ],
     "prompt_number": 195
    },
    {
     "cell_type": "code",
     "collapsed": false,
     "input": [
      "common_CHROM_POS['pass_in_4_0_fail_in_ppq'] = np.intersect1d(\n",
      "    CHROM_POS['fail']['ppq'],\n",
      "    CHROM_POS['pass']['4_0']\n",
      ")"
     ],
     "language": "python",
     "metadata": {},
     "outputs": [],
     "prompt_number": 279
    },
    {
     "cell_type": "code",
     "collapsed": false,
     "input": [
      "common_CHROM_POS['pass_in_4_0_fail_minalt_in_ppq'] = np.intersect1d(\n",
      "    CHROM_POS['all']['ppq'][V['ppq']['FILTER']['MinAlt']],\n",
      "    CHROM_POS['pass']['4_0']\n",
      ")"
     ],
     "language": "python",
     "metadata": {},
     "outputs": [],
     "prompt_number": 283
    },
    {
     "cell_type": "code",
     "collapsed": false,
     "input": [
      "print len(common_CHROM_POS['pass_in_4_0_fail_in_ppq'])\n",
      "print len(common_CHROM_POS['pass_in_4_0_fail_minalt_in_ppq'])\n"
     ],
     "language": "python",
     "metadata": {},
     "outputs": [
      {
       "output_type": "stream",
       "stream": "stdout",
       "text": [
        "12775\n",
        "11746\n"
       ]
      }
     ],
     "prompt_number": 284
    },
    {
     "cell_type": "code",
     "collapsed": false,
     "input": [
      "common_SNPs = OrderedDict()\n",
      "common_SNPs['all'] = OrderedDict()\n",
      "common_SNPs['pass'] = OrderedDict()\n",
      "for callset in vcf_fns:\n",
      "    common_SNPs['all'][callset] = np.in1d(CHROM_POS['all'][callset], common_CHROM_POS['all'])\n",
      "    print 'all', callset, tabulate(common_SNPs['all'][callset])\n",
      "#     common_SNPs['pass'][callset] = ((np.in1d(CHROM_POS['all'][callset], common_CHROM_POS['all'])) & (V[callset]['FILTER']['PASS']))\n",
      "#     print 'pass', callset, tabulate(common_SNPs['pass'][callset])\n",
      "# # common_SNPs['pass']['ppq'] = np.in1d(CHROM_POS['pass']['ppq'], common_CHROM_POS['ppq_pass'])\n",
      "# common_SNPs['pass']['ppq'] = np.in1d(CHROM_POS['pass']['ppq'], common_CHROM_POS['all'])\n",
      "# print 'pass', 'ppq', tabulate(common_SNPs['pass']['ppq'])\n",
      "# # common_SNPs['pass']['4_0'] = np.in1d(CHROM_POS['pass']['4_0'], common_CHROM_POS['4_0_pass'])\n",
      "# common_SNPs['pass']['4_0'] = np.in1d(CHROM_POS['pass']['4_0'], common_CHROM_POS['all'])\n",
      "# print 'pass', '4_0', tabulate(common_SNPs['pass']['4_0'])\n",
      "common_SNPs['pass']['ppq'] = np.in1d(CHROM_POS['all']['4_0'], CHROM_POS['pass']['ppq'])\n",
      "print 'pass', 'ppq', tabulate(common_SNPs['pass']['ppq'])\n",
      "common_SNPs['pass']['4_0'] = np.in1d(CHROM_POS['all']['ppq'], CHROM_POS['pass']['4_0'])\n",
      "print 'pass', '4_0', tabulate(common_SNPs['pass']['4_0'])"
     ],
     "language": "python",
     "metadata": {},
     "outputs": [
      {
       "output_type": "stream",
       "stream": "stdout",
       "text": [
        "all ppq "
       ]
      },
      {
       "output_type": "stream",
       "stream": "stdout",
       "text": [
        "{False: 22928, True: 751637}\n",
        "all"
       ]
      },
      {
       "output_type": "stream",
       "stream": "stdout",
       "text": [
        " 4_0 "
       ]
      },
      {
       "output_type": "stream",
       "stream": "stdout",
       "text": [
        "{False: 3550632, True: 751637}\n",
        "pass"
       ]
      },
      {
       "output_type": "stream",
       "stream": "stdout",
       "text": [
        " ppq "
       ]
      },
      {
       "output_type": "stream",
       "stream": "stdout",
       "text": [
        "{False: 4246841, True: 55428}\n",
        "pass"
       ]
      },
      {
       "output_type": "stream",
       "stream": "stdout",
       "text": [
        " 4_0 "
       ]
      },
      {
       "output_type": "stream",
       "stream": "stdout",
       "text": [
        "{False: 714655, True: 59910}\n"
       ]
      }
     ],
     "prompt_number": 208
    },
    {
     "cell_type": "code",
     "collapsed": false,
     "input": [
      "pass_comparisons = np.core.defchararray.add(\n",
      "    V['4_0']['FILTER']['PASS'][common_SNPs['4_0']].astype(str),\n",
      "    V['ppq']['FILTER']['PASS'][common_SNPs['ppq']].astype(str),\n",
      ")\n",
      "print tabulate(pass_comparisons)"
     ],
     "language": "python",
     "metadata": {},
     "outputs": [
      {
       "output_type": "stream",
       "stream": "stdout",
       "text": [
        "{'TrueFalse': 4094, 'FalseTrue': 2661, 'FalseFalse': 268144, 'TrueTrue': 14714}\n"
       ]
      }
     ],
     "prompt_number": 176
    },
    {
     "cell_type": "code",
     "collapsed": false,
     "input": [
      "print V['4_0']['FILTER'].dtype.names\n",
      "print V['ppq']['FILTER'].dtype.names\n"
     ],
     "language": "python",
     "metadata": {},
     "outputs": [
      {
       "output_type": "stream",
       "stream": "stdout",
       "text": [
        "('Biallelic', 'CodingType', 'HetUniq', 'HyperHet', 'MaxCoverage', 'MinAlt', 'MinCoverage', 'MonoAllelic', 'NoAltAllele', 'Region', 'triallelic', 'PASS')\n",
        "('Biallelic', 'CodingType', 'HetUniq', 'HyperHet', 'MaxCoverage', 'MinAlt', 'MinCoverage', 'MonoAllelic', 'NoAltAllele', 'Region', 'triallelic', 'PASS')\n"
       ]
      }
     ],
     "prompt_number": 179
    },
    {
     "cell_type": "code",
     "collapsed": false,
     "input": [
      "for filter in V['4_0']['FILTER'].dtype.names:\n",
      "    all_comparisons = np.core.defchararray.add(\n",
      "        V['4_0']['FILTER'][filter][common_SNPs['all']['4_0']].astype(str),\n",
      "        V['ppq']['FILTER'][filter][common_SNPs['all']['ppq']].astype(str),\n",
      "    )\n",
      "#     pass_4_0_comparisons = np.core.defchararray.add(\n",
      "#         V['4_0']['FILTER'][filter][common_SNPs['pass']['4_0']].astype(str),\n",
      "#         V['ppq']['FILTER'][filter][common_SNPs['pass']['ppq']].astype(str),\n",
      "#     )\n",
      "#     pass_comparisons_pass_4_0 = np.core.defchararray.add(\n",
      "#         V['4_0']['FILTER'][filter][(V['4_0']['FILTER']['PASS']) & (common_SNPs['4_0'])].astype(str),\n",
      "#         V['ppq']['FILTER'][filter][common_SNPs['ppq']].astype(str),\n",
      "#     )\n",
      "    print filter, tabulate(all_comparisons)\n",
      "    print '\\tPASS in ppq', tabulate(V['4_0']['FILTER'][filter][common_SNPs['pass']['ppq']].astype(str))\n",
      "    print '\\tPASS in 4_0', tabulate(V['ppq']['FILTER'][filter][common_SNPs['pass']['4_0']].astype(str))"
     ],
     "language": "python",
     "metadata": {},
     "outputs": [
      {
       "output_type": "stream",
       "stream": "stdout",
       "text": [
        "Biallelic "
       ]
      },
      {
       "output_type": "stream",
       "stream": "stdout",
       "text": [
        "{'TrueFalse': 139549, 'FalseTrue': 2776, 'FalseFalse': 583251, 'TrueTrue': 26061}\n",
        "\tPASS in ppq {'True': 6577, 'False': 48851}\n",
        "\tPASS in 4_0 {'True': 250, 'False': 59660}\n",
        "CodingType"
       ]
      },
      {
       "output_type": "stream",
       "stream": "stdout",
       "text": [
        " {'TrueTrue': 502627, 'FalseFalse': 249010}\n",
        "\tPASS in ppq {'False': 55428}\n",
        "\tPASS in 4_0 {'False': 59910}\n",
        "HetUniq"
       ]
      },
      {
       "output_type": "stream",
       "stream": "stdout",
       "text": [
        " {'TrueFalse': 92892, 'FalseTrue': 66, 'FalseFalse': 298293, 'TrueTrue': 360386}\n",
        "\tPASS in ppq {'True': 257, 'False': 55171}\n",
        "\tPASS in 4_0 {'True': 1, 'False': 59909}\n",
        "HyperHet"
       ]
      },
      {
       "output_type": "stream",
       "stream": "stdout",
       "text": [
        " {'TrueFalse': 77344, 'FalseTrue': 20573, 'FalseFalse': 509038, 'TrueTrue': 144682}\n",
        "\tPASS in ppq {'True': 1227, 'False': 54201}\n",
        "\tPASS in 4_0 {'True': 102, 'False': 59808}\n",
        "MaxCoverage"
       ]
      },
      {
       "output_type": "stream",
       "stream": "stdout",
       "text": [
        " {'TrueFalse': 1898, 'FalseTrue': 980, 'FalseFalse': 746596, 'TrueTrue': 2163}\n",
        "\tPASS in ppq {'True': 254, 'False': 55174}\n",
        "\tPASS in 4_0 {'True': 130, 'False': 59780}\n",
        "MinAlt"
       ]
      },
      {
       "output_type": "stream",
       "stream": "stdout",
       "text": [
        " {'TrueFalse': 90375, 'FalseTrue': 120204, 'FalseFalse': 404953, 'TrueTrue': 136105}\n",
        "\tPASS in ppq {'True': 17, 'False': 55411}\n",
        "\tPASS in 4_0 {'True': 11746, 'False': 48164}\n",
        "MinCoverage"
       ]
      },
      {
       "output_type": "stream",
       "stream": "stdout",
       "text": [
        " {'TrueFalse': 4639, 'FalseTrue': 7386, 'FalseFalse': 668056, 'TrueTrue': 71556}\n",
        "\tPASS in ppq {'True': 424, 'False': 55004}\n",
        "\tPASS in 4_0 {'True': 537, 'False': 59373}\n",
        "MonoAllelic"
       ]
      },
      {
       "output_type": "stream",
       "stream": "stdout",
       "text": [
        " {'TrueFalse': 102, 'FalseTrue': 3668, 'FalseFalse': 747815, 'TrueTrue': 52}\n",
        "\tPASS in ppq {'False': 55428}\n",
        "\tPASS in 4_0 {'True': 212, 'False': 59698}\n",
        "NoAltAllele"
       ]
      },
      {
       "output_type": "stream",
       "stream": "stdout",
       "text": [
        " {'TrueFalse': 16, 'FalseTrue': 108436, 'FalseFalse': 623660, 'TrueTrue': 19525}\n",
        "\tPASS in ppq {'False': 55428}\n",
        "\tPASS in 4_0 {'True': 588, 'False': 59322}\n",
        "Region"
       ]
      },
      {
       "output_type": "stream",
       "stream": "stdout",
       "text": [
        " {'FalseFalse': 751637}\n",
        "\tPASS in ppq {'False': 55428}\n",
        "\tPASS in 4_0 {'False': 59910}\n",
        "triallelic"
       ]
      },
      {
       "output_type": "stream",
       "stream": "stdout",
       "text": [
        " {'TrueFalse': 37276, 'FalseTrue': 2, 'FalseFalse': 712555, 'TrueTrue': 1804}\n",
        "\tPASS in ppq {'True': 340, 'False': 55088}\n",
        "\tPASS in 4_0 {'False': 59910}\n",
        "PASS"
       ]
      },
      {
       "output_type": "stream",
       "stream": "stdout",
       "text": [
        " {'TrueFalse': 12775, 'FalseTrue': 8293, 'FalseFalse': 683434, 'TrueTrue': 47135}\n",
        "\tPASS in ppq {'True': 47135, 'False': 8293}\n",
        "\tPASS in 4_0 {'True': 47135, 'False': 12775}\n"
       ]
      }
     ],
     "prompt_number": 210
    },
    {
     "cell_type": "code",
     "collapsed": false,
     "input": [
      "print len(V['4_0']['FILTER']['PASS'][common_SNPs['pass']['4_0']])\n",
      "print tabulate(V['4_0']['FILTER']['PASS'][common_SNPs['pass']['4_0']])\n"
     ],
     "language": "python",
     "metadata": {},
     "outputs": [
      {
       "output_type": "stream",
       "stream": "stdout",
       "text": [
        "59910\n",
        "{True: 59910}\n"
       ]
      }
     ],
     "prompt_number": 207
    },
    {
     "cell_type": "code",
     "collapsed": false,
     "input": [
      "11343 + 47214"
     ],
     "language": "python",
     "metadata": {},
     "outputs": [
      {
       "metadata": {},
       "output_type": "pyout",
       "prompt_number": 157,
       "text": [
        "58557"
       ]
      }
     ],
     "prompt_number": 157
    },
    {
     "cell_type": "code",
     "collapsed": false,
     "input": [
      "'''Based on position alone, there are %d SNPs that appear in both callsets. Of these %d PASS in both callsets and \\\n",
      "%d FAIL in both callsets. There are %d that passed in the 4.0 set but failed in the ppq set. Of these %d (%4.2f%%) failed \\\n",
      "the MinAlt filter. Magnus/Jim - could you confirm that this filter is as in Manske et al Nature paper, i.e. ALT has to appear \\\n",
      "in at least 10%% of all reads or at least 10 reads in one sample?\\\n",
      "''' % (\n",
      "    len(common_CHROM_POS['all']),\n",
      "    np.count_nonzero((V['4_0']['FILTER']['PASS'][common_SNPs['all']['4_0']]) & (V['ppq']['FILTER']['PASS'][common_SNPs['all']['ppq']])),\n",
      "    np.count_nonzero((np.logical_not(V['4_0']['FILTER']['PASS'][common_SNPs['all']['4_0']])) & (np.logical_not(V['ppq']['FILTER']['PASS'][common_SNPs['all']['ppq']]))),\n",
      "    np.count_nonzero((V['4_0']['FILTER']['PASS'][common_SNPs['all']['4_0']]) & (np.logical_not(V['ppq']['FILTER']['PASS'][common_SNPs['all']['ppq']]))),\n",
      "    np.count_nonzero((V['4_0']['FILTER']['PASS'][common_SNPs['all']['4_0']]) & (V['ppq']['FILTER']['MinAlt'][common_SNPs['all']['ppq']])),\n",
      "    np.count_nonzero((V['4_0']['FILTER']['PASS'][common_SNPs['all']['4_0']]) & (V['ppq']['FILTER']['MinAlt'][common_SNPs['all']['ppq']])) * 100.0 / np.count_nonzero((V['4_0']['FILTER']['PASS'][common_SNPs['all']['4_0']]) & (np.logical_not(V['ppq']['FILTER']['PASS'][common_SNPs['all']['ppq']])))\n",
      ")"
     ],
     "language": "python",
     "metadata": {},
     "outputs": [
      {
       "metadata": {},
       "output_type": "pyout",
       "prompt_number": 288,
       "text": [
        "'Based on position alone, there are 751637 SNPs that appear in both callsets. Of these 47135 PASS in both callsets and 683434 FAIL in both callsets. There are 12775 that passed in the 4.0 set but failed in the ppq set. Of these 11746 (91.95%) failed the MinAlt filter. Magnus/Jim - could you confirm that this filter is as in Manske et al Nature paper, i.e. ALT has to appear in at least 10% of all reads or at least 10 reads in one sample?'"
       ]
      }
     ],
     "prompt_number": 288
    },
    {
     "cell_type": "code",
     "collapsed": false,
     "input": [
      "'''There are %d SNPs that failed in the 4.0 set but passed in the ppq set. Of these %d (%4.1f%%) failed the Biallelic filter. \n",
      "''' % (\n",
      "    np.count_nonzero((V['ppq']['FILTER']['PASS'][common_SNPs['all']['ppq']]) & (np.logical_not(V['4_0']['FILTER']['PASS'][common_SNPs['all']['4_0']]))),\n",
      "    np.count_nonzero((V['ppq']['FILTER']['PASS'][common_SNPs['all']['ppq']]) & (V['4_0']['FILTER']['Biallelic'][common_SNPs['all']['4_0']])),\n",
      "    np.count_nonzero((V['ppq']['FILTER']['PASS'][common_SNPs['all']['ppq']]) & (V['4_0']['FILTER']['Biallelic'][common_SNPs['all']['4_0']])) * 100.0 / np.count_nonzero((V['ppq']['FILTER']['PASS'][common_SNPs['all']['ppq']]) & (np.logical_not(V['4_0']['FILTER']['PASS'][common_SNPs['all']['4_0']]))),\n",
      ")"
     ],
     "language": "python",
     "metadata": {},
     "outputs": [
      {
       "metadata": {},
       "output_type": "pyout",
       "prompt_number": 298,
       "text": [
        "'There are 8293 SNPs that failed in the 4.0 set but passed in the ppq set. Of these 6577 (79.3%) failed the Biallelic filter. \\n'"
       ]
      }
     ],
     "prompt_number": 298
    },
    {
     "cell_type": "heading",
     "level": 1,
     "metadata": {},
     "source": [
      "Create genotypes"
     ]
    },
    {
     "cell_type": "code",
     "collapsed": false,
     "input": [
      "GT = OrderedDict()\n",
      "# for callset in vcf_fns:\n",
      "for callset in C.keys():\n",
      "    print callset\n",
      "# for callset in ['ppq', 'ppq_all']:\n",
      "    GT_fn = PLOT_DIR + '/GT_%s.npy' % callset\n",
      "#     if not os.path.exists(GT_fn):\n",
      "    if True:\n",
      "#         we create all the following separately as I think this uses less RAM\n",
      "        print '\\tGT_2'\n",
      "        GT_2 = (((C[callset]['AD'][:,:,0] >= 2) & (C[callset]['AD'][:,:,1] >= 2) & (C[callset]['AD'][:,:,0] + C[callset]['AD'][:,:,1] >= 5)) * 2).astype('int8')\n",
      "        gc.collect()\n",
      "        print '\\tGT_1'\n",
      "        GT_1 = (((C[callset]['AD'][:,:,0] >= 5) & (C[callset]['AD'][:,:,1] < 2)) * 1).astype('int8')\n",
      "        gc.collect()\n",
      "        print '\\tGT_3'\n",
      "        GT_3 = (((C[callset]['AD'][:,:,0] < 2) & (C[callset]['AD'][:,:,1] >= 5)) * 3).astype('int8')\n",
      "        gc.collect()\n",
      "        print '\\tGT_0'\n",
      "        GT_0 = (((C[callset]['AD'][:,:,0] <= 2) & (C[callset]['AD'][:,:,1] <= 2)) * 0).astype('int8')\n",
      "        gc.collect()\n",
      "        print '\\tcombine GT'\n",
      "        GT[callset] = np.array((\n",
      "            GT_2 +   # het calls\n",
      "            GT_1 +                                             # hom ref calls\n",
      "            GT_3 +                                             # hom alt calls\n",
      "            GT_0                                               # \"missing\" calls\n",
      "            ), dtype=int8\n",
      "        )\n",
      "        print '\\tsave GT'\n",
      "        np.save(GT_fn, GT[callset])\n",
      "        print '\\tclean up'\n",
      "        del GT_0, GT_1, GT_2, GT_3\n",
      "        gc.collect()\n",
      "    else:\n",
      "        GT[callset] = np.load(GT_fn)\n",
      "    \n",
      "\n"
     ],
     "language": "python",
     "metadata": {},
     "outputs": [
      {
       "output_type": "stream",
       "stream": "stdout",
       "text": [
        "ppq\n",
        "\tGT_2\n",
        "\tGT_1"
       ]
      },
      {
       "output_type": "stream",
       "stream": "stdout",
       "text": [
        "\n",
        "\tGT_3"
       ]
      },
      {
       "output_type": "stream",
       "stream": "stdout",
       "text": [
        "\n",
        "\tGT_0"
       ]
      },
      {
       "output_type": "stream",
       "stream": "stdout",
       "text": [
        "\n",
        "\tcombine GT"
       ]
      },
      {
       "output_type": "stream",
       "stream": "stdout",
       "text": [
        "\n",
        "\tsave GT"
       ]
      },
      {
       "output_type": "stream",
       "stream": "stdout",
       "text": [
        "\n",
        "\tclean up"
       ]
      },
      {
       "output_type": "stream",
       "stream": "stdout",
       "text": [
        "\n",
        "4_0"
       ]
      },
      {
       "output_type": "stream",
       "stream": "stdout",
       "text": [
        "\n",
        "\tGT_2\n",
        "\tGT_1"
       ]
      },
      {
       "output_type": "stream",
       "stream": "stdout",
       "text": [
        "\n",
        "\tGT_3"
       ]
      },
      {
       "output_type": "stream",
       "stream": "stdout",
       "text": [
        "\n",
        "\tGT_0"
       ]
      },
      {
       "output_type": "stream",
       "stream": "stdout",
       "text": [
        "\n",
        "\tcombine GT"
       ]
      },
      {
       "output_type": "stream",
       "stream": "stdout",
       "text": [
        "\n",
        "\tsave GT"
       ]
      },
      {
       "output_type": "stream",
       "stream": "stdout",
       "text": [
        "\n",
        "\tclean up"
       ]
      },
      {
       "output_type": "stream",
       "stream": "stdout",
       "text": [
        "\n",
        "ppq_all"
       ]
      },
      {
       "output_type": "stream",
       "stream": "stdout",
       "text": [
        "\n",
        "\tGT_2\n",
        "\tGT_1"
       ]
      },
      {
       "output_type": "stream",
       "stream": "stdout",
       "text": [
        "\n",
        "\tGT_3"
       ]
      },
      {
       "output_type": "stream",
       "stream": "stdout",
       "text": [
        "\n",
        "\tGT_0"
       ]
      },
      {
       "output_type": "stream",
       "stream": "stdout",
       "text": [
        "\n",
        "\tcombine GT"
       ]
      },
      {
       "output_type": "stream",
       "stream": "stdout",
       "text": [
        "\n",
        "\tsave GT"
       ]
      },
      {
       "output_type": "stream",
       "stream": "stdout",
       "text": [
        "\n",
        "\tclean up"
       ]
      },
      {
       "output_type": "stream",
       "stream": "stdout",
       "text": [
        "\n"
       ]
      }
     ],
     "prompt_number": 212
    },
    {
     "cell_type": "code",
     "collapsed": false,
     "input": [
      "tabulate(GT['ppq'])"
     ],
     "language": "python",
     "metadata": {},
     "outputs": [
      {
       "metadata": {},
       "output_type": "pyout",
       "prompt_number": 66,
       "text": [
        "{0: 189752829, 1: 202589577, 2: 9580267, 3: 7822212}"
       ]
      }
     ],
     "prompt_number": 66
    },
    {
     "cell_type": "code",
     "collapsed": false,
     "input": [
      "for callset in GT.keys():\n",
      "    print callset, shape(GT[callset])"
     ],
     "language": "python",
     "metadata": {},
     "outputs": [
      {
       "output_type": "stream",
       "stream": "stdout",
       "text": [
        "ppq (774565, 529)\n",
        "4_0 (4302269, 529)\n",
        "ppq_all (774565, 597)\n"
       ]
      }
     ],
     "prompt_number": 214
    },
    {
     "cell_type": "code",
     "collapsed": false,
     "input": [
      "def calcAF(GTs):\n",
      "    if np.count_nonzero(GTs!=0) == 0:\n",
      "        return None\n",
      "    else:\n",
      "        nonMissingGTs = GTs[GTs!=0]\n",
      "        AF = np.mean((nonMissingGTs-1)/2.0)\n",
      "        return AF\n"
     ],
     "language": "python",
     "metadata": {},
     "outputs": [],
     "prompt_number": 221
    },
    {
     "cell_type": "code",
     "collapsed": false,
     "input": [
      "def calcNRAC(GTs):\n",
      "    if np.count_nonzero(GTs!=0) == 0:\n",
      "        return None\n",
      "    else:\n",
      "        nonMissingGTs = GTs[GTs!=0]\n",
      "        NRAC = np.sum((nonMissingGTs-1)/2.0)\n",
      "        return NRAC\n"
     ],
     "language": "python",
     "metadata": {},
     "outputs": [],
     "prompt_number": 221
    },
    {
     "cell_type": "code",
     "collapsed": false,
     "input": [
      "AF = OrderedDict()\n",
      "for callset in GT.keys():\n",
      "    print callset, shape(GT[callset])\n",
      "    AF[callset] = np.apply_along_axis(calcAF, 1, GT[callset])\n"
     ],
     "language": "python",
     "metadata": {},
     "outputs": [
      {
       "output_type": "stream",
       "stream": "stdout",
       "text": [
        "ppq (774565, 529)\n",
        "4_0"
       ]
      },
      {
       "output_type": "stream",
       "stream": "stdout",
       "text": [
        " (4302269, 529)\n",
        "ppq_all"
       ]
      },
      {
       "output_type": "stream",
       "stream": "stdout",
       "text": [
        " (774565, 597)\n"
       ]
      }
     ],
     "prompt_number": 222
    },
    {
     "cell_type": "code",
     "collapsed": false,
     "input": [
      "HomAlts = OrderedDict()\n",
      "for callset in GT.keys():\n",
      "    print callset, shape(GT[callset])\n",
      "    HomAlts[callset] = np.apply_along_axis(lambda GTs: np.count_nonzero(GTs==3), 1, GT[callset])\n"
     ],
     "language": "python",
     "metadata": {},
     "outputs": [
      {
       "output_type": "stream",
       "stream": "stdout",
       "text": [
        "ppq (774565, 529)\n",
        "4_0"
       ]
      },
      {
       "output_type": "stream",
       "stream": "stdout",
       "text": [
        " (4302269, 529)\n",
        "ppq_all"
       ]
      },
      {
       "output_type": "stream",
       "stream": "stdout",
       "text": [
        " (774565, 597)\n"
       ]
      }
     ],
     "prompt_number": 259
    },
    {
     "cell_type": "code",
     "collapsed": false,
     "input": [
      "Hets = OrderedDict()\n",
      "for callset in GT.keys():\n",
      "    print callset, shape(GT[callset])\n",
      "    Hets[callset] = np.apply_along_axis(lambda GTs: np.count_nonzero(GTs==2), 1, GT[callset])\n"
     ],
     "language": "python",
     "metadata": {},
     "outputs": [
      {
       "output_type": "stream",
       "stream": "stdout",
       "text": [
        "ppq (774565, 529)\n",
        "4_0"
       ]
      },
      {
       "output_type": "stream",
       "stream": "stdout",
       "text": [
        " (4302269, 529)\n",
        "ppq_all"
       ]
      },
      {
       "output_type": "stream",
       "stream": "stdout",
       "text": [
        " (774565, 597)\n"
       ]
      }
     ],
     "prompt_number": 261
    },
    {
     "cell_type": "code",
     "collapsed": false,
     "input": [
      "print CHROM_POS['pass'].keys()\n",
      "print CHROM_POS['all'].keys()"
     ],
     "language": "python",
     "metadata": {},
     "outputs": [
      {
       "output_type": "stream",
       "stream": "stdout",
       "text": [
        "['ppq', '4_0']\n",
        "['ppq', '4_0']\n"
       ]
      }
     ],
     "prompt_number": 243
    },
    {
     "cell_type": "code",
     "collapsed": false,
     "input": [
      "variableInPpq = OrderedDict()\n",
      "CHROM_POS['variable'] = OrderedDict()\n",
      "CHROM_POS['variable_pass'] = OrderedDict()\n",
      "for callset in AF.keys():\n",
      "#     print len(AF[callset])\n",
      "    variableInPpq[callset] = (AF[callset] > 0.0)\n",
      "    CHROM_POS['variable'][callset] = np.core.defchararray.add(np.core.defchararray.add(V[callset]['CHROM'][variableInPpq[callset]], '_'), V[callset]['POS'][variableInPpq[callset]].astype(str))\n",
      "    CHROM_POS['variable_pass'][callset] = np.core.defchararray.add(np.core.defchararray.add(V[callset]['CHROM'][((variableInPpq[callset]) & (V[callset]['FILTER']['PASS']))], '_'), V[callset]['POS'][((variableInPpq[callset]) & (V[callset]['FILTER']['PASS']))].astype(str))\n",
      "    print callset, tabulate(variableInPpq[callset]), len(CHROM_POS['variable'][callset]), len(CHROM_POS['variable_pass'][callset])\n",
      "    \n"
     ],
     "language": "python",
     "metadata": {},
     "outputs": [
      {
       "output_type": "stream",
       "stream": "stdout",
       "text": [
        "ppq "
       ]
      },
      {
       "output_type": "stream",
       "stream": "stdout",
       "text": [
        "{False: 328303, True: 446262} 446262 55219\n",
        "4_0"
       ]
      },
      {
       "output_type": "stream",
       "stream": "stdout",
       "text": [
        " {False: 3706632, True: 595637} 595637 90998\n",
        "ppq_all"
       ]
      },
      {
       "output_type": "stream",
       "stream": "stdout",
       "text": [
        " {False: 320749, True: 453816} 453816 55517\n"
       ]
      },
      {
       "ename": "KeyError",
       "evalue": "'pass_variable_in_4_0_not_in_ppq'",
       "output_type": "pyerr",
       "traceback": [
        "\u001b[1;31m---------------------------------------------------------------------------\u001b[0m\n\u001b[1;31mKeyError\u001b[0m                                  Traceback (most recent call last)",
        "\u001b[1;32m<ipython-input-257-2002f5e80d75>\u001b[0m in \u001b[0;36m<module>\u001b[1;34m()\u001b[0m\n\u001b[0;32m      5\u001b[0m \u001b[1;31m#     print len(AF[callset])\u001b[0m\u001b[1;33m\u001b[0m\u001b[1;33m\u001b[0m\u001b[0m\n\u001b[0;32m      6\u001b[0m     \u001b[0mvariableInPpq\u001b[0m\u001b[1;33m[\u001b[0m\u001b[0mcallset\u001b[0m\u001b[1;33m]\u001b[0m \u001b[1;33m=\u001b[0m \u001b[1;33m(\u001b[0m\u001b[0mAF\u001b[0m\u001b[1;33m[\u001b[0m\u001b[0mcallset\u001b[0m\u001b[1;33m]\u001b[0m \u001b[1;33m>\u001b[0m \u001b[1;36m0.0\u001b[0m\u001b[1;33m)\u001b[0m\u001b[1;33m\u001b[0m\u001b[0m\n\u001b[1;32m----> 7\u001b[1;33m     \u001b[0mCHROM_POS\u001b[0m\u001b[1;33m[\u001b[0m\u001b[1;34m'variable'\u001b[0m\u001b[1;33m]\u001b[0m\u001b[1;33m[\u001b[0m\u001b[0mcallset\u001b[0m\u001b[1;33m]\u001b[0m \u001b[1;33m=\u001b[0m \u001b[0mnp\u001b[0m\u001b[1;33m.\u001b[0m\u001b[0mcore\u001b[0m\u001b[1;33m.\u001b[0m\u001b[0mdefchararray\u001b[0m\u001b[1;33m.\u001b[0m\u001b[0madd\u001b[0m\u001b[1;33m(\u001b[0m\u001b[0mnp\u001b[0m\u001b[1;33m.\u001b[0m\u001b[0mcore\u001b[0m\u001b[1;33m.\u001b[0m\u001b[0mdefchararray\u001b[0m\u001b[1;33m.\u001b[0m\u001b[0madd\u001b[0m\u001b[1;33m(\u001b[0m\u001b[0mV\u001b[0m\u001b[1;33m[\u001b[0m\u001b[0mcallset\u001b[0m\u001b[1;33m]\u001b[0m\u001b[1;33m[\u001b[0m\u001b[1;34m'CHROM'\u001b[0m\u001b[1;33m]\u001b[0m\u001b[1;33m[\u001b[0m\u001b[0mvariableInPpq\u001b[0m\u001b[1;33m[\u001b[0m\u001b[0mcallset\u001b[0m\u001b[1;33m]\u001b[0m\u001b[1;33m]\u001b[0m\u001b[1;33m,\u001b[0m \u001b[1;34m'_'\u001b[0m\u001b[1;33m)\u001b[0m\u001b[1;33m,\u001b[0m \u001b[0mV\u001b[0m\u001b[1;33m[\u001b[0m\u001b[0mcallset\u001b[0m\u001b[1;33m]\u001b[0m\u001b[1;33m[\u001b[0m\u001b[1;34m'POS'\u001b[0m\u001b[1;33m]\u001b[0m\u001b[1;33m[\u001b[0m\u001b[0mvariableInPpq\u001b[0m\u001b[1;33m[\u001b[0m\u001b[0mcallset\u001b[0m\u001b[1;33m]\u001b[0m\u001b[1;33m]\u001b[0m\u001b[1;33m.\u001b[0m\u001b[0mastype\u001b[0m\u001b[1;33m(\u001b[0m\u001b[0mstr\u001b[0m\u001b[1;33m)\u001b[0m\u001b[1;33m)\u001b[0m\u001b[1;33m\u001b[0m\u001b[0m\n\u001b[0m\u001b[0;32m      8\u001b[0m     \u001b[0mCHROM_POS\u001b[0m\u001b[1;33m[\u001b[0m\u001b[1;34m'variable_pass'\u001b[0m\u001b[1;33m]\u001b[0m\u001b[1;33m[\u001b[0m\u001b[0mcallset\u001b[0m\u001b[1;33m]\u001b[0m \u001b[1;33m=\u001b[0m \u001b[0mnp\u001b[0m\u001b[1;33m.\u001b[0m\u001b[0mcore\u001b[0m\u001b[1;33m.\u001b[0m\u001b[0mdefchararray\u001b[0m\u001b[1;33m.\u001b[0m\u001b[0madd\u001b[0m\u001b[1;33m(\u001b[0m\u001b[0mnp\u001b[0m\u001b[1;33m.\u001b[0m\u001b[0mcore\u001b[0m\u001b[1;33m.\u001b[0m\u001b[0mdefchararray\u001b[0m\u001b[1;33m.\u001b[0m\u001b[0madd\u001b[0m\u001b[1;33m(\u001b[0m\u001b[0mV\u001b[0m\u001b[1;33m[\u001b[0m\u001b[0mcallset\u001b[0m\u001b[1;33m]\u001b[0m\u001b[1;33m[\u001b[0m\u001b[1;34m'CHROM'\u001b[0m\u001b[1;33m]\u001b[0m\u001b[1;33m[\u001b[0m\u001b[1;33m(\u001b[0m\u001b[1;33m(\u001b[0m\u001b[0mvariableInPpq\u001b[0m\u001b[1;33m[\u001b[0m\u001b[0mcallset\u001b[0m\u001b[1;33m]\u001b[0m\u001b[1;33m)\u001b[0m \u001b[1;33m&\u001b[0m \u001b[1;33m(\u001b[0m\u001b[0mV\u001b[0m\u001b[1;33m[\u001b[0m\u001b[0mcallset\u001b[0m\u001b[1;33m]\u001b[0m\u001b[1;33m[\u001b[0m\u001b[1;34m'FILTER'\u001b[0m\u001b[1;33m]\u001b[0m\u001b[1;33m[\u001b[0m\u001b[1;34m'PASS'\u001b[0m\u001b[1;33m]\u001b[0m\u001b[1;33m)\u001b[0m\u001b[1;33m)\u001b[0m\u001b[1;33m]\u001b[0m\u001b[1;33m,\u001b[0m \u001b[1;34m'_'\u001b[0m\u001b[1;33m)\u001b[0m\u001b[1;33m,\u001b[0m \u001b[0mV\u001b[0m\u001b[1;33m[\u001b[0m\u001b[0mcallset\u001b[0m\u001b[1;33m]\u001b[0m\u001b[1;33m[\u001b[0m\u001b[1;34m'POS'\u001b[0m\u001b[1;33m]\u001b[0m\u001b[1;33m[\u001b[0m\u001b[1;33m(\u001b[0m\u001b[1;33m(\u001b[0m\u001b[0mvariableInPpq\u001b[0m\u001b[1;33m[\u001b[0m\u001b[0mcallset\u001b[0m\u001b[1;33m]\u001b[0m\u001b[1;33m)\u001b[0m \u001b[1;33m&\u001b[0m \u001b[1;33m(\u001b[0m\u001b[0mV\u001b[0m\u001b[1;33m[\u001b[0m\u001b[0mcallset\u001b[0m\u001b[1;33m]\u001b[0m\u001b[1;33m[\u001b[0m\u001b[1;34m'FILTER'\u001b[0m\u001b[1;33m]\u001b[0m\u001b[1;33m[\u001b[0m\u001b[1;34m'PASS'\u001b[0m\u001b[1;33m]\u001b[0m\u001b[1;33m)\u001b[0m\u001b[1;33m)\u001b[0m\u001b[1;33m]\u001b[0m\u001b[1;33m.\u001b[0m\u001b[0mastype\u001b[0m\u001b[1;33m(\u001b[0m\u001b[0mstr\u001b[0m\u001b[1;33m)\u001b[0m\u001b[1;33m)\u001b[0m\u001b[1;33m\u001b[0m\u001b[0m\n\u001b[0;32m      9\u001b[0m     \u001b[1;32mprint\u001b[0m \u001b[0mcallset\u001b[0m\u001b[1;33m,\u001b[0m \u001b[0mtabulate\u001b[0m\u001b[1;33m(\u001b[0m\u001b[0mvariableInPpq\u001b[0m\u001b[1;33m[\u001b[0m\u001b[0mcallset\u001b[0m\u001b[1;33m]\u001b[0m\u001b[1;33m)\u001b[0m\u001b[1;33m,\u001b[0m \u001b[0mlen\u001b[0m\u001b[1;33m(\u001b[0m\u001b[0mCHROM_POS\u001b[0m\u001b[1;33m[\u001b[0m\u001b[1;34m'variable'\u001b[0m\u001b[1;33m]\u001b[0m\u001b[1;33m[\u001b[0m\u001b[0mcallset\u001b[0m\u001b[1;33m]\u001b[0m\u001b[1;33m)\u001b[0m\u001b[1;33m,\u001b[0m \u001b[0mlen\u001b[0m\u001b[1;33m(\u001b[0m\u001b[0mCHROM_POS\u001b[0m\u001b[1;33m[\u001b[0m\u001b[1;34m'variable_pass'\u001b[0m\u001b[1;33m]\u001b[0m\u001b[1;33m[\u001b[0m\u001b[0mcallset\u001b[0m\u001b[1;33m]\u001b[0m\u001b[1;33m)\u001b[0m\u001b[1;33m\u001b[0m\u001b[0m\n",
        "\u001b[1;31mKeyError\u001b[0m: 'pass_variable_in_4_0_not_in_ppq'"
       ]
      }
     ],
     "prompt_number": 257
    },
    {
     "cell_type": "code",
     "collapsed": false,
     "input": [
      "CHROM_POS['pass_variable_in_4_0_not_in_ppq'] = np.setdiff1d(CHROM_POS['variable_pass']['4_0'], CHROM_POS['all']['ppq'])"
     ],
     "language": "python",
     "metadata": {},
     "outputs": [],
     "prompt_number": 248
    },
    {
     "cell_type": "code",
     "collapsed": false,
     "input": [
      "print len(CHROM_POS['variable_pass']['4_0'])\n",
      "print len(CHROM_POS['all']['ppq'])"
     ],
     "language": "python",
     "metadata": {},
     "outputs": [
      {
       "output_type": "stream",
       "stream": "stdout",
       "text": [
        "90998\n",
        "774565\n"
       ]
      }
     ],
     "prompt_number": 256
    },
    {
     "cell_type": "code",
     "collapsed": false,
     "input": [
      "len(CHROM_POS['pass_variable_in_4_0_not_in_ppq'])"
     ],
     "language": "python",
     "metadata": {},
     "outputs": [
      {
       "metadata": {},
       "output_type": "pyout",
       "prompt_number": 249,
       "text": [
        "37968"
       ]
      }
     ],
     "prompt_number": 249
    },
    {
     "cell_type": "code",
     "collapsed": false,
     "input": [],
     "language": "python",
     "metadata": {},
     "outputs": []
    },
    {
     "cell_type": "code",
     "collapsed": false,
     "input": [
      "CHROM_POS['pass_variable_in_4_0_not_in_ppq'][0:10]"
     ],
     "language": "python",
     "metadata": {},
     "outputs": [
      {
       "metadata": {},
       "output_type": "pyout",
       "prompt_number": 250,
       "text": [
        "array(['Pf3D7_01_v3_100114', 'Pf3D7_01_v3_100385', 'Pf3D7_01_v3_105129',\n",
        "       'Pf3D7_01_v3_111635', 'Pf3D7_01_v3_111662', 'Pf3D7_01_v3_111953',\n",
        "       'Pf3D7_01_v3_112119', 'Pf3D7_01_v3_112360', 'Pf3D7_01_v3_112370',\n",
        "       'Pf3D7_01_v3_112463'], \n",
        "      dtype='|S29')"
       ]
      }
     ],
     "prompt_number": 250
    },
    {
     "cell_type": "code",
     "collapsed": false,
     "input": [
      "AF['pass_variable_in_4_0_not_in_ppq'] = AF['4_0'][np.in1d(CHROM_POS['all']['4_0'], CHROM_POS['pass_variable_in_4_0_not_in_ppq'])]"
     ],
     "language": "python",
     "metadata": {},
     "outputs": [],
     "prompt_number": 251
    },
    {
     "cell_type": "code",
     "collapsed": false,
     "input": [
      "hist(AF['pass_variable_in_4_0_not_in_ppq'][np.logical_not(np.isnan(AF['pass_variable_in_4_0_not_in_ppq']))])"
     ],
     "language": "python",
     "metadata": {},
     "outputs": [
      {
       "metadata": {},
       "output_type": "pyout",
       "prompt_number": 252,
       "text": [
        "(array([  3.75830000e+04,   2.19000000e+02,   8.60000000e+01,\n",
        "          4.50000000e+01,   1.20000000e+01,   5.00000000e+00,\n",
        "          5.00000000e+00,   6.00000000e+00,   5.00000000e+00,\n",
        "          2.00000000e+00]),\n",
        " array([ 0.00098425,  0.00390394,  0.00682362,  0.0097433 ,  0.01266299,\n",
        "         0.01558267,  0.01850235,  0.02142204,  0.02434172,  0.0272614 ,\n",
        "         0.03018109]),\n",
        " <a list of 10 Patch objects>)"
       ]
      },
      {
       "metadata": {},
       "output_type": "display_data",
       "png": "[encoded data removed]",
       "text": [
        "<matplotlib.figure.Figure at 0x12636590>"
       ]
      }
     ],
     "prompt_number": 252
    },
    {
     "cell_type": "code",
     "collapsed": false,
     "input": [
      "tabulate(AF['pass_variable_in_4_0_not_in_ppq'] > 0.03)"
     ],
     "language": "python",
     "metadata": {},
     "outputs": [
      {
       "metadata": {},
       "output_type": "pyout",
       "prompt_number": 255,
       "text": [
        "{False: 37967, True: 1}"
       ]
      }
     ],
     "prompt_number": 255
    },
    {
     "cell_type": "code",
     "collapsed": false,
     "input": [
      "tabulate(AF['pass_variable_in_4_0_not_in_ppq'])"
     ],
     "language": "python",
     "metadata": {},
     "outputs": [
      {
       "metadata": {},
       "output_type": "pyout",
       "prompt_number": 258,
       "text": [
        "{0.00098425196850393699: 5,\n",
        " 0.00098619329388560163: 23,\n",
        " 0.00098814229249011851: 63,\n",
        " 0.00099009900990099011: 180,\n",
        " 0.00099206349206349201: 435,\n",
        " 0.00099403578528827028: 865,\n",
        " 0.00099601593625498006: 1408,\n",
        " 0.00099800399201596798: 2119,\n",
        " 0.001: 2651,\n",
        " 0.001002004008016032: 3085,\n",
        " 0.001004016064257028: 3246,\n",
        " 0.001006036217303823: 3087,\n",
        " 0.0010080645161290322: 2815,\n",
        " 0.0010101010101010101: 2414,\n",
        " 0.0010121457489878543: 2119,\n",
        " 0.0010141987829614604: 1698,\n",
        " 0.0010162601626016261: 1383,\n",
        " 0.0010183299389002036: 1107,\n",
        " 0.0010204081632653062: 854,\n",
        " 0.0010224948875255625: 689,\n",
        " 0.0010245901639344263: 607,\n",
        " 0.001026694045174538: 504,\n",
        " 0.00102880658436214: 428,\n",
        " 0.0010309278350515464: 360,\n",
        " 0.0010330578512396695: 311,\n",
        " 0.0010351966873706005: 234,\n",
        " 0.001037344398340249: 221,\n",
        " 0.0010395010395010396: 192,\n",
        " 0.0010416666666666667: 174,\n",
        " 0.0010438413361169101: 161,\n",
        " 0.0010460251046025104: 141,\n",
        " 0.0010482180293501049: 129,\n",
        " 0.0010504201680672268: 113,\n",
        " 0.0010526315789473684: 121,\n",
        " 0.0010548523206751054: 111,\n",
        " 0.0010570824524312897: 78,\n",
        " 0.0010593220338983051: 77,\n",
        " 0.0010615711252653928: 71,\n",
        " 0.0010638297872340426: 65,\n",
        " 0.0010660980810234541: 46,\n",
        " 0.0010683760683760685: 33,\n",
        " 0.0010706638115631692: 44,\n",
        " 0.0010729613733905579: 42,\n",
        " 0.0010752688172043011: 28,\n",
        " 0.0010775862068965517: 36,\n",
        " 0.0010799136069114472: 35,\n",
        " 0.0010822510822510823: 29,\n",
        " 0.0010845986984815619: 20,\n",
        " 0.0010869565217391304: 22,\n",
        " 0.0010893246187363835: 25,\n",
        " 0.0010917030567685589: 31,\n",
        " 0.0010940919037199124: 22,\n",
        " 0.0010964912280701754: 15,\n",
        " 0.0010989010989010989: 23,\n",
        " 0.0011013215859030838: 19,\n",
        " 0.0011037527593818985: 20,\n",
        " 0.0011061946902654867: 13,\n",
        " 0.0011086474501108647: 24,\n",
        " 0.0011111111111111111: 11,\n",
        " 0.0011135857461024498: 18,\n",
        " 0.0011160714285714285: 14,\n",
        " 0.0011185682326621924: 8,\n",
        " 0.0011210762331838565: 12,\n",
        " 0.0011235955056179776: 16,\n",
        " 0.0011261261261261261: 8,\n",
        " 0.001128668171557562: 4,\n",
        " 0.0011312217194570137: 12,\n",
        " 0.0011337868480725624: 9,\n",
        " 0.0011363636363636363: 6,\n",
        " 0.0011389521640091116: 10,\n",
        " 0.0011415525114155251: 9,\n",
        " 0.0011441647597254005: 12,\n",
        " 0.0011467889908256881: 9,\n",
        " 0.0011494252873563218: 12,\n",
        " 0.001152073732718894: 9,\n",
        " 0.0011547344110854503: 7,\n",
        " 0.0011574074074074073: 10,\n",
        " 0.0011600928074245939: 8,\n",
        " 0.0011627906976744186: 5,\n",
        " 0.0011655011655011655: 6,\n",
        " 0.0011682242990654205: 7,\n",
        " 0.00117096018735363: 4,\n",
        " 0.0011737089201877935: 6,\n",
        " 0.001176470588235294: 5,\n",
        " 0.0011792452830188679: 9,\n",
        " 0.0011820330969267139: 1,\n",
        " 0.0011848341232227489: 12,\n",
        " 0.0011876484560570072: 4,\n",
        " 0.0011904761904761906: 4,\n",
        " 0.0011933174224343676: 1,\n",
        " 0.0011961722488038277: 4,\n",
        " 0.001201923076923077: 5,\n",
        " 0.0012048192771084338: 3,\n",
        " 0.0012077294685990338: 1,\n",
        " 0.0012106537530266344: 1,\n",
        " 0.0012165450121654502: 4,\n",
        " 0.0012195121951219512: 1,\n",
        " 0.0012224938875305623: 4,\n",
        " 0.0012254901960784314: 4,\n",
        " 0.0012285012285012285: 2,\n",
        " 0.0012315270935960591: 2,\n",
        " 0.0012345679012345679: 2,\n",
        " 0.0012376237623762376: 1,\n",
        " 0.0012406947890818859: 2,\n",
        " 0.00125: 3,\n",
        " 0.0012531328320802004: 1,\n",
        " 0.0012594458438287153: 1,\n",
        " 0.0012626262626262627: 2,\n",
        " 0.0012658227848101266: 1,\n",
        " 0.0012690355329949238: 4,\n",
        " 0.0012722646310432571: 3,\n",
        " 0.0012755102040816326: 2,\n",
        " 0.0012787723785166241: 4,\n",
        " 0.0012820512820512821: 5,\n",
        " 0.0012853470437017994: 3,\n",
        " 0.001288659793814433: 2,\n",
        " 0.0012953367875647669: 4,\n",
        " 0.0012987012987012987: 2,\n",
        " 0.0013020833333333333: 1,\n",
        " 0.0013089005235602095: 1,\n",
        " 0.0013262599469496021: 1,\n",
        " 0.0013297872340425532: 2,\n",
        " 0.0013333333333333333: 2,\n",
        " 0.0013368983957219251: 1,\n",
        " 0.0013404825737265416: 1,\n",
        " 0.0013440860215053765: 2,\n",
        " 0.0013477088948787063: 3,\n",
        " 0.0013513513513513514: 3,\n",
        " 0.0013550135501355014: 1,\n",
        " 0.001358695652173913: 3,\n",
        " 0.001366120218579235: 1,\n",
        " 0.0013774104683195593: 2,\n",
        " 0.0013812154696132596: 3,\n",
        " 0.0013888888888888889: 2,\n",
        " 0.0013927576601671309: 1,\n",
        " 0.0013966480446927375: 1,\n",
        " 0.0014005602240896359: 1,\n",
        " 0.0014044943820224719: 3,\n",
        " 0.0014084507042253522: 1,\n",
        " 0.0014124293785310734: 1,\n",
        " 0.0014164305949008499: 1,\n",
        " 0.0014285714285714286: 2,\n",
        " 0.0014705882352941176: 1,\n",
        " 0.001483679525222552: 1,\n",
        " 0.001488095238095238: 1,\n",
        " 0.0015060240963855422: 1,\n",
        " 0.0015105740181268882: 3,\n",
        " 0.0015151515151515152: 1,\n",
        " 0.0015197568389057751: 1,\n",
        " 0.0015290519877675841: 2,\n",
        " 0.0015337423312883436: 1,\n",
        " 0.0015384615384615385: 2,\n",
        " 0.0015479876160990713: 2,\n",
        " 0.0015625000000000001: 1,\n",
        " 0.001567398119122257: 2,\n",
        " 0.0015723270440251573: 1,\n",
        " 0.0015822784810126582: 1,\n",
        " 0.0015873015873015873: 1,\n",
        " 0.0015923566878980893: 1,\n",
        " 0.0016129032258064516: 1,\n",
        " 0.0016181229773462784: 1,\n",
        " 0.0016501650165016502: 4,\n",
        " 0.0016722408026755853: 1,\n",
        " 0.0016778523489932886: 1,\n",
        " 0.0016835016835016834: 1,\n",
        " 0.0016949152542372881: 3,\n",
        " 0.0017006802721088435: 1,\n",
        " 0.0017064846416382253: 2,\n",
        " 0.0017123287671232876: 2,\n",
        " 0.001718213058419244: 3,\n",
        " 0.0017301038062283738: 1,\n",
        " 0.0017482517482517483: 1,\n",
        " 0.0017605633802816902: 2,\n",
        " 0.0017667844522968198: 1,\n",
        " 0.0017730496453900709: 2,\n",
        " 0.0017793594306049821: 2,\n",
        " 0.0017857142857142857: 3,\n",
        " 0.0017921146953405018: 3,\n",
        " 0.0017985611510791368: 1,\n",
        " 0.0018050541516245488: 2,\n",
        " 0.0018115942028985507: 1,\n",
        " 0.0018181818181818182: 1,\n",
        " 0.001838235294117647: 1,\n",
        " 0.0018450184501845018: 3,\n",
        " 0.0018518518518518519: 1,\n",
        " 0.0018587360594795538: 5,\n",
        " 0.0018656716417910447: 1,\n",
        " 0.0018726591760299626: 2,\n",
        " 0.0018796992481203006: 3,\n",
        " 0.001893939393939394: 1,\n",
        " 0.0019083969465648854: 2,\n",
        " 0.0019157088122605363: 1,\n",
        " 0.0019305019305019305: 1,\n",
        " 0.001937984496124031: 1,\n",
        " 0.0019455252918287938: 1,\n",
        " 0.001953125: 1,\n",
        " 0.0019723865877712033: 3,\n",
        " 0.001976284584980237: 2,\n",
        " 0.0019801980198019802: 12,\n",
        " 0.001984126984126984: 18,\n",
        " 0.0019880715705765406: 53,\n",
        " 0.0019920318725099601: 89,\n",
        " 0.001996007984031936: 134,\n",
        " 0.002: 155,\n",
        " 0.002004008016032064: 178,\n",
        " 0.002008032128514056: 170,\n",
        " 0.002012072434607646: 185,\n",
        " 0.0020161290322580645: 132,\n",
        " 0.0020202020202020202: 133,\n",
        " 0.0020242914979757085: 103,\n",
        " 0.0020283975659229209: 79,\n",
        " 0.0020325203252032522: 80,\n",
        " 0.0020366598778004071: 43,\n",
        " 0.0020408163265306124: 36,\n",
        " 0.0020449897750511249: 39,\n",
        " 0.0020491803278688526: 38,\n",
        " 0.0020533880903490761: 30,\n",
        " 0.00205761316872428: 24,\n",
        " 0.0020618556701030928: 16,\n",
        " 0.0020661157024793389: 14,\n",
        " 0.002070393374741201: 15,\n",
        " 0.0020746887966804979: 12,\n",
        " 0.0020790020790020791: 9,\n",
        " 0.0020833333333333333: 11,\n",
        " 0.0020876826722338203: 11,\n",
        " 0.0020920502092050207: 10,\n",
        " 0.0020964360587002098: 5,\n",
        " 0.0021008403361344537: 10,\n",
        " 0.0021052631578947368: 1,\n",
        " 0.0021097046413502108: 3,\n",
        " 0.0021141649048625794: 6,\n",
        " 0.0021186440677966102: 3,\n",
        " 0.0021231422505307855: 3,\n",
        " 0.0021276595744680851: 1,\n",
        " 0.0021321961620469083: 2,\n",
        " 0.002136752136752137: 1,\n",
        " 0.0021413276231263384: 6,\n",
        " 0.0021459227467811159: 3,\n",
        " 0.0021505376344086021: 3,\n",
        " 0.0021551724137931034: 2,\n",
        " 0.0021598272138228943: 1,\n",
        " 0.0021645021645021645: 4,\n",
        " 0.0021691973969631237: 1,\n",
        " 0.0021739130434782609: 1,\n",
        " 0.0021786492374727671: 1,\n",
        " 0.0021834061135371178: 2,\n",
        " 0.0021929824561403508: 5,\n",
        " 0.0021978021978021978: 1,\n",
        " 0.0022026431718061676: 1,\n",
        " 0.0022075055187637969: 1,\n",
        " 0.0022123893805309734: 1,\n",
        " 0.0022222222222222222: 1,\n",
        " 0.0022271714922048997: 1,\n",
        " 0.002232142857142857: 2,\n",
        " 0.0022522522522522522: 1,\n",
        " 0.002257336343115124: 1,\n",
        " 0.0022727272727272726: 2,\n",
        " 0.0022779043280182231: 2,\n",
        " 0.0022831050228310501: 1,\n",
        " 0.002304147465437788: 1,\n",
        " 0.0023148148148148147: 2,\n",
        " 0.0023364485981308409: 2,\n",
        " 0.0023474178403755869: 2,\n",
        " 0.0023752969121140144: 1,\n",
        " 0.0023809523809523812: 1,\n",
        " 0.0023980815347721821: 1,\n",
        " 0.0024154589371980675: 1,\n",
        " 0.0024271844660194173: 1,\n",
        " 0.0024509803921568627: 1,\n",
        " 0.0024691358024691358: 1,\n",
        " 0.0024752475247524753: 2,\n",
        " 0.0024875621890547263: 1,\n",
        " 0.0025188916876574307: 1,\n",
        " 0.0026109660574412533: 1,\n",
        " 0.0026246719160104987: 1,\n",
        " 0.0026455026455026454: 1,\n",
        " 0.0026595744680851063: 1,\n",
        " 0.0026737967914438501: 1,\n",
        " 0.0026809651474530832: 1,\n",
        " 0.0026881720430107529: 1,\n",
        " 0.0027397260273972603: 2,\n",
        " 0.0027624309392265192: 2,\n",
        " 0.0027700831024930748: 1,\n",
        " 0.0029498525073746312: 1,\n",
        " 0.0029702970297029703: 1,\n",
        " 0.002976190476190476: 2,\n",
        " 0.002982107355864811: 7,\n",
        " 0.0029880478087649402: 14,\n",
        " 0.0029940119760479044: 17,\n",
        " 0.0030000000000000001: 20,\n",
        " 0.0030060120240480962: 22,\n",
        " 0.0030120481927710845: 18,\n",
        " 0.0030181086519114686: 30,\n",
        " 0.0030241935483870967: 11,\n",
        " 0.0030303030303030303: 23,\n",
        " 0.0030364372469635628: 19,\n",
        " 0.0030425963488843813: 11,\n",
        " 0.0030487804878048782: 5,\n",
        " 0.0030549898167006109: 4,\n",
        " 0.0030612244897959182: 4,\n",
        " 0.0030674846625766872: 7,\n",
        " 0.0030737704918032786: 9,\n",
        " 0.0030800821355236141: 7,\n",
        " 0.0030864197530864196: 2,\n",
        " 0.003092783505154639: 5,\n",
        " 0.003105590062111801: 2,\n",
        " 0.0031120331950207467: 6,\n",
        " 0.0031185031185031187: 4,\n",
        " 0.0031250000000000002: 4,\n",
        " 0.0031315240083507308: 2,\n",
        " 0.0031446540880503146: 3,\n",
        " 0.0031512605042016808: 1,\n",
        " 0.0031645569620253164: 2,\n",
        " 0.0031712473572938688: 1,\n",
        " 0.0031847133757961785: 2,\n",
        " 0.003205128205128205: 1,\n",
        " 0.0032119914346895075: 1,\n",
        " 0.0032258064516129032: 1,\n",
        " 0.0032327586206896551: 1,\n",
        " 0.0032537960954446853: 1,\n",
        " 0.0032608695652173911: 1,\n",
        " 0.0032679738562091504: 1,\n",
        " 0.0033003300330033004: 2,\n",
        " 0.0033112582781456954: 2,\n",
        " 0.0033185840707964601: 1,\n",
        " 0.0033333333333333335: 1,\n",
        " 0.0033482142857142855: 1,\n",
        " 0.0033783783783783786: 1,\n",
        " 0.0033936651583710408: 1,\n",
        " 0.0034013605442176869: 1,\n",
        " 0.0034482758620689655: 2,\n",
        " 0.0034642032332563512: 1,\n",
        " 0.0034965034965034965: 1,\n",
        " 0.0035211267605633804: 1,\n",
        " 0.0035971223021582736: 2,\n",
        " 0.0036231884057971015: 2,\n",
        " 0.0036945812807881772: 1,\n",
        " 0.0037128712871287127: 1,\n",
        " 0.0037313432835820895: 1,\n",
        " 0.0037593984962406013: 1,\n",
        " 0.0037688442211055275: 1,\n",
        " 0.003787878787878788: 1,\n",
        " 0.0038461538461538464: 2,\n",
        " 0.0038910505836575876: 1,\n",
        " 0.0039215686274509803: 1,\n",
        " 0.0039603960396039604: 1,\n",
        " 0.003968253968253968: 4,\n",
        " 0.0039761431411530811: 2,\n",
        " 0.0039840637450199202: 3,\n",
        " 0.0039920159680638719: 9,\n",
        " 0.0040000000000000001: 7,\n",
        " 0.0040080160320641279: 6,\n",
        " 0.0040160642570281121: 5,\n",
        " 0.0040241448692152921: 1,\n",
        " 0.0040322580645161289: 8,\n",
        " 0.0040404040404040404: 5,\n",
        " 0.004048582995951417: 7,\n",
        " 0.0040567951318458417: 4,\n",
        " 0.0040650406504065045: 4,\n",
        " 0.0040733197556008143: 2,\n",
        " 0.0040816326530612249: 1,\n",
        " 0.0040899795501022499: 2,\n",
        " 0.0041067761806981521: 1,\n",
        " 0.00411522633744856: 2,\n",
        " 0.004140786749482402: 2,\n",
        " 0.0041493775933609959: 2,\n",
        " 0.0041580041580041582: 1,\n",
        " 0.0041666666666666666: 2,\n",
        " 0.0041753653444676405: 1,\n",
        " 0.0041841004184100415: 1,\n",
        " 0.0041928721174004195: 3,\n",
        " 0.0042016806722689074: 2,\n",
        " 0.00424929178470255: 1,\n",
        " 0.0042643923240938165: 1,\n",
        " 0.0043763676148796497: 1,\n",
        " 0.0043859649122807015: 1,\n",
        " 0.0044052863436123352: 1,\n",
        " 0.0044543429844097994: 1,\n",
        " 0.0045045045045045045: 1,\n",
        " 0.0045731707317073168: 1,\n",
        " 0.004608294930875576: 1,\n",
        " 0.0046153846153846158: 1,\n",
        " 0.0046296296296296294: 2,\n",
        " 0.0047505938242280287: 1,\n",
        " 0.004830917874396135: 1,\n",
        " 0.0048387096774193551: 1,\n",
        " 0.0049668874172185433: 2,\n",
        " 0.004970178926441352: 1,\n",
        " 0.0049800796812749003: 3,\n",
        " 0.0049900199600798403: 2,\n",
        " 0.0050000000000000001: 2,\n",
        " 0.0050100200400801601: 4,\n",
        " 0.0050200803212851405: 4,\n",
        " 0.0050301810865191147: 5,\n",
        " 0.0050505050505050509: 4,\n",
        " 0.0050607287449392713: 3,\n",
        " 0.0050709939148073022: 1,\n",
        " 0.00508130081300813: 2,\n",
        " 0.0050916496945010185: 1,\n",
        " 0.0051124744376278121: 1,\n",
        " 0.0051229508196721308: 1,\n",
        " 0.0051546391752577319: 2,\n",
        " 0.0051652892561983473: 1,\n",
        " 0.0051867219917012446: 1,\n",
        " 0.005208333333333333: 1,\n",
        " 0.0052192066805845511: 1,\n",
        " 0.0052410901467505244: 1,\n",
        " 0.0052521008403361349: 3,\n",
        " 0.0052742616033755272: 1,\n",
        " 0.0052854122621564482: 1,\n",
        " 0.0053304904051172707: 1,\n",
        " 0.0053533190578158455: 1,\n",
        " 0.0053619302949061663: 1,\n",
        " 0.005434782608695652: 2,\n",
        " 0.0055066079295154188: 1,\n",
        " 0.0055865921787709499: 1,\n",
        " 0.0056053811659192822: 1,\n",
        " 0.0056179775280898875: 3,\n",
        " 0.0056306306306306304: 1,\n",
        " 0.0057077625570776253: 1,\n",
        " 0.0057142857142857143: 1,\n",
        " 0.0057471264367816091: 1,\n",
        " 0.0057803468208092483: 1,\n",
        " 0.0057870370370370367: 1,\n",
        " 0.0058139534883720929: 1,\n",
        " 0.0059288537549407111: 1,\n",
        " 0.0059405940594059407: 1,\n",
        " 0.0059642147117296221: 1,\n",
        " 0.0059760956175298804: 1,\n",
        " 0.0059880239520958087: 1,\n",
        " 0.0060000000000000001: 4,\n",
        " 0.0060120240480961923: 1,\n",
        " 0.006024096385542169: 2,\n",
        " 0.0060362173038229373: 3,\n",
        " 0.0060483870967741934: 4,\n",
        " 0.0060606060606060606: 2,\n",
        " 0.0060728744939271256: 3,\n",
        " 0.0060851926977687626: 3,\n",
        " 0.0060975609756097563: 1,\n",
        " 0.0061099796334012219: 1,\n",
        " 0.0061224489795918364: 1,\n",
        " 0.0061601642710472282: 1,\n",
        " 0.0061881188118811884: 1,\n",
        " 0.0061983471074380167: 1,\n",
        " 0.0062240663900414933: 1,\n",
        " 0.0062370062370062374: 1,\n",
        " 0.0062500000000000003: 3,\n",
        " 0.0062761506276150627: 1,\n",
        " 0.0062814070351758797: 1,\n",
        " 0.0063157894736842104: 1,\n",
        " 0.0063291139240506328: 1,\n",
        " 0.0063938618925831201: 1,\n",
        " 0.0064655172413793103: 1,\n",
        " 0.0065359477124183009: 2,\n",
        " 0.0065616797900262466: 1,\n",
        " 0.0068027210884353739: 1,\n",
        " 0.0068181818181818179: 1,\n",
        " 0.0069721115537848604: 1,\n",
        " 0.0069860279441117763: 3,\n",
        " 0.0070000000000000001: 3,\n",
        " 0.0070140280561122245: 1,\n",
        " 0.0070281124497991966: 1,\n",
        " 0.0070422535211267607: 3,\n",
        " 0.0070564516129032256: 2,\n",
        " 0.0070707070707070711: 1,\n",
        " 0.007099391480730223: 3,\n",
        " 0.0071138211382113818: 1,\n",
        " 0.0071258907363420431: 1,\n",
        " 0.0071283095723014261: 2,\n",
        " 0.0071574642126789366: 1,\n",
        " 0.0071721311475409838: 2,\n",
        " 0.0072164948453608251: 1,\n",
        " 0.007246376811594203: 1,\n",
        " 0.0073068893528183713: 1,\n",
        " 0.0073170731707317077: 1,\n",
        " 0.0073375262054507341: 1,\n",
        " 0.0075107296137339056: 1,\n",
        " 0.007537688442211055: 1,\n",
        " 0.0076923076923076927: 3,\n",
        " 0.0078864353312302835: 1,\n",
        " 0.0079365079365079361: 1,\n",
        " 0.0079522862823061622: 2,\n",
        " 0.0079681274900398405: 1,\n",
        " 0.0079840319361277438: 2,\n",
        " 0.0080160320641282558: 1,\n",
        " 0.0080482897384305842: 2,\n",
        " 0.0080645161290322578: 5,\n",
        " 0.0080971659919028341: 3,\n",
        " 0.0081135902636916835: 2,\n",
        " 0.008130081300813009: 1,\n",
        " 0.0081466395112016286: 1,\n",
        " 0.0081799591002044997: 1,\n",
        " 0.0081967213114754103: 1,\n",
        " 0.00823045267489712: 1,\n",
        " 0.0084269662921348312: 1,\n",
        " 0.0086393088552915772: 1,\n",
        " 0.0086505190311418692: 1,\n",
        " 0.0089108910891089101: 1,\n",
        " 0.0089641434262948214: 1,\n",
        " 0.008988764044943821: 1,\n",
        " 0.0089928057553956831: 1,\n",
        " 0.0089999999999999993: 1,\n",
        " 0.0090180360721442889: 1,\n",
        " 0.0090361445783132526: 3,\n",
        " 0.0091277890466531439: 1,\n",
        " 0.0091463414634146336: 1,\n",
        " 0.0091649694501018328: 1,\n",
        " 0.0091836734693877559: 2,\n",
        " 0.009202453987730062: 2,\n",
        " 0.0092213114754098359: 1,\n",
        " 0.0092783505154639175: 1,\n",
        " 0.0092975206611570251: 1,\n",
        " 0.009316770186335404: 1,\n",
        " 0.0093360995850622405: 1,\n",
        " 0.0095846645367412137: 1,\n",
        " 0.00974025974025974: 1,\n",
        " 0.0098280098280098278: 1,\n",
        " 0.009911894273127754: 1,\n",
        " 0.0099337748344370865: 1,\n",
        " 0.0099403578528827041: 1,\n",
        " 0.01: 4,\n",
        " 0.01002004008016032: 2,\n",
        " 0.01002227171492205: 1,\n",
        " 0.010040160642570281: 1,\n",
        " 0.010060362173038229: 1,\n",
        " 0.010141987829614604: 1,\n",
        " 0.01016260162601626: 1,\n",
        " 0.010245901639344262: 2,\n",
        " 0.010452961672473868: 1,\n",
        " 0.010482180293501049: 2,\n",
        " 0.010666666666666666: 1,\n",
        " 0.010893246187363835: 1,\n",
        " 0.010912698412698412: 2,\n",
        " 0.010948905109489052: 1,\n",
        " 0.011022044088176353: 1,\n",
        " 0.011029411764705883: 1,\n",
        " 0.011088709677419355: 1,\n",
        " 0.011178861788617886: 1,\n",
        " 0.011247443762781187: 1,\n",
        " 0.011293634496919919: 1,\n",
        " 0.011568123393316195: 1,\n",
        " 0.011627906976744186: 1,\n",
        " 0.011682242990654205: 1,\n",
        " 0.011928429423459244: 1,\n",
        " 0.012008733624454149: 1,\n",
        " 0.012048192771084338: 1,\n",
        " 0.012072434607645875: 1,\n",
        " 0.012106537530266344: 1,\n",
        " 0.012121212121212121: 2,\n",
        " 0.012170385395537525: 1,\n",
        " 0.012219959266802444: 1,\n",
        " 0.012244897959183673: 1,\n",
        " 0.012269938650306749: 1,\n",
        " 0.012684989429175475: 1,\n",
        " 0.013078470824949699: 1,\n",
        " 0.013211382113821139: 1,\n",
        " 0.013238289205702648: 1,\n",
        " 0.013292433537832311: 1,\n",
        " 0.014: 1,\n",
        " 0.014028056112224449: 1,\n",
        " 0.014056224899598393: 1,\n",
        " 0.01417004048582996: 1,\n",
        " 0.014314928425357873: 1,\n",
        " 0.015120967741935484: 1,\n",
        " 0.015432098765432098: 1,\n",
        " 0.016096579476861168: 1,\n",
        " 0.016129032258064516: 1,\n",
        " 0.017137096774193547: 1,\n",
        " 0.018036072144288578: 1,\n",
        " 0.018255578093306288: 1,\n",
        " 0.018656716417910446: 1,\n",
        " 0.019: 1,\n",
        " 0.019114688128772636: 1,\n",
        " 0.019650655021834062: 1,\n",
        " 0.02021276595744681: 1,\n",
        " 0.021999999999999999: 1,\n",
        " 0.023046092184368736: 1,\n",
        " 0.023092369477911646: 1,\n",
        " 0.023185483870967742: 1,\n",
        " 0.023728813559322035: 1,\n",
        " 0.023904382470119521: 1,\n",
        " 0.024900398406374501: 1,\n",
        " 0.025050100200400802: 1,\n",
        " 0.025735294117647058: 1,\n",
        " 0.02584493041749503: 1,\n",
        " 0.027056277056277056: 1,\n",
        " 0.028199566160520606: 1,\n",
        " 0.030181086519114688: 1}"
       ]
      }
     ],
     "prompt_number": 258
    },
    {
     "cell_type": "code",
     "collapsed": false,
     "input": [
      "HomAlts['pass_variable_in_4_0_not_in_ppq'] = HomAlts['4_0'][np.in1d(CHROM_POS['all']['4_0'], CHROM_POS['pass_variable_in_4_0_not_in_ppq'])]\n",
      "print tabulate(HomAlts['pass_variable_in_4_0_not_in_ppq'])"
     ],
     "language": "python",
     "metadata": {},
     "outputs": [
      {
       "output_type": "stream",
       "stream": "stdout",
       "text": [
        "{0: 37966, 1: 1, 2: 1}\n"
       ]
      }
     ],
     "prompt_number": 260
    },
    {
     "cell_type": "code",
     "collapsed": false,
     "input": [
      "Hets['pass_variable_in_4_0_not_in_ppq'] = Hets['4_0'][np.in1d(CHROM_POS['all']['4_0'], CHROM_POS['pass_variable_in_4_0_not_in_ppq'])]\n",
      "print tabulate(Hets['pass_variable_in_4_0_not_in_ppq'])"
     ],
     "language": "python",
     "metadata": {},
     "outputs": [
      {
       "output_type": "stream",
       "stream": "stdout",
       "text": [
        "{0: 1, 1: 35381, 2: 1942, 3: 286, 4: 99, 5: 62, 6: 47, 7: 31, 8: 27, 9: 24, 10: 18, 11: 9, 12: 10, 13: 4, 14: 6, 15: 1, 16: 1, 17: 1, 18: 3, 19: 3, 21: 1, 22: 1, 23: 3, 24: 1, 25: 3, 26: 2, 30: 1}\n"
       ]
      }
     ],
     "prompt_number": 262
    },
    {
     "cell_type": "code",
     "collapsed": false,
     "input": [
      "35381.0/37966 "
     ],
     "language": "python",
     "metadata": {},
     "outputs": [
      {
       "metadata": {},
       "output_type": "pyout",
       "prompt_number": 299,
       "text": [
        "0.9319127640520466"
       ]
      }
     ],
     "prompt_number": 299
    },
    {
     "cell_type": "code",
     "collapsed": false,
     "input": [
      "HomAlts['pass_in_4_0_fail_in_ppq'] = HomAlts['4_0'][np.in1d(CHROM_POS['all']['4_0'], common_CHROM_POS['pass_in_4_0_fail_in_ppq'])]\n",
      "print tabulate(HomAlts['pass_in_4_0_fail_in_ppq'])\n",
      "print\n",
      "HomAlts['pass_in_4_0_fail_minalt_in_ppq'] = HomAlts['4_0'][np.in1d(CHROM_POS['all']['4_0'], common_CHROM_POS['pass_in_4_0_fail_minalt_in_ppq'])]\n",
      "print tabulate(HomAlts['pass_in_4_0_fail_minalt_in_ppq'])\n",
      "HomAlts['pass_in_4_0_fail_minalt_in_ppq_ppqgt'] = HomAlts['ppq'][np.in1d(CHROM_POS['all']['ppq'], common_CHROM_POS['pass_in_4_0_fail_minalt_in_ppq'])]\n",
      "print tabulate(HomAlts['pass_in_4_0_fail_minalt_in_ppq_ppqgt'])\n"
     ],
     "language": "python",
     "metadata": {},
     "outputs": [
      {
       "output_type": "stream",
       "stream": "stdout",
       "text": [
        "{0: 10395, 1: 746, 2: 124, 3: 58, 4: 31, 5: 17, 6: 25, 7: 10, 8: 9, 9: 5, 10: 8, 11: 10, 12: 9, 13: 7, 14: 4, 15: 6, 16: 2, 17: 3, 18: 2, 19: 4, 20: 2, 21: 2, 22: 5, 23: 2, 24: 3, 25: 1, 26: 1, 27: 3, 30: 1, 33: 1, 34: 1, 35: 1, 36: 4, 38: 1, 40: 1, 41: 2, 43: 1, 44: 2, 45: 1, 46: 3, 47: 1, 48: 1, 49: 1, 50: 1, 51: 1, 52: 2, 53: 2, 54: 1, 55: 1, 56: 1, 57: 4, 58: 1, 60: 1, 63: 1, 66: 1, 67: 1, 72: 2, 73: 2, 74: 1, 76: 1, 80: 1, 81: 1, 84: 2, 85: 1, 87: 1, 88: 2, 89: 1, 92: 3, 94: 1, 95: 2, 96: 1, 98: 1, 100: 2, 101: 2, 103: 3, 104: 1, 107: 1, 109: 1, 113: 1, 114: 1, 117: 1, 122: 1, 127: 1, 131: 1, 136: 1, 138: 1, 141: 1, 144: 1, 148: 1, 149: 3, 150: 1, 152: 1, 156: 1, 158: 1, 160: 1, 163: 1, 172: 1, 175: 1, 183: 1, 184: 1, 187: 1, 190: 1, 192: 1, 193: 1, 196: 1, 203: 1, 205: 1, 207: 1, 229: 1, 230: 1, 241: 1, 244: 1, 274: 1, 286: 1, 288: 1, 291: 1, 297: 1, 301: 1, 311: 1, 328: 1, 331: 1, 332: 1, 335: 2, 337: 2, 338: 1, 339: 1, 347: 1, 348: 1, 355: 1, 373: 1, 376: 1, 377: 2, 378: 1, 379: 1, 383: 1, 389: 1, 391: 1, 395: 1, 402: 1, 405: 1, 415: 1, 416: 1, 417: 1, 418: 1, 419: 2, 423: 1, 427: 1, 433: 1, 435: 1, 436: 1, 442: 1, 444: 1, 445: 1, 446: 2, 449: 2, 452: 2, 453: 1, 454: 3, 455: 2, 457: 5, 458: 1, 459: 2, 460: 1, 461: 1, 462: 1, 463: 4, 464: 1, 465: 3, 466: 5, 467: 7, 468: 5, 469: 6, 470: 4, 471: 3, 472: 8, 473: 8, 474: 4, 475: 12, 476: 7, 477: 5, 478: 4, 479: 9, 480: 9, 481: 11, 482: 14, 483: 10, 484: 13, 485: 21, 486: 23, 487: 30, 488: 33, 489: 32, 490: 42, 491: 59, 492: 67, 493: 66, 494: 87, 495: 96, 496: 97, 497: 86, 498: 60, 499: 54, 500: 40, 501: 20, 502: 22, 503: 9, 504: 6, 505: 1, 506: 1}\n",
        "\n",
        "{0: 9752, 1: 675, 2: 87, 3: 35, 4: 18, 5: 5, 6: 4, 7: 5, 8: 1, 10: 1, 11: 2, 12: 1, 16: 1, 127: 1, 149: 1, 187: 1, 229: 1, 230: 1, 297: 1, 335: 1, 347: 1, 348: 1, 355: 1, 376: 1, 377: 2, 378: 1, 379: 1, 383: 1, 395: 1, 405: 1, 415: 1, 416: 1, 417: 1, 418: 1, 419: 2, 423: 1, 427: 1, 433: 1, 435: 1, 436: 1, 442: 1, 444: 1, 445: 1, 446: 2, 449: 2, 452: 2, 453: 1, 454: 3, 455: 2, 457: 5, 458: 1, 459: 2, 460: 1, 461: 1, 462: 1, 463: 4, 464: 1, 465: 3, 466: 5, 467: 7, 468: 5, 469: 6, 470: 4, 471: 3, 472: 8, 473: 8, 474: 4, 475: 12, 476: 7, 477: 5, 478: 4, 479: 9, 480: 9, 481: 11, 482: 14, 483: 10, 484: 13, 485: 21, 486: 23, 487: 30, 488: 33, 489: 32, 490: 42, 491: 59, 492: 67, 493: 66, 494: 87, 495: 96, 496: 97, 497: 86, 498: 60, 499: 54, 500: 40, 501: 20, 502: 22, 503: 9, 504: 6, 505: 1, 506: 1}"
       ]
      },
      {
       "output_type": "stream",
       "stream": "stdout",
       "text": [
        "\n",
        "{0: 9808, 1: 650, 2: 71, 3: 34, 4: 11, 5: 3, 6: 4, 7: 2, 8: 2, 10: 1, 11: 1, 12: 1, 122: 1, 148: 1, 188: 1, 229: 2, 295: 1, 325: 1, 331: 1, 348: 1, 354: 1, 371: 1, 374: 1, 375: 1, 377: 1, 378: 1, 382: 1, 393: 1, 403: 2, 413: 2, 415: 2, 418: 1, 419: 1, 425: 1, 426: 1, 427: 1, 431: 2, 439: 1, 441: 2, 444: 2, 447: 2, 449: 2, 451: 2, 452: 1, 453: 1, 454: 5, 455: 3, 457: 2, 458: 2, 459: 1, 460: 2, 461: 2, 462: 1, 463: 3, 464: 6, 465: 5, 466: 5, 467: 6, 468: 5, 469: 4, 470: 8, 471: 5, 472: 6, 473: 6, 474: 7, 475: 6, 476: 5, 477: 5, 478: 7, 479: 13, 480: 8, 481: 11, 482: 12, 483: 14, 484: 13, 485: 24, 486: 28, 487: 21, 488: 33, 489: 35, 490: 47, 491: 54, 492: 80, 493: 70, 494: 80, 495: 88, 496: 90, 497: 85, 498: 64, 499: 45, 500: 35, 501: 21, 502: 22, 503: 8, 504: 5, 505: 1, 506: 1}"
       ]
      },
      {
       "output_type": "stream",
       "stream": "stdout",
       "text": [
        "\n"
       ]
      }
     ],
     "prompt_number": 286
    },
    {
     "cell_type": "code",
     "collapsed": false,
     "input": [
      "Hets['pass_in_4_0_fail_minalt_in_ppq'] = Hets['4_0'][np.in1d(CHROM_POS['all']['4_0'], common_CHROM_POS['pass_in_4_0_fail_minalt_in_ppq'])]\n",
      "print tabulate(Hets['pass_in_4_0_fail_minalt_in_ppq'])\n",
      "print tabulate(Hets['pass_in_4_0_fail_minalt_in_ppq'] > 0)\n"
     ],
     "language": "python",
     "metadata": {},
     "outputs": [
      {
       "output_type": "stream",
       "stream": "stdout",
       "text": [
        "{0: 7553, 1: 2833, 2: 623, 3: 234, 4: 128, 5: 88, 6: 66, 7: 49, 8: 48, 9: 30, 10: 24, 11: 17, 12: 20, 13: 8, 14: 5, 15: 4, 16: 7, 17: 4, 18: 1, 19: 1, 21: 1, 24: 1, 28: 1}\n",
        "{False: 7553, True: 4193}\n"
       ]
      }
     ],
     "prompt_number": 289
    },
    {
     "cell_type": "code",
     "collapsed": false,
     "input": [
      "print tabulate(HomAlts['pass_in_4_0_fail_minalt_in_ppq'] > 0)\n"
     ],
     "language": "python",
     "metadata": {},
     "outputs": [
      {
       "output_type": "stream",
       "stream": "stdout",
       "text": [
        "{False: 9752, True: 1994}\n"
       ]
      }
     ],
     "prompt_number": 290
    },
    {
     "cell_type": "code",
     "collapsed": false,
     "input": [
      "hist(AF['ppq'][np.logical_not(np.isnan(AF['ppq']))])"
     ],
     "language": "python",
     "metadata": {},
     "outputs": [
      {
       "metadata": {},
       "output_type": "pyout",
       "prompt_number": 228,
       "text": [
        "(array([ 645042.,   41918.,   21807.,   13188.,    8876.,    6797.,\n",
        "           4420.,    3550.,    3388.,   11927.]),\n",
        " array([ 0. ,  0.1,  0.2,  0.3,  0.4,  0.5,  0.6,  0.7,  0.8,  0.9,  1. ]),\n",
        " <a list of 10 Patch objects>)"
       ]
      },
      {
       "metadata": {},
       "output_type": "display_data",
       "png": "[encoded data removed]",
       "text": [
        "<matplotlib.figure.Figure at 0x11bb9d10>"
       ]
      }
     ],
     "prompt_number": 228
    },
    {
     "cell_type": "code",
     "collapsed": false,
     "input": [
      "tabulate(AF['ppq'][np.logical_not(np.isnan(AF['ppq']))] == 0.0)"
     ],
     "language": "python",
     "metadata": {},
     "outputs": [
      {
       "metadata": {},
       "output_type": "pyout",
       "prompt_number": 229,
       "text": [
        "{False: 446262, True: 314651}"
       ]
      }
     ],
     "prompt_number": 229
    },
    {
     "cell_type": "code",
     "collapsed": false,
     "input": [
      "tabulate(AF['ppq'] > 0.0)"
     ],
     "language": "python",
     "metadata": {},
     "outputs": [
      {
       "output_type": "stream",
       "stream": "stderr",
       "text": [
        "-c:1: RuntimeWarning: invalid value encountered in greater\n"
       ]
      },
      {
       "metadata": {},
       "output_type": "pyout",
       "prompt_number": 230,
       "text": [
        "{False: 328303, True: 446262}"
       ]
      }
     ],
     "prompt_number": 230
    },
    {
     "cell_type": "code",
     "collapsed": false,
     "input": [
      "len(AF['ppq'])"
     ],
     "language": "python",
     "metadata": {},
     "outputs": [
      {
       "metadata": {},
       "output_type": "pyout",
       "prompt_number": 231,
       "text": [
        "774565"
       ]
      }
     ],
     "prompt_number": 231
    },
    {
     "cell_type": "code",
     "collapsed": false,
     "input": [
      "AF['ppq'][0:100]"
     ],
     "language": "python",
     "metadata": {},
     "outputs": [
      {
       "metadata": {},
       "output_type": "pyout",
       "prompt_number": 226,
       "text": [
        "array([ 0.        ,  0.        ,  0.        ,  0.        ,  0.16666667,\n",
        "        0.11111111,  0.        ,  0.        ,  0.15384615,  0.02777778,\n",
        "        0.025     ,  0.20454545,  0.13461538,  0.01666667,  0.075     ,\n",
        "        0.04166667,  0.        ,  0.09375   ,  0.75      ,  0.05882353,\n",
        "        0.05555556,  0.        ,  0.        ,  0.        ,  0.        ,\n",
        "        0.        ,  0.        ,  0.        ,  0.25      ,  0.        ,\n",
        "        0.        ,  0.        ,  0.25      ,  0.125     ,  0.        ,\n",
        "        0.1       ,  0.        ,  0.07692308,  0.04166667,  0.        ,\n",
        "        0.03125   ,  0.        ,  0.        ,  0.        ,  0.14285714,\n",
        "        0.01724138,  0.03125   ,  0.16176471,  0.19565217,  0.01754386,\n",
        "        0.14814815,  0.18627451,  0.13888889,  0.04098361,  0.06349206,\n",
        "        0.13934426,  0.05555556,  0.09821429,  0.2       ,  0.02941176,\n",
        "        0.        ,  0.        ,  0.02      ,  0.10526316,  0.08      ,\n",
        "        0.06      ,  0.06521739,  0.34375   ,  0.025     ,  0.        ,\n",
        "        0.        ,  0.        ,  0.08333333,  0.        ,  0.        ,\n",
        "        0.16666667,         nan,         nan,         nan,         nan,\n",
        "               nan,         nan,         nan,         nan,  0.        ,\n",
        "        0.        ,  0.        ,  0.        ,  0.03225806,  1.        ,\n",
        "        0.125     ,  0.        ,  0.        ,  0.02739726,  0.35958904,\n",
        "        0.        ,  0.04187192,  0.00487805,  0.03846154,  0.        ])"
       ]
      }
     ],
     "prompt_number": 226
    },
    {
     "cell_type": "heading",
     "level": 1,
     "metadata": {},
     "source": [
      "Duplicates analysis"
     ]
    },
    {
     "cell_type": "code",
     "collapsed": false,
     "input": [
      "def homozgousCalls(gt_1, gt_2):\n",
      "    return np.count_nonzero(in1d(gt_1, np.array([1, 3])) & in1d(gt_2, np.array([1, 3])))\n",
      "\n",
      "def homozgousDiscordances(gt_1, gt_2):\n",
      "    return np.count_nonzero(((gt_1 == 1) & (gt_2 == 3)) | ((gt_1 == 3) & (gt_2 == 1)))\n",
      "\n",
      "def cleanCallDiscordances(gt, samples1, samples2):\n",
      "    discordantCalls = (\n",
      "        ((gt[:,samples1] == 1) & (gt[:,samples2] == 3)) |\n",
      "        ((gt[:,samples1] == 3) & (gt[:,samples2] == 1))\n",
      "    )\n",
      "    return discordantCalls\n"
     ],
     "language": "python",
     "metadata": {},
     "outputs": [
      {
       "output_type": "stream",
       "stream": "stdout",
       "text": [
        "\n"
       ]
      }
     ],
     "prompt_number": 87
    },
    {
     "cell_type": "code",
     "collapsed": false,
     "input": [
      "print shape(GT['ppq_all'])\n",
      "print shape(V['ppq'])\n",
      "print tabulate(V['ppq']['FILTER']['PASS'])"
     ],
     "language": "python",
     "metadata": {},
     "outputs": [
      {
       "output_type": "stream",
       "stream": "stdout",
       "text": [
        "(774565, 597)\n",
        "(774565,)\n",
        "{False: 715918, True: 58647}"
       ]
      },
      {
       "output_type": "stream",
       "stream": "stdout",
       "text": [
        "\n"
       ]
      }
     ],
     "prompt_number": 90
    },
    {
     "cell_type": "code",
     "collapsed": false,
     "input": [
      "ppq_hom_calls_matrix = scipy.spatial.distance.squareform(scipy.spatial.distance.pdist(GT['ppq_all'][V['ppq']['FILTER']['PASS']].T, homozgousCalls))\n",
      "ppq_hom_discordances_matrix = scipy.spatial.distance.squareform(scipy.spatial.distance.pdist(GT['ppq_all'][V['ppq']['FILTER']['PASS']].T, homozgousDiscordances))\n"
     ],
     "language": "python",
     "metadata": {},
     "outputs": [],
     "prompt_number": 93
    },
    {
     "cell_type": "code",
     "collapsed": false,
     "input": [
      "print shape(ppq_hom_calls_matrix)\n",
      "print shape(ppq_hom_discordances_matrix)"
     ],
     "language": "python",
     "metadata": {},
     "outputs": [
      {
       "output_type": "stream",
       "stream": "stdout",
       "text": [
        "(597, 597)\n",
        "(597, 597)\n"
       ]
      }
     ],
     "prompt_number": 94
    },
    {
     "cell_type": "code",
     "collapsed": false,
     "input": [
      "ppq_prop_hom_calls_discordant_matrix = ppq_hom_discordances_matrix/ppq_hom_calls_matrix\n"
     ],
     "language": "python",
     "metadata": {},
     "outputs": [
      {
       "output_type": "stream",
       "stream": "stderr",
       "text": [
        "-c:1: RuntimeWarning: invalid value encountered in divide\n"
       ]
      }
     ],
     "prompt_number": 95
    },
    {
     "cell_type": "markdown",
     "metadata": {},
     "source": []
    },
    {
     "cell_type": "code",
     "collapsed": false,
     "input": [
      "number_nonmissing_per_sample = np.apply_along_axis(\n",
      "    lambda x: np.count_nonzero(in1d(x, np.array([1, 2, 3]))),\n",
      "    0,\n",
      "    GT['ppq_all'][V['ppq']['FILTER']['PASS']]\n",
      ")"
     ],
     "language": "python",
     "metadata": {},
     "outputs": [],
     "prompt_number": 113
    },
    {
     "cell_type": "code",
     "collapsed": false,
     "input": [
      "hist(number_nonmissing_per_sample, bins=arange(0, 60000, 100))"
     ],
     "language": "python",
     "metadata": {},
     "outputs": [
      {
       "metadata": {},
       "output_type": "pyout",
       "prompt_number": 115,
       "text": [
        "(array([ 20.,   1.,   0.,   1.,   0.,   0.,   1.,   0.,   1.,   3.,   0.,\n",
        "          0.,   0.,   0.,   0.,   0.,   0.,   0.,   0.,   0.,   0.,   0.,\n",
        "          0.,   1.,   0.,   1.,   0.,   0.,   1.,   0.,   1.,   0.,   0.,\n",
        "          0.,   0.,   0.,   0.,   0.,   0.,   0.,   0.,   0.,   0.,   0.,\n",
        "          0.,   0.,   0.,   0.,   0.,   0.,   0.,   0.,   0.,   1.,   0.,\n",
        "          0.,   0.,   0.,   0.,   0.,   0.,   0.,   0.,   0.,   0.,   0.,\n",
        "          0.,   0.,   0.,   0.,   0.,   0.,   0.,   0.,   1.,   0.,   0.,\n",
        "          0.,   0.,   0.,   0.,   0.,   0.,   1.,   0.,   1.,   1.,   0.,\n",
        "          0.,   0.,   0.,   0.,   0.,   0.,   0.,   0.,   1.,   0.,   0.,\n",
        "          0.,   0.,   0.,   0.,   0.,   1.,   0.,   0.,   0.,   0.,   0.,\n",
        "          0.,   0.,   0.,   0.,   0.,   0.,   0.,   0.,   0.,   0.,   0.,\n",
        "          0.,   0.,   0.,   0.,   0.,   0.,   0.,   0.,   0.,   0.,   0.,\n",
        "          1.,   0.,   0.,   0.,   0.,   0.,   0.,   1.,   0.,   0.,   0.,\n",
        "          0.,   0.,   1.,   0.,   0.,   0.,   1.,   0.,   0.,   0.,   0.,\n",
        "          1.,   0.,   0.,   0.,   0.,   0.,   0.,   0.,   0.,   0.,   1.,\n",
        "          0.,   0.,   0.,   0.,   0.,   0.,   0.,   0.,   0.,   0.,   0.,\n",
        "          0.,   0.,   0.,   0.,   0.,   0.,   0.,   0.,   0.,   0.,   0.,\n",
        "          0.,   0.,   0.,   0.,   0.,   0.,   1.,   0.,   1.,   0.,   0.,\n",
        "          0.,   0.,   0.,   0.,   0.,   0.,   1.,   0.,   1.,   0.,   1.,\n",
        "          0.,   0.,   0.,   0.,   0.,   0.,   1.,   0.,   0.,   0.,   0.,\n",
        "          0.,   0.,   0.,   0.,   1.,   0.,   0.,   0.,   0.,   0.,   0.,\n",
        "          0.,   0.,   0.,   0.,   0.,   0.,   1.,   0.,   0.,   1.,   0.,\n",
        "          0.,   0.,   0.,   0.,   0.,   0.,   0.,   0.,   0.,   0.,   0.,\n",
        "          0.,   0.,   0.,   0.,   0.,   0.,   0.,   0.,   0.,   0.,   0.,\n",
        "          0.,   0.,   0.,   1.,   0.,   0.,   1.,   0.,   0.,   1.,   0.,\n",
        "          0.,   0.,   0.,   0.,   0.,   0.,   0.,   0.,   0.,   0.,   0.,\n",
        "          0.,   0.,   0.,   1.,   0.,   0.,   0.,   0.,   1.,   1.,   0.,\n",
        "          1.,   0.,   0.,   0.,   0.,   0.,   0.,   0.,   0.,   0.,   0.,\n",
        "          0.,   0.,   0.,   0.,   0.,   0.,   0.,   1.,   0.,   0.,   0.,\n",
        "          0.,   0.,   0.,   0.,   0.,   0.,   0.,   1.,   0.,   0.,   0.,\n",
        "          0.,   0.,   0.,   0.,   0.,   0.,   0.,   0.,   0.,   0.,   0.,\n",
        "          1.,   0.,   0.,   0.,   0.,   0.,   0.,   0.,   0.,   0.,   0.,\n",
        "          1.,   1.,   0.,   0.,   0.,   1.,   1.,   1.,   0.,   0.,   0.,\n",
        "          0.,   0.,   0.,   0.,   0.,   0.,   0.,   0.,   1.,   0.,   0.,\n",
        "          0.,   0.,   0.,   0.,   0.,   2.,   0.,   0.,   0.,   0.,   0.,\n",
        "          0.,   0.,   0.,   0.,   0.,   1.,   0.,   1.,   0.,   0.,   0.,\n",
        "          0.,   0.,   1.,   0.,   0.,   0.,   0.,   0.,   0.,   0.,   1.,\n",
        "          0.,   0.,   0.,   0.,   0.,   0.,   0.,   0.,   1.,   0.,   0.,\n",
        "          0.,   0.,   0.,   0.,   0.,   1.,   1.,   0.,   1.,   0.,   1.,\n",
        "          0.,   1.,   0.,   0.,   0.,   0.,   0.,   0.,   0.,   0.,   0.,\n",
        "          0.,   0.,   1.,   0.,   0.,   2.,   0.,   0.,   0.,   0.,   2.,\n",
        "          1.,   1.,   0.,   0.,   0.,   0.,   0.,   0.,   1.,   1.,   1.,\n",
        "          0.,   0.,   0.,   0.,   0.,   1.,   0.,   0.,   1.,   1.,   1.,\n",
        "          0.,   0.,   0.,   0.,   0.,   0.,   0.,   0.,   1.,   0.,   0.,\n",
        "          0.,   1.,   0.,   2.,   0.,   0.,   1.,   0.,   1.,   1.,   0.,\n",
        "          1.,   0.,   1.,   1.,   1.,   0.,   1.,   0.,   0.,   0.,   0.,\n",
        "          2.,   0.,   3.,   0.,   0.,   0.,   2.,   0.,   0.,   0.,   0.,\n",
        "          0.,   0.,   2.,   1.,   1.,   0.,   0.,   0.,   1.,   1.,   1.,\n",
        "          3.,   0.,   1.,   1.,   2.,   2.,   3.,   1.,   1.,   1.,   0.,\n",
        "          0.,   2.,   1.,   2.,   1.,   0.,   0.,   2.,   3.,   0.,   1.,\n",
        "          3.,   3.,   2.,   3.,   1.,   0.,   4.,   6.,   4.,   6.,   4.,\n",
        "          7.,   5.,   7.,   8.,   5.,   6.,  13.,  11.,  13.,  22.,  19.,\n",
        "         21.,  32.,  38.,  29.,  41.,  32.,  30.,  26.,  20.,  14.,  10.,\n",
        "          2.,   2.,   0.,   0.,   0.,   0.,   0.,   0.,   0.,   0.,   0.,\n",
        "          0.,   0.,   0.,   0.,   0.]),\n",
        " array([    0,   100,   200,   300,   400,   500,   600,   700,   800,\n",
        "          900,  1000,  1100,  1200,  1300,  1400,  1500,  1600,  1700,\n",
        "         1800,  1900,  2000,  2100,  2200,  2300,  2400,  2500,  2600,\n",
        "         2700,  2800,  2900,  3000,  3100,  3200,  3300,  3400,  3500,\n",
        "         3600,  3700,  3800,  3900,  4000,  4100,  4200,  4300,  4400,\n",
        "         4500,  4600,  4700,  4800,  4900,  5000,  5100,  5200,  5300,\n",
        "         5400,  5500,  5600,  5700,  5800,  5900,  6000,  6100,  6200,\n",
        "         6300,  6400,  6500,  6600,  6700,  6800,  6900,  7000,  7100,\n",
        "         7200,  7300,  7400,  7500,  7600,  7700,  7800,  7900,  8000,\n",
        "         8100,  8200,  8300,  8400,  8500,  8600,  8700,  8800,  8900,\n",
        "         9000,  9100,  9200,  9300,  9400,  9500,  9600,  9700,  9800,\n",
        "         9900, 10000, 10100, 10200, 10300, 10400, 10500, 10600, 10700,\n",
        "        10800, 10900, 11000, 11100, 11200, 11300, 11400, 11500, 11600,\n",
        "        11700, 11800, 11900, 12000, 12100, 12200, 12300, 12400, 12500,\n",
        "        12600, 12700, 12800, 12900, 13000, 13100, 13200, 13300, 13400,\n",
        "        13500, 13600, 13700, 13800, 13900, 14000, 14100, 14200, 14300,\n",
        "        14400, 14500, 14600, 14700, 14800, 14900, 15000, 15100, 15200,\n",
        "        15300, 15400, 15500, 15600, 15700, 15800, 15900, 16000, 16100,\n",
        "        16200, 16300, 16400, 16500, 16600, 16700, 16800, 16900, 17000,\n",
        "        17100, 17200, 17300, 17400, 17500, 17600, 17700, 17800, 17900,\n",
        "        18000, 18100, 18200, 18300, 18400, 18500, 18600, 18700, 18800,\n",
        "        18900, 19000, 19100, 19200, 19300, 19400, 19500, 19600, 19700,\n",
        "        19800, 19900, 20000, 20100, 20200, 20300, 20400, 20500, 20600,\n",
        "        20700, 20800, 20900, 21000, 21100, 21200, 21300, 21400, 21500,\n",
        "        21600, 21700, 21800, 21900, 22000, 22100, 22200, 22300, 22400,\n",
        "        22500, 22600, 22700, 22800, 22900, 23000, 23100, 23200, 23300,\n",
        "        23400, 23500, 23600, 23700, 23800, 23900, 24000, 24100, 24200,\n",
        "        24300, 24400, 24500, 24600, 24700, 24800, 24900, 25000, 25100,\n",
        "        25200, 25300, 25400, 25500, 25600, 25700, 25800, 25900, 26000,\n",
        "        26100, 26200, 26300, 26400, 26500, 26600, 26700, 26800, 26900,\n",
        "        27000, 27100, 27200, 27300, 27400, 27500, 27600, 27700, 27800,\n",
        "        27900, 28000, 28100, 28200, 28300, 28400, 28500, 28600, 28700,\n",
        "        28800, 28900, 29000, 29100, 29200, 29300, 29400, 29500, 29600,\n",
        "        29700, 29800, 29900, 30000, 30100, 30200, 30300, 30400, 30500,\n",
        "        30600, 30700, 30800, 30900, 31000, 31100, 31200, 31300, 31400,\n",
        "        31500, 31600, 31700, 31800, 31900, 32000, 32100, 32200, 32300,\n",
        "        32400, 32500, 32600, 32700, 32800, 32900, 33000, 33100, 33200,\n",
        "        33300, 33400, 33500, 33600, 33700, 33800, 33900, 34000, 34100,\n",
        "        34200, 34300, 34400, 34500, 34600, 34700, 34800, 34900, 35000,\n",
        "        35100, 35200, 35300, 35400, 35500, 35600, 35700, 35800, 35900,\n",
        "        36000, 36100, 36200, 36300, 36400, 36500, 36600, 36700, 36800,\n",
        "        36900, 37000, 37100, 37200, 37300, 37400, 37500, 37600, 37700,\n",
        "        37800, 37900, 38000, 38100, 38200, 38300, 38400, 38500, 38600,\n",
        "        38700, 38800, 38900, 39000, 39100, 39200, 39300, 39400, 39500,\n",
        "        39600, 39700, 39800, 39900, 40000, 40100, 40200, 40300, 40400,\n",
        "        40500, 40600, 40700, 40800, 40900, 41000, 41100, 41200, 41300,\n",
        "        41400, 41500, 41600, 41700, 41800, 41900, 42000, 42100, 42200,\n",
        "        42300, 42400, 42500, 42600, 42700, 42800, 42900, 43000, 43100,\n",
        "        43200, 43300, 43400, 43500, 43600, 43700, 43800, 43900, 44000,\n",
        "        44100, 44200, 44300, 44400, 44500, 44600, 44700, 44800, 44900,\n",
        "        45000, 45100, 45200, 45300, 45400, 45500, 45600, 45700, 45800,\n",
        "        45900, 46000, 46100, 46200, 46300, 46400, 46500, 46600, 46700,\n",
        "        46800, 46900, 47000, 47100, 47200, 47300, 47400, 47500, 47600,\n",
        "        47700, 47800, 47900, 48000, 48100, 48200, 48300, 48400, 48500,\n",
        "        48600, 48700, 48800, 48900, 49000, 49100, 49200, 49300, 49400,\n",
        "        49500, 49600, 49700, 49800, 49900, 50000, 50100, 50200, 50300,\n",
        "        50400, 50500, 50600, 50700, 50800, 50900, 51000, 51100, 51200,\n",
        "        51300, 51400, 51500, 51600, 51700, 51800, 51900, 52000, 52100,\n",
        "        52200, 52300, 52400, 52500, 52600, 52700, 52800, 52900, 53000,\n",
        "        53100, 53200, 53300, 53400, 53500, 53600, 53700, 53800, 53900,\n",
        "        54000, 54100, 54200, 54300, 54400, 54500, 54600, 54700, 54800,\n",
        "        54900, 55000, 55100, 55200, 55300, 55400, 55500, 55600, 55700,\n",
        "        55800, 55900, 56000, 56100, 56200, 56300, 56400, 56500, 56600,\n",
        "        56700, 56800, 56900, 57000, 57100, 57200, 57300, 57400, 57500,\n",
        "        57600, 57700, 57800, 57900, 58000, 58100, 58200, 58300, 58400,\n",
        "        58500, 58600, 58700, 58800, 58900, 59000, 59100, 59200, 59300,\n",
        "        59400, 59500, 59600, 59700, 59800, 59900]),\n",
        " <a list of 599 Patch objects>)"
       ]
      },
      {
       "metadata": {},
       "output_type": "display_data",
       "png": "[encoded data removed]",
       "text": [
        "<matplotlib.figure.Figure at 0xed65b10>"
       ]
      }
     ],
     "prompt_number": 115
    },
    {
     "cell_type": "code",
     "collapsed": false,
     "input": [
      "well_covered_samples = (number_nonmissing_per_sample > (np.sum(V['ppq']['FILTER']['PASS']) / 2))\n",
      "print tabulate(well_covered_samples)\n",
      "well_covered_sample_ids = samplesInVcf['ppq'][well_covered_samples]\n",
      "print len(well_covered_sample_ids)\n",
      "print well_covered_sample_ids[0:10]"
     ],
     "language": "python",
     "metadata": {},
     "outputs": [
      {
       "output_type": "stream",
       "stream": "stdout",
       "text": [
        "{False: 57, True: 540}\n",
        "540\n",
        "['PH1037-C' 'PH1050-C' 'PH1051-C' 'PH1058-C' 'PH1064-C' 'PH1065-C'\n",
        " 'PH1145-C' 'PH1152-C' 'PH1155-C' 'PH1158-C']\n"
       ]
      }
     ],
     "prompt_number": 125
    },
    {
     "cell_type": "code",
     "collapsed": false,
     "input": [
      "ppq_prop_hom_calls_discordant_matrix_well_covered = ppq_prop_hom_calls_discordant_matrix[well_covered_samples, :][:, well_covered_samples]\n",
      "print shape(ppq_prop_hom_calls_discordant_matrix_well_covered)"
     ],
     "language": "python",
     "metadata": {},
     "outputs": [
      {
       "output_type": "stream",
       "stream": "stdout",
       "text": [
        "(540, 540)\n"
       ]
      }
     ],
     "prompt_number": 120
    },
    {
     "cell_type": "code",
     "collapsed": false,
     "input": [
      "def exact_matches(ox_code = 'PH0476-C', max_diff = 0.0):\n",
      "    return well_covered_sample_ids[ppq_prop_hom_calls_discordant_matrix_well_covered[well_covered_sample_ids == ox_code, :][0, :] <= max_diff]\n",
      "print exact_matches()\n",
      "print exact_matches('PH0255-C')\n",
      "print exact_matches('PH0262-CW')\n",
      "print exact_matches('PH0262-CW', 0.005)\n",
      "print\n",
      "print 'PH0477-C', exact_matches('PH0477-C')\n",
      "print 'PH0478-C', exact_matches('PH0478-C')\n",
      "print 'PH0478-C', exact_matches('PH0478-C', 0.005)\n",
      "\n",
      "    "
     ],
     "language": "python",
     "metadata": {},
     "outputs": [
      {
       "output_type": "stream",
       "stream": "stdout",
       "text": [
        "['PH0255-C' 'PH0267-C' 'PH0270-C' 'PH0282-C' 'PH0288-C' 'PH0303-CW'\n",
        " 'PH0477-C']\n",
        "['PH0267-C' 'PH0270-C' 'PH0282-C' 'PH0288-C' 'PH0303-CW' 'PH0476-C'\n",
        " 'PH0477-C']\n",
        "[]\n",
        "['PH0304-C']\n",
        "\n",
        "PH0477-C ['PH0255-C' 'PH0267-C' 'PH0270-C' 'PH0282-C' 'PH0288-C' 'PH0303-CW'\n",
        " 'PH0476-C']\n",
        "PH0478-C []\n",
        "PH0478-C ['PH0321-C']\n"
       ]
      }
     ],
     "prompt_number": 149
    },
    {
     "cell_type": "code",
     "collapsed": false,
     "input": [
      "print 'PH0260-CW', exact_matches('PH0260-CW')\n",
      "print 'PH0277-CW', exact_matches('PH0277-CW')\n",
      "print 'PH0278-CW', exact_matches('PH0278-CW')\n"
     ],
     "language": "python",
     "metadata": {},
     "outputs": [
      {
       "output_type": "stream",
       "stream": "stdout",
       "text": [
        "PH0260-CW ['PH0471-C' 'PH0294-C']\n",
        "PH0277-CW ['PH0296-C' 'PH0535-C']\n",
        "PH0278-CW ['PH0263-C']\n"
       ]
      }
     ],
     "prompt_number": 183
    },
    {
     "cell_type": "code",
     "collapsed": false,
     "input": [
      "well_covered_sample_ids[ppq_prop_hom_calls_discordant_matrix_well_covered[well_covered_sample_ids == 'PH0476-C', :][0, :] == 0.0]"
     ],
     "language": "python",
     "metadata": {},
     "outputs": [
      {
       "metadata": {},
       "output_type": "pyout",
       "prompt_number": 130,
       "text": [
        "array(['PH0255-C', 'PH0267-C', 'PH0270-C', 'PH0282-C', 'PH0288-C',\n",
        "       'PH0303-CW', 'PH0477-C'], \n",
        "      dtype='|S9')"
       ]
      }
     ],
     "prompt_number": 130
    },
    {
     "cell_type": "code",
     "collapsed": false,
     "input": [
      "[ppq_prop_hom_calls_discordant_matrix_well_covered[well_covered_sample_ids == ox_code, :]"
     ],
     "language": "python",
     "metadata": {},
     "outputs": []
    },
    {
     "cell_type": "code",
     "collapsed": false,
     "input": [
      "min(ppq_prop_hom_calls_discordant_matrix_well_covered[well_covered_sample_ids == 'PH0262-CW', :][0, :])"
     ],
     "language": "python",
     "metadata": {},
     "outputs": [
      {
       "metadata": {},
       "output_type": "pyout",
       "prompt_number": 139,
       "text": [
        "0.0024451675767102384"
       ]
      }
     ],
     "prompt_number": 139
    },
    {
     "cell_type": "code",
     "collapsed": false,
     "input": [
      "ppq_prop_hom_calls_discordant_matrix_well_covered[well_covered_sample_ids == 'PH0262-CW', :]"
     ],
     "language": "python",
     "metadata": {},
     "outputs": [
      {
       "metadata": {},
       "output_type": "pyout",
       "prompt_number": 140,
       "text": [
        "array([[ 0.06385736,  0.06395215,  0.06154912,  0.07039337,  0.06802814,\n",
        "         0.06257574,  0.05412717,  0.06313385,  0.06257118,  0.06239251,\n",
        "         0.06759382,  0.07052117,  0.0703616 ,  0.0666855 ,  0.06299698,\n",
        "         0.0624803 ,  0.06318558,  0.0647402 ,  0.06019902,  0.0615244 ,\n",
        "         0.06075503,  0.04686091,  0.06447904,  0.06028459,  0.06222537,\n",
        "         0.06507188,  0.06116316,  0.06135636,  0.0599494 ,  0.04800927,\n",
        "         0.06385407,  0.06551952,  0.06287362,  0.05465725,  0.06926051,\n",
        "         0.06255663,  0.05286958,  0.06571067,  0.06359817,  0.0672804 ,\n",
        "         0.06999781,  0.06973093,  0.06358675,  0.07224005,  0.04069458,\n",
        "         0.03783871,  0.06576138,  0.05878782,  0.06474164,  0.0667566 ,\n",
        "         0.04868378,  0.07194179,  0.04005413,  0.06141478,  0.06586378,\n",
        "                nan,  0.06285065,  0.06778211,  0.0592775 ,  0.04862066,\n",
        "         0.0430397 ,  0.03859398,  0.06584242,  0.06503231,  0.06485922,\n",
        "         0.06789876,  0.04894712,  0.06594983,  0.05429847,  0.04850023,\n",
        "         0.07189995,  0.0720159 ,  0.067012  ,  0.03807131,  0.05630955,\n",
        "         0.06495341,  0.03643363,  0.04880305,  0.00244517,  0.07534597,\n",
        "         0.06615261,  0.06684594,  0.06322313,  0.06540407,  0.05547154,\n",
        "         0.06665455,  0.07083379,  0.03559378,  0.03468559,  0.06350823,\n",
        "         0.06469555,  0.06630387,  0.06517022,  0.07065257,  0.04749587,\n",
        "         0.04081233,  0.07413947,  0.07408352,  0.07291857,  0.03676397,\n",
        "         0.07356795,  0.07538495,  0.07601183,  0.07397425,  0.07069308,\n",
        "         0.06113218,  0.07570179,  0.0745598 ,  0.07371812,  0.07307251,\n",
        "         0.07324788,  0.0543503 ,  0.07451524,  0.07315873,  0.07718396,\n",
        "         0.07520314,  0.0750382 ,  0.07151052,  0.07254255,  0.04120928,\n",
        "         0.05185356,  0.06930638,  0.03135109,  0.04622715,  0.07161195,\n",
        "         0.05233291,  0.0549039 ,  0.07183375,  0.07368306,  0.07283454,\n",
        "         0.05223709,  0.07063163,  0.06177483,  0.03213097,  0.05256799,\n",
        "         0.07107478,  0.07406934,  0.04838835,  0.05119715,  0.05941091,\n",
        "         0.02806117,  0.06365067,  0.06632523,  0.03495862,  0.0644169 ,\n",
        "         0.06644488,  0.0674687 ,  0.06025495,  0.04903062,  0.0489935 ,\n",
        "         0.03464028,  0.06299111,  0.06577   ,  0.06603173,  0.06462566,\n",
        "         0.0735364 ,  0.04643134,  0.03472441,  0.03729576,  0.07476431,\n",
        "         0.07312698,  0.07163481,  0.04994193,  0.04107474,  0.03788656,\n",
        "         0.07270971,  0.05930493,  0.0606885 ,  0.06236961,  0.06957887,\n",
        "         0.06705188,  0.06990759,  0.06811954,  0.06990976,  0.07209812,\n",
        "         0.0647393 ,  0.07393979,  0.06246114,  0.05823481,  0.06694507,\n",
        "         0.06519909,  0.06355023,  0.06663373,  0.00860063,  0.06576258,\n",
        "         0.06490407,  0.06545037,  0.06222612,  0.05036054,  0.06523849,\n",
        "         0.06295829,  0.06434601,  0.06449705,  0.06451909,  0.06540695,\n",
        "         0.06419787,  0.06359035,  0.0523992 ,  0.05230212,  0.03633614,\n",
        "         0.0552872 ,  0.05061226,  0.0644547 ,  0.06543331,  0.06539644,\n",
        "         0.06527272,  0.06625274,  0.06969371,  0.05508957,  0.06756905,\n",
        "         0.06532516,  0.06560271,  0.05115162,  0.06573516,  0.06698304,\n",
        "         0.05927554,  0.06418117,  0.06057303,  0.05900204,  0.05995283,\n",
        "         0.06245322,  0.06718821,  0.05455567,  0.03382196,  0.0597811 ,\n",
        "         0.03574781,  0.06722137,  0.06516653,  0.06099522,  0.05678535,\n",
        "         0.0640897 ,  0.03429512,  0.06379213,  0.07017608,  0.06233424,\n",
        "         0.062181  ,  0.04847411,  0.07460618,  0.04166503,  0.07174357,\n",
        "         0.04203536,  0.07403289,  0.03883819,  0.03498697,  0.06623255,\n",
        "         0.07270168,  0.07186997,  0.07418068,  0.07426103,  0.06765833,\n",
        "         0.05934876,  0.06159465,  0.06993901,  0.0663146 ,  0.06934888,\n",
        "         0.07032898,  0.07188483,  0.06023486,  0.06597091,  0.06135178,\n",
        "         0.05104702,  0.05417612,  0.04819062,  0.071389  ,  0.07482114,\n",
        "         0.06960343,  0.07306373,  0.07507961,  0.0728776 ,  0.07576671,\n",
        "         0.07454482,  0.04790628,  0.04829067,  0.04438043,  0.07459799,\n",
        "         0.06126612,  0.07550849,  0.0755627 ,  0.05838425,  0.04681115,\n",
        "         0.07484392,  0.06014146,  0.07455356,  0.07553444,  0.07465737,\n",
        "         0.04163994,  0.03942381,  0.06735385,  0.06265935,  0.03140492,\n",
        "         0.04771836,  0.07461051,  0.0461967 ,  0.07624804,  0.04695503,\n",
        "         0.06804938,  0.06477453,  0.0634545 ,  0.0639498 ,  0.06547878,\n",
        "         0.04724627,  0.06699558,  0.05417687,  0.06097869,  0.06516973,\n",
        "         0.06414654,  0.06757647,  0.05936718,  0.06447481,  0.065163  ,\n",
        "         0.06197577,  0.06457058,  0.06331148,  0.04754048,  0.05811273,\n",
        "         0.06498768,  0.06673109,  0.06145654,  0.05238389,  0.06054592,\n",
        "         0.06396495,  0.05206938,  0.06143446,  0.0660829 ,  0.06259435,\n",
        "         0.03501447,  0.05151563,  0.06434642,  0.06123354,  0.06177656,\n",
        "         0.05829605,  0.06505065,  0.06431974,  0.06633339,  0.03857093,\n",
        "         0.06075503,  0.07104782,  0.06305221,  0.06424622,  0.06581554,\n",
        "         0.06442251,  0.06946667,  0.03660856,  0.03823815,  0.03483443,\n",
        "         0.03662823,  0.06419692,  0.06274038,  0.06968418,  0.03628882,\n",
        "         0.06464834,  0.06453469,  0.05259435,  0.06296054,  0.06663132,\n",
        "         0.049532  ,  0.06873108,  0.07092645,  0.06236272,  0.06202951,\n",
        "         0.0703465 ,  0.06824437,  0.05998629,  0.07189841,  0.04012273,\n",
        "         0.06662503,  0.0701884 ,  0.05606526,  0.04838615,  0.0556362 ,\n",
        "         0.0705384 ,  0.07631454,  0.06789076,  0.07211744,  0.04376046,\n",
        "         0.07233498,  0.07089813,  0.05240158,  0.07214436,  0.0699688 ,\n",
        "         0.07518522,  0.07182331,  0.07075384,  0.06989794,  0.07308199,\n",
        "         0.07439225,  0.07273824,  0.03999921,  0.07372922,  0.05478591,\n",
        "         0.06997589,  0.07235454,  0.07128105,  0.05901126,  0.07046055,\n",
        "         0.04081553,  0.06847236,  0.06927556,  0.05749823,  0.07219987,\n",
        "         0.07153431,  0.06903162,  0.04079641,  0.07418398,  0.07430465,\n",
        "         0.07393216,  0.07196125,  0.04674153,  0.03967962,  0.06413424,\n",
        "         0.0702427 ,  0.07020141,  0.07295699,  0.07123933,  0.07391949,\n",
        "         0.07004661,  0.06020583,  0.06450955,  0.07335802,  0.0422161 ,\n",
        "         0.07331265,  0.07179977,  0.03624503,  0.07245575,  0.04143696,\n",
        "         0.06520528,  0.05067865,  0.05200902,  0.06449588,  0.06507604,\n",
        "         0.06494887,  0.07397978,  0.04695656,  0.04722532,  0.06304348,\n",
        "         0.07100678,  0.06946301,  0.07096737,  0.0686055 ,  0.07021534,\n",
        "         0.06915108,  0.06803355,  0.0513425 ,  0.06809768,  0.06432457,\n",
        "         0.06101228,  0.06228317,  0.06411195,  0.06599226,  0.06657892,\n",
        "         0.06601924,  0.06088823,  0.07469342,  0.05146735,  0.07401316,\n",
        "         0.07350309,  0.06582153,  0.06558991,  0.02332303,  0.03684874,\n",
        "         0.02977874,  0.05109957,  0.0686261 ,  0.06245311,  0.06740156,\n",
        "         0.03221468,  0.07142148,  0.06974157,  0.06669958,  0.06993349,\n",
        "         0.06935098,  0.06886605,  0.07091444,  0.06484692,  0.06977726,\n",
        "         0.06641314,  0.06812643,  0.0668456 ,  0.0630927 ,  0.0643897 ,\n",
        "         0.06714361,  0.06004606,  0.06410983,  0.06505725,  0.03746458,\n",
        "         0.06583955,  0.06048763,  0.06293948,  0.06521444,  0.06675563,\n",
        "         0.03484443,  0.06398786,  0.06248975,  0.06433391,  0.06610599,\n",
        "         0.06038512,  0.06428967,  0.06112101,  0.06454468,  0.06006066,\n",
        "         0.06586848,  0.06560991,  0.06410227,  0.03865079,  0.05316218,\n",
        "         0.07413702,  0.05329435,  0.04009897,  0.07199457,  0.06697089,\n",
        "         0.07293424,  0.07353861,  0.07406865,  0.05176222,  0.06408481,\n",
        "         0.06676506,  0.04940362,  0.06547966,  0.06772224,  0.06507873,\n",
        "         0.05228329,  0.06479202,  0.06546185,  0.06217806,  0.06413823,\n",
        "         0.05643579,  0.0673397 ,  0.06723457,  0.06522056,  0.06336706,\n",
        "         0.06728911,  0.06255723,  0.0629047 ,  0.06723118,  0.06666178,\n",
        "         0.06382197,  0.05677011,  0.0642882 ,  0.06406124,  0.07023607]])"
       ]
      }
     ],
     "prompt_number": 140
    },
    {
     "cell_type": "code",
     "collapsed": false,
     "input": [
      "print tabulate(np.logical_not(np.isnan(ppq_prop_hom_calls_discordant_matrix_well_covered.flatten())))"
     ],
     "language": "python",
     "metadata": {},
     "outputs": [
      {
       "output_type": "stream",
       "stream": "stdout",
       "text": [
        "{False: 540, True: 291060}\n"
       ]
      }
     ],
     "prompt_number": 123
    },
    {
     "cell_type": "code",
     "collapsed": false,
     "input": [
      "print tabulate(ppq_prop_hom_calls_discordant_matrix_well_covered == 0.0)"
     ],
     "language": "python",
     "metadata": {},
     "outputs": [
      {
       "output_type": "stream",
       "stream": "stdout",
       "text": [
        "{False: 290904, True: 696}\n"
       ]
      }
     ],
     "prompt_number": 124
    },
    {
     "cell_type": "code",
     "collapsed": false,
     "input": [
      "hist(ppq_prop_hom_calls_discordant_matrix_well_covered.flatten()[np.logical_not(np.isnan(ppq_prop_hom_calls_discordant_matrix_well_covered.flatten()))], bins=arange(0, 0.1, 0.0001))\n",
      "# hist(ppq_prop_hom_calls_discordant_matrix.flatten(), bins=arange(0, 35000, 40))\n"
     ],
     "language": "python",
     "metadata": {},
     "outputs": [
      {
       "metadata": {},
       "output_type": "pyout",
       "prompt_number": 122,
       "text": [
        "(array([ 1250.,    98.,    44.,    26.,    16.,    36.,    32.,    12.,\n",
        "           18.,    12.,    28.,     4.,    12.,    14.,    26.,    18.,\n",
        "           12.,    10.,    10.,    20.,    16.,    20.,    18.,     8.,\n",
        "           14.,     8.,     6.,     4.,     4.,     8.,    10.,     8.,\n",
        "            8.,    12.,    12.,    10.,     6.,     2.,     6.,     8.,\n",
        "           12.,    10.,    12.,    22.,    20.,    18.,    16.,    10.,\n",
        "           14.,    20.,    14.,    18.,    22.,    18.,    20.,    10.,\n",
        "           12.,    10.,    12.,     6.,    12.,    12.,    32.,    22.,\n",
        "           10.,    18.,    20.,    20.,    20.,    16.,    28.,    44.,\n",
        "           30.,    58.,    26.,    48.,    34.,    44.,    46.,    46.,\n",
        "           26.,    24.,    32.,    34.,    36.,    32.,    26.,    26.,\n",
        "           26.,    28.,    20.,    32.,    28.,    30.,    30.,    28.,\n",
        "           28.,    24.,    38.,    38.,    34.,    18.,    32.,    26.,\n",
        "           34.,    40.,    42.,    30.,    30.,    36.,    44.,    38.,\n",
        "           62.,    50.,    56.,    56.,    48.,    76.,    72.,    74.,\n",
        "           70.,    64.,    74.,    68.,    76.,    56.,    56.,    52.,\n",
        "           50.,    44.,    54.,    44.,    70.,    26.,    64.,    60.,\n",
        "           58.,    64.,    62.,    48.,    44.,    34.,    72.,    70.,\n",
        "           60.,    50.,    60.,    54.,    78.,    44.,    50.,    56.,\n",
        "           44.,    46.,    44.,    54.,    68.,    58.,    64.,    66.,\n",
        "           56.,    64.,    54.,    62.,    74.,    78.,    62.,    60.,\n",
        "           68.,    82.,    56.,    70.,    54.,   106.,    58.,    58.,\n",
        "           70.,    88.,    64.,    72.,   104.,    82.,   100.,    92.,\n",
        "           84.,    90.,   114.,   106.,    74.,    98.,    92.,    82.,\n",
        "           96.,    66.,    64.,   104.,    88.,    70.,    72.,    76.,\n",
        "           90.,    80.,   114.,    86.,    80.,   102.,   104.,    86.,\n",
        "           90.,    84.,    88.,   100.,   122.,    84.,   108.,    86.,\n",
        "           96.,    76.,    92.,    94.,   108.,    84.,    70.,   100.,\n",
        "           84.,    74.,   100.,   104.,    96.,    88.,    82.,    66.,\n",
        "           74.,    94.,    98.,    80.,   124.,   130.,   108.,   118.,\n",
        "          114.,   102.,   146.,   110.,   120.,   128.,   138.,   162.,\n",
        "          142.,   152.,   104.,   112.,   122.,   146.,   146.,   138.,\n",
        "          116.,   122.,   126.,   124.,   144.,   148.,   122.,   136.,\n",
        "          110.,   146.,   112.,   110.,    96.,   128.,   142.,   118.,\n",
        "          122.,   136.,   124.,   134.,   134.,   150.,   136.,   144.,\n",
        "          154.,   160.,   134.,   156.,   160.,   148.,   148.,   132.,\n",
        "          182.,   156.,   120.,   170.,   164.,   164.,   146.,   158.,\n",
        "          180.,   194.,   160.,   170.,   162.,   146.,   158.,   158.,\n",
        "          148.,   212.,   186.,   204.,   166.,   164.,   208.,   190.,\n",
        "          200.,   226.,   184.,   194.,   200.,   204.,   218.,   216.,\n",
        "          246.,   270.,   218.,   236.,   220.,   264.,   218.,   204.,\n",
        "          196.,   220.,   206.,   252.,   256.,   226.,   250.,   182.,\n",
        "          212.,   258.,   254.,   226.,   252.,   210.,   240.,   308.,\n",
        "          274.,   250.,   274.,   220.,   246.,   248.,   284.,   274.,\n",
        "          276.,   304.,   280.,   288.,   294.,   264.,   338.,   318.,\n",
        "          318.,   242.,   334.,   314.,   302.,   304.,   340.,   360.,\n",
        "          316.,   306.,   328.,   310.,   290.,   316.,   364.,   336.,\n",
        "          376.,   332.,   350.,   344.,   360.,   404.,   400.,   382.,\n",
        "          366.,   368.,   416.,   420.,   392.,   354.,   402.,   384.,\n",
        "          416.,   404.,   402.,   418.,   486.,   434.,   418.,   430.,\n",
        "          442.,   438.,   436.,   428.,   484.,   464.,   412.,   458.,\n",
        "          470.,   422.,   514.,   462.,   526.,   458.,   442.,   426.,\n",
        "          456.,   482.,   442.,   448.,   474.,   566.,   546.,   526.,\n",
        "          508.,   434.,   506.,   478.,   458.,   424.,   420.,   500.,\n",
        "          512.,   500.,   440.,   432.,   484.,   470.,   468.,   434.,\n",
        "          400.,   378.,   408.,   450.,   370.,   362.,   370.,   396.,\n",
        "          408.,   410.,   360.,   346.,   436.,   400.,   426.,   350.,\n",
        "          370.,   382.,   332.,   378.,   368.,   340.,   400.,   408.,\n",
        "          384.,   404.,   406.,   378.,   398.,   404.,   408.,   374.,\n",
        "          412.,   366.,   416.,   414.,   366.,   448.,   412.,   484.,\n",
        "          386.,   422.,   432.,   468.,   432.,   480.,   414.,   482.,\n",
        "          512.,   440.,   468.,   412.,   496.,   438.,   492.,   402.,\n",
        "          432.,   400.,   442.,   478.,   446.,   458.,   416.,   464.,\n",
        "          374.,   404.,   416.,   482.,   426.,   454.,   438.,   446.,\n",
        "          450.,   406.,   426.,   482.,   448.,   362.,   462.,   434.,\n",
        "          492.,   420.,   416.,   438.,   436.,   438.,   456.,   416.,\n",
        "          394.,   462.,   446.,   434.,   474.,   468.,   414.,   402.,\n",
        "          454.,   464.,   466.,   462.,   398.,   408.,   416.,   452.,\n",
        "          450.,   434.,   476.,   494.,   434.,   446.,   440.,   424.,\n",
        "          484.,   488.,   440.,   436.,   464.,   450.,   454.,   478.,\n",
        "          464.,   442.,   438.,   450.,   428.,   474.,   434.,   432.,\n",
        "          422.,   436.,   394.,   450.,   430.,   388.,   378.,   450.,\n",
        "          406.,   342.,   396.,   388.,   408.,   416.,   386.,   372.,\n",
        "          434.,   380.,   426.,   438.,   414.,   366.,   420.,   440.,\n",
        "          406.,   450.,   444.,   412.,   434.,   428.,   436.,   406.,\n",
        "          458.,   432.,   402.,   458.,   440.,   422.,   454.,   448.,\n",
        "          434.,   480.,   494.,   458.,   478.,   522.,   498.,   548.,\n",
        "          510.,   510.,   544.,   498.,   522.,   580.,   536.,   562.,\n",
        "          570.,   532.,   532.,   596.,   516.,   528.,   608.,   538.,\n",
        "          594.,   552.,   602.,   558.,   600.,   642.,   692.,   662.,\n",
        "          630.,   620.,   628.,   716.,   616.,   642.,   766.,   630.,\n",
        "          648.,   636.,   702.,   650.,   694.,   676.,   672.,   676.,\n",
        "          670.,   692.,   716.,   728.,   694.,   688.,   702.,   762.,\n",
        "          730.,   720.,   796.,   730.,   716.,   772.,   756.,   770.,\n",
        "          692.,   714.,   682.,   774.,   800.,   800.,   840.,   842.,\n",
        "          800.,   876.,   928.,   878.,   842.,   860.,   788.,   868.,\n",
        "          922.,   922.,   950.,   982.,   926.,   936.,  1016.,   988.,\n",
        "         1040.,  1034.,  1058.,  1048.,  1056.,  1082.,   970.,  1112.,\n",
        "         1098.,  1064.,  1178.,  1188.,  1112.,  1148.,  1210.,  1230.,\n",
        "         1232.,  1240.,  1194.,  1304.,  1294.,  1348.,  1272.,  1210.,\n",
        "         1344.,  1446.,  1308.,  1282.,  1302.,  1386.,  1266.,  1346.,\n",
        "         1358.,  1252.,  1332.,  1352.,  1248.,  1316.,  1312.,  1416.,\n",
        "         1338.,  1372.,  1286.,  1374.,  1258.,  1254.,  1160.,  1236.,\n",
        "         1270.,  1184.,  1270.,  1238.,  1148.,  1094.,  1020.,  1054.,\n",
        "         1054.,  1090.,   934.,  1000.,   920.,   936.,   862.,   836.,\n",
        "          792.,   778.,   808.,   744.,   718.,   616.,   676.,   568.,\n",
        "          614.,   522.,   528.,   538.,   442.,   452.,   474.,   442.,\n",
        "          398.,   382.,   386.,   320.,   288.,   286.,   280.,   220.,\n",
        "          252.,   216.,   136.,   176.,   136.,   150.,   124.,   114.,\n",
        "           96.,    80.,    78.,    82.,    54.,    44.,    50.,    32.,\n",
        "           32.,    24.,    20.,    36.,    24.,    24.,    16.,    12.,\n",
        "           10.,    16.,     6.,    10.,     6.,     8.,     8.,     2.,\n",
        "            4.,     0.,     0.,     0.,     0.,     4.,     0.,     2.,\n",
        "            0.,     0.,     0.,     0.,     0.,     0.,     0.,     0.,\n",
        "            0.,     0.,     0.,     0.,     0.,     0.,     0.,     0.,\n",
        "            0.,     0.,     0.,     0.,     0.,     0.,     0.,     0.,\n",
        "            0.,     0.,     0.,     0.,     0.,     0.,     0.,     0.,\n",
        "            0.,     0.,     0.,     0.,     0.,     0.,     0.,     0.,\n",
        "            0.,     0.,     0.,     0.,     0.,     0.,     0.,     0.,\n",
        "            0.,     0.,     0.,     0.,     0.,     0.,     0.,     0.,\n",
        "            0.,     0.,     0.,     0.,     0.,     0.,     0.,     0.,\n",
        "            0.,     0.,     0.,     0.,     0.,     0.,     0.,     0.,\n",
        "            0.,     0.,     0.,     0.,     0.,     0.,     0.,     0.,\n",
        "            0.,     0.,     0.,     0.,     0.,     0.,     0.,     0.,\n",
        "            0.,     0.,     0.,     0.,     0.,     0.,     0.,     0.,\n",
        "            0.,     0.,     0.,     0.,     0.,     0.,     0.,     0.,\n",
        "            0.,     0.,     0.,     0.,     0.,     0.,     0.,     0.,\n",
        "            0.,     0.,     0.,     0.,     0.,     0.,     0.,     0.,\n",
        "            0.,     0.,     0.,     0.,     0.,     0.,     0.,     0.,\n",
        "            0.,     0.,     0.,     0.,     0.,     0.,     0.,     0.,\n",
        "            0.,     0.,     0.,     0.,     0.,     0.,     0.,     0.,\n",
        "            0.,     0.,     0.,     0.,     0.,     0.,     0.,     0.,\n",
        "            0.,     0.,     0.,     0.,     0.,     0.,     0.,     0.,\n",
        "            0.,     0.,     0.,     0.,     0.,     0.,     0.,     0.,\n",
        "            0.,     0.,     0.,     0.,     0.,     0.,     0.]),\n",
        " array([ 0.    ,  0.0001,  0.0002,  0.0003,  0.0004,  0.0005,  0.0006,\n",
        "         0.0007,  0.0008,  0.0009,  0.001 ,  0.0011,  0.0012,  0.0013,\n",
        "         0.0014,  0.0015,  0.0016,  0.0017,  0.0018,  0.0019,  0.002 ,\n",
        "         0.0021,  0.0022,  0.0023,  0.0024,  0.0025,  0.0026,  0.0027,\n",
        "         0.0028,  0.0029,  0.003 ,  0.0031,  0.0032,  0.0033,  0.0034,\n",
        "         0.0035,  0.0036,  0.0037,  0.0038,  0.0039,  0.004 ,  0.0041,\n",
        "         0.0042,  0.0043,  0.0044,  0.0045,  0.0046,  0.0047,  0.0048,\n",
        "         0.0049,  0.005 ,  0.0051,  0.0052,  0.0053,  0.0054,  0.0055,\n",
        "         0.0056,  0.0057,  0.0058,  0.0059,  0.006 ,  0.0061,  0.0062,\n",
        "         0.0063,  0.0064,  0.0065,  0.0066,  0.0067,  0.0068,  0.0069,\n",
        "         0.007 ,  0.0071,  0.0072,  0.0073,  0.0074,  0.0075,  0.0076,\n",
        "         0.0077,  0.0078,  0.0079,  0.008 ,  0.0081,  0.0082,  0.0083,\n",
        "         0.0084,  0.0085,  0.0086,  0.0087,  0.0088,  0.0089,  0.009 ,\n",
        "         0.0091,  0.0092,  0.0093,  0.0094,  0.0095,  0.0096,  0.0097,\n",
        "         0.0098,  0.0099,  0.01  ,  0.0101,  0.0102,  0.0103,  0.0104,\n",
        "         0.0105,  0.0106,  0.0107,  0.0108,  0.0109,  0.011 ,  0.0111,\n",
        "         0.0112,  0.0113,  0.0114,  0.0115,  0.0116,  0.0117,  0.0118,\n",
        "         0.0119,  0.012 ,  0.0121,  0.0122,  0.0123,  0.0124,  0.0125,\n",
        "         0.0126,  0.0127,  0.0128,  0.0129,  0.013 ,  0.0131,  0.0132,\n",
        "         0.0133,  0.0134,  0.0135,  0.0136,  0.0137,  0.0138,  0.0139,\n",
        "         0.014 ,  0.0141,  0.0142,  0.0143,  0.0144,  0.0145,  0.0146,\n",
        "         0.0147,  0.0148,  0.0149,  0.015 ,  0.0151,  0.0152,  0.0153,\n",
        "         0.0154,  0.0155,  0.0156,  0.0157,  0.0158,  0.0159,  0.016 ,\n",
        "         0.0161,  0.0162,  0.0163,  0.0164,  0.0165,  0.0166,  0.0167,\n",
        "         0.0168,  0.0169,  0.017 ,  0.0171,  0.0172,  0.0173,  0.0174,\n",
        "         0.0175,  0.0176,  0.0177,  0.0178,  0.0179,  0.018 ,  0.0181,\n",
        "         0.0182,  0.0183,  0.0184,  0.0185,  0.0186,  0.0187,  0.0188,\n",
        "         0.0189,  0.019 ,  0.0191,  0.0192,  0.0193,  0.0194,  0.0195,\n",
        "         0.0196,  0.0197,  0.0198,  0.0199,  0.02  ,  0.0201,  0.0202,\n",
        "         0.0203,  0.0204,  0.0205,  0.0206,  0.0207,  0.0208,  0.0209,\n",
        "         0.021 ,  0.0211,  0.0212,  0.0213,  0.0214,  0.0215,  0.0216,\n",
        "         0.0217,  0.0218,  0.0219,  0.022 ,  0.0221,  0.0222,  0.0223,\n",
        "         0.0224,  0.0225,  0.0226,  0.0227,  0.0228,  0.0229,  0.023 ,\n",
        "         0.0231,  0.0232,  0.0233,  0.0234,  0.0235,  0.0236,  0.0237,\n",
        "         0.0238,  0.0239,  0.024 ,  0.0241,  0.0242,  0.0243,  0.0244,\n",
        "         0.0245,  0.0246,  0.0247,  0.0248,  0.0249,  0.025 ,  0.0251,\n",
        "         0.0252,  0.0253,  0.0254,  0.0255,  0.0256,  0.0257,  0.0258,\n",
        "         0.0259,  0.026 ,  0.0261,  0.0262,  0.0263,  0.0264,  0.0265,\n",
        "         0.0266,  0.0267,  0.0268,  0.0269,  0.027 ,  0.0271,  0.0272,\n",
        "         0.0273,  0.0274,  0.0275,  0.0276,  0.0277,  0.0278,  0.0279,\n",
        "         0.028 ,  0.0281,  0.0282,  0.0283,  0.0284,  0.0285,  0.0286,\n",
        "         0.0287,  0.0288,  0.0289,  0.029 ,  0.0291,  0.0292,  0.0293,\n",
        "         0.0294,  0.0295,  0.0296,  0.0297,  0.0298,  0.0299,  0.03  ,\n",
        "         0.0301,  0.0302,  0.0303,  0.0304,  0.0305,  0.0306,  0.0307,\n",
        "         0.0308,  0.0309,  0.031 ,  0.0311,  0.0312,  0.0313,  0.0314,\n",
        "         0.0315,  0.0316,  0.0317,  0.0318,  0.0319,  0.032 ,  0.0321,\n",
        "         0.0322,  0.0323,  0.0324,  0.0325,  0.0326,  0.0327,  0.0328,\n",
        "         0.0329,  0.033 ,  0.0331,  0.0332,  0.0333,  0.0334,  0.0335,\n",
        "         0.0336,  0.0337,  0.0338,  0.0339,  0.034 ,  0.0341,  0.0342,\n",
        "         0.0343,  0.0344,  0.0345,  0.0346,  0.0347,  0.0348,  0.0349,\n",
        "         0.035 ,  0.0351,  0.0352,  0.0353,  0.0354,  0.0355,  0.0356,\n",
        "         0.0357,  0.0358,  0.0359,  0.036 ,  0.0361,  0.0362,  0.0363,\n",
        "         0.0364,  0.0365,  0.0366,  0.0367,  0.0368,  0.0369,  0.037 ,\n",
        "         0.0371,  0.0372,  0.0373,  0.0374,  0.0375,  0.0376,  0.0377,\n",
        "         0.0378,  0.0379,  0.038 ,  0.0381,  0.0382,  0.0383,  0.0384,\n",
        "         0.0385,  0.0386,  0.0387,  0.0388,  0.0389,  0.039 ,  0.0391,\n",
        "         0.0392,  0.0393,  0.0394,  0.0395,  0.0396,  0.0397,  0.0398,\n",
        "         0.0399,  0.04  ,  0.0401,  0.0402,  0.0403,  0.0404,  0.0405,\n",
        "         0.0406,  0.0407,  0.0408,  0.0409,  0.041 ,  0.0411,  0.0412,\n",
        "         0.0413,  0.0414,  0.0415,  0.0416,  0.0417,  0.0418,  0.0419,\n",
        "         0.042 ,  0.0421,  0.0422,  0.0423,  0.0424,  0.0425,  0.0426,\n",
        "         0.0427,  0.0428,  0.0429,  0.043 ,  0.0431,  0.0432,  0.0433,\n",
        "         0.0434,  0.0435,  0.0436,  0.0437,  0.0438,  0.0439,  0.044 ,\n",
        "         0.0441,  0.0442,  0.0443,  0.0444,  0.0445,  0.0446,  0.0447,\n",
        "         0.0448,  0.0449,  0.045 ,  0.0451,  0.0452,  0.0453,  0.0454,\n",
        "         0.0455,  0.0456,  0.0457,  0.0458,  0.0459,  0.046 ,  0.0461,\n",
        "         0.0462,  0.0463,  0.0464,  0.0465,  0.0466,  0.0467,  0.0468,\n",
        "         0.0469,  0.047 ,  0.0471,  0.0472,  0.0473,  0.0474,  0.0475,\n",
        "         0.0476,  0.0477,  0.0478,  0.0479,  0.048 ,  0.0481,  0.0482,\n",
        "         0.0483,  0.0484,  0.0485,  0.0486,  0.0487,  0.0488,  0.0489,\n",
        "         0.049 ,  0.0491,  0.0492,  0.0493,  0.0494,  0.0495,  0.0496,\n",
        "         0.0497,  0.0498,  0.0499,  0.05  ,  0.0501,  0.0502,  0.0503,\n",
        "         0.0504,  0.0505,  0.0506,  0.0507,  0.0508,  0.0509,  0.051 ,\n",
        "         0.0511,  0.0512,  0.0513,  0.0514,  0.0515,  0.0516,  0.0517,\n",
        "         0.0518,  0.0519,  0.052 ,  0.0521,  0.0522,  0.0523,  0.0524,\n",
        "         0.0525,  0.0526,  0.0527,  0.0528,  0.0529,  0.053 ,  0.0531,\n",
        "         0.0532,  0.0533,  0.0534,  0.0535,  0.0536,  0.0537,  0.0538,\n",
        "         0.0539,  0.054 ,  0.0541,  0.0542,  0.0543,  0.0544,  0.0545,\n",
        "         0.0546,  0.0547,  0.0548,  0.0549,  0.055 ,  0.0551,  0.0552,\n",
        "         0.0553,  0.0554,  0.0555,  0.0556,  0.0557,  0.0558,  0.0559,\n",
        "         0.056 ,  0.0561,  0.0562,  0.0563,  0.0564,  0.0565,  0.0566,\n",
        "         0.0567,  0.0568,  0.0569,  0.057 ,  0.0571,  0.0572,  0.0573,\n",
        "         0.0574,  0.0575,  0.0576,  0.0577,  0.0578,  0.0579,  0.058 ,\n",
        "         0.0581,  0.0582,  0.0583,  0.0584,  0.0585,  0.0586,  0.0587,\n",
        "         0.0588,  0.0589,  0.059 ,  0.0591,  0.0592,  0.0593,  0.0594,\n",
        "         0.0595,  0.0596,  0.0597,  0.0598,  0.0599,  0.06  ,  0.0601,\n",
        "         0.0602,  0.0603,  0.0604,  0.0605,  0.0606,  0.0607,  0.0608,\n",
        "         0.0609,  0.061 ,  0.0611,  0.0612,  0.0613,  0.0614,  0.0615,\n",
        "         0.0616,  0.0617,  0.0618,  0.0619,  0.062 ,  0.0621,  0.0622,\n",
        "         0.0623,  0.0624,  0.0625,  0.0626,  0.0627,  0.0628,  0.0629,\n",
        "         0.063 ,  0.0631,  0.0632,  0.0633,  0.0634,  0.0635,  0.0636,\n",
        "         0.0637,  0.0638,  0.0639,  0.064 ,  0.0641,  0.0642,  0.0643,\n",
        "         0.0644,  0.0645,  0.0646,  0.0647,  0.0648,  0.0649,  0.065 ,\n",
        "         0.0651,  0.0652,  0.0653,  0.0654,  0.0655,  0.0656,  0.0657,\n",
        "         0.0658,  0.0659,  0.066 ,  0.0661,  0.0662,  0.0663,  0.0664,\n",
        "         0.0665,  0.0666,  0.0667,  0.0668,  0.0669,  0.067 ,  0.0671,\n",
        "         0.0672,  0.0673,  0.0674,  0.0675,  0.0676,  0.0677,  0.0678,\n",
        "         0.0679,  0.068 ,  0.0681,  0.0682,  0.0683,  0.0684,  0.0685,\n",
        "         0.0686,  0.0687,  0.0688,  0.0689,  0.069 ,  0.0691,  0.0692,\n",
        "         0.0693,  0.0694,  0.0695,  0.0696,  0.0697,  0.0698,  0.0699,\n",
        "         0.07  ,  0.0701,  0.0702,  0.0703,  0.0704,  0.0705,  0.0706,\n",
        "         0.0707,  0.0708,  0.0709,  0.071 ,  0.0711,  0.0712,  0.0713,\n",
        "         0.0714,  0.0715,  0.0716,  0.0717,  0.0718,  0.0719,  0.072 ,\n",
        "         0.0721,  0.0722,  0.0723,  0.0724,  0.0725,  0.0726,  0.0727,\n",
        "         0.0728,  0.0729,  0.073 ,  0.0731,  0.0732,  0.0733,  0.0734,\n",
        "         0.0735,  0.0736,  0.0737,  0.0738,  0.0739,  0.074 ,  0.0741,\n",
        "         0.0742,  0.0743,  0.0744,  0.0745,  0.0746,  0.0747,  0.0748,\n",
        "         0.0749,  0.075 ,  0.0751,  0.0752,  0.0753,  0.0754,  0.0755,\n",
        "         0.0756,  0.0757,  0.0758,  0.0759,  0.076 ,  0.0761,  0.0762,\n",
        "         0.0763,  0.0764,  0.0765,  0.0766,  0.0767,  0.0768,  0.0769,\n",
        "         0.077 ,  0.0771,  0.0772,  0.0773,  0.0774,  0.0775,  0.0776,\n",
        "         0.0777,  0.0778,  0.0779,  0.078 ,  0.0781,  0.0782,  0.0783,\n",
        "         0.0784,  0.0785,  0.0786,  0.0787,  0.0788,  0.0789,  0.079 ,\n",
        "         0.0791,  0.0792,  0.0793,  0.0794,  0.0795,  0.0796,  0.0797,\n",
        "         0.0798,  0.0799,  0.08  ,  0.0801,  0.0802,  0.0803,  0.0804,\n",
        "         0.0805,  0.0806,  0.0807,  0.0808,  0.0809,  0.081 ,  0.0811,\n",
        "         0.0812,  0.0813,  0.0814,  0.0815,  0.0816,  0.0817,  0.0818,\n",
        "         0.0819,  0.082 ,  0.0821,  0.0822,  0.0823,  0.0824,  0.0825,\n",
        "         0.0826,  0.0827,  0.0828,  0.0829,  0.083 ,  0.0831,  0.0832,\n",
        "         0.0833,  0.0834,  0.0835,  0.0836,  0.0837,  0.0838,  0.0839,\n",
        "         0.084 ,  0.0841,  0.0842,  0.0843,  0.0844,  0.0845,  0.0846,\n",
        "         0.0847,  0.0848,  0.0849,  0.085 ,  0.0851,  0.0852,  0.0853,\n",
        "         0.0854,  0.0855,  0.0856,  0.0857,  0.0858,  0.0859,  0.086 ,\n",
        "         0.0861,  0.0862,  0.0863,  0.0864,  0.0865,  0.0866,  0.0867,\n",
        "         0.0868,  0.0869,  0.087 ,  0.0871,  0.0872,  0.0873,  0.0874,\n",
        "         0.0875,  0.0876,  0.0877,  0.0878,  0.0879,  0.088 ,  0.0881,\n",
        "         0.0882,  0.0883,  0.0884,  0.0885,  0.0886,  0.0887,  0.0888,\n",
        "         0.0889,  0.089 ,  0.0891,  0.0892,  0.0893,  0.0894,  0.0895,\n",
        "         0.0896,  0.0897,  0.0898,  0.0899,  0.09  ,  0.0901,  0.0902,\n",
        "         0.0903,  0.0904,  0.0905,  0.0906,  0.0907,  0.0908,  0.0909,\n",
        "         0.091 ,  0.0911,  0.0912,  0.0913,  0.0914,  0.0915,  0.0916,\n",
        "         0.0917,  0.0918,  0.0919,  0.092 ,  0.0921,  0.0922,  0.0923,\n",
        "         0.0924,  0.0925,  0.0926,  0.0927,  0.0928,  0.0929,  0.093 ,\n",
        "         0.0931,  0.0932,  0.0933,  0.0934,  0.0935,  0.0936,  0.0937,\n",
        "         0.0938,  0.0939,  0.094 ,  0.0941,  0.0942,  0.0943,  0.0944,\n",
        "         0.0945,  0.0946,  0.0947,  0.0948,  0.0949,  0.095 ,  0.0951,\n",
        "         0.0952,  0.0953,  0.0954,  0.0955,  0.0956,  0.0957,  0.0958,\n",
        "         0.0959,  0.096 ,  0.0961,  0.0962,  0.0963,  0.0964,  0.0965,\n",
        "         0.0966,  0.0967,  0.0968,  0.0969,  0.097 ,  0.0971,  0.0972,\n",
        "         0.0973,  0.0974,  0.0975,  0.0976,  0.0977,  0.0978,  0.0979,\n",
        "         0.098 ,  0.0981,  0.0982,  0.0983,  0.0984,  0.0985,  0.0986,\n",
        "         0.0987,  0.0988,  0.0989,  0.099 ,  0.0991,  0.0992,  0.0993,\n",
        "         0.0994,  0.0995,  0.0996,  0.0997,  0.0998,  0.0999]),\n",
        " <a list of 999 Patch objects>)"
       ]
      },
      {
       "metadata": {},
       "output_type": "display_data",
       "png": "[encoded data removed]",
       "text": [
        "<matplotlib.figure.Figure at 0x10547090>"
       ]
      }
     ],
     "prompt_number": 122
    },
    {
     "cell_type": "code",
     "collapsed": false,
     "input": [
      "hist(ppq_hom_calls_matrix.flatten())\n"
     ],
     "language": "python",
     "metadata": {},
     "outputs": [
      {
       "metadata": {},
       "output_type": "pyout",
       "prompt_number": 108,
       "text": [
        "(array([  38115.,    6912.,    6770.,    8186.,    6958.,    8090.,\n",
        "          11312.,   20414.,   58856.,  190796.]),\n",
        " array([     0. ,   5700.3,  11400.6,  17100.9,  22801.2,  28501.5,\n",
        "         34201.8,  39902.1,  45602.4,  51302.7,  57003. ]),\n",
        " <a list of 10 Patch objects>)"
       ]
      },
      {
       "metadata": {},
       "output_type": "display_data",
       "png": "[encoded data removed]",
       "text": [
        "<matplotlib.figure.Figure at 0xc5f6ed0>"
       ]
      }
     ],
     "prompt_number": 108
    },
    {
     "cell_type": "code",
     "collapsed": false,
     "input": [
      "ppq_prop_hom_calls_discordant_matrix.flatten()"
     ],
     "language": "python",
     "metadata": {},
     "outputs": [
      {
       "metadata": {},
       "output_type": "pyout",
       "prompt_number": 101,
       "text": [
        "array([        nan,         nan,  0.06719795, ...,  0.07132024,\n",
        "        0.07102216,         nan])"
       ]
      }
     ],
     "prompt_number": 101
    },
    {
     "cell_type": "code",
     "collapsed": false,
     "input": [],
     "language": "python",
     "metadata": {},
     "outputs": []
    }
   ],
   "metadata": {}
  }
 ]
}