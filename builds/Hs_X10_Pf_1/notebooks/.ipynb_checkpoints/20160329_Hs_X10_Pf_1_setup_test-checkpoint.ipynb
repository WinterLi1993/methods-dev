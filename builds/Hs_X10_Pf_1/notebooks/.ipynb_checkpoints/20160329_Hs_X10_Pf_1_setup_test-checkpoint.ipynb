{
 "cells": [
  {
   "cell_type": "markdown",
   "metadata": {},
   "source": [
    "#Background\n",
    "This notebook describes work on a release based on Pf reads found in human sequence data\n",
    "\n",
    "See emails from Jim:\n",
    "\n",
    "17/03/2016 14:22 - this has details of files of 5332 'lanelets' in /nfs/team112_internal/production_files/Hs/x10/metrics"
   ]
  },
  {
   "cell_type": "markdown",
   "metadata": {},
   "source": [
    "#Plan\n",
    "- Try to map all reads from human file for GF5122-C (best covered sample) to 3D7\n",
    "- Also the above for phix\n",
    "- Put the above into lookseq"
   ]
  },
  {
   "cell_type": "code",
   "execution_count": 3,
   "metadata": {
    "collapsed": false
   },
   "outputs": [
    {
     "name": "stdout",
     "output_type": "stream",
     "text": [
      "python 3.4.3 |Anaconda 2.2.0 (64-bit)| (default, Mar  6 2015, 12:03:53) \n",
      "[GCC 4.4.7 20120313 (Red Hat 4.4.7-1)]\n",
      "numpy 1.9.2\n",
      "scipy 0.15.1\n",
      "pandas 0.15.2\n",
      "numexpr 2.3.1\n",
      "pysam 0.8.3\n",
      "petl 1.0.11\n",
      "petlx 1.0.3\n",
      "vcf 0.6.7\n",
      "h5py 2.4.0\n",
      "tables 3.1.1\n",
      "vcfplt 0.8\n"
     ]
    }
   ],
   "source": [
    "%run standard_imports.ipynb"
   ]
  },
  {
   "cell_type": "code",
   "execution_count": 22,
   "metadata": {
    "collapsed": true
   },
   "outputs": [],
   "source": [
    "input_dir = '/lustre/scratch109/malaria/Hs_X10_Pf_1/input'\n",
    "output_dir = '/lustre/scratch109/malaria/Hs_X10_Pf_1/output'\n",
    "test_dir = '/lustre/scratch109/malaria/Hs_X10_Pf_1/test'\n",
    "!mkdir -p {input_dir}\n",
    "!mkdir -p {output_dir}\n",
    "!mkdir -p {test_dir}\n",
    "\n",
    "lanelets_fn = '/nfs/team112_internal/production_files/Hs/x10/metrics/oxcode_cram.tab'\n",
    "GF5122_C_irods = \"%s/GF5122_C.cram.irods\" % test_dir\n",
    "GF5122_C_fofn = \"/nfs/team112_internal/production/release_build/Pf/Hs_X10_Pf_1/Hs_X10_Pf_1.lanelets.fofn\"\n",
    "\n"
   ]
  },
  {
   "cell_type": "code",
   "execution_count": 2,
   "metadata": {
    "collapsed": false
   },
   "outputs": [
    {
     "name": "stdout",
     "output_type": "stream",
     "text": [
      "GF5122-C\t/seq/16592/16592_6#62.cram\r\n",
      "GF5122-C\t/seq/16606/16606_6#62.cram\r\n",
      "GF5122-C\t/seq/16656/16656_6#62.cram\r\n",
      "GF5122-C\t/seq/16600/16600_6#62.cram\r\n",
      "GF5122-C\t/seq/16607/16607_6#62.cram\r\n",
      "GF5122-C\t/seq/16601/16601_6#62.cram\r\n",
      "GF5122-C\t/seq/16618/16618_6#62.cram\r\n",
      "GF5122-C\t/seq/16604/16604_6#62.cram\r\n",
      "GF5122-C\t/seq/16626/16626_6#62.cram\r\n",
      "GF5122-C\t/seq/16591/16591_6#62.cram\r\n",
      "GF5122-C\t/seq/16605/16605_6#62.cram\r\n",
      "GF5122-C\t/seq/16627/16627_6#62.cram\r\n"
     ]
    }
   ],
   "source": [
    "!grep GF5122 {lanelets_fn}"
   ]
  },
  {
   "cell_type": "code",
   "execution_count": 4,
   "metadata": {
    "collapsed": true
   },
   "outputs": [],
   "source": [
    "!grep GF5122 {lanelets_fn} > {GF5122_C_irods}"
   ]
  },
  {
   "cell_type": "code",
   "execution_count": 5,
   "metadata": {
    "collapsed": false
   },
   "outputs": [
    {
     "name": "stdout",
     "output_type": "stream",
     "text": [
      "GF5122-C\t/seq/16592/16592_6#62.cram\r\n",
      "GF5122-C\t/seq/16606/16606_6#62.cram\r\n",
      "GF5122-C\t/seq/16656/16656_6#62.cram\r\n",
      "GF5122-C\t/seq/16600/16600_6#62.cram\r\n",
      "GF5122-C\t/seq/16607/16607_6#62.cram\r\n",
      "GF5122-C\t/seq/16601/16601_6#62.cram\r\n",
      "GF5122-C\t/seq/16618/16618_6#62.cram\r\n",
      "GF5122-C\t/seq/16604/16604_6#62.cram\r\n",
      "GF5122-C\t/seq/16626/16626_6#62.cram\r\n",
      "GF5122-C\t/seq/16591/16591_6#62.cram\r\n",
      "GF5122-C\t/seq/16605/16605_6#62.cram\r\n",
      "GF5122-C\t/seq/16627/16627_6#62.cram\r\n"
     ]
    }
   ],
   "source": [
    "!cat {GF5122_C_irods}"
   ]
  },
  {
   "cell_type": "code",
   "execution_count": 6,
   "metadata": {
    "collapsed": false
   },
   "outputs": [],
   "source": [
    "cwd = !pwd\n",
    "cwd = cwd[0]"
   ]
  },
  {
   "cell_type": "code",
   "execution_count": 7,
   "metadata": {
    "collapsed": false
   },
   "outputs": [
    {
     "name": "stdout",
     "output_type": "stream",
     "text": [
      "/lustre/scratch109/malaria/Hs_X10_Pf_1/test\n"
     ]
    }
   ],
   "source": [
    "%cd {test_dir}"
   ]
  },
  {
   "cell_type": "code",
   "execution_count": 8,
   "metadata": {
    "collapsed": false
   },
   "outputs": [
    {
     "name": "stdout",
     "output_type": "stream",
     "text": [
      "ERROR: getUtil: get error for ./16592_6#62.cram status = -312000 OVERWRITE_WITHOUT_FORCE_FLAG\r\n"
     ]
    }
   ],
   "source": [
    "tbl_GF5122_C_lanelets = etl.fromtsv(GF5122_C_irods).pushheader(['sample', 'file'])\n",
    "for rec in tbl_GF5122_C_lanelets.data():\n",
    "    !iget {rec[1]}\n"
   ]
  },
  {
   "cell_type": "code",
   "execution_count": 9,
   "metadata": {
    "collapsed": false
   },
   "outputs": [
    {
     "data": {
      "text/plain": [
       "'/nfs/team112_internal/rp7/src/github/malariagen/methods-dev/builds/Hs_X10_Pf_1/notebooks'"
      ]
     },
     "execution_count": 9,
     "metadata": {},
     "output_type": "execute_result"
    }
   ],
   "source": [
    "cwd"
   ]
  },
  {
   "cell_type": "code",
   "execution_count": 10,
   "metadata": {
    "collapsed": false
   },
   "outputs": [
    {
     "name": "stdout",
     "output_type": "stream",
     "text": [
      "/nfs/team112_internal/rp7/src/github/malariagen/methods-dev/builds/Hs_X10_Pf_1/notebooks\n",
      "/nfs/team112_internal/rp7/src/github/malariagen/methods-dev/builds/Hs_X10_Pf_1/notebooks\r\n"
     ]
    }
   ],
   "source": [
    "%cd {cwd}\n",
    "!pwd"
   ]
  },
  {
   "cell_type": "code",
   "execution_count": 28,
   "metadata": {
    "collapsed": false
   },
   "outputs": [
    {
     "data": {
      "text/html": [
       "<table class='petl'>\n",
       "<thead>\n",
       "<tr>\n",
       "<th>path</th>\n",
       "<th>sample</th>\n",
       "</tr>\n",
       "</thead>\n",
       "<tbody>\n",
       "<tr>\n",
       "<td>/lustre/scratch109/malaria/Hs_X10_Pf_1/test/16592_6#62.cram</td>\n",
       "<td>GF5122_C</td>\n",
       "</tr>\n",
       "<tr>\n",
       "<td>/lustre/scratch109/malaria/Hs_X10_Pf_1/test/16606_6#62.cram</td>\n",
       "<td>GF5122_C</td>\n",
       "</tr>\n",
       "<tr>\n",
       "<td>/lustre/scratch109/malaria/Hs_X10_Pf_1/test/16656_6#62.cram</td>\n",
       "<td>GF5122_C</td>\n",
       "</tr>\n",
       "<tr>\n",
       "<td>/lustre/scratch109/malaria/Hs_X10_Pf_1/test/16600_6#62.cram</td>\n",
       "<td>GF5122_C</td>\n",
       "</tr>\n",
       "<tr>\n",
       "<td>/lustre/scratch109/malaria/Hs_X10_Pf_1/test/16607_6#62.cram</td>\n",
       "<td>GF5122_C</td>\n",
       "</tr>\n",
       "</tbody>\n",
       "</table>\n",
       "<p><strong>...</strong></p>"
      ],
      "text/plain": [
       "+---------------------------------------------------------------+------------+\n",
       "| path                                                          | sample     |\n",
       "+===============================================================+============+\n",
       "| '/lustre/scratch109/malaria/Hs_X10_Pf_1/test/16592_6#62.cram' | 'GF5122_C' |\n",
       "+---------------------------------------------------------------+------------+\n",
       "| '/lustre/scratch109/malaria/Hs_X10_Pf_1/test/16606_6#62.cram' | 'GF5122_C' |\n",
       "+---------------------------------------------------------------+------------+\n",
       "| '/lustre/scratch109/malaria/Hs_X10_Pf_1/test/16656_6#62.cram' | 'GF5122_C' |\n",
       "+---------------------------------------------------------------+------------+\n",
       "| '/lustre/scratch109/malaria/Hs_X10_Pf_1/test/16600_6#62.cram' | 'GF5122_C' |\n",
       "+---------------------------------------------------------------+------------+\n",
       "| '/lustre/scratch109/malaria/Hs_X10_Pf_1/test/16607_6#62.cram' | 'GF5122_C' |\n",
       "+---------------------------------------------------------------+------------+\n",
       "..."
      ]
     },
     "execution_count": 28,
     "metadata": {},
     "output_type": "execute_result"
    }
   ],
   "source": [
    "tbl_fofn = (tbl_GF5122_C_lanelets\n",
    " .sub('sample', '-', '_')\n",
    " .sub('file', '/seq/[0-9]+/(.*)', '%s/\\\\1' % test_dir)\n",
    " .rename('file', 'path')\n",
    " .cut(['path', 'sample'])\n",
    ")\n",
    "tbl_fofn"
   ]
  },
  {
   "cell_type": "code",
   "execution_count": 29,
   "metadata": {
    "collapsed": false
   },
   "outputs": [],
   "source": [
    "tbl_fofn.totsv(GF5122_C_fofn)"
   ]
  },
  {
   "cell_type": "code",
   "execution_count": 30,
   "metadata": {
    "collapsed": false
   },
   "outputs": [
    {
     "data": {
      "text/plain": [
       "'/nfs/team112_internal/production/release_build/Pf/Hs_X10_Pf_1/Hs_X10_Pf_1.lanelets.fofn'"
      ]
     },
     "execution_count": 30,
     "metadata": {},
     "output_type": "execute_result"
    }
   ],
   "source": [
    "GF5122_C_fofn"
   ]
  },
  {
   "cell_type": "raw",
   "metadata": {},
   "source": [
    "vrpipe-setup --based_on WillH_mapping\n",
    "Based on PipelineSetup 730, your new setup will use the pipeline 'bam_mapping_with_bwa_mem_via_fastq_v2'\n",
    "Your chosen pipeline takes DataSource input during step(s):\n",
    "\t4 (bam_metadata - Takes a bam file and associates metadata with the file in the VRPipe database, making the bam file usable in other bam-related Steps), which expects:\n",
    "\t\tFile type = bam (bam files)\n",
    "\t\tNumber of files = 1..unlimited (and they must exist)\n",
    "\t5 (bam_shuffle_by_name - Shuffle and group alignments by name), which expects:\n",
    "\t\tFile type = bam (1 or more bam files)\n",
    "\t\tNumber of files = 1..unlimited (and they must exist)\n",
    "\n",
    "1. delimited (Use information in a delimited text file.)\n",
    "2. fofn (Use a simple list of absolute file paths (file-of-file-names) in a file as your source.)\n",
    "3. fofn_with_genome_chunking (Use a simple list of absolute file paths (file-of-file-names) in a file as your source.)\n",
    "4. fofn_with_metadata (Use information in a tab-delimited text file which specifies file paths and metadata to apply to that file.)\n",
    "5. fofn_with_metadata_with_genome_chunking (Use information in a tab-delimited text file which specifies file paths and metadata to apply to that file.)\n",
    "6. list (Use a simple list of items in a file as your source.)\n",
    "7. sequence_index (Use fastq files specified in a DCC sequence.index file, associating all the metadata available)\n",
    "8. vrpipe (Use files created by VRPipe pipelines as a datasource.)\n",
    "9. vrpipe_with_genome_chunking (Use files created by VRPipe pipelines as a datasource.)\n",
    "10. vrtrack (Use a VRTrack database to extract information from)\n",
    "Pick a DataSource type from the above list <1|2|3|4|5|6|7|8|9|10> [8]: 4\n",
    "fofn_with_metadata DataSources have a source described as:\n",
    "The path to a tab-delimeted text file where the first line has columns 'path' and then metadata key names, and subsequent lines have the absolute path to a file and the corresponding metadata key values. For example, to use bam files in most pipelines, the first line should have the columns: path center_name study sample platform library lane.\n",
    "Supply the source: /nfs/team112_internal/production/release_build/Pf/Hs_X10_Pf_1/Hs_X10_Pf_1.lanelets.fofn\n",
    "\n",
    "1. all_columns ()\n",
    "2. single_column ()\n",
    "3. grouped_by_metadata (Each element will consist of all the files given in the first column of the source that share values in the column(s) specified by the metadata_keys option. If you want to group by more than 1 metadata column, separate the key names with a '|' symbol. e.g. 'sample|platform|library' will group all files with the same sample, platform and library into one dataelement.)\n",
    "4. grouped_single_column ()\n",
    "5. group_all (All files in the file will be grouped into a single element.)\n",
    "6. all (Each element will consist of a single file given in the first column of the source; subsequent columns are applied as metadata to the file (overriding any existing metadata).)\n",
    "Pick one of the fofn_with_metadata DataSource methods from the above list <1|2|3|4|5|6>: 6\n",
    "(the 'all' method has no options)\n",
    "\n",
    "Please provide options for the 'bam_mapping_with_bwa_mem_via_fastq_v2' pipeline:\n",
    "\tsamtools_exe (optional, used by steps fasta_index, bam_shuffle_by_name, sam_to_fixed_bam_v2, bam_merge_lane_splits_v2, bam_index_v2)\n",
    "\tpath to your samtools executable [/nfs/team112_internal/production/tools/bin/samtools_1.2]: \n",
    "\treference_fasta (REQUIRED, used by steps fasta_index, sequence_dictionary, bwa_index, bwa_mem_fastq, sam_to_fixed_bam_v2)\n",
    "\tabsolute path to genome reference file used to do the mapping [/lustre/scratch109/malaria/pf3k_methods/resources/Pfalciparum.genome.fasta]: \n",
    "\treference_species (optional, used by step sequence_dictionary)\n",
    "\tspecies of the reference genome; defaults to being excluded [P.falciparum]: \n",
    "\treference_public_url (optional, used by step sequence_dictionary)\n",
    "\tpublic url that the reference_fasta can be accessed from; defaults to reference_fasta path [http://plasmodb.org/common/downloads/release-9.2/Pfalciparum3D7/fasta/data/PlasmoDB-9.2_Pfalciparum3D7_Genome.fasta]: \n",
    "\treference_assembly_name (optional, used by step sequence_dictionary)\n",
    "\tpublic name of the assembly, eg. NCBI37; defaults to being excluded [Pf3D7_v3]: \n",
    "\tbwa_index_options (optional, used by step bwa_index)\n",
    "\toptions to bwa index, excluding the reference fasta file [-a bwtsw]: \n",
    "\tbwa_exe (optional, used by steps bwa_index, bwa_mem_fastq)\n",
    "\tpath to your bwa executable [/nfs/team112_internal/production/tools/bin/bwa-0.7.12]: \n",
    "\tbamcheck_exe (optional, used by step bam_metadata)\n",
    "\tpath to your bamcheck executable [/nfs/team112_internal/production/tools/bin/bamcheck-2012-02-11]: \n",
    "\tstore_original_pg_chain (optional, used by step bam_metadata)\n",
    "\tIf your input bam was not created by VRPipe and will subsequently go through the bam_reheader step, keep this on; otherwise be sure to turn it off. [1]: \n",
    "\tbamshuf_options (optional, used by step bam_shuffle_by_name)\n",
    "\tcommand line options for samtools bamshuf, excluding the -O option: \n",
    "\tbam2fastq_exe (optional, used by step bam_to_fastq)\n",
    "\tpath to bam2fastq executable [/nfs/team112_internal/production/tools/bin/bam2fastq]: \n",
    "\tfastqcheck_exe (optional, used by step bam_to_fastq)\n",
    "\tpath to fastqcheck executable [/nfs/team112_internal/production/tools/bin/fastqcheck]: \n",
    "\tbam2fastq_opts (optional, used by step bam_to_fastq)\n",
    "\tbam2fastq options excluding --o: \n",
    "\tfastq_chunk_size (REQUIRED, used by step fastq_split)\n",
    "\twhen splitting fastq files into smaller chunks, this sets the size in bp; a good figure might be 1000000000 for a fast mapper [1000000000]: \n",
    "\tbwa_mem_options (optional, used by step bwa_mem_fastq)\n",
    "\toptions to bwa mem, excluding the input fastq, and reference [-M]: \n",
    "\tfixed_bam_seq_from_reference (optional, used by step sam_to_fixed_bam_v2)\n",
    "\tA boolean to choose whether sequence info is read from the reference -- set for mappers, such as smalt, which don't include this in output sam files: \n",
    "\tcompressed_bam_output (optional, used by step sam_to_fixed_bam_v2)\n",
    "\tA boolean to choose if the output bams from this step should be compressed [1]: \n",
    "\tbam_merge_keep_single_paired_separate (optional, used by step bam_merge_lane_splits_v2)\n",
    "\twhen merging bam files, separately merges single ended bam files and paired-end bam files, resulting in 2 merged bam files [1]: \n",
    "\n",
    "Certain behaviours of your pipeline are regulated by boolean keys:\n",
    "\t'delete_input_bams' key controls the behaviours:\n",
    "\t\t'delete_inputs' - acts on steps 0\n",
    "\tTurn this behaviour on (1) or off (0)? <0|1> [0]: \n",
    "\t'cleanup' key controls the behaviours:\n",
    "\t\t'delete_outputs' - acts on steps 5, 6, 7, 8, 9\n",
    "\tTurn this behaviour on (1) or off (0)? <0|1> [1]: \n",
    "Please provide the absolute path to the root directory that output files will be written to [/lustre/scratch109/malaria/WillH_1/output]: /lustre/scratch109/malaria/Hs_X10_Pf_1/output\n",
    "Which Unix group should output files should belong to (no answer uses the default group of the user that runs vrpipe-server) [team112]: \n",
    "Which vrpipe-server (identified by the 'farm' name) should the setup be controlled by (entering nothing means a random server will be used) <farm3> [farm3]: \n",
    "What would you like to call your new pipeline setup?: Hs_X10_Pf_mapping\n",
    "\n",
    "We've now gathered all information; here's what you've asked for:\n",
    "\tPipelineSetup name: Hs_X10_Pf_mapping (for user rp7 controlled by farm 'farm3')\n",
    "\tDataSource: fofn_with_metadata->all with source /nfs/team112_internal/production/release_build/Pf/Hs_X10_Pf_1/Hs_X10_Pf_1.lanelets.fofn:\n",
    "\tPipeline: bam_mapping_with_bwa_mem_via_fastq_v2 (outputting to /lustre/scratch109/malaria/Hs_X10_Pf_1/output belonging to group team112):\n",
    "\t\tbam2fastq_exe => /nfs/team112_internal/production/tools/bin/bam2fastq\n",
    "\t\tbam_merge_keep_single_paired_separate => 1\n",
    "\t\tbamcheck_exe => /nfs/team112_internal/production/tools/bin/bamcheck-2012-02-11\n",
    "\t\tbwa_exe => /nfs/team112_internal/production/tools/bin/bwa-0.7.12\n",
    "\t\tbwa_index_options => -a bwtsw\n",
    "\t\tbwa_mem_options => -M\n",
    "\t\tcleanup => 1\n",
    "\t\tcompressed_bam_output => 1\n",
    "\t\tdelete_input_bams => 0\n",
    "\t\tfastq_chunk_size => 1000000000\n",
    "\t\tfastqcheck_exe => /nfs/team112_internal/production/tools/bin/fastqcheck\n",
    "\t\treference_assembly_name => Pf3D7_v3\n",
    "\t\treference_fasta => /lustre/scratch109/malaria/pf3k_methods/resources/Pfalciparum.genome.fasta\n",
    "\t\treference_public_url => http://plasmodb.org/common/downloads/release-9.2/Pfalciparum3D7/fasta/data/PlasmoDB-9.2_Pfalciparum3D7_Genome.fasta\n",
    "\t\treference_species => P.falciparum\n",
    "\t\tsamtools_exe => /nfs/team112_internal/production/tools/bin/samtools_1.2\n",
    "\t\tstore_original_pg_chain => 1\n",
    "Is all of this correct? <y|n>: y\n",
    "\n",
    "Your new PipelineSetup has been created!\n",
    "Name: Hs_X10_Pf_mapping; Id: 748 (remember at least one of these for use later)\n"
   ]
  },
  {
   "cell_type": "code",
   "execution_count": null,
   "metadata": {
    "collapsed": true
   },
   "outputs": [],
   "source": []
  }
 ],
 "metadata": {
  "kernelspec": {
   "display_name": "Python 3",
   "language": "python",
   "name": "python3"
  },
  "language_info": {
   "codemirror_mode": {
    "name": "ipython",
    "version": 3
   },
   "file_extension": ".py",
   "mimetype": "text/x-python",
   "name": "python",
   "nbconvert_exporter": "python",
   "pygments_lexer": "ipython3",
   "version": "3.4.3"
  }
 },
 "nbformat": 4,
 "nbformat_minor": 0
}
