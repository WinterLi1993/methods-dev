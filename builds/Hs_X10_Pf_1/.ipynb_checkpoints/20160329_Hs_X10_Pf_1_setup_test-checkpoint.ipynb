{
 "cells": [
  {
   "cell_type": "markdown",
   "metadata": {},
   "source": [
    "#Background\n",
    "This notebook describes work on a release based on Pf reads found in human sequence data\n",
    "\n",
    "See emails from Jim:\n",
    "\n",
    "17/03/2016 14:22 - this has details of files of 5332 'lanelets' in /nfs/team112_internal/production_files/Hs/x10/metrics"
   ]
  },
  {
   "cell_type": "markdown",
   "metadata": {},
   "source": [
    "#Plan\n",
    "- Try to map all reads from human file for GF5122-C (best covered sample) to 3D7\n",
    "- Also the above for phix\n",
    "- Put the above into lookseq"
   ]
  },
  {
   "cell_type": "code",
   "execution_count": null,
   "metadata": {
    "collapsed": true
   },
   "outputs": [],
   "source": [
    "%run standard_imports.ipynb"
   ]
  },
  {
   "cell_type": "code",
   "execution_count": 3,
   "metadata": {
    "collapsed": true
   },
   "outputs": [],
   "source": [
    "lanelets_fn = '/nfs/team112_internal/production_files/Hs/x10/metrics/oxcode_cram.tab'\n",
    "\n",
    "input_dir = '/lustre/scratch109/malaria/Hs_X10_Pf_1/input'\n",
    "output_dir = '/lustre/scratch109/malaria/Hs_X10_Pf_1/output'\n",
    "test_dir = '/lustre/scratch109/malaria/Hs_X10_Pf_1/test'\n",
    "!mkdir -p {input_dir}\n",
    "!mkdir -p {output_dir}\n",
    "!mkdir -p {test_dir}\n"
   ]
  },
  {
   "cell_type": "code",
   "execution_count": 2,
   "metadata": {
    "collapsed": false
   },
   "outputs": [
    {
     "name": "stdout",
     "output_type": "stream",
     "text": [
      "GF5122-C\t/seq/16592/16592_6#62.cram\r\n",
      "GF5122-C\t/seq/16606/16606_6#62.cram\r\n",
      "GF5122-C\t/seq/16656/16656_6#62.cram\r\n",
      "GF5122-C\t/seq/16600/16600_6#62.cram\r\n",
      "GF5122-C\t/seq/16607/16607_6#62.cram\r\n",
      "GF5122-C\t/seq/16601/16601_6#62.cram\r\n",
      "GF5122-C\t/seq/16618/16618_6#62.cram\r\n",
      "GF5122-C\t/seq/16604/16604_6#62.cram\r\n",
      "GF5122-C\t/seq/16626/16626_6#62.cram\r\n",
      "GF5122-C\t/seq/16591/16591_6#62.cram\r\n",
      "GF5122-C\t/seq/16605/16605_6#62.cram\r\n",
      "GF5122-C\t/seq/16627/16627_6#62.cram\r\n"
     ]
    }
   ],
   "source": [
    "!grep GF5122 {lanelets_fn}"
   ]
  },
  {
   "cell_type": "code",
   "execution_count": null,
   "metadata": {
    "collapsed": true
   },
   "outputs": [],
   "source": []
  },
  {
   "cell_type": "code",
   "execution_count": 4,
   "metadata": {
    "collapsed": true
   },
   "outputs": [],
   "source": [
    "!grep GF5122 {lanelets_fn} > {test_dir}/GF5122_C.cram.fofn"
   ]
  },
  {
   "cell_type": "code",
   "execution_count": 5,
   "metadata": {
    "collapsed": false
   },
   "outputs": [
    {
     "name": "stdout",
     "output_type": "stream",
     "text": [
      "GF5122-C\t/seq/16592/16592_6#62.cram\r\n",
      "GF5122-C\t/seq/16606/16606_6#62.cram\r\n",
      "GF5122-C\t/seq/16656/16656_6#62.cram\r\n",
      "GF5122-C\t/seq/16600/16600_6#62.cram\r\n",
      "GF5122-C\t/seq/16607/16607_6#62.cram\r\n",
      "GF5122-C\t/seq/16601/16601_6#62.cram\r\n",
      "GF5122-C\t/seq/16618/16618_6#62.cram\r\n",
      "GF5122-C\t/seq/16604/16604_6#62.cram\r\n",
      "GF5122-C\t/seq/16626/16626_6#62.cram\r\n",
      "GF5122-C\t/seq/16591/16591_6#62.cram\r\n",
      "GF5122-C\t/seq/16605/16605_6#62.cram\r\n",
      "GF5122-C\t/seq/16627/16627_6#62.cram\r\n"
     ]
    }
   ],
   "source": [
    "!cat {test_dir}/GF5122_C.cram.fofn"
   ]
  },
  {
   "cell_type": "code",
   "execution_count": 15,
   "metadata": {
    "collapsed": false
   },
   "outputs": [
    {
     "name": "stdout",
     "output_type": "stream",
     "text": [
      "/nfs/team112_internal/rp7/src/github/malariagen/methods-dev/builds\n",
      "/nfs/team112_internal/rp7/src/github/malariagen/methods-dev/builds\r\n"
     ]
    }
   ],
   "source": [
    "cwd = !pwd\n",
    "cwd = cwd[0]\n"
   ]
  },
  {
   "cell_type": "code",
   "execution_count": null,
   "metadata": {
    "collapsed": true
   },
   "outputs": [],
   "source": [
    "%cd {test_dir}\n"
   ]
  },
  {
   "cell_type": "code",
   "execution_count": 16,
   "metadata": {
    "collapsed": false
   },
   "outputs": [
    {
     "data": {
      "text/plain": [
       "'/nfs/team112_internal/rp7/src/github/malariagen/methods-dev/builds/Hs_X10_Pf_1'"
      ]
     },
     "execution_count": 16,
     "metadata": {},
     "output_type": "execute_result"
    }
   ],
   "source": [
    "cwd"
   ]
  },
  {
   "cell_type": "code",
   "execution_count": 18,
   "metadata": {
    "collapsed": false
   },
   "outputs": [
    {
     "name": "stdout",
     "output_type": "stream",
     "text": [
      "/nfs/team112_internal/rp7/src/github/malariagen/methods-dev/builds/Hs_X10_Pf_1\n",
      "/nfs/team112_internal/rp7/src/github/malariagen/methods-dev/builds/Hs_X10_Pf_1\r\n"
     ]
    }
   ],
   "source": [
    "%cd {cwd}\n",
    "!pwd"
   ]
  },
  {
   "cell_type": "code",
   "execution_count": null,
   "metadata": {
    "collapsed": true
   },
   "outputs": [],
   "source": []
  }
 ],
 "metadata": {
  "kernelspec": {
   "display_name": "Python 3",
   "language": "python",
   "name": "python3"
  },
  "language_info": {
   "codemirror_mode": {
    "name": "ipython",
    "version": 3
   },
   "file_extension": ".py",
   "mimetype": "text/x-python",
   "name": "python",
   "nbconvert_exporter": "python",
   "pygments_lexer": "ipython3",
   "version": "3.4.3"
  }
 },
 "nbformat": 4,
 "nbformat_minor": 0
}
