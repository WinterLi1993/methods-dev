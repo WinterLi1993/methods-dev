{
 "cells": [
  {
   "cell_type": "markdown",
   "metadata": {},
   "source": [
    "# This notebook abandoned as after realising many samples weren't in Pf community 5.1. See 20160323_WillH_1_setup for pipeline actually run"
   ]
  },
  {
   "cell_type": "markdown",
   "metadata": {},
   "source": [
    "#Plan\n",
    "- Make fofn of Pf community 5.1 sample bams\n",
    "- Create various setups (see Dushi email 02/10/2015 16:47)\n",
    "    - vrpipe-setup —based_on pf3kgatk_mapping (for example) 4 fofn_with_metadata\n",
    "    - wait for Dushi before running pf3kgatk_combine_gvcfs\n",
    "- output to /lustre/scratch109/malaria/WillH_1\n",
    "- final output to /nfs/team112_internal/production/release_build/Pf/WillH_1\n",
    "\n"
   ]
  },
  {
   "cell_type": "code",
   "execution_count": 1,
   "metadata": {
    "collapsed": false
   },
   "outputs": [
    {
     "name": "stdout",
     "output_type": "stream",
     "text": [
      "python 3.4.3 |Anaconda 2.2.0 (64-bit)| (default, Mar  6 2015, 12:03:53) \n",
      "[GCC 4.4.7 20120313 (Red Hat 4.4.7-1)]\n",
      "numpy 1.9.2\n",
      "scipy 0.15.1\n",
      "pandas 0.15.2\n",
      "numexpr 2.3.1\n",
      "pysam 0.8.3\n",
      "petl 1.0.11\n",
      "petlx 1.0.3\n",
      "vcf 0.6.7\n",
      "h5py 2.4.0\n",
      "tables 3.1.1\n",
      "vcfplt 0.8\n"
     ]
    }
   ],
   "source": [
    "%run standard_imports.ipynb"
   ]
  },
  {
   "cell_type": "code",
   "execution_count": 4,
   "metadata": {
    "collapsed": true
   },
   "outputs": [],
   "source": [
    "pf_51_manifest_fn = '/nfs/team112_internal/production/release_build/Pf/5_1_release_packages/pf_51_freeze_manifest.tab'\n",
    "WillH_1_samples_fn = '/lustre/scratch109/malaria/WillH_1/meta/Antoine_samples_vrpipe2.txt'"
   ]
  },
  {
   "cell_type": "code",
   "execution_count": 8,
   "metadata": {
    "collapsed": false
   },
   "outputs": [
    {
     "data": {
      "text/html": [
       "<table class='petl'>\n",
       "<thead>\n",
       "<tr>\n",
       "<th>path</th>\n",
       "<th>study</th>\n",
       "<th>sample</th>\n",
       "<th>bases</th>\n",
       "<th>bases_mapped</th>\n",
       "<th>avg_read_length</th>\n",
       "<th>bases_of_1X_coverage</th>\n",
       "<th>bases_of_5X_coverage</th>\n",
       "<th>bases_of_10X_coverage</th>\n",
       "<th>bases_of_50X_coverage</th>\n",
       "<th>mean_coverage</th>\n",
       "<th>sample_acc</th>\n",
       "<th>run_acc</th>\n",
       "</tr>\n",
       "</thead>\n",
       "<tbody>\n",
       "<tr>\n",
       "<td>/lustre/scratch109/malaria/pfalciparum/output/d/c/3/e/61647/1_bam_merge/pe.1.bam</td>\n",
       "<td>1032-PF-BRHN-SMITHEE</td>\n",
       "<td>PG0001-C</td>\n",
       "<td>3447896204</td>\n",
       "<td>3043375666</td>\n",
       "<td>39</td>\n",
       "<td>23131654</td>\n",
       "<td>22716877</td>\n",
       "<td>21864373</td>\n",
       "<td>13343071</td>\n",
       "<td>109.26</td>\n",
       "<td>ERS010294,ERS013850</td>\n",
       "<td>ERR012869,ERR012873,ERR012876,ERR012877,ERR012881,ERR012887,ERR012888,ERR023690</td>\n",
       "</tr>\n",
       "<tr>\n",
       "<td>/lustre/scratch109/malaria/pfalciparum/output/6/c/8/0/61648/1_bam_merge/pe.1.bam</td>\n",
       "<td>1032-PF-BRHN-SMITHEE</td>\n",
       "<td>PG0002-C</td>\n",
       "<td>21645112922</td>\n",
       "<td>18666322307</td>\n",
       "<td>62</td>\n",
       "<td>23333480</td>\n",
       "<td>23332354</td>\n",
       "<td>23331510</td>\n",
       "<td>23321198</td>\n",
       "<td>551.94</td>\n",
       "<td>ERS010295,ERS010296,ERS010297,ERS010298,ERS010536,ERS010537,ERS010538,ERS010620,ERS010621,ERS010680,ERS010682,ERS011038,ERS013846,ERS014191,ERS014195</td>\n",
       "<td>ERR012535,ERR012537,ERR012538,ERR012863,ERR012864,ERR012865,ERR012866,ERR012868,ERR012870,ERR012872,ERR012875,ERR012879,ERR012880,ERR012884,ERR012885,ERR012886,ERR012889,ERR013269,ERR013270,ERR013274,ERR015442,ERR015444,ERR015445,ERR023689,ERR037226,ERR047174,ERR137288</td>\n",
       "</tr>\n",
       "<tr>\n",
       "<td>/lustre/scratch109/malaria/pfalciparum/output/7/9/7/a/43738/1_bam_merge/pe.1.bam</td>\n",
       "<td>1032-PF-BRHN-SMITHEE</td>\n",
       "<td>PG0004-C</td>\n",
       "<td>2750739766</td>\n",
       "<td>2339055048</td>\n",
       "<td>37</td>\n",
       "<td>18577719</td>\n",
       "<td>15086744</td>\n",
       "<td>13434462</td>\n",
       "<td>8121553</td>\n",
       "<td>88.53</td>\n",
       "<td>ERS010420</td>\n",
       "<td>ERR019914,ERR019915,ERR019916</td>\n",
       "</tr>\n",
       "<tr>\n",
       "<td>/lustre/scratch109/malaria/pfalciparum/output/2/d/f/7/43746/1_bam_merge/pe.1.bam</td>\n",
       "<td>1033-PF-BRGHSEA-SU</td>\n",
       "<td>PG0012-Cx</td>\n",
       "<td>3431249672</td>\n",
       "<td>3069557160</td>\n",
       "<td>76</td>\n",
       "<td>21664837</td>\n",
       "<td>18460914</td>\n",
       "<td>16605166</td>\n",
       "<td>12454965</td>\n",
       "<td>129.15</td>\n",
       "<td>ERS010593</td>\n",
       "<td>ERR015393</td>\n",
       "</tr>\n",
       "<tr>\n",
       "<td>/lustre/scratch109/malaria/pfalciparum/output/3/b/b/0/43747/1_bam_merge/pe.1.bam</td>\n",
       "<td>1033-PF-BRGHSEA-SU</td>\n",
       "<td>PG0013-Cx</td>\n",
       "<td>1360470376</td>\n",
       "<td>1198902128</td>\n",
       "<td>76</td>\n",
       "<td>21381664</td>\n",
       "<td>17550500</td>\n",
       "<td>15283618</td>\n",
       "<td>8700295</td>\n",
       "<td>53.80</td>\n",
       "<td>ERS010594</td>\n",
       "<td>ERR015346</td>\n",
       "</tr>\n",
       "</tbody>\n",
       "</table>\n",
       "<p><strong>...</strong></p>"
      ],
      "text/plain": [
       "+------------------------------------------------------------------------------------+------------------------+-------------+---------------+---------------+-----------------+----------------------+----------------------+-----------------------+-----------------------+---------------+---------------------------------------------------------------------------------------------------------------------------------------------------------+---------------------------------------------------------------------------------------------------------------------------------------------------------------------------------------------------------------------------------------------------------------------------------+\n",
       "| path                                                                               | study                  | sample      | bases         | bases_mapped  | avg_read_length | bases_of_1X_coverage | bases_of_5X_coverage | bases_of_10X_coverage | bases_of_50X_coverage | mean_coverage | sample_acc                                                                                                                                              | run_acc                                                                                                                                                                                                                                                                         |\n",
       "+====================================================================================+========================+=============+===============+===============+=================+======================+======================+=======================+=======================+===============+=========================================================================================================================================================+=================================================================================================================================================================================================================================================================================+\n",
       "| '/lustre/scratch109/malaria/pfalciparum/output/d/c/3/e/61647/1_bam_merge/pe.1.bam' | '1032-PF-BRHN-SMITHEE' | 'PG0001-C'  | '3447896204'  | '3043375666'  | '39'            | '23131654'           | '22716877'           | '21864373'            | '13343071'            | '109.26'      | 'ERS010294,ERS013850'                                                                                                                                   | 'ERR012869,ERR012873,ERR012876,ERR012877,ERR012881,ERR012887,ERR012888,ERR023690'                                                                                                                                                                                               |\n",
       "+------------------------------------------------------------------------------------+------------------------+-------------+---------------+---------------+-----------------+----------------------+----------------------+-----------------------+-----------------------+---------------+---------------------------------------------------------------------------------------------------------------------------------------------------------+---------------------------------------------------------------------------------------------------------------------------------------------------------------------------------------------------------------------------------------------------------------------------------+\n",
       "| '/lustre/scratch109/malaria/pfalciparum/output/6/c/8/0/61648/1_bam_merge/pe.1.bam' | '1032-PF-BRHN-SMITHEE' | 'PG0002-C'  | '21645112922' | '18666322307' | '62'            | '23333480'           | '23332354'           | '23331510'            | '23321198'            | '551.94'      | 'ERS010295,ERS010296,ERS010297,ERS010298,ERS010536,ERS010537,ERS010538,ERS010620,ERS010621,ERS010680,ERS010682,ERS011038,ERS013846,ERS014191,ERS014195' | 'ERR012535,ERR012537,ERR012538,ERR012863,ERR012864,ERR012865,ERR012866,ERR012868,ERR012870,ERR012872,ERR012875,ERR012879,ERR012880,ERR012884,ERR012885,ERR012886,ERR012889,ERR013269,ERR013270,ERR013274,ERR015442,ERR015444,ERR015445,ERR023689,ERR037226,ERR047174,ERR137288' |\n",
       "+------------------------------------------------------------------------------------+------------------------+-------------+---------------+---------------+-----------------+----------------------+----------------------+-----------------------+-----------------------+---------------+---------------------------------------------------------------------------------------------------------------------------------------------------------+---------------------------------------------------------------------------------------------------------------------------------------------------------------------------------------------------------------------------------------------------------------------------------+\n",
       "| '/lustre/scratch109/malaria/pfalciparum/output/7/9/7/a/43738/1_bam_merge/pe.1.bam' | '1032-PF-BRHN-SMITHEE' | 'PG0004-C'  | '2750739766'  | '2339055048'  | '37'            | '18577719'           | '15086744'           | '13434462'            | '8121553'             | '88.53'       | 'ERS010420'                                                                                                                                             | 'ERR019914,ERR019915,ERR019916'                                                                                                                                                                                                                                                 |\n",
       "+------------------------------------------------------------------------------------+------------------------+-------------+---------------+---------------+-----------------+----------------------+----------------------+-----------------------+-----------------------+---------------+---------------------------------------------------------------------------------------------------------------------------------------------------------+---------------------------------------------------------------------------------------------------------------------------------------------------------------------------------------------------------------------------------------------------------------------------------+\n",
       "| '/lustre/scratch109/malaria/pfalciparum/output/2/d/f/7/43746/1_bam_merge/pe.1.bam' | '1033-PF-BRGHSEA-SU'   | 'PG0012-Cx' | '3431249672'  | '3069557160'  | '76'            | '21664837'           | '18460914'           | '16605166'            | '12454965'            | '129.15'      | 'ERS010593'                                                                                                                                             | 'ERR015393'                                                                                                                                                                                                                                                                     |\n",
       "+------------------------------------------------------------------------------------+------------------------+-------------+---------------+---------------+-----------------+----------------------+----------------------+-----------------------+-----------------------+---------------+---------------------------------------------------------------------------------------------------------------------------------------------------------+---------------------------------------------------------------------------------------------------------------------------------------------------------------------------------------------------------------------------------------------------------------------------------+\n",
       "| '/lustre/scratch109/malaria/pfalciparum/output/3/b/b/0/43747/1_bam_merge/pe.1.bam' | '1033-PF-BRGHSEA-SU'   | 'PG0013-Cx' | '1360470376'  | '1198902128'  | '76'            | '21381664'           | '17550500'           | '15283618'            | '8700295'             | '53.80'       | 'ERS010594'                                                                                                                                             | 'ERR015346'                                                                                                                                                                                                                                                                     |\n",
       "+------------------------------------------------------------------------------------+------------------------+-------------+---------------+---------------+-----------------+----------------------+----------------------+-----------------------+-----------------------+---------------+---------------------------------------------------------------------------------------------------------------------------------------------------------+---------------------------------------------------------------------------------------------------------------------------------------------------------------------------------------------------------------------------------------------------------------------------------+\n",
       "..."
      ]
     },
     "execution_count": 8,
     "metadata": {},
     "output_type": "execute_result"
    }
   ],
   "source": [
    "tbl_pf_51_manifest = etl.fromtsv(pf_51_manifest_fn)\n",
    "tbl_pf_51_manifest"
   ]
  },
  {
   "cell_type": "code",
   "execution_count": 9,
   "metadata": {
    "collapsed": false
   },
   "outputs": [
    {
     "data": {
      "text/html": [
       "<table class='petl'>\n",
       "<thead>\n",
       "<tr>\n",
       "<th>sample</th>\n",
       "</tr>\n",
       "</thead>\n",
       "<tbody>\n",
       "<tr>\n",
       "<td>PG0125-C</td>\n",
       "</tr>\n",
       "<tr>\n",
       "<td>PG0134-C</td>\n",
       "</tr>\n",
       "<tr>\n",
       "<td>PG0135-C</td>\n",
       "</tr>\n",
       "<tr>\n",
       "<td>PG0136-C</td>\n",
       "</tr>\n",
       "<tr>\n",
       "<td>PG0137-C</td>\n",
       "</tr>\n",
       "</tbody>\n",
       "</table>\n",
       "<p><strong>...</strong></p>"
      ],
      "text/plain": [
       "+------------+\n",
       "| sample     |\n",
       "+============+\n",
       "| 'PG0125-C' |\n",
       "+------------+\n",
       "| 'PG0134-C' |\n",
       "+------------+\n",
       "| 'PG0135-C' |\n",
       "+------------+\n",
       "| 'PG0136-C' |\n",
       "+------------+\n",
       "| 'PG0137-C' |\n",
       "+------------+\n",
       "..."
      ]
     },
     "execution_count": 9,
     "metadata": {},
     "output_type": "execute_result"
    }
   ],
   "source": [
    "tbl_WillH_1_samples = etl.fromtsv(WillH_1_samples_fn).pushheader(['sample'])\n",
    "tbl_WillH_1_samples"
   ]
  },
  {
   "cell_type": "code",
   "execution_count": 10,
   "metadata": {
    "collapsed": false
   },
   "outputs": [
    {
     "name": "stdout",
     "output_type": "stream",
     "text": [
      "424\n"
     ]
    },
    {
     "data": {
      "text/html": [
       "<table class='petl'>\n",
       "<thead>\n",
       "<tr>\n",
       "<th>path</th>\n",
       "<th>sample</th>\n",
       "</tr>\n",
       "</thead>\n",
       "<tbody>\n",
       "<tr>\n",
       "<td>/lustre/scratch109/malaria/pfalciparum/output/9/4/8/a/42798/1_bam_merge/pe.1.bam</td>\n",
       "<td>PA0106-C</td>\n",
       "</tr>\n",
       "<tr>\n",
       "<td>/lustre/scratch109/malaria/pfalciparum/output/9/5/4/1/42799/1_bam_merge/pe.1.bam</td>\n",
       "<td>PA0106-CW</td>\n",
       "</tr>\n",
       "<tr>\n",
       "<td>/lustre/scratch109/malaria/pfalciparum/output/e/7/c/6/42800/1_bam_merge/pe.1.bam</td>\n",
       "<td>PA0106-CW2</td>\n",
       "</tr>\n",
       "<tr>\n",
       "<td>/lustre/scratch109/malaria/pfalciparum/output/4/5/3/e/42801/1_bam_merge/pe.1.bam</td>\n",
       "<td>PA0106-CW3</td>\n",
       "</tr>\n",
       "<tr>\n",
       "<td>/lustre/scratch109/malaria/pfalciparum/output/a/f/1/d/42802/1_bam_merge/pe.1.bam</td>\n",
       "<td>PA0107-C</td>\n",
       "</tr>\n",
       "</tbody>\n",
       "</table>\n",
       "<p><strong>...</strong></p>"
      ],
      "text/plain": [
       "+------------------------------------------------------------------------------------+--------------+\n",
       "| path                                                                               | sample       |\n",
       "+====================================================================================+==============+\n",
       "| '/lustre/scratch109/malaria/pfalciparum/output/9/4/8/a/42798/1_bam_merge/pe.1.bam' | 'PA0106-C'   |\n",
       "+------------------------------------------------------------------------------------+--------------+\n",
       "| '/lustre/scratch109/malaria/pfalciparum/output/9/5/4/1/42799/1_bam_merge/pe.1.bam' | 'PA0106-CW'  |\n",
       "+------------------------------------------------------------------------------------+--------------+\n",
       "| '/lustre/scratch109/malaria/pfalciparum/output/e/7/c/6/42800/1_bam_merge/pe.1.bam' | 'PA0106-CW2' |\n",
       "+------------------------------------------------------------------------------------+--------------+\n",
       "| '/lustre/scratch109/malaria/pfalciparum/output/4/5/3/e/42801/1_bam_merge/pe.1.bam' | 'PA0106-CW3' |\n",
       "+------------------------------------------------------------------------------------+--------------+\n",
       "| '/lustre/scratch109/malaria/pfalciparum/output/a/f/1/d/42802/1_bam_merge/pe.1.bam' | 'PA0107-C'   |\n",
       "+------------------------------------------------------------------------------------+--------------+\n",
       "..."
      ]
     },
     "execution_count": 10,
     "metadata": {},
     "output_type": "execute_result"
    }
   ],
   "source": [
    "tbl_vrpipe = (tbl_WillH_1_samples\n",
    "    .join(tbl_pf_51_manifest, key='sample')\n",
    "    .cut(['path', 'sample'])\n",
    ")\n",
    "print(len(tbl_vrpipe.data()))\n",
    "tbl_vrpipe"
   ]
  },
  {
   "cell_type": "code",
   "execution_count": 14,
   "metadata": {
    "collapsed": false
   },
   "outputs": [
    {
     "name": "stdout",
     "output_type": "stream",
     "text": [
      "44\n"
     ]
    },
    {
     "data": {
      "text/html": [
       "<table class='petl'>\n",
       "<thead>\n",
       "<tr>\n",
       "<th>sample</th>\n",
       "</tr>\n",
       "</thead>\n",
       "<tbody>\n",
       "<tr>\n",
       "<td>PG0514-C</td>\n",
       "</tr>\n",
       "<tr>\n",
       "<td>PG0515-C</td>\n",
       "</tr>\n",
       "<tr>\n",
       "<td>PG0516-C</td>\n",
       "</tr>\n",
       "<tr>\n",
       "<td>PG0517-C</td>\n",
       "</tr>\n",
       "<tr>\n",
       "<td>PG0518-C</td>\n",
       "</tr>\n",
       "<tr>\n",
       "<td>PG0519-C</td>\n",
       "</tr>\n",
       "<tr>\n",
       "<td>PG0520-C</td>\n",
       "</tr>\n",
       "<tr>\n",
       "<td>PG0521-C</td>\n",
       "</tr>\n",
       "<tr>\n",
       "<td>PG0522-C</td>\n",
       "</tr>\n",
       "<tr>\n",
       "<td>PG0523-C</td>\n",
       "</tr>\n",
       "<tr>\n",
       "<td>PG0524-C</td>\n",
       "</tr>\n",
       "<tr>\n",
       "<td>PG0530-C</td>\n",
       "</tr>\n",
       "<tr>\n",
       "<td>PG0531-C</td>\n",
       "</tr>\n",
       "<tr>\n",
       "<td>PG0532-C</td>\n",
       "</tr>\n",
       "<tr>\n",
       "<td>PG0533-C</td>\n",
       "</tr>\n",
       "<tr>\n",
       "<td>PG0534-C</td>\n",
       "</tr>\n",
       "<tr>\n",
       "<td>PG0535-C</td>\n",
       "</tr>\n",
       "<tr>\n",
       "<td>PG0536-C</td>\n",
       "</tr>\n",
       "<tr>\n",
       "<td>PG0537-C</td>\n",
       "</tr>\n",
       "<tr>\n",
       "<td>PG0538-C</td>\n",
       "</tr>\n",
       "<tr>\n",
       "<td>PG0539-C</td>\n",
       "</tr>\n",
       "<tr>\n",
       "<td>PG0540-C</td>\n",
       "</tr>\n",
       "<tr>\n",
       "<td>PG0541-C</td>\n",
       "</tr>\n",
       "<tr>\n",
       "<td>PG0542-C</td>\n",
       "</tr>\n",
       "<tr>\n",
       "<td>PG0543-C</td>\n",
       "</tr>\n",
       "<tr>\n",
       "<td>PG0544-C</td>\n",
       "</tr>\n",
       "<tr>\n",
       "<td>PG0545-C</td>\n",
       "</tr>\n",
       "<tr>\n",
       "<td>PG0546-C</td>\n",
       "</tr>\n",
       "<tr>\n",
       "<td>PG0547-C</td>\n",
       "</tr>\n",
       "<tr>\n",
       "<td>PG0548-C</td>\n",
       "</tr>\n",
       "<tr>\n",
       "<td>PG0549-C</td>\n",
       "</tr>\n",
       "<tr>\n",
       "<td>PG0550-C</td>\n",
       "</tr>\n",
       "<tr>\n",
       "<td>PG0551-C</td>\n",
       "</tr>\n",
       "<tr>\n",
       "<td>PG0552-C</td>\n",
       "</tr>\n",
       "<tr>\n",
       "<td>PG0553-C</td>\n",
       "</tr>\n",
       "<tr>\n",
       "<td>PG0554-C</td>\n",
       "</tr>\n",
       "<tr>\n",
       "<td>PG0555-C</td>\n",
       "</tr>\n",
       "<tr>\n",
       "<td>PG0556-C</td>\n",
       "</tr>\n",
       "<tr>\n",
       "<td>PG0557-C</td>\n",
       "</tr>\n",
       "<tr>\n",
       "<td>PG0558-C</td>\n",
       "</tr>\n",
       "<tr>\n",
       "<td>PG0559-C</td>\n",
       "</tr>\n",
       "<tr>\n",
       "<td>PG0560-C</td>\n",
       "</tr>\n",
       "<tr>\n",
       "<td>PG0561-C</td>\n",
       "</tr>\n",
       "<tr>\n",
       "<td>PG0562-C</td>\n",
       "</tr>\n",
       "</tbody>\n",
       "</table>\n"
      ]
     },
     "metadata": {},
     "output_type": "display_data"
    }
   ],
   "source": [
    "tbl_missing = (tbl_WillH_1_samples\n",
    "    .antijoin(tbl_pf_51_manifest, key='sample')\n",
    ")\n",
    "print(len(tbl_missing.data()))\n",
    "tbl_missing.displayall()"
   ]
  },
  {
   "cell_type": "code",
   "execution_count": null,
   "metadata": {
    "collapsed": true
   },
   "outputs": [],
   "source": []
  }
 ],
 "metadata": {
  "kernelspec": {
   "display_name": "Python 3",
   "language": "python",
   "name": "python3"
  },
  "language_info": {
   "codemirror_mode": {
    "name": "ipython",
    "version": 3
   },
   "file_extension": ".py",
   "mimetype": "text/x-python",
   "name": "python",
   "nbconvert_exporter": "python",
   "pygments_lexer": "ipython3",
   "version": "3.4.3"
  }
 },
 "nbformat": 4,
 "nbformat_minor": 0
}
