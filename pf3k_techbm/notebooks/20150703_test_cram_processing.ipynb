{
 "metadata": {
  "name": "",
  "signature": "sha256:1a9a1af376b25ac2526ba7495c329fb904897eea1a195c4be76c7e397647c1cd"
 },
 "nbformat": 3,
 "nbformat_minor": 0,
 "worksheets": [
  {
   "cells": [
    {
     "cell_type": "code",
     "collapsed": false,
     "input": [
      "%run _shared_setup.ipynb"
     ],
     "language": "python",
     "metadata": {},
     "outputs": [
      {
       "output_type": "stream",
       "stream": "stdout",
       "text": [
        "python 3.4.1 |Anaconda 2.1.0 (x86_64)| (default, Sep 10 2014, 17:24:09) \n",
        "[GCC 4.2.1 (Apple Inc. build 5577)]\n",
        "numpy 1.9.2\n",
        "scipy 0.14.0\n",
        "pandas 0.14.1\n",
        "numexpr 2.3.1\n",
        "pysam 0.8.3\n",
        "petl 1.0.10\n",
        "petlx 1.0.3\n",
        "vcf 0.6.7\n",
        "h5py 2.3.1\n",
        "tables 3.1.1\n",
        "vcfplt 0.8\n",
        "mkdir: /nfs/team112_internal/production_files/Pf3k/methods/assembled_samples: File exists\r\n"
       ]
      },
      {
       "output_type": "stream",
       "stream": "stdout",
       "text": [
        "tbl_pgv_metadata length = 5729\n",
        "tbl_pgv_locations length = 102\n",
        "tbl_pf3k_metadata length = 2512\n",
        "tbl_pf_solaris length = 10879"
       ]
      },
      {
       "output_type": "stream",
       "stream": "stdout",
       "text": [
        "\n",
        "tbl_assembled_samples length = 11\n"
       ]
      }
     ],
     "prompt_number": 4
    },
    {
     "cell_type": "code",
     "collapsed": false,
     "input": [
      "cram_fn = '/nfs/pathogen003/tdo/Pfalciparum/PF3K/Reference12Genomes/Sharing_25Jun2015/cram/16503_1#1.cram'\n",
      "fastq_fn = '/tmp/16503_1#1.fastq'\n",
      "_100bp_fastq_fn = '/tmp/16503_1#1_100bp.fastq'"
     ],
     "language": "python",
     "metadata": {},
     "outputs": [],
     "prompt_number": 18
    },
    {
     "cell_type": "code",
     "collapsed": false,
     "input": [
      "# !{samtools_exe} bamshuf -uOn 128 {cram_fn} tmp | {samtools_exe} bam2fq - > {fastq_fn}"
     ],
     "language": "python",
     "metadata": {},
     "outputs": [
      {
       "output_type": "stream",
       "stream": "stdout",
       "text": [
        "[W::bam_hdr_read] EOF marker is absent. The input is probably truncated.\r\n",
        "[E::bam_hdr_read] invalid BAM binary header\r\n"
       ]
      },
      {
       "output_type": "stream",
       "stream": "stdout",
       "text": [
        "[M::main_bam2fq] processed 0 reads\r\n"
       ]
      }
     ],
     "prompt_number": 5
    },
    {
     "cell_type": "code",
     "collapsed": false,
     "input": [
      "!{samtools_exe} view -b {cram_fn} | {samtools_exe} bamshuf -uOn 128 - tmp | {samtools_exe} bam2fq - > {fastq_fn}"
     ],
     "language": "python",
     "metadata": {},
     "outputs": [
      {
       "output_type": "stream",
       "stream": "stdout",
       "text": [
        "[M::main_bam2fq] processed 5109806 reads\r\n"
       ]
      }
     ],
     "prompt_number": 8
    },
    {
     "cell_type": "code",
     "collapsed": false,
     "input": [
      "record = next(SeqIO.parse(fastq_fn, \"fastq\"))"
     ],
     "language": "python",
     "metadata": {},
     "outputs": [],
     "prompt_number": 10
    },
    {
     "cell_type": "code",
     "collapsed": false,
     "input": [
      "len(record)"
     ],
     "language": "python",
     "metadata": {},
     "outputs": [
      {
       "metadata": {},
       "output_type": "pyout",
       "prompt_number": 16,
       "text": [
        "250"
       ]
      }
     ],
     "prompt_number": 16
    },
    {
     "cell_type": "code",
     "collapsed": false,
     "input": [
      "print(record[0:100].format(\"fastq\"))"
     ],
     "language": "python",
     "metadata": {},
     "outputs": [
      {
       "output_type": "stream",
       "stream": "stdout",
       "text": [
        "@MS2_16503:1:1107:11542:23051#1/1\n",
        "TTTATTTACGCTTTAAAACTTATTTTCCATTTTGAAAATATGAAATATGATTTGAGTCATAATATATAAATATATATATATATATATTTTTTTATTTTTA\n",
        "+\n",
        "DEEEDFFFFABBGGGGGGGGGGHHHHHHHHHHGHFGHHHHHHHHHHHHHHHHHGHGHHHHHHHHHHHHHIHHHGGHHHHHHHHHHHHHHHHGGGHHHHHH\n",
        "\n"
       ]
      }
     ],
     "prompt_number": 15
    },
    {
     "cell_type": "code",
     "collapsed": false,
     "input": [
      "record.name.replace('#', '_first100#')"
     ],
     "language": "python",
     "metadata": {},
     "outputs": [
      {
       "metadata": {},
       "output_type": "pyout",
       "prompt_number": 20,
       "text": [
        "'MS2_16503:1:1107:11542:23051_first100#1/1'"
       ]
      }
     ],
     "prompt_number": 20
    },
    {
     "cell_type": "code",
     "collapsed": false,
     "input": [
      "type(record)"
     ],
     "language": "python",
     "metadata": {},
     "outputs": [
      {
       "metadata": {},
       "output_type": "pyout",
       "prompt_number": 33,
       "text": [
        "Bio.SeqRecord.SeqRecord"
       ]
      }
     ],
     "prompt_number": 33
    },
    {
     "cell_type": "code",
     "collapsed": false,
     "input": [
      "record_first100 = record[0:100]\n",
      "# record_first100.id = record_first100.id\n",
      "record_first100.id = record_first100.id.replace('#', '_first100#')\n",
      "print(record_first100.id)\n",
      "print(record_first100.name)\n",
      "print(record_first100.description)\n",
      "record_first100.name = ''\n",
      "record_first100.description = ''\n",
      "# print(record_first100.name.replace('#', '_first100#'))\n",
      "print(record_first100.format(\"fastq\"))\n"
     ],
     "language": "python",
     "metadata": {},
     "outputs": [
      {
       "output_type": "stream",
       "stream": "stdout",
       "text": [
        "MS2_16503:1:1113:15066:4410_first100#1/2\n",
        "MS2_16503:1:1113:15066:4410#1/2\n",
        "MS2_16503:1:1113:15066:4410#1/2\n",
        "@MS2_16503:1:1113:15066:4410_first100#1/2\n",
        "TATAGAAGAAAAAAATAACTCAACATTTTATAATAATAATAATAATAATAATAATAATAGTAGTAGTAATAATAACAAAATGAAAGAATATAAAAATAAG\n",
        "+\n",
        "AAA?AFDBFFCFGGFGGGGGGGHHFHHFHF5FFEGHBGFHHFHGHH5GHFBGHGHHHHFF5D55FH5AD5DDFDG3EGHHE3GEFFBHHHEGFHGHHHHB\n",
        "\n"
       ]
      }
     ],
     "prompt_number": 48
    },
    {
     "cell_type": "code",
     "collapsed": false,
     "input": [
      "fo = open(_100bp_fastq_fn, \"w\")\n",
      "\n",
      "iterator = SeqIO.parse(fastq_fn, \"fastq\")\n",
      "\n",
      "for firstRead in iterator:\n",
      "    firstRead_first100 = firstRead[0:100]\n",
      "    firstRead_first100.id = firstRead_first100.id.replace('#', '_first100#')\n",
      "    firstRead_first100.description = ''\n",
      "    firstRead_last100 = firstRead[150:250]\n",
      "    firstRead_last100.id = firstRead_last100.id.replace('#', '_last100#')\n",
      "    firstRead_last100.description = ''\n",
      "    secondRead = next(iterator)\n",
      "    secondRead_first100 = secondRead[0:100]\n",
      "    secondRead_first100.id = secondRead_first100.id.replace('#', '_first100#')\n",
      "    secondRead_first100.description = ''\n",
      "    secondRead_last100 = secondRead[150:250]\n",
      "    secondRead_last100.id = secondRead_last100.id.replace('#', '_last100#')\n",
      "    secondRead_last100.description = ''\n",
      "    SeqIO.write(firstRead_first100, fo, \"fastq\")\n",
      "    SeqIO.write(secondRead_first100, fo, \"fastq\")\n",
      "    SeqIO.write(firstRead_last100, fo, \"fastq\")\n",
      "    SeqIO.write(secondRead_last100, fo, \"fastq\")\n",
      "\n",
      "fo.close()"
     ],
     "language": "python",
     "metadata": {},
     "outputs": [],
     "prompt_number": 59
    },
    {
     "cell_type": "code",
     "collapsed": false,
     "input": [
      "%%file /tmp/first_last_100bp.py\n",
      "import sys\n",
      "from Bio import SeqIO\n",
      "\n",
      "iterator = SeqIO.parse(sys.stdin, \"fastq\")\n",
      "\n",
      "for firstRead in iterator:\n",
      "    firstRead_first100 = firstRead[0:100]\n",
      "    firstRead_first100.id = firstRead_first100.id.replace('#', '_first100#')\n",
      "    firstRead_first100.description = ''\n",
      "    firstRead_last100 = firstRead[150:250]\n",
      "    firstRead_last100.id = firstRead_last100.id.replace('#', '_last100#')\n",
      "    firstRead_last100.description = ''\n",
      "    secondRead = next(iterator)\n",
      "    secondRead_first100 = secondRead[0:100]\n",
      "    secondRead_first100.id = secondRead_first100.id.replace('#', '_first100#')\n",
      "    secondRead_first100.description = ''\n",
      "    secondRead_last100 = secondRead[150:250]\n",
      "    secondRead_last100.id = secondRead_last100.id.replace('#', '_last100#')\n",
      "    secondRead_last100.description = ''\n",
      "    SeqIO.write(firstRead_first100, sys.stdout, \"fastq\")\n",
      "    SeqIO.write(secondRead_first100, sys.stdout, \"fastq\")\n",
      "    SeqIO.write(firstRead_last100, sys.stdout, \"fastq\")\n",
      "    SeqIO.write(secondRead_last100, sys.stdout, \"fastq\")\n",
      "\n"
     ],
     "language": "python",
     "metadata": {},
     "outputs": [
      {
       "output_type": "stream",
       "stream": "stdout",
       "text": [
        "Overwriting /tmp/first_last_100bp.py\n"
       ]
      }
     ],
     "prompt_number": 62
    },
    {
     "cell_type": "code",
     "collapsed": false,
     "input": [
      "!cat /tmp/16503_1#1.fastq | python /tmp/first_last_100bp.py > /tmp/16503_1#1_100bp_with_script.fastq"
     ],
     "language": "python",
     "metadata": {},
     "outputs": [],
     "prompt_number": 63
    },
    {
     "cell_type": "code",
     "collapsed": false,
     "input": [],
     "language": "python",
     "metadata": {},
     "outputs": []
    }
   ],
   "metadata": {}
  }
 ]
}