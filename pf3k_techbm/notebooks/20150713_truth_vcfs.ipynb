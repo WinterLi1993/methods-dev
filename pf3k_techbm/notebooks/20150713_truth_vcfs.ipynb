{
 "metadata": {
  "name": "",
  "signature": "sha256:e42a7b49c51ddf3fffdfc013c016f9a2d0f0c26a9d18c80b2143e05dbcb7ac11"
 },
 "nbformat": 3,
 "nbformat_minor": 0,
 "worksheets": [
  {
   "cells": [
    {
     "cell_type": "heading",
     "level": 1,
     "metadata": {},
     "source": [
      "Setup"
     ]
    },
    {
     "cell_type": "code",
     "collapsed": false,
     "input": [
      "%run _shared_setup.ipynb"
     ],
     "language": "python",
     "metadata": {},
     "outputs": [
      {
       "output_type": "stream",
       "stream": "stdout",
       "text": [
        "python 3.4.1 |Anaconda 2.1.0 (x86_64)| (default, Sep 10 2014, 17:24:09) \n",
        "[GCC 4.2.1 (Apple Inc. build 5577)]\n",
        "numpy 1.9.2\n",
        "scipy 0.14.0\n",
        "pandas 0.14.1\n",
        "numexpr 2.3.1\n",
        "pysam 0.8.3\n",
        "petl 1.0.10\n",
        "petlx 1.0.3\n",
        "vcf 0.6.7\n",
        "h5py 2.3.1\n",
        "tables 3.1.1\n",
        "vcfplt 0.8\n",
        "mkdir: /nfs/team112_internal/production_files/Pf3k/methods/assembled_samples: File exists\r\n"
       ]
      },
      {
       "output_type": "stream",
       "stream": "stdout",
       "text": [
        "tbl_pgv_metadata length = 5729\n",
        "tbl_pgv_locations length = 102\n",
        "tbl_pf3k_metadata length = 2512\n",
        "tbl_pf_solaris length = 10879"
       ]
      },
      {
       "output_type": "stream",
       "stream": "stdout",
       "text": [
        "\n",
        "tbl_assembled_samples length = 11\n"
       ]
      }
     ],
     "prompt_number": 1
    },
    {
     "cell_type": "code",
     "collapsed": false,
     "input": [
      "!mkdir -p {os.path.join(PROCESSED_ASSEMBLED_SAMPLES_DIR, 'truth_vcfs')}"
     ],
     "language": "python",
     "metadata": {},
     "outputs": [],
     "prompt_number": 2
    },
    {
     "cell_type": "heading",
     "level": 1,
     "metadata": {},
     "source": [
      "Check data"
     ]
    },
    {
     "cell_type": "code",
     "collapsed": false,
     "input": [
      "tbl_samples_to_process = (tbl_assembled_samples\n",
      "    .cutout('Notes')\n",
      "    .selectnotnone('bam_fn')\n",
      "    .selecteq('To be used for', 'Validation')\n",
      "    .addfield('thomas_gff_filestem', lambda rec: os.path.join(\n",
      "        '/nfs/pathogen003/tdo/Pfalciparum/PF3K/Reference12Genomes/Sharing_25Jun2015/SNP/Reference',\n",
      "        \"Pf%s\" % rec['Isolate code']\n",
      "    ))\n",
      "    .addfield('truth_vcf_filestem', lambda rec: os.path.join(\n",
      "        PROCESSED_ASSEMBLED_SAMPLES_DIR,\n",
      "        'truth_vcfs',\n",
      "        \"truth_%s\" % rec['Isolate code']\n",
      "    ))\n",
      "    .cut([0, 1, 14, 15])\n",
      "#     .head(4)\n",
      ")\n",
      "tbl_samples_to_process.displayall(index_header=True)"
     ],
     "language": "python",
     "metadata": {},
     "outputs": [
      {
       "html": [
        "<table class='petl'>\n",
        "<thead>\n",
        "<tr>\n",
        "<th>0|Sample name</th>\n",
        "<th>1|Isolate code</th>\n",
        "<th>2|thomas_gff_filestem</th>\n",
        "<th>3|truth_vcf_filestem</th>\n",
        "</tr>\n",
        "</thead>\n",
        "<tbody>\n",
        "<tr>\n",
        "<td>7G8</td>\n",
        "<td>7G8</td>\n",
        "<td>/nfs/pathogen003/tdo/Pfalciparum/PF3K/Reference12Genomes/Sharing_25Jun2015/SNP/Reference/Pf7G8</td>\n",
        "<td>/nfs/team112_internal/production_files/Pf3k/methods/assembled_samples/truth_vcfs/truth_7G8</td>\n",
        "</tr>\n",
        "<tr>\n",
        "<td>GB4</td>\n",
        "<td>GB4</td>\n",
        "<td>/nfs/pathogen003/tdo/Pfalciparum/PF3K/Reference12Genomes/Sharing_25Jun2015/SNP/Reference/PfGB4</td>\n",
        "<td>/nfs/team112_internal/production_files/Pf3k/methods/assembled_samples/truth_vcfs/truth_GB4</td>\n",
        "</tr>\n",
        "<tr>\n",
        "<td>Kilifi</td>\n",
        "<td>KE01</td>\n",
        "<td>/nfs/pathogen003/tdo/Pfalciparum/PF3K/Reference12Genomes/Sharing_25Jun2015/SNP/Reference/PfKE01</td>\n",
        "<td>/nfs/team112_internal/production_files/Pf3k/methods/assembled_samples/truth_vcfs/truth_KE01</td>\n",
        "</tr>\n",
        "<tr>\n",
        "<td>KH2</td>\n",
        "<td>KH02</td>\n",
        "<td>/nfs/pathogen003/tdo/Pfalciparum/PF3K/Reference12Genomes/Sharing_25Jun2015/SNP/Reference/PfKH02</td>\n",
        "<td>/nfs/team112_internal/production_files/Pf3k/methods/assembled_samples/truth_vcfs/truth_KH02</td>\n",
        "</tr>\n",
        "<tr>\n",
        "<td>Guinea</td>\n",
        "<td>GN01</td>\n",
        "<td>/nfs/pathogen003/tdo/Pfalciparum/PF3K/Reference12Genomes/Sharing_25Jun2015/SNP/Reference/PfGN01</td>\n",
        "<td>/nfs/team112_internal/production_files/Pf3k/methods/assembled_samples/truth_vcfs/truth_GN01</td>\n",
        "</tr>\n",
        "</tbody>\n",
        "</table>\n"
       ],
       "metadata": {},
       "output_type": "display_data"
      }
     ],
     "prompt_number": 3
    },
    {
     "cell_type": "code",
     "collapsed": false,
     "input": [
      "tbl_samples_to_process.values('thomas_gff_filestem')[0]"
     ],
     "language": "python",
     "metadata": {},
     "outputs": [
      {
       "metadata": {},
       "output_type": "pyout",
       "prompt_number": 4,
       "text": [
        "'/nfs/pathogen003/tdo/Pfalciparum/PF3K/Reference12Genomes/Sharing_25Jun2015/SNP/Reference/Pf7G8'"
       ]
      }
     ],
     "prompt_number": 4
    },
    {
     "cell_type": "heading",
     "level": 1,
     "metadata": {},
     "source": [
      "Functions"
     ]
    },
    {
     "cell_type": "code",
     "collapsed": false,
     "input": [
      "def convert_gff(gff_fn=\"%s.Pf3D7_01_v3.Mutations.gff\" % tbl_samples_to_process.values('thomas_gff_filestem')[0],\n",
      "                vcf_fn=\"%s.Pf3D7_01_v3.vcf\" % tbl_samples_to_process.values('truth_vcf_filestem')[0],\n",
      "                ref_dict=SeqIO.to_dict(SeqIO.parse(open(REF_GENOME), \"fasta\"))):\n",
      "#     Write VCF header\n",
      "    fo = open(vcf_fn, 'w')\n",
      "    fo.write(\"##fileformat=VCFv4.1\\n\")\n",
      "    fo.write(\"##description=This file created with 20150629_convert_gff_to_vcf.ipynb\\n\")\n",
      "    fo.write(\"#CHROM\\tPOS\\tID\\tREF\\tALT\\tQUAL\\tFILTER\\tINFO\\n\")\n",
      "#     Write data\n",
      "    tbl_gff = (etl.fromtsv(gff_fn))\n",
      "    current_state = \"SNP\"\n",
      "    ins_sequence = ''\n",
      "    for rec in tbl_gff:\n",
      "        (chrom, bba, variant_type, pos, pos2, zero, strand, dot, note) = rec\n",
      "        pos = int(pos)\n",
      "        pos2 = int(pos2)\n",
      "        zero = int(zero)\n",
      "        if (\n",
      "            bba != 'BBA' or\n",
      "            not(variant_type in ['SNP', 'Del', 'Ins', 'Synteny']) or\n",
      "            (variant_type != 'Synteny' and pos != pos2) or\n",
      "            zero != 0 or\n",
      "            dot != '.' or\n",
      "            not(note.startswith('note'))\n",
      "        ):\n",
      "            return(\"error\")\n",
      "        if variant_type == 'SNP':\n",
      "            if current_state == 'Del':\n",
      "                ref = str(ref_dict[chrom][variant_start-1:variant_end].seq)\n",
      "                alt = ref_dict[chrom][variant_start-1]\n",
      "                fo.write(\"%s\\t%s\\t.\\t%s\\t%s\\t.\\tPASS\\t.\\n\" % (chrom, variant_start, ref, alt))\n",
      "            if current_state == 'Ins':\n",
      "                ref = ref_dict[chrom][variant_start-1]\n",
      "                alt = ref_dict[chrom][variant_start-1] + ins_sequence\n",
      "                fo.write(\"%s\\t%s\\t.\\t%s\\t%s\\t.\\tPASS\\t.\\n\" % (chrom, variant_start, ref, alt))\n",
      "                ins_sequence = ''\n",
      "            ref = ref_dict[chrom][pos-1]\n",
      "            alt = note[20]\n",
      "            fo.write(\"%s\\t%s\\t.\\t%s\\t%s\\t.\\tPASS\\t.\\n\" % (chrom, pos, ref, alt))\n",
      "            current_state = \"SNP\"\n",
      "        elif variant_type == 'Del':\n",
      "            if current_state == 'Del':\n",
      "                if pos > (variant_end+1): # i.e. we have moved into a different del so need to print out previous\n",
      "                    ref = str(ref_dict[chrom][variant_start-1:variant_end].seq)\n",
      "                    alt = ref_dict[chrom][variant_start-1]\n",
      "                    fo.write(\"%s\\t%s\\t.\\t%s\\t%s\\t.\\tPASS\\t.\\n\" % (chrom, variant_start, ref, alt))\n",
      "                    variant_start = pos-1\n",
      "            if current_state == 'Ins':\n",
      "                ref = ref_dict[chrom][variant_start-1]\n",
      "                alt = ref_dict[chrom][variant_start-1] + ins_sequence\n",
      "                fo.write(\"%s\\t%s\\t.\\t%s\\t%s\\t.\\tPASS\\t.\\n\" % (chrom, variant_start, ref, alt))\n",
      "                variant_start = pos-1\n",
      "            if current_state == 'SNP':\n",
      "                variant_start = pos-1\n",
      "            variant_end = pos\n",
      "            current_state = \"Del\"\n",
      "        elif variant_type == 'Ins':\n",
      "            if current_state == 'Del':\n",
      "                ref = str(ref_dict[chrom][variant_start-1:variant_end].seq)\n",
      "                alt = ref_dict[chrom][variant_start-1]\n",
      "                fo.write(\"%s\\t%s\\t.\\t%s\\t%s\\t.\\tPASS\\t.\\n\" % (chrom, variant_start, ref, alt))\n",
      "                variant_start = pos\n",
      "            if current_state == 'Ins':\n",
      "                if pos > (variant_end+1): # i.e. we have moved into a different del so need to print out previous\n",
      "                    ref = ref_dict[chrom][variant_start-1]\n",
      "                    alt = ref_dict[chrom][variant_start-1] + ins_sequence\n",
      "                    fo.write(\"%s\\t%s\\t.\\t%s\\t%s\\t.\\tPASS\\t.\\n\" % (chrom, variant_start, ref, alt))\n",
      "                    variant_start = pos\n",
      "                    ins_sequence = ''\n",
      "            if current_state == 'SNP':\n",
      "                variant_start = pos\n",
      "            ins_sequence = ins_sequence + note[26]\n",
      "            variant_end = pos\n",
      "            current_state = \"Ins\"\n",
      "        elif variant_type == 'Synteny':\n",
      "            if current_state == 'Del':\n",
      "                ref = str(ref_dict[chrom][variant_start-1:variant_end].seq)\n",
      "                alt = ref_dict[chrom][variant_start]\n",
      "                fo.write(\"%s\\t%s\\t.\\t%s\\t%s\\t.\\tPASS\\t.\\n\" % (chrom, variant_start, ref, alt))\n",
      "            if current_state == 'Ins':\n",
      "                ref = ref_dict[chrom][variant_start-1]\n",
      "                alt = ref_dict[chrom][variant_start-1] + ins_sequence\n",
      "                fo.write(\"%s\\t%s\\t.\\t%s\\t%s\\t.\\tPASS\\t.\\n\" % (chrom, variant_start, ref, alt))\n",
      "                ins_sequence = ''\n",
      "            current_state = \"Synteny\"\n",
      "        else:\n",
      "            return(\"error\")\n",
      "    fo.close()\n",
      "    \n",
      "    return(vcf_fn)\n"
     ],
     "language": "python",
     "metadata": {},
     "outputs": [],
     "prompt_number": 5
    },
    {
     "cell_type": "code",
     "collapsed": false,
     "input": [
      "convert_gff()"
     ],
     "language": "python",
     "metadata": {},
     "outputs": [
      {
       "metadata": {},
       "output_type": "pyout",
       "prompt_number": 6,
       "text": [
        "'/nfs/team112_internal/production_files/Pf3k/methods/assembled_samples/truth_vcfs/truth_7G8.Pf3D7_01_v3.vcf'"
       ]
      }
     ],
     "prompt_number": 6
    },
    {
     "cell_type": "code",
     "collapsed": false,
     "input": [
      "rewrite=True\n",
      "\n",
      "in_seq_handle = open(REF_GENOME)\n",
      "chromosomes = SeqIO.to_dict(SeqIO.parse(in_seq_handle, \"fasta\")).keys()\n",
      "\n",
      "for chromosome in sort(list(chromosomes)):\n",
      "    if chromosome == 'PFC10_API_IRAB' or chromosome == 'M76611':\n",
      "        continue\n",
      "#     if chromosome == 'PFC10_API_IRAB':\n",
      "#         gff_chromosome='PF_apicoplast_genome_1' \n",
      "#     elif chromosome == 'M76611':\n",
      "#         gff_chromosome='Pf_M76611' \n",
      "#     else:\n",
      "#         gff_chromosome=chromosome\n",
      "    print(chromosome)\n",
      "    for rec in tbl_samples_to_process.data():\n",
      "        truth_gff_gn = \"%s.%s.Mutations.gff\" % (rec[2], chromosome)\n",
      "        unannotated_vcf_fn = \"%s.%s.unannotated.vcf\" % (rec[3], chromosome)\n",
      "        left_aligned_vcf_fn = \"%s.%s.leftaligned.vcf\" % (rec[3], chromosome)\n",
      "        snpeff_vcf_fn = \"%s.%s.snpeff.vcf\" % (rec[3], chromosome)\n",
      "        snpeff_annotated_vcf_fn = \"%s.%s.snpeff_annotated.vcf\" % (rec[3], chromosome)\n",
      "        annotated_vcf_fn = \"%s.%s.annotated.vcf\" % (rec[3], chromosome)\n",
      "        \n",
      "#         if os.path.exists(\"%s.%s.Mutations.gff\" % (rec[2], chromosome)):\n",
      "        if (not os.path.isfile(unannotated_vcf_fn) and not os.path.isfile(annotated_vcf_fn+'.gz')) or rewrite:\n",
      "            convert_gff(\n",
      "                gff_fn=truth_gff_gn,\n",
      "                vcf_fn=unannotated_vcf_fn\n",
      "            )\n",
      "\n",
      "        if (not os.path.isfile(left_aligned_vcf_fn) and not os.path.isfile(annotated_vcf_fn+'.gz')) or rewrite:\n",
      "            !{gatk_exe} -T LeftAlignAndTrimVariants \\\n",
      "            -R {REF_GENOME} \\\n",
      "            -V {unannotated_vcf_fn} \\\n",
      "            -o {left_aligned_vcf_fn} \\\n",
      "            2> /dev/null\n",
      "\n",
      "        if (not os.path.isfile(snpeff_vcf_fn) and not os.path.isfile(annotated_vcf_fn+'.gz')) or rewrite:\n",
      "            !{snpeff_exe} \\\n",
      "            -v -o gatk Pf3D7july2015 \\\n",
      "            {left_aligned_vcf_fn} \\\n",
      "            -no-downstream \\\n",
      "            -no-upstream \\\n",
      "            > {snpeff_vcf_fn} \\\n",
      "            2> /dev/null\n",
      "\n",
      "        if (not os.path.isfile(snpeff_annotated_vcf_fn) and not os.path.isfile(annotated_vcf_fn+'.gz')) or rewrite:\n",
      "            !{gatk_exe} \\\n",
      "            -T VariantAnnotator \\\n",
      "            -R {REF_GENOME} \\\n",
      "            -A SnpEff \\\n",
      "            --variant {left_aligned_vcf_fn} \\\n",
      "            --snpEffFile {snpeff_vcf_fn} \\\n",
      "            -o {snpeff_annotated_vcf_fn} \\\n",
      "            2> /dev/null\n",
      "\n",
      "        if not os.path.isfile(annotated_vcf_fn+'.gz') or rewrite:\n",
      "            !cat {snpeff_annotated_vcf_fn} \\\n",
      "            | vcf-annotate -a {regions_fn} \\\n",
      "               -d key=INFO,ID=RegionType,Number=1,Type=String,Description='The type of genome region within which the variant is found. SubtelomericRepeat: repetitive regions at the ends of the chromosomes. SubtelomericHypervariable: subtelomeric region of poor conservation between the 3D7 reference genome and other samples. InternalHypervariable: chromosome-internal region of poor conservation between the 3D7 reference genome and other samples. Centromere: start and end coordinates of the centromere genome annotation. Core: everything else.' \\\n",
      "               -c CHROM,FROM,TO,INFO/RegionType \\\n",
      "            > {annotated_vcf_fn}\n",
      "\n",
      "            !bgzip -f {annotated_vcf_fn}\n",
      "            !tabix -p vcf -f {annotated_vcf_fn}.gz\n",
      "\n",
      "        if not os.path.isfile(annotated_vcf_fn.replace('.vcf', '.SNP.vcf')+'.gz') or rewrite:\n",
      "            !{gatk_exe} \\\n",
      "            -T SelectVariants \\\n",
      "            -R {REF_GENOME} \\\n",
      "            -V {annotated_vcf_fn}.gz \\\n",
      "            -selectType SNP \\\n",
      "            -o {annotated_vcf_fn.replace('.vcf', '.SNP.vcf')} 2> /dev/null\n",
      "\n",
      "            !bgzip -f {annotated_vcf_fn.replace('.vcf', '.SNP.vcf')}\n",
      "            !tabix -p vcf -f {annotated_vcf_fn.replace('.vcf', '.SNP.vcf')}.gz\n",
      "            \n",
      "        if not os.path.isfile(annotated_vcf_fn.replace('.vcf', '.INDEL.vcf')+'.gz') or rewrite:\n",
      "            !{gatk_exe} \\\n",
      "            -T SelectVariants \\\n",
      "            -R {REF_GENOME} \\\n",
      "            -V {annotated_vcf_fn}.gz \\\n",
      "            -xlSelectType SNP \\\n",
      "            -o {annotated_vcf_fn.replace('.vcf', '.INDEL.vcf')} 2> /dev/null\n",
      "\n",
      "            !bgzip -f {annotated_vcf_fn.replace('.vcf', '.INDEL.vcf')}\n",
      "            !tabix -p vcf -f {annotated_vcf_fn.replace('.vcf', '.INDEL.vcf')}.gz\n",
      "\n",
      "#         !rm {unannotated_vcf_fn}\n",
      "#         !rm {left_aligned_vcf_fn}\n",
      "#         !rm {snpeff_vcf_fn}\n",
      "#         !rm {snpeff_annotated_vcf_fn}\n",
      "#         !rm {unannotated_vcf_fn}.idx\n",
      "#         !rm {left_aligned_vcf_fn}.idx\n",
      "#         !rm {snpeff_vcf_fn}.idx\n",
      "#         !rm {snpeff_annotated_vcf_fn}.idx\n"
     ],
     "language": "python",
     "metadata": {},
     "outputs": [
      {
       "output_type": "stream",
       "stream": "stdout",
       "text": [
        "Pf3D7_01_v3\n"
       ]
      },
      {
       "output_type": "stream",
       "stream": "stdout",
       "text": [
        "659 variants were aligned\r\n"
       ]
      },
      {
       "output_type": "stream",
       "stream": "stdout",
       "text": [
        "695 variants were aligned\r\n"
       ]
      },
      {
       "output_type": "stream",
       "stream": "stdout",
       "text": [
        "616 variants were aligned\r\n"
       ]
      },
      {
       "output_type": "stream",
       "stream": "stdout",
       "text": [
        "620 variants were aligned\r\n"
       ]
      },
      {
       "output_type": "stream",
       "stream": "stdout",
       "text": [
        "635 variants were aligned\r\n"
       ]
      },
      {
       "output_type": "stream",
       "stream": "stdout",
       "text": [
        "Pf3D7_02_v3\n"
       ]
      },
      {
       "output_type": "stream",
       "stream": "stdout",
       "text": [
        "947 variants were aligned\r\n"
       ]
      },
      {
       "output_type": "stream",
       "stream": "stdout",
       "text": [
        "879 variants were aligned\r\n"
       ]
      },
      {
       "output_type": "stream",
       "stream": "stdout",
       "text": [
        "818 variants were aligned\r\n"
       ]
      },
      {
       "output_type": "stream",
       "stream": "stdout",
       "text": [
        "960 variants were aligned\r\n"
       ]
      },
      {
       "output_type": "stream",
       "stream": "stdout",
       "text": [
        "1021 variants were aligned\r\n"
       ]
      },
      {
       "output_type": "stream",
       "stream": "stdout",
       "text": [
        "Pf3D7_03_v3\n"
       ]
      },
      {
       "output_type": "stream",
       "stream": "stdout",
       "text": [
        "1252 variants were aligned\r\n"
       ]
      },
      {
       "output_type": "stream",
       "stream": "stdout",
       "text": [
        "1196 variants were aligned\r\n"
       ]
      },
      {
       "output_type": "stream",
       "stream": "stdout",
       "text": [
        "1071 variants were aligned\r\n"
       ]
      },
      {
       "output_type": "stream",
       "stream": "stdout",
       "text": [
        "1140 variants were aligned\r\n"
       ]
      },
      {
       "output_type": "stream",
       "stream": "stdout",
       "text": [
        "1271 variants were aligned\r\n"
       ]
      },
      {
       "output_type": "stream",
       "stream": "stdout",
       "text": [
        "Pf3D7_04_v3\n"
       ]
      },
      {
       "output_type": "stream",
       "stream": "stdout",
       "text": [
        "1221 variants were aligned\r\n"
       ]
      },
      {
       "output_type": "stream",
       "stream": "stdout",
       "text": [
        "1305 variants were aligned\r\n"
       ]
      },
      {
       "output_type": "stream",
       "stream": "stdout",
       "text": [
        "1157 variants were aligned\r\n"
       ]
      },
      {
       "output_type": "stream",
       "stream": "stdout",
       "text": [
        "1159 variants were aligned\r\n"
       ]
      },
      {
       "output_type": "stream",
       "stream": "stdout",
       "text": [
        "1347 variants were aligned\r\n"
       ]
      },
      {
       "output_type": "stream",
       "stream": "stdout",
       "text": [
        "Pf3D7_05_v3\n"
       ]
      },
      {
       "output_type": "stream",
       "stream": "stdout",
       "text": [
        "1594 variants were aligned\r\n"
       ]
      },
      {
       "output_type": "stream",
       "stream": "stdout",
       "text": [
        "1696 variants were aligned\r\n"
       ]
      },
      {
       "output_type": "stream",
       "stream": "stdout",
       "text": [
        "1532 variants were aligned\r\n"
       ]
      },
      {
       "output_type": "stream",
       "stream": "stdout",
       "text": [
        "1589 variants were aligned\r\n"
       ]
      },
      {
       "output_type": "stream",
       "stream": "stdout",
       "text": [
        "1712 variants were aligned\r\n"
       ]
      },
      {
       "output_type": "stream",
       "stream": "stdout",
       "text": [
        "Pf3D7_06_v3\n"
       ]
      },
      {
       "output_type": "stream",
       "stream": "stdout",
       "text": [
        "1546 variants were aligned\r\n"
       ]
      },
      {
       "output_type": "stream",
       "stream": "stdout",
       "text": [
        "1587 variants were aligned\r\n"
       ]
      },
      {
       "output_type": "stream",
       "stream": "stdout",
       "text": [
        "1436 variants were aligned\r\n"
       ]
      },
      {
       "output_type": "stream",
       "stream": "stdout",
       "text": [
        "1550 variants were aligned\r\n"
       ]
      },
      {
       "output_type": "stream",
       "stream": "stdout",
       "text": [
        "1680 variants were aligned\r\n"
       ]
      },
      {
       "output_type": "stream",
       "stream": "stdout",
       "text": [
        "Pf3D7_07_v3\n"
       ]
      },
      {
       "output_type": "stream",
       "stream": "stdout",
       "text": [
        "1520 variants were aligned\r\n"
       ]
      },
      {
       "output_type": "stream",
       "stream": "stdout",
       "text": [
        "1536 variants were aligned\r\n"
       ]
      },
      {
       "output_type": "stream",
       "stream": "stdout",
       "text": [
        "1364 variants were aligned\r\n"
       ]
      },
      {
       "output_type": "stream",
       "stream": "stdout",
       "text": [
        "1432 variants were aligned\r\n"
       ]
      },
      {
       "output_type": "stream",
       "stream": "stdout",
       "text": [
        "1604 variants were aligned\r\n"
       ]
      },
      {
       "output_type": "stream",
       "stream": "stdout",
       "text": [
        "Pf3D7_08_v3\n"
       ]
      },
      {
       "output_type": "stream",
       "stream": "stdout",
       "text": [
        "1719 variants were aligned\r\n"
       ]
      },
      {
       "output_type": "stream",
       "stream": "stdout",
       "text": [
        "1845 variants were aligned\r\n"
       ]
      },
      {
       "output_type": "stream",
       "stream": "stdout",
       "text": [
        "1610 variants were aligned\r\n"
       ]
      },
      {
       "output_type": "stream",
       "stream": "stdout",
       "text": [
        "1595 variants were aligned\r\n"
       ]
      },
      {
       "output_type": "stream",
       "stream": "stdout",
       "text": [
        "1955 variants were aligned\r\n"
       ]
      },
      {
       "output_type": "stream",
       "stream": "stdout",
       "text": [
        "Pf3D7_09_v3\n"
       ]
      },
      {
       "output_type": "stream",
       "stream": "stdout",
       "text": [
        "1921 variants were aligned\r\n"
       ]
      },
      {
       "output_type": "stream",
       "stream": "stdout",
       "text": [
        "1918 variants were aligned\r\n"
       ]
      },
      {
       "output_type": "stream",
       "stream": "stdout",
       "text": [
        "1637 variants were aligned\r\n"
       ]
      },
      {
       "output_type": "stream",
       "stream": "stdout",
       "text": [
        "1797 variants were aligned\r\n"
       ]
      },
      {
       "output_type": "stream",
       "stream": "stdout",
       "text": [
        "1955 variants were aligned\r\n"
       ]
      },
      {
       "output_type": "stream",
       "stream": "stdout",
       "text": [
        "Pf3D7_10_v3\n"
       ]
      },
      {
       "output_type": "stream",
       "stream": "stdout",
       "text": [
        "2017 variants were aligned\r\n"
       ]
      },
      {
       "output_type": "stream",
       "stream": "stdout",
       "text": [
        "1998 variants were aligned\r\n"
       ]
      },
      {
       "output_type": "stream",
       "stream": "stdout",
       "text": [
        "1849 variants were aligned\r\n"
       ]
      },
      {
       "output_type": "stream",
       "stream": "stdout",
       "text": [
        "2021 variants were aligned\r\n"
       ]
      },
      {
       "output_type": "stream",
       "stream": "stdout",
       "text": [
        "2103 variants were aligned\r\n"
       ]
      },
      {
       "output_type": "stream",
       "stream": "stdout",
       "text": [
        "Pf3D7_11_v3\n"
       ]
      },
      {
       "output_type": "stream",
       "stream": "stdout",
       "text": [
        "2469 variants were aligned\r\n"
       ]
      },
      {
       "output_type": "stream",
       "stream": "stdout",
       "text": [
        "2389 variants were aligned\r\n"
       ]
      },
      {
       "output_type": "stream",
       "stream": "stdout",
       "text": [
        "2307 variants were aligned\r\n"
       ]
      },
      {
       "output_type": "stream",
       "stream": "stdout",
       "text": [
        "2232 variants were aligned\r\n"
       ]
      },
      {
       "output_type": "stream",
       "stream": "stdout",
       "text": [
        "2634 variants were aligned\r\n"
       ]
      },
      {
       "output_type": "stream",
       "stream": "stdout",
       "text": [
        "Pf3D7_12_v3\n"
       ]
      },
      {
       "output_type": "stream",
       "stream": "stdout",
       "text": [
        "2522 variants were aligned\r\n"
       ]
      },
      {
       "output_type": "stream",
       "stream": "stdout",
       "text": [
        "2649 variants were aligned\r\n"
       ]
      },
      {
       "output_type": "stream",
       "stream": "stdout",
       "text": [
        "2430 variants were aligned\r\n"
       ]
      },
      {
       "output_type": "stream",
       "stream": "stdout",
       "text": [
        "2477 variants were aligned\r\n"
       ]
      },
      {
       "output_type": "stream",
       "stream": "stdout",
       "text": [
        "2745 variants were aligned\r\n"
       ]
      },
      {
       "output_type": "stream",
       "stream": "stdout",
       "text": [
        "Pf3D7_13_v3\n"
       ]
      },
      {
       "output_type": "stream",
       "stream": "stdout",
       "text": [
        "3405 variants were aligned\r\n"
       ]
      },
      {
       "output_type": "stream",
       "stream": "stdout",
       "text": [
        "3467 variants were aligned\r\n"
       ]
      },
      {
       "output_type": "stream",
       "stream": "stdout",
       "text": [
        "3271 variants were aligned\r\n"
       ]
      },
      {
       "output_type": "stream",
       "stream": "stdout",
       "text": [
        "3205 variants were aligned\r\n"
       ]
      },
      {
       "output_type": "stream",
       "stream": "stdout",
       "text": [
        "3637 variants were aligned\r\n"
       ]
      },
      {
       "output_type": "stream",
       "stream": "stdout",
       "text": [
        "Pf3D7_14_v3\n"
       ]
      },
      {
       "output_type": "stream",
       "stream": "stdout",
       "text": [
        "3996 variants were aligned\r\n"
       ]
      },
      {
       "output_type": "stream",
       "stream": "stdout",
       "text": [
        "4053 variants were aligned\r\n"
       ]
      },
      {
       "output_type": "stream",
       "stream": "stdout",
       "text": [
        "3707 variants were aligned\r\n"
       ]
      },
      {
       "output_type": "stream",
       "stream": "stdout",
       "text": [
        "3830 variants were aligned\r\n"
       ]
      },
      {
       "output_type": "stream",
       "stream": "stdout",
       "text": [
        "4285 variants were aligned\r\n"
       ]
      }
     ],
     "prompt_number": 13
    },
    {
     "cell_type": "code",
     "collapsed": false,
     "input": [
      "sort(list(chromosomes))"
     ],
     "language": "python",
     "metadata": {},
     "outputs": [
      {
       "metadata": {},
       "output_type": "pyout",
       "prompt_number": 12,
       "text": [
        "array(['M76611', 'PFC10_API_IRAB', 'Pf3D7_01_v3', 'Pf3D7_02_v3',\n",
        "       'Pf3D7_03_v3', 'Pf3D7_04_v3', 'Pf3D7_05_v3', 'Pf3D7_06_v3',\n",
        "       'Pf3D7_07_v3', 'Pf3D7_08_v3', 'Pf3D7_09_v3', 'Pf3D7_10_v3',\n",
        "       'Pf3D7_11_v3', 'Pf3D7_12_v3', 'Pf3D7_13_v3', 'Pf3D7_14_v3'], \n",
        "      dtype='<U14')"
       ]
      }
     ],
     "prompt_number": 12
    },
    {
     "cell_type": "code",
     "collapsed": false,
     "input": [],
     "language": "python",
     "metadata": {},
     "outputs": []
    }
   ],
   "metadata": {}
  }
 ]
}