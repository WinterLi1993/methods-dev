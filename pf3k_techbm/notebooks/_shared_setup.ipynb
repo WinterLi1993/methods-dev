{
 "cells": [
  {
   "cell_type": "markdown",
   "metadata": {},
   "source": [
    "# Imports"
   ]
  },
  {
   "cell_type": "code",
   "execution_count": 1,
   "metadata": {
    "collapsed": false
   },
   "outputs": [
    {
     "name": "stdout",
     "output_type": "stream",
     "text": [
      "python 3.4.3 |Anaconda 2.2.0 (64-bit)| (default, Mar  6 2015, 12:03:53) \n",
      "[GCC 4.4.7 20120313 (Red Hat 4.4.7-1)]\n",
      "numpy 1.9.2\n",
      "scipy 0.15.1\n",
      "pandas 0.15.2\n",
      "numexpr 2.3.1\n",
      "pysam 0.8.3\n",
      "petl 1.0.11\n",
      "petlx 1.0.3\n",
      "vcf 0.6.7\n",
      "h5py 2.4.0\n",
      "tables 3.1.1\n",
      "vcfplt 0.8\n"
     ]
    }
   ],
   "source": [
    "%run standard_imports.ipynb\n",
    "%run plotting_setup.ipynb"
   ]
  },
  {
   "cell_type": "markdown",
   "metadata": {},
   "source": [
    "# Setup"
   ]
  },
  {
   "cell_type": "code",
   "execution_count": 2,
   "metadata": {
    "collapsed": false
   },
   "outputs": [],
   "source": [
    "PGV_METADATA_FN = '../../meta/Pf/PGV4_mk5.xlsx'\n",
    "PF3K_PANOPTES_FN = '../../meta/Pf/Pf3k_release3_panoptes_samples.txt'\n",
    "PF_SOLARIS_FN = '../../meta/Pf/PF_samples_Richard_RDP.xlsx'\n",
    "# ASSEMBLED_SAMPLES_FN = '../meta/PacBio samples draft 20150622.xlsx'\n",
    "ASSEMBLED_SAMPLES_FN = '../meta/PacBio samples draft 26062015_RDP_20150706.xlsx'\n",
    "# PROCESSED_ASSEMBLED_SAMPLES_DIR = '/nfs/team112_internal/production_files/Pf3k/methods/assembled_samples'\n",
    "# !mkdir {PROCESSED_ASSEMBLED_SAMPLES_DIR}\n",
    "VRPIPE_ASSEMBLED_SAMPLES_DIR = ''\n",
    "\n",
    "# DATA_DIR = '../meta/20150617'\n",
    "CACHE_DIR = '../meta/cache'\n",
    "!mkdir -p {CACHE_DIR}\n",
    "\n",
    "REF_GENOME = '/data/plasmodium/pfalciparum/recon/roamato/Pf3D7_v3/3D7_sorted.fa'\n",
    "\n",
    "crosses_dir = '/data/plasmodium/pfalciparum/pf-crosses/data/public/1.0'\n",
    "regions_fn = '../../../pf-crosses/meta/regions-20130225.bed.gz'\n"
   ]
  },
  {
   "cell_type": "code",
   "execution_count": 3,
   "metadata": {
    "collapsed": false
   },
   "outputs": [],
   "source": [
    "install_dir = '../opt'\n",
    "bwa_dir = install_dir + '/bwa'\n",
    "bwa_exe = bwa_dir + '/bwa-0.7.12/bwa'\n",
    "\n",
    "samtools_dir = install_dir + '/samtools'\n",
    "samtools_exe = samtools_dir + '/samtools-1.2/samtools'\n",
    "\n",
    "picard_dir = install_dir + '/picard'\n",
    "picard_exe = 'java -jar ' + picard_dir + '/picard-tools-1.133/picard.jar'\n",
    "\n",
    "bcftools_dir = install_dir + '/bcftools'\n",
    "bcftools_exe = bcftools_dir + '/bcftools-1.2/bcftools'\n",
    "\n",
    "gatk_dir = install_dir + '/gatk'\n",
    "gatk_exe = 'java -jar ' + gatk_dir + '/GenomeAnalysisTK.jar'\n",
    "\n",
    "snpeff_dir = install_dir + '/snpeff/snpEff'\n",
    "snpeff_exe = 'java -jar ' + snpeff_dir + '/snpEff.jar'\n"
   ]
  },
  {
   "cell_type": "code",
   "execution_count": 4,
   "metadata": {
    "collapsed": false
   },
   "outputs": [
    {
     "data": {
      "text/plain": [
       "'../opt/samtools/samtools-1.2/samtools'"
      ]
     },
     "execution_count": 4,
     "metadata": {},
     "output_type": "execute_result"
    }
   ],
   "source": [
    "samtools_exe"
   ]
  },
  {
   "cell_type": "markdown",
   "metadata": {},
   "source": [
    "# Functions"
   ]
  },
  {
   "cell_type": "code",
   "execution_count": 5,
   "metadata": {
    "collapsed": false
   },
   "outputs": [],
   "source": [
    "def etlcache(f):\n",
    "    fn = os.path.join(CACHE_DIR, f.__name__)\n",
    "    if not os.path.exists(fn):\n",
    "        etl.topickle(f(), fn)\n",
    "    return etl.frompickle(fn)\n",
    "    \n",
    "def nocache(f):\n",
    "    fn = os.path.join(CACHE_DIR, f.__name__)\n",
    "    if os.path.exists(fn):\n",
    "        os.remove(fn)\n",
    "    return f()\n"
   ]
  },
  {
   "cell_type": "markdown",
   "metadata": {},
   "source": [
    "# Load data"
   ]
  },
  {
   "cell_type": "code",
   "execution_count": 6,
   "metadata": {
    "collapsed": false
   },
   "outputs": [],
   "source": [
    "def clean_year(year):\n",
    "    if year is None:\n",
    "        return None\n",
    "    if year == '':\n",
    "        return None\n",
    "    else:\n",
    "        return(int(year))"
   ]
  },
  {
   "cell_type": "code",
   "execution_count": 15,
   "metadata": {
    "collapsed": false
   },
   "outputs": [
    {
     "name": "stdout",
     "output_type": "stream",
     "text": [
      "tbl_pgv_metadata length = 5729\n"
     ]
    },
    {
     "name": "stderr",
     "output_type": "stream",
     "text": [
      "/nfs/users/nfs_r/rp7/anaconda3/lib/python3.4/site-packages/openpyxl/workbook/names/named_range.py:121: UserWarning: Discarded range with reserved name\n",
      "  warnings.warn(\"Discarded range with reserved name\")\n"
     ]
    }
   ],
   "source": [
    "@etlcache\n",
    "def tbl_pgv_metadata():\n",
    "    return (etl\n",
    "        .fromxlsx(PGV_METADATA_FN, 'PGV4.0', data_only=True)\n",
    "        .convert('Year', clean_year)\n",
    "        .cut(['Sample', 'Pf3k v3', 'Exclude', 'AlfrescoNumber', 'Country', 'SolarisCountry', 'SolarisLocation', 'Code', 'Fws', 'Location', 'Region', 'Year'])\n",
    "    )\n",
    "print(\"tbl_pgv_metadata length = %d\" % len(tbl_pgv_metadata.data()))\n"
   ]
  },
  {
   "cell_type": "code",
   "execution_count": 17,
   "metadata": {
    "collapsed": false
   },
   "outputs": [
    {
     "name": "stdout",
     "output_type": "stream",
     "text": [
      "tbl_pgv_locations length = 102\n"
     ]
    },
    {
     "name": "stderr",
     "output_type": "stream",
     "text": [
      "/nfs/users/nfs_r/rp7/anaconda3/lib/python3.4/site-packages/openpyxl/workbook/names/named_range.py:121: UserWarning: Discarded range with reserved name\n",
      "  warnings.warn(\"Discarded range with reserved name\")\n"
     ]
    }
   ],
   "source": [
    "@etlcache\n",
    "def tbl_pgv_locations():\n",
    "    return (etl\n",
    "        .fromxlsx(PGV_METADATA_FN, 'Locations')\n",
    "    )\n",
    "print(\"tbl_pgv_locations length = %d\" % len(tbl_pgv_locations.data()))\n"
   ]
  },
  {
   "cell_type": "code",
   "execution_count": 19,
   "metadata": {
    "collapsed": false
   },
   "outputs": [
    {
     "name": "stdout",
     "output_type": "stream",
     "text": [
      "tbl_pf3k_metadata length = 2512\n"
     ]
    }
   ],
   "source": [
    "@etlcache\n",
    "def tbl_pf3k_metadata():\n",
    "    return (etl\n",
    "        .fromtsv(PF3K_PANOPTES_FN)\n",
    "        .cut(['sample_id', 'study', 'country', 'samplingSite', 'collectionDate', 'basesof5xCoverage', 'averageReadLength', 'meanCoverage', 'PercentCallableGATK'])\n",
    "    )\n",
    "print(\"tbl_pf3k_metadata length = %d\" % len(tbl_pf3k_metadata.data()))\n"
   ]
  },
  {
   "cell_type": "code",
   "execution_count": 20,
   "metadata": {
    "collapsed": false
   },
   "outputs": [],
   "source": [
    "def determine_year(date):\n",
    "    if date is None:\n",
    "        return None\n",
    "    if date == '':\n",
    "        return None\n",
    "    else:\n",
    "        return date[0:4]"
   ]
  },
  {
   "cell_type": "code",
   "execution_count": 21,
   "metadata": {
    "collapsed": false
   },
   "outputs": [
    {
     "name": "stdout",
     "output_type": "stream",
     "text": [
      "tbl_pf_solaris length = 10879\n"
     ]
    }
   ],
   "source": [
    "@etlcache\n",
    "def tbl_pf_solaris():\n",
    "    return (etl\n",
    "        .fromxlsx(PF_SOLARIS_FN, data_only=True)\n",
    "        .cut(['ox_code', 'oxford_code', 'oxcode', 'creation_date', 'Dna_Extraction_date', 'sample_creation_date', 'contribution_arrival_date'])\n",
    "    )\n",
    "print(\"tbl_pf_solaris length = %d\" % len(tbl_pf_solaris.data()))\n"
   ]
  },
  {
   "cell_type": "code",
   "execution_count": 22,
   "metadata": {
    "collapsed": false
   },
   "outputs": [
    {
     "name": "stdout",
     "output_type": "stream",
     "text": [
      "tbl_assembled_samples length = 11\n"
     ]
    }
   ],
   "source": [
    "@etlcache\n",
    "def tbl_assembled_samples():\n",
    "    return (etl\n",
    "        .fromxlsx(ASSEMBLED_SAMPLES_FN, data_only=True)\n",
    "    )\n",
    "print(\"tbl_assembled_samples length = %d\" % len(tbl_assembled_samples.data()))\n"
   ]
  },
  {
   "cell_type": "code",
   "execution_count": null,
   "metadata": {
    "collapsed": false
   },
   "outputs": [],
   "source": []
  }
 ],
 "metadata": {
  "kernelspec": {
   "display_name": "Python 3",
   "language": "python",
   "name": "python3"
  },
  "language_info": {
   "codemirror_mode": {
    "name": "ipython",
    "version": 3
   },
   "file_extension": ".py",
   "mimetype": "text/x-python",
   "name": "python",
   "nbconvert_exporter": "python",
   "pygments_lexer": "ipython3",
   "version": "3.4.3"
  }
 },
 "nbformat": 4,
 "nbformat_minor": 0
}
