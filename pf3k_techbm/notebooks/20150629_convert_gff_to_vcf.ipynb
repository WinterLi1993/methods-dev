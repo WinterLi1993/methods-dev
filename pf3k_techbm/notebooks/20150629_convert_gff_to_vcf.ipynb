{
 "metadata": {
  "name": "",
  "signature": "sha256:7c6cef1eeea234d0b7e59fe825b783ca06c5498ea6fceba4882a61868e35ae47"
 },
 "nbformat": 3,
 "nbformat_minor": 0,
 "worksheets": [
  {
   "cells": [
    {
     "cell_type": "heading",
     "level": 1,
     "metadata": {},
     "source": [
      "Setup"
     ]
    },
    {
     "cell_type": "code",
     "collapsed": false,
     "input": [
      "%run _shared_setup.ipynb"
     ],
     "language": "python",
     "metadata": {},
     "outputs": [
      {
       "output_type": "stream",
       "stream": "stdout",
       "text": [
        "python 3.4.1 |Anaconda 2.1.0 (x86_64)| (default, Sep 10 2014, 17:24:09) \n",
        "[GCC 4.2.1 (Apple Inc. build 5577)]\n",
        "numpy 1.9.2\n",
        "scipy 0.14.0\n",
        "pandas 0.14.1\n",
        "numexpr 2.3.1\n",
        "pysam 0.8.3\n",
        "petl 1.0.10\n",
        "petlx 1.0.3\n",
        "vcf 0.6.7\n",
        "h5py 2.3.1\n",
        "tables 3.1.1\n",
        "vcfplt 0.8\n"
       ]
      },
      {
       "output_type": "stream",
       "stream": "stdout",
       "text": [
        "tbl_pgv_metadata length = 5729\n",
        "tbl_pgv_locations length = 102\n",
        "tbl_pf3k_metadata length = 2512\n",
        "tbl_pf_solaris length = 10879"
       ]
      },
      {
       "output_type": "stream",
       "stream": "stdout",
       "text": [
        "\n",
        "tbl_assembled_samples length = 11\n"
       ]
      }
     ],
     "prompt_number": 1
    },
    {
     "cell_type": "code",
     "collapsed": false,
     "input": [
      "thomas_example_gff_fn = '/nfs/pathogen003/tdo/Pfalciparum/PF3K/Reference12Genomes/embl_V1/Fasta_inChromosomes/Reference/3D7_PfGui.Pf3D7_04_v3.Mutations.gff'\n",
      "output_dir = '/nfs/team112_internal/production_files/Pf3k/methods/truth_sets'\n",
      "!mkdir {output_dir}\n",
      "out_vcf_fn = \"%s/3D7_PfGui.Pf3D7_04_v3.Mutations.vcf\" % output_dir\n",
      "left_aligned_vcf_fn = \"%s/3D7_PfGui.Pf3D7_04_v3.Mutations.leftAligned.vcf\" % output_dir\n",
      "\n",
      "REF_GENOME = '/data/plasmodium/pfalciparum/recon/roamato/Pf3D7_v3/3D7_sorted.fa'\n",
      "\n",
      "gatk_exe = 'java -jar ' + '../../opt/gatk/GenomeAnalysisTK.jar'\n",
      "# gatk_exe = '../../opt/gatk/GenomeAnalysisTK.jar'"
     ],
     "language": "python",
     "metadata": {},
     "outputs": [
      {
       "output_type": "stream",
       "stream": "stdout",
       "text": [
        "mkdir: /nfs/team112_internal/production_files/Pf3k/methods/truth_sets: File exists\r\n"
       ]
      }
     ],
     "prompt_number": 17
    },
    {
     "cell_type": "code",
     "collapsed": false,
     "input": [
      "in_seq_handle = open(REF_GENOME)\n",
      "ref_dict = SeqIO.to_dict(SeqIO.parse(in_seq_handle, \"fasta\"))\n"
     ],
     "language": "python",
     "metadata": {},
     "outputs": [],
     "prompt_number": 3
    },
    {
     "cell_type": "code",
     "collapsed": false,
     "input": [
      "print(str(ref_dict['Pf3D7_04_v3'][116602:116603].seq))\n",
      "print(str(ref_dict['Pf3D7_04_v3'][116601]))\n",
      "print(str(ref_dict['Pf3D7_04_v3'][116602]))\n",
      "print(str(ref_dict['Pf3D7_04_v3'][116603]))\n",
      "print()\n",
      "print(str(ref_dict['Pf3D7_04_v3'][117276]))\n",
      "print(str(ref_dict['Pf3D7_04_v3'][117277]))\n",
      "print(str(ref_dict['Pf3D7_04_v3'][117278]))\n",
      "print(str(ref_dict['Pf3D7_04_v3'][117279]))\n",
      "117278"
     ],
     "language": "python",
     "metadata": {},
     "outputs": [
      {
       "output_type": "stream",
       "stream": "stdout",
       "text": [
        "G\n",
        "A\n",
        "G\n",
        "T\n",
        "\n",
        "T\n",
        "T\n",
        "T\n",
        "C\n"
       ]
      },
      {
       "metadata": {},
       "output_type": "pyout",
       "prompt_number": 4,
       "text": [
        "117278"
       ]
      }
     ],
     "prompt_number": 4
    },
    {
     "cell_type": "code",
     "collapsed": false,
     "input": [
      "def convert_gff(gff_fn=thomas_example_gff_fn, vcf_fn=out_vcf_fn):\n",
      "#     Write VCF header\n",
      "    fo = open(vcf_fn, 'w')\n",
      "    fo.write(\"##fileformat=VCFv4.1\\n\")\n",
      "    fo.write(\"##description=This file created with 20150629_convert_gff_to_vcf.ipynb\\n\")\n",
      "    fo.write(\"#CHROM\\tPOS\\tID\\tREF\\tALT\\tQUAL\\tFILTER\\tINFO\\n\")\n",
      "#     Write data\n",
      "    tbl_gff = (etl.fromtsv(gff_fn))\n",
      "    current_state = \"SNP\"\n",
      "    ins_sequence = ''\n",
      "    for rec in tbl_gff:\n",
      "        (chrom, bba, variant_type, pos, pos2, zero, strand, dot, note) = rec\n",
      "        pos = int(pos)\n",
      "        pos2 = int(pos2)\n",
      "        zero = int(zero)\n",
      "        if (\n",
      "            bba != 'BBA' or\n",
      "            not(variant_type in ['SNP', 'Del', 'Ins', 'Synteny']) or\n",
      "            (variant_type != 'Synteny' and pos != pos2) or\n",
      "            zero != 0 or\n",
      "            dot != '.' or\n",
      "            not(note.startswith('note'))\n",
      "        ):\n",
      "            return(\"error\")\n",
      "        if variant_type == 'SNP':\n",
      "            if current_state == 'Del':\n",
      "                ref = str(ref_dict[chrom][variant_start-1:variant_end].seq)\n",
      "                alt = ref_dict[chrom][variant_start-1]\n",
      "                fo.write(\"%s\\t%s\\t.\\t%s\\t%s\\t.\\tPASS\\t.\\n\" % (chrom, variant_start, ref, alt))\n",
      "            if current_state == 'Ins':\n",
      "                ref = ref_dict[chrom][variant_start-1]\n",
      "                alt = ref_dict[chrom][variant_start-1] + ins_sequence\n",
      "                fo.write(\"%s\\t%s\\t.\\t%s\\t%s\\t.\\tPASS\\t.\\n\" % (chrom, variant_start, ref, alt))\n",
      "                ins_sequence = ''\n",
      "            ref = ref_dict[chrom][pos-1]\n",
      "            alt = note[20]\n",
      "            fo.write(\"%s\\t%s\\t.\\t%s\\t%s\\t.\\tPASS\\t.\\n\" % (chrom, pos, ref, alt))\n",
      "            current_state = \"SNP\"\n",
      "        elif variant_type == 'Del':\n",
      "            if current_state == 'Del':\n",
      "                if pos > (variant_end+1): # i.e. we have moved into a different del so need to print out previous\n",
      "                    ref = str(ref_dict[chrom][variant_start-1:variant_end].seq)\n",
      "                    alt = ref_dict[chrom][variant_start-1]\n",
      "                    fo.write(\"%s\\t%s\\t.\\t%s\\t%s\\t.\\tPASS\\t.\\n\" % (chrom, variant_start, ref, alt))\n",
      "                    variant_start = pos-1\n",
      "            if current_state == 'Ins':\n",
      "                ref = ref_dict[chrom][variant_start-1]\n",
      "                alt = ref_dict[chrom][variant_start-1] + ins_sequence\n",
      "                fo.write(\"%s\\t%s\\t.\\t%s\\t%s\\t.\\tPASS\\t.\\n\" % (chrom, variant_start, ref, alt))\n",
      "                variant_start = pos-1\n",
      "            if current_state == 'SNP':\n",
      "                variant_start = pos-1\n",
      "            variant_end = pos\n",
      "            current_state = \"Del\"\n",
      "        elif variant_type == 'Ins':\n",
      "            if current_state == 'Del':\n",
      "                ref = str(ref_dict[chrom][variant_start-1:variant_end].seq)\n",
      "                alt = ref_dict[chrom][variant_start-1]\n",
      "                fo.write(\"%s\\t%s\\t.\\t%s\\t%s\\t.\\tPASS\\t.\\n\" % (chrom, variant_start, ref, alt))\n",
      "                variant_start = pos\n",
      "            if current_state == 'Ins':\n",
      "                if pos > (variant_end+1): # i.e. we have moved into a different del so need to print out previous\n",
      "                    ref = ref_dict[chrom][variant_start-1]\n",
      "                    alt = ref_dict[chrom][variant_start-1] + ins_sequence\n",
      "                    fo.write(\"%s\\t%s\\t.\\t%s\\t%s\\t.\\tPASS\\t.\\n\" % (chrom, variant_start, ref, alt))\n",
      "                    variant_start = pos\n",
      "                    ins_sequence = ''\n",
      "            if current_state == 'SNP':\n",
      "                variant_start = pos\n",
      "            ins_sequence = ins_sequence + note[26]\n",
      "            variant_end = pos\n",
      "            current_state = \"Ins\"\n",
      "        elif variant_type == 'Synteny':\n",
      "            if current_state == 'Del':\n",
      "                ref = str(ref_dict[chrom][variant_start-1:variant_end].seq)\n",
      "                alt = ref_dict[chrom][variant_start]\n",
      "                fo.write(\"%s\\t%s\\t.\\t%s\\t%s\\t.\\tPASS\\t.\\n\" % (chrom, variant_start, ref, alt))\n",
      "            if current_state == 'Ins':\n",
      "                ref = ref_dict[chrom][variant_start-1]\n",
      "                alt = ref_dict[chrom][variant_start-1] + ins_sequence\n",
      "                fo.write(\"%s\\t%s\\t.\\t%s\\t%s\\t.\\tPASS\\t.\\n\" % (chrom, variant_start, ref, alt))\n",
      "                ins_sequence = ''\n",
      "            current_state = \"Synteny\"\n",
      "        else:\n",
      "            return(\"error\")\n",
      "    fo.close()\n",
      "    \n",
      "    return(vcf_fn)\n",
      "            \n",
      "                \n",
      "        \n",
      "    "
     ],
     "language": "python",
     "metadata": {},
     "outputs": [],
     "prompt_number": 5
    },
    {
     "cell_type": "code",
     "collapsed": false,
     "input": [
      "convert_gff()"
     ],
     "language": "python",
     "metadata": {},
     "outputs": [
      {
       "metadata": {},
       "output_type": "pyout",
       "prompt_number": 6,
       "text": [
        "'/nfs/team112_internal/production_files/Pf3k/methods/truth_sets/3D7_PfGui.Pf3D7_04_v3.Mutations.vcf'"
       ]
      }
     ],
     "prompt_number": 6
    },
    {
     "cell_type": "code",
     "collapsed": false,
     "input": [
      "thomas_example_gff_fn"
     ],
     "language": "python",
     "metadata": {},
     "outputs": [
      {
       "metadata": {},
       "output_type": "pyout",
       "prompt_number": 7,
       "text": [
        "'/nfs/pathogen003/tdo/Pfalciparum/PF3K/Reference12Genomes/embl_V1/Fasta_inChromosomes/Reference/3D7_PfGui.Pf3D7_04_v3.Mutations.gff'"
       ]
      }
     ],
     "prompt_number": 7
    },
    {
     "cell_type": "code",
     "collapsed": false,
     "input": [
      "!{gatk_exe} -T LeftAlignAndTrimVariants \\\n",
      "    -R {REF_GENOME} \\\n",
      "    -V {out_vcf_fn} \\\n",
      "    -o {left_aligned_vcf_fn}\n"
     ],
     "language": "python",
     "metadata": {},
     "outputs": [
      {
       "output_type": "stream",
       "stream": "stdout",
       "text": [
        "INFO  15:00:52,473 HelpFormatter - -------------------------------------------------------------------------------- \r\n",
        "INFO  15:00:52,474 HelpFormatter - The Genome Analysis Toolkit (GATK) v3.4-0-g7e26428, Compiled 2015/05/15 03:25:41 \r\n",
        "INFO  15:00:52,474 HelpFormatter - Copyright (c) 2010 The Broad Institute \r\n",
        "INFO  15:00:52,475 HelpFormatter - For support and documentation go to http://www.broadinstitute.org/gatk \r\n",
        "INFO  15:00:52,478 HelpFormatter - Program Args: -T LeftAlignAndTrimVariants -R /data/plasmodium/pfalciparum/recon/roamato/Pf3D7_v3/3D7_sorted.fa -V /nfs/team112_internal/production_files/Pf3k/methods/truth_sets/3D7_PfGui.Pf3D7_04_v3.Mutations.vcf -o /nfs/team112_internal/production_files/Pf3k/methods/truth_sets/3D7_PfGui.Pf3D7_04_v3.Mutations.leftAligned.vcf \r\n",
        "INFO  15:00:52,484 HelpFormatter - Executing as rpearson@dhcp753.well.ox.ac.uk on Mac OS X 10.10.3 x86_64; Java HotSpot(TM) 64-Bit Server VM 1.7.0_60-b19. \r\n",
        "INFO  15:00:52,484 HelpFormatter - Date/Time: 2015/06/29 15:00:52 \r\n",
        "INFO  15:00:52,484 HelpFormatter - -------------------------------------------------------------------------------- \r\n",
        "INFO  15:00:52,484 HelpFormatter - -------------------------------------------------------------------------------- \r\n"
       ]
      },
      {
       "output_type": "stream",
       "stream": "stdout",
       "text": [
        "INFO  15:00:52,850 GenomeAnalysisEngine - Strictness is SILENT \r\n"
       ]
      },
      {
       "output_type": "stream",
       "stream": "stdout",
       "text": [
        "INFO  15:00:52,898 GenomeAnalysisEngine - Downsampling Settings: Method: BY_SAMPLE, Target Coverage: 1000 \r\n"
       ]
      },
      {
       "output_type": "stream",
       "stream": "stdout",
       "text": [
        "INFO  15:00:53,011 GenomeAnalysisEngine - Preparing for traversal \r\n",
        "INFO  15:00:53,012 GenomeAnalysisEngine - Done preparing for traversal \r\n",
        "INFO  15:00:53,013 ProgressMeter - [INITIALIZATION COMPLETE; STARTING PROCESSING] \r\n",
        "INFO  15:00:53,013 ProgressMeter -                 | processed |    time |    per 1M |           |   total | remaining \r\n",
        "INFO  15:00:53,013 ProgressMeter -        Location |     sites | elapsed |     sites | completed | runtime |   runtime \r\n"
       ]
      },
      {
       "output_type": "stream",
       "stream": "stdout",
       "text": [
        "879 variants were aligned\r\n",
        "INFO  15:00:53,621 ProgressMeter -            done      5965.0     0.0 s     101.0 s       16.5%     0.0 s       0.0 s \r\n",
        "INFO  15:00:53,622 ProgressMeter - Total runtime 0.61 secs, 0.01 min, 0.00 hours \r\n"
       ]
      },
      {
       "output_type": "stream",
       "stream": "stdout",
       "text": [
        "INFO  15:00:54,529 GATKRunReport - Uploaded run statistics report to AWS S3 \r\n"
       ]
      }
     ],
     "prompt_number": 18
    },
    {
     "cell_type": "code",
     "collapsed": false,
     "input": [
      "#     --unsafe LENIENT_VCF_PROCESSING"
     ],
     "language": "python",
     "metadata": {},
     "outputs": []
    },
    {
     "cell_type": "code",
     "collapsed": false,
     "input": [
      "!echo \"{gatk_exe}\""
     ],
     "language": "python",
     "metadata": {},
     "outputs": [
      {
       "output_type": "stream",
       "stream": "stdout",
       "text": [
        "java -jar ../../opt/gatk/GenomeAnalysisTK.jar\r\n"
       ]
      }
     ],
     "prompt_number": 9
    },
    {
     "cell_type": "code",
     "collapsed": false,
     "input": [],
     "language": "python",
     "metadata": {},
     "outputs": []
    }
   ],
   "metadata": {}
  }
 ]
}