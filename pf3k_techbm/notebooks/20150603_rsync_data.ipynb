{
 "metadata": {
  "name": "",
  "signature": "sha256:503ba2b8d0e675193166fa3797348c025c6a9ab6773cac699493b7462e48204f"
 },
 "nbformat": 3,
 "nbformat_minor": 0,
 "worksheets": [
  {
   "cells": [
    {
     "cell_type": "code",
     "collapsed": false,
     "input": [
      "team112_dir = '/nfs/team112_internal/production_files/Pf3k/methods'\n",
      "tdo_dir = '/nfs/pathogen003/tdo/Pf3K/SNPset/Pf3D7vsPfIT'"
     ],
     "language": "python",
     "metadata": {},
     "outputs": [],
     "prompt_number": 1
    },
    {
     "cell_type": "code",
     "collapsed": false,
     "input": [
      "!mkdir -p {team112_dir}\n",
      "!mkdir -p {tdo_dir}\n",
      "!mkdir ../log"
     ],
     "language": "python",
     "metadata": {},
     "outputs": [
      {
       "output_type": "stream",
       "stream": "stdout",
       "text": [
        "mkdir: ../log: File exists\r\n"
       ]
      }
     ],
     "prompt_number": 2
    },
    {
     "cell_type": "code",
     "collapsed": false,
     "input": [
      "!rsync -avL rp7@malsrv2:{team112_dir} {team112_dir} > ../log/20150603_team112_dir.log\n",
      "!rsync -avL rp7@malsrv2:{tdo_dir} {tdo_dir} > ../log/20150603_tdo_dir.log\n"
     ],
     "language": "python",
     "metadata": {},
     "outputs": [
      {
       "output_type": "stream",
       "stream": "stdout",
       "text": [
        "rp7@localhost's password: "
       ]
      },
      {
       "output_type": "stream",
       "stream": "stdout",
       "text": [
        "\r\n",
        "\r\n"
       ]
      },
      {
       "output_type": "stream",
       "stream": "stdout",
       "text": [
        "^C\r\n"
       ]
      }
     ],
     "prompt_number": 5
    },
    {
     "cell_type": "markdown",
     "metadata": {},
     "source": [
      "Abandoned the above and ran from the command line"
     ]
    },
    {
     "cell_type": "code",
     "collapsed": false,
     "input": [],
     "language": "python",
     "metadata": {},
     "outputs": []
    }
   ],
   "metadata": {}
  }
 ]
}