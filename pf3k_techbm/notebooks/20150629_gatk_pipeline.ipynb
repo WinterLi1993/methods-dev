{
 "metadata": {
  "name": "",
  "signature": "sha256:c3b489990d681809fad9e1085893415835a87b4e8c3a9ecaa496cdd1b0fcab87"
 },
 "nbformat": 3,
 "nbformat_minor": 0,
 "worksheets": [
  {
   "cells": [
    {
     "cell_type": "heading",
     "level": 1,
     "metadata": {},
     "source": [
      "Setup"
     ]
    },
    {
     "cell_type": "code",
     "collapsed": false,
     "input": [
      "%run _shared_setup.ipynb"
     ],
     "language": "python",
     "metadata": {},
     "outputs": [
      {
       "output_type": "stream",
       "stream": "stdout",
       "text": [
        "python 3.4.1 |Anaconda 2.1.0 (x86_64)| (default, Sep 10 2014, 17:24:09) \n",
        "[GCC 4.2.1 (Apple Inc. build 5577)]\n",
        "numpy 1.9.2\n",
        "scipy 0.14.0\n",
        "pandas 0.14.1\n",
        "numexpr 2.3.1\n",
        "pysam 0.8.3\n",
        "petl 1.0.10\n",
        "petlx 1.0.3\n",
        "vcf 0.6.7\n",
        "h5py 2.3.1\n",
        "tables 3.1.1\n",
        "vcfplt 0.8\n",
        "mkdir: /nfs/team112_internal/production_files/Pf3k/methods/assembled_samples: File exists\r\n"
       ]
      },
      {
       "output_type": "stream",
       "stream": "stdout",
       "text": [
        "tbl_pgv_metadata length = 5729\n",
        "tbl_pgv_locations length = 102\n",
        "tbl_pf3k_metadata length = 2512\n",
        "tbl_pf_solaris length = 10879"
       ]
      },
      {
       "output_type": "stream",
       "stream": "stdout",
       "text": [
        "\n",
        "tbl_assembled_samples length = 11\n"
       ]
      }
     ],
     "prompt_number": 1
    },
    {
     "cell_type": "code",
     "collapsed": false,
     "input": [
      "!mkdir -p {os.path.join(PROCESSED_ASSEMBLED_SAMPLES_DIR, 'bams', 'bwa_mem')}\n",
      "!mkdir -p {os.path.join(PROCESSED_ASSEMBLED_SAMPLES_DIR, 'vcfs', 'gvcf', 'samples')}\n",
      "!mkdir -p {os.path.join(PROCESSED_ASSEMBLED_SAMPLES_DIR, 'vcfs', 'gvcf', 'lists')}\n",
      "!mkdir -p {os.path.join(PROCESSED_ASSEMBLED_SAMPLES_DIR, 'vcfs', 'gvcf', 'combined_gvcf')}\n",
      "!mkdir -p {os.path.join(PROCESSED_ASSEMBLED_SAMPLES_DIR, 'vcfs', 'vcf', 'recal')}\n"
     ],
     "language": "python",
     "metadata": {},
     "outputs": [],
     "prompt_number": 116
    },
    {
     "cell_type": "heading",
     "level": 1,
     "metadata": {},
     "source": [
      "Check data"
     ]
    },
    {
     "cell_type": "code",
     "collapsed": false,
     "input": [
      "def get_RG(bam_fn = '/nfs/team112_internal/production_files/Pf/4_0/PFprog1/PG0008_CW/PG0008_CW.bam'):\n",
      "    temp = !{samtools_exe} view -H {bam_fn} | grep '@RG'\n",
      "    return(temp[0])\n",
      "get_RG()"
     ],
     "language": "python",
     "metadata": {},
     "outputs": [
      {
       "metadata": {},
       "output_type": "pyout",
       "prompt_number": 3,
       "text": [
        "'@RG\\tID:4062_2_nonhuman\\tPL:ILLUMINA\\tPU:4062_2_nonhuman\\tLB:PG0008_CW_200_1\\tDS:PFprog1\\tSM:PG0008-CW\\tCN:SC'"
       ]
      }
     ],
     "prompt_number": 3
    },
    {
     "cell_type": "code",
     "collapsed": false,
     "input": [
      "tbl_samples_to_process = (tbl_assembled_samples\n",
      "    .cutout('Notes')\n",
      "    .selectnotnone('bam_fn')\n",
      "    .selectne('Sample name', 'ITA4?')\n",
      "#     .addfield('bam_dir', lambda rec: os.path.dirname(rec['bam_fn']) if rec['bam_fn'] is not None else None)\n",
      "    .addfield('remapped_sam_fn', lambda rec: os.path.join(\n",
      "        PROCESSED_ASSEMBLED_SAMPLES_DIR,\n",
      "        'bams',\n",
      "        'bwa_mem',\n",
      "        os.path.basename(rec['bam_fn']).replace('.bam', '.bwa_mem.sam')\n",
      "    ))\n",
      "    .addfield('sorted_bam_fn', lambda rec: rec['remapped_sam_fn'].replace('.sam', '.sorted.bam'))\n",
      "    .addfield('dedupped_bam_fn', lambda rec: rec['remapped_sam_fn'].replace('.sam', '.dedup.bam'))\n",
      "    .addfield('dedup_metrics_fn', lambda rec: rec['remapped_sam_fn'].replace('.sam', '.dedup.metrics'))\n",
      "    .addfield('targets_fn', lambda rec: rec['remapped_sam_fn'].replace('.sam', '.dedup.targets.list'))\n",
      "    .addfield('realigned_bam_fn', lambda rec: rec['remapped_sam_fn'].replace('.sam', '.realigned.bam'))\n",
      "    .addfield('recal_table_fn', lambda rec: rec['remapped_sam_fn'].replace('.sam', '.recal.table'))\n",
      "    .addfield('post_recal_table_fn', lambda rec: rec['remapped_sam_fn'].replace('.sam', '.post_recal.table'))\n",
      "    .addfield('recal_plots_fn', lambda rec: rec['remapped_sam_fn'].replace('.sam', '.recal.pdf'))\n",
      "    .addfield('recal_bam_fn', lambda rec: rec['remapped_sam_fn'].replace('.sam', '.recal.bam'))\n",
      "    .addfield('RG', lambda rec: get_RG(rec['bam_fn']).replace('\\t', '\\\\t'))\n",
      "    .addfield('gvcf_filestem', lambda rec: os.path.join(\n",
      "        PROCESSED_ASSEMBLED_SAMPLES_DIR,\n",
      "        'vcfs',\n",
      "        'gvcf',\n",
      "        'samples',\n",
      "        os.path.basename(rec['bam_fn']).replace('.bam', '.raw.snps.indels')\n",
      "    ))\n",
      ")\n",
      "tbl_samples_to_process.displayall(index_header=True)"
     ],
     "language": "python",
     "metadata": {},
     "outputs": [
      {
       "html": [
        "<table class='petl'>\n",
        "<thead>\n",
        "<tr>\n",
        "<th>0|Sample name</th>\n",
        "<th>1|Cross parent?</th>\n",
        "<th>2|Origin</th>\n",
        "<th>3|Continent</th>\n",
        "<th>4|ox_code</th>\n",
        "<th>5|SRA accession</th>\n",
        "<th>6|coverage</th>\n",
        "<th>7|read length</th>\n",
        "<th>8|To be used for</th>\n",
        "<th>9|bam_fn</th>\n",
        "<th>10|remapped_sam_fn</th>\n",
        "<th>11|sorted_bam_fn</th>\n",
        "<th>12|dedupped_bam_fn</th>\n",
        "<th>13|dedup_metrics_fn</th>\n",
        "<th>14|targets_fn</th>\n",
        "<th>15|realigned_bam_fn</th>\n",
        "<th>16|recal_table_fn</th>\n",
        "<th>17|post_recal_table_fn</th>\n",
        "<th>18|recal_plots_fn</th>\n",
        "<th>19|recal_bam_fn</th>\n",
        "<th>20|RG</th>\n",
        "<th>21|gvcf_filestem</th>\n",
        "</tr>\n",
        "</thead>\n",
        "<tbody>\n",
        "<tr>\n",
        "<td>Dd2</td>\n",
        "<td>Yes</td>\n",
        "<td>Indochina</td>\n",
        "<td>SE Asia</td>\n",
        "<td>PG0008-CW</td>\n",
        "<td>ERS010540</td>\n",
        "<td>80X</td>\n",
        "<td style='text-align: right'>76</td>\n",
        "<td>Training</td>\n",
        "<td>/nfs/team112_internal/production_files/Pf/4_0/PFprog1/PG0008_CW/PG0008_CW.bam</td>\n",
        "<td>/nfs/team112_internal/production_files/Pf3k/methods/assembled_samples/bams/bwa_mem/PG0008_CW.bwa_mem.sam</td>\n",
        "<td>/nfs/team112_internal/production_files/Pf3k/methods/assembled_samples/bams/bwa_mem/PG0008_CW.bwa_mem.sorted.bam</td>\n",
        "<td>/nfs/team112_internal/production_files/Pf3k/methods/assembled_samples/bams/bwa_mem/PG0008_CW.bwa_mem.dedup.bam</td>\n",
        "<td>/nfs/team112_internal/production_files/Pf3k/methods/assembled_samples/bams/bwa_mem/PG0008_CW.bwa_mem.dedup.metrics</td>\n",
        "<td>/nfs/team112_internal/production_files/Pf3k/methods/assembled_samples/bams/bwa_mem/PG0008_CW.bwa_mem.dedup.targets.list</td>\n",
        "<td>/nfs/team112_internal/production_files/Pf3k/methods/assembled_samples/bams/bwa_mem/PG0008_CW.bwa_mem.realigned.bam</td>\n",
        "<td>/nfs/team112_internal/production_files/Pf3k/methods/assembled_samples/bams/bwa_mem/PG0008_CW.bwa_mem.recal.table</td>\n",
        "<td>/nfs/team112_internal/production_files/Pf3k/methods/assembled_samples/bams/bwa_mem/PG0008_CW.bwa_mem.post_recal.table</td>\n",
        "<td>/nfs/team112_internal/production_files/Pf3k/methods/assembled_samples/bams/bwa_mem/PG0008_CW.bwa_mem.recal.pdf</td>\n",
        "<td>/nfs/team112_internal/production_files/Pf3k/methods/assembled_samples/bams/bwa_mem/PG0008_CW.bwa_mem.recal.bam</td>\n",
        "<td>@RG\\tID:4062_2_nonhuman\\tPL:ILLUMINA\\tPU:4062_2_nonhuman\\tLB:PG0008_CW_200_1\\tDS:PFprog1\\tSM:PG0008-CW\\tCN:SC</td>\n",
        "<td>/nfs/team112_internal/production_files/Pf3k/methods/assembled_samples/vcfs/gvcf/samples/PG0008_CW.raw.snps.indels</td>\n",
        "</tr>\n",
        "<tr>\n",
        "<td>HB3</td>\n",
        "<td>Yes</td>\n",
        "<td>Honduras</td>\n",
        "<td>S America</td>\n",
        "<td>PG0004-CW</td>\n",
        "<td>ERS010539</td>\n",
        "<td>122X</td>\n",
        "<td style='text-align: right'>76</td>\n",
        "<td>Training</td>\n",
        "<td>/nfs/team112_internal/production_files/Pf/4_0/PFprog1/PG0004_CW/PG0004_CW.bam</td>\n",
        "<td>/nfs/team112_internal/production_files/Pf3k/methods/assembled_samples/bams/bwa_mem/PG0004_CW.bwa_mem.sam</td>\n",
        "<td>/nfs/team112_internal/production_files/Pf3k/methods/assembled_samples/bams/bwa_mem/PG0004_CW.bwa_mem.sorted.bam</td>\n",
        "<td>/nfs/team112_internal/production_files/Pf3k/methods/assembled_samples/bams/bwa_mem/PG0004_CW.bwa_mem.dedup.bam</td>\n",
        "<td>/nfs/team112_internal/production_files/Pf3k/methods/assembled_samples/bams/bwa_mem/PG0004_CW.bwa_mem.dedup.metrics</td>\n",
        "<td>/nfs/team112_internal/production_files/Pf3k/methods/assembled_samples/bams/bwa_mem/PG0004_CW.bwa_mem.dedup.targets.list</td>\n",
        "<td>/nfs/team112_internal/production_files/Pf3k/methods/assembled_samples/bams/bwa_mem/PG0004_CW.bwa_mem.realigned.bam</td>\n",
        "<td>/nfs/team112_internal/production_files/Pf3k/methods/assembled_samples/bams/bwa_mem/PG0004_CW.bwa_mem.recal.table</td>\n",
        "<td>/nfs/team112_internal/production_files/Pf3k/methods/assembled_samples/bams/bwa_mem/PG0004_CW.bwa_mem.post_recal.table</td>\n",
        "<td>/nfs/team112_internal/production_files/Pf3k/methods/assembled_samples/bams/bwa_mem/PG0004_CW.bwa_mem.recal.pdf</td>\n",
        "<td>/nfs/team112_internal/production_files/Pf3k/methods/assembled_samples/bams/bwa_mem/PG0004_CW.bwa_mem.recal.bam</td>\n",
        "<td>@RG\\tID:4062_1_nonhuman\\tPL:ILLUMINA\\tPU:4062_1_nonhuman\\tLB:PG0004_CW_200_1\\tDS:PFprog1\\tSM:PG0004-CW\\tCN:SC</td>\n",
        "<td>/nfs/team112_internal/production_files/Pf3k/methods/assembled_samples/vcfs/gvcf/samples/PG0004_CW.raw.snps.indels</td>\n",
        "</tr>\n",
        "<tr>\n",
        "<td>7G8</td>\n",
        "<td>Yes</td>\n",
        "<td>Brazil</td>\n",
        "<td>S America</td>\n",
        "<td>PG0083-C</td>\n",
        "<td>ERR027099</td>\n",
        "<td>87X</td>\n",
        "<td style='text-align: right'>76</td>\n",
        "<td>Validation</td>\n",
        "<td>/nfs/team112_internal/production_files/Pf/4_0/PFprog3/PG0083_C/PG0083_C.bam</td>\n",
        "<td>/nfs/team112_internal/production_files/Pf3k/methods/assembled_samples/bams/bwa_mem/PG0083_C.bwa_mem.sam</td>\n",
        "<td>/nfs/team112_internal/production_files/Pf3k/methods/assembled_samples/bams/bwa_mem/PG0083_C.bwa_mem.sorted.bam</td>\n",
        "<td>/nfs/team112_internal/production_files/Pf3k/methods/assembled_samples/bams/bwa_mem/PG0083_C.bwa_mem.dedup.bam</td>\n",
        "<td>/nfs/team112_internal/production_files/Pf3k/methods/assembled_samples/bams/bwa_mem/PG0083_C.bwa_mem.dedup.metrics</td>\n",
        "<td>/nfs/team112_internal/production_files/Pf3k/methods/assembled_samples/bams/bwa_mem/PG0083_C.bwa_mem.dedup.targets.list</td>\n",
        "<td>/nfs/team112_internal/production_files/Pf3k/methods/assembled_samples/bams/bwa_mem/PG0083_C.bwa_mem.realigned.bam</td>\n",
        "<td>/nfs/team112_internal/production_files/Pf3k/methods/assembled_samples/bams/bwa_mem/PG0083_C.bwa_mem.recal.table</td>\n",
        "<td>/nfs/team112_internal/production_files/Pf3k/methods/assembled_samples/bams/bwa_mem/PG0083_C.bwa_mem.post_recal.table</td>\n",
        "<td>/nfs/team112_internal/production_files/Pf3k/methods/assembled_samples/bams/bwa_mem/PG0083_C.bwa_mem.recal.pdf</td>\n",
        "<td>/nfs/team112_internal/production_files/Pf3k/methods/assembled_samples/bams/bwa_mem/PG0083_C.bwa_mem.recal.bam</td>\n",
        "<td>@RG\\tID:5459_2_nonhuman\\tPL:ILLUMINA\\tPU:5459_2_nonhuman\\tLB:PG0083_C_1361748\\tDS:PFprog3\\tSM:PG0083-C\\tCN:SC</td>\n",
        "<td>/nfs/team112_internal/production_files/Pf3k/methods/assembled_samples/vcfs/gvcf/samples/PG0083_C.raw.snps.indels</td>\n",
        "</tr>\n",
        "<tr>\n",
        "<td>GB4</td>\n",
        "<td>Yes</td>\n",
        "<td>Ghana</td>\n",
        "<td>W Africa</td>\n",
        "<td>PG0084-C</td>\n",
        "<td>ERR027100</td>\n",
        "<td>104X</td>\n",
        "<td style='text-align: right'>76</td>\n",
        "<td>Validation</td>\n",
        "<td>/nfs/team112_internal/production_files/Pf/4_0/PFprog3/PG0084_C/PG0084_C.bam</td>\n",
        "<td>/nfs/team112_internal/production_files/Pf3k/methods/assembled_samples/bams/bwa_mem/PG0084_C.bwa_mem.sam</td>\n",
        "<td>/nfs/team112_internal/production_files/Pf3k/methods/assembled_samples/bams/bwa_mem/PG0084_C.bwa_mem.sorted.bam</td>\n",
        "<td>/nfs/team112_internal/production_files/Pf3k/methods/assembled_samples/bams/bwa_mem/PG0084_C.bwa_mem.dedup.bam</td>\n",
        "<td>/nfs/team112_internal/production_files/Pf3k/methods/assembled_samples/bams/bwa_mem/PG0084_C.bwa_mem.dedup.metrics</td>\n",
        "<td>/nfs/team112_internal/production_files/Pf3k/methods/assembled_samples/bams/bwa_mem/PG0084_C.bwa_mem.dedup.targets.list</td>\n",
        "<td>/nfs/team112_internal/production_files/Pf3k/methods/assembled_samples/bams/bwa_mem/PG0084_C.bwa_mem.realigned.bam</td>\n",
        "<td>/nfs/team112_internal/production_files/Pf3k/methods/assembled_samples/bams/bwa_mem/PG0084_C.bwa_mem.recal.table</td>\n",
        "<td>/nfs/team112_internal/production_files/Pf3k/methods/assembled_samples/bams/bwa_mem/PG0084_C.bwa_mem.post_recal.table</td>\n",
        "<td>/nfs/team112_internal/production_files/Pf3k/methods/assembled_samples/bams/bwa_mem/PG0084_C.bwa_mem.recal.pdf</td>\n",
        "<td>/nfs/team112_internal/production_files/Pf3k/methods/assembled_samples/bams/bwa_mem/PG0084_C.bwa_mem.recal.bam</td>\n",
        "<td>@RG\\tID:5459_3_nonhuman\\tPL:ILLUMINA\\tPU:5459_3_nonhuman\\tLB:PG0084_C_1361749\\tDS:PFprog3\\tSM:PG0084-C\\tCN:SC</td>\n",
        "<td>/nfs/team112_internal/production_files/Pf3k/methods/assembled_samples/vcfs/gvcf/samples/PG0084_C.raw.snps.indels</td>\n",
        "</tr>\n",
        "</tbody>\n",
        "</table>\n"
       ],
       "metadata": {},
       "output_type": "display_data"
      }
     ],
     "prompt_number": 4
    },
    {
     "cell_type": "code",
     "collapsed": false,
     "input": [
      "tbl_samples_to_process.values('bam_fn')[0]"
     ],
     "language": "python",
     "metadata": {},
     "outputs": [
      {
       "metadata": {},
       "output_type": "pyout",
       "prompt_number": 5,
       "text": [
        "'/nfs/team112_internal/production_files/Pf/4_0/PFprog1/PG0008_CW/PG0008_CW.bam'"
       ]
      }
     ],
     "prompt_number": 5
    },
    {
     "cell_type": "heading",
     "level": 1,
     "metadata": {},
     "source": [
      "Functions"
     ]
    },
    {
     "cell_type": "code",
     "collapsed": false,
     "input": [
      "def remap_with_bwa_mem(input_fn = tbl_samples_to_process.values('bam_fn')[0],\n",
      "                       bwa_mem_fn = tbl_samples_to_process.values('remapped_sam_fn')[0],\n",
      "                       read_group_info = tbl_samples_to_process.values('RG')[0],\n",
      "                       reference_fasta = REF_GENOME,\n",
      "                       rewrite=False):\n",
      "    if not os.path.isfile(bwa_mem_fn) or rewrite:\n",
      "        !{samtools_exe} bamshuf -uOn 128 {input_fn} tmp | \\\n",
      "        {samtools_exe} bam2fq - | \\\n",
      "        {bwa_exe} mem -M -R '{read_group_info}' -p {reference_fasta} - > {bwa_mem_fn} 2> /dev/null\n"
     ],
     "language": "python",
     "metadata": {},
     "outputs": [],
     "prompt_number": 6
    },
    {
     "cell_type": "code",
     "collapsed": false,
     "input": [
      "remap_with_bwa_mem()"
     ],
     "language": "python",
     "metadata": {},
     "outputs": [],
     "prompt_number": 8
    },
    {
     "cell_type": "code",
     "collapsed": false,
     "input": [
      "def sort_mark_dup(bwa_mem_fn = tbl_samples_to_process.values('remapped_sam_fn')[0],\n",
      "                  sorted_fn = tbl_samples_to_process.values('sorted_bam_fn')[0],\n",
      "                  dedup_fn = tbl_samples_to_process.values('dedupped_bam_fn')[0],\n",
      "                  dedup_metrics_fn = tbl_samples_to_process.values('dedup_metrics_fn')[0],\n",
      "                  rewrite=False):\n",
      "    \n",
      "    if not os.path.isfile(sorted_fn) or rewrite:\n",
      "        !{picard_exe} SortSam \\\n",
      "        INPUT={bwa_mem_fn} \\\n",
      "        OUTPUT={sorted_fn} \\\n",
      "        SORT_ORDER=coordinate 2> /dev/null\n",
      "    \n",
      "    if not os.path.isfile(dedup_fn) or rewrite:\n",
      "        !{picard_exe} MarkDuplicates \\\n",
      "        INPUT={sorted_fn} \\\n",
      "        OUTPUT={dedup_fn} \\\n",
      "        METRICS_FILE={dedup_metrics_fn} 2> /dev/null\n",
      "\n",
      "    if not os.path.isfile(dedup_fn.replace('.bam', '.bai')) or rewrite:\n",
      "        !{picard_exe} BuildBamIndex \\\n",
      "        INPUT={dedup_fn} 2> /dev/null\n",
      "\n",
      "    "
     ],
     "language": "python",
     "metadata": {},
     "outputs": [],
     "prompt_number": 9
    },
    {
     "cell_type": "code",
     "collapsed": false,
     "input": [
      "sort_mark_dup()"
     ],
     "language": "python",
     "metadata": {},
     "outputs": [],
     "prompt_number": 10
    },
    {
     "cell_type": "code",
     "collapsed": false,
     "input": [
      "def indel_realignment(dedup_fn = tbl_samples_to_process.values('dedupped_bam_fn')[0],\n",
      "                      targets_fn = tbl_samples_to_process.values('targets_fn')[0],\n",
      "                      realigned_fn = tbl_samples_to_process.values('realigned_bam_fn')[0],\n",
      "                      reference_fasta = REF_GENOME,\n",
      "                      rewrite=False):\n",
      "    \n",
      "    if not os.path.isfile(targets_fn) or rewrite:\n",
      "        !{gatk_exe} \\\n",
      "        -T RealignerTargetCreator \\\n",
      "        -R {reference_fasta} \\\n",
      "        -I {dedup_fn} \\\n",
      "        -o {targets_fn}\n",
      "    \n",
      "    if not os.path.isfile(realigned_fn) or rewrite:\n",
      "        !{gatk_exe} \\\n",
      "        -T IndelRealigner \\\n",
      "        -R {reference_fasta} \\\n",
      "        -I {dedup_fn} \\\n",
      "        -targetIntervals {targets_fn} \\\n",
      "        -o {realigned_fn}\n"
     ],
     "language": "python",
     "metadata": {},
     "outputs": [],
     "prompt_number": 11
    },
    {
     "cell_type": "code",
     "collapsed": false,
     "input": [
      "indel_realignment()"
     ],
     "language": "python",
     "metadata": {},
     "outputs": [],
     "prompt_number": 12
    },
    {
     "cell_type": "code",
     "collapsed": false,
     "input": [
      "def bqsr(realigned_fn = tbl_samples_to_process.values('realigned_bam_fn')[0],\n",
      "         recal_table_fn = tbl_samples_to_process.values('recal_table_fn')[0],\n",
      "         post_recal_table_fn = tbl_samples_to_process.values('post_recal_table_fn')[0],\n",
      "         recal_plots_fn = tbl_samples_to_process.values('recal_plots_fn')[0],\n",
      "         recal_bam_fn = tbl_samples_to_process.values('recal_bam_fn')[0],\n",
      "         crosses_dir = crosses_dir,\n",
      "         reference_fasta = REF_GENOME,\n",
      "         rewrite=False):\n",
      "    \n",
      "    if not os.path.isfile(recal_table_fn) or rewrite:\n",
      "        !{gatk_exe} \\\n",
      "        -T BaseRecalibrator \\\n",
      "        -R {reference_fasta} \\\n",
      "        -I {realigned_fn} \\\n",
      "        -knownSites {crosses_dir}/7g8_gb4.combined.final.vcf.gz \\\n",
      "        -knownSites {crosses_dir}/hb3_dd2.combined.final.vcf.gz \\\n",
      "        -knownSites {crosses_dir}/3d7_hb3.combined.final.vcf.gz \\\n",
      "        -o {recal_table_fn}\n",
      "\n",
      "    if not os.path.isfile(post_recal_table_fn) or rewrite:\n",
      "        !{gatk_exe} \\\n",
      "        -T BaseRecalibrator \\\n",
      "        -R {reference_fasta} \\\n",
      "        -I {realigned_fn} \\\n",
      "        -knownSites {crosses_dir}/7g8_gb4.combined.final.vcf.gz \\\n",
      "        -knownSites {crosses_dir}/hb3_dd2.combined.final.vcf.gz \\\n",
      "        -knownSites {crosses_dir}/3d7_hb3.combined.final.vcf.gz \\\n",
      "        -BQSR {recal_table_fn} \\\n",
      "        -o {post_recal_table_fn}\n",
      "\n",
      "    if not os.path.isfile(recal_plots_fn) or rewrite:\n",
      "        !{gatk_exe} \\\n",
      "        -T AnalyzeCovariates \\\n",
      "        -R {reference_fasta} \\\n",
      "        -before {recal_table_fn} \\\n",
      "        -after {post_recal_table_fn} \\\n",
      "        -plots {recal_plots_fn}\n",
      "\n",
      "    if not os.path.isfile(recal_bam_fn) or rewrite:\n",
      "        !{gatk_exe} \\\n",
      "        -T PrintReads \\\n",
      "        -R {reference_fasta} \\\n",
      "        -I {realigned_fn} \\\n",
      "        -BQSR {recal_table_fn} \\\n",
      "        -o {recal_bam_fn}\n"
     ],
     "language": "python",
     "metadata": {},
     "outputs": [],
     "prompt_number": 13
    },
    {
     "cell_type": "code",
     "collapsed": false,
     "input": [
      "bqsr()"
     ],
     "language": "python",
     "metadata": {},
     "outputs": [
      {
       "output_type": "stream",
       "stream": "stdout",
       "text": [
        "INFO  16:40:00,266 HelpFormatter - -------------------------------------------------------------------------------- \r\n",
        "INFO  16:40:00,271 HelpFormatter - The Genome Analysis Toolkit (GATK) v3.4-0-g7e26428, Compiled 2015/05/15 03:25:41 \r\n"
       ]
      },
      {
       "output_type": "stream",
       "stream": "stdout",
       "text": [
        "INFO  16:40:00,271 HelpFormatter - Copyright (c) 2010 The Broad Institute \r\n",
        "INFO  16:40:00,272 HelpFormatter - For support and documentation go to http://www.broadinstitute.org/gatk \r\n",
        "INFO  16:40:00,276 HelpFormatter - Program Args: -T AnalyzeCovariates -R /data/plasmodium/pfalciparum/recon/roamato/Pf3D7_v3/3D7_sorted.fa -before /nfs/team112_internal/production_files/Pf3k/methods/assembled_samples/bams/bwa_mem/PG0008_CW.bwa_mem.recal.table -after /nfs/team112_internal/production_files/Pf3k/methods/assembled_samples/bams/bwa_mem/PG0008_CW.bwa_mem.post_recal.table -plots /nfs/team112_internal/production_files/Pf3k/methods/assembled_samples/bams/bwa_mem/PG0008_CW.bwa_mem.recal.pdf \r\n",
        "INFO  16:40:00,294 HelpFormatter - Executing as rpearson@dhcp556.well.ox.ac.uk on Mac OS X 10.10.3 x86_64; Java HotSpot(TM) 64-Bit Server VM 1.7.0_60-b19. \r\n",
        "INFO  16:40:00,294 HelpFormatter - Date/Time: 2015/06/30 16:40:00 \r\n",
        "INFO  16:40:00,294 HelpFormatter - -------------------------------------------------------------------------------- \r\n",
        "INFO  16:40:00,294 HelpFormatter - -------------------------------------------------------------------------------- \r\n"
       ]
      },
      {
       "output_type": "stream",
       "stream": "stdout",
       "text": [
        "INFO  16:40:00,729 GenomeAnalysisEngine - Strictness is SILENT \r\n"
       ]
      },
      {
       "output_type": "stream",
       "stream": "stdout",
       "text": [
        "INFO  16:40:00,809 GenomeAnalysisEngine - Downsampling Settings: Method: BY_SAMPLE, Target Coverage: 1000 \r\n"
       ]
      },
      {
       "output_type": "stream",
       "stream": "stdout",
       "text": [
        "INFO  16:40:00,929 GenomeAnalysisEngine - Preparing for traversal \r\n",
        "INFO  16:40:00,931 GenomeAnalysisEngine - Done preparing for traversal \r\n",
        "INFO  16:40:00,931 ProgressMeter - [INITIALIZATION COMPLETE; STARTING PROCESSING] \r\n",
        "INFO  16:40:00,932 ProgressMeter -                 | processed |    time |    per 1M |           |   total | remaining \r\n",
        "INFO  16:40:00,932 ProgressMeter -        Location |     sites | elapsed |     sites | completed | runtime |   runtime \r\n"
       ]
      },
      {
       "output_type": "stream",
       "stream": "stdout",
       "text": [
        "INFO  16:40:01,421 ContextCovariate - \t\tContext sizes: base substitution model 2, indel substitution model 3 \r\n"
       ]
      },
      {
       "output_type": "stream",
       "stream": "stdout",
       "text": [
        "INFO  16:40:01,656 ContextCovariate - \t\tContext sizes: base substitution model 2, indel substitution model 3 \r\n",
        "INFO  16:40:01,688 AnalyzeCovariates - Generating csv file '/var/folders/v6/nyyqw2bx3wlfyxvy334mxwyh0000gn/T/AnalyzeCovariates5365945020910223167.csv' \r\n"
       ]
      },
      {
       "output_type": "stream",
       "stream": "stdout",
       "text": [
        "INFO  16:40:01,888 AnalyzeCovariates - Generating plots file '/nfs/team112_internal/production_files/Pf3k/methods/assembled_samples/bams/bwa_mem/PG0008_CW.bwa_mem.recal.pdf' \r\n"
       ]
      },
      {
       "output_type": "stream",
       "stream": "stdout",
       "text": [
        "INFO  16:40:02,639 Walker - [REDUCE RESULT] Traversal result is: org.broadinstitute.gatk.tools.walkers.bqsr.AnalyzeCovariates$None@7505d7e7 \r\n",
        "INFO  16:40:02,641 ProgressMeter -            done         0.0     1.0 s      19.8 d      100.0%     1.0 s       0.0 s \r\n",
        "INFO  16:40:02,641 ProgressMeter - Total runtime 1.71 secs, 0.03 min, 0.00 hours \r\n"
       ]
      },
      {
       "output_type": "stream",
       "stream": "stdout",
       "text": [
        "INFO  16:40:03,664 GATKRunReport - Uploaded run statistics report to AWS S3 \r\n"
       ]
      }
     ],
     "prompt_number": 14
    },
    {
     "cell_type": "code",
     "collapsed": false,
     "input": [
      "for rec in tbl_samples_to_process.data():\n",
      "    print(rec)\n",
      "    remap_with_bwa_mem(rec[9], rec[10], rec[20])\n",
      "    sort_mark_dup(rec[10], rec[11], rec[12], rec[13])\n",
      "    indel_realignment(rec[12], rec[14], rec[15])\n",
      "    bqsr(rec[15], rec[16], rec[17], rec[18], rec[19])"
     ],
     "language": "python",
     "metadata": {},
     "outputs": [
      {
       "output_type": "stream",
       "stream": "stdout",
       "text": [
        "('Dd2', 'Yes', 'Indochina', 'SE Asia', 'PG0008-CW', 'ERS010540', '80X', 76, 'Training', '/nfs/team112_internal/production_files/Pf/4_0/PFprog1/PG0008_CW/PG0008_CW.bam', '/nfs/team112_internal/production_files/Pf3k/methods/assembled_samples/bams/bwa_mem/PG0008_CW.bwa_mem.sam', '/nfs/team112_internal/production_files/Pf3k/methods/assembled_samples/bams/bwa_mem/PG0008_CW.bwa_mem.sorted.bam', '/nfs/team112_internal/production_files/Pf3k/methods/assembled_samples/bams/bwa_mem/PG0008_CW.bwa_mem.dedup.bam', '/nfs/team112_internal/production_files/Pf3k/methods/assembled_samples/bams/bwa_mem/PG0008_CW.bwa_mem.dedup.metrics', '/nfs/team112_internal/production_files/Pf3k/methods/assembled_samples/bams/bwa_mem/PG0008_CW.bwa_mem.dedup.targets.list', '/nfs/team112_internal/production_files/Pf3k/methods/assembled_samples/bams/bwa_mem/PG0008_CW.bwa_mem.realigned.bam', '/nfs/team112_internal/production_files/Pf3k/methods/assembled_samples/bams/bwa_mem/PG0008_CW.bwa_mem.recal.table', '/nfs/team112_internal/production_files/Pf3k/methods/assembled_samples/bams/bwa_mem/PG0008_CW.bwa_mem.post_recal.table', '/nfs/team112_internal/production_files/Pf3k/methods/assembled_samples/bams/bwa_mem/PG0008_CW.bwa_mem.recal.pdf', '/nfs/team112_internal/production_files/Pf3k/methods/assembled_samples/bams/bwa_mem/PG0008_CW.bwa_mem.recal.bam', '@RG\\\\tID:4062_2_nonhuman\\\\tPL:ILLUMINA\\\\tPU:4062_2_nonhuman\\\\tLB:PG0008_CW_200_1\\\\tDS:PFprog1\\\\tSM:PG0008-CW\\\\tCN:SC', '/nfs/team112_internal/production_files/Pf3k/methods/assembled_samples/vcfs/gvcf/samples/PG0008_CW.raw.snps.indels')\n"
       ]
      },
      {
       "output_type": "stream",
       "stream": "stdout",
       "text": [
        "INFO  16:41:07,879 HelpFormatter - -------------------------------------------------------------------------------- \r\n",
        "INFO  16:41:07,882 HelpFormatter - The Genome Analysis Toolkit (GATK) v3.4-0-g7e26428, Compiled 2015/05/15 03:25:41 \r\n",
        "INFO  16:41:07,882 HelpFormatter - Copyright (c) 2010 The Broad Institute \r\n",
        "INFO  16:41:07,882 HelpFormatter - For support and documentation go to http://www.broadinstitute.org/gatk \r\n",
        "INFO  16:41:07,886 HelpFormatter - Program Args: -T AnalyzeCovariates -R /data/plasmodium/pfalciparum/recon/roamato/Pf3D7_v3/3D7_sorted.fa -before /nfs/team112_internal/production_files/Pf3k/methods/assembled_samples/bams/bwa_mem/PG0008_CW.bwa_mem.recal.table -after /nfs/team112_internal/production_files/Pf3k/methods/assembled_samples/bams/bwa_mem/PG0008_CW.bwa_mem.post_recal.table -plots /nfs/team112_internal/production_files/Pf3k/methods/assembled_samples/bams/bwa_mem/PG0008_CW.bwa_mem.recal.pdf \r\n"
       ]
      },
      {
       "output_type": "stream",
       "stream": "stdout",
       "text": [
        "INFO  16:41:07,894 HelpFormatter - Executing as rpearson@dhcp556.well.ox.ac.uk on Mac OS X 10.10.3 x86_64; Java HotSpot(TM) 64-Bit Server VM 1.7.0_60-b19. \r\n",
        "INFO  16:41:07,894 HelpFormatter - Date/Time: 2015/06/30 16:41:07 \r\n",
        "INFO  16:41:07,894 HelpFormatter - -------------------------------------------------------------------------------- \r\n",
        "INFO  16:41:07,894 HelpFormatter - -------------------------------------------------------------------------------- \r\n"
       ]
      },
      {
       "output_type": "stream",
       "stream": "stdout",
       "text": [
        "INFO  16:41:08,300 GenomeAnalysisEngine - Strictness is SILENT \r\n"
       ]
      },
      {
       "output_type": "stream",
       "stream": "stdout",
       "text": [
        "INFO  16:41:08,359 GenomeAnalysisEngine - Downsampling Settings: Method: BY_SAMPLE, Target Coverage: 1000 \r\n"
       ]
      },
      {
       "output_type": "stream",
       "stream": "stdout",
       "text": [
        "INFO  16:41:08,479 GenomeAnalysisEngine - Preparing for traversal \r\n",
        "INFO  16:41:08,480 GenomeAnalysisEngine - Done preparing for traversal \r\n",
        "INFO  16:41:08,480 ProgressMeter - [INITIALIZATION COMPLETE; STARTING PROCESSING] \r\n",
        "INFO  16:41:08,480 ProgressMeter -                 | processed |    time |    per 1M |           |   total | remaining \r\n",
        "INFO  16:41:08,481 ProgressMeter -        Location |     sites | elapsed |     sites | completed | runtime |   runtime \r\n"
       ]
      },
      {
       "output_type": "stream",
       "stream": "stdout",
       "text": [
        "INFO  16:41:08,953 ContextCovariate - \t\tContext sizes: base substitution model 2, indel substitution model 3 \r\n"
       ]
      },
      {
       "output_type": "stream",
       "stream": "stdout",
       "text": [
        "INFO  16:41:09,165 ContextCovariate - \t\tContext sizes: base substitution model 2, indel substitution model 3 \r\n"
       ]
      },
      {
       "output_type": "stream",
       "stream": "stdout",
       "text": [
        "INFO  16:41:09,193 AnalyzeCovariates - Generating csv file '/var/folders/v6/nyyqw2bx3wlfyxvy334mxwyh0000gn/T/AnalyzeCovariates1747643301282425249.csv' \r\n"
       ]
      },
      {
       "output_type": "stream",
       "stream": "stdout",
       "text": [
        "INFO  16:41:09,398 AnalyzeCovariates - Generating plots file '/nfs/team112_internal/production_files/Pf3k/methods/assembled_samples/bams/bwa_mem/PG0008_CW.bwa_mem.recal.pdf' \r\n"
       ]
      },
      {
       "output_type": "stream",
       "stream": "stdout",
       "text": [
        "INFO  16:41:10,056 Walker - [REDUCE RESULT] Traversal result is: org.broadinstitute.gatk.tools.walkers.bqsr.AnalyzeCovariates$None@7505d7e7 \r\n",
        "INFO  16:41:10,058 ProgressMeter -            done         0.0     1.0 s      18.3 d      100.0%     1.0 s       0.0 s \r\n",
        "INFO  16:41:10,058 ProgressMeter - Total runtime 1.58 secs, 0.03 min, 0.00 hours \r\n"
       ]
      },
      {
       "output_type": "stream",
       "stream": "stdout",
       "text": [
        "INFO  16:41:11,007 GATKRunReport - Uploaded run statistics report to AWS S3 \r\n"
       ]
      },
      {
       "output_type": "stream",
       "stream": "stdout",
       "text": [
        "('HB3', 'Yes', 'Honduras', 'S America', 'PG0004-CW', 'ERS010539', '122X', 76, 'Training', '/nfs/team112_internal/production_files/Pf/4_0/PFprog1/PG0004_CW/PG0004_CW.bam', '/nfs/team112_internal/production_files/Pf3k/methods/assembled_samples/bams/bwa_mem/PG0004_CW.bwa_mem.sam', '/nfs/team112_internal/production_files/Pf3k/methods/assembled_samples/bams/bwa_mem/PG0004_CW.bwa_mem.sorted.bam', '/nfs/team112_internal/production_files/Pf3k/methods/assembled_samples/bams/bwa_mem/PG0004_CW.bwa_mem.dedup.bam', '/nfs/team112_internal/production_files/Pf3k/methods/assembled_samples/bams/bwa_mem/PG0004_CW.bwa_mem.dedup.metrics', '/nfs/team112_internal/production_files/Pf3k/methods/assembled_samples/bams/bwa_mem/PG0004_CW.bwa_mem.dedup.targets.list', '/nfs/team112_internal/production_files/Pf3k/methods/assembled_samples/bams/bwa_mem/PG0004_CW.bwa_mem.realigned.bam', '/nfs/team112_internal/production_files/Pf3k/methods/assembled_samples/bams/bwa_mem/PG0004_CW.bwa_mem.recal.table', '/nfs/team112_internal/production_files/Pf3k/methods/assembled_samples/bams/bwa_mem/PG0004_CW.bwa_mem.post_recal.table', '/nfs/team112_internal/production_files/Pf3k/methods/assembled_samples/bams/bwa_mem/PG0004_CW.bwa_mem.recal.pdf', '/nfs/team112_internal/production_files/Pf3k/methods/assembled_samples/bams/bwa_mem/PG0004_CW.bwa_mem.recal.bam', '@RG\\\\tID:4062_1_nonhuman\\\\tPL:ILLUMINA\\\\tPU:4062_1_nonhuman\\\\tLB:PG0004_CW_200_1\\\\tDS:PFprog1\\\\tSM:PG0004-CW\\\\tCN:SC', '/nfs/team112_internal/production_files/Pf3k/methods/assembled_samples/vcfs/gvcf/samples/PG0004_CW.raw.snps.indels')\n"
       ]
      },
      {
       "output_type": "stream",
       "stream": "stdout",
       "text": [
        "INFO  16:41:12,667 HelpFormatter - -------------------------------------------------------------------------------- \r\n",
        "INFO  16:41:12,670 HelpFormatter - The Genome Analysis Toolkit (GATK) v3.4-0-g7e26428, Compiled 2015/05/15 03:25:41 \r\n",
        "INFO  16:41:12,670 HelpFormatter - Copyright (c) 2010 The Broad Institute \r\n",
        "INFO  16:41:12,671 HelpFormatter - For support and documentation go to http://www.broadinstitute.org/gatk \r\n",
        "INFO  16:41:12,675 HelpFormatter - Program Args: -T AnalyzeCovariates -R /data/plasmodium/pfalciparum/recon/roamato/Pf3D7_v3/3D7_sorted.fa -before /nfs/team112_internal/production_files/Pf3k/methods/assembled_samples/bams/bwa_mem/PG0004_CW.bwa_mem.recal.table -after /nfs/team112_internal/production_files/Pf3k/methods/assembled_samples/bams/bwa_mem/PG0004_CW.bwa_mem.post_recal.table -plots /nfs/team112_internal/production_files/Pf3k/methods/assembled_samples/bams/bwa_mem/PG0004_CW.bwa_mem.recal.pdf \r\n",
        "INFO  16:41:12,681 HelpFormatter - Executing as rpearson@dhcp556.well.ox.ac.uk on Mac OS X 10.10.3 x86_64; Java HotSpot(TM) 64-Bit Server VM 1.7.0_60-b19. \r\n",
        "INFO  16:41:12,682 HelpFormatter - Date/Time: 2015/06/30 16:41:12 \r\n",
        "INFO  16:41:12,682 HelpFormatter - -------------------------------------------------------------------------------- \r\n",
        "INFO  16:41:12,682 HelpFormatter - -------------------------------------------------------------------------------- \r\n"
       ]
      },
      {
       "output_type": "stream",
       "stream": "stdout",
       "text": [
        "INFO  16:41:13,083 GenomeAnalysisEngine - Strictness is SILENT \r\n"
       ]
      },
      {
       "output_type": "stream",
       "stream": "stdout",
       "text": [
        "INFO  16:41:13,138 GenomeAnalysisEngine - Downsampling Settings: Method: BY_SAMPLE, Target Coverage: 1000 \r\n"
       ]
      },
      {
       "output_type": "stream",
       "stream": "stdout",
       "text": [
        "INFO  16:41:13,226 GenomeAnalysisEngine - Preparing for traversal \r\n",
        "INFO  16:41:13,228 GenomeAnalysisEngine - Done preparing for traversal \r\n",
        "INFO  16:41:13,228 ProgressMeter - [INITIALIZATION COMPLETE; STARTING PROCESSING] \r\n",
        "INFO  16:41:13,229 ProgressMeter -                 | processed |    time |    per 1M |           |   total | remaining \r\n",
        "INFO  16:41:13,229 ProgressMeter -        Location |     sites | elapsed |     sites | completed | runtime |   runtime \r\n"
       ]
      },
      {
       "output_type": "stream",
       "stream": "stdout",
       "text": [
        "INFO  16:41:13,776 ContextCovariate - \t\tContext sizes: base substitution model 2, indel substitution model 3 \r\n"
       ]
      },
      {
       "output_type": "stream",
       "stream": "stdout",
       "text": [
        "INFO  16:41:14,003 ContextCovariate - \t\tContext sizes: base substitution model 2, indel substitution model 3 \r\n",
        "INFO  16:41:14,030 AnalyzeCovariates - Generating csv file '/var/folders/v6/nyyqw2bx3wlfyxvy334mxwyh0000gn/T/AnalyzeCovariates8741046572349025533.csv' \r\n"
       ]
      },
      {
       "output_type": "stream",
       "stream": "stdout",
       "text": [
        "INFO  16:41:14,221 AnalyzeCovariates - Generating plots file '/nfs/team112_internal/production_files/Pf3k/methods/assembled_samples/bams/bwa_mem/PG0004_CW.bwa_mem.recal.pdf' \r\n"
       ]
      },
      {
       "output_type": "stream",
       "stream": "stdout",
       "text": [
        "INFO  16:41:14,890 Walker - [REDUCE RESULT] Traversal result is: org.broadinstitute.gatk.tools.walkers.bqsr.AnalyzeCovariates$None@324e48f0 \r\n",
        "INFO  16:41:14,891 ProgressMeter -            done         0.0     1.0 s      19.2 d      100.0%     1.0 s       0.0 s \r\n",
        "INFO  16:41:14,891 ProgressMeter - Total runtime 1.66 secs, 0.03 min, 0.00 hours \r\n"
       ]
      },
      {
       "output_type": "stream",
       "stream": "stdout",
       "text": [
        "INFO  16:41:15,851 GATKRunReport - Uploaded run statistics report to AWS S3 \r\n"
       ]
      },
      {
       "output_type": "stream",
       "stream": "stdout",
       "text": [
        "('7G8', 'Yes', 'Brazil', 'S America', 'PG0083-C', 'ERR027099', '87X', 76, 'Validation', '/nfs/team112_internal/production_files/Pf/4_0/PFprog3/PG0083_C/PG0083_C.bam', '/nfs/team112_internal/production_files/Pf3k/methods/assembled_samples/bams/bwa_mem/PG0083_C.bwa_mem.sam', '/nfs/team112_internal/production_files/Pf3k/methods/assembled_samples/bams/bwa_mem/PG0083_C.bwa_mem.sorted.bam', '/nfs/team112_internal/production_files/Pf3k/methods/assembled_samples/bams/bwa_mem/PG0083_C.bwa_mem.dedup.bam', '/nfs/team112_internal/production_files/Pf3k/methods/assembled_samples/bams/bwa_mem/PG0083_C.bwa_mem.dedup.metrics', '/nfs/team112_internal/production_files/Pf3k/methods/assembled_samples/bams/bwa_mem/PG0083_C.bwa_mem.dedup.targets.list', '/nfs/team112_internal/production_files/Pf3k/methods/assembled_samples/bams/bwa_mem/PG0083_C.bwa_mem.realigned.bam', '/nfs/team112_internal/production_files/Pf3k/methods/assembled_samples/bams/bwa_mem/PG0083_C.bwa_mem.recal.table', '/nfs/team112_internal/production_files/Pf3k/methods/assembled_samples/bams/bwa_mem/PG0083_C.bwa_mem.post_recal.table', '/nfs/team112_internal/production_files/Pf3k/methods/assembled_samples/bams/bwa_mem/PG0083_C.bwa_mem.recal.pdf', '/nfs/team112_internal/production_files/Pf3k/methods/assembled_samples/bams/bwa_mem/PG0083_C.bwa_mem.recal.bam', '@RG\\\\tID:5459_2_nonhuman\\\\tPL:ILLUMINA\\\\tPU:5459_2_nonhuman\\\\tLB:PG0083_C_1361748\\\\tDS:PFprog3\\\\tSM:PG0083-C\\\\tCN:SC', '/nfs/team112_internal/production_files/Pf3k/methods/assembled_samples/vcfs/gvcf/samples/PG0083_C.raw.snps.indels')\n"
       ]
      },
      {
       "output_type": "stream",
       "stream": "stdout",
       "text": [
        "INFO  16:41:17,500 HelpFormatter - -------------------------------------------------------------------------------- \r\n",
        "INFO  16:41:17,502 HelpFormatter - The Genome Analysis Toolkit (GATK) v3.4-0-g7e26428, Compiled 2015/05/15 03:25:41 \r\n",
        "INFO  16:41:17,502 HelpFormatter - Copyright (c) 2010 The Broad Institute \r\n",
        "INFO  16:41:17,503 HelpFormatter - For support and documentation go to http://www.broadinstitute.org/gatk \r\n",
        "INFO  16:41:17,506 HelpFormatter - Program Args: -T AnalyzeCovariates -R /data/plasmodium/pfalciparum/recon/roamato/Pf3D7_v3/3D7_sorted.fa -before /nfs/team112_internal/production_files/Pf3k/methods/assembled_samples/bams/bwa_mem/PG0083_C.bwa_mem.recal.table -after /nfs/team112_internal/production_files/Pf3k/methods/assembled_samples/bams/bwa_mem/PG0083_C.bwa_mem.post_recal.table -plots /nfs/team112_internal/production_files/Pf3k/methods/assembled_samples/bams/bwa_mem/PG0083_C.bwa_mem.recal.pdf \r\n",
        "INFO  16:41:17,513 HelpFormatter - Executing as rpearson@dhcp556.well.ox.ac.uk on Mac OS X 10.10.3 x86_64; Java HotSpot(TM) 64-Bit Server VM 1.7.0_60-b19. \r\n",
        "INFO  16:41:17,513 HelpFormatter - Date/Time: 2015/06/30 16:41:17 \r\n",
        "INFO  16:41:17,513 HelpFormatter - -------------------------------------------------------------------------------- \r\n",
        "INFO  16:41:17,513 HelpFormatter - -------------------------------------------------------------------------------- \r\n"
       ]
      },
      {
       "output_type": "stream",
       "stream": "stdout",
       "text": [
        "INFO  16:41:17,889 GenomeAnalysisEngine - Strictness is SILENT \r\n"
       ]
      },
      {
       "output_type": "stream",
       "stream": "stdout",
       "text": [
        "INFO  16:41:17,953 GenomeAnalysisEngine - Downsampling Settings: Method: BY_SAMPLE, Target Coverage: 1000 \r\n"
       ]
      },
      {
       "output_type": "stream",
       "stream": "stdout",
       "text": [
        "INFO  16:41:18,024 GenomeAnalysisEngine - Preparing for traversal \r\n",
        "INFO  16:41:18,025 GenomeAnalysisEngine - Done preparing for traversal \r\n",
        "INFO  16:41:18,025 ProgressMeter - [INITIALIZATION COMPLETE; STARTING PROCESSING] \r\n",
        "INFO  16:41:18,026 ProgressMeter -                 | processed |    time |    per 1M |           |   total | remaining \r\n",
        "INFO  16:41:18,026 ProgressMeter -        Location |     sites | elapsed |     sites | completed | runtime |   runtime \r\n"
       ]
      },
      {
       "output_type": "stream",
       "stream": "stdout",
       "text": [
        "INFO  16:41:18,572 ContextCovariate - \t\tContext sizes: base substitution model 2, indel substitution model 3 \r\n"
       ]
      },
      {
       "output_type": "stream",
       "stream": "stdout",
       "text": [
        "INFO  16:41:18,787 ContextCovariate - \t\tContext sizes: base substitution model 2, indel substitution model 3 \r\n"
       ]
      },
      {
       "output_type": "stream",
       "stream": "stdout",
       "text": [
        "INFO  16:41:18,813 AnalyzeCovariates - Generating csv file '/var/folders/v6/nyyqw2bx3wlfyxvy334mxwyh0000gn/T/AnalyzeCovariates4321181624185141971.csv' \r\n"
       ]
      },
      {
       "output_type": "stream",
       "stream": "stdout",
       "text": [
        "INFO  16:41:19,031 AnalyzeCovariates - Generating plots file '/nfs/team112_internal/production_files/Pf3k/methods/assembled_samples/bams/bwa_mem/PG0083_C.bwa_mem.recal.pdf' \r\n"
       ]
      },
      {
       "output_type": "stream",
       "stream": "stdout",
       "text": [
        "INFO  16:41:19,649 Walker - [REDUCE RESULT] Traversal result is: org.broadinstitute.gatk.tools.walkers.bqsr.AnalyzeCovariates$None@6d90851d \r\n",
        "INFO  16:41:19,650 ProgressMeter -            done         0.0     1.0 s      18.8 d      100.0%     1.0 s       0.0 s \r\n",
        "INFO  16:41:19,651 ProgressMeter - Total runtime 1.63 secs, 0.03 min, 0.00 hours \r\n"
       ]
      },
      {
       "output_type": "stream",
       "stream": "stdout",
       "text": [
        "INFO  16:41:20,568 GATKRunReport - Uploaded run statistics report to AWS S3 \r\n"
       ]
      },
      {
       "output_type": "stream",
       "stream": "stdout",
       "text": [
        "('GB4', 'Yes', 'Ghana', 'W Africa', 'PG0084-C', 'ERR027100', '104X', 76, 'Validation', '/nfs/team112_internal/production_files/Pf/4_0/PFprog3/PG0084_C/PG0084_C.bam', '/nfs/team112_internal/production_files/Pf3k/methods/assembled_samples/bams/bwa_mem/PG0084_C.bwa_mem.sam', '/nfs/team112_internal/production_files/Pf3k/methods/assembled_samples/bams/bwa_mem/PG0084_C.bwa_mem.sorted.bam', '/nfs/team112_internal/production_files/Pf3k/methods/assembled_samples/bams/bwa_mem/PG0084_C.bwa_mem.dedup.bam', '/nfs/team112_internal/production_files/Pf3k/methods/assembled_samples/bams/bwa_mem/PG0084_C.bwa_mem.dedup.metrics', '/nfs/team112_internal/production_files/Pf3k/methods/assembled_samples/bams/bwa_mem/PG0084_C.bwa_mem.dedup.targets.list', '/nfs/team112_internal/production_files/Pf3k/methods/assembled_samples/bams/bwa_mem/PG0084_C.bwa_mem.realigned.bam', '/nfs/team112_internal/production_files/Pf3k/methods/assembled_samples/bams/bwa_mem/PG0084_C.bwa_mem.recal.table', '/nfs/team112_internal/production_files/Pf3k/methods/assembled_samples/bams/bwa_mem/PG0084_C.bwa_mem.post_recal.table', '/nfs/team112_internal/production_files/Pf3k/methods/assembled_samples/bams/bwa_mem/PG0084_C.bwa_mem.recal.pdf', '/nfs/team112_internal/production_files/Pf3k/methods/assembled_samples/bams/bwa_mem/PG0084_C.bwa_mem.recal.bam', '@RG\\\\tID:5459_3_nonhuman\\\\tPL:ILLUMINA\\\\tPU:5459_3_nonhuman\\\\tLB:PG0084_C_1361749\\\\tDS:PFprog3\\\\tSM:PG0084-C\\\\tCN:SC', '/nfs/team112_internal/production_files/Pf3k/methods/assembled_samples/vcfs/gvcf/samples/PG0084_C.raw.snps.indels')\n"
       ]
      },
      {
       "output_type": "stream",
       "stream": "stdout",
       "text": [
        "INFO  16:41:22,177 HelpFormatter - -------------------------------------------------------------------------------- \r\n",
        "INFO  16:41:22,179 HelpFormatter - The Genome Analysis Toolkit (GATK) v3.4-0-g7e26428, Compiled 2015/05/15 03:25:41 \r\n",
        "INFO  16:41:22,179 HelpFormatter - Copyright (c) 2010 The Broad Institute \r\n",
        "INFO  16:41:22,179 HelpFormatter - For support and documentation go to http://www.broadinstitute.org/gatk \r\n",
        "INFO  16:41:22,183 HelpFormatter - Program Args: -T AnalyzeCovariates -R /data/plasmodium/pfalciparum/recon/roamato/Pf3D7_v3/3D7_sorted.fa -before /nfs/team112_internal/production_files/Pf3k/methods/assembled_samples/bams/bwa_mem/PG0084_C.bwa_mem.recal.table -after /nfs/team112_internal/production_files/Pf3k/methods/assembled_samples/bams/bwa_mem/PG0084_C.bwa_mem.post_recal.table -plots /nfs/team112_internal/production_files/Pf3k/methods/assembled_samples/bams/bwa_mem/PG0084_C.bwa_mem.recal.pdf \r\n",
        "INFO  16:41:22,189 HelpFormatter - Executing as rpearson@dhcp556.well.ox.ac.uk on Mac OS X 10.10.3 x86_64; Java HotSpot(TM) 64-Bit Server VM 1.7.0_60-b19. \r\n",
        "INFO  16:41:22,189 HelpFormatter - Date/Time: 2015/06/30 16:41:22 \r\n",
        "INFO  16:41:22,189 HelpFormatter - -------------------------------------------------------------------------------- \r\n",
        "INFO  16:41:22,189 HelpFormatter - -------------------------------------------------------------------------------- \r\n"
       ]
      },
      {
       "output_type": "stream",
       "stream": "stdout",
       "text": [
        "INFO  16:41:22,631 GenomeAnalysisEngine - Strictness is SILENT \r\n"
       ]
      },
      {
       "output_type": "stream",
       "stream": "stdout",
       "text": [
        "INFO  16:41:22,689 GenomeAnalysisEngine - Downsampling Settings: Method: BY_SAMPLE, Target Coverage: 1000 \r\n"
       ]
      },
      {
       "output_type": "stream",
       "stream": "stdout",
       "text": [
        "INFO  16:41:22,761 GenomeAnalysisEngine - Preparing for traversal \r\n",
        "INFO  16:41:22,762 GenomeAnalysisEngine - Done preparing for traversal \r\n",
        "INFO  16:41:22,763 ProgressMeter - [INITIALIZATION COMPLETE; STARTING PROCESSING] \r\n",
        "INFO  16:41:22,763 ProgressMeter -                 | processed |    time |    per 1M |           |   total | remaining \r\n",
        "INFO  16:41:22,763 ProgressMeter -        Location |     sites | elapsed |     sites | completed | runtime |   runtime \r\n"
       ]
      },
      {
       "output_type": "stream",
       "stream": "stdout",
       "text": [
        "INFO  16:41:23,268 ContextCovariate - \t\tContext sizes: base substitution model 2, indel substitution model 3 \r\n"
       ]
      },
      {
       "output_type": "stream",
       "stream": "stdout",
       "text": [
        "INFO  16:41:23,502 ContextCovariate - \t\tContext sizes: base substitution model 2, indel substitution model 3 \r\n",
        "INFO  16:41:23,527 AnalyzeCovariates - Generating csv file '/var/folders/v6/nyyqw2bx3wlfyxvy334mxwyh0000gn/T/AnalyzeCovariates7606731551579165310.csv' \r\n"
       ]
      },
      {
       "output_type": "stream",
       "stream": "stdout",
       "text": [
        "INFO  16:41:23,714 AnalyzeCovariates - Generating plots file '/nfs/team112_internal/production_files/Pf3k/methods/assembled_samples/bams/bwa_mem/PG0084_C.bwa_mem.recal.pdf' \r\n"
       ]
      },
      {
       "output_type": "stream",
       "stream": "stdout",
       "text": [
        "INFO  16:41:24,340 Walker - [REDUCE RESULT] Traversal result is: org.broadinstitute.gatk.tools.walkers.bqsr.AnalyzeCovariates$None@77e92d1b \r\n",
        "INFO  16:41:24,342 ProgressMeter -            done         0.0     1.0 s      18.3 d      100.0%     1.0 s       0.0 s \r\n",
        "INFO  16:41:24,342 ProgressMeter - Total runtime 1.58 secs, 0.03 min, 0.00 hours \r\n"
       ]
      },
      {
       "output_type": "stream",
       "stream": "stdout",
       "text": [
        "INFO  16:41:25,200 GATKRunReport - Uploaded run statistics report to AWS S3 \r\n"
       ]
      }
     ],
     "prompt_number": 16
    },
    {
     "cell_type": "code",
     "collapsed": false,
     "input": [
      "def haplotype_caller(recal_bam_fn = tbl_samples_to_process.values('recal_bam_fn')[0],\n",
      "         gvcf_filestem = tbl_samples_to_process.values('gvcf_filestem')[0],\n",
      "         reference_fasta = REF_GENOME,\n",
      "         chromosomes = None,\n",
      "         rewrite=False):\n",
      "    \n",
      "    if chromosomes is None:\n",
      "        in_seq_handle = open(reference_fasta)\n",
      "        chromosomes = SeqIO.to_dict(SeqIO.parse(in_seq_handle, \"fasta\")).keys()\n",
      "        print(chromosomes)\n",
      "\n",
      "    for chromosome in chromosomes:\n",
      "        gvcf_fn = \"%s.%s.g.vcf\" % (gvcf_filestem, chromosome)\n",
      "        if not os.path.isfile(gvcf_fn) or rewrite:\n",
      "            !{gatk_exe} \\\n",
      "            -T HaplotypeCaller \\\n",
      "            -R {reference_fasta} \\\n",
      "            -I {recal_bam_fn} \\\n",
      "            -L {chromosome} \\\n",
      "            --emitRefConfidence GVCF \\\n",
      "            --variant_index_type LINEAR \\\n",
      "            --variant_index_parameter 128000 \\\n",
      "            -o {gvcf_fn} 2> /dev/null\n",
      "        else:\n",
      "            print(\"Skipping %s\" % gvcf_fn)\n"
     ],
     "language": "python",
     "metadata": {},
     "outputs": [],
     "prompt_number": 126
    },
    {
     "cell_type": "code",
     "collapsed": false,
     "input": [
      "in_seq_handle = open(REF_GENOME)\n",
      "chromosomes = SeqIO.to_dict(SeqIO.parse(in_seq_handle, \"fasta\")).keys()\n",
      "for chromosome in chromosomes:\n",
      "    print(chromosome)\n",
      "    for rec in tbl_samples_to_process.data():\n",
      "        print(rec[0])\n",
      "        haplotype_caller(rec[19], rec[21], chromosomes=[chromosome])\n"
     ],
     "language": "python",
     "metadata": {},
     "outputs": [
      {
       "output_type": "stream",
       "stream": "stdout",
       "text": [
        "Pf3D7_01_v3\n"
       ]
      },
      {
       "output_type": "stream",
       "stream": "stdout",
       "text": [
        "Dd2\n",
        "Skipping /nfs/team112_internal/production_files/Pf3k/methods/assembled_samples/vcfs/gvcf/samples/PG0008_CW.raw.snps.indels.Pf3D7_01_v3.g.vcf\n"
       ]
      },
      {
       "output_type": "stream",
       "stream": "stdout",
       "text": [
        "HB3\n",
        "Skipping /nfs/team112_internal/production_files/Pf3k/methods/assembled_samples/vcfs/gvcf/samples/PG0004_CW.raw.snps.indels.Pf3D7_01_v3.g.vcf\n"
       ]
      },
      {
       "output_type": "stream",
       "stream": "stdout",
       "text": [
        "7G8\n",
        "Skipping /nfs/team112_internal/production_files/Pf3k/methods/assembled_samples/vcfs/gvcf/samples/PG0083_C.raw.snps.indels.Pf3D7_01_v3.g.vcf\n"
       ]
      },
      {
       "output_type": "stream",
       "stream": "stdout",
       "text": [
        "GB4\n",
        "Skipping /nfs/team112_internal/production_files/Pf3k/methods/assembled_samples/vcfs/gvcf/samples/PG0084_C.raw.snps.indels.Pf3D7_01_v3.g.vcf\n",
        "M76611\n"
       ]
      },
      {
       "output_type": "stream",
       "stream": "stdout",
       "text": [
        "Dd2\n",
        "Skipping /nfs/team112_internal/production_files/Pf3k/methods/assembled_samples/vcfs/gvcf/samples/PG0008_CW.raw.snps.indels.M76611.g.vcf\n"
       ]
      },
      {
       "output_type": "stream",
       "stream": "stdout",
       "text": [
        "HB3\n",
        "Skipping /nfs/team112_internal/production_files/Pf3k/methods/assembled_samples/vcfs/gvcf/samples/PG0004_CW.raw.snps.indels.M76611.g.vcf\n"
       ]
      },
      {
       "output_type": "stream",
       "stream": "stdout",
       "text": [
        "7G8\n",
        "Skipping /nfs/team112_internal/production_files/Pf3k/methods/assembled_samples/vcfs/gvcf/samples/PG0083_C.raw.snps.indels.M76611.g.vcf\n"
       ]
      },
      {
       "output_type": "stream",
       "stream": "stdout",
       "text": [
        "GB4\n",
        "Skipping /nfs/team112_internal/production_files/Pf3k/methods/assembled_samples/vcfs/gvcf/samples/PG0084_C.raw.snps.indels.M76611.g.vcf\n",
        "Pf3D7_09_v3\n"
       ]
      },
      {
       "output_type": "stream",
       "stream": "stdout",
       "text": [
        "Dd2\n",
        "Skipping /nfs/team112_internal/production_files/Pf3k/methods/assembled_samples/vcfs/gvcf/samples/PG0008_CW.raw.snps.indels.Pf3D7_09_v3.g.vcf\n"
       ]
      },
      {
       "output_type": "stream",
       "stream": "stdout",
       "text": [
        "HB3\n",
        "Skipping /nfs/team112_internal/production_files/Pf3k/methods/assembled_samples/vcfs/gvcf/samples/PG0004_CW.raw.snps.indels.Pf3D7_09_v3.g.vcf\n"
       ]
      },
      {
       "output_type": "stream",
       "stream": "stdout",
       "text": [
        "7G8\n",
        "Skipping /nfs/team112_internal/production_files/Pf3k/methods/assembled_samples/vcfs/gvcf/samples/PG0083_C.raw.snps.indels.Pf3D7_09_v3.g.vcf\n"
       ]
      },
      {
       "output_type": "stream",
       "stream": "stdout",
       "text": [
        "GB4\n",
        "Skipping /nfs/team112_internal/production_files/Pf3k/methods/assembled_samples/vcfs/gvcf/samples/PG0084_C.raw.snps.indels.Pf3D7_09_v3.g.vcf\n",
        "PFC10_API_IRAB\n"
       ]
      },
      {
       "output_type": "stream",
       "stream": "stdout",
       "text": [
        "Dd2\n",
        "Skipping /nfs/team112_internal/production_files/Pf3k/methods/assembled_samples/vcfs/gvcf/samples/PG0008_CW.raw.snps.indels.PFC10_API_IRAB.g.vcf\n"
       ]
      },
      {
       "output_type": "stream",
       "stream": "stdout",
       "text": [
        "HB3\n",
        "Skipping /nfs/team112_internal/production_files/Pf3k/methods/assembled_samples/vcfs/gvcf/samples/PG0004_CW.raw.snps.indels.PFC10_API_IRAB.g.vcf\n"
       ]
      },
      {
       "output_type": "stream",
       "stream": "stdout",
       "text": [
        "7G8\n",
        "Skipping /nfs/team112_internal/production_files/Pf3k/methods/assembled_samples/vcfs/gvcf/samples/PG0083_C.raw.snps.indels.PFC10_API_IRAB.g.vcf\n"
       ]
      },
      {
       "output_type": "stream",
       "stream": "stdout",
       "text": [
        "GB4\n",
        "Skipping /nfs/team112_internal/production_files/Pf3k/methods/assembled_samples/vcfs/gvcf/samples/PG0084_C.raw.snps.indels.PFC10_API_IRAB.g.vcf\n",
        "Pf3D7_13_v3\n"
       ]
      },
      {
       "output_type": "stream",
       "stream": "stdout",
       "text": [
        "Dd2\n",
        "Skipping /nfs/team112_internal/production_files/Pf3k/methods/assembled_samples/vcfs/gvcf/samples/PG0008_CW.raw.snps.indels.Pf3D7_13_v3.g.vcf\n"
       ]
      },
      {
       "output_type": "stream",
       "stream": "stdout",
       "text": [
        "HB3\n",
        "Skipping /nfs/team112_internal/production_files/Pf3k/methods/assembled_samples/vcfs/gvcf/samples/PG0004_CW.raw.snps.indels.Pf3D7_13_v3.g.vcf\n"
       ]
      },
      {
       "output_type": "stream",
       "stream": "stdout",
       "text": [
        "7G8\n",
        "Skipping /nfs/team112_internal/production_files/Pf3k/methods/assembled_samples/vcfs/gvcf/samples/PG0083_C.raw.snps.indels.Pf3D7_13_v3.g.vcf\n"
       ]
      },
      {
       "output_type": "stream",
       "stream": "stdout",
       "text": [
        "GB4\n",
        "Skipping /nfs/team112_internal/production_files/Pf3k/methods/assembled_samples/vcfs/gvcf/samples/PG0084_C.raw.snps.indels.Pf3D7_13_v3.g.vcf\n",
        "Pf3D7_11_v3\n"
       ]
      },
      {
       "output_type": "stream",
       "stream": "stdout",
       "text": [
        "Dd2\n",
        "Skipping /nfs/team112_internal/production_files/Pf3k/methods/assembled_samples/vcfs/gvcf/samples/PG0008_CW.raw.snps.indels.Pf3D7_11_v3.g.vcf\n"
       ]
      },
      {
       "output_type": "stream",
       "stream": "stdout",
       "text": [
        "HB3\n",
        "Skipping /nfs/team112_internal/production_files/Pf3k/methods/assembled_samples/vcfs/gvcf/samples/PG0004_CW.raw.snps.indels.Pf3D7_11_v3.g.vcf\n"
       ]
      },
      {
       "output_type": "stream",
       "stream": "stdout",
       "text": [
        "7G8\n",
        "Skipping /nfs/team112_internal/production_files/Pf3k/methods/assembled_samples/vcfs/gvcf/samples/PG0083_C.raw.snps.indels.Pf3D7_11_v3.g.vcf\n"
       ]
      },
      {
       "output_type": "stream",
       "stream": "stdout",
       "text": [
        "GB4\n",
        "Skipping /nfs/team112_internal/production_files/Pf3k/methods/assembled_samples/vcfs/gvcf/samples/PG0084_C.raw.snps.indels.Pf3D7_11_v3.g.vcf\n",
        "Pf3D7_14_v3\n"
       ]
      },
      {
       "output_type": "stream",
       "stream": "stdout",
       "text": [
        "Dd2\n",
        "Skipping /nfs/team112_internal/production_files/Pf3k/methods/assembled_samples/vcfs/gvcf/samples/PG0008_CW.raw.snps.indels.Pf3D7_14_v3.g.vcf\n"
       ]
      },
      {
       "output_type": "stream",
       "stream": "stdout",
       "text": [
        "HB3\n",
        "Skipping /nfs/team112_internal/production_files/Pf3k/methods/assembled_samples/vcfs/gvcf/samples/PG0004_CW.raw.snps.indels.Pf3D7_14_v3.g.vcf\n"
       ]
      },
      {
       "output_type": "stream",
       "stream": "stdout",
       "text": [
        "7G8\n",
        "Skipping /nfs/team112_internal/production_files/Pf3k/methods/assembled_samples/vcfs/gvcf/samples/PG0083_C.raw.snps.indels.Pf3D7_14_v3.g.vcf\n"
       ]
      },
      {
       "output_type": "stream",
       "stream": "stdout",
       "text": [
        "GB4\n",
        "Skipping /nfs/team112_internal/production_files/Pf3k/methods/assembled_samples/vcfs/gvcf/samples/PG0084_C.raw.snps.indels.Pf3D7_14_v3.g.vcf\n",
        "Pf3D7_08_v3\n"
       ]
      },
      {
       "output_type": "stream",
       "stream": "stdout",
       "text": [
        "Dd2\n",
        "Skipping /nfs/team112_internal/production_files/Pf3k/methods/assembled_samples/vcfs/gvcf/samples/PG0008_CW.raw.snps.indels.Pf3D7_08_v3.g.vcf\n"
       ]
      },
      {
       "output_type": "stream",
       "stream": "stdout",
       "text": [
        "HB3\n",
        "Skipping /nfs/team112_internal/production_files/Pf3k/methods/assembled_samples/vcfs/gvcf/samples/PG0004_CW.raw.snps.indels.Pf3D7_08_v3.g.vcf\n"
       ]
      },
      {
       "output_type": "stream",
       "stream": "stdout",
       "text": [
        "7G8\n",
        "Skipping /nfs/team112_internal/production_files/Pf3k/methods/assembled_samples/vcfs/gvcf/samples/PG0083_C.raw.snps.indels.Pf3D7_08_v3.g.vcf\n"
       ]
      },
      {
       "output_type": "stream",
       "stream": "stdout",
       "text": [
        "GB4\n",
        "Skipping /nfs/team112_internal/production_files/Pf3k/methods/assembled_samples/vcfs/gvcf/samples/PG0084_C.raw.snps.indels.Pf3D7_08_v3.g.vcf\n",
        "Pf3D7_12_v3\n"
       ]
      },
      {
       "output_type": "stream",
       "stream": "stdout",
       "text": [
        "Dd2\n",
        "Skipping /nfs/team112_internal/production_files/Pf3k/methods/assembled_samples/vcfs/gvcf/samples/PG0008_CW.raw.snps.indels.Pf3D7_12_v3.g.vcf\n"
       ]
      },
      {
       "output_type": "stream",
       "stream": "stdout",
       "text": [
        "HB3\n",
        "Skipping /nfs/team112_internal/production_files/Pf3k/methods/assembled_samples/vcfs/gvcf/samples/PG0004_CW.raw.snps.indels.Pf3D7_12_v3.g.vcf\n"
       ]
      },
      {
       "output_type": "stream",
       "stream": "stdout",
       "text": [
        "7G8\n",
        "Skipping /nfs/team112_internal/production_files/Pf3k/methods/assembled_samples/vcfs/gvcf/samples/PG0083_C.raw.snps.indels.Pf3D7_12_v3.g.vcf\n"
       ]
      },
      {
       "output_type": "stream",
       "stream": "stdout",
       "text": [
        "GB4\n",
        "Skipping /nfs/team112_internal/production_files/Pf3k/methods/assembled_samples/vcfs/gvcf/samples/PG0084_C.raw.snps.indels.Pf3D7_12_v3.g.vcf\n",
        "Pf3D7_02_v3\n"
       ]
      },
      {
       "output_type": "stream",
       "stream": "stdout",
       "text": [
        "Dd2\n",
        "Skipping /nfs/team112_internal/production_files/Pf3k/methods/assembled_samples/vcfs/gvcf/samples/PG0008_CW.raw.snps.indels.Pf3D7_02_v3.g.vcf\n"
       ]
      },
      {
       "output_type": "stream",
       "stream": "stdout",
       "text": [
        "HB3\n",
        "Skipping /nfs/team112_internal/production_files/Pf3k/methods/assembled_samples/vcfs/gvcf/samples/PG0004_CW.raw.snps.indels.Pf3D7_02_v3.g.vcf\n"
       ]
      },
      {
       "output_type": "stream",
       "stream": "stdout",
       "text": [
        "7G8\n",
        "Skipping /nfs/team112_internal/production_files/Pf3k/methods/assembled_samples/vcfs/gvcf/samples/PG0083_C.raw.snps.indels.Pf3D7_02_v3.g.vcf\n"
       ]
      },
      {
       "output_type": "stream",
       "stream": "stdout",
       "text": [
        "GB4\n",
        "Skipping /nfs/team112_internal/production_files/Pf3k/methods/assembled_samples/vcfs/gvcf/samples/PG0084_C.raw.snps.indels.Pf3D7_02_v3.g.vcf\n",
        "Pf3D7_06_v3\n"
       ]
      },
      {
       "output_type": "stream",
       "stream": "stdout",
       "text": [
        "Dd2\n",
        "Skipping /nfs/team112_internal/production_files/Pf3k/methods/assembled_samples/vcfs/gvcf/samples/PG0008_CW.raw.snps.indels.Pf3D7_06_v3.g.vcf\n"
       ]
      },
      {
       "output_type": "stream",
       "stream": "stdout",
       "text": [
        "HB3\n",
        "Skipping /nfs/team112_internal/production_files/Pf3k/methods/assembled_samples/vcfs/gvcf/samples/PG0004_CW.raw.snps.indels.Pf3D7_06_v3.g.vcf\n"
       ]
      },
      {
       "output_type": "stream",
       "stream": "stdout",
       "text": [
        "7G8\n",
        "Skipping /nfs/team112_internal/production_files/Pf3k/methods/assembled_samples/vcfs/gvcf/samples/PG0083_C.raw.snps.indels.Pf3D7_06_v3.g.vcf\n"
       ]
      },
      {
       "output_type": "stream",
       "stream": "stdout",
       "text": [
        "GB4\n",
        "Skipping /nfs/team112_internal/production_files/Pf3k/methods/assembled_samples/vcfs/gvcf/samples/PG0084_C.raw.snps.indels.Pf3D7_06_v3.g.vcf\n",
        "Pf3D7_03_v3\n"
       ]
      },
      {
       "output_type": "stream",
       "stream": "stdout",
       "text": [
        "Dd2\n",
        "Skipping /nfs/team112_internal/production_files/Pf3k/methods/assembled_samples/vcfs/gvcf/samples/PG0008_CW.raw.snps.indels.Pf3D7_03_v3.g.vcf\n"
       ]
      },
      {
       "output_type": "stream",
       "stream": "stdout",
       "text": [
        "HB3\n",
        "Skipping /nfs/team112_internal/production_files/Pf3k/methods/assembled_samples/vcfs/gvcf/samples/PG0004_CW.raw.snps.indels.Pf3D7_03_v3.g.vcf\n"
       ]
      },
      {
       "output_type": "stream",
       "stream": "stdout",
       "text": [
        "7G8\n",
        "Skipping /nfs/team112_internal/production_files/Pf3k/methods/assembled_samples/vcfs/gvcf/samples/PG0083_C.raw.snps.indels.Pf3D7_03_v3.g.vcf\n"
       ]
      },
      {
       "output_type": "stream",
       "stream": "stdout",
       "text": [
        "GB4\n",
        "Skipping /nfs/team112_internal/production_files/Pf3k/methods/assembled_samples/vcfs/gvcf/samples/PG0084_C.raw.snps.indels.Pf3D7_03_v3.g.vcf\n",
        "Pf3D7_10_v3\n"
       ]
      },
      {
       "output_type": "stream",
       "stream": "stdout",
       "text": [
        "Dd2\n",
        "Skipping /nfs/team112_internal/production_files/Pf3k/methods/assembled_samples/vcfs/gvcf/samples/PG0008_CW.raw.snps.indels.Pf3D7_10_v3.g.vcf\n"
       ]
      },
      {
       "output_type": "stream",
       "stream": "stdout",
       "text": [
        "HB3\n"
       ]
      },
      {
       "output_type": "stream",
       "stream": "stdout",
       "text": [
        "7G8\n"
       ]
      },
      {
       "output_type": "stream",
       "stream": "stdout",
       "text": [
        "GB4\n"
       ]
      },
      {
       "output_type": "stream",
       "stream": "stdout",
       "text": [
        "Pf3D7_05_v3\n"
       ]
      },
      {
       "output_type": "stream",
       "stream": "stdout",
       "text": [
        "Dd2\n"
       ]
      },
      {
       "output_type": "stream",
       "stream": "stdout",
       "text": [
        "^C\r\n"
       ]
      },
      {
       "output_type": "stream",
       "stream": "stdout",
       "text": [
        "HB3\n"
       ]
      },
      {
       "output_type": "stream",
       "stream": "stdout",
       "text": [
        "^C\r\n"
       ]
      },
      {
       "output_type": "stream",
       "stream": "stdout",
       "text": [
        "7G8\n"
       ]
      },
      {
       "output_type": "stream",
       "stream": "stdout",
       "text": [
        "^C\r\n"
       ]
      },
      {
       "output_type": "stream",
       "stream": "stdout",
       "text": [
        "GB4\n"
       ]
      },
      {
       "output_type": "stream",
       "stream": "stdout",
       "text": [
        "^C\r\n"
       ]
      },
      {
       "output_type": "stream",
       "stream": "stdout",
       "text": [
        "Pf3D7_04_v3\n"
       ]
      },
      {
       "output_type": "stream",
       "stream": "stdout",
       "text": [
        "Dd2\n"
       ]
      },
      {
       "output_type": "stream",
       "stream": "stdout",
       "text": [
        "^C\r\n"
       ]
      },
      {
       "output_type": "stream",
       "stream": "stdout",
       "text": [
        "HB3\n"
       ]
      },
      {
       "output_type": "stream",
       "stream": "stdout",
       "text": [
        "^C\r\n"
       ]
      },
      {
       "output_type": "stream",
       "stream": "stdout",
       "text": [
        "7G8\n"
       ]
      },
      {
       "output_type": "stream",
       "stream": "stdout",
       "text": [
        "^C\r\n"
       ]
      },
      {
       "output_type": "stream",
       "stream": "stdout",
       "text": [
        "GB4\n"
       ]
      },
      {
       "output_type": "stream",
       "stream": "stdout",
       "text": [
        "^C\r\n"
       ]
      },
      {
       "output_type": "stream",
       "stream": "stdout",
       "text": [
        "Pf3D7_07_v3\n"
       ]
      },
      {
       "output_type": "stream",
       "stream": "stdout",
       "text": [
        "Dd2\n"
       ]
      },
      {
       "output_type": "stream",
       "stream": "stdout",
       "text": [
        "^C\r\n"
       ]
      },
      {
       "output_type": "stream",
       "stream": "stdout",
       "text": [
        "HB3\n"
       ]
      },
      {
       "output_type": "stream",
       "stream": "stdout",
       "text": [
        "^C\r\n"
       ]
      },
      {
       "output_type": "stream",
       "stream": "stdout",
       "text": [
        "7G8\n"
       ]
      },
      {
       "output_type": "stream",
       "stream": "stdout",
       "text": [
        "^C\r\n"
       ]
      },
      {
       "output_type": "stream",
       "stream": "stdout",
       "text": [
        "GB4\n"
       ]
      },
      {
       "output_type": "stream",
       "stream": "stdout",
       "text": [
        "^C\r\n"
       ]
      }
     ],
     "prompt_number": 132
    },
    {
     "cell_type": "code",
     "collapsed": false,
     "input": [
      "def combine_and_genotype_gvcfs(gvcf_filestems=tbl_samples_to_process.values('gvcf_filestem').array(),\n",
      "                  list_filestem=os.path.join(PROCESSED_ASSEMBLED_SAMPLES_DIR, 'vcfs', 'gvcf', 'lists', 'gvcfs'),\n",
      "                  combined_gvcf_filestem=os.path.join(PROCESSED_ASSEMBLED_SAMPLES_DIR, 'vcfs', 'gvcf', 'combined_gvcf', 'combined'),\n",
      "                  genotyped_vcf_filestem=os.path.join(PROCESSED_ASSEMBLED_SAMPLES_DIR, 'vcfs', 'vcf', 'raw.snps.indels'),\n",
      "                  chromosomes = None, max_number_per_list=200,\n",
      "                  reference_fasta = REF_GENOME, rewrite=False):\n",
      "    \n",
      "    if chromosomes is None:\n",
      "        in_seq_handle = open(REF_GENOME)\n",
      "        chromosomes = SeqIO.to_dict(SeqIO.parse(in_seq_handle, \"fasta\")).keys()\n",
      "\n",
      "    number_of_files = int(ceil(len(gvcf_filestems)/max_number_per_list))\n",
      "    np.random.shuffle(gvcf_filestems)\n",
      "    for chromosome in chromosomes:\n",
      "        combined_gvcf_list_filename = \"%s.%s.all.list\" % (list_filestem, chromosome)\n",
      "        fo = open(combined_gvcf_list_filename, 'w')\n",
      "        for i in range(number_of_files):\n",
      "            filestems_this_chunk = gvcf_filestems[(i*max_number_per_list):((i+1)*max_number_per_list)]\n",
      "            gvcf_list_filename = \"%s.%s.%d.list\" % (list_filestem, chromosome, i)\n",
      "            combined_gvcf_fn = \"%s.%s.%d.g.vcf\" % (combined_gvcf_filestem, chromosome, i)\n",
      "            print(combined_gvcf_fn, file=fo)\n",
      "            \n",
      "            files_this_chrom = np.array([\"%s.%s.g.vcf\" % (gvcf_filestem, chromosome) for gvcf_filestem in filestems_this_chunk])\n",
      "            np.savetxt(gvcf_list_filename, files_this_chrom, '%s')\n",
      "\n",
      "            if not os.path.isfile(combined_gvcf_fn) or rewrite:\n",
      "                !{gatk_exe} \\\n",
      "                -T CombineGVCFs \\\n",
      "                -R {reference_fasta} \\\n",
      "                --variant {gvcf_list_filename} \\\n",
      "                -o {combined_gvcf_fn}\n",
      "            else:\n",
      "                print(\"Skipping %s\" % combined_gvcf_fn)\n",
      "        fo.close()\n",
      "\n",
      "        genotyped_vcf_fn = \"%s.%s.vcf\" % (genotyped_vcf_filestem, chromosome)\n",
      "        \n",
      "        if not os.path.isfile(genotyped_vcf_fn) or rewrite:\n",
      "            !{gatk_exe} \\\n",
      "            -T GenotypeGVCFs \\\n",
      "            -R {reference_fasta} \\\n",
      "            --variant {combined_gvcf_list_filename} \\\n",
      "            -o {genotyped_vcf_fn}\n",
      "\n"
     ],
     "language": "python",
     "metadata": {},
     "outputs": [],
     "prompt_number": 90
    },
    {
     "cell_type": "code",
     "collapsed": false,
     "input": [
      "combine_and_genotype_gvcfs(chromosomes=['Pf3D7_01_v3', 'Pf3D7_02_v3', 'Pf3D7_03_v3', 'Pf3D7_06_v3', 'Pf3D7_08_v3', \n",
      "                                        'Pf3D7_09_v3', 'Pf3D7_11_v3', 'Pf3D7_12_v3', 'Pf3D7_13_v3', 'Pf3D7_14_v3'],\n",
      "                           max_number_per_list=2, rewrite=True)"
     ],
     "language": "python",
     "metadata": {},
     "outputs": [
      {
       "output_type": "stream",
       "stream": "stdout",
       "text": [
        "INFO  08:10:12,508 HelpFormatter - -------------------------------------------------------------------------------- \r\n",
        "INFO  08:10:12,513 HelpFormatter - The Genome Analysis Toolkit (GATK) v3.4-0-g7e26428, Compiled 2015/05/15 03:25:41 \r\n",
        "INFO  08:10:12,513 HelpFormatter - Copyright (c) 2010 The Broad Institute \r\n",
        "INFO  08:10:12,513 HelpFormatter - For support and documentation go to http://www.broadinstitute.org/gatk \r\n",
        "INFO  08:10:12,517 HelpFormatter - Program Args: -T CombineGVCFs -R /data/plasmodium/pfalciparum/recon/roamato/Pf3D7_v3/3D7_sorted.fa --variant /nfs/team112_internal/production_files/Pf3k/methods/assembled_samples/vcfs/gvcf/lists/gvcfs.Pf3D7_01_v3.0.list -o /nfs/team112_internal/production_files/Pf3k/methods/assembled_samples/vcfs/gvcf/combined_gvcf/combined.Pf3D7_01_v3.0.g.vcf \r\n"
       ]
      },
      {
       "output_type": "stream",
       "stream": "stdout",
       "text": [
        "INFO  08:10:13,630 HelpFormatter - Executing as rpearson@dhcp511.well.ox.ac.uk on Mac OS X 10.10.3 x86_64; Java HotSpot(TM) 64-Bit Server VM 1.7.0_60-b19. \r\n",
        "INFO  08:10:13,630 HelpFormatter - Date/Time: 2015/07/01 08:10:12 \r\n",
        "INFO  08:10:13,630 HelpFormatter - -------------------------------------------------------------------------------- \r\n",
        "INFO  08:10:13,630 HelpFormatter - -------------------------------------------------------------------------------- \r\n"
       ]
      },
      {
       "output_type": "stream",
       "stream": "stdout",
       "text": [
        "INFO  08:10:14,169 GenomeAnalysisEngine - Strictness is SILENT \r\n"
       ]
      },
      {
       "output_type": "stream",
       "stream": "stdout",
       "text": [
        "INFO  08:10:14,255 GenomeAnalysisEngine - Downsampling Settings: Method: BY_SAMPLE, Target Coverage: 1000 \r\n"
       ]
      },
      {
       "output_type": "stream",
       "stream": "stdout",
       "text": [
        "INFO  08:10:14,506 GenomeAnalysisEngine - Preparing for traversal \r\n",
        "INFO  08:10:14,508 GenomeAnalysisEngine - Done preparing for traversal \r\n",
        "INFO  08:10:14,508 ProgressMeter - [INITIALIZATION COMPLETE; STARTING PROCESSING] \r\n",
        "INFO  08:10:14,508 ProgressMeter -                 | processed |    time |    per 1M |           |   total | remaining \r\n",
        "INFO  08:10:14,509 ProgressMeter -        Location |     sites | elapsed |     sites | completed | runtime |   runtime \r\n"
       ]
      },
      {
       "output_type": "stream",
       "stream": "stdout",
       "text": [
        "INFO  08:10:21,800 ProgressMeter -            done    640851.0     7.0 s      11.0 s        2.9%     4.0 m       3.9 m \r\n",
        "INFO  08:10:21,801 ProgressMeter - Total runtime 7.29 secs, 0.12 min, 0.00 hours \r\n"
       ]
      },
      {
       "output_type": "stream",
       "stream": "stdout",
       "text": [
        "INFO  08:10:25,448 GATKRunReport - Uploaded run statistics report to AWS S3 \r\n"
       ]
      },
      {
       "output_type": "stream",
       "stream": "stdout",
       "text": [
        "INFO  08:10:27,719 HelpFormatter - -------------------------------------------------------------------------------- \r\n"
       ]
      },
      {
       "output_type": "stream",
       "stream": "stdout",
       "text": [
        "INFO  08:10:27,721 HelpFormatter - The Genome Analysis Toolkit (GATK) v3.4-0-g7e26428, Compiled 2015/05/15 03:25:41 \r\n",
        "INFO  08:10:27,721 HelpFormatter - Copyright (c) 2010 The Broad Institute \r\n",
        "INFO  08:10:27,722 HelpFormatter - For support and documentation go to http://www.broadinstitute.org/gatk \r\n",
        "INFO  08:10:27,726 HelpFormatter - Program Args: -T CombineGVCFs -R /data/plasmodium/pfalciparum/recon/roamato/Pf3D7_v3/3D7_sorted.fa --variant /nfs/team112_internal/production_files/Pf3k/methods/assembled_samples/vcfs/gvcf/lists/gvcfs.Pf3D7_01_v3.1.list -o /nfs/team112_internal/production_files/Pf3k/methods/assembled_samples/vcfs/gvcf/combined_gvcf/combined.Pf3D7_01_v3.1.g.vcf \r\n",
        "INFO  08:10:27,738 HelpFormatter - Executing as rpearson@dhcp511.well.ox.ac.uk on Mac OS X 10.10.3 x86_64; Java HotSpot(TM) 64-Bit Server VM 1.7.0_60-b19. \r\n",
        "INFO  08:10:27,738 HelpFormatter - Date/Time: 2015/07/01 08:10:27 \r\n",
        "INFO  08:10:27,739 HelpFormatter - -------------------------------------------------------------------------------- \r\n",
        "INFO  08:10:27,739 HelpFormatter - -------------------------------------------------------------------------------- \r\n"
       ]
      },
      {
       "output_type": "stream",
       "stream": "stdout",
       "text": [
        "INFO  08:10:28,274 GenomeAnalysisEngine - Strictness is SILENT \r\n"
       ]
      },
      {
       "output_type": "stream",
       "stream": "stdout",
       "text": [
        "INFO  08:10:28,350 GenomeAnalysisEngine - Downsampling Settings: Method: BY_SAMPLE, Target Coverage: 1000 \r\n"
       ]
      },
      {
       "output_type": "stream",
       "stream": "stdout",
       "text": [
        "INFO  08:10:28,537 GenomeAnalysisEngine - Preparing for traversal \r\n",
        "INFO  08:10:28,538 GenomeAnalysisEngine - Done preparing for traversal \r\n",
        "INFO  08:10:28,539 ProgressMeter - [INITIALIZATION COMPLETE; STARTING PROCESSING] \r\n",
        "INFO  08:10:28,539 ProgressMeter -                 | processed |    time |    per 1M |           |   total | remaining \r\n",
        "INFO  08:10:28,540 ProgressMeter -        Location |     sites | elapsed |     sites | completed | runtime |   runtime \r\n"
       ]
      },
      {
       "output_type": "stream",
       "stream": "stdout",
       "text": [
        "INFO  08:10:35,511 ProgressMeter -            done    640851.0     6.0 s      10.0 s        2.9%     3.4 m       3.3 m \r\n",
        "INFO  08:10:35,512 ProgressMeter - Total runtime 6.97 secs, 0.12 min, 0.00 hours \r\n"
       ]
      },
      {
       "output_type": "stream",
       "stream": "stdout",
       "text": [
        "INFO  08:10:40,803 GATKRunReport - Uploaded run statistics report to AWS S3 \r\n"
       ]
      },
      {
       "output_type": "stream",
       "stream": "stdout",
       "text": [
        "INFO  08:10:43,088 HelpFormatter - -------------------------------------------------------------------------------- \r\n",
        "INFO  08:10:43,091 HelpFormatter - The Genome Analysis Toolkit (GATK) v3.4-0-g7e26428, Compiled 2015/05/15 03:25:41 \r\n",
        "INFO  08:10:43,091 HelpFormatter - Copyright (c) 2010 The Broad Institute \r\n",
        "INFO  08:10:43,092 HelpFormatter - For support and documentation go to http://www.broadinstitute.org/gatk \r\n"
       ]
      },
      {
       "output_type": "stream",
       "stream": "stdout",
       "text": [
        "INFO  08:10:43,097 HelpFormatter - Program Args: -T GenotypeGVCFs -R /data/plasmodium/pfalciparum/recon/roamato/Pf3D7_v3/3D7_sorted.fa --variant /nfs/team112_internal/production_files/Pf3k/methods/assembled_samples/vcfs/gvcf/lists/gvcfs.Pf3D7_01_v3.all.list -o /nfs/team112_internal/production_files/Pf3k/methods/assembled_samples/vcfs/vcf/raw.snps.indels.Pf3D7_01_v3.vcf \r\n",
        "INFO  08:10:43,107 HelpFormatter - Executing as rpearson@dhcp511.well.ox.ac.uk on Mac OS X 10.10.3 x86_64; Java HotSpot(TM) 64-Bit Server VM 1.7.0_60-b19. \r\n",
        "INFO  08:10:43,107 HelpFormatter - Date/Time: 2015/07/01 08:10:43 \r\n",
        "INFO  08:10:43,108 HelpFormatter - -------------------------------------------------------------------------------- \r\n",
        "INFO  08:10:43,108 HelpFormatter - -------------------------------------------------------------------------------- \r\n"
       ]
      },
      {
       "output_type": "stream",
       "stream": "stdout",
       "text": [
        "INFO  08:10:43,671 GenomeAnalysisEngine - Strictness is SILENT \r\n"
       ]
      },
      {
       "output_type": "stream",
       "stream": "stdout",
       "text": [
        "INFO  08:10:43,761 GenomeAnalysisEngine - Downsampling Settings: Method: BY_SAMPLE, Target Coverage: 1000 \r\n"
       ]
      },
      {
       "output_type": "stream",
       "stream": "stdout",
       "text": [
        "INFO  08:10:43,969 GenomeAnalysisEngine - Preparing for traversal \r\n",
        "INFO  08:10:43,970 GenomeAnalysisEngine - Done preparing for traversal \r\n",
        "INFO  08:10:43,970 ProgressMeter - [INITIALIZATION COMPLETE; STARTING PROCESSING] \r\n",
        "INFO  08:10:43,971 ProgressMeter -                 | processed |    time |    per 1M |           |   total | remaining \r\n",
        "INFO  08:10:43,971 ProgressMeter -        Location |     sites | elapsed |     sites | completed | runtime |   runtime \r\n"
       ]
      },
      {
       "output_type": "stream",
       "stream": "stdout",
       "text": [
        "INFO  08:10:44,111 GenotypeGVCFs - Notice that the -ploidy parameter is ignored in GenotypeGVCFs tool as this is automatically determined by the input variant files \r\n"
       ]
      },
      {
       "output_type": "stream",
       "stream": "stdout",
       "text": [
        "WARN  08:10:50,094 ExactAFCalculator - this tool is currently set to genotype at most 6 alternate alleles in a given context, but the context at Pf3D7_01_v3:94588 has 7 alternate alleles so only the top alleles will be used; see the --max_alternate_alleles argument \r\n"
       ]
      },
      {
       "output_type": "stream",
       "stream": "stdout",
       "text": [
        "WARN  08:10:50,242 ExactAFCalculator - this tool is currently set to genotype at most 6 alternate alleles in a given context, but the context at Pf3D7_01_v3:104116 has 7 alternate alleles so only the top alleles will be used; see the --max_alternate_alleles argument \r\n",
        "WARN  08:10:50,252 ExactAFCalculator - this tool is currently set to genotype at most 6 alternate alleles in a given context, but the context at Pf3D7_01_v3:105268 has 8 alternate alleles so only the top alleles will be used; see the --max_alternate_alleles argument \r\n",
        "WARN  08:10:50,272 ExactAFCalculator - this tool is currently set to genotype at most 6 alternate alleles in a given context, but the context at Pf3D7_01_v3:108675 has 8 alternate alleles so only the top alleles will be used; see the --max_alternate_alleles argument \r\n"
       ]
      },
      {
       "output_type": "stream",
       "stream": "stdout",
       "text": [
        "WARN  08:10:50,419 ExactAFCalculator - this tool is currently set to genotype at most 6 alternate alleles in a given context, but the context at Pf3D7_01_v3:132196 has 7 alternate alleles so only the top alleles will be used; see the --max_alternate_alleles argument \r\n"
       ]
      },
      {
       "output_type": "stream",
       "stream": "stdout",
       "text": [
        "WARN  08:10:50,456 ExactAFCalculator - this tool is currently set to genotype at most 6 alternate alleles in a given context, but the context at Pf3D7_01_v3:139802 has 9 alternate alleles so only the top alleles will be used; see the --max_alternate_alleles argument \r\n"
       ]
      },
      {
       "output_type": "stream",
       "stream": "stdout",
       "text": [
        "WARN  08:10:50,588 ExactAFCalculator - this tool is currently set to genotype at most 6 alternate alleles in a given context, but the context at Pf3D7_01_v3:159071 has 7 alternate alleles so only the top alleles will be used; see the --max_alternate_alleles argument \r\n"
       ]
      },
      {
       "output_type": "stream",
       "stream": "stdout",
       "text": [
        "WARN  08:10:50,653 ExactAFCalculator - this tool is currently set to genotype at most 6 alternate alleles in a given context, but the context at Pf3D7_01_v3:166288 has 7 alternate alleles so only the top alleles will be used; see the --max_alternate_alleles argument \r\n",
        "WARN  08:10:50,662 ExactAFCalculator - this tool is currently set to genotype at most 6 alternate alleles in a given context, but the context at Pf3D7_01_v3:167605 has 7 alternate alleles so only the top alleles will be used; see the --max_alternate_alleles argument \r\n",
        "WARN  08:10:50,667 ExactAFCalculator - this tool is currently set to genotype at most 6 alternate alleles in a given context, but the context at Pf3D7_01_v3:168007 has 9 alternate alleles so only the top alleles will be used; see the --max_alternate_alleles argument \r\n",
        "WARN  08:10:50,675 ExactAFCalculator - this tool is currently set to genotype at most 6 alternate alleles in a given context, but the context at Pf3D7_01_v3:168701 has 7 alternate alleles so only the top alleles will be used; see the --max_alternate_alleles argument \r\n"
       ]
      },
      {
       "output_type": "stream",
       "stream": "stdout",
       "text": [
        "WARN  08:10:50,797 ExactAFCalculator - this tool is currently set to genotype at most 6 alternate alleles in a given context, but the context at Pf3D7_01_v3:181835 has 9 alternate alleles so only the top alleles will be used; see the --max_alternate_alleles argument \r\n"
       ]
      },
      {
       "output_type": "stream",
       "stream": "stdout",
       "text": [
        "WARN  08:10:50,818 ExactAFCalculator - this tool is currently set to genotype at most 6 alternate alleles in a given context, but the context at Pf3D7_01_v3:184353 has 8 alternate alleles so only the top alleles will be used; see the --max_alternate_alleles argument \r\n",
        "WARN  08:10:50,831 ExactAFCalculator - this tool is currently set to genotype at most 6 alternate alleles in a given context, but the context at Pf3D7_01_v3:185024 has 7 alternate alleles so only the top alleles will be used; see the --max_alternate_alleles argument \r\n"
       ]
      },
      {
       "output_type": "stream",
       "stream": "stdout",
       "text": [
        "WARN  08:10:50,884 ExactAFCalculator - this tool is currently set to genotype at most 6 alternate alleles in a given context, but the context at Pf3D7_01_v3:188526 has 7 alternate alleles so only the top alleles will be used; see the --max_alternate_alleles argument \r\n",
        "WARN  08:10:50,887 ExactAFCalculator - this tool is currently set to genotype at most 6 alternate alleles in a given context, but the context at Pf3D7_01_v3:188554 has 7 alternate alleles so only the top alleles will be used; see the --max_alternate_alleles argument \r\n"
       ]
      },
      {
       "output_type": "stream",
       "stream": "stdout",
       "text": [
        "WARN  08:10:51,052 ExactAFCalculator - this tool is currently set to genotype at most 6 alternate alleles in a given context, but the context at Pf3D7_01_v3:217624 has 7 alternate alleles so only the top alleles will be used; see the --max_alternate_alleles argument \r\n",
        "WARN  08:10:51,054 ExactAFCalculator - this tool is currently set to genotype at most 6 alternate alleles in a given context, but the context at Pf3D7_01_v3:217626 has 7 alternate alleles so only the top alleles will be used; see the --max_alternate_alleles argument \r\n"
       ]
      },
      {
       "output_type": "stream",
       "stream": "stdout",
       "text": [
        "WARN  08:10:51,087 ExactAFCalculator - this tool is currently set to genotype at most 6 alternate alleles in a given context, but the context at Pf3D7_01_v3:220755 has 7 alternate alleles so only the top alleles will be used; see the --max_alternate_alleles argument \r\n"
       ]
      },
      {
       "output_type": "stream",
       "stream": "stdout",
       "text": [
        "WARN  08:10:51,129 ExactAFCalculator - this tool is currently set to genotype at most 6 alternate alleles in a given context, but the context at Pf3D7_01_v3:225033 has 7 alternate alleles so only the top alleles will be used; see the --max_alternate_alleles argument \r\n",
        "WARN  08:10:51,141 ExactAFCalculator - this tool is currently set to genotype at most 6 alternate alleles in a given context, but the context at Pf3D7_01_v3:225986 has 9 alternate alleles so only the top alleles will be used; see the --max_alternate_alleles argument \r\n"
       ]
      },
      {
       "output_type": "stream",
       "stream": "stdout",
       "text": [
        "WARN  08:10:51,223 ExactAFCalculator - this tool is currently set to genotype at most 6 alternate alleles in a given context, but the context at Pf3D7_01_v3:235812 has 7 alternate alleles so only the top alleles will be used; see the --max_alternate_alleles argument \r\n"
       ]
      },
      {
       "output_type": "stream",
       "stream": "stdout",
       "text": [
        "WARN  08:10:51,563 ExactAFCalculator - this tool is currently set to genotype at most 6 alternate alleles in a given context, but the context at Pf3D7_01_v3:287878 has 9 alternate alleles so only the top alleles will be used; see the --max_alternate_alleles argument \r\n"
       ]
      },
      {
       "output_type": "stream",
       "stream": "stdout",
       "text": [
        "WARN  08:10:51,699 ExactAFCalculator - this tool is currently set to genotype at most 6 alternate alleles in a given context, but the context at Pf3D7_01_v3:304778 has 8 alternate alleles so only the top alleles will be used; see the --max_alternate_alleles argument \r\n"
       ]
      },
      {
       "output_type": "stream",
       "stream": "stdout",
       "text": [
        "WARN  08:10:51,767 ExactAFCalculator - this tool is currently set to genotype at most 6 alternate alleles in a given context, but the context at Pf3D7_01_v3:312856 has 8 alternate alleles so only the top alleles will be used; see the --max_alternate_alleles argument \r\n",
        "WARN  08:10:51,786 ExactAFCalculator - this tool is currently set to genotype at most 6 alternate alleles in a given context, but the context at Pf3D7_01_v3:313412 has 7 alternate alleles so only the top alleles will be used; see the --max_alternate_alleles argument \r\n"
       ]
      },
      {
       "output_type": "stream",
       "stream": "stdout",
       "text": [
        "WARN  08:10:51,887 ExactAFCalculator - this tool is currently set to genotype at most 6 alternate alleles in a given context, but the context at Pf3D7_01_v3:328569 has 9 alternate alleles so only the top alleles will be used; see the --max_alternate_alleles argument \r\n"
       ]
      },
      {
       "output_type": "stream",
       "stream": "stdout",
       "text": [
        "WARN  08:10:51,922 ExactAFCalculator - this tool is currently set to genotype at most 6 alternate alleles in a given context, but the context at Pf3D7_01_v3:333640 has 7 alternate alleles so only the top alleles will be used; see the --max_alternate_alleles argument \r\n",
        "WARN  08:10:51,928 ExactAFCalculator - this tool is currently set to genotype at most 6 alternate alleles in a given context, but the context at Pf3D7_01_v3:333937 has 8 alternate alleles so only the top alleles will be used; see the --max_alternate_alleles argument \r\n",
        "WARN  08:10:51,942 ExactAFCalculator - this tool is currently set to genotype at most 6 alternate alleles in a given context, but the context at Pf3D7_01_v3:334354 has 7 alternate alleles so only the top alleles will be used; see the --max_alternate_alleles argument \r\n"
       ]
      },
      {
       "output_type": "stream",
       "stream": "stdout",
       "text": [
        "WARN  08:10:52,011 ExactAFCalculator - this tool is currently set to genotype at most 6 alternate alleles in a given context, but the context at Pf3D7_01_v3:343909 has 7 alternate alleles so only the top alleles will be used; see the --max_alternate_alleles argument \r\n",
        "WARN  08:10:52,022 ExactAFCalculator - this tool is currently set to genotype at most 6 alternate alleles in a given context, but the context at Pf3D7_01_v3:345066 has 7 alternate alleles so only the top alleles will be used; see the --max_alternate_alleles argument \r\n",
        "WARN  08:10:52,027 ExactAFCalculator - this tool is currently set to genotype at most 6 alternate alleles in a given context, but the context at Pf3D7_01_v3:345937 has 7 alternate alleles so only the top alleles will be used; see the --max_alternate_alleles argument \r\n",
        "WARN  08:10:52,031 ExactAFCalculator - this tool is currently set to genotype at most 6 alternate alleles in a given context, but the context at Pf3D7_01_v3:346607 has 10 alternate alleles so only the top alleles will be used; see the --max_alternate_alleles argument \r\n"
       ]
      },
      {
       "output_type": "stream",
       "stream": "stdout",
       "text": [
        "WARN  08:10:52,084 ExactAFCalculator - this tool is currently set to genotype at most 6 alternate alleles in a given context, but the context at Pf3D7_01_v3:350718 has 7 alternate alleles so only the top alleles will be used; see the --max_alternate_alleles argument \r\n",
        "WARN  08:10:52,097 ExactAFCalculator - this tool is currently set to genotype at most 6 alternate alleles in a given context, but the context at Pf3D7_01_v3:351711 has 10 alternate alleles so only the top alleles will be used; see the --max_alternate_alleles argument \r\n"
       ]
      },
      {
       "output_type": "stream",
       "stream": "stdout",
       "text": [
        "WARN  08:10:52,161 ExactAFCalculator - this tool is currently set to genotype at most 6 alternate alleles in a given context, but the context at Pf3D7_01_v3:357976 has 7 alternate alleles so only the top alleles will be used; see the --max_alternate_alleles argument \r\n"
       ]
      },
      {
       "output_type": "stream",
       "stream": "stdout",
       "text": [
        "WARN  08:10:52,240 ExactAFCalculator - this tool is currently set to genotype at most 6 alternate alleles in a given context, but the context at Pf3D7_01_v3:364013 has 8 alternate alleles so only the top alleles will be used; see the --max_alternate_alleles argument \r\n",
        "WARN  08:10:52,261 ExactAFCalculator - this tool is currently set to genotype at most 6 alternate alleles in a given context, but the context at Pf3D7_01_v3:365535 has 7 alternate alleles so only the top alleles will be used; see the --max_alternate_alleles argument \r\n"
       ]
      },
      {
       "output_type": "stream",
       "stream": "stdout",
       "text": [
        "WARN  08:10:52,386 ExactAFCalculator - this tool is currently set to genotype at most 6 alternate alleles in a given context, but the context at Pf3D7_01_v3:379041 has 7 alternate alleles so only the top alleles will be used; see the --max_alternate_alleles argument \r\n"
       ]
      },
      {
       "output_type": "stream",
       "stream": "stdout",
       "text": [
        "WARN  08:10:52,486 ExactAFCalculator - this tool is currently set to genotype at most 6 alternate alleles in a given context, but the context at Pf3D7_01_v3:387768 has 9 alternate alleles so only the top alleles will be used; see the --max_alternate_alleles argument \r\n"
       ]
      },
      {
       "output_type": "stream",
       "stream": "stdout",
       "text": [
        "WARN  08:10:52,746 ExactAFCalculator - this tool is currently set to genotype at most 6 alternate alleles in a given context, but the context at Pf3D7_01_v3:415176 has 12 alternate alleles so only the top alleles will be used; see the --max_alternate_alleles argument \r\n",
        "WARN  08:10:52,750 ExactAFCalculator - this tool is currently set to genotype at most 6 alternate alleles in a given context, but the context at Pf3D7_01_v3:415337 has 8 alternate alleles so only the top alleles will be used; see the --max_alternate_alleles argument \r\n"
       ]
      },
      {
       "output_type": "stream",
       "stream": "stdout",
       "text": [
        "WARN  08:10:52,799 ExactAFCalculator - this tool is currently set to genotype at most 6 alternate alleles in a given context, but the context at Pf3D7_01_v3:418037 has 7 alternate alleles so only the top alleles will be used; see the --max_alternate_alleles argument \r\n",
        "WARN  08:10:52,809 ExactAFCalculator - this tool is currently set to genotype at most 6 alternate alleles in a given context, but the context at Pf3D7_01_v3:419666 has 9 alternate alleles so only the top alleles will be used; see the --max_alternate_alleles argument \r\n",
        "WARN  08:10:52,824 ExactAFCalculator - this tool is currently set to genotype at most 6 alternate alleles in a given context, but the context at Pf3D7_01_v3:420972 has 7 alternate alleles so only the top alleles will be used; see the --max_alternate_alleles argument \r\n"
       ]
      },
      {
       "output_type": "stream",
       "stream": "stdout",
       "text": [
        "WARN  08:10:52,847 ExactAFCalculator - this tool is currently set to genotype at most 6 alternate alleles in a given context, but the context at Pf3D7_01_v3:423023 has 9 alternate alleles so only the top alleles will be used; see the --max_alternate_alleles argument \r\n"
       ]
      },
      {
       "output_type": "stream",
       "stream": "stdout",
       "text": [
        "WARN  08:10:52,946 ExactAFCalculator - this tool is currently set to genotype at most 6 alternate alleles in a given context, but the context at Pf3D7_01_v3:435264 has 8 alternate alleles so only the top alleles will be used; see the --max_alternate_alleles argument \r\n"
       ]
      },
      {
       "output_type": "stream",
       "stream": "stdout",
       "text": [
        "WARN  08:10:52,984 ExactAFCalculator - this tool is currently set to genotype at most 6 alternate alleles in a given context, but the context at Pf3D7_01_v3:439852 has 7 alternate alleles so only the top alleles will be used; see the --max_alternate_alleles argument \r\n"
       ]
      },
      {
       "output_type": "stream",
       "stream": "stdout",
       "text": [
        "WARN  08:10:53,030 ExactAFCalculator - this tool is currently set to genotype at most 6 alternate alleles in a given context, but the context at Pf3D7_01_v3:443323 has 7 alternate alleles so only the top alleles will be used; see the --max_alternate_alleles argument \r\n",
        "WARN  08:10:53,033 ExactAFCalculator - this tool is currently set to genotype at most 6 alternate alleles in a given context, but the context at Pf3D7_01_v3:443356 has 7 alternate alleles so only the top alleles will be used; see the --max_alternate_alleles argument \r\n"
       ]
      },
      {
       "output_type": "stream",
       "stream": "stdout",
       "text": [
        "WARN  08:10:53,135 ExactAFCalculator - this tool is currently set to genotype at most 6 alternate alleles in a given context, but the context at Pf3D7_01_v3:447068 has 9 alternate alleles so only the top alleles will be used; see the --max_alternate_alleles argument \r\n"
       ]
      },
      {
       "output_type": "stream",
       "stream": "stdout",
       "text": [
        "WARN  08:10:53,209 ExactAFCalculator - this tool is currently set to genotype at most 6 alternate alleles in a given context, but the context at Pf3D7_01_v3:448860 has 7 alternate alleles so only the top alleles will be used; see the --max_alternate_alleles argument \r\n"
       ]
      },
      {
       "output_type": "stream",
       "stream": "stdout",
       "text": [
        "WARN  08:10:53,251 ExactAFCalculator - this tool is currently set to genotype at most 6 alternate alleles in a given context, but the context at Pf3D7_01_v3:451383 has 7 alternate alleles so only the top alleles will be used; see the --max_alternate_alleles argument \r\n"
       ]
      },
      {
       "output_type": "stream",
       "stream": "stdout",
       "text": [
        "WARN  08:10:53,375 ExactAFCalculator - this tool is currently set to genotype at most 6 alternate alleles in a given context, but the context at Pf3D7_01_v3:470274 has 9 alternate alleles so only the top alleles will be used; see the --max_alternate_alleles argument \r\n",
        "WARN  08:10:53,379 ExactAFCalculator - this tool is currently set to genotype at most 6 alternate alleles in a given context, but the context at Pf3D7_01_v3:470612 has 7 alternate alleles so only the top alleles will be used; see the --max_alternate_alleles argument \r\n",
        "WARN  08:10:53,394 ExactAFCalculator - this tool is currently set to genotype at most 6 alternate alleles in a given context, but the context at Pf3D7_01_v3:471257 has 7 alternate alleles so only the top alleles will be used; see the --max_alternate_alleles argument \r\n"
       ]
      },
      {
       "output_type": "stream",
       "stream": "stdout",
       "text": [
        "WARN  08:10:53,513 ExactAFCalculator - this tool is currently set to genotype at most 6 alternate alleles in a given context, but the context at Pf3D7_01_v3:484891 has 7 alternate alleles so only the top alleles will be used; see the --max_alternate_alleles argument \r\n"
       ]
      },
      {
       "output_type": "stream",
       "stream": "stdout",
       "text": [
        "WARN  08:10:53,842 ExactAFCalculator - this tool is currently set to genotype at most 6 alternate alleles in a given context, but the context at Pf3D7_01_v3:524976 has 7 alternate alleles so only the top alleles will be used; see the --max_alternate_alleles argument \r\n"
       ]
      },
      {
       "output_type": "stream",
       "stream": "stdout",
       "text": [
        "WARN  08:10:54,091 ExactAFCalculator - this tool is currently set to genotype at most 6 alternate alleles in a given context, but the context at Pf3D7_01_v3:551570 has 7 alternate alleles so only the top alleles will be used; see the --max_alternate_alleles argument \r\n"
       ]
      },
      {
       "output_type": "stream",
       "stream": "stdout",
       "text": [
        "WARN  08:10:54,177 ExactAFCalculator - this tool is currently set to genotype at most 6 alternate alleles in a given context, but the context at Pf3D7_01_v3:559405 has 7 alternate alleles so only the top alleles will be used; see the --max_alternate_alleles argument \r\n"
       ]
      },
      {
       "output_type": "stream",
       "stream": "stdout",
       "text": [
        "WARN  08:10:54,243 ExactAFCalculator - this tool is currently set to genotype at most 6 alternate alleles in a given context, but the context at Pf3D7_01_v3:563372 has 9 alternate alleles so only the top alleles will be used; see the --max_alternate_alleles argument \r\n"
       ]
      },
      {
       "output_type": "stream",
       "stream": "stdout",
       "text": [
        "WARN  08:10:54,297 ExactAFCalculator - this tool is currently set to genotype at most 6 alternate alleles in a given context, but the context at Pf3D7_01_v3:567724 has 8 alternate alleles so only the top alleles will be used; see the --max_alternate_alleles argument \r\n"
       ]
      },
      {
       "output_type": "stream",
       "stream": "stdout",
       "text": [
        "WARN  08:10:54,322 ExactAFCalculator - this tool is currently set to genotype at most 6 alternate alleles in a given context, but the context at Pf3D7_01_v3:570100 has 7 alternate alleles so only the top alleles will be used; see the --max_alternate_alleles argument \r\n",
        "WARN  08:10:54,343 ExactAFCalculator - this tool is currently set to genotype at most 6 alternate alleles in a given context, but the context at Pf3D7_01_v3:572743 has 9 alternate alleles so only the top alleles will be used; see the --max_alternate_alleles argument \r\n"
       ]
      },
      {
       "output_type": "stream",
       "stream": "stdout",
       "text": [
        "WARN  08:10:54,370 ExactAFCalculator - this tool is currently set to genotype at most 6 alternate alleles in a given context, but the context at Pf3D7_01_v3:575753 has 10 alternate alleles so only the top alleles will be used; see the --max_alternate_alleles argument \r\n",
        "WARN  08:10:54,372 ExactAFCalculator - this tool is currently set to genotype at most 6 alternate alleles in a given context, but the context at Pf3D7_01_v3:575924 has 7 alternate alleles so only the top alleles will be used; see the --max_alternate_alleles argument \r\n"
       ]
      },
      {
       "output_type": "stream",
       "stream": "stdout",
       "text": [
        "WARN  08:10:54,485 ExactAFCalculator - this tool is currently set to genotype at most 6 alternate alleles in a given context, but the context at Pf3D7_01_v3:585350 has 8 alternate alleles so only the top alleles will be used; see the --max_alternate_alleles argument \r\n"
       ]
      },
      {
       "output_type": "stream",
       "stream": "stdout",
       "text": [
        "INFO  08:10:55,566 ProgressMeter -            done    640851.0    11.0 s      18.0 s        2.9%     6.3 m       6.1 m \r\n",
        "INFO  08:10:55,566 ProgressMeter - Total runtime 11.60 secs, 0.19 min, 0.00 hours \r\n"
       ]
      },
      {
       "output_type": "stream",
       "stream": "stdout",
       "text": [
        "INFO  08:10:59,132 GATKRunReport - Uploaded run statistics report to AWS S3 \r\n"
       ]
      },
      {
       "output_type": "stream",
       "stream": "stdout",
       "text": [
        "INFO  08:11:01,341 HelpFormatter - -------------------------------------------------------------------------------- \r\n",
        "INFO  08:11:01,343 HelpFormatter - The Genome Analysis Toolkit (GATK) v3.4-0-g7e26428, Compiled 2015/05/15 03:25:41 \r\n",
        "INFO  08:11:01,344 HelpFormatter - Copyright (c) 2010 The Broad Institute \r\n",
        "INFO  08:11:01,344 HelpFormatter - For support and documentation go to http://www.broadinstitute.org/gatk \r\n",
        "INFO  08:11:01,348 HelpFormatter - Program Args: -T CombineGVCFs -R /data/plasmodium/pfalciparum/recon/roamato/Pf3D7_v3/3D7_sorted.fa --variant /nfs/team112_internal/production_files/Pf3k/methods/assembled_samples/vcfs/gvcf/lists/gvcfs.Pf3D7_02_v3.0.list -o /nfs/team112_internal/production_files/Pf3k/methods/assembled_samples/vcfs/gvcf/combined_gvcf/combined.Pf3D7_02_v3.0.g.vcf \r\n",
        "INFO  08:11:01,356 HelpFormatter - Executing as rpearson@dhcp511.well.ox.ac.uk on Mac OS X 10.10.3 x86_64; Java HotSpot(TM) 64-Bit Server VM 1.7.0_60-b19. \r\n",
        "INFO  08:11:01,356 HelpFormatter - Date/Time: 2015/07/01 08:11:01 \r\n",
        "INFO  08:11:01,356 HelpFormatter - -------------------------------------------------------------------------------- \r\n",
        "INFO  08:11:01,357 HelpFormatter - -------------------------------------------------------------------------------- \r\n"
       ]
      },
      {
       "output_type": "stream",
       "stream": "stdout",
       "text": [
        "INFO  08:11:01,870 GenomeAnalysisEngine - Strictness is SILENT \r\n"
       ]
      },
      {
       "output_type": "stream",
       "stream": "stdout",
       "text": [
        "INFO  08:11:01,948 GenomeAnalysisEngine - Downsampling Settings: Method: BY_SAMPLE, Target Coverage: 1000 \r\n"
       ]
      },
      {
       "output_type": "stream",
       "stream": "stdout",
       "text": [
        "INFO  08:11:02,153 GenomeAnalysisEngine - Preparing for traversal \r\n",
        "INFO  08:11:02,154 GenomeAnalysisEngine - Done preparing for traversal \r\n"
       ]
      },
      {
       "output_type": "stream",
       "stream": "stdout",
       "text": [
        "INFO  08:11:02,156 ProgressMeter - [INITIALIZATION COMPLETE; STARTING PROCESSING] \r\n",
        "INFO  08:11:02,157 ProgressMeter -                 | processed |    time |    per 1M |           |   total | remaining \r\n",
        "INFO  08:11:02,158 ProgressMeter -        Location |     sites | elapsed |     sites | completed | runtime |   runtime \r\n"
       ]
      },
      {
       "output_type": "stream",
       "stream": "stdout",
       "text": [
        "INFO  08:11:10,235 ProgressMeter -            done    947102.0     8.0 s       8.0 s        7.0%   114.0 s     106.0 s \r\n",
        "INFO  08:11:10,236 ProgressMeter - Total runtime 8.08 secs, 0.13 min, 0.00 hours \r\n"
       ]
      },
      {
       "output_type": "stream",
       "stream": "stdout",
       "text": [
        "INFO  08:11:15,209 GATKRunReport - Uploaded run statistics report to AWS S3 \r\n"
       ]
      },
      {
       "output_type": "stream",
       "stream": "stdout",
       "text": [
        "INFO  08:11:17,648 HelpFormatter - -------------------------------------------------------------------------------- \r\n",
        "INFO  08:11:17,650 HelpFormatter - The Genome Analysis Toolkit (GATK) v3.4-0-g7e26428, Compiled 2015/05/15 03:25:41 \r\n",
        "INFO  08:11:17,650 HelpFormatter - Copyright (c) 2010 The Broad Institute \r\n",
        "INFO  08:11:17,650 HelpFormatter - For support and documentation go to http://www.broadinstitute.org/gatk \r\n",
        "INFO  08:11:17,655 HelpFormatter - Program Args: -T CombineGVCFs -R /data/plasmodium/pfalciparum/recon/roamato/Pf3D7_v3/3D7_sorted.fa --variant /nfs/team112_internal/production_files/Pf3k/methods/assembled_samples/vcfs/gvcf/lists/gvcfs.Pf3D7_02_v3.1.list -o /nfs/team112_internal/production_files/Pf3k/methods/assembled_samples/vcfs/gvcf/combined_gvcf/combined.Pf3D7_02_v3.1.g.vcf \r\n",
        "INFO  08:11:17,663 HelpFormatter - Executing as rpearson@dhcp511.well.ox.ac.uk on Mac OS X 10.10.3 x86_64; Java HotSpot(TM) 64-Bit Server VM 1.7.0_60-b19. \r\n",
        "INFO  08:11:17,663 HelpFormatter - Date/Time: 2015/07/01 08:11:17 \r\n",
        "INFO  08:11:17,664 HelpFormatter - -------------------------------------------------------------------------------- \r\n",
        "INFO  08:11:17,664 HelpFormatter - -------------------------------------------------------------------------------- \r\n"
       ]
      },
      {
       "output_type": "stream",
       "stream": "stdout",
       "text": [
        "INFO  08:11:18,185 GenomeAnalysisEngine - Strictness is SILENT \r\n"
       ]
      },
      {
       "output_type": "stream",
       "stream": "stdout",
       "text": [
        "INFO  08:11:18,256 GenomeAnalysisEngine - Downsampling Settings: Method: BY_SAMPLE, Target Coverage: 1000 \r\n"
       ]
      },
      {
       "output_type": "stream",
       "stream": "stdout",
       "text": [
        "INFO  08:11:18,434 GenomeAnalysisEngine - Preparing for traversal \r\n",
        "INFO  08:11:18,435 GenomeAnalysisEngine - Done preparing for traversal \r\n",
        "INFO  08:11:18,436 ProgressMeter - [INITIALIZATION COMPLETE; STARTING PROCESSING] \r\n",
        "INFO  08:11:18,436 ProgressMeter -                 | processed |    time |    per 1M |           |   total | remaining \r\n",
        "INFO  08:11:18,436 ProgressMeter -        Location |     sites | elapsed |     sites | completed | runtime |   runtime \r\n"
       ]
      },
      {
       "output_type": "stream",
       "stream": "stdout",
       "text": [
        "INFO  08:11:26,360 ProgressMeter -            done    947102.0     7.0 s       8.0 s        7.0%   100.0 s      93.0 s \r\n",
        "INFO  08:11:26,360 ProgressMeter - Total runtime 7.93 secs, 0.13 min, 0.00 hours \r\n"
       ]
      },
      {
       "output_type": "stream",
       "stream": "stdout",
       "text": [
        "INFO  08:11:32,940 GATKRunReport - Uploaded run statistics report to AWS S3 \r\n"
       ]
      },
      {
       "output_type": "stream",
       "stream": "stdout",
       "text": [
        "INFO  08:11:35,165 HelpFormatter - -------------------------------------------------------------------------------- \r\n",
        "INFO  08:11:35,168 HelpFormatter - The Genome Analysis Toolkit (GATK) v3.4-0-g7e26428, Compiled 2015/05/15 03:25:41 \r\n",
        "INFO  08:11:35,168 HelpFormatter - Copyright (c) 2010 The Broad Institute \r\n",
        "INFO  08:11:35,168 HelpFormatter - For support and documentation go to http://www.broadinstitute.org/gatk \r\n",
        "INFO  08:11:35,173 HelpFormatter - Program Args: -T GenotypeGVCFs -R /data/plasmodium/pfalciparum/recon/roamato/Pf3D7_v3/3D7_sorted.fa --variant /nfs/team112_internal/production_files/Pf3k/methods/assembled_samples/vcfs/gvcf/lists/gvcfs.Pf3D7_02_v3.all.list -o /nfs/team112_internal/production_files/Pf3k/methods/assembled_samples/vcfs/vcf/raw.snps.indels.Pf3D7_02_v3.vcf \r\n",
        "INFO  08:11:35,182 HelpFormatter - Executing as rpearson@dhcp511.well.ox.ac.uk on Mac OS X 10.10.3 x86_64; Java HotSpot(TM) 64-Bit Server VM 1.7.0_60-b19. \r\n",
        "INFO  08:11:35,182 HelpFormatter - Date/Time: 2015/07/01 08:11:35 \r\n",
        "INFO  08:11:35,182 HelpFormatter - -------------------------------------------------------------------------------- \r\n",
        "INFO  08:11:35,183 HelpFormatter - -------------------------------------------------------------------------------- \r\n"
       ]
      },
      {
       "output_type": "stream",
       "stream": "stdout",
       "text": [
        "INFO  08:11:35,692 GenomeAnalysisEngine - Strictness is SILENT \r\n"
       ]
      },
      {
       "output_type": "stream",
       "stream": "stdout",
       "text": [
        "INFO  08:11:35,761 GenomeAnalysisEngine - Downsampling Settings: Method: BY_SAMPLE, Target Coverage: 1000 \r\n"
       ]
      },
      {
       "output_type": "stream",
       "stream": "stdout",
       "text": [
        "INFO  08:11:35,932 GenomeAnalysisEngine - Preparing for traversal \r\n",
        "INFO  08:11:35,933 GenomeAnalysisEngine - Done preparing for traversal \r\n",
        "INFO  08:11:35,933 ProgressMeter - [INITIALIZATION COMPLETE; STARTING PROCESSING] \r\n",
        "INFO  08:11:35,934 ProgressMeter -                 | processed |    time |    per 1M |           |   total | remaining \r\n",
        "INFO  08:11:35,934 ProgressMeter -        Location |     sites | elapsed |     sites | completed | runtime |   runtime \r\n"
       ]
      },
      {
       "output_type": "stream",
       "stream": "stdout",
       "text": [
        "INFO  08:11:36,055 GenotypeGVCFs - Notice that the -ploidy parameter is ignored in GenotypeGVCFs tool as this is automatically determined by the input variant files \r\n"
       ]
      },
      {
       "output_type": "stream",
       "stream": "stdout",
       "text": [
        "WARN  08:11:44,300 ExactAFCalculator - this tool is currently set to genotype at most 6 alternate alleles in a given context, but the context at Pf3D7_02_v3:125309 has 7 alternate alleles so only the top alleles will be used; see the --max_alternate_alleles argument \r\n"
       ]
      },
      {
       "output_type": "stream",
       "stream": "stdout",
       "text": [
        "WARN  08:11:44,346 ExactAFCalculator - this tool is currently set to genotype at most 6 alternate alleles in a given context, but the context at Pf3D7_02_v3:133893 has 7 alternate alleles so only the top alleles will be used; see the --max_alternate_alleles argument \r\n",
        "WARN  08:11:44,376 ExactAFCalculator - this tool is currently set to genotype at most 6 alternate alleles in a given context, but the context at Pf3D7_02_v3:139263 has 9 alternate alleles so only the top alleles will be used; see the --max_alternate_alleles argument \r\n"
       ]
      },
      {
       "output_type": "stream",
       "stream": "stdout",
       "text": [
        "WARN  08:11:44,650 ExactAFCalculator - this tool is currently set to genotype at most 6 alternate alleles in a given context, but the context at Pf3D7_02_v3:189650 has 7 alternate alleles so only the top alleles will be used; see the --max_alternate_alleles argument \r\n"
       ]
      },
      {
       "output_type": "stream",
       "stream": "stdout",
       "text": [
        "WARN  08:11:44,737 ExactAFCalculator - this tool is currently set to genotype at most 6 alternate alleles in a given context, but the context at Pf3D7_02_v3:204112 has 9 alternate alleles so only the top alleles will be used; see the --max_alternate_alleles argument \r\n"
       ]
      },
      {
       "output_type": "stream",
       "stream": "stdout",
       "text": [
        "WARN  08:11:44,797 ExactAFCalculator - this tool is currently set to genotype at most 6 alternate alleles in a given context, but the context at Pf3D7_02_v3:211582 has 7 alternate alleles so only the top alleles will be used; see the --max_alternate_alleles argument \r\n"
       ]
      },
      {
       "output_type": "stream",
       "stream": "stdout",
       "text": [
        "WARN  08:11:44,827 ExactAFCalculator - this tool is currently set to genotype at most 6 alternate alleles in a given context, but the context at Pf3D7_02_v3:217095 has 8 alternate alleles so only the top alleles will be used; see the --max_alternate_alleles argument \r\n",
        "WARN  08:11:44,831 ExactAFCalculator - this tool is currently set to genotype at most 6 alternate alleles in a given context, but the context at Pf3D7_02_v3:217583 has 9 alternate alleles so only the top alleles will be used; see the --max_alternate_alleles argument \r\n",
        "WARN  08:11:44,870 ExactAFCalculator - this tool is currently set to genotype at most 6 alternate alleles in a given context, but the context at Pf3D7_02_v3:223240 has 8 alternate alleles so only the top alleles will be used; see the --max_alternate_alleles argument \r\n"
       ]
      },
      {
       "output_type": "stream",
       "stream": "stdout",
       "text": [
        "WARN  08:11:44,878 ExactAFCalculator - this tool is currently set to genotype at most 6 alternate alleles in a given context, but the context at Pf3D7_02_v3:225470 has 7 alternate alleles so only the top alleles will be used; see the --max_alternate_alleles argument \r\n"
       ]
      },
      {
       "output_type": "stream",
       "stream": "stdout",
       "text": [
        "WARN  08:11:45,197 ExactAFCalculator - this tool is currently set to genotype at most 6 alternate alleles in a given context, but the context at Pf3D7_02_v3:276622 has 8 alternate alleles so only the top alleles will be used; see the --max_alternate_alleles argument \r\n",
        "WARN  08:11:45,201 ExactAFCalculator - this tool is currently set to genotype at most 6 alternate alleles in a given context, but the context at Pf3D7_02_v3:276982 has 8 alternate alleles so only the top alleles will be used; see the --max_alternate_alleles argument \r\n",
        "WARN  08:11:45,213 ExactAFCalculator - this tool is currently set to genotype at most 6 alternate alleles in a given context, but the context at Pf3D7_02_v3:279255 has 7 alternate alleles so only the top alleles will be used; see the --max_alternate_alleles argument \r\n"
       ]
      },
      {
       "output_type": "stream",
       "stream": "stdout",
       "text": [
        "WARN  08:11:45,243 ExactAFCalculator - this tool is currently set to genotype at most 6 alternate alleles in a given context, but the context at Pf3D7_02_v3:287225 has 7 alternate alleles so only the top alleles will be used; see the --max_alternate_alleles argument \r\n",
        "WARN  08:11:45,270 ExactAFCalculator - this tool is currently set to genotype at most 6 alternate alleles in a given context, but the context at Pf3D7_02_v3:291565 has 13 alternate alleles so only the top alleles will be used; see the --max_alternate_alleles argument \r\n",
        "WARN  08:11:45,291 ExactAFCalculator - this tool is currently set to genotype at most 6 alternate alleles in a given context, but the context at Pf3D7_02_v3:296350 has 10 alternate alleles so only the top alleles will be used; see the --max_alternate_alleles argument \r\n"
       ]
      },
      {
       "output_type": "stream",
       "stream": "stdout",
       "text": [
        "WARN  08:11:45,294 ExactAFCalculator - this tool is currently set to genotype at most 6 alternate alleles in a given context, but the context at Pf3D7_02_v3:296617 has 7 alternate alleles so only the top alleles will be used; see the --max_alternate_alleles argument \r\n",
        "WARN  08:11:45,320 ExactAFCalculator - this tool is currently set to genotype at most 6 alternate alleles in a given context, but the context at Pf3D7_02_v3:301090 has 10 alternate alleles so only the top alleles will be used; see the --max_alternate_alleles argument \r\n",
        "WARN  08:11:45,342 ExactAFCalculator - this tool is currently set to genotype at most 6 alternate alleles in a given context, but the context at Pf3D7_02_v3:305614 has 7 alternate alleles so only the top alleles will be used; see the --max_alternate_alleles argument \r\n"
       ]
      },
      {
       "output_type": "stream",
       "stream": "stdout",
       "text": [
        "WARN  08:11:45,462 ExactAFCalculator - this tool is currently set to genotype at most 6 alternate alleles in a given context, but the context at Pf3D7_02_v3:328233 has 7 alternate alleles so only the top alleles will be used; see the --max_alternate_alleles argument \r\n"
       ]
      },
      {
       "output_type": "stream",
       "stream": "stdout",
       "text": [
        "WARN  08:11:45,517 ExactAFCalculator - this tool is currently set to genotype at most 6 alternate alleles in a given context, but the context at Pf3D7_02_v3:343245 has 7 alternate alleles so only the top alleles will be used; see the --max_alternate_alleles argument \r\n",
        "WARN  08:11:45,536 ExactAFCalculator - this tool is currently set to genotype at most 6 alternate alleles in a given context, but the context at Pf3D7_02_v3:349500 has 8 alternate alleles so only the top alleles will be used; see the --max_alternate_alleles argument \r\n"
       ]
      },
      {
       "output_type": "stream",
       "stream": "stdout",
       "text": [
        "WARN  08:11:45,679 ExactAFCalculator - this tool is currently set to genotype at most 6 alternate alleles in a given context, but the context at Pf3D7_02_v3:383040 has 7 alternate alleles so only the top alleles will be used; see the --max_alternate_alleles argument \r\n"
       ]
      },
      {
       "output_type": "stream",
       "stream": "stdout",
       "text": [
        "WARN  08:11:45,720 ExactAFCalculator - this tool is currently set to genotype at most 6 alternate alleles in a given context, but the context at Pf3D7_02_v3:391188 has 7 alternate alleles so only the top alleles will be used; see the --max_alternate_alleles argument \r\n"
       ]
      },
      {
       "output_type": "stream",
       "stream": "stdout",
       "text": [
        "WARN  08:11:45,790 ExactAFCalculator - this tool is currently set to genotype at most 6 alternate alleles in a given context, but the context at Pf3D7_02_v3:401917 has 9 alternate alleles so only the top alleles will be used; see the --max_alternate_alleles argument \r\n"
       ]
      },
      {
       "output_type": "stream",
       "stream": "stdout",
       "text": [
        "WARN  08:11:45,845 ExactAFCalculator - this tool is currently set to genotype at most 6 alternate alleles in a given context, but the context at Pf3D7_02_v3:408003 has 7 alternate alleles so only the top alleles will be used; see the --max_alternate_alleles argument \r\n"
       ]
      },
      {
       "output_type": "stream",
       "stream": "stdout",
       "text": [
        "WARN  08:11:46,060 ExactAFCalculator - this tool is currently set to genotype at most 6 alternate alleles in a given context, but the context at Pf3D7_02_v3:432849 has 8 alternate alleles so only the top alleles will be used; see the --max_alternate_alleles argument \r\n"
       ]
      },
      {
       "output_type": "stream",
       "stream": "stdout",
       "text": [
        "WARN  08:11:46,258 ExactAFCalculator - this tool is currently set to genotype at most 6 alternate alleles in a given context, but the context at Pf3D7_02_v3:456502 has 8 alternate alleles so only the top alleles will be used; see the --max_alternate_alleles argument \r\n",
        "WARN  08:11:46,272 ExactAFCalculator - this tool is currently set to genotype at most 6 alternate alleles in a given context, but the context at Pf3D7_02_v3:457291 has 10 alternate alleles so only the top alleles will be used; see the --max_alternate_alleles argument \r\n"
       ]
      },
      {
       "output_type": "stream",
       "stream": "stdout",
       "text": [
        "WARN  08:11:46,304 ExactAFCalculator - this tool is currently set to genotype at most 6 alternate alleles in a given context, but the context at Pf3D7_02_v3:460966 has 9 alternate alleles so only the top alleles will be used; see the --max_alternate_alleles argument \r\n"
       ]
      },
      {
       "output_type": "stream",
       "stream": "stdout",
       "text": [
        "WARN  08:11:46,361 ExactAFCalculator - this tool is currently set to genotype at most 6 alternate alleles in a given context, but the context at Pf3D7_02_v3:469033 has 9 alternate alleles so only the top alleles will be used; see the --max_alternate_alleles argument \r\n"
       ]
      },
      {
       "output_type": "stream",
       "stream": "stdout",
       "text": [
        "WARN  08:11:46,451 ExactAFCalculator - this tool is currently set to genotype at most 6 alternate alleles in a given context, but the context at Pf3D7_02_v3:480625 has 7 alternate alleles so only the top alleles will be used; see the --max_alternate_alleles argument \r\n"
       ]
      },
      {
       "output_type": "stream",
       "stream": "stdout",
       "text": [
        "WARN  08:11:46,563 ExactAFCalculator - this tool is currently set to genotype at most 6 alternate alleles in a given context, but the context at Pf3D7_02_v3:493177 has 8 alternate alleles so only the top alleles will be used; see the --max_alternate_alleles argument \r\n"
       ]
      },
      {
       "output_type": "stream",
       "stream": "stdout",
       "text": [
        "WARN  08:11:46,568 ExactAFCalculator - this tool is currently set to genotype at most 6 alternate alleles in a given context, but the context at Pf3D7_02_v3:494318 has 13 alternate alleles so only the top alleles will be used; see the --max_alternate_alleles argument \r\n",
        "WARN  08:11:46,578 ExactAFCalculator - this tool is currently set to genotype at most 6 alternate alleles in a given context, but the context at Pf3D7_02_v3:495105 has 8 alternate alleles so only the top alleles will be used; see the --max_alternate_alleles argument \r\n"
       ]
      },
      {
       "output_type": "stream",
       "stream": "stdout",
       "text": [
        "WARN  08:11:46,958 ExactAFCalculator - this tool is currently set to genotype at most 6 alternate alleles in a given context, but the context at Pf3D7_02_v3:555353 has 9 alternate alleles so only the top alleles will be used; see the --max_alternate_alleles argument \r\n"
       ]
      },
      {
       "output_type": "stream",
       "stream": "stdout",
       "text": [
        "WARN  08:11:46,999 ExactAFCalculator - this tool is currently set to genotype at most 6 alternate alleles in a given context, but the context at Pf3D7_02_v3:561040 has 8 alternate alleles so only the top alleles will be used; see the --max_alternate_alleles argument \r\n",
        "WARN  08:11:47,040 ExactAFCalculator - this tool is currently set to genotype at most 6 alternate alleles in a given context, but the context at Pf3D7_02_v3:569096 has 9 alternate alleles so only the top alleles will be used; see the --max_alternate_alleles argument \r\n"
       ]
      },
      {
       "output_type": "stream",
       "stream": "stdout",
       "text": [
        "WARN  08:11:47,041 ExactAFCalculator - this tool is currently set to genotype at most 6 alternate alleles in a given context, but the context at Pf3D7_02_v3:569119 has 10 alternate alleles so only the top alleles will be used; see the --max_alternate_alleles argument \r\n"
       ]
      },
      {
       "output_type": "stream",
       "stream": "stdout",
       "text": [
        "WARN  08:11:47,173 ExactAFCalculator - this tool is currently set to genotype at most 6 alternate alleles in a given context, but the context at Pf3D7_02_v3:591438 has 10 alternate alleles so only the top alleles will be used; see the --max_alternate_alleles argument \r\n"
       ]
      },
      {
       "output_type": "stream",
       "stream": "stdout",
       "text": [
        "WARN  08:11:47,214 ExactAFCalculator - this tool is currently set to genotype at most 6 alternate alleles in a given context, but the context at Pf3D7_02_v3:599926 has 8 alternate alleles so only the top alleles will be used; see the --max_alternate_alleles argument \r\n",
        "WARN  08:11:47,254 ExactAFCalculator - this tool is currently set to genotype at most 6 alternate alleles in a given context, but the context at Pf3D7_02_v3:605297 has 7 alternate alleles so only the top alleles will be used; see the --max_alternate_alleles argument \r\n"
       ]
      },
      {
       "output_type": "stream",
       "stream": "stdout",
       "text": [
        "WARN  08:11:47,320 ExactAFCalculator - this tool is currently set to genotype at most 6 alternate alleles in a given context, but the context at Pf3D7_02_v3:616503 has 7 alternate alleles so only the top alleles will be used; see the --max_alternate_alleles argument \r\n",
        "WARN  08:11:47,355 ExactAFCalculator - this tool is currently set to genotype at most 6 alternate alleles in a given context, but the context at Pf3D7_02_v3:622865 has 8 alternate alleles so only the top alleles will be used; see the --max_alternate_alleles argument \r\n"
       ]
      },
      {
       "output_type": "stream",
       "stream": "stdout",
       "text": [
        "WARN  08:11:47,380 ExactAFCalculator - this tool is currently set to genotype at most 6 alternate alleles in a given context, but the context at Pf3D7_02_v3:626451 has 9 alternate alleles so only the top alleles will be used; see the --max_alternate_alleles argument \r\n",
        "WARN  08:11:47,400 ExactAFCalculator - this tool is currently set to genotype at most 6 alternate alleles in a given context, but the context at Pf3D7_02_v3:631347 has 13 alternate alleles so only the top alleles will be used; see the --max_alternate_alleles argument \r\n"
       ]
      },
      {
       "output_type": "stream",
       "stream": "stdout",
       "text": [
        "WARN  08:11:47,427 ExactAFCalculator - this tool is currently set to genotype at most 6 alternate alleles in a given context, but the context at Pf3D7_02_v3:634062 has 7 alternate alleles so only the top alleles will be used; see the --max_alternate_alleles argument \r\n",
        "WARN  08:11:47,451 ExactAFCalculator - this tool is currently set to genotype at most 6 alternate alleles in a given context, but the context at Pf3D7_02_v3:638147 has 8 alternate alleles so only the top alleles will be used; see the --max_alternate_alleles argument \r\n"
       ]
      },
      {
       "output_type": "stream",
       "stream": "stdout",
       "text": [
        "WARN  08:11:47,467 ExactAFCalculator - this tool is currently set to genotype at most 6 alternate alleles in a given context, but the context at Pf3D7_02_v3:639752 has 7 alternate alleles so only the top alleles will be used; see the --max_alternate_alleles argument \r\n",
        "WARN  08:11:47,493 ExactAFCalculator - this tool is currently set to genotype at most 6 alternate alleles in a given context, but the context at Pf3D7_02_v3:644738 has 7 alternate alleles so only the top alleles will be used; see the --max_alternate_alleles argument \r\n"
       ]
      },
      {
       "output_type": "stream",
       "stream": "stdout",
       "text": [
        "WARN  08:11:47,588 ExactAFCalculator - this tool is currently set to genotype at most 6 alternate alleles in a given context, but the context at Pf3D7_02_v3:658277 has 7 alternate alleles so only the top alleles will be used; see the --max_alternate_alleles argument \r\n",
        "WARN  08:11:47,604 ExactAFCalculator - this tool is currently set to genotype at most 6 alternate alleles in a given context, but the context at Pf3D7_02_v3:664926 has 7 alternate alleles so only the top alleles will be used; see the --max_alternate_alleles argument \r\n"
       ]
      },
      {
       "output_type": "stream",
       "stream": "stdout",
       "text": [
        "WARN  08:11:47,763 ExactAFCalculator - this tool is currently set to genotype at most 6 alternate alleles in a given context, but the context at Pf3D7_02_v3:699572 has 7 alternate alleles so only the top alleles will be used; see the --max_alternate_alleles argument \r\n"
       ]
      },
      {
       "output_type": "stream",
       "stream": "stdout",
       "text": [
        "WARN  08:11:47,776 ExactAFCalculator - this tool is currently set to genotype at most 6 alternate alleles in a given context, but the context at Pf3D7_02_v3:700841 has 7 alternate alleles so only the top alleles will be used; see the --max_alternate_alleles argument \r\n",
        "WARN  08:11:47,780 ExactAFCalculator - this tool is currently set to genotype at most 6 alternate alleles in a given context, but the context at Pf3D7_02_v3:701075 has 12 alternate alleles so only the top alleles will be used; see the --max_alternate_alleles argument \r\n",
        "WARN  08:11:47,794 ExactAFCalculator - this tool is currently set to genotype at most 6 alternate alleles in a given context, but the context at Pf3D7_02_v3:703268 has 9 alternate alleles so only the top alleles will be used; see the --max_alternate_alleles argument \r\n"
       ]
      },
      {
       "output_type": "stream",
       "stream": "stdout",
       "text": [
        "WARN  08:11:47,943 ExactAFCalculator - this tool is currently set to genotype at most 6 alternate alleles in a given context, but the context at Pf3D7_02_v3:731450 has 7 alternate alleles so only the top alleles will be used; see the --max_alternate_alleles argument \r\n",
        "WARN  08:11:47,960 ExactAFCalculator - this tool is currently set to genotype at most 6 alternate alleles in a given context, but the context at Pf3D7_02_v3:734601 has 7 alternate alleles so only the top alleles will be used; see the --max_alternate_alleles argument \r\n"
       ]
      },
      {
       "output_type": "stream",
       "stream": "stdout",
       "text": [
        "WARN  08:11:48,204 ExactAFCalculator - this tool is currently set to genotype at most 6 alternate alleles in a given context, but the context at Pf3D7_02_v3:772884 has 7 alternate alleles so only the top alleles will be used; see the --max_alternate_alleles argument \r\n"
       ]
      },
      {
       "output_type": "stream",
       "stream": "stdout",
       "text": [
        "WARN  08:11:48,250 ExactAFCalculator - this tool is currently set to genotype at most 6 alternate alleles in a given context, but the context at Pf3D7_02_v3:779231 has 11 alternate alleles so only the top alleles will be used; see the --max_alternate_alleles argument \r\n",
        "WARN  08:11:48,294 ExactAFCalculator - this tool is currently set to genotype at most 6 alternate alleles in a given context, but the context at Pf3D7_02_v3:788153 has 8 alternate alleles so only the top alleles will be used; see the --max_alternate_alleles argument \r\n"
       ]
      },
      {
       "output_type": "stream",
       "stream": "stdout",
       "text": [
        "WARN  08:11:48,310 ExactAFCalculator - this tool is currently set to genotype at most 6 alternate alleles in a given context, but the context at Pf3D7_02_v3:789905 has 7 alternate alleles so only the top alleles will be used; see the --max_alternate_alleles argument \r\n"
       ]
      },
      {
       "output_type": "stream",
       "stream": "stdout",
       "text": [
        "WARN  08:11:48,519 ExactAFCalculator - this tool is currently set to genotype at most 6 alternate alleles in a given context, but the context at Pf3D7_02_v3:820526 has 7 alternate alleles so only the top alleles will be used; see the --max_alternate_alleles argument \r\n"
       ]
      },
      {
       "output_type": "stream",
       "stream": "stdout",
       "text": [
        "WARN  08:11:48,617 ExactAFCalculator - this tool is currently set to genotype at most 6 alternate alleles in a given context, but the context at Pf3D7_02_v3:838096 has 7 alternate alleles so only the top alleles will be used; see the --max_alternate_alleles argument \r\n"
       ]
      },
      {
       "output_type": "stream",
       "stream": "stdout",
       "text": [
        "WARN  08:11:48,648 ExactAFCalculator - this tool is currently set to genotype at most 6 alternate alleles in a given context, but the context at Pf3D7_02_v3:842535 has 8 alternate alleles so only the top alleles will be used; see the --max_alternate_alleles argument \r\n"
       ]
      },
      {
       "output_type": "stream",
       "stream": "stdout",
       "text": [
        "WARN  08:11:48,808 ExactAFCalculator - this tool is currently set to genotype at most 6 alternate alleles in a given context, but the context at Pf3D7_02_v3:865839 has 8 alternate alleles so only the top alleles will be used; see the --max_alternate_alleles argument \r\n"
       ]
      },
      {
       "output_type": "stream",
       "stream": "stdout",
       "text": [
        "WARN  08:11:49,018 ExactAFCalculator - this tool is currently set to genotype at most 6 alternate alleles in a given context, but the context at Pf3D7_02_v3:892630 has 10 alternate alleles so only the top alleles will be used; see the --max_alternate_alleles argument \r\n",
        "WARN  08:11:49,027 ExactAFCalculator - this tool is currently set to genotype at most 6 alternate alleles in a given context, but the context at Pf3D7_02_v3:893024 has 7 alternate alleles so only the top alleles will be used; see the --max_alternate_alleles argument \r\n"
       ]
      },
      {
       "output_type": "stream",
       "stream": "stdout",
       "text": [
        "INFO  08:11:49,946 ProgressMeter -            done    947102.0    14.0 s      14.0 s        7.0%     3.3 m       3.1 m \r\n",
        "INFO  08:11:49,947 ProgressMeter - Total runtime 14.01 secs, 0.23 min, 0.00 hours \r\n"
       ]
      },
      {
       "output_type": "stream",
       "stream": "stdout",
       "text": [
        "INFO  08:11:56,166 HttpMethodBase - 100 (continue) read timeout. Resume sending the request \r\n"
       ]
      },
      {
       "output_type": "stream",
       "stream": "stdout",
       "text": [
        "INFO  08:12:01,128 HttpMethodBase - Discarding unexpected response: HTTP/1.1 100 Continue \r\n"
       ]
      },
      {
       "output_type": "stream",
       "stream": "stdout",
       "text": [
        "INFO  08:12:01,224 GATKRunReport - Uploaded run statistics report to AWS S3 \r\n"
       ]
      },
      {
       "output_type": "stream",
       "stream": "stdout",
       "text": [
        "INFO  08:12:03,512 HelpFormatter - -------------------------------------------------------------------------------- \r\n",
        "INFO  08:12:03,514 HelpFormatter - The Genome Analysis Toolkit (GATK) v3.4-0-g7e26428, Compiled 2015/05/15 03:25:41 \r\n",
        "INFO  08:12:03,515 HelpFormatter - Copyright (c) 2010 The Broad Institute \r\n",
        "INFO  08:12:03,515 HelpFormatter - For support and documentation go to http://www.broadinstitute.org/gatk \r\n",
        "INFO  08:12:03,519 HelpFormatter - Program Args: -T CombineGVCFs -R /data/plasmodium/pfalciparum/recon/roamato/Pf3D7_v3/3D7_sorted.fa --variant /nfs/team112_internal/production_files/Pf3k/methods/assembled_samples/vcfs/gvcf/lists/gvcfs.Pf3D7_03_v3.0.list -o /nfs/team112_internal/production_files/Pf3k/methods/assembled_samples/vcfs/gvcf/combined_gvcf/combined.Pf3D7_03_v3.0.g.vcf \r\n"
       ]
      },
      {
       "output_type": "stream",
       "stream": "stdout",
       "text": [
        "INFO  08:12:03,528 HelpFormatter - Executing as rpearson@dhcp511.well.ox.ac.uk on Mac OS X 10.10.3 x86_64; Java HotSpot(TM) 64-Bit Server VM 1.7.0_60-b19. \r\n",
        "INFO  08:12:03,529 HelpFormatter - Date/Time: 2015/07/01 08:12:03 \r\n",
        "INFO  08:12:03,529 HelpFormatter - -------------------------------------------------------------------------------- \r\n",
        "INFO  08:12:03,529 HelpFormatter - -------------------------------------------------------------------------------- \r\n"
       ]
      },
      {
       "output_type": "stream",
       "stream": "stdout",
       "text": [
        "INFO  08:12:04,056 GenomeAnalysisEngine - Strictness is SILENT \r\n"
       ]
      },
      {
       "output_type": "stream",
       "stream": "stdout",
       "text": [
        "INFO  08:12:04,131 GenomeAnalysisEngine - Downsampling Settings: Method: BY_SAMPLE, Target Coverage: 1000 \r\n"
       ]
      },
      {
       "output_type": "stream",
       "stream": "stdout",
       "text": [
        "INFO  08:12:04,314 GenomeAnalysisEngine - Preparing for traversal \r\n",
        "INFO  08:12:04,316 GenomeAnalysisEngine - Done preparing for traversal \r\n",
        "INFO  08:12:04,316 ProgressMeter - [INITIALIZATION COMPLETE; STARTING PROCESSING] \r\n",
        "INFO  08:12:04,317 ProgressMeter -                 | processed |    time |    per 1M |           |   total | remaining \r\n",
        "INFO  08:12:04,317 ProgressMeter -        Location |     sites | elapsed |     sites | completed | runtime |   runtime \r\n"
       ]
      },
      {
       "output_type": "stream",
       "stream": "stdout",
       "text": [
        "INFO  08:12:14,222 ProgressMeter -            done   1067971.0     9.0 s       9.0 s       11.6%    77.0 s      68.0 s \r\n",
        "INFO  08:12:14,222 ProgressMeter - Total runtime 9.91 secs, 0.17 min, 0.00 hours \r\n"
       ]
      },
      {
       "output_type": "stream",
       "stream": "stdout",
       "text": [
        "INFO  08:12:18,904 GATKRunReport - Uploaded run statistics report to AWS S3 \r\n"
       ]
      },
      {
       "output_type": "stream",
       "stream": "stdout",
       "text": [
        "INFO  08:12:21,177 HelpFormatter - -------------------------------------------------------------------------------- \r\n",
        "INFO  08:12:21,180 HelpFormatter - The Genome Analysis Toolkit (GATK) v3.4-0-g7e26428, Compiled 2015/05/15 03:25:41 \r\n",
        "INFO  08:12:21,180 HelpFormatter - Copyright (c) 2010 The Broad Institute \r\n",
        "INFO  08:12:21,181 HelpFormatter - For support and documentation go to http://www.broadinstitute.org/gatk \r\n",
        "INFO  08:12:21,185 HelpFormatter - Program Args: -T CombineGVCFs -R /data/plasmodium/pfalciparum/recon/roamato/Pf3D7_v3/3D7_sorted.fa --variant /nfs/team112_internal/production_files/Pf3k/methods/assembled_samples/vcfs/gvcf/lists/gvcfs.Pf3D7_03_v3.1.list -o /nfs/team112_internal/production_files/Pf3k/methods/assembled_samples/vcfs/gvcf/combined_gvcf/combined.Pf3D7_03_v3.1.g.vcf \r\n"
       ]
      },
      {
       "output_type": "stream",
       "stream": "stdout",
       "text": [
        "INFO  08:12:21,564 HelpFormatter - Executing as rpearson@dhcp511.well.ox.ac.uk on Mac OS X 10.10.3 x86_64; Java HotSpot(TM) 64-Bit Server VM 1.7.0_60-b19. \r\n",
        "INFO  08:12:21,565 HelpFormatter - Date/Time: 2015/07/01 08:12:21 \r\n",
        "INFO  08:12:21,565 HelpFormatter - -------------------------------------------------------------------------------- \r\n",
        "INFO  08:12:21,565 HelpFormatter - -------------------------------------------------------------------------------- \r\n"
       ]
      },
      {
       "output_type": "stream",
       "stream": "stdout",
       "text": [
        "INFO  08:12:22,067 GenomeAnalysisEngine - Strictness is SILENT \r\n"
       ]
      },
      {
       "output_type": "stream",
       "stream": "stdout",
       "text": [
        "INFO  08:12:22,142 GenomeAnalysisEngine - Downsampling Settings: Method: BY_SAMPLE, Target Coverage: 1000 \r\n"
       ]
      },
      {
       "output_type": "stream",
       "stream": "stdout",
       "text": [
        "INFO  08:12:22,327 GenomeAnalysisEngine - Preparing for traversal \r\n",
        "INFO  08:12:22,328 GenomeAnalysisEngine - Done preparing for traversal \r\n",
        "INFO  08:12:22,329 ProgressMeter - [INITIALIZATION COMPLETE; STARTING PROCESSING] \r\n",
        "INFO  08:12:22,329 ProgressMeter -                 | processed |    time |    per 1M |           |   total | remaining \r\n",
        "INFO  08:12:22,330 ProgressMeter -        Location |     sites | elapsed |     sites | completed | runtime |   runtime \r\n"
       ]
      },
      {
       "output_type": "stream",
       "stream": "stdout",
       "text": [
        "INFO  08:12:30,643 ProgressMeter -            done   1067971.0     8.0 s       7.0 s       11.6%    69.0 s      61.0 s \r\n",
        "INFO  08:12:30,643 ProgressMeter - Total runtime 8.31 secs, 0.14 min, 0.00 hours \r\n"
       ]
      },
      {
       "output_type": "stream",
       "stream": "stdout",
       "text": [
        "INFO  08:12:34,160 GATKRunReport - Uploaded run statistics report to AWS S3 \r\n"
       ]
      },
      {
       "output_type": "stream",
       "stream": "stdout",
       "text": [
        "INFO  08:12:35,840 HelpFormatter - -------------------------------------------------------------------------------- \r\n",
        "INFO  08:12:35,842 HelpFormatter - The Genome Analysis Toolkit (GATK) v3.4-0-g7e26428, Compiled 2015/05/15 03:25:41 \r\n",
        "INFO  08:12:35,842 HelpFormatter - Copyright (c) 2010 The Broad Institute \r\n",
        "INFO  08:12:35,842 HelpFormatter - For support and documentation go to http://www.broadinstitute.org/gatk \r\n",
        "INFO  08:12:35,845 HelpFormatter - Program Args: -T GenotypeGVCFs -R /data/plasmodium/pfalciparum/recon/roamato/Pf3D7_v3/3D7_sorted.fa --variant /nfs/team112_internal/production_files/Pf3k/methods/assembled_samples/vcfs/gvcf/lists/gvcfs.Pf3D7_03_v3.all.list -o /nfs/team112_internal/production_files/Pf3k/methods/assembled_samples/vcfs/vcf/raw.snps.indels.Pf3D7_03_v3.vcf \r\n",
        "INFO  08:12:35,851 HelpFormatter - Executing as rpearson@dhcp511.well.ox.ac.uk on Mac OS X 10.10.3 x86_64; Java HotSpot(TM) 64-Bit Server VM 1.7.0_60-b19. \r\n",
        "INFO  08:12:35,852 HelpFormatter - Date/Time: 2015/07/01 08:12:35 \r\n",
        "INFO  08:12:35,852 HelpFormatter - -------------------------------------------------------------------------------- \r\n",
        "INFO  08:12:35,852 HelpFormatter - -------------------------------------------------------------------------------- \r\n"
       ]
      },
      {
       "output_type": "stream",
       "stream": "stdout",
       "text": [
        "INFO  08:12:36,257 GenomeAnalysisEngine - Strictness is SILENT \r\n"
       ]
      },
      {
       "output_type": "stream",
       "stream": "stdout",
       "text": [
        "INFO  08:12:36,315 GenomeAnalysisEngine - Downsampling Settings: Method: BY_SAMPLE, Target Coverage: 1000 \r\n"
       ]
      },
      {
       "output_type": "stream",
       "stream": "stdout",
       "text": [
        "INFO  08:12:36,432 GenomeAnalysisEngine - Preparing for traversal \r\n",
        "INFO  08:12:36,432 GenomeAnalysisEngine - Done preparing for traversal \r\n",
        "INFO  08:12:36,433 ProgressMeter - [INITIALIZATION COMPLETE; STARTING PROCESSING] \r\n",
        "INFO  08:12:36,433 ProgressMeter -                 | processed |    time |    per 1M |           |   total | remaining \r\n",
        "INFO  08:12:36,433 ProgressMeter -        Location |     sites | elapsed |     sites | completed | runtime |   runtime \r\n"
       ]
      },
      {
       "output_type": "stream",
       "stream": "stdout",
       "text": [
        "INFO  08:12:36,513 GenotypeGVCFs - Notice that the -ploidy parameter is ignored in GenotypeGVCFs tool as this is automatically determined by the input variant files \r\n"
       ]
      },
      {
       "output_type": "stream",
       "stream": "stdout",
       "text": [
        "WARN  08:12:42,563 ExactAFCalculator - this tool is currently set to genotype at most 6 alternate alleles in a given context, but the context at Pf3D7_03_v3:75995 has 9 alternate alleles so only the top alleles will be used; see the --max_alternate_alleles argument \r\n"
       ]
      },
      {
       "output_type": "stream",
       "stream": "stdout",
       "text": [
        "WARN  08:12:42,599 ExactAFCalculator - this tool is currently set to genotype at most 6 alternate alleles in a given context, but the context at Pf3D7_03_v3:80092 has 7 alternate alleles so only the top alleles will be used; see the --max_alternate_alleles argument \r\n"
       ]
      },
      {
       "output_type": "stream",
       "stream": "stdout",
       "text": [
        "WARN  08:12:42,916 ExactAFCalculator - this tool is currently set to genotype at most 6 alternate alleles in a given context, but the context at Pf3D7_03_v3:112801 has 7 alternate alleles so only the top alleles will be used; see the --max_alternate_alleles argument \r\n"
       ]
      },
      {
       "output_type": "stream",
       "stream": "stdout",
       "text": [
        "WARN  08:12:43,281 ExactAFCalculator - this tool is currently set to genotype at most 6 alternate alleles in a given context, but the context at Pf3D7_03_v3:179770 has 8 alternate alleles so only the top alleles will be used; see the --max_alternate_alleles argument \r\n",
        "WARN  08:12:43,282 ExactAFCalculator - this tool is currently set to genotype at most 6 alternate alleles in a given context, but the context at Pf3D7_03_v3:179793 has 10 alternate alleles so only the top alleles will be used; see the --max_alternate_alleles argument \r\n",
        "WARN  08:12:43,286 ExactAFCalculator - this tool is currently set to genotype at most 6 alternate alleles in a given context, but the context at Pf3D7_03_v3:180648 has 8 alternate alleles so only the top alleles will be used; see the --max_alternate_alleles argument \r\n",
        "WARN  08:12:43,294 ExactAFCalculator - this tool is currently set to genotype at most 6 alternate alleles in a given context, but the context at Pf3D7_03_v3:182172 has 8 alternate alleles so only the top alleles will be used; see the --max_alternate_alleles argument \r\n",
        "WARN  08:12:43,321 ExactAFCalculator - this tool is currently set to genotype at most 6 alternate alleles in a given context, but the context at Pf3D7_03_v3:192664 has 7 alternate alleles so only the top alleles will be used; see the --max_alternate_alleles argument \r\n"
       ]
      },
      {
       "output_type": "stream",
       "stream": "stdout",
       "text": [
        "WARN  08:12:43,353 ExactAFCalculator - this tool is currently set to genotype at most 6 alternate alleles in a given context, but the context at Pf3D7_03_v3:202538 has 7 alternate alleles so only the top alleles will be used; see the --max_alternate_alleles argument \r\n",
        "WARN  08:12:43,356 ExactAFCalculator - this tool is currently set to genotype at most 6 alternate alleles in a given context, but the context at Pf3D7_03_v3:203059 has 8 alternate alleles so only the top alleles will be used; see the --max_alternate_alleles argument \r\n",
        "WARN  08:12:43,371 ExactAFCalculator - this tool is currently set to genotype at most 6 alternate alleles in a given context, but the context at Pf3D7_03_v3:206555 has 7 alternate alleles so only the top alleles will be used; see the --max_alternate_alleles argument \r\n"
       ]
      },
      {
       "output_type": "stream",
       "stream": "stdout",
       "text": [
        "WARN  08:12:43,397 ExactAFCalculator - this tool is currently set to genotype at most 6 alternate alleles in a given context, but the context at Pf3D7_03_v3:210933 has 7 alternate alleles so only the top alleles will be used; see the --max_alternate_alleles argument \r\n",
        "WARN  08:12:43,399 ExactAFCalculator - this tool is currently set to genotype at most 6 alternate alleles in a given context, but the context at Pf3D7_03_v3:211353 has 7 alternate alleles so only the top alleles will be used; see the --max_alternate_alleles argument \r\n",
        "WARN  08:12:43,426 ExactAFCalculator - this tool is currently set to genotype at most 6 alternate alleles in a given context, but the context at Pf3D7_03_v3:220715 has 7 alternate alleles so only the top alleles will be used; see the --max_alternate_alleles argument \r\n"
       ]
      },
      {
       "output_type": "stream",
       "stream": "stdout",
       "text": [
        "WARN  08:12:43,475 ExactAFCalculator - this tool is currently set to genotype at most 6 alternate alleles in a given context, but the context at Pf3D7_03_v3:234240 has 7 alternate alleles so only the top alleles will be used; see the --max_alternate_alleles argument \r\n"
       ]
      },
      {
       "output_type": "stream",
       "stream": "stdout",
       "text": [
        "WARN  08:12:43,522 ExactAFCalculator - this tool is currently set to genotype at most 6 alternate alleles in a given context, but the context at Pf3D7_03_v3:254730 has 7 alternate alleles so only the top alleles will be used; see the --max_alternate_alleles argument \r\n",
        "WARN  08:12:43,524 ExactAFCalculator - this tool is currently set to genotype at most 6 alternate alleles in a given context, but the context at Pf3D7_03_v3:255196 has 7 alternate alleles so only the top alleles will be used; see the --max_alternate_alleles argument \r\n"
       ]
      },
      {
       "output_type": "stream",
       "stream": "stdout",
       "text": [
        "WARN  08:12:43,674 ExactAFCalculator - this tool is currently set to genotype at most 6 alternate alleles in a given context, but the context at Pf3D7_03_v3:296839 has 7 alternate alleles so only the top alleles will be used; see the --max_alternate_alleles argument \r\n"
       ]
      },
      {
       "output_type": "stream",
       "stream": "stdout",
       "text": [
        "WARN  08:12:43,689 ExactAFCalculator - this tool is currently set to genotype at most 6 alternate alleles in a given context, but the context at Pf3D7_03_v3:300915 has 7 alternate alleles so only the top alleles will be used; see the --max_alternate_alleles argument \r\n",
        "WARN  08:12:43,711 ExactAFCalculator - this tool is currently set to genotype at most 6 alternate alleles in a given context, but the context at Pf3D7_03_v3:305271 has 7 alternate alleles so only the top alleles will be used; see the --max_alternate_alleles argument \r\n"
       ]
      },
      {
       "output_type": "stream",
       "stream": "stdout",
       "text": [
        "WARN  08:12:43,741 ExactAFCalculator - this tool is currently set to genotype at most 6 alternate alleles in a given context, but the context at Pf3D7_03_v3:311476 has 7 alternate alleles so only the top alleles will be used; see the --max_alternate_alleles argument \r\n"
       ]
      },
      {
       "output_type": "stream",
       "stream": "stdout",
       "text": [
        "WARN  08:12:43,811 ExactAFCalculator - this tool is currently set to genotype at most 6 alternate alleles in a given context, but the context at Pf3D7_03_v3:328431 has 7 alternate alleles so only the top alleles will be used; see the --max_alternate_alleles argument \r\n"
       ]
      },
      {
       "output_type": "stream",
       "stream": "stdout",
       "text": [
        "WARN  08:12:43,851 ExactAFCalculator - this tool is currently set to genotype at most 6 alternate alleles in a given context, but the context at Pf3D7_03_v3:337127 has 9 alternate alleles so only the top alleles will be used; see the --max_alternate_alleles argument \r\n"
       ]
      },
      {
       "output_type": "stream",
       "stream": "stdout",
       "text": [
        "WARN  08:12:43,916 ExactAFCalculator - this tool is currently set to genotype at most 6 alternate alleles in a given context, but the context at Pf3D7_03_v3:356194 has 8 alternate alleles so only the top alleles will be used; see the --max_alternate_alleles argument \r\n"
       ]
      },
      {
       "output_type": "stream",
       "stream": "stdout",
       "text": [
        "WARN  08:12:43,965 ExactAFCalculator - this tool is currently set to genotype at most 6 alternate alleles in a given context, but the context at Pf3D7_03_v3:368214 has 8 alternate alleles so only the top alleles will be used; see the --max_alternate_alleles argument \r\n",
        "WARN  08:12:43,977 ExactAFCalculator - this tool is currently set to genotype at most 6 alternate alleles in a given context, but the context at Pf3D7_03_v3:370189 has 7 alternate alleles so only the top alleles will be used; see the --max_alternate_alleles argument \r\n"
       ]
      },
      {
       "output_type": "stream",
       "stream": "stdout",
       "text": [
        "WARN  08:12:44,009 ExactAFCalculator - this tool is currently set to genotype at most 6 alternate alleles in a given context, but the context at Pf3D7_03_v3:377966 has 13 alternate alleles so only the top alleles will be used; see the --max_alternate_alleles argument \r\n",
        "WARN  08:12:44,029 ExactAFCalculator - this tool is currently set to genotype at most 6 alternate alleles in a given context, but the context at Pf3D7_03_v3:384293 has 7 alternate alleles so only the top alleles will be used; see the --max_alternate_alleles argument \r\n",
        "WARN  08:12:44,055 ExactAFCalculator - this tool is currently set to genotype at most 6 alternate alleles in a given context, but the context at Pf3D7_03_v3:388216 has 7 alternate alleles so only the top alleles will be used; see the --max_alternate_alleles argument \r\n"
       ]
      },
      {
       "output_type": "stream",
       "stream": "stdout",
       "text": [
        "WARN  08:12:44,064 ExactAFCalculator - this tool is currently set to genotype at most 6 alternate alleles in a given context, but the context at Pf3D7_03_v3:389007 has 7 alternate alleles so only the top alleles will be used; see the --max_alternate_alleles argument \r\n",
        "WARN  08:12:44,067 ExactAFCalculator - this tool is currently set to genotype at most 6 alternate alleles in a given context, but the context at Pf3D7_03_v3:389264 has 8 alternate alleles so only the top alleles will be used; see the --max_alternate_alleles argument \r\n"
       ]
      },
      {
       "output_type": "stream",
       "stream": "stdout",
       "text": [
        "WARN  08:12:44,126 ExactAFCalculator - this tool is currently set to genotype at most 6 alternate alleles in a given context, but the context at Pf3D7_03_v3:401182 has 8 alternate alleles so only the top alleles will be used; see the --max_alternate_alleles argument \r\n"
       ]
      },
      {
       "output_type": "stream",
       "stream": "stdout",
       "text": [
        "WARN  08:12:44,186 ExactAFCalculator - this tool is currently set to genotype at most 6 alternate alleles in a given context, but the context at Pf3D7_03_v3:412444 has 10 alternate alleles so only the top alleles will be used; see the --max_alternate_alleles argument \r\n",
        "WARN  08:12:44,196 ExactAFCalculator - this tool is currently set to genotype at most 6 alternate alleles in a given context, but the context at Pf3D7_03_v3:414124 has 7 alternate alleles so only the top alleles will be used; see the --max_alternate_alleles argument \r\n",
        "WARN  08:12:44,207 ExactAFCalculator - this tool is currently set to genotype at most 6 alternate alleles in a given context, but the context at Pf3D7_03_v3:419554 has 9 alternate alleles so only the top alleles will be used; see the --max_alternate_alleles argument \r\n"
       ]
      },
      {
       "output_type": "stream",
       "stream": "stdout",
       "text": [
        "WARN  08:12:44,317 ExactAFCalculator - this tool is currently set to genotype at most 6 alternate alleles in a given context, but the context at Pf3D7_03_v3:441463 has 12 alternate alleles so only the top alleles will be used; see the --max_alternate_alleles argument \r\n"
       ]
      },
      {
       "output_type": "stream",
       "stream": "stdout",
       "text": [
        "WARN  08:12:44,371 ExactAFCalculator - this tool is currently set to genotype at most 6 alternate alleles in a given context, but the context at Pf3D7_03_v3:452248 has 9 alternate alleles so only the top alleles will be used; see the --max_alternate_alleles argument \r\n"
       ]
      },
      {
       "output_type": "stream",
       "stream": "stdout",
       "text": [
        "WARN  08:12:44,473 ExactAFCalculator - this tool is currently set to genotype at most 6 alternate alleles in a given context, but the context at Pf3D7_03_v3:470184 has 8 alternate alleles so only the top alleles will be used; see the --max_alternate_alleles argument \r\n"
       ]
      },
      {
       "output_type": "stream",
       "stream": "stdout",
       "text": [
        "WARN  08:12:44,509 ExactAFCalculator - this tool is currently set to genotype at most 6 alternate alleles in a given context, but the context at Pf3D7_03_v3:474661 has 9 alternate alleles so only the top alleles will be used; see the --max_alternate_alleles argument \r\n"
       ]
      },
      {
       "output_type": "stream",
       "stream": "stdout",
       "text": [
        "WARN  08:12:44,626 ExactAFCalculator - this tool is currently set to genotype at most 6 alternate alleles in a given context, but the context at Pf3D7_03_v3:496766 has 7 alternate alleles so only the top alleles will be used; see the --max_alternate_alleles argument \r\n"
       ]
      },
      {
       "output_type": "stream",
       "stream": "stdout",
       "text": [
        "WARN  08:12:44,683 ExactAFCalculator - this tool is currently set to genotype at most 6 alternate alleles in a given context, but the context at Pf3D7_03_v3:504504 has 7 alternate alleles so only the top alleles will be used; see the --max_alternate_alleles argument \r\n"
       ]
      },
      {
       "output_type": "stream",
       "stream": "stdout",
       "text": [
        "WARN  08:12:44,874 ExactAFCalculator - this tool is currently set to genotype at most 6 alternate alleles in a given context, but the context at Pf3D7_03_v3:527468 has 7 alternate alleles so only the top alleles will be used; see the --max_alternate_alleles argument \r\n"
       ]
      },
      {
       "output_type": "stream",
       "stream": "stdout",
       "text": [
        "WARN  08:12:44,909 ExactAFCalculator - this tool is currently set to genotype at most 6 alternate alleles in a given context, but the context at Pf3D7_03_v3:531643 has 7 alternate alleles so only the top alleles will be used; see the --max_alternate_alleles argument \r\n",
        "WARN  08:12:44,919 ExactAFCalculator - this tool is currently set to genotype at most 6 alternate alleles in a given context, but the context at Pf3D7_03_v3:532489 has 7 alternate alleles so only the top alleles will be used; see the --max_alternate_alleles argument \r\n",
        "WARN  08:12:44,933 ExactAFCalculator - this tool is currently set to genotype at most 6 alternate alleles in a given context, but the context at Pf3D7_03_v3:533691 has 7 alternate alleles so only the top alleles will be used; see the --max_alternate_alleles argument \r\n"
       ]
      },
      {
       "output_type": "stream",
       "stream": "stdout",
       "text": [
        "WARN  08:12:45,002 ExactAFCalculator - this tool is currently set to genotype at most 6 alternate alleles in a given context, but the context at Pf3D7_03_v3:544013 has 7 alternate alleles so only the top alleles will be used; see the --max_alternate_alleles argument \r\n",
        "WARN  08:12:45,019 ExactAFCalculator - this tool is currently set to genotype at most 6 alternate alleles in a given context, but the context at Pf3D7_03_v3:548241 has 10 alternate alleles so only the top alleles will be used; see the --max_alternate_alleles argument \r\n",
        "WARN  08:12:45,034 ExactAFCalculator - this tool is currently set to genotype at most 6 alternate alleles in a given context, but the context at Pf3D7_03_v3:551856 has 7 alternate alleles so only the top alleles will be used; see the --max_alternate_alleles argument \r\n",
        "WARN  08:12:45,034 ExactAFCalculator - this tool is currently set to genotype at most 6 alternate alleles in a given context, but the context at Pf3D7_03_v3:551875 has 10 alternate alleles so only the top alleles will be used; see the --max_alternate_alleles argument \r\n"
       ]
      },
      {
       "output_type": "stream",
       "stream": "stdout",
       "text": [
        "WARN  08:12:45,094 ExactAFCalculator - this tool is currently set to genotype at most 6 alternate alleles in a given context, but the context at Pf3D7_03_v3:557255 has 9 alternate alleles so only the top alleles will be used; see the --max_alternate_alleles argument \r\n"
       ]
      },
      {
       "output_type": "stream",
       "stream": "stdout",
       "text": [
        "WARN  08:12:45,227 ExactAFCalculator - this tool is currently set to genotype at most 6 alternate alleles in a given context, but the context at Pf3D7_03_v3:588782 has 7 alternate alleles so only the top alleles will be used; see the --max_alternate_alleles argument \r\n"
       ]
      },
      {
       "output_type": "stream",
       "stream": "stdout",
       "text": [
        "WARN  08:12:45,326 ExactAFCalculator - this tool is currently set to genotype at most 6 alternate alleles in a given context, but the context at Pf3D7_03_v3:623100 has 8 alternate alleles so only the top alleles will be used; see the --max_alternate_alleles argument \r\n",
        "WARN  08:12:45,332 ExactAFCalculator - this tool is currently set to genotype at most 6 alternate alleles in a given context, but the context at Pf3D7_03_v3:624405 has 11 alternate alleles so only the top alleles will be used; see the --max_alternate_alleles argument \r\n",
        "WARN  08:12:45,339 ExactAFCalculator - this tool is currently set to genotype at most 6 alternate alleles in a given context, but the context at Pf3D7_03_v3:625485 has 9 alternate alleles so only the top alleles will be used; see the --max_alternate_alleles argument \r\n",
        "WARN  08:12:45,362 ExactAFCalculator - this tool is currently set to genotype at most 6 alternate alleles in a given context, but the context at Pf3D7_03_v3:631636 has 8 alternate alleles so only the top alleles will be used; see the --max_alternate_alleles argument \r\n"
       ]
      },
      {
       "output_type": "stream",
       "stream": "stdout",
       "text": [
        "WARN  08:12:45,380 ExactAFCalculator - this tool is currently set to genotype at most 6 alternate alleles in a given context, but the context at Pf3D7_03_v3:634790 has 8 alternate alleles so only the top alleles will be used; see the --max_alternate_alleles argument \r\n",
        "WARN  08:12:45,396 ExactAFCalculator - this tool is currently set to genotype at most 6 alternate alleles in a given context, but the context at Pf3D7_03_v3:637993 has 8 alternate alleles so only the top alleles will be used; see the --max_alternate_alleles argument \r\n",
        "WARN  08:12:45,422 ExactAFCalculator - this tool is currently set to genotype at most 6 alternate alleles in a given context, but the context at Pf3D7_03_v3:645850 has 8 alternate alleles so only the top alleles will be used; see the --max_alternate_alleles argument \r\n"
       ]
      },
      {
       "output_type": "stream",
       "stream": "stdout",
       "text": [
        "WARN  08:12:45,477 ExactAFCalculator - this tool is currently set to genotype at most 6 alternate alleles in a given context, but the context at Pf3D7_03_v3:659850 has 9 alternate alleles so only the top alleles will be used; see the --max_alternate_alleles argument \r\n",
        "WARN  08:12:45,504 ExactAFCalculator - this tool is currently set to genotype at most 6 alternate alleles in a given context, but the context at Pf3D7_03_v3:668418 has 9 alternate alleles so only the top alleles will be used; see the --max_alternate_alleles argument \r\n"
       ]
      },
      {
       "output_type": "stream",
       "stream": "stdout",
       "text": [
        "WARN  08:12:45,584 ExactAFCalculator - this tool is currently set to genotype at most 6 alternate alleles in a given context, but the context at Pf3D7_03_v3:683168 has 7 alternate alleles so only the top alleles will be used; see the --max_alternate_alleles argument \r\n"
       ]
      },
      {
       "output_type": "stream",
       "stream": "stdout",
       "text": [
        "WARN  08:12:45,584 ExactAFCalculator - this tool is currently set to genotype at most 6 alternate alleles in a given context, but the context at Pf3D7_03_v3:683187 has 11 alternate alleles so only the top alleles will be used; see the --max_alternate_alleles argument \r\n"
       ]
      },
      {
       "output_type": "stream",
       "stream": "stdout",
       "text": [
        "WARN  08:12:45,664 ExactAFCalculator - this tool is currently set to genotype at most 6 alternate alleles in a given context, but the context at Pf3D7_03_v3:710970 has 7 alternate alleles so only the top alleles will be used; see the --max_alternate_alleles argument \r\n"
       ]
      },
      {
       "output_type": "stream",
       "stream": "stdout",
       "text": [
        "WARN  08:12:45,785 ExactAFCalculator - this tool is currently set to genotype at most 6 alternate alleles in a given context, but the context at Pf3D7_03_v3:745561 has 7 alternate alleles so only the top alleles will be used; see the --max_alternate_alleles argument \r\n"
       ]
      },
      {
       "output_type": "stream",
       "stream": "stdout",
       "text": [
        "WARN  08:12:45,817 ExactAFCalculator - this tool is currently set to genotype at most 6 alternate alleles in a given context, but the context at Pf3D7_03_v3:756351 has 7 alternate alleles so only the top alleles will be used; see the --max_alternate_alleles argument \r\n",
        "WARN  08:12:45,836 ExactAFCalculator - this tool is currently set to genotype at most 6 alternate alleles in a given context, but the context at Pf3D7_03_v3:763102 has 7 alternate alleles so only the top alleles will be used; see the --max_alternate_alleles argument \r\n"
       ]
      },
      {
       "output_type": "stream",
       "stream": "stdout",
       "text": [
        "WARN  08:12:45,846 ExactAFCalculator - this tool is currently set to genotype at most 6 alternate alleles in a given context, but the context at Pf3D7_03_v3:765625 has 8 alternate alleles so only the top alleles will be used; see the --max_alternate_alleles argument \r\n"
       ]
      },
      {
       "output_type": "stream",
       "stream": "stdout",
       "text": [
        "WARN  08:12:45,917 ExactAFCalculator - this tool is currently set to genotype at most 6 alternate alleles in a given context, but the context at Pf3D7_03_v3:794494 has 8 alternate alleles so only the top alleles will be used; see the --max_alternate_alleles argument \r\n"
       ]
      },
      {
       "output_type": "stream",
       "stream": "stdout",
       "text": [
        "WARN  08:12:45,988 ExactAFCalculator - this tool is currently set to genotype at most 6 alternate alleles in a given context, but the context at Pf3D7_03_v3:816887 has 9 alternate alleles so only the top alleles will be used; see the --max_alternate_alleles argument \r\n"
       ]
      },
      {
       "output_type": "stream",
       "stream": "stdout",
       "text": [
        "WARN  08:12:46,011 ExactAFCalculator - this tool is currently set to genotype at most 6 alternate alleles in a given context, but the context at Pf3D7_03_v3:821297 has 11 alternate alleles so only the top alleles will be used; see the --max_alternate_alleles argument \r\n",
        "WARN  08:12:46,027 ExactAFCalculator - this tool is currently set to genotype at most 6 alternate alleles in a given context, but the context at Pf3D7_03_v3:830819 has 8 alternate alleles so only the top alleles will be used; see the --max_alternate_alleles argument \r\n"
       ]
      },
      {
       "output_type": "stream",
       "stream": "stdout",
       "text": [
        "WARN  08:12:46,098 ExactAFCalculator - this tool is currently set to genotype at most 6 alternate alleles in a given context, but the context at Pf3D7_03_v3:847354 has 7 alternate alleles so only the top alleles will be used; see the --max_alternate_alleles argument \r\n"
       ]
      },
      {
       "output_type": "stream",
       "stream": "stdout",
       "text": [
        "WARN  08:12:46,118 ExactAFCalculator - this tool is currently set to genotype at most 6 alternate alleles in a given context, but the context at Pf3D7_03_v3:858806 has 7 alternate alleles so only the top alleles will be used; see the --max_alternate_alleles argument \r\n",
        "WARN  08:12:46,121 ExactAFCalculator - this tool is currently set to genotype at most 6 alternate alleles in a given context, but the context at Pf3D7_03_v3:859854 has 7 alternate alleles so only the top alleles will be used; see the --max_alternate_alleles argument \r\n",
        "WARN  08:12:46,130 ExactAFCalculator - this tool is currently set to genotype at most 6 alternate alleles in a given context, but the context at Pf3D7_03_v3:862116 has 7 alternate alleles so only the top alleles will be used; see the --max_alternate_alleles argument \r\n"
       ]
      },
      {
       "output_type": "stream",
       "stream": "stdout",
       "text": [
        "WARN  08:12:46,187 ExactAFCalculator - this tool is currently set to genotype at most 6 alternate alleles in a given context, but the context at Pf3D7_03_v3:872913 has 7 alternate alleles so only the top alleles will be used; see the --max_alternate_alleles argument \r\n"
       ]
      },
      {
       "output_type": "stream",
       "stream": "stdout",
       "text": [
        "WARN  08:12:46,256 ExactAFCalculator - this tool is currently set to genotype at most 6 alternate alleles in a given context, but the context at Pf3D7_03_v3:888372 has 7 alternate alleles so only the top alleles will be used; see the --max_alternate_alleles argument \r\n"
       ]
      },
      {
       "output_type": "stream",
       "stream": "stdout",
       "text": [
        "WARN  08:12:46,291 ExactAFCalculator - this tool is currently set to genotype at most 6 alternate alleles in a given context, but the context at Pf3D7_03_v3:895743 has 7 alternate alleles so only the top alleles will be used; see the --max_alternate_alleles argument \r\n"
       ]
      },
      {
       "output_type": "stream",
       "stream": "stdout",
       "text": [
        "WARN  08:12:46,317 ExactAFCalculator - this tool is currently set to genotype at most 6 alternate alleles in a given context, but the context at Pf3D7_03_v3:904211 has 8 alternate alleles so only the top alleles will be used; see the --max_alternate_alleles argument \r\n"
       ]
      },
      {
       "output_type": "stream",
       "stream": "stdout",
       "text": [
        "WARN  08:12:46,400 ExactAFCalculator - this tool is currently set to genotype at most 6 alternate alleles in a given context, but the context at Pf3D7_03_v3:927103 has 8 alternate alleles so only the top alleles will be used; see the --max_alternate_alleles argument \r\n"
       ]
      },
      {
       "output_type": "stream",
       "stream": "stdout",
       "text": [
        "WARN  08:12:46,427 ExactAFCalculator - this tool is currently set to genotype at most 6 alternate alleles in a given context, but the context at Pf3D7_03_v3:933538 has 9 alternate alleles so only the top alleles will be used; see the --max_alternate_alleles argument \r\n",
        "WARN  08:12:46,430 ExactAFCalculator - this tool is currently set to genotype at most 6 alternate alleles in a given context, but the context at Pf3D7_03_v3:934020 has 7 alternate alleles so only the top alleles will be used; see the --max_alternate_alleles argument \r\n"
       ]
      },
      {
       "output_type": "stream",
       "stream": "stdout",
       "text": [
        "WARN  08:12:46,482 ExactAFCalculator - this tool is currently set to genotype at most 6 alternate alleles in a given context, but the context at Pf3D7_03_v3:948090 has 7 alternate alleles so only the top alleles will be used; see the --max_alternate_alleles argument \r\n",
        "WARN  08:12:46,512 ExactAFCalculator - this tool is currently set to genotype at most 6 alternate alleles in a given context, but the context at Pf3D7_03_v3:962674 has 7 alternate alleles so only the top alleles will be used; see the --max_alternate_alleles argument \r\n"
       ]
      },
      {
       "output_type": "stream",
       "stream": "stdout",
       "text": [
        "WARN  08:12:46,618 ExactAFCalculator - this tool is currently set to genotype at most 6 alternate alleles in a given context, but the context at Pf3D7_03_v3:987105 has 8 alternate alleles so only the top alleles will be used; see the --max_alternate_alleles argument \r\n"
       ]
      },
      {
       "output_type": "stream",
       "stream": "stdout",
       "text": [
        "INFO  08:12:47,485 ProgressMeter -            done   1067971.0    11.0 s      10.0 s       11.6%    95.0 s      84.0 s \r\n",
        "INFO  08:12:47,485 ProgressMeter - Total runtime 11.05 secs, 0.18 min, 0.00 hours \r\n"
       ]
      },
      {
       "output_type": "stream",
       "stream": "stdout",
       "text": [
        "INFO  08:12:49,651 GATKRunReport - Uploaded run statistics report to AWS S3 \r\n"
       ]
      },
      {
       "output_type": "stream",
       "stream": "stdout",
       "text": [
        "INFO  08:12:51,264 HelpFormatter - -------------------------------------------------------------------------------- \r\n",
        "INFO  08:12:51,266 HelpFormatter - The Genome Analysis Toolkit (GATK) v3.4-0-g7e26428, Compiled 2015/05/15 03:25:41 \r\n",
        "INFO  08:12:51,266 HelpFormatter - Copyright (c) 2010 The Broad Institute \r\n",
        "INFO  08:12:51,266 HelpFormatter - For support and documentation go to http://www.broadinstitute.org/gatk \r\n"
       ]
      },
      {
       "output_type": "stream",
       "stream": "stdout",
       "text": [
        "INFO  08:12:51,269 HelpFormatter - Program Args: -T CombineGVCFs -R /data/plasmodium/pfalciparum/recon/roamato/Pf3D7_v3/3D7_sorted.fa --variant /nfs/team112_internal/production_files/Pf3k/methods/assembled_samples/vcfs/gvcf/lists/gvcfs.Pf3D7_06_v3.0.list -o /nfs/team112_internal/production_files/Pf3k/methods/assembled_samples/vcfs/gvcf/combined_gvcf/combined.Pf3D7_06_v3.0.g.vcf \r\n",
        "INFO  08:12:51,275 HelpFormatter - Executing as rpearson@dhcp511.well.ox.ac.uk on Mac OS X 10.10.3 x86_64; Java HotSpot(TM) 64-Bit Server VM 1.7.0_60-b19. \r\n",
        "INFO  08:12:51,275 HelpFormatter - Date/Time: 2015/07/01 08:12:51 \r\n",
        "INFO  08:12:51,275 HelpFormatter - -------------------------------------------------------------------------------- \r\n",
        "INFO  08:12:51,276 HelpFormatter - -------------------------------------------------------------------------------- \r\n"
       ]
      },
      {
       "output_type": "stream",
       "stream": "stdout",
       "text": [
        "INFO  08:12:51,622 GenomeAnalysisEngine - Strictness is SILENT \r\n"
       ]
      },
      {
       "output_type": "stream",
       "stream": "stdout",
       "text": [
        "INFO  08:12:51,667 GenomeAnalysisEngine - Downsampling Settings: Method: BY_SAMPLE, Target Coverage: 1000 \r\n"
       ]
      },
      {
       "output_type": "stream",
       "stream": "stdout",
       "text": [
        "INFO  08:12:51,786 GenomeAnalysisEngine - Preparing for traversal \r\n",
        "INFO  08:12:51,787 GenomeAnalysisEngine - Done preparing for traversal \r\n",
        "INFO  08:12:51,787 ProgressMeter - [INITIALIZATION COMPLETE; STARTING PROCESSING] \r\n",
        "INFO  08:12:51,788 ProgressMeter -                 | processed |    time |    per 1M |           |   total | remaining \r\n",
        "INFO  08:12:51,788 ProgressMeter -        Location |     sites | elapsed |     sites | completed | runtime |   runtime \r\n"
       ]
      },
      {
       "output_type": "stream",
       "stream": "stdout",
       "text": [
        "INFO  08:12:58,660 ProgressMeter -            done   1418242.0     6.0 s       4.0 s       28.5%    21.0 s      15.0 s \r\n",
        "INFO  08:12:58,660 ProgressMeter - Total runtime 6.87 secs, 0.11 min, 0.00 hours \r\n"
       ]
      },
      {
       "output_type": "stream",
       "stream": "stdout",
       "text": [
        "INFO  08:13:06,931 GATKRunReport - Uploaded run statistics report to AWS S3 \r\n"
       ]
      },
      {
       "output_type": "stream",
       "stream": "stdout",
       "text": [
        "INFO  08:13:08,471 HelpFormatter - -------------------------------------------------------------------------------- \r\n",
        "INFO  08:13:08,474 HelpFormatter - The Genome Analysis Toolkit (GATK) v3.4-0-g7e26428, Compiled 2015/05/15 03:25:41 \r\n",
        "INFO  08:13:08,474 HelpFormatter - Copyright (c) 2010 The Broad Institute \r\n",
        "INFO  08:13:08,474 HelpFormatter - For support and documentation go to http://www.broadinstitute.org/gatk \r\n",
        "INFO  08:13:08,478 HelpFormatter - Program Args: -T CombineGVCFs -R /data/plasmodium/pfalciparum/recon/roamato/Pf3D7_v3/3D7_sorted.fa --variant /nfs/team112_internal/production_files/Pf3k/methods/assembled_samples/vcfs/gvcf/lists/gvcfs.Pf3D7_06_v3.1.list -o /nfs/team112_internal/production_files/Pf3k/methods/assembled_samples/vcfs/gvcf/combined_gvcf/combined.Pf3D7_06_v3.1.g.vcf \r\n",
        "INFO  08:13:08,486 HelpFormatter - Executing as rpearson@dhcp511.well.ox.ac.uk on Mac OS X 10.10.3 x86_64; Java HotSpot(TM) 64-Bit Server VM 1.7.0_60-b19. \r\n",
        "INFO  08:13:08,486 HelpFormatter - Date/Time: 2015/07/01 08:13:08 \r\n",
        "INFO  08:13:08,486 HelpFormatter - -------------------------------------------------------------------------------- \r\n",
        "INFO  08:13:08,487 HelpFormatter - -------------------------------------------------------------------------------- \r\n"
       ]
      },
      {
       "output_type": "stream",
       "stream": "stdout",
       "text": [
        "INFO  08:13:08,831 GenomeAnalysisEngine - Strictness is SILENT \r\n"
       ]
      },
      {
       "output_type": "stream",
       "stream": "stdout",
       "text": [
        "INFO  08:13:08,879 GenomeAnalysisEngine - Downsampling Settings: Method: BY_SAMPLE, Target Coverage: 1000 \r\n"
       ]
      },
      {
       "output_type": "stream",
       "stream": "stdout",
       "text": [
        "INFO  08:13:09,004 GenomeAnalysisEngine - Preparing for traversal \r\n",
        "INFO  08:13:09,005 GenomeAnalysisEngine - Done preparing for traversal \r\n",
        "INFO  08:13:09,006 ProgressMeter - [INITIALIZATION COMPLETE; STARTING PROCESSING] \r\n",
        "INFO  08:13:09,006 ProgressMeter -                 | processed |    time |    per 1M |           |   total | remaining \r\n",
        "INFO  08:13:09,006 ProgressMeter -        Location |     sites | elapsed |     sites | completed | runtime |   runtime \r\n"
       ]
      },
      {
       "output_type": "stream",
       "stream": "stdout",
       "text": [
        "INFO  08:13:15,843 ProgressMeter -            done   1418242.0     6.0 s       4.0 s       28.5%    21.0 s      15.0 s \r\n",
        "INFO  08:13:15,843 ProgressMeter - Total runtime 6.84 secs, 0.11 min, 0.00 hours \r\n"
       ]
      },
      {
       "output_type": "stream",
       "stream": "stdout",
       "text": [
        "INFO  08:13:22,290 GATKRunReport - Uploaded run statistics report to AWS S3 \r\n"
       ]
      },
      {
       "output_type": "stream",
       "stream": "stdout",
       "text": [
        "INFO  08:13:23,901 HelpFormatter - -------------------------------------------------------------------------------- \r\n"
       ]
      },
      {
       "output_type": "stream",
       "stream": "stdout",
       "text": [
        "INFO  08:13:23,902 HelpFormatter - The Genome Analysis Toolkit (GATK) v3.4-0-g7e26428, Compiled 2015/05/15 03:25:41 \r\n",
        "INFO  08:13:23,902 HelpFormatter - Copyright (c) 2010 The Broad Institute \r\n",
        "INFO  08:13:23,903 HelpFormatter - For support and documentation go to http://www.broadinstitute.org/gatk \r\n",
        "INFO  08:13:23,906 HelpFormatter - Program Args: -T GenotypeGVCFs -R /data/plasmodium/pfalciparum/recon/roamato/Pf3D7_v3/3D7_sorted.fa --variant /nfs/team112_internal/production_files/Pf3k/methods/assembled_samples/vcfs/gvcf/lists/gvcfs.Pf3D7_06_v3.all.list -o /nfs/team112_internal/production_files/Pf3k/methods/assembled_samples/vcfs/vcf/raw.snps.indels.Pf3D7_06_v3.vcf \r\n",
        "INFO  08:13:23,912 HelpFormatter - Executing as rpearson@dhcp511.well.ox.ac.uk on Mac OS X 10.10.3 x86_64; Java HotSpot(TM) 64-Bit Server VM 1.7.0_60-b19. \r\n",
        "INFO  08:13:23,912 HelpFormatter - Date/Time: 2015/07/01 08:13:23 \r\n",
        "INFO  08:13:23,912 HelpFormatter - -------------------------------------------------------------------------------- \r\n",
        "INFO  08:13:23,913 HelpFormatter - -------------------------------------------------------------------------------- \r\n"
       ]
      },
      {
       "output_type": "stream",
       "stream": "stdout",
       "text": [
        "INFO  08:13:24,294 GenomeAnalysisEngine - Strictness is SILENT \r\n"
       ]
      },
      {
       "output_type": "stream",
       "stream": "stdout",
       "text": [
        "INFO  08:13:24,343 GenomeAnalysisEngine - Downsampling Settings: Method: BY_SAMPLE, Target Coverage: 1000 \r\n"
       ]
      },
      {
       "output_type": "stream",
       "stream": "stdout",
       "text": [
        "INFO  08:13:24,460 GenomeAnalysisEngine - Preparing for traversal \r\n",
        "INFO  08:13:24,461 GenomeAnalysisEngine - Done preparing for traversal \r\n",
        "INFO  08:13:24,461 ProgressMeter - [INITIALIZATION COMPLETE; STARTING PROCESSING] \r\n",
        "INFO  08:13:24,462 ProgressMeter -                 | processed |    time |    per 1M |           |   total | remaining \r\n",
        "INFO  08:13:24,462 ProgressMeter -        Location |     sites | elapsed |     sites | completed | runtime |   runtime \r\n"
       ]
      },
      {
       "output_type": "stream",
       "stream": "stdout",
       "text": [
        "INFO  08:13:24,543 GenotypeGVCFs - Notice that the -ploidy parameter is ignored in GenotypeGVCFs tool as this is automatically determined by the input variant files \r\n"
       ]
      },
      {
       "output_type": "stream",
       "stream": "stdout",
       "text": [
        "WARN  08:13:28,926 ExactAFCalculator - this tool is currently set to genotype at most 6 alternate alleles in a given context, but the context at Pf3D7_06_v3:45977 has 7 alternate alleles so only the top alleles will be used; see the --max_alternate_alleles argument \r\n"
       ]
      },
      {
       "output_type": "stream",
       "stream": "stdout",
       "text": [
        "WARN  08:13:29,486 ExactAFCalculator - this tool is currently set to genotype at most 6 alternate alleles in a given context, but the context at Pf3D7_06_v3:72322 has 9 alternate alleles so only the top alleles will be used; see the --max_alternate_alleles argument \r\n",
        "WARN  08:13:29,509 ExactAFCalculator - this tool is currently set to genotype at most 6 alternate alleles in a given context, but the context at Pf3D7_06_v3:74213 has 7 alternate alleles so only the top alleles will be used; see the --max_alternate_alleles argument \r\n"
       ]
      },
      {
       "output_type": "stream",
       "stream": "stdout",
       "text": [
        "WARN  08:13:29,672 ExactAFCalculator - this tool is currently set to genotype at most 6 alternate alleles in a given context, but the context at Pf3D7_06_v3:96728 has 7 alternate alleles so only the top alleles will be used; see the --max_alternate_alleles argument \r\n"
       ]
      },
      {
       "output_type": "stream",
       "stream": "stdout",
       "text": [
        "WARN  08:13:29,812 ExactAFCalculator - this tool is currently set to genotype at most 6 alternate alleles in a given context, but the context at Pf3D7_06_v3:120579 has 9 alternate alleles so only the top alleles will be used; see the --max_alternate_alleles argument \r\n"
       ]
      },
      {
       "output_type": "stream",
       "stream": "stdout",
       "text": [
        "WARN  08:13:29,944 ExactAFCalculator - this tool is currently set to genotype at most 6 alternate alleles in a given context, but the context at Pf3D7_06_v3:137931 has 7 alternate alleles so only the top alleles will be used; see the --max_alternate_alleles argument \r\n",
        "WARN  08:13:29,948 ExactAFCalculator - this tool is currently set to genotype at most 6 alternate alleles in a given context, but the context at Pf3D7_06_v3:138629 has 7 alternate alleles so only the top alleles will be used; see the --max_alternate_alleles argument \r\n"
       ]
      },
      {
       "output_type": "stream",
       "stream": "stdout",
       "text": [
        "WARN  08:13:29,988 ExactAFCalculator - this tool is currently set to genotype at most 6 alternate alleles in a given context, but the context at Pf3D7_06_v3:149253 has 7 alternate alleles so only the top alleles will be used; see the --max_alternate_alleles argument \r\n",
        "WARN  08:13:29,989 ExactAFCalculator - this tool is currently set to genotype at most 6 alternate alleles in a given context, but the context at Pf3D7_06_v3:149255 has 9 alternate alleles so only the top alleles will be used; see the --max_alternate_alleles argument \r\n"
       ]
      },
      {
       "output_type": "stream",
       "stream": "stdout",
       "text": [
        "WARN  08:13:30,005 ExactAFCalculator - this tool is currently set to genotype at most 6 alternate alleles in a given context, but the context at Pf3D7_06_v3:150879 has 14 alternate alleles so only the top alleles will be used; see the --max_alternate_alleles argument \r\n",
        "WARN  08:13:30,018 ExactAFCalculator - this tool is currently set to genotype at most 6 alternate alleles in a given context, but the context at Pf3D7_06_v3:153516 has 10 alternate alleles so only the top alleles will be used; see the --max_alternate_alleles argument \r\n",
        "WARN  08:13:30,029 ExactAFCalculator - this tool is currently set to genotype at most 6 alternate alleles in a given context, but the context at Pf3D7_06_v3:156627 has 7 alternate alleles so only the top alleles will be used; see the --max_alternate_alleles argument \r\n"
       ]
      },
      {
       "output_type": "stream",
       "stream": "stdout",
       "text": [
        "WARN  08:13:30,144 ExactAFCalculator - this tool is currently set to genotype at most 6 alternate alleles in a given context, but the context at Pf3D7_06_v3:177276 has 8 alternate alleles so only the top alleles will be used; see the --max_alternate_alleles argument \r\n"
       ]
      },
      {
       "output_type": "stream",
       "stream": "stdout",
       "text": [
        "WARN  08:13:30,182 ExactAFCalculator - this tool is currently set to genotype at most 6 alternate alleles in a given context, but the context at Pf3D7_06_v3:180880 has 7 alternate alleles so only the top alleles will be used; see the --max_alternate_alleles argument \r\n"
       ]
      },
      {
       "output_type": "stream",
       "stream": "stdout",
       "text": [
        "WARN  08:13:30,220 ExactAFCalculator - this tool is currently set to genotype at most 6 alternate alleles in a given context, but the context at Pf3D7_06_v3:185745 has 8 alternate alleles so only the top alleles will be used; see the --max_alternate_alleles argument \r\n",
        "WARN  08:13:30,226 ExactAFCalculator - this tool is currently set to genotype at most 6 alternate alleles in a given context, but the context at Pf3D7_06_v3:186079 has 7 alternate alleles so only the top alleles will be used; see the --max_alternate_alleles argument \r\n"
       ]
      },
      {
       "output_type": "stream",
       "stream": "stdout",
       "text": [
        "WARN  08:13:30,285 ExactAFCalculator - this tool is currently set to genotype at most 6 alternate alleles in a given context, but the context at Pf3D7_06_v3:195926 has 9 alternate alleles so only the top alleles will be used; see the --max_alternate_alleles argument \r\n"
       ]
      },
      {
       "output_type": "stream",
       "stream": "stdout",
       "text": [
        "WARN  08:13:30,335 ExactAFCalculator - this tool is currently set to genotype at most 6 alternate alleles in a given context, but the context at Pf3D7_06_v3:206458 has 7 alternate alleles so only the top alleles will be used; see the --max_alternate_alleles argument \r\n"
       ]
      },
      {
       "output_type": "stream",
       "stream": "stdout",
       "text": [
        "WARN  08:13:30,386 ExactAFCalculator - this tool is currently set to genotype at most 6 alternate alleles in a given context, but the context at Pf3D7_06_v3:220669 has 7 alternate alleles so only the top alleles will be used; see the --max_alternate_alleles argument \r\n"
       ]
      },
      {
       "output_type": "stream",
       "stream": "stdout",
       "text": [
        "WARN  08:13:30,453 ExactAFCalculator - this tool is currently set to genotype at most 6 alternate alleles in a given context, but the context at Pf3D7_06_v3:227493 has 7 alternate alleles so only the top alleles will be used; see the --max_alternate_alleles argument \r\n",
        "WARN  08:13:30,469 ExactAFCalculator - this tool is currently set to genotype at most 6 alternate alleles in a given context, but the context at Pf3D7_06_v3:233238 has 8 alternate alleles so only the top alleles will be used; see the --max_alternate_alleles argument \r\n"
       ]
      },
      {
       "output_type": "stream",
       "stream": "stdout",
       "text": [
        "WARN  08:13:30,483 ExactAFCalculator - this tool is currently set to genotype at most 6 alternate alleles in a given context, but the context at Pf3D7_06_v3:236223 has 7 alternate alleles so only the top alleles will be used; see the --max_alternate_alleles argument \r\n",
        "WARN  08:13:30,488 ExactAFCalculator - this tool is currently set to genotype at most 6 alternate alleles in a given context, but the context at Pf3D7_06_v3:237458 has 11 alternate alleles so only the top alleles will be used; see the --max_alternate_alleles argument \r\n",
        "WARN  08:13:30,508 ExactAFCalculator - this tool is currently set to genotype at most 6 alternate alleles in a given context, but the context at Pf3D7_06_v3:244607 has 7 alternate alleles so only the top alleles will be used; see the --max_alternate_alleles argument \r\n"
       ]
      },
      {
       "output_type": "stream",
       "stream": "stdout",
       "text": [
        "WARN  08:13:30,612 ExactAFCalculator - this tool is currently set to genotype at most 6 alternate alleles in a given context, but the context at Pf3D7_06_v3:260992 has 7 alternate alleles so only the top alleles will be used; see the --max_alternate_alleles argument \r\n"
       ]
      },
      {
       "output_type": "stream",
       "stream": "stdout",
       "text": [
        "WARN  08:13:30,636 ExactAFCalculator - this tool is currently set to genotype at most 6 alternate alleles in a given context, but the context at Pf3D7_06_v3:265042 has 7 alternate alleles so only the top alleles will be used; see the --max_alternate_alleles argument \r\n",
        "WARN  08:13:30,642 ExactAFCalculator - this tool is currently set to genotype at most 6 alternate alleles in a given context, but the context at Pf3D7_06_v3:266315 has 7 alternate alleles so only the top alleles will be used; see the --max_alternate_alleles argument \r\n",
        "WARN  08:13:30,657 ExactAFCalculator - this tool is currently set to genotype at most 6 alternate alleles in a given context, but the context at Pf3D7_06_v3:268974 has 7 alternate alleles so only the top alleles will be used; see the --max_alternate_alleles argument \r\n"
       ]
      },
      {
       "output_type": "stream",
       "stream": "stdout",
       "text": [
        "WARN  08:13:30,763 ExactAFCalculator - this tool is currently set to genotype at most 6 alternate alleles in a given context, but the context at Pf3D7_06_v3:292788 has 7 alternate alleles so only the top alleles will be used; see the --max_alternate_alleles argument \r\n",
        "WARN  08:13:30,786 ExactAFCalculator - this tool is currently set to genotype at most 6 alternate alleles in a given context, but the context at Pf3D7_06_v3:299210 has 8 alternate alleles so only the top alleles will be used; see the --max_alternate_alleles argument \r\n"
       ]
      },
      {
       "output_type": "stream",
       "stream": "stdout",
       "text": [
        "WARN  08:13:30,833 ExactAFCalculator - this tool is currently set to genotype at most 6 alternate alleles in a given context, but the context at Pf3D7_06_v3:309287 has 8 alternate alleles so only the top alleles will be used; see the --max_alternate_alleles argument \r\n"
       ]
      },
      {
       "output_type": "stream",
       "stream": "stdout",
       "text": [
        "WARN  08:13:30,864 ExactAFCalculator - this tool is currently set to genotype at most 6 alternate alleles in a given context, but the context at Pf3D7_06_v3:317126 has 8 alternate alleles so only the top alleles will be used; see the --max_alternate_alleles argument \r\n"
       ]
      },
      {
       "output_type": "stream",
       "stream": "stdout",
       "text": [
        "WARN  08:13:30,931 ExactAFCalculator - this tool is currently set to genotype at most 6 alternate alleles in a given context, but the context at Pf3D7_06_v3:336662 has 8 alternate alleles so only the top alleles will be used; see the --max_alternate_alleles argument \r\n"
       ]
      },
      {
       "output_type": "stream",
       "stream": "stdout",
       "text": [
        "WARN  08:13:30,960 ExactAFCalculator - this tool is currently set to genotype at most 6 alternate alleles in a given context, but the context at Pf3D7_06_v3:347536 has 8 alternate alleles so only the top alleles will be used; see the --max_alternate_alleles argument \r\n"
       ]
      },
      {
       "output_type": "stream",
       "stream": "stdout",
       "text": [
        "WARN  08:13:31,004 ExactAFCalculator - this tool is currently set to genotype at most 6 alternate alleles in a given context, but the context at Pf3D7_06_v3:356325 has 18 alternate alleles so only the top alleles will be used; see the --max_alternate_alleles argument \r\n"
       ]
      },
      {
       "output_type": "stream",
       "stream": "stdout",
       "text": [
        "WARN  08:13:31,106 ExactAFCalculator - this tool is currently set to genotype at most 6 alternate alleles in a given context, but the context at Pf3D7_06_v3:389232 has 7 alternate alleles so only the top alleles will be used; see the --max_alternate_alleles argument \r\n",
        "WARN  08:13:31,156 ExactAFCalculator - this tool is currently set to genotype at most 6 alternate alleles in a given context, but the context at Pf3D7_06_v3:399496 has 8 alternate alleles so only the top alleles will be used; see the --max_alternate_alleles argument \r\n"
       ]
      },
      {
       "output_type": "stream",
       "stream": "stdout",
       "text": [
        "WARN  08:13:31,303 ExactAFCalculator - this tool is currently set to genotype at most 6 alternate alleles in a given context, but the context at Pf3D7_06_v3:440574 has 11 alternate alleles so only the top alleles will be used; see the --max_alternate_alleles argument \r\n"
       ]
      },
      {
       "output_type": "stream",
       "stream": "stdout",
       "text": [
        "WARN  08:13:31,326 ExactAFCalculator - this tool is currently set to genotype at most 6 alternate alleles in a given context, but the context at Pf3D7_06_v3:445704 has 9 alternate alleles so only the top alleles will be used; see the --max_alternate_alleles argument \r\n",
        "WARN  08:13:31,334 ExactAFCalculator - this tool is currently set to genotype at most 6 alternate alleles in a given context, but the context at Pf3D7_06_v3:447347 has 7 alternate alleles so only the top alleles will be used; see the --max_alternate_alleles argument \r\n",
        "WARN  08:13:31,349 ExactAFCalculator - this tool is currently set to genotype at most 6 alternate alleles in a given context, but the context at Pf3D7_06_v3:449233 has 9 alternate alleles so only the top alleles will be used; see the --max_alternate_alleles argument \r\n"
       ]
      },
      {
       "output_type": "stream",
       "stream": "stdout",
       "text": [
        "WARN  08:13:31,413 ExactAFCalculator - this tool is currently set to genotype at most 6 alternate alleles in a given context, but the context at Pf3D7_06_v3:466901 has 8 alternate alleles so only the top alleles will be used; see the --max_alternate_alleles argument \r\n"
       ]
      },
      {
       "output_type": "stream",
       "stream": "stdout",
       "text": [
        "WARN  08:13:31,468 ExactAFCalculator - this tool is currently set to genotype at most 6 alternate alleles in a given context, but the context at Pf3D7_06_v3:484215 has 7 alternate alleles so only the top alleles will be used; see the --max_alternate_alleles argument \r\n",
        "WARN  08:13:31,471 ExactAFCalculator - this tool is currently set to genotype at most 6 alternate alleles in a given context, but the context at Pf3D7_06_v3:484673 has 8 alternate alleles so only the top alleles will be used; see the --max_alternate_alleles argument \r\n"
       ]
      },
      {
       "output_type": "stream",
       "stream": "stdout",
       "text": [
        "WARN  08:13:31,530 ExactAFCalculator - this tool is currently set to genotype at most 6 alternate alleles in a given context, but the context at Pf3D7_06_v3:501420 has 7 alternate alleles so only the top alleles will be used; see the --max_alternate_alleles argument \r\n"
       ]
      },
      {
       "output_type": "stream",
       "stream": "stdout",
       "text": [
        "WARN  08:13:31,593 ExactAFCalculator - this tool is currently set to genotype at most 6 alternate alleles in a given context, but the context at Pf3D7_06_v3:508328 has 7 alternate alleles so only the top alleles will be used; see the --max_alternate_alleles argument \r\n"
       ]
      },
      {
       "output_type": "stream",
       "stream": "stdout",
       "text": [
        "WARN  08:13:31,628 ExactAFCalculator - this tool is currently set to genotype at most 6 alternate alleles in a given context, but the context at Pf3D7_06_v3:513117 has 8 alternate alleles so only the top alleles will be used; see the --max_alternate_alleles argument \r\n"
       ]
      },
      {
       "output_type": "stream",
       "stream": "stdout",
       "text": [
        "WARN  08:13:31,766 ExactAFCalculator - this tool is currently set to genotype at most 6 alternate alleles in a given context, but the context at Pf3D7_06_v3:534708 has 7 alternate alleles so only the top alleles will be used; see the --max_alternate_alleles argument \r\n"
       ]
      },
      {
       "output_type": "stream",
       "stream": "stdout",
       "text": [
        "WARN  08:13:31,805 ExactAFCalculator - this tool is currently set to genotype at most 6 alternate alleles in a given context, but the context at Pf3D7_06_v3:539839 has 8 alternate alleles so only the top alleles will be used; see the --max_alternate_alleles argument \r\n",
        "WARN  08:13:31,815 ExactAFCalculator - this tool is currently set to genotype at most 6 alternate alleles in a given context, but the context at Pf3D7_06_v3:544317 has 7 alternate alleles so only the top alleles will be used; see the --max_alternate_alleles argument \r\n"
       ]
      },
      {
       "output_type": "stream",
       "stream": "stdout",
       "text": [
        "WARN  08:13:31,842 ExactAFCalculator - this tool is currently set to genotype at most 6 alternate alleles in a given context, but the context at Pf3D7_06_v3:547984 has 8 alternate alleles so only the top alleles will be used; see the --max_alternate_alleles argument \r\n"
       ]
      },
      {
       "output_type": "stream",
       "stream": "stdout",
       "text": [
        "WARN  08:13:31,900 ExactAFCalculator - this tool is currently set to genotype at most 6 alternate alleles in a given context, but the context at Pf3D7_06_v3:558622 has 9 alternate alleles so only the top alleles will be used; see the --max_alternate_alleles argument \r\n",
        "WARN  08:13:31,913 ExactAFCalculator - this tool is currently set to genotype at most 6 alternate alleles in a given context, but the context at Pf3D7_06_v3:561551 has 7 alternate alleles so only the top alleles will be used; see the --max_alternate_alleles argument \r\n"
       ]
      },
      {
       "output_type": "stream",
       "stream": "stdout",
       "text": [
        "WARN  08:13:32,041 ExactAFCalculator - this tool is currently set to genotype at most 6 alternate alleles in a given context, but the context at Pf3D7_06_v3:586806 has 8 alternate alleles so only the top alleles will be used; see the --max_alternate_alleles argument \r\n"
       ]
      },
      {
       "output_type": "stream",
       "stream": "stdout",
       "text": [
        "WARN  08:13:32,059 ExactAFCalculator - this tool is currently set to genotype at most 6 alternate alleles in a given context, but the context at Pf3D7_06_v3:588820 has 7 alternate alleles so only the top alleles will be used; see the --max_alternate_alleles argument \r\n",
        "WARN  08:13:32,066 ExactAFCalculator - this tool is currently set to genotype at most 6 alternate alleles in a given context, but the context at Pf3D7_06_v3:589012 has 10 alternate alleles so only the top alleles will be used; see the --max_alternate_alleles argument \r\n"
       ]
      },
      {
       "output_type": "stream",
       "stream": "stdout",
       "text": [
        "WARN  08:13:32,300 ExactAFCalculator - this tool is currently set to genotype at most 6 alternate alleles in a given context, but the context at Pf3D7_06_v3:626338 has 8 alternate alleles so only the top alleles will be used; see the --max_alternate_alleles argument \r\n",
        "WARN  08:13:32,302 ExactAFCalculator - this tool is currently set to genotype at most 6 alternate alleles in a given context, but the context at Pf3D7_06_v3:626583 has 7 alternate alleles so only the top alleles will be used; see the --max_alternate_alleles argument \r\n"
       ]
      },
      {
       "output_type": "stream",
       "stream": "stdout",
       "text": [
        "WARN  08:13:32,324 ExactAFCalculator - this tool is currently set to genotype at most 6 alternate alleles in a given context, but the context at Pf3D7_06_v3:631830 has 10 alternate alleles so only the top alleles will be used; see the --max_alternate_alleles argument \r\n"
       ]
      },
      {
       "output_type": "stream",
       "stream": "stdout",
       "text": [
        "WARN  08:13:32,411 ExactAFCalculator - this tool is currently set to genotype at most 6 alternate alleles in a given context, but the context at Pf3D7_06_v3:656279 has 7 alternate alleles so only the top alleles will be used; see the --max_alternate_alleles argument \r\n",
        "WARN  08:13:32,415 ExactAFCalculator - this tool is currently set to genotype at most 6 alternate alleles in a given context, but the context at Pf3D7_06_v3:657202 has 7 alternate alleles so only the top alleles will be used; see the --max_alternate_alleles argument \r\n"
       ]
      },
      {
       "output_type": "stream",
       "stream": "stdout",
       "text": [
        "WARN  08:13:32,420 ExactAFCalculator - this tool is currently set to genotype at most 6 alternate alleles in a given context, but the context at Pf3D7_06_v3:658331 has 8 alternate alleles so only the top alleles will be used; see the --max_alternate_alleles argument \r\n"
       ]
      },
      {
       "output_type": "stream",
       "stream": "stdout",
       "text": [
        "WARN  08:13:32,474 ExactAFCalculator - this tool is currently set to genotype at most 6 alternate alleles in a given context, but the context at Pf3D7_06_v3:675803 has 7 alternate alleles so only the top alleles will be used; see the --max_alternate_alleles argument \r\n",
        "WARN  08:13:32,482 ExactAFCalculator - this tool is currently set to genotype at most 6 alternate alleles in a given context, but the context at Pf3D7_06_v3:677598 has 8 alternate alleles so only the top alleles will be used; see the --max_alternate_alleles argument \r\n",
        "WARN  08:13:32,490 ExactAFCalculator - this tool is currently set to genotype at most 6 alternate alleles in a given context, but the context at Pf3D7_06_v3:678248 has 13 alternate alleles so only the top alleles will be used; see the --max_alternate_alleles argument \r\n",
        "WARN  08:13:32,513 ExactAFCalculator - this tool is currently set to genotype at most 6 alternate alleles in a given context, but the context at Pf3D7_06_v3:688873 has 7 alternate alleles so only the top alleles will be used; see the --max_alternate_alleles argument \r\n",
        "WARN  08:13:32,516 ExactAFCalculator - this tool is currently set to genotype at most 6 alternate alleles in a given context, but the context at Pf3D7_06_v3:689191 has 7 alternate alleles so only the top alleles will be used; see the --max_alternate_alleles argument \r\n"
       ]
      },
      {
       "output_type": "stream",
       "stream": "stdout",
       "text": [
        "WARN  08:13:32,529 ExactAFCalculator - this tool is currently set to genotype at most 6 alternate alleles in a given context, but the context at Pf3D7_06_v3:693623 has 9 alternate alleles so only the top alleles will be used; see the --max_alternate_alleles argument \r\n",
        "WARN  08:13:32,533 ExactAFCalculator - this tool is currently set to genotype at most 6 alternate alleles in a given context, but the context at Pf3D7_06_v3:694168 has 9 alternate alleles so only the top alleles will be used; see the --max_alternate_alleles argument \r\n",
        "WARN  08:13:32,563 ExactAFCalculator - this tool is currently set to genotype at most 6 alternate alleles in a given context, but the context at Pf3D7_06_v3:700848 has 10 alternate alleles so only the top alleles will be used; see the --max_alternate_alleles argument \r\n",
        "WARN  08:13:32,571 ExactAFCalculator - this tool is currently set to genotype at most 6 alternate alleles in a given context, but the context at Pf3D7_06_v3:705473 has 8 alternate alleles so only the top alleles will be used; see the --max_alternate_alleles argument \r\n"
       ]
      },
      {
       "output_type": "stream",
       "stream": "stdout",
       "text": [
        "WARN  08:13:32,589 ExactAFCalculator - this tool is currently set to genotype at most 6 alternate alleles in a given context, but the context at Pf3D7_06_v3:708447 has 9 alternate alleles so only the top alleles will be used; see the --max_alternate_alleles argument \r\n"
       ]
      },
      {
       "output_type": "stream",
       "stream": "stdout",
       "text": [
        "WARN  08:13:32,645 ExactAFCalculator - this tool is currently set to genotype at most 6 alternate alleles in a given context, but the context at Pf3D7_06_v3:721125 has 8 alternate alleles so only the top alleles will be used; see the --max_alternate_alleles argument \r\n"
       ]
      },
      {
       "output_type": "stream",
       "stream": "stdout",
       "text": [
        "WARN  08:13:32,877 ExactAFCalculator - this tool is currently set to genotype at most 6 alternate alleles in a given context, but the context at Pf3D7_06_v3:743151 has 7 alternate alleles so only the top alleles will be used; see the --max_alternate_alleles argument \r\n"
       ]
      },
      {
       "output_type": "stream",
       "stream": "stdout",
       "text": [
        "WARN  08:13:32,896 ExactAFCalculator - this tool is currently set to genotype at most 6 alternate alleles in a given context, but the context at Pf3D7_06_v3:746531 has 9 alternate alleles so only the top alleles will be used; see the --max_alternate_alleles argument \r\n",
        "WARN  08:13:32,899 ExactAFCalculator - this tool is currently set to genotype at most 6 alternate alleles in a given context, but the context at Pf3D7_06_v3:746926 has 7 alternate alleles so only the top alleles will be used; see the --max_alternate_alleles argument \r\n",
        "WARN  08:13:32,918 ExactAFCalculator - this tool is currently set to genotype at most 6 alternate alleles in a given context, but the context at Pf3D7_06_v3:750377 has 7 alternate alleles so only the top alleles will be used; see the --max_alternate_alleles argument \r\n"
       ]
      },
      {
       "output_type": "stream",
       "stream": "stdout",
       "text": [
        "WARN  08:13:32,950 ExactAFCalculator - this tool is currently set to genotype at most 6 alternate alleles in a given context, but the context at Pf3D7_06_v3:757128 has 8 alternate alleles so only the top alleles will be used; see the --max_alternate_alleles argument \r\n"
       ]
      },
      {
       "output_type": "stream",
       "stream": "stdout",
       "text": [
        "WARN  08:13:33,000 ExactAFCalculator - this tool is currently set to genotype at most 6 alternate alleles in a given context, but the context at Pf3D7_06_v3:770419 has 7 alternate alleles so only the top alleles will be used; see the --max_alternate_alleles argument \r\n"
       ]
      },
      {
       "output_type": "stream",
       "stream": "stdout",
       "text": [
        "WARN  08:13:33,076 ExactAFCalculator - this tool is currently set to genotype at most 6 alternate alleles in a given context, but the context at Pf3D7_06_v3:788841 has 7 alternate alleles so only the top alleles will be used; see the --max_alternate_alleles argument \r\n"
       ]
      },
      {
       "output_type": "stream",
       "stream": "stdout",
       "text": [
        "WARN  08:13:33,251 ExactAFCalculator - this tool is currently set to genotype at most 6 alternate alleles in a given context, but the context at Pf3D7_06_v3:847514 has 7 alternate alleles so only the top alleles will be used; see the --max_alternate_alleles argument \r\n"
       ]
      },
      {
       "output_type": "stream",
       "stream": "stdout",
       "text": [
        "WARN  08:13:33,254 ExactAFCalculator - this tool is currently set to genotype at most 6 alternate alleles in a given context, but the context at Pf3D7_06_v3:848167 has 7 alternate alleles so only the top alleles will be used; see the --max_alternate_alleles argument \r\n",
        "WARN  08:13:33,260 ExactAFCalculator - this tool is currently set to genotype at most 6 alternate alleles in a given context, but the context at Pf3D7_06_v3:851038 has 7 alternate alleles so only the top alleles will be used; see the --max_alternate_alleles argument \r\n",
        "WARN  08:13:33,287 ExactAFCalculator - this tool is currently set to genotype at most 6 alternate alleles in a given context, but the context at Pf3D7_06_v3:860130 has 10 alternate alleles so only the top alleles will be used; see the --max_alternate_alleles argument \r\n",
        "WARN  08:13:33,293 ExactAFCalculator - this tool is currently set to genotype at most 6 alternate alleles in a given context, but the context at Pf3D7_06_v3:860894 has 8 alternate alleles so only the top alleles will be used; see the --max_alternate_alleles argument \r\n"
       ]
      },
      {
       "output_type": "stream",
       "stream": "stdout",
       "text": [
        "WARN  08:13:33,376 ExactAFCalculator - this tool is currently set to genotype at most 6 alternate alleles in a given context, but the context at Pf3D7_06_v3:888970 has 8 alternate alleles so only the top alleles will be used; see the --max_alternate_alleles argument \r\n",
        "WARN  08:13:33,399 ExactAFCalculator - this tool is currently set to genotype at most 6 alternate alleles in a given context, but the context at Pf3D7_06_v3:893240 has 7 alternate alleles so only the top alleles will be used; see the --max_alternate_alleles argument \r\n"
       ]
      },
      {
       "output_type": "stream",
       "stream": "stdout",
       "text": [
        "WARN  08:13:33,511 ExactAFCalculator - this tool is currently set to genotype at most 6 alternate alleles in a given context, but the context at Pf3D7_06_v3:924261 has 12 alternate alleles so only the top alleles will be used; see the --max_alternate_alleles argument \r\n"
       ]
      },
      {
       "output_type": "stream",
       "stream": "stdout",
       "text": [
        "WARN  08:13:33,575 ExactAFCalculator - this tool is currently set to genotype at most 6 alternate alleles in a given context, but the context at Pf3D7_06_v3:940255 has 9 alternate alleles so only the top alleles will be used; see the --max_alternate_alleles argument \r\n"
       ]
      },
      {
       "output_type": "stream",
       "stream": "stdout",
       "text": [
        "WARN  08:13:33,634 ExactAFCalculator - this tool is currently set to genotype at most 6 alternate alleles in a given context, but the context at Pf3D7_06_v3:952996 has 7 alternate alleles so only the top alleles will be used; see the --max_alternate_alleles argument \r\n",
        "WARN  08:13:33,643 ExactAFCalculator - this tool is currently set to genotype at most 6 alternate alleles in a given context, but the context at Pf3D7_06_v3:954903 has 7 alternate alleles so only the top alleles will be used; see the --max_alternate_alleles argument \r\n"
       ]
      },
      {
       "output_type": "stream",
       "stream": "stdout",
       "text": [
        "WARN  08:13:33,783 ExactAFCalculator - this tool is currently set to genotype at most 6 alternate alleles in a given context, but the context at Pf3D7_06_v3:993948 has 7 alternate alleles so only the top alleles will be used; see the --max_alternate_alleles argument \r\n"
       ]
      },
      {
       "output_type": "stream",
       "stream": "stdout",
       "text": [
        "WARN  08:13:33,924 ExactAFCalculator - this tool is currently set to genotype at most 6 alternate alleles in a given context, but the context at Pf3D7_06_v3:1010237 has 7 alternate alleles so only the top alleles will be used; see the --max_alternate_alleles argument \r\n"
       ]
      },
      {
       "output_type": "stream",
       "stream": "stdout",
       "text": [
        "WARN  08:13:33,943 ExactAFCalculator - this tool is currently set to genotype at most 6 alternate alleles in a given context, but the context at Pf3D7_06_v3:1014928 has 7 alternate alleles so only the top alleles will be used; see the --max_alternate_alleles argument \r\n",
        "WARN  08:13:33,955 ExactAFCalculator - this tool is currently set to genotype at most 6 alternate alleles in a given context, but the context at Pf3D7_06_v3:1017416 has 7 alternate alleles so only the top alleles will be used; see the --max_alternate_alleles argument \r\n"
       ]
      },
      {
       "output_type": "stream",
       "stream": "stdout",
       "text": [
        "WARN  08:13:34,108 ExactAFCalculator - this tool is currently set to genotype at most 6 alternate alleles in a given context, but the context at Pf3D7_06_v3:1060699 has 7 alternate alleles so only the top alleles will be used; see the --max_alternate_alleles argument \r\n",
        "WARN  08:13:34,117 ExactAFCalculator - this tool is currently set to genotype at most 6 alternate alleles in a given context, but the context at Pf3D7_06_v3:1063140 has 8 alternate alleles so only the top alleles will be used; see the --max_alternate_alleles argument \r\n"
       ]
      },
      {
       "output_type": "stream",
       "stream": "stdout",
       "text": [
        "WARN  08:13:34,195 ExactAFCalculator - this tool is currently set to genotype at most 6 alternate alleles in a given context, but the context at Pf3D7_06_v3:1084111 has 7 alternate alleles so only the top alleles will be used; see the --max_alternate_alleles argument \r\n",
        "WARN  08:13:34,199 ExactAFCalculator - this tool is currently set to genotype at most 6 alternate alleles in a given context, but the context at Pf3D7_06_v3:1084996 has 7 alternate alleles so only the top alleles will be used; see the --max_alternate_alleles argument \r\n"
       ]
      },
      {
       "output_type": "stream",
       "stream": "stdout",
       "text": [
        "WARN  08:13:34,254 ExactAFCalculator - this tool is currently set to genotype at most 6 alternate alleles in a given context, but the context at Pf3D7_06_v3:1100959 has 8 alternate alleles so only the top alleles will be used; see the --max_alternate_alleles argument \r\n"
       ]
      },
      {
       "output_type": "stream",
       "stream": "stdout",
       "text": [
        "WARN  08:13:34,316 ExactAFCalculator - this tool is currently set to genotype at most 6 alternate alleles in a given context, but the context at Pf3D7_06_v3:1112274 has 7 alternate alleles so only the top alleles will be used; see the --max_alternate_alleles argument \r\n"
       ]
      },
      {
       "output_type": "stream",
       "stream": "stdout",
       "text": [
        "WARN  08:13:34,400 ExactAFCalculator - this tool is currently set to genotype at most 6 alternate alleles in a given context, but the context at Pf3D7_06_v3:1155069 has 9 alternate alleles so only the top alleles will be used; see the --max_alternate_alleles argument \r\n",
        "WARN  08:13:34,407 ExactAFCalculator - this tool is currently set to genotype at most 6 alternate alleles in a given context, but the context at Pf3D7_06_v3:1156913 has 7 alternate alleles so only the top alleles will be used; see the --max_alternate_alleles argument \r\n"
       ]
      },
      {
       "output_type": "stream",
       "stream": "stdout",
       "text": [
        "WARN  08:13:34,532 ExactAFCalculator - this tool is currently set to genotype at most 6 alternate alleles in a given context, but the context at Pf3D7_06_v3:1195301 has 7 alternate alleles so only the top alleles will be used; see the --max_alternate_alleles argument \r\n",
        "WARN  08:13:34,538 ExactAFCalculator - this tool is currently set to genotype at most 6 alternate alleles in a given context, but the context at Pf3D7_06_v3:1196018 has 9 alternate alleles so only the top alleles will be used; see the --max_alternate_alleles argument \r\n",
        "WARN  08:13:34,550 ExactAFCalculator - this tool is currently set to genotype at most 6 alternate alleles in a given context, but the context at Pf3D7_06_v3:1199773 has 9 alternate alleles so only the top alleles will be used; see the --max_alternate_alleles argument \r\n",
        "WARN  08:13:34,554 ExactAFCalculator - this tool is currently set to genotype at most 6 alternate alleles in a given context, but the context at Pf3D7_06_v3:1201380 has 7 alternate alleles so only the top alleles will be used; see the --max_alternate_alleles argument \r\n",
        "WARN  08:13:34,566 ExactAFCalculator - this tool is currently set to genotype at most 6 alternate alleles in a given context, but the context at Pf3D7_06_v3:1203518 has 8 alternate alleles so only the top alleles will be used; see the --max_alternate_alleles argument \r\n"
       ]
      },
      {
       "output_type": "stream",
       "stream": "stdout",
       "text": [
        "WARN  08:13:34,605 ExactAFCalculator - this tool is currently set to genotype at most 6 alternate alleles in a given context, but the context at Pf3D7_06_v3:1213159 has 7 alternate alleles so only the top alleles will be used; see the --max_alternate_alleles argument \r\n"
       ]
      },
      {
       "output_type": "stream",
       "stream": "stdout",
       "text": [
        "WARN  08:13:34,686 ExactAFCalculator - this tool is currently set to genotype at most 6 alternate alleles in a given context, but the context at Pf3D7_06_v3:1242490 has 7 alternate alleles so only the top alleles will be used; see the --max_alternate_alleles argument \r\n"
       ]
      },
      {
       "output_type": "stream",
       "stream": "stdout",
       "text": [
        "WARN  08:13:34,738 ExactAFCalculator - this tool is currently set to genotype at most 6 alternate alleles in a given context, but the context at Pf3D7_06_v3:1253062 has 8 alternate alleles so only the top alleles will be used; see the --max_alternate_alleles argument \r\n"
       ]
      },
      {
       "output_type": "stream",
       "stream": "stdout",
       "text": [
        "WARN  08:13:34,804 ExactAFCalculator - this tool is currently set to genotype at most 6 alternate alleles in a given context, but the context at Pf3D7_06_v3:1274671 has 8 alternate alleles so only the top alleles will be used; see the --max_alternate_alleles argument \r\n"
       ]
      },
      {
       "output_type": "stream",
       "stream": "stdout",
       "text": [
        "WARN  08:13:34,859 ExactAFCalculator - this tool is currently set to genotype at most 6 alternate alleles in a given context, but the context at Pf3D7_06_v3:1290289 has 16 alternate alleles so only the top alleles will be used; see the --max_alternate_alleles argument \r\n"
       ]
      },
      {
       "output_type": "stream",
       "stream": "stdout",
       "text": [
        "WARN  08:13:35,236 ExactAFCalculator - this tool is currently set to genotype at most 6 alternate alleles in a given context, but the context at Pf3D7_06_v3:1346481 has 7 alternate alleles so only the top alleles will be used; see the --max_alternate_alleles argument \r\n"
       ]
      },
      {
       "output_type": "stream",
       "stream": "stdout",
       "text": [
        "INFO  08:13:36,110 ProgressMeter -            done   1418242.0    11.0 s       8.0 s       28.5%    38.0 s      27.0 s \r\n",
        "INFO  08:13:36,110 ProgressMeter - Total runtime 11.65 secs, 0.19 min, 0.00 hours \r\n"
       ]
      },
      {
       "output_type": "stream",
       "stream": "stdout",
       "text": [
        "INFO  08:13:39,905 GATKRunReport - Uploaded run statistics report to AWS S3 \r\n"
       ]
      },
      {
       "output_type": "stream",
       "stream": "stdout",
       "text": [
        "INFO  08:13:41,533 HelpFormatter - -------------------------------------------------------------------------------- \r\n"
       ]
      },
      {
       "output_type": "stream",
       "stream": "stdout",
       "text": [
        "INFO  08:13:41,535 HelpFormatter - The Genome Analysis Toolkit (GATK) v3.4-0-g7e26428, Compiled 2015/05/15 03:25:41 \r\n",
        "INFO  08:13:41,535 HelpFormatter - Copyright (c) 2010 The Broad Institute \r\n",
        "INFO  08:13:41,535 HelpFormatter - For support and documentation go to http://www.broadinstitute.org/gatk \r\n",
        "INFO  08:13:41,539 HelpFormatter - Program Args: -T CombineGVCFs -R /data/plasmodium/pfalciparum/recon/roamato/Pf3D7_v3/3D7_sorted.fa --variant /nfs/team112_internal/production_files/Pf3k/methods/assembled_samples/vcfs/gvcf/lists/gvcfs.Pf3D7_08_v3.0.list -o /nfs/team112_internal/production_files/Pf3k/methods/assembled_samples/vcfs/gvcf/combined_gvcf/combined.Pf3D7_08_v3.0.g.vcf \r\n",
        "INFO  08:13:41,545 HelpFormatter - Executing as rpearson@dhcp511.well.ox.ac.uk on Mac OS X 10.10.3 x86_64; Java HotSpot(TM) 64-Bit Server VM 1.7.0_60-b19. \r\n",
        "INFO  08:13:41,545 HelpFormatter - Date/Time: 2015/07/01 08:13:41 \r\n",
        "INFO  08:13:41,545 HelpFormatter - -------------------------------------------------------------------------------- \r\n",
        "INFO  08:13:41,545 HelpFormatter - -------------------------------------------------------------------------------- \r\n"
       ]
      },
      {
       "output_type": "stream",
       "stream": "stdout",
       "text": [
        "INFO  08:13:41,902 GenomeAnalysisEngine - Strictness is SILENT \r\n"
       ]
      },
      {
       "output_type": "stream",
       "stream": "stdout",
       "text": [
        "INFO  08:13:41,951 GenomeAnalysisEngine - Downsampling Settings: Method: BY_SAMPLE, Target Coverage: 1000 \r\n"
       ]
      },
      {
       "output_type": "stream",
       "stream": "stdout",
       "text": [
        "INFO  08:13:42,082 GenomeAnalysisEngine - Preparing for traversal \r\n",
        "INFO  08:13:42,083 GenomeAnalysisEngine - Done preparing for traversal \r\n",
        "INFO  08:13:42,083 ProgressMeter - [INITIALIZATION COMPLETE; STARTING PROCESSING] \r\n",
        "INFO  08:13:42,084 ProgressMeter -                 | processed |    time |    per 1M |           |   total | remaining \r\n",
        "INFO  08:13:42,084 ProgressMeter -        Location |     sites | elapsed |     sites | completed | runtime |   runtime \r\n"
       ]
      },
      {
       "output_type": "stream",
       "stream": "stdout",
       "text": [
        "INFO  08:13:49,605 ProgressMeter -            done   1472805.0     7.0 s       5.0 s       41.0%    17.0 s      10.0 s \r\n",
        "INFO  08:13:49,605 ProgressMeter - Total runtime 7.52 secs, 0.13 min, 0.00 hours \r\n"
       ]
      },
      {
       "output_type": "stream",
       "stream": "stdout",
       "text": [
        "INFO  08:13:54,163 HttpMethodBase - 100 (continue) read timeout. Resume sending the request \r\n"
       ]
      },
      {
       "output_type": "stream",
       "stream": "stdout",
       "text": [
        "INFO  08:13:54,547 HttpMethodBase - Discarding unexpected response: HTTP/1.1 100 Continue \r\n"
       ]
      },
      {
       "output_type": "stream",
       "stream": "stdout",
       "text": [
        "INFO  08:13:54,596 GATKRunReport - Uploaded run statistics report to AWS S3 \r\n"
       ]
      },
      {
       "output_type": "stream",
       "stream": "stdout",
       "text": [
        "INFO  08:13:56,352 HelpFormatter - -------------------------------------------------------------------------------- \r\n",
        "INFO  08:13:56,354 HelpFormatter - The Genome Analysis Toolkit (GATK) v3.4-0-g7e26428, Compiled 2015/05/15 03:25:41 \r\n",
        "INFO  08:13:56,354 HelpFormatter - Copyright (c) 2010 The Broad Institute \r\n",
        "INFO  08:13:56,354 HelpFormatter - For support and documentation go to http://www.broadinstitute.org/gatk \r\n",
        "INFO  08:13:56,358 HelpFormatter - Program Args: -T CombineGVCFs -R /data/plasmodium/pfalciparum/recon/roamato/Pf3D7_v3/3D7_sorted.fa --variant /nfs/team112_internal/production_files/Pf3k/methods/assembled_samples/vcfs/gvcf/lists/gvcfs.Pf3D7_08_v3.1.list -o /nfs/team112_internal/production_files/Pf3k/methods/assembled_samples/vcfs/gvcf/combined_gvcf/combined.Pf3D7_08_v3.1.g.vcf \r\n",
        "INFO  08:13:56,364 HelpFormatter - Executing as rpearson@dhcp511.well.ox.ac.uk on Mac OS X 10.10.3 x86_64; Java HotSpot(TM) 64-Bit Server VM 1.7.0_60-b19. \r\n",
        "INFO  08:13:56,364 HelpFormatter - Date/Time: 2015/07/01 08:13:56 \r\n",
        "INFO  08:13:56,365 HelpFormatter - -------------------------------------------------------------------------------- \r\n",
        "INFO  08:13:56,365 HelpFormatter - -------------------------------------------------------------------------------- \r\n"
       ]
      },
      {
       "output_type": "stream",
       "stream": "stdout",
       "text": [
        "INFO  08:13:56,724 GenomeAnalysisEngine - Strictness is SILENT \r\n"
       ]
      },
      {
       "output_type": "stream",
       "stream": "stdout",
       "text": [
        "INFO  08:13:56,773 GenomeAnalysisEngine - Downsampling Settings: Method: BY_SAMPLE, Target Coverage: 1000 \r\n"
       ]
      },
      {
       "output_type": "stream",
       "stream": "stdout",
       "text": [
        "INFO  08:13:56,906 GenomeAnalysisEngine - Preparing for traversal \r\n",
        "INFO  08:13:56,907 GenomeAnalysisEngine - Done preparing for traversal \r\n",
        "INFO  08:13:56,907 ProgressMeter - [INITIALIZATION COMPLETE; STARTING PROCESSING] \r\n",
        "INFO  08:13:56,908 ProgressMeter -                 | processed |    time |    per 1M |           |   total | remaining \r\n",
        "INFO  08:13:56,908 ProgressMeter -        Location |     sites | elapsed |     sites | completed | runtime |   runtime \r\n"
       ]
      },
      {
       "output_type": "stream",
       "stream": "stdout",
       "text": [
        "INFO  08:14:05,640 ProgressMeter -            done   1472805.0     8.0 s       5.0 s       41.0%    19.0 s      11.0 s \r\n",
        "INFO  08:14:05,641 ProgressMeter - Total runtime 8.73 secs, 0.15 min, 0.00 hours \r\n"
       ]
      },
      {
       "output_type": "stream",
       "stream": "stdout",
       "text": [
        "INFO  08:14:08,370 GATKRunReport - Uploaded run statistics report to AWS S3 \r\n"
       ]
      },
      {
       "output_type": "stream",
       "stream": "stdout",
       "text": [
        "INFO  08:14:10,014 HelpFormatter - -------------------------------------------------------------------------------- \r\n",
        "INFO  08:14:10,016 HelpFormatter - The Genome Analysis Toolkit (GATK) v3.4-0-g7e26428, Compiled 2015/05/15 03:25:41 \r\n",
        "INFO  08:14:10,016 HelpFormatter - Copyright (c) 2010 The Broad Institute \r\n",
        "INFO  08:14:10,016 HelpFormatter - For support and documentation go to http://www.broadinstitute.org/gatk \r\n",
        "INFO  08:14:10,021 HelpFormatter - Program Args: -T GenotypeGVCFs -R /data/plasmodium/pfalciparum/recon/roamato/Pf3D7_v3/3D7_sorted.fa --variant /nfs/team112_internal/production_files/Pf3k/methods/assembled_samples/vcfs/gvcf/lists/gvcfs.Pf3D7_08_v3.all.list -o /nfs/team112_internal/production_files/Pf3k/methods/assembled_samples/vcfs/vcf/raw.snps.indels.Pf3D7_08_v3.vcf \r\n"
       ]
      },
      {
       "output_type": "stream",
       "stream": "stdout",
       "text": [
        "INFO  08:14:10,029 HelpFormatter - Executing as rpearson@dhcp511.well.ox.ac.uk on Mac OS X 10.10.3 x86_64; Java HotSpot(TM) 64-Bit Server VM 1.7.0_60-b19. \r\n",
        "INFO  08:14:10,030 HelpFormatter - Date/Time: 2015/07/01 08:14:10 \r\n",
        "INFO  08:14:10,030 HelpFormatter - -------------------------------------------------------------------------------- \r\n",
        "INFO  08:14:10,030 HelpFormatter - -------------------------------------------------------------------------------- \r\n"
       ]
      },
      {
       "output_type": "stream",
       "stream": "stdout",
       "text": [
        "INFO  08:14:10,448 GenomeAnalysisEngine - Strictness is SILENT \r\n"
       ]
      },
      {
       "output_type": "stream",
       "stream": "stdout",
       "text": [
        "INFO  08:14:10,507 GenomeAnalysisEngine - Downsampling Settings: Method: BY_SAMPLE, Target Coverage: 1000 \r\n"
       ]
      },
      {
       "output_type": "stream",
       "stream": "stdout",
       "text": [
        "INFO  08:14:10,642 GenomeAnalysisEngine - Preparing for traversal \r\n",
        "INFO  08:14:10,643 GenomeAnalysisEngine - Done preparing for traversal \r\n",
        "INFO  08:14:10,643 ProgressMeter - [INITIALIZATION COMPLETE; STARTING PROCESSING] \r\n",
        "INFO  08:14:10,643 ProgressMeter -                 | processed |    time |    per 1M |           |   total | remaining \r\n",
        "INFO  08:14:10,644 ProgressMeter -        Location |     sites | elapsed |     sites | completed | runtime |   runtime \r\n"
       ]
      },
      {
       "output_type": "stream",
       "stream": "stdout",
       "text": [
        "INFO  08:14:10,739 GenotypeGVCFs - Notice that the -ploidy parameter is ignored in GenotypeGVCFs tool as this is automatically determined by the input variant files \r\n"
       ]
      },
      {
       "output_type": "stream",
       "stream": "stdout",
       "text": [
        "WARN  08:14:14,012 ExactAFCalculator - this tool is currently set to genotype at most 6 alternate alleles in a given context, but the context at Pf3D7_08_v3:29589 has 7 alternate alleles so only the top alleles will be used; see the --max_alternate_alleles argument \r\n"
       ]
      },
      {
       "output_type": "stream",
       "stream": "stdout",
       "text": [
        "WARN  08:14:14,969 ExactAFCalculator - this tool is currently set to genotype at most 6 alternate alleles in a given context, but the context at Pf3D7_08_v3:73826 has 7 alternate alleles so only the top alleles will be used; see the --max_alternate_alleles argument \r\n"
       ]
      },
      {
       "output_type": "stream",
       "stream": "stdout",
       "text": [
        "WARN  08:14:14,991 ExactAFCalculator - this tool is currently set to genotype at most 6 alternate alleles in a given context, but the context at Pf3D7_08_v3:75545 has 8 alternate alleles so only the top alleles will be used; see the --max_alternate_alleles argument \r\n"
       ]
      },
      {
       "output_type": "stream",
       "stream": "stdout",
       "text": [
        "WARN  08:14:15,029 ExactAFCalculator - this tool is currently set to genotype at most 6 alternate alleles in a given context, but the context at Pf3D7_08_v3:79465 has 7 alternate alleles so only the top alleles will be used; see the --max_alternate_alleles argument \r\n"
       ]
      },
      {
       "output_type": "stream",
       "stream": "stdout",
       "text": [
        "WARN  08:14:15,159 ExactAFCalculator - this tool is currently set to genotype at most 6 alternate alleles in a given context, but the context at Pf3D7_08_v3:90792 has 7 alternate alleles so only the top alleles will be used; see the --max_alternate_alleles argument \r\n"
       ]
      },
      {
       "output_type": "stream",
       "stream": "stdout",
       "text": [
        "WARN  08:14:15,216 ExactAFCalculator - this tool is currently set to genotype at most 6 alternate alleles in a given context, but the context at Pf3D7_08_v3:102966 has 7 alternate alleles so only the top alleles will be used; see the --max_alternate_alleles argument \r\n",
        "WARN  08:14:15,229 ExactAFCalculator - this tool is currently set to genotype at most 6 alternate alleles in a given context, but the context at Pf3D7_08_v3:104666 has 9 alternate alleles so only the top alleles will be used; see the --max_alternate_alleles argument \r\n"
       ]
      },
      {
       "output_type": "stream",
       "stream": "stdout",
       "text": [
        "WARN  08:14:15,286 ExactAFCalculator - this tool is currently set to genotype at most 6 alternate alleles in a given context, but the context at Pf3D7_08_v3:113565 has 7 alternate alleles so only the top alleles will be used; see the --max_alternate_alleles argument \r\n",
        "WARN  08:14:15,316 ExactAFCalculator - this tool is currently set to genotype at most 6 alternate alleles in a given context, but the context at Pf3D7_08_v3:118965 has 7 alternate alleles so only the top alleles will be used; see the --max_alternate_alleles argument \r\n"
       ]
      },
      {
       "output_type": "stream",
       "stream": "stdout",
       "text": [
        "WARN  08:14:15,347 ExactAFCalculator - this tool is currently set to genotype at most 6 alternate alleles in a given context, but the context at Pf3D7_08_v3:125693 has 8 alternate alleles so only the top alleles will be used; see the --max_alternate_alleles argument \r\n"
       ]
      },
      {
       "output_type": "stream",
       "stream": "stdout",
       "text": [
        "WARN  08:14:15,500 ExactAFCalculator - this tool is currently set to genotype at most 6 alternate alleles in a given context, but the context at Pf3D7_08_v3:170597 has 10 alternate alleles so only the top alleles will be used; see the --max_alternate_alleles argument \r\n",
        "WARN  08:14:15,518 ExactAFCalculator - this tool is currently set to genotype at most 6 alternate alleles in a given context, but the context at Pf3D7_08_v3:174527 has 7 alternate alleles so only the top alleles will be used; see the --max_alternate_alleles argument \r\n"
       ]
      },
      {
       "output_type": "stream",
       "stream": "stdout",
       "text": [
        "WARN  08:14:15,551 ExactAFCalculator - this tool is currently set to genotype at most 6 alternate alleles in a given context, but the context at Pf3D7_08_v3:187283 has 8 alternate alleles so only the top alleles will be used; see the --max_alternate_alleles argument \r\n",
        "WARN  08:14:15,554 ExactAFCalculator - this tool is currently set to genotype at most 6 alternate alleles in a given context, but the context at Pf3D7_08_v3:188003 has 7 alternate alleles so only the top alleles will be used; see the --max_alternate_alleles argument \r\n",
        "WARN  08:14:15,557 ExactAFCalculator - this tool is currently set to genotype at most 6 alternate alleles in a given context, but the context at Pf3D7_08_v3:188489 has 8 alternate alleles so only the top alleles will be used; see the --max_alternate_alleles argument \r\n",
        "WARN  08:14:15,581 ExactAFCalculator - this tool is currently set to genotype at most 6 alternate alleles in a given context, but the context at Pf3D7_08_v3:195302 has 8 alternate alleles so only the top alleles will be used; see the --max_alternate_alleles argument \r\n",
        "WARN  08:14:15,597 ExactAFCalculator - this tool is currently set to genotype at most 6 alternate alleles in a given context, but the context at Pf3D7_08_v3:199134 has 7 alternate alleles so only the top alleles will be used; see the --max_alternate_alleles argument \r\n"
       ]
      },
      {
       "output_type": "stream",
       "stream": "stdout",
       "text": [
        "WARN  08:14:15,630 ExactAFCalculator - this tool is currently set to genotype at most 6 alternate alleles in a given context, but the context at Pf3D7_08_v3:207819 has 9 alternate alleles so only the top alleles will be used; see the --max_alternate_alleles argument \r\n"
       ]
      },
      {
       "output_type": "stream",
       "stream": "stdout",
       "text": [
        "WARN  08:14:15,654 ExactAFCalculator - this tool is currently set to genotype at most 6 alternate alleles in a given context, but the context at Pf3D7_08_v3:212158 has 7 alternate alleles so only the top alleles will be used; see the --max_alternate_alleles argument \r\n",
        "WARN  08:14:15,692 ExactAFCalculator - this tool is currently set to genotype at most 6 alternate alleles in a given context, but the context at Pf3D7_08_v3:223659 has 11 alternate alleles so only the top alleles will be used; see the --max_alternate_alleles argument \r\n",
        "WARN  08:14:15,697 ExactAFCalculator - this tool is currently set to genotype at most 6 alternate alleles in a given context, but the context at Pf3D7_08_v3:224896 has 8 alternate alleles so only the top alleles will be used; see the --max_alternate_alleles argument \r\n"
       ]
      },
      {
       "output_type": "stream",
       "stream": "stdout",
       "text": [
        "WARN  08:14:15,713 ExactAFCalculator - this tool is currently set to genotype at most 6 alternate alleles in a given context, but the context at Pf3D7_08_v3:227384 has 7 alternate alleles so only the top alleles will be used; see the --max_alternate_alleles argument \r\n",
        "WARN  08:14:15,734 ExactAFCalculator - this tool is currently set to genotype at most 6 alternate alleles in a given context, but the context at Pf3D7_08_v3:234237 has 7 alternate alleles so only the top alleles will be used; see the --max_alternate_alleles argument \r\n",
        "WARN  08:14:15,741 ExactAFCalculator - this tool is currently set to genotype at most 6 alternate alleles in a given context, but the context at Pf3D7_08_v3:235848 has 8 alternate alleles so only the top alleles will be used; see the --max_alternate_alleles argument \r\n"
       ]
      },
      {
       "output_type": "stream",
       "stream": "stdout",
       "text": [
        "WARN  08:14:15,768 ExactAFCalculator - this tool is currently set to genotype at most 6 alternate alleles in a given context, but the context at Pf3D7_08_v3:238987 has 7 alternate alleles so only the top alleles will be used; see the --max_alternate_alleles argument \r\n"
       ]
      },
      {
       "output_type": "stream",
       "stream": "stdout",
       "text": [
        "WARN  08:14:15,842 ExactAFCalculator - this tool is currently set to genotype at most 6 alternate alleles in a given context, but the context at Pf3D7_08_v3:264067 has 7 alternate alleles so only the top alleles will be used; see the --max_alternate_alleles argument \r\n"
       ]
      },
      {
       "output_type": "stream",
       "stream": "stdout",
       "text": [
        "WARN  08:14:15,893 ExactAFCalculator - this tool is currently set to genotype at most 6 alternate alleles in a given context, but the context at Pf3D7_08_v3:278236 has 10 alternate alleles so only the top alleles will be used; see the --max_alternate_alleles argument \r\n",
        "WARN  08:14:15,904 ExactAFCalculator - this tool is currently set to genotype at most 6 alternate alleles in a given context, but the context at Pf3D7_08_v3:281225 has 7 alternate alleles so only the top alleles will be used; see the --max_alternate_alleles argument \r\n"
       ]
      },
      {
       "output_type": "stream",
       "stream": "stdout",
       "text": [
        "WARN  08:14:15,914 ExactAFCalculator - this tool is currently set to genotype at most 6 alternate alleles in a given context, but the context at Pf3D7_08_v3:282433 has 8 alternate alleles so only the top alleles will be used; see the --max_alternate_alleles argument \r\n",
        "WARN  08:14:15,921 ExactAFCalculator - this tool is currently set to genotype at most 6 alternate alleles in a given context, but the context at Pf3D7_08_v3:283894 has 9 alternate alleles so only the top alleles will be used; see the --max_alternate_alleles argument \r\n"
       ]
      },
      {
       "output_type": "stream",
       "stream": "stdout",
       "text": [
        "WARN  08:14:16,045 ExactAFCalculator - this tool is currently set to genotype at most 6 alternate alleles in a given context, but the context at Pf3D7_08_v3:323736 has 9 alternate alleles so only the top alleles will be used; see the --max_alternate_alleles argument \r\n",
        "WARN  08:14:16,058 ExactAFCalculator - this tool is currently set to genotype at most 6 alternate alleles in a given context, but the context at Pf3D7_08_v3:325240 has 8 alternate alleles so only the top alleles will be used; see the --max_alternate_alleles argument \r\n"
       ]
      },
      {
       "output_type": "stream",
       "stream": "stdout",
       "text": [
        "WARN  08:14:16,077 ExactAFCalculator - this tool is currently set to genotype at most 6 alternate alleles in a given context, but the context at Pf3D7_08_v3:330037 has 9 alternate alleles so only the top alleles will be used; see the --max_alternate_alleles argument \r\n"
       ]
      },
      {
       "output_type": "stream",
       "stream": "stdout",
       "text": [
        "WARN  08:14:16,141 ExactAFCalculator - this tool is currently set to genotype at most 6 alternate alleles in a given context, but the context at Pf3D7_08_v3:345345 has 9 alternate alleles so only the top alleles will be used; see the --max_alternate_alleles argument \r\n"
       ]
      },
      {
       "output_type": "stream",
       "stream": "stdout",
       "text": [
        "WARN  08:14:16,379 ExactAFCalculator - this tool is currently set to genotype at most 6 alternate alleles in a given context, but the context at Pf3D7_08_v3:398097 has 7 alternate alleles so only the top alleles will be used; see the --max_alternate_alleles argument \r\n"
       ]
      },
      {
       "output_type": "stream",
       "stream": "stdout",
       "text": [
        "WARN  08:14:16,391 ExactAFCalculator - this tool is currently set to genotype at most 6 alternate alleles in a given context, but the context at Pf3D7_08_v3:401045 has 7 alternate alleles so only the top alleles will be used; see the --max_alternate_alleles argument \r\n"
       ]
      },
      {
       "output_type": "stream",
       "stream": "stdout",
       "text": [
        "WARN  08:14:16,511 ExactAFCalculator - this tool is currently set to genotype at most 6 alternate alleles in a given context, but the context at Pf3D7_08_v3:422873 has 7 alternate alleles so only the top alleles will be used; see the --max_alternate_alleles argument \r\n"
       ]
      },
      {
       "output_type": "stream",
       "stream": "stdout",
       "text": [
        "WARN  08:14:16,546 ExactAFCalculator - this tool is currently set to genotype at most 6 alternate alleles in a given context, but the context at Pf3D7_08_v3:426622 has 7 alternate alleles so only the top alleles will be used; see the --max_alternate_alleles argument \r\n",
        "WARN  08:14:16,549 ExactAFCalculator - this tool is currently set to genotype at most 6 alternate alleles in a given context, but the context at Pf3D7_08_v3:426972 has 8 alternate alleles so only the top alleles will be used; see the --max_alternate_alleles argument \r\n"
       ]
      },
      {
       "output_type": "stream",
       "stream": "stdout",
       "text": [
        "WARN  08:14:17,107 ExactAFCalculator - this tool is currently set to genotype at most 6 alternate alleles in a given context, but the context at Pf3D7_08_v3:449618 has 7 alternate alleles so only the top alleles will be used; see the --max_alternate_alleles argument \r\n"
       ]
      },
      {
       "output_type": "stream",
       "stream": "stdout",
       "text": [
        "WARN  08:14:17,265 ExactAFCalculator - this tool is currently set to genotype at most 6 alternate alleles in a given context, but the context at Pf3D7_08_v3:455027 has 7 alternate alleles so only the top alleles will be used; see the --max_alternate_alleles argument \r\n"
       ]
      },
      {
       "output_type": "stream",
       "stream": "stdout",
       "text": [
        "WARN  08:14:17,542 ExactAFCalculator - this tool is currently set to genotype at most 6 alternate alleles in a given context, but the context at Pf3D7_08_v3:499709 has 7 alternate alleles so only the top alleles will be used; see the --max_alternate_alleles argument \r\n",
        "WARN  08:14:17,546 ExactAFCalculator - this tool is currently set to genotype at most 6 alternate alleles in a given context, but the context at Pf3D7_08_v3:500405 has 10 alternate alleles so only the top alleles will be used; see the --max_alternate_alleles argument \r\n",
        "WARN  08:14:17,549 ExactAFCalculator - this tool is currently set to genotype at most 6 alternate alleles in a given context, but the context at Pf3D7_08_v3:501610 has 7 alternate alleles so only the top alleles will be used; see the --max_alternate_alleles argument \r\n",
        "WARN  08:14:17,572 ExactAFCalculator - this tool is currently set to genotype at most 6 alternate alleles in a given context, but the context at Pf3D7_08_v3:509095 has 8 alternate alleles so only the top alleles will be used; see the --max_alternate_alleles argument \r\n"
       ]
      },
      {
       "output_type": "stream",
       "stream": "stdout",
       "text": [
        "WARN  08:14:17,634 ExactAFCalculator - this tool is currently set to genotype at most 6 alternate alleles in a given context, but the context at Pf3D7_08_v3:527512 has 7 alternate alleles so only the top alleles will be used; see the --max_alternate_alleles argument \r\n",
        "WARN  08:14:17,641 ExactAFCalculator - this tool is currently set to genotype at most 6 alternate alleles in a given context, but the context at Pf3D7_08_v3:528160 has 7 alternate alleles so only the top alleles will be used; see the --max_alternate_alleles argument \r\n"
       ]
      },
      {
       "output_type": "stream",
       "stream": "stdout",
       "text": [
        "WARN  08:14:17,822 ExactAFCalculator - this tool is currently set to genotype at most 6 alternate alleles in a given context, but the context at Pf3D7_08_v3:577726 has 8 alternate alleles so only the top alleles will be used; see the --max_alternate_alleles argument \r\n",
        "WARN  08:14:17,830 ExactAFCalculator - this tool is currently set to genotype at most 6 alternate alleles in a given context, but the context at Pf3D7_08_v3:579273 has 8 alternate alleles so only the top alleles will be used; see the --max_alternate_alleles argument \r\n",
        "WARN  08:14:17,844 ExactAFCalculator - this tool is currently set to genotype at most 6 alternate alleles in a given context, but the context at Pf3D7_08_v3:586699 has 8 alternate alleles so only the top alleles will be used; see the --max_alternate_alleles argument \r\n"
       ]
      },
      {
       "output_type": "stream",
       "stream": "stdout",
       "text": [
        "WARN  08:14:17,890 ExactAFCalculator - this tool is currently set to genotype at most 6 alternate alleles in a given context, but the context at Pf3D7_08_v3:603197 has 11 alternate alleles so only the top alleles will be used; see the --max_alternate_alleles argument \r\n"
       ]
      },
      {
       "output_type": "stream",
       "stream": "stdout",
       "text": [
        "WARN  08:14:17,922 ExactAFCalculator - this tool is currently set to genotype at most 6 alternate alleles in a given context, but the context at Pf3D7_08_v3:614290 has 7 alternate alleles so only the top alleles will be used; see the --max_alternate_alleles argument \r\n",
        "WARN  08:14:17,928 ExactAFCalculator - this tool is currently set to genotype at most 6 alternate alleles in a given context, but the context at Pf3D7_08_v3:615391 has 8 alternate alleles so only the top alleles will be used; see the --max_alternate_alleles argument \r\n"
       ]
      },
      {
       "output_type": "stream",
       "stream": "stdout",
       "text": [
        "WARN  08:14:18,013 ExactAFCalculator - this tool is currently set to genotype at most 6 alternate alleles in a given context, but the context at Pf3D7_08_v3:642671 has 7 alternate alleles so only the top alleles will be used; see the --max_alternate_alleles argument \r\n"
       ]
      },
      {
       "output_type": "stream",
       "stream": "stdout",
       "text": [
        "WARN  08:14:18,099 ExactAFCalculator - this tool is currently set to genotype at most 6 alternate alleles in a given context, but the context at Pf3D7_08_v3:658568 has 7 alternate alleles so only the top alleles will be used; see the --max_alternate_alleles argument \r\n",
        "WARN  08:14:18,117 ExactAFCalculator - this tool is currently set to genotype at most 6 alternate alleles in a given context, but the context at Pf3D7_08_v3:661899 has 7 alternate alleles so only the top alleles will be used; see the --max_alternate_alleles argument \r\n"
       ]
      },
      {
       "output_type": "stream",
       "stream": "stdout",
       "text": [
        "WARN  08:14:18,233 ExactAFCalculator - this tool is currently set to genotype at most 6 alternate alleles in a given context, but the context at Pf3D7_08_v3:683378 has 8 alternate alleles so only the top alleles will be used; see the --max_alternate_alleles argument \r\n"
       ]
      },
      {
       "output_type": "stream",
       "stream": "stdout",
       "text": [
        "WARN  08:14:18,276 ExactAFCalculator - this tool is currently set to genotype at most 6 alternate alleles in a given context, but the context at Pf3D7_08_v3:689364 has 7 alternate alleles so only the top alleles will be used; see the --max_alternate_alleles argument \r\n"
       ]
      },
      {
       "output_type": "stream",
       "stream": "stdout",
       "text": [
        "WARN  08:14:18,455 ExactAFCalculator - this tool is currently set to genotype at most 6 alternate alleles in a given context, but the context at Pf3D7_08_v3:734705 has 7 alternate alleles so only the top alleles will be used; see the --max_alternate_alleles argument \r\n",
        "WARN  08:14:18,482 ExactAFCalculator - this tool is currently set to genotype at most 6 alternate alleles in a given context, but the context at Pf3D7_08_v3:743374 has 7 alternate alleles so only the top alleles will be used; see the --max_alternate_alleles argument \r\n"
       ]
      },
      {
       "output_type": "stream",
       "stream": "stdout",
       "text": [
        "WARN  08:14:18,505 ExactAFCalculator - this tool is currently set to genotype at most 6 alternate alleles in a given context, but the context at Pf3D7_08_v3:750770 has 7 alternate alleles so only the top alleles will be used; see the --max_alternate_alleles argument \r\n",
        "WARN  08:14:18,516 ExactAFCalculator - this tool is currently set to genotype at most 6 alternate alleles in a given context, but the context at Pf3D7_08_v3:754341 has 12 alternate alleles so only the top alleles will be used; see the --max_alternate_alleles argument \r\n",
        "WARN  08:14:18,524 ExactAFCalculator - this tool is currently set to genotype at most 6 alternate alleles in a given context, but the context at Pf3D7_08_v3:755133 has 8 alternate alleles so only the top alleles will be used; see the --max_alternate_alleles argument \r\n"
       ]
      },
      {
       "output_type": "stream",
       "stream": "stdout",
       "text": [
        "WARN  08:14:18,627 ExactAFCalculator - this tool is currently set to genotype at most 6 alternate alleles in a given context, but the context at Pf3D7_08_v3:780916 has 7 alternate alleles so only the top alleles will be used; see the --max_alternate_alleles argument \r\n",
        "WARN  08:14:18,633 ExactAFCalculator - this tool is currently set to genotype at most 6 alternate alleles in a given context, but the context at Pf3D7_08_v3:782239 has 7 alternate alleles so only the top alleles will be used; see the --max_alternate_alleles argument \r\n"
       ]
      },
      {
       "output_type": "stream",
       "stream": "stdout",
       "text": [
        "WARN  08:14:18,660 ExactAFCalculator - this tool is currently set to genotype at most 6 alternate alleles in a given context, but the context at Pf3D7_08_v3:791372 has 7 alternate alleles so only the top alleles will be used; see the --max_alternate_alleles argument \r\n"
       ]
      },
      {
       "output_type": "stream",
       "stream": "stdout",
       "text": [
        "WARN  08:14:18,747 ExactAFCalculator - this tool is currently set to genotype at most 6 alternate alleles in a given context, but the context at Pf3D7_08_v3:808078 has 8 alternate alleles so only the top alleles will be used; see the --max_alternate_alleles argument \r\n",
        "WARN  08:14:18,756 ExactAFCalculator - this tool is currently set to genotype at most 6 alternate alleles in a given context, but the context at Pf3D7_08_v3:810177 has 9 alternate alleles so only the top alleles will be used; see the --max_alternate_alleles argument \r\n",
        "WARN  08:14:18,770 ExactAFCalculator - this tool is currently set to genotype at most 6 alternate alleles in a given context, but the context at Pf3D7_08_v3:812368 has 7 alternate alleles so only the top alleles will be used; see the --max_alternate_alleles argument \r\n",
        "WARN  08:14:18,781 ExactAFCalculator - this tool is currently set to genotype at most 6 alternate alleles in a given context, but the context at Pf3D7_08_v3:813318 has 7 alternate alleles so only the top alleles will be used; see the --max_alternate_alleles argument \r\n"
       ]
      },
      {
       "output_type": "stream",
       "stream": "stdout",
       "text": [
        "WARN  08:14:18,873 ExactAFCalculator - this tool is currently set to genotype at most 6 alternate alleles in a given context, but the context at Pf3D7_08_v3:830164 has 7 alternate alleles so only the top alleles will be used; see the --max_alternate_alleles argument \r\n",
        "WARN  08:14:18,878 ExactAFCalculator - this tool is currently set to genotype at most 6 alternate alleles in a given context, but the context at Pf3D7_08_v3:831252 has 7 alternate alleles so only the top alleles will be used; see the --max_alternate_alleles argument \r\n"
       ]
      },
      {
       "output_type": "stream",
       "stream": "stdout",
       "text": [
        "WARN  08:14:18,980 ExactAFCalculator - this tool is currently set to genotype at most 6 alternate alleles in a given context, but the context at Pf3D7_08_v3:853219 has 7 alternate alleles so only the top alleles will be used; see the --max_alternate_alleles argument \r\n"
       ]
      },
      {
       "output_type": "stream",
       "stream": "stdout",
       "text": [
        "WARN  08:14:19,098 ExactAFCalculator - this tool is currently set to genotype at most 6 alternate alleles in a given context, but the context at Pf3D7_08_v3:886188 has 11 alternate alleles so only the top alleles will be used; see the --max_alternate_alleles argument \r\n"
       ]
      },
      {
       "output_type": "stream",
       "stream": "stdout",
       "text": [
        "WARN  08:14:19,150 ExactAFCalculator - this tool is currently set to genotype at most 6 alternate alleles in a given context, but the context at Pf3D7_08_v3:899150 has 7 alternate alleles so only the top alleles will be used; see the --max_alternate_alleles argument \r\n"
       ]
      },
      {
       "output_type": "stream",
       "stream": "stdout",
       "text": [
        "WARN  08:14:19,243 ExactAFCalculator - this tool is currently set to genotype at most 6 alternate alleles in a given context, but the context at Pf3D7_08_v3:921228 has 8 alternate alleles so only the top alleles will be used; see the --max_alternate_alleles argument \r\n",
        "WARN  08:14:19,246 ExactAFCalculator - this tool is currently set to genotype at most 6 alternate alleles in a given context, but the context at Pf3D7_08_v3:921492 has 7 alternate alleles so only the top alleles will be used; see the --max_alternate_alleles argument \r\n",
        "WARN  08:14:19,251 ExactAFCalculator - this tool is currently set to genotype at most 6 alternate alleles in a given context, but the context at Pf3D7_08_v3:922046 has 8 alternate alleles so only the top alleles will be used; see the --max_alternate_alleles argument \r\n"
       ]
      },
      {
       "output_type": "stream",
       "stream": "stdout",
       "text": [
        "WARN  08:14:19,279 ExactAFCalculator - this tool is currently set to genotype at most 6 alternate alleles in a given context, but the context at Pf3D7_08_v3:930889 has 7 alternate alleles so only the top alleles will be used; see the --max_alternate_alleles argument \r\n",
        "WARN  08:14:19,286 ExactAFCalculator - this tool is currently set to genotype at most 6 alternate alleles in a given context, but the context at Pf3D7_08_v3:931555 has 8 alternate alleles so only the top alleles will be used; see the --max_alternate_alleles argument \r\n",
        "WARN  08:14:19,293 ExactAFCalculator - this tool is currently set to genotype at most 6 alternate alleles in a given context, but the context at Pf3D7_08_v3:932278 has 8 alternate alleles so only the top alleles will be used; see the --max_alternate_alleles argument \r\n"
       ]
      },
      {
       "output_type": "stream",
       "stream": "stdout",
       "text": [
        "WARN  08:14:19,387 ExactAFCalculator - this tool is currently set to genotype at most 6 alternate alleles in a given context, but the context at Pf3D7_08_v3:951616 has 7 alternate alleles so only the top alleles will be used; see the --max_alternate_alleles argument \r\n",
        "WARN  08:14:19,415 ExactAFCalculator - this tool is currently set to genotype at most 6 alternate alleles in a given context, but the context at Pf3D7_08_v3:957085 has 11 alternate alleles so only the top alleles will be used; see the --max_alternate_alleles argument \r\n"
       ]
      },
      {
       "output_type": "stream",
       "stream": "stdout",
       "text": [
        "WARN  08:14:19,436 ExactAFCalculator - this tool is currently set to genotype at most 6 alternate alleles in a given context, but the context at Pf3D7_08_v3:962580 has 7 alternate alleles so only the top alleles will be used; see the --max_alternate_alleles argument \r\n"
       ]
      },
      {
       "output_type": "stream",
       "stream": "stdout",
       "text": [
        "WARN  08:14:19,488 ExactAFCalculator - this tool is currently set to genotype at most 6 alternate alleles in a given context, but the context at Pf3D7_08_v3:971761 has 7 alternate alleles so only the top alleles will be used; see the --max_alternate_alleles argument \r\n",
        "WARN  08:14:19,507 ExactAFCalculator - this tool is currently set to genotype at most 6 alternate alleles in a given context, but the context at Pf3D7_08_v3:974070 has 8 alternate alleles so only the top alleles will be used; see the --max_alternate_alleles argument \r\n"
       ]
      },
      {
       "output_type": "stream",
       "stream": "stdout",
       "text": [
        "WARN  08:14:19,535 ExactAFCalculator - this tool is currently set to genotype at most 6 alternate alleles in a given context, but the context at Pf3D7_08_v3:978393 has 7 alternate alleles so only the top alleles will be used; see the --max_alternate_alleles argument \r\n",
        "WARN  08:14:19,550 ExactAFCalculator - this tool is currently set to genotype at most 6 alternate alleles in a given context, but the context at Pf3D7_08_v3:982530 has 7 alternate alleles so only the top alleles will be used; see the --max_alternate_alleles argument \r\n",
        "WARN  08:14:19,558 ExactAFCalculator - this tool is currently set to genotype at most 6 alternate alleles in a given context, but the context at Pf3D7_08_v3:986624 has 7 alternate alleles so only the top alleles will be used; see the --max_alternate_alleles argument \r\n",
        "WARN  08:14:19,567 ExactAFCalculator - this tool is currently set to genotype at most 6 alternate alleles in a given context, but the context at Pf3D7_08_v3:988581 has 7 alternate alleles so only the top alleles will be used; see the --max_alternate_alleles argument \r\n"
       ]
      },
      {
       "output_type": "stream",
       "stream": "stdout",
       "text": [
        "WARN  08:14:19,580 ExactAFCalculator - this tool is currently set to genotype at most 6 alternate alleles in a given context, but the context at Pf3D7_08_v3:990445 has 8 alternate alleles so only the top alleles will be used; see the --max_alternate_alleles argument \r\n",
        "WARN  08:14:19,599 ExactAFCalculator - this tool is currently set to genotype at most 6 alternate alleles in a given context, but the context at Pf3D7_08_v3:994057 has 7 alternate alleles so only the top alleles will be used; see the --max_alternate_alleles argument \r\n"
       ]
      },
      {
       "output_type": "stream",
       "stream": "stdout",
       "text": [
        "WARN  08:14:19,782 ExactAFCalculator - this tool is currently set to genotype at most 6 alternate alleles in a given context, but the context at Pf3D7_08_v3:1012501 has 8 alternate alleles so only the top alleles will be used; see the --max_alternate_alleles argument \r\n"
       ]
      },
      {
       "output_type": "stream",
       "stream": "stdout",
       "text": [
        "WARN  08:14:19,918 ExactAFCalculator - this tool is currently set to genotype at most 6 alternate alleles in a given context, but the context at Pf3D7_08_v3:1042391 has 8 alternate alleles so only the top alleles will be used; see the --max_alternate_alleles argument \r\n"
       ]
      },
      {
       "output_type": "stream",
       "stream": "stdout",
       "text": [
        "WARN  08:14:19,940 ExactAFCalculator - this tool is currently set to genotype at most 6 alternate alleles in a given context, but the context at Pf3D7_08_v3:1046658 has 8 alternate alleles so only the top alleles will be used; see the --max_alternate_alleles argument \r\n",
        "WARN  08:14:19,948 ExactAFCalculator - this tool is currently set to genotype at most 6 alternate alleles in a given context, but the context at Pf3D7_08_v3:1048619 has 8 alternate alleles so only the top alleles will be used; see the --max_alternate_alleles argument \r\n",
        "WARN  08:14:19,956 ExactAFCalculator - this tool is currently set to genotype at most 6 alternate alleles in a given context, but the context at Pf3D7_08_v3:1052067 has 9 alternate alleles so only the top alleles will be used; see the --max_alternate_alleles argument \r\n"
       ]
      },
      {
       "output_type": "stream",
       "stream": "stdout",
       "text": [
        "WARN  08:14:20,010 ExactAFCalculator - this tool is currently set to genotype at most 6 alternate alleles in a given context, but the context at Pf3D7_08_v3:1069092 has 7 alternate alleles so only the top alleles will be used; see the --max_alternate_alleles argument \r\n",
        "WARN  08:14:20,019 ExactAFCalculator - this tool is currently set to genotype at most 6 alternate alleles in a given context, but the context at Pf3D7_08_v3:1071271 has 9 alternate alleles so only the top alleles will be used; see the --max_alternate_alleles argument \r\n",
        "WARN  08:14:20,026 ExactAFCalculator - this tool is currently set to genotype at most 6 alternate alleles in a given context, but the context at Pf3D7_08_v3:1072180 has 7 alternate alleles so only the top alleles will be used; see the --max_alternate_alleles argument \r\n",
        "WARN  08:14:20,031 ExactAFCalculator - this tool is currently set to genotype at most 6 alternate alleles in a given context, but the context at Pf3D7_08_v3:1072609 has 7 alternate alleles so only the top alleles will be used; see the --max_alternate_alleles argument \r\n"
       ]
      },
      {
       "output_type": "stream",
       "stream": "stdout",
       "text": [
        "WARN  08:14:20,038 ExactAFCalculator - this tool is currently set to genotype at most 6 alternate alleles in a given context, but the context at Pf3D7_08_v3:1074072 has 8 alternate alleles so only the top alleles will be used; see the --max_alternate_alleles argument \r\n"
       ]
      },
      {
       "output_type": "stream",
       "stream": "stdout",
       "text": [
        "WARN  08:14:20,096 ExactAFCalculator - this tool is currently set to genotype at most 6 alternate alleles in a given context, but the context at Pf3D7_08_v3:1083215 has 8 alternate alleles so only the top alleles will be used; see the --max_alternate_alleles argument \r\n",
        "WARN  08:14:20,124 ExactAFCalculator - this tool is currently set to genotype at most 6 alternate alleles in a given context, but the context at Pf3D7_08_v3:1085610 has 7 alternate alleles so only the top alleles will be used; see the --max_alternate_alleles argument \r\n"
       ]
      },
      {
       "output_type": "stream",
       "stream": "stdout",
       "text": [
        "WARN  08:14:20,142 ExactAFCalculator - this tool is currently set to genotype at most 6 alternate alleles in a given context, but the context at Pf3D7_08_v3:1092246 has 8 alternate alleles so only the top alleles will be used; see the --max_alternate_alleles argument \r\n"
       ]
      },
      {
       "output_type": "stream",
       "stream": "stdout",
       "text": [
        "WARN  08:14:20,204 ExactAFCalculator - this tool is currently set to genotype at most 6 alternate alleles in a given context, but the context at Pf3D7_08_v3:1103696 has 8 alternate alleles so only the top alleles will be used; see the --max_alternate_alleles argument \r\n",
        "WARN  08:14:20,228 ExactAFCalculator - this tool is currently set to genotype at most 6 alternate alleles in a given context, but the context at Pf3D7_08_v3:1109154 has 8 alternate alleles so only the top alleles will be used; see the --max_alternate_alleles argument \r\n",
        "WARN  08:14:20,238 ExactAFCalculator - this tool is currently set to genotype at most 6 alternate alleles in a given context, but the context at Pf3D7_08_v3:1112880 has 7 alternate alleles so only the top alleles will be used; see the --max_alternate_alleles argument \r\n"
       ]
      },
      {
       "output_type": "stream",
       "stream": "stdout",
       "text": [
        "WARN  08:14:20,284 ExactAFCalculator - this tool is currently set to genotype at most 6 alternate alleles in a given context, but the context at Pf3D7_08_v3:1139274 has 8 alternate alleles so only the top alleles will be used; see the --max_alternate_alleles argument \r\n"
       ]
      },
      {
       "output_type": "stream",
       "stream": "stdout",
       "text": [
        "WARN  08:14:20,301 ExactAFCalculator - this tool is currently set to genotype at most 6 alternate alleles in a given context, but the context at Pf3D7_08_v3:1141875 has 7 alternate alleles so only the top alleles will be used; see the --max_alternate_alleles argument \r\n"
       ]
      },
      {
       "output_type": "stream",
       "stream": "stdout",
       "text": [
        "WARN  08:14:20,355 ExactAFCalculator - this tool is currently set to genotype at most 6 alternate alleles in a given context, but the context at Pf3D7_08_v3:1156567 has 7 alternate alleles so only the top alleles will be used; see the --max_alternate_alleles argument \r\n",
        "WARN  08:14:20,368 ExactAFCalculator - this tool is currently set to genotype at most 6 alternate alleles in a given context, but the context at Pf3D7_08_v3:1159297 has 8 alternate alleles so only the top alleles will be used; see the --max_alternate_alleles argument \r\n"
       ]
      },
      {
       "output_type": "stream",
       "stream": "stdout",
       "text": [
        "WARN  08:14:20,430 ExactAFCalculator - this tool is currently set to genotype at most 6 alternate alleles in a given context, but the context at Pf3D7_08_v3:1176699 has 9 alternate alleles so only the top alleles will be used; see the --max_alternate_alleles argument \r\n"
       ]
      },
      {
       "output_type": "stream",
       "stream": "stdout",
       "text": [
        "WARN  08:14:20,470 ExactAFCalculator - this tool is currently set to genotype at most 6 alternate alleles in a given context, but the context at Pf3D7_08_v3:1187138 has 7 alternate alleles so only the top alleles will be used; see the --max_alternate_alleles argument \r\n",
        "WARN  08:14:20,475 ExactAFCalculator - this tool is currently set to genotype at most 6 alternate alleles in a given context, but the context at Pf3D7_08_v3:1188632 has 10 alternate alleles so only the top alleles will be used; see the --max_alternate_alleles argument \r\n"
       ]
      },
      {
       "output_type": "stream",
       "stream": "stdout",
       "text": [
        "WARN  08:14:20,569 ExactAFCalculator - this tool is currently set to genotype at most 6 alternate alleles in a given context, but the context at Pf3D7_08_v3:1210623 has 7 alternate alleles so only the top alleles will be used; see the --max_alternate_alleles argument \r\n",
        "WARN  08:14:20,576 ExactAFCalculator - this tool is currently set to genotype at most 6 alternate alleles in a given context, but the context at Pf3D7_08_v3:1211700 has 7 alternate alleles so only the top alleles will be used; see the --max_alternate_alleles argument \r\n",
        "WARN  08:14:20,607 ExactAFCalculator - this tool is currently set to genotype at most 6 alternate alleles in a given context, but the context at Pf3D7_08_v3:1220785 has 8 alternate alleles so only the top alleles will be used; see the --max_alternate_alleles argument \r\n"
       ]
      },
      {
       "output_type": "stream",
       "stream": "stdout",
       "text": [
        "WARN  08:14:20,614 ExactAFCalculator - this tool is currently set to genotype at most 6 alternate alleles in a given context, but the context at Pf3D7_08_v3:1222809 has 8 alternate alleles so only the top alleles will be used; see the --max_alternate_alleles argument \r\n",
        "WARN  08:14:20,655 ExactAFCalculator - this tool is currently set to genotype at most 6 alternate alleles in a given context, but the context at Pf3D7_08_v3:1232381 has 7 alternate alleles so only the top alleles will be used; see the --max_alternate_alleles argument \r\n"
       ]
      },
      {
       "output_type": "stream",
       "stream": "stdout",
       "text": [
        "WARN  08:14:20,736 ExactAFCalculator - this tool is currently set to genotype at most 6 alternate alleles in a given context, but the context at Pf3D7_08_v3:1252640 has 7 alternate alleles so only the top alleles will be used; see the --max_alternate_alleles argument \r\n"
       ]
      },
      {
       "output_type": "stream",
       "stream": "stdout",
       "text": [
        "WARN  08:14:20,789 ExactAFCalculator - this tool is currently set to genotype at most 6 alternate alleles in a given context, but the context at Pf3D7_08_v3:1266728 has 7 alternate alleles so only the top alleles will be used; see the --max_alternate_alleles argument \r\n",
        "WARN  08:14:20,808 ExactAFCalculator - this tool is currently set to genotype at most 6 alternate alleles in a given context, but the context at Pf3D7_08_v3:1270955 has 8 alternate alleles so only the top alleles will be used; see the --max_alternate_alleles argument \r\n"
       ]
      },
      {
       "output_type": "stream",
       "stream": "stdout",
       "text": [
        "WARN  08:14:20,816 ExactAFCalculator - this tool is currently set to genotype at most 6 alternate alleles in a given context, but the context at Pf3D7_08_v3:1273148 has 8 alternate alleles so only the top alleles will be used; see the --max_alternate_alleles argument \r\n"
       ]
      },
      {
       "output_type": "stream",
       "stream": "stdout",
       "text": [
        "WARN  08:14:20,869 ExactAFCalculator - this tool is currently set to genotype at most 6 alternate alleles in a given context, but the context at Pf3D7_08_v3:1292538 has 7 alternate alleles so only the top alleles will be used; see the --max_alternate_alleles argument \r\n"
       ]
      },
      {
       "output_type": "stream",
       "stream": "stdout",
       "text": [
        "WARN  08:14:20,937 ExactAFCalculator - this tool is currently set to genotype at most 6 alternate alleles in a given context, but the context at Pf3D7_08_v3:1308318 has 10 alternate alleles so only the top alleles will be used; see the --max_alternate_alleles argument \r\n"
       ]
      },
      {
       "output_type": "stream",
       "stream": "stdout",
       "text": [
        "WARN  08:14:20,973 ExactAFCalculator - this tool is currently set to genotype at most 6 alternate alleles in a given context, but the context at Pf3D7_08_v3:1318186 has 12 alternate alleles so only the top alleles will be used; see the --max_alternate_alleles argument \r\n",
        "WARN  08:14:21,002 ExactAFCalculator - this tool is currently set to genotype at most 6 alternate alleles in a given context, but the context at Pf3D7_08_v3:1323420 has 7 alternate alleles so only the top alleles will be used; see the --max_alternate_alleles argument \r\n",
        "WARN  08:14:21,009 ExactAFCalculator - this tool is currently set to genotype at most 6 alternate alleles in a given context, but the context at Pf3D7_08_v3:1325048 has 7 alternate alleles so only the top alleles will be used; see the --max_alternate_alleles argument \r\n"
       ]
      },
      {
       "output_type": "stream",
       "stream": "stdout",
       "text": [
        "WARN  08:14:21,093 ExactAFCalculator - this tool is currently set to genotype at most 6 alternate alleles in a given context, but the context at Pf3D7_08_v3:1342619 has 8 alternate alleles so only the top alleles will be used; see the --max_alternate_alleles argument \r\n"
       ]
      },
      {
       "output_type": "stream",
       "stream": "stdout",
       "text": [
        "WARN  08:14:21,131 ExactAFCalculator - this tool is currently set to genotype at most 6 alternate alleles in a given context, but the context at Pf3D7_08_v3:1348406 has 8 alternate alleles so only the top alleles will be used; see the --max_alternate_alleles argument \r\n",
        "WARN  08:14:21,170 ExactAFCalculator - this tool is currently set to genotype at most 6 alternate alleles in a given context, but the context at Pf3D7_08_v3:1355736 has 8 alternate alleles so only the top alleles will be used; see the --max_alternate_alleles argument \r\n"
       ]
      },
      {
       "output_type": "stream",
       "stream": "stdout",
       "text": [
        "WARN  08:14:21,187 ExactAFCalculator - this tool is currently set to genotype at most 6 alternate alleles in a given context, but the context at Pf3D7_08_v3:1359881 has 10 alternate alleles so only the top alleles will be used; see the --max_alternate_alleles argument \r\n"
       ]
      },
      {
       "output_type": "stream",
       "stream": "stdout",
       "text": [
        "WARN  08:14:21,313 ExactAFCalculator - this tool is currently set to genotype at most 6 alternate alleles in a given context, but the context at Pf3D7_08_v3:1384271 has 11 alternate alleles so only the top alleles will be used; see the --max_alternate_alleles argument \r\n",
        "WARN  08:14:21,325 ExactAFCalculator - this tool is currently set to genotype at most 6 alternate alleles in a given context, but the context at Pf3D7_08_v3:1388098 has 11 alternate alleles so only the top alleles will be used; see the --max_alternate_alleles argument \r\n"
       ]
      },
      {
       "output_type": "stream",
       "stream": "stdout",
       "text": [
        "WARN  08:14:21,569 ExactAFCalculator - this tool is currently set to genotype at most 6 alternate alleles in a given context, but the context at Pf3D7_08_v3:1416952 has 9 alternate alleles so only the top alleles will be used; see the --max_alternate_alleles argument \r\n"
       ]
      },
      {
       "output_type": "stream",
       "stream": "stdout",
       "text": [
        "INFO  08:14:22,231 ProgressMeter -            done   1472805.0    11.0 s       7.0 s       41.0%    26.0 s      15.0 s \r\n",
        "INFO  08:14:22,231 ProgressMeter - Total runtime 11.59 secs, 0.19 min, 0.00 hours \r\n"
       ]
      },
      {
       "output_type": "stream",
       "stream": "stdout",
       "text": [
        "INFO  08:14:25,019 GATKRunReport - Uploaded run statistics report to AWS S3 \r\n"
       ]
      },
      {
       "output_type": "stream",
       "stream": "stdout",
       "text": [
        "INFO  08:14:26,634 HelpFormatter - -------------------------------------------------------------------------------- \r\n",
        "INFO  08:14:26,635 HelpFormatter - The Genome Analysis Toolkit (GATK) v3.4-0-g7e26428, Compiled 2015/05/15 03:25:41 \r\n",
        "INFO  08:14:26,636 HelpFormatter - Copyright (c) 2010 The Broad Institute \r\n",
        "INFO  08:14:26,636 HelpFormatter - For support and documentation go to http://www.broadinstitute.org/gatk \r\n"
       ]
      },
      {
       "output_type": "stream",
       "stream": "stdout",
       "text": [
        "INFO  08:14:26,639 HelpFormatter - Program Args: -T CombineGVCFs -R /data/plasmodium/pfalciparum/recon/roamato/Pf3D7_v3/3D7_sorted.fa --variant /nfs/team112_internal/production_files/Pf3k/methods/assembled_samples/vcfs/gvcf/lists/gvcfs.Pf3D7_09_v3.0.list -o /nfs/team112_internal/production_files/Pf3k/methods/assembled_samples/vcfs/gvcf/combined_gvcf/combined.Pf3D7_09_v3.0.g.vcf \r\n"
       ]
      },
      {
       "output_type": "stream",
       "stream": "stdout",
       "text": [
        "INFO  08:14:27,142 HelpFormatter - Executing as rpearson@dhcp511.well.ox.ac.uk on Mac OS X 10.10.3 x86_64; Java HotSpot(TM) 64-Bit Server VM 1.7.0_60-b19. \r\n",
        "INFO  08:14:27,143 HelpFormatter - Date/Time: 2015/07/01 08:14:26 \r\n",
        "INFO  08:14:27,143 HelpFormatter - -------------------------------------------------------------------------------- \r\n",
        "INFO  08:14:27,143 HelpFormatter - -------------------------------------------------------------------------------- \r\n"
       ]
      },
      {
       "output_type": "stream",
       "stream": "stdout",
       "text": [
        "INFO  08:14:27,507 GenomeAnalysisEngine - Strictness is SILENT \r\n"
       ]
      },
      {
       "output_type": "stream",
       "stream": "stdout",
       "text": [
        "INFO  08:14:27,560 GenomeAnalysisEngine - Downsampling Settings: Method: BY_SAMPLE, Target Coverage: 1000 \r\n"
       ]
      },
      {
       "output_type": "stream",
       "stream": "stdout",
       "text": [
        "INFO  08:14:27,694 GenomeAnalysisEngine - Preparing for traversal \r\n",
        "INFO  08:14:27,695 GenomeAnalysisEngine - Done preparing for traversal \r\n",
        "INFO  08:14:27,695 ProgressMeter - [INITIALIZATION COMPLETE; STARTING PROCESSING] \r\n",
        "INFO  08:14:27,695 ProgressMeter -                 | processed |    time |    per 1M |           |   total | remaining \r\n",
        "INFO  08:14:27,696 ProgressMeter -        Location |     sites | elapsed |     sites | completed | runtime |   runtime \r\n"
       ]
      },
      {
       "output_type": "stream",
       "stream": "stdout",
       "text": [
        "INFO  08:14:35,516 ProgressMeter -            done   1541735.0     7.0 s       5.0 s       47.7%    14.0 s       7.0 s \r\n",
        "INFO  08:14:35,516 ProgressMeter - Total runtime 7.82 secs, 0.13 min, 0.00 hours \r\n"
       ]
      },
      {
       "output_type": "stream",
       "stream": "stdout",
       "text": [
        "INFO  08:14:41,192 GATKRunReport - Uploaded run statistics report to AWS S3 \r\n"
       ]
      },
      {
       "output_type": "stream",
       "stream": "stdout",
       "text": [
        "INFO  08:14:42,816 HelpFormatter - -------------------------------------------------------------------------------- \r\n",
        "INFO  08:14:42,818 HelpFormatter - The Genome Analysis Toolkit (GATK) v3.4-0-g7e26428, Compiled 2015/05/15 03:25:41 \r\n",
        "INFO  08:14:42,818 HelpFormatter - Copyright (c) 2010 The Broad Institute \r\n",
        "INFO  08:14:42,818 HelpFormatter - For support and documentation go to http://www.broadinstitute.org/gatk \r\n",
        "INFO  08:14:42,822 HelpFormatter - Program Args: -T CombineGVCFs -R /data/plasmodium/pfalciparum/recon/roamato/Pf3D7_v3/3D7_sorted.fa --variant /nfs/team112_internal/production_files/Pf3k/methods/assembled_samples/vcfs/gvcf/lists/gvcfs.Pf3D7_09_v3.1.list -o /nfs/team112_internal/production_files/Pf3k/methods/assembled_samples/vcfs/gvcf/combined_gvcf/combined.Pf3D7_09_v3.1.g.vcf \r\n",
        "INFO  08:14:42,829 HelpFormatter - Executing as rpearson@dhcp511.well.ox.ac.uk on Mac OS X 10.10.3 x86_64; Java HotSpot(TM) 64-Bit Server VM 1.7.0_60-b19. \r\n",
        "INFO  08:14:42,829 HelpFormatter - Date/Time: 2015/07/01 08:14:42 \r\n",
        "INFO  08:14:42,829 HelpFormatter - -------------------------------------------------------------------------------- \r\n",
        "INFO  08:14:42,829 HelpFormatter - -------------------------------------------------------------------------------- \r\n"
       ]
      },
      {
       "output_type": "stream",
       "stream": "stdout",
       "text": [
        "INFO  08:14:43,179 GenomeAnalysisEngine - Strictness is SILENT \r\n"
       ]
      },
      {
       "output_type": "stream",
       "stream": "stdout",
       "text": [
        "INFO  08:14:43,229 GenomeAnalysisEngine - Downsampling Settings: Method: BY_SAMPLE, Target Coverage: 1000 \r\n"
       ]
      },
      {
       "output_type": "stream",
       "stream": "stdout",
       "text": [
        "INFO  08:14:43,358 GenomeAnalysisEngine - Preparing for traversal \r\n",
        "INFO  08:14:43,359 GenomeAnalysisEngine - Done preparing for traversal \r\n",
        "INFO  08:14:43,359 ProgressMeter - [INITIALIZATION COMPLETE; STARTING PROCESSING] \r\n",
        "INFO  08:14:43,360 ProgressMeter -                 | processed |    time |    per 1M |           |   total | remaining \r\n",
        "INFO  08:14:43,360 ProgressMeter -        Location |     sites | elapsed |     sites | completed | runtime |   runtime \r\n"
       ]
      },
      {
       "output_type": "stream",
       "stream": "stdout",
       "text": [
        "INFO  08:14:51,753 ProgressMeter -            done   1541735.0     8.0 s       5.0 s       47.7%    16.0 s       8.0 s \r\n",
        "INFO  08:14:51,753 ProgressMeter - Total runtime 8.39 secs, 0.14 min, 0.00 hours \r\n"
       ]
      },
      {
       "output_type": "stream",
       "stream": "stdout",
       "text": [
        "INFO  08:14:54,451 GATKRunReport - Uploaded run statistics report to AWS S3 \r\n"
       ]
      },
      {
       "output_type": "stream",
       "stream": "stdout",
       "text": [
        "INFO  08:14:56,156 HelpFormatter - -------------------------------------------------------------------------------- \r\n",
        "INFO  08:14:56,158 HelpFormatter - The Genome Analysis Toolkit (GATK) v3.4-0-g7e26428, Compiled 2015/05/15 03:25:41 \r\n",
        "INFO  08:14:56,158 HelpFormatter - Copyright (c) 2010 The Broad Institute \r\n"
       ]
      },
      {
       "output_type": "stream",
       "stream": "stdout",
       "text": [
        "INFO  08:14:56,159 HelpFormatter - For support and documentation go to http://www.broadinstitute.org/gatk \r\n",
        "INFO  08:14:56,162 HelpFormatter - Program Args: -T GenotypeGVCFs -R /data/plasmodium/pfalciparum/recon/roamato/Pf3D7_v3/3D7_sorted.fa --variant /nfs/team112_internal/production_files/Pf3k/methods/assembled_samples/vcfs/gvcf/lists/gvcfs.Pf3D7_09_v3.all.list -o /nfs/team112_internal/production_files/Pf3k/methods/assembled_samples/vcfs/vcf/raw.snps.indels.Pf3D7_09_v3.vcf \r\n",
        "INFO  08:14:56,168 HelpFormatter - Executing as rpearson@dhcp511.well.ox.ac.uk on Mac OS X 10.10.3 x86_64; Java HotSpot(TM) 64-Bit Server VM 1.7.0_60-b19. \r\n",
        "INFO  08:14:56,168 HelpFormatter - Date/Time: 2015/07/01 08:14:56 \r\n",
        "INFO  08:14:56,168 HelpFormatter - -------------------------------------------------------------------------------- \r\n",
        "INFO  08:14:56,169 HelpFormatter - -------------------------------------------------------------------------------- \r\n"
       ]
      },
      {
       "output_type": "stream",
       "stream": "stdout",
       "text": [
        "INFO  08:14:56,564 GenomeAnalysisEngine - Strictness is SILENT \r\n"
       ]
      },
      {
       "output_type": "stream",
       "stream": "stdout",
       "text": [
        "INFO  08:14:56,616 GenomeAnalysisEngine - Downsampling Settings: Method: BY_SAMPLE, Target Coverage: 1000 \r\n"
       ]
      },
      {
       "output_type": "stream",
       "stream": "stdout",
       "text": [
        "INFO  08:14:56,751 GenomeAnalysisEngine - Preparing for traversal \r\n",
        "INFO  08:14:56,752 GenomeAnalysisEngine - Done preparing for traversal \r\n",
        "INFO  08:14:56,752 ProgressMeter - [INITIALIZATION COMPLETE; STARTING PROCESSING] \r\n",
        "INFO  08:14:56,752 ProgressMeter -                 | processed |    time |    per 1M |           |   total | remaining \r\n",
        "INFO  08:14:56,753 ProgressMeter -        Location |     sites | elapsed |     sites | completed | runtime |   runtime \r\n"
       ]
      },
      {
       "output_type": "stream",
       "stream": "stdout",
       "text": [
        "INFO  08:14:56,839 GenotypeGVCFs - Notice that the -ploidy parameter is ignored in GenotypeGVCFs tool as this is automatically determined by the input variant files \r\n"
       ]
      },
      {
       "output_type": "stream",
       "stream": "stdout",
       "text": [
        "WARN  08:15:02,271 ExactAFCalculator - this tool is currently set to genotype at most 6 alternate alleles in a given context, but the context at Pf3D7_09_v3:69655 has 9 alternate alleles so only the top alleles will be used; see the --max_alternate_alleles argument \r\n",
        "WARN  08:15:02,292 ExactAFCalculator - this tool is currently set to genotype at most 6 alternate alleles in a given context, but the context at Pf3D7_09_v3:70292 has 7 alternate alleles so only the top alleles will be used; see the --max_alternate_alleles argument \r\n"
       ]
      },
      {
       "output_type": "stream",
       "stream": "stdout",
       "text": [
        "WARN  08:15:02,616 ExactAFCalculator - this tool is currently set to genotype at most 6 alternate alleles in a given context, but the context at Pf3D7_09_v3:84428 has 8 alternate alleles so only the top alleles will be used; see the --max_alternate_alleles argument \r\n"
       ]
      },
      {
       "output_type": "stream",
       "stream": "stdout",
       "text": [
        "WARN  08:15:02,628 ExactAFCalculator - this tool is currently set to genotype at most 6 alternate alleles in a given context, but the context at Pf3D7_09_v3:87014 has 8 alternate alleles so only the top alleles will be used; see the --max_alternate_alleles argument \r\n"
       ]
      },
      {
       "output_type": "stream",
       "stream": "stdout",
       "text": [
        "WARN  08:15:02,720 ExactAFCalculator - this tool is currently set to genotype at most 6 alternate alleles in a given context, but the context at Pf3D7_09_v3:106617 has 8 alternate alleles so only the top alleles will be used; see the --max_alternate_alleles argument \r\n"
       ]
      },
      {
       "output_type": "stream",
       "stream": "stdout",
       "text": [
        "WARN  08:15:02,746 ExactAFCalculator - this tool is currently set to genotype at most 6 alternate alleles in a given context, but the context at Pf3D7_09_v3:115452 has 7 alternate alleles so only the top alleles will be used; see the --max_alternate_alleles argument \r\n",
        "WARN  08:15:02,772 ExactAFCalculator - this tool is currently set to genotype at most 6 alternate alleles in a given context, but the context at Pf3D7_09_v3:121548 has 9 alternate alleles so only the top alleles will be used; see the --max_alternate_alleles argument \r\n",
        "WARN  08:15:02,776 ExactAFCalculator - this tool is currently set to genotype at most 6 alternate alleles in a given context, but the context at Pf3D7_09_v3:123727 has 9 alternate alleles so only the top alleles will be used; see the --max_alternate_alleles argument \r\n"
       ]
      },
      {
       "output_type": "stream",
       "stream": "stdout",
       "text": [
        "WARN  08:15:02,800 ExactAFCalculator - this tool is currently set to genotype at most 6 alternate alleles in a given context, but the context at Pf3D7_09_v3:129870 has 8 alternate alleles so only the top alleles will be used; see the --max_alternate_alleles argument \r\n",
        "WARN  08:15:02,817 ExactAFCalculator - this tool is currently set to genotype at most 6 alternate alleles in a given context, but the context at Pf3D7_09_v3:133555 has 7 alternate alleles so only the top alleles will be used; see the --max_alternate_alleles argument \r\n"
       ]
      },
      {
       "output_type": "stream",
       "stream": "stdout",
       "text": [
        "WARN  08:15:02,917 ExactAFCalculator - this tool is currently set to genotype at most 6 alternate alleles in a given context, but the context at Pf3D7_09_v3:167934 has 9 alternate alleles so only the top alleles will be used; see the --max_alternate_alleles argument \r\n"
       ]
      },
      {
       "output_type": "stream",
       "stream": "stdout",
       "text": [
        "WARN  08:15:03,014 ExactAFCalculator - this tool is currently set to genotype at most 6 alternate alleles in a given context, but the context at Pf3D7_09_v3:191276 has 7 alternate alleles so only the top alleles will be used; see the --max_alternate_alleles argument \r\n",
        "WARN  08:15:03,021 ExactAFCalculator - this tool is currently set to genotype at most 6 alternate alleles in a given context, but the context at Pf3D7_09_v3:195386 has 8 alternate alleles so only the top alleles will be used; see the --max_alternate_alleles argument \r\n",
        "WARN  08:15:03,033 ExactAFCalculator - this tool is currently set to genotype at most 6 alternate alleles in a given context, but the context at Pf3D7_09_v3:197156 has 7 alternate alleles so only the top alleles will be used; see the --max_alternate_alleles argument \r\n"
       ]
      },
      {
       "output_type": "stream",
       "stream": "stdout",
       "text": [
        "WARN  08:15:03,054 ExactAFCalculator - this tool is currently set to genotype at most 6 alternate alleles in a given context, but the context at Pf3D7_09_v3:205989 has 8 alternate alleles so only the top alleles will be used; see the --max_alternate_alleles argument \r\n"
       ]
      },
      {
       "output_type": "stream",
       "stream": "stdout",
       "text": [
        "WARN  08:15:03,113 ExactAFCalculator - this tool is currently set to genotype at most 6 alternate alleles in a given context, but the context at Pf3D7_09_v3:218033 has 7 alternate alleles so only the top alleles will be used; see the --max_alternate_alleles argument \r\n",
        "WARN  08:15:03,129 ExactAFCalculator - this tool is currently set to genotype at most 6 alternate alleles in a given context, but the context at Pf3D7_09_v3:222055 has 8 alternate alleles so only the top alleles will be used; see the --max_alternate_alleles argument \r\n"
       ]
      },
      {
       "output_type": "stream",
       "stream": "stdout",
       "text": [
        "WARN  08:15:03,300 ExactAFCalculator - this tool is currently set to genotype at most 6 alternate alleles in a given context, but the context at Pf3D7_09_v3:285551 has 7 alternate alleles so only the top alleles will be used; see the --max_alternate_alleles argument \r\n"
       ]
      },
      {
       "output_type": "stream",
       "stream": "stdout",
       "text": [
        "WARN  08:15:03,354 ExactAFCalculator - this tool is currently set to genotype at most 6 alternate alleles in a given context, but the context at Pf3D7_09_v3:304313 has 8 alternate alleles so only the top alleles will be used; see the --max_alternate_alleles argument \r\n",
        "WARN  08:15:03,398 ExactAFCalculator - this tool is currently set to genotype at most 6 alternate alleles in a given context, but the context at Pf3D7_09_v3:316055 has 7 alternate alleles so only the top alleles will be used; see the --max_alternate_alleles argument \r\n"
       ]
      },
      {
       "output_type": "stream",
       "stream": "stdout",
       "text": [
        "WARN  08:15:03,414 ExactAFCalculator - this tool is currently set to genotype at most 6 alternate alleles in a given context, but the context at Pf3D7_09_v3:319606 has 7 alternate alleles so only the top alleles will be used; see the --max_alternate_alleles argument \r\n"
       ]
      },
      {
       "output_type": "stream",
       "stream": "stdout",
       "text": [
        "WARN  08:15:03,585 ExactAFCalculator - this tool is currently set to genotype at most 6 alternate alleles in a given context, but the context at Pf3D7_09_v3:356618 has 10 alternate alleles so only the top alleles will be used; see the --max_alternate_alleles argument \r\n",
        "WARN  08:15:03,607 ExactAFCalculator - this tool is currently set to genotype at most 6 alternate alleles in a given context, but the context at Pf3D7_09_v3:360626 has 7 alternate alleles so only the top alleles will be used; see the --max_alternate_alleles argument \r\n"
       ]
      },
      {
       "output_type": "stream",
       "stream": "stdout",
       "text": [
        "WARN  08:15:03,613 ExactAFCalculator - this tool is currently set to genotype at most 6 alternate alleles in a given context, but the context at Pf3D7_09_v3:363372 has 8 alternate alleles so only the top alleles will be used; see the --max_alternate_alleles argument \r\n",
        "WARN  08:15:03,639 ExactAFCalculator - this tool is currently set to genotype at most 6 alternate alleles in a given context, but the context at Pf3D7_09_v3:367722 has 8 alternate alleles so only the top alleles will be used; see the --max_alternate_alleles argument \r\n",
        "WARN  08:15:03,640 ExactAFCalculator - this tool is currently set to genotype at most 6 alternate alleles in a given context, but the context at Pf3D7_09_v3:367800 has 7 alternate alleles so only the top alleles will be used; see the --max_alternate_alleles argument \r\n"
       ]
      },
      {
       "output_type": "stream",
       "stream": "stdout",
       "text": [
        "WARN  08:15:03,696 ExactAFCalculator - this tool is currently set to genotype at most 6 alternate alleles in a given context, but the context at Pf3D7_09_v3:375856 has 7 alternate alleles so only the top alleles will be used; see the --max_alternate_alleles argument \r\n"
       ]
      },
      {
       "output_type": "stream",
       "stream": "stdout",
       "text": [
        "WARN  08:15:03,746 ExactAFCalculator - this tool is currently set to genotype at most 6 alternate alleles in a given context, but the context at Pf3D7_09_v3:384338 has 10 alternate alleles so only the top alleles will be used; see the --max_alternate_alleles argument \r\n"
       ]
      },
      {
       "output_type": "stream",
       "stream": "stdout",
       "text": [
        "WARN  08:15:03,774 ExactAFCalculator - this tool is currently set to genotype at most 6 alternate alleles in a given context, but the context at Pf3D7_09_v3:387261 has 7 alternate alleles so only the top alleles will be used; see the --max_alternate_alleles argument \r\n",
        "WARN  08:15:03,797 ExactAFCalculator - this tool is currently set to genotype at most 6 alternate alleles in a given context, but the context at Pf3D7_09_v3:391941 has 9 alternate alleles so only the top alleles will be used; see the --max_alternate_alleles argument \r\n",
        "WARN  08:15:03,805 ExactAFCalculator - this tool is currently set to genotype at most 6 alternate alleles in a given context, but the context at Pf3D7_09_v3:394289 has 8 alternate alleles so only the top alleles will be used; see the --max_alternate_alleles argument \r\n"
       ]
      },
      {
       "output_type": "stream",
       "stream": "stdout",
       "text": [
        "WARN  08:15:03,858 ExactAFCalculator - this tool is currently set to genotype at most 6 alternate alleles in a given context, but the context at Pf3D7_09_v3:402593 has 7 alternate alleles so only the top alleles will be used; see the --max_alternate_alleles argument \r\n",
        "WARN  08:15:03,867 ExactAFCalculator - this tool is currently set to genotype at most 6 alternate alleles in a given context, but the context at Pf3D7_09_v3:403440 has 7 alternate alleles so only the top alleles will be used; see the --max_alternate_alleles argument \r\n"
       ]
      },
      {
       "output_type": "stream",
       "stream": "stdout",
       "text": [
        "WARN  08:15:04,013 ExactAFCalculator - this tool is currently set to genotype at most 6 alternate alleles in a given context, but the context at Pf3D7_09_v3:430257 has 10 alternate alleles so only the top alleles will be used; see the --max_alternate_alleles argument \r\n"
       ]
      },
      {
       "output_type": "stream",
       "stream": "stdout",
       "text": [
        "WARN  08:15:04,188 ExactAFCalculator - this tool is currently set to genotype at most 6 alternate alleles in a given context, but the context at Pf3D7_09_v3:461688 has 7 alternate alleles so only the top alleles will be used; see the --max_alternate_alleles argument \r\n"
       ]
      },
      {
       "output_type": "stream",
       "stream": "stdout",
       "text": [
        "WARN  08:15:04,194 ExactAFCalculator - this tool is currently set to genotype at most 6 alternate alleles in a given context, but the context at Pf3D7_09_v3:462087 has 7 alternate alleles so only the top alleles will be used; see the --max_alternate_alleles argument \r\n",
        "WARN  08:15:04,208 ExactAFCalculator - this tool is currently set to genotype at most 6 alternate alleles in a given context, but the context at Pf3D7_09_v3:463430 has 7 alternate alleles so only the top alleles will be used; see the --max_alternate_alleles argument \r\n"
       ]
      },
      {
       "output_type": "stream",
       "stream": "stdout",
       "text": [
        "WARN  08:15:04,333 ExactAFCalculator - this tool is currently set to genotype at most 6 alternate alleles in a given context, but the context at Pf3D7_09_v3:489382 has 7 alternate alleles so only the top alleles will be used; see the --max_alternate_alleles argument \r\n",
        "WARN  08:15:04,336 ExactAFCalculator - this tool is currently set to genotype at most 6 alternate alleles in a given context, but the context at Pf3D7_09_v3:489607 has 7 alternate alleles so only the top alleles will be used; see the --max_alternate_alleles argument \r\n",
        "WARN  08:15:04,342 ExactAFCalculator - this tool is currently set to genotype at most 6 alternate alleles in a given context, but the context at Pf3D7_09_v3:490250 has 7 alternate alleles so only the top alleles will be used; see the --max_alternate_alleles argument \r\n"
       ]
      },
      {
       "output_type": "stream",
       "stream": "stdout",
       "text": [
        "WARN  08:15:04,417 ExactAFCalculator - this tool is currently set to genotype at most 6 alternate alleles in a given context, but the context at Pf3D7_09_v3:501016 has 7 alternate alleles so only the top alleles will be used; see the --max_alternate_alleles argument \r\n",
        "WARN  08:15:04,420 ExactAFCalculator - this tool is currently set to genotype at most 6 alternate alleles in a given context, but the context at Pf3D7_09_v3:501070 has 8 alternate alleles so only the top alleles will be used; see the --max_alternate_alleles argument \r\n",
        "WARN  08:15:04,425 ExactAFCalculator - this tool is currently set to genotype at most 6 alternate alleles in a given context, but the context at Pf3D7_09_v3:502004 has 7 alternate alleles so only the top alleles will be used; see the --max_alternate_alleles argument \r\n"
       ]
      },
      {
       "output_type": "stream",
       "stream": "stdout",
       "text": [
        "WARN  08:15:04,460 ExactAFCalculator - this tool is currently set to genotype at most 6 alternate alleles in a given context, but the context at Pf3D7_09_v3:508604 has 7 alternate alleles so only the top alleles will be used; see the --max_alternate_alleles argument \r\n",
        "WARN  08:15:04,473 ExactAFCalculator - this tool is currently set to genotype at most 6 alternate alleles in a given context, but the context at Pf3D7_09_v3:510903 has 7 alternate alleles so only the top alleles will be used; see the --max_alternate_alleles argument \r\n",
        "WARN  08:15:04,501 ExactAFCalculator - this tool is currently set to genotype at most 6 alternate alleles in a given context, but the context at Pf3D7_09_v3:521587 has 7 alternate alleles so only the top alleles will be used; see the --max_alternate_alleles argument \r\n"
       ]
      },
      {
       "output_type": "stream",
       "stream": "stdout",
       "text": [
        "WARN  08:15:04,545 ExactAFCalculator - this tool is currently set to genotype at most 6 alternate alleles in a given context, but the context at Pf3D7_09_v3:535642 has 7 alternate alleles so only the top alleles will be used; see the --max_alternate_alleles argument \r\n"
       ]
      },
      {
       "output_type": "stream",
       "stream": "stdout",
       "text": [
        "WARN  08:15:04,603 ExactAFCalculator - this tool is currently set to genotype at most 6 alternate alleles in a given context, but the context at Pf3D7_09_v3:551174 has 7 alternate alleles so only the top alleles will be used; see the --max_alternate_alleles argument \r\n"
       ]
      },
      {
       "output_type": "stream",
       "stream": "stdout",
       "text": [
        "WARN  08:15:04,609 ExactAFCalculator - this tool is currently set to genotype at most 6 alternate alleles in a given context, but the context at Pf3D7_09_v3:553214 has 9 alternate alleles so only the top alleles will be used; see the --max_alternate_alleles argument \r\n"
       ]
      },
      {
       "output_type": "stream",
       "stream": "stdout",
       "text": [
        "WARN  08:15:04,658 ExactAFCalculator - this tool is currently set to genotype at most 6 alternate alleles in a given context, but the context at Pf3D7_09_v3:562070 has 7 alternate alleles so only the top alleles will be used; see the --max_alternate_alleles argument \r\n",
        "WARN  08:15:04,687 ExactAFCalculator - this tool is currently set to genotype at most 6 alternate alleles in a given context, but the context at Pf3D7_09_v3:567822 has 12 alternate alleles so only the top alleles will be used; see the --max_alternate_alleles argument \r\n",
        "WARN  08:15:04,696 ExactAFCalculator - this tool is currently set to genotype at most 6 alternate alleles in a given context, but the context at Pf3D7_09_v3:570025 has 7 alternate alleles so only the top alleles will be used; see the --max_alternate_alleles argument \r\n"
       ]
      },
      {
       "output_type": "stream",
       "stream": "stdout",
       "text": [
        "WARN  08:15:04,763 ExactAFCalculator - this tool is currently set to genotype at most 6 alternate alleles in a given context, but the context at Pf3D7_09_v3:584253 has 7 alternate alleles so only the top alleles will be used; see the --max_alternate_alleles argument \r\n",
        "WARN  08:15:04,794 ExactAFCalculator - this tool is currently set to genotype at most 6 alternate alleles in a given context, but the context at Pf3D7_09_v3:592902 has 7 alternate alleles so only the top alleles will be used; see the --max_alternate_alleles argument \r\n"
       ]
      },
      {
       "output_type": "stream",
       "stream": "stdout",
       "text": [
        "WARN  08:15:04,902 ExactAFCalculator - this tool is currently set to genotype at most 6 alternate alleles in a given context, but the context at Pf3D7_09_v3:615993 has 8 alternate alleles so only the top alleles will be used; see the --max_alternate_alleles argument \r\n"
       ]
      },
      {
       "output_type": "stream",
       "stream": "stdout",
       "text": [
        "WARN  08:15:04,962 ExactAFCalculator - this tool is currently set to genotype at most 6 alternate alleles in a given context, but the context at Pf3D7_09_v3:629706 has 7 alternate alleles so only the top alleles will be used; see the --max_alternate_alleles argument \r\n"
       ]
      },
      {
       "output_type": "stream",
       "stream": "stdout",
       "text": [
        "WARN  08:15:05,018 ExactAFCalculator - this tool is currently set to genotype at most 6 alternate alleles in a given context, but the context at Pf3D7_09_v3:643408 has 7 alternate alleles so only the top alleles will be used; see the --max_alternate_alleles argument \r\n"
       ]
      },
      {
       "output_type": "stream",
       "stream": "stdout",
       "text": [
        "WARN  08:15:05,106 ExactAFCalculator - this tool is currently set to genotype at most 6 alternate alleles in a given context, but the context at Pf3D7_09_v3:665117 has 7 alternate alleles so only the top alleles will be used; see the --max_alternate_alleles argument \r\n"
       ]
      },
      {
       "output_type": "stream",
       "stream": "stdout",
       "text": [
        "WARN  08:15:05,199 ExactAFCalculator - this tool is currently set to genotype at most 6 alternate alleles in a given context, but the context at Pf3D7_09_v3:691693 has 7 alternate alleles so only the top alleles will be used; see the --max_alternate_alleles argument \r\n",
        "WARN  08:15:05,202 ExactAFCalculator - this tool is currently set to genotype at most 6 alternate alleles in a given context, but the context at Pf3D7_09_v3:692157 has 8 alternate alleles so only the top alleles will be used; see the --max_alternate_alleles argument \r\n",
        "WARN  08:15:05,210 ExactAFCalculator - this tool is currently set to genotype at most 6 alternate alleles in a given context, but the context at Pf3D7_09_v3:693829 has 8 alternate alleles so only the top alleles will be used; see the --max_alternate_alleles argument \r\n",
        "WARN  08:15:05,227 ExactAFCalculator - this tool is currently set to genotype at most 6 alternate alleles in a given context, but the context at Pf3D7_09_v3:698201 has 8 alternate alleles so only the top alleles will be used; see the --max_alternate_alleles argument \r\n"
       ]
      },
      {
       "output_type": "stream",
       "stream": "stdout",
       "text": [
        "WARN  08:15:05,273 ExactAFCalculator - this tool is currently set to genotype at most 6 alternate alleles in a given context, but the context at Pf3D7_09_v3:712138 has 7 alternate alleles so only the top alleles will be used; see the --max_alternate_alleles argument \r\n"
       ]
      },
      {
       "output_type": "stream",
       "stream": "stdout",
       "text": [
        "WARN  08:15:05,286 ExactAFCalculator - this tool is currently set to genotype at most 6 alternate alleles in a given context, but the context at Pf3D7_09_v3:716206 has 10 alternate alleles so only the top alleles will be used; see the --max_alternate_alleles argument \r\n",
        "WARN  08:15:05,306 ExactAFCalculator - this tool is currently set to genotype at most 6 alternate alleles in a given context, but the context at Pf3D7_09_v3:724987 has 8 alternate alleles so only the top alleles will be used; see the --max_alternate_alleles argument \r\n",
        "WARN  08:15:05,325 ExactAFCalculator - this tool is currently set to genotype at most 6 alternate alleles in a given context, but the context at Pf3D7_09_v3:732286 has 7 alternate alleles so only the top alleles will be used; see the --max_alternate_alleles argument \r\n"
       ]
      },
      {
       "output_type": "stream",
       "stream": "stdout",
       "text": [
        "WARN  08:15:05,410 ExactAFCalculator - this tool is currently set to genotype at most 6 alternate alleles in a given context, but the context at Pf3D7_09_v3:751301 has 8 alternate alleles so only the top alleles will be used; see the --max_alternate_alleles argument \r\n"
       ]
      },
      {
       "output_type": "stream",
       "stream": "stdout",
       "text": [
        "WARN  08:15:05,440 ExactAFCalculator - this tool is currently set to genotype at most 6 alternate alleles in a given context, but the context at Pf3D7_09_v3:761842 has 7 alternate alleles so only the top alleles will be used; see the --max_alternate_alleles argument \r\n",
        "WARN  08:15:05,450 ExactAFCalculator - this tool is currently set to genotype at most 6 alternate alleles in a given context, but the context at Pf3D7_09_v3:763842 has 7 alternate alleles so only the top alleles will be used; see the --max_alternate_alleles argument \r\n",
        "WARN  08:15:05,473 ExactAFCalculator - this tool is currently set to genotype at most 6 alternate alleles in a given context, but the context at Pf3D7_09_v3:769381 has 7 alternate alleles so only the top alleles will be used; see the --max_alternate_alleles argument \r\n"
       ]
      },
      {
       "output_type": "stream",
       "stream": "stdout",
       "text": [
        "WARN  08:15:05,554 ExactAFCalculator - this tool is currently set to genotype at most 6 alternate alleles in a given context, but the context at Pf3D7_09_v3:789460 has 7 alternate alleles so only the top alleles will be used; see the --max_alternate_alleles argument \r\n",
        "WARN  08:15:05,584 ExactAFCalculator - this tool is currently set to genotype at most 6 alternate alleles in a given context, but the context at Pf3D7_09_v3:797287 has 7 alternate alleles so only the top alleles will be used; see the --max_alternate_alleles argument \r\n"
       ]
      },
      {
       "output_type": "stream",
       "stream": "stdout",
       "text": [
        "WARN  08:15:05,609 ExactAFCalculator - this tool is currently set to genotype at most 6 alternate alleles in a given context, but the context at Pf3D7_09_v3:803977 has 7 alternate alleles so only the top alleles will be used; see the --max_alternate_alleles argument \r\n"
       ]
      },
      {
       "output_type": "stream",
       "stream": "stdout",
       "text": [
        "WARN  08:15:05,665 ExactAFCalculator - this tool is currently set to genotype at most 6 alternate alleles in a given context, but the context at Pf3D7_09_v3:821387 has 8 alternate alleles so only the top alleles will be used; see the --max_alternate_alleles argument \r\n",
        "WARN  08:15:05,679 ExactAFCalculator - this tool is currently set to genotype at most 6 alternate alleles in a given context, but the context at Pf3D7_09_v3:824602 has 7 alternate alleles so only the top alleles will be used; see the --max_alternate_alleles argument \r\n",
        "WARN  08:15:05,702 ExactAFCalculator - this tool is currently set to genotype at most 6 alternate alleles in a given context, but the context at Pf3D7_09_v3:831484 has 7 alternate alleles so only the top alleles will be used; see the --max_alternate_alleles argument \r\n"
       ]
      },
      {
       "output_type": "stream",
       "stream": "stdout",
       "text": [
        "WARN  08:15:05,705 ExactAFCalculator - this tool is currently set to genotype at most 6 alternate alleles in a given context, but the context at Pf3D7_09_v3:832038 has 10 alternate alleles so only the top alleles will be used; see the --max_alternate_alleles argument \r\n",
        "WARN  08:15:05,739 ExactAFCalculator - this tool is currently set to genotype at most 6 alternate alleles in a given context, but the context at Pf3D7_09_v3:842429 has 9 alternate alleles so only the top alleles will be used; see the --max_alternate_alleles argument \r\n"
       ]
      },
      {
       "output_type": "stream",
       "stream": "stdout",
       "text": [
        "WARN  08:15:05,792 ExactAFCalculator - this tool is currently set to genotype at most 6 alternate alleles in a given context, but the context at Pf3D7_09_v3:858443 has 9 alternate alleles so only the top alleles will be used; see the --max_alternate_alleles argument \r\n"
       ]
      },
      {
       "output_type": "stream",
       "stream": "stdout",
       "text": [
        "WARN  08:15:05,851 ExactAFCalculator - this tool is currently set to genotype at most 6 alternate alleles in a given context, but the context at Pf3D7_09_v3:877259 has 9 alternate alleles so only the top alleles will be used; see the --max_alternate_alleles argument \r\n"
       ]
      },
      {
       "output_type": "stream",
       "stream": "stdout",
       "text": [
        "WARN  08:15:05,866 ExactAFCalculator - this tool is currently set to genotype at most 6 alternate alleles in a given context, but the context at Pf3D7_09_v3:884155 has 11 alternate alleles so only the top alleles will be used; see the --max_alternate_alleles argument \r\n",
        "WARN  08:15:05,888 ExactAFCalculator - this tool is currently set to genotype at most 6 alternate alleles in a given context, but the context at Pf3D7_09_v3:890678 has 7 alternate alleles so only the top alleles will be used; see the --max_alternate_alleles argument \r\n",
        "WARN  08:15:05,894 ExactAFCalculator - this tool is currently set to genotype at most 6 alternate alleles in a given context, but the context at Pf3D7_09_v3:892861 has 7 alternate alleles so only the top alleles will be used; see the --max_alternate_alleles argument \r\n",
        "WARN  08:15:05,906 ExactAFCalculator - this tool is currently set to genotype at most 6 alternate alleles in a given context, but the context at Pf3D7_09_v3:895179 has 7 alternate alleles so only the top alleles will be used; see the --max_alternate_alleles argument \r\n"
       ]
      },
      {
       "output_type": "stream",
       "stream": "stdout",
       "text": [
        "WARN  08:15:05,916 ExactAFCalculator - this tool is currently set to genotype at most 6 alternate alleles in a given context, but the context at Pf3D7_09_v3:899981 has 11 alternate alleles so only the top alleles will be used; see the --max_alternate_alleles argument \r\n",
        "WARN  08:15:05,920 ExactAFCalculator - this tool is currently set to genotype at most 6 alternate alleles in a given context, but the context at Pf3D7_09_v3:900792 has 8 alternate alleles so only the top alleles will be used; see the --max_alternate_alleles argument \r\n",
        "WARN  08:15:05,958 ExactAFCalculator - this tool is currently set to genotype at most 6 alternate alleles in a given context, but the context at Pf3D7_09_v3:908211 has 10 alternate alleles so only the top alleles will be used; see the --max_alternate_alleles argument \r\n"
       ]
      },
      {
       "output_type": "stream",
       "stream": "stdout",
       "text": [
        "WARN  08:15:05,966 ExactAFCalculator - this tool is currently set to genotype at most 6 alternate alleles in a given context, but the context at Pf3D7_09_v3:911449 has 7 alternate alleles so only the top alleles will be used; see the --max_alternate_alleles argument \r\n",
        "WARN  08:15:05,995 ExactAFCalculator - this tool is currently set to genotype at most 6 alternate alleles in a given context, but the context at Pf3D7_09_v3:916675 has 7 alternate alleles so only the top alleles will be used; see the --max_alternate_alleles argument \r\n",
        "WARN  08:15:06,002 ExactAFCalculator - this tool is currently set to genotype at most 6 alternate alleles in a given context, but the context at Pf3D7_09_v3:919066 has 9 alternate alleles so only the top alleles will be used; see the --max_alternate_alleles argument \r\n",
        "WARN  08:15:06,004 ExactAFCalculator - this tool is currently set to genotype at most 6 alternate alleles in a given context, but the context at Pf3D7_09_v3:919360 has 7 alternate alleles so only the top alleles will be used; see the --max_alternate_alleles argument \r\n",
        "WARN  08:15:06,006 ExactAFCalculator - this tool is currently set to genotype at most 6 alternate alleles in a given context, but the context at Pf3D7_09_v3:919601 has 7 alternate alleles so only the top alleles will be used; see the --max_alternate_alleles argument \r\n",
        "WARN  08:15:06,009 ExactAFCalculator - this tool is currently set to genotype at most 6 alternate alleles in a given context, but the context at Pf3D7_09_v3:920241 has 8 alternate alleles so only the top alleles will be used; see the --max_alternate_alleles argument \r\n"
       ]
      },
      {
       "output_type": "stream",
       "stream": "stdout",
       "text": [
        "WARN  08:15:06,012 ExactAFCalculator - this tool is currently set to genotype at most 6 alternate alleles in a given context, but the context at Pf3D7_09_v3:920490 has 12 alternate alleles so only the top alleles will be used; see the --max_alternate_alleles argument \r\n",
        "WARN  08:15:06,014 ExactAFCalculator - this tool is currently set to genotype at most 6 alternate alleles in a given context, but the context at Pf3D7_09_v3:920881 has 7 alternate alleles so only the top alleles will be used; see the --max_alternate_alleles argument \r\n",
        "WARN  08:15:06,015 ExactAFCalculator - this tool is currently set to genotype at most 6 alternate alleles in a given context, but the context at Pf3D7_09_v3:921206 has 7 alternate alleles so only the top alleles will be used; see the --max_alternate_alleles argument \r\n",
        "WARN  08:15:06,057 ExactAFCalculator - this tool is currently set to genotype at most 6 alternate alleles in a given context, but the context at Pf3D7_09_v3:936312 has 7 alternate alleles so only the top alleles will be used; see the --max_alternate_alleles argument \r\n"
       ]
      },
      {
       "output_type": "stream",
       "stream": "stdout",
       "text": [
        "WARN  08:15:06,099 ExactAFCalculator - this tool is currently set to genotype at most 6 alternate alleles in a given context, but the context at Pf3D7_09_v3:944053 has 7 alternate alleles so only the top alleles will be used; see the --max_alternate_alleles argument \r\n"
       ]
      },
      {
       "output_type": "stream",
       "stream": "stdout",
       "text": [
        "WARN  08:15:06,169 ExactAFCalculator - this tool is currently set to genotype at most 6 alternate alleles in a given context, but the context at Pf3D7_09_v3:964593 has 7 alternate alleles so only the top alleles will be used; see the --max_alternate_alleles argument \r\n",
        "WARN  08:15:06,189 ExactAFCalculator - this tool is currently set to genotype at most 6 alternate alleles in a given context, but the context at Pf3D7_09_v3:967881 has 8 alternate alleles so only the top alleles will be used; see the --max_alternate_alleles argument \r\n"
       ]
      },
      {
       "output_type": "stream",
       "stream": "stdout",
       "text": [
        "WARN  08:15:06,298 ExactAFCalculator - this tool is currently set to genotype at most 6 alternate alleles in a given context, but the context at Pf3D7_09_v3:998589 has 7 alternate alleles so only the top alleles will be used; see the --max_alternate_alleles argument \r\n",
        "WARN  08:15:06,301 ExactAFCalculator - this tool is currently set to genotype at most 6 alternate alleles in a given context, but the context at Pf3D7_09_v3:999163 has 7 alternate alleles so only the top alleles will be used; see the --max_alternate_alleles argument \r\n"
       ]
      },
      {
       "output_type": "stream",
       "stream": "stdout",
       "text": [
        "WARN  08:15:06,399 ExactAFCalculator - this tool is currently set to genotype at most 6 alternate alleles in a given context, but the context at Pf3D7_09_v3:1009297 has 7 alternate alleles so only the top alleles will be used; see the --max_alternate_alleles argument \r\n"
       ]
      },
      {
       "output_type": "stream",
       "stream": "stdout",
       "text": [
        "WARN  08:15:06,449 ExactAFCalculator - this tool is currently set to genotype at most 6 alternate alleles in a given context, but the context at Pf3D7_09_v3:1018488 has 8 alternate alleles so only the top alleles will be used; see the --max_alternate_alleles argument \r\n",
        "WARN  08:15:06,450 ExactAFCalculator - this tool is currently set to genotype at most 6 alternate alleles in a given context, but the context at Pf3D7_09_v3:1018680 has 8 alternate alleles so only the top alleles will be used; see the --max_alternate_alleles argument \r\n"
       ]
      },
      {
       "output_type": "stream",
       "stream": "stdout",
       "text": [
        "WARN  08:15:06,490 ExactAFCalculator - this tool is currently set to genotype at most 6 alternate alleles in a given context, but the context at Pf3D7_09_v3:1025885 has 7 alternate alleles so only the top alleles will be used; see the --max_alternate_alleles argument \r\n"
       ]
      },
      {
       "output_type": "stream",
       "stream": "stdout",
       "text": [
        "WARN  08:15:06,842 ExactAFCalculator - this tool is currently set to genotype at most 6 alternate alleles in a given context, but the context at Pf3D7_09_v3:1073713 has 10 alternate alleles so only the top alleles will be used; see the --max_alternate_alleles argument \r\n"
       ]
      },
      {
       "output_type": "stream",
       "stream": "stdout",
       "text": [
        "WARN  08:15:06,995 ExactAFCalculator - this tool is currently set to genotype at most 6 alternate alleles in a given context, but the context at Pf3D7_09_v3:1107739 has 8 alternate alleles so only the top alleles will be used; see the --max_alternate_alleles argument \r\n"
       ]
      },
      {
       "output_type": "stream",
       "stream": "stdout",
       "text": [
        "WARN  08:15:07,038 ExactAFCalculator - this tool is currently set to genotype at most 6 alternate alleles in a given context, but the context at Pf3D7_09_v3:1122235 has 7 alternate alleles so only the top alleles will be used; see the --max_alternate_alleles argument \r\n"
       ]
      },
      {
       "output_type": "stream",
       "stream": "stdout",
       "text": [
        "WARN  08:15:07,113 ExactAFCalculator - this tool is currently set to genotype at most 6 alternate alleles in a given context, but the context at Pf3D7_09_v3:1136247 has 7 alternate alleles so only the top alleles will be used; see the --max_alternate_alleles argument \r\n",
        "WARN  08:15:07,145 ExactAFCalculator - this tool is currently set to genotype at most 6 alternate alleles in a given context, but the context at Pf3D7_09_v3:1143556 has 7 alternate alleles so only the top alleles will be used; see the --max_alternate_alleles argument \r\n",
        "WARN  08:15:07,154 ExactAFCalculator - this tool is currently set to genotype at most 6 alternate alleles in a given context, but the context at Pf3D7_09_v3:1144795 has 8 alternate alleles so only the top alleles will be used; see the --max_alternate_alleles argument \r\n"
       ]
      },
      {
       "output_type": "stream",
       "stream": "stdout",
       "text": [
        "WARN  08:15:07,163 ExactAFCalculator - this tool is currently set to genotype at most 6 alternate alleles in a given context, but the context at Pf3D7_09_v3:1146690 has 9 alternate alleles so only the top alleles will be used; see the --max_alternate_alleles argument \r\n"
       ]
      },
      {
       "output_type": "stream",
       "stream": "stdout",
       "text": [
        "WARN  08:15:07,226 ExactAFCalculator - this tool is currently set to genotype at most 6 alternate alleles in a given context, but the context at Pf3D7_09_v3:1158818 has 10 alternate alleles so only the top alleles will be used; see the --max_alternate_alleles argument \r\n"
       ]
      },
      {
       "output_type": "stream",
       "stream": "stdout",
       "text": [
        "WARN  08:15:07,357 ExactAFCalculator - this tool is currently set to genotype at most 6 alternate alleles in a given context, but the context at Pf3D7_09_v3:1188896 has 8 alternate alleles so only the top alleles will be used; see the --max_alternate_alleles argument \r\n"
       ]
      },
      {
       "output_type": "stream",
       "stream": "stdout",
       "text": [
        "WARN  08:15:07,389 ExactAFCalculator - this tool is currently set to genotype at most 6 alternate alleles in a given context, but the context at Pf3D7_09_v3:1199859 has 8 alternate alleles so only the top alleles will be used; see the --max_alternate_alleles argument \r\n"
       ]
      },
      {
       "output_type": "stream",
       "stream": "stdout",
       "text": [
        "WARN  08:15:07,465 ExactAFCalculator - this tool is currently set to genotype at most 6 alternate alleles in a given context, but the context at Pf3D7_09_v3:1220811 has 7 alternate alleles so only the top alleles will be used; see the --max_alternate_alleles argument \r\n"
       ]
      },
      {
       "output_type": "stream",
       "stream": "stdout",
       "text": [
        "WARN  08:15:07,473 ExactAFCalculator - this tool is currently set to genotype at most 6 alternate alleles in a given context, but the context at Pf3D7_09_v3:1221861 has 7 alternate alleles so only the top alleles will be used; see the --max_alternate_alleles argument \r\n",
        "WARN  08:15:07,476 ExactAFCalculator - this tool is currently set to genotype at most 6 alternate alleles in a given context, but the context at Pf3D7_09_v3:1223127 has 7 alternate alleles so only the top alleles will be used; see the --max_alternate_alleles argument \r\n",
        "WARN  08:15:07,477 ExactAFCalculator - this tool is currently set to genotype at most 6 alternate alleles in a given context, but the context at Pf3D7_09_v3:1223424 has 7 alternate alleles so only the top alleles will be used; see the --max_alternate_alleles argument \r\n",
        "WARN  08:15:07,509 ExactAFCalculator - this tool is currently set to genotype at most 6 alternate alleles in a given context, but the context at Pf3D7_09_v3:1239462 has 7 alternate alleles so only the top alleles will be used; see the --max_alternate_alleles argument \r\n"
       ]
      },
      {
       "output_type": "stream",
       "stream": "stdout",
       "text": [
        "WARN  08:15:07,557 ExactAFCalculator - this tool is currently set to genotype at most 6 alternate alleles in a given context, but the context at Pf3D7_09_v3:1252922 has 7 alternate alleles so only the top alleles will be used; see the --max_alternate_alleles argument \r\n"
       ]
      },
      {
       "output_type": "stream",
       "stream": "stdout",
       "text": [
        "WARN  08:15:07,607 ExactAFCalculator - this tool is currently set to genotype at most 6 alternate alleles in a given context, but the context at Pf3D7_09_v3:1263607 has 7 alternate alleles so only the top alleles will be used; see the --max_alternate_alleles argument \r\n"
       ]
      },
      {
       "output_type": "stream",
       "stream": "stdout",
       "text": [
        "WARN  08:15:07,650 ExactAFCalculator - this tool is currently set to genotype at most 6 alternate alleles in a given context, but the context at Pf3D7_09_v3:1274045 has 7 alternate alleles so only the top alleles will be used; see the --max_alternate_alleles argument \r\n",
        "WARN  08:15:07,659 ExactAFCalculator - this tool is currently set to genotype at most 6 alternate alleles in a given context, but the context at Pf3D7_09_v3:1275465 has 10 alternate alleles so only the top alleles will be used; see the --max_alternate_alleles argument \r\n",
        "WARN  08:15:07,662 ExactAFCalculator - this tool is currently set to genotype at most 6 alternate alleles in a given context, but the context at Pf3D7_09_v3:1276089 has 7 alternate alleles so only the top alleles will be used; see the --max_alternate_alleles argument \r\n"
       ]
      },
      {
       "output_type": "stream",
       "stream": "stdout",
       "text": [
        "WARN  08:15:07,737 ExactAFCalculator - this tool is currently set to genotype at most 6 alternate alleles in a given context, but the context at Pf3D7_09_v3:1291211 has 7 alternate alleles so only the top alleles will be used; see the --max_alternate_alleles argument \r\n",
        "WARN  08:15:07,746 ExactAFCalculator - this tool is currently set to genotype at most 6 alternate alleles in a given context, but the context at Pf3D7_09_v3:1293038 has 10 alternate alleles so only the top alleles will be used; see the --max_alternate_alleles argument \r\n",
        "WARN  08:15:07,760 ExactAFCalculator - this tool is currently set to genotype at most 6 alternate alleles in a given context, but the context at Pf3D7_09_v3:1296035 has 8 alternate alleles so only the top alleles will be used; see the --max_alternate_alleles argument \r\n",
        "WARN  08:15:07,780 ExactAFCalculator - this tool is currently set to genotype at most 6 alternate alleles in a given context, but the context at Pf3D7_09_v3:1302740 has 8 alternate alleles so only the top alleles will be used; see the --max_alternate_alleles argument \r\n",
        "WARN  08:15:07,786 ExactAFCalculator - this tool is currently set to genotype at most 6 alternate alleles in a given context, but the context at Pf3D7_09_v3:1303549 has 8 alternate alleles so only the top alleles will be used; see the --max_alternate_alleles argument \r\n"
       ]
      },
      {
       "output_type": "stream",
       "stream": "stdout",
       "text": [
        "WARN  08:15:07,809 ExactAFCalculator - this tool is currently set to genotype at most 6 alternate alleles in a given context, but the context at Pf3D7_09_v3:1310038 has 8 alternate alleles so only the top alleles will be used; see the --max_alternate_alleles argument \r\n",
        "WARN  08:15:07,830 ExactAFCalculator - this tool is currently set to genotype at most 6 alternate alleles in a given context, but the context at Pf3D7_09_v3:1314459 has 7 alternate alleles so only the top alleles will be used; see the --max_alternate_alleles argument \r\n"
       ]
      },
      {
       "output_type": "stream",
       "stream": "stdout",
       "text": [
        "WARN  08:15:07,857 ExactAFCalculator - this tool is currently set to genotype at most 6 alternate alleles in a given context, but the context at Pf3D7_09_v3:1319979 has 7 alternate alleles so only the top alleles will be used; see the --max_alternate_alleles argument \r\n"
       ]
      },
      {
       "output_type": "stream",
       "stream": "stdout",
       "text": [
        "WARN  08:15:07,898 ExactAFCalculator - this tool is currently set to genotype at most 6 alternate alleles in a given context, but the context at Pf3D7_09_v3:1333987 has 7 alternate alleles so only the top alleles will be used; see the --max_alternate_alleles argument \r\n",
        "WARN  08:15:07,900 ExactAFCalculator - this tool is currently set to genotype at most 6 alternate alleles in a given context, but the context at Pf3D7_09_v3:1334326 has 7 alternate alleles so only the top alleles will be used; see the --max_alternate_alleles argument \r\n",
        "WARN  08:15:07,929 ExactAFCalculator - this tool is currently set to genotype at most 6 alternate alleles in a given context, but the context at Pf3D7_09_v3:1342467 has 8 alternate alleles so only the top alleles will be used; see the --max_alternate_alleles argument \r\n"
       ]
      },
      {
       "output_type": "stream",
       "stream": "stdout",
       "text": [
        "WARN  08:15:07,963 ExactAFCalculator - this tool is currently set to genotype at most 6 alternate alleles in a given context, but the context at Pf3D7_09_v3:1351784 has 8 alternate alleles so only the top alleles will be used; see the --max_alternate_alleles argument \r\n"
       ]
      },
      {
       "output_type": "stream",
       "stream": "stdout",
       "text": [
        "WARN  08:15:08,004 ExactAFCalculator - this tool is currently set to genotype at most 6 alternate alleles in a given context, but the context at Pf3D7_09_v3:1359311 has 7 alternate alleles so only the top alleles will be used; see the --max_alternate_alleles argument \r\n",
        "WARN  08:15:08,023 ExactAFCalculator - this tool is currently set to genotype at most 6 alternate alleles in a given context, but the context at Pf3D7_09_v3:1362111 has 7 alternate alleles so only the top alleles will be used; see the --max_alternate_alleles argument \r\n",
        "WARN  08:15:08,034 ExactAFCalculator - this tool is currently set to genotype at most 6 alternate alleles in a given context, but the context at Pf3D7_09_v3:1366053 has 7 alternate alleles so only the top alleles will be used; see the --max_alternate_alleles argument \r\n",
        "WARN  08:15:08,041 ExactAFCalculator - this tool is currently set to genotype at most 6 alternate alleles in a given context, but the context at Pf3D7_09_v3:1366509 has 10 alternate alleles so only the top alleles will be used; see the --max_alternate_alleles argument \r\n"
       ]
      },
      {
       "output_type": "stream",
       "stream": "stdout",
       "text": [
        "WARN  08:15:08,161 ExactAFCalculator - this tool is currently set to genotype at most 6 alternate alleles in a given context, but the context at Pf3D7_09_v3:1382366 has 7 alternate alleles so only the top alleles will be used; see the --max_alternate_alleles argument \r\n"
       ]
      },
      {
       "output_type": "stream",
       "stream": "stdout",
       "text": [
        "WARN  08:15:08,229 ExactAFCalculator - this tool is currently set to genotype at most 6 alternate alleles in a given context, but the context at Pf3D7_09_v3:1390422 has 7 alternate alleles so only the top alleles will be used; see the --max_alternate_alleles argument \r\n"
       ]
      },
      {
       "output_type": "stream",
       "stream": "stdout",
       "text": [
        "WARN  08:15:08,341 ExactAFCalculator - this tool is currently set to genotype at most 6 alternate alleles in a given context, but the context at Pf3D7_09_v3:1407037 has 7 alternate alleles so only the top alleles will be used; see the --max_alternate_alleles argument \r\n"
       ]
      },
      {
       "output_type": "stream",
       "stream": "stdout",
       "text": [
        "WARN  08:15:08,405 ExactAFCalculator - this tool is currently set to genotype at most 6 alternate alleles in a given context, but the context at Pf3D7_09_v3:1419997 has 8 alternate alleles so only the top alleles will be used; see the --max_alternate_alleles argument \r\n"
       ]
      },
      {
       "output_type": "stream",
       "stream": "stdout",
       "text": [
        "WARN  08:15:08,569 ExactAFCalculator - this tool is currently set to genotype at most 6 alternate alleles in a given context, but the context at Pf3D7_09_v3:1445932 has 7 alternate alleles so only the top alleles will be used; see the --max_alternate_alleles argument \r\n",
        "WARN  08:15:08,578 ExactAFCalculator - this tool is currently set to genotype at most 6 alternate alleles in a given context, but the context at Pf3D7_09_v3:1447167 has 8 alternate alleles so only the top alleles will be used; see the --max_alternate_alleles argument \r\n",
        "WARN  08:15:08,585 ExactAFCalculator - this tool is currently set to genotype at most 6 alternate alleles in a given context, but the context at Pf3D7_09_v3:1448553 has 7 alternate alleles so only the top alleles will be used; see the --max_alternate_alleles argument \r\n"
       ]
      },
      {
       "output_type": "stream",
       "stream": "stdout",
       "text": [
        "WARN  08:15:08,726 ExactAFCalculator - this tool is currently set to genotype at most 6 alternate alleles in a given context, but the context at Pf3D7_09_v3:1473786 has 7 alternate alleles so only the top alleles will be used; see the --max_alternate_alleles argument \r\n"
       ]
      },
      {
       "output_type": "stream",
       "stream": "stdout",
       "text": [
        "INFO  08:15:09,676 ProgressMeter -            done   1541735.0    12.0 s       8.0 s       47.7%    25.0 s      13.0 s \r\n",
        "INFO  08:15:09,677 ProgressMeter - Total runtime 12.92 secs, 0.22 min, 0.00 hours \r\n"
       ]
      },
      {
       "output_type": "stream",
       "stream": "stdout",
       "text": [
        "INFO  08:15:12,371 GATKRunReport - Uploaded run statistics report to AWS S3 \r\n"
       ]
      },
      {
       "output_type": "stream",
       "stream": "stdout",
       "text": [
        "INFO  08:15:13,986 HelpFormatter - -------------------------------------------------------------------------------- \r\n",
        "INFO  08:15:13,988 HelpFormatter - The Genome Analysis Toolkit (GATK) v3.4-0-g7e26428, Compiled 2015/05/15 03:25:41 \r\n",
        "INFO  08:15:13,988 HelpFormatter - Copyright (c) 2010 The Broad Institute \r\n",
        "INFO  08:15:13,988 HelpFormatter - For support and documentation go to http://www.broadinstitute.org/gatk \r\n",
        "INFO  08:15:13,991 HelpFormatter - Program Args: -T CombineGVCFs -R /data/plasmodium/pfalciparum/recon/roamato/Pf3D7_v3/3D7_sorted.fa --variant /nfs/team112_internal/production_files/Pf3k/methods/assembled_samples/vcfs/gvcf/lists/gvcfs.Pf3D7_11_v3.0.list -o /nfs/team112_internal/production_files/Pf3k/methods/assembled_samples/vcfs/gvcf/combined_gvcf/combined.Pf3D7_11_v3.0.g.vcf \r\n",
        "INFO  08:15:13,998 HelpFormatter - Executing as rpearson@dhcp511.well.ox.ac.uk on Mac OS X 10.10.3 x86_64; Java HotSpot(TM) 64-Bit Server VM 1.7.0_60-b19. \r\n",
        "INFO  08:15:13,998 HelpFormatter - Date/Time: 2015/07/01 08:15:13 \r\n",
        "INFO  08:15:13,998 HelpFormatter - -------------------------------------------------------------------------------- \r\n",
        "INFO  08:15:13,998 HelpFormatter - -------------------------------------------------------------------------------- \r\n"
       ]
      },
      {
       "output_type": "stream",
       "stream": "stdout",
       "text": [
        "INFO  08:15:14,359 GenomeAnalysisEngine - Strictness is SILENT \r\n"
       ]
      },
      {
       "output_type": "stream",
       "stream": "stdout",
       "text": [
        "INFO  08:15:14,406 GenomeAnalysisEngine - Downsampling Settings: Method: BY_SAMPLE, Target Coverage: 1000 \r\n"
       ]
      },
      {
       "output_type": "stream",
       "stream": "stdout",
       "text": [
        "INFO  08:15:14,526 GenomeAnalysisEngine - Preparing for traversal \r\n",
        "INFO  08:15:14,527 GenomeAnalysisEngine - Done preparing for traversal \r\n",
        "INFO  08:15:14,527 ProgressMeter - [INITIALIZATION COMPLETE; STARTING PROCESSING] \r\n",
        "INFO  08:15:14,528 ProgressMeter -                 | processed |    time |    per 1M |           |   total | remaining \r\n",
        "INFO  08:15:14,528 ProgressMeter -        Location |     sites | elapsed |     sites | completed | runtime |   runtime \r\n"
       ]
      },
      {
       "output_type": "stream",
       "stream": "stdout",
       "text": [
        "INFO  08:15:23,814 ProgressMeter -            done   2038340.0     9.0 s       4.0 s       63.6%    14.0 s       5.0 s \r\n",
        "INFO  08:15:23,814 ProgressMeter - Total runtime 9.29 secs, 0.15 min, 0.00 hours \r\n"
       ]
      },
      {
       "output_type": "stream",
       "stream": "stdout",
       "text": [
        "INFO  08:15:29,601 HttpMethodBase - 100 (continue) read timeout. Resume sending the request \r\n"
       ]
      },
      {
       "output_type": "stream",
       "stream": "stdout",
       "text": [
        "INFO  08:15:30,829 HttpMethodBase - Discarding unexpected response: HTTP/1.1 100 Continue \r\n"
       ]
      },
      {
       "output_type": "stream",
       "stream": "stdout",
       "text": [
        "INFO  08:15:30,876 GATKRunReport - Uploaded run statistics report to AWS S3 \r\n"
       ]
      },
      {
       "output_type": "stream",
       "stream": "stdout",
       "text": [
        "INFO  08:15:32,504 HelpFormatter - -------------------------------------------------------------------------------- \r\n",
        "INFO  08:15:32,506 HelpFormatter - The Genome Analysis Toolkit (GATK) v3.4-0-g7e26428, Compiled 2015/05/15 03:25:41 \r\n",
        "INFO  08:15:32,506 HelpFormatter - Copyright (c) 2010 The Broad Institute \r\n",
        "INFO  08:15:32,506 HelpFormatter - For support and documentation go to http://www.broadinstitute.org/gatk \r\n",
        "INFO  08:15:32,509 HelpFormatter - Program Args: -T CombineGVCFs -R /data/plasmodium/pfalciparum/recon/roamato/Pf3D7_v3/3D7_sorted.fa --variant /nfs/team112_internal/production_files/Pf3k/methods/assembled_samples/vcfs/gvcf/lists/gvcfs.Pf3D7_11_v3.1.list -o /nfs/team112_internal/production_files/Pf3k/methods/assembled_samples/vcfs/gvcf/combined_gvcf/combined.Pf3D7_11_v3.1.g.vcf \r\n",
        "INFO  08:15:32,516 HelpFormatter - Executing as rpearson@dhcp511.well.ox.ac.uk on Mac OS X 10.10.3 x86_64; Java HotSpot(TM) 64-Bit Server VM 1.7.0_60-b19. \r\n",
        "INFO  08:15:32,516 HelpFormatter - Date/Time: 2015/07/01 08:15:32 \r\n",
        "INFO  08:15:32,516 HelpFormatter - -------------------------------------------------------------------------------- \r\n",
        "INFO  08:15:32,516 HelpFormatter - -------------------------------------------------------------------------------- \r\n"
       ]
      },
      {
       "output_type": "stream",
       "stream": "stdout",
       "text": [
        "INFO  08:15:32,885 GenomeAnalysisEngine - Strictness is SILENT \r\n"
       ]
      },
      {
       "output_type": "stream",
       "stream": "stdout",
       "text": [
        "INFO  08:15:32,937 GenomeAnalysisEngine - Downsampling Settings: Method: BY_SAMPLE, Target Coverage: 1000 \r\n"
       ]
      },
      {
       "output_type": "stream",
       "stream": "stdout",
       "text": [
        "INFO  08:15:33,082 GenomeAnalysisEngine - Preparing for traversal \r\n",
        "INFO  08:15:33,083 GenomeAnalysisEngine - Done preparing for traversal \r\n",
        "INFO  08:15:33,084 ProgressMeter - [INITIALIZATION COMPLETE; STARTING PROCESSING] \r\n",
        "INFO  08:15:33,084 ProgressMeter -                 | processed |    time |    per 1M |           |   total | remaining \r\n",
        "INFO  08:15:33,085 ProgressMeter -        Location |     sites | elapsed |     sites | completed | runtime |   runtime \r\n"
       ]
      },
      {
       "output_type": "stream",
       "stream": "stdout",
       "text": [
        "INFO  08:15:41,739 ProgressMeter -            done   2038340.0     8.0 s       4.0 s       63.6%    12.0 s       4.0 s \r\n",
        "INFO  08:15:41,739 ProgressMeter - Total runtime 8.66 secs, 0.14 min, 0.00 hours \r\n"
       ]
      },
      {
       "output_type": "stream",
       "stream": "stdout",
       "text": [
        "INFO  08:15:44,527 GATKRunReport - Uploaded run statistics report to AWS S3 \r\n"
       ]
      },
      {
       "output_type": "stream",
       "stream": "stdout",
       "text": [
        "INFO  08:15:46,326 HelpFormatter - -------------------------------------------------------------------------------- \r\n",
        "INFO  08:15:46,328 HelpFormatter - The Genome Analysis Toolkit (GATK) v3.4-0-g7e26428, Compiled 2015/05/15 03:25:41 \r\n",
        "INFO  08:15:46,328 HelpFormatter - Copyright (c) 2010 The Broad Institute \r\n",
        "INFO  08:15:46,329 HelpFormatter - For support and documentation go to http://www.broadinstitute.org/gatk \r\n",
        "INFO  08:15:46,333 HelpFormatter - Program Args: -T GenotypeGVCFs -R /data/plasmodium/pfalciparum/recon/roamato/Pf3D7_v3/3D7_sorted.fa --variant /nfs/team112_internal/production_files/Pf3k/methods/assembled_samples/vcfs/gvcf/lists/gvcfs.Pf3D7_11_v3.all.list -o /nfs/team112_internal/production_files/Pf3k/methods/assembled_samples/vcfs/vcf/raw.snps.indels.Pf3D7_11_v3.vcf \r\n",
        "INFO  08:15:46,341 HelpFormatter - Executing as rpearson@dhcp511.well.ox.ac.uk on Mac OS X 10.10.3 x86_64; Java HotSpot(TM) 64-Bit Server VM 1.7.0_60-b19. \r\n",
        "INFO  08:15:46,341 HelpFormatter - Date/Time: 2015/07/01 08:15:46 \r\n",
        "INFO  08:15:46,342 HelpFormatter - -------------------------------------------------------------------------------- \r\n",
        "INFO  08:15:46,342 HelpFormatter - -------------------------------------------------------------------------------- \r\n"
       ]
      },
      {
       "output_type": "stream",
       "stream": "stdout",
       "text": [
        "INFO  08:15:46,745 GenomeAnalysisEngine - Strictness is SILENT \r\n"
       ]
      },
      {
       "output_type": "stream",
       "stream": "stdout",
       "text": [
        "INFO  08:15:46,794 GenomeAnalysisEngine - Downsampling Settings: Method: BY_SAMPLE, Target Coverage: 1000 \r\n"
       ]
      },
      {
       "output_type": "stream",
       "stream": "stdout",
       "text": [
        "INFO  08:15:46,921 GenomeAnalysisEngine - Preparing for traversal \r\n",
        "INFO  08:15:46,922 GenomeAnalysisEngine - Done preparing for traversal \r\n",
        "INFO  08:15:46,922 ProgressMeter - [INITIALIZATION COMPLETE; STARTING PROCESSING] \r\n",
        "INFO  08:15:46,923 ProgressMeter -                 | processed |    time |    per 1M |           |   total | remaining \r\n",
        "INFO  08:15:46,923 ProgressMeter -        Location |     sites | elapsed |     sites | completed | runtime |   runtime \r\n"
       ]
      },
      {
       "output_type": "stream",
       "stream": "stdout",
       "text": [
        "INFO  08:15:47,011 GenotypeGVCFs - Notice that the -ploidy parameter is ignored in GenotypeGVCFs tool as this is automatically determined by the input variant files \r\n"
       ]
      },
      {
       "output_type": "stream",
       "stream": "stdout",
       "text": [
        "WARN  08:15:52,722 ExactAFCalculator - this tool is currently set to genotype at most 6 alternate alleles in a given context, but the context at Pf3D7_11_v3:74636 has 8 alternate alleles so only the top alleles will be used; see the --max_alternate_alleles argument \r\n"
       ]
      },
      {
       "output_type": "stream",
       "stream": "stdout",
       "text": [
        "WARN  08:15:52,984 ExactAFCalculator - this tool is currently set to genotype at most 6 alternate alleles in a given context, but the context at Pf3D7_11_v3:105307 has 9 alternate alleles so only the top alleles will be used; see the --max_alternate_alleles argument \r\n"
       ]
      },
      {
       "output_type": "stream",
       "stream": "stdout",
       "text": [
        "WARN  08:15:52,996 ExactAFCalculator - this tool is currently set to genotype at most 6 alternate alleles in a given context, but the context at Pf3D7_11_v3:107833 has 8 alternate alleles so only the top alleles will be used; see the --max_alternate_alleles argument \r\n",
        "WARN  08:15:53,027 ExactAFCalculator - this tool is currently set to genotype at most 6 alternate alleles in a given context, but the context at Pf3D7_11_v3:113702 has 7 alternate alleles so only the top alleles will be used; see the --max_alternate_alleles argument \r\n"
       ]
      },
      {
       "output_type": "stream",
       "stream": "stdout",
       "text": [
        "WARN  08:15:53,044 ExactAFCalculator - this tool is currently set to genotype at most 6 alternate alleles in a given context, but the context at Pf3D7_11_v3:116703 has 9 alternate alleles so only the top alleles will be used; see the --max_alternate_alleles argument \r\n"
       ]
      },
      {
       "output_type": "stream",
       "stream": "stdout",
       "text": [
        "WARN  08:15:53,103 ExactAFCalculator - this tool is currently set to genotype at most 6 alternate alleles in a given context, but the context at Pf3D7_11_v3:124977 has 7 alternate alleles so only the top alleles will be used; see the --max_alternate_alleles argument \r\n",
        "WARN  08:15:53,109 ExactAFCalculator - this tool is currently set to genotype at most 6 alternate alleles in a given context, but the context at Pf3D7_11_v3:125845 has 8 alternate alleles so only the top alleles will be used; see the --max_alternate_alleles argument \r\n",
        "WARN  08:15:53,137 ExactAFCalculator - this tool is currently set to genotype at most 6 alternate alleles in a given context, but the context at Pf3D7_11_v3:129580 has 10 alternate alleles so only the top alleles will be used; see the --max_alternate_alleles argument \r\n"
       ]
      },
      {
       "output_type": "stream",
       "stream": "stdout",
       "text": [
        "WARN  08:15:53,226 ExactAFCalculator - this tool is currently set to genotype at most 6 alternate alleles in a given context, but the context at Pf3D7_11_v3:146365 has 7 alternate alleles so only the top alleles will be used; see the --max_alternate_alleles argument \r\n",
        "WARN  08:15:53,240 ExactAFCalculator - this tool is currently set to genotype at most 6 alternate alleles in a given context, but the context at Pf3D7_11_v3:152336 has 7 alternate alleles so only the top alleles will be used; see the --max_alternate_alleles argument \r\n"
       ]
      },
      {
       "output_type": "stream",
       "stream": "stdout",
       "text": [
        "WARN  08:15:53,279 ExactAFCalculator - this tool is currently set to genotype at most 6 alternate alleles in a given context, but the context at Pf3D7_11_v3:161048 has 9 alternate alleles so only the top alleles will be used; see the --max_alternate_alleles argument \r\n"
       ]
      },
      {
       "output_type": "stream",
       "stream": "stdout",
       "text": [
        "WARN  08:15:53,334 ExactAFCalculator - this tool is currently set to genotype at most 6 alternate alleles in a given context, but the context at Pf3D7_11_v3:179433 has 16 alternate alleles so only the top alleles will be used; see the --max_alternate_alleles argument \r\n"
       ]
      },
      {
       "output_type": "stream",
       "stream": "stdout",
       "text": [
        "WARN  08:15:53,355 ExactAFCalculator - this tool is currently set to genotype at most 6 alternate alleles in a given context, but the context at Pf3D7_11_v3:182762 has 8 alternate alleles so only the top alleles will be used; see the --max_alternate_alleles argument \r\n",
        "WARN  08:15:53,386 ExactAFCalculator - this tool is currently set to genotype at most 6 alternate alleles in a given context, but the context at Pf3D7_11_v3:190438 has 7 alternate alleles so only the top alleles will be used; see the --max_alternate_alleles argument \r\n",
        "WARN  08:15:53,389 ExactAFCalculator - this tool is currently set to genotype at most 6 alternate alleles in a given context, but the context at Pf3D7_11_v3:190654 has 9 alternate alleles so only the top alleles will be used; see the --max_alternate_alleles argument \r\n"
       ]
      },
      {
       "output_type": "stream",
       "stream": "stdout",
       "text": [
        "WARN  08:15:53,468 ExactAFCalculator - this tool is currently set to genotype at most 6 alternate alleles in a given context, but the context at Pf3D7_11_v3:207945 has 7 alternate alleles so only the top alleles will be used; see the --max_alternate_alleles argument \r\n"
       ]
      },
      {
       "output_type": "stream",
       "stream": "stdout",
       "text": [
        "WARN  08:15:53,530 ExactAFCalculator - this tool is currently set to genotype at most 6 alternate alleles in a given context, but the context at Pf3D7_11_v3:219735 has 7 alternate alleles so only the top alleles will be used; see the --max_alternate_alleles argument \r\n"
       ]
      },
      {
       "output_type": "stream",
       "stream": "stdout",
       "text": [
        "WARN  08:15:53,577 ExactAFCalculator - this tool is currently set to genotype at most 6 alternate alleles in a given context, but the context at Pf3D7_11_v3:226539 has 7 alternate alleles so only the top alleles will be used; see the --max_alternate_alleles argument \r\n",
        "WARN  08:15:53,605 ExactAFCalculator - this tool is currently set to genotype at most 6 alternate alleles in a given context, but the context at Pf3D7_11_v3:232583 has 7 alternate alleles so only the top alleles will be used; see the --max_alternate_alleles argument \r\n"
       ]
      },
      {
       "output_type": "stream",
       "stream": "stdout",
       "text": [
        "WARN  08:15:53,630 ExactAFCalculator - this tool is currently set to genotype at most 6 alternate alleles in a given context, but the context at Pf3D7_11_v3:238051 has 7 alternate alleles so only the top alleles will be used; see the --max_alternate_alleles argument \r\n",
        "WARN  08:15:53,649 ExactAFCalculator - this tool is currently set to genotype at most 6 alternate alleles in a given context, but the context at Pf3D7_11_v3:240794 has 7 alternate alleles so only the top alleles will be used; see the --max_alternate_alleles argument \r\n"
       ]
      },
      {
       "output_type": "stream",
       "stream": "stdout",
       "text": [
        "WARN  08:15:53,676 ExactAFCalculator - this tool is currently set to genotype at most 6 alternate alleles in a given context, but the context at Pf3D7_11_v3:246519 has 7 alternate alleles so only the top alleles will be used; see the --max_alternate_alleles argument \r\n",
        "WARN  08:15:53,688 ExactAFCalculator - this tool is currently set to genotype at most 6 alternate alleles in a given context, but the context at Pf3D7_11_v3:249264 has 7 alternate alleles so only the top alleles will be used; see the --max_alternate_alleles argument \r\n"
       ]
      },
      {
       "output_type": "stream",
       "stream": "stdout",
       "text": [
        "WARN  08:15:53,717 ExactAFCalculator - this tool is currently set to genotype at most 6 alternate alleles in a given context, but the context at Pf3D7_11_v3:255265 has 7 alternate alleles so only the top alleles will be used; see the --max_alternate_alleles argument \r\n",
        "WARN  08:15:53,731 ExactAFCalculator - this tool is currently set to genotype at most 6 alternate alleles in a given context, but the context at Pf3D7_11_v3:258011 has 7 alternate alleles so only the top alleles will be used; see the --max_alternate_alleles argument \r\n",
        "WARN  08:15:53,741 ExactAFCalculator - this tool is currently set to genotype at most 6 alternate alleles in a given context, but the context at Pf3D7_11_v3:259574 has 7 alternate alleles so only the top alleles will be used; see the --max_alternate_alleles argument \r\n",
        "WARN  08:15:53,755 ExactAFCalculator - this tool is currently set to genotype at most 6 alternate alleles in a given context, but the context at Pf3D7_11_v3:262828 has 8 alternate alleles so only the top alleles will be used; see the --max_alternate_alleles argument \r\n"
       ]
      },
      {
       "output_type": "stream",
       "stream": "stdout",
       "text": [
        "WARN  08:15:53,846 ExactAFCalculator - this tool is currently set to genotype at most 6 alternate alleles in a given context, but the context at Pf3D7_11_v3:293346 has 8 alternate alleles so only the top alleles will be used; see the --max_alternate_alleles argument \r\n",
        "WARN  08:15:53,856 ExactAFCalculator - this tool is currently set to genotype at most 6 alternate alleles in a given context, but the context at Pf3D7_11_v3:296076 has 8 alternate alleles so only the top alleles will be used; see the --max_alternate_alleles argument \r\n",
        "WARN  08:15:53,862 ExactAFCalculator - this tool is currently set to genotype at most 6 alternate alleles in a given context, but the context at Pf3D7_11_v3:296855 has 8 alternate alleles so only the top alleles will be used; see the --max_alternate_alleles argument \r\n",
        "WARN  08:15:53,873 ExactAFCalculator - this tool is currently set to genotype at most 6 alternate alleles in a given context, but the context at Pf3D7_11_v3:298792 has 10 alternate alleles so only the top alleles will be used; see the --max_alternate_alleles argument \r\n"
       ]
      },
      {
       "output_type": "stream",
       "stream": "stdout",
       "text": [
        "WARN  08:15:54,006 ExactAFCalculator - this tool is currently set to genotype at most 6 alternate alleles in a given context, but the context at Pf3D7_11_v3:329688 has 10 alternate alleles so only the top alleles will be used; see the --max_alternate_alleles argument \r\n"
       ]
      },
      {
       "output_type": "stream",
       "stream": "stdout",
       "text": [
        "WARN  08:15:54,064 ExactAFCalculator - this tool is currently set to genotype at most 6 alternate alleles in a given context, but the context at Pf3D7_11_v3:339369 has 7 alternate alleles so only the top alleles will be used; see the --max_alternate_alleles argument \r\n"
       ]
      },
      {
       "output_type": "stream",
       "stream": "stdout",
       "text": [
        "WARN  08:15:54,112 ExactAFCalculator - this tool is currently set to genotype at most 6 alternate alleles in a given context, but the context at Pf3D7_11_v3:342976 has 8 alternate alleles so only the top alleles will be used; see the --max_alternate_alleles argument \r\n"
       ]
      },
      {
       "output_type": "stream",
       "stream": "stdout",
       "text": [
        "WARN  08:15:54,184 ExactAFCalculator - this tool is currently set to genotype at most 6 alternate alleles in a given context, but the context at Pf3D7_11_v3:355265 has 8 alternate alleles so only the top alleles will be used; see the --max_alternate_alleles argument \r\n"
       ]
      },
      {
       "output_type": "stream",
       "stream": "stdout",
       "text": [
        "WARN  08:15:54,260 ExactAFCalculator - this tool is currently set to genotype at most 6 alternate alleles in a given context, but the context at Pf3D7_11_v3:366464 has 8 alternate alleles so only the top alleles will be used; see the --max_alternate_alleles argument \r\n",
        "WARN  08:15:54,265 ExactAFCalculator - this tool is currently set to genotype at most 6 alternate alleles in a given context, but the context at Pf3D7_11_v3:367015 has 9 alternate alleles so only the top alleles will be used; see the --max_alternate_alleles argument \r\n"
       ]
      },
      {
       "output_type": "stream",
       "stream": "stdout",
       "text": [
        "WARN  08:15:54,410 ExactAFCalculator - this tool is currently set to genotype at most 6 alternate alleles in a given context, but the context at Pf3D7_11_v3:388192 has 7 alternate alleles so only the top alleles will be used; see the --max_alternate_alleles argument \r\n",
        "WARN  08:15:54,441 ExactAFCalculator - this tool is currently set to genotype at most 6 alternate alleles in a given context, but the context at Pf3D7_11_v3:391458 has 8 alternate alleles so only the top alleles will be used; see the --max_alternate_alleles argument \r\n"
       ]
      },
      {
       "output_type": "stream",
       "stream": "stdout",
       "text": [
        "WARN  08:15:54,633 ExactAFCalculator - this tool is currently set to genotype at most 6 alternate alleles in a given context, but the context at Pf3D7_11_v3:414690 has 7 alternate alleles so only the top alleles will be used; see the --max_alternate_alleles argument \r\n"
       ]
      },
      {
       "output_type": "stream",
       "stream": "stdout",
       "text": [
        "WARN  08:15:54,669 ExactAFCalculator - this tool is currently set to genotype at most 6 alternate alleles in a given context, but the context at Pf3D7_11_v3:420606 has 7 alternate alleles so only the top alleles will be used; see the --max_alternate_alleles argument \r\n"
       ]
      },
      {
       "output_type": "stream",
       "stream": "stdout",
       "text": [
        "WARN  08:15:54,858 ExactAFCalculator - this tool is currently set to genotype at most 6 alternate alleles in a given context, but the context at Pf3D7_11_v3:447609 has 7 alternate alleles so only the top alleles will be used; see the --max_alternate_alleles argument \r\n"
       ]
      },
      {
       "output_type": "stream",
       "stream": "stdout",
       "text": [
        "WARN  08:15:54,896 ExactAFCalculator - this tool is currently set to genotype at most 6 alternate alleles in a given context, but the context at Pf3D7_11_v3:456410 has 8 alternate alleles so only the top alleles will be used; see the --max_alternate_alleles argument \r\n"
       ]
      },
      {
       "output_type": "stream",
       "stream": "stdout",
       "text": [
        "WARN  08:15:55,046 ExactAFCalculator - this tool is currently set to genotype at most 6 alternate alleles in a given context, but the context at Pf3D7_11_v3:488142 has 9 alternate alleles so only the top alleles will be used; see the --max_alternate_alleles argument \r\n"
       ]
      },
      {
       "output_type": "stream",
       "stream": "stdout",
       "text": [
        "WARN  08:15:55,078 ExactAFCalculator - this tool is currently set to genotype at most 6 alternate alleles in a given context, but the context at Pf3D7_11_v3:496229 has 7 alternate alleles so only the top alleles will be used; see the --max_alternate_alleles argument \r\n"
       ]
      },
      {
       "output_type": "stream",
       "stream": "stdout",
       "text": [
        "WARN  08:15:55,174 ExactAFCalculator - this tool is currently set to genotype at most 6 alternate alleles in a given context, but the context at Pf3D7_11_v3:524231 has 7 alternate alleles so only the top alleles will be used; see the --max_alternate_alleles argument \r\n"
       ]
      },
      {
       "output_type": "stream",
       "stream": "stdout",
       "text": [
        "WARN  08:15:55,249 ExactAFCalculator - this tool is currently set to genotype at most 6 alternate alleles in a given context, but the context at Pf3D7_11_v3:544268 has 10 alternate alleles so only the top alleles will be used; see the --max_alternate_alleles argument \r\n",
        "WARN  08:15:55,267 ExactAFCalculator - this tool is currently set to genotype at most 6 alternate alleles in a given context, but the context at Pf3D7_11_v3:547239 has 8 alternate alleles so only the top alleles will be used; see the --max_alternate_alleles argument \r\n"
       ]
      },
      {
       "output_type": "stream",
       "stream": "stdout",
       "text": [
        "WARN  08:15:55,296 ExactAFCalculator - this tool is currently set to genotype at most 6 alternate alleles in a given context, but the context at Pf3D7_11_v3:556234 has 8 alternate alleles so only the top alleles will be used; see the --max_alternate_alleles argument \r\n",
        "WARN  08:15:55,304 ExactAFCalculator - this tool is currently set to genotype at most 6 alternate alleles in a given context, but the context at Pf3D7_11_v3:559390 has 9 alternate alleles so only the top alleles will be used; see the --max_alternate_alleles argument \r\n"
       ]
      },
      {
       "output_type": "stream",
       "stream": "stdout",
       "text": [
        "WARN  08:15:55,328 ExactAFCalculator - this tool is currently set to genotype at most 6 alternate alleles in a given context, but the context at Pf3D7_11_v3:569746 has 10 alternate alleles so only the top alleles will be used; see the --max_alternate_alleles argument \r\n",
        "WARN  08:15:55,331 ExactAFCalculator - this tool is currently set to genotype at most 6 alternate alleles in a given context, but the context at Pf3D7_11_v3:570780 has 8 alternate alleles so only the top alleles will be used; see the --max_alternate_alleles argument \r\n",
        "WARN  08:15:55,333 ExactAFCalculator - this tool is currently set to genotype at most 6 alternate alleles in a given context, but the context at Pf3D7_11_v3:570947 has 8 alternate alleles so only the top alleles will be used; see the --max_alternate_alleles argument \r\n",
        "WARN  08:15:55,338 ExactAFCalculator - this tool is currently set to genotype at most 6 alternate alleles in a given context, but the context at Pf3D7_11_v3:571741 has 7 alternate alleles so only the top alleles will be used; see the --max_alternate_alleles argument \r\n"
       ]
      },
      {
       "output_type": "stream",
       "stream": "stdout",
       "text": [
        "WARN  08:15:55,401 ExactAFCalculator - this tool is currently set to genotype at most 6 alternate alleles in a given context, but the context at Pf3D7_11_v3:587983 has 7 alternate alleles so only the top alleles will be used; see the --max_alternate_alleles argument \r\n",
        "WARN  08:15:55,404 ExactAFCalculator - this tool is currently set to genotype at most 6 alternate alleles in a given context, but the context at Pf3D7_11_v3:588647 has 8 alternate alleles so only the top alleles will be used; see the --max_alternate_alleles argument \r\n",
        "WARN  08:15:55,411 ExactAFCalculator - this tool is currently set to genotype at most 6 alternate alleles in a given context, but the context at Pf3D7_11_v3:590514 has 8 alternate alleles so only the top alleles will be used; see the --max_alternate_alleles argument \r\n"
       ]
      },
      {
       "output_type": "stream",
       "stream": "stdout",
       "text": [
        "WARN  08:15:55,472 ExactAFCalculator - this tool is currently set to genotype at most 6 alternate alleles in a given context, but the context at Pf3D7_11_v3:601696 has 9 alternate alleles so only the top alleles will be used; see the --max_alternate_alleles argument \r\n"
       ]
      },
      {
       "output_type": "stream",
       "stream": "stdout",
       "text": [
        "WARN  08:15:55,525 ExactAFCalculator - this tool is currently set to genotype at most 6 alternate alleles in a given context, but the context at Pf3D7_11_v3:616787 has 8 alternate alleles so only the top alleles will be used; see the --max_alternate_alleles argument \r\n"
       ]
      },
      {
       "output_type": "stream",
       "stream": "stdout",
       "text": [
        "WARN  08:15:55,578 ExactAFCalculator - this tool is currently set to genotype at most 6 alternate alleles in a given context, but the context at Pf3D7_11_v3:629580 has 7 alternate alleles so only the top alleles will be used; see the --max_alternate_alleles argument \r\n"
       ]
      },
      {
       "output_type": "stream",
       "stream": "stdout",
       "text": [
        "WARN  08:15:55,611 ExactAFCalculator - this tool is currently set to genotype at most 6 alternate alleles in a given context, but the context at Pf3D7_11_v3:635068 has 9 alternate alleles so only the top alleles will be used; see the --max_alternate_alleles argument \r\n"
       ]
      },
      {
       "output_type": "stream",
       "stream": "stdout",
       "text": [
        "WARN  08:15:55,661 ExactAFCalculator - this tool is currently set to genotype at most 6 alternate alleles in a given context, but the context at Pf3D7_11_v3:644942 has 10 alternate alleles so only the top alleles will be used; see the --max_alternate_alleles argument \r\n",
        "WARN  08:15:55,670 ExactAFCalculator - this tool is currently set to genotype at most 6 alternate alleles in a given context, but the context at Pf3D7_11_v3:647132 has 9 alternate alleles so only the top alleles will be used; see the --max_alternate_alleles argument \r\n"
       ]
      },
      {
       "output_type": "stream",
       "stream": "stdout",
       "text": [
        "WARN  08:15:55,758 ExactAFCalculator - this tool is currently set to genotype at most 6 alternate alleles in a given context, but the context at Pf3D7_11_v3:671331 has 8 alternate alleles so only the top alleles will be used; see the --max_alternate_alleles argument \r\n",
        "WARN  08:15:55,777 ExactAFCalculator - this tool is currently set to genotype at most 6 alternate alleles in a given context, but the context at Pf3D7_11_v3:674218 has 7 alternate alleles so only the top alleles will be used; see the --max_alternate_alleles argument \r\n"
       ]
      },
      {
       "output_type": "stream",
       "stream": "stdout",
       "text": [
        "WARN  08:15:55,912 ExactAFCalculator - this tool is currently set to genotype at most 6 alternate alleles in a given context, but the context at Pf3D7_11_v3:711129 has 9 alternate alleles so only the top alleles will be used; see the --max_alternate_alleles argument \r\n",
        "WARN  08:15:55,924 ExactAFCalculator - this tool is currently set to genotype at most 6 alternate alleles in a given context, but the context at Pf3D7_11_v3:713116 has 7 alternate alleles so only the top alleles will be used; see the --max_alternate_alleles argument \r\n",
        "WARN  08:15:55,926 ExactAFCalculator - this tool is currently set to genotype at most 6 alternate alleles in a given context, but the context at Pf3D7_11_v3:713316 has 7 alternate alleles so only the top alleles will be used; see the --max_alternate_alleles argument \r\n",
        "WARN  08:15:55,934 ExactAFCalculator - this tool is currently set to genotype at most 6 alternate alleles in a given context, but the context at Pf3D7_11_v3:715399 has 8 alternate alleles so only the top alleles will be used; see the --max_alternate_alleles argument \r\n",
        "WARN  08:15:55,947 ExactAFCalculator - this tool is currently set to genotype at most 6 alternate alleles in a given context, but the context at Pf3D7_11_v3:718216 has 7 alternate alleles so only the top alleles will be used; see the --max_alternate_alleles argument \r\n",
        "WARN  08:15:55,962 ExactAFCalculator - this tool is currently set to genotype at most 6 alternate alleles in a given context, but the context at Pf3D7_11_v3:721613 has 8 alternate alleles so only the top alleles will be used; see the --max_alternate_alleles argument \r\n"
       ]
      },
      {
       "output_type": "stream",
       "stream": "stdout",
       "text": [
        "WARN  08:15:56,126 ExactAFCalculator - this tool is currently set to genotype at most 6 alternate alleles in a given context, but the context at Pf3D7_11_v3:759215 has 10 alternate alleles so only the top alleles will be used; see the --max_alternate_alleles argument \r\n",
        "WARN  08:15:56,143 ExactAFCalculator - this tool is currently set to genotype at most 6 alternate alleles in a given context, but the context at Pf3D7_11_v3:762138 has 8 alternate alleles so only the top alleles will be used; see the --max_alternate_alleles argument \r\n"
       ]
      },
      {
       "output_type": "stream",
       "stream": "stdout",
       "text": [
        "WARN  08:15:56,247 ExactAFCalculator - this tool is currently set to genotype at most 6 alternate alleles in a given context, but the context at Pf3D7_11_v3:793037 has 8 alternate alleles so only the top alleles will be used; see the --max_alternate_alleles argument \r\n",
        "WARN  08:15:56,253 ExactAFCalculator - this tool is currently set to genotype at most 6 alternate alleles in a given context, but the context at Pf3D7_11_v3:794180 has 7 alternate alleles so only the top alleles will be used; see the --max_alternate_alleles argument \r\n",
        "WARN  08:15:56,261 ExactAFCalculator - this tool is currently set to genotype at most 6 alternate alleles in a given context, but the context at Pf3D7_11_v3:798902 has 11 alternate alleles so only the top alleles will be used; see the --max_alternate_alleles argument \r\n"
       ]
      },
      {
       "output_type": "stream",
       "stream": "stdout",
       "text": [
        "WARN  08:15:56,280 ExactAFCalculator - this tool is currently set to genotype at most 6 alternate alleles in a given context, but the context at Pf3D7_11_v3:805654 has 10 alternate alleles so only the top alleles will be used; see the --max_alternate_alleles argument \r\n",
        "WARN  08:15:56,300 ExactAFCalculator - this tool is currently set to genotype at most 6 alternate alleles in a given context, but the context at Pf3D7_11_v3:810126 has 7 alternate alleles so only the top alleles will be used; see the --max_alternate_alleles argument \r\n",
        "WARN  08:15:56,315 ExactAFCalculator - this tool is currently set to genotype at most 6 alternate alleles in a given context, but the context at Pf3D7_11_v3:814375 has 7 alternate alleles so only the top alleles will be used; see the --max_alternate_alleles argument \r\n",
        "WARN  08:15:56,319 ExactAFCalculator - this tool is currently set to genotype at most 6 alternate alleles in a given context, but the context at Pf3D7_11_v3:814872 has 8 alternate alleles so only the top alleles will be used; see the --max_alternate_alleles argument \r\n"
       ]
      },
      {
       "output_type": "stream",
       "stream": "stdout",
       "text": [
        "WARN  08:15:56,376 ExactAFCalculator - this tool is currently set to genotype at most 6 alternate alleles in a given context, but the context at Pf3D7_11_v3:835817 has 7 alternate alleles so only the top alleles will be used; see the --max_alternate_alleles argument \r\n"
       ]
      },
      {
       "output_type": "stream",
       "stream": "stdout",
       "text": [
        "WARN  08:15:56,395 ExactAFCalculator - this tool is currently set to genotype at most 6 alternate alleles in a given context, but the context at Pf3D7_11_v3:845047 has 9 alternate alleles so only the top alleles will be used; see the --max_alternate_alleles argument \r\n",
        "WARN  08:15:56,398 ExactAFCalculator - this tool is currently set to genotype at most 6 alternate alleles in a given context, but the context at Pf3D7_11_v3:845448 has 8 alternate alleles so only the top alleles will be used; see the --max_alternate_alleles argument \r\n",
        "WARN  08:15:56,420 ExactAFCalculator - this tool is currently set to genotype at most 6 alternate alleles in a given context, but the context at Pf3D7_11_v3:851607 has 8 alternate alleles so only the top alleles will be used; see the --max_alternate_alleles argument \r\n"
       ]
      },
      {
       "output_type": "stream",
       "stream": "stdout",
       "text": [
        "WARN  08:15:56,447 ExactAFCalculator - this tool is currently set to genotype at most 6 alternate alleles in a given context, but the context at Pf3D7_11_v3:861244 has 9 alternate alleles so only the top alleles will be used; see the --max_alternate_alleles argument \r\n",
        "WARN  08:15:56,449 ExactAFCalculator - this tool is currently set to genotype at most 6 alternate alleles in a given context, but the context at Pf3D7_11_v3:862047 has 8 alternate alleles so only the top alleles will be used; see the --max_alternate_alleles argument \r\n",
        "WARN  08:15:56,451 ExactAFCalculator - this tool is currently set to genotype at most 6 alternate alleles in a given context, but the context at Pf3D7_11_v3:862335 has 8 alternate alleles so only the top alleles will be used; see the --max_alternate_alleles argument \r\n",
        "WARN  08:15:56,481 ExactAFCalculator - this tool is currently set to genotype at most 6 alternate alleles in a given context, but the context at Pf3D7_11_v3:871267 has 8 alternate alleles so only the top alleles will be used; see the --max_alternate_alleles argument \r\n"
       ]
      },
      {
       "output_type": "stream",
       "stream": "stdout",
       "text": [
        "WARN  08:15:56,483 ExactAFCalculator - this tool is currently set to genotype at most 6 alternate alleles in a given context, but the context at Pf3D7_11_v3:871949 has 7 alternate alleles so only the top alleles will be used; see the --max_alternate_alleles argument \r\n",
        "WARN  08:15:56,521 ExactAFCalculator - this tool is currently set to genotype at most 6 alternate alleles in a given context, but the context at Pf3D7_11_v3:895422 has 9 alternate alleles so only the top alleles will be used; see the --max_alternate_alleles argument \r\n"
       ]
      },
      {
       "output_type": "stream",
       "stream": "stdout",
       "text": [
        "WARN  08:15:56,548 ExactAFCalculator - this tool is currently set to genotype at most 6 alternate alleles in a given context, but the context at Pf3D7_11_v3:905192 has 7 alternate alleles so only the top alleles will be used; see the --max_alternate_alleles argument \r\n",
        "WARN  08:15:56,574 ExactAFCalculator - this tool is currently set to genotype at most 6 alternate alleles in a given context, but the context at Pf3D7_11_v3:909239 has 8 alternate alleles so only the top alleles will be used; see the --max_alternate_alleles argument \r\n"
       ]
      },
      {
       "output_type": "stream",
       "stream": "stdout",
       "text": [
        "WARN  08:15:56,598 ExactAFCalculator - this tool is currently set to genotype at most 6 alternate alleles in a given context, but the context at Pf3D7_11_v3:918203 has 8 alternate alleles so only the top alleles will be used; see the --max_alternate_alleles argument \r\n",
        "WARN  08:15:56,604 ExactAFCalculator - this tool is currently set to genotype at most 6 alternate alleles in a given context, but the context at Pf3D7_11_v3:920950 has 7 alternate alleles so only the top alleles will be used; see the --max_alternate_alleles argument \r\n"
       ]
      },
      {
       "output_type": "stream",
       "stream": "stdout",
       "text": [
        "WARN  08:15:56,663 ExactAFCalculator - this tool is currently set to genotype at most 6 alternate alleles in a given context, but the context at Pf3D7_11_v3:935551 has 7 alternate alleles so only the top alleles will be used; see the --max_alternate_alleles argument \r\n",
        "WARN  08:15:56,681 ExactAFCalculator - this tool is currently set to genotype at most 6 alternate alleles in a given context, but the context at Pf3D7_11_v3:940445 has 7 alternate alleles so only the top alleles will be used; see the --max_alternate_alleles argument \r\n"
       ]
      },
      {
       "output_type": "stream",
       "stream": "stdout",
       "text": [
        "WARN  08:15:56,752 ExactAFCalculator - this tool is currently set to genotype at most 6 alternate alleles in a given context, but the context at Pf3D7_11_v3:958873 has 7 alternate alleles so only the top alleles will be used; see the --max_alternate_alleles argument \r\n",
        "WARN  08:15:56,772 ExactAFCalculator - this tool is currently set to genotype at most 6 alternate alleles in a given context, but the context at Pf3D7_11_v3:961591 has 7 alternate alleles so only the top alleles will be used; see the --max_alternate_alleles argument \r\n",
        "WARN  08:15:56,786 ExactAFCalculator - this tool is currently set to genotype at most 6 alternate alleles in a given context, but the context at Pf3D7_11_v3:964620 has 7 alternate alleles so only the top alleles will be used; see the --max_alternate_alleles argument \r\n"
       ]
      },
      {
       "output_type": "stream",
       "stream": "stdout",
       "text": [
        "WARN  08:15:56,805 ExactAFCalculator - this tool is currently set to genotype at most 6 alternate alleles in a given context, but the context at Pf3D7_11_v3:969254 has 7 alternate alleles so only the top alleles will be used; see the --max_alternate_alleles argument \r\n"
       ]
      },
      {
       "output_type": "stream",
       "stream": "stdout",
       "text": [
        "WARN  08:15:56,881 ExactAFCalculator - this tool is currently set to genotype at most 6 alternate alleles in a given context, but the context at Pf3D7_11_v3:982385 has 8 alternate alleles so only the top alleles will be used; see the --max_alternate_alleles argument \r\n"
       ]
      },
      {
       "output_type": "stream",
       "stream": "stdout",
       "text": [
        "WARN  08:15:56,896 ExactAFCalculator - this tool is currently set to genotype at most 6 alternate alleles in a given context, but the context at Pf3D7_11_v3:984712 has 7 alternate alleles so only the top alleles will be used; see the --max_alternate_alleles argument \r\n"
       ]
      },
      {
       "output_type": "stream",
       "stream": "stdout",
       "text": [
        "WARN  08:15:57,062 ExactAFCalculator - this tool is currently set to genotype at most 6 alternate alleles in a given context, but the context at Pf3D7_11_v3:1006960 has 7 alternate alleles so only the top alleles will be used; see the --max_alternate_alleles argument \r\n",
        "WARN  08:15:57,086 ExactAFCalculator - this tool is currently set to genotype at most 6 alternate alleles in a given context, but the context at Pf3D7_11_v3:1010904 has 8 alternate alleles so only the top alleles will be used; see the --max_alternate_alleles argument \r\n"
       ]
      },
      {
       "output_type": "stream",
       "stream": "stdout",
       "text": [
        "WARN  08:15:57,148 ExactAFCalculator - this tool is currently set to genotype at most 6 alternate alleles in a given context, but the context at Pf3D7_11_v3:1024226 has 7 alternate alleles so only the top alleles will be used; see the --max_alternate_alleles argument \r\n"
       ]
      },
      {
       "output_type": "stream",
       "stream": "stdout",
       "text": [
        "WARN  08:15:57,167 ExactAFCalculator - this tool is currently set to genotype at most 6 alternate alleles in a given context, but the context at Pf3D7_11_v3:1026818 has 7 alternate alleles so only the top alleles will be used; see the --max_alternate_alleles argument \r\n",
        "WARN  08:15:57,187 ExactAFCalculator - this tool is currently set to genotype at most 6 alternate alleles in a given context, but the context at Pf3D7_11_v3:1031504 has 7 alternate alleles so only the top alleles will be used; see the --max_alternate_alleles argument \r\n"
       ]
      },
      {
       "output_type": "stream",
       "stream": "stdout",
       "text": [
        "WARN  08:15:57,222 ExactAFCalculator - this tool is currently set to genotype at most 6 alternate alleles in a given context, but the context at Pf3D7_11_v3:1040411 has 7 alternate alleles so only the top alleles will be used; see the --max_alternate_alleles argument \r\n",
        "WARN  08:15:57,226 ExactAFCalculator - this tool is currently set to genotype at most 6 alternate alleles in a given context, but the context at Pf3D7_11_v3:1042225 has 7 alternate alleles so only the top alleles will be used; see the --max_alternate_alleles argument \r\n",
        "WARN  08:15:57,248 ExactAFCalculator - this tool is currently set to genotype at most 6 alternate alleles in a given context, but the context at Pf3D7_11_v3:1045674 has 8 alternate alleles so only the top alleles will be used; see the --max_alternate_alleles argument \r\n"
       ]
      },
      {
       "output_type": "stream",
       "stream": "stdout",
       "text": [
        "WARN  08:15:57,266 ExactAFCalculator - this tool is currently set to genotype at most 6 alternate alleles in a given context, but the context at Pf3D7_11_v3:1048733 has 8 alternate alleles so only the top alleles will be used; see the --max_alternate_alleles argument \r\n",
        "WARN  08:15:57,274 ExactAFCalculator - this tool is currently set to genotype at most 6 alternate alleles in a given context, but the context at Pf3D7_11_v3:1049703 has 7 alternate alleles so only the top alleles will be used; see the --max_alternate_alleles argument \r\n",
        "WARN  08:15:57,284 ExactAFCalculator - this tool is currently set to genotype at most 6 alternate alleles in a given context, but the context at Pf3D7_11_v3:1053541 has 8 alternate alleles so only the top alleles will be used; see the --max_alternate_alleles argument \r\n",
        "WARN  08:15:57,307 ExactAFCalculator - this tool is currently set to genotype at most 6 alternate alleles in a given context, but the context at Pf3D7_11_v3:1057316 has 7 alternate alleles so only the top alleles will be used; see the --max_alternate_alleles argument \r\n"
       ]
      },
      {
       "output_type": "stream",
       "stream": "stdout",
       "text": [
        "WARN  08:15:57,330 ExactAFCalculator - this tool is currently set to genotype at most 6 alternate alleles in a given context, but the context at Pf3D7_11_v3:1062253 has 8 alternate alleles so only the top alleles will be used; see the --max_alternate_alleles argument \r\n",
        "WARN  08:15:57,334 ExactAFCalculator - this tool is currently set to genotype at most 6 alternate alleles in a given context, but the context at Pf3D7_11_v3:1062831 has 7 alternate alleles so only the top alleles will be used; see the --max_alternate_alleles argument \r\n"
       ]
      },
      {
       "output_type": "stream",
       "stream": "stdout",
       "text": [
        "WARN  08:15:57,364 ExactAFCalculator - this tool is currently set to genotype at most 6 alternate alleles in a given context, but the context at Pf3D7_11_v3:1069827 has 10 alternate alleles so only the top alleles will be used; see the --max_alternate_alleles argument \r\n",
        "WARN  08:15:57,381 ExactAFCalculator - this tool is currently set to genotype at most 6 alternate alleles in a given context, but the context at Pf3D7_11_v3:1072550 has 7 alternate alleles so only the top alleles will be used; see the --max_alternate_alleles argument \r\n",
        "WARN  08:15:57,387 ExactAFCalculator - this tool is currently set to genotype at most 6 alternate alleles in a given context, but the context at Pf3D7_11_v3:1073679 has 8 alternate alleles so only the top alleles will be used; see the --max_alternate_alleles argument \r\n",
        "WARN  08:15:57,396 ExactAFCalculator - this tool is currently set to genotype at most 6 alternate alleles in a given context, but the context at Pf3D7_11_v3:1076567 has 7 alternate alleles so only the top alleles will be used; see the --max_alternate_alleles argument \r\n",
        "WARN  08:15:57,401 ExactAFCalculator - this tool is currently set to genotype at most 6 alternate alleles in a given context, but the context at Pf3D7_11_v3:1077232 has 7 alternate alleles so only the top alleles will be used; see the --max_alternate_alleles argument \r\n"
       ]
      },
      {
       "output_type": "stream",
       "stream": "stdout",
       "text": [
        "WARN  08:15:57,462 ExactAFCalculator - this tool is currently set to genotype at most 6 alternate alleles in a given context, but the context at Pf3D7_11_v3:1096398 has 7 alternate alleles so only the top alleles will be used; see the --max_alternate_alleles argument \r\n"
       ]
      },
      {
       "output_type": "stream",
       "stream": "stdout",
       "text": [
        "WARN  08:15:57,473 ExactAFCalculator - this tool is currently set to genotype at most 6 alternate alleles in a given context, but the context at Pf3D7_11_v3:1098264 has 7 alternate alleles so only the top alleles will be used; see the --max_alternate_alleles argument \r\n",
        "WARN  08:15:57,473 ExactAFCalculator - this tool is currently set to genotype at most 6 alternate alleles in a given context, but the context at Pf3D7_11_v3:1098294 has 12 alternate alleles so only the top alleles will be used; see the --max_alternate_alleles argument \r\n",
        "WARN  08:15:57,492 ExactAFCalculator - this tool is currently set to genotype at most 6 alternate alleles in a given context, but the context at Pf3D7_11_v3:1105124 has 8 alternate alleles so only the top alleles will be used; see the --max_alternate_alleles argument \r\n",
        "WARN  08:15:57,497 ExactAFCalculator - this tool is currently set to genotype at most 6 alternate alleles in a given context, but the context at Pf3D7_11_v3:1106143 has 10 alternate alleles so only the top alleles will be used; see the --max_alternate_alleles argument \r\n"
       ]
      },
      {
       "output_type": "stream",
       "stream": "stdout",
       "text": [
        "WARN  08:15:57,603 ExactAFCalculator - this tool is currently set to genotype at most 6 alternate alleles in a given context, but the context at Pf3D7_11_v3:1129858 has 7 alternate alleles so only the top alleles will be used; see the --max_alternate_alleles argument \r\n",
        "WARN  08:15:57,605 ExactAFCalculator - this tool is currently set to genotype at most 6 alternate alleles in a given context, but the context at Pf3D7_11_v3:1129889 has 9 alternate alleles so only the top alleles will be used; see the --max_alternate_alleles argument \r\n",
        "WARN  08:15:57,606 ExactAFCalculator - this tool is currently set to genotype at most 6 alternate alleles in a given context, but the context at Pf3D7_11_v3:1129913 has 7 alternate alleles so only the top alleles will be used; see the --max_alternate_alleles argument \r\n"
       ]
      },
      {
       "output_type": "stream",
       "stream": "stdout",
       "text": [
        "WARN  08:15:57,645 ExactAFCalculator - this tool is currently set to genotype at most 6 alternate alleles in a given context, but the context at Pf3D7_11_v3:1143059 has 11 alternate alleles so only the top alleles will be used; see the --max_alternate_alleles argument \r\n"
       ]
      },
      {
       "output_type": "stream",
       "stream": "stdout",
       "text": [
        "WARN  08:15:57,708 ExactAFCalculator - this tool is currently set to genotype at most 6 alternate alleles in a given context, but the context at Pf3D7_11_v3:1159215 has 11 alternate alleles so only the top alleles will be used; see the --max_alternate_alleles argument \r\n",
        "WARN  08:15:57,709 ExactAFCalculator - this tool is currently set to genotype at most 6 alternate alleles in a given context, but the context at Pf3D7_11_v3:1159244 has 8 alternate alleles so only the top alleles will be used; see the --max_alternate_alleles argument \r\n"
       ]
      },
      {
       "output_type": "stream",
       "stream": "stdout",
       "text": [
        "WARN  08:15:57,883 ExactAFCalculator - this tool is currently set to genotype at most 6 alternate alleles in a given context, but the context at Pf3D7_11_v3:1203643 has 8 alternate alleles so only the top alleles will be used; see the --max_alternate_alleles argument \r\n"
       ]
      },
      {
       "output_type": "stream",
       "stream": "stdout",
       "text": [
        "WARN  08:15:57,915 ExactAFCalculator - this tool is currently set to genotype at most 6 alternate alleles in a given context, but the context at Pf3D7_11_v3:1213352 has 8 alternate alleles so only the top alleles will be used; see the --max_alternate_alleles argument \r\n"
       ]
      },
      {
       "output_type": "stream",
       "stream": "stdout",
       "text": [
        "WARN  08:15:57,952 ExactAFCalculator - this tool is currently set to genotype at most 6 alternate alleles in a given context, but the context at Pf3D7_11_v3:1225981 has 11 alternate alleles so only the top alleles will be used; see the --max_alternate_alleles argument \r\n"
       ]
      },
      {
       "output_type": "stream",
       "stream": "stdout",
       "text": [
        "WARN  08:15:58,019 ExactAFCalculator - this tool is currently set to genotype at most 6 alternate alleles in a given context, but the context at Pf3D7_11_v3:1246870 has 7 alternate alleles so only the top alleles will be used; see the --max_alternate_alleles argument \r\n",
        "WARN  08:15:58,022 ExactAFCalculator - this tool is currently set to genotype at most 6 alternate alleles in a given context, but the context at Pf3D7_11_v3:1247157 has 8 alternate alleles so only the top alleles will be used; see the --max_alternate_alleles argument \r\n"
       ]
      },
      {
       "output_type": "stream",
       "stream": "stdout",
       "text": [
        "WARN  08:15:58,045 ExactAFCalculator - this tool is currently set to genotype at most 6 alternate alleles in a given context, but the context at Pf3D7_11_v3:1252449 has 7 alternate alleles so only the top alleles will be used; see the --max_alternate_alleles argument \r\n"
       ]
      },
      {
       "output_type": "stream",
       "stream": "stdout",
       "text": [
        "WARN  08:15:58,095 ExactAFCalculator - this tool is currently set to genotype at most 6 alternate alleles in a given context, but the context at Pf3D7_11_v3:1269541 has 12 alternate alleles so only the top alleles will be used; see the --max_alternate_alleles argument \r\n",
        "WARN  08:15:58,106 ExactAFCalculator - this tool is currently set to genotype at most 6 alternate alleles in a given context, but the context at Pf3D7_11_v3:1272029 has 7 alternate alleles so only the top alleles will be used; see the --max_alternate_alleles argument \r\n",
        "WARN  08:15:58,119 ExactAFCalculator - this tool is currently set to genotype at most 6 alternate alleles in a given context, but the context at Pf3D7_11_v3:1276048 has 7 alternate alleles so only the top alleles will be used; see the --max_alternate_alleles argument \r\n",
        "WARN  08:15:58,131 ExactAFCalculator - this tool is currently set to genotype at most 6 alternate alleles in a given context, but the context at Pf3D7_11_v3:1280404 has 9 alternate alleles so only the top alleles will be used; see the --max_alternate_alleles argument \r\n"
       ]
      },
      {
       "output_type": "stream",
       "stream": "stdout",
       "text": [
        "WARN  08:15:58,165 ExactAFCalculator - this tool is currently set to genotype at most 6 alternate alleles in a given context, but the context at Pf3D7_11_v3:1292203 has 7 alternate alleles so only the top alleles will be used; see the --max_alternate_alleles argument \r\n",
        "WARN  08:15:58,188 ExactAFCalculator - this tool is currently set to genotype at most 6 alternate alleles in a given context, but the context at Pf3D7_11_v3:1297686 has 8 alternate alleles so only the top alleles will be used; see the --max_alternate_alleles argument \r\n"
       ]
      },
      {
       "output_type": "stream",
       "stream": "stdout",
       "text": [
        "WARN  08:15:58,238 ExactAFCalculator - this tool is currently set to genotype at most 6 alternate alleles in a given context, but the context at Pf3D7_11_v3:1313711 has 9 alternate alleles so only the top alleles will be used; see the --max_alternate_alleles argument \r\n"
       ]
      },
      {
       "output_type": "stream",
       "stream": "stdout",
       "text": [
        "WARN  08:15:58,383 ExactAFCalculator - this tool is currently set to genotype at most 6 alternate alleles in a given context, but the context at Pf3D7_11_v3:1372197 has 7 alternate alleles so only the top alleles will be used; see the --max_alternate_alleles argument \r\n"
       ]
      },
      {
       "output_type": "stream",
       "stream": "stdout",
       "text": [
        "WARN  08:15:58,462 ExactAFCalculator - this tool is currently set to genotype at most 6 alternate alleles in a given context, but the context at Pf3D7_11_v3:1388505 has 7 alternate alleles so only the top alleles will be used; see the --max_alternate_alleles argument \r\n",
        "WARN  08:15:58,499 ExactAFCalculator - this tool is currently set to genotype at most 6 alternate alleles in a given context, but the context at Pf3D7_11_v3:1399479 has 8 alternate alleles so only the top alleles will be used; see the --max_alternate_alleles argument \r\n"
       ]
      },
      {
       "output_type": "stream",
       "stream": "stdout",
       "text": [
        "WARN  08:15:58,598 ExactAFCalculator - this tool is currently set to genotype at most 6 alternate alleles in a given context, but the context at Pf3D7_11_v3:1431127 has 7 alternate alleles so only the top alleles will be used; see the --max_alternate_alleles argument \r\n",
        "WARN  08:15:58,615 ExactAFCalculator - this tool is currently set to genotype at most 6 alternate alleles in a given context, but the context at Pf3D7_11_v3:1435022 has 8 alternate alleles so only the top alleles will be used; see the --max_alternate_alleles argument \r\n",
        "WARN  08:15:58,617 ExactAFCalculator - this tool is currently set to genotype at most 6 alternate alleles in a given context, but the context at Pf3D7_11_v3:1435221 has 7 alternate alleles so only the top alleles will be used; see the --max_alternate_alleles argument \r\n"
       ]
      },
      {
       "output_type": "stream",
       "stream": "stdout",
       "text": [
        "WARN  08:15:58,665 ExactAFCalculator - this tool is currently set to genotype at most 6 alternate alleles in a given context, but the context at Pf3D7_11_v3:1449059 has 8 alternate alleles so only the top alleles will be used; see the --max_alternate_alleles argument \r\n",
        "WARN  08:15:58,665 ExactAFCalculator - this tool is currently set to genotype at most 6 alternate alleles in a given context, but the context at Pf3D7_11_v3:1449078 has 8 alternate alleles so only the top alleles will be used; see the --max_alternate_alleles argument \r\n"
       ]
      },
      {
       "output_type": "stream",
       "stream": "stdout",
       "text": [
        "WARN  08:15:58,686 ExactAFCalculator - this tool is currently set to genotype at most 6 alternate alleles in a given context, but the context at Pf3D7_11_v3:1453799 has 9 alternate alleles so only the top alleles will be used; see the --max_alternate_alleles argument \r\n",
        "WARN  08:15:58,704 ExactAFCalculator - this tool is currently set to genotype at most 6 alternate alleles in a given context, but the context at Pf3D7_11_v3:1460519 has 8 alternate alleles so only the top alleles will be used; see the --max_alternate_alleles argument \r\n"
       ]
      },
      {
       "output_type": "stream",
       "stream": "stdout",
       "text": [
        "WARN  08:15:58,727 ExactAFCalculator - this tool is currently set to genotype at most 6 alternate alleles in a given context, but the context at Pf3D7_11_v3:1466135 has 7 alternate alleles so only the top alleles will be used; see the --max_alternate_alleles argument \r\n",
        "WARN  08:15:58,756 ExactAFCalculator - this tool is currently set to genotype at most 6 alternate alleles in a given context, but the context at Pf3D7_11_v3:1473660 has 8 alternate alleles so only the top alleles will be used; see the --max_alternate_alleles argument \r\n",
        "WARN  08:15:58,765 ExactAFCalculator - this tool is currently set to genotype at most 6 alternate alleles in a given context, but the context at Pf3D7_11_v3:1476463 has 9 alternate alleles so only the top alleles will be used; see the --max_alternate_alleles argument \r\n",
        "WARN  08:15:58,769 ExactAFCalculator - this tool is currently set to genotype at most 6 alternate alleles in a given context, but the context at Pf3D7_11_v3:1477072 has 7 alternate alleles so only the top alleles will be used; see the --max_alternate_alleles argument \r\n"
       ]
      },
      {
       "output_type": "stream",
       "stream": "stdout",
       "text": [
        "WARN  08:15:58,787 ExactAFCalculator - this tool is currently set to genotype at most 6 alternate alleles in a given context, but the context at Pf3D7_11_v3:1483093 has 9 alternate alleles so only the top alleles will be used; see the --max_alternate_alleles argument \r\n",
        "WARN  08:15:58,791 ExactAFCalculator - this tool is currently set to genotype at most 6 alternate alleles in a given context, but the context at Pf3D7_11_v3:1485411 has 8 alternate alleles so only the top alleles will be used; see the --max_alternate_alleles argument \r\n"
       ]
      },
      {
       "output_type": "stream",
       "stream": "stdout",
       "text": [
        "WARN  08:15:58,887 ExactAFCalculator - this tool is currently set to genotype at most 6 alternate alleles in a given context, but the context at Pf3D7_11_v3:1524929 has 7 alternate alleles so only the top alleles will be used; see the --max_alternate_alleles argument \r\n",
        "WARN  08:15:58,912 ExactAFCalculator - this tool is currently set to genotype at most 6 alternate alleles in a given context, but the context at Pf3D7_11_v3:1535178 has 7 alternate alleles so only the top alleles will be used; see the --max_alternate_alleles argument \r\n"
       ]
      },
      {
       "output_type": "stream",
       "stream": "stdout",
       "text": [
        "WARN  08:15:58,928 ExactAFCalculator - this tool is currently set to genotype at most 6 alternate alleles in a given context, but the context at Pf3D7_11_v3:1541365 has 7 alternate alleles so only the top alleles will be used; see the --max_alternate_alleles argument \r\n",
        "WARN  08:15:58,935 ExactAFCalculator - this tool is currently set to genotype at most 6 alternate alleles in a given context, but the context at Pf3D7_11_v3:1542377 has 9 alternate alleles so only the top alleles will be used; see the --max_alternate_alleles argument \r\n",
        "WARN  08:15:58,941 ExactAFCalculator - this tool is currently set to genotype at most 6 alternate alleles in a given context, but the context at Pf3D7_11_v3:1544278 has 8 alternate alleles so only the top alleles will be used; see the --max_alternate_alleles argument \r\n",
        "WARN  08:15:58,951 ExactAFCalculator - this tool is currently set to genotype at most 6 alternate alleles in a given context, but the context at Pf3D7_11_v3:1547042 has 7 alternate alleles so only the top alleles will be used; see the --max_alternate_alleles argument \r\n",
        "WARN  08:15:58,978 ExactAFCalculator - this tool is currently set to genotype at most 6 alternate alleles in a given context, but the context at Pf3D7_11_v3:1556077 has 7 alternate alleles so only the top alleles will be used; see the --max_alternate_alleles argument \r\n"
       ]
      },
      {
       "output_type": "stream",
       "stream": "stdout",
       "text": [
        "WARN  08:15:58,983 ExactAFCalculator - this tool is currently set to genotype at most 6 alternate alleles in a given context, but the context at Pf3D7_11_v3:1557234 has 7 alternate alleles so only the top alleles will be used; see the --max_alternate_alleles argument \r\n"
       ]
      },
      {
       "output_type": "stream",
       "stream": "stdout",
       "text": [
        "WARN  08:15:59,080 ExactAFCalculator - this tool is currently set to genotype at most 6 alternate alleles in a given context, but the context at Pf3D7_11_v3:1579079 has 11 alternate alleles so only the top alleles will be used; see the --max_alternate_alleles argument \r\n"
       ]
      },
      {
       "output_type": "stream",
       "stream": "stdout",
       "text": [
        "WARN  08:15:59,134 ExactAFCalculator - this tool is currently set to genotype at most 6 alternate alleles in a given context, but the context at Pf3D7_11_v3:1598512 has 12 alternate alleles so only the top alleles will be used; see the --max_alternate_alleles argument \r\n"
       ]
      },
      {
       "output_type": "stream",
       "stream": "stdout",
       "text": [
        "WARN  08:15:59,196 ExactAFCalculator - this tool is currently set to genotype at most 6 alternate alleles in a given context, but the context at Pf3D7_11_v3:1615663 has 7 alternate alleles so only the top alleles will be used; see the --max_alternate_alleles argument \r\n",
        "WARN  08:15:59,213 ExactAFCalculator - this tool is currently set to genotype at most 6 alternate alleles in a given context, but the context at Pf3D7_11_v3:1622922 has 7 alternate alleles so only the top alleles will be used; see the --max_alternate_alleles argument \r\n",
        "WARN  08:15:59,236 ExactAFCalculator - this tool is currently set to genotype at most 6 alternate alleles in a given context, but the context at Pf3D7_11_v3:1631108 has 7 alternate alleles so only the top alleles will be used; see the --max_alternate_alleles argument \r\n"
       ]
      },
      {
       "output_type": "stream",
       "stream": "stdout",
       "text": [
        "WARN  08:15:59,270 ExactAFCalculator - this tool is currently set to genotype at most 6 alternate alleles in a given context, but the context at Pf3D7_11_v3:1641660 has 7 alternate alleles so only the top alleles will be used; see the --max_alternate_alleles argument \r\n",
        "WARN  08:15:59,291 ExactAFCalculator - this tool is currently set to genotype at most 6 alternate alleles in a given context, but the context at Pf3D7_11_v3:1647770 has 8 alternate alleles so only the top alleles will be used; see the --max_alternate_alleles argument \r\n"
       ]
      },
      {
       "output_type": "stream",
       "stream": "stdout",
       "text": [
        "WARN  08:15:59,313 ExactAFCalculator - this tool is currently set to genotype at most 6 alternate alleles in a given context, but the context at Pf3D7_11_v3:1657760 has 7 alternate alleles so only the top alleles will be used; see the --max_alternate_alleles argument \r\n",
        "WARN  08:15:59,326 ExactAFCalculator - this tool is currently set to genotype at most 6 alternate alleles in a given context, but the context at Pf3D7_11_v3:1662397 has 10 alternate alleles so only the top alleles will be used; see the --max_alternate_alleles argument \r\n",
        "WARN  08:15:59,338 ExactAFCalculator - this tool is currently set to genotype at most 6 alternate alleles in a given context, but the context at Pf3D7_11_v3:1665636 has 8 alternate alleles so only the top alleles will be used; see the --max_alternate_alleles argument \r\n"
       ]
      },
      {
       "output_type": "stream",
       "stream": "stdout",
       "text": [
        "WARN  08:15:59,344 ExactAFCalculator - this tool is currently set to genotype at most 6 alternate alleles in a given context, but the context at Pf3D7_11_v3:1666925 has 7 alternate alleles so only the top alleles will be used; see the --max_alternate_alleles argument \r\n",
        "WARN  08:15:59,372 ExactAFCalculator - this tool is currently set to genotype at most 6 alternate alleles in a given context, but the context at Pf3D7_11_v3:1673072 has 7 alternate alleles so only the top alleles will be used; see the --max_alternate_alleles argument \r\n"
       ]
      },
      {
       "output_type": "stream",
       "stream": "stdout",
       "text": [
        "WARN  08:15:59,452 ExactAFCalculator - this tool is currently set to genotype at most 6 alternate alleles in a given context, but the context at Pf3D7_11_v3:1701261 has 7 alternate alleles so only the top alleles will be used; see the --max_alternate_alleles argument \r\n",
        "WARN  08:15:59,482 ExactAFCalculator - this tool is currently set to genotype at most 6 alternate alleles in a given context, but the context at Pf3D7_11_v3:1706353 has 10 alternate alleles so only the top alleles will be used; see the --max_alternate_alleles argument \r\n",
        "WARN  08:15:59,492 ExactAFCalculator - this tool is currently set to genotype at most 6 alternate alleles in a given context, but the context at Pf3D7_11_v3:1707846 has 10 alternate alleles so only the top alleles will be used; see the --max_alternate_alleles argument \r\n"
       ]
      },
      {
       "output_type": "stream",
       "stream": "stdout",
       "text": [
        "WARN  08:15:59,533 ExactAFCalculator - this tool is currently set to genotype at most 6 alternate alleles in a given context, but the context at Pf3D7_11_v3:1717337 has 8 alternate alleles so only the top alleles will be used; see the --max_alternate_alleles argument \r\n"
       ]
      },
      {
       "output_type": "stream",
       "stream": "stdout",
       "text": [
        "WARN  08:15:59,617 ExactAFCalculator - this tool is currently set to genotype at most 6 alternate alleles in a given context, but the context at Pf3D7_11_v3:1737168 has 8 alternate alleles so only the top alleles will be used; see the --max_alternate_alleles argument \r\n"
       ]
      },
      {
       "output_type": "stream",
       "stream": "stdout",
       "text": [
        "WARN  08:15:59,683 ExactAFCalculator - this tool is currently set to genotype at most 6 alternate alleles in a given context, but the context at Pf3D7_11_v3:1754031 has 8 alternate alleles so only the top alleles will be used; see the --max_alternate_alleles argument \r\n",
        "WARN  08:15:59,699 ExactAFCalculator - this tool is currently set to genotype at most 6 alternate alleles in a given context, but the context at Pf3D7_11_v3:1756944 has 7 alternate alleles so only the top alleles will be used; see the --max_alternate_alleles argument \r\n"
       ]
      },
      {
       "output_type": "stream",
       "stream": "stdout",
       "text": [
        "WARN  08:15:59,719 ExactAFCalculator - this tool is currently set to genotype at most 6 alternate alleles in a given context, but the context at Pf3D7_11_v3:1760754 has 8 alternate alleles so only the top alleles will be used; see the --max_alternate_alleles argument \r\n",
        "WARN  08:15:59,725 ExactAFCalculator - this tool is currently set to genotype at most 6 alternate alleles in a given context, but the context at Pf3D7_11_v3:1761626 has 8 alternate alleles so only the top alleles will be used; see the --max_alternate_alleles argument \r\n",
        "WARN  08:15:59,733 ExactAFCalculator - this tool is currently set to genotype at most 6 alternate alleles in a given context, but the context at Pf3D7_11_v3:1764502 has 7 alternate alleles so only the top alleles will be used; see the --max_alternate_alleles argument \r\n"
       ]
      },
      {
       "output_type": "stream",
       "stream": "stdout",
       "text": [
        "WARN  08:15:59,790 ExactAFCalculator - this tool is currently set to genotype at most 6 alternate alleles in a given context, but the context at Pf3D7_11_v3:1778088 has 7 alternate alleles so only the top alleles will be used; see the --max_alternate_alleles argument \r\n"
       ]
      },
      {
       "output_type": "stream",
       "stream": "stdout",
       "text": [
        "WARN  08:15:59,871 ExactAFCalculator - this tool is currently set to genotype at most 6 alternate alleles in a given context, but the context at Pf3D7_11_v3:1798925 has 11 alternate alleles so only the top alleles will be used; see the --max_alternate_alleles argument \r\n",
        "WARN  08:15:59,900 ExactAFCalculator - this tool is currently set to genotype at most 6 alternate alleles in a given context, but the context at Pf3D7_11_v3:1806672 has 7 alternate alleles so only the top alleles will be used; see the --max_alternate_alleles argument \r\n"
       ]
      },
      {
       "output_type": "stream",
       "stream": "stdout",
       "text": [
        "WARN  08:16:00,104 ExactAFCalculator - this tool is currently set to genotype at most 6 alternate alleles in a given context, but the context at Pf3D7_11_v3:1853981 has 7 alternate alleles so only the top alleles will be used; see the --max_alternate_alleles argument \r\n"
       ]
      },
      {
       "output_type": "stream",
       "stream": "stdout",
       "text": [
        "WARN  08:16:00,131 ExactAFCalculator - this tool is currently set to genotype at most 6 alternate alleles in a given context, but the context at Pf3D7_11_v3:1856316 has 7 alternate alleles so only the top alleles will be used; see the --max_alternate_alleles argument \r\n",
        "WARN  08:16:00,140 ExactAFCalculator - this tool is currently set to genotype at most 6 alternate alleles in a given context, but the context at Pf3D7_11_v3:1857970 has 7 alternate alleles so only the top alleles will be used; see the --max_alternate_alleles argument \r\n",
        "WARN  08:16:00,143 ExactAFCalculator - this tool is currently set to genotype at most 6 alternate alleles in a given context, but the context at Pf3D7_11_v3:1858726 has 8 alternate alleles so only the top alleles will be used; see the --max_alternate_alleles argument \r\n"
       ]
      },
      {
       "output_type": "stream",
       "stream": "stdout",
       "text": [
        "WARN  08:16:00,225 ExactAFCalculator - this tool is currently set to genotype at most 6 alternate alleles in a given context, but the context at Pf3D7_11_v3:1888604 has 7 alternate alleles so only the top alleles will be used; see the --max_alternate_alleles argument \r\n"
       ]
      },
      {
       "output_type": "stream",
       "stream": "stdout",
       "text": [
        "WARN  08:16:00,258 ExactAFCalculator - this tool is currently set to genotype at most 6 alternate alleles in a given context, but the context at Pf3D7_11_v3:1897733 has 8 alternate alleles so only the top alleles will be used; see the --max_alternate_alleles argument \r\n",
        "WARN  08:16:00,281 ExactAFCalculator - this tool is currently set to genotype at most 6 alternate alleles in a given context, but the context at Pf3D7_11_v3:1906028 has 8 alternate alleles so only the top alleles will be used; see the --max_alternate_alleles argument \r\n"
       ]
      },
      {
       "output_type": "stream",
       "stream": "stdout",
       "text": [
        "WARN  08:16:00,306 ExactAFCalculator - this tool is currently set to genotype at most 6 alternate alleles in a given context, but the context at Pf3D7_11_v3:1914766 has 11 alternate alleles so only the top alleles will be used; see the --max_alternate_alleles argument \r\n"
       ]
      },
      {
       "output_type": "stream",
       "stream": "stdout",
       "text": [
        "WARN  08:16:00,379 ExactAFCalculator - this tool is currently set to genotype at most 6 alternate alleles in a given context, but the context at Pf3D7_11_v3:1934207 has 10 alternate alleles so only the top alleles will be used; see the --max_alternate_alleles argument \r\n",
        "WARN  08:16:00,393 ExactAFCalculator - this tool is currently set to genotype at most 6 alternate alleles in a given context, but the context at Pf3D7_11_v3:1938460 has 8 alternate alleles so only the top alleles will be used; see the --max_alternate_alleles argument \r\n"
       ]
      },
      {
       "output_type": "stream",
       "stream": "stdout",
       "text": [
        "WARN  08:16:00,396 ExactAFCalculator - this tool is currently set to genotype at most 6 alternate alleles in a given context, but the context at Pf3D7_11_v3:1939058 has 10 alternate alleles so only the top alleles will be used; see the --max_alternate_alleles argument \r\n",
        "WARN  08:16:00,433 ExactAFCalculator - this tool is currently set to genotype at most 6 alternate alleles in a given context, but the context at Pf3D7_11_v3:1948908 has 8 alternate alleles so only the top alleles will be used; see the --max_alternate_alleles argument \r\n",
        "WARN  08:16:00,435 ExactAFCalculator - this tool is currently set to genotype at most 6 alternate alleles in a given context, but the context at Pf3D7_11_v3:1949369 has 7 alternate alleles so only the top alleles will be used; see the --max_alternate_alleles argument \r\n",
        "WARN  08:16:00,440 ExactAFCalculator - this tool is currently set to genotype at most 6 alternate alleles in a given context, but the context at Pf3D7_11_v3:1951938 has 7 alternate alleles so only the top alleles will be used; see the --max_alternate_alleles argument \r\n"
       ]
      },
      {
       "output_type": "stream",
       "stream": "stdout",
       "text": [
        "WARN  08:16:00,487 ExactAFCalculator - this tool is currently set to genotype at most 6 alternate alleles in a given context, but the context at Pf3D7_11_v3:1972639 has 8 alternate alleles so only the top alleles will be used; see the --max_alternate_alleles argument \r\n"
       ]
      },
      {
       "output_type": "stream",
       "stream": "stdout",
       "text": [
        "WARN  08:16:00,520 ExactAFCalculator - this tool is currently set to genotype at most 6 alternate alleles in a given context, but the context at Pf3D7_11_v3:1984277 has 7 alternate alleles so only the top alleles will be used; see the --max_alternate_alleles argument \r\n",
        "WARN  08:16:00,527 ExactAFCalculator - this tool is currently set to genotype at most 6 alternate alleles in a given context, but the context at Pf3D7_11_v3:1985576 has 8 alternate alleles so only the top alleles will be used; see the --max_alternate_alleles argument \r\n",
        "WARN  08:16:00,544 ExactAFCalculator - this tool is currently set to genotype at most 6 alternate alleles in a given context, but the context at Pf3D7_11_v3:1988880 has 8 alternate alleles so only the top alleles will be used; see the --max_alternate_alleles argument \r\n"
       ]
      },
      {
       "output_type": "stream",
       "stream": "stdout",
       "text": [
        "WARN  08:16:00,548 ExactAFCalculator - this tool is currently set to genotype at most 6 alternate alleles in a given context, but the context at Pf3D7_11_v3:1990144 has 7 alternate alleles so only the top alleles will be used; see the --max_alternate_alleles argument \r\n",
        "WARN  08:16:00,570 ExactAFCalculator - this tool is currently set to genotype at most 6 alternate alleles in a given context, but the context at Pf3D7_11_v3:1997620 has 7 alternate alleles so only the top alleles will be used; see the --max_alternate_alleles argument \r\n"
       ]
      },
      {
       "output_type": "stream",
       "stream": "stdout",
       "text": [
        "INFO  08:16:01,082 ProgressMeter -            done   2038340.0    14.0 s       6.0 s       63.6%    22.0 s       8.0 s \r\n",
        "INFO  08:16:01,083 ProgressMeter - Total runtime 14.16 secs, 0.24 min, 0.00 hours \r\n"
       ]
      },
      {
       "output_type": "stream",
       "stream": "stdout",
       "text": [
        "INFO  08:16:03,688 GATKRunReport - Uploaded run statistics report to AWS S3 \r\n"
       ]
      },
      {
       "output_type": "stream",
       "stream": "stdout",
       "text": [
        "INFO  08:16:05,305 HelpFormatter - -------------------------------------------------------------------------------- \r\n",
        "INFO  08:16:05,306 HelpFormatter - The Genome Analysis Toolkit (GATK) v3.4-0-g7e26428, Compiled 2015/05/15 03:25:41 \r\n",
        "INFO  08:16:05,307 HelpFormatter - Copyright (c) 2010 The Broad Institute \r\n",
        "INFO  08:16:05,307 HelpFormatter - For support and documentation go to http://www.broadinstitute.org/gatk \r\n",
        "INFO  08:16:05,310 HelpFormatter - Program Args: -T CombineGVCFs -R /data/plasmodium/pfalciparum/recon/roamato/Pf3D7_v3/3D7_sorted.fa --variant /nfs/team112_internal/production_files/Pf3k/methods/assembled_samples/vcfs/gvcf/lists/gvcfs.Pf3D7_12_v3.0.list -o /nfs/team112_internal/production_files/Pf3k/methods/assembled_samples/vcfs/gvcf/combined_gvcf/combined.Pf3D7_12_v3.0.g.vcf \r\n"
       ]
      },
      {
       "output_type": "stream",
       "stream": "stdout",
       "text": [
        "INFO  08:16:05,315 HelpFormatter - Executing as rpearson@dhcp511.well.ox.ac.uk on Mac OS X 10.10.3 x86_64; Java HotSpot(TM) 64-Bit Server VM 1.7.0_60-b19. \r\n",
        "INFO  08:16:05,316 HelpFormatter - Date/Time: 2015/07/01 08:16:05 \r\n",
        "INFO  08:16:05,316 HelpFormatter - -------------------------------------------------------------------------------- \r\n",
        "INFO  08:16:05,316 HelpFormatter - -------------------------------------------------------------------------------- \r\n"
       ]
      },
      {
       "output_type": "stream",
       "stream": "stdout",
       "text": [
        "INFO  08:16:05,662 GenomeAnalysisEngine - Strictness is SILENT \r\n"
       ]
      },
      {
       "output_type": "stream",
       "stream": "stdout",
       "text": [
        "INFO  08:16:05,719 GenomeAnalysisEngine - Downsampling Settings: Method: BY_SAMPLE, Target Coverage: 1000 \r\n"
       ]
      },
      {
       "output_type": "stream",
       "stream": "stdout",
       "text": [
        "INFO  08:16:05,845 GenomeAnalysisEngine - Preparing for traversal \r\n"
       ]
      },
      {
       "output_type": "stream",
       "stream": "stdout",
       "text": [
        "INFO  08:16:05,846 GenomeAnalysisEngine - Done preparing for traversal \r\n",
        "INFO  08:16:05,847 ProgressMeter - [INITIALIZATION COMPLETE; STARTING PROCESSING] \r\n",
        "INFO  08:16:05,847 ProgressMeter -                 | processed |    time |    per 1M |           |   total | remaining \r\n",
        "INFO  08:16:05,847 ProgressMeter -        Location |     sites | elapsed |     sites | completed | runtime |   runtime \r\n"
       ]
      },
      {
       "output_type": "stream",
       "stream": "stdout",
       "text": [
        "INFO  08:16:16,082 ProgressMeter -            done   2271494.0    10.0 s       4.0 s       73.4%    13.0 s       3.0 s \r\n",
        "INFO  08:16:16,083 ProgressMeter - Total runtime 10.24 secs, 0.17 min, 0.00 hours \r\n"
       ]
      },
      {
       "output_type": "stream",
       "stream": "stdout",
       "text": [
        "INFO  08:16:18,933 GATKRunReport - Uploaded run statistics report to AWS S3 \r\n"
       ]
      },
      {
       "output_type": "stream",
       "stream": "stdout",
       "text": [
        "INFO  08:16:20,653 HelpFormatter - -------------------------------------------------------------------------------- \r\n",
        "INFO  08:16:20,655 HelpFormatter - The Genome Analysis Toolkit (GATK) v3.4-0-g7e26428, Compiled 2015/05/15 03:25:41 \r\n",
        "INFO  08:16:20,656 HelpFormatter - Copyright (c) 2010 The Broad Institute \r\n",
        "INFO  08:16:20,656 HelpFormatter - For support and documentation go to http://www.broadinstitute.org/gatk \r\n",
        "INFO  08:16:20,659 HelpFormatter - Program Args: -T CombineGVCFs -R /data/plasmodium/pfalciparum/recon/roamato/Pf3D7_v3/3D7_sorted.fa --variant /nfs/team112_internal/production_files/Pf3k/methods/assembled_samples/vcfs/gvcf/lists/gvcfs.Pf3D7_12_v3.1.list -o /nfs/team112_internal/production_files/Pf3k/methods/assembled_samples/vcfs/gvcf/combined_gvcf/combined.Pf3D7_12_v3.1.g.vcf \r\n",
        "INFO  08:16:20,665 HelpFormatter - Executing as rpearson@dhcp511.well.ox.ac.uk on Mac OS X 10.10.3 x86_64; Java HotSpot(TM) 64-Bit Server VM 1.7.0_60-b19. \r\n",
        "INFO  08:16:20,665 HelpFormatter - Date/Time: 2015/07/01 08:16:20 \r\n",
        "INFO  08:16:20,665 HelpFormatter - -------------------------------------------------------------------------------- \r\n",
        "INFO  08:16:20,666 HelpFormatter - -------------------------------------------------------------------------------- \r\n"
       ]
      },
      {
       "output_type": "stream",
       "stream": "stdout",
       "text": [
        "INFO  08:16:21,031 GenomeAnalysisEngine - Strictness is SILENT \r\n"
       ]
      },
      {
       "output_type": "stream",
       "stream": "stdout",
       "text": [
        "INFO  08:16:21,096 GenomeAnalysisEngine - Downsampling Settings: Method: BY_SAMPLE, Target Coverage: 1000 \r\n"
       ]
      },
      {
       "output_type": "stream",
       "stream": "stdout",
       "text": [
        "INFO  08:16:21,234 GenomeAnalysisEngine - Preparing for traversal \r\n",
        "INFO  08:16:21,235 GenomeAnalysisEngine - Done preparing for traversal \r\n",
        "INFO  08:16:21,235 ProgressMeter - [INITIALIZATION COMPLETE; STARTING PROCESSING] \r\n",
        "INFO  08:16:21,236 ProgressMeter -                 | processed |    time |    per 1M |           |   total | remaining \r\n",
        "INFO  08:16:21,236 ProgressMeter -        Location |     sites | elapsed |     sites | completed | runtime |   runtime \r\n"
       ]
      },
      {
       "output_type": "stream",
       "stream": "stdout",
       "text": [
        "INFO  08:16:31,612 ProgressMeter -            done   2271494.0    10.0 s       4.0 s       73.4%    13.0 s       3.0 s \r\n",
        "INFO  08:16:31,612 ProgressMeter - Total runtime 10.38 secs, 0.17 min, 0.00 hours \r\n"
       ]
      },
      {
       "output_type": "stream",
       "stream": "stdout",
       "text": [
        "INFO  08:16:35,009 GATKRunReport - Uploaded run statistics report to AWS S3 \r\n"
       ]
      },
      {
       "output_type": "stream",
       "stream": "stdout",
       "text": [
        "INFO  08:16:36,717 HelpFormatter - -------------------------------------------------------------------------------- \r\n",
        "INFO  08:16:36,719 HelpFormatter - The Genome Analysis Toolkit (GATK) v3.4-0-g7e26428, Compiled 2015/05/15 03:25:41 \r\n",
        "INFO  08:16:36,719 HelpFormatter - Copyright (c) 2010 The Broad Institute \r\n",
        "INFO  08:16:36,719 HelpFormatter - For support and documentation go to http://www.broadinstitute.org/gatk \r\n",
        "INFO  08:16:36,722 HelpFormatter - Program Args: -T GenotypeGVCFs -R /data/plasmodium/pfalciparum/recon/roamato/Pf3D7_v3/3D7_sorted.fa --variant /nfs/team112_internal/production_files/Pf3k/methods/assembled_samples/vcfs/gvcf/lists/gvcfs.Pf3D7_12_v3.all.list -o /nfs/team112_internal/production_files/Pf3k/methods/assembled_samples/vcfs/vcf/raw.snps.indels.Pf3D7_12_v3.vcf \r\n"
       ]
      },
      {
       "output_type": "stream",
       "stream": "stdout",
       "text": [
        "INFO  08:16:36,728 HelpFormatter - Executing as rpearson@dhcp511.well.ox.ac.uk on Mac OS X 10.10.3 x86_64; Java HotSpot(TM) 64-Bit Server VM 1.7.0_60-b19. \r\n",
        "INFO  08:16:36,728 HelpFormatter - Date/Time: 2015/07/01 08:16:36 \r\n",
        "INFO  08:16:36,729 HelpFormatter - -------------------------------------------------------------------------------- \r\n",
        "INFO  08:16:36,729 HelpFormatter - -------------------------------------------------------------------------------- \r\n"
       ]
      },
      {
       "output_type": "stream",
       "stream": "stdout",
       "text": [
        "INFO  08:16:37,082 GenomeAnalysisEngine - Strictness is SILENT \r\n"
       ]
      },
      {
       "output_type": "stream",
       "stream": "stdout",
       "text": [
        "INFO  08:16:37,136 GenomeAnalysisEngine - Downsampling Settings: Method: BY_SAMPLE, Target Coverage: 1000 \r\n"
       ]
      },
      {
       "output_type": "stream",
       "stream": "stdout",
       "text": [
        "INFO  08:16:37,254 GenomeAnalysisEngine - Preparing for traversal \r\n",
        "INFO  08:16:37,255 GenomeAnalysisEngine - Done preparing for traversal \r\n",
        "INFO  08:16:37,255 ProgressMeter - [INITIALIZATION COMPLETE; STARTING PROCESSING] \r\n",
        "INFO  08:16:37,255 ProgressMeter -                 | processed |    time |    per 1M |           |   total | remaining \r\n",
        "INFO  08:16:37,256 ProgressMeter -        Location |     sites | elapsed |     sites | completed | runtime |   runtime \r\n"
       ]
      },
      {
       "output_type": "stream",
       "stream": "stdout",
       "text": [
        "INFO  08:16:37,337 GenotypeGVCFs - Notice that the -ploidy parameter is ignored in GenotypeGVCFs tool as this is automatically determined by the input variant files \r\n"
       ]
      },
      {
       "output_type": "stream",
       "stream": "stdout",
       "text": [
        "WARN  08:16:42,860 ExactAFCalculator - this tool is currently set to genotype at most 6 alternate alleles in a given context, but the context at Pf3D7_12_v3:98011 has 14 alternate alleles so only the top alleles will be used; see the --max_alternate_alleles argument \r\n"
       ]
      },
      {
       "output_type": "stream",
       "stream": "stdout",
       "text": [
        "WARN  08:16:42,878 ExactAFCalculator - this tool is currently set to genotype at most 6 alternate alleles in a given context, but the context at Pf3D7_12_v3:100517 has 8 alternate alleles so only the top alleles will be used; see the --max_alternate_alleles argument \r\n",
        "WARN  08:16:42,904 ExactAFCalculator - this tool is currently set to genotype at most 6 alternate alleles in a given context, but the context at Pf3D7_12_v3:104876 has 7 alternate alleles so only the top alleles will be used; see the --max_alternate_alleles argument \r\n"
       ]
      },
      {
       "output_type": "stream",
       "stream": "stdout",
       "text": [
        "WARN  08:16:42,999 ExactAFCalculator - this tool is currently set to genotype at most 6 alternate alleles in a given context, but the context at Pf3D7_12_v3:117576 has 10 alternate alleles so only the top alleles will be used; see the --max_alternate_alleles argument \r\n"
       ]
      },
      {
       "output_type": "stream",
       "stream": "stdout",
       "text": [
        "WARN  08:16:43,041 ExactAFCalculator - this tool is currently set to genotype at most 6 alternate alleles in a given context, but the context at Pf3D7_12_v3:124953 has 8 alternate alleles so only the top alleles will be used; see the --max_alternate_alleles argument \r\n",
        "WARN  08:16:43,072 ExactAFCalculator - this tool is currently set to genotype at most 6 alternate alleles in a given context, but the context at Pf3D7_12_v3:128864 has 8 alternate alleles so only the top alleles will be used; see the --max_alternate_alleles argument \r\n"
       ]
      },
      {
       "output_type": "stream",
       "stream": "stdout",
       "text": [
        "WARN  08:16:43,166 ExactAFCalculator - this tool is currently set to genotype at most 6 alternate alleles in a given context, but the context at Pf3D7_12_v3:144010 has 8 alternate alleles so only the top alleles will be used; see the --max_alternate_alleles argument \r\n",
        "WARN  08:16:43,169 ExactAFCalculator - this tool is currently set to genotype at most 6 alternate alleles in a given context, but the context at Pf3D7_12_v3:146007 has 7 alternate alleles so only the top alleles will be used; see the --max_alternate_alleles argument \r\n"
       ]
      },
      {
       "output_type": "stream",
       "stream": "stdout",
       "text": [
        "WARN  08:16:43,196 ExactAFCalculator - this tool is currently set to genotype at most 6 alternate alleles in a given context, but the context at Pf3D7_12_v3:155546 has 7 alternate alleles so only the top alleles will be used; see the --max_alternate_alleles argument \r\n"
       ]
      },
      {
       "output_type": "stream",
       "stream": "stdout",
       "text": [
        "WARN  08:16:43,297 ExactAFCalculator - this tool is currently set to genotype at most 6 alternate alleles in a given context, but the context at Pf3D7_12_v3:171289 has 7 alternate alleles so only the top alleles will be used; see the --max_alternate_alleles argument \r\n"
       ]
      },
      {
       "output_type": "stream",
       "stream": "stdout",
       "text": [
        "WARN  08:16:43,334 ExactAFCalculator - this tool is currently set to genotype at most 6 alternate alleles in a given context, but the context at Pf3D7_12_v3:181945 has 7 alternate alleles so only the top alleles will be used; see the --max_alternate_alleles argument \r\n"
       ]
      },
      {
       "output_type": "stream",
       "stream": "stdout",
       "text": [
        "WARN  08:16:43,410 ExactAFCalculator - this tool is currently set to genotype at most 6 alternate alleles in a given context, but the context at Pf3D7_12_v3:195283 has 8 alternate alleles so only the top alleles will be used; see the --max_alternate_alleles argument \r\n"
       ]
      },
      {
       "output_type": "stream",
       "stream": "stdout",
       "text": [
        "WARN  08:16:43,482 ExactAFCalculator - this tool is currently set to genotype at most 6 alternate alleles in a given context, but the context at Pf3D7_12_v3:209590 has 8 alternate alleles so only the top alleles will be used; see the --max_alternate_alleles argument \r\n",
        "WARN  08:16:43,497 ExactAFCalculator - this tool is currently set to genotype at most 6 alternate alleles in a given context, but the context at Pf3D7_12_v3:212958 has 8 alternate alleles so only the top alleles will be used; see the --max_alternate_alleles argument \r\n"
       ]
      },
      {
       "output_type": "stream",
       "stream": "stdout",
       "text": [
        "WARN  08:16:43,512 ExactAFCalculator - this tool is currently set to genotype at most 6 alternate alleles in a given context, but the context at Pf3D7_12_v3:215553 has 9 alternate alleles so only the top alleles will be used; see the --max_alternate_alleles argument \r\n"
       ]
      },
      {
       "output_type": "stream",
       "stream": "stdout",
       "text": [
        "WARN  08:16:43,571 ExactAFCalculator - this tool is currently set to genotype at most 6 alternate alleles in a given context, but the context at Pf3D7_12_v3:227125 has 7 alternate alleles so only the top alleles will be used; see the --max_alternate_alleles argument \r\n",
        "WARN  08:16:43,591 ExactAFCalculator - this tool is currently set to genotype at most 6 alternate alleles in a given context, but the context at Pf3D7_12_v3:231413 has 7 alternate alleles so only the top alleles will be used; see the --max_alternate_alleles argument \r\n"
       ]
      },
      {
       "output_type": "stream",
       "stream": "stdout",
       "text": [
        "WARN  08:16:43,638 ExactAFCalculator - this tool is currently set to genotype at most 6 alternate alleles in a given context, but the context at Pf3D7_12_v3:240410 has 8 alternate alleles so only the top alleles will be used; see the --max_alternate_alleles argument \r\n"
       ]
      },
      {
       "output_type": "stream",
       "stream": "stdout",
       "text": [
        "WARN  08:16:43,770 ExactAFCalculator - this tool is currently set to genotype at most 6 alternate alleles in a given context, but the context at Pf3D7_12_v3:273719 has 7 alternate alleles so only the top alleles will be used; see the --max_alternate_alleles argument \r\n"
       ]
      },
      {
       "output_type": "stream",
       "stream": "stdout",
       "text": [
        "WARN  08:16:43,777 ExactAFCalculator - this tool is currently set to genotype at most 6 alternate alleles in a given context, but the context at Pf3D7_12_v3:275486 has 7 alternate alleles so only the top alleles will be used; see the --max_alternate_alleles argument \r\n"
       ]
      },
      {
       "output_type": "stream",
       "stream": "stdout",
       "text": [
        "WARN  08:16:43,887 ExactAFCalculator - this tool is currently set to genotype at most 6 alternate alleles in a given context, but the context at Pf3D7_12_v3:310947 has 8 alternate alleles so only the top alleles will be used; see the --max_alternate_alleles argument \r\n"
       ]
      },
      {
       "output_type": "stream",
       "stream": "stdout",
       "text": [
        "WARN  08:16:43,954 ExactAFCalculator - this tool is currently set to genotype at most 6 alternate alleles in a given context, but the context at Pf3D7_12_v3:337921 has 9 alternate alleles so only the top alleles will be used; see the --max_alternate_alleles argument \r\n"
       ]
      },
      {
       "output_type": "stream",
       "stream": "stdout",
       "text": [
        "WARN  08:16:44,089 ExactAFCalculator - this tool is currently set to genotype at most 6 alternate alleles in a given context, but the context at Pf3D7_12_v3:387622 has 8 alternate alleles so only the top alleles will be used; see the --max_alternate_alleles argument \r\n",
        "WARN  08:16:44,110 ExactAFCalculator - this tool is currently set to genotype at most 6 alternate alleles in a given context, but the context at Pf3D7_12_v3:390847 has 7 alternate alleles so only the top alleles will be used; see the --max_alternate_alleles argument \r\n",
        "WARN  08:16:44,120 ExactAFCalculator - this tool is currently set to genotype at most 6 alternate alleles in a given context, but the context at Pf3D7_12_v3:396773 has 7 alternate alleles so only the top alleles will be used; see the --max_alternate_alleles argument \r\n",
        "WARN  08:16:44,128 ExactAFCalculator - this tool is currently set to genotype at most 6 alternate alleles in a given context, but the context at Pf3D7_12_v3:401378 has 7 alternate alleles so only the top alleles will be used; see the --max_alternate_alleles argument \r\n"
       ]
      },
      {
       "output_type": "stream",
       "stream": "stdout",
       "text": [
        "WARN  08:16:44,175 ExactAFCalculator - this tool is currently set to genotype at most 6 alternate alleles in a given context, but the context at Pf3D7_12_v3:412392 has 7 alternate alleles so only the top alleles will be used; see the --max_alternate_alleles argument \r\n",
        "WARN  08:16:44,180 ExactAFCalculator - this tool is currently set to genotype at most 6 alternate alleles in a given context, but the context at Pf3D7_12_v3:412957 has 9 alternate alleles so only the top alleles will be used; see the --max_alternate_alleles argument \r\n"
       ]
      },
      {
       "output_type": "stream",
       "stream": "stdout",
       "text": [
        "WARN  08:16:44,236 ExactAFCalculator - this tool is currently set to genotype at most 6 alternate alleles in a given context, but the context at Pf3D7_12_v3:427686 has 9 alternate alleles so only the top alleles will be used; see the --max_alternate_alleles argument \r\n"
       ]
      },
      {
       "output_type": "stream",
       "stream": "stdout",
       "text": [
        "WARN  08:16:44,264 ExactAFCalculator - this tool is currently set to genotype at most 6 alternate alleles in a given context, but the context at Pf3D7_12_v3:433517 has 7 alternate alleles so only the top alleles will be used; see the --max_alternate_alleles argument \r\n"
       ]
      },
      {
       "output_type": "stream",
       "stream": "stdout",
       "text": [
        "WARN  08:16:44,318 ExactAFCalculator - this tool is currently set to genotype at most 6 alternate alleles in a given context, but the context at Pf3D7_12_v3:441986 has 10 alternate alleles so only the top alleles will be used; see the --max_alternate_alleles argument \r\n"
       ]
      },
      {
       "output_type": "stream",
       "stream": "stdout",
       "text": [
        "WARN  08:16:44,350 ExactAFCalculator - this tool is currently set to genotype at most 6 alternate alleles in a given context, but the context at Pf3D7_12_v3:447179 has 7 alternate alleles so only the top alleles will be used; see the --max_alternate_alleles argument \r\n",
        "WARN  08:16:44,383 ExactAFCalculator - this tool is currently set to genotype at most 6 alternate alleles in a given context, but the context at Pf3D7_12_v3:454278 has 9 alternate alleles so only the top alleles will be used; see the --max_alternate_alleles argument \r\n"
       ]
      },
      {
       "output_type": "stream",
       "stream": "stdout",
       "text": [
        "WARN  08:16:44,452 ExactAFCalculator - this tool is currently set to genotype at most 6 alternate alleles in a given context, but the context at Pf3D7_12_v3:464778 has 7 alternate alleles so only the top alleles will be used; see the --max_alternate_alleles argument \r\n",
        "WARN  08:16:44,483 ExactAFCalculator - this tool is currently set to genotype at most 6 alternate alleles in a given context, but the context at Pf3D7_12_v3:471682 has 7 alternate alleles so only the top alleles will be used; see the --max_alternate_alleles argument \r\n",
        "WARN  08:16:44,488 ExactAFCalculator - this tool is currently set to genotype at most 6 alternate alleles in a given context, but the context at Pf3D7_12_v3:472086 has 7 alternate alleles so only the top alleles will be used; see the --max_alternate_alleles argument \r\n"
       ]
      },
      {
       "output_type": "stream",
       "stream": "stdout",
       "text": [
        "WARN  08:16:44,606 ExactAFCalculator - this tool is currently set to genotype at most 6 alternate alleles in a given context, but the context at Pf3D7_12_v3:498805 has 7 alternate alleles so only the top alleles will be used; see the --max_alternate_alleles argument \r\n"
       ]
      },
      {
       "output_type": "stream",
       "stream": "stdout",
       "text": [
        "WARN  08:16:44,759 ExactAFCalculator - this tool is currently set to genotype at most 6 alternate alleles in a given context, but the context at Pf3D7_12_v3:528786 has 8 alternate alleles so only the top alleles will be used; see the --max_alternate_alleles argument \r\n"
       ]
      },
      {
       "output_type": "stream",
       "stream": "stdout",
       "text": [
        "WARN  08:16:44,836 ExactAFCalculator - this tool is currently set to genotype at most 6 alternate alleles in a given context, but the context at Pf3D7_12_v3:543870 has 7 alternate alleles so only the top alleles will be used; see the --max_alternate_alleles argument \r\n",
        "WARN  08:16:44,838 ExactAFCalculator - this tool is currently set to genotype at most 6 alternate alleles in a given context, but the context at Pf3D7_12_v3:543900 has 8 alternate alleles so only the top alleles will be used; see the --max_alternate_alleles argument \r\n"
       ]
      },
      {
       "output_type": "stream",
       "stream": "stdout",
       "text": [
        "WARN  08:16:44,893 ExactAFCalculator - this tool is currently set to genotype at most 6 alternate alleles in a given context, but the context at Pf3D7_12_v3:554059 has 7 alternate alleles so only the top alleles will be used; see the --max_alternate_alleles argument \r\n"
       ]
      },
      {
       "output_type": "stream",
       "stream": "stdout",
       "text": [
        "WARN  08:16:45,044 ExactAFCalculator - this tool is currently set to genotype at most 6 alternate alleles in a given context, but the context at Pf3D7_12_v3:582085 has 7 alternate alleles so only the top alleles will be used; see the --max_alternate_alleles argument \r\n",
        "WARN  08:16:45,062 ExactAFCalculator - this tool is currently set to genotype at most 6 alternate alleles in a given context, but the context at Pf3D7_12_v3:587612 has 7 alternate alleles so only the top alleles will be used; see the --max_alternate_alleles argument \r\n",
        "WARN  08:16:45,063 ExactAFCalculator - this tool is currently set to genotype at most 6 alternate alleles in a given context, but the context at Pf3D7_12_v3:587623 has 10 alternate alleles so only the top alleles will be used; see the --max_alternate_alleles argument \r\n"
       ]
      },
      {
       "output_type": "stream",
       "stream": "stdout",
       "text": [
        "WARN  08:16:45,281 ExactAFCalculator - this tool is currently set to genotype at most 6 alternate alleles in a given context, but the context at Pf3D7_12_v3:640520 has 7 alternate alleles so only the top alleles will be used; see the --max_alternate_alleles argument \r\n"
       ]
      },
      {
       "output_type": "stream",
       "stream": "stdout",
       "text": [
        "WARN  08:16:45,323 ExactAFCalculator - this tool is currently set to genotype at most 6 alternate alleles in a given context, but the context at Pf3D7_12_v3:649832 has 7 alternate alleles so only the top alleles will be used; see the --max_alternate_alleles argument \r\n",
        "WARN  08:16:45,338 ExactAFCalculator - this tool is currently set to genotype at most 6 alternate alleles in a given context, but the context at Pf3D7_12_v3:651343 has 7 alternate alleles so only the top alleles will be used; see the --max_alternate_alleles argument \r\n"
       ]
      },
      {
       "output_type": "stream",
       "stream": "stdout",
       "text": [
        "WARN  08:16:45,389 ExactAFCalculator - this tool is currently set to genotype at most 6 alternate alleles in a given context, but the context at Pf3D7_12_v3:661826 has 7 alternate alleles so only the top alleles will be used; see the --max_alternate_alleles argument \r\n"
       ]
      },
      {
       "output_type": "stream",
       "stream": "stdout",
       "text": [
        "WARN  08:16:45,424 ExactAFCalculator - this tool is currently set to genotype at most 6 alternate alleles in a given context, but the context at Pf3D7_12_v3:669986 has 7 alternate alleles so only the top alleles will be used; see the --max_alternate_alleles argument \r\n"
       ]
      },
      {
       "output_type": "stream",
       "stream": "stdout",
       "text": [
        "WARN  08:16:45,557 ExactAFCalculator - this tool is currently set to genotype at most 6 alternate alleles in a given context, but the context at Pf3D7_12_v3:699049 has 12 alternate alleles so only the top alleles will be used; see the --max_alternate_alleles argument \r\n"
       ]
      },
      {
       "output_type": "stream",
       "stream": "stdout",
       "text": [
        "WARN  08:16:45,691 ExactAFCalculator - this tool is currently set to genotype at most 6 alternate alleles in a given context, but the context at Pf3D7_12_v3:726161 has 8 alternate alleles so only the top alleles will be used; see the --max_alternate_alleles argument \r\n"
       ]
      },
      {
       "output_type": "stream",
       "stream": "stdout",
       "text": [
        "WARN  08:16:45,727 ExactAFCalculator - this tool is currently set to genotype at most 6 alternate alleles in a given context, but the context at Pf3D7_12_v3:734795 has 8 alternate alleles so only the top alleles will be used; see the --max_alternate_alleles argument \r\n",
        "WARN  08:16:45,748 ExactAFCalculator - this tool is currently set to genotype at most 6 alternate alleles in a given context, but the context at Pf3D7_12_v3:740319 has 8 alternate alleles so only the top alleles will be used; see the --max_alternate_alleles argument \r\n",
        "WARN  08:16:45,751 ExactAFCalculator - this tool is currently set to genotype at most 6 alternate alleles in a given context, but the context at Pf3D7_12_v3:740910 has 7 alternate alleles so only the top alleles will be used; see the --max_alternate_alleles argument \r\n"
       ]
      },
      {
       "output_type": "stream",
       "stream": "stdout",
       "text": [
        "WARN  08:16:45,828 ExactAFCalculator - this tool is currently set to genotype at most 6 alternate alleles in a given context, but the context at Pf3D7_12_v3:765928 has 12 alternate alleles so only the top alleles will be used; see the --max_alternate_alleles argument \r\n"
       ]
      },
      {
       "output_type": "stream",
       "stream": "stdout",
       "text": [
        "WARN  08:16:46,027 ExactAFCalculator - this tool is currently set to genotype at most 6 alternate alleles in a given context, but the context at Pf3D7_12_v3:785730 has 7 alternate alleles so only the top alleles will be used; see the --max_alternate_alleles argument \r\n"
       ]
      },
      {
       "output_type": "stream",
       "stream": "stdout",
       "text": [
        "WARN  08:16:46,062 ExactAFCalculator - this tool is currently set to genotype at most 6 alternate alleles in a given context, but the context at Pf3D7_12_v3:796324 has 7 alternate alleles so only the top alleles will be used; see the --max_alternate_alleles argument \r\n",
        "WARN  08:16:46,068 ExactAFCalculator - this tool is currently set to genotype at most 6 alternate alleles in a given context, but the context at Pf3D7_12_v3:798077 has 7 alternate alleles so only the top alleles will be used; see the --max_alternate_alleles argument \r\n",
        "WARN  08:16:46,105 ExactAFCalculator - this tool is currently set to genotype at most 6 alternate alleles in a given context, but the context at Pf3D7_12_v3:807920 has 8 alternate alleles so only the top alleles will be used; see the --max_alternate_alleles argument \r\n"
       ]
      },
      {
       "output_type": "stream",
       "stream": "stdout",
       "text": [
        "WARN  08:16:46,118 ExactAFCalculator - this tool is currently set to genotype at most 6 alternate alleles in a given context, but the context at Pf3D7_12_v3:815797 has 7 alternate alleles so only the top alleles will be used; see the --max_alternate_alleles argument \r\n",
        "WARN  08:16:46,141 ExactAFCalculator - this tool is currently set to genotype at most 6 alternate alleles in a given context, but the context at Pf3D7_12_v3:821820 has 7 alternate alleles so only the top alleles will be used; see the --max_alternate_alleles argument \r\n",
        "WARN  08:16:46,148 ExactAFCalculator - this tool is currently set to genotype at most 6 alternate alleles in a given context, but the context at Pf3D7_12_v3:823252 has 8 alternate alleles so only the top alleles will be used; see the --max_alternate_alleles argument \r\n",
        "WARN  08:16:46,152 ExactAFCalculator - this tool is currently set to genotype at most 6 alternate alleles in a given context, but the context at Pf3D7_12_v3:824321 has 7 alternate alleles so only the top alleles will be used; see the --max_alternate_alleles argument \r\n"
       ]
      },
      {
       "output_type": "stream",
       "stream": "stdout",
       "text": [
        "WARN  08:16:46,236 ExactAFCalculator - this tool is currently set to genotype at most 6 alternate alleles in a given context, but the context at Pf3D7_12_v3:844435 has 8 alternate alleles so only the top alleles will be used; see the --max_alternate_alleles argument \r\n",
        "WARN  08:16:46,261 ExactAFCalculator - this tool is currently set to genotype at most 6 alternate alleles in a given context, but the context at Pf3D7_12_v3:848824 has 9 alternate alleles so only the top alleles will be used; see the --max_alternate_alleles argument \r\n"
       ]
      },
      {
       "output_type": "stream",
       "stream": "stdout",
       "text": [
        "WARN  08:16:46,294 ExactAFCalculator - this tool is currently set to genotype at most 6 alternate alleles in a given context, but the context at Pf3D7_12_v3:856231 has 12 alternate alleles so only the top alleles will be used; see the --max_alternate_alleles argument \r\n"
       ]
      },
      {
       "output_type": "stream",
       "stream": "stdout",
       "text": [
        "WARN  08:16:46,368 ExactAFCalculator - this tool is currently set to genotype at most 6 alternate alleles in a given context, but the context at Pf3D7_12_v3:879383 has 7 alternate alleles so only the top alleles will be used; see the --max_alternate_alleles argument \r\n"
       ]
      },
      {
       "output_type": "stream",
       "stream": "stdout",
       "text": [
        "WARN  08:16:46,419 ExactAFCalculator - this tool is currently set to genotype at most 6 alternate alleles in a given context, but the context at Pf3D7_12_v3:890358 has 7 alternate alleles so only the top alleles will be used; see the --max_alternate_alleles argument \r\n"
       ]
      },
      {
       "output_type": "stream",
       "stream": "stdout",
       "text": [
        "WARN  08:16:46,561 ExactAFCalculator - this tool is currently set to genotype at most 6 alternate alleles in a given context, but the context at Pf3D7_12_v3:928998 has 13 alternate alleles so only the top alleles will be used; see the --max_alternate_alleles argument \r\n",
        "WARN  08:16:46,574 ExactAFCalculator - this tool is currently set to genotype at most 6 alternate alleles in a given context, but the context at Pf3D7_12_v3:930471 has 7 alternate alleles so only the top alleles will be used; see the --max_alternate_alleles argument \r\n"
       ]
      },
      {
       "output_type": "stream",
       "stream": "stdout",
       "text": [
        "WARN  08:16:46,624 ExactAFCalculator - this tool is currently set to genotype at most 6 alternate alleles in a given context, but the context at Pf3D7_12_v3:946264 has 7 alternate alleles so only the top alleles will be used; see the --max_alternate_alleles argument \r\n"
       ]
      },
      {
       "output_type": "stream",
       "stream": "stdout",
       "text": [
        "WARN  08:16:46,626 ExactAFCalculator - this tool is currently set to genotype at most 6 alternate alleles in a given context, but the context at Pf3D7_12_v3:946345 has 7 alternate alleles so only the top alleles will be used; see the --max_alternate_alleles argument \r\n",
        "WARN  08:16:46,675 ExactAFCalculator - this tool is currently set to genotype at most 6 alternate alleles in a given context, but the context at Pf3D7_12_v3:966812 has 7 alternate alleles so only the top alleles will be used; see the --max_alternate_alleles argument \r\n"
       ]
      },
      {
       "output_type": "stream",
       "stream": "stdout",
       "text": [
        "WARN  08:16:46,685 ExactAFCalculator - this tool is currently set to genotype at most 6 alternate alleles in a given context, but the context at Pf3D7_12_v3:968550 has 8 alternate alleles so only the top alleles will be used; see the --max_alternate_alleles argument \r\n",
        "WARN  08:16:46,706 ExactAFCalculator - this tool is currently set to genotype at most 6 alternate alleles in a given context, but the context at Pf3D7_12_v3:972447 has 9 alternate alleles so only the top alleles will be used; see the --max_alternate_alleles argument \r\n",
        "WARN  08:16:46,710 ExactAFCalculator - this tool is currently set to genotype at most 6 alternate alleles in a given context, but the context at Pf3D7_12_v3:973504 has 7 alternate alleles so only the top alleles will be used; see the --max_alternate_alleles argument \r\n",
        "WARN  08:16:46,711 ExactAFCalculator - this tool is currently set to genotype at most 6 alternate alleles in a given context, but the context at Pf3D7_12_v3:973798 has 7 alternate alleles so only the top alleles will be used; see the --max_alternate_alleles argument \r\n",
        "WARN  08:16:46,714 ExactAFCalculator - this tool is currently set to genotype at most 6 alternate alleles in a given context, but the context at Pf3D7_12_v3:974240 has 7 alternate alleles so only the top alleles will be used; see the --max_alternate_alleles argument \r\n",
        "WARN  08:16:46,726 ExactAFCalculator - this tool is currently set to genotype at most 6 alternate alleles in a given context, but the context at Pf3D7_12_v3:977925 has 7 alternate alleles so only the top alleles will be used; see the --max_alternate_alleles argument \r\n"
       ]
      },
      {
       "output_type": "stream",
       "stream": "stdout",
       "text": [
        "WARN  08:16:46,741 ExactAFCalculator - this tool is currently set to genotype at most 6 alternate alleles in a given context, but the context at Pf3D7_12_v3:981101 has 8 alternate alleles so only the top alleles will be used; see the --max_alternate_alleles argument \r\n"
       ]
      },
      {
       "output_type": "stream",
       "stream": "stdout",
       "text": [
        "WARN  08:16:46,790 ExactAFCalculator - this tool is currently set to genotype at most 6 alternate alleles in a given context, but the context at Pf3D7_12_v3:988529 has 7 alternate alleles so only the top alleles will be used; see the --max_alternate_alleles argument \r\n",
        "WARN  08:16:46,825 ExactAFCalculator - this tool is currently set to genotype at most 6 alternate alleles in a given context, but the context at Pf3D7_12_v3:996657 has 9 alternate alleles so only the top alleles will be used; see the --max_alternate_alleles argument \r\n"
       ]
      },
      {
       "output_type": "stream",
       "stream": "stdout",
       "text": [
        "WARN  08:16:46,970 ExactAFCalculator - this tool is currently set to genotype at most 6 alternate alleles in a given context, but the context at Pf3D7_12_v3:1014315 has 7 alternate alleles so only the top alleles will be used; see the --max_alternate_alleles argument \r\n"
       ]
      },
      {
       "output_type": "stream",
       "stream": "stdout",
       "text": [
        "WARN  08:16:46,997 ExactAFCalculator - this tool is currently set to genotype at most 6 alternate alleles in a given context, but the context at Pf3D7_12_v3:1028316 has 9 alternate alleles so only the top alleles will be used; see the --max_alternate_alleles argument \r\n",
        "WARN  08:16:47,006 ExactAFCalculator - this tool is currently set to genotype at most 6 alternate alleles in a given context, but the context at Pf3D7_12_v3:1029801 has 7 alternate alleles so only the top alleles will be used; see the --max_alternate_alleles argument \r\n",
        "WARN  08:16:47,024 ExactAFCalculator - this tool is currently set to genotype at most 6 alternate alleles in a given context, but the context at Pf3D7_12_v3:1034670 has 7 alternate alleles so only the top alleles will be used; see the --max_alternate_alleles argument \r\n"
       ]
      },
      {
       "output_type": "stream",
       "stream": "stdout",
       "text": [
        "WARN  08:16:47,037 ExactAFCalculator - this tool is currently set to genotype at most 6 alternate alleles in a given context, but the context at Pf3D7_12_v3:1036145 has 7 alternate alleles so only the top alleles will be used; see the --max_alternate_alleles argument \r\n",
        "WARN  08:16:47,056 ExactAFCalculator - this tool is currently set to genotype at most 6 alternate alleles in a given context, but the context at Pf3D7_12_v3:1039313 has 15 alternate alleles so only the top alleles will be used; see the --max_alternate_alleles argument \r\n"
       ]
      },
      {
       "output_type": "stream",
       "stream": "stdout",
       "text": [
        "WARN  08:16:47,146 ExactAFCalculator - this tool is currently set to genotype at most 6 alternate alleles in a given context, but the context at Pf3D7_12_v3:1061678 has 11 alternate alleles so only the top alleles will be used; see the --max_alternate_alleles argument \r\n",
        "WARN  08:16:47,152 ExactAFCalculator - this tool is currently set to genotype at most 6 alternate alleles in a given context, but the context at Pf3D7_12_v3:1062733 has 7 alternate alleles so only the top alleles will be used; see the --max_alternate_alleles argument \r\n",
        "WARN  08:16:47,174 ExactAFCalculator - this tool is currently set to genotype at most 6 alternate alleles in a given context, but the context at Pf3D7_12_v3:1066870 has 9 alternate alleles so only the top alleles will be used; see the --max_alternate_alleles argument \r\n"
       ]
      },
      {
       "output_type": "stream",
       "stream": "stdout",
       "text": [
        "WARN  08:16:47,209 ExactAFCalculator - this tool is currently set to genotype at most 6 alternate alleles in a given context, but the context at Pf3D7_12_v3:1077024 has 10 alternate alleles so only the top alleles will be used; see the --max_alternate_alleles argument \r\n",
        "WARN  08:16:47,233 ExactAFCalculator - this tool is currently set to genotype at most 6 alternate alleles in a given context, but the context at Pf3D7_12_v3:1080931 has 9 alternate alleles so only the top alleles will be used; see the --max_alternate_alleles argument \r\n"
       ]
      },
      {
       "output_type": "stream",
       "stream": "stdout",
       "text": [
        "WARN  08:16:47,261 ExactAFCalculator - this tool is currently set to genotype at most 6 alternate alleles in a given context, but the context at Pf3D7_12_v3:1086620 has 13 alternate alleles so only the top alleles will be used; see the --max_alternate_alleles argument \r\n",
        "WARN  08:16:47,265 ExactAFCalculator - this tool is currently set to genotype at most 6 alternate alleles in a given context, but the context at Pf3D7_12_v3:1086846 has 7 alternate alleles so only the top alleles will be used; see the --max_alternate_alleles argument \r\n",
        "WARN  08:16:47,278 ExactAFCalculator - this tool is currently set to genotype at most 6 alternate alleles in a given context, but the context at Pf3D7_12_v3:1088450 has 7 alternate alleles so only the top alleles will be used; see the --max_alternate_alleles argument \r\n",
        "WARN  08:16:47,279 ExactAFCalculator - this tool is currently set to genotype at most 6 alternate alleles in a given context, but the context at Pf3D7_12_v3:1088463 has 8 alternate alleles so only the top alleles will be used; see the --max_alternate_alleles argument \r\n",
        "WARN  08:16:47,284 ExactAFCalculator - this tool is currently set to genotype at most 6 alternate alleles in a given context, but the context at Pf3D7_12_v3:1090107 has 7 alternate alleles so only the top alleles will be used; see the --max_alternate_alleles argument \r\n"
       ]
      },
      {
       "output_type": "stream",
       "stream": "stdout",
       "text": [
        "WARN  08:16:47,339 ExactAFCalculator - this tool is currently set to genotype at most 6 alternate alleles in a given context, but the context at Pf3D7_12_v3:1097880 has 7 alternate alleles so only the top alleles will be used; see the --max_alternate_alleles argument \r\n"
       ]
      },
      {
       "output_type": "stream",
       "stream": "stdout",
       "text": [
        "WARN  08:16:47,514 ExactAFCalculator - this tool is currently set to genotype at most 6 alternate alleles in a given context, but the context at Pf3D7_12_v3:1133834 has 8 alternate alleles so only the top alleles will be used; see the --max_alternate_alleles argument \r\n",
        "WARN  08:16:47,545 ExactAFCalculator - this tool is currently set to genotype at most 6 alternate alleles in a given context, but the context at Pf3D7_12_v3:1141521 has 7 alternate alleles so only the top alleles will be used; see the --max_alternate_alleles argument \r\n"
       ]
      },
      {
       "output_type": "stream",
       "stream": "stdout",
       "text": [
        "WARN  08:16:47,642 ExactAFCalculator - this tool is currently set to genotype at most 6 alternate alleles in a given context, but the context at Pf3D7_12_v3:1163718 has 10 alternate alleles so only the top alleles will be used; see the --max_alternate_alleles argument \r\n"
       ]
      },
      {
       "output_type": "stream",
       "stream": "stdout",
       "text": [
        "WARN  08:16:47,852 ExactAFCalculator - this tool is currently set to genotype at most 6 alternate alleles in a given context, but the context at Pf3D7_12_v3:1213962 has 11 alternate alleles so only the top alleles will be used; see the --max_alternate_alleles argument \r\n",
        "WARN  08:16:47,873 ExactAFCalculator - this tool is currently set to genotype at most 6 alternate alleles in a given context, but the context at Pf3D7_12_v3:1219250 has 7 alternate alleles so only the top alleles will be used; see the --max_alternate_alleles argument \r\n"
       ]
      },
      {
       "output_type": "stream",
       "stream": "stdout",
       "text": [
        "WARN  08:16:47,892 ExactAFCalculator - this tool is currently set to genotype at most 6 alternate alleles in a given context, but the context at Pf3D7_12_v3:1226748 has 7 alternate alleles so only the top alleles will be used; see the --max_alternate_alleles argument \r\n",
        "WARN  08:16:47,903 ExactAFCalculator - this tool is currently set to genotype at most 6 alternate alleles in a given context, but the context at Pf3D7_12_v3:1228589 has 10 alternate alleles so only the top alleles will be used; see the --max_alternate_alleles argument \r\n",
        "WARN  08:16:47,932 ExactAFCalculator - this tool is currently set to genotype at most 6 alternate alleles in a given context, but the context at Pf3D7_12_v3:1232685 has 7 alternate alleles so only the top alleles will be used; see the --max_alternate_alleles argument \r\n"
       ]
      },
      {
       "output_type": "stream",
       "stream": "stdout",
       "text": [
        "WARN  08:16:47,945 ExactAFCalculator - this tool is currently set to genotype at most 6 alternate alleles in a given context, but the context at Pf3D7_12_v3:1234830 has 8 alternate alleles so only the top alleles will be used; see the --max_alternate_alleles argument \r\n"
       ]
      },
      {
       "output_type": "stream",
       "stream": "stdout",
       "text": [
        "WARN  08:16:48,023 ExactAFCalculator - this tool is currently set to genotype at most 6 alternate alleles in a given context, but the context at Pf3D7_12_v3:1253652 has 7 alternate alleles so only the top alleles will be used; see the --max_alternate_alleles argument \r\n"
       ]
      },
      {
       "output_type": "stream",
       "stream": "stdout",
       "text": [
        "WARN  08:16:48,095 ExactAFCalculator - this tool is currently set to genotype at most 6 alternate alleles in a given context, but the context at Pf3D7_12_v3:1263532 has 7 alternate alleles so only the top alleles will be used; see the --max_alternate_alleles argument \r\n",
        "WARN  08:16:48,101 ExactAFCalculator - this tool is currently set to genotype at most 6 alternate alleles in a given context, but the context at Pf3D7_12_v3:1263819 has 8 alternate alleles so only the top alleles will be used; see the --max_alternate_alleles argument \r\n"
       ]
      },
      {
       "output_type": "stream",
       "stream": "stdout",
       "text": [
        "WARN  08:16:48,169 ExactAFCalculator - this tool is currently set to genotype at most 6 alternate alleles in a given context, but the context at Pf3D7_12_v3:1276330 has 7 alternate alleles so only the top alleles will be used; see the --max_alternate_alleles argument \r\n",
        "WARN  08:16:48,177 ExactAFCalculator - this tool is currently set to genotype at most 6 alternate alleles in a given context, but the context at Pf3D7_12_v3:1277657 has 8 alternate alleles so only the top alleles will be used; see the --max_alternate_alleles argument \r\n",
        "WARN  08:16:48,186 ExactAFCalculator - this tool is currently set to genotype at most 6 alternate alleles in a given context, but the context at Pf3D7_12_v3:1280692 has 7 alternate alleles so only the top alleles will be used; see the --max_alternate_alleles argument \r\n"
       ]
      },
      {
       "output_type": "stream",
       "stream": "stdout",
       "text": [
        "WARN  08:16:48,252 ExactAFCalculator - this tool is currently set to genotype at most 6 alternate alleles in a given context, but the context at Pf3D7_12_v3:1300056 has 8 alternate alleles so only the top alleles will be used; see the --max_alternate_alleles argument \r\n"
       ]
      },
      {
       "output_type": "stream",
       "stream": "stdout",
       "text": [
        "WARN  08:16:48,325 ExactAFCalculator - this tool is currently set to genotype at most 6 alternate alleles in a given context, but the context at Pf3D7_12_v3:1312729 has 8 alternate alleles so only the top alleles will be used; see the --max_alternate_alleles argument \r\n"
       ]
      },
      {
       "output_type": "stream",
       "stream": "stdout",
       "text": [
        "WARN  08:16:48,436 ExactAFCalculator - this tool is currently set to genotype at most 6 alternate alleles in a given context, but the context at Pf3D7_12_v3:1345555 has 8 alternate alleles so only the top alleles will be used; see the --max_alternate_alleles argument \r\n",
        "WARN  08:16:48,449 ExactAFCalculator - this tool is currently set to genotype at most 6 alternate alleles in a given context, but the context at Pf3D7_12_v3:1347720 has 10 alternate alleles so only the top alleles will be used; see the --max_alternate_alleles argument \r\n"
       ]
      },
      {
       "output_type": "stream",
       "stream": "stdout",
       "text": [
        "WARN  08:16:48,454 ExactAFCalculator - this tool is currently set to genotype at most 6 alternate alleles in a given context, but the context at Pf3D7_12_v3:1349175 has 7 alternate alleles so only the top alleles will be used; see the --max_alternate_alleles argument \r\n",
        "WARN  08:16:48,459 ExactAFCalculator - this tool is currently set to genotype at most 6 alternate alleles in a given context, but the context at Pf3D7_12_v3:1350578 has 9 alternate alleles so only the top alleles will be used; see the --max_alternate_alleles argument \r\n",
        "WARN  08:16:48,462 ExactAFCalculator - this tool is currently set to genotype at most 6 alternate alleles in a given context, but the context at Pf3D7_12_v3:1350948 has 9 alternate alleles so only the top alleles will be used; see the --max_alternate_alleles argument \r\n",
        "WARN  08:16:48,469 ExactAFCalculator - this tool is currently set to genotype at most 6 alternate alleles in a given context, but the context at Pf3D7_12_v3:1352478 has 8 alternate alleles so only the top alleles will be used; see the --max_alternate_alleles argument \r\n"
       ]
      },
      {
       "output_type": "stream",
       "stream": "stdout",
       "text": [
        "WARN  08:16:48,514 ExactAFCalculator - this tool is currently set to genotype at most 6 alternate alleles in a given context, but the context at Pf3D7_12_v3:1370681 has 10 alternate alleles so only the top alleles will be used; see the --max_alternate_alleles argument \r\n",
        "WARN  08:16:48,536 ExactAFCalculator - this tool is currently set to genotype at most 6 alternate alleles in a given context, but the context at Pf3D7_12_v3:1374191 has 7 alternate alleles so only the top alleles will be used; see the --max_alternate_alleles argument \r\n",
        "WARN  08:16:48,556 ExactAFCalculator - this tool is currently set to genotype at most 6 alternate alleles in a given context, but the context at Pf3D7_12_v3:1382435 has 7 alternate alleles so only the top alleles will be used; see the --max_alternate_alleles argument \r\n"
       ]
      },
      {
       "output_type": "stream",
       "stream": "stdout",
       "text": [
        "WARN  08:16:48,621 ExactAFCalculator - this tool is currently set to genotype at most 6 alternate alleles in a given context, but the context at Pf3D7_12_v3:1407484 has 9 alternate alleles so only the top alleles will be used; see the --max_alternate_alleles argument \r\n",
        "WARN  08:16:48,634 ExactAFCalculator - this tool is currently set to genotype at most 6 alternate alleles in a given context, but the context at Pf3D7_12_v3:1413172 has 7 alternate alleles so only the top alleles will be used; see the --max_alternate_alleles argument \r\n"
       ]
      },
      {
       "output_type": "stream",
       "stream": "stdout",
       "text": [
        "WARN  08:16:48,692 ExactAFCalculator - this tool is currently set to genotype at most 6 alternate alleles in a given context, but the context at Pf3D7_12_v3:1436633 has 9 alternate alleles so only the top alleles will be used; see the --max_alternate_alleles argument \r\n"
       ]
      },
      {
       "output_type": "stream",
       "stream": "stdout",
       "text": [
        "WARN  08:16:48,723 ExactAFCalculator - this tool is currently set to genotype at most 6 alternate alleles in a given context, but the context at Pf3D7_12_v3:1445811 has 8 alternate alleles so only the top alleles will be used; see the --max_alternate_alleles argument \r\n",
        "WARN  08:16:48,744 ExactAFCalculator - this tool is currently set to genotype at most 6 alternate alleles in a given context, but the context at Pf3D7_12_v3:1452553 has 10 alternate alleles so only the top alleles will be used; see the --max_alternate_alleles argument \r\n",
        "WARN  08:16:48,760 ExactAFCalculator - this tool is currently set to genotype at most 6 alternate alleles in a given context, but the context at Pf3D7_12_v3:1458453 has 7 alternate alleles so only the top alleles will be used; see the --max_alternate_alleles argument \r\n"
       ]
      },
      {
       "output_type": "stream",
       "stream": "stdout",
       "text": [
        "WARN  08:16:48,775 ExactAFCalculator - this tool is currently set to genotype at most 6 alternate alleles in a given context, but the context at Pf3D7_12_v3:1463329 has 7 alternate alleles so only the top alleles will be used; see the --max_alternate_alleles argument \r\n",
        "WARN  08:16:48,815 ExactAFCalculator - this tool is currently set to genotype at most 6 alternate alleles in a given context, but the context at Pf3D7_12_v3:1476442 has 7 alternate alleles so only the top alleles will be used; see the --max_alternate_alleles argument \r\n"
       ]
      },
      {
       "output_type": "stream",
       "stream": "stdout",
       "text": [
        "WARN  08:16:48,870 ExactAFCalculator - this tool is currently set to genotype at most 6 alternate alleles in a given context, but the context at Pf3D7_12_v3:1495105 has 8 alternate alleles so only the top alleles will be used; see the --max_alternate_alleles argument \r\n"
       ]
      },
      {
       "output_type": "stream",
       "stream": "stdout",
       "text": [
        "WARN  08:16:48,910 ExactAFCalculator - this tool is currently set to genotype at most 6 alternate alleles in a given context, but the context at Pf3D7_12_v3:1504963 has 7 alternate alleles so only the top alleles will be used; see the --max_alternate_alleles argument \r\n"
       ]
      },
      {
       "output_type": "stream",
       "stream": "stdout",
       "text": [
        "WARN  08:16:48,958 ExactAFCalculator - this tool is currently set to genotype at most 6 alternate alleles in a given context, but the context at Pf3D7_12_v3:1517756 has 10 alternate alleles so only the top alleles will be used; see the --max_alternate_alleles argument \r\n"
       ]
      },
      {
       "output_type": "stream",
       "stream": "stdout",
       "text": [
        "WARN  08:16:49,023 ExactAFCalculator - this tool is currently set to genotype at most 6 alternate alleles in a given context, but the context at Pf3D7_12_v3:1534810 has 12 alternate alleles so only the top alleles will be used; see the --max_alternate_alleles argument \r\n"
       ]
      },
      {
       "output_type": "stream",
       "stream": "stdout",
       "text": [
        "WARN  08:16:49,069 ExactAFCalculator - this tool is currently set to genotype at most 6 alternate alleles in a given context, but the context at Pf3D7_12_v3:1549232 has 7 alternate alleles so only the top alleles will be used; see the --max_alternate_alleles argument \r\n"
       ]
      },
      {
       "output_type": "stream",
       "stream": "stdout",
       "text": [
        "WARN  08:16:49,114 ExactAFCalculator - this tool is currently set to genotype at most 6 alternate alleles in a given context, but the context at Pf3D7_12_v3:1559094 has 7 alternate alleles so only the top alleles will be used; see the --max_alternate_alleles argument \r\n",
        "WARN  08:16:49,117 ExactAFCalculator - this tool is currently set to genotype at most 6 alternate alleles in a given context, but the context at Pf3D7_12_v3:1559135 has 7 alternate alleles so only the top alleles will be used; see the --max_alternate_alleles argument \r\n"
       ]
      },
      {
       "output_type": "stream",
       "stream": "stdout",
       "text": [
        "WARN  08:16:49,216 ExactAFCalculator - this tool is currently set to genotype at most 6 alternate alleles in a given context, but the context at Pf3D7_12_v3:1581438 has 7 alternate alleles so only the top alleles will be used; see the --max_alternate_alleles argument \r\n",
        "WARN  08:16:49,225 ExactAFCalculator - this tool is currently set to genotype at most 6 alternate alleles in a given context, but the context at Pf3D7_12_v3:1582849 has 11 alternate alleles so only the top alleles will be used; see the --max_alternate_alleles argument \r\n"
       ]
      },
      {
       "output_type": "stream",
       "stream": "stdout",
       "text": [
        "WARN  08:16:49,267 ExactAFCalculator - this tool is currently set to genotype at most 6 alternate alleles in a given context, but the context at Pf3D7_12_v3:1593718 has 10 alternate alleles so only the top alleles will be used; see the --max_alternate_alleles argument \r\n"
       ]
      },
      {
       "output_type": "stream",
       "stream": "stdout",
       "text": [
        "WARN  08:16:49,292 ExactAFCalculator - this tool is currently set to genotype at most 6 alternate alleles in a given context, but the context at Pf3D7_12_v3:1600146 has 7 alternate alleles so only the top alleles will be used; see the --max_alternate_alleles argument \r\n"
       ]
      },
      {
       "output_type": "stream",
       "stream": "stdout",
       "text": [
        "WARN  08:16:49,360 ExactAFCalculator - this tool is currently set to genotype at most 6 alternate alleles in a given context, but the context at Pf3D7_12_v3:1618968 has 7 alternate alleles so only the top alleles will be used; see the --max_alternate_alleles argument \r\n",
        "WARN  08:16:49,367 ExactAFCalculator - this tool is currently set to genotype at most 6 alternate alleles in a given context, but the context at Pf3D7_12_v3:1620747 has 7 alternate alleles so only the top alleles will be used; see the --max_alternate_alleles argument \r\n"
       ]
      },
      {
       "output_type": "stream",
       "stream": "stdout",
       "text": [
        "WARN  08:16:49,509 ExactAFCalculator - this tool is currently set to genotype at most 6 alternate alleles in a given context, but the context at Pf3D7_12_v3:1659680 has 7 alternate alleles so only the top alleles will be used; see the --max_alternate_alleles argument \r\n",
        "WARN  08:16:49,537 ExactAFCalculator - this tool is currently set to genotype at most 6 alternate alleles in a given context, but the context at Pf3D7_12_v3:1677889 has 8 alternate alleles so only the top alleles will be used; see the --max_alternate_alleles argument \r\n",
        "WARN  08:16:49,551 ExactAFCalculator - this tool is currently set to genotype at most 6 alternate alleles in a given context, but the context at Pf3D7_12_v3:1682597 has 7 alternate alleles so only the top alleles will be used; see the --max_alternate_alleles argument \r\n"
       ]
      },
      {
       "output_type": "stream",
       "stream": "stdout",
       "text": [
        "WARN  08:16:49,562 ExactAFCalculator - this tool is currently set to genotype at most 6 alternate alleles in a given context, but the context at Pf3D7_12_v3:1685929 has 7 alternate alleles so only the top alleles will be used; see the --max_alternate_alleles argument \r\n",
        "WARN  08:16:49,586 ExactAFCalculator - this tool is currently set to genotype at most 6 alternate alleles in a given context, but the context at Pf3D7_12_v3:1692939 has 7 alternate alleles so only the top alleles will be used; see the --max_alternate_alleles argument \r\n"
       ]
      },
      {
       "output_type": "stream",
       "stream": "stdout",
       "text": [
        "WARN  08:16:50,291 ExactAFCalculator - this tool is currently set to genotype at most 6 alternate alleles in a given context, but the context at Pf3D7_12_v3:1746195 has 8 alternate alleles so only the top alleles will be used; see the --max_alternate_alleles argument \r\n"
       ]
      },
      {
       "output_type": "stream",
       "stream": "stdout",
       "text": [
        "WARN  08:16:50,352 ExactAFCalculator - this tool is currently set to genotype at most 6 alternate alleles in a given context, but the context at Pf3D7_12_v3:1769752 has 8 alternate alleles so only the top alleles will be used; see the --max_alternate_alleles argument \r\n",
        "WARN  08:16:50,358 ExactAFCalculator - this tool is currently set to genotype at most 6 alternate alleles in a given context, but the context at Pf3D7_12_v3:1770979 has 8 alternate alleles so only the top alleles will be used; see the --max_alternate_alleles argument \r\n",
        "WARN  08:16:50,365 ExactAFCalculator - this tool is currently set to genotype at most 6 alternate alleles in a given context, but the context at Pf3D7_12_v3:1773332 has 8 alternate alleles so only the top alleles will be used; see the --max_alternate_alleles argument \r\n",
        "WARN  08:16:50,389 ExactAFCalculator - this tool is currently set to genotype at most 6 alternate alleles in a given context, but the context at Pf3D7_12_v3:1779424 has 7 alternate alleles so only the top alleles will be used; see the --max_alternate_alleles argument \r\n"
       ]
      },
      {
       "output_type": "stream",
       "stream": "stdout",
       "text": [
        "WARN  08:16:50,442 ExactAFCalculator - this tool is currently set to genotype at most 6 alternate alleles in a given context, but the context at Pf3D7_12_v3:1794345 has 9 alternate alleles so only the top alleles will be used; see the --max_alternate_alleles argument \r\n"
       ]
      },
      {
       "output_type": "stream",
       "stream": "stdout",
       "text": [
        "WARN  08:16:50,460 ExactAFCalculator - this tool is currently set to genotype at most 6 alternate alleles in a given context, but the context at Pf3D7_12_v3:1800369 has 8 alternate alleles so only the top alleles will be used; see the --max_alternate_alleles argument \r\n",
        "WARN  08:16:50,481 ExactAFCalculator - this tool is currently set to genotype at most 6 alternate alleles in a given context, but the context at Pf3D7_12_v3:1806686 has 8 alternate alleles so only the top alleles will be used; see the --max_alternate_alleles argument \r\n"
       ]
      },
      {
       "output_type": "stream",
       "stream": "stdout",
       "text": [
        "WARN  08:16:50,502 ExactAFCalculator - this tool is currently set to genotype at most 6 alternate alleles in a given context, but the context at Pf3D7_12_v3:1811734 has 8 alternate alleles so only the top alleles will be used; see the --max_alternate_alleles argument \r\n",
        "WARN  08:16:50,533 ExactAFCalculator - this tool is currently set to genotype at most 6 alternate alleles in a given context, but the context at Pf3D7_12_v3:1822217 has 7 alternate alleles so only the top alleles will be used; see the --max_alternate_alleles argument \r\n"
       ]
      },
      {
       "output_type": "stream",
       "stream": "stdout",
       "text": [
        "WARN  08:16:50,568 ExactAFCalculator - this tool is currently set to genotype at most 6 alternate alleles in a given context, but the context at Pf3D7_12_v3:1831173 has 7 alternate alleles so only the top alleles will be used; see the --max_alternate_alleles argument \r\n",
        "WARN  08:16:50,594 ExactAFCalculator - this tool is currently set to genotype at most 6 alternate alleles in a given context, but the context at Pf3D7_12_v3:1840242 has 7 alternate alleles so only the top alleles will be used; see the --max_alternate_alleles argument \r\n",
        "WARN  08:16:50,600 ExactAFCalculator - this tool is currently set to genotype at most 6 alternate alleles in a given context, but the context at Pf3D7_12_v3:1841264 has 7 alternate alleles so only the top alleles will be used; see the --max_alternate_alleles argument \r\n"
       ]
      },
      {
       "output_type": "stream",
       "stream": "stdout",
       "text": [
        "WARN  08:16:50,634 ExactAFCalculator - this tool is currently set to genotype at most 6 alternate alleles in a given context, but the context at Pf3D7_12_v3:1852719 has 7 alternate alleles so only the top alleles will be used; see the --max_alternate_alleles argument \r\n"
       ]
      },
      {
       "output_type": "stream",
       "stream": "stdout",
       "text": [
        "WARN  08:16:50,672 ExactAFCalculator - this tool is currently set to genotype at most 6 alternate alleles in a given context, but the context at Pf3D7_12_v3:1867337 has 10 alternate alleles so only the top alleles will be used; see the --max_alternate_alleles argument \r\n"
       ]
      },
      {
       "output_type": "stream",
       "stream": "stdout",
       "text": [
        "WARN  08:16:50,723 ExactAFCalculator - this tool is currently set to genotype at most 6 alternate alleles in a given context, but the context at Pf3D7_12_v3:1879859 has 8 alternate alleles so only the top alleles will be used; see the --max_alternate_alleles argument \r\n",
        "WARN  08:16:50,735 ExactAFCalculator - this tool is currently set to genotype at most 6 alternate alleles in a given context, but the context at Pf3D7_12_v3:1882381 has 9 alternate alleles so only the top alleles will be used; see the --max_alternate_alleles argument \r\n",
        "WARN  08:16:50,752 ExactAFCalculator - this tool is currently set to genotype at most 6 alternate alleles in a given context, but the context at Pf3D7_12_v3:1888209 has 7 alternate alleles so only the top alleles will be used; see the --max_alternate_alleles argument \r\n"
       ]
      },
      {
       "output_type": "stream",
       "stream": "stdout",
       "text": [
        "WARN  08:16:50,768 ExactAFCalculator - this tool is currently set to genotype at most 6 alternate alleles in a given context, but the context at Pf3D7_12_v3:1893910 has 9 alternate alleles so only the top alleles will be used; see the --max_alternate_alleles argument \r\n",
        "WARN  08:16:50,783 ExactAFCalculator - this tool is currently set to genotype at most 6 alternate alleles in a given context, but the context at Pf3D7_12_v3:1896965 has 7 alternate alleles so only the top alleles will be used; see the --max_alternate_alleles argument \r\n"
       ]
      },
      {
       "output_type": "stream",
       "stream": "stdout",
       "text": [
        "WARN  08:16:50,890 ExactAFCalculator - this tool is currently set to genotype at most 6 alternate alleles in a given context, but the context at Pf3D7_12_v3:1923341 has 7 alternate alleles so only the top alleles will be used; see the --max_alternate_alleles argument \r\n",
        "WARN  08:16:50,916 ExactAFCalculator - this tool is currently set to genotype at most 6 alternate alleles in a given context, but the context at Pf3D7_12_v3:1928872 has 11 alternate alleles so only the top alleles will be used; see the --max_alternate_alleles argument \r\n",
        "WARN  08:16:50,920 ExactAFCalculator - this tool is currently set to genotype at most 6 alternate alleles in a given context, but the context at Pf3D7_12_v3:1930070 has 7 alternate alleles so only the top alleles will be used; see the --max_alternate_alleles argument \r\n"
       ]
      },
      {
       "output_type": "stream",
       "stream": "stdout",
       "text": [
        "WARN  08:16:50,942 ExactAFCalculator - this tool is currently set to genotype at most 6 alternate alleles in a given context, but the context at Pf3D7_12_v3:1933348 has 7 alternate alleles so only the top alleles will be used; see the --max_alternate_alleles argument \r\n",
        "WARN  08:16:50,959 ExactAFCalculator - this tool is currently set to genotype at most 6 alternate alleles in a given context, but the context at Pf3D7_12_v3:1938098 has 7 alternate alleles so only the top alleles will be used; see the --max_alternate_alleles argument \r\n"
       ]
      },
      {
       "output_type": "stream",
       "stream": "stdout",
       "text": [
        "WARN  08:16:50,974 ExactAFCalculator - this tool is currently set to genotype at most 6 alternate alleles in a given context, but the context at Pf3D7_12_v3:1942123 has 7 alternate alleles so only the top alleles will be used; see the --max_alternate_alleles argument \r\n",
        "WARN  08:16:50,976 ExactAFCalculator - this tool is currently set to genotype at most 6 alternate alleles in a given context, but the context at Pf3D7_12_v3:1942532 has 7 alternate alleles so only the top alleles will be used; see the --max_alternate_alleles argument \r\n",
        "WARN  08:16:50,976 ExactAFCalculator - this tool is currently set to genotype at most 6 alternate alleles in a given context, but the context at Pf3D7_12_v3:1942534 has 9 alternate alleles so only the top alleles will be used; see the --max_alternate_alleles argument \r\n",
        "WARN  08:16:50,986 ExactAFCalculator - this tool is currently set to genotype at most 6 alternate alleles in a given context, but the context at Pf3D7_12_v3:1945846 has 7 alternate alleles so only the top alleles will be used; see the --max_alternate_alleles argument \r\n"
       ]
      },
      {
       "output_type": "stream",
       "stream": "stdout",
       "text": [
        "WARN  08:16:51,099 ExactAFCalculator - this tool is currently set to genotype at most 6 alternate alleles in a given context, but the context at Pf3D7_12_v3:1969781 has 7 alternate alleles so only the top alleles will be used; see the --max_alternate_alleles argument \r\n",
        "WARN  08:16:51,114 ExactAFCalculator - this tool is currently set to genotype at most 6 alternate alleles in a given context, but the context at Pf3D7_12_v3:1972301 has 9 alternate alleles so only the top alleles will be used; see the --max_alternate_alleles argument \r\n",
        "WARN  08:16:51,116 ExactAFCalculator - this tool is currently set to genotype at most 6 alternate alleles in a given context, but the context at Pf3D7_12_v3:1973114 has 7 alternate alleles so only the top alleles will be used; see the --max_alternate_alleles argument \r\n"
       ]
      },
      {
       "output_type": "stream",
       "stream": "stdout",
       "text": [
        "WARN  08:16:51,167 ExactAFCalculator - this tool is currently set to genotype at most 6 alternate alleles in a given context, but the context at Pf3D7_12_v3:1984394 has 9 alternate alleles so only the top alleles will be used; see the --max_alternate_alleles argument \r\n"
       ]
      },
      {
       "output_type": "stream",
       "stream": "stdout",
       "text": [
        "WARN  08:16:51,201 ExactAFCalculator - this tool is currently set to genotype at most 6 alternate alleles in a given context, but the context at Pf3D7_12_v3:1991312 has 7 alternate alleles so only the top alleles will be used; see the --max_alternate_alleles argument \r\n",
        "WARN  08:16:51,202 ExactAFCalculator - this tool is currently set to genotype at most 6 alternate alleles in a given context, but the context at Pf3D7_12_v3:1991343 has 7 alternate alleles so only the top alleles will be used; see the --max_alternate_alleles argument \r\n"
       ]
      },
      {
       "output_type": "stream",
       "stream": "stdout",
       "text": [
        "WARN  08:16:51,330 ExactAFCalculator - this tool is currently set to genotype at most 6 alternate alleles in a given context, but the context at Pf3D7_12_v3:2011453 has 8 alternate alleles so only the top alleles will be used; see the --max_alternate_alleles argument \r\n"
       ]
      },
      {
       "output_type": "stream",
       "stream": "stdout",
       "text": [
        "WARN  08:16:51,371 ExactAFCalculator - this tool is currently set to genotype at most 6 alternate alleles in a given context, but the context at Pf3D7_12_v3:2022073 has 10 alternate alleles so only the top alleles will be used; see the --max_alternate_alleles argument \r\n",
        "WARN  08:16:51,379 ExactAFCalculator - this tool is currently set to genotype at most 6 alternate alleles in a given context, but the context at Pf3D7_12_v3:2023279 has 7 alternate alleles so only the top alleles will be used; see the --max_alternate_alleles argument \r\n"
       ]
      },
      {
       "output_type": "stream",
       "stream": "stdout",
       "text": [
        "WARN  08:16:51,396 ExactAFCalculator - this tool is currently set to genotype at most 6 alternate alleles in a given context, but the context at Pf3D7_12_v3:2028261 has 8 alternate alleles so only the top alleles will be used; see the --max_alternate_alleles argument \r\n",
        "WARN  08:16:51,406 ExactAFCalculator - this tool is currently set to genotype at most 6 alternate alleles in a given context, but the context at Pf3D7_12_v3:2029977 has 7 alternate alleles so only the top alleles will be used; see the --max_alternate_alleles argument \r\n"
       ]
      },
      {
       "output_type": "stream",
       "stream": "stdout",
       "text": [
        "WARN  08:16:51,483 ExactAFCalculator - this tool is currently set to genotype at most 6 alternate alleles in a given context, but the context at Pf3D7_12_v3:2057724 has 7 alternate alleles so only the top alleles will be used; see the --max_alternate_alleles argument \r\n"
       ]
      },
      {
       "output_type": "stream",
       "stream": "stdout",
       "text": [
        "WARN  08:16:51,499 ExactAFCalculator - this tool is currently set to genotype at most 6 alternate alleles in a given context, but the context at Pf3D7_12_v3:2062281 has 9 alternate alleles so only the top alleles will be used; see the --max_alternate_alleles argument \r\n",
        "WARN  08:16:51,500 ExactAFCalculator - this tool is currently set to genotype at most 6 alternate alleles in a given context, but the context at Pf3D7_12_v3:2062303 has 8 alternate alleles so only the top alleles will be used; see the --max_alternate_alleles argument \r\n",
        "WARN  08:16:51,543 ExactAFCalculator - this tool is currently set to genotype at most 6 alternate alleles in a given context, but the context at Pf3D7_12_v3:2073794 has 8 alternate alleles so only the top alleles will be used; see the --max_alternate_alleles argument \r\n"
       ]
      },
      {
       "output_type": "stream",
       "stream": "stdout",
       "text": [
        "WARN  08:16:51,545 ExactAFCalculator - this tool is currently set to genotype at most 6 alternate alleles in a given context, but the context at Pf3D7_12_v3:2074076 has 7 alternate alleles so only the top alleles will be used; see the --max_alternate_alleles argument \r\n",
        "WARN  08:16:51,556 ExactAFCalculator - this tool is currently set to genotype at most 6 alternate alleles in a given context, but the context at Pf3D7_12_v3:2075968 has 8 alternate alleles so only the top alleles will be used; see the --max_alternate_alleles argument \r\n"
       ]
      },
      {
       "output_type": "stream",
       "stream": "stdout",
       "text": [
        "WARN  08:16:51,723 ExactAFCalculator - this tool is currently set to genotype at most 6 alternate alleles in a given context, but the context at Pf3D7_12_v3:2121901 has 7 alternate alleles so only the top alleles will be used; see the --max_alternate_alleles argument \r\n",
        "WARN  08:16:51,740 ExactAFCalculator - this tool is currently set to genotype at most 6 alternate alleles in a given context, but the context at Pf3D7_12_v3:2127779 has 7 alternate alleles so only the top alleles will be used; see the --max_alternate_alleles argument \r\n"
       ]
      },
      {
       "output_type": "stream",
       "stream": "stdout",
       "text": [
        "WARN  08:16:51,768 ExactAFCalculator - this tool is currently set to genotype at most 6 alternate alleles in a given context, but the context at Pf3D7_12_v3:2134208 has 7 alternate alleles so only the top alleles will be used; see the --max_alternate_alleles argument \r\n",
        "WARN  08:16:51,770 ExactAFCalculator - this tool is currently set to genotype at most 6 alternate alleles in a given context, but the context at Pf3D7_12_v3:2134483 has 8 alternate alleles so only the top alleles will be used; see the --max_alternate_alleles argument \r\n",
        "WARN  08:16:51,777 ExactAFCalculator - this tool is currently set to genotype at most 6 alternate alleles in a given context, but the context at Pf3D7_12_v3:2135729 has 7 alternate alleles so only the top alleles will be used; see the --max_alternate_alleles argument \r\n",
        "WARN  08:16:51,796 ExactAFCalculator - this tool is currently set to genotype at most 6 alternate alleles in a given context, but the context at Pf3D7_12_v3:2144978 has 8 alternate alleles so only the top alleles will be used; see the --max_alternate_alleles argument \r\n"
       ]
      },
      {
       "output_type": "stream",
       "stream": "stdout",
       "text": [
        "WARN  08:16:51,822 ExactAFCalculator - this tool is currently set to genotype at most 6 alternate alleles in a given context, but the context at Pf3D7_12_v3:2152333 has 7 alternate alleles so only the top alleles will be used; see the --max_alternate_alleles argument \r\n",
        "WARN  08:16:51,826 ExactAFCalculator - this tool is currently set to genotype at most 6 alternate alleles in a given context, but the context at Pf3D7_12_v3:2153135 has 7 alternate alleles so only the top alleles will be used; see the --max_alternate_alleles argument \r\n"
       ]
      },
      {
       "output_type": "stream",
       "stream": "stdout",
       "text": [
        "WARN  08:16:51,864 ExactAFCalculator - this tool is currently set to genotype at most 6 alternate alleles in a given context, but the context at Pf3D7_12_v3:2166588 has 8 alternate alleles so only the top alleles will be used; see the --max_alternate_alleles argument \r\n"
       ]
      },
      {
       "output_type": "stream",
       "stream": "stdout",
       "text": [
        "INFO  08:16:52,936 ProgressMeter -            done   2271494.0    15.0 s       6.0 s       73.4%    20.0 s       5.0 s \r\n",
        "INFO  08:16:52,937 ProgressMeter - Total runtime 15.68 secs, 0.26 min, 0.00 hours \r\n"
       ]
      },
      {
       "output_type": "stream",
       "stream": "stdout",
       "text": [
        "INFO  08:16:56,442 GATKRunReport - Uploaded run statistics report to AWS S3 \r\n"
       ]
      },
      {
       "output_type": "stream",
       "stream": "stdout",
       "text": [
        "INFO  08:16:58,188 HelpFormatter - -------------------------------------------------------------------------------- \r\n",
        "INFO  08:16:58,190 HelpFormatter - The Genome Analysis Toolkit (GATK) v3.4-0-g7e26428, Compiled 2015/05/15 03:25:41 \r\n",
        "INFO  08:16:58,190 HelpFormatter - Copyright (c) 2010 The Broad Institute \r\n",
        "INFO  08:16:58,190 HelpFormatter - For support and documentation go to http://www.broadinstitute.org/gatk \r\n",
        "INFO  08:16:58,193 HelpFormatter - Program Args: -T CombineGVCFs -R /data/plasmodium/pfalciparum/recon/roamato/Pf3D7_v3/3D7_sorted.fa --variant /nfs/team112_internal/production_files/Pf3k/methods/assembled_samples/vcfs/gvcf/lists/gvcfs.Pf3D7_13_v3.0.list -o /nfs/team112_internal/production_files/Pf3k/methods/assembled_samples/vcfs/gvcf/combined_gvcf/combined.Pf3D7_13_v3.0.g.vcf \r\n",
        "INFO  08:16:58,200 HelpFormatter - Executing as rpearson@dhcp511.well.ox.ac.uk on Mac OS X 10.10.3 x86_64; Java HotSpot(TM) 64-Bit Server VM 1.7.0_60-b19. \r\n",
        "INFO  08:16:58,200 HelpFormatter - Date/Time: 2015/07/01 08:16:58 \r\n",
        "INFO  08:16:58,200 HelpFormatter - -------------------------------------------------------------------------------- \r\n",
        "INFO  08:16:58,200 HelpFormatter - -------------------------------------------------------------------------------- \r\n"
       ]
      },
      {
       "output_type": "stream",
       "stream": "stdout",
       "text": [
        "INFO  08:16:58,588 GenomeAnalysisEngine - Strictness is SILENT \r\n"
       ]
      },
      {
       "output_type": "stream",
       "stream": "stdout",
       "text": [
        "INFO  08:16:58,642 GenomeAnalysisEngine - Downsampling Settings: Method: BY_SAMPLE, Target Coverage: 1000 \r\n"
       ]
      },
      {
       "output_type": "stream",
       "stream": "stdout",
       "text": [
        "INFO  08:16:58,772 GenomeAnalysisEngine - Preparing for traversal \r\n",
        "INFO  08:16:58,773 GenomeAnalysisEngine - Done preparing for traversal \r\n",
        "INFO  08:16:58,773 ProgressMeter - [INITIALIZATION COMPLETE; STARTING PROCESSING] \r\n",
        "INFO  08:16:58,774 ProgressMeter -                 | processed |    time |    per 1M |           |   total | remaining \r\n",
        "INFO  08:16:58,774 ProgressMeter -        Location |     sites | elapsed |     sites | completed | runtime |   runtime \r\n"
       ]
      },
      {
       "output_type": "stream",
       "stream": "stdout",
       "text": [
        "INFO  08:17:09,736 ProgressMeter -            done   2925236.0    10.0 s       3.0 s       85.9%    11.0 s       1.0 s \r\n",
        "INFO  08:17:09,736 ProgressMeter - Total runtime 10.96 secs, 0.18 min, 0.00 hours \r\n"
       ]
      },
      {
       "output_type": "stream",
       "stream": "stdout",
       "text": [
        "INFO  08:17:18,472 GATKRunReport - Uploaded run statistics report to AWS S3 \r\n"
       ]
      },
      {
       "output_type": "stream",
       "stream": "stdout",
       "text": [
        "INFO  08:17:20,108 HelpFormatter - -------------------------------------------------------------------------------- \r\n",
        "INFO  08:17:20,109 HelpFormatter - The Genome Analysis Toolkit (GATK) v3.4-0-g7e26428, Compiled 2015/05/15 03:25:41 \r\n",
        "INFO  08:17:20,109 HelpFormatter - Copyright (c) 2010 The Broad Institute \r\n",
        "INFO  08:17:20,109 HelpFormatter - For support and documentation go to http://www.broadinstitute.org/gatk \r\n",
        "INFO  08:17:20,113 HelpFormatter - Program Args: -T CombineGVCFs -R /data/plasmodium/pfalciparum/recon/roamato/Pf3D7_v3/3D7_sorted.fa --variant /nfs/team112_internal/production_files/Pf3k/methods/assembled_samples/vcfs/gvcf/lists/gvcfs.Pf3D7_13_v3.1.list -o /nfs/team112_internal/production_files/Pf3k/methods/assembled_samples/vcfs/gvcf/combined_gvcf/combined.Pf3D7_13_v3.1.g.vcf \r\n"
       ]
      },
      {
       "output_type": "stream",
       "stream": "stdout",
       "text": [
        "INFO  08:17:20,120 HelpFormatter - Executing as rpearson@dhcp511.well.ox.ac.uk on Mac OS X 10.10.3 x86_64; Java HotSpot(TM) 64-Bit Server VM 1.7.0_60-b19. \r\n",
        "INFO  08:17:20,121 HelpFormatter - Date/Time: 2015/07/01 08:17:20 \r\n",
        "INFO  08:17:20,121 HelpFormatter - -------------------------------------------------------------------------------- \r\n",
        "INFO  08:17:20,121 HelpFormatter - -------------------------------------------------------------------------------- \r\n"
       ]
      },
      {
       "output_type": "stream",
       "stream": "stdout",
       "text": [
        "INFO  08:17:20,516 GenomeAnalysisEngine - Strictness is SILENT \r\n"
       ]
      },
      {
       "output_type": "stream",
       "stream": "stdout",
       "text": [
        "INFO  08:17:20,567 GenomeAnalysisEngine - Downsampling Settings: Method: BY_SAMPLE, Target Coverage: 1000 \r\n"
       ]
      },
      {
       "output_type": "stream",
       "stream": "stdout",
       "text": [
        "INFO  08:17:20,695 GenomeAnalysisEngine - Preparing for traversal \r\n"
       ]
      },
      {
       "output_type": "stream",
       "stream": "stdout",
       "text": [
        "INFO  08:17:20,697 GenomeAnalysisEngine - Done preparing for traversal \r\n",
        "INFO  08:17:20,697 ProgressMeter - [INITIALIZATION COMPLETE; STARTING PROCESSING] \r\n",
        "INFO  08:17:20,697 ProgressMeter -                 | processed |    time |    per 1M |           |   total | remaining \r\n",
        "INFO  08:17:20,698 ProgressMeter -        Location |     sites | elapsed |     sites | completed | runtime |   runtime \r\n"
       ]
      },
      {
       "output_type": "stream",
       "stream": "stdout",
       "text": [
        "INFO  08:17:32,105 ProgressMeter -            done   2925236.0    11.0 s       3.0 s       85.9%    12.0 s       1.0 s \r\n",
        "INFO  08:17:32,105 ProgressMeter - Total runtime 11.41 secs, 0.19 min, 0.00 hours \r\n"
       ]
      },
      {
       "output_type": "stream",
       "stream": "stdout",
       "text": [
        "INFO  08:17:35,952 GATKRunReport - Uploaded run statistics report to AWS S3 \r\n"
       ]
      },
      {
       "output_type": "stream",
       "stream": "stdout",
       "text": [
        "INFO  08:17:37,690 HelpFormatter - -------------------------------------------------------------------------------- \r\n",
        "INFO  08:17:37,692 HelpFormatter - The Genome Analysis Toolkit (GATK) v3.4-0-g7e26428, Compiled 2015/05/15 03:25:41 \r\n",
        "INFO  08:17:37,693 HelpFormatter - Copyright (c) 2010 The Broad Institute \r\n",
        "INFO  08:17:37,693 HelpFormatter - For support and documentation go to http://www.broadinstitute.org/gatk \r\n",
        "INFO  08:17:37,697 HelpFormatter - Program Args: -T GenotypeGVCFs -R /data/plasmodium/pfalciparum/recon/roamato/Pf3D7_v3/3D7_sorted.fa --variant /nfs/team112_internal/production_files/Pf3k/methods/assembled_samples/vcfs/gvcf/lists/gvcfs.Pf3D7_13_v3.all.list -o /nfs/team112_internal/production_files/Pf3k/methods/assembled_samples/vcfs/vcf/raw.snps.indels.Pf3D7_13_v3.vcf \r\n",
        "INFO  08:17:37,703 HelpFormatter - Executing as rpearson@dhcp511.well.ox.ac.uk on Mac OS X 10.10.3 x86_64; Java HotSpot(TM) 64-Bit Server VM 1.7.0_60-b19. \r\n",
        "INFO  08:17:37,704 HelpFormatter - Date/Time: 2015/07/01 08:17:37 \r\n",
        "INFO  08:17:37,704 HelpFormatter - -------------------------------------------------------------------------------- \r\n",
        "INFO  08:17:37,704 HelpFormatter - -------------------------------------------------------------------------------- \r\n"
       ]
      },
      {
       "output_type": "stream",
       "stream": "stdout",
       "text": [
        "INFO  08:17:38,121 GenomeAnalysisEngine - Strictness is SILENT \r\n"
       ]
      },
      {
       "output_type": "stream",
       "stream": "stdout",
       "text": [
        "INFO  08:17:38,180 GenomeAnalysisEngine - Downsampling Settings: Method: BY_SAMPLE, Target Coverage: 1000 \r\n"
       ]
      },
      {
       "output_type": "stream",
       "stream": "stdout",
       "text": [
        "INFO  08:17:38,321 GenomeAnalysisEngine - Preparing for traversal \r\n",
        "INFO  08:17:38,322 GenomeAnalysisEngine - Done preparing for traversal \r\n",
        "INFO  08:17:38,323 ProgressMeter - [INITIALIZATION COMPLETE; STARTING PROCESSING] \r\n",
        "INFO  08:17:38,323 ProgressMeter -                 | processed |    time |    per 1M |           |   total | remaining \r\n",
        "INFO  08:17:38,324 ProgressMeter -        Location |     sites | elapsed |     sites | completed | runtime |   runtime \r\n"
       ]
      },
      {
       "output_type": "stream",
       "stream": "stdout",
       "text": [
        "INFO  08:17:38,408 GenotypeGVCFs - Notice that the -ploidy parameter is ignored in GenotypeGVCFs tool as this is automatically determined by the input variant files \r\n"
       ]
      },
      {
       "output_type": "stream",
       "stream": "stdout",
       "text": [
        "WARN  08:17:41,291 ExactAFCalculator - this tool is currently set to genotype at most 6 alternate alleles in a given context, but the context at Pf3D7_13_v3:50431 has 8 alternate alleles so only the top alleles will be used; see the --max_alternate_alleles argument \r\n"
       ]
      },
      {
       "output_type": "stream",
       "stream": "stdout",
       "text": [
        "WARN  08:17:41,644 ExactAFCalculator - this tool is currently set to genotype at most 6 alternate alleles in a given context, but the context at Pf3D7_13_v3:71640 has 7 alternate alleles so only the top alleles will be used; see the --max_alternate_alleles argument \r\n"
       ]
      },
      {
       "output_type": "stream",
       "stream": "stdout",
       "text": [
        "WARN  08:17:41,814 ExactAFCalculator - this tool is currently set to genotype at most 6 alternate alleles in a given context, but the context at Pf3D7_13_v3:111043 has 7 alternate alleles so only the top alleles will be used; see the --max_alternate_alleles argument \r\n"
       ]
      },
      {
       "output_type": "stream",
       "stream": "stdout",
       "text": [
        "WARN  08:17:41,858 ExactAFCalculator - this tool is currently set to genotype at most 6 alternate alleles in a given context, but the context at Pf3D7_13_v3:117947 has 7 alternate alleles so only the top alleles will be used; see the --max_alternate_alleles argument \r\n"
       ]
      },
      {
       "output_type": "stream",
       "stream": "stdout",
       "text": [
        "WARN  08:17:41,964 ExactAFCalculator - this tool is currently set to genotype at most 6 alternate alleles in a given context, but the context at Pf3D7_13_v3:129945 has 8 alternate alleles so only the top alleles will be used; see the --max_alternate_alleles argument \r\n"
       ]
      },
      {
       "output_type": "stream",
       "stream": "stdout",
       "text": [
        "WARN  08:17:42,170 ExactAFCalculator - this tool is currently set to genotype at most 6 alternate alleles in a given context, but the context at Pf3D7_13_v3:154777 has 8 alternate alleles so only the top alleles will be used; see the --max_alternate_alleles argument \r\n"
       ]
      },
      {
       "output_type": "stream",
       "stream": "stdout",
       "text": [
        "WARN  08:17:42,218 ExactAFCalculator - this tool is currently set to genotype at most 6 alternate alleles in a given context, but the context at Pf3D7_13_v3:159969 has 8 alternate alleles so only the top alleles will be used; see the --max_alternate_alleles argument \r\n"
       ]
      },
      {
       "output_type": "stream",
       "stream": "stdout",
       "text": [
        "WARN  08:17:42,241 ExactAFCalculator - this tool is currently set to genotype at most 6 alternate alleles in a given context, but the context at Pf3D7_13_v3:161506 has 7 alternate alleles so only the top alleles will be used; see the --max_alternate_alleles argument \r\n"
       ]
      },
      {
       "output_type": "stream",
       "stream": "stdout",
       "text": [
        "WARN  08:17:42,313 ExactAFCalculator - this tool is currently set to genotype at most 6 alternate alleles in a given context, but the context at Pf3D7_13_v3:170068 has 9 alternate alleles so only the top alleles will be used; see the --max_alternate_alleles argument \r\n"
       ]
      },
      {
       "output_type": "stream",
       "stream": "stdout",
       "text": [
        "WARN  08:17:42,399 ExactAFCalculator - this tool is currently set to genotype at most 6 alternate alleles in a given context, but the context at Pf3D7_13_v3:181401 has 7 alternate alleles so only the top alleles will be used; see the --max_alternate_alleles argument \r\n"
       ]
      },
      {
       "output_type": "stream",
       "stream": "stdout",
       "text": [
        "WARN  08:17:42,468 ExactAFCalculator - this tool is currently set to genotype at most 6 alternate alleles in a given context, but the context at Pf3D7_13_v3:215595 has 7 alternate alleles so only the top alleles will be used; see the --max_alternate_alleles argument \r\n",
        "WARN  08:17:42,470 ExactAFCalculator - this tool is currently set to genotype at most 6 alternate alleles in a given context, but the context at Pf3D7_13_v3:216167 has 9 alternate alleles so only the top alleles will be used; see the --max_alternate_alleles argument \r\n"
       ]
      },
      {
       "output_type": "stream",
       "stream": "stdout",
       "text": [
        "WARN  08:17:42,522 ExactAFCalculator - this tool is currently set to genotype at most 6 alternate alleles in a given context, but the context at Pf3D7_13_v3:229048 has 7 alternate alleles so only the top alleles will be used; see the --max_alternate_alleles argument \r\n"
       ]
      },
      {
       "output_type": "stream",
       "stream": "stdout",
       "text": [
        "WARN  08:17:42,541 ExactAFCalculator - this tool is currently set to genotype at most 6 alternate alleles in a given context, but the context at Pf3D7_13_v3:231827 has 11 alternate alleles so only the top alleles will be used; see the --max_alternate_alleles argument \r\n",
        "WARN  08:17:42,568 ExactAFCalculator - this tool is currently set to genotype at most 6 alternate alleles in a given context, but the context at Pf3D7_13_v3:237208 has 8 alternate alleles so only the top alleles will be used; see the --max_alternate_alleles argument \r\n"
       ]
      },
      {
       "output_type": "stream",
       "stream": "stdout",
       "text": [
        "WARN  08:17:42,650 ExactAFCalculator - this tool is currently set to genotype at most 6 alternate alleles in a given context, but the context at Pf3D7_13_v3:269119 has 8 alternate alleles so only the top alleles will be used; see the --max_alternate_alleles argument \r\n",
        "WARN  08:17:42,679 ExactAFCalculator - this tool is currently set to genotype at most 6 alternate alleles in a given context, but the context at Pf3D7_13_v3:278189 has 9 alternate alleles so only the top alleles will be used; see the --max_alternate_alleles argument \r\n",
        "WARN  08:17:42,684 ExactAFCalculator - this tool is currently set to genotype at most 6 alternate alleles in a given context, but the context at Pf3D7_13_v3:279233 has 8 alternate alleles so only the top alleles will be used; see the --max_alternate_alleles argument \r\n"
       ]
      },
      {
       "output_type": "stream",
       "stream": "stdout",
       "text": [
        "WARN  08:17:42,697 ExactAFCalculator - this tool is currently set to genotype at most 6 alternate alleles in a given context, but the context at Pf3D7_13_v3:282827 has 7 alternate alleles so only the top alleles will be used; see the --max_alternate_alleles argument \r\n",
        "WARN  08:17:42,720 ExactAFCalculator - this tool is currently set to genotype at most 6 alternate alleles in a given context, but the context at Pf3D7_13_v3:289313 has 9 alternate alleles so only the top alleles will be used; see the --max_alternate_alleles argument \r\n",
        "WARN  08:17:42,737 ExactAFCalculator - this tool is currently set to genotype at most 6 alternate alleles in a given context, but the context at Pf3D7_13_v3:293682 has 7 alternate alleles so only the top alleles will be used; see the --max_alternate_alleles argument \r\n",
        "WARN  08:17:42,741 ExactAFCalculator - this tool is currently set to genotype at most 6 alternate alleles in a given context, but the context at Pf3D7_13_v3:295752 has 7 alternate alleles so only the top alleles will be used; see the --max_alternate_alleles argument \r\n"
       ]
      },
      {
       "output_type": "stream",
       "stream": "stdout",
       "text": [
        "WARN  08:17:42,910 ExactAFCalculator - this tool is currently set to genotype at most 6 alternate alleles in a given context, but the context at Pf3D7_13_v3:348869 has 7 alternate alleles so only the top alleles will be used; see the --max_alternate_alleles argument \r\n"
       ]
      },
      {
       "output_type": "stream",
       "stream": "stdout",
       "text": [
        "WARN  08:17:43,073 ExactAFCalculator - this tool is currently set to genotype at most 6 alternate alleles in a given context, but the context at Pf3D7_13_v3:400984 has 7 alternate alleles so only the top alleles will be used; see the --max_alternate_alleles argument \r\n",
        "WARN  08:17:43,098 ExactAFCalculator - this tool is currently set to genotype at most 6 alternate alleles in a given context, but the context at Pf3D7_13_v3:406091 has 7 alternate alleles so only the top alleles will be used; see the --max_alternate_alleles argument \r\n",
        "WARN  08:17:43,099 ExactAFCalculator - this tool is currently set to genotype at most 6 alternate alleles in a given context, but the context at Pf3D7_13_v3:406116 has 10 alternate alleles so only the top alleles will be used; see the --max_alternate_alleles argument \r\n"
       ]
      },
      {
       "output_type": "stream",
       "stream": "stdout",
       "text": [
        "WARN  08:17:43,145 ExactAFCalculator - this tool is currently set to genotype at most 6 alternate alleles in a given context, but the context at Pf3D7_13_v3:417048 has 9 alternate alleles so only the top alleles will be used; see the --max_alternate_alleles argument \r\n"
       ]
      },
      {
       "output_type": "stream",
       "stream": "stdout",
       "text": [
        "WARN  08:17:43,351 ExactAFCalculator - this tool is currently set to genotype at most 6 alternate alleles in a given context, but the context at Pf3D7_13_v3:463363 has 7 alternate alleles so only the top alleles will be used; see the --max_alternate_alleles argument \r\n"
       ]
      },
      {
       "output_type": "stream",
       "stream": "stdout",
       "text": [
        "WARN  08:17:43,390 ExactAFCalculator - this tool is currently set to genotype at most 6 alternate alleles in a given context, but the context at Pf3D7_13_v3:470810 has 13 alternate alleles so only the top alleles will be used; see the --max_alternate_alleles argument \r\n"
       ]
      },
      {
       "output_type": "stream",
       "stream": "stdout",
       "text": [
        "WARN  08:17:43,469 ExactAFCalculator - this tool is currently set to genotype at most 6 alternate alleles in a given context, but the context at Pf3D7_13_v3:491192 has 7 alternate alleles so only the top alleles will be used; see the --max_alternate_alleles argument \r\n"
       ]
      },
      {
       "output_type": "stream",
       "stream": "stdout",
       "text": [
        "WARN  08:17:43,479 ExactAFCalculator - this tool is currently set to genotype at most 6 alternate alleles in a given context, but the context at Pf3D7_13_v3:492511 has 7 alternate alleles so only the top alleles will be used; see the --max_alternate_alleles argument \r\n"
       ]
      },
      {
       "output_type": "stream",
       "stream": "stdout",
       "text": [
        "WARN  08:17:43,661 ExactAFCalculator - this tool is currently set to genotype at most 6 alternate alleles in a given context, but the context at Pf3D7_13_v3:527701 has 7 alternate alleles so only the top alleles will be used; see the --max_alternate_alleles argument \r\n"
       ]
      },
      {
       "output_type": "stream",
       "stream": "stdout",
       "text": [
        "WARN  08:17:43,706 ExactAFCalculator - this tool is currently set to genotype at most 6 alternate alleles in a given context, but the context at Pf3D7_13_v3:535181 has 8 alternate alleles so only the top alleles will be used; see the --max_alternate_alleles argument \r\n"
       ]
      },
      {
       "output_type": "stream",
       "stream": "stdout",
       "text": [
        "WARN  08:17:43,741 ExactAFCalculator - this tool is currently set to genotype at most 6 alternate alleles in a given context, but the context at Pf3D7_13_v3:545556 has 8 alternate alleles so only the top alleles will be used; see the --max_alternate_alleles argument \r\n"
       ]
      },
      {
       "output_type": "stream",
       "stream": "stdout",
       "text": [
        "WARN  08:17:44,045 ExactAFCalculator - this tool is currently set to genotype at most 6 alternate alleles in a given context, but the context at Pf3D7_13_v3:622919 has 7 alternate alleles so only the top alleles will be used; see the --max_alternate_alleles argument \r\n"
       ]
      },
      {
       "output_type": "stream",
       "stream": "stdout",
       "text": [
        "WARN  08:17:44,065 ExactAFCalculator - this tool is currently set to genotype at most 6 alternate alleles in a given context, but the context at Pf3D7_13_v3:626352 has 7 alternate alleles so only the top alleles will be used; see the --max_alternate_alleles argument \r\n",
        "WARN  08:17:44,081 ExactAFCalculator - this tool is currently set to genotype at most 6 alternate alleles in a given context, but the context at Pf3D7_13_v3:629639 has 8 alternate alleles so only the top alleles will be used; see the --max_alternate_alleles argument \r\n"
       ]
      },
      {
       "output_type": "stream",
       "stream": "stdout",
       "text": [
        "WARN  08:17:44,124 ExactAFCalculator - this tool is currently set to genotype at most 6 alternate alleles in a given context, but the context at Pf3D7_13_v3:636713 has 7 alternate alleles so only the top alleles will be used; see the --max_alternate_alleles argument \r\n"
       ]
      },
      {
       "output_type": "stream",
       "stream": "stdout",
       "text": [
        "WARN  08:17:44,182 ExactAFCalculator - this tool is currently set to genotype at most 6 alternate alleles in a given context, but the context at Pf3D7_13_v3:649757 has 7 alternate alleles so only the top alleles will be used; see the --max_alternate_alleles argument \r\n",
        "WARN  08:17:44,187 ExactAFCalculator - this tool is currently set to genotype at most 6 alternate alleles in a given context, but the context at Pf3D7_13_v3:650672 has 8 alternate alleles so only the top alleles will be used; see the --max_alternate_alleles argument \r\n",
        "WARN  08:17:44,208 ExactAFCalculator - this tool is currently set to genotype at most 6 alternate alleles in a given context, but the context at Pf3D7_13_v3:652538 has 8 alternate alleles so only the top alleles will be used; see the --max_alternate_alleles argument \r\n",
        "WARN  08:17:44,210 ExactAFCalculator - this tool is currently set to genotype at most 6 alternate alleles in a given context, but the context at Pf3D7_13_v3:653015 has 8 alternate alleles so only the top alleles will be used; see the --max_alternate_alleles argument \r\n"
       ]
      },
      {
       "output_type": "stream",
       "stream": "stdout",
       "text": [
        "WARN  08:17:44,246 ExactAFCalculator - this tool is currently set to genotype at most 6 alternate alleles in a given context, but the context at Pf3D7_13_v3:656535 has 7 alternate alleles so only the top alleles will be used; see the --max_alternate_alleles argument \r\n"
       ]
      },
      {
       "output_type": "stream",
       "stream": "stdout",
       "text": [
        "WARN  08:17:44,293 ExactAFCalculator - this tool is currently set to genotype at most 6 alternate alleles in a given context, but the context at Pf3D7_13_v3:669822 has 8 alternate alleles so only the top alleles will be used; see the --max_alternate_alleles argument \r\n"
       ]
      },
      {
       "output_type": "stream",
       "stream": "stdout",
       "text": [
        "WARN  08:17:44,330 ExactAFCalculator - this tool is currently set to genotype at most 6 alternate alleles in a given context, but the context at Pf3D7_13_v3:681452 has 7 alternate alleles so only the top alleles will be used; see the --max_alternate_alleles argument \r\n",
        "WARN  08:17:44,337 ExactAFCalculator - this tool is currently set to genotype at most 6 alternate alleles in a given context, but the context at Pf3D7_13_v3:683437 has 7 alternate alleles so only the top alleles will be used; see the --max_alternate_alleles argument \r\n",
        "WARN  08:17:44,366 ExactAFCalculator - this tool is currently set to genotype at most 6 alternate alleles in a given context, but the context at Pf3D7_13_v3:691119 has 7 alternate alleles so only the top alleles will be used; see the --max_alternate_alleles argument \r\n"
       ]
      },
      {
       "output_type": "stream",
       "stream": "stdout",
       "text": [
        "WARN  08:17:44,375 ExactAFCalculator - this tool is currently set to genotype at most 6 alternate alleles in a given context, but the context at Pf3D7_13_v3:695049 has 8 alternate alleles so only the top alleles will be used; see the --max_alternate_alleles argument \r\n",
        "WARN  08:17:44,377 ExactAFCalculator - this tool is currently set to genotype at most 6 alternate alleles in a given context, but the context at Pf3D7_13_v3:695688 has 7 alternate alleles so only the top alleles will be used; see the --max_alternate_alleles argument \r\n",
        "WARN  08:17:44,405 ExactAFCalculator - this tool is currently set to genotype at most 6 alternate alleles in a given context, but the context at Pf3D7_13_v3:704508 has 10 alternate alleles so only the top alleles will be used; see the --max_alternate_alleles argument \r\n",
        "WARN  08:17:44,418 ExactAFCalculator - this tool is currently set to genotype at most 6 alternate alleles in a given context, but the context at Pf3D7_13_v3:706548 has 8 alternate alleles so only the top alleles will be used; see the --max_alternate_alleles argument \r\n"
       ]
      },
      {
       "output_type": "stream",
       "stream": "stdout",
       "text": [
        "WARN  08:17:44,489 ExactAFCalculator - this tool is currently set to genotype at most 6 alternate alleles in a given context, but the context at Pf3D7_13_v3:721905 has 8 alternate alleles so only the top alleles will be used; see the --max_alternate_alleles argument \r\n"
       ]
      },
      {
       "output_type": "stream",
       "stream": "stdout",
       "text": [
        "WARN  08:17:44,535 ExactAFCalculator - this tool is currently set to genotype at most 6 alternate alleles in a given context, but the context at Pf3D7_13_v3:736924 has 7 alternate alleles so only the top alleles will be used; see the --max_alternate_alleles argument \r\n",
        "WARN  08:17:44,540 ExactAFCalculator - this tool is currently set to genotype at most 6 alternate alleles in a given context, but the context at Pf3D7_13_v3:737548 has 7 alternate alleles so only the top alleles will be used; see the --max_alternate_alleles argument \r\n"
       ]
      },
      {
       "output_type": "stream",
       "stream": "stdout",
       "text": [
        "WARN  08:17:44,604 ExactAFCalculator - this tool is currently set to genotype at most 6 alternate alleles in a given context, but the context at Pf3D7_13_v3:752811 has 7 alternate alleles so only the top alleles will be used; see the --max_alternate_alleles argument \r\n",
        "WARN  08:17:44,624 ExactAFCalculator - this tool is currently set to genotype at most 6 alternate alleles in a given context, but the context at Pf3D7_13_v3:760304 has 7 alternate alleles so only the top alleles will be used; see the --max_alternate_alleles argument \r\n"
       ]
      },
      {
       "output_type": "stream",
       "stream": "stdout",
       "text": [
        "WARN  08:17:44,641 ExactAFCalculator - this tool is currently set to genotype at most 6 alternate alleles in a given context, but the context at Pf3D7_13_v3:765963 has 7 alternate alleles so only the top alleles will be used; see the --max_alternate_alleles argument \r\n",
        "WARN  08:17:44,645 ExactAFCalculator - this tool is currently set to genotype at most 6 alternate alleles in a given context, but the context at Pf3D7_13_v3:766675 has 7 alternate alleles so only the top alleles will be used; see the --max_alternate_alleles argument \r\n"
       ]
      },
      {
       "output_type": "stream",
       "stream": "stdout",
       "text": [
        "WARN  08:17:44,702 ExactAFCalculator - this tool is currently set to genotype at most 6 alternate alleles in a given context, but the context at Pf3D7_13_v3:783014 has 8 alternate alleles so only the top alleles will be used; see the --max_alternate_alleles argument \r\n",
        "WARN  08:17:44,730 ExactAFCalculator - this tool is currently set to genotype at most 6 alternate alleles in a given context, but the context at Pf3D7_13_v3:789089 has 11 alternate alleles so only the top alleles will be used; see the --max_alternate_alleles argument \r\n"
       ]
      },
      {
       "output_type": "stream",
       "stream": "stdout",
       "text": [
        "WARN  08:17:44,800 ExactAFCalculator - this tool is currently set to genotype at most 6 alternate alleles in a given context, but the context at Pf3D7_13_v3:807624 has 7 alternate alleles so only the top alleles will be used; see the --max_alternate_alleles argument \r\n"
       ]
      },
      {
       "output_type": "stream",
       "stream": "stdout",
       "text": [
        "WARN  08:17:44,911 ExactAFCalculator - this tool is currently set to genotype at most 6 alternate alleles in a given context, but the context at Pf3D7_13_v3:841494 has 7 alternate alleles so only the top alleles will be used; see the --max_alternate_alleles argument \r\n",
        "WARN  08:17:44,920 ExactAFCalculator - this tool is currently set to genotype at most 6 alternate alleles in a given context, but the context at Pf3D7_13_v3:844274 has 7 alternate alleles so only the top alleles will be used; see the --max_alternate_alleles argument \r\n",
        "WARN  08:17:44,931 ExactAFCalculator - this tool is currently set to genotype at most 6 alternate alleles in a given context, but the context at Pf3D7_13_v3:846454 has 7 alternate alleles so only the top alleles will be used; see the --max_alternate_alleles argument \r\n",
        "WARN  08:17:44,942 ExactAFCalculator - this tool is currently set to genotype at most 6 alternate alleles in a given context, but the context at Pf3D7_13_v3:848535 has 7 alternate alleles so only the top alleles will be used; see the --max_alternate_alleles argument \r\n",
        "WARN  08:17:44,944 ExactAFCalculator - this tool is currently set to genotype at most 6 alternate alleles in a given context, but the context at Pf3D7_13_v3:848559 has 10 alternate alleles so only the top alleles will be used; see the --max_alternate_alleles argument \r\n"
       ]
      },
      {
       "output_type": "stream",
       "stream": "stdout",
       "text": [
        "WARN  08:17:45,039 ExactAFCalculator - this tool is currently set to genotype at most 6 alternate alleles in a given context, but the context at Pf3D7_13_v3:886815 has 7 alternate alleles so only the top alleles will be used; see the --max_alternate_alleles argument \r\n"
       ]
      },
      {
       "output_type": "stream",
       "stream": "stdout",
       "text": [
        "WARN  08:17:45,074 ExactAFCalculator - this tool is currently set to genotype at most 6 alternate alleles in a given context, but the context at Pf3D7_13_v3:892757 has 7 alternate alleles so only the top alleles will be used; see the --max_alternate_alleles argument \r\n",
        "WARN  08:17:45,077 ExactAFCalculator - this tool is currently set to genotype at most 6 alternate alleles in a given context, but the context at Pf3D7_13_v3:893040 has 8 alternate alleles so only the top alleles will be used; see the --max_alternate_alleles argument \r\n"
       ]
      },
      {
       "output_type": "stream",
       "stream": "stdout",
       "text": [
        "WARN  08:17:45,112 ExactAFCalculator - this tool is currently set to genotype at most 6 alternate alleles in a given context, but the context at Pf3D7_13_v3:900133 has 7 alternate alleles so only the top alleles will be used; see the --max_alternate_alleles argument \r\n"
       ]
      },
      {
       "output_type": "stream",
       "stream": "stdout",
       "text": [
        "WARN  08:17:45,193 ExactAFCalculator - this tool is currently set to genotype at most 6 alternate alleles in a given context, but the context at Pf3D7_13_v3:915538 has 7 alternate alleles so only the top alleles will be used; see the --max_alternate_alleles argument \r\n"
       ]
      },
      {
       "output_type": "stream",
       "stream": "stdout",
       "text": [
        "WARN  08:17:45,233 ExactAFCalculator - this tool is currently set to genotype at most 6 alternate alleles in a given context, but the context at Pf3D7_13_v3:927364 has 7 alternate alleles so only the top alleles will be used; see the --max_alternate_alleles argument \r\n"
       ]
      },
      {
       "output_type": "stream",
       "stream": "stdout",
       "text": [
        "WARN  08:17:45,361 ExactAFCalculator - this tool is currently set to genotype at most 6 alternate alleles in a given context, but the context at Pf3D7_13_v3:964008 has 8 alternate alleles so only the top alleles will be used; see the --max_alternate_alleles argument \r\n",
        "WARN  08:17:45,363 ExactAFCalculator - this tool is currently set to genotype at most 6 alternate alleles in a given context, but the context at Pf3D7_13_v3:964772 has 9 alternate alleles so only the top alleles will be used; see the --max_alternate_alleles argument \r\n"
       ]
      },
      {
       "output_type": "stream",
       "stream": "stdout",
       "text": [
        "WARN  08:17:45,401 ExactAFCalculator - this tool is currently set to genotype at most 6 alternate alleles in a given context, but the context at Pf3D7_13_v3:971595 has 8 alternate alleles so only the top alleles will be used; see the --max_alternate_alleles argument \r\n",
        "WARN  08:17:45,403 ExactAFCalculator - this tool is currently set to genotype at most 6 alternate alleles in a given context, but the context at Pf3D7_13_v3:972042 has 7 alternate alleles so only the top alleles will be used; see the --max_alternate_alleles argument \r\n"
       ]
      },
      {
       "output_type": "stream",
       "stream": "stdout",
       "text": [
        "WARN  08:17:45,435 ExactAFCalculator - this tool is currently set to genotype at most 6 alternate alleles in a given context, but the context at Pf3D7_13_v3:978651 has 8 alternate alleles so only the top alleles will be used; see the --max_alternate_alleles argument \r\n"
       ]
      },
      {
       "output_type": "stream",
       "stream": "stdout",
       "text": [
        "WARN  08:17:45,623 ExactAFCalculator - this tool is currently set to genotype at most 6 alternate alleles in a given context, but the context at Pf3D7_13_v3:1022402 has 7 alternate alleles so only the top alleles will be used; see the --max_alternate_alleles argument \r\n",
        "WARN  08:17:45,631 ExactAFCalculator - this tool is currently set to genotype at most 6 alternate alleles in a given context, but the context at Pf3D7_13_v3:1023717 has 7 alternate alleles so only the top alleles will be used; see the --max_alternate_alleles argument \r\n"
       ]
      },
      {
       "output_type": "stream",
       "stream": "stdout",
       "text": [
        "WARN  08:17:45,650 ExactAFCalculator - this tool is currently set to genotype at most 6 alternate alleles in a given context, but the context at Pf3D7_13_v3:1027638 has 9 alternate alleles so only the top alleles will be used; see the --max_alternate_alleles argument \r\n",
        "WARN  08:17:45,680 ExactAFCalculator - this tool is currently set to genotype at most 6 alternate alleles in a given context, but the context at Pf3D7_13_v3:1036156 has 8 alternate alleles so only the top alleles will be used; see the --max_alternate_alleles argument \r\n",
        "WARN  08:17:45,682 ExactAFCalculator - this tool is currently set to genotype at most 6 alternate alleles in a given context, but the context at Pf3D7_13_v3:1036280 has 7 alternate alleles so only the top alleles will be used; see the --max_alternate_alleles argument \r\n"
       ]
      },
      {
       "output_type": "stream",
       "stream": "stdout",
       "text": [
        "WARN  08:17:45,705 ExactAFCalculator - this tool is currently set to genotype at most 6 alternate alleles in a given context, but the context at Pf3D7_13_v3:1043292 has 7 alternate alleles so only the top alleles will be used; see the --max_alternate_alleles argument \r\n",
        "WARN  08:17:45,735 ExactAFCalculator - this tool is currently set to genotype at most 6 alternate alleles in a given context, but the context at Pf3D7_13_v3:1049411 has 8 alternate alleles so only the top alleles will be used; see the --max_alternate_alleles argument \r\n"
       ]
      },
      {
       "output_type": "stream",
       "stream": "stdout",
       "text": [
        "WARN  08:17:45,736 ExactAFCalculator - this tool is currently set to genotype at most 6 alternate alleles in a given context, but the context at Pf3D7_13_v3:1049423 has 10 alternate alleles so only the top alleles will be used; see the --max_alternate_alleles argument \r\n",
        "WARN  08:17:45,781 ExactAFCalculator - this tool is currently set to genotype at most 6 alternate alleles in a given context, but the context at Pf3D7_13_v3:1066018 has 10 alternate alleles so only the top alleles will be used; see the --max_alternate_alleles argument \r\n"
       ]
      },
      {
       "output_type": "stream",
       "stream": "stdout",
       "text": [
        "WARN  08:17:45,864 ExactAFCalculator - this tool is currently set to genotype at most 6 alternate alleles in a given context, but the context at Pf3D7_13_v3:1087657 has 7 alternate alleles so only the top alleles will be used; see the --max_alternate_alleles argument \r\n",
        "WARN  08:17:45,872 ExactAFCalculator - this tool is currently set to genotype at most 6 alternate alleles in a given context, but the context at Pf3D7_13_v3:1090165 has 7 alternate alleles so only the top alleles will be used; see the --max_alternate_alleles argument \r\n",
        "WARN  08:17:45,877 ExactAFCalculator - this tool is currently set to genotype at most 6 alternate alleles in a given context, but the context at Pf3D7_13_v3:1091377 has 8 alternate alleles so only the top alleles will be used; see the --max_alternate_alleles argument \r\n",
        "WARN  08:17:45,881 ExactAFCalculator - this tool is currently set to genotype at most 6 alternate alleles in a given context, but the context at Pf3D7_13_v3:1092332 has 7 alternate alleles so only the top alleles will be used; see the --max_alternate_alleles argument \r\n",
        "WARN  08:17:45,882 ExactAFCalculator - this tool is currently set to genotype at most 6 alternate alleles in a given context, but the context at Pf3D7_13_v3:1092353 has 7 alternate alleles so only the top alleles will be used; see the --max_alternate_alleles argument \r\n"
       ]
      },
      {
       "output_type": "stream",
       "stream": "stdout",
       "text": [
        "WARN  08:17:45,901 ExactAFCalculator - this tool is currently set to genotype at most 6 alternate alleles in a given context, but the context at Pf3D7_13_v3:1095710 has 8 alternate alleles so only the top alleles will be used; see the --max_alternate_alleles argument \r\n",
        "WARN  08:17:45,938 ExactAFCalculator - this tool is currently set to genotype at most 6 alternate alleles in a given context, but the context at Pf3D7_13_v3:1106713 has 7 alternate alleles so only the top alleles will be used; see the --max_alternate_alleles argument \r\n"
       ]
      },
      {
       "output_type": "stream",
       "stream": "stdout",
       "text": [
        "WARN  08:17:45,992 ExactAFCalculator - this tool is currently set to genotype at most 6 alternate alleles in a given context, but the context at Pf3D7_13_v3:1127285 has 7 alternate alleles so only the top alleles will be used; see the --max_alternate_alleles argument \r\n"
       ]
      },
      {
       "output_type": "stream",
       "stream": "stdout",
       "text": [
        "WARN  08:17:46,013 ExactAFCalculator - this tool is currently set to genotype at most 6 alternate alleles in a given context, but the context at Pf3D7_13_v3:1134192 has 12 alternate alleles so only the top alleles will be used; see the --max_alternate_alleles argument \r\n",
        "WARN  08:17:46,036 ExactAFCalculator - this tool is currently set to genotype at most 6 alternate alleles in a given context, but the context at Pf3D7_13_v3:1141087 has 9 alternate alleles so only the top alleles will be used; see the --max_alternate_alleles argument \r\n"
       ]
      },
      {
       "output_type": "stream",
       "stream": "stdout",
       "text": [
        "WARN  08:17:46,082 ExactAFCalculator - this tool is currently set to genotype at most 6 alternate alleles in a given context, but the context at Pf3D7_13_v3:1154977 has 7 alternate alleles so only the top alleles will be used; see the --max_alternate_alleles argument \r\n",
        "WARN  08:17:46,085 ExactAFCalculator - this tool is currently set to genotype at most 6 alternate alleles in a given context, but the context at Pf3D7_13_v3:1155637 has 10 alternate alleles so only the top alleles will be used; see the --max_alternate_alleles argument \r\n"
       ]
      },
      {
       "output_type": "stream",
       "stream": "stdout",
       "text": [
        "WARN  08:17:46,133 ExactAFCalculator - this tool is currently set to genotype at most 6 alternate alleles in a given context, but the context at Pf3D7_13_v3:1174085 has 7 alternate alleles so only the top alleles will be used; see the --max_alternate_alleles argument \r\n"
       ]
      },
      {
       "output_type": "stream",
       "stream": "stdout",
       "text": [
        "WARN  08:17:46,191 ExactAFCalculator - this tool is currently set to genotype at most 6 alternate alleles in a given context, but the context at Pf3D7_13_v3:1196162 has 9 alternate alleles so only the top alleles will be used; see the --max_alternate_alleles argument \r\n"
       ]
      },
      {
       "output_type": "stream",
       "stream": "stdout",
       "text": [
        "WARN  08:17:46,203 ExactAFCalculator - this tool is currently set to genotype at most 6 alternate alleles in a given context, but the context at Pf3D7_13_v3:1198329 has 7 alternate alleles so only the top alleles will be used; see the --max_alternate_alleles argument \r\n"
       ]
      },
      {
       "output_type": "stream",
       "stream": "stdout",
       "text": [
        "WARN  08:17:46,320 ExactAFCalculator - this tool is currently set to genotype at most 6 alternate alleles in a given context, but the context at Pf3D7_13_v3:1218024 has 10 alternate alleles so only the top alleles will be used; see the --max_alternate_alleles argument \r\n",
        "WARN  08:17:46,325 ExactAFCalculator - this tool is currently set to genotype at most 6 alternate alleles in a given context, but the context at Pf3D7_13_v3:1218621 has 7 alternate alleles so only the top alleles will be used; see the --max_alternate_alleles argument \r\n"
       ]
      },
      {
       "output_type": "stream",
       "stream": "stdout",
       "text": [
        "WARN  08:17:46,410 ExactAFCalculator - this tool is currently set to genotype at most 6 alternate alleles in a given context, but the context at Pf3D7_13_v3:1237125 has 9 alternate alleles so only the top alleles will be used; see the --max_alternate_alleles argument \r\n",
        "WARN  08:17:46,417 ExactAFCalculator - this tool is currently set to genotype at most 6 alternate alleles in a given context, but the context at Pf3D7_13_v3:1238084 has 8 alternate alleles so only the top alleles will be used; see the --max_alternate_alleles argument \r\n"
       ]
      },
      {
       "output_type": "stream",
       "stream": "stdout",
       "text": [
        "WARN  08:17:46,467 ExactAFCalculator - this tool is currently set to genotype at most 6 alternate alleles in a given context, but the context at Pf3D7_13_v3:1245510 has 7 alternate alleles so only the top alleles will be used; see the --max_alternate_alleles argument \r\n",
        "WARN  08:17:46,471 ExactAFCalculator - this tool is currently set to genotype at most 6 alternate alleles in a given context, but the context at Pf3D7_13_v3:1245996 has 8 alternate alleles so only the top alleles will be used; see the --max_alternate_alleles argument \r\n",
        "WARN  08:17:46,473 ExactAFCalculator - this tool is currently set to genotype at most 6 alternate alleles in a given context, but the context at Pf3D7_13_v3:1246241 has 7 alternate alleles so only the top alleles will be used; see the --max_alternate_alleles argument \r\n"
       ]
      },
      {
       "output_type": "stream",
       "stream": "stdout",
       "text": [
        "WARN  08:17:46,565 ExactAFCalculator - this tool is currently set to genotype at most 6 alternate alleles in a given context, but the context at Pf3D7_13_v3:1258833 has 8 alternate alleles so only the top alleles will be used; see the --max_alternate_alleles argument \r\n"
       ]
      },
      {
       "output_type": "stream",
       "stream": "stdout",
       "text": [
        "WARN  08:17:46,609 ExactAFCalculator - this tool is currently set to genotype at most 6 alternate alleles in a given context, but the context at Pf3D7_13_v3:1264702 has 7 alternate alleles so only the top alleles will be used; see the --max_alternate_alleles argument \r\n"
       ]
      },
      {
       "output_type": "stream",
       "stream": "stdout",
       "text": [
        "WARN  08:17:46,652 ExactAFCalculator - this tool is currently set to genotype at most 6 alternate alleles in a given context, but the context at Pf3D7_13_v3:1275034 has 8 alternate alleles so only the top alleles will be used; see the --max_alternate_alleles argument \r\n",
        "WARN  08:17:46,658 ExactAFCalculator - this tool is currently set to genotype at most 6 alternate alleles in a given context, but the context at Pf3D7_13_v3:1276625 has 7 alternate alleles so only the top alleles will be used; see the --max_alternate_alleles argument \r\n",
        "WARN  08:17:46,664 ExactAFCalculator - this tool is currently set to genotype at most 6 alternate alleles in a given context, but the context at Pf3D7_13_v3:1278091 has 8 alternate alleles so only the top alleles will be used; see the --max_alternate_alleles argument \r\n"
       ]
      },
      {
       "output_type": "stream",
       "stream": "stdout",
       "text": [
        "WARN  08:17:46,674 ExactAFCalculator - this tool is currently set to genotype at most 6 alternate alleles in a given context, but the context at Pf3D7_13_v3:1279740 has 8 alternate alleles so only the top alleles will be used; see the --max_alternate_alleles argument \r\n",
        "WARN  08:17:46,707 ExactAFCalculator - this tool is currently set to genotype at most 6 alternate alleles in a given context, but the context at Pf3D7_13_v3:1287307 has 8 alternate alleles so only the top alleles will be used; see the --max_alternate_alleles argument \r\n"
       ]
      },
      {
       "output_type": "stream",
       "stream": "stdout",
       "text": [
        "WARN  08:17:46,727 ExactAFCalculator - this tool is currently set to genotype at most 6 alternate alleles in a given context, but the context at Pf3D7_13_v3:1292758 has 10 alternate alleles so only the top alleles will be used; see the --max_alternate_alleles argument \r\n",
        "WARN  08:17:46,773 ExactAFCalculator - this tool is currently set to genotype at most 6 alternate alleles in a given context, but the context at Pf3D7_13_v3:1304989 has 9 alternate alleles so only the top alleles will be used; see the --max_alternate_alleles argument \r\n"
       ]
      },
      {
       "output_type": "stream",
       "stream": "stdout",
       "text": [
        "WARN  08:17:46,810 ExactAFCalculator - this tool is currently set to genotype at most 6 alternate alleles in a given context, but the context at Pf3D7_13_v3:1313513 has 7 alternate alleles so only the top alleles will be used; see the --max_alternate_alleles argument \r\n"
       ]
      },
      {
       "output_type": "stream",
       "stream": "stdout",
       "text": [
        "WARN  08:17:46,827 ExactAFCalculator - this tool is currently set to genotype at most 6 alternate alleles in a given context, but the context at Pf3D7_13_v3:1317026 has 8 alternate alleles so only the top alleles will be used; see the --max_alternate_alleles argument \r\n"
       ]
      },
      {
       "output_type": "stream",
       "stream": "stdout",
       "text": [
        "WARN  08:17:46,890 ExactAFCalculator - this tool is currently set to genotype at most 6 alternate alleles in a given context, but the context at Pf3D7_13_v3:1329396 has 8 alternate alleles so only the top alleles will be used; see the --max_alternate_alleles argument \r\n"
       ]
      },
      {
       "output_type": "stream",
       "stream": "stdout",
       "text": [
        "WARN  08:17:46,940 ExactAFCalculator - this tool is currently set to genotype at most 6 alternate alleles in a given context, but the context at Pf3D7_13_v3:1346298 has 7 alternate alleles so only the top alleles will be used; see the --max_alternate_alleles argument \r\n",
        "WARN  08:17:46,953 ExactAFCalculator - this tool is currently set to genotype at most 6 alternate alleles in a given context, but the context at Pf3D7_13_v3:1348583 has 7 alternate alleles so only the top alleles will be used; see the --max_alternate_alleles argument \r\n",
        "WARN  08:17:46,977 ExactAFCalculator - this tool is currently set to genotype at most 6 alternate alleles in a given context, but the context at Pf3D7_13_v3:1356370 has 8 alternate alleles so only the top alleles will be used; see the --max_alternate_alleles argument \r\n"
       ]
      },
      {
       "output_type": "stream",
       "stream": "stdout",
       "text": [
        "WARN  08:17:46,983 ExactAFCalculator - this tool is currently set to genotype at most 6 alternate alleles in a given context, but the context at Pf3D7_13_v3:1357639 has 7 alternate alleles so only the top alleles will be used; see the --max_alternate_alleles argument \r\n",
        "WARN  08:17:47,018 ExactAFCalculator - this tool is currently set to genotype at most 6 alternate alleles in a given context, but the context at Pf3D7_13_v3:1369438 has 7 alternate alleles so only the top alleles will be used; see the --max_alternate_alleles argument \r\n"
       ]
      },
      {
       "output_type": "stream",
       "stream": "stdout",
       "text": [
        "WARN  08:17:47,075 ExactAFCalculator - this tool is currently set to genotype at most 6 alternate alleles in a given context, but the context at Pf3D7_13_v3:1382549 has 7 alternate alleles so only the top alleles will be used; see the --max_alternate_alleles argument \r\n"
       ]
      },
      {
       "output_type": "stream",
       "stream": "stdout",
       "text": [
        "WARN  08:17:47,160 ExactAFCalculator - this tool is currently set to genotype at most 6 alternate alleles in a given context, but the context at Pf3D7_13_v3:1402957 has 7 alternate alleles so only the top alleles will be used; see the --max_alternate_alleles argument \r\n",
        "WARN  08:17:47,168 ExactAFCalculator - this tool is currently set to genotype at most 6 alternate alleles in a given context, but the context at Pf3D7_13_v3:1404855 has 9 alternate alleles so only the top alleles will be used; see the --max_alternate_alleles argument \r\n",
        "WARN  08:17:47,173 ExactAFCalculator - this tool is currently set to genotype at most 6 alternate alleles in a given context, but the context at Pf3D7_13_v3:1405693 has 7 alternate alleles so only the top alleles will be used; see the --max_alternate_alleles argument \r\n"
       ]
      },
      {
       "output_type": "stream",
       "stream": "stdout",
       "text": [
        "WARN  08:17:47,251 ExactAFCalculator - this tool is currently set to genotype at most 6 alternate alleles in a given context, but the context at Pf3D7_13_v3:1426704 has 7 alternate alleles so only the top alleles will be used; see the --max_alternate_alleles argument \r\n"
       ]
      },
      {
       "output_type": "stream",
       "stream": "stdout",
       "text": [
        "WARN  08:17:47,393 ExactAFCalculator - this tool is currently set to genotype at most 6 alternate alleles in a given context, but the context at Pf3D7_13_v3:1479893 has 10 alternate alleles so only the top alleles will be used; see the --max_alternate_alleles argument \r\n"
       ]
      },
      {
       "output_type": "stream",
       "stream": "stdout",
       "text": [
        "WARN  08:17:47,545 ExactAFCalculator - this tool is currently set to genotype at most 6 alternate alleles in a given context, but the context at Pf3D7_13_v3:1524507 has 8 alternate alleles so only the top alleles will be used; see the --max_alternate_alleles argument \r\n"
       ]
      },
      {
       "output_type": "stream",
       "stream": "stdout",
       "text": [
        "WARN  08:17:47,722 ExactAFCalculator - this tool is currently set to genotype at most 6 alternate alleles in a given context, but the context at Pf3D7_13_v3:1561171 has 9 alternate alleles so only the top alleles will be used; see the --max_alternate_alleles argument \r\n",
        "WARN  08:17:47,733 ExactAFCalculator - this tool is currently set to genotype at most 6 alternate alleles in a given context, but the context at Pf3D7_13_v3:1564575 has 7 alternate alleles so only the top alleles will be used; see the --max_alternate_alleles argument \r\n",
        "WARN  08:17:47,737 ExactAFCalculator - this tool is currently set to genotype at most 6 alternate alleles in a given context, but the context at Pf3D7_13_v3:1565534 has 8 alternate alleles so only the top alleles will be used; see the --max_alternate_alleles argument \r\n"
       ]
      },
      {
       "output_type": "stream",
       "stream": "stdout",
       "text": [
        "WARN  08:17:47,868 ExactAFCalculator - this tool is currently set to genotype at most 6 alternate alleles in a given context, but the context at Pf3D7_13_v3:1597374 has 9 alternate alleles so only the top alleles will be used; see the --max_alternate_alleles argument \r\n"
       ]
      },
      {
       "output_type": "stream",
       "stream": "stdout",
       "text": [
        "WARN  08:17:47,915 ExactAFCalculator - this tool is currently set to genotype at most 6 alternate alleles in a given context, but the context at Pf3D7_13_v3:1612080 has 10 alternate alleles so only the top alleles will be used; see the --max_alternate_alleles argument \r\n",
        "WARN  08:17:47,932 ExactAFCalculator - this tool is currently set to genotype at most 6 alternate alleles in a given context, but the context at Pf3D7_13_v3:1620060 has 7 alternate alleles so only the top alleles will be used; see the --max_alternate_alleles argument \r\n",
        "WARN  08:17:47,933 ExactAFCalculator - this tool is currently set to genotype at most 6 alternate alleles in a given context, but the context at Pf3D7_13_v3:1620079 has 7 alternate alleles so only the top alleles will be used; see the --max_alternate_alleles argument \r\n"
       ]
      },
      {
       "output_type": "stream",
       "stream": "stdout",
       "text": [
        "WARN  08:17:48,052 ExactAFCalculator - this tool is currently set to genotype at most 6 alternate alleles in a given context, but the context at Pf3D7_13_v3:1644517 has 9 alternate alleles so only the top alleles will be used; see the --max_alternate_alleles argument \r\n",
        "WARN  08:17:48,061 ExactAFCalculator - this tool is currently set to genotype at most 6 alternate alleles in a given context, but the context at Pf3D7_13_v3:1645449 has 8 alternate alleles so only the top alleles will be used; see the --max_alternate_alleles argument \r\n"
       ]
      },
      {
       "output_type": "stream",
       "stream": "stdout",
       "text": [
        "WARN  08:17:48,098 ExactAFCalculator - this tool is currently set to genotype at most 6 alternate alleles in a given context, but the context at Pf3D7_13_v3:1651883 has 9 alternate alleles so only the top alleles will be used; see the --max_alternate_alleles argument \r\n",
        "WARN  08:17:48,123 ExactAFCalculator - this tool is currently set to genotype at most 6 alternate alleles in a given context, but the context at Pf3D7_13_v3:1655987 has 7 alternate alleles so only the top alleles will be used; see the --max_alternate_alleles argument \r\n"
       ]
      },
      {
       "output_type": "stream",
       "stream": "stdout",
       "text": [
        "WARN  08:17:48,129 ExactAFCalculator - this tool is currently set to genotype at most 6 alternate alleles in a given context, but the context at Pf3D7_13_v3:1656917 has 7 alternate alleles so only the top alleles will be used; see the --max_alternate_alleles argument \r\n",
        "WARN  08:17:48,132 ExactAFCalculator - this tool is currently set to genotype at most 6 alternate alleles in a given context, but the context at Pf3D7_13_v3:1657382 has 8 alternate alleles so only the top alleles will be used; see the --max_alternate_alleles argument \r\n",
        "WARN  08:17:48,138 ExactAFCalculator - this tool is currently set to genotype at most 6 alternate alleles in a given context, but the context at Pf3D7_13_v3:1660759 has 7 alternate alleles so only the top alleles will be used; see the --max_alternate_alleles argument \r\n",
        "WARN  08:17:48,159 ExactAFCalculator - this tool is currently set to genotype at most 6 alternate alleles in a given context, but the context at Pf3D7_13_v3:1666724 has 8 alternate alleles so only the top alleles will be used; see the --max_alternate_alleles argument \r\n"
       ]
      },
      {
       "output_type": "stream",
       "stream": "stdout",
       "text": [
        "WARN  08:17:48,237 ExactAFCalculator - this tool is currently set to genotype at most 6 alternate alleles in a given context, but the context at Pf3D7_13_v3:1694184 has 7 alternate alleles so only the top alleles will be used; see the --max_alternate_alleles argument \r\n"
       ]
      },
      {
       "output_type": "stream",
       "stream": "stdout",
       "text": [
        "WARN  08:17:48,325 ExactAFCalculator - this tool is currently set to genotype at most 6 alternate alleles in a given context, but the context at Pf3D7_13_v3:1716049 has 7 alternate alleles so only the top alleles will be used; see the --max_alternate_alleles argument \r\n"
       ]
      },
      {
       "output_type": "stream",
       "stream": "stdout",
       "text": [
        "WARN  08:17:48,435 ExactAFCalculator - this tool is currently set to genotype at most 6 alternate alleles in a given context, but the context at Pf3D7_13_v3:1766708 has 7 alternate alleles so only the top alleles will be used; see the --max_alternate_alleles argument \r\n"
       ]
      },
      {
       "output_type": "stream",
       "stream": "stdout",
       "text": [
        "WARN  08:17:48,455 ExactAFCalculator - this tool is currently set to genotype at most 6 alternate alleles in a given context, but the context at Pf3D7_13_v3:1773105 has 8 alternate alleles so only the top alleles will be used; see the --max_alternate_alleles argument \r\n",
        "WARN  08:17:48,460 ExactAFCalculator - this tool is currently set to genotype at most 6 alternate alleles in a given context, but the context at Pf3D7_13_v3:1773800 has 7 alternate alleles so only the top alleles will be used; see the --max_alternate_alleles argument \r\n",
        "WARN  08:17:48,477 ExactAFCalculator - this tool is currently set to genotype at most 6 alternate alleles in a given context, but the context at Pf3D7_13_v3:1781217 has 8 alternate alleles so only the top alleles will be used; see the --max_alternate_alleles argument \r\n"
       ]
      },
      {
       "output_type": "stream",
       "stream": "stdout",
       "text": [
        "WARN  08:17:48,510 ExactAFCalculator - this tool is currently set to genotype at most 6 alternate alleles in a given context, but the context at Pf3D7_13_v3:1788295 has 15 alternate alleles so only the top alleles will be used; see the --max_alternate_alleles argument \r\n",
        "WARN  08:17:48,513 ExactAFCalculator - this tool is currently set to genotype at most 6 alternate alleles in a given context, but the context at Pf3D7_13_v3:1788701 has 11 alternate alleles so only the top alleles will be used; see the --max_alternate_alleles argument \r\n",
        "WARN  08:17:48,528 ExactAFCalculator - this tool is currently set to genotype at most 6 alternate alleles in a given context, but the context at Pf3D7_13_v3:1795164 has 7 alternate alleles so only the top alleles will be used; see the --max_alternate_alleles argument \r\n",
        "WARN  08:17:48,534 ExactAFCalculator - this tool is currently set to genotype at most 6 alternate alleles in a given context, but the context at Pf3D7_13_v3:1796829 has 7 alternate alleles so only the top alleles will be used; see the --max_alternate_alleles argument \r\n"
       ]
      },
      {
       "output_type": "stream",
       "stream": "stdout",
       "text": [
        "WARN  08:17:48,541 ExactAFCalculator - this tool is currently set to genotype at most 6 alternate alleles in a given context, but the context at Pf3D7_13_v3:1799246 has 7 alternate alleles so only the top alleles will be used; see the --max_alternate_alleles argument \r\n",
        "WARN  08:17:48,553 ExactAFCalculator - this tool is currently set to genotype at most 6 alternate alleles in a given context, but the context at Pf3D7_13_v3:1801195 has 8 alternate alleles so only the top alleles will be used; see the --max_alternate_alleles argument \r\n",
        "WARN  08:17:48,561 ExactAFCalculator - this tool is currently set to genotype at most 6 alternate alleles in a given context, but the context at Pf3D7_13_v3:1805757 has 7 alternate alleles so only the top alleles will be used; see the --max_alternate_alleles argument \r\n",
        "WARN  08:17:48,570 ExactAFCalculator - this tool is currently set to genotype at most 6 alternate alleles in a given context, but the context at Pf3D7_13_v3:1807848 has 10 alternate alleles so only the top alleles will be used; see the --max_alternate_alleles argument \r\n"
       ]
      },
      {
       "output_type": "stream",
       "stream": "stdout",
       "text": [
        "WARN  08:17:48,621 ExactAFCalculator - this tool is currently set to genotype at most 6 alternate alleles in a given context, but the context at Pf3D7_13_v3:1821840 has 7 alternate alleles so only the top alleles will be used; see the --max_alternate_alleles argument \r\n",
        "WARN  08:17:48,636 ExactAFCalculator - this tool is currently set to genotype at most 6 alternate alleles in a given context, but the context at Pf3D7_13_v3:1827049 has 7 alternate alleles so only the top alleles will be used; see the --max_alternate_alleles argument \r\n"
       ]
      },
      {
       "output_type": "stream",
       "stream": "stdout",
       "text": [
        "WARN  08:17:48,677 ExactAFCalculator - this tool is currently set to genotype at most 6 alternate alleles in a given context, but the context at Pf3D7_13_v3:1840764 has 8 alternate alleles so only the top alleles will be used; see the --max_alternate_alleles argument \r\n",
        "WARN  08:17:48,678 ExactAFCalculator - this tool is currently set to genotype at most 6 alternate alleles in a given context, but the context at Pf3D7_13_v3:1840780 has 7 alternate alleles so only the top alleles will be used; see the --max_alternate_alleles argument \r\n"
       ]
      },
      {
       "output_type": "stream",
       "stream": "stdout",
       "text": [
        "WARN  08:17:48,705 ExactAFCalculator - this tool is currently set to genotype at most 6 alternate alleles in a given context, but the context at Pf3D7_13_v3:1847029 has 8 alternate alleles so only the top alleles will be used; see the --max_alternate_alleles argument \r\n"
       ]
      },
      {
       "output_type": "stream",
       "stream": "stdout",
       "text": [
        "WARN  08:17:48,761 ExactAFCalculator - this tool is currently set to genotype at most 6 alternate alleles in a given context, but the context at Pf3D7_13_v3:1871720 has 7 alternate alleles so only the top alleles will be used; see the --max_alternate_alleles argument \r\n",
        "WARN  08:17:48,775 ExactAFCalculator - this tool is currently set to genotype at most 6 alternate alleles in a given context, but the context at Pf3D7_13_v3:1878126 has 9 alternate alleles so only the top alleles will be used; see the --max_alternate_alleles argument \r\n",
        "WARN  08:17:48,777 ExactAFCalculator - this tool is currently set to genotype at most 6 alternate alleles in a given context, but the context at Pf3D7_13_v3:1878822 has 7 alternate alleles so only the top alleles will be used; see the --max_alternate_alleles argument \r\n",
        "WARN  08:17:48,800 ExactAFCalculator - this tool is currently set to genotype at most 6 alternate alleles in a given context, but the context at Pf3D7_13_v3:1885855 has 8 alternate alleles so only the top alleles will be used; see the --max_alternate_alleles argument \r\n"
       ]
      },
      {
       "output_type": "stream",
       "stream": "stdout",
       "text": [
        "WARN  08:17:48,806 ExactAFCalculator - this tool is currently set to genotype at most 6 alternate alleles in a given context, but the context at Pf3D7_13_v3:1888513 has 9 alternate alleles so only the top alleles will be used; see the --max_alternate_alleles argument \r\n",
        "WARN  08:17:48,842 ExactAFCalculator - this tool is currently set to genotype at most 6 alternate alleles in a given context, but the context at Pf3D7_13_v3:1896922 has 9 alternate alleles so only the top alleles will be used; see the --max_alternate_alleles argument \r\n"
       ]
      },
      {
       "output_type": "stream",
       "stream": "stdout",
       "text": [
        "WARN  08:17:48,881 ExactAFCalculator - this tool is currently set to genotype at most 6 alternate alleles in a given context, but the context at Pf3D7_13_v3:1904908 has 8 alternate alleles so only the top alleles will be used; see the --max_alternate_alleles argument \r\n"
       ]
      },
      {
       "output_type": "stream",
       "stream": "stdout",
       "text": [
        "WARN  08:17:48,928 ExactAFCalculator - this tool is currently set to genotype at most 6 alternate alleles in a given context, but the context at Pf3D7_13_v3:1912411 has 8 alternate alleles so only the top alleles will be used; see the --max_alternate_alleles argument \r\n"
       ]
      },
      {
       "output_type": "stream",
       "stream": "stdout",
       "text": [
        "WARN  08:17:48,983 ExactAFCalculator - this tool is currently set to genotype at most 6 alternate alleles in a given context, but the context at Pf3D7_13_v3:1927667 has 7 alternate alleles so only the top alleles will be used; see the --max_alternate_alleles argument \r\n"
       ]
      },
      {
       "output_type": "stream",
       "stream": "stdout",
       "text": [
        "WARN  08:17:49,042 ExactAFCalculator - this tool is currently set to genotype at most 6 alternate alleles in a given context, but the context at Pf3D7_13_v3:1947580 has 9 alternate alleles so only the top alleles will be used; see the --max_alternate_alleles argument \r\n"
       ]
      },
      {
       "output_type": "stream",
       "stream": "stdout",
       "text": [
        "WARN  08:17:49,080 ExactAFCalculator - this tool is currently set to genotype at most 6 alternate alleles in a given context, but the context at Pf3D7_13_v3:1955405 has 7 alternate alleles so only the top alleles will be used; see the --max_alternate_alleles argument \r\n",
        "WARN  08:17:49,084 ExactAFCalculator - this tool is currently set to genotype at most 6 alternate alleles in a given context, but the context at Pf3D7_13_v3:1955572 has 8 alternate alleles so only the top alleles will be used; see the --max_alternate_alleles argument \r\n",
        "WARN  08:17:49,086 ExactAFCalculator - this tool is currently set to genotype at most 6 alternate alleles in a given context, but the context at Pf3D7_13_v3:1956072 has 7 alternate alleles so only the top alleles will be used; see the --max_alternate_alleles argument \r\n"
       ]
      },
      {
       "output_type": "stream",
       "stream": "stdout",
       "text": [
        "WARN  08:17:49,126 ExactAFCalculator - this tool is currently set to genotype at most 6 alternate alleles in a given context, but the context at Pf3D7_13_v3:1967940 has 7 alternate alleles so only the top alleles will be used; see the --max_alternate_alleles argument \r\n",
        "WARN  08:17:49,143 ExactAFCalculator - this tool is currently set to genotype at most 6 alternate alleles in a given context, but the context at Pf3D7_13_v3:1971705 has 7 alternate alleles so only the top alleles will be used; see the --max_alternate_alleles argument \r\n"
       ]
      },
      {
       "output_type": "stream",
       "stream": "stdout",
       "text": [
        "WARN  08:17:49,288 ExactAFCalculator - this tool is currently set to genotype at most 6 alternate alleles in a given context, but the context at Pf3D7_13_v3:2003065 has 7 alternate alleles so only the top alleles will be used; see the --max_alternate_alleles argument \r\n",
        "WARN  08:17:49,314 ExactAFCalculator - this tool is currently set to genotype at most 6 alternate alleles in a given context, but the context at Pf3D7_13_v3:2007974 has 10 alternate alleles so only the top alleles will be used; see the --max_alternate_alleles argument \r\n"
       ]
      },
      {
       "output_type": "stream",
       "stream": "stdout",
       "text": [
        "WARN  08:17:49,413 ExactAFCalculator - this tool is currently set to genotype at most 6 alternate alleles in a given context, but the context at Pf3D7_13_v3:2029703 has 7 alternate alleles so only the top alleles will be used; see the --max_alternate_alleles argument \r\n"
       ]
      },
      {
       "output_type": "stream",
       "stream": "stdout",
       "text": [
        "WARN  08:17:49,443 ExactAFCalculator - this tool is currently set to genotype at most 6 alternate alleles in a given context, but the context at Pf3D7_13_v3:2033435 has 7 alternate alleles so only the top alleles will be used; see the --max_alternate_alleles argument \r\n",
        "WARN  08:17:49,458 ExactAFCalculator - this tool is currently set to genotype at most 6 alternate alleles in a given context, but the context at Pf3D7_13_v3:2039634 has 7 alternate alleles so only the top alleles will be used; see the --max_alternate_alleles argument \r\n"
       ]
      },
      {
       "output_type": "stream",
       "stream": "stdout",
       "text": [
        "WARN  08:17:49,566 ExactAFCalculator - this tool is currently set to genotype at most 6 alternate alleles in a given context, but the context at Pf3D7_13_v3:2066874 has 8 alternate alleles so only the top alleles will be used; see the --max_alternate_alleles argument \r\n"
       ]
      },
      {
       "output_type": "stream",
       "stream": "stdout",
       "text": [
        "WARN  08:17:49,722 ExactAFCalculator - this tool is currently set to genotype at most 6 alternate alleles in a given context, but the context at Pf3D7_13_v3:2118325 has 7 alternate alleles so only the top alleles will be used; see the --max_alternate_alleles argument \r\n",
        "WARN  08:17:49,727 ExactAFCalculator - this tool is currently set to genotype at most 6 alternate alleles in a given context, but the context at Pf3D7_13_v3:2120645 has 9 alternate alleles so only the top alleles will be used; see the --max_alternate_alleles argument \r\n"
       ]
      },
      {
       "output_type": "stream",
       "stream": "stdout",
       "text": [
        "WARN  08:17:49,746 ExactAFCalculator - this tool is currently set to genotype at most 6 alternate alleles in a given context, but the context at Pf3D7_13_v3:2124992 has 7 alternate alleles so only the top alleles will be used; see the --max_alternate_alleles argument \r\n",
        "WARN  08:17:49,751 ExactAFCalculator - this tool is currently set to genotype at most 6 alternate alleles in a given context, but the context at Pf3D7_13_v3:2125550 has 9 alternate alleles so only the top alleles will be used; see the --max_alternate_alleles argument \r\n"
       ]
      },
      {
       "output_type": "stream",
       "stream": "stdout",
       "text": [
        "WARN  08:17:49,783 ExactAFCalculator - this tool is currently set to genotype at most 6 alternate alleles in a given context, but the context at Pf3D7_13_v3:2131836 has 8 alternate alleles so only the top alleles will be used; see the --max_alternate_alleles argument \r\n",
        "WARN  08:17:49,827 ExactAFCalculator - this tool is currently set to genotype at most 6 alternate alleles in a given context, but the context at Pf3D7_13_v3:2147286 has 7 alternate alleles so only the top alleles will be used; see the --max_alternate_alleles argument \r\n"
       ]
      },
      {
       "output_type": "stream",
       "stream": "stdout",
       "text": [
        "WARN  08:17:49,864 ExactAFCalculator - this tool is currently set to genotype at most 6 alternate alleles in a given context, but the context at Pf3D7_13_v3:2155090 has 7 alternate alleles so only the top alleles will be used; see the --max_alternate_alleles argument \r\n"
       ]
      },
      {
       "output_type": "stream",
       "stream": "stdout",
       "text": [
        "WARN  08:17:49,893 ExactAFCalculator - this tool is currently set to genotype at most 6 alternate alleles in a given context, but the context at Pf3D7_13_v3:2164507 has 11 alternate alleles so only the top alleles will be used; see the --max_alternate_alleles argument \r\n"
       ]
      },
      {
       "output_type": "stream",
       "stream": "stdout",
       "text": [
        "WARN  08:17:50,039 ExactAFCalculator - this tool is currently set to genotype at most 6 alternate alleles in a given context, but the context at Pf3D7_13_v3:2210569 has 7 alternate alleles so only the top alleles will be used; see the --max_alternate_alleles argument \r\n"
       ]
      },
      {
       "output_type": "stream",
       "stream": "stdout",
       "text": [
        "WARN  08:17:50,128 ExactAFCalculator - this tool is currently set to genotype at most 6 alternate alleles in a given context, but the context at Pf3D7_13_v3:2232027 has 7 alternate alleles so only the top alleles will be used; see the --max_alternate_alleles argument \r\n"
       ]
      },
      {
       "output_type": "stream",
       "stream": "stdout",
       "text": [
        "WARN  08:17:50,206 ExactAFCalculator - this tool is currently set to genotype at most 6 alternate alleles in a given context, but the context at Pf3D7_13_v3:2264170 has 7 alternate alleles so only the top alleles will be used; see the --max_alternate_alleles argument \r\n"
       ]
      },
      {
       "output_type": "stream",
       "stream": "stdout",
       "text": [
        "WARN  08:17:50,232 ExactAFCalculator - this tool is currently set to genotype at most 6 alternate alleles in a given context, but the context at Pf3D7_13_v3:2271313 has 7 alternate alleles so only the top alleles will be used; see the --max_alternate_alleles argument \r\n"
       ]
      },
      {
       "output_type": "stream",
       "stream": "stdout",
       "text": [
        "WARN  08:17:50,278 ExactAFCalculator - this tool is currently set to genotype at most 6 alternate alleles in a given context, but the context at Pf3D7_13_v3:2290790 has 7 alternate alleles so only the top alleles will be used; see the --max_alternate_alleles argument \r\n",
        "WARN  08:17:50,295 ExactAFCalculator - this tool is currently set to genotype at most 6 alternate alleles in a given context, but the context at Pf3D7_13_v3:2295731 has 7 alternate alleles so only the top alleles will be used; see the --max_alternate_alleles argument \r\n"
       ]
      },
      {
       "output_type": "stream",
       "stream": "stdout",
       "text": [
        "WARN  08:17:50,416 ExactAFCalculator - this tool is currently set to genotype at most 6 alternate alleles in a given context, but the context at Pf3D7_13_v3:2334672 has 9 alternate alleles so only the top alleles will be used; see the --max_alternate_alleles argument \r\n",
        "WARN  08:17:50,422 ExactAFCalculator - this tool is currently set to genotype at most 6 alternate alleles in a given context, but the context at Pf3D7_13_v3:2335923 has 7 alternate alleles so only the top alleles will be used; see the --max_alternate_alleles argument \r\n",
        "WARN  08:17:50,448 ExactAFCalculator - this tool is currently set to genotype at most 6 alternate alleles in a given context, but the context at Pf3D7_13_v3:2350380 has 7 alternate alleles so only the top alleles will be used; see the --max_alternate_alleles argument \r\n",
        "WARN  08:17:50,453 ExactAFCalculator - this tool is currently set to genotype at most 6 alternate alleles in a given context, but the context at Pf3D7_13_v3:2351478 has 7 alternate alleles so only the top alleles will be used; see the --max_alternate_alleles argument \r\n"
       ]
      },
      {
       "output_type": "stream",
       "stream": "stdout",
       "text": [
        "WARN  08:17:50,488 ExactAFCalculator - this tool is currently set to genotype at most 6 alternate alleles in a given context, but the context at Pf3D7_13_v3:2361627 has 7 alternate alleles so only the top alleles will be used; see the --max_alternate_alleles argument \r\n",
        "WARN  08:17:50,503 ExactAFCalculator - this tool is currently set to genotype at most 6 alternate alleles in a given context, but the context at Pf3D7_13_v3:2365469 has 7 alternate alleles so only the top alleles will be used; see the --max_alternate_alleles argument \r\n"
       ]
      },
      {
       "output_type": "stream",
       "stream": "stdout",
       "text": [
        "WARN  08:17:50,577 ExactAFCalculator - this tool is currently set to genotype at most 6 alternate alleles in a given context, but the context at Pf3D7_13_v3:2394502 has 8 alternate alleles so only the top alleles will be used; see the --max_alternate_alleles argument \r\n",
        "WARN  08:17:50,584 ExactAFCalculator - this tool is currently set to genotype at most 6 alternate alleles in a given context, but the context at Pf3D7_13_v3:2395833 has 7 alternate alleles so only the top alleles will be used; see the --max_alternate_alleles argument \r\n",
        "WARN  08:17:50,602 ExactAFCalculator - this tool is currently set to genotype at most 6 alternate alleles in a given context, but the context at Pf3D7_13_v3:2404862 has 14 alternate alleles so only the top alleles will be used; see the --max_alternate_alleles argument \r\n",
        "WARN  08:17:50,615 ExactAFCalculator - this tool is currently set to genotype at most 6 alternate alleles in a given context, but the context at Pf3D7_13_v3:2408182 has 7 alternate alleles so only the top alleles will be used; see the --max_alternate_alleles argument \r\n"
       ]
      },
      {
       "output_type": "stream",
       "stream": "stdout",
       "text": [
        "WARN  08:17:50,643 ExactAFCalculator - this tool is currently set to genotype at most 6 alternate alleles in a given context, but the context at Pf3D7_13_v3:2415978 has 7 alternate alleles so only the top alleles will be used; see the --max_alternate_alleles argument \r\n",
        "WARN  08:17:50,647 ExactAFCalculator - this tool is currently set to genotype at most 6 alternate alleles in a given context, but the context at Pf3D7_13_v3:2417634 has 7 alternate alleles so only the top alleles will be used; see the --max_alternate_alleles argument \r\n",
        "WARN  08:17:50,652 ExactAFCalculator - this tool is currently set to genotype at most 6 alternate alleles in a given context, but the context at Pf3D7_13_v3:2418672 has 10 alternate alleles so only the top alleles will be used; see the --max_alternate_alleles argument \r\n"
       ]
      },
      {
       "output_type": "stream",
       "stream": "stdout",
       "text": [
        "WARN  08:17:50,670 ExactAFCalculator - this tool is currently set to genotype at most 6 alternate alleles in a given context, but the context at Pf3D7_13_v3:2428330 has 7 alternate alleles so only the top alleles will be used; see the --max_alternate_alleles argument \r\n",
        "WARN  08:17:50,706 ExactAFCalculator - this tool is currently set to genotype at most 6 alternate alleles in a given context, but the context at Pf3D7_13_v3:2439680 has 8 alternate alleles so only the top alleles will be used; see the --max_alternate_alleles argument \r\n",
        "WARN  08:17:50,714 ExactAFCalculator - this tool is currently set to genotype at most 6 alternate alleles in a given context, but the context at Pf3D7_13_v3:2441044 has 8 alternate alleles so only the top alleles will be used; see the --max_alternate_alleles argument \r\n",
        "WARN  08:17:50,718 ExactAFCalculator - this tool is currently set to genotype at most 6 alternate alleles in a given context, but the context at Pf3D7_13_v3:2441895 has 8 alternate alleles so only the top alleles will be used; see the --max_alternate_alleles argument \r\n"
       ]
      },
      {
       "output_type": "stream",
       "stream": "stdout",
       "text": [
        "WARN  08:17:50,720 ExactAFCalculator - this tool is currently set to genotype at most 6 alternate alleles in a given context, but the context at Pf3D7_13_v3:2442088 has 14 alternate alleles so only the top alleles will be used; see the --max_alternate_alleles argument \r\n",
        "WARN  08:17:50,747 ExactAFCalculator - this tool is currently set to genotype at most 6 alternate alleles in a given context, but the context at Pf3D7_13_v3:2448431 has 9 alternate alleles so only the top alleles will be used; see the --max_alternate_alleles argument \r\n"
       ]
      },
      {
       "output_type": "stream",
       "stream": "stdout",
       "text": [
        "WARN  08:17:50,779 ExactAFCalculator - this tool is currently set to genotype at most 6 alternate alleles in a given context, but the context at Pf3D7_13_v3:2454600 has 7 alternate alleles so only the top alleles will be used; see the --max_alternate_alleles argument \r\n",
        "WARN  08:17:50,802 ExactAFCalculator - this tool is currently set to genotype at most 6 alternate alleles in a given context, but the context at Pf3D7_13_v3:2462855 has 7 alternate alleles so only the top alleles will be used; see the --max_alternate_alleles argument \r\n"
       ]
      },
      {
       "output_type": "stream",
       "stream": "stdout",
       "text": [
        "WARN  08:17:50,862 ExactAFCalculator - this tool is currently set to genotype at most 6 alternate alleles in a given context, but the context at Pf3D7_13_v3:2481655 has 8 alternate alleles so only the top alleles will be used; see the --max_alternate_alleles argument \r\n"
       ]
      },
      {
       "output_type": "stream",
       "stream": "stdout",
       "text": [
        "WARN  08:17:50,943 ExactAFCalculator - this tool is currently set to genotype at most 6 alternate alleles in a given context, but the context at Pf3D7_13_v3:2505550 has 8 alternate alleles so only the top alleles will be used; see the --max_alternate_alleles argument \r\n",
        "WARN  08:17:50,948 ExactAFCalculator - this tool is currently set to genotype at most 6 alternate alleles in a given context, but the context at Pf3D7_13_v3:2506596 has 14 alternate alleles so only the top alleles will be used; see the --max_alternate_alleles argument \r\n"
       ]
      },
      {
       "output_type": "stream",
       "stream": "stdout",
       "text": [
        "WARN  08:17:50,994 ExactAFCalculator - this tool is currently set to genotype at most 6 alternate alleles in a given context, but the context at Pf3D7_13_v3:2516950 has 7 alternate alleles so only the top alleles will be used; see the --max_alternate_alleles argument \r\n",
        "WARN  08:17:51,004 ExactAFCalculator - this tool is currently set to genotype at most 6 alternate alleles in a given context, but the context at Pf3D7_13_v3:2520624 has 8 alternate alleles so only the top alleles will be used; see the --max_alternate_alleles argument \r\n"
       ]
      },
      {
       "output_type": "stream",
       "stream": "stdout",
       "text": [
        "WARN  08:17:51,132 ExactAFCalculator - this tool is currently set to genotype at most 6 alternate alleles in a given context, but the context at Pf3D7_13_v3:2558979 has 7 alternate alleles so only the top alleles will be used; see the --max_alternate_alleles argument \r\n",
        "WARN  08:17:51,135 ExactAFCalculator - this tool is currently set to genotype at most 6 alternate alleles in a given context, but the context at Pf3D7_13_v3:2559579 has 7 alternate alleles so only the top alleles will be used; see the --max_alternate_alleles argument \r\n"
       ]
      },
      {
       "output_type": "stream",
       "stream": "stdout",
       "text": [
        "WARN  08:17:51,160 ExactAFCalculator - this tool is currently set to genotype at most 6 alternate alleles in a given context, but the context at Pf3D7_13_v3:2564488 has 7 alternate alleles so only the top alleles will be used; see the --max_alternate_alleles argument \r\n"
       ]
      },
      {
       "output_type": "stream",
       "stream": "stdout",
       "text": [
        "WARN  08:17:51,257 ExactAFCalculator - this tool is currently set to genotype at most 6 alternate alleles in a given context, but the context at Pf3D7_13_v3:2603864 has 8 alternate alleles so only the top alleles will be used; see the --max_alternate_alleles argument \r\n",
        "WARN  08:17:51,260 ExactAFCalculator - this tool is currently set to genotype at most 6 alternate alleles in a given context, but the context at Pf3D7_13_v3:2604075 has 8 alternate alleles so only the top alleles will be used; see the --max_alternate_alleles argument \r\n",
        "WARN  08:17:51,262 ExactAFCalculator - this tool is currently set to genotype at most 6 alternate alleles in a given context, but the context at Pf3D7_13_v3:2605077 has 8 alternate alleles so only the top alleles will be used; see the --max_alternate_alleles argument \r\n",
        "WARN  08:17:51,277 ExactAFCalculator - this tool is currently set to genotype at most 6 alternate alleles in a given context, but the context at Pf3D7_13_v3:2608064 has 8 alternate alleles so only the top alleles will be used; see the --max_alternate_alleles argument \r\n"
       ]
      },
      {
       "output_type": "stream",
       "stream": "stdout",
       "text": [
        "WARN  08:17:51,325 ExactAFCalculator - this tool is currently set to genotype at most 6 alternate alleles in a given context, but the context at Pf3D7_13_v3:2621235 has 9 alternate alleles so only the top alleles will be used; see the --max_alternate_alleles argument \r\n",
        "WARN  08:17:51,333 ExactAFCalculator - this tool is currently set to genotype at most 6 alternate alleles in a given context, but the context at Pf3D7_13_v3:2623628 has 8 alternate alleles so only the top alleles will be used; see the --max_alternate_alleles argument \r\n",
        "WARN  08:17:51,341 ExactAFCalculator - this tool is currently set to genotype at most 6 alternate alleles in a given context, but the context at Pf3D7_13_v3:2626497 has 7 alternate alleles so only the top alleles will be used; see the --max_alternate_alleles argument \r\n"
       ]
      },
      {
       "output_type": "stream",
       "stream": "stdout",
       "text": [
        "WARN  08:17:51,371 ExactAFCalculator - this tool is currently set to genotype at most 6 alternate alleles in a given context, but the context at Pf3D7_13_v3:2631456 has 8 alternate alleles so only the top alleles will be used; see the --max_alternate_alleles argument \r\n",
        "WARN  08:17:51,373 ExactAFCalculator - this tool is currently set to genotype at most 6 alternate alleles in a given context, but the context at Pf3D7_13_v3:2631784 has 7 alternate alleles so only the top alleles will be used; see the --max_alternate_alleles argument \r\n",
        "WARN  08:17:51,380 ExactAFCalculator - this tool is currently set to genotype at most 6 alternate alleles in a given context, but the context at Pf3D7_13_v3:2632753 has 8 alternate alleles so only the top alleles will be used; see the --max_alternate_alleles argument \r\n"
       ]
      },
      {
       "output_type": "stream",
       "stream": "stdout",
       "text": [
        "WARN  08:17:51,488 ExactAFCalculator - this tool is currently set to genotype at most 6 alternate alleles in a given context, but the context at Pf3D7_13_v3:2661513 has 7 alternate alleles so only the top alleles will be used; see the --max_alternate_alleles argument \r\n"
       ]
      },
      {
       "output_type": "stream",
       "stream": "stdout",
       "text": [
        "WARN  08:17:51,530 ExactAFCalculator - this tool is currently set to genotype at most 6 alternate alleles in a given context, but the context at Pf3D7_13_v3:2670412 has 7 alternate alleles so only the top alleles will be used; see the --max_alternate_alleles argument \r\n",
        "WARN  08:17:51,566 ExactAFCalculator - this tool is currently set to genotype at most 6 alternate alleles in a given context, but the context at Pf3D7_13_v3:2675964 has 7 alternate alleles so only the top alleles will be used; see the --max_alternate_alleles argument \r\n"
       ]
      },
      {
       "output_type": "stream",
       "stream": "stdout",
       "text": [
        "WARN  08:17:51,582 ExactAFCalculator - this tool is currently set to genotype at most 6 alternate alleles in a given context, but the context at Pf3D7_13_v3:2679791 has 7 alternate alleles so only the top alleles will be used; see the --max_alternate_alleles argument \r\n",
        "WARN  08:17:51,584 ExactAFCalculator - this tool is currently set to genotype at most 6 alternate alleles in a given context, but the context at Pf3D7_13_v3:2679987 has 7 alternate alleles so only the top alleles will be used; see the --max_alternate_alleles argument \r\n"
       ]
      },
      {
       "output_type": "stream",
       "stream": "stdout",
       "text": [
        "WARN  08:17:51,656 ExactAFCalculator - this tool is currently set to genotype at most 6 alternate alleles in a given context, but the context at Pf3D7_13_v3:2701017 has 11 alternate alleles so only the top alleles will be used; see the --max_alternate_alleles argument \r\n"
       ]
      },
      {
       "output_type": "stream",
       "stream": "stdout",
       "text": [
        "WARN  08:17:51,681 ExactAFCalculator - this tool is currently set to genotype at most 6 alternate alleles in a given context, but the context at Pf3D7_13_v3:2709732 has 8 alternate alleles so only the top alleles will be used; see the --max_alternate_alleles argument \r\n",
        "WARN  08:17:51,690 ExactAFCalculator - this tool is currently set to genotype at most 6 alternate alleles in a given context, but the context at Pf3D7_13_v3:2711424 has 7 alternate alleles so only the top alleles will be used; see the --max_alternate_alleles argument \r\n",
        "WARN  08:17:51,719 ExactAFCalculator - this tool is currently set to genotype at most 6 alternate alleles in a given context, but the context at Pf3D7_13_v3:2718155 has 7 alternate alleles so only the top alleles will be used; see the --max_alternate_alleles argument \r\n"
       ]
      },
      {
       "output_type": "stream",
       "stream": "stdout",
       "text": [
        "WARN  08:17:51,727 ExactAFCalculator - this tool is currently set to genotype at most 6 alternate alleles in a given context, but the context at Pf3D7_13_v3:2719661 has 7 alternate alleles so only the top alleles will be used; see the --max_alternate_alleles argument \r\n"
       ]
      },
      {
       "output_type": "stream",
       "stream": "stdout",
       "text": [
        "WARN  08:17:51,796 ExactAFCalculator - this tool is currently set to genotype at most 6 alternate alleles in a given context, but the context at Pf3D7_13_v3:2741292 has 7 alternate alleles so only the top alleles will be used; see the --max_alternate_alleles argument \r\n",
        "WARN  08:17:51,814 ExactAFCalculator - this tool is currently set to genotype at most 6 alternate alleles in a given context, but the context at Pf3D7_13_v3:2748332 has 10 alternate alleles so only the top alleles will be used; see the --max_alternate_alleles argument \r\n",
        "WARN  08:17:51,829 ExactAFCalculator - this tool is currently set to genotype at most 6 alternate alleles in a given context, but the context at Pf3D7_13_v3:2756131 has 9 alternate alleles so only the top alleles will be used; see the --max_alternate_alleles argument \r\n"
       ]
      },
      {
       "output_type": "stream",
       "stream": "stdout",
       "text": [
        "WARN  08:17:51,898 ExactAFCalculator - this tool is currently set to genotype at most 6 alternate alleles in a given context, but the context at Pf3D7_13_v3:2783576 has 7 alternate alleles so only the top alleles will be used; see the --max_alternate_alleles argument \r\n",
        "WARN  08:17:51,901 ExactAFCalculator - this tool is currently set to genotype at most 6 alternate alleles in a given context, but the context at Pf3D7_13_v3:2784550 has 8 alternate alleles so only the top alleles will be used; see the --max_alternate_alleles argument \r\n"
       ]
      },
      {
       "output_type": "stream",
       "stream": "stdout",
       "text": [
        "WARN  08:17:51,939 ExactAFCalculator - this tool is currently set to genotype at most 6 alternate alleles in a given context, but the context at Pf3D7_13_v3:2795182 has 8 alternate alleles so only the top alleles will be used; see the --max_alternate_alleles argument \r\n"
       ]
      },
      {
       "output_type": "stream",
       "stream": "stdout",
       "text": [
        "WARN  08:17:51,998 ExactAFCalculator - this tool is currently set to genotype at most 6 alternate alleles in a given context, but the context at Pf3D7_13_v3:2809086 has 7 alternate alleles so only the top alleles will be used; see the --max_alternate_alleles argument \r\n",
        "WARN  08:17:52,025 ExactAFCalculator - this tool is currently set to genotype at most 6 alternate alleles in a given context, but the context at Pf3D7_13_v3:2820840 has 7 alternate alleles so only the top alleles will be used; see the --max_alternate_alleles argument \r\n"
       ]
      },
      {
       "output_type": "stream",
       "stream": "stdout",
       "text": [
        "WARN  08:17:52,097 ExactAFCalculator - this tool is currently set to genotype at most 6 alternate alleles in a given context, but the context at Pf3D7_13_v3:2844805 has 7 alternate alleles so only the top alleles will be used; see the --max_alternate_alleles argument \r\n",
        "WARN  08:17:52,123 ExactAFCalculator - this tool is currently set to genotype at most 6 alternate alleles in a given context, but the context at Pf3D7_13_v3:2850771 has 10 alternate alleles so only the top alleles will be used; see the --max_alternate_alleles argument \r\n",
        "WARN  08:17:52,130 ExactAFCalculator - this tool is currently set to genotype at most 6 alternate alleles in a given context, but the context at Pf3D7_13_v3:2853511 has 11 alternate alleles so only the top alleles will be used; see the --max_alternate_alleles argument \r\n",
        "WARN  08:17:52,146 ExactAFCalculator - this tool is currently set to genotype at most 6 alternate alleles in a given context, but the context at Pf3D7_13_v3:2856762 has 7 alternate alleles so only the top alleles will be used; see the --max_alternate_alleles argument \r\n"
       ]
      },
      {
       "output_type": "stream",
       "stream": "stdout",
       "text": [
        "INFO  08:17:53,016 ProgressMeter -            done   2925236.0    14.0 s       5.0 s       85.9%    16.0 s       2.0 s \r\n",
        "INFO  08:17:53,016 ProgressMeter - Total runtime 14.69 secs, 0.24 min, 0.00 hours \r\n"
       ]
      },
      {
       "output_type": "stream",
       "stream": "stdout",
       "text": [
        "INFO  08:18:00,169 GATKRunReport - Uploaded run statistics report to AWS S3 \r\n"
       ]
      },
      {
       "output_type": "stream",
       "stream": "stdout",
       "text": [
        "INFO  08:18:01,846 HelpFormatter - -------------------------------------------------------------------------------- \r\n",
        "INFO  08:18:01,848 HelpFormatter - The Genome Analysis Toolkit (GATK) v3.4-0-g7e26428, Compiled 2015/05/15 03:25:41 \r\n",
        "INFO  08:18:01,848 HelpFormatter - Copyright (c) 2010 The Broad Institute \r\n",
        "INFO  08:18:01,848 HelpFormatter - For support and documentation go to http://www.broadinstitute.org/gatk \r\n",
        "INFO  08:18:01,851 HelpFormatter - Program Args: -T CombineGVCFs -R /data/plasmodium/pfalciparum/recon/roamato/Pf3D7_v3/3D7_sorted.fa --variant /nfs/team112_internal/production_files/Pf3k/methods/assembled_samples/vcfs/gvcf/lists/gvcfs.Pf3D7_14_v3.0.list -o /nfs/team112_internal/production_files/Pf3k/methods/assembled_samples/vcfs/gvcf/combined_gvcf/combined.Pf3D7_14_v3.0.g.vcf \r\n"
       ]
      },
      {
       "output_type": "stream",
       "stream": "stdout",
       "text": [
        "INFO  08:18:01,857 HelpFormatter - Executing as rpearson@dhcp511.well.ox.ac.uk on Mac OS X 10.10.3 x86_64; Java HotSpot(TM) 64-Bit Server VM 1.7.0_60-b19. \r\n",
        "INFO  08:18:01,857 HelpFormatter - Date/Time: 2015/07/01 08:18:01 \r\n",
        "INFO  08:18:01,857 HelpFormatter - -------------------------------------------------------------------------------- \r\n",
        "INFO  08:18:01,857 HelpFormatter - -------------------------------------------------------------------------------- \r\n"
       ]
      },
      {
       "output_type": "stream",
       "stream": "stdout",
       "text": [
        "INFO  08:18:02,252 GenomeAnalysisEngine - Strictness is SILENT \r\n"
       ]
      },
      {
       "output_type": "stream",
       "stream": "stdout",
       "text": [
        "INFO  08:18:02,311 GenomeAnalysisEngine - Downsampling Settings: Method: BY_SAMPLE, Target Coverage: 1000 \r\n"
       ]
      },
      {
       "output_type": "stream",
       "stream": "stdout",
       "text": [
        "INFO  08:18:02,441 GenomeAnalysisEngine - Preparing for traversal \r\n",
        "INFO  08:18:02,442 GenomeAnalysisEngine - Done preparing for traversal \r\n",
        "INFO  08:18:02,442 ProgressMeter - [INITIALIZATION COMPLETE; STARTING PROCESSING] \r\n",
        "INFO  08:18:02,442 ProgressMeter -                 | processed |    time |    per 1M |           |   total | remaining \r\n",
        "INFO  08:18:02,443 ProgressMeter -        Location |     sites | elapsed |     sites | completed | runtime |   runtime \r\n"
       ]
      },
      {
       "output_type": "stream",
       "stream": "stdout",
       "text": [
        "INFO  08:18:13,739 ProgressMeter -            done   3291936.0    11.0 s       3.0 s      100.0%    11.0 s       0.0 s \r\n",
        "INFO  08:18:13,740 ProgressMeter - Total runtime 11.30 secs, 0.19 min, 0.00 hours \r\n"
       ]
      },
      {
       "output_type": "stream",
       "stream": "stdout",
       "text": [
        "INFO  08:18:16,765 GATKRunReport - Uploaded run statistics report to AWS S3 \r\n"
       ]
      },
      {
       "output_type": "stream",
       "stream": "stdout",
       "text": [
        "INFO  08:18:18,427 HelpFormatter - -------------------------------------------------------------------------------- \r\n",
        "INFO  08:18:18,429 HelpFormatter - The Genome Analysis Toolkit (GATK) v3.4-0-g7e26428, Compiled 2015/05/15 03:25:41 \r\n",
        "INFO  08:18:18,430 HelpFormatter - Copyright (c) 2010 The Broad Institute \r\n",
        "INFO  08:18:18,430 HelpFormatter - For support and documentation go to http://www.broadinstitute.org/gatk \r\n",
        "INFO  08:18:18,433 HelpFormatter - Program Args: -T CombineGVCFs -R /data/plasmodium/pfalciparum/recon/roamato/Pf3D7_v3/3D7_sorted.fa --variant /nfs/team112_internal/production_files/Pf3k/methods/assembled_samples/vcfs/gvcf/lists/gvcfs.Pf3D7_14_v3.1.list -o /nfs/team112_internal/production_files/Pf3k/methods/assembled_samples/vcfs/gvcf/combined_gvcf/combined.Pf3D7_14_v3.1.g.vcf \r\n",
        "INFO  08:18:18,439 HelpFormatter - Executing as rpearson@dhcp511.well.ox.ac.uk on Mac OS X 10.10.3 x86_64; Java HotSpot(TM) 64-Bit Server VM 1.7.0_60-b19. \r\n",
        "INFO  08:18:18,439 HelpFormatter - Date/Time: 2015/07/01 08:18:18 \r\n",
        "INFO  08:18:18,439 HelpFormatter - -------------------------------------------------------------------------------- \r\n",
        "INFO  08:18:18,440 HelpFormatter - -------------------------------------------------------------------------------- \r\n"
       ]
      },
      {
       "output_type": "stream",
       "stream": "stdout",
       "text": [
        "INFO  08:18:18,850 GenomeAnalysisEngine - Strictness is SILENT \r\n"
       ]
      },
      {
       "output_type": "stream",
       "stream": "stdout",
       "text": [
        "INFO  08:18:18,906 GenomeAnalysisEngine - Downsampling Settings: Method: BY_SAMPLE, Target Coverage: 1000 \r\n"
       ]
      },
      {
       "output_type": "stream",
       "stream": "stdout",
       "text": [
        "INFO  08:18:19,045 GenomeAnalysisEngine - Preparing for traversal \r\n"
       ]
      },
      {
       "output_type": "stream",
       "stream": "stdout",
       "text": [
        "INFO  08:18:19,046 GenomeAnalysisEngine - Done preparing for traversal \r\n",
        "INFO  08:18:19,047 ProgressMeter - [INITIALIZATION COMPLETE; STARTING PROCESSING] \r\n",
        "INFO  08:18:19,047 ProgressMeter -                 | processed |    time |    per 1M |           |   total | remaining \r\n",
        "INFO  08:18:19,047 ProgressMeter -        Location |     sites | elapsed |     sites | completed | runtime |   runtime \r\n"
       ]
      },
      {
       "output_type": "stream",
       "stream": "stdout",
       "text": [
        "INFO  08:18:30,943 ProgressMeter -            done   3291936.0    11.0 s       3.0 s      100.0%    11.0 s       0.0 s \r\n",
        "INFO  08:18:30,944 ProgressMeter - Total runtime 11.90 secs, 0.20 min, 0.00 hours \r\n"
       ]
      },
      {
       "output_type": "stream",
       "stream": "stdout",
       "text": [
        "INFO  08:18:33,361 GATKRunReport - Uploaded run statistics report to AWS S3 \r\n"
       ]
      },
      {
       "output_type": "stream",
       "stream": "stdout",
       "text": [
        "INFO  08:18:35,117 HelpFormatter - -------------------------------------------------------------------------------- \r\n",
        "INFO  08:18:35,118 HelpFormatter - The Genome Analysis Toolkit (GATK) v3.4-0-g7e26428, Compiled 2015/05/15 03:25:41 \r\n",
        "INFO  08:18:35,118 HelpFormatter - Copyright (c) 2010 The Broad Institute \r\n",
        "INFO  08:18:35,119 HelpFormatter - For support and documentation go to http://www.broadinstitute.org/gatk \r\n",
        "INFO  08:18:35,122 HelpFormatter - Program Args: -T GenotypeGVCFs -R /data/plasmodium/pfalciparum/recon/roamato/Pf3D7_v3/3D7_sorted.fa --variant /nfs/team112_internal/production_files/Pf3k/methods/assembled_samples/vcfs/gvcf/lists/gvcfs.Pf3D7_14_v3.all.list -o /nfs/team112_internal/production_files/Pf3k/methods/assembled_samples/vcfs/vcf/raw.snps.indels.Pf3D7_14_v3.vcf \r\n"
       ]
      },
      {
       "output_type": "stream",
       "stream": "stdout",
       "text": [
        "INFO  08:18:35,303 HelpFormatter - Executing as rpearson@dhcp511.well.ox.ac.uk on Mac OS X 10.10.3 x86_64; Java HotSpot(TM) 64-Bit Server VM 1.7.0_60-b19. \r\n",
        "INFO  08:18:35,303 HelpFormatter - Date/Time: 2015/07/01 08:18:35 \r\n",
        "INFO  08:18:35,303 HelpFormatter - -------------------------------------------------------------------------------- \r\n",
        "INFO  08:18:35,304 HelpFormatter - -------------------------------------------------------------------------------- \r\n"
       ]
      },
      {
       "output_type": "stream",
       "stream": "stdout",
       "text": [
        "INFO  08:18:35,666 GenomeAnalysisEngine - Strictness is SILENT \r\n"
       ]
      },
      {
       "output_type": "stream",
       "stream": "stdout",
       "text": [
        "INFO  08:18:35,719 GenomeAnalysisEngine - Downsampling Settings: Method: BY_SAMPLE, Target Coverage: 1000 \r\n"
       ]
      },
      {
       "output_type": "stream",
       "stream": "stdout",
       "text": [
        "INFO  08:18:35,837 GenomeAnalysisEngine - Preparing for traversal \r\n",
        "INFO  08:18:35,838 GenomeAnalysisEngine - Done preparing for traversal \r\n",
        "INFO  08:18:35,838 ProgressMeter - [INITIALIZATION COMPLETE; STARTING PROCESSING] \r\n",
        "INFO  08:18:35,838 ProgressMeter -                 | processed |    time |    per 1M |           |   total | remaining \r\n",
        "INFO  08:18:35,839 ProgressMeter -        Location |     sites | elapsed |     sites | completed | runtime |   runtime \r\n"
       ]
      },
      {
       "output_type": "stream",
       "stream": "stdout",
       "text": [
        "INFO  08:18:35,924 GenotypeGVCFs - Notice that the -ploidy parameter is ignored in GenotypeGVCFs tool as this is automatically determined by the input variant files \r\n"
       ]
      },
      {
       "output_type": "stream",
       "stream": "stdout",
       "text": [
        "WARN  08:18:40,463 ExactAFCalculator - this tool is currently set to genotype at most 6 alternate alleles in a given context, but the context at Pf3D7_14_v3:37216 has 8 alternate alleles so only the top alleles will be used; see the --max_alternate_alleles argument \r\n"
       ]
      },
      {
       "output_type": "stream",
       "stream": "stdout",
       "text": [
        "WARN  08:18:40,788 ExactAFCalculator - this tool is currently set to genotype at most 6 alternate alleles in a given context, but the context at Pf3D7_14_v3:52883 has 9 alternate alleles so only the top alleles will be used; see the --max_alternate_alleles argument \r\n"
       ]
      },
      {
       "output_type": "stream",
       "stream": "stdout",
       "text": [
        "WARN  08:18:41,054 ExactAFCalculator - this tool is currently set to genotype at most 6 alternate alleles in a given context, but the context at Pf3D7_14_v3:66205 has 7 alternate alleles so only the top alleles will be used; see the --max_alternate_alleles argument \r\n"
       ]
      },
      {
       "output_type": "stream",
       "stream": "stdout",
       "text": [
        "WARN  08:18:41,175 ExactAFCalculator - this tool is currently set to genotype at most 6 alternate alleles in a given context, but the context at Pf3D7_14_v3:70093 has 7 alternate alleles so only the top alleles will be used; see the --max_alternate_alleles argument \r\n"
       ]
      },
      {
       "output_type": "stream",
       "stream": "stdout",
       "text": [
        "WARN  08:18:41,442 ExactAFCalculator - this tool is currently set to genotype at most 6 alternate alleles in a given context, but the context at Pf3D7_14_v3:85358 has 7 alternate alleles so only the top alleles will be used; see the --max_alternate_alleles argument \r\n",
        "WARN  08:18:41,454 ExactAFCalculator - this tool is currently set to genotype at most 6 alternate alleles in a given context, but the context at Pf3D7_14_v3:85644 has 8 alternate alleles so only the top alleles will be used; see the --max_alternate_alleles argument \r\n"
       ]
      },
      {
       "output_type": "stream",
       "stream": "stdout",
       "text": [
        "WARN  08:18:41,557 ExactAFCalculator - this tool is currently set to genotype at most 6 alternate alleles in a given context, but the context at Pf3D7_14_v3:92920 has 7 alternate alleles so only the top alleles will be used; see the --max_alternate_alleles argument \r\n"
       ]
      },
      {
       "output_type": "stream",
       "stream": "stdout",
       "text": [
        "WARN  08:18:41,644 ExactAFCalculator - this tool is currently set to genotype at most 6 alternate alleles in a given context, but the context at Pf3D7_14_v3:97986 has 7 alternate alleles so only the top alleles will be used; see the --max_alternate_alleles argument \r\n"
       ]
      },
      {
       "output_type": "stream",
       "stream": "stdout",
       "text": [
        "WARN  08:18:41,751 ExactAFCalculator - this tool is currently set to genotype at most 6 alternate alleles in a given context, but the context at Pf3D7_14_v3:105638 has 7 alternate alleles so only the top alleles will be used; see the --max_alternate_alleles argument \r\n"
       ]
      },
      {
       "output_type": "stream",
       "stream": "stdout",
       "text": [
        "WARN  08:18:41,805 ExactAFCalculator - this tool is currently set to genotype at most 6 alternate alleles in a given context, but the context at Pf3D7_14_v3:110436 has 7 alternate alleles so only the top alleles will be used; see the --max_alternate_alleles argument \r\n"
       ]
      },
      {
       "output_type": "stream",
       "stream": "stdout",
       "text": [
        "WARN  08:18:41,957 ExactAFCalculator - this tool is currently set to genotype at most 6 alternate alleles in a given context, but the context at Pf3D7_14_v3:129037 has 8 alternate alleles so only the top alleles will be used; see the --max_alternate_alleles argument \r\n"
       ]
      },
      {
       "output_type": "stream",
       "stream": "stdout",
       "text": [
        "WARN  08:18:42,032 ExactAFCalculator - this tool is currently set to genotype at most 6 alternate alleles in a given context, but the context at Pf3D7_14_v3:135632 has 7 alternate alleles so only the top alleles will be used; see the --max_alternate_alleles argument \r\n"
       ]
      },
      {
       "output_type": "stream",
       "stream": "stdout",
       "text": [
        "WARN  08:18:42,139 ExactAFCalculator - this tool is currently set to genotype at most 6 alternate alleles in a given context, but the context at Pf3D7_14_v3:146809 has 8 alternate alleles so only the top alleles will be used; see the --max_alternate_alleles argument \r\n"
       ]
      },
      {
       "output_type": "stream",
       "stream": "stdout",
       "text": [
        "WARN  08:18:42,202 ExactAFCalculator - this tool is currently set to genotype at most 6 alternate alleles in a given context, but the context at Pf3D7_14_v3:155153 has 7 alternate alleles so only the top alleles will be used; see the --max_alternate_alleles argument \r\n",
        "WARN  08:18:42,217 ExactAFCalculator - this tool is currently set to genotype at most 6 alternate alleles in a given context, but the context at Pf3D7_14_v3:156484 has 7 alternate alleles so only the top alleles will be used; see the --max_alternate_alleles argument \r\n"
       ]
      },
      {
       "output_type": "stream",
       "stream": "stdout",
       "text": [
        "WARN  08:18:42,384 ExactAFCalculator - this tool is currently set to genotype at most 6 alternate alleles in a given context, but the context at Pf3D7_14_v3:181329 has 8 alternate alleles so only the top alleles will be used; see the --max_alternate_alleles argument \r\n",
        "WARN  08:18:42,392 ExactAFCalculator - this tool is currently set to genotype at most 6 alternate alleles in a given context, but the context at Pf3D7_14_v3:185098 has 9 alternate alleles so only the top alleles will be used; see the --max_alternate_alleles argument \r\n"
       ]
      },
      {
       "output_type": "stream",
       "stream": "stdout",
       "text": [
        "WARN  08:18:42,420 ExactAFCalculator - this tool is currently set to genotype at most 6 alternate alleles in a given context, but the context at Pf3D7_14_v3:194337 has 7 alternate alleles so only the top alleles will be used; see the --max_alternate_alleles argument \r\n",
        "WARN  08:18:42,443 ExactAFCalculator - this tool is currently set to genotype at most 6 alternate alleles in a given context, but the context at Pf3D7_14_v3:199733 has 7 alternate alleles so only the top alleles will be used; see the --max_alternate_alleles argument \r\n"
       ]
      },
      {
       "output_type": "stream",
       "stream": "stdout",
       "text": [
        "WARN  08:18:42,467 ExactAFCalculator - this tool is currently set to genotype at most 6 alternate alleles in a given context, but the context at Pf3D7_14_v3:205161 has 7 alternate alleles so only the top alleles will be used; see the --max_alternate_alleles argument \r\n"
       ]
      },
      {
       "output_type": "stream",
       "stream": "stdout",
       "text": [
        "WARN  08:18:42,565 ExactAFCalculator - this tool is currently set to genotype at most 6 alternate alleles in a given context, but the context at Pf3D7_14_v3:237877 has 9 alternate alleles so only the top alleles will be used; see the --max_alternate_alleles argument \r\n"
       ]
      },
      {
       "output_type": "stream",
       "stream": "stdout",
       "text": [
        "WARN  08:18:42,629 ExactAFCalculator - this tool is currently set to genotype at most 6 alternate alleles in a given context, but the context at Pf3D7_14_v3:253451 has 8 alternate alleles so only the top alleles will be used; see the --max_alternate_alleles argument \r\n"
       ]
      },
      {
       "output_type": "stream",
       "stream": "stdout",
       "text": [
        "WARN  08:18:42,662 ExactAFCalculator - this tool is currently set to genotype at most 6 alternate alleles in a given context, but the context at Pf3D7_14_v3:261035 has 7 alternate alleles so only the top alleles will be used; see the --max_alternate_alleles argument \r\n",
        "WARN  08:18:42,674 ExactAFCalculator - this tool is currently set to genotype at most 6 alternate alleles in a given context, but the context at Pf3D7_14_v3:262938 has 9 alternate alleles so only the top alleles will be used; see the --max_alternate_alleles argument \r\n"
       ]
      },
      {
       "output_type": "stream",
       "stream": "stdout",
       "text": [
        "WARN  08:18:42,724 ExactAFCalculator - this tool is currently set to genotype at most 6 alternate alleles in a given context, but the context at Pf3D7_14_v3:270850 has 7 alternate alleles so only the top alleles will be used; see the --max_alternate_alleles argument \r\n"
       ]
      },
      {
       "output_type": "stream",
       "stream": "stdout",
       "text": [
        "WARN  08:18:42,922 ExactAFCalculator - this tool is currently set to genotype at most 6 alternate alleles in a given context, but the context at Pf3D7_14_v3:312458 has 7 alternate alleles so only the top alleles will be used; see the --max_alternate_alleles argument \r\n"
       ]
      },
      {
       "output_type": "stream",
       "stream": "stdout",
       "text": [
        "WARN  08:18:42,925 ExactAFCalculator - this tool is currently set to genotype at most 6 alternate alleles in a given context, but the context at Pf3D7_14_v3:313007 has 9 alternate alleles so only the top alleles will be used; see the --max_alternate_alleles argument \r\n"
       ]
      },
      {
       "output_type": "stream",
       "stream": "stdout",
       "text": [
        "WARN  08:18:43,078 ExactAFCalculator - this tool is currently set to genotype at most 6 alternate alleles in a given context, but the context at Pf3D7_14_v3:362080 has 7 alternate alleles so only the top alleles will be used; see the --max_alternate_alleles argument \r\n"
       ]
      },
      {
       "output_type": "stream",
       "stream": "stdout",
       "text": [
        "WARN  08:18:43,242 ExactAFCalculator - this tool is currently set to genotype at most 6 alternate alleles in a given context, but the context at Pf3D7_14_v3:396350 has 8 alternate alleles so only the top alleles will be used; see the --max_alternate_alleles argument \r\n",
        "WARN  08:18:43,251 ExactAFCalculator - this tool is currently set to genotype at most 6 alternate alleles in a given context, but the context at Pf3D7_14_v3:397645 has 10 alternate alleles so only the top alleles will be used; see the --max_alternate_alleles argument \r\n"
       ]
      },
      {
       "output_type": "stream",
       "stream": "stdout",
       "text": [
        "WARN  08:18:43,315 ExactAFCalculator - this tool is currently set to genotype at most 6 alternate alleles in a given context, but the context at Pf3D7_14_v3:419953 has 7 alternate alleles so only the top alleles will be used; see the --max_alternate_alleles argument \r\n"
       ]
      },
      {
       "output_type": "stream",
       "stream": "stdout",
       "text": [
        "WARN  08:18:43,440 ExactAFCalculator - this tool is currently set to genotype at most 6 alternate alleles in a given context, but the context at Pf3D7_14_v3:452767 has 7 alternate alleles so only the top alleles will be used; see the --max_alternate_alleles argument \r\n"
       ]
      },
      {
       "output_type": "stream",
       "stream": "stdout",
       "text": [
        "WARN  08:18:43,565 ExactAFCalculator - this tool is currently set to genotype at most 6 alternate alleles in a given context, but the context at Pf3D7_14_v3:478497 has 7 alternate alleles so only the top alleles will be used; see the --max_alternate_alleles argument \r\n"
       ]
      },
      {
       "output_type": "stream",
       "stream": "stdout",
       "text": [
        "WARN  08:18:43,624 ExactAFCalculator - this tool is currently set to genotype at most 6 alternate alleles in a given context, but the context at Pf3D7_14_v3:490103 has 8 alternate alleles so only the top alleles will be used; see the --max_alternate_alleles argument \r\n"
       ]
      },
      {
       "output_type": "stream",
       "stream": "stdout",
       "text": [
        "WARN  08:18:43,754 ExactAFCalculator - this tool is currently set to genotype at most 6 alternate alleles in a given context, but the context at Pf3D7_14_v3:508974 has 7 alternate alleles so only the top alleles will be used; see the --max_alternate_alleles argument \r\n",
        "WARN  08:18:43,763 ExactAFCalculator - this tool is currently set to genotype at most 6 alternate alleles in a given context, but the context at Pf3D7_14_v3:509539 has 8 alternate alleles so only the top alleles will be used; see the --max_alternate_alleles argument \r\n"
       ]
      },
      {
       "output_type": "stream",
       "stream": "stdout",
       "text": [
        "WARN  08:18:43,783 ExactAFCalculator - this tool is currently set to genotype at most 6 alternate alleles in a given context, but the context at Pf3D7_14_v3:512216 has 7 alternate alleles so only the top alleles will be used; see the --max_alternate_alleles argument \r\n",
        "WARN  08:18:43,803 ExactAFCalculator - this tool is currently set to genotype at most 6 alternate alleles in a given context, but the context at Pf3D7_14_v3:517895 has 7 alternate alleles so only the top alleles will be used; see the --max_alternate_alleles argument \r\n",
        "WARN  08:18:43,809 ExactAFCalculator - this tool is currently set to genotype at most 6 alternate alleles in a given context, but the context at Pf3D7_14_v3:518362 has 7 alternate alleles so only the top alleles will be used; see the --max_alternate_alleles argument \r\n"
       ]
      },
      {
       "output_type": "stream",
       "stream": "stdout",
       "text": [
        "WARN  08:18:43,881 ExactAFCalculator - this tool is currently set to genotype at most 6 alternate alleles in a given context, but the context at Pf3D7_14_v3:526458 has 8 alternate alleles so only the top alleles will be used; see the --max_alternate_alleles argument \r\n",
        "WARN  08:18:43,888 ExactAFCalculator - this tool is currently set to genotype at most 6 alternate alleles in a given context, but the context at Pf3D7_14_v3:527661 has 8 alternate alleles so only the top alleles will be used; see the --max_alternate_alleles argument \r\n"
       ]
      },
      {
       "output_type": "stream",
       "stream": "stdout",
       "text": [
        "WARN  08:18:44,068 ExactAFCalculator - this tool is currently set to genotype at most 6 alternate alleles in a given context, but the context at Pf3D7_14_v3:552690 has 8 alternate alleles so only the top alleles will be used; see the --max_alternate_alleles argument \r\n",
        "WARN  08:18:44,074 ExactAFCalculator - this tool is currently set to genotype at most 6 alternate alleles in a given context, but the context at Pf3D7_14_v3:553393 has 7 alternate alleles so only the top alleles will be used; see the --max_alternate_alleles argument \r\n"
       ]
      },
      {
       "output_type": "stream",
       "stream": "stdout",
       "text": [
        "WARN  08:18:44,082 ExactAFCalculator - this tool is currently set to genotype at most 6 alternate alleles in a given context, but the context at Pf3D7_14_v3:553721 has 11 alternate alleles so only the top alleles will be used; see the --max_alternate_alleles argument \r\n",
        "WARN  08:18:44,111 ExactAFCalculator - this tool is currently set to genotype at most 6 alternate alleles in a given context, but the context at Pf3D7_14_v3:555955 has 8 alternate alleles so only the top alleles will be used; see the --max_alternate_alleles argument \r\n",
        "WARN  08:18:44,118 ExactAFCalculator - this tool is currently set to genotype at most 6 alternate alleles in a given context, but the context at Pf3D7_14_v3:556640 has 7 alternate alleles so only the top alleles will be used; see the --max_alternate_alleles argument \r\n"
       ]
      },
      {
       "output_type": "stream",
       "stream": "stdout",
       "text": [
        "WARN  08:18:44,302 ExactAFCalculator - this tool is currently set to genotype at most 6 alternate alleles in a given context, but the context at Pf3D7_14_v3:575786 has 8 alternate alleles so only the top alleles will be used; see the --max_alternate_alleles argument \r\n"
       ]
      },
      {
       "output_type": "stream",
       "stream": "stdout",
       "text": [
        "WARN  08:18:44,376 ExactAFCalculator - this tool is currently set to genotype at most 6 alternate alleles in a given context, but the context at Pf3D7_14_v3:592577 has 7 alternate alleles so only the top alleles will be used; see the --max_alternate_alleles argument \r\n"
       ]
      },
      {
       "output_type": "stream",
       "stream": "stdout",
       "text": [
        "WARN  08:18:44,544 ExactAFCalculator - this tool is currently set to genotype at most 6 alternate alleles in a given context, but the context at Pf3D7_14_v3:639875 has 7 alternate alleles so only the top alleles will be used; see the --max_alternate_alleles argument \r\n",
        "WARN  08:18:44,554 ExactAFCalculator - this tool is currently set to genotype at most 6 alternate alleles in a given context, but the context at Pf3D7_14_v3:642450 has 7 alternate alleles so only the top alleles will be used; see the --max_alternate_alleles argument \r\n"
       ]
      },
      {
       "output_type": "stream",
       "stream": "stdout",
       "text": [
        "WARN  08:18:44,563 ExactAFCalculator - this tool is currently set to genotype at most 6 alternate alleles in a given context, but the context at Pf3D7_14_v3:644526 has 8 alternate alleles so only the top alleles will be used; see the --max_alternate_alleles argument \r\n",
        "WARN  08:18:44,568 ExactAFCalculator - this tool is currently set to genotype at most 6 alternate alleles in a given context, but the context at Pf3D7_14_v3:645536 has 7 alternate alleles so only the top alleles will be used; see the --max_alternate_alleles argument \r\n",
        "WARN  08:18:44,581 ExactAFCalculator - this tool is currently set to genotype at most 6 alternate alleles in a given context, but the context at Pf3D7_14_v3:650010 has 7 alternate alleles so only the top alleles will be used; see the --max_alternate_alleles argument \r\n",
        "WARN  08:18:44,594 ExactAFCalculator - this tool is currently set to genotype at most 6 alternate alleles in a given context, but the context at Pf3D7_14_v3:657682 has 7 alternate alleles so only the top alleles will be used; see the --max_alternate_alleles argument \r\n"
       ]
      },
      {
       "output_type": "stream",
       "stream": "stdout",
       "text": [
        "WARN  08:18:44,684 ExactAFCalculator - this tool is currently set to genotype at most 6 alternate alleles in a given context, but the context at Pf3D7_14_v3:690244 has 9 alternate alleles so only the top alleles will be used; see the --max_alternate_alleles argument \r\n",
        "WARN  08:18:44,689 ExactAFCalculator - this tool is currently set to genotype at most 6 alternate alleles in a given context, but the context at Pf3D7_14_v3:691811 has 8 alternate alleles so only the top alleles will be used; see the --max_alternate_alleles argument \r\n"
       ]
      },
      {
       "output_type": "stream",
       "stream": "stdout",
       "text": [
        "WARN  08:18:44,738 ExactAFCalculator - this tool is currently set to genotype at most 6 alternate alleles in a given context, but the context at Pf3D7_14_v3:712964 has 11 alternate alleles so only the top alleles will be used; see the --max_alternate_alleles argument \r\n"
       ]
      },
      {
       "output_type": "stream",
       "stream": "stdout",
       "text": [
        "WARN  08:18:44,831 ExactAFCalculator - this tool is currently set to genotype at most 6 alternate alleles in a given context, but the context at Pf3D7_14_v3:747807 has 7 alternate alleles so only the top alleles will be used; see the --max_alternate_alleles argument \r\n",
        "WARN  08:18:44,851 ExactAFCalculator - this tool is currently set to genotype at most 6 alternate alleles in a given context, but the context at Pf3D7_14_v3:751406 has 7 alternate alleles so only the top alleles will be used; see the --max_alternate_alleles argument \r\n"
       ]
      },
      {
       "output_type": "stream",
       "stream": "stdout",
       "text": [
        "WARN  08:18:44,877 ExactAFCalculator - this tool is currently set to genotype at most 6 alternate alleles in a given context, but the context at Pf3D7_14_v3:758288 has 7 alternate alleles so only the top alleles will be used; see the --max_alternate_alleles argument \r\n",
        "WARN  08:18:44,885 ExactAFCalculator - this tool is currently set to genotype at most 6 alternate alleles in a given context, but the context at Pf3D7_14_v3:759501 has 7 alternate alleles so only the top alleles will be used; see the --max_alternate_alleles argument \r\n",
        "WARN  08:18:44,888 ExactAFCalculator - this tool is currently set to genotype at most 6 alternate alleles in a given context, but the context at Pf3D7_14_v3:760189 has 9 alternate alleles so only the top alleles will be used; see the --max_alternate_alleles argument \r\n",
        "WARN  08:18:44,915 ExactAFCalculator - this tool is currently set to genotype at most 6 alternate alleles in a given context, but the context at Pf3D7_14_v3:774166 has 7 alternate alleles so only the top alleles will be used; see the --max_alternate_alleles argument \r\n"
       ]
      },
      {
       "output_type": "stream",
       "stream": "stdout",
       "text": [
        "WARN  08:18:44,929 ExactAFCalculator - this tool is currently set to genotype at most 6 alternate alleles in a given context, but the context at Pf3D7_14_v3:777552 has 7 alternate alleles so only the top alleles will be used; see the --max_alternate_alleles argument \r\n",
        "WARN  08:18:44,937 ExactAFCalculator - this tool is currently set to genotype at most 6 alternate alleles in a given context, but the context at Pf3D7_14_v3:780342 has 7 alternate alleles so only the top alleles will be used; see the --max_alternate_alleles argument \r\n"
       ]
      },
      {
       "output_type": "stream",
       "stream": "stdout",
       "text": [
        "WARN  08:18:45,003 ExactAFCalculator - this tool is currently set to genotype at most 6 alternate alleles in a given context, but the context at Pf3D7_14_v3:799749 has 9 alternate alleles so only the top alleles will be used; see the --max_alternate_alleles argument \r\n",
        "WARN  08:18:45,004 ExactAFCalculator - this tool is currently set to genotype at most 6 alternate alleles in a given context, but the context at Pf3D7_14_v3:799773 has 8 alternate alleles so only the top alleles will be used; see the --max_alternate_alleles argument \r\n"
       ]
      },
      {
       "output_type": "stream",
       "stream": "stdout",
       "text": [
        "WARN  08:18:45,106 ExactAFCalculator - this tool is currently set to genotype at most 6 alternate alleles in a given context, but the context at Pf3D7_14_v3:819519 has 7 alternate alleles so only the top alleles will be used; see the --max_alternate_alleles argument \r\n",
        "WARN  08:18:45,115 ExactAFCalculator - this tool is currently set to genotype at most 6 alternate alleles in a given context, but the context at Pf3D7_14_v3:821610 has 7 alternate alleles so only the top alleles will be used; see the --max_alternate_alleles argument \r\n",
        "WARN  08:18:45,121 ExactAFCalculator - this tool is currently set to genotype at most 6 alternate alleles in a given context, but the context at Pf3D7_14_v3:821843 has 7 alternate alleles so only the top alleles will be used; see the --max_alternate_alleles argument \r\n"
       ]
      },
      {
       "output_type": "stream",
       "stream": "stdout",
       "text": [
        "WARN  08:18:45,225 ExactAFCalculator - this tool is currently set to genotype at most 6 alternate alleles in a given context, but the context at Pf3D7_14_v3:849521 has 7 alternate alleles so only the top alleles will be used; see the --max_alternate_alleles argument \r\n",
        "WARN  08:18:45,240 ExactAFCalculator - this tool is currently set to genotype at most 6 alternate alleles in a given context, but the context at Pf3D7_14_v3:854215 has 7 alternate alleles so only the top alleles will be used; see the --max_alternate_alleles argument \r\n"
       ]
      },
      {
       "output_type": "stream",
       "stream": "stdout",
       "text": [
        "WARN  08:18:45,278 ExactAFCalculator - this tool is currently set to genotype at most 6 alternate alleles in a given context, but the context at Pf3D7_14_v3:860218 has 7 alternate alleles so only the top alleles will be used; see the --max_alternate_alleles argument \r\n",
        "WARN  08:18:45,291 ExactAFCalculator - this tool is currently set to genotype at most 6 alternate alleles in a given context, but the context at Pf3D7_14_v3:864157 has 7 alternate alleles so only the top alleles will be used; see the --max_alternate_alleles argument \r\n"
       ]
      },
      {
       "output_type": "stream",
       "stream": "stdout",
       "text": [
        "WARN  08:18:45,298 ExactAFCalculator - this tool is currently set to genotype at most 6 alternate alleles in a given context, but the context at Pf3D7_14_v3:864868 has 7 alternate alleles so only the top alleles will be used; see the --max_alternate_alleles argument \r\n"
       ]
      },
      {
       "output_type": "stream",
       "stream": "stdout",
       "text": [
        "WARN  08:18:45,402 ExactAFCalculator - this tool is currently set to genotype at most 6 alternate alleles in a given context, but the context at Pf3D7_14_v3:885117 has 7 alternate alleles so only the top alleles will be used; see the --max_alternate_alleles argument \r\n",
        "WARN  08:18:45,441 ExactAFCalculator - this tool is currently set to genotype at most 6 alternate alleles in a given context, but the context at Pf3D7_14_v3:893647 has 7 alternate alleles so only the top alleles will be used; see the --max_alternate_alleles argument \r\n"
       ]
      },
      {
       "output_type": "stream",
       "stream": "stdout",
       "text": [
        "WARN  08:18:45,455 ExactAFCalculator - this tool is currently set to genotype at most 6 alternate alleles in a given context, but the context at Pf3D7_14_v3:897118 has 7 alternate alleles so only the top alleles will be used; see the --max_alternate_alleles argument \r\n"
       ]
      },
      {
       "output_type": "stream",
       "stream": "stdout",
       "text": [
        "WARN  08:18:45,507 ExactAFCalculator - this tool is currently set to genotype at most 6 alternate alleles in a given context, but the context at Pf3D7_14_v3:908404 has 7 alternate alleles so only the top alleles will be used; see the --max_alternate_alleles argument \r\n",
        "WARN  08:18:45,525 ExactAFCalculator - this tool is currently set to genotype at most 6 alternate alleles in a given context, but the context at Pf3D7_14_v3:912589 has 8 alternate alleles so only the top alleles will be used; see the --max_alternate_alleles argument \r\n"
       ]
      },
      {
       "output_type": "stream",
       "stream": "stdout",
       "text": [
        "WARN  08:18:45,583 ExactAFCalculator - this tool is currently set to genotype at most 6 alternate alleles in a given context, but the context at Pf3D7_14_v3:927929 has 7 alternate alleles so only the top alleles will be used; see the --max_alternate_alleles argument \r\n"
       ]
      },
      {
       "output_type": "stream",
       "stream": "stdout",
       "text": [
        "WARN  08:18:45,630 ExactAFCalculator - this tool is currently set to genotype at most 6 alternate alleles in a given context, but the context at Pf3D7_14_v3:937755 has 8 alternate alleles so only the top alleles will be used; see the --max_alternate_alleles argument \r\n"
       ]
      },
      {
       "output_type": "stream",
       "stream": "stdout",
       "text": [
        "WARN  08:18:45,682 ExactAFCalculator - this tool is currently set to genotype at most 6 alternate alleles in a given context, but the context at Pf3D7_14_v3:953125 has 9 alternate alleles so only the top alleles will be used; see the --max_alternate_alleles argument \r\n",
        "WARN  08:18:45,704 ExactAFCalculator - this tool is currently set to genotype at most 6 alternate alleles in a given context, but the context at Pf3D7_14_v3:956595 has 7 alternate alleles so only the top alleles will be used; see the --max_alternate_alleles argument \r\n"
       ]
      },
      {
       "output_type": "stream",
       "stream": "stdout",
       "text": [
        "WARN  08:18:45,715 ExactAFCalculator - this tool is currently set to genotype at most 6 alternate alleles in a given context, but the context at Pf3D7_14_v3:958448 has 7 alternate alleles so only the top alleles will be used; see the --max_alternate_alleles argument \r\n"
       ]
      },
      {
       "output_type": "stream",
       "stream": "stdout",
       "text": [
        "WARN  08:18:45,764 ExactAFCalculator - this tool is currently set to genotype at most 6 alternate alleles in a given context, but the context at Pf3D7_14_v3:972176 has 7 alternate alleles so only the top alleles will be used; see the --max_alternate_alleles argument \r\n",
        "WARN  08:18:45,781 ExactAFCalculator - this tool is currently set to genotype at most 6 alternate alleles in a given context, but the context at Pf3D7_14_v3:975095 has 12 alternate alleles so only the top alleles will be used; see the --max_alternate_alleles argument \r\n"
       ]
      },
      {
       "output_type": "stream",
       "stream": "stdout",
       "text": [
        "WARN  08:18:45,816 ExactAFCalculator - this tool is currently set to genotype at most 6 alternate alleles in a given context, but the context at Pf3D7_14_v3:981713 has 7 alternate alleles so only the top alleles will be used; see the --max_alternate_alleles argument \r\n",
        "WARN  08:18:45,834 ExactAFCalculator - this tool is currently set to genotype at most 6 alternate alleles in a given context, but the context at Pf3D7_14_v3:985698 has 7 alternate alleles so only the top alleles will be used; see the --max_alternate_alleles argument \r\n",
        "WARN  08:18:45,839 ExactAFCalculator - this tool is currently set to genotype at most 6 alternate alleles in a given context, but the context at Pf3D7_14_v3:987040 has 8 alternate alleles so only the top alleles will be used; see the --max_alternate_alleles argument \r\n",
        "WARN  08:18:45,847 ExactAFCalculator - this tool is currently set to genotype at most 6 alternate alleles in a given context, but the context at Pf3D7_14_v3:987823 has 9 alternate alleles so only the top alleles will be used; see the --max_alternate_alleles argument \r\n",
        "WARN  08:18:45,857 ExactAFCalculator - this tool is currently set to genotype at most 6 alternate alleles in a given context, but the context at Pf3D7_14_v3:989173 has 14 alternate alleles so only the top alleles will be used; see the --max_alternate_alleles argument \r\n"
       ]
      },
      {
       "output_type": "stream",
       "stream": "stdout",
       "text": [
        "WARN  08:18:45,948 ExactAFCalculator - this tool is currently set to genotype at most 6 alternate alleles in a given context, but the context at Pf3D7_14_v3:1000554 has 9 alternate alleles so only the top alleles will be used; see the --max_alternate_alleles argument \r\n",
        "WARN  08:18:45,953 ExactAFCalculator - this tool is currently set to genotype at most 6 alternate alleles in a given context, but the context at Pf3D7_14_v3:1001272 has 7 alternate alleles so only the top alleles will be used; see the --max_alternate_alleles argument \r\n"
       ]
      },
      {
       "output_type": "stream",
       "stream": "stdout",
       "text": [
        "WARN  08:18:45,983 ExactAFCalculator - this tool is currently set to genotype at most 6 alternate alleles in a given context, but the context at Pf3D7_14_v3:1004879 has 10 alternate alleles so only the top alleles will be used; see the --max_alternate_alleles argument \r\n",
        "WARN  08:18:45,996 ExactAFCalculator - this tool is currently set to genotype at most 6 alternate alleles in a given context, but the context at Pf3D7_14_v3:1007258 has 8 alternate alleles so only the top alleles will be used; see the --max_alternate_alleles argument \r\n"
       ]
      },
      {
       "output_type": "stream",
       "stream": "stdout",
       "text": [
        "WARN  08:18:46,096 ExactAFCalculator - this tool is currently set to genotype at most 6 alternate alleles in a given context, but the context at Pf3D7_14_v3:1026218 has 7 alternate alleles so only the top alleles will be used; see the --max_alternate_alleles argument \r\n"
       ]
      },
      {
       "output_type": "stream",
       "stream": "stdout",
       "text": [
        "WARN  08:18:46,155 ExactAFCalculator - this tool is currently set to genotype at most 6 alternate alleles in a given context, but the context at Pf3D7_14_v3:1043004 has 7 alternate alleles so only the top alleles will be used; see the --max_alternate_alleles argument \r\n",
        "WARN  08:18:46,167 ExactAFCalculator - this tool is currently set to genotype at most 6 alternate alleles in a given context, but the context at Pf3D7_14_v3:1047264 has 8 alternate alleles so only the top alleles will be used; see the --max_alternate_alleles argument \r\n",
        "WARN  08:18:46,176 ExactAFCalculator - this tool is currently set to genotype at most 6 alternate alleles in a given context, but the context at Pf3D7_14_v3:1050734 has 7 alternate alleles so only the top alleles will be used; see the --max_alternate_alleles argument \r\n"
       ]
      },
      {
       "output_type": "stream",
       "stream": "stdout",
       "text": [
        "WARN  08:18:46,266 ExactAFCalculator - this tool is currently set to genotype at most 6 alternate alleles in a given context, but the context at Pf3D7_14_v3:1078572 has 9 alternate alleles so only the top alleles will be used; see the --max_alternate_alleles argument \r\n",
        "WARN  08:18:46,275 ExactAFCalculator - this tool is currently set to genotype at most 6 alternate alleles in a given context, but the context at Pf3D7_14_v3:1080682 has 9 alternate alleles so only the top alleles will be used; see the --max_alternate_alleles argument \r\n",
        "WARN  08:18:46,285 ExactAFCalculator - this tool is currently set to genotype at most 6 alternate alleles in a given context, but the context at Pf3D7_14_v3:1084824 has 7 alternate alleles so only the top alleles will be used; see the --max_alternate_alleles argument \r\n"
       ]
      },
      {
       "output_type": "stream",
       "stream": "stdout",
       "text": [
        "WARN  08:18:46,294 ExactAFCalculator - this tool is currently set to genotype at most 6 alternate alleles in a given context, but the context at Pf3D7_14_v3:1088331 has 10 alternate alleles so only the top alleles will be used; see the --max_alternate_alleles argument \r\n",
        "WARN  08:18:46,320 ExactAFCalculator - this tool is currently set to genotype at most 6 alternate alleles in a given context, but the context at Pf3D7_14_v3:1094151 has 8 alternate alleles so only the top alleles will be used; see the --max_alternate_alleles argument \r\n"
       ]
      },
      {
       "output_type": "stream",
       "stream": "stdout",
       "text": [
        "WARN  08:18:46,390 ExactAFCalculator - this tool is currently set to genotype at most 6 alternate alleles in a given context, but the context at Pf3D7_14_v3:1108775 has 7 alternate alleles so only the top alleles will be used; see the --max_alternate_alleles argument \r\n"
       ]
      },
      {
       "output_type": "stream",
       "stream": "stdout",
       "text": [
        "WARN  08:18:46,402 ExactAFCalculator - this tool is currently set to genotype at most 6 alternate alleles in a given context, but the context at Pf3D7_14_v3:1114600 has 7 alternate alleles so only the top alleles will be used; see the --max_alternate_alleles argument \r\n"
       ]
      },
      {
       "output_type": "stream",
       "stream": "stdout",
       "text": [
        "WARN  08:18:46,475 ExactAFCalculator - this tool is currently set to genotype at most 6 alternate alleles in a given context, but the context at Pf3D7_14_v3:1139673 has 7 alternate alleles so only the top alleles will be used; see the --max_alternate_alleles argument \r\n"
       ]
      },
      {
       "output_type": "stream",
       "stream": "stdout",
       "text": [
        "WARN  08:18:46,578 ExactAFCalculator - this tool is currently set to genotype at most 6 alternate alleles in a given context, but the context at Pf3D7_14_v3:1168146 has 7 alternate alleles so only the top alleles will be used; see the --max_alternate_alleles argument \r\n",
        "WARN  08:18:46,580 ExactAFCalculator - this tool is currently set to genotype at most 6 alternate alleles in a given context, but the context at Pf3D7_14_v3:1168190 has 8 alternate alleles so only the top alleles will be used; see the --max_alternate_alleles argument \r\n"
       ]
      },
      {
       "output_type": "stream",
       "stream": "stdout",
       "text": [
        "WARN  08:18:46,627 ExactAFCalculator - this tool is currently set to genotype at most 6 alternate alleles in a given context, but the context at Pf3D7_14_v3:1181460 has 9 alternate alleles so only the top alleles will be used; see the --max_alternate_alleles argument \r\n",
        "WARN  08:18:46,635 ExactAFCalculator - this tool is currently set to genotype at most 6 alternate alleles in a given context, but the context at Pf3D7_14_v3:1183581 has 8 alternate alleles so only the top alleles will be used; see the --max_alternate_alleles argument \r\n",
        "WARN  08:18:46,657 ExactAFCalculator - this tool is currently set to genotype at most 6 alternate alleles in a given context, but the context at Pf3D7_14_v3:1188697 has 12 alternate alleles so only the top alleles will be used; see the --max_alternate_alleles argument \r\n"
       ]
      },
      {
       "output_type": "stream",
       "stream": "stdout",
       "text": [
        "WARN  08:18:46,663 ExactAFCalculator - this tool is currently set to genotype at most 6 alternate alleles in a given context, but the context at Pf3D7_14_v3:1189689 has 8 alternate alleles so only the top alleles will be used; see the --max_alternate_alleles argument \r\n"
       ]
      },
      {
       "output_type": "stream",
       "stream": "stdout",
       "text": [
        "WARN  08:18:46,726 ExactAFCalculator - this tool is currently set to genotype at most 6 alternate alleles in a given context, but the context at Pf3D7_14_v3:1212808 has 8 alternate alleles so only the top alleles will be used; see the --max_alternate_alleles argument \r\n"
       ]
      },
      {
       "output_type": "stream",
       "stream": "stdout",
       "text": [
        "WARN  08:18:46,788 ExactAFCalculator - this tool is currently set to genotype at most 6 alternate alleles in a given context, but the context at Pf3D7_14_v3:1228109 has 7 alternate alleles so only the top alleles will be used; see the --max_alternate_alleles argument \r\n",
        "WARN  08:18:46,797 ExactAFCalculator - this tool is currently set to genotype at most 6 alternate alleles in a given context, but the context at Pf3D7_14_v3:1229316 has 7 alternate alleles so only the top alleles will be used; see the --max_alternate_alleles argument \r\n"
       ]
      },
      {
       "output_type": "stream",
       "stream": "stdout",
       "text": [
        "WARN  08:18:46,832 ExactAFCalculator - this tool is currently set to genotype at most 6 alternate alleles in a given context, but the context at Pf3D7_14_v3:1238284 has 7 alternate alleles so only the top alleles will be used; see the --max_alternate_alleles argument \r\n"
       ]
      },
      {
       "output_type": "stream",
       "stream": "stdout",
       "text": [
        "WARN  08:18:46,875 ExactAFCalculator - this tool is currently set to genotype at most 6 alternate alleles in a given context, but the context at Pf3D7_14_v3:1249072 has 8 alternate alleles so only the top alleles will be used; see the --max_alternate_alleles argument \r\n",
        "WARN  08:18:46,881 ExactAFCalculator - this tool is currently set to genotype at most 6 alternate alleles in a given context, but the context at Pf3D7_14_v3:1252711 has 9 alternate alleles so only the top alleles will be used; see the --max_alternate_alleles argument \r\n",
        "WARN  08:18:46,886 ExactAFCalculator - this tool is currently set to genotype at most 6 alternate alleles in a given context, but the context at Pf3D7_14_v3:1255812 has 7 alternate alleles so only the top alleles will be used; see the --max_alternate_alleles argument \r\n",
        "WARN  08:18:46,892 ExactAFCalculator - this tool is currently set to genotype at most 6 alternate alleles in a given context, but the context at Pf3D7_14_v3:1256945 has 7 alternate alleles so only the top alleles will be used; see the --max_alternate_alleles argument \r\n",
        "WARN  08:18:46,913 ExactAFCalculator - this tool is currently set to genotype at most 6 alternate alleles in a given context, but the context at Pf3D7_14_v3:1261870 has 7 alternate alleles so only the top alleles will be used; see the --max_alternate_alleles argument \r\n"
       ]
      },
      {
       "output_type": "stream",
       "stream": "stdout",
       "text": [
        "WARN  08:18:46,974 ExactAFCalculator - this tool is currently set to genotype at most 6 alternate alleles in a given context, but the context at Pf3D7_14_v3:1285155 has 7 alternate alleles so only the top alleles will be used; see the --max_alternate_alleles argument \r\n",
        "WARN  08:18:46,996 ExactAFCalculator - this tool is currently set to genotype at most 6 alternate alleles in a given context, but the context at Pf3D7_14_v3:1292176 has 8 alternate alleles so only the top alleles will be used; see the --max_alternate_alleles argument \r\n"
       ]
      },
      {
       "output_type": "stream",
       "stream": "stdout",
       "text": [
        "WARN  08:18:47,115 ExactAFCalculator - this tool is currently set to genotype at most 6 alternate alleles in a given context, but the context at Pf3D7_14_v3:1331630 has 8 alternate alleles so only the top alleles will be used; see the --max_alternate_alleles argument \r\n",
        "WARN  08:18:47,121 ExactAFCalculator - this tool is currently set to genotype at most 6 alternate alleles in a given context, but the context at Pf3D7_14_v3:1332283 has 7 alternate alleles so only the top alleles will be used; see the --max_alternate_alleles argument \r\n"
       ]
      },
      {
       "output_type": "stream",
       "stream": "stdout",
       "text": [
        "WARN  08:18:47,238 ExactAFCalculator - this tool is currently set to genotype at most 6 alternate alleles in a given context, but the context at Pf3D7_14_v3:1371216 has 7 alternate alleles so only the top alleles will be used; see the --max_alternate_alleles argument \r\n",
        "WARN  08:18:47,253 ExactAFCalculator - this tool is currently set to genotype at most 6 alternate alleles in a given context, but the context at Pf3D7_14_v3:1375116 has 7 alternate alleles so only the top alleles will be used; see the --max_alternate_alleles argument \r\n"
       ]
      },
      {
       "output_type": "stream",
       "stream": "stdout",
       "text": [
        "WARN  08:18:47,294 ExactAFCalculator - this tool is currently set to genotype at most 6 alternate alleles in a given context, but the context at Pf3D7_14_v3:1388029 has 8 alternate alleles so only the top alleles will be used; see the --max_alternate_alleles argument \r\n",
        "WARN  08:18:47,317 ExactAFCalculator - this tool is currently set to genotype at most 6 alternate alleles in a given context, but the context at Pf3D7_14_v3:1402713 has 10 alternate alleles so only the top alleles will be used; see the --max_alternate_alleles argument \r\n",
        "WARN  08:18:47,328 ExactAFCalculator - this tool is currently set to genotype at most 6 alternate alleles in a given context, but the context at Pf3D7_14_v3:1404749 has 8 alternate alleles so only the top alleles will be used; see the --max_alternate_alleles argument \r\n"
       ]
      },
      {
       "output_type": "stream",
       "stream": "stdout",
       "text": [
        "WARN  08:18:47,409 ExactAFCalculator - this tool is currently set to genotype at most 6 alternate alleles in a given context, but the context at Pf3D7_14_v3:1433552 has 7 alternate alleles so only the top alleles will be used; see the --max_alternate_alleles argument \r\n"
       ]
      },
      {
       "output_type": "stream",
       "stream": "stdout",
       "text": [
        "WARN  08:18:47,473 ExactAFCalculator - this tool is currently set to genotype at most 6 alternate alleles in a given context, but the context at Pf3D7_14_v3:1452178 has 8 alternate alleles so only the top alleles will be used; see the --max_alternate_alleles argument \r\n"
       ]
      },
      {
       "output_type": "stream",
       "stream": "stdout",
       "text": [
        "WARN  08:18:47,503 ExactAFCalculator - this tool is currently set to genotype at most 6 alternate alleles in a given context, but the context at Pf3D7_14_v3:1460479 has 7 alternate alleles so only the top alleles will be used; see the --max_alternate_alleles argument \r\n",
        "WARN  08:18:47,532 ExactAFCalculator - this tool is currently set to genotype at most 6 alternate alleles in a given context, but the context at Pf3D7_14_v3:1474520 has 7 alternate alleles so only the top alleles will be used; see the --max_alternate_alleles argument \r\n",
        "WARN  08:18:47,538 ExactAFCalculator - this tool is currently set to genotype at most 6 alternate alleles in a given context, but the context at Pf3D7_14_v3:1475560 has 8 alternate alleles so only the top alleles will be used; see the --max_alternate_alleles argument \r\n"
       ]
      },
      {
       "output_type": "stream",
       "stream": "stdout",
       "text": [
        "WARN  08:18:47,567 ExactAFCalculator - this tool is currently set to genotype at most 6 alternate alleles in a given context, but the context at Pf3D7_14_v3:1483341 has 7 alternate alleles so only the top alleles will be used; see the --max_alternate_alleles argument \r\n"
       ]
      },
      {
       "output_type": "stream",
       "stream": "stdout",
       "text": [
        "WARN  08:18:47,610 ExactAFCalculator - this tool is currently set to genotype at most 6 alternate alleles in a given context, but the context at Pf3D7_14_v3:1498674 has 7 alternate alleles so only the top alleles will be used; see the --max_alternate_alleles argument \r\n",
        "WARN  08:18:47,614 ExactAFCalculator - this tool is currently set to genotype at most 6 alternate alleles in a given context, but the context at Pf3D7_14_v3:1499901 has 9 alternate alleles so only the top alleles will be used; see the --max_alternate_alleles argument \r\n",
        "WARN  08:18:47,619 ExactAFCalculator - this tool is currently set to genotype at most 6 alternate alleles in a given context, but the context at Pf3D7_14_v3:1501016 has 11 alternate alleles so only the top alleles will be used; see the --max_alternate_alleles argument \r\n"
       ]
      },
      {
       "output_type": "stream",
       "stream": "stdout",
       "text": [
        "WARN  08:18:47,685 ExactAFCalculator - this tool is currently set to genotype at most 6 alternate alleles in a given context, but the context at Pf3D7_14_v3:1516925 has 7 alternate alleles so only the top alleles will be used; see the --max_alternate_alleles argument \r\n"
       ]
      },
      {
       "output_type": "stream",
       "stream": "stdout",
       "text": [
        "WARN  08:18:47,706 ExactAFCalculator - this tool is currently set to genotype at most 6 alternate alleles in a given context, but the context at Pf3D7_14_v3:1525098 has 7 alternate alleles so only the top alleles will be used; see the --max_alternate_alleles argument \r\n",
        "WARN  08:18:47,720 ExactAFCalculator - this tool is currently set to genotype at most 6 alternate alleles in a given context, but the context at Pf3D7_14_v3:1530141 has 7 alternate alleles so only the top alleles will be used; see the --max_alternate_alleles argument \r\n"
       ]
      },
      {
       "output_type": "stream",
       "stream": "stdout",
       "text": [
        "WARN  08:18:47,813 ExactAFCalculator - this tool is currently set to genotype at most 6 alternate alleles in a given context, but the context at Pf3D7_14_v3:1555445 has 9 alternate alleles so only the top alleles will be used; see the --max_alternate_alleles argument \r\n"
       ]
      },
      {
       "output_type": "stream",
       "stream": "stdout",
       "text": [
        "WARN  08:18:47,866 ExactAFCalculator - this tool is currently set to genotype at most 6 alternate alleles in a given context, but the context at Pf3D7_14_v3:1570399 has 7 alternate alleles so only the top alleles will be used; see the --max_alternate_alleles argument \r\n",
        "WARN  08:18:47,897 ExactAFCalculator - this tool is currently set to genotype at most 6 alternate alleles in a given context, but the context at Pf3D7_14_v3:1578722 has 12 alternate alleles so only the top alleles will be used; see the --max_alternate_alleles argument \r\n",
        "WARN  08:18:47,900 ExactAFCalculator - this tool is currently set to genotype at most 6 alternate alleles in a given context, but the context at Pf3D7_14_v3:1579338 has 7 alternate alleles so only the top alleles will be used; see the --max_alternate_alleles argument \r\n"
       ]
      },
      {
       "output_type": "stream",
       "stream": "stdout",
       "text": [
        "WARN  08:18:47,949 ExactAFCalculator - this tool is currently set to genotype at most 6 alternate alleles in a given context, but the context at Pf3D7_14_v3:1602039 has 7 alternate alleles so only the top alleles will be used; see the --max_alternate_alleles argument \r\n"
       ]
      },
      {
       "output_type": "stream",
       "stream": "stdout",
       "text": [
        "WARN  08:18:47,970 ExactAFCalculator - this tool is currently set to genotype at most 6 alternate alleles in a given context, but the context at Pf3D7_14_v3:1606067 has 7 alternate alleles so only the top alleles will be used; see the --max_alternate_alleles argument \r\n",
        "WARN  08:18:48,006 ExactAFCalculator - this tool is currently set to genotype at most 6 alternate alleles in a given context, but the context at Pf3D7_14_v3:1615638 has 8 alternate alleles so only the top alleles will be used; see the --max_alternate_alleles argument \r\n"
       ]
      },
      {
       "output_type": "stream",
       "stream": "stdout",
       "text": [
        "WARN  08:18:48,026 ExactAFCalculator - this tool is currently set to genotype at most 6 alternate alleles in a given context, but the context at Pf3D7_14_v3:1619539 has 9 alternate alleles so only the top alleles will be used; see the --max_alternate_alleles argument \r\n"
       ]
      },
      {
       "output_type": "stream",
       "stream": "stdout",
       "text": [
        "WARN  08:18:48,109 ExactAFCalculator - this tool is currently set to genotype at most 6 alternate alleles in a given context, but the context at Pf3D7_14_v3:1639780 has 8 alternate alleles so only the top alleles will be used; see the --max_alternate_alleles argument \r\n"
       ]
      },
      {
       "output_type": "stream",
       "stream": "stdout",
       "text": [
        "WARN  08:18:48,139 ExactAFCalculator - this tool is currently set to genotype at most 6 alternate alleles in a given context, but the context at Pf3D7_14_v3:1652106 has 7 alternate alleles so only the top alleles will be used; see the --max_alternate_alleles argument \r\n"
       ]
      },
      {
       "output_type": "stream",
       "stream": "stdout",
       "text": [
        "WARN  08:18:48,189 ExactAFCalculator - this tool is currently set to genotype at most 6 alternate alleles in a given context, but the context at Pf3D7_14_v3:1667080 has 7 alternate alleles so only the top alleles will be used; see the --max_alternate_alleles argument \r\n",
        "WARN  08:18:48,206 ExactAFCalculator - this tool is currently set to genotype at most 6 alternate alleles in a given context, but the context at Pf3D7_14_v3:1671835 has 7 alternate alleles so only the top alleles will be used; see the --max_alternate_alleles argument \r\n",
        "WARN  08:18:48,211 ExactAFCalculator - this tool is currently set to genotype at most 6 alternate alleles in a given context, but the context at Pf3D7_14_v3:1672264 has 7 alternate alleles so only the top alleles will be used; see the --max_alternate_alleles argument \r\n"
       ]
      },
      {
       "output_type": "stream",
       "stream": "stdout",
       "text": [
        "WARN  08:18:48,263 ExactAFCalculator - this tool is currently set to genotype at most 6 alternate alleles in a given context, but the context at Pf3D7_14_v3:1681196 has 8 alternate alleles so only the top alleles will be used; see the --max_alternate_alleles argument \r\n"
       ]
      },
      {
       "output_type": "stream",
       "stream": "stdout",
       "text": [
        "WARN  08:18:48,286 ExactAFCalculator - this tool is currently set to genotype at most 6 alternate alleles in a given context, but the context at Pf3D7_14_v3:1690901 has 7 alternate alleles so only the top alleles will be used; see the --max_alternate_alleles argument \r\n",
        "WARN  08:18:48,294 ExactAFCalculator - this tool is currently set to genotype at most 6 alternate alleles in a given context, but the context at Pf3D7_14_v3:1693231 has 8 alternate alleles so only the top alleles will be used; see the --max_alternate_alleles argument \r\n"
       ]
      },
      {
       "output_type": "stream",
       "stream": "stdout",
       "text": [
        "WARN  08:18:48,378 ExactAFCalculator - this tool is currently set to genotype at most 6 alternate alleles in a given context, but the context at Pf3D7_14_v3:1712509 has 8 alternate alleles so only the top alleles will be used; see the --max_alternate_alleles argument \r\n"
       ]
      },
      {
       "output_type": "stream",
       "stream": "stdout",
       "text": [
        "WARN  08:18:48,513 ExactAFCalculator - this tool is currently set to genotype at most 6 alternate alleles in a given context, but the context at Pf3D7_14_v3:1776463 has 7 alternate alleles so only the top alleles will be used; see the --max_alternate_alleles argument \r\n"
       ]
      },
      {
       "output_type": "stream",
       "stream": "stdout",
       "text": [
        "WARN  08:18:48,546 ExactAFCalculator - this tool is currently set to genotype at most 6 alternate alleles in a given context, but the context at Pf3D7_14_v3:1792217 has 7 alternate alleles so only the top alleles will be used; see the --max_alternate_alleles argument \r\n"
       ]
      },
      {
       "output_type": "stream",
       "stream": "stdout",
       "text": [
        "WARN  08:18:48,678 ExactAFCalculator - this tool is currently set to genotype at most 6 alternate alleles in a given context, but the context at Pf3D7_14_v3:1845229 has 7 alternate alleles so only the top alleles will be used; see the --max_alternate_alleles argument \r\n"
       ]
      },
      {
       "output_type": "stream",
       "stream": "stdout",
       "text": [
        "WARN  08:18:48,721 ExactAFCalculator - this tool is currently set to genotype at most 6 alternate alleles in a given context, but the context at Pf3D7_14_v3:1856461 has 7 alternate alleles so only the top alleles will be used; see the --max_alternate_alleles argument \r\n",
        "WARN  08:18:48,734 ExactAFCalculator - this tool is currently set to genotype at most 6 alternate alleles in a given context, but the context at Pf3D7_14_v3:1860103 has 9 alternate alleles so only the top alleles will be used; see the --max_alternate_alleles argument \r\n",
        "WARN  08:18:48,737 ExactAFCalculator - this tool is currently set to genotype at most 6 alternate alleles in a given context, but the context at Pf3D7_14_v3:1862005 has 12 alternate alleles so only the top alleles will be used; see the --max_alternate_alleles argument \r\n"
       ]
      },
      {
       "output_type": "stream",
       "stream": "stdout",
       "text": [
        "WARN  08:18:48,756 ExactAFCalculator - this tool is currently set to genotype at most 6 alternate alleles in a given context, but the context at Pf3D7_14_v3:1868235 has 8 alternate alleles so only the top alleles will be used; see the --max_alternate_alleles argument \r\n",
        "WARN  08:18:48,774 ExactAFCalculator - this tool is currently set to genotype at most 6 alternate alleles in a given context, but the context at Pf3D7_14_v3:1872303 has 7 alternate alleles so only the top alleles will be used; see the --max_alternate_alleles argument \r\n"
       ]
      },
      {
       "output_type": "stream",
       "stream": "stdout",
       "text": [
        "WARN  08:18:48,821 ExactAFCalculator - this tool is currently set to genotype at most 6 alternate alleles in a given context, but the context at Pf3D7_14_v3:1885368 has 8 alternate alleles so only the top alleles will be used; see the --max_alternate_alleles argument \r\n",
        "WARN  08:18:48,841 ExactAFCalculator - this tool is currently set to genotype at most 6 alternate alleles in a given context, but the context at Pf3D7_14_v3:1892360 has 7 alternate alleles so only the top alleles will be used; see the --max_alternate_alleles argument \r\n"
       ]
      },
      {
       "output_type": "stream",
       "stream": "stdout",
       "text": [
        "WARN  08:18:48,924 ExactAFCalculator - this tool is currently set to genotype at most 6 alternate alleles in a given context, but the context at Pf3D7_14_v3:1918971 has 7 alternate alleles so only the top alleles will be used; see the --max_alternate_alleles argument \r\n"
       ]
      },
      {
       "output_type": "stream",
       "stream": "stdout",
       "text": [
        "WARN  08:18:48,985 ExactAFCalculator - this tool is currently set to genotype at most 6 alternate alleles in a given context, but the context at Pf3D7_14_v3:1931128 has 8 alternate alleles so only the top alleles will be used; see the --max_alternate_alleles argument \r\n",
        "WARN  08:18:48,996 ExactAFCalculator - this tool is currently set to genotype at most 6 alternate alleles in a given context, but the context at Pf3D7_14_v3:1932886 has 8 alternate alleles so only the top alleles will be used; see the --max_alternate_alleles argument \r\n",
        "WARN  08:18:49,012 ExactAFCalculator - this tool is currently set to genotype at most 6 alternate alleles in a given context, but the context at Pf3D7_14_v3:1937889 has 7 alternate alleles so only the top alleles will be used; see the --max_alternate_alleles argument \r\n"
       ]
      },
      {
       "output_type": "stream",
       "stream": "stdout",
       "text": [
        "WARN  08:18:49,023 ExactAFCalculator - this tool is currently set to genotype at most 6 alternate alleles in a given context, but the context at Pf3D7_14_v3:1941777 has 7 alternate alleles so only the top alleles will be used; see the --max_alternate_alleles argument \r\n"
       ]
      },
      {
       "output_type": "stream",
       "stream": "stdout",
       "text": [
        "WARN  08:18:49,109 ExactAFCalculator - this tool is currently set to genotype at most 6 alternate alleles in a given context, but the context at Pf3D7_14_v3:1966769 has 8 alternate alleles so only the top alleles will be used; see the --max_alternate_alleles argument \r\n",
        "WARN  08:18:49,114 ExactAFCalculator - this tool is currently set to genotype at most 6 alternate alleles in a given context, but the context at Pf3D7_14_v3:1969056 has 7 alternate alleles so only the top alleles will be used; see the --max_alternate_alleles argument \r\n"
       ]
      },
      {
       "output_type": "stream",
       "stream": "stdout",
       "text": [
        "WARN  08:18:49,125 ExactAFCalculator - this tool is currently set to genotype at most 6 alternate alleles in a given context, but the context at Pf3D7_14_v3:1971252 has 8 alternate alleles so only the top alleles will be used; see the --max_alternate_alleles argument \r\n"
       ]
      },
      {
       "output_type": "stream",
       "stream": "stdout",
       "text": [
        "WARN  08:18:49,273 ExactAFCalculator - this tool is currently set to genotype at most 6 alternate alleles in a given context, but the context at Pf3D7_14_v3:2006355 has 7 alternate alleles so only the top alleles will be used; see the --max_alternate_alleles argument \r\n"
       ]
      },
      {
       "output_type": "stream",
       "stream": "stdout",
       "text": [
        "WARN  08:18:49,290 ExactAFCalculator - this tool is currently set to genotype at most 6 alternate alleles in a given context, but the context at Pf3D7_14_v3:2012138 has 7 alternate alleles so only the top alleles will be used; see the --max_alternate_alleles argument \r\n",
        "WARN  08:18:49,293 ExactAFCalculator - this tool is currently set to genotype at most 6 alternate alleles in a given context, but the context at Pf3D7_14_v3:2012575 has 7 alternate alleles so only the top alleles will be used; see the --max_alternate_alleles argument \r\n",
        "WARN  08:18:49,321 ExactAFCalculator - this tool is currently set to genotype at most 6 alternate alleles in a given context, but the context at Pf3D7_14_v3:2017119 has 8 alternate alleles so only the top alleles will be used; see the --max_alternate_alleles argument \r\n"
       ]
      },
      {
       "output_type": "stream",
       "stream": "stdout",
       "text": [
        "WARN  08:18:49,359 ExactAFCalculator - this tool is currently set to genotype at most 6 alternate alleles in a given context, but the context at Pf3D7_14_v3:2028676 has 8 alternate alleles so only the top alleles will be used; see the --max_alternate_alleles argument \r\n"
       ]
      },
      {
       "output_type": "stream",
       "stream": "stdout",
       "text": [
        "WARN  08:18:49,533 ExactAFCalculator - this tool is currently set to genotype at most 6 alternate alleles in a given context, but the context at Pf3D7_14_v3:2067352 has 7 alternate alleles so only the top alleles will be used; see the --max_alternate_alleles argument \r\n",
        "WARN  08:18:49,577 ExactAFCalculator - this tool is currently set to genotype at most 6 alternate alleles in a given context, but the context at Pf3D7_14_v3:2080478 has 10 alternate alleles so only the top alleles will be used; see the --max_alternate_alleles argument \r\n"
       ]
      },
      {
       "output_type": "stream",
       "stream": "stdout",
       "text": [
        "WARN  08:18:49,587 ExactAFCalculator - this tool is currently set to genotype at most 6 alternate alleles in a given context, but the context at Pf3D7_14_v3:2083405 has 7 alternate alleles so only the top alleles will be used; see the --max_alternate_alleles argument \r\n"
       ]
      },
      {
       "output_type": "stream",
       "stream": "stdout",
       "text": [
        "WARN  08:18:49,662 ExactAFCalculator - this tool is currently set to genotype at most 6 alternate alleles in a given context, but the context at Pf3D7_14_v3:2108231 has 8 alternate alleles so only the top alleles will be used; see the --max_alternate_alleles argument \r\n"
       ]
      },
      {
       "output_type": "stream",
       "stream": "stdout",
       "text": [
        "WARN  08:18:49,690 ExactAFCalculator - this tool is currently set to genotype at most 6 alternate alleles in a given context, but the context at Pf3D7_14_v3:2120524 has 7 alternate alleles so only the top alleles will be used; see the --max_alternate_alleles argument \r\n",
        "WARN  08:18:49,704 ExactAFCalculator - this tool is currently set to genotype at most 6 alternate alleles in a given context, but the context at Pf3D7_14_v3:2123416 has 7 alternate alleles so only the top alleles will be used; see the --max_alternate_alleles argument \r\n",
        "WARN  08:18:49,736 ExactAFCalculator - this tool is currently set to genotype at most 6 alternate alleles in a given context, but the context at Pf3D7_14_v3:2133972 has 8 alternate alleles so only the top alleles will be used; see the --max_alternate_alleles argument \r\n"
       ]
      },
      {
       "output_type": "stream",
       "stream": "stdout",
       "text": [
        "WARN  08:18:49,864 ExactAFCalculator - this tool is currently set to genotype at most 6 alternate alleles in a given context, but the context at Pf3D7_14_v3:2155631 has 7 alternate alleles so only the top alleles will be used; see the --max_alternate_alleles argument \r\n"
       ]
      },
      {
       "output_type": "stream",
       "stream": "stdout",
       "text": [
        "WARN  08:18:49,972 ExactAFCalculator - this tool is currently set to genotype at most 6 alternate alleles in a given context, but the context at Pf3D7_14_v3:2198499 has 8 alternate alleles so only the top alleles will be used; see the --max_alternate_alleles argument \r\n"
       ]
      },
      {
       "output_type": "stream",
       "stream": "stdout",
       "text": [
        "WARN  08:18:50,116 ExactAFCalculator - this tool is currently set to genotype at most 6 alternate alleles in a given context, but the context at Pf3D7_14_v3:2236692 has 7 alternate alleles so only the top alleles will be used; see the --max_alternate_alleles argument \r\n"
       ]
      },
      {
       "output_type": "stream",
       "stream": "stdout",
       "text": [
        "WARN  08:18:50,166 ExactAFCalculator - this tool is currently set to genotype at most 6 alternate alleles in a given context, but the context at Pf3D7_14_v3:2251588 has 7 alternate alleles so only the top alleles will be used; see the --max_alternate_alleles argument \r\n",
        "WARN  08:18:50,182 ExactAFCalculator - this tool is currently set to genotype at most 6 alternate alleles in a given context, but the context at Pf3D7_14_v3:2253791 has 7 alternate alleles so only the top alleles will be used; see the --max_alternate_alleles argument \r\n"
       ]
      },
      {
       "output_type": "stream",
       "stream": "stdout",
       "text": [
        "WARN  08:18:50,226 ExactAFCalculator - this tool is currently set to genotype at most 6 alternate alleles in a given context, but the context at Pf3D7_14_v3:2263992 has 8 alternate alleles so only the top alleles will be used; see the --max_alternate_alleles argument \r\n",
        "WARN  08:18:50,264 ExactAFCalculator - this tool is currently set to genotype at most 6 alternate alleles in a given context, but the context at Pf3D7_14_v3:2277555 has 10 alternate alleles so only the top alleles will be used; see the --max_alternate_alleles argument \r\n"
       ]
      },
      {
       "output_type": "stream",
       "stream": "stdout",
       "text": [
        "WARN  08:18:50,305 ExactAFCalculator - this tool is currently set to genotype at most 6 alternate alleles in a given context, but the context at Pf3D7_14_v3:2292067 has 8 alternate alleles so only the top alleles will be used; see the --max_alternate_alleles argument \r\n"
       ]
      },
      {
       "output_type": "stream",
       "stream": "stdout",
       "text": [
        "WARN  08:18:50,415 ExactAFCalculator - this tool is currently set to genotype at most 6 alternate alleles in a given context, but the context at Pf3D7_14_v3:2329024 has 7 alternate alleles so only the top alleles will be used; see the --max_alternate_alleles argument \r\n"
       ]
      },
      {
       "output_type": "stream",
       "stream": "stdout",
       "text": [
        "WARN  08:18:50,421 ExactAFCalculator - this tool is currently set to genotype at most 6 alternate alleles in a given context, but the context at Pf3D7_14_v3:2332124 has 7 alternate alleles so only the top alleles will be used; see the --max_alternate_alleles argument \r\n",
        "WARN  08:18:50,467 ExactAFCalculator - this tool is currently set to genotype at most 6 alternate alleles in a given context, but the context at Pf3D7_14_v3:2343092 has 8 alternate alleles so only the top alleles will be used; see the --max_alternate_alleles argument \r\n"
       ]
      },
      {
       "output_type": "stream",
       "stream": "stdout",
       "text": [
        "WARN  08:18:50,514 ExactAFCalculator - this tool is currently set to genotype at most 6 alternate alleles in a given context, but the context at Pf3D7_14_v3:2360840 has 7 alternate alleles so only the top alleles will be used; see the --max_alternate_alleles argument \r\n"
       ]
      },
      {
       "output_type": "stream",
       "stream": "stdout",
       "text": [
        "WARN  08:18:50,579 ExactAFCalculator - this tool is currently set to genotype at most 6 alternate alleles in a given context, but the context at Pf3D7_14_v3:2389535 has 10 alternate alleles so only the top alleles will be used; see the --max_alternate_alleles argument \r\n",
        "WARN  08:18:50,585 ExactAFCalculator - this tool is currently set to genotype at most 6 alternate alleles in a given context, but the context at Pf3D7_14_v3:2390418 has 9 alternate alleles so only the top alleles will be used; see the --max_alternate_alleles argument \r\n",
        "WARN  08:18:50,589 ExactAFCalculator - this tool is currently set to genotype at most 6 alternate alleles in a given context, but the context at Pf3D7_14_v3:2390961 has 11 alternate alleles so only the top alleles will be used; see the --max_alternate_alleles argument \r\n",
        "WARN  08:18:50,594 ExactAFCalculator - this tool is currently set to genotype at most 6 alternate alleles in a given context, but the context at Pf3D7_14_v3:2391923 has 7 alternate alleles so only the top alleles will be used; see the --max_alternate_alleles argument \r\n",
        "WARN  08:18:50,601 ExactAFCalculator - this tool is currently set to genotype at most 6 alternate alleles in a given context, but the context at Pf3D7_14_v3:2396829 has 8 alternate alleles so only the top alleles will be used; see the --max_alternate_alleles argument \r\n",
        "WARN  08:18:50,623 ExactAFCalculator - this tool is currently set to genotype at most 6 alternate alleles in a given context, but the context at Pf3D7_14_v3:2405753 has 7 alternate alleles so only the top alleles will be used; see the --max_alternate_alleles argument \r\n"
       ]
      },
      {
       "output_type": "stream",
       "stream": "stdout",
       "text": [
        "WARN  08:18:50,722 ExactAFCalculator - this tool is currently set to genotype at most 6 alternate alleles in a given context, but the context at Pf3D7_14_v3:2433299 has 8 alternate alleles so only the top alleles will be used; see the --max_alternate_alleles argument \r\n"
       ]
      },
      {
       "output_type": "stream",
       "stream": "stdout",
       "text": [
        "WARN  08:18:50,742 ExactAFCalculator - this tool is currently set to genotype at most 6 alternate alleles in a given context, but the context at Pf3D7_14_v3:2436471 has 7 alternate alleles so only the top alleles will be used; see the --max_alternate_alleles argument \r\n"
       ]
      },
      {
       "output_type": "stream",
       "stream": "stdout",
       "text": [
        "WARN  08:18:50,807 ExactAFCalculator - this tool is currently set to genotype at most 6 alternate alleles in a given context, but the context at Pf3D7_14_v3:2448374 has 7 alternate alleles so only the top alleles will be used; see the --max_alternate_alleles argument \r\n",
        "WARN  08:18:50,808 ExactAFCalculator - this tool is currently set to genotype at most 6 alternate alleles in a given context, but the context at Pf3D7_14_v3:2448399 has 8 alternate alleles so only the top alleles will be used; see the --max_alternate_alleles argument \r\n",
        "WARN  08:18:50,817 ExactAFCalculator - this tool is currently set to genotype at most 6 alternate alleles in a given context, but the context at Pf3D7_14_v3:2449756 has 7 alternate alleles so only the top alleles will be used; see the --max_alternate_alleles argument \r\n"
       ]
      },
      {
       "output_type": "stream",
       "stream": "stdout",
       "text": [
        "WARN  08:18:50,862 ExactAFCalculator - this tool is currently set to genotype at most 6 alternate alleles in a given context, but the context at Pf3D7_14_v3:2458783 has 8 alternate alleles so only the top alleles will be used; see the --max_alternate_alleles argument \r\n"
       ]
      },
      {
       "output_type": "stream",
       "stream": "stdout",
       "text": [
        "WARN  08:18:51,041 ExactAFCalculator - this tool is currently set to genotype at most 6 alternate alleles in a given context, but the context at Pf3D7_14_v3:2499904 has 7 alternate alleles so only the top alleles will be used; see the --max_alternate_alleles argument \r\n"
       ]
      },
      {
       "output_type": "stream",
       "stream": "stdout",
       "text": [
        "WARN  08:18:51,111 ExactAFCalculator - this tool is currently set to genotype at most 6 alternate alleles in a given context, but the context at Pf3D7_14_v3:2518126 has 8 alternate alleles so only the top alleles will be used; see the --max_alternate_alleles argument \r\n",
        "WARN  08:18:51,121 ExactAFCalculator - this tool is currently set to genotype at most 6 alternate alleles in a given context, but the context at Pf3D7_14_v3:2523246 has 12 alternate alleles so only the top alleles will be used; see the --max_alternate_alleles argument \r\n",
        "WARN  08:18:51,129 ExactAFCalculator - this tool is currently set to genotype at most 6 alternate alleles in a given context, but the context at Pf3D7_14_v3:2524736 has 7 alternate alleles so only the top alleles will be used; see the --max_alternate_alleles argument \r\n"
       ]
      },
      {
       "output_type": "stream",
       "stream": "stdout",
       "text": [
        "WARN  08:18:51,209 ExactAFCalculator - this tool is currently set to genotype at most 6 alternate alleles in a given context, but the context at Pf3D7_14_v3:2551820 has 11 alternate alleles so only the top alleles will be used; see the --max_alternate_alleles argument \r\n",
        "WARN  08:18:51,211 ExactAFCalculator - this tool is currently set to genotype at most 6 alternate alleles in a given context, but the context at Pf3D7_14_v3:2552456 has 8 alternate alleles so only the top alleles will be used; see the --max_alternate_alleles argument \r\n",
        "WARN  08:18:51,219 ExactAFCalculator - this tool is currently set to genotype at most 6 alternate alleles in a given context, but the context at Pf3D7_14_v3:2554857 has 9 alternate alleles so only the top alleles will be used; see the --max_alternate_alleles argument \r\n",
        "WARN  08:18:51,220 ExactAFCalculator - this tool is currently set to genotype at most 6 alternate alleles in a given context, but the context at Pf3D7_14_v3:2554879 has 9 alternate alleles so only the top alleles will be used; see the --max_alternate_alleles argument \r\n"
       ]
      },
      {
       "output_type": "stream",
       "stream": "stdout",
       "text": [
        "WARN  08:18:51,275 ExactAFCalculator - this tool is currently set to genotype at most 6 alternate alleles in a given context, but the context at Pf3D7_14_v3:2568673 has 7 alternate alleles so only the top alleles will be used; see the --max_alternate_alleles argument \r\n",
        "WARN  08:18:51,284 ExactAFCalculator - this tool is currently set to genotype at most 6 alternate alleles in a given context, but the context at Pf3D7_14_v3:2570353 has 7 alternate alleles so only the top alleles will be used; see the --max_alternate_alleles argument \r\n",
        "WARN  08:18:51,303 ExactAFCalculator - this tool is currently set to genotype at most 6 alternate alleles in a given context, but the context at Pf3D7_14_v3:2576470 has 7 alternate alleles so only the top alleles will be used; see the --max_alternate_alleles argument \r\n"
       ]
      },
      {
       "output_type": "stream",
       "stream": "stdout",
       "text": [
        "WARN  08:18:51,400 ExactAFCalculator - this tool is currently set to genotype at most 6 alternate alleles in a given context, but the context at Pf3D7_14_v3:2603826 has 10 alternate alleles so only the top alleles will be used; see the --max_alternate_alleles argument \r\n",
        "WARN  08:18:51,402 ExactAFCalculator - this tool is currently set to genotype at most 6 alternate alleles in a given context, but the context at Pf3D7_14_v3:2604315 has 7 alternate alleles so only the top alleles will be used; see the --max_alternate_alleles argument \r\n"
       ]
      },
      {
       "output_type": "stream",
       "stream": "stdout",
       "text": [
        "WARN  08:18:51,430 ExactAFCalculator - this tool is currently set to genotype at most 6 alternate alleles in a given context, but the context at Pf3D7_14_v3:2616840 has 7 alternate alleles so only the top alleles will be used; see the --max_alternate_alleles argument \r\n"
       ]
      },
      {
       "output_type": "stream",
       "stream": "stdout",
       "text": [
        "WARN  08:18:51,503 ExactAFCalculator - this tool is currently set to genotype at most 6 alternate alleles in a given context, but the context at Pf3D7_14_v3:2640305 has 7 alternate alleles so only the top alleles will be used; see the --max_alternate_alleles argument \r\n"
       ]
      },
      {
       "output_type": "stream",
       "stream": "stdout",
       "text": [
        "WARN  08:18:51,521 ExactAFCalculator - this tool is currently set to genotype at most 6 alternate alleles in a given context, but the context at Pf3D7_14_v3:2645360 has 9 alternate alleles so only the top alleles will be used; see the --max_alternate_alleles argument \r\n",
        "WARN  08:18:51,541 ExactAFCalculator - this tool is currently set to genotype at most 6 alternate alleles in a given context, but the context at Pf3D7_14_v3:2650363 has 7 alternate alleles so only the top alleles will be used; see the --max_alternate_alleles argument \r\n",
        "WARN  08:18:51,542 ExactAFCalculator - this tool is currently set to genotype at most 6 alternate alleles in a given context, but the context at Pf3D7_14_v3:2650547 has 7 alternate alleles so only the top alleles will be used; see the --max_alternate_alleles argument \r\n",
        "WARN  08:18:51,549 ExactAFCalculator - this tool is currently set to genotype at most 6 alternate alleles in a given context, but the context at Pf3D7_14_v3:2655171 has 10 alternate alleles so only the top alleles will be used; see the --max_alternate_alleles argument \r\n"
       ]
      },
      {
       "output_type": "stream",
       "stream": "stdout",
       "text": [
        "WARN  08:18:51,572 ExactAFCalculator - this tool is currently set to genotype at most 6 alternate alleles in a given context, but the context at Pf3D7_14_v3:2663022 has 7 alternate alleles so only the top alleles will be used; see the --max_alternate_alleles argument \r\n"
       ]
      },
      {
       "output_type": "stream",
       "stream": "stdout",
       "text": [
        "WARN  08:18:51,613 ExactAFCalculator - this tool is currently set to genotype at most 6 alternate alleles in a given context, but the context at Pf3D7_14_v3:2687151 has 7 alternate alleles so only the top alleles will be used; see the --max_alternate_alleles argument \r\n",
        "WARN  08:18:51,658 ExactAFCalculator - this tool is currently set to genotype at most 6 alternate alleles in a given context, but the context at Pf3D7_14_v3:2706289 has 9 alternate alleles so only the top alleles will be used; see the --max_alternate_alleles argument \r\n"
       ]
      },
      {
       "output_type": "stream",
       "stream": "stdout",
       "text": [
        "WARN  08:18:51,713 ExactAFCalculator - this tool is currently set to genotype at most 6 alternate alleles in a given context, but the context at Pf3D7_14_v3:2721553 has 7 alternate alleles so only the top alleles will be used; see the --max_alternate_alleles argument \r\n"
       ]
      },
      {
       "output_type": "stream",
       "stream": "stdout",
       "text": [
        "WARN  08:18:51,780 ExactAFCalculator - this tool is currently set to genotype at most 6 alternate alleles in a given context, but the context at Pf3D7_14_v3:2741789 has 10 alternate alleles so only the top alleles will be used; see the --max_alternate_alleles argument \r\n",
        "WARN  08:18:51,785 ExactAFCalculator - this tool is currently set to genotype at most 6 alternate alleles in a given context, but the context at Pf3D7_14_v3:2743910 has 7 alternate alleles so only the top alleles will be used; see the --max_alternate_alleles argument \r\n"
       ]
      },
      {
       "output_type": "stream",
       "stream": "stdout",
       "text": [
        "WARN  08:18:51,970 ExactAFCalculator - this tool is currently set to genotype at most 6 alternate alleles in a given context, but the context at Pf3D7_14_v3:2799169 has 7 alternate alleles so only the top alleles will be used; see the --max_alternate_alleles argument \r\n"
       ]
      },
      {
       "output_type": "stream",
       "stream": "stdout",
       "text": [
        "WARN  08:18:51,997 ExactAFCalculator - this tool is currently set to genotype at most 6 alternate alleles in a given context, but the context at Pf3D7_14_v3:2805722 has 8 alternate alleles so only the top alleles will be used; see the --max_alternate_alleles argument \r\n"
       ]
      },
      {
       "output_type": "stream",
       "stream": "stdout",
       "text": [
        "WARN  08:18:52,044 ExactAFCalculator - this tool is currently set to genotype at most 6 alternate alleles in a given context, but the context at Pf3D7_14_v3:2815992 has 7 alternate alleles so only the top alleles will be used; see the --max_alternate_alleles argument \r\n"
       ]
      },
      {
       "output_type": "stream",
       "stream": "stdout",
       "text": [
        "WARN  08:18:52,115 ExactAFCalculator - this tool is currently set to genotype at most 6 alternate alleles in a given context, but the context at Pf3D7_14_v3:2838112 has 7 alternate alleles so only the top alleles will be used; see the --max_alternate_alleles argument \r\n"
       ]
      },
      {
       "output_type": "stream",
       "stream": "stdout",
       "text": [
        "WARN  08:18:52,145 ExactAFCalculator - this tool is currently set to genotype at most 6 alternate alleles in a given context, but the context at Pf3D7_14_v3:2844413 has 7 alternate alleles so only the top alleles will be used; see the --max_alternate_alleles argument \r\n"
       ]
      },
      {
       "output_type": "stream",
       "stream": "stdout",
       "text": [
        "WARN  08:18:52,188 ExactAFCalculator - this tool is currently set to genotype at most 6 alternate alleles in a given context, but the context at Pf3D7_14_v3:2862232 has 7 alternate alleles so only the top alleles will be used; see the --max_alternate_alleles argument \r\n",
        "WARN  08:18:52,217 ExactAFCalculator - this tool is currently set to genotype at most 6 alternate alleles in a given context, but the context at Pf3D7_14_v3:2868963 has 9 alternate alleles so only the top alleles will be used; see the --max_alternate_alleles argument \r\n"
       ]
      },
      {
       "output_type": "stream",
       "stream": "stdout",
       "text": [
        "WARN  08:18:52,249 ExactAFCalculator - this tool is currently set to genotype at most 6 alternate alleles in a given context, but the context at Pf3D7_14_v3:2880111 has 8 alternate alleles so only the top alleles will be used; see the --max_alternate_alleles argument \r\n",
        "WARN  08:18:52,267 ExactAFCalculator - this tool is currently set to genotype at most 6 alternate alleles in a given context, but the context at Pf3D7_14_v3:2882880 has 7 alternate alleles so only the top alleles will be used; see the --max_alternate_alleles argument \r\n"
       ]
      },
      {
       "output_type": "stream",
       "stream": "stdout",
       "text": [
        "WARN  08:18:52,284 ExactAFCalculator - this tool is currently set to genotype at most 6 alternate alleles in a given context, but the context at Pf3D7_14_v3:2886805 has 10 alternate alleles so only the top alleles will be used; see the --max_alternate_alleles argument \r\n"
       ]
      },
      {
       "output_type": "stream",
       "stream": "stdout",
       "text": [
        "WARN  08:18:52,359 ExactAFCalculator - this tool is currently set to genotype at most 6 alternate alleles in a given context, but the context at Pf3D7_14_v3:2905782 has 7 alternate alleles so only the top alleles will be used; see the --max_alternate_alleles argument \r\n"
       ]
      },
      {
       "output_type": "stream",
       "stream": "stdout",
       "text": [
        "WARN  08:18:52,391 ExactAFCalculator - this tool is currently set to genotype at most 6 alternate alleles in a given context, but the context at Pf3D7_14_v3:2910377 has 9 alternate alleles so only the top alleles will be used; see the --max_alternate_alleles argument \r\n",
        "WARN  08:18:52,402 ExactAFCalculator - this tool is currently set to genotype at most 6 alternate alleles in a given context, but the context at Pf3D7_14_v3:2911926 has 10 alternate alleles so only the top alleles will be used; see the --max_alternate_alleles argument \r\n",
        "WARN  08:18:52,434 ExactAFCalculator - this tool is currently set to genotype at most 6 alternate alleles in a given context, but the context at Pf3D7_14_v3:2918951 has 7 alternate alleles so only the top alleles will be used; see the --max_alternate_alleles argument \r\n"
       ]
      },
      {
       "output_type": "stream",
       "stream": "stdout",
       "text": [
        "WARN  08:18:52,440 ExactAFCalculator - this tool is currently set to genotype at most 6 alternate alleles in a given context, but the context at Pf3D7_14_v3:2920909 has 7 alternate alleles so only the top alleles will be used; see the --max_alternate_alleles argument \r\n",
        "WARN  08:18:52,473 ExactAFCalculator - this tool is currently set to genotype at most 6 alternate alleles in a given context, but the context at Pf3D7_14_v3:2931665 has 7 alternate alleles so only the top alleles will be used; see the --max_alternate_alleles argument \r\n",
        "WARN  08:18:52,485 ExactAFCalculator - this tool is currently set to genotype at most 6 alternate alleles in a given context, but the context at Pf3D7_14_v3:2937488 has 7 alternate alleles so only the top alleles will be used; see the --max_alternate_alleles argument \r\n"
       ]
      },
      {
       "output_type": "stream",
       "stream": "stdout",
       "text": [
        "WARN  08:18:52,580 ExactAFCalculator - this tool is currently set to genotype at most 6 alternate alleles in a given context, but the context at Pf3D7_14_v3:2963122 has 10 alternate alleles so only the top alleles will be used; see the --max_alternate_alleles argument \r\n"
       ]
      },
      {
       "output_type": "stream",
       "stream": "stdout",
       "text": [
        "WARN  08:18:52,606 ExactAFCalculator - this tool is currently set to genotype at most 6 alternate alleles in a given context, but the context at Pf3D7_14_v3:2970325 has 8 alternate alleles so only the top alleles will be used; see the --max_alternate_alleles argument \r\n",
        "WARN  08:18:52,611 ExactAFCalculator - this tool is currently set to genotype at most 6 alternate alleles in a given context, but the context at Pf3D7_14_v3:2971407 has 7 alternate alleles so only the top alleles will be used; see the --max_alternate_alleles argument \r\n",
        "WARN  08:18:52,619 ExactAFCalculator - this tool is currently set to genotype at most 6 alternate alleles in a given context, but the context at Pf3D7_14_v3:2972884 has 8 alternate alleles so only the top alleles will be used; see the --max_alternate_alleles argument \r\n"
       ]
      },
      {
       "output_type": "stream",
       "stream": "stdout",
       "text": [
        "WARN  08:18:52,716 ExactAFCalculator - this tool is currently set to genotype at most 6 alternate alleles in a given context, but the context at Pf3D7_14_v3:2997484 has 7 alternate alleles so only the top alleles will be used; see the --max_alternate_alleles argument \r\n"
       ]
      },
      {
       "output_type": "stream",
       "stream": "stdout",
       "text": [
        "WARN  08:18:52,772 ExactAFCalculator - this tool is currently set to genotype at most 6 alternate alleles in a given context, but the context at Pf3D7_14_v3:3004172 has 8 alternate alleles so only the top alleles will be used; see the --max_alternate_alleles argument \r\n"
       ]
      },
      {
       "output_type": "stream",
       "stream": "stdout",
       "text": [
        "WARN  08:18:52,834 ExactAFCalculator - this tool is currently set to genotype at most 6 alternate alleles in a given context, but the context at Pf3D7_14_v3:3020712 has 8 alternate alleles so only the top alleles will be used; see the --max_alternate_alleles argument \r\n"
       ]
      },
      {
       "output_type": "stream",
       "stream": "stdout",
       "text": [
        "WARN  08:18:52,874 ExactAFCalculator - this tool is currently set to genotype at most 6 alternate alleles in a given context, but the context at Pf3D7_14_v3:3038701 has 7 alternate alleles so only the top alleles will be used; see the --max_alternate_alleles argument \r\n"
       ]
      },
      {
       "output_type": "stream",
       "stream": "stdout",
       "text": [
        "WARN  08:18:52,985 ExactAFCalculator - this tool is currently set to genotype at most 6 alternate alleles in a given context, but the context at Pf3D7_14_v3:3070895 has 7 alternate alleles so only the top alleles will be used; see the --max_alternate_alleles argument \r\n",
        "WARN  08:18:52,995 ExactAFCalculator - this tool is currently set to genotype at most 6 alternate alleles in a given context, but the context at Pf3D7_14_v3:3073297 has 9 alternate alleles so only the top alleles will be used; see the --max_alternate_alleles argument \r\n",
        "WARN  08:18:52,997 ExactAFCalculator - this tool is currently set to genotype at most 6 alternate alleles in a given context, but the context at Pf3D7_14_v3:3073622 has 7 alternate alleles so only the top alleles will be used; see the --max_alternate_alleles argument \r\n"
       ]
      },
      {
       "output_type": "stream",
       "stream": "stdout",
       "text": [
        "WARN  08:18:53,075 ExactAFCalculator - this tool is currently set to genotype at most 6 alternate alleles in a given context, but the context at Pf3D7_14_v3:3104486 has 7 alternate alleles so only the top alleles will be used; see the --max_alternate_alleles argument \r\n"
       ]
      },
      {
       "output_type": "stream",
       "stream": "stdout",
       "text": [
        "WARN  08:18:53,160 ExactAFCalculator - this tool is currently set to genotype at most 6 alternate alleles in a given context, but the context at Pf3D7_14_v3:3127850 has 10 alternate alleles so only the top alleles will be used; see the --max_alternate_alleles argument \r\n",
        "WARN  08:18:53,166 ExactAFCalculator - this tool is currently set to genotype at most 6 alternate alleles in a given context, but the context at Pf3D7_14_v3:3128949 has 8 alternate alleles so only the top alleles will be used; see the --max_alternate_alleles argument \r\n"
       ]
      },
      {
       "output_type": "stream",
       "stream": "stdout",
       "text": [
        "WARN  08:18:53,235 ExactAFCalculator - this tool is currently set to genotype at most 6 alternate alleles in a given context, but the context at Pf3D7_14_v3:3146539 has 8 alternate alleles so only the top alleles will be used; see the --max_alternate_alleles argument \r\n"
       ]
      },
      {
       "output_type": "stream",
       "stream": "stdout",
       "text": [
        "WARN  08:18:53,283 ExactAFCalculator - this tool is currently set to genotype at most 6 alternate alleles in a given context, but the context at Pf3D7_14_v3:3161317 has 8 alternate alleles so only the top alleles will be used; see the --max_alternate_alleles argument \r\n",
        "WARN  08:18:53,289 ExactAFCalculator - this tool is currently set to genotype at most 6 alternate alleles in a given context, but the context at Pf3D7_14_v3:3162982 has 7 alternate alleles so only the top alleles will be used; see the --max_alternate_alleles argument \r\n",
        "WARN  08:18:53,304 ExactAFCalculator - this tool is currently set to genotype at most 6 alternate alleles in a given context, but the context at Pf3D7_14_v3:3166371 has 8 alternate alleles so only the top alleles will be used; see the --max_alternate_alleles argument \r\n"
       ]
      },
      {
       "output_type": "stream",
       "stream": "stdout",
       "text": [
        "WARN  08:18:53,344 ExactAFCalculator - this tool is currently set to genotype at most 6 alternate alleles in a given context, but the context at Pf3D7_14_v3:3175776 has 8 alternate alleles so only the top alleles will be used; see the --max_alternate_alleles argument \r\n",
        "WARN  08:18:53,352 ExactAFCalculator - this tool is currently set to genotype at most 6 alternate alleles in a given context, but the context at Pf3D7_14_v3:3177638 has 10 alternate alleles so only the top alleles will be used; see the --max_alternate_alleles argument \r\n",
        "WARN  08:18:53,371 ExactAFCalculator - this tool is currently set to genotype at most 6 alternate alleles in a given context, but the context at Pf3D7_14_v3:3182567 has 10 alternate alleles so only the top alleles will be used; see the --max_alternate_alleles argument \r\n"
       ]
      },
      {
       "output_type": "stream",
       "stream": "stdout",
       "text": [
        "WARN  08:18:53,442 ExactAFCalculator - this tool is currently set to genotype at most 6 alternate alleles in a given context, but the context at Pf3D7_14_v3:3199600 has 7 alternate alleles so only the top alleles will be used; see the --max_alternate_alleles argument \r\n",
        "WARN  08:18:53,444 ExactAFCalculator - this tool is currently set to genotype at most 6 alternate alleles in a given context, but the context at Pf3D7_14_v3:3200010 has 7 alternate alleles so only the top alleles will be used; see the --max_alternate_alleles argument \r\n",
        "WARN  08:18:53,450 ExactAFCalculator - this tool is currently set to genotype at most 6 alternate alleles in a given context, but the context at Pf3D7_14_v3:3201008 has 7 alternate alleles so only the top alleles will be used; see the --max_alternate_alleles argument \r\n",
        "WARN  08:18:53,480 ExactAFCalculator - this tool is currently set to genotype at most 6 alternate alleles in a given context, but the context at Pf3D7_14_v3:3207543 has 7 alternate alleles so only the top alleles will be used; see the --max_alternate_alleles argument \r\n",
        "WARN  08:18:53,482 ExactAFCalculator - this tool is currently set to genotype at most 6 alternate alleles in a given context, but the context at Pf3D7_14_v3:3208087 has 7 alternate alleles so only the top alleles will be used; see the --max_alternate_alleles argument \r\n"
       ]
      },
      {
       "output_type": "stream",
       "stream": "stdout",
       "text": [
        "WARN  08:18:53,535 ExactAFCalculator - this tool is currently set to genotype at most 6 alternate alleles in a given context, but the context at Pf3D7_14_v3:3225990 has 7 alternate alleles so only the top alleles will be used; see the --max_alternate_alleles argument \r\n"
       ]
      },
      {
       "output_type": "stream",
       "stream": "stdout",
       "text": [
        "WARN  08:18:53,542 ExactAFCalculator - this tool is currently set to genotype at most 6 alternate alleles in a given context, but the context at Pf3D7_14_v3:3228781 has 8 alternate alleles so only the top alleles will be used; see the --max_alternate_alleles argument \r\n"
       ]
      },
      {
       "output_type": "stream",
       "stream": "stdout",
       "text": [
        "WARN  08:18:53,611 ExactAFCalculator - this tool is currently set to genotype at most 6 alternate alleles in a given context, but the context at Pf3D7_14_v3:3251075 has 8 alternate alleles so only the top alleles will be used; see the --max_alternate_alleles argument \r\n"
       ]
      },
      {
       "output_type": "stream",
       "stream": "stdout",
       "text": [
        "WARN  08:18:53,666 ExactAFCalculator - this tool is currently set to genotype at most 6 alternate alleles in a given context, but the context at Pf3D7_14_v3:3266225 has 7 alternate alleles so only the top alleles will be used; see the --max_alternate_alleles argument \r\n"
       ]
      },
      {
       "output_type": "stream",
       "stream": "stdout",
       "text": [
        "INFO  08:18:53,962 ProgressMeter -            done   3291936.0    18.0 s       5.0 s      100.0%    18.0 s       0.0 s \r\n",
        "INFO  08:18:53,963 ProgressMeter - Total runtime 18.12 secs, 0.30 min, 0.01 hours \r\n"
       ]
      },
      {
       "output_type": "stream",
       "stream": "stdout",
       "text": [
        "INFO  08:18:57,924 GATKRunReport - Uploaded run statistics report to AWS S3 \r\n"
       ]
      }
     ],
     "prompt_number": 129
    },
    {
     "cell_type": "code",
     "collapsed": false,
     "input": [
      "def train_vqsr(genotyped_vcf_filestem=os.path.join(PROCESSED_ASSEMBLED_SAMPLES_DIR, 'vcfs', 'vcf', 'raw.snps.indels'),\n",
      "               recal_dir=os.path.join(PROCESSED_ASSEMBLED_SAMPLES_DIR, 'vcfs', 'vcf', 'recal'),\n",
      "               annotations_line='-an QD -an MQ -an MQRankSum -an ReadPosRankSum -an FS -an SOR -an DP',\n",
      "#                annotations_line='-an QD -an MQRankSum -an ReadPosRankSum -an FS -an SOR -an DP',\n",
      "               mode='SNP', maxGaussians=8, chromosomes=None,\n",
      "               reference_fasta = REF_GENOME, rewrite=False):\n",
      "    \n",
      "#     raw_input_vcf_fn = \"%s.%s.vcf\" % (genotyped_vcf_filestem, chromosome)\n",
      "    \n",
      "    if chromosomes is None:\n",
      "        in_seq_handle = open(reference_fasta)\n",
      "        chromosomes = SeqIO.to_dict(SeqIO.parse(in_seq_handle, \"fasta\")).keys()\n",
      "    \n",
      "    raw_input_vcf_fns = [\"%s.%s.vcf\" % (genotyped_vcf_filestem, chromosome) for chromosome in chromosomes]\n",
      "    input_line = \"-input \" + \" -input \".join(raw_input_vcf_fns)\n",
      "#     print(input_line)\n",
      "\n",
      "    recal_fn = \"%s/recalibrate_%s.recal\" % (recal_dir, mode)\n",
      "    tranches_fn = \"%s/recalibrate_%s.tranches\" % (recal_dir, mode)\n",
      "\n",
      "    if not os.path.isfile(recal_fn) or rewrite:\n",
      "        !{gatk_exe} \\\n",
      "        -T VariantRecalibrator \\\n",
      "        -R {reference_fasta} \\\n",
      "        {input_line} \\\n",
      "        -resource\\:7g8_gb4,known=false,training=true,truth=true,prior=15.0 {crosses_dir}/7g8_gb4.combined.final.vcf.gz \\\n",
      "        -resource\\:hb3_dd2,known=false,training=true,truth=true,prior=15.0 {crosses_dir}/hb3_dd2.combined.final.vcf \\\n",
      "        -resource\\:3d7_hb3,known=false,training=true,truth=true,prior=15.0 {crosses_dir}/3d7_hb3.combined.final.vcf.gz \\\n",
      "        {annotations_line} \\\n",
      "        --maxGaussians {maxGaussians} \\\n",
      "        -mode {mode} \\\n",
      "        -recalFile {recal_fn} \\\n",
      "        -tranchesFile {tranches_fn}\n",
      "\n"
     ],
     "language": "python",
     "metadata": {},
     "outputs": [],
     "prompt_number": 139
    },
    {
     "cell_type": "code",
     "collapsed": false,
     "input": [
      "# Train on SNPs\n",
      "train_vqsr(chromosomes=['Pf3D7_01_v3', 'Pf3D7_02_v3', 'Pf3D7_03_v3', 'Pf3D7_06_v3', 'Pf3D7_08_v3', \n",
      "                        'Pf3D7_09_v3', 'Pf3D7_11_v3', 'Pf3D7_12_v3', 'Pf3D7_13_v3', 'Pf3D7_14_v3'],\n",
      "           rewrite=True)"
     ],
     "language": "python",
     "metadata": {},
     "outputs": [
      {
       "output_type": "stream",
       "stream": "stdout",
       "text": [
        "INFO  10:10:24,042 HelpFormatter - -------------------------------------------------------------------------------- \r\n",
        "INFO  10:10:24,047 HelpFormatter - The Genome Analysis Toolkit (GATK) v3.4-0-g7e26428, Compiled 2015/05/15 03:25:41 \r\n",
        "INFO  10:10:24,047 HelpFormatter - Copyright (c) 2010 The Broad Institute \r\n",
        "INFO  10:10:24,047 HelpFormatter - For support and documentation go to http://www.broadinstitute.org/gatk \r\n",
        "INFO  10:10:24,050 HelpFormatter - Program Args: -T VariantRecalibrator -R /data/plasmodium/pfalciparum/recon/roamato/Pf3D7_v3/3D7_sorted.fa -input /nfs/team112_internal/production_files/Pf3k/methods/assembled_samples/vcfs/vcf/raw.snps.indels.Pf3D7_01_v3.vcf -input /nfs/team112_internal/production_files/Pf3k/methods/assembled_samples/vcfs/vcf/raw.snps.indels.Pf3D7_02_v3.vcf -input /nfs/team112_internal/production_files/Pf3k/methods/assembled_samples/vcfs/vcf/raw.snps.indels.Pf3D7_03_v3.vcf -input /nfs/team112_internal/production_files/Pf3k/methods/assembled_samples/vcfs/vcf/raw.snps.indels.Pf3D7_06_v3.vcf -input /nfs/team112_internal/production_files/Pf3k/methods/assembled_samples/vcfs/vcf/raw.snps.indels.Pf3D7_08_v3.vcf -input /nfs/team112_internal/production_files/Pf3k/methods/assembled_samples/vcfs/vcf/raw.snps.indels.Pf3D7_09_v3.vcf -input /nfs/team112_internal/production_files/Pf3k/methods/assembled_samples/vcfs/vcf/raw.snps.indels.Pf3D7_11_v3.vcf -input /nfs/team112_internal/production_files/Pf3k/methods/assembled_samples/vcfs/vcf/raw.snps.indels.Pf3D7_12_v3.vcf -input /nfs/team112_internal/production_files/Pf3k/methods/assembled_samples/vcfs/vcf/raw.snps.indels.Pf3D7_13_v3.vcf -input /nfs/team112_internal/production_files/Pf3k/methods/assembled_samples/vcfs/vcf/raw.snps.indels.Pf3D7_14_v3.vcf -resource:7g8_gb4,known=false,training=true,truth=true,prior=15.0 /data/plasmodium/pfalciparum/pf-crosses/data/public/1.0/7g8_gb4.combined.final.vcf.gz -resource:hb3_dd2,known=false,training=true,truth=true,prior=15.0 /data/plasmodium/pfalciparum/pf-crosses/data/public/1.0/hb3_dd2.combined.final.vcf -resource:3d7_hb3,known=false,training=true,truth=true,prior=15.0 /data/plasmodium/pfalciparum/pf-crosses/data/public/1.0/3d7_hb3.combined.final.vcf.gz -an QD -an MQ -an MQRankSum -an ReadPosRankSum -an FS -an SOR -an DP --maxGaussians 8 -mode SNP -recalFile /nfs/team112_internal/production_files/Pf3k/methods/assembled_samples/vcfs/vcf/recal/recalibrate_SNP.recal -tranchesFile /nfs/team112_internal/production_files/Pf3k/methods/assembled_samples/vcfs/vcf/recal/recalibrate_SNP.tranches \r\n",
        "INFO  10:10:24,070 HelpFormatter - Executing as rpearson@dhcp511.well.ox.ac.uk on Mac OS X 10.10.3 x86_64; Java HotSpot(TM) 64-Bit Server VM 1.7.0_60-b19. \r\n",
        "INFO  10:10:24,071 HelpFormatter - Date/Time: 2015/07/01 10:10:24 \r\n",
        "INFO  10:10:24,071 HelpFormatter - -------------------------------------------------------------------------------- \r\n",
        "INFO  10:10:24,071 HelpFormatter - -------------------------------------------------------------------------------- \r\n"
       ]
      },
      {
       "output_type": "stream",
       "stream": "stdout",
       "text": [
        "INFO  10:10:24,480 GenomeAnalysisEngine - Strictness is SILENT \r\n"
       ]
      },
      {
       "output_type": "stream",
       "stream": "stdout",
       "text": [
        "INFO  10:10:24,586 GenomeAnalysisEngine - Downsampling Settings: Method: BY_SAMPLE, Target Coverage: 1000 \r\n"
       ]
      },
      {
       "output_type": "stream",
       "stream": "stdout",
       "text": [
        "WARN  10:10:24,763 IndexDictionaryUtils - Track 7g8_gb4 doesn't have a sequence dictionary built in, skipping dictionary validation \r\n"
       ]
      },
      {
       "output_type": "stream",
       "stream": "stdout",
       "text": [
        "WARN  10:10:24,764 IndexDictionaryUtils - Track 3d7_hb3 doesn't have a sequence dictionary built in, skipping dictionary validation \r\n"
       ]
      },
      {
       "output_type": "stream",
       "stream": "stdout",
       "text": [
        "INFO  10:10:24,862 GenomeAnalysisEngine - Preparing for traversal \r\n",
        "INFO  10:10:24,863 GenomeAnalysisEngine - Done preparing for traversal \r\n",
        "INFO  10:10:24,864 ProgressMeter - [INITIALIZATION COMPLETE; STARTING PROCESSING] \r\n",
        "INFO  10:10:24,864 ProgressMeter -                 | processed |    time |    per 1M |           |   total | remaining \r\n",
        "INFO  10:10:24,864 ProgressMeter -        Location |     sites | elapsed |     sites | completed | runtime |   runtime \r\n"
       ]
      },
      {
       "output_type": "stream",
       "stream": "stdout",
       "text": [
        "INFO  10:10:24,866 TrainingSet - Found 7g8_gb4 track: \tKnown = false \tTraining = true \tTruth = true \tPrior = Q15.0 \r\n",
        "INFO  10:10:24,867 TrainingSet - Found hb3_dd2 track: \tKnown = false \tTraining = true \tTruth = true \tPrior = Q15.0 \r\n",
        "INFO  10:10:24,867 TrainingSet - Found 3d7_hb3 track: \tKnown = false \tTraining = true \tTruth = true \tPrior = Q15.0 \r\n"
       ]
      },
      {
       "output_type": "stream",
       "stream": "stdout",
       "text": [
        "INFO  10:10:33,067 VariantDataManager - QD: \t mean = 29.50\t standard deviation = 2.91 \r\n",
        "INFO  10:10:33,079 VariantDataManager - MQ: \t mean = 59.69\t standard deviation = 1.88 \r\n",
        "INFO  10:10:33,085 VariantDataManager - MQRankSum: \t mean = 0.14\t standard deviation = 1.30 \r\n",
        "INFO  10:10:33,100 VariantDataManager - ReadPosRankSum: \t mean = 0.56\t standard deviation = 1.39 \r\n"
       ]
      },
      {
       "output_type": "stream",
       "stream": "stdout",
       "text": [
        "INFO  10:10:33,108 VariantDataManager - FS: \t mean = 0.52\t standard deviation = 3.98 \r\n",
        "INFO  10:10:33,112 VariantDataManager - SOR: \t mean = 1.16\t standard deviation = 0.82 \r\n",
        "INFO  10:10:33,117 VariantDataManager - DP: \t mean = 322.67\t standard deviation = 100.57 \r\n"
       ]
      },
      {
       "output_type": "stream",
       "stream": "stdout",
       "text": [
        "INFO  10:10:33,195 VariantDataManager - Annotations are now ordered by their information content: [DP, MQ, QD, FS, ReadPosRankSum, MQRankSum, SOR] \r\n",
        "INFO  10:10:33,203 VariantDataManager - Training with 17922 variants after standard deviation thresholding. \r\n",
        "INFO  10:10:33,207 GaussianMixtureModel - Initializing model with 100 k-means iterations... \r\n"
       ]
      },
      {
       "output_type": "stream",
       "stream": "stdout",
       "text": [
        "INFO  10:10:34,018 VariantRecalibratorEngine - Finished iteration 0. \r\n"
       ]
      },
      {
       "output_type": "stream",
       "stream": "stdout",
       "text": [
        "INFO  10:10:34,438 VariantRecalibratorEngine - Finished iteration 5. \tCurrent change in mixture coefficients = 0.59201 \r\n"
       ]
      },
      {
       "output_type": "stream",
       "stream": "stdout",
       "text": [
        "INFO  10:10:34,784 VariantRecalibratorEngine - Finished iteration 10. \tCurrent change in mixture coefficients = 0.42266 \r\n"
       ]
      },
      {
       "output_type": "stream",
       "stream": "stdout",
       "text": [
        "INFO  10:10:35,141 VariantRecalibratorEngine - Finished iteration 15. \tCurrent change in mixture coefficients = 0.19968 \r\n"
       ]
      },
      {
       "output_type": "stream",
       "stream": "stdout",
       "text": [
        "INFO  10:10:35,533 VariantRecalibratorEngine - Finished iteration 20. \tCurrent change in mixture coefficients = 0.12334 \r\n"
       ]
      },
      {
       "output_type": "stream",
       "stream": "stdout",
       "text": [
        "INFO  10:10:35,956 VariantRecalibratorEngine - Finished iteration 25. \tCurrent change in mixture coefficients = 0.06441 \r\n"
       ]
      },
      {
       "output_type": "stream",
       "stream": "stdout",
       "text": [
        "INFO  10:10:36,356 VariantRecalibratorEngine - Finished iteration 30. \tCurrent change in mixture coefficients = 0.04612 \r\n"
       ]
      },
      {
       "output_type": "stream",
       "stream": "stdout",
       "text": [
        "INFO  10:10:36,679 VariantRecalibratorEngine - Finished iteration 35. \tCurrent change in mixture coefficients = 0.03533 \r\n"
       ]
      },
      {
       "output_type": "stream",
       "stream": "stdout",
       "text": [
        "INFO  10:10:37,021 VariantRecalibratorEngine - Finished iteration 40. \tCurrent change in mixture coefficients = 0.03283 \r\n"
       ]
      },
      {
       "output_type": "stream",
       "stream": "stdout",
       "text": [
        "INFO  10:10:37,354 VariantRecalibratorEngine - Finished iteration 45. \tCurrent change in mixture coefficients = 0.02909 \r\n"
       ]
      },
      {
       "output_type": "stream",
       "stream": "stdout",
       "text": [
        "INFO  10:10:37,704 VariantRecalibratorEngine - Finished iteration 50. \tCurrent change in mixture coefficients = 0.03913 \r\n"
       ]
      },
      {
       "output_type": "stream",
       "stream": "stdout",
       "text": [
        "INFO  10:10:38,024 VariantRecalibratorEngine - Finished iteration 55. \tCurrent change in mixture coefficients = 0.06275 \r\n"
       ]
      },
      {
       "output_type": "stream",
       "stream": "stdout",
       "text": [
        "INFO  10:10:38,374 VariantRecalibratorEngine - Finished iteration 60. \tCurrent change in mixture coefficients = 0.13187 \r\n"
       ]
      },
      {
       "output_type": "stream",
       "stream": "stdout",
       "text": [
        "INFO  10:10:38,746 VariantRecalibratorEngine - Finished iteration 65. \tCurrent change in mixture coefficients = 0.04546 \r\n"
       ]
      },
      {
       "output_type": "stream",
       "stream": "stdout",
       "text": [
        "INFO  10:10:39,078 VariantRecalibratorEngine - Finished iteration 70. \tCurrent change in mixture coefficients = 0.00990 \r\n"
       ]
      },
      {
       "output_type": "stream",
       "stream": "stdout",
       "text": [
        "INFO  10:10:39,408 VariantRecalibratorEngine - Finished iteration 75. \tCurrent change in mixture coefficients = 0.00979 \r\n"
       ]
      },
      {
       "output_type": "stream",
       "stream": "stdout",
       "text": [
        "INFO  10:10:39,757 VariantRecalibratorEngine - Finished iteration 80. \tCurrent change in mixture coefficients = 0.01553 \r\n"
       ]
      },
      {
       "output_type": "stream",
       "stream": "stdout",
       "text": [
        "INFO  10:10:40,141 VariantRecalibratorEngine - Finished iteration 85. \tCurrent change in mixture coefficients = 0.03878 \r\n"
       ]
      },
      {
       "output_type": "stream",
       "stream": "stdout",
       "text": [
        "INFO  10:10:40,483 VariantRecalibratorEngine - Finished iteration 90. \tCurrent change in mixture coefficients = 0.04086 \r\n"
       ]
      },
      {
       "output_type": "stream",
       "stream": "stdout",
       "text": [
        "INFO  10:10:40,818 VariantRecalibratorEngine - Finished iteration 95. \tCurrent change in mixture coefficients = 0.05540 \r\n"
       ]
      },
      {
       "output_type": "stream",
       "stream": "stdout",
       "text": [
        "INFO  10:10:41,156 VariantRecalibratorEngine - Finished iteration 100. \tCurrent change in mixture coefficients = 0.05735 \r\n"
       ]
      },
      {
       "output_type": "stream",
       "stream": "stdout",
       "text": [
        "INFO  10:10:41,426 VariantRecalibratorEngine - Convergence after 104 iterations! \r\n"
       ]
      },
      {
       "output_type": "stream",
       "stream": "stdout",
       "text": [
        "INFO  10:10:41,507 VariantRecalibratorEngine - Evaluating full set of 101334 variants... \r\n"
       ]
      },
      {
       "output_type": "stream",
       "stream": "stdout",
       "text": [
        "INFO  10:10:46,847 VariantDataManager - Training with worst 24884 scoring variants --> variants with LOD <= -5.0000. \r\n",
        "INFO  10:10:46,847 GaussianMixtureModel - Initializing model with 100 k-means iterations... \r\n"
       ]
      },
      {
       "output_type": "stream",
       "stream": "stdout",
       "text": [
        "INFO  10:10:47,277 VariantRecalibratorEngine - Finished iteration 0. \r\n"
       ]
      },
      {
       "output_type": "stream",
       "stream": "stdout",
       "text": [
        "INFO  10:10:47,376 VariantRecalibratorEngine - Convergence after 4 iterations! \r\n",
        "INFO  10:10:47,393 VariantRecalibratorEngine - Evaluating full set of 101334 variants... \r\n"
       ]
      },
      {
       "output_type": "stream",
       "stream": "stdout",
       "text": [
        "INFO  10:10:49,598 TrancheManager - Finding 4 tranches for 101334 variants \r\n"
       ]
      },
      {
       "output_type": "stream",
       "stream": "stdout",
       "text": [
        "INFO  10:10:49,676 TrancheManager -   Tranche threshold 100.00 => selection metric threshold 0.000 \r\n"
       ]
      },
      {
       "output_type": "stream",
       "stream": "stdout",
       "text": [
        "INFO  10:10:49,691 TrancheManager -   Found tranche for 100.000: 0.000 threshold starting with variant 0; running score is 0.000  \r\n",
        "INFO  10:10:49,691 TrancheManager -   Tranche is Tranche ts=100.00 minVQSLod=-301.4571 known=(0 @ 0.0000) novel=(101334 @ 0.8177) truthSites(17968 accessible, 17968 called), name=anonymous] \r\n",
        "INFO  10:10:49,692 TrancheManager -   Tranche threshold 99.90 => selection metric threshold 0.001 \r\n",
        "INFO  10:10:49,716 TrancheManager -   Found tranche for 99.900: 0.001 threshold starting with variant 53099; running score is 0.001  \r\n",
        "INFO  10:10:49,716 TrancheManager -   Tranche is Tranche ts=99.90 minVQSLod=-4.6788 known=(0 @ 0.0000) novel=(48235 @ 0.8432) truthSites(17968 accessible, 17950 called), name=anonymous] \r\n",
        "INFO  10:10:49,717 TrancheManager -   Tranche threshold 99.00 => selection metric threshold 0.010 \r\n",
        "INFO  10:10:49,721 TrancheManager -   Found tranche for 99.000: 0.010 threshold starting with variant 73526; running score is 0.010  \r\n",
        "INFO  10:10:49,721 TrancheManager -   Tranche is Tranche ts=99.00 minVQSLod=0.4187 known=(0 @ 0.0000) novel=(27808 @ 0.9335) truthSites(17968 accessible, 17788 called), name=anonymous] \r\n",
        "INFO  10:10:49,722 TrancheManager -   Tranche threshold 90.00 => selection metric threshold 0.100 \r\n",
        "INFO  10:10:49,726 TrancheManager -   Found tranche for 90.000: 0.100 threshold starting with variant 83299; running score is 0.100  \r\n",
        "INFO  10:10:49,726 TrancheManager -   Tranche is Tranche ts=90.00 minVQSLod=4.9978 known=(0 @ 0.0000) novel=(18035 @ 1.0227) truthSites(17968 accessible, 16171 called), name=anonymous] \r\n",
        "INFO  10:10:49,735 VariantRecalibrator - Writing out recalibration table... \r\n"
       ]
      },
      {
       "output_type": "stream",
       "stream": "stdout",
       "text": [
        "INFO  10:10:50,944 VariantRecalibrator - Executing: Rscript (resource)org/broadinstitute/gatk/tools/walkers/variantrecalibration/plot_Tranches.R /nfs/team112_internal/production_files/Pf3k/methods/assembled_samples/vcfs/vcf/recal/recalibrate_SNP.tranches 2.15 \r\n"
       ]
      },
      {
       "output_type": "stream",
       "stream": "stdout",
       "text": [
        "INFO  10:10:51,400 ProgressMeter -            done    526984.0    26.0 s      50.0 s      100.0%    26.0 s       0.0 s \r\n",
        "INFO  10:10:51,400 ProgressMeter - Total runtime 26.54 secs, 0.44 min, 0.01 hours \r\n"
       ]
      },
      {
       "output_type": "stream",
       "stream": "stdout",
       "text": [
        "INFO  10:10:53,609 GATKRunReport - Uploaded run statistics report to AWS S3 \r\n"
       ]
      }
     ],
     "prompt_number": 140
    },
    {
     "cell_type": "code",
     "collapsed": false,
     "input": [
      "# Train on indels\n",
      "train_vqsr(chromosomes=['Pf3D7_01_v3', 'Pf3D7_02_v3', 'Pf3D7_03_v3', 'Pf3D7_06_v3', 'Pf3D7_08_v3', \n",
      "                        'Pf3D7_09_v3', 'Pf3D7_11_v3', 'Pf3D7_12_v3', 'Pf3D7_13_v3', 'Pf3D7_14_v3'],\n",
      "           mode='INDEL',\n",
      "           annotations_line='-an QD -an DP -an FS -an SOR -an ReadPosRankSum -an MQRankSum',\n",
      "           maxGaussians=4,                  \n",
      "           rewrite=True)"
     ],
     "language": "python",
     "metadata": {},
     "outputs": [
      {
       "output_type": "stream",
       "stream": "stdout",
       "text": [
        "INFO  10:11:38,118 HelpFormatter - -------------------------------------------------------------------------------- \r\n",
        "INFO  10:11:38,120 HelpFormatter - The Genome Analysis Toolkit (GATK) v3.4-0-g7e26428, Compiled 2015/05/15 03:25:41 \r\n",
        "INFO  10:11:38,120 HelpFormatter - Copyright (c) 2010 The Broad Institute \r\n",
        "INFO  10:11:38,120 HelpFormatter - For support and documentation go to http://www.broadinstitute.org/gatk \r\n",
        "INFO  10:11:38,125 HelpFormatter - Program Args: -T VariantRecalibrator -R /data/plasmodium/pfalciparum/recon/roamato/Pf3D7_v3/3D7_sorted.fa -input /nfs/team112_internal/production_files/Pf3k/methods/assembled_samples/vcfs/vcf/raw.snps.indels.Pf3D7_01_v3.vcf -input /nfs/team112_internal/production_files/Pf3k/methods/assembled_samples/vcfs/vcf/raw.snps.indels.Pf3D7_02_v3.vcf -input /nfs/team112_internal/production_files/Pf3k/methods/assembled_samples/vcfs/vcf/raw.snps.indels.Pf3D7_03_v3.vcf -input /nfs/team112_internal/production_files/Pf3k/methods/assembled_samples/vcfs/vcf/raw.snps.indels.Pf3D7_06_v3.vcf -input /nfs/team112_internal/production_files/Pf3k/methods/assembled_samples/vcfs/vcf/raw.snps.indels.Pf3D7_08_v3.vcf -input /nfs/team112_internal/production_files/Pf3k/methods/assembled_samples/vcfs/vcf/raw.snps.indels.Pf3D7_09_v3.vcf -input /nfs/team112_internal/production_files/Pf3k/methods/assembled_samples/vcfs/vcf/raw.snps.indels.Pf3D7_11_v3.vcf -input /nfs/team112_internal/production_files/Pf3k/methods/assembled_samples/vcfs/vcf/raw.snps.indels.Pf3D7_12_v3.vcf -input /nfs/team112_internal/production_files/Pf3k/methods/assembled_samples/vcfs/vcf/raw.snps.indels.Pf3D7_13_v3.vcf -input /nfs/team112_internal/production_files/Pf3k/methods/assembled_samples/vcfs/vcf/raw.snps.indels.Pf3D7_14_v3.vcf -resource:7g8_gb4,known=false,training=true,truth=true,prior=15.0 /data/plasmodium/pfalciparum/pf-crosses/data/public/1.0/7g8_gb4.combined.final.vcf.gz -resource:hb3_dd2,known=false,training=true,truth=true,prior=15.0 /data/plasmodium/pfalciparum/pf-crosses/data/public/1.0/hb3_dd2.combined.final.vcf -resource:3d7_hb3,known=false,training=true,truth=true,prior=15.0 /data/plasmodium/pfalciparum/pf-crosses/data/public/1.0/3d7_hb3.combined.final.vcf.gz -an QD -an DP -an FS -an SOR -an ReadPosRankSum -an MQRankSum --maxGaussians 4 -mode INDEL -recalFile /nfs/team112_internal/production_files/Pf3k/methods/assembled_samples/vcfs/vcf/recal/recalibrate_INDEL.recal -tranchesFile /nfs/team112_internal/production_files/Pf3k/methods/assembled_samples/vcfs/vcf/recal/recalibrate_INDEL.tranches \r\n"
       ]
      },
      {
       "output_type": "stream",
       "stream": "stdout",
       "text": [
        "INFO  10:11:38,134 HelpFormatter - Executing as rpearson@dhcp511.well.ox.ac.uk on Mac OS X 10.10.3 x86_64; Java HotSpot(TM) 64-Bit Server VM 1.7.0_60-b19. \r\n",
        "INFO  10:11:38,134 HelpFormatter - Date/Time: 2015/07/01 10:11:38 \r\n",
        "INFO  10:11:38,135 HelpFormatter - -------------------------------------------------------------------------------- \r\n",
        "INFO  10:11:38,135 HelpFormatter - -------------------------------------------------------------------------------- \r\n"
       ]
      },
      {
       "output_type": "stream",
       "stream": "stdout",
       "text": [
        "INFO  10:11:38,555 GenomeAnalysisEngine - Strictness is SILENT \r\n"
       ]
      },
      {
       "output_type": "stream",
       "stream": "stdout",
       "text": [
        "INFO  10:11:38,658 GenomeAnalysisEngine - Downsampling Settings: Method: BY_SAMPLE, Target Coverage: 1000 \r\n"
       ]
      },
      {
       "output_type": "stream",
       "stream": "stdout",
       "text": [
        "WARN  10:11:38,820 IndexDictionaryUtils - Track 7g8_gb4 doesn't have a sequence dictionary built in, skipping dictionary validation \r\n",
        "WARN  10:11:38,820 IndexDictionaryUtils - Track 3d7_hb3 doesn't have a sequence dictionary built in, skipping dictionary validation \r\n"
       ]
      },
      {
       "output_type": "stream",
       "stream": "stdout",
       "text": [
        "INFO  10:11:38,909 GenomeAnalysisEngine - Preparing for traversal \r\n",
        "INFO  10:11:38,911 GenomeAnalysisEngine - Done preparing for traversal \r\n",
        "INFO  10:11:38,912 ProgressMeter - [INITIALIZATION COMPLETE; STARTING PROCESSING] \r\n",
        "INFO  10:11:38,912 ProgressMeter -                 | processed |    time |    per 1M |           |   total | remaining \r\n",
        "INFO  10:11:38,915 ProgressMeter -        Location |     sites | elapsed |     sites | completed | runtime |   runtime \r\n",
        "INFO  10:11:38,921 TrainingSet - Found 7g8_gb4 track: \tKnown = false \tTraining = true \tTruth = true \tPrior = Q15.0 \r\n"
       ]
      },
      {
       "output_type": "stream",
       "stream": "stdout",
       "text": [
        "INFO  10:11:38,921 TrainingSet - Found hb3_dd2 track: \tKnown = false \tTraining = true \tTruth = true \tPrior = Q15.0 \r\n",
        "INFO  10:11:38,921 TrainingSet - Found 3d7_hb3 track: \tKnown = false \tTraining = true \tTruth = true \tPrior = Q15.0 \r\n"
       ]
      },
      {
       "output_type": "stream",
       "stream": "stdout",
       "text": [
        "INFO  10:11:47,286 VariantDataManager - QD: \t mean = 28.61\t standard deviation = 4.78 \r\n",
        "INFO  10:11:47,296 VariantDataManager - DP: \t mean = 253.29\t standard deviation = 97.01 \r\n",
        "INFO  10:11:47,303 VariantDataManager - FS: \t mean = 3.60\t standard deviation = 7.76 \r\n",
        "INFO  10:11:47,308 VariantDataManager - SOR: \t mean = 1.03\t standard deviation = 0.86 \r\n",
        "INFO  10:11:47,313 VariantDataManager - ReadPosRankSum: \t mean = 0.29\t standard deviation = 1.14 \r\n",
        "INFO  10:11:47,327 VariantDataManager - MQRankSum: \t mean = 0.38\t standard deviation = 1.04 \r\n"
       ]
      },
      {
       "output_type": "stream",
       "stream": "stdout",
       "text": [
        "INFO  10:11:47,395 VariantDataManager - Annotations are now ordered by their information content: [DP, QD, FS, MQRankSum, ReadPosRankSum, SOR] \r\n",
        "INFO  10:11:47,402 VariantDataManager - Training with 29941 variants after standard deviation thresholding. \r\n",
        "INFO  10:11:47,405 GaussianMixtureModel - Initializing model with 100 k-means iterations... \r\n"
       ]
      },
      {
       "output_type": "stream",
       "stream": "stdout",
       "text": [
        "INFO  10:11:48,378 VariantRecalibratorEngine - Finished iteration 0. \r\n"
       ]
      },
      {
       "output_type": "stream",
       "stream": "stdout",
       "text": [
        "INFO  10:11:48,695 VariantRecalibratorEngine - Finished iteration 5. \tCurrent change in mixture coefficients = 0.11916 \r\n"
       ]
      },
      {
       "output_type": "stream",
       "stream": "stdout",
       "text": [
        "INFO  10:11:48,934 VariantRecalibratorEngine - Finished iteration 10. \tCurrent change in mixture coefficients = 0.04987 \r\n"
       ]
      },
      {
       "output_type": "stream",
       "stream": "stdout",
       "text": [
        "INFO  10:11:49,186 VariantRecalibratorEngine - Finished iteration 15. \tCurrent change in mixture coefficients = 0.01075 \r\n"
       ]
      },
      {
       "output_type": "stream",
       "stream": "stdout",
       "text": [
        "INFO  10:11:49,431 VariantRecalibratorEngine - Finished iteration 20. \tCurrent change in mixture coefficients = 0.01893 \r\n"
       ]
      },
      {
       "output_type": "stream",
       "stream": "stdout",
       "text": [
        "INFO  10:11:49,662 VariantRecalibratorEngine - Finished iteration 25. \tCurrent change in mixture coefficients = 0.01752 \r\n"
       ]
      },
      {
       "output_type": "stream",
       "stream": "stdout",
       "text": [
        "INFO  10:11:49,911 VariantRecalibratorEngine - Finished iteration 30. \tCurrent change in mixture coefficients = 0.01300 \r\n"
       ]
      },
      {
       "output_type": "stream",
       "stream": "stdout",
       "text": [
        "INFO  10:11:50,167 VariantRecalibratorEngine - Finished iteration 35. \tCurrent change in mixture coefficients = 0.00900 \r\n"
       ]
      },
      {
       "output_type": "stream",
       "stream": "stdout",
       "text": [
        "INFO  10:11:50,446 VariantRecalibratorEngine - Finished iteration 40. \tCurrent change in mixture coefficients = 0.00634 \r\n"
       ]
      },
      {
       "output_type": "stream",
       "stream": "stdout",
       "text": [
        "INFO  10:11:50,704 VariantRecalibratorEngine - Finished iteration 45. \tCurrent change in mixture coefficients = 0.00464 \r\n"
       ]
      },
      {
       "output_type": "stream",
       "stream": "stdout",
       "text": [
        "INFO  10:11:50,965 VariantRecalibratorEngine - Finished iteration 50. \tCurrent change in mixture coefficients = 0.00348 \r\n"
       ]
      },
      {
       "output_type": "stream",
       "stream": "stdout",
       "text": [
        "INFO  10:11:51,235 VariantRecalibratorEngine - Finished iteration 55. \tCurrent change in mixture coefficients = 0.00265 \r\n"
       ]
      },
      {
       "output_type": "stream",
       "stream": "stdout",
       "text": [
        "INFO  10:11:51,480 VariantRecalibratorEngine - Finished iteration 60. \tCurrent change in mixture coefficients = 0.00204 \r\n",
        "INFO  10:11:51,524 VariantRecalibratorEngine - Convergence after 61 iterations! \r\n"
       ]
      },
      {
       "output_type": "stream",
       "stream": "stdout",
       "text": [
        "INFO  10:11:51,595 VariantRecalibratorEngine - Evaluating full set of 70653 variants... \r\n"
       ]
      },
      {
       "output_type": "stream",
       "stream": "stdout",
       "text": [
        "INFO  10:11:52,660 VariantDataManager - Training with worst 15859 scoring variants --> variants with LOD <= -5.0000. \r\n",
        "INFO  10:11:52,661 GaussianMixtureModel - Initializing model with 100 k-means iterations... \r\n"
       ]
      },
      {
       "output_type": "stream",
       "stream": "stdout",
       "text": [
        "INFO  10:11:52,900 VariantRecalibratorEngine - Finished iteration 0. \r\n"
       ]
      },
      {
       "output_type": "stream",
       "stream": "stdout",
       "text": [
        "INFO  10:11:52,970 VariantRecalibratorEngine - Finished iteration 5. \tCurrent change in mixture coefficients = 0.02787 \r\n"
       ]
      },
      {
       "output_type": "stream",
       "stream": "stdout",
       "text": [
        "INFO  10:11:53,034 VariantRecalibratorEngine - Finished iteration 10. \tCurrent change in mixture coefficients = 0.02346 \r\n"
       ]
      },
      {
       "output_type": "stream",
       "stream": "stdout",
       "text": [
        "INFO  10:11:53,111 VariantRecalibratorEngine - Finished iteration 15. \tCurrent change in mixture coefficients = 0.01438 \r\n"
       ]
      },
      {
       "output_type": "stream",
       "stream": "stdout",
       "text": [
        "INFO  10:11:53,175 VariantRecalibratorEngine - Finished iteration 20. \tCurrent change in mixture coefficients = 0.00831 \r\n"
       ]
      },
      {
       "output_type": "stream",
       "stream": "stdout",
       "text": [
        "INFO  10:11:53,237 VariantRecalibratorEngine - Finished iteration 25. \tCurrent change in mixture coefficients = 0.00476 \r\n"
       ]
      },
      {
       "output_type": "stream",
       "stream": "stdout",
       "text": [
        "INFO  10:11:53,306 VariantRecalibratorEngine - Finished iteration 30. \tCurrent change in mixture coefficients = 0.00280 \r\n"
       ]
      },
      {
       "output_type": "stream",
       "stream": "stdout",
       "text": [
        "INFO  10:11:53,357 VariantRecalibratorEngine - Convergence after 34 iterations! \r\n",
        "INFO  10:11:53,367 VariantRecalibratorEngine - Evaluating full set of 70653 variants... \r\n"
       ]
      },
      {
       "output_type": "stream",
       "stream": "stdout",
       "text": [
        "INFO  10:11:54,262 TrancheManager - Finding 4 tranches for 70653 variants \r\n"
       ]
      },
      {
       "output_type": "stream",
       "stream": "stdout",
       "text": [
        "INFO  10:11:54,327 TrancheManager -   Tranche threshold 100.00 => selection metric threshold 0.000 \r\n",
        "INFO  10:11:54,339 TrancheManager -   Found tranche for 100.000: 0.000 threshold starting with variant 0; running score is 0.000  \r\n",
        "INFO  10:11:54,339 TrancheManager -   Tranche is Tranche ts=100.00 minVQSLod=-109.2547 known=(0 @ 0.0000) novel=(70653 @ 0.0000) truthSites(29956 accessible, 29956 called), name=anonymous] \r\n",
        "INFO  10:11:54,340 TrancheManager -   Tranche threshold 99.90 => selection metric threshold 0.001 \r\n",
        "INFO  10:11:54,343 TrancheManager -   Found tranche for 99.900: 0.001 threshold starting with variant 4388; running score is 0.001  \r\n",
        "INFO  10:11:54,343 TrancheManager -   Tranche is Tranche ts=99.90 minVQSLod=-3.8311 known=(0 @ 0.0000) novel=(66265 @ 0.0000) truthSites(29956 accessible, 29926 called), name=anonymous] \r\n",
        "INFO  10:11:54,344 TrancheManager -   Tranche threshold 99.00 => selection metric threshold 0.010 \r\n"
       ]
      },
      {
       "output_type": "stream",
       "stream": "stdout",
       "text": [
        "INFO  10:11:54,354 TrancheManager -   Found tranche for 99.000: 0.010 threshold starting with variant 17637; running score is 0.010  \r\n",
        "INFO  10:11:54,355 TrancheManager -   Tranche is Tranche ts=99.00 minVQSLod=-0.0838 known=(0 @ 0.0000) novel=(53016 @ 0.0000) truthSites(29956 accessible, 29656 called), name=anonymous] \r\n",
        "INFO  10:11:54,355 TrancheManager -   Tranche threshold 90.00 => selection metric threshold 0.100 \r\n",
        "INFO  10:11:54,357 TrancheManager -   Found tranche for 90.000: 0.100 threshold starting with variant 28448; running score is 0.100  \r\n",
        "INFO  10:11:54,358 TrancheManager -   Tranche is Tranche ts=90.00 minVQSLod=1.7994 known=(0 @ 0.0000) novel=(42205 @ 0.0000) truthSites(29956 accessible, 26960 called), name=anonymous] \r\n",
        "INFO  10:11:54,360 VariantRecalibrator - Writing out recalibration table... \r\n"
       ]
      },
      {
       "output_type": "stream",
       "stream": "stdout",
       "text": [
        "INFO  10:11:55,500 VariantRecalibrator - Tranches plot will not be generated since we are running in INDEL mode \r\n"
       ]
      },
      {
       "output_type": "stream",
       "stream": "stdout",
       "text": [
        "INFO  10:11:55,612 ProgressMeter -            done    526984.0    16.0 s      31.0 s      100.0%    16.0 s       0.0 s \r\n",
        "INFO  10:11:55,612 ProgressMeter - Total runtime 16.70 secs, 0.28 min, 0.00 hours \r\n"
       ]
      },
      {
       "output_type": "stream",
       "stream": "stdout",
       "text": [
        "INFO  10:11:57,498 GATKRunReport - Uploaded run statistics report to AWS S3 \r\n"
       ]
      }
     ],
     "prompt_number": 141
    },
    {
     "cell_type": "code",
     "collapsed": false,
     "input": [
      "def apply_vqsr(chromosome='Pf3D7_01_v3',\n",
      "               genotyped_vcf_filestem=os.path.join(PROCESSED_ASSEMBLED_SAMPLES_DIR, 'vcfs', 'vcf', 'raw.snps.indels'),\n",
      "               filtered_vcf_filestem=os.path.join(PROCESSED_ASSEMBLED_SAMPLES_DIR, 'vcfs', 'vcf', 'filtered'),\n",
      "               recal_dir=os.path.join(PROCESSED_ASSEMBLED_SAMPLES_DIR, 'vcfs', 'vcf', 'recal'),\n",
      "               ts_filter_level=99.5,\n",
      "               mode='SNP',\n",
      "               reference_fasta = REF_GENOME,\n",
      "               rewrite=False):\n",
      "    \n",
      "    genotyped_vcf_fn = \"%s.%s.vcf\" % (genotyped_vcf_filestem, chromosome)\n",
      "    filtered_vcf_fn = \"%s.%s.%s.vcf\" % (filtered_vcf_filestem, mode, chromosome)\n",
      "\n",
      "    recal_fn = \"%s/recalibrate_%s.recal\" % (recal_dir, mode)\n",
      "    tranches_fn = \"%s/recalibrate_%s.tranches\" % (recal_dir, mode)\n",
      "\n",
      "    if not os.path.isfile(filtered_vcf_fn+'.gz') or rewrite:\n",
      "        !{gatk_exe} \\\n",
      "        -T ApplyRecalibration \\\n",
      "        -R {reference_fasta} \\\n",
      "        -input {genotyped_vcf_fn} \\\n",
      "        -tranchesFile {tranches_fn} \\\n",
      "        -recalFile {recal_fn} \\\n",
      "        --ts_filter_level {ts_filter_level} \\\n",
      "        -mode {mode} \\\n",
      "        -o {filtered_vcf_fn}\n",
      "        \n",
      "        !bgzip -f {filtered_vcf_fn}\n",
      "        !tabix -p vcf -f {filtered_vcf_fn}.gz\n"
     ],
     "language": "python",
     "metadata": {},
     "outputs": [],
     "prompt_number": 144
    },
    {
     "cell_type": "code",
     "collapsed": false,
     "input": [
      "apply_vqsr()"
     ],
     "language": "python",
     "metadata": {},
     "outputs": [
      {
       "output_type": "stream",
       "stream": "stdout",
       "text": [
        "INFO  10:56:18,721 HelpFormatter - -------------------------------------------------------------------------------- \r\n",
        "INFO  10:56:18,722 HelpFormatter - The Genome Analysis Toolkit (GATK) v3.4-0-g7e26428, Compiled 2015/05/15 03:25:41 \r\n",
        "INFO  10:56:18,722 HelpFormatter - Copyright (c) 2010 The Broad Institute \r\n",
        "INFO  10:56:18,722 HelpFormatter - For support and documentation go to http://www.broadinstitute.org/gatk \r\n",
        "INFO  10:56:18,726 HelpFormatter - Program Args: -T ApplyRecalibration -R /data/plasmodium/pfalciparum/recon/roamato/Pf3D7_v3/3D7_sorted.fa -input /nfs/team112_internal/production_files/Pf3k/methods/assembled_samples/vcfs/vcf/raw.snps.indels.Pf3D7_01_v3.vcf -tranchesFile /nfs/team112_internal/production_files/Pf3k/methods/assembled_samples/vcfs/vcf/recal/recalibrate_SNP.tranches -recalFile /nfs/team112_internal/production_files/Pf3k/methods/assembled_samples/vcfs/vcf/recal/recalibrate_SNP.recal --ts_filter_level 99.5 -mode SNP -o /nfs/team112_internal/production_files/Pf3k/methods/assembled_samples/vcfs/vcf/filtered.SNP.Pf3D7_01_v3.vcf \r\n"
       ]
      },
      {
       "output_type": "stream",
       "stream": "stdout",
       "text": [
        "INFO  10:56:18,816 HelpFormatter - Executing as rpearson@dhcp511.well.ox.ac.uk on Mac OS X 10.10.3 x86_64; Java HotSpot(TM) 64-Bit Server VM 1.7.0_60-b19. \r\n",
        "INFO  10:56:18,817 HelpFormatter - Date/Time: 2015/07/01 10:56:18 \r\n",
        "INFO  10:56:18,817 HelpFormatter - -------------------------------------------------------------------------------- \r\n",
        "INFO  10:56:18,817 HelpFormatter - -------------------------------------------------------------------------------- \r\n"
       ]
      },
      {
       "output_type": "stream",
       "stream": "stdout",
       "text": [
        "INFO  10:56:19,197 GenomeAnalysisEngine - Strictness is SILENT \r\n"
       ]
      },
      {
       "output_type": "stream",
       "stream": "stdout",
       "text": [
        "INFO  10:56:19,247 GenomeAnalysisEngine - Downsampling Settings: Method: BY_SAMPLE, Target Coverage: 1000 \r\n"
       ]
      },
      {
       "output_type": "stream",
       "stream": "stdout",
       "text": [
        "INFO  10:56:19,376 GenomeAnalysisEngine - Preparing for traversal \r\n",
        "INFO  10:56:19,377 GenomeAnalysisEngine - Done preparing for traversal \r\n",
        "INFO  10:56:19,377 ProgressMeter - [INITIALIZATION COMPLETE; STARTING PROCESSING] \r\n",
        "INFO  10:56:19,377 ProgressMeter -                 | processed |    time |    per 1M |           |   total | remaining \r\n",
        "INFO  10:56:19,378 ProgressMeter -        Location |     sites | elapsed |     sites | completed | runtime |   runtime \r\n",
        "INFO  10:56:19,380 ApplyRecalibration - Read tranche Tranche ts=90.00 minVQSLod=4.9978 known=(0 @ 0.0000) novel=(18035 @ 1.0227) truthSites(17968 accessible, 16171 called), name=VQSRTrancheSNP0.00to90.00] \r\n",
        "INFO  10:56:19,381 ApplyRecalibration - Read tranche Tranche ts=99.00 minVQSLod=0.4187 known=(0 @ 0.0000) novel=(27808 @ 0.9335) truthSites(17968 accessible, 17788 called), name=VQSRTrancheSNP90.00to99.00] \r\n",
        "INFO  10:56:19,381 ApplyRecalibration - Read tranche Tranche ts=99.90 minVQSLod=-4.6788 known=(0 @ 0.0000) novel=(48235 @ 0.8432) truthSites(17968 accessible, 17950 called), name=VQSRTrancheSNP99.00to99.90] \r\n",
        "INFO  10:56:19,382 ApplyRecalibration - Read tranche Tranche ts=100.00 minVQSLod=-301.4571 known=(0 @ 0.0000) novel=(101334 @ 0.8177) truthSites(17968 accessible, 17968 called), name=VQSRTrancheSNP99.90to100.00] \r\n"
       ]
      },
      {
       "output_type": "stream",
       "stream": "stdout",
       "text": [
        "INFO  10:56:19,400 ApplyRecalibration - Keeping all variants in tranche Tranche ts=99.90 minVQSLod=-4.6788 known=(0 @ 0.0000) novel=(48235 @ 0.8432) truthSites(17968 accessible, 17950 called), name=VQSRTrancheSNP99.00to99.90] \r\n"
       ]
      },
      {
       "output_type": "stream",
       "stream": "stdout",
       "text": [
        "INFO  10:56:21,455 ProgressMeter -            done    117187.0     2.0 s      17.0 s      100.0%     2.0 s       0.0 s \r\n",
        "INFO  10:56:21,456 ProgressMeter - Total runtime 2.08 secs, 0.03 min, 0.00 hours \r\n"
       ]
      },
      {
       "output_type": "stream",
       "stream": "stdout",
       "text": [
        "INFO  10:56:23,219 GATKRunReport - Uploaded run statistics report to AWS S3 \r\n"
       ]
      }
     ],
     "prompt_number": 145
    },
    {
     "cell_type": "code",
     "collapsed": false,
     "input": [
      "for chromosome in ['Pf3D7_01_v3', 'Pf3D7_02_v3', 'Pf3D7_03_v3', 'Pf3D7_06_v3', 'Pf3D7_08_v3', \n",
      "                    'Pf3D7_09_v3', 'Pf3D7_11_v3', 'Pf3D7_12_v3', 'Pf3D7_13_v3', 'Pf3D7_14_v3']:\n",
      "    for mode in ['SNP', 'INDEL']:\n",
      "        apply_vqsr(chromosome=chromosome, mode=mode)"
     ],
     "language": "python",
     "metadata": {},
     "outputs": [
      {
       "output_type": "stream",
       "stream": "stdout",
       "text": [
        "INFO  11:16:23,643 HelpFormatter - -------------------------------------------------------------------------------- \r\n",
        "INFO  11:16:23,647 HelpFormatter - The Genome Analysis Toolkit (GATK) v3.4-0-g7e26428, Compiled 2015/05/15 03:25:41 \r\n",
        "INFO  11:16:23,647 HelpFormatter - Copyright (c) 2010 The Broad Institute \r\n",
        "INFO  11:16:23,648 HelpFormatter - For support and documentation go to http://www.broadinstitute.org/gatk \r\n",
        "INFO  11:16:23,652 HelpFormatter - Program Args: -T ApplyRecalibration -R /data/plasmodium/pfalciparum/recon/roamato/Pf3D7_v3/3D7_sorted.fa -input /nfs/team112_internal/production_files/Pf3k/methods/assembled_samples/vcfs/vcf/raw.snps.indels.Pf3D7_01_v3.vcf -tranchesFile /nfs/team112_internal/production_files/Pf3k/methods/assembled_samples/vcfs/vcf/recal/recalibrate_INDEL.tranches -recalFile /nfs/team112_internal/production_files/Pf3k/methods/assembled_samples/vcfs/vcf/recal/recalibrate_INDEL.recal --ts_filter_level 99.5 -mode INDEL -o /nfs/team112_internal/production_files/Pf3k/methods/assembled_samples/vcfs/vcf/filtered.INDEL.Pf3D7_01_v3.vcf \r\n"
       ]
      },
      {
       "output_type": "stream",
       "stream": "stdout",
       "text": [
        "INFO  11:16:23,740 HelpFormatter - Executing as rpearson@dhcp511.well.ox.ac.uk on Mac OS X 10.10.3 x86_64; Java HotSpot(TM) 64-Bit Server VM 1.7.0_60-b19. \r\n",
        "INFO  11:16:23,741 HelpFormatter - Date/Time: 2015/07/01 11:16:23 \r\n",
        "INFO  11:16:23,741 HelpFormatter - -------------------------------------------------------------------------------- \r\n",
        "INFO  11:16:23,741 HelpFormatter - -------------------------------------------------------------------------------- \r\n"
       ]
      },
      {
       "output_type": "stream",
       "stream": "stdout",
       "text": [
        "INFO  11:16:24,214 GenomeAnalysisEngine - Strictness is SILENT \r\n"
       ]
      },
      {
       "output_type": "stream",
       "stream": "stdout",
       "text": [
        "INFO  11:16:24,274 GenomeAnalysisEngine - Downsampling Settings: Method: BY_SAMPLE, Target Coverage: 1000 \r\n"
       ]
      },
      {
       "output_type": "stream",
       "stream": "stdout",
       "text": [
        "INFO  11:16:24,478 GenomeAnalysisEngine - Preparing for traversal \r\n",
        "INFO  11:16:24,479 GenomeAnalysisEngine - Done preparing for traversal \r\n",
        "INFO  11:16:24,479 ProgressMeter - [INITIALIZATION COMPLETE; STARTING PROCESSING] \r\n",
        "INFO  11:16:24,480 ProgressMeter -                 | processed |    time |    per 1M |           |   total | remaining \r\n",
        "INFO  11:16:24,480 ProgressMeter -        Location |     sites | elapsed |     sites | completed | runtime |   runtime \r\n",
        "INFO  11:16:24,485 ApplyRecalibration - Read tranche Tranche ts=90.00 minVQSLod=1.7994 known=(0 @ 0.0000) novel=(42205 @ 0.0000) truthSites(29956 accessible, 26960 called), name=VQSRTrancheINDEL0.00to90.00] \r\n",
        "INFO  11:16:24,485 ApplyRecalibration - Read tranche Tranche ts=99.00 minVQSLod=-0.0838 known=(0 @ 0.0000) novel=(53016 @ 0.0000) truthSites(29956 accessible, 29656 called), name=VQSRTrancheINDEL90.00to99.00] \r\n",
        "INFO  11:16:24,486 ApplyRecalibration - Read tranche Tranche ts=99.90 minVQSLod=-3.8311 known=(0 @ 0.0000) novel=(66265 @ 0.0000) truthSites(29956 accessible, 29926 called), name=VQSRTrancheINDEL99.00to99.90] \r\n",
        "INFO  11:16:24,486 ApplyRecalibration - Read tranche Tranche ts=100.00 minVQSLod=-109.2547 known=(0 @ 0.0000) novel=(70653 @ 0.0000) truthSites(29956 accessible, 29956 called), name=VQSRTrancheINDEL99.90to100.00] \r\n",
        "INFO  11:16:24,504 ApplyRecalibration - Keeping all variants in tranche Tranche ts=99.90 minVQSLod=-3.8311 known=(0 @ 0.0000) novel=(66265 @ 0.0000) truthSites(29956 accessible, 29926 called), name=VQSRTrancheINDEL99.00to99.90] \r\n"
       ]
      },
      {
       "output_type": "stream",
       "stream": "stdout",
       "text": [
        "INFO  11:16:26,713 ProgressMeter -            done    339245.0     2.0 s       6.0 s      100.0%     2.0 s       0.0 s \r\n",
        "INFO  11:16:26,714 ProgressMeter - Total runtime 2.23 secs, 0.04 min, 0.00 hours \r\n"
       ]
      },
      {
       "output_type": "stream",
       "stream": "stdout",
       "text": [
        "INFO  11:16:36,329 GATKRunReport - Uploaded run statistics report to AWS S3 \r\n"
       ]
      },
      {
       "output_type": "stream",
       "stream": "stdout",
       "text": [
        "INFO  11:16:38,309 HelpFormatter - -------------------------------------------------------------------------------- \r\n",
        "INFO  11:16:38,311 HelpFormatter - The Genome Analysis Toolkit (GATK) v3.4-0-g7e26428, Compiled 2015/05/15 03:25:41 \r\n",
        "INFO  11:16:38,311 HelpFormatter - Copyright (c) 2010 The Broad Institute \r\n",
        "INFO  11:16:38,311 HelpFormatter - For support and documentation go to http://www.broadinstitute.org/gatk \r\n",
        "INFO  11:16:38,314 HelpFormatter - Program Args: -T ApplyRecalibration -R /data/plasmodium/pfalciparum/recon/roamato/Pf3D7_v3/3D7_sorted.fa -input /nfs/team112_internal/production_files/Pf3k/methods/assembled_samples/vcfs/vcf/raw.snps.indels.Pf3D7_02_v3.vcf -tranchesFile /nfs/team112_internal/production_files/Pf3k/methods/assembled_samples/vcfs/vcf/recal/recalibrate_SNP.tranches -recalFile /nfs/team112_internal/production_files/Pf3k/methods/assembled_samples/vcfs/vcf/recal/recalibrate_SNP.recal --ts_filter_level 99.5 -mode SNP -o /nfs/team112_internal/production_files/Pf3k/methods/assembled_samples/vcfs/vcf/filtered.SNP.Pf3D7_02_v3.vcf \r\n",
        "INFO  11:16:38,321 HelpFormatter - Executing as rpearson@dhcp511.well.ox.ac.uk on Mac OS X 10.10.3 x86_64; Java HotSpot(TM) 64-Bit Server VM 1.7.0_60-b19. \r\n",
        "INFO  11:16:38,322 HelpFormatter - Date/Time: 2015/07/01 11:16:38 \r\n",
        "INFO  11:16:38,322 HelpFormatter - -------------------------------------------------------------------------------- \r\n",
        "INFO  11:16:38,322 HelpFormatter - -------------------------------------------------------------------------------- \r\n"
       ]
      },
      {
       "output_type": "stream",
       "stream": "stdout",
       "text": [
        "INFO  11:16:38,741 GenomeAnalysisEngine - Strictness is SILENT \r\n"
       ]
      },
      {
       "output_type": "stream",
       "stream": "stdout",
       "text": [
        "INFO  11:16:38,811 GenomeAnalysisEngine - Downsampling Settings: Method: BY_SAMPLE, Target Coverage: 1000 \r\n"
       ]
      },
      {
       "output_type": "stream",
       "stream": "stdout",
       "text": [
        "INFO  11:16:38,965 GenomeAnalysisEngine - Preparing for traversal \r\n",
        "INFO  11:16:38,966 GenomeAnalysisEngine - Done preparing for traversal \r\n",
        "INFO  11:16:38,966 ProgressMeter - [INITIALIZATION COMPLETE; STARTING PROCESSING] \r\n",
        "INFO  11:16:38,967 ProgressMeter -                 | processed |    time |    per 1M |           |   total | remaining \r\n",
        "INFO  11:16:38,967 ProgressMeter -        Location |     sites | elapsed |     sites | completed | runtime |   runtime \r\n",
        "INFO  11:16:38,971 ApplyRecalibration - Read tranche Tranche ts=90.00 minVQSLod=4.9978 known=(0 @ 0.0000) novel=(18035 @ 1.0227) truthSites(17968 accessible, 16171 called), name=VQSRTrancheSNP0.00to90.00] \r\n",
        "INFO  11:16:38,971 ApplyRecalibration - Read tranche Tranche ts=99.00 minVQSLod=0.4187 known=(0 @ 0.0000) novel=(27808 @ 0.9335) truthSites(17968 accessible, 17788 called), name=VQSRTrancheSNP90.00to99.00] \r\n",
        "INFO  11:16:38,971 ApplyRecalibration - Read tranche Tranche ts=99.90 minVQSLod=-4.6788 known=(0 @ 0.0000) novel=(48235 @ 0.8432) truthSites(17968 accessible, 17950 called), name=VQSRTrancheSNP99.00to99.90] \r\n",
        "INFO  11:16:38,972 ApplyRecalibration - Read tranche Tranche ts=100.00 minVQSLod=-301.4571 known=(0 @ 0.0000) novel=(101334 @ 0.8177) truthSites(17968 accessible, 17968 called), name=VQSRTrancheSNP99.90to100.00] \r\n"
       ]
      },
      {
       "output_type": "stream",
       "stream": "stdout",
       "text": [
        "INFO  11:16:38,994 ApplyRecalibration - Keeping all variants in tranche Tranche ts=99.90 minVQSLod=-4.6788 known=(0 @ 0.0000) novel=(48235 @ 0.8432) truthSites(17968 accessible, 17950 called), name=VQSRTrancheSNP99.00to99.90] \r\n"
       ]
      },
      {
       "output_type": "stream",
       "stream": "stdout",
       "text": [
        "INFO  11:16:41,221 ProgressMeter -            done    120302.0     2.0 s      18.0 s      100.0%     2.0 s       0.0 s \r\n",
        "INFO  11:16:41,222 ProgressMeter - Total runtime 2.26 secs, 0.04 min, 0.00 hours \r\n"
       ]
      },
      {
       "output_type": "stream",
       "stream": "stdout",
       "text": [
        "INFO  11:16:42,569 GATKRunReport - Uploaded run statistics report to AWS S3 \r\n"
       ]
      },
      {
       "output_type": "stream",
       "stream": "stdout",
       "text": [
        "INFO  11:16:44,738 HelpFormatter - -------------------------------------------------------------------------------- \r\n",
        "INFO  11:16:44,741 HelpFormatter - The Genome Analysis Toolkit (GATK) v3.4-0-g7e26428, Compiled 2015/05/15 03:25:41 \r\n",
        "INFO  11:16:44,741 HelpFormatter - Copyright (c) 2010 The Broad Institute \r\n",
        "INFO  11:16:44,741 HelpFormatter - For support and documentation go to http://www.broadinstitute.org/gatk \r\n"
       ]
      },
      {
       "output_type": "stream",
       "stream": "stdout",
       "text": [
        "INFO  11:16:44,746 HelpFormatter - Program Args: -T ApplyRecalibration -R /data/plasmodium/pfalciparum/recon/roamato/Pf3D7_v3/3D7_sorted.fa -input /nfs/team112_internal/production_files/Pf3k/methods/assembled_samples/vcfs/vcf/raw.snps.indels.Pf3D7_02_v3.vcf -tranchesFile /nfs/team112_internal/production_files/Pf3k/methods/assembled_samples/vcfs/vcf/recal/recalibrate_INDEL.tranches -recalFile /nfs/team112_internal/production_files/Pf3k/methods/assembled_samples/vcfs/vcf/recal/recalibrate_INDEL.recal --ts_filter_level 99.5 -mode INDEL -o /nfs/team112_internal/production_files/Pf3k/methods/assembled_samples/vcfs/vcf/filtered.INDEL.Pf3D7_02_v3.vcf \r\n",
        "INFO  11:16:44,755 HelpFormatter - Executing as rpearson@dhcp511.well.ox.ac.uk on Mac OS X 10.10.3 x86_64; Java HotSpot(TM) 64-Bit Server VM 1.7.0_60-b19. \r\n",
        "INFO  11:16:44,755 HelpFormatter - Date/Time: 2015/07/01 11:16:44 \r\n",
        "INFO  11:16:44,755 HelpFormatter - -------------------------------------------------------------------------------- \r\n",
        "INFO  11:16:44,756 HelpFormatter - -------------------------------------------------------------------------------- \r\n"
       ]
      },
      {
       "output_type": "stream",
       "stream": "stdout",
       "text": [
        "INFO  11:16:45,167 GenomeAnalysisEngine - Strictness is SILENT \r\n"
       ]
      },
      {
       "output_type": "stream",
       "stream": "stdout",
       "text": [
        "INFO  11:16:45,220 GenomeAnalysisEngine - Downsampling Settings: Method: BY_SAMPLE, Target Coverage: 1000 \r\n"
       ]
      },
      {
       "output_type": "stream",
       "stream": "stdout",
       "text": [
        "INFO  11:16:45,355 GenomeAnalysisEngine - Preparing for traversal \r\n",
        "INFO  11:16:45,356 GenomeAnalysisEngine - Done preparing for traversal \r\n",
        "INFO  11:16:45,357 ProgressMeter - [INITIALIZATION COMPLETE; STARTING PROCESSING] \r\n",
        "INFO  11:16:45,357 ProgressMeter -                 | processed |    time |    per 1M |           |   total | remaining \r\n",
        "INFO  11:16:45,357 ProgressMeter -        Location |     sites | elapsed |     sites | completed | runtime |   runtime \r\n",
        "INFO  11:16:45,361 ApplyRecalibration - Read tranche Tranche ts=90.00 minVQSLod=1.7994 known=(0 @ 0.0000) novel=(42205 @ 0.0000) truthSites(29956 accessible, 26960 called), name=VQSRTrancheINDEL0.00to90.00] \r\n",
        "INFO  11:16:45,361 ApplyRecalibration - Read tranche Tranche ts=99.00 minVQSLod=-0.0838 known=(0 @ 0.0000) novel=(53016 @ 0.0000) truthSites(29956 accessible, 29656 called), name=VQSRTrancheINDEL90.00to99.00] \r\n",
        "INFO  11:16:45,362 ApplyRecalibration - Read tranche Tranche ts=99.90 minVQSLod=-3.8311 known=(0 @ 0.0000) novel=(66265 @ 0.0000) truthSites(29956 accessible, 29926 called), name=VQSRTrancheINDEL99.00to99.90] \r\n",
        "INFO  11:16:45,362 ApplyRecalibration - Read tranche Tranche ts=100.00 minVQSLod=-109.2547 known=(0 @ 0.0000) novel=(70653 @ 0.0000) truthSites(29956 accessible, 29956 called), name=VQSRTrancheINDEL99.90to100.00] \r\n",
        "INFO  11:16:45,381 ApplyRecalibration - Keeping all variants in tranche Tranche ts=99.90 minVQSLod=-3.8311 known=(0 @ 0.0000) novel=(66265 @ 0.0000) truthSites(29956 accessible, 29926 called), name=VQSRTrancheINDEL99.00to99.90] \r\n"
       ]
      },
      {
       "output_type": "stream",
       "stream": "stdout",
       "text": [
        "INFO  11:16:47,565 ProgressMeter -            done    339697.0     2.0 s       6.0 s      100.0%     2.0 s       0.0 s \r\n",
        "INFO  11:16:47,566 ProgressMeter - Total runtime 2.21 secs, 0.04 min, 0.00 hours \r\n"
       ]
      },
      {
       "output_type": "stream",
       "stream": "stdout",
       "text": [
        "INFO  11:16:49,059 GATKRunReport - Uploaded run statistics report to AWS S3 \r\n"
       ]
      },
      {
       "output_type": "stream",
       "stream": "stdout",
       "text": [
        "INFO  11:16:51,082 HelpFormatter - -------------------------------------------------------------------------------- \r\n",
        "INFO  11:16:51,084 HelpFormatter - The Genome Analysis Toolkit (GATK) v3.4-0-g7e26428, Compiled 2015/05/15 03:25:41 \r\n",
        "INFO  11:16:51,084 HelpFormatter - Copyright (c) 2010 The Broad Institute \r\n",
        "INFO  11:16:51,084 HelpFormatter - For support and documentation go to http://www.broadinstitute.org/gatk \r\n",
        "INFO  11:16:51,088 HelpFormatter - Program Args: -T ApplyRecalibration -R /data/plasmodium/pfalciparum/recon/roamato/Pf3D7_v3/3D7_sorted.fa -input /nfs/team112_internal/production_files/Pf3k/methods/assembled_samples/vcfs/vcf/raw.snps.indels.Pf3D7_03_v3.vcf -tranchesFile /nfs/team112_internal/production_files/Pf3k/methods/assembled_samples/vcfs/vcf/recal/recalibrate_SNP.tranches -recalFile /nfs/team112_internal/production_files/Pf3k/methods/assembled_samples/vcfs/vcf/recal/recalibrate_SNP.recal --ts_filter_level 99.5 -mode SNP -o /nfs/team112_internal/production_files/Pf3k/methods/assembled_samples/vcfs/vcf/filtered.SNP.Pf3D7_03_v3.vcf \r\n",
        "INFO  11:16:51,094 HelpFormatter - Executing as rpearson@dhcp511.well.ox.ac.uk on Mac OS X 10.10.3 x86_64; Java HotSpot(TM) 64-Bit Server VM 1.7.0_60-b19. \r\n",
        "INFO  11:16:51,095 HelpFormatter - Date/Time: 2015/07/01 11:16:51 \r\n",
        "INFO  11:16:51,095 HelpFormatter - -------------------------------------------------------------------------------- \r\n",
        "INFO  11:16:51,095 HelpFormatter - -------------------------------------------------------------------------------- \r\n"
       ]
      },
      {
       "output_type": "stream",
       "stream": "stdout",
       "text": [
        "INFO  11:16:51,456 GenomeAnalysisEngine - Strictness is SILENT \r\n"
       ]
      },
      {
       "output_type": "stream",
       "stream": "stdout",
       "text": [
        "INFO  11:16:51,508 GenomeAnalysisEngine - Downsampling Settings: Method: BY_SAMPLE, Target Coverage: 1000 \r\n"
       ]
      },
      {
       "output_type": "stream",
       "stream": "stdout",
       "text": [
        "INFO  11:16:51,636 GenomeAnalysisEngine - Preparing for traversal \r\n",
        "INFO  11:16:51,637 GenomeAnalysisEngine - Done preparing for traversal \r\n",
        "INFO  11:16:51,637 ProgressMeter - [INITIALIZATION COMPLETE; STARTING PROCESSING] \r\n",
        "INFO  11:16:51,637 ProgressMeter -                 | processed |    time |    per 1M |           |   total | remaining \r\n",
        "INFO  11:16:51,638 ProgressMeter -        Location |     sites | elapsed |     sites | completed | runtime |   runtime \r\n",
        "INFO  11:16:51,640 ApplyRecalibration - Read tranche Tranche ts=90.00 minVQSLod=4.9978 known=(0 @ 0.0000) novel=(18035 @ 1.0227) truthSites(17968 accessible, 16171 called), name=VQSRTrancheSNP0.00to90.00] \r\n",
        "INFO  11:16:51,641 ApplyRecalibration - Read tranche Tranche ts=99.00 minVQSLod=0.4187 known=(0 @ 0.0000) novel=(27808 @ 0.9335) truthSites(17968 accessible, 17788 called), name=VQSRTrancheSNP90.00to99.00] \r\n",
        "INFO  11:16:51,641 ApplyRecalibration - Read tranche Tranche ts=99.90 minVQSLod=-4.6788 known=(0 @ 0.0000) novel=(48235 @ 0.8432) truthSites(17968 accessible, 17950 called), name=VQSRTrancheSNP99.00to99.90] \r\n",
        "INFO  11:16:51,642 ApplyRecalibration - Read tranche Tranche ts=100.00 minVQSLod=-301.4571 known=(0 @ 0.0000) novel=(101334 @ 0.8177) truthSites(17968 accessible, 17968 called), name=VQSRTrancheSNP99.90to100.00] \r\n",
        "INFO  11:16:51,659 ApplyRecalibration - Keeping all variants in tranche Tranche ts=99.90 minVQSLod=-4.6788 known=(0 @ 0.0000) novel=(48235 @ 0.8432) truthSites(17968 accessible, 17950 called), name=VQSRTrancheSNP99.00to99.90] \r\n"
       ]
      },
      {
       "output_type": "stream",
       "stream": "stdout",
       "text": [
        "INFO  11:16:53,787 ProgressMeter -            done    123822.0     2.0 s      17.0 s      100.0%     2.0 s       0.0 s \r\n",
        "INFO  11:16:53,787 ProgressMeter - Total runtime 2.15 secs, 0.04 min, 0.00 hours \r\n"
       ]
      },
      {
       "output_type": "stream",
       "stream": "stdout",
       "text": [
        "INFO  11:16:55,832 GATKRunReport - Uploaded run statistics report to AWS S3 \r\n"
       ]
      },
      {
       "output_type": "stream",
       "stream": "stdout",
       "text": [
        "INFO  11:16:57,906 HelpFormatter - -------------------------------------------------------------------------------- \r\n",
        "INFO  11:16:57,907 HelpFormatter - The Genome Analysis Toolkit (GATK) v3.4-0-g7e26428, Compiled 2015/05/15 03:25:41 \r\n",
        "INFO  11:16:57,907 HelpFormatter - Copyright (c) 2010 The Broad Institute \r\n",
        "INFO  11:16:57,908 HelpFormatter - For support and documentation go to http://www.broadinstitute.org/gatk \r\n",
        "INFO  11:16:57,911 HelpFormatter - Program Args: -T ApplyRecalibration -R /data/plasmodium/pfalciparum/recon/roamato/Pf3D7_v3/3D7_sorted.fa -input /nfs/team112_internal/production_files/Pf3k/methods/assembled_samples/vcfs/vcf/raw.snps.indels.Pf3D7_03_v3.vcf -tranchesFile /nfs/team112_internal/production_files/Pf3k/methods/assembled_samples/vcfs/vcf/recal/recalibrate_INDEL.tranches -recalFile /nfs/team112_internal/production_files/Pf3k/methods/assembled_samples/vcfs/vcf/recal/recalibrate_INDEL.recal --ts_filter_level 99.5 -mode INDEL -o /nfs/team112_internal/production_files/Pf3k/methods/assembled_samples/vcfs/vcf/filtered.INDEL.Pf3D7_03_v3.vcf \r\n",
        "INFO  11:16:57,918 HelpFormatter - Executing as rpearson@dhcp511.well.ox.ac.uk on Mac OS X 10.10.3 x86_64; Java HotSpot(TM) 64-Bit Server VM 1.7.0_60-b19. \r\n",
        "INFO  11:16:57,918 HelpFormatter - Date/Time: 2015/07/01 11:16:57 \r\n",
        "INFO  11:16:57,918 HelpFormatter - -------------------------------------------------------------------------------- \r\n",
        "INFO  11:16:57,918 HelpFormatter - -------------------------------------------------------------------------------- \r\n"
       ]
      },
      {
       "output_type": "stream",
       "stream": "stdout",
       "text": [
        "INFO  11:16:58,292 GenomeAnalysisEngine - Strictness is SILENT \r\n"
       ]
      },
      {
       "output_type": "stream",
       "stream": "stdout",
       "text": [
        "INFO  11:16:58,350 GenomeAnalysisEngine - Downsampling Settings: Method: BY_SAMPLE, Target Coverage: 1000 \r\n"
       ]
      },
      {
       "output_type": "stream",
       "stream": "stdout",
       "text": [
        "INFO  11:16:58,474 GenomeAnalysisEngine - Preparing for traversal \r\n",
        "INFO  11:16:58,476 GenomeAnalysisEngine - Done preparing for traversal \r\n",
        "INFO  11:16:58,476 ProgressMeter - [INITIALIZATION COMPLETE; STARTING PROCESSING] \r\n",
        "INFO  11:16:58,477 ProgressMeter -                 | processed |    time |    per 1M |           |   total | remaining \r\n",
        "INFO  11:16:58,477 ProgressMeter -        Location |     sites | elapsed |     sites | completed | runtime |   runtime \r\n",
        "INFO  11:16:58,481 ApplyRecalibration - Read tranche Tranche ts=90.00 minVQSLod=1.7994 known=(0 @ 0.0000) novel=(42205 @ 0.0000) truthSites(29956 accessible, 26960 called), name=VQSRTrancheINDEL0.00to90.00] \r\n",
        "INFO  11:16:58,481 ApplyRecalibration - Read tranche Tranche ts=99.00 minVQSLod=-0.0838 known=(0 @ 0.0000) novel=(53016 @ 0.0000) truthSites(29956 accessible, 29656 called), name=VQSRTrancheINDEL90.00to99.00] \r\n",
        "INFO  11:16:58,482 ApplyRecalibration - Read tranche Tranche ts=99.90 minVQSLod=-3.8311 known=(0 @ 0.0000) novel=(66265 @ 0.0000) truthSites(29956 accessible, 29926 called), name=VQSRTrancheINDEL99.00to99.90] \r\n",
        "INFO  11:16:58,482 ApplyRecalibration - Read tranche Tranche ts=100.00 minVQSLod=-109.2547 known=(0 @ 0.0000) novel=(70653 @ 0.0000) truthSites(29956 accessible, 29956 called), name=VQSRTrancheINDEL99.90to100.00] \r\n",
        "INFO  11:16:58,500 ApplyRecalibration - Keeping all variants in tranche Tranche ts=99.90 minVQSLod=-3.8311 known=(0 @ 0.0000) novel=(66265 @ 0.0000) truthSites(29956 accessible, 29926 called), name=VQSRTrancheINDEL99.00to99.90] \r\n"
       ]
      },
      {
       "output_type": "stream",
       "stream": "stdout",
       "text": [
        "INFO  11:17:00,568 ProgressMeter -            done    338900.0     2.0 s       6.0 s      100.0%     2.0 s       0.0 s \r\n",
        "INFO  11:17:00,569 ProgressMeter - Total runtime 2.09 secs, 0.03 min, 0.00 hours \r\n"
       ]
      },
      {
       "output_type": "stream",
       "stream": "stdout",
       "text": [
        "INFO  11:17:01,843 GATKRunReport - Uploaded run statistics report to AWS S3 \r\n"
       ]
      },
      {
       "output_type": "stream",
       "stream": "stdout",
       "text": [
        "INFO  11:17:03,814 HelpFormatter - -------------------------------------------------------------------------------- \r\n",
        "INFO  11:17:03,816 HelpFormatter - The Genome Analysis Toolkit (GATK) v3.4-0-g7e26428, Compiled 2015/05/15 03:25:41 \r\n",
        "INFO  11:17:03,816 HelpFormatter - Copyright (c) 2010 The Broad Institute \r\n",
        "INFO  11:17:03,816 HelpFormatter - For support and documentation go to http://www.broadinstitute.org/gatk \r\n",
        "INFO  11:17:03,820 HelpFormatter - Program Args: -T ApplyRecalibration -R /data/plasmodium/pfalciparum/recon/roamato/Pf3D7_v3/3D7_sorted.fa -input /nfs/team112_internal/production_files/Pf3k/methods/assembled_samples/vcfs/vcf/raw.snps.indels.Pf3D7_06_v3.vcf -tranchesFile /nfs/team112_internal/production_files/Pf3k/methods/assembled_samples/vcfs/vcf/recal/recalibrate_SNP.tranches -recalFile /nfs/team112_internal/production_files/Pf3k/methods/assembled_samples/vcfs/vcf/recal/recalibrate_SNP.recal --ts_filter_level 99.5 -mode SNP -o /nfs/team112_internal/production_files/Pf3k/methods/assembled_samples/vcfs/vcf/filtered.SNP.Pf3D7_06_v3.vcf \r\n"
       ]
      },
      {
       "output_type": "stream",
       "stream": "stdout",
       "text": [
        "INFO  11:17:03,827 HelpFormatter - Executing as rpearson@dhcp511.well.ox.ac.uk on Mac OS X 10.10.3 x86_64; Java HotSpot(TM) 64-Bit Server VM 1.7.0_60-b19. \r\n",
        "INFO  11:17:03,827 HelpFormatter - Date/Time: 2015/07/01 11:17:03 \r\n",
        "INFO  11:17:03,827 HelpFormatter - -------------------------------------------------------------------------------- \r\n",
        "INFO  11:17:03,827 HelpFormatter - -------------------------------------------------------------------------------- \r\n"
       ]
      },
      {
       "output_type": "stream",
       "stream": "stdout",
       "text": [
        "INFO  11:17:04,185 GenomeAnalysisEngine - Strictness is SILENT \r\n"
       ]
      },
      {
       "output_type": "stream",
       "stream": "stdout",
       "text": [
        "INFO  11:17:04,234 GenomeAnalysisEngine - Downsampling Settings: Method: BY_SAMPLE, Target Coverage: 1000 \r\n"
       ]
      },
      {
       "output_type": "stream",
       "stream": "stdout",
       "text": [
        "INFO  11:17:04,362 GenomeAnalysisEngine - Preparing for traversal \r\n",
        "INFO  11:17:04,363 GenomeAnalysisEngine - Done preparing for traversal \r\n",
        "INFO  11:17:04,364 ProgressMeter - [INITIALIZATION COMPLETE; STARTING PROCESSING] \r\n",
        "INFO  11:17:04,364 ProgressMeter -                 | processed |    time |    per 1M |           |   total | remaining \r\n",
        "INFO  11:17:04,364 ProgressMeter -        Location |     sites | elapsed |     sites | completed | runtime |   runtime \r\n",
        "INFO  11:17:04,367 ApplyRecalibration - Read tranche Tranche ts=90.00 minVQSLod=4.9978 known=(0 @ 0.0000) novel=(18035 @ 1.0227) truthSites(17968 accessible, 16171 called), name=VQSRTrancheSNP0.00to90.00] \r\n",
        "INFO  11:17:04,367 ApplyRecalibration - Read tranche Tranche ts=99.00 minVQSLod=0.4187 known=(0 @ 0.0000) novel=(27808 @ 0.9335) truthSites(17968 accessible, 17788 called), name=VQSRTrancheSNP90.00to99.00] \r\n",
        "INFO  11:17:04,368 ApplyRecalibration - Read tranche Tranche ts=99.90 minVQSLod=-4.6788 known=(0 @ 0.0000) novel=(48235 @ 0.8432) truthSites(17968 accessible, 17950 called), name=VQSRTrancheSNP99.00to99.90] \r\n",
        "INFO  11:17:04,368 ApplyRecalibration - Read tranche Tranche ts=100.00 minVQSLod=-301.4571 known=(0 @ 0.0000) novel=(101334 @ 0.8177) truthSites(17968 accessible, 17968 called), name=VQSRTrancheSNP99.90to100.00] \r\n",
        "INFO  11:17:04,386 ApplyRecalibration - Keeping all variants in tranche Tranche ts=99.90 minVQSLod=-4.6788 known=(0 @ 0.0000) novel=(48235 @ 0.8432) truthSites(17968 accessible, 17950 called), name=VQSRTrancheSNP99.00to99.90] \r\n"
       ]
      },
      {
       "output_type": "stream",
       "stream": "stdout",
       "text": [
        "INFO  11:17:06,650 ProgressMeter -            done    127749.0     2.0 s      17.0 s      100.0%     2.0 s       0.0 s \r\n",
        "INFO  11:17:06,650 ProgressMeter - Total runtime 2.29 secs, 0.04 min, 0.00 hours \r\n"
       ]
      },
      {
       "output_type": "stream",
       "stream": "stdout",
       "text": [
        "INFO  11:17:12,825 GATKRunReport - Uploaded run statistics report to AWS S3 \r\n"
       ]
      },
      {
       "output_type": "stream",
       "stream": "stdout",
       "text": [
        "INFO  11:17:14,937 HelpFormatter - -------------------------------------------------------------------------------- \r\n",
        "INFO  11:17:14,940 HelpFormatter - The Genome Analysis Toolkit (GATK) v3.4-0-g7e26428, Compiled 2015/05/15 03:25:41 \r\n",
        "INFO  11:17:14,941 HelpFormatter - Copyright (c) 2010 The Broad Institute \r\n",
        "INFO  11:17:14,941 HelpFormatter - For support and documentation go to http://www.broadinstitute.org/gatk \r\n",
        "INFO  11:17:14,945 HelpFormatter - Program Args: -T ApplyRecalibration -R /data/plasmodium/pfalciparum/recon/roamato/Pf3D7_v3/3D7_sorted.fa -input /nfs/team112_internal/production_files/Pf3k/methods/assembled_samples/vcfs/vcf/raw.snps.indels.Pf3D7_06_v3.vcf -tranchesFile /nfs/team112_internal/production_files/Pf3k/methods/assembled_samples/vcfs/vcf/recal/recalibrate_INDEL.tranches -recalFile /nfs/team112_internal/production_files/Pf3k/methods/assembled_samples/vcfs/vcf/recal/recalibrate_INDEL.recal --ts_filter_level 99.5 -mode INDEL -o /nfs/team112_internal/production_files/Pf3k/methods/assembled_samples/vcfs/vcf/filtered.INDEL.Pf3D7_06_v3.vcf \r\n",
        "INFO  11:17:14,952 HelpFormatter - Executing as rpearson@dhcp511.well.ox.ac.uk on Mac OS X 10.10.3 x86_64; Java HotSpot(TM) 64-Bit Server VM 1.7.0_60-b19. \r\n",
        "INFO  11:17:14,953 HelpFormatter - Date/Time: 2015/07/01 11:17:14 \r\n",
        "INFO  11:17:14,953 HelpFormatter - -------------------------------------------------------------------------------- \r\n",
        "INFO  11:17:14,953 HelpFormatter - -------------------------------------------------------------------------------- \r\n"
       ]
      },
      {
       "output_type": "stream",
       "stream": "stdout",
       "text": [
        "INFO  11:17:15,318 GenomeAnalysisEngine - Strictness is SILENT \r\n"
       ]
      },
      {
       "output_type": "stream",
       "stream": "stdout",
       "text": [
        "INFO  11:17:15,363 GenomeAnalysisEngine - Downsampling Settings: Method: BY_SAMPLE, Target Coverage: 1000 \r\n"
       ]
      },
      {
       "output_type": "stream",
       "stream": "stdout",
       "text": [
        "INFO  11:17:15,496 GenomeAnalysisEngine - Preparing for traversal \r\n",
        "INFO  11:17:15,497 GenomeAnalysisEngine - Done preparing for traversal \r\n",
        "INFO  11:17:15,497 ProgressMeter - [INITIALIZATION COMPLETE; STARTING PROCESSING] \r\n",
        "INFO  11:17:15,498 ProgressMeter -                 | processed |    time |    per 1M |           |   total | remaining \r\n",
        "INFO  11:17:15,498 ProgressMeter -        Location |     sites | elapsed |     sites | completed | runtime |   runtime \r\n",
        "INFO  11:17:15,501 ApplyRecalibration - Read tranche Tranche ts=90.00 minVQSLod=1.7994 known=(0 @ 0.0000) novel=(42205 @ 0.0000) truthSites(29956 accessible, 26960 called), name=VQSRTrancheINDEL0.00to90.00] \r\n",
        "INFO  11:17:15,502 ApplyRecalibration - Read tranche Tranche ts=99.00 minVQSLod=-0.0838 known=(0 @ 0.0000) novel=(53016 @ 0.0000) truthSites(29956 accessible, 29656 called), name=VQSRTrancheINDEL90.00to99.00] \r\n",
        "INFO  11:17:15,502 ApplyRecalibration - Read tranche Tranche ts=99.90 minVQSLod=-3.8311 known=(0 @ 0.0000) novel=(66265 @ 0.0000) truthSites(29956 accessible, 29926 called), name=VQSRTrancheINDEL99.00to99.90] \r\n",
        "INFO  11:17:15,502 ApplyRecalibration - Read tranche Tranche ts=100.00 minVQSLod=-109.2547 known=(0 @ 0.0000) novel=(70653 @ 0.0000) truthSites(29956 accessible, 29956 called), name=VQSRTrancheINDEL99.90to100.00] \r\n"
       ]
      },
      {
       "output_type": "stream",
       "stream": "stdout",
       "text": [
        "INFO  11:17:15,520 ApplyRecalibration - Keeping all variants in tranche Tranche ts=99.90 minVQSLod=-3.8311 known=(0 @ 0.0000) novel=(66265 @ 0.0000) truthSites(29956 accessible, 29926 called), name=VQSRTrancheINDEL99.00to99.90] \r\n"
       ]
      },
      {
       "output_type": "stream",
       "stream": "stdout",
       "text": [
        "INFO  11:17:17,511 ProgressMeter -            done    340277.0     2.0 s       5.0 s      100.0%     2.0 s       0.0 s \r\n",
        "INFO  11:17:17,511 ProgressMeter - Total runtime 2.01 secs, 0.03 min, 0.00 hours \r\n"
       ]
      },
      {
       "output_type": "stream",
       "stream": "stdout",
       "text": [
        "INFO  11:17:18,756 GATKRunReport - Uploaded run statistics report to AWS S3 \r\n"
       ]
      },
      {
       "output_type": "stream",
       "stream": "stdout",
       "text": [
        "INFO  11:17:20,732 HelpFormatter - -------------------------------------------------------------------------------- \r\n",
        "INFO  11:17:20,734 HelpFormatter - The Genome Analysis Toolkit (GATK) v3.4-0-g7e26428, Compiled 2015/05/15 03:25:41 \r\n",
        "INFO  11:17:20,735 HelpFormatter - Copyright (c) 2010 The Broad Institute \r\n",
        "INFO  11:17:20,735 HelpFormatter - For support and documentation go to http://www.broadinstitute.org/gatk \r\n",
        "INFO  11:17:20,741 HelpFormatter - Program Args: -T ApplyRecalibration -R /data/plasmodium/pfalciparum/recon/roamato/Pf3D7_v3/3D7_sorted.fa -input /nfs/team112_internal/production_files/Pf3k/methods/assembled_samples/vcfs/vcf/raw.snps.indels.Pf3D7_08_v3.vcf -tranchesFile /nfs/team112_internal/production_files/Pf3k/methods/assembled_samples/vcfs/vcf/recal/recalibrate_SNP.tranches -recalFile /nfs/team112_internal/production_files/Pf3k/methods/assembled_samples/vcfs/vcf/recal/recalibrate_SNP.recal --ts_filter_level 99.5 -mode SNP -o /nfs/team112_internal/production_files/Pf3k/methods/assembled_samples/vcfs/vcf/filtered.SNP.Pf3D7_08_v3.vcf \r\n",
        "INFO  11:17:20,748 HelpFormatter - Executing as rpearson@dhcp511.well.ox.ac.uk on Mac OS X 10.10.3 x86_64; Java HotSpot(TM) 64-Bit Server VM 1.7.0_60-b19. \r\n",
        "INFO  11:17:20,748 HelpFormatter - Date/Time: 2015/07/01 11:17:20 \r\n",
        "INFO  11:17:20,748 HelpFormatter - -------------------------------------------------------------------------------- \r\n",
        "INFO  11:17:20,748 HelpFormatter - -------------------------------------------------------------------------------- \r\n"
       ]
      },
      {
       "output_type": "stream",
       "stream": "stdout",
       "text": [
        "INFO  11:17:21,128 GenomeAnalysisEngine - Strictness is SILENT \r\n"
       ]
      },
      {
       "output_type": "stream",
       "stream": "stdout",
       "text": [
        "INFO  11:17:21,178 GenomeAnalysisEngine - Downsampling Settings: Method: BY_SAMPLE, Target Coverage: 1000 \r\n"
       ]
      },
      {
       "output_type": "stream",
       "stream": "stdout",
       "text": [
        "INFO  11:17:21,302 GenomeAnalysisEngine - Preparing for traversal \r\n",
        "INFO  11:17:21,303 GenomeAnalysisEngine - Done preparing for traversal \r\n",
        "INFO  11:17:21,303 ProgressMeter - [INITIALIZATION COMPLETE; STARTING PROCESSING] \r\n",
        "INFO  11:17:21,303 ProgressMeter -                 | processed |    time |    per 1M |           |   total | remaining \r\n",
        "INFO  11:17:21,304 ProgressMeter -        Location |     sites | elapsed |     sites | completed | runtime |   runtime \r\n",
        "INFO  11:17:21,307 ApplyRecalibration - Read tranche Tranche ts=90.00 minVQSLod=4.9978 known=(0 @ 0.0000) novel=(18035 @ 1.0227) truthSites(17968 accessible, 16171 called), name=VQSRTrancheSNP0.00to90.00] \r\n",
        "INFO  11:17:21,308 ApplyRecalibration - Read tranche Tranche ts=99.00 minVQSLod=0.4187 known=(0 @ 0.0000) novel=(27808 @ 0.9335) truthSites(17968 accessible, 17788 called), name=VQSRTrancheSNP90.00to99.00] \r\n",
        "INFO  11:17:21,309 ApplyRecalibration - Read tranche Tranche ts=99.90 minVQSLod=-4.6788 known=(0 @ 0.0000) novel=(48235 @ 0.8432) truthSites(17968 accessible, 17950 called), name=VQSRTrancheSNP99.00to99.90] \r\n",
        "INFO  11:17:21,309 ApplyRecalibration - Read tranche Tranche ts=100.00 minVQSLod=-301.4571 known=(0 @ 0.0000) novel=(101334 @ 0.8177) truthSites(17968 accessible, 17968 called), name=VQSRTrancheSNP99.90to100.00] \r\n",
        "INFO  11:17:21,328 ApplyRecalibration - Keeping all variants in tranche Tranche ts=99.90 minVQSLod=-4.6788 known=(0 @ 0.0000) novel=(48235 @ 0.8432) truthSites(17968 accessible, 17950 called), name=VQSRTrancheSNP99.00to99.90] \r\n"
       ]
      },
      {
       "output_type": "stream",
       "stream": "stdout",
       "text": [
        "INFO  11:17:23,594 ProgressMeter -            done    133958.0     2.0 s      17.0 s      100.0%     2.0 s       0.0 s \r\n",
        "INFO  11:17:23,595 ProgressMeter - Total runtime 2.29 secs, 0.04 min, 0.00 hours \r\n"
       ]
      },
      {
       "output_type": "stream",
       "stream": "stdout",
       "text": [
        "INFO  11:17:24,909 GATKRunReport - Uploaded run statistics report to AWS S3 \r\n"
       ]
      },
      {
       "output_type": "stream",
       "stream": "stdout",
       "text": [
        "INFO  11:17:26,930 HelpFormatter - -------------------------------------------------------------------------------- \r\n",
        "INFO  11:17:26,932 HelpFormatter - The Genome Analysis Toolkit (GATK) v3.4-0-g7e26428, Compiled 2015/05/15 03:25:41 \r\n",
        "INFO  11:17:26,932 HelpFormatter - Copyright (c) 2010 The Broad Institute \r\n",
        "INFO  11:17:26,932 HelpFormatter - For support and documentation go to http://www.broadinstitute.org/gatk \r\n",
        "INFO  11:17:26,935 HelpFormatter - Program Args: -T ApplyRecalibration -R /data/plasmodium/pfalciparum/recon/roamato/Pf3D7_v3/3D7_sorted.fa -input /nfs/team112_internal/production_files/Pf3k/methods/assembled_samples/vcfs/vcf/raw.snps.indels.Pf3D7_08_v3.vcf -tranchesFile /nfs/team112_internal/production_files/Pf3k/methods/assembled_samples/vcfs/vcf/recal/recalibrate_INDEL.tranches -recalFile /nfs/team112_internal/production_files/Pf3k/methods/assembled_samples/vcfs/vcf/recal/recalibrate_INDEL.recal --ts_filter_level 99.5 -mode INDEL -o /nfs/team112_internal/production_files/Pf3k/methods/assembled_samples/vcfs/vcf/filtered.INDEL.Pf3D7_08_v3.vcf \r\n",
        "INFO  11:17:26,944 HelpFormatter - Executing as rpearson@dhcp511.well.ox.ac.uk on Mac OS X 10.10.3 x86_64; Java HotSpot(TM) 64-Bit Server VM 1.7.0_60-b19. \r\n",
        "INFO  11:17:26,944 HelpFormatter - Date/Time: 2015/07/01 11:17:26 \r\n",
        "INFO  11:17:26,944 HelpFormatter - -------------------------------------------------------------------------------- \r\n",
        "INFO  11:17:26,944 HelpFormatter - -------------------------------------------------------------------------------- \r\n"
       ]
      },
      {
       "output_type": "stream",
       "stream": "stdout",
       "text": [
        "INFO  11:17:27,317 GenomeAnalysisEngine - Strictness is SILENT \r\n"
       ]
      },
      {
       "output_type": "stream",
       "stream": "stdout",
       "text": [
        "INFO  11:17:27,366 GenomeAnalysisEngine - Downsampling Settings: Method: BY_SAMPLE, Target Coverage: 1000 \r\n"
       ]
      },
      {
       "output_type": "stream",
       "stream": "stdout",
       "text": [
        "INFO  11:17:27,498 GenomeAnalysisEngine - Preparing for traversal \r\n",
        "INFO  11:17:27,499 GenomeAnalysisEngine - Done preparing for traversal \r\n",
        "INFO  11:17:27,499 ProgressMeter - [INITIALIZATION COMPLETE; STARTING PROCESSING] \r\n",
        "INFO  11:17:27,500 ProgressMeter -                 | processed |    time |    per 1M |           |   total | remaining \r\n",
        "INFO  11:17:27,500 ProgressMeter -        Location |     sites | elapsed |     sites | completed | runtime |   runtime \r\n"
       ]
      },
      {
       "output_type": "stream",
       "stream": "stdout",
       "text": [
        "INFO  11:17:27,504 ApplyRecalibration - Read tranche Tranche ts=90.00 minVQSLod=1.7994 known=(0 @ 0.0000) novel=(42205 @ 0.0000) truthSites(29956 accessible, 26960 called), name=VQSRTrancheINDEL0.00to90.00] \r\n",
        "INFO  11:17:27,504 ApplyRecalibration - Read tranche Tranche ts=99.00 minVQSLod=-0.0838 known=(0 @ 0.0000) novel=(53016 @ 0.0000) truthSites(29956 accessible, 29656 called), name=VQSRTrancheINDEL90.00to99.00] \r\n",
        "INFO  11:17:27,504 ApplyRecalibration - Read tranche Tranche ts=99.90 minVQSLod=-3.8311 known=(0 @ 0.0000) novel=(66265 @ 0.0000) truthSites(29956 accessible, 29926 called), name=VQSRTrancheINDEL99.00to99.90] \r\n",
        "INFO  11:17:27,505 ApplyRecalibration - Read tranche Tranche ts=100.00 minVQSLod=-109.2547 known=(0 @ 0.0000) novel=(70653 @ 0.0000) truthSites(29956 accessible, 29956 called), name=VQSRTrancheINDEL99.90to100.00] \r\n",
        "INFO  11:17:27,524 ApplyRecalibration - Keeping all variants in tranche Tranche ts=99.90 minVQSLod=-3.8311 known=(0 @ 0.0000) novel=(66265 @ 0.0000) truthSites(29956 accessible, 29926 called), name=VQSRTrancheINDEL99.00to99.90] \r\n"
       ]
      },
      {
       "output_type": "stream",
       "stream": "stdout",
       "text": [
        "INFO  11:17:29,849 ProgressMeter -            done    343972.0     2.0 s       6.0 s      100.0%     2.0 s       0.0 s \r\n",
        "INFO  11:17:29,849 ProgressMeter - Total runtime 2.35 secs, 0.04 min, 0.00 hours \r\n"
       ]
      },
      {
       "output_type": "stream",
       "stream": "stdout",
       "text": [
        "INFO  11:17:31,526 GATKRunReport - Uploaded run statistics report to AWS S3 \r\n"
       ]
      },
      {
       "output_type": "stream",
       "stream": "stdout",
       "text": [
        "INFO  11:17:33,585 HelpFormatter - -------------------------------------------------------------------------------- \r\n",
        "INFO  11:17:33,587 HelpFormatter - The Genome Analysis Toolkit (GATK) v3.4-0-g7e26428, Compiled 2015/05/15 03:25:41 \r\n",
        "INFO  11:17:33,588 HelpFormatter - Copyright (c) 2010 The Broad Institute \r\n",
        "INFO  11:17:33,588 HelpFormatter - For support and documentation go to http://www.broadinstitute.org/gatk \r\n",
        "INFO  11:17:33,592 HelpFormatter - Program Args: -T ApplyRecalibration -R /data/plasmodium/pfalciparum/recon/roamato/Pf3D7_v3/3D7_sorted.fa -input /nfs/team112_internal/production_files/Pf3k/methods/assembled_samples/vcfs/vcf/raw.snps.indels.Pf3D7_09_v3.vcf -tranchesFile /nfs/team112_internal/production_files/Pf3k/methods/assembled_samples/vcfs/vcf/recal/recalibrate_SNP.tranches -recalFile /nfs/team112_internal/production_files/Pf3k/methods/assembled_samples/vcfs/vcf/recal/recalibrate_SNP.recal --ts_filter_level 99.5 -mode SNP -o /nfs/team112_internal/production_files/Pf3k/methods/assembled_samples/vcfs/vcf/filtered.SNP.Pf3D7_09_v3.vcf \r\n",
        "INFO  11:17:33,601 HelpFormatter - Executing as rpearson@dhcp511.well.ox.ac.uk on Mac OS X 10.10.3 x86_64; Java HotSpot(TM) 64-Bit Server VM 1.7.0_60-b19. \r\n",
        "INFO  11:17:33,602 HelpFormatter - Date/Time: 2015/07/01 11:17:33 \r\n",
        "INFO  11:17:33,602 HelpFormatter - -------------------------------------------------------------------------------- \r\n",
        "INFO  11:17:33,602 HelpFormatter - -------------------------------------------------------------------------------- \r\n"
       ]
      },
      {
       "output_type": "stream",
       "stream": "stdout",
       "text": [
        "INFO  11:17:33,983 GenomeAnalysisEngine - Strictness is SILENT \r\n"
       ]
      },
      {
       "output_type": "stream",
       "stream": "stdout",
       "text": [
        "INFO  11:17:34,030 GenomeAnalysisEngine - Downsampling Settings: Method: BY_SAMPLE, Target Coverage: 1000 \r\n"
       ]
      },
      {
       "output_type": "stream",
       "stream": "stdout",
       "text": [
        "INFO  11:17:34,159 GenomeAnalysisEngine - Preparing for traversal \r\n",
        "INFO  11:17:34,160 GenomeAnalysisEngine - Done preparing for traversal \r\n",
        "INFO  11:17:34,160 ProgressMeter - [INITIALIZATION COMPLETE; STARTING PROCESSING] \r\n",
        "INFO  11:17:34,160 ProgressMeter -                 | processed |    time |    per 1M |           |   total | remaining \r\n",
        "INFO  11:17:34,161 ProgressMeter -        Location |     sites | elapsed |     sites | completed | runtime |   runtime \r\n",
        "INFO  11:17:34,164 ApplyRecalibration - Read tranche Tranche ts=90.00 minVQSLod=4.9978 known=(0 @ 0.0000) novel=(18035 @ 1.0227) truthSites(17968 accessible, 16171 called), name=VQSRTrancheSNP0.00to90.00] \r\n",
        "INFO  11:17:34,164 ApplyRecalibration - Read tranche Tranche ts=99.00 minVQSLod=0.4187 known=(0 @ 0.0000) novel=(27808 @ 0.9335) truthSites(17968 accessible, 17788 called), name=VQSRTrancheSNP90.00to99.00] \r\n",
        "INFO  11:17:34,165 ApplyRecalibration - Read tranche Tranche ts=99.90 minVQSLod=-4.6788 known=(0 @ 0.0000) novel=(48235 @ 0.8432) truthSites(17968 accessible, 17950 called), name=VQSRTrancheSNP99.00to99.90] \r\n",
        "INFO  11:17:34,165 ApplyRecalibration - Read tranche Tranche ts=100.00 minVQSLod=-301.4571 known=(0 @ 0.0000) novel=(101334 @ 0.8177) truthSites(17968 accessible, 17968 called), name=VQSRTrancheSNP99.90to100.00] \r\n",
        "INFO  11:17:34,183 ApplyRecalibration - Keeping all variants in tranche Tranche ts=99.90 minVQSLod=-4.6788 known=(0 @ 0.0000) novel=(48235 @ 0.8432) truthSites(17968 accessible, 17950 called), name=VQSRTrancheSNP99.00to99.90] \r\n"
       ]
      },
      {
       "output_type": "stream",
       "stream": "stdout",
       "text": [
        "INFO  11:17:36,566 ProgressMeter -            done    134168.0     2.0 s      17.0 s      100.0%     2.0 s       0.0 s \r\n",
        "INFO  11:17:36,566 ProgressMeter - Total runtime 2.41 secs, 0.04 min, 0.00 hours \r\n"
       ]
      },
      {
       "output_type": "stream",
       "stream": "stdout",
       "text": [
        "INFO  11:17:38,109 GATKRunReport - Uploaded run statistics report to AWS S3 \r\n"
       ]
      },
      {
       "output_type": "stream",
       "stream": "stdout",
       "text": [
        "INFO  11:17:40,173 HelpFormatter - -------------------------------------------------------------------------------- \r\n",
        "INFO  11:17:40,174 HelpFormatter - The Genome Analysis Toolkit (GATK) v3.4-0-g7e26428, Compiled 2015/05/15 03:25:41 \r\n",
        "INFO  11:17:40,174 HelpFormatter - Copyright (c) 2010 The Broad Institute \r\n",
        "INFO  11:17:40,175 HelpFormatter - For support and documentation go to http://www.broadinstitute.org/gatk \r\n",
        "INFO  11:17:40,178 HelpFormatter - Program Args: -T ApplyRecalibration -R /data/plasmodium/pfalciparum/recon/roamato/Pf3D7_v3/3D7_sorted.fa -input /nfs/team112_internal/production_files/Pf3k/methods/assembled_samples/vcfs/vcf/raw.snps.indels.Pf3D7_09_v3.vcf -tranchesFile /nfs/team112_internal/production_files/Pf3k/methods/assembled_samples/vcfs/vcf/recal/recalibrate_INDEL.tranches -recalFile /nfs/team112_internal/production_files/Pf3k/methods/assembled_samples/vcfs/vcf/recal/recalibrate_INDEL.recal --ts_filter_level 99.5 -mode INDEL -o /nfs/team112_internal/production_files/Pf3k/methods/assembled_samples/vcfs/vcf/filtered.INDEL.Pf3D7_09_v3.vcf \r\n",
        "INFO  11:17:40,187 HelpFormatter - Executing as rpearson@dhcp511.well.ox.ac.uk on Mac OS X 10.10.3 x86_64; Java HotSpot(TM) 64-Bit Server VM 1.7.0_60-b19. \r\n",
        "INFO  11:17:40,187 HelpFormatter - Date/Time: 2015/07/01 11:17:40 \r\n",
        "INFO  11:17:40,188 HelpFormatter - -------------------------------------------------------------------------------- \r\n",
        "INFO  11:17:40,188 HelpFormatter - -------------------------------------------------------------------------------- \r\n"
       ]
      },
      {
       "output_type": "stream",
       "stream": "stdout",
       "text": [
        "INFO  11:17:40,536 GenomeAnalysisEngine - Strictness is SILENT \r\n"
       ]
      },
      {
       "output_type": "stream",
       "stream": "stdout",
       "text": [
        "INFO  11:17:40,583 GenomeAnalysisEngine - Downsampling Settings: Method: BY_SAMPLE, Target Coverage: 1000 \r\n"
       ]
      },
      {
       "output_type": "stream",
       "stream": "stdout",
       "text": [
        "INFO  11:17:40,707 GenomeAnalysisEngine - Preparing for traversal \r\n",
        "INFO  11:17:40,707 GenomeAnalysisEngine - Done preparing for traversal \r\n",
        "INFO  11:17:40,708 ProgressMeter - [INITIALIZATION COMPLETE; STARTING PROCESSING] \r\n",
        "INFO  11:17:40,708 ProgressMeter -                 | processed |    time |    per 1M |           |   total | remaining \r\n",
        "INFO  11:17:40,708 ProgressMeter -        Location |     sites | elapsed |     sites | completed | runtime |   runtime \r\n",
        "INFO  11:17:40,711 ApplyRecalibration - Read tranche Tranche ts=90.00 minVQSLod=1.7994 known=(0 @ 0.0000) novel=(42205 @ 0.0000) truthSites(29956 accessible, 26960 called), name=VQSRTrancheINDEL0.00to90.00] \r\n",
        "INFO  11:17:40,712 ApplyRecalibration - Read tranche Tranche ts=99.00 minVQSLod=-0.0838 known=(0 @ 0.0000) novel=(53016 @ 0.0000) truthSites(29956 accessible, 29656 called), name=VQSRTrancheINDEL90.00to99.00] \r\n",
        "INFO  11:17:40,712 ApplyRecalibration - Read tranche Tranche ts=99.90 minVQSLod=-3.8311 known=(0 @ 0.0000) novel=(66265 @ 0.0000) truthSites(29956 accessible, 29926 called), name=VQSRTrancheINDEL99.00to99.90] \r\n",
        "INFO  11:17:40,712 ApplyRecalibration - Read tranche Tranche ts=100.00 minVQSLod=-109.2547 known=(0 @ 0.0000) novel=(70653 @ 0.0000) truthSites(29956 accessible, 29956 called), name=VQSRTrancheINDEL99.90to100.00] \r\n"
       ]
      },
      {
       "output_type": "stream",
       "stream": "stdout",
       "text": [
        "INFO  11:17:40,731 ApplyRecalibration - Keeping all variants in tranche Tranche ts=99.90 minVQSLod=-3.8311 known=(0 @ 0.0000) novel=(66265 @ 0.0000) truthSites(29956 accessible, 29926 called), name=VQSRTrancheINDEL99.00to99.90] \r\n"
       ]
      },
      {
       "output_type": "stream",
       "stream": "stdout",
       "text": [
        "INFO  11:17:43,005 ProgressMeter -            done    341345.0     2.0 s       6.0 s      100.0%     2.0 s       0.0 s \r\n",
        "INFO  11:17:43,006 ProgressMeter - Total runtime 2.30 secs, 0.04 min, 0.00 hours \r\n"
       ]
      },
      {
       "output_type": "stream",
       "stream": "stdout",
       "text": [
        "INFO  11:17:44,472 GATKRunReport - Uploaded run statistics report to AWS S3 \r\n"
       ]
      },
      {
       "output_type": "stream",
       "stream": "stdout",
       "text": [
        "INFO  11:17:46,475 HelpFormatter - -------------------------------------------------------------------------------- \r\n",
        "INFO  11:17:46,478 HelpFormatter - The Genome Analysis Toolkit (GATK) v3.4-0-g7e26428, Compiled 2015/05/15 03:25:41 \r\n",
        "INFO  11:17:46,478 HelpFormatter - Copyright (c) 2010 The Broad Institute \r\n",
        "INFO  11:17:46,478 HelpFormatter - For support and documentation go to http://www.broadinstitute.org/gatk \r\n",
        "INFO  11:17:46,483 HelpFormatter - Program Args: -T ApplyRecalibration -R /data/plasmodium/pfalciparum/recon/roamato/Pf3D7_v3/3D7_sorted.fa -input /nfs/team112_internal/production_files/Pf3k/methods/assembled_samples/vcfs/vcf/raw.snps.indels.Pf3D7_11_v3.vcf -tranchesFile /nfs/team112_internal/production_files/Pf3k/methods/assembled_samples/vcfs/vcf/recal/recalibrate_SNP.tranches -recalFile /nfs/team112_internal/production_files/Pf3k/methods/assembled_samples/vcfs/vcf/recal/recalibrate_SNP.recal --ts_filter_level 99.5 -mode SNP -o /nfs/team112_internal/production_files/Pf3k/methods/assembled_samples/vcfs/vcf/filtered.SNP.Pf3D7_11_v3.vcf \r\n",
        "INFO  11:17:46,492 HelpFormatter - Executing as rpearson@dhcp511.well.ox.ac.uk on Mac OS X 10.10.3 x86_64; Java HotSpot(TM) 64-Bit Server VM 1.7.0_60-b19. \r\n",
        "INFO  11:17:46,492 HelpFormatter - Date/Time: 2015/07/01 11:17:46 \r\n",
        "INFO  11:17:46,492 HelpFormatter - -------------------------------------------------------------------------------- \r\n",
        "INFO  11:17:46,492 HelpFormatter - -------------------------------------------------------------------------------- \r\n"
       ]
      },
      {
       "output_type": "stream",
       "stream": "stdout",
       "text": [
        "INFO  11:17:46,875 GenomeAnalysisEngine - Strictness is SILENT \r\n"
       ]
      },
      {
       "output_type": "stream",
       "stream": "stdout",
       "text": [
        "INFO  11:17:46,932 GenomeAnalysisEngine - Downsampling Settings: Method: BY_SAMPLE, Target Coverage: 1000 \r\n"
       ]
      },
      {
       "output_type": "stream",
       "stream": "stdout",
       "text": [
        "INFO  11:17:47,056 GenomeAnalysisEngine - Preparing for traversal \r\n",
        "INFO  11:17:47,057 GenomeAnalysisEngine - Done preparing for traversal \r\n",
        "INFO  11:17:47,058 ProgressMeter - [INITIALIZATION COMPLETE; STARTING PROCESSING] \r\n",
        "INFO  11:17:47,058 ProgressMeter -                 | processed |    time |    per 1M |           |   total | remaining \r\n",
        "INFO  11:17:47,058 ProgressMeter -        Location |     sites | elapsed |     sites | completed | runtime |   runtime \r\n",
        "INFO  11:17:47,061 ApplyRecalibration - Read tranche Tranche ts=90.00 minVQSLod=4.9978 known=(0 @ 0.0000) novel=(18035 @ 1.0227) truthSites(17968 accessible, 16171 called), name=VQSRTrancheSNP0.00to90.00] \r\n",
        "INFO  11:17:47,061 ApplyRecalibration - Read tranche Tranche ts=99.00 minVQSLod=0.4187 known=(0 @ 0.0000) novel=(27808 @ 0.9335) truthSites(17968 accessible, 17788 called), name=VQSRTrancheSNP90.00to99.00] \r\n",
        "INFO  11:17:47,062 ApplyRecalibration - Read tranche Tranche ts=99.90 minVQSLod=-4.6788 known=(0 @ 0.0000) novel=(48235 @ 0.8432) truthSites(17968 accessible, 17950 called), name=VQSRTrancheSNP99.00to99.90] \r\n",
        "INFO  11:17:47,062 ApplyRecalibration - Read tranche Tranche ts=100.00 minVQSLod=-301.4571 known=(0 @ 0.0000) novel=(101334 @ 0.8177) truthSites(17968 accessible, 17968 called), name=VQSRTrancheSNP99.90to100.00] \r\n",
        "INFO  11:17:47,079 ApplyRecalibration - Keeping all variants in tranche Tranche ts=99.90 minVQSLod=-4.6788 known=(0 @ 0.0000) novel=(48235 @ 0.8432) truthSites(17968 accessible, 17950 called), name=VQSRTrancheSNP99.00to99.90] \r\n"
       ]
      },
      {
       "output_type": "stream",
       "stream": "stdout",
       "text": [
        "INFO  11:17:49,451 ProgressMeter -            done    138848.0     2.0 s      17.0 s      100.0%     2.0 s       0.0 s \r\n",
        "INFO  11:17:49,451 ProgressMeter - Total runtime 2.39 secs, 0.04 min, 0.00 hours \r\n"
       ]
      },
      {
       "output_type": "stream",
       "stream": "stdout",
       "text": [
        "INFO  11:17:50,487 GATKRunReport - Uploaded run statistics report to AWS S3 \r\n"
       ]
      },
      {
       "output_type": "stream",
       "stream": "stdout",
       "text": [
        "INFO  11:17:52,599 HelpFormatter - -------------------------------------------------------------------------------- \r\n",
        "INFO  11:17:52,601 HelpFormatter - The Genome Analysis Toolkit (GATK) v3.4-0-g7e26428, Compiled 2015/05/15 03:25:41 \r\n",
        "INFO  11:17:52,602 HelpFormatter - Copyright (c) 2010 The Broad Institute \r\n",
        "INFO  11:17:52,602 HelpFormatter - For support and documentation go to http://www.broadinstitute.org/gatk \r\n",
        "INFO  11:17:52,605 HelpFormatter - Program Args: -T ApplyRecalibration -R /data/plasmodium/pfalciparum/recon/roamato/Pf3D7_v3/3D7_sorted.fa -input /nfs/team112_internal/production_files/Pf3k/methods/assembled_samples/vcfs/vcf/raw.snps.indels.Pf3D7_11_v3.vcf -tranchesFile /nfs/team112_internal/production_files/Pf3k/methods/assembled_samples/vcfs/vcf/recal/recalibrate_INDEL.tranches -recalFile /nfs/team112_internal/production_files/Pf3k/methods/assembled_samples/vcfs/vcf/recal/recalibrate_INDEL.recal --ts_filter_level 99.5 -mode INDEL -o /nfs/team112_internal/production_files/Pf3k/methods/assembled_samples/vcfs/vcf/filtered.INDEL.Pf3D7_11_v3.vcf \r\n",
        "INFO  11:17:52,612 HelpFormatter - Executing as rpearson@dhcp511.well.ox.ac.uk on Mac OS X 10.10.3 x86_64; Java HotSpot(TM) 64-Bit Server VM 1.7.0_60-b19. \r\n",
        "INFO  11:17:52,612 HelpFormatter - Date/Time: 2015/07/01 11:17:52 \r\n",
        "INFO  11:17:52,612 HelpFormatter - -------------------------------------------------------------------------------- \r\n",
        "INFO  11:17:52,613 HelpFormatter - -------------------------------------------------------------------------------- \r\n"
       ]
      },
      {
       "output_type": "stream",
       "stream": "stdout",
       "text": [
        "INFO  11:17:53,000 GenomeAnalysisEngine - Strictness is SILENT \r\n"
       ]
      },
      {
       "output_type": "stream",
       "stream": "stdout",
       "text": [
        "INFO  11:17:53,045 GenomeAnalysisEngine - Downsampling Settings: Method: BY_SAMPLE, Target Coverage: 1000 \r\n"
       ]
      },
      {
       "output_type": "stream",
       "stream": "stdout",
       "text": [
        "INFO  11:17:53,170 GenomeAnalysisEngine - Preparing for traversal \r\n",
        "INFO  11:17:53,171 GenomeAnalysisEngine - Done preparing for traversal \r\n",
        "INFO  11:17:53,171 ProgressMeter - [INITIALIZATION COMPLETE; STARTING PROCESSING] \r\n",
        "INFO  11:17:53,172 ProgressMeter -                 | processed |    time |    per 1M |           |   total | remaining \r\n",
        "INFO  11:17:53,172 ProgressMeter -        Location |     sites | elapsed |     sites | completed | runtime |   runtime \r\n",
        "INFO  11:17:53,175 ApplyRecalibration - Read tranche Tranche ts=90.00 minVQSLod=1.7994 known=(0 @ 0.0000) novel=(42205 @ 0.0000) truthSites(29956 accessible, 26960 called), name=VQSRTrancheINDEL0.00to90.00] \r\n",
        "INFO  11:17:53,175 ApplyRecalibration - Read tranche Tranche ts=99.00 minVQSLod=-0.0838 known=(0 @ 0.0000) novel=(53016 @ 0.0000) truthSites(29956 accessible, 29656 called), name=VQSRTrancheINDEL90.00to99.00] \r\n",
        "INFO  11:17:53,176 ApplyRecalibration - Read tranche Tranche ts=99.90 minVQSLod=-3.8311 known=(0 @ 0.0000) novel=(66265 @ 0.0000) truthSites(29956 accessible, 29926 called), name=VQSRTrancheINDEL99.00to99.90] \r\n",
        "INFO  11:17:53,176 ApplyRecalibration - Read tranche Tranche ts=100.00 minVQSLod=-109.2547 known=(0 @ 0.0000) novel=(70653 @ 0.0000) truthSites(29956 accessible, 29956 called), name=VQSRTrancheINDEL99.90to100.00] \r\n"
       ]
      },
      {
       "output_type": "stream",
       "stream": "stdout",
       "text": [
        "INFO  11:17:53,193 ApplyRecalibration - Keeping all variants in tranche Tranche ts=99.90 minVQSLod=-3.8311 known=(0 @ 0.0000) novel=(66265 @ 0.0000) truthSites(29956 accessible, 29926 called), name=VQSRTrancheINDEL99.00to99.90] \r\n"
       ]
      },
      {
       "output_type": "stream",
       "stream": "stdout",
       "text": [
        "INFO  11:17:55,627 ProgressMeter -            done    340699.0     2.0 s       7.0 s      100.0%     2.0 s       0.0 s \r\n",
        "INFO  11:17:55,628 ProgressMeter - Total runtime 2.46 secs, 0.04 min, 0.00 hours \r\n"
       ]
      },
      {
       "output_type": "stream",
       "stream": "stdout",
       "text": [
        "INFO  11:17:56,985 GATKRunReport - Uploaded run statistics report to AWS S3 \r\n"
       ]
      },
      {
       "output_type": "stream",
       "stream": "stdout",
       "text": [
        "INFO  11:17:59,055 HelpFormatter - -------------------------------------------------------------------------------- \r\n"
       ]
      },
      {
       "output_type": "stream",
       "stream": "stdout",
       "text": [
        "INFO  11:17:59,057 HelpFormatter - The Genome Analysis Toolkit (GATK) v3.4-0-g7e26428, Compiled 2015/05/15 03:25:41 \r\n",
        "INFO  11:17:59,057 HelpFormatter - Copyright (c) 2010 The Broad Institute \r\n",
        "INFO  11:17:59,057 HelpFormatter - For support and documentation go to http://www.broadinstitute.org/gatk \r\n",
        "INFO  11:17:59,061 HelpFormatter - Program Args: -T ApplyRecalibration -R /data/plasmodium/pfalciparum/recon/roamato/Pf3D7_v3/3D7_sorted.fa -input /nfs/team112_internal/production_files/Pf3k/methods/assembled_samples/vcfs/vcf/raw.snps.indels.Pf3D7_12_v3.vcf -tranchesFile /nfs/team112_internal/production_files/Pf3k/methods/assembled_samples/vcfs/vcf/recal/recalibrate_SNP.tranches -recalFile /nfs/team112_internal/production_files/Pf3k/methods/assembled_samples/vcfs/vcf/recal/recalibrate_SNP.recal --ts_filter_level 99.5 -mode SNP -o /nfs/team112_internal/production_files/Pf3k/methods/assembled_samples/vcfs/vcf/filtered.SNP.Pf3D7_12_v3.vcf \r\n",
        "INFO  11:17:59,068 HelpFormatter - Executing as rpearson@dhcp511.well.ox.ac.uk on Mac OS X 10.10.3 x86_64; Java HotSpot(TM) 64-Bit Server VM 1.7.0_60-b19. \r\n",
        "INFO  11:17:59,068 HelpFormatter - Date/Time: 2015/07/01 11:17:59 \r\n",
        "INFO  11:17:59,068 HelpFormatter - -------------------------------------------------------------------------------- \r\n",
        "INFO  11:17:59,069 HelpFormatter - -------------------------------------------------------------------------------- \r\n"
       ]
      },
      {
       "output_type": "stream",
       "stream": "stdout",
       "text": [
        "INFO  11:17:59,438 GenomeAnalysisEngine - Strictness is SILENT \r\n"
       ]
      },
      {
       "output_type": "stream",
       "stream": "stdout",
       "text": [
        "INFO  11:17:59,484 GenomeAnalysisEngine - Downsampling Settings: Method: BY_SAMPLE, Target Coverage: 1000 \r\n"
       ]
      },
      {
       "output_type": "stream",
       "stream": "stdout",
       "text": [
        "INFO  11:17:59,604 GenomeAnalysisEngine - Preparing for traversal \r\n",
        "INFO  11:17:59,605 GenomeAnalysisEngine - Done preparing for traversal \r\n",
        "INFO  11:17:59,605 ProgressMeter - [INITIALIZATION COMPLETE; STARTING PROCESSING] \r\n",
        "INFO  11:17:59,606 ProgressMeter -                 | processed |    time |    per 1M |           |   total | remaining \r\n",
        "INFO  11:17:59,606 ProgressMeter -        Location |     sites | elapsed |     sites | completed | runtime |   runtime \r\n",
        "INFO  11:17:59,609 ApplyRecalibration - Read tranche Tranche ts=90.00 minVQSLod=4.9978 known=(0 @ 0.0000) novel=(18035 @ 1.0227) truthSites(17968 accessible, 16171 called), name=VQSRTrancheSNP0.00to90.00] \r\n",
        "INFO  11:17:59,609 ApplyRecalibration - Read tranche Tranche ts=99.00 minVQSLod=0.4187 known=(0 @ 0.0000) novel=(27808 @ 0.9335) truthSites(17968 accessible, 17788 called), name=VQSRTrancheSNP90.00to99.00] \r\n",
        "INFO  11:17:59,609 ApplyRecalibration - Read tranche Tranche ts=99.90 minVQSLod=-4.6788 known=(0 @ 0.0000) novel=(48235 @ 0.8432) truthSites(17968 accessible, 17950 called), name=VQSRTrancheSNP99.00to99.90] \r\n",
        "INFO  11:17:59,610 ApplyRecalibration - Read tranche Tranche ts=100.00 minVQSLod=-301.4571 known=(0 @ 0.0000) novel=(101334 @ 0.8177) truthSites(17968 accessible, 17968 called), name=VQSRTrancheSNP99.90to100.00] \r\n",
        "INFO  11:17:59,627 ApplyRecalibration - Keeping all variants in tranche Tranche ts=99.90 minVQSLod=-4.6788 known=(0 @ 0.0000) novel=(48235 @ 0.8432) truthSites(17968 accessible, 17950 called), name=VQSRTrancheSNP99.00to99.90] \r\n"
       ]
      },
      {
       "output_type": "stream",
       "stream": "stdout",
       "text": [
        "INFO  11:18:01,966 ProgressMeter -            done    146123.0     2.0 s      16.0 s      100.0%     2.0 s       0.0 s \r\n",
        "INFO  11:18:01,966 ProgressMeter - Total runtime 2.36 secs, 0.04 min, 0.00 hours \r\n"
       ]
      },
      {
       "output_type": "stream",
       "stream": "stdout",
       "text": [
        "INFO  11:18:02,962 GATKRunReport - Uploaded run statistics report to AWS S3 \r\n"
       ]
      },
      {
       "output_type": "stream",
       "stream": "stdout",
       "text": [
        "INFO  11:18:05,057 HelpFormatter - -------------------------------------------------------------------------------- \r\n",
        "INFO  11:18:05,059 HelpFormatter - The Genome Analysis Toolkit (GATK) v3.4-0-g7e26428, Compiled 2015/05/15 03:25:41 \r\n",
        "INFO  11:18:05,059 HelpFormatter - Copyright (c) 2010 The Broad Institute \r\n",
        "INFO  11:18:05,059 HelpFormatter - For support and documentation go to http://www.broadinstitute.org/gatk \r\n",
        "INFO  11:18:05,063 HelpFormatter - Program Args: -T ApplyRecalibration -R /data/plasmodium/pfalciparum/recon/roamato/Pf3D7_v3/3D7_sorted.fa -input /nfs/team112_internal/production_files/Pf3k/methods/assembled_samples/vcfs/vcf/raw.snps.indels.Pf3D7_12_v3.vcf -tranchesFile /nfs/team112_internal/production_files/Pf3k/methods/assembled_samples/vcfs/vcf/recal/recalibrate_INDEL.tranches -recalFile /nfs/team112_internal/production_files/Pf3k/methods/assembled_samples/vcfs/vcf/recal/recalibrate_INDEL.recal --ts_filter_level 99.5 -mode INDEL -o /nfs/team112_internal/production_files/Pf3k/methods/assembled_samples/vcfs/vcf/filtered.INDEL.Pf3D7_12_v3.vcf \r\n",
        "INFO  11:18:05,071 HelpFormatter - Executing as rpearson@dhcp511.well.ox.ac.uk on Mac OS X 10.10.3 x86_64; Java HotSpot(TM) 64-Bit Server VM 1.7.0_60-b19. \r\n",
        "INFO  11:18:05,071 HelpFormatter - Date/Time: 2015/07/01 11:18:05 \r\n",
        "INFO  11:18:05,071 HelpFormatter - -------------------------------------------------------------------------------- \r\n",
        "INFO  11:18:05,071 HelpFormatter - -------------------------------------------------------------------------------- \r\n"
       ]
      },
      {
       "output_type": "stream",
       "stream": "stdout",
       "text": [
        "INFO  11:18:05,425 GenomeAnalysisEngine - Strictness is SILENT \r\n"
       ]
      },
      {
       "output_type": "stream",
       "stream": "stdout",
       "text": [
        "INFO  11:18:05,473 GenomeAnalysisEngine - Downsampling Settings: Method: BY_SAMPLE, Target Coverage: 1000 \r\n"
       ]
      },
      {
       "output_type": "stream",
       "stream": "stdout",
       "text": [
        "INFO  11:18:05,591 GenomeAnalysisEngine - Preparing for traversal \r\n",
        "INFO  11:18:05,592 GenomeAnalysisEngine - Done preparing for traversal \r\n",
        "INFO  11:18:05,592 ProgressMeter - [INITIALIZATION COMPLETE; STARTING PROCESSING] \r\n",
        "INFO  11:18:05,592 ProgressMeter -                 | processed |    time |    per 1M |           |   total | remaining \r\n",
        "INFO  11:18:05,593 ProgressMeter -        Location |     sites | elapsed |     sites | completed | runtime |   runtime \r\n",
        "INFO  11:18:05,595 ApplyRecalibration - Read tranche Tranche ts=90.00 minVQSLod=1.7994 known=(0 @ 0.0000) novel=(42205 @ 0.0000) truthSites(29956 accessible, 26960 called), name=VQSRTrancheINDEL0.00to90.00] \r\n",
        "INFO  11:18:05,596 ApplyRecalibration - Read tranche Tranche ts=99.00 minVQSLod=-0.0838 known=(0 @ 0.0000) novel=(53016 @ 0.0000) truthSites(29956 accessible, 29656 called), name=VQSRTrancheINDEL90.00to99.00] \r\n",
        "INFO  11:18:05,596 ApplyRecalibration - Read tranche Tranche ts=99.90 minVQSLod=-3.8311 known=(0 @ 0.0000) novel=(66265 @ 0.0000) truthSites(29956 accessible, 29926 called), name=VQSRTrancheINDEL99.00to99.90] \r\n",
        "INFO  11:18:05,597 ApplyRecalibration - Read tranche Tranche ts=100.00 minVQSLod=-109.2547 known=(0 @ 0.0000) novel=(70653 @ 0.0000) truthSites(29956 accessible, 29956 called), name=VQSRTrancheINDEL99.90to100.00] \r\n"
       ]
      },
      {
       "output_type": "stream",
       "stream": "stdout",
       "text": [
        "INFO  11:18:05,614 ApplyRecalibration - Keeping all variants in tranche Tranche ts=99.90 minVQSLod=-3.8311 known=(0 @ 0.0000) novel=(66265 @ 0.0000) truthSites(29956 accessible, 29926 called), name=VQSRTrancheINDEL99.00to99.90] \r\n"
       ]
      },
      {
       "output_type": "stream",
       "stream": "stdout",
       "text": [
        "INFO  11:18:08,060 ProgressMeter -            done    345601.0     2.0 s       7.0 s      100.0%     2.0 s       0.0 s \r\n",
        "INFO  11:18:08,061 ProgressMeter - Total runtime 2.47 secs, 0.04 min, 0.00 hours \r\n"
       ]
      },
      {
       "output_type": "stream",
       "stream": "stdout",
       "text": [
        "INFO  11:18:11,245 GATKRunReport - Uploaded run statistics report to AWS S3 \r\n"
       ]
      },
      {
       "output_type": "stream",
       "stream": "stdout",
       "text": [
        "INFO  11:18:13,407 HelpFormatter - -------------------------------------------------------------------------------- \r\n",
        "INFO  11:18:13,408 HelpFormatter - The Genome Analysis Toolkit (GATK) v3.4-0-g7e26428, Compiled 2015/05/15 03:25:41 \r\n",
        "INFO  11:18:13,409 HelpFormatter - Copyright (c) 2010 The Broad Institute \r\n",
        "INFO  11:18:13,409 HelpFormatter - For support and documentation go to http://www.broadinstitute.org/gatk \r\n",
        "INFO  11:18:13,412 HelpFormatter - Program Args: -T ApplyRecalibration -R /data/plasmodium/pfalciparum/recon/roamato/Pf3D7_v3/3D7_sorted.fa -input /nfs/team112_internal/production_files/Pf3k/methods/assembled_samples/vcfs/vcf/raw.snps.indels.Pf3D7_13_v3.vcf -tranchesFile /nfs/team112_internal/production_files/Pf3k/methods/assembled_samples/vcfs/vcf/recal/recalibrate_SNP.tranches -recalFile /nfs/team112_internal/production_files/Pf3k/methods/assembled_samples/vcfs/vcf/recal/recalibrate_SNP.recal --ts_filter_level 99.5 -mode SNP -o /nfs/team112_internal/production_files/Pf3k/methods/assembled_samples/vcfs/vcf/filtered.SNP.Pf3D7_13_v3.vcf \r\n",
        "INFO  11:18:13,418 HelpFormatter - Executing as rpearson@dhcp511.well.ox.ac.uk on Mac OS X 10.10.3 x86_64; Java HotSpot(TM) 64-Bit Server VM 1.7.0_60-b19. \r\n",
        "INFO  11:18:13,419 HelpFormatter - Date/Time: 2015/07/01 11:18:13 \r\n",
        "INFO  11:18:13,419 HelpFormatter - -------------------------------------------------------------------------------- \r\n",
        "INFO  11:18:13,419 HelpFormatter - -------------------------------------------------------------------------------- \r\n"
       ]
      },
      {
       "output_type": "stream",
       "stream": "stdout",
       "text": [
        "INFO  11:18:13,769 GenomeAnalysisEngine - Strictness is SILENT \r\n"
       ]
      },
      {
       "output_type": "stream",
       "stream": "stdout",
       "text": [
        "INFO  11:18:13,816 GenomeAnalysisEngine - Downsampling Settings: Method: BY_SAMPLE, Target Coverage: 1000 \r\n"
       ]
      },
      {
       "output_type": "stream",
       "stream": "stdout",
       "text": [
        "INFO  11:18:13,937 GenomeAnalysisEngine - Preparing for traversal \r\n",
        "INFO  11:18:13,938 GenomeAnalysisEngine - Done preparing for traversal \r\n",
        "INFO  11:18:13,939 ProgressMeter - [INITIALIZATION COMPLETE; STARTING PROCESSING] \r\n",
        "INFO  11:18:13,939 ProgressMeter -                 | processed |    time |    per 1M |           |   total | remaining \r\n",
        "INFO  11:18:13,939 ProgressMeter -        Location |     sites | elapsed |     sites | completed | runtime |   runtime \r\n",
        "INFO  11:18:13,943 ApplyRecalibration - Read tranche Tranche ts=90.00 minVQSLod=4.9978 known=(0 @ 0.0000) novel=(18035 @ 1.0227) truthSites(17968 accessible, 16171 called), name=VQSRTrancheSNP0.00to90.00] \r\n",
        "INFO  11:18:13,943 ApplyRecalibration - Read tranche Tranche ts=99.00 minVQSLod=0.4187 known=(0 @ 0.0000) novel=(27808 @ 0.9335) truthSites(17968 accessible, 17788 called), name=VQSRTrancheSNP90.00to99.00] \r\n",
        "INFO  11:18:13,943 ApplyRecalibration - Read tranche Tranche ts=99.90 minVQSLod=-4.6788 known=(0 @ 0.0000) novel=(48235 @ 0.8432) truthSites(17968 accessible, 17950 called), name=VQSRTrancheSNP99.00to99.90] \r\n",
        "INFO  11:18:13,944 ApplyRecalibration - Read tranche Tranche ts=100.00 minVQSLod=-301.4571 known=(0 @ 0.0000) novel=(101334 @ 0.8177) truthSites(17968 accessible, 17968 called), name=VQSRTrancheSNP99.90to100.00] \r\n"
       ]
      },
      {
       "output_type": "stream",
       "stream": "stdout",
       "text": [
        "INFO  11:18:13,961 ApplyRecalibration - Keeping all variants in tranche Tranche ts=99.90 minVQSLod=-4.6788 known=(0 @ 0.0000) novel=(48235 @ 0.8432) truthSites(17968 accessible, 17950 called), name=VQSRTrancheSNP99.00to99.90] \r\n"
       ]
      },
      {
       "output_type": "stream",
       "stream": "stdout",
       "text": [
        "INFO  11:18:16,137 ProgressMeter -            done    147069.0     2.0 s      14.0 s      100.0%     2.0 s       0.0 s \r\n",
        "INFO  11:18:16,137 ProgressMeter - Total runtime 2.20 secs, 0.04 min, 0.00 hours \r\n"
       ]
      },
      {
       "output_type": "stream",
       "stream": "stdout",
       "text": [
        "INFO  11:18:17,340 GATKRunReport - Uploaded run statistics report to AWS S3 \r\n"
       ]
      },
      {
       "output_type": "stream",
       "stream": "stdout",
       "text": [
        "INFO  11:18:19,404 HelpFormatter - -------------------------------------------------------------------------------- \r\n",
        "INFO  11:18:19,406 HelpFormatter - The Genome Analysis Toolkit (GATK) v3.4-0-g7e26428, Compiled 2015/05/15 03:25:41 \r\n",
        "INFO  11:18:19,406 HelpFormatter - Copyright (c) 2010 The Broad Institute \r\n",
        "INFO  11:18:19,406 HelpFormatter - For support and documentation go to http://www.broadinstitute.org/gatk \r\n",
        "INFO  11:18:19,409 HelpFormatter - Program Args: -T ApplyRecalibration -R /data/plasmodium/pfalciparum/recon/roamato/Pf3D7_v3/3D7_sorted.fa -input /nfs/team112_internal/production_files/Pf3k/methods/assembled_samples/vcfs/vcf/raw.snps.indels.Pf3D7_13_v3.vcf -tranchesFile /nfs/team112_internal/production_files/Pf3k/methods/assembled_samples/vcfs/vcf/recal/recalibrate_INDEL.tranches -recalFile /nfs/team112_internal/production_files/Pf3k/methods/assembled_samples/vcfs/vcf/recal/recalibrate_INDEL.recal --ts_filter_level 99.5 -mode INDEL -o /nfs/team112_internal/production_files/Pf3k/methods/assembled_samples/vcfs/vcf/filtered.INDEL.Pf3D7_13_v3.vcf \r\n",
        "INFO  11:18:19,417 HelpFormatter - Executing as rpearson@dhcp511.well.ox.ac.uk on Mac OS X 10.10.3 x86_64; Java HotSpot(TM) 64-Bit Server VM 1.7.0_60-b19. \r\n",
        "INFO  11:18:19,417 HelpFormatter - Date/Time: 2015/07/01 11:18:19 \r\n",
        "INFO  11:18:19,417 HelpFormatter - -------------------------------------------------------------------------------- \r\n",
        "INFO  11:18:19,417 HelpFormatter - -------------------------------------------------------------------------------- \r\n"
       ]
      },
      {
       "output_type": "stream",
       "stream": "stdout",
       "text": [
        "INFO  11:18:19,756 GenomeAnalysisEngine - Strictness is SILENT \r\n"
       ]
      },
      {
       "output_type": "stream",
       "stream": "stdout",
       "text": [
        "INFO  11:18:19,805 GenomeAnalysisEngine - Downsampling Settings: Method: BY_SAMPLE, Target Coverage: 1000 \r\n"
       ]
      },
      {
       "output_type": "stream",
       "stream": "stdout",
       "text": [
        "INFO  11:18:19,931 GenomeAnalysisEngine - Preparing for traversal \r\n",
        "INFO  11:18:19,932 GenomeAnalysisEngine - Done preparing for traversal \r\n",
        "INFO  11:18:19,933 ProgressMeter - [INITIALIZATION COMPLETE; STARTING PROCESSING] \r\n",
        "INFO  11:18:19,933 ProgressMeter -                 | processed |    time |    per 1M |           |   total | remaining \r\n",
        "INFO  11:18:19,933 ProgressMeter -        Location |     sites | elapsed |     sites | completed | runtime |   runtime \r\n",
        "INFO  11:18:19,936 ApplyRecalibration - Read tranche Tranche ts=90.00 minVQSLod=1.7994 known=(0 @ 0.0000) novel=(42205 @ 0.0000) truthSites(29956 accessible, 26960 called), name=VQSRTrancheINDEL0.00to90.00] \r\n",
        "INFO  11:18:19,937 ApplyRecalibration - Read tranche Tranche ts=99.00 minVQSLod=-0.0838 known=(0 @ 0.0000) novel=(53016 @ 0.0000) truthSites(29956 accessible, 29656 called), name=VQSRTrancheINDEL90.00to99.00] \r\n",
        "INFO  11:18:19,937 ApplyRecalibration - Read tranche Tranche ts=99.90 minVQSLod=-3.8311 known=(0 @ 0.0000) novel=(66265 @ 0.0000) truthSites(29956 accessible, 29926 called), name=VQSRTrancheINDEL99.00to99.90] \r\n",
        "INFO  11:18:19,938 ApplyRecalibration - Read tranche Tranche ts=100.00 minVQSLod=-109.2547 known=(0 @ 0.0000) novel=(70653 @ 0.0000) truthSites(29956 accessible, 29956 called), name=VQSRTrancheINDEL99.90to100.00] \r\n",
        "INFO  11:18:19,955 ApplyRecalibration - Keeping all variants in tranche Tranche ts=99.90 minVQSLod=-3.8311 known=(0 @ 0.0000) novel=(66265 @ 0.0000) truthSites(29956 accessible, 29926 called), name=VQSRTrancheINDEL99.00to99.90] \r\n"
       ]
      },
      {
       "output_type": "stream",
       "stream": "stdout",
       "text": [
        "INFO  11:18:22,014 ProgressMeter -            done    341613.0     2.0 s       6.0 s      100.0%     2.0 s       0.0 s \r\n",
        "INFO  11:18:22,015 ProgressMeter - Total runtime 2.08 secs, 0.03 min, 0.00 hours \r\n"
       ]
      },
      {
       "output_type": "stream",
       "stream": "stdout",
       "text": [
        "INFO  11:18:23,249 GATKRunReport - Uploaded run statistics report to AWS S3 \r\n"
       ]
      },
      {
       "output_type": "stream",
       "stream": "stdout",
       "text": [
        "INFO  11:18:25,370 HelpFormatter - -------------------------------------------------------------------------------- \r\n",
        "INFO  11:18:25,371 HelpFormatter - The Genome Analysis Toolkit (GATK) v3.4-0-g7e26428, Compiled 2015/05/15 03:25:41 \r\n",
        "INFO  11:18:25,372 HelpFormatter - Copyright (c) 2010 The Broad Institute \r\n",
        "INFO  11:18:25,372 HelpFormatter - For support and documentation go to http://www.broadinstitute.org/gatk \r\n",
        "INFO  11:18:25,375 HelpFormatter - Program Args: -T ApplyRecalibration -R /data/plasmodium/pfalciparum/recon/roamato/Pf3D7_v3/3D7_sorted.fa -input /nfs/team112_internal/production_files/Pf3k/methods/assembled_samples/vcfs/vcf/raw.snps.indels.Pf3D7_14_v3.vcf -tranchesFile /nfs/team112_internal/production_files/Pf3k/methods/assembled_samples/vcfs/vcf/recal/recalibrate_SNP.tranches -recalFile /nfs/team112_internal/production_files/Pf3k/methods/assembled_samples/vcfs/vcf/recal/recalibrate_SNP.recal --ts_filter_level 99.5 -mode SNP -o /nfs/team112_internal/production_files/Pf3k/methods/assembled_samples/vcfs/vcf/filtered.SNP.Pf3D7_14_v3.vcf \r\n",
        "INFO  11:18:25,382 HelpFormatter - Executing as rpearson@dhcp511.well.ox.ac.uk on Mac OS X 10.10.3 x86_64; Java HotSpot(TM) 64-Bit Server VM 1.7.0_60-b19. \r\n",
        "INFO  11:18:25,382 HelpFormatter - Date/Time: 2015/07/01 11:18:25 \r\n",
        "INFO  11:18:25,383 HelpFormatter - -------------------------------------------------------------------------------- \r\n",
        "INFO  11:18:25,383 HelpFormatter - -------------------------------------------------------------------------------- \r\n"
       ]
      },
      {
       "output_type": "stream",
       "stream": "stdout",
       "text": [
        "INFO  11:18:25,758 GenomeAnalysisEngine - Strictness is SILENT \r\n"
       ]
      },
      {
       "output_type": "stream",
       "stream": "stdout",
       "text": [
        "INFO  11:18:25,807 GenomeAnalysisEngine - Downsampling Settings: Method: BY_SAMPLE, Target Coverage: 1000 \r\n"
       ]
      },
      {
       "output_type": "stream",
       "stream": "stdout",
       "text": [
        "INFO  11:18:25,932 GenomeAnalysisEngine - Preparing for traversal \r\n",
        "INFO  11:18:25,933 GenomeAnalysisEngine - Done preparing for traversal \r\n",
        "INFO  11:18:25,933 ProgressMeter - [INITIALIZATION COMPLETE; STARTING PROCESSING] \r\n",
        "INFO  11:18:25,933 ProgressMeter -                 | processed |    time |    per 1M |           |   total | remaining \r\n",
        "INFO  11:18:25,934 ProgressMeter -        Location |     sites | elapsed |     sites | completed | runtime |   runtime \r\n",
        "INFO  11:18:25,936 ApplyRecalibration - Read tranche Tranche ts=90.00 minVQSLod=4.9978 known=(0 @ 0.0000) novel=(18035 @ 1.0227) truthSites(17968 accessible, 16171 called), name=VQSRTrancheSNP0.00to90.00] \r\n",
        "INFO  11:18:25,937 ApplyRecalibration - Read tranche Tranche ts=99.00 minVQSLod=0.4187 known=(0 @ 0.0000) novel=(27808 @ 0.9335) truthSites(17968 accessible, 17788 called), name=VQSRTrancheSNP90.00to99.00] \r\n",
        "INFO  11:18:25,937 ApplyRecalibration - Read tranche Tranche ts=99.90 minVQSLod=-4.6788 known=(0 @ 0.0000) novel=(48235 @ 0.8432) truthSites(17968 accessible, 17950 called), name=VQSRTrancheSNP99.00to99.90] \r\n",
        "INFO  11:18:25,938 ApplyRecalibration - Read tranche Tranche ts=100.00 minVQSLod=-301.4571 known=(0 @ 0.0000) novel=(101334 @ 0.8177) truthSites(17968 accessible, 17968 called), name=VQSRTrancheSNP99.90to100.00] \r\n",
        "INFO  11:18:25,955 ApplyRecalibration - Keeping all variants in tranche Tranche ts=99.90 minVQSLod=-4.6788 known=(0 @ 0.0000) novel=(48235 @ 0.8432) truthSites(17968 accessible, 17950 called), name=VQSRTrancheSNP99.00to99.90] \r\n"
       ]
      },
      {
       "output_type": "stream",
       "stream": "stdout",
       "text": [
        "INFO  11:18:28,108 ProgressMeter -            done    152996.0     2.0 s      14.0 s      100.0%     2.0 s       0.0 s \r\n",
        "INFO  11:18:28,109 ProgressMeter - Total runtime 2.18 secs, 0.04 min, 0.00 hours \r\n"
       ]
      },
      {
       "output_type": "stream",
       "stream": "stdout",
       "text": [
        "INFO  11:18:29,112 GATKRunReport - Uploaded run statistics report to AWS S3 \r\n"
       ]
      },
      {
       "output_type": "stream",
       "stream": "stdout",
       "text": [
        "INFO  11:18:31,141 HelpFormatter - -------------------------------------------------------------------------------- \r\n",
        "INFO  11:18:31,143 HelpFormatter - The Genome Analysis Toolkit (GATK) v3.4-0-g7e26428, Compiled 2015/05/15 03:25:41 \r\n",
        "INFO  11:18:31,143 HelpFormatter - Copyright (c) 2010 The Broad Institute \r\n",
        "INFO  11:18:31,143 HelpFormatter - For support and documentation go to http://www.broadinstitute.org/gatk \r\n"
       ]
      },
      {
       "output_type": "stream",
       "stream": "stdout",
       "text": [
        "INFO  11:18:31,148 HelpFormatter - Program Args: -T ApplyRecalibration -R /data/plasmodium/pfalciparum/recon/roamato/Pf3D7_v3/3D7_sorted.fa -input /nfs/team112_internal/production_files/Pf3k/methods/assembled_samples/vcfs/vcf/raw.snps.indels.Pf3D7_14_v3.vcf -tranchesFile /nfs/team112_internal/production_files/Pf3k/methods/assembled_samples/vcfs/vcf/recal/recalibrate_INDEL.tranches -recalFile /nfs/team112_internal/production_files/Pf3k/methods/assembled_samples/vcfs/vcf/recal/recalibrate_INDEL.recal --ts_filter_level 99.5 -mode INDEL -o /nfs/team112_internal/production_files/Pf3k/methods/assembled_samples/vcfs/vcf/filtered.INDEL.Pf3D7_14_v3.vcf \r\n"
       ]
      },
      {
       "output_type": "stream",
       "stream": "stdout",
       "text": [
        "INFO  11:18:31,307 HelpFormatter - Executing as rpearson@dhcp511.well.ox.ac.uk on Mac OS X 10.10.3 x86_64; Java HotSpot(TM) 64-Bit Server VM 1.7.0_60-b19. \r\n",
        "INFO  11:18:31,307 HelpFormatter - Date/Time: 2015/07/01 11:18:31 \r\n",
        "INFO  11:18:31,307 HelpFormatter - -------------------------------------------------------------------------------- \r\n",
        "INFO  11:18:31,307 HelpFormatter - -------------------------------------------------------------------------------- \r\n"
       ]
      },
      {
       "output_type": "stream",
       "stream": "stdout",
       "text": [
        "INFO  11:18:31,673 GenomeAnalysisEngine - Strictness is SILENT \r\n",
        "INFO  11:18:31,721 GenomeAnalysisEngine - Downsampling Settings: Method: BY_SAMPLE, Target Coverage: 1000 \r\n"
       ]
      },
      {
       "output_type": "stream",
       "stream": "stdout",
       "text": [
        "INFO  11:18:31,857 GenomeAnalysisEngine - Preparing for traversal \r\n",
        "INFO  11:18:31,858 GenomeAnalysisEngine - Done preparing for traversal \r\n",
        "INFO  11:18:31,859 ProgressMeter - [INITIALIZATION COMPLETE; STARTING PROCESSING] \r\n",
        "INFO  11:18:31,859 ProgressMeter -                 | processed |    time |    per 1M |           |   total | remaining \r\n",
        "INFO  11:18:31,859 ProgressMeter -        Location |     sites | elapsed |     sites | completed | runtime |   runtime \r\n",
        "INFO  11:18:31,862 ApplyRecalibration - Read tranche Tranche ts=90.00 minVQSLod=1.7994 known=(0 @ 0.0000) novel=(42205 @ 0.0000) truthSites(29956 accessible, 26960 called), name=VQSRTrancheINDEL0.00to90.00] \r\n",
        "INFO  11:18:31,863 ApplyRecalibration - Read tranche Tranche ts=99.00 minVQSLod=-0.0838 known=(0 @ 0.0000) novel=(53016 @ 0.0000) truthSites(29956 accessible, 29656 called), name=VQSRTrancheINDEL90.00to99.00] \r\n",
        "INFO  11:18:31,863 ApplyRecalibration - Read tranche Tranche ts=99.90 minVQSLod=-3.8311 known=(0 @ 0.0000) novel=(66265 @ 0.0000) truthSites(29956 accessible, 29926 called), name=VQSRTrancheINDEL99.00to99.90] \r\n",
        "INFO  11:18:31,864 ApplyRecalibration - Read tranche Tranche ts=100.00 minVQSLod=-109.2547 known=(0 @ 0.0000) novel=(70653 @ 0.0000) truthSites(29956 accessible, 29956 called), name=VQSRTrancheINDEL99.90to100.00] \r\n"
       ]
      },
      {
       "output_type": "stream",
       "stream": "stdout",
       "text": [
        "INFO  11:18:31,884 ApplyRecalibration - Keeping all variants in tranche Tranche ts=99.90 minVQSLod=-3.8311 known=(0 @ 0.0000) novel=(66265 @ 0.0000) truthSites(29956 accessible, 29926 called), name=VQSRTrancheINDEL99.00to99.90] \r\n"
       ]
      },
      {
       "output_type": "stream",
       "stream": "stdout",
       "text": [
        "INFO  11:18:34,044 ProgressMeter -            done    339946.0     2.0 s       6.0 s      100.0%     2.0 s       0.0 s \r\n",
        "INFO  11:18:34,045 ProgressMeter - Total runtime 2.19 secs, 0.04 min, 0.00 hours \r\n"
       ]
      },
      {
       "output_type": "stream",
       "stream": "stdout",
       "text": [
        "INFO  11:18:35,936 GATKRunReport - Uploaded run statistics report to AWS S3 \r\n"
       ]
      }
     ],
     "prompt_number": 146
    },
    {
     "cell_type": "code",
     "collapsed": false,
     "input": [],
     "language": "python",
     "metadata": {},
     "outputs": []
    }
   ],
   "metadata": {}
  }
 ]
}