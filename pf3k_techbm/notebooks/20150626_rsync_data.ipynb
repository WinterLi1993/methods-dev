{
 "metadata": {
  "name": "",
  "signature": "sha256:ca3e26835e18eb49b48bbbc5c1524ac14144ab559f4ed4ca73b62af772119a1f"
 },
 "nbformat": 3,
 "nbformat_minor": 0,
 "worksheets": [
  {
   "cells": [
    {
     "cell_type": "code",
     "collapsed": false,
     "input": [
      "team112_dir = '/nfs/team112_internal/production_files/Pf3k/methods'\n",
      "tdo_dir = '/nfs/pathogen003/tdo/Pf3K/SNPset/Pf3D7vsPfIT'\n",
      "tdo2_dir = '/nfs/pathogen003/tdo/Pfalciparum/PF3K/Reference12Genomes/embl_V1/Fasta_inChromosomes'"
     ],
     "language": "python",
     "metadata": {},
     "outputs": [],
     "prompt_number": 4
    },
    {
     "cell_type": "code",
     "collapsed": false,
     "input": [
      "!mkdir -p {team112_dir}\n",
      "!mkdir -p {tdo_dir}\n",
      "!mkdir -p {tdo2_dir}\n",
      "!mkdir ../log"
     ],
     "language": "python",
     "metadata": {},
     "outputs": [
      {
       "output_type": "stream",
       "stream": "stdout",
       "text": [
        "mkdir: ../log: File exists\r\n"
       ]
      }
     ],
     "prompt_number": 6
    },
    {
     "cell_type": "code",
     "collapsed": false,
     "input": [
      "# !rsync -avL rp7@malsrv2:{team112_dir}/ {team112_dir} > ../log/20150626_team112_dir.log\n",
      "# !rsync -avL rp7@malsrv2:{tdo_dir}/ {tdo_dir} > ../log/20150626_tdo_dir.log\n",
      "!rsync -avL rp7@malsrv2:{tdo2_dir}/ {tdo2_dir} > ../log/20150626_tdo2_dir.log\n"
     ],
     "language": "python",
     "metadata": {},
     "outputs": [],
     "prompt_number": 8
    }
   ],
   "metadata": {}
  }
 ]
}