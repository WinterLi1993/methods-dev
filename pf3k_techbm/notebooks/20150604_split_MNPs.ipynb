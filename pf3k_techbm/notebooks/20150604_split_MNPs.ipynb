{
 "metadata": {
  "name": "",
  "signature": "sha256:89f97492d5100f2ba263f59668e9f045d1301a8e56d5c45dc91516a1ff45463f"
 },
 "nbformat": 3,
 "nbformat_minor": 0,
 "worksheets": [
  {
   "cells": [
    {
     "cell_type": "heading",
     "level": 1,
     "metadata": {},
     "source": [
      "Setup"
     ]
    },
    {
     "cell_type": "code",
     "collapsed": false,
     "input": [
      "from collections import OrderedDict"
     ],
     "language": "python",
     "metadata": {},
     "outputs": [],
     "prompt_number": 1
    },
    {
     "cell_type": "code",
     "collapsed": false,
     "input": [
      "methods = ['freebayes', 'HC', 'mpileup', 'pilon', 'platypus', 'UGT']\n",
      "\n",
      "vcf_files = OrderedDict()\n",
      "vcf_files['feb_2015'] = OrderedDict()\n",
      "vcf_files['nov_2014'] = OrderedDict()\n",
      "\n",
      "for method in methods:\n",
      "    \n"
     ],
     "language": "python",
     "metadata": {},
     "outputs": []
    }
   ],
   "metadata": {}
  }
 ]
}