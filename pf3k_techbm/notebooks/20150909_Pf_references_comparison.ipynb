{
 "metadata": {
  "name": "",
  "signature": "sha256:d6b67672ee8ac8e1a58a07276c3e80d6e2592c192942322a6a7a12fe2c7f5297"
 },
 "nbformat": 3,
 "nbformat_minor": 0,
 "worksheets": [
  {
   "cells": [
    {
     "cell_type": "code",
     "collapsed": false,
     "input": [
      "%run standard_imports.ipynb"
     ],
     "language": "python",
     "metadata": {},
     "outputs": [
      {
       "output_type": "stream",
       "stream": "stdout",
       "text": [
        "python 3.4.1 |Anaconda 2.1.0 (x86_64)| (default, Sep 10 2014, 17:24:09) \n",
        "[GCC 4.2.1 (Apple Inc. build 5577)]\n",
        "numpy 1.9.2\n",
        "scipy 0.14.0\n",
        "pandas 0.14.1\n",
        "numexpr 2.3.1\n",
        "pysam 0.8.3\n",
        "petl 1.0.10\n",
        "petlx 1.0.3\n",
        "vcf 0.6.7\n",
        "h5py 2.3.1\n",
        "tables 3.1.1\n",
        "vcfplt 0.8\n"
       ]
      }
     ],
     "prompt_number": 2
    },
    {
     "cell_type": "code",
     "collapsed": false,
     "input": [
      "latest_genedb_fasta_url = 'ftp://ftp.sanger.ac.uk/pub/project/pathogens/gff3/2015-08/Pfalciparum.genome.fasta.gz'\n",
      "latest_plasmodb_fasta_url = 'http://www.plasmodb.org/common/downloads/release-25/Pfalciparum3D7/fasta/data/PlasmoDB-25_Pfalciparum3D7_Genome.fasta'\n",
      "my_fasta = '/lustre/scratch110/malaria/dj6/pf3k/resources/Pfalciparum.genome.fasta'\n",
      "old_fasta = '/lustre/scratch109/malaria/pfalciparum/resources/3D7_V3.fasta'"
     ],
     "language": "python",
     "metadata": {},
     "outputs": [],
     "prompt_number": 20
    },
    {
     "cell_type": "code",
     "collapsed": false,
     "input": [
      "!wget {latest_genedb_fasta_url}"
     ],
     "language": "python",
     "metadata": {},
     "outputs": [
      {
       "output_type": "stream",
       "stream": "stdout",
       "text": [
        "--2015-09-09 11:14:22--  ftp://ftp.sanger.ac.uk/pub/project/pathogens/gff3/2015-08/Pfalciparum.genome.fasta.gz\r\n",
        "           => 'Pfalciparum.genome.fasta.gz'\r\n",
        "Resolving ftp.sanger.ac.uk... "
       ]
      },
      {
       "output_type": "stream",
       "stream": "stdout",
       "text": [
        "193.62.203.17\r\n",
        "Connecting to ftp.sanger.ac.uk|193.62.203.17|:21... connected.\r\n",
        "Logging in as anonymous ... "
       ]
      },
      {
       "output_type": "stream",
       "stream": "stdout",
       "text": [
        "Logged in!\r\n",
        "==> SYST ... "
       ]
      },
      {
       "output_type": "stream",
       "stream": "stdout",
       "text": [
        "done.    ==> PWD ... "
       ]
      },
      {
       "output_type": "stream",
       "stream": "stdout",
       "text": [
        "done.\r\n",
        "==> TYPE I ... "
       ]
      },
      {
       "output_type": "stream",
       "stream": "stdout",
       "text": [
        "done.  ==> CWD (1) /pub/project/pathogens/gff3/2015-08 ... "
       ]
      },
      {
       "output_type": "stream",
       "stream": "stdout",
       "text": [
        "done.\r\n",
        "==> SIZE Pfalciparum.genome.fasta.gz ... "
       ]
      },
      {
       "output_type": "stream",
       "stream": "stdout",
       "text": [
        "6316559\r\n",
        "==> PASV ... "
       ]
      },
      {
       "output_type": "stream",
       "stream": "stdout",
       "text": [
        "done.    ==> RETR Pfalciparum.genome.fasta.gz ... "
       ]
      },
      {
       "output_type": "stream",
       "stream": "stdout",
       "text": [
        "done.\r\n",
        "Length: 6316559 (6.0M) (unauthoritative)\r\n",
        "\r\n",
        "\r",
        " 0% [                                       ] 0           --.-K/s              "
       ]
      },
      {
       "output_type": "stream",
       "stream": "stdout",
       "text": [
        "\r",
        " 0% [                                       ] 16,128      76.2KB/s             "
       ]
      },
      {
       "output_type": "stream",
       "stream": "stdout",
       "text": [
        "\r",
        " 0% [                                       ] 61,824       101KB/s             "
       ]
      },
      {
       "output_type": "stream",
       "stream": "stdout",
       "text": [
        "\r",
        " 1% [                                       ] 92,736       105KB/s             "
       ]
      },
      {
       "output_type": "stream",
       "stream": "stdout",
       "text": [
        "\r",
        " 2% [                                       ] 159,936      142KB/s             "
       ]
      },
      {
       "output_type": "stream",
       "stream": "stdout",
       "text": [
        "\r",
        " 3% [>                                      ] 192,192      142KB/s             "
       ]
      },
      {
       "output_type": "stream",
       "stream": "stdout",
       "text": [
        "\r",
        " 3% [>                                      ] 229,824      145KB/s             "
       ]
      },
      {
       "output_type": "stream",
       "stream": "stdout",
       "text": [
        "\r",
        " 4% [>                                      ] 275,520      151KB/s             "
       ]
      },
      {
       "output_type": "stream",
       "stream": "stdout",
       "text": [
        "\r",
        " 5% [=>                                     ] 338,688      162KB/s             "
       ]
      },
      {
       "output_type": "stream",
       "stream": "stdout",
       "text": [
        "\r",
        " 5% [=>                                     ] 366,912      152KB/s             "
       ]
      },
      {
       "output_type": "stream",
       "stream": "stdout",
       "text": [
        "\r",
        " 6% [=>                                     ] 428,736      150KB/s             "
       ]
      },
      {
       "output_type": "stream",
       "stream": "stdout",
       "text": [
        "\r",
        " 7% [=>                                     ] 467,840      151KB/s  eta 38s    "
       ]
      },
      {
       "output_type": "stream",
       "stream": "stdout",
       "text": [
        "\r",
        " 8% [==>                                    ] 540,288      163KB/s  eta 38s    "
       ]
      },
      {
       "output_type": "stream",
       "stream": "stdout",
       "text": [
        "\r",
        " 9% [==>                                    ] 590,016      164KB/s  eta 38s    "
       ]
      },
      {
       "output_type": "stream",
       "stream": "stdout",
       "text": [
        "\r",
        "10% [===>                                   ] 667,968      173KB/s  eta 38s    "
       ]
      },
      {
       "output_type": "stream",
       "stream": "stdout",
       "text": [
        "\r",
        "11% [===>                                   ] 717,696      176KB/s  eta 38s    "
       ]
      },
      {
       "output_type": "stream",
       "stream": "stdout",
       "text": [
        "\r",
        "12% [===>                                   ] 775,488      178KB/s  eta 30s    "
       ]
      },
      {
       "output_type": "stream",
       "stream": "stdout",
       "text": [
        "\r",
        "12% [====>                                  ] 819,584      185KB/s  eta 30s    "
       ]
      },
      {
       "output_type": "stream",
       "stream": "stdout",
       "text": [
        "\r",
        "13% [====>                                  ] 846,848      176KB/s  eta 30s    "
       ]
      },
      {
       "output_type": "stream",
       "stream": "stdout",
       "text": [
        "\r",
        "14% [====>                                  ] 930,048      186KB/s  eta 30s    "
       ]
      },
      {
       "output_type": "stream",
       "stream": "stdout",
       "text": [
        "\r",
        "15% [=====>                                 ] 981,120      189KB/s  eta 30s    "
       ]
      },
      {
       "output_type": "stream",
       "stream": "stdout",
       "text": [
        "\r",
        "16% [=====>                                 ] 1,022,784    184KB/s  eta 30s    "
       ]
      },
      {
       "output_type": "stream",
       "stream": "stdout",
       "text": [
        "\r",
        "17% [=====>                                 ] 1,081,664    186KB/s  eta 30s    "
       ]
      },
      {
       "output_type": "stream",
       "stream": "stdout",
       "text": [
        "\r",
        "17% [=====>                                 ] 1,128,960    182KB/s  eta 30s    "
       ]
      },
      {
       "output_type": "stream",
       "stream": "stdout",
       "text": [
        "\r",
        "18% [======>                                ] 1,173,312    183KB/s  eta 28s    "
       ]
      },
      {
       "output_type": "stream",
       "stream": "stdout",
       "text": [
        "\r",
        "19% [======>                                ] 1,206,912    188KB/s  eta 28s    "
       ]
      },
      {
       "output_type": "stream",
       "stream": "stdout",
       "text": [
        "\r",
        "19% [======>                                ] 1,253,952    196KB/s  eta 28s    "
       ]
      },
      {
       "output_type": "stream",
       "stream": "stdout",
       "text": [
        "\r",
        "20% [=======>                               ] 1,305,024    199KB/s  eta 28s    "
       ]
      },
      {
       "output_type": "stream",
       "stream": "stdout",
       "text": [
        "\r",
        "21% [=======>                               ] 1,350,720    195KB/s  eta 28s    "
       ]
      },
      {
       "output_type": "stream",
       "stream": "stdout",
       "text": [
        "\r",
        "22% [=======>                               ] 1,396,416    187KB/s  eta 27s    "
       ]
      },
      {
       "output_type": "stream",
       "stream": "stdout",
       "text": [
        "\r",
        "22% [=======>                               ] 1,439,168    181KB/s  eta 27s    "
       ]
      },
      {
       "output_type": "stream",
       "stream": "stdout",
       "text": [
        "\r",
        "23% [========>                              ] 1,481,088    180KB/s  eta 27s    "
       ]
      },
      {
       "output_type": "stream",
       "stream": "stdout",
       "text": [
        "\r",
        "24% [========>                              ] 1,530,944    168KB/s  eta 27s    "
       ]
      },
      {
       "output_type": "stream",
       "stream": "stdout",
       "text": [
        "\r",
        "25% [========>                              ] 1,584,704    168KB/s  eta 27s    "
       ]
      },
      {
       "output_type": "stream",
       "stream": "stdout",
       "text": [
        "\r",
        "25% [=========>                             ] 1,628,928    180KB/s  eta 27s    "
       ]
      },
      {
       "output_type": "stream",
       "stream": "stdout",
       "text": [
        "\r",
        "26% [=========>                             ] 1,642,368    159KB/s  eta 27s    "
       ]
      },
      {
       "output_type": "stream",
       "stream": "stdout",
       "text": [
        "\r",
        "26% [=========>                             ] 1,694,528    161KB/s  eta 27s    "
       ]
      },
      {
       "output_type": "stream",
       "stream": "stdout",
       "text": [
        "\r",
        "27% [=========>                             ] 1,733,760    158KB/s  eta 27s    "
       ]
      },
      {
       "output_type": "stream",
       "stream": "stdout",
       "text": [
        "\r",
        "27% [=========>                             ] 1,761,984    153KB/s  eta 27s    "
       ]
      },
      {
       "output_type": "stream",
       "stream": "stdout",
       "text": [
        "\r",
        "28% [==========>                            ] 1,788,864    152KB/s  eta 27s    "
       ]
      },
      {
       "output_type": "stream",
       "stream": "stdout",
       "text": [
        "\r",
        "28% [==========>                            ] 1,819,520    146KB/s  eta 27s    "
       ]
      },
      {
       "output_type": "stream",
       "stream": "stdout",
       "text": [
        "\r",
        "29% [==========>                            ] 1,857,408    144KB/s  eta 27s    "
       ]
      },
      {
       "output_type": "stream",
       "stream": "stdout",
       "text": [
        "\r",
        "29% [==========>                            ] 1,891,008    142KB/s  eta 27s    "
       ]
      },
      {
       "output_type": "stream",
       "stream": "stdout",
       "text": [
        "\r",
        "30% [==========>                            ] 1,923,264    132KB/s  eta 27s    "
       ]
      },
      {
       "output_type": "stream",
       "stream": "stdout",
       "text": [
        "\r",
        "31% [===========>                           ] 1,971,648    132KB/s  eta 26s    "
       ]
      },
      {
       "output_type": "stream",
       "stream": "stdout",
       "text": [
        "\r",
        "31% [===========>                           ] 2,016,000    128KB/s  eta 26s    "
       ]
      },
      {
       "output_type": "stream",
       "stream": "stdout",
       "text": [
        "\r",
        "32% [===========>                           ] 2,044,224    124KB/s  eta 26s    "
       ]
      },
      {
       "output_type": "stream",
       "stream": "stdout",
       "text": [
        "\r",
        "32% [===========>                           ] 2,080,640    123KB/s  eta 26s    "
       ]
      },
      {
       "output_type": "stream",
       "stream": "stdout",
       "text": [
        "\r",
        "33% [============>                          ] 2,123,520    123KB/s  eta 26s    "
       ]
      },
      {
       "output_type": "stream",
       "stream": "stdout",
       "text": [
        "\r",
        "34% [============>                          ] 2,150,400    126KB/s  eta 26s    "
       ]
      },
      {
       "output_type": "stream",
       "stream": "stdout",
       "text": [
        "\r",
        "34% [============>                          ] 2,173,248    127KB/s  eta 26s    "
       ]
      },
      {
       "output_type": "stream",
       "stream": "stdout",
       "text": [
        "\r",
        "35% [============>                          ] 2,216,000    126KB/s  eta 26s    "
       ]
      },
      {
       "output_type": "stream",
       "stream": "stdout",
       "text": [
        "\r",
        "35% [============>                          ] 2,247,168    125KB/s  eta 26s    "
       ]
      },
      {
       "output_type": "stream",
       "stream": "stdout",
       "text": [
        "\r",
        "36% [=============>                         ] 2,286,144    129KB/s  eta 26s    "
       ]
      },
      {
       "output_type": "stream",
       "stream": "stdout",
       "text": [
        "\r",
        "36% [=============>                         ] 2,315,456    129KB/s  eta 26s    "
       ]
      },
      {
       "output_type": "stream",
       "stream": "stdout",
       "text": [
        "\r",
        "37% [=============>                         ] 2,344,064    126KB/s  eta 26s    "
       ]
      },
      {
       "output_type": "stream",
       "stream": "stdout",
       "text": [
        "\r",
        "37% [=============>                         ] 2,392,448    129KB/s  eta 26s    "
       ]
      },
      {
       "output_type": "stream",
       "stream": "stdout",
       "text": [
        "\r",
        "38% [==============>                        ] 2,433,984    132KB/s  eta 25s    "
       ]
      },
      {
       "output_type": "stream",
       "stream": "stdout",
       "text": [
        "\r",
        "39% [==============>                        ] 2,474,304    136KB/s  eta 25s    "
       ]
      },
      {
       "output_type": "stream",
       "stream": "stdout",
       "text": [
        "\r",
        "40% [==============>                        ] 2,540,288    142KB/s  eta 25s    "
       ]
      },
      {
       "output_type": "stream",
       "stream": "stdout",
       "text": [
        "\r",
        "40% [==============>                        ] 2,575,104    144KB/s  eta 25s    "
       ]
      },
      {
       "output_type": "stream",
       "stream": "stdout",
       "text": [
        "\r",
        "41% [===============>                       ] 2,616,768    145KB/s  eta 25s    "
       ]
      },
      {
       "output_type": "stream",
       "stream": "stdout",
       "text": [
        "\r",
        "42% [===============>                       ] 2,667,840    151KB/s  eta 23s    "
       ]
      },
      {
       "output_type": "stream",
       "stream": "stdout",
       "text": [
        "\r",
        "43% [===============>                       ] 2,720,000    154KB/s  eta 23s    "
       ]
      },
      {
       "output_type": "stream",
       "stream": "stdout",
       "text": [
        "\r",
        "43% [================>                      ] 2,776,704    161KB/s  eta 23s    "
       ]
      },
      {
       "output_type": "stream",
       "stream": "stdout",
       "text": [
        "\r",
        "44% [================>                      ] 2,833,152    168KB/s  eta 23s    "
       ]
      },
      {
       "output_type": "stream",
       "stream": "stdout",
       "text": [
        "\r",
        "45% [================>                      ] 2,876,160    172KB/s  eta 23s    "
       ]
      },
      {
       "output_type": "stream",
       "stream": "stdout",
       "text": [
        "\r",
        "46% [=================>                     ] 2,942,016    183KB/s  eta 20s    "
       ]
      },
      {
       "output_type": "stream",
       "stream": "stdout",
       "text": [
        "\r",
        "47% [=================>                     ] 2,970,240    180KB/s  eta 20s    "
       ]
      },
      {
       "output_type": "stream",
       "stream": "stdout",
       "text": [
        "\r",
        "48% [=================>                     ] 3,051,008    191KB/s  eta 20s    "
       ]
      },
      {
       "output_type": "stream",
       "stream": "stdout",
       "text": [
        "\r",
        "49% [==================>                    ] 3,103,296    195KB/s  eta 20s    "
       ]
      },
      {
       "output_type": "stream",
       "stream": "stdout",
       "text": [
        "\r",
        "49% [==================>                    ] 3,150,080    196KB/s  eta 19s    "
       ]
      },
      {
       "output_type": "stream",
       "stream": "stdout",
       "text": [
        "\r",
        "50% [==================>                    ] 3,182,592    194KB/s  eta 19s    "
       ]
      },
      {
       "output_type": "stream",
       "stream": "stdout",
       "text": [
        "\r",
        "51% [==================>                    ] 3,222,912    196KB/s  eta 19s    "
       ]
      },
      {
       "output_type": "stream",
       "stream": "stdout",
       "text": [
        "\r",
        "51% [===================>                   ] 3,251,136    193KB/s  eta 19s    "
       ]
      },
      {
       "output_type": "stream",
       "stream": "stdout",
       "text": [
        "\r",
        "51% [===================>                   ] 3,281,792    183KB/s  eta 18s    "
       ]
      },
      {
       "output_type": "stream",
       "stream": "stdout",
       "text": [
        "\r",
        "52% [===================>                   ] 3,315,392    181KB/s  eta 18s    "
       ]
      },
      {
       "output_type": "stream",
       "stream": "stdout",
       "text": [
        "\r",
        "52% [===================>                   ] 3,339,584    179KB/s  eta 18s    "
       ]
      },
      {
       "output_type": "stream",
       "stream": "stdout",
       "text": [
        "\r",
        "53% [===================>                   ] 3,374,784    170KB/s  eta 18s    "
       ]
      },
      {
       "output_type": "stream",
       "stream": "stdout",
       "text": [
        "\r",
        "53% [====================>                  ] 3,401,408    162KB/s  eta 18s    "
       ]
      },
      {
       "output_type": "stream",
       "stream": "stdout",
       "text": [
        "\r",
        "54% [====================>                  ] 3,437,952    160KB/s  eta 18s    "
       ]
      },
      {
       "output_type": "stream",
       "stream": "stdout",
       "text": [
        "\r",
        "54% [====================>                  ] 3,467,520    158KB/s  eta 18s    "
       ]
      },
      {
       "output_type": "stream",
       "stream": "stdout",
       "text": [
        "\r",
        "55% [====================>                  ] 3,483,392    146KB/s  eta 18s    "
       ]
      },
      {
       "output_type": "stream",
       "stream": "stdout",
       "text": [
        "\r",
        "55% [====================>                  ] 3,509,184    125KB/s  eta 18s    "
       ]
      },
      {
       "output_type": "stream",
       "stream": "stdout",
       "text": [
        "\r",
        "56% [====================>                  ] 3,552,192    120KB/s  eta 17s    "
       ]
      },
      {
       "output_type": "stream",
       "stream": "stdout",
       "text": [
        "\r",
        "56% [=====================>                 ] 3,593,856    126KB/s  eta 17s    "
       ]
      },
      {
       "output_type": "stream",
       "stream": "stdout",
       "text": [
        "\r",
        "57% [=====================>                 ] 3,651,392    130KB/s  eta 17s    "
       ]
      },
      {
       "output_type": "stream",
       "stream": "stdout",
       "text": [
        "\r",
        "58% [=====================>                 ] 3,697,344    132KB/s  eta 17s    "
       ]
      },
      {
       "output_type": "stream",
       "stream": "stdout",
       "text": [
        "\r",
        "59% [======================>                ] 3,760,512    135KB/s  eta 16s    "
       ]
      },
      {
       "output_type": "stream",
       "stream": "stdout",
       "text": [
        "\r",
        "60% [======================>                ] 3,811,584    138KB/s  eta 16s    "
       ]
      },
      {
       "output_type": "stream",
       "stream": "stdout",
       "text": [
        "\r",
        "61% [======================>                ] 3,862,656    143KB/s  eta 16s    "
       ]
      },
      {
       "output_type": "stream",
       "stream": "stdout",
       "text": [
        "\r",
        "62% [=======================>               ] 3,955,392    154KB/s  eta 16s    "
       ]
      },
      {
       "output_type": "stream",
       "stream": "stdout",
       "text": [
        "\r",
        "62% [=======================>               ] 3,979,328    156KB/s  eta 14s    "
       ]
      },
      {
       "output_type": "stream",
       "stream": "stdout",
       "text": [
        "\r",
        "63% [=======================>               ] 4,038,720    162KB/s  eta 14s    "
       ]
      },
      {
       "output_type": "stream",
       "stream": "stdout",
       "text": [
        "\r",
        "65% [========================>              ] 4,106,048    169KB/s  eta 14s    "
       ]
      },
      {
       "output_type": "stream",
       "stream": "stdout",
       "text": [
        "\r",
        "65% [========================>              ] 4,152,960    173KB/s  eta 14s    "
       ]
      },
      {
       "output_type": "stream",
       "stream": "stdout",
       "text": [
        "\r",
        "66% [========================>              ] 4,195,968    177KB/s  eta 13s    "
       ]
      },
      {
       "output_type": "stream",
       "stream": "stdout",
       "text": [
        "\r",
        "67% [=========================>             ] 4,256,448    186KB/s  eta 13s    "
       ]
      },
      {
       "output_type": "stream",
       "stream": "stdout",
       "text": [
        "\r",
        "68% [=========================>             ] 4,296,512    188KB/s  eta 13s    "
       ]
      },
      {
       "output_type": "stream",
       "stream": "stdout",
       "text": [
        "\r",
        "69% [=========================>             ] 4,365,312    199KB/s  eta 13s    "
       ]
      },
      {
       "output_type": "stream",
       "stream": "stdout",
       "text": [
        "\r",
        "69% [==========================>            ] 4,419,072    200KB/s  eta 13s    "
       ]
      },
      {
       "output_type": "stream",
       "stream": "stdout",
       "text": [
        "\r",
        "70% [==========================>            ] 4,483,584    202KB/s  eta 11s    "
       ]
      },
      {
       "output_type": "stream",
       "stream": "stdout",
       "text": [
        "\r",
        "71% [==========================>            ] 4,530,624    196KB/s  eta 11s    "
       ]
      },
      {
       "output_type": "stream",
       "stream": "stdout",
       "text": [
        "\r",
        "72% [===========================>           ] 4,603,328    210KB/s  eta 11s    "
       ]
      },
      {
       "output_type": "stream",
       "stream": "stdout",
       "text": [
        "\r",
        "73% [===========================>           ] 4,648,896    210KB/s  eta 11s    "
       ]
      },
      {
       "output_type": "stream",
       "stream": "stdout",
       "text": [
        "\r",
        "76% [============================>          ] 4,837,056    242KB/s  eta 8s     "
       ]
      },
      {
       "output_type": "stream",
       "stream": "stdout",
       "text": [
        "\r",
        "80% [==============================>        ] 5,085,824    292KB/s  eta 8s     "
       ]
      },
      {
       "output_type": "stream",
       "stream": "stdout",
       "text": [
        "\r",
        "82% [==============================>        ] 5,182,464    306KB/s  eta 8s     "
       ]
      },
      {
       "output_type": "stream",
       "stream": "stdout",
       "text": [
        "\r",
        "83% [===============================>       ] 5,251,136    316KB/s  eta 8s     "
       ]
      },
      {
       "output_type": "stream",
       "stream": "stdout",
       "text": [
        "\r",
        "83% [===============================>       ] 5,295,360    311KB/s  eta 8s     "
       ]
      },
      {
       "output_type": "stream",
       "stream": "stdout",
       "text": [
        "\r",
        "84% [================================>      ] 5,359,872    315KB/s  eta 5s     "
       ]
      },
      {
       "output_type": "stream",
       "stream": "stdout",
       "text": [
        "\r",
        "85% [================================>      ] 5,428,416    313KB/s  eta 5s     "
       ]
      },
      {
       "output_type": "stream",
       "stream": "stdout",
       "text": [
        "\r",
        "86% [================================>      ] 5,492,928    316KB/s  eta 5s     "
       ]
      },
      {
       "output_type": "stream",
       "stream": "stdout",
       "text": [
        "\r",
        "88% [=================================>     ] 5,568,192    330KB/s  eta 5s     "
       ]
      },
      {
       "output_type": "stream",
       "stream": "stdout",
       "text": [
        "\r",
        "89% [=================================>     ] 5,642,112    323KB/s  eta 4s     "
       ]
      },
      {
       "output_type": "stream",
       "stream": "stdout",
       "text": [
        "\r",
        "90% [==================================>    ] 5,721,152    335KB/s  eta 4s     "
       ]
      },
      {
       "output_type": "stream",
       "stream": "stdout",
       "text": [
        "\r",
        "91% [==================================>    ] 5,776,256    340KB/s  eta 4s     "
       ]
      },
      {
       "output_type": "stream",
       "stream": "stdout",
       "text": [
        "\r",
        "91% [==================================>    ] 5,795,328    325KB/s  eta 4s     "
       ]
      },
      {
       "output_type": "stream",
       "stream": "stdout",
       "text": [
        "\r",
        "92% [===================================>   ] 5,867,904    328KB/s  eta 2s     "
       ]
      },
      {
       "output_type": "stream",
       "stream": "stdout",
       "text": [
        "\r",
        "93% [===================================>   ] 5,909,568    330KB/s  eta 2s     "
       ]
      },
      {
       "output_type": "stream",
       "stream": "stdout",
       "text": [
        "\r",
        "94% [===================================>   ] 5,957,952    314KB/s  eta 2s     "
       ]
      },
      {
       "output_type": "stream",
       "stream": "stdout",
       "text": [
        "\r",
        "94% [===================================>   ] 5,990,208    241KB/s  eta 2s     "
       ]
      },
      {
       "output_type": "stream",
       "stream": "stdout",
       "text": [
        "\r",
        "95% [====================================>  ] 6,027,584    227KB/s  eta 2s     "
       ]
      },
      {
       "output_type": "stream",
       "stream": "stdout",
       "text": [
        "\r",
        "96% [====================================>  ] 6,084,416    212KB/s  eta 1s     "
       ]
      },
      {
       "output_type": "stream",
       "stream": "stdout",
       "text": [
        "\r",
        "96% [====================================>  ] 6,100,160    203KB/s  eta 1s     "
       ]
      },
      {
       "output_type": "stream",
       "stream": "stdout",
       "text": [
        "\r",
        "97% [=====================================> ] 6,163,328    198KB/s  eta 1s     "
       ]
      },
      {
       "output_type": "stream",
       "stream": "stdout",
       "text": [
        "\r",
        "98% [=====================================> ] 6,198,528    193KB/s  eta 1s     "
       ]
      },
      {
       "output_type": "stream",
       "stream": "stdout",
       "text": [
        "\r",
        "98% [=====================================> ] 6,229,440    177KB/s  eta 0s     "
       ]
      },
      {
       "output_type": "stream",
       "stream": "stdout",
       "text": [
        "\r",
        "98% [=====================================> ] 6,241,536    164KB/s  eta 0s     "
       ]
      },
      {
       "output_type": "stream",
       "stream": "stdout",
       "text": [
        "\r",
        "99% [=====================================> ] 6,269,760    155KB/s  eta 0s     "
       ]
      },
      {
       "output_type": "stream",
       "stream": "stdout",
       "text": [
        "\r",
        "99% [=====================================> ] 6,287,232    141KB/s  eta 0s     "
       ]
      },
      {
       "output_type": "stream",
       "stream": "stdout",
       "text": [
        "\r",
        "99% [=====================================> ] 6,310,208    136KB/s  eta 0s     \r",
        "100%[======================================>] 6,316,559    137KB/s   in 34s    \r\n",
        "\r\n"
       ]
      },
      {
       "output_type": "stream",
       "stream": "stdout",
       "text": [
        "2015-09-09 11:15:00 (179 KB/s) - 'Pfalciparum.genome.fasta.gz' saved [6316559]\r\n",
        "\r\n"
       ]
      }
     ],
     "prompt_number": 4
    },
    {
     "cell_type": "code",
     "collapsed": false,
     "input": [
      "!wget {latest_plasmodb_fasta_url}"
     ],
     "language": "python",
     "metadata": {},
     "outputs": [
      {
       "output_type": "stream",
       "stream": "stdout",
       "text": [
        "--2015-09-09 11:25:20--  http://www.plasmodb.org/common/downloads/release-25/Pfalciparum3D7/fasta/data/PlasmoDB-25_Pfalciparum3D7_Genome.fasta\r\n",
        "Resolving www.plasmodb.org... "
       ]
      },
      {
       "output_type": "stream",
       "stream": "stdout",
       "text": [
        "128.192.75.73\r\n",
        "Connecting to www.plasmodb.org|128.192.75.73|:80... connected.\r\n",
        "HTTP request sent, awaiting response... "
       ]
      },
      {
       "output_type": "stream",
       "stream": "stdout",
       "text": [
        "200 OK\r\n",
        "Length: 23723399 (23M) [application/x-fasta]\r\n",
        "Saving to: 'PlasmoDB-25_Pfalciparum3D7_Genome.fasta'\r\n",
        "\r\n",
        "\r",
        " 0% [                                       ] 0           --.-K/s              "
       ]
      },
      {
       "output_type": "stream",
       "stream": "stdout",
       "text": [
        "\r",
        " 0% [                                       ] 15,982      48.3KB/s             "
       ]
      },
      {
       "output_type": "stream",
       "stream": "stdout",
       "text": [
        "\r",
        " 0% [                                       ] 37,678      64.7KB/s             "
       ]
      },
      {
       "output_type": "stream",
       "stream": "stdout",
       "text": [
        "\r",
        " 0% [                                       ] 68,866      77.9KB/s             "
       ]
      },
      {
       "output_type": "stream",
       "stream": "stdout",
       "text": [
        "\r",
        " 0% [                                       ] 90,618      80.2KB/s             "
       ]
      },
      {
       "output_type": "stream",
       "stream": "stdout",
       "text": [
        "\r",
        " 0% [                                       ] 151,582      108KB/s             "
       ]
      },
      {
       "output_type": "stream",
       "stream": "stdout",
       "text": [
        "\r",
        " 0% [                                       ] 189,246      113KB/s             "
       ]
      },
      {
       "output_type": "stream",
       "stream": "stdout",
       "text": [
        "\r",
        " 0% [                                       ] 222,094      117KB/s             "
       ]
      },
      {
       "output_type": "stream",
       "stream": "stdout",
       "text": [
        "\r",
        " 1% [                                       ] 262,774      120KB/s             "
       ]
      },
      {
       "output_type": "stream",
       "stream": "stdout",
       "text": [
        "\r",
        " 1% [                                       ] 304,810      122KB/s             "
       ]
      },
      {
       "output_type": "stream",
       "stream": "stdout",
       "text": [
        "\r",
        " 1% [                                       ] 354,678      128KB/s             "
       ]
      },
      {
       "output_type": "stream",
       "stream": "stdout",
       "text": [
        "\r",
        " 1% [                                       ] 403,798      132KB/s             "
       ]
      },
      {
       "output_type": "stream",
       "stream": "stdout",
       "text": [
        "\r",
        " 1% [                                       ] 444,478      135KB/s  eta 2m 49s "
       ]
      },
      {
       "output_type": "stream",
       "stream": "stdout",
       "text": [
        "\r",
        " 2% [                                       ] 490,582      138KB/s  eta 2m 49s "
       ]
      },
      {
       "output_type": "stream",
       "stream": "stdout",
       "text": [
        "\r",
        " 2% [                                       ] 536,686      133KB/s  eta 2m 49s "
       ]
      },
      {
       "output_type": "stream",
       "stream": "stdout",
       "text": [
        "\r",
        " 2% [>                                      ] 608,554      142KB/s  eta 2m 49s "
       ]
      },
      {
       "output_type": "stream",
       "stream": "stdout",
       "text": [
        "\r",
        " 2% [>                                      ] 642,454      142KB/s  eta 2m 39s "
       ]
      },
      {
       "output_type": "stream",
       "stream": "stdout",
       "text": [
        "\r",
        " 2% [>                                      ] 680,422      142KB/s  eta 2m 39s "
       ]
      },
      {
       "output_type": "stream",
       "stream": "stdout",
       "text": [
        "\r",
        " 3% [>                                      ] 715,734      144KB/s  eta 2m 39s "
       ]
      },
      {
       "output_type": "stream",
       "stream": "stdout",
       "text": [
        "\r",
        " 3% [>                                      ] 750,630      151KB/s  eta 2m 39s "
       ]
      },
      {
       "output_type": "stream",
       "stream": "stdout",
       "text": [
        "\r",
        " 3% [>                                      ] 806,530      159KB/s  eta 2m 39s "
       ]
      },
      {
       "output_type": "stream",
       "stream": "stdout",
       "text": [
        "\r",
        " 3% [>                                      ] 861,822      166KB/s  eta 2m 29s "
       ]
      },
      {
       "output_type": "stream",
       "stream": "stdout",
       "text": [
        "\r",
        " 3% [>                                      ] 912,298      165KB/s  eta 2m 29s "
       ]
      },
      {
       "output_type": "stream",
       "stream": "stdout",
       "text": [
        "\r",
        " 4% [>                                      ] 950,266      167KB/s  eta 2m 29s "
       ]
      },
      {
       "output_type": "stream",
       "stream": "stdout",
       "text": [
        "\r",
        " 4% [>                                      ] 985,578      166KB/s  eta 2m 29s "
       ]
      },
      {
       "output_type": "stream",
       "stream": "stdout",
       "text": [
        "\r",
        " 4% [>                                      ] 1,004,506    161KB/s  eta 2m 31s "
       ]
      },
      {
       "output_type": "stream",
       "stream": "stdout",
       "text": [
        "\r",
        " 4% [>                                      ] 1,073,662    167KB/s  eta 2m 31s "
       ]
      },
      {
       "output_type": "stream",
       "stream": "stdout",
       "text": [
        "\r",
        " 4% [>                                      ] 1,110,330    155KB/s  eta 2m 31s "
       ]
      },
      {
       "output_type": "stream",
       "stream": "stdout",
       "text": [
        "\r",
        " 4% [>                                      ] 1,167,226    159KB/s  eta 2m 28s "
       ]
      },
      {
       "output_type": "stream",
       "stream": "stdout",
       "text": [
        "\r",
        " 5% [>                                      ] 1,191,634    155KB/s  eta 2m 28s "
       ]
      },
      {
       "output_type": "stream",
       "stream": "stdout",
       "text": [
        "\r",
        " 5% [=>                                     ] 1,218,754    150KB/s  eta 2m 28s "
       ]
      },
      {
       "output_type": "stream",
       "stream": "stdout",
       "text": [
        "\r",
        " 5% [=>                                     ] 1,249,942    146KB/s  eta 2m 28s "
       ]
      },
      {
       "output_type": "stream",
       "stream": "stdout",
       "text": [
        "\r",
        " 5% [=>                                     ] 1,278,418    146KB/s  eta 2m 34s "
       ]
      },
      {
       "output_type": "stream",
       "stream": "stdout",
       "text": [
        "\r",
        " 5% [=>                                     ] 1,309,606    142KB/s  eta 2m 34s "
       ]
      },
      {
       "output_type": "stream",
       "stream": "stdout",
       "text": [
        "\r",
        " 5% [=>                                     ] 1,342,150    140KB/s  eta 2m 34s "
       ]
      },
      {
       "output_type": "stream",
       "stream": "stdout",
       "text": [
        "\r",
        " 5% [=>                                     ] 1,367,914    141KB/s  eta 2m 34s "
       ]
      },
      {
       "output_type": "stream",
       "stream": "stdout",
       "text": [
        "\r",
        " 5% [=>                                     ] 1,401,814    134KB/s  eta 2m 36s "
       ]
      },
      {
       "output_type": "stream",
       "stream": "stdout",
       "text": [
        "\r",
        " 6% [=>                                     ] 1,428,934    127KB/s  eta 2m 36s "
       ]
      },
      {
       "output_type": "stream",
       "stream": "stdout",
       "text": [
        "\r",
        " 6% [=>                                     ] 1,458,766    119KB/s  eta 2m 36s "
       ]
      },
      {
       "output_type": "stream",
       "stream": "stdout",
       "text": [
        "\r",
        " 6% [=>                                     ] 1,491,310    113KB/s  eta 2m 36s "
       ]
      },
      {
       "output_type": "stream",
       "stream": "stdout",
       "text": [
        "\r",
        " 6% [=>                                     ] 1,523,854    114KB/s  eta 2m 39s "
       ]
      },
      {
       "output_type": "stream",
       "stream": "stdout",
       "text": [
        "\r",
        " 6% [=>                                     ] 1,548,262    116KB/s  eta 2m 39s "
       ]
      },
      {
       "output_type": "stream",
       "stream": "stdout",
       "text": [
        "\r",
        " 6% [=>                                     ] 1,564,534    116KB/s  eta 2m 39s "
       ]
      },
      {
       "output_type": "stream",
       "stream": "stdout",
       "text": [
        "\r",
        " 6% [=>                                     ] 1,590,354    107KB/s  eta 2m 39s "
       ]
      },
      {
       "output_type": "stream",
       "stream": "stdout",
       "text": [
        "\r",
        " 6% [=>                                     ] 1,638,810    103KB/s  eta 2m 44s "
       ]
      },
      {
       "output_type": "stream",
       "stream": "stdout",
       "text": [
        "\r",
        " 6% [=>                                     ] 1,652,730   96.0KB/s  eta 2m 44s "
       ]
      },
      {
       "output_type": "stream",
       "stream": "stdout",
       "text": [
        "\r",
        " 7% [=>                                     ] 1,687,626   93.8KB/s  eta 2m 44s "
       ]
      },
      {
       "output_type": "stream",
       "stream": "stdout",
       "text": [
        "\r",
        " 7% [=>                                     ] 1,716,406   95.3KB/s  eta 2m 50s "
       ]
      },
      {
       "output_type": "stream",
       "stream": "stdout",
       "text": [
        "\r",
        " 7% [=>                                     ] 1,729,966   92.3KB/s  eta 2m 50s "
       ]
      },
      {
       "output_type": "stream",
       "stream": "stdout",
       "text": [
        "\r",
        " 7% [=>                                     ] 1,743,526   89.1KB/s  eta 2m 50s "
       ]
      },
      {
       "output_type": "stream",
       "stream": "stdout",
       "text": [
        "\r",
        " 7% [=>                                     ] 1,758,442   85.5KB/s  eta 2m 50s "
       ]
      },
      {
       "output_type": "stream",
       "stream": "stdout",
       "text": [
        "\r",
        " 7% [=>                                     ] 1,781,494   83.0KB/s  eta 2m 56s "
       ]
      },
      {
       "output_type": "stream",
       "stream": "stdout",
       "text": [
        "\r",
        " 7% [=>                                     ] 1,790,986   78.4KB/s  eta 2m 56s "
       ]
      },
      {
       "output_type": "stream",
       "stream": "stdout",
       "text": [
        "\r",
        " 7% [=>                                     ] 1,809,970   77.6KB/s  eta 2m 56s "
       ]
      },
      {
       "output_type": "stream",
       "stream": "stdout",
       "text": [
        "\r",
        " 7% [=>                                     ] 1,823,530   76.4KB/s  eta 2m 56s "
       ]
      },
      {
       "output_type": "stream",
       "stream": "stdout",
       "text": [
        "\r",
        " 7% [==>                                    ] 1,838,446   75.0KB/s  eta 2m 56s "
       ]
      },
      {
       "output_type": "stream",
       "stream": "stdout",
       "text": [
        "\r",
        " 7% [==>                                    ] 1,857,126   72.1KB/s  eta 3m 4s  "
       ]
      },
      {
       "output_type": "stream",
       "stream": "stdout",
       "text": [
        "\r",
        " 7% [==>                                    ] 1,876,110   69.5KB/s  eta 3m 4s  "
       ]
      },
      {
       "output_type": "stream",
       "stream": "stdout",
       "text": [
        "\r",
        " 7% [==>                                    ] 1,891,330   70.4KB/s  eta 3m 4s  "
       ]
      },
      {
       "output_type": "stream",
       "stream": "stdout",
       "text": [
        "\r",
        " 8% [==>                                    ] 1,911,670   67.9KB/s  eta 3m 4s  "
       ]
      },
      {
       "output_type": "stream",
       "stream": "stdout",
       "text": [
        "\r",
        " 8% [==>                                    ] 1,927,942   67.8KB/s  eta 3m 9s  "
       ]
      },
      {
       "output_type": "stream",
       "stream": "stdout",
       "text": [
        "\r",
        " 8% [==>                                    ] 1,949,334   62.9KB/s  eta 3m 9s  "
       ]
      },
      {
       "output_type": "stream",
       "stream": "stdout",
       "text": [
        "\r",
        " 8% [==>                                    ] 1,968,622   63.9KB/s  eta 3m 9s  "
       ]
      },
      {
       "output_type": "stream",
       "stream": "stdout",
       "text": [
        "\r",
        " 8% [==>                                    ] 1,976,454   61.8KB/s  eta 3m 9s  "
       ]
      },
      {
       "output_type": "stream",
       "stream": "stdout",
       "text": [
        "\r",
        " 8% [==>                                    ] 2,021,506   68.2KB/s  eta 3m 12s "
       ]
      },
      {
       "output_type": "stream",
       "stream": "stdout",
       "text": [
        "\r",
        " 8% [==>                                    ] 2,054,050   68.3KB/s  eta 3m 12s "
       ]
      },
      {
       "output_type": "stream",
       "stream": "stdout",
       "text": [
        "\r",
        " 8% [==>                                    ] 2,093,374   73.1KB/s  eta 3m 12s "
       ]
      },
      {
       "output_type": "stream",
       "stream": "stdout",
       "text": [
        "\r",
        " 9% [==>                                    ] 2,139,174   78.5KB/s  eta 3m 12s "
       ]
      },
      {
       "output_type": "stream",
       "stream": "stdout",
       "text": [
        "\r",
        " 9% [==>                                    ] 2,189,650   86.1KB/s  eta 3m 5s  "
       ]
      },
      {
       "output_type": "stream",
       "stream": "stdout",
       "text": [
        "\r",
        " 9% [==>                                    ] 2,247,958   94.9KB/s  eta 3m 5s  "
       ]
      },
      {
       "output_type": "stream",
       "stream": "stdout",
       "text": [
        "\r",
        " 9% [==>                                    ] 2,306,266    103KB/s  eta 3m 5s  "
       ]
      },
      {
       "output_type": "stream",
       "stream": "stdout",
       "text": [
        "\r",
        " 9% [==>                                    ] 2,322,538    105KB/s  eta 3m 5s  "
       ]
      },
      {
       "output_type": "stream",
       "stream": "stdout",
       "text": [
        "\r",
        "10% [==>                                    ] 2,401,186    119KB/s  eta 3m 5s  "
       ]
      },
      {
       "output_type": "stream",
       "stream": "stdout",
       "text": [
        "\r",
        "10% [===>                                   ] 2,470,342    131KB/s  eta 2m 52s "
       ]
      },
      {
       "output_type": "stream",
       "stream": "stdout",
       "text": [
        "\r",
        "10% [===>                                   ] 2,566,618    150KB/s  eta 2m 52s "
       ]
      },
      {
       "output_type": "stream",
       "stream": "stdout",
       "text": [
        "\r",
        "10% [===>                                   ] 2,594,790    147KB/s  eta 2m 52s "
       ]
      },
      {
       "output_type": "stream",
       "stream": "stdout",
       "text": [
        "\r",
        "11% [===>                                   ] 2,764,594    178KB/s  eta 2m 52s "
       ]
      },
      {
       "output_type": "stream",
       "stream": "stdout",
       "text": [
        "\r",
        "12% [===>                                   ] 2,850,022    192KB/s  eta 2m 34s "
       ]
      },
      {
       "output_type": "stream",
       "stream": "stdout",
       "text": [
        "\r",
        "12% [===>                                   ] 2,939,518    207KB/s  eta 2m 34s "
       ]
      },
      {
       "output_type": "stream",
       "stream": "stdout",
       "text": [
        "\r",
        "12% [===>                                   ] 3,037,150    226KB/s  eta 2m 34s "
       ]
      },
      {
       "output_type": "stream",
       "stream": "stdout",
       "text": [
        "\r",
        "13% [====>                                  ] 3,128,002    241KB/s  eta 2m 34s "
       ]
      },
      {
       "output_type": "stream",
       "stream": "stdout",
       "text": [
        "\r",
        "13% [====>                                  ] 3,228,346    283KB/s  eta 2m 34s "
       ]
      },
      {
       "output_type": "stream",
       "stream": "stdout",
       "text": [
        "\r",
        "14% [====>                                  ] 3,325,978    294KB/s  eta 2m 16s "
       ]
      },
      {
       "output_type": "stream",
       "stream": "stdout",
       "text": [
        "\r",
        "14% [====>                                  ] 3,424,966    313KB/s  eta 2m 16s "
       ]
      },
      {
       "output_type": "stream",
       "stream": "stdout",
       "text": [
        "\r",
        "14% [====>                                  ] 3,497,886    335KB/s  eta 2m 16s "
       ]
      },
      {
       "output_type": "stream",
       "stream": "stdout",
       "text": [
        "\r",
        "15% [====>                                  ] 3,625,654    354KB/s  eta 2m 16s "
       ]
      },
      {
       "output_type": "stream",
       "stream": "stdout",
       "text": [
        "\r",
        "15% [=====>                                 ] 3,717,862    367KB/s  eta 2m 16s "
       ]
      },
      {
       "output_type": "stream",
       "stream": "stdout",
       "text": [
        "\r",
        "16% [=====>                                 ] 3,801,934    377KB/s  eta 2m 2s  "
       ]
      },
      {
       "output_type": "stream",
       "stream": "stdout",
       "text": [
        "\r",
        "16% [=====>                                 ] 3,904,990    386KB/s  eta 2m 2s  "
       ]
      },
      {
       "output_type": "stream",
       "stream": "stdout",
       "text": [
        "\r",
        "16% [=====>                                 ] 4,014,826    403KB/s  eta 2m 2s  "
       ]
      },
      {
       "output_type": "stream",
       "stream": "stdout",
       "text": [
        "\r",
        "17% [=====>                                 ] 4,127,374    413KB/s  eta 2m 2s  "
       ]
      },
      {
       "output_type": "stream",
       "stream": "stdout",
       "text": [
        "\r",
        "17% [=====>                                 ] 4,246,398    449KB/s  eta 2m 2s  "
       ]
      },
      {
       "output_type": "stream",
       "stream": "stdout",
       "text": [
        "\r",
        "18% [======>                                ] 4,352,470    431KB/s  eta 1m 49s "
       ]
      },
      {
       "output_type": "stream",
       "stream": "stdout",
       "text": [
        "\r",
        "18% [======>                                ] 4,466,374    432KB/s  eta 1m 49s "
       ]
      },
      {
       "output_type": "stream",
       "stream": "stdout",
       "text": [
        "\r",
        "19% [======>                                ] 4,573,498    440KB/s  eta 1m 49s "
       ]
      },
      {
       "output_type": "stream",
       "stream": "stdout",
       "text": [
        "\r",
        "19% [======>                                ] 4,690,114    432KB/s  eta 1m 49s "
       ]
      },
      {
       "output_type": "stream",
       "stream": "stdout",
       "text": [
        "\r",
        "20% [======>                                ] 4,804,018    431KB/s  eta 1m 41s "
       ]
      },
      {
       "output_type": "stream",
       "stream": "stdout",
       "text": [
        "\r",
        "20% [======>                                ] 4,857,954    412KB/s  eta 1m 41s "
       ]
      },
      {
       "output_type": "stream",
       "stream": "stdout",
       "text": [
        "\r",
        "21% [=======>                               ] 5,029,114    431KB/s  eta 1m 41s "
       ]
      },
      {
       "output_type": "stream",
       "stream": "stdout",
       "text": [
        "\r",
        "21% [=======>                               ] 5,080,642    417KB/s  eta 1m 41s "
       ]
      },
      {
       "output_type": "stream",
       "stream": "stdout",
       "text": [
        "\r",
        "21% [=======>                               ] 5,171,494    417KB/s  eta 95s    "
       ]
      },
      {
       "output_type": "stream",
       "stream": "stdout",
       "text": [
        "\r",
        "22% [=======>                               ] 5,266,414    410KB/s  eta 95s    "
       ]
      },
      {
       "output_type": "stream",
       "stream": "stdout",
       "text": [
        "\r",
        "22% [=======>                               ] 5,364,046    408KB/s  eta 95s    "
       ]
      },
      {
       "output_type": "stream",
       "stream": "stdout",
       "text": [
        "\r",
        "22% [=======>                               ] 5,381,370    388KB/s  eta 95s    "
       ]
      },
      {
       "output_type": "stream",
       "stream": "stdout",
       "text": [
        "\r",
        "23% [========>                              ] 5,542,734    402KB/s  eta 95s    "
       ]
      },
      {
       "output_type": "stream",
       "stream": "stdout",
       "text": [
        "\r",
        "23% [========>                              ] 5,612,194    395KB/s  eta 89s    "
       ]
      },
      {
       "output_type": "stream",
       "stream": "stdout",
       "text": [
        "\r",
        "24% [========>                              ] 5,707,114    399KB/s  eta 89s    "
       ]
      },
      {
       "output_type": "stream",
       "stream": "stdout",
       "text": [
        "\r",
        "24% [========>                              ] 5,791,186    393KB/s  eta 89s    "
       ]
      },
      {
       "output_type": "stream",
       "stream": "stdout",
       "text": [
        "\r",
        "24% [========>                              ] 5,868,478    381KB/s  eta 89s    "
       ]
      },
      {
       "output_type": "stream",
       "stream": "stdout",
       "text": [
        "\r",
        "25% [========>                              ] 5,934,922    376KB/s  eta 89s    "
       ]
      },
      {
       "output_type": "stream",
       "stream": "stdout",
       "text": [
        "\r",
        "25% [========>                              ] 6,014,622    377KB/s  eta 85s    "
       ]
      },
      {
       "output_type": "stream",
       "stream": "stdout",
       "text": [
        "\r",
        "25% [=========>                             ] 6,128,830    372KB/s  eta 85s    "
       ]
      },
      {
       "output_type": "stream",
       "stream": "stdout",
       "text": [
        "\r",
        "26% [=========>                             ] 6,225,106    383KB/s  eta 85s    "
       ]
      },
      {
       "output_type": "stream",
       "stream": "stdout",
       "text": [
        "\r",
        "26% [=========>                             ] 6,313,246    382KB/s  eta 85s    "
       ]
      },
      {
       "output_type": "stream",
       "stream": "stdout",
       "text": [
        "\r",
        "26% [=========>                             ] 6,397,318    379KB/s  eta 85s    "
       ]
      },
      {
       "output_type": "stream",
       "stream": "stdout",
       "text": [
        "\r",
        "27% [=========>                             ] 6,489,526    375KB/s  eta 79s    "
       ]
      },
      {
       "output_type": "stream",
       "stream": "stdout",
       "text": [
        "\r",
        "27% [=========>                             ] 6,580,378    386KB/s  eta 79s    "
       ]
      },
      {
       "output_type": "stream",
       "stream": "stdout",
       "text": [
        "\r",
        "28% [=========>                             ] 6,667,162    384KB/s  eta 79s    "
       ]
      },
      {
       "output_type": "stream",
       "stream": "stdout",
       "text": [
        "\r",
        "28% [==========>                            ] 6,743,098    371KB/s  eta 79s    "
       ]
      },
      {
       "output_type": "stream",
       "stream": "stdout",
       "text": [
        "\r",
        "29% [==========>                            ] 6,882,766    368KB/s  eta 76s    "
       ]
      },
      {
       "output_type": "stream",
       "stream": "stdout",
       "text": [
        "\r",
        "29% [==========>                            ] 6,938,362    361KB/s  eta 76s    "
       ]
      },
      {
       "output_type": "stream",
       "stream": "stdout",
       "text": [
        "\r",
        "29% [==========>                            ] 6,984,466    350KB/s  eta 76s    "
       ]
      },
      {
       "output_type": "stream",
       "stream": "stdout",
       "text": [
        "\r",
        "29% [==========>                            ] 7,026,558    341KB/s  eta 76s    "
       ]
      },
      {
       "output_type": "stream",
       "stream": "stdout",
       "text": [
        "\r",
        "29% [==========>                            ] 7,086,166    332KB/s  eta 76s    "
       ]
      },
      {
       "output_type": "stream",
       "stream": "stdout",
       "text": [
        "\r",
        "30% [==========>                            ] 7,153,966    333KB/s  eta 74s    "
       ]
      },
      {
       "output_type": "stream",
       "stream": "stdout",
       "text": [
        "\r",
        "30% [==========>                            ] 7,214,986    315KB/s  eta 74s    "
       ]
      },
      {
       "output_type": "stream",
       "stream": "stdout",
       "text": [
        "\r",
        "30% [===========>                           ] 7,332,958    319KB/s  eta 74s    "
       ]
      },
      {
       "output_type": "stream",
       "stream": "stdout",
       "text": [
        "\r",
        "31% [===========>                           ] 7,383,130    304KB/s  eta 74s    "
       ]
      },
      {
       "output_type": "stream",
       "stream": "stdout",
       "text": [
        "\r",
        "31% [===========>                           ] 7,438,726    295KB/s  eta 73s    "
       ]
      },
      {
       "output_type": "stream",
       "stream": "stdout",
       "text": [
        "\r",
        "31% [===========>                           ] 7,472,626    271KB/s  eta 73s    "
       ]
      },
      {
       "output_type": "stream",
       "stream": "stdout",
       "text": [
        "\r",
        "31% [===========>                           ] 7,545,850    263KB/s  eta 73s    "
       ]
      },
      {
       "output_type": "stream",
       "stream": "stdout",
       "text": [
        "\r",
        "31% [===========>                           ] 7,586,530    252KB/s  eta 73s    "
       ]
      },
      {
       "output_type": "stream",
       "stream": "stdout",
       "text": [
        "\r",
        "32% [===========>                           ] 7,627,210    242KB/s  eta 72s    "
       ]
      },
      {
       "output_type": "stream",
       "stream": "stdout",
       "text": [
        "\r",
        "32% [===========>                           ] 7,677,438    240KB/s  eta 72s    "
       ]
      },
      {
       "output_type": "stream",
       "stream": "stdout",
       "text": [
        "\r",
        "32% [===========>                           ] 7,716,706    229KB/s  eta 72s    "
       ]
      },
      {
       "output_type": "stream",
       "stream": "stdout",
       "text": [
        "\r",
        "32% [===========>                           ] 7,762,810    238KB/s  eta 72s    "
       ]
      },
      {
       "output_type": "stream",
       "stream": "stdout",
       "text": [
        "\r",
        "32% [===========>                           ] 7,810,270    216KB/s  eta 72s    "
       ]
      },
      {
       "output_type": "stream",
       "stream": "stdout",
       "text": [
        "\r",
        "33% [===========>                           ] 7,871,290    217KB/s  eta 72s    "
       ]
      },
      {
       "output_type": "stream",
       "stream": "stdout",
       "text": [
        "\r",
        "33% [===========>                           ] 7,904,886    216KB/s  eta 72s    "
       ]
      },
      {
       "output_type": "stream",
       "stream": "stdout",
       "text": [
        "\r",
        "33% [============>                          ] 7,951,294    212KB/s  eta 72s    "
       ]
      },
      {
       "output_type": "stream",
       "stream": "stdout",
       "text": [
        "\r",
        "33% [============>                          ] 7,996,042    216KB/s  eta 72s    "
       ]
      },
      {
       "output_type": "stream",
       "stream": "stdout",
       "text": [
        "\r",
        "33% [============>                          ] 8,039,434    211KB/s  eta 71s    "
       ]
      },
      {
       "output_type": "stream",
       "stream": "stdout",
       "text": [
        "\r",
        "34% [============>                          ] 8,085,538    205KB/s  eta 71s    "
       ]
      },
      {
       "output_type": "stream",
       "stream": "stdout",
       "text": [
        "\r",
        "34% [============>                          ] 8,132,998    208KB/s  eta 71s    "
       ]
      },
      {
       "output_type": "stream",
       "stream": "stdout",
       "text": [
        "\r",
        "34% [============>                          ] 8,177,746    193KB/s  eta 71s    "
       ]
      },
      {
       "output_type": "stream",
       "stream": "stdout",
       "text": [
        "\r",
        "34% [============>                          ] 8,225,206    188KB/s  eta 70s    "
       ]
      },
      {
       "output_type": "stream",
       "stream": "stdout",
       "text": [
        "\r",
        "34% [============>                          ] 8,272,666    189KB/s  eta 70s    "
       ]
      },
      {
       "output_type": "stream",
       "stream": "stdout",
       "text": [
        "\r",
        "35% [============>                          ] 8,313,346    194KB/s  eta 70s    "
       ]
      },
      {
       "output_type": "stream",
       "stream": "stdout",
       "text": [
        "\r",
        "35% [============>                          ] 8,355,382    186KB/s  eta 70s    "
       ]
      },
      {
       "output_type": "stream",
       "stream": "stdout",
       "text": [
        "\r",
        "35% [============>                          ] 8,401,486    188KB/s  eta 70s    "
       ]
      },
      {
       "output_type": "stream",
       "stream": "stdout",
       "text": [
        "\r",
        "35% [============>                          ] 8,443,522    188KB/s  eta 70s    "
       ]
      },
      {
       "output_type": "stream",
       "stream": "stdout",
       "text": [
        "\r",
        "35% [============>                          ] 8,471,694    187KB/s  eta 70s    "
       ]
      },
      {
       "output_type": "stream",
       "stream": "stdout",
       "text": [
        "\r",
        "35% [=============>                         ] 8,526,294    174KB/s  eta 70s    "
       ]
      },
      {
       "output_type": "stream",
       "stream": "stdout",
       "text": [
        "\r",
        "36% [=============>                         ] 8,610,310    183KB/s  eta 70s    "
       ]
      },
      {
       "output_type": "stream",
       "stream": "stdout",
       "text": [
        "\r",
        "36% [=============>                         ] 8,644,210    179KB/s  eta 69s    "
       ]
      },
      {
       "output_type": "stream",
       "stream": "stdout",
       "text": [
        "\r",
        "36% [=============>                         ] 8,690,314    172KB/s  eta 69s    "
       ]
      },
      {
       "output_type": "stream",
       "stream": "stdout",
       "text": [
        "\r",
        "36% [=============>                         ] 8,718,486    160KB/s  eta 69s    "
       ]
      },
      {
       "output_type": "stream",
       "stream": "stdout",
       "text": [
        "\r",
        "37% [=============>                         ] 8,786,286    165KB/s  eta 69s    "
       ]
      },
      {
       "output_type": "stream",
       "stream": "stdout",
       "text": [
        "\r",
        "37% [=============>                         ] 8,791,710    157KB/s  eta 70s    "
       ]
      },
      {
       "output_type": "stream",
       "stream": "stdout",
       "text": [
        "\r",
        "37% [=============>                         ] 8,839,474    155KB/s  eta 70s    "
       ]
      },
      {
       "output_type": "stream",
       "stream": "stdout",
       "text": [
        "\r",
        "37% [=============>                         ] 8,858,458    150KB/s  eta 70s    "
       ]
      },
      {
       "output_type": "stream",
       "stream": "stdout",
       "text": [
        "\r",
        "37% [=============>                         ] 8,885,578    142KB/s  eta 70s    "
       ]
      },
      {
       "output_type": "stream",
       "stream": "stdout",
       "text": [
        "\r",
        "37% [=============>                         ] 8,916,766    141KB/s  eta 70s    "
       ]
      },
      {
       "output_type": "stream",
       "stream": "stdout",
       "text": [
        "\r",
        "37% [=============>                         ] 8,946,598    136KB/s  eta 70s    "
       ]
      },
      {
       "output_type": "stream",
       "stream": "stdout",
       "text": [
        "\r",
        "37% [=============>                         ] 8,975,074    131KB/s  eta 70s    "
       ]
      },
      {
       "output_type": "stream",
       "stream": "stdout",
       "text": [
        "\r",
        "37% [=============>                         ] 9,004,906    127KB/s  eta 70s    "
       ]
      },
      {
       "output_type": "stream",
       "stream": "stdout",
       "text": [
        "\r",
        "38% [=============>                         ] 9,045,586    127KB/s  eta 70s    "
       ]
      },
      {
       "output_type": "stream",
       "stream": "stdout",
       "text": [
        "\r",
        "38% [=============>                         ] 9,065,926    121KB/s  eta 70s    "
       ]
      },
      {
       "output_type": "stream",
       "stream": "stdout",
       "text": [
        "\r",
        "38% [=============>                         ] 9,099,826    121KB/s  eta 70s    "
       ]
      },
      {
       "output_type": "stream",
       "stream": "stdout",
       "text": [
        "\r",
        "38% [==============>                        ] 9,154,066    122KB/s  eta 70s    "
       ]
      },
      {
       "output_type": "stream",
       "stream": "stdout",
       "text": [
        "\r",
        "38% [==============>                        ] 9,183,898    130KB/s  eta 70s    "
       ]
      },
      {
       "output_type": "stream",
       "stream": "stdout",
       "text": [
        "\r",
        "38% [==============>                        ] 9,225,934    119KB/s  eta 70s    "
       ]
      },
      {
       "output_type": "stream",
       "stream": "stdout",
       "text": [
        "\r",
        "39% [==============>                        ] 9,280,174    121KB/s  eta 70s    "
       ]
      },
      {
       "output_type": "stream",
       "stream": "stdout",
       "text": [
        "\r",
        "39% [==============>                        ] 9,316,786    130KB/s  eta 70s    "
       ]
      },
      {
       "output_type": "stream",
       "stream": "stdout",
       "text": [
        "\r",
        "39% [==============>                        ] 9,347,974    123KB/s  eta 70s    "
       ]
      },
      {
       "output_type": "stream",
       "stream": "stdout",
       "text": [
        "\r",
        "39% [==============>                        ] 9,385,942    134KB/s  eta 70s    "
       ]
      },
      {
       "output_type": "stream",
       "stream": "stdout",
       "text": [
        "\r",
        "39% [==============>                        ] 9,459,166    138KB/s  eta 69s    "
       ]
      },
      {
       "output_type": "stream",
       "stream": "stdout",
       "text": [
        "\r",
        "40% [==============>                        ] 9,495,778    143KB/s  eta 69s    "
       ]
      },
      {
       "output_type": "stream",
       "stream": "stdout",
       "text": [
        "\r",
        "40% [==============>                        ] 9,537,814    153KB/s  eta 69s    "
       ]
      },
      {
       "output_type": "stream",
       "stream": "stdout",
       "text": [
        "\r",
        "40% [==============>                        ] 9,558,154    154KB/s  eta 69s    "
       ]
      },
      {
       "output_type": "stream",
       "stream": "stdout",
       "text": [
        "\r",
        "40% [==============>                        ] 9,624,598    168KB/s  eta 69s    "
       ]
      },
      {
       "output_type": "stream",
       "stream": "stdout",
       "text": [
        "\r",
        "40% [==============>                        ] 9,649,006    166KB/s  eta 68s    "
       ]
      },
      {
       "output_type": "stream",
       "stream": "stdout",
       "text": [
        "\r",
        "40% [==============>                        ] 9,686,974    172KB/s  eta 68s    "
       ]
      },
      {
       "output_type": "stream",
       "stream": "stdout",
       "text": [
        "\r",
        "41% [===============>                       ] 9,738,198    166KB/s  eta 68s    "
       ]
      },
      {
       "output_type": "stream",
       "stream": "stdout",
       "text": [
        "\r",
        "41% [===============>                       ] 9,800,574    172KB/s  eta 68s    "
       ]
      },
      {
       "output_type": "stream",
       "stream": "stdout",
       "text": [
        "\r",
        "41% [===============>                       ] 9,830,406    171KB/s  eta 68s    "
       ]
      },
      {
       "output_type": "stream",
       "stream": "stdout",
       "text": [
        "\r",
        "41% [===============>                       ] 9,875,458    173KB/s  eta 68s    "
       ]
      },
      {
       "output_type": "stream",
       "stream": "stdout",
       "text": [
        "\r",
        "41% [===============>                       ] 9,910,714    174KB/s  eta 68s    "
       ]
      },
      {
       "output_type": "stream",
       "stream": "stdout",
       "text": [
        "\r",
        "41% [===============>                       ] 9,941,902    171KB/s  eta 68s    "
       ]
      },
      {
       "output_type": "stream",
       "stream": "stdout",
       "text": [
        "\r",
        "42% [===============>                       ] 9,973,090    165KB/s  eta 68s    "
       ]
      },
      {
       "output_type": "stream",
       "stream": "stdout",
       "text": [
        "\r",
        "42% [===============>                       ] 10,008,346   168KB/s  eta 67s    "
       ]
      },
      {
       "output_type": "stream",
       "stream": "stdout",
       "text": [
        "\r",
        "42% [===============>                       ] 10,039,534   166KB/s  eta 67s    "
       ]
      },
      {
       "output_type": "stream",
       "stream": "stdout",
       "text": [
        "\r",
        "42% [===============>                       ] 10,065,298   165KB/s  eta 67s    "
       ]
      },
      {
       "output_type": "stream",
       "stream": "stdout",
       "text": [
        "\r",
        "42% [===============>                       ] 10,078,858   158KB/s  eta 67s    "
       ]
      },
      {
       "output_type": "stream",
       "stream": "stdout",
       "text": [
        "\r",
        "42% [===============>                       ] 10,112,758   155KB/s  eta 67s    "
       ]
      },
      {
       "output_type": "stream",
       "stream": "stdout",
       "text": [
        "\r",
        "42% [===============>                       ] 10,147,710   153KB/s  eta 67s    "
       ]
      },
      {
       "output_type": "stream",
       "stream": "stdout",
       "text": [
        "\r",
        "42% [===============>                       ] 10,176,490   149KB/s  eta 67s    "
       ]
      },
      {
       "output_type": "stream",
       "stream": "stdout",
       "text": [
        "\r",
        "43% [===============>                       ] 10,202,254   145KB/s  eta 67s    "
       ]
      },
      {
       "output_type": "stream",
       "stream": "stdout",
       "text": [
        "\r",
        "43% [===============>                       ] 10,233,442   147KB/s  eta 67s    "
       ]
      },
      {
       "output_type": "stream",
       "stream": "stdout",
       "text": [
        "\r",
        "43% [===============>                       ] 10,293,106   146KB/s  eta 67s    "
       ]
      },
      {
       "output_type": "stream",
       "stream": "stdout",
       "text": [
        "\r",
        "43% [===============>                       ] 10,329,414   145KB/s  eta 66s    "
       ]
      },
      {
       "output_type": "stream",
       "stream": "stdout",
       "text": [
        "\r",
        "43% [================>                      ] 10,360,906   143KB/s  eta 66s    "
       ]
      },
      {
       "output_type": "stream",
       "stream": "stdout",
       "text": [
        "\r",
        "43% [================>                      ] 10,378,230   148KB/s  eta 66s    "
       ]
      },
      {
       "output_type": "stream",
       "stream": "stdout",
       "text": [
        "\r",
        "43% [================>                      ] 10,410,774   141KB/s  eta 66s    "
       ]
      },
      {
       "output_type": "stream",
       "stream": "stdout",
       "text": [
        "\r",
        "44% [================>                      ] 10,444,978   142KB/s  eta 66s    "
       ]
      },
      {
       "output_type": "stream",
       "stream": "stdout",
       "text": [
        "\r",
        "44% [================>                      ] 10,485,658   143KB/s  eta 66s    "
       ]
      },
      {
       "output_type": "stream",
       "stream": "stdout",
       "text": [
        "\r",
        "44% [================>                      ] 10,530,406   145KB/s  eta 66s    "
       ]
      },
      {
       "output_type": "stream",
       "stream": "stdout",
       "text": [
        "\r",
        "44% [================>                      ] 10,584,646   151KB/s  eta 66s    "
       ]
      },
      {
       "output_type": "stream",
       "stream": "stdout",
       "text": [
        "\r",
        "44% [================>                      ] 10,636,174   156KB/s  eta 66s    "
       ]
      },
      {
       "output_type": "stream",
       "stream": "stdout",
       "text": [
        "\r",
        "45% [================>                      ] 10,690,414   160KB/s  eta 66s    "
       ]
      },
      {
       "output_type": "stream",
       "stream": "stdout",
       "text": [
        "\r",
        "45% [================>                      ] 10,748,722   167KB/s  eta 64s    "
       ]
      },
      {
       "output_type": "stream",
       "stream": "stdout",
       "text": [
        "\r",
        "45% [================>                      ] 10,816,522   177KB/s  eta 64s    "
       ]
      },
      {
       "output_type": "stream",
       "stream": "stdout",
       "text": [
        "\r",
        "45% [================>                      ] 10,885,678   185KB/s  eta 64s    "
       ]
      },
      {
       "output_type": "stream",
       "stream": "stdout",
       "text": [
        "\r",
        "46% [=================>                     ] 10,960,258   195KB/s  eta 64s    "
       ]
      },
      {
       "output_type": "stream",
       "stream": "stdout",
       "text": [
        "\r",
        "46% [=================>                     ] 11,044,330   211KB/s  eta 64s    "
       ]
      },
      {
       "output_type": "stream",
       "stream": "stdout",
       "text": [
        "\r",
        "46% [=================>                     ] 11,140,302   221KB/s  eta 62s    "
       ]
      },
      {
       "output_type": "stream",
       "stream": "stdout",
       "text": [
        "\r",
        "47% [=================>                     ] 11,259,934   240KB/s  eta 62s    "
       ]
      },
      {
       "output_type": "stream",
       "stream": "stdout",
       "text": [
        "\r",
        "47% [=================>                     ] 11,345,362   255KB/s  eta 62s    "
       ]
      },
      {
       "output_type": "stream",
       "stream": "stdout",
       "text": [
        "\r",
        "48% [=================>                     ] 11,457,910   274KB/s  eta 62s    "
       ]
      },
      {
       "output_type": "stream",
       "stream": "stdout",
       "text": [
        "\r",
        "48% [=================>                     ] 11,487,742   275KB/s  eta 59s    "
       ]
      },
      {
       "output_type": "stream",
       "stream": "stdout",
       "text": [
        "\r",
        "49% [==================>                    ] 11,707,414   323KB/s  eta 59s    "
       ]
      },
      {
       "output_type": "stream",
       "stream": "stdout",
       "text": [
        "\r",
        "49% [==================>                    ] 11,727,450   316KB/s  eta 59s    "
       ]
      },
      {
       "output_type": "stream",
       "stream": "stdout",
       "text": [
        "\r",
        "50% [==================>                    ] 11,897,254   346KB/s  eta 59s    "
       ]
      },
      {
       "output_type": "stream",
       "stream": "stdout",
       "text": [
        "\r",
        "50% [==================>                    ] 11,994,886   356KB/s  eta 59s    "
       ]
      },
      {
       "output_type": "stream",
       "stream": "stdout",
       "text": [
        "\r",
        "50% [==================>                    ] 12,074,890   362KB/s  eta 55s    "
       ]
      },
      {
       "output_type": "stream",
       "stream": "stdout",
       "text": [
        "\r",
        "51% [==================>                    ] 12,154,894   369KB/s  eta 55s    "
       ]
      },
      {
       "output_type": "stream",
       "stream": "stdout",
       "text": [
        "\r",
        "51% [===================>                   ] 12,245,746   380KB/s  eta 55s    "
       ]
      },
      {
       "output_type": "stream",
       "stream": "stdout",
       "text": [
        "\r",
        "51% [===================>                   ] 12,314,598   382KB/s  eta 55s    "
       ]
      },
      {
       "output_type": "stream",
       "stream": "stdout",
       "text": [
        "\r",
        "52% [===================>                   ] 12,396,262   386KB/s  eta 55s    "
       ]
      },
      {
       "output_type": "stream",
       "stream": "stdout",
       "text": [
        "\r",
        "52% [===================>                   ] 12,488,526   390KB/s  eta 52s    "
       ]
      },
      {
       "output_type": "stream",
       "stream": "stdout",
       "text": [
        "\r",
        "52% [===================>                   ] 12,569,830   394KB/s  eta 52s    "
       ]
      },
      {
       "output_type": "stream",
       "stream": "stdout",
       "text": [
        "\r",
        "53% [===================>                   ] 12,657,970   397KB/s  eta 52s    "
       ]
      },
      {
       "output_type": "stream",
       "stream": "stdout",
       "text": [
        "\r",
        "53% [===================>                   ] 12,759,366   409KB/s  eta 52s    "
       ]
      },
      {
       "output_type": "stream",
       "stream": "stdout",
       "text": [
        "\r",
        "54% [====================>                  ] 12,851,878   405KB/s  eta 52s    "
       ]
      },
      {
       "output_type": "stream",
       "stream": "stdout",
       "text": [
        "\r",
        "54% [====================>                  ] 12,938,662   397KB/s  eta 49s    "
       ]
      },
      {
       "output_type": "stream",
       "stream": "stdout",
       "text": [
        "\r",
        "54% [====================>                  ] 13,026,802   402KB/s  eta 49s    "
       ]
      },
      {
       "output_type": "stream",
       "stream": "stdout",
       "text": [
        "\r",
        "55% [====================>                  ] 13,076,670   409KB/s  eta 49s    "
       ]
      },
      {
       "output_type": "stream",
       "stream": "stdout",
       "text": [
        "\r",
        "55% [====================>                  ] 13,232,914   394KB/s  eta 49s    "
       ]
      },
      {
       "output_type": "stream",
       "stream": "stdout",
       "text": [
        "\r",
        "56% [====================>                  ] 13,319,698   413KB/s  eta 49s    "
       ]
      },
      {
       "output_type": "stream",
       "stream": "stdout",
       "text": [
        "\r",
        "56% [=====================>                 ] 13,396,686   389KB/s  eta 46s    "
       ]
      },
      {
       "output_type": "stream",
       "stream": "stdout",
       "text": [
        "\r",
        "56% [=====================>                 ] 13,415,974   375KB/s  eta 46s    "
       ]
      },
      {
       "output_type": "stream",
       "stream": "stdout",
       "text": [
        "\r",
        "56% [=====================>                 ] 13,490,554   372KB/s  eta 46s    "
       ]
      },
      {
       "output_type": "stream",
       "stream": "stdout",
       "text": [
        "\r",
        "57% [=====================>                 ] 13,569,202   374KB/s  eta 46s    "
       ]
      },
      {
       "output_type": "stream",
       "stream": "stdout",
       "text": [
        "\r",
        "57% [=====================>                 ] 13,647,850   370KB/s  eta 46s    "
       ]
      },
      {
       "output_type": "stream",
       "stream": "stdout",
       "text": [
        "\r",
        "57% [=====================>                 ] 13,731,922   372KB/s  eta 44s    "
       ]
      },
      {
       "output_type": "stream",
       "stream": "stdout",
       "text": [
        "\r",
        "58% [=====================>                 ] 13,821,418   370KB/s  eta 44s    "
       ]
      },
      {
       "output_type": "stream",
       "stream": "stdout",
       "text": [
        "\r",
        "58% [=====================>                 ] 13,930,950   374KB/s  eta 44s    "
       ]
      },
      {
       "output_type": "stream",
       "stream": "stdout",
       "text": [
        "\r",
        "59% [======================>                ] 14,058,774   386KB/s  eta 44s    "
       ]
      },
      {
       "output_type": "stream",
       "stream": "stdout",
       "text": [
        "\r",
        "59% [======================>                ] 14,085,838   362KB/s  eta 43s    "
       ]
      },
      {
       "output_type": "stream",
       "stream": "stdout",
       "text": [
        "\r",
        "59% [======================>                ] 14,090,958   334KB/s  eta 43s    "
       ]
      },
      {
       "output_type": "stream",
       "stream": "stdout",
       "text": [
        "\r",
        "59% [======================>                ] 14,229,270   344KB/s  eta 43s    "
       ]
      },
      {
       "output_type": "stream",
       "stream": "stdout",
       "text": [
        "\r",
        "60% [======================>                ] 14,301,442   343KB/s  eta 43s    "
       ]
      },
      {
       "output_type": "stream",
       "stream": "stdout",
       "text": [
        "\r",
        "60% [======================>                ] 14,357,038   335KB/s  eta 43s    "
       ]
      },
      {
       "output_type": "stream",
       "stream": "stdout",
       "text": [
        "\r",
        "60% [======================>                ] 14,427,550   328KB/s  eta 41s    "
       ]
      },
      {
       "output_type": "stream",
       "stream": "stdout",
       "text": [
        "\r",
        "61% [======================>                ] 14,502,130   342KB/s  eta 41s    "
       ]
      },
      {
       "output_type": "stream",
       "stream": "stdout",
       "text": [
        "\r",
        "61% [======================>                ] 14,580,778   326KB/s  eta 41s    "
       ]
      },
      {
       "output_type": "stream",
       "stream": "stdout",
       "text": [
        "\r",
        "61% [=======================>               ] 14,668,974   323KB/s  eta 41s    "
       ]
      },
      {
       "output_type": "stream",
       "stream": "stdout",
       "text": [
        "\r",
        "62% [=======================>               ] 14,743,498   323KB/s  eta 41s    "
       ]
      },
      {
       "output_type": "stream",
       "stream": "stdout",
       "text": [
        "\r",
        "62% [=======================>               ] 14,828,926   328KB/s  eta 39s    "
       ]
      },
      {
       "output_type": "stream",
       "stream": "stdout",
       "text": [
        "\r",
        "62% [=======================>               ] 14,915,710   328KB/s  eta 39s    "
       ]
      },
      {
       "output_type": "stream",
       "stream": "stdout",
       "text": [
        "\r",
        "63% [=======================>               ] 15,002,494   324KB/s  eta 39s    "
       ]
      },
      {
       "output_type": "stream",
       "stream": "stdout",
       "text": [
        "\r",
        "63% [=======================>               ] 15,089,278   329KB/s  eta 39s    "
       ]
      },
      {
       "output_type": "stream",
       "stream": "stdout",
       "text": [
        "\r",
        "63% [=======================>               ] 15,174,706   326KB/s  eta 39s    "
       ]
      },
      {
       "output_type": "stream",
       "stream": "stdout",
       "text": [
        "\r",
        "64% [========================>              ] 15,261,490   326KB/s  eta 36s    "
       ]
      },
      {
       "output_type": "stream",
       "stream": "stdout",
       "text": [
        "\r",
        "64% [========================>              ] 15,352,038   321KB/s  eta 36s    "
       ]
      },
      {
       "output_type": "stream",
       "stream": "stdout",
       "text": [
        "\r",
        "64% [========================>              ] 15,363,190   312KB/s  eta 36s    "
       ]
      },
      {
       "output_type": "stream",
       "stream": "stdout",
       "text": [
        "\r",
        "65% [========================>              ] 15,496,078   325KB/s  eta 36s    "
       ]
      },
      {
       "output_type": "stream",
       "stream": "stdout",
       "text": [
        "\r",
        "65% [========================>              ] 15,561,222   307KB/s  eta 35s    "
       ]
      },
      {
       "output_type": "stream",
       "stream": "stdout",
       "text": [
        "\r",
        "66% [========================>              ] 15,669,646   338KB/s  eta 35s    "
       ]
      },
      {
       "output_type": "stream",
       "stream": "stdout",
       "text": [
        "\r",
        "66% [========================>              ] 15,717,106   320KB/s  eta 35s    "
       ]
      },
      {
       "output_type": "stream",
       "stream": "stdout",
       "text": [
        "\r",
        "66% [========================>              ] 15,768,634   317KB/s  eta 35s    "
       ]
      },
      {
       "output_type": "stream",
       "stream": "stdout",
       "text": [
        "\r",
        "66% [=========================>             ] 15,823,926   312KB/s  eta 35s    "
       ]
      },
      {
       "output_type": "stream",
       "stream": "stdout",
       "text": [
        "\r",
        "66% [=========================>             ] 15,879,882   303KB/s  eta 34s    "
       ]
      },
      {
       "output_type": "stream",
       "stream": "stdout",
       "text": [
        "\r",
        "67% [=========================>             ] 15,966,610   302KB/s  eta 34s    "
       ]
      },
      {
       "output_type": "stream",
       "stream": "stdout",
       "text": [
        "\r",
        "67% [=========================>             ] 16,007,290   295KB/s  eta 34s    "
       ]
      },
      {
       "output_type": "stream",
       "stream": "stdout",
       "text": [
        "\r",
        "67% [=========================>             ] 16,047,970   292KB/s  eta 34s    "
       ]
      },
      {
       "output_type": "stream",
       "stream": "stdout",
       "text": [
        "\r",
        "67% [=========================>             ] 16,111,702   273KB/s  eta 33s    "
       ]
      },
      {
       "output_type": "stream",
       "stream": "stdout",
       "text": [
        "\r",
        "68% [=========================>             ] 16,157,806   264KB/s  eta 33s    "
       ]
      },
      {
       "output_type": "stream",
       "stream": "stdout",
       "text": [
        "\r",
        "68% [=========================>             ] 16,206,318   255KB/s  eta 33s    "
       ]
      },
      {
       "output_type": "stream",
       "stream": "stdout",
       "text": [
        "\r",
        "68% [=========================>             ] 16,248,658   245KB/s  eta 33s    "
       ]
      },
      {
       "output_type": "stream",
       "stream": "stdout",
       "text": [
        "\r",
        "68% [=========================>             ] 16,297,474   236KB/s  eta 32s    "
       ]
      },
      {
       "output_type": "stream",
       "stream": "stdout",
       "text": [
        "\r",
        "68% [=========================>             ] 16,350,358   227KB/s  eta 32s    "
       ]
      },
      {
       "output_type": "stream",
       "stream": "stdout",
       "text": [
        "\r",
        "69% [==========================>            ] 16,433,074   229KB/s  eta 32s    "
       ]
      },
      {
       "output_type": "stream",
       "stream": "stdout",
       "text": [
        "\r",
        "69% [==========================>            ] 16,482,942   211KB/s  eta 32s    "
       ]
      },
      {
       "output_type": "stream",
       "stream": "stdout",
       "text": [
        "\r",
        "69% [==========================>            ] 16,526,638   217KB/s  eta 31s    "
       ]
      },
      {
       "output_type": "stream",
       "stream": "stdout",
       "text": [
        "\r",
        "69% [==========================>            ] 16,548,334   198KB/s  eta 31s    "
       ]
      },
      {
       "output_type": "stream",
       "stream": "stdout",
       "text": [
        "\r",
        "70% [==========================>            ] 16,625,626   206KB/s  eta 31s    "
       ]
      },
      {
       "output_type": "stream",
       "stream": "stdout",
       "text": [
        "\r",
        "70% [==========================>            ] 16,675,494   205KB/s  eta 31s    "
       ]
      },
      {
       "output_type": "stream",
       "stream": "stdout",
       "text": [
        "\r",
        "70% [==========================>            ] 16,720,546   204KB/s  eta 31s    "
       ]
      },
      {
       "output_type": "stream",
       "stream": "stdout",
       "text": [
        "\r",
        "70% [==========================>            ] 16,769,362   208KB/s  eta 30s    "
       ]
      },
      {
       "output_type": "stream",
       "stream": "stdout",
       "text": [
        "\r",
        "70% [==========================>            ] 16,826,314   199KB/s  eta 30s    "
       ]
      },
      {
       "output_type": "stream",
       "stream": "stdout",
       "text": [
        "\r",
        "71% [==========================>            ] 16,884,678   203KB/s  eta 30s    "
       ]
      },
      {
       "output_type": "stream",
       "stream": "stdout",
       "text": [
        "\r",
        "71% [==========================>            ] 16,940,218   206KB/s  eta 30s    "
       ]
      },
      {
       "output_type": "stream",
       "stream": "stdout",
       "text": [
        "\r",
        "71% [==========================>            ] 16,984,966   206KB/s  eta 30s    "
       ]
      },
      {
       "output_type": "stream",
       "stream": "stdout",
       "text": [
        "\r",
        "71% [==========================>            ] 17,014,854   199KB/s  eta 29s    "
       ]
      },
      {
       "output_type": "stream",
       "stream": "stdout",
       "text": [
        "\r",
        "72% [===========================>           ] 17,100,226   211KB/s  eta 29s    "
       ]
      },
      {
       "output_type": "stream",
       "stream": "stdout",
       "text": [
        "\r",
        "72% [===========================>           ] 17,153,110   216KB/s  eta 29s    "
       ]
      },
      {
       "output_type": "stream",
       "stream": "stdout",
       "text": [
        "\r",
        "72% [===========================>           ] 17,199,214   217KB/s  eta 29s    "
       ]
      },
      {
       "output_type": "stream",
       "stream": "stdout",
       "text": [
        "\r",
        "72% [===========================>           ] 17,277,862   225KB/s  eta 29s    "
       ]
      },
      {
       "output_type": "stream",
       "stream": "stdout",
       "text": [
        "\r",
        "73% [===========================>           ] 17,339,934   222KB/s  eta 27s    "
       ]
      },
      {
       "output_type": "stream",
       "stream": "stdout",
       "text": [
        "\r",
        "73% [===========================>           ] 17,432,446   233KB/s  eta 27s    "
       ]
      },
      {
       "output_type": "stream",
       "stream": "stdout",
       "text": [
        "\r",
        "73% [===========================>           ] 17,505,366   242KB/s  eta 27s    "
       ]
      },
      {
       "output_type": "stream",
       "stream": "stdout",
       "text": [
        "\r",
        "74% [===========================>           ] 17,559,910   238KB/s  eta 27s    "
       ]
      },
      {
       "output_type": "stream",
       "stream": "stdout",
       "text": [
        "\r",
        "74% [===========================>           ] 17,621,982   240KB/s  eta 26s    "
       ]
      },
      {
       "output_type": "stream",
       "stream": "stdout",
       "text": [
        "\r",
        "74% [===========================>           ] 17,636,898   230KB/s  eta 26s    "
       ]
      },
      {
       "output_type": "stream",
       "stream": "stdout",
       "text": [
        "\r",
        "74% [============================>          ] 17,759,242   249KB/s  eta 26s    "
       ]
      },
      {
       "output_type": "stream",
       "stream": "stdout",
       "text": [
        "\r",
        "75% [============================>          ] 17,803,990   246KB/s  eta 26s    "
       ]
      },
      {
       "output_type": "stream",
       "stream": "stdout",
       "text": [
        "\r",
        "75% [============================>          ] 17,856,874   244KB/s  eta 26s    "
       ]
      },
      {
       "output_type": "stream",
       "stream": "stdout",
       "text": [
        "\r",
        "75% [============================>          ] 17,904,334   243KB/s  eta 25s    "
       ]
      },
      {
       "output_type": "stream",
       "stream": "stdout",
       "text": [
        "\r",
        "75% [============================>          ] 17,951,794   242KB/s  eta 25s    "
       ]
      },
      {
       "output_type": "stream",
       "stream": "stdout",
       "text": [
        "\r",
        "75% [============================>          ] 18,014,170   249KB/s  eta 25s    "
       ]
      },
      {
       "output_type": "stream",
       "stream": "stdout",
       "text": [
        "\r",
        "76% [============================>          ] 18,072,478   264KB/s  eta 25s    "
       ]
      },
      {
       "output_type": "stream",
       "stream": "stdout",
       "text": [
        "\r",
        "76% [============================>          ] 18,129,430   257KB/s  eta 25s    "
       ]
      },
      {
       "output_type": "stream",
       "stream": "stdout",
       "text": [
        "\r",
        "76% [============================>          ] 18,174,178   258KB/s  eta 24s    "
       ]
      },
      {
       "output_type": "stream",
       "stream": "stdout",
       "text": [
        "\r",
        "76% [============================>          ] 18,195,874   250KB/s  eta 24s    "
       ]
      },
      {
       "output_type": "stream",
       "stream": "stdout",
       "text": [
        "\r",
        "76% [============================>          ] 18,214,554   240KB/s  eta 24s    "
       ]
      },
      {
       "output_type": "stream",
       "stream": "stdout",
       "text": [
        "\r",
        "77% [=============================>         ] 18,332,830   253KB/s  eta 24s    "
       ]
      },
      {
       "output_type": "stream",
       "stream": "stdout",
       "text": [
        "\r",
        "77% [=============================>         ] 18,387,070   251KB/s  eta 24s    "
       ]
      },
      {
       "output_type": "stream",
       "stream": "stdout",
       "text": [
        "\r",
        "77% [=============================>         ] 18,426,394   242KB/s  eta 23s    "
       ]
      },
      {
       "output_type": "stream",
       "stream": "stdout",
       "text": [
        "\r",
        "77% [=============================>         ] 18,476,566   234KB/s  eta 23s    "
       ]
      },
      {
       "output_type": "stream",
       "stream": "stdout",
       "text": [
        "\r",
        "78% [=============================>         ] 18,540,298   238KB/s  eta 23s    "
       ]
      },
      {
       "output_type": "stream",
       "stream": "stdout",
       "text": [
        "\r",
        "78% [=============================>         ] 18,563,406   230KB/s  eta 23s    "
       ]
      },
      {
       "output_type": "stream",
       "stream": "stdout",
       "text": [
        "\r",
        "78% [=============================>         ] 18,614,934   240KB/s  eta 23s    "
       ]
      },
      {
       "output_type": "stream",
       "stream": "stdout",
       "text": [
        "\r",
        "78% [=============================>         ] 18,677,254   230KB/s  eta 22s    "
       ]
      },
      {
       "output_type": "stream",
       "stream": "stdout",
       "text": [
        "\r",
        "78% [=============================>         ] 18,714,918   220KB/s  eta 22s    "
       ]
      },
      {
       "output_type": "stream",
       "stream": "stdout",
       "text": [
        "\r",
        "79% [=============================>         ] 18,778,650   221KB/s  eta 22s    "
       ]
      },
      {
       "output_type": "stream",
       "stream": "stdout",
       "text": [
        "\r",
        "79% [=============================>         ] 18,827,770   215KB/s  eta 22s    "
       ]
      },
      {
       "output_type": "stream",
       "stream": "stdout",
       "text": [
        "\r",
        "79% [==============================>        ] 18,861,670   197KB/s  eta 21s    "
       ]
      },
      {
       "output_type": "stream",
       "stream": "stdout",
       "text": [
        "\r",
        "79% [==============================>        ] 18,895,570   190KB/s  eta 21s    "
       ]
      },
      {
       "output_type": "stream",
       "stream": "stdout",
       "text": [
        "\r",
        "79% [==============================>        ] 18,934,590   191KB/s  eta 21s    "
       ]
      },
      {
       "output_type": "stream",
       "stream": "stdout",
       "text": [
        "\r",
        "79% [==============================>        ] 18,967,438   187KB/s  eta 21s    "
       ]
      },
      {
       "output_type": "stream",
       "stream": "stdout",
       "text": [
        "\r",
        "80% [==============================>        ] 19,001,338   179KB/s  eta 20s    "
       ]
      },
      {
       "output_type": "stream",
       "stream": "stdout",
       "text": [
        "\r",
        "80% [==============================>        ] 19,029,510   176KB/s  eta 20s    "
       ]
      },
      {
       "output_type": "stream",
       "stream": "stdout",
       "text": [
        "\r",
        "80% [==============================>        ] 19,067,782   160KB/s  eta 20s    "
       ]
      },
      {
       "output_type": "stream",
       "stream": "stdout",
       "text": [
        "\r",
        "80% [==============================>        ] 19,093,546   152KB/s  eta 20s    "
       ]
      },
      {
       "output_type": "stream",
       "stream": "stdout",
       "text": [
        "\r",
        "80% [==============================>        ] 19,120,666   147KB/s  eta 20s    "
       ]
      },
      {
       "output_type": "stream",
       "stream": "stdout",
       "text": [
        "\r",
        "80% [==============================>        ] 19,150,498   140KB/s  eta 20s    "
       ]
      },
      {
       "output_type": "stream",
       "stream": "stdout",
       "text": [
        "\r",
        "80% [==============================>        ] 19,183,042   138KB/s  eta 20s    "
       ]
      },
      {
       "output_type": "stream",
       "stream": "stdout",
       "text": [
        "\r",
        "81% [==============================>        ] 19,219,350   134KB/s  eta 20s    "
       ]
      },
      {
       "output_type": "stream",
       "stream": "stdout",
       "text": [
        "\r",
        "81% [==============================>        ] 19,232,910   131KB/s  eta 20s    "
       ]
      },
      {
       "output_type": "stream",
       "stream": "stdout",
       "text": [
        "\r",
        "81% [==============================>        ] 19,268,166   128KB/s  eta 20s    "
       ]
      },
      {
       "output_type": "stream",
       "stream": "stdout",
       "text": [
        "\r",
        "81% [==============================>        ] 19,299,658   122KB/s  eta 20s    "
       ]
      },
      {
       "output_type": "stream",
       "stream": "stdout",
       "text": [
        "\r",
        "81% [==============================>        ] 19,338,678   121KB/s  eta 20s    "
       ]
      },
      {
       "output_type": "stream",
       "stream": "stdout",
       "text": [
        "\r",
        "81% [==============================>        ] 19,377,006   124KB/s  eta 19s    "
       ]
      },
      {
       "output_type": "stream",
       "stream": "stdout",
       "text": [
        "\r",
        "81% [==============================>        ] 19,405,426   117KB/s  eta 19s    "
       ]
      },
      {
       "output_type": "stream",
       "stream": "stdout",
       "text": [
        "\r",
        "81% [==============================>        ] 19,437,970   117KB/s  eta 19s    "
       ]
      },
      {
       "output_type": "stream",
       "stream": "stdout",
       "text": [
        "\r",
        "82% [===============================>       ] 19,473,226   117KB/s  eta 19s    "
       ]
      },
      {
       "output_type": "stream",
       "stream": "stdout",
       "text": [
        "\r",
        "82% [===============================>       ] 19,508,482   119KB/s  eta 19s    "
       ]
      },
      {
       "output_type": "stream",
       "stream": "stdout",
       "text": [
        "\r",
        "82% [===============================>       ] 19,536,654   111KB/s  eta 19s    "
       ]
      },
      {
       "output_type": "stream",
       "stream": "stdout",
       "text": [
        "\r",
        "82% [===============================>       ] 19,589,842   116KB/s  eta 19s    "
       ]
      },
      {
       "output_type": "stream",
       "stream": "stdout",
       "text": [
        "\r",
        "82% [===============================>       ] 19,614,250   117KB/s  eta 19s    "
       ]
      },
      {
       "output_type": "stream",
       "stream": "stdout",
       "text": [
        "\r",
        "82% [===============================>       ] 19,645,438   120KB/s  eta 18s    "
       ]
      },
      {
       "output_type": "stream",
       "stream": "stdout",
       "text": [
        "\r",
        "82% [===============================>       ] 19,677,982   121KB/s  eta 18s    "
       ]
      },
      {
       "output_type": "stream",
       "stream": "stdout",
       "text": [
        "\r",
        "82% [===============================>       ] 19,690,186   121KB/s  eta 18s    "
       ]
      },
      {
       "output_type": "stream",
       "stream": "stdout",
       "text": [
        "\r",
        "83% [===============================>       ] 19,722,730   119KB/s  eta 18s    "
       ]
      },
      {
       "output_type": "stream",
       "stream": "stdout",
       "text": [
        "\r",
        "83% [===============================>       ] 19,759,342   120KB/s  eta 18s    "
       ]
      },
      {
       "output_type": "stream",
       "stream": "stdout",
       "text": [
        "\r",
        "83% [===============================>       ] 19,783,446   115KB/s  eta 18s    "
       ]
      },
      {
       "output_type": "stream",
       "stream": "stdout",
       "text": [
        "\r",
        "83% [===============================>       ] 19,835,278   121KB/s  eta 18s    "
       ]
      },
      {
       "output_type": "stream",
       "stream": "stdout",
       "text": [
        "\r",
        "83% [===============================>       ] 19,866,466   120KB/s  eta 18s    "
       ]
      },
      {
       "output_type": "stream",
       "stream": "stdout",
       "text": [
        "\r",
        "83% [===============================>       ] 19,889,214   118KB/s  eta 18s    "
       ]
      },
      {
       "output_type": "stream",
       "stream": "stdout",
       "text": [
        "\r",
        "84% [===============================>       ] 19,931,554   119KB/s  eta 18s    "
       ]
      },
      {
       "output_type": "stream",
       "stream": "stdout",
       "text": [
        "\r",
        "84% [===============================>       ] 19,974,946   120KB/s  eta 17s    "
       ]
      },
      {
       "output_type": "stream",
       "stream": "stdout",
       "text": [
        "\r",
        "84% [===============================>       ] 20,008,846   121KB/s  eta 17s    "
       ]
      },
      {
       "output_type": "stream",
       "stream": "stdout",
       "text": [
        "\r",
        "84% [===============================>       ] 20,041,390   129KB/s  eta 17s    "
       ]
      },
      {
       "output_type": "stream",
       "stream": "stdout",
       "text": [
        "\r",
        "84% [================================>      ] 20,076,646   125KB/s  eta 17s    "
       ]
      },
      {
       "output_type": "stream",
       "stream": "stdout",
       "text": [
        "\r",
        "84% [================================>      ] 20,111,902   124KB/s  eta 16s    "
       ]
      },
      {
       "output_type": "stream",
       "stream": "stdout",
       "text": [
        "\r",
        "84% [================================>      ] 20,149,870   129KB/s  eta 16s    "
       ]
      },
      {
       "output_type": "stream",
       "stream": "stdout",
       "text": [
        "\r",
        "84% [================================>      ] 20,162,130   124KB/s  eta 16s    "
       ]
      },
      {
       "output_type": "stream",
       "stream": "stdout",
       "text": [
        "\r",
        "85% [================================>      ] 20,228,214   131KB/s  eta 16s    "
       ]
      },
      {
       "output_type": "stream",
       "stream": "stdout",
       "text": [
        "\r",
        "85% [================================>      ] 20,253,978   131KB/s  eta 16s    "
       ]
      },
      {
       "output_type": "stream",
       "stream": "stdout",
       "text": [
        "\r",
        "85% [================================>      ] 20,311,234   134KB/s  eta 16s    "
       ]
      },
      {
       "output_type": "stream",
       "stream": "stdout",
       "text": [
        "\r",
        "85% [================================>      ] 20,336,998   133KB/s  eta 16s    "
       ]
      },
      {
       "output_type": "stream",
       "stream": "stdout",
       "text": [
        "\r",
        "85% [================================>      ] 20,357,338   130KB/s  eta 16s    "
       ]
      },
      {
       "output_type": "stream",
       "stream": "stdout",
       "text": [
        "\r",
        "85% [================================>      ] 20,379,034   130KB/s  eta 16s    "
       ]
      },
      {
       "output_type": "stream",
       "stream": "stdout",
       "text": [
        "\r",
        "85% [================================>      ] 20,400,730   129KB/s  eta 15s    "
       ]
      },
      {
       "output_type": "stream",
       "stream": "stdout",
       "text": [
        "\r",
        "86% [================================>      ] 20,429,206   126KB/s  eta 15s    "
       ]
      },
      {
       "output_type": "stream",
       "stream": "stdout",
       "text": [
        "\r",
        "86% [================================>      ] 20,456,326   119KB/s  eta 15s    "
       ]
      },
      {
       "output_type": "stream",
       "stream": "stdout",
       "text": [
        "\r",
        "86% [================================>      ] 20,499,718   124KB/s  eta 15s    "
       ]
      },
      {
       "output_type": "stream",
       "stream": "stdout",
       "text": [
        "\r",
        "86% [================================>      ] 20,524,126   122KB/s  eta 15s    "
       ]
      },
      {
       "output_type": "stream",
       "stream": "stdout",
       "text": [
        "\r",
        "86% [================================>      ] 20,545,822   121KB/s  eta 15s    "
       ]
      },
      {
       "output_type": "stream",
       "stream": "stdout",
       "text": [
        "\r",
        "86% [================================>      ] 20,571,586   118KB/s  eta 15s    "
       ]
      },
      {
       "output_type": "stream",
       "stream": "stdout",
       "text": [
        "\r",
        "86% [================================>      ] 20,593,282   117KB/s  eta 15s    "
       ]
      },
      {
       "output_type": "stream",
       "stream": "stdout",
       "text": [
        "\r",
        "86% [================================>      ] 20,623,114   114KB/s  eta 14s    "
       ]
      },
      {
       "output_type": "stream",
       "stream": "stdout",
       "text": [
        "\r",
        "87% [================================>      ] 20,667,862   121KB/s  eta 14s    "
       ]
      },
      {
       "output_type": "stream",
       "stream": "stdout",
       "text": [
        "\r",
        "87% [=================================>     ] 20,697,390   115KB/s  eta 14s    "
       ]
      },
      {
       "output_type": "stream",
       "stream": "stdout",
       "text": [
        "\r",
        "87% [=================================>     ] 20,719,390   113KB/s  eta 14s    "
       ]
      },
      {
       "output_type": "stream",
       "stream": "stdout",
       "text": [
        "\r",
        "87% [=================================>     ] 20,734,306   115KB/s  eta 14s    "
       ]
      },
      {
       "output_type": "stream",
       "stream": "stdout",
       "text": [
        "\r",
        "87% [=================================>     ] 20,762,782   107KB/s  eta 14s    "
       ]
      },
      {
       "output_type": "stream",
       "stream": "stdout",
       "text": [
        "\r",
        "87% [=================================>     ] 20,793,970   108KB/s  eta 14s    "
       ]
      },
      {
       "output_type": "stream",
       "stream": "stdout",
       "text": [
        "\r",
        "87% [=================================>     ] 20,829,226   111KB/s  eta 14s    "
       ]
      },
      {
       "output_type": "stream",
       "stream": "stdout",
       "text": [
        "\r",
        "87% [=================================>     ] 20,868,550   113KB/s  eta 14s    "
       ]
      },
      {
       "output_type": "stream",
       "stream": "stdout",
       "text": [
        "\r",
        "88% [=================================>     ] 20,907,874   115KB/s  eta 13s    "
       ]
      },
      {
       "output_type": "stream",
       "stream": "stdout",
       "text": [
        "\r",
        "88% [=================================>     ] 20,955,334   119KB/s  eta 13s    "
       ]
      },
      {
       "output_type": "stream",
       "stream": "stdout",
       "text": [
        "\r",
        "88% [=================================>     ] 21,009,574   124KB/s  eta 13s    "
       ]
      },
      {
       "output_type": "stream",
       "stream": "stdout",
       "text": [
        "\r",
        "88% [=================================>     ] 21,067,882   128KB/s  eta 13s    "
       ]
      },
      {
       "output_type": "stream",
       "stream": "stdout",
       "text": [
        "\r",
        "89% [=================================>     ] 21,130,258   140KB/s  eta 13s    "
       ]
      },
      {
       "output_type": "stream",
       "stream": "stdout",
       "text": [
        "\r",
        "89% [=================================>     ] 21,183,198   146KB/s  eta 12s    "
       ]
      },
      {
       "output_type": "stream",
       "stream": "stdout",
       "text": [
        "\r",
        "89% [=================================>     ] 21,257,722   155KB/s  eta 12s    "
       ]
      },
      {
       "output_type": "stream",
       "stream": "stdout",
       "text": [
        "\r",
        "89% [==================================>    ] 21,320,098   160KB/s  eta 12s    "
       ]
      },
      {
       "output_type": "stream",
       "stream": "stdout",
       "text": [
        "\r",
        "90% [==================================>    ] 21,474,378   185KB/s  eta 12s    "
       ]
      },
      {
       "output_type": "stream",
       "stream": "stdout",
       "text": [
        "\r",
        "90% [==================================>    ] 21,539,770   186KB/s  eta 10s    "
       ]
      },
      {
       "output_type": "stream",
       "stream": "stdout",
       "text": [
        "\r",
        "91% [==================================>    ] 21,655,030   201KB/s  eta 10s    "
       ]
      },
      {
       "output_type": "stream",
       "stream": "stdout",
       "text": [
        "\r",
        "91% [==================================>    ] 21,668,286   196KB/s  eta 10s    "
       ]
      },
      {
       "output_type": "stream",
       "stream": "stdout",
       "text": [
        "\r",
        "91% [==================================>    ] 21,759,138   207KB/s  eta 10s    "
       ]
      },
      {
       "output_type": "stream",
       "stream": "stdout",
       "text": [
        "\r",
        "91% [==================================>    ] 21,797,410   215KB/s  eta 9s     "
       ]
      },
      {
       "output_type": "stream",
       "stream": "stdout",
       "text": [
        "\r",
        "92% [==================================>    ] 21,842,158   219KB/s  eta 9s     "
       ]
      },
      {
       "output_type": "stream",
       "stream": "stdout",
       "text": [
        "\r",
        "92% [==================================>    ] 21,886,906   222KB/s  eta 9s     "
       ]
      },
      {
       "output_type": "stream",
       "stream": "stdout",
       "text": [
        "\r",
        "92% [===================================>   ] 21,942,502   230KB/s  eta 9s     "
       ]
      },
      {
       "output_type": "stream",
       "stream": "stdout",
       "text": [
        "\r",
        "92% [===================================>   ] 21,980,470   226KB/s  eta 9s     "
       ]
      },
      {
       "output_type": "stream",
       "stream": "stdout",
       "text": [
        "\r",
        "92% [===================================>   ] 22,022,506   223KB/s  eta 8s     "
       ]
      },
      {
       "output_type": "stream",
       "stream": "stdout",
       "text": [
        "\r",
        "93% [===================================>   ] 22,069,966   221KB/s  eta 8s     "
       ]
      },
      {
       "output_type": "stream",
       "stream": "stdout",
       "text": [
        "\r",
        "93% [===================================>   ] 22,116,070   218KB/s  eta 8s     "
       ]
      },
      {
       "output_type": "stream",
       "stream": "stdout",
       "text": [
        "\r",
        "93% [===================================>   ] 22,160,818   210KB/s  eta 8s     "
       ]
      },
      {
       "output_type": "stream",
       "stream": "stdout",
       "text": [
        "\r",
        "93% [===================================>   ] 22,209,634   207KB/s  eta 7s     "
       ]
      },
      {
       "output_type": "stream",
       "stream": "stdout",
       "text": [
        "\r",
        "93% [===================================>   ] 22,254,382   211KB/s  eta 7s     "
       ]
      },
      {
       "output_type": "stream",
       "stream": "stdout",
       "text": [
        "\r",
        "94% [===================================>   ] 22,312,690   189KB/s  eta 7s     "
       ]
      },
      {
       "output_type": "stream",
       "stream": "stdout",
       "text": [
        "\r",
        "94% [===================================>   ] 22,346,590   181KB/s  eta 7s     "
       ]
      },
      {
       "output_type": "stream",
       "stream": "stdout",
       "text": [
        "\r",
        "94% [===================================>   ] 22,392,694   195KB/s  eta 7s     "
       ]
      },
      {
       "output_type": "stream",
       "stream": "stdout",
       "text": [
        "\r",
        "94% [===================================>   ] 22,438,798   177KB/s  eta 6s     "
       ]
      },
      {
       "output_type": "stream",
       "stream": "stdout",
       "text": [
        "\r",
        "94% [===================================>   ] 22,487,614   181KB/s  eta 6s     "
       ]
      },
      {
       "output_type": "stream",
       "stream": "stdout",
       "text": [
        "\r",
        "94% [===================================>   ] 22,503,582   181KB/s  eta 6s     "
       ]
      },
      {
       "output_type": "stream",
       "stream": "stdout",
       "text": [
        "\r",
        "95% [====================================>  ] 22,581,178   177KB/s  eta 6s     "
       ]
      },
      {
       "output_type": "stream",
       "stream": "stdout",
       "text": [
        "\r",
        "95% [====================================>  ] 22,620,198   177KB/s  eta 5s     "
       ]
      },
      {
       "output_type": "stream",
       "stream": "stdout",
       "text": [
        "\r",
        "95% [====================================>  ] 22,658,166   178KB/s  eta 5s     "
       ]
      },
      {
       "output_type": "stream",
       "stream": "stdout",
       "text": [
        "\r",
        "95% [====================================>  ] 22,731,694   181KB/s  eta 5s     "
       ]
      },
      {
       "output_type": "stream",
       "stream": "stdout",
       "text": [
        "\r",
        "96% [====================================>  ] 22,776,442   180KB/s  eta 5s     "
       ]
      },
      {
       "output_type": "stream",
       "stream": "stdout",
       "text": [
        "\r",
        "96% [====================================>  ] 22,826,310   178KB/s  eta 4s     "
       ]
      },
      {
       "output_type": "stream",
       "stream": "stdout",
       "text": [
        "\r",
        "96% [====================================>  ] 22,878,142   177KB/s  eta 4s     "
       ]
      },
      {
       "output_type": "stream",
       "stream": "stdout",
       "text": [
        "\r",
        "96% [====================================>  ] 22,929,670   177KB/s  eta 4s     "
       ]
      },
      {
       "output_type": "stream",
       "stream": "stdout",
       "text": [
        "\r",
        "96% [====================================>  ] 22,979,842   180KB/s  eta 4s     "
       ]
      },
      {
       "output_type": "stream",
       "stream": "stdout",
       "text": [
        "\r",
        "97% [====================================>  ] 23,051,710   186KB/s  eta 3s     "
       ]
      },
      {
       "output_type": "stream",
       "stream": "stdout",
       "text": [
        "\r",
        "97% [====================================>  ] 23,099,170   190KB/s  eta 3s     "
       ]
      },
      {
       "output_type": "stream",
       "stream": "stdout",
       "text": [
        "\r",
        "97% [=====================================> ] 23,137,138   191KB/s  eta 3s     "
       ]
      },
      {
       "output_type": "stream",
       "stream": "stdout",
       "text": [
        "\r",
        "97% [=====================================> ] 23,176,462   189KB/s  eta 3s     "
       ]
      },
      {
       "output_type": "stream",
       "stream": "stdout",
       "text": [
        "\r",
        "97% [=====================================> ] 23,221,210   190KB/s  eta 3s     "
       ]
      },
      {
       "output_type": "stream",
       "stream": "stdout",
       "text": [
        "\r",
        "97% [=====================================> ] 23,234,466   180KB/s  eta 2s     "
       ]
      },
      {
       "output_type": "stream",
       "stream": "stdout",
       "text": [
        "\r",
        "98% [=====================================> ] 23,309,350   184KB/s  eta 2s     "
       ]
      },
      {
       "output_type": "stream",
       "stream": "stdout",
       "text": [
        "\r",
        "98% [=====================================> ] 23,343,250   199KB/s  eta 2s     "
       ]
      },
      {
       "output_type": "stream",
       "stream": "stdout",
       "text": [
        "\r",
        "98% [=====================================> ] 23,385,342   184KB/s  eta 2s     "
       ]
      },
      {
       "output_type": "stream",
       "stream": "stdout",
       "text": [
        "\r",
        "98% [=====================================> ] 23,446,306   192KB/s  eta 1s     "
       ]
      },
      {
       "output_type": "stream",
       "stream": "stdout",
       "text": [
        "\r",
        "98% [=====================================> ] 23,477,494   187KB/s  eta 1s     "
       ]
      },
      {
       "output_type": "stream",
       "stream": "stdout",
       "text": [
        "\r",
        "99% [=====================================> ] 23,510,038   185KB/s  eta 1s     "
       ]
      },
      {
       "output_type": "stream",
       "stream": "stdout",
       "text": [
        "\r",
        "99% [=====================================> ] 23,541,226   181KB/s  eta 1s     "
       ]
      },
      {
       "output_type": "stream",
       "stream": "stdout",
       "text": [
        "\r",
        "99% [=====================================> ] 23,577,838   177KB/s  eta 1s     "
       ]
      },
      {
       "output_type": "stream",
       "stream": "stdout",
       "text": [
        "\r",
        "99% [=====================================> ] 23,602,246   169KB/s  eta 1s     "
       ]
      },
      {
       "output_type": "stream",
       "stream": "stdout",
       "text": [
        "\r",
        "99% [=====================================> ] 23,637,502   168KB/s  eta 1s     "
       ]
      },
      {
       "output_type": "stream",
       "stream": "stdout",
       "text": [
        "\r",
        "99% [=====================================> ] 23,671,402   162KB/s  eta 1s     "
       ]
      },
      {
       "output_type": "stream",
       "stream": "stdout",
       "text": [
        "\r",
        "99% [=====================================> ] 23,708,014   158KB/s  eta 1s     "
       ]
      },
      {
       "output_type": "stream",
       "stream": "stdout",
       "text": [
        "\r",
        "100%[======================================>] 23,723,399   159KB/s   in 1m 53s \r\n",
        "\r\n",
        "2015-09-09 11:27:13 (206 KB/s) - 'PlasmoDB-25_Pfalciparum3D7_Genome.fasta' saved [23723399/23723399]\r\n",
        "\r\n"
       ]
      }
     ],
     "prompt_number": 21
    },
    {
     "cell_type": "code",
     "collapsed": false,
     "input": [
      "!gunzip Pfalciparum.genome.fasta.gz"
     ],
     "language": "python",
     "metadata": {},
     "outputs": [],
     "prompt_number": 8
    },
    {
     "cell_type": "code",
     "collapsed": false,
     "input": [
      "my_ref = SeqIO.to_dict(SeqIO.parse(open(my_fasta), \"fasta\"))"
     ],
     "language": "python",
     "metadata": {},
     "outputs": [],
     "prompt_number": 5
    },
    {
     "cell_type": "code",
     "collapsed": false,
     "input": [
      "for chromosome in my_ref:\n",
      "    print(chromosome, len(my_ref[chromosome]))"
     ],
     "language": "python",
     "metadata": {},
     "outputs": [
      {
       "output_type": "stream",
       "stream": "stdout",
       "text": [
        "Pf3D7_08_v3 1472805\n",
        "Pf3D7_02_v3 947102\n",
        "Pf3D7_03_v3 1067971\n",
        "Pf3D7_05_v3 1343557\n",
        "PF_apicoplast_genome_1 29430\n",
        "Pf3D7_09_v3 1541735\n",
        "Pf3D7_11_v3 2038340\n",
        "Pf3D7_14_v3 3291936\n",
        "Pf3D7_13_v3 2925236\n",
        "Pf3D7_12_v3 2271494\n",
        "Pf3D7_10_v3 1687656\n",
        "Pf3D7_06_v3 1418242\n",
        "Pf_M76611 5967\n",
        "Pf3D7_07_v3 1445207\n",
        "Pf3D7_01_v3 640851\n",
        "Pf3D7_04_v3 1200490\n"
       ]
      }
     ],
     "prompt_number": 6
    },
    {
     "cell_type": "code",
     "collapsed": false,
     "input": [
      "genedb_aug2015_ref = SeqIO.to_dict(SeqIO.parse(open('Pfalciparum.genome.fasta'), \"fasta\"))"
     ],
     "language": "python",
     "metadata": {},
     "outputs": [],
     "prompt_number": 9
    },
    {
     "cell_type": "code",
     "collapsed": false,
     "input": [
      "for chromosome in genedb_aug2015_ref:\n",
      "    print(chromosome, len(genedb_aug2015_ref[chromosome]))"
     ],
     "language": "python",
     "metadata": {},
     "outputs": [
      {
       "output_type": "stream",
       "stream": "stdout",
       "text": [
        "Pf3D7_08_v3 1472805\n",
        "Pf3D7_02_v3 947102\n",
        "Pf3D7_03_v3 1067971\n",
        "Pf3D7_API_v3 34250\n",
        "Pf3D7_05_v3 1343557\n",
        "Pf3D7_09_v3 1541735\n",
        "Pf3D7_11_v3 2038340\n",
        "Pf3D7_14_v3 3291936\n",
        "Pf3D7_13_v3 2925236\n",
        "Pf3D7_12_v3 2271494\n",
        "Pf3D7_10_v3 1687656\n",
        "Pf3D7_06_v3 1418242\n",
        "Pf_M76611 5967\n",
        "Pf3D7_07_v3 1445207\n",
        "Pf3D7_01_v3 640851\n",
        "Pf3D7_04_v3 1200490\n"
       ]
      }
     ],
     "prompt_number": 10
    },
    {
     "cell_type": "code",
     "collapsed": false,
     "input": [
      "plasmodb_25_ref = SeqIO.to_dict(SeqIO.parse(open('PlasmoDB-25_Pfalciparum3D7_Genome.fasta'), \"fasta\"))\n",
      "for chromosome in plasmodb_25_ref:\n",
      "    print(chromosome, len(plasmodb_25_ref[chromosome]))"
     ],
     "language": "python",
     "metadata": {},
     "outputs": [
      {
       "output_type": "stream",
       "stream": "stdout",
       "text": [
        "Pf3D7_08_v3 1472805\n",
        "Pf3D7_02_v3 947102\n",
        "Pf3D7_03_v3 1067971\n",
        "Pf3D7_05_v3 1343557\n",
        "Pf3D7_09_v3 1541735\n",
        "Pf3D7_11_v3 2038340\n",
        "Pf3D7_14_v3 3291936\n",
        "PFC10_API_IRAB 34242\n",
        "Pf3D7_10_v3 1687656\n",
        "Pf3D7_12_v3 2271494\n",
        "Pf3D7_06_v3 1418242\n",
        "Pf3D7_13_v3 2925236\n",
        "M76611 5967\n",
        "Pf3D7_07_v3 1445207\n",
        "Pf3D7_01_v3 640851\n",
        "Pf3D7_04_v3 1200490\n"
       ]
      }
     ],
     "prompt_number": 22
    },
    {
     "cell_type": "code",
     "collapsed": false,
     "input": [
      "old_ref = SeqIO.to_dict(SeqIO.parse(open(old_fasta), \"fasta\"))\n",
      "for chromosome in old_ref:\n",
      "    print(chromosome, len(old_ref[chromosome]))"
     ],
     "language": "python",
     "metadata": {},
     "outputs": [
      {
       "output_type": "stream",
       "stream": "stdout",
       "text": [
        "Pf3D7_08_v3 1472805\n",
        "Pf3D7_02_v3 947102\n",
        "Pf3D7_03_v3 1067971\n",
        "Pf3D7_05_v3 1343557\n",
        "Pf3D7_09_v3 1541735\n",
        "Pf3D7_11_v3 2038340\n",
        "Pf3D7_14_v3 3291936\n",
        "M76611 5967\n",
        "PFC10_API_IRAB 34242\n",
        "Pf3D7_04_v3 1200490\n",
        "Pf3D7_10_v3 1687656\n",
        "Pf3D7_13_v3 2925236\n",
        "Pf3D7_06_v3 1418242\n",
        "Pf3D7_07_v3 1445207\n",
        "Pf3D7_01_v3 640851\n",
        "Pf3D7_12_v3 2271494\n"
       ]
      }
     ],
     "prompt_number": 11
    },
    {
     "cell_type": "code",
     "collapsed": false,
     "input": [
      "str(old_ref['PFC10_API_IRAB'].seq)"
     ],
     "language": "python",
     "metadata": {},
     "outputs": [
      {
       "metadata": {},
       "output_type": "pyout",
       "prompt_number": 15,
       "text": [
        "'GATCCTATTTTTTTTATAGGTTTTTTTAGAATTGAACTAAAATTTTACCCTTATCAAGAGTATGTTTTAACCATTAAACTAAAAACCTATAAATTATTAAAATAATATTTAACTAAATTTACATTAATGTGTATTAATATTATTTTTGTCTATAAAATTGTTAATTATATATAAATAAATTTATTAGTTTTATATATAAATATTATTTTATTTATTATGTAAATAAATCAACCAAAAATTTATTTTATTATCCAGCCGCACCTTCCAGTACGGCTACCTTGTTACGACTTCATCTAAATTATATAATTATATATTATTATTTAACAATAATTTTTATATAATATGATACTTTTTAGATGTGACGGGCGGTGTGTACAAAGCTTAAGAACTTATTCACCGCTATAATTCTGATTAGCGATTACTAGTGATTCCATCTTTATATAAATGAGTTTCAATTTATAATCTGAACTATAAATATATTTTAATTATTATATTTAACATATAATAAAATATTGTAATATTTTATGTAACACGTGAGCAGCCCAAAATATAAGGAGCATAATGACTTGACGTAATCTTTATTATTATTTATTATAAAAATTTTTTTTATAAAAGGTTACGTTCGTTATAATACTAAAATTAACACTTCACAGCACGAACTGACGACAGCCATGCACTACCTATATATTTTATTAAAATATTAATTTCTTAATATTAAAAATATTGTTAAATTTTGGTAAGGTTTATCGTGTTGCATCGAATTAAGCCACATGTTCCACCACTTGTATAAGCTCCCGTCAATTCCTTTGAATTTCATTCTTGCGAATATACTACTCAGGCGGAATATTTATCACGTTAGTTATTATATTTATAAAATATAAATATAAAATATTCATAGTTTACAGCTAAGACTACTAGGGTATCTAATCCTATTTGCTACCTTAGCTTTCGTTTTTAAGTGTCAGTAATTATATAGTATTATGCTTCCGCCTTTGATATTCTTTTTTGTATCATTGTATTTCACTACTTCTCAAAAAATTCTTAATACTTTTATAATACTCTATTATATTATTATTTATTAATTTATTTTAAATTTAATTTAAATATTTAAACATAAAATTAATATAAAACCTTAAAACGCTTTACGCCTAATAAAATGAATAACGCTTGCATTTTCTGTATTACCGCTGCTGCTGGCACAGAAATAGCAAATACTATTTTTTATTTTTATCAATATTTAAAAATAAAATAAAAAGTTTACAATATTTTAATAATACTGTCTTCCTAAAAGAAATATTACTTTATCAAGCTTACACTTATTGTAAAATATTCCTCACTGCTGATTTTTTATAAAAATTTAGGCTTTATTTCAATCCTAATGTGATTGTACATTCTTTCAAACCAATTTTTGATAATAACCTTGGTAGTCTTTTAAATTACCAACTAGTTAATCAAATATAAATTTTATTTTAAATAATATTAATTTTTAATATAGTACATATATTTTTGCGCTTATAGATTATTATTTAATAAAATTTATAATCTATTTAAAATTAAAAATTTATATATCCTCACCTATACACTATGATATTATCATTAATTTGCATGTGTAATGTATATTTCTAGCGTTAATTCTGAGCTAGGATCAAACTCGCAATATAATAAAATATATATTTTAAATATATAAATAACATATATAGAAATTATATGGAAATAAGTAGAATTGAACTACTATCTTTATTATGCAAAAATAAGATTTTACCATTAAACTATATTCCCAAATATATATTTATATATAAATATAAATATTCTTAATAGCTTAGTGGTTAAAGCATTCGGCTGTTAACCGAAATACACTAGTTCAATTCTAGTTTAAGAAGTTTAAATAAATATGAATAAAGAGATTTGAACTCTTATTATAATAACTAAAATCTAAATTTAGTGCGTTTACCTATTTCGCCATATTCATATATATATAAATCTAGTAAGATTTGAACTTACATATAAAACTTAGAAGGTTTTTATTTTATCCATTAAATTATAGATTTTTAAGTAATATTGGATTCGAACCAATGGTCTTCTGTATGTAAAGCAGAAACTTTACCTCTAAGTTAATTACTTTAAATTTTATATTTATAAATAAACTTGTAATTTAATGGATAAAATATATAAATACGAATTATAAAATAAAAGTTCAATTCTTTTCAAGTTTATTTTTAGCGAAATAGAGCATAAGGAAAGTTCGTCGGATTCATGCTCCGAAGGTAATCGGTTCAATTCCGTTTTTCGCTTATAATTATATAAATTTATTTATTATAATTTAAATTAAATATATAATTAAATATATATAATAAATTTAAAAGGATGTCTATAATTTTTATTAAATAAGAAAGACGTTATATATATTAACGAAATTTTTATAATAATTAATAAAAATATATTTATATTTATTAATAAATATTATTATAAAAGTATCTGATAAAATATTTTTATATAAATATTTTATTTAAAAACTTAAGGAATTGAATCATCTTAGTACTTAAAGGAATAAAAAGTAATAACGATTTTCATAGTAGCGGCGAGCGAATTGAAAAAAAATAAACATTTAAAAAAATATGTAAAATTTTAATAAAGTAATATAATATATAATTTTATATAAATAATATAAAAAATAATAAGAATTACCTTATAAAATTAAATATAATAAAAGTTTATAGAGAAAAGTACCGTGAGGAAAGATGAAAAGAATTTTGAAAAAATAGTGAAAAGAATCTGAATTTTAATTTAAATAAATTATAATAAAATTTAATTTTAATTTTATTATATTCTTGTTGAAGAAAGAATTAGCAAGTTATAATAAATAGTATAATAATTAGGTTAAATATATTTAAATAATGAAGCCAAAGTTAAATCGAATTTATTTTTTTAATAAATTTAAAATATATTATTTATTATAGACCCGAAATCAAATGATCTAATTATATTTAAAATAAAATTTAAATAAAATTAAATTATAGTTTGAATTGATTACTGTTGCAAAAGTATCAAATAAAATATAATTAGTGGTGAAATGCCAATCGAATTTGAAGATAGCTGGTTCTCTTTGAAATATATGTAAGTATAGTATTTATATATAAATAAATGTAAAACTCTTTTTTTATTAGATTAATTTAAATAATTAATATTAATATTAATAATTTAATAATTTTATTTAATAAAATATATATATTATTAGAAAATAAAGGATAAGCTTTATTTTCAAAAGGGAAACAGCCCTAATTATAAATTAAGATTTTTAAATATTAATTAAGTTTTAAAAAGAATATAAAATTATATTAATAATTAAAAAGTAAATTTAGAAGCAGTTATCTTTTAAAGAGTGCGTAAAAGCTCATTAATTTAATAATTTTAGTTCAAAAATAATCGAAAATAAATTAATTATCGATATTATAAAATTTAATATTAGTACAATTAAATTGGTAAAAGAGCGTTTTGATAAAATATTATTTATATGTAAATTAAAATAATAAAATCAAAAGTGATAATGCTAATTTGAGTAATGTAAATATTGGTAAAAATCCAATACTTCTATAATTTAAGGTTTCCTATTTATAATTTTTTTTAATAGGGTTAGTCGAATCTTAAAATGAGATGAAACGTGTAATTGATAGATAATAAGTTAATATTCTTATACTATATTATAATTTATATTTTAAGACTAATATTAATAATTTTAATATTATTTATATTATATAAAAATTATTAATATATTTATTATAATATATTCGTACCGTAAACTGACACTAGTAAATATATATATATTATTAAGAAGTTAAGATAATTTTTTTTAAGGAACTCGGCAATTTAATCTTGTAACTTAGGGATAAAAGATACTTTTTAGTTGAAAATAAAAAATTTAAGCGACTGTTTAACAAAAACACAAATCTTTGCTAAATTGAAAAATGATGTATAAAGATTGACATCTGCCCAGTGCTATTATGTTAAAATAATATATGTAATTAAATTATAATATATATATAAGCTATAGTAAACGGCGGCTGTATCTATAACGGTCCAAAGGTAGCGAAATTCCTTGTCGGGTAAGTTCCGACCTGCATGAAAGATGTAACGACTTAAATGCTGTCTTAAAAAAAATCTTAATGAAATAAAATTATCTGTGAAGATACAGATTTCTTATATTAGGACAGAAAGACCCTATGAAGCTTTACTATTAATAAATAATGAAAATATATATATTTAACATAGTATAAATGGGAAACAATAATATTATTTTCTTGGAAATAATTTAGTTAAAAATGAAATACCATTTTATTTATATATAAATTCTTATAGAAATTTTATAACAAATTTTTAAACAATATTTATGAGATAGTTTGACTGGGGCGGTCTCCTCCTATATATAAACGGAGGAGTACAATGTTATATTTATTATATAAAGATATAATATATAATTAACTGTAAAATTTACAAATTAAACAGAGATAAATGTCGGTCTTAATGATCCGATAATTATTTAGTAATAAAATTATCGCTTAACGGATAAAAGTTACTCTAGGGATAACAGGCTAATCTTTTCCGAGAGTCCATATTGACGAAAAGGTTTGGCACCTCGATGTCGGCTTATCGCATCCTAAAGCAGTAGTATGTTTTAAGGGTAAGTCTGTTCGCCTATTAAAGCGATACGTGAGCTGGGTTCAGAACGTCGTGAGACAGTTCGGTCCATATCTAATATAAGTGTTAGAATATTGAAATTATTTTTTTTAGTACGAGAGGATCAAAAAAATTATACCAATGATATATCAATTATAAAATTTTTTTGTAAAGTTGAGTAGTTAAGTATAAAATTTTAATTGTTGAAGTAATATAAATAAGAAAATTTAGTTAAAAATAATATTCTAATCATATAAATGAATAAAACAATAATTAGAAAAATTATTTTATAGGATTAGTATGTATTTATAGTAATATATTTAGTGTATAATTCCTAATAAGTTGAATATTTAATTATTTATTGTTATATTTGCTAAAGTAGCTTAATTGGTAAAGCAACTGATTTGTAATCAGTAGATTATGAGTTCAAATCTCACCATTAGCTTTTATTATTTTTATATATAATTATTATGATAAAATTAAAAAATTTTTTAAATATTTATAATTTAAATTATAAATATCAATATAAAAATAAAATAAATTTATATTTAATAAGACAAGGATTAAATATAAATTTAATAAAAAATTTATCTAGTAATATTTTTTTATATATGTTTATTTATAATTTTAAAAAATATTCTTTAAAATTATTAAATATATTTAAATTACCTGATTGGAATTTTTTTGATTGTCCAAATATAAATTATGATAATATTATTTATTATTCTTCTATTTTAAAAGATAATAATTTAATATATTATTTAAAAAATAATTTAAATATTGAATTTTTAGATAGTATATTAATAAAAAATAATTCTATAGATATTATATTTGATAGTATGTCTATTTTACATACTACACAATATTTTTTAAAAAAATTAGGAATAATTTTTTTACCTTTATTTGATATTATATTTAAATATCCTTTATTAATAAAAAAATATTTAGGTACTATTATTTCTTATAAAGATAATTTTTTTGCTAATATTAATTCAATAATATTTAGTGAAGGATCTTTTTGTTATATACCTAAATATGTAAAGTGTAATTTTAATTTATCAACATATTTTAAAACTAATTCTTCTGATTTTGCACAATTTGAACGTACTTTAATAATAGTTGGTAAATATTCTTATGTATCATATTTAGAAGGATGTACAGCTTCATTATATAAAGAATCACAATTACATGTAGCTATAGTAGAAATAATAGTAAAAGATTATGGTTATATAAAATATTATACATTACAAAATTGGTATAGAGGAGATTATTTAGGTAATGGTGGTTTATATAATTTTACAACTAAACGTGGTATATGTTTAAATTATTCAAAATTAGATTGGATACAAGTTGAAGTAGGTTCGATTATAACATGGAAATACCCTTCTACTATTTTAAAAGGTAAATTTTCTATTAGTAATTTTTATTCAATATCTTTTATATCAAATATGCAAATAGCTGATACTGGTAGTAAAATGTATCATATAGGATCTTATACTAAAAGTTATATAATTTCTAAAAGTATATCTTTAAATAACTCATTAAATATATTTAGAGGTTTAGTATATATTAAACCTTTTTCATATAAATCTTATAATTATACTGAATGTAGTTCTTTAATATTTGGTAATAATTCTTTAACAGTAACTATTCCTTATATAAAAAATTATAATAATACTAGTTATGTAAAACAAGAAGCTTTTGTTTCTAAAATTGAAATTATATATTTATTTTTATTAATGCAACGTGGTTTAAGTATTTCAGAGTCTATTTCATTATTAATTATAGGTTTTTGTTCTGATATTTATAATAAATTACCGTTTGAATTTAATTTAGAGATACCTATATTATTTTCATTAAAAATTAAAGATATATTTAATTAATTAAATATGAAATATAATAAAAATGTAATTAATACAAATTTTTTATATATTAATAAATATAAAAAATTATTAAAATATAAAAAAAATAAAAATATTATTTATATATTATATAAAAAATATATATTAATTTTAAAGAAATTAATATATTTAAATATTATTTAAAAAATAATATGATAAAAATTAATATAATTAAAAAATATTATTATAAAAAATATAAAAATTTTTTTCAAAAAAAAATAATAATAAATAAAAAATTTATTTTAAATAAAAATTTAATAATTAAATTAAATTTTTATGAATATATAAAAAATAAATTACAAATATTTAATTTTAAAGGTATTTTATTAAATAATAAAAATAATAATTATATTATTTTATTAAAATTTAATAATAATGATATAATATATTTATATTTTAATTTAAATACATTTAATTTAATTAATATTTTTAAAATAGGTAAATTTAATATAAATTAAATGATATATATTGTTAATCCTATTTTAGTAAAAAATAATTATATAATATCAAATTTATATTTATTATTAATTCAGGAAATAATATATAATTTAAGATATTATATTTTATTTTTAAATAATAATATAAATGTTAAATTTAATTTTATTTATTATAAAATTATAATTTTATTAACTAATATAAATATAAATTCTATTGATACTATTCAGAATATAAATAATTTATTAAAAATAATTTTAACATTAAAGTTAAATTTTATAAATATAAATAAAATTATAAAATTTAATATATTAATATTTATATTACCTTTTATTTATAATAATATTATTATATTAAATGGATTATATAAAACATGTATTCAATTATTTAAAAAAAATAATAAAATTTTTATTATAAAATTTAAAAATAATAATAAAAATATTATATATGTATATATATATATTAGTTTAGGATTAAGAATTATTTTTAAAATAAGTAAGTTAAATATTGATTGTTATTTTAATAATTTTAAATTTAATTTTTTAATTTTATTATTATATTTAAATAATATATATATAAATAAAAATATATCATTATTTATATATAATAATATTATAAATAAAAAGATATTAATATATAATTATATAAAATTTATTTATTCAAAATATAATAATATTAATAATATAATATCATTAAAATTATTTATTATTAAATTAAATAAATTTAATAATATATATATAAATTTATTAAATATTTTATTTTCAATAAAATTAAATTTTTCATATTATTCTGATTTTTATATTAATAATATTTATAATAAAAAATTTTATTCTATTATTGATAATTTATTAATAAAAAGTAAAAAATATTTAAAAATATTTAAATATCAATTATTAAATATTAATAGAAATATATATAATAATATAACTTTATTATTAAATAATAAAAAATATATAAATATAATTTTAGAAAATATAAATATAAATCCATTAGTTCAATATTCTGATCAAGTAAATAATTTATCTGAAATAAATCAAAAATTTAAAATAAATATGATAACTACAGGATTAAATTCTAAATTTATTTTAAATAATGATTTAAGAGAATTACCTAGAAATATATTAGGGTATATCAGTTTAATAAATACTAATGAAGGATTAACTTGTGGTTTAGTTAATTATTTAACTACAAATATATTTTTAAATTTAAAATATTTATTCGTAATATATTATAAACATATATTTTATAATAGATATAATTTTAAGTTATTATTAAATATATTTAATAAAAATTTTTATAATATTAGTTTTAATAATATTTATTTAAAAAAAAATATTAATTTTAATAAAACAACTATTTTAACAATAAATAAAAATACATTTAAAATATGTAATATAACACAAAATATTATTTACATACCTTTTAATTATTTATTATCTTTTATTGAAAATTTAATACCATTTATACATTATAATGATTCTATTAGAAATTTAATGAGTATAAAAATGCATACTCAAATTGTTCCTATTATATATCCAAATTTAAGTAATATTATTACTAATTATAATTTTATTTTAAATAAATATTTAAATCATTTAATTATTTCATATCAAGAAGGAATAGTTATATATGTTTCTTGTATAAAAATAATAATAAGAGATTTATTTAATAGACAAATAATTTATTATTTAAATAATTATAAAAAAATAAATCAAAATATATTATTAATTTATAAACCTATTGTATGGGTAGGGGAAAAAGTTAATATTGGTCAGATTTTAGCTATAAATTCTAATTTATTAAATAGTGAATATAGTTTAGGAAATAATTTATTAGTAGGTTATGGTTCTTATTTAGGATATGAATATGAAGATGCTATTATAATTAGTAGAAAAATTTTATATAATAATTTATATACTTCATTACATTTGAATATTTATGAAATATCTTTAAATATAATTAATAATATACCAGAAATATGTAGTATAAATTTATCTAAAATGTATTATAAAAATATTAAACATTTAGATAAATATGGTATAATAAAAGAAGGTACATATATATTAGCTAATAATATATTAATTTCAAAATTAATGTTTATGCCTTTTATATTTAATAATAAAAGTTTAATTAATATTATTAATTTTTTATTTGGTAGTAAATTAAGAATATTTAAAAATAAACCTATTATTTCTACTATTCATGATATAGGTAGGGTTATTAAAATAGAAATATTACCAAATCATTTATATAATAAAACAGAAAAAAATAATATATATTTAAAATTTAGAATATATATTGGTATACAAAAATATTTACAATTAGGAGATAAAATATGTAATAGACATGGACATAAAGGTATTATATCTTATATTAGTGAAATAAATGATATACCATATTTAAATAATAAAATTCAACCTGATATATTTATAAGTGCTATAAGTATACCTTCTAGAATAAATATAGGTCAAATATTTGAAGGAATATATGGGTTAAATAGTTTATATTTAAATACTAGATATATAATATCAAATAATTTAAATAAAAATTATTATAACAATTATAATCATATTTTTAATTATTATAAATATAATTATAATAATAATTTTAATATAAATAGTAAAATGTCTTATAATTATAATAAATATTATTTAAAAAATCCATTTACTGGTAATATGATTAATAATAGTATTTGTTTAAATAATATTTATTATTATAAATTAATTCATATGATAAAAGATAAATTTAGATATAGATTTATAGGTTTATATTCTGAATTAACTCAACAACCAATAAAAGGTAATACAAAACAAGGGGGTCAAAGATTTGGAGAAATGGAAGTATGGGCTTTAGAAGCTTTTGGAGCTTCTTATTTATTTAAAGAATTTTTTACTTATAAATCTGATGATATTAAAAGTAGAAAAATATTAAAAAATTATTTATTTAATAATTATAAAATAAAAAATACTTTTATATCAGAAACTTTTAAATTAATTTTAAAAGAGTTACAAAGTTTAGCTATTAATATAGAAGCTTTTTGTATATTTAATGATACAAATAATTTATTAGAAAATTTACCTATTAATATAATTTATTAATAATGATAATACATAATAATATAAATTTTATAGGATTAAAATTAAATATATTAAATCCTAAACAAATAATAAAATGGTCTTCAATATTTTATAAAAATAAAATTATAATCGGAGAGGTATTAATACCTAATACAATAAATTTTAATACAGGATTACCAATTTTAAATGGTTTATTTTGTGAAAAAATATTTGATTATATGTATAAATGGAATTGTAATTGTAATAAAAAAATGTATAATATAAATAATTTTTCATTTTTTTTATATTGTAAATTTTGTAAAAATAAATTAATAATAAATATAAATAGAAAATATAAATTAGGTTTTATATTTTTAAATATTCCAATTTTACATTTATGGTATTTAACTGGTCCTTTAAAAGTAGCTTCATTATTATTAAATAAAAATGTTTTTTATTTAAAATTTTTAATTTATTATAAATATTTTTTTAGTAATATTAAATATAAGCAGTATTTTTATTATAATAAATTATTTTCAAAAATAAATTTATATAAAAAAAAATATAAAAATATTATTCAATATTTATTTTCTCATAATATTTTATATAAAAAGTTACAAAATATAAATTTATTAACTGAATTATTAAATAATAAAGAATTATTATTAATTAATAATAAATATTATAATAAAAAATATTTATATAAAAAAATTAATTTATTTAATTTATTTATATTAAATAATATAAAACCAAATTGGATATTTTTAGATTTATTACCAATATTACCTGCAGGATTAAGACCTTATTTTTATATAAATAATAGTACATATATTATATCTACTATAAATGAAAATTATAGATTAATAATTTTAAAAAATAATAAATTAAAATATTGGTTATATTTACGTAATAATATTTTTTTTATATTTGAAATAATAGAAAAAAGATTATTACAACAATTAATTGATTATTTATTGATAAATAAATTAATTTTAAAAAATAATAATACTTTTTTTAATTTTAGTAAAACTTTTCAAGGTAAATATAGTACAATTAAATATAAATTATTAGGTAAAAGAGTTGATTTTTCCGGTAGATCTGTTATAACTGTAAATCCAAGTATTATATATAATAATATTGGATTACCTTATTATATTAGTATAAATTTATTTAAGCCTTTTTTAATAAATATATTAAAATATAATAGTAAATTAAATATAATATTTAAAAGTTTATTAATTAATAAAAATTTATTTATTATACAAAAATTTTTAAATAGATTATTACAAAATCAATTTATTATTATAAATAGAGCTCCTACATTACATAGAATGAATTTACAATCTTTTAAACCTTTATTAACTGAAGGTTATTCATTAAAATTTTATCCATTAGGATGTACAAGTTTTAATGCAGATTTTGATGGGGATCAAATGTCTATTTTTTTACCATTAATTAAAACTTCAAAGTTTGAATCTAATATTAATTTAAATTTTGATAAAAATATAATATCACCTTCAAATAATAAAAATTTATTTAGTAATTTACAATATTATAAATTAGGAATAAATACTTTATTAATATTAAATTATAATAATGAGTTAAATATATTTTATTTTAATTCAATTGAAAAAATATATGAATATTATAATAATAATATTTTATTTATATTTAATTTAGTTTGGATAAAATATATAAATAATAATAATATATTTTATATATTAACTTCTATTAATAGAATAATTATAAATTTATATATGTATATATATTAATAATAAATATGTATTTTTATTTTTTTAATAAATATAATTTAAAAATTTTAGAAAAAAAATTATTAATTATATTTAAATATAATATAAGTTTTAAAATATTACATGAATTATTATATTTAGGATATGAATATAGTTTTTTATATAATTATTCCTTAAATATAAAAGATTTTTCAAATTTTATATATTTATTAATTTTATATAAAAATAAAATTAATAATATTTATAATAATAAATATTACGAAATTAAAAATAATTATATAAATGTATTTTTAAATAATTATTATTATTTAAAAGTTATAAATAAAATTCAAGGTATTTTAAATAATAATTTATATAATAAAATTAATCCTATTTATTCAAATTTATTTTTATTTTTTAATAATAAAATAAAAATAAAATATTCTCAATTACAACAATTAATAGGTTATAAGGGTTATATTTCTAATATAAAAGGAATGATTTATGAAAAACCTGTTATAAATAATTATATAAATGAATTAAATATATATGAATATATTTTATCTTGTTATGGATCTAAAAAAGGTATAATTGATACAGCTTTAAAAACAGCAGATTCAGGATATTTAACAAAACGTTTAATAAATATTACAAGTAATTTTATAATAAAAGAATTAAATTGTAAATCACCTTTTATATTAAAATATATATTAAATATGGATATATATGGTAATATTATATTACCTTTAAATATATTAAGATTTAAAATTTTACAAAATAATATTTTAAATTTAAATAATGGTACTTTTATTTATACAAAAAATACTTATATAACTAAATATATATTAAATAAATTATTAAATTTATATAATAGAAGAAATATATATTTAAATATTAAATCTGTATATTTATGTAATATATATAATAATATATGTAATACATGTTTAAATTATAAACAATTATATAAATATAATTTAGGACAACATATAGGAGTTATATCTAGTGAAGCTATAAGTGAACCTAGTACTCAAATGGTATTAAGGACTTTTCATGCTAGTTCAATTTTAAAAGATAAATTTAATTTTAATAAATATTTAATTTATAAAATATATTTATATAAATTAAATATAAATAAAATATTTAAATTAATTATAAATTTTAAAAAATATATTAATATTAAATTTAATTTAATATTTTTAATGAATAAAATATTATATAATTATAATAATATATTATTTGAATATAAATATATTTTACAAAATCAATATATAAAATGTAATTTTATTTATAATTCTATTTCTAAGAATTTTAAATATAATTTAAATAATATTATTATTAAATATTTAAATAATGTAATTAAATATTATAATTATAGTAATATACAGTTATTAATAAAAAATATCCATAATAAATGGATTCTATATAATATTTATACATATTATTTATATTATTATCATATAAAGTTTTATAATTTATATAATAAAGGTATTATTTTAAATAATAATAATAATAAGTATAATGTTATATATTTTTTAATTAATTATTTTAATTTATTTTCAAATTATTATTATAAAATTTATAATAATAATTATAATTTTATTAATTCAAATTATTATTTTAAAAAATGAATTTTATATTAAAAAATTTTAATAATATACAAATTTTAAATAAATTATTTTATGTAAATAATATATTTATATATTATAAATATGAAAAAAAATTATTTATATATTTAAATATTATAAATAATATTATAATTAAAAAATATTTAAATTTTTATAAGTATACTTATAATAAATTATTTTTTATAAAAAAATATAATAATTTTTTATATTTATATGAAATATTTAAATATAATTGGTATAAATATTTATTGTTAAATAATAAATATAATTTATATATTATATATAATAATTATATTAAATATTTATATAAATATAATATAAATATTAATTTATATTTTATAAAAAATTTATTTTATAATAATAATAATTTTATACATAATCATATTATATATAAAAATAATTATTATATTTATAATAATAATATGAATTTATATCAATATAATAAAAATATTTTAATAAATAATAATTTATTATATAATAAATTATTTTATAATTATATTAATAATAATATTTATAATTTATATTTAAATGATATTACTATAGGTTTACAATCTATAAATATAATATTTGAAAATAAAAATATAAAAGATAATATTTTTTTTATTTCAAATAATATTTATGTAATATTTTATATAAAATATTATAATTATTTAAATAATATTATATATATATATAATATATGTAATAAATATAATATTAATCATTATAAATATAAATTAAATTTTTATTCTTATATTTTTGAAGATATTAGTTCTATTTTATATAGTGGATATTCTTTACATACAGAATTTTATTCAATTAATAAAAATTTAAAATATTATTTTAGATTTTTATTAAAATCTATAAATATTTATCAAGCAACTAAAAGTTCATATATATATGTATATAATATTTTAATTGAATCTATTTTGAAACAATATAGTTATCAAAATATTTATTTACCTTCTATTTATTTTGAACTTATTATAAAAAAAATGTTATCATGTATAAAGATAATATCTAATAATTTTAAAATATTTAAATATAATGATATAATATCTTTACAATTAATAAATATAATTAATTATTCTTTAAATTTAAATAAACATTATATTTATAAATATGAACCAATTATTTTAGGTATTACAAAATCAATTTTAGCTAATTCTGGATTTTTAACAAATATAAGTTTTCAGAATACATTTAAAATAATAAGTTTAAATATTTTAAATAATAAAATTGATTGGTTAATAGATATAAAATCTAAAATAATATTGACTGATTTATTACCTGTTGGTAATGGATGGTATAGATATTTAGTAAATTAATTTTTTTAAAATATGTTTATTACTTTTGATAATTTATTAAAATCAAAAATTTATATAGGAAATATTTATAAGAATATTTATTTTGATAATTATAAATATATATATAAAATAAAATTTAATTATTGTATTTTAAATTTTACATTTATAGCTTTATATTTATATAAGTTATATTTATATATTTATAATATATCATTAATGAATAATAAAATTTTATTTATTAATAATAATAATTTAATAAAAAATTTTACAATTAAAATATGTAATTTAACAAATAATTTATATATAAATAAATGGGTTTCTGGATTATTAACTAATTGGTTTGTATTAAAAAAAAAAATTATAATATATATTTGGATAAGTAAAATAATTAAAAATAAATATTTTAATAATATATTATCTAAAAAATGTATATATAATTTAAATATAATTTATATTAAATTATATAATAAATTTAATGGTATAAAAAATATGATAAATCTACCTAAATACATATTTTTAACAAATTTTAATAAAAATTTAATTTTAAAAGAAATTTTAAAATTAAAATTAATTTTAATAAGTTTTATAAATTTAAGTTTAGATTCAAGTAATATAAATATAAAAATTTTAGGAAATTATAATAATTATAAATCTTTAAAATTAATATATAAAATAATTTATACTTCATTAATTCATAGTAAAATTAAAAATATGTAATTAAAAATATGTAAATATATTTTTAATTATATATATATTATTAAATATTATATTATAATTTAATAATACATTCCATAAATTAATATTTTTAAATAATAATAAATTATATTTATTATTTGATAGAATATATAATAATTTTATATTTTTATATTTATTATTTATAATATTATATATATAATTATTTGAATTTTTACTTTTTAATAATATATTAAATAATTTAATATATACAATTTTTTTAATATTATTATTTATTTGTATATTTTTAAATTTTTTTAATAATAAATTTTTTTTCAATTTATAATATAAATTAAATATCATTATAATAATACATAAAAATATAAAAGAGAAAATGGGATTTGAACCCATGAAATATATTTATATTTTTTTGATCTCAAATCAAACACAATAAACCACTCTGTCATTTCTCTTATTATTTATATAATAATTTTATTTTATATAATAAAAGTTTTAATAAATTTTTACTTAATTTAAAATTATATTTTAAATATTTTAATAATAAATAATATAAGCAAGAATTTATATTTAATTTTGGATTATAAATACCTAATTTTATATTTTTATATTTTTTAATTTTTTTTATATTTAAATTTATTTTATATGTTTTATATTTCGTTTTATTTGATTTTGAATATAAATGAATATTTTTCATATTATTTATTTATAATTTAAAATATATACAAATAATGGAAATTGAATCCATATCATTAATTTGGAAAATTAATATTTTACCGATTAAACTATATTTGTTAAAAATTTATAATAAATATATATTAAAATTTAATTTATAATATTTATTTAAATAATAATATAAAATATATTTATTTTTTATAAAATAATGTTTATTATAAGTTAATAATAAATCACTTATAGATTTATCAAAAATTAATTCTAATATTCTTTTTAAAGGACGAGCTCCATATAAAGGATTATACATTAATTTAACTAAAAAATATTTTAATTCTTTATTAATATGTATAATAATATTTAATTTATTTAAATATAATTTTATTTTCAATTCATTTATAAATTTATTAAATATAAATAATAAATTATTAATATTTAAAGGATTAAATATTAATATATTAGTTAATCTATTTAATAATTCAGGTTTAAAATAATTATTAATATTTATTTTTATATTTTTTTCTATTTCTTTTAAATCCGATTTTGATAAAAAATTTTTATTTTTTAGATATAAATCATAATTTTTTGGACAACCTAAATTACTTGTTAATAAAATTATTGTATGTGTAAAATCTATTAATTTACCTGTAGAATCTGTTAATCTACCTTCATCTAATATTTGTAACATTATATTATATATATCAGGATGTGCTTTTTCTATTTCATCAAATAATATTACTGAATTAGGTTTTTTATAAACTTGTTCTGTTAATTGACCTCCTTCTGAATAACCAACATAACCAGGAGGTGAACCTATTAATCTAGAAATAGAATGTTTTTCCATATATTCACTCATATCAAATCTAATTAGTTCTTTTTCAGAACCAAATAATTGTTTTGATAATATTTTTGCTAATTCAGTTTTACCAGTACCACTAGGCCCACATAAAATCCAACTTCCTATAGGTTTATTTTTATTTTTTAATCCTATAAAATTTTGTTTAATAAAAGGTATTATTTTATTAAAAATATGATTTTGACCATATATATGATTATATAAATAATTTTCTAATTTAGTTAAATTTAATTTAGTTAATTTATTGTCTTTAAATAATATGGTTTTAGATATATTTAAGTAATTAGATATTGAATTTTTAATATCTTCTATAGTTAAATTATTATTTTTATTATTATATATAATATTATTATTATATGTAAATAAATAATTAAAATTTGAATAAGATATTTTATTATTTAATAAATATTTATTAGAACATGAATTTTCTAATAAAATTAATGGAGTTGTAGGTAATATTAAAGGTTTTATATACTTTTTACTTAAATTTATTAATTCATATATAATATAATTATTAATATTAATTTTATAATAATTAATATATTTATATATATTATTTTTTATTATTAAGAATGTTTGTAATATTGATAAATCTTTTATTCTTATTTTATAAAAATAAGAATCTTTTATTATATTATATTTAAAATATGTATTATATTCTTTTTTATTAGTTACTATTATTATATGTATATTATATCCATATAATTTATTTAATAATAAAAATAAATAATATAATTTATTATTATCATTATTAATATTATCTGATAGATTAAATATTTCTATATTTTTTATAATTAAGATTAATTTATATTTATTTGTAAAATATTTAGATATATTCAATATTTTATATATTAAAGTTTGTATATCATAAGTTAATAAATCATTTAATACCCATATTTCTGTATATTTTAAATATATTGGTATAATTTTATTTTTTATATTATTAATTAATAATTGTAAAAATATAAAAATATTATCATTTACCCCTTCTAGTATTATATGTTTTTTTATTTTTAAATTTAAAATTTGTAATAACTGTATATATTGTTGTTTATAAAAATTTAAATTATTATTATAAATATAATTTAAATTTAAAAGATTTACTGATATTTCTTTTAATTTTATTCTAATATTATTTGAAAAAATATTAGTTTTTATATAATTATTTAAATTTAAATTAGAAAAATTTAAATTTAAATATTTAAATAAATAATTAATATCTTTATTATTATTTTTTTCTTCTAATAATAATAATAATAAATTAAATGAATTAATTTTAAAATTAAAATTATTTAATTTAATTAATATATTAATAACTTTATTAGAAAAATTTATATTAATAATATTTTTATTATTATATTTATATTTATTTAATAAAGATAAAATTATTTTATTATTTATTATTTTTTTATTTATTTTTAAAAATTTTGTACATAAATTATCAGTTAATAATAATCCTAATAATAAATGAATAGGCATTATAAAATTATTATTATATTTTAATGCTAAATATTCAGATTTAATAAATATTATTATTAATTCTTTTGTACAATAAAGATTATTTAAAATTATCATGATTTTTATTATTTTTTATGTTTATTTGTTTAAAATTATTTTTTATAATATATAATAATTGATTAATATTATAAAATAATAATTGAAATTTTTTATATAATAATATCTTATATATTAGTAATATTTTATTTACTTTACTATTATATTTATTATATAAATTATATATTGTATAATTATATATAATTTTAAATGTTTTGTCTGAATAAATATAAATTATAAATAAATTCAATTTATATTTATTTATATATTCTGTTATTTTTTTATTTAATAAATTAATATTAATGTTATATATTTTAAATTTAAAATTTAAAATTGAATTTAAATTTATTTGATTATTTTTTATTAAAAATTTATATTTACATGAAATAATCATTTTTTTATTTATATATTATTATATACATGTCCTAAAGGATTCGAACCTTTATTATAAATTTTGGAAATTTATATTTTTACTTTAAATTAAAGACATAATTTTTATATATATGAATAAAGAGATTCAAACTCTTATAACAATTATGGTAAAATTGTATTTTATCATTAAATTATATTCATTATTATTAGAATAATAGGATTCGAACCTATATTAATGAAATCAAAATTCATTACCTTAACCTTTTGGTTATATTCTATATATATTATTATATATAATAAGTCATAATAGCTCAATGGTAGAGCAATGGATTGAAGATCCATGTGTTATCAGTTCAAATCTGATTTTTGACATTTATTTAATAATAAAATTATAAATAAAAAATTTAATAAATATTTATATTTGTTATATATTATAGTATTATAATATTTTTTTTTATTAACTAAAATAAATAATAAAATAATAATATATATCCAAATAAATAAACGATAATAAATTATATTAAAATATTTAATAATTTTAAATATTTTTTTTATAAAAAATTTATTAATAGTTATATTTTTCATCTTATTTTATTTAATTTTTTATTTCTGTTATAATACCTGCTCCTATTGTTTTTCCTCCTTCTCTAATAGAAAATTTCATATTTAATGTCAACACTATATAATGTTTTAATTCAATATGTAATGTTATTTTATCTCCAGGTATAGCTACTTTTTGTACATTTTCATTTAAATATATATTTTTAATTTCTCCAGTAACATCTACTGTACGAATAAAAAATTGAGGTTTATATCCAATATTAAAAGGTTTATGACGACCACCTTCTTCTTTAGTTAAAATATATGTTTCAGCTATAAAAGACTTATATACTTTTAATTTATTAGGTGTTGCTAAAATCATACCTCTTTTTATATCTTTTTTTTGAATATTTCTTAATAAAATACCTACATTATCTCCGGATTGTGCTTGTGTTAATTGTTTTTTAAACATTTCTAATCCTATAACTGTTGTTAAATTAGGAGATGATTTTTCAAATTTTAAAATTTCAATTTCATCATTTAAATTTATACATCCTTGTTCAATCTTACCTGTTACTACTGTACCTCTACCTGTTATAGAAAATACATCTTCTATTGACATTAAAAAGTAATCATTAATTTTTCTAGTAGGTATTATAATATTATCAATTATTTGAATTAAATTATTTAATTTTTGTATCCAAATATTAGATTTTATTAATTCATAATCCTTATTTTTTTGAATTATATTTATTACATTTAATGCTGAACCAGTTAATATATGTATATAATTTAAATCAAAATTATATTTAATTAATAATTCATTTACTTCTAATTTTATAAAATCTATTAATTCAACATCATCACATAAATCTTCTTTATTTAAAAAAATAATTATATTTTTTATACCTATTTGTTTTATTAATAATAAATGTTCATAAGTTTGAGGCATTATACCATCTATTATAGATATTACTAAAATTGCTATATCCATTTGTGTGGCTCCTATAATCATATTTTTAATATAATCGGAATGTCCTGGACAATCTATATGAGCACAATGTTTTGTTAAAGTTTCATATTCAATATGTGTTGTATTTATTGTAATACCTCTTATTTTTTCTTCTGGAGCTGAATCAATATCTGAATAATTATATTTTTTTGATAATCCTTGTAAATTTAATAAATAAGATATAGCTGTTGTTAATGTAGTTTTTCCATGATCTACATGCCCTATAGTACCTAAATTTATATGTTGTTTATTTCTTAAAAATAATTTATTATTCATATTTTATTTAAAATATTATTTCATTAATAATAAATAATAATATAATCACTTTTTAATTTTATTTTTCTTTAATAAATATATATATACTCTATTTGATATAAATTGTTTAATTAAATTTAATTTTATCTTATATAATTCACCCTCTTTATTATAACTAAAAATTATATATTTACAAATAATTTTATATAGTAAAATATTTTTATTTTTTATAATATTATTTAATAATTTATATATATTAAATATAGATTGTTCATACGATATTATAATAGGTATATTATATTTAATATGATTTATTTTTATTTTTAAAAAAGAAAAAGGTAATAATAAATTTTTTATAGCTTTATTAAAAATAAATATACTAGATTTATTAGTTATTTTTTTTAATAAATATAATATATATATTAATAATTTTATACTTTTATTTAACTTACCTTTTTTCAAAAATATTTTTATAAAATACTTAAATATTATCATTATTATTTATATATTTTAATATTTTTTAGTTCCATATTTAGATCTAGAAGTTTTTCTATTTAAAACCCCAGTTGAATCTAAAGAACCTCTTATTATTTTATATTTTATACCTGGTAAATCTTTTACTCTACCTCCTTTAATTAATACAAAATTATGTTCTTGAATAGATTTACCTTCACCTGGTATATATGCTAATAATTCCTTATTATTTGATAATCTTATCTTAGCAACTTTTCTTAAAGCTGAATTTGGTTTTTTTGGAGTCTTTATTAATATTTTTAAAACTATACCTTTTTTTTGAGGACATTTATTTAATAAATAATTTGTTATTTTTTTAGTTTTTTTATATTTTTTTTTATATAATAATTTATTTATTGTTAACATTTTTTATATCTTATTAATATTTTCTTTTTGAATATTTACATCCATTATAAGGTATTGAAGTTATATCAAATAATTTATTTATATTTAATTTTTTATTTTTATATTTTACATTTAATAATAATTTTAATATATGTATTCTATAATAATTTATACCATTAAATATTATATTTATATTTAAATAATTTTTATTAATTAAATATTTTATAATATTTATAGTTAAAATATTATTTGCTAATATAGTATTTTTTAATCTATTTTTAAAATATTTAAAACAACCACATGATATATTCTTAATATTTTTTATATAAATATATTTATTATTATTATATTTATATTTAGATATTGTTATTAAAGTATTTTTTAAAGTTAATTTAAAATATAAAAAAATTATATAATTATTATATTTAATCATTGTGTTTGCTTATGTTTTTTATTTATACAAATTATATGTAATTTTTTAAAACGTTTTATTAATTTACATTTATTACATATTTTTTTTATTGAAGAACGTTTTTTCATTTTTTATATTAAATTTTTTTATTTTATTTATAATTATATTATTTTTTTTTATTTTTAAAATTTTATGTAAATAAATATTTAATCTATATAAACTAATTTTAATATTACTGATATTATTTTCTTTAATATTAAATATACTTATATTATTTATCATTAATAATATATTAATATTATATAAATTTAACCCATATATATATTTTAATATATATATAAATAAATTTTTATTTAAATATAAAGTCATTTTAATTTTAAAATATATTAAATAATATTAATAATAATTTATTTAATAAATTATATCTATTATGTATTATATTATAATAAATTATTATTTTACAATTAAAATAACCTAAACATTCAAATAAATATTTTAATAATAAAAATCTTATATTTAAATAATTATAAATTTTAAATTGTAATTTAATAAAAAATTTACTATAATTAATATATATATATCTTAATTTATATATATTTAATATAGAATATTTAAAATAATAAATATTATTTAAAGCTTTTATTTTAGCAGATATAATAGCTTTATTAATATTGATATTCTTACTAACTCCTAATCCTATCCAACCTTGTTTATTACCTAATACTAATACTATTTTATATCTTCTAATTCTTCCTTTTTTTATTGTATAAGATATTTTTTTTATTTCAATAATTTTTTCAATAATATTATTATTTAACTTTATAATACTATTATTTAACTTAATATTATTATTATATTTATAAATATAAAAATAAATAAAATTTACATTTTTATTATTAAAAATATATTTTTTATCTCTCTTATTATTTATAATATAATATAATTTTAAATATATAATTAAAATATTATAAATTTTATACAAATAATTATTAAACTTTCTTTTTAAAATTAATATAAAAATACTTTTAAATAATACTATAACATAATATAATATATAAAAATTATTTAATTTTTTATTAATAATATTAATTATCATATTAATTTTTTTATACCTAATTCTTTATATTTATTTATATATTGAAATGAATTTATTAAATTCCCAATAGAATTTAATATAAATATATCCATACTATATAAATATATAAAATTTTTATTTATATCTAACTCACAAAATATTATATTAGGTAACTTAATAATTATTTTATGACTATATTTTAATTGAAATATTAAAAAATTACCTTTTTTTATATAATAAAATTTATAATTTATACCAATTATATTTAAAATTAACTGATACTTTTTATATTGTATTTTATTAAATATATTACTAAATATATACTTATACATTTTAAATATAAAATAATAAATATTATTTTTTATAAAATATATATATATATTATTTAATATATTAATATTATATATCTTATTATTATTTTTAAATATATATATATAATTCAAATATTTTATATCTAAAATTAAATATATATTACCTTCTTTTATATTATTATTTAAAAATATGTACTTTCTATTATTTATCATAACAATTATAACTATAATATTTACAAAATATAAAATAATAAAATACCACCAATTTTATATTTTAAAGCTAATATATGTGTAATAAATTTATATTTTGAAGAATATAAAATTAATAAACCTTTAAAATATTTTTTAAATTTTATAAAACATAATAATTTATTAAAATTCATATAAAATAATTGATTATATTTGATATATACTTTAAAATAATTAATATTTTTATATTCATTTAAAATTATAAAAATAAAATATTTATTATATATATTTAAAATATATAATTTAAATATATATTTATAATTATATAATAATATACTTAAATAATATATTACTTTATTATATTTATATAATATAAAATTTTTTTTTAATTTAAAATTATATTTAACATTATTTAAAAATTTAATAATCATAATTCAAATAAATTTATTTAAACTTATTCATATTTAATTTATATTTTATATATTTAGATATATAATTATTACTTTTAGTACCTACAAAATTTAACTTATTATTTATAATTATTACAGCATTTTTATTAAATTTTATAGAATAATATTTTTTAAAATTTAAAAATTTTTTTTGTTGTACTAAAATACCTTTACATTTATCTGATTTTTTATATAAATTATTATTATATAAACTATAAACTACTCCTATAACTATATCACCATATTTAGGATTTTTATATTTATTTAAAGTACAAATATATTTAAATTTAAATATACCACTATTATCTATTACATCTAATATACTATTTATATATATCATAAAATTTTTATTACTTTATTATTACAATATTTACTTTTTTTATAATATTTAAATAATATATAATCATTTATAATAATTTCATTTCTATTATCATATATTTTTATATATAGATTACATAATAATAATTTTTTATATTTAAAATTATACTTATAAAAAGATATACAAACTATCTTAATATTTATATTTAAATTCTTAATAACATATCCTATTTTTATATTCATATTCTTTATTTAATTATTTTCTAATATATTGTAATTTAAAAGGTAATTTATAAGATAAAACTTTTGTTATAGTATAAATAATATTATTTGAAATTTTACTTATTTCAAATAATAACTTATTTTTTTTTATAGGACTTACATATAATTCTATAGATCCTTTTCCTGATCCCATTCTAGTTTTTAAAGATTTTTTAGTTAATGATTTTATACATCTTATACAAATTTTATATACTCCTATTTTTTTTAAATATTTATTTATTATAAATTTTGAAGTCTCTAATTGATTTTTTGTTAAAAATCCAGAATCTAAAGATATAATACCCCAATATAAACTTAAAAATTTTAAATTAAATTTACCTTTTATTTTACCTTTTTGATTTTTTTTTATTATAATATTAGTCATATATTATAAATTTTTTTAATTTATTTTTAAATATTTAACCAAATTTTTATACTTAAAATACCATATTTAGTATTTATAATATCATTTATATATTTAATATTATTATTTAATGTACTTAAAGATATAATACCATAAATATATATTTCTATTTTAGTCTTTAAACTATTTTTAAAACGACCTGAAAATTTAATTTTTAATCCTTTTATATTAAAATTATTTTTTTTTAAAATATTATTATATAAATAATCAAATATTAATTTTAAAGATTTATATTTTATATAATATTTTTTTATATAATACATTATAACATTAATATTATTTATATTATTTACATATTTTATTTTTAAAAAACACATATAATTATAATAATTATAATAATAATAATTAAAATAATTTAATAAAATAAATATATATTTTAAATTATATATATTATAATATTTATTATATAAAAAAAATGTAATTACAAATTTATTTATACTAAAATTTATATTTATATTAATATAATTATCTTCTTTATAATTACATATTCTATACATATTATAATAAATAAAATATGTTAATAATATATTAATTAAATAATATTTATTTTTACTAATATTTATATAAAAATTATTTAAATAGTTTTTATATATTAATCCTCTAAATATTAAAGGATGTACTTTTTGTCCCATATCTTTTTTTTAATTTATTAATAATTCTTTAATATTATTTTTTACAAATTTAGTATATATAAAATTTCCTAATTTATTAAATAACTTAGTTTTATTTATATAAATAGGTATAAATTTATATCCATTATATACTTTTATATATAAATTTAATAATTTTTTATAAATATATAAATTTTTATTATATATATTTAAAATTAAATTTTTATTATATTTATATTTATTTATATTTATAAATATATATTTATTATTTATAGTAATTTTTAACCAATATAATTTTATCATTAATTTTTTTTTTTTTATATTTATTTTATTGTTTTATATCCTTTTGAATGTAATCCTTTTTTAGAACAAGGATATTTACGACCAATACCAGTCTTTCCTTTACCTCCCCCATGAGGATGGTCACATACATTTTTAGCTTTACCTCTTACTTTAGGTTTAATATTATAATAAATATTATAACCAGCATTTTTTATTTTAAATTTATTATGAAAAATATTACTATTTACACCAATATAACAAAAATTATTTATATTTATATATTTACATTGTTTAGAAGGTAATTTTATATAAACTAAATTTTTATAAAAAGATAATATTTGAGCAAAAGTACCTGCTGATCTAGCAAAAATACTACCTTTTTTATAATCTTTAGATATATTATAGATATATGTACCTAATTTACAATATTTTAATTGTATATAACTTCCAGTTTTAATATTATTAATATTTGTTAAATAATATATAGAATTTATCATATAATTATGTTGTAAAATAATAAATTTTTGTAAATTATTTAATTTAGATAAATACAAAATACATCCTATATATGTATTTCTAAAATAATTTTTTATTTTTTTAAATAAAAAAACTTTATAATTTATAGTAATATTATAATTATCATACCAACTATCTATTAATTTATAATTATATTTTAAATTTCCACCTCCTTTATTATAAATAGTAATATATCCTTTATTATTTTTACCAAAACTTTTAAAATATTTATAAGTATTATATTTTTTTAATTTTAATATCATTTAAATGTAATATAATATTTTTTTAAACAATTTTTTTTATTTATATTATTAATTTTTATATTATTATAATTAATTAATTTTATTTTAAATATATTTTTAATTATATATTTTATATCTAATTTTGTAAAATATTTTATAGAATAAATAATACAAAATTTATTTAAAACATTAATTTTATAAAATAAAATATTATATAAATAAAAATTTAAAATAACTTCTTTCATAATTTAAATTAAAAATATTAAATAATTATACATAATAATATTTATAAATATATTTTTATTAAATAATTTATTATTTAAATTAATTAAAATATATTTATTATTAATTATACCTTTTAAATATAATAATTTAAATATACAATAATTTTTATTTTTATAAAATATATTTAATAAATTTATAATATTTTCTAATTTAATTATTATAATATTACTACGTTTATTTATTAATAAATAAACAAAAATTAATCTATAATTTATTTTACTTATTATTTTATTTTCTTTATAAAAAGGTCCAAAATTACAAGCACCCTGTTTACATACAGGTGATTTAAAATTTTTTAATCTAGCTTTTCCTAGCCCTTTTTGTACTCTTATTTTTTTATTACTAAAATATACTTTACTTTTATTCTTAGTATGTTTATACATATAAATATTATATATATATAAATATTTTATAATATAAATTATTAATTTACATATTTTAATATAATTATTAAAATATAATTTAATAAAAAAATTATATTTATATTTAAATATTATATTATTTAATGTATTATTATTTAAAATAATAATATTCATTCTAAAATATACATATAATATTATTTTCAGAAAAATAGGATTTGAACCTATATTCTTCTATTCCCAAAATAGATATGTTACCATTACACTATATTCTGAATTAAATAAATACTTTTAAGGAAAATCGAATTCCTATTTTCTTCTTGAAAAAAAGATGTCTTACCTTTAAACGATAAAAGTTATTAAATGAACTACCTGAGATTTGAACTCAGAACCATTCGATTAAAAGTCGAGTACTCTACCAATTAAGCTAGTAATTCTTAAATAAAACGAATTTGACGAGAATTGAACTCGTATTCTTTATTATGACAAAATAATATTTTTACCTAATTAAACTAACAAATTCTAATAATAGAGAAAAAGGGATTCGAACCCTTGGTATAATATTATTATATATACAATAAATTAGCAATTTATAACTATAAACCTCTCAGTCATTTCTCTTTATATATAAAAATAAGTTAAATCAGATTTGAACTGATGTAGATATATTATCAATGGATTTACAGTCCATTCCTTTTAACCACTCAGGCATTAACTTTAAATTACATTTAAGTAGATTCGAACTACTGATGATCAATATATTGAAAATGAATTATGAGTCCATTGCTTTCGACCACTTAGCTATAAATGTTATAGTTAGAGATAAAGGGATTTGAACCCTTACAACAATAATGTTAATGGATTTTCTTAATAAATTTAGCTTTTTATAAATAAAGTCTTTTGAATATATAAATTTTAAAATATATTACAGAATTTAAAAAAATATATTATATATTTTCTTAAAAATTTAATATTAATAATAATTAACTCAAATTATTTTAAGTCCATTGTGTATACCAAATTTCACCATATCTCTCTTTAAATGATATTCAGATTCAAACTGAAATATAATAATTTGCAATTATTTACTTTATCAATTAAGTTATATCATTAAATTTTTATATTTAACAGATAAATAAAGAGATTTGAACTCATATAAAAGAAACCACAATTCTTCATCTTAACCATTAGATTATATTTATCATAAAAACTATTAATTATATATAATATATATCATTATAAATATATAATATATTATTTAATATATTATTTATATTTAATATTTTAATTTTAAAATTATAAATACATATTATAAAATATTTATTATAACTATATATTTTAATAAAATTATATTTATATAAATTAGATATGTAAATATAAATATTATATTTATAAATTAAATTTTTTAATATTATATATTTTATTTTATTATTAAAAAATAAAATATCATTATTTTTTAAATTAATATTATAATATTTATTTATAATATTATTAATATAAATATTTTTATATTTAATATAATACCTTGATTGCAATATAGTTTTAAAAAAACCTATATTAACTAAAAATATATCCAATCTTAATTCTAATATTTTTAATAATTTAAAATATAAAATATTTATATTTTTATTATCTATTTTATTCAAATAATATAAATATTTTTTATATGTTATACAATAATTATAACATATATATCTAATAAATTTTAATTTTAAATCAAAATAAGATTTATATGAAATTTTATAATTTAAACATTTATAATTATATTTACCAGATAAATATAATAAAAAAGGTATATTTAATTTTTTTAATATTTTTATTTTAGGTTTTAAAAATTTTATCATAATAATTATATATAAAAATAATAAAAGCTAATGGTGAGATTTGAACTCATAATCTACTGATTACAAATCAGTTGCTTTACCAATTAAGCTACTTTAGCAAATATAACAATAAATAATTAAATATTCAACTTATTAGGAATTATACACTAAATATATTACTATAAATACATACTAATCCTATAAAATAATTTTTCTAATTATTGTTTTATTCATTTATATGATTAGAATATTATTTTTAACTAAATTTTCTTATTTATATTACTTCAACAATTAAAATTTTATACTTAACTACTCAACTTTACAAAAAAATTTTATAATTGATATATCATTGGTATAATTTTTTTGATCCTCTCGTACTAAAAAAAATAATTTCAATATTCTAACACTTATATTAGATATGGACCGAACTGTCTCACGACGTTCTGAACCCAGCTCACGTATCGCTTTAATAGGCGAACAGACTTACCCTTAAAACATACTACTGCTTTAGGATGCGATAAGCCGACATCGAGGTGCCAAACCTTTTCGTCAATATGGACTCTCGGAAAAGATTAGCCTGTTATCCCTAGAGTAACTTTTATCCGTTAAGCGATAATTTTATTACTAAATAATTATCGGATCATTAAGACCGACATTTATCTCTGTTTAATTTGTAAATTTTACAGTTAATTATATATTATATCTTTATATAATAAATATAACATTGTACTCCTCCGTTTATATATAGGAGGAGACCGCCCCAGTCAAACTATCTCATAAATATTGTTTAAAAATTTGTTATAAAATTTCTATAAGAATTTATATATAAATAAAATGGTATTTCATTTTTAACTAAATTATTTCCAAGAAAATAATATTATTGTTTCCCATTTATACTATGTTAAATATATATATTTTCATTATTTATTAATAGTAAAGCTTCATAGGGTCTTTCTGTCCTAATATAAGAAATCTGTATCTTCACAGATAATTTTATTTCATTAAGATTTTTTTTAAGACAGCATTTAAGTCGTTACATCTTTCATGCAGGTCGGAACTTACCCGACAAGGAATTTCGCTACCTTTGGACCGTTATAGATACAGCCGCCGTTTACTATAGCTTATATATATATTATAATTTAATTACATATATTATTTTAACATAATAGCACTGGGCAGATGTCAATCTTTATACATCATTTTTCAATTTAGCAAAGATTTGTGTTTTTGTTAAACAGTCGCTTAAATTTTTTATTTTCAACTAAAAAGTATCTTTTATCCCTAAGTTACAAGATTAAATTGCCGAGTTCCTTAAAAAAAATTATCTTAACTTCTTAATAATATATATATATTTACTAGTGTCAGTTTACGGTACGAATATATTATAATAAATATATTAATAATTTTTATATAATATAAATAATATTAAAATTATTAATATTAGTCTTAAAATATAAATTATAATATAGTATAAGAATATTAACTTATTATCTATCAATTACACGTTTCATCTCATTTTAAGATTCGACTAACCCTATTAAAAAAAATTATAAATAGGAAACCTTAAATTATAGAAGTATTGGATTTTTACCAATATTTACATTACTCAAATTAGCATTATCACTTTTGATTTTATTATTTTAATTTACATATAAATAATATTTTATCAAAACGCTCTTTTACCAATTTAATTGTACTAATATTAAATTTTATAATATCGATAATTAATTTATTTTCGATTATTTTTGAACTAAAATTATTAAATTAATGAGCTTTTACGCACTCTTTAAAAGATAACTGCTTCTAAATTTACTTTTTAATTATTAATATAATTTTATATTCTTTTTAAAACTTAATTAATATTTAAAAATCTTAATTTATAATTAGGGCTGTTTCCCTTTTGAAAATAAAGCTTATCCTTTATTTTCTAATAATATATATATTTTATTAAATAAAATTATTAAATTATTAATATTAATATTAATTATTTAAATTAATCTAATAAAAAAAGAGTTTTACATTTATTTATATATAAATACTATACTTACATATATTTCAAAGAGAACCAGCTATCTTCAAATTCGATTGGCATTTCACCACTAATTATATTTTATTTGATACTTTTGCAACAGTAATCAATTCAAACTATAATTTAATTTTATTTAAATTTTATTTTAAATATAATTAGATCATTTGATTTCGGGTCTATAATAAATAATATATTTTAAATTTATTAAAAAAATAAATTCGATTTAACTTTGGCTTCATTATTTAAATATATTTAACCTAATTATTATACTATTTATTATAACTTGCTAATTCTTTCTTCAACAAGAATATAATAAAATTAAAATTAAATTTTATTATAATTTATTTAAATTAAAATTCAGATTCTTTTCACTATTTTTTCAAAATTCTTTTCATCTTTCCTCACGGTACTTTTCTCTATAAACTTTTATTATATTTAATTTTATAAGGTAATTCTTATTATTTTTTATATTATTTATATAAAATTATATATTATATTACTTTATTAAAATTTTACATATTTTTTTAAATGTTTATTTTTTTTCAATTCGCTCGCCGCTACTATGAAAATCGTTATTACTTTTTATTCCTTTAAGTACTAAGATGATTCAATTCCTTAAGTTTTTAAATAAAATATTTATATAAAAATATTTTATCAGATACTTTTATAATAATATTTATTAATAAATATAAATATATTTTTATTAATTATTATAAAAATTTCGTTAATATATATAACGTCTTTCTTATTTAATAAAAATTATAGACATCCTTTTAAATTTATTATATATATTTAATTATATATTTAATTTAAATTATAATAAATAAATTTATATAATTATAAGCGAAAAACGGAATTGAACCGATTACCTTCGGAGCATGAATCCGACGAACTTTCCTTATGCTCTATTTCGCTAAAAATAAACTTGAAAAGAATTGAACTTTTATTTTATAATTCGTATTTATATATTTTATCCATTAAATTACAAGTTTATTTATAAATATAAAATTTAAAGTAATTAACTTAGAGGTAAAGTTTCTGCTTTACATACAGAAGACCATTGGTTCGAATCCAATATTACTTAAAAATCTATAATTTAATGGATAAAATAAAAACCTTCTAAGTTTTATATGTAAGTTCAAATCTTACTAGATTTATATATATATGAATATGGCGAAATAGGTAAACGCACTAAATTTAGATTTTAGTTATTATAATAAGAGTTCAAATCTCTTTATTCATATTTATTTAAACTTCTTAAACTAGAATTGAACTAGTGTATTTCGGTTAACAGCCGAATGCTTTAACCACTAAGCTATTAAGAATATTTATATTTATATATAAATATATATTTGGGAATATAGTTTAATGGTAAAATCTTATTTTTGCATAATAAAGATAGTAGTTCAATTCTACTTATTTCCATATAATTTCTATATATGTTATTTATATATTTAAAATATATATTTTATTATATTGCGAGTTTGATCCTAGCTCAGAATTAACGCTAGAAATATACATTACACATGCAAATTAATGATAATATCATAGTGTATAGGTGAGGATATATAAATTTTTAATTTTAAATAGATTATAAATTTTATTAAATAATAATCTATAAGCGCAAAAATATATGTACTATATTAAAAATTAATATTATTTAAAATAAAATTTATATTTGATTAACTAGTTGGTAATTTAAAAGACTACCAAGGTTATTATCAAAAATTGGTTTGAAAGAATGTACAATCACATTAGGATTGAAATAAAGCCTAAATTTTTATAAAAAATCAGCAGTGAGGAATATTTTACAATAAGTGTAAGCTTGATAAAGTAATATTTCTTTTAGGAAGACAGTATTATTAAAATATTGTAAACTTTTTATTTTATTTTTAAATATTGATAAAAATAAAAAATAGTATTTGCTATTTCTGTGCCAGCAGCAGCGGTAATACAGAAAATGCAAGCGTTATTCATTTTATTAGGCGTAAAGCGTTTTAAGGTTTTATATTAATTTTATGTTTAAATATTTAAATTAAATTTAAAATAAATTAATAAATAATAATATAATAGAGTATTATAAAAGTATTAAGAATTTTTTGAGAAGTAGTGAAATACAATGATACAAAAAAGAATATCAAAGGCGGAAGCATAATACTATATAATTACTGACACTTAAAAACGAAAGCTAAGGTAGCAAATAGGATTAGATACCCTAGTAGTCTTAGCTGTAAACTATGAATATTTTATATTTATATTTTATAAATATAATAACTAACGTGATAAATATTCCGCCTGAGTAGTATATTCGCAAGAATGAAATTCAAAGGAATTGACGGGAGCTTATACAAGTGGTGGAACATGTGGCTTAATTCGATGCAACACGATAAACCTTACCAAAATTTAACAATATTTTTAATATTAAGAAATTAATATTTTAATAAAATATATAGGTAGTGCATGGCTGTCGTCAGTTCGTGCTGTGAAGTGTTAATTTTAGTATTATAACGAACGTAACCTTTTATAAAAAAAATTTTTATAATAAATAATAATAAAGATTACGTCAAGTCATTATGCTCCTTATATTTTGGGCTGCTCACGTGTTACATAAAATATTACAATATTTTATTATATGTTAAATATAATAATTAAAATATATTTATAGTTCAGATTATAAATTGAAACTCATTTATATAAAGATGGAATCACTAGTAATCGCTAATCAGAATTATAGCGGTGAATAAGTTCTTAAGCTTTGTACACACCGCCCGTCACATCTAAAAAGTATCATATTATATAAAAATTATTGTTAAATAATAATATATAATTATATAATTTAGATGAAGTCGTAACAAGGTAGCCGTACTGGAAGGTGCGGCTGGATAATAAAATAAATTTTTGGTTGATTTATTTACATAATAAATAAAATAATATTTATATATAAAACTAATAAATTTATTTATATATAATTAACAATTTTATAGACAAAAATAATATTAATACACATTAATGTAAATTTAGTTAAATATTATTTTAATAATTTATAGGTTTTTAGTTTAATGGTTAAAACATACTCTTGATAAGGGTAAAATTTTAGTTCAATTCTAAAAAAACCTATAAAAAAAATAGGATCNNNNNNNNNN'"
       ]
      }
     ],
     "prompt_number": 15
    },
    {
     "cell_type": "code",
     "collapsed": false,
     "input": [
      "str(genedb_aug2015_ref['Pf3D7_API_v3'].seq)"
     ],
     "language": "python",
     "metadata": {},
     "outputs": [
      {
       "metadata": {},
       "output_type": "pyout",
       "prompt_number": 17,
       "text": [
        "'atgataaaatttttaaaacctaaaataaaaatattaaaaaaattaaatataccttttttattatatttatctagtaaatataattataaatatttaaattataaaatttcatataaatcttattttgatttaaaattaaaatttattagatatatatgttataattattgtataacatataaaaaatatttatattatttgaataaaatagataataaaaatataaatattttatattttaaattattaaaaatattagaattaagattggatatatttttagttaatataggtttttttaaaactatattgcaatcaaggtattatattaaatataaaaatatttatattaataatattataaataaatattataatattaatttaaaaaataatgatattttattttttaataataaaataaaatatataatattaaaaaatttaatttataaatataatatttatatttacatatctaatttatataaatataattttattaaaatatatagttataataaatattttataatatgtatttataattttaaaattaaaatattaaatataaataatatattaaataatatattatatatttataatgatatatattatatataattaatagtttttatgataaatataatctaatggttaagatgaagaattgtggtttcttttatatgagttcaaatctctttatttatctgttaaatataaaaatttaatgatataacttaattgataaagtaaataattgcaaattattatatttcagtttgaatctgaatatcatttaaagagagatatggtgaaatttggtatacacaatggacttaaaataatttgagttaattattattaatattaaatttttaagaaaatatataatatatttttttaaattctgtaatatattttaaaatttatatattcaaaagactttatttataaaaagtctaaatttattaagaaaatccattaacattattgttgtaagggttcaaatccctttatctctaactataacatttatagctaagtggtcgaaagcaatggactcataattcattttcatatattgatcatcagtagttcgaatctacttaaatgtaatttaaagttaatgcctgagtggttaaaaggaatggactgtaaatccattgataatatatctacatcagttcaaatctgatttaacttatttttatatataaagagaaatgactgagaggtttatagttataaattgctaatttattgtatatataataatattataccaagggttcgaatccctttttctctattattagaatttgtagtttaattaggtaaaaatattattttgtcataataaagaatacgagttcaattctcgtcaaattcgttttatttaagaattactagcttaattggtagagtactcgacttttaatcgaatggttctgagttcaaatctcaggtagttcatttaataacttttatcgtttaaaggtaagacatctttttttcaagaagaaaataggaattcgattttccttaaaagtatttatttaattcagaatatagtgtaatggtaacatatctattttgggaatagaagaatataggttcaaatcctatttttctgaaaataatattatatgtatattttagaatgaatattattattttaaataataatacattaaataatataatatttaaatataaatataatttttttattaaattatattttaataattatattaaaatatgtaaattaataatttatattataaaatatttatatatatataatatttatatgtataaacatactaagaataaaagtaaagtatattttagtaataaaaaaataagagtacaaaaagggctaggaaaagctagattaaaaaattttaaatcacctgtatgtaaacagggtgcttgtaattttggacctttttataaagaaaataaaataataagtaaaataaattatagattaatttttgtttatttattaataaataaacgtagtaatattataataattaaattagaaaatattataaatttattaaatatattttataaaaataaaaattattgtatatttaaattattatatttaaaaggtataattaataataaatatattttaattaatttaaataataaattatttaataaaaatatatttataaatattattatgtataattatttaatatttttaatttaaattatgaaagaagttattttaaatttttatttatataatattttattttataaaattaatgttttaaataaattttgtattatttattctataaaatattttacaaaattagatataaaatatataattaaaaatatatttaaaataaaattaattaattataataatataaaaattaataatataaataaaaaaaattgtttaaaaaaatattatattacatttaaatgatattaaaattaaaaaaatataatacttataaatattttaaaagttttggtaaaaataataaaggatatattactatttataataaaggaggtggaaatttaaaatataattataaattaatagatagttggtatgataattataatattactataaattataaagtttttttatttaaaaaaataaaaaattattttagaaatacatatataggatgtattttgtatttatctaaattaaataatttacaaaaatttattattttacaacataattatatgataaattctatatattatttaacaaatattaataatattaaaactggaagttatatacaattaaaatattgtaaattaggtacatatatctataatatatctaaagattataaaaaaggtagtatttttgctagatcagcaggtacttttgctcaaatattatctttttataaaaatttagtttatataaaattaccttctaaacaatgtaaatatataaatataaataatttttgttatattggtgtaaatagtaatatttttcataataaatttaaaataaaaaatgctggttataatatttattataatattaaacctaaagtaagaggtaaagctaaaaatgtatgtgaccatcctcatgggggaggtaaaggaaagactggtattggtcgtaaatatccttgttctaaaaaaggattacattcaaaaggatataaaacaataaaataaatataaaaaaaaaaaaaattaatgataaaattatattggttaaaaattactataaataataaatatatatttataaatataaataaatataaatataataaaaatttaattttaaatatatataataaaaatttatatatttataaaaaattattaaatttatatataaaagtatataatggatataaatttatacctatttatataaataaaactaagttatttaataaattaggaaattttatatatactaaatttgtaaaaaataatattaaagaattattaataaattaaaaaaagatatgggacaaaaagtacatcctttaatatttagaggattaatatataaaaactatttaaataatttttatataaatattagtaaaaataaatattatttaattaatatattattaacatattttatttattataatatgtatagaatatgtaattataaagaagataattatattaatataaatataaattttagtataaataaatttgtaattacattttttttatataataaatattataatatatataatttaaaatatatatttattttattaaattattttaattattattattataattattataattatatgtgttttttaaaaataaaatatgtaaataatataaataatattaatgttataatgtattatataaaaaaatattatataaaatataaatctttaaaattaatatttgattatttatataataatattttaaaaaaaaataattttaatataaaaggattaaaaattaaattttcaggtcgttttaaaaatagtttaaagactaaaatagaaatatatatttatggtattatatctttaagtacattaaataataatattaaatatataaatgatattataaatactaaatatggtattttaagtataaaaatttggttaaatatttaaaaataaattaaaaaaatttataatatatgactaatattataataaaaaaaaatcaaaaaggtaaaataaaaggtaaatttaatttaaaatttttaagtttatattggggtattatatctttagattctggatttttaacaaaaaatcaattagagacttcaaaatttataataaataaatatttaaaaaaaataggagtatataaaatttgtataagatgtataaaatcattaactaaaaaatctttaaaaactagaatgggatcaggaaaaggatctatagaattatatgtaagtcctataaaaaaaaataagttattatttgaaataagtaaaatttcaaataatattatttatactataacaaaagttttatcttataaattaccttttaaattacaatatattagaaaataattaaataaagaatatgaatataaaaataggatatgttattaagaatttaaatataaatattaagatagtttgtatatctttttataagtataattttaaatataaaaaattattattatgtaatctatatataaaaatatatgataatagaaatgaaattattataaatgattatatattatttaaatattataaaaaaagtaaatattgtaataataaagtaataaaaattttatgatatatataaatagtatattagatgtaatagataatagtggtatatttaaatttaaatatatttgtactttaaataaatataaaaatcctaaatatggtgatatagttataggagtagtttatagtttatataataataatttatataaaaaatcagataaatgtaaaggtattttagtacaacaaaaaaaatttttaaattttaaaaaatattattctataaaatttaataaaaatgctgtaataattataaataataagttaaattttgtaggtactaaaagtaataattatatatctaaatatataaaatataaattaaatatgaataagtttaaaataaaatttatttgaattatgattattaaatttttaaataatgttaaatataattttaaattaaaaaaaaattttatattatataaatataataaagtaatatattatttaagtatattattatataattataaatatatatttaaattatatgttttaaatatatataataaatattttatttttataattttaaatgaatataaaaatattaattattttaaagtatatatcaaatataatcaattattttatatgaattttaataaattattatgttttataaaatttaaaaaatattttaaaggtttattaattttatattcttcaaaatataaatttattacacatatattagctttaaaatataaaattggtggtattttattattttatattttgtaaatattatagttataattgttatgataaataatagaaagtacatatttttaaataataatataaaagaaggtaatatatatttaattttagatataaaatatttgaattatatatatatatttaaaaataataataagatatataatattaatatattaaataatatatatatatattttataaaaaataatatttattattttatatttaaaatgtataagtatatatttagtaatatatttaataaaatacaatataaaaagtatcagttaattttaaatataattggtataaattataaattttattatataaaaaaaggtaattttttaatatttcaattaaaatatagtcataaaataattattaagttacctaatataatattttgtgagttagatataaataaaaattttatatatttatatagtatggatatatttatattaaattctattgggaatttaataaattcatttcaatatataaataaatataaagaattaggtataaaaaaattaatatgataattaatattattaataaaaaattaaataatttttatatattatattatgttatagtattatttaaaagtatttttatattaattttaaaaagaaagtttaataattatttgtataaaatttataatattttaattatatatttaaaattatattatattataaataataagagagataaaaaatatatttttaataataaaaatgtaaattttatttatttttatatttataaatataataataatattaagttaaataatagtattataaagttaaataataatattattgaaaaaattattgaaataaaaaaaatatcttatacaataaaaaaaggaagaattaaaagatataaaatagtattagtattaggtaataaacaaggttggataggattaggagttagtaagaatatcaatattaataaagctattatatctgctaaaataaaagctttaaataatatttattattttaaatattctatattaaatatatataaattaagatatatatatattaattatagtaaattttttattaaattacaatttaaaatttataattatttaaatataagatttttattattaaaatatttatttgaatgtttaggttattttaattgtaaaataataatttattataatataatacataatagatataatttattaaataaattattattaatattatttaatatattttaaaattaaaatgactttatatttaaataaaaatttatttatatatatattaaaatatatatatgggttaaatttatataatattaatatattattaatgataaataatataagtatatttaatattaaagaaaataatatcagtaatattaaaattagtttatatagattaaatatttatttacataaaattttaaaaataaaaaaaaataatataattataaataaaataaaaaaatttaatataaaaaatgaaaaaacgttcttcaataaaaaaaatatgtaataaatgtaaattaataaaacgttttaaaaaattacatataatttgtataaataaaaaacataagcaaacacaatgattaaatataataattatataatttttttatattttaaattaactttaaaaaatactttaataacaatatctaaatataaatataataataataaatatatttatataaaaaatattaagaatatatcatgtggttgttttaaatattttaaaaatagattaaaaaatactatattagcaaataatattttaactataaatattataaaatatttaattaataaaaattatttaaatataaatataatatttaatggtataaattattatagaatacatatattaaaattattattaaatgtaaaatataaaaataaaaaattaaatataaataaattatttgatataacttcaataccttataatggatgtaaatattcaaaaagaaaatattaataagatataaaaaatgttaacaataaataaattattatataaaaaaaaatataaaaaaactaaaaaaataacaaattatttattaaataaatgtcctcaaaaaaaaggtatagttttaaaaatattaataaagactccaaaaaaaccaaattcagctttaagaaaagttgctaagataagattatcaaataataaggaattattagcatatataccaggtgaaggtaaatctattcaagaacataattttgtattaattaaaggaggtagagtaaaagatttaccaggtataaaatataaaataataagaggttctttagattcaactggggttttaaatagaaaaacttctagatctaaatatggaactaaaaaatattaaaatatataaataataatgataatatttaagtattttataaaaatatttttgaaaaaaggtaagttaaataaaagtataaaattattaatatatatattatatttattaaaaaaaataactaataaatctagtatatttatttttaataaagctataaaaaatttattattacctttttcttttttaaaaataaaaataaatcatattaaatataatatacctattataatatcgtatgaacaatctatatttaatatatataaattattaaataatattataaaaaataaaaatattttactatataaaattatttgtaaatatataatttttagttataataaagagggtgaattatataagataaaattaaatttaattaaacaatttatatcaaatagagtatatatatatttattaaagaaaaataaaattaaaaagtgattatattattatttattattaatgaaataatattttaaataaaatatgaataataaattatttttaagaaataaacaacatataaatttaggtactatagggcatgtagatcatggaaaaactacattaacaacagctatatcttatttattaaatttacaaggattatcaaaaaaatataattattcagatattgattcagctccagaagaaaaaataagaggtattacaataaatacaacacatattgaatatgaaactttaacaaaacattgtgctcatatagattgtccaggacattccgattatattaaaaatatgattataggagccacacaaatggatatagcaattttagtaatatctataatagatggtataatgcctcaaacttatgaacatttattattaataaaacaaataggtataaaaaatataattatttttttaaataaagaagatttatgtgatgatgttgaattaatagattttataaaattagaagtaaatgaattattaattaaatataattttgatttaaattatatacatatattaactggttcagcattaaatgtaataaatataattcaaaaaaataaggattatgaattaataaaatctaatatttggatacaaaaattaaataatttaattcaaataattgataatattataatacctactagaaaaattaatgattactttttaatgtcaatagaagatgtattttctataacaggtagaggtacagtagtaacaggtaagattgaacaaggatgtataaatttaaatgatgaaattgaaattttaaaatttgaaaaatcatctcctaatttaacaacagttataggattagaaatgtttaaaaaacaattaacacaagcacaatccggagataatgtaggtattttattaagaaatattcaaaaaaaagatataaaaagaggtatgattttagcaacacctaataaattaaaagtatataagtcttttatagctgaaacatatattttaactaaagaagaaggtggtcgtcataaaccttttaatattggatataaacctcaattttttattcgtacagtagatgttactggagaaattaaaaatatatatttaaatgaaaatgtacaaaaagtagctatacctggagataaaataacattacatattgaattaaaacattatatagtgttgacattaaatatgaaattttctattagagaaggaggaaaaacaataggagcaggtattataacagaaataaaaaattaaataaaataagatgaaaaatataactattaataaattttttataaaaaaaatatttaaaattattaaatattttaatataatttattatcgtttatttatttggatatatattattattttattatttattttagttaataaaaaaaaatattataatactataatatataacaaatataaatatttattaaattttttatttataattttattattaaataaatgtcaaaaatcagatttgaactgataacacatggatcttcaatccattgctctaccattgagctattatgacttattatatataataatatatatagaatataaccaaaaggttaaggtaatgaattttgatttcattaatataggttcgaatcctattattctaataataatgaatataatttaatgataaaatacaattttaccataattgttataagagtttgaatctctttattcatatatataaaaattatgtctttaatttaaagtaaaaatataaatttccaaaatttataataaaggttcgaatcctttaggacatgtatataataatatataaataaaaaaatgattattttatgtaaatataaatttttaataaaaaataataaaataaatttaaattcaattttaaattttaaatttaaaatatataacattaatattaatttattaaataaaaaaataacagaatatataaataaatataaattgaatttatttataatttatatttattcagataaaacatttaaaattatatataattatacaatatataatttatataataaatataatagtaaagtaaataaaatattactaatatataagatattattatataaaaaatttcaattattattttataatattaatcaattattatatattataaaaaataattttaaacaaataaacataaaaaataataaaaatcatgataattttaaataatctttattgtacaaaagaattaataataatatttattaaatctgaatatttagcattaaaatataataataattttataatgcctattcatttattattaggattattattaactgataatttatgtacaaaatttttaaaaataaataaaaaaataataaataataaaataattttatctttattaaataaatataaatataataataaaaatattattaatataaatttttctaataaagttattaatatattaattaaattaaataattttaattttaaaattaattcatttaatttattattattattattagaagaaaaaaataataataaagatattaattatttatttaaatatttaaatttaaatttttctaatttaaatttaaataattatataaaaactaatattttttcaaataatattagaataaaattaaaagaaatatcagtaaatcttttaaatttaaattatatttataataataatttaaatttttataaacaacaatatatacagttattacaaattttaaatttaaaaataaaaaaacatataatattagaaggggtaaatgataatatttttatatttttacaattattaattaataatataaaaaataaaattataccaatatatttaaaatatacagaaatatgggtattaaatgatttattaacttatgatatacaaactttaatatataaaatattgaatatatctaaatattttacaaataaatataaattaatcttaattataaaaaatatagaaatatttaatctatcagataatattaataatgataataataaattatattatttatttttattattaaataaattatatggatataatatacatataataatagtaactaataaaaaagaatataatacatattttaaatataatataataaaagattcttatttttataaaataagaataaaagatttatcaatattacaaacattcttaataataaaaaataatatatataaatatattaattattataaaattaatattaataattatattatatatgaattaataaatttaagtaaaaagtatataaaacctttaatattacctacaactccattaattttattagaaaattcatgttctaataaatatttattaaataataaaatatcttattcaaattttaattatttatttacatataataataataatattatatataataataaaaataataatttaactatagaagatattaaaaattcaatatctaattacttaaatatatctaaaaccatattatttaaagacaataaattaactaaattaaatttaactaaattagaaaattatttatataatcatatatatggtcaaaatcatatttttaataaaataataccttttattaaacaaaattttataggattaaaaaataaaaataaacctataggaagttggattttatgtgggcctagtggtactggtaaaactgaattagcaaaaatattatcaaaacaattatttggttctgaaaaagaactaattagatttgatatgagtgaatatatggaaaaacattctatttctagattaataggttcacctcctggttatgttggttattcagaaggaggtcaattaacagaacaagtttataaaaaacctaattcagtaatattatttgatgaaatagaaaaagcacatcctgatatatataatataatgttacaaatattagatgaaggtagattaacagattctacaggtaaattaatagattttacacatacaataattttattaacaagtaatttaggttgtccaaaaaattatgatttatatctaaaaaataaaaattttttatcaaaatcggatttaaaagaaatagaaaaaaatataaaaataaatattaataattattttaaacctgaattattaaatagattaactaatatattaatatttaatcctttaaatattaataatttattatttatatttaataaatttataaatgaattgaaaataaaattatatttaaataaattaaatattattatacatattaataaagaattaaaatattttttagttaaattaatgtataatcctttatatggagctcgtcctttaaaaagaatattagaattaatttttgataaatctataagtgatttattattaacttataataaacattattttataaaaaataaatatattttatattattatttaaataaatattataaattaaattttaatatatatttattataaatttttaacaaatatagtttaatcggtaaaatattaattttccaaattaatgatatggattcaatttccattatttgtatatattttaaattataaataaataatatgaaaaatattcatttatattcaaaatcaaataaaacgaaatataaaacatataaaataaatttaaatataaaaaaaattaaaaaatataaaaatataaaattaggtatttataatccaaaattaaatataaattcttgcttatattatttattattaaaatatttaaaatataattttaaattaagtaaaaatttattaaaacttttattatataaaataaaattattatataaataataagagaaatgacagagtggtttattgtgtttgatttgagatcaaaaaaatataaatatatttcatgggttcaaatcccattttctcttttatatttttatgtattattataatgatatttaatttatattataaattgaaaaaaaatttattattaaaaaaatttaaaaatatacaaataaataataatattaaaaaaattgtatatattaaattatttaatatattattaaaaagtaaaaattcaaataattatatatataatattataaataataaatataaaaatataaaattattatatattctatcaaataataaatataatttattattatttaaaaatattaatttatggaatgtattattaaattataatataatatttaataatatatatataattaaaaatatatttacatatttttaattttactatgaattaatgaagtataaattattttatatattaattttaaagatttataattattataatttcctaaaatttttatatttatattacttgaatctaaacttaaatttataaaacttattaaaattaattttaattttaaaatttcttttaaaattaaatttttattaaaatttgttaaaaatatgtatttaggtagatttatcatattttttataccattaaatttattatataatttaatataaattatatttaaattatatatacattttttagataatatattattaaaatatttatttttaattattttacttatccaaatatatattataatttttttttttaatacaaaccaattagttaataatccagaaacccatttatttatatataaattatttgttaaattacatattttaattgtaaaattttttattaaattattattattaataaataaaattttattattcattaatgatatattataaatatataaatataacttatataaatataaagctataaatgtaaaatttaaaatacaataattaaattttattttatatatatatttataattatcaaaataaatattcttataaatatttcctatataaatttttgattttaataaattatcaaaagtaataaacatattttaaaaaaattaatttactaaatatctataccatccattaccaacaggtaataaatcagtcaatattattttagattttatatctattaaccaatcaattttattatttaaaatatttaaacttattattttaaatgtattctgaaaacttatatttgttaaaaatccagaattagctaaaattgattttgtaatacctaaaataattggttcatatttataaatataatgtttatttaaatttaaagaataattaattatatttattaattgtaaagatattatatcattatatttaaatattttaaaattattagatattatctttatacatgataacattttttttataataagttcaaaataaatagaaggtaaataaatattttgataactatattgtttcaaaatagattcaattaaaatattatatacatatatatatgaacttttagttgcttgataaatatttatagattttaataaaaatctaaaataatattttaaatttttattaattgaataaaattctgtatgtaaagaatatccactatataaaatagaactaatatcttcaaaaatataagaataaaaatttaatttatatttataatgattaatattatatttattacatatattatatatatatataatattatttaaataattataatattttatataaaatattacataaatattatttgaaataaaaaaaatattatcttttatatttttattttcaaatattatatttatagattgtaaacctatagtaatatcatttaaatataaattataaatattattattaatataattataaaataatttattatataataaattattatttattaaaatatttttattatattgatataaattcatattattattataaatataataattatttttatatataatatgattatgtataaaattattattattataaaataaattttttataaaatataaattaatatttatattatatttatataaatatttaatataattattatatataatatataaattatatttattatttaacaataaatatttataccaattatatttaaatatttcatataaatataaaaaattattatatttttttataaaaaataatttattataagtatacttataaaaatttaaatattttttaattataatattatttataatatttaaatatataaataattttttttcatatttataatatataaatatattatttacataaaataatttatttaaaatttgtatattattaaaattttttaatataaaattcattttttaaaataataatttgaattaataaaattataattattattataaattttataataataatttgaaaataaattaaaataattaattaaaaaatatataacattatacttattattattattatttaaaataatacctttattatataaattataaaactttatatgataataatataaataatatgtataaatattatatagaatccatttattatggatattttttattaataactgtatattactataattataatatttaattacattatttaaatatttaataataatattatttaaattatatttaaaattcttagaaatagaattataaataaaattacattttatatattgattttgtaaaatatatttatattcaaataatatattattataattatataatattttattcattaaaaatattaaattaaatttaatattaatatattttttaaaatttataattaatttaaatattttatttatatttaatttatataaatatattttataaattaaatatttattaaaattaaatttatcttttaaaattgaactagcatgaaaagtccttaataccatttgagtactaggttcacttatagcttcactagatataactcctatatgttgtcctaaattatatttatataattgtttataatttaaacatgtattacatatattattatatatattacataaatatacagatttaatatttaaatatatatttcttctattatataaatttaataatttatttaatatatatttagttatataagtattttttgtataaataaaagtaccattatttaaatttaaaatattattttgtaaaattttaaatcttaatatatttaaaggtaatataatattaccatatatatccatatttaatatatattttaatataaaaggtgatttacaatttaattcttttattataaaattacttgtaatatttattaaacgttttgttaaatatcctgaatctgctgtttttaaagctgtatcaattataccttttttagatccataacaagataaaatatattcatatatatttaattcatttatataattatttataacaggtttttcataaatcattccttttatattagaaatataacccttataacctattaattgttgtaattgagaatattttatttttattttattattaaaaaataaaaataaatttgaataaataggattaattttattatataaattattatttaaaataccttgaattttatttataacttttaaataataataattatttaaaaatacatttatataattatttttaatttcgtaatatttattattataaatattattaattttatttttatataaaattaataaatatataaaatttgaaaaatcttttatatttaaggaataattatataaaaaactatattcatatcctaaatataataattcatgtaatattttaaaacttatattatatttaaatataattaataattttttttctaaaatttttaaattatatttattaaaaaaataaaaatacatatttattattaatatatatacatatataaatttataattattctattaatagaagttaatatataaaatatattattattatttatatattttatccaaactaaattaaatataaataaaatattattattataatattcatatattttttcaattgaattaaaataaaatatatttaactcattattataatttaatattaataaagtatttattcctaatttataatattgtaaattactaaataaatttttattatttgaaggtgatattatatttttatcaaaatttaaattaatattagattcaaactttgaagttttaattaatggtaaaaaaatagacatttgatccccatcaaaatctgcattaaaacttgtacatcctaatggataaaattttaatgaataaccttcagttaataaaggtttaaaagattgtaaattcattctatgtaatgtaggagctctatttataataataaattgattttgtaataatctatttaaaaatttttgtataataaataaatttttattaattaataaacttttaaatattatatttaatttactattatattttaatatatttattaaaaaaggcttaaataaatttatactaatataataaggtaatccaatattattatatataatacttggatttacagttataacagatctaccggaaaaatcaactcttttacctaataatttatatttaattgtactatatttaccttgaaaagttttactaaaattaaaaaaagtattattattttttaaaattaatttatttatcaataaataatcaattaattgttgtaataatcttttttctattatttcaaatataaaaaaaatattattacgtaaatataaccaatattttaatttattattttttaaaattattaatctataattttcatttatagtagatataatatatgtactattatttatataaaaataaggtcttaatcctgcaggtaatattggtaataaatctaaaaatatccaatttggttttatattatttaatataaataaattaaataaattaatttttttatataaatattttttattataatatttattattaattaataataattctttattatttaataattcagttaataaatttatattttgtaactttttatataaaatattatgagaaaataaatattgaataatatttttatatttttttttatataaatttatttttgaaaataatttattataataaaaatactgcttatatttaatattactaaaaaaatatttataataaattaaaaattttaaataaaaaacatttttatttaataataatgaagctacttttaaaggaccagttaaataccataaatgtaaaattggaatatttaaaaatataaaacctaatttatattttctatttatatttattattaatttatttttacaaaatttacaatataaaaaaaatgaaaaattatttatattatacatttttttattacaattacaattccatttatacatataatcaaatattttttcacaaaataaaccatttaaaattggtaatcctgtattaaaatttattgtattaggtattaatacctctccgattataattttatttttataaaatattgaagaccattttattatttgtttaggatttaatatatttaattttaatcctataaaatttatattattatgtattatcattattaataaattatattaataggtaaattttctaataaattatttgtatcattaaatatacaaaaagcttctatattaatagctaaactttgtaactcttttaaaattaatttaaaagtttctgatataaaagtattttttattttataattattaaataaataattttttaatatttttctacttttaatatcatcagatttataagtaaaaaattctttaaataaataagaagctccaaaagcttctaaagcccatacttccatttctccaaatctttgacccccttgttttgtattaccttttattggttgttgagttaattcagaatataaacctataaatctatatctaaatttatcttttatcatatgaattaatttataataataaatattatttaaacaaatactattattaatcatattaccagtaaatggattttttaaataatatttattataattataagacattttactatttatattaaaattattattataattatatttataataattaaaaatatgattataattgttataataatttttatttaaattatttgatattatatatctagtatttaaatataaactatttaacccatatattccttcaaatatttgacctatatttattctagaaggtatacttatagcacttataaatatatcaggttgaattttattatttaaatatggtatatcatttatttcactaatataagatataatacctttatgtccatgtctattacatattttatctcctaattgtaaatatttttgtataccaatatatattctaaattttaaatatatattatttttttctgttttattatataaatgatttggtaatatttctattttaataaccctacctatatcatgaatagtagaaataataggtttatttttaaatattcttaatttactaccaaataaaaaattaataatattaattaaacttttattattaaatataaaaggcataaacattaattttgaaattaatatattattagctaatatatatgtaccttcttttattataccatatttatctaaatgtttaatatttttataatacattttggataaatttatactacatatttctggtatattattaattatatttaaagatatttcataaatattcaaatgtaatgaagtatataaattattatataaaatttttctactaattataatagcatcttcatattcatatcctaaataagaaccataacctactaataaattatttcctaaactatattcactatttaataaattagaatttatagctaaaatctgaccaatattaactttttcccctacccatacaataggtttataaattaataatatattttgatttatttttttataattatttaaataataaattatttgtctattaaataaatctcttattattatttttatacaagaaacatatataactattccttcttgatatgaaataattaaatgatttaaatatttatttaaaataaaattataattagtaataatattacttaaatttggatatataataggaacaatttgagtatgcatttttatactcattaaatttctaatagaatcattataatgtataaatggtattaaattttcaataaaagataataaataattaaaaggtatgtaaataatattttgtgttatattacatattttaaatgtatttttatttattgttaaaatagttgttttattaaaattaatatttttttttaaataaatattattaaaactaatattataaaaatttttattaaatatatttaataataacttaaaattatatctattataaaatatatgtttataatatattacgaataaatattttaaatttaaaaatatatttgtagttaaataattaactaaaccacaagttaatccttcattagtatttattaaactgatataccctaatatatttctaggtaattctcttaaatcattatttaaaataaatttagaatttaatcctgtagttatcatatttattttaaatttttgatttatttcagataaattatttacttgatcagaatattgaactaatggatttatatttatattttctaaaattatatttatatattttttattatttaataataaagttatattattatatatatttctattaatatttaataattgatatttaaatatttttaaatattttttactttttattaataaattatcaataatagaataaaattttttattataaatattattaatataaaaatcagaataatatgaaaaatttaattttattgaaaataaaatatttaataaatttatatatatattattaaatttatttaatttaataataaataattttaatgatattatattattaatattattatattttgaataaataaattttatataattatatattaatatctttttatttataatattattatatataaataatgatatatttttatttatatatatattatttaaatataataataaaattaaaaaattaaatttaaaattattaaaataacaatcaatatttaacttacttattttaaaaataattcttaatcctaaactaatatatatatatacatatataatatttttattattatttttaaattttataataaaaattttattattttttttaaataattgaatacatgttttatataatccatttaatataataatattattataaataaaaggtaatataaatattaatatattaaattttataattttatttatatttataaaatttaactttaatgttaaaattatttttaataaattatttatattctgaatagtatcaatagaatttatatttatattagttaataaaattataattttataataaataaaattaaatttaacatttatattattatttaaaaataaaatataatatcttaaattatatattatttcctgaattaataataaatataaatttgatattatataattattttttactaaaataggattaacaatatatatcatttaatttatattaaatttacctattttaaaaatattaattaaattaaatgtatttaaattaaaatataaatatattatatcattattattaaattttaataaaataatataattattatttttattatttaataaaatacctttaaaattaaatatttgtaatttattttttatatattcataaaaatttaatttaattattaaatttttatttaaaataaattttttatttattattatttttttttgaaaaaaatttttatattttttataataatattttttaattatattaatttttatcatattattttttaaataatatttaaatatattaatttctttaaaattaatatatattttttatataatatataaataatatttttattttttttatattttaataattttttatatttattaatatataaaaaatttgtattaattacatttttattatatttcatatttaattaattaaatatatctttaatttttaatgaaaataatataggtatctctaaattaaattcaaacggtaatttattataaatatcagaacaaaaacctataattaataatgaaatagactctgaaatacttaaaccacgttgcattaataaaaataaatatataatttcaattttagaaacaaaagcttcttgttttacataactagtattattataattttttatataaggaatagttactgttaaagaattattaccaaatattaaagaactacattcagtataattataagatttatatgaaaaaggtttaatatatactaaacctctaaatatatttaatgagttatttaaagatatacttttagaaattatataacttttagtataagatcctatatgatacattttactaccagtatcagctatttgcatatttgatataaaagatattgaataaaaattactaatagaaaatttaccttttaaaatagtagaagggtatttccatgttataatcgaacctacttcaacttgtatccaatctaattttgaataatttaaacatataccacgtttagttgtaaaattatataaaccaccattacctaaataatctcctctataccaattttgtaatgtataatattttatataaccataatcttttactattatttctactatagctacatgtaattgtgattctttatataatgaagctgtacatccttctaaatatgatacataagaatatttaccaactattattaaagtacgttcaaattgtgcaaaatcagaagaattagttttaaaatatgttgataaattaaaattacactttacatatttaggtatataacaaaaagatccttcactaaatattattgaattaatattagcaaaaaaattatctttataagaaataatagtacctaaatatttttttattaataaaggatatttaaatataatatcaaataaaggtaaaaaaattattcctaatttttttaaaaaatattgtgtagtatgtaaaatagacatactatcaaatataatatctatagaattattttttattaatatactatctaaaaattcaatatttaaattattttttaaataatatattaaattattatcttttaaaatagaagaataataaataatattatcataatttatatttggacaatcaaaaaaattccaatcaggtaatttaaatatatttaataattttaaagaatattttttaaaattataaataaacatatataaaaaaatattactagataaattttttattaaatttatatttaatccttgtcttattaaatataaatttattttatttttatattgatatttataatttaaattataaatatttaaaaaattttttaattttatcataataattatatataaaaataataaaagctaatggtgagatttgaactcataatctactgattacaaatcagttgctttaccaattaagctactttagcaaatataacaataaataattaaatattcaacttattaggaattatacactaaatatattactataaatacatactaatcctataaaataatttttctaattattgttttattcatttatatgattagaatattatttttaactaaattttcttatttatattacttcaacaattaaaattttatacttaactactcaactttacaaaaaaattttataattgatatatcattggtataatttttttgatcctctcgtactaaaaaaaataatttcaatattctaacacttatattagatatggaccgaactgtctcacgacgttctgaacccagctcacgtatcgctttaataggcgaacagacttacccttaaaacatactactgctttaggatgcgataagccgacatcgaggtgccaaaccttttcgtcaatatggactctcggaaaagattagcctgttatccctagagtaacttttatccgttaagcgataattttattactaaataattatcggatcattaagaccgacatttatctctgtttaatttgtaaattttacagttaattatatattatatctttatataataaatataacattgtactcctccgtttatatataggaggagaccgccccagtcaaactatctcataaatattgtttaaaaatttgttataaaatttctataagaatttatatataaataaaatggtatttcatttttaactaaattatttccaagaaaataatattattgtttcccatttatactatgttaaatatatatattttcattatttattaatagtaaagcttcatagggtctttctgtcctaatataagaaatctgtatcttcacagataattttatttcattaagattttttttaagacagcatttaagtcgttacatctttcatgcaggtcggaacttacccgacaaggaatttcgctacctttggaccgttatagatacagccgccgtttactatagcttatatatatattataatttaattacatatattattttaacataatagcactgggcagatgtcaatctttatacatcatttttcaatttagcaaagatttgtgtttttgttaaacagtcgcttaaattttttattttcaactaaaaagtatcttttatccctaagttacaagattaaattgccgagttccttaaaaaaaattatcttaacttcttaataatatatatatatttactagtgtcagtttacggtacgaatatattataataaatatattaataatttttatataatataaataatattaaaattattaatattagtcttaaaatataaattataatatagtataagaatattaacttattatctatcaattacacgtttcatctcattttaagattcgactaaccctattaaaaaaaattataaataggaaaccttaaattatagaagtattggatttttaccaatatttacattactcaaattagcattatcacttttgattttattattttaatttacatataaataatattttatcaaaacgctcttttaccaatttaattgtactaatattaaattttataatatcgataattaatttattttcgattatttttgaactaaaattattaaattaatgagcttttacgcactctttaaaagataactgcttctaaatttactttttaattattaatataattttatattctttttaaaacttaattaatatttaaaaatcttaatttataattagggctgtttcccttttgaaaataaagcttatcctttattttctaataatatatatattttattaaataaaattattaaattattaatattaatattaattatttaaattaatctaataaaaaaagagttttacatttatttatatataaatactatacttacatatatttcaaagagaaccagctatcttcaaattcgattggcatttcaccactaattatattttatttgatacttttgcaacagtaatcaattcaaactataatttaattttatttaaattttattttaaatataattagatcatttgatttcgggtctataataaataatatattttaaatttattaaaaaaataaattcgatttaactttggcttcattatttaaatatatttaacctaattattatactatttattataacttgctaattctttcttcaacaagaatataataaaattaaaattaaattttattataatttattaaatttaaaattcaggttcttttcactattttttcaaaattcttttcatctttccctcacggtacttttctctataaacttttattatatttaattttataaggtaattcttattattttttatattatttatataaaattatatattatattactttattaaaattttacatatttttttaaatgtttattttttttcaattcgctcgccgctactatgaaaatcgttattactttttattcctttaagtactaagatgattcaattccttaagtttttaaataaaatatttatataaaaatattttatcagatacttttataataatatttattaataaatataaatatatttttattaattattataaaaatttcgttaatatatataacgtctttcttatttaataaaaattatagacatccttttaaatttattatatatatttaattatatatttaatttaaattataataaataaatttatataattataagcgaaaaacggaattgaaccgattaccttcggagcatgaatccgacgaactttccttatgctctatttcgctaaaaataaacttgaaaagaattgaacttttattttataattcgtatttatatattttatccattaaattacaagtttatttataaatataaaatttaaagtaattaacttagaggtaaagtttctgctttacatacagaagaccattggttcgaatccaatattacttaaaaatctataatttaatggataaaataaaaaccttctaagttttatatgtaagttcaaatcttactagatttatatatatatgaatatggcgaaataggtaaacgcactaaatttagattttagttattataataagagttcaaatctctttattcatatttatttaaacttcttaaactagaattgaactagtgtatttcggttaacagccgaatgctttaaccactaagctattaagaatatttatatttatatataaatatatatttgggaatatagtttaatggtaaaatcttatttttgcataataaagatagtagttcaattctacttatttccatataatttctatatatgttatttatatatttaaaatatatattttattatattgcgagtttgatcctagctcagaattaacgctagaaatatacattacacatgcaaattaatgataatatcatagtgtataggtgaggatatataaatttttaattttaaatagattataaattttattaaataataatctataagcgcaaaaatatatgtactatattaaaaattaatattatttaaaataaaatttatatttgattaactagttggtaatttaaaagactaccaaggttattatcaaaaattggtttgaaagaatgtacaatcacattaggattgaaataaagcctaaatttttataaaaaatcagcagtgaggaatattttacaataagtgtaagcttgataaagtaatatttcttttaggaagacagtattattaaaatattgtaaactttttattttatttttaaatattgataaaaataaaaaatagtatttgctaatttctgtgccagcagcagcggtaatacagaaaatgcaagcgttattcattttattaggcgtaaagcgttttaaggttttatattaattttatgtttaaatatttaaattaaatttaaaataaattaataaataataatataatagagtattataaaagtattaagaattttttgagaagtagtgaaatacaatgatacaaaaaagaatatcaaaggcgaaagcataatactatataattactgacacttaaaaacgaaagctaaggtagcaaataggattagataccctagtagtcttagctgtaaactatgaatattttatatttatattttataaatataataactaacgtgataaatattccgcctgagtagtatattcgcaagaatgaaattcaaaggaattgacgggagcttatacaagtggtggaacatgtggcttaattcgatgcaacacgataaaccttaccaaaatttaacaatatttttaatattaagaaattaatattttaataaaatatataggtagtgcatggctgtcgtcagttcgtgctgtgaagtgttaattttagtattataacgaacgtaaccttttataaaaaaaatttttataataaataataataaagattacgtcaagtcattatgctccttatattttgggctgctcacgtgttacataaaatattacaatattttattatatgttaaatataataattaaaatatatttatagttcagattataaattgaaactcatttatataaagatggaatcactagtaatcgctaatcagaattatagcggtgaataagttcttaagctttgtacacaccgcccgtcacatctaaaaagtatcatattatataaaaattattgttaaataataatatataattatataatttagatgaagtcgtaacaaggtagccgtactggaaggtgcggctggataataaaataaatttttggttgatttatttacataataaataaaataatatttatatataaaactaataaatttatttatatataattaacaattttatagacaaaaataatattaatacacattaatgtaaatttagttaaatattattttaataatttataggtttttagtttaatggttaaaacatactcttgataagggtaaaattttagttcaattctaaaataacctataaaaaaaataggatccctattataaaattatatagtagggatcctattttttttataggttattttagaattgaactaaaattttacccttatcaagagtatgttttaaccattaaactaaaaacctataaattattaaaataatatttaactaaatttacattaatgtgtattaatattatttttgtctataaaattgttaattatatataaataaatttattagttttatatataaatattattttatttattatgtaaataaatcaaccaaaaatttattttattatccagccgcaccttccagtacggctaccttgttacgacttcatctaaattatataattatatattattatttaacaataatttttatataatatgatactttttagatgtgacgggcggtgtgtacaaagcttaagaacttattcaccgctataattctgattagcgattactagtgattccatctttatataaatgagtttcaatttataatctgaactataaatatattttaattattatatttaacatataataaaatattgtaatattttatgtaacacgtgagcagcccaaaatataaggagcataatgacttgacgtaatctttattattatttattataaaaattttttttataaaaggttacgttcgttataatactaaaattaacacttcacagcacgaactgacgacagccatgcactacctatatattttattaaaatattaatttcttaatattaaaaatattgttaaattttggtaaggtttatcgtgttgcatcgaattaagccacatgttccaccacttgtataagctcccgtcaattcctttgaatttcattcttgcgaatatactactcaggcggaatatttatcacgttagttattatatttataaaatataaatataaaatattcatagtttacagctaagactactagggtatctaatcctatttgctaccttagctttcgtttttaagtgtcagtaattatatagtattatgctttcgcctttgatattcttttttgtatcattgtatttcactacttctcaaaaaattcttaatacttttataatactctattatattattatttattaatttattttaaatttaatttaaatatttaaacataaaattaatataaaaccttaaaacgctttacgcctaataaaatgaataacgcttgcattttctgtattaccgctgctgctggcacagaaattagcaaatactattttttatttttatcaatatttaaaaataaaataaaaagtttacaatattttaataatactgtcttcctaaaagaaatattactttatcaagcttacacttattgtaaaatattcctcactgctgattttttataaaaatttaggctttatttcaatcctaatgtgattgtacattctttcaaaccaatttttgataataaccttggtagtcttttaaattaccaactagttaatcaaatataaattttattttaaataatattaatttttaatatagtacatatatttttgcgcttatagattattatttaataaaatttataatctatttaaaattaaaaatttatatatcctcacctatacactatgatattatcattaatttgcatgtgtaatgtatatttctagcgttaattctgagctaggatcaaactcgcaatataataaaatatatattttaaatatataaataacatatatagaaattatatggaaataagtagaattgaactactatctttattatgcaaaaataagattttaccattaaactatattcccaaatatatatttatatataaatataaatattcttaatagcttagtggttaaagcattcggctgttaaccgaaatacactagttcaattctagtttaagaagtttaaataaatatgaataaagagatttgaactcttattataataactaaaatctaaatttagtgcgtttacctatttcgccatattcatatatatataaatctagtaagatttgaacttacatataaaacttagaaggtttttattttatccattaaattatagatttttaagtaatattggattcgaaccaatggtcttctgtatgtaaagcagaaactttacctctaagttaattactttaaattttatatttataaataaacttgtaatttaatggataaaatatataaatacgaattataaaataaaagttcaattcttttcaagtttatttttagcgaaatagagcataaggaaagttcgtcggattcatgctccgaaggtaatcggttcaattccgtttttcgcttataattatataaatttatttattataatttaaattaaatatataattaaatatatataataaatttaaaaggatgtctataatttttattaaataagaaagacgttatatatattaacgaaatttttataataattaataaaaatatatttatatttattaataaatattattataaaagtatctgataaaatatttttatataaatattttatttaaaaacttaaggaattgaatcatcttagtacttaaaggaataaaaagtaataacgattttcatagtagcggcgagcgaattgaaaaaaaataaacatttaaaaaaatatgtaaaattttaataaagtaatataatatataattttatataaataatataaaaaataataagaattaccttataaaattaaatataataaaagtttatagagaaaagtaccgtgagggaaagatgaaaagaattttgaaaaaatagtgaaaagaacctgaattttaaatttaataaattataataaaatttaattttaattttattatattcttgttgaagaaagaattagcaagttataataaatagtataataattaggttaaatatatttaaataatgaagccaaagttaaatcgaatttatttttttaataaatttaaaatatattatttattatagacccgaaatcaaatgatctaattatatttaaaataaaatttaaataaaattaaattatagtttgaattgattactgttgcaaaagtatcaaataaaatataattagtggtgaaatgccaatcgaatttgaagatagctggttctctttgaaatatatgtaagtatagtatttatatataaataaatgtaaaactctttttttattagattaatttaaataattaatattaatattaataatttaataattttatttaataaaatatatatattattagaaaataaaggataagctttattttcaaaagggaaacagccctaattataaattaagatttttaaatattaattaagttttaaaaagaatataaaattatattaataattaaaaagtaaatttagaagcagttatcttttaaagagtgcgtaaaagctcattaatttaataattttagttcaaaaataatcgaaaataaattaattatcgatattataaaatttaatattagtacaattaaattggtaaaagagcgttttgataaaatattatttatatgtaaattaaaataataaaatcaaaagtgataatgctaatttgagtaatgtaaatattggtaaaaatccaatacttctataatttaaggtttcctatttataattttttttaatagggttagtcgaatcttaaaatgagatgaaacgtgtaattgatagataataagttaatattcttatactatattataatttatattttaagactaatattaataattttaatattatttatattatataaaaattattaatatatttattataatatattcgtaccgtaaactgacactagtaaatatatatatattattaagaagttaagataattttttttaaggaactcggcaatttaatcttgtaacttagggataaaagatactttttagttgaaaataaaaaatttaagcgactgtttaacaaaaacacaaatctttgctaaattgaaaaatgatgtataaagattgacatctgcccagtgctattatgttaaaataatatatgtaattaaattataatatatatataagctatagtaaacggcggctgtatctataacggtccaaaggtagcgaaattccttgtcgggtaagttccgacctgcatgaaagatgtaacgacttaaatgctgtcttaaaaaaaatcttaatgaaataaaattatctgtgaagatacagatttcttatattaggacagaaagaccctatgaagctttactattaataaataatgaaaatatatatatttaacatagtataaatgggaaacaataatattattttcttggaaataatttagttaaaaatgaaataccattttatttatatataaattcttatagaaattttataacaaatttttaaacaatatttatgagatagtttgactggggcggtctcctcctatatataaacggaggagtacaatgttatatttattatataaagatataatatataattaactgtaaaatttacaaattaaacagagataaatgtcggtcttaatgatccgataattatttagtaataaaattatcgcttaacggataaaagttactctagggataacaggctaatcttttccgagagtccatattgacgaaaaggtttggcacctcgatgtcggcttatcgcatcctaaagcagtagtatgttttaagggtaagtctgttcgcctattaaagcgatacgtgagctgggttcagaacgtcgtgagacagttcggtccatatctaatataagtgttagaatattgaaattattttttttagtacgagaggatcaaaaaaattataccaatgatatatcaattataaaatttttttgtaaagttgagtagttaagtataaaattttaattgttgaagtaatataaataagaaaatttagttaaaaataatattctaatcatataaatgaataaaacaataattagaaaaattattttataggattagtatgtatttatagtaatatatttagtgtataattcctaataagttgaatatttaattatttattgttatatttgctaaagtagcttaattggtaaagcaactgatttgtaatcagtagattatgagttcaaatctcaccattagcttttattatttttatatataattatt'"
       ]
      }
     ],
     "prompt_number": 17
    },
    {
     "cell_type": "code",
     "collapsed": false,
     "input": [
      "str(my_ref['PF_apicoplast_genome_1'].seq)"
     ],
     "language": "python",
     "metadata": {},
     "outputs": [
      {
       "metadata": {},
       "output_type": "pyout",
       "prompt_number": 18,
       "text": [
        "'AATTATACCAATGATATATCAATTATAAAATTTTTTTGTAAAGTTGAGTAGTTAAGTATAAAATTTTAATTGTTGAAGTAATATAAATAAGAAAATTTAGTTAAAAATAATATTCTAATCATATAAATGAATAAAACAATAATTAGAAAAATTATTTTATAGGATTAGTATGTATTTATAGTAATATATTTAGTGTATAATTCCTAATAAGTTGAATATTTAATTATTTATTGTTATATTTGCTAAAGTAGCTTAATTGGTAAAGCAACTGATTTGTAATCAGTAGATTATGAGTTCAAATCTCACCATTAGCTTTTATTATTTTTATATATAATTATTATGATAAAATTTTTAAAACCTAAAATAAAAATATTAAAAAAATTAAATATACCTTTTTTATTATATTTATCTGGTAAATATAATTATAAATGTTTAAATTATAAAATTTCATATAAATCTTATTTTGATTTAAAATTAAAATTTATTAGATATATATGTTATAATTATTGTATAACATATAAAAAATATTTATATTATTTGAATAAAATAGATAATAAAAATATAAATATTTTATATTTTAAATTATTAAAAATATTAGAATTAAGATTGGATATATTTTTAGTTAATATAGGTTTTTTTAAAACTATATTGCAATCAAGGTATTATATTAAATATAAAAATATTTATATTAATAATATTATAAATAAATATTATAATATTAATTTAAAAAATAATGATATTTTATTTTTTAATAATAAAATAAAATATATAATATTAAAAAATTTAATTTATAAATATAATATTTATATTTACATATCTAATTTATATAAATATAATTTTATTAAAATATATAGTTATAATAAATATTTTATAATATGTATTTATAATTTTAAAATTAAAATATTAAATATAAATAATATATTAAATAATATATTATATATTTATAATGATATATATTATATATAATTAATAGTTTTTATGATAAATATAATCTAATGGTTAAGATGAAGAATTGTGGTTTCTTTTATATGAGTTCAAATCTCTTTATTTATCTGTTAAATATAAAAATTTAATGATATAACTTAATTGATAAAGTAAATAATTGCAAATTATTATATTTCAGTTTGAATCTGAATATCATTTAAAGAGAGATATGGTGAAATTTGGTATACACAATGGACTTAAAATAATTTGAGTTAATTATTATTAATATTAAATTTTTAAGAAAATATATAATATATTTTTTTAAATTCTGTAATATATTTTAAAATTTATATATTCAAAAGACTTTATTTATAAAAAGCTAAATTTATTAAGAAAATCCATTAACATTATTGTTGTAAGGGTTCAAATCCCTTTATCTCTAACTATAACATTTATAGCTAAGTGGTCGAAAGCAATGGACTCATAATTCATTTTCAATATATTGATCATCAGTAGTTCGAATCTACTTAAATGTAATTTAAAGTTAATGCCTGAGTGGTTAAAAGGAATGGACTGTAAATCCATTGATAATATATCTACATCAGTTCAAATCTGATTTAACTTATTTTTATATATAAAGAGAAATGACTGAGAGGTTTATAGTTATAAATTGCTAATTTATTGTATATATAATAATATTATACCAAGGGTTCGAATCCCTTTTTCTCTATTATTAGAATTTGTTAGTTTAATTAGGTAAAAATATTATTTTGTCATAATAAAGAATACGAGTTCAATTCTCGTCAAATTCGTTTTATTTAAGAATTACTAGCTTAATTGGTAGAGTACTCGACTTTTAATCGAATGGTTCTGAGTTCAAATCTCAGGTAGTTCATTTAATAACTTTTATCGTTTAAAGGTAAGACATCTTTTTTTCAAGAAGAAAATAGGAATTCGATTTTCCTTAAAAGTATTTATTTAATTCAGAATATAGTGTAATGGTAACATATCTATTTTGGGAATAGAAGAATATAGGTTCAAATCCTATTTTTCTGAAAATAATATTATATGTATATTTTAGAATGAATATTATTATTTTAAATAATAATACATTAAATAATATAATATTTAAATATAAATATAATTTTTTTATTAAATTATATTTTAATAATTATATTAAAATATGTAAATTAATAATTTATATTATAAAATATTTATATATATATAATATTTATATGTATAAACATACTAAGAATAAAAGTAAAGTATATTTTAGTAATAAAAAAATAAGAGTACAAAAAGGGCTAGGAAAAGCTAGATTAAAAAATTTTAAATCACCTGTATGTAAACAGGGTGCTTGTAATTTTGGACCTTTTTATAAAGAAAATAAAATAATAAGTAAAATAAATTATAGATTAATTTTTGTTTATTTATTAATAAATAAACGTAGTAATATTATAATAATTAAATTAGAAAATATTATAAATTTATTAAATATATTTTATAAAAATAAAAATTATTGTATATTTAAATTATTATATTTAAAAGGTATAATTAATAATAAATATATTTTAATTAATTTAAATAATAAATTATTTAATAAAAATATATTTATAAATATTATTATGTATAATTATTTAATATTTTTAATTTAAATTATGAAAGAAGTTATTTTAAATTTTTATTTATATAATATTTTATTTTATAAAATTAATGTTTTAAATAAATTTTGTATTATTTATTCTATAAAATATTTTACAAAATTAGATATAAAATATATAATTAAAAATATATTTAAAATAAAATTAATTAATTATAATAATATAAAAATTAATAATATAAATAAAAAAAATTGTTTAAAAAAATATTATATTACATTTAAATGATATTAAAATTAAAAAAATATAATACTTATAAATATTTTAAAAGTTTTGGTAAAAATAATAAAGGATATATTACTATTTATAATAAAGGAGGTGGAAATTTAAAATATAATTATAAATTAATAGATAGTTGGTATGATAATTATAATATTACTATAAATTATAAAGTTTTTTTATTTAAAAAAATAAAAAATTATTTTAGAAATACATATATAGGATGTATTTTGTATTTATCTAAATTAAATAATTTACAAAAATTTATTATTTTACAACATAATTATATGATAAATTCTATATATTATTTAACAAATATTAATAATATTAAAACTGGAAGTTATATACAATTAAAATATTGTAAATTAGGTACATATATCTATAATATATCTAAAGATTATAAAAAAGGTAGTATTTTTGCTAGATCAGCAGGTACTTTTGCTCAAATATTATCTTTTTATAAAAATTTAGTTTATATAAAATTACCTTCTAAACAATGTAAATATATAAATATAAATAATTTTTGTTATATTGGTGTAAATAGTAATATTTTTCATAATAAATTTAAAATAAAAAATGCTGGTTATAATATTTATTATAATATTAAACCTAAAGTAAGAGGTAAAGCTAAAAATGTATGTGACCATCCTCATGGGGGAGGTAAAGGAAAGACTGGTATTGGTCGTAAATATCCTTGTTCTAAAAAAGGATTACATTCAAAAGGATATAAAACAATAAAATAAATATAAAAAAAAAAAAATTAATGATAAAATTATATTGGTTAAAAATTACTATAAATAATAAATATATATTTATAAATATAAATAAATATAAATATAATAAAAATTTAATTTTAAATATATATAATAAAAATTTATATATTTATAAAAAATTATTAAATTTATATATAAAAGTATATAATGGATATAAATTTATACCTATTTATATAAATAAAACTAAGTTATTTAATAAATTAGGAAATTTTATATATACTAAATTTGTAAAAAATAATATTAAAGAATTATTAATAAATTAAAAAAAAGATATGGGACAAAAAGTACATCCTTTAATATTTAGAGGATTAATATATAAAAACTATTTAAATAATTTTTATATAAATATTAGTAAAAATAAATATTATTTAATTAATATATTATTAACATATTTTATTTATTATAATATGTATAGAATATGTAATTATAAAGAAGATAATTATATTAATATAAATATAAATTTTAGTATAAATAAATTTGTAATTACATTTTTTTTATATAATAAATATTATAATATATATAATTTAAAATATATATTTATTTTATTAAATTATTTTAATTATTATTATTATAATTATTATAATTATATGTGTTTTTTAAAAATAAAATATGTAAATAATATAAATAATATTAATGTTATAATGTATTATATAAAAAAATATTATATAAAATATAAATCTTTAAAATTAATATTTGATTATTTATATAATAATATTTTAAAAAAAAATAATTTTAATATAAAAGGATTAAAAATTAAATTTTCAGGTCGTTTTAAAAATAGTTTAAAGACTAAAATAGAAATATATATTTATGGTATTATATCTTTAAGTACATTAAATAATAATATTAAATATATAAATGATATTATAAATACTAAATATGGTATTTTAAGTATAAAAATTTGGTTAAATATTTAAAAATAAATTAAAAAAATTTATAATATATGACTAATATTATAATAAAAAAAAATCAAAAAGGTAAAATAAAAGGTAAATTTAATTTAAAATTTTTAAGTTTATATTGGGGTATTATATCTTTAGATTCTGGATTTTTAACAAAAAATCAATTAGAGACTTCAAAATTTATAATAAATAAATATTTAAAAAAAATAGGAGTATATAAAATTTGTATAAGATGTATAAAATCATTAACTAAAAAATCTTTAAAAACTAGAATGGGATCAGGAAAAGGATCTATAGAATTATATGTAAGTCCTATAAAAAAAAATAAGTTATTATTTGAAATAAGTAAAATTTCAAATAATATTATTTATACTATAACAAAAGTTTTATCTTATAAATTACCTTTTAAATTACAATATATTAGAAAATAATTAAATAAAGAATATGAATATAAAAATAGGATATGTTATTAAGAATTTAAATATAAATATTAAGATAGTTTGTATATCTTTTTATAAGTATAATTTTAAATATAAAAAATTATTATTATGTAATCTATATATAAAAATATATGATAATAGAAATGAAATTATTATAAATGATTATATATTATTTAAATATTATAAAAAAAGTAAATATTGTAATAATAAAGTAATAAAAATTTTATGATATATATAAATAGTATATTAGATGTAATAGATAATAGTGGTATATTTAAATTTAAATATATTTGTACTTTAAATAAATATAAAAATCCTAAATATGGTGATATAGTTATAGGAGTAGTTTATAGTTTATATAATAATAATTTATATAAAAAATCAGATAAATGTAAAGGTATTTTAGTACAACAAAAAAAATTTTTAAATTTTAAAAAATATTATTCTATAAAATTTAATAAAAATGCTGTAATAATTATAAATAATAAGTTAAATTTTGTAGGTACTAAAAGTAATAATTATATATCTAAATATATAAAATATAAATTAAATATGAATAAGTTTAAATAAATTTATTTGAATTATGATTATTAAATTTTTAAATAATGTTAAATATAATTTTAAATTAAAAAAAAATTTTATATTATATAAATATAATAAAGTAATATATTATTTAAGTATATTATTATATAATTATAAATATATATTTAAATTATATATTTTAAATATATATAATAAATATTTTATTTTTATAATTTTAAATGAATATAAAAATATTAATTATTTTAAAGTATATATCAAATATAATCAATTATTTTATATGAATTTTAATAAATTATTATGTTTTATAAAATTTAAAAAATATTTTAAAGGTTTATTAATTTTATATTCTTCAAAATATAAATTTATTACACATATATTAGCTTTAAAATATAAAATTGGTGGTATTTTATTATTTTATATTTTGTAAATATTATAGTTATAATTGTTATGATAAATAATAGAAAGTACATATTTTTAAATAATAATATAAAAGAAGGTAATATATATTTAATTTTAGATATAAAATATTTGAATTATATATATATATTTAAAAATAATAATAAGATATATAATATTAATATATTAAATAATATATATATATATTTTATAAAAAATAATATTTATTATTTTATATTTAAAATGTATAAGTATATATTTAGTAATATATTTAATAAAATACAATATAAAAAGTATCAGTTAATTTTAAATATAATTGGTATAAATTATAAATTTTATTATATAAAAAAAGGTAATTTTTTAATATTTCAATTAAAATATAGTCATAAAATAATTATTAAGTTACCTAATATAATATTTTGTGAGTTAGATATAAATAAAAATTTTATATATTTATATAGTATGGATATATTTATATTAAATTCTATTGGGAATTTAATAAATTCATTTCAATATATAAATAAATATAAAGAATTAGGTATAAAAAAATTAATATGATAATTAATATTATTAATAAAAAATTAAATAATTTTTATATATTATATTATGTTATAGTATTATTTAAAAGTATTTTTATATTAATTTTAAAAAGAAAGTTTAATAATTATTTGTATAAAATTTATAATATTTTAATTATATATTTAAAATTATATTATATTATAAATAATAAGAGAGATAAAAAATATATTTTTAATAATAAAAATGTAAATTTTATTTATTTTTATATTTATAAATATAATAATAATATTAAGTTAAATAATAGTATTATAAAGTTAAATAATAATATTATTGAAAAAATTATTGAAATAAAAAAAATATCTTATACAATAAAAAAAGGAAGAATTAGAAGATATAAAATAGTATTAGTATTAGGTAATAAACAAGGTTGGATAGGATTAGGAGTTAGTAAGAATATCAATATTAATAAAGCTATTATATCTGCTAAAATAAAAGCTTTAAATAATATTTATTATTTTAAATATTCTATATTAAATATATATAAATTAAGATATATATATATTAATTATAGTAAATTTTTTATTAAATTACAATTTAAAATTTATAATTATTTAAATATAAGATTTTTATTATTAAAATATTTATTTGAATGTTTAGGTTATTTTAATTGTAAAATAATAATTTATTATAATATAATACATAATAGATATAATTTATTAAATAAATTATTATTAATATTATTTAATATATTTTAAAATTAAAATGACTTTATATTTAAATAAAAATTTATTTATATATATATTAAAATATATATATGGGTTAAATTTATATAATATTAATATATTATTAATGATAAATAATATAAGTATATTTAATATTAAAGAAAATAATATCAGTAATATTAAAATTAGTTTATATAGATTAAATATTTATTTACATAAAATTTTAAAAATAAAAAAAAATAATATAATTATAAATAAAATAAAAAAATTTAATATAAAAAATGAAAAAACGTTCTTCAATAAAAAAAATATGTAATAAATGTAAATTAATAAAACGTTTTAAAAAATTACATATAATTTGTATAAATAAAAAACATAAGCAAACACAATGATTAAATATAATAATTATATAATTTTTTTATATTTTAAATTAACTTTAAAAAATACTTTAATAACAATATCTAAATATAAATATAATAATAATAAATATATTTATATAAAAAATATTAAGAATATATCATGTGGTTGTTTTAAATATTTTAAAAATAGATTAAAAAATACTATATTAGCAAATAATATTTTAACTATAAATATTATAAAATATTTAATTAATAAAAATTATTTAAATATAAATATAATATTTAATGGTATAAATTATTATAGAATACATATATTAAAATTATTATTAAATGTAAAATATAAAAATAAAAAATTAAATATAAATAAATTATTTGATATAACTTCAATACCTTATAATGGATGTAAATATTCAAAAAGAAAATATTAATAAGATATAAAAAATGTTAACAATAAATAAATTATTATATAAAAAAAAATATAAAAAAACTAAAAAAATAACAAATTATTTATTAAATAAATGTCCTCAAAAAAAAGGTATAGTTTTAAAAATATTAATAAAGACTCCAAAAAAACCAAATTCAGCTTTAAGAAAAGTTGCTAAGATAAGATTATCAAATAATAAGGAATTATTAGCATATATACCAGGTGAAGGTAAATCTATTCAAGAACATAATTTTGTATTAATTAAAGGAGGTAGAGTAAAAGATTTACCAGGTATAAAATATAAAATAATAAGAGGTTCTTTAGATTCAACTGGGGTTTTAAATAGAAAAACTTCTAGATCTAAATATGGAACTAAAAAATATTAAAATATATAAATAATAATGATAATATTTAAGTATTTTATAAAAATATTTTTGAAAAAAGGTAAGTTAAATAAAAGTATAAAATTATTAATATATATATTATATTTATTAAAAAAAATAACTAATAAATCTAGTATATTTATTTTTAATAAAGCTATAAAAAATTTATTATTACCTTTTTCTTTTTTAAAAATAAAAATAAATCATATTAAATATAATATACCTATTATAATATCGTATGAACAATCTATATTTAATATATATAAATTATTAAATAATATTATAAAAAATAAAAATATTTTACTATATAAAATTATTTGTAAATATATAATTTTTAGTTATAATAAAGAGGGTGAATTATATAAGATAAAATTAAATTTAATTAAACAATTTATATCAAATAGAGTATATATATATTTATTAAAGAAAAATAAAATTAAAAAGTGATTATATTATTATTTATTATTAATGAAATAATATTTTAAATAAAATATGAATAATAAATTATTTTTAAGAAATAAACAACATATAAATTTAGGTACTATAGGGCATGTAGATCATGGAAAAACTACATTAACAACAGCTATATCTTATTTATTAAATTTACAAGGATTATCAAAAAAATATAATTATTCAGATATTGATTCAGCTCCAGAAGAAAAAATAAGAGGTATTACAATAAATACAACACATATTGAATATGAAACTTTAACAAAACATTGTGCTCATATAGATTGTCCAGGACATTCCGATTATATTAAAAATATGATTATAGGAGCCACACAAATGGATATAGCAATTTTAGTAATATCTATAATAGATGGTATAATGCCTCAAACTTATGAACATTTATTATTAATAAAACAAATAGGTATAAAAAATATAATTATTTTTTTAAATAAAGAAGATTTATGTGATGATGTTGAATTAATAGATTTTATAAAATTAGAAGTAAATGAATTATTAATTAAATATAATTTTGATTTAAATTATATACATATATTAACTGGTTCAGCATTAAATGTAATAAATATAATTCAAAAAAATAAGGATTATGAATTAATAAAATCTAATATTTGGATACAAAAATTAAATAATTTAATTCAAATAATTGATAATATTATAATACCTACTAGAAAAATTAATGATTACTTTTTAATGTCAATAGAAGATGTATTTTCTATAACAGGTAGAGGTACAGTAGTAACAGGTAAGATTGAACAAGGATGTATAAATTTAAATGATGAAATTGAAATTTTAAAATTTGAAAAATCATCTCCTAATTTAACAACAGTTATAGGATTAGAAATGTTTAAAAAACAATTAACACAAGCACAATCCGGAGATAATGTAGGTATTTTATTAAGAAATATTCAAAAAAAAGATATAAAAAGAGGTATGATTTTAGCAACACCTAATAAATTAAAAGTATATAAGTCTTTTATAGCTGAAACATATATTTTAACTAAAGAAGAAGGTGGTCGTCATAAACCTTTTAATATTGGATATAAACCTCAATTTTTTATTCGTACAGTAGATGTTACTGGAGAAATTAAAAATATATATTTAAATGAAAATGTACAAAAAGTAGCTATACCTGGAGATAAAATAACATTACATATTGAATTAAAACATTATATAGTGTTGACATTAAATATGAAATTTTCTATTAGAGAAGGAGGAAAAACAATAGGAGCAGGTATTATAACAGAAATAAAAAATTAAATAAAATAAGATGAAAAATATAACTATTAATAAATTTTTTATAAAAAAAATATTTAAAATTATTAAATATTTTAATATAATTTATTATCGTTTATTTATTTGGATATATATTATTATTTTATTATTTATTTTAGTTAATAAAAAAAAATATTATAATACTATAATATATAACAAATATAAATATTTATTAAATTTTTTATTTATAATTTTATTATTAAATAAATGTCAAAAATCAGATTTGAACTGATAACACATGGATCTTCAATCCATTGCTCTACCATTGAGCTATTATGACTTATTATATATAATAATATATATAGAATATAACCAAAAGGTTAAGGTAATGAATTTTGATTTCATTAATATAGGTTCGAATCCTATTATTCTAATAATAATGAATATAATTTAATGATAAAATACAATTTTACCATAATTGTTATAAGAGTTTGAATCTCTTTATTCATATATATAAAAATTATGTCTTTAATTTAAAGTAAAAATATAAATTTCCAAAATTTATAATAAAGGTTCGAATCCTTTAGGACATGTATATAATAATATATAAATAAAAAAATGATTATTTCATGTAAATATAAATTTTTAATAAAAAATAATCAAATAAATTTAAATTCAATTTTAAATTTTAAATTTAAAATATATAACATTAATATTAATTTATTAAATAAAAAAATAACAGAATATATAAATAAATATAAATTGAATTTATTTATAATTTATATTTATTCAGACAAAACATTTAAAATTATATATAATTATACAATATATAATTTATATAATAAATATAATAGTAAAGTAAATAAAATATTACTAATATATAAGATATTATTATATAAAAAATTTCAATTATTATTTTATAATATTAATCAATTATTATATATTATAAAAAATAATTTTAAACAAATAAACATAAAAAATAATAAAAATCATGATAATTTTAAATAATCTTTATTGTACAAAAGAATTAATAATAATATTTATTAAATCTGAATATTTAGCATTAAAATATAATAATAATTTTATAATGCCTATTCATTTATTATTAGGATTATTATTAACTGATAATTTATGTACAAAATTTTTAAAAATAAATAAAAAAATAATAAATAATAAAATAATTTTATCTTTATTAAATAAATATAAATATAATAATAAAAATATTATTAATATAAATTTTTCTAATAAAGTTATTAATATATTAATTAAATTAAATAATTTTAATTTTAAAATTAATTCATTTAATTTATTATTATTATTATTAGAAGAAAAAAATAATAATAAAGATATTAATTATTTATTTAAATATTTAAATTTAAATTTTTCTAATTTAAATTTAAATAATTATATAAAAACTAATATTTTTTCAAATAATATTAGAATAAAATTAAAAGAAATATCAGTAAATCTTTTAAATTTAAATTATATTTATAATAATAATTTAAATTTTTATAAACAACAATATATACAGTTATTACAAATTTTAAATTTAAAAATAAAAAAACATATAATACTAGAAGGGGTAAATGATAATATTTTTATATTTTTACAATTATTAATTAATAATATAAAAAATAAAATTATACCAATATATTTAAAATATACAGAAATATGGGTATTAAATGATTTATTAACTTATGATATACAAACTTTAATATATAAAATATTGAATATATCTAAATATTTTACAAATAAATATAAATTAATCTTAATTATAAAAAATATAGAAATATTTAATCTATCAGATAATATTAATAATGATAATAATAAATTATATTATTTATTTTTATTATTAAATAAATTATATGGATATAATATACATATAATAATAGTAACTAATAAAAAAGAATATAATACATATTTTAAATATAATATAATAAAAGATTCTTATTTTTATAAAATAAGAATAAAAGATTTATCAATATTACAAACATTCTTAATAATAAAAAATAATATATATAAATATATTAATTATTATAAAATTAATATTAATAATTATATTATATATGAATTAATAAATTTAAGTAAAAAGTATATAAAACCTTTAATATTACCTACAACTCCATTAATTTTATTAGAAAATTCATGTTCTAATAAATATTTATTAAATAATAAAATATCTTATTCAAATTTTAATTATTTATTTACATATAATAATAATATTATATATAATAATAAAAATAATAATTTAACTATAGAAGATATTAAAAATTCAATATCTAATTACTTAAATATATCTAAAACCATATTATTTAAAGACAATAAATTAACTAAATTAAATTTAACTAAATTAGAAAATTATTTATATAATCATATATATGGTCAAAATCATATTTTTAATAAAATAATACCTTTTATTAAACAAAATTTTATAGGATTAAAAAATAAAAATAAACCTATAGGAAGTTGGATTTTATGTGGGCCTAGTGGTACTGGTAAAACTGAATTAGCAAAAATATTATCAAAACAATTATTTGGTTCTGAAAAAGAACTAATTAGATTTGATATGAGTGAATATATGGAAAAACATTCTATTTCTAGATTAATAGGTTCACCTCCTGGTTATGTTGGTTATTCAGAAGGAGGTCAATTAACAGAACAAGTTTATAAAAAACCTAATTCAGTAATATTATTTGATGAAATAGAAAAAGCACATCCTGATATATATAATATAATGTTACAAATATTAGATGAAGGTAGATTAACAGATTCTACAGGTAAATTAATAGATTTTACACATACAATAATTTTATTAACAAGTAATTTAGGTTGTCCAAAAAATTATGATTTATATCTAAAAAATAAAAATTTTTTATCAAAATCGGATTTAAAAGAAATAGAAAAAAATATAAAAATAAATATTAATAATTATTTTAAACCTGAATTATTAAATAGATTAACTAATATATTAATATTTAATCCTTTAAATATTAATAATTTATTATTTATATTTAATAAATTTATAAATGAATTGAAAATAAAATTATATTTAAATAAATTAAATATTATTATACATATTAATAAAGAATTAAAATATTTTTTAGTTAAATTAATGTATAATCCTTTATATGGAGCTCGTCCTTTAAAAAGAATATTAGAATTAATTTTTGATAAATCTATAAGTGATTTATTATTAACTTATAATAAACATTATTTTATAAAAAATAAATATATTTTATATTATTATTTAAATAAATATTATAAATTAAATTTTAATATATATTTATTATAAATTTTTAACAAATATAGTTTAATCGGTAAAATATTAATTTTCCAAATTAATGATATGGATTCAATTTCCATTATTTGTATATATTTTAAATTATAAATAAATAATATGAAAAATATTCATTTATATTCAAAATCAAATAAAACGAAATATAAAACATATAAAATAAATTTAAATATAAAAAAAATTAAAAAATATAAAAATATAAAATTAGGTATTTATAATCCAAAATTAAATATAAATTCTTGCTTATATTATTTATTATTAAAATATTTAAAATATAATTTTAAATTAAGTAAAAATTTATTAAAACTTTTATTATATAAAATAAAATTATTATATAAATAATAAGAGAAATGACAGAGTGGTTTATTGTGTTTGATTTGAGATCAAAAAAATATAAATATATTTCATGGGTTCAAATCCCATTTTCTCTTTTATATTTTTATGTATTATTATAATGATATTTAATTTATATTATAAATTGAAAAAAAATTTATTATTAAAAAAATTTAAAAATATACAAATAAATAATAATATTAAAAAAATTGTATATATTAAATTATTTAATATATTATTAAAAAGTAAAAATTCAAATAATTATATATATAATATTATAAATAATAAATATAAAAATATAAAATTATTATATATTCTATCAAATAATAAATATAATTTATTATTATTTAAAAATATTAATTTATGGAATGTATTATTAAATTATAATATAATATTTAATAATATATATATAATTAAAAATATATTTACATATTTTTAATTACATATTTTTAATTTTACTATGAATTAATGAAGTATAAATTATTTTATATATTAATTTTAAAGATTTATAATTATTATAATTTCCTAAAATTTTTATATTTATATTACTTGAATCTAAACTTAAATTTATAAAACTTATTAAAATTAATTTTAATTTTAAAATTTCTTTTAAAATTAAATTTTTATTAAAATTTGTTAAAAATATGTATTTAGGTAGATTTATCATATTTTTTATACCATTAAATTTATTATATAATTTAATATAAATTATATTTAAATTATATATACATTTTTTAGATAATATATTATTAAAATATTTATTTTTAATTATTTTACTTATCCAAATATATATTATAATTTTTTTTTTTAATACAAACCAATTAGTTAATAATCCAGAAACCCATTTATTTATATATAAATTATTTGTTAAATTACATATTTTAATTGTAAAATTTTTTATTAAATTATTATTATTAATAAATAAAATTTTATTATTCATTAATGATATATTATAAATATATAAATATAACTTATATAAATATAAAGCTATAAATGTAAAATTTAAAATACAATAATTAAATTTTATTTTATATATATATTTATAATTATCAAAATAAATATTCTTATAAATATTTCCTATATAAATTTTTGATTTTAATAAATTATCAAAAGTAATAAACATATTTTAAAAAAATTAATTTACTAAATATCTATACCATCCATTACCAACAGGTAATAAATCAGTCAATATTATTTTAGATTTTATATCTATTAACCAATCAATTTTATTATTTAAAATATTTAAACTTATTATTTTAAATGTATTCTGAAAACTTATATTTGTTAAAAATCCAGAATTAGCTAAAATTGATTTTGTAATACCTAAAATAATTGGTTCATATTTATAAATATAATGTTTATTTAAATTTAAAGAATAATTAATTATATTTATTAATTGTAAAGATATTATATCATTATATTTAAATATTTTAAAATTATTAGATATTATCTTTATACATGATAACATTTTTTTTATAATAAGTTCAAAATAAATAGAAGGTAAATAAATATTTTGATAACTATATTGTTTCAAAATAGATTCAATTAAAATATTATATACATATATATATGAACTTTTAGTTGCTTGATAAATATTTATAGATTTTAATAAAAATCTAAAATAATATTTTAAATTTTTATTAATTGAATAAAATTCTGTATGTAAAGAATATCCACTATATAAAATAGAACTAATATCTTCAAAAATATAAGAATAAAAATTTAATTTATATTTATAATGATTAATATTATATTTATTACATATATTATATATATATATAATATTATTTAAATAATTATAATATTTTATATAAAATATTACATAAATATTATTTGAAATAAAAAAAATATTATCTTTTATATTTTTATTTTCAAATATTATATTTATAGATTGTAAACCTATAGTAATATCATTTAAATATAAATTATAAATATTATTATTAATATAATTATAAAATAATTTATTATATAATAAATTATTATTTATTAAAATATTTTTATTATATTGATATAAATTCATATTATTATTATAAATATAATAATTATTTTTATATATAATATGATTATGTATAAAATTATTATTATTATAAAATAAATTTTTTATAAAATATAAATTAATATTTATATTATATTTATATAAATATTTAATATAATTATTATATATAATATATAAATTATATTTATTATTTAACAATAAATATTTATACCAATTATATTTAAATATTTCATATAAATATAAAAAATTATTATATTTTTTTATAAAAAATAATTTATTATAAGTATACTTATAAAAATTTAAATATTTTTTAATTATAATATTATTTATAATATTTAAATATATAAATAATTTTTTTTCATATTTATAATATATAAATATATTATTTACATAAAATAATTTATTTAAAATTTGTATATTATTAAAATTTTTTAATATAAAATTCATTTTTTAAAATAATAATTTGAATTAATAAAATTATAATTATTATTATAAATTTTATAATAATAATTTGAAAATAAATTAAAATAATTAATTAAAAAATATATAACATTATACTTATTATTATTATTATTTAAAATAATACCTTTATTATATAAATTATAAAACTTTATATGATAATAATATAAATAATATGTATAAATATTATATAGAATCCATTTATTATGGATATTTTTTATTAATAACTGTATATTACTATAATTATAATATTTAATTACATTATTTAAATATTTAATAATAATATTATTTAAATTATATTTAAAATTCTTAGAAATAGAATTATAAATAAAATTACATTTTATATATTGATTTTGTAAAATATATTTATATTCAAATAATATATTATTATAATTATATAATATTTTATTCATTAAAAATATTAAATTAAATTTAATATTAATATATTTTTTAAAATTTATAATTAATTTAAATATTTTATTTATATTTAATTTATATAAATATATTTTATAAATTAAATATTTATTAAAATTAAATTTATCTTTTAAAATTGAACTAGCATGAAAAGTCCTTAATACCATTTGAGTACTAGGTTCACTTATAGCTTCACTAGATATAACTCCTATATGTTGTCCTAAATTATATTTATATAATTGTTTATAATTTAAACATGTATTACATATATTATTATATATATTACATAAATATACAGATTTAATATTTAAATATATATTTCTTCTATTATATAAATTTAATAATTTATTTAATATATATTTAGTTATATAAGTATTTTTTGTATAAATAAAAGTACCATTATTTAAATTTAAAATATTATTTTGTAAAATTTTAAATCTTAATATATTTAAAGGTAATATAATATTACCATATATATCCATATTTAATATATATTTTAATATAAAAGGTGATTTACAATTTAATTCTTTTATTATAAAATTACTTGTAATATTTATTAAACGTTTTGTTAAATATCCTGAATCTGCTGTTTTTAAAGCTGTATCAATTATACCTTTTTTAGATCCATAACAAGATAAAATATATTCATATATATTTAATTCATTTATATAATTATTTATAACAGGTTTTTCATAAATCATTCCTTTTATATTAGAAATATAACCCTTATAACCTATTAATTGTTGTAATTGAGAATATTTTATTTTTATTTTATTATTAAAAAATAAAAATAAATTTGAATAAATAGGATTAATTTTATTATATAAATTATTATTTAAAATACCTTGAATTTTATTTATAACTTTTAAATAATAATAATTATTTAAAAATACATTTATATAATTATTTTTAATTTCGTAATATTTATTATTATAAATATTATTAATTTTATTTTTATATAAAATTAATAAATATATAAAATTTGAAAAATCTTTTATATTTAAGGAATAATTATATAAAAAACTATATTCATATCCTAAATATAATAATTCATGTAATATTTTAAAACTTATATTATATTTAAATATAATTAATAATTTTTTTTCTAAAATTTTTAAATTATATTTATTAAAAAAATAAAAATACATATTTATTATTAATATATATACATATATAAATTTATAATTATTCTATTAATAGAAGTTAATATATAAAATATATTATTATTATTTATATATTTTATCCAAACTAAATTAAATATAAATAAAATATTATTATTATAATATTCATATATTTTTTCAATTGAATTAAAATAAAATATATTTAACTCATTATTATAATTTAATATTAATAAAGTATTTATTCCTAATTTATAATATTGTAAATTACTAAATAAATTTTTATTATTTGAAGGTGATATTATATTTTTATCAAAATTTAAATTAATATTAGATTCAAACTTTGAAGTTTTAATTAATGGTAAAAAAATAGACATTTGATCCCCATCAAAATCTGCATTAAAACTTGTACATCCTAATGGATAAAATTTTAATGAATAACCTTCAGTTAATAAAGGTTTAAAAGATTGTAAATTCATTCTATGTAATGTAGGAGCTCTATTTATAATAATAAATTGATTTTGTAATAATCTATTTAAAAATTTTTGTATAATAAATAAATTTTTATTAATTAATAAACTTTTAAATATTATATTTAATTTACTATTATATTTTAATATATTTATTAAAAAAGGCTTAAATAAATTTATACTAATATAATAAGGTAATCCAATATTATTATATATAATACTTGGATTTACAGTTATAACAGATCTACCGGAAAAATCAACTCTTTTACCTAATAATTTATATTTAATTGTACTATATTTACCTTGAAAAGTTTTACTAAAATTAAAAAAAGTATTATTATTTTTTAAAATTAATTTATTTATCAATAAATAATCAATTAATTGTTGTAATAATCTTTTTTCTATTATTTCAAATATAAAAAAAATATTATTACGTAAATATAACCAATATTTTAATTTATTATTTTTTAAAATTATTAATCTATAATTTTCATTTATAGTAGATATAATATATGTACTATTATTTATATAAAAATAAGGTCTTAATCCTGCAGGTAATATTGGTAATAAATCTAAAAATATCCAATTTGGTTTTATATTATTTAATATAAATAAATTAAATAAATTAATTTTTTTATATAAATATTTTTTATTATAATATTTATTATTAATTAATAATAATTCTTTATTATTTAATAATTCAGTTAATAAATTTATATTTTGTAACTTTTTATATAAAATATTATGAGAAAATAAATATTGAATAATATTTTTATATTTTTTTTTATATAAATTTATTTTTGAAAATAATTTATTATAATAAAAATACTGCTTATATTTAATATTACTAAAAAAATATTTATAATAAATTAAAAATTTTAAATAAAAAACATTTTTATTTAATAATAATGAAGCTACTTTTAAAGGACCAGTTAAATACCATAAATGTAAAATTGGAATATTTAAAAATATAAAACCTAATTTATATTTTCTATTTATATTTATTATTAATTTATTTTTACAAAATTTACAATATAAAAAAAATGAAAAATTATTTATATTATACATTTTTTTATTACAATTACAATTCCATTTATACATATAATCAAATATTTTTTCACAAAATAAACCATTTAAAATTGGTAATCCTGTATTAAAATTTATTGTATTAGGTATTAATACCTCTCCGATTATAATTTTATTTTTATAAAATATTGAAGACCATTTTATTATTTGTTTAGGATTTAATATATTTAATTTTAATCCTATAAAATTTATATTATTATGTATTATCATTATTAATAAATTATATTAATAGGTAAATTTTCTAATAAATTATTTGTATCATTAAATATACAAAAAGCTTCTATATTAATAGCTAAACTTTGTAACTCTTTTAAAATTAATTTAAAAGTTTCTGATATAAAAGTATTTTTTATTTTATAATTATTAAATAAATAATTTTTTAATATTTTTCTACTTTTAATATCATCAGATTTATAAGTAAAAAATTCTTTAAATAAATAAGAAGCTCCAAAAGCTTCTAAAGCCCATACTTCCATTTCTCCAAATCTTTGACCCCCTTGTTTTGTATTACCTTTTATTGGTTGTTGAGTTAATTCAGAATATAAACCTATAAATCTATATCTAAATTTATCTTTTATCATATGAATTAATTTATAATAATAAATATTATTTAAACAAATACTATTATTAATCATATTACCAGTAAATGGATTTTTTAAATAATATTTATTATAATTATAAGACATTTTACTATTTATATTAAAATTATTATTATAATTATATTTATAATAATTAAAAATATGATTATAATTGTTATAATAATTTTTATTTAAATTATTTGATATTATATATCTAGTATTTAAATATAAACTATTTAACCCATATATTCCTTCAAATATTTGACCTATATTTATTCTAGAAGGTATACTTATAGCACTTATAAATATATCAGGTTGAATTTTATTATTTAAATATGGTATATCATTTATTTCACTAATATAAGATATAATACCTTTATGTCCATGTCTATTACATATTTTATCTCCTAATTGTAAATATTTTTGTATACCAATATATATTCTAAATTTTAAATATATATTATTTTTTTCTGTTTTATTATATAAATGATTTGGTAATATTTCTATTTTAATAACCCTACCTATATCATGAATAGTAGAAATAATAGGTTTATTTTTAAATATTCTTAATTTACTACCAAATAAAAAATTAATAATATTAATTAAACTTTTATTATTAAATATAAAAGGCATAAACATTAATTTTGAAATTAATATATTATTAGCTAATATATATGTACCTTCTTTTATTATACCATATTTATCTAAATGTTTAATATTTTTATAATACATTTTAGATAAATTTATACTACATATTTCTGGTATATTATTAATTATATTTAAAGATATTTCATAAATATTCAAATGTAATGAAGTATATAAATTATTATATAAAATTTTTCTACTAATTATAATAGCATCTTCATATTCATATCCTAAATAAGAACCATAACCTACTAATAAATTATTTCCTAAACTATATTCACTATTTAATAAATTAGAATTTATAGCTAAAATCTGACCAATATTAACTTTTTCCCCTACCCATACAATAGGTTTATAAATTAATAATATATTTTGATTTATTTTTTTATAATTATTTAAATAATAAATTATTTGTCTATTAAATAAATCTCTTATTATTATTTTTATACAAGAAACATATATAACTATTCCTTCTTGATATGAAATAATTAAATGATTTAAATATTTATTTAAAATAAAATTATAATTAGTAATAATATTACTTAAATTTGGATATATAATAGGAACAATTTGAGTATGCATTTTTATACTCATTAAATTTCTAATAGAATCATTATAATGTATAAATGGTATTAAATTTTCAATAAAAGATAATAAATAATTAAAAGGTATGTAAATAATATTTTGTGTTATATTACATATTTTAAATGTATTTTTATTTATTGTTAAAATAGTTGTTTTATTAAAATTAATATTTTTTTTTAAATAAATATTATTAAAACTAATATTATAAAAATTTTTATTAAATATATTTAATAATAACTTAAAATTATATCTATTATAAAATATATGTTTATAATATATTACGAATAAATATTTTAAATTTAAAAATATATTTGTAGTTAAATAATTAACTAAACCACAAGTTAATCCTTCATTAGTATTTATTAAACTGATATACCCTAATATATTTCTAGGTAATTCTCTTAAATCATTATTTAAAATAAATTTAGAATTTAATCCTGTAGTTATCATATTTATTTTAAATTTTTGATTTATTTCAGATAAATTATTTACTTGATCAGAATATTGAACTAATGGATTTATATTTATATTTTCTAAAATTATATTTATATATTTTTTATTATTTAATAATAAAGTTATATTATTATATATATTTCTATTAATATTTAATAATTGATATTTAAATATTTTTAAATATTTTTTACTTTTTATTAATAAATTATCAATAATAGAATAAAATTTTTTATTATAAATATTATTAATATAAAAATCAGAATAATATGAAAAATTTAATTTTATTGAAAATAAAATATTTAATAAATTTATATATATATTATTAAATTTATTTAATTTAATAATAAATAATTTTAATGATATTATATTATTAATATTATTATATTTTGAATAAATAAATTTTATATAATTATATATTAATATCTTTTTATTTATAATATTATTATATATAAATAATGATATATTTTTATTTATATATATATTATTTAAATATAATAATAAAATTAAAAAATTAAATTTAAAATTATTAAAATAACAATCAATATTTAACTTACTTATTTTAAAAATAATTCTTAATCCTAAACTAATATATATATATACATATATAATATTTTTATTATTATTTTTAAATTTTATAATAAAAATTTTATTATTTTTTTTAAATAATTGAATACATGTTTTATATAATCCATTTAATATAATAATATTATTATAAATAAAAGGTAATATAAATATTAATATATTAAATTTTATAATTTTATTTATATTTATAAAATTTAACTTTAATGTTAAAATTATTTTTAATAAATTATTTATATTCTGAATAGTATCAATAGAATTTATATTTATATTAGTTAATAAAATTATAATTTTATAATAAATAAAATTAAATTTAACATTTATATTATTATTTAAAAATAAAATATAATATCTTAAATTATATATTATTTCCTGAATTAATAATAAATATAAATTTGATATTATATAATTATTTTTTACTAAAATAGGATTAACAATATATATCATTTAATTTATATTAAATTTACCTATTTTAAAAATATTAATTAAATTAAATGTATTTAAATTAAAATATAAATATATTATATCATTATTATTAAATTTTAATAAAATAATATAATTATTATTTTTATTATTTAATAAAATACCTTTAAAATTAAATATTTGTAATTTATTTTTTATATATTCATAAAAATTTAATTTAATTATTAAATTTTTATTTAAAATAAATTTTTTATTTATTATTATTTTTTTTTGAAAAAAATTTTTATATTTTTTATAATAATATTTTTTAATTATATTAATTTTTATCATATTATTTTTTAAATAATATTTAAATATATTAATTTCTTTAAAATTAATATATATTTTTTATATAATATATAAATAATATTTTTATTTTTTTTATATTTTAATAATTTTTTATATTTATTAATATATAAAAAATTTGTATTAATTACATTTTTATTATATTTCATATTTAATTAATTAAATATATCTTTAATTTTTAATGAAAATAATATAGGTATCTCTAAATTAAATTCAAACGGTAATTTATTATAAATATCAGAACAAAAACCTATAATTAATAATGAAATAGACTCTGAAATACTTAAACCACGTTGCATTAATAAAAATAAATATATAATTTCAATTTTAGAAACAAAAGCTTCTTGTTTTACATAACTAGTATTATTATAATTTTTTATATAAGGAATAGTTACTGTTAAAGAATTATTACCAAATATTAAAGAACTACATTCAGTATAATTATAAGATTTATATGAAAAAGGTTTAATATATACTAAACCTCTAAATATATTTAATGAGTTATTTAAAGATATACTTTTAGAAATTATATAACTTTTAGTATAAGATCCTATATGATACATTTTACTACCAGTATCAGCTATTTGCATATTTGATATAAAAGATATTGAATAAAAATTACTAATAGAAAATTTACCTTTTAAAATAGTAGAAGGGTATTTCCATGTTATAATCGAACCTACTTCAACTTGTATCCAATCTAATTTTGAATAATTTAAACATATACCACGTTTAGTTGTAAAATTATATAAACCACCATTACCTAAATAATCTCCTCTATACCAATTTTGTAATGTATAATATTTTATATAACCATAATCTTTTACTATTATTTCTACTATAGCTACATGTAATTGTGATTCTTTATATAATGAAGCTGTACATCCTTCTAAATATGATACATAAGAATATTTACCAACTATTATTAAAGTACGTTCAAATTGTGCAAAATCAGAAGAATTAGTTTTAAAATATGTTGATAAATTAAAATTACACTTTACATATTTAGGTATATAACAAAAAGATCCTTCACTAAATATTATTGAATTAATATTAGCAAAAAAATTATCTTTATAAGAAATAATAGTACCTAAATATTTTTTTATTAATAAAGGATATTTAAATATAATATCAAATAAAGGTAAAAAAATTATTCCTAATTTTTTTAAAAAATATTGTGTAGTATGTAAAATAGACATACTATCAAATATAATATCTATAGAATTATTTTTTATTAATATACTATCTAAAAATTCAATATTTAAATTATTTTTTAAATAATATATTAAATTATTATCTTTTAAAATAGAAGAATAATAAATAATATTATCATAATTTATATTTGGACAATCAAAAAAATTCCAATCAGGTAATTTAAATATATTTAATAATTTTAAAGAATATTTTTTAAAATTATAAATAAACATATATAAAAAAATATTACTAGATAAATTTTTTATTAAATTTATATTTAATCCTTGTCTTATTAAATATAAATTTATTTTATTTTTATATTGATATTTATAATTTAAATTATAAATATTTAAAAAATTTTTTAATTTTATCATAATAATTATATATAAAAATAATAAAAGCTAATGGTGAGATTTGAACTCATAATCTACTGATTACAAATCAGTTGCTTTACCAATTAAGCTACTTTAGCAAATATAACAATAAATAATTAAATATTCAACTTATTAGGAATTATACACTAAATATATTACTATAAATACATACTAATCCTATAAAATAATTTTTCTAATTATTGTTTTATTCATTTATATGATTAGAATATTATTTTTAACTAAATTTTCTTATTTATATTACTTCAACAATTAAAATTTTATACTTAACTACTCAACTTTACAAAAAAATTTTATAATTGATATATCATTGGTATAATTTTTTTGATCCTCTCGTACTAAAAAAAATAATTTCAATATTCTAACACTTATATTAGATATGGACCGAACTGTCTCACGACGTTCTGAACCCAGCTCACGTATCGCTTTAATAGGCGAACAGACTTACCCTTAAAACATACTACTGCTTTAGGATGCGATAAGCCGACATCGAGGTGCCAAACCTTTTCGTCAATATGGACTCTCGGAAAAGATTAGCCTGTTATCCCTAGAGTAACTTTTATCCGTTAAGCGATAATTTTATTACTAAATAATTATCGGATCATTAAGACCGACATTTATCTCTGTTTAATTTGTAAATTTTACAGTTAATTATATATTATATCTTTATATAATAAATATAACATTGTACTCCTCCGTTTATATATAGGAGGAGACCGCCCCAGTCAAACTATCTCATAAATATTGTTTAAAAATTTGTTATAAAATTTCTATAAGAATTTATATATAAATAAAATGGTATTTCATTTTTAACTAAATTATTTCCAAGAAAATAATATTATTGTTTCCCATTTATACTATGTTAAATATATATATTTTCATTATTTATTAATAGTAAAGCTTCATAGGGTCTTTCTGTCCTAATATAAGAAATCTGTATCTTCACAGATAATTTTATTTCATTAAGATTTTTTTTAAGACAGCATTTAAGTCGTTACATCTTTCATGCAGGTCGGAACTTACCCGACAAGGAATTTCGCTACCTTTGGACCGTTATAGATACAGCCGCCGTTTACTATAGCTTATATATATATTATAATTTAATTACATATATTATTTTAACATAATAGCACTGGGCAGATGTCAATCTTTATACATCATTTTTCAATTTAGCAAAGATTTGTGTTTTTGTTAAACAGTCGCTTAAATTTTTTATTTTCAACTAAAAAGTATCTTTTATCCCTAAGTTACAAGATTAAATTGCCGAGTTCCTTAAAAAAAATTATCTTAACTTCTTAATAATATATATATATTTACTAGTGTCAGTTTACGGTACGAATATATTATAATAAATATATTAATAATTTTTATATAATATAAATAATATTAAAATTATTAATATTAGTCTTAAAATATAAATTATAATATAGTATAAGAATATTAACTTATTATCTATCAATTACACGTTTCATCTCATTTTAAGATTCGACTAACCCTATTAAAAAAAATTATAAATAGGAAACCTTAAATTATAGAAGTATTGGATTTTTACCAATATTTACATTACTCAAATTAGCATTATCACTTTTGATTTTATTATTTTAATTTACATATAAATAATATTTTATCAAAACGCTCTTTTACCAATTTAATTGTACTAATATTAAATTTTATAATATCGATAATTAATTTATTTTCGATTATTTTTGAACTAAAATTATTAAATTAATGAGCTTTTACGCACTCTTTAAAAGATAACTGCTTCTAAATTTACTTTTTAATTATTAATATAATTTTATATTCTTTTTAAAACTTAATTAATATTTAAAAATCTTAATTTATAATTAGGGCTGTTTCCCTTTTGAAAATAAAGCTTATCCTTTATTTTCTAATAATATATATATTTTATTAAATAAAATTATTAAATTATTAATATTAATATTAATTATTTAAATTAATCTAATAAAAAAAGAGTTTTACATTTATTTATATATAAATACTATACTTACATATATTTCAAAGAGAACCAGCTATCTTCAAATTCGATTGGCATTTCACCACTAATTATATTTTATTTGATACTTTTGCAACAGTAATCAATTCAAACTATAATTTAATTTTATTTAAATTTTATTTTAAATATAATTAGATCATTTGATTTCGGGTCTATAATAAATAATATATTTTAAATTTATTAAAAAAATAAATTCGATTTAACTTTGGCTTCATTATTTAAATATATTTAACCTAATTATTATACTATTTATTATAACTTGCTAATTCTTTCTTCAACAAGAATATAATAAAATTAAAATTAAATTTTATTATAATTTATTTAAATTAAAATTCAGATTCTTTTCACTATTTTTTCAAAATTCTTTTCATCTTTCCTCACGGTACTTTTCTCTATAAACTTTTATTATATTTAATTTTATAAGGTAATTCTTATTATTTTTTATATTATTTATATAAAATTATATATTATATTACTTTATTAAAATTTTACATATTTTTTTAAATGTTTATTTTTTTTCAATTCGCTCGCCGCTACTATGAAAATCGTTATTACTTTTTATTCCTTTAAGTACTAAGATGATTCAATTCCTTAAGTTTTTAAATAAAATATTTATATAAAAATATTTTATCAGATACTTTTATAATAATATTTATTAATAAATATAAATATATTTTTATTAATTATTATAAAAATTTCGTTAATATATATAACGTCTTTCTTATTTAATAAAAATTATAGACATCCTTTTAAATTTATTATATATATTTAATTATATATTTAATTTAAATTATAATAAATAAATTTATATAATTATAAGCGAAAAACGGAATTGAACCGATTACCTTCGGAGCATGAATCCGACGAACTTTCCTTATGCTCTATTTCGCTAAAAATAAACTTGAAAAGAATTGAACTTTTATTTTATAATTCGTATTTATATATTTTATCCATTAAATTACAAGTTTATTTATAAATATAAAATTTAAAGTAATTAACTTAGAGGTAAAGTTTCTGCTTTACATACAGAAGACCATTGGTTCGAATCCAATATTACTTAAAAATCTATAATTTAATGGATAAAATAAAAACCTTCTAAGTTTTATATGTAAGTTCAAATCTTACTAGATTTATATATATATGAATATGGCGAAATAGGTAAACGCACTAAATTTAGATTTTAGTTATTATAATAAGAGTTCAAATCTCTTTATTCATATTTATTTAAACTTCTTAAACTAGAATTGAACTAGTGTATTTCGGTTAACAGCCGAATGCTTTAACCACTAAGCTATTAAGAATATTTATATTTATATATAAATATATATTTGGGAATATAGTTTAATGGTAAAATCTTATTTTTGCATAATAAAGATAGTAGTTCAATTCTACTTATTTCCATATAATTTCTATATATGTTATTTATATATTTAAAATATATATTTTATTATATTGCGAGTTTGATCCTAGCTCAGAATTAACGCTAGAAATATACATTACACATGCAAATTAATGATAATATCATAGTGTATAGGTGAGGATATATAAATTTTTAATTTTAAATAGATTATAAATTTTATTAAATAATAATCTATAAGCGCAAAAATATATGTACTATATTAAAAATTAATATTATTTAAAATAAAATTTATATTTGATTAACTAGTTGGTAATTTAAAAGACTACCAAGGTTATTATCAAAAATTGGTTTGAAAGAATGTACAATCACATTAGGATTGAAATAAAGCCTAAATTTTTATAAAAAATCAGCAGTGAGGAATATTTTACAATAAGTGTAAGCTTGATAAAGTAATATTTCTTTTAGGAAGACAGTATTATTAAAATATTGTAAACTTTTTATTTTATTTTTAAATATTGATAAAAATAAAAAATAGTATTTGCTATTTCTGTGCCAGCAGCAGCGGTAATACAGAAAATGCAAGCGTTATTCATTTTATTAGGCGTAAAGCGTTTTAAGGTTTTATATTAATTTTATGTTTAAATATTTAAATTAAATTTAAAATAAATTAATAAATAATAATATAATAGAGTATTATAAAAGTATTAAGAATTTTTTGAGAAGTAGTGAAATACAATGATACAAAAAAGAATATCAAAGGCGGAAGCATAATACTATATAATTACTGACACTTAAAAACGAAAGCTAAGGTAGCAAATAGGATTAGATACCCTAGTAGTCTTAGCTGTAAACTATGAATATTTTATATTTATATTTTATAAATATAATAACTAACGTGATAAATATTCCGCCTGAGTAGTATATTCGCAAGAATGAAATTCAAAGGAATTGACGGGAGCTTATACAAGTGGTGGAACATGTGGCTTAATTCGATGCAACACGATAAACCTTACCAAAATTTAACAATATTTTTAATATTAAGAAATTAATATTTTAATAAAATATATAGGTAGTGCATGGCTGTCGTCAGTTCGTGCTGTGAAGTGTTAATTTTAGTATTATAACGAACGTAACCTTTTATAAAAAAAATTTTTATAATAAATAATAATAAAGATTACGTCAAGTCATTATGCTCCTTATATTTTGGGCTGCTCACGTGTTACATAAAATATTACAATATTTTATTATATGTTAAATATAATAATTAAAATATATTTATAGTTCAGATTATAAATTGAAACTCATTTATATAAAGATGGAATCACTAGTAATCGCTAATCAGAATTATAGCGGTGAATAAGTTCTTAAGCTTTGTACACACCGCCCGTCACATCTAAAAAGTATCATATTATATAAAAATTATTGTTAAATAATAATATATAATTATATAATTTAGATGAAGTCGTAACAAGGTAGCCGTACTGGAAGGTGCGGCTGGATAATAAAATAAATTTTTGGTTGATTTATTTACATAATAAATAAAATAATATTTATATATAAAACTAATAAATTTATTTATATATAATTAACAATTTTATAGACAAAAATAATATTAATACACATTAATGTAAATTTAGTTAAATATTATTTTAATAATTTATAGGTTTTTAGTTTAATGGTTAAAACATACTCTTGATAAGGGTAAAATTTTAGTTCAATTCTAAAAAAACCTATAAAAAAAATAGGATC'"
       ]
      }
     ],
     "prompt_number": 18
    },
    {
     "cell_type": "code",
     "collapsed": false,
     "input": [],
     "language": "python",
     "metadata": {},
     "outputs": []
    }
   ],
   "metadata": {}
  }
 ]
}