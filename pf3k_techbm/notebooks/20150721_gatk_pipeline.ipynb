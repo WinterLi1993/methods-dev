{
 "metadata": {
  "name": "",
  "signature": "sha256:c3c846b4b3c496d584da796ef23291c54585f09965bedd5c9c317c23a1bcfb97"
 },
 "nbformat": 3,
 "nbformat_minor": 0,
 "worksheets": [
  {
   "cells": [
    {
     "cell_type": "heading",
     "level": 1,
     "metadata": {},
     "source": [
      "Setup"
     ]
    },
    {
     "cell_type": "code",
     "collapsed": false,
     "input": [
      "%run _shared_setup.ipynb"
     ],
     "language": "python",
     "metadata": {},
     "outputs": [
      {
       "output_type": "stream",
       "stream": "stdout",
       "text": [
        "python 3.4.1 |Anaconda 2.1.0 (x86_64)| (default, Sep 10 2014, 17:24:09) \n",
        "[GCC 4.2.1 (Apple Inc. build 5577)]\n",
        "numpy 1.9.2\n",
        "scipy 0.14.0\n",
        "pandas 0.14.1\n",
        "numexpr 2.3.1\n",
        "pysam 0.8.3\n",
        "petl 1.0.10\n",
        "petlx 1.0.3\n",
        "vcf 0.6.7\n",
        "h5py 2.3.1\n",
        "tables 3.1.1\n",
        "vcfplt 0.8\n",
        "mkdir: /nfs/team112_internal/production_files/Pf3k/methods/assembled_samples: File exists\r\n"
       ]
      },
      {
       "output_type": "stream",
       "stream": "stdout",
       "text": [
        "tbl_pgv_metadata length = 5729\n",
        "tbl_pgv_locations length = 102\n",
        "tbl_pf3k_metadata length = 2512\n",
        "tbl_pf_solaris length = 10879"
       ]
      },
      {
       "output_type": "stream",
       "stream": "stdout",
       "text": [
        "\n",
        "tbl_assembled_samples length = 11\n"
       ]
      }
     ],
     "prompt_number": 2
    },
    {
     "cell_type": "code",
     "collapsed": false,
     "input": [
      "sample_manifest_fn = '../meta/validation_sample_bams.txt'"
     ],
     "language": "python",
     "metadata": {},
     "outputs": [],
     "prompt_number": 4
    },
    {
     "cell_type": "heading",
     "level": 1,
     "metadata": {},
     "source": [
      "Check data"
     ]
    },
    {
     "cell_type": "code",
     "collapsed": false,
     "input": [
      "tbl_samples_to_process = (tbl_assembled_samples\n",
      "    .cutout('Notes')\n",
      "    .selectnotnone('bam_fn')\n",
      "    .selecteq('To be used for', 'Validation')\n",
      "    .cut(['Isolate code', 'bam_fn', ''])\n",
      ")\n",
      "tbl_samples_to_process.displayall(index_header=True)"
     ],
     "language": "python",
     "metadata": {},
     "outputs": [
      {
       "html": [
        "<table class='petl'>\n",
        "<thead>\n",
        "<tr>\n",
        "<th>0|Sample name</th>\n",
        "<th>1|Isolate code</th>\n",
        "<th>2|Cross parent?</th>\n",
        "<th>3|Origin</th>\n",
        "<th>4|Continent</th>\n",
        "<th>5|#contigs assemblies</th>\n",
        "<th>6|Both telomer repeats attached</th>\n",
        "<th>7|Icorned</th>\n",
        "<th>8|ox_code</th>\n",
        "<th>9|SRA accession</th>\n",
        "<th>10|coverage</th>\n",
        "<th>11|read length</th>\n",
        "<th>12|To be used for</th>\n",
        "<th>13|bam_fn</th>\n",
        "</tr>\n",
        "</thead>\n",
        "<tbody>\n",
        "<tr>\n",
        "<td>7G8</td>\n",
        "<td>7G8</td>\n",
        "<td>Yes</td>\n",
        "<td>Brazil</td>\n",
        "<td>S America</td>\n",
        "<td style='text-align: right'>17</td>\n",
        "<td style='text-align: right'>9</td>\n",
        "<td>75bp</td>\n",
        "<td>PG0083-C</td>\n",
        "<td>ERR027099</td>\n",
        "<td>87X</td>\n",
        "<td style='text-align: right'>76</td>\n",
        "<td>Validation</td>\n",
        "<td>/nfs/team112_internal/production_files/Pf/4_0/PFprog3/PG0083_C/PG0083_C.bam</td>\n",
        "</tr>\n",
        "<tr>\n",
        "<td>GB4</td>\n",
        "<td>GB4</td>\n",
        "<td>Yes</td>\n",
        "<td>Ghana</td>\n",
        "<td>W Africa</td>\n",
        "<td style='text-align: right'>26</td>\n",
        "<td style='text-align: right'>6</td>\n",
        "<td>75bp</td>\n",
        "<td>PG0084-C</td>\n",
        "<td>ERR027100</td>\n",
        "<td>104X</td>\n",
        "<td style='text-align: right'>76</td>\n",
        "<td>Validation</td>\n",
        "<td>/nfs/team112_internal/production_files/Pf/4_0/PFprog3/PG0084_C/PG0084_C.bam</td>\n",
        "</tr>\n",
        "<tr>\n",
        "<td>Kilifi</td>\n",
        "<td>KE01</td>\n",
        "<td>None</td>\n",
        "<td>Kenya</td>\n",
        "<td>E Africa</td>\n",
        "<td style='text-align: right'>22</td>\n",
        "<td style='text-align: right'>10</td>\n",
        "<td>250bp</td>\n",
        "<td>None</td>\n",
        "<td>None</td>\n",
        "<td>None</td>\n",
        "<td>100/250</td>\n",
        "<td>Validation</td>\n",
        "<td>/nfs/pathogen003/tdo/Pfalciparum/PF3K/Reference12Genomes/Sharing_25Jun2015/cram/16503_1#3.cram</td>\n",
        "</tr>\n",
        "<tr>\n",
        "<td>KH2</td>\n",
        "<td>KH02</td>\n",
        "<td>None</td>\n",
        "<td>Camdodia</td>\n",
        "<td>SE Asia</td>\n",
        "<td style='text-align: right'>22</td>\n",
        "<td style='text-align: right'>10</td>\n",
        "<td>250bp</td>\n",
        "<td>None</td>\n",
        "<td>None</td>\n",
        "<td>None</td>\n",
        "<td style='text-align: right'>250</td>\n",
        "<td>Validation</td>\n",
        "<td>/nfs/pathogen003/tdo/Pfalciparum/PF3K/Reference12Genomes/Sharing_25Jun2015/cram/16503_1#2.cram</td>\n",
        "</tr>\n",
        "<tr>\n",
        "<td>Guinea</td>\n",
        "<td>GN01</td>\n",
        "<td>None</td>\n",
        "<td>Guinea</td>\n",
        "<td>W Africa</td>\n",
        "<td style='text-align: right'>51</td>\n",
        "<td style='text-align: right'>10</td>\n",
        "<td>250bp</td>\n",
        "<td>None</td>\n",
        "<td>None</td>\n",
        "<td>None</td>\n",
        "<td style='text-align: right'>250</td>\n",
        "<td>Validation</td>\n",
        "<td>/nfs/pathogen003/tdo/Pfalciparum/PF3K/Reference12Genomes/Sharing_25Jun2015/cram/16503_1#6.cram</td>\n",
        "</tr>\n",
        "</tbody>\n",
        "</table>\n"
       ],
       "metadata": {},
       "output_type": "display_data"
      }
     ],
     "prompt_number": 7
    },
    {
     "cell_type": "code",
     "collapsed": false,
     "input": [
      "tbl_samples_to_process.data().totsv(sample_manifest_fn)"
     ],
     "language": "python",
     "metadata": {},
     "outputs": [],
     "prompt_number": 6
    },
    {
     "cell_type": "code",
     "collapsed": false,
     "input": [
      "tbl_samples_to_process = (tbl_assembled_samples\n",
      "    .cutout('Notes')\n",
      "    .selectnotnone('bam_fn')\n",
      "    .selecteq('To be used for', 'Validation')\n",
      "#     .selectne('Sample name', 'Pf3D7_II')\n",
      "#     .selectne('Sample name', 'ITA4?')\n",
      "#     .addfield('bam_dir', lambda rec: os.path.dirname(rec['bam_fn']) if rec['bam_fn'] is not None else None)\n",
      "    .addfield('remapped_sam_fn', lambda rec: os.path.join(\n",
      "        PROCESSED_ASSEMBLED_SAMPLES_DIR,\n",
      "        'bams',\n",
      "        'bwa_mem',\n",
      "        os.path.basename(rec['bam_fn']).replace('.bam', '.bwa_mem.sam').replace('.cram', '.bwa_mem.sam')\n",
      "    ))\n",
      "    .addfield('sorted_bam_fn', lambda rec: rec['remapped_sam_fn'].replace('.sam', '.sorted.bam'))\n",
      "    .addfield('dedupped_bam_fn', lambda rec: rec['remapped_sam_fn'].replace('.sam', '.dedup.bam'))\n",
      "    .addfield('dedup_metrics_fn', lambda rec: rec['remapped_sam_fn'].replace('.sam', '.dedup.metrics'))\n",
      "    .addfield('targets_fn', lambda rec: rec['remapped_sam_fn'].replace('.sam', '.dedup.targets.list'))\n",
      "    .addfield('realigned_bam_fn', lambda rec: rec['remapped_sam_fn'].replace('.sam', '.realigned.bam'))\n",
      "    .addfield('recal_table_fn', lambda rec: rec['remapped_sam_fn'].replace('.sam', '.recal.table'))\n",
      "    .addfield('post_recal_table_fn', lambda rec: rec['remapped_sam_fn'].replace('.sam', '.post_recal.table'))\n",
      "    .addfield('recal_plots_fn', lambda rec: rec['remapped_sam_fn'].replace('.sam', '.recal.pdf'))\n",
      "    .addfield('recal_bam_fn', lambda rec: rec['remapped_sam_fn'].replace('.sam', '.recal.bam'))\n",
      "    .addfield('RG', lambda rec: get_RG(rec['bam_fn']).replace('\\t', '\\\\t'))\n",
      "    .addfield('gvcf_filestem', lambda rec: os.path.join(\n",
      "        PROCESSED_ASSEMBLED_SAMPLES_DIR,\n",
      "        'vcfs',\n",
      "        'gvcf',\n",
      "        'samples',\n",
      "        os.path.basename(rec['bam_fn']).replace('.bam', '.raw.snps.indels')\n",
      "    ))\n",
      "#     .head(4)\n",
      ")\n",
      "tbl_samples_to_process.displayall(index_header=True)"
     ],
     "language": "python",
     "metadata": {},
     "outputs": []
    },
    {
     "cell_type": "code",
     "collapsed": false,
     "input": [
      "def remap_with_bwa_mem(input_fn = tbl_samples_to_process.values('bam_fn')[0],\n",
      "                       bwa_mem_fn = tbl_samples_to_process.values('remapped_sam_fn')[0],\n",
      "                       read_group_info = tbl_samples_to_process.values('RG')[0],\n",
      "                       reference_fasta = REF_GENOME,\n",
      "                       rewrite=False):\n",
      "    \n",
      "    if not os.path.isfile(bwa_mem_fn) or rewrite:\n",
      "        if input_fn.endswith('.bam'):\n",
      "            !{samtools_exe} bamshuf -uOn 128 {input_fn} tmp | \\\n",
      "            {samtools_exe} bam2fq - | \\\n",
      "            {bwa_exe} mem -M -R '{read_group_info}' -p {reference_fasta} - > {bwa_mem_fn} 2> /dev/null\n",
      "        elif input_fn.endswith('.cram'):\n",
      "            !{samtools_exe} view -b {input_fn} | \\\n",
      "            {samtools_exe} bamshuf -uOn 128 - tmp | \\\n",
      "            {samtools_exe} bam2fq - | \\\n",
      "            python first_last_100bp.py - | \\\n",
      "            {bwa_exe} mem -M -R '{read_group_info}' -p {reference_fasta} - > {bwa_mem_fn} 2> /dev/null\n"
     ],
     "language": "python",
     "metadata": {},
     "outputs": [],
     "prompt_number": 11
    },
    {
     "cell_type": "code",
     "collapsed": false,
     "input": [
      "remap_with_bwa_mem()"
     ],
     "language": "python",
     "metadata": {},
     "outputs": [],
     "prompt_number": 12
    },
    {
     "cell_type": "code",
     "collapsed": false,
     "input": [
      "def sort_mark_dup(bwa_mem_fn = tbl_samples_to_process.values('remapped_sam_fn')[0],\n",
      "                  sorted_fn = tbl_samples_to_process.values('sorted_bam_fn')[0],\n",
      "                  dedup_fn = tbl_samples_to_process.values('dedupped_bam_fn')[0],\n",
      "                  dedup_metrics_fn = tbl_samples_to_process.values('dedup_metrics_fn')[0],\n",
      "                  rewrite=False):\n",
      "    \n",
      "    if not os.path.isfile(sorted_fn) or rewrite:\n",
      "        !{picard_exe} SortSam \\\n",
      "        INPUT={bwa_mem_fn} \\\n",
      "        OUTPUT={sorted_fn} \\\n",
      "        SORT_ORDER=coordinate 2> /dev/null\n",
      "    \n",
      "    if not os.path.isfile(dedup_fn) or rewrite:\n",
      "        !{picard_exe} MarkDuplicates \\\n",
      "        INPUT={sorted_fn} \\\n",
      "        OUTPUT={dedup_fn} \\\n",
      "        METRICS_FILE={dedup_metrics_fn} 2> /dev/null\n",
      "\n",
      "    if not os.path.isfile(dedup_fn.replace('.bam', '.bai')) or rewrite:\n",
      "        !{picard_exe} BuildBamIndex \\\n",
      "        INPUT={dedup_fn} 2> /dev/null\n",
      "\n",
      "    "
     ],
     "language": "python",
     "metadata": {},
     "outputs": [],
     "prompt_number": 13
    },
    {
     "cell_type": "code",
     "collapsed": false,
     "input": [
      "sort_mark_dup()"
     ],
     "language": "python",
     "metadata": {},
     "outputs": [],
     "prompt_number": 14
    },
    {
     "cell_type": "code",
     "collapsed": false,
     "input": [
      "def indel_realignment(dedup_fn = tbl_samples_to_process.values('dedupped_bam_fn')[0],\n",
      "                      targets_fn = tbl_samples_to_process.values('targets_fn')[0],\n",
      "                      realigned_fn = tbl_samples_to_process.values('realigned_bam_fn')[0],\n",
      "                      reference_fasta = REF_GENOME,\n",
      "                      rewrite=False):\n",
      "    \n",
      "    if not os.path.isfile(targets_fn) or rewrite:\n",
      "        !{gatk_exe} \\\n",
      "        -T RealignerTargetCreator \\\n",
      "        -R {reference_fasta} \\\n",
      "        -I {dedup_fn} \\\n",
      "        -o {targets_fn} 2> /dev/null\n",
      "    \n",
      "    if not os.path.isfile(realigned_fn) or rewrite:\n",
      "        !{gatk_exe} \\\n",
      "        -T IndelRealigner \\\n",
      "        -R {reference_fasta} \\\n",
      "        -I {dedup_fn} \\\n",
      "        -targetIntervals {targets_fn} \\\n",
      "        -o {realigned_fn} 2> /dev/null\n"
     ],
     "language": "python",
     "metadata": {},
     "outputs": [],
     "prompt_number": 15
    },
    {
     "cell_type": "code",
     "collapsed": false,
     "input": [
      "indel_realignment()"
     ],
     "language": "python",
     "metadata": {},
     "outputs": [],
     "prompt_number": 16
    },
    {
     "cell_type": "code",
     "collapsed": false,
     "input": [
      "def bqsr(realigned_fn = tbl_samples_to_process.values('realigned_bam_fn')[0],\n",
      "         recal_table_fn = tbl_samples_to_process.values('recal_table_fn')[0],\n",
      "         post_recal_table_fn = tbl_samples_to_process.values('post_recal_table_fn')[0],\n",
      "         recal_plots_fn = tbl_samples_to_process.values('recal_plots_fn')[0],\n",
      "         recal_bam_fn = tbl_samples_to_process.values('recal_bam_fn')[0],\n",
      "         crosses_dir = crosses_dir,\n",
      "         reference_fasta = REF_GENOME,\n",
      "         rewrite=False):\n",
      "    \n",
      "    if not os.path.isfile(recal_table_fn) or rewrite:\n",
      "        !{gatk_exe} \\\n",
      "        -T BaseRecalibrator \\\n",
      "        -R {reference_fasta} \\\n",
      "        -I {realigned_fn} \\\n",
      "        -knownSites {crosses_dir}/7g8_gb4.combined.final.vcf.gz \\\n",
      "        -knownSites {crosses_dir}/hb3_dd2.combined.final.vcf.gz \\\n",
      "        -knownSites {crosses_dir}/3d7_hb3.combined.final.vcf.gz \\\n",
      "        -o {recal_table_fn} 2> /dev/null\n",
      "\n",
      "    if not os.path.isfile(post_recal_table_fn) or rewrite:\n",
      "        !{gatk_exe} \\\n",
      "        -T BaseRecalibrator \\\n",
      "        -R {reference_fasta} \\\n",
      "        -I {realigned_fn} \\\n",
      "        -knownSites {crosses_dir}/7g8_gb4.combined.final.vcf.gz \\\n",
      "        -knownSites {crosses_dir}/hb3_dd2.combined.final.vcf.gz \\\n",
      "        -knownSites {crosses_dir}/3d7_hb3.combined.final.vcf.gz \\\n",
      "        -BQSR {recal_table_fn} \\\n",
      "        -o {post_recal_table_fn} 2> /dev/null\n",
      "\n",
      "    if not os.path.isfile(recal_plots_fn) or rewrite:\n",
      "        !{gatk_exe} \\\n",
      "        -T AnalyzeCovariates \\\n",
      "        -R {reference_fasta} \\\n",
      "        -before {recal_table_fn} \\\n",
      "        -after {post_recal_table_fn} \\\n",
      "        -plots {recal_plots_fn} 2> /dev/null\n",
      "\n",
      "    if not os.path.isfile(recal_bam_fn) or rewrite:\n",
      "        !{gatk_exe} \\\n",
      "        -T PrintReads \\\n",
      "        -R {reference_fasta} \\\n",
      "        -I {realigned_fn} \\\n",
      "        -BQSR {recal_table_fn} \\\n",
      "        -o {recal_bam_fn} 2> /dev/null\n"
     ],
     "language": "python",
     "metadata": {},
     "outputs": [],
     "prompt_number": 17
    },
    {
     "cell_type": "code",
     "collapsed": false,
     "input": [
      "bqsr()"
     ],
     "language": "python",
     "metadata": {},
     "outputs": [],
     "prompt_number": 18
    },
    {
     "cell_type": "code",
     "collapsed": false,
     "input": [
      "for rec in tbl_samples_to_process.data():\n",
      "    print(rec[0])\n",
      "    remap_with_bwa_mem(rec[13], rec[14], rec[24])\n",
      "    sort_mark_dup(rec[14], rec[15], rec[16], rec[17])\n",
      "    indel_realignment(rec[16], rec[18], rec[19])\n",
      "    bqsr(rec[19], rec[20], rec[21], rec[22], rec[23])"
     ],
     "language": "python",
     "metadata": {},
     "outputs": [
      {
       "output_type": "stream",
       "stream": "stdout",
       "text": [
        "7G8\n"
       ]
      },
      {
       "output_type": "stream",
       "stream": "stdout",
       "text": [
        "GB4\n"
       ]
      },
      {
       "output_type": "stream",
       "stream": "stdout",
       "text": [
        "Kilifi\n"
       ]
      },
      {
       "output_type": "stream",
       "stream": "stdout",
       "text": [
        "KH2\n"
       ]
      },
      {
       "output_type": "stream",
       "stream": "stdout",
       "text": [
        "Guinea\n"
       ]
      }
     ],
     "prompt_number": 19
    },
    {
     "cell_type": "code",
     "collapsed": false,
     "input": [
      "def haplotype_caller(recal_bam_fn = tbl_samples_to_process.values('recal_bam_fn')[0],\n",
      "         gvcf_filestem = tbl_samples_to_process.values('gvcf_filestem')[0],\n",
      "         reference_fasta = REF_GENOME,\n",
      "         chromosomes = None,\n",
      "         rewrite=False):\n",
      "    \n",
      "    if chromosomes is None:\n",
      "        in_seq_handle = open(reference_fasta)\n",
      "        chromosomes = SeqIO.to_dict(SeqIO.parse(in_seq_handle, \"fasta\")).keys()\n",
      "        print(chromosomes)\n",
      "\n",
      "    for chromosome in chromosomes:\n",
      "        gvcf_fn = \"%s.%s.g.vcf\" % (gvcf_filestem, chromosome)\n",
      "        if os.path.isfile(recal_bam_fn) and (not os.path.isfile(gvcf_fn) or rewrite):\n",
      "#         if not os.path.isfile(gvcf_fn) or rewrite:\n",
      "            !{gatk_exe} \\\n",
      "            -T HaplotypeCaller \\\n",
      "            -R {reference_fasta} \\\n",
      "            -I {recal_bam_fn} \\\n",
      "            -L {chromosome} \\\n",
      "            --emitRefConfidence GVCF \\\n",
      "            --variant_index_type LINEAR \\\n",
      "            --variant_index_parameter 128000 \\\n",
      "            -o {gvcf_fn} 2> /dev/null\n",
      "#         else:\n",
      "#             print(\"\\tSkipping %s\" % gvcf_fn)\n"
     ],
     "language": "python",
     "metadata": {},
     "outputs": [],
     "prompt_number": 20
    },
    {
     "cell_type": "code",
     "collapsed": false,
     "input": [
      "in_seq_handle = open(REF_GENOME)\n",
      "chromosomes = SeqIO.to_dict(SeqIO.parse(in_seq_handle, \"fasta\")).keys()\n",
      "for chromosome in chromosomes:\n",
      "    print(chromosome)\n",
      "    for rec in tbl_samples_to_process.data():\n",
      "#         print(rec[0])\n",
      "        haplotype_caller(rec[23], rec[25], chromosomes=[chromosome])\n"
     ],
     "language": "python",
     "metadata": {},
     "outputs": [
      {
       "output_type": "stream",
       "stream": "stdout",
       "text": [
        "Pf3D7_09_v3\n"
       ]
      },
      {
       "output_type": "stream",
       "stream": "stdout",
       "text": [
        "Pf3D7_13_v3\n"
       ]
      },
      {
       "output_type": "stream",
       "stream": "stdout",
       "text": [
        "Pf3D7_06_v3\n"
       ]
      },
      {
       "output_type": "stream",
       "stream": "stdout",
       "text": [
        "PFC10_API_IRAB\n"
       ]
      },
      {
       "output_type": "stream",
       "stream": "stdout",
       "text": [
        "Pf3D7_07_v3\n"
       ]
      },
      {
       "output_type": "stream",
       "stream": "stdout",
       "text": [
        "Pf3D7_14_v3\n"
       ]
      },
      {
       "output_type": "stream",
       "stream": "stdout",
       "text": [
        "Pf3D7_03_v3\n"
       ]
      },
      {
       "output_type": "stream",
       "stream": "stdout",
       "text": [
        "Pf3D7_01_v3\n"
       ]
      },
      {
       "output_type": "stream",
       "stream": "stdout",
       "text": [
        "Pf3D7_12_v3\n"
       ]
      },
      {
       "output_type": "stream",
       "stream": "stdout",
       "text": [
        "Pf3D7_05_v3\n"
       ]
      },
      {
       "output_type": "stream",
       "stream": "stdout",
       "text": [
        "M76611\n"
       ]
      },
      {
       "output_type": "stream",
       "stream": "stdout",
       "text": [
        "Pf3D7_11_v3\n"
       ]
      },
      {
       "output_type": "stream",
       "stream": "stdout",
       "text": [
        "Pf3D7_04_v3\n"
       ]
      },
      {
       "output_type": "stream",
       "stream": "stdout",
       "text": [
        "Pf3D7_10_v3\n"
       ]
      },
      {
       "output_type": "stream",
       "stream": "stdout",
       "text": [
        "Pf3D7_02_v3\n"
       ]
      },
      {
       "output_type": "stream",
       "stream": "stdout",
       "text": [
        "Pf3D7_08_v3\n"
       ]
      }
     ],
     "prompt_number": 21
    },
    {
     "cell_type": "code",
     "collapsed": false,
     "input": [
      "def combine_and_genotype_gvcfs(gvcf_filestems=tbl_samples_to_process.values('gvcf_filestem').array(),\n",
      "                  list_filestem=os.path.join(PROCESSED_ASSEMBLED_SAMPLES_DIR, 'vcfs', 'gvcf', 'lists', 'gvcfs'),\n",
      "                  combined_gvcf_filestem=os.path.join(PROCESSED_ASSEMBLED_SAMPLES_DIR, 'vcfs', 'gvcf', 'combined_gvcf', 'combined'),\n",
      "                  genotyped_vcf_filestem=os.path.join(PROCESSED_ASSEMBLED_SAMPLES_DIR, 'vcfs', 'vcf', 'raw.snps.indels'),\n",
      "                  chromosomes = None, max_number_per_list=200,\n",
      "                  reference_fasta = REF_GENOME, rewrite=False):\n",
      "    \n",
      "    if chromosomes is None:\n",
      "        in_seq_handle = open(REF_GENOME)\n",
      "        chromosomes = SeqIO.to_dict(SeqIO.parse(in_seq_handle, \"fasta\")).keys()\n",
      "\n",
      "    number_of_files = int(ceil(len(gvcf_filestems)/max_number_per_list))\n",
      "    np.random.seed(12345)\n",
      "    np.random.shuffle(gvcf_filestems)\n",
      "    for chromosome in chromosomes:\n",
      "        combined_gvcf_list_filename = \"%s.%s.all.list\" % (list_filestem, chromosome)\n",
      "        fo = open(combined_gvcf_list_filename, 'w')\n",
      "        for i in range(number_of_files):\n",
      "            if i == number_of_files-1:\n",
      "                filestems_this_chunk = gvcf_filestems[(i*max_number_per_list):]\n",
      "            else:\n",
      "                filestems_this_chunk = gvcf_filestems[(i*max_number_per_list):((i+1)*max_number_per_list)]\n",
      "            gvcf_list_filename = \"%s.%s.%d.list\" % (list_filestem, chromosome, i)\n",
      "            combined_gvcf_fn = \"%s.%s.%d.g.vcf\" % (combined_gvcf_filestem, chromosome, i)\n",
      "            print(combined_gvcf_fn, file=fo)\n",
      "            \n",
      "            files_this_chrom = np.array([\"%s.%s.g.vcf\" % (gvcf_filestem, chromosome) for gvcf_filestem in filestems_this_chunk])\n",
      "            np.savetxt(gvcf_list_filename, files_this_chrom, '%s')\n",
      "\n",
      "            if not os.path.isfile(combined_gvcf_fn) or rewrite:\n",
      "                !{gatk_exe} \\\n",
      "                -T CombineGVCFs \\\n",
      "                -R {reference_fasta} \\\n",
      "                --variant {gvcf_list_filename} \\\n",
      "                -o {combined_gvcf_fn} 2> /dev/null\n",
      "            else:\n",
      "                print(\"Skipping %s\" % combined_gvcf_fn)\n",
      "        fo.close()\n",
      "\n",
      "        genotyped_vcf_fn = \"%s.%s.vcf\" % (genotyped_vcf_filestem, chromosome)\n",
      "        \n",
      "        if not os.path.isfile(genotyped_vcf_fn) or rewrite:\n",
      "            !{gatk_exe} \\\n",
      "            -T GenotypeGVCFs \\\n",
      "            -R {reference_fasta} \\\n",
      "            --variant {combined_gvcf_list_filename} \\\n",
      "            -o {genotyped_vcf_fn} 2> /dev/null\n",
      "        else:\n",
      "            print(\"\\tSkipping %s\" % genotyped_vcf_fn)\n",
      "\n"
     ],
     "language": "python",
     "metadata": {},
     "outputs": [],
     "prompt_number": 22
    },
    {
     "cell_type": "code",
     "collapsed": false,
     "input": [
      "combine_and_genotype_gvcfs(max_number_per_list=3, rewrite=True)"
     ],
     "language": "python",
     "metadata": {},
     "outputs": [],
     "prompt_number": 23
    },
    {
     "cell_type": "code",
     "collapsed": false,
     "input": [
      "def train_vqsr(genotyped_vcf_filestem=os.path.join(PROCESSED_ASSEMBLED_SAMPLES_DIR, 'vcfs', 'vcf', 'raw.snps.indels'),\n",
      "               recal_dir=os.path.join(PROCESSED_ASSEMBLED_SAMPLES_DIR, 'vcfs', 'vcf', 'recal'),\n",
      "               annotations_line='-an QD -an MQ -an MQRankSum -an ReadPosRankSum -an FS -an SOR -an DP',\n",
      "#                annotations_line='-an QD -an MQRankSum -an ReadPosRankSum -an FS -an SOR -an DP',\n",
      "               mode='SNP', maxGaussians=8, chromosomes=None,\n",
      "               reference_fasta = REF_GENOME, rewrite=False):\n",
      "    \n",
      "#     raw_input_vcf_fn = \"%s.%s.vcf\" % (genotyped_vcf_filestem, chromosome)\n",
      "    \n",
      "    if chromosomes is None:\n",
      "        in_seq_handle = open(reference_fasta)\n",
      "        chromosomes = SeqIO.to_dict(SeqIO.parse(in_seq_handle, \"fasta\")).keys()\n",
      "    \n",
      "    raw_input_vcf_fns = [\"%s.%s.vcf\" % (genotyped_vcf_filestem, chromosome) for chromosome in chromosomes]\n",
      "    input_line = \"-input \" + \" -input \".join(raw_input_vcf_fns)\n",
      "#     print(input_line)\n",
      "\n",
      "    recal_fn = \"%s/recalibrate_%s.recal\" % (recal_dir, mode)\n",
      "    tranches_fn = \"%s/recalibrate_%s.tranches\" % (recal_dir, mode)\n",
      "\n",
      "    if not os.path.isfile(recal_fn) or rewrite:\n",
      "        !{gatk_exe} \\\n",
      "        -T VariantRecalibrator \\\n",
      "        -R {reference_fasta} \\\n",
      "        {input_line} \\\n",
      "        -resource\\:7g8_gb4,known=false,training=true,truth=true,prior=15.0 {crosses_dir}/7g8_gb4.combined.final.vcf.gz \\\n",
      "        -resource\\:hb3_dd2,known=false,training=true,truth=true,prior=15.0 {crosses_dir}/hb3_dd2.combined.final.vcf \\\n",
      "        -resource\\:3d7_hb3,known=false,training=true,truth=true,prior=15.0 {crosses_dir}/3d7_hb3.combined.final.vcf.gz \\\n",
      "        {annotations_line} \\\n",
      "        --maxGaussians {maxGaussians} \\\n",
      "        -mode {mode} \\\n",
      "        -recalFile {recal_fn} \\\n",
      "        -tranchesFile {tranches_fn} 2> /dev/null\n",
      "    else:\n",
      "        print(\"\\tSkipping %s\" % recal_fn)\n",
      "\n"
     ],
     "language": "python",
     "metadata": {},
     "outputs": [],
     "prompt_number": 24
    },
    {
     "cell_type": "code",
     "collapsed": false,
     "input": [
      "# Train on SNPs\n",
      "train_vqsr(rewrite=True)"
     ],
     "language": "python",
     "metadata": {},
     "outputs": [],
     "prompt_number": 25
    },
    {
     "cell_type": "code",
     "collapsed": false,
     "input": [
      "# Train on indels\n",
      "train_vqsr(mode='INDEL',\n",
      "           annotations_line='-an QD -an DP -an FS -an SOR -an ReadPosRankSum -an MQRankSum',\n",
      "           maxGaussians=4,                  \n",
      "           rewrite=True)"
     ],
     "language": "python",
     "metadata": {},
     "outputs": [],
     "prompt_number": 26
    },
    {
     "cell_type": "code",
     "collapsed": false,
     "input": [
      "def apply_vqsr(chromosome='Pf3D7_01_v3',\n",
      "               genotyped_vcf_filestem=os.path.join(PROCESSED_ASSEMBLED_SAMPLES_DIR, 'vcfs', 'vcf', 'raw.snps.indels'),\n",
      "               unfiltered_vcf_filestem=os.path.join(PROCESSED_ASSEMBLED_SAMPLES_DIR, 'vcfs', 'vcf', 'unfiltered'),\n",
      "               filtered_vcf_filestem=os.path.join(PROCESSED_ASSEMBLED_SAMPLES_DIR, 'vcfs', 'vcf', 'filtered'),\n",
      "               recal_dir=os.path.join(PROCESSED_ASSEMBLED_SAMPLES_DIR, 'vcfs', 'vcf', 'recal'),\n",
      "               ts_filter_level=99.5,\n",
      "               mode='SNP',\n",
      "               reference_fasta = REF_GENOME,\n",
      "               rewrite=False):\n",
      "    \n",
      "    genotyped_vcf_fn = \"%s.%s.vcf\" % (genotyped_vcf_filestem, chromosome)\n",
      "    unfiltered_vcf_fn = \"%s.%s.%s.vcf\" % (unfiltered_vcf_filestem, mode, chromosome)\n",
      "    filtered_vcf_fn = \"%s.%s.%s.vcf\" % (filtered_vcf_filestem, mode, chromosome)\n",
      "\n",
      "    recal_fn = \"%s/recalibrate_%s.recal\" % (recal_dir, mode)\n",
      "    tranches_fn = \"%s/recalibrate_%s.tranches\" % (recal_dir, mode)\n",
      "\n",
      "    if not os.path.isfile(unfiltered_vcf_fn) or rewrite:\n",
      "        if mode=='SNP':\n",
      "            !{gatk_exe} \\\n",
      "            -T SelectVariants \\\n",
      "            -R {reference_fasta} \\\n",
      "            -V {genotyped_vcf_fn} \\\n",
      "            -selectType SNP \\\n",
      "            -o {unfiltered_vcf_fn} 2> /dev/null\n",
      "        else:\n",
      "            !{gatk_exe} \\\n",
      "            -T SelectVariants \\\n",
      "            -R {reference_fasta} \\\n",
      "            -V {genotyped_vcf_fn} \\\n",
      "            -xlSelectType SNP \\\n",
      "            -o {unfiltered_vcf_fn} 2> /dev/null\n",
      "    else:\n",
      "        print(\"\\tSkipping %s\" % unfiltered_vcf_fn)\n",
      "        \n",
      "    if not os.path.isfile(filtered_vcf_fn+'.gz') or rewrite:\n",
      "        !{gatk_exe} \\\n",
      "        -T ApplyRecalibration \\\n",
      "        -R {reference_fasta} \\\n",
      "        -input {unfiltered_vcf_fn} \\\n",
      "        -tranchesFile {tranches_fn} \\\n",
      "        -recalFile {recal_fn} \\\n",
      "        --ts_filter_level {ts_filter_level} \\\n",
      "        -mode {mode} \\\n",
      "        -o {filtered_vcf_fn} 2> /dev/null\n",
      "        \n",
      "        !bgzip -f {filtered_vcf_fn}\n",
      "        !tabix -p vcf -f {filtered_vcf_fn}.gz\n",
      "    else:\n",
      "        print(\"\\tSkipping %s\" % filtered_vcf_fn+'.gz')\n"
     ],
     "language": "python",
     "metadata": {},
     "outputs": [],
     "prompt_number": 27
    },
    {
     "cell_type": "code",
     "collapsed": false,
     "input": [
      "apply_vqsr()"
     ],
     "language": "python",
     "metadata": {},
     "outputs": [],
     "prompt_number": 28
    },
    {
     "cell_type": "code",
     "collapsed": false,
     "input": [
      "# for chromosome in ['Pf3D7_01_v3', 'Pf3D7_02_v3', 'Pf3D7_03_v3', 'Pf3D7_06_v3', 'Pf3D7_08_v3', \n",
      "#                     'Pf3D7_09_v3', 'Pf3D7_11_v3', 'Pf3D7_12_v3', 'Pf3D7_13_v3', 'Pf3D7_14_v3',\n",
      "#                     'M76611', 'PFC10_API_IRAB']:\n",
      "#     apply_vqsr(chromosome=chromosome, mode='SNP', rewrite=True)\n",
      "#     apply_vqsr(chromosome=chromosome, mode='INDEL', ts_filter_level=99.0, rewrite=True)"
     ],
     "language": "python",
     "metadata": {},
     "outputs": [],
     "prompt_number": 43
    },
    {
     "cell_type": "code",
     "collapsed": false,
     "input": [
      "for chromosome in chromosomes:\n",
      "    apply_vqsr(chromosome=chromosome, mode='SNP', rewrite=True)\n",
      "    apply_vqsr(chromosome=chromosome, mode='INDEL', ts_filter_level=99.0, rewrite=True)"
     ],
     "language": "python",
     "metadata": {},
     "outputs": [],
     "prompt_number": 29
    },
    {
     "cell_type": "heading",
     "level": 1,
     "metadata": {},
     "source": [
      "Annotate variants"
     ]
    },
    {
     "cell_type": "code",
     "collapsed": false,
     "input": [
      "regions_fn"
     ],
     "language": "python",
     "metadata": {},
     "outputs": [
      {
       "metadata": {},
       "output_type": "pyout",
       "prompt_number": 30,
       "text": [
        "'../../../pf-crosses/meta/regions-20130225.bed.gz'"
       ]
      }
     ],
     "prompt_number": 30
    },
    {
     "cell_type": "code",
     "collapsed": false,
     "input": [
      "def apply_snpeff(chromosome='Pf3D7_01_v3',\n",
      "               snpeff_db = 'Pf3D7july2015',\n",
      "               filtered_vcf_filestem=os.path.join(PROCESSED_ASSEMBLED_SAMPLES_DIR, 'vcfs', 'vcf', 'filtered'),\n",
      "               snpeff_vcf_filestem=os.path.join(PROCESSED_ASSEMBLED_SAMPLES_DIR, 'vcfs', 'vcf', 'filtered.snpeff'),\n",
      "               snpeff_annotated_vcf_filestem=os.path.join(PROCESSED_ASSEMBLED_SAMPLES_DIR, 'vcfs', 'vcf', 'filtered.snpeff_annotated'),\n",
      "               annotated_vcf_filestem=os.path.join(PROCESSED_ASSEMBLED_SAMPLES_DIR, 'vcfs', 'vcf', 'filtered.annotated'),\n",
      "               mode='SNP',\n",
      "               reference_fasta = REF_GENOME,\n",
      "               rewrite=False):\n",
      "    \n",
      "    filtered_vcf_fn = \"%s.%s.%s.vcf.gz\" % (filtered_vcf_filestem, mode, chromosome)\n",
      "    snpeff_vcf_fn = \"%s.%s.%s.%s.vcf\" % (snpeff_vcf_filestem, snpeff_db, mode, chromosome)\n",
      "    snpeff_annotated_vcf_fn = \"%s.%s.%s.%s.vcf\" % (snpeff_annotated_vcf_filestem, snpeff_db, mode, chromosome)\n",
      "    annotated_vcf_fn = \"%s.%s.%s.%s.vcf\" % (annotated_vcf_filestem, snpeff_db, mode, chromosome)\n",
      "\n",
      "    if not os.path.isfile(snpeff_vcf_fn) or rewrite:\n",
      "        !{snpeff_exe} \\\n",
      "        -v -o gatk {snpeff_db} \\\n",
      "        {filtered_vcf_fn} \\\n",
      "        -no-downstream \\\n",
      "        -no-upstream \\\n",
      "        > {snpeff_vcf_fn} \\\n",
      "        2> /dev/null\n",
      "    else:\n",
      "        print(\"\\tSkipping %s\" % snpeff_vcf_fn)\n",
      "        \n",
      "    if not os.path.isfile(snpeff_annotated_vcf_fn) or rewrite:\n",
      "        !{gatk_exe} \\\n",
      "        -T VariantAnnotator \\\n",
      "        -R {reference_fasta} \\\n",
      "        -A SnpEff \\\n",
      "        --variant {filtered_vcf_fn} \\\n",
      "        --snpEffFile {snpeff_vcf_fn} \\\n",
      "        -o {snpeff_annotated_vcf_fn} \\\n",
      "        2> /dev/null\n",
      "    \n",
      "    if not os.path.isfile(annotated_vcf_fn+'.gz') or rewrite:\n",
      "        !cat {snpeff_annotated_vcf_fn} \\\n",
      "        | vcf-annotate -a {regions_fn} \\\n",
      "           -d key=INFO,ID=RegionType,Number=1,Type=String,Description='The type of genome region within which the variant is found. SubtelomericRepeat: repetitive regions at the ends of the chromosomes. SubtelomericHypervariable: subtelomeric region of poor conservation between the 3D7 reference genome and other samples. InternalHypervariable: chromosome-internal region of poor conservation between the 3D7 reference genome and other samples. Centromere: start and end coordinates of the centromere genome annotation. Core: everything else.' \\\n",
      "           -c CHROM,FROM,TO,INFO/RegionType \\\n",
      "        > {annotated_vcf_fn}\n",
      "        \n",
      "        !bgzip -f {annotated_vcf_fn}\n",
      "        !tabix -p vcf -f {annotated_vcf_fn}.gz\n",
      "    else:\n",
      "        print(\"\\tSkipping %s\" % annotated_vcf_fn+'.gz')\n"
     ],
     "language": "python",
     "metadata": {},
     "outputs": [],
     "prompt_number": 31
    },
    {
     "cell_type": "code",
     "collapsed": false,
     "input": [
      "# for chromosome in ['Pf3D7_01_v3', 'Pf3D7_02_v3', 'Pf3D7_03_v3', 'Pf3D7_06_v3', 'Pf3D7_08_v3', \n",
      "#                     'Pf3D7_09_v3', 'Pf3D7_11_v3', 'Pf3D7_12_v3', 'Pf3D7_13_v3', 'Pf3D7_14_v3',\n",
      "#                     'M76611', 'PFC10_API_IRAB']:\n",
      "#     apply_snpeff(chromosome=chromosome, mode='SNP', rewrite=True)\n",
      "#     apply_snpeff(chromosome=chromosome, mode='INDEL', rewrite=True)\n"
     ],
     "language": "python",
     "metadata": {},
     "outputs": [],
     "prompt_number": 32
    },
    {
     "cell_type": "code",
     "collapsed": false,
     "input": [
      "for chromosome in chromosomes:\n",
      "    apply_snpeff(chromosome=chromosome, mode='SNP', rewrite=True)\n",
      "    apply_snpeff(chromosome=chromosome, mode='INDEL', rewrite=True)\n"
     ],
     "language": "python",
     "metadata": {},
     "outputs": [],
     "prompt_number": 33
    },
    {
     "cell_type": "code",
     "collapsed": false,
     "input": [
      "def combine_snp_indel(chromosome='Pf3D7_01_v3',\n",
      "               snpeff_db = 'Pf3D7july2015',\n",
      "               annotated_vcf_filestem=os.path.join(PROCESSED_ASSEMBLED_SAMPLES_DIR, 'vcfs', 'vcf', 'filtered.annotated'),\n",
      "               reference_fasta = REF_GENOME,\n",
      "               rewrite=False):\n",
      "    \n",
      "    annotated_snp_vcf_fn = \"%s.%s.SNP.%s.vcf.gz\" % (annotated_vcf_filestem, snpeff_db, chromosome)\n",
      "    annotated_indel_vcf_fn = \"%s.%s.INDEL.%s.vcf.gz\" % (annotated_vcf_filestem, snpeff_db, chromosome)\n",
      "    annotated_combined_vcf_fn = \"%s.%s.SNP_INDEL.%s.vcf\" % (annotated_vcf_filestem, snpeff_db, chromosome)\n",
      "    \n",
      "#     print(\"\\t\", annotated_snp_vcf_fn)\n",
      "#     print(\"\\t\", annotated_indel_vcf_fn)\n",
      "    \n",
      "    if not os.path.isfile(annotated_combined_vcf_fn+'.gz') or rewrite:\n",
      "        !{gatk_exe} \\\n",
      "        -T CombineVariants \\\n",
      "        -R {reference_fasta} \\\n",
      "        --variant:snp {annotated_snp_vcf_fn} \\\n",
      "        --variant:indel {annotated_indel_vcf_fn} \\\n",
      "        -o {annotated_combined_vcf_fn} \\\n",
      "        -genotypeMergeOptions PRIORITIZE \\\n",
      "        -priority snp,indel \\\n",
      "        2> /dev/null\n",
      "\n",
      "        !bgzip -f {annotated_combined_vcf_fn}\n",
      "        !tabix -p vcf -f {annotated_combined_vcf_fn}.gz\n"
     ],
     "language": "python",
     "metadata": {},
     "outputs": [],
     "prompt_number": 47
    },
    {
     "cell_type": "code",
     "collapsed": false,
     "input": [
      "for chromosome in chromosomes:\n",
      "    print(chromosome)\n",
      "    combine_snp_indel(chromosome=chromosome)\n"
     ],
     "language": "python",
     "metadata": {},
     "outputs": [
      {
       "output_type": "stream",
       "stream": "stdout",
       "text": [
        "Pf3D7_09_v3\n"
       ]
      },
      {
       "output_type": "stream",
       "stream": "stdout",
       "text": [
        "Pf3D7_13_v3\n"
       ]
      },
      {
       "output_type": "stream",
       "stream": "stdout",
       "text": [
        "Pf3D7_06_v3\n"
       ]
      },
      {
       "output_type": "stream",
       "stream": "stdout",
       "text": [
        "PFC10_API_IRAB\n"
       ]
      },
      {
       "output_type": "stream",
       "stream": "stdout",
       "text": [
        "Pf3D7_07_v3\n"
       ]
      },
      {
       "output_type": "stream",
       "stream": "stdout",
       "text": [
        "Pf3D7_14_v3\n"
       ]
      },
      {
       "output_type": "stream",
       "stream": "stdout",
       "text": [
        "Pf3D7_03_v3\n"
       ]
      },
      {
       "output_type": "stream",
       "stream": "stdout",
       "text": [
        "Pf3D7_01_v3\n"
       ]
      },
      {
       "output_type": "stream",
       "stream": "stdout",
       "text": [
        "Pf3D7_12_v3\n"
       ]
      },
      {
       "output_type": "stream",
       "stream": "stdout",
       "text": [
        "Pf3D7_05_v3\n"
       ]
      },
      {
       "output_type": "stream",
       "stream": "stdout",
       "text": [
        "M76611\n"
       ]
      },
      {
       "output_type": "stream",
       "stream": "stdout",
       "text": [
        "Pf3D7_11_v3\n"
       ]
      },
      {
       "output_type": "stream",
       "stream": "stdout",
       "text": [
        "Pf3D7_04_v3\n"
       ]
      },
      {
       "output_type": "stream",
       "stream": "stdout",
       "text": [
        "Pf3D7_10_v3\n"
       ]
      },
      {
       "output_type": "stream",
       "stream": "stdout",
       "text": [
        "Pf3D7_02_v3\n"
       ]
      },
      {
       "output_type": "stream",
       "stream": "stdout",
       "text": [
        "Pf3D7_08_v3\n"
       ]
      }
     ],
     "prompt_number": 48
    },
    {
     "cell_type": "code",
     "collapsed": false,
     "input": [],
     "language": "python",
     "metadata": {},
     "outputs": []
    }
   ],
   "metadata": {}
  }
 ]
}