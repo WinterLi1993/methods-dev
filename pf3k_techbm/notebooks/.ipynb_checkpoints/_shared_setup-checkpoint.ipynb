{
 "metadata": {
  "name": "",
  "signature": "sha256:1c029fa143190342a5ff5fe19817b45ea7da2343ff00dbd90394c9cac880f371"
 },
 "nbformat": 3,
 "nbformat_minor": 0,
 "worksheets": [
  {
   "cells": [
    {
     "cell_type": "heading",
     "level": 1,
     "metadata": {},
     "source": [
      "Imports"
     ]
    },
    {
     "cell_type": "code",
     "collapsed": false,
     "input": [
      "%run standard_imports.ipynb"
     ],
     "language": "python",
     "metadata": {},
     "outputs": [
      {
       "output_type": "stream",
       "stream": "stdout",
       "text": [
        "python 3.4.1 |Anaconda 2.1.0 (x86_64)| (default, Sep 10 2014, 17:24:09) \n",
        "[GCC 4.2.1 (Apple Inc. build 5577)]\n",
        "numpy 1.9.2\n",
        "scipy 0.14.0\n",
        "pandas 0.14.1\n",
        "numexpr 2.3.1\n",
        "pysam 0.8.3\n",
        "petl 1.0.10\n",
        "petlx 1.0.3\n",
        "vcf 0.6.7\n",
        "h5py 2.3.1\n",
        "tables 3.1.1\n",
        "vcfplt 0.8\n"
       ]
      }
     ],
     "prompt_number": 1
    },
    {
     "cell_type": "heading",
     "level": 1,
     "metadata": {},
     "source": [
      "Setup"
     ]
    },
    {
     "cell_type": "code",
     "collapsed": false,
     "input": [
      "PGV_METADATA_FN = '../../meta/Pf/PGV4_mk5.xlsx'\n",
      "PF3K_PANOPTES_FN = '../../meta/Pf/Pf3k_release3_panoptes_samples.txt'\n",
      "PF_SOLARIS_FN = '../../meta/Pf/PF_samples_Richard_RDP.xlsx'\n",
      "ASSEMBLED_SAMPLES_FN = '../meta/PacBio samples draft 20150622.xlsx'\n",
      "PROCESSED_ASSEMBLED_SAMPLES_DIR = '/nfs/team112_internal/production_files/Pf3k/methods/assembled_samples'\n",
      "!mkdir {PROCESSED_ASSEMBLED_SAMPLES_DIR}\n",
      "\n",
      "# DATA_DIR = '../meta/20150617'\n",
      "CACHE_DIR = '../meta/cache'\n",
      "!mkdir -p {CACHE_DIR}\n",
      "\n",
      "REF_GENOME = '/data/plasmodium/pfalciparum/recon/roamato/Pf3D7_v3/3D7_sorted.fa'\n",
      "\n",
      "crosses_dir = '/data/plasmodium/pfalciparum/pf-crosses/data/public/1.0'\n"
     ],
     "language": "python",
     "metadata": {},
     "outputs": [
      {
       "output_type": "stream",
       "stream": "stdout",
       "text": [
        "mkdir: /nfs/team112_internal/production_files/Pf3k/methods/assembled_samples: File exists\r\n"
       ]
      }
     ],
     "prompt_number": 12
    },
    {
     "cell_type": "code",
     "collapsed": false,
     "input": [
      "install_dir = '../opt'\n",
      "bwa_dir = install_dir + '/bwa'\n",
      "bwa_exe = bwa_dir + '/bwa-0.7.12/bwa'\n",
      "\n",
      "samtools_dir = install_dir + '/samtools'\n",
      "samtools_exe = samtools_dir + '/samtools-1.2/samtools'\n",
      "\n",
      "picard_dir = install_dir + '/picard'\n",
      "picard_exe = 'java -jar ' + picard_dir + '/picard-tools-1.133/picard.jar'\n",
      "\n",
      "bcftools_dir = install_dir + '/bcftools'\n",
      "bcftools_exe = bcftools_dir + '/bcftools-1.2/bcftools'\n",
      "\n",
      "gatk_dir = install_dir + '/gatk'\n",
      "gatk_exe = 'java -jar ' + gatk_dir + '/GenomeAnalysisTK.jar'\n"
     ],
     "language": "python",
     "metadata": {},
     "outputs": [],
     "prompt_number": 13
    },
    {
     "cell_type": "heading",
     "level": 1,
     "metadata": {},
     "source": [
      "Functions"
     ]
    },
    {
     "cell_type": "code",
     "collapsed": false,
     "input": [
      "def etlcache(f):\n",
      "    fn = os.path.join(CACHE_DIR, f.__name__)\n",
      "    if not os.path.exists(fn):\n",
      "        etl.topickle(f(), fn)\n",
      "    return etl.frompickle(fn)\n",
      "    \n",
      "def nocache(f):\n",
      "    fn = os.path.join(CACHE_DIR, f.__name__)\n",
      "    if os.path.exists(fn):\n",
      "        os.remove(fn)\n",
      "    return f()\n"
     ],
     "language": "python",
     "metadata": {},
     "outputs": [],
     "prompt_number": 3
    },
    {
     "cell_type": "heading",
     "level": 1,
     "metadata": {},
     "source": [
      "Load data"
     ]
    },
    {
     "cell_type": "code",
     "collapsed": false,
     "input": [
      "def clean_year(year):\n",
      "    if year is None:\n",
      "        return None\n",
      "    if year == '':\n",
      "        return None\n",
      "    else:\n",
      "        return(int(year))"
     ],
     "language": "python",
     "metadata": {},
     "outputs": [],
     "prompt_number": 4
    },
    {
     "cell_type": "code",
     "collapsed": false,
     "input": [
      "@etlcache\n",
      "def tbl_pgv_metadata():\n",
      "    return (etl\n",
      "        .fromxlsx(PGV_METADATA_FN, 'PGV4.0', data_only=True)\n",
      "        .convert('Year', clean_year)\n",
      "        .cut(['Sample', 'Pf3k v3', 'Exclude', 'AlfrescoNumber', 'Country', 'SolarisCountry', 'SolarisLocation', 'Code', 'Fws', 'Location', 'Region', 'Year'])\n",
      "    )\n",
      "print(\"tbl_pgv_metadata length = %d\" % len(tbl_pgv_metadata.data()))\n"
     ],
     "language": "python",
     "metadata": {},
     "outputs": [
      {
       "output_type": "stream",
       "stream": "stdout",
       "text": [
        "tbl_pgv_metadata length = 5729\n"
       ]
      },
      {
       "output_type": "stream",
       "stream": "stderr",
       "text": [
        "/Users/rpearson/anaconda/lib/python3.4/site-packages/openpyxl/workbook/names/named_range.py:121: UserWarning: Discarded range with reserved name\n",
        "  warnings.warn(\"Discarded range with reserved name\")\n"
       ]
      }
     ],
     "prompt_number": 5
    },
    {
     "cell_type": "code",
     "collapsed": false,
     "input": [
      "@etlcache\n",
      "def tbl_pgv_locations():\n",
      "    return (etl\n",
      "        .fromxlsx(PGV_METADATA_FN, 'Locations')\n",
      "    )\n",
      "print(\"tbl_pgv_locations length = %d\" % len(tbl_pgv_locations.data()))\n"
     ],
     "language": "python",
     "metadata": {},
     "outputs": [
      {
       "output_type": "stream",
       "stream": "stdout",
       "text": [
        "tbl_pgv_locations length = 102\n"
       ]
      }
     ],
     "prompt_number": 6
    },
    {
     "cell_type": "code",
     "collapsed": false,
     "input": [
      "@etlcache\n",
      "def tbl_pf3k_metadata():\n",
      "    return (etl\n",
      "        .fromtsv(PF3K_PANOPTES_FN)\n",
      "        .cut(['sample_id', 'study', 'country', 'samplingSite', 'collectionDate', 'basesof5xCoverage', 'averageReadLength', 'meanCoverage', 'PercentCallableGATK'])\n",
      "    )\n",
      "print(\"tbl_pf3k_metadata length = %d\" % len(tbl_pf3k_metadata.data()))\n"
     ],
     "language": "python",
     "metadata": {},
     "outputs": [
      {
       "output_type": "stream",
       "stream": "stdout",
       "text": [
        "tbl_pf3k_metadata length = 2512\n"
       ]
      }
     ],
     "prompt_number": 7
    },
    {
     "cell_type": "code",
     "collapsed": false,
     "input": [
      "def determine_year(date):\n",
      "    if date is None:\n",
      "        return None\n",
      "    if date == '':\n",
      "        return None\n",
      "    else:\n",
      "        return date[0:4]"
     ],
     "language": "python",
     "metadata": {},
     "outputs": [],
     "prompt_number": 8
    },
    {
     "cell_type": "code",
     "collapsed": false,
     "input": [
      "@etlcache\n",
      "def tbl_pf_solaris():\n",
      "    return (etl\n",
      "        .fromxlsx(PF_SOLARIS_FN, data_only=True)\n",
      "        .cut(['ox_code', 'oxford_code', 'oxcode', 'creation_date', 'Dna_Extraction_date', 'sample_creation_date', 'contribution_arrival_date'])\n",
      "    )\n",
      "print(\"tbl_pf_solaris length = %d\" % len(tbl_pf_solaris.data()))\n"
     ],
     "language": "python",
     "metadata": {},
     "outputs": [
      {
       "output_type": "stream",
       "stream": "stdout",
       "text": [
        "tbl_pf_solaris length = 10879\n"
       ]
      }
     ],
     "prompt_number": 9
    },
    {
     "cell_type": "code",
     "collapsed": false,
     "input": [
      "@etlcache\n",
      "def tbl_assembled_samples():\n",
      "    return (etl\n",
      "        .fromxlsx(ASSEMBLED_SAMPLES_FN, data_only=True)\n",
      "    )\n",
      "print(\"tbl_assembled_samples length = %d\" % len(tbl_assembled_samples.data()))\n"
     ],
     "language": "python",
     "metadata": {},
     "outputs": [
      {
       "output_type": "stream",
       "stream": "stdout",
       "text": [
        "tbl_assembled_samples length = 11\n"
       ]
      }
     ],
     "prompt_number": 10
    },
    {
     "cell_type": "code",
     "collapsed": false,
     "input": [],
     "language": "python",
     "metadata": {},
     "outputs": []
    }
   ],
   "metadata": {}
  }
 ]
}