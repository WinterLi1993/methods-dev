{
 "metadata": {
  "name": "",
  "signature": "sha256:20d0b0973cb27e417078260ecb9fdb5e9237f04c52224cfea8149410dbac2d4f"
 },
 "nbformat": 3,
 "nbformat_minor": 0,
 "worksheets": [
  {
   "cells": [
    {
     "cell_type": "code",
     "collapsed": false,
     "input": [
      "team112_dir = '/nfs/team112_internal/production_files/Pf3k/methods'\n",
      "tdo_dir = '/nfs/pathogen003/tdo/Pf3K/SNPset/Pf3D7vsPfIT'\n",
      "tdo2_dir = '/nfs/pathogen003/tdo/Pfalciparum/PF3K/Reference12Genomes/embl_V1/Fasta_inChromosomes'\n",
      "tdo3_dir = '/nfs/pathogen003/tdo/Pfalciparum/3D7/Reference/Oct2011'\n",
      "tdo4_dir = '/nfs/pathogen003/tdo/Pfalciparum/PF3K/Reference12Genomes/Sharing_25Jun2015/cram'\n",
      "tdo5_dir = '/nfs/pathogen003/tdo/Pfalciparum/PF3K/Reference12Genomes/Sharing_25Jun2015/SNP/Reference'\n",
      "\n",
      "IT_dir = '/nfs/team112_internal/production_files/Pf3k/methods/GATKbuild/IT'\n"
     ],
     "language": "python",
     "metadata": {},
     "outputs": [],
     "prompt_number": 17
    },
    {
     "cell_type": "code",
     "collapsed": false,
     "input": [
      "!mkdir -p {team112_dir}\n",
      "!mkdir -p {tdo_dir}\n",
      "!mkdir -p {tdo2_dir}\n",
      "!mkdir -p {tdo3_dir}\n",
      "!mkdir -p {tdo4_dir}\n",
      "!mkdir -p {tdo5_dir}\n",
      "!mkdir -p {IT_dir}\n",
      "!mkdir ../log"
     ],
     "language": "python",
     "metadata": {},
     "outputs": [
      {
       "output_type": "stream",
       "stream": "stdout",
       "text": [
        "mkdir: ../log: File exists\r\n"
       ]
      }
     ],
     "prompt_number": 19
    },
    {
     "cell_type": "code",
     "collapsed": false,
     "input": [
      "# !rsync -avL rp7@malsrv2:{team112_dir}/ {team112_dir} > ../log/20150626_team112_dir.log\n",
      "# !rsync -avL rp7@malsrv2:{tdo_dir}/ {tdo_dir} > ../log/20150626_tdo_dir.log\n",
      "# !rsync -avL rp7@malsrv2:{tdo2_dir}/ {tdo2_dir} > ../log/20150626_tdo2_dir.log\n",
      "# !rsync -avL rp7@malsrv2:{tdo3_dir}/ {tdo3_dir} > ../log/20150703_tdo3_dir.log\n",
      "# !rsync -avL rp7@malsrv2:{tdo3_dir}/ {tdo3_dir} > ../log/20150703_tdo3_dir.log\n",
      "# !rsync -avL rp7@malsrv2:{tdo4_dir}/ {tdo4_dir} > ../log/20150706_tdo4_dir.log\n",
      "!rsync -avL rp7@malsrv2:{tdo5_dir}/ {tdo5_dir} > ../log/20150713_tdo5_dir.log\n"
     ],
     "language": "python",
     "metadata": {},
     "outputs": []
    },
    {
     "cell_type": "code",
     "collapsed": false,
     "input": [
      "!rsync -avL rp7@malsrv2:{IT_dir}/ {IT_dir} > ../log/20150705_IT_dir.log\n"
     ],
     "language": "python",
     "metadata": {},
     "outputs": [],
     "prompt_number": 15
    },
    {
     "cell_type": "code",
     "collapsed": false,
     "input": [],
     "language": "python",
     "metadata": {},
     "outputs": []
    }
   ],
   "metadata": {}
  }
 ]
}