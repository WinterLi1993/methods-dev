{
 "metadata": {
  "name": "",
  "signature": "sha256:adb53896ba17f7f85e709a3cd6563d9a8882d24198542e58e7a0d27baf24d4e5"
 },
 "nbformat": 3,
 "nbformat_minor": 0,
 "worksheets": []
}