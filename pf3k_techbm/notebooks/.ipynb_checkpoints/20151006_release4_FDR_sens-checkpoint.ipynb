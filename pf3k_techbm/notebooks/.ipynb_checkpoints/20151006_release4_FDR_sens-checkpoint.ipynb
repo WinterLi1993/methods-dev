{
 "cells": [
  {
   "cell_type": "markdown",
   "metadata": {},
   "source": [
    "# Setup"
   ]
  },
  {
   "cell_type": "code",
   "execution_count": 1,
   "metadata": {
    "collapsed": false
   },
   "outputs": [
    {
     "name": "stdout",
     "output_type": "stream",
     "text": [
      "python 3.4.3 |Anaconda 2.2.0 (64-bit)| (default, Mar  6 2015, 12:03:53) \n",
      "[GCC 4.4.7 20120313 (Red Hat 4.4.7-1)]\n",
      "numpy 1.9.2\n",
      "scipy 0.15.1\n",
      "pandas 0.15.2\n",
      "numexpr 2.3.1\n",
      "pysam 0.8.3\n",
      "petl 1.0.11\n",
      "petlx 1.0.3\n",
      "vcf 0.6.7\n",
      "h5py 2.4.0\n",
      "tables 3.1.1\n",
      "vcfplt 0.8\n",
      "tbl_pgv_metadata length = 5729\n",
      "tbl_pgv_locations length = 102\n",
      "tbl_pf3k_metadata length = 2512\n",
      "tbl_pf_solaris length = 10879\n",
      "tbl_assembled_samples length = 11\n"
     ]
    }
   ],
   "source": [
    "%run _shared_setup.ipynb"
   ]
  },
  {
   "cell_type": "code",
   "execution_count": 2,
   "metadata": {
    "collapsed": true
   },
   "outputs": [],
   "source": [
    "release4_vcfnp_dir = collections.OrderedDict()\n",
    "release4_vcfnp_dir['7G8'] = '/lustre/scratch110/malaria/rp7/Pf3k/release4_candidate/vcfnp/WG.7G8.vcf.gz.vcfnp_cache'\n",
    "release4_vcfnp_dir['GB4'] = '/lustre/scratch110/malaria/rp7/Pf3k/release4_candidate/vcfnp/WG.GB4.vcf.gz.vcfnp_cache'\n",
    "release4_vcfnp_dir['KH02'] = '/lustre/scratch110/malaria/rp7/Pf3k/release4_candidate/vcfnp/WG.ERS740936.vcf.gz.vcfnp_cache'\n",
    "release4_vcfnp_dir['KE01'] = '/lustre/scratch110/malaria/rp7/Pf3k/release4_candidate/vcfnp/WG.ERS740937.vcf.gz.vcfnp_cache'\n",
    "release4_vcfnp_dir['GN01'] = '/lustre/scratch110/malaria/rp7/Pf3k/release4_candidate/vcfnp/WG.ERS740940.vcf.gz.vcfnp_cache'\n",
    "\n",
    "validation5_vcfnp_dir = collections.OrderedDict()\n",
    "validation5_vcfnp_dir['7G8'] = '/lustre/scratch110/malaria/rp7/Pf3k/release4_candidate/vcfnp/validation_WG.7G8.vcf.gz.vcfnp_cache'\n",
    "validation5_vcfnp_dir['GB4'] = '/lustre/scratch110/malaria/rp7/Pf3k/release4_candidate/vcfnp/validation_WG.GB4.vcf.gz.vcfnp_cache'\n",
    "validation5_vcfnp_dir['KH02'] = '/lustre/scratch110/malaria/rp7/Pf3k/release4_candidate/vcfnp/validation_WG.KH02.vcf.gz.vcfnp_cache'\n",
    "validation5_vcfnp_dir['KE01'] = '/lustre/scratch110/malaria/rp7/Pf3k/release4_candidate/vcfnp/validation_WG.KE01.vcf.gz.vcfnp_cache'\n",
    "validation5_vcfnp_dir['GN01'] = '/lustre/scratch110/malaria/rp7/Pf3k/release4_candidate/vcfnp/validation_WG.GN01.vcf.gz.vcfnp_cache'\n"
   ]
  },
  {
   "cell_type": "code",
   "execution_count": null,
   "metadata": {
    "collapsed": true
   },
   "outputs": [],
   "source": []
  },
  {
   "cell_type": "markdown",
   "metadata": {},
   "source": [
    "# Analysis"
   ]
  },
  {
   "cell_type": "code",
   "execution_count": 3,
   "metadata": {
    "collapsed": false
   },
   "outputs": [],
   "source": [
    "def create_variants_array(\n",
    "    variants_npy_fn = '/lustre/scratch110/malaria/rp7/Pf3k/release4_candidate/vcfnp/WG.7G8.vcf.gz.vcfnp_cache/variants.npy',\n",
    "    calls_npy_fn = '/lustre/scratch110/malaria/rp7/Pf3k/release4_candidate/vcfnp/WG.7G8.vcf.gz.vcfnp_cache/calldata_2d.npy'\n",
    "):\n",
    "    variants_array = np.load(variants_npy_fn)\n",
    "    calls_array = np.load(calls_npy_fn)\n",
    "    flt_spanning_del = np.array([x[0] != b'*' for x in variants_array['ALT']])\n",
    "    print(np.unique(flt_spanning_del, return_counts=True))\n",
    "    alt_allele_num = np.array([int(x.astype(str)[0]) for x in calls_array['GT'][:,0]])\n",
    "    is_het = np.array([x[0] != x[1] for x in calls_array['GT'][:,0]])\n",
    "    highest_cov_allele = np.argmax(calls_array['AD'][:,0,:], axis=1)\n",
    "    alt_allele_num[is_het] = highest_cov_allele[is_het]\n",
    "    flt_minor_het = (alt_allele_num > 0)\n",
    "    print(np.unique(flt_minor_het, return_counts=True))\n",
    "    alt_allele_num = alt_allele_num-1\n",
    "    alt_allele_num[alt_allele_num == -1] = 0\n",
    "    alts = variants_array['ALT'][np.arange(len(alt_allele_num)), alt_allele_num]\n",
    "    variants_array = np.lib.recfunctions.append_fields(\n",
    "        variants_array,\n",
    "        'alt',\n",
    "        alts\n",
    "    ).data\n",
    "    flt_all = (\n",
    "        flt_spanning_del &\n",
    "        flt_minor_het\n",
    "    )\n",
    "    return(variants_array[flt_all])\n"
   ]
  },
  {
   "cell_type": "code",
   "execution_count": 4,
   "metadata": {
    "collapsed": false
   },
   "outputs": [
    {
     "name": "stdout",
     "output_type": "stream",
     "text": [
      "(array([False,  True], dtype=bool), array([77353, 95081]))\n",
      "(array([False,  True], dtype=bool), array([ 34176, 138258]))\n"
     ]
    }
   ],
   "source": [
    "variants_array = create_variants_array()"
   ]
  },
  {
   "cell_type": "code",
   "execution_count": 5,
   "metadata": {
    "collapsed": false
   },
   "outputs": [
    {
     "data": {
      "text/plain": [
       "(69620,)"
      ]
     },
     "execution_count": 5,
     "metadata": {},
     "output_type": "execute_result"
    }
   ],
   "source": [
    "variants_array.shape"
   ]
  },
  {
   "cell_type": "code",
   "execution_count": 6,
   "metadata": {
    "collapsed": false
   },
   "outputs": [
    {
     "data": {
      "text/plain": [
       "(array([b'', b'CODON_CHANGE_PLUS_CODON_DELETION',\n",
       "        b'CODON_CHANGE_PLUS_CODON_INSERTION', b'CODON_DELETION',\n",
       "        b'CODON_INSERTION', b'FRAME_SHIFT', b'INTERGENIC', b'INTRAGENIC',\n",
       "        b'INTRON', b'NON_SYNONYMOUS_CODING', b'SPLICE_SITE_ACCEPTOR',\n",
       "        b'SPLICE_SITE_DONOR', b'START_LOST', b'STOP_GAINED', b'STOP_LOST',\n",
       "        b'SYNONYMOUS_CODING', b'SYNONYMOUS_STOP'], \n",
       "       dtype='|S33'),\n",
       " array([  727,   103,   203,   364,  1933,  7970, 37376,  1496,  6847,\n",
       "         9078,     3,     1,     3,   247,     9,  3254,     6]))"
      ]
     },
     "execution_count": 6,
     "metadata": {},
     "output_type": "execute_result"
    }
   ],
   "source": [
    "np.unique(variants_array['SNPEFF_EFFECT'], return_counts=True)"
   ]
  },
  {
   "cell_type": "code",
   "execution_count": 7,
   "metadata": {
    "collapsed": false
   },
   "outputs": [
    {
     "name": "stdout",
     "output_type": "stream",
     "text": [
      "(array([False,  True], dtype=bool), array([29915, 39705]))\n",
      "(array([False,  True], dtype=bool), array([28032, 41588]))\n",
      "(array([False,  True], dtype=bool), array([32204, 37416]))\n"
     ]
    }
   ],
   "source": [
    "flt_pass = variants_array['VQSLOD'] > 0\n",
    "print(np.unique(flt_pass, return_counts=True))\n",
    "flt_core = variants_array['RegionType'] == b'Core'\n",
    "print(np.unique(flt_core, return_counts=True))\n",
    "flt_core_pass = (flt_pass & flt_core)\n",
    "print(np.unique(flt_core_pass, return_counts=True))\n"
   ]
  },
  {
   "cell_type": "code",
   "execution_count": 8,
   "metadata": {
    "collapsed": false
   },
   "outputs": [
    {
     "data": {
      "text/plain": [
       "array([b'SubtelomericRepeat', b'SubtelomericRepeat', b'SubtelomericRepeat',\n",
       "       ..., b'', b'', b''], \n",
       "      dtype='|S25')"
      ]
     },
     "execution_count": 8,
     "metadata": {},
     "output_type": "execute_result"
    }
   ],
   "source": [
    "variants_array['RegionType']"
   ]
  },
  {
   "cell_type": "code",
   "execution_count": 9,
   "metadata": {
    "collapsed": false
   },
   "outputs": [
    {
     "data": {
      "text/plain": [
       "(array([(False, b''), (False, b'CODON_CHANGE_PLUS_CODON_DELETION'),\n",
       "        (False, b'CODON_CHANGE_PLUS_CODON_INSERTION'),\n",
       "        (False, b'CODON_DELETION'), (False, b'CODON_INSERTION'),\n",
       "        (False, b'FRAME_SHIFT'), (False, b'INTERGENIC'),\n",
       "        (False, b'INTRAGENIC'), (False, b'INTRON'),\n",
       "        (False, b'NON_SYNONYMOUS_CODING'), (False, b'SPLICE_SITE_ACCEPTOR'),\n",
       "        (False, b'SPLICE_SITE_DONOR'), (False, b'STOP_GAINED'),\n",
       "        (False, b'STOP_LOST'), (True, b''),\n",
       "        (True, b'CODON_CHANGE_PLUS_CODON_DELETION'),\n",
       "        (True, b'CODON_CHANGE_PLUS_CODON_INSERTION'),\n",
       "        (True, b'CODON_DELETION'), (True, b'CODON_INSERTION'),\n",
       "        (True, b'FRAME_SHIFT'), (True, b'INTERGENIC'),\n",
       "        (True, b'INTRAGENIC'), (True, b'INTRON'),\n",
       "        (True, b'NON_SYNONYMOUS_CODING'), (True, b'SPLICE_SITE_ACCEPTOR'),\n",
       "        (True, b'START_LOST'), (True, b'STOP_GAINED'), (True, b'STOP_LOST'),\n",
       "        (True, b'SYNONYMOUS_CODING'), (True, b'SYNONYMOUS_STOP')], \n",
       "       dtype=[('is_snp', '?'), ('SNPEFF_EFFECT', 'S33')]),\n",
       " array([  189,    70,   120,   314,  1811,  2433, 20290,   195,  4985,\n",
       "          655,     2,     1,     6,     2,   538,    33,    83,    50,\n",
       "          122,  5537, 17086,  1301,  1862,  8423,     1,     3,   241,\n",
       "            7,  3254,     6]))"
      ]
     },
     "execution_count": 9,
     "metadata": {},
     "output_type": "execute_result"
    }
   ],
   "source": [
    "np.unique((variants_array[['is_snp', 'SNPEFF_EFFECT']]), return_counts=True)\n",
    "# , np.in1d(variants_array['SNPEFF_EFFECT'], [b'INTERGENIC', b'INTRAGENIC'])))"
   ]
  },
  {
   "cell_type": "code",
   "execution_count": 10,
   "metadata": {
    "collapsed": false
   },
   "outputs": [
    {
     "data": {
      "text/plain": [
       "array([(True, b'INTERGENIC'), (True, b'INTERGENIC'), (True, b'INTERGENIC'),\n",
       "       ..., (True, b'NON_SYNONYMOUS_CODING'), (True, b'INTERGENIC'),\n",
       "       (True, b'FRAME_SHIFT')], \n",
       "      dtype=[('is_snp', '?'), ('SNPEFF_EFFECT', 'S33')])"
      ]
     },
     "execution_count": 10,
     "metadata": {},
     "output_type": "execute_result"
    }
   ],
   "source": [
    "variants_array[['is_snp', 'SNPEFF_EFFECT']]"
   ]
  },
  {
   "cell_type": "code",
   "execution_count": 11,
   "metadata": {
    "collapsed": false
   },
   "outputs": [
    {
     "data": {
      "text/html": [
       "<table class='petl'>\n",
       "<thead>\n",
       "<tr>\n",
       "<th>0|CHROM</th>\n",
       "<th>1|POS</th>\n",
       "<th>2|ID</th>\n",
       "<th>3|REF</th>\n",
       "<th>4|ALT</th>\n",
       "<th>5|QUAL</th>\n",
       "<th>6|FILTER</th>\n",
       "<th>7|num_alleles</th>\n",
       "<th>8|is_snp</th>\n",
       "<th>9|svlen</th>\n",
       "<th>10|AC</th>\n",
       "<th>11|AF</th>\n",
       "<th>12|AN</th>\n",
       "<th>13|BaseQRankSum</th>\n",
       "<th>14|ClippingRankSum</th>\n",
       "<th>15|DP</th>\n",
       "<th>16|DS</th>\n",
       "<th>17|END</th>\n",
       "<th>18|FS</th>\n",
       "<th>19|GC</th>\n",
       "<th>20|HaplotypeScore</th>\n",
       "<th>21|InbreedingCoeff</th>\n",
       "<th>22|MLEAC</th>\n",
       "<th>23|MLEAF</th>\n",
       "<th>24|MQ</th>\n",
       "<th>25|MQRankSum</th>\n",
       "<th>26|NEGATIVE_TRAIN_SITE</th>\n",
       "<th>27|POSITIVE_TRAIN_SITE</th>\n",
       "<th>28|QD</th>\n",
       "<th>29|RPA</th>\n",
       "<th>30|RU</th>\n",
       "<th>31|ReadPosRankSum</th>\n",
       "<th>32|RegionType</th>\n",
       "<th>33|SNPEFF_AMINO_ACID_CHANGE</th>\n",
       "<th>34|SNPEFF_CODON_CHANGE</th>\n",
       "<th>35|SNPEFF_EFFECT</th>\n",
       "<th>36|SNPEFF_EXON_ID</th>\n",
       "<th>37|SNPEFF_FUNCTIONAL_CLASS</th>\n",
       "<th>38|SNPEFF_GENE_BIOTYPE</th>\n",
       "<th>39|SNPEFF_GENE_NAME</th>\n",
       "<th>40|SNPEFF_IMPACT</th>\n",
       "<th>41|SNPEFF_TRANSCRIPT_ID</th>\n",
       "<th>42|SOR</th>\n",
       "<th>43|STR</th>\n",
       "<th>44|VQSLOD</th>\n",
       "<th>45|VariantType</th>\n",
       "<th>46|culprit</th>\n",
       "<th>47|set</th>\n",
       "<th>48|alt</th>\n",
       "</tr>\n",
       "</thead>\n",
       "<tbody>\n",
       "<tr>\n",
       "<td>b'Pf3D7_01_v3'</td>\n",
       "<td>1238</td>\n",
       "<td>b'.'</td>\n",
       "<td>b'C'</td>\n",
       "<td>[b'G' b'']</td>\n",
       "<td>466566.0</td>\n",
       "<td>(False, False, False, True, False, True, False, False, False, False, False, False)</td>\n",
       "<td>2</td>\n",
       "<td>True</td>\n",
       "<td>0</td>\n",
       "<td>[1 0]</td>\n",
       "<td>[ 0.5  0. ]</td>\n",
       "<td>2</td>\n",
       "<td>-1.0645</td>\n",
       "<td>0.041992</td>\n",
       "<td>99</td>\n",
       "<td>False</td>\n",
       "<td>0</td>\n",
       "<td>0.63477</td>\n",
       "<td>28.57</td>\n",
       "<td>0.0</td>\n",
       "<td>0.0</td>\n",
       "<td>[0 0]</td>\n",
       "<td>[ 0.  0.]</td>\n",
       "<td>36.562</td>\n",
       "<td>0.42603</td>\n",
       "<td>False</td>\n",
       "<td>False</td>\n",
       "<td>6.9219</td>\n",
       "<td>[0 0 0]</td>\n",
       "<td>b''</td>\n",
       "<td>0.36108</td>\n",
       "<td>b'SubtelomericRepeat'</td>\n",
       "<td>b''</td>\n",
       "<td>b''</td>\n",
       "<td>b'INTERGENIC'</td>\n",
       "<td>b''</td>\n",
       "<td>b'NONE'</td>\n",
       "<td>b''</td>\n",
       "<td>b''</td>\n",
       "<td>b'MODIFIER'</td>\n",
       "<td>b''</td>\n",
       "<td>0.807</td>\n",
       "<td>False</td>\n",
       "<td>-16.78</td>\n",
       "<td>b'MULTIALLELIC_MIXED'</td>\n",
       "<td>b'MQ'</td>\n",
       "<td>b'FilteredInAll'</td>\n",
       "<td>b'G'</td>\n",
       "</tr>\n",
       "<tr>\n",
       "<td>b'Pf3D7_01_v3'</td>\n",
       "<td>1247</td>\n",
       "<td>b'.'</td>\n",
       "<td>b'C'</td>\n",
       "<td>[b'A' b'']</td>\n",
       "<td>1.20744e+06</td>\n",
       "<td>(False, False, False, True, False, True, False, False, False, False, False, False)</td>\n",
       "<td>2</td>\n",
       "<td>True</td>\n",
       "<td>0</td>\n",
       "<td>[2 0]</td>\n",
       "<td>[ 1.  0.]</td>\n",
       "<td>2</td>\n",
       "<td>4.5781</td>\n",
       "<td>0.093018</td>\n",
       "<td>88</td>\n",
       "<td>False</td>\n",
       "<td>0</td>\n",
       "<td>0.0</td>\n",
       "<td>28.57</td>\n",
       "<td>0.0</td>\n",
       "<td>0.0</td>\n",
       "<td>[0 0]</td>\n",
       "<td>[ 0.  0.]</td>\n",
       "<td>36.562</td>\n",
       "<td>-0.20801</td>\n",
       "<td>False</td>\n",
       "<td>False</td>\n",
       "<td>9.2031</td>\n",
       "<td>[0 0 0]</td>\n",
       "<td>b''</td>\n",
       "<td>0.23499</td>\n",
       "<td>b'SubtelomericRepeat'</td>\n",
       "<td>b''</td>\n",
       "<td>b''</td>\n",
       "<td>b'INTERGENIC'</td>\n",
       "<td>b''</td>\n",
       "<td>b'NONE'</td>\n",
       "<td>b''</td>\n",
       "<td>b''</td>\n",
       "<td>b'MODIFIER'</td>\n",
       "<td>b''</td>\n",
       "<td>0.694</td>\n",
       "<td>False</td>\n",
       "<td>-18.55</td>\n",
       "<td>b'MULTIALLELIC_MIXED'</td>\n",
       "<td>b'MQ'</td>\n",
       "<td>b'FilteredInAll'</td>\n",
       "<td>b'A'</td>\n",
       "</tr>\n",
       "<tr>\n",
       "<td>b'Pf3D7_01_v3'</td>\n",
       "<td>1297</td>\n",
       "<td>b'.'</td>\n",
       "<td>b'G'</td>\n",
       "<td>[b'T' b'']</td>\n",
       "<td>4.32891e+06</td>\n",
       "<td>(False, False, False, True, False, True, False, False, False, False, False, False)</td>\n",
       "<td>2</td>\n",
       "<td>True</td>\n",
       "<td>0</td>\n",
       "<td>[1 0]</td>\n",
       "<td>[ 0.5  0. ]</td>\n",
       "<td>2</td>\n",
       "<td>4.7383</td>\n",
       "<td>0.061005</td>\n",
       "<td>127</td>\n",
       "<td>False</td>\n",
       "<td>0</td>\n",
       "<td>0.54492</td>\n",
       "<td>42.86</td>\n",
       "<td>0.0</td>\n",
       "<td>0.0</td>\n",
       "<td>[0 0]</td>\n",
       "<td>[ 0.  0.]</td>\n",
       "<td>34.781</td>\n",
       "<td>-0.44189</td>\n",
       "<td>False</td>\n",
       "<td>False</td>\n",
       "<td>21.703</td>\n",
       "<td>[0 0 0]</td>\n",
       "<td>b''</td>\n",
       "<td>-0.60986</td>\n",
       "<td>b'SubtelomericRepeat'</td>\n",
       "<td>b''</td>\n",
       "<td>b''</td>\n",
       "<td>b'INTERGENIC'</td>\n",
       "<td>b''</td>\n",
       "<td>b'NONE'</td>\n",
       "<td>b''</td>\n",
       "<td>b''</td>\n",
       "<td>b'MODIFIER'</td>\n",
       "<td>b''</td>\n",
       "<td>0.78</td>\n",
       "<td>False</td>\n",
       "<td>-9.049</td>\n",
       "<td>b'SNP'</td>\n",
       "<td>b'MQ'</td>\n",
       "<td>b'FilteredInAll'</td>\n",
       "<td>b'T'</td>\n",
       "</tr>\n",
       "<tr>\n",
       "<td>b'Pf3D7_01_v3'</td>\n",
       "<td>1473</td>\n",
       "<td>b'.'</td>\n",
       "<td>b'A'</td>\n",
       "<td>[b'T' b'']</td>\n",
       "<td>933971.0</td>\n",
       "<td>(False, False, False, True, False, True, False, False, False, False, False, False)</td>\n",
       "<td>2</td>\n",
       "<td>True</td>\n",
       "<td>0</td>\n",
       "<td>[2 0]</td>\n",
       "<td>[ 1.  0.]</td>\n",
       "<td>2</td>\n",
       "<td>1.3301</td>\n",
       "<td>0.13904</td>\n",
       "<td>40</td>\n",
       "<td>False</td>\n",
       "<td>0</td>\n",
       "<td>0.63379</td>\n",
       "<td>28.57</td>\n",
       "<td>0.0</td>\n",
       "<td>0.0</td>\n",
       "<td>[0 0]</td>\n",
       "<td>[ 0.  0.]</td>\n",
       "<td>36.469</td>\n",
       "<td>-0.32788</td>\n",
       "<td>False</td>\n",
       "<td>False</td>\n",
       "<td>8.5625</td>\n",
       "<td>[0 0 0]</td>\n",
       "<td>b''</td>\n",
       "<td>-0.029999</td>\n",
       "<td>b'SubtelomericRepeat'</td>\n",
       "<td>b''</td>\n",
       "<td>b''</td>\n",
       "<td>b'INTERGENIC'</td>\n",
       "<td>b''</td>\n",
       "<td>b'NONE'</td>\n",
       "<td>b''</td>\n",
       "<td>b''</td>\n",
       "<td>b'MODIFIER'</td>\n",
       "<td>b''</td>\n",
       "<td>0.75</td>\n",
       "<td>False</td>\n",
       "<td>-9.471</td>\n",
       "<td>b'MULTIALLELIC_SNP'</td>\n",
       "<td>b'MQ'</td>\n",
       "<td>b'FilteredInAll'</td>\n",
       "<td>b'T'</td>\n",
       "</tr>\n",
       "<tr>\n",
       "<td>b'Pf3D7_01_v3'</td>\n",
       "<td>1494</td>\n",
       "<td>b'.'</td>\n",
       "<td>b'C'</td>\n",
       "<td>[b'G' b'']</td>\n",
       "<td>347201.0</td>\n",
       "<td>(False, False, False, True, False, True, False, False, False, False, False, False)</td>\n",
       "<td>2</td>\n",
       "<td>True</td>\n",
       "<td>0</td>\n",
       "<td>[1 0]</td>\n",
       "<td>[ 0.5  0. ]</td>\n",
       "<td>2</td>\n",
       "<td>-1.1328</td>\n",
       "<td>0.20105</td>\n",
       "<td>43</td>\n",
       "<td>False</td>\n",
       "<td>0</td>\n",
       "<td>1.3135</td>\n",
       "<td>28.57</td>\n",
       "<td>0.0</td>\n",
       "<td>0.0</td>\n",
       "<td>[0 0]</td>\n",
       "<td>[ 0.  0.]</td>\n",
       "<td>37.625</td>\n",
       "<td>0.58496</td>\n",
       "<td>False</td>\n",
       "<td>False</td>\n",
       "<td>9.1172</td>\n",
       "<td>[0 0 0]</td>\n",
       "<td>b''</td>\n",
       "<td>0.91309</td>\n",
       "<td>b'SubtelomericRepeat'</td>\n",
       "<td>b''</td>\n",
       "<td>b''</td>\n",
       "<td>b'INTERGENIC'</td>\n",
       "<td>b''</td>\n",
       "<td>b'NONE'</td>\n",
       "<td>b''</td>\n",
       "<td>b''</td>\n",
       "<td>b'MODIFIER'</td>\n",
       "<td>b''</td>\n",
       "<td>0.55</td>\n",
       "<td>False</td>\n",
       "<td>-9.464</td>\n",
       "<td>b'MULTIALLELIC_SNP'</td>\n",
       "<td>b'MQ'</td>\n",
       "<td>b'FilteredInAll'</td>\n",
       "<td>b'G'</td>\n",
       "</tr>\n",
       "</tbody>\n",
       "</table>\n",
       "<p><strong>...</strong></p>"
      ]
     },
     "metadata": {},
     "output_type": "display_data"
    }
   ],
   "source": [
    "etl.fromarray(variants_array).display(index_header=True)"
   ]
  },
  {
   "cell_type": "code",
   "execution_count": 12,
   "metadata": {
    "collapsed": false
   },
   "outputs": [
    {
     "data": {
      "text/html": [
       "<table class='petl'>\n",
       "<thead>\n",
       "<tr>\n",
       "<th>0|CHROM</th>\n",
       "<th>1|POS</th>\n",
       "<th>2|REF</th>\n",
       "<th>3|alt</th>\n",
       "</tr>\n",
       "</thead>\n",
       "<tbody>\n",
       "<tr>\n",
       "<td>b'Pf3D7_01_v3'</td>\n",
       "<td>1238</td>\n",
       "<td>b'C'</td>\n",
       "<td>b'G'</td>\n",
       "</tr>\n",
       "<tr>\n",
       "<td>b'Pf3D7_01_v3'</td>\n",
       "<td>1247</td>\n",
       "<td>b'C'</td>\n",
       "<td>b'A'</td>\n",
       "</tr>\n",
       "<tr>\n",
       "<td>b'Pf3D7_01_v3'</td>\n",
       "<td>1297</td>\n",
       "<td>b'G'</td>\n",
       "<td>b'T'</td>\n",
       "</tr>\n",
       "<tr>\n",
       "<td>b'Pf3D7_01_v3'</td>\n",
       "<td>1473</td>\n",
       "<td>b'A'</td>\n",
       "<td>b'T'</td>\n",
       "</tr>\n",
       "<tr>\n",
       "<td>b'Pf3D7_01_v3'</td>\n",
       "<td>1494</td>\n",
       "<td>b'C'</td>\n",
       "<td>b'G'</td>\n",
       "</tr>\n",
       "</tbody>\n",
       "</table>\n",
       "<p><strong>...</strong></p>"
      ]
     },
     "metadata": {},
     "output_type": "display_data"
    }
   ],
   "source": [
    "etl.fromarray(variants_array[['CHROM', 'POS', 'REF', 'alt']]).display(index_header=True)"
   ]
  },
  {
   "cell_type": "code",
   "execution_count": 25,
   "metadata": {
    "collapsed": true
   },
   "outputs": [],
   "source": [
    "import copy\n",
    "def create_consensus(\n",
    "    variants_array,\n",
    "    ref_genome_fn='/lustre/scratch110/malaria/rp7/Pf3k/GATKbuild/Pfalciparum_GeneDB_Aug2015/Pfalciparum.genome.fasta',\n",
    "    pos_fn='/lustre/scratch110/malaria/rp7/Pf3k/release4_candidate/consensus_alignment/pos/7G8.pos',\n",
    "    consensus_fasta_fn='/lustre/scratch110/malaria/rp7/Pf3k/release4_candidate/consensus_alignment/fasta/7G8.fasta',\n",
    "):\n",
    "    ref_dict=SeqIO.to_dict(SeqIO.parse(open(ref_genome_fn), \"fasta\"))\n",
    "    pos_dir = os.path.dirname(pos_fn)\n",
    "    if not os.path.exists(pos_dir):\n",
    "        os.makedirs(pos_dir)\n",
    "    fasta_dir = os.path.dirname(consensus_fasta_fn)\n",
    "    if not os.path.exists(fasta_dir):\n",
    "        os.makedirs(fasta_dir)\n",
    "    pos_fo = open(pos_fn, 'w')\n",
    "    fasta_fo = open(consensus_fasta_fn, 'w')\n",
    "    mutable_ref_dict = copy.deepcopy(ref_dict)\n",
    "    for chrom in mutable_ref_dict:\n",
    "        mutable_ref_dict[chrom].seq = mutable_ref_dict[chrom].seq.tomutable()\n",
    "    previous_new_pos = 1\n",
    "    current_offset = 0\n",
    "    current_chrom = 'Pf3D7_01_v3'\n",
    "    for i, rec in enumerate(etl.fromarray(variants_array).data()):\n",
    "        if i > 0 and current_chrom != rec[0].decode(\"ascii\"):\n",
    "            print(\"%s\\t%d\\t%d\\t%d\\t%d\" % (current_chrom, 0, 9999999, previous_new_pos, current_offset), file=pos_fo)  \n",
    "            current_chrom = rec[0].decode(\"ascii\")\n",
    "            current_offset = 0\n",
    "            previous_new_pos = 1\n",
    "        reflen = len(rec[2])\n",
    "        altlen = len(rec[3])\n",
    "        pos = int(rec[1])\n",
    "        new_pos = pos + current_offset\n",
    "        print(\"%s\\t%d\\t%d\\t%d\\t%d\" % (rec[0].decode(\"ascii\"), pos, new_pos, previous_new_pos, current_offset), file=pos_fo)  \n",
    "        previous_new_pos = new_pos\n",
    "        startpos = pos + current_offset - 1\n",
    "        endpos = pos + current_offset + reflen - 1   \n",
    "        mutable_ref_dict[rec[0].decode(\"ascii\")].seq[startpos:endpos] = rec[3].decode(\"ascii\")\n",
    "        current_offset = current_offset + altlen - reflen\n",
    "#         if i%1000 == 0:\n",
    "#             print(current_chrom, current_offset)\n",
    "\n",
    "    print(\"%s\\t%d\\t%d\\t%d\\t%d\" % (current_chrom, 0, 9999999, previous_new_pos, current_offset), file=pos_fo)  \n",
    "    \n",
    "    for chrom in mutable_ref_dict:\n",
    "        SeqIO.write(mutable_ref_dict[chrom], fasta_fo, \"fasta\")\n",
    "    "
   ]
  },
  {
   "cell_type": "code",
   "execution_count": 14,
   "metadata": {
    "collapsed": true
   },
   "outputs": [],
   "source": [
    "def run_nucmer(\n",
    "    consensus_fasta_fn='/lustre/scratch110/malaria/rp7/Pf3k/release4_candidate/consensus_alignment/fasta/7G8.fasta',\n",
    "    assembly_fasta_fn='/nfs/pathogen003/tdo/Pfalciparum/PF3K/Reference12Genomes/ReleaseJul/Pf7G8.Jul2015.fasta',\n",
    "    nucmer_filestem='/lustre/scratch110/malaria/rp7/Pf3k/release4_candidate/consensus_alignment/nucmer/7G8',\n",
    "    delta_filter_i=99,\n",
    "    nucmer_dir='~/src/github/malariagen/methods-dev/pf3k_techbm/opt_4/mummer/MUMmer3.23'\n",
    "):\n",
    "    \n",
    "    !{nucmer_dir}/nucmer -p {nucmer_filestem} {consensus_fasta_fn} {assembly_fasta_fn}\n",
    "    !{nucmer_dir}/delta-filter -m -i {delta_filter_i} -l 1000 {nucmer_filestem}.delta > {nucmer_filestem}.filter.delta\n",
    "    !{nucmer_dir}/show-coords -THqcl -o {nucmer_filestem}.filter.delta > {nucmer_filestem}.filter.coords\n",
    "    !{nucmer_dir}/show-snps -CHTr {nucmer_filestem}.filter.delta > {nucmer_filestem}.Csnp\n"
   ]
  },
  {
   "cell_type": "code",
   "execution_count": 15,
   "metadata": {
    "collapsed": true
   },
   "outputs": [],
   "source": [
    "def convert_Csnp(\n",
    "    sample='7G8',\n",
    "    consensus_fasta_fn='/lustre/scratch110/malaria/rp7/Pf3k/release4_candidate/consensus_alignment/fasta/7G8.fasta',\n",
    "    nucmer_filestem='/lustre/scratch110/malaria/rp7/Pf3k/release4_candidate/consensus_alignment/nucmer/7G8',\n",
    "):\n",
    "\n",
    "    Csnp_fn=nucmer_filestem + \".Csnp\"\n",
    "    nucmer_vcf_fn=nucmer_filestem + \".vcf\"\n",
    "    ref_dict=SeqIO.to_dict(SeqIO.parse(open(consensus_fasta_fn), \"fasta\"))\n",
    "\n",
    "#     Write VCF header\n",
    "    fo = open(nucmer_vcf_fn, 'w')\n",
    "    fo.write(\"##fileformat=VCFv4.1\\n\")\n",
    "    fo.write(\"##description=This file created with convert_Csnp function in 20150929_consensus_alignment.ipynb\\n\")\n",
    "    fo.write(\"#CHROM\\tPOS\\tID\\tREF\\tALT\\tQUAL\\tFILTER\\tINFO\\n\")\n",
    "#     Write data\n",
    "    ref_chroms = ['M76611', 'PFC10_API_IRAB'] + [\"Pf3D7_%02d_v3\" % i for i in range(1, 15)]\n",
    "    query_chroms = [\"Pf%s_MT\" % sample, \"Pf%s_API\" % sample] + [\"Pf%s_%02d\" % (sample, i) for i in range(1, 15)]\n",
    "    chrom_dict = dict(zip(ref_chroms, query_chroms))\n",
    "\n",
    "    tbl_csnp = (etl.fromtsv(Csnp_fn).select(lambda rec: rec[9] == chrom_dict[rec[8]]))\n",
    "    \n",
    "    current_state = \"SNP\"\n",
    "    ins_sequence = ''\n",
    "    previous_chrom = ''\n",
    "    for rec in tbl_csnp:\n",
    "        (pos, ref, alt, pos2, buff, dist, frm, frm2, chrom, query_chrom) = rec\n",
    "        pos = int(pos)\n",
    "        pos2 = int(pos2)\n",
    "        if (\n",
    "            frm != '1' or\n",
    "            not(ref in ['A', 'C', 'T', 'G', '.']) or\n",
    "            not(alt in ['A', 'C', 'T', 'G', '.'])\n",
    "        ):\n",
    "            return(\"error\")\n",
    "        if alt == '.':\n",
    "            variant_type = 'Del'\n",
    "        elif ref == '.':\n",
    "            variant_type = 'Ins'\n",
    "        else:\n",
    "            variant_type = 'SNP'\n",
    "        if variant_type == 'SNP':\n",
    "            if current_state == 'Del':\n",
    "                del_ref = str(ref_dict[previous_chrom][variant_start-1:variant_end].seq)\n",
    "                del_alt = ref_dict[previous_chrom][variant_start-1]\n",
    "                fo.write(\"%s\\t%s\\t.\\t%s\\t%s\\t.\\tPASS\\t.\\n\" % (previous_chrom, variant_start, del_ref, del_alt))\n",
    "            if current_state == 'Ins':\n",
    "                ins_ref = ref_dict[previous_chrom][variant_start-1]\n",
    "                ins_alt = ref_dict[previous_chrom][variant_start-1] + ins_sequence\n",
    "                fo.write(\"%s\\t%s\\t.\\t%s\\t%s\\t.\\tPASS\\t.\\n\" % (previous_chrom, variant_start, ins_ref, ins_alt))\n",
    "                ins_sequence = ''\n",
    "            fo.write(\"%s\\t%s\\t.\\t%s\\t%s\\t.\\tPASS\\t.\\n\" % (chrom, pos, ref, alt))\n",
    "            current_state = \"SNP\"\n",
    "        elif variant_type == 'Del':\n",
    "            if current_state == 'Del':\n",
    "                if pos > (variant_end+1) or chrom != previous_chrom: # i.e. we have moved into a different del so need to print out previous\n",
    "                    if variant_start < 1 or variant_start > len(ref_dict[chrom]):\n",
    "                        print(chrom, variant_start, ref_dict[chrom], len(ref_dict[chrom]))\n",
    "                    del_ref = str(ref_dict[previous_chrom][variant_start-1:variant_end].seq)\n",
    "                    del_alt = ref_dict[previous_chrom][variant_start-1]\n",
    "                    fo.write(\"%s\\t%s\\t.\\t%s\\t%s\\t.\\tPASS\\t.\\n\" % (previous_chrom, variant_start, del_ref, del_alt))\n",
    "                    variant_start = pos-1\n",
    "            if current_state == 'Ins':\n",
    "                ins_ref = ref_dict[previous_chrom][variant_start-1]\n",
    "                ins_alt = ref_dict[previous_chrom][variant_start-1] + ins_sequence\n",
    "                fo.write(\"%s\\t%s\\t.\\t%s\\t%s\\t.\\tPASS\\t.\\n\" % (previous_chrom, variant_start, ins_ref, ins_alt))\n",
    "                variant_start = pos-1\n",
    "            if current_state == 'SNP':\n",
    "                variant_start = pos-1\n",
    "            variant_end = pos\n",
    "            current_state = \"Del\"\n",
    "        elif variant_type == 'Ins':\n",
    "            if current_state == 'Del':\n",
    "                del_ref = str(ref_dict[previous_chrom][variant_start-1:variant_end].seq)\n",
    "                del_alt = ref_dict[previous_chrom][variant_start-1]\n",
    "                fo.write(\"%s\\t%s\\t.\\t%s\\t%s\\t.\\tPASS\\t.\\n\" % (previous_chrom, variant_start, del_ref, del_alt))\n",
    "                variant_start = pos\n",
    "            if current_state == 'Ins':\n",
    "                if pos > (variant_end+1) or chrom != previous_chrom: # i.e. we have moved into a different del so need to print out previous\n",
    "                    ins_ref = ref_dict[previous_chrom][variant_start-1]\n",
    "                    ins_alt = ref_dict[previous_chrom][variant_start-1] + ins_sequence\n",
    "                    fo.write(\"%s\\t%s\\t.\\t%s\\t%s\\t.\\tPASS\\t.\\n\" % (previous_chrom, variant_start, ins_ref, ins_alt))\n",
    "                    variant_start = pos\n",
    "                    ins_sequence = ''\n",
    "            if current_state == 'SNP':\n",
    "                variant_start = pos\n",
    "            ins_sequence = ins_sequence + alt\n",
    "            variant_end = pos\n",
    "            current_state = \"Ins\"\n",
    "        else:\n",
    "            return(\"error\")\n",
    "        previous_chrom = chrom\n",
    "    fo.close()\n",
    "    \n",
    "    return(nucmer_vcf_fn)\n"
   ]
  },
  {
   "cell_type": "code",
   "execution_count": 16,
   "metadata": {
    "collapsed": true
   },
   "outputs": [],
   "source": [
    "def convert_coords(\n",
    "    pos_fn='/lustre/scratch110/malaria/rp7/Pf3k/release4_candidate/consensus_alignment/pos/7G8.pos',\n",
    "    nucmer_filestem='/lustre/scratch110/malaria/rp7/Pf3k/release4_candidate/consensus_alignment/nucmer/7G8',\n",
    "):\n",
    "    \n",
    "    nucmer_vcf_fn = nucmer_filestem + \".vcf\"\n",
    "    converted_vcf_fn = nucmer_filestem + \".3d7coordinates.vcf\"\n",
    "    \n",
    "    tbl_vcf = etl.fromvcf(nucmer_vcf_fn).convert('POS', int).addfield('POS1', lambda rec: rec['POS']+1)\n",
    "    tbl_pos = (etl.fromtsv(pos_fn)\n",
    "        .setheader(('CHROM', 'var_pos', 'end', 'start', 'diff'))\n",
    "        .convert('var_pos', int)\n",
    "        .convert('start', int)\n",
    "        .convert('end', int)\n",
    "        .convert('diff', int)\n",
    "        .select(lambda rec: rec['end'] > rec['start'])\n",
    "    )\n",
    "    \n",
    "    tbl_vcf_converted = (tbl_vcf\n",
    "        .intervalleftjoin(tbl_pos, lstart='POS', lstop='POS1', lkey='CHROM',\n",
    "                          rstart='start', rstop='end', rkey='CHROM')\n",
    "        .addfield('NEW_POS', lambda rec: rec['POS'] if rec['diff'] is None else rec['POS'] - rec['diff'])\n",
    "    )\n",
    "\n",
    "#     Write VCF header\n",
    "    fo = open(converted_vcf_fn, 'w')\n",
    "    fo.write(\"##fileformat=VCFv4.1\\n\")\n",
    "    fo.write(\"##description=This file created with tbl_converted_coords function in 20150929_consensus_alignment.ipynb\\n\")\n",
    "    fo.write(\"#CHROM\\tPOS\\tID\\tREF\\tALT\\tQUAL\\tFILTER\\tINFO\\n\")\n",
    "\n",
    "#     Write VCF rows\n",
    "    for rec in tbl_vcf_converted.data():\n",
    "        fo.write(\"%s\\t%s\\t.\\t%s\\t%s\\t.\\tPASS\\t.\\n\" % (rec[0], rec[13], rec[3], rec[4][0]))\n",
    "    fo.close()\n",
    "        \n",
    "    return tbl_vcf_converted\n",
    "    \n",
    "    \n"
   ]
  },
  {
   "cell_type": "code",
   "execution_count": 17,
   "metadata": {
    "collapsed": false
   },
   "outputs": [],
   "source": [
    "def annotate_vcf(\n",
    "    unannotated_vcf_fn='/lustre/scratch110/malaria/rp7/Pf3k/release4_candidate/consensus_alignment/nucmer/7G8.3d7coordinates.vcf',\n",
    "    rewrite=False\n",
    "):\n",
    "    \n",
    "    sorted_vcf_fn = unannotated_vcf_fn.replace(\".vcf\", \".sorted.vcf\")\n",
    "    leftaligned_vcf_fn = unannotated_vcf_fn.replace(\".vcf\", \".leftaligned.vcf\")\n",
    "    snpeff_vcf_fn = unannotated_vcf_fn.replace(\".vcf\", \".snpeff.vcf\")\n",
    "    snpeff_annotated_vcf_fn = unannotated_vcf_fn.replace(\".vcf\", \".snpeff_annotated.vcf\")\n",
    "    annotated_vcf_fn = unannotated_vcf_fn.replace(\".vcf\", \".annotated.vcf\")\n",
    "    \n",
    "    !vcfstreamsort < {unannotated_vcf_fn} > {sorted_vcf_fn}\n",
    "\n",
    "    if (not os.path.isfile(leftaligned_vcf_fn) and not os.path.isfile(annotated_vcf_fn+'.gz')) or rewrite:\n",
    "        !{gatk_exe} -T LeftAlignAndTrimVariants \\\n",
    "        -R {REF_GENOME} \\\n",
    "        -V {sorted_vcf_fn} \\\n",
    "        -o {leftaligned_vcf_fn} \\\n",
    "#         2> /dev/null\n",
    "\n",
    "    if (not os.path.isfile(snpeff_vcf_fn) and not os.path.isfile(annotated_vcf_fn+'.gz')) or rewrite:\n",
    "        !{snpeff_exe} \\\n",
    "        -v -o gatk Pf3D7july2015 \\\n",
    "        {leftaligned_vcf_fn} \\\n",
    "        -no-downstream \\\n",
    "        -no-upstream \\\n",
    "        > {snpeff_vcf_fn} \\\n",
    "#         2> /dev/null\n",
    "\n",
    "    if (not os.path.isfile(snpeff_annotated_vcf_fn) and not os.path.isfile(annotated_vcf_fn+'.gz')) or rewrite:\n",
    "        !{gatk_exe} \\\n",
    "        -T VariantAnnotator \\\n",
    "        -R {REF_GENOME} \\\n",
    "        -A TandemRepeatAnnotator \\\n",
    "        -A SnpEff \\\n",
    "        --variant {leftaligned_vcf_fn} \\\n",
    "        --snpEffFile {snpeff_vcf_fn} \\\n",
    "        -o {snpeff_annotated_vcf_fn} \\\n",
    "#         2> /dev/null\n",
    "\n",
    "    if not os.path.isfile(annotated_vcf_fn+'.gz') or rewrite:\n",
    "        !cat {snpeff_annotated_vcf_fn} \\\n",
    "        | vcf-annotate -a {regions_fn} \\\n",
    "           -d key=INFO,ID=RegionType,Number=1,Type=String,Description='The type of genome region within which the variant is found. SubtelomericRepeat: repetitive regions at the ends of the chromosomes. SubtelomericHypervariable: subtelomeric region of poor conservation between the 3D7 reference genome and other samples. InternalHypervariable: chromosome-internal region of poor conservation between the 3D7 reference genome and other samples. Centromere: start and end coordinates of the centromere genome annotation. Core: everything else.' \\\n",
    "           -c CHROM,FROM,TO,INFO/RegionType \\\n",
    "        > {annotated_vcf_fn}\n",
    "\n",
    "        !bgzip -f {annotated_vcf_fn}\n",
    "        !tabix -p vcf -f {annotated_vcf_fn}.gz\n",
    "\n",
    "    if not os.path.isfile(annotated_vcf_fn.replace('.vcf', '.SNP.vcf')+'.gz') or rewrite:\n",
    "        !{gatk_exe} \\\n",
    "        -T SelectVariants \\\n",
    "        -R {REF_GENOME} \\\n",
    "        -V {annotated_vcf_fn}.gz \\\n",
    "        -selectType SNP \\\n",
    "        -o {annotated_vcf_fn.replace('.vcf', '.SNP.vcf')} 2> /dev/null\n",
    "\n",
    "        !bgzip -f {annotated_vcf_fn.replace('.vcf', '.SNP.vcf')}\n",
    "        !tabix -p vcf -f {annotated_vcf_fn.replace('.vcf', '.SNP.vcf')}.gz\n",
    "\n",
    "    if not os.path.isfile(annotated_vcf_fn.replace('.vcf', '.INDEL.vcf')+'.gz') or rewrite:\n",
    "        !{gatk_exe} \\\n",
    "        -T SelectVariants \\\n",
    "        -R {REF_GENOME} \\\n",
    "        -V {annotated_vcf_fn}.gz \\\n",
    "        -xlSelectType SNP \\\n",
    "        -o {annotated_vcf_fn.replace('.vcf', '.INDEL.vcf')} 2> /dev/null\n",
    "\n",
    "        !bgzip -f {annotated_vcf_fn.replace('.vcf', '.INDEL.vcf')}\n",
    "        !tabix -p vcf -f {annotated_vcf_fn.replace('.vcf', '.INDEL.vcf')}.gz\n"
   ]
  },
  {
   "cell_type": "code",
   "execution_count": 18,
   "metadata": {
    "collapsed": true
   },
   "outputs": [],
   "source": [
    "import vcfnp\n",
    "\n",
    "def run_vcfnp(\n",
    "    annotated_vcf_fn = '/lustre/scratch110/malaria/rp7/Pf3k/release4_candidate/consensus_alignment/nucmer/7G8.3d7coordinates.annoatated.vcf'\n",
    "):\n",
    "    v = vcfnp.variants(\n",
    "        vcf_fn=annotated_vcf_fn,\n",
    "        progress=10000,\n",
    "        arities={\n",
    "            'ALT': 2,\n",
    "            'AF': 2,\n",
    "            'AC': 2,\n",
    "            'MLEAF': 2,\n",
    "            'MLEAC': 2,\n",
    "            'RPA': 3\n",
    "        },\n",
    "        dtypes={\n",
    "            'REF': 'a400', \n",
    "            'ALT': 'a400',\n",
    "            'RegionType': 'a25', \n",
    "            'VariantType': 'a40',\n",
    "            'RU': 'a40',\n",
    "            'set': 'a40',\n",
    "            'SNPEFF_AMINO_ACID_CHANGE':'a20',\n",
    "            'SNPEFF_CODON_CHANGE':'a20',\n",
    "            'SNPEFF_EFFECT':'a33',\n",
    "            'SNPEFF_EXON_ID':'a2',\n",
    "            'SNPEFF_FUNCTIONAL_CLASS':'a8',\n",
    "            'SNPEFF_GENE_BIOTYPE':'a14',\n",
    "            'SNPEFF_GENE_NAME':'a20',\n",
    "            'SNPEFF_IMPACT':'a8',\n",
    "            'SNPEFF_TRANSCRIPT_ID':'a20',\n",
    "            'VariantType':'a60',\n",
    "            'culprit':'a14',\n",
    "        },\n",
    "        cache=True\n",
    "    )\n",
    "    return(v)\n"
   ]
  },
  {
   "cell_type": "code",
   "execution_count": 19,
   "metadata": {
    "collapsed": false
   },
   "outputs": [
    {
     "data": {
      "text/plain": [
       "array([ 1,  0,  1,  1,  3,  0, 10])"
      ]
     },
     "execution_count": 19,
     "metadata": {},
     "output_type": "execute_result"
    }
   ],
   "source": [
    "def find_nearest(a, b):\n",
    "    nearest_before = abs(a - b[np.searchsorted(b, a)-1])\n",
    "    nearest_after = abs(a - b[np.searchsorted(b, a) % len(b)])\n",
    "    return(np.minimum(nearest_before, nearest_after))\n",
    "find_nearest(\n",
    "    np.array([-1, 1, 2, 5, 9, 12, 22]),\n",
    "    np.array([0, 1, 4, 6, 12])\n",
    ")\n"
   ]
  },
  {
   "cell_type": "code",
   "execution_count": 20,
   "metadata": {
    "collapsed": true
   },
   "outputs": [],
   "source": [
    "def distance_to_nearest(\n",
    "    variants_array,\n",
    "    nucmer_array\n",
    "):\n",
    "    distance_array = np.zeros(len(variants_array), dtype='u4')\n",
    "    for chrom in np.unique(variants_array['CHROM']):\n",
    "        print(chrom)\n",
    "        variants_pos_this_chrom = variants_array['POS'][variants_array['CHROM'] == chrom]\n",
    "        nucmer_pos_this_chrom = nucmer_array['POS'][nucmer_array['CHROM'] == chrom]\n",
    "        nearest_this_chrom = find_nearest(variants_pos_this_chrom, nucmer_pos_this_chrom)\n",
    "        distance_array[variants_array['CHROM'] == chrom] = nearest_this_chrom\n",
    "    new_array = variants_array.addfield('nearest_nucmer', distance_array)\n",
    "    return(new_array)\n",
    "        "
   ]
  },
  {
   "cell_type": "code",
   "execution_count": 21,
   "metadata": {
    "collapsed": false
   },
   "outputs": [
    {
     "ename": "SyntaxError",
     "evalue": "invalid syntax (<ipython-input-21-d8ea9437d058>, line 24)",
     "output_type": "error",
     "traceback": [
      "\u001b[1;36m  File \u001b[1;32m\"<ipython-input-21-d8ea9437d058>\"\u001b[1;36m, line \u001b[1;32m24\u001b[0m\n\u001b[1;33m    is_accessible =\u001b[0m\n\u001b[1;37m                    ^\u001b[0m\n\u001b[1;31mSyntaxError\u001b[0m\u001b[1;31m:\u001b[0m invalid syntax\n"
     ]
    }
   ],
   "source": [
    "def within_accessible(\n",
    "    variants_array,\n",
    "    assembly_sample='7G8',\n",
    "    filter_coords_fn='/lustre/scratch110/malaria/rp7/Pf3k/release4_candidate/consensus_alignment/nucmer/7G8.filter.coords'\n",
    "):\n",
    "#     Figure out how to do this in numpy. Numpy intervals? Or just use in1d?\n",
    "    is_accessible = np.zeros(len(variants_array), dtype='bool')\n",
    "    array_coords = (\n",
    "        etl.fromtsv(truth_coords_fn)\n",
    "        .pushheader(['ref_start', 'ref_end', 'assembly_start', 'assembly_end', 'ref_length', 'assembly_length', 'identity',\n",
    "             'ref_chrom_length', 'assembly_chrom_length', 'ref_pct', 'assembly_pct', 'ref_chrom', 'assembly_chrom',\n",
    "             'ignore'])\n",
    "        .cut(['ref_chrom', 'assembly_chrom', 'ref_start', 'ref_end'])\n",
    "        .convertnumbers()\n",
    "        .toarray()\n",
    "    )\n",
    "    for chrom in np.unique(variants_array['CHROM']):\n",
    "        assembly_chrom = \"Pf%s_%s\" % (assembly_sample, chrom.decode(\"ascii\")[6:8])\n",
    "        starts = array_coords['ref_start'][\n",
    "            (array_coords['ref_chrom'] == chrom.decode(\"utf-8\")) &\n",
    "            (array_coords['assembly_chrom'] == assembly_chrom)\n",
    "        ]\n",
    "\n",
    "    is_accessible = \n",
    "    new_array = variants_array.addfield('is_accessible', is_accessible)\n",
    "    return(new_array)\n",
    "        "
   ]
  },
  {
   "cell_type": "code",
   "execution_count": null,
   "metadata": {
    "collapsed": true
   },
   "outputs": [],
   "source": []
  },
  {
   "cell_type": "code",
   "execution_count": 22,
   "metadata": {
    "collapsed": true
   },
   "outputs": [],
   "source": [
    "def determine_assembly_fasta(sample='7G8'):\n",
    "    if sample in ('7G8', 'GB4'):\n",
    "        return(\"/nfs/pathogen003/tdo/Pfalciparum/PF3K/Reference12Genomes/ReleaseJul/Pf%s.Jul2015.fasta\" % sample)\n",
    "    else:\n",
    "        return(\"/nfs/pathogen003/tdo/Pfalciparum/PF3K/Reference12Genomes/Sharing_25Jun2015/Pf%s.Jun2015.fasta\" % sample)"
   ]
  },
  {
   "cell_type": "code",
   "execution_count": 26,
   "metadata": {
    "collapsed": false
   },
   "outputs": [],
   "source": [
    "def run_fdr_pipeline(\n",
    "    sample='7G8',\n",
    "    ref_genome_fn='/lustre/scratch110/malaria/rp7/Pf3k/GATKbuild/Pfalciparum_GeneDB_Aug2015/Pfalciparum.genome.fasta',\n",
    "    consensus_dir='/lustre/scratch110/malaria/rp7/Pf3k/release4_candidate/consensus_alignment',\n",
    "    delta_filter_i=99,\n",
    "    nucmer_dir='~/src/github/malariagen/methods-dev/pf3k_techbm/opt_4/mummer/MUMmer3.23'\n",
    "):\n",
    "\n",
    "    variants_npy_fn = release4_vcfnp_dir[sample] + '/variants.npy'\n",
    "    calls_npy_fn = release4_vcfnp_dir[sample] + '/calldata_2d.npy'\n",
    "    pos_fn = '%s/pos/%s.pos' % (consensus_dir, sample)\n",
    "    consensus_fasta_fn = '%s/fasta/%s.fasta' % (consensus_dir, sample)\n",
    "    assembly_fasta_fn = determine_assembly_fasta(sample)\n",
    "    nucmer_filestem = '%s/nucmer/%s' % (consensus_dir, sample)\n",
    "    unannotated_vcf_fn = \"%s.3d7coordinates.vcf\" % nucmer_filestem\n",
    "    annotated_vcf_fn = \"%s.3d7coordinates.annotated.vcf\" % nucmer_filestem\n",
    "    \n",
    "    if not os.path.exists(os.path.dirname(nucmer_filestem)):\n",
    "        os.makedirs(os.path.dirname(nucmer_filestem))\n",
    "\n",
    "    print(\"Creating array %s\" % sample)\n",
    "    variants_array = create_variants_array(variants_npy_fn, calls_npy_fn)\n",
    "    flt_pass = variants_array['VQSLOD'] > 0\n",
    "    flt_core = variants_array['RegionType'] == b'Core'\n",
    "    flt_core_pass = (flt_pass & flt_core)\n",
    "\n",
    "    print(\"Creating consensus %s\" % sample)\n",
    "    create_consensus(variants_array[flt_core_pass], ref_genome_fn, pos_fn, consensus_fasta_fn)\n",
    "    \n",
    "    print(\"Running nucmer %s\" % sample)\n",
    "    run_nucmer(consensus_fasta_fn, assembly_fasta_fn, nucmer_filestem, delta_filter_i, nucmer_dir)\n",
    "\n",
    "    print(\"Coverting nucmer output to vcf %s\" % sample)\n",
    "    convert_Csnp(sample, consensus_fasta_fn, nucmer_filestem)\n",
    "\n",
    "    print(\"Converting nucmer vcf coordinates %s\" % sample)\n",
    "    _ = convert_coords(pos_fn, nucmer_filestem)\n",
    "\n",
    "    print(\"Annotate nucmer vcf %s\" % sample)\n",
    "    annotate_vcf(unannotated_vcf_fn, rewrite)\n",
    "    \n",
    "    print(\"Create array of nucmer vcf %s\" % sample)\n",
    "    nucmer_array = run_vcfnp(annotated_vcf_fn)\n",
    "    \n",
    "    print(\"Determining closest nucmer calls %s\" % sample)\n",
    "    variants_nearest_array = distance_to_nearest(variants_array[flt_core_pass], nucmer_array)\n",
    "\n",
    "    print(\"Plotting histogram of distances %s\" % sample)\n",
    "    print(\"Determing accessibility %s\" % sample)\n",
    "    \n",
    "    print(\"Plotting histogram of distances %s\" % sample)\n",
    "    print(\"Plotting histogram of distances %s\" % sample)\n",
    "    print(\"Plotting histogram of distances %s\" % sample)\n",
    "    \n",
    "        "
   ]
  },
  {
   "cell_type": "code",
   "execution_count": null,
   "metadata": {
    "collapsed": false
   },
   "outputs": [
    {
     "name": "stdout",
     "output_type": "stream",
     "text": [
      "Creating array 7G8\n",
      "(array([False,  True], dtype=bool), array([77353, 95081]))\n",
      "(array([False,  True], dtype=bool), array([ 34176, 138258]))\n",
      "Creating consensus 7G8"
     ]
    }
   ],
   "source": [
    "run_fdr_pipeline()"
   ]
  },
  {
   "cell_type": "code",
   "execution_count": null,
   "metadata": {
    "collapsed": true
   },
   "outputs": [],
   "source": []
  }
 ],
 "metadata": {
  "kernelspec": {
   "display_name": "Python 3",
   "language": "python",
   "name": "python3"
  },
  "language_info": {
   "codemirror_mode": {
    "name": "ipython",
    "version": 3
   },
   "file_extension": ".py",
   "mimetype": "text/x-python",
   "name": "python",
   "nbconvert_exporter": "python",
   "pygments_lexer": "ipython3",
   "version": "3.4.3"
  }
 },
 "nbformat": 4,
 "nbformat_minor": 0
}
