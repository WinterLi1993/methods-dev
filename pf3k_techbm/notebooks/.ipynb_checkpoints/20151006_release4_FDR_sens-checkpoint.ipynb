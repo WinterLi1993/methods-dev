{
 "cells": [
  {
   "cell_type": "markdown",
   "metadata": {},
   "source": [
    "# Setup"
   ]
  },
  {
   "cell_type": "code",
   "execution_count": 79,
   "metadata": {
    "collapsed": false
   },
   "outputs": [
    {
     "name": "stdout",
     "output_type": "stream",
     "text": [
      "python 3.4.3 |Anaconda 2.2.0 (64-bit)| (default, Mar  6 2015, 12:03:53) \n",
      "[GCC 4.4.7 20120313 (Red Hat 4.4.7-1)]\n",
      "numpy 1.9.2\n",
      "scipy 0.15.1\n",
      "pandas 0.15.2\n",
      "numexpr 2.3.1\n",
      "pysam 0.8.3\n",
      "petl 1.0.11\n",
      "petlx 1.0.3\n",
      "vcf 0.6.7\n",
      "h5py 2.4.0\n",
      "tables 3.1.1\n",
      "vcfplt 0.8\n",
      "tbl_pgv_metadata length = 5729\n",
      "tbl_pgv_locations length = 102\n",
      "tbl_pf3k_metadata length = 2512\n",
      "tbl_pf_solaris length = 10879\n",
      "tbl_assembled_samples length = 11\n"
     ]
    }
   ],
   "source": [
    "%run _shared_setup.ipynb"
   ]
  },
  {
   "cell_type": "code",
   "execution_count": 2,
   "metadata": {
    "collapsed": true
   },
   "outputs": [],
   "source": [
    "release4_vcfnp_dir = collections.OrderedDict()\n",
    "release4_vcfnp_dir['7G8'] = '/lustre/scratch110/malaria/rp7/Pf3k/release4_candidate/vcfnp/WG.7G8.vcf.gz.vcfnp_cache'\n",
    "release4_vcfnp_dir['GB4'] = '/lustre/scratch110/malaria/rp7/Pf3k/release4_candidate/vcfnp/WG.GB4.vcf.gz.vcfnp_cache'\n",
    "release4_vcfnp_dir['KH02'] = '/lustre/scratch110/malaria/rp7/Pf3k/release4_candidate/vcfnp/WG.ERS740936.vcf.gz.vcfnp_cache'\n",
    "release4_vcfnp_dir['KE01'] = '/lustre/scratch110/malaria/rp7/Pf3k/release4_candidate/vcfnp/WG.ERS740937.vcf.gz.vcfnp_cache'\n",
    "release4_vcfnp_dir['GN01'] = '/lustre/scratch110/malaria/rp7/Pf3k/release4_candidate/vcfnp/WG.ERS740940.vcf.gz.vcfnp_cache'\n",
    "\n",
    "validation5_vcfnp_dir = collections.OrderedDict()\n",
    "validation5_vcfnp_dir['7G8'] = '/lustre/scratch110/malaria/rp7/Pf3k/release4_candidate/vcfnp/validation_WG.7G8.vcf.gz.vcfnp_cache'\n",
    "validation5_vcfnp_dir['GB4'] = '/lustre/scratch110/malaria/rp7/Pf3k/release4_candidate/vcfnp/validation_WG.GB4.vcf.gz.vcfnp_cache'\n",
    "validation5_vcfnp_dir['KH02'] = '/lustre/scratch110/malaria/rp7/Pf3k/release4_candidate/vcfnp/validation_WG.KH02.vcf.gz.vcfnp_cache'\n",
    "validation5_vcfnp_dir['KE01'] = '/lustre/scratch110/malaria/rp7/Pf3k/release4_candidate/vcfnp/validation_WG.KE01.vcf.gz.vcfnp_cache'\n",
    "validation5_vcfnp_dir['GN01'] = '/lustre/scratch110/malaria/rp7/Pf3k/release4_candidate/vcfnp/validation_WG.GN01.vcf.gz.vcfnp_cache'\n"
   ]
  },
  {
   "cell_type": "code",
   "execution_count": null,
   "metadata": {
    "collapsed": true
   },
   "outputs": [],
   "source": []
  },
  {
   "cell_type": "markdown",
   "metadata": {},
   "source": [
    "# Analysis"
   ]
  },
  {
   "cell_type": "code",
   "execution_count": 71,
   "metadata": {
    "collapsed": false
   },
   "outputs": [],
   "source": [
    "def create_variants_array(sample='7G8'):\n",
    "    variants_array = np.load(release4_vcfnp_dir[sample] + '/variants.npy')\n",
    "    calls_array = np.load(release4_vcfnp_dir[sample] + '/calldata_2d.npy')\n",
    "    flt_spanning_del = np.array([x[0] != b'*' for x in variants_array['ALT']])\n",
    "    print(np.unique(flt_spanning_del, return_counts=True))\n",
    "    alt_allele_num = np.array([int(x.astype(str)[0]) for x in calls_array['GT'][:,0]])\n",
    "    is_het = np.array([x[0] != x[1] for x in calls_array['GT'][:,0]])\n",
    "    highest_cov_allele = np.argmax(calls_array['AD'][:,0,:], axis=1)\n",
    "    alt_allele_num[is_het] = highest_cov_allele[is_het]\n",
    "    flt_minor_het = (alt_allele_num > 0)\n",
    "    print(np.unique(flt_minor_het, return_counts=True))\n",
    "    alt_allele_num = alt_allele_num-1\n",
    "    alt_allele_num[alt_allele_num == -1] = 0\n",
    "    alts = variants_array['ALT'][np.arange(len(alt_allele_num)), alt_allele_num]\n",
    "    variants_array = np.lib.recfunctions.append_fields(\n",
    "        variants_array,\n",
    "        'alt',\n",
    "        alts\n",
    "    ).data\n",
    "    flt_all = (\n",
    "        flt_spanning_del &\n",
    "        flt_minor_het\n",
    "    )\n",
    "    return(variants_array[flt_all])\n"
   ]
  },
  {
   "cell_type": "code",
   "execution_count": 72,
   "metadata": {
    "collapsed": false
   },
   "outputs": [
    {
     "name": "stdout",
     "output_type": "stream",
     "text": [
      "(array([False,  True], dtype=bool), array([ 79484, 109747]))\n",
      "(array([False,  True], dtype=bool), array([ 45885, 143346]))\n"
     ]
    }
   ],
   "source": [
    "variants_array = create_variants_array()"
   ]
  },
  {
   "cell_type": "code",
   "execution_count": 74,
   "metadata": {
    "collapsed": false
   },
   "outputs": [
    {
     "data": {
      "text/plain": [
       "(74726,)"
      ]
     },
     "execution_count": 74,
     "metadata": {},
     "output_type": "execute_result"
    }
   ],
   "source": [
    "variants_array.shape"
   ]
  },
  {
   "cell_type": "code",
   "execution_count": 81,
   "metadata": {
    "collapsed": false
   },
   "outputs": [
    {
     "data": {
      "text/plain": [
       "(array([b'', b'CODON_CHANGE_PLUS_CODON_DELETION',\n",
       "        b'CODON_CHANGE_PLUS_CODON_INSERTION', b'CODON_DELETION',\n",
       "        b'CODON_INSERTION', b'FRAME_SHIFT', b'INTERGENIC', b'INTRAGENIC',\n",
       "        b'INTRON', b'NON_SYNONYMOUS_CODING', b'SPLICE_SITE_ACCEPTOR',\n",
       "        b'SPLICE_SITE_DONOR', b'START_LOST', b'STOP_GAINED', b'STOP_LOST',\n",
       "        b'SYNONYMOUS_CODING', b'SYNONYMOUS_STOP'], \n",
       "       dtype='|S33'),\n",
       " array([  736,   102,   206,   367,  1936,  9486, 39416,  1371,  7103,\n",
       "        10101,     8,    11,     1,   255,     3,  3619,     5]))"
      ]
     },
     "execution_count": 81,
     "metadata": {},
     "output_type": "execute_result"
    }
   ],
   "source": [
    "np.unique(variants_array['SNPEFF_EFFECT'], return_counts=True)"
   ]
  },
  {
   "cell_type": "code",
   "execution_count": 78,
   "metadata": {
    "collapsed": false
   },
   "outputs": [
    {
     "name": "stdout",
     "output_type": "stream",
     "text": [
      "(array([False,  True], dtype=bool), array([33783, 40943]))\n",
      "(array([False,  True], dtype=bool), array([31958, 42768]))\n",
      "(array([False,  True], dtype=bool), array([36254, 38472]))\n"
     ]
    }
   ],
   "source": [
    "flt_pass = variants_array['VQSLOD'] > 0\n",
    "print(np.unique(flt_pass, return_counts=True))\n",
    "flt_core = variants_array['RegionType'] == b'Core'\n",
    "print(np.unique(flt_core, return_counts=True))\n",
    "flt_core_pass = (flt_pass & flt_core)\n",
    "print(np.unique(flt_core_pass, return_counts=True))\n"
   ]
  },
  {
   "cell_type": "code",
   "execution_count": 76,
   "metadata": {
    "collapsed": false
   },
   "outputs": [
    {
     "data": {
      "text/plain": [
       "array([b'SubtelomericRepeat', b'SubtelomericRepeat', b'SubtelomericRepeat',\n",
       "       ..., b'', b'', b''], \n",
       "      dtype='|S25')"
      ]
     },
     "execution_count": 76,
     "metadata": {},
     "output_type": "execute_result"
    }
   ],
   "source": [
    "variants_array['RegionType']"
   ]
  },
  {
   "cell_type": "code",
   "execution_count": 88,
   "metadata": {
    "collapsed": false
   },
   "outputs": [
    {
     "data": {
      "text/plain": [
       "(array([(False, b''), (False, b'CODON_CHANGE_PLUS_CODON_DELETION'),\n",
       "        (False, b'CODON_CHANGE_PLUS_CODON_INSERTION'),\n",
       "        (False, b'CODON_DELETION'), (False, b'CODON_INSERTION'),\n",
       "        (False, b'FRAME_SHIFT'), (False, b'INTERGENIC'),\n",
       "        (False, b'INTRAGENIC'), (False, b'INTRON'),\n",
       "        (False, b'NON_SYNONYMOUS_CODING'), (False, b'SPLICE_SITE_ACCEPTOR'),\n",
       "        (False, b'SPLICE_SITE_DONOR'), (False, b'STOP_GAINED'), (True, b''),\n",
       "        (True, b'CODON_CHANGE_PLUS_CODON_DELETION'),\n",
       "        (True, b'CODON_CHANGE_PLUS_CODON_INSERTION'),\n",
       "        (True, b'CODON_DELETION'), (True, b'CODON_INSERTION'),\n",
       "        (True, b'FRAME_SHIFT'), (True, b'INTERGENIC'),\n",
       "        (True, b'INTRAGENIC'), (True, b'INTRON'),\n",
       "        (True, b'NON_SYNONYMOUS_CODING'), (True, b'SPLICE_SITE_ACCEPTOR'),\n",
       "        (True, b'SPLICE_SITE_DONOR'), (True, b'START_LOST'),\n",
       "        (True, b'STOP_GAINED'), (True, b'STOP_LOST'),\n",
       "        (True, b'SYNONYMOUS_CODING'), (True, b'SYNONYMOUS_STOP')], \n",
       "       dtype=[('is_snp', '?'), ('SNPEFF_EFFECT', 'S33')]),\n",
       " array([  193,    70,   115,   315,  1788,  2955, 21715,   197,  5183,\n",
       "          673,     6,     8,    12,   543,    32,    91,    52,   148,\n",
       "         6531, 17701,  1174,  1920,  9428,     2,     3,     1,   243,\n",
       "            3,  3619,     5]))"
      ]
     },
     "execution_count": 88,
     "metadata": {},
     "output_type": "execute_result"
    }
   ],
   "source": [
    "np.unique((variants_array[['is_snp', 'SNPEFF_EFFECT']]), return_counts=True)\n",
    "# , np.in1d(variants_array['SNPEFF_EFFECT'], [b'INTERGENIC', b'INTRAGENIC'])))"
   ]
  },
  {
   "cell_type": "code",
   "execution_count": 86,
   "metadata": {
    "collapsed": false
   },
   "outputs": [
    {
     "data": {
      "text/plain": [
       "array([(True, b'INTERGENIC'), (False, b'INTERGENIC'),\n",
       "       (False, b'INTERGENIC'), ..., (False, b'CODON_INSERTION'),\n",
       "       (False, b'CODON_INSERTION'), (True, b'NON_SYNONYMOUS_CODING')], \n",
       "      dtype=[('is_snp', '?'), ('SNPEFF_EFFECT', 'S33')])"
      ]
     },
     "execution_count": 86,
     "metadata": {},
     "output_type": "execute_result"
    }
   ],
   "source": [
    "variants_array[['is_snp', 'SNPEFF_EFFECT']]"
   ]
  },
  {
   "cell_type": "code",
   "execution_count": 90,
   "metadata": {
    "collapsed": false
   },
   "outputs": [
    {
     "data": {
      "text/html": [
       "<table class='petl'>\n",
       "<thead>\n",
       "<tr>\n",
       "<th>0|CHROM</th>\n",
       "<th>1|POS</th>\n",
       "<th>2|ID</th>\n",
       "<th>3|REF</th>\n",
       "<th>4|ALT</th>\n",
       "<th>5|QUAL</th>\n",
       "<th>6|FILTER</th>\n",
       "<th>7|num_alleles</th>\n",
       "<th>8|is_snp</th>\n",
       "<th>9|svlen</th>\n",
       "<th>10|AC</th>\n",
       "<th>11|AF</th>\n",
       "<th>12|AN</th>\n",
       "<th>13|BaseQRankSum</th>\n",
       "<th>14|ClippingRankSum</th>\n",
       "<th>15|DP</th>\n",
       "<th>16|DS</th>\n",
       "<th>17|END</th>\n",
       "<th>18|FS</th>\n",
       "<th>19|GC</th>\n",
       "<th>20|HaplotypeScore</th>\n",
       "<th>21|InbreedingCoeff</th>\n",
       "<th>22|MLEAC</th>\n",
       "<th>23|MLEAF</th>\n",
       "<th>24|MQ</th>\n",
       "<th>25|MQRankSum</th>\n",
       "<th>26|NEGATIVE_TRAIN_SITE</th>\n",
       "<th>27|POSITIVE_TRAIN_SITE</th>\n",
       "<th>28|QD</th>\n",
       "<th>29|RPA</th>\n",
       "<th>30|RU</th>\n",
       "<th>31|ReadPosRankSum</th>\n",
       "<th>32|RegionType</th>\n",
       "<th>33|SNPEFF_AMINO_ACID_CHANGE</th>\n",
       "<th>34|SNPEFF_CODON_CHANGE</th>\n",
       "<th>35|SNPEFF_EFFECT</th>\n",
       "<th>36|SNPEFF_EXON_ID</th>\n",
       "<th>37|SNPEFF_FUNCTIONAL_CLASS</th>\n",
       "<th>38|SNPEFF_GENE_BIOTYPE</th>\n",
       "<th>39|SNPEFF_GENE_NAME</th>\n",
       "<th>40|SNPEFF_IMPACT</th>\n",
       "<th>41|SNPEFF_TRANSCRIPT_ID</th>\n",
       "<th>42|SOR</th>\n",
       "<th>43|STR</th>\n",
       "<th>44|VQSLOD</th>\n",
       "<th>45|VariantType</th>\n",
       "<th>46|culprit</th>\n",
       "<th>47|set</th>\n",
       "<th>48|alt</th>\n",
       "</tr>\n",
       "</thead>\n",
       "<tbody>\n",
       "<tr>\n",
       "<td>b'Pf3D7_01_v3'</td>\n",
       "<td>522</td>\n",
       "<td>b'.'</td>\n",
       "<td>b'C'</td>\n",
       "<td>[b'T' b'']</td>\n",
       "<td>89147.3</td>\n",
       "<td>(False, False, False, True, False, True, False, False, False, False, False, False)</td>\n",
       "<td>2</td>\n",
       "<td>True</td>\n",
       "<td>0</td>\n",
       "<td>[1 0]</td>\n",
       "<td>[ 0.5  0. ]</td>\n",
       "<td>2</td>\n",
       "<td>1.2695</td>\n",
       "<td>-0.056</td>\n",
       "<td>28</td>\n",
       "<td>False</td>\n",
       "<td>0</td>\n",
       "<td>0.62109</td>\n",
       "<td>28.57</td>\n",
       "<td>0.0</td>\n",
       "<td>0.0</td>\n",
       "<td>[0 0]</td>\n",
       "<td>[ 0.  0.]</td>\n",
       "<td>36.031</td>\n",
       "<td>0.60986</td>\n",
       "<td>False</td>\n",
       "<td>False</td>\n",
       "<td>7.5312</td>\n",
       "<td>[0 0 0]</td>\n",
       "<td>b''</td>\n",
       "<td>0.36108</td>\n",
       "<td>b'SubtelomericRepeat'</td>\n",
       "<td>b''</td>\n",
       "<td>b''</td>\n",
       "<td>b'INTERGENIC'</td>\n",
       "<td>b''</td>\n",
       "<td>b'NONE'</td>\n",
       "<td>b''</td>\n",
       "<td>b''</td>\n",
       "<td>b'MODIFIER'</td>\n",
       "<td>b''</td>\n",
       "<td>0.618</td>\n",
       "<td>False</td>\n",
       "<td>-19.58</td>\n",
       "<td>b'MULTIALLELIC_MIXED'</td>\n",
       "<td>b'MQ'</td>\n",
       "<td>b'FilteredInAll'</td>\n",
       "<td>b'T'</td>\n",
       "</tr>\n",
       "<tr>\n",
       "<td>b'Pf3D7_01_v3'</td>\n",
       "<td>1259</td>\n",
       "<td>b'.'</td>\n",
       "<td>b'TAG'</td>\n",
       "<td>[b'T' b'']</td>\n",
       "<td>74697.1</td>\n",
       "<td>(False, False, False, True, False, True, False, False, False, False, False, False)</td>\n",
       "<td>2</td>\n",
       "<td>False</td>\n",
       "<td>-2</td>\n",
       "<td>[1 0]</td>\n",
       "<td>[ 0.5  0. ]</td>\n",
       "<td>2</td>\n",
       "<td>0.72705</td>\n",
       "<td>0.21802</td>\n",
       "<td>5</td>\n",
       "<td>False</td>\n",
       "<td>0</td>\n",
       "<td>3.1738</td>\n",
       "<td>28.57</td>\n",
       "<td>0.0</td>\n",
       "<td>0.0</td>\n",
       "<td>[0 0]</td>\n",
       "<td>[ 0.  0.]</td>\n",
       "<td>36.125</td>\n",
       "<td>-0.091003</td>\n",
       "<td>False</td>\n",
       "<td>False</td>\n",
       "<td>8.5938</td>\n",
       "<td>[0 0 0]</td>\n",
       "<td>b''</td>\n",
       "<td>-1.999</td>\n",
       "<td>b'SubtelomericRepeat'</td>\n",
       "<td>b''</td>\n",
       "<td>b''</td>\n",
       "<td>b'INTERGENIC'</td>\n",
       "<td>b''</td>\n",
       "<td>b'NONE'</td>\n",
       "<td>b''</td>\n",
       "<td>b''</td>\n",
       "<td>b'MODIFIER'</td>\n",
       "<td>b''</td>\n",
       "<td>0.463</td>\n",
       "<td>False</td>\n",
       "<td>-17.8</td>\n",
       "<td>b'MULTIALLELIC_MIXED'</td>\n",
       "<td>b'MQ'</td>\n",
       "<td>b'FilteredInAll'</td>\n",
       "<td>b'T'</td>\n",
       "</tr>\n",
       "<tr>\n",
       "<td>b'Pf3D7_01_v3'</td>\n",
       "<td>1263</td>\n",
       "<td>b'.'</td>\n",
       "<td>b'A'</td>\n",
       "<td>[b'AGT' b'']</td>\n",
       "<td>1.03595e+06</td>\n",
       "<td>(False, False, False, True, False, True, False, False, False, False, False, False)</td>\n",
       "<td>2</td>\n",
       "<td>False</td>\n",
       "<td>2</td>\n",
       "<td>[1 0]</td>\n",
       "<td>[ 0.5  0. ]</td>\n",
       "<td>2</td>\n",
       "<td>-0.098999</td>\n",
       "<td>0.13501</td>\n",
       "<td>4</td>\n",
       "<td>False</td>\n",
       "<td>0</td>\n",
       "<td>1.3027</td>\n",
       "<td>28.57</td>\n",
       "<td>0.0</td>\n",
       "<td>0.0</td>\n",
       "<td>[0 0]</td>\n",
       "<td>[ 0.  0.]</td>\n",
       "<td>35.719</td>\n",
       "<td>-0.97705</td>\n",
       "<td>False</td>\n",
       "<td>False</td>\n",
       "<td>9.4062</td>\n",
       "<td>[0 0 0]</td>\n",
       "<td>b''</td>\n",
       "<td>-1.6191</td>\n",
       "<td>b'SubtelomericRepeat'</td>\n",
       "<td>b''</td>\n",
       "<td>b''</td>\n",
       "<td>b'INTERGENIC'</td>\n",
       "<td>b''</td>\n",
       "<td>b'NONE'</td>\n",
       "<td>b''</td>\n",
       "<td>b''</td>\n",
       "<td>b'MODIFIER'</td>\n",
       "<td>b''</td>\n",
       "<td>0.616</td>\n",
       "<td>False</td>\n",
       "<td>-18.09</td>\n",
       "<td>b'MULTIALLELIC_MIXED'</td>\n",
       "<td>b'MQ'</td>\n",
       "<td>b'FilteredInAll'</td>\n",
       "<td>b'AGT'</td>\n",
       "</tr>\n",
       "<tr>\n",
       "<td>b'Pf3D7_01_v3'</td>\n",
       "<td>1264</td>\n",
       "<td>b'.'</td>\n",
       "<td>b'C'</td>\n",
       "<td>[b'T' b'']</td>\n",
       "<td>117900.0</td>\n",
       "<td>(False, False, False, True, False, True, False, False, False, False, False, False)</td>\n",
       "<td>2</td>\n",
       "<td>True</td>\n",
       "<td>0</td>\n",
       "<td>[1 0]</td>\n",
       "<td>[ 0.5  0. ]</td>\n",
       "<td>2</td>\n",
       "<td>3.5996</td>\n",
       "<td>0.21204</td>\n",
       "<td>2</td>\n",
       "<td>False</td>\n",
       "<td>0</td>\n",
       "<td>0.625</td>\n",
       "<td>28.57</td>\n",
       "<td>0.0</td>\n",
       "<td>0.0</td>\n",
       "<td>[0 0]</td>\n",
       "<td>[ 0.  0.]</td>\n",
       "<td>36.094</td>\n",
       "<td>0.41406</td>\n",
       "<td>False</td>\n",
       "<td>False</td>\n",
       "<td>7.7305</td>\n",
       "<td>[0 0 0]</td>\n",
       "<td>b''</td>\n",
       "<td>0.20398</td>\n",
       "<td>b'SubtelomericRepeat'</td>\n",
       "<td>b''</td>\n",
       "<td>b''</td>\n",
       "<td>b'INTERGENIC'</td>\n",
       "<td>b''</td>\n",
       "<td>b'NONE'</td>\n",
       "<td>b''</td>\n",
       "<td>b''</td>\n",
       "<td>b'MODIFIER'</td>\n",
       "<td>b''</td>\n",
       "<td>0.752</td>\n",
       "<td>False</td>\n",
       "<td>-18.78</td>\n",
       "<td>b'MULTIALLELIC_MIXED'</td>\n",
       "<td>b'MQ'</td>\n",
       "<td>b'FilteredInAll'</td>\n",
       "<td>b'T'</td>\n",
       "</tr>\n",
       "<tr>\n",
       "<td>b'Pf3D7_01_v3'</td>\n",
       "<td>1297</td>\n",
       "<td>b'.'</td>\n",
       "<td>b'G'</td>\n",
       "<td>[b'T' b'']</td>\n",
       "<td>4.32891e+06</td>\n",
       "<td>(False, False, False, True, False, True, False, False, False, False, False, False)</td>\n",
       "<td>2</td>\n",
       "<td>True</td>\n",
       "<td>0</td>\n",
       "<td>[1 0]</td>\n",
       "<td>[ 0.5  0. ]</td>\n",
       "<td>2</td>\n",
       "<td>4.7383</td>\n",
       "<td>0.061005</td>\n",
       "<td>36</td>\n",
       "<td>False</td>\n",
       "<td>0</td>\n",
       "<td>0.54492</td>\n",
       "<td>42.86</td>\n",
       "<td>0.0</td>\n",
       "<td>0.0</td>\n",
       "<td>[0 0]</td>\n",
       "<td>[ 0.  0.]</td>\n",
       "<td>34.781</td>\n",
       "<td>-0.44189</td>\n",
       "<td>False</td>\n",
       "<td>False</td>\n",
       "<td>21.703</td>\n",
       "<td>[0 0 0]</td>\n",
       "<td>b''</td>\n",
       "<td>-0.60986</td>\n",
       "<td>b'SubtelomericRepeat'</td>\n",
       "<td>b''</td>\n",
       "<td>b''</td>\n",
       "<td>b'INTERGENIC'</td>\n",
       "<td>b''</td>\n",
       "<td>b'NONE'</td>\n",
       "<td>b''</td>\n",
       "<td>b''</td>\n",
       "<td>b'MODIFIER'</td>\n",
       "<td>b''</td>\n",
       "<td>0.78</td>\n",
       "<td>False</td>\n",
       "<td>-9.049</td>\n",
       "<td>b'SNP'</td>\n",
       "<td>b'MQ'</td>\n",
       "<td>b'FilteredInAll'</td>\n",
       "<td>b'T'</td>\n",
       "</tr>\n",
       "</tbody>\n",
       "</table>\n",
       "<p><strong>...</strong></p>"
      ]
     },
     "metadata": {},
     "output_type": "display_data"
    }
   ],
   "source": [
    "etl.fromarray(variants_array).display(index_header=True)"
   ]
  },
  {
   "cell_type": "code",
   "execution_count": 91,
   "metadata": {
    "collapsed": false
   },
   "outputs": [
    {
     "data": {
      "text/html": [
       "<table class='petl'>\n",
       "<thead>\n",
       "<tr>\n",
       "<th>0|CHROM</th>\n",
       "<th>1|POS</th>\n",
       "<th>2|REF</th>\n",
       "<th>3|alt</th>\n",
       "</tr>\n",
       "</thead>\n",
       "<tbody>\n",
       "<tr>\n",
       "<td>b'Pf3D7_01_v3'</td>\n",
       "<td>522</td>\n",
       "<td>b'C'</td>\n",
       "<td>b'T'</td>\n",
       "</tr>\n",
       "<tr>\n",
       "<td>b'Pf3D7_01_v3'</td>\n",
       "<td>1259</td>\n",
       "<td>b'TAG'</td>\n",
       "<td>b'T'</td>\n",
       "</tr>\n",
       "<tr>\n",
       "<td>b'Pf3D7_01_v3'</td>\n",
       "<td>1263</td>\n",
       "<td>b'A'</td>\n",
       "<td>b'AGT'</td>\n",
       "</tr>\n",
       "<tr>\n",
       "<td>b'Pf3D7_01_v3'</td>\n",
       "<td>1264</td>\n",
       "<td>b'C'</td>\n",
       "<td>b'T'</td>\n",
       "</tr>\n",
       "<tr>\n",
       "<td>b'Pf3D7_01_v3'</td>\n",
       "<td>1297</td>\n",
       "<td>b'G'</td>\n",
       "<td>b'T'</td>\n",
       "</tr>\n",
       "</tbody>\n",
       "</table>\n",
       "<p><strong>...</strong></p>"
      ]
     },
     "metadata": {},
     "output_type": "display_data"
    }
   ],
   "source": [
    "etl.fromarray(variants_array[['CHROM', 'POS', 'REF', 'alt']]).display(index_header=True)"
   ]
  },
  {
   "cell_type": "code",
   "execution_count": 122,
   "metadata": {
    "collapsed": true
   },
   "outputs": [],
   "source": [
    "import copy\n",
    "def create_consensus(variants_array,\n",
    "                     sample='7G8',\n",
    "                     ref_genome_fn='/lustre/scratch110/malaria/rp7/Pf3k/GATKbuild/Pfalciparum_GeneDB_Aug2015/Pfalciparum.genome.fasta',\n",
    "                     pos_output_format = '/lustre/scratch110/malaria/rp7/Pf3k/release4_candidate/consensus_alignment/pos/%s.pos',\n",
    "                     fasta_output_format = '/lustre/scratch110/malaria/rp7/Pf3k/release4_candidate/consensus_alignment/fasta/%s.fasta'):\n",
    "    ref_dict=SeqIO.to_dict(SeqIO.parse(open(ref_genome_fn), \"fasta\"))\n",
    "    pos_dir = os.path.dirname(pos_output_format % sample)\n",
    "    if not os.path.exists(pos_dir):\n",
    "        os.makedirs(pos_dir)\n",
    "    fasta_dir = os.path.dirname(fasta_output_format % sample)\n",
    "    if not os.path.exists(fasta_dir):\n",
    "        os.makedirs(fasta_dir)\n",
    "    pos_fo = open(pos_output_format % sample, 'w')\n",
    "    fasta_fo = open(fasta_output_format % sample, 'w')\n",
    "    mutable_ref_dict = copy.deepcopy(ref_dict)\n",
    "    for chrom in mutable_ref_dict:\n",
    "        mutable_ref_dict[chrom].seq = mutable_ref_dict[chrom].seq.tomutable()\n",
    "    previous_new_pos = 1\n",
    "    current_offset = 0\n",
    "    current_chrom = ''\n",
    "    for i, rec in enumerate(etl.fromarray(variants_array).data()):\n",
    "        if current_chrom != rec[0].decode(\"utf-8\"):\n",
    "            print(\"%s\\t%d\\t%d\\t%d\\t%d\" % (current_chrom, 0, 9999999, previous_new_pos, current_offset), file=pos_fo)  \n",
    "            current_chrom = rec[0].decode(\"utf-8\")\n",
    "            current_offset = 0\n",
    "            previous_new_pos = 1\n",
    "    #     if current_chrom == '':\n",
    "    #         current_chrom = rec[0]\n",
    "        reflen = len(rec[2])\n",
    "        altlen = len(rec[3])\n",
    "        pos = int(rec[1])\n",
    "        new_pos = pos + current_offset\n",
    "        print(\"%s\\t%d\\t%d\\t%d\\t%d\" % (rec[0].decode(\"utf-8\"), pos, new_pos, previous_new_pos, current_offset), file=pos_fo)  \n",
    "        previous_new_pos = new_pos\n",
    "        startpos = pos + current_offset - 1\n",
    "        endpos = pos + current_offset + reflen - 1   \n",
    "        mutable_ref_dict[rec[0].decode(\"utf-8\")].seq[startpos:endpos] = rec[3]\n",
    "        current_offset = current_offset + altlen - reflen\n",
    "#         if i%1000 == 0:\n",
    "#             print(current_chrom, current_offset)\n",
    "\n",
    "    print(\"%s\\t%d\\t%d\\t%d\\t%d\" % (current_chrom, 0, 9999999, previous_new_pos, current_offset), file=pos_fo)  \n",
    "    \n",
    "    for chrom in mutable_ref_dict:\n",
    "        SeqIO.write(mutable_ref_dict[chrom], fasta_fo, \"fasta\")\n",
    "    "
   ]
  },
  {
   "cell_type": "code",
   "execution_count": null,
   "metadata": {
    "collapsed": true
   },
   "outputs": [],
   "source": []
  },
  {
   "cell_type": "code",
   "execution_count": 125,
   "metadata": {
    "collapsed": false
   },
   "outputs": [],
   "source": [
    "def run_fdr_pipeline(sample='7G8'):\n",
    "    \n",
    "    print(\"Creating array %s\" % sample)\n",
    "    variants_array = create_variants_array(sample='7G8')\n",
    "    flt_pass = variants_array['VQSLOD'] > 0\n",
    "    flt_core = variants_array['RegionType'] == b'Core'\n",
    "    flt_core_pass = (flt_pass & flt_core)\n",
    "\n",
    "    print(\"Creating consensus %s\" % sample)\n",
    "    create_consensus(variants_array[flt_core_pass], sample='7G8')\n",
    "    "
   ]
  },
  {
   "cell_type": "code",
   "execution_count": 124,
   "metadata": {
    "collapsed": false
   },
   "outputs": [
    {
     "name": "stdout",
     "output_type": "stream",
     "text": [
      "Creating array 7G8\n",
      "(array([False,  True], dtype=bool), array([77353, 95081]))\n",
      "(array([False,  True], dtype=bool), array([ 34176, 138258]))\n",
      "Creating consensus 7G8\n"
     ]
    }
   ],
   "source": [
    "run_fdr_pipeline()"
   ]
  },
  {
   "cell_type": "code",
   "execution_count": null,
   "metadata": {
    "collapsed": true
   },
   "outputs": [],
   "source": []
  }
 ],
 "metadata": {
  "kernelspec": {
   "display_name": "Python 3",
   "language": "python",
   "name": "python3"
  },
  "language_info": {
   "codemirror_mode": {
    "name": "ipython",
    "version": 3
   },
   "file_extension": ".py",
   "mimetype": "text/x-python",
   "name": "python",
   "nbconvert_exporter": "python",
   "pygments_lexer": "ipython3",
   "version": "3.4.3"
  }
 },
 "nbformat": 4,
 "nbformat_minor": 0
}
