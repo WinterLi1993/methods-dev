{
 "metadata": {
  "name": "",
  "signature": "sha256:78964bb415de034f82fd4178c4756a3c01001e87142dc0e49177e7740a9701bb"
 },
 "nbformat": 3,
 "nbformat_minor": 0,
 "worksheets": [
  {
   "cells": [
    {
     "cell_type": "heading",
     "level": 1,
     "metadata": {},
     "source": [
      "Setup"
     ]
    },
    {
     "cell_type": "code",
     "collapsed": false,
     "input": [
      "%run _shared_setup.ipynb\n",
      "CACHE_DIR = os.path.join(CACHE_DIR, '20150918_assess_indel_filtering')\n",
      "PROCESSED_ASSEMBLED_SAMPLES_DIR = '/lustre/scratch110/malaria/rp7/Pf3k/GATKbuild/validation_results'"
     ],
     "language": "python",
     "metadata": {},
     "outputs": [
      {
       "output_type": "stream",
       "stream": "stdout",
       "text": [
        "python 3.4.1 |Anaconda 2.1.0 (x86_64)| (default, Sep 10 2014, 17:24:09) \n",
        "[GCC 4.2.1 (Apple Inc. build 5577)]\n",
        "numpy 1.9.2\n",
        "scipy 0.14.0\n",
        "pandas 0.14.1\n",
        "numexpr 2.3.1\n",
        "pysam 0.8.3\n",
        "petl 1.0.10\n",
        "petlx 1.0.3\n",
        "vcf 0.6.7\n",
        "h5py 2.3.1\n",
        "tables 3.1.1\n",
        "vcfplt 0.8\n",
        "mkdir: /nfs/team112_internal/production_files/Pf3k/methods/assembled_samples: File exists\r\n"
       ]
      },
      {
       "output_type": "stream",
       "stream": "stdout",
       "text": [
        "tbl_pgv_metadata length = 5729\n",
        "tbl_pgv_locations length = 102\n",
        "tbl_pf3k_metadata length = 2512\n",
        "tbl_pf_solaris length = 10879"
       ]
      },
      {
       "output_type": "stream",
       "stream": "stdout",
       "text": [
        "\n",
        "tbl_assembled_samples length = 11\n"
       ]
      }
     ],
     "prompt_number": 1
    },
    {
     "cell_type": "code",
     "collapsed": false,
     "input": [
      "PIPELINES_FN='%s/src/github/malariagen/methods-dev/pf3k_techbm/scripts/gatk_pipeline/pipeline_parameters_20150918.xlsx' % os.environ['HOME']\n",
      "PLOTS_DIR = '/Users/rpearson/Documents/projects/Pf3k_techbm/slides/20150915_assess_release4/plots'\n",
      "!mkdir -p {PLOTS_DIR}"
     ],
     "language": "python",
     "metadata": {},
     "outputs": [],
     "prompt_number": 2
    },
    {
     "cell_type": "code",
     "collapsed": false,
     "input": [
      "# CODING_EFFECTS = ['NON_SYNONYMOUS_CODING', 'SYNONYMOUS_CODING', 'STOP_GAINED']\n",
      "NONCODING_EFFECTS = ['INTERGENIC', 'INTRON', 'TRANSCRIPT']\n",
      " "
     ],
     "language": "python",
     "metadata": {},
     "outputs": [],
     "prompt_number": 3
    },
    {
     "cell_type": "code",
     "collapsed": false,
     "input": [
      "ref_dict=SeqIO.to_dict(SeqIO.parse(open(REF_GENOME), \"fasta\"))"
     ],
     "language": "python",
     "metadata": {},
     "outputs": [],
     "prompt_number": 4
    },
    {
     "cell_type": "heading",
     "level": 1,
     "metadata": {},
     "source": [
      "Copy data from malsrv2"
     ]
    },
    {
     "cell_type": "code",
     "collapsed": false,
     "input": [
      "tbl_pipelines = etl.fromxlsx(PIPELINES_FN)\n",
      "tbl_pipelines.display(index_header=True)"
     ],
     "language": "python",
     "metadata": {},
     "outputs": [
      {
       "html": [
        "<table class='petl'>\n",
        "<thead>\n",
        "<tr>\n",
        "<th>0|PIPELINE_NAME</th>\n",
        "<th>1|MAPPING_DIR</th>\n",
        "<th>2|BAMS_DIR</th>\n",
        "<th>3|UNFILTERED_DIR</th>\n",
        "<th>4|FILTERED_DIR</th>\n",
        "<th>5|ANNOTATED_DIR</th>\n",
        "<th>6|VQSR_ANNOTATIONS_SNP</th>\n",
        "<th>7|VQSR_ANNOTATIONS_INDEL</th>\n",
        "<th>8|MAX_GAUSSIANS_SNP</th>\n",
        "<th>9|MAX_GAUSSIANS_INDEL</th>\n",
        "<th>10|VQSR_TRAINING</th>\n",
        "<th>11|VQSR_PRIOR</th>\n",
        "<th>12|MIN_QUAL</th>\n",
        "<th>13|MAX_QUAL</th>\n",
        "</tr>\n",
        "</thead>\n",
        "<tbody>\n",
        "<tr>\n",
        "<td>default</td>\n",
        "<td>bwa_mem</td>\n",
        "<td>gatk_rec</td>\n",
        "<td>HaplotypeCaller</td>\n",
        "<td>crosses_truth</td>\n",
        "<td>SnpEff_region</td>\n",
        "<td>-an QD -an MQ -an MQRankSum -an ReadPosRankSum -an FS -an SOR -an DP</td>\n",
        "<td>-an QD -an DP -an FS -an SOR -an ReadPosRankSum -an MQRankSum</td>\n",
        "<td style='text-align: right'>8</td>\n",
        "<td style='text-align: right'>4</td>\n",
        "<td>crosses</td>\n",
        "<td style='text-align: right'>15</td>\n",
        "<td>None</td>\n",
        "<td>None</td>\n",
        "</tr>\n",
        "<tr>\n",
        "<td>no_QD_indel</td>\n",
        "<td>bwa_mem</td>\n",
        "<td>gatk_rec</td>\n",
        "<td>HaplotypeCaller</td>\n",
        "<td>no_QD_indel</td>\n",
        "<td>SnpEff_region</td>\n",
        "<td>-an QD -an MQ -an MQRankSum -an ReadPosRankSum -an FS -an SOR -an DP</td>\n",
        "<td>-an DP -an FS -an SOR -an ReadPosRankSum -an MQRankSum</td>\n",
        "<td style='text-align: right'>8</td>\n",
        "<td style='text-align: right'>4</td>\n",
        "<td>crosses</td>\n",
        "<td style='text-align: right'>15</td>\n",
        "<td>None</td>\n",
        "<td>None</td>\n",
        "</tr>\n",
        "<tr>\n",
        "<td>no_DP_indel</td>\n",
        "<td>bwa_mem</td>\n",
        "<td>gatk_rec</td>\n",
        "<td>HaplotypeCaller</td>\n",
        "<td>no_DP_indel</td>\n",
        "<td>SnpEff_region</td>\n",
        "<td>-an QD -an MQ -an MQRankSum -an ReadPosRankSum -an FS -an SOR -an DP</td>\n",
        "<td>-an QD -an FS -an SOR -an ReadPosRankSum -an MQRankSum</td>\n",
        "<td style='text-align: right'>8</td>\n",
        "<td style='text-align: right'>4</td>\n",
        "<td>crosses</td>\n",
        "<td style='text-align: right'>15</td>\n",
        "<td>None</td>\n",
        "<td>None</td>\n",
        "</tr>\n",
        "<tr>\n",
        "<td>no_FS_indel</td>\n",
        "<td>bwa_mem</td>\n",
        "<td>gatk_rec</td>\n",
        "<td>HaplotypeCaller</td>\n",
        "<td>no_FS_indel</td>\n",
        "<td>SnpEff_region</td>\n",
        "<td>-an QD -an MQ -an MQRankSum -an ReadPosRankSum -an FS -an SOR -an DP</td>\n",
        "<td>-an QD -an DP -an SOR -an ReadPosRankSum -an MQRankSum</td>\n",
        "<td style='text-align: right'>8</td>\n",
        "<td style='text-align: right'>4</td>\n",
        "<td>crosses</td>\n",
        "<td style='text-align: right'>15</td>\n",
        "<td>None</td>\n",
        "<td>None</td>\n",
        "</tr>\n",
        "<tr>\n",
        "<td>no_SOR_indel</td>\n",
        "<td>bwa_mem</td>\n",
        "<td>gatk_rec</td>\n",
        "<td>HaplotypeCaller</td>\n",
        "<td>no_SOR_indel</td>\n",
        "<td>SnpEff_region</td>\n",
        "<td>-an QD -an MQ -an MQRankSum -an ReadPosRankSum -an FS -an SOR -an DP</td>\n",
        "<td>-an QD -an DP -an FS -an ReadPosRankSum -an MQRankSum</td>\n",
        "<td style='text-align: right'>8</td>\n",
        "<td style='text-align: right'>4</td>\n",
        "<td>crosses</td>\n",
        "<td style='text-align: right'>15</td>\n",
        "<td>None</td>\n",
        "<td>None</td>\n",
        "</tr>\n",
        "</tbody>\n",
        "</table>\n",
        "<p><strong>...</strong></p>"
       ],
       "metadata": {},
       "output_type": "display_data"
      }
     ],
     "prompt_number": 5
    },
    {
     "cell_type": "code",
     "collapsed": false,
     "input": [],
     "language": "python",
     "metadata": {},
     "outputs": []
    },
    {
     "cell_type": "heading",
     "level": 1,
     "metadata": {},
     "source": [
      "Determine samples"
     ]
    },
    {
     "cell_type": "code",
     "collapsed": false,
     "input": [
      "tbl_samples_to_process = (tbl_assembled_samples\n",
      "    .cutout('Notes')\n",
      "    .selectnotnone('bam_fn')\n",
      "    .selecteq('To be used for', 'Validation')\n",
      "    .addfield('truth_vcf_filestem', lambda rec: os.path.join(\n",
      "        '/nfs/team112_internal/production_files/Pf3k/methods/assembled_samples',\n",
      "        'truth_vcfs_2',\n",
      "        \"truth_%s\" % rec['Isolate code']\n",
      "    ))\n",
      "    .cutout('To be used for')\n",
      "    .convert('ox_code', lambda v: 'ERS740937', where=lambda rec: rec['Isolate code'] == 'KE01')\n",
      "    .convert('ox_code', lambda v: 'ERS740936', where=lambda rec: rec['Isolate code'] == 'KH02')\n",
      "    .convert('ox_code', lambda v: 'ERS740940', where=lambda rec: rec['Isolate code'] == 'GN01')\n",
      ")\n",
      "tbl_samples_to_process.displayall(index_header=True)"
     ],
     "language": "python",
     "metadata": {},
     "outputs": [
      {
       "html": [
        "<table class='petl'>\n",
        "<thead>\n",
        "<tr>\n",
        "<th>0|Sample name</th>\n",
        "<th>1|Isolate code</th>\n",
        "<th>2|Cross parent?</th>\n",
        "<th>3|Origin</th>\n",
        "<th>4|Continent</th>\n",
        "<th>5|#contigs assemblies</th>\n",
        "<th>6|Both telomer repeats attached</th>\n",
        "<th>7|Icorned</th>\n",
        "<th>8|ox_code</th>\n",
        "<th>9|SRA accession</th>\n",
        "<th>10|coverage</th>\n",
        "<th>11|read length</th>\n",
        "<th>12|bam_fn</th>\n",
        "<th>13|truth_vcf_filestem</th>\n",
        "</tr>\n",
        "</thead>\n",
        "<tbody>\n",
        "<tr>\n",
        "<td>7G8</td>\n",
        "<td>7G8</td>\n",
        "<td>Yes</td>\n",
        "<td>Brazil</td>\n",
        "<td>S America</td>\n",
        "<td style='text-align: right'>17</td>\n",
        "<td style='text-align: right'>9</td>\n",
        "<td>75bp</td>\n",
        "<td>PG0083-C</td>\n",
        "<td>ERR027099</td>\n",
        "<td>87X</td>\n",
        "<td style='text-align: right'>76</td>\n",
        "<td>/nfs/team112_internal/production_files/Pf/4_0/PFprog3/PG0083_C/PG0083_C.bam</td>\n",
        "<td>/nfs/team112_internal/production_files/Pf3k/methods/assembled_samples/truth_vcfs_2/truth_7G8</td>\n",
        "</tr>\n",
        "<tr>\n",
        "<td>GB4</td>\n",
        "<td>GB4</td>\n",
        "<td>Yes</td>\n",
        "<td>Ghana</td>\n",
        "<td>W Africa</td>\n",
        "<td style='text-align: right'>26</td>\n",
        "<td style='text-align: right'>6</td>\n",
        "<td>75bp</td>\n",
        "<td>PG0084-C</td>\n",
        "<td>ERR027100</td>\n",
        "<td>104X</td>\n",
        "<td style='text-align: right'>76</td>\n",
        "<td>/nfs/team112_internal/production_files/Pf/4_0/PFprog3/PG0084_C/PG0084_C.bam</td>\n",
        "<td>/nfs/team112_internal/production_files/Pf3k/methods/assembled_samples/truth_vcfs_2/truth_GB4</td>\n",
        "</tr>\n",
        "<tr>\n",
        "<td>Kilifi</td>\n",
        "<td>KE01</td>\n",
        "<td>None</td>\n",
        "<td>Kenya</td>\n",
        "<td>E Africa</td>\n",
        "<td style='text-align: right'>22</td>\n",
        "<td style='text-align: right'>10</td>\n",
        "<td>250bp</td>\n",
        "<td>ERS740937</td>\n",
        "<td>None</td>\n",
        "<td>None</td>\n",
        "<td>100/250</td>\n",
        "<td>/nfs/pathogen003/tdo/Pfalciparum/PF3K/Reference12Genomes/Sharing_25Jun2015/cram/16503_1#3.cram</td>\n",
        "<td>/nfs/team112_internal/production_files/Pf3k/methods/assembled_samples/truth_vcfs_2/truth_KE01</td>\n",
        "</tr>\n",
        "<tr>\n",
        "<td>KH2</td>\n",
        "<td>KH02</td>\n",
        "<td>None</td>\n",
        "<td>Camdodia</td>\n",
        "<td>SE Asia</td>\n",
        "<td style='text-align: right'>22</td>\n",
        "<td style='text-align: right'>10</td>\n",
        "<td>250bp</td>\n",
        "<td>ERS740936</td>\n",
        "<td>None</td>\n",
        "<td>None</td>\n",
        "<td style='text-align: right'>250</td>\n",
        "<td>/nfs/pathogen003/tdo/Pfalciparum/PF3K/Reference12Genomes/Sharing_25Jun2015/cram/16503_1#2.cram</td>\n",
        "<td>/nfs/team112_internal/production_files/Pf3k/methods/assembled_samples/truth_vcfs_2/truth_KH02</td>\n",
        "</tr>\n",
        "<tr>\n",
        "<td>Guinea</td>\n",
        "<td>GN01</td>\n",
        "<td>None</td>\n",
        "<td>Guinea</td>\n",
        "<td>W Africa</td>\n",
        "<td style='text-align: right'>51</td>\n",
        "<td style='text-align: right'>10</td>\n",
        "<td>250bp</td>\n",
        "<td>ERS740940</td>\n",
        "<td>None</td>\n",
        "<td>None</td>\n",
        "<td style='text-align: right'>250</td>\n",
        "<td>/nfs/pathogen003/tdo/Pfalciparum/PF3K/Reference12Genomes/Sharing_25Jun2015/cram/16503_1#6.cram</td>\n",
        "<td>/nfs/team112_internal/production_files/Pf3k/methods/assembled_samples/truth_vcfs_2/truth_GN01</td>\n",
        "</tr>\n",
        "</tbody>\n",
        "</table>\n"
       ],
       "metadata": {},
       "output_type": "display_data"
      }
     ],
     "prompt_number": 6
    },
    {
     "cell_type": "heading",
     "level": 1,
     "metadata": {},
     "source": [
      "Functions"
     ]
    },
    {
     "cell_type": "code",
     "collapsed": false,
     "input": [
      "def determine_consensus_region(rec, column1=4, column2=11):\n",
      "    if rec[column1] is None:\n",
      "        return rec[column2]\n",
      "    elif rec[column2] is None:\n",
      "        return rec[column1]\n",
      "    elif rec[column1] == rec[column2]:\n",
      "        return rec[column1]\n",
      "    else:\n",
      "        return \"ERROR__%s__%s\" % (rec[column1], rec[column2])\n",
      "    "
     ],
     "language": "python",
     "metadata": {},
     "outputs": [],
     "prompt_number": 7
    },
    {
     "cell_type": "code",
     "collapsed": false,
     "input": [
      "def determine_consensus_region2(rec, column1=4, column2=41, column3=79):\n",
      "    vals = []\n",
      "    if(rec[column1] is not None):\n",
      "        vals.append(str(rec[column1]))\n",
      "    if(rec[column2] is not None):\n",
      "        vals.append(str(rec[column2]))\n",
      "    if(rec[column3] is not None):\n",
      "        vals.append(str(rec[column3]))\n",
      "    unique_vals = np.unique(vals)\n",
      "    return('__'.join(unique_vals))\n",
      "    "
     ],
     "language": "python",
     "metadata": {},
     "outputs": [],
     "prompt_number": 8
    },
    {
     "cell_type": "code",
     "collapsed": false,
     "input": [
      "def upstream(prv, cur, nxt):\n",
      "    if prv is None:\n",
      "        return None\n",
      "    else:\n",
      "        return cur.POS - prv.POS\n",
      "\n",
      "def downstream(prv, cur, nxt):\n",
      "    if nxt is None:\n",
      "        return None\n",
      "    else:\n",
      "        return nxt.POS - cur.POS\n",
      "\n",
      "def nearest(distance_previous, distance_next):\n",
      "    if distance_previous is None:\n",
      "        return(distance_next)\n",
      "    elif distance_next is None:\n",
      "        return(distance_previous)\n",
      "    else:\n",
      "        return(min(distance_previous, distance_next))\n"
     ],
     "language": "python",
     "metadata": {},
     "outputs": [],
     "prompt_number": 9
    },
    {
     "cell_type": "code",
     "collapsed": false,
     "input": [
      "def determine_mode(rec):\n",
      "    if len(rec['REF']) == len(str(rec['ALT'])):\n",
      "        return('SNP')\n",
      "    else:\n",
      "        return('INDEL')"
     ],
     "language": "python",
     "metadata": {},
     "outputs": [],
     "prompt_number": 10
    },
    {
     "cell_type": "code",
     "collapsed": false,
     "input": [
      "def trim_variants(ref, alt):\n",
      "#     print(ref, alt)\n",
      "    while len(ref) > 1 and len(alt) > 1 and ref[-1] == alt[-1]:\n",
      "        ref = ref[0:-1]\n",
      "        alt = alt[0:-1]\n",
      "    return((ref, alt))\n",
      " \n",
      "trim_variants('AATC', 'TC')[1]"
     ],
     "language": "python",
     "metadata": {},
     "outputs": [
      {
       "metadata": {},
       "output_type": "pyout",
       "prompt_number": 11,
       "text": [
        "'T'"
       ]
      }
     ],
     "prompt_number": 11
    },
    {
     "cell_type": "code",
     "collapsed": false,
     "input": [
      "fields_to_compare = ['QUAL', 'FILTER', 'AC', 'AF', 'AN', 'BaseQRankSum', 'ClippingRankSum', 'DP', 'FS', 'MLEAC', 'MLEAF', 'MQ',\n",
      "                     'MQRankSum', 'QD', 'ReadPosRankSum', 'RegionType', 'SNPEFF_EFFECT', 'SNPEFF_FUNCTIONAL_CLASS',\n",
      "                     'SNPEFF_IMPACT', 'SOR', 'VQSLOD', 'culprit', 'set', 'AD', 'GT']\n",
      "gatk_renames = dict(zip(fields_to_compare, ['gatk_%s' % field_name for field_name in fields_to_compare]))"
     ],
     "language": "python",
     "metadata": {},
     "outputs": [],
     "prompt_number": 12
    },
    {
     "cell_type": "code",
     "collapsed": false,
     "input": [
      "def assess_validation(isolate_code='7G8', chromosome='Pf3D7_01_v3', MAPPING_DIR='bwa_mem', BAMS_DIR='gatk_rec',\n",
      "                      UNFILTERED_DIR='HaplotypeCaller', FILTERED_DIR='alistair_ann', ANNOTATED_DIR='SnpEff_region',\n",
      "                      rewrite=False):\n",
      "    ox_code = tbl_samples_to_process.selecteq('Isolate code', isolate_code).values('ox_code')[0]\n",
      "    \n",
      "    tbl_truth_cache_dir = os.path.join(CACHE_DIR, 'tbl_truth', MAPPING_DIR, BAMS_DIR, UNFILTERED_DIR, FILTERED_DIR, ANNOTATED_DIR)\n",
      "    tbl_gatk_cache_dir = os.path.join(CACHE_DIR, 'tbl_gatk', MAPPING_DIR, BAMS_DIR, UNFILTERED_DIR, FILTERED_DIR, ANNOTATED_DIR)\n",
      "    tbl_comparison_cache_dir = os.path.join(CACHE_DIR, 'tbl_comparison', MAPPING_DIR, BAMS_DIR, UNFILTERED_DIR, FILTERED_DIR, ANNOTATED_DIR)\n",
      "    if not os.path.exists(tbl_truth_cache_dir):\n",
      "        os.makedirs(tbl_truth_cache_dir)\n",
      "    if not os.path.exists(tbl_gatk_cache_dir):\n",
      "        os.makedirs(tbl_gatk_cache_dir)\n",
      "    if not os.path.exists(tbl_comparison_cache_dir):\n",
      "        os.makedirs(tbl_comparison_cache_dir)\n",
      "    tbl_truth_cache_fn = os.path.join(tbl_truth_cache_dir, \"tbl_truth_%s.%s\" % (isolate_code, chromosome))\n",
      "    tbl_gatk_cache_fn = os.path.join(tbl_gatk_cache_dir, \"tbl_gatk_%s.%s\" % (isolate_code, chromosome))\n",
      "    tbl_comparison_cache_fn = os.path.join(tbl_comparison_cache_dir, \"tbl_comparison_%s.%s\" % (isolate_code, chromosome))\n",
      "    \n",
      "#     print(tbl_truth_cache_fn)\n",
      "#     print(tbl_gatk_cache_fn)\n",
      "#     print(tbl_comparison_cache_fn)\n",
      "    \n",
      "    if not os.path.exists(tbl_truth_cache_fn) or rewrite:\n",
      "        truth_vcf_fn = \"%s.%s.annotated.vcf.gz\" % (\n",
      "            tbl_samples_to_process.selecteq('Isolate code', isolate_code).values('truth_vcf_filestem')[0],\n",
      "            chromosome\n",
      "        )\n",
      "        \n",
      "        tbl_truth = (etl.fromvcf(truth_vcf_fn)\n",
      "            .unpackdict('INFO', samplesize=1000000)\n",
      "            .rename('ALT', 'truth_ALTs')\n",
      "            .addfield('ALT', lambda rec: str(rec[4][0]))\n",
      "            .addfield('Truth_is_coding', lambda rec: not rec['SNPEFF_EFFECT'] is None and not rec['SNPEFF_EFFECT'] in NONCODING_EFFECTS)\n",
      "            .cut(['CHROM', 'POS', 'REF', 'ALT', 'truth_ALTs', 'RegionType', 'Truth_is_coding', 'SNPEFF_AMINO_ACID_CHANGE', 'SNPEFF_EFFECT',\n",
      "                  'SNPEFF_GENE_NAME', 'SNPEFF_IMPACT', 'SNPEFF_TRANSCRIPT_ID', 'RPA', 'RU', 'STR'])\n",
      "            .addfield('Truth_RPA_REF', lambda rec: None if rec['RPA'] is None else str(rec['RPA'][0]))\n",
      "            .addfield('Truth_RPA_ALT', lambda rec: None if rec['RPA'] is None else str(rec['RPA'][1]))\n",
      "            .rename('RegionType', 'Truth_RegionType')\n",
      "            .rename('SNPEFF_AMINO_ACID_CHANGE', 'Truth_AAChange')\n",
      "            .rename('SNPEFF_EFFECT', 'Truth_Effect')\n",
      "            .rename('SNPEFF_GENE_NAME', 'Truth_Gene')\n",
      "            .rename('SNPEFF_IMPACT', 'Truth_Impact')\n",
      "            .rename('SNPEFF_TRANSCRIPT_ID', 'Truth_Transcript')\n",
      "            .addfieldusingcontext('Truth_distance_previous', upstream)\n",
      "            .addfieldusingcontext('Truth_distance_next', downstream)\n",
      "            .addfield('Truth_distance_nearest', lambda rec: nearest(rec['Truth_distance_previous'], rec['Truth_distance_next']))\n",
      "            .addfield('Truth_mode', determine_mode)\n",
      "        )\n",
      "        etl.topickle(tbl_truth, tbl_truth_cache_fn)\n",
      "    else:\n",
      "        tbl_truth = etl.frompickle(tbl_truth_cache_fn)\n",
      "        \n",
      "    if not os.path.exists(tbl_gatk_cache_fn) or rewrite:\n",
      "        gatk_vcf_fn = \"%s.SNP_INDEL.%s.vcf.gz\" % (\n",
      "            os.path.join(PROCESSED_ASSEMBLED_SAMPLES_DIR, MAPPING_DIR, BAMS_DIR, UNFILTERED_DIR, FILTERED_DIR, ANNOTATED_DIR,\n",
      "                         '_annotated_vcfs', 'filtered.annotated'),\n",
      "            chromosome\n",
      "        )\n",
      "        print(gatk_vcf_fn)\n",
      "        \n",
      "        tbl_gatk = (etl.fromvcf(gatk_vcf_fn)\n",
      "            .sort(['CHROM', 'POS'])\n",
      "            .vcfmeltsamples()\n",
      "            .vcfunpackcall()\n",
      "            .unpackdict('INFO', samplesize=1000000)\n",
      "            .selecteq('SAMPLE', ox_code)\n",
      "            .selectnotnone('GT')\n",
      "            .selectne('GT', '0/0')\n",
      "            .rename('ALT', 'gatk_ALTs')\n",
      "            .addfield('ALT', lambda rec: str(rec['gatk_ALTs'][int(rec['GT'][2])-1]))\n",
      "            .addfield('gatk_RPA_REF', lambda rec: None if rec['RPA'] is None else str(rec['RPA'][0]))\n",
      "            .addfield('gatk_RPA_ALT', lambda rec: None if rec['RPA'] is None else str(rec['RPA'][int(rec['GT'][2])]))\n",
      "            .rename('RPA', 'gatk_RPA')\n",
      "            .rename('STR', 'gatk_STR')\n",
      "            .rename('RU', 'gatk_RU')\n",
      "            .addfield('GATK_is_coding', lambda rec: not rec['SNPEFF_EFFECT'] is None and not rec['SNPEFF_EFFECT'] in NONCODING_EFFECTS)\n",
      "            .addfield('is_het', lambda rec: None if rec['GT'] is None else rec['GT'][0] != rec['GT'][2])\n",
      "            .rename(gatk_renames)\n",
      "#             .select('ALT', lambda rec: str(rec) != '<*:DEL>')\n",
      "            .select('ALT', lambda rec: str(rec) != '*')\n",
      "            .addfield('temp_REF', lambda rec: rec['REF'])\n",
      "            .addfield('temp_ALT', lambda rec: rec['ALT'])\n",
      "            .convert('REF', lambda ref, rec: trim_variants(rec['temp_REF'], rec['temp_ALT'])[0], pass_row=True)\n",
      "            .convert('ALT', lambda ref, rec: trim_variants(rec['temp_REF'], rec['temp_ALT'])[1], pass_row=True)\n",
      "            .addfieldusingcontext('GATK_distance_previous', upstream)\n",
      "            .addfieldusingcontext('GATK_distance_next', downstream)\n",
      "            .addfield('GATK_distance_nearest', lambda rec: nearest(rec['GATK_distance_previous'], rec['GATK_distance_next']))\n",
      "            .addfield('GATK_mode', determine_mode)\n",
      "        )\n",
      "        etl.topickle(tbl_gatk, tbl_gatk_cache_fn)\n",
      "    else:\n",
      "        tbl_gatk = etl.frompickle(tbl_gatk_cache_fn)\n",
      "        \n",
      "    if not os.path.exists(tbl_comparison_cache_fn) or rewrite:\n",
      "        truth_coords_fn = \"%s/Pf%s.filter.coords\" % (\n",
      "            '/nfs/pathogen003/tdo/Pfalciparum/PF3K/Reference12Genomes/Sharing_25Jun2015/SNP/',\n",
      "            isolate_code\n",
      "        )\n",
      "        assembly_chrom = \"Pf%s_%s\" % (isolate_code, chromosome[6:8])\n",
      "        tbl_coords = (etl.fromtsv(truth_coords_fn)\n",
      "            .pushheader(['ref_start', 'ref_end', 'assembly_start', 'assembly_end', 'ref_length', 'assembly_length', 'identity',\n",
      "                 'ref_chrom_length', 'assembly_chrom_length', 'ref_pct', 'assembly_pct', 'ref_chrom', 'assembly_chrom',\n",
      "                 'ignore'])\n",
      "            .selecteq('ref_chrom', chromosome)\n",
      "            .selecteq('assembly_chrom', assembly_chrom)\n",
      "            .cut(['ref_start', 'ref_end', 'assembly_chrom'])\n",
      "            .convertnumbers()\n",
      "        )\n",
      "        lkp = etl.intervallookup(tbl_coords, 'ref_start', 'ref_end', include_stop=True, value='assembly_chrom')\n",
      "        \n",
      "        tbl_comparison = (tbl_truth\n",
      "            .outerjoin(tbl_gatk, key=['CHROM', 'POS', 'REF', 'ALT'])\n",
      "            .addfield('IsInTruth', lambda rec: rec['Truth_RegionType'] is not None)\n",
      "            .addfield('IsInGATK', lambda rec: rec['gatk_RegionType'] is not None)\n",
      "            .addfield('RegionType', lambda rec: determine_consensus_region(rec, 'Truth_RegionType', 'gatk_RegionType'))\n",
      "            .addfield('IsCoding', lambda rec: determine_consensus_region(rec, 'Truth_is_coding', 'GATK_is_coding'))\n",
      "            .addfield('Effect', lambda rec: determine_consensus_region(rec, 'Truth_Effect', 'gatk_SNPEFF_EFFECT'))\n",
      "            .addfield('mode', lambda rec: determine_consensus_region(rec, 'Truth_mode', 'GATK_mode'))\n",
      "            .addfield('IsAccessible', lambda rec: len(lkp.search(rec['POS'])) > 0)\n",
      "            .sort('gatk_VQSLOD', reverse=True)\n",
      "        )\n",
      "        etl.topickle(tbl_comparison, tbl_comparison_cache_fn)\n",
      "    else:\n",
      "        tbl_comparison = etl.frompickle(tbl_comparison_cache_fn)\n",
      "        \n",
      "    return(tbl_comparison)\n"
     ],
     "language": "python",
     "metadata": {},
     "outputs": [],
     "prompt_number": 37
    },
    {
     "cell_type": "code",
     "collapsed": false,
     "input": [
      "pipelines_complete = ['default', 'alistair_ann']"
     ],
     "language": "python",
     "metadata": {},
     "outputs": [],
     "prompt_number": 38
    },
    {
     "cell_type": "code",
     "collapsed": false,
     "input": [
      "rewrite=False\n",
      "\n",
      "for rec in tbl_pipelines.data():\n",
      "#     if True:\n",
      "    if rec[0] in pipelines_complete:\n",
      "        annotated_vcfs_dir = \"%s/%s/%s/%s/%s/%s/\" % (PROCESSED_ASSEMBLED_SAMPLES_DIR, rec[1], rec[2], rec[3], rec[4], rec[5])\n",
      "\n",
      "        isolate_codes = list(tbl_samples_to_process.values('Isolate code'))\n",
      "        # isolate_codes = ['7G8']\n",
      "        chromosomes = ['Pf3D7_%02d_v3' % chrom for chrom in range(1,15)]\n",
      "\n",
      "        tbl_comparisons = collections.OrderedDict()\n",
      "        tbl_whole_genome_comparisons = collections.OrderedDict()\n",
      "\n",
      "    #     tbl_comparison_all_cache_dir = os.path.join(CACHE_DIR, 'tbl_comparison', rec[1], rec[2], rec[3], rec[4], rec[5])\n",
      "    #     tbl_comparison_all_cache_fn = os.path.join(tbl_comparison_all_cache_dir, \"tbl_comparison_all\")\n",
      "\n",
      "        # if not os.path.exists(tbl_comparison_all_cache_fn) or rewrite:\n",
      "        for isolate_code in isolate_codes:\n",
      "#             print(rec[0], isolate_code)\n",
      "            tbl_comparisons[isolate_code] = collections.OrderedDict()\n",
      "            for chromosome in chromosomes:\n",
      "                print(rec[0], isolate_code, chromosome)\n",
      "                tbl_comparisons[isolate_code][chromosome] = assess_validation(isolate_code, chromosome, MAPPING_DIR=rec[1],\n",
      "                                                                              BAMS_DIR=rec[2], UNFILTERED_DIR=rec[3],\n",
      "                                                                              FILTERED_DIR=rec[4], ANNOTATED_DIR=rec[5],\n",
      "                                                                              rewrite=rewrite)\n",
      "\n",
      "            tbl_comparison_cache_dir = os.path.join(CACHE_DIR, 'tbl_comparison', rec[1], rec[2], rec[3], rec[4], rec[5])\n",
      "            tbl_comparison_sample_cache_fn = os.path.join(tbl_comparison_cache_dir, \"tbl_comparison_%s\" % (isolate_code))\n",
      "            if not os.path.exists(tbl_comparison_sample_cache_fn) or rewrite:\n",
      "                tbl_whole_genome_comparisons[isolate_code] = (\n",
      "                    tbl_comparisons[isolate_code]['Pf3D7_01_v3']\n",
      "                    .cat(tbl_comparisons[isolate_code]['Pf3D7_02_v3'])\n",
      "                    .cat(tbl_comparisons[isolate_code]['Pf3D7_03_v3'])\n",
      "                    .cat(tbl_comparisons[isolate_code]['Pf3D7_04_v3'])\n",
      "                    .cat(tbl_comparisons[isolate_code]['Pf3D7_05_v3'])\n",
      "                    .cat(tbl_comparisons[isolate_code]['Pf3D7_06_v3'])\n",
      "                    .cat(tbl_comparisons[isolate_code]['Pf3D7_07_v3'])\n",
      "                    .cat(tbl_comparisons[isolate_code]['Pf3D7_08_v3'])\n",
      "                    .cat(tbl_comparisons[isolate_code]['Pf3D7_09_v3'])\n",
      "                    .cat(tbl_comparisons[isolate_code]['Pf3D7_10_v3'])\n",
      "                    .cat(tbl_comparisons[isolate_code]['Pf3D7_11_v3'])\n",
      "                    .cat(tbl_comparisons[isolate_code]['Pf3D7_12_v3'])\n",
      "                    .cat(tbl_comparisons[isolate_code]['Pf3D7_13_v3'])\n",
      "                    .cat(tbl_comparisons[isolate_code]['Pf3D7_14_v3'])\n",
      "                    .sort('gatk_VQSLOD', reverse=True)\n",
      "                )\n",
      "                etl.topickle(tbl_whole_genome_comparisons[isolate_code], tbl_comparison_sample_cache_fn)\n",
      "            else:\n",
      "                tbl_whole_genome_comparisons[isolate_code] = etl.frompickle(tbl_comparison_sample_cache_fn)\n",
      "                \n",
      "        tbl_comparison_sample_cache_fn = os.path.join(tbl_comparison_cache_dir, \"tbl_comparison_All\")\n",
      "        if not os.path.exists(tbl_comparison_sample_cache_fn) or rewrite:\n",
      "            tbl_whole_genome_comparisons['All'] = (\n",
      "                tbl_whole_genome_comparisons['7G8'].addfield('Sample', '7G8')\n",
      "                .cat(tbl_whole_genome_comparisons['GB4'].addfield('Sample', 'GB4'))\n",
      "                .cat(tbl_whole_genome_comparisons['KE01'].addfield('Sample', 'KE01'))\n",
      "                .cat(tbl_whole_genome_comparisons['KH02'].addfield('Sample', 'KH02'))\n",
      "                .cat(tbl_whole_genome_comparisons['GN01'].addfield('Sample', 'GN01'))\n",
      "                .sort('gatk_VQSLOD', reverse=True)\n",
      "            )\n",
      "            etl.topickle(tbl_whole_genome_comparisons['All'], tbl_comparison_sample_cache_fn)\n",
      "        else:\n",
      "            tbl_whole_genome_comparisons['All'] = etl.frompickle(tbl_comparison_sample_cache_fn)\n",
      "\n",
      "\n",
      "        #     etl.topickle(tbl_whole_genome_comparisons, tbl_comparison_all_cache_fn)\n",
      "        # else:\n",
      "        #     tbl_whole_genome_comparisons = etl.frompickle(tbl_comparison_all_cache_fn)\n",
      "\n"
     ],
     "language": "python",
     "metadata": {},
     "outputs": [
      {
       "output_type": "stream",
       "stream": "stdout",
       "text": [
        "default 7G8 Pf3D7_01_v3\n",
        "default"
       ]
      },
      {
       "output_type": "stream",
       "stream": "stdout",
       "text": [
        " 7G8 Pf3D7_02_v3\n",
        "default"
       ]
      },
      {
       "output_type": "stream",
       "stream": "stdout",
       "text": [
        " 7G8 Pf3D7_03_v3\n",
        "default"
       ]
      },
      {
       "output_type": "stream",
       "stream": "stdout",
       "text": [
        " 7G8 Pf3D7_04_v3\n",
        "default"
       ]
      },
      {
       "output_type": "stream",
       "stream": "stdout",
       "text": [
        " 7G8 Pf3D7_05_v3\n",
        "default"
       ]
      },
      {
       "output_type": "stream",
       "stream": "stdout",
       "text": [
        " 7G8 Pf3D7_06_v3\n",
        "default"
       ]
      },
      {
       "output_type": "stream",
       "stream": "stdout",
       "text": [
        " 7G8 Pf3D7_07_v3\n",
        "default"
       ]
      },
      {
       "output_type": "stream",
       "stream": "stdout",
       "text": [
        " 7G8 Pf3D7_08_v3\n",
        "default"
       ]
      },
      {
       "output_type": "stream",
       "stream": "stdout",
       "text": [
        " 7G8 Pf3D7_09_v3\n",
        "default"
       ]
      },
      {
       "output_type": "stream",
       "stream": "stdout",
       "text": [
        " 7G8 Pf3D7_10_v3\n",
        "default"
       ]
      },
      {
       "output_type": "stream",
       "stream": "stdout",
       "text": [
        " 7G8 Pf3D7_11_v3\n",
        "default"
       ]
      },
      {
       "output_type": "stream",
       "stream": "stdout",
       "text": [
        " 7G8 Pf3D7_12_v3\n",
        "default"
       ]
      },
      {
       "output_type": "stream",
       "stream": "stdout",
       "text": [
        " 7G8 Pf3D7_13_v3\n",
        "default"
       ]
      },
      {
       "output_type": "stream",
       "stream": "stdout",
       "text": [
        " 7G8 Pf3D7_14_v3\n",
        "default"
       ]
      },
      {
       "output_type": "stream",
       "stream": "stdout",
       "text": [
        " GB4 Pf3D7_01_v3\n",
        "default"
       ]
      },
      {
       "output_type": "stream",
       "stream": "stdout",
       "text": [
        " GB4 Pf3D7_02_v3\n",
        "default"
       ]
      },
      {
       "output_type": "stream",
       "stream": "stdout",
       "text": [
        " GB4 Pf3D7_03_v3\n",
        "default"
       ]
      },
      {
       "output_type": "stream",
       "stream": "stdout",
       "text": [
        " GB4 Pf3D7_04_v3\n",
        "default"
       ]
      },
      {
       "output_type": "stream",
       "stream": "stdout",
       "text": [
        " GB4 Pf3D7_05_v3\n",
        "default"
       ]
      },
      {
       "output_type": "stream",
       "stream": "stdout",
       "text": [
        " GB4 Pf3D7_06_v3\n",
        "default"
       ]
      },
      {
       "output_type": "stream",
       "stream": "stdout",
       "text": [
        " GB4 Pf3D7_07_v3\n",
        "default"
       ]
      },
      {
       "output_type": "stream",
       "stream": "stdout",
       "text": [
        " GB4 Pf3D7_08_v3\n",
        "default"
       ]
      },
      {
       "output_type": "stream",
       "stream": "stdout",
       "text": [
        " GB4 Pf3D7_09_v3\n",
        "default"
       ]
      },
      {
       "output_type": "stream",
       "stream": "stdout",
       "text": [
        " GB4 Pf3D7_10_v3\n",
        "default"
       ]
      },
      {
       "output_type": "stream",
       "stream": "stdout",
       "text": [
        " GB4 Pf3D7_11_v3\n",
        "default"
       ]
      },
      {
       "output_type": "stream",
       "stream": "stdout",
       "text": [
        " GB4 Pf3D7_12_v3\n",
        "default"
       ]
      },
      {
       "output_type": "stream",
       "stream": "stdout",
       "text": [
        " GB4 Pf3D7_13_v3\n",
        "default"
       ]
      },
      {
       "output_type": "stream",
       "stream": "stdout",
       "text": [
        " GB4 Pf3D7_14_v3\n",
        "default"
       ]
      },
      {
       "output_type": "stream",
       "stream": "stdout",
       "text": [
        " KE01 Pf3D7_01_v3\n",
        "default"
       ]
      },
      {
       "output_type": "stream",
       "stream": "stdout",
       "text": [
        " KE01 Pf3D7_02_v3\n",
        "default"
       ]
      },
      {
       "output_type": "stream",
       "stream": "stdout",
       "text": [
        " KE01 Pf3D7_03_v3\n",
        "default"
       ]
      },
      {
       "output_type": "stream",
       "stream": "stdout",
       "text": [
        " KE01 Pf3D7_04_v3\n",
        "default"
       ]
      },
      {
       "output_type": "stream",
       "stream": "stdout",
       "text": [
        " KE01 Pf3D7_05_v3\n",
        "default"
       ]
      },
      {
       "output_type": "stream",
       "stream": "stdout",
       "text": [
        " KE01 Pf3D7_06_v3\n",
        "default"
       ]
      },
      {
       "output_type": "stream",
       "stream": "stdout",
       "text": [
        " KE01 Pf3D7_07_v3\n",
        "default"
       ]
      },
      {
       "output_type": "stream",
       "stream": "stdout",
       "text": [
        " KE01 Pf3D7_08_v3\n",
        "default"
       ]
      },
      {
       "output_type": "stream",
       "stream": "stdout",
       "text": [
        " KE01 Pf3D7_09_v3\n",
        "default"
       ]
      },
      {
       "output_type": "stream",
       "stream": "stdout",
       "text": [
        " KE01 Pf3D7_10_v3\n",
        "default"
       ]
      },
      {
       "output_type": "stream",
       "stream": "stdout",
       "text": [
        " KE01 Pf3D7_11_v3\n",
        "default"
       ]
      },
      {
       "output_type": "stream",
       "stream": "stdout",
       "text": [
        " KE01 Pf3D7_12_v3\n",
        "default"
       ]
      },
      {
       "output_type": "stream",
       "stream": "stdout",
       "text": [
        " KE01 Pf3D7_13_v3\n",
        "default"
       ]
      },
      {
       "output_type": "stream",
       "stream": "stdout",
       "text": [
        " KE01 Pf3D7_14_v3\n",
        "default"
       ]
      },
      {
       "output_type": "stream",
       "stream": "stdout",
       "text": [
        " KH02 Pf3D7_01_v3\n",
        "default"
       ]
      },
      {
       "output_type": "stream",
       "stream": "stdout",
       "text": [
        " KH02 Pf3D7_02_v3\n",
        "default"
       ]
      },
      {
       "output_type": "stream",
       "stream": "stdout",
       "text": [
        " KH02 Pf3D7_03_v3\n",
        "default"
       ]
      },
      {
       "output_type": "stream",
       "stream": "stdout",
       "text": [
        " KH02 Pf3D7_04_v3\n",
        "default"
       ]
      },
      {
       "output_type": "stream",
       "stream": "stdout",
       "text": [
        " KH02 Pf3D7_05_v3\n",
        "default"
       ]
      },
      {
       "output_type": "stream",
       "stream": "stdout",
       "text": [
        " KH02 Pf3D7_06_v3\n",
        "default"
       ]
      },
      {
       "output_type": "stream",
       "stream": "stdout",
       "text": [
        " KH02 Pf3D7_07_v3\n",
        "default"
       ]
      },
      {
       "output_type": "stream",
       "stream": "stdout",
       "text": [
        " KH02 Pf3D7_08_v3\n",
        "default"
       ]
      },
      {
       "output_type": "stream",
       "stream": "stdout",
       "text": [
        " KH02 Pf3D7_09_v3\n",
        "default"
       ]
      },
      {
       "output_type": "stream",
       "stream": "stdout",
       "text": [
        " KH02 Pf3D7_10_v3\n",
        "default"
       ]
      },
      {
       "output_type": "stream",
       "stream": "stdout",
       "text": [
        " KH02 Pf3D7_11_v3\n",
        "default"
       ]
      },
      {
       "output_type": "stream",
       "stream": "stdout",
       "text": [
        " KH02 Pf3D7_12_v3\n",
        "default"
       ]
      },
      {
       "output_type": "stream",
       "stream": "stdout",
       "text": [
        " KH02 Pf3D7_13_v3\n",
        "default"
       ]
      },
      {
       "output_type": "stream",
       "stream": "stdout",
       "text": [
        " KH02 Pf3D7_14_v3\n",
        "default"
       ]
      },
      {
       "output_type": "stream",
       "stream": "stdout",
       "text": [
        " GN01 Pf3D7_01_v3\n",
        "default"
       ]
      },
      {
       "output_type": "stream",
       "stream": "stdout",
       "text": [
        " GN01 Pf3D7_02_v3\n",
        "default"
       ]
      },
      {
       "output_type": "stream",
       "stream": "stdout",
       "text": [
        " GN01 Pf3D7_03_v3\n",
        "default"
       ]
      },
      {
       "output_type": "stream",
       "stream": "stdout",
       "text": [
        " GN01 Pf3D7_04_v3\n",
        "default"
       ]
      },
      {
       "output_type": "stream",
       "stream": "stdout",
       "text": [
        " GN01 Pf3D7_05_v3\n",
        "default"
       ]
      },
      {
       "output_type": "stream",
       "stream": "stdout",
       "text": [
        " GN01 Pf3D7_06_v3\n",
        "default"
       ]
      },
      {
       "output_type": "stream",
       "stream": "stdout",
       "text": [
        " GN01 Pf3D7_07_v3\n",
        "default"
       ]
      },
      {
       "output_type": "stream",
       "stream": "stdout",
       "text": [
        " GN01 Pf3D7_08_v3\n",
        "default"
       ]
      },
      {
       "output_type": "stream",
       "stream": "stdout",
       "text": [
        " GN01 Pf3D7_09_v3\n",
        "default"
       ]
      },
      {
       "output_type": "stream",
       "stream": "stdout",
       "text": [
        " GN01 Pf3D7_10_v3\n",
        "default"
       ]
      },
      {
       "output_type": "stream",
       "stream": "stdout",
       "text": [
        " GN01 Pf3D7_11_v3\n",
        "default"
       ]
      },
      {
       "output_type": "stream",
       "stream": "stdout",
       "text": [
        " GN01 Pf3D7_12_v3\n",
        "default"
       ]
      },
      {
       "output_type": "stream",
       "stream": "stdout",
       "text": [
        " GN01 Pf3D7_13_v3\n",
        "default"
       ]
      },
      {
       "output_type": "stream",
       "stream": "stdout",
       "text": [
        " GN01 Pf3D7_14_v3\n",
        "alistair_ann"
       ]
      },
      {
       "output_type": "stream",
       "stream": "stdout",
       "text": [
        " 7G8 Pf3D7_01_v3\n",
        "alistair_ann"
       ]
      },
      {
       "output_type": "stream",
       "stream": "stdout",
       "text": [
        " 7G8 Pf3D7_02_v3\n",
        "alistair_ann"
       ]
      },
      {
       "output_type": "stream",
       "stream": "stdout",
       "text": [
        " 7G8 Pf3D7_03_v3\n",
        "alistair_ann"
       ]
      },
      {
       "output_type": "stream",
       "stream": "stdout",
       "text": [
        " 7G8 Pf3D7_04_v3\n",
        "alistair_ann"
       ]
      },
      {
       "output_type": "stream",
       "stream": "stdout",
       "text": [
        " 7G8 Pf3D7_05_v3\n",
        "alistair_ann"
       ]
      },
      {
       "output_type": "stream",
       "stream": "stdout",
       "text": [
        " 7G8 Pf3D7_06_v3\n",
        "alistair_ann"
       ]
      },
      {
       "output_type": "stream",
       "stream": "stdout",
       "text": [
        " 7G8 Pf3D7_07_v3\n",
        "alistair_ann"
       ]
      },
      {
       "output_type": "stream",
       "stream": "stdout",
       "text": [
        " 7G8 Pf3D7_08_v3\n",
        "alistair_ann"
       ]
      },
      {
       "output_type": "stream",
       "stream": "stdout",
       "text": [
        " 7G8 Pf3D7_09_v3\n",
        "alistair_ann"
       ]
      },
      {
       "output_type": "stream",
       "stream": "stdout",
       "text": [
        " 7G8 Pf3D7_10_v3\n",
        "alistair_ann"
       ]
      },
      {
       "output_type": "stream",
       "stream": "stdout",
       "text": [
        " 7G8 Pf3D7_11_v3\n",
        "alistair_ann"
       ]
      },
      {
       "output_type": "stream",
       "stream": "stdout",
       "text": [
        " 7G8 Pf3D7_12_v3\n",
        "alistair_ann"
       ]
      },
      {
       "output_type": "stream",
       "stream": "stdout",
       "text": [
        " 7G8 Pf3D7_13_v3\n",
        "alistair_ann"
       ]
      },
      {
       "output_type": "stream",
       "stream": "stdout",
       "text": [
        " 7G8 Pf3D7_14_v3\n",
        "alistair_ann"
       ]
      },
      {
       "output_type": "stream",
       "stream": "stdout",
       "text": [
        " GB4 Pf3D7_01_v3\n",
        "alistair_ann"
       ]
      },
      {
       "output_type": "stream",
       "stream": "stdout",
       "text": [
        " GB4 Pf3D7_02_v3\n",
        "alistair_ann"
       ]
      },
      {
       "output_type": "stream",
       "stream": "stdout",
       "text": [
        " GB4 Pf3D7_03_v3\n",
        "alistair_ann"
       ]
      },
      {
       "output_type": "stream",
       "stream": "stdout",
       "text": [
        " GB4 Pf3D7_04_v3\n",
        "alistair_ann"
       ]
      },
      {
       "output_type": "stream",
       "stream": "stdout",
       "text": [
        " GB4 Pf3D7_05_v3\n",
        "alistair_ann"
       ]
      },
      {
       "output_type": "stream",
       "stream": "stdout",
       "text": [
        " GB4 Pf3D7_06_v3\n",
        "alistair_ann"
       ]
      },
      {
       "output_type": "stream",
       "stream": "stdout",
       "text": [
        " GB4 Pf3D7_07_v3\n",
        "alistair_ann"
       ]
      },
      {
       "output_type": "stream",
       "stream": "stdout",
       "text": [
        " GB4 Pf3D7_08_v3\n",
        "alistair_ann"
       ]
      },
      {
       "output_type": "stream",
       "stream": "stdout",
       "text": [
        " GB4 Pf3D7_09_v3\n",
        "alistair_ann"
       ]
      },
      {
       "output_type": "stream",
       "stream": "stdout",
       "text": [
        " GB4 Pf3D7_10_v3\n",
        "alistair_ann"
       ]
      },
      {
       "output_type": "stream",
       "stream": "stdout",
       "text": [
        " GB4 Pf3D7_11_v3\n",
        "alistair_ann"
       ]
      },
      {
       "output_type": "stream",
       "stream": "stdout",
       "text": [
        " GB4 Pf3D7_12_v3\n",
        "alistair_ann"
       ]
      },
      {
       "output_type": "stream",
       "stream": "stdout",
       "text": [
        " GB4 Pf3D7_13_v3\n",
        "alistair_ann"
       ]
      },
      {
       "output_type": "stream",
       "stream": "stdout",
       "text": [
        " GB4 Pf3D7_14_v3\n",
        "alistair_ann"
       ]
      },
      {
       "output_type": "stream",
       "stream": "stdout",
       "text": [
        " KE01 Pf3D7_01_v3\n",
        "alistair_ann"
       ]
      },
      {
       "output_type": "stream",
       "stream": "stdout",
       "text": [
        " KE01 Pf3D7_02_v3\n",
        "alistair_ann"
       ]
      },
      {
       "output_type": "stream",
       "stream": "stdout",
       "text": [
        " KE01 Pf3D7_03_v3\n",
        "alistair_ann"
       ]
      },
      {
       "output_type": "stream",
       "stream": "stdout",
       "text": [
        " KE01 Pf3D7_04_v3\n",
        "alistair_ann"
       ]
      },
      {
       "output_type": "stream",
       "stream": "stdout",
       "text": [
        " KE01 Pf3D7_05_v3\n",
        "alistair_ann"
       ]
      },
      {
       "output_type": "stream",
       "stream": "stdout",
       "text": [
        " KE01 Pf3D7_06_v3\n",
        "alistair_ann"
       ]
      },
      {
       "output_type": "stream",
       "stream": "stdout",
       "text": [
        " KE01 Pf3D7_07_v3\n",
        "alistair_ann"
       ]
      },
      {
       "output_type": "stream",
       "stream": "stdout",
       "text": [
        " KE01 Pf3D7_08_v3\n",
        "alistair_ann"
       ]
      },
      {
       "output_type": "stream",
       "stream": "stdout",
       "text": [
        " KE01 Pf3D7_09_v3\n",
        "alistair_ann"
       ]
      },
      {
       "output_type": "stream",
       "stream": "stdout",
       "text": [
        " KE01 Pf3D7_10_v3\n",
        "alistair_ann"
       ]
      },
      {
       "output_type": "stream",
       "stream": "stdout",
       "text": [
        " KE01 Pf3D7_11_v3\n",
        "alistair_ann"
       ]
      },
      {
       "output_type": "stream",
       "stream": "stdout",
       "text": [
        " KE01 Pf3D7_12_v3\n",
        "alistair_ann"
       ]
      },
      {
       "output_type": "stream",
       "stream": "stdout",
       "text": [
        " KE01 Pf3D7_13_v3\n",
        "alistair_ann"
       ]
      },
      {
       "output_type": "stream",
       "stream": "stdout",
       "text": [
        " KE01 Pf3D7_14_v3\n",
        "alistair_ann"
       ]
      },
      {
       "output_type": "stream",
       "stream": "stdout",
       "text": [
        " KH02 Pf3D7_01_v3\n",
        "alistair_ann"
       ]
      },
      {
       "output_type": "stream",
       "stream": "stdout",
       "text": [
        " KH02 Pf3D7_02_v3\n",
        "alistair_ann"
       ]
      },
      {
       "output_type": "stream",
       "stream": "stdout",
       "text": [
        " KH02 Pf3D7_03_v3\n",
        "alistair_ann"
       ]
      },
      {
       "output_type": "stream",
       "stream": "stdout",
       "text": [
        " KH02 Pf3D7_04_v3\n",
        "alistair_ann"
       ]
      },
      {
       "output_type": "stream",
       "stream": "stdout",
       "text": [
        " KH02 Pf3D7_05_v3\n",
        "alistair_ann"
       ]
      },
      {
       "output_type": "stream",
       "stream": "stdout",
       "text": [
        " KH02 Pf3D7_06_v3\n",
        "alistair_ann"
       ]
      },
      {
       "output_type": "stream",
       "stream": "stdout",
       "text": [
        " KH02 Pf3D7_07_v3\n",
        "alistair_ann"
       ]
      },
      {
       "output_type": "stream",
       "stream": "stdout",
       "text": [
        " KH02 Pf3D7_08_v3\n",
        "alistair_ann"
       ]
      },
      {
       "output_type": "stream",
       "stream": "stdout",
       "text": [
        " KH02 Pf3D7_09_v3\n",
        "alistair_ann"
       ]
      },
      {
       "output_type": "stream",
       "stream": "stdout",
       "text": [
        " KH02 Pf3D7_10_v3\n",
        "alistair_ann"
       ]
      },
      {
       "output_type": "stream",
       "stream": "stdout",
       "text": [
        " KH02 Pf3D7_11_v3\n",
        "alistair_ann"
       ]
      },
      {
       "output_type": "stream",
       "stream": "stdout",
       "text": [
        " KH02 Pf3D7_12_v3\n",
        "alistair_ann"
       ]
      },
      {
       "output_type": "stream",
       "stream": "stdout",
       "text": [
        " KH02 Pf3D7_13_v3\n",
        "alistair_ann"
       ]
      },
      {
       "output_type": "stream",
       "stream": "stdout",
       "text": [
        " KH02 Pf3D7_14_v3\n",
        "alistair_ann"
       ]
      },
      {
       "output_type": "stream",
       "stream": "stdout",
       "text": [
        " GN01 Pf3D7_01_v3\n",
        "alistair_ann"
       ]
      },
      {
       "output_type": "stream",
       "stream": "stdout",
       "text": [
        " GN01 Pf3D7_02_v3\n",
        "alistair_ann"
       ]
      },
      {
       "output_type": "stream",
       "stream": "stdout",
       "text": [
        " GN01 Pf3D7_03_v3\n",
        "alistair_ann"
       ]
      },
      {
       "output_type": "stream",
       "stream": "stdout",
       "text": [
        " GN01 Pf3D7_04_v3\n",
        "alistair_ann"
       ]
      },
      {
       "output_type": "stream",
       "stream": "stdout",
       "text": [
        " GN01 Pf3D7_05_v3\n",
        "alistair_ann"
       ]
      },
      {
       "output_type": "stream",
       "stream": "stdout",
       "text": [
        " GN01 Pf3D7_06_v3\n",
        "alistair_ann"
       ]
      },
      {
       "output_type": "stream",
       "stream": "stdout",
       "text": [
        " GN01 Pf3D7_07_v3\n",
        "alistair_ann"
       ]
      },
      {
       "output_type": "stream",
       "stream": "stdout",
       "text": [
        " GN01 Pf3D7_08_v3\n",
        "alistair_ann"
       ]
      },
      {
       "output_type": "stream",
       "stream": "stdout",
       "text": [
        " GN01 Pf3D7_09_v3\n",
        "alistair_ann"
       ]
      },
      {
       "output_type": "stream",
       "stream": "stdout",
       "text": [
        " GN01 Pf3D7_10_v3\n",
        "alistair_ann"
       ]
      },
      {
       "output_type": "stream",
       "stream": "stdout",
       "text": [
        " GN01 Pf3D7_11_v3\n",
        "alistair_ann"
       ]
      },
      {
       "output_type": "stream",
       "stream": "stdout",
       "text": [
        " GN01 Pf3D7_12_v3\n",
        "alistair_ann"
       ]
      },
      {
       "output_type": "stream",
       "stream": "stdout",
       "text": [
        " GN01 Pf3D7_13_v3\n",
        "alistair_ann"
       ]
      },
      {
       "output_type": "stream",
       "stream": "stdout",
       "text": [
        " GN01 Pf3D7_14_v3\n"
       ]
      }
     ],
     "prompt_number": 39
    },
    {
     "cell_type": "code",
     "collapsed": false,
     "input": [
      "rewrite=False\n",
      "\n",
      "tbl_whole_genome_comparisons = collections.OrderedDict()\n",
      "comparison_arrays = collections.OrderedDict()\n",
      "\n",
      "for rec in tbl_pipelines.sort('PIPELINE_NAME').data():\n",
      "#     print(rec[0])\n",
      "#     if not rec[0] in ['hrun']:\n",
      "    if rec[0] in pipelines_complete:\n",
      "#     if True:\n",
      "        print(rec[0])\n",
      "        tbl_comparison_cache_dir = os.path.join(CACHE_DIR, 'tbl_comparison', rec[1], rec[2], rec[3], rec[4], rec[5])\n",
      "        tbl_comparison_sample_cache_fn = os.path.join(tbl_comparison_cache_dir, \"tbl_comparison_All\")\n",
      "        tbl_whole_genome_comparisons[rec[0]] = etl.frompickle(tbl_comparison_sample_cache_fn)\n",
      "        comparison_array_cache_fn = os.path.join(tbl_comparison_cache_dir, \"comparison_array.npy\")\n",
      "        if not os.path.exists(comparison_array_cache_fn) or rewrite:\n",
      "            comparison_array = etl.toarray(\n",
      "                tbl_whole_genome_comparisons[rec[0]]\n",
      "                .addfield('num_alts', lambda rec: 0 if rec['gatk_ALTs'] is None else len(rec['gatk_ALTs']))\n",
      "                .addfield('num_filters', lambda rec: 0 if rec['gatk_FILTER'] is None else len(rec['gatk_FILTER']))\n",
      "                .replace('Truth_distance_nearest', None, 0)\n",
      "                .replace('STR', None, False)\n",
      "                .replace('Effect', None, '')\n",
      "                .replace('gatk_VQSLOD', None, np.nan)\n",
      "#                 .replace('gatk_ALTs', None, np.nan)\n",
      "#                 .replace('gatk_FILTER', None, '')\n",
      "                .replace('gatk_QUAL', None, np.nan)\n",
      "#                 .replace('gatk_AC', None, np.nan)\n",
      "#                 .replace('gatk_AF', None, np.nan)\n",
      "#                 .replace('gatk_AN', None, np.nan)\n",
      "                .replace('gatk_BaseQRankSum', None, np.nan)\n",
      "                .replace('gatk_ClippingRankSum', None, np.nan)\n",
      "                .replace('GC', None, np.nan)\n",
      "                .replace('gatk_DP', None, np.nan)\n",
      "                .replace('gatk_FS', None, np.nan)\n",
      "                .replace('gatk_MQ', None, np.nan)\n",
      "                .replace('gatk_MQRankSum', None, np.nan)\n",
      "                .replace('gatk_QD', None, np.nan)\n",
      "                .replace('gatk_ReadPosRankSum', None, np.nan)\n",
      "                .replace('gatk_SOR', None, np.nan)\n",
      "                .replace('GQ', None, 0)\n",
      "#                 .replace('is_het', None, False)\n",
      "#                 .replace('NEGATIVE_TRAIN_SITE', None, False)\n",
      "#                 .replace('POSITIVE_TRAIN_SITE', None, False)\n",
      "#                 .replace('gatk_RPA_REF', None, )\n",
      "                .convert('gatk_RPA_REF', lambda rec: np.nan if rec is None else int(rec))\n",
      "                .convert('gatk_RPA_ALT', lambda rec: np.nan if rec is None else int(rec))\n",
      "#                 .replace('gatk_RPA_ALT', None, '')\n",
      "                .replace('gatk_RU', None, '')\n",
      "                .replace('gatk_SNPEFF_IMPACT', None, '')\n",
      "                .replace('gatk_STR', None, False)\n",
      "                .replace('gatk_culprit', None, '')\n",
      "                .replace('gatk_set', None, '')\n",
      "                .cut(['CHROM', 'POS', 'IsInTruth', 'IsInGATK', 'RegionType', 'IsCoding', 'Effect', 'mode', 'IsAccessible',\n",
      "                    'Truth_distance_nearest', 'STR',\n",
      "                    'gatk_VQSLOD',\n",
      "                    'num_alts',\n",
      "                    'num_filters',\n",
      "                    'gatk_QUAL',\n",
      "# #                     #'gatk_AC', 'gatk_AF', 'gatk_AN',\n",
      "                    'gatk_BaseQRankSum', 'gatk_ClippingRankSum',\n",
      "                    'GQ', 'GC', 'gatk_MQ', 'gatk_MQRankSum', 'gatk_QD',\n",
      "                    'gatk_ReadPosRankSum', 'gatk_SOR',\n",
      "# 'GQ',\n",
      "#                     'NEGATIVE_TRAIN_SITE', 'POSITIVE_TRAIN_SITE',\n",
      "                    'gatk_RPA_REF',\n",
      "                    'gatk_RPA_ALT', 'gatk_RU',\n",
      "                    'gatk_SNPEFF_IMPACT', 'gatk_STR', 'gatk_culprit', 'gatk_set'\n",
      "                ])\n",
      "            )\n",
      "            np.save(comparison_array_cache_fn, comparison_array)\n",
      "        else:\n",
      "            comparison_array = np.load(comparison_array_cache_fn)\n",
      "        comparison_arrays[rec[0]] = comparison_array\n"
     ],
     "language": "python",
     "metadata": {},
     "outputs": [
      {
       "output_type": "stream",
       "stream": "stdout",
       "text": [
        "alistair_ann\n",
        "default"
       ]
      },
      {
       "output_type": "stream",
       "stream": "stdout",
       "text": [
        "\n"
       ]
      }
     ],
     "prompt_number": 58
    },
    {
     "cell_type": "code",
     "collapsed": false,
     "input": [
      "print(len(tbl_whole_genome_comparisons['default'].data()))\n",
      "print(len(tbl_whole_genome_comparisons['alistair_ann'].data()))"
     ],
     "language": "python",
     "metadata": {},
     "outputs": [
      {
       "output_type": "stream",
       "stream": "stdout",
       "text": [
        "582034\n",
        "582034"
       ]
      },
      {
       "output_type": "stream",
       "stream": "stdout",
       "text": [
        "\n"
       ]
      }
     ],
     "prompt_number": 59
    },
    {
     "cell_type": "code",
     "collapsed": false,
     "input": [
      "print(shape(comparison_arrays['default']))\n",
      "print(shape(comparison_arrays['alistair_ann']))"
     ],
     "language": "python",
     "metadata": {},
     "outputs": [
      {
       "output_type": "stream",
       "stream": "stdout",
       "text": [
        "(582034,)\n",
        "(582034,)\n"
       ]
      }
     ],
     "prompt_number": 60
    },
    {
     "cell_type": "code",
     "collapsed": false,
     "input": [
      "test_filters = collections.OrderedDict()\n",
      "test_variants = collections.OrderedDict()\n",
      "# for pipeline in pipelines_complete:\n",
      "for pipeline in pipelines_complete:\n",
      "    print(pipeline)\n",
      "    test_filters[pipeline] = (\n",
      "        (comparison_arrays[pipeline]['IsInGATK']) &\n",
      "        (comparison_arrays[pipeline]['RegionType'] == 'Core') &\n",
      "        (comparison_arrays[pipeline]['IsCoding'] == 'True') &\n",
      "        (comparison_arrays[pipeline]['IsAccessible'] == True) &\n",
      "        (np.in1d(comparison_arrays[pipeline]['mode'], ['IND', 'False__INDEL', 'False__True__IND', 'INDEL__True']))\n",
      "    #     (comparison_arrays['alistair_ann']['STR'] == True)\n",
      "    )\n",
      "    test_variants[pipeline] = comparison_arrays[pipeline][test_filters[pipeline]]"
     ],
     "language": "python",
     "metadata": {},
     "outputs": [
      {
       "output_type": "stream",
       "stream": "stdout",
       "text": [
        "default\n",
        "alistair_ann"
       ]
      },
      {
       "output_type": "stream",
       "stream": "stdout",
       "text": [
        "\n"
       ]
      }
     ],
     "prompt_number": 61
    },
    {
     "cell_type": "code",
     "collapsed": false,
     "input": [],
     "language": "python",
     "metadata": {},
     "outputs": []
    },
    {
     "cell_type": "code",
     "collapsed": false,
     "input": [],
     "language": "python",
     "metadata": {},
     "outputs": []
    },
    {
     "cell_type": "code",
     "collapsed": false,
     "input": [],
     "language": "python",
     "metadata": {},
     "outputs": []
    },
    {
     "cell_type": "code",
     "collapsed": false,
     "input": [],
     "language": "python",
     "metadata": {},
     "outputs": []
    },
    {
     "cell_type": "code",
     "collapsed": false,
     "input": [
      "def calc_indel_vqslod_summary_table(isolate_code='All', min_Truth_distance_nearest=0, min_VQSLOD=-99999):\n",
      "    aggregation = collections.OrderedDict()\n",
      "    aggregation['# Variants'] = 'IsInGATK', sum\n",
      "    aggregation['# TP'] = 'IsInTruth', sum\n",
      "    aggregation['# Coding'] = ('IsCoding'), lambda rec: np.sum([x=='True' for x in list(rec)])\n",
      "    aggregation['# Coding indels'] = ('REF', 'ALT', 'IsCoding'), lambda rec: np.sum([x[2]=='True' and (len(x[0]) > 1 or len(x[1]) > 1 ) for x in list(rec)])\n",
      "#     aggregation['Ti'] = ('REF', 'ALT'), lambda rec: calc_ti(list(rec))\n",
      "#     aggregation['Tv'] = ('REF', 'ALT'), lambda rec: calc_tv(list(rec))\n",
      "#     aggregation['TiTv'] = ('REF', 'ALT'), lambda rec: calc_titv(list(rec))\n",
      "    aggregation['# Coding indels mod3'] = ('REF', 'ALT', 'IsCoding'), lambda rec: np.sum([x[2]=='True' and (len(x[0]) > 1 or len(x[1]) > 1 ) and (len(x[0]) - len(x[1])) % 3 == 0 for x in list(rec)])\n",
      "    aggregation['NUM_MULTIALLELIC_COMPLEX'] = 'vt1', lambda rec: np.sum([x == 'MULTIALLELIC_COMPLEX' for x in list(rec)])\n",
      "    aggregation['NUM_MULTIALLELIC_MIXED'] = 'vt1', lambda rec: np.sum([x == 'MULTIALLELIC_MIXED' for x in list(rec)])\n",
      "    aggregation['NUM_INSERTION'] = 'vt1', lambda rec: np.sum([x == 'INSERTION' for x in list(rec)])\n",
      "    aggregation['NUM_DELETION'] = 'vt1', lambda rec: np.sum([x == 'DELETION' for x in list(rec)])\n",
      "    aggregation['NUM_1rep'] = 'event_len', lambda rec: np.sum([x == 1 for x in list(rec)])\n",
      "    aggregation['NUM_1rep_DEL'] = ('event_len', 'vt1'), lambda rec: np.sum([x[0] == 1 and x[1] == 'DELETION' for x in list(rec)])\n",
      "    aggregation['# het'] = 'is_het', sum\n",
      "    aggregation['# <10bp nearest'] = 'GATK_distance_nearest', lambda rec: np.sum([x < 10 for x in list(rec)])\n",
      "    aggregation['# >=100bp nearest'] = 'GATK_distance_nearest', lambda rec: np.sum([x >= 100 for x in list(rec)])\n",
      "    aggregation['median nearest'] = 'GATK_distance_nearest', lambda rec: np.nanmedian([x for x in list(rec)])\n",
      "    aggregation['median QUAL'] = 'gatk_QUAL', lambda rec: np.nanmedian([x for x in list(rec)])\n",
      "    aggregation['median DP'] = 'gatk_DP', lambda rec: np.nanmedian([x for x in list(rec)])\n",
      "    aggregation['median GQ'] = 'GQ', lambda rec: np.nanmedian([x for x in list(rec)])\n",
      "    aggregation['median gatk_BaseQRankSum'] = 'gatk_BaseQRankSum', lambda rec: np.nanmedian([x for x in list(rec) if x is not None])\n",
      "    aggregation['# gatk_BaseQRankSum'] = 'gatk_BaseQRankSum', lambda rec: np.sum([x is not None for x in list(rec) if x is not None])\n",
      "    aggregation['# gatk_FS'] = 'gatk_FS', lambda rec: np.sum([x is not None for x in list(rec) if x is not None])\n",
      "    aggregation['median gatk_ClippingRankSum'] = 'gatk_ClippingRankSum', lambda rec: np.nanmedian([x for x in list(rec) if x is not None])\n",
      "    aggregation['median gatk_FS'] = 'gatk_FS', lambda rec: np.nanmedian([x for x in list(rec) if x is not None])\n",
      "    aggregation['median gatk_MQ'] = 'gatk_MQ', lambda rec: np.nanmedian([x for x in list(rec) if x is not None])\n",
      "    aggregation['median gatk_MQRankSum'] = 'gatk_MQRankSum', lambda rec: np.nanmedian([x for x in list(rec) if x is not None])\n",
      "    aggregation['median gatk_QD'] = 'gatk_QD', lambda rec: np.nanmedian([x for x in list(rec) if x is not None])\n",
      "    aggregation['median gatk_SOR'] = 'gatk_SOR', lambda rec: np.nanmedian([x for x in list(rec) if x is not None])\n",
      "    aggregation['mean #ALTs'] = 'gatk_ALTs', lambda rec: np.mean([len(x) for x in list(rec) if x is not None])\n",
      "    aggregation['# multiallelic'] = 'gatk_ALTs', lambda rec: np.sum([len(x) > 1 for x in list(rec) if x is not None])\n",
      "      \n",
      "    \n",
      "    tbl_variant_summary = (tbl_whole_genome_comparisons[isolate_code]\n",
      "        .selecteq('mode', 'INDEL')\n",
      "        .selecteq('RegionType', 'Core')\n",
      "        .selecteq('IsCoding', 'True')\n",
      "        .selecteq('IsAccessible', True)\n",
      "        .selectnotnone('gatk_VQSLOD')\n",
      "        .addfield('int_VQSLOD', lambda rec: None if rec['gatk_VQSLOD'] is None else 0 if rec['gatk_VQSLOD'] <= 0 else 6 if rec['gatk_VQSLOD'] >= 6 else int(rec['gatk_VQSLOD']))\n",
      "        .addfield('vt1', lambda rec: None if rec['VariantType'] is None else rec['VariantType'].split('.')[0])\n",
      "        .addfield('num_reps', lambda rec: None if re.match(r'.*NumRepetitions_([0-9]+)\\..*', rec['VariantType']) is None else int(re.sub(r'.*NumRepetitions_([0-9]+)\\..*', r'\\1', rec['VariantType'])))\n",
      "        .addfield('event_len', lambda rec: None if re.match(r'.*EventLength_([0-9]+).*', rec['VariantType']) is None else int(re.sub(r'.*EventLength_([0-9]+).*', r'\\1', rec['VariantType'])))\n",
      "        .addfield('is_het', lambda rec: None if rec['gatk_GT'] is None else rec['gatk_GT'][0] != rec['gatk_GT'][2])\n",
      "#         .selectge('Truth_distance_nearest', 100)\n",
      "#         .addfield('Truth_distance_log10', lambda rec: 2 if rec['Truth_distance_nearest'] > 100 else 0 if rec['Truth_distance_nearest'] < 1 else int(log10(rec['Truth_distance_nearest'])))\n",
      "#         .aggregate(('CHROM'), aggregation)\n",
      "        .aggregate(('int_VQSLOD'), aggregation) \n",
      "        .addfield('% Frameshift indels', lambda rec: 0.0 if rec['# Coding indels'] == 0 else round(1.0 - (rec['# Coding indels mod3'] / rec['# Coding indels']), 3))\n",
      "        .addfield('% MULTIALLELIC_COMPLEX', lambda rec: round(rec['NUM_MULTIALLELIC_COMPLEX'] / rec['# Variants'], 3))\n",
      "        .addfield('% MULTIALLELIC_MIXED', lambda rec: round(rec['NUM_MULTIALLELIC_MIXED'] / rec['# Variants'], 3))\n",
      "        .addfield('% INSERTION', lambda rec: round(rec['NUM_INSERTION'] / rec['# Variants'], 3))\n",
      "        .addfield('% DELETION', lambda rec: round(rec['NUM_DELETION'] / rec['# Variants'], 3))\n",
      "        .addfield('% NUM_1rep', lambda rec: round(rec['NUM_1rep'] / rec['# Variants'], 3))\n",
      "        .addfield('% NUM_1rep_DEL', lambda rec: round(rec['NUM_1rep_DEL'] / rec['# Variants'], 3))\n",
      "        .addfield('% het', lambda rec: round(rec['# het'] / rec['# Variants'], 3))\n",
      "        .addfield('% <10bp nearest', lambda rec: round(rec['# <10bp nearest'] / rec['# Variants'], 3))\n",
      "        .addfield('% >=100bp nearest', lambda rec: round(rec['# >=100bp nearest'] / rec['# Variants'], 3))\n",
      "        .addfield('% gatk_BaseQRankSum', lambda rec: round(rec['# gatk_BaseQRankSum'] / rec['# Variants'], 3))\n",
      "        .addfield('% multiallelic', lambda rec: round(rec['# multiallelic'] / rec['# Variants'], 3))\n",
      "    )\n",
      "    \n",
      "    return(tbl_variant_summary)"
     ],
     "language": "python",
     "metadata": {},
     "outputs": [],
     "prompt_number": 294
    },
    {
     "cell_type": "code",
     "collapsed": false,
     "input": [
      "def plotFDRsens(pipeline='default', RegionType='Core', IsCoding=True, mode='SNP', x_var='FDR',\n",
      "            min_Truth_distance_nearest=100, min_GATK_distance_nearest=0, sort_by=None, sort_reverse=True,\n",
      "            annotate_values=None, selected_threshold=0, show_annotations=False, ymax=1.0, xmax=1.0, ax=None):\n",
      "    \n",
      "    if annotate_values is None:\n",
      "        if mode=='SNP':\n",
      "            annotate_values = [-999, 0, 4, 6, 8]\n",
      "        else:\n",
      "            annotate_values = [-999, 0, 2, 4, 6]\n",
      "    # set up axes\n",
      "    if ax is None:\n",
      "        fig, ax = plt.subplots()\n",
      "\n",
      "    if(sort_by is None):\n",
      "        array_to_plot = (tbl_whole_genome_comparisons[pipeline]\n",
      "            .selecteq('mode', mode)\n",
      "            .selecteq('RegionType', RegionType)\n",
      "            .selecteq('IsCoding', IsCoding)\n",
      "            .selecteq('IsAccessible', True)\n",
      "            .addfield('is_frameshift', lambda rec: (len(rec['REF']) - len(rec['ALT'])) % 3 != 0)\n",
      "            .addfield('TruthUnclustered', lambda rec: False if rec['Truth_distance_nearest'] is None else rec['Truth_distance_nearest'] >= min_Truth_distance_nearest)\n",
      "            .cut(['IsInGATK', 'IsInTruth', 'TruthUnclustered', 'gatk_VQSLOD'])\n",
      "        ).toarray()\n",
      "        annotate_indices = np.array([np.sum(array_to_plot['gatk_VQSLOD'] >= value) for value in annotate_values])\n",
      "        \n",
      "    else:\n",
      "        array_to_plot = (tbl_whole_genome_comparisons[pipeline]\n",
      "            .selecteq('mode', mode)\n",
      "            .selecteq('RegionType', RegionType)\n",
      "            .selecteq('IsCoding', IsCoding)\n",
      "            .selecteq('IsAccessible', True)\n",
      "            .addfield('TruthUnclustered', lambda rec: False if rec['Truth_distance_nearest'] is None else rec['Truth_distance_nearest'] >= min_Truth_distance_nearest)\n",
      "            .sort(sort_by, reverse=sort_reverse)\n",
      "            .cut(['IsInGATK', 'IsInTruth', 'TruthUnclustered', 'gatk_VQSLOD', sort_by])\n",
      "        ).toarray()\n",
      "        annotate_indices = np.array([np.sum(array_to_plot[sort_by] >= value) for value in annotate_values])\n",
      "\n",
      "    TPs_unclustered = np.cumsum(array_to_plot['IsInGATK'] & array_to_plot['TruthUnclustered'])\n",
      "    Truth_unclustered = np.cumsum(array_to_plot['TruthUnclustered'])\n",
      "    TPs_all = np.cumsum(array_to_plot['IsInGATK'] & array_to_plot['IsInTruth'])\n",
      "    FPs = np.cumsum(array_to_plot['IsInGATK'] & np.logical_not(array_to_plot['IsInTruth']))\n",
      "    \n",
      "#     print(TPs_unclustered, len(TPs_unclustered))\n",
      "#     print(Truth_unclustered, len(Truth_unclustered))\n",
      "#     print(TPs_all, len(TPs_all))\n",
      "#     print(FPs, len(FPs))\n",
      "#     print(FPs[1000:1010])\n",
      "    \n",
      "    number_of_positives = len(array_to_plot)\n",
      "    number_of_true_variants = len(\n",
      "        (tbl_whole_genome_comparisons[pipeline]\n",
      "            .selecteq('IsInTruth', True)\n",
      "            .selecteq('mode', mode)\n",
      "            .selecteq('RegionType', RegionType)\n",
      "            .selecteq('IsCoding', IsCoding)\n",
      "            .selecteq('IsAccessible', True)\n",
      "            .select(lambda rec: rec['Truth_distance_nearest'] is None or rec['Truth_distance_nearest'] >= min_Truth_distance_nearest)\n",
      "#             .select(lambda rec: rec['GATK_distance_nearest'] is None or rec['GATK_distance_nearest'] >= min_GATK_distance_nearest)\n",
      "#             .selectge('GATK_distance_nearest', min_GATK_distance_nearest)\n",
      "            .cut(['IsInGATK', 'IsInTruth', 'gatk_VQSLOD'])\n",
      "            .data()\n",
      "        )\n",
      "    )\n",
      "    \n",
      "    print(pipeline, RegionType, IsCoding, mode, number_of_positives, number_of_true_variants)\n",
      "    \n",
      "    sensitivity = TPs_unclustered / number_of_true_variants\n",
      "    if x_var == 'FDR':\n",
      "        FDR = FPs / (TPs_all + FPs)\n",
      "    else:\n",
      "        FDR = FPs / number_of_positives\n",
      "        \n",
      "#     print(FDR)\n",
      "#     print(sensitivity)\n",
      "    \n",
      "    \n",
      "    ax.plot(FDR, sensitivity, label=pipeline)\n",
      "    if show_annotations:\n",
      "        for i, annotate_index in enumerate(annotate_indices):\n",
      "            point_type = 'bo'\n",
      "            if annotate_values[i] == selected_threshold:\n",
      "                point_type = 'ro'\n",
      "            ax.plot(FDR[annotate_index], sensitivity[annotate_index], point_type)\n",
      "            annotate_text = '%s (%4.1f%% sens, %4.1f%% FDR)' % (annotate_values[i], sensitivity[annotate_index]*100, FDR[annotate_index]*100)\n",
      "#             print(annotate_text)\n",
      "            ax.annotate(annotate_text,\n",
      "                        (FDR[annotate_index], sensitivity[annotate_index]), xycoords='data', xytext=(10, -10),\n",
      "                        textcoords='offset points', rotation=-45)\n",
      "    if ymax is not None:\n",
      "        ax.set_ylim([0, ymax])\n",
      "    if xmax is not None:\n",
      "        ax.set_xlim([0, xmax])\n",
      "            \n",
      "    return(ax)\n",
      "\n"
     ],
     "language": "python",
     "metadata": {},
     "outputs": [],
     "prompt_number": 88
    },
    {
     "cell_type": "code",
     "collapsed": false,
     "input": [
      "plotFDRsens(show_annotations=True, min_Truth_distance_nearest=0)"
     ],
     "language": "python",
     "metadata": {},
     "outputs": [
      {
       "output_type": "stream",
       "stream": "stdout",
       "text": [
        "default Core True SNP 55997 50559\n"
       ]
      },
      {
       "metadata": {},
       "output_type": "pyout",
       "prompt_number": 77,
       "text": [
        "<matplotlib.axes._subplots.AxesSubplot at 0x1ba431ba8>"
       ]
      },
      {
       "metadata": {},
       "output_type": "display_data",
       "png": "[encoded data removed]",
       "text": [
        "<matplotlib.figure.Figure at 0x1d09dfac8>"
       ]
      }
     ],
     "prompt_number": 77
    },
    {
     "cell_type": "code",
     "collapsed": false,
     "input": [
      "fig = figure(figsize=(8, 8))\n",
      "for i, mode in enumerate(['SNP', 'INDEL']):\n",
      "    for j, IsCoding in enumerate([True, False]):\n",
      "        ax = fig.add_subplot(2, 2, (i*2)+j+1)\n",
      "        plotFDRsens(pipeline='default', show_annotations=True, mode=mode, IsCoding=IsCoding, min_Truth_distance_nearest=100, ax=ax)\n",
      "        ax.set_title(\"%s %s\" % (mode, 'Coding' if IsCoding==True else 'Non-coding'))\n",
      "# fig.tight_layout()\n",
      "fig.savefig('%s/default_unclustered_sensitivity_vs_FDR.pdf' % PLOTS_DIR, format='pdf')"
     ],
     "language": "python",
     "metadata": {},
     "outputs": [
      {
       "output_type": "stream",
       "stream": "stdout",
       "text": [
        "default Core True SNP 55997 18177\n",
        "default"
       ]
      },
      {
       "output_type": "stream",
       "stream": "stdout",
       "text": [
        " Core False SNP 59609 9109\n",
        "default"
       ]
      },
      {
       "output_type": "stream",
       "stream": "stdout",
       "text": [
        " Core True INDEL 31653 12565\n",
        "default"
       ]
      },
      {
       "output_type": "stream",
       "stream": "stdout",
       "text": [
        " Core False INDEL 231934 96890\n"
       ]
      },
      {
       "metadata": {},
       "output_type": "display_data",
       "png": "[encoded data removed]",
       "text": [
        "<matplotlib.figure.Figure at 0x129565eb8>"
       ]
      }
     ],
     "prompt_number": 89
    },
    {
     "cell_type": "code",
     "collapsed": false,
     "input": [
      "fig = figure(figsize=(8, 8))\n",
      "for i, mode in enumerate(['SNP', 'INDEL']):\n",
      "    for j, IsCoding in enumerate([True, False]):\n",
      "        ax = fig.add_subplot(2, 2, (i*2)+j+1)\n",
      "        plotFDRsens(pipeline='alistair_ann', show_annotations=True, mode=mode, IsCoding=IsCoding, min_Truth_distance_nearest=100, ax=ax)\n",
      "        ax.set_title(\"%s %s\" % (mode, 'Coding' if IsCoding==True else 'Non-coding'))\n",
      "# fig.tight_layout()\n",
      "fig.savefig('%s/improved_unclustered_sensitivity_vs_FDR.pdf' % PLOTS_DIR, format='pdf')"
     ],
     "language": "python",
     "metadata": {},
     "outputs": [
      {
       "output_type": "stream",
       "stream": "stdout",
       "text": [
        "alistair_ann Core True SNP 55997 18177\n",
        "alistair_ann"
       ]
      },
      {
       "output_type": "stream",
       "stream": "stdout",
       "text": [
        " Core False SNP 59609 9109\n",
        "alistair_ann"
       ]
      },
      {
       "output_type": "stream",
       "stream": "stdout",
       "text": [
        " Core True INDEL 31653 12565\n",
        "alistair_ann"
       ]
      },
      {
       "output_type": "stream",
       "stream": "stdout",
       "text": [
        " Core False INDEL 231934 96890\n"
       ]
      },
      {
       "metadata": {},
       "output_type": "display_data",
       "png": "[encoded data removed]",
       "text": [
        "<matplotlib.figure.Figure at 0x12c448400>"
       ]
      }
     ],
     "prompt_number": 90
    },
    {
     "cell_type": "code",
     "collapsed": false,
     "input": [
      "fig = figure(figsize=(8, 8))\n",
      "for i, mode in enumerate(['SNP', 'INDEL']):\n",
      "    for j, IsCoding in enumerate([True, False]):\n",
      "        ax = fig.add_subplot(2, 2, (i*2)+j+1)\n",
      "        plotFDRsens(pipeline='default', show_annotations=True, mode=mode, IsCoding=IsCoding, min_Truth_distance_nearest=0, ax=ax)\n",
      "        ax.set_title(\"%s %s\" % (mode, 'Coding' if IsCoding==True else 'Non-coding'))\n",
      "# fig.tight_layout()\n",
      "fig.savefig('%s/default_full_sensitivity_vs_FDR.pdf' % PLOTS_DIR, format='pdf')"
     ],
     "language": "python",
     "metadata": {},
     "outputs": [
      {
       "output_type": "stream",
       "stream": "stdout",
       "text": [
        "default Core True SNP 55997 50559\n",
        "default"
       ]
      },
      {
       "output_type": "stream",
       "stream": "stdout",
       "text": [
        " Core False SNP 59609 46047\n",
        "default"
       ]
      },
      {
       "output_type": "stream",
       "stream": "stdout",
       "text": [
        " Core True INDEL 31653 24590\n",
        "default"
       ]
      },
      {
       "output_type": "stream",
       "stream": "stdout",
       "text": [
        " Core False INDEL 231934 183604\n"
       ]
      },
      {
       "metadata": {},
       "output_type": "display_data",
       "png": "[encoded data removed]",
       "text": [
        "<matplotlib.figure.Figure at 0x12d171c88>"
       ]
      }
     ],
     "prompt_number": 91
    },
    {
     "cell_type": "code",
     "collapsed": false,
     "input": [
      "fig = figure(figsize=(8, 8))\n",
      "for i, mode in enumerate(['SNP', 'INDEL']):\n",
      "    for j, IsCoding in enumerate([True, False]):\n",
      "        ax = fig.add_subplot(2, 2, (i*2)+j+1)\n",
      "        plotFDRsens(pipeline='alistair_ann', show_annotations=True, mode=mode, IsCoding=IsCoding, min_Truth_distance_nearest=0, ax=ax)\n",
      "        ax.set_title(\"%s %s\" % (mode, 'Coding' if IsCoding==True else 'Non-coding'))\n",
      "# fig.tight_layout()\n",
      "fig.savefig('%s/improved_full_sensitivity_vs_FDR.pdf' % PLOTS_DIR, format='pdf')"
     ],
     "language": "python",
     "metadata": {},
     "outputs": [
      {
       "output_type": "stream",
       "stream": "stdout",
       "text": [
        "alistair_ann Core True SNP 55997 50559\n",
        "alistair_ann"
       ]
      },
      {
       "output_type": "stream",
       "stream": "stdout",
       "text": [
        " Core False SNP 59609 46047\n",
        "alistair_ann"
       ]
      },
      {
       "output_type": "stream",
       "stream": "stdout",
       "text": [
        " Core True INDEL 31653 24590\n",
        "alistair_ann"
       ]
      },
      {
       "output_type": "stream",
       "stream": "stdout",
       "text": [
        " Core False INDEL 231934 183604\n"
       ]
      },
      {
       "metadata": {},
       "output_type": "display_data",
       "png": "[encoded data removed]",
       "text": [
        "<matplotlib.figure.Figure at 0x12f5412b0>"
       ]
      }
     ],
     "prompt_number": 92
    },
    {
     "cell_type": "code",
     "collapsed": false,
     "input": [],
     "language": "python",
     "metadata": {},
     "outputs": []
    },
    {
     "cell_type": "heading",
     "level": 1,
     "metadata": {},
     "source": [
      "Oddness of VQSLOD plots"
     ]
    },
    {
     "cell_type": "code",
     "collapsed": false,
     "input": [
      "variants_classes = collections.OrderedDict()\n",
      "variants_classes['Coding indels'] = ('True', 'INDEL')\n",
      "variants_classes['Non-coding indels'] = ('False', 'INDEL')\n",
      "variants_classes['Coding SNPs'] = ('True', 'SNP')\n",
      "variants_classes['Non-coding SNPs'] = ('False', 'SNP')\n",
      "test_filters = collections.OrderedDict()\n",
      "test_variants = collections.OrderedDict()\n",
      "for pipeline in ['default', 'alistair_ann']:\n",
      "    print(pipeline)\n",
      "    test_filters[pipeline] = collections.OrderedDict()\n",
      "    test_variants[pipeline] = collections.OrderedDict()\n",
      "    for variants_class in variants_classes:\n",
      "        test_filters[pipeline][variants_class] = (\n",
      "            (comparison_arrays[pipeline]['IsInGATK']) &\n",
      "            (comparison_arrays[pipeline]['RegionType'] == 'Core') &\n",
      "            (comparison_arrays[pipeline]['IsCoding'] == variants_classes[variants_class][0]) &\n",
      "            (comparison_arrays[pipeline]['IsAccessible'] == True) &\n",
      "            (comparison_arrays[pipeline]['mode'] == variants_classes[variants_class][1])\n",
      "        )\n",
      "        test_variants[pipeline][variants_class] = comparison_arrays[pipeline][test_filters[pipeline][variants_class]]"
     ],
     "language": "python",
     "metadata": {},
     "outputs": []
    },
    {
     "cell_type": "code",
     "collapsed": false,
     "input": [
      "TP_states = (True, False)\n",
      "TP_colors = ('green', 'red')\n",
      "TP_labels = ('TP', 'FP')\n",
      "\n",
      "def plot_annotation_diagnostics(variants, annotation, bins):\n",
      "    \n",
      "    TPs = variants['IsInTruth']\n",
      "    ann = variants[annotation]\n",
      "    n_variants, bins = np.histogram(ann, bins=bins)\n",
      "\n",
      "    fig = plt.figure(figsize=(9, 3))\n",
      "    ax1 = fig.add_subplot(1, 2, 1)\n",
      "    ax2 = fig.add_subplot(1, 2, 2)\n",
      "\n",
      "    pc_bottom = 0\n",
      "    n_bottom = 0\n",
      "    counts = dict()\n",
      "    for st, lbl, clr in zip(TP_states, TP_labels, TP_colors):\n",
      "        values = (TPs == st)\n",
      "        n, _, _ = scipy.stats.binned_statistic(ann, values, statistic='sum', bins=bins)\n",
      "        counts[st] = n\n",
      "        left = bins[:-1]\n",
      "        width = np.diff(bins)\n",
      "        # plot absolute numbers\n",
      "        ax1.bar(left, n, width=width, bottom=n_bottom, color=clr, label=lbl, lw=1)\n",
      "        n_bottom += n\n",
      "        # plot percentages\n",
      "        pc = n * 100 / n_variants\n",
      "        ax2.bar(left, pc, width=width, bottom=pc_bottom, color=clr, label=lbl, lw=0)\n",
      "        pc_bottom += pc\n",
      "        \n",
      "    for s in 'top', 'left', 'right':\n",
      "        ax1.spines[s].set_visible(False)\n",
      "    ax1.xaxis.tick_bottom()\n",
      "    ax1.set_yticks([])\n",
      "    ax1.set_xlim(bins[0], bins[-1])\n",
      "    ax1.set_ylabel('#calls')\n",
      "    ax2.set_ylim(0, 100)\n",
      "    ax2.set_xlim(bins[0], bins[-1])\n",
      "    ax2.set_ylabel('%calls')\n",
      "    fig.suptitle(annotation, fontsize=14, fontweight='bold')\n",
      "    fig.tight_layout()"
     ],
     "language": "python",
     "metadata": {},
     "outputs": []
    },
    {
     "cell_type": "code",
     "collapsed": false,
     "input": [
      "for pipeline in ['default', 'alistair_ann']:\n",
      "    print(pipeline)\n",
      "    plot_annotation_diagnostics(test_variants[pipeline], 'gatk_VQSLOD', np.linspace(-2, 10, 100))\n",
      "    plt.show()\n"
     ],
     "language": "python",
     "metadata": {},
     "outputs": []
    },
    {
     "cell_type": "code",
     "collapsed": false,
     "input": [],
     "language": "python",
     "metadata": {},
     "outputs": []
    },
    {
     "cell_type": "heading",
     "level": 1,
     "metadata": {},
     "source": [
      "Variant summary tables"
     ]
    },
    {
     "cell_type": "code",
     "collapsed": false,
     "input": [
      "def is_transition(rec):\n",
      "    return (((rec[0] == 'A') and (rec[1] == 'G')) \n",
      "             or ((rec[0] == 'G') and (rec[1] == 'A')) \n",
      "             or ((rec[0] == 'C') and (rec[1] == 'T')) \n",
      "             or ((rec[0] == 'T') and (rec[1] == 'C')))\n",
      "\n",
      "def is_transversion(rec):\n",
      "    return (((rec[0] == 'A') and ((rec[1] == 'T') or (rec[1] == 'C')))\n",
      "             or ((rec[0] == 'G') and ((rec[1] == 'T') or (rec[1] == 'C')))\n",
      "             or ((rec[0] == 'C') and ((rec[1] == 'A') or (rec[1] == 'G')))\n",
      "             or ((rec[0] == 'T') and ((rec[1] == 'A') or (rec[1] == 'G'))))\n",
      "\n",
      "def calc_titv(rec_list, variant_type='TP', VQSLOD_threshold=None):\n",
      "    if variant_type=='TP':\n",
      "        new_list = [x for x in rec_list if x[2] and x[3] and (VQSLOD_threshold is None or x[5] > VQSLOD_threshold)]\n",
      "    elif variant_type=='FP':\n",
      "        new_list = [x for x in rec_list if x[2] and not x[3] and x[4] and (VQSLOD_threshold is None or x[5] > VQSLOD_threshold)]\n",
      "    if variant_type=='FN':\n",
      "        new_list = [x for x in rec_list if (not x[2] and x[3]) or (VQSLOD_threshold is None or (x[5] is not None and x[5] <= VQSLOD_threshold))]\n",
      "    ti = np.count_nonzero([is_transition(rec) for rec in new_list])\n",
      "    tv = np.count_nonzero([is_transversion(rec) for rec in new_list])\n",
      "    if tv == 0:\n",
      "        titv = 0.0\n",
      "    else:\n",
      "        titv = 1.0*ti/tv\n",
      "#     print(ti, tv, titv)\n",
      "    return(titv)\n",
      "\n",
      "# def calc_titv(rec_list):\n",
      "#     ti = np.count_nonzero([is_transition(rec) for rec in rec_list])\n",
      "#     tv = np.count_nonzero([is_transversion(rec) for rec in rec_list])\n",
      "#     if tv == 0:\n",
      "#         titv = 0.0\n",
      "#     else:\n",
      "#         titv = 1.0*ti/tv\n",
      "# #     print(ti, tv, titv)\n",
      "#     return(titv)\n",
      "\n",
      "# def calc_ti(rec_list):\n",
      "#     return np.count_nonzero([is_transition(rec) for rec in rec_list])\n",
      "# def calc_tv(rec_list):\n",
      "#     return np.count_nonzero([is_transversion(rec) for rec in rec_list])\n"
     ],
     "language": "python",
     "metadata": {},
     "outputs": [],
     "prompt_number": 137
    },
    {
     "cell_type": "code",
     "collapsed": false,
     "input": [
      "def calc_variant_summary_table(pipeline='default', min_Truth_distance_nearest=100, min_VQSLOD=-99999, VQSLOD_threshold=0.0):\n",
      "    aggregation = collections.OrderedDict()\n",
      "    aggregation['#Variant sites discovered'] = ('IsInGATK', 'CHROM', 'POS'), lambda tbl: len(etl.wrap(tbl).selecteq(0, True).distinct([1, 2]).data())\n",
      "    aggregation['#Variant sites after filtering'] = ('IsInGATK', 'CHROM', 'POS', 'gatk_VQSLOD'), lambda tbl: len(etl.wrap(tbl).selecteq(0, True).selectgt(3, VQSLOD_threshold).distinct([1, 2]).data())\n",
      "    aggregation['Non-ref genotypes'] = 'IsInGATK', sum\n",
      "    aggregation['#Non-ref genotypes accessible in PacBio'] = ('IsInGATK', 'IsAccessible'), lambda rec: np.sum([x[0] and x[1] for x in list(rec)])\n",
      "    aggregation['#Non-ref genotypes after filtering'] = ('IsInGATK', 'gatk_VQSLOD'), lambda rec: np.sum([x[0] and x[1] > VQSLOD_threshold for x in list(rec)])\n",
      "    aggregation['#Non-ref genotypes accessible after filtering'] = ('IsInGATK', 'IsAccessible', 'gatk_VQSLOD'), lambda rec: np.sum([x[0] and x[1] and x[2] > VQSLOD_threshold for x in list(rec)])\n",
      "    aggregation['#PacBio all variants sites'] = ('IsInTruth', 'CHROM', 'POS'), lambda tbl: len(etl.wrap(tbl).selecteq(0, True).distinct([1, 2]).data())\n",
      "    aggregation['#PacBio all genotypes'] = 'IsInTruth', sum\n",
      "    aggregation['#PacBio unclustered variants sites'] = ('IsInTruth', 'CHROM', 'POS', 'Truth_distance_nearest'), lambda tbl: len(etl.wrap(tbl).selecteq(0, True).selectge(3, min_Truth_distance_nearest).distinct([1, 2]).data())\n",
      "    aggregation['#PacBio unclustered genotypes'] = ('IsInTruth', 'Truth_distance_nearest'), lambda rec: np.sum([x[0] and (x[1] is not None and x[1] >= min_Truth_distance_nearest) for x in list(rec)])\n",
      "    aggregation['#TP unfiltered'] = ('IsInGATK', 'IsInTruth'), lambda rec: np.sum([x[0] and x[1] for x in list(rec)])\n",
      "    aggregation['#TP unclustered unfiltered'] = ('IsInGATK', 'IsInTruth', 'Truth_distance_nearest'), lambda rec: np.sum([x[0] and x[1] and (x[2] is not None and x[2] >= min_Truth_distance_nearest) for x in list(rec)])\n",
      "    aggregation['#FP unfiltered'] = ('IsInGATK', 'IsInTruth', 'IsAccessible'), lambda rec: np.sum([x[0] and not x[1] and x[2] for x in list(rec)])\n",
      "    aggregation['#FN all unfiltered'] = ('IsInGATK', 'IsInTruth'), lambda rec: np.sum([not x[0] and x[1] for x in list(rec)])\n",
      "    aggregation['#FN unclustered unfiltered'] = ('IsInGATK', 'IsInTruth', 'Truth_distance_nearest'), lambda rec: np.sum([not x[0] and x[1] and (x[2] is not None and x[2] >= min_Truth_distance_nearest) for x in list(rec)])\n",
      "    aggregation['#TP filtered'] = ('IsInGATK', 'IsInTruth', 'gatk_VQSLOD'), lambda rec: np.sum([x[0] and x[1] and x[2] > VQSLOD_threshold for x in list(rec)])\n",
      "    aggregation['#TP unclustered filtered'] = ('IsInGATK', 'IsInTruth', 'gatk_VQSLOD', 'Truth_distance_nearest'), lambda rec: np.sum([x[0] and x[1] and x[2] > VQSLOD_threshold and (x[3] is not None and x[3] >= min_Truth_distance_nearest) for x in list(rec)])\n",
      "    aggregation['#FP filtered'] = ('IsInGATK', 'IsInTruth', 'IsAccessible', 'gatk_VQSLOD'), lambda rec: np.sum([x[0] and not x[1] and x[2] and x[3] > VQSLOD_threshold for x in list(rec)])\n",
      "    aggregation['#FN all filtered'] = ('IsInGATK', 'IsInTruth', 'gatk_VQSLOD'), lambda rec: np.sum([(not x[0] and x[1]) or (x[2] is not None and x[2] <= VQSLOD_threshold) for x in list(rec)])\n",
      "    aggregation['#FN unclustered filtered'] = ('IsInGATK', 'IsInTruth', 'gatk_VQSLOD', 'Truth_distance_nearest'), lambda rec: np.sum([((not x[0] and x[1]) or (x[2] is not None and x[2] <= VQSLOD_threshold)) and (x[3] is not None and x[3] >= min_Truth_distance_nearest) for x in list(rec)])\n",
      "    aggregation['TiTv TP unfiltered'] = ('REF', 'ALT', 'IsInGATK', 'IsInTruth', 'IsAccessible'), lambda rec: calc_titv(list(rec), 'TP')\n",
      "    aggregation['TiTv FP unfiltered'] = ('REF', 'ALT', 'IsInGATK', 'IsInTruth', 'IsAccessible'), lambda rec: calc_titv(list(rec), 'FP')\n",
      "    aggregation['TiTv FN unfiltered'] = ('REF', 'ALT', 'IsInGATK', 'IsInTruth', 'IsAccessible'), lambda rec: calc_titv(list(rec), 'FN')\n",
      "#     aggregation['TiTv FN unclustered unfiltered'] = ('REF', 'ALT', 'IsInGATK', 'IsInTruth', 'IsAccessible', 'Truth_distance_nearest'), lambda rec: calc_titv(list(rec), 'FN')\n",
      "    aggregation['TiTv TP filtered'] = ('REF', 'ALT', 'IsInGATK', 'IsInTruth', 'IsAccessible', 'gatk_VQSLOD'), lambda rec: calc_titv(list(rec), 'TP', VQSLOD_threshold)\n",
      "    aggregation['TiTv FP filtered'] = ('REF', 'ALT', 'IsInGATK', 'IsInTruth', 'IsAccessible', 'gatk_VQSLOD'), lambda rec: calc_titv(list(rec), 'FP', VQSLOD_threshold)\n",
      "    aggregation['TiTv FN filtered'] = ('REF', 'ALT', 'IsInGATK', 'IsInTruth', 'IsAccessible', 'gatk_VQSLOD'), lambda rec: calc_titv(list(rec), 'FN', VQSLOD_threshold)\n",
      "    aggregation['#TPmod3 unfiltered'] = ('REF', 'ALT', 'IsInGATK', 'IsInTruth'), lambda rec: np.sum([(len(x[0]) - len(x[1])) % 3 == 0 and x[2] and x[3] for x in list(rec)])\n",
      "    aggregation['#FPmod3 unfiltered'] = ('REF', 'ALT', 'IsInGATK', 'IsInTruth', 'IsAccessible'), lambda rec: np.sum([(len(x[0]) - len(x[1])) % 3 == 0 and x[2] and not x[3] and x[4] for x in list(rec)])\n",
      "    aggregation['#FNmod3 unfiltered'] = ('REF', 'ALT', 'IsInGATK', 'IsInTruth'), lambda rec: np.sum([(len(x[0]) - len(x[1])) % 3 == 0 and not x[2] and x[3] for x in list(rec)])\n",
      "    aggregation['#TPmod3 filtered'] = ('REF', 'ALT', 'IsInGATK', 'IsInTruth', 'gatk_VQSLOD'), lambda rec: np.sum([(len(x[0]) - len(x[1])) % 3 == 0 and x[2] and x[3] and x[4] > VQSLOD_threshold for x in list(rec)])\n",
      "    aggregation['#FPmod3 filtered'] = ('REF', 'ALT', 'IsInGATK', 'IsInTruth', 'IsAccessible', 'gatk_VQSLOD'), lambda rec: np.sum([(len(x[0]) - len(x[1])) % 3 == 0 and x[2] and not x[3] and x[4] and x[5] > VQSLOD_threshold for x in list(rec)])\n",
      "    aggregation['#FNmod3 filtered'] = ('REF', 'ALT', 'IsInGATK', 'IsInTruth', 'gatk_VQSLOD'), lambda rec: np.sum([(len(x[0]) - len(x[1])) % 3 == 0 and (not x[2] and x[3]) or (x[4] is not None and x[4] <= VQSLOD_threshold) for x in list(rec)])\n",
      "\n",
      "    tbl_variant_summary = (tbl_whole_genome_comparisons[pipeline]\n",
      "        .selecteq('RegionType', 'Core')\n",
      "        .select(lambda rec: not str(rec['IsCoding']).startswith('ERROR'))\n",
      "#         .select(lambda rec: rec['Truth_distance_nearest'] is None or rec['Truth_distance_nearest'] >= min_Truth_distance_nearest)\n",
      "#         .select(lambda rec: rec['gatk_VQSLOD'] is None or rec['gatk_VQSLOD'] >= min_VQSLOD)\n",
      "        .aggregate(('IsCoding', 'mode'), aggregation)\n",
      "        .sort(('IsCoding', 'mode'), reverse=True)\n",
      "        .addfield('Unfiltered all sensitivity', lambda rec: 0.0 if rec['#PacBio all genotypes'] == 0 else round(rec['#TP unfiltered'] / rec['#PacBio all genotypes'], 3))\n",
      "        .addfield('Unfiltered unclustered sensitivity', lambda rec: 0.0 if rec['#PacBio unclustered genotypes'] == 0 else round(rec['#TP unclustered unfiltered'] / rec['#PacBio unclustered genotypes'], 3))\n",
      "        .addfield('Unfiltered FDR', lambda rec: 0.0 if rec['#Non-ref genotypes accessible in PacBio'] == 0 else round(rec['#FP unfiltered'] / rec['#Non-ref genotypes accessible in PacBio'], 3))\n",
      "        .addfield('Filtered all sensitivity', lambda rec: 0.0 if rec['#PacBio all genotypes'] == 0 else round(rec['#TP filtered'] / rec['#PacBio all genotypes'], 3))\n",
      "        .addfield('Filtered unclustered sensitivity', lambda rec: 0.0 if rec['#PacBio unclustered genotypes'] == 0 else round(rec['#TP unclustered filtered'] / rec['#PacBio unclustered genotypes'], 3))\n",
      "        .addfield('Filtered FDR', lambda rec: 0.0 if rec['#Non-ref genotypes accessible in PacBio'] == 0 else round(rec['#FP filtered'] / rec['#Non-ref genotypes accessible in PacBio'], 3))\n",
      "        .addfield('Unfiltered %TPmod3', lambda rec: 0.0 if rec['#TP unfiltered'] == 0 else round(rec['#TPmod3 unfiltered'] / rec['#TP unfiltered'], 3))\n",
      "        .addfield('Unfiltered %FPmod3', lambda rec: 0.0 if rec['#FP unfiltered'] == 0 else round(rec['#FPmod3 unfiltered'] / rec['#FP unfiltered'], 3))\n",
      "        .addfield('Unfiltered %FNmod3', lambda rec: 0.0 if rec['#FN all unfiltered'] == 0 else round(rec['#FNmod3 unfiltered'] / rec['#FN all unfiltered'], 3))\n",
      "        .addfield('Filtered %TPmod3', lambda rec: 0.0 if rec['#TP filtered'] == 0 else round(rec['#TPmod3 filtered'] / rec['#TP filtered'], 3))\n",
      "        .addfield('Filtered %FPmod3', lambda rec: 0.0 if rec['#FP filtered'] == 0 else round(rec['#FPmod3 filtered'] / rec['#FP filtered'], 3))\n",
      "        .addfield('Filtered %FNmod3', lambda rec: 0.0 if rec['#FN all filtered'] == 0 else round(rec['#FNmod3 filtered'] / rec['#FN all filtered'], 3))\n",
      "        .addfield('Filtered %TP frameshift', lambda rec: 1.0 - rec['Filtered %TPmod3'])\n",
      "        .addfield('Filtered %FP frameshift', lambda rec: 1.0 - rec['Filtered %FPmod3'])\n",
      "        .addfield('Filtered %FN frameshift', lambda rec: 1.0 - rec['Filtered %FNmod3'])\n",
      "    )\n",
      "    \n",
      "    return(tbl_variant_summary)"
     ],
     "language": "python",
     "metadata": {},
     "outputs": [],
     "prompt_number": 187
    },
    {
     "cell_type": "code",
     "collapsed": false,
     "input": [
      "calc_variant_summary_table(pipeline='alistair_ann')"
     ],
     "language": "python",
     "metadata": {},
     "outputs": [
      {
       "output_type": "stream",
       "stream": "stderr",
       "text": [
        "/Users/rpearson/anaconda/lib/python3.4/site-packages/IPython/core/formatters.py:239: FormatterWarning: Exception in text/html formatter: unorderable types: list() < NoneType()\n",
        "  FormatterWarning,\n"
       ]
      },
      {
       "metadata": {},
       "output_type": "pyout",
       "prompt_number": 185,
       "text": [
        "<repr(<petl.transform.reductions.MultiAggregateView at 0x12e351860>) failed: TypeError: unorderable types: list() < NoneType()>"
       ]
      }
     ],
     "prompt_number": 185
    },
    {
     "cell_type": "code",
     "collapsed": false,
     "input": [
      "tbl_whole_genome_comparisons['default'].valuecounts('IsCoding', 'mode').displayall()"
     ],
     "language": "python",
     "metadata": {},
     "outputs": [
      {
       "html": [
        "<table class='petl'>\n",
        "<thead>\n",
        "<tr>\n",
        "<th>IsCoding</th>\n",
        "<th>mode</th>\n",
        "<th>count</th>\n",
        "<th>frequency</th>\n",
        "</tr>\n",
        "</thead>\n",
        "<tbody>\n",
        "<tr>\n",
        "<td>False</td>\n",
        "<td>INDEL</td>\n",
        "<td style='text-align: right'>252716</td>\n",
        "<td style='text-align: right'>0.4341945659531917</td>\n",
        "</tr>\n",
        "<tr>\n",
        "<td>False</td>\n",
        "<td>SNP</td>\n",
        "<td style='text-align: right'>150377</td>\n",
        "<td style='text-align: right'>0.25836463161945866</td>\n",
        "</tr>\n",
        "<tr>\n",
        "<td>True</td>\n",
        "<td>SNP</td>\n",
        "<td style='text-align: right'>130946</td>\n",
        "<td style='text-align: right'>0.22497998398718974</td>\n",
        "</tr>\n",
        "<tr>\n",
        "<td>True</td>\n",
        "<td>INDEL</td>\n",
        "<td style='text-align: right'>45106</td>\n",
        "<td style='text-align: right'>0.07749719088575581</td>\n",
        "</tr>\n",
        "<tr>\n",
        "<td>ERROR__False__True</td>\n",
        "<td>SNP</td>\n",
        "<td style='text-align: right'>2376</td>\n",
        "<td style='text-align: right'>0.004082235745678088</td>\n",
        "</tr>\n",
        "<tr>\n",
        "<td>ERROR__False__True</td>\n",
        "<td>INDEL</td>\n",
        "<td style='text-align: right'>506</td>\n",
        "<td style='text-align: right'>0.000869365019912926</td>\n",
        "</tr>\n",
        "<tr>\n",
        "<td>ERROR__True__False</td>\n",
        "<td>SNP</td>\n",
        "<td style='text-align: right'>6</td>\n",
        "<td style='text-align: right'>1.0308676125449716e-05</td>\n",
        "</tr>\n",
        "<tr>\n",
        "<td>ERROR__True__False</td>\n",
        "<td>INDEL</td>\n",
        "<td style='text-align: right'>1</td>\n",
        "<td style='text-align: right'>1.7181126875749527e-06</td>\n",
        "</tr>\n",
        "</tbody>\n",
        "</table>\n"
       ],
       "metadata": {},
       "output_type": "display_data"
      }
     ],
     "prompt_number": 179
    },
    {
     "cell_type": "code",
     "collapsed": false,
     "input": [
      "tbl_whole_genome_comparisons['alistair_ann'].valuecounts('IsCoding', 'mode').displayall()"
     ],
     "language": "python",
     "metadata": {},
     "outputs": [
      {
       "html": [
        "<table class='petl'>\n",
        "<thead>\n",
        "<tr>\n",
        "<th>IsCoding</th>\n",
        "<th>mode</th>\n",
        "<th>count</th>\n",
        "<th>frequency</th>\n",
        "</tr>\n",
        "</thead>\n",
        "<tbody>\n",
        "<tr>\n",
        "<td>False</td>\n",
        "<td>INDEL</td>\n",
        "<td style='text-align: right'>252716</td>\n",
        "<td style='text-align: right'>0.4341945659531917</td>\n",
        "</tr>\n",
        "<tr>\n",
        "<td>False</td>\n",
        "<td>SNP</td>\n",
        "<td style='text-align: right'>150377</td>\n",
        "<td style='text-align: right'>0.25836463161945866</td>\n",
        "</tr>\n",
        "<tr>\n",
        "<td>True</td>\n",
        "<td>SNP</td>\n",
        "<td style='text-align: right'>130946</td>\n",
        "<td style='text-align: right'>0.22497998398718974</td>\n",
        "</tr>\n",
        "<tr>\n",
        "<td>True</td>\n",
        "<td>INDEL</td>\n",
        "<td style='text-align: right'>45106</td>\n",
        "<td style='text-align: right'>0.07749719088575581</td>\n",
        "</tr>\n",
        "<tr>\n",
        "<td>ERROR__False__True</td>\n",
        "<td>SNP</td>\n",
        "<td style='text-align: right'>2376</td>\n",
        "<td style='text-align: right'>0.004082235745678088</td>\n",
        "</tr>\n",
        "<tr>\n",
        "<td>ERROR__False__True</td>\n",
        "<td>INDEL</td>\n",
        "<td style='text-align: right'>506</td>\n",
        "<td style='text-align: right'>0.000869365019912926</td>\n",
        "</tr>\n",
        "<tr>\n",
        "<td>ERROR__True__False</td>\n",
        "<td>SNP</td>\n",
        "<td style='text-align: right'>6</td>\n",
        "<td style='text-align: right'>1.0308676125449716e-05</td>\n",
        "</tr>\n",
        "<tr>\n",
        "<td>ERROR__True__False</td>\n",
        "<td>INDEL</td>\n",
        "<td style='text-align: right'>1</td>\n",
        "<td style='text-align: right'>1.7181126875749527e-06</td>\n",
        "</tr>\n",
        "</tbody>\n",
        "</table>\n"
       ],
       "metadata": {},
       "output_type": "display_data"
      }
     ],
     "prompt_number": 180
    },
    {
     "cell_type": "code",
     "collapsed": false,
     "input": [
      "tbl_whole_genome_comparisons['default'].valuecounts('IsInGATK').displayall()"
     ],
     "language": "python",
     "metadata": {},
     "outputs": [
      {
       "html": [
        "<table class='petl'>\n",
        "<thead>\n",
        "<tr>\n",
        "<th>IsInGATK</th>\n",
        "<th>count</th>\n",
        "<th>frequency</th>\n",
        "</tr>\n",
        "</thead>\n",
        "<tbody>\n",
        "<tr>\n",
        "<td>True</td>\n",
        "<td style='text-align: right'>441534</td>\n",
        "<td style='text-align: right'>0.7586051673957191</td>\n",
        "</tr>\n",
        "<tr>\n",
        "<td>False</td>\n",
        "<td style='text-align: right'>140500</td>\n",
        "<td style='text-align: right'>0.24139483260428085</td>\n",
        "</tr>\n",
        "</tbody>\n",
        "</table>\n"
       ],
       "metadata": {},
       "output_type": "display_data"
      }
     ],
     "prompt_number": 182
    },
    {
     "cell_type": "code",
     "collapsed": false,
     "input": [
      "tbl_whole_genome_comparisons['alistair_ann'].valuecounts('IsInGATK').displayall()"
     ],
     "language": "python",
     "metadata": {},
     "outputs": [
      {
       "html": [
        "<table class='petl'>\n",
        "<thead>\n",
        "<tr>\n",
        "<th>IsInGATK</th>\n",
        "<th>count</th>\n",
        "<th>frequency</th>\n",
        "</tr>\n",
        "</thead>\n",
        "<tbody>\n",
        "<tr>\n",
        "<td>True</td>\n",
        "<td style='text-align: right'>441534</td>\n",
        "<td style='text-align: right'>0.7586051673957191</td>\n",
        "</tr>\n",
        "<tr>\n",
        "<td>False</td>\n",
        "<td style='text-align: right'>140500</td>\n",
        "<td style='text-align: right'>0.24139483260428085</td>\n",
        "</tr>\n",
        "</tbody>\n",
        "</table>\n"
       ],
       "metadata": {},
       "output_type": "display_data"
      }
     ],
     "prompt_number": 181
    },
    {
     "cell_type": "code",
     "collapsed": false,
     "input": [
      "tbl_whole_genome_comparisons['default'].valuecounts('RegionType').displayall()"
     ],
     "language": "python",
     "metadata": {},
     "outputs": [
      {
       "html": [
        "<table class='petl'>\n",
        "<thead>\n",
        "<tr>\n",
        "<th>RegionType</th>\n",
        "<th>count</th>\n",
        "<th>frequency</th>\n",
        "</tr>\n",
        "</thead>\n",
        "<tbody>\n",
        "<tr>\n",
        "<td>Core</td>\n",
        "<td style='text-align: right'>388010</td>\n",
        "<td style='text-align: right'>0.6666449039059574</td>\n",
        "</tr>\n",
        "<tr>\n",
        "<td>SubtelomericHypervariable</td>\n",
        "<td style='text-align: right'>121544</td>\n",
        "<td style='text-align: right'>0.20882628849861004</td>\n",
        "</tr>\n",
        "<tr>\n",
        "<td>SubtelomericRepeat</td>\n",
        "<td style='text-align: right'>40702</td>\n",
        "<td style='text-align: right'>0.06993062260967572</td>\n",
        "</tr>\n",
        "<tr>\n",
        "<td>InternalHypervariable</td>\n",
        "<td style='text-align: right'>31085</td>\n",
        "<td style='text-align: right'>0.053407532893267405</td>\n",
        "</tr>\n",
        "<tr>\n",
        "<td>Centromere</td>\n",
        "<td style='text-align: right'>693</td>\n",
        "<td style='text-align: right'>0.0011906520924894423</td>\n",
        "</tr>\n",
        "</tbody>\n",
        "</table>\n"
       ],
       "metadata": {},
       "output_type": "display_data"
      }
     ],
     "prompt_number": 183
    },
    {
     "cell_type": "code",
     "collapsed": false,
     "input": [
      "tbl_whole_genome_comparisons['alistair_ann'].valuecounts('RegionType').displayall()"
     ],
     "language": "python",
     "metadata": {},
     "outputs": [
      {
       "html": [
        "<table class='petl'>\n",
        "<thead>\n",
        "<tr>\n",
        "<th>RegionType</th>\n",
        "<th>count</th>\n",
        "<th>frequency</th>\n",
        "</tr>\n",
        "</thead>\n",
        "<tbody>\n",
        "<tr>\n",
        "<td>Core</td>\n",
        "<td style='text-align: right'>388010</td>\n",
        "<td style='text-align: right'>0.6666449039059574</td>\n",
        "</tr>\n",
        "<tr>\n",
        "<td>SubtelomericHypervariable</td>\n",
        "<td style='text-align: right'>121544</td>\n",
        "<td style='text-align: right'>0.20882628849861004</td>\n",
        "</tr>\n",
        "<tr>\n",
        "<td>SubtelomericRepeat</td>\n",
        "<td style='text-align: right'>40702</td>\n",
        "<td style='text-align: right'>0.06993062260967572</td>\n",
        "</tr>\n",
        "<tr>\n",
        "<td>InternalHypervariable</td>\n",
        "<td style='text-align: right'>31085</td>\n",
        "<td style='text-align: right'>0.053407532893267405</td>\n",
        "</tr>\n",
        "<tr>\n",
        "<td>Centromere</td>\n",
        "<td style='text-align: right'>693</td>\n",
        "<td style='text-align: right'>0.0011906520924894423</td>\n",
        "</tr>\n",
        "</tbody>\n",
        "</table>\n"
       ],
       "metadata": {},
       "output_type": "display_data"
      }
     ],
     "prompt_number": 184
    },
    {
     "cell_type": "code",
     "collapsed": false,
     "input": [
      "rewrite=False\n",
      "\n",
      "tbl_variant_summaries = collections.OrderedDict()\n",
      "\n",
      "for rec in tbl_pipelines.sort('PIPELINE_NAME').data():\n",
      "    if rec[0] in pipelines_complete:\n",
      "#     if rec[0] == 'alistair_ann':\n",
      "#     if rec[0] == 'default':\n",
      "        print(rec[0])\n",
      "        tbl_comparison_cache_dir = os.path.join(CACHE_DIR, 'tbl_comparison', rec[1], rec[2], rec[3], rec[4], rec[5])\n",
      "        tbl_variant_summary_cache_fn = os.path.join(tbl_comparison_cache_dir, \"tbl_variant_summary\")\n",
      "        if not os.path.exists(tbl_variant_summary_cache_fn) or rewrite:\n",
      "            tbl_variant_summaries[rec[0]] = calc_variant_summary_table(rec[0])\n",
      "            etl.topickle(tbl_variant_summaries[rec[0]], tbl_variant_summary_cache_fn)\n",
      "        else:\n",
      "            tbl_variant_summaries[rec[0]] = etl.frompickle(tbl_variant_summary_cache_fn)\n"
     ],
     "language": "python",
     "metadata": {},
     "outputs": [
      {
       "output_type": "stream",
       "stream": "stdout",
       "text": [
        "alistair_ann\n",
        "default\n"
       ]
      }
     ],
     "prompt_number": 188
    },
    {
     "cell_type": "code",
     "collapsed": false,
     "input": [
      "# tbl_variant_summary = calc_variant_summary_table()"
     ],
     "language": "python",
     "metadata": {},
     "outputs": [],
     "prompt_number": 145
    },
    {
     "cell_type": "code",
     "collapsed": false,
     "input": [
      "tbl_variant_summaries['default'].transpose().displayall()"
     ],
     "language": "python",
     "metadata": {},
     "outputs": [
      {
       "html": [
        "<table class='petl'>\n",
        "<thead>\n",
        "<tr>\n",
        "<th>IsCoding</th>\n",
        "<th>True</th>\n",
        "<th>True</th>\n",
        "<th>False</th>\n",
        "<th>False</th>\n",
        "</tr>\n",
        "</thead>\n",
        "<tbody>\n",
        "<tr>\n",
        "<td>mode</td>\n",
        "<td>SNP</td>\n",
        "<td>INDEL</td>\n",
        "<td>SNP</td>\n",
        "<td>INDEL</td>\n",
        "</tr>\n",
        "<tr>\n",
        "<td>#Variant sites discovered</td>\n",
        "<td style='text-align: right'>23218</td>\n",
        "<td style='text-align: right'>10195</td>\n",
        "<td style='text-align: right'>27792</td>\n",
        "<td style='text-align: right'>63339</td>\n",
        "</tr>\n",
        "<tr>\n",
        "<td>#Variant sites after filtering</td>\n",
        "<td style='text-align: right'>19897</td>\n",
        "<td style='text-align: right'>9262</td>\n",
        "<td style='text-align: right'>19508</td>\n",
        "<td style='text-align: right'>56104</td>\n",
        "</tr>\n",
        "<tr>\n",
        "<td>#Non-ref genotypes</td>\n",
        "<td style='text-align: right'>41574</td>\n",
        "<td style='text-align: right'>20057</td>\n",
        "<td style='text-align: right'>45517</td>\n",
        "<td style='text-align: right'>152107</td>\n",
        "</tr>\n",
        "<tr>\n",
        "<td>#Non-ref genotypes accessible in PacBio</td>\n",
        "<td>39400</td>\n",
        "<td>19565</td>\n",
        "<td>43891</td>\n",
        "<td>149839</td>\n",
        "</tr>\n",
        "<tr>\n",
        "<td>#Non-ref genotypes after filtering</td>\n",
        "<td>37062</td>\n",
        "<td>18817</td>\n",
        "<td>33996</td>\n",
        "<td>139993</td>\n",
        "</tr>\n",
        "<tr>\n",
        "<td>#Non-ref genotypes accessible after filtering</td>\n",
        "<td>35339</td>\n",
        "<td>18385</td>\n",
        "<td>32692</td>\n",
        "<td>137964</td>\n",
        "</tr>\n",
        "<tr>\n",
        "<td>#PacBio all variants sites</td>\n",
        "<td style='text-align: right'>29701</td>\n",
        "<td style='text-align: right'>14961</td>\n",
        "<td style='text-align: right'>29599</td>\n",
        "<td style='text-align: right'>92670</td>\n",
        "</tr>\n",
        "<tr>\n",
        "<td>#PacBio all genotypes</td>\n",
        "<td style='text-align: right'>50574</td>\n",
        "<td style='text-align: right'>24594</td>\n",
        "<td style='text-align: right'>46114</td>\n",
        "<td style='text-align: right'>183831</td>\n",
        "</tr>\n",
        "<tr>\n",
        "<td>#PacBio unclustered variants sites</td>\n",
        "<td style='text-align: right'>10537</td>\n",
        "<td style='text-align: right'>6903</td>\n",
        "<td style='text-align: right'>5970</td>\n",
        "<td style='text-align: right'>49237</td>\n",
        "</tr>\n",
        "<tr>\n",
        "<td>#PacBio unclustered genotypes</td>\n",
        "<td>18184</td>\n",
        "<td>12566</td>\n",
        "<td>9136</td>\n",
        "<td>97036</td>\n",
        "</tr>\n",
        "<tr>\n",
        "<td>#TP unfiltered</td>\n",
        "<td>33976</td>\n",
        "<td>12503</td>\n",
        "<td>30378</td>\n",
        "<td>101644</td>\n",
        "</tr>\n",
        "<tr>\n",
        "<td>#TP unclustered unfiltered</td>\n",
        "<td>17932</td>\n",
        "<td>9173</td>\n",
        "<td>8782</td>\n",
        "<td>62868</td>\n",
        "</tr>\n",
        "<tr>\n",
        "<td>#FP unfiltered</td>\n",
        "<td>5438</td>\n",
        "<td>7063</td>\n",
        "<td>13562</td>\n",
        "<td>48330</td>\n",
        "</tr>\n",
        "<tr>\n",
        "<td>#FN all unfiltered</td>\n",
        "<td>16598</td>\n",
        "<td>12091</td>\n",
        "<td>15736</td>\n",
        "<td>82187</td>\n",
        "</tr>\n",
        "<tr>\n",
        "<td>#FN unclustered unfiltered</td>\n",
        "<td>252</td>\n",
        "<td>3393</td>\n",
        "<td>354</td>\n",
        "<td>34168</td>\n",
        "</tr>\n",
        "<tr>\n",
        "<td>#TP filtered</td>\n",
        "<td>32558</td>\n",
        "<td>12213</td>\n",
        "<td>28588</td>\n",
        "<td>96187</td>\n",
        "</tr>\n",
        "<tr>\n",
        "<td>#TP unclustered filtered</td>\n",
        "<td>17809</td>\n",
        "<td>8999</td>\n",
        "<td>8499</td>\n",
        "<td>59942</td>\n",
        "</tr>\n",
        "<tr>\n",
        "<td>#FP filtered</td>\n",
        "<td>2795</td>\n",
        "<td>6173</td>\n",
        "<td>4151</td>\n",
        "<td>41907</td>\n",
        "</tr>\n",
        "<tr>\n",
        "<td>#FN all filtered</td>\n",
        "<td>21110</td>\n",
        "<td>13331</td>\n",
        "<td>27257</td>\n",
        "<td>94301</td>\n",
        "</tr>\n",
        "<tr>\n",
        "<td>#FN unclustered filtered</td>\n",
        "<td>375</td>\n",
        "<td>3567</td>\n",
        "<td>637</td>\n",
        "<td>37094</td>\n",
        "</tr>\n",
        "<tr>\n",
        "<td>TiTv TP unfiltered</td>\n",
        "<td style='text-align: right'>1.2457531892392095</td>\n",
        "<td style='text-align: right'>0.0</td>\n",
        "<td style='text-align: right'>0.721230664626891</td>\n",
        "<td style='text-align: right'>0.0</td>\n",
        "</tr>\n",
        "<tr>\n",
        "<td>TiTv FP unfiltered</td>\n",
        "<td style='text-align: right'>1.223221586263287</td>\n",
        "<td style='text-align: right'>0.0</td>\n",
        "<td style='text-align: right'>0.5222808396004041</td>\n",
        "<td style='text-align: right'>0.0</td>\n",
        "</tr>\n",
        "<tr>\n",
        "<td>TiTv FN unfiltered</td>\n",
        "<td style='text-align: right'>1.2376428049390313</td>\n",
        "<td style='text-align: right'>0.0</td>\n",
        "<td style='text-align: right'>0.6226390103049088</td>\n",
        "<td style='text-align: right'>0.0</td>\n",
        "</tr>\n",
        "<tr>\n",
        "<td>TiTv TP filtered</td>\n",
        "<td style='text-align: right'>1.2382785645538292</td>\n",
        "<td style='text-align: right'>0.0</td>\n",
        "<td style='text-align: right'>0.7272672346081808</td>\n",
        "<td style='text-align: right'>0.0</td>\n",
        "</tr>\n",
        "<tr>\n",
        "<td>TiTv FP filtered</td>\n",
        "<td style='text-align: right'>1.192156862745098</td>\n",
        "<td style='text-align: right'>0.0</td>\n",
        "<td style='text-align: right'>0.3713247439709283</td>\n",
        "<td style='text-align: right'>0.0</td>\n",
        "</tr>\n",
        "<tr>\n",
        "<td>TiTv FN filtered</td>\n",
        "<td style='text-align: right'>1.2560649780912685</td>\n",
        "<td style='text-align: right'>0.0</td>\n",
        "<td style='text-align: right'>0.5637083357237106</td>\n",
        "<td style='text-align: right'>0.0</td>\n",
        "</tr>\n",
        "<tr>\n",
        "<td>#TPmod3 unfiltered</td>\n",
        "<td>33976</td>\n",
        "<td>12139</td>\n",
        "<td>30378</td>\n",
        "<td>20062</td>\n",
        "</tr>\n",
        "<tr>\n",
        "<td>#FPmod3 unfiltered</td>\n",
        "<td>5438</td>\n",
        "<td>5306</td>\n",
        "<td>13562</td>\n",
        "<td>9956</td>\n",
        "</tr>\n",
        "<tr>\n",
        "<td>#FNmod3 unfiltered</td>\n",
        "<td>16598</td>\n",
        "<td>6497</td>\n",
        "<td>15736</td>\n",
        "<td>19681</td>\n",
        "</tr>\n",
        "<tr>\n",
        "<td>#TPmod3 filtered</td>\n",
        "<td>32558</td>\n",
        "<td>11894</td>\n",
        "<td>28588</td>\n",
        "<td>19606</td>\n",
        "</tr>\n",
        "<tr>\n",
        "<td>#FPmod3 filtered</td>\n",
        "<td>2795</td>\n",
        "<td>4884</td>\n",
        "<td>4151</td>\n",
        "<td>9139</td>\n",
        "</tr>\n",
        "<tr>\n",
        "<td>#FNmod3 filtered</td>\n",
        "<td>21110</td>\n",
        "<td>7737</td>\n",
        "<td>27257</td>\n",
        "<td>31795</td>\n",
        "</tr>\n",
        "<tr>\n",
        "<td>Unfiltered all sensitivity</td>\n",
        "<td style='text-align: right'>0.672</td>\n",
        "<td style='text-align: right'>0.508</td>\n",
        "<td style='text-align: right'>0.659</td>\n",
        "<td style='text-align: right'>0.553</td>\n",
        "</tr>\n",
        "<tr>\n",
        "<td>Unfiltered unclustered sensitivity</td>\n",
        "<td style='text-align: right'>0.986</td>\n",
        "<td style='text-align: right'>0.73</td>\n",
        "<td style='text-align: right'>0.961</td>\n",
        "<td style='text-align: right'>0.648</td>\n",
        "</tr>\n",
        "<tr>\n",
        "<td>Unfiltered FDR</td>\n",
        "<td style='text-align: right'>0.138</td>\n",
        "<td style='text-align: right'>0.361</td>\n",
        "<td style='text-align: right'>0.309</td>\n",
        "<td style='text-align: right'>0.323</td>\n",
        "</tr>\n",
        "<tr>\n",
        "<td>Filtered all sensitivity</td>\n",
        "<td style='text-align: right'>0.644</td>\n",
        "<td style='text-align: right'>0.497</td>\n",
        "<td style='text-align: right'>0.62</td>\n",
        "<td style='text-align: right'>0.523</td>\n",
        "</tr>\n",
        "<tr>\n",
        "<td>Filtered unclustered sensitivity</td>\n",
        "<td style='text-align: right'>0.979</td>\n",
        "<td style='text-align: right'>0.716</td>\n",
        "<td style='text-align: right'>0.93</td>\n",
        "<td style='text-align: right'>0.618</td>\n",
        "</tr>\n",
        "<tr>\n",
        "<td>Filtered FDR</td>\n",
        "<td style='text-align: right'>0.071</td>\n",
        "<td style='text-align: right'>0.316</td>\n",
        "<td style='text-align: right'>0.095</td>\n",
        "<td style='text-align: right'>0.28</td>\n",
        "</tr>\n",
        "<tr>\n",
        "<td>Unfiltered %TPmod3</td>\n",
        "<td style='text-align: right'>1.0</td>\n",
        "<td style='text-align: right'>0.971</td>\n",
        "<td style='text-align: right'>1.0</td>\n",
        "<td style='text-align: right'>0.197</td>\n",
        "</tr>\n",
        "<tr>\n",
        "<td>Unfiltered %FPmod3</td>\n",
        "<td style='text-align: right'>1.0</td>\n",
        "<td style='text-align: right'>0.751</td>\n",
        "<td style='text-align: right'>1.0</td>\n",
        "<td style='text-align: right'>0.206</td>\n",
        "</tr>\n",
        "<tr>\n",
        "<td>Unfiltered %FNmod3</td>\n",
        "<td style='text-align: right'>1.0</td>\n",
        "<td style='text-align: right'>0.537</td>\n",
        "<td style='text-align: right'>1.0</td>\n",
        "<td style='text-align: right'>0.239</td>\n",
        "</tr>\n",
        "<tr>\n",
        "<td>Filtered %TPmod3</td>\n",
        "<td style='text-align: right'>1.0</td>\n",
        "<td style='text-align: right'>0.974</td>\n",
        "<td style='text-align: right'>1.0</td>\n",
        "<td style='text-align: right'>0.204</td>\n",
        "</tr>\n",
        "<tr>\n",
        "<td>Filtered %FPmod3</td>\n",
        "<td style='text-align: right'>1.0</td>\n",
        "<td style='text-align: right'>0.791</td>\n",
        "<td style='text-align: right'>1.0</td>\n",
        "<td style='text-align: right'>0.218</td>\n",
        "</tr>\n",
        "<tr>\n",
        "<td>Filtered %FNmod3</td>\n",
        "<td style='text-align: right'>1.0</td>\n",
        "<td style='text-align: right'>0.58</td>\n",
        "<td style='text-align: right'>1.0</td>\n",
        "<td style='text-align: right'>0.337</td>\n",
        "</tr>\n",
        "<tr>\n",
        "<td>Filtered %TP frameshift</td>\n",
        "<td style='text-align: right'>0.0</td>\n",
        "<td style='text-align: right'>0.026</td>\n",
        "<td style='text-align: right'>0.0</td>\n",
        "<td style='text-align: right'>0.796</td>\n",
        "</tr>\n",
        "<tr>\n",
        "<td>Filtered %FP frameshift</td>\n",
        "<td style='text-align: right'>0.0</td>\n",
        "<td style='text-align: right'>0.209</td>\n",
        "<td style='text-align: right'>0.0</td>\n",
        "<td style='text-align: right'>0.782</td>\n",
        "</tr>\n",
        "<tr>\n",
        "<td>Filtered %FN frameshift</td>\n",
        "<td style='text-align: right'>0.0</td>\n",
        "<td style='text-align: right'>0.42</td>\n",
        "<td style='text-align: right'>0.0</td>\n",
        "<td style='text-align: right'>0.663</td>\n",
        "</tr>\n",
        "</tbody>\n",
        "</table>\n"
       ],
       "metadata": {},
       "output_type": "display_data"
      }
     ],
     "prompt_number": 189
    },
    {
     "cell_type": "code",
     "collapsed": false,
     "input": [
      "tbl_variant_summaries['alistair_ann'].transpose().displayall()"
     ],
     "language": "python",
     "metadata": {},
     "outputs": [
      {
       "html": [
        "<table class='petl'>\n",
        "<thead>\n",
        "<tr>\n",
        "<th>IsCoding</th>\n",
        "<th>False</th>\n",
        "<th>False</th>\n",
        "<th>True</th>\n",
        "</tr>\n",
        "</thead>\n",
        "<tbody>\n",
        "<tr>\n",
        "<td>mode</td>\n",
        "<td>INDEL</td>\n",
        "<td>SNP</td>\n",
        "<td>INDEL</td>\n",
        "</tr>\n",
        "<tr>\n",
        "<td>#Non-ref genotypes</td>\n",
        "<td style='text-align: right'>152107</td>\n",
        "<td style='text-align: right'>45517</td>\n",
        "<td style='text-align: right'>20057</td>\n",
        "</tr>\n",
        "</tbody>\n",
        "</table>\n"
       ],
       "metadata": {},
       "output_type": "display_data"
      }
     ],
     "prompt_number": 190
    },
    {
     "cell_type": "code",
     "collapsed": false,
     "input": [
      "tbl_variant_summaries['default'].totsv(\"%s/tbl_variant_summary_default.txt\" % (PLOTS_DIR))"
     ],
     "language": "python",
     "metadata": {},
     "outputs": [],
     "prompt_number": 191
    },
    {
     "cell_type": "code",
     "collapsed": false,
     "input": [
      "tbl_variant_summaries['default'].toxlsx(\"%s/tbl_variant_summary_default.xlsx\" % (PLOTS_DIR))"
     ],
     "language": "python",
     "metadata": {},
     "outputs": [
      {
       "ename": "ValueError",
       "evalue": "Cannot convert 39400 to Excel",
       "output_type": "pyerr",
       "traceback": [
        "\u001b[0;31m---------------------------------------------------------------------------\u001b[0m\n\u001b[0;31mValueError\u001b[0m                                Traceback (most recent call last)",
        "\u001b[0;32m<ipython-input-192-bd06a6e7e63e>\u001b[0m in \u001b[0;36m<module>\u001b[0;34m()\u001b[0m\n\u001b[0;32m----> 1\u001b[0;31m \u001b[0mtbl_variant_summaries\u001b[0m\u001b[0;34m[\u001b[0m\u001b[0;34m'default'\u001b[0m\u001b[0;34m]\u001b[0m\u001b[0;34m.\u001b[0m\u001b[0mtoxlsx\u001b[0m\u001b[0;34m(\u001b[0m\u001b[0;34m\"%s/tbl_variant_summary_default.xlsx\"\u001b[0m \u001b[0;34m%\u001b[0m \u001b[0;34m(\u001b[0m\u001b[0mPLOTS_DIR\u001b[0m\u001b[0;34m)\u001b[0m\u001b[0;34m)\u001b[0m\u001b[0;34m\u001b[0m\u001b[0m\n\u001b[0m",
        "\u001b[0;32m/Users/rpearson/anaconda/lib/python3.4/site-packages/petl/io/xlsx.py\u001b[0m in \u001b[0;36mtoxlsx\u001b[0;34m(tbl, filename, sheet, encoding)\u001b[0m\n\u001b[1;32m     75\u001b[0m     \u001b[0mws\u001b[0m \u001b[0;34m=\u001b[0m \u001b[0mwb\u001b[0m\u001b[0;34m.\u001b[0m\u001b[0mcreate_sheet\u001b[0m\u001b[0;34m(\u001b[0m\u001b[0mtitle\u001b[0m\u001b[0;34m=\u001b[0m\u001b[0msheet\u001b[0m\u001b[0;34m)\u001b[0m\u001b[0;34m\u001b[0m\u001b[0m\n\u001b[1;32m     76\u001b[0m     \u001b[0;32mfor\u001b[0m \u001b[0mrow\u001b[0m \u001b[0;32min\u001b[0m \u001b[0mtbl\u001b[0m\u001b[0;34m:\u001b[0m\u001b[0;34m\u001b[0m\u001b[0m\n\u001b[0;32m---> 77\u001b[0;31m         \u001b[0mws\u001b[0m\u001b[0;34m.\u001b[0m\u001b[0mappend\u001b[0m\u001b[0;34m(\u001b[0m\u001b[0mrow\u001b[0m\u001b[0;34m)\u001b[0m\u001b[0;34m\u001b[0m\u001b[0m\n\u001b[0m\u001b[1;32m     78\u001b[0m     \u001b[0mwb\u001b[0m\u001b[0;34m.\u001b[0m\u001b[0msave\u001b[0m\u001b[0;34m(\u001b[0m\u001b[0mfilename\u001b[0m\u001b[0;34m)\u001b[0m\u001b[0;34m\u001b[0m\u001b[0m\n\u001b[1;32m     79\u001b[0m \u001b[0;34m\u001b[0m\u001b[0m\n",
        "\u001b[0;32m/Users/rpearson/anaconda/lib/python3.4/site-packages/openpyxl/writer/dump_worksheet.py\u001b[0m in \u001b[0;36mappend\u001b[0;34m(self, row)\u001b[0m\n\u001b[1;32m    173\u001b[0m                 \u001b[0mcell\u001b[0m \u001b[0;34m=\u001b[0m \u001b[0mvalue\u001b[0m\u001b[0;34m\u001b[0m\u001b[0m\n\u001b[1;32m    174\u001b[0m             \u001b[0;32melse\u001b[0m\u001b[0;34m:\u001b[0m\u001b[0;34m\u001b[0m\u001b[0m\n\u001b[0;32m--> 175\u001b[0;31m                 \u001b[0mcell\u001b[0m\u001b[0;34m.\u001b[0m\u001b[0mvalue\u001b[0m \u001b[0;34m=\u001b[0m \u001b[0mvalue\u001b[0m\u001b[0;34m\u001b[0m\u001b[0m\n\u001b[0m\u001b[1;32m    176\u001b[0m \u001b[0;34m\u001b[0m\u001b[0m\n\u001b[1;32m    177\u001b[0m             \u001b[0mcell\u001b[0m\u001b[0;34m.\u001b[0m\u001b[0mcoordinate\u001b[0m \u001b[0;34m=\u001b[0m \u001b[0;34m'%s%d'\u001b[0m \u001b[0;34m%\u001b[0m \u001b[0;34m(\u001b[0m\u001b[0mcolumn\u001b[0m\u001b[0;34m,\u001b[0m \u001b[0mrow_idx\u001b[0m\u001b[0;34m)\u001b[0m\u001b[0;34m\u001b[0m\u001b[0m\n",
        "\u001b[0;32m/Users/rpearson/anaconda/lib/python3.4/site-packages/openpyxl/cell/cell.py\u001b[0m in \u001b[0;36mvalue\u001b[0;34m(self, value)\u001b[0m\n\u001b[1;32m    311\u001b[0m     \u001b[0;32mdef\u001b[0m \u001b[0mvalue\u001b[0m\u001b[0;34m(\u001b[0m\u001b[0mself\u001b[0m\u001b[0;34m,\u001b[0m \u001b[0mvalue\u001b[0m\u001b[0;34m)\u001b[0m\u001b[0;34m:\u001b[0m\u001b[0;34m\u001b[0m\u001b[0m\n\u001b[1;32m    312\u001b[0m         \u001b[0;34m\"\"\"Set the value and infer type and display options.\"\"\"\u001b[0m\u001b[0;34m\u001b[0m\u001b[0m\n\u001b[0;32m--> 313\u001b[0;31m         \u001b[0mself\u001b[0m\u001b[0;34m.\u001b[0m\u001b[0m_bind_value\u001b[0m\u001b[0;34m(\u001b[0m\u001b[0mvalue\u001b[0m\u001b[0;34m)\u001b[0m\u001b[0;34m\u001b[0m\u001b[0m\n\u001b[0m\u001b[1;32m    314\u001b[0m \u001b[0;34m\u001b[0m\u001b[0m\n\u001b[1;32m    315\u001b[0m     \u001b[0;34m@\u001b[0m\u001b[0mproperty\u001b[0m\u001b[0;34m\u001b[0m\u001b[0m\n",
        "\u001b[0;32m/Users/rpearson/anaconda/lib/python3.4/site-packages/openpyxl/cell/cell.py\u001b[0m in \u001b[0;36m_bind_value\u001b[0;34m(self, value)\u001b[0m\n\u001b[1;32m    215\u001b[0m \u001b[0;34m\u001b[0m\u001b[0m\n\u001b[1;32m    216\u001b[0m         \u001b[0;32melif\u001b[0m \u001b[0mvalue\u001b[0m \u001b[0;32mis\u001b[0m \u001b[0;32mnot\u001b[0m \u001b[0;32mNone\u001b[0m\u001b[0;34m:\u001b[0m\u001b[0;34m\u001b[0m\u001b[0m\n\u001b[0;32m--> 217\u001b[0;31m             \u001b[0;32mraise\u001b[0m \u001b[0mValueError\u001b[0m\u001b[0;34m(\u001b[0m\u001b[0;34m\"Cannot convert {0} to Excel\"\u001b[0m\u001b[0;34m.\u001b[0m\u001b[0mformat\u001b[0m\u001b[0;34m(\u001b[0m\u001b[0mvalue\u001b[0m\u001b[0;34m)\u001b[0m\u001b[0;34m)\u001b[0m\u001b[0;34m\u001b[0m\u001b[0m\n\u001b[0m\u001b[1;32m    218\u001b[0m \u001b[0;34m\u001b[0m\u001b[0m\n\u001b[1;32m    219\u001b[0m         \u001b[0mself\u001b[0m\u001b[0;34m.\u001b[0m\u001b[0m_value\u001b[0m \u001b[0;34m=\u001b[0m \u001b[0mvalue\u001b[0m\u001b[0;34m\u001b[0m\u001b[0m\n",
        "\u001b[0;31mValueError\u001b[0m: Cannot convert 39400 to Excel"
       ]
      }
     ],
     "prompt_number": 192
    },
    {
     "cell_type": "code",
     "collapsed": false,
     "input": [],
     "language": "python",
     "metadata": {},
     "outputs": []
    }
   ],
   "metadata": {}
  }
 ]
}