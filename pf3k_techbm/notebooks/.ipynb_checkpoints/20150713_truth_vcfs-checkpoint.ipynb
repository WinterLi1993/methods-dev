{
 "metadata": {
  "name": "",
  "signature": "sha256:4c3080bcba75f187d0ee68d6c3b6a622802b226b029eb524ea1674ae4b896cf0"
 },
 "nbformat": 3,
 "nbformat_minor": 0,
 "worksheets": [
  {
   "cells": [
    {
     "cell_type": "heading",
     "level": 1,
     "metadata": {},
     "source": [
      "Setup"
     ]
    },
    {
     "cell_type": "code",
     "collapsed": false,
     "input": [
      "%run _shared_setup.ipynb"
     ],
     "language": "python",
     "metadata": {},
     "outputs": [
      {
       "output_type": "stream",
       "stream": "stdout",
       "text": [
        "python 3.4.1 |Anaconda 2.1.0 (x86_64)| (default, Sep 10 2014, 17:24:09) \n",
        "[GCC 4.2.1 (Apple Inc. build 5577)]\n",
        "numpy 1.9.2\n",
        "scipy 0.14.0\n",
        "pandas 0.14.1\n",
        "numexpr 2.3.1\n",
        "pysam 0.8.3\n",
        "petl 1.0.10\n",
        "petlx 1.0.3\n",
        "vcf 0.6.7\n",
        "h5py 2.3.1\n",
        "tables 3.1.1\n",
        "vcfplt 0.8\n",
        "mkdir: /nfs/team112_internal/production_files/Pf3k/methods/assembled_samples: File exists\r\n"
       ]
      },
      {
       "output_type": "stream",
       "stream": "stdout",
       "text": [
        "tbl_pgv_metadata length = 5729\n",
        "tbl_pgv_locations length = 102\n",
        "tbl_pf3k_metadata length = 2512\n",
        "tbl_pf_solaris length = 10879"
       ]
      },
      {
       "output_type": "stream",
       "stream": "stdout",
       "text": [
        "\n",
        "tbl_assembled_samples length = 11\n"
       ]
      }
     ],
     "prompt_number": 1
    },
    {
     "cell_type": "code",
     "collapsed": false,
     "input": [
      "!mkdir -p {os.path.join(PROCESSED_ASSEMBLED_SAMPLES_DIR, 'truth_vcfs')}"
     ],
     "language": "python",
     "metadata": {},
     "outputs": [],
     "prompt_number": 9
    },
    {
     "cell_type": "heading",
     "level": 1,
     "metadata": {},
     "source": [
      "Check data"
     ]
    },
    {
     "cell_type": "code",
     "collapsed": false,
     "input": [
      "tbl_samples_to_process = (tbl_assembled_samples\n",
      "    .cutout('Notes')\n",
      "    .selectnotnone('bam_fn')\n",
      "    .selecteq('To be used for', 'Validation')\n",
      "    .addfield('thomas_gff_filestem', lambda rec: os.path.join(\n",
      "        '/nfs/pathogen003/tdo/Pfalciparum/PF3K/Reference12Genomes/Sharing_25Jun2015/SNP/Reference',\n",
      "        \"Pf%s\" % rec['Isolate code']\n",
      "    ))\n",
      "    .addfield('truth_vcf_filestem', lambda rec: os.path.join(\n",
      "        PROCESSED_ASSEMBLED_SAMPLES_DIR,\n",
      "        'truth_vcfs',\n",
      "        \"truth_%s\" % rec['Isolate code']\n",
      "    ))\n",
      "    .cut([0, 1, 14, 15])\n",
      "#     .head(4)\n",
      ")\n",
      "tbl_samples_to_process.displayall(index_header=True)"
     ],
     "language": "python",
     "metadata": {},
     "outputs": [
      {
       "html": [
        "<table class='petl'>\n",
        "<thead>\n",
        "<tr>\n",
        "<th>0|Sample name</th>\n",
        "<th>1|Isolate code</th>\n",
        "<th>2|thomas_gff_filestem</th>\n",
        "<th>3|truth_vcf_filestem</th>\n",
        "</tr>\n",
        "</thead>\n",
        "<tbody>\n",
        "<tr>\n",
        "<td>7G8</td>\n",
        "<td>7G8</td>\n",
        "<td>/nfs/pathogen003/tdo/Pfalciparum/PF3K/Reference12Genomes/Sharing_25Jun2015/SNP/Reference/Pf7G8</td>\n",
        "<td>/nfs/team112_internal/production_files/Pf3k/methods/assembled_samples/truth_vcfs/truth_7G8</td>\n",
        "</tr>\n",
        "<tr>\n",
        "<td>GB4</td>\n",
        "<td>GB4</td>\n",
        "<td>/nfs/pathogen003/tdo/Pfalciparum/PF3K/Reference12Genomes/Sharing_25Jun2015/SNP/Reference/PfGB4</td>\n",
        "<td>/nfs/team112_internal/production_files/Pf3k/methods/assembled_samples/truth_vcfs/truth_GB4</td>\n",
        "</tr>\n",
        "<tr>\n",
        "<td>Kilifi</td>\n",
        "<td>KE01</td>\n",
        "<td>/nfs/pathogen003/tdo/Pfalciparum/PF3K/Reference12Genomes/Sharing_25Jun2015/SNP/Reference/PfKE01</td>\n",
        "<td>/nfs/team112_internal/production_files/Pf3k/methods/assembled_samples/truth_vcfs/truth_KE01</td>\n",
        "</tr>\n",
        "<tr>\n",
        "<td>KH2</td>\n",
        "<td>KH02</td>\n",
        "<td>/nfs/pathogen003/tdo/Pfalciparum/PF3K/Reference12Genomes/Sharing_25Jun2015/SNP/Reference/PfKH02</td>\n",
        "<td>/nfs/team112_internal/production_files/Pf3k/methods/assembled_samples/truth_vcfs/truth_KH02</td>\n",
        "</tr>\n",
        "<tr>\n",
        "<td>Guinea</td>\n",
        "<td>GN01</td>\n",
        "<td>/nfs/pathogen003/tdo/Pfalciparum/PF3K/Reference12Genomes/Sharing_25Jun2015/SNP/Reference/PfGN01</td>\n",
        "<td>/nfs/team112_internal/production_files/Pf3k/methods/assembled_samples/truth_vcfs/truth_GN01</td>\n",
        "</tr>\n",
        "</tbody>\n",
        "</table>\n"
       ],
       "metadata": {},
       "output_type": "display_data"
      }
     ],
     "prompt_number": 3
    },
    {
     "cell_type": "code",
     "collapsed": false,
     "input": [
      "tbl_samples_to_process.values('thomas_gff_filestem')[0]"
     ],
     "language": "python",
     "metadata": {},
     "outputs": [
      {
       "metadata": {},
       "output_type": "pyout",
       "prompt_number": 4,
       "text": [
        "'/nfs/pathogen003/tdo/Pfalciparum/PF3K/Reference12Genomes/Sharing_25Jun2015/SNP/Reference/Pf7G8'"
       ]
      }
     ],
     "prompt_number": 4
    },
    {
     "cell_type": "heading",
     "level": 1,
     "metadata": {},
     "source": [
      "Functions"
     ]
    },
    {
     "cell_type": "code",
     "collapsed": false,
     "input": [
      "def convert_gff(gff_fn=\"%s.Pf3D7_01_v3.Mutations.gff\" % tbl_samples_to_process.values('thomas_gff_filestem')[0],\n",
      "                vcf_fn=\"%s.Pf3D7_01_v3.vcf\" % tbl_samples_to_process.values('truth_vcf_filestem')[0],\n",
      "                ref_dict=SeqIO.to_dict(SeqIO.parse(open(REF_GENOME), \"fasta\"))):\n",
      "#     Write VCF header\n",
      "    fo = open(vcf_fn, 'w')\n",
      "    fo.write(\"##fileformat=VCFv4.1\\n\")\n",
      "    fo.write(\"##description=This file created with 20150629_convert_gff_to_vcf.ipynb\\n\")\n",
      "    fo.write(\"#CHROM\\tPOS\\tID\\tREF\\tALT\\tQUAL\\tFILTER\\tINFO\\n\")\n",
      "#     Write data\n",
      "    tbl_gff = (etl.fromtsv(gff_fn))\n",
      "    current_state = \"SNP\"\n",
      "    ins_sequence = ''\n",
      "    for rec in tbl_gff:\n",
      "        (chrom, bba, variant_type, pos, pos2, zero, strand, dot, note) = rec\n",
      "        pos = int(pos)\n",
      "        pos2 = int(pos2)\n",
      "        zero = int(zero)\n",
      "        if (\n",
      "            bba != 'BBA' or\n",
      "            not(variant_type in ['SNP', 'Del', 'Ins', 'Synteny']) or\n",
      "            (variant_type != 'Synteny' and pos != pos2) or\n",
      "            zero != 0 or\n",
      "            dot != '.' or\n",
      "            not(note.startswith('note'))\n",
      "        ):\n",
      "            return(\"error\")\n",
      "        if variant_type == 'SNP':\n",
      "            if current_state == 'Del':\n",
      "                ref = str(ref_dict[chrom][variant_start-1:variant_end].seq)\n",
      "                alt = ref_dict[chrom][variant_start-1]\n",
      "                fo.write(\"%s\\t%s\\t.\\t%s\\t%s\\t.\\tPASS\\t.\\n\" % (chrom, variant_start, ref, alt))\n",
      "            if current_state == 'Ins':\n",
      "                ref = ref_dict[chrom][variant_start-1]\n",
      "                alt = ref_dict[chrom][variant_start-1] + ins_sequence\n",
      "                fo.write(\"%s\\t%s\\t.\\t%s\\t%s\\t.\\tPASS\\t.\\n\" % (chrom, variant_start, ref, alt))\n",
      "                ins_sequence = ''\n",
      "            ref = ref_dict[chrom][pos-1]\n",
      "            alt = note[20]\n",
      "            fo.write(\"%s\\t%s\\t.\\t%s\\t%s\\t.\\tPASS\\t.\\n\" % (chrom, pos, ref, alt))\n",
      "            current_state = \"SNP\"\n",
      "        elif variant_type == 'Del':\n",
      "            if current_state == 'Del':\n",
      "                if pos > (variant_end+1): # i.e. we have moved into a different del so need to print out previous\n",
      "                    ref = str(ref_dict[chrom][variant_start-1:variant_end].seq)\n",
      "                    alt = ref_dict[chrom][variant_start-1]\n",
      "                    fo.write(\"%s\\t%s\\t.\\t%s\\t%s\\t.\\tPASS\\t.\\n\" % (chrom, variant_start, ref, alt))\n",
      "                    variant_start = pos-1\n",
      "            if current_state == 'Ins':\n",
      "                ref = ref_dict[chrom][variant_start-1]\n",
      "                alt = ref_dict[chrom][variant_start-1] + ins_sequence\n",
      "                fo.write(\"%s\\t%s\\t.\\t%s\\t%s\\t.\\tPASS\\t.\\n\" % (chrom, variant_start, ref, alt))\n",
      "                variant_start = pos-1\n",
      "            if current_state == 'SNP':\n",
      "                variant_start = pos-1\n",
      "            variant_end = pos\n",
      "            current_state = \"Del\"\n",
      "        elif variant_type == 'Ins':\n",
      "            if current_state == 'Del':\n",
      "                ref = str(ref_dict[chrom][variant_start-1:variant_end].seq)\n",
      "                alt = ref_dict[chrom][variant_start-1]\n",
      "                fo.write(\"%s\\t%s\\t.\\t%s\\t%s\\t.\\tPASS\\t.\\n\" % (chrom, variant_start, ref, alt))\n",
      "                variant_start = pos\n",
      "            if current_state == 'Ins':\n",
      "                if pos > (variant_end+1): # i.e. we have moved into a different del so need to print out previous\n",
      "                    ref = ref_dict[chrom][variant_start-1]\n",
      "                    alt = ref_dict[chrom][variant_start-1] + ins_sequence\n",
      "                    fo.write(\"%s\\t%s\\t.\\t%s\\t%s\\t.\\tPASS\\t.\\n\" % (chrom, variant_start, ref, alt))\n",
      "                    variant_start = pos\n",
      "                    ins_sequence = ''\n",
      "            if current_state == 'SNP':\n",
      "                variant_start = pos\n",
      "            ins_sequence = ins_sequence + note[26]\n",
      "            variant_end = pos\n",
      "            current_state = \"Ins\"\n",
      "        elif variant_type == 'Synteny':\n",
      "            if current_state == 'Del':\n",
      "                ref = str(ref_dict[chrom][variant_start-1:variant_end].seq)\n",
      "                alt = ref_dict[chrom][variant_start]\n",
      "                fo.write(\"%s\\t%s\\t.\\t%s\\t%s\\t.\\tPASS\\t.\\n\" % (chrom, variant_start, ref, alt))\n",
      "            if current_state == 'Ins':\n",
      "                ref = ref_dict[chrom][variant_start-1]\n",
      "                alt = ref_dict[chrom][variant_start-1] + ins_sequence\n",
      "                fo.write(\"%s\\t%s\\t.\\t%s\\t%s\\t.\\tPASS\\t.\\n\" % (chrom, variant_start, ref, alt))\n",
      "                ins_sequence = ''\n",
      "            current_state = \"Synteny\"\n",
      "        else:\n",
      "            return(\"error\")\n",
      "    fo.close()\n",
      "    \n",
      "    return(vcf_fn)\n"
     ],
     "language": "python",
     "metadata": {},
     "outputs": [],
     "prompt_number": 5
    },
    {
     "cell_type": "code",
     "collapsed": false,
     "input": [
      "convert_gff()"
     ],
     "language": "python",
     "metadata": {},
     "outputs": [
      {
       "metadata": {},
       "output_type": "pyout",
       "prompt_number": 6,
       "text": [
        "'/nfs/team112_internal/production_files/Pf3k/methods/assembled_samples/truth_vcfs/truth_7G8.Pf3D7_01_v3.vcf'"
       ]
      }
     ],
     "prompt_number": 6
    },
    {
     "cell_type": "code",
     "collapsed": false,
     "input": [
      "rewrite=False\n",
      "\n",
      "in_seq_handle = open(REF_GENOME)\n",
      "chromosomes = SeqIO.to_dict(SeqIO.parse(in_seq_handle, \"fasta\")).keys()\n",
      "\n",
      "for chromosome in chromosomes:\n",
      "    if chromosome == 'PFC10_API_IRAB' or chromosome == 'M76611':\n",
      "        continue\n",
      "#     if chromosome == 'PFC10_API_IRAB':\n",
      "#         gff_chromosome='PF_apicoplast_genome_1' \n",
      "#     elif chromosome == 'M76611':\n",
      "#         gff_chromosome='Pf_M76611' \n",
      "#     else:\n",
      "#         gff_chromosome=chromosome\n",
      "    print(chromosome)\n",
      "    for rec in tbl_samples_to_process.data():\n",
      "        truth_gff_gn = \"%s.%s.Mutations.gff\" % (rec[2], chromosome)\n",
      "        unannotated_vcf_fn = \"%s.%s.unannotated.vcf\" % (rec[3], chromosome)\n",
      "        left_aligned_vcf_fn = \"%s.%s.leftaligned.vcf\" % (rec[3], chromosome)\n",
      "        snpeff_vcf_fn = \"%s.%s.snpeff.vcf\" % (rec[3], chromosome)\n",
      "        snpeff_annotated_vcf_fn = \"%s.%s.snpeff_annotated.vcf\" % (rec[3], chromosome)\n",
      "        annotated_vcf_fn = \"%s.%s.annotated.vcf\" % (rec[3], chromosome)\n",
      "        \n",
      "#         if os.path.exists(\"%s.%s.Mutations.gff\" % (rec[2], chromosome)):\n",
      "        if (not os.path.isfile(unannotated_vcf_fn) and not os.path.isfile(annotated_vcf_fn+'.gz')) or rewrite:\n",
      "            convert_gff(\n",
      "                gff_fn=truth_gff_gn,\n",
      "                vcf_fn=unannotated_vcf_fn\n",
      "            )\n",
      "\n",
      "        if (not os.path.isfile(left_aligned_vcf_fn) and not os.path.isfile(annotated_vcf_fn+'.gz')) or rewrite:\n",
      "            !{gatk_exe} -T LeftAlignAndTrimVariants \\\n",
      "            -R {REF_GENOME} \\\n",
      "            -V {unannotated_vcf_fn} \\\n",
      "            -o {left_aligned_vcf_fn} \\\n",
      "            2> /dev/null\n",
      "\n",
      "        if (not os.path.isfile(snpeff_vcf_fn) and not os.path.isfile(annotated_vcf_fn+'.gz')) or rewrite:\n",
      "            !{snpeff_exe} \\\n",
      "            -v -o gatk Pf3D7july2015 \\\n",
      "            {left_aligned_vcf_fn} \\\n",
      "            -no-downstream \\\n",
      "            -no-upstream \\\n",
      "            > {snpeff_vcf_fn} \\\n",
      "            2> /dev/null\n",
      "\n",
      "        if (not os.path.isfile(snpeff_annotated_vcf_fn) and not os.path.isfile(annotated_vcf_fn+'.gz')) or rewrite:\n",
      "            !{gatk_exe} \\\n",
      "            -T VariantAnnotator \\\n",
      "            -R {REF_GENOME} \\\n",
      "            -A SnpEff \\\n",
      "            --variant {unannotated_vcf_fn} \\\n",
      "            --snpEffFile {snpeff_vcf_fn} \\\n",
      "            -o {snpeff_annotated_vcf_fn} \\\n",
      "            2> /dev/null\n",
      "\n",
      "        if not os.path.isfile(annotated_vcf_fn+'.gz') or rewrite:\n",
      "            !cat {snpeff_annotated_vcf_fn} \\\n",
      "            | vcf-annotate -a {regions_fn} \\\n",
      "               -d key=INFO,ID=RegionType,Number=1,Type=String,Description='The type of genome region within which the variant is found. SubtelomericRepeat: repetitive regions at the ends of the chromosomes. SubtelomericHypervariable: subtelomeric region of poor conservation between the 3D7 reference genome and other samples. InternalHypervariable: chromosome-internal region of poor conservation between the 3D7 reference genome and other samples. Centromere: start and end coordinates of the centromere genome annotation. Core: everything else.' \\\n",
      "               -c CHROM,FROM,TO,INFO/RegionType \\\n",
      "            > {annotated_vcf_fn}\n",
      "\n",
      "            !bgzip -f {annotated_vcf_fn}\n",
      "            !tabix -p vcf -f {annotated_vcf_fn}.gz\n",
      "\n",
      "        if not os.path.isfile(annotated_vcf_fn.replace('.vcf', '.SNP.vcf')+'.gz') or rewrite:\n",
      "            !{gatk_exe} \\\n",
      "            -T SelectVariants \\\n",
      "            -R {REF_GENOME} \\\n",
      "            -V {annotated_vcf_fn}.gz \\\n",
      "            -selectType SNP \\\n",
      "            -o {annotated_vcf_fn.replace('.vcf', '.SNP.vcf')} 2> /dev/null\n",
      "\n",
      "            !bgzip -f {annotated_vcf_fn.replace('.vcf', '.SNP.vcf')}\n",
      "            !tabix -p vcf -f {annotated_vcf_fn.replace('.vcf', '.SNP.vcf')}.gz\n",
      "            \n",
      "        if not os.path.isfile(annotated_vcf_fn.replace('.vcf', '.INDEL.vcf')+'.gz') or rewrite:\n",
      "            !{gatk_exe} \\\n",
      "            -T SelectVariants \\\n",
      "            -R {REF_GENOME} \\\n",
      "            -V {annotated_vcf_fn}.gz \\\n",
      "            -xlSelectType SNP \\\n",
      "            -o {annotated_vcf_fn.replace('.vcf', '.INDEL.vcf')} 2> /dev/null\n",
      "\n",
      "            !bgzip -f {annotated_vcf_fn.replace('.vcf', '.INDEL.vcf')}\n",
      "            !tabix -p vcf -f {annotated_vcf_fn.replace('.vcf', '.INDEL.vcf')}.gz\n",
      "\n",
      "        !rm {unannotated_vcf_fn}\n",
      "        !rm {left_aligned_vcf_fn}\n",
      "        !rm {snpeff_vcf_fn}\n",
      "        !rm {snpeff_annotated_vcf_fn}\n",
      "        !rm {unannotated_vcf_fn}.idx\n",
      "        !rm {left_aligned_vcf_fn}.idx\n",
      "        !rm {snpeff_vcf_fn}.idx\n",
      "        !rm {snpeff_annotated_vcf_fn}.idx\n"
     ],
     "language": "python",
     "metadata": {},
     "outputs": [
      {
       "output_type": "stream",
       "stream": "stdout",
       "text": [
        "Pf3D7_08_v3\n"
       ]
      },
      {
       "output_type": "stream",
       "stream": "stdout",
       "text": [
        "INFO  09:54:24,413 HelpFormatter - -------------------------------------------------------------------------------- \r\n",
        "INFO  09:54:24,417 HelpFormatter - The Genome Analysis Toolkit (GATK) v3.4-0-g7e26428, Compiled 2015/05/15 03:25:41 \r\n",
        "INFO  09:54:24,417 HelpFormatter - Copyright (c) 2010 The Broad Institute \r\n",
        "INFO  09:54:24,418 HelpFormatter - For support and documentation go to http://www.broadinstitute.org/gatk \r\n",
        "INFO  09:54:24,421 HelpFormatter - Program Args: -T LeftAlignAndTrimVariants -R /data/plasmodium/pfalciparum/recon/roamato/Pf3D7_v3/3D7_sorted.fa -V /nfs/team112_internal/production_files/Pf3k/methods/assembled_samples/truth_vcfs/truth_7G8.Pf3D7_08_v3.unannotated.vcf -o /nfs/team112_internal/production_files/Pf3k/methods/assembled_samples/truth_vcfs/truth_7G8.Pf3D7_08_v3.leftaligned.vcf \r\n"
       ]
      },
      {
       "output_type": "stream",
       "stream": "stdout",
       "text": [
        "INFO  09:54:24,501 HelpFormatter - Executing as rpearson@dhcp360.well.ox.ac.uk on Mac OS X 10.10.3 x86_64; Java HotSpot(TM) 64-Bit Server VM 1.7.0_60-b19. \r\n",
        "INFO  09:54:24,502 HelpFormatter - Date/Time: 2015/07/14 09:54:24 \r\n",
        "INFO  09:54:24,502 HelpFormatter - -------------------------------------------------------------------------------- \r\n",
        "INFO  09:54:24,502 HelpFormatter - -------------------------------------------------------------------------------- \r\n"
       ]
      },
      {
       "output_type": "stream",
       "stream": "stdout",
       "text": [
        "INFO  09:54:25,027 GenomeAnalysisEngine - Strictness is SILENT \r\n"
       ]
      },
      {
       "output_type": "stream",
       "stream": "stdout",
       "text": [
        "INFO  09:54:25,091 GenomeAnalysisEngine - Downsampling Settings: Method: BY_SAMPLE, Target Coverage: 1000 \r\n"
       ]
      },
      {
       "output_type": "stream",
       "stream": "stdout",
       "text": [
        "INFO  09:54:25,354 RMDTrackBuilder - Writing Tribble index to disk for file /nfs/team112_internal/production_files/Pf3k/methods/assembled_samples/truth_vcfs/truth_7G8.Pf3D7_08_v3.unannotated.vcf.idx \r\n"
       ]
      },
      {
       "output_type": "stream",
       "stream": "stdout",
       "text": [
        "INFO  09:54:25,465 GenomeAnalysisEngine - Preparing for traversal \r\n",
        "INFO  09:54:25,466 GenomeAnalysisEngine - Done preparing for traversal \r\n",
        "INFO  09:54:25,467 ProgressMeter - [INITIALIZATION COMPLETE; STARTING PROCESSING] \r\n",
        "INFO  09:54:25,468 ProgressMeter -                 | processed |    time |    per 1M |           |   total | remaining \r\n",
        "INFO  09:54:25,468 ProgressMeter -        Location |     sites | elapsed |     sites | completed | runtime |   runtime \r\n"
       ]
      },
      {
       "output_type": "stream",
       "stream": "stdout",
       "text": [
        "1719 variants were aligned\r\n",
        "INFO  09:54:26,232 ProgressMeter -            done     13714.0     0.0 s      55.0 s       40.8%     0.0 s       0.0 s \r\n",
        "INFO  09:54:26,233 ProgressMeter - Total runtime 0.77 secs, 0.01 min, 0.00 hours \r\n"
       ]
      },
      {
       "output_type": "stream",
       "stream": "stdout",
       "text": [
        "INFO  09:54:27,963 GATKRunReport - Uploaded run statistics report to AWS S3 \r\n"
       ]
      },
      {
       "output_type": "stream",
       "stream": "stdout",
       "text": [
        "[bgzip] No such file or directory: /nfs/team112_internal/production_files/Pf3k/methods/assembled_samples/truth_vcfs/truth_7G8.Pf3D7_08_v3.annotated.SNP.vcf\r\n"
       ]
      },
      {
       "output_type": "stream",
       "stream": "stdout",
       "text": [
        "open: No such file or directory\r\n",
        "[bgzf_check_bgzf] failed to open the file: /nfs/team112_internal/production_files/Pf3k/methods/assembled_samples/truth_vcfs/truth_7G8.Pf3D7_08_v3.annotated.SNP.vcf.gz\r\n",
        "[tabix] was bgzip used to compress this file? /nfs/team112_internal/production_files/Pf3k/methods/assembled_samples/truth_vcfs/truth_7G8.Pf3D7_08_v3.annotated.SNP.vcf.gz\r\n"
       ]
      },
      {
       "output_type": "stream",
       "stream": "stdout",
       "text": [
        "[bgzip] No such file or directory: /nfs/team112_internal/production_files/Pf3k/methods/assembled_samples/truth_vcfs/truth_7G8.Pf3D7_08_v3.annotated.INDEL.vcf\r\n"
       ]
      },
      {
       "output_type": "stream",
       "stream": "stdout",
       "text": [
        "open: No such file or directory\r\n",
        "[bgzf_check_bgzf] failed to open the file: /nfs/team112_internal/production_files/Pf3k/methods/assembled_samples/truth_vcfs/truth_7G8.Pf3D7_08_v3.annotated.INDEL.vcf.gz\r\n",
        "[tabix] was bgzip used to compress this file? /nfs/team112_internal/production_files/Pf3k/methods/assembled_samples/truth_vcfs/truth_7G8.Pf3D7_08_v3.annotated.INDEL.vcf.gz\r\n"
       ]
      },
      {
       "output_type": "stream",
       "stream": "stdout",
       "text": [
        "INFO  09:55:02,801 HelpFormatter - -------------------------------------------------------------------------------- \r\n",
        "INFO  09:55:02,803 HelpFormatter - The Genome Analysis Toolkit (GATK) v3.4-0-g7e26428, Compiled 2015/05/15 03:25:41 \r\n",
        "INFO  09:55:02,803 HelpFormatter - Copyright (c) 2010 The Broad Institute \r\n",
        "INFO  09:55:02,803 HelpFormatter - For support and documentation go to http://www.broadinstitute.org/gatk \r\n",
        "INFO  09:55:02,806 HelpFormatter - Program Args: -T LeftAlignAndTrimVariants -R /data/plasmodium/pfalciparum/recon/roamato/Pf3D7_v3/3D7_sorted.fa -V /nfs/team112_internal/production_files/Pf3k/methods/assembled_samples/truth_vcfs/truth_GB4.Pf3D7_08_v3.unannotated.vcf -o /nfs/team112_internal/production_files/Pf3k/methods/assembled_samples/truth_vcfs/truth_GB4.Pf3D7_08_v3.leftaligned.vcf \r\n",
        "INFO  09:55:02,814 HelpFormatter - Executing as rpearson@dhcp360.well.ox.ac.uk on Mac OS X 10.10.3 x86_64; Java HotSpot(TM) 64-Bit Server VM 1.7.0_60-b19. \r\n",
        "INFO  09:55:02,814 HelpFormatter - Date/Time: 2015/07/14 09:55:02 \r\n",
        "INFO  09:55:02,814 HelpFormatter - -------------------------------------------------------------------------------- \r\n",
        "INFO  09:55:02,814 HelpFormatter - -------------------------------------------------------------------------------- \r\n"
       ]
      },
      {
       "output_type": "stream",
       "stream": "stdout",
       "text": [
        "INFO  09:55:03,295 GenomeAnalysisEngine - Strictness is SILENT \r\n"
       ]
      },
      {
       "output_type": "stream",
       "stream": "stdout",
       "text": [
        "INFO  09:55:03,353 GenomeAnalysisEngine - Downsampling Settings: Method: BY_SAMPLE, Target Coverage: 1000 \r\n"
       ]
      },
      {
       "output_type": "stream",
       "stream": "stdout",
       "text": [
        "INFO  09:55:03,621 RMDTrackBuilder - Writing Tribble index to disk for file /nfs/team112_internal/production_files/Pf3k/methods/assembled_samples/truth_vcfs/truth_GB4.Pf3D7_08_v3.unannotated.vcf.idx \r\n"
       ]
      },
      {
       "output_type": "stream",
       "stream": "stdout",
       "text": [
        "INFO  09:55:03,685 GenomeAnalysisEngine - Preparing for traversal \r\n",
        "INFO  09:55:03,686 GenomeAnalysisEngine - Done preparing for traversal \r\n",
        "INFO  09:55:03,687 ProgressMeter - [INITIALIZATION COMPLETE; STARTING PROCESSING] \r\n",
        "INFO  09:55:03,687 ProgressMeter -                 | processed |    time |    per 1M |           |   total | remaining \r\n",
        "INFO  09:55:03,688 ProgressMeter -        Location |     sites | elapsed |     sites | completed | runtime |   runtime \r\n"
       ]
      },
      {
       "output_type": "stream",
       "stream": "stdout",
       "text": [
        "1845 variants were aligned\r\n",
        "INFO  09:55:04,598 ProgressMeter -            done     13774.0     0.0 s      66.0 s       40.7%     0.0 s       0.0 s \r\n",
        "INFO  09:55:04,598 ProgressMeter - Total runtime 0.91 secs, 0.02 min, 0.00 hours \r\n"
       ]
      },
      {
       "output_type": "stream",
       "stream": "stdout",
       "text": [
        "INFO  09:55:05,976 GATKRunReport - Uploaded run statistics report to AWS S3 \r\n"
       ]
      },
      {
       "output_type": "stream",
       "stream": "stdout",
       "text": [
        "[bgzip] No such file or directory: /nfs/team112_internal/production_files/Pf3k/methods/assembled_samples/truth_vcfs/truth_GB4.Pf3D7_08_v3.annotated.SNP.vcf\r\n"
       ]
      },
      {
       "output_type": "stream",
       "stream": "stdout",
       "text": [
        "open: No such file or directory\r\n",
        "[bgzf_check_bgzf] failed to open the file: /nfs/team112_internal/production_files/Pf3k/methods/assembled_samples/truth_vcfs/truth_GB4.Pf3D7_08_v3.annotated.SNP.vcf.gz\r\n",
        "[tabix] was bgzip used to compress this file? /nfs/team112_internal/production_files/Pf3k/methods/assembled_samples/truth_vcfs/truth_GB4.Pf3D7_08_v3.annotated.SNP.vcf.gz\r\n"
       ]
      },
      {
       "output_type": "stream",
       "stream": "stdout",
       "text": [
        "[bgzip] No such file or directory: /nfs/team112_internal/production_files/Pf3k/methods/assembled_samples/truth_vcfs/truth_GB4.Pf3D7_08_v3.annotated.INDEL.vcf\r\n"
       ]
      },
      {
       "output_type": "stream",
       "stream": "stdout",
       "text": [
        "open: No such file or directory\r\n",
        "[bgzf_check_bgzf] failed to open the file: /nfs/team112_internal/production_files/Pf3k/methods/assembled_samples/truth_vcfs/truth_GB4.Pf3D7_08_v3.annotated.INDEL.vcf.gz\r\n",
        "[tabix] was bgzip used to compress this file? /nfs/team112_internal/production_files/Pf3k/methods/assembled_samples/truth_vcfs/truth_GB4.Pf3D7_08_v3.annotated.INDEL.vcf.gz\r\n"
       ]
      },
      {
       "output_type": "stream",
       "stream": "stdout",
       "text": [
        "INFO  09:56:05,719 HelpFormatter - -------------------------------------------------------------------------------- \r\n",
        "INFO  09:56:05,721 HelpFormatter - The Genome Analysis Toolkit (GATK) v3.4-0-g7e26428, Compiled 2015/05/15 03:25:41 \r\n",
        "INFO  09:56:05,722 HelpFormatter - Copyright (c) 2010 The Broad Institute \r\n",
        "INFO  09:56:05,722 HelpFormatter - For support and documentation go to http://www.broadinstitute.org/gatk \r\n",
        "INFO  09:56:05,726 HelpFormatter - Program Args: -T LeftAlignAndTrimVariants -R /data/plasmodium/pfalciparum/recon/roamato/Pf3D7_v3/3D7_sorted.fa -V /nfs/team112_internal/production_files/Pf3k/methods/assembled_samples/truth_vcfs/truth_KE01.Pf3D7_08_v3.unannotated.vcf -o /nfs/team112_internal/production_files/Pf3k/methods/assembled_samples/truth_vcfs/truth_KE01.Pf3D7_08_v3.leftaligned.vcf \r\n",
        "INFO  09:56:05,735 HelpFormatter - Executing as rpearson@dhcp360.well.ox.ac.uk on Mac OS X 10.10.3 x86_64; Java HotSpot(TM) 64-Bit Server VM 1.7.0_60-b19. \r\n",
        "INFO  09:56:05,735 HelpFormatter - Date/Time: 2015/07/14 09:56:05 \r\n",
        "INFO  09:56:05,735 HelpFormatter - -------------------------------------------------------------------------------- \r\n",
        "INFO  09:56:05,735 HelpFormatter - -------------------------------------------------------------------------------- \r\n"
       ]
      },
      {
       "output_type": "stream",
       "stream": "stdout",
       "text": [
        "INFO  09:56:06,144 GenomeAnalysisEngine - Strictness is SILENT \r\n"
       ]
      },
      {
       "output_type": "stream",
       "stream": "stdout",
       "text": [
        "INFO  09:56:06,199 GenomeAnalysisEngine - Downsampling Settings: Method: BY_SAMPLE, Target Coverage: 1000 \r\n"
       ]
      },
      {
       "output_type": "stream",
       "stream": "stdout",
       "text": [
        "INFO  09:56:06,452 RMDTrackBuilder - Writing Tribble index to disk for file /nfs/team112_internal/production_files/Pf3k/methods/assembled_samples/truth_vcfs/truth_KE01.Pf3D7_08_v3.unannotated.vcf.idx \r\n"
       ]
      },
      {
       "output_type": "stream",
       "stream": "stdout",
       "text": [
        "INFO  09:56:06,512 GenomeAnalysisEngine - Preparing for traversal \r\n",
        "INFO  09:56:06,513 GenomeAnalysisEngine - Done preparing for traversal \r\n",
        "INFO  09:56:06,514 ProgressMeter - [INITIALIZATION COMPLETE; STARTING PROCESSING] \r\n",
        "INFO  09:56:06,514 ProgressMeter -                 | processed |    time |    per 1M |           |   total | remaining \r\n",
        "INFO  09:56:06,515 ProgressMeter -        Location |     sites | elapsed |     sites | completed | runtime |   runtime \r\n"
       ]
      },
      {
       "output_type": "stream",
       "stream": "stdout",
       "text": [
        "1610 variants were aligned\r\n",
        "INFO  09:56:07,213 ProgressMeter -            done     13126.0     0.0 s      53.0 s       40.7%     0.0 s       0.0 s \r\n",
        "INFO  09:56:07,214 ProgressMeter - Total runtime 0.70 secs, 0.01 min, 0.00 hours \r\n"
       ]
      },
      {
       "output_type": "stream",
       "stream": "stdout",
       "text": [
        "INFO  09:56:11,054 GATKRunReport - Uploaded run statistics report to AWS S3 \r\n"
       ]
      },
      {
       "output_type": "stream",
       "stream": "stdout",
       "text": [
        "[bgzip] No such file or directory: /nfs/team112_internal/production_files/Pf3k/methods/assembled_samples/truth_vcfs/truth_KE01.Pf3D7_08_v3.annotated.SNP.vcf\r\n"
       ]
      },
      {
       "output_type": "stream",
       "stream": "stdout",
       "text": [
        "open: No such file or directory\r\n",
        "[bgzf_check_bgzf] failed to open the file: /nfs/team112_internal/production_files/Pf3k/methods/assembled_samples/truth_vcfs/truth_KE01.Pf3D7_08_v3.annotated.SNP.vcf.gz\r\n",
        "[tabix] was bgzip used to compress this file? /nfs/team112_internal/production_files/Pf3k/methods/assembled_samples/truth_vcfs/truth_KE01.Pf3D7_08_v3.annotated.SNP.vcf.gz\r\n"
       ]
      },
      {
       "output_type": "stream",
       "stream": "stdout",
       "text": [
        "[bgzip] No such file or directory: /nfs/team112_internal/production_files/Pf3k/methods/assembled_samples/truth_vcfs/truth_KE01.Pf3D7_08_v3.annotated.INDEL.vcf\r\n"
       ]
      },
      {
       "output_type": "stream",
       "stream": "stdout",
       "text": [
        "open: No such file or directory\r\n",
        "[bgzf_check_bgzf] failed to open the file: /nfs/team112_internal/production_files/Pf3k/methods/assembled_samples/truth_vcfs/truth_KE01.Pf3D7_08_v3.annotated.INDEL.vcf.gz\r\n",
        "[tabix] was bgzip used to compress this file? /nfs/team112_internal/production_files/Pf3k/methods/assembled_samples/truth_vcfs/truth_KE01.Pf3D7_08_v3.annotated.INDEL.vcf.gz\r\n"
       ]
      },
      {
       "output_type": "stream",
       "stream": "stdout",
       "text": [
        "INFO  09:56:50,408 HelpFormatter - -------------------------------------------------------------------------------- \r\n"
       ]
      },
      {
       "output_type": "stream",
       "stream": "stdout",
       "text": [
        "INFO  09:56:50,410 HelpFormatter - The Genome Analysis Toolkit (GATK) v3.4-0-g7e26428, Compiled 2015/05/15 03:25:41 \r\n",
        "INFO  09:56:50,410 HelpFormatter - Copyright (c) 2010 The Broad Institute \r\n",
        "INFO  09:56:50,411 HelpFormatter - For support and documentation go to http://www.broadinstitute.org/gatk \r\n",
        "INFO  09:56:50,414 HelpFormatter - Program Args: -T LeftAlignAndTrimVariants -R /data/plasmodium/pfalciparum/recon/roamato/Pf3D7_v3/3D7_sorted.fa -V /nfs/team112_internal/production_files/Pf3k/methods/assembled_samples/truth_vcfs/truth_KH02.Pf3D7_08_v3.unannotated.vcf -o /nfs/team112_internal/production_files/Pf3k/methods/assembled_samples/truth_vcfs/truth_KH02.Pf3D7_08_v3.leftaligned.vcf \r\n",
        "INFO  09:56:50,422 HelpFormatter - Executing as rpearson@dhcp360.well.ox.ac.uk on Mac OS X 10.10.3 x86_64; Java HotSpot(TM) 64-Bit Server VM 1.7.0_60-b19. \r\n",
        "INFO  09:56:50,422 HelpFormatter - Date/Time: 2015/07/14 09:56:50 \r\n",
        "INFO  09:56:50,423 HelpFormatter - -------------------------------------------------------------------------------- \r\n",
        "INFO  09:56:50,423 HelpFormatter - -------------------------------------------------------------------------------- \r\n"
       ]
      },
      {
       "output_type": "stream",
       "stream": "stdout",
       "text": [
        "INFO  09:56:50,831 GenomeAnalysisEngine - Strictness is SILENT \r\n"
       ]
      },
      {
       "output_type": "stream",
       "stream": "stdout",
       "text": [
        "INFO  09:56:50,898 GenomeAnalysisEngine - Downsampling Settings: Method: BY_SAMPLE, Target Coverage: 1000 \r\n"
       ]
      },
      {
       "output_type": "stream",
       "stream": "stdout",
       "text": [
        "INFO  09:56:51,185 RMDTrackBuilder - Writing Tribble index to disk for file /nfs/team112_internal/production_files/Pf3k/methods/assembled_samples/truth_vcfs/truth_KH02.Pf3D7_08_v3.unannotated.vcf.idx \r\n"
       ]
      },
      {
       "output_type": "stream",
       "stream": "stdout",
       "text": [
        "INFO  09:56:51,247 GenomeAnalysisEngine - Preparing for traversal \r\n",
        "INFO  09:56:51,248 GenomeAnalysisEngine - Done preparing for traversal \r\n",
        "INFO  09:56:51,249 ProgressMeter - [INITIALIZATION COMPLETE; STARTING PROCESSING] \r\n",
        "INFO  09:56:51,249 ProgressMeter -                 | processed |    time |    per 1M |           |   total | remaining \r\n",
        "INFO  09:56:51,249 ProgressMeter -        Location |     sites | elapsed |     sites | completed | runtime |   runtime \r\n"
       ]
      },
      {
       "output_type": "stream",
       "stream": "stdout",
       "text": [
        "1595 variants were aligned\r\n",
        "INFO  09:56:51,982 ProgressMeter -            done     13831.0     0.0 s      52.0 s       40.6%     0.0 s       0.0 s \r\n",
        "INFO  09:56:51,983 ProgressMeter - Total runtime 0.73 secs, 0.01 min, 0.00 hours \r\n"
       ]
      },
      {
       "output_type": "stream",
       "stream": "stdout",
       "text": [
        "INFO  09:56:53,615 GATKRunReport - Uploaded run statistics report to AWS S3 \r\n"
       ]
      },
      {
       "output_type": "stream",
       "stream": "stdout",
       "text": [
        "[bgzip] No such file or directory: /nfs/team112_internal/production_files/Pf3k/methods/assembled_samples/truth_vcfs/truth_KH02.Pf3D7_08_v3.annotated.SNP.vcf\r\n"
       ]
      },
      {
       "output_type": "stream",
       "stream": "stdout",
       "text": [
        "open: No such file or directory\r\n",
        "[bgzf_check_bgzf] failed to open the file: /nfs/team112_internal/production_files/Pf3k/methods/assembled_samples/truth_vcfs/truth_KH02.Pf3D7_08_v3.annotated.SNP.vcf.gz\r\n",
        "[tabix] was bgzip used to compress this file? /nfs/team112_internal/production_files/Pf3k/methods/assembled_samples/truth_vcfs/truth_KH02.Pf3D7_08_v3.annotated.SNP.vcf.gz\r\n"
       ]
      },
      {
       "output_type": "stream",
       "stream": "stdout",
       "text": [
        "[bgzip] No such file or directory: /nfs/team112_internal/production_files/Pf3k/methods/assembled_samples/truth_vcfs/truth_KH02.Pf3D7_08_v3.annotated.INDEL.vcf\r\n"
       ]
      },
      {
       "output_type": "stream",
       "stream": "stdout",
       "text": [
        "open: No such file or directory\r\n",
        "[bgzf_check_bgzf] failed to open the file: /nfs/team112_internal/production_files/Pf3k/methods/assembled_samples/truth_vcfs/truth_KH02.Pf3D7_08_v3.annotated.INDEL.vcf.gz\r\n",
        "[tabix] was bgzip used to compress this file? /nfs/team112_internal/production_files/Pf3k/methods/assembled_samples/truth_vcfs/truth_KH02.Pf3D7_08_v3.annotated.INDEL.vcf.gz\r\n"
       ]
      },
      {
       "output_type": "stream",
       "stream": "stdout",
       "text": [
        "INFO  09:57:22,815 HelpFormatter - -------------------------------------------------------------------------------- \r\n"
       ]
      },
      {
       "output_type": "stream",
       "stream": "stdout",
       "text": [
        "INFO  09:57:22,817 HelpFormatter - The Genome Analysis Toolkit (GATK) v3.4-0-g7e26428, Compiled 2015/05/15 03:25:41 \r\n",
        "INFO  09:57:22,818 HelpFormatter - Copyright (c) 2010 The Broad Institute \r\n",
        "INFO  09:57:22,818 HelpFormatter - For support and documentation go to http://www.broadinstitute.org/gatk \r\n",
        "INFO  09:57:22,824 HelpFormatter - Program Args: -T LeftAlignAndTrimVariants -R /data/plasmodium/pfalciparum/recon/roamato/Pf3D7_v3/3D7_sorted.fa -V /nfs/team112_internal/production_files/Pf3k/methods/assembled_samples/truth_vcfs/truth_GN01.Pf3D7_08_v3.unannotated.vcf -o /nfs/team112_internal/production_files/Pf3k/methods/assembled_samples/truth_vcfs/truth_GN01.Pf3D7_08_v3.leftaligned.vcf \r\n",
        "INFO  09:57:22,832 HelpFormatter - Executing as rpearson@dhcp360.well.ox.ac.uk on Mac OS X 10.10.3 x86_64; Java HotSpot(TM) 64-Bit Server VM 1.7.0_60-b19. \r\n",
        "INFO  09:57:22,833 HelpFormatter - Date/Time: 2015/07/14 09:57:22 \r\n",
        "INFO  09:57:22,833 HelpFormatter - -------------------------------------------------------------------------------- \r\n",
        "INFO  09:57:22,833 HelpFormatter - -------------------------------------------------------------------------------- \r\n"
       ]
      },
      {
       "output_type": "stream",
       "stream": "stdout",
       "text": [
        "INFO  09:57:23,210 GenomeAnalysisEngine - Strictness is SILENT \r\n"
       ]
      },
      {
       "output_type": "stream",
       "stream": "stdout",
       "text": [
        "INFO  09:57:23,265 GenomeAnalysisEngine - Downsampling Settings: Method: BY_SAMPLE, Target Coverage: 1000 \r\n"
       ]
      },
      {
       "output_type": "stream",
       "stream": "stdout",
       "text": [
        "INFO  09:57:23,517 RMDTrackBuilder - Writing Tribble index to disk for file /nfs/team112_internal/production_files/Pf3k/methods/assembled_samples/truth_vcfs/truth_GN01.Pf3D7_08_v3.unannotated.vcf.idx \r\n"
       ]
      },
      {
       "output_type": "stream",
       "stream": "stdout",
       "text": [
        "INFO  09:57:23,588 GenomeAnalysisEngine - Preparing for traversal \r\n",
        "INFO  09:57:23,589 GenomeAnalysisEngine - Done preparing for traversal \r\n",
        "INFO  09:57:23,589 ProgressMeter - [INITIALIZATION COMPLETE; STARTING PROCESSING] \r\n",
        "INFO  09:57:23,589 ProgressMeter -                 | processed |    time |    per 1M |           |   total | remaining \r\n",
        "INFO  09:57:23,590 ProgressMeter -        Location |     sites | elapsed |     sites | completed | runtime |   runtime \r\n"
       ]
      },
      {
       "output_type": "stream",
       "stream": "stdout",
       "text": [
        "1955 variants were aligned\r\n",
        "INFO  09:57:24,346 ProgressMeter -            done     14302.0     0.0 s      52.0 s       40.8%     0.0 s       0.0 s \r\n",
        "INFO  09:57:24,347 ProgressMeter - Total runtime 0.76 secs, 0.01 min, 0.00 hours \r\n"
       ]
      },
      {
       "output_type": "stream",
       "stream": "stdout",
       "text": [
        "INFO  09:57:25,362 GATKRunReport - Uploaded run statistics report to AWS S3 \r\n"
       ]
      }
     ]
    },
    {
     "cell_type": "code",
     "collapsed": false,
     "input": [],
     "language": "python",
     "metadata": {},
     "outputs": []
    }
   ],
   "metadata": {}
  }
 ]
}