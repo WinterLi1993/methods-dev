{
 "metadata": {
  "name": "",
  "signature": "sha256:e439cd1c73100de390f4fb1e77ebfd00bb8e0ccd1d5cefd7e95f0cb40a431699"
 },
 "nbformat": 3,
 "nbformat_minor": 0,
 "worksheets": [
  {
   "cells": [
    {
     "cell_type": "heading",
     "level": 1,
     "metadata": {},
     "source": [
      "Setup"
     ]
    },
    {
     "cell_type": "code",
     "collapsed": false,
     "input": [
      "from collections import OrderedDict"
     ],
     "language": "python",
     "metadata": {},
     "outputs": [],
     "prompt_number": 1
    },
    {
     "cell_type": "code",
     "collapsed": false,
     "input": [
      "methods = ['freebayes', 'HC', 'mpileup', 'pilon', 'pletypus', 'UGT']\n",
      "\n",
      "vcf_files = OrderedDict()\n",
      "vcf_files['feb_2015'] = OrderedDict()\n",
      "vcf_files['nov_2014'] = OrderedDict()\n",
      "\n",
      "for method in methods:\n",
      "    \n"
     ],
     "language": "python",
     "metadata": {},
     "outputs": []
    }
   ],
   "metadata": {}
  }
 ]
}