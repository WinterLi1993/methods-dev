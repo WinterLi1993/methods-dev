{
 "metadata": {
  "name": "",
  "signature": "sha256:411ed2721d25c52096a509c9c664a4a14e537614a931cd18cd8b4cc9255c050c"
 },
 "nbformat": 3,
 "nbformat_minor": 0,
 "worksheets": [
  {
   "cells": [
    {
     "cell_type": "markdown",
     "metadata": {},
     "source": [
      "# Downloads\n",
      "First download latest version (3.4-0) from https://www.broadinstitute.org/gatk/download\n",
      "\n",
      "Download bwa from http://downloads.sourceforge.net/project/bio-bwa/bwa-0.7.12.tar.bz2\n",
      "\n",
      "Download samtools from http://downloads.sourceforge.net/project/samtools/samtools/1.2/samtools-1.2.tar.bz2\n",
      "\n",
      "Download picard from https://github.com/broadinstitute/picard/releases/download/1.133/picard-tools-1.133.zip\n",
      "\n",
      "Download bcftools from https://github.com/samtools/bcftools/releases/download/1.2/bcftools-1.2.tar.bz2 (not required by GATK, but thought would be good)\n",
      "\n",
      "IGV installed using mac version at https://www.broadinstitute.org/software/igv/download"
     ]
    },
    {
     "cell_type": "heading",
     "level": 1,
     "metadata": {},
     "source": [
      "Setup"
     ]
    },
    {
     "cell_type": "code",
     "collapsed": false,
     "input": [
      "profile_fn = '~/.profile'\n",
      "\n",
      "install_dir = '../opt'\n",
      "!mkdir -p {install_dir}\n",
      "\n",
      "bwa_dir = install_dir + '/bwa'\n",
      "!mkdir -p {bwa_dir}\n",
      "bwa_exe = bwa_dir + '/bwa-0.7.12/bwa'\n",
      "\n",
      "samtools_dir = install_dir + '/samtools'\n",
      "!mkdir -p {samtools_dir}\n",
      "samtools_exe = samtools_dir + '/samtools-1.2/samtools'\n",
      "\n",
      "picard_dir = install_dir + '/picard'\n",
      "!mkdir -p {picard_dir}\n",
      "picard_exe = 'java -jar ' + picard_dir + '/picard-tools-1.133/picard.jar'\n",
      "\n",
      "bcftools_dir = install_dir + '/bcftools'\n",
      "!mkdir -p {bcftools_dir}\n",
      "bcftools_exe = bcftools_dir + '/bcftools-1.2/bcftools'\n",
      "\n",
      "gatk_dir = install_dir + '/gatk'\n",
      "!mkdir -p {gatk_dir}\n",
      "gatk_exe = 'java -jar ' + gatk_dir + '/GenomeAnalysisTK.jar'\n"
     ],
     "language": "python",
     "metadata": {},
     "outputs": [],
     "prompt_number": 121
    },
    {
     "cell_type": "heading",
     "level": 1,
     "metadata": {},
     "source": [
      "Install bwa"
     ]
    },
    {
     "cell_type": "code",
     "collapsed": false,
     "input": [
      "!cp ~/Downloads/bwa-0.7.12.tar.bz2 {bwa_dir}"
     ],
     "language": "python",
     "metadata": {},
     "outputs": [],
     "prompt_number": 27
    },
    {
     "cell_type": "code",
     "collapsed": false,
     "input": [
      "%cd {bwa_dir}\n",
      "!tar -xvf bwa-0.7.12.tar.bz2"
     ],
     "language": "python",
     "metadata": {},
     "outputs": [
      {
       "output_type": "stream",
       "stream": "stdout",
       "text": [
        "/Users/rpearson/src/github/malariagen/methods-dev/pf3k_techbm/opt/bwa\n",
        "x bwa-0.7.12/\r\n",
        "x bwa-0.7.12/bamlite.c\r\n",
        "x bwa-0.7.12/bamlite.h\r\n",
        "x bwa-0.7.12/bntseq.c\r\n",
        "x bwa-0.7.12/bntseq.h\r\n",
        "x bwa-0.7.12/bwa.1\r\n",
        "x bwa-0.7.12/bwa.c\r\n",
        "x bwa-0.7.12/bwa.h\r\n",
        "x bwa-0.7.12/bwakit/\r\n",
        "x bwa-0.7.12/bwamem.c\r\n",
        "x bwa-0.7.12/bwamem.h\r\n",
        "x bwa-0.7.12/bwamem_extra.c\r\n",
        "x bwa-0.7.12/bwamem_pair.c\r\n",
        "x bwa-0.7.12/bwape.c\r\n",
        "x bwa-0.7.12/bwase.c\r\n",
        "x bwa-0.7.12/bwase.h\r\n",
        "x bwa-0.7.12/bwaseqio.c\r\n",
        "x bwa-0.7.12/bwashm.c\r\n",
        "x bwa-0.7.12/bwt.c\r\n",
        "x bwa-0.7.12/bwt.h\r\n",
        "x bwa-0.7.12/bwt_gen.c\r\n",
        "x bwa-0.7.12/bwt_lite.c\r\n",
        "x bwa-0.7.12/bwt_lite.h\r\n",
        "x bwa-0.7.12/bwtaln.c\r\n",
        "x bwa-0.7.12/bwtaln.h\r\n",
        "x bwa-0.7.12/bwtgap.c\r\n",
        "x bwa-0.7.12/bwtgap.h\r\n",
        "x bwa-0.7.12/bwtindex.c\r\n",
        "x bwa-0.7.12/bwtsw2.h\r\n",
        "x bwa-0.7.12/bwtsw2_aux.c\r\n",
        "x bwa-0.7.12/bwtsw2_chain.c\r\n",
        "x bwa-0.7.12/bwtsw2_core.c\r\n",
        "x bwa-0.7.12/bwtsw2_main.c\r\n",
        "x bwa-0.7.12/bwtsw2_pair.c"
       ]
      },
      {
       "output_type": "stream",
       "stream": "stdout",
       "text": [
        "\r\n",
        "x bwa-0.7.12/ChangeLog\r\n",
        "x bwa-0.7.12/COPYING\r\n",
        "x bwa-0.7.12/example.c\r\n",
        "x bwa-0.7.12/fastmap.c\r\n",
        "x bwa-0.7.12/is.c\r\n",
        "x bwa-0.7.12/kbtree.h\r\n",
        "x bwa-0.7.12/khash.h\r\n",
        "x bwa-0.7.12/kopen.c\r\n",
        "x bwa-0.7.12/kseq.h\r\n",
        "x bwa-0.7.12/ksort.h\r\n",
        "x bwa-0.7.12/kstring.c\r\n",
        "x bwa-0.7.12/kstring.h\r\n",
        "x bwa-0.7.12/ksw.c\r\n",
        "x bwa-0.7.12/ksw.h\r\n",
        "x bwa-0.7.12/kthread.c\r\n",
        "x bwa-0.7.12/kvec.h\r\n",
        "x bwa-0.7.12/main.c\r\n",
        "x bwa-0.7.12/Makefile\r\n",
        "x bwa-0.7.12/malloc_wrap.c\r\n",
        "x bwa-0.7.12/malloc_wrap.h\r\n",
        "x bwa-0.7.12/NEWS.md\r\n",
        "x bwa-0.7.12/pemerge.c\r\n",
        "x bwa-0.7.12/QSufSort.c\r\n",
        "x bwa-0.7.12/QSufSort.h\r\n",
        "x bwa-0.7.12/qualfa2fq.pl\r\n",
        "x bwa-0.7.12/README-alt.md\r\n",
        "x bwa-0.7.12/README.md\r\n",
        "x bwa-0.7.12/utils.c\r\n",
        "x bwa-0.7.12/utils.h\r\n",
        "x bwa-0.7.12/xa2multi.pl\r\n",
        "x bwa-0.7.12/bwakit/bwa-postalt.js\r\n",
        "x bwa-0.7.12/bwakit/README.md\r\n",
        "x bwa-0.7.12/bwakit/run-bwamem\r\n",
        "x bwa-0.7.12/bwakit/run-gen-ref\r\n",
        "x bwa-0.7.12/bwakit/run-HLA\r\n",
        "x bwa-0.7.12/bwakit/typeHLA-selctg.js\r\n",
        "x bwa-0.7.12/bwakit/typeHLA.js\r\n",
        "x bwa-0.7.12/bwakit/typeHLA.sh\r\n"
       ]
      }
     ],
     "prompt_number": 28
    },
    {
     "cell_type": "code",
     "collapsed": false,
     "input": [
      "%cd bwa-0.7.12\n",
      "!make"
     ],
     "language": "python",
     "metadata": {},
     "outputs": [
      {
       "output_type": "stream",
       "stream": "stdout",
       "text": [
        "/Users/rpearson/src/github/malariagen/methods-dev/pf3k_techbm/opt/bwa/bwa-0.7.12\n",
        "gcc -c -g -Wall -Wno-unused-function -O2 -DHAVE_PTHREAD -DUSE_MALLOC_WRAPPERS  utils.c -o utils.o\r\n"
       ]
      },
      {
       "output_type": "stream",
       "stream": "stdout",
       "text": [
        "gcc -c -g -Wall -Wno-unused-function -O2 -DHAVE_PTHREAD -DUSE_MALLOC_WRAPPERS  kthread.c -o kthread.o\r\n"
       ]
      },
      {
       "output_type": "stream",
       "stream": "stdout",
       "text": [
        "gcc -c -g -Wall -Wno-unused-function -O2 -DHAVE_PTHREAD -DUSE_MALLOC_WRAPPERS  kstring.c -o kstring.o\r\n"
       ]
      },
      {
       "output_type": "stream",
       "stream": "stdout",
       "text": [
        "gcc -c -g -Wall -Wno-unused-function -O2 -DHAVE_PTHREAD -DUSE_MALLOC_WRAPPERS  ksw.c -o ksw.o\r\n"
       ]
      },
      {
       "output_type": "stream",
       "stream": "stdout",
       "text": [
        "gcc -c -g -Wall -Wno-unused-function -O2 -DHAVE_PTHREAD -DUSE_MALLOC_WRAPPERS  bwt.c -o bwt.o\r\n"
       ]
      },
      {
       "output_type": "stream",
       "stream": "stdout",
       "text": [
        "gcc -c -g -Wall -Wno-unused-function -O2 -DHAVE_PTHREAD -DUSE_MALLOC_WRAPPERS  bntseq.c -o bntseq.o\r\n"
       ]
      },
      {
       "output_type": "stream",
       "stream": "stdout",
       "text": [
        "gcc -c -g -Wall -Wno-unused-function -O2 -DHAVE_PTHREAD -DUSE_MALLOC_WRAPPERS  bwa.c -o bwa.o\r\n"
       ]
      },
      {
       "output_type": "stream",
       "stream": "stdout",
       "text": [
        "gcc -c -g -Wall -Wno-unused-function -O2 -DHAVE_PTHREAD -DUSE_MALLOC_WRAPPERS  bwamem.c -o bwamem.o\r\n"
       ]
      },
      {
       "output_type": "stream",
       "stream": "stdout",
       "text": [
        "gcc -c -g -Wall -Wno-unused-function -O2 -DHAVE_PTHREAD -DUSE_MALLOC_WRAPPERS  bwamem_pair.c -o bwamem_pair.o\r\n"
       ]
      },
      {
       "output_type": "stream",
       "stream": "stdout",
       "text": [
        "gcc -c -g -Wall -Wno-unused-function -O2 -DHAVE_PTHREAD -DUSE_MALLOC_WRAPPERS  bwamem_extra.c -o bwamem_extra.o\r\n"
       ]
      },
      {
       "output_type": "stream",
       "stream": "stdout",
       "text": [
        "gcc -c -g -Wall -Wno-unused-function -O2 -DHAVE_PTHREAD -DUSE_MALLOC_WRAPPERS  malloc_wrap.c -o malloc_wrap.o\r\n",
        "ar -csru libbwa.a utils.o kthread.o kstring.o ksw.o bwt.o bntseq.o bwa.o bwamem.o bwamem_pair.o bwamem_extra.o malloc_wrap.o\r\n"
       ]
      },
      {
       "output_type": "stream",
       "stream": "stdout",
       "text": [
        "gcc -c -g -Wall -Wno-unused-function -O2 -DHAVE_PTHREAD -DUSE_MALLOC_WRAPPERS  QSufSort.c -o QSufSort.o\r\n"
       ]
      },
      {
       "output_type": "stream",
       "stream": "stdout",
       "text": [
        "gcc -c -g -Wall -Wno-unused-function -O2 -DHAVE_PTHREAD -DUSE_MALLOC_WRAPPERS  bwt_gen.c -o bwt_gen.o\r\n"
       ]
      },
      {
       "output_type": "stream",
       "stream": "stdout",
       "text": [
        "gcc -c -g -Wall -Wno-unused-function -O2 -DHAVE_PTHREAD -DUSE_MALLOC_WRAPPERS  bwashm.c -o bwashm.o\r\n"
       ]
      },
      {
       "output_type": "stream",
       "stream": "stdout",
       "text": [
        "gcc -c -g -Wall -Wno-unused-function -O2 -DHAVE_PTHREAD -DUSE_MALLOC_WRAPPERS  bwase.c -o bwase.o\r\n"
       ]
      },
      {
       "output_type": "stream",
       "stream": "stdout",
       "text": [
        "gcc -c -g -Wall -Wno-unused-function -O2 -DHAVE_PTHREAD -DUSE_MALLOC_WRAPPERS  bwaseqio.c -o bwaseqio.o\r\n"
       ]
      },
      {
       "output_type": "stream",
       "stream": "stdout",
       "text": [
        "gcc -c -g -Wall -Wno-unused-function -O2 -DHAVE_PTHREAD -DUSE_MALLOC_WRAPPERS  bwtgap.c -o bwtgap.o\r\n"
       ]
      },
      {
       "output_type": "stream",
       "stream": "stdout",
       "text": [
        "gcc -c -g -Wall -Wno-unused-function -O2 -DHAVE_PTHREAD -DUSE_MALLOC_WRAPPERS  bwtaln.c -o bwtaln.o\r\n"
       ]
      },
      {
       "output_type": "stream",
       "stream": "stdout",
       "text": [
        "gcc -c -g -Wall -Wno-unused-function -O2 -DHAVE_PTHREAD -DUSE_MALLOC_WRAPPERS  bamlite.c -o bamlite.o\r\n"
       ]
      },
      {
       "output_type": "stream",
       "stream": "stdout",
       "text": [
        "gcc -c -g -Wall -Wno-unused-function -O2 -DHAVE_PTHREAD -DUSE_MALLOC_WRAPPERS  is.c -o is.o\r\n"
       ]
      },
      {
       "output_type": "stream",
       "stream": "stdout",
       "text": [
        "gcc -c -g -Wall -Wno-unused-function -O2 -DHAVE_PTHREAD -DUSE_MALLOC_WRAPPERS  bwtindex.c -o bwtindex.o\r\n"
       ]
      },
      {
       "output_type": "stream",
       "stream": "stdout",
       "text": [
        "gcc -c -g -Wall -Wno-unused-function -O2 -DHAVE_PTHREAD -DUSE_MALLOC_WRAPPERS  bwape.c -o bwape.o\r\n"
       ]
      },
      {
       "output_type": "stream",
       "stream": "stdout",
       "text": [
        "gcc -c -g -Wall -Wno-unused-function -O2 -DHAVE_PTHREAD -DUSE_MALLOC_WRAPPERS  kopen.c -o kopen.o\r\n"
       ]
      },
      {
       "output_type": "stream",
       "stream": "stdout",
       "text": [
        "gcc -c -g -Wall -Wno-unused-function -O2 -DHAVE_PTHREAD -DUSE_MALLOC_WRAPPERS  pemerge.c -o pemerge.o\r\n"
       ]
      },
      {
       "output_type": "stream",
       "stream": "stdout",
       "text": [
        "gcc -c -g -Wall -Wno-unused-function -O2 -DHAVE_PTHREAD -DUSE_MALLOC_WRAPPERS  bwtsw2_core.c -o bwtsw2_core.o\r\n"
       ]
      },
      {
       "output_type": "stream",
       "stream": "stdout",
       "text": [
        "gcc -c -g -Wall -Wno-unused-function -O2 -DHAVE_PTHREAD -DUSE_MALLOC_WRAPPERS  bwtsw2_main.c -o bwtsw2_main.o\r\n"
       ]
      },
      {
       "output_type": "stream",
       "stream": "stdout",
       "text": [
        "gcc -c -g -Wall -Wno-unused-function -O2 -DHAVE_PTHREAD -DUSE_MALLOC_WRAPPERS  bwtsw2_aux.c -o bwtsw2_aux.o\r\n"
       ]
      },
      {
       "output_type": "stream",
       "stream": "stdout",
       "text": [
        "gcc -c -g -Wall -Wno-unused-function -O2 -DHAVE_PTHREAD -DUSE_MALLOC_WRAPPERS  bwt_lite.c -o bwt_lite.o\r\n"
       ]
      },
      {
       "output_type": "stream",
       "stream": "stdout",
       "text": [
        "gcc -c -g -Wall -Wno-unused-function -O2 -DHAVE_PTHREAD -DUSE_MALLOC_WRAPPERS  bwtsw2_chain.c -o bwtsw2_chain.o\r\n"
       ]
      },
      {
       "output_type": "stream",
       "stream": "stdout",
       "text": [
        "gcc -c -g -Wall -Wno-unused-function -O2 -DHAVE_PTHREAD -DUSE_MALLOC_WRAPPERS  fastmap.c -o fastmap.o\r\n"
       ]
      },
      {
       "output_type": "stream",
       "stream": "stdout",
       "text": [
        "gcc -c -g -Wall -Wno-unused-function -O2 -DHAVE_PTHREAD -DUSE_MALLOC_WRAPPERS  bwtsw2_pair.c -o bwtsw2_pair.o\r\n"
       ]
      },
      {
       "output_type": "stream",
       "stream": "stdout",
       "text": [
        "gcc -c -g -Wall -Wno-unused-function -O2 -DHAVE_PTHREAD -DUSE_MALLOC_WRAPPERS  main.c -o main.o\r\n"
       ]
      },
      {
       "output_type": "stream",
       "stream": "stdout",
       "text": [
        "gcc -g -Wall -Wno-unused-function -O2 -DHAVE_PTHREAD -DUSE_MALLOC_WRAPPERS QSufSort.o bwt_gen.o bwashm.o bwase.o bwaseqio.o bwtgap.o bwtaln.o bamlite.o is.o bwtindex.o bwape.o kopen.o pemerge.o bwtsw2_core.o bwtsw2_main.o bwtsw2_aux.o bwt_lite.o bwtsw2_chain.o fastmap.o bwtsw2_pair.o main.o -o bwa -L. -lbwa -lm -lz -lpthread\r\n"
       ]
      }
     ],
     "prompt_number": 29
    },
    {
     "cell_type": "code",
     "collapsed": false,
     "input": [
      "%cd ../../../notebooks/"
     ],
     "language": "python",
     "metadata": {},
     "outputs": [
      {
       "output_type": "stream",
       "stream": "stdout",
       "text": [
        "/Users/rpearson/src/github/malariagen/methods-dev/pf3k_techbm/notebooks\n"
       ]
      }
     ],
     "prompt_number": 31
    },
    {
     "cell_type": "code",
     "collapsed": false,
     "input": [
      "# Add path to .profile\n",
      "!echo \"\" >> {profile_fn}\n",
      "!echo \"# added by Ipython notebook 20150603_install_GATK.ipynb\" >> {profile_fn}\n",
      "!echo \"export PATH=\\\"/Users/rpearson/src/github/malariagen/methods-dev/pf3k_techbm/opt/bwa/bwa-0.7.12:\\$$PATH\\\"\" >> {profile_fn}\n",
      "\n",
      "\n"
     ],
     "language": "python",
     "metadata": {},
     "outputs": [],
     "prompt_number": 81
    },
    {
     "cell_type": "code",
     "collapsed": false,
     "input": [
      "# Check bwa works\n",
      "!{bwa_exe}"
     ],
     "language": "python",
     "metadata": {},
     "outputs": [
      {
       "output_type": "stream",
       "stream": "stdout",
       "text": [
        "\r\n",
        "Program: bwa (alignment via Burrows-Wheeler transformation)\r\n",
        "Version: 0.7.12-r1039\r\n",
        "Contact: Heng Li <lh3@sanger.ac.uk>\r\n",
        "\r\n",
        "Usage:   bwa <command> [options]\r\n",
        "\r\n",
        "Command: index         index sequences in the FASTA format\r\n",
        "         mem           BWA-MEM algorithm\r\n",
        "         fastmap       identify super-maximal exact matches\r\n",
        "         pemerge       merge overlapping paired ends (EXPERIMENTAL)\r\n",
        "         aln           gapped/ungapped alignment\r\n",
        "         samse         generate alignment (single ended)\r\n",
        "         sampe         generate alignment (paired ended)\r\n",
        "         bwasw         BWA-SW for long queries\r\n",
        "\r\n",
        "         shm           manage indices in shared memory\r\n",
        "         fa2pac        convert FASTA to PAC format\r\n",
        "         pac2bwt       generate BWT from PAC\r\n",
        "         pac2bwtgen    alternative algorithm for generating BWT\r\n",
        "         bwtupdate     update .bwt to the new format\r\n",
        "         bwt2sa        generate SA from BWT and Occ\r\n",
        "\r\n",
        "Note: To use BWA, you need to first index the genome with `bwa index'.\r\n",
        "      There are three alignment algorithms in BWA: `mem', `bwasw', and\r\n",
        "      `aln/samse/sampe'. If you are not sure which to use, try `bwa mem'\r\n",
        "      first. Please `man ./bwa.1' for the manual.\r\n",
        "\r\n"
       ]
      }
     ],
     "prompt_number": 87
    },
    {
     "cell_type": "heading",
     "level": 1,
     "metadata": {},
     "source": [
      "Install samtools"
     ]
    },
    {
     "cell_type": "code",
     "collapsed": false,
     "input": [
      "!cp /Users/rpearson/Downloads/samtools-1.2.tar.bz2 {samtools_dir}\n",
      "%cd {samtools_dir}\n",
      "!tar xvzf samtools-1.2.tar.bz2 \n",
      "%cd samtools-1.2 \n",
      "!make\n",
      "%cd ../../../notebooks/"
     ],
     "language": "python",
     "metadata": {},
     "outputs": [
      {
       "output_type": "stream",
       "stream": "stdout",
       "text": [
        "/Users/rpearson/src/github/malariagen/methods-dev/pf3k_techbm/opt/samtools\n",
        "x samtools-1.2/\r\n",
        "x samtools-1.2/AUTHORS\r\n",
        "x samtools-1.2/ChangeLog.old\r\n",
        "x samtools-1.2/INSTALL\r\n",
        "x samtools-1.2/LICENSE\r\n",
        "x samtools-1.2/Makefile\r\n",
        "x samtools-1.2/Makefile.mingw\r\n",
        "x samtools-1.2/NEWS\r\n",
        "x samtools-1.2/README\r\n",
        "x samtools-1.2/bam.c\r\n",
        "x samtools-1.2/bam.h\r\n",
        "x samtools-1.2/bam2bcf.c\r\n",
        "x samtools-1.2/bam2bcf.h\r\n",
        "x samtools-1.2/bam2bcf_indel.c\r\n",
        "x samtools-1.2/bam2depth.c\r\n",
        "x samtools-1.2/bam_aux.c\r\n",
        "x samtools-1.2/bam_cat.c\r\n",
        "x samtools-1.2/bam_color.c\r\n",
        "x samtools-1.2/bam_endian.h\r\n",
        "x samtools-1.2/bam_flags.c\r\n",
        "x samtools-1.2/bam_import.c\r\n",
        "x samtools-1.2/bam_index.c\r\n",
        "x samtools-1.2/bam_lpileup.c\r\n",
        "x samtools-1.2/bam_lpileup.h\r\n",
        "x samtools-1.2/bam_mate.c"
       ]
      },
      {
       "output_type": "stream",
       "stream": "stdout",
       "text": [
        "\r\n",
        "x samtools-1.2/bam_md.c\r\n",
        "x samtools-1.2/bam_plbuf.c\r\n",
        "x samtools-1.2/bam_plbuf.h\r\n",
        "x samtools-1.2/bam_plcmd.c\r\n",
        "x samtools-1.2/bam_reheader.c\r\n",
        "x samtools-1.2/bam_rmdup.c\r\n",
        "x samtools-1.2/bam_rmdupse.c\r\n",
        "x samtools-1.2/bam_sort.c\r\n",
        "x samtools-1.2/bam_split.c\r\n",
        "x samtools-1.2/bam_stat.c\r\n",
        "x samtools-1.2/bam_tview.c\r\n",
        "x samtools-1.2/bam_tview.h\r\n",
        "x samtools-1.2/bam_tview_curses.c\r\n",
        "x samtools-1.2/bam_tview_html.c\r\n",
        "x samtools-1.2/bamshuf.c\r\n",
        "x samtools-1.2/bamtk.c\r\n",
        "x samtools-1.2/bedcov.c\r\n",
        "x samtools-1.2/bedidx.c\r\n",
        "x samtools-1.2/cut_target.c\r\n",
        "x samtools-1.2/errmod.c\r\n",
        "x samtools-1.2/errmod.h\r\n",
        "x samtools-1.2/examples/\r\n",
        "x samtools-1.2/examples/00README.txt\r\n",
        "x samtools-1.2/examples/ex1.fa\r\n",
        "x samtools-1.2/examples/ex1.sam.gz\r\n",
        "x samtools-1.2/examples/toy.fa\r\n",
        "x samtools-1.2/examples/toy.sam\r\n",
        "x samtools-1.2/faidx.c\r\n",
        "x samtools-1.2/kprobaln.c\r\n",
        "x samtools-1.2/kprobaln.h\r\n",
        "x samtools-1.2/misc/\r\n",
        "x samtools-1.2/misc/HmmGlocal.java\r\n",
        "x samtools-1.2/misc/ace2sam.c\r\n",
        "x samtools-1.2/misc/blast2sam.pl\r\n",
        "x samtools-1.2/misc/bowtie2sam.pl\r\n",
        "x samtools-1.2/misc/export2sam.pl\r\n",
        "x samtools-1.2/misc/interpolate_sam.pl\r\n",
        "x samtools-1.2/misc/maq2sam.c\r\n",
        "x samtools-1.2/misc/md5.c\r\n",
        "x samtools-1.2/misc/md5.h\r\n",
        "x samtools-1.2/misc/md5fa.c\r\n",
        "x samtools-1.2/misc/novo2sam.pl\r\n",
        "x samtools-1.2/misc/plot-bamstats\r\n",
        "x samtools-1.2/misc/psl2sam.pl\r\n",
        "x samtools-1.2/misc/r2plot.lua\r\n",
        "x samtools-1.2/misc/sam2vcf.pl\r\n",
        "x samtools-1.2/misc/samtools.pl\r\n",
        "x samtools-1.2/misc/seq_cache_populate.pl\r\n",
        "x samtools-1.2/misc/soap2sam.pl\r\n",
        "x samtools-1.2/misc/varfilter.py\r\n",
        "x samtools-1.2/misc/vcfutils.lua\r\n",
        "x samtools-1.2/misc/wgsim.c\r\n",
        "x samtools-1.2/misc/wgsim_eval.pl\r\n",
        "x samtools-1.2/misc/zoom2sam.pl\r\n",
        "x samtools-1.2/padding.c\r\n",
        "x samtools-1.2/phase.c\r\n",
        "x samtools-1.2/sam.c\r\n",
        "x samtools-1.2/sam.h\r\n",
        "x samtools-1.2/sam_header.c\r\n",
        "x samtools-1.2/sam_header.h\r\n",
        "x samtools-1.2/sam_view.c\r\n",
        "x samtools-1.2/sample.c\r\n",
        "x samtools-1.2/sample.h\r\n",
        "x samtools-1.2/samtools.1"
       ]
      },
      {
       "output_type": "stream",
       "stream": "stdout",
       "text": [
        "\r\n",
        "x samtools-1.2/samtools.h\r\n",
        "x samtools-1.2/stats.c\r\n",
        "x samtools-1.2/stats_isize.c\r\n",
        "x samtools-1.2/stats_isize.h\r\n",
        "x samtools-1.2/test/\r\n",
        "x samtools-1.2/test/dat/\r\n",
        "x samtools-1.2/test/dat/bam2fq.001.sam\r\n",
        "x samtools-1.2/test/dat/cat.hdr\r\n",
        "x samtools-1.2/test/dat/cram_md5/\r\n",
        "x samtools-1.2/test/dat/cram_md5/08c04d512d4797d9ba2a156c1daba468\r\n",
        "x samtools-1.2/test/dat/cram_md5/7c35feac7036c1cdef3bee0cc4b21437\r\n",
        "x samtools-1.2/test/dat/cram_md5/89b96de7acc5918c2858ef92710be7d4\r\n",
        "x samtools-1.2/test/dat/cram_md5/8a3d8deb9edd4ce3346b6061fcee6d0b\r\n",
        "x samtools-1.2/test/dat/depad.001.fa\r\n",
        "x samtools-1.2/test/dat/depad.001.fa.fai\r\n",
        "x samtools-1.2/test/dat/depad.001p.sam\r\n",
        "x samtools-1.2/test/dat/depad.001u.sam\r\n",
        "x samtools-1.2/test/dat/empty.expected\r\n",
        "x samtools-1.2/test/dat/large_chrom.out\r\n",
        "x samtools-1.2/test/dat/large_chrom.sam\r\n",
        "x samtools-1.2/test/dat/large_chrom_bai_index.err\r\n",
        "x samtools-1.2/test/dat/mpileup.1.sam\r\n",
        "x samtools-1.2/test/dat/mpileup.2.sam\r\n",
        "x samtools-1.2/test/dat/mpileup.3.sam\r\n",
        "x samtools-1.2/test/dat/mpileup.err.1\r\n",
        "x samtools-1.2/test/dat/mpileup.out.1\r\n",
        "x samtools-1.2/test/dat/mpileup.out.2\r\n",
        "x samtools-1.2/test/dat/mpileup.out.3\r\n",
        "x samtools-1.2/test/dat/mpileup.out.4\r\n",
        "x samtools-1.2/test/dat/mpileup.ref.fa\r\n",
        "x samtools-1.2/test/dat/mpileup.ref.fa.fai\r\n",
        "x samtools-1.2/test/dat/test_input_1_a.bam\r\n",
        "x samtools-1.2/test/dat/test_input_1_a.bam.bai\r\n",
        "x samtools-1.2/test/dat/test_input_1_a.sam\r\n",
        "x samtools-1.2/test/dat/test_input_1_b.bam\r\n",
        "x samtools-1.2/test/dat/test_input_1_b.bam.bai\r\n",
        "x samtools-1.2/test/dat/test_input_1_b.sam\r\n",
        "x samtools-1.2/test/dat/test_input_1_c.bam\r\n",
        "x samtools-1.2/test/dat/test_input_1_c.bam.bai\r\n",
        "x samtools-1.2/test/dat/test_input_1_c.sam\r\n"
       ]
      },
      {
       "output_type": "stream",
       "stream": "stdout",
       "text": [
        "x samtools-1.2/test/dat/view.001.01.bed\r\n",
        "x samtools-1.2/test/dat/view.001.02.bed\r\n",
        "x samtools-1.2/test/dat/view.001.fa\r\n",
        "x samtools-1.2/test/dat/view.001.fa.fai\r\n",
        "x samtools-1.2/test/dat/view.001.sam\r\n",
        "x samtools-1.2/test/dat/view.002.01.bed\r\n",
        "x samtools-1.2/test/dat/view.002.02.bed\r\n",
        "x samtools-1.2/test/dat/view.002.fa\r\n",
        "x samtools-1.2/test/dat/view.002.fa.fai\r\n",
        "x samtools-1.2/test/dat/view.002.sam\r\n",
        "x samtools-1.2/test/dat/view.003.expected.sam\r\n",
        "x samtools-1.2/test/dat/view.003.sam\r\n",
        "x samtools-1.2/test/fixmate/\r\n",
        "x samtools-1.2/test/fixmate/1_coord_sort.sam\r\n",
        "x samtools-1.2/test/fixmate/1_coord_sort.sam.expected\r\n",
        "x samtools-1.2/test/fixmate/1_coord_sort.sam.expected.err\r\n",
        "x samtools-1.2/test/fixmate/2_isize_overflow.sam\r\n",
        "x samtools-1.2/test/fixmate/2_isize_overflow.sam.expected\r\n",
        "x samtools-1.2/test/fixmate/3_reverse_read_pp_lt.sam\r\n",
        "x samtools-1.2/test/fixmate/3_reverse_read_pp_lt.sam.expected\r\n",
        "x samtools-1.2/test/fixmate/4_reverse_read_pp_equal.sam\r\n",
        "x samtools-1.2/test/fixmate/4_reverse_read_pp_equal.sam.expected\r\n",
        "x samtools-1.2/test/fixmate/5_ct.sam\r\n",
        "x samtools-1.2/test/fixmate/5_ct.sam.expected\r\n",
        "x samtools-1.2/test/fixmate/6_ct_replace.sam\r\n",
        "x samtools-1.2/test/fixmate/6_ct_replace.sam.expected\r\n",
        "x samtools-1.2/test/idxstats/\r\n",
        "x samtools-1.2/test/idxstats/test_input_1_a.bam.expected\r\n",
        "x samtools-1.2/test/idxstats/test_input_1_a.bam.expected.err\r\n",
        "x samtools-1.2/test/merge/\r\n",
        "x samtools-1.2/test/merge/2.merge.expected.bam\r\n",
        "x samtools-1.2/test/merge/3.merge.expected.bam\r\n",
        "x samtools-1.2/test/merge/3.merge.expected.err\r\n",
        "x samtools-1.2/test/merge/test_3.fofn\r\n",
        "x samtools-1.2/test/merge/test_bam_translate.c\r\n",
        "x samtools-1.2/test/merge/test_header.sam\r\n",
        "x samtools-1.2/test/merge/test_pretty_header.c\r\n",
        "x samtools-1.2/test/merge/test_rtrans_build.c\r\n",
        "x samtools-1.2/test/merge/test_trans_tbl_init.c\r\n",
        "x samtools-1.2/test/mpileup/\r\n",
        "x samtools-1.2/test/mpileup/1read.bam\r\n",
        "x samtools-1.2/test/mpileup/1read.sam\r\n",
        "x samtools-1.2/test/mpileup/anomalous.sam\r\n",
        "x samtools-1.2/test/mpileup/c1#ID.bam\r\n",
        "x samtools-1.2/test/mpileup/c1#ID2.bam\r\n",
        "x samtools-1.2/test/mpileup/c1#clip.bam\r\n",
        "x samtools-1.2/test/mpileup/c1#pad1.bam\r\n",
        "x samtools-1.2/test/mpileup/c1#pad2.bam\r\n",
        "x samtools-1.2/test/mpileup/c1#pad3.bam\r\n",
        "x samtools-1.2/test/mpileup/c1.fa\r\n",
        "x samtools-1.2/test/mpileup/c1.fa.fai\r\n",
        "x samtools-1.2/test/mpileup/ce#5b.bam\r\n",
        "x samtools-1.2/test/mpileup/ce#5b.bam.bai\r\n",
        "x samtools-1.2/test/mpileup/ce#5b.cram\r\n",
        "x samtools-1.2/test/mpileup/ce#5b.cram.crai\r\n",
        "x samtools-1.2/test/mpileup/ce#5b.sam\r\n",
        "x samtools-1.2/test/mpileup/ce#large_seq.bam\r\n",
        "x samtools-1.2/test/mpileup/ce#unmap.bam\r\n",
        "x samtools-1.2/test/mpileup/ce#unmap1.bam\r\n",
        "x samtools-1.2/test/mpileup/ce#unmap2.bam\r\n",
        "x samtools-1.2/test/mpileup/ce.fa"
       ]
      },
      {
       "output_type": "stream",
       "stream": "stdout",
       "text": [
        "\r\n",
        "x samtools-1.2/test/mpileup/ce.fa.fai\r\n",
        "x samtools-1.2/test/mpileup/deep.sam\r\n",
        "x samtools-1.2/test/mpileup/expected/\r\n",
        "x samtools-1.2/test/mpileup/expected/1.out.xz"
       ]
      },
      {
       "output_type": "stream",
       "stream": "stdout",
       "text": [
        "\r\n",
        "x samtools-1.2/test/mpileup/expected/10.out\r\n",
        "x samtools-1.2/test/mpileup/expected/11.out\r\n",
        "x samtools-1.2/test/mpileup/expected/12.out\r\n",
        "x samtools-1.2/test/mpileup/expected/13.out\r\n",
        "x samtools-1.2/test/mpileup/expected/14.out\r\n",
        "x samtools-1.2/test/mpileup/expected/15.out"
       ]
      },
      {
       "output_type": "stream",
       "stream": "stdout",
       "text": [
        "\r\n",
        "x samtools-1.2/test/mpileup/expected/16.out\r\n",
        "x samtools-1.2/test/mpileup/expected/17.out\r\n",
        "x samtools-1.2/test/mpileup/expected/18.out\r\n",
        "x samtools-1.2/test/mpileup/expected/19.out\r\n",
        "x samtools-1.2/test/mpileup/expected/2.out\r\n",
        "x samtools-1.2/test/mpileup/expected/20.out\r\n",
        "x samtools-1.2/test/mpileup/expected/21.out\r\n",
        "x samtools-1.2/test/mpileup/expected/22.out\r\n",
        "x samtools-1.2/test/mpileup/expected/23.out\r\n",
        "x samtools-1.2/test/mpileup/expected/24.out\r\n",
        "x samtools-1.2/test/mpileup/expected/25.out\r\n",
        "x samtools-1.2/test/mpileup/expected/26.out\r\n",
        "x samtools-1.2/test/mpileup/expected/27.out\r\n",
        "x samtools-1.2/test/mpileup/expected/28.out\r\n",
        "x samtools-1.2/test/mpileup/expected/29.out\r\n",
        "x samtools-1.2/test/mpileup/expected/3.out\r\n",
        "x samtools-1.2/test/mpileup/expected/30.out\r\n",
        "x samtools-1.2/test/mpileup/expected/31.out\r\n",
        "x samtools-1.2/test/mpileup/expected/32.out\r\n",
        "x samtools-1.2/test/mpileup/expected/33.out\r\n",
        "x samtools-1.2/test/mpileup/expected/34.out\r\n",
        "x samtools-1.2/test/mpileup/expected/35.out\r\n",
        "x samtools-1.2/test/mpileup/expected/37.out\r\n",
        "x samtools-1.2/test/mpileup/expected/38.out\r\n",
        "x samtools-1.2/test/mpileup/expected/39.out\r\n",
        "x samtools-1.2/test/mpileup/expected/4.out"
       ]
      },
      {
       "output_type": "stream",
       "stream": "stdout",
       "text": [
        "\r\n",
        "x samtools-1.2/test/mpileup/expected/40.out\r\n",
        "x samtools-1.2/test/mpileup/expected/41.out\r\n",
        "x samtools-1.2/test/mpileup/expected/42.out\r\n",
        "x samtools-1.2/test/mpileup/expected/43.out\r\n",
        "x samtools-1.2/test/mpileup/expected/44.out\r\n",
        "x samtools-1.2/test/mpileup/expected/45.out\r\n",
        "x samtools-1.2/test/mpileup/expected/46.out\r\n",
        "x samtools-1.2/test/mpileup/expected/47.out\r\n",
        "x samtools-1.2/test/mpileup/expected/48.out\r\n",
        "x samtools-1.2/test/mpileup/expected/49.out\r\n",
        "x samtools-1.2/test/mpileup/expected/5.out\r\n",
        "x samtools-1.2/test/mpileup/expected/50.out\r\n",
        "x samtools-1.2/test/mpileup/expected/51.out"
       ]
      },
      {
       "output_type": "stream",
       "stream": "stdout",
       "text": [
        "\r\n",
        "x samtools-1.2/test/mpileup/expected/52.out\r\n",
        "x samtools-1.2/test/mpileup/expected/53.out\r\n",
        "x samtools-1.2/test/mpileup/expected/54.out\r\n",
        "x samtools-1.2/test/mpileup/expected/55.out\r\n",
        "x samtools-1.2/test/mpileup/expected/56.out\r\n",
        "x samtools-1.2/test/mpileup/expected/57.out\r\n",
        "x samtools-1.2/test/mpileup/expected/58.out\r\n",
        "x samtools-1.2/test/mpileup/expected/59.out\r\n",
        "x samtools-1.2/test/mpileup/expected/6.out\r\n",
        "x samtools-1.2/test/mpileup/expected/60.out\r\n",
        "x samtools-1.2/test/mpileup/expected/61.out\r\n",
        "x samtools-1.2/test/mpileup/expected/62.out\r\n",
        "x samtools-1.2/test/mpileup/expected/63.out\r\n",
        "x samtools-1.2/test/mpileup/expected/64.out\r\n",
        "x samtools-1.2/test/mpileup/expected/65.out\r\n",
        "x samtools-1.2/test/mpileup/expected/66.out\r\n",
        "x samtools-1.2/test/mpileup/expected/67.out\r\n",
        "x samtools-1.2/test/mpileup/expected/68.out\r\n",
        "x samtools-1.2/test/mpileup/expected/69.out\r\n",
        "x samtools-1.2/test/mpileup/expected/7.out\r\n",
        "x samtools-1.2/test/mpileup/expected/70.out\r\n",
        "x samtools-1.2/test/mpileup/expected/71.out\r\n",
        "x samtools-1.2/test/mpileup/expected/72.out\r\n",
        "x samtools-1.2/test/mpileup/expected/73.out\r\n",
        "x samtools-1.2/test/mpileup/expected/74.out\r\n",
        "x samtools-1.2/test/mpileup/expected/75.out\r\n",
        "x samtools-1.2/test/mpileup/expected/76.out\r\n",
        "x samtools-1.2/test/mpileup/expected/77.out\r\n",
        "x samtools-1.2/test/mpileup/expected/8.out\r\n",
        "x samtools-1.2/test/mpileup/expected/9.out\r\n",
        "x samtools-1.2/test/mpileup/indels.sam\r\n",
        "x samtools-1.2/test/mpileup/md5/\r\n",
        "x samtools-1.2/test/mpileup/md5/02099b2aad2cfe707759353724fb40ae\r\n",
        "x samtools-1.2/test/mpileup/md5/0d4dfc45807d6a11439e858605cb364d\r\n",
        "x samtools-1.2/test/mpileup/md5/351f64d4f4f9ddd45b35336ad97aa6de\r\n",
        "x samtools-1.2/test/mpileup/md5/6ec590eb82c361a61e6baabce20109bc\r\n",
        "x samtools-1.2/test/mpileup/md5/6f60cdf4c739651ae72d53e2e94825c1\r\n",
        "x samtools-1.2/test/mpileup/md5/73d180d5cb3860a2713927b6812eab0e\r\n",
        "x samtools-1.2/test/mpileup/mpileup-E.bam\r\n",
        "x samtools-1.2/test/mpileup/mpileup.1.bam\r\n",
        "x samtools-1.2/test/mpileup/mpileup.1.bam.bai\r\n",
        "x samtools-1.2/test/mpileup/mpileup.2.bam\r\n",
        "x samtools-1.2/test/mpileup/mpileup.3.bam\r\n",
        "x samtools-1.2/test/mpileup/mpileup.ref.fa\r\n",
        "x samtools-1.2/test/mpileup/mpileup.ref.fa.fai\r\n",
        "x samtools-1.2/test/mpileup/mpileup.reg\r\n",
        "x samtools-1.2/test/mpileup/overlap50.sam\r\n",
        "x samtools-1.2/test/mpileup/overlapIllumina.bam\r\n",
        "x samtools-1.2/test/mpileup/regions\r\n",
        "x samtools-1.2/test/mpileup/regression.sh\r\n",
        "x samtools-1.2/test/mpileup/xx#minimal.bam\r\n",
        "x samtools-1.2/test/mpileup/xx#triplet.bam\r\n",
        "x samtools-1.2/test/mpileup/xx.fa\r\n",
        "x samtools-1.2/test/mpileup/xx.fa.fai\r\n",
        "x samtools-1.2/test/split/\r\n",
        "x samtools-1.2/test/split/test_count_rg.c\r\n",
        "x samtools-1.2/test/split/test_expand_format_string.c\r\n",
        "x samtools-1.2/test/split/test_filter_header_rg.c\r\n",
        "x samtools-1.2/test/split/test_parse_args.c\r\n",
        "x samtools-1.2/test/stat/\r\n",
        "x samtools-1.2/test/stat/1.stats.expected\r\n",
        "x samtools-1.2/test/stat/1_map_cigar.sam\r\n",
        "x samtools-1.2/test/stat/2.stats.expected"
       ]
      },
      {
       "output_type": "stream",
       "stream": "stdout",
       "text": [
        "\r\n",
        "x samtools-1.2/test/stat/2_equal_cigar_full_seq.sam\r\n",
        "x samtools-1.2/test/stat/3.stats.expected\r\n",
        "x samtools-1.2/test/stat/3_map_cigar_equal_seq.sam\r\n",
        "x samtools-1.2/test/stat/4.stats.expected\r\n",
        "x samtools-1.2/test/stat/4_X_cigar_full_seq.sam\r\n",
        "x samtools-1.2/test/stat/5.stats.expected\r\n",
        "x samtools-1.2/test/stat/5_insert_cigar.sam\r\n",
        "x samtools-1.2/test/stat/6.stats.expected\r\n",
        "x samtools-1.2/test/stat/test.fa\r\n",
        "x samtools-1.2/test/stat/test.fa.fai\r\n",
        "x samtools-1.2/test/test.c\r\n",
        "x samtools-1.2/test/test.h\r\n",
        "x samtools-1.2/test/test.pl\r\n",
        "x samtools-1.2/test/tview/\r\n",
        "x samtools-1.2/test/tview/test_get_rg_sample.c\r\n",
        "x samtools-1.2/test/vcf-miniview.c\r\n",
        "x samtools-1.2/win32/\r\n",
        "x samtools-1.2/win32/libcurses.a\r\n",
        "x samtools-1.2/win32/libz.a\r\n",
        "x samtools-1.2/win32/xcurses.h\r\n",
        "x samtools-1.2/win32/zconf.h\r\n",
        "x samtools-1.2/win32/zlib.h\r\n",
        "x samtools-1.2/htslib-1.2.1/\r\n",
        "x samtools-1.2/htslib-1.2.1/INSTALL\r\n",
        "x samtools-1.2/htslib-1.2.1/LICENSE\r\n",
        "x samtools-1.2/htslib-1.2.1/Makefile\r\n",
        "x samtools-1.2/htslib-1.2.1/NEWS\r\n",
        "x samtools-1.2/htslib-1.2.1/README\r\n",
        "x samtools-1.2/htslib-1.2.1/bgzf.c\r\n",
        "x samtools-1.2/htslib-1.2.1/bgzip.c\r\n",
        "x samtools-1.2/htslib-1.2.1/config.mk.in\r\n",
        "x samtools-1.2/htslib-1.2.1/configure.ac\r\n",
        "x samtools-1.2/htslib-1.2.1/cram/\r\n",
        "x samtools-1.2/htslib-1.2.1/cram/cram.h\r\n",
        "x samtools-1.2/htslib-1.2.1/cram/cram_codecs.c\r\n",
        "x samtools-1.2/htslib-1.2.1/cram/cram_codecs.h\r\n",
        "x samtools-1.2/htslib-1.2.1/cram/cram_decode.c\r\n",
        "x samtools-1.2/htslib-1.2.1/cram/cram_decode.h\r\n",
        "x samtools-1.2/htslib-1.2.1/cram/cram_encode.c\r\n",
        "x samtools-1.2/htslib-1.2.1/cram/cram_encode.h\r\n",
        "x samtools-1.2/htslib-1.2.1/cram/cram_index.c\r\n",
        "x samtools-1.2/htslib-1.2.1/cram/cram_index.h\r\n",
        "x samtools-1.2/htslib-1.2.1/cram/cram_io.c\r\n",
        "x samtools-1.2/htslib-1.2.1/cram/cram_io.h\r\n",
        "x samtools-1.2/htslib-1.2.1/cram/cram_samtools.c\r\n",
        "x samtools-1.2/htslib-1.2.1/cram/cram_samtools.h\r\n",
        "x samtools-1.2/htslib-1.2.1/cram/cram_stats.c\r\n",
        "x samtools-1.2/htslib-1.2.1/cram/cram_stats.h\r\n",
        "x samtools-1.2/htslib-1.2.1/cram/cram_structs.h"
       ]
      },
      {
       "output_type": "stream",
       "stream": "stdout",
       "text": [
        "\r\n",
        "x samtools-1.2/htslib-1.2.1/cram/files.c\r\n",
        "x samtools-1.2/htslib-1.2.1/cram/mFILE.c\r\n",
        "x samtools-1.2/htslib-1.2.1/cram/mFILE.h\r\n",
        "x samtools-1.2/htslib-1.2.1/cram/md5.c\r\n",
        "x samtools-1.2/htslib-1.2.1/cram/md5.h\r\n",
        "x samtools-1.2/htslib-1.2.1/cram/misc.h\r\n",
        "x samtools-1.2/htslib-1.2.1/cram/open_trace_file.c\r\n",
        "x samtools-1.2/htslib-1.2.1/cram/open_trace_file.h\r\n",
        "x samtools-1.2/htslib-1.2.1/cram/os.h\r\n",
        "x samtools-1.2/htslib-1.2.1/cram/pooled_alloc.c\r\n",
        "x samtools-1.2/htslib-1.2.1/cram/pooled_alloc.h\r\n",
        "x samtools-1.2/htslib-1.2.1/cram/rANS_byte.h\r\n",
        "x samtools-1.2/htslib-1.2.1/cram/rANS_static.c\r\n",
        "x samtools-1.2/htslib-1.2.1/cram/rANS_static.h\r\n",
        "x samtools-1.2/htslib-1.2.1/cram/sam_header.c\r\n",
        "x samtools-1.2/htslib-1.2.1/cram/sam_header.h\r\n",
        "x samtools-1.2/htslib-1.2.1/cram/string_alloc.c\r\n",
        "x samtools-1.2/htslib-1.2.1/cram/string_alloc.h\r\n",
        "x samtools-1.2/htslib-1.2.1/cram/thread_pool.c\r\n",
        "x samtools-1.2/htslib-1.2.1/cram/thread_pool.h\r\n",
        "x samtools-1.2/htslib-1.2.1/cram/vlen.c\r\n",
        "x samtools-1.2/htslib-1.2.1/cram/vlen.h\r\n",
        "x samtools-1.2/htslib-1.2.1/cram/zfio.c\r\n",
        "x samtools-1.2/htslib-1.2.1/cram/zfio.h\r\n",
        "x samtools-1.2/htslib-1.2.1/faidx.5\r\n",
        "x samtools-1.2/htslib-1.2.1/faidx.c\r\n",
        "x samtools-1.2/htslib-1.2.1/hfile.c\r\n",
        "x samtools-1.2/htslib-1.2.1/hfile_internal.h\r\n",
        "x samtools-1.2/htslib-1.2.1/hfile_irods.c\r\n",
        "x samtools-1.2/htslib-1.2.1/hfile_net.c\r\n",
        "x samtools-1.2/htslib-1.2.1/hts.c\r\n",
        "x samtools-1.2/htslib-1.2.1/htsfile.1\r\n",
        "x samtools-1.2/htslib-1.2.1/htsfile.c\r\n",
        "x samtools-1.2/htslib-1.2.1/htslib.mk\r\n",
        "x samtools-1.2/htslib-1.2.1/htslib.pc.in\r\n",
        "x samtools-1.2/htslib-1.2.1/htslib/\r\n",
        "x samtools-1.2/htslib-1.2.1/htslib/bgzf.h\r\n",
        "x samtools-1.2/htslib-1.2.1/htslib/faidx.h\r\n",
        "x samtools-1.2/htslib-1.2.1/htslib/hfile.h\r\n",
        "x samtools-1.2/htslib-1.2.1/htslib/hts.h\r\n",
        "x samtools-1.2/htslib-1.2.1/htslib/hts_defs.h\r\n",
        "x samtools-1.2/htslib-1.2.1/htslib/kfunc.h\r\n",
        "x samtools-1.2/htslib-1.2.1/htslib/khash.h\r\n",
        "x samtools-1.2/htslib-1.2.1/htslib/khash_str2int.h\r\n",
        "x samtools-1.2/htslib-1.2.1/htslib/klist.h\r\n",
        "x samtools-1.2/htslib-1.2.1/htslib/knetfile.h\r\n",
        "x samtools-1.2/htslib-1.2.1/htslib/kseq.h\r\n",
        "x samtools-1.2/htslib-1.2.1/htslib/ksort.h\r\n",
        "x samtools-1.2/htslib-1.2.1/htslib/kstring.h\r\n",
        "x samtools-1.2/htslib-1.2.1/htslib/regidx.h\r\n",
        "x samtools-1.2/htslib-1.2.1/htslib/sam.h\r\n",
        "x samtools-1.2/htslib-1.2.1/htslib/synced_bcf_reader.h\r\n",
        "x samtools-1.2/htslib-1.2.1/htslib/tbx.h\r\n",
        "x samtools-1.2/htslib-1.2.1/htslib/vcf.h\r\n",
        "x samtools-1.2/htslib-1.2.1/htslib/vcf_sweep.h\r\n",
        "x samtools-1.2/htslib-1.2.1/htslib/vcfutils.h\r\n",
        "x samtools-1.2/htslib-1.2.1/htslib_vars.mk\r\n",
        "x samtools-1.2/htslib-1.2.1/kfunc.c\r\n",
        "x samtools-1.2/htslib-1.2.1/knetfile.c\r\n",
        "x samtools-1.2/htslib-1.2.1/kstring.c\r\n",
        "x samtools-1.2/htslib-1.2.1/regidx.c\r\n",
        "x samtools-1.2/htslib-1.2.1/sam.5\r\n",
        "x samtools-1.2/htslib-1.2.1/sam.c\r\n",
        "x samtools-1.2/htslib-1.2.1/synced_bcf_reader.c\r\n",
        "x samtools-1.2/htslib-1.2.1/tabix.1\r\n",
        "x samtools-1.2/htslib-1.2.1/tabix.c\r\n",
        "x samtools-1.2/htslib-1.2.1/tbx.c\r\n",
        "x samtools-1.2/htslib-1.2.1/test/\r\n",
        "x samtools-1.2/htslib-1.2.1/test/auxf#values.sam\r\n",
        "x samtools-1.2/htslib-1.2.1/test/auxf.fa\r\n",
        "x samtools-1.2/htslib-1.2.1/test/auxf.fa.fai\r\n",
        "x samtools-1.2/htslib-1.2.1/test/c1#bounds.sam\r\n",
        "x samtools-1.2/htslib-1.2.1/test/c1#clip.sam\r\n",
        "x samtools-1.2/htslib-1.2.1/test/c1#pad1.sam\r\n",
        "x samtools-1.2/htslib-1.2.1/test/c1#pad2.sam\r\n",
        "x samtools-1.2/htslib-1.2.1/test/c1#pad3.sam\r\n",
        "x samtools-1.2/htslib-1.2.1/test/c1.fa\r\n",
        "x samtools-1.2/htslib-1.2.1/test/c1.fa.fai\r\n",
        "x samtools-1.2/htslib-1.2.1/test/ce#1.sam\r\n",
        "x samtools-1.2/htslib-1.2.1/test/ce#2.sam\r\n",
        "x samtools-1.2/htslib-1.2.1/test/ce#5.sam\r\n",
        "x samtools-1.2/htslib-1.2.1/test/ce#5b.sam\r\n",
        "x samtools-1.2/htslib-1.2.1/test/ce#large_seq.sam"
       ]
      },
      {
       "output_type": "stream",
       "stream": "stdout",
       "text": [
        "\r\n",
        "x samtools-1.2/htslib-1.2.1/test/ce#tag_depadded.sam\r\n",
        "x samtools-1.2/htslib-1.2.1/test/ce#tag_padded.sam\r\n",
        "x samtools-1.2/htslib-1.2.1/test/ce#unmap.sam\r\n",
        "x samtools-1.2/htslib-1.2.1/test/ce#unmap1.sam\r\n",
        "x samtools-1.2/htslib-1.2.1/test/ce#unmap2.sam\r\n",
        "x samtools-1.2/htslib-1.2.1/test/ce.fa\r\n",
        "x samtools-1.2/htslib-1.2.1/test/ce.fa.fai\r\n",
        "x samtools-1.2/htslib-1.2.1/test/compare_sam.pl\r\n",
        "x samtools-1.2/htslib-1.2.1/test/fieldarith.c\r\n",
        "x samtools-1.2/htslib-1.2.1/test/fieldarith.sam\r\n",
        "x samtools-1.2/htslib-1.2.1/test/hfile.c\r\n",
        "x samtools-1.2/htslib-1.2.1/test/sam.c\r\n",
        "x samtools-1.2/htslib-1.2.1/test/test-regidx.c\r\n",
        "x samtools-1.2/htslib-1.2.1/test/test-vcf-api.c\r\n",
        "x samtools-1.2/htslib-1.2.1/test/test-vcf-api.out\r\n",
        "x samtools-1.2/htslib-1.2.1/test/test-vcf-sweep.c\r\n",
        "x samtools-1.2/htslib-1.2.1/test/test-vcf-sweep.out\r\n",
        "x samtools-1.2/htslib-1.2.1/test/test.pl\r\n",
        "x samtools-1.2/htslib-1.2.1/test/test_view.c\r\n",
        "x samtools-1.2/htslib-1.2.1/test/test_view.pl\r\n",
        "x samtools-1.2/htslib-1.2.1/test/xx#blank.sam\r\n",
        "x samtools-1.2/htslib-1.2.1/test/xx#large_aux.sam\r\n",
        "x samtools-1.2/htslib-1.2.1/test/xx#large_aux2.sam\r\n",
        "x samtools-1.2/htslib-1.2.1/test/xx#minimal.sam\r\n",
        "x samtools-1.2/htslib-1.2.1/test/xx#pair.sam\r\n",
        "x samtools-1.2/htslib-1.2.1/test/xx#rg.sam\r\n",
        "x samtools-1.2/htslib-1.2.1/test/xx#triplet.sam\r\n",
        "x samtools-1.2/htslib-1.2.1/test/xx#unsorted.sam\r\n",
        "x samtools-1.2/htslib-1.2.1/test/xx.fa\r\n",
        "x samtools-1.2/htslib-1.2.1/test/xx.fa.fai\r\n",
        "x samtools-1.2/htslib-1.2.1/vcf.5\r\n",
        "x samtools-1.2/htslib-1.2.1/vcf.c\r\n",
        "x samtools-1.2/htslib-1.2.1/vcf_sweep.c\r\n",
        "x samtools-1.2/htslib-1.2.1/vcfutils.c\r\n",
        "x samtools-1.2/htslib-1.2.1/configure\r\n"
       ]
      },
      {
       "output_type": "stream",
       "stream": "stdout",
       "text": [
        "/Users/rpearson/src/github/malariagen/methods-dev/pf3k_techbm/opt/samtools/samtools-1.2\n",
        "gcc -g -Wall -O2 -D_FILE_OFFSET_BITS=64 -D_LARGEFILE64_SOURCE -D_CURSES_LIB=1 -I. -Ihtslib-1.2.1 -c -o bam_index.o bam_index.c\r\n"
       ]
      },
      {
       "output_type": "stream",
       "stream": "stdout",
       "text": [
        "gcc -g -Wall -O2 -D_FILE_OFFSET_BITS=64 -D_LARGEFILE64_SOURCE -D_CURSES_LIB=1 -I. -Ihtslib-1.2.1 -c -o bam_plcmd.o bam_plcmd.c\r\n"
       ]
      },
      {
       "output_type": "stream",
       "stream": "stdout",
       "text": [
        "gcc -g -Wall -O2 -D_FILE_OFFSET_BITS=64 -D_LARGEFILE64_SOURCE -D_CURSES_LIB=1 -I. -Ihtslib-1.2.1 -c -o sam_view.o sam_view.c\r\n"
       ]
      },
      {
       "output_type": "stream",
       "stream": "stdout",
       "text": [
        "\u001b[1msam_view.c:39:1: \u001b[0m\u001b[0;1;35mwarning: \u001b[0m\u001b[1munused function 'kh_clear_rg' [-Wunused-function]\u001b[0m\r\n",
        "KHASH_SET_INIT_STR(rg)\r\n",
        "\u001b[0;1;32m^\r\n",
        "\u001b[0m\u001b[1mhtslib-1.2.1/htslib/khash.h:609:2: \u001b[0m\u001b[0;1;30mnote: \u001b[0mexpanded from macro 'KHASH_SET_INIT_STR'\u001b[0m\r\n",
        "        KHASH_INIT(name, kh_cstr_t, char, 0, kh_str_hash_func, kh_str_hash_equal)\r\n",
        "\u001b[0;1;32m        ^\r\n",
        "\u001b[0m\u001b[1mhtslib-1.2.1/htslib/khash.h:358:2: \u001b[0m\u001b[0;1;30mnote: \u001b[0mexpanded from macro 'KHASH_INIT'\u001b[0m\r\n",
        "        KHASH_INIT2(name, static kh_inline, khkey_t, khval_t, kh_is_map, __hash_func, __hash_equal)\r\n",
        "\u001b[0;1;32m        ^\r\n",
        "\u001b[0m\u001b[1mhtslib-1.2.1/htslib/khash.h:355:2: \u001b[0m\u001b[0;1;30mnote: \u001b[0mexpanded from macro 'KHASH_INIT2'\u001b[0m\r\n",
        "        __KHASH_IMPL(name, SCOPE, khkey_t, khval_t, kh_is_map, __hash_func, __hash_equal)\r\n",
        "\u001b[0;1;32m        ^\r\n",
        "\u001b[0m\u001b[1mhtslib-1.2.1/htslib/khash.h:215:13: \u001b[0m\u001b[0;1;30mnote: \u001b[0mexpanded from macro '__KHASH_IMPL'\u001b[0m\r\n",
        "        SCOPE void kh_clear_##name(kh_##name##_t *h)                                            \\\r\n",
        "\u001b[0;1;32m                   ^\r\n",
        "\u001b[0m\u001b[1m<scratch space>:41:1: \u001b[0m\u001b[0;1;30mnote: \u001b[0mexpanded from here\u001b[0m\r\n",
        "kh_clear_rg\r\n",
        "\u001b[0;1;32m^\r\n",
        "\u001b[0m\u001b[1msam_view.c:39:1: \u001b[0m\u001b[0;1;35mwarning: \u001b[0m\u001b[1munused function 'kh_del_rg' [-Wunused-function]\u001b[0m\r\n",
        "\u001b[1mhtslib-1.2.1/htslib/khash.h:609:2: \u001b[0m\u001b[0;1;30mnote: \u001b[0mexpanded from macro 'KHASH_SET_INIT_STR'\u001b[0m\r\n",
        "        KHASH_INIT(name, kh_cstr_t, char, 0, kh_str_hash_func, kh_str_hash_equal)\r\n",
        "\u001b[0;1;32m        ^\r\n",
        "\u001b[0m\u001b[1mhtslib-1.2.1/htslib/khash.h:358:2: \u001b[0m\u001b[0;1;30mnote: \u001b[0mexpanded from macro 'KHASH_INIT'\u001b[0m\r\n",
        "        KHASH_INIT2(name, static kh_inline, khkey_t, khval_t, kh_is_map, __hash_func, __hash_equal)\r\n",
        "\u001b[0;1;32m        ^\r\n",
        "\u001b[0m\u001b[1mhtslib-1.2.1/htslib/khash.h:355:2: \u001b[0m\u001b[0;1;30mnote: \u001b[0mexpanded from macro 'KHASH_INIT2'\u001b[0m\r\n",
        "        __KHASH_IMPL(name, SCOPE, khkey_t, khval_t, kh_is_map, __hash_func, __hash_equal)\r\n",
        "\u001b[0;1;32m        ^\r\n",
        "\u001b[0m\u001b[1mhtslib-1.2.1/htslib/khash.h:341:13: \u001b[0m\u001b[0;1;30mnote: \u001b[0mexpanded from macro '__KHASH_IMPL'\u001b[0m\r\n",
        "        SCOPE void kh_del_##name(kh_##name##_t *h, khint_t x)                           \\\r\n",
        "\u001b[0;1;32m                   ^\r\n",
        "\u001b[0m\u001b[1m<scratch space>:55:1: \u001b[0m\u001b[0;1;30mnote: \u001b[0mexpanded from here\u001b[0m\r\n",
        "kh_del_rg\r\n",
        "\u001b[0;1;32m^\r\n",
        "\u001b[0m"
       ]
      },
      {
       "output_type": "stream",
       "stream": "stdout",
       "text": [
        "2 warnings generated.\r\n",
        "gcc -g -Wall -O2 -D_FILE_OFFSET_BITS=64 -D_LARGEFILE64_SOURCE -D_CURSES_LIB=1 -I. -Ihtslib-1.2.1 -c -o bam_cat.o bam_cat.c\r\n"
       ]
      },
      {
       "output_type": "stream",
       "stream": "stdout",
       "text": [
        "gcc -g -Wall -O2 -D_FILE_OFFSET_BITS=64 -D_LARGEFILE64_SOURCE -D_CURSES_LIB=1 -I. -Ihtslib-1.2.1 -c -o bam_md.o bam_md.c\r\n"
       ]
      },
      {
       "output_type": "stream",
       "stream": "stdout",
       "text": [
        "gcc -g -Wall -O2 -D_FILE_OFFSET_BITS=64 -D_LARGEFILE64_SOURCE -D_CURSES_LIB=1 -I. -Ihtslib-1.2.1 -c -o bam_reheader.o bam_reheader.c\r\n"
       ]
      },
      {
       "output_type": "stream",
       "stream": "stdout",
       "text": [
        "gcc -g -Wall -O2 -D_FILE_OFFSET_BITS=64 -D_LARGEFILE64_SOURCE -D_CURSES_LIB=1 -I. -Ihtslib-1.2.1 -c -o bam_sort.o bam_sort.c\r\n"
       ]
      },
      {
       "output_type": "stream",
       "stream": "stdout",
       "text": [
        "\u001b[1mbam_sort.c:59:1: \u001b[0m\u001b[0;1;35mwarning: \u001b[0m\u001b[1munused function 'kh_clear_c2c' [-Wunused-function]\u001b[0m\r\n",
        "KHASH_INIT(c2c, char*, char*, 1, kh_str_hash_func, kh_str_hash_equal)\r\n",
        "\u001b[0;1;32m^\r\n",
        "\u001b[0m\u001b[1mhtslib-1.2.1/htslib/khash.h:358:2: \u001b[0m\u001b[0;1;30mnote: \u001b[0mexpanded from macro 'KHASH_INIT'\u001b[0m\r\n",
        "        KHASH_INIT2(name, static kh_inline, khkey_t, khval_t, kh_is_map, __hash_func, __hash_equal)\r\n",
        "\u001b[0;1;32m        ^\r\n",
        "\u001b[0m\u001b[1mhtslib-1.2.1/htslib/khash.h:355:2: \u001b[0m\u001b[0;1;30mnote: \u001b[0mexpanded from macro 'KHASH_INIT2'\u001b[0m\r\n",
        "        __KHASH_IMPL(name, SCOPE, khkey_t, khval_t, kh_is_map, __hash_func, __hash_equal)\r\n",
        "\u001b[0;1;32m        ^\r\n",
        "\u001b[0m\u001b[1mhtslib-1.2.1/htslib/khash.h:215:13: \u001b[0m\u001b[0;1;30mnote: \u001b[0mexpanded from macro '__KHASH_IMPL'\u001b[0m\r\n",
        "        SCOPE void kh_clear_##name(kh_##name##_t *h)                                            \\\r\n",
        "\u001b[0;1;32m                   ^\r\n",
        "\u001b[0m\u001b[1m<scratch space>:213:1: \u001b[0m\u001b[0;1;30mnote: \u001b[0mexpanded from here\u001b[0m\r\n",
        "kh_clear_c2c\r\n",
        "\u001b[0;1;32m^\r\n",
        "\u001b[0m\u001b[1mbam_sort.c:59:1: \u001b[0m\u001b[0;1;35mwarning: \u001b[0m\u001b[1munused function 'kh_del_c2c' [-Wunused-function]\u001b[0m\r\n",
        "\u001b[1mhtslib-1.2.1/htslib/khash.h:358:2: \u001b[0m\u001b[0;1;30mnote: \u001b[0mexpanded from macro 'KHASH_INIT'\u001b[0m\r\n",
        "        KHASH_INIT2(name, static kh_inline, khkey_t, khval_t, kh_is_map, __hash_func, __hash_equal)\r\n",
        "\u001b[0;1;32m        ^\r\n",
        "\u001b[0m\u001b[1mhtslib-1.2.1/htslib/khash.h:355:2: \u001b[0m\u001b[0;1;30mnote: \u001b[0mexpanded from macro 'KHASH_INIT2'\u001b[0m\r\n",
        "        __KHASH_IMPL(name, SCOPE, khkey_t, khval_t, kh_is_map, __hash_func, __hash_equal)\r\n",
        "\u001b[0;1;32m        ^\r\n",
        "\u001b[0m\u001b[1mhtslib-1.2.1/htslib/khash.h:341:13: \u001b[0m\u001b[0;1;30mnote: \u001b[0mexpanded from macro '__KHASH_IMPL'\u001b[0m\r\n",
        "        SCOPE void kh_del_##name(kh_##name##_t *h, khint_t x)                           \\\r\n",
        "\u001b[0;1;32m                   ^\r\n",
        "\u001b[0m\u001b[1m<scratch space>:227:1: \u001b[0m\u001b[0;1;30mnote: \u001b[0mexpanded from here\u001b[0m\r\n",
        "kh_del_c2c\r\n",
        "\u001b[0;1;32m^\r\n",
        "\u001b[0m\u001b[1mbam_sort.c:60:1: \u001b[0m\u001b[0;1;35mwarning: \u001b[0m\u001b[1munused function 'kh_clear_c2i' [-Wunused-function]\u001b[0m\r\n",
        "KHASH_MAP_INIT_STR(c2i, int)\r\n",
        "\u001b[0;1;32m^\r\n",
        "\u001b[0m\u001b[1mhtslib-1.2.1/htslib/khash.h:617:2: \u001b[0m\u001b[0;1;30mnote: \u001b[0mexpanded from macro 'KHASH_MAP_INIT_STR'\u001b[0m\r\n",
        "        KHASH_INIT(name, kh_cstr_t, khval_t, 1, kh_str_hash_func, kh_str_hash_equal)\r\n",
        "\u001b[0;1;32m        ^\r\n",
        "\u001b[0m\u001b[1mhtslib-1.2.1/htslib/khash.h:358:2: \u001b[0m\u001b[0;1;30mnote: \u001b[0mexpanded from macro 'KHASH_INIT'\u001b[0m\r\n",
        "        KHASH_INIT2(name, static kh_inline, khkey_t, khval_t, kh_is_map, __hash_func, __hash_equal)\r\n",
        "\u001b[0;1;32m        ^\r\n",
        "\u001b[0m\u001b[1mhtslib-1.2.1/htslib/khash.h:355:2: \u001b[0m\u001b[0;1;30mnote: \u001b[0mexpanded from macro 'KHASH_INIT2'\u001b[0m\r\n",
        "        __KHASH_IMPL(name, SCOPE, khkey_t, khval_t, kh_is_map, __hash_func, __hash_equal)\r\n",
        "\u001b[0;1;32m        ^\r\n",
        "\u001b[0m\u001b[1mhtslib-1.2.1/htslib/khash.h:215:13: \u001b[0m\u001b[0;1;30mnote: \u001b[0mexpanded from macro '__KHASH_IMPL'\u001b[0m\r\n",
        "        SCOPE void kh_clear_##name(kh_##name##_t *h)                                            \\\r\n",
        "\u001b[0;1;32m                   ^\r\n",
        "\u001b[0m\u001b[1m<scratch space>:244:1: \u001b[0m\u001b[0;1;30mnote: \u001b[0mexpanded from here\u001b[0m\r\n",
        "kh_clear_c2i\r\n",
        "\u001b[0;1;32m^\r\n",
        "\u001b[0m\u001b[1mbam_sort.c:60:1: \u001b[0m\u001b[0;1;35mwarning: \u001b[0m\u001b[1munused function 'kh_del_c2i' [-Wunused-function]\u001b[0m\r\n",
        "\u001b[1mhtslib-1.2.1/htslib/khash.h:617:2: \u001b[0m\u001b[0;1;30mnote: \u001b[0mexpanded from macro 'KHASH_MAP_INIT_STR'\u001b[0m\r\n",
        "        KHASH_INIT(name, kh_cstr_t, khval_t, 1, kh_str_hash_func, kh_str_hash_equal)\r\n",
        "\u001b[0;1;32m        ^\r\n",
        "\u001b[0m\u001b[1mhtslib-1.2.1/htslib/khash.h:358:2: \u001b[0m\u001b[0;1;30mnote: \u001b[0mexpanded from macro 'KHASH_INIT'\u001b[0m\r\n",
        "        KHASH_INIT2(name, static kh_inline, khkey_t, khval_t, kh_is_map, __hash_func, __hash_equal)\r\n",
        "\u001b[0;1;32m        ^\r\n",
        "\u001b[0m\u001b[1mhtslib-1.2.1/htslib/khash.h:355:2: \u001b[0m\u001b[0;1;30mnote: \u001b[0mexpanded from macro 'KHASH_INIT2'\u001b[0m\r\n",
        "        __KHASH_IMPL(name, SCOPE, khkey_t, khval_t, kh_is_map, __hash_func, __hash_equal)\r\n",
        "\u001b[0;1;32m        ^\r\n",
        "\u001b[0m\u001b[1mhtslib-1.2.1/htslib/khash.h:341:13: \u001b[0m\u001b[0;1;30mnote: \u001b[0mexpanded from macro '__KHASH_IMPL'\u001b[0m\r\n",
        "        SCOPE void kh_del_##name(kh_##name##_t *h, khint_t x)                           \\\r\n",
        "\u001b[0;1;32m                   ^\r\n",
        "\u001b[0m\u001b[1m<scratch space>:258:1: \u001b[0m\u001b[0;1;30mnote: \u001b[0mexpanded from here\u001b[0m\r\n",
        "kh_del_c2i\r\n",
        "\u001b[0;1;32m^\r\n",
        "\u001b[0m\u001b[1mbam_sort.c:63:1: \u001b[0m\u001b[0;1;35mwarning: \u001b[0m\u001b[1munused function 'kl_shift_hdrln' [-Wunused-function]\u001b[0m\r\n",
        "KLIST_INIT(hdrln, char*, __free_char)\r\n",
        "\u001b[0;1;32m^\r\n",
        "\u001b[0m\u001b[1mhtslib-1.2.1/htslib/klist.h:99:20: \u001b[0m\u001b[0;1;30mnote: \u001b[0mexpanded from macro 'KLIST_INIT'\u001b[0m\r\n",
        "        static inline int kl_shift_##name(kl_##name##_t *kl, kltype_t *d) { \\\r\n",
        "\u001b[0;1;32m                          ^\r\n",
        "\u001b[0m\u001b[1m<scratch space>:17:1: \u001b[0m\u001b[0;1;30mnote: \u001b[0mexpanded from here\u001b[0m\r\n",
        "kl_shift_hdrln\r\n",
        "\u001b[0;1;32m^\r\n",
        "\u001b[0m"
       ]
      },
      {
       "output_type": "stream",
       "stream": "stdout",
       "text": [
        "5 warnings generated.\r\n",
        "gcc -g -Wall -O2 -D_FILE_OFFSET_BITS=64 -D_LARGEFILE64_SOURCE -D_CURSES_LIB=1 -I. -Ihtslib-1.2.1 -c -o bedidx.o bedidx.c\r\n"
       ]
      },
      {
       "output_type": "stream",
       "stream": "stdout",
       "text": [
        "\u001b[1mbedidx.c:41:1: \u001b[0m\u001b[0;1;35mwarning: \u001b[0m\u001b[1munused function 'ks_getc' [-Wunused-function]\u001b[0m\r\n",
        "KSTREAM_INIT(gzFile, gzread, 8192)\r\n",
        "\u001b[0;1;32m^\r\n",
        "\u001b[0m\u001b[1mhtslib-1.2.1/htslib/kseq.h:154:49: \u001b[0m\u001b[0;1;30mnote: \u001b[0mexpanded from macro 'KSTREAM_INIT'\u001b[0m\r\n",
        "#define KSTREAM_INIT(type_t, __read, __bufsize) KSTREAM_INIT2(static, type_t, __read, __bufsize)\r\n",
        "\u001b[0;1;32m                                                ^\r\n",
        "\u001b[0m\u001b[1mhtslib-1.2.1/htslib/kseq.h:152:2: \u001b[0m\u001b[0;1;30mnote: \u001b[0mexpanded from macro 'KSTREAM_INIT2'\u001b[0m\r\n",
        "        __KS_INLINED(__read)\r\n",
        "\u001b[0;1;32m        ^\r\n",
        "\u001b[0m\u001b[1mhtslib-1.2.1/htslib/kseq.h:68:20: \u001b[0m\u001b[0;1;30mnote: \u001b[0mexpanded from macro '__KS_INLINED'\u001b[0m\r\n",
        "        static inline int ks_getc(kstream_t *ks) \\\r\n",
        "\u001b[0;1;32m                          ^\r\n",
        "\u001b[0m\u001b[1mbedidx.c:50:1: \u001b[0m\u001b[0;1;35mwarning: \u001b[0m\u001b[1munused function 'kh_clear_reg' [-Wunused-function]\u001b[0m\r\n",
        "KHASH_MAP_INIT_STR(reg, bed_reglist_t)\r\n",
        "\u001b[0;1;32m^\r\n",
        "\u001b[0m\u001b[1mhtslib-1.2.1/htslib/khash.h:617:2: \u001b[0m\u001b[0;1;30mnote: \u001b[0mexpanded from macro 'KHASH_MAP_INIT_STR'\u001b[0m\r\n",
        "        KHASH_INIT(name, kh_cstr_t, khval_t, 1, kh_str_hash_func, kh_str_hash_equal)\r\n",
        "\u001b[0;1;32m        ^\r\n",
        "\u001b[0m\u001b[1mhtslib-1.2.1/htslib/khash.h:358:2: \u001b[0m\u001b[0;1;30mnote: \u001b[0mexpanded from macro 'KHASH_INIT'\u001b[0m\r\n",
        "        KHASH_INIT2(name, static kh_inline, khkey_t, khval_t, kh_is_map, __hash_func, __hash_equal)\r\n",
        "\u001b[0;1;32m        ^\r\n",
        "\u001b[0m\u001b[1mhtslib-1.2.1/htslib/khash.h:355:2: \u001b[0m\u001b[0;1;30mnote: \u001b[0mexpanded from macro 'KHASH_INIT2'\u001b[0m\r\n",
        "        __KHASH_IMPL(name, SCOPE, khkey_t, khval_t, kh_is_map, __hash_func, __hash_equal)\r\n",
        "\u001b[0;1;32m        ^\r\n",
        "\u001b[0m\u001b[1mhtslib-1.2.1/htslib/khash.h:215:13: \u001b[0m\u001b[0;1;30mnote: \u001b[0mexpanded from macro '__KHASH_IMPL'\u001b[0m\r\n",
        "        SCOPE void kh_clear_##name(kh_##name##_t *h)                                            \\\r\n",
        "\u001b[0;1;32m                   ^\r\n",
        "\u001b[0m\u001b[1m<scratch space>:216:1: \u001b[0m\u001b[0;1;30mnote: \u001b[0mexpanded from here\u001b[0m\r\n",
        "kh_clear_reg\r\n",
        "\u001b[0;1;32m^\r\n",
        "\u001b[0m\u001b[1mbedidx.c:50:1: \u001b[0m\u001b[0;1;35mwarning: \u001b[0m\u001b[1munused function 'kh_del_reg' [-Wunused-function]\u001b[0m\r\n",
        "\u001b[1mhtslib-1.2.1/htslib/khash.h:617:2: \u001b[0m\u001b[0;1;30mnote: \u001b[0mexpanded from macro 'KHASH_MAP_INIT_STR'\u001b[0m\r\n",
        "        KHASH_INIT(name, kh_cstr_t, khval_t, 1, kh_str_hash_func, kh_str_hash_equal)\r\n",
        "\u001b[0;1;32m        ^\r\n",
        "\u001b[0m\u001b[1mhtslib-1.2.1/htslib/khash.h:358:2: \u001b[0m\u001b[0;1;30mnote: \u001b[0mexpanded from macro 'KHASH_INIT'\u001b[0m\r\n",
        "        KHASH_INIT2(name, static kh_inline, khkey_t, khval_t, kh_is_map, __hash_func, __hash_equal)\r\n",
        "\u001b[0;1;32m        ^\r\n",
        "\u001b[0m\u001b[1mhtslib-1.2.1/htslib/khash.h:355:2: \u001b[0m\u001b[0;1;30mnote: \u001b[0mexpanded from macro 'KHASH_INIT2'\u001b[0m\r\n",
        "        __KHASH_IMPL(name, SCOPE, khkey_t, khval_t, kh_is_map, __hash_func, __hash_equal)\r\n",
        "\u001b[0;1;32m        ^\r\n",
        "\u001b[0m\u001b[1mhtslib-1.2.1/htslib/khash.h:341:13: \u001b[0m\u001b[0;1;30mnote: \u001b[0mexpanded from macro '__KHASH_IMPL'\u001b[0m\r\n",
        "        SCOPE void kh_del_##name(kh_##name##_t *h, khint_t x)                           \\\r\n",
        "\u001b[0;1;32m                   ^\r\n",
        "\u001b[0m\u001b[1m<scratch space>:230:1: \u001b[0m\u001b[0;1;30mnote: \u001b[0mexpanded from here\u001b[0m\r\n",
        "kh_del_reg\r\n",
        "\u001b[0;1;32m^\r\n",
        "\u001b[0m"
       ]
      },
      {
       "output_type": "stream",
       "stream": "stdout",
       "text": [
        "3 warnings generated.\r\n",
        "gcc -g -Wall -O2 -D_FILE_OFFSET_BITS=64 -D_LARGEFILE64_SOURCE -D_CURSES_LIB=1 -I. -Ihtslib-1.2.1 -c -o kprobaln.o kprobaln.c\r\n"
       ]
      },
      {
       "output_type": "stream",
       "stream": "stdout",
       "text": [
        "gcc -g -Wall -O2 -D_FILE_OFFSET_BITS=64 -D_LARGEFILE64_SOURCE -D_CURSES_LIB=1 -I. -Ihtslib-1.2.1 -c -o bam_rmdup.o bam_rmdup.c\r\n"
       ]
      },
      {
       "output_type": "stream",
       "stream": "stdout",
       "text": [
        "\u001b[1mbam_rmdup.c:37:1: \u001b[0m\u001b[0;1;35mwarning: \u001b[0m\u001b[1munused function 'kh_get_pos' [-Wunused-function]\u001b[0m\r\n",
        "KHASH_MAP_INIT_INT64(pos, bam1_p)\r\n",
        "\u001b[0;1;32m^\r\n",
        "\u001b[0m\u001b[1mhtslib-1.2.1/htslib/khash.h:601:2: \u001b[0m\u001b[0;1;30mnote: \u001b[0mexpanded from macro 'KHASH_MAP_INIT_INT64'\u001b[0m\r\n",
        "        KHASH_INIT(name, khint64_t, khval_t, 1, kh_int64_hash_func, kh_int64_hash_equal)\r\n",
        "\u001b[0;1;32m        ^\r\n",
        "\u001b[0m\u001b[1mhtslib-1.2.1/htslib/khash.h:358:2: \u001b[0m\u001b[0;1;30mnote: \u001b[0mexpanded from macro 'KHASH_INIT'\u001b[0m\r\n",
        "        KHASH_INIT2(name, static kh_inline, khkey_t, khval_t, kh_is_map, __hash_func, __hash_equal)\r\n",
        "\u001b[0;1;32m        ^\r\n",
        "\u001b[0m\u001b[1mhtslib-1.2.1/htslib/khash.h:355:2: \u001b[0m\u001b[0;1;30mnote: \u001b[0mexpanded from macro 'KHASH_INIT2'\u001b[0m\r\n",
        "        __KHASH_IMPL(name, SCOPE, khkey_t, khval_t, kh_is_map, __hash_func, __hash_equal)\r\n",
        "\u001b[0;1;32m        ^\r\n",
        "\u001b[0m\u001b[1mhtslib-1.2.1/htslib/khash.h:222:16: \u001b[0m\u001b[0;1;30mnote: \u001b[0mexpanded from macro '__KHASH_IMPL'\u001b[0m\r\n",
        "        SCOPE khint_t kh_get_##name(const kh_##name##_t *h, khkey_t key)        \\\r\n",
        "\u001b[0;1;32m                      ^\r\n",
        "\u001b[0m\u001b[1m<scratch space>:241:1: \u001b[0m\u001b[0;1;30mnote: \u001b[0mexpanded from here\u001b[0m\r\n",
        "kh_get_pos\r\n",
        "\u001b[0;1;32m^\r\n",
        "\u001b[0m\u001b[1mbam_rmdup.c:37:1: \u001b[0m\u001b[0;1;35mwarning: \u001b[0m\u001b[1munused function 'kh_del_pos' [-Wunused-function]\u001b[0m\r\n",
        "\u001b[1mhtslib-1.2.1/htslib/khash.h:601:2: \u001b[0m\u001b[0;1;30mnote: \u001b[0mexpanded from macro 'KHASH_MAP_INIT_INT64'\u001b[0m\r\n",
        "        KHASH_INIT(name, khint64_t, khval_t, 1, kh_int64_hash_func, kh_int64_hash_equal)\r\n",
        "\u001b[0;1;32m        ^\r\n",
        "\u001b[0m\u001b[1mhtslib-1.2.1/htslib/khash.h:358:2: \u001b[0m\u001b[0;1;30mnote: \u001b[0mexpanded from macro 'KHASH_INIT'\u001b[0m\r\n",
        "        KHASH_INIT2(name, static kh_inline, khkey_t, khval_t, kh_is_map, __hash_func, __hash_equal)\r\n",
        "\u001b[0;1;32m        ^\r\n",
        "\u001b[0m\u001b[1mhtslib-1.2.1/htslib/khash.h:355:2: \u001b[0m\u001b[0;1;30mnote: \u001b[0mexpanded from macro 'KHASH_INIT2'\u001b[0m\r\n",
        "        __KHASH_IMPL(name, SCOPE, khkey_t, khval_t, kh_is_map, __hash_func, __hash_equal)\r\n",
        "\u001b[0;1;32m        ^\r\n",
        "\u001b[0m\u001b[1mhtslib-1.2.1/htslib/khash.h:341:13: \u001b[0m\u001b[0;1;30mnote: \u001b[0mexpanded from macro '__KHASH_IMPL'\u001b[0m\r\n",
        "        SCOPE void kh_del_##name(kh_##name##_t *h, khint_t x)                           \\\r\n",
        "\u001b[0;1;32m                   ^\r\n",
        "\u001b[0m\u001b[1m<scratch space>:252:1: \u001b[0m\u001b[0;1;30mnote: \u001b[0mexpanded from here\u001b[0m\r\n",
        "kh_del_pos\r\n",
        "\u001b[0;1;32m^\r\n",
        "\u001b[0m\u001b[1mbam_rmdup.c:45:1: \u001b[0m\u001b[0;1;35mwarning: \u001b[0m\u001b[1munused function 'kh_clear_lib' [-Wunused-function]\u001b[0m\r\n",
        "KHASH_MAP_INIT_STR(lib, lib_aux_t)\r\n",
        "\u001b[0;1;32m^\r\n",
        "\u001b[0m\u001b[1mhtslib-1.2.1/htslib/khash.h:617:2: \u001b[0m\u001b[0;1;30mnote: \u001b[0mexpanded from macro 'KHASH_MAP_INIT_STR'\u001b[0m\r\n",
        "        KHASH_INIT(name, kh_cstr_t, khval_t, 1, kh_str_hash_func, kh_str_hash_equal)\r\n",
        "\u001b[0;1;32m        ^\r\n",
        "\u001b[0m\u001b[1mhtslib-1.2.1/htslib/khash.h:358:2: \u001b[0m\u001b[0;1;30mnote: \u001b[0mexpanded from macro 'KHASH_INIT'\u001b[0m\r\n",
        "        KHASH_INIT2(name, static kh_inline, khkey_t, khval_t, kh_is_map, __hash_func, __hash_equal)\r\n",
        "\u001b[0;1;32m        ^\r\n",
        "\u001b[0m\u001b[1mhtslib-1.2.1/htslib/khash.h:355:2: \u001b[0m\u001b[0;1;30mnote: \u001b[0mexpanded from macro 'KHASH_INIT2'\u001b[0m\r\n",
        "        __KHASH_IMPL(name, SCOPE, khkey_t, khval_t, kh_is_map, __hash_func, __hash_equal)\r\n",
        "\u001b[0;1;32m        ^\r\n",
        "\u001b[0m\u001b[1mhtslib-1.2.1/htslib/khash.h:215:13: \u001b[0m\u001b[0;1;30mnote: \u001b[0mexpanded from macro '__KHASH_IMPL'\u001b[0m\r\n",
        "        SCOPE void kh_clear_##name(kh_##name##_t *h)                                            \\\r\n",
        "\u001b[0;1;32m                   ^\r\n",
        "\u001b[0m\u001b[1m<scratch space>:271:1: \u001b[0m\u001b[0;1;30mnote: \u001b[0mexpanded from here\u001b[0m\r\n",
        "kh_clear_lib\r\n",
        "\u001b[0;1;32m^\r\n",
        "\u001b[0m\u001b[1mbam_rmdup.c:45:1: \u001b[0m\u001b[0;1;35mwarning: \u001b[0m\u001b[1munused function 'kh_del_lib' [-Wunused-function]\u001b[0m\r\n",
        "\u001b[1mhtslib-1.2.1/htslib/khash.h:617:2: \u001b[0m\u001b[0;1;30mnote: \u001b[0mexpanded from macro 'KHASH_MAP_INIT_STR'\u001b[0m\r\n",
        "        KHASH_INIT(name, kh_cstr_t, khval_t, 1, kh_str_hash_func, kh_str_hash_equal)\r\n",
        "\u001b[0;1;32m        ^\r\n",
        "\u001b[0m\u001b[1mhtslib-1.2.1/htslib/khash.h:358:2: \u001b[0m\u001b[0;1;30mnote: \u001b[0mexpanded from macro 'KHASH_INIT'\u001b[0m\r\n",
        "        KHASH_INIT2(name, static kh_inline, khkey_t, khval_t, kh_is_map, __hash_func, __hash_equal)\r\n",
        "\u001b[0;1;32m        ^\r\n",
        "\u001b[0m\u001b[1mhtslib-1.2.1/htslib/khash.h:355:2: \u001b[0m\u001b[0;1;30mnote: \u001b[0mexpanded from macro 'KHASH_INIT2'\u001b[0m\r\n",
        "        __KHASH_IMPL(name, SCOPE, khkey_t, khval_t, kh_is_map, __hash_func, __hash_equal)\r\n",
        "\u001b[0;1;32m        ^\r\n",
        "\u001b[0m\u001b[1mhtslib-1.2.1/htslib/khash.h:341:13: \u001b[0m\u001b[0;1;30mnote: \u001b[0mexpanded from macro '__KHASH_IMPL'\u001b[0m\r\n",
        "        SCOPE void kh_del_##name(kh_##name##_t *h, khint_t x)                           \\\r\n",
        "\u001b[0;1;32m                   ^\r\n",
        "\u001b[0m\u001b[1m<scratch space>:285:1: \u001b[0m\u001b[0;1;30mnote: \u001b[0mexpanded from here\u001b[0m\r\n",
        "kh_del_lib\r\n",
        "\u001b[0;1;32m^\r\n",
        "\u001b[0m"
       ]
      },
      {
       "output_type": "stream",
       "stream": "stdout",
       "text": [
        "4 warnings generated.\r\n",
        "gcc -g -Wall -O2 -D_FILE_OFFSET_BITS=64 -D_LARGEFILE64_SOURCE -D_CURSES_LIB=1 -I. -Ihtslib-1.2.1 -c -o bam_rmdupse.o bam_rmdupse.c\r\n"
       ]
      },
      {
       "output_type": "stream",
       "stream": "stdout",
       "text": [
        "\u001b[1mbam_rmdupse.c:43:1: \u001b[0m\u001b[0;1;35mwarning: \u001b[0m\u001b[1munused function 'kh_clear_best' [-Wunused-function]\u001b[0m\r\n",
        "KHASH_MAP_INIT_INT(best, elem_p)\r\n",
        "\u001b[0;1;32m^\r\n",
        "\u001b[0m\u001b[1mhtslib-1.2.1/htslib/khash.h:586:2: \u001b[0m\u001b[0;1;30mnote: \u001b[0mexpanded from macro 'KHASH_MAP_INIT_INT'\u001b[0m\r\n",
        "        KHASH_INIT(name, khint32_t, khval_t, 1, kh_int_hash_func, kh_int_hash_equal)\r\n",
        "\u001b[0;1;32m        ^\r\n",
        "\u001b[0m\u001b[1mhtslib-1.2.1/htslib/khash.h:358:2: \u001b[0m\u001b[0;1;30mnote: \u001b[0mexpanded from macro 'KHASH_INIT'\u001b[0m\r\n",
        "        KHASH_INIT2(name, static kh_inline, khkey_t, khval_t, kh_is_map, __hash_func, __hash_equal)\r\n",
        "\u001b[0;1;32m        ^\r\n",
        "\u001b[0m\u001b[1mhtslib-1.2.1/htslib/khash.h:355:2: \u001b[0m\u001b[0;1;30mnote: \u001b[0mexpanded from macro 'KHASH_INIT2'\u001b[0m\r\n",
        "        __KHASH_IMPL(name, SCOPE, khkey_t, khval_t, kh_is_map, __hash_func, __hash_equal)\r\n",
        "\u001b[0;1;32m        ^\r\n",
        "\u001b[0m\u001b[1mhtslib-1.2.1/htslib/khash.h:215:13: \u001b[0m\u001b[0;1;30mnote: \u001b[0mexpanded from macro '__KHASH_IMPL'\u001b[0m\r\n",
        "        SCOPE void kh_clear_##name(kh_##name##_t *h)                                            \\\r\n",
        "\u001b[0;1;32m                   ^\r\n",
        "\u001b[0m\u001b[1m<scratch space>:106:1: \u001b[0m\u001b[0;1;30mnote: \u001b[0mexpanded from here\u001b[0m\r\n",
        "kh_clear_best\r\n",
        "\u001b[0;1;32m^\r\n",
        "\u001b[0m\u001b[1mbam_rmdupse.c:43:1: \u001b[0m\u001b[0;1;35mwarning: \u001b[0m\u001b[1munused function 'kh_get_best' [-Wunused-function]\u001b[0m\r\n",
        "\u001b[1mhtslib-1.2.1/htslib/khash.h:586:2: \u001b[0m\u001b[0;1;30mnote: \u001b[0mexpanded from macro 'KHASH_MAP_INIT_INT'\u001b[0m\r\n",
        "        KHASH_INIT(name, khint32_t, khval_t, 1, kh_int_hash_func, kh_int_hash_equal)\r\n",
        "\u001b[0;1;32m        ^\r\n",
        "\u001b[0m\u001b[1mhtslib-1.2.1/htslib/khash.h:358:2: \u001b[0m\u001b[0;1;30mnote: \u001b[0mexpanded from macro 'KHASH_INIT'\u001b[0m\r\n",
        "        KHASH_INIT2(name, static kh_inline, khkey_t, khval_t, kh_is_map, __hash_func, __hash_equal)\r\n",
        "\u001b[0;1;32m        ^\r\n",
        "\u001b[0m\u001b[1mhtslib-1.2.1/htslib/khash.h:355:2: \u001b[0m\u001b[0;1;30mnote: \u001b[0mexpanded from macro 'KHASH_INIT2'\u001b[0m\r\n",
        "        __KHASH_IMPL(name, SCOPE, khkey_t, khval_t, kh_is_map, __hash_func, __hash_equal)\r\n",
        "\u001b[0;1;32m        ^\r\n",
        "\u001b[0m\u001b[1mhtslib-1.2.1/htslib/khash.h:222:16: \u001b[0m\u001b[0;1;30mnote: \u001b[0mexpanded from macro '__KHASH_IMPL'\u001b[0m\r\n",
        "        SCOPE khint_t kh_get_##name(const kh_##name##_t *h, khkey_t key)        \\\r\n",
        "\u001b[0;1;32m                      ^\r\n",
        "\u001b[0m\u001b[1m<scratch space>:109:1: \u001b[0m\u001b[0;1;30mnote: \u001b[0mexpanded from here\u001b[0m\r\n",
        "kh_get_best\r\n",
        "\u001b[0;1;32m^\r\n",
        "\u001b[0m\u001b[1mbam_rmdupse.c:50:1: \u001b[0m\u001b[0;1;35mwarning: \u001b[0m\u001b[1munused function 'kh_clear_lib' [-Wunused-function]\u001b[0m\r\n",
        "KHASH_MAP_INIT_STR(lib, lib_aux_t)\r\n",
        "\u001b[0;1;32m^\r\n",
        "\u001b[0m\u001b[1mhtslib-1.2.1/htslib/khash.h:617:2: \u001b[0m\u001b[0;1;30mnote: \u001b[0mexpanded from macro 'KHASH_MAP_INIT_STR'\u001b[0m\r\n",
        "        KHASH_INIT(name, kh_cstr_t, khval_t, 1, kh_str_hash_func, kh_str_hash_equal)\r\n",
        "\u001b[0;1;32m        ^\r\n",
        "\u001b[0m\u001b[1mhtslib-1.2.1/htslib/khash.h:358:2: \u001b[0m\u001b[0;1;30mnote: \u001b[0mexpanded from macro 'KHASH_INIT'\u001b[0m\r\n",
        "        KHASH_INIT2(name, static kh_inline, khkey_t, khval_t, kh_is_map, __hash_func, __hash_equal)\r\n",
        "\u001b[0;1;32m        ^\r\n",
        "\u001b[0m\u001b[1mhtslib-1.2.1/htslib/khash.h:355:2: \u001b[0m\u001b[0;1;30mnote: \u001b[0mexpanded from macro 'KHASH_INIT2'\u001b[0m\r\n",
        "        __KHASH_IMPL(name, SCOPE, khkey_t, khval_t, kh_is_map, __hash_func, __hash_equal)\r\n",
        "\u001b[0;1;32m        ^\r\n",
        "\u001b[0m\u001b[1mhtslib-1.2.1/htslib/khash.h:215:13: \u001b[0m\u001b[0;1;30mnote: \u001b[0mexpanded from macro '__KHASH_IMPL'\u001b[0m\r\n",
        "        SCOPE void kh_clear_##name(kh_##name##_t *h)                                            \\\r\n",
        "\u001b[0;1;32m                   ^\r\n",
        "\u001b[0m\u001b[1m<scratch space>:139:1: \u001b[0m\u001b[0;1;30mnote: \u001b[0mexpanded from here\u001b[0m\r\n",
        "kh_clear_lib\r\n",
        "\u001b[0;1;32m^\r\n",
        "\u001b[0m\u001b[1mbam_rmdupse.c:50:1: \u001b[0m\u001b[0;1;35mwarning: \u001b[0m\u001b[1munused function 'kh_del_lib' [-Wunused-function]\u001b[0m\r\n",
        "\u001b[1mhtslib-1.2.1/htslib/khash.h:617:2: \u001b[0m\u001b[0;1;30mnote: \u001b[0mexpanded from macro 'KHASH_MAP_INIT_STR'\u001b[0m\r\n",
        "        KHASH_INIT(name, kh_cstr_t, khval_t, 1, kh_str_hash_func, kh_str_hash_equal)\r\n",
        "\u001b[0;1;32m        ^\r\n",
        "\u001b[0m\u001b[1mhtslib-1.2.1/htslib/khash.h:358:2: \u001b[0m\u001b[0;1;30mnote: \u001b[0mexpanded from macro 'KHASH_INIT'\u001b[0m\r\n",
        "        KHASH_INIT2(name, static kh_inline, khkey_t, khval_t, kh_is_map, __hash_func, __hash_equal)\r\n",
        "\u001b[0;1;32m        ^\r\n",
        "\u001b[0m\u001b[1mhtslib-1.2.1/htslib/khash.h:355:2: \u001b[0m\u001b[0;1;30mnote: \u001b[0mexpanded from macro 'KHASH_INIT2'\u001b[0m\r\n",
        "        __KHASH_IMPL(name, SCOPE, khkey_t, khval_t, kh_is_map, __hash_func, __hash_equal)\r\n",
        "\u001b[0;1;32m        ^\r\n",
        "\u001b[0m\u001b[1mhtslib-1.2.1/htslib/khash.h:341:13: \u001b[0m\u001b[0;1;30mnote: \u001b[0mexpanded from macro '__KHASH_IMPL'\u001b[0m\r\n",
        "        SCOPE void kh_del_##name(kh_##name##_t *h, khint_t x)                           \\\r\n",
        "\u001b[0;1;32m                   ^\r\n",
        "\u001b[0m\u001b[1m<scratch space>:153:1: \u001b[0m\u001b[0;1;30mnote: \u001b[0mexpanded from here\u001b[0m\r\n",
        "kh_del_lib\r\n",
        "\u001b[0;1;32m^\r\n",
        "\u001b[0m"
       ]
      },
      {
       "output_type": "stream",
       "stream": "stdout",
       "text": [
        "4 warnings generated.\r\n",
        "gcc -g -Wall -O2 -D_FILE_OFFSET_BITS=64 -D_LARGEFILE64_SOURCE -D_CURSES_LIB=1 -I. -Ihtslib-1.2.1 -c -o bam_mate.o bam_mate.c\r\n"
       ]
      },
      {
       "output_type": "stream",
       "stream": "stdout",
       "text": [
        "gcc -g -Wall -O2 -D_FILE_OFFSET_BITS=64 -D_LARGEFILE64_SOURCE -D_CURSES_LIB=1 -I. -Ihtslib-1.2.1 -c -o bam_stat.o bam_stat.c\r\n"
       ]
      },
      {
       "output_type": "stream",
       "stream": "stdout",
       "text": [
        "gcc -g -Wall -O2 -D_FILE_OFFSET_BITS=64 -D_LARGEFILE64_SOURCE -D_CURSES_LIB=1 -I. -Ihtslib-1.2.1 -c -o bam_color.o bam_color.c\r\n"
       ]
      },
      {
       "output_type": "stream",
       "stream": "stdout",
       "text": [
        "echo '#define SAMTOOLS_VERSION \"1.2\"' > version.h\r\n",
        "gcc -g -Wall -O2 -D_FILE_OFFSET_BITS=64 -D_LARGEFILE64_SOURCE -D_CURSES_LIB=1 -I. -Ihtslib-1.2.1 -c -o bamtk.o bamtk.c\r\n"
       ]
      },
      {
       "output_type": "stream",
       "stream": "stdout",
       "text": [
        "gcc -g -Wall -O2 -D_FILE_OFFSET_BITS=64 -D_LARGEFILE64_SOURCE -D_CURSES_LIB=1 -I. -Ihtslib-1.2.1 -c -o bam2bcf.o bam2bcf.c\r\n"
       ]
      },
      {
       "output_type": "stream",
       "stream": "stdout",
       "text": [
        "gcc -g -Wall -O2 -D_FILE_OFFSET_BITS=64 -D_LARGEFILE64_SOURCE -D_CURSES_LIB=1 -I. -Ihtslib-1.2.1 -c -o bam2bcf_indel.o bam2bcf_indel.c\r\n"
       ]
      },
      {
       "output_type": "stream",
       "stream": "stdout",
       "text": [
        "\u001b[1mbam2bcf_indel.c:33:1: \u001b[0m\u001b[0;1;35mwarning: \u001b[0m\u001b[1munused function 'kh_clear_rg' [-Wunused-function]\u001b[0m\r\n",
        "KHASH_SET_INIT_STR(rg)\r\n",
        "\u001b[0;1;32m^\r\n",
        "\u001b[0m\u001b[1mhtslib-1.2.1/htslib/khash.h:609:2: \u001b[0m\u001b[0;1;30mnote: \u001b[0mexpanded from macro 'KHASH_SET_INIT_STR'\u001b[0m\r\n",
        "        KHASH_INIT(name, kh_cstr_t, char, 0, kh_str_hash_func, kh_str_hash_equal)\r\n",
        "\u001b[0;1;32m        ^\r\n",
        "\u001b[0m\u001b[1mhtslib-1.2.1/htslib/khash.h:358:2: \u001b[0m\u001b[0;1;30mnote: \u001b[0mexpanded from macro 'KHASH_INIT'\u001b[0m\r\n",
        "        KHASH_INIT2(name, static kh_inline, khkey_t, khval_t, kh_is_map, __hash_func, __hash_equal)\r\n",
        "\u001b[0;1;32m        ^\r\n",
        "\u001b[0m\u001b[1mhtslib-1.2.1/htslib/khash.h:355:2: \u001b[0m\u001b[0;1;30mnote: \u001b[0mexpanded from macro 'KHASH_INIT2'\u001b[0m\r\n",
        "        __KHASH_IMPL(name, SCOPE, khkey_t, khval_t, kh_is_map, __hash_func, __hash_equal)\r\n",
        "\u001b[0;1;32m        ^\r\n",
        "\u001b[0m\u001b[1mhtslib-1.2.1/htslib/khash.h:215:13: \u001b[0m\u001b[0;1;30mnote: \u001b[0mexpanded from macro '__KHASH_IMPL'\u001b[0m\r\n",
        "        SCOPE void kh_clear_##name(kh_##name##_t *h)                                            \\\r\n",
        "\u001b[0;1;32m                   ^\r\n",
        "\u001b[0m\u001b[1m<scratch space>:161:1: \u001b[0m\u001b[0;1;30mnote: \u001b[0mexpanded from here\u001b[0m\r\n",
        "kh_clear_rg\r\n",
        "\u001b[0;1;32m^\r\n",
        "\u001b[0m\u001b[1mbam2bcf_indel.c:33:1: \u001b[0m\u001b[0;1;35mwarning: \u001b[0m\u001b[1munused function 'kh_del_rg' [-Wunused-function]\u001b[0m\r\n",
        "\u001b[1mhtslib-1.2.1/htslib/khash.h:609:2: \u001b[0m\u001b[0;1;30mnote: \u001b[0mexpanded from macro 'KHASH_SET_INIT_STR'\u001b[0m\r\n",
        "        KHASH_INIT(name, kh_cstr_t, char, 0, kh_str_hash_func, kh_str_hash_equal)\r\n",
        "\u001b[0;1;32m        ^\r\n",
        "\u001b[0m\u001b[1mhtslib-1.2.1/htslib/khash.h:358:2: \u001b[0m\u001b[0;1;30mnote: \u001b[0mexpanded from macro 'KHASH_INIT'\u001b[0m\r\n",
        "        KHASH_INIT2(name, static kh_inline, khkey_t, khval_t, kh_is_map, __hash_func, __hash_equal)\r\n",
        "\u001b[0;1;32m        ^\r\n",
        "\u001b[0m\u001b[1mhtslib-1.2.1/htslib/khash.h:355:2: \u001b[0m\u001b[0;1;30mnote: \u001b[0mexpanded from macro 'KHASH_INIT2'\u001b[0m\r\n",
        "        __KHASH_IMPL(name, SCOPE, khkey_t, khval_t, kh_is_map, __hash_func, __hash_equal)\r\n",
        "\u001b[0;1;32m        ^\r\n",
        "\u001b[0m\u001b[1mhtslib-1.2.1/htslib/khash.h:341:13: \u001b[0m\u001b[0;1;30mnote: \u001b[0mexpanded from macro '__KHASH_IMPL'\u001b[0m\r\n",
        "        SCOPE void kh_del_##name(kh_##name##_t *h, khint_t x)                           \\\r\n",
        "\u001b[0;1;32m                   ^\r\n",
        "\u001b[0m\u001b[1m<scratch space>:175:1: \u001b[0m\u001b[0;1;30mnote: \u001b[0mexpanded from here\u001b[0m\r\n",
        "kh_del_rg\r\n",
        "\u001b[0;1;32m^\r\n",
        "\u001b[0m"
       ]
      },
      {
       "output_type": "stream",
       "stream": "stdout",
       "text": [
        "2 warnings generated.\r\n"
       ]
      },
      {
       "output_type": "stream",
       "stream": "stdout",
       "text": [
        "gcc -g -Wall -O2 -D_FILE_OFFSET_BITS=64 -D_LARGEFILE64_SOURCE -D_CURSES_LIB=1 -I. -Ihtslib-1.2.1 -c -o errmod.o errmod.c\r\n"
       ]
      },
      {
       "output_type": "stream",
       "stream": "stdout",
       "text": [
        "gcc -g -Wall -O2 -D_FILE_OFFSET_BITS=64 -D_LARGEFILE64_SOURCE -D_CURSES_LIB=1 -I. -Ihtslib-1.2.1 -c -o sample.o sample.c\r\n"
       ]
      },
      {
       "output_type": "stream",
       "stream": "stdout",
       "text": [
        "\u001b[1msample.c:30:1: \u001b[0m\u001b[0;1;35mwarning: \u001b[0m\u001b[1munused function 'kh_clear_sm' [-Wunused-function]\u001b[0m\r\n",
        "KHASH_MAP_INIT_STR(sm, int)\r\n",
        "\u001b[0;1;32m^\r\n",
        "\u001b[0m\u001b[1mhtslib-1.2.1/htslib/khash.h:617:2: \u001b[0m\u001b[0;1;30mnote: \u001b[0mexpanded from macro 'KHASH_MAP_INIT_STR'\u001b[0m\r\n",
        "        KHASH_INIT(name, kh_cstr_t, khval_t, 1, kh_str_hash_func, kh_str_hash_equal)\r\n",
        "\u001b[0;1;32m        ^\r\n",
        "\u001b[0m\u001b[1mhtslib-1.2.1/htslib/khash.h:358:2: \u001b[0m\u001b[0;1;30mnote: \u001b[0mexpanded from macro 'KHASH_INIT'\u001b[0m\r\n",
        "        KHASH_INIT2(name, static kh_inline, khkey_t, khval_t, kh_is_map, __hash_func, __hash_equal)\r\n",
        "\u001b[0;1;32m        ^\r\n",
        "\u001b[0m\u001b[1mhtslib-1.2.1/htslib/khash.h:355:2: \u001b[0m\u001b[0;1;30mnote: \u001b[0mexpanded from macro 'KHASH_INIT2'\u001b[0m\r\n",
        "        __KHASH_IMPL(name, SCOPE, khkey_t, khval_t, kh_is_map, __hash_func, __hash_equal)\r\n",
        "\u001b[0;1;32m        ^\r\n",
        "\u001b[0m\u001b[1mhtslib-1.2.1/htslib/khash.h:215:13: \u001b[0m\u001b[0;1;30mnote: \u001b[0mexpanded from macro '__KHASH_IMPL'\u001b[0m\r\n",
        "        SCOPE void kh_clear_##name(kh_##name##_t *h)                                            \\\r\n",
        "\u001b[0;1;32m                   ^\r\n",
        "\u001b[0m\u001b[1m<scratch space>:156:1: \u001b[0m\u001b[0;1;30mnote: \u001b[0mexpanded from here\u001b[0m\r\n",
        "kh_clear_sm\r\n",
        "\u001b[0;1;32m^\r\n",
        "\u001b[0m\u001b[1msample.c:30:1: \u001b[0m\u001b[0;1;35mwarning: \u001b[0m\u001b[1munused function 'kh_del_sm' [-Wunused-function]\u001b[0m\r\n",
        "\u001b[1mhtslib-1.2.1/htslib/khash.h:617:2: \u001b[0m\u001b[0;1;30mnote: \u001b[0mexpanded from macro 'KHASH_MAP_INIT_STR'\u001b[0m\r\n",
        "        KHASH_INIT(name, kh_cstr_t, khval_t, 1, kh_str_hash_func, kh_str_hash_equal)\r\n",
        "\u001b[0;1;32m        ^\r\n",
        "\u001b[0m\u001b[1mhtslib-1.2.1/htslib/khash.h:358:2: \u001b[0m\u001b[0;1;30mnote: \u001b[0mexpanded from macro 'KHASH_INIT'\u001b[0m\r\n",
        "        KHASH_INIT2(name, static kh_inline, khkey_t, khval_t, kh_is_map, __hash_func, __hash_equal)\r\n",
        "\u001b[0;1;32m        ^\r\n",
        "\u001b[0m\u001b[1mhtslib-1.2.1/htslib/khash.h:355:2: \u001b[0m\u001b[0;1;30mnote: \u001b[0mexpanded from macro 'KHASH_INIT2'\u001b[0m\r\n",
        "        __KHASH_IMPL(name, SCOPE, khkey_t, khval_t, kh_is_map, __hash_func, __hash_equal)\r\n",
        "\u001b[0;1;32m        ^\r\n",
        "\u001b[0m\u001b[1mhtslib-1.2.1/htslib/khash.h:341:13: \u001b[0m\u001b[0;1;30mnote: \u001b[0mexpanded from macro '__KHASH_IMPL'\u001b[0m\r\n",
        "        SCOPE void kh_del_##name(kh_##name##_t *h, khint_t x)                           \\\r\n",
        "\u001b[0;1;32m                   ^\r\n",
        "\u001b[0m\u001b[1m<scratch space>:170:1: \u001b[0m\u001b[0;1;30mnote: \u001b[0mexpanded from here\u001b[0m\r\n",
        "kh_del_sm\r\n",
        "\u001b[0;1;32m^\r\n",
        "\u001b[0m"
       ]
      },
      {
       "output_type": "stream",
       "stream": "stdout",
       "text": [
        "2 warnings generated.\r\n",
        "gcc -g -Wall -O2 -D_FILE_OFFSET_BITS=64 -D_LARGEFILE64_SOURCE -D_CURSES_LIB=1 -I. -Ihtslib-1.2.1 -c -o cut_target.o cut_target.c\r\n"
       ]
      },
      {
       "output_type": "stream",
       "stream": "stdout",
       "text": [
        "gcc -g -Wall -O2 -D_FILE_OFFSET_BITS=64 -D_LARGEFILE64_SOURCE -D_CURSES_LIB=1 -I. -Ihtslib-1.2.1 -c -o phase.o phase.c\r\n"
       ]
      },
      {
       "output_type": "stream",
       "stream": "stdout",
       "text": [
        "\u001b[1mphase.c:72:1: \u001b[0m\u001b[0;1;35mwarning: \u001b[0m\u001b[1munused function 'kh_clear_set64' [-Wunused-function]\u001b[0m\r\n",
        "KHASH_SET_INIT_INT64(set64)\r\n",
        "\u001b[0;1;32m^\r\n",
        "\u001b[0m\u001b[1mhtslib-1.2.1/htslib/khash.h:593:2: \u001b[0m\u001b[0;1;30mnote: \u001b[0mexpanded from macro 'KHASH_SET_INIT_INT64'\u001b[0m\r\n",
        "        KHASH_INIT(name, khint64_t, char, 0, kh_int64_hash_func, kh_int64_hash_equal)\r\n",
        "\u001b[0;1;32m        ^\r\n",
        "\u001b[0m\u001b[1mhtslib-1.2.1/htslib/khash.h:358:2: \u001b[0m\u001b[0;1;30mnote: \u001b[0mexpanded from macro 'KHASH_INIT'\u001b[0m\r\n",
        "        KHASH_INIT2(name, static kh_inline, khkey_t, khval_t, kh_is_map, __hash_func, __hash_equal)\r\n",
        "\u001b[0;1;32m        ^\r\n",
        "\u001b[0m\u001b[1mhtslib-1.2.1/htslib/khash.h:355:2: \u001b[0m\u001b[0;1;30mnote: \u001b[0mexpanded from macro 'KHASH_INIT2'\u001b[0m\r\n",
        "        __KHASH_IMPL(name, SCOPE, khkey_t, khval_t, kh_is_map, __hash_func, __hash_equal)\r\n",
        "\u001b[0;1;32m        ^\r\n",
        "\u001b[0m\u001b[1mhtslib-1.2.1/htslib/khash.h:215:13: \u001b[0m\u001b[0;1;30mnote: \u001b[0mexpanded from macro '__KHASH_IMPL'\u001b[0m\r\n",
        "        SCOPE void kh_clear_##name(kh_##name##_t *h)                                            \\\r\n",
        "\u001b[0;1;32m                   ^\r\n",
        "\u001b[0m\u001b[1m<scratch space>:56:1: \u001b[0m\u001b[0;1;30mnote: \u001b[0mexpanded from here\u001b[0m\r\n",
        "kh_clear_set64\r\n",
        "\u001b[0;1;32m^\r\n",
        "\u001b[0m\u001b[1mphase.c:72:1: \u001b[0m\u001b[0;1;35mwarning: \u001b[0m\u001b[1munused function 'kh_del_set64' [-Wunused-function]\u001b[0m\r\n",
        "\u001b[1mhtslib-1.2.1/htslib/khash.h:593:2: \u001b[0m\u001b[0;1;30mnote: \u001b[0mexpanded from macro 'KHASH_SET_INIT_INT64'\u001b[0m\r\n",
        "        KHASH_INIT(name, khint64_t, char, 0, kh_int64_hash_func, kh_int64_hash_equal)\r\n",
        "\u001b[0;1;32m        ^\r\n",
        "\u001b[0m\u001b[1mhtslib-1.2.1/htslib/khash.h:358:2: \u001b[0m\u001b[0;1;30mnote: \u001b[0mexpanded from macro 'KHASH_INIT'\u001b[0m\r\n",
        "        KHASH_INIT2(name, static kh_inline, khkey_t, khval_t, kh_is_map, __hash_func, __hash_equal)\r\n",
        "\u001b[0;1;32m        ^\r\n",
        "\u001b[0m\u001b[1mhtslib-1.2.1/htslib/khash.h:355:2: \u001b[0m\u001b[0;1;30mnote: \u001b[0mexpanded from macro 'KHASH_INIT2'\u001b[0m\r\n",
        "        __KHASH_IMPL(name, SCOPE, khkey_t, khval_t, kh_is_map, __hash_func, __hash_equal)\r\n",
        "\u001b[0;1;32m        ^\r\n",
        "\u001b[0m\u001b[1mhtslib-1.2.1/htslib/khash.h:341:13: \u001b[0m\u001b[0;1;30mnote: \u001b[0mexpanded from macro '__KHASH_IMPL'\u001b[0m\r\n",
        "        SCOPE void kh_del_##name(kh_##name##_t *h, khint_t x)                           \\\r\n",
        "\u001b[0;1;32m                   ^\r\n",
        "\u001b[0m\u001b[1m<scratch space>:70:1: \u001b[0m\u001b[0;1;30mnote: \u001b[0mexpanded from here\u001b[0m\r\n",
        "kh_del_set64\r\n",
        "\u001b[0;1;32m^\r\n",
        "\u001b[0m\u001b[1mphase.c:73:1: \u001b[0m\u001b[0;1;35mwarning: \u001b[0m\u001b[1munused function 'kh_clear_64' [-Wunused-function]\u001b[0m\r\n",
        "KHASH_MAP_INIT_INT64(64, frag_t)\r\n",
        "\u001b[0;1;32m^\r\n",
        "\u001b[0m\u001b[1mhtslib-1.2.1/htslib/khash.h:601:2: \u001b[0m\u001b[0;1;30mnote: \u001b[0mexpanded from macro 'KHASH_MAP_INIT_INT64'\u001b[0m\r\n",
        "        KHASH_INIT(name, khint64_t, khval_t, 1, kh_int64_hash_func, kh_int64_hash_equal)\r\n",
        "\u001b[0;1;32m        ^\r\n",
        "\u001b[0m\u001b[1mhtslib-1.2.1/htslib/khash.h:358:2: \u001b[0m\u001b[0;1;30mnote: \u001b[0mexpanded from macro 'KHASH_INIT'\u001b[0m\r\n",
        "        KHASH_INIT2(name, static kh_inline, khkey_t, khval_t, kh_is_map, __hash_func, __hash_equal)\r\n",
        "\u001b[0;1;32m        ^\r\n",
        "\u001b[0m\u001b[1mhtslib-1.2.1/htslib/khash.h:355:2: \u001b[0m\u001b[0;1;30mnote: \u001b[0mexpanded from macro 'KHASH_INIT2'\u001b[0m\r\n",
        "        __KHASH_IMPL(name, SCOPE, khkey_t, khval_t, kh_is_map, __hash_func, __hash_equal)\r\n",
        "\u001b[0;1;32m        ^\r\n",
        "\u001b[0m\u001b[1mhtslib-1.2.1/htslib/khash.h:215:13: \u001b[0m\u001b[0;1;30mnote: \u001b[0mexpanded from macro '__KHASH_IMPL'\u001b[0m\r\n",
        "        SCOPE void kh_clear_##name(kh_##name##_t *h)                                            \\\r\n",
        "\u001b[0;1;32m                   ^\r\n",
        "\u001b[0m\u001b[1m<scratch space>:87:1: \u001b[0m\u001b[0;1;30mnote: \u001b[0mexpanded from here\u001b[0m\r\n",
        "kh_clear_64\r\n",
        "\u001b[0;1;32m^\r\n",
        "\u001b[0m"
       ]
      },
      {
       "output_type": "stream",
       "stream": "stdout",
       "text": [
        "3 warnings generated.\r\n",
        "gcc -g -Wall -O2 -D_FILE_OFFSET_BITS=64 -D_LARGEFILE64_SOURCE -D_CURSES_LIB=1 -I. -Ihtslib-1.2.1 -c -o bam2depth.o bam2depth.c\r\n"
       ]
      },
      {
       "output_type": "stream",
       "stream": "stdout",
       "text": [
        "gcc -g -Wall -O2 -D_FILE_OFFSET_BITS=64 -D_LARGEFILE64_SOURCE -D_CURSES_LIB=1 -I. -Ihtslib-1.2.1 -c -o padding.o padding.c\r\n"
       ]
      },
      {
       "output_type": "stream",
       "stream": "stdout",
       "text": [
        "gcc -g -Wall -O2 -D_FILE_OFFSET_BITS=64 -D_LARGEFILE64_SOURCE -D_CURSES_LIB=1 -I. -Ihtslib-1.2.1 -c -o bedcov.o bedcov.c\r\n"
       ]
      },
      {
       "output_type": "stream",
       "stream": "stdout",
       "text": [
        "\u001b[1mbedcov.c:36:1: \u001b[0m\u001b[0;1;35mwarning: \u001b[0m\u001b[1munused function 'ks_getc' [-Wunused-function]\u001b[0m\r\n",
        "KSTREAM_INIT(gzFile, gzread, 16384)\r\n",
        "\u001b[0;1;32m^\r\n",
        "\u001b[0m\u001b[1mhtslib-1.2.1/htslib/kseq.h:154:49: \u001b[0m\u001b[0;1;30mnote: \u001b[0mexpanded from macro 'KSTREAM_INIT'\u001b[0m\r\n",
        "#define KSTREAM_INIT(type_t, __read, __bufsize) KSTREAM_INIT2(static, type_t, __read, __bufsize)\r\n",
        "\u001b[0;1;32m                                                ^\r\n",
        "\u001b[0m\u001b[1mhtslib-1.2.1/htslib/kseq.h:152:2: \u001b[0m\u001b[0;1;30mnote: \u001b[0mexpanded from macro 'KSTREAM_INIT2'\u001b[0m\r\n",
        "        __KS_INLINED(__read)\r\n",
        "\u001b[0;1;32m        ^\r\n",
        "\u001b[0m\u001b[1mhtslib-1.2.1/htslib/kseq.h:68:20: \u001b[0m\u001b[0;1;30mnote: \u001b[0mexpanded from macro '__KS_INLINED'\u001b[0m\r\n",
        "        static inline int ks_getc(kstream_t *ks) \\\r\n",
        "\u001b[0;1;32m                          ^\r\n",
        "\u001b[0m"
       ]
      },
      {
       "output_type": "stream",
       "stream": "stdout",
       "text": [
        "1 warning generated.\r\n",
        "gcc -g -Wall -O2 -D_FILE_OFFSET_BITS=64 -D_LARGEFILE64_SOURCE -D_CURSES_LIB=1 -I. -Ihtslib-1.2.1 -c -o bamshuf.o bamshuf.c\r\n"
       ]
      },
      {
       "output_type": "stream",
       "stream": "stdout",
       "text": [
        "gcc -g -Wall -O2 -D_FILE_OFFSET_BITS=64 -D_LARGEFILE64_SOURCE -D_CURSES_LIB=1 -I. -Ihtslib-1.2.1 -c -o faidx.o faidx.c\r\n"
       ]
      },
      {
       "output_type": "stream",
       "stream": "stdout",
       "text": [
        "gcc -g -Wall -O2 -D_FILE_OFFSET_BITS=64 -D_LARGEFILE64_SOURCE -D_CURSES_LIB=1 -I. -Ihtslib-1.2.1 -c -o stats.o stats.c\r\n"
       ]
      },
      {
       "output_type": "stream",
       "stream": "stdout",
       "text": [
        "gcc -g -Wall -O2 -D_FILE_OFFSET_BITS=64 -D_LARGEFILE64_SOURCE -D_CURSES_LIB=1 -I. -Ihtslib-1.2.1 -c -o stats_isize.o stats_isize.c\r\n"
       ]
      },
      {
       "output_type": "stream",
       "stream": "stdout",
       "text": [
        "gcc -g -Wall -O2 -D_FILE_OFFSET_BITS=64 -D_LARGEFILE64_SOURCE -D_CURSES_LIB=1 -I. -Ihtslib-1.2.1 -c -o bam_flags.o bam_flags.c\r\n"
       ]
      },
      {
       "output_type": "stream",
       "stream": "stdout",
       "text": [
        "gcc -g -Wall -O2 -D_FILE_OFFSET_BITS=64 -D_LARGEFILE64_SOURCE -D_CURSES_LIB=1 -I. -Ihtslib-1.2.1 -c -o bam_split.o bam_split.c\r\n"
       ]
      },
      {
       "output_type": "stream",
       "stream": "stdout",
       "text": [
        "\u001b[1mbam_split.c:37:1: \u001b[0m\u001b[0;1;35mwarning: \u001b[0m\u001b[1munused function 'kh_clear_c2i' [-Wunused-function]\u001b[0m\r\n",
        "KHASH_MAP_INIT_STR(c2i, int)\r\n",
        "\u001b[0;1;32m^\r\n",
        "\u001b[0m\u001b[1mhtslib-1.2.1/htslib/khash.h:617:2: \u001b[0m\u001b[0;1;30mnote: \u001b[0mexpanded from macro 'KHASH_MAP_INIT_STR'\u001b[0m\r\n",
        "        KHASH_INIT(name, kh_cstr_t, khval_t, 1, kh_str_hash_func, kh_str_hash_equal)\r\n",
        "\u001b[0;1;32m        ^\r\n",
        "\u001b[0m\u001b[1mhtslib-1.2.1/htslib/khash.h:358:2: \u001b[0m\u001b[0;1;30mnote: \u001b[0mexpanded from macro 'KHASH_INIT'\u001b[0m\r\n",
        "        KHASH_INIT2(name, static kh_inline, khkey_t, khval_t, kh_is_map, __hash_func, __hash_equal)\r\n",
        "\u001b[0;1;32m        ^\r\n",
        "\u001b[0m\u001b[1mhtslib-1.2.1/htslib/khash.h:355:2: \u001b[0m\u001b[0;1;30mnote: \u001b[0mexpanded from macro 'KHASH_INIT2'\u001b[0m\r\n",
        "        __KHASH_IMPL(name, SCOPE, khkey_t, khval_t, kh_is_map, __hash_func, __hash_equal)\r\n",
        "\u001b[0;1;32m        ^\r\n",
        "\u001b[0m\u001b[1mhtslib-1.2.1/htslib/khash.h:215:13: \u001b[0m\u001b[0;1;30mnote: \u001b[0mexpanded from macro '__KHASH_IMPL'\u001b[0m\r\n",
        "        SCOPE void kh_clear_##name(kh_##name##_t *h)                                            \\\r\n",
        "\u001b[0;1;32m                   ^\r\n",
        "\u001b[0m\u001b[1m<scratch space>:210:1: \u001b[0m\u001b[0;1;30mnote: \u001b[0mexpanded from here\u001b[0m\r\n",
        "kh_clear_c2i\r\n",
        "\u001b[0;1;32m^\r\n",
        "\u001b[0m\u001b[1mbam_split.c:37:1: \u001b[0m\u001b[0;1;35mwarning: \u001b[0m\u001b[1munused function 'kh_del_c2i' [-Wunused-function]\u001b[0m\r\n",
        "\u001b[1mhtslib-1.2.1/htslib/khash.h:617:2: \u001b[0m\u001b[0;1;30mnote: \u001b[0mexpanded from macro 'KHASH_MAP_INIT_STR'\u001b[0m\r\n",
        "        KHASH_INIT(name, kh_cstr_t, khval_t, 1, kh_str_hash_func, kh_str_hash_equal)\r\n",
        "\u001b[0;1;32m        ^\r\n",
        "\u001b[0m\u001b[1mhtslib-1.2.1/htslib/khash.h:358:2: \u001b[0m\u001b[0;1;30mnote: \u001b[0mexpanded from macro 'KHASH_INIT'\u001b[0m\r\n",
        "        KHASH_INIT2(name, static kh_inline, khkey_t, khval_t, kh_is_map, __hash_func, __hash_equal)\r\n",
        "\u001b[0;1;32m        ^\r\n",
        "\u001b[0m\u001b[1mhtslib-1.2.1/htslib/khash.h:355:2: \u001b[0m\u001b[0;1;30mnote: \u001b[0mexpanded from macro 'KHASH_INIT2'\u001b[0m\r\n",
        "        __KHASH_IMPL(name, SCOPE, khkey_t, khval_t, kh_is_map, __hash_func, __hash_equal)\r\n",
        "\u001b[0;1;32m        ^\r\n",
        "\u001b[0m\u001b[1mhtslib-1.2.1/htslib/khash.h:341:13: \u001b[0m\u001b[0;1;30mnote: \u001b[0mexpanded from macro '__KHASH_IMPL'\u001b[0m\r\n",
        "        SCOPE void kh_del_##name(kh_##name##_t *h, khint_t x)                           \\\r\n",
        "\u001b[0;1;32m                   ^\r\n",
        "\u001b[0m\u001b[1m<scratch space>:224:1: \u001b[0m\u001b[0;1;30mnote: \u001b[0mexpanded from here\u001b[0m\r\n",
        "kh_del_c2i\r\n",
        "\u001b[0;1;32m^\r\n",
        "\u001b[0m"
       ]
      },
      {
       "output_type": "stream",
       "stream": "stdout",
       "text": [
        "2 warnings generated.\r\n",
        "gcc -g -Wall -O2 -D_FILE_OFFSET_BITS=64 -D_LARGEFILE64_SOURCE -D_CURSES_LIB=1 -I. -Ihtslib-1.2.1 -c -o bam_tview.o bam_tview.c\r\n"
       ]
      },
      {
       "output_type": "stream",
       "stream": "stdout",
       "text": [
        "gcc -g -Wall -O2 -D_FILE_OFFSET_BITS=64 -D_LARGEFILE64_SOURCE -D_CURSES_LIB=1 -I. -Ihtslib-1.2.1 -c -o bam_tview_curses.o bam_tview_curses.c\r\n"
       ]
      },
      {
       "output_type": "stream",
       "stream": "stdout",
       "text": [
        "gcc -g -Wall -O2 -D_FILE_OFFSET_BITS=64 -D_LARGEFILE64_SOURCE -D_CURSES_LIB=1 -I. -Ihtslib-1.2.1 -c -o bam_tview_html.o bam_tview_html.c\r\n"
       ]
      },
      {
       "output_type": "stream",
       "stream": "stdout",
       "text": [
        "gcc -g -Wall -O2 -D_FILE_OFFSET_BITS=64 -D_LARGEFILE64_SOURCE -D_CURSES_LIB=1 -I. -Ihtslib-1.2.1 -c -o bam_lpileup.o bam_lpileup.c\r\n"
       ]
      },
      {
       "output_type": "stream",
       "stream": "stdout",
       "text": [
        "gcc -g -Wall -O2 -D_FILE_OFFSET_BITS=64 -D_LARGEFILE64_SOURCE -D_CURSES_LIB=1 -I. -Ihtslib-1.2.1 -c -o bam_aux.o bam_aux.c\r\n"
       ]
      },
      {
       "output_type": "stream",
       "stream": "stdout",
       "text": [
        "gcc -g -Wall -O2 -D_FILE_OFFSET_BITS=64 -D_LARGEFILE64_SOURCE -D_CURSES_LIB=1 -I. -Ihtslib-1.2.1 -c -o bam.o bam.c\r\n"
       ]
      },
      {
       "output_type": "stream",
       "stream": "stdout",
       "text": [
        "gcc -g -Wall -O2 -D_FILE_OFFSET_BITS=64 -D_LARGEFILE64_SOURCE -D_CURSES_LIB=1 -I. -Ihtslib-1.2.1 -c -o bam_import.o bam_import.c\r\n"
       ]
      },
      {
       "output_type": "stream",
       "stream": "stdout",
       "text": [
        "gcc -g -Wall -O2 -D_FILE_OFFSET_BITS=64 -D_LARGEFILE64_SOURCE -D_CURSES_LIB=1 -I. -Ihtslib-1.2.1 -c -o sam.o sam.c\r\n"
       ]
      },
      {
       "output_type": "stream",
       "stream": "stdout",
       "text": [
        "gcc -g -Wall -O2 -D_FILE_OFFSET_BITS=64 -D_LARGEFILE64_SOURCE -D_CURSES_LIB=1 -I. -Ihtslib-1.2.1 -c -o sam_header.o sam_header.c\r\n"
       ]
      },
      {
       "output_type": "stream",
       "stream": "stdout",
       "text": [
        "\u001b[1msam_header.c:33:1: \u001b[0m\u001b[0;1;35mwarning: \u001b[0m\u001b[1munused function 'kh_clear_str' [-Wunused-function]\u001b[0m\r\n",
        "KHASH_MAP_INIT_STR(str, const char *)\r\n",
        "\u001b[0;1;32m^\r\n",
        "\u001b[0m\u001b[1mhtslib-1.2.1/htslib/khash.h:617:2: \u001b[0m\u001b[0;1;30mnote: \u001b[0mexpanded from macro 'KHASH_MAP_INIT_STR'\u001b[0m\r\n",
        "        KHASH_INIT(name, kh_cstr_t, khval_t, 1, kh_str_hash_func, kh_str_hash_equal)\r\n",
        "\u001b[0;1;32m        ^\r\n",
        "\u001b[0m\u001b[1mhtslib-1.2.1/htslib/khash.h:358:2: \u001b[0m\u001b[0;1;30mnote: \u001b[0mexpanded from macro 'KHASH_INIT'\u001b[0m\r\n",
        "        KHASH_INIT2(name, static kh_inline, khkey_t, khval_t, kh_is_map, __hash_func, __hash_equal)\r\n",
        "\u001b[0;1;32m        ^\r\n",
        "\u001b[0m\u001b[1mhtslib-1.2.1/htslib/khash.h:355:2: \u001b[0m\u001b[0;1;30mnote: \u001b[0mexpanded from macro 'KHASH_INIT2'\u001b[0m\r\n",
        "        __KHASH_IMPL(name, SCOPE, khkey_t, khval_t, kh_is_map, __hash_func, __hash_equal)\r\n",
        "\u001b[0;1;32m        ^\r\n",
        "\u001b[0m\u001b[1mhtslib-1.2.1/htslib/khash.h:215:13: \u001b[0m\u001b[0;1;30mnote: \u001b[0mexpanded from macro '__KHASH_IMPL'\u001b[0m\r\n",
        "        SCOPE void kh_clear_##name(kh_##name##_t *h)                                            \\\r\n",
        "\u001b[0;1;32m                   ^\r\n",
        "\u001b[0m\u001b[1m<scratch space>:156:1: \u001b[0m\u001b[0;1;30mnote: \u001b[0mexpanded from here\u001b[0m\r",
        "\r\n",
        "kh_clear_str\r\n",
        "\u001b[0;1;32m^\r\n",
        "\u001b[0m\u001b[1msam_header.c:33:1: \u001b[0m\u001b[0;1;35mwarning: \u001b[0m\u001b[1munused function 'kh_del_str' [-Wunused-function]\u001b[0m\r\n",
        "\u001b[1mhtslib-1.2.1/htslib/khash.h:617:2: \u001b[0m\u001b[0;1;30mnote: \u001b[0mexpanded from macro 'KHASH_MAP_INIT_STR'\u001b[0m\r\n",
        "        KHASH_INIT(name, kh_cstr_t, khval_t, 1, kh_str_hash_func, kh_str_hash_equal)\r\n",
        "\u001b[0;1;32m        ^\r\n",
        "\u001b[0m\u001b[1mhtslib-1.2.1/htslib/khash.h:358:2: \u001b[0m\u001b[0;1;30mnote: \u001b[0mexpanded from macro 'KHASH_INIT'\u001b[0m\r\n",
        "        KHASH_INIT2(name, static kh_inline, khkey_t, khval_t, kh_is_map, __hash_func, __hash_equal)\r\n",
        "\u001b[0;1;32m        ^\r\n",
        "\u001b[0m\u001b[1mhtslib-1.2.1/htslib/khash.h:355:2: \u001b[0m\u001b[0;1;30mnote: \u001b[0mexpanded from macro 'KHASH_INIT2'\u001b[0m\r\n",
        "        __KHASH_IMPL(name, SCOPE, khkey_t, khval_t, kh_is_map, __hash_func, __hash_equal)\r\n",
        "\u001b[0;1;32m        ^\r\n",
        "\u001b[0m\u001b[1mhtslib-1.2.1/htslib/khash.h:341:13: \u001b[0m\u001b[0;1;30mnote: \u001b[0mexpanded from macro '__KHASH_IMPL'\u001b[0m\r\n",
        "        SCOPE void kh_del_##name(kh_##name##_t *h, khint_t x)                           \\\r\n",
        "\u001b[0;1;32m                   ^\r\n",
        "\u001b[0m\u001b[1m<scratch space>:170:1: \u001b[0m\u001b[0;1;30mnote: \u001b[0mexpanded from here\u001b[0m\r\n",
        "kh_del_str\r\n",
        "\u001b[0;1;32m^\r\n",
        "\u001b[0m"
       ]
      },
      {
       "output_type": "stream",
       "stream": "stdout",
       "text": [
        "2 warnings generated.\r\n",
        "gcc -g -Wall -O2 -D_FILE_OFFSET_BITS=64 -D_LARGEFILE64_SOURCE -D_CURSES_LIB=1 -I. -Ihtslib-1.2.1 -c -o bam_plbuf.o bam_plbuf.c\r\n"
       ]
      },
      {
       "output_type": "stream",
       "stream": "stdout",
       "text": [
        "ar -csru libbam.a bam_aux.o bam.o bam_import.o sam.o sam_header.o bam_plbuf.o\r\n",
        "cd htslib-1.2.1 && /Library/Developer/CommandLineTools/usr/bin/make lib-static\r\n"
       ]
      },
      {
       "output_type": "stream",
       "stream": "stdout",
       "text": [
        "gcc -g -Wall -O2 -I. -c -o kfunc.o kfunc.c\r\n"
       ]
      },
      {
       "output_type": "stream",
       "stream": "stdout",
       "text": [
        "gcc -g -Wall -O2 -I. -c -o knetfile.o knetfile.c\r\n"
       ]
      },
      {
       "output_type": "stream",
       "stream": "stdout",
       "text": [
        "gcc -g -Wall -O2 -I. -c -o kstring.o kstring.c\r\n"
       ]
      },
      {
       "output_type": "stream",
       "stream": "stdout",
       "text": [
        "gcc -g -Wall -O2 -I. -c -o bgzf.o bgzf.c\r\n"
       ]
      },
      {
       "output_type": "stream",
       "stream": "stdout",
       "text": [
        "\u001b[1mbgzf.c:70:1: \u001b[0m\u001b[0;1;35mwarning: \u001b[0m\u001b[1munused function 'kh_clear_cache' [-Wunused-function]\u001b[0m\r\n",
        "KHASH_MAP_INIT_INT64(cache, cache_t)\r\n",
        "\u001b[0;1;32m^\r\n",
        "\u001b[0m\u001b[1m./htslib/khash.h:601:2: \u001b[0m\u001b[0;1;30mnote: \u001b[0mexpanded from macro 'KHASH_MAP_INIT_INT64'\u001b[0m\r\n",
        "        KHASH_INIT(name, khint64_t, khval_t, 1, kh_int64_hash_func, kh_int64_hash_equal)\r\n",
        "\u001b[0;1;32m        ^\r\n",
        "\u001b[0m\u001b[1m./htslib/khash.h:358:2: \u001b[0m\u001b[0;1;30mnote: \u001b[0mexpanded from macro 'KHASH_INIT'\u001b[0m\r\n",
        "        KHASH_INIT2(name, static kh_inline, khkey_t, khval_t, kh_is_map, __hash_func, __hash_equal)\r\n",
        "\u001b[0;1;32m        ^\r\n",
        "\u001b[0m\u001b[1m./htslib/khash.h:355:2: \u001b[0m\u001b[0;1;30mnote: \u001b[0mexpanded from macro 'KHASH_INIT2'\u001b[0m\r\n",
        "        __KHASH_IMPL(name, SCOPE, khkey_t, khval_t, kh_is_map, __hash_func, __hash_equal)\r\n",
        "\u001b[0;1;32m        ^\r\n",
        "\u001b[0m\u001b[1m./htslib/khash.h:215:13: \u001b[0m\u001b[0;1;30mnote: \u001b[0mexpanded from macro '__KHASH_IMPL'\u001b[0m\r\n",
        "        SCOPE void kh_clear_##name(kh_##name##_t *h)                                            \\\r\n",
        "\u001b[0;1;32m                   ^\r\n",
        "\u001b[0m\u001b[1m<scratch space>:107:1: \u001b[0m\u001b[0;1;30mnote: \u001b[0mexpanded from here\u001b[0m\r\n",
        "kh_clear_cache\r\n",
        "\u001b[0;1;32m^\r\n",
        "\u001b[0m"
       ]
      },
      {
       "output_type": "stream",
       "stream": "stdout",
       "text": [
        "1 warning generated.\r\n",
        "gcc -g -Wall -O2 -I. -c -o faidx.o faidx.c\r\n"
       ]
      },
      {
       "output_type": "stream",
       "stream": "stdout",
       "text": [
        "\u001b[1mfaidx.c:42:1: \u001b[0m\u001b[0;1;35mwarning: \u001b[0m\u001b[1munused function 'kh_clear_s' [-Wunused-function]\u001b[0m\r\n",
        "KHASH_MAP_INIT_STR(s, faidx1_t)\r\n",
        "\u001b[0;1;32m^\r\n",
        "\u001b[0m\u001b[1m./htslib/khash.h:617:2: \u001b[0m\u001b[0;1;30mnote: \u001b[0mexpanded from macro 'KHASH_MAP_INIT_STR'\u001b[0m\r\n",
        "        KHASH_INIT(name, kh_cstr_t, khval_t, 1, kh_str_hash_func, kh_str_hash_equal)\r\n",
        "\u001b[0;1;32m        ^\r\n",
        "\u001b[0m\u001b[1m./htslib/khash.h:358:2: \u001b[0m\u001b[0;1;30mnote: \u001b[0mexpanded from macro 'KHASH_INIT'\u001b[0m\r\n",
        "        KHASH_INIT2(name, static kh_inline, khkey_t, khval_t, kh_is_map, __hash_func, __hash_equal)\r\n",
        "\u001b[0;1;32m        ^\r\n",
        "\u001b[0m\u001b[1m./htslib/khash.h:355:2: \u001b[0m\u001b[0;1;30mnote: \u001b[0mexpanded from macro 'KHASH_INIT2'\u001b[0m\r\n",
        "        __KHASH_IMPL(name, SCOPE, khkey_t, khval_t, kh_is_map, __hash_func, __hash_equal)\r\n",
        "\u001b[0;1;32m        ^\r\n",
        "\u001b[0m\u001b[1m./htslib/khash.h:215:13: \u001b[0m\u001b[0;1;30mnote: \u001b[0mexpanded from macro '__KHASH_IMPL'\u001b[0m\r\n",
        "        SCOPE void kh_clear_##name(kh_##name##_t *h)                                            \\\r\n",
        "\u001b[0;1;32m                   ^\r\n",
        "\u001b[0m\u001b[1m<scratch space>:202:1: \u001b[0m\u001b[0;1;30mnote: \u001b[0mexpanded from here\u001b[0m\r\n",
        "kh_clear_s\r\n",
        "\u001b[0;1;32m^\r\n",
        "\u001b[0m\u001b[1mfaidx.c:42:1: \u001b[0m\u001b[0;1;35mwarning: \u001b[0m\u001b[1munused function 'kh_del_s' [-Wunused-function]\u001b[0m\r\n",
        "\u001b[1m./htslib/khash.h:617:2: \u001b[0m\u001b[0;1;30mnote: \u001b[0mexpanded from macro 'KHASH_MAP_INIT_STR'\u001b[0m\r\n",
        "        KHASH_INIT(name, kh_cstr_t, khval_t, 1, kh_str_hash_func, kh_str_hash_equal)\r\n",
        "\u001b[0;1;32m        ^\r\n",
        "\u001b[0m\u001b[1m./htslib/khash.h:358:2: \u001b[0m\u001b[0;1;30mnote: \u001b[0mexpanded from macro 'KHASH_INIT'\u001b[0m\r\n",
        "        KHASH_INIT2(name, static kh_inline, khkey_t, khval_t, kh_is_map, __hash_func, __hash_equal)\r\n",
        "\u001b[0;1;32m        ^\r\n",
        "\u001b[0m\u001b[1m./htslib/khash.h:355:2: \u001b[0m\u001b[0;1;30mnote: \u001b[0mexpanded from macro 'KHASH_INIT2'\u001b[0m\r\n",
        "        __KHASH_IMPL(name, SCOPE, khkey_t, khval_t, kh_is_map, __hash_func, __hash_equal)\r\n",
        "\u001b[0;1;32m        ^\r\n",
        "\u001b[0m\u001b[1m./htslib/khash.h:341:13: \u001b[0m\u001b[0;1;30mnote: \u001b[0mexpanded from macro '__KHASH_IMPL'\u001b[0m\r\n",
        "        SCOPE void kh_del_##name(kh_##name##_t *h, khint_t x)                           \\\r\n",
        "\u001b[0;1;32m                   ^\r\n",
        "\u001b[0m\u001b[1m<scratch space>:216:1: \u001b[0m\u001b[0;1;30mnote: \u001b[0mexpanded from here\u001b[0m\r\n",
        "kh_del_s\r\n",
        "\u001b[0;1;32m^\r\n",
        "\u001b[0m"
       ]
      },
      {
       "output_type": "stream",
       "stream": "stdout",
       "text": [
        "2 warnings generated.\r\n"
       ]
      },
      {
       "output_type": "stream",
       "stream": "stdout",
       "text": [
        "gcc -g -Wall -O2 -I. -c -o hfile.o hfile.c\r\n"
       ]
      },
      {
       "output_type": "stream",
       "stream": "stdout",
       "text": [
        "gcc -g -Wall -O2 -I. -c -o hfile_net.o hfile_net.c\r\n"
       ]
      },
      {
       "output_type": "stream",
       "stream": "stdout",
       "text": [
        "echo '#define HTS_VERSION \"1.2.1\"' > version.h\r\n",
        "gcc -g -Wall -O2 -I. -c -o hts.o hts.c\r\n"
       ]
      },
      {
       "output_type": "stream",
       "stream": "stdout",
       "text": [
        "\u001b[1mhts.c:45:5: \u001b[0m\u001b[0;1;35mwarning: \u001b[0m\u001b[1munused function 'ks_getc' [-Wunused-function]\u001b[0m\r\n",
        "    KSTREAM_INIT2(, BGZF*, bgzf_read, 65536)\r\n",
        "\u001b[0;1;32m    ^\r\n",
        "\u001b[0m\u001b[1m./htslib/kseq.h:152:2: \u001b[0m\u001b[0;1;30mnote: \u001b[0mexpanded from macro 'KSTREAM_INIT2'\u001b[0m\r\n",
        "        __KS_INLINED(__read)\r\n",
        "\u001b[0;1;32m        ^\r\n",
        "\u001b[0m\u001b[1m./htslib/kseq.h:68:20: \u001b[0m\u001b[0;1;30mnote: \u001b[0mexpanded from macro '__KS_INLINED'\u001b[0m\r\n",
        "        static inline int ks_getc(kstream_t *ks) \\\r\n",
        "\u001b[0;1;32m                          ^\r\n",
        "\u001b[0m\u001b[1mhts.c:770:1: \u001b[0m\u001b[0;1;35mwarning: \u001b[0m\u001b[1munused function 'kh_clear_bin' [-Wunused-function]\u001b[0m\r\n",
        "KHASH_MAP_INIT_INT(bin, bins_t)\r\n",
        "\u001b[0;1;32m^\r\n",
        "\u001b[0m\u001b[1m./htslib/khash.h:586:2: \u001b[0m\u001b[0;1;30mnote: \u001b[0mexpanded from macro 'KHASH_MAP_INIT_INT'\u001b[0m\r\n",
        "        KHASH_INIT(name, khint32_t, khval_t, 1, kh_int_hash_func, kh_int_hash_equal)\r\n",
        "\u001b[0;1;32m        ^\r\n",
        "\u001b[0m\u001b[1m./htslib/khash.h:358:2: \u001b[0m\u001b[0;1;30mnote: \u001b[0mexpanded from macro 'KHASH_INIT'\u001b[0m\r\n",
        "        KHASH_INIT2(name, static kh_inline, khkey_t, khval_t, kh_is_map, __hash_func, __hash_equal)\r\n",
        "\u001b[0;1;32m        ^\r\n",
        "\u001b[0m\u001b[1m./htslib/khash.h:355:2: \u001b[0m\u001b[0;1;30mnote: \u001b[0mexpanded from macro 'KHASH_INIT2'\u001b[0m\r\n",
        "        __KHASH_IMPL(name, SCOPE, khkey_t, khval_t, kh_is_map, __hash_func, __hash_equal)\r\n",
        "\u001b[0;1;32m        ^\r\n",
        "\u001b[0m\u001b[1m./htslib/khash.h:215:13: \u001b[0m\u001b[0;1;30mnote: \u001b[0mexpanded from macro '__KHASH_IMPL'\u001b[0m\r\n",
        "        SCOPE void kh_clear_##name(kh_##name##_t *h)                                            \\\r\n",
        "\u001b[0;1;32m                   ^\r\n",
        "\u001b[0m\u001b[1m<scratch space>:221:1: \u001b[0m\u001b[0;1;30mnote: \u001b[0mexpanded from here\u001b[0m\r\n",
        "kh_clear_bin\r\n",
        "\u001b[0;1;32m^\r\n",
        "\u001b[0m"
       ]
      },
      {
       "output_type": "stream",
       "stream": "stdout",
       "text": [
        "2 warnings generated.\r\n",
        "gcc -g -Wall -O2 -I. -c -o regidx.o regidx.c\r\n"
       ]
      },
      {
       "output_type": "stream",
       "stream": "stdout",
       "text": [
        "gcc -g -Wall -O2 -I. -c -o sam.o sam.c\r\n"
       ]
      },
      {
       "output_type": "stream",
       "stream": "stdout",
       "text": [
        "\u001b[1msam.c:1420:1: \u001b[0m\u001b[0;1;35mwarning: \u001b[0m\u001b[1munused function 'kh_clear_olap_hash' [-Wunused-function]\u001b[0m\r\n",
        "KHASH_MAP_INIT_STR(olap_hash, lbnode_t *)\r\n",
        "\u001b[0;1;32m^\r\n",
        "\u001b[0m\u001b[1m./htslib/khash.h:617:2: \u001b[0m\u001b[0;1;30mnote: \u001b[0mexpanded from macro 'KHASH_MAP_INIT_STR'\u001b[0m\r\n",
        "        KHASH_INIT(name, kh_cstr_t, khval_t, 1, kh_str_hash_func, kh_str_hash_equal)\r\n",
        "\u001b[0;1;32m        ^\r\n",
        "\u001b[0m\u001b[1m./htslib/khash.h:358:2: \u001b[0m\u001b[0;1;30mnote: \u001b[0mexpanded from macro 'KHASH_INIT'\u001b[0m\r\n",
        "        KHASH_INIT2(name, static kh_inline, khkey_t, khval_t, kh_is_map, __hash_func, __hash_equal)\r\n",
        "\u001b[0;1;32m        ^\r\n",
        "\u001b[0m\u001b[1m./htslib/khash.h:355:2: \u001b[0m\u001b[0;1;30mnote: \u001b[0mexpanded from macro 'KHASH_INIT2'\u001b[0m\r\n",
        "        __KHASH_IMPL(name, SCOPE, khkey_t, khval_t, kh_is_map, __hash_func, __hash_equal)\r\n",
        "\u001b[0;1;32m        ^\r\n",
        "\u001b[0m\u001b[1m./htslib/khash.h:215:13: \u001b[0m\u001b[0;1;30mnote: \u001b[0mexpanded from macro '__KHASH_IMPL'\u001b[0m\r\n",
        "        SCOPE void kh_clear_##name(kh_##name##_t *h)                                            \\\r\n",
        "\u001b[0;1;32m                   ^\r\n",
        "\u001b[0m\u001b[1m<scratch space>:161:1: \u001b[0m\u001b[0;1;30mnote: \u001b[0mexpanded from here\u001b[0m\r\n",
        "kh_clear_olap_hash\r\n",
        "\u001b[0;1;32m^\r\n",
        "\u001b[0m"
       ]
      },
      {
       "output_type": "stream",
       "stream": "stdout",
       "text": [
        "1 warning generated.\r\n",
        "gcc -g -Wall -O2 -I. -c -o synced_bcf_reader.o synced_bcf_reader.c\r\n"
       ]
      },
      {
       "output_type": "stream",
       "stream": "stdout",
       "text": [
        "gcc -g -Wall -O2 -I. -c -o vcf_sweep.o vcf_sweep.c\r\n"
       ]
      },
      {
       "output_type": "stream",
       "stream": "stdout",
       "text": [
        "gcc -g -Wall -O2 -I. -c -o tbx.o tbx.c\r\n"
       ]
      },
      {
       "output_type": "stream",
       "stream": "stdout",
       "text": [
        "gcc -g -Wall -O2 -I. -c -o vcf.o vcf.c\r\n"
       ]
      },
      {
       "output_type": "stream",
       "stream": "stdout",
       "text": [
        "\u001b[1mvcf.c:42:1: \u001b[0m\u001b[0;1;35mwarning: \u001b[0m\u001b[1munused function 'kh_clear_vdict' [-Wunused-function]\u001b[0m\r\n",
        "KHASH_MAP_INIT_STR(vdict, bcf_idinfo_t)\r\n",
        "\u001b[0;1;32m^\r\n",
        "\u001b[0m\u001b[1m./htslib/khash.h:617:2: \u001b[0m\u001b[0;1;30mnote: \u001b[0mexpanded from macro 'KHASH_MAP_INIT_STR'\u001b[0m\r\n",
        "        KHASH_INIT(name, kh_cstr_t, khval_t, 1, kh_str_hash_func, kh_str_hash_equal)\r\n",
        "\u001b[0;1;32m        ^\r\n",
        "\u001b[0m\u001b[1m./htslib/khash.h:358:2: \u001b[0m\u001b[0;1;30mnote: \u001b[0mexpanded from macro 'KHASH_INIT'\u001b[0m\r\n",
        "        KHASH_INIT2(name, static kh_inline, khkey_t, khval_t, kh_is_map, __hash_func, __hash_equal)\r\n",
        "\u001b[0;1;32m        ^\r\n",
        "\u001b[0m\u001b[1m./htslib/khash.h:355:2: \u001b[0m\u001b[0;1;30mnote: \u001b[0mexpanded from macro 'KHASH_INIT2'\u001b[0m\r\n",
        "        __KHASH_IMPL(name, SCOPE, khkey_t, khval_t, kh_is_map, __hash_func, __hash_equal)\r\n",
        "\u001b[0;1;32m        ^\r\n",
        "\u001b[0m\u001b[1m./htslib/khash.h:215:13: \u001b[0m\u001b[0;1;30mnote: \u001b[0mexpanded from macro '__KHASH_IMPL'\u001b[0m\r\n",
        "        SCOPE void kh_clear_##name(kh_##name##_t *h)                                            \\\r\n",
        "\u001b[0;1;32m                   ^\r\n",
        "\u001b[0m\u001b[1m<scratch space>:2:1: \u001b[0m\u001b[0;1;30mnote: \u001b[0mexpanded from here\u001b[0m\r\n",
        "kh_clear_vdict\r\n",
        "\u001b[0;1;32m^\r\n",
        "\u001b[0m\u001b[1mvcf.c:42:1: \u001b[0m\u001b[0;1;35mwarning: \u001b[0m\u001b[1munused function 'kh_del_vdict' [-Wunused-function]\u001b[0m\r\n",
        "\u001b[1m./htslib/khash.h:617:2: \u001b[0m\u001b[0;1;30mnote: \u001b[0mexpanded from macro 'KHASH_MAP_INIT_STR'\u001b[0m\r\n",
        "        KHASH_INIT(name, kh_cstr_t, khval_t, 1, kh_str_hash_func, kh_str_hash_equal)\r\n",
        "\u001b[0;1;32m        ^\r\n",
        "\u001b[0m\u001b[1m./htslib/khash.h:358:2: \u001b[0m\u001b[0;1;30mnote: \u001b[0mexpanded from macro 'KHASH_INIT'\u001b[0m\r\n",
        "        KHASH_INIT2(name, static kh_inline, khkey_t, khval_t, kh_is_map, __hash_func, __hash_equal)\r\n",
        "\u001b[0;1;32m        ^\r\n",
        "\u001b[0m\u001b[1m./htslib/khash.h:355:2: \u001b[0m\u001b[0;1;30mnote: \u001b[0mexpanded from macro 'KHASH_INIT2'\u001b[0m\r\n",
        "        __KHASH_IMPL(name, SCOPE, khkey_t, khval_t, kh_is_map, __hash_func, __hash_equal)\r\n",
        "\u001b[0;1;32m        ^\r\n",
        "\u001b[0m\u001b[1m./htslib/khash.h:341:13: \u001b[0m\u001b[0;1;30mnote: \u001b[0mexpanded from macro '__KHASH_IMPL'\u001b[0m\r\n",
        "        SCOPE void kh_del_##name(kh_##name##_t *h, khint_t x)                           \\\r\n",
        "\u001b[0;1;32m                   ^\r\n",
        "\u001b[0m\u001b[1m<scratch space>:16:1: \u001b[0m\u001b[0;1;30mnote: \u001b[0mexpanded from here\u001b[0m\r\n",
        "kh_del_vdict\r\n",
        "\u001b[0;1;32m^\r\n",
        "\u001b[0m"
       ]
      },
      {
       "output_type": "stream",
       "stream": "stdout",
       "text": [
        "2 warnings generated.\r\n",
        "gcc -g -Wall -O2 -I. -c -o vcfutils.o vcfutils.c\r\n"
       ]
      },
      {
       "output_type": "stream",
       "stream": "stdout",
       "text": [
        "gcc -g -Wall -O2 -I. -c -o cram/cram_codecs.o cram/cram_codecs.c\r\n"
       ]
      },
      {
       "output_type": "stream",
       "stream": "stdout",
       "text": [
        "gcc -g -Wall -O2 -I. -c -o cram/cram_decode.o cram/cram_decode.c\r\n"
       ]
      },
      {
       "output_type": "stream",
       "stream": "stdout",
       "text": [
        "gcc -g -Wall -O2 -I. -c -o cram/cram_encode.o cram/cram_encode.c\r\n"
       ]
      },
      {
       "output_type": "stream",
       "stream": "stdout",
       "text": [
        "gcc -g -Wall -O2 -I. -c -o cram/cram_index.o cram/cram_index.c\r\n"
       ]
      },
      {
       "output_type": "stream",
       "stream": "stdout",
       "text": [
        "gcc -g -Wall -O2 -I. -c -o cram/cram_io.o cram/cram_io.c\r\n"
       ]
      },
      {
       "output_type": "stream",
       "stream": "stdout",
       "text": [
        "gcc -g -Wall -O2 -I. -c -o cram/cram_samtools.o cram/cram_samtools.c\r\n"
       ]
      },
      {
       "output_type": "stream",
       "stream": "stdout",
       "text": [
        "gcc -g -Wall -O2 -I. -c -o cram/cram_stats.o cram/cram_stats.c\r\n"
       ]
      },
      {
       "output_type": "stream",
       "stream": "stdout",
       "text": [
        "gcc -g -Wall -O2 -I. -c -o cram/files.o cram/files.c\r\n"
       ]
      },
      {
       "output_type": "stream",
       "stream": "stdout",
       "text": [
        "gcc -g -Wall -O2 -I. -c -o cram/mFILE.o cram/mFILE.c\r\n"
       ]
      },
      {
       "output_type": "stream",
       "stream": "stdout",
       "text": [
        "gcc -g -Wall -O2 -I. -c -o cram/md5.o cram/md5.c\r\n"
       ]
      },
      {
       "output_type": "stream",
       "stream": "stdout",
       "text": [
        "gcc -g -Wall -O2 -I. -c -o cram/open_trace_file.o cram/open_trace_file.c\r\n"
       ]
      },
      {
       "output_type": "stream",
       "stream": "stdout",
       "text": [
        "gcc -g -Wall -O2 -I. -c -o cram/pooled_alloc.o cram/pooled_alloc.c\r\n"
       ]
      },
      {
       "output_type": "stream",
       "stream": "stdout",
       "text": [
        "gcc -g -Wall -O2 -I. -c -o cram/rANS_static.o cram/rANS_static.c\r\n"
       ]
      },
      {
       "output_type": "stream",
       "stream": "stdout",
       "text": [
        "gcc -g -Wall -O2 -I. -c -o cram/sam_header.o cram/sam_header.c\r\n"
       ]
      },
      {
       "output_type": "stream",
       "stream": "stdout",
       "text": [
        "gcc -g -Wall -O2 -I. -c -o cram/string_alloc.o cram/string_alloc.c\r\n"
       ]
      },
      {
       "output_type": "stream",
       "stream": "stdout",
       "text": [
        "gcc -g -Wall -O2 -I. -c -o cram/thread_pool.o cram/thread_pool.c\r\n"
       ]
      },
      {
       "output_type": "stream",
       "stream": "stdout",
       "text": [
        "gcc -g -Wall -O2 -I. -c -o cram/vlen.o cram/vlen.c\r\n"
       ]
      },
      {
       "output_type": "stream",
       "stream": "stdout",
       "text": [
        "gcc -g -Wall -O2 -I. -c -o cram/zfio.o cram/zfio.c\r\n"
       ]
      },
      {
       "output_type": "stream",
       "stream": "stdout",
       "text": [
        "ar -rc libhts.a kfunc.o knetfile.o kstring.o bgzf.o faidx.o hfile.o hfile_net.o hts.o regidx.o sam.o synced_bcf_reader.o vcf_sweep.o tbx.o vcf.o vcfutils.o cram/cram_codecs.o cram/cram_decode.o cram/cram_encode.o cram/cram_index.o cram/cram_io.o cram/cram_samtools.o cram/cram_stats.o cram/files.o cram/mFILE.o cram/md5.o cram/open_trace_file.o cram/pooled_alloc.o cram/rANS_static.o cram/sam_header.o cram/string_alloc.o cram/thread_pool.o cram/vlen.o cram/zfio.o\r\n"
       ]
      },
      {
       "output_type": "stream",
       "stream": "stdout",
       "text": [
        "ranlib libhts.a\r\n"
       ]
      },
      {
       "output_type": "stream",
       "stream": "stdout",
       "text": [
        "gcc -pthread  -o samtools bam_index.o bam_plcmd.o sam_view.o bam_cat.o bam_md.o bam_reheader.o bam_sort.o bedidx.o kprobaln.o bam_rmdup.o bam_rmdupse.o bam_mate.o bam_stat.o bam_color.o bamtk.o bam2bcf.o bam2bcf_indel.o errmod.o sample.o cut_target.o phase.o bam2depth.o padding.o bedcov.o bamshuf.o faidx.o stats.o stats_isize.o bam_flags.o bam_split.o bam_tview.o bam_tview_curses.o bam_tview_html.o bam_lpileup.o libbam.a htslib-1.2.1/libhts.a  -lcurses  -lm -lz\r\n"
       ]
      },
      {
       "output_type": "stream",
       "stream": "stdout",
       "text": [
        "clang: warning: argument unused during compilation: '-pthread'\r\n"
       ]
      },
      {
       "output_type": "stream",
       "stream": "stdout",
       "text": [
        "gcc -g -Wall -O2 -D_FILE_OFFSET_BITS=64 -D_LARGEFILE64_SOURCE -D_CURSES_LIB=1 -I. -Ihtslib-1.2.1 -c -o misc/ace2sam.o misc/ace2sam.c\r\n"
       ]
      },
      {
       "output_type": "stream",
       "stream": "stdout",
       "text": [
        "\u001b[1mmisc/ace2sam.c:33:1: \u001b[0m\u001b[0;1;35mwarning: \u001b[0m\u001b[1munused function 'ks_getc' [-Wunused-function]\u001b[0m\r\n",
        "KSTREAM_INIT(gzFile, gzread, 16384)\r\n",
        "\u001b[0;1;32m^\r\n",
        "\u001b[0m\u001b[1mhtslib-1.2.1/htslib/kseq.h:154:49: \u001b[0m\u001b[0;1;30mnote: \u001b[0mexpanded from macro 'KSTREAM_INIT'\u001b[0m\r\n",
        "#define KSTREAM_INIT(type_t, __read, __bufsize) KSTREAM_INIT2(static, type_t, __read, __bufsize)\r\n",
        "\u001b[0;1;32m                                                ^\r\n",
        "\u001b[0m\u001b[1mhtslib-1.2.1/htslib/kseq.h:152:2: \u001b[0m\u001b[0;1;30mnote: \u001b[0mexpanded from macro 'KSTREAM_INIT2'\u001b[0m\r\n",
        "        __KS_INLINED(__read)\r\n",
        "\u001b[0;1;32m        ^\r\n",
        "\u001b[0m\u001b[1mhtslib-1.2.1/htslib/kseq.h:68:20: \u001b[0m\u001b[0;1;30mnote: \u001b[0mexpanded from macro '__KS_INLINED'\u001b[0m\r\n",
        "        static inline int ks_getc(kstream_t *ks) \\\r\n",
        "\u001b[0;1;32m                          ^\r\n",
        "\u001b[0m"
       ]
      },
      {
       "output_type": "stream",
       "stream": "stdout",
       "text": [
        "1 warning generated.\r\n",
        "gcc  -o misc/ace2sam misc/ace2sam.o  -lz\r\n"
       ]
      },
      {
       "output_type": "stream",
       "stream": "stdout",
       "text": [
        "gcc -g -Wall -O2 -D_FILE_OFFSET_BITS=64 -D_LARGEFILE64_SOURCE -D_CURSES_LIB=1 -I. -Ihtslib-1.2.1 -DMAQ_LONGREADS -c -o misc/maq2sam-long.o misc/maq2sam.c\r\n"
       ]
      },
      {
       "output_type": "stream",
       "stream": "stdout",
       "text": [
        "gcc  -o misc/maq2sam-long misc/maq2sam-long.o  -lz\r\n",
        "gcc -g -Wall -O2 -D_FILE_OFFSET_BITS=64 -D_LARGEFILE64_SOURCE -D_CURSES_LIB=1 -I. -Ihtslib-1.2.1 -c -o misc/maq2sam-short.o misc/maq2sam.c\r\n"
       ]
      },
      {
       "output_type": "stream",
       "stream": "stdout",
       "text": [
        "gcc  -o misc/maq2sam-short misc/maq2sam-short.o  -lz\r\n",
        "gcc -g -Wall -O2 -D_FILE_OFFSET_BITS=64 -D_LARGEFILE64_SOURCE -D_CURSES_LIB=1 -I. -Ihtslib-1.2.1 -c -o misc/md5fa.o misc/md5fa.c\r\n"
       ]
      },
      {
       "output_type": "stream",
       "stream": "stdout",
       "text": [
        "gcc -g -Wall -O2 -D_FILE_OFFSET_BITS=64 -D_LARGEFILE64_SOURCE -D_CURSES_LIB=1 -I. -Ihtslib-1.2.1 -c -o misc/md5.o misc/md5.c\r\n"
       ]
      },
      {
       "output_type": "stream",
       "stream": "stdout",
       "text": [
        "gcc  -o misc/md5fa misc/md5fa.o misc/md5.o  -lz\r\n",
        "gcc -g -Wall -O2 -D_FILE_OFFSET_BITS=64 -D_LARGEFILE64_SOURCE -D_CURSES_LIB=1 -I. -Ihtslib-1.2.1 -DMD5SUM_MAIN -c -o misc/md5sum-lite.o misc/md5.c\r\n"
       ]
      },
      {
       "output_type": "stream",
       "stream": "stdout",
       "text": [
        "gcc  -o misc/md5sum-lite misc/md5sum-lite.o \r\n"
       ]
      },
      {
       "output_type": "stream",
       "stream": "stdout",
       "text": [
        "gcc -g -Wall -O2 -D_FILE_OFFSET_BITS=64 -D_LARGEFILE64_SOURCE -D_CURSES_LIB=1 -I. -Ihtslib-1.2.1 -c -o misc/wgsim.o misc/wgsim.c\r\n"
       ]
      },
      {
       "output_type": "stream",
       "stream": "stdout",
       "text": [
        "gcc  -o misc/wgsim misc/wgsim.o  -lm -lz\r\n"
       ]
      },
      {
       "output_type": "stream",
       "stream": "stdout",
       "text": [
        "gcc -g -Wall -O2 -D_FILE_OFFSET_BITS=64 -D_LARGEFILE64_SOURCE -D_CURSES_LIB=1 -I. -Ihtslib-1.2.1 -c -o test/merge/test_bam_translate.o test/merge/test_bam_translate.c\r\n"
       ]
      },
      {
       "output_type": "stream",
       "stream": "stdout",
       "text": [
        "gcc -g -Wall -O2 -D_FILE_OFFSET_BITS=64 -D_LARGEFILE64_SOURCE -D_CURSES_LIB=1 -I. -Ihtslib-1.2.1 -c -o test/test.o test/test.c\r\n"
       ]
      },
      {
       "output_type": "stream",
       "stream": "stdout",
       "text": [
        "gcc -pthread  -o test/merge/test_bam_translate test/merge/test_bam_translate.o test/test.o htslib-1.2.1/libhts.a  -lz\r\n",
        "clang: warning: argument unused during compilation: '-pthread'\r\n",
        "gcc -g -Wall -O2 -D_FILE_OFFSET_BITS=64 -D_LARGEFILE64_SOURCE -D_CURSES_LIB=1 -I. -Ihtslib-1.2.1 -c -o test/merge/test_pretty_header.o test/merge/test_pretty_header.c\r\n"
       ]
      },
      {
       "output_type": "stream",
       "stream": "stdout",
       "text": [
        "gcc -pthread  -o test/merge/test_pretty_header test/merge/test_pretty_header.o htslib-1.2.1/libhts.a  -lz\r\n"
       ]
      },
      {
       "output_type": "stream",
       "stream": "stdout",
       "text": [
        "clang: warning: argument unused during compilation: '-pthread'\r\n",
        "gcc -g -Wall -O2 -D_FILE_OFFSET_BITS=64 -D_LARGEFILE64_SOURCE -D_CURSES_LIB=1 -I. -Ihtslib-1.2.1 -c -o test/merge/test_rtrans_build.o test/merge/test_rtrans_build.c\r\n"
       ]
      },
      {
       "output_type": "stream",
       "stream": "stdout",
       "text": [
        "gcc -pthread  -o test/merge/test_rtrans_build test/merge/test_rtrans_build.o htslib-1.2.1/libhts.a  -lz\r\n",
        "clang: warning: argument unused during compilation: '-pthread'\r\n",
        "gcc -g -Wall -O2 -D_FILE_OFFSET_BITS=64 -D_LARGEFILE64_SOURCE -D_CURSES_LIB=1 -I. -Ihtslib-1.2.1 -c -o test/merge/test_trans_tbl_init.o test/merge/test_trans_tbl_init.c\r\n"
       ]
      },
      {
       "output_type": "stream",
       "stream": "stdout",
       "text": [
        "gcc -pthread  -o test/merge/test_trans_tbl_init test/merge/test_trans_tbl_init.o htslib-1.2.1/libhts.a  -lz\r\n",
        "clang: warning: argument unused during compilation: '-pthread'\r\n",
        "gcc -g -Wall -O2 -D_FILE_OFFSET_BITS=64 -D_LARGEFILE64_SOURCE -D_CURSES_LIB=1 -I. -Ihtslib-1.2.1 -c -o test/split/test_count_rg.o test/split/test_count_rg.c\r\n"
       ]
      },
      {
       "output_type": "stream",
       "stream": "stdout",
       "text": [
        "gcc -pthread  -o test/split/test_count_rg test/split/test_count_rg.o test/test.o htslib-1.2.1/libhts.a  -lz\r\n",
        "clang: warning: argument unused during compilation: '-pthread'\r\n",
        "gcc -g -Wall -O2 -D_FILE_OFFSET_BITS=64 -D_LARGEFILE64_SOURCE -D_CURSES_LIB=1 -I. -Ihtslib-1.2.1 -c -o test/split/test_expand_format_string.o test/split/test_expand_format_string.c\r\n"
       ]
      },
      {
       "output_type": "stream",
       "stream": "stdout",
       "text": [
        "gcc -pthread  -o test/split/test_expand_format_string test/split/test_expand_format_string.o test/test.o htslib-1.2.1/libhts.a  -lz\r\n",
        "clang: warning: argument unused during compilation: '-pthread'\r\n",
        "gcc -g -Wall -O2 -D_FILE_OFFSET_BITS=64 -D_LARGEFILE64_SOURCE -D_CURSES_LIB=1 -I. -Ihtslib-1.2.1 -c -o test/split/test_filter_header_rg.o test/split/test_filter_header_rg.c\r\n"
       ]
      },
      {
       "output_type": "stream",
       "stream": "stdout",
       "text": [
        "gcc -pthread  -o test/split/test_filter_header_rg test/split/test_filter_header_rg.o test/test.o htslib-1.2.1/libhts.a  -lz\r\n",
        "clang: warning: argument unused during compilation: '-pthread'\r\n",
        "gcc -g -Wall -O2 -D_FILE_OFFSET_BITS=64 -D_LARGEFILE64_SOURCE -D_CURSES_LIB=1 -I. -Ihtslib-1.2.1 -c -o test/split/test_parse_args.o test/split/test_parse_args.c\r\n"
       ]
      },
      {
       "output_type": "stream",
       "stream": "stdout",
       "text": [
        "gcc -pthread  -o test/split/test_parse_args test/split/test_parse_args.o test/test.o htslib-1.2.1/libhts.a  -lz\r\n"
       ]
      },
      {
       "output_type": "stream",
       "stream": "stdout",
       "text": [
        "clang: warning: argument unused during compilation: '-pthread'\r\n",
        "gcc -g -Wall -O2 -D_FILE_OFFSET_BITS=64 -D_LARGEFILE64_SOURCE -D_CURSES_LIB=1 -I. -Ihtslib-1.2.1 -c -o test/vcf-miniview.o test/vcf-miniview.c\r\n"
       ]
      },
      {
       "output_type": "stream",
       "stream": "stdout",
       "text": [
        "gcc -pthread  -o test/vcf-miniview test/vcf-miniview.o htslib-1.2.1/libhts.a  -lz\r\n",
        "clang: warning: argument unused during compilation: '-pthread'\r\n"
       ]
      },
      {
       "output_type": "stream",
       "stream": "stdout",
       "text": [
        "/Users/rpearson/src/github/malariagen/methods-dev/pf3k_techbm/notebooks\n"
       ]
      }
     ],
     "prompt_number": 43
    },
    {
     "cell_type": "code",
     "collapsed": false,
     "input": [
      "# Add path to .profile\n",
      "!echo \"\" >> {profile_fn}\n",
      "!echo \"# added by Ipython notebook 20150603_install_GATK.ipynb\" >> {profile_fn}\n",
      "!echo \"export PATH=\\\"/Users/rpearson/src/github/malariagen/methods-dev/pf3k_techbm/opt/samtools/samtools-1.2:\\$$PATH\\\"\" >> {profile_fn}\n"
     ],
     "language": "python",
     "metadata": {},
     "outputs": [],
     "prompt_number": 89
    },
    {
     "cell_type": "code",
     "collapsed": false,
     "input": [
      "# Check samtools works\n",
      "!{samtools_exe}"
     ],
     "language": "python",
     "metadata": {},
     "outputs": [
      {
       "output_type": "stream",
       "stream": "stdout",
       "text": [
        "\r\n",
        "Program: samtools (Tools for alignments in the SAM format)\r\n",
        "Version: 1.2 (using htslib 1.2.1)\r\n",
        "\r\n",
        "Usage:   samtools <command> [options]\r\n",
        "\r\n",
        "Commands:\r\n",
        "  -- indexing\r\n",
        "         faidx       index/extract FASTA\r\n",
        "         index       index alignment\r\n",
        "  -- editing\r\n",
        "         calmd       recalculate MD/NM tags and '=' bases\r\n",
        "         fixmate     fix mate information\r\n",
        "         reheader    replace BAM header\r\n",
        "         rmdup       remove PCR duplicates\r\n",
        "         targetcut   cut fosmid regions (for fosmid pool only)\r\n",
        "  -- file operations\r\n",
        "         bamshuf     shuffle and group alignments by name\r\n",
        "         cat         concatenate BAMs\r\n",
        "         merge       merge sorted alignments\r\n",
        "         mpileup     multi-way pileup\r\n",
        "         sort        sort alignment file\r\n",
        "         split       splits a file by read group\r\n",
        "         bam2fq      converts a BAM to a FASTQ\r\n",
        "  -- stats\r\n",
        "         bedcov      read depth per BED region\r\n",
        "         depth       compute the depth\r\n",
        "         flagstat    simple stats\r\n",
        "         idxstats    BAM index stats\r\n",
        "         phase       phase heterozygotes\r\n",
        "         stats       generate stats (former bamcheck)\r\n",
        "  -- viewing\r\n",
        "         flags       explain BAM flags\r\n",
        "         tview       text alignment viewer\r\n",
        "         view        SAM<->BAM<->CRAM conversion\r\n",
        "\r\n"
       ]
      }
     ],
     "prompt_number": 46
    },
    {
     "cell_type": "code",
     "collapsed": false,
     "input": [],
     "language": "python",
     "metadata": {},
     "outputs": []
    },
    {
     "cell_type": "heading",
     "level": 1,
     "metadata": {},
     "source": [
      "Install picard"
     ]
    },
    {
     "cell_type": "code",
     "collapsed": false,
     "input": [
      "!cp /Users/rpearson/Downloads/picard-tools-1.133.zip {picard_dir}\n",
      "%cd {picard_dir}\n",
      "!tar xjf picard-tools-1.133.zip\n",
      "# Add environment vairable to .profile\n",
      "!echo \"\" >> {profile_fn}\n",
      "!echo \"# added by Ipython notebook 20150603_install_GATK.ipynb\" >> {profile_fn}\n",
      "!echo \"export PICARD=\\\"/Users/rpearson/src/github/malariagen/methods-dev/pf3k_techbm/opt/picard/picard-tools-1.133/picard.jar\\\"\" >> {profile_fn}\n",
      "%cd ../../notebooks/\n"
     ],
     "language": "python",
     "metadata": {},
     "outputs": [
      {
       "output_type": "stream",
       "stream": "stdout",
       "text": [
        "/Users/rpearson/src/github/malariagen/methods-dev/pf3k_techbm/opt/picard\n"
       ]
      },
      {
       "output_type": "stream",
       "stream": "stdout",
       "text": [
        "/Users/rpearson/src/github/malariagen/methods-dev/pf3k_techbm/notebooks\n"
       ]
      }
     ],
     "prompt_number": 101
    },
    {
     "cell_type": "code",
     "collapsed": false,
     "input": [
      "# Test picard\n",
      "!{picard_exe} GenotypeConcordance -h"
     ],
     "language": "python",
     "metadata": {},
     "outputs": [
      {
       "output_type": "stream",
       "stream": "stdout",
       "text": [
        "USAGE: GenotypeConcordance [options]\r\n",
        "\r\n",
        "Documentation: http://broadinstitute.github.io/picard/command-line-overview.html#GenotypeConcordance\r\n",
        "\r\n",
        "Calculates the concordance between genotype data for two samples in two different VCFs - one being considered the truth (or reference) the other being considered the call.  The concordance is broken into separate results sections for SNPs and indels.  Summary and detailed statistics are reported\r\n",
        "\r\n",
        "Note that for any pair of variants to compare, only the alleles for the samples under interrogation are considered and MNP, Symbolic, and Mixed classes of variants are not included.\r\n",
        "Version: 1.133(95818b6e611725775e29d3b4acbaa23747eb3e94_1433169311)\r\n",
        "\r\n",
        "\r\n",
        "Options:\r\n",
        "\r\n",
        "--help\r\n",
        "-h                            Displays options specific to this tool.\r\n",
        "\r\n",
        "--stdhelp\r\n",
        "-H                            Displays options specific to this tool AND options common to all Picard command line \r\n",
        "                              tools.\r\n",
        "\r\n",
        "--version                     Displays program version.\r\n",
        "\r\n",
        "TRUTH_VCF=File\r\n",
        "TV=File                       The VCF containing the truth sample  Required. \r\n",
        "\r\n",
        "CALL_VCF=File\r\n",
        "CV=File                       The VCF containing the call sample  Required. \r\n",
        "\r\n",
        "OUTPUT=File\r\n",
        "O=File                        Basename for the two metrics files that are to be written. Resulting files will be \r\n",
        "                              <OUTPUT>.genotype_concordance_summary_metrics  and \r\n",
        "                              <OUTPUT>.genotype_concordance_detail_metrics.  Required. \r\n",
        "\r\n",
        "TRUTH_SAMPLE=String\r\n",
        "TS=String                     The name of the truth sample within the truth VCF  Required. \r\n",
        "\r\n",
        "CALL_SAMPLE=String\r\n",
        "CS=String                     The name of the call sample within the call VCF  Required. \r\n",
        "\r\n",
        "INTERVALS=File                One or more interval list files that will be used to limit the genotype concordance.  \r\n",
        "                              Note - if intervals are specified, the VCF files must be indexed.  Default value: null. \r\n",
        "                              This option may be specified 0 or more times. \r\n",
        "\r\n",
        "INTERSECT_INTERVALS=Boolean   If true, multiple interval lists will be intersected. If false multiple lists will be \r\n",
        "                              unioned.  Default value: true. This option can be set to 'null' to clear the default \r\n",
        "                              value. Possible values: {true, false} \r\n",
        "\r\n",
        "MIN_GQ=Integer                Genotypes below this genotype quality will have genotypes classified as LowGq.  Default \r\n",
        "                              value: 0. This option can be set to 'null' to clear the default value. \r\n",
        "\r\n",
        "MIN_DP=Integer                Genotypes below this depth will have genotypes classified as LowDp.  Default value: 0. \r\n",
        "                              This option can be set to 'null' to clear the default value. \r\n",
        "\r\n",
        "OUTPUT_ALL_ROWS=Boolean       If true, output all rows in detailed statistics even when count == 0.  When false only \r\n",
        "                              output rows with non-zero counts.  Default value: false. This option can be set to 'null' \r\n",
        "                              to clear the default value. Possible values: {true, false} \r\n",
        "\r\n",
        "USE_VCF_INDEX=Boolean         If true, use the VCF index, else iterate over the entire VCF.  Default value: false. This \r\n",
        "                              option can be set to 'null' to clear the default value. Possible values: {true, false} \r\n",
        "\r\n"
       ]
      }
     ],
     "prompt_number": 100
    },
    {
     "cell_type": "heading",
     "level": 1,
     "metadata": {},
     "source": [
      "Install bcftools"
     ]
    },
    {
     "cell_type": "code",
     "collapsed": false,
     "input": [
      "!cp /Users/rpearson/Downloads/bcftools-1.2.tar.bz2 {bcftools_dir}\n",
      "%cd {bcftools_dir}\n",
      "!tar xvzf bcftools-1.2.tar.bz2 \n",
      "%cd bcftools-1.2 \n",
      "!make\n",
      "%cd ../../../notebooks/"
     ],
     "language": "python",
     "metadata": {},
     "outputs": [
      {
       "output_type": "stream",
       "stream": "stdout",
       "text": [
        "/Users/rpearson/src/github/malariagen/methods-dev/pf3k_techbm/opt/bcftools\n",
        "x bcftools-1.2/\r\n",
        "x bcftools-1.2/AUTHORS\r\n",
        "x bcftools-1.2/HMM.c\r\n",
        "x bcftools-1.2/HMM.h\r\n",
        "x bcftools-1.2/INSTALL\r\n",
        "x bcftools-1.2/LICENSE\r\n",
        "x bcftools-1.2/Makefile\r\n",
        "x bcftools-1.2/README\r\n",
        "x bcftools-1.2/bcftools.h\r\n",
        "x bcftools-1.2/call.h\r\n",
        "x bcftools-1.2/ccall.c\r\n",
        "x bcftools-1.2/consensus.c\r\n",
        "x bcftools-1.2/convert.c\r\n",
        "x bcftools-1.2/convert.h\r\n",
        "x bcftools-1.2/doc/\r\n",
        "x bcftools-1.2/doc/bcftools.1\r\n",
        "x bcftools-1.2/doc/bcftools.html"
       ]
      },
      {
       "output_type": "stream",
       "stream": "stdout",
       "text": [
        "\r\n",
        "x bcftools-1.2/doc/bcftools.txt\r\n",
        "x bcftools-1.2/doc/docbook-xsl.css\r\n",
        "x bcftools-1.2/em.c\r\n",
        "x bcftools-1.2/filter.c\r\n",
        "x bcftools-1.2/filter.h\r\n",
        "x bcftools-1.2/gvcf.c\r\n",
        "x bcftools-1.2/khash_str2str.h\r\n",
        "x bcftools-1.2/kmin.c\r\n",
        "x bcftools-1.2/kmin.h\r\n",
        "x bcftools-1.2/main.c\r\n",
        "x bcftools-1.2/mcall.c\r\n",
        "x bcftools-1.2/ploidy.c\r\n",
        "x bcftools-1.2/ploidy.h\r\n",
        "x bcftools-1.2/plot-vcfstats\r\n",
        "x bcftools-1.2/plugins/\r\n",
        "x bcftools-1.2/plugins/counts.c\r\n",
        "x bcftools-1.2/plugins/dosage.c\r\n",
        "x bcftools-1.2/plugins/fill-AN-AC.c\r\n",
        "x bcftools-1.2/plugins/fixploidy.c\r\n",
        "x bcftools-1.2/plugins/fixploidy.mk\r\n",
        "x bcftools-1.2/plugins/frameshifts.c\r\n",
        "x bcftools-1.2/plugins/missing2ref.c\r\n",
        "x bcftools-1.2/plugins/tag2tag.c\r\n",
        "x bcftools-1.2/plugins/vcf2sex.c\r\n",
        "x bcftools-1.2/plugins/vcf2sex.mk\r\n",
        "x bcftools-1.2/polysomy.c\r\n",
        "x bcftools-1.2/prob1.c\r\n",
        "x bcftools-1.2/prob1.h\r\n",
        "x bcftools-1.2/rbuf.h\r\n",
        "x bcftools-1.2/reheader.c\r\n",
        "x bcftools-1.2/tabix.c\r\n",
        "x bcftools-1.2/test/\r\n",
        "x bcftools-1.2/test/23andme.fa\r\n",
        "x bcftools-1.2/test/23andme.fa.fai\r\n",
        "x bcftools-1.2/test/annotate.hdr\r\n",
        "x bcftools-1.2/test/annotate.out\r\n",
        "x bcftools-1.2/test/annotate.tab\r\n",
        "x bcftools-1.2/test/annotate.vcf\r\n",
        "x bcftools-1.2/test/annotate2.out\r\n",
        "x bcftools-1.2/test/annotate2.tab\r\n",
        "x bcftools-1.2/test/annotate2.vcf\r\n",
        "x bcftools-1.2/test/annotate3.out\r\n",
        "x bcftools-1.2/test/annotate3.vcf\r\n",
        "x bcftools-1.2/test/annotate4.hdr\r\n",
        "x bcftools-1.2/test/annotate4.out\r\n",
        "x bcftools-1.2/test/annotate4.vcf\r\n",
        "x bcftools-1.2/test/annotate5.out\r\n",
        "x bcftools-1.2/test/annotate6.out\r\n",
        "x bcftools-1.2/test/annotate7.out\r\n",
        "x bcftools-1.2/test/annotate8.out\r\n",
        "x bcftools-1.2/test/annots.vcf\r\n",
        "x bcftools-1.2/test/annots2.vcf\r\n",
        "x bcftools-1.2/test/annots4.tab\r\n",
        "x bcftools-1.2/test/annots4.vcf\r\n",
        "x bcftools-1.2/test/check.chk\r\n",
        "x bcftools-1.2/test/check.gs.chrom.gen\r\n",
        "x bcftools-1.2/test/check.gs.chrom.samples\r\n",
        "x bcftools-1.2/test/check.gs.vcfids.gen\r\n",
        "x bcftools-1.2/test/check.gs.vcfids.samples\r\n",
        "x bcftools-1.2/test/check.gs.vcfids_chrom.gen\r\n",
        "x bcftools-1.2/test/check.gs.vcfids_chrom.samples\r\n",
        "x bcftools-1.2/test/check.vcf\r\n",
        "x bcftools-1.2/test/concat.1.a.vcf\r\n",
        "x bcftools-1.2/test/concat.1.b.vcf\r\n",
        "x bcftools-1.2/test/concat.1.bcf.out\r\n",
        "x bcftools-1.2/test/concat.1.vcf.out\r\n",
        "x bcftools-1.2/test/concat.2.a.vcf\r\n",
        "x bcftools-1.2/test/concat.2.b.vcf\r\n",
        "x bcftools-1.2/test/concat.2.bcf.out\r\n",
        "x bcftools-1.2/test/concat.2.vcf.out\r\n",
        "x bcftools-1.2/test/concat.3.0.vcf\r\n",
        "x bcftools-1.2/test/concat.3.a.vcf\r\n",
        "x bcftools-1.2/test/concat.3.b.vcf\r\n",
        "x bcftools-1.2/test/concat.3.bcf.out\r\n",
        "x bcftools-1.2/test/concat.3.c.vcf\r\n",
        "x bcftools-1.2/test/concat.3.d.vcf\r\n",
        "x bcftools-1.2/test/concat.3.e.vcf\r\n",
        "x bcftools-1.2/test/concat.3.f.vcf\r\n",
        "x bcftools-1.2/test/concat.3.vcf.out\r\n",
        "x bcftools-1.2/test/concat.4.bcf.out\r\n",
        "x bcftools-1.2/test/concat.4.vcf.out\r\n",
        "x bcftools-1.2/test/consensus.1.chain\r\n",
        "x bcftools-1.2/test/consensus.1.out\r\n",
        "x bcftools-1.2/test/consensus.2.chain\r\n",
        "x bcftools-1.2/test/consensus.2.out\r\n",
        "x bcftools-1.2/test/consensus.3.chain\r\n",
        "x bcftools-1.2/test/consensus.3.out\r\n",
        "x bcftools-1.2/test/consensus.4.chain\r\n",
        "x bcftools-1.2/test/consensus.4.out\r\n",
        "x bcftools-1.2/test/consensus.fa"
       ]
      },
      {
       "output_type": "stream",
       "stream": "stdout",
       "text": [
        "\r\n",
        "x bcftools-1.2/test/consensus.tab\r\n",
        "x bcftools-1.2/test/consensus.vcf\r\n",
        "x bcftools-1.2/test/convert.23andme\r\n",
        "x bcftools-1.2/test/convert.23andme.vcf\r\n",
        "x bcftools-1.2/test/convert.gs.gt.gen\r\n",
        "x bcftools-1.2/test/convert.gs.gt.samples\r\n",
        "x bcftools-1.2/test/convert.gs.pl.gen\r\n",
        "x bcftools-1.2/test/convert.gs.pl.samples\r\n",
        "x bcftools-1.2/test/convert.gvcf.out\r\n",
        "x bcftools-1.2/test/convert.gvcf.vcf\r\n",
        "x bcftools-1.2/test/convert.hls.haps\r\n",
        "x bcftools-1.2/test/convert.hls.legend\r\n",
        "x bcftools-1.2/test/convert.hls.samples\r\n",
        "x bcftools-1.2/test/convert.hs.hap\r\n",
        "x bcftools-1.2/test/convert.hs.sample\r\n",
        "x bcftools-1.2/test/convert.vcf\r\n",
        "x bcftools-1.2/test/dosage.out\r\n",
        "x bcftools-1.2/test/empty.idx.out\r\n",
        "x bcftools-1.2/test/empty.idx_count.out\r\n",
        "x bcftools-1.2/test/empty.vcf\r\n",
        "x bcftools-1.2/test/ex1.gtf.gz\r\n",
        "x bcftools-1.2/test/ex2.vcf\r\n",
        "x bcftools-1.2/test/ex3.sam\r\n",
        "x bcftools-1.2/test/fill-AN-AC.out\r\n",
        "x bcftools-1.2/test/filter.1.out\r\n",
        "x bcftools-1.2/test/filter.1.vcf\r\n",
        "x bcftools-1.2/test/filter.2.out\r\n",
        "x bcftools-1.2/test/filter.2.vcf\r\n",
        "x bcftools-1.2/test/filter.3.out\r\n",
        "x bcftools-1.2/test/filter.3.vcf\r\n",
        "x bcftools-1.2/test/filter.4.out\r\n",
        "x bcftools-1.2/test/filter.5.out\r\n",
        "x bcftools-1.2/test/filter.6.out\r\n",
        "x bcftools-1.2/test/filter.7.out\r\n",
        "x bcftools-1.2/test/filter.8.out\r\n",
        "x bcftools-1.2/test/fixploidy.out\r\n",
        "x bcftools-1.2/test/fixploidy.ploidy\r\n",
        "x bcftools-1.2/test/fixploidy.samples\r\n",
        "x bcftools-1.2/test/fixploidy.vcf\r\n",
        "x bcftools-1.2/test/idx.out\r\n",
        "x bcftools-1.2/test/idx.vcf\r\n",
        "x bcftools-1.2/test/idx_count.out\r\n",
        "x bcftools-1.2/test/isec.a.vcf\r\n",
        "x bcftools-1.2/test/isec.ab.C.out\r\n",
        "x bcftools-1.2/test/isec.ab.any.out\r\n",
        "x bcftools-1.2/test/isec.ab.both.out\r\n",
        "x bcftools-1.2/test/isec.ab.flt.out\r\n",
        "x bcftools-1.2/test/isec.ab.out\r\n",
        "x bcftools-1.2/test/isec.b.vcf\r\n",
        "x bcftools-1.2/test/isec.tab\r\n",
        "x bcftools-1.2/test/isec.tab.out\r\n",
        "x bcftools-1.2/test/large_chrom.20.1.2147483647.out\r\n",
        "x bcftools-1.2/test/large_chrom_csi_limit.20.1.2147483647.out\r\n",
        "x bcftools-1.2/test/large_chrom_csi_limit.vcf\r\n",
        "x bcftools-1.2/test/large_chrom_tbi_limit.20.1.536870912.out\r\n",
        "x bcftools-1.2/test/large_chrom_tbi_limit.vcf\r\n",
        "x bcftools-1.2/test/merge.2.a.vcf\r\n",
        "x bcftools-1.2/test/merge.2.all.out\r\n",
        "x bcftools-1.2/test/merge.2.b.vcf\r\n",
        "x bcftools-1.2/test/merge.2.both.out\r\n",
        "x bcftools-1.2/test/merge.2.none.out\r\n",
        "x bcftools-1.2/test/merge.3.a.vcf\r\n",
        "x bcftools-1.2/test/merge.3.b.vcf\r\n",
        "x bcftools-1.2/test/merge.3.out\r\n",
        "x bcftools-1.2/test/merge.4.a.vcf\r\n",
        "x bcftools-1.2/test/merge.4.b.vcf\r\n",
        "x bcftools-1.2/test/merge.4.out\r\n",
        "x bcftools-1.2/test/merge.a.chk\r\n",
        "x bcftools-1.2/test/merge.a.vcf\r\n",
        "x bcftools-1.2/test/merge.abc.out\r\n",
        "x bcftools-1.2/test/merge.b.vcf\r\n",
        "x bcftools-1.2/test/merge.c.vcf\r\n",
        "x bcftools-1.2/test/missing2ref.out\r\n",
        "x bcftools-1.2/test/mpileup.1.out\r\n",
        "x bcftools-1.2/test/mpileup.2.out\r\n",
        "x bcftools-1.2/test/mpileup.cAls.out\r\n",
        "x bcftools-1.2/test/mpileup.tab\r\n",
        "x bcftools-1.2/test/mpileup.vcf\r\n",
        "x bcftools-1.2/test/norm.fa\r\n",
        "x bcftools-1.2/test/norm.fa.fai\r\n",
        "x bcftools-1.2/test/norm.merge.out\r\n",
        "x bcftools-1.2/test/norm.merge.strict.out\r\n",
        "x bcftools-1.2/test/norm.merge.vcf\r\n",
        "x bcftools-1.2/test/norm.out\r\n",
        "x bcftools-1.2/test/norm.split.out\r\n",
        "x bcftools-1.2/test/norm.split.vcf\r\n",
        "x bcftools-1.2/test/norm.vcf\r\n",
        "x bcftools-1.2/test/plugin-missing2ref.out.vcf\r\n",
        "x bcftools-1.2/test/plugin-missing2ref.vcf\r\n",
        "x bcftools-1.2/test/plugin1.vcf\r\n",
        "x bcftools-1.2/test/query.10.out\r\n",
        "x bcftools-1.2/test/query.11.out\r\n",
        "x bcftools-1.2/test/query.12.out\r\n",
        "x bcftools-1.2/test/query.13.out\r\n",
        "x bcftools-1.2/test/query.14.out\r\n",
        "x bcftools-1.2/test/query.15.out\r\n",
        "x bcftools-1.2/test/query.16.out\r\n",
        "x bcftools-1.2/test/query.17.out\r\n",
        "x bcftools-1.2/test/query.2.out\r\n",
        "x bcftools-1.2/test/query.2.vcf\r\n",
        "x bcftools-1.2/test/query.3.out\r\n",
        "x bcftools-1.2/test/query.4.out\r\n",
        "x bcftools-1.2/test/query.5.out\r\n",
        "x bcftools-1.2/test/query.6.out\r\n",
        "x bcftools-1.2/test/query.7.out\r\n",
        "x bcftools-1.2/test/query.8.out\r\n",
        "x bcftools-1.2/test/query.9.out\r\n",
        "x bcftools-1.2/test/query.filter.vcf\r\n",
        "x bcftools-1.2/test/query.out\r\n",
        "x bcftools-1.2/test/query.vcf\r\n",
        "x bcftools-1.2/test/regions.out\r\n",
        "x bcftools-1.2/test/regions.tab\r\n",
        "x bcftools-1.2/test/regions.vcf\r\n",
        "x bcftools-1.2/test/reheader.1.out\r\n",
        "x bcftools-1.2/test/reheader.1.out.bcf\r\n",
        "x bcftools-1.2/test/reheader.2.out\r\n",
        "x bcftools-1.2/test/reheader.hdr\r\n",
        "x bcftools-1.2/test/reheader.samples\r\n",
        "x bcftools-1.2/test/reheader.samples2\r\n",
        "x bcftools-1.2/test/reheader.vcf\r\n",
        "x bcftools-1.2/test/stats.a.vcf\r\n",
        "x bcftools-1.2/test/stats.b.vcf\r\n",
        "x bcftools-1.2/test/stats.chk\r\n",
        "x bcftools-1.2/test/tabix.1.3000151.out\r\n",
        "x bcftools-1.2/test/tabix.2.3199812.out\r\n",
        "x bcftools-1.2/test/test-rbuf.c"
       ]
      },
      {
       "output_type": "stream",
       "stream": "stdout",
       "text": [
        "\r\n",
        "x bcftools-1.2/test/test.pl\r\n",
        "x bcftools-1.2/test/vcf2sex.out\r\n",
        "x bcftools-1.2/test/vcf2sex.vcf\r\n",
        "x bcftools-1.2/test/view.1.out\r\n",
        "x bcftools-1.2/test/view.10.out\r\n",
        "x bcftools-1.2/test/view.2.out\r\n",
        "x bcftools-1.2/test/view.3.out\r\n",
        "x bcftools-1.2/test/view.4.out\r\n",
        "x bcftools-1.2/test/view.5.out\r\n",
        "x bcftools-1.2/test/view.6.out\r\n",
        "x bcftools-1.2/test/view.7.out\r\n",
        "x bcftools-1.2/test/view.8.out\r\n",
        "x bcftools-1.2/test/view.9.out\r\n",
        "x bcftools-1.2/test/view.chrs.out\r\n",
        "x bcftools-1.2/test/view.chrs.tab\r\n",
        "x bcftools-1.2/test/view.chrs.vcf\r\n",
        "x bcftools-1.2/test/view.exclude.out\r\n",
        "x bcftools-1.2/test/view.filter.1.out\r\n",
        "x bcftools-1.2/test/view.filter.10.out\r\n",
        "x bcftools-1.2/test/view.filter.11.out\r\n",
        "x bcftools-1.2/test/view.filter.2.out\r\n",
        "x bcftools-1.2/test/view.filter.3.out\r\n",
        "x bcftools-1.2/test/view.filter.4.out\r\n",
        "x bcftools-1.2/test/view.filter.5.out\r\n",
        "x bcftools-1.2/test/view.filter.6.out\r\n",
        "x bcftools-1.2/test/view.filter.7.out\r\n",
        "x bcftools-1.2/test/view.filter.8.out\r\n",
        "x bcftools-1.2/test/view.filter.9.out\r\n",
        "x bcftools-1.2/test/view.filter.vcf\r\n",
        "x bcftools-1.2/test/view.minmaxac.1.out\r\n",
        "x bcftools-1.2/test/view.minmaxac.2.out\r\n",
        "x bcftools-1.2/test/view.minmaxac.vcf\r\n",
        "x bcftools-1.2/test/view.omitgenotypes.out\r\n",
        "x bcftools-1.2/test/view.omitgenotypes.vcf\r\n",
        "x bcftools-1.2/test/view.vcf\r\n",
        "x bcftools-1.2/test/view.vectors.A.out\r\n",
        "x bcftools-1.2/test/view.vectors.B.out\r\n",
        "x bcftools-1.2/test/view.vectors.vcf\r\n",
        "x bcftools-1.2/tsv2vcf.c\r\n",
        "x bcftools-1.2/tsv2vcf.h\r\n",
        "x bcftools-1.2/vcfannotate.c\r\n",
        "x bcftools-1.2/vcfcall.c\r\n",
        "x bcftools-1.2/vcfcnv.c\r\n",
        "x bcftools-1.2/vcfconcat.c\r\n",
        "x bcftools-1.2/vcfconvert.c\r\n",
        "x bcftools-1.2/vcffilter.c\r\n",
        "x bcftools-1.2/vcfgtcheck.c\r\n",
        "x bcftools-1.2/vcfindex.c\r\n",
        "x bcftools-1.2/vcfisec.c\r\n",
        "x bcftools-1.2/vcfmerge.c\r\n",
        "x bcftools-1.2/vcfnorm.c\r\n",
        "x bcftools-1.2/vcfplugin.c\r\n",
        "x bcftools-1.2/vcfquery.c\r\n",
        "x bcftools-1.2/vcfroh.c\r\n",
        "x bcftools-1.2/vcfsom.c\r\n",
        "x bcftools-1.2/vcfstats.c\r\n",
        "x bcftools-1.2/vcfutils.pl\r\n",
        "x bcftools-1.2/vcfview.c\r\n",
        "x bcftools-1.2/vcmp.c\r\n",
        "x bcftools-1.2/vcmp.h\r\n",
        "x bcftools-1.2/version.c\r\n",
        "x bcftools-1.2/htslib-1.2.1/\r\n",
        "x bcftools-1.2/htslib-1.2.1/INSTALL\r\n",
        "x bcftools-1.2/htslib-1.2.1/LICENSE\r\n",
        "x bcftools-1.2/htslib-1.2.1/Makefile\r\n",
        "x bcftools-1.2/htslib-1.2.1/NEWS\r\n",
        "x bcftools-1.2/htslib-1.2.1/README\r\n",
        "x bcftools-1.2/htslib-1.2.1/bgzf.c\r\n",
        "x bcftools-1.2/htslib-1.2.1/bgzip.c\r\n",
        "x bcftools-1.2/htslib-1.2.1/config.mk.in\r\n",
        "x bcftools-1.2/htslib-1.2.1/configure.ac\r\n",
        "x bcftools-1.2/htslib-1.2.1/cram/\r\n",
        "x bcftools-1.2/htslib-1.2.1/cram/cram.h\r\n",
        "x bcftools-1.2/htslib-1.2.1/cram/cram_codecs.c"
       ]
      },
      {
       "output_type": "stream",
       "stream": "stdout",
       "text": [
        "\r\n",
        "x bcftools-1.2/htslib-1.2.1/cram/cram_codecs.h\r\n",
        "x bcftools-1.2/htslib-1.2.1/cram/cram_decode.c\r\n",
        "x bcftools-1.2/htslib-1.2.1/cram/cram_decode.h\r\n",
        "x bcftools-1.2/htslib-1.2.1/cram/cram_encode.c\r\n",
        "x bcftools-1.2/htslib-1.2.1/cram/cram_encode.h\r\n",
        "x bcftools-1.2/htslib-1.2.1/cram/cram_index.c\r\n",
        "x bcftools-1.2/htslib-1.2.1/cram/cram_index.h\r\n",
        "x bcftools-1.2/htslib-1.2.1/cram/cram_io.c\r\n",
        "x bcftools-1.2/htslib-1.2.1/cram/cram_io.h\r\n",
        "x bcftools-1.2/htslib-1.2.1/cram/cram_samtools.c\r\n",
        "x bcftools-1.2/htslib-1.2.1/cram/cram_samtools.h\r\n",
        "x bcftools-1.2/htslib-1.2.1/cram/cram_stats.c\r\n",
        "x bcftools-1.2/htslib-1.2.1/cram/cram_stats.h\r\n",
        "x bcftools-1.2/htslib-1.2.1/cram/cram_structs.h\r\n",
        "x bcftools-1.2/htslib-1.2.1/cram/files.c\r\n",
        "x bcftools-1.2/htslib-1.2.1/cram/mFILE.c\r\n",
        "x bcftools-1.2/htslib-1.2.1/cram/mFILE.h\r\n",
        "x bcftools-1.2/htslib-1.2.1/cram/md5.c\r\n",
        "x bcftools-1.2/htslib-1.2.1/cram/md5.h\r\n",
        "x bcftools-1.2/htslib-1.2.1/cram/misc.h\r\n",
        "x bcftools-1.2/htslib-1.2.1/cram/open_trace_file.c\r\n",
        "x bcftools-1.2/htslib-1.2.1/cram/open_trace_file.h\r\n",
        "x bcftools-1.2/htslib-1.2.1/cram/os.h\r\n",
        "x bcftools-1.2/htslib-1.2.1/cram/pooled_alloc.c\r\n",
        "x bcftools-1.2/htslib-1.2.1/cram/pooled_alloc.h\r\n",
        "x bcftools-1.2/htslib-1.2.1/cram/rANS_byte.h\r\n",
        "x bcftools-1.2/htslib-1.2.1/cram/rANS_static.c\r\n",
        "x bcftools-1.2/htslib-1.2.1/cram/rANS_static.h\r\n",
        "x bcftools-1.2/htslib-1.2.1/cram/sam_header.c\r\n",
        "x bcftools-1.2/htslib-1.2.1/cram/sam_header.h\r\n",
        "x bcftools-1.2/htslib-1.2.1/cram/string_alloc.c\r\n",
        "x bcftools-1.2/htslib-1.2.1/cram/string_alloc.h\r\n",
        "x bcftools-1.2/htslib-1.2.1/cram/thread_pool.c\r\n",
        "x bcftools-1.2/htslib-1.2.1/cram/thread_pool.h\r\n",
        "x bcftools-1.2/htslib-1.2.1/cram/vlen.c\r\n",
        "x bcftools-1.2/htslib-1.2.1/cram/vlen.h\r\n",
        "x bcftools-1.2/htslib-1.2.1/cram/zfio.c\r\n",
        "x bcftools-1.2/htslib-1.2.1/cram/zfio.h\r\n",
        "x bcftools-1.2/htslib-1.2.1/faidx.5\r\n",
        "x bcftools-1.2/htslib-1.2.1/faidx.c\r\n",
        "x bcftools-1.2/htslib-1.2.1/hfile.c\r\n",
        "x bcftools-1.2/htslib-1.2.1/hfile_internal.h\r\n",
        "x bcftools-1.2/htslib-1.2.1/hfile_irods.c\r\n",
        "x bcftools-1.2/htslib-1.2.1/hfile_net.c\r\n",
        "x bcftools-1.2/htslib-1.2.1/hts.c\r\n",
        "x bcftools-1.2/htslib-1.2.1/htsfile.1\r\n",
        "x bcftools-1.2/htslib-1.2.1/htsfile.c\r\n",
        "x bcftools-1.2/htslib-1.2.1/htslib.mk\r\n",
        "x bcftools-1.2/htslib-1.2.1/htslib.pc.in\r\n",
        "x bcftools-1.2/htslib-1.2.1/htslib/\r\n",
        "x bcftools-1.2/htslib-1.2.1/htslib/bgzf.h\r\n",
        "x bcftools-1.2/htslib-1.2.1/htslib/faidx.h\r\n",
        "x bcftools-1.2/htslib-1.2.1/htslib/hfile.h\r\n",
        "x bcftools-1.2/htslib-1.2.1/htslib/hts.h\r\n",
        "x bcftools-1.2/htslib-1.2.1/htslib/hts_defs.h\r\n",
        "x bcftools-1.2/htslib-1.2.1/htslib/kfunc.h\r\n",
        "x bcftools-1.2/htslib-1.2.1/htslib/khash.h\r\n",
        "x bcftools-1.2/htslib-1.2.1/htslib/khash_str2int.h\r\n",
        "x bcftools-1.2/htslib-1.2.1/htslib/klist.h\r\n",
        "x bcftools-1.2/htslib-1.2.1/htslib/knetfile.h\r\n",
        "x bcftools-1.2/htslib-1.2.1/htslib/kseq.h\r\n",
        "x bcftools-1.2/htslib-1.2.1/htslib/ksort.h\r\n",
        "x bcftools-1.2/htslib-1.2.1/htslib/kstring.h\r\n",
        "x bcftools-1.2/htslib-1.2.1/htslib/regidx.h\r\n",
        "x bcftools-1.2/htslib-1.2.1/htslib/sam.h\r\n",
        "x bcftools-1.2/htslib-1.2.1/htslib/synced_bcf_reader.h\r\n",
        "x bcftools-1.2/htslib-1.2.1/htslib/tbx.h\r\n",
        "x bcftools-1.2/htslib-1.2.1/htslib/vcf.h\r\n",
        "x bcftools-1.2/htslib-1.2.1/htslib/vcf_sweep.h\r\n",
        "x bcftools-1.2/htslib-1.2.1/htslib/vcfutils.h\r\n",
        "x bcftools-1.2/htslib-1.2.1/htslib_vars.mk\r\n",
        "x bcftools-1.2/htslib-1.2.1/kfunc.c\r\n",
        "x bcftools-1.2/htslib-1.2.1/knetfile.c\r\n",
        "x bcftools-1.2/htslib-1.2.1/kstring.c\r\n",
        "x bcftools-1.2/htslib-1.2.1/regidx.c\r\n",
        "x bcftools-1.2/htslib-1.2.1/sam.5\r\n",
        "x bcftools-1.2/htslib-1.2.1/sam.c"
       ]
      },
      {
       "output_type": "stream",
       "stream": "stdout",
       "text": [
        "\r\n",
        "x bcftools-1.2/htslib-1.2.1/synced_bcf_reader.c\r\n",
        "x bcftools-1.2/htslib-1.2.1/tabix.1\r\n",
        "x bcftools-1.2/htslib-1.2.1/tabix.c\r\n",
        "x bcftools-1.2/htslib-1.2.1/tbx.c\r\n",
        "x bcftools-1.2/htslib-1.2.1/test/\r\n",
        "x bcftools-1.2/htslib-1.2.1/test/auxf#values.sam\r\n",
        "x bcftools-1.2/htslib-1.2.1/test/auxf.fa\r\n",
        "x bcftools-1.2/htslib-1.2.1/test/auxf.fa.fai\r\n",
        "x bcftools-1.2/htslib-1.2.1/test/c1#bounds.sam\r\n",
        "x bcftools-1.2/htslib-1.2.1/test/c1#clip.sam\r\n",
        "x bcftools-1.2/htslib-1.2.1/test/c1#pad1.sam\r\n",
        "x bcftools-1.2/htslib-1.2.1/test/c1#pad2.sam\r\n",
        "x bcftools-1.2/htslib-1.2.1/test/c1#pad3.sam\r\n",
        "x bcftools-1.2/htslib-1.2.1/test/c1.fa\r\n",
        "x bcftools-1.2/htslib-1.2.1/test/c1.fa.fai\r\n",
        "x bcftools-1.2/htslib-1.2.1/test/ce#1.sam\r\n",
        "x bcftools-1.2/htslib-1.2.1/test/ce#2.sam\r\n",
        "x bcftools-1.2/htslib-1.2.1/test/ce#5.sam\r\n",
        "x bcftools-1.2/htslib-1.2.1/test/ce#5b.sam\r\n",
        "x bcftools-1.2/htslib-1.2.1/test/ce#large_seq.sam"
       ]
      },
      {
       "output_type": "stream",
       "stream": "stdout",
       "text": [
        "\r\n",
        "x bcftools-1.2/htslib-1.2.1/test/ce#tag_depadded.sam\r\n",
        "x bcftools-1.2/htslib-1.2.1/test/ce#tag_padded.sam\r\n",
        "x bcftools-1.2/htslib-1.2.1/test/ce#unmap.sam\r\n",
        "x bcftools-1.2/htslib-1.2.1/test/ce#unmap1.sam\r\n",
        "x bcftools-1.2/htslib-1.2.1/test/ce#unmap2.sam\r\n",
        "x bcftools-1.2/htslib-1.2.1/test/ce.fa"
       ]
      },
      {
       "output_type": "stream",
       "stream": "stdout",
       "text": [
        "\r\n",
        "x bcftools-1.2/htslib-1.2.1/test/ce.fa.fai\r\n",
        "x bcftools-1.2/htslib-1.2.1/test/compare_sam.pl\r\n",
        "x bcftools-1.2/htslib-1.2.1/test/fieldarith.c\r\n",
        "x bcftools-1.2/htslib-1.2.1/test/fieldarith.sam\r\n",
        "x bcftools-1.2/htslib-1.2.1/test/hfile.c\r\n",
        "x bcftools-1.2/htslib-1.2.1/test/sam.c\r\n",
        "x bcftools-1.2/htslib-1.2.1/test/test-regidx.c\r\n",
        "x bcftools-1.2/htslib-1.2.1/test/test-vcf-api.c\r\n",
        "x bcftools-1.2/htslib-1.2.1/test/test-vcf-api.out\r\n",
        "x bcftools-1.2/htslib-1.2.1/test/test-vcf-sweep.c\r\n",
        "x bcftools-1.2/htslib-1.2.1/test/test-vcf-sweep.out\r\n",
        "x bcftools-1.2/htslib-1.2.1/test/test.pl\r\n",
        "x bcftools-1.2/htslib-1.2.1/test/test_view.c\r\n",
        "x bcftools-1.2/htslib-1.2.1/test/test_view.pl\r\n",
        "x bcftools-1.2/htslib-1.2.1/test/xx#blank.sam\r\n",
        "x bcftools-1.2/htslib-1.2.1/test/xx#large_aux.sam\r\n",
        "x bcftools-1.2/htslib-1.2.1/test/xx#large_aux2.sam\r\n",
        "x bcftools-1.2/htslib-1.2.1/test/xx#minimal.sam\r\n",
        "x bcftools-1.2/htslib-1.2.1/test/xx#pair.sam\r\n",
        "x bcftools-1.2/htslib-1.2.1/test/xx#rg.sam\r\n",
        "x bcftools-1.2/htslib-1.2.1/test/xx#triplet.sam\r\n",
        "x bcftools-1.2/htslib-1.2.1/test/xx#unsorted.sam\r\n",
        "x bcftools-1.2/htslib-1.2.1/test/xx.fa\r\n",
        "x bcftools-1.2/htslib-1.2.1/test/xx.fa.fai\r\n",
        "x bcftools-1.2/htslib-1.2.1/vcf.5\r\n",
        "x bcftools-1.2/htslib-1.2.1/vcf.c\r\n",
        "x bcftools-1.2/htslib-1.2.1/vcf_sweep.c\r\n",
        "x bcftools-1.2/htslib-1.2.1/vcfutils.c\r\n",
        "x bcftools-1.2/htslib-1.2.1/configure\r\n"
       ]
      },
      {
       "output_type": "stream",
       "stream": "stdout",
       "text": [
        "/Users/rpearson/src/github/malariagen/methods-dev/pf3k_techbm/opt/bcftools/bcftools-1.2\n",
        "cd htslib-1.2.1 && /Library/Developer/CommandLineTools/usr/bin/make lib-static\r\n",
        "gcc -g -Wall -O2 -I. -c -o kfunc.o kfunc.c\r\n"
       ]
      },
      {
       "output_type": "stream",
       "stream": "stdout",
       "text": [
        "gcc -g -Wall -O2 -I. -c -o knetfile.o knetfile.c\r\n"
       ]
      },
      {
       "output_type": "stream",
       "stream": "stdout",
       "text": [
        "gcc -g -Wall -O2 -I. -c -o kstring.o kstring.c\r\n"
       ]
      },
      {
       "output_type": "stream",
       "stream": "stdout",
       "text": [
        "gcc -g -Wall -O2 -I. -c -o bgzf.o bgzf.c\r\n"
       ]
      },
      {
       "output_type": "stream",
       "stream": "stdout",
       "text": [
        "\u001b[1mbgzf.c:70:1: \u001b[0m\u001b[0;1;35mwarning: \u001b[0m\u001b[1munused function 'kh_clear_cache' [-Wunused-function]\u001b[0m\r\n",
        "KHASH_MAP_INIT_INT64(cache, cache_t)\r\n",
        "\u001b[0;1;32m^\r\n",
        "\u001b[0m\u001b[1m./htslib/khash.h:601:2: \u001b[0m\u001b[0;1;30mnote: \u001b[0mexpanded from macro 'KHASH_MAP_INIT_INT64'\u001b[0m\r\n",
        "        KHASH_INIT(name, khint64_t, khval_t, 1, kh_int64_hash_func, kh_int64_hash_equal)\r\n",
        "\u001b[0;1;32m        ^\r\n",
        "\u001b[0m\u001b[1m./htslib/khash.h:358:2: \u001b[0m\u001b[0;1;30mnote: \u001b[0mexpanded from macro 'KHASH_INIT'\u001b[0m\r\n",
        "        KHASH_INIT2(name, static kh_inline, khkey_t, khval_t, kh_is_map, __hash_func, __hash_equal)\r\n",
        "\u001b[0;1;32m        ^\r\n",
        "\u001b[0m\u001b[1m./htslib/khash.h:355:2: \u001b[0m\u001b[0;1;30mnote: \u001b[0mexpanded from macro 'KHASH_INIT2'\u001b[0m\r\n",
        "        __KHASH_IMPL(name, SCOPE, khkey_t, khval_t, kh_is_map, __hash_func, __hash_equal)\r\n",
        "\u001b[0;1;32m        ^\r\n",
        "\u001b[0m\u001b[1m./htslib/khash.h:215:13: \u001b[0m\u001b[0;1;30mnote: \u001b[0mexpanded from macro '__KHASH_IMPL'\u001b[0m\r\n",
        "        SCOPE void kh_clear_##name(kh_##name##_t *h)                                            \\\r\n",
        "\u001b[0;1;32m                   ^\r\n",
        "\u001b[0m\u001b[1m<scratch space>:107:1: \u001b[0m\u001b[0;1;30mnote: \u001b[0mexpanded from here\u001b[0m\r\n",
        "kh_clear_cache\r\n",
        "\u001b[0;1;32m^\r\n",
        "\u001b[0m"
       ]
      },
      {
       "output_type": "stream",
       "stream": "stdout",
       "text": [
        "1 warning generated.\r\n"
       ]
      },
      {
       "output_type": "stream",
       "stream": "stdout",
       "text": [
        "gcc -g -Wall -O2 -I. -c -o faidx.o faidx.c\r\n",
        "\u001b[1mfaidx.c:42:1: \u001b[0m\u001b[0;1;35mwarning: \u001b[0m\u001b[1munused function 'kh_clear_s' [-Wunused-function]\u001b[0m\r\n",
        "KHASH_MAP_INIT_STR(s, faidx1_t)\r\n",
        "\u001b[0;1;32m^\r\n",
        "\u001b[0m\u001b[1m./htslib/khash.h:617:2: \u001b[0m\u001b[0;1;30mnote: \u001b[0mexpanded from macro 'KHASH_MAP_INIT_STR'\u001b[0m\r\n",
        "        KHASH_INIT(name, kh_cstr_t, khval_t, 1, kh_str_hash_func, kh_str_hash_equal)\r\n",
        "\u001b[0;1;32m        ^\r\n",
        "\u001b[0m\u001b[1m./htslib/khash.h:358:2: \u001b[0m\u001b[0;1;30mnote: \u001b[0mexpanded from macro 'KHASH_INIT'\u001b[0m\r\n",
        "        KHASH_INIT2(name, static kh_inline, khkey_t, khval_t, kh_is_map, __hash_func, __hash_equal)\r\n",
        "\u001b[0;1;32m        ^\r\n",
        "\u001b[0m\u001b[1m./htslib/khash.h:355:2: \u001b[0m\u001b[0;1;30mnote: \u001b[0mexpanded from macro 'KHASH_INIT2'\u001b[0m\r\n",
        "        __KHASH_IMPL(name, SCOPE, khkey_t, khval_t, kh_is_map, __hash_func, __hash_equal)\r\n",
        "\u001b[0;1;32m        ^\r\n",
        "\u001b[0m\u001b[1m./htslib/khash.h:215:13: \u001b[0m\u001b[0;1;30mnote: \u001b[0mexpanded from macro '__KHASH_IMPL'\u001b[0m\r\n",
        "        SCOPE void kh_clear_##name(kh_##name##_t *h)                                            \\\r\n",
        "\u001b[0;1;32m                   ^\r\n",
        "\u001b[0m\u001b[1m<scratch space>:202:1: \u001b[0m\u001b[0;1;30mnote: \u001b[0mexpanded from here\u001b[0m\r\n",
        "kh_clear_s\r\n",
        "\u001b[0;1;32m^\r\n",
        "\u001b[0m\u001b[1mfaidx.c:42:1: \u001b[0m\u001b[0;1;35mwarning: \u001b[0m\u001b[1munused function 'kh_del_s' [-Wunused-function]\u001b[0m\r\n",
        "\u001b[1m./htslib/khash.h:617:2: \u001b[0m\u001b[0;1;30mnote: \u001b[0mexpanded from macro 'KHASH_MAP_INIT_STR'\u001b[0m\r\n",
        "        KHASH_INIT(name, kh_cstr_t, khval_t, 1, kh_str_hash_func, kh_str_hash_equal)\r\n",
        "\u001b[0;1;32m        ^\r\n",
        "\u001b[0m\u001b[1m./htslib/khash.h:358:2: \u001b[0m\u001b[0;1;30mnote: \u001b[0mexpanded from macro 'KHASH_INIT'\u001b[0m\r\n",
        "        KHASH_INIT2(name, static kh_inline, khkey_t, khval_t, kh_is_map, __hash_func, __hash_equal)\r\n",
        "\u001b[0;1;32m        ^\r\n",
        "\u001b[0m\u001b[1m./htslib/khash.h:355:2: \u001b[0m\u001b[0;1;30mnote: \u001b[0mexpanded from macro 'KHASH_INIT2'\u001b[0m\r\n",
        "        __KHASH_IMPL(name, SCOPE, khkey_t, khval_t, kh_is_map, __hash_func, __hash_equal)\r\n",
        "\u001b[0;1;32m        ^\r\n",
        "\u001b[0m\u001b[1m./htslib/khash.h:341:13: \u001b[0m\u001b[0;1;30mnote: \u001b[0mexpanded from macro '__KHASH_IMPL'\u001b[0m\r\n",
        "        SCOPE void kh_del_##name(kh_##name##_t *h, khint_t x)                           \\\r\n",
        "\u001b[0;1;32m                   ^\r\n",
        "\u001b[0m\u001b[1m<scratch space>:216:1: \u001b[0m\u001b[0;1;30mnote: \u001b[0mexpanded from here\u001b[0m\r\n",
        "kh_del_s\r\n",
        "\u001b[0;1;32m^\r\n",
        "\u001b[0m"
       ]
      },
      {
       "output_type": "stream",
       "stream": "stdout",
       "text": [
        "2 warnings generated.\r\n",
        "gcc -g -Wall -O2 -I. -c -o hfile.o hfile.c\r\n"
       ]
      },
      {
       "output_type": "stream",
       "stream": "stdout",
       "text": [
        "gcc -g -Wall -O2 -I. -c -o hfile_net.o hfile_net.c\r\n"
       ]
      },
      {
       "output_type": "stream",
       "stream": "stdout",
       "text": [
        "echo '#define HTS_VERSION \"1.2.1\"' > version.h\r\n",
        "gcc -g -Wall -O2 -I. -c -o hts.o hts.c\r\n"
       ]
      },
      {
       "output_type": "stream",
       "stream": "stdout",
       "text": [
        "\u001b[1mhts.c:45:5: \u001b[0m\u001b[0;1;35mwarning: \u001b[0m\u001b[1munused function 'ks_getc' [-Wunused-function]\u001b[0m\r\n",
        "    KSTREAM_INIT2(, BGZF*, bgzf_read, 65536)\r\n",
        "\u001b[0;1;32m    ^\r\n",
        "\u001b[0m\u001b[1m./htslib/kseq.h:152:2: \u001b[0m\u001b[0;1;30mnote: \u001b[0mexpanded from macro 'KSTREAM_INIT2'\u001b[0m\r\n",
        "        __KS_INLINED(__read)\r\n",
        "\u001b[0;1;32m        ^\r\n",
        "\u001b[0m\u001b[1m./htslib/kseq.h:68:20: \u001b[0m\u001b[0;1;30mnote: \u001b[0mexpanded from macro '__KS_INLINED'\u001b[0m\r\n",
        "        static inline int ks_getc(kstream_t *ks) \\\r\n",
        "\u001b[0;1;32m                          ^\r\n",
        "\u001b[0m\u001b[1mhts.c:770:1: \u001b[0m\u001b[0;1;35mwarning: \u001b[0m\u001b[1munused function 'kh_clear_bin' [-Wunused-function]\u001b[0m\r\n",
        "KHASH_MAP_INIT_INT(bin, bins_t)\r\n",
        "\u001b[0;1;32m^\r\n",
        "\u001b[0m\u001b[1m./htslib/khash.h:586:2: \u001b[0m\u001b[0;1;30mnote: \u001b[0mexpanded from macro 'KHASH_MAP_INIT_INT'\u001b[0m\r\n",
        "        KHASH_INIT(name, khint32_t, khval_t, 1, kh_int_hash_func, kh_int_hash_equal)\r\n",
        "\u001b[0;1;32m        ^\r\n",
        "\u001b[0m\u001b[1m./htslib/khash.h:358:2: \u001b[0m\u001b[0;1;30mnote: \u001b[0mexpanded from macro 'KHASH_INIT'\u001b[0m\r\n",
        "        KHASH_INIT2(name, static kh_inline, khkey_t, khval_t, kh_is_map, __hash_func, __hash_equal)\r\n",
        "\u001b[0;1;32m        ^\r\n",
        "\u001b[0m\u001b[1m./htslib/khash.h:355:2: \u001b[0m\u001b[0;1;30mnote: \u001b[0mexpanded from macro 'KHASH_INIT2'\u001b[0m\r\n",
        "        __KHASH_IMPL(name, SCOPE, khkey_t, khval_t, kh_is_map, __hash_func, __hash_equal)\r\n",
        "\u001b[0;1;32m        ^\r\n",
        "\u001b[0m\u001b[1m./htslib/khash.h:215:13: \u001b[0m\u001b[0;1;30mnote: \u001b[0mexpanded from macro '__KHASH_IMPL'\u001b[0m\r\n",
        "        SCOPE void kh_clear_##name(kh_##name##_t *h)                                            \\\r\n",
        "\u001b[0;1;32m                   ^\r\n",
        "\u001b[0m\u001b[1m<scratch space>:221:1: \u001b[0m\u001b[0;1;30mnote: \u001b[0mexpanded from here\u001b[0m\r\n",
        "kh_clear_bin\r\n",
        "\u001b[0;1;32m^\r\n",
        "\u001b[0m"
       ]
      },
      {
       "output_type": "stream",
       "stream": "stdout",
       "text": [
        "2 warnings generated.\r\n",
        "gcc -g -Wall -O2 -I. -c -o regidx.o regidx.c\r\n"
       ]
      },
      {
       "output_type": "stream",
       "stream": "stdout",
       "text": [
        "gcc -g -Wall -O2 -I. -c -o sam.o sam.c\r\n"
       ]
      },
      {
       "output_type": "stream",
       "stream": "stdout",
       "text": [
        "\u001b[1msam.c:1420:1: \u001b[0m\u001b[0;1;35mwarning: \u001b[0m\u001b[1munused function 'kh_clear_olap_hash' [-Wunused-function]\u001b[0m\r\n",
        "KHASH_MAP_INIT_STR(olap_hash, lbnode_t *)\r\n",
        "\u001b[0;1;32m^\r\n",
        "\u001b[0m\u001b[1m./htslib/khash.h:617:2: \u001b[0m\u001b[0;1;30mnote: \u001b[0mexpanded from macro 'KHASH_MAP_INIT_STR'\u001b[0m\r\n",
        "        KHASH_INIT(name, kh_cstr_t, khval_t, 1, kh_str_hash_func, kh_str_hash_equal)\r\n",
        "\u001b[0;1;32m        ^\r\n",
        "\u001b[0m\u001b[1m./htslib/khash.h:358:2: \u001b[0m\u001b[0;1;30mnote: \u001b[0mexpanded from macro 'KHASH_INIT'\u001b[0m\r\n",
        "        KHASH_INIT2(name, static kh_inline, khkey_t, khval_t, kh_is_map, __hash_func, __hash_equal)\r\n",
        "\u001b[0;1;32m        ^\r\n",
        "\u001b[0m\u001b[1m./htslib/khash.h:355:2: \u001b[0m\u001b[0;1;30mnote: \u001b[0mexpanded from macro 'KHASH_INIT2'\u001b[0m\r\n",
        "        __KHASH_IMPL(name, SCOPE, khkey_t, khval_t, kh_is_map, __hash_func, __hash_equal)\r\n",
        "\u001b[0;1;32m        ^\r\n",
        "\u001b[0m\u001b[1m./htslib/khash.h:215:13: \u001b[0m\u001b[0;1;30mnote: \u001b[0mexpanded from macro '__KHASH_IMPL'\u001b[0m\r\n",
        "        SCOPE void kh_clear_##name(kh_##name##_t *h)                                            \\\r\n",
        "\u001b[0;1;32m                   ^\r\n",
        "\u001b[0m\u001b[1m<scratch space>:161:1: \u001b[0m\u001b[0;1;30mnote: \u001b[0mexpanded from here\u001b[0m\r\n",
        "kh_clear_olap_hash\r\n",
        "\u001b[0;1;32m^\r\n",
        "\u001b[0m"
       ]
      },
      {
       "output_type": "stream",
       "stream": "stdout",
       "text": [
        "1 warning generated.\r\n",
        "gcc -g -Wall -O2 -I. -c -o synced_bcf_reader.o synced_bcf_reader.c\r\n"
       ]
      },
      {
       "output_type": "stream",
       "stream": "stdout",
       "text": [
        "gcc -g -Wall -O2 -I. -c -o vcf_sweep.o vcf_sweep.c\r\n"
       ]
      },
      {
       "output_type": "stream",
       "stream": "stdout",
       "text": [
        "gcc -g -Wall -O2 -I. -c -o tbx.o tbx.c\r\n"
       ]
      },
      {
       "output_type": "stream",
       "stream": "stdout",
       "text": [
        "gcc -g -Wall -O2 -I. -c -o vcf.o vcf.c\r\n"
       ]
      },
      {
       "output_type": "stream",
       "stream": "stdout",
       "text": [
        "\u001b[1mvcf.c:42:1: \u001b[0m\u001b[0;1;35mwarning: \u001b[0m\u001b[1munused function 'kh_clear_vdict' [-Wunused-function]\u001b[0m\r\n",
        "KHASH_MAP_INIT_STR(vdict, bcf_idinfo_t)\r\n",
        "\u001b[0;1;32m^\r\n",
        "\u001b[0m\u001b[1m./htslib/khash.h:617:2: \u001b[0m\u001b[0;1;30mnote: \u001b[0mexpanded from macro 'KHASH_MAP_INIT_STR'\u001b[0m\r\n",
        "        KHASH_INIT(name, kh_cstr_t, khval_t, 1, kh_str_hash_func, kh_str_hash_equal)\r\n",
        "\u001b[0;1;32m        ^\r\n",
        "\u001b[0m\u001b[1m./htslib/khash.h:358:2: \u001b[0m\u001b[0;1;30mnote: \u001b[0mexpanded from macro 'KHASH_INIT'\u001b[0m\r\n",
        "        KHASH_INIT2(name, static kh_inline, khkey_t, khval_t, kh_is_map, __hash_func, __hash_equal)\r\n",
        "\u001b[0;1;32m        ^\r\n",
        "\u001b[0m\u001b[1m./htslib/khash.h:355:2: \u001b[0m\u001b[0;1;30mnote: \u001b[0mexpanded from macro 'KHASH_INIT2'\u001b[0m\r\n",
        "        __KHASH_IMPL(name, SCOPE, khkey_t, khval_t, kh_is_map, __hash_func, __hash_equal)\r\n",
        "\u001b[0;1;32m        ^\r\n",
        "\u001b[0m\u001b[1m./htslib/khash.h:215:13: \u001b[0m\u001b[0;1;30mnote: \u001b[0mexpanded from macro '__KHASH_IMPL'\u001b[0m\r\n",
        "        SCOPE void kh_clear_##name(kh_##name##_t *h)                                            \\\r\n",
        "\u001b[0;1;32m                   ^\r\n",
        "\u001b[0m\u001b[1m<scratch space>:2:1: \u001b[0m\u001b[0;1;30mnote: \u001b[0mexpanded from here\u001b[0m\r\n",
        "kh_clear_vdict\r\n",
        "\u001b[0;1;32m^\r\n",
        "\u001b[0m\u001b[1mvcf.c:42:1: \u001b[0m\u001b[0;1;35mwarning: \u001b[0m\u001b[1munused function 'kh_del_vdict' [-Wunused-function]\u001b[0m\r\n",
        "\u001b[1m./htslib/khash.h:617:2: \u001b[0m\u001b[0;1;30mnote: \u001b[0mexpanded from macro 'KHASH_MAP_INIT_STR'\u001b[0m\r\n",
        "        KHASH_INIT(name, kh_cstr_t, khval_t, 1, kh_str_hash_func, kh_str_hash_equal)\r\n",
        "\u001b[0;1;32m        ^\r\n",
        "\u001b[0m\u001b[1m./htslib/khash.h:358:2: \u001b[0m\u001b[0;1;30mnote: \u001b[0mexpanded from macro 'KHASH_INIT'\u001b[0m\r\n",
        "        KHASH_INIT2(name, static kh_inline, khkey_t, khval_t, kh_is_map, __hash_func, __hash_equal)\r\n",
        "\u001b[0;1;32m        ^\r\n",
        "\u001b[0m\u001b[1m./htslib/khash.h:355:2: \u001b[0m\u001b[0;1;30mnote: \u001b[0mexpanded from macro 'KHASH_INIT2'\u001b[0m\r\n",
        "        __KHASH_IMPL(name, SCOPE, khkey_t, khval_t, kh_is_map, __hash_func, __hash_equal)\r\n",
        "\u001b[0;1;32m        ^\r\n",
        "\u001b[0m\u001b[1m./htslib/khash.h:341:13: \u001b[0m\u001b[0;1;30mnote: \u001b[0mexpanded from macro '__KHASH_IMPL'\u001b[0m\r\n",
        "        SCOPE void kh_del_##name(kh_##name##_t *h, khint_t x)                           \\\r\n",
        "\u001b[0;1;32m                   ^\r\n",
        "\u001b[0m\u001b[1m<scratch space>:16:1: \u001b[0m\u001b[0;1;30mnote: \u001b[0mexpanded from here\u001b[0m\r\n",
        "kh_del_vdict\r\n",
        "\u001b[0;1;32m^\r\n",
        "\u001b[0m"
       ]
      },
      {
       "output_type": "stream",
       "stream": "stdout",
       "text": [
        "2 warnings generated.\r\n",
        "gcc -g -Wall -O2 -I. -c -o vcfutils.o vcfutils.c\r\n"
       ]
      },
      {
       "output_type": "stream",
       "stream": "stdout",
       "text": [
        "gcc -g -Wall -O2 -I. -c -o cram/cram_codecs.o cram/cram_codecs.c\r\n"
       ]
      },
      {
       "output_type": "stream",
       "stream": "stdout",
       "text": [
        "gcc -g -Wall -O2 -I. -c -o cram/cram_decode.o cram/cram_decode.c\r\n"
       ]
      },
      {
       "output_type": "stream",
       "stream": "stdout",
       "text": [
        "gcc -g -Wall -O2 -I. -c -o cram/cram_encode.o cram/cram_encode.c\r\n"
       ]
      },
      {
       "output_type": "stream",
       "stream": "stdout",
       "text": [
        "gcc -g -Wall -O2 -I. -c -o cram/cram_index.o cram/cram_index.c\r\n"
       ]
      },
      {
       "output_type": "stream",
       "stream": "stdout",
       "text": [
        "gcc -g -Wall -O2 -I. -c -o cram/cram_io.o cram/cram_io.c\r\n"
       ]
      },
      {
       "output_type": "stream",
       "stream": "stdout",
       "text": [
        "gcc -g -Wall -O2 -I. -c -o cram/cram_samtools.o cram/cram_samtools.c\r\n"
       ]
      },
      {
       "output_type": "stream",
       "stream": "stdout",
       "text": [
        "gcc -g -Wall -O2 -I. -c -o cram/cram_stats.o cram/cram_stats.c\r\n"
       ]
      },
      {
       "output_type": "stream",
       "stream": "stdout",
       "text": [
        "gcc -g -Wall -O2 -I. -c -o cram/files.o cram/files.c\r\n"
       ]
      },
      {
       "output_type": "stream",
       "stream": "stdout",
       "text": [
        "gcc -g -Wall -O2 -I. -c -o cram/mFILE.o cram/mFILE.c\r\n"
       ]
      },
      {
       "output_type": "stream",
       "stream": "stdout",
       "text": [
        "gcc -g -Wall -O2 -I. -c -o cram/md5.o cram/md5.c\r\n"
       ]
      },
      {
       "output_type": "stream",
       "stream": "stdout",
       "text": [
        "gcc -g -Wall -O2 -I. -c -o cram/open_trace_file.o cram/open_trace_file.c\r\n"
       ]
      },
      {
       "output_type": "stream",
       "stream": "stdout",
       "text": [
        "gcc -g -Wall -O2 -I. -c -o cram/pooled_alloc.o cram/pooled_alloc.c\r\n"
       ]
      },
      {
       "output_type": "stream",
       "stream": "stdout",
       "text": [
        "gcc -g -Wall -O2 -I. -c -o cram/rANS_static.o cram/rANS_static.c\r\n"
       ]
      },
      {
       "output_type": "stream",
       "stream": "stdout",
       "text": [
        "gcc -g -Wall -O2 -I. -c -o cram/sam_header.o cram/sam_header.c\r\n"
       ]
      },
      {
       "output_type": "stream",
       "stream": "stdout",
       "text": [
        "gcc -g -Wall -O2 -I. -c -o cram/string_alloc.o cram/string_alloc.c\r\n"
       ]
      },
      {
       "output_type": "stream",
       "stream": "stdout",
       "text": [
        "gcc -g -Wall -O2 -I. -c -o cram/thread_pool.o cram/thread_pool.c\r\n"
       ]
      },
      {
       "output_type": "stream",
       "stream": "stdout",
       "text": [
        "gcc -g -Wall -O2 -I. -c -o cram/vlen.o cram/vlen.c\r\n"
       ]
      },
      {
       "output_type": "stream",
       "stream": "stdout",
       "text": [
        "gcc -g -Wall -O2 -I. -c -o cram/zfio.o cram/zfio.c\r\n"
       ]
      },
      {
       "output_type": "stream",
       "stream": "stdout",
       "text": [
        "ar -rc libhts.a kfunc.o knetfile.o kstring.o bgzf.o faidx.o hfile.o hfile_net.o hts.o regidx.o sam.o synced_bcf_reader.o vcf_sweep.o tbx.o vcf.o vcfutils.o cram/cram_codecs.o cram/cram_decode.o cram/cram_encode.o cram/cram_index.o cram/cram_io.o cram/cram_samtools.o cram/cram_stats.o cram/files.o cram/mFILE.o cram/md5.o cram/open_trace_file.o cram/pooled_alloc.o cram/rANS_static.o cram/sam_header.o cram/string_alloc.o cram/thread_pool.o cram/vlen.o cram/zfio.o\r\n"
       ]
      },
      {
       "output_type": "stream",
       "stream": "stdout",
       "text": [
        "ranlib libhts.a\r\n"
       ]
      },
      {
       "output_type": "stream",
       "stream": "stdout",
       "text": [
        "echo '#define BCFTOOLS_VERSION \"1.2\"' > version.h\r\n",
        "gcc -c -g -Wall -Wc++-compat -O2  -I. -Ihtslib-1.2.1 main.c -o main.o\r\n"
       ]
      },
      {
       "output_type": "stream",
       "stream": "stdout",
       "text": [
        "gcc -c -g -Wall -Wc++-compat -O2  -I. -Ihtslib-1.2.1 vcfindex.c -o vcfindex.o\r\n"
       ]
      },
      {
       "output_type": "stream",
       "stream": "stdout",
       "text": [
        "gcc -c -g -Wall -Wc++-compat -O2  -I. -Ihtslib-1.2.1 tabix.c -o tabix.o\r\n"
       ]
      },
      {
       "output_type": "stream",
       "stream": "stdout",
       "text": [
        "gcc -c -g -Wall -Wc++-compat -O2  -I. -Ihtslib-1.2.1 vcfstats.c -o vcfstats.o\r\n"
       ]
      },
      {
       "output_type": "stream",
       "stream": "stdout",
       "text": [
        "gcc -c -g -Wall -Wc++-compat -O2  -I. -Ihtslib-1.2.1 vcfisec.c -o vcfisec.o\r\n"
       ]
      },
      {
       "output_type": "stream",
       "stream": "stdout",
       "text": [
        "gcc -c -g -Wall -Wc++-compat -O2  -I. -Ihtslib-1.2.1 vcfmerge.c -o vcfmerge.o\r\n"
       ]
      },
      {
       "output_type": "stream",
       "stream": "stdout",
       "text": [
        "\u001b[1mvcfmerge.c:39:1: \u001b[0m\u001b[0;1;35mwarning: \u001b[0m\u001b[1munused function 'kh_del_strdict' [-Wunused-function]\u001b[0m\r\n",
        "KHASH_MAP_INIT_STR(strdict, int)\r\n",
        "\u001b[0;1;32m^\r\n",
        "\u001b[0m\u001b[1mhtslib-1.2.1/htslib/khash.h:617:2: \u001b[0m\u001b[0;1;30mnote: \u001b[0mexpanded from macro 'KHASH_MAP_INIT_STR'\u001b[0m\r\n",
        "        KHASH_INIT(name, kh_cstr_t, khval_t, 1, kh_str_hash_func, kh_str_hash_equal)\r\n",
        "\u001b[0;1;32m        ^\r\n",
        "\u001b[0m\u001b[1mhtslib-1.2.1/htslib/khash.h:358:2: \u001b[0m\u001b[0;1;30mnote: \u001b[0mexpanded from macro 'KHASH_INIT'\u001b[0m\r\n",
        "        KHASH_INIT2(name, static kh_inline, khkey_t, khval_t, kh_is_map, __hash_func, __hash_equal)\r\n",
        "\u001b[0;1;32m        ^\r\n",
        "\u001b[0m\u001b[1mhtslib-1.2.1/htslib/khash.h:355:2: \u001b[0m\u001b[0;1;30mnote: \u001b[0mexpanded from macro 'KHASH_INIT2'\u001b[0m\r\n",
        "        __KHASH_IMPL(name, SCOPE, khkey_t, khval_t, kh_is_map, __hash_func, __hash_equal)\r\n",
        "\u001b[0;1;32m        ^\r\n",
        "\u001b[0m\u001b[1mhtslib-1.2.1/htslib/khash.h:341:13: \u001b[0m\u001b[0;1;30mnote: \u001b[0mexpanded from macro '__KHASH_IMPL'\u001b[0m\r\n",
        "        SCOPE void kh_del_##name(kh_##name##_t *h, khint_t x)                           \\\r\n",
        "\u001b[0;1;32m                   ^\r\n",
        "\u001b[0m\u001b[1m<scratch space>:44:1: \u001b[0m\u001b[0;1;30mnote: \u001b[0mexpanded from here\u001b[0m\r\n",
        "kh_del_strdict\r\n",
        "\u001b[0;1;32m^\r\n",
        "\u001b[0m"
       ]
      },
      {
       "output_type": "stream",
       "stream": "stdout",
       "text": [
        "1 warning generated.\r\n",
        "gcc -c -g -Wall -Wc++-compat -O2  -I. -Ihtslib-1.2.1 vcfquery.c -o vcfquery.o\r\n"
       ]
      },
      {
       "output_type": "stream",
       "stream": "stdout",
       "text": [
        "gcc -c -g -Wall -Wc++-compat -O2  -I. -Ihtslib-1.2.1 vcffilter.c -o vcffilter.o\r\n"
       ]
      },
      {
       "output_type": "stream",
       "stream": "stdout",
       "text": [
        "gcc -c -g -Wall -Wc++-compat -O2  -I. -Ihtslib-1.2.1 filter.c -o filter.o\r\n"
       ]
      },
      {
       "output_type": "stream",
       "stream": "stdout",
       "text": [
        "gcc -c -g -Wall -Wc++-compat -O2  -I. -Ihtslib-1.2.1 vcfsom.c -o vcfsom.o\r\n"
       ]
      },
      {
       "output_type": "stream",
       "stream": "stdout",
       "text": [
        "gcc -c -g -Wall -Wc++-compat -O2  -I. -Ihtslib-1.2.1 vcfnorm.c -o vcfnorm.o\r\n"
       ]
      },
      {
       "output_type": "stream",
       "stream": "stdout",
       "text": [
        "gcc -c -g -Wall -Wc++-compat -O2  -I. -Ihtslib-1.2.1 vcfgtcheck.c -o vcfgtcheck.o\r\n"
       ]
      },
      {
       "output_type": "stream",
       "stream": "stdout",
       "text": [
        "gcc -c -g -Wall -Wc++-compat -O2  -I. -Ihtslib-1.2.1 vcfview.c -o vcfview.o\r\n"
       ]
      },
      {
       "output_type": "stream",
       "stream": "stdout",
       "text": [
        "gcc -c -g -Wall -Wc++-compat -O2  -I. -Ihtslib-1.2.1 vcfannotate.c -o vcfannotate.o\r\n"
       ]
      },
      {
       "output_type": "stream",
       "stream": "stdout",
       "text": [
        "gcc -c -g -Wall -Wc++-compat -O2  -I. -Ihtslib-1.2.1 vcfroh.c -o vcfroh.o\r\n"
       ]
      },
      {
       "output_type": "stream",
       "stream": "stdout",
       "text": [
        "gcc -c -g -Wall -Wc++-compat -O2  -I. -Ihtslib-1.2.1 vcfconcat.c -o vcfconcat.o\r\n"
       ]
      },
      {
       "output_type": "stream",
       "stream": "stdout",
       "text": [
        "gcc -c -g -Wall -Wc++-compat -O2  -I. -Ihtslib-1.2.1 vcfcall.c -o vcfcall.o\r\n"
       ]
      },
      {
       "output_type": "stream",
       "stream": "stdout",
       "text": [
        "gcc -c -g -Wall -Wc++-compat -O2  -I. -Ihtslib-1.2.1 mcall.c -o mcall.o\r\n"
       ]
      },
      {
       "output_type": "stream",
       "stream": "stdout",
       "text": [
        "\u001b[1mmcall.c:541:22: \u001b[0m\u001b[0;1;35mwarning: \u001b[0m\u001b[1munused function 'logsumexp' [-Wunused-function]\u001b[0m\r\n",
        "static inline double logsumexp(double *vals, int nvals)\r\n",
        "\u001b[0;1;32m                     ^\r\n",
        "\u001b[0m"
       ]
      },
      {
       "output_type": "stream",
       "stream": "stdout",
       "text": [
        "1 warning generated.\r\n"
       ]
      },
      {
       "output_type": "stream",
       "stream": "stdout",
       "text": [
        "gcc -c -g -Wall -Wc++-compat -O2  -I. -Ihtslib-1.2.1 vcmp.c -o vcmp.o\r\n"
       ]
      },
      {
       "output_type": "stream",
       "stream": "stdout",
       "text": [
        "gcc -c -g -Wall -Wc++-compat -O2  -I. -Ihtslib-1.2.1 gvcf.c -o gvcf.o\r\n"
       ]
      },
      {
       "output_type": "stream",
       "stream": "stdout",
       "text": [
        "gcc -c -g -Wall -Wc++-compat -O2  -I. -Ihtslib-1.2.1 reheader.c -o reheader.o\r\n"
       ]
      },
      {
       "output_type": "stream",
       "stream": "stdout",
       "text": [
        "gcc -c -g -Wall -Wc++-compat -O2  -I. -Ihtslib-1.2.1 convert.c -o convert.o\r\n"
       ]
      },
      {
       "output_type": "stream",
       "stream": "stdout",
       "text": [
        "gcc -c -g -Wall -Wc++-compat -O2  -I. -Ihtslib-1.2.1 vcfconvert.c -o vcfconvert.o\r\n"
       ]
      },
      {
       "output_type": "stream",
       "stream": "stdout",
       "text": [
        "gcc -c -g -Wall -Wc++-compat -O2  -I. -Ihtslib-1.2.1 tsv2vcf.c -o tsv2vcf.o\r\n"
       ]
      },
      {
       "output_type": "stream",
       "stream": "stdout",
       "text": [
        "gcc -c -g -Wall -Wc++-compat -O2  -I. -Ihtslib-1.2.1 vcfcnv.c -o vcfcnv.o\r\n"
       ]
      },
      {
       "output_type": "stream",
       "stream": "stdout",
       "text": [
        "gcc -c -g -Wall -Wc++-compat -O2  -I. -Ihtslib-1.2.1 HMM.c -o HMM.o\r\n"
       ]
      },
      {
       "output_type": "stream",
       "stream": "stdout",
       "text": [
        "gcc -c -g -Wall -Wc++-compat -O2  -I. -Ihtslib-1.2.1 vcfplugin.c -o vcfplugin.o\r\n"
       ]
      },
      {
       "output_type": "stream",
       "stream": "stdout",
       "text": [
        "gcc -c -g -Wall -Wc++-compat -O2  -I. -Ihtslib-1.2.1 consensus.c -o consensus.o\r\n"
       ]
      },
      {
       "output_type": "stream",
       "stream": "stdout",
       "text": [
        "gcc -c -g -Wall -Wc++-compat -O2  -I. -Ihtslib-1.2.1 ploidy.c -o ploidy.o\r\n"
       ]
      },
      {
       "output_type": "stream",
       "stream": "stdout",
       "text": [
        "gcc -c -g -Wall -Wc++-compat -O2  -I. -Ihtslib-1.2.1 version.c -o version.o\r\n"
       ]
      },
      {
       "output_type": "stream",
       "stream": "stdout",
       "text": [
        "gcc -c -g -Wall -Wc++-compat -O2  -I. -Ihtslib-1.2.1 ccall.c -o ccall.o\r\n"
       ]
      },
      {
       "output_type": "stream",
       "stream": "stdout",
       "text": [
        "gcc -c -g -Wall -Wc++-compat -O2  -I. -Ihtslib-1.2.1 em.c -o em.o\r\n"
       ]
      },
      {
       "output_type": "stream",
       "stream": "stdout",
       "text": [
        "gcc -c -g -Wall -Wc++-compat -O2  -I. -Ihtslib-1.2.1 prob1.c -o prob1.o\r\n"
       ]
      },
      {
       "output_type": "stream",
       "stream": "stdout",
       "text": [
        "gcc -c -g -Wall -Wc++-compat -O2  -I. -Ihtslib-1.2.1 kmin.c -o kmin.o\r\n"
       ]
      },
      {
       "output_type": "stream",
       "stream": "stdout",
       "text": [
        "gcc -g -Wall -Wc++-compat -O2 -o bcftools main.o vcfindex.o tabix.o vcfstats.o vcfisec.o vcfmerge.o vcfquery.o vcffilter.o filter.o vcfsom.o vcfnorm.o vcfgtcheck.o vcfview.o vcfannotate.o vcfroh.o vcfconcat.o vcfcall.o mcall.o vcmp.o gvcf.o reheader.o convert.o vcfconvert.o tsv2vcf.o vcfcnv.o HMM.o vcfplugin.o consensus.o ploidy.o version.o ccall.o em.o prob1.o kmin.o  htslib-1.2.1/libhts.a -lpthread -lz -lm -ldl \r\n"
       ]
      },
      {
       "output_type": "stream",
       "stream": "stdout",
       "text": [
        "gcc -c -g -Wall -Wc++-compat -O2  -I. -Ihtslib-1.2.1 test/test-rbuf.c -o test/test-rbuf.o\r\n"
       ]
      },
      {
       "output_type": "stream",
       "stream": "stdout",
       "text": [
        "gcc -g -Wall -Wc++-compat -O2 -o test/test-rbuf -lm -ldl test/test-rbuf.o\r\n"
       ]
      },
      {
       "output_type": "stream",
       "stream": "stdout",
       "text": [
        "cd htslib-1.2.1 && /Library/Developer/CommandLineTools/usr/bin/make lib-shared\r\n",
        "gcc -dynamiclib -install_name /usr/local/lib/libhts.1.dylib -current_version 1.2.1 -compatibility_version 1  -o libhts.dylib kfunc.o knetfile.o kstring.o bgzf.o faidx.o hfile.o hfile_net.o hts.o regidx.o sam.o synced_bcf_reader.o vcf_sweep.o tbx.o vcf.o vcfutils.o cram/cram_codecs.o cram/cram_decode.o cram/cram_encode.o cram/cram_index.o cram/cram_io.o cram/cram_samtools.o cram/cram_stats.o cram/files.o cram/mFILE.o cram/md5.o cram/open_trace_file.o cram/pooled_alloc.o cram/rANS_static.o cram/sam_header.o cram/string_alloc.o cram/thread_pool.o cram/vlen.o cram/zfio.o  -lz\r\n"
       ]
      },
      {
       "output_type": "stream",
       "stream": "stdout",
       "text": [
        "ln -sf libhts.dylib libhts.1.dylib\r\n",
        "gcc -g -Wall -Wc++-compat -O2 -I. -Ihtslib-1.2.1 -fPIC -shared -o plugins/counts.so version.c plugins/counts.c -Lhtslib-1.2.1 -lhts\r\n"
       ]
      },
      {
       "output_type": "stream",
       "stream": "stdout",
       "text": [
        "gcc -g -Wall -Wc++-compat -O2 -I. -Ihtslib-1.2.1 -fPIC -shared -o plugins/dosage.so version.c plugins/dosage.c -Lhtslib-1.2.1 -lhts\r\n"
       ]
      },
      {
       "output_type": "stream",
       "stream": "stdout",
       "text": [
        "gcc -g -Wall -Wc++-compat -O2 -I. -Ihtslib-1.2.1 -fPIC -shared -o plugins/fill-AN-AC.so version.c plugins/fill-AN-AC.c -Lhtslib-1.2.1 -lhts\r\n"
       ]
      },
      {
       "output_type": "stream",
       "stream": "stdout",
       "text": [
        "gcc -g -Wall -Wc++-compat -O2 -I. -Ihtslib-1.2.1 -fPIC -shared -o plugins/fixploidy.so ploidy.c version.c plugins/fixploidy.c -Lhtslib-1.2.1 -lhts\r\n"
       ]
      },
      {
       "output_type": "stream",
       "stream": "stdout",
       "text": [
        "gcc -g -Wall -Wc++-compat -O2 -I. -Ihtslib-1.2.1 -fPIC -shared -o plugins/frameshifts.so version.c plugins/frameshifts.c -Lhtslib-1.2.1 -lhts\r\n"
       ]
      },
      {
       "output_type": "stream",
       "stream": "stdout",
       "text": [
        "gcc -g -Wall -Wc++-compat -O2 -I. -Ihtslib-1.2.1 -fPIC -shared -o plugins/missing2ref.so version.c plugins/missing2ref.c -Lhtslib-1.2.1 -lhts\r\n"
       ]
      },
      {
       "output_type": "stream",
       "stream": "stdout",
       "text": [
        "gcc -g -Wall -Wc++-compat -O2 -I. -Ihtslib-1.2.1 -fPIC -shared -o plugins/tag2tag.so version.c plugins/tag2tag.c -Lhtslib-1.2.1 -lhts\r\n"
       ]
      },
      {
       "output_type": "stream",
       "stream": "stdout",
       "text": [
        "gcc -g -Wall -Wc++-compat -O2 -I. -Ihtslib-1.2.1 -fPIC -shared -o plugins/vcf2sex.so ploidy.c version.c plugins/vcf2sex.c -Lhtslib-1.2.1 -lhts\r\n"
       ]
      },
      {
       "output_type": "stream",
       "stream": "stdout",
       "text": [
        "/Users/rpearson/src/github/malariagen/methods-dev/pf3k_techbm/notebooks\n"
       ]
      }
     ],
     "prompt_number": 126
    },
    {
     "cell_type": "code",
     "collapsed": false,
     "input": [
      "# Add path to .profile\n",
      "!echo \"\" >> {profile_fn}\n",
      "!echo \"# added by Ipython notebook 20150603_install_GATK.ipynb\" >> {profile_fn}\n",
      "!echo \"export PATH=\\\"/Users/rpearson/src/github/malariagen/methods-dev/pf3k_techbm/opt/bcftools/bcftools-1.2:\\$$PATH\\\"\" >> {profile_fn}\n"
     ],
     "language": "python",
     "metadata": {},
     "outputs": [],
     "prompt_number": 127
    },
    {
     "cell_type": "code",
     "collapsed": false,
     "input": [
      "# Check bcftools works\n",
      "!{bcftools_exe}"
     ],
     "language": "python",
     "metadata": {},
     "outputs": [
      {
       "output_type": "stream",
       "stream": "stdout",
       "text": [
        "\r\n",
        "Program: bcftools (Tools for variant calling and manipulating VCFs and BCFs)\r\n",
        "Version: 1.2 (using htslib 1.2.1)\r\n",
        "\r\n",
        "Usage:   bcftools <command> <argument>\r\n",
        "\r\n",
        "Commands:\r\n",
        "\r\n",
        " -- Indexing\r\n",
        "    index        index VCF/BCF files\r\n",
        "\r\n",
        " -- VCF/BCF manipulation\r\n",
        "    annotate     annotate and edit VCF/BCF files\r\n",
        "    concat       concatenate VCF/BCF files from the same set of samples\r\n",
        "    convert      convert VCF/BCF files to different formats and back\r\n",
        "    isec         intersections of VCF/BCF files\r\n",
        "    merge        merge VCF/BCF files files from non-overlapping sample sets\r\n",
        "    norm         left-align and normalize indels\r\n",
        "    plugin       user-defined plugins\r\n",
        "    query        transform VCF/BCF into user-defined formats\r\n",
        "    reheader     modify VCF/BCF header, change sample names\r\n",
        "    view         VCF/BCF conversion, view, subset and filter VCF/BCF files\r\n",
        "\r\n",
        " -- VCF/BCF analysis\r\n",
        "    call         SNP/indel calling\r\n",
        "    consensus    create consensus sequence by applying VCF variants\r\n",
        "    filter       filter VCF/BCF files using fixed thresholds\r\n",
        "    gtcheck      check sample concordance, detect sample swaps and contamination\r\n",
        "    roh          identify runs of autozygosity (HMM)\r\n",
        "    stats        produce VCF/BCF stats\r\n",
        "\r\n",
        " Most commands accept VCF, bgzipped VCF, and BCF with the file type detected\r\n",
        " automatically even when streaming from a pipe. Indexed VCF and BCF will work\r\n",
        " in all situations. Un-indexed VCF and BCF and streams will work in most but\r\n",
        " not all situations.\r\n",
        "\r\n"
       ]
      }
     ],
     "prompt_number": 128
    },
    {
     "cell_type": "heading",
     "level": 1,
     "metadata": {},
     "source": [
      "Install GATK"
     ]
    },
    {
     "cell_type": "code",
     "collapsed": false,
     "input": [
      "!cp /Users/rpearson/Downloads/GenomeAnalysisTK-3.4-0.tar.bz2 {gatk_dir}\n",
      "%cd {gatk_dir}\n",
      "!tar xjf GenomeAnalysisTK-3.4-0.tar.bz2\n",
      "# Add environment vairable to .profile\n",
      "!echo \"\" >> {profile_fn}\n",
      "!echo \"# added by Ipython notebook 20150603_install_GATK.ipynb\" >> {profile_fn}\n",
      "!echo \"export GATK=\\\"/Users/rpearson/src/github/malariagen/methods-dev/pf3k_techbm/opt/gatk/GenomeAnalysisTK.jar\\\"\" >> {profile_fn}\n",
      "%cd ../../notebooks/\n"
     ],
     "language": "python",
     "metadata": {},
     "outputs": [
      {
       "output_type": "stream",
       "stream": "stdout",
       "text": [
        "/Users/rpearson/src/github/malariagen/methods-dev/pf3k_techbm/opt/gatk\n"
       ]
      },
      {
       "output_type": "stream",
       "stream": "stdout",
       "text": [
        "/Users/rpearson/src/github/malariagen/methods-dev/pf3k_techbm/notebooks\n"
       ]
      }
     ],
     "prompt_number": 118
    },
    {
     "cell_type": "code",
     "collapsed": false,
     "input": [
      "# Test GATK\n",
      "!{gatk_exe} -T VariantsToAllelicPrimitives -h"
     ],
     "language": "python",
     "metadata": {},
     "outputs": [
      {
       "output_type": "stream",
       "stream": "stdout",
       "text": [
        "--------------------------------------------------------------------------------\r\n",
        "The Genome Analysis Toolkit (GATK) v3.4-0-g7e26428, Compiled 2015/05/15 03:25:41\r\n",
        "Copyright (c) 2010 The Broad Institute\r\n",
        "For support and documentation go to http://www.broadinstitute.org/gatk\r\n",
        "--------------------------------------------------------------------------------\r\n",
        "--------------------------------------------------------------------------------\r\n"
       ]
      },
      {
       "output_type": "stream",
       "stream": "stdout",
       "text": [
        "usage: java -jar GenomeAnalysisTK.jar -T <analysis_type> [-args <arg_file>] [-I <input_file>] [--showFullBamList] [-rbs \r\n",
        "       <read_buffer_size>] [-et <phone_home>] [-K <gatk_key>] [-tag <tag>] [-rf <read_filter>] [-drf <disable_read_filter>] [-L \r\n",
        "       <intervals>] [-XL <excludeIntervals>] [-isr <interval_set_rule>] [-im <interval_merging>] [-ip <interval_padding>] [-R \r\n",
        "       <reference_sequence>] [-ndrs] [-maxRuntime <maxRuntime>] [-maxRuntimeUnits <maxRuntimeUnits>] [-dt <downsampling_type>] \r\n",
        "       [-dfrac <downsample_to_fraction>] [-dcov <downsample_to_coverage>] [-baq <baq>] [-baqGOP <baqGapOpenPenalty>] [-fixNDN] \r\n",
        "       [-fixMisencodedQuals] [-allowPotentiallyMisencodedQuals] [-OQ] [-DBQ <defaultBaseQualities>] [-PF <performanceLog>] \r\n",
        "       [-BQSR <BQSR>] [-qq <quantize_quals>] [-DIQ] [-EOQ] [-preserveQ <preserve_qscores_less_than>] [-globalQScorePrior \r\n",
        "       <globalQScorePrior>] [-S <validation_strictness>] [-rpr] [-kpr] [-sample_rename_mapping_file \r\n",
        "       <sample_rename_mapping_file>] [-U <unsafe>] [-disable_auto_index_creation_and_locking_when_reading_rods] [-sites_only] \r\n",
        "       [-writeFullFormat] [-compress <bam_compression>] [-simplifyBAM] [--disable_bam_indexing] [--generate_md5] [-nt \r\n",
        "       <num_threads>] [-nct <num_cpu_threads_per_data_thread>] [-mte] [-bfh <num_bam_file_handles>] [-rgbl \r\n",
        "       <read_group_black_list>] [-ped <pedigree>] [-pedString <pedigreeString>] [-pedValidationType <pedigreeValidationType>] \r\n",
        "       [-variant_index_type <variant_index_type>] [-variant_index_parameter <variant_index_parameter>] [-l <logging_level>] \r\n",
        "       [-log <log_to_file>] [-h] [-version] [-filterRNC] [-filterMBQ] [-filterNoBases] -V <variant> [-o <out>]\r\n",
        "\r\n",
        " -T,--analysis_type <analysis_type>                                                       Name of the tool to run\r\n",
        " -args,--arg_file <arg_file>                                                              Reads arguments from the \r\n",
        "                                                                                          specified file\r\n",
        " -I,--input_file <input_file>                                                             Input file containing sequence \r\n",
        "                                                                                          data (SAM or BAM)\r\n",
        " --showFullBamList                                                                        Emit a log entry (level INFO) \r\n",
        "                                                                                          containing the full list of \r\n",
        "                                                                                          sequence data files to be \r\n",
        "                                                                                          included in the analysis \r\n",
        "                                                                                          (including files inside \r\n",
        "                                                                                          .bam.list files).\r\n",
        " -rbs,--read_buffer_size <read_buffer_size>                                               Number of reads per SAM file \r\n",
        "                                                                                          to buffer in memory\r\n",
        " -et,--phone_home <phone_home>                                                            Run reporting mode (NO_ET|AWS|\r\n",
        "                                                                                          STDOUT)\r\n",
        " -K,--gatk_key <gatk_key>                                                                 GATK key file required to run \r\n",
        "                                                                                          with -et NO_ET\r\n",
        " -tag,--tag <tag>                                                                         Tag to identify this GATK run \r\n",
        "                                                                                          as part of a group of runs\r\n",
        " -rf,--read_filter <read_filter>                                                          Filters to apply to reads \r\n",
        "                                                                                          before analysis\r\n",
        " -drf,--disable_read_filter <disable_read_filter>                                         Read filters to disable\r\n",
        " -L,--intervals <intervals>                                                               One or more genomic intervals \r\n",
        "                                                                                          over which to operate\r\n",
        " -XL,--excludeIntervals <excludeIntervals>                                                One or more genomic intervals \r\n",
        "                                                                                          to exclude from processing\r\n",
        " -isr,--interval_set_rule <interval_set_rule>                                             Set merging approach to use \r\n",
        "                                                                                          for combining interval inputs \r\n",
        "                                                                                          (UNION|INTERSECTION)\r\n",
        " -im,--interval_merging <interval_merging>                                                Interval merging rule for \r\n",
        "                                                                                          abutting intervals (ALL|\r\n",
        "                                                                                          OVERLAPPING_ONLY)\r\n",
        " -ip,--interval_padding <interval_padding>                                                Amount of padding (in bp) to \r\n",
        "                                                                                          add to each interval\r\n",
        " -R,--reference_sequence <reference_sequence>                                             Reference sequence file\r\n",
        " -ndrs,--nonDeterministicRandomSeed                                                       Use a non-deterministic random \r\n",
        "                                                                                          seed\r\n",
        " -maxRuntime,--maxRuntime <maxRuntime>                                                    Stop execution cleanly as soon \r\n",
        "                                                                                          as maxRuntime has been reached\r\n",
        " -maxRuntimeUnits,--maxRuntimeUnits <maxRuntimeUnits>                                     Unit of time used by \r\n",
        "                                                                                          maxRuntime (NANOSECONDS|\r\n",
        "                                                                                          MICROSECONDS|MILLISECONDS|\r\n",
        "                                                                                          SECONDS|MINUTES|HOURS|DAYS)\r\n",
        " -dt,--downsampling_type <downsampling_type>                                              Type of read downsampling to \r\n",
        "                                                                                          employ at a given locus (NONE|\r\n",
        "                                                                                          ALL_READS|BY_SAMPLE)\r\n",
        " -dfrac,--downsample_to_fraction <downsample_to_fraction>                                 Fraction of reads to \r\n",
        "                                                                                          downsample to\r\n",
        " -dcov,--downsample_to_coverage <downsample_to_coverage>                                  Target coverage threshold for \r\n",
        "                                                                                          downsampling to coverage\r\n",
        " -baq,--baq <baq>                                                                         Type of BAQ calculation to \r\n",
        "                                                                                          apply in the engine (OFF|\r\n",
        "                                                                                          CALCULATE_AS_NECESSARY|\r",
        "\r\n",
        "                                                                                          RECALCULATE)\r\n",
        " -baqGOP,--baqGapOpenPenalty <baqGapOpenPenalty>                                          BAQ gap open penalty\r\n",
        " -fixNDN,--refactor_NDN_cigar_string                                                      Reduce NDN elements in CIGAR \r\n",
        "                                                                                          string\r\n",
        " -fixMisencodedQuals,--fix_misencoded_quality_scores                                      Fix mis-encoded base quality \r\n",
        "                                                                                          scores\r\n",
        " -allowPotentiallyMisencodedQuals,--allow_potentially_misencoded_quality_scores           Ignore warnings about base \r\n",
        "                                                                                          quality score encoding\r\n",
        " -OQ,--useOriginalQualities                                                               Use the base quality scores \r\n",
        "                                                                                          from the OQ tag\r\n",
        " -DBQ,--defaultBaseQualities <defaultBaseQualities>                                       Assign a default base quality\r\n",
        " -PF,--performanceLog <performanceLog>                                                    Write GATK runtime performance \r\n",
        "                                                                                          log to this file\r\n",
        " -BQSR,--BQSR <BQSR>                                                                      Input covariates table file \r\n",
        "                                                                                          for on-the-fly base quality \r\n",
        "                                                                                          score recalibration\r\n",
        " -qq,--quantize_quals <quantize_quals>                                                    Quantize quality scores to a \r\n",
        "                                                                                          given number of levels (with \r\n",
        "                                                                                          -BQSR)\r\n",
        " -DIQ,--disable_indel_quals                                                               Disable printing of base \r\n",
        "                                                                                          insertion and deletion tags \r\n",
        "                                                                                          (with -BQSR)\r\n",
        " -EOQ,--emit_original_quals                                                               Emit the OQ tag with the \r\n",
        "                                                                                          original base qualities (with \r\n",
        "                                                                                          -BQSR)\r\n",
        " -preserveQ,--preserve_qscores_less_than <preserve_qscores_less_than>                     Don't recalibrate bases with \r\n",
        "                                                                                          quality scores less than this \r\n",
        "                                                                                          threshold (with -BQSR)\r\n",
        " -globalQScorePrior,--globalQScorePrior <globalQScorePrior>                               Global Qscore Bayesian prior \r\n",
        "                                                                                          to use for BQSR\r\n",
        " -S,--validation_strictness <validation_strictness>                                       How strict should we be with \r\n",
        "                                                                                          validation (STRICT|LENIENT|\r\n",
        "                                                                                          SILENT)\r\n",
        " -rpr,--remove_program_records                                                            Remove program records from \r\n",
        "                                                                                          the SAM header\r\n",
        " -kpr,--keep_program_records                                                              Keep program records in the \r\n",
        "                                                                                          SAM header\r\n",
        " -sample_rename_mapping_file,--sample_rename_mapping_file <sample_rename_mapping_file>    Rename sample IDs on-the-fly \r\n",
        "                                                                                          at runtime using the provided \r\n",
        "                                                                                          mapping file\r\n",
        " -U,--unsafe <unsafe>                                                                     Enable unsafe operations: \r\n",
        "                                                                                          nothing will be checked at \r\n",
        "                                                                                          runtime (ALLOW_N_CIGAR_READS|\r\n",
        "                                                                                          ALLOW_UNINDEXED_BAM|\r\n",
        "                                                                                          ALLOW_UNSET_BAM_SORT_ORDER|\r\n",
        "                                                                                          NO_READ_ORDER_VERIFICATION|\r\n",
        "                                                                                          ALLOW_SEQ_DICT_INCOMPATIBILITY|\r\n",
        "                                                                                          LENIENT_VCF_PROCESSING|ALL)\r\n",
        "d_locking_when_reading_rods,--disable_auto_index_creation_and_locking_when_reading_rods   Disable both auto-generation \r\n",
        "                                                                                          of index files and index file \r\n",
        "                                                                                          locking\r\n",
        " -sites_only,--sites_only                                                                 Just output sites without \r\n",
        "                                                                                          genotypes (i.e. only the first \r\n",
        "                                                                                          8 columns of the VCF)\r\n",
        " -writeFullFormat,--never_trim_vcf_format_field                                           Always output all the records \r\n",
        "                                                                                          in VCF FORMAT fields, even if \r\n",
        "                                                                                          some are missing\r\n",
        " -compress,--bam_compression <bam_compression>                                            Compression level to use for \r\n",
        "                                                                                          writing BAM files (0 - 9, \r\n",
        "                                                                                          higher is more compressed)\r\n",
        " -simplifyBAM,--simplifyBAM                                                               If provided, output BAM files \r\n",
        "                                                                                          will be simplified to include \r\n",
        "                                                                                          just key reads for downstream \r\n",
        "                                                                                          variation discovery analyses \r\n",
        "                                                                                          (removing duplicates, PF-, \r\n",
        "                                                                                          non-primary reads), as well \r\n",
        "                                                                                          stripping all extended tags \r\n",
        "                                                                                          from the kept reads except the \r\n",
        "                                                                                          read group identifier\r\n",
        " --disable_bam_indexing                                                                   Turn off on-the-fly creation \r\n",
        "                                                                                          of indices for output BAM \r\n",
        "                                                                                          files.\r\n",
        " --generate_md5                                                                           Enable on-the-fly creation of \r\n",
        "                                                                                          md5s for output BAM files.\r\n",
        " -nt,--num_threads <num_threads>                                                          Number of data threads to \r\n",
        "                                                                                          allocate to this analysis\r\n",
        " -nct,--num_cpu_threads_per_data_thread <num_cpu_threads_per_data_thread>                 Number of CPU threads to \r\n",
        "                                                                                          allocate per data thread\r\n",
        " -mte,--monitorThreadEfficiency                                                           Enable threading efficiency \r\n",
        "                                                                                          monitoring\r\n",
        " -bfh,--num_bam_file_handles <num_bam_file_handles>                                       Total number of BAM file \r\n",
        "                                                                                          handles to keep open \r\n",
        "                                                                                          simultaneously\r\n",
        " -rgbl,--read_group_black_list <read_group_black_list>                                    Exclude read groups based on \r\n",
        "                                                                                          tags\r\n",
        " -ped,--pedigree <pedigree>                                                               Pedigree files for samples\r\n",
        " -pedString,--pedigreeString <pedigreeString>                                             Pedigree string for samples\r\n",
        " -pedValidationType,--pedigreeValidationType <pedigreeValidationType>                     Validation strictness for \r\n",
        "                                                                                          pedigree information (STRICT|\r\n",
        "                                                                                          SILENT)\r\n",
        " -variant_index_type,--variant_index_type <variant_index_type>                            Type of IndexCreator to use \r\n",
        "                                                                                          for VCF/BCF indices \r\n",
        "                                                                                          (DYNAMIC_SEEK|DYNAMIC_SIZE|\r\n",
        "                                                                                          LINEAR|INTERVAL)\r\n",
        " -variant_index_parameter,--variant_index_parameter <variant_index_parameter>             Parameter to pass to the \r\n",
        "                                                                                          VCF/BCF IndexCreator\r\n",
        " -l,--logging_level <logging_level>                                                       Set the minimum level of \r\n",
        "                                                                                          logging\r\n",
        " -log,--log_to_file <log_to_file>                                                         Set the logging location\r\n",
        " -h,--help                                                                                Generate the help message\r\n",
        " -version,--version                                                                       Output version information\r\n",
        "\r\n",
        "Arguments for MalformedReadFilter:\r\n",
        " -filterRNC,--filter_reads_with_N_cigar           Filter out reads with CIGAR containing the N operator, instead of \r\n",
        "                                                  failing with an error\r\n",
        " -filterMBQ,--filter_mismatching_base_and_quals   Filter out reads with mismatching numbers of bases and base qualities, \r\n",
        "                                                  instead of failing with an error\r\n",
        " -filterNoBases,--filter_bases_not_stored         Filter out reads with no stored bases (i.e. '*' where the sequence \r\n",
        "                                                  should be), instead of failing with an error\r\n",
        "\r\n",
        "Arguments for VariantsToAllelicPrimitives:\r\n",
        " -V,--variant <variant>   Input VCF file\r\n",
        " -o,--out <out>           File to which variants should be written\r\n",
        "\r\n",
        "Available Reference Ordered Data types:\r\n",
        "         Name        FeatureType   Documentation\r\n",
        "         BCF2     VariantContext   (this is an external codec and is not documented within GATK)\r\n",
        "       BEAGLE      BeagleFeature   (this is an external codec and is not documented within GATK)\r\n",
        "          BED         BEDFeature   (this is an external codec and is not documented within GATK)\r\n",
        "     BEDTABLE       TableFeature   (this is an external codec and is not documented within GATK)\r\n",
        "EXAMPLEBINARY            Feature   (this is an external codec and is not documented within GATK)\r\n",
        "     GELITEXT    GeliTextFeature   (this is an external codec and is not documented within GATK)\r\n",
        "     OLDDBSNP    OldDbSNPFeature   (this is an external codec and is not documented within GATK)\r\n",
        "    RAWHAPMAP   RawHapMapFeature   (this is an external codec and is not documented within GATK)\r\n",
        "       REFSEQ      RefSeqFeature   (this is an external codec and is not documented within GATK)\r\n",
        "    SAMPILEUP   SAMPileupFeature   (this is an external codec and is not documented within GATK)\r\n",
        "      SAMREAD     SAMReadFeature   (this is an external codec and is not documented within GATK)\r\n",
        "        TABLE       TableFeature   (this is an external codec and is not documented within GATK)\r\n",
        "          VCF     VariantContext   (this is an external codec and is not documented within GATK)\r\n",
        "         VCF3     VariantContext   (this is an external codec and is not documented within GATK)\r\n",
        "\r\n",
        "For a full description of this walker, see its GATKdocs at:\r\n",
        "http://www.broadinstitute.org/gatk/guide/tooldocs/org_broadinstitute_gatk_tools_walkers_variantutils_VariantsToAllelicPrimitives.php\r\n",
        "\r\n"
       ]
      }
     ],
     "prompt_number": 120
    },
    {
     "cell_type": "code",
     "collapsed": false,
     "input": [],
     "language": "python",
     "metadata": {},
     "outputs": []
    }
   ],
   "metadata": {}
  }
 ]
}