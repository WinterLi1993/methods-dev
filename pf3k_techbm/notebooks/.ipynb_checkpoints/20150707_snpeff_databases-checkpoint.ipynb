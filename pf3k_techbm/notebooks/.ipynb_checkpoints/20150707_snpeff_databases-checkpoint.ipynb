{
 "metadata": {
  "name": "",
  "signature": "sha256:dcebd9a1d8e6d415760d1b7d8dd18a15a74d9a4acaec07e615249891753e746b"
 },
 "nbformat": 3,
 "nbformat_minor": 0,
 "worksheets": [
  {
   "cells": [
    {
     "cell_type": "code",
     "collapsed": false,
     "input": [
      "%run _shared_setup.ipynb"
     ],
     "language": "python",
     "metadata": {},
     "outputs": [
      {
       "output_type": "stream",
       "stream": "stdout",
       "text": [
        "python 3.4.1 |Anaconda 2.1.0 (x86_64)| (default, Sep 10 2014, 17:24:09) \n",
        "[GCC 4.2.1 (Apple Inc. build 5577)]\n",
        "numpy 1.9.2\n",
        "scipy 0.14.0\n",
        "pandas 0.14.1\n",
        "numexpr 2.3.1\n",
        "pysam 0.8.3\n",
        "petl 1.0.10\n",
        "petlx 1.0.3\n",
        "vcf 0.6.7\n",
        "h5py 2.3.1\n",
        "tables 3.1.1\n",
        "vcfplt 0.8\n",
        "mkdir: /nfs/team112_internal/production_files/Pf3k/methods/assembled_samples: File exists\r\n"
       ]
      },
      {
       "output_type": "stream",
       "stream": "stdout",
       "text": [
        "tbl_pgv_metadata length = 5729\n",
        "tbl_pgv_locations length = 102\n",
        "tbl_pf3k_metadata length = 2512\n",
        "tbl_pf_solaris length = 10879"
       ]
      },
      {
       "output_type": "stream",
       "stream": "stdout",
       "text": [
        "\n",
        "tbl_assembled_samples length = 11\n"
       ]
      }
     ],
     "prompt_number": 1
    },
    {
     "cell_type": "code",
     "collapsed": false,
     "input": [
      "plasmodb24_fn = '/Users/rpearson/Downloads/PlasmoDB-24_Pfalciparum3D7.gff' # http://www.plasmodb.org/common/downloads/release-24/Pfalciparum3D7/gff/data/PlasmoDB-24_Pfalciparum3D7.gff\n",
      "genedb_gff_fn = '/Users/rpearson/Downloads/Pfalciparum.gff3' # ftp://ftp.sanger.ac.uk/pub/project/pathogens/gff3/CURRENT/Pfalciparum.gff3.gz \n",
      "genedb_fasta_fn = '/Users/rpearson/Downloads/Pfalciparum.genome.fasta' # ftp://ftp.sanger.ac.uk/pub/project/pathogens/gff3/CURRENT/Pfalciparum.genome.fasta.gz \n",
      "snpeff_config_fn = snpeff_dir + '/snpEff.config'"
     ],
     "language": "python",
     "metadata": {},
     "outputs": [],
     "prompt_number": 19
    },
    {
     "cell_type": "code",
     "collapsed": false,
     "input": [
      "current_dir = !pwd"
     ],
     "language": "python",
     "metadata": {},
     "outputs": [
      {
       "output_type": "stream",
       "stream": "stdout",
       "text": [
        "/Users/rpearson/src/github/malariagen/methods-dev/pf3k_techbm/notebooks\n"
       ]
      }
     ],
     "prompt_number": 7
    },
    {
     "cell_type": "code",
     "collapsed": false,
     "input": [
      "print(current_dir[0])"
     ],
     "language": "python",
     "metadata": {},
     "outputs": [
      {
       "output_type": "stream",
       "stream": "stdout",
       "text": [
        "/Users/rpearson/src/github/malariagen/methods-dev/pf3k_techbm/notebooks\n"
       ]
      }
     ],
     "prompt_number": 10
    },
    {
     "cell_type": "code",
     "collapsed": false,
     "input": [
      "# Setup directory for PlasmoDB snpeff database\n",
      "%cd {current_dir[0]}\n",
      "!mkdir {snpeff_dir}/data/Pf3D7v24\n",
      "%cd {snpeff_dir}/data/Pf3D7v24\n",
      "!cp {plasmodb24_fn} genes.gff\n",
      "\n",
      "# Setup directory for GeneDB snpeff database\n",
      "%cd {current_dir[0]}\n",
      "!mkdir {snpeff_dir}/data/Pf3D7july2015\n",
      "%cd {snpeff_dir}/data/Pf3D7july2015\n",
      "!cp {genedb_gff_fn} genes.gff\n",
      "!cp {genedb_fasta_fn} sequences.fa"
     ],
     "language": "python",
     "metadata": {},
     "outputs": [
      {
       "output_type": "stream",
       "stream": "stdout",
       "text": [
        "/Users/rpearson/src/github/malariagen/methods-dev/pf3k_techbm/notebooks\n",
        "mkdir: ../opt/snpeff/snpEff/data/Pf3D7v24: File exists\r\n"
       ]
      },
      {
       "output_type": "stream",
       "stream": "stdout",
       "text": [
        "/Users/rpearson/src/github/malariagen/methods-dev/pf3k_techbm/opt/snpeff/snpEff/data/Pf3D7v24\n"
       ]
      },
      {
       "output_type": "stream",
       "stream": "stdout",
       "text": [
        "/Users/rpearson/src/github/malariagen/methods-dev/pf3k_techbm/notebooks\n",
        "mkdir: ../opt/snpeff/snpEff/data/Pf3D7july2015: File exists\r\n"
       ]
      },
      {
       "output_type": "stream",
       "stream": "stdout",
       "text": [
        "/Users/rpearson/src/github/malariagen/methods-dev/pf3k_techbm/opt/snpeff/snpEff/data/Pf3D7july2015\n"
       ]
      }
     ],
     "prompt_number": 14
    },
    {
     "cell_type": "code",
     "collapsed": false,
     "input": [
      "%cd {current_dir[0]}\n",
      "\n",
      "fo = open(snpeff_config_fn, \"a\")\n",
      "\n",
      "print('''\n",
      "# Pf3D7 PlasmoDB v24. Added by Richard Pearson. Downloaded from http://www.plasmodb.org/common/downloads/release-24/Pfalciparum3D7/gff/data/PlasmoDB-24_Pfalciparum3D7.gff\n",
      "Pf3D7v24.genome: Plasmodium_falciparum\n",
      "        Pf3D7v24.M76611.codonTable: Protozoan_Mitochondrial\n",
      "        Pf3D7v24.PFC10_API_IRAB.codonTable: Bacterial_and_Plant_Plastid\n",
      "        Pf3D7v24.reference: http://www.plasmodb.org/common/downloads/release-24/Pfalciparum3D7/gff/data/PlasmoDB-24_Pfalciparum3D7.gff\n",
      "        Pf3D7v24.cds_mal_mito_1-1.codonTable : Vertebrate_Mitochondrial\n",
      "        Pf3D7v24.cds_mal_mito_2-1.codonTable : Vertebrate_Mitochondrial\n",
      "        Pf3D7v24.cds_mal_mito_3-1.codonTable : Vertebrate_Mitochondrial\n",
      "        Pf3D7v24.rna_mal_mito_1-1.codonTable : Vertebrate_Mitochondrial\n",
      "        Pf3D7v24.rna_mal_mito_2-1.codonTable : Vertebrate_Mitochondrial\n",
      "        Pf3D7v24.rna_mal_mito_3-1.codonTable : Vertebrate_Mitochondrial\n",
      "        Pf3D7v24.mal_mito_1.codonTable : Vertebrate_Mitochondrial\n",
      "        Pf3D7v24.mal_mito_2.codonTable : Vertebrate_Mitochondrial\n",
      "        Pf3D7v24.mal_mito_3.codonTable : Vertebrate_Mitochondrial\n",
      "        Pf3D7v24.malmito_rna_10\\:rRNA.codonTable : Vertebrate_Mitochondrial\n",
      "        Pf3D7v24.malmito_rna_15\\:rRNA.codonTable : Vertebrate_Mitochondrial\n",
      "        Pf3D7v24.malmito_rna_16\\:rRNA.codonTable : Vertebrate_Mitochondrial\n",
      "        Pf3D7v24.malmito_rna_17\\:rRNA.codonTable : Vertebrate_Mitochondrial\n",
      "        Pf3D7v24.mal_mito_RNA19\\:rRNA.codonTable : Vertebrate_Mitochondrial\n",
      "        Pf3D7v24.malmito_rna_1\\:rRNA.codonTable : Vertebrate_Mitochondrial\n",
      "        Pf3D7v24.malmito_rna_20\\:rRNA.codonTable : Vertebrate_Mitochondrial\n",
      "        Pf3D7v24.malmito_rna_21\\:rRNA.codonTable : Vertebrate_Mitochondrial\n",
      "        Pf3D7v24.malmito_rna_9\\:rRNA.codonTable : Vertebrate_Mitochondrial\n",
      "        Pf3D7v24.malmito_rna_LSUC\\:rRNA.codonTable : Vertebrate_Mitochondrial\n",
      "        Pf3D7v24.malmito_rna_LSUF\\:rRNA.codonTable : Vertebrate_Mitochondrial\n",
      "        Pf3D7v24.malmito_rna_LSUG\\:rRNA.codonTable : Vertebrate_Mitochondrial\n",
      "        Pf3D7v24.malmito_rna_RNA11\\:rRNA.codonTable : Vertebrate_Mitochondrial\n",
      "        Pf3D7v24.malmito_rna_RNA12\\:rRNA.codonTable : Vertebrate_Mitochondrial\n",
      "        Pf3D7v24.malmito_rna_RNA14\\:rRNA.codonTable : Vertebrate_Mitochondrial\n",
      "        Pf3D7v24.malmito_rna_RNA18\\:rRNA.codonTable : Vertebrate_Mitochondrial\n",
      "        Pf3D7v24.malmito_rna_RNA22\\:rRNA.codonTable : Vertebrate_Mitochondrial\n",
      "        Pf3D7v24.malmito_rna_RNA4\\:rRNA.codonTable : Vertebrate_Mitochondrial\n",
      "        Pf3D7v24.malmito_rna_RNA5\\:rRNA.codonTable : Vertebrate_Mitochondrial\n",
      "        Pf3D7v24.malmito_rna_RNA6\\:rRNA.codonTable : Vertebrate_Mitochondrial\n",
      "        Pf3D7v24.malmito_rna_RNA7\\:rRNA.codonTable : Vertebrate_Mitochondrial\n",
      "        Pf3D7v24.malmito_rna_SSUF\\:rRNA.codonTable : Vertebrate_Mitochondrial\n",
      "        Pf3D7v24.malmito_SSUB\\:rRNA.codonTable : Vertebrate_Mitochondrial\n",
      "\n",
      "# Pf3D7 GeneDB July 2015. Added by Richard Pearson. Downloaded July 8, 2015 from ftp://ftp.sanger.ac.uk/pub/project/pathogens/gff3/CURRENT/Pfalciparum.gff3.gz \n",
      "Pf3D7july2015.genome: Plasmodium_falciparum\n",
      "        Pf3D7july2015.Pf_M76611.codonTable: Protozoan_Mitochondrial\n",
      "        Pf3D7july2015.reference: ftp://ftp.sanger.ac.uk/pub/project/pathogens/gff3/CURRENT/Pfalciparum.gff3.gz\n",
      "        Pf3D7july2015.mal_mito_1.codonTable : Vertebrate_Mitochondrial\n",
      "        Pf3D7july2015.mal_mito_2.codonTable : Vertebrate_Mitochondrial\n",
      "        Pf3D7july2015.mal_mito_3.codonTable : Vertebrate_Mitochondrial\n",
      "        Pf3D7july2015.malmito_rna_10\\:rRNA.codonTable : Vertebrate_Mitochondrial\n",
      "        Pf3D7july2015.malmito_rna_15\\:rRNA.codonTable : Vertebrate_Mitochondrial\n",
      "        Pf3D7july2015.malmito_rna_16\\:rRNA.codonTable : Vertebrate_Mitochondrial\n",
      "        Pf3D7july2015.malmito_rna_17\\:rRNA.codonTable : Vertebrate_Mitochondrial\n",
      "        Pf3D7july2015.mal_mito_RNA19\\:rRNA.codonTable : Vertebrate_Mitochondrial\n",
      "        Pf3D7july2015.malmito_rna_1\\:rRNA.codonTable : Vertebrate_Mitochondrial\n",
      "        Pf3D7july2015.malmito_rna_20\\:rRNA.codonTable : Vertebrate_Mitochondrial\n",
      "        Pf3D7july2015.malmito_rna_21\\:rRNA.codonTable : Vertebrate_Mitochondrial\n",
      "        Pf3D7july2015.malmito_rna_9\\:rRNA.codonTable : Vertebrate_Mitochondrial\n",
      "        Pf3D7july2015.malmito_rna_LSUC\\:rRNA.codonTable : Vertebrate_Mitochondrial\n",
      "        Pf3D7july2015.malmito_rna_LSUF\\:rRNA.codonTable : Vertebrate_Mitochondrial\n",
      "        Pf3D7july2015.malmito_rna_LSUG\\:rRNA.codonTable : Vertebrate_Mitochondrial\n",
      "        Pf3D7july2015.malmito_rna_RNA11\\:rRNA.codonTable : Vertebrate_Mitochondrial\n",
      "        Pf3D7july2015.malmito_rna_RNA12\\:rRNA.codonTable : Vertebrate_Mitochondrial\n",
      "        Pf3D7july2015.malmito_rna_RNA14\\:rRNA.codonTable : Vertebrate_Mitochondrial\n",
      "        Pf3D7july2015.malmito_rna_RNA18\\:rRNA.codonTable : Vertebrate_Mitochondrial\n",
      "        Pf3D7july2015.malmito_rna_RNA22\\:rRNA.codonTable : Vertebrate_Mitochondrial\n",
      "        Pf3D7july2015.malmito_rna_RNA4\\:rRNA.codonTable : Vertebrate_Mitochondrial\n",
      "        Pf3D7july2015.malmito_rna_RNA5\\:rRNA.codonTable : Vertebrate_Mitochondrial\n",
      "        Pf3D7july2015.malmito_rna_RNA6\\:rRNA.codonTable : Vertebrate_Mitochondrial\n",
      "        Pf3D7july2015.malmito_rna_RNA7\\:rRNA.codonTable : Vertebrate_Mitochondrial\n",
      "        Pf3D7july2015.malmito_rna_SSUF\\:rRNA.codonTable : Vertebrate_Mitochondrial\n",
      "        Pf3D7july2015.malmito_SSUB\\:rRNA.codonTable : Vertebrate_Mitochondrial\n",
      "''', file=fo)\n",
      "\n",
      "fo.close()"
     ],
     "language": "python",
     "metadata": {},
     "outputs": [
      {
       "output_type": "stream",
       "stream": "stdout",
       "text": [
        "/Users/rpearson/src/github/malariagen/methods-dev/pf3k_techbm/notebooks\n"
       ]
      }
     ],
     "prompt_number": 27
    },
    {
     "cell_type": "code",
     "collapsed": false,
     "input": [
      "fo.close()"
     ],
     "language": "python",
     "metadata": {},
     "outputs": [],
     "prompt_number": 17
    },
    {
     "cell_type": "code",
     "collapsed": false,
     "input": [
      "%cd {snpeff_dir}\n",
      "!java -jar snpEff.jar build -gff3 -v Pf3D7v24 -upDownStreamLen 1 > /dev/null\n",
      "%cd {current_dir[0]}\n"
     ],
     "language": "python",
     "metadata": {},
     "outputs": [
      {
       "output_type": "stream",
       "stream": "stdout",
       "text": [
        "/Users/rpearson/src/github/malariagen/methods-dev/pf3k_techbm/opt/snpeff/snpEff\n"
       ]
      },
      {
       "output_type": "stream",
       "stream": "stdout",
       "text": [
        "00:00:00.000\tSnpEff version SnpEff 4.1g (build 2015-05-17), by Pablo Cingolani\r\n",
        "00:00:00.019\tCommand: 'build'\r\n",
        "00:00:00.029\tBuilding database for 'Pf3D7v24'\r\n",
        "00:00:00.030\tReading configuration file 'snpEff.config'. Genome: 'Pf3D7v24'\r\n"
       ]
      },
      {
       "output_type": "stream",
       "stream": "stdout",
       "text": [
        "00:00:00.558\tdone\r\n"
       ]
      },
      {
       "output_type": "stream",
       "stream": "stdout",
       "text": [
        "."
       ]
      },
      {
       "output_type": "stream",
       "stream": "stdout",
       "text": [
        "......."
       ]
      },
      {
       "output_type": "stream",
       "stream": "stdout",
       "text": [
        "............"
       ]
      },
      {
       "output_type": "stream",
       "stream": "stdout",
       "text": [
        "......................."
       ]
      },
      {
       "output_type": "stream",
       "stream": "stdout",
       "text": [
        "..................."
       ]
      },
      {
       "output_type": "stream",
       "stream": "stdout",
       "text": [
        "................."
       ]
      },
      {
       "output_type": "stream",
       "stream": "stdout",
       "text": [
        "..........................."
       ]
      },
      {
       "output_type": "stream",
       "stream": "stdout",
       "text": [
        "........................"
       ]
      },
      {
       "output_type": "stream",
       "stream": "stdout",
       "text": [
        "......................"
       ]
      },
      {
       "output_type": "stream",
       "stream": "stdout",
       "text": [
        "...................................."
       ]
      },
      {
       "output_type": "stream",
       "stream": "stdout",
       "text": [
        "..........................\r\n",
        "\t\t10000\t.........................."
       ]
      },
      {
       "output_type": "stream",
       "stream": "stdout",
       "text": [
        "............................................................."
       ]
      },
      {
       "output_type": "stream",
       "stream": "stdout",
       "text": [
        ".............\r\n",
        "\t\t20000\t.............................................................................................."
       ]
      },
      {
       "output_type": "stream",
       "stream": "stdout",
       "text": [
        "."
       ]
      },
      {
       "output_type": "stream",
       "stream": "stdout",
       "text": [
        "........................................................"
       ]
      },
      {
       "output_type": "stream",
       "stream": "stdout",
       "text": [
        "00:00:05.022\tCaracterizing exons by splicing (stage 1) : \r\n",
        "............."
       ]
      },
      {
       "output_type": "stream",
       "stream": "stdout",
       "text": [
        ".\r\n",
        "00:00:05.069\tCaracterizing exons by splicing (stage 2) : \r\n",
        "..............00:00:05.085\tdone.\r\n",
        "00:00:05.085\t[Optional] Rare amino acid annotations\r\n",
        "00:00:05.088\tWarning: Cannot read optional protein sequence file '/Users/rpearson/src/github/malariagen/methods-dev/pf3k_techbm/opt/snpeff/snpEff/./data/Pf3D7v24/protein.fa', nothing done.\r\n",
        "00:00:05.088\tSaving database\r\n"
       ]
      },
      {
       "output_type": "stream",
       "stream": "stdout",
       "text": [
        "00:00:08.806\t[Optional] Reading regulation elements: GFF\r\n",
        "00:00:08.807\tWarning: Cannot read optional regulation file '/Users/rpearson/src/github/malariagen/methods-dev/pf3k_techbm/opt/snpeff/snpEff/./data/Pf3D7v24/regulation.gff', nothing done.\r\n",
        "00:00:08.807\t[Optional] Reading regulation elements: BED \r\n",
        "00:00:08.808\tCannot find optional regulation dir '/Users/rpearson/src/github/malariagen/methods-dev/pf3k_techbm/opt/snpeff/snpEff/./data/Pf3D7v24/regulation.bed/', nothing done.\r\n",
        "00:00:08.808\t[Optional] Reading motifs: GFF\r\n",
        "00:00:08.808\tWarning: Cannot open PWMs file /Users/rpearson/src/github/malariagen/methods-dev/pf3k_techbm/opt/snpeff/snpEff/./data/Pf3D7v24/pwms.bin. Nothing done\r\n",
        "00:00:08.808\tDone\r\n",
        "00:00:08.815\tLogging\r\n"
       ]
      },
      {
       "output_type": "stream",
       "stream": "stdout",
       "text": [
        "00:00:09.819\tChecking for updates...\r\n"
       ]
      },
      {
       "output_type": "stream",
       "stream": "stdout",
       "text": [
        "/Users/rpearson/src/github/malariagen/methods-dev/pf3k_techbm/notebooks\n"
       ]
      }
     ],
     "prompt_number": 34
    },
    {
     "cell_type": "code",
     "collapsed": false,
     "input": [
      "%cd {snpeff_dir}\n",
      "!java -jar snpEff.jar build -gff3 -v Pf3D7july2015\n",
      "%cd {current_dir[0]}\n"
     ],
     "language": "python",
     "metadata": {},
     "outputs": [
      {
       "output_type": "stream",
       "stream": "stdout",
       "text": [
        "/Users/rpearson/src/github/malariagen/methods-dev/pf3k_techbm/opt/snpeff/snpEff\n"
       ]
      },
      {
       "output_type": "stream",
       "stream": "stdout",
       "text": [
        "00:00:00.000\tSnpEff version SnpEff 4.1g (build 2015-05-17), by Pablo Cingolani\r\n",
        "00:00:00.011\tCommand: 'build'\r\n",
        "00:00:00.018\tBuilding database for 'Pf3D7july2015'\r\n",
        "00:00:00.018\tReading configuration file 'snpEff.config'. Genome: 'Pf3D7july2015'\r\n"
       ]
      },
      {
       "output_type": "stream",
       "stream": "stdout",
       "text": [
        "00:00:00.507\tdone\r\n",
        "Reading GFF3 data file  : '/Users/rpearson/src/github/malariagen/methods-dev/pf3k_techbm/opt/snpeff/snpEff/./data/Pf3D7july2015/genes.gff'\r\n",
        "\tReading genes       : "
       ]
      },
      {
       "output_type": "stream",
       "stream": "stdout",
       "text": [
        ".."
       ]
      },
      {
       "output_type": "stream",
       "stream": "stdout",
       "text": [
        "............"
       ]
      },
      {
       "output_type": "stream",
       "stream": "stdout",
       "text": [
        "........."
       ]
      },
      {
       "output_type": "stream",
       "stream": "stdout",
       "text": [
        "................."
       ]
      },
      {
       "output_type": "stream",
       "stream": "stdout",
       "text": [
        ".............."
       ]
      },
      {
       "output_type": "stream",
       "stream": "stdout",
       "text": [
        "\r\n",
        "\tTotal: 5492 Genes added.\r\n",
        "\tReading transcripts : WARNING: Cannot find gene 'Gene_PF3D7_0100500'. Created gene 'Gene_PF3D7_0100500' for transcript 'PF3D7_0100500'. File '/Users/rpearson/src/github/malariagen/methods-dev/pf3k_techbm/opt/snpeff/snpEff/./data/Pf3D7july2015/genes.gff' line 81\t'Pf3D7_01_v3\tchado\tpseudogene\t53169\t53280\t.\t-\t.\tID=PF3D7_0100500;previous_systematic_id=PFA0025c'\r\n",
        "WARNING: Cannot find gene 'Gene_PF3D7_0101400'. Created gene 'Gene_PF3D7_0101400' for transcript 'PF3D7_0101400'. File '/Users/rpearson/src/github/malariagen/methods-dev/pf3k_techbm/opt/snpeff/snpEff/./data/Pf3D7july2015/genes.gff' line 156\t'Pf3D7_01_v3\tchado\tpseudogene\t75982\t76809\t.\t-\t.\tID=PF3D7_0101400;Name=EPF1;previous_systematic_id=PFA0070c'\r\n",
        "WARNING: Cannot find gene 'Gene_PF3D7_0101500'. Created gene 'Gene_PF3D7_0101500' for transcript 'PF3D7_0101500'. File '/Users/rpearson/src/github/malariagen/methods-dev/pf3k_techbm/opt/snpeff/snpEff/./data/Pf3D7july2015/genes.gff' line 160\t'Pf3D7_01_v3\tchado\tpseudogene\t78241\t79891\t.\t+\t.\tID=PF3D7_0101500;Name=VAR;previous_systematic_id=PFA0075w'\r\n",
        "WARNING: Cannot find gene 'Gene_PF3D7_0101700'. Created gene 'Gene_PF3D7_0101700' for transcript 'PF3D7_0101700'. File '/Users/rpearson/src/github/malariagen/methods-dev/pf3k_techbm/opt/snpeff/snpEff/./data/Pf3D7july2015/genes.gff' line 179\t'Pf3D7_01_v3\tchado\tpseudogene\t84791\t86152\t.\t-\t.\tID=PF3D7_0101700;Name=VAR;previous_systematic_id=PFA0085c'\r\n",
        "WARNING: Cannot find gene 'Gene_PF3D7_0102000'. Created gene 'Gene_PF3D7_0102000' for transcript 'PF3D7_0102000'. File '/Users/rpearson/src/github/malariagen/methods-dev/pf3k_techbm/opt/snpeff/snpEff/./data/Pf3D7july2015/genes.gff' line 205\t'Pf3D7_01_v3\tchado\tpseudogene\t93113\t93875\t.\t-\t.\tID=PF3D7_0102000;previous_systematic_id=PFA0100c'\r\n",
        "WARNING: Cannot find gene 'Gene_PF3D7_0102100'. Created gene 'Gene_PF3D7_0102100' for transcript 'PF3D7_0102100'. File '/Users/rpearson/src/github/malariagen/methods-dev/pf3k_techbm/opt/snpeff/snpEff/./data/Pf3D7july2015/genes.gff' line 213\t'Pf3D7_01_v3\tchado\tpseudogene\t95050\t95899\t.\t+\t.\tID=PF3D7_0102100;previous_systematic_id=PFA0105w'\r\n",
        "WARNING: Cannot find gene 'Gene_PF3D7_0102400'. Created gene 'Gene_PF3D7_0102400' for transcript 'PF3D7_0102400'. File '/Users/rpearson/src/github/malariagen/methods-dev/pf3k_techbm/opt/snpeff/snpEff/./data/Pf3D7july2015/genes.gff' line 238\t'Pf3D7_01_v3\tchado\tpseudogene\t107197\t108348\t.\t-\t.\tID=PF3D7_0102400;previous_systematic_id=PFA0120c'\r\n",
        ".WARNING: Cannot find gene 'Gene_PF3D7_0113600'. Created gene 'Gene_PF3D7_0113600' for transcript 'PF3D7_0113600'. File '/Users/rpearson/src/github/malariagen/methods-dev/pf3k_techbm/opt/snpeff/snpEff/./data/Pf3D7july2015/genes.gff' line 1086\t'Pf3D7_01_v3\tchado\tpseudogene\t512086\t517855\t.\t+\t.\tID=PF3D7_0113600;Name=SURF1.2;previous_systematic_id=PFA0650w;synonym=3D7surf1.2'\r\n",
        "WARNING: Cannot find gene 'Gene_PF3D7_0114300'. Created gene 'Gene_PF3D7_0114300' for transcript 'PF3D7_0114300'. File '/Users/rpearson/src/github/malariagen/methods-dev/pf3k_techbm/opt/snpeff/snpEff/./data/Pf3D7july2015/genes.gff' line 1150\t'Pf3D7_01_v3\tchado\tpseudogene\t552640\t553797\t.\t+\t.\tID=PF3D7_0114300;Name=EPF4;previous_systematic_id=PFA0690w'\r\n",
        "WARNING: Cannot find gene 'Gene_PF3D7_0114400'. Created gene 'Gene_PF3D7_0114400' for transcript 'PF3D7_0114400'. File '/Users/rpearson/src/github/malariagen/methods-dev/pf3k_techbm/opt/snpeff/snpEff/./data/Pf3D7july2015/genes.gff' line 1156\t'Pf3D7_01_v3\tchado\tpseudogene\t554057\t555439\t.\t-\t.\tID=PF3D7_0114400;Name=VAR;previous_systematic_id=PFA0695c'\r\n",
        "WARNING: Cannot find gene 'Gene_PF3D7_0114600'. Created gene 'Gene_PF3D7_0114600' for transcript 'PF3D7_0114600'. File '/Users/rpearson/src/github/malariagen/methods-dev/pf3k_techbm/opt/snpeff/snpEff/./data/Pf3D7july2015/genes.gff' line 1176\t'Pf3D7_01_v3\tchado\tpseudogene\t560474\t561534\t.\t-\t.\tID=PF3D7_0114600;previous_systematic_id=PFA0705c'\r\n",
        "WARNING: Cannot find gene 'Gene_PF3D7_0114900'. Created gene 'Gene_PF3D7_0114900' for transcript 'PF3D7_0114900'. File '/Users/rpearson/src/github/malariagen/methods-dev/pf3k_techbm/opt/snpeff/snpEff/./data/Pf3D7july2015/genes.gff' line 1202\t'Pf3D7_01_v3\tchado\tpseudogene\t572135\t572853\t.\t-\t.\tID=PF3D7_0114900;previous_systematic_id=PFA0720w'\r\n",
        "WARNING: Cannot find gene 'Gene_PF3D7_0115150'. Created gene 'Gene_PF3D7_0115150' for transcript 'PF3D7_0115150'. File '/Users/rpearson/src/github/malariagen/methods-dev/pf3k_techbm/opt/snpeff/snpEff/./data/Pf3D7july2015/genes.gff' line 1231\t'Pf3D7_01_v3\tchado\tpseudogene\t589386\t589994\t.\t-\t.\tID=PF3D7_0115150'\r\n",
        "WARNING: Cannot find gene 'Gene_PF3D7_0115500'. Created gene 'Gene_PF3D7_0115500' for transcript 'PF3D7_0115500'. File '/Users/rpearson/src/github/malariagen/methods-dev/pf3k_techbm/opt/snpeff/snpEff/./data/Pf3D7july2015/genes.gff' line 1268\t'Pf3D7_01_v3\tchado\tpseudogene\t600692\t601992\t.\t+\t.\tID=PF3D7_0115500;previous_systematic_id=PFA0755w'\r\n",
        "WARNING: Cannot find gene 'Gene_PF3D7_0200800'. Created gene 'Gene_PF3D7_0200800' for transcript 'PF3D7_0200800'. File '/Users/rpearson/src/github/malariagen/methods-dev/pf3k_techbm/opt/snpeff/snpEff/./data/Pf3D7july2015/genes.gff' line 1353\t'Pf3D7_02_v3\tchado\tpseudogene\t51842\t53055\t.\t-\t.\tID=PF3D7_0200800;previous_systematic_id=PFB0045c'\r\n",
        "WARNING: Cannot find gene 'Gene_PF3D7_0200900'. Created gene 'Gene_PF3D7_0200900' for transcript 'PF3D7_0200900'. File '/Users/rpearson/src/github/malariagen/methods-dev/pf3k_techbm/opt/snpeff/snpEff/./data/Pf3D7july2015/genes.gff' line 1362\t'Pf3D7_02_v3\tchado\tpseudogene\t54254\t55255\t.\t-\t.\tID=PF3D7_0200900;previous_systematic_id=PFB0050c'\r\n",
        ".WARNING: Cannot find gene 'Gene_PF3D7_0206300'. Created gene 'Gene_PF3D7_0206300' for transcript 'PF3D7_0206300'. File '/Users/rpearson/src/github/malariagen/methods-dev/pf3k_techbm/opt/snpeff/snpEff/./data/Pf3D7july2015/genes.gff' line 1778\t'Pf3D7_02_v3\tchado\tpseudogene\t252394\t262443\t.\t+\t.\tID=PF3D7_0206300;Name=AROM;previous_systematic_id=PFB0280w,PF3D7_0206400,PFB0279w,PF02_0060'\r\n",
        ".WARNING: Cannot find gene 'Gene_PF3D7_0220400'. Created gene 'Gene_PF3D7_0220400' for transcript 'PF3D7_0220400'. File '/Users/rpearson/src/github/malariagen/methods-dev/pf3k_techbm/opt/snpeff/snpEff/./data/Pf3D7july2015/genes.gff' line 2879\t'Pf3D7_02_v3\tchado\tpseudogene\t820429\t822541\t.\t+\t.\tID=PF3D7_0220400;previous_systematic_id=PFB0925w'\r\n",
        "WARNING: Cannot find gene 'Gene_PF3D7_0220900'. Created gene 'Gene_PF3D7_0220900' for transcript 'PF3D7_0220900'. File '/Users/rpearson/src/github/malariagen/methods-dev/pf3k_techbm/opt/snpeff/snpEff/./data/Pf3D7july2015/genes.gff' line 2922\t'Pf3D7_02_v3\tchado\tpseudogene\t845600\t846375\t.\t-\t.\tID=PF3D7_0220900;previous_systematic_id=PFB0946c'\r\n",
        "WARNING: Cannot find gene 'Gene_PF3D7_0221100'. Created gene 'Gene_PF3D7_0221100' for transcript 'PF3D7_0221100'. File '/Users/rpearson/src/github/malariagen/methods-dev/pf3k_techbm/opt/snpeff/snpEff/./data/Pf3D7july2015/genes.gff' line 2937\t'Pf3D7_02_v3\tchado\tpseudogene\t851052\t851962\t.\t+\t.\tID=PF3D7_0221100;previous_systematic_id=PFB0951w'\r\n",
        "WARNING: Cannot find gene 'Gene_PF3D7_0221300'. Created gene 'Gene_PF3D7_0221300' for transcript 'PF3D7_0221300'. File '/Users/rpearson/src/github/malariagen/methods-dev/pf3k_techbm/opt/snpeff/snpEff/./data/Pf3D7july2015/genes.gff' line 2950\t'Pf3D7_02_v3\tchado\tpseudogene\t857567\t858675\t.\t-\t.\tID=PF3D7_0221300;previous_systematic_id=PFB0954c'\r\n",
        ".WARNING: Cannot find gene 'Gene_PF3D7_0221500'. Created gene 'Gene_PF3D7_0221500' for transcript 'PF3D7_0221500'. File '/Users/rpearson/src/github/malariagen/methods-dev/pf3k_techbm/opt/snpeff/snpEff/./data/Pf3D7july2015/genes.gff' line 2966\t'Pf3D7_02_v3\tchado\tpseudogene\t863079\t863842\t.\t-\t.\tID=PF3D7_0221500;previous_systematic_id=PFB0960c'\r\n",
        "WARNING: Cannot find gene 'Gene_PF3D7_0221600'. Created gene 'Gene_PF3D7_0221600' for transcript 'PF3D7_0221600'. File '/Users/rpearson/src/github/malariagen/methods-dev/pf3k_techbm/opt/snpeff/snpEff/./data/Pf3D7july2015/genes.gff' line 2976\t'Pf3D7_02_v3\tchado\tpseudogene\t865916\t866538\t.\t-\t.\tID=PF3D7_0221600;previous_systematic_id=PFB0965c'\r\n",
        "WARNING: Cannot find gene 'Gene_PF3D7_0221650'. Created gene 'Gene_PF3D7_0221650' for transcript 'PF3D7_0221650'. File '/Users/rpearson/src/github/malariagen/methods-dev/pf3k_techbm/opt/snpeff/snpEff/./data/Pf3D7july2015/genes.gff' line 2981\t'Pf3D7_02_v3\tchado\tpseudogene\t866843\t867511\t.\t+\t.\tID=PF3D7_0221650'\r\n",
        "WARNING: Cannot find gene 'Gene_PF3D7_0221900'. Created gene 'Gene_PF3D7_0221900' for transcript 'PF3D7_0221900'. File '/Users/rpearson/src/github/malariagen/methods-dev/pf3k_techbm/opt/snpeff/snpEff/./data/Pf3D7july2015/genes.gff' line 3005\t'Pf3D7_02_v3\tchado\tpseudogene\t873917\t875178\t.\t-\t.\tID=PF3D7_0221900;previous_systematic_id=PFB0975c'\r\n",
        "WARNING: Cannot find gene 'Gene_PF3D7_0222300'. Created gene 'Gene_PF3D7_0222300' for transcript 'PF3D7_0222300'. File '/Users/rpearson/src/github/malariagen/methods-dev/pf3k_techbm/opt/snpeff/snpEff/./data/Pf3D7july2015/genes.gff' line 3035\t'Pf3D7_02_v3\tchado\tpseudogene\t883452\t884312\t.\t+\t.\tID=PF3D7_0222300;Name=EPF4;previous_systematic_id=PFB0995w'\r\n",
        "WARNING: Cannot find gene 'Gene_PF3D7_0222400'. Created gene 'Gene_PF3D7_0222400' for transcript 'PF3D7_0222400'. File '/Users/rpearson/src/github/malariagen/methods-dev/pf3k_techbm/opt/snpeff/snpEff/./data/Pf3D7july2015/genes.gff' line 3039\t'Pf3D7_02_v3\tchado\tpseudogene\t886625\t887802\t.\t+\t.\tID=PF3D7_0222400;Name=RIF;previous_systematic_id=PFB1000w;synonym=RIF-A'\r\n",
        "WARNING: Cannot find gene 'Gene_PF3D7_0222900'. Created gene 'Gene_PF3D7_0222900' for transcript 'PF3D7_0222900'. File '/Users/rpearson/src/github/malariagen/methods-dev/pf3k_techbm/opt/snpeff/snpEff/./data/Pf3D7july2015/genes.gff' line 3074\t'Pf3D7_02_v3\tchado\tpseudogene\t901494\t902853\t.\t+\t.\tID=PF3D7_0222900;Name=VAR;previous_systematic_id=PFB1030w,PF3D7_0223000,PFB1025w'\r\n",
        "WARNING: Cannot find gene 'Gene_PF3D7_0300300'. Created gene 'Gene_PF3D7_0300300' for transcript 'PF3D7_0300300'. File '/Users/rpearson/src/github/malariagen/methods-dev/pf3k_techbm/opt/snpeff/snpEff/./data/Pf3D7july2015/genes.gff' line 3145\t'Pf3D7_03_v3\tchado\tpseudogene\t49772\t51152\t.\t-\t.\tID=PF3D7_0300300;Name=VAR;previous_systematic_id=PFC0015c'\r\n",
        "WARNING: Cannot find gene 'Gene_PF3D7_0302300'. Created gene 'Gene_PF3D7_0302300' for transcript 'PF3D7_0302300'. File '/Users/rpearson/src/github/malariagen/methods-dev/pf3k_techbm/opt/snpeff/snpEff/./data/Pf3D7july2015/genes.gff' line 3288\t'Pf3D7_03_v3\tchado\tpseudogene\t125992\t130235\t.\t-\t.\tID=PF3D7_0302300;previous_systematic_id=PFC0115c'\r\n",
        "..WARNING: Cannot find gene 'Gene_PF3D7_0323900'. Created gene 'Gene_PF3D7_0323900' for transcript 'PF3D7_0323900'. File '/Users/rpearson/src/github/malariagen/methods-dev/pf3k_techbm/opt/snpeff/snpEff/./data/Pf3D7july2015/genes.gff' line 4958\t'Pf3D7_03_v3\tchado\tpseudogene\t1002872\t1004267\t.\t-\t.\tID=PF3D7_0323900;Name=VAR;previous_systematic_id=PFC1070c'\r\n",
        "WARNING: Cannot find gene 'Gene_PF3D7_0324700'. Created gene 'Gene_PF3D7_0324700' for transcript 'PF3D7_0324700'. File '/Users/rpearson/src/github/malariagen/methods-dev/pf3k_techbm/opt/snpeff/snpEff/./data/Pf3D7july2015/genes.gff' line 5017\t'Pf3D7_03_v3\tchado\tpseudogene\t1024030\t1025411\t.\t+\t.\tID=PF3D7_0324700;Name=VAR;previous_systematic_id=PFC1110w'\r\n",
        "WARNING: Cannot find gene 'Gene_PF3D7_0400200'. Created gene 'Gene_PF3D7_0400200' for transcript 'PF3D7_0400200'. File '/Users/rpearson/src/github/malariagen/methods-dev/pf3k_techbm/opt/snpeff/snpEff/./data/Pf3D7july2015/genes.gff' line 5057\t'Pf3D7_04_v3\tchado\tpseudogene\t38955\t40154\t.\t+\t.\tID=PF3D7_0400200;previous_systematic_id=PFD0010w'\r\n",
        "WARNING: Cannot find gene 'Gene_PF3D7_0400600'. Created gene 'Gene_PF3D7_0400600' for transcript 'PF3D7_0400600'. File '/Users/rpearson/src/github/malariagen/methods-dev/pf3k_techbm/opt/snpeff/snpEff/./data/Pf3D7july2015/genes.gff' line 5084\t'Pf3D7_04_v3\tchado\tpseudogene\t61411\t61489\t.\t+\t.\tID=PF3D7_0400600;previous_systematic_id=PFD0028w'\r\n",
        ".WARNING: Cannot find gene 'Gene_PF3D7_0401500'. Created gene 'Gene_PF3D7_0401500' for transcript 'PF3D7_0401500'. File '/Users/rpearson/src/github/malariagen/methods-dev/pf3k_techbm/opt/snpeff/snpEff/./data/Pf3D7july2015/genes.gff' line 5147\t'Pf3D7_04_v3\tchado\tpseudogene\t89153\t90184\t.\t+\t.\tID=PF3D7_0401500;previous_systematic_id=PFD0065w'\r\n",
        "WARNING: Cannot find gene 'Gene_PF3D7_0401700'. Created gene 'Gene_PF3D7_0401700' for transcript 'PF3D7_0401700'. File '/Users/rpearson/src/github/malariagen/methods-dev/pf3k_techbm/opt/snpeff/snpEff/./data/Pf3D7july2015/genes.gff' line 5166\t'Pf3D7_04_v3\tchado\tpseudogene\t100684\t102110\t.\t+\t.\tID=PF3D7_0401700;previous_systematic_id=PFD0075w'"
       ]
      },
      {
       "output_type": "stream",
       "stream": "stdout",
       "text": [
        "\r\n",
        "WARNING: Cannot find gene 'Gene_PF3D7_0402200'. Created gene 'Gene_PF3D7_0402200' for transcript 'PF3D7_0402200'. File '/Users/rpearson/src/github/malariagen/methods-dev/pf3k_techbm/opt/snpeff/snpEff/./data/Pf3D7july2015/genes.gff' line 5200\t'Pf3D7_04_v3\tchado\tpseudogene\t127712\t134468\t.\t-\t.\tID=PF3D7_0402200;Name=SURF4.1;previous_systematic_id=PFD0100c;synonym=3D7Surf4.1%3Bcurrent%3Dfalse'\r\n",
        "WARNING: Cannot find gene 'Gene_PF3D7_0402500'. Created gene 'Gene_PF3D7_0402500' for transcript 'PF3D7_0402500'. File '/Users/rpearson/src/github/malariagen/methods-dev/pf3k_techbm/opt/snpeff/snpEff/./data/Pf3D7july2015/genes.gff' line 5221\t'Pf3D7_04_v3\tchado\tpseudogene\t155877\t156984\t.\t+\t.\tID=PF3D7_0402500;Name=RIF;previous_systematic_id=PFD0120w;synonym=RIF-A'\r\n",
        "WARNING: Cannot find gene 'Gene_PF3D7_0402700'. Created gene 'Gene_PF3D7_0402700' for transcript 'PF3D7_0402700'. File '/Users/rpearson/src/github/malariagen/methods-dev/pf3k_techbm/opt/snpeff/snpEff/./data/Pf3D7july2015/genes.gff' line 5237\t'Pf3D7_04_v3\tchado\tpseudogene\t162511\t163724\t.\t-\t.\tID=PF3D7_0402700;Name=RIF;previous_systematic_id=PFD0135c;synonym=RIF-A'\r\n",
        "WARNING: Cannot find gene 'Gene_PF3D7_0402800'. Created gene 'Gene_PF3D7_0402800' for transcript 'PF3D7_0402800'. File '/Users/rpearson/src/github/malariagen/methods-dev/pf3k_techbm/opt/snpeff/snpEff/./data/Pf3D7july2015/genes.gff' line 5244\t'Pf3D7_04_v3\tchado\tpseudogene\t167449\t171985\t.\t+\t.\tID=PF3D7_0402800;previous_systematic_id=PFD0140w'\r\n",
        ".WARNING: Cannot find gene 'Gene_PF3D7_0412600'. Created gene 'Gene_PF3D7_0412600' for transcript 'PF3D7_0412600'. File '/Users/rpearson/src/github/malariagen/methods-dev/pf3k_techbm/opt/snpeff/snpEff/./data/Pf3D7july2015/genes.gff' line 5972\t'Pf3D7_04_v3\tchado\tpseudogene\t559387\t560638\t.\t-\t.\tID=PF3D7_0412600;Name=RIF;previous_systematic_id=PFD0620c;synonym=RIF-A'\r\n",
        "WARNING: Cannot find gene 'Gene_PF3D7_0413400'. Created gene 'Gene_PF3D7_0413400' for transcript 'PF3D7_0413400'. File '/Users/rpearson/src/github/malariagen/methods-dev/pf3k_techbm/opt/snpeff/snpEff/./data/Pf3D7july2015/genes.gff' line 6024\t'Pf3D7_04_v3\tchado\tpseudogene\t612798\t614069\t.\t+\t.\tID=PF3D7_0413400;Name=VAR;previous_systematic_id=PFD0655w'\r\n",
        ".WARNING: Cannot find gene 'Gene_PF3D7_0421500'. Created gene 'Gene_PF3D7_0421500' for transcript 'PF3D7_0421500'. File '/Users/rpearson/src/github/malariagen/methods-dev/pf3k_techbm/opt/snpeff/snpEff/./data/Pf3D7july2015/genes.gff' line 6669\t'Pf3D7_04_v3\tchado\tpseudogene\t981823\t982990\t.\t-\t.\tID=PF3D7_0421500;Name=RIF;previous_systematic_id=PFD1020c;synonym=RIF-A'\r\n",
        "WARNING: Cannot find gene 'Gene_PF3D7_0421600'. Created gene 'Gene_PF3D7_0421600' for transcript 'PF3D7_0421600'. File '/Users/rpearson/src/github/malariagen/methods-dev/pf3k_techbm/opt/snpeff/snpEff/./data/Pf3D7july2015/genes.gff' line 6679\t'Pf3D7_04_v3\tchado\tpseudogene\t986135\t987447\t.\t+\t.\tID=PF3D7_0421600;Name=VAR;previous_systematic_id=PFD1025w'\r\n",
        "WARNING: Cannot find gene 'Gene_PF3D7_0424300'. Created gene 'Gene_PF3D7_0424300' for transcript 'PF3D7_0424300'. File '/Users/rpearson/src/github/malariagen/methods-dev/pf3k_techbm/opt/snpeff/snpEff/./data/Pf3D7july2015/genes.gff' line 6873\t'Pf3D7_04_v3\tchado\tpseudogene\t1093138\t1097835\t.\t+\t.\tID=PF3D7_0424300;Name=EBA165;previous_systematic_id=PFD1155w;synonym=eba-165%3Bcurrent%3Dfalse,PAEBL'\r\n",
        "WARNING: Cannot find gene 'Gene_PF3D7_0425000'. Created gene 'Gene_PF3D7_0425000' for transcript 'PF3D7_0425000'. File '/Users/rpearson/src/github/malariagen/methods-dev/pf3k_techbm/opt/snpeff/snpEff/./data/Pf3D7july2015/genes.gff' line 6928\t'Pf3D7_04_v3\tchado\tpseudogene\t1129660\t1130893\t.\t-\t.\tID=PF3D7_0425000;previous_systematic_id=PFD1195c'\r\n",
        "WARNING: Cannot find gene 'Gene_PF3D7_0425250'. Created gene 'Gene_PF3D7_0425250' for transcript 'PF3D7_0425250'. File '/Users/rpearson/src/github/malariagen/methods-dev/pf3k_techbm/opt/snpeff/snpEff/./data/Pf3D7july2015/genes.gff' line 6952\t'Pf3D7_04_v3\tchado\tpseudogene\t1138009\t1138559\t.\t-\t.\tID=PF3D7_0425250'\r\n",
        "WARNING: Cannot find gene 'Gene_PF3D7_0425300'. Created gene 'Gene_PF3D7_0425300' for transcript 'PF3D7_0425300'. File '/Users/rpearson/src/github/malariagen/methods-dev/pf3k_techbm/opt/snpeff/snpEff/./data/Pf3D7july2015/genes.gff' line 6961\t'Pf3D7_04_v3\tchado\tpseudogene\t1141222\t1142096\t.\t+\t.\tID=PF3D7_0425300;previous_systematic_id=PFD1210w'\r\n",
        "WARNING: Cannot find gene 'Gene_PF3D7_0425600'. Created gene 'Gene_PF3D7_0425600' for transcript 'PF3D7_0425600'. File '/Users/rpearson/src/github/malariagen/methods-dev/pf3k_techbm/opt/snpeff/snpEff/./data/Pf3D7july2015/genes.gff' line 6985\t'Pf3D7_04_v3\tchado\tpseudogene\t1149274\t1150188\t.\t+\t.\tID=PF3D7_0425600;Name=RIF;previous_systematic_id=PFD1225w;synonym=RIF-A'\r\n",
        "WARNING: Cannot find gene 'Gene_PF3D7_0500200'. Created gene 'Gene_PF3D7_0500200' for transcript 'PF3D7_0500200'. File '/Users/rpearson/src/github/malariagen/methods-dev/pf3k_techbm/opt/snpeff/snpEff/./data/Pf3D7july2015/genes.gff' line 7032\t'Pf3D7_05_v3\tchado\tpseudogene\t29233\t29304\t.\t-\t.\tID=PF3D7_0500200;previous_systematic_id=PFE0010c'\r\n",
        "WARNING: Cannot find gene 'Gene_PF3D7_0500300'. Created gene 'Gene_PF3D7_0500300' for transcript 'PF3D7_0500300'. File '/Users/rpearson/src/github/malariagen/methods-dev/pf3k_techbm/opt/snpeff/snpEff/./data/Pf3D7july2015/genes.gff' line 7040\t'Pf3D7_05_v3\tchado\tpseudogene\t29776\t30963\t.\t-\t.\tID=PF3D7_0500300;Name=RIF;previous_systematic_id=PFE0015c;synonym=RIF-B'\r\n",
        "WARNING: Cannot find gene 'Gene_PF3D7_0500600'. Created gene 'Gene_PF3D7_0500600' for transcript 'PF3D7_0500600'. File '/Users/rpearson/src/github/malariagen/methods-dev/pf3k_techbm/opt/snpeff/snpEff/./data/Pf3D7july2015/genes.gff' line 7061\t'Pf3D7_05_v3\tchado\tpseudogene\t39443\t40488\t.\t-\t.\tID=PF3D7_0500600;previous_systematic_id=PFE0030c'\r\n",
        "WARNING: Cannot find gene 'Gene_PF3D7_0500700'. Created gene 'Gene_PF3D7_0500700' for transcript 'PF3D7_0500700'. File '/Users/rpearson/src/github/malariagen/methods-dev/pf3k_techbm/opt/snpeff/snpEff/./data/Pf3D7july2015/genes.gff' line 7069\t'Pf3D7_05_v3\tchado\tpseudogene\t41129\t41403\t.\t-\t.\tID=PF3D7_0500700;Name=RIF;previous_systematic_id=PFE0035c'\r\n",
        ".WARNING: Cannot find gene 'Gene_PF3D7_0506600'. Created gene 'Gene_PF3D7_0506600' for transcript 'PF3D7_0506600'. File '/Users/rpearson/src/github/malariagen/methods-dev/pf3k_techbm/opt/snpeff/snpEff/./data/Pf3D7july2015/genes.gff' line 7502\t'Pf3D7_05_v3\tchado\tpseudogene\t278774\t279495\t.\t-\t.\tID=PF3D7_0506600;previous_systematic_id=PFE0328w'\r\n",
        "WARNING: Cannot find gene 'Gene_PF3D7_0512450'. Created gene 'Gene_PF3D7_0512450' for transcript 'PF3D7_0512450'. File '/Users/rpearson/src/github/malariagen/methods-dev/pf3k_techbm/opt/snpeff/snpEff/./data/Pf3D7july2015/genes.gff' line 7923\t'Pf3D7_05_v3\tchado\tpseudogene\t537499\t539282\t.\t+\t.\tID=PF3D7_0512450'\r\n",
        "...WARNING: Cannot find gene 'Gene_PF3D7_0532700'. Created gene 'Gene_PF3D7_0532700' for transcript 'PF3D7_0532700'. File '/Users/rpearson/src/github/malariagen/methods-dev/pf3k_techbm/opt/snpeff/snpEff/./data/Pf3D7july2015/genes.gff' line 9465\t'Pf3D7_05_v3\tchado\tpseudogene\t1322400\t1323249\t.\t-\t.\tID=PF3D7_0532700;Name=VAR;previous_systematic_id=PFE1620c'\r\n",
        "WARNING: Cannot find gene 'Gene_PF3D7_0532800'. Created gene 'Gene_PF3D7_0532800' for transcript 'PF3D7_0532800'. File '/Users/rpearson/src/github/malariagen/methods-dev/pf3k_techbm/opt/snpeff/snpEff/./data/Pf3D7july2015/genes.gff' line 9472\t'Pf3D7_05_v3\tchado\tpseudogene\t1324239\t1325027\t.\t-\t.\tID=PF3D7_0532800;previous_systematic_id=PFE1627c'\r\n",
        "WARNING: Cannot find gene 'Gene_PF3D7_0533000'. Created gene 'Gene_PF3D7_0533000' for transcript 'PF3D7_0533000'. File '/Users/rpearson/src/github/malariagen/methods-dev/pf3k_techbm/opt/snpeff/snpEff/./data/Pf3D7july2015/genes.gff' line 9489\t'Pf3D7_05_v3\tchado\tpseudogene\t1329555\t1330808\t.\t+\t.\tID=PF3D7_0533000;Name=RIF;previous_systematic_id=PFE1635w;synonym=RIF-A'\r\n",
        "WARNING: Cannot find gene 'Gene_PF3D7_0533100'. Created gene 'Gene_PF3D7_0533100' for transcript 'PF3D7_0533100'. File '/Users/rpearson/src/github/malariagen/methods-dev/pf3k_techbm/opt/snpeff/snpEff/./data/Pf3D7july2015/genes.gff' line 9496\t'Pf3D7_05_v3\tchado\tpseudogene\t1333470\t1342964\t.\t+\t.\tID=PF3D7_0533100;Name=VAR1CSA;previous_systematic_id=PFE1640w;synonym=VAR-UPSA2'\r\n",
        "WARNING: Cannot find gene 'Gene_PF3D7_0600100'. Created gene 'Gene_PF3D7_0600100' for transcript 'PF3D7_0600100'. File '/Users/rpearson/src/github/malariagen/methods-dev/pf3k_techbm/opt/snpeff/snpEff/./data/Pf3D7july2015/genes.gff' line 9506\t'Pf3D7_06_v3\tchado\tpseudogene\t653\t1432\t.\t-\t.\tID=PF3D7_0600100;Name=VAR;previous_systematic_id=PFF0005c'\r\n",
        "WARNING: Cannot find gene 'Gene_PF3D7_0600800'. Created gene 'Gene_PF3D7_0600800' for transcript 'PF3D7_0600800'. File '/Users/rpearson/src/github/malariagen/methods-dev/pf3k_techbm/opt/snpeff/snpEff/./data/Pf3D7july2015/genes.gff' line 9554\t'Pf3D7_06_v3\tchado\tpseudogene\t35355\t36595\t.\t-\t.\tID=PF3D7_0600800;Name=RIF;previous_systematic_id=PFF0040c;synonym=RIF-B'\r\n",
        "WARNING: Cannot find gene 'Gene_PF3D7_0600900'. Created gene 'Gene_PF3D7_0600900' for transcript 'PF3D7_0600900'. File '/Users/rpearson/src/github/malariagen/methods-dev/pf3k_techbm/opt/snpeff/snpEff/./data/Pf3D7july2015/genes.gff' line 9562\t'Pf3D7_06_v3\tchado\tpseudogene\t38721\t39781\t.\t-\t.\tID=PF3D7_0600900;Name=RIF;previous_systematic_id=PFF0045c;synonym=RIF-B'\r\n",
        "WARNING: Cannot find gene 'Gene_PF3D7_0601400'. Created gene 'Gene_PF3D7_0601400' for transcript 'PF3D7_0601400'. File '/Users/rpearson/src/github/malariagen/methods-dev/pf3k_techbm/opt/snpeff/snpEff/./data/Pf3D7july2015/genes.gff' line 9596\t'Pf3D7_06_v3\tchado\tpseudogene\t51351\t52898\t.\t+\t.\tID=PF3D7_0601400;Name=VAR;previous_systematic_id=PFF0070w'\r\n",
        "WARNING: Cannot find gene 'Gene_PF3D7_0601700'. Created gene 'Gene_PF3D7_0601700' for transcript 'PF3D7_0601700'. File '/Users/rpearson/src/github/malariagen/methods-dev/pf3k_techbm/opt/snpeff/snpEff/./data/Pf3D7july2015/genes.gff' line 9615\t'Pf3D7_06_v3\tchado\tpseudogene\t70948\t71935\t.\t+\t.\tID=PF3D7_0601700;previous_systematic_id=PFF0085w'\r\n"
       ]
      },
      {
       "output_type": "stream",
       "stream": "stdout",
       "text": [
        ".WARNING: Cannot find gene 'Gene_PF3D7_0617500'. Created gene 'Gene_PF3D7_0617500' for transcript 'PF3D7_0617500'. File '/Users/rpearson/src/github/malariagen/methods-dev/pf3k_techbm/opt/snpeff/snpEff/./data/Pf3D7july2015/genes.gff' line 10852\t'Pf3D7_06_v3\tchado\tpseudogene\t735368\t736327\t.\t+\t.\tID=PF3D7_0617500;Name=RIF;previous_systematic_id=PFF0847w'\r\n",
        "..WARNING: Cannot find gene 'Gene_PF3D7_0631200'. Created gene 'Gene_PF3D7_0631200' for transcript 'PF3D7_0631200'. File '/Users/rpearson/src/github/malariagen/methods-dev/pf3k_techbm/opt/snpeff/snpEff/./data/Pf3D7july2015/genes.gff' line 11926\t'Pf3D7_06_v3\tchado\tpseudogene\t1313708\t1315253\t.\t-\t.\tID=PF3D7_0631200;Name=VAR;previous_systematic_id=PFF1515c'\r\n",
        "WARNING: Cannot find gene 'Gene_PF3D7_0631700'. Created gene 'Gene_PF3D7_0631700' for transcript 'PF3D7_0631700'. File '/Users/rpearson/src/github/malariagen/methods-dev/pf3k_techbm/opt/snpeff/snpEff/./data/Pf3D7july2015/genes.gff' line 11961\t'Pf3D7_06_v3\tchado\tpseudogene\t1326737\t1327918\t.\t+\t.\tID=PF3D7_0631700;previous_systematic_id=PFF1540w;synonym=RIF-A'\r\n",
        "WARNING: Cannot find gene 'Gene_PF3D7_0632600'. Created gene 'Gene_PF3D7_0632600' for transcript 'PF3D7_0632600'. File '/Users/rpearson/src/github/malariagen/methods-dev/pf3k_techbm/opt/snpeff/snpEff/./data/Pf3D7july2015/genes.gff' line 12023\t'Pf3D7_06_v3\tchado\tpseudogene\t1367912\t1369107\t.\t+\t.\tID=PF3D7_0632600;Name=RIF;previous_systematic_id=PFF1585w;synonym=RIF-B'\r\n",
        "WARNING: Cannot find gene 'Gene_PF3D7_0700600'. Created gene 'Gene_PF3D7_0700600' for transcript 'PF3D7_0700600'. File '/Users/rpearson/src/github/malariagen/methods-dev/pf3k_techbm/opt/snpeff/snpEff/./data/Pf3D7july2015/genes.gff' line 12087\t'Pf3D7_07_v3\tchado\tpseudogene\t43192\t44140\t.\t-\t.\tID=PF3D7_0700600;previous_systematic_id=MAL8P1.215'\r\n",
        "WARNING: Cannot find gene 'Gene_PF3D7_0700700'. Created gene 'Gene_PF3D7_0700700' for transcript 'PF3D7_0700700'. File '/Users/rpearson/src/github/malariagen/methods-dev/pf3k_techbm/opt/snpeff/snpEff/./data/Pf3D7july2015/genes.gff' line 12095\t'Pf3D7_07_v3\tchado\tpseudogene\t45559\t46607\t.\t+\t.\tID=PF3D7_0700700;previous_systematic_id=MAL8P1.214'\r\n",
        "WARNING: Cannot find gene 'Gene_PF3D7_0700900'. Created gene 'Gene_PF3D7_0700900' for transcript 'PF3D7_0700900'. File '/Users/rpearson/src/github/malariagen/methods-dev/pf3k_techbm/opt/snpeff/snpEff/./data/Pf3D7july2015/genes.gff' line 12107\t'Pf3D7_07_v3\tchado\tpseudogene\t49779\t50832\t.\t-\t.\tID=PF3D7_0700900;previous_systematic_id=MAL8P1.212'\r\n",
        "WARNING: Cannot find gene 'Gene_PF3D7_0701000'. Created gene 'Gene_PF3D7_0701000' for transcript 'PF3D7_0701000'. File '/Users/rpearson/src/github/malariagen/methods-dev/pf3k_techbm/opt/snpeff/snpEff/./data/Pf3D7july2015/genes.gff' line 12116\t'Pf3D7_07_v3\tchado\tpseudogene\t52086\t53636\t.\t+\t.\tID=PF3D7_0701000;previous_systematic_id=MAL8P1.211'\r\n",
        "WARNING: Cannot find gene 'Gene_PF3D7_0701200'. Created gene 'Gene_PF3D7_0701200' for transcript 'PF3D7_0701200'. File '/Users/rpearson/src/github/malariagen/methods-dev/pf3k_techbm/opt/snpeff/snpEff/./data/Pf3D7july2015/genes.gff' line 12129\t'Pf3D7_07_v3\tchado\tpseudogene\t59277\t60366\t.\t-\t.\tID=PF3D7_0701200;Name=RIF;synonym=RIF-B'\r\n",
        "WARNING: Cannot find gene 'Gene_PF3D7_0701300'. Created gene 'Gene_PF3D7_0701300' for transcript 'PF3D7_0701300'. File '/Users/rpearson/src/github/malariagen/methods-dev/pf3k_techbm/opt/snpeff/snpEff/./data/Pf3D7july2015/genes.gff' line 12137\t'Pf3D7_07_v3\tchado\tpseudogene\t62220\t63401\t.\t-\t.\tID=PF3D7_0701300;Name=RIF;previous_systematic_id=MAL7P1.200;synonym=RIF-B'\r\n",
        "WARNING: Cannot find gene 'Gene_PF3D7_0701400'. Created gene 'Gene_PF3D7_0701400' for transcript 'PF3D7_0701400'. File '/Users/rpearson/src/github/malariagen/methods-dev/pf3k_techbm/opt/snpeff/snpEff/./data/Pf3D7july2015/genes.gff' line 12147\t'Pf3D7_07_v3\tchado\tpseudogene\t65718\t66854\t.\t-\t.\tID=PF3D7_0701400;Name=EPF4;previous_systematic_id=MAL7P1.3'\r\n",
        "WARNING: Cannot find gene 'Gene_PF3D7_0702100'. Created gene 'Gene_PF3D7_0702100' for transcript 'PF3D7_0702100'. File '/Users/rpearson/src/github/malariagen/methods-dev/pf3k_techbm/opt/snpeff/snpEff/./data/Pf3D7july2015/genes.gff' line 12196\t'Pf3D7_07_v3\tchado\tpseudogene\t88685\t90886\t.\t+\t.\tID=PF3D7_0702100;previous_systematic_id=MAL7P1.7'\r\n",
        ".WARNING: Cannot find gene 'Gene_PF3D7_0711900'. Created gene 'Gene_PF3D7_0711900' for transcript 'PF3D7_0711900'. File '/Users/rpearson/src/github/malariagen/methods-dev/pf3k_techbm/opt/snpeff/snpEff/./data/Pf3D7july2015/genes.gff' line 12872\t'Pf3D7_07_v3\tchado\tpseudogene\t525063\t526320\t.\t-\t.\tID=PF3D7_0711900;Name=RIF;previous_systematic_id=MAL7P1.43;synonym=RIF-A'\r\n",
        "WARNING: Cannot find gene 'Gene_PF3D7_0712200'. Created gene 'Gene_PF3D7_0712200' for transcript 'PF3D7_0712200'. File '/Users/rpearson/src/github/malariagen/methods-dev/pf3k_techbm/opt/snpeff/snpEff/./data/Pf3D7july2015/genes.gff' line 12893\t'Pf3D7_07_v3\tchado\tpseudogene\t540343\t541541\t.\t-\t.\tID=PF3D7_0712200;Name=RIF;previous_systematic_id=MAL7P1.47;synonym=RIF-A'\r\n",
        "WARNING: Cannot find gene 'Gene_PF3D7_0712500'. Created gene 'Gene_PF3D7_0712500' for transcript 'PF3D7_0712500'. File '/Users/rpearson/src/github/malariagen/methods-dev/pf3k_techbm/opt/snpeff/snpEff/./data/Pf3D7july2015/genes.gff' line 12915\t'Pf3D7_07_v3\tchado\tpseudogene\t562906\t564160\t.\t-\t.\tID=PF3D7_0712500;Name=RIF;previous_systematic_id=MAL7P1.52;synonym=RIF-A'\r\n",
        ".WARNING: Cannot find gene 'Gene_PF3D7_0713300'. Created gene 'Gene_PF3D7_0713300' for transcript 'PF3D7_0713300'. File '/Users/rpearson/src/github/malariagen/methods-dev/pf3k_techbm/opt/snpeff/snpEff/./data/Pf3D7july2015/genes.gff' line 12967\t'Pf3D7_07_v3\tchado\tpseudogene\t609297\t610522\t.\t+\t.\tID=PF3D7_0713300;Name=VAR;previous_systematic_id=MAL7P1.61'\r\n",
        ".WARNING: Cannot find gene 'Gene_PF3D7_0731400'. Created gene 'Gene_PF3D7_0731400' for transcript 'PF3D7_0731400'. File '/Users/rpearson/src/github/malariagen/methods-dev/pf3k_techbm/opt/snpeff/snpEff/./data/Pf3D7july2015/genes.gff' line 14329\t'Pf3D7_07_v3\tchado\tpseudogene\t1353758\t1355482\t.\t+\t.\tID=PF3D7_0731400;Name=FIKK7.2;previous_systematic_id=MAL7P1.175;synonym=TSTK7b,PFTSTK7b%3Bcurrent%3Dfalse'\r\n",
        "WARNING: Cannot find gene 'Gene_PF3D7_0731900'. Created gene 'Gene_PF3D7_0731900' for transcript 'PF3D7_0731900'. File '/Users/rpearson/src/github/malariagen/methods-dev/pf3k_techbm/opt/snpeff/snpEff/./data/Pf3D7july2015/genes.gff' line 14365\t'Pf3D7_07_v3\tchado\tpseudogene\t1382410\t1383524\t.\t+\t.\tID=PF3D7_0731900;Name=RIF;previous_systematic_id=MAL7P1.179;synonym=RIF-B'\r\n",
        "WARNING: Cannot find gene 'Gene_PF3D7_0732100'. Created gene 'Gene_PF3D7_0732100' for transcript 'PF3D7_0732100'. File '/Users/rpearson/src/github/malariagen/methods-dev/pf3k_techbm/opt/snpeff/snpEff/./data/Pf3D7july2015/genes.gff' line 14379\t'Pf3D7_07_v3\tchado\tpseudogene\t1387753\t1389037\t.\t+\t.\tID=PF3D7_0732100;Name=VAR;previous_systematic_id=MAL7P1.183'\r\n",
        ".WARNING: Cannot find gene 'Gene_PF3D7_0800750'. Created gene 'Gene_PF3D7_0800750' for transcript 'PF3D7_0800750'. File '/Users/rpearson/src/github/malariagen/methods-dev/pf3k_techbm/opt/snpeff/snpEff/./data/Pf3D7july2015/genes.gff' line 14506\t'Pf3D7_08_v3\tchado\tpseudogene\t76520\t77102\t.\t+\t.\tID=PF3D7_0800750'\r\n",
        "WARNING: Cannot find gene 'Gene_PF3D7_0800900'. Created gene 'Gene_PF3D7_0800900' for transcript 'PF3D7_0800900'. File '/Users/rpearson/src/github/malariagen/methods-dev/pf3k_techbm/opt/snpeff/snpEff/./data/Pf3D7july2015/genes.gff' line 14527\t'Pf3D7_08_v3\tchado\tpseudogene\t83128\t83904\t.\t+\t.\tID=PF3D7_0800900;previous_systematic_id=MAL8P1.160'\r\n",
        "...WARNING: Cannot find gene 'Gene_PF3D7_0831750'. Created gene 'Gene_PF3D7_0831750' for transcript 'PF3D7_0831750'. File '/Users/rpearson/src/github/malariagen/methods-dev/pf3k_techbm/opt/snpeff/snpEff/./data/Pf3D7july2015/genes.gff' line 16845\t'Pf3D7_08_v3\tchado\tpseudogene\t1371847\t1372720\t.\t+\t.\tID=PF3D7_0831750'\r\n",
        "WARNING: Cannot find gene 'Gene_PF3D7_0831900'. Created gene 'Gene_PF3D7_0831900' for transcript 'PF3D7_0831900'. File '/Users/rpearson/src/github/malariagen/methods-dev/pf3k_techbm/opt/snpeff/snpEff/./data/Pf3D7july2015/genes.gff' line 16863\t'Pf3D7_08_v3\tchado\tpseudogene\t1380834\t1381835\t.\t+\t.\tID=PF3D7_0831900;previous_systematic_id=MAL7P1.230'\r\n",
        "WARNING: Cannot find gene 'Gene_PF3D7_0832100'. Created gene 'Gene_PF3D7_0832100' for transcript 'PF3D7_0832100'. File '/Users/rpearson/src/github/malariagen/methods-dev/pf3k_techbm/opt/snpeff/snpEff/./data/Pf3D7july2015/genes.gff' line 16881\t'Pf3D7_08_v3\tchado\tpseudogene\t1386625\t1387882\t.\t-\t.\tID=PF3D7_0832100;Name=RIF;previous_systematic_id=MAL7P1.226'\r\n",
        "WARNING: Cannot find gene 'Gene_PF3D7_0832250'. Created gene 'Gene_PF3D7_0832250' for transcript 'PF3D7_0832250'. File '/Users/rpearson/src/github/malariagen/methods-dev/pf3k_techbm/opt/snpeff/snpEff/./data/Pf3D7july2015/genes.gff' line 16903\t'Pf3D7_08_v3\tchado\tpseudogene\t1394403\t1394886\t.\t+\t.\tID=PF3D7_0832250'\r\n",
        "WARNING: Cannot find gene 'Gene_PF3D7_0832700'. Created gene 'Gene_PF3D7_0832700' for transcript 'PF3D7_0832700'. File '/Users/rpearson/src/github/malariagen/methods-dev/pf3k_techbm/opt/snpeff/snpEff/./data/Pf3D7july2015/genes.gff' line 16938\t'Pf3D7_08_v3\tchado\tpseudogene\t1408571\t1409356\t.\t+\t.\tID=PF3D7_0832700;previous_systematic_id=MAL7P1.220'\r\n",
        "WARNING: Cannot find gene 'Gene_PF3D7_0833300'. Created gene 'Gene_PF3D7_0833300' for transcript 'PF3D7_0833300'. File '/Users/rpearson/src/github/malariagen/methods-dev/pf3k_techbm/opt/snpeff/snpEff/./data/Pf3D7july2015/genes.gff' line 16981\t'Pf3D7_08_v3\tchado\tpseudogene\t1429330\t1430514\t.\t+\t.\tID=PF3D7_0833300;previous_systematic_id=MAL7P1.214'\r\n"
       ]
      },
      {
       "output_type": "stream",
       "stream": "stdout",
       "text": [
        "WARNING: Cannot find gene 'Gene_PF3D7_0900800'. Created gene 'Gene_PF3D7_0900800' for transcript 'PF3D7_0900800'. File '/Users/rpearson/src/github/malariagen/methods-dev/pf3k_techbm/opt/snpeff/snpEff/./data/Pf3D7july2015/genes.gff' line 17058\t'Pf3D7_09_v3\tchado\tpseudogene\t52648\t54020\t.\t-\t.\tID=PF3D7_0900800;Name=VAR;previous_systematic_id=PFI0040c'\r\n",
        "WARNING: Cannot find gene 'Gene_PF3D7_0902700'. Created gene 'Gene_PF3D7_0902700' for transcript 'PF3D7_0902700'. File '/Users/rpearson/src/github/malariagen/methods-dev/pf3k_techbm/opt/snpeff/snpEff/./data/Pf3D7july2015/genes.gff' line 17200\t'Pf3D7_09_v3\tchado\tpseudogene\t119261\t120749\t.\t-\t.\tID=PF3D7_0902700;previous_systematic_id=PFI0130c'\r\n",
        "....WARNING: Cannot find gene 'Gene_PF3D7_0936900'. Created gene 'Gene_PF3D7_0936900' for transcript 'PF3D7_0936900'. File '/Users/rpearson/src/github/malariagen/methods-dev/pf3k_techbm/opt/snpeff/snpEff/./data/Pf3D7july2015/genes.gff' line 19894\t'Pf3D7_09_v3\tchado\tpseudogene\t1462400\t1463659\t.\t+\t.\tID=PF3D7_0936900;previous_systematic_id=PFI1785w'\r\n",
        "WARNING: Cannot find gene 'Gene_PF3D7_1000700'. Created gene 'Gene_PF3D7_1000700' for transcript 'PF3D7_1000700'. File '/Users/rpearson/src/github/malariagen/methods-dev/pf3k_techbm/opt/snpeff/snpEff/./data/Pf3D7july2015/genes.gff' line 20011\t'Pf3D7_10_v3\tchado\tpseudogene\t54542\t55498\t.\t-\t.\tID=PF3D7_1000700;previous_systematic_id=PF10_0007'\r\n",
        "WARNING: Cannot find gene 'Gene_PF3D7_1000800'. Created gene 'Gene_PF3D7_1000800' for transcript 'PF3D7_1000800'. File '/Users/rpearson/src/github/malariagen/methods-dev/pf3k_techbm/opt/snpeff/snpEff/./data/Pf3D7july2015/genes.gff' line 20020\t'Pf3D7_10_v3\tchado\tpseudogene\t57968\t58980\t.\t+\t.\tID=PF3D7_1000800;previous_systematic_id=PF10_0009'\r\n",
        "WARNING: Cannot find gene 'Gene_PF3D7_1000900'. Created gene 'Gene_PF3D7_1000900' for transcript 'PF3D7_1000900'. File '/Users/rpearson/src/github/malariagen/methods-dev/pf3k_techbm/opt/snpeff/snpEff/./data/Pf3D7july2015/genes.gff' line 20027\t'Pf3D7_10_v3\tchado\tpseudogene\t60024\t61365\t.\t+\t.\tID=PF3D7_1000900;previous_systematic_id=PF10_0012'\r\n",
        ".WARNING: Cannot find gene 'Gene_PF3D7_1008300'. Created gene 'Gene_PF3D7_1008300' for transcript 'PF3D7_1008300'. File '/Users/rpearson/src/github/malariagen/methods-dev/pf3k_techbm/opt/snpeff/snpEff/./data/Pf3D7july2015/genes.gff' line 20583\t'Pf3D7_10_v3\tchado\tpseudogene\t346407\t346514\t.\t+\t.\tID=PF3D7_1008300;previous_systematic_id=PF10_0080a'\r\n",
        "..WARNING: Cannot find gene 'Gene_PF3D7_1029000'. Created gene 'Gene_PF3D7_1029000' for transcript 'PF3D7_1029000'. File '/Users/rpearson/src/github/malariagen/methods-dev/pf3k_techbm/opt/snpeff/snpEff/./data/Pf3D7july2015/genes.gff' line 22246\t'Pf3D7_10_v3\tchado\tpseudogene\t1187503\t1189589\t.\t-\t.\tID=PF3D7_1029000;previous_systematic_id=PF10_0283a'\r\n",
        ".WARNING: Cannot find gene 'Gene_PF3D7_1039100'. Created gene 'Gene_PF3D7_1039100' for transcript 'PF3D7_1039100'. File '/Users/rpearson/src/github/malariagen/methods-dev/pf3k_techbm/opt/snpeff/snpEff/./data/Pf3D7july2015/genes.gff' line 23042\t'Pf3D7_10_v3\tchado\tpseudogene\t1574060\t1575948\t.\t+\t.\tID=PF3D7_1039100;previous_systematic_id=PF10_0381'\r\n",
        "WARNING: Cannot find gene 'Gene_PF3D7_1039200'. Created gene 'Gene_PF3D7_1039200' for transcript 'PF3D7_1039200'. File '/Users/rpearson/src/github/malariagen/methods-dev/pf3k_techbm/opt/snpeff/snpEff/./data/Pf3D7july2015/genes.gff' line 23047\t'Pf3D7_10_v3\tchado\tpseudogene\t1576441\t1576991\t.\t-\t.\tID=PF3D7_1039200;previous_systematic_id=PF10_0382a'\r\n",
        "WARNING: Cannot find gene 'Gene_PF3D7_1039400'. Created gene 'Gene_PF3D7_1039400' for transcript 'PF3D7_1039400'. File '/Users/rpearson/src/github/malariagen/methods-dev/pf3k_techbm/opt/snpeff/snpEff/./data/Pf3D7july2015/genes.gff' line 23056\t'Pf3D7_10_v3\tchado\tpseudogene\t1587152\t1588498\t.\t-\t.\tID=PF3D7_1039400;previous_systematic_id=PF10_0384'\r\n",
        "WARNING: Cannot find gene 'Gene_PF3D7_1039600'. Created gene 'Gene_PF3D7_1039600' for transcript 'PF3D7_1039600'. File '/Users/rpearson/src/github/malariagen/methods-dev/pf3k_techbm/opt/snpeff/snpEff/./data/Pf3D7july2015/genes.gff' line 23062\t'Pf3D7_10_v3\tchado\tpseudogene\t1590146\t1590973\t.\t+\t.\tID=PF3D7_1039600;Name=EPF1;previous_systematic_id=PF10_0388'\r\n",
        "WARNING: Cannot find gene 'Gene_PF3D7_1100600'. Created gene 'Gene_PF3D7_1100600' for transcript 'PF3D7_1100600'. File '/Users/rpearson/src/github/malariagen/methods-dev/pf3k_techbm/opt/snpeff/snpEff/./data/Pf3D7july2015/genes.gff' line 23226\t'Pf3D7_11_v3\tchado\tpseudogene\t54423\t55371\t.\t-\t.\tID=PF3D7_1100600;previous_systematic_id=PF11_0012'\r\n",
        "WARNING: Cannot find gene 'Gene_PF3D7_1100700'. Created gene 'Gene_PF3D7_1100700' for transcript 'PF3D7_1100700'. File '/Users/rpearson/src/github/malariagen/methods-dev/pf3k_techbm/opt/snpeff/snpEff/./data/Pf3D7july2015/genes.gff' line 23233\t'Pf3D7_11_v3\tchado\tpseudogene\t56792\t57840\t.\t+\t.\tID=PF3D7_1100700;previous_systematic_id=PF11_0013'\r\n",
        "WARNING: Cannot find gene 'Gene_PF3D7_1100900'. Created gene 'Gene_PF3D7_1100900' for transcript 'PF3D7_1100900'. File '/Users/rpearson/src/github/malariagen/methods-dev/pf3k_techbm/opt/snpeff/snpEff/./data/Pf3D7july2015/genes.gff' line 23247\t'Pf3D7_11_v3\tchado\tpseudogene\t60928\t61769\t.\t-\t.\tID=PF3D7_1100900;previous_systematic_id=PF11_0015'\r\n",
        "WARNING: Cannot find gene 'Gene_PF3D7_1101000'. Created gene 'Gene_PF3D7_1101000' for transcript 'PF3D7_1101000'. File '/Users/rpearson/src/github/malariagen/methods-dev/pf3k_techbm/opt/snpeff/snpEff/./data/Pf3D7july2015/genes.gff' line 23252\t'Pf3D7_11_v3\tchado\tpseudogene\t64441\t64842\t.\t+\t.\tID=PF3D7_1101000;previous_systematic_id=PF11_0522'\r\n",
        "WARNING: Cannot find gene 'Gene_PF3D7_1101400'. Created gene 'Gene_PF3D7_1101400' for transcript 'PF3D7_1101400'. File '/Users/rpearson/src/github/malariagen/methods-dev/pf3k_techbm/opt/snpeff/snpEff/./data/Pf3D7july2015/genes.gff' line 23281\t'Pf3D7_11_v3\tchado\tpseudogene\t76820\t78000\t.\t-\t.\tID=PF3D7_1101400;Name=RIF;previous_systematic_id=PF11_0022;synonym=RIF-A'\r\n",
        "WARNING: Cannot find gene 'Gene_PF3D7_1101900'. Created gene 'Gene_PF3D7_1101900' for transcript 'PF3D7_1101900'. File '/Users/rpearson/src/github/malariagen/methods-dev/pf3k_techbm/opt/snpeff/snpEff/./data/Pf3D7july2015/genes.gff' line 23315\t'Pf3D7_11_v3\tchado\tpseudogene\t90446\t90874\t.\t+\t.\tID=PF3D7_1101900;previous_systematic_id=PF11_0523'\r\n",
        "WARNING: Cannot find gene 'Gene_PF3D7_1102100'. Created gene 'Gene_PF3D7_1102100' for transcript 'PF3D7_1102100'. File '/Users/rpearson/src/github/malariagen/methods-dev/pf3k_techbm/opt/snpeff/snpEff/./data/Pf3D7july2015/genes.gff' line 23321\t'Pf3D7_11_v3\tchado\tpseudogene\t104300\t104852\t.\t+\t.\tID=PF3D7_1102100;previous_systematic_id=PF11_0033a'\r\n",
        "...WARNING: Cannot find gene 'Gene_PF3D7_1129850'. Created gene 'Gene_PF3D7_1129850' for transcript 'PF3D7_1129850'. File '/Users/rpearson/src/github/malariagen/methods-dev/pf3k_techbm/opt/snpeff/snpEff/./data/Pf3D7july2015/genes.gff' line 25540\t'Pf3D7_11_v3\tchado\tpseudogene\t1153570\t1154261\t.\t-\t.\tID=PF3D7_1129850'\r\n",
        ".WARNING: Cannot find gene 'Gene_PF3D7_1135200'. Created gene 'Gene_PF3D7_1135200' for transcript 'PF3D7_1135200'. File '/Users/rpearson/src/github/malariagen/methods-dev/pf3k_techbm/opt/snpeff/snpEff/./data/Pf3D7july2015/genes.gff' line 25930\t'Pf3D7_11_v3\tchado\tpseudogene\t1378290\t1379852\t.\t-\t.\tID=PF3D7_1135200;previous_systematic_id=PF11_0362a'\r\n",
        ".WARNING: Cannot find gene 'Gene_PF3D7_1149500'. Created gene 'Gene_PF3D7_1149500' for transcript 'PF3D7_1149500'. File '/Users/rpearson/src/github/malariagen/methods-dev/pf3k_techbm/opt/snpeff/snpEff/./data/Pf3D7july2015/genes.gff' line 27025\t'Pf3D7_11_v3\tchado\tpseudogene\t1991359\t1994018\t.\t-\t.\tID=PF3D7_1149500;Name=RESA2;previous_systematic_id=PF11_0512;synonym=RESA-2%3Bcurrent%3Dfalse,PfRESA2%3Bcurrent%3Dfalse'\r\n",
        "WARNING: Cannot find gene 'Gene_PF3D7_1150100'. Created gene 'Gene_PF3D7_1150100' for transcript 'PF3D7_1150100'. File '/Users/rpearson/src/github/malariagen/methods-dev/pf3k_techbm/opt/snpeff/snpEff/./data/Pf3D7july2015/genes.gff' line 27067\t'Pf3D7_11_v3\tchado\tpseudogene\t2015649\t2016509\t.\t-\t.\tID=PF3D7_1150100;Name=RIF;previous_systematic_id=PF11_0518;synonym=RIF-B'\r\n",
        "..WARNING: Cannot find gene 'Gene_PF3D7_1219200'. Created gene 'Gene_PF3D7_1219200' for transcript 'PF3D7_1219200'. File '/Users/rpearson/src/github/malariagen/methods-dev/pf3k_techbm/opt/snpeff/snpEff/./data/Pf3D7july2015/genes.gff' line 28557\t'Pf3D7_12_v3\tchado\tpseudogene\t764448\t765151\t.\t+\t.\tID=PF3D7_1219200;Name=RIF;previous_systematic_id=PFL0933w'\r\n",
        "WARNING: Cannot find gene 'Gene_PF3D7_1219400'. Created gene 'Gene_PF3D7_1219400' for transcript 'PF3D7_1219400'. File '/Users/rpearson/src/github/malariagen/methods-dev/pf3k_techbm/opt/snpeff/snpEff/./data/Pf3D7july2015/genes.gff' line 28570\t'Pf3D7_12_v3\tchado\tpseudogene\t776510\t779933\t.\t-\t.\tID=PF3D7_1219400;Name=VAR;previous_systematic_id=PFL0940c'\r\n",
        "WARNING: Cannot find gene 'Gene_PF3D7_1219500'. Created gene 'Gene_PF3D7_1219500' for transcript 'PF3D7_1219500'. File '/Users/rpearson/src/github/malariagen/methods-dev/pf3k_techbm/opt/snpeff/snpEff/./data/Pf3D7july2015/genes.gff' line 28576\t'Pf3D7_12_v3\tchado\tpseudogene\t784018\t784830\t.\t+\t.\tID=PF3D7_1219500;Name=VAR;previous_systematic_id=PFL0945w'\r\n",
        ".WARNING: Cannot find gene 'Gene_PF3D7_1220200'. Created gene 'Gene_PF3D7_1220200' for transcript 'PF3D7_1220200'. File '/Users/rpearson/src/github/malariagen/methods-dev/pf3k_techbm/opt/snpeff/snpEff/./data/Pf3D7july2015/genes.gff' line 28623\t'Pf3D7_12_v3\tchado\tpseudogene\t804963\t806698\t.\t-\t.\tID=PF3D7_1220200;previous_systematic_id=PFL0973c'\r\n",
        ".WARNING: Cannot find gene 'Gene_PF3D7_1230200'. Created gene 'Gene_PF3D7_1230200' for transcript 'PF3D7_1230200'. File '/Users/rpearson/src/github/malariagen/methods-dev/pf3k_techbm/opt/snpeff/snpEff/./data/Pf3D7july2015/genes.gff' line 29416\t'Pf3D7_12_v3\tchado\tpseudogene\t1245535\t1249170\t.\t+\t.\tID=PF3D7_1230200;previous_systematic_id=PFL1455w'\r\n",
        "WARNING: Cannot find gene 'Gene_PF3D7_1234200'. Created gene 'Gene_PF3D7_1234200' for transcript 'PF3D7_1234200'. File '/Users/rpearson/src/github/malariagen/methods-dev/pf3k_techbm/opt/snpeff/snpEff/./data/Pf3D7july2015/genes.gff' line 29725\t'Pf3D7_12_v3\tchado\tpseudogene\t1427398\t1433600\t.\t+\t.\tID=PF3D7_1234200;previous_systematic_id=PFL1650w'\r\n",
        ".WARNING: Cannot find gene 'Gene_PF3D7_1240200'. Created gene 'Gene_PF3D7_1240200' for transcript 'PF3D7_1240200'. File '/Users/rpearson/src/github/malariagen/methods-dev/pf3k_techbm/opt/snpeff/snpEff/./data/Pf3D7july2015/genes.gff' line 30153\t'Pf3D7_12_v3\tchado\tpseudogene\t1688606\t1691162\t.\t-\t.\tID=PF3D7_1240200;previous_systematic_id=PFL1947c'\r\n",
        "WARNING: Cannot find gene 'Gene_PF3D7_1240700'. Created gene 'Gene_PF3D7_1240700' for transcript 'PF3D7_1240700'. File '/Users/rpearson/src/github/malariagen/methods-dev/pf3k_techbm/opt/snpeff/snpEff/./data/Pf3D7july2015/genes.gff' line 30187\t'Pf3D7_12_v3\tchado\tpseudogene\t1728774\t1730007\t.\t+\t.\tID=PF3D7_1240700;Name=RIF;previous_systematic_id=PFL1965w;synonym=RIF-A'\r\n",
        ".WARNING: Cannot find gene 'Gene_PF3D7_1252400'. Created gene 'Gene_PF3D7_1252400' for transcript 'PF3D7_1252400'. File '/Users/rpearson/src/github/malariagen/methods-dev/pf3k_techbm/opt/snpeff/snpEff/./data/Pf3D7july2015/genes.gff' line 31058\t'Pf3D7_12_v3\tchado\tpseudogene\t2136053\t2144874\t.\t+\t.\tID=PF3D7_1252400;Name=RH3;previous_systematic_id=PFL2520w;synonym=PfRH3%3Bcurrent%3Dfalse,RBP3,PfRBP3%3Bcurrent%3Dfalse'\r\n"
       ]
      },
      {
       "output_type": "stream",
       "stream": "stdout",
       "text": [
        "WARNING: Cannot find gene 'Gene_PF3D7_1253300'. Created gene 'Gene_PF3D7_1253300' for transcript 'PF3D7_1253300'. File '/Users/rpearson/src/github/malariagen/methods-dev/pf3k_techbm/opt/snpeff/snpEff/./data/Pf3D7july2015/genes.gff' line 31122\t'Pf3D7_12_v3\tchado\tpseudogene\t2175329\t2176087\t.\t+\t.\tID=PF3D7_1253300;previous_systematic_id=PFL2565w'\r\n",
        "WARNING: Cannot find gene 'Gene_PF3D7_1253600'. Created gene 'Gene_PF3D7_1253600' for transcript 'PF3D7_1253600'. File '/Users/rpearson/src/github/malariagen/methods-dev/pf3k_techbm/opt/snpeff/snpEff/./data/Pf3D7july2015/genes.gff' line 31141\t'Pf3D7_12_v3\tchado\tpseudogene\t2188760\t2189613\t.\t+\t.\tID=PF3D7_1253600;Name=RIF;previous_systematic_id=PFL2580w'\r\n",
        "WARNING: Cannot find gene 'Gene_PF3D7_1253900'. Created gene 'Gene_PF3D7_1253900' for transcript 'PF3D7_1253900'. File '/Users/rpearson/src/github/malariagen/methods-dev/pf3k_techbm/opt/snpeff/snpEff/./data/Pf3D7july2015/genes.gff' line 31164\t'Pf3D7_12_v3\tchado\tpseudogene\t2198926\t2199846\t.\t+\t.\tID=PF3D7_1253900;previous_systematic_id=PFL2595w'\r\n",
        "WARNING: Cannot find gene 'Gene_PF3D7_1301000'. Created gene 'Gene_PF3D7_1301000' for transcript 'PF3D7_1301000'. File '/Users/rpearson/src/github/malariagen/methods-dev/pf3k_techbm/opt/snpeff/snpEff/./data/Pf3D7july2015/genes.gff' line 31328\t'Pf3D7_13_v3\tchado\tpseudogene\t65548\t66816\t.\t-\t.\tID=PF3D7_1301000;Name=RIF;previous_systematic_id=MAL13P1.8;synonym=RIF-A'\r\n",
        "WARNING: Cannot find gene 'Gene_PF3D7_1301100'. Created gene 'Gene_PF3D7_1301100' for transcript 'PF3D7_1301100'. File '/Users/rpearson/src/github/malariagen/methods-dev/pf3k_techbm/opt/snpeff/snpEff/./data/Pf3D7july2015/genes.gff' line 31335\t'Pf3D7_13_v3\tchado\tpseudogene\t68484\t69411\t.\t-\t.\tID=PF3D7_1301100;previous_systematic_id=MAL13P1.11'\r\n",
        "WARNING: Cannot find gene 'Gene_PF3D7_1301300'. Created gene 'Gene_PF3D7_1301300' for transcript 'PF3D7_1301300'. File '/Users/rpearson/src/github/malariagen/methods-dev/pf3k_techbm/opt/snpeff/snpEff/./data/Pf3D7july2015/genes.gff' line 31347\t'Pf3D7_13_v3\tchado\tpseudogene\t78614\t79470\t.\t-\t.\tID=PF3D7_1301300;previous_systematic_id=MAL13P1.58'\r\n",
        "WARNING: Cannot find gene 'Gene_PF3D7_1301800'. Created gene 'Gene_PF3D7_1301800' for transcript 'PF3D7_1301800'. File '/Users/rpearson/src/github/malariagen/methods-dev/pf3k_techbm/opt/snpeff/snpEff/./data/Pf3D7july2015/genes.gff' line 31387\t'Pf3D7_13_v3\tchado\tpseudogene\t102842\t109471\t.\t+\t.\tID=PF3D7_1301800;Name=SURF13.1;previous_systematic_id=PF13_0074,PF13_0075;synonym=3D7Surf13.1%3Bcurrent%3Dfalse'\r\n",
        "....WARNING: Cannot find gene 'Gene_PF3D7_1334900'. Created gene 'Gene_PF3D7_1334900' for transcript 'PF3D7_1334900'. File '/Users/rpearson/src/github/malariagen/methods-dev/pf3k_techbm/opt/snpeff/snpEff/./data/Pf3D7july2015/genes.gff' line 33885\t'Pf3D7_13_v3\tchado\tpseudogene\t1414878\t1415018\t.\t-\t.\tID=PF3D7_1334900;previous_systematic_id=MAL13P1.175'\r\n",
        "WARNING: Cannot find gene 'Gene_PF3D7_1335200'. Created gene 'Gene_PF3D7_1335200' for transcript 'PF3D7_1335200'. File '/Users/rpearson/src/github/malariagen/methods-dev/pf3k_techbm/opt/snpeff/snpEff/./data/Pf3D7july2015/genes.gff' line 33903\t'Pf3D7_13_v3\tchado\tpseudogene\t1422322\t1425596\t.\t-\t.\tID=PF3D7_1335200;Name=RH6;previous_systematic_id=PF13_0197a;synonym=PfRh6%3Bcurrent%3Dfalse'\r\n",
        "..WARNING: Cannot find gene 'Gene_PF3D7_1353000'. Created gene 'Gene_PF3D7_1353000' for transcript 'PF3D7_1353000'. File '/Users/rpearson/src/github/malariagen/methods-dev/pf3k_techbm/opt/snpeff/snpEff/./data/Pf3D7july2015/genes.gff' line 35269\t'Pf3D7_13_v3\tchado\tpseudogene\t2118361\t2120913\t.\t-\t.\tID=PF3D7_1353000;previous_systematic_id=MAL13P1.269;synonym=PfLysTrpA%3Bcurrent%3Dfalse'\r\n",
        ".WARNING: Cannot find gene 'Gene_PF3D7_1364700'. Created gene 'Gene_PF3D7_1364700' for transcript 'PF3D7_1364700'. File '/Users/rpearson/src/github/malariagen/methods-dev/pf3k_techbm/opt/snpeff/snpEff/./data/Pf3D7july2015/genes.gff' line 36144\t'Pf3D7_13_v3\tchado\tpseudogene\t2601801\t2603107\t.\t+\t.\tID=PF3D7_1364700;previous_systematic_id=MAL13P1.325'\r\n",
        "WARNING: Cannot find gene 'Gene_PF3D7_1371600'. Created gene 'Gene_PF3D7_1371600' for transcript 'PF3D7_1371600'. File '/Users/rpearson/src/github/malariagen/methods-dev/pf3k_techbm/opt/snpeff/snpEff/./data/Pf3D7july2015/genes.gff' line 36594\t'Pf3D7_13_v3\tchado\tpseudogene\t2811706\t2820270\t.\t+\t.\tID=PF3D7_1371600;Name=EBL1;previous_systematic_id=PF13_0115;synonym=PfEBL1%3Bcurrent%3Dfalse'\r\n",
        ".WARNING: Cannot find gene 'Gene_PF3D7_1372500'. Created gene 'Gene_PF3D7_1372500' for transcript 'PF3D7_1372500'. File '/Users/rpearson/src/github/malariagen/methods-dev/pf3k_techbm/opt/snpeff/snpEff/./data/Pf3D7july2015/genes.gff' line 36662\t'Pf3D7_13_v3\tchado\tpseudogene\t2854544\t2855568\t.\t-\t.\tID=PF3D7_1372500;previous_systematic_id=MAL13P1.490'\r\n",
        "WARNING: Cannot find gene 'Gene_PF3D7_1372900'. Created gene 'Gene_PF3D7_1372900' for transcript 'PF3D7_1372900'. File '/Users/rpearson/src/github/malariagen/methods-dev/pf3k_techbm/opt/snpeff/snpEff/./data/Pf3D7july2015/genes.gff' line 36691\t'Pf3D7_13_v3\tchado\tpseudogene\t2865893\t2867226\t.\t+\t.\tID=PF3D7_1372900;Name=VAR;previous_systematic_id=MAL13P1.510'\r\n",
        "WARNING: Cannot find gene 'Gene_PF3D7_1400100'. Created gene 'Gene_PF3D7_1400100' for transcript 'PF3D7_1400100'. File '/Users/rpearson/src/github/malariagen/methods-dev/pf3k_techbm/opt/snpeff/snpEff/./data/Pf3D7july2015/genes.gff' line 36743\t'Pf3D7_14_v3\tchado\tpseudogene\t1393\t5343\t.\t+\t.\tID=PF3D7_1400100;previous_systematic_id=PF14_0001'\r\n",
        "WARNING: Cannot find gene 'Gene_PF3D7_1400900'. Created gene 'Gene_PF3D7_1400900' for transcript 'PF3D7_1400900'. File '/Users/rpearson/src/github/malariagen/methods-dev/pf3k_techbm/opt/snpeff/snpEff/./data/Pf3D7july2015/genes.gff' line 36799\t'Pf3D7_14_v3\tchado\tpseudogene\t30083\t31008\t.\t-\t.\tID=PF3D7_1400900;previous_systematic_id=PF14_0009'\r\n",
        "WARNING: Cannot find gene 'Gene_PF3D7_1401050'. Created gene 'Gene_PF3D7_1401050' for transcript 'PF3D7_1401050'. File '/Users/rpearson/src/github/malariagen/methods-dev/pf3k_techbm/opt/snpeff/snpEff/./data/Pf3D7july2015/genes.gff' line 36811\t'Pf3D7_14_v3\tchado\tpseudogene\t39081\t40440\t.\t+\t.\tID=PF3D7_1401050'\r\n",
        ".WARNING: Cannot find gene 'Gene_PF3D7_1417400'. Created gene 'Gene_PF3D7_1417400' for transcript 'PF3D7_1417400'. File '/Users/rpearson/src/github/malariagen/methods-dev/pf3k_techbm/opt/snpeff/snpEff/./data/Pf3D7july2015/genes.gff' line 38165\t'Pf3D7_14_v3\tchado\tpseudogene\t714708\t725998\t.\t+\t.\tID=PF3D7_1417400;Name=EPAC;previous_systematic_id=PF14_0173;synonym=cNBP'\r\n",
        ".....WARNING: Cannot find gene 'Gene_PF3D7_1463100'. Created gene 'Gene_PF3D7_1463100' for transcript 'PF3D7_1463100'. File '/Users/rpearson/src/github/malariagen/methods-dev/pf3k_techbm/opt/snpeff/snpEff/./data/Pf3D7july2015/genes.gff' line 41657\t'Pf3D7_14_v3\tchado\tpseudogene\t2568082\t2569307\t.\t-\t.\tID=PF3D7_1463100;previous_systematic_id=PF14_0600a'\r\n",
        ".WARNING: Cannot find gene 'Gene_PF3D7_1476400'. Created gene 'Gene_PF3D7_1476400' for transcript 'PF3D7_1476400'. File '/Users/rpearson/src/github/malariagen/methods-dev/pf3k_techbm/opt/snpeff/snpEff/./data/Pf3D7july2015/genes.gff' line 42695\t'Pf3D7_14_v3\tchado\tpseudogene\t3142075\t3144341\t.\t+\t.\tID=PF3D7_1476400;Name=FIKK14;previous_systematic_id=PF14_0733;synonym=TSTK14'\r\n",
        ".WARNING: Cannot find gene 'Gene_PF3D7_1476900'. Created gene 'Gene_PF3D7_1476900' for transcript 'PF3D7_1476900'. File '/Users/rpearson/src/github/malariagen/methods-dev/pf3k_techbm/opt/snpeff/snpEff/./data/Pf3D7july2015/genes.gff' line 42727\t'Pf3D7_14_v3\tchado\tpseudogene\t3161742\t3162743\t.\t-\t.\tID=PF3D7_1476900;previous_systematic_id=PF14_0739a'\r\n",
        "WARNING: Cannot find gene 'Gene_PF3D7_1477000'. Created gene 'Gene_PF3D7_1477000' for transcript 'PF3D7_1477000'. File '/Users/rpearson/src/github/malariagen/methods-dev/pf3k_techbm/opt/snpeff/snpEff/./data/Pf3D7july2015/genes.gff' line 42737\t'Pf3D7_14_v3\tchado\tpseudogene\t3168563\t3171692\t.\t+\t.\tID=PF3D7_1477000;previous_systematic_id=PF14_0740'\r\n",
        "WARNING: Cannot find gene 'Gene_PF3D7_1477900'. Created gene 'Gene_PF3D7_1477900' for transcript 'PF3D7_1477900'. File '/Users/rpearson/src/github/malariagen/methods-dev/pf3k_techbm/opt/snpeff/snpEff/./data/Pf3D7july2015/genes.gff' line 42800\t'Pf3D7_14_v3\tchado\tpseudogene\t3209129\t3211574\t.\t+\t.\tID=PF3D7_1477900;Name=ACS1b;previous_systematic_id=PF14_0751;synonym=PfACS1b%3Bcurrent%3Dfalse'\r\n",
        "WARNING: Cannot find gene 'Gene_PF3D7_1478200'. Created gene 'Gene_PF3D7_1478200' for transcript 'PF3D7_1478200'. File '/Users/rpearson/src/github/malariagen/methods-dev/pf3k_techbm/opt/snpeff/snpEff/./data/Pf3D7july2015/genes.gff' line 42819\t'Pf3D7_14_v3\tchado\tpseudogene\t3219919\t3220702\t.\t-\t.\tID=PF3D7_1478200;previous_systematic_id=PF14_0754'\r\n",
        "WARNING: Cannot find gene 'Gene_PF3D7_1478300'. Created gene 'Gene_PF3D7_1478300' for transcript 'PF3D7_1478300'. File '/Users/rpearson/src/github/malariagen/methods-dev/pf3k_techbm/opt/snpeff/snpEff/./data/Pf3D7july2015/genes.gff' line 42829\t'Pf3D7_14_v3\tchado\tpseudogene\t3221001\t3221576\t.\t+\t.\tID=PF3D7_1478300;previous_systematic_id=PF14_0755'\r\n",
        "WARNING: Cannot find gene 'Gene_PF3D7_1478400'. Created gene 'Gene_PF3D7_1478400' for transcript 'PF3D7_1478400'. File '/Users/rpearson/src/github/malariagen/methods-dev/pf3k_techbm/opt/snpeff/snpEff/./data/Pf3D7july2015/genes.gff' line 42835\t'Pf3D7_14_v3\tchado\tpseudogene\t3223288\t3224632\t.\t-\t.\tID=PF3D7_1478400;previous_systematic_id=PF14_0756'\r\n",
        "WARNING: Cannot find gene 'Gene_PF3D7_1478500'. Created gene 'Gene_PF3D7_1478500' for transcript 'PF3D7_1478500'. File '/Users/rpearson/src/github/malariagen/methods-dev/pf3k_techbm/opt/snpeff/snpEff/./data/Pf3D7july2015/genes.gff' line 42843\t'Pf3D7_14_v3\tchado\tpseudogene\t3228672\t3229589\t.\t+\t.\tID=PF3D7_1478500;previous_systematic_id=PF14_0757'\r\n",
        "WARNING: Cannot find gene 'Gene_PF3D7_1478700'. Created gene 'Gene_PF3D7_1478700' for transcript 'PF3D7_1478700'. File '/Users/rpearson/src/github/malariagen/methods-dev/pf3k_techbm/opt/snpeff/snpEff/./data/Pf3D7july2015/genes.gff' line 42856\t'Pf3D7_14_v3\tchado\tpseudogene\t3239145\t3240473\t.\t-\t.\tID=PF3D7_1478700;previous_systematic_id=PF14_0759'\r\n",
        "WARNING: Cannot find gene 'Gene_PF3D7_1479300'. Created gene 'Gene_PF3D7_1479300' for transcript 'PF3D7_1479300'. File '/Users/rpearson/src/github/malariagen/methods-dev/pf3k_techbm/opt/snpeff/snpEff/./data/Pf3D7july2015/genes.gff' line 42898\t'Pf3D7_14_v3\tchado\tpseudogene\t3263543\t3264468\t.\t+\t.\tID=PF3D7_1479300;previous_systematic_id=PF14_0764'\r\n",
        "WARNING: Cannot find gene 'Gene_PF3D7_1480100'. Created gene 'Gene_PF3D7_1480100' for transcript 'PF3D7_1480100'. File '/Users/rpearson/src/github/malariagen/methods-dev/pf3k_techbm/opt/snpeff/snpEff/./data/Pf3D7july2015/genes.gff' line 42954\t'Pf3D7_14_v3\tchado\tpseudogene\t3290953\t3291501\t.\t+\t.\tID=PF3D7_1480100;previous_systematic_id=PF14_0773'\r\n",
        "\r\n",
        "\tTotal: 5886 Transcripts added.\r\n",
        "\tReading exons       : ."
       ]
      },
      {
       "output_type": "stream",
       "stream": "stdout",
       "text": [
        "......................................"
       ]
      },
      {
       "output_type": "stream",
       "stream": "stdout",
       "text": [
        "..........................................."
       ]
      },
      {
       "output_type": "stream",
       "stream": "stdout",
       "text": [
        "..................\r\n",
        "\t\t10000\t........................."
       ]
      },
      {
       "output_type": "stream",
       "stream": "stdout",
       "text": [
        ".......................\r\n",
        "\tTotal: 14827 Exons added.\r\n",
        "\r\n",
        "\tCreate exons from CDS (if needed): ................................................................................................................................................................................................................................................................................................................................................................................................................................................................................................................................................................................................................................................."
       ]
      },
      {
       "output_type": "stream",
       "stream": "stdout",
       "text": [
        "......................................................................................................................................................................................................................................................................................................................................................................................................................................................................................................................................................................................................................................................................................................................................................................................................................................................................................................................................................................................................................................................................................................................................................................................................................................................................................................................................................................................................................................................................................................................................................................................................................................................................................................................................................................................................................................................................................................................................................................................................................................................................................................................................................................................................................................................................................................................................................................................................................................................................................................................................................................................................................................................................................................................................................................................................................................................................................................................................................"
       ]
      },
      {
       "output_type": "stream",
       "stream": "stdout",
       "text": [
        "..................................................................................................................................................................................................................................................................................................................................................................................................................................................................................................................................................................................................................................................................................................................................................................................................................................................................................................................................................................................................................................................................................................................................................................................................................................................................................................................................................................................................................................................................................................................................................................................................................................................................................................................................................................................................................................................................................................................................................................................................................................................................................................................................................................................................................................................................................................................................................................................................................................................................................................................................................................................................................................................................................................................................................................................................................................................................................................................................................................................................................................................................................................................................................................................................................................................................................................................................................................................."
       ]
      },
      {
       "output_type": "stream",
       "stream": "stdout",
       "text": [
        ".........................................................................................................................................................................................................................................................................................................................................................................................................................................................................................................................................................................................................................................................................................................................................................................................................................................................................................................................................................................................................................................................................................................................................................................................................................................................................................................................................................................................................................................................................................................................................................................................................................................................................................................................................................................................................................................................................................................................................................................................................................................................................................................................................................................................................................................................................................................................................................................................................................................................................................................................................................................................................................................................................................................................................................................................................................................................................................................................................................................................................................................................................................................................................................................................................................................................................................................................................................................................................................................................................................................................................................................................................................................................................................................................................................................................................................................................................................................................................................................................................................................................................................................................................................................................................................................................................................................................................................................................................................................................................................................................................................................................................................................................................................................................................................................................................................................................................................................................................................................................................................................................................................................................................................................................................................................................................................................................................................................................................................................................................................................................................."
       ]
      },
      {
       "output_type": "stream",
       "stream": "stdout",
       "text": [
        "..........................................................................................................................................................................................................................................................................................................................................................................................................................................................................................................................................................................................................................................................................................................................................................................................................................................................................................................................................................................................................................................................................................................................................................................................................................................................................................................................................................................................................................................................................................................................................................................................................................................................................................................................................................................................................................................................................................................................................................................................................................................................................................................................................................................................................................................................................................................................................................................................................................\r\n",
        "\tExons created for 5580 transcripts.\r\n",
        "\tReading UTRs (5)    : "
       ]
      },
      {
       "output_type": "stream",
       "stream": "stdout",
       "text": [
        "\tTotal: 0 Utr5primes added.\r\n",
        "\tReading UTRs (3)    : "
       ]
      },
      {
       "output_type": "stream",
       "stream": "stdout",
       "text": [
        "\tTotal: 0 Utr3primes added.\r\n",
        "\r\n",
        "\tCreate exons from CDS (if needed): \r\n",
        "\tExons created for 0 transcripts.\r\n",
        "\r\n",
        "\tDeleting redundant exons (if needed): "
       ]
      },
      {
       "output_type": "stream",
       "stream": "stdout",
       "text": [
        "\r\n",
        "\t\tTotal transcripts with deleted exons: 0\r\n",
        "\r\n",
        "\tCollapsing zero length introns (if needed): "
       ]
      },
      {
       "output_type": "stream",
       "stream": "stdout",
       "text": [
        "\r\n",
        "\t\tTotal collapsed transcripts: 0\r\n",
        "\tReading sequences   :\r\n"
       ]
      },
      {
       "output_type": "stream",
       "stream": "stdout",
       "text": [
        "\t\tReading sequence 'Pf3D7_01_v3'\r\n",
        "\t\tAdding genomic sequences to exons: \tDone (358 sequences added, 0 ignored).\r\n",
        "\t\tReading sequence 'Pf3D7_02_v3'\r\n",
        "\t\tAdding genomic sequences to exons: "
       ]
      },
      {
       "output_type": "stream",
       "stream": "stdout",
       "text": [
        "\tDone (587 sequences added, 0 ignored).\r\n",
        "\t\tReading sequence 'Pf3D7_03_v3'\r\n",
        "\t\tAdding genomic sequences to exons: \tDone (650 sequences added, 0 ignored).\r\n",
        "\t\tReading sequence 'Pf3D7_04_v3'\r\n"
       ]
      },
      {
       "output_type": "stream",
       "stream": "stdout",
       "text": [
        "\t\tAdding genomic sequences to exons: \tDone (613 sequences added, 0 ignored).\r\n",
        "\t\tReading sequence 'Pf3D7_05_v3'\r\n",
        "\t\tAdding genomic sequences to exons: "
       ]
      },
      {
       "output_type": "stream",
       "stream": "stdout",
       "text": [
        "\tDone (796 sequences added, 0 ignored).\r\n",
        "\t\tReading sequence 'Pf3D7_06_v3'\r\n",
        "\t\tAdding genomic sequences to exons: \tDone (864 sequences added, 0 ignored).\r\n",
        "\t\tReading sequence 'Pf3D7_07_v3'\r\n"
       ]
      },
      {
       "output_type": "stream",
       "stream": "stdout",
       "text": [
        "\t\tAdding genomic sequences to exons: \tDone (732 sequences added, 0 ignored).\r\n",
        "\t\tReading sequence 'Pf3D7_08_v3'\r\n",
        "\t\tAdding genomic sequences to exons: "
       ]
      },
      {
       "output_type": "stream",
       "stream": "stdout",
       "text": [
        "\tDone (846 sequences added, 0 ignored).\r\n",
        "\t\tReading sequence 'Pf3D7_09_v3'\r\n",
        "\t\tAdding genomic sequences to exons: "
       ]
      },
      {
       "output_type": "stream",
       "stream": "stdout",
       "text": [
        "\tDone (1027 sequences added, 0 ignored).\r\n",
        "\t\tReading sequence 'Pf3D7_10_v3'\r\n",
        "\t\tAdding genomic sequences to exons: \tDone (1114 sequences added, 0 ignored).\r\n",
        "\t\tReading sequence 'Pf3D7_11_v3'\r\n"
       ]
      },
      {
       "output_type": "stream",
       "stream": "stdout",
       "text": [
        "\t\tAdding genomic sequences to exons: \tDone (1370 sequences added, 0 ignored).\r\n",
        "\t\tReading sequence 'Pf3D7_12_v3'\r\n"
       ]
      },
      {
       "output_type": "stream",
       "stream": "stdout",
       "text": [
        "\t\tAdding genomic sequences to exons: "
       ]
      },
      {
       "output_type": "stream",
       "stream": "stdout",
       "text": [
        "\tDone (1385 sequences added, 0 ignored).\r\n",
        "\t\tReading sequence 'Pf3D7_13_v3'\r\n",
        "\t\tAdding genomic sequences to exons: "
       ]
      },
      {
       "output_type": "stream",
       "stream": "stdout",
       "text": [
        "\tDone (1811 sequences added, 0 ignored).\r\n",
        "\t\tReading sequence 'Pf3D7_14_v3'\r\n"
       ]
      },
      {
       "output_type": "stream",
       "stream": "stdout",
       "text": [
        "\t\tAdding genomic sequences to exons: "
       ]
      },
      {
       "output_type": "stream",
       "stream": "stdout",
       "text": [
        "\tDone (2170 sequences added, 0 ignored).\r\n",
        "\t\tReading sequence 'Pf_M76611'\r\n",
        "\t\tAdding genomic sequences to exons: \tDone (43 sequences added, 0 ignored).\r\n",
        "\tTotal: 14366 sequences added, 0 sequences ignored.\r\n",
        "\r\n",
        "\tAdjusting transcripts: "
       ]
      },
      {
       "output_type": "stream",
       "stream": "stdout",
       "text": [
        ".\r\n",
        "\tAdjusting genes: \r\n",
        "\tAdjusting chromosomes lengths: \r\n",
        "\tRanking exons: \r\n",
        "\tCreate UTRs from CDS (if needed): "
       ]
      },
      {
       "output_type": "stream",
       "stream": "stdout",
       "text": [
        "\r\n",
        "\tCorrecting exons based on frame information.\r\n",
        "\t"
       ]
      },
      {
       "output_type": "stream",
       "stream": "stdout",
       "text": [
        "\r\n",
        "\tRemove empty chromosomes: \r\n",
        "\t\tRemoving empty chromosome: 'malmito_rna_RNA18:rRNA'\r\n",
        "\t\tRemoving empty chromosome: 'malmito_rna_RNA12:rRNA'\r\n",
        "\t\tRemoving empty chromosome: 'malmito_rna_9:rRNA'\r\n",
        "\t\tRemoving empty chromosome: 'malmito_rna_LSUG:rRNA'\r\n",
        "\t\tRemoving empty chromosome: 'malmito_rna_RNA7:rRNA'\r\n",
        "\t\tRemoving empty chromosome: 'malmito_rna_RNA14:rRNA'\r\n",
        "\t\tRemoving empty chromosome: 'malmito_rna_SSUF:rRNA'\r\n",
        "\t\tRemoving empty chromosome: 'malmito_rna_1:rRNA'\r\n",
        "\t\tRemoving empty chromosome: 'malmito_rna_LSUC:rRNA'\r\n",
        "\t\tRemoving empty chromosome: 'mal_mito_3'\r\n",
        "\t\tRemoving empty chromosome: 'mal_mito_2'\r\n",
        "\t\tRemoving empty chromosome: 'mal_mito_1'\r\n",
        "\t\tRemoving empty chromosome: 'malmito_rna_RNA5:rRNA'\r\n",
        "\t\tRemoving empty chromosome: 'mal_mito_RNA19:rRNA'\r\n",
        "\t\tRemoving empty chromosome: 'malmito_SSUB:rRNA'\r\n",
        "\t\tRemoving empty chromosome: 'malmito_rna_16:rRNA'\r\n",
        "\t\tRemoving empty chromosome: 'malmito_rna_RNA11:rRNA'\r\n",
        "\t\tRemoving empty chromosome: 'malmito_rna_17:rRNA'\r\n",
        "\t\tRemoving empty chromosome: 'malmito_rna_LSUF:rRNA'\r\n",
        "\t\tRemoving empty chromosome: 'malmito_rna_RNA4:rRNA'\r\n",
        "\t\tRemoving empty chromosome: 'malmito_rna_20:rRNA'\r\n",
        "\t\tRemoving empty chromosome: 'malmito_rna_RNA6:rRNA'\r\n",
        "\t\tRemoving empty chromosome: 'malmito_rna_RNA22:rRNA'\r\n",
        "\t\tRemoving empty chromosome: 'malmito_rna_15:rRNA'\r\n",
        "\t\tRemoving empty chromosome: 'malmito_rna_21:rRNA'\r\n",
        "\t\tRemoving empty chromosome: 'malmito_rna_10:rRNA'\r\n",
        "\t\tChromosome left: Pf3D7_11_v3 Pf3D7_06_v3 Pf3D7_10_v3 Pf3D7_05_v3 Pf3D7_04_v3 Pf3D7_03_v3 Pf3D7_09_v3 Pf3D7_14_v3 Pf_M76611 Pf3D7_13_v3 Pf3D7_02_v3 Pf3D7_12_v3 Pf3D7_07_v3 Pf3D7_08_v3 Pf3D7_01_v3 \r\n",
        "\r\n",
        "\tMarking as 'coding' from CDS information: "
       ]
      },
      {
       "output_type": "stream",
       "stream": "stdout",
       "text": [
        "\r\n",
        "\tDone: 5580 transcripts marked\r\n"
       ]
      },
      {
       "output_type": "stream",
       "stream": "stdout",
       "text": [
        "#-----------------------------------------------\r\n",
        "# Genome name                : 'Plasmodium_falciparum'\r\n",
        "# Genome version             : 'Pf3D7july2015'\r\n",
        "# Has protein coding info    : true\r\n",
        "# Genes                      : 5645\r\n",
        "# Protein coding genes       : 5492\r\n",
        "#-----------------------------------------------\r\n",
        "# Transcripts                : 5886\r\n",
        "# Avg. transcripts per gene  : 1.04\r\n",
        "#-----------------------------------------------\r\n",
        "# Checked transcripts        : \r\n",
        "#               AA sequences :      0 ( 0.00% )\r\n",
        "#              DNA sequences :      0 ( 0.00% )\r\n",
        "#-----------------------------------------------\r\n",
        "# Protein coding transcripts : 5580\r\n",
        "#              Length errors :    126 ( 2.26% )\r\n",
        "#  STOP codons in CDS errors :    145 ( 2.60% )\r\n",
        "#         START codon errors :    200 ( 3.58% )\r\n",
        "#        STOP codon warnings :    205 ( 3.67% )\r\n",
        "#              UTR sequences :      0 ( 0.00% )\r\n",
        "#               Total Errors :    212 ( 3.80% )\r\n",
        "# WARNING                    : No protein coding transcript has UTR\r\n",
        "#-----------------------------------------------\r\n",
        "# Cds                        : 14366\r\n",
        "# Exons                      : 14366\r\n",
        "# Exons with sequence        : 14366\r\n",
        "# Exons without sequence     : 0\r\n",
        "# Avg. exons per transcript  : 2.44\r\n",
        "# WARNING                    : No mitochondrion chromosome found\r\n",
        "#-----------------------------------------------\r\n",
        "# Number of chromosomes      : 15\r\n",
        "# Chromosomes                : Format 'chromo_name size codon_table'\r\n",
        "#\t\t'Pf3D7_14_v3'\t3291936\tStandard\r\n",
        "#\t\t'Pf3D7_13_v3'\t2925236\tStandard\r\n",
        "#\t\t'Pf3D7_12_v3'\t2271494\tStandard\r\n",
        "#\t\t'Pf3D7_11_v3'\t2038340\tStandard\r\n",
        "#\t\t'Pf3D7_10_v3'\t1687656\tStandard\r\n",
        "#\t\t'Pf3D7_09_v3'\t1541735\tStandard\r\n",
        "#\t\t'Pf3D7_08_v3'\t1472805\tStandard\r\n",
        "#\t\t'Pf3D7_07_v3'\t1445207\tStandard\r\n",
        "#\t\t'Pf3D7_06_v3'\t1418242\tStandard\r\n",
        "#\t\t'Pf3D7_05_v3'\t1343557\tStandard\r\n",
        "#\t\t'Pf3D7_04_v3'\t1200490\tStandard\r\n",
        "#\t\t'Pf3D7_03_v3'\t1067971\tStandard\r\n",
        "#\t\t'Pf3D7_02_v3'\t947102\tStandard\r\n",
        "#\t\t'Pf3D7_01_v3'\t640851\tStandard\r\n",
        "#\t\t'Pf_M76611'\t5967\tProtozoan_Mitochondrial\r\n",
        "#-----------------------------------------------\r\n",
        "\r\n",
        "00:00:03.588\tCaracterizing exons by splicing (stage 1) : \r\n",
        "\t...."
       ]
      },
      {
       "output_type": "stream",
       "stream": "stdout",
       "text": [
        "..........\r\n",
        "00:00:03.646\tCaracterizing exons by splicing (stage 2) : \r\n",
        "\t..............00:00:03.659\tdone.\r\n",
        "00:00:03.659\t[Optional] Rare amino acid annotations\r\n",
        "00:00:03.661\tWarning: Cannot read optional protein sequence file '/Users/rpearson/src/github/malariagen/methods-dev/pf3k_techbm/opt/snpeff/snpEff/./data/Pf3D7july2015/protein.fa', nothing done.\r\n",
        "00:00:03.661\tSaving database\r\n"
       ]
      },
      {
       "output_type": "stream",
       "stream": "stdout",
       "text": [
        "00:00:07.369\t[Optional] Reading regulation elements: GFF\r\n",
        "00:00:07.370\tWarning: Cannot read optional regulation file '/Users/rpearson/src/github/malariagen/methods-dev/pf3k_techbm/opt/snpeff/snpEff/./data/Pf3D7july2015/regulation.gff', nothing done.\r\n",
        "00:00:07.370\t[Optional] Reading regulation elements: BED \r\n",
        "00:00:07.370\tCannot find optional regulation dir '/Users/rpearson/src/github/malariagen/methods-dev/pf3k_techbm/opt/snpeff/snpEff/./data/Pf3D7july2015/regulation.bed/', nothing done.\r\n",
        "00:00:07.370\t[Optional] Reading motifs: GFF\r\n",
        "00:00:07.370\tWarning: Cannot open PWMs file /Users/rpearson/src/github/malariagen/methods-dev/pf3k_techbm/opt/snpeff/snpEff/./data/Pf3D7july2015/pwms.bin. Nothing done\r\n",
        "00:00:07.370\tDone\r\n",
        "00:00:07.373\tLogging\r\n"
       ]
      },
      {
       "output_type": "stream",
       "stream": "stdout",
       "text": [
        "00:00:08.375\tChecking for updates...\r\n"
       ]
      },
      {
       "output_type": "stream",
       "stream": "stdout",
       "text": [
        "/Users/rpearson/src/github/malariagen/methods-dev/pf3k_techbm/notebooks\n"
       ]
      }
     ],
     "prompt_number": 32
    },
    {
     "cell_type": "code",
     "collapsed": false,
     "input": [],
     "language": "python",
     "metadata": {},
     "outputs": []
    }
   ],
   "metadata": {}
  }
 ]
}