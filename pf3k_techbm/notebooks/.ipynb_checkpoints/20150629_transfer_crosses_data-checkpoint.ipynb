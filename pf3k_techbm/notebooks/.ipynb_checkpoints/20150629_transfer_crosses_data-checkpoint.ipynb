{
 "metadata": {
  "name": "",
  "signature": "sha256:31014d558166ec77a888cfddc9110abc1050a3dc46f01f4a11e31ec3c538cad8"
 },
 "nbformat": 3,
 "nbformat_minor": 0,
 "worksheets": [
  {
   "cells": [
    {
     "cell_type": "heading",
     "level": 1,
     "metadata": {},
     "source": [
      "Setup"
     ]
    },
    {
     "cell_type": "code",
     "collapsed": false,
     "input": [
      "%run _shared_setup.ipynb"
     ],
     "language": "python",
     "metadata": {},
     "outputs": [
      {
       "output_type": "stream",
       "stream": "stdout",
       "text": [
        "python 3.4.1 |Anaconda 2.1.0 (x86_64)| (default, Sep 10 2014, 17:24:09) \n",
        "[GCC 4.2.1 (Apple Inc. build 5577)]\n",
        "numpy 1.9.2\n",
        "scipy 0.14.0\n",
        "pandas 0.14.1\n",
        "numexpr 2.3.1\n",
        "pysam 0.8.3\n",
        "petl 1.0.10\n",
        "petlx 1.0.3\n",
        "vcf 0.6.7\n",
        "h5py 2.3.1\n",
        "tables 3.1.1\n",
        "vcfplt 0.8\n"
       ]
      },
      {
       "output_type": "stream",
       "stream": "stdout",
       "text": [
        "tbl_pgv_metadata length = 5729\n",
        "tbl_pgv_locations length = 102\n",
        "tbl_pf3k_metadata length = 2512\n",
        "tbl_pf_solaris length = 10879"
       ]
      },
      {
       "output_type": "stream",
       "stream": "stdout",
       "text": [
        "\n",
        "tbl_assembled_samples length = 11\n"
       ]
      }
     ],
     "prompt_number": 1
    },
    {
     "cell_type": "heading",
     "level": 1,
     "metadata": {},
     "source": [
      "Transfer bams"
     ]
    },
    {
     "cell_type": "code",
     "collapsed": false,
     "input": [
      "(tbl_assembled_samples\n",
      "    .cutout('Notes')\n",
      "    .selectnotnone('bam_fn')\n",
      "    .addfield('bam_dir', lambda rec: os.path.dirname(rec['bam_fn']) if rec['bam_fn'] is not None else None)\n",
      ").displayall(index_header=True)"
     ],
     "language": "python",
     "metadata": {},
     "outputs": [
      {
       "html": [
        "<table class='petl'>\n",
        "<thead>\n",
        "<tr>\n",
        "<th>0|Sample name</th>\n",
        "<th>1|Cross parent?</th>\n",
        "<th>2|Origin</th>\n",
        "<th>3|Continent</th>\n",
        "<th>4|ox_code</th>\n",
        "<th>5|SRA accession</th>\n",
        "<th>6|coverage</th>\n",
        "<th>7|read length</th>\n",
        "<th>8|To be used for</th>\n",
        "<th>9|bam_fn</th>\n",
        "<th>10|bam_dir</th>\n",
        "</tr>\n",
        "</thead>\n",
        "<tbody>\n",
        "<tr>\n",
        "<td>Dd2</td>\n",
        "<td>Yes</td>\n",
        "<td>Indochina</td>\n",
        "<td>SE Asia</td>\n",
        "<td>PG0008-CW</td>\n",
        "<td>ERS010540</td>\n",
        "<td>80X</td>\n",
        "<td style='text-align: right'>76</td>\n",
        "<td>Training</td>\n",
        "<td>/nfs/team112_internal/production_files/Pf/4_0/PFprog1/PG0008_CW/PG0008_CW.bam</td>\n",
        "<td>/nfs/team112_internal/production_files/Pf/4_0/PFprog1/PG0008_CW</td>\n",
        "</tr>\n",
        "<tr>\n",
        "<td>HB3</td>\n",
        "<td>Yes</td>\n",
        "<td>Honduras</td>\n",
        "<td>S America</td>\n",
        "<td>PG0004-CW</td>\n",
        "<td>ERS010539</td>\n",
        "<td>122X</td>\n",
        "<td style='text-align: right'>76</td>\n",
        "<td>Training</td>\n",
        "<td>/nfs/team112_internal/production_files/Pf/4_0/PFprog1/PG0004_CW/PG0004_CW.bam</td>\n",
        "<td>/nfs/team112_internal/production_files/Pf/4_0/PFprog1/PG0004_CW</td>\n",
        "</tr>\n",
        "<tr>\n",
        "<td>7G8</td>\n",
        "<td>Yes</td>\n",
        "<td>Brazil</td>\n",
        "<td>S America</td>\n",
        "<td>PG0083-C</td>\n",
        "<td>ERR027099</td>\n",
        "<td>87X</td>\n",
        "<td style='text-align: right'>76</td>\n",
        "<td>Validation</td>\n",
        "<td>/nfs/team112_internal/production_files/Pf/4_0/PFprog3/PG0083_C/PG0083_C.bam</td>\n",
        "<td>/nfs/team112_internal/production_files/Pf/4_0/PFprog3/PG0083_C</td>\n",
        "</tr>\n",
        "<tr>\n",
        "<td>GB4</td>\n",
        "<td>Yes</td>\n",
        "<td>Ghana</td>\n",
        "<td>W Africa</td>\n",
        "<td>PG0084-C</td>\n",
        "<td>ERR027100</td>\n",
        "<td>104X</td>\n",
        "<td style='text-align: right'>76</td>\n",
        "<td>Validation</td>\n",
        "<td>/nfs/team112_internal/production_files/Pf/4_0/PFprog3/PG0084_C/PG0084_C.bam</td>\n",
        "<td>/nfs/team112_internal/production_files/Pf/4_0/PFprog3/PG0084_C</td>\n",
        "</tr>\n",
        "<tr>\n",
        "<td>ITA4?</td>\n",
        "<td>None</td>\n",
        "<td>Brazil?</td>\n",
        "<td>S America?</td>\n",
        "<td>PG0001-C</td>\n",
        "<td>None</td>\n",
        "<td>None</td>\n",
        "<td style='text-align: right'>37</td>\n",
        "<td>Training</td>\n",
        "<td>/nfs/team112_internal/production_files/Pf/4_0/PFlab1/PG0001_C/PG0001_C.bam</td>\n",
        "<td>/nfs/team112_internal/production_files/Pf/4_0/PFlab1/PG0001_C</td>\n",
        "</tr>\n",
        "</tbody>\n",
        "</table>\n"
       ],
       "metadata": {},
       "output_type": "display_data"
      }
     ],
     "prompt_number": 15
    },
    {
     "cell_type": "code",
     "collapsed": false,
     "input": [
      "for rec in (tbl_assembled_samples\n",
      "    .cutout('Notes')\n",
      "    .selectnotnone('bam_fn')\n",
      "    .addfield('bam_dir', lambda rec: os.path.dirname(rec['bam_fn']) if rec['bam_fn'] is not None else None)\n",
      ").data():\n",
      "    print(rec[0], rec[4])\n",
      "    !mkdir -p {rec[10]}\n",
      "    !rsync -avL malsrv2:{rec[9]} {rec[10]}\n",
      "    !samtools index {rec[9]}"
     ],
     "language": "python",
     "metadata": {},
     "outputs": [
      {
       "output_type": "stream",
       "stream": "stdout",
       "text": [
        "Dd2 PG0008-CW\n"
       ]
      },
      {
       "output_type": "stream",
       "stream": "stdout",
       "text": [
        "receiving file list ... "
       ]
      },
      {
       "output_type": "stream",
       "stream": "stdout",
       "text": [
        "done\r\n"
       ]
      },
      {
       "output_type": "stream",
       "stream": "stdout",
       "text": [
        "PG0008_CW.bam\r\n"
       ]
      },
      {
       "output_type": "stream",
       "stream": "stdout",
       "text": [
        "\r\n",
        "sent 42 bytes  received 3315142900 bytes  1410399.04 bytes/sec\r\n",
        "total size is 3314738130  speedup is 1.00\r\n"
       ]
      },
      {
       "output_type": "stream",
       "stream": "stdout",
       "text": [
        "HB3 PG0004-CW\n"
       ]
      },
      {
       "output_type": "stream",
       "stream": "stdout",
       "text": [
        "receiving file list ... "
       ]
      },
      {
       "output_type": "stream",
       "stream": "stdout",
       "text": [
        "done\r\n"
       ]
      },
      {
       "output_type": "stream",
       "stream": "stdout",
       "text": [
        "PG0004_CW.bam\r\n"
       ]
      },
      {
       "output_type": "stream",
       "stream": "stdout",
       "text": [
        "\r\n",
        "sent 42 bytes  received 2182913431 bytes  1139605.05 bytes/sec\r\n",
        "total size is 2182646853  speedup is 1.00\r\n"
       ]
      },
      {
       "output_type": "stream",
       "stream": "stdout",
       "text": [
        "7G8 PG0083-C\n"
       ]
      },
      {
       "output_type": "stream",
       "stream": "stdout",
       "text": [
        "receiving file list ... "
       ]
      },
      {
       "output_type": "stream",
       "stream": "stdout",
       "text": [
        "done\r\n"
       ]
      },
      {
       "output_type": "stream",
       "stream": "stdout",
       "text": [
        "PG0083_C.bam\r\n"
       ]
      },
      {
       "output_type": "stream",
       "stream": "stdout",
       "text": [
        "\r\n",
        "sent 42 bytes  received 1717594351 bytes  2276467.06 bytes/sec\r\n",
        "total size is 1717384578  speedup is 1.00\r\n"
       ]
      },
      {
       "output_type": "stream",
       "stream": "stdout",
       "text": [
        "GB4 PG0084-C\n"
       ]
      },
      {
       "output_type": "stream",
       "stream": "stdout",
       "text": [
        "receiving file list ... "
       ]
      },
      {
       "output_type": "stream",
       "stream": "stdout",
       "text": [
        "done\r\n"
       ]
      },
      {
       "output_type": "stream",
       "stream": "stdout",
       "text": [
        "PG0084_C.bam\r\n"
       ]
      },
      {
       "output_type": "stream",
       "stream": "stdout",
       "text": [
        "\r\n",
        "sent 42 bytes  received 2111089975 bytes  960241.08 bytes/sec\r\n",
        "total size is 2110832174  speedup is 1.00\r\n"
       ]
      },
      {
       "output_type": "stream",
       "stream": "stdout",
       "text": [
        "ITA4? PG0001-C\n"
       ]
      },
      {
       "output_type": "stream",
       "stream": "stdout",
       "text": [
        "receiving file list ... "
       ]
      },
      {
       "output_type": "stream",
       "stream": "stdout",
       "text": [
        "done\r\n"
       ]
      },
      {
       "output_type": "stream",
       "stream": "stdout",
       "text": [
        "PG0001_C.bam\r\n"
       ]
      },
      {
       "output_type": "stream",
       "stream": "stdout",
       "text": [
        "\r\n",
        "sent 42 bytes  received 3639649794 bytes  657510.58 bytes/sec\r\n",
        "total size is 3639205417  speedup is 1.00\r\n"
       ]
      }
     ],
     "prompt_number": 16
    },
    {
     "cell_type": "code",
     "collapsed": false,
     "input": [],
     "language": "python",
     "metadata": {},
     "outputs": []
    }
   ],
   "metadata": {}
  }
 ]
}