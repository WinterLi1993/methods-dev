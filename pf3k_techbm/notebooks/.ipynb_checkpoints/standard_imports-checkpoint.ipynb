{
 "metadata": {
  "name": "",
  "signature": "sha256:8fe50090d67de5984183f6347ff05730f8925a3d585067d49a2da425f15e81ed"
 },
 "nbformat": 3,
 "nbformat_minor": 0,
 "worksheets": [
  {
   "cells": [
    {
     "cell_type": "code",
     "collapsed": false,
     "input": [
      "# add following as first line of notebook to use\n",
      "# %run standard_imports.ipynb\n",
      "\n",
      "# standard libraries\n",
      "from __future__ import division, print_function\n",
      "import sys\n",
      "import os\n",
      "import operator\n",
      "import itertools\n",
      "import collections\n",
      "import functools\n",
      "import glob\n",
      "import csv\n",
      "import datetime\n",
      "import bisect\n",
      "import sqlite3\n",
      "import subprocess\n",
      "import traceback\n",
      "import random\n",
      "import gc\n",
      "\n",
      "# third party libraries\n",
      "# N.B., don't import matplotlib because notebooks and scripts may want to import it in different ways (e.g., if using different backends)\n",
      "import numpy as np\n",
      "import scipy\n",
      "import scipy.stats as stats\n",
      "import pandas\n",
      "import numexpr\n",
      "import sklearn\n",
      "import sklearn.decomposition\n",
      "import sklearn.manifold\n",
      "import pyfasta\n",
      "import pysam\n",
      "# import pysamstats\n",
      "import petl\n",
      "import petl as etl\n",
      "etl.repr_index_header = True\n",
      "import petl.io\n",
      "import petlx\n",
      "import vcf\n",
      "# import vcfnp\n",
      "import h5py\n",
      "import tables\n",
      "import vcfplt\n",
      "import sh\n",
      "import Bio\n",
      "from Bio import SeqIO"
     ],
     "language": "python",
     "metadata": {},
     "outputs": [],
     "prompt_number": 18
    },
    {
     "cell_type": "code",
     "collapsed": false,
     "input": [
      "def print_library_versions():\n",
      "    print('python', sys.version)\n",
      "    print('numpy', np.__version__)\n",
      "    print('scipy', scipy.__version__)\n",
      "    print('pandas', pandas.__version__)\n",
      "    print('numexpr', numexpr.__version__)\n",
      "    print('pysam', pysam.__version__)\n",
      "#     print('pysamstats', pysamstats.__version__)\n",
      "    print('petl', petl.__version__)\n",
      "    etl.repr_index_header = True\n",
      "    print('petlx', petlx.__version__)\n",
      "    print('vcf', vcf.VERSION)\n",
      "#     print('vcfnp', vcfnp.__version__)\n",
      "    print('h5py', h5py.__version__)\n",
      "    print('tables', tables.__version__)\n",
      "    print('vcfplt', vcfplt.__version__)\n"
     ],
     "language": "python",
     "metadata": {},
     "outputs": [],
     "prompt_number": 14
    },
    {
     "cell_type": "code",
     "collapsed": false,
     "input": [
      "print_library_versions()"
     ],
     "language": "python",
     "metadata": {},
     "outputs": [
      {
       "output_type": "stream",
       "stream": "stdout",
       "text": [
        "python 3.4.1 |Anaconda 2.1.0 (x86_64)| (default, Sep 10 2014, 17:24:09) \n",
        "[GCC 4.2.1 (Apple Inc. build 5577)]\n",
        "numpy 1.9.0\n",
        "scipy 0.14.0\n",
        "pandas 0.14.1\n",
        "numexpr 2.3.1\n",
        "pysam 0.8.3\n",
        "petl 1.0.2\n",
        "petlx 1.0.3\n",
        "vcf 0.6.7\n",
        "h5py 2.3.1\n",
        "tables 3.1.1\n",
        "vcfplt 0.8\n"
       ]
      }
     ],
     "prompt_number": 16
    },
    {
     "cell_type": "code",
     "collapsed": false,
     "input": [],
     "language": "python",
     "metadata": {},
     "outputs": []
    }
   ],
   "metadata": {}
  }
 ]
}