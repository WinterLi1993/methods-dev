{
 "cells": [
  {
   "cell_type": "markdown",
   "metadata": {},
   "source": [
    "This notebook must be run directly from MacBook after running ~/bin/sanger-tunneling.sh in order to connect\n",
    "to Sanger network. I haven't figured out a way to do this from Docker container"
   ]
  },
  {
   "cell_type": "code",
   "execution_count": 1,
   "metadata": {
    "collapsed": false
   },
   "outputs": [],
   "source": [
    "%run imports_mac.ipynb\n",
    "%run _shared_setup.ipynb"
   ]
  },
  {
   "cell_type": "code",
   "execution_count": 5,
   "metadata": {
    "collapsed": false
   },
   "outputs": [
    {
     "name": "stdout",
     "output_type": "stream",
     "text": [
      "building file list ... done\n",
      "pilot_5_0/\n",
      "pilot_5_0/SNP_INDEL_Pf3D7_11_v3.combined.filtered.vcf.gz\n",
      "pilot_5_0/SNP_INDEL_Pf3D7_11_v3.combined.filtered.vcf.gz.tbi\n",
      "pilot_5_0/SNP_INDEL_Pf3D7_12_v3.combined.filtered.vcf.gz\n",
      "pilot_5_0/SNP_INDEL_Pf3D7_12_v3.combined.filtered.vcf.gz.tbi\n",
      "pilot_5_0/SNP_INDEL_Pf3D7_13_v3.combined.filtered.vcf.gz\n",
      "pilot_5_0/SNP_INDEL_Pf3D7_13_v3.combined.filtered.vcf.gz.tbi\n",
      "pilot_5_0/SNP_INDEL_Pf3D7_14_v3.combined.filtered.vcf.gz\n",
      "pilot_5_0/SNP_INDEL_Pf3D7_14_v3.combined.filtered.vcf.gz.tbi\n",
      "pilot_5_0/SNP_INDEL_Pf3D7_API_v3.combined.filtered.vcf.gz\n",
      "pilot_5_0/SNP_INDEL_Pf3D7_API_v3.combined.filtered.vcf.gz.tbi\n",
      "pilot_5_0/SNP_INDEL_Pf_M76611.combined.filtered.vcf.gz\n",
      "pilot_5_0/SNP_INDEL_Pf_M76611.combined.filtered.vcf.gz.tbi\n",
      "pilot_5_0/SNP_INDEL_WG.combined.filtered.vcf.gz\n",
      "Connection to localhost closed by remote host.\n",
      "rsync: writefd_unbuffered failed to write 32768 bytes [sender]: Broken pipe (32)\n",
      "rsync: connection unexpectedly closed (300 bytes received so far) [sender]\n",
      "rsync error: unexplained error (code 255) at /SourceCache/rsync/rsync-45/rsync/io.c(453) [sender=2.6.9]\n"
     ]
    }
   ],
   "source": [
    "!rsync -avL /nfs/team112_internal/production/release_build/Pf3K/pilot_5_0 \\\n",
    " malsrv2:/nfs/team112_internal/production/release_build/Pf3K/"
   ]
  },
  {
   "cell_type": "code",
   "execution_count": null,
   "metadata": {
    "collapsed": false
   },
   "outputs": [
    {
     "name": "stdout",
     "output_type": "stream",
     "text": [
      "building file list ... done\n",
      "pf3k/interim5/sites/sites_only_vcfs/\n",
      "pf3k/interim5/sites/sites_only_vcfs/interim5_WG_sites.vcf.gz.vcfnp_cache/\n",
      "pf3k/interim5/vqsr/4_gaussians/\n",
      "pf3k/interim5/vqsr/4_gaussians/interim5_WG_sites.INDEL.filtered.vcf.gz.vcfnp_cache/\n",
      "pf3k/interim5/vqsr/4_gaussians/interim5_WG_sites.SNP.filtered.vcf.gz.vcfnp_cache/\n",
      "pf3k/interim5/vqsr/as_build_3_4/\n",
      "pf3k/interim5/vqsr/as_build_3_4/interim5_WG_sites.unfiltered.vcf.gz\n"
     ]
    }
   ],
   "source": [
    "!rsync -avL {DATA_DIR} malsrv2:{os.path.dirname(DATA_DIR)}"
   ]
  },
  {
   "cell_type": "code",
   "execution_count": null,
   "metadata": {
    "collapsed": true
   },
   "outputs": [],
   "source": []
  }
 ],
 "metadata": {
  "kernelspec": {
   "display_name": "Python 3",
   "language": "python",
   "name": "python3"
  },
  "language_info": {
   "codemirror_mode": {
    "name": "ipython",
    "version": 3
   },
   "file_extension": ".py",
   "mimetype": "text/x-python",
   "name": "python",
   "nbconvert_exporter": "python",
   "pygments_lexer": "ipython3",
   "version": "3.4.1"
  }
 },
 "nbformat": 4,
 "nbformat_minor": 0
}
