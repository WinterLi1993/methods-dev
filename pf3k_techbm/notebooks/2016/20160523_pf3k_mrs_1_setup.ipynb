{
 "cells": [
  {
   "cell_type": "markdown",
   "metadata": {},
   "source": [
    "# Introduction\n",
    "This is details of a VR-PIPE setup of full calling pipeline based on mappings done by Thomas of 100bp reads from 16 \"multiple reference strain\" (MRS) samples. See email from Thomas at 14:13 on 23/05/2016."
   ]
  },
  {
   "cell_type": "code",
   "execution_count": 2,
   "metadata": {
    "collapsed": false
   },
   "outputs": [
    {
     "name": "stdout",
     "output_type": "stream",
     "text": [
      "python 3.4.3 |Anaconda 2.2.0 (64-bit)| (default, Mar  6 2015, 12:03:53) \n",
      "[GCC 4.4.7 20120313 (Red Hat 4.4.7-1)]\n",
      "numpy 1.9.2\n",
      "scipy 0.15.1\n",
      "pandas 0.15.2\n",
      "numexpr 2.3.1\n",
      "pysam 0.8.3\n",
      "pysamstats 0.23\n",
      "petl 1.0.11\n",
      "petlx 1.0.3\n",
      "vcf 0.6.7\n",
      "vcfnp 2.3.0.dev0\n",
      "h5py 2.4.0\n",
      "tables 3.1.1\n"
     ]
    }
   ],
   "source": [
    "%run _standard_imports.ipynb\n",
    "%run _shared_setup.ipynb\n"
   ]
  },
  {
   "cell_type": "code",
   "execution_count": 4,
   "metadata": {
    "collapsed": true
   },
   "outputs": [],
   "source": [
    "RELEASE_DIR = \"%s/mrs_1\" % DATA_DIR\n",
    "RESOURCES_DIR = '%s/resources' % RELEASE_DIR\n",
    "\n",
    "# GENOME_FN = \"/nfs/pathogen003/tdo/Pfalciparum/3D7/Reference/Oct2011/Pf3D7_v3.fasta\" # Note this ref used by Thomas is different to other refs we have used, e.g. chromsomes aren't in numerical order\n",
    "GENOME_FN = \"/lustre/scratch109/malaria/pf3k_methods/resources/Pfalciparum.genome.fasta\"\n",
    "SNPEFF_DIR = \"/lustre/scratch109/malaria/pf3k_methods/resources/snpEff\"\n",
    "REGIONS_FN = \"/nfs/team112_internal/rp7/src/github/malariagen/pf-crosses/meta/regions-20130225.bed.gz\"\n",
    "\n",
    "RELEASE_METADATA_FN = \"%s/pf3k_mrs_1_sample_metadata.txt\" % RELEASE_DIR\n",
    "WG_VCF_FN = \"%s/vcf/pf3k_mrs_1.vcf.gz\" % RELEASE_DIR\n",
    "\n",
    "BCFTOOLS = '/nfs/team112_internal/rp7/src/github/malariagen/methods-dev/pf3k_techbm/opt_4/bcftools/bcftools'\n"
   ]
  },
  {
   "cell_type": "code",
   "execution_count": 5,
   "metadata": {
    "collapsed": false
   },
   "outputs": [
    {
     "name": "stdout",
     "output_type": "stream",
     "text": [
      "/nfs/team112_internal/rp7/data/pf3k/mrs_1/vcf/pf3k_mrs_1.vcf.gz\n"
     ]
    }
   ],
   "source": [
    "print(WG_VCF_FN)"
   ]
  },
  {
   "cell_type": "code",
   "execution_count": 6,
   "metadata": {
    "collapsed": true
   },
   "outputs": [],
   "source": [
    "chromosomes = [\"Pf3D7_%02d_v3\" % x for x in range(1, 15, 1)] + [\n",
    "    'Pf3D7_API_v3', 'Pf_M76611'\n",
    "]\n",
    "chromosome_vcfs = [\"%s/vcf/SNP_INDEL_%s.combined.filtered.vcf.gz\" % (RELEASE_DIR, x) for x in chromosomes]\n"
   ]
  },
  {
   "cell_type": "code",
   "execution_count": 7,
   "metadata": {
    "collapsed": true
   },
   "outputs": [],
   "source": [
    "if not os.path.exists(RESOURCES_DIR):\n",
    "    os.makedirs(RESOURCES_DIR)"
   ]
  },
  {
   "cell_type": "code",
   "execution_count": 8,
   "metadata": {
    "collapsed": true
   },
   "outputs": [],
   "source": [
    "!cp {GENOME_FN}* {RESOURCES_DIR}\n",
    "!cp -R {SNPEFF_DIR} {RESOURCES_DIR}\n",
    "!cp -R {REGIONS_FN} {RESOURCES_DIR}"
   ]
  },
  {
   "cell_type": "code",
   "execution_count": 9,
   "metadata": {
    "collapsed": true
   },
   "outputs": [],
   "source": [
    "for lustre_dir in ['input', 'output', 'meta']:\n",
    "    os.makedirs(\"/lustre/scratch109/malaria/pf3k_mrs_1/%s\" % lustre_dir)"
   ]
  },
  {
   "cell_type": "raw",
   "metadata": {},
   "source": [
    "We've now gathered all information; here's what you've asked for:\n",
    "\tPipelineSetup name: pf3k_mrs_mapping (for user rp7 controlled by farm 'farm3')\n",
    "\tDataSource: fofn_with_metadata->all with source /nfs/team112_internal/rp7/data/pf3k/mrs_1/pf3k_mrs_1_thomas_bams.txt:\n",
    "\tPipeline: bam_mapping_with_bwa_mem_via_fastq_v2 (outputting to /lustre/scratch109/malaria/pf3k_mrs_1/output belonging to group team112):\n",
    "\t\tbam2fastq_exe => /nfs/team112_internal/production/tools/bin/bam2fastq\n",
    "\t\tbam_merge_keep_single_paired_separate => 1\n",
    "\t\tbamcheck_exe => /nfs/team112_internal/production/tools/bin/bamcheck-2012-02-11\n",
    "\t\tbwa_exe => /nfs/team112_internal/production/tools/bin/bwa-0.7.12\n",
    "\t\tbwa_index_options => -a bwtsw\n",
    "\t\tbwa_mem_options => -M\n",
    "\t\tcleanup => 1\n",
    "\t\tcompressed_bam_output => 1\n",
    "\t\tdelete_input_bams => 0\n",
    "\t\tfastq_chunk_size => 1000000000\n",
    "\t\tfastqcheck_exe => /nfs/team112_internal/production/tools/bin/fastqcheck\n",
    "\t\treference_assembly_name => Pf3D7_v3\n",
    "\t\treference_fasta => /lustre/scratch109/malaria/pf3k_methods/resources/Pfalciparum.genome.fasta\n",
    "\t\treference_public_url => http://plasmodb.org/common/downloads/release-9.2/Pfalciparum3D7/fasta/data/PlasmoDB-9.2_Pfalciparum3D7_Genome.fasta\n",
    "\t\treference_species => P.falciparum\n",
    "\t\tsamtools_exe => /nfs/team112_internal/production/tools/bin/samtools_1.2\n",
    "\t\tstore_original_pg_chain => 1\n",
    "Is all of this correct? <y|n>: y\n",
    "\n",
    "Your new PipelineSetup has been created!\n",
    "Name: pf3k_mrs_mapping; Id: 779 (remember at least one of these for use later)\n"
   ]
  },
  {
   "cell_type": "raw",
   "metadata": {},
   "source": [
    "We've now gathered all information; here's what you've asked for:\n",
    "\tPipelineSetup name: pf3k_mrs_mark_duplicates (for user rp7 controlled by farm 'farm3')\n",
    "\tDataSource: vrpipe->all with source pf3k_mrs_mapping[bam_merge_lane_splits_v2:merged_lane_bams]:\n",
    "\t\tfilter_after_grouping => 1\n",
    "\t\tmaintain_element_grouping => 1\n",
    "\tPipeline: bam_mark_duplicates_v2 (outputting to /lustre/scratch109/malaria/pf3k_mrs_1/output belonging to group team112):\n",
    "\t\tdelete_input_bams => 1\n",
    "\t\tjava_exe => /software/jre1.7.0_25/bin/java\n",
    "\t\tmarkdup_options => ASSUME_SORTED=TRUE METRICS_FILE=/dev/null VALIDATION_STRINGENCY=SILENT\n",
    "\t\tpicard_path => /nfs/team112_internal/production/tools/bin/picard-tools-1.137/\n",
    "Is all of this correct? <y|n>: y\n",
    "\n",
    "Your new PipelineSetup has been created!\n",
    "Name: pf3k_mrs_mark_duplicates; Id: 780 (remember at least one of these for use later)\n"
   ]
  },
  {
   "cell_type": "raw",
   "metadata": {},
   "source": [
    "We've now gathered all information; here's what you've asked for:\n",
    "\tPipelineSetup name: pf3k_mrs_indel_realignment (for user rp7 controlled by farm 'farm3')\n",
    "\tDataSource: vrpipe->all with source pf3k_mrs_mark_duplicates[1]:\n",
    "\t\tfilter_after_grouping => 1\n",
    "\t\tmaintain_element_grouping => 1\n",
    "\tPipeline: gatk_indel_realignment_gatk3_v2 (outputting to /lustre/scratch109/malaria/pf3k_mrs_1/output belonging to group team112):\n",
    "\t\tcleanup => 1\n",
    "\t\tdelete_input_bams => 1\n",
    "\t\tgatk_key => /nfs/team112_internal/production/tools/bin/gatk/dj6_sanger.ac.uk.key\n",
    "\t\tgatk_path => /nfs/team112_internal/production/tools/bin/gatk/GenomeAnalysisTK-3.4-46\n",
    "\t\tjava_exe => /software/jre1.7.0_25/bin/java\n",
    "\t\treference_fasta => /lustre/scratch109/malaria/pf3k_methods/resources/Pfalciparum.genome.fasta\n",
    "Is all of this correct? <y|n>: y\n",
    "\n",
    "Your new PipelineSetup has been created!\n",
    "Name: pf3k_mrs_indel_realignment; Id: 781 (remember at least one of these for use later)\n"
   ]
  },
  {
   "cell_type": "raw",
   "metadata": {},
   "source": [
    "We've now gathered all information; here's what you've asked for:\n",
    "\tPipelineSetup name: pf3k_mrs_bqsr (for user rp7 controlled by farm 'farm3')\n",
    "\tDataSource: vrpipe->all with source pf3k_mrs_indel_realignment[gatk_indel_realigner_gatk3_v2:realigned_bam_files]:\n",
    "\t\tfilter_after_grouping => 1\n",
    "\t\tmaintain_element_grouping => 1\n",
    "\tPipeline: gatk_base_quality_score_recalibration_gatk3 (outputting to /lustre/scratch109/malaria/pf3k_mrs_1/output belonging to group team112):\n",
    "\t\tcleanup => 1\n",
    "\t\tdelete_input_bams => 1\n",
    "\t\tgatk_base_recalibrator_options => -knownSites /nfs/team112_internal/oxford_mirror/data/plasmodium/pfalciparum/pf-crosses/data/public/1.0/7g8_gb4.combined.final.vcf.gz -knownSites /nfs/team112_internal/oxford_mirror/data/plasmodium/pfalciparum/pf-crosses/data/public/1.0/hb3_dd2.combined.final.vcf.gz -knownSites /nfs/team112_internal/oxford_mirror/data/plasmodium/pfalciparum/pf-crosses/data/public/1.0/3d7_hb3.combined.final.vcf.gz\n",
    "\t\tgatk_key => /nfs/team112_internal/production/tools/bin/gatk/dj6_sanger.ac.uk.key\n",
    "\t\tgatk_path => /nfs/team112_internal/production/tools/bin/gatk/GenomeAnalysisTK-3.4-46\n",
    "\t\tjava_exe => /software/jre1.7.0_25/bin/java\n",
    "\t\treference_fasta => /lustre/scratch109/malaria/pf3k_methods/resources/Pfalciparum.genome.fasta\n",
    "Is all of this correct? <y|n>: y\n",
    "\n",
    "Your new PipelineSetup has been created!\n",
    "Name: pf3k_mrs_bqsr; Id: 782 (remember at least one of these for use later)\n"
   ]
  },
  {
   "cell_type": "raw",
   "metadata": {},
   "source": [
    "We've now gathered all information; here's what you've asked for:\n",
    "\tPipelineSetup name: pf3k_mrs_mergelanes (for user rp7 controlled by farm 'farm3')\n",
    "\tDataSource: vrpipe->group_by_metadata with source pf3k_mrs_bqsr[gatk_print_reads_gatk3:recalibrated_bam_files]:\n",
    "\t\tfilter_after_grouping => 1\n",
    "\t\tmetadata_keys => sample\n",
    "\tPipeline: bam_merge_lanes_and_fix_rgs_v2 (outputting to /lustre/scratch109/malaria/pf3k_mrs_1/output ):\n",
    "\t\tbam_merge_keep_single_paired_separate => 1\n",
    "\t\tbam_tags_to_strip => OQ XM XG XO\n",
    "\t\tcleanup => 1\n",
    "\t\tdelete_input_bams => 0\n",
    "\t\tjava_exe => /software/jre1.7.0_25/bin/java\n",
    "\t\tmarkdup_options => ASSUME_SORTED=TRUE METRICS_FILE=/dev/null VALIDATION_STRINGENCY=SILENT\n",
    "\t\tmerge_sam_files_options => VALIDATION_STRINGENCY=SILENT\n",
    "\t\tpicard_add_readgroups_options => VALIDATION_STRINGENCY=SILENT COMPRESSION_LEVEL=0\n",
    "\t\tpicard_path => /nfs/team112_internal/production/tools/bin/picard-tools-1.137/\n",
    "\t\treadgroup_sm_from_metadata_key => sample\n",
    "Is all of this correct? <y|n>: y\n",
    "\n",
    "Your new PipelineSetup has been created!\n",
    "Name: pf3k_mrs_mergelanes; Id: 783 (remember at least one of these for use later)\n"
   ]
  },
  {
   "cell_type": "raw",
   "metadata": {},
   "source": [
    "We've now gathered all information; here's what you've asked for:\n",
    "\tPipelineSetup name: pf3k_mrs_mergelibs (for user rp7 controlled by farm 'farm3')\n",
    "\tDataSource: vrpipe->group_by_metadata with source pf3k_mrs_mergelanes[bam_mark_duplicates_v2:markdup_bam_files]:\n",
    "\t\tfilter_after_grouping => 1\n",
    "\t\tmetadata_keys => sample\n",
    "\tPipeline: bam_merge_v3 (outputting to /lustre/scratch109/malaria/pf3k_mrs_1/output belonging to group team112):\n",
    "\t\tbam_merge_keep_single_paired_separate => 1\n",
    "\t\tdelete_input_bams => 1\n",
    "\t\tjava_exe => /software/jre1.7.0_25/bin/java\n",
    "\t\tmerge_sam_files_options => VALIDATION_STRINGENCY=SILENT\n",
    "\t\tpicard_path => /nfs/team112_internal/production/tools/bin/picard-tools-1.137/\n",
    "\t\tsamtools_exe => /nfs/team112_internal/production/tools/bin/samtools_1.2\n",
    "Is all of this correct? <y|n>: y\n",
    "\n",
    "Your new PipelineSetup has been created!\n",
    "Name: pf3k_mrs_mergelibs; Id: 784 (remember at least one of these for use later)\n"
   ]
  },
  {
   "cell_type": "raw",
   "metadata": {},
   "source": [
    "We've now gathered all information; here's what you've asked for:\n",
    "\tPipelineSetup name: pf3k_mrs_sample_bam_summary (for user rp7 controlled by farm 'farm3')\n",
    "\tDataSource: vrpipe->all with source pf3k_mrs_mergelibs[1]:\n",
    "\t\tfilter_after_grouping => 1\n",
    "\t\tmaintain_element_grouping => 1\n",
    "\tPipeline: samtools_bam_stats_gatk_callable_loci_gatk3 (outputting to /lustre/scratch109/malaria/pf3k_mrs_1/output belonging to group team112):\n",
    "\t\tcallable_loci_options => --minDepth 5 --format STATE_PER_BASE\n",
    "\t\tcleanup => 0\n",
    "\t\tgatk_key => /nfs/team112_internal/production/tools/bin/gatk/dj6_sanger.ac.uk.key\n",
    "\t\tgatk_path => /nfs/team112_internal/production/tools/bin/gatk/GenomeAnalysisTK-3.5\n",
    "\t\tjava_exe => /software/jre1.7.0_25/bin/java\n",
    "\t\treference_fasta => /lustre/scratch109/malaria/pf3k_methods/resources/Pfalciparum.genome.fasta\n",
    "\t\tsamtools_exe => /nfs/team112_internal/production/tools/bin/samtools_1.2\n",
    "Is all of this correct? <y|n>: y\n",
    "\n",
    "Your new PipelineSetup has been created!\n",
    "Name: pf3k_mrs_sample_bam_summary; Id: 785 (remember at least one of these for use later)\n"
   ]
  },
  {
   "cell_type": "code",
   "execution_count": null,
   "metadata": {
    "collapsed": true
   },
   "outputs": [],
   "source": []
  }
 ],
 "metadata": {
  "kernelspec": {
   "display_name": "Python 3",
   "language": "python",
   "name": "python3"
  },
  "language_info": {
   "codemirror_mode": {
    "name": "ipython",
    "version": 3
   },
   "file_extension": ".py",
   "mimetype": "text/x-python",
   "name": "python",
   "nbconvert_exporter": "python",
   "pygments_lexer": "ipython3",
   "version": "3.4.3"
  }
 },
 "nbformat": 4,
 "nbformat_minor": 0
}
