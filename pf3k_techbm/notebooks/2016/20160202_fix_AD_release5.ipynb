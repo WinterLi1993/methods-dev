{
 "cells": [
  {
   "cell_type": "code",
   "execution_count": 3,
   "metadata": {
    "collapsed": false
   },
   "outputs": [
    {
     "name": "stdout",
     "output_type": "stream",
     "text": [
      "mkdir: cannot create directory `/nfs/team112_internal/production/release_build/Pf3K/pilot_5_0/temp': File exists\n",
      "mv: cannot move `/nfs/team112_internal/production/release_build/Pf3K/pilot_5_0/temp' to a subdirectory of itself, `/nfs/team112_internal/production/release_build/Pf3K/pilot_5_0/temp/temp'\n"
     ]
    }
   ],
   "source": [
    "release5_dir = '/nfs/team112_internal/production/release_build/Pf3K/pilot_5_0'\n",
    "!mkdir {\"%s/temp\" % release5_dir}\n",
    "!mv {release5_dir}/* {release5_dir}/temp/"
   ]
  },
  {
   "cell_type": "code",
   "execution_count": 4,
   "metadata": {
    "collapsed": false
   },
   "outputs": [
    {
     "data": {
      "text/plain": [
       "['Pf3D7_01_v3',\n",
       " 'Pf3D7_02_v3',\n",
       " 'Pf3D7_03_v3',\n",
       " 'Pf3D7_04_v3',\n",
       " 'Pf3D7_05_v3',\n",
       " 'Pf3D7_06_v3',\n",
       " 'Pf3D7_07_v3',\n",
       " 'Pf3D7_08_v3',\n",
       " 'Pf3D7_09_v3',\n",
       " 'Pf3D7_10_v3',\n",
       " 'Pf3D7_11_v3',\n",
       " 'Pf3D7_12_v3',\n",
       " 'Pf3D7_13_v3',\n",
       " 'Pf3D7_14_v3',\n",
       " 'Pf3D7_API_v3',\n",
       " 'Pf_M76611']"
      ]
     },
     "execution_count": 4,
     "metadata": {},
     "output_type": "execute_result"
    }
   ],
   "source": [
    "chroms = ['Pf3D7_%02d_v3' % x for x in range(1, 15)] + ['Pf3D7_API_v3', 'Pf_M76611']\n",
    "chroms"
   ]
  },
  {
   "cell_type": "code",
   "execution_count": 5,
   "metadata": {
    "collapsed": false
   },
   "outputs": [
    {
     "name": "stdout",
     "output_type": "stream",
     "text": [
      "open: No such file or directory\n",
      "open: No such file or directory\n",
      "open: No such file or directory\n",
      "open: No such file or directory\n",
      "open: No such file or directory\n",
      "open: No such file or directory\n",
      "open: No such file or directory\n",
      "open: No such file or directory\n",
      "open: No such file or directory\n",
      "open: No such file or directory\n",
      "open: No such file or directory\n",
      "open: No such file or directory\n",
      "open: No such file or directory\n",
      "open: No such file or directory\n",
      "open: No such file or directory\n",
      "open: No such file or directory\n"
     ]
    }
   ],
   "source": [
    "for chrom in chroms:\n",
    "    !zcat {\"%s/temp/SNP_INDEL_%s.combined.filtered.vcf.gz\" % (release5_dir, chrom)} \\\n",
    "    | sed 's/##FORMAT=<ID=AD,Number=./##FORMAT=<ID=AD,Number=R/' \\\n",
    "    | bgzip -c > {\"%s/SNP_INDEL_%s.combined.filtered.vcf.gz\" % (release5_dir, chrom)}\n",
    "    !bcftools index --tbi {\"%s/SNP_INDEL_%s.combined.filtered.vcf.gz\" % (release5_dir, chrom)}\n"
   ]
  },
  {
   "cell_type": "code",
   "execution_count": 6,
   "metadata": {
    "collapsed": true
   },
   "outputs": [],
   "source": [
    "for chrom in chroms:\n",
    "    !tabix -p vcf {\"%s/SNP_INDEL_%s.combined.filtered.vcf.gz\" % (release5_dir, chrom)}\n"
   ]
  },
  {
   "cell_type": "code",
   "execution_count": null,
   "metadata": {
    "collapsed": true
   },
   "outputs": [],
   "source": []
  }
 ],
 "metadata": {
  "kernelspec": {
   "display_name": "Python 3",
   "language": "python",
   "name": "python3"
  },
  "language_info": {
   "codemirror_mode": {
    "name": "ipython",
    "version": 3
   },
   "file_extension": ".py",
   "mimetype": "text/x-python",
   "name": "python",
   "nbconvert_exporter": "python",
   "pygments_lexer": "ipython3",
   "version": "3.5.0+"
  }
 },
 "nbformat": 4,
 "nbformat_minor": 0
}
