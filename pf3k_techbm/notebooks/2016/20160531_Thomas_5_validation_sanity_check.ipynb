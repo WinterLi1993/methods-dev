{
 "cells": [
  {
   "cell_type": "raw",
   "metadata": {},
   "source": [
    "%run _standard_imports.ipynb\n",
    "%run _shared_setup.ipynb\n"
   ]
  },
  {
   "cell_type": "code",
   "execution_count": 2,
   "metadata": {
    "collapsed": true
   },
   "outputs": [],
   "source": [
    "release5_final_files_dir = '/nfs/team112_internal/production/release_build/Pf3K/pilot_5_0'\n",
    "chrom_vcf_fn = \"%s/SNP_INDEL_Pf3D7_04_v3.combined.filtered.vcf.gz\" % (release5_final_files_dir)\n",
    "\n",
    "output_dir = \"/lustre/scratch109/malaria/rp7/data/pf3k/pilot_5_0/20160524_Thomas_5_validation_vcf_and_CL\"\n",
    "!mkdir -p {output_dir}"
   ]
  },
  {
   "cell_type": "code",
   "execution_count": 6,
   "metadata": {
    "collapsed": true
   },
   "outputs": [],
   "source": [
    "BCFTOOLS = '/nfs/team112_internal/rp7/src/github/malariagen/methods-dev/pf3k_techbm/opt_4/bcftools/bcftools'"
   ]
  },
  {
   "cell_type": "code",
   "execution_count": 7,
   "metadata": {
    "collapsed": true
   },
   "outputs": [],
   "source": [
    "last_file_sent = '/lustre/scratch109/malaria/rp7/data/pf3k/pilot_5_0/20160524_Thomas_5_validation_vcf_and_CL/SNP_INDEL_Pf3D7_14_v3.for_thomas_unfiltered.vcf.gz'"
   ]
  },
  {
   "cell_type": "code",
   "execution_count": 16,
   "metadata": {
    "collapsed": false
   },
   "outputs": [
    {
     "name": "stdout",
     "output_type": "stream",
     "text": [
      "5355\r\n"
     ]
    }
   ],
   "source": [
    "!{BCFTOOLS} view -s ERS740937 {last_file_sent} | \\\n",
    "{BCFTOOLS} view --include 'AC>0 && AN=1' | grep -v '^#' | grep PASS | wc -l\n",
    "# {BCFTOOLS} view --include 'AC>0 && ALT!=\"*\"' | wc -l"
   ]
  },
  {
   "cell_type": "code",
   "execution_count": 18,
   "metadata": {
    "collapsed": false
   },
   "outputs": [
    {
     "name": "stdout",
     "output_type": "stream",
     "text": [
      "5355\r\n"
     ]
    }
   ],
   "source": [
    "!{BCFTOOLS} view -s ERS740937 /lustre/scratch109/malaria/rp7/data/pf3k/pilot_5_0/20160524_Thomas_5_validation_vcf_and_CL/SNP_INDEL_Pf3D7_14_v3.for_thomas.vcf.gz | \\\n",
    "{BCFTOOLS} view --include 'AC>0 && AN=1' | grep -v '^#' | wc -l\n",
    "# {BCFTOOLS} view --include 'AC>0 && ALT!=\"*\"' | wc -l"
   ]
  },
  {
   "cell_type": "code",
   "execution_count": null,
   "metadata": {
    "collapsed": true
   },
   "outputs": [],
   "source": [
    "/nfs/team112_internal/rp7/src/github/malariagen/methods-dev/pf3k_techbm/opt_4/bcftools/bcftools view -s ERS740937 \\\n",
    "/lustre/scratch109/malaria/rp7/data/pf3k/pilot_5_0/20160524_Thomas_5_validation_vcf_and_CL/SNP_INDEL_Pf3D7_14_v3.for_thomas_unfiltered.vcf.gz | \\\n",
    "/nfs/team112_internal/rp7/src/github/malariagen/methods-dev/pf3k_techbm/opt_4/bcftools/bcftools view --include 'AC>0' | less -S"
   ]
  },
  {
   "cell_type": "code",
   "execution_count": null,
   "metadata": {
    "collapsed": true
   },
   "outputs": [],
   "source": [
    "/nfs/team112_internal/rp7/src/github/malariagen/methods-dev/pf3k_techbm/opt_4/bcftools/bcftools view -s ERS740937 \\\n",
    "/lustre/scratch109/malaria/rp7/data/pf3k/pilot_5_0/20160524_Thomas_5_validation_vcf_and_CL/SNP_INDEL_Pf3D7_14_v3.for_thomas_unfiltered.vcf.gz | \\\n",
    "/nfs/team112_internal/rp7/src/github/malariagen/methods-dev/pf3k_techbm/opt_4/bcftools/bcftools view --include 'AC>0' | less -S"
   ]
  }
 ],
 "metadata": {
  "kernelspec": {
   "display_name": "Python 3",
   "language": "python",
   "name": "python3"
  },
  "language_info": {
   "codemirror_mode": {
    "name": "ipython",
    "version": 3
   },
   "file_extension": ".py",
   "mimetype": "text/x-python",
   "name": "python",
   "nbconvert_exporter": "python",
   "pygments_lexer": "ipython3",
   "version": "3.4.3"
  }
 },
 "nbformat": 4,
 "nbformat_minor": 0
}
