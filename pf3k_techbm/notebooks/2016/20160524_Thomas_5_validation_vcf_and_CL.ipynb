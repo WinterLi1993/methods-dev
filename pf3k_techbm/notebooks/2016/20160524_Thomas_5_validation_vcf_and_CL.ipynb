{
 "cells": [
  {
   "cell_type": "code",
   "execution_count": 1,
   "metadata": {
    "collapsed": false
   },
   "outputs": [
    {
     "name": "stdout",
     "output_type": "stream",
     "text": [
      "python 3.4.3 |Anaconda 2.2.0 (64-bit)| (default, Mar  6 2015, 12:03:53) \n",
      "[GCC 4.4.7 20120313 (Red Hat 4.4.7-1)]\n",
      "numpy 1.9.2\n",
      "scipy 0.15.1\n",
      "pandas 0.15.2\n",
      "numexpr 2.3.1\n",
      "pysam 0.8.3\n",
      "pysamstats 0.23\n",
      "petl 1.0.11\n",
      "petlx 1.0.3\n",
      "vcf 0.6.7\n",
      "vcfnp 2.3.0.dev0\n",
      "h5py 2.4.0\n",
      "tables 3.1.1\n"
     ]
    }
   ],
   "source": [
    "%run _standard_imports.ipynb\n",
    "%run _shared_setup.ipynb\n"
   ]
  },
  {
   "cell_type": "code",
   "execution_count": 11,
   "metadata": {
    "collapsed": true
   },
   "outputs": [],
   "source": [
    "release5_final_files_dir = '/nfs/team112_internal/production/release_build/Pf3K/pilot_5_0'\n",
    "wg_vcf_fn = \"%s/SNP_INDEL_WG.combined.filtered.vcf.gz\" % (release5_final_files_dir)\n",
    "\n",
    "output_dir = \"/lustre/scratch109/malaria/rp7/data/pf3k/pilot_5_0/20160524_Thomas_5_validation_vcf_and_CL\"\n",
    "!mkdir -p {output_dir}"
   ]
  },
  {
   "cell_type": "code",
   "execution_count": 7,
   "metadata": {
    "collapsed": true
   },
   "outputs": [],
   "source": [
    "BCFTOOLS = '/nfs/team112_internal/rp7/src/github/malariagen/methods-dev/pf3k_techbm/opt_4/bcftools/bcftools'"
   ]
  },
  {
   "cell_type": "code",
   "execution_count": 5,
   "metadata": {
    "collapsed": true
   },
   "outputs": [],
   "source": [
    "validation_ids = ['7G8', 'GB4', 'ERS740940', 'ERS740937', 'ERS740936']"
   ]
  },
  {
   "cell_type": "code",
   "execution_count": 12,
   "metadata": {
    "collapsed": false
   },
   "outputs": [],
   "source": [
    "# Create mixtures and crosses vcfs\n",
    "validation_samples = ','.join(validation_ids)\n",
    "\n",
    "subset_vcf_fn = \"%s/SNP_INDEL_WG.combined.filtered.validation.vcf.gz\" %  output_dir\n",
    "biallelic_vcf_fn = \"%s/SNP_INDEL_WG.combined.filtered.validation.biallelic.vcf.gz\" %  output_dir\n",
    "regenotyped_vcf_fn = \"%s/SNP_INDEL_WG.combined.filtered.validation.biallelic.vcf.gz\" %  output_dir\n",
    "\n",
    "if not os.path.exists(subset_vcf_fn):\n",
    "    !{BCFTOOLS} view -Oz -o {subset_vcf_fn} -s {validation_samples} {wg_vcf_fn}\n",
    "    !{BCFTOOLS} index --tbi {subset_vcf_fn}\n",
    "\n",
    "if not os.path.exists(biallelic_vcf_fn):\n",
    "    !{BCFTOOLS} annotate --remove FORMAT/DP,FORMAT/GQ,FORMAT/PGT,FORMAT/PID,FORMAT/PL {subset_vcf_fn} | \n",
    "    !{BCFTOOLS} norm -m -any -Oz -o {biallelic_vcf_fn}\n",
    "\n",
    "if not os.path.exists(subset_5_2_vcf_fn):\n",
    "    !/nfs/team112/software/htslib/vfp/vfp_tool {biallelic_vcf_fn} /nfs/team112/software/htslib/vfp/just_call.config | \\\n",
    "    bgzip -c > {regenotyped_vcf_fn}\n",
    "\n"
   ]
  },
  {
   "cell_type": "code",
   "execution_count": null,
   "metadata": {
    "collapsed": true
   },
   "outputs": [],
   "source": []
  }
 ],
 "metadata": {
  "kernelspec": {
   "display_name": "Python 3",
   "language": "python",
   "name": "python3"
  },
  "language_info": {
   "codemirror_mode": {
    "name": "ipython",
    "version": 3
   },
   "file_extension": ".py",
   "mimetype": "text/x-python",
   "name": "python",
   "nbconvert_exporter": "python",
   "pygments_lexer": "ipython3",
   "version": "3.4.3"
  }
 },
 "nbformat": 4,
 "nbformat_minor": 0
}
