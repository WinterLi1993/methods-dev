{
 "cells": [
  {
   "cell_type": "markdown",
   "metadata": {},
   "source": [
    "#Plan\n",
    "- Create function to create biallelic, 5/2 rule, new AF, segregating, minimal, renormalised VCF\n",
    "- Split the above into SNPs and INDELs\n",
    "- Test function on small subset of chr14\n",
    "- Run function on chrom 14\n",
    "- New function to also create npy file\n",
    "- Read in chr14 npy file, and calculate Mendelian error and genotype concordance\n",
    "- Attempt to reannotate above with STR and SNPEFF annotations\n",
    "- Rerun scripts to get breakdown by SNP/STR/nonSTR coding/noncoding"
   ]
  },
  {
   "cell_type": "markdown",
   "metadata": {},
   "source": [
    "See 20160203_release5_npy_hdf5.ipynb for creation of VCF specific to crosses"
   ]
  },
  {
   "cell_type": "code",
   "execution_count": 1,
   "metadata": {
    "collapsed": false
   },
   "outputs": [
    {
     "name": "stdout",
     "output_type": "stream",
     "text": [
      "python 3.4.3 |Anaconda 2.2.0 (64-bit)| (default, Mar  6 2015, 12:03:53) \n",
      "[GCC 4.4.7 20120313 (Red Hat 4.4.7-1)]\n",
      "numpy 1.9.2\n",
      "scipy 0.15.1\n",
      "pandas 0.15.2\n",
      "numexpr 2.3.1\n",
      "pysam 0.8.3\n",
      "pysamstats 0.23\n",
      "petl 1.0.11\n",
      "petlx 1.0.3\n",
      "vcf 0.6.7\n",
      "vcfnp 2.3.0.dev0\n",
      "h5py 2.4.0\n",
      "tables 3.1.1\n"
     ]
    }
   ],
   "source": [
    "%run _standard_imports.ipynb\n",
    "%run _shared_setup.ipynb\n"
   ]
  },
  {
   "cell_type": "code",
   "execution_count": 21,
   "metadata": {
    "collapsed": true
   },
   "outputs": [],
   "source": [
    "release5_final_files_dir = '/nfs/team112_internal/production/release_build/Pf3K/pilot_5_0'\n",
    "# chrom_vcf_fn = \"%s/SNP_INDEL_Pf3D7_14_v3.combined.filtered.vcf.gz\" % (release5_final_files_dir)\n",
    "chrom_vcf_fn = \"%s/SNP_INDEL_WG.combined.filtered.crosses.vcf.gz\" % (release5_final_files_dir)\n",
    "\n",
    "output_dir = \"/lustre/scratch109/malaria/rp7/data/pf3k/pilot_5_0/20160527_mendelian_error_duplicate_concordance\"\n",
    "!mkdir -p {output_dir}/vcf\n",
    "chrom_analysis_vcf_fn = \"%s/vcf/SNP_INDEL_Pf3D7_14_v3.analysis.vcf.gz\" % output_dir\n",
    "\n",
    "release5_crosses_metadata_txt_fn = '../../meta/pf3k_release_5_crosses_metadata.txt'\n",
    "\n",
    "BCFTOOLS = '/nfs/team112_internal/rp7/src/github/malariagen/methods-dev/pf3k_techbm/opt_4/bcftools/bcftools'"
   ]
  },
  {
   "cell_type": "code",
   "execution_count": 57,
   "metadata": {
    "collapsed": false
   },
   "outputs": [
    {
     "data": {
      "text/plain": [
       "'/nfs/team112_internal/production/release_build/Pf3K/pilot_5_0/SNP_INDEL_WG.combined.filtered.crosses.vcf.gz'"
      ]
     },
     "execution_count": 57,
     "metadata": {},
     "output_type": "execute_result"
    }
   ],
   "source": [
    "chrom_vcf_fn"
   ]
  },
  {
   "cell_type": "code",
   "execution_count": 4,
   "metadata": {
    "collapsed": false
   },
   "outputs": [
    {
     "name": "stdout",
     "output_type": "stream",
     "text": [
      "98\n"
     ]
    },
    {
     "data": {
      "text/html": [
       "<table class='petl'>\n",
       "<thead>\n",
       "<tr>\n",
       "<th>sample</th>\n",
       "<th>acc</th>\n",
       "<th>study</th>\n",
       "<th>study_title</th>\n",
       "<th>clone</th>\n",
       "<th>parent_or_progeny</th>\n",
       "</tr>\n",
       "</thead>\n",
       "<tbody>\n",
       "<tr>\n",
       "<td>PG0008-CW</td>\n",
       "<td>ERS010540</td>\n",
       "<td>1041</td>\n",
       "<td>HB3xDD2 cross progeny</td>\n",
       "<td>DD2</td>\n",
       "<td>parent</td>\n",
       "</tr>\n",
       "<tr>\n",
       "<td>PG0004-CW</td>\n",
       "<td>ERS010539</td>\n",
       "<td>1041</td>\n",
       "<td>HB3xDD2 cross progeny</td>\n",
       "<td>HB3</td>\n",
       "<td>parent</td>\n",
       "</tr>\n",
       "<tr>\n",
       "<td>PG0023-C</td>\n",
       "<td>ERS010581,ERS010543</td>\n",
       "<td>1041</td>\n",
       "<td>HB3xDD2 cross progeny</td>\n",
       "<td>1BB5</td>\n",
       "<td>progeny</td>\n",
       "</tr>\n",
       "<tr>\n",
       "<td>PG0022-Cx</td>\n",
       "<td>ERS088714</td>\n",
       "<td>1041</td>\n",
       "<td>HB3xDD2 cross progeny</td>\n",
       "<td>3BA6</td>\n",
       "<td>progeny</td>\n",
       "</tr>\n",
       "<tr>\n",
       "<td>PG0024-C</td>\n",
       "<td>ERS010150</td>\n",
       "<td>1041</td>\n",
       "<td>HB3xDD2 cross progeny</td>\n",
       "<td>3BD5</td>\n",
       "<td>progeny</td>\n",
       "</tr>\n",
       "</tbody>\n",
       "</table>\n",
       "<p><strong>...</strong></p>"
      ],
      "text/plain": [
       "+-------------+-----------------------+--------+-------------------------+--------+-------------------+\n",
       "| sample      | acc                   | study  | study_title             | clone  | parent_or_progeny |\n",
       "+=============+=======================+========+=========================+========+===================+\n",
       "| 'PG0008-CW' | 'ERS010540'           | '1041' | 'HB3xDD2 cross progeny' | 'DD2'  | 'parent'          |\n",
       "+-------------+-----------------------+--------+-------------------------+--------+-------------------+\n",
       "| 'PG0004-CW' | 'ERS010539'           | '1041' | 'HB3xDD2 cross progeny' | 'HB3'  | 'parent'          |\n",
       "+-------------+-----------------------+--------+-------------------------+--------+-------------------+\n",
       "| 'PG0023-C'  | 'ERS010581,ERS010543' | '1041' | 'HB3xDD2 cross progeny' | '1BB5' | 'progeny'         |\n",
       "+-------------+-----------------------+--------+-------------------------+--------+-------------------+\n",
       "| 'PG0022-Cx' | 'ERS088714'           | '1041' | 'HB3xDD2 cross progeny' | '3BA6' | 'progeny'         |\n",
       "+-------------+-----------------------+--------+-------------------------+--------+-------------------+\n",
       "| 'PG0024-C'  | 'ERS010150'           | '1041' | 'HB3xDD2 cross progeny' | '3BD5' | 'progeny'         |\n",
       "+-------------+-----------------------+--------+-------------------------+--------+-------------------+\n",
       "..."
      ]
     },
     "execution_count": 4,
     "metadata": {},
     "output_type": "execute_result"
    }
   ],
   "source": [
    "tbl_release5_crosses_metadata = etl.fromtsv(release5_crosses_metadata_txt_fn)\n",
    "print(len(tbl_release5_crosses_metadata.data()))\n",
    "tbl_release5_crosses_metadata"
   ]
  },
  {
   "cell_type": "code",
   "execution_count": 29,
   "metadata": {
    "collapsed": false
   },
   "outputs": [],
   "source": [
    "all_samples = ','.join(tbl_release5_crosses_metadata.values('sample'))"
   ]
  },
  {
   "cell_type": "code",
   "execution_count": 30,
   "metadata": {
    "collapsed": false
   },
   "outputs": [
    {
     "data": {
      "text/plain": [
       "'PG0008-CW,PG0004-CW,PG0023-C,PG0022-Cx,PG0024-C,PG0074-C,PG0038-C,PG0035-Cx,PG0047-C,PG0039-C,PG0040-Cx,PG0036-C,PG0041-C,PG0042-C,PG0030-C,PG0037-C,PG0034-C,PG0031-C,PG0043-C,PG0044-C,PG0046-Cx,PG0048-C,PG0015-C,PG0018-C,PG0032-Cx,PG0033-Cx,PG0029-Cx,PG0021-C,PG0028-C,PG0017-C,PG0016-C,PG0045-C,PG0026-C,PG0025-C,PG0019-C,PG0027-C,PG0020-C,PG0051-C,PG0052-C,PG0062-C,PG0065-C,PG0053-C,PG0055-C,PG0056-C,PG0067-C,PG0066-C,PG0061-C,PG0068-C,PG0069-C,PG0070-C,PG0071-C,PG0072-C,PG0063-C,PG0064-C,PG0058-C,PG0054-C,PG0060-C,PG0057-C,7G8,GB4,PG0103-CW,PG0112-C,PG0112-CW,PG0094-CW,PG0098-C,PG0081-CW,PG0099-C,PG0087-C,PG0077-CW,PG0111-C,PG0111-CW,PG0100-C,PG0100-CW,PG0079-C,PG0079-CW,PG0107-C,PG0091-C,PG0104-C,PG0104-CW,PG0088-C,PG0086-C,PG0086-CW,PG0096-C,PG0095-C,PG0095-CW,PG0078-C,PG0078-CW,PG0080-C,PG0082-C,PG0085-C,PG0097-C,PG0093-C,PG0105-C,PG0105-CW,PG0106-C,PG0102-C,PG0102-CW,PG0109-C'"
      ]
     },
     "execution_count": 30,
     "metadata": {},
     "output_type": "execute_result"
    }
   ],
   "source": [
    "all_samples"
   ]
  },
  {
   "cell_type": "code",
   "execution_count": 95,
   "metadata": {
    "collapsed": false
   },
   "outputs": [
    {
     "data": {
      "text/plain": [
       "['PG0112-C',\n",
       " 'PG0062-C',\n",
       " 'PG0053-C',\n",
       " 'PG0056-C',\n",
       " 'PG0004-CW',\n",
       " 'PG0111-C',\n",
       " 'PG0100-C',\n",
       " 'PG0079-C',\n",
       " 'PG0104-C',\n",
       " 'PG0086-C',\n",
       " 'PG0095-C',\n",
       " 'PG0078-C',\n",
       " 'PG0105-C',\n",
       " 'PG0102-C']"
      ]
     },
     "execution_count": 95,
     "metadata": {},
     "output_type": "execute_result"
    }
   ],
   "source": [
    "tbl_release5_crosses_metadata.duplicates('clone').addrownumbers().select(lambda rec: rec['row']%2 == 1).values('sample').list()"
   ]
  },
  {
   "cell_type": "code",
   "execution_count": 96,
   "metadata": {
    "collapsed": false
   },
   "outputs": [
    {
     "data": {
      "text/plain": [
       "['PG0112-CW',\n",
       " 'PG0065-C',\n",
       " 'PG0055-C',\n",
       " 'PG0067-C',\n",
       " 'PG0052-C',\n",
       " 'PG0111-CW',\n",
       " 'PG0100-CW',\n",
       " 'PG0079-CW',\n",
       " 'PG0104-CW',\n",
       " 'PG0086-CW',\n",
       " 'PG0095-CW',\n",
       " 'PG0078-CW',\n",
       " 'PG0105-CW',\n",
       " 'PG0102-CW']"
      ]
     },
     "execution_count": 96,
     "metadata": {},
     "output_type": "execute_result"
    }
   ],
   "source": [
    "tbl_release5_crosses_metadata.duplicates('clone').addrownumbers().select(lambda rec: rec['row']%2 == 0).values('sample').list()"
   ]
  },
  {
   "cell_type": "code",
   "execution_count": 97,
   "metadata": {
    "collapsed": true
   },
   "outputs": [],
   "source": [
    "replicates_first = [\n",
    " 'PG0112-C',\n",
    " 'PG0062-C',\n",
    " 'PG0053-C',\n",
    " 'PG0053-C',\n",
    " 'PG0053-C',\n",
    " 'PG0055-C',\n",
    " 'PG0055-C',\n",
    " 'PG0056-C',\n",
    " 'PG0004-CW',\n",
    " 'PG0111-C',\n",
    " 'PG0100-C',\n",
    " 'PG0079-C',\n",
    " 'PG0104-C',\n",
    " 'PG0086-C',\n",
    " 'PG0095-C',\n",
    " 'PG0078-C',\n",
    " 'PG0105-C',\n",
    " 'PG0102-C']\n",
    "\n",
    "replicates_second = [\n",
    " 'PG0112-CW',\n",
    " 'PG0065-C',\n",
    " 'PG0055-C',\n",
    " 'PG0056-C',\n",
    " 'PG0067-C',\n",
    " 'PG0056-C',\n",
    " 'PG0067-C',\n",
    " 'PG0067-C',\n",
    " 'PG0052-C',\n",
    " 'PG0111-CW',\n",
    " 'PG0100-CW',\n",
    " 'PG0079-CW',\n",
    " 'PG0104-CW',\n",
    " 'PG0086-CW',\n",
    " 'PG0095-CW',\n",
    " 'PG0078-CW',\n",
    " 'PG0105-CW',\n",
    " 'PG0102-CW']"
   ]
  },
  {
   "cell_type": "code",
   "execution_count": 100,
   "metadata": {
    "collapsed": false
   },
   "outputs": [
    {
     "data": {
      "text/plain": [
       "array([ True,  True,  True,  True,  True,  True,  True,  True,  True,\n",
       "        True,  True,  True,  True,  True,  True,  True,  True,  True], dtype=bool)"
      ]
     },
     "execution_count": 100,
     "metadata": {},
     "output_type": "execute_result"
    }
   ],
   "source": [
    "np.in1d(replicates_first, tbl_release5_crosses_metadata.values('sample').array())"
   ]
  },
  {
   "cell_type": "code",
   "execution_count": 99,
   "metadata": {
    "collapsed": false
   },
   "outputs": [
    {
     "name": "stdout",
     "output_type": "stream",
     "text": [
      "15\n",
      "15\n"
     ]
    }
   ],
   "source": [
    "rep_index_first = np.in1d(tbl_release5_crosses_metadata.values('sample').array(), replicates_first)\n",
    "rep_index_second = np.in1d(tbl_release5_crosses_metadata.values('sample').array(), replicates_second)\n",
    "print(np.sum(rep_index_first))\n",
    "print(np.sum(rep_index_second))\n"
   ]
  },
  {
   "cell_type": "code",
   "execution_count": 104,
   "metadata": {
    "collapsed": false
   },
   "outputs": [
    {
     "name": "stdout",
     "output_type": "stream",
     "text": [
      "18\n",
      "[61 39 41 41 41 42 42 43  1 69 71 73 77 80 83 85 92 95]\n",
      "18\n",
      "[62 40 42 43 44 43 44 44 38 70 72 74 78 81 84 86 93 96]\n"
     ]
    }
   ],
   "source": [
    "sample_ids = tbl_release5_crosses_metadata.values('sample').array()\n",
    "\n",
    "rep_index_first = np.argsort(sample_ids)[np.searchsorted(sample_ids[np.argsort(sample_ids)], replicates_first)]\n",
    "rep_index_second = np.argsort(sample_ids)[np.searchsorted(sample_ids[np.argsort(sample_ids)], replicates_second)]\n",
    "print(len(rep_index_first))\n",
    "print(rep_index_first)\n",
    "print(len(rep_index_second))\n",
    "print(rep_index_second)\n"
   ]
  },
  {
   "cell_type": "code",
   "execution_count": 7,
   "metadata": {
    "collapsed": false
   },
   "outputs": [
    {
     "data": {
      "text/html": [
       "<table class='petl'>\n",
       "<thead>\n",
       "<tr>\n",
       "<th>sample</th>\n",
       "<th>acc</th>\n",
       "<th>study</th>\n",
       "<th>study_title</th>\n",
       "<th>clone</th>\n",
       "<th>parent_or_progeny</th>\n",
       "</tr>\n",
       "</thead>\n",
       "<tbody>\n",
       "<tr>\n",
       "<td>PG0112-C</td>\n",
       "<td>ERS016797</td>\n",
       "<td>1043</td>\n",
       "<td>7G8xGB4 cross progeny</td>\n",
       "<td>AUD</td>\n",
       "<td>progeny</td>\n",
       "</tr>\n",
       "<tr>\n",
       "<td>PG0112-CW</td>\n",
       "<td>ERS035294</td>\n",
       "<td>1043</td>\n",
       "<td>7G8xGB4 cross progeny</td>\n",
       "<td>AUD</td>\n",
       "<td>progeny</td>\n",
       "</tr>\n",
       "<tr>\n",
       "<td>PG0062-C</td>\n",
       "<td>ERS010015</td>\n",
       "<td>1042</td>\n",
       "<td>3D7xHB3 cross progeny</td>\n",
       "<td>C01</td>\n",
       "<td>progeny</td>\n",
       "</tr>\n",
       "<tr>\n",
       "<td>PG0065-C</td>\n",
       "<td>ERS010009</td>\n",
       "<td>1042</td>\n",
       "<td>3D7xHB3 cross progeny</td>\n",
       "<td>C01</td>\n",
       "<td>progeny</td>\n",
       "</tr>\n",
       "<tr>\n",
       "<td>PG0053-C</td>\n",
       "<td>ERS010012</td>\n",
       "<td>1042</td>\n",
       "<td>3D7xHB3 cross progeny</td>\n",
       "<td>C02</td>\n",
       "<td>progeny</td>\n",
       "</tr>\n",
       "<tr>\n",
       "<td>PG0055-C</td>\n",
       "<td>ERS010011</td>\n",
       "<td>1042</td>\n",
       "<td>3D7xHB3 cross progeny</td>\n",
       "<td>C02</td>\n",
       "<td>progeny</td>\n",
       "</tr>\n",
       "<tr>\n",
       "<td>PG0056-C</td>\n",
       "<td>ERS010013</td>\n",
       "<td>1042</td>\n",
       "<td>3D7xHB3 cross progeny</td>\n",
       "<td>C02</td>\n",
       "<td>progeny</td>\n",
       "</tr>\n",
       "<tr>\n",
       "<td>PG0067-C</td>\n",
       "<td>ERS010018</td>\n",
       "<td>1042</td>\n",
       "<td>3D7xHB3 cross progeny</td>\n",
       "<td>C02</td>\n",
       "<td>progeny</td>\n",
       "</tr>\n",
       "<tr>\n",
       "<td>PG0004-CW</td>\n",
       "<td>ERS010539</td>\n",
       "<td>1041</td>\n",
       "<td>HB3xDD2 cross progeny</td>\n",
       "<td>HB3</td>\n",
       "<td>parent</td>\n",
       "</tr>\n",
       "<tr>\n",
       "<td>PG0052-C</td>\n",
       "<td>ERS010000</td>\n",
       "<td>1042</td>\n",
       "<td>3D7xHB3 cross progeny</td>\n",
       "<td>HB3</td>\n",
       "<td>parent</td>\n",
       "</tr>\n",
       "<tr>\n",
       "<td>PG0111-C</td>\n",
       "<td>ERS016796</td>\n",
       "<td>1043</td>\n",
       "<td>7G8xGB4 cross progeny</td>\n",
       "<td>JC9</td>\n",
       "<td>progeny</td>\n",
       "</tr>\n",
       "<tr>\n",
       "<td>PG0111-CW</td>\n",
       "<td>ERS035528</td>\n",
       "<td>1043</td>\n",
       "<td>7G8xGB4 cross progeny</td>\n",
       "<td>JC9</td>\n",
       "<td>progeny</td>\n",
       "</tr>\n",
       "<tr>\n",
       "<td>PG0100-C</td>\n",
       "<td>ERS016785</td>\n",
       "<td>1043</td>\n",
       "<td>7G8xGB4 cross progeny</td>\n",
       "<td>JE11</td>\n",
       "<td>progeny</td>\n",
       "</tr>\n",
       "<tr>\n",
       "<td>PG0100-CW</td>\n",
       "<td>ERS035485</td>\n",
       "<td>1043</td>\n",
       "<td>7G8xGB4 cross progeny</td>\n",
       "<td>JE11</td>\n",
       "<td>progeny</td>\n",
       "</tr>\n",
       "<tr>\n",
       "<td>PG0079-C</td>\n",
       "<td>ERS016326</td>\n",
       "<td>1043</td>\n",
       "<td>7G8xGB4 cross progeny</td>\n",
       "<td>JF6</td>\n",
       "<td>progeny</td>\n",
       "</tr>\n",
       "<tr>\n",
       "<td>PG0079-CW</td>\n",
       "<td>ERS035292</td>\n",
       "<td>1043</td>\n",
       "<td>7G8xGB4 cross progeny</td>\n",
       "<td>JF6</td>\n",
       "<td>progeny</td>\n",
       "</tr>\n",
       "<tr>\n",
       "<td>PG0104-C</td>\n",
       "<td>ERS016789</td>\n",
       "<td>1043</td>\n",
       "<td>7G8xGB4 cross progeny</td>\n",
       "<td>KB8</td>\n",
       "<td>progeny</td>\n",
       "</tr>\n",
       "<tr>\n",
       "<td>PG0104-CW</td>\n",
       "<td>ERS035323</td>\n",
       "<td>1043</td>\n",
       "<td>7G8xGB4 cross progeny</td>\n",
       "<td>KB8</td>\n",
       "<td>progeny</td>\n",
       "</tr>\n",
       "<tr>\n",
       "<td>PG0086-C</td>\n",
       "<td>ERS016321</td>\n",
       "<td>1043</td>\n",
       "<td>7G8xGB4 cross progeny</td>\n",
       "<td>LA10</td>\n",
       "<td>progeny</td>\n",
       "</tr>\n",
       "<tr>\n",
       "<td>PG0086-CW</td>\n",
       "<td>ERS035475</td>\n",
       "<td>1043</td>\n",
       "<td>7G8xGB4 cross progeny</td>\n",
       "<td>LA10</td>\n",
       "<td>progeny</td>\n",
       "</tr>\n",
       "<tr>\n",
       "<td>PG0095-C</td>\n",
       "<td>ERS016694</td>\n",
       "<td>1043</td>\n",
       "<td>7G8xGB4 cross progeny</td>\n",
       "<td>NIC</td>\n",
       "<td>progeny</td>\n",
       "</tr>\n",
       "<tr>\n",
       "<td>PG0095-CW</td>\n",
       "<td>ERS035495</td>\n",
       "<td>1043</td>\n",
       "<td>7G8xGB4 cross progeny</td>\n",
       "<td>NIC</td>\n",
       "<td>progeny</td>\n",
       "</tr>\n",
       "<tr>\n",
       "<td>PG0078-C</td>\n",
       "<td>ERS016325</td>\n",
       "<td>1043</td>\n",
       "<td>7G8xGB4 cross progeny</td>\n",
       "<td>QF5</td>\n",
       "<td>progeny</td>\n",
       "</tr>\n",
       "<tr>\n",
       "<td>PG0078-CW</td>\n",
       "<td>ERS035293</td>\n",
       "<td>1043</td>\n",
       "<td>7G8xGB4 cross progeny</td>\n",
       "<td>QF5</td>\n",
       "<td>progeny</td>\n",
       "</tr>\n",
       "<tr>\n",
       "<td>PG0105-C</td>\n",
       "<td>ERS016790</td>\n",
       "<td>1043</td>\n",
       "<td>7G8xGB4 cross progeny</td>\n",
       "<td>XD8</td>\n",
       "<td>progeny</td>\n",
       "</tr>\n",
       "<tr>\n",
       "<td>PG0105-CW</td>\n",
       "<td>ERS035465</td>\n",
       "<td>1043</td>\n",
       "<td>7G8xGB4 cross progeny</td>\n",
       "<td>XD8</td>\n",
       "<td>progeny</td>\n",
       "</tr>\n",
       "<tr>\n",
       "<td>PG0102-C</td>\n",
       "<td>ERS016787</td>\n",
       "<td>1043</td>\n",
       "<td>7G8xGB4 cross progeny</td>\n",
       "<td>XF12</td>\n",
       "<td>progeny</td>\n",
       "</tr>\n",
       "<tr>\n",
       "<td>PG0102-CW</td>\n",
       "<td>ERS035537</td>\n",
       "<td>1043</td>\n",
       "<td>7G8xGB4 cross progeny</td>\n",
       "<td>XF12</td>\n",
       "<td>progeny</td>\n",
       "</tr>\n",
       "</tbody>\n",
       "</table>\n"
      ]
     },
     "metadata": {},
     "output_type": "display_data"
    }
   ],
   "source": [
    "tbl_release5_crosses_metadata.duplicates('clone').displayall()"
   ]
  },
  {
   "cell_type": "code",
   "execution_count": 67,
   "metadata": {
    "collapsed": false
   },
   "outputs": [],
   "source": [
    "def create_variants_npy(vcf_fn):\n",
    "    output_dir = '%s.vcfnp_cache' % vcf_fn\n",
    "    if not os.path.exists(output_dir):\n",
    "        os.makedirs(output_dir)\n",
    "    vcfnp.variants(\n",
    "        vcf_fn,\n",
    "        dtypes={\n",
    "            'REF':                      'a10',\n",
    "            'ALT':                      'a10',\n",
    "            'RegionType':               'a25',\n",
    "            'VariantType':              'a40',\n",
    "            'RU':                       'a40',\n",
    "            'set':                      'a40',\n",
    "            'SNPEFF_AMINO_ACID_CHANGE': 'a20',\n",
    "            'SNPEFF_CODON_CHANGE':      'a20',\n",
    "            'SNPEFF_EFFECT':            'a33',\n",
    "            'SNPEFF_EXON_ID':            'a2',\n",
    "            'SNPEFF_FUNCTIONAL_CLASS':   'a8',\n",
    "            'SNPEFF_GENE_BIOTYPE':      'a14',\n",
    "            'SNPEFF_GENE_NAME':         'a20',\n",
    "            'SNPEFF_IMPACT':             'a8',\n",
    "            'SNPEFF_TRANSCRIPT_ID':     'a20',\n",
    "            'culprit':                  'a14',\n",
    "        },\n",
    "        arities={\n",
    "            'ALT':   1,\n",
    "            'AF':    1,\n",
    "            'AC':    1,\n",
    "            'MLEAF': 1,\n",
    "            'MLEAC': 1,\n",
    "            'RPA':   2,\n",
    "            'ANN':   1,\n",
    "        },\n",
    "        fills={\n",
    "            'VQSLOD': np.nan,\n",
    "            'QD': np.nan,\n",
    "            'MQ': np.nan,\n",
    "            'MQRankSum': np.nan,\n",
    "            'ReadPosRankSum': np.nan,\n",
    "            'FS': np.nan,\n",
    "            'SOR': np.nan,\n",
    "            'DP': np.nan,\n",
    "        },\n",
    "        flatten_filter=True,\n",
    "        verbose=False,\n",
    "        cache=True,\n",
    "        cachedir=output_dir\n",
    "    )\n",
    "\n",
    "def create_calldata_npy(vcf_fn, max_alleles=2):\n",
    "    output_dir = '%s.vcfnp_cache' % vcf_fn\n",
    "    if not os.path.exists(output_dir):\n",
    "        os.makedirs(output_dir)\n",
    "    vcfnp.calldata_2d(\n",
    "        vcf_fn,\n",
    "        fields=['GT', 'AD'],\n",
    "        dtypes={\n",
    "            'AD': 'u2',\n",
    "        },\n",
    "        arities={\n",
    "            'AD': max_alleles,\n",
    "        },\n",
    "        verbose=False,\n",
    "        cache=True,\n",
    "        cachedir=output_dir\n",
    "    )\n"
   ]
  },
  {
   "cell_type": "code",
   "execution_count": 132,
   "metadata": {
    "collapsed": true
   },
   "outputs": [],
   "source": [
    "def create_analysis_vcf(input_vcf_fn=chrom_vcf_fn, output_vcf_fn=chrom_analysis_vcf_fn,\n",
    "                        region='Pf3D7_14_v3:1000000-2000000', BCFTOOLS=BCFTOOLS, rewrite=False):\n",
    "    intermediate_fns = collections.OrderedDict()\n",
    "    for intermediate_file in ['biallelic', 'regenotyped', 'new_af', 'nonref', 'pass', 'minimal', 'analysis', 'SNP', 'INDEL',\n",
    "                             'SNP_BIALLELIC', 'SNP_MULTIALLELIC', 'SNP_MIXED', 'INDEL_BIALLELIC', 'INDEL_MULTIALLELIC']:\n",
    "        intermediate_fns[intermediate_file] = output_vcf_fn.replace('analysis', intermediate_file)\n",
    "\n",
    "#     if not os.path.exists(subset_vcf_fn):\n",
    "#         !{BCFTOOLS} view -Oz -o {subset_vcf_fn} -s {validation_samples} {chrom_vcf_fn}\n",
    "#         !{BCFTOOLS} index --tbi {subset_vcf_fn}\n",
    "\n",
    "    if rewrite or not os.path.exists(intermediate_fns['biallelic']):\n",
    "        if region is not None:\n",
    "            !{BCFTOOLS} annotate --regions {region} --remove FORMAT/DP,FORMAT/GQ,FORMAT/PGT,FORMAT/PID,FORMAT/PL {input_vcf_fn} | \\\n",
    "            {BCFTOOLS} norm -m -any -Oz -o {intermediate_fns['biallelic']}\n",
    "        else:\n",
    "            !{BCFTOOLS} annotate --remove FORMAT/DP,FORMAT/GQ,FORMAT/PGT,FORMAT/PID,FORMAT/PL {input_vcf_fn} | \\\n",
    "            {BCFTOOLS} norm -m -any -Oz -o {intermediate_fns['biallelic']}\n",
    "        !{BCFTOOLS} index --tbi {intermediate_fns['biallelic']}\n",
    "\n",
    "    if rewrite or not os.path.exists(intermediate_fns['regenotyped']):\n",
    "        !/nfs/team112/software/htslib/vfp/vfp_tool {intermediate_fns['biallelic']} /nfs/team112/software/htslib/vfp/just_call.config | \\\n",
    "        bgzip -c > {intermediate_fns['regenotyped']}\n",
    "        !{BCFTOOLS} index --tbi {intermediate_fns['regenotyped']}\n",
    "\n",
    "    if rewrite or not os.path.exists(intermediate_fns['new_af']):\n",
    "        !{BCFTOOLS} view --samples {all_samples} -Oz -o {intermediate_fns['new_af']} {intermediate_fns['regenotyped']}\n",
    "        !{BCFTOOLS} index --tbi {intermediate_fns['new_af']}\n",
    "\n",
    "    if rewrite or not os.path.exists(intermediate_fns['nonref']):\n",
    "        !{BCFTOOLS} view --include 'AC>0 && ALT!=\"*\"' -Oz -o {intermediate_fns['nonref']} {intermediate_fns['new_af']}\n",
    "        !{BCFTOOLS} index --tbi {intermediate_fns['nonref']}\n",
    "\n",
    "    if rewrite or not os.path.exists(intermediate_fns['pass']):\n",
    "        !{BCFTOOLS} view -f PASS -Oz -o {intermediate_fns['pass']} {intermediate_fns['nonref']}\n",
    "        !{BCFTOOLS} index --tbi {intermediate_fns['pass']}\n",
    "\n",
    "    if rewrite or not os.path.exists(intermediate_fns['minimal']):\n",
    "        !{BCFTOOLS} annotate --remove INFO/AF,INFO/BaseQRankSum,INFO/ClippingRankSum,INFO/DP,INFO/DS,INFO/END,INFO/FS,\\\n",
    "INFO/GC,INFO/HaplotypeScore,INFO/InbreedingCoeff,INFO/MLEAC,INFO/MLEAF,INFO/MQ,INFO/MQRankSum,INFO/NEGATIVE_TRAIN_SITE,\\\n",
    "INFO/POSITIVE_TRAIN_SITE,INFO/QD,INFO/ReadPosRankSum,INFO/RegionType,INFO/RPA,INFO/RU,INFO/SNPEFF_AMINO_ACID_CHANGE,\\\n",
    "INFO/SNPEFF_CODON_CHANGE,INFO/SNPEFF_EXON_ID,INFO/SNPEFF_FUNCTIONAL_CLASS,INFO/SNPEFF_GENE_BIOTYPE,\\\n",
    "INFO/SNPEFF_GENE_NAME,INFO/SNPEFF_IMPACT,INFO/SNPEFF_TRANSCRIPT_ID,INFO/SOR,INFO/culprit,INFO/set, \\\n",
    "-Oz -o {intermediate_fns['minimal']} \\\n",
    "{intermediate_fns['pass']}\n",
    "        !{BCFTOOLS} index --tbi {intermediate_fns['minimal']}\n",
    "\n",
    "    if rewrite or not os.path.exists(intermediate_fns['analysis']):\n",
    "        !{BCFTOOLS} norm --fasta-ref {GENOME_FN} -Oz -o {intermediate_fns['analysis']} {intermediate_fns['minimal']}\n",
    "        !{BCFTOOLS} index --tbi {intermediate_fns['analysis']}\n",
    "        \n",
    "    if rewrite or not os.path.exists(intermediate_fns['SNP']):\n",
    "        !{BCFTOOLS} view --include 'TYPE=\"snp\"' -Oz -o {intermediate_fns['SNP']} {intermediate_fns['analysis']}\n",
    "        !{BCFTOOLS} index --tbi {intermediate_fns['SNP']}\n",
    "\n",
    "    if rewrite or not os.path.exists(intermediate_fns['SNP_BIALLELIC']):\n",
    "        !{BCFTOOLS} view --include 'TYPE=\"snp\" && VariantType=\"SNP\"' -Oz -o {intermediate_fns['SNP_BIALLELIC']} {intermediate_fns['analysis']}\n",
    "        !{BCFTOOLS} index --tbi {intermediate_fns['SNP_BIALLELIC']}\n",
    "\n",
    "    if rewrite or not os.path.exists(intermediate_fns['SNP_MULTIALLELIC']):\n",
    "        !{BCFTOOLS} view --include 'TYPE=\"snp\" && VariantType=\"MULTIALLELIC_SNP\"' -Oz -o {intermediate_fns['SNP_MULTIALLELIC']} {intermediate_fns['analysis']}\n",
    "        !{BCFTOOLS} index --tbi {intermediate_fns['SNP_MULTIALLELIC']}\n",
    "\n",
    "    if rewrite or not os.path.exists(intermediate_fns['SNP_MIXED']):\n",
    "        !{BCFTOOLS} view --include 'TYPE=\"snp\" && VariantType!=\"SNP\" && VariantType!=\"MULTIALLELIC_SNP\"' -Oz -o {intermediate_fns['SNP_MIXED']} {intermediate_fns['analysis']}\n",
    "        !{BCFTOOLS} index --tbi {intermediate_fns['SNP_MIXED']}\n",
    "\n",
    "    if rewrite or not os.path.exists(intermediate_fns['INDEL']):\n",
    "        !{BCFTOOLS} view --exclude 'TYPE=\"snp\"' -Oz -o {intermediate_fns['INDEL']} {intermediate_fns['analysis']}\n",
    "        !{BCFTOOLS} index --tbi {intermediate_fns['INDEL']}\n",
    "\n",
    "    if rewrite or not os.path.exists(intermediate_fns['INDEL_BIALLELIC']):\n",
    "        !{BCFTOOLS} view --include 'TYPE!=\"snp\" && VariantType!~\"^MULTIALLELIC\"' -Oz -o {intermediate_fns['INDEL_BIALLELIC']} {intermediate_fns['analysis']}\n",
    "        !{BCFTOOLS} index --tbi {intermediate_fns['INDEL_BIALLELIC']}\n",
    "\n",
    "    if rewrite or not os.path.exists(intermediate_fns['INDEL_MULTIALLELIC']):\n",
    "        !{BCFTOOLS} view --include 'TYPE!=\"snp\" && VariantType~\"^MULTIALLELIC\"' -Oz -o {intermediate_fns['INDEL_MULTIALLELIC']} {intermediate_fns['analysis']}\n",
    "        !{BCFTOOLS} index --tbi {intermediate_fns['INDEL_MULTIALLELIC']}\n",
    "        \n",
    "    for variant_type in ['SNP_BIALLELIC', 'SNP_MULTIALLELIC', 'SNP_MIXED', 'INDEL_BIALLELIC', 'INDEL_MULTIALLELIC']:\n",
    "        if rewrite or not os.path.exists(\"%s/.vcfnp_cache/variants.npy\" % intermediate_fns[variant_type]):\n",
    "            create_variants_npy(intermediate_fns[variant_type])\n",
    "        if rewrite or not os.path.exists(\"%s/.vcfnp_cache/calldata_2d.npy\" % intermediate_fns[variant_type]):\n",
    "            create_calldata_npy(intermediate_fns[variant_type])\n",
    "        \n",
    "\n"
   ]
  },
  {
   "cell_type": "code",
   "execution_count": 143,
   "metadata": {
    "collapsed": false
   },
   "outputs": [
    {
     "name": "stdout",
     "output_type": "stream",
     "text": [
      "Lines   total/split/realigned/skipped:\t500801/177813/0/0\n",
      "Lines   total/split/realigned/skipped:\t40984/0/25636/0\n"
     ]
    }
   ],
   "source": [
    "create_analysis_vcf(region='Pf3D7_14_v3', rewrite=True)"
   ]
  },
  {
   "cell_type": "code",
   "execution_count": null,
   "metadata": {
    "collapsed": true
   },
   "outputs": [],
   "source": []
  },
  {
   "cell_type": "code",
   "execution_count": 144,
   "metadata": {
    "collapsed": false
   },
   "outputs": [],
   "source": [
    "variants_SNP_BIALLELIC = np.load(\"%s.vcfnp_cache/variants.npy\" % chrom_analysis_vcf_fn.replace('analysis', 'SNP_BIALLELIC'))\n",
    "calldata_SNP_BIALLELIC = np.load(\"%s.vcfnp_cache/calldata_2d.npy\" % chrom_analysis_vcf_fn.replace('analysis', 'SNP_BIALLELIC'))\n"
   ]
  },
  {
   "cell_type": "code",
   "execution_count": 145,
   "metadata": {
    "collapsed": false
   },
   "outputs": [
    {
     "data": {
      "text/plain": [
       "(array([b'', b'INTERGENIC', b'INTRAGENIC', b'INTRON',\n",
       "        b'NON_SYNONYMOUS_CODING', b'START_LOST', b'STOP_GAINED',\n",
       "        b'STOP_LOST', b'SYNONYMOUS_CODING', b'SYNONYMOUS_STOP'], \n",
       "       dtype='|S33'),\n",
       " array([   3, 1256,   52,  207, 1082,    1,    3,    1,  440,    1]))"
      ]
     },
     "execution_count": 145,
     "metadata": {},
     "output_type": "execute_result"
    }
   ],
   "source": [
    "np.unique(variants_SNP_BIALLELIC['SNPEFF_EFFECT'], return_counts=True)"
   ]
  },
  {
   "cell_type": "code",
   "execution_count": 146,
   "metadata": {
    "collapsed": false
   },
   "outputs": [
    {
     "data": {
      "text/plain": [
       "(array([b'.', b'0', b'0/1', b'1'], \n",
       "       dtype='|S3'), array([  1533, 196926,   4788,  95261]))"
      ]
     },
     "execution_count": 146,
     "metadata": {},
     "output_type": "execute_result"
    }
   ],
   "source": [
    "np.unique(calldata_SNP_BIALLELIC['GT'], return_counts=True)"
   ]
  },
  {
   "cell_type": "code",
   "execution_count": 147,
   "metadata": {
    "collapsed": false
   },
   "outputs": [
    {
     "name": "stdout",
     "output_type": "stream",
     "text": [
      "98\n"
     ]
    }
   ],
   "source": [
    "hets_per_sample = np.sum(calldata_SNP_BIALLELIC['GT'] == b'0/1', 0)\n",
    "print(len(hets_per_sample))"
   ]
  },
  {
   "cell_type": "code",
   "execution_count": 148,
   "metadata": {
    "collapsed": false
   },
   "outputs": [
    {
     "data": {
      "text/plain": [
       "array([ 31,  27,  20,  10,  16, 228,  23, 126,  36,  28,  18,   8,  24,\n",
       "       519,  31,  22,  32,  47,  26,  27,  16,  21, 803,  42,  31, 455,\n",
       "         5,  30,  15,  18,  33,  39,   7,  29,  16,  17,  23,   2,  15,\n",
       "        18,  19,   5, 189,   6,   4,  13,   6,   4,  15,  24,  20,  17,\n",
       "         8,   1,  20,  16,   8,   5,  11,   9,  59,  36,  29, 356,  20,\n",
       "        37,  13,  17,  66,  14,  47,  25,  39,  20,  51,  27,  16,  10,\n",
       "        36,  15,  23,  43,   9,   9,  41,  28,  52,   8,  22,  17,  14,\n",
       "        27,  21,  55,  66,  24,  41,  21])"
      ]
     },
     "execution_count": 148,
     "metadata": {},
     "output_type": "execute_result"
    }
   ],
   "source": [
    "hets_per_sample"
   ]
  },
  {
   "cell_type": "code",
   "execution_count": 154,
   "metadata": {
    "collapsed": true
   },
   "outputs": [],
   "source": [
    "def genotype_concordance(calldata=calldata_SNP_BIALLELIC['GT'], rep_index_first=rep_index_first,\n",
    "                         rep_index_second=rep_index_second):\n",
    "    calldata_both = (np.in1d(calldata[:, rep_index_first], [b'0', b'1']) &\n",
    "                     np.in1d(calldata[:, rep_index_second], [b'0', b'1'])\n",
    "                    )\n",
    "    calldata_both = (\n",
    "        ((calldata[:, rep_index_first] == b'0') | (calldata[:, rep_index_first] == b'1')) &\n",
    "        ((calldata[:, rep_index_second] == b'0') | (calldata[:, rep_index_second] == b'1'))\n",
    "    )\n",
    "    calldata_discordant = (\n",
    "        ((calldata[:, rep_index_first] == b'0') & (calldata[:, rep_index_second] == b'1')) |\n",
    "        ((calldata[:, rep_index_first] == b'1') & (calldata[:, rep_index_second] == b'0'))\n",
    "    )\n",
    "#     print(calldata_both.shape)\n",
    "#     print(calldata_discordant.shape)\n",
    "    num_discordance_per_sample_pair = np.sum(calldata_discordant, 0)\n",
    "    num_both_calls_per_sample_pair = np.sum(calldata_both, 0)\n",
    "    print(num_discordance_per_sample_pair)\n",
    "    print(num_both_calls_per_sample_pair)\n",
    "    prop_discordances_per_sample_pair = num_discordance_per_sample_pair/num_both_calls_per_sample_pair\n",
    "    num_discordance_per_snp = np.sum(calldata_discordant, 1)\n",
    "#     print(num_discordance_per_snp)\n",
    "#     print(variants_SNP_BIALLELIC[num_discordance_per_snp > 0])\n",
    "    print(np.sum(num_discordance_per_sample_pair) / np.sum(num_both_calls_per_sample_pair))\n",
    "    return(\n",
    "        np.sum(num_discordance_per_sample_pair) / np.sum(num_both_calls_per_sample_pair),\n",
    "        prop_discordances_per_sample_pair\n",
    "    )\n",
    "    "
   ]
  },
  {
   "cell_type": "code",
   "execution_count": 155,
   "metadata": {
    "collapsed": false
   },
   "outputs": [
    {
     "name": "stdout",
     "output_type": "stream",
     "text": [
      "SNP_BIALLELIC\n",
      "[7 8 1 1 1 2 0 2 7 6 8 4 4 3 8 0 3 2]\n",
      "[2986 3011 2849 3029 3034 2849 2855 3032 2995 2990 2988 2968 2997 2988 2936\n",
      " 2982 2972 2989]\n",
      "0.00125350795136\n",
      "SNP_BIALLELIC 0.00125350795136\n",
      "SNP_MULTIALLELIC\n",
      "[17 11  0  1  1  0  1  2 17 14 12  7 16 20 21 12  8 10]\n",
      "[1705 1732 1936 2010 2002 1941 1930 2010 1669 1676 1692 1678 1681 1684 1608\n",
      " 1684 1718 1709]\n",
      "0.00530173085919\n",
      "SNP_MULTIALLELIC 0.00530173085919\n",
      "SNP_MIXED\n",
      "[31 33  1  1  0  3  2  1 38 26 53 32 30 43 36 41 29 27]\n",
      "[2394 2459 2921 3035 3003 2957 2934 3033 2353 2372 2376 2395 2356 2367 2260\n",
      " 2428 2427 2341]\n",
      "0.00920040507638\n",
      "SNP_MIXED 0.00920040507638\n",
      "INDEL_BIALLELIC\n",
      "[3 2 1 1 0 0 1 1 2 3 5 1 4 2 1 3 1 2]\n",
      "[547 580 588 600 598 586 586 596 565 539 557 531 545 545 502 542 551 532]\n",
      "0.00327056491576\n",
      "INDEL_BIALLELIC 0.00327056491576\n",
      "INDEL_MULTIALLELIC\n",
      "[160  79  17  18  14  12  11  14 143 120 214 160 171 170 190 143 139 138]\n",
      "[15096 18139 26488 28141 27885 26448 26413 27835 16580 14713 15701 14640\n",
      " 15425 15406 14697 14953 14678 14872]\n",
      "0.00549538938841\n",
      "INDEL_MULTIALLELIC 0.00549538938841\n"
     ]
    }
   ],
   "source": [
    "for variant_type in ['SNP_BIALLELIC', 'SNP_MULTIALLELIC', 'SNP_MIXED', 'INDEL_BIALLELIC', 'INDEL_MULTIALLELIC']:\n",
    "    variants = np.load(\"%s.vcfnp_cache/variants.npy\" % chrom_analysis_vcf_fn.replace('analysis', variant_type))\n",
    "    calldata = np.load(\"%s.vcfnp_cache/calldata_2d.npy\" % chrom_analysis_vcf_fn.replace('analysis', variant_type))\n",
    "    print(variant_type)\n",
    "    mean_discordance, _ = genotype_concordance(calldata['GT'])\n",
    "    print(variant_type, mean_discordance)"
   ]
  },
  {
   "cell_type": "code",
   "execution_count": 152,
   "metadata": {
    "collapsed": false
   },
   "outputs": [
    {
     "name": "stdout",
     "output_type": "stream",
     "text": [
      "[7 8 1 1 1 2 0 2 7 6 8 4 4 3 8 0 3 2]\n",
      "[2986 3011 2849 3029 3034 2849 2855 3032 2995 2990 2988 2968 2997 2988 2936\n",
      " 2982 2972 2989]\n",
      "0.00125350795136\n"
     ]
    },
    {
     "data": {
      "text/plain": [
       "array([ 0.00234427,  0.00265692,  0.000351  ,  0.00033014,  0.0003296 ,\n",
       "        0.000702  ,  0.        ,  0.00065963,  0.00233723,  0.00200669,\n",
       "        0.00267738,  0.00134771,  0.00133467,  0.00100402,  0.0027248 ,\n",
       "        0.        ,  0.00100942,  0.00066912])"
      ]
     },
     "execution_count": 152,
     "metadata": {},
     "output_type": "execute_result"
    }
   ],
   "source": [
    "genotype_concordance()"
   ]
  },
  {
   "cell_type": "code",
   "execution_count": 115,
   "metadata": {
    "collapsed": false
   },
   "outputs": [
    {
     "data": {
      "text/plain": [
       "array([[(b'1', [1, 39]), (b'0', [42, 0]), (b'0', [30, 0]), ...,\n",
       "        (b'0', [81, 0]), (b'0', [39, 0]), (b'0', [68, 0])],\n",
       "       [(b'1', [0, 101]), (b'0', [73, 0]), (b'0', [41, 0]), ...,\n",
       "        (b'0', [121, 0]), (b'0', [66, 0]), (b'0', [97, 0])],\n",
       "       [(b'0', [135, 0]), (b'0', [90, 0]), (b'0', [69, 0]), ...,\n",
       "        (b'0', [120, 0]), (b'0', [119, 0]), (b'0', [135, 0])],\n",
       "       ..., \n",
       "       [(b'0', [67, 0]), (b'0', [60, 0]), (b'0', [37, 0]), ...,\n",
       "        (b'0', [76, 0]), (b'0', [55, 0]), (b'0', [73, 0])],\n",
       "       [(b'0', [67, 0]), (b'0', [60, 0]), (b'0', [37, 0]), ...,\n",
       "        (b'1', [0, 169]), (b'1', [0, 180]), (b'1', [0, 203])],\n",
       "       [(b'0', [67, 0]), (b'0', [60, 0]), (b'0', [37, 0]), ...,\n",
       "        (b'1', [0, 88]), (b'1', [1, 83]), (b'1', [1, 103])]], \n",
       "      dtype=[('GT', 'S3'), ('AD', '<u2', (2,))])"
      ]
     },
     "execution_count": 115,
     "metadata": {},
     "output_type": "execute_result"
    }
   ],
   "source": [
    "calldata_SNP_BIALLELIC[:, rep_index_first]"
   ]
  },
  {
   "cell_type": "code",
   "execution_count": 37,
   "metadata": {
    "collapsed": true
   },
   "outputs": [],
   "source": [
    "variants_crosses = np.load('/nfs/team112_internal/production/release_build/Pf3K/pilot_5_0/SNP_INDEL_WG.combined.filtered.crosses.vcf.gz.vcfnp_cache/variants.npy')"
   ]
  },
  {
   "cell_type": "code",
   "execution_count": 39,
   "metadata": {
    "collapsed": false
   },
   "outputs": [
    {
     "data": {
      "text/plain": [
       "('CHROM',\n",
       " 'POS',\n",
       " 'ID',\n",
       " 'REF',\n",
       " 'ALT',\n",
       " 'QUAL',\n",
       " 'FILTER_Centromere',\n",
       " 'FILTER_InternalHypervariable',\n",
       " 'FILTER_LowQual',\n",
       " 'FILTER_Low_VQSLOD',\n",
       " 'FILTER_PASS',\n",
       " 'FILTER_SubtelomericHypervariable',\n",
       " 'FILTER_SubtelomericRepeat',\n",
       " 'FILTER_VQSRTrancheINDEL99.00to99.90',\n",
       " 'FILTER_VQSRTrancheINDEL99.90to100.00',\n",
       " 'FILTER_VQSRTrancheINDEL99.90to100.00+',\n",
       " 'FILTER_VQSRTrancheSNP99.90to100.00',\n",
       " 'FILTER_VQSRTrancheSNP99.90to100.00+',\n",
       " 'num_alleles',\n",
       " 'is_snp',\n",
       " 'svlen',\n",
       " 'AC',\n",
       " 'AF',\n",
       " 'AN',\n",
       " 'BaseQRankSum',\n",
       " 'ClippingRankSum',\n",
       " 'DP',\n",
       " 'DS',\n",
       " 'END',\n",
       " 'FS',\n",
       " 'GC',\n",
       " 'HaplotypeScore',\n",
       " 'InbreedingCoeff',\n",
       " 'MLEAC',\n",
       " 'MLEAF',\n",
       " 'MQ',\n",
       " 'MQRankSum',\n",
       " 'NEGATIVE_TRAIN_SITE',\n",
       " 'POSITIVE_TRAIN_SITE',\n",
       " 'QD',\n",
       " 'RPA',\n",
       " 'RU',\n",
       " 'ReadPosRankSum',\n",
       " 'RegionType',\n",
       " 'SNPEFF_AMINO_ACID_CHANGE',\n",
       " 'SNPEFF_CODON_CHANGE',\n",
       " 'SNPEFF_EFFECT',\n",
       " 'SNPEFF_EXON_ID',\n",
       " 'SNPEFF_FUNCTIONAL_CLASS',\n",
       " 'SNPEFF_GENE_BIOTYPE',\n",
       " 'SNPEFF_GENE_NAME',\n",
       " 'SNPEFF_IMPACT',\n",
       " 'SNPEFF_TRANSCRIPT_ID',\n",
       " 'SOR',\n",
       " 'STR',\n",
       " 'VQSLOD',\n",
       " 'VariantType',\n",
       " 'culprit',\n",
       " 'set')"
      ]
     },
     "execution_count": 39,
     "metadata": {},
     "output_type": "execute_result"
    }
   ],
   "source": [
    "variants_crosses.dtype.names"
   ]
  },
  {
   "cell_type": "code",
   "execution_count": 40,
   "metadata": {
    "collapsed": false
   },
   "outputs": [
    {
     "data": {
      "text/plain": [
       "array([b'DELETION.NOVEL_10orMore',\n",
       "       b'DELETION.NumRepetitions_1.EventLength_1.',\n",
       "       b'DELETION.NumRepetitions_1.EventLength_2.',\n",
       "       b'DELETION.NumRepetitions_1.EventLength_3',\n",
       "       b'DELETION.NumRepetitions_1.EventLength_4',\n",
       "       b'DELETION.NumRepetitions_1.EventLength_5',\n",
       "       b'DELETION.NumRepetitions_1.EventLength_6',\n",
       "       b'DELETION.NumRepetitions_1.EventLength_7',\n",
       "       b'DELETION.NumRepetitions_1.EventLength_8',\n",
       "       b'DELETION.NumRepetitions_1.EventLength_9',\n",
       "       b'DELETION.NumRepetitions_2.EventLength_1.',\n",
       "       b'DELETION.NumRepetitions_2.EventLength_2.',\n",
       "       b'DELETION.NumRepetitions_2.EventLength_3',\n",
       "       b'DELETION.NumRepetitions_2.EventLength_4',\n",
       "       b'DELETION.NumRepetitions_3.EventLength_1.',\n",
       "       b'DELETION.NumRepetitions_3.EventLength_2.',\n",
       "       b'DELETION.NumRepetitions_3.EventLength_3',\n",
       "       b'DELETION.NumRepetitions_4.EventLength_1.',\n",
       "       b'DELETION.NumRepetitions_4.EventLength_2.',\n",
       "       b'DELETION.NumRepetitions_5.EventLength_1.',\n",
       "       b'DELETION.NumRepetitions_6.EventLength_1.',\n",
       "       b'DELETION.NumRepetitions_7.EventLength_1.',\n",
       "       b'DELETION.NumRepetitions_8.EventLength_1.',\n",
       "       b'DELETION.NumRepetitions_9.EventLength_1.',\n",
       "       b'INSERTION.NOVEL_1.Novel_A', b'INSERTION.NOVEL_1.Novel_C',\n",
       "       b'INSERTION.NOVEL_1.Novel_G', b'INSERTION.NOVEL_1.Novel_T',\n",
       "       b'INSERTION.NOVEL_10orMore', b'INSERTION.NOVEL_2',\n",
       "       b'INSERTION.NOVEL_3', b'INSERTION.NOVEL_4', b'INSERTION.NOVEL_5',\n",
       "       b'INSERTION.NOVEL_6', b'INSERTION.NOVEL_7', b'INSERTION.NOVEL_8',\n",
       "       b'INSERTION.NOVEL_9', b'INSERTION.NumRepetitions_1.EventLength_1',\n",
       "       b'INSERTION.NumRepetitions_1.EventLength_2',\n",
       "       b'INSERTION.NumRepetitions_1.EventLength_3',\n",
       "       b'INSERTION.NumRepetitions_1.EventLength_4',\n",
       "       b'INSERTION.NumRepetitions_1.EventLength_5',\n",
       "       b'INSERTION.NumRepetitions_1.EventLength_6',\n",
       "       b'INSERTION.NumRepetitions_1.EventLength_7',\n",
       "       b'INSERTION.NumRepetitions_1.EventLength_8',\n",
       "       b'INSERTION.NumRepetitions_1.EventLength_9',\n",
       "       b'INSERTION.NumRepetitions_2.EventLength_1',\n",
       "       b'INSERTION.NumRepetitions_2.EventLength_2',\n",
       "       b'INSERTION.NumRepetitions_2.EventLength_3',\n",
       "       b'INSERTION.NumRepetitions_2.EventLength_4',\n",
       "       b'INSERTION.NumRepetitions_3.EventLength_1',\n",
       "       b'INSERTION.NumRepetitions_3.EventLength_2',\n",
       "       b'INSERTION.NumRepetitions_3.EventLength_3',\n",
       "       b'INSERTION.NumRepetitions_4.EventLength_1',\n",
       "       b'INSERTION.NumRepetitions_4.EventLength_2',\n",
       "       b'INSERTION.NumRepetitions_5.EventLength_1',\n",
       "       b'INSERTION.NumRepetitions_6.EventLength_1',\n",
       "       b'INSERTION.NumRepetitions_7.EventLength_1',\n",
       "       b'INSERTION.NumRepetitions_8.EventLength_1',\n",
       "       b'INSERTION.NumRepetitions_9.EventLength_1',\n",
       "       b'MULTIALLELIC_COMPLEX.Other', b'MULTIALLELIC_MIXED',\n",
       "       b'MULTIALLELIC_SNP', b'SNP'], \n",
       "      dtype='|S40')"
      ]
     },
     "execution_count": 40,
     "metadata": {},
     "output_type": "execute_result"
    }
   ],
   "source": [
    "np.unique(variants_crosses['VariantType'])"
   ]
  },
  {
   "cell_type": "code",
   "execution_count": 44,
   "metadata": {
    "collapsed": false
   },
   "outputs": [
    {
     "data": {
      "text/plain": [
       "325"
      ]
     },
     "execution_count": 44,
     "metadata": {},
     "output_type": "execute_result"
    }
   ],
   "source": [
    "del(variants_crosses)\n",
    "gc.collect()"
   ]
  },
  {
   "cell_type": "code",
   "execution_count": null,
   "metadata": {
    "collapsed": true
   },
   "outputs": [],
   "source": [
    "2+2"
   ]
  },
  {
   "cell_type": "code",
   "execution_count": null,
   "metadata": {
    "collapsed": true
   },
   "outputs": [],
   "source": []
  }
 ],
 "metadata": {
  "kernelspec": {
   "display_name": "Python 3",
   "language": "python",
   "name": "python3"
  },
  "language_info": {
   "codemirror_mode": {
    "name": "ipython",
    "version": 3
   },
   "file_extension": ".py",
   "mimetype": "text/x-python",
   "name": "python",
   "nbconvert_exporter": "python",
   "pygments_lexer": "ipython3",
   "version": "3.4.3"
  }
 },
 "nbformat": 4,
 "nbformat_minor": 0
}
