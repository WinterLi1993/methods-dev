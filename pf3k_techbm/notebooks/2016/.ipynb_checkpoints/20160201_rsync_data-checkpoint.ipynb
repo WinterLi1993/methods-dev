{
 "cells": [
  {
   "cell_type": "markdown",
   "metadata": {},
   "source": [
    "This notebook must be run directly from MacBook after running ~/bin/sanger-tunneling.sh in order to connect\n",
    "to Sanger network. I haven't figured out a way to do this from Docker container"
   ]
  },
  {
   "cell_type": "code",
   "execution_count": 1,
   "metadata": {
    "collapsed": false
   },
   "outputs": [],
   "source": [
    "%run imports_mac.ipynb\n",
    "%run _shared_setup.ipynb"
   ]
  },
  {
   "cell_type": "code",
   "execution_count": 4,
   "metadata": {
    "collapsed": false
   },
   "outputs": [
    {
     "name": "stdout",
     "output_type": "stream",
     "text": [
      "building file list ... done\n",
      "pf3k/\n",
      "pf3k/interim5/\n",
      "pf3k/interim5/sites/\n",
      "pf3k/interim5/sites/sites_only_vcfs/\n",
      "pf3k/interim5/sites/sites_only_vcfs/interim5_Pf3D7_01_v3_sites.vcf.gz\n",
      "pf3k/interim5/sites/sites_only_vcfs/interim5_Pf3D7_02_v3_sites.vcf.gz\n",
      "pf3k/interim5/sites/sites_only_vcfs/interim5_Pf3D7_03_v3_sites.vcf.gz\n",
      "pf3k/interim5/sites/sites_only_vcfs/interim5_Pf3D7_04_v3_sites.vcf.gz\n",
      "pf3k/interim5/sites/sites_only_vcfs/interim5_Pf3D7_05_v3_sites.vcf.gz\n",
      "pf3k/interim5/sites/sites_only_vcfs/interim5_Pf3D7_06_v3_sites.vcf.gz\n",
      "pf3k/interim5/sites/sites_only_vcfs/interim5_Pf3D7_07_v3_sites.vcf.gz\n",
      "pf3k/interim5/sites/sites_only_vcfs/interim5_Pf3D7_08_v3_sites.vcf.gz\n",
      "pf3k/interim5/sites/sites_only_vcfs/interim5_Pf3D7_09_v3_sites.vcf.gz\n",
      "pf3k/interim5/sites/sites_only_vcfs/interim5_Pf3D7_10_v3_sites.vcf.gz\n",
      "pf3k/interim5/sites/sites_only_vcfs/interim5_Pf3D7_11_v3_sites.vcf.gz\n",
      "pf3k/interim5/sites/sites_only_vcfs/interim5_Pf3D7_12_v3_sites.vcf.gz\n",
      "pf3k/interim5/sites/sites_only_vcfs/interim5_Pf3D7_13_v3_sites.vcf.gz\n",
      "pf3k/interim5/sites/sites_only_vcfs/interim5_Pf3D7_14_v3_sites.vcf.gz\n",
      "pf3k/interim5/sites/sites_only_vcfs/interim5_Pf3D7_API_v3_sites.vcf.gz\n",
      "pf3k/interim5/sites/sites_only_vcfs/interim5_Pf_M76611_sites.vcf.gz\n",
      "pf3k/interim5/sites/sites_only_vcfs/interim5_WG_gatkrec_sites.vcf.gz\n",
      "pf3k/interim5/sites/sites_only_vcfs/interim5_WG_gatkrec_sites.vcf.gz.tbi\n",
      "pf3k/interim5/sites/sites_only_vcfs/interim5_WG_sites.h5\n",
      "pf3k/interim5/sites/sites_only_vcfs/interim5_WG_sites.vcf.gz\n",
      "pf3k/interim5/sites/sites_only_vcfs/interim5_WG_sites.vcf.gz.tbi\n",
      "pf3k/interim5/sites/sites_only_vcfs/interim5_WG_stringent_sites.vcf.gz\n",
      "pf3k/interim5/sites/sites_only_vcfs/interim5_WG_stringent_sites.vcf.gz.tbi\n",
      "pf3k/interim5/sites/sites_only_vcfs/variants.npy\n",
      "Connection to localhost closed by remote host.\n",
      "rsync: writefd_unbuffered failed to write 32768 bytes [sender]: Broken pipe (32)\n",
      "rsync: connection unexpectedly closed (560 bytes received so far) [sender]\n",
      "rsync error: unexplained error (code 255) at /SourceCache/rsync/rsync-45/rsync/io.c(453) [sender=2.6.9]\n"
     ]
    }
   ],
   "source": [
    "!rsync -avL {DATA_DIR} malsrv2:{os.path.dirname(DATA_DIR)}"
   ]
  }
 ],
 "metadata": {
  "kernelspec": {
   "display_name": "Python 3",
   "language": "python",
   "name": "python3"
  },
  "language_info": {
   "codemirror_mode": {
    "name": "ipython",
    "version": 3
   },
   "file_extension": ".py",
   "mimetype": "text/x-python",
   "name": "python",
   "nbconvert_exporter": "python",
   "pygments_lexer": "ipython3",
   "version": "3.4.1"
  }
 },
 "nbformat": 4,
 "nbformat_minor": 0
}
