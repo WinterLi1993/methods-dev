{
 "cells": [
  {
   "cell_type": "markdown",
   "metadata": {},
   "source": [
    "This notebook must be run directly from MacBook after running ~/bin/sanger-tunneling.sh in order to connect\n",
    "to Sanger network. I haven't figured out a way to do this from Docker container"
   ]
  },
  {
   "cell_type": "code",
   "execution_count": 8,
   "metadata": {
    "collapsed": false
   },
   "outputs": [],
   "source": [
    "%run imports_mac.ipynb\n",
    "%run _shared_setup.ipynb"
   ]
  },
  {
   "cell_type": "code",
   "execution_count": 6,
   "metadata": {
    "collapsed": false
   },
   "outputs": [
    {
     "name": "stdout",
     "output_type": "stream",
     "text": [
      "receiving file list ... done\n",
      "pf3kgatk_variant_filtration_ps583for_2640samples.output\n",
      "\n",
      "sent 42 bytes  received 2569 bytes  1044.40 bytes/sec\n",
      "total size is 2393  speedup is 0.92\n"
     ]
    }
   ],
   "source": [
    "!mkdir -p {os.path.dirname(INTERIM5_VCF_FOFN)}\n",
    "!rsync -av malsrv2:{INTERIM5_VCF_FOFN} {os.path.dirname(INTERIM5_VCF_FOFN)}"
   ]
  },
  {
   "cell_type": "code",
   "execution_count": 11,
   "metadata": {
    "collapsed": false
   },
   "outputs": [
    {
     "name": "stdout",
     "output_type": "stream",
     "text": [
      "receiving file list ... done\n",
      "SNP_INDEL_Pf3D7_01_v3.combined.filtered.vcf.gz\n",
      "\n",
      "sent 42 bytes  received 2796153215 bytes  4020349.76 bytes/sec\n",
      "total size is 2795811756  speedup is 1.00\n",
      "receiving file list ... done\n",
      "SNP_INDEL_Pf3D7_02_v3.combined.filtered.vcf.gz\n",
      "\n",
      "sent 42 bytes  received 3286963350 bytes  4249467.86 bytes/sec\n",
      "total size is 3286561987  speedup is 1.00\n",
      "receiving file list ... done\n",
      "SNP_INDEL_Pf3D7_03_v3.combined.filtered.vcf.gz\n",
      "\n",
      "sent 42 bytes  received 3591379542 bytes  3231110.74 bytes/sec\n",
      "total size is 3590941023  speedup is 1.00\n",
      "receiving file list ... done\n",
      "SNP_INDEL_Pf3D7_04_v3.combined.filtered.vcf.gz\n",
      "\n",
      "sent 42 bytes  received 4801265326 bytes  3074777.69 bytes/sec\n",
      "total size is 4800679131  speedup is 1.00\n",
      "receiving file list ... done\n",
      "SNP_INDEL_Pf3D7_05_v3.combined.filtered.vcf.gz\n",
      "\n",
      "sent 42 bytes  received 3233132522 bytes  3294072.91 bytes/sec\n",
      "total size is 3232737727  speedup is 1.00\n",
      "receiving file list ... done\n",
      "SNP_INDEL_Pf3D7_06_v3.combined.filtered.vcf.gz\n",
      "\n",
      "sent 42 bytes  received 4230289727 bytes  3235403.27 bytes/sec\n",
      "total size is 4229773224  speedup is 1.00\n",
      "receiving file list ... done\n",
      "SNP_INDEL_Pf3D7_07_v3.combined.filtered.vcf.gz\n",
      "\n",
      "sent 42 bytes  received 5218395906 bytes  3546310.53 bytes/sec\n",
      "total size is 5217758799  speedup is 1.00\n",
      "receiving file list ... done\n",
      "SNP_INDEL_Pf3D7_08_v3.combined.filtered.vcf.gz\n",
      "\n",
      "sent 42 bytes  received 5110176842 bytes  3820693.00 bytes/sec\n",
      "total size is 5109552943  speedup is 1.00\n",
      "receiving file list ... done\n",
      "SNP_INDEL_Pf3D7_09_v3.combined.filtered.vcf.gz\n",
      "\n",
      "sent 42 bytes  received 5009800716 bytes  3930796.99 bytes/sec\n",
      "total size is 5009189069  speedup is 1.00\n",
      "receiving file list ... done\n",
      "SNP_INDEL_Pf3D7_10_v3.combined.filtered.vcf.gz\n",
      "\n",
      "sent 42 bytes  received 5390630581 bytes  3956426.15 bytes/sec\n",
      "total size is 5389972454  speedup is 1.00\n",
      "receiving file list ... done\n",
      "SNP_INDEL_Pf3D7_11_v3.combined.filtered.vcf.gz\n",
      "\n",
      "sent 42 bytes  received 5598209239 bytes  4003009.85 bytes/sec\n",
      "total size is 5597525776  speedup is 1.00\n",
      "receiving file list ... done\n",
      "SNP_INDEL_Pf3D7_12_v3.combined.filtered.vcf.gz\n",
      "\n",
      "sent 42 bytes  received 6918965190 bytes  3952565.11 bytes/sec\n",
      "total size is 6918120519  speedup is 1.00\n",
      "receiving file list ... done\n",
      "SNP_INDEL_Pf3D7_13_v3.combined.filtered.vcf.gz\n",
      "\n",
      "sent 42 bytes  received 7451308578 bytes  3992128.92 bytes/sec\n",
      "total size is 7450398931  speedup is 1.00\n",
      "receiving file list ... done\n",
      "SNP_INDEL_Pf3D7_14_v3.combined.filtered.vcf.gz\n",
      "\n",
      "sent 42 bytes  received 7823682528 bytes  4002907.43 bytes/sec\n",
      "total size is 7822727433  speedup is 1.00\n",
      "receiving file list ... done\n",
      "SNP_INDEL_Pf3D7_API_v3.combined.filtered.vcf.gz\n",
      "\n",
      "sent 42 bytes  received 48972374 bytes  3377408.00 bytes/sec\n",
      "total size is 48966230  speedup is 1.00\n",
      "receiving file list ... done\n",
      "SNP_INDEL_Pf_M76611.combined.filtered.vcf.gz\n",
      "\n",
      "sent 42 bytes  received 12648437 bytes  2299723.45 bytes/sec\n",
      "total size is 12646732  speedup is 1.00\n",
      "receiving file list ... done\n",
      "\n",
      "sent 20 bytes  received 121 bytes  94.00 bytes/sec\n",
      "total size is 1178151  speedup is 8355.68\n",
      "receiving file list ... done\n",
      "\n",
      "sent 20 bytes  received 121 bytes  94.00 bytes/sec\n",
      "total size is 1351874  speedup is 9587.76\n",
      "receiving file list ... done\n",
      "\n",
      "sent 20 bytes  received 121 bytes  94.00 bytes/sec\n",
      "total size is 1371573  speedup is 9727.47\n",
      "receiving file list ... done\n",
      "\n",
      "sent 20 bytes  received 121 bytes  94.00 bytes/sec\n",
      "total size is 2357941  speedup is 16722.99\n",
      "receiving file list ... done\n",
      "\n",
      "sent 20 bytes  received 121 bytes  94.00 bytes/sec\n",
      "total size is 1125418  speedup is 7981.69\n",
      "receiving file list ... done\n",
      "\n",
      "sent 20 bytes  received 121 bytes  94.00 bytes/sec\n",
      "total size is 1722780  speedup is 12218.30\n",
      "receiving file list ... done\n",
      "\n",
      "sent 20 bytes  received 121 bytes  56.40 bytes/sec\n",
      "total size is 2337239  speedup is 16576.16\n",
      "receiving file list ... done\n",
      "\n",
      "sent 20 bytes  received 121 bytes  94.00 bytes/sec\n",
      "total size is 2152183  speedup is 15263.71\n",
      "receiving file list ... done\n",
      "\n",
      "sent 20 bytes  received 121 bytes  56.40 bytes/sec\n",
      "total size is 1834480  speedup is 13010.50\n",
      "receiving file list ... done\n",
      "\n",
      "sent 20 bytes  received 121 bytes  94.00 bytes/sec\n",
      "total size is 1987127  speedup is 14093.10\n",
      "receiving file list ... done\n",
      "\n",
      "sent 20 bytes  received 121 bytes  94.00 bytes/sec\n",
      "total size is 2030462  speedup is 14400.44\n",
      "receiving file list ... done\n",
      "\n",
      "sent 20 bytes  received 121 bytes  56.40 bytes/sec\n",
      "total size is 2715997  speedup is 19262.39\n",
      "receiving file list ... done\n",
      "\n",
      "sent 20 bytes  received 121 bytes  94.00 bytes/sec\n",
      "total size is 2383780  speedup is 16906.24\n",
      "receiving file list ... done\n",
      "\n",
      "sent 20 bytes  received 121 bytes  94.00 bytes/sec\n",
      "total size is 2415019  speedup is 17127.79\n",
      "receiving file list ... done\n",
      "\n",
      "sent 20 bytes  received 122 bytes  56.80 bytes/sec\n",
      "total size is 10720  speedup is 75.49\n",
      "receiving file list ... done\n",
      "\n",
      "sent 20 bytes  received 119 bytes  55.60 bytes/sec\n",
      "total size is 8453  speedup is 60.81\n",
      "receiving file list ... done\n",
      "\n",
      "sent 20 bytes  received 129 bytes  99.33 bytes/sec\n",
      "total size is 2943572495  speedup is 19755520.10\n",
      "receiving file list ... done\n",
      "\n",
      "sent 20 bytes  received 129 bytes  99.33 bytes/sec\n",
      "total size is 3458239042  speedup is 23209658.00\n",
      "receiving file list ... done\n",
      "\n",
      "sent 20 bytes  received 129 bytes  59.60 bytes/sec\n",
      "total size is 3779541327  speedup is 25366049.17\n",
      "receiving file list ... done\n",
      "\n",
      "sent 20 bytes  received 129 bytes  99.33 bytes/sec\n",
      "total size is 5043079902  speedup is 33846173.84\n",
      "receiving file list ... done\n",
      "\n",
      "sent 20 bytes  received 129 bytes  59.60 bytes/sec\n",
      "total size is 3401081147  speedup is 22826047.97\n",
      "receiving file list ... done\n",
      "\n",
      "sent 20 bytes  received 129 bytes  59.60 bytes/sec\n",
      "total size is 4447702024  speedup is 29850349.15\n",
      "receiving file list ... done\n",
      "\n",
      "sent 20 bytes  received 129 bytes  59.60 bytes/sec\n",
      "total size is 5484279129  speedup is 36807242.48\n",
      "receiving file list ... done\n",
      "\n",
      "sent 20 bytes  received 129 bytes  59.60 bytes/sec\n",
      "total size is 5376105054  speedup is 36081241.97\n",
      "receiving file list ... done\n",
      "\n",
      "sent 20 bytes  received 129 bytes  99.33 bytes/sec\n",
      "total size is 5271439962  speedup is 35378791.69\n",
      "receiving file list ... done\n",
      "\n",
      "sent 20 bytes  received 129 bytes  59.60 bytes/sec\n",
      "total size is 5671521695  speedup is 38063903.99\n",
      "receiving file list ... done\n",
      "\n",
      "sent 20 bytes  received 129 bytes  59.60 bytes/sec\n",
      "total size is 5888855037  speedup is 39522517.03\n",
      "receiving file list ... done\n",
      "\n",
      "sent 20 bytes  received 129 bytes  99.33 bytes/sec\n",
      "total size is 7279664332  speedup is 48856807.60\n",
      "receiving file list ... done\n",
      "\n",
      "sent 20 bytes  received 129 bytes  59.60 bytes/sec\n",
      "total size is 7837511689  speedup is 52600749.59\n",
      "receiving file list ... done\n",
      "\n",
      "sent 20 bytes  received 129 bytes  59.60 bytes/sec\n",
      "total size is 8227526438  speedup is 55218298.24\n",
      "receiving file list ... done\n",
      "\n",
      "sent 20 bytes  received 122 bytes  94.67 bytes/sec\n",
      "total size is 51243299  speedup is 360868.30\n",
      "receiving file list ... done\n",
      "\n",
      "sent 20 bytes  received 119 bytes  55.60 bytes/sec\n",
      "total size is 13177906  speedup is 94805.08\n"
     ]
    }
   ],
   "source": [
    "for release in CHROM_VCF_FNS.keys():\n",
    "    for chrom in CHROM_VCF_FNS[release].keys():\n",
    "        vcf_fn = CHROM_VCF_FNS[release][chrom]\n",
    "        !mkdir -p {os.path.dirname(vcf_fn)}\n",
    "        !rsync -avL malsrv2:{vcf_fn} {os.path.dirname(vcf_fn)}"
   ]
  },
  {
   "cell_type": "code",
   "execution_count": 13,
   "metadata": {
    "collapsed": false
   },
   "outputs": [
    {
     "name": "stdout",
     "output_type": "stream",
     "text": [
      "receiving file list ... done\n",
      "all_merged_with_calls_vfp_v4.vcf.gz\n",
      "\n",
      "sent 42 bytes  received 13107556500 bytes  3833179.28 bytes/sec\n",
      "total size is 13105956488  speedup is 1.00\n"
     ]
    }
   ],
   "source": [
    "vcf_fn = WG_VCF_FNS['release3']\n",
    "!mkdir -p {os.path.dirname(vcf_fn)}\n",
    "!rsync -avL malsrv2:{vcf_fn} {os.path.dirname(vcf_fn)}\n"
   ]
  },
  {
   "cell_type": "code",
   "execution_count": 1,
   "metadata": {
    "collapsed": true
   },
   "outputs": [],
   "source": [
    "RELEASE_3_VCF_FN = '/nfs/team112_internal/production/release_build/Pf3K/pilot_3_0/all_merged_with_calls_vfp_v4.vcf.gz'\n",
    "RELEASE_4_DIR = '/nfs/team112_internal/production/release_build/Pf3K/pilot_4_0'\n",
    "INTERIM_5_VCF_FOFN = '/lustre/scratch109/malaria/pf3k_methods/input/output_fofn/pf3kgatk_variant_filtration_ps583for_2640samples.output'\n"
   ]
  },
  {
   "cell_type": "code",
   "execution_count": null,
   "metadata": {
    "collapsed": true
   },
   "outputs": [],
   "source": []
  }
 ],
 "metadata": {
  "kernelspec": {
   "display_name": "Python 3",
   "language": "python",
   "name": "python3"
  },
  "language_info": {
   "codemirror_mode": {
    "name": "ipython",
    "version": 3
   },
   "file_extension": ".py",
   "mimetype": "text/x-python",
   "name": "python",
   "nbconvert_exporter": "python",
   "pygments_lexer": "ipython3",
   "version": "3.4.1"
  }
 },
 "nbformat": 4,
 "nbformat_minor": 0
}
