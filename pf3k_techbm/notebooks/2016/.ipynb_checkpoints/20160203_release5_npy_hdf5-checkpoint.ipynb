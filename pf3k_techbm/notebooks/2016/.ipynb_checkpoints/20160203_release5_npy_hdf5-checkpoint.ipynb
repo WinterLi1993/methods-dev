{
 "cells": [
  {
   "cell_type": "markdown",
   "metadata": {},
   "source": [
    "# Plan\n",
    "- Create new WG vcf with AD fix\n",
    "- Create npy and hdf5 files for release5\n",
    "    - Create mixtures and crosses specific vcfs\n",
    "    - Create biallelic versions of the above\n",
    "    - Create WG npy variants and 2d calldata files for these 4 vcfs\n",
    "    - Create sites only vcf\n",
    "    - Create npy WG variants files\n",
    "    - Create chrom npy variants and calldata files\n",
    "    - Create HDF5 file"
   ]
  },
  {
   "cell_type": "markdown",
   "metadata": {},
   "source": [
    "# Setup"
   ]
  },
  {
   "cell_type": "code",
   "execution_count": 1,
   "metadata": {
    "collapsed": false
   },
   "outputs": [
    {
     "name": "stdout",
     "output_type": "stream",
     "text": [
      "docker image: podpearson/biipy_rdp:latest\n"
     ]
    }
   ],
   "source": [
    "%run imports.ipynb\n",
    "%run _shared_setup.ipynb"
   ]
  },
  {
   "cell_type": "code",
   "execution_count": 2,
   "metadata": {
    "collapsed": true
   },
   "outputs": [],
   "source": [
    "release5_final_files_dir = '/nfs/team112_internal/production/release_build/Pf3K/pilot_5_0'"
   ]
  },
  {
   "cell_type": "code",
   "execution_count": null,
   "metadata": {
    "collapsed": true
   },
   "outputs": [],
   "source": [
    "mixtures_ids = np.array([\"PG%04d-C\" % n for n in range(389, 416)])\n",
    "crosses_fns = ['../../meta/crosses_samples_%s.txt' % x for x in ['3D7xHB3', 'HB3xDd2', '7G8xGB4']]\n",
    "crosses_samples = (etl\n",
    "    .fromtsv(crosses_fns[0])\n",
    "    .cat(etl.fromtsv(crosses_fns[1]))\n",
    "    .cat(etl.fromtsv(crosses_fns[2]))\n",
    ")\n",
    "crosses_ids = crosses_samples.values('sample').array()"
   ]
  },
  {
   "cell_type": "markdown",
   "metadata": {},
   "source": [
    "# Create files"
   ]
  },
  {
   "cell_type": "code",
   "execution_count": null,
   "metadata": {
    "collapsed": true
   },
   "outputs": [],
   "source": [
    "# Need to recreate WG file due to AD Number=R bug\n",
    "wg_vcf_fn = \"%s/SNP_INDEL_WG.combined.filtered.vcf.gz\" % (release5_final_files_dir)\n",
    "!mv {wg_vcf_fn} {wg_vcf_fn + '.old'}\n",
    "!zcat {wg_vcf_fn + '.old'} \\\n",
    "| sed 's/##FORMAT=<ID=AD,Number=./##FORMAT=<ID=AD,Number=R/' \\\n",
    "| bgzip -c > {wg_vcf_fn}\n",
    "!bcftools index --tbi {wg_vcf_fn}\n"
   ]
  },
  {
   "cell_type": "code",
   "execution_count": null,
   "metadata": {
    "collapsed": true
   },
   "outputs": [],
   "source": [
    "!rm {wg_vcf_fn + '.old'}"
   ]
  },
  {
   "cell_type": "code",
   "execution_count": null,
   "metadata": {
    "collapsed": true
   },
   "outputs": [],
   "source": [
    "# Create mixtures and crosses vcfs\n",
    "mixtures_samples = ','.join(mixtures_ids)\n",
    "crosses_samples = ','.join(crosses_ids)\n",
    "\n",
    "mixtures_vcf_fn = wg_vcf_fn.replace('filtered', 'filtered.mixtures')\n",
    "mixtures_biallelic_vcf_fn = wg_vcf_fn.replace('filtered', 'filtered.mixtures_biallelic')\n",
    "crosses_vcf_fn = wg_vcf_fn.replace('filtered', 'filtered.crosses')\n",
    "crosses_biallelic_vcf_fn = wg_vcf_fn.replace('filtered', 'filtered.crosses_biallelic')\n",
    "\n",
    "!bcftools view -Oz -o {mixtures_vcf_fn} -s mixtures_samples wg_vcf_fn\n",
    "!bcftools view -Ou -s mixtures_samples wg_vcf_fn | bcftools norm -m -any -Oz -o {mixtures_biallelic_vcf_fn}\n",
    "!bcftools view -Oz -o {crosses_vcf_fn} -s crosses_samples wg_vcf_fn\n",
    "!bcftools view -Ou -s crosses_samples wg_vcf_fn | bcftools norm -m -any -Oz -o {crosses_biallelic_vcf_fn}\n",
    "\n",
    "!bcftools index --tbi {mixtures_vcf_fn}\n",
    "!bcftools index --tbi {mixtures_biallelic_vcf_fn}\n",
    "!bcftools index --tbi {crosses_vcf_fn}\n",
    "!bcftools index --tbi {crosses_biallelic_vcf_fn}\n"
   ]
  },
  {
   "cell_type": "code",
   "execution_count": null,
   "metadata": {
    "collapsed": true
   },
   "outputs": [],
   "source": [
    "def create_variants_npy(vcf_fn=mixtures_vcf_fn):\n",
    "    output_dir = '%s.vcfnp_cache' % vcf_fn\n",
    "    if not os.path.exists(output_dir):\n",
    "        os.makedirs(output_dir)\n",
    "    vcfnp.variants(\n",
    "        vcf_fn,\n",
    "        dtypes={\n",
    "            'REF':                      'a10',\n",
    "            'ALT':                      'a10',\n",
    "            'RegionType':               'a25',\n",
    "            'VariantType':              'a40',\n",
    "            'RU':                       'a40',\n",
    "            'set':                      'a40',\n",
    "            'SNPEFF_AMINO_ACID_CHANGE': 'a20',\n",
    "            'SNPEFF_CODON_CHANGE':      'a20',\n",
    "            'SNPEFF_EFFECT':            'a33',\n",
    "            'SNPEFF_EXON_ID':            'a2',\n",
    "            'SNPEFF_FUNCTIONAL_CLASS':   'a8',\n",
    "            'SNPEFF_GENE_BIOTYPE':      'a14',\n",
    "            'SNPEFF_GENE_NAME':         'a20',\n",
    "            'SNPEFF_IMPACT':             'a8',\n",
    "            'SNPEFF_TRANSCRIPT_ID':     'a20',\n",
    "            'culprit':                  'a14',\n",
    "        },\n",
    "        arities={\n",
    "            'ALT':   6,\n",
    "            'AF':    6,\n",
    "            'AC':    6,\n",
    "            'MLEAF': 6,\n",
    "            'MLEAC': 6,\n",
    "            'RPA':   7,\n",
    "            'ANN':   1,\n",
    "        },\n",
    "        fills={\n",
    "            'VQSLOD': np.nan,\n",
    "            'QD': np.nan,\n",
    "            'MQ': np.nan,\n",
    "            'MQRankSum': np.nan,\n",
    "            'ReadPosRankSum': np.nan,\n",
    "            'FS': np.nan,\n",
    "            'SOR': np.nan,\n",
    "            'DP': np.nan,\n",
    "        },\n",
    "        flatten_filter=True,\n",
    "        verbose=False,\n",
    "        cache=True,\n",
    "        cachedir=output_dir\n",
    "    )\n",
    "#     !vcf2npy \\\n",
    "#         --vcf {vcf_fn} \\\n",
    "#         --fasta {GENOME_FN} \\\n",
    "#         --output-dir {output_dir} \\\n",
    "#         --array-type variants \\\n",
    "#         --progress 1000000 \\\n",
    "#         --arity ALT:6 \\\n",
    "#         --arity AF:6 \\\n",
    "#         --arity AC:6 \\\n",
    "#         --arity MLEAF:6 \\\n",
    "#         --arity MLEAC:6 \\\n",
    "#         --arity RPA:7 \\\n",
    "#         --arity ANN:1 \\\n",
    "#         --dtype REF:a10 \\\n",
    "#         --dtype ALT:a10 \\\n",
    "#         --dtype RegionType:a25 \\\n",
    "#         --dtype VariantType:a40 \\\n",
    "#         --dtype RU:a40 \\\n",
    "#         --dtype set:a40 \\\n",
    "#         --dtype SNPEFF_AMINO_ACID_CHANGE:a20 \\\n",
    "#         --dtype SNPEFF_CODON_CHANGE:a20 \\\n",
    "#         --dtype SNPEFF_EFFECT:a33 \\\n",
    "#         --dtype SNPEFF_EXON_ID:a2 \\\n",
    "#         --dtype SNPEFF_FUNCTIONAL_CLASS:a8 \\\n",
    "#         --dtype SNPEFF_GENE_BIOTYPE:a14 \\\n",
    "#         --dtype SNPEFF_GENE_NAME:a20 \\\n",
    "#         --dtype SNPEFF_IMPACT:a8 \\\n",
    "#         --dtype SNPEFF_TRANSCRIPT_ID:a20 \\\n",
    "#         --dtype culprit:a14\n",
    "\n",
    "def create_calldata_npy(vcf_fn=mixtures_vcf_fn, max_alleles=7):\n",
    "    output_dir = '%s.vcfnp_cache' % vcf_fn\n",
    "    if not os.path.exists(output_dir):\n",
    "        os.makedirs(output_dir)\n",
    "    vcfnp.calldata_2d(\n",
    "        vcf_fn,\n",
    "        fields=['AD'],\n",
    "        dtypes={\n",
    "            'AD': 'u1',\n",
    "        },\n",
    "        arities={\n",
    "            'AD': max_alleles,\n",
    "        },\n",
    "#         fills={\n",
    "#             'AD': np.nan,\n",
    "#         },\n",
    "        flatten_filter=True,\n",
    "        verbose=False,\n",
    "        cache=True,\n",
    "        cachedir=output_dir\n",
    "    )\n"
   ]
  },
  {
   "cell_type": "code",
   "execution_count": null,
   "metadata": {
    "collapsed": true
   },
   "outputs": [],
   "source": [
    "# Create mixtures and crosses npy files\n",
    "create_variants_npy(mixtures_vcf_fn)\n",
    "create_calldata_npy(mixtures_vcf_fn)\n",
    "create_variants_npy(mixtures_biallelic_vcf_fn)\n",
    "create_calldata_npy(mixtures_biallelic_vcf_fn, 2)\n",
    "create_variants_npy(crosses_vcf_fn)\n",
    "create_calldata_npy(crosses_vcf_fn)\n",
    "create_variants_npy(crosses_biallelic_vcf_fn)\n",
    "create_calldata_npy(crosses_biallelic_vcf_fn, 2)\n"
   ]
  }
 ],
 "metadata": {
  "kernelspec": {
   "display_name": "Python 3",
   "language": "python",
   "name": "python3"
  },
  "language_info": {
   "codemirror_mode": {
    "name": "ipython",
    "version": 3
   },
   "file_extension": ".py",
   "mimetype": "text/x-python",
   "name": "python",
   "nbconvert_exporter": "python",
   "pygments_lexer": "ipython3",
   "version": "3.5.0+"
  }
 },
 "nbformat": 4,
 "nbformat_minor": 0
}
