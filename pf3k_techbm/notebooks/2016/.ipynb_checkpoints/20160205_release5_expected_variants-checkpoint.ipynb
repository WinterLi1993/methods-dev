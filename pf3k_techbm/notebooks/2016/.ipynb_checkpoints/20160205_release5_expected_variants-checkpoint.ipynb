{
 "cells": [
  {
   "cell_type": "code",
   "execution_count": 1,
   "metadata": {
    "collapsed": false
   },
   "outputs": [
    {
     "name": "stdout",
     "output_type": "stream",
     "text": [
      "docker image: podpearson/biipy_rdp:latest\n"
     ]
    }
   ],
   "source": [
    "%run imports.ipynb\n",
    "%run _shared_setup.ipynb"
   ]
  },
  {
   "cell_type": "code",
   "execution_count": 6,
   "metadata": {
    "collapsed": true
   },
   "outputs": [],
   "source": [
    "run_names = ['no_ranksum_3_5_mqcap70', 'gatk_rec_indel']\n",
    "chroms = CHROM_VCF_FNS['release5'].keys()\n",
    "release = 'interim5'"
   ]
  },
  {
   "cell_type": "code",
   "execution_count": 7,
   "metadata": {
    "collapsed": false
   },
   "outputs": [
    {
     "data": {
      "text/plain": [
       "'interim5'"
      ]
     },
     "execution_count": 7,
     "metadata": {},
     "output_type": "execute_result"
    }
   ],
   "source": [
    "release"
   ]
  },
  {
   "cell_type": "code",
   "execution_count": 15,
   "metadata": {
    "collapsed": false
   },
   "outputs": [
    {
     "name": "stdout",
     "output_type": "stream",
     "text": [
      "no_ranksum_3_5_mqcap70, Pf3D7_01_v3:   22837/  56752 ( 40.24%) PASS SNPs   22389/ 103194 ( 21.70%) PASS indels\n",
      "no_ranksum_3_5_mqcap70, Pf3D7_02_v3:   37272/  82945 ( 44.94%) PASS SNPs   31263/ 109730 ( 28.49%) PASS indels\n",
      "no_ranksum_3_5_mqcap70, Pf3D7_03_v3:   45888/  88051 ( 52.12%) PASS SNPs   37056/ 119429 ( 31.03%) PASS indels\n",
      "no_ranksum_3_5_mqcap70, Pf3D7_04_v3:   48293/ 105177 ( 45.92%) PASS SNPs   39149/ 164296 ( 23.83%) PASS indels\n",
      "no_ranksum_3_5_mqcap70, Pf3D7_05_v3:   65425/ 107649 ( 60.78%) PASS SNPs   49933/  89025 ( 56.09%) PASS indels\n",
      "no_ranksum_3_5_mqcap70, Pf3D7_06_v3:   58702/ 115615 ( 50.77%) PASS SNPs   44306/ 138690 ( 31.95%) PASS indels\n",
      "no_ranksum_3_5_mqcap70, Pf3D7_07_v3:   61708/ 129138 ( 47.78%) PASS SNPs   47672/ 171043 ( 27.87%) PASS indels\n",
      "no_ranksum_3_5_mqcap70, Pf3D7_08_v3:   62543/ 124580 ( 50.20%) PASS SNPs   49667/ 169089 ( 29.37%) PASS indels\n",
      "no_ranksum_3_5_mqcap70, Pf3D7_09_v3:   78578/ 140915 ( 55.76%) PASS SNPs   55837/ 155633 ( 35.88%) PASS indels\n",
      "no_ranksum_3_5_mqcap70, Pf3D7_10_v3:   77190/ 142829 ( 54.04%) PASS SNPs   61038/ 176276 ( 34.63%) PASS indels\n",
      "no_ranksum_3_5_mqcap70, Pf3D7_11_v3:  105099/ 178157 ( 58.99%) PASS SNPs   73797/ 163268 ( 45.20%) PASS indels\n",
      "no_ranksum_3_5_mqcap70, Pf3D7_12_v3:  105709/ 197214 ( 53.60%) PASS SNPs   76032/ 211572 ( 35.94%) PASS indels\n",
      "no_ranksum_3_5_mqcap70, Pf3D7_13_v3:  162990/ 265702 ( 61.34%) PASS SNPs   95786/ 200719 ( 47.72%) PASS indels\n",
      "no_ranksum_3_5_mqcap70, Pf3D7_14_v3:  197478/ 308899 ( 63.93%) PASS SNPs  115016/ 191902 ( 59.93%) PASS indels\n",
      "no_ranksum_3_5_mqcap70, Pf3D7_API_v3:       0/   3133 (  0.00%) PASS SNPs       0/    802 (  0.00%) PASS indels\n",
      "no_ranksum_3_5_mqcap70, Pf_M76611:       0/    846 (  0.00%) PASS SNPs       0/    195 (  0.00%) PASS indels\n",
      "gatk_rec_indel, Pf3D7_01_v3:   18861/  56752 ( 33.23%) PASS SNPs   19672/ 103194 ( 19.06%) PASS indels\n",
      "gatk_rec_indel, Pf3D7_02_v3:   30271/  82945 ( 36.50%) PASS SNPs   27405/ 109730 ( 24.97%) PASS indels\n",
      "gatk_rec_indel, Pf3D7_03_v3:   37219/  88051 ( 42.27%) PASS SNPs   32429/ 119429 ( 27.15%) PASS indels\n",
      "gatk_rec_indel, Pf3D7_04_v3:   39598/ 105177 ( 37.65%) PASS SNPs   34575/ 164296 ( 21.04%) PASS indels\n",
      "gatk_rec_indel, Pf3D7_05_v3:   52551/ 107649 ( 48.82%) PASS SNPs   43780/  89025 ( 49.18%) PASS indels\n",
      "gatk_rec_indel, Pf3D7_06_v3:   46745/ 115615 ( 40.43%) PASS SNPs   38515/ 138690 ( 27.77%) PASS indels\n",
      "gatk_rec_indel, Pf3D7_07_v3:   50259/ 129138 ( 38.92%) PASS SNPs   41811/ 171043 ( 24.44%) PASS indels\n",
      "gatk_rec_indel, Pf3D7_08_v3:   50526/ 124580 ( 40.56%) PASS SNPs   43470/ 169089 ( 25.71%) PASS indels\n",
      "gatk_rec_indel, Pf3D7_09_v3:   62620/ 140915 ( 44.44%) PASS SNPs   49070/ 155633 ( 31.53%) PASS indels\n",
      "gatk_rec_indel, Pf3D7_10_v3:   62221/ 142829 ( 43.56%) PASS SNPs   53639/ 176276 ( 30.43%) PASS indels\n",
      "gatk_rec_indel, Pf3D7_11_v3:   84040/ 178157 ( 47.17%) PASS SNPs   64642/ 163268 ( 39.59%) PASS indels\n",
      "gatk_rec_indel, Pf3D7_12_v3:   84592/ 197214 ( 42.89%) PASS SNPs   66047/ 211572 ( 31.22%) PASS indels\n",
      "gatk_rec_indel, Pf3D7_13_v3:  130110/ 265702 ( 48.97%) PASS SNPs   83239/ 200719 ( 41.47%) PASS indels\n",
      "gatk_rec_indel, Pf3D7_14_v3:  157581/ 308899 ( 51.01%) PASS SNPs   99568/ 191902 ( 51.88%) PASS indels\n",
      "gatk_rec_indel, Pf3D7_API_v3:       0/   3133 (  0.00%) PASS SNPs       0/    802 (  0.00%) PASS indels\n",
      "gatk_rec_indel, Pf_M76611:       0/    846 (  0.00%) PASS SNPs       0/    195 (  0.00%) PASS indels\n"
     ]
    }
   ],
   "source": [
    "for run_name in run_names:\n",
    "    npy_fn = os.path.join(DATA_DIR, release, 'vqsr', run_name, '%s_WG_sites.SNP.filtered.vcf.gz.vcfnp_cache' % release, 'variants.npy')\n",
    "    vqslod_snp = np.load(npy_fn)[['CHROM', 'POS', 'is_snp', 'RegionType', 'VQSLOD']]\n",
    "    npy_fn = os.path.join(DATA_DIR, release, 'vqsr', run_name, '%s_WG_sites.INDEL.filtered.vcf.gz.vcfnp_cache' % release, 'variants.npy')\n",
    "    vqslod_indel = np.load(npy_fn)[['CHROM', 'POS', 'is_snp', 'RegionType', 'VQSLOD']]\n",
    "    for chrom in chroms:\n",
    "            num_snps = np.sum((vqslod_snp['is_snp']) & (vqslod_snp['CHROM'] == chrom.encode('ascii')))\n",
    "            num_pass_snps = np.sum(\n",
    "                (vqslod_snp['is_snp']) &\n",
    "                (vqslod_snp['CHROM'] == chrom.encode('ascii')) &\n",
    "                (vqslod_snp['RegionType'] == b'Core') &\n",
    "                (vqslod_snp['VQSLOD'] > 0.0)\n",
    "            )\n",
    "            pct_pass_snps = num_pass_snps/num_snps\n",
    "            \n",
    "            num_indels = np.sum(np.logical_not(vqslod_indel['is_snp']) & (vqslod_indel['CHROM'] == chrom.encode('ascii')))\n",
    "            num_pass_indels = np.sum(\n",
    "                np.logical_not(vqslod_indel['is_snp']) &\n",
    "                (vqslod_indel['CHROM'] == chrom.encode('ascii')) &\n",
    "                (vqslod_indel['RegionType'] == b'Core') &\n",
    "                (vqslod_indel['VQSLOD'] > 0.0)\n",
    "            )\n",
    "            pct_pass_indels = num_pass_indels/num_indels\n",
    "            print(\"%s, %s: %7d/%7d (%6.2f%%) PASS SNPs %7d/%7d (%6.2f%%) PASS indels\" % (\n",
    "                    run_name, chrom,\n",
    "                    num_pass_snps, num_snps, 100.0*num_pass_snps/num_snps,\n",
    "                    num_pass_indels, num_indels, 100.0*num_pass_indels/num_indels,\n",
    "                ))\n"
   ]
  },
  {
   "cell_type": "code",
   "execution_count": 11,
   "metadata": {
    "collapsed": false
   },
   "outputs": [
    {
     "data": {
      "text/plain": [
       "array([(b'Pf3D7_01_v3', 37, False, b'SubtelomericRepeat', -20.639999389648438),\n",
       "       (b'Pf3D7_01_v3', 67, False, b'SubtelomericRepeat', -24.040000915527344),\n",
       "       (b'Pf3D7_01_v3', 68, False, b'SubtelomericRepeat', 1.6399999856948853),\n",
       "       ..., (b'Pf_M76611', 5960, True, b'', -229.39999389648438),\n",
       "       (b'Pf_M76611', 5963, True, b'', -234.3000030517578),\n",
       "       (b'Pf_M76611', 5964, True, b'', -247.5)], \n",
       "      dtype=[('CHROM', 'S12'), ('POS', '<i4'), ('is_snp', '?'), ('RegionType', 'S25'), ('VQSLOD', '<f4')])"
      ]
     },
     "execution_count": 11,
     "metadata": {},
     "output_type": "execute_result"
    }
   ],
   "source": [
    "vqslod_snp"
   ]
  },
  {
   "cell_type": "code",
   "execution_count": 13,
   "metadata": {
    "collapsed": false
   },
   "outputs": [
    {
     "data": {
      "text/plain": [
       "(array([False,  True], dtype=bool), array([4052519,  159946]))"
      ]
     },
     "execution_count": 13,
     "metadata": {},
     "output_type": "execute_result"
    }
   ],
   "source": [
    "np.unique(vqslod_snp['CHROM'] == b'Pf3D7_01_v3', return_counts=True)"
   ]
  },
  {
   "cell_type": "code",
   "execution_count": 14,
   "metadata": {
    "collapsed": false
   },
   "outputs": [
    {
     "data": {
      "text/plain": [
       "b'Pf3D7_01_v3'"
      ]
     },
     "execution_count": 14,
     "metadata": {},
     "output_type": "execute_result"
    }
   ],
   "source": [
    "'Pf3D7_01_v3'.encode('ascii')"
   ]
  },
  {
   "cell_type": "code",
   "execution_count": null,
   "metadata": {
    "collapsed": true
   },
   "outputs": [],
   "source": []
  }
 ],
 "metadata": {
  "kernelspec": {
   "display_name": "Python 3",
   "language": "python",
   "name": "python3"
  },
  "language_info": {
   "codemirror_mode": {
    "name": "ipython",
    "version": 3
   },
   "file_extension": ".py",
   "mimetype": "text/x-python",
   "name": "python",
   "nbconvert_exporter": "python",
   "pygments_lexer": "ipython3",
   "version": "3.5.0+"
  }
 },
 "nbformat": 4,
 "nbformat_minor": 0
}
