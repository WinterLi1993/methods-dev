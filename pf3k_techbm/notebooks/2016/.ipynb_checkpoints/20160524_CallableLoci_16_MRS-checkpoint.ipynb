{
 "cells": [
  {
   "cell_type": "code",
   "execution_count": 1,
   "metadata": {
    "collapsed": false
   },
   "outputs": [
    {
     "name": "stdout",
     "output_type": "stream",
     "text": [
      "python 3.4.3 |Anaconda 2.2.0 (64-bit)| (default, Mar  6 2015, 12:03:53) \n",
      "[GCC 4.4.7 20120313 (Red Hat 4.4.7-1)]\n",
      "numpy 1.9.2\n",
      "scipy 0.15.1\n",
      "pandas 0.15.2\n",
      "numexpr 2.3.1\n",
      "pysam 0.8.3\n",
      "pysamstats 0.23\n",
      "petl 1.0.11\n",
      "petlx 1.0.3\n",
      "vcf 0.6.7\n",
      "vcfnp 2.3.0.dev0\n",
      "h5py 2.4.0\n",
      "tables 3.1.1\n"
     ]
    }
   ],
   "source": [
    "%run _standard_imports.ipynb\n",
    "%run _shared_setup.ipynb\n"
   ]
  },
  {
   "cell_type": "code",
   "execution_count": 10,
   "metadata": {
    "collapsed": true
   },
   "outputs": [],
   "source": [
    "import stat\n",
    "from sh import ssh\n",
    "bsub = sh.Command('bsub')"
   ]
  },
  {
   "cell_type": "code",
   "execution_count": 33,
   "metadata": {
    "collapsed": true
   },
   "outputs": [],
   "source": [
    "thomas_mapping_fofn = \"/nfs/team112_internal/rp7/data/pf3k/mrs_1/pf3k_mrs_1_thomas_bams.txt\"\n",
    "output_dir = \"/lustre/scratch109/malaria/rp7/data/pf3k/mrs_1/20160524_CallableLoci_16_MRS\"\n",
    "!mkdir -p {output_dir}/scripts\n",
    "!mkdir -p {output_dir}/results\n",
    "!mkdir -p {output_dir}/logs\n"
   ]
  },
  {
   "cell_type": "code",
   "execution_count": 3,
   "metadata": {
    "collapsed": true
   },
   "outputs": [],
   "source": [
    "GenomeAnalysisTK=\"/software/jre1.7.0_25/bin/java -Xmx4G -jar /nfs/team112_internal/production/tools/bin/gatk/GenomeAnalysisTK-3.5/GenomeAnalysisTK.jar\"\n",
    "GenomeAnalysisTK=\"/software/jre1.7.0_25/bin/java -Xmx4G -jar /nfs/team112_internal/production/tools/bin/gatk/GenomeAnalysisTK-3.4-46/GenomeAnalysisTK.jar\"\n",
    "bcftools=\"/nfs/team112_internal/production/tools/bin/bcftools_git\""
   ]
  },
  {
   "cell_type": "code",
   "execution_count": 4,
   "metadata": {
    "collapsed": true
   },
   "outputs": [],
   "source": [
    "chroms = ['Pf3D7_04_v3', 'Pf3D7_14_v3']"
   ]
  },
  {
   "cell_type": "code",
   "execution_count": 5,
   "metadata": {
    "collapsed": false
   },
   "outputs": [
    {
     "data": {
      "text/html": [
       "<table class='petl'>\n",
       "<thead>\n",
       "<tr>\n",
       "<th>path</th>\n",
       "<th>sample</th>\n",
       "</tr>\n",
       "</thead>\n",
       "<tbody>\n",
       "<tr>\n",
       "<td>/lustre/scratch108/parasites/tdo/Pfalciparum/PF3K/Reference12Genomes/Mapping_Illumina/Res.Pf3D7.bam</td>\n",
       "<td>Pf3D7</td>\n",
       "</tr>\n",
       "<tr>\n",
       "<td>/lustre/scratch108/parasites/tdo/Pfalciparum/PF3K/Reference12Genomes/Mapping_Illumina/Res.Pf7G8.bam</td>\n",
       "<td>Pf7G8</td>\n",
       "</tr>\n",
       "<tr>\n",
       "<td>/lustre/scratch108/parasites/tdo/Pfalciparum/PF3K/Reference12Genomes/Mapping_Illumina/Res.PfCD01.bam</td>\n",
       "<td>PfCD01</td>\n",
       "</tr>\n",
       "<tr>\n",
       "<td>/lustre/scratch108/parasites/tdo/Pfalciparum/PF3K/Reference12Genomes/Mapping_Illumina/Res.PfDd2.bam</td>\n",
       "<td>PfDd2</td>\n",
       "</tr>\n",
       "<tr>\n",
       "<td>/lustre/scratch108/parasites/tdo/Pfalciparum/PF3K/Reference12Genomes/Mapping_Illumina/Res.PfGA01.bam</td>\n",
       "<td>PfGA01</td>\n",
       "</tr>\n",
       "</tbody>\n",
       "</table>\n",
       "<p><strong>...</strong></p>"
      ],
      "text/plain": [
       "+--------------------------------------------------------------------------------------------------------+----------+\n",
       "| path                                                                                                   | sample   |\n",
       "+========================================================================================================+==========+\n",
       "| '/lustre/scratch108/parasites/tdo/Pfalciparum/PF3K/Reference12Genomes/Mapping_Illumina/Res.Pf3D7.bam'  | 'Pf3D7'  |\n",
       "+--------------------------------------------------------------------------------------------------------+----------+\n",
       "| '/lustre/scratch108/parasites/tdo/Pfalciparum/PF3K/Reference12Genomes/Mapping_Illumina/Res.Pf7G8.bam'  | 'Pf7G8'  |\n",
       "+--------------------------------------------------------------------------------------------------------+----------+\n",
       "| '/lustre/scratch108/parasites/tdo/Pfalciparum/PF3K/Reference12Genomes/Mapping_Illumina/Res.PfCD01.bam' | 'PfCD01' |\n",
       "+--------------------------------------------------------------------------------------------------------+----------+\n",
       "| '/lustre/scratch108/parasites/tdo/Pfalciparum/PF3K/Reference12Genomes/Mapping_Illumina/Res.PfDd2.bam'  | 'PfDd2'  |\n",
       "+--------------------------------------------------------------------------------------------------------+----------+\n",
       "| '/lustre/scratch108/parasites/tdo/Pfalciparum/PF3K/Reference12Genomes/Mapping_Illumina/Res.PfGA01.bam' | 'PfGA01' |\n",
       "+--------------------------------------------------------------------------------------------------------+----------+\n",
       "..."
      ]
     },
     "execution_count": 5,
     "metadata": {},
     "output_type": "execute_result"
    }
   ],
   "source": [
    "tbl_bams = etl.fromtsv(thomas_mapping_fofn)\n",
    "tbl_bams"
   ]
  },
  {
   "cell_type": "code",
   "execution_count": 17,
   "metadata": {
    "collapsed": true
   },
   "outputs": [],
   "source": [
    "genome_dict = SeqIO.to_dict(\n",
    "    SeqIO.parse(\n",
    "        open(\"/nfs/pathogen003/tdo/Pfalciparum/3D7/Reference/Oct2011/Pf3D7_v3.fasta\", \"rU\"),\n",
    "        \"fasta\"\n",
    "    )\n",
    ")"
   ]
  },
  {
   "cell_type": "code",
   "execution_count": 27,
   "metadata": {
    "collapsed": false
   },
   "outputs": [
    {
     "data": {
      "text/plain": [
       "1200490"
      ]
     },
     "execution_count": 27,
     "metadata": {},
     "output_type": "execute_result"
    }
   ],
   "source": [
    "len(genome_dict['Pf3D7_04_v3'])"
   ]
  },
  {
   "cell_type": "code",
   "execution_count": 34,
   "metadata": {
    "collapsed": false
   },
   "outputs": [
    {
     "name": "stdout",
     "output_type": "stream",
     "text": [
      "Pf3D7_04_v3 /lustre/scratch108/parasites/tdo/Pfalciparum/PF3K/Reference12Genomes/Mapping_Illumina/Res.Pf3D7.bam Pf3D7\n",
      "/lustre/scratch109/malaria/rp7/data/pf3k/mrs_1/20160524_CallableLoci_16_MRS/scripts/CallableLoci_Pf3D7_04_v3_Pf3D7.sh\n",
      "Pf3D7_04_v3 /lustre/scratch108/parasites/tdo/Pfalciparum/PF3K/Reference12Genomes/Mapping_Illumina/Res.Pf7G8.bam Pf7G8\n",
      "/lustre/scratch109/malaria/rp7/data/pf3k/mrs_1/20160524_CallableLoci_16_MRS/scripts/CallableLoci_Pf3D7_04_v3_Pf7G8.sh\n",
      "Pf3D7_04_v3 /lustre/scratch108/parasites/tdo/Pfalciparum/PF3K/Reference12Genomes/Mapping_Illumina/Res.PfCD01.bam PfCD01\n",
      "/lustre/scratch109/malaria/rp7/data/pf3k/mrs_1/20160524_CallableLoci_16_MRS/scripts/CallableLoci_Pf3D7_04_v3_PfCD01.sh\n",
      "Pf3D7_04_v3 /lustre/scratch108/parasites/tdo/Pfalciparum/PF3K/Reference12Genomes/Mapping_Illumina/Res.PfDd2.bam PfDd2\n",
      "/lustre/scratch109/malaria/rp7/data/pf3k/mrs_1/20160524_CallableLoci_16_MRS/scripts/CallableLoci_Pf3D7_04_v3_PfDd2.sh\n",
      "Pf3D7_04_v3 /lustre/scratch108/parasites/tdo/Pfalciparum/PF3K/Reference12Genomes/Mapping_Illumina/Res.PfGA01.bam PfGA01\n",
      "/lustre/scratch109/malaria/rp7/data/pf3k/mrs_1/20160524_CallableLoci_16_MRS/scripts/CallableLoci_Pf3D7_04_v3_PfGA01.sh\n",
      "Pf3D7_04_v3 /lustre/scratch108/parasites/tdo/Pfalciparum/PF3K/Reference12Genomes/Mapping_Illumina/Res.PfGB4.bam PfGB4\n",
      "/lustre/scratch109/malaria/rp7/data/pf3k/mrs_1/20160524_CallableLoci_16_MRS/scripts/CallableLoci_Pf3D7_04_v3_PfGB4.sh\n",
      "Pf3D7_04_v3 /lustre/scratch108/parasites/tdo/Pfalciparum/PF3K/Reference12Genomes/Mapping_Illumina/Res.PfGN01.bam PfGN01\n",
      "/lustre/scratch109/malaria/rp7/data/pf3k/mrs_1/20160524_CallableLoci_16_MRS/scripts/CallableLoci_Pf3D7_04_v3_PfGN01.sh\n",
      "Pf3D7_04_v3 /lustre/scratch108/parasites/tdo/Pfalciparum/PF3K/Reference12Genomes/Mapping_Illumina/Res.PfHB3.bam PfHB3\n",
      "/lustre/scratch109/malaria/rp7/data/pf3k/mrs_1/20160524_CallableLoci_16_MRS/scripts/CallableLoci_Pf3D7_04_v3_PfHB3.sh\n",
      "Pf3D7_04_v3 /lustre/scratch108/parasites/tdo/Pfalciparum/PF3K/Reference12Genomes/Mapping_Illumina/Res.PFIT.bam PFIT\n",
      "/lustre/scratch109/malaria/rp7/data/pf3k/mrs_1/20160524_CallableLoci_16_MRS/scripts/CallableLoci_Pf3D7_04_v3_PFIT.sh\n",
      "Pf3D7_04_v3 /lustre/scratch108/parasites/tdo/Pfalciparum/PF3K/Reference12Genomes/Mapping_Illumina/Res.PFKE01.bam PFKE01\n",
      "/lustre/scratch109/malaria/rp7/data/pf3k/mrs_1/20160524_CallableLoci_16_MRS/scripts/CallableLoci_Pf3D7_04_v3_PFKE01.sh\n",
      "Pf3D7_04_v3 /lustre/scratch108/parasites/tdo/Pfalciparum/PF3K/Reference12Genomes/Mapping_Illumina/Res.PfKH01.bam PfKH01\n",
      "/lustre/scratch109/malaria/rp7/data/pf3k/mrs_1/20160524_CallableLoci_16_MRS/scripts/CallableLoci_Pf3D7_04_v3_PfKH01.sh\n",
      "Pf3D7_04_v3 /lustre/scratch108/parasites/tdo/Pfalciparum/PF3K/Reference12Genomes/Mapping_Illumina/Res.PfKH02.bam PfKH02\n",
      "/lustre/scratch109/malaria/rp7/data/pf3k/mrs_1/20160524_CallableLoci_16_MRS/scripts/CallableLoci_Pf3D7_04_v3_PfKH02.sh\n",
      "Pf3D7_04_v3 /lustre/scratch108/parasites/tdo/Pfalciparum/PF3K/Reference12Genomes/Mapping_Illumina/Res.PfML01.bam PfML01\n",
      "/lustre/scratch109/malaria/rp7/data/pf3k/mrs_1/20160524_CallableLoci_16_MRS/scripts/CallableLoci_Pf3D7_04_v3_PfML01.sh\n",
      "Pf3D7_04_v3 /lustre/scratch108/parasites/tdo/Pfalciparum/PF3K/Reference12Genomes/Mapping_Illumina/Res.PFSD01.bam PFSD01\n",
      "/lustre/scratch109/malaria/rp7/data/pf3k/mrs_1/20160524_CallableLoci_16_MRS/scripts/CallableLoci_Pf3D7_04_v3_PFSD01.sh\n",
      "Pf3D7_04_v3 /lustre/scratch108/parasites/tdo/Pfalciparum/PF3K/Reference12Genomes/Mapping_Illumina/Res.PfSN01.bam PfSN01\n",
      "/lustre/scratch109/malaria/rp7/data/pf3k/mrs_1/20160524_CallableLoci_16_MRS/scripts/CallableLoci_Pf3D7_04_v3_PfSN01.sh\n",
      "Pf3D7_04_v3 /lustre/scratch108/parasites/tdo/Pfalciparum/PF3K/Reference12Genomes/Mapping_Illumina/Res.PfTG01.bam PfTG01\n",
      "/lustre/scratch109/malaria/rp7/data/pf3k/mrs_1/20160524_CallableLoci_16_MRS/scripts/CallableLoci_Pf3D7_04_v3_PfTG01.sh\n",
      "Pf3D7_14_v3 /lustre/scratch108/parasites/tdo/Pfalciparum/PF3K/Reference12Genomes/Mapping_Illumina/Res.Pf3D7.bam Pf3D7\n",
      "/lustre/scratch109/malaria/rp7/data/pf3k/mrs_1/20160524_CallableLoci_16_MRS/scripts/CallableLoci_Pf3D7_14_v3_Pf3D7.sh\n",
      "Pf3D7_14_v3 /lustre/scratch108/parasites/tdo/Pfalciparum/PF3K/Reference12Genomes/Mapping_Illumina/Res.Pf7G8.bam Pf7G8\n",
      "/lustre/scratch109/malaria/rp7/data/pf3k/mrs_1/20160524_CallableLoci_16_MRS/scripts/CallableLoci_Pf3D7_14_v3_Pf7G8.sh\n",
      "Pf3D7_14_v3 /lustre/scratch108/parasites/tdo/Pfalciparum/PF3K/Reference12Genomes/Mapping_Illumina/Res.PfCD01.bam PfCD01\n",
      "/lustre/scratch109/malaria/rp7/data/pf3k/mrs_1/20160524_CallableLoci_16_MRS/scripts/CallableLoci_Pf3D7_14_v3_PfCD01.sh\n",
      "Pf3D7_14_v3 /lustre/scratch108/parasites/tdo/Pfalciparum/PF3K/Reference12Genomes/Mapping_Illumina/Res.PfDd2.bam PfDd2\n",
      "/lustre/scratch109/malaria/rp7/data/pf3k/mrs_1/20160524_CallableLoci_16_MRS/scripts/CallableLoci_Pf3D7_14_v3_PfDd2.sh\n",
      "Pf3D7_14_v3 /lustre/scratch108/parasites/tdo/Pfalciparum/PF3K/Reference12Genomes/Mapping_Illumina/Res.PfGA01.bam PfGA01\n",
      "/lustre/scratch109/malaria/rp7/data/pf3k/mrs_1/20160524_CallableLoci_16_MRS/scripts/CallableLoci_Pf3D7_14_v3_PfGA01.sh\n",
      "Pf3D7_14_v3 /lustre/scratch108/parasites/tdo/Pfalciparum/PF3K/Reference12Genomes/Mapping_Illumina/Res.PfGB4.bam PfGB4\n",
      "/lustre/scratch109/malaria/rp7/data/pf3k/mrs_1/20160524_CallableLoci_16_MRS/scripts/CallableLoci_Pf3D7_14_v3_PfGB4.sh\n",
      "Pf3D7_14_v3 /lustre/scratch108/parasites/tdo/Pfalciparum/PF3K/Reference12Genomes/Mapping_Illumina/Res.PfGN01.bam PfGN01\n",
      "/lustre/scratch109/malaria/rp7/data/pf3k/mrs_1/20160524_CallableLoci_16_MRS/scripts/CallableLoci_Pf3D7_14_v3_PfGN01.sh\n",
      "Pf3D7_14_v3 /lustre/scratch108/parasites/tdo/Pfalciparum/PF3K/Reference12Genomes/Mapping_Illumina/Res.PfHB3.bam PfHB3\n",
      "/lustre/scratch109/malaria/rp7/data/pf3k/mrs_1/20160524_CallableLoci_16_MRS/scripts/CallableLoci_Pf3D7_14_v3_PfHB3.sh\n",
      "Pf3D7_14_v3 /lustre/scratch108/parasites/tdo/Pfalciparum/PF3K/Reference12Genomes/Mapping_Illumina/Res.PFIT.bam PFIT\n",
      "/lustre/scratch109/malaria/rp7/data/pf3k/mrs_1/20160524_CallableLoci_16_MRS/scripts/CallableLoci_Pf3D7_14_v3_PFIT.sh\n",
      "Pf3D7_14_v3 /lustre/scratch108/parasites/tdo/Pfalciparum/PF3K/Reference12Genomes/Mapping_Illumina/Res.PFKE01.bam PFKE01\n",
      "/lustre/scratch109/malaria/rp7/data/pf3k/mrs_1/20160524_CallableLoci_16_MRS/scripts/CallableLoci_Pf3D7_14_v3_PFKE01.sh\n",
      "Pf3D7_14_v3 /lustre/scratch108/parasites/tdo/Pfalciparum/PF3K/Reference12Genomes/Mapping_Illumina/Res.PfKH01.bam PfKH01\n",
      "/lustre/scratch109/malaria/rp7/data/pf3k/mrs_1/20160524_CallableLoci_16_MRS/scripts/CallableLoci_Pf3D7_14_v3_PfKH01.sh\n",
      "Pf3D7_14_v3 /lustre/scratch108/parasites/tdo/Pfalciparum/PF3K/Reference12Genomes/Mapping_Illumina/Res.PfKH02.bam PfKH02\n",
      "/lustre/scratch109/malaria/rp7/data/pf3k/mrs_1/20160524_CallableLoci_16_MRS/scripts/CallableLoci_Pf3D7_14_v3_PfKH02.sh\n",
      "Pf3D7_14_v3 /lustre/scratch108/parasites/tdo/Pfalciparum/PF3K/Reference12Genomes/Mapping_Illumina/Res.PfML01.bam PfML01\n",
      "/lustre/scratch109/malaria/rp7/data/pf3k/mrs_1/20160524_CallableLoci_16_MRS/scripts/CallableLoci_Pf3D7_14_v3_PfML01.sh\n",
      "Pf3D7_14_v3 /lustre/scratch108/parasites/tdo/Pfalciparum/PF3K/Reference12Genomes/Mapping_Illumina/Res.PFSD01.bam PFSD01\n",
      "/lustre/scratch109/malaria/rp7/data/pf3k/mrs_1/20160524_CallableLoci_16_MRS/scripts/CallableLoci_Pf3D7_14_v3_PFSD01.sh\n",
      "Pf3D7_14_v3 /lustre/scratch108/parasites/tdo/Pfalciparum/PF3K/Reference12Genomes/Mapping_Illumina/Res.PfSN01.bam PfSN01\n",
      "/lustre/scratch109/malaria/rp7/data/pf3k/mrs_1/20160524_CallableLoci_16_MRS/scripts/CallableLoci_Pf3D7_14_v3_PfSN01.sh\n",
      "Pf3D7_14_v3 /lustre/scratch108/parasites/tdo/Pfalciparum/PF3K/Reference12Genomes/Mapping_Illumina/Res.PfTG01.bam PfTG01\n",
      "/lustre/scratch109/malaria/rp7/data/pf3k/mrs_1/20160524_CallableLoci_16_MRS/scripts/CallableLoci_Pf3D7_14_v3_PfTG01.sh\n"
     ]
    }
   ],
   "source": [
    "for chrom in chroms:\n",
    "    for bam_fn, sample in tbl_bams.data():\n",
    "        print(chrom, bam_fn, sample)\n",
    "        state_per_base_fn = \"%s/results/state_per_base_%s_%s.txt\" % (output_dir, chrom, sample)\n",
    "        state_only_fn = \"%s/results/state_only_%s_%s.txt\" % (output_dir, chrom, sample)\n",
    "        summary_fn = \"%s/results/summary_table_%s_%s.txt\" % (output_dir, chrom, sample)\n",
    "\n",
    "#         if not os.path.exists(state_per_base_fn):\n",
    "        if True:\n",
    "            script_fn = \"%s/scripts/CallableLoci_%s_%s.sh\" % (output_dir, chrom, sample)\n",
    "            fo = open(script_fn, 'w')\n",
    "            print(script_fn)\n",
    "            print('''\\\n",
    "%s \\\n",
    "-T CallableLoci \\\n",
    "-R %s \\\n",
    "-L %s \\\n",
    "-I %s \\\n",
    "--format STATE_PER_BASE \\\n",
    "-summary %s \\\n",
    "-o %s\n",
    "\n",
    "cut -f 4 %s > %s\n",
    "''' % (\n",
    "                    GenomeAnalysisTK,\n",
    "                    \"/nfs/pathogen003/tdo/Pfalciparum/3D7/Reference/Oct2011/Pf3D7_v3.fasta\",\n",
    "                    chrom,\n",
    "                    bam_fn,\n",
    "                    summary_fn,\n",
    "                    state_per_base_fn,\n",
    "                    state_per_base_fn,\n",
    "                    state_only_fn\n",
    "                ),\n",
    "                file = fo\n",
    "            )\n",
    "            fo.close()\n",
    "            st = os.stat(script_fn)\n",
    "            os.chmod(script_fn, st.st_mode | stat.S_IEXEC)\n",
    "            bsub(\n",
    "                '-G', 'malaria-dk',\n",
    "                '-P', 'malaria-dk',\n",
    "                '-q', 'normal',\n",
    "                '-o', '%s/logs/CL_%s_%s.out' % (output_dir, chrom, sample),\n",
    "                '-e', '%s/logs/CL_%s_%s.err' % (output_dir, chrom, sample),\n",
    "                '-J', 'CL_%s_%s' % (chrom, sample),\n",
    "                '-R', \"'select[mem>8000] rusage[mem=8000]'\",\n",
    "                '-M', '8000',\n",
    "                script_fn)\n"
   ]
  },
  {
   "cell_type": "code",
   "execution_count": 31,
   "metadata": {
    "collapsed": false
   },
   "outputs": [
    {
     "data": {
      "text/plain": [
       "1200490"
      ]
     },
     "execution_count": 31,
     "metadata": {},
     "output_type": "execute_result"
    }
   ],
   "source": [
    "len(genome_dict['Pf3D7_04_v3'])"
   ]
  },
  {
   "cell_type": "code",
   "execution_count": 29,
   "metadata": {
    "collapsed": false
   },
   "outputs": [
    {
     "name": "stdout",
     "output_type": "stream",
     "text": [
      "0 Pf3D7_04_v3 /lustre/scratch108/parasites/tdo/Pfalciparum/PF3K/Reference12Genomes/Mapping_Illumina/Res.Pf3D7.bam Pf3D7\n",
      "/lustre/scratch109/malaria/rp7/data/pf3k/mrs_1/20160524_CallableLoci_16_MRS/results/state_only_Pf3D7_04_v3_Pf3D7.txt (1203129,)\n"
     ]
    },
    {
     "ename": "ValueError",
     "evalue": "could not broadcast input array from shape (1203129) into shape (1200490)",
     "output_type": "error",
     "traceback": [
      "\u001b[1;31m---------------------------------------------------------------------------\u001b[0m",
      "\u001b[1;31mValueError\u001b[0m                                Traceback (most recent call last)",
      "\u001b[1;32m<ipython-input-29-ab8819dd4b83>\u001b[0m in \u001b[0;36m<module>\u001b[1;34m()\u001b[0m\n\u001b[0;32m      7\u001b[0m         \u001b[0mtemp_array\u001b[0m \u001b[1;33m=\u001b[0m \u001b[0mnp\u001b[0m\u001b[1;33m.\u001b[0m\u001b[0mloadtxt\u001b[0m\u001b[1;33m(\u001b[0m\u001b[0mstate_only_fn\u001b[0m\u001b[1;33m,\u001b[0m \u001b[0mdtype\u001b[0m\u001b[1;33m=\u001b[0m\u001b[1;34m'S30'\u001b[0m\u001b[1;33m)\u001b[0m\u001b[1;33m\u001b[0m\u001b[0m\n\u001b[0;32m      8\u001b[0m         \u001b[0mprint\u001b[0m\u001b[1;33m(\u001b[0m\u001b[0mstate_only_fn\u001b[0m\u001b[1;33m,\u001b[0m \u001b[0mtemp_array\u001b[0m\u001b[1;33m.\u001b[0m\u001b[0mshape\u001b[0m\u001b[1;33m)\u001b[0m\u001b[1;33m\u001b[0m\u001b[0m\n\u001b[1;32m----> 9\u001b[1;33m         \u001b[0mstate_matrix\u001b[0m\u001b[1;33m[\u001b[0m\u001b[0mchrom\u001b[0m\u001b[1;33m]\u001b[0m\u001b[1;33m[\u001b[0m\u001b[1;33m:\u001b[0m\u001b[1;33m,\u001b[0m\u001b[0mi\u001b[0m\u001b[1;33m]\u001b[0m \u001b[1;33m=\u001b[0m \u001b[1;33m(\u001b[0m\u001b[0mtemp_array\u001b[0m\u001b[1;33m==\u001b[0m\u001b[1;34mb'CALLABLE'\u001b[0m\u001b[1;33m)\u001b[0m\u001b[1;33m\u001b[0m\u001b[0m\n\u001b[0m\u001b[0;32m     10\u001b[0m \u001b[1;33m\u001b[0m\u001b[0m\n",
      "\u001b[1;31mValueError\u001b[0m: could not broadcast input array from shape (1203129) into shape (1200490)"
     ]
    }
   ],
   "source": [
    "state_matrix = collections.OrderedDict()\n",
    "for chrom in chroms:\n",
    "    state_matrix[chrom] = np.zeros((len(genome_dict[chrom]), 16), dtype='i1')\n",
    "    for i, (bam_fn, sample) in enumerate(tbl_bams.data()):\n",
    "        print(i, chrom, bam_fn, sample)\n",
    "        state_only_fn = \"%s/results/state_only_%s_%s.txt\" % (output_dir, chrom, sample)\n",
    "        temp_array = np.loadtxt(state_only_fn, dtype='S30')\n",
    "        print(state_only_fn, temp_array.shape)\n",
    "        state_matrix[chrom][:,i] = (temp_array==b'CALLABLE')\n",
    " "
   ]
  },
  {
   "cell_type": "code",
   "execution_count": 24,
   "metadata": {
    "collapsed": false
   },
   "outputs": [
    {
     "ename": "NameError",
     "evalue": "name 'temp_array' is not defined",
     "output_type": "error",
     "traceback": [
      "\u001b[1;31m---------------------------------------------------------------------------\u001b[0m",
      "\u001b[1;31mNameError\u001b[0m                                 Traceback (most recent call last)",
      "\u001b[1;32m<ipython-input-24-da36bda09f80>\u001b[0m in \u001b[0;36m<module>\u001b[1;34m()\u001b[0m\n\u001b[1;32m----> 1\u001b[1;33m \u001b[0mtemp_array\u001b[0m\u001b[1;33m\u001b[0m\u001b[0m\n\u001b[0m",
      "\u001b[1;31mNameError\u001b[0m: name 'temp_array' is not defined"
     ]
    }
   ],
   "source": [
    "state_matrix"
   ]
  },
  {
   "cell_type": "code",
   "execution_count": null,
   "metadata": {
    "collapsed": true
   },
   "outputs": [],
   "source": []
  }
 ],
 "metadata": {
  "kernelspec": {
   "display_name": "Python 3",
   "language": "python",
   "name": "python3"
  },
  "language_info": {
   "codemirror_mode": {
    "name": "ipython",
    "version": 3
   },
   "file_extension": ".py",
   "mimetype": "text/x-python",
   "name": "python",
   "nbconvert_exporter": "python",
   "pygments_lexer": "ipython3",
   "version": "3.4.3"
  }
 },
 "nbformat": 4,
 "nbformat_minor": 0
}
