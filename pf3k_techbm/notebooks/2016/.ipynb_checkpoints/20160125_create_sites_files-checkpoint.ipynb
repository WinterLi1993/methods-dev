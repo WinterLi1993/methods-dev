{
 "cells": [
  {
   "cell_type": "code",
   "execution_count": 1,
   "metadata": {
    "collapsed": false
   },
   "outputs": [
    {
     "name": "stdout",
     "output_type": "stream",
     "text": [
      "docker image: podpearson/biipy_rdp:latest\n"
     ]
    }
   ],
   "source": [
    "%run imports.ipynb\n",
    "%run _shared_setup.ipynb"
   ]
  },
  {
   "cell_type": "markdown",
   "metadata": {},
   "source": [
    "## Create sites only vcfs"
   ]
  },
  {
   "cell_type": "code",
   "execution_count": 2,
   "metadata": {
    "collapsed": false
   },
   "outputs": [],
   "source": [
    "for release in CHROM_VCF_FNS.keys():\n",
    "    output_dir = '%s/%s/sites/sites_only_vcfs' % (DATA_DIR, release)\n",
    "    if not os.path.exists(output_dir):\n",
    "        os.makedirs(output_dir)\n",
    "    for chrom in CHROM_VCF_FNS[release].keys():\n",
    "        input_vcf_fn = CHROM_VCF_FNS[release][chrom]\n",
    "        output_vcf_fn = '%s/%s_%s_sites.vcf.gz' % (output_dir, release, chrom)\n",
    "        if not os.path.exists(output_vcf_fn):\n",
    "            !bcftools view --drop-genotypes --output-type z --output-file {output_vcf_fn} {input_vcf_fn}\n"
   ]
  },
  {
   "cell_type": "markdown",
   "metadata": {},
   "source": [
    "## Merge sites only vcfs"
   ]
  },
  {
   "cell_type": "code",
   "execution_count": 3,
   "metadata": {
    "collapsed": false
   },
   "outputs": [],
   "source": [
    "for release in CHROM_VCF_FNS.keys():\n",
    "    output_dir = '%s/%s/sites/sites_only_vcfs' % (DATA_DIR, release)\n",
    "    input_files = ' '.join(\n",
    "        ['%s/%s_%s_sites.vcf.gz' % (output_dir, release, chrom) for chrom in CHROM_VCF_FNS[release].keys()]\n",
    "    )\n",
    "    output_vcf_fn = '%s/%s_%s_sites.vcf.gz' % (output_dir, release, 'WG')\n",
    "    if not os.path.exists(output_vcf_fn):\n",
    "        !bcftools concat --output-type z --output {output_vcf_fn} {input_files}\n",
    "        !bcftools index --tbi {output_vcf_fn}\n"
   ]
  },
  {
   "cell_type": "markdown",
   "metadata": {},
   "source": [
    "## Create npy sites files"
   ]
  },
  {
   "cell_type": "code",
   "execution_count": 10,
   "metadata": {
    "collapsed": false
   },
   "outputs": [
    {
     "name": "stdout",
     "output_type": "stream",
     "text": [
      "release3\n",
      "release4\n",
      "release4_5validation\n",
      "interim5\n"
     ]
    }
   ],
   "source": [
    "for release in WG_VCF_FNS.keys():\n",
    "    print(release)\n",
    "    output_dir = '%s/%s/sites/sites_only_vcfs' % (DATA_DIR, release)\n",
    "    if release == 'release3':\n",
    "        vcf_fn = WG_VCF_FNS['release3']\n",
    "    else:\n",
    "        vcf_fn = '%s/%s_%s_sites.vcf.gz' % (output_dir, release, 'WG')\n",
    "    vcfnp.variants(\n",
    "        vcf_fn,\n",
    "        dtypes={\n",
    "            'REF':                      'a10',\n",
    "            'ALT':                      'a10',\n",
    "            'RegionType':               'a25',\n",
    "            'VariantType':              'a40',\n",
    "            'RU':                       'a40',\n",
    "            'set':                      'a40',\n",
    "            'SNPEFF_AMINO_ACID_CHANGE': 'a20',\n",
    "            'SNPEFF_CODON_CHANGE':      'a20',\n",
    "            'SNPEFF_EFFECT':            'a33',\n",
    "            'SNPEFF_EXON_ID':            'a2',\n",
    "            'SNPEFF_FUNCTIONAL_CLASS':   'a8',\n",
    "            'SNPEFF_GENE_BIOTYPE':      'a14',\n",
    "            'SNPEFF_GENE_NAME':         'a20',\n",
    "            'SNPEFF_IMPACT':             'a8',\n",
    "            'SNPEFF_TRANSCRIPT_ID':     'a20',\n",
    "            'culprit':                  'a14',\n",
    "        },\n",
    "        arities={\n",
    "            'ALT':   6,\n",
    "            'AF':    6,\n",
    "            'AC':    6,\n",
    "            'MLEAF': 6,\n",
    "            'MLEAC': 6,\n",
    "            'RPA':   7,\n",
    "            'ANN':   1,\n",
    "        },\n",
    "        fills={\n",
    "            'VQSLOD': np.nan,\n",
    "            'QD': np.nan,\n",
    "            'MQ': np.nan,\n",
    "            'MQRankSum': np.nan,\n",
    "            'ReadPosRankSum': np.nan,\n",
    "            'FS': np.nan,\n",
    "            'SOR': np.nan,\n",
    "            'DP': np.nan,\n",
    "        },\n",
    "        flatten_filter=True,\n",
    "        verbose=False,\n",
    "        cache=True,\n",
    "        cachedir=output_dir\n",
    "    )\n"
   ]
  },
  {
   "cell_type": "code",
   "execution_count": null,
   "metadata": {
    "collapsed": true
   },
   "outputs": [],
   "source": []
  }
 ],
 "metadata": {
  "kernelspec": {
   "display_name": "Python 3",
   "language": "python",
   "name": "python3"
  },
  "language_info": {
   "codemirror_mode": {
    "name": "ipython",
    "version": 3
   },
   "file_extension": ".py",
   "mimetype": "text/x-python",
   "name": "python",
   "nbconvert_exporter": "python",
   "pygments_lexer": "ipython3",
   "version": "3.5.0+"
  }
 },
 "nbformat": 4,
 "nbformat_minor": 0
}
