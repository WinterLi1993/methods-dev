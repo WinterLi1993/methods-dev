{
 "metadata": {
  "name": "",
  "signature": "sha256:0f6984f9cea9ab5b2b1b5193ff061984dd6221ac4262482bb00093d584c72eeb"
 },
 "nbformat": 3,
 "nbformat_minor": 0,
 "worksheets": [
  {
   "cells": [
    {
     "cell_type": "heading",
     "level": 1,
     "metadata": {},
     "source": [
      "Setup"
     ]
    },
    {
     "cell_type": "code",
     "collapsed": false,
     "input": [
      "%run _shared_setup.ipynb"
     ],
     "language": "python",
     "metadata": {},
     "outputs": [
      {
       "output_type": "stream",
       "stream": "stdout",
       "text": [
        "python 3.4.1 |Anaconda 2.1.0 (x86_64)| (default, Sep 10 2014, 17:24:09) \n",
        "[GCC 4.2.1 (Apple Inc. build 5577)]\n",
        "numpy 1.9.2\n",
        "scipy 0.14.0\n",
        "pandas 0.14.1\n",
        "numexpr 2.3.1\n",
        "pysam 0.8.3\n",
        "petl 1.0.10\n",
        "petlx 1.0.3\n",
        "vcf 0.6.7\n",
        "h5py 2.3.1\n",
        "tables 3.1.1\n",
        "vcfplt 0.8\n",
        "mkdir: /nfs/team112_internal/production_files/Pf3k/methods/assembled_samples: File exists\r\n"
       ]
      },
      {
       "output_type": "stream",
       "stream": "stdout",
       "text": [
        "tbl_pgv_metadata length = 5729\n",
        "tbl_pgv_locations length = 102\n",
        "tbl_pf3k_metadata length = 2512\n",
        "tbl_pf_solaris length = 10879"
       ]
      },
      {
       "output_type": "stream",
       "stream": "stdout",
       "text": [
        "\n",
        "tbl_assembled_samples length = 11\n"
       ]
      }
     ],
     "prompt_number": 1
    },
    {
     "cell_type": "code",
     "collapsed": false,
     "input": [
      "crosses_dir = '/data/plasmodium/pfalciparum/pf-crosses/data/public/1.0'\n",
      "!mkdir -p {crosses_dir}"
     ],
     "language": "python",
     "metadata": {},
     "outputs": [],
     "prompt_number": 3
    },
    {
     "cell_type": "heading",
     "level": 1,
     "metadata": {},
     "source": [
      "Transfer data"
     ]
    },
    {
     "cell_type": "code",
     "collapsed": false,
     "input": [
      "!rsync -avL oscar.well.ox.ac.uk:{crosses_dir}/*combined* {crosses_dir}\n"
     ],
     "language": "python",
     "metadata": {},
     "outputs": [
      {
       "output_type": "stream",
       "stream": "stdout",
       "text": [
        "receiving file list ... done\r\n"
       ]
      },
      {
       "output_type": "stream",
       "stream": "stdout",
       "text": [
        "3d7_hb3.combined.final.npz\r\n"
       ]
      },
      {
       "output_type": "stream",
       "stream": "stdout",
       "text": [
        "3d7_hb3.combined.final.npz.md5\r\n",
        "3d7_hb3.combined.final.vcf.gz\r\n"
       ]
      },
      {
       "output_type": "stream",
       "stream": "stdout",
       "text": [
        "3d7_hb3.combined.final.vcf.gz.md5\r\n",
        "3d7_hb3.combined.final.vcf.gz.tbi\r\n",
        "7g8_gb4.combined.final.npz\r\n"
       ]
      },
      {
       "output_type": "stream",
       "stream": "stdout",
       "text": [
        "7g8_gb4.combined.final.npz.md5\r\n",
        "7g8_gb4.combined.final.vcf.gz\r\n"
       ]
      },
      {
       "output_type": "stream",
       "stream": "stdout",
       "text": [
        "7g8_gb4.combined.final.vcf.gz.md5\r\n",
        "7g8_gb4.combined.final.vcf.gz.tbi\r\n",
        "hb3_dd2.combined.final.npz\r\n"
       ]
      },
      {
       "output_type": "stream",
       "stream": "stdout",
       "text": [
        "hb3_dd2.combined.final.npz.md5\r\n",
        "hb3_dd2.combined.final.vcf.gz\r\n"
       ]
      },
      {
       "output_type": "stream",
       "stream": "stdout",
       "text": [
        "hb3_dd2.combined.final.vcf.gz.md5\r\n",
        "hb3_dd2.combined.final.vcf.gz.tbi\r\n",
        "\r\n",
        "sent 350 bytes  received 80869352 bytes  1859073.61 bytes/sec\r\n",
        "total size is 80858452  speedup is 1.00\r\n"
       ]
      }
     ],
     "prompt_number": 4
    },
    {
     "cell_type": "code",
     "collapsed": false,
     "input": [],
     "language": "python",
     "metadata": {},
     "outputs": []
    }
   ],
   "metadata": {}
  }
 ]
}