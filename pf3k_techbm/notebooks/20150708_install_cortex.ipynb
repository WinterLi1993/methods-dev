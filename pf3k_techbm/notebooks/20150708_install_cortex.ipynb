{
 "metadata": {
  "name": "",
  "signature": "sha256:dc4cf613f445f77789fa0de13bb3c913b9672f3da502ccaf5f9d9f3182dbaf95"
 },
 "nbformat": 3,
 "nbformat_minor": 0,
 "worksheets": [
  {
   "cells": [
    {
     "cell_type": "markdown",
     "metadata": {},
     "source": [
      "# Downloads\n",
      "First download latest version (3.4-0) from http://downloads.sourceforge.net/project/cortexassembler/cortex_var/latest/CORTEX_release_v1.0.5.21.tgz\n"
     ]
    },
    {
     "cell_type": "code",
     "collapsed": false,
     "input": [
      "profile_fn = '~/.profile'\n",
      "\n",
      "install_dir = '../opt'\n",
      "\n",
      "cortex_dir = install_dir + '/cortex'\n",
      "!mkdir -p {cortex_dir}\n",
      "cortex_exe = cortex_dir + '/???'\n"
     ],
     "language": "python",
     "metadata": {},
     "outputs": [],
     "prompt_number": 1
    },
    {
     "cell_type": "code",
     "collapsed": false,
     "input": [
      "current_dir = !pwd\n",
      "current_dir = current_dir[0]"
     ],
     "language": "python",
     "metadata": {},
     "outputs": [],
     "prompt_number": 2
    },
    {
     "cell_type": "code",
     "collapsed": false,
     "input": [
      "current_dir"
     ],
     "language": "python",
     "metadata": {},
     "outputs": [
      {
       "metadata": {},
       "output_type": "pyout",
       "prompt_number": 3,
       "text": [
        "'/Users/rpearson/src/github/malariagen/methods-dev/pf3k_techbm/notebooks'"
       ]
      }
     ],
     "prompt_number": 3
    },
    {
     "cell_type": "heading",
     "level": 1,
     "metadata": {},
     "source": [
      "Install Cortex"
     ]
    },
    {
     "cell_type": "code",
     "collapsed": false,
     "input": [
      "!cp ~/Downloads/CORTEX_release_v1.0.5.21.tgz {cortex_dir}"
     ],
     "language": "python",
     "metadata": {},
     "outputs": [],
     "prompt_number": 4
    },
    {
     "cell_type": "code",
     "collapsed": false,
     "input": [
      "%cd {cortex_dir}\n",
      "!tar -xvf CORTEX_release_v1.0.5.21.tgz 2> /dev/null"
     ],
     "language": "python",
     "metadata": {},
     "outputs": [
      {
       "output_type": "stream",
       "stream": "stdout",
       "text": [
        "/Users/rpearson/src/github/malariagen/methods-dev/pf3k_techbm/opt/cortex\n"
       ]
      }
     ],
     "prompt_number": 5
    },
    {
     "cell_type": "code",
     "collapsed": false,
     "input": [
      "%cd CORTEX_release_v1.0.5.21\n",
      "!bash install.sh\n",
      "!make cortex_var"
     ],
     "language": "python",
     "metadata": {},
     "outputs": [
      {
       "output_type": "stream",
       "stream": "stdout",
       "text": [
        "/Users/rpearson/src/github/malariagen/methods-dev/pf3k_techbm/opt/cortex/CORTEX_release_v1.0.5.21\n",
        "rm -fr gmon.out *.o a.out *.dSYM *~ htscmd; cd htslib; /Applications/Xcode.app/Contents/Developer/usr/bin/make clean; cd ..\r\n"
       ]
      },
      {
       "output_type": "stream",
       "stream": "stdout",
       "text": [
        "rm -fr gmon.out *.o a.out *.dSYM *~ *.a *.so *.dylib\r\n",
        "cd htslib; /Applications/Xcode.app/Contents/Developer/usr/bin/make CC=\"gcc\" CFLAGS=\"-g -Wall -Wc++-compat -O2\" libhts.a || exit 1; cd ..\r\n",
        "gcc -c -g -Wall -Wc++-compat -O2   knetfile.c -o knetfile.o\r\n"
       ]
      },
      {
       "output_type": "stream",
       "stream": "stdout",
       "text": [
        "gcc -c -g -Wall -Wc++-compat -O2  -D_USE_KNETFILE -DBGZF_MT -DBGZF_CACHE  bgzf.c -o bgzf.o\r\n"
       ]
      },
      {
       "output_type": "stream",
       "stream": "stdout",
       "text": [
        "gcc -c -g -Wall -Wc++-compat -O2   hts.c -o hts.o\r\n"
       ]
      },
      {
       "output_type": "stream",
       "stream": "stdout",
       "text": [
        "gcc -c -g -Wall -Wc++-compat -O2   vcf.c -o vcf.o\r\n"
       ]
      },
      {
       "output_type": "stream",
       "stream": "stdout",
       "text": [
        "\u001b[01m\u001b[Kvcf.c:\u001b[m\u001b[K In function '\u001b[01m\u001b[Kbcf_hdr_parse_sample_line\u001b[m\u001b[K':\r\n",
        "\u001b[01m\u001b[Kvcf.c:128:14:\u001b[m\u001b[K \u001b[01;35m\u001b[Kwarning: \u001b[m\u001b[Kvariable '\u001b[01m\u001b[Kd\u001b[m\u001b[K' set but not used [-Wunused-but-set-variable]\r\n",
        "     vdict_t *d = (vdict_t*)h->dict[BCF_DT_ID];\r\n",
        "\u001b[01;32m\u001b[K              ^\u001b[m\u001b[K\r\n",
        "\u001b[01m\u001b[Kvcf.c:\u001b[m\u001b[K In function '\u001b[01m\u001b[Kvcf_format1\u001b[m\u001b[K':\r\n",
        "\u001b[01m\u001b[Kvcf.c:1258:11:\u001b[m\u001b[K \u001b[01;35m\u001b[Kwarning: \u001b[m\u001b[Kvariable '\u001b[01m\u001b[Kptr\u001b[m\u001b[K' set but not used [-Wunused-but-set-variable]\r\n",
        "  uint8_t *ptr = (uint8_t*)v->shared.s;\r\n",
        "\u001b[01;32m\u001b[K           ^\u001b[m\u001b[K\r\n"
       ]
      },
      {
       "output_type": "stream",
       "stream": "stdout",
       "text": [
        "gcc -c -g -Wall -Wc++-compat -O2   sam.c -o sam.o\r\n"
       ]
      },
      {
       "output_type": "stream",
       "stream": "stdout",
       "text": [
        "gcc -c -g -Wall -Wc++-compat -O2   tbx.c -o tbx.o\r\n"
       ]
      },
      {
       "output_type": "stream",
       "stream": "stdout",
       "text": [
        "gcc -c -g -Wall -Wc++-compat -O2   synced_bcf_reader.c -o synced_bcf_reader.o\r\n"
       ]
      },
      {
       "output_type": "stream",
       "stream": "stdout",
       "text": [
        "gcc -c -g -Wall -Wc++-compat -O2   vcfutils.c -o vcfutils.o\r\n"
       ]
      },
      {
       "output_type": "stream",
       "stream": "stdout",
       "text": [
        "ar -csru libhts.a knetfile.o bgzf.o hts.o vcf.o sam.o tbx.o synced_bcf_reader.o vcfutils.o\r\n"
       ]
      },
      {
       "output_type": "stream",
       "stream": "stdout",
       "text": [
        "gcc -c -g -Wall -Wc++-compat -O2  -Ihtslib main.c -o main.o\r\n"
       ]
      },
      {
       "output_type": "stream",
       "stream": "stdout",
       "text": [
        "gcc -c -g -Wall -Wc++-compat -O2  -Ihtslib samview.c -o samview.o\r\n"
       ]
      },
      {
       "output_type": "stream",
       "stream": "stdout",
       "text": [
        "gcc -c -g -Wall -Wc++-compat -O2  -Ihtslib vcfview.c -o vcfview.o\r\n"
       ]
      },
      {
       "output_type": "stream",
       "stream": "stdout",
       "text": [
        "gcc -c -g -Wall -Wc++-compat -O2  -Ihtslib bamidx.c -o bamidx.o\r\n"
       ]
      },
      {
       "output_type": "stream",
       "stream": "stdout",
       "text": [
        "gcc -c -g -Wall -Wc++-compat -O2  -Ihtslib bcfidx.c -o bcfidx.o\r\n"
       ]
      },
      {
       "output_type": "stream",
       "stream": "stdout",
       "text": [
        "gcc -c -g -Wall -Wc++-compat -O2  -Ihtslib bamshuf.c -o bamshuf.o\r\n"
       ]
      },
      {
       "output_type": "stream",
       "stream": "stdout",
       "text": [
        "In file included from \u001b[01m\u001b[Kbamshuf.c:7:0\u001b[m\u001b[K:\r\n",
        "\u001b[01m\u001b[Kbamshuf.c:47:29:\u001b[m\u001b[K \u001b[01;35m\u001b[Kwarning: \u001b[m\u001b[K'\u001b[01m\u001b[Kelem_lt\u001b[m\u001b[K' is static but used in inline function '\u001b[01m\u001b[K__ks_insertsort_bamshuf\u001b[m\u001b[K' which is not static\r\n",
        " KSORT_INIT(bamshuf, elem_t, elem_lt)\r\n",
        "\u001b[01;32m\u001b[K                             ^\u001b[m\u001b[K\r\n",
        "\u001b[01m\u001b[Khtslib/ksort.h:46:25:\u001b[m\u001b[K \u001b[01;36m\u001b[Knote: \u001b[m\u001b[Kin definition of macro '\u001b[01m\u001b[KKSORT_INIT\u001b[m\u001b[K'\r\n",
        "    for (j = i; j > s && __sort_lt(*j, *(j-1)); --j) {   \\\r\n",
        "\u001b[01;32m\u001b[K                         ^\u001b[m\u001b[K\r\n"
       ]
      },
      {
       "output_type": "stream",
       "stream": "stdout",
       "text": [
        "gcc -c -g -Wall -Wc++-compat -O2  -Ihtslib bam2fq.c -o bam2fq.o\r\n"
       ]
      },
      {
       "output_type": "stream",
       "stream": "stdout",
       "text": [
        "gcc -c -g -Wall -Wc++-compat -O2  -Ihtslib tabix.c -o tabix.o\r\n"
       ]
      },
      {
       "output_type": "stream",
       "stream": "stdout",
       "text": [
        "gcc -c -g -Wall -Wc++-compat -O2  -Ihtslib abreak.c -o abreak.o\r\n"
       ]
      },
      {
       "output_type": "stream",
       "stream": "stdout",
       "text": [
        "gcc -c -g -Wall -Wc++-compat -O2  -Ihtslib bam2bed.c -o bam2bed.o\r\n"
       ]
      },
      {
       "output_type": "stream",
       "stream": "stdout",
       "text": [
        "gcc -c -g -Wall -Wc++-compat -O2  -Ihtslib vcfcheck.c -o vcfcheck.o\r\n"
       ]
      },
      {
       "output_type": "stream",
       "stream": "stdout",
       "text": [
        "\u001b[01m\u001b[Kvcfcheck.c:\u001b[m\u001b[K In function '\u001b[01m\u001b[Kprint_stats\u001b[m\u001b[K':\r\n",
        "\u001b[01m\u001b[Kvcfcheck.c:688:24:\u001b[m\u001b[K \u001b[01;35m\u001b[Kwarning: \u001b[m\u001b[Kformat '\u001b[01m\u001b[K%ld\u001b[m\u001b[K' expects argument of type '\u001b[01m\u001b[Klong int\u001b[m\u001b[K', but argument 2 has type '\u001b[01m\u001b[Kuint64_t {aka long long unsigned int}\u001b[m\u001b[K' [-Wformat=]\r\n",
        "                 printf(\"\\t%ld\\t%f\\n\", stats->dp.vals[i], stats->dp.vals[i]*100./sum);\r\n",
        "\u001b[01;32m\u001b[K                        ^\u001b[m\u001b[K\r\n",
        "\u001b[01m\u001b[Kvcfcheck.c:688:24:\u001b[m\u001b[K \u001b[01;35m\u001b[Kwarning: \u001b[m\u001b[Kformat '\u001b[01m\u001b[K%ld\u001b[m\u001b[K' expects argument of type '\u001b[01m\u001b[Klong int\u001b[m\u001b[K', but argument 2 has type '\u001b[01m\u001b[Kuint64_t {aka long long unsigned int}\u001b[m\u001b[K' [-Wformat=]\r\n",
        "In file included from \u001b[01m\u001b[Kvcfcheck.c:7:0\u001b[m\u001b[K:\r\n",
        "\u001b[01m\u001b[Kvcfcheck.c:\u001b[m\u001b[K At top level:\r\n",
        "\u001b[01m\u001b[Khtslib/vcfutils.h:75:12:\u001b[m\u001b[K \u001b[01;35m\u001b[Kwarning: \u001b[m\u001b[Kinline function '\u001b[01m\u001b[Kgt_type\u001b[m\u001b[K' declared but never defined\r\n",
        " inline int gt_type(bcf_fmt_t *fmt_ptr, int isample, int *ial);\r\n",
        "\u001b[01;32m\u001b[K            ^\u001b[m\u001b[K\r\n"
       ]
      },
      {
       "output_type": "stream",
       "stream": "stdout",
       "text": [
        "gcc -c -g -Wall -Wc++-compat -O2  -Ihtslib vcfisec.c -o vcfisec.o\r\n"
       ]
      },
      {
       "output_type": "stream",
       "stream": "stdout",
       "text": [
        "In file included from \u001b[01m\u001b[Kvcfisec.c:11:0\u001b[m\u001b[K:\r\n",
        "\u001b[01m\u001b[Khtslib/vcfutils.h:75:12:\u001b[m\u001b[K \u001b[01;35m\u001b[Kwarning: \u001b[m\u001b[Kinline function '\u001b[01m\u001b[Kgt_type\u001b[m\u001b[K' declared but never defined\r\n",
        " inline int gt_type(bcf_fmt_t *fmt_ptr, int isample, int *ial);\r\n",
        "\u001b[01;32m\u001b[K            ^\u001b[m\u001b[K\r\n"
       ]
      },
      {
       "output_type": "stream",
       "stream": "stdout",
       "text": [
        "gcc -c -g -Wall -Wc++-compat -O2  -Ihtslib vcfmerge.c -o vcfmerge.o\r\n"
       ]
      },
      {
       "output_type": "stream",
       "stream": "stdout",
       "text": [
        "In file included from \u001b[01m\u001b[Kvcfmerge.c:6:0\u001b[m\u001b[K:\r\n",
        "\u001b[01m\u001b[Khtslib/vcfutils.h:75:12:\u001b[m\u001b[K \u001b[01;35m\u001b[Kwarning: \u001b[m\u001b[Kinline function '\u001b[01m\u001b[Kgt_type\u001b[m\u001b[K' declared but never defined\r\n",
        " inline int gt_type(bcf_fmt_t *fmt_ptr, int isample, int *ial);\r\n",
        "\u001b[01;32m\u001b[K            ^\u001b[m\u001b[K\r\n"
       ]
      },
      {
       "output_type": "stream",
       "stream": "stdout",
       "text": [
        "gcc -g -Wall -Wc++-compat -O2 -o htscmd main.o samview.o vcfview.o bamidx.o bcfidx.o bamshuf.o bam2fq.o tabix.o abreak.o bam2bed.o vcfcheck.o vcfisec.o vcfmerge.o -Lhtslib -lhts -lpthread -lz -lm\r\n"
       ]
      },
      {
       "output_type": "stream",
       "stream": "stdout",
       "text": [
        "Undefined symbols for architecture x86_64:\r\n",
        "  \"_gt_type\", referenced from:\r\n",
        "      _do_sample_stats in vcfcheck.o\r\n",
        "ld: symbol(s) not found for architecture x86_64\r\n",
        "collect2: error: ld returned 1 exit status\r\n",
        "make: *** [htscmd] Error 1\r\n"
       ]
      },
      {
       "output_type": "stream",
       "stream": "stdout",
       "text": [
        "Making clean in doc\r\n",
        "test -z \"gsl-ref.dvi gsl-ref.pdf gsl-ref.ps gsl-ref.html\" \\\r\n",
        "\t|| rm -rf gsl-ref.dvi gsl-ref.pdf gsl-ref.ps gsl-ref.html\r\n"
       ]
      },
      {
       "output_type": "stream",
       "stream": "stdout",
       "text": [
        "rm -rf .libs _libs\r\n",
        "rm -rf gsl-ref.aux gsl-ref.cp gsl-ref.cps gsl-ref.fn gsl-ref.fns \\\r\n",
        "\t  gsl-ref.ky gsl-ref.kys gsl-ref.log gsl-ref.pg gsl-ref.pgs \\\r\n",
        "\t  gsl-ref.tmp gsl-ref.toc gsl-ref.tp gsl-ref.tps gsl-ref.vr \\\r\n",
        "\t  gsl-ref.vrs\r\n",
        "rm -f *.lo\r\n",
        "rm -f vti.tmp\r\n",
        "Making clean in bspline\r\n"
       ]
      },
      {
       "output_type": "stream",
       "stream": "stdout",
       "text": [
        " rm -f test\r\n",
        "rm -rf .libs _libs\r\n"
       ]
      },
      {
       "output_type": "stream",
       "stream": "stdout",
       "text": [
        "test -z \"libgslbspline.la \" || rm -f libgslbspline.la \r\n",
        "rm -f \"./so_locations\"\r\n",
        "rm -f *.o\r\n",
        "rm -f *.lo\r\n",
        "Making clean in wavelet\r\n"
       ]
      },
      {
       "output_type": "stream",
       "stream": "stdout",
       "text": [
        " rm -f test\r\n",
        "rm -rf .libs _libs\r\n",
        "test -z \"libgslwavelet.la \" || rm -f libgslwavelet.la \r\n"
       ]
      },
      {
       "output_type": "stream",
       "stream": "stdout",
       "text": [
        "rm -f \"./so_locations\"\r\n",
        "rm -f *.o\r\n",
        "rm -f *.lo\r\n",
        "Making clean in cdf\r\n"
       ]
      },
      {
       "output_type": "stream",
       "stream": "stdout",
       "text": [
        " rm -f test\r\n",
        "rm -rf .libs _libs\r\n"
       ]
      },
      {
       "output_type": "stream",
       "stream": "stdout",
       "text": [
        "test -z \"libgslcdf.la\" || rm -f libgslcdf.la\r\n",
        "rm -f \"./so_locations\"\r\n",
        "rm -f *.o\r\n",
        "rm -f *.lo\r\n",
        "Making clean in deriv\r\n"
       ]
      },
      {
       "output_type": "stream",
       "stream": "stdout",
       "text": [
        " rm -f test\r\n",
        "rm -rf .libs _libs\r\n",
        "test -z \"libgslderiv.la\" || rm -f libgslderiv.la\r\n",
        "rm -f \"./so_locations\"\r\n",
        "rm -f *.o\r\n",
        "rm -f *.lo\r\n",
        "Making clean in diff\r\n"
       ]
      },
      {
       "output_type": "stream",
       "stream": "stdout",
       "text": [
        " rm -f test\r\n",
        "rm -rf .libs _libs\r\n",
        "test -z \"libgsldiff.la\" || rm -f libgsldiff.la\r\n",
        "rm -f \"./so_locations\"\r\n",
        "rm -f *.o\r\n",
        "rm -f *.lo\r\n",
        "Making clean in ntuple\r\n",
        " rm -f test\r\n",
        "test -z \"test.dat\" || rm -f test.dat\r\n"
       ]
      },
      {
       "output_type": "stream",
       "stream": "stdout",
       "text": [
        "rm -rf .libs _libs\r\n",
        "test -z \"libgslntuple.la\" || rm -f libgslntuple.la\r\n",
        "rm -f \"./so_locations\"\r\n",
        "rm -f *.o\r\n",
        "rm -f *.lo\r\n",
        "Making clean in monte\r\n"
       ]
      },
      {
       "output_type": "stream",
       "stream": "stdout",
       "text": [
        " rm -f test\r\n",
        "rm -rf .libs _libs\r\n",
        "test -z \"libgslmonte.la \" || rm -f libgslmonte.la \r\n",
        "rm -f \"./so_locations\"\r\n",
        "rm -f *.o\r\n",
        "rm -f *.lo\r\n",
        "Making clean in multimin\r\n"
       ]
      },
      {
       "output_type": "stream",
       "stream": "stdout",
       "text": [
        " rm -f test\r\n"
       ]
      },
      {
       "output_type": "stream",
       "stream": "stdout",
       "text": [
        "rm -rf .libs _libs\r\n",
        "test -z \"libgslmultimin.la \" || rm -f libgslmultimin.la \r\n",
        "rm -f \"./so_locations\"\r\n",
        "rm -f *.o\r\n",
        "rm -f *.lo\r\n",
        "Making clean in min\r\n"
       ]
      },
      {
       "output_type": "stream",
       "stream": "stdout",
       "text": [
        " rm -f test\r\n",
        "rm -rf .libs _libs\r\n",
        "test -z \"libgslmin.la \" || rm -f libgslmin.la \r\n"
       ]
      },
      {
       "output_type": "stream",
       "stream": "stdout",
       "text": [
        "rm -f \"./so_locations\"\r\n",
        "rm -f *.o\r\n",
        "rm -f *.lo\r\n",
        "Making clean in multiroots\r\n"
       ]
      },
      {
       "output_type": "stream",
       "stream": "stdout",
       "text": [
        " rm -f test\r\n",
        "rm -rf .libs _libs\r\n",
        "test -z \"libgslmultiroots.la \" || rm -f libgslmultiroots.la \r\n",
        "rm -f \"./so_locations\"\r\n",
        "rm -f *.o\r\n"
       ]
      },
      {
       "output_type": "stream",
       "stream": "stdout",
       "text": [
        "rm -f *.lo\r\n",
        "Making clean in roots\r\n"
       ]
      },
      {
       "output_type": "stream",
       "stream": "stdout",
       "text": [
        " rm -f test\r\n",
        "rm -rf .libs _libs\r\n",
        "test -z \"libgslroots.la \" || rm -f libgslroots.la \r\n",
        "rm -f \"./so_locations\"\r\n",
        "rm -f *.o\r\n",
        "rm -f *.lo\r\n",
        "Making clean in ode-initval2\r\n"
       ]
      },
      {
       "output_type": "stream",
       "stream": "stdout",
       "text": [
        " rm -f test\r\n",
        "rm -rf .libs _libs\r\n",
        "test -z \"libgslodeiv2.la \" || rm -f libgslodeiv2.la \r\n",
        "rm -f \"./so_locations\"\r\n",
        "rm -f *.o\r\n",
        "rm -f *.lo\r\n",
        "Making clean in ode-initval\r\n"
       ]
      },
      {
       "output_type": "stream",
       "stream": "stdout",
       "text": [
        " rm -f test\r\n",
        "rm -rf .libs _libs\r\n"
       ]
      },
      {
       "output_type": "stream",
       "stream": "stdout",
       "text": [
        "test -z \"libgslodeiv.la \" || rm -f libgslodeiv.la \r\n",
        "rm -f \"./so_locations\"\r\n",
        "rm -f *.o\r\n",
        "rm -f *.lo\r\n",
        "Making clean in histogram\r\n"
       ]
      },
      {
       "output_type": "stream",
       "stream": "stdout",
       "text": [
        " rm -f test\r\n",
        "test -z \"test.txt test.dat\" || rm -f test.txt test.dat\r\n",
        "rm -rf .libs _libs\r\n"
       ]
      },
      {
       "output_type": "stream",
       "stream": "stdout",
       "text": [
        "test -z \"libgslhistogram.la \" || rm -f libgslhistogram.la \r\n",
        "rm -f \"./so_locations\"\r\n",
        "rm -f *.o\r\n"
       ]
      },
      {
       "output_type": "stream",
       "stream": "stdout",
       "text": [
        "rm -f *.lo\r\n",
        "Making clean in interpolation\r\n"
       ]
      },
      {
       "output_type": "stream",
       "stream": "stdout",
       "text": [
        " rm -f test\r\n",
        "rm -rf .libs _libs\r\n"
       ]
      },
      {
       "output_type": "stream",
       "stream": "stdout",
       "text": [
        "test -z \"libgslinterpolation.la \" || rm -f libgslinterpolation.la \r\n",
        "rm -f \"./so_locations\"\r\n",
        "rm -f *.o\r\n",
        "rm -f *.lo\r\n",
        "Making clean in integration\r\n"
       ]
      },
      {
       "output_type": "stream",
       "stream": "stdout",
       "text": [
        " rm -f test\r\n",
        "rm -rf .libs _libs\r\n",
        "test -z \"libgslintegration.la\" || rm -f libgslintegration.la\r\n"
       ]
      },
      {
       "output_type": "stream",
       "stream": "stdout",
       "text": [
        "rm -f \"./so_locations\"\r\n",
        "rm -f *.o\r\n",
        "rm -f *.lo\r\n",
        "Making clean in sum\r\n"
       ]
      },
      {
       "output_type": "stream",
       "stream": "stdout",
       "text": [
        " rm -f test\r\n",
        "rm -rf .libs _libs\r\n",
        "test -z \"libgslsum.la \" || rm -f libgslsum.la \r\n"
       ]
      },
      {
       "output_type": "stream",
       "stream": "stdout",
       "text": [
        "rm -f \"./so_locations\"\r\n",
        "rm -f *.o\r\n",
        "rm -f *.lo\r\n",
        "Making clean in siman\r\n"
       ]
      },
      {
       "output_type": "stream",
       "stream": "stdout",
       "text": [
        " rm -f test\r\n",
        "test -z \"siman_test.out\" || rm -f siman_test.out\r\n",
        "rm -rf .libs _libs\r\n",
        "test -z \"libgslsiman.la\" || rm -f libgslsiman.la\r\n",
        "rm -f \"./so_locations\"\r\n"
       ]
      },
      {
       "output_type": "stream",
       "stream": "stdout",
       "text": [
        " rm -f siman_tsp\r\n",
        "rm -f *.o\r\n",
        "rm -f *.lo\r\n",
        "Making clean in statistics\r\n"
       ]
      },
      {
       "output_type": "stream",
       "stream": "stdout",
       "text": [
        " rm -f test\r\n",
        "rm -rf .libs _libs\r\n",
        "test -z \"libgslstatistics.la\" || rm -f libgslstatistics.la\r\n",
        "rm -f \"./so_locations\"\r\n",
        "rm -f *.o\r\n",
        "rm -f *.lo\r\n",
        "Making clean in multifit\r\n"
       ]
      },
      {
       "output_type": "stream",
       "stream": "stdout",
       "text": [
        " rm -f test\r\n"
       ]
      },
      {
       "output_type": "stream",
       "stream": "stdout",
       "text": [
        "rm -rf .libs _libs\r\n",
        "test -z \"libgslmultifit.la \" || rm -f libgslmultifit.la \r\n",
        "rm -f \"./so_locations\"\r\n",
        "rm -f *.o\r\n",
        "rm -f *.lo\r\n",
        "Making clean in fit\r\n"
       ]
      },
      {
       "output_type": "stream",
       "stream": "stdout",
       "text": [
        " rm -f test\r\n",
        "rm -rf .libs _libs\r\n",
        "test -z \"libgslfit.la \" || rm -f libgslfit.la \r\n",
        "rm -f \"./so_locations\"\r\n",
        "rm -f *.o\r\n"
       ]
      },
      {
       "output_type": "stream",
       "stream": "stdout",
       "text": [
        "rm -f *.lo\r\n",
        "Making clean in poly\r\n"
       ]
      },
      {
       "output_type": "stream",
       "stream": "stdout",
       "text": [
        " rm -f test\r\n",
        "rm -rf .libs _libs\r\n",
        "test -z \"libgslpoly.la \" || rm -f libgslpoly.la \r\n",
        "rm -f \"./so_locations\"\r\n",
        "rm -f *.o\r\n"
       ]
      },
      {
       "output_type": "stream",
       "stream": "stdout",
       "text": [
        "rm -f *.lo\r\n",
        "Making clean in fft\r\n",
        " rm -f test\r\n",
        "rm -rf .libs _libs\r\n"
       ]
      },
      {
       "output_type": "stream",
       "stream": "stdout",
       "text": [
        "test -z \"libgslfft.la \" || rm -f libgslfft.la \r\n",
        "rm -f \"./so_locations\"\r\n",
        "rm -f *.o\r\n",
        "rm -f *.lo\r\n",
        "Making clean in randist\r\n"
       ]
      },
      {
       "output_type": "stream",
       "stream": "stdout",
       "text": [
        " rm -f test\r\n",
        "rm -rf .libs _libs\r\n",
        "test -z \"libgslrandist.la\" || rm -f libgslrandist.la\r\n",
        "rm -f \"./so_locations\"\r\n",
        "rm -f *.o\r\n",
        "rm -f *.lo\r\n",
        "Making clean in rng\r\n"
       ]
      },
      {
       "output_type": "stream",
       "stream": "stdout",
       "text": [
        " rm -f test\r\n",
        "test -z \"test.dat\" || rm -f test.dat\r\n"
       ]
      },
      {
       "output_type": "stream",
       "stream": "stdout",
       "text": [
        "rm -rf .libs _libs\r\n",
        "test -z \"libgslrng.la \" || rm -f libgslrng.la \r\n",
        "rm -f \"./so_locations\"\r\n",
        "rm -f *.o\r\n",
        "rm -f *.lo\r\n",
        "Making clean in qrng\r\n"
       ]
      },
      {
       "output_type": "stream",
       "stream": "stdout",
       "text": [
        " rm -f test\r\n",
        "rm -rf .libs _libs\r\n",
        "test -z \"libgslqrng.la \" || rm -f libgslqrng.la \r\n",
        "rm -f \"./so_locations\"\r\n",
        "rm -f *.o\r\n",
        "rm -f *.lo\r\n",
        "Making clean in dht\r\n"
       ]
      },
      {
       "output_type": "stream",
       "stream": "stdout",
       "text": [
        " rm -f test\r\n",
        "rm -rf .libs _libs\r\n",
        "test -z \"libgsldht.la \" || rm -f libgsldht.la \r\n",
        "rm -f \"./so_locations\"\r\n",
        "rm -f *.o\r\n",
        "rm -f *.lo\r\n",
        "Making clean in specfunc\r\n"
       ]
      },
      {
       "output_type": "stream",
       "stream": "stdout",
       "text": [
        " rm -f test\r\n",
        "rm -rf .libs _libs\r\n",
        "test -z \"libgslspecfunc.la \" || rm -f libgslspecfunc.la \r\n",
        "rm -f \"./so_locations\"\r\n",
        "rm -f *.o\r\n"
       ]
      },
      {
       "output_type": "stream",
       "stream": "stdout",
       "text": [
        "rm -f *.lo\r\n",
        "Making clean in eigen\r\n"
       ]
      },
      {
       "output_type": "stream",
       "stream": "stdout",
       "text": [
        " rm -f test\r\n",
        "rm -rf .libs _libs\r\n",
        "test -z \"libgsleigen.la \" || rm -f libgsleigen.la \r\n",
        "rm -f \"./so_locations\"\r\n",
        "rm -f *.o\r\n",
        "rm -f *.lo\r\n",
        "Making clean in linalg\r\n"
       ]
      },
      {
       "output_type": "stream",
       "stream": "stdout",
       "text": [
        " rm -f test\r\n",
        "rm -rf .libs _libs\r\n",
        "test -z \"libgsllinalg.la \" || rm -f libgsllinalg.la \r\n"
       ]
      },
      {
       "output_type": "stream",
       "stream": "stdout",
       "text": [
        "rm -f \"./so_locations\"\r\n",
        "rm -f *.o\r\n",
        "rm -f *.lo\r\n",
        "Making clean in blas\r\n"
       ]
      },
      {
       "output_type": "stream",
       "stream": "stdout",
       "text": [
        "rm -rf .libs _libs\r\n",
        "test -z \"libgslblas.la\" || rm -f libgslblas.la\r\n",
        "rm -f \"./so_locations\"\r\n",
        "rm -f *.o\r\n",
        "rm -f *.lo\r\n",
        "Making clean in cblas\r\n"
       ]
      },
      {
       "output_type": "stream",
       "stream": "stdout",
       "text": [
        " rm -f test\r\n",
        "test -z \"libgslcblas.la\" || rm -f libgslcblas.la\r\n",
        "rm -f \"./so_locations\"\r\n",
        "rm -rf .libs _libs\r\n",
        "rm -f *.o\r\n"
       ]
      },
      {
       "output_type": "stream",
       "stream": "stdout",
       "text": [
        "rm -f *.lo\r\n",
        "Making clean in ieee-utils\r\n",
        " rm -f test\r\n"
       ]
      },
      {
       "output_type": "stream",
       "stream": "stdout",
       "text": [
        "rm -rf .libs _libs\r\n",
        "test -z \"libgslieeeutils.la \" || rm -f libgslieeeutils.la \r\n",
        "rm -f \"./so_locations\"\r\n",
        "rm -f *.o\r\n",
        "rm -f *.lo\r\n",
        "Making clean in sort\r\n"
       ]
      },
      {
       "output_type": "stream",
       "stream": "stdout",
       "text": [
        " rm -f test\r\n",
        "rm -rf .libs _libs\r\n",
        "test -z \"libgslsort.la\" || rm -f libgslsort.la\r\n",
        "rm -f \"./so_locations\"\r\n"
       ]
      },
      {
       "output_type": "stream",
       "stream": "stdout",
       "text": [
        "rm -f *.o\r\n",
        "rm -f *.lo\r\n",
        "Making clean in multiset\r\n",
        " rm -f test\r\n",
        "rm -rf .libs _libs\r\n",
        "test -z \"libgslmultiset.la\" || rm -f libgslmultiset.la\r\n",
        "rm -f \"./so_locations\"\r\n"
       ]
      },
      {
       "output_type": "stream",
       "stream": "stdout",
       "text": [
        "rm -f *.o\r\n",
        "rm -f *.lo\r\n",
        "Making clean in combination\r\n",
        " rm -f test\r\n",
        "rm -rf .libs _libs\r\n",
        "test -z \"libgslcombination.la \" || rm -f libgslcombination.la \r\n"
       ]
      },
      {
       "output_type": "stream",
       "stream": "stdout",
       "text": [
        "rm -f \"./so_locations\"\r\n",
        "rm -f *.o\r\n",
        "rm -f *.lo\r\n",
        "Making clean in permutation\r\n",
        " rm -f test\r\n",
        "rm -rf .libs _libs\r\n"
       ]
      },
      {
       "output_type": "stream",
       "stream": "stdout",
       "text": [
        "test -z \"libgslpermutation.la \" || rm -f libgslpermutation.la \r\n",
        "rm -f \"./so_locations\"\r\n",
        "rm -f *.o\r\n",
        "rm -f *.lo\r\n",
        "Making clean in matrix\r\n"
       ]
      },
      {
       "output_type": "stream",
       "stream": "stdout",
       "text": [
        " rm -f test test_static\r\n",
        "test -z \"test.txt test.dat\" || rm -f test.txt test.dat\r\n",
        "rm -rf .libs _libs\r\n",
        "test -z \"libgslmatrix.la \" || rm -f libgslmatrix.la \r\n",
        "rm -f \"./so_locations\"\r\n"
       ]
      },
      {
       "output_type": "stream",
       "stream": "stdout",
       "text": [
        "rm -f *.o\r\n",
        "rm -f *.lo\r\n",
        "Making clean in vector\r\n"
       ]
      },
      {
       "output_type": "stream",
       "stream": "stdout",
       "text": [
        " rm -f test test_static\r\n",
        "test -z \"test.txt test.dat\" || rm -f test.txt test.dat\r\n"
       ]
      },
      {
       "output_type": "stream",
       "stream": "stdout",
       "text": [
        "rm -rf .libs _libs\r\n",
        "test -z \"libgslvector.la \" || rm -f libgslvector.la \r\n",
        "rm -f \"./so_locations\"\r\n",
        "rm -f *.o\r\n",
        "rm -f *.lo\r\n",
        "Making clean in block\r\n"
       ]
      },
      {
       "output_type": "stream",
       "stream": "stdout",
       "text": [
        " rm -f test\r\n",
        "test -z \"test.txt test.dat\" || rm -f test.txt test.dat\r\n",
        "rm -rf .libs _libs\r\n",
        "test -z \"libgslblock.la \" || rm -f libgslblock.la \r\n",
        "rm -f \"./so_locations\"\r\n",
        "rm -f *.o\r\n"
       ]
      },
      {
       "output_type": "stream",
       "stream": "stdout",
       "text": [
        "rm -f *.lo\r\n",
        "Making clean in cheb\r\n"
       ]
      },
      {
       "output_type": "stream",
       "stream": "stdout",
       "text": [
        " rm -f test\r\n",
        "rm -rf .libs _libs\r\n",
        "test -z \"libgslcheb.la \" || rm -f libgslcheb.la \r\n",
        "rm -f \"./so_locations\"\r\n",
        "rm -f *.o\r\n"
       ]
      },
      {
       "output_type": "stream",
       "stream": "stdout",
       "text": [
        "rm -f *.lo\r\n",
        "Making clean in complex\r\n",
        " rm -f test\r\n",
        "rm -rf .libs _libs\r\n",
        "test -z \"libgslcomplex.la \" || rm -f libgslcomplex.la \r\n"
       ]
      },
      {
       "output_type": "stream",
       "stream": "stdout",
       "text": [
        "rm -f \"./so_locations\"\r\n",
        "rm -f *.o\r\n",
        "rm -f *.lo\r\n",
        "Making clean in const\r\n",
        " rm -f test\r\n",
        "rm -rf .libs _libs\r\n",
        "rm -f *.o\r\n",
        "rm -f *.lo\r\n"
       ]
      },
      {
       "output_type": "stream",
       "stream": "stdout",
       "text": [
        "Making clean in err\r\n",
        " rm -f test\r\n",
        "rm -rf .libs _libs\r\n",
        "test -z \"libgslerr.la\" || rm -f libgslerr.la\r\n",
        "rm -f \"./so_locations\"\r\n"
       ]
      },
      {
       "output_type": "stream",
       "stream": "stdout",
       "text": [
        "rm -f *.o\r\n",
        "rm -f *.lo\r\n",
        "Making clean in test\r\n"
       ]
      },
      {
       "output_type": "stream",
       "stream": "stdout",
       "text": [
        "rm -rf .libs _libs\r\n",
        "test -z \"libgsltest.la\" || rm -f libgsltest.la\r\n",
        "rm -f \"./so_locations\"\r\n",
        "rm -f *.o\r\n",
        "rm -f *.lo\r\n"
       ]
      },
      {
       "output_type": "stream",
       "stream": "stdout",
       "text": [
        "Making clean in sys\r\n"
       ]
      },
      {
       "output_type": "stream",
       "stream": "stdout",
       "text": [
        " rm -f test\r\n",
        "rm -rf .libs _libs\r\n",
        "test -z \"libgslsys.la \" || rm -f libgslsys.la \r\n",
        "rm -f \"./so_locations\"\r\n",
        "rm -f *.o\r\n",
        "rm -f *.lo\r\n",
        "Making clean in utils\r\n"
       ]
      },
      {
       "output_type": "stream",
       "stream": "stdout",
       "text": [
        "rm -rf .libs _libs\r\n",
        "test -z \"libutils.la\" || rm -f libutils.la\r\n",
        "rm -f \"./so_locations\"\r\n",
        "rm -f *.o\r\n",
        "rm -f *.lo\r\n",
        "Making clean in gsl\r\n",
        "rm -rf .libs _libs\r\n",
        "rm -f *.lo\r\n"
       ]
      },
      {
       "output_type": "stream",
       "stream": "stdout",
       "text": [
        "rm -f gsl*.h\r\n",
        "Making clean in .\r\n",
        " rm -f gsl-randist gsl-histogram\r\n",
        "test -z \"gsl.pc gsl-config\" || rm -f gsl.pc gsl-config\r\n",
        "test -z \"libgsl.la\" || rm -f libgsl.la\r\n",
        "rm -f \"./so_locations\"\r\n",
        "rm -rf .libs _libs\r\n",
        "rm -f *.o\r\n"
       ]
      },
      {
       "output_type": "stream",
       "stream": "stdout",
       "text": [
        "rm -f *.lo\r\n"
       ]
      },
      {
       "output_type": "stream",
       "stream": "stdout",
       "text": [
        "checking for a BSD-compatible install... "
       ]
      },
      {
       "output_type": "stream",
       "stream": "stdout",
       "text": [
        "/usr/bin/install -c\r\n",
        "checking whether build environment is sane... "
       ]
      },
      {
       "output_type": "stream",
       "stream": "stdout",
       "text": [
        "yes\r\n",
        "checking for a thread-safe mkdir -p... ./install-sh -c -d\r\n",
        "checking for gawk... no\r\n",
        "checking for mawk... no\r\n",
        "checking for nawk... no\r\n",
        "checking for awk... awk\r\n",
        "checking whether make sets $(MAKE)... "
       ]
      },
      {
       "output_type": "stream",
       "stream": "stdout",
       "text": [
        "yes\r\n",
        "checking whether to enable maintainer-specific portions of Makefiles... no\r\n",
        "checking for a sed that does not truncate output... "
       ]
      },
      {
       "output_type": "stream",
       "stream": "stdout",
       "text": [
        "/usr/bin/sed\r\n",
        "checking whether make sets $(MAKE)... (cached) "
       ]
      },
      {
       "output_type": "stream",
       "stream": "stdout",
       "text": [
        "yes\r\n",
        "checking build system type... "
       ]
      },
      {
       "output_type": "stream",
       "stream": "stdout",
       "text": [
        "x86_64-apple-darwin14.3.0\r\n",
        "checking host system type... x86_64-apple-darwin14.3.0\r\n",
        "checking for gcc... gcc\r\n"
       ]
      },
      {
       "output_type": "stream",
       "stream": "stdout",
       "text": [
        "checking whether the C compiler works... "
       ]
      },
      {
       "output_type": "stream",
       "stream": "stdout",
       "text": [
        "yes\r\n",
        "checking for C compiler default output file name... a.out\r\n",
        "checking for suffix of executables... "
       ]
      },
      {
       "output_type": "stream",
       "stream": "stdout",
       "text": [
        "\r\n",
        "checking whether we are cross compiling... "
       ]
      },
      {
       "output_type": "stream",
       "stream": "stdout",
       "text": [
        "no\r\n",
        "checking for suffix of object files... o\r\n",
        "checking whether we are using the GNU C compiler... "
       ]
      },
      {
       "output_type": "stream",
       "stream": "stdout",
       "text": [
        "yes\r\n",
        "checking whether gcc accepts -g... "
       ]
      },
      {
       "output_type": "stream",
       "stream": "stdout",
       "text": [
        "yes\r\n",
        "checking for gcc option to accept ISO C89... "
       ]
      },
      {
       "output_type": "stream",
       "stream": "stdout",
       "text": [
        "none needed\r\n",
        "checking for style of include used by make... GNU\r\n",
        "checking dependency style of gcc... "
       ]
      },
      {
       "output_type": "stream",
       "stream": "stdout",
       "text": [
        "gcc3\r\n",
        "checking how to run the C preprocessor... "
       ]
      },
      {
       "output_type": "stream",
       "stream": "stdout",
       "text": [
        "gcc -E\r\n"
       ]
      },
      {
       "output_type": "stream",
       "stream": "stdout",
       "text": [
        "checking whether ln -s works... yes\r\n",
        "checking how to print strings... printf\r\n",
        "checking for a sed that does not truncate output... (cached) /usr/bin/sed\r\n",
        "checking for grep that handles long lines and -e... "
       ]
      },
      {
       "output_type": "stream",
       "stream": "stdout",
       "text": [
        "/usr/bin/grep\r\n",
        "checking for egrep... /usr/bin/grep -E\r\n",
        "checking for fgrep... /usr/bin/grep -F\r\n",
        "checking for ld used by gcc... /usr/bin/ld\r\n",
        "checking if the linker (/usr/bin/ld) is GNU ld... "
       ]
      },
      {
       "output_type": "stream",
       "stream": "stdout",
       "text": [
        "no\r\n",
        "checking for BSD- or MS-compatible name lister (nm)... /usr/bin/nm\r\n",
        "checking the name lister (/usr/bin/nm) interface... "
       ]
      },
      {
       "output_type": "stream",
       "stream": "stdout",
       "text": [
        "BSD nm\r\n",
        "checking the maximum length of command line arguments... "
       ]
      },
      {
       "output_type": "stream",
       "stream": "stdout",
       "text": [
        "196608\r\n",
        "checking whether the shell understands some XSI constructs... yes\r\n",
        "checking whether the shell understands \"+=\"... yes\r\n",
        "checking how to convert x86_64-apple-darwin14.3.0 file names to x86_64-apple-darwin14.3.0 format... func_convert_file_noop\r\n",
        "checking how to convert x86_64-apple-darwin14.3.0 file names to toolchain format... func_convert_file_noop\r\n",
        "checking for /usr/bin/ld option to reload object files... -r\r\n",
        "checking for objdump... no\r\n",
        "checking how to recognize dependent libraries... pass_all\r\n",
        "checking for dlltool... no\r\n",
        "checking how to associate runtime and link libraries... printf %s\\n\r\n",
        "checking for ar... ar\r\n",
        "checking for archiver @FILE support... "
       ]
      },
      {
       "output_type": "stream",
       "stream": "stdout",
       "text": [
        "no\r\n",
        "checking for strip... strip\r\n",
        "checking for ranlib... ranlib\r\n",
        "checking command to parse /usr/bin/nm output from gcc object... "
       ]
      },
      {
       "output_type": "stream",
       "stream": "stdout",
       "text": [
        "ok\r\n",
        "checking for sysroot... no\r\n",
        "checking for mt... no\r\n",
        "checking if : is a manifest tool... no\r\n",
        "checking for dsymutil... dsymutil\r\n",
        "checking for nmedit... nmedit\r\n",
        "checking for lipo... lipo\r\n",
        "checking for otool... otool\r\n",
        "checking for otool64... no\r\n",
        "checking for -single_module linker flag... "
       ]
      },
      {
       "output_type": "stream",
       "stream": "stdout",
       "text": [
        "yes\r\n",
        "checking for -exported_symbols_list linker flag... "
       ]
      },
      {
       "output_type": "stream",
       "stream": "stdout",
       "text": [
        "yes\r\n",
        "checking for -force_load linker flag... "
       ]
      },
      {
       "output_type": "stream",
       "stream": "stdout",
       "text": [
        "yes\r\n",
        "checking for ANSI C header files... "
       ]
      },
      {
       "output_type": "stream",
       "stream": "stdout",
       "text": [
        "yes\r\n",
        "checking for sys/types.h... "
       ]
      },
      {
       "output_type": "stream",
       "stream": "stdout",
       "text": [
        "yes\r\n",
        "checking for sys/stat.h... "
       ]
      },
      {
       "output_type": "stream",
       "stream": "stdout",
       "text": [
        "yes\r\n",
        "checking for stdlib.h... "
       ]
      },
      {
       "output_type": "stream",
       "stream": "stdout",
       "text": [
        "yes\r\n",
        "checking for string.h... "
       ]
      },
      {
       "output_type": "stream",
       "stream": "stdout",
       "text": [
        "yes\r\n",
        "checking for memory.h... "
       ]
      },
      {
       "output_type": "stream",
       "stream": "stdout",
       "text": [
        "yes\r\n",
        "checking for strings.h... "
       ]
      },
      {
       "output_type": "stream",
       "stream": "stdout",
       "text": [
        "yes\r\n",
        "checking for inttypes.h... "
       ]
      },
      {
       "output_type": "stream",
       "stream": "stdout",
       "text": [
        "yes\r\n"
       ]
      },
      {
       "output_type": "stream",
       "stream": "stdout",
       "text": [
        "checking for stdint.h... "
       ]
      },
      {
       "output_type": "stream",
       "stream": "stdout",
       "text": [
        "yes\r\n",
        "checking for unistd.h... "
       ]
      },
      {
       "output_type": "stream",
       "stream": "stdout",
       "text": [
        "yes\r\n",
        "checking for dlfcn.h... "
       ]
      },
      {
       "output_type": "stream",
       "stream": "stdout",
       "text": [
        "yes\r\n",
        "checking for objdir... .libs\r\n"
       ]
      },
      {
       "output_type": "stream",
       "stream": "stdout",
       "text": [
        "checking if gcc supports -fno-rtti -fno-exceptions... "
       ]
      },
      {
       "output_type": "stream",
       "stream": "stdout",
       "text": [
        "no\r\n",
        "checking for gcc option to produce PIC... -fno-common -DPIC\r\n",
        "checking if gcc PIC flag -fno-common -DPIC works... "
       ]
      },
      {
       "output_type": "stream",
       "stream": "stdout",
       "text": [
        "yes\r\n",
        "checking if gcc static flag -static works... "
       ]
      },
      {
       "output_type": "stream",
       "stream": "stdout",
       "text": [
        "no\r\n",
        "checking if gcc supports -c -o file.o... "
       ]
      },
      {
       "output_type": "stream",
       "stream": "stdout",
       "text": [
        "yes\r\n",
        "checking if gcc supports -c -o file.o... (cached) yes\r\n",
        "checking whether the gcc linker (/usr/bin/ld) supports shared libraries... yes\r\n",
        "checking dynamic linker characteristics... "
       ]
      },
      {
       "output_type": "stream",
       "stream": "stdout",
       "text": [
        "darwin14.3.0 dyld\r\n",
        "checking how to hardcode library paths into programs... immediate\r\n",
        "checking whether stripping libraries is possible... "
       ]
      },
      {
       "output_type": "stream",
       "stream": "stdout",
       "text": [
        "yes\r\n",
        "checking if libtool supports shared libraries... yes\r\n",
        "checking whether to build shared libraries... yes\r\n",
        "checking whether to build static libraries... yes\r\n",
        "checking for size_t... "
       ]
      },
      {
       "output_type": "stream",
       "stream": "stdout",
       "text": [
        "yes\r\n",
        "checking for working volatile... "
       ]
      },
      {
       "output_type": "stream",
       "stream": "stdout",
       "text": [
        "yes\r\n",
        "checking for inline... "
       ]
      },
      {
       "output_type": "stream",
       "stream": "stdout",
       "text": [
        "inline\r\n",
        "checking whether char is unsigned... "
       ]
      },
      {
       "output_type": "stream",
       "stream": "stdout",
       "text": [
        "no\r\n",
        "checking for GNU-style extern inline... no\r\n",
        "checking for C99-style inline... "
       ]
      },
      {
       "output_type": "stream",
       "stream": "stdout",
       "text": [
        "yes\r\n",
        "checking ieeefp.h usability... "
       ]
      },
      {
       "output_type": "stream",
       "stream": "stdout",
       "text": [
        "no\r\n",
        "checking ieeefp.h presence... "
       ]
      },
      {
       "output_type": "stream",
       "stream": "stdout",
       "text": [
        "no\r\n",
        "checking for ieeefp.h... no\r\n",
        "checking for vprintf... "
       ]
      },
      {
       "output_type": "stream",
       "stream": "stdout",
       "text": [
        "yes\r\n",
        "checking for _doprnt... "
       ]
      },
      {
       "output_type": "stream",
       "stream": "stdout",
       "text": [
        "no\r\n",
        "checking for memcpy... "
       ]
      },
      {
       "output_type": "stream",
       "stream": "stdout",
       "text": [
        "yes\r\n",
        "checking for memmove... "
       ]
      },
      {
       "output_type": "stream",
       "stream": "stdout",
       "text": [
        "yes\r\n",
        "checking for strdup... "
       ]
      },
      {
       "output_type": "stream",
       "stream": "stdout",
       "text": [
        "yes\r\n",
        "checking for strtol... "
       ]
      },
      {
       "output_type": "stream",
       "stream": "stdout",
       "text": [
        "yes\r\n",
        "checking for strtoul... "
       ]
      },
      {
       "output_type": "stream",
       "stream": "stdout",
       "text": [
        "yes\r\n",
        "checking for EXIT_SUCCESS and EXIT_FAILURE... "
       ]
      },
      {
       "output_type": "stream",
       "stream": "stdout",
       "text": [
        "yes\r\n",
        "checking for cos in -lm... "
       ]
      },
      {
       "output_type": "stream",
       "stream": "stdout",
       "text": [
        "yes\r\n",
        "checking whether feenableexcept is declared... "
       ]
      },
      {
       "output_type": "stream",
       "stream": "stdout",
       "text": [
        "no\r\n",
        "checking whether fesettrapenable is declared... "
       ]
      },
      {
       "output_type": "stream",
       "stream": "stdout",
       "text": [
        "no\r\n"
       ]
      },
      {
       "output_type": "stream",
       "stream": "stdout",
       "text": [
        "checking whether hypot is declared... "
       ]
      },
      {
       "output_type": "stream",
       "stream": "stdout",
       "text": [
        "yes\r\n",
        "checking whether expm1 is declared... "
       ]
      },
      {
       "output_type": "stream",
       "stream": "stdout",
       "text": [
        "yes\r\n",
        "checking whether acosh is declared... "
       ]
      },
      {
       "output_type": "stream",
       "stream": "stdout",
       "text": [
        "yes\r\n"
       ]
      },
      {
       "output_type": "stream",
       "stream": "stdout",
       "text": [
        "checking whether asinh is declared... "
       ]
      },
      {
       "output_type": "stream",
       "stream": "stdout",
       "text": [
        "yes\r\n",
        "checking whether atanh is declared... "
       ]
      },
      {
       "output_type": "stream",
       "stream": "stdout",
       "text": [
        "yes\r\n"
       ]
      },
      {
       "output_type": "stream",
       "stream": "stdout",
       "text": [
        "checking whether ldexp is declared... "
       ]
      },
      {
       "output_type": "stream",
       "stream": "stdout",
       "text": [
        "yes\r\n",
        "checking whether frexp is declared... "
       ]
      },
      {
       "output_type": "stream",
       "stream": "stdout",
       "text": [
        "yes\r\n",
        "checking whether fprnd_t is declared... "
       ]
      },
      {
       "output_type": "stream",
       "stream": "stdout",
       "text": [
        "no\r\n",
        "checking whether isinf is declared... "
       ]
      },
      {
       "output_type": "stream",
       "stream": "stdout",
       "text": [
        "yes\r\n",
        "checking whether isfinite is declared... "
       ]
      },
      {
       "output_type": "stream",
       "stream": "stdout",
       "text": [
        "yes\r\n"
       ]
      },
      {
       "output_type": "stream",
       "stream": "stdout",
       "text": [
        "checking whether finite is declared... "
       ]
      },
      {
       "output_type": "stream",
       "stream": "stdout",
       "text": [
        "yes\r\n",
        "checking whether isnan is declared... "
       ]
      },
      {
       "output_type": "stream",
       "stream": "stdout",
       "text": [
        "yes\r\n"
       ]
      },
      {
       "output_type": "stream",
       "stream": "stdout",
       "text": [
        "checking whether log1p is declared... "
       ]
      },
      {
       "output_type": "stream",
       "stream": "stdout",
       "text": [
        "yes\r\n",
        "checking for long double stdio... "
       ]
      },
      {
       "output_type": "stream",
       "stream": "stdout",
       "text": [
        "yes\r\n",
        "checking for extended floating point registers... yes\r\n",
        "checking for IEEE arithmetic interface type... unknown\r\n",
        "checking for IEEE compiler flags... none\r\n",
        "checking for IEEE comparisons... "
       ]
      },
      {
       "output_type": "stream",
       "stream": "stdout",
       "text": [
        "yes\r\n",
        "checking for IEEE denormalized values... "
       ]
      },
      {
       "output_type": "stream",
       "stream": "stdout",
       "text": [
        "yes\r\n"
       ]
      },
      {
       "output_type": "stream",
       "stream": "stdout",
       "text": [
        "configure: creating ./config.status\r\n"
       ]
      },
      {
       "output_type": "stream",
       "stream": "stdout",
       "text": [
        "config.status: creating gsl_version.h\r\n"
       ]
      },
      {
       "output_type": "stream",
       "stream": "stdout",
       "text": [
        "config.status: creating gsl.spec\r\n",
        "config.status: creating gsl/Makefile\r\n"
       ]
      },
      {
       "output_type": "stream",
       "stream": "stdout",
       "text": [
        "config.status: creating test/Makefile\r\n"
       ]
      },
      {
       "output_type": "stream",
       "stream": "stdout",
       "text": [
        "config.status: creating err/Makefile\r\n",
        "config.status: creating sys/Makefile\r\n"
       ]
      },
      {
       "output_type": "stream",
       "stream": "stdout",
       "text": [
        "config.status: creating utils/Makefile\r\n"
       ]
      },
      {
       "output_type": "stream",
       "stream": "stdout",
       "text": [
        "config.status: creating const/Makefile\r\n"
       ]
      },
      {
       "output_type": "stream",
       "stream": "stdout",
       "text": [
        "config.status: creating min/Makefile\r\n"
       ]
      },
      {
       "output_type": "stream",
       "stream": "stdout",
       "text": [
        "config.status: creating multimin/Makefile\r\n",
        "config.status: creating ieee-utils/Makefile\r\n"
       ]
      },
      {
       "output_type": "stream",
       "stream": "stdout",
       "text": [
        "config.status: creating fft/Makefile\r\n"
       ]
      },
      {
       "output_type": "stream",
       "stream": "stdout",
       "text": [
        "config.status: creating specfunc/Makefile\r\n"
       ]
      },
      {
       "output_type": "stream",
       "stream": "stdout",
       "text": [
        "config.status: creating dht/Makefile\r\n"
       ]
      },
      {
       "output_type": "stream",
       "stream": "stdout",
       "text": [
        "config.status: creating fit/Makefile\r\n"
       ]
      },
      {
       "output_type": "stream",
       "stream": "stdout",
       "text": [
        "config.status: creating multifit/Makefile\r\n"
       ]
      },
      {
       "output_type": "stream",
       "stream": "stdout",
       "text": [
        "config.status: creating bspline/Makefile\r\n",
        "config.status: creating statistics/Makefile\r\n"
       ]
      },
      {
       "output_type": "stream",
       "stream": "stdout",
       "text": [
        "config.status: creating sum/Makefile\r\n"
       ]
      },
      {
       "output_type": "stream",
       "stream": "stdout",
       "text": [
        "config.status: creating roots/Makefile\r\n"
       ]
      },
      {
       "output_type": "stream",
       "stream": "stdout",
       "text": [
        "config.status: creating multiroots/Makefile\r\n"
       ]
      },
      {
       "output_type": "stream",
       "stream": "stdout",
       "text": [
        "config.status: creating ntuple/Makefile\r\n"
       ]
      },
      {
       "output_type": "stream",
       "stream": "stdout",
       "text": [
        "config.status: creating poly/Makefile\r\n"
       ]
      },
      {
       "output_type": "stream",
       "stream": "stdout",
       "text": [
        "config.status: creating qrng/Makefile\r\n"
       ]
      },
      {
       "output_type": "stream",
       "stream": "stdout",
       "text": [
        "config.status: creating rng/Makefile\r\n"
       ]
      },
      {
       "output_type": "stream",
       "stream": "stdout",
       "text": [
        "config.status: creating randist/Makefile\r\n",
        "config.status: creating siman/Makefile\r\n"
       ]
      },
      {
       "output_type": "stream",
       "stream": "stdout",
       "text": [
        "config.status: creating integration/Makefile\r\n"
       ]
      },
      {
       "output_type": "stream",
       "stream": "stdout",
       "text": [
        "config.status: creating interpolation/Makefile\r\n"
       ]
      },
      {
       "output_type": "stream",
       "stream": "stdout",
       "text": [
        "config.status: creating doc/Makefile\r\n"
       ]
      },
      {
       "output_type": "stream",
       "stream": "stdout",
       "text": [
        "config.status: creating block/Makefile\r\n"
       ]
      },
      {
       "output_type": "stream",
       "stream": "stdout",
       "text": [
        "config.status: creating vector/Makefile\r\n"
       ]
      },
      {
       "output_type": "stream",
       "stream": "stdout",
       "text": [
        "config.status: creating matrix/Makefile\r\n"
       ]
      },
      {
       "output_type": "stream",
       "stream": "stdout",
       "text": [
        "config.status: creating histogram/Makefile\r\n"
       ]
      },
      {
       "output_type": "stream",
       "stream": "stdout",
       "text": [
        "config.status: creating monte/Makefile\r\n"
       ]
      },
      {
       "output_type": "stream",
       "stream": "stdout",
       "text": [
        "config.status: creating ode-initval/Makefile\r\n",
        "config.status: creating ode-initval2/Makefile\r\n"
       ]
      },
      {
       "output_type": "stream",
       "stream": "stdout",
       "text": [
        "config.status: creating cblas/Makefile\r\n"
       ]
      },
      {
       "output_type": "stream",
       "stream": "stdout",
       "text": [
        "config.status: creating blas/Makefile\r\n"
       ]
      },
      {
       "output_type": "stream",
       "stream": "stdout",
       "text": [
        "config.status: creating linalg/Makefile\r\n"
       ]
      },
      {
       "output_type": "stream",
       "stream": "stdout",
       "text": [
        "config.status: creating eigen/Makefile\r\n"
       ]
      },
      {
       "output_type": "stream",
       "stream": "stdout",
       "text": [
        "config.status: creating permutation/Makefile\r\n"
       ]
      },
      {
       "output_type": "stream",
       "stream": "stdout",
       "text": [
        "config.status: creating combination/Makefile\r\n"
       ]
      },
      {
       "output_type": "stream",
       "stream": "stdout",
       "text": [
        "config.status: creating multiset/Makefile\r\n",
        "config.status: creating sort/Makefile\r\n"
       ]
      },
      {
       "output_type": "stream",
       "stream": "stdout",
       "text": [
        "config.status: creating complex/Makefile\r\n"
       ]
      },
      {
       "output_type": "stream",
       "stream": "stdout",
       "text": [
        "config.status: creating diff/Makefile\r\n",
        "config.status: creating deriv/Makefile\r\n"
       ]
      },
      {
       "output_type": "stream",
       "stream": "stdout",
       "text": [
        "config.status: creating cheb/Makefile\r\n"
       ]
      },
      {
       "output_type": "stream",
       "stream": "stdout",
       "text": [
        "config.status: creating cdf/Makefile\r\n"
       ]
      },
      {
       "output_type": "stream",
       "stream": "stdout",
       "text": [
        "config.status: creating wavelet/Makefile\r\n",
        "config.status: creating Makefile\r\n"
       ]
      },
      {
       "output_type": "stream",
       "stream": "stdout",
       "text": [
        "config.status: creating config.h\r\n",
        "config.status: executing depfiles commands\r\n"
       ]
      },
      {
       "output_type": "stream",
       "stream": "stdout",
       "text": [
        "config.status: executing libtool commands\r\n"
       ]
      },
      {
       "output_type": "stream",
       "stream": "stdout",
       "text": [
        "/Applications/Xcode.app/Contents/Developer/usr/bin/make  all-recursive\r\n",
        "Making all in gsl\r\n",
        "rm -f gsl*.h\r\n",
        "HEADERLIST=\"../gsl*.h ../*/gsl*.h\"; \\\r\n",
        "\tfor h in $HEADERLIST; do \\\r\n",
        "\t  BASENAME=`basename $h`; \\\r\n",
        "\t  test -r $BASENAME || ln -s $h $BASENAME; \\\r\n",
        "\tdone\r\n"
       ]
      },
      {
       "output_type": "stream",
       "stream": "stdout",
       "text": [
        "Making all in utils\r\n"
       ]
      },
      {
       "output_type": "stream",
       "stream": "stdout",
       "text": [
        "/bin/sh ../libtool --tag=CC   --mode=compile gcc -DHAVE_CONFIG_H -I. -I..     -g -O2 -MT placeholder.lo -MD -MP -MF .deps/placeholder.Tpo -c -o placeholder.lo placeholder.c\r\n",
        "libtool: compile:  gcc -DHAVE_CONFIG_H -I. -I.. -g -O2 -MT placeholder.lo -MD -MP -MF .deps/placeholder.Tpo -c placeholder.c  -fno-common -DPIC -o .libs/placeholder.o\r\n"
       ]
      },
      {
       "output_type": "stream",
       "stream": "stdout",
       "text": [
        "libtool: compile:  gcc -DHAVE_CONFIG_H -I. -I.. -g -O2 -MT placeholder.lo -MD -MP -MF .deps/placeholder.Tpo -c placeholder.c -o placeholder.o >/dev/null 2>&1\r\n"
       ]
      },
      {
       "output_type": "stream",
       "stream": "stdout",
       "text": [
        "mv -f .deps/placeholder.Tpo .deps/placeholder.Plo\r\n",
        "/bin/sh ../libtool --tag=CC   --mode=link gcc  -g -O2   -o libutils.la  placeholder.lo  -lm \r\n"
       ]
      },
      {
       "output_type": "stream",
       "stream": "stdout",
       "text": [
        "libtool: link: ar cru .libs/libutils.a .libs/placeholder.o \r\n"
       ]
      },
      {
       "output_type": "stream",
       "stream": "stdout",
       "text": [
        "libtool: link: ranlib .libs/libutils.a\r\n",
        "libtool: link: ( cd \".libs\" && rm -f \"libutils.la\" && ln -s \"../libutils.la\" \"libutils.la\" )\r\n",
        "Making all in sys\r\n"
       ]
      },
      {
       "output_type": "stream",
       "stream": "stdout",
       "text": [
        "/bin/sh ../libtool --tag=CC   --mode=compile gcc -DHAVE_CONFIG_H -I. -I.. -I..    -g -O2 -MT minmax.lo -MD -MP -MF .deps/minmax.Tpo -c -o minmax.lo minmax.c\r\n",
        "libtool: compile:  gcc -DHAVE_CONFIG_H -I. -I.. -I.. -g -O2 -MT minmax.lo -MD -MP -MF .deps/minmax.Tpo -c minmax.c  -fno-common -DPIC -o .libs/minmax.o\r\n"
       ]
      },
      {
       "output_type": "stream",
       "stream": "stdout",
       "text": [
        "libtool: compile:  gcc -DHAVE_CONFIG_H -I. -I.. -I.. -g -O2 -MT minmax.lo -MD -MP -MF .deps/minmax.Tpo -c minmax.c -o minmax.o >/dev/null 2>&1\r\n"
       ]
      },
      {
       "output_type": "stream",
       "stream": "stdout",
       "text": [
        "mv -f .deps/minmax.Tpo .deps/minmax.Plo\r\n",
        "/bin/sh ../libtool --tag=CC   --mode=compile gcc -DHAVE_CONFIG_H -I. -I.. -I..    -g -O2 -MT prec.lo -MD -MP -MF .deps/prec.Tpo -c -o prec.lo prec.c\r\n",
        "libtool: compile:  gcc -DHAVE_CONFIG_H -I. -I.. -I.. -g -O2 -MT prec.lo -MD -MP -MF .deps/prec.Tpo -c prec.c  -fno-common -DPIC -o .libs/prec.o\r\n"
       ]
      },
      {
       "output_type": "stream",
       "stream": "stdout",
       "text": [
        "libtool: compile:  gcc -DHAVE_CONFIG_H -I. -I.. -I.. -g -O2 -MT prec.lo -MD -MP -MF .deps/prec.Tpo -c prec.c -o prec.o >/dev/null 2>&1\r\n"
       ]
      },
      {
       "output_type": "stream",
       "stream": "stdout",
       "text": [
        "mv -f .deps/prec.Tpo .deps/prec.Plo\r\n",
        "/bin/sh ../libtool --tag=CC   --mode=compile gcc -DHAVE_CONFIG_H -I. -I.. -I..    -g -O2 -MT hypot.lo -MD -MP -MF .deps/hypot.Tpo -c -o hypot.lo hypot.c\r\n"
       ]
      },
      {
       "output_type": "stream",
       "stream": "stdout",
       "text": [
        "libtool: compile:  gcc -DHAVE_CONFIG_H -I. -I.. -I.. -g -O2 -MT hypot.lo -MD -MP -MF .deps/hypot.Tpo -c hypot.c  -fno-common -DPIC -o .libs/hypot.o\r\n"
       ]
      },
      {
       "output_type": "stream",
       "stream": "stdout",
       "text": [
        "libtool: compile:  gcc -DHAVE_CONFIG_H -I. -I.. -I.. -g -O2 -MT hypot.lo -MD -MP -MF .deps/hypot.Tpo -c hypot.c -o hypot.o >/dev/null 2>&1\r\n"
       ]
      },
      {
       "output_type": "stream",
       "stream": "stdout",
       "text": [
        "mv -f .deps/hypot.Tpo .deps/hypot.Plo\r\n",
        "/bin/sh ../libtool --tag=CC   --mode=compile gcc -DHAVE_CONFIG_H -I. -I.. -I..    -g -O2 -MT log1p.lo -MD -MP -MF .deps/log1p.Tpo -c -o log1p.lo log1p.c\r\n"
       ]
      },
      {
       "output_type": "stream",
       "stream": "stdout",
       "text": [
        "libtool: compile:  gcc -DHAVE_CONFIG_H -I. -I.. -I.. -g -O2 -MT log1p.lo -MD -MP -MF .deps/log1p.Tpo -c log1p.c  -fno-common -DPIC -o .libs/log1p.o\r\n"
       ]
      },
      {
       "output_type": "stream",
       "stream": "stdout",
       "text": [
        "libtool: compile:  gcc -DHAVE_CONFIG_H -I. -I.. -I.. -g -O2 -MT log1p.lo -MD -MP -MF .deps/log1p.Tpo -c log1p.c -o log1p.o >/dev/null 2>&1\r\n"
       ]
      },
      {
       "output_type": "stream",
       "stream": "stdout",
       "text": [
        "mv -f .deps/log1p.Tpo .deps/log1p.Plo\r\n",
        "/bin/sh ../libtool --tag=CC   --mode=compile gcc -DHAVE_CONFIG_H -I. -I.. -I..    -g -O2 -MT expm1.lo -MD -MP -MF .deps/expm1.Tpo -c -o expm1.lo expm1.c\r\n",
        "libtool: compile:  gcc -DHAVE_CONFIG_H -I. -I.. -I.. -g -O2 -MT expm1.lo -MD -MP -MF .deps/expm1.Tpo -c expm1.c  -fno-common -DPIC -o .libs/expm1.o\r\n"
       ]
      },
      {
       "output_type": "stream",
       "stream": "stdout",
       "text": [
        "libtool: compile:  gcc -DHAVE_CONFIG_H -I. -I.. -I.. -g -O2 -MT expm1.lo -MD -MP -MF .deps/expm1.Tpo -c expm1.c -o expm1.o >/dev/null 2>&1\r\n"
       ]
      },
      {
       "output_type": "stream",
       "stream": "stdout",
       "text": [
        "mv -f .deps/expm1.Tpo .deps/expm1.Plo\r\n",
        "/bin/sh ../libtool --tag=CC   --mode=compile gcc -DHAVE_CONFIG_H -I. -I.. -I..    -g -O2 -MT coerce.lo -MD -MP -MF .deps/coerce.Tpo -c -o coerce.lo coerce.c\r\n",
        "libtool: compile:  gcc -DHAVE_CONFIG_H -I. -I.. -I.. -g -O2 -MT coerce.lo -MD -MP -MF .deps/coerce.Tpo -c coerce.c  -fno-common -DPIC -o .libs/coerce.o\r\n"
       ]
      },
      {
       "output_type": "stream",
       "stream": "stdout",
       "text": [
        "libtool: compile:  gcc -DHAVE_CONFIG_H -I. -I.. -I.. -g -O2 -MT coerce.lo -MD -MP -MF .deps/coerce.Tpo -c coerce.c -o coerce.o >/dev/null 2>&1\r\n"
       ]
      },
      {
       "output_type": "stream",
       "stream": "stdout",
       "text": [
        "mv -f .deps/coerce.Tpo .deps/coerce.Plo\r\n",
        "/bin/sh ../libtool --tag=CC   --mode=compile gcc -DHAVE_CONFIG_H -I. -I.. -I..    -g -O2 -MT invhyp.lo -MD -MP -MF .deps/invhyp.Tpo -c -o invhyp.lo invhyp.c\r\n"
       ]
      },
      {
       "output_type": "stream",
       "stream": "stdout",
       "text": [
        "libtool: compile:  gcc -DHAVE_CONFIG_H -I. -I.. -I.. -g -O2 -MT invhyp.lo -MD -MP -MF .deps/invhyp.Tpo -c invhyp.c  -fno-common -DPIC -o .libs/invhyp.o\r\n"
       ]
      },
      {
       "output_type": "stream",
       "stream": "stdout",
       "text": [
        "libtool: compile:  gcc -DHAVE_CONFIG_H -I. -I.. -I.. -g -O2 -MT invhyp.lo -MD -MP -MF .deps/invhyp.Tpo -c invhyp.c -o invhyp.o >/dev/null 2>&1\r\n"
       ]
      },
      {
       "output_type": "stream",
       "stream": "stdout",
       "text": [
        "mv -f .deps/invhyp.Tpo .deps/invhyp.Plo\r\n",
        "/bin/sh ../libtool --tag=CC   --mode=compile gcc -DHAVE_CONFIG_H -I. -I.. -I..    -g -O2 -MT pow_int.lo -MD -MP -MF .deps/pow_int.Tpo -c -o pow_int.lo pow_int.c\r\n",
        "libtool: compile:  gcc -DHAVE_CONFIG_H -I. -I.. -I.. -g -O2 -MT pow_int.lo -MD -MP -MF .deps/pow_int.Tpo -c pow_int.c  -fno-common -DPIC -o .libs/pow_int.o\r\n"
       ]
      },
      {
       "output_type": "stream",
       "stream": "stdout",
       "text": [
        "libtool: compile:  gcc -DHAVE_CONFIG_H -I. -I.. -I.. -g -O2 -MT pow_int.lo -MD -MP -MF .deps/pow_int.Tpo -c pow_int.c -o pow_int.o >/dev/null 2>&1\r\n"
       ]
      },
      {
       "output_type": "stream",
       "stream": "stdout",
       "text": [
        "mv -f .deps/pow_int.Tpo .deps/pow_int.Plo\r\n",
        "/bin/sh ../libtool --tag=CC   --mode=compile gcc -DHAVE_CONFIG_H -I. -I.. -I..    -g -O2 -MT infnan.lo -MD -MP -MF .deps/infnan.Tpo -c -o infnan.lo infnan.c\r\n",
        "libtool: compile:  gcc -DHAVE_CONFIG_H -I. -I.. -I.. -g -O2 -MT infnan.lo -MD -MP -MF .deps/infnan.Tpo -c infnan.c  -fno-common -DPIC -o .libs/infnan.o\r\n"
       ]
      },
      {
       "output_type": "stream",
       "stream": "stdout",
       "text": [
        "libtool: compile:  gcc -DHAVE_CONFIG_H -I. -I.. -I.. -g -O2 -MT infnan.lo -MD -MP -MF .deps/infnan.Tpo -c infnan.c -o infnan.o >/dev/null 2>&1\r\n"
       ]
      },
      {
       "output_type": "stream",
       "stream": "stdout",
       "text": [
        "mv -f .deps/infnan.Tpo .deps/infnan.Plo\r\n",
        "/bin/sh ../libtool --tag=CC   --mode=compile gcc -DHAVE_CONFIG_H -I. -I.. -I..    -g -O2 -MT fdiv.lo -MD -MP -MF .deps/fdiv.Tpo -c -o fdiv.lo fdiv.c\r\n"
       ]
      },
      {
       "output_type": "stream",
       "stream": "stdout",
       "text": [
        "libtool: compile:  gcc -DHAVE_CONFIG_H -I. -I.. -I.. -g -O2 -MT fdiv.lo -MD -MP -MF .deps/fdiv.Tpo -c fdiv.c  -fno-common -DPIC -o .libs/fdiv.o\r\n",
        "libtool: compile:  gcc -DHAVE_CONFIG_H -I. -I.. -I.. -g -O2 -MT fdiv.lo -MD -MP -MF .deps/fdiv.Tpo -c fdiv.c -o fdiv.o >/dev/null 2>&1\r\n"
       ]
      },
      {
       "output_type": "stream",
       "stream": "stdout",
       "text": [
        "mv -f .deps/fdiv.Tpo .deps/fdiv.Plo\r\n",
        "/bin/sh ../libtool --tag=CC   --mode=compile gcc -DHAVE_CONFIG_H -I. -I.. -I..    -g -O2 -MT fcmp.lo -MD -MP -MF .deps/fcmp.Tpo -c -o fcmp.lo fcmp.c\r\n"
       ]
      },
      {
       "output_type": "stream",
       "stream": "stdout",
       "text": [
        "libtool: compile:  gcc -DHAVE_CONFIG_H -I. -I.. -I.. -g -O2 -MT fcmp.lo -MD -MP -MF .deps/fcmp.Tpo -c fcmp.c  -fno-common -DPIC -o .libs/fcmp.o\r\n"
       ]
      },
      {
       "output_type": "stream",
       "stream": "stdout",
       "text": [
        "libtool: compile:  gcc -DHAVE_CONFIG_H -I. -I.. -I.. -g -O2 -MT fcmp.lo -MD -MP -MF .deps/fcmp.Tpo -c fcmp.c -o fcmp.o >/dev/null 2>&1\r\n"
       ]
      },
      {
       "output_type": "stream",
       "stream": "stdout",
       "text": [
        "mv -f .deps/fcmp.Tpo .deps/fcmp.Plo\r\n",
        "/bin/sh ../libtool --tag=CC   --mode=compile gcc -DHAVE_CONFIG_H -I. -I.. -I..    -g -O2 -MT ldfrexp.lo -MD -MP -MF .deps/ldfrexp.Tpo -c -o ldfrexp.lo ldfrexp.c\r\n"
       ]
      },
      {
       "output_type": "stream",
       "stream": "stdout",
       "text": [
        "libtool: compile:  gcc -DHAVE_CONFIG_H -I. -I.. -I.. -g -O2 -MT ldfrexp.lo -MD -MP -MF .deps/ldfrexp.Tpo -c ldfrexp.c  -fno-common -DPIC -o .libs/ldfrexp.o\r\n",
        "\u001b[01m\u001b[Kldfrexp.c:\u001b[m\u001b[K In function '\u001b[01m\u001b[Kgsl_frexp\u001b[m\u001b[K':\r\n",
        "\u001b[01m\u001b[Kldfrexp.c:63:3:\u001b[m\u001b[K \u001b[01;35m\u001b[Kwarning: \u001b[m\u001b[K'\u001b[01m\u001b[Kfinite\u001b[m\u001b[K' is deprecated [-Wdeprecated-declarations]\r\n",
        "   else if (!finite (x))\r\n",
        "\u001b[01;32m\u001b[K   ^\u001b[m\u001b[K\r\n",
        "In file included from \u001b[01m\u001b[Kldfrexp.c:22:0\u001b[m\u001b[K:\r\n",
        "\u001b[01m\u001b[K/usr/local/Cellar/gcc/5.1.0/lib/gcc/5/gcc/x86_64-apple-darwin14.3.0/5.1.0/include-fixed/math.h:733:12:\u001b[m\u001b[K \u001b[01;36m\u001b[Knote: \u001b[m\u001b[Kdeclared here\r\n",
        " extern int finite(double) __OSX_AVAILABLE_BUT_DEPRECATED(__MAC_10_0, __MAC_10_9, __IPHONE_NA, __IPHONE_NA);\r\n",
        "\u001b[01;32m\u001b[K            ^\u001b[m\u001b[K\r\n",
        "\u001b[01m\u001b[Kldfrexp.c:88:7:\u001b[m\u001b[K \u001b[01;35m\u001b[Kwarning: \u001b[m\u001b[K'\u001b[01m\u001b[Kfinite\u001b[m\u001b[K' is deprecated [-Wdeprecated-declarations]\r\n",
        "       if (!finite (f))\r\n",
        "\u001b[01;32m\u001b[K       ^\u001b[m\u001b[K\r\n",
        "In file included from \u001b[01m\u001b[Kldfrexp.c:22:0\u001b[m\u001b[K:\r\n",
        "\u001b[01m\u001b[K/usr/local/Cellar/gcc/5.1.0/lib/gcc/5/gcc/x86_64-apple-darwin14.3.0/5.1.0/include-fixed/math.h:733:12:\u001b[m\u001b[K \u001b[01;36m\u001b[Knote: \u001b[m\u001b[Kdeclared here\r\n",
        " extern int finite(double) __OSX_AVAILABLE_BUT_DEPRECATED(__MAC_10_0, __MAC_10_9, __IPHONE_NA, __IPHONE_NA);\r\n",
        "\u001b[01;32m\u001b[K            ^\u001b[m\u001b[K\r\n"
       ]
      },
      {
       "output_type": "stream",
       "stream": "stdout",
       "text": [
        "libtool: compile:  gcc -DHAVE_CONFIG_H -I. -I.. -I.. -g -O2 -MT ldfrexp.lo -MD -MP -MF .deps/ldfrexp.Tpo -c ldfrexp.c -o ldfrexp.o >/dev/null 2>&1\r\n"
       ]
      },
      {
       "output_type": "stream",
       "stream": "stdout",
       "text": [
        "mv -f .deps/ldfrexp.Tpo .deps/ldfrexp.Plo\r\n",
        "/bin/sh ../libtool --tag=CC   --mode=link gcc  -g -O2   -o libgslsys.la  minmax.lo prec.lo hypot.lo log1p.lo expm1.lo coerce.lo invhyp.lo pow_int.lo infnan.lo fdiv.lo fcmp.lo ldfrexp.lo  -lm \r\n"
       ]
      },
      {
       "output_type": "stream",
       "stream": "stdout",
       "text": [
        "libtool: link: ar cru .libs/libgslsys.a .libs/minmax.o .libs/prec.o .libs/hypot.o .libs/log1p.o .libs/expm1.o .libs/coerce.o .libs/invhyp.o .libs/pow_int.o .libs/infnan.o .libs/fdiv.o .libs/fcmp.o .libs/ldfrexp.o \r\n"
       ]
      },
      {
       "output_type": "stream",
       "stream": "stdout",
       "text": [
        "libtool: link: ranlib .libs/libgslsys.a\r\n",
        "libtool: link: ( cd \".libs\" && rm -f \"libgslsys.la\" && ln -s \"../libgslsys.la\" \"libgslsys.la\" )\r\n",
        "Making all in test\r\n"
       ]
      },
      {
       "output_type": "stream",
       "stream": "stdout",
       "text": [
        "/bin/sh ../libtool --tag=CC   --mode=compile gcc -DHAVE_CONFIG_H -I. -I..     -g -O2 -MT results.lo -MD -MP -MF .deps/results.Tpo -c -o results.lo results.c\r\n",
        "libtool: compile:  gcc -DHAVE_CONFIG_H -I. -I.. -g -O2 -MT results.lo -MD -MP -MF .deps/results.Tpo -c results.c  -fno-common -DPIC -o .libs/results.o\r\n"
       ]
      },
      {
       "output_type": "stream",
       "stream": "stdout",
       "text": [
        "libtool: compile:  gcc -DHAVE_CONFIG_H -I. -I.. -g -O2 -MT results.lo -MD -MP -MF .deps/results.Tpo -c results.c -o results.o >/dev/null 2>&1\r\n"
       ]
      },
      {
       "output_type": "stream",
       "stream": "stdout",
       "text": [
        "mv -f .deps/results.Tpo .deps/results.Plo\r\n",
        "/bin/sh ../libtool --tag=CC   --mode=link gcc  -g -O2   -o libgsltest.la  results.lo  -lm \r\n"
       ]
      },
      {
       "output_type": "stream",
       "stream": "stdout",
       "text": [
        "libtool: link: ar cru .libs/libgsltest.a .libs/results.o \r\n",
        "libtool: link: ranlib .libs/libgsltest.a\r\n",
        "libtool: link: ( cd \".libs\" && rm -f \"libgsltest.la\" && ln -s \"../libgsltest.la\" \"libgsltest.la\" )\r\n"
       ]
      },
      {
       "output_type": "stream",
       "stream": "stdout",
       "text": [
        "Making all in err\r\n",
        "/bin/sh ../libtool --tag=CC   --mode=compile gcc -DHAVE_CONFIG_H -I. -I..     -g -O2 -MT error.lo -MD -MP -MF .deps/error.Tpo -c -o error.lo error.c\r\n",
        "libtool: compile:  gcc -DHAVE_CONFIG_H -I. -I.. -g -O2 -MT error.lo -MD -MP -MF .deps/error.Tpo -c error.c  -fno-common -DPIC -o .libs/error.o\r\n"
       ]
      },
      {
       "output_type": "stream",
       "stream": "stdout",
       "text": [
        "libtool: compile:  gcc -DHAVE_CONFIG_H -I. -I.. -g -O2 -MT error.lo -MD -MP -MF .deps/error.Tpo -c error.c -o error.o >/dev/null 2>&1\r\n"
       ]
      },
      {
       "output_type": "stream",
       "stream": "stdout",
       "text": [
        "mv -f .deps/error.Tpo .deps/error.Plo\r\n",
        "/bin/sh ../libtool --tag=CC   --mode=compile gcc -DHAVE_CONFIG_H -I. -I..     -g -O2 -MT stream.lo -MD -MP -MF .deps/stream.Tpo -c -o stream.lo stream.c\r\n"
       ]
      },
      {
       "output_type": "stream",
       "stream": "stdout",
       "text": [
        "libtool: compile:  gcc -DHAVE_CONFIG_H -I. -I.. -g -O2 -MT stream.lo -MD -MP -MF .deps/stream.Tpo -c stream.c  -fno-common -DPIC -o .libs/stream.o\r\n"
       ]
      },
      {
       "output_type": "stream",
       "stream": "stdout",
       "text": [
        "libtool: compile:  gcc -DHAVE_CONFIG_H -I. -I.. -g -O2 -MT stream.lo -MD -MP -MF .deps/stream.Tpo -c stream.c -o stream.o >/dev/null 2>&1\r\n"
       ]
      },
      {
       "output_type": "stream",
       "stream": "stdout",
       "text": [
        "mv -f .deps/stream.Tpo .deps/stream.Plo\r\n",
        "/bin/sh ../libtool --tag=CC   --mode=compile gcc -DHAVE_CONFIG_H -I. -I..     -g -O2 -MT message.lo -MD -MP -MF .deps/message.Tpo -c -o message.lo message.c\r\n"
       ]
      },
      {
       "output_type": "stream",
       "stream": "stdout",
       "text": [
        "libtool: compile:  gcc -DHAVE_CONFIG_H -I. -I.. -g -O2 -MT message.lo -MD -MP -MF .deps/message.Tpo -c message.c  -fno-common -DPIC -o .libs/message.o\r\n"
       ]
      },
      {
       "output_type": "stream",
       "stream": "stdout",
       "text": [
        "libtool: compile:  gcc -DHAVE_CONFIG_H -I. -I.. -g -O2 -MT message.lo -MD -MP -MF .deps/message.Tpo -c message.c -o message.o >/dev/null 2>&1\r\n"
       ]
      },
      {
       "output_type": "stream",
       "stream": "stdout",
       "text": [
        "mv -f .deps/message.Tpo .deps/message.Plo\r\n",
        "/bin/sh ../libtool --tag=CC   --mode=compile gcc -DHAVE_CONFIG_H -I. -I..     -g -O2 -MT strerror.lo -MD -MP -MF .deps/strerror.Tpo -c -o strerror.lo strerror.c\r\n",
        "libtool: compile:  gcc -DHAVE_CONFIG_H -I. -I.. -g -O2 -MT strerror.lo -MD -MP -MF .deps/strerror.Tpo -c strerror.c  -fno-common -DPIC -o .libs/strerror.o\r\n"
       ]
      },
      {
       "output_type": "stream",
       "stream": "stdout",
       "text": [
        "libtool: compile:  gcc -DHAVE_CONFIG_H -I. -I.. -g -O2 -MT strerror.lo -MD -MP -MF .deps/strerror.Tpo -c strerror.c -o strerror.o >/dev/null 2>&1\r\n"
       ]
      },
      {
       "output_type": "stream",
       "stream": "stdout",
       "text": [
        "mv -f .deps/strerror.Tpo .deps/strerror.Plo\r\n",
        "/bin/sh ../libtool --tag=CC   --mode=link gcc  -g -O2   -o libgslerr.la  error.lo stream.lo message.lo strerror.lo  -lm \r\n"
       ]
      },
      {
       "output_type": "stream",
       "stream": "stdout",
       "text": [
        "libtool: link: ar cru .libs/libgslerr.a .libs/error.o .libs/stream.o .libs/message.o .libs/strerror.o \r\n",
        "libtool: link: ranlib .libs/libgslerr.a\r\n"
       ]
      },
      {
       "output_type": "stream",
       "stream": "stdout",
       "text": [
        "libtool: link: ( cd \".libs\" && rm -f \"libgslerr.la\" && ln -s \"../libgslerr.la\" \"libgslerr.la\" )\r\n",
        "Making all in const\r\n",
        "make[2]: Nothing to be done for `all'.\r\n",
        "Making all in complex\r\n"
       ]
      },
      {
       "output_type": "stream",
       "stream": "stdout",
       "text": [
        "/bin/sh ../libtool --tag=CC   --mode=compile gcc -DHAVE_CONFIG_H -I. -I.. -I..    -g -O2 -MT math.lo -MD -MP -MF .deps/math.Tpo -c -o math.lo math.c\r\n",
        "libtool: compile:  gcc -DHAVE_CONFIG_H -I. -I.. -I.. -g -O2 -MT math.lo -MD -MP -MF .deps/math.Tpo -c math.c  -fno-common -DPIC -o .libs/math.o\r\n"
       ]
      },
      {
       "output_type": "stream",
       "stream": "stdout",
       "text": [
        "libtool: compile:  gcc -DHAVE_CONFIG_H -I. -I.. -I.. -g -O2 -MT math.lo -MD -MP -MF .deps/math.Tpo -c math.c -o math.o >/dev/null 2>&1\r\n"
       ]
      },
      {
       "output_type": "stream",
       "stream": "stdout",
       "text": [
        "mv -f .deps/math.Tpo .deps/math.Plo\r\n",
        "/bin/sh ../libtool --tag=CC   --mode=compile gcc -DHAVE_CONFIG_H -I. -I.. -I..    -g -O2 -MT inline.lo -MD -MP -MF .deps/inline.Tpo -c -o inline.lo inline.c\r\n",
        "libtool: compile:  gcc -DHAVE_CONFIG_H -I. -I.. -I.. -g -O2 -MT inline.lo -MD -MP -MF .deps/inline.Tpo -c inline.c  -fno-common -DPIC -o .libs/inline.o\r\n"
       ]
      },
      {
       "output_type": "stream",
       "stream": "stdout",
       "text": [
        "libtool: compile:  gcc -DHAVE_CONFIG_H -I. -I.. -I.. -g -O2 -MT inline.lo -MD -MP -MF .deps/inline.Tpo -c inline.c -o inline.o >/dev/null 2>&1\r\n"
       ]
      },
      {
       "output_type": "stream",
       "stream": "stdout",
       "text": [
        "mv -f .deps/inline.Tpo .deps/inline.Plo\r\n",
        "/bin/sh ../libtool --tag=CC   --mode=link gcc  -g -O2   -o libgslcomplex.la  math.lo inline.lo  -lm \r\n"
       ]
      },
      {
       "output_type": "stream",
       "stream": "stdout",
       "text": [
        "libtool: link: ar cru .libs/libgslcomplex.a .libs/math.o .libs/inline.o \r\n"
       ]
      },
      {
       "output_type": "stream",
       "stream": "stdout",
       "text": [
        "libtool: link: ranlib .libs/libgslcomplex.a\r\n",
        "libtool: link: ( cd \".libs\" && rm -f \"libgslcomplex.la\" && ln -s \"../libgslcomplex.la\" \"libgslcomplex.la\" )\r\n"
       ]
      },
      {
       "output_type": "stream",
       "stream": "stdout",
       "text": [
        "Making all in cheb\r\n",
        "/bin/sh ../libtool --tag=CC   --mode=compile gcc -DHAVE_CONFIG_H -I. -I.. -I..    -g -O2 -MT deriv.lo -MD -MP -MF .deps/deriv.Tpo -c -o deriv.lo deriv.c\r\n",
        "libtool: compile:  gcc -DHAVE_CONFIG_H -I. -I.. -I.. -g -O2 -MT deriv.lo -MD -MP -MF .deps/deriv.Tpo -c deriv.c  -fno-common -DPIC -o .libs/deriv.o\r\n"
       ]
      },
      {
       "output_type": "stream",
       "stream": "stdout",
       "text": [
        "libtool: compile:  gcc -DHAVE_CONFIG_H -I. -I.. -I.. -g -O2 -MT deriv.lo -MD -MP -MF .deps/deriv.Tpo -c deriv.c -o deriv.o >/dev/null 2>&1\r\n"
       ]
      },
      {
       "output_type": "stream",
       "stream": "stdout",
       "text": [
        "mv -f .deps/deriv.Tpo .deps/deriv.Plo\r\n",
        "/bin/sh ../libtool --tag=CC   --mode=compile gcc -DHAVE_CONFIG_H -I. -I.. -I..    -g -O2 -MT eval.lo -MD -MP -MF .deps/eval.Tpo -c -o eval.lo eval.c\r\n",
        "libtool: compile:  gcc -DHAVE_CONFIG_H -I. -I.. -I.. -g -O2 -MT eval.lo -MD -MP -MF .deps/eval.Tpo -c eval.c  -fno-common -DPIC -o .libs/eval.o\r\n"
       ]
      },
      {
       "output_type": "stream",
       "stream": "stdout",
       "text": [
        "libtool: compile:  gcc -DHAVE_CONFIG_H -I. -I.. -I.. -g -O2 -MT eval.lo -MD -MP -MF .deps/eval.Tpo -c eval.c -o eval.o >/dev/null 2>&1\r\n"
       ]
      },
      {
       "output_type": "stream",
       "stream": "stdout",
       "text": [
        "mv -f .deps/eval.Tpo .deps/eval.Plo\r\n",
        "/bin/sh ../libtool --tag=CC   --mode=compile gcc -DHAVE_CONFIG_H -I. -I.. -I..    -g -O2 -MT init.lo -MD -MP -MF .deps/init.Tpo -c -o init.lo init.c\r\n"
       ]
      },
      {
       "output_type": "stream",
       "stream": "stdout",
       "text": [
        "libtool: compile:  gcc -DHAVE_CONFIG_H -I. -I.. -I.. -g -O2 -MT init.lo -MD -MP -MF .deps/init.Tpo -c init.c  -fno-common -DPIC -o .libs/init.o\r\n"
       ]
      },
      {
       "output_type": "stream",
       "stream": "stdout",
       "text": [
        "libtool: compile:  gcc -DHAVE_CONFIG_H -I. -I.. -I.. -g -O2 -MT init.lo -MD -MP -MF .deps/init.Tpo -c init.c -o init.o >/dev/null 2>&1\r\n"
       ]
      },
      {
       "output_type": "stream",
       "stream": "stdout",
       "text": [
        "mv -f .deps/init.Tpo .deps/init.Plo\r\n",
        "/bin/sh ../libtool --tag=CC   --mode=compile gcc -DHAVE_CONFIG_H -I. -I.. -I..    -g -O2 -MT integ.lo -MD -MP -MF .deps/integ.Tpo -c -o integ.lo integ.c\r\n"
       ]
      },
      {
       "output_type": "stream",
       "stream": "stdout",
       "text": [
        "libtool: compile:  gcc -DHAVE_CONFIG_H -I. -I.. -I.. -g -O2 -MT integ.lo -MD -MP -MF .deps/integ.Tpo -c integ.c  -fno-common -DPIC -o .libs/integ.o\r\n"
       ]
      },
      {
       "output_type": "stream",
       "stream": "stdout",
       "text": [
        "libtool: compile:  gcc -DHAVE_CONFIG_H -I. -I.. -I.. -g -O2 -MT integ.lo -MD -MP -MF .deps/integ.Tpo -c integ.c -o integ.o >/dev/null 2>&1\r\n"
       ]
      },
      {
       "output_type": "stream",
       "stream": "stdout",
       "text": [
        "mv -f .deps/integ.Tpo .deps/integ.Plo\r\n",
        "/bin/sh ../libtool --tag=CC   --mode=link gcc  -g -O2   -o libgslcheb.la  deriv.lo eval.lo init.lo integ.lo  -lm \r\n"
       ]
      },
      {
       "output_type": "stream",
       "stream": "stdout",
       "text": [
        "libtool: link: ar cru .libs/libgslcheb.a .libs/deriv.o .libs/eval.o .libs/init.o .libs/integ.o \r\n"
       ]
      },
      {
       "output_type": "stream",
       "stream": "stdout",
       "text": [
        "libtool: link: ranlib .libs/libgslcheb.a\r\n",
        "libtool: link: ( cd \".libs\" && rm -f \"libgslcheb.la\" && ln -s \"../libgslcheb.la\" \"libgslcheb.la\" )\r\n",
        "Making all in block\r\n"
       ]
      },
      {
       "output_type": "stream",
       "stream": "stdout",
       "text": [
        "/bin/sh ../libtool --tag=CC   --mode=compile gcc -DHAVE_CONFIG_H -I. -I.. -I..    -g -O2 -MT init.lo -MD -MP -MF .deps/init.Tpo -c -o init.lo init.c\r\n",
        "libtool: compile:  gcc -DHAVE_CONFIG_H -I. -I.. -I.. -g -O2 -MT init.lo -MD -MP -MF .deps/init.Tpo -c init.c  -fno-common -DPIC -o .libs/init.o\r\n"
       ]
      },
      {
       "output_type": "stream",
       "stream": "stdout",
       "text": [
        "libtool: compile:  gcc -DHAVE_CONFIG_H -I. -I.. -I.. -g -O2 -MT init.lo -MD -MP -MF .deps/init.Tpo -c init.c -o init.o >/dev/null 2>&1\r\n"
       ]
      },
      {
       "output_type": "stream",
       "stream": "stdout",
       "text": [
        "mv -f .deps/init.Tpo .deps/init.Plo\r\n",
        "/bin/sh ../libtool --tag=CC   --mode=compile gcc -DHAVE_CONFIG_H -I. -I.. -I..    -g -O2 -MT file.lo -MD -MP -MF .deps/file.Tpo -c -o file.lo file.c\r\n",
        "libtool: compile:  gcc -DHAVE_CONFIG_H -I. -I.. -I.. -g -O2 -MT file.lo -MD -MP -MF .deps/file.Tpo -c file.c  -fno-common -DPIC -o .libs/file.o\r\n"
       ]
      },
      {
       "output_type": "stream",
       "stream": "stdout",
       "text": [
        "libtool: compile:  gcc -DHAVE_CONFIG_H -I. -I.. -I.. -g -O2 -MT file.lo -MD -MP -MF .deps/file.Tpo -c file.c -o file.o >/dev/null 2>&1\r\n"
       ]
      },
      {
       "output_type": "stream",
       "stream": "stdout",
       "text": [
        "mv -f .deps/file.Tpo .deps/file.Plo\r\n",
        "/bin/sh ../libtool --tag=CC   --mode=compile gcc -DHAVE_CONFIG_H -I. -I.. -I..    -g -O2 -MT block.lo -MD -MP -MF .deps/block.Tpo -c -o block.lo block.c\r\n"
       ]
      },
      {
       "output_type": "stream",
       "stream": "stdout",
       "text": [
        "libtool: compile:  gcc -DHAVE_CONFIG_H -I. -I.. -I.. -g -O2 -MT block.lo -MD -MP -MF .deps/block.Tpo -c block.c  -fno-common -DPIC -o .libs/block.o\r\n"
       ]
      },
      {
       "output_type": "stream",
       "stream": "stdout",
       "text": [
        "libtool: compile:  gcc -DHAVE_CONFIG_H -I. -I.. -I.. -g -O2 -MT block.lo -MD -MP -MF .deps/block.Tpo -c block.c -o block.o >/dev/null 2>&1\r\n"
       ]
      },
      {
       "output_type": "stream",
       "stream": "stdout",
       "text": [
        "mv -f .deps/block.Tpo .deps/block.Plo\r\n",
        "/bin/sh ../libtool --tag=CC   --mode=link gcc  -g -O2   -o libgslblock.la  init.lo file.lo block.lo  -lm \r\n"
       ]
      },
      {
       "output_type": "stream",
       "stream": "stdout",
       "text": [
        "libtool: link: ar cru .libs/libgslblock.a .libs/init.o .libs/file.o .libs/block.o \r\n",
        "libtool: link: ranlib .libs/libgslblock.a\r\n"
       ]
      },
      {
       "output_type": "stream",
       "stream": "stdout",
       "text": [
        "libtool: link: ( cd \".libs\" && rm -f \"libgslblock.la\" && ln -s \"../libgslblock.la\" \"libgslblock.la\" )\r\n",
        "Making all in vector\r\n",
        "/bin/sh ../libtool --tag=CC   --mode=compile gcc -DHAVE_CONFIG_H -I. -I.. -I..    -g -O2 -MT init.lo -MD -MP -MF .deps/init.Tpo -c -o init.lo init.c\r\n"
       ]
      },
      {
       "output_type": "stream",
       "stream": "stdout",
       "text": [
        "libtool: compile:  gcc -DHAVE_CONFIG_H -I. -I.. -I.. -g -O2 -MT init.lo -MD -MP -MF .deps/init.Tpo -c init.c  -fno-common -DPIC -o .libs/init.o\r\n"
       ]
      },
      {
       "output_type": "stream",
       "stream": "stdout",
       "text": [
        "libtool: compile:  gcc -DHAVE_CONFIG_H -I. -I.. -I.. -g -O2 -MT init.lo -MD -MP -MF .deps/init.Tpo -c init.c -o init.o >/dev/null 2>&1\r\n"
       ]
      },
      {
       "output_type": "stream",
       "stream": "stdout",
       "text": [
        "mv -f .deps/init.Tpo .deps/init.Plo\r\n",
        "/bin/sh ../libtool --tag=CC   --mode=compile gcc -DHAVE_CONFIG_H -I. -I.. -I..    -g -O2 -MT file.lo -MD -MP -MF .deps/file.Tpo -c -o file.lo file.c\r\n",
        "libtool: compile:  gcc -DHAVE_CONFIG_H -I. -I.. -I.. -g -O2 -MT file.lo -MD -MP -MF .deps/file.Tpo -c file.c  -fno-common -DPIC -o .libs/file.o\r\n"
       ]
      },
      {
       "output_type": "stream",
       "stream": "stdout",
       "text": [
        "libtool: compile:  gcc -DHAVE_CONFIG_H -I. -I.. -I.. -g -O2 -MT file.lo -MD -MP -MF .deps/file.Tpo -c file.c -o file.o >/dev/null 2>&1\r\n"
       ]
      },
      {
       "output_type": "stream",
       "stream": "stdout",
       "text": [
        "mv -f .deps/file.Tpo .deps/file.Plo\r\n",
        "/bin/sh ../libtool --tag=CC   --mode=compile gcc -DHAVE_CONFIG_H -I. -I.. -I..    -g -O2 -MT vector.lo -MD -MP -MF .deps/vector.Tpo -c -o vector.lo vector.c\r\n",
        "libtool: compile:  gcc -DHAVE_CONFIG_H -I. -I.. -I.. -g -O2 -MT vector.lo -MD -MP -MF .deps/vector.Tpo -c vector.c  -fno-common -DPIC -o .libs/vector.o\r\n"
       ]
      },
      {
       "output_type": "stream",
       "stream": "stdout",
       "text": [
        "libtool: compile:  gcc -DHAVE_CONFIG_H -I. -I.. -I.. -g -O2 -MT vector.lo -MD -MP -MF .deps/vector.Tpo -c vector.c -o vector.o >/dev/null 2>&1\r\n"
       ]
      },
      {
       "output_type": "stream",
       "stream": "stdout",
       "text": [
        "mv -f .deps/vector.Tpo .deps/vector.Plo\r\n",
        "/bin/sh ../libtool --tag=CC   --mode=compile gcc -DHAVE_CONFIG_H -I. -I.. -I..    -g -O2 -MT copy.lo -MD -MP -MF .deps/copy.Tpo -c -o copy.lo copy.c\r\n",
        "libtool: compile:  gcc -DHAVE_CONFIG_H -I. -I.. -I.. -g -O2 -MT copy.lo -MD -MP -MF .deps/copy.Tpo -c copy.c  -fno-common -DPIC -o .libs/copy.o\r\n"
       ]
      },
      {
       "output_type": "stream",
       "stream": "stdout",
       "text": [
        "libtool: compile:  gcc -DHAVE_CONFIG_H -I. -I.. -I.. -g -O2 -MT copy.lo -MD -MP -MF .deps/copy.Tpo -c copy.c -o copy.o >/dev/null 2>&1\r\n"
       ]
      },
      {
       "output_type": "stream",
       "stream": "stdout",
       "text": [
        "mv -f .deps/copy.Tpo .deps/copy.Plo\r\n",
        "/bin/sh ../libtool --tag=CC   --mode=compile gcc -DHAVE_CONFIG_H -I. -I.. -I..    -g -O2 -MT swap.lo -MD -MP -MF .deps/swap.Tpo -c -o swap.lo swap.c\r\n"
       ]
      },
      {
       "output_type": "stream",
       "stream": "stdout",
       "text": [
        "libtool: compile:  gcc -DHAVE_CONFIG_H -I. -I.. -I.. -g -O2 -MT swap.lo -MD -MP -MF .deps/swap.Tpo -c swap.c  -fno-common -DPIC -o .libs/swap.o\r\n"
       ]
      },
      {
       "output_type": "stream",
       "stream": "stdout",
       "text": [
        "libtool: compile:  gcc -DHAVE_CONFIG_H -I. -I.. -I.. -g -O2 -MT swap.lo -MD -MP -MF .deps/swap.Tpo -c swap.c -o swap.o >/dev/null 2>&1\r\n"
       ]
      },
      {
       "output_type": "stream",
       "stream": "stdout",
       "text": [
        "mv -f .deps/swap.Tpo .deps/swap.Plo\r\n",
        "/bin/sh ../libtool --tag=CC   --mode=compile gcc -DHAVE_CONFIG_H -I. -I.. -I..    -g -O2 -MT prop.lo -MD -MP -MF .deps/prop.Tpo -c -o prop.lo prop.c\r\n"
       ]
      },
      {
       "output_type": "stream",
       "stream": "stdout",
       "text": [
        "libtool: compile:  gcc -DHAVE_CONFIG_H -I. -I.. -I.. -g -O2 -MT prop.lo -MD -MP -MF .deps/prop.Tpo -c prop.c  -fno-common -DPIC -o .libs/prop.o\r\n"
       ]
      },
      {
       "output_type": "stream",
       "stream": "stdout",
       "text": [
        "libtool: compile:  gcc -DHAVE_CONFIG_H -I. -I.. -I.. -g -O2 -MT prop.lo -MD -MP -MF .deps/prop.Tpo -c prop.c -o prop.o >/dev/null 2>&1\r\n"
       ]
      },
      {
       "output_type": "stream",
       "stream": "stdout",
       "text": [
        "mv -f .deps/prop.Tpo .deps/prop.Plo\r\n",
        "/bin/sh ../libtool --tag=CC   --mode=compile gcc -DHAVE_CONFIG_H -I. -I.. -I..    -g -O2 -MT minmax.lo -MD -MP -MF .deps/minmax.Tpo -c -o minmax.lo minmax.c\r\n"
       ]
      },
      {
       "output_type": "stream",
       "stream": "stdout",
       "text": [
        "libtool: compile:  gcc -DHAVE_CONFIG_H -I. -I.. -I.. -g -O2 -MT minmax.lo -MD -MP -MF .deps/minmax.Tpo -c minmax.c  -fno-common -DPIC -o .libs/minmax.o\r\n"
       ]
      },
      {
       "output_type": "stream",
       "stream": "stdout",
       "text": [
        "libtool: compile:  gcc -DHAVE_CONFIG_H -I. -I.. -I.. -g -O2 -MT minmax.lo -MD -MP -MF .deps/minmax.Tpo -c minmax.c -o minmax.o >/dev/null 2>&1\r\n"
       ]
      },
      {
       "output_type": "stream",
       "stream": "stdout",
       "text": [
        "mv -f .deps/minmax.Tpo .deps/minmax.Plo\r\n",
        "/bin/sh ../libtool --tag=CC   --mode=compile gcc -DHAVE_CONFIG_H -I. -I.. -I..    -g -O2 -MT oper.lo -MD -MP -MF .deps/oper.Tpo -c -o oper.lo oper.c\r\n",
        "libtool: compile:  gcc -DHAVE_CONFIG_H -I. -I.. -I.. -g -O2 -MT oper.lo -MD -MP -MF .deps/oper.Tpo -c oper.c  -fno-common -DPIC -o .libs/oper.o\r\n"
       ]
      },
      {
       "output_type": "stream",
       "stream": "stdout",
       "text": [
        "libtool: compile:  gcc -DHAVE_CONFIG_H -I. -I.. -I.. -g -O2 -MT oper.lo -MD -MP -MF .deps/oper.Tpo -c oper.c -o oper.o >/dev/null 2>&1\r\n"
       ]
      },
      {
       "output_type": "stream",
       "stream": "stdout",
       "text": [
        "mv -f .deps/oper.Tpo .deps/oper.Plo\r\n",
        "/bin/sh ../libtool --tag=CC   --mode=compile gcc -DHAVE_CONFIG_H -I. -I.. -I..    -g -O2 -MT reim.lo -MD -MP -MF .deps/reim.Tpo -c -o reim.lo reim.c\r\n"
       ]
      },
      {
       "output_type": "stream",
       "stream": "stdout",
       "text": [
        "libtool: compile:  gcc -DHAVE_CONFIG_H -I. -I.. -I.. -g -O2 -MT reim.lo -MD -MP -MF .deps/reim.Tpo -c reim.c  -fno-common -DPIC -o .libs/reim.o\r\n"
       ]
      },
      {
       "output_type": "stream",
       "stream": "stdout",
       "text": [
        "libtool: compile:  gcc -DHAVE_CONFIG_H -I. -I.. -I.. -g -O2 -MT reim.lo -MD -MP -MF .deps/reim.Tpo -c reim.c -o reim.o >/dev/null 2>&1\r\n"
       ]
      },
      {
       "output_type": "stream",
       "stream": "stdout",
       "text": [
        "mv -f .deps/reim.Tpo .deps/reim.Plo\r\n",
        "/bin/sh ../libtool --tag=CC   --mode=compile gcc -DHAVE_CONFIG_H -I. -I.. -I..    -g -O2 -MT subvector.lo -MD -MP -MF .deps/subvector.Tpo -c -o subvector.lo subvector.c\r\n"
       ]
      },
      {
       "output_type": "stream",
       "stream": "stdout",
       "text": [
        "libtool: compile:  gcc -DHAVE_CONFIG_H -I. -I.. -I.. -g -O2 -MT subvector.lo -MD -MP -MF .deps/subvector.Tpo -c subvector.c  -fno-common -DPIC -o .libs/subvector.o\r\n"
       ]
      },
      {
       "output_type": "stream",
       "stream": "stdout",
       "text": [
        "libtool: compile:  gcc -DHAVE_CONFIG_H -I. -I.. -I.. -g -O2 -MT subvector.lo -MD -MP -MF .deps/subvector.Tpo -c subvector.c -o subvector.o >/dev/null 2>&1\r\n"
       ]
      },
      {
       "output_type": "stream",
       "stream": "stdout",
       "text": [
        "mv -f .deps/subvector.Tpo .deps/subvector.Plo\r\n",
        "/bin/sh ../libtool --tag=CC   --mode=compile gcc -DHAVE_CONFIG_H -I. -I.. -I..    -g -O2 -MT view.lo -MD -MP -MF .deps/view.Tpo -c -o view.lo view.c\r\n"
       ]
      },
      {
       "output_type": "stream",
       "stream": "stdout",
       "text": [
        "libtool: compile:  gcc -DHAVE_CONFIG_H -I. -I.. -I.. -g -O2 -MT view.lo -MD -MP -MF .deps/view.Tpo -c view.c  -fno-common -DPIC -o .libs/view.o\r\n"
       ]
      },
      {
       "output_type": "stream",
       "stream": "stdout",
       "text": [
        "libtool: compile:  gcc -DHAVE_CONFIG_H -I. -I.. -I.. -g -O2 -MT view.lo -MD -MP -MF .deps/view.Tpo -c view.c -o view.o >/dev/null 2>&1\r\n"
       ]
      },
      {
       "output_type": "stream",
       "stream": "stdout",
       "text": [
        "mv -f .deps/view.Tpo .deps/view.Plo\r\n",
        "/bin/sh ../libtool --tag=CC   --mode=link gcc  -g -O2   -o libgslvector.la  init.lo file.lo vector.lo copy.lo swap.lo prop.lo minmax.lo oper.lo reim.lo subvector.lo view.lo  -lm \r\n"
       ]
      },
      {
       "output_type": "stream",
       "stream": "stdout",
       "text": [
        "libtool: link: ar cru .libs/libgslvector.a .libs/init.o .libs/file.o .libs/vector.o .libs/copy.o .libs/swap.o .libs/prop.o .libs/minmax.o .libs/oper.o .libs/reim.o .libs/subvector.o .libs/view.o \r\n"
       ]
      },
      {
       "output_type": "stream",
       "stream": "stdout",
       "text": [
        "libtool: link: ranlib .libs/libgslvector.a\r\n"
       ]
      },
      {
       "output_type": "stream",
       "stream": "stdout",
       "text": [
        "libtool: link: ( cd \".libs\" && rm -f \"libgslvector.la\" && ln -s \"../libgslvector.la\" \"libgslvector.la\" )\r\n",
        "Making all in matrix\r\n"
       ]
      },
      {
       "output_type": "stream",
       "stream": "stdout",
       "text": [
        "/bin/sh ../libtool --tag=CC   --mode=compile gcc -DHAVE_CONFIG_H -I. -I.. -I..    -g -O2 -MT init.lo -MD -MP -MF .deps/init.Tpo -c -o init.lo init.c\r\n",
        "libtool: compile:  gcc -DHAVE_CONFIG_H -I. -I.. -I.. -g -O2 -MT init.lo -MD -MP -MF .deps/init.Tpo -c init.c  -fno-common -DPIC -o .libs/init.o\r\n"
       ]
      },
      {
       "output_type": "stream",
       "stream": "stdout",
       "text": [
        "libtool: compile:  gcc -DHAVE_CONFIG_H -I. -I.. -I.. -g -O2 -MT init.lo -MD -MP -MF .deps/init.Tpo -c init.c -o init.o >/dev/null 2>&1\r\n"
       ]
      },
      {
       "output_type": "stream",
       "stream": "stdout",
       "text": [
        "mv -f .deps/init.Tpo .deps/init.Plo\r\n",
        "/bin/sh ../libtool --tag=CC   --mode=compile gcc -DHAVE_CONFIG_H -I. -I.. -I..    -g -O2 -MT matrix.lo -MD -MP -MF .deps/matrix.Tpo -c -o matrix.lo matrix.c\r\n",
        "libtool: compile:  gcc -DHAVE_CONFIG_H -I. -I.. -I.. -g -O2 -MT matrix.lo -MD -MP -MF .deps/matrix.Tpo -c matrix.c  -fno-common -DPIC -o .libs/matrix.o\r\n"
       ]
      },
      {
       "output_type": "stream",
       "stream": "stdout",
       "text": [
        "libtool: compile:  gcc -DHAVE_CONFIG_H -I. -I.. -I.. -g -O2 -MT matrix.lo -MD -MP -MF .deps/matrix.Tpo -c matrix.c -o matrix.o >/dev/null 2>&1\r\n"
       ]
      },
      {
       "output_type": "stream",
       "stream": "stdout",
       "text": [
        "mv -f .deps/matrix.Tpo .deps/matrix.Plo\r\n",
        "/bin/sh ../libtool --tag=CC   --mode=compile gcc -DHAVE_CONFIG_H -I. -I.. -I..    -g -O2 -MT file.lo -MD -MP -MF .deps/file.Tpo -c -o file.lo file.c\r\n",
        "libtool: compile:  gcc -DHAVE_CONFIG_H -I. -I.. -I.. -g -O2 -MT file.lo -MD -MP -MF .deps/file.Tpo -c file.c  -fno-common -DPIC -o .libs/file.o\r\n"
       ]
      },
      {
       "output_type": "stream",
       "stream": "stdout",
       "text": [
        "libtool: compile:  gcc -DHAVE_CONFIG_H -I. -I.. -I.. -g -O2 -MT file.lo -MD -MP -MF .deps/file.Tpo -c file.c -o file.o >/dev/null 2>&1\r\n"
       ]
      },
      {
       "output_type": "stream",
       "stream": "stdout",
       "text": [
        "mv -f .deps/file.Tpo .deps/file.Plo\r\n",
        "/bin/sh ../libtool --tag=CC   --mode=compile gcc -DHAVE_CONFIG_H -I. -I.. -I..    -g -O2 -MT rowcol.lo -MD -MP -MF .deps/rowcol.Tpo -c -o rowcol.lo rowcol.c\r\n",
        "libtool: compile:  gcc -DHAVE_CONFIG_H -I. -I.. -I.. -g -O2 -MT rowcol.lo -MD -MP -MF .deps/rowcol.Tpo -c rowcol.c  -fno-common -DPIC -o .libs/rowcol.o\r\n"
       ]
      },
      {
       "output_type": "stream",
       "stream": "stdout",
       "text": [
        "libtool: compile:  gcc -DHAVE_CONFIG_H -I. -I.. -I.. -g -O2 -MT rowcol.lo -MD -MP -MF .deps/rowcol.Tpo -c rowcol.c -o rowcol.o >/dev/null 2>&1\r\n"
       ]
      },
      {
       "output_type": "stream",
       "stream": "stdout",
       "text": [
        "mv -f .deps/rowcol.Tpo .deps/rowcol.Plo\r\n",
        "/bin/sh ../libtool --tag=CC   --mode=compile gcc -DHAVE_CONFIG_H -I. -I.. -I..    -g -O2 -MT swap.lo -MD -MP -MF .deps/swap.Tpo -c -o swap.lo swap.c\r\n"
       ]
      },
      {
       "output_type": "stream",
       "stream": "stdout",
       "text": [
        "libtool: compile:  gcc -DHAVE_CONFIG_H -I. -I.. -I.. -g -O2 -MT swap.lo -MD -MP -MF .deps/swap.Tpo -c swap.c  -fno-common -DPIC -o .libs/swap.o\r\n"
       ]
      },
      {
       "output_type": "stream",
       "stream": "stdout",
       "text": [
        "libtool: compile:  gcc -DHAVE_CONFIG_H -I. -I.. -I.. -g -O2 -MT swap.lo -MD -MP -MF .deps/swap.Tpo -c swap.c -o swap.o >/dev/null 2>&1\r\n"
       ]
      },
      {
       "output_type": "stream",
       "stream": "stdout",
       "text": [
        "mv -f .deps/swap.Tpo .deps/swap.Plo\r\n",
        "/bin/sh ../libtool --tag=CC   --mode=compile gcc -DHAVE_CONFIG_H -I. -I.. -I..    -g -O2 -MT copy.lo -MD -MP -MF .deps/copy.Tpo -c -o copy.lo copy.c\r\n"
       ]
      },
      {
       "output_type": "stream",
       "stream": "stdout",
       "text": [
        "libtool: compile:  gcc -DHAVE_CONFIG_H -I. -I.. -I.. -g -O2 -MT copy.lo -MD -MP -MF .deps/copy.Tpo -c copy.c  -fno-common -DPIC -o .libs/copy.o\r\n"
       ]
      },
      {
       "output_type": "stream",
       "stream": "stdout",
       "text": [
        "libtool: compile:  gcc -DHAVE_CONFIG_H -I. -I.. -I.. -g -O2 -MT copy.lo -MD -MP -MF .deps/copy.Tpo -c copy.c -o copy.o >/dev/null 2>&1\r\n"
       ]
      },
      {
       "output_type": "stream",
       "stream": "stdout",
       "text": [
        "mv -f .deps/copy.Tpo .deps/copy.Plo\r\n",
        "/bin/sh ../libtool --tag=CC   --mode=compile gcc -DHAVE_CONFIG_H -I. -I.. -I..    -g -O2 -MT minmax.lo -MD -MP -MF .deps/minmax.Tpo -c -o minmax.lo minmax.c\r\n",
        "libtool: compile:  gcc -DHAVE_CONFIG_H -I. -I.. -I.. -g -O2 -MT minmax.lo -MD -MP -MF .deps/minmax.Tpo -c minmax.c  -fno-common -DPIC -o .libs/minmax.o\r\n"
       ]
      },
      {
       "output_type": "stream",
       "stream": "stdout",
       "text": [
        "libtool: compile:  gcc -DHAVE_CONFIG_H -I. -I.. -I.. -g -O2 -MT minmax.lo -MD -MP -MF .deps/minmax.Tpo -c minmax.c -o minmax.o >/dev/null 2>&1\r\n"
       ]
      },
      {
       "output_type": "stream",
       "stream": "stdout",
       "text": [
        "mv -f .deps/minmax.Tpo .deps/minmax.Plo\r\n",
        "/bin/sh ../libtool --tag=CC   --mode=compile gcc -DHAVE_CONFIG_H -I. -I.. -I..    -g -O2 -MT prop.lo -MD -MP -MF .deps/prop.Tpo -c -o prop.lo prop.c\r\n"
       ]
      },
      {
       "output_type": "stream",
       "stream": "stdout",
       "text": [
        "libtool: compile:  gcc -DHAVE_CONFIG_H -I. -I.. -I.. -g -O2 -MT prop.lo -MD -MP -MF .deps/prop.Tpo -c prop.c  -fno-common -DPIC -o .libs/prop.o\r\n"
       ]
      },
      {
       "output_type": "stream",
       "stream": "stdout",
       "text": [
        "libtool: compile:  gcc -DHAVE_CONFIG_H -I. -I.. -I.. -g -O2 -MT prop.lo -MD -MP -MF .deps/prop.Tpo -c prop.c -o prop.o >/dev/null 2>&1\r\n"
       ]
      },
      {
       "output_type": "stream",
       "stream": "stdout",
       "text": [
        "mv -f .deps/prop.Tpo .deps/prop.Plo\r\n",
        "/bin/sh ../libtool --tag=CC   --mode=compile gcc -DHAVE_CONFIG_H -I. -I.. -I..    -g -O2 -MT oper.lo -MD -MP -MF .deps/oper.Tpo -c -o oper.lo oper.c\r\n",
        "libtool: compile:  gcc -DHAVE_CONFIG_H -I. -I.. -I.. -g -O2 -MT oper.lo -MD -MP -MF .deps/oper.Tpo -c oper.c  -fno-common -DPIC -o .libs/oper.o\r\n"
       ]
      },
      {
       "output_type": "stream",
       "stream": "stdout",
       "text": [
        "libtool: compile:  gcc -DHAVE_CONFIG_H -I. -I.. -I.. -g -O2 -MT oper.lo -MD -MP -MF .deps/oper.Tpo -c oper.c -o oper.o >/dev/null 2>&1\r\n"
       ]
      },
      {
       "output_type": "stream",
       "stream": "stdout",
       "text": [
        "mv -f .deps/oper.Tpo .deps/oper.Plo\r\n",
        "/bin/sh ../libtool --tag=CC   --mode=compile gcc -DHAVE_CONFIG_H -I. -I.. -I..    -g -O2 -MT getset.lo -MD -MP -MF .deps/getset.Tpo -c -o getset.lo getset.c\r\n",
        "libtool: compile:  gcc -DHAVE_CONFIG_H -I. -I.. -I.. -g -O2 -MT getset.lo -MD -MP -MF .deps/getset.Tpo -c getset.c  -fno-common -DPIC -o .libs/getset.o\r\n"
       ]
      },
      {
       "output_type": "stream",
       "stream": "stdout",
       "text": [
        "libtool: compile:  gcc -DHAVE_CONFIG_H -I. -I.. -I.. -g -O2 -MT getset.lo -MD -MP -MF .deps/getset.Tpo -c getset.c -o getset.o >/dev/null 2>&1\r\n"
       ]
      },
      {
       "output_type": "stream",
       "stream": "stdout",
       "text": [
        "mv -f .deps/getset.Tpo .deps/getset.Plo\r\n",
        "/bin/sh ../libtool --tag=CC   --mode=compile gcc -DHAVE_CONFIG_H -I. -I.. -I..    -g -O2 -MT view.lo -MD -MP -MF .deps/view.Tpo -c -o view.lo view.c\r\n"
       ]
      },
      {
       "output_type": "stream",
       "stream": "stdout",
       "text": [
        "libtool: compile:  gcc -DHAVE_CONFIG_H -I. -I.. -I.. -g -O2 -MT view.lo -MD -MP -MF .deps/view.Tpo -c view.c  -fno-common -DPIC -o .libs/view.o\r\n"
       ]
      },
      {
       "output_type": "stream",
       "stream": "stdout",
       "text": [
        "libtool: compile:  gcc -DHAVE_CONFIG_H -I. -I.. -I.. -g -O2 -MT view.lo -MD -MP -MF .deps/view.Tpo -c view.c -o view.o >/dev/null 2>&1\r\n"
       ]
      },
      {
       "output_type": "stream",
       "stream": "stdout",
       "text": [
        "mv -f .deps/view.Tpo .deps/view.Plo\r\n",
        "/bin/sh ../libtool --tag=CC   --mode=compile gcc -DHAVE_CONFIG_H -I. -I.. -I..    -g -O2 -MT submatrix.lo -MD -MP -MF .deps/submatrix.Tpo -c -o submatrix.lo submatrix.c\r\n",
        "libtool: compile:  gcc -DHAVE_CONFIG_H -I. -I.. -I.. -g -O2 -MT submatrix.lo -MD -MP -MF .deps/submatrix.Tpo -c submatrix.c  -fno-common -DPIC -o .libs/submatrix.o\r\n"
       ]
      },
      {
       "output_type": "stream",
       "stream": "stdout",
       "text": [
        "libtool: compile:  gcc -DHAVE_CONFIG_H -I. -I.. -I.. -g -O2 -MT submatrix.lo -MD -MP -MF .deps/submatrix.Tpo -c submatrix.c -o submatrix.o >/dev/null 2>&1\r\n"
       ]
      },
      {
       "output_type": "stream",
       "stream": "stdout",
       "text": [
        "mv -f .deps/submatrix.Tpo .deps/submatrix.Plo\r\n",
        "/bin/sh ../libtool --tag=CC   --mode=link gcc  -g -O2   -o libgslmatrix.la  init.lo matrix.lo file.lo rowcol.lo swap.lo copy.lo minmax.lo prop.lo oper.lo getset.lo view.lo submatrix.lo  -lm \r\n"
       ]
      },
      {
       "output_type": "stream",
       "stream": "stdout",
       "text": [
        "libtool: link: ar cru .libs/libgslmatrix.a .libs/init.o .libs/matrix.o .libs/file.o .libs/rowcol.o .libs/swap.o .libs/copy.o .libs/minmax.o .libs/prop.o .libs/oper.o .libs/getset.o .libs/view.o .libs/submatrix.o \r\n"
       ]
      },
      {
       "output_type": "stream",
       "stream": "stdout",
       "text": [
        "libtool: link: ranlib .libs/libgslmatrix.a\r\n"
       ]
      },
      {
       "output_type": "stream",
       "stream": "stdout",
       "text": [
        "libtool: link: ( cd \".libs\" && rm -f \"libgslmatrix.la\" && ln -s \"../libgslmatrix.la\" \"libgslmatrix.la\" )\r\n",
        "Making all in permutation\r\n"
       ]
      },
      {
       "output_type": "stream",
       "stream": "stdout",
       "text": [
        "/bin/sh ../libtool --tag=CC   --mode=compile gcc -DHAVE_CONFIG_H -I. -I.. -I..    -g -O2 -MT init.lo -MD -MP -MF .deps/init.Tpo -c -o init.lo init.c\r\n",
        "libtool: compile:  gcc -DHAVE_CONFIG_H -I. -I.. -I.. -g -O2 -MT init.lo -MD -MP -MF .deps/init.Tpo -c init.c  -fno-common -DPIC -o .libs/init.o\r\n"
       ]
      },
      {
       "output_type": "stream",
       "stream": "stdout",
       "text": [
        "libtool: compile:  gcc -DHAVE_CONFIG_H -I. -I.. -I.. -g -O2 -MT init.lo -MD -MP -MF .deps/init.Tpo -c init.c -o init.o >/dev/null 2>&1\r\n"
       ]
      },
      {
       "output_type": "stream",
       "stream": "stdout",
       "text": [
        "mv -f .deps/init.Tpo .deps/init.Plo\r\n",
        "/bin/sh ../libtool --tag=CC   --mode=compile gcc -DHAVE_CONFIG_H -I. -I.. -I..    -g -O2 -MT file.lo -MD -MP -MF .deps/file.Tpo -c -o file.lo file.c\r\n"
       ]
      },
      {
       "output_type": "stream",
       "stream": "stdout",
       "text": [
        "libtool: compile:  gcc -DHAVE_CONFIG_H -I. -I.. -I.. -g -O2 -MT file.lo -MD -MP -MF .deps/file.Tpo -c file.c  -fno-common -DPIC -o .libs/file.o\r\n"
       ]
      },
      {
       "output_type": "stream",
       "stream": "stdout",
       "text": [
        "libtool: compile:  gcc -DHAVE_CONFIG_H -I. -I.. -I.. -g -O2 -MT file.lo -MD -MP -MF .deps/file.Tpo -c file.c -o file.o >/dev/null 2>&1\r\n"
       ]
      },
      {
       "output_type": "stream",
       "stream": "stdout",
       "text": [
        "mv -f .deps/file.Tpo .deps/file.Plo\r\n",
        "/bin/sh ../libtool --tag=CC   --mode=compile gcc -DHAVE_CONFIG_H -I. -I.. -I..    -g -O2 -MT permutation.lo -MD -MP -MF .deps/permutation.Tpo -c -o permutation.lo permutation.c\r\n"
       ]
      },
      {
       "output_type": "stream",
       "stream": "stdout",
       "text": [
        "libtool: compile:  gcc -DHAVE_CONFIG_H -I. -I.. -I.. -g -O2 -MT permutation.lo -MD -MP -MF .deps/permutation.Tpo -c permutation.c  -fno-common -DPIC -o .libs/permutation.o\r\n"
       ]
      },
      {
       "output_type": "stream",
       "stream": "stdout",
       "text": [
        "libtool: compile:  gcc -DHAVE_CONFIG_H -I. -I.. -I.. -g -O2 -MT permutation.lo -MD -MP -MF .deps/permutation.Tpo -c permutation.c -o permutation.o >/dev/null 2>&1\r\n"
       ]
      },
      {
       "output_type": "stream",
       "stream": "stdout",
       "text": [
        "mv -f .deps/permutation.Tpo .deps/permutation.Plo\r\n",
        "/bin/sh ../libtool --tag=CC   --mode=compile gcc -DHAVE_CONFIG_H -I. -I.. -I..    -g -O2 -MT permute.lo -MD -MP -MF .deps/permute.Tpo -c -o permute.lo permute.c\r\n",
        "libtool: compile:  gcc -DHAVE_CONFIG_H -I. -I.. -I.. -g -O2 -MT permute.lo -MD -MP -MF .deps/permute.Tpo -c permute.c  -fno-common -DPIC -o .libs/permute.o\r\n"
       ]
      },
      {
       "output_type": "stream",
       "stream": "stdout",
       "text": [
        "libtool: compile:  gcc -DHAVE_CONFIG_H -I. -I.. -I.. -g -O2 -MT permute.lo -MD -MP -MF .deps/permute.Tpo -c permute.c -o permute.o >/dev/null 2>&1\r\n"
       ]
      },
      {
       "output_type": "stream",
       "stream": "stdout",
       "text": [
        "mv -f .deps/permute.Tpo .deps/permute.Plo\r\n",
        "/bin/sh ../libtool --tag=CC   --mode=compile gcc -DHAVE_CONFIG_H -I. -I.. -I..    -g -O2 -MT canonical.lo -MD -MP -MF .deps/canonical.Tpo -c -o canonical.lo canonical.c\r\n",
        "libtool: compile:  gcc -DHAVE_CONFIG_H -I. -I.. -I.. -g -O2 -MT canonical.lo -MD -MP -MF .deps/canonical.Tpo -c canonical.c  -fno-common -DPIC -o .libs/canonical.o\r\n"
       ]
      },
      {
       "output_type": "stream",
       "stream": "stdout",
       "text": [
        "libtool: compile:  gcc -DHAVE_CONFIG_H -I. -I.. -I.. -g -O2 -MT canonical.lo -MD -MP -MF .deps/canonical.Tpo -c canonical.c -o canonical.o >/dev/null 2>&1\r\n"
       ]
      },
      {
       "output_type": "stream",
       "stream": "stdout",
       "text": [
        "mv -f .deps/canonical.Tpo .deps/canonical.Plo\r\n",
        "/bin/sh ../libtool --tag=CC   --mode=compile gcc -DHAVE_CONFIG_H -I. -I.. -I..    -g -O2 -MT inline.lo -MD -MP -MF .deps/inline.Tpo -c -o inline.lo inline.c\r\n"
       ]
      },
      {
       "output_type": "stream",
       "stream": "stdout",
       "text": [
        "libtool: compile:  gcc -DHAVE_CONFIG_H -I. -I.. -I.. -g -O2 -MT inline.lo -MD -MP -MF .deps/inline.Tpo -c inline.c  -fno-common -DPIC -o .libs/inline.o\r\n"
       ]
      },
      {
       "output_type": "stream",
       "stream": "stdout",
       "text": [
        "libtool: compile:  gcc -DHAVE_CONFIG_H -I. -I.. -I.. -g -O2 -MT inline.lo -MD -MP -MF .deps/inline.Tpo -c inline.c -o inline.o >/dev/null 2>&1\r\n"
       ]
      },
      {
       "output_type": "stream",
       "stream": "stdout",
       "text": [
        "mv -f .deps/inline.Tpo .deps/inline.Plo\r\n",
        "/bin/sh ../libtool --tag=CC   --mode=link gcc  -g -O2   -o libgslpermutation.la  init.lo file.lo permutation.lo permute.lo canonical.lo inline.lo  -lm \r\n"
       ]
      },
      {
       "output_type": "stream",
       "stream": "stdout",
       "text": [
        "libtool: link: ar cru .libs/libgslpermutation.a .libs/init.o .libs/file.o .libs/permutation.o .libs/permute.o .libs/canonical.o .libs/inline.o \r\n",
        "libtool: link: ranlib .libs/libgslpermutation.a\r\n"
       ]
      },
      {
       "output_type": "stream",
       "stream": "stdout",
       "text": [
        "libtool: link: ( cd \".libs\" && rm -f \"libgslpermutation.la\" && ln -s \"../libgslpermutation.la\" \"libgslpermutation.la\" )\r\n"
       ]
      },
      {
       "output_type": "stream",
       "stream": "stdout",
       "text": [
        "Making all in combination\r\n",
        "/bin/sh ../libtool --tag=CC   --mode=compile gcc -DHAVE_CONFIG_H -I. -I.. -I..    -g -O2 -MT init.lo -MD -MP -MF .deps/init.Tpo -c -o init.lo init.c\r\n",
        "libtool: compile:  gcc -DHAVE_CONFIG_H -I. -I.. -I.. -g -O2 -MT init.lo -MD -MP -MF .deps/init.Tpo -c init.c  -fno-common -DPIC -o .libs/init.o\r\n"
       ]
      },
      {
       "output_type": "stream",
       "stream": "stdout",
       "text": [
        "libtool: compile:  gcc -DHAVE_CONFIG_H -I. -I.. -I.. -g -O2 -MT init.lo -MD -MP -MF .deps/init.Tpo -c init.c -o init.o >/dev/null 2>&1\r\n"
       ]
      },
      {
       "output_type": "stream",
       "stream": "stdout",
       "text": [
        "mv -f .deps/init.Tpo .deps/init.Plo\r\n",
        "/bin/sh ../libtool --tag=CC   --mode=compile gcc -DHAVE_CONFIG_H -I. -I.. -I..    -g -O2 -MT file.lo -MD -MP -MF .deps/file.Tpo -c -o file.lo file.c\r\n",
        "libtool: compile:  gcc -DHAVE_CONFIG_H -I. -I.. -I.. -g -O2 -MT file.lo -MD -MP -MF .deps/file.Tpo -c file.c  -fno-common -DPIC -o .libs/file.o\r\n"
       ]
      },
      {
       "output_type": "stream",
       "stream": "stdout",
       "text": [
        "libtool: compile:  gcc -DHAVE_CONFIG_H -I. -I.. -I.. -g -O2 -MT file.lo -MD -MP -MF .deps/file.Tpo -c file.c -o file.o >/dev/null 2>&1\r\n"
       ]
      },
      {
       "output_type": "stream",
       "stream": "stdout",
       "text": [
        "mv -f .deps/file.Tpo .deps/file.Plo\r\n",
        "/bin/sh ../libtool --tag=CC   --mode=compile gcc -DHAVE_CONFIG_H -I. -I.. -I..    -g -O2 -MT combination.lo -MD -MP -MF .deps/combination.Tpo -c -o combination.lo combination.c\r\n"
       ]
      },
      {
       "output_type": "stream",
       "stream": "stdout",
       "text": [
        "libtool: compile:  gcc -DHAVE_CONFIG_H -I. -I.. -I.. -g -O2 -MT combination.lo -MD -MP -MF .deps/combination.Tpo -c combination.c  -fno-common -DPIC -o .libs/combination.o\r\n"
       ]
      },
      {
       "output_type": "stream",
       "stream": "stdout",
       "text": [
        "libtool: compile:  gcc -DHAVE_CONFIG_H -I. -I.. -I.. -g -O2 -MT combination.lo -MD -MP -MF .deps/combination.Tpo -c combination.c -o combination.o >/dev/null 2>&1\r\n"
       ]
      },
      {
       "output_type": "stream",
       "stream": "stdout",
       "text": [
        "mv -f .deps/combination.Tpo .deps/combination.Plo\r\n",
        "/bin/sh ../libtool --tag=CC   --mode=compile gcc -DHAVE_CONFIG_H -I. -I.. -I..    -g -O2 -MT inline.lo -MD -MP -MF .deps/inline.Tpo -c -o inline.lo inline.c\r\n",
        "libtool: compile:  gcc -DHAVE_CONFIG_H -I. -I.. -I.. -g -O2 -MT inline.lo -MD -MP -MF .deps/inline.Tpo -c inline.c  -fno-common -DPIC -o .libs/inline.o\r\n"
       ]
      },
      {
       "output_type": "stream",
       "stream": "stdout",
       "text": [
        "libtool: compile:  gcc -DHAVE_CONFIG_H -I. -I.. -I.. -g -O2 -MT inline.lo -MD -MP -MF .deps/inline.Tpo -c inline.c -o inline.o >/dev/null 2>&1\r\n"
       ]
      },
      {
       "output_type": "stream",
       "stream": "stdout",
       "text": [
        "mv -f .deps/inline.Tpo .deps/inline.Plo\r\n",
        "/bin/sh ../libtool --tag=CC   --mode=link gcc  -g -O2   -o libgslcombination.la  init.lo file.lo combination.lo inline.lo  -lm \r\n"
       ]
      },
      {
       "output_type": "stream",
       "stream": "stdout",
       "text": [
        "libtool: link: ar cru .libs/libgslcombination.a .libs/init.o .libs/file.o .libs/combination.o .libs/inline.o \r\n",
        "libtool: link: ranlib .libs/libgslcombination.a\r\n"
       ]
      },
      {
       "output_type": "stream",
       "stream": "stdout",
       "text": [
        "libtool: link: ( cd \".libs\" && rm -f \"libgslcombination.la\" && ln -s \"../libgslcombination.la\" \"libgslcombination.la\" )\r\n",
        "Making all in multiset\r\n",
        "/bin/sh ../libtool --tag=CC   --mode=compile gcc -DHAVE_CONFIG_H -I. -I.. -I..    -g -O2 -MT init.lo -MD -MP -MF .deps/init.Tpo -c -o init.lo init.c\r\n"
       ]
      },
      {
       "output_type": "stream",
       "stream": "stdout",
       "text": [
        "libtool: compile:  gcc -DHAVE_CONFIG_H -I. -I.. -I.. -g -O2 -MT init.lo -MD -MP -MF .deps/init.Tpo -c init.c  -fno-common -DPIC -o .libs/init.o\r\n"
       ]
      },
      {
       "output_type": "stream",
       "stream": "stdout",
       "text": [
        "libtool: compile:  gcc -DHAVE_CONFIG_H -I. -I.. -I.. -g -O2 -MT init.lo -MD -MP -MF .deps/init.Tpo -c init.c -o init.o >/dev/null 2>&1\r\n"
       ]
      },
      {
       "output_type": "stream",
       "stream": "stdout",
       "text": [
        "mv -f .deps/init.Tpo .deps/init.Plo\r\n",
        "/bin/sh ../libtool --tag=CC   --mode=compile gcc -DHAVE_CONFIG_H -I. -I.. -I..    -g -O2 -MT file.lo -MD -MP -MF .deps/file.Tpo -c -o file.lo file.c\r\n",
        "libtool: compile:  gcc -DHAVE_CONFIG_H -I. -I.. -I.. -g -O2 -MT file.lo -MD -MP -MF .deps/file.Tpo -c file.c  -fno-common -DPIC -o .libs/file.o\r\n"
       ]
      },
      {
       "output_type": "stream",
       "stream": "stdout",
       "text": [
        "libtool: compile:  gcc -DHAVE_CONFIG_H -I. -I.. -I.. -g -O2 -MT file.lo -MD -MP -MF .deps/file.Tpo -c file.c -o file.o >/dev/null 2>&1\r\n"
       ]
      },
      {
       "output_type": "stream",
       "stream": "stdout",
       "text": [
        "mv -f .deps/file.Tpo .deps/file.Plo\r\n",
        "/bin/sh ../libtool --tag=CC   --mode=compile gcc -DHAVE_CONFIG_H -I. -I.. -I..    -g -O2 -MT multiset.lo -MD -MP -MF .deps/multiset.Tpo -c -o multiset.lo multiset.c\r\n"
       ]
      },
      {
       "output_type": "stream",
       "stream": "stdout",
       "text": [
        "libtool: compile:  gcc -DHAVE_CONFIG_H -I. -I.. -I.. -g -O2 -MT multiset.lo -MD -MP -MF .deps/multiset.Tpo -c multiset.c  -fno-common -DPIC -o .libs/multiset.o\r\n"
       ]
      },
      {
       "output_type": "stream",
       "stream": "stdout",
       "text": [
        "libtool: compile:  gcc -DHAVE_CONFIG_H -I. -I.. -I.. -g -O2 -MT multiset.lo -MD -MP -MF .deps/multiset.Tpo -c multiset.c -o multiset.o >/dev/null 2>&1\r\n"
       ]
      },
      {
       "output_type": "stream",
       "stream": "stdout",
       "text": [
        "mv -f .deps/multiset.Tpo .deps/multiset.Plo\r\n",
        "/bin/sh ../libtool --tag=CC   --mode=compile gcc -DHAVE_CONFIG_H -I. -I.. -I..    -g -O2 -MT inline.lo -MD -MP -MF .deps/inline.Tpo -c -o inline.lo inline.c\r\n"
       ]
      },
      {
       "output_type": "stream",
       "stream": "stdout",
       "text": [
        "libtool: compile:  gcc -DHAVE_CONFIG_H -I. -I.. -I.. -g -O2 -MT inline.lo -MD -MP -MF .deps/inline.Tpo -c inline.c  -fno-common -DPIC -o .libs/inline.o\r\n"
       ]
      },
      {
       "output_type": "stream",
       "stream": "stdout",
       "text": [
        "libtool: compile:  gcc -DHAVE_CONFIG_H -I. -I.. -I.. -g -O2 -MT inline.lo -MD -MP -MF .deps/inline.Tpo -c inline.c -o inline.o >/dev/null 2>&1\r\n"
       ]
      },
      {
       "output_type": "stream",
       "stream": "stdout",
       "text": [
        "mv -f .deps/inline.Tpo .deps/inline.Plo\r\n",
        "/bin/sh ../libtool --tag=CC   --mode=link gcc  -g -O2   -o libgslmultiset.la  init.lo file.lo multiset.lo inline.lo  -lm \r\n"
       ]
      },
      {
       "output_type": "stream",
       "stream": "stdout",
       "text": [
        "libtool: link: ar cru .libs/libgslmultiset.a .libs/init.o .libs/file.o .libs/multiset.o .libs/inline.o \r\n",
        "libtool: link: ranlib .libs/libgslmultiset.a\r\n"
       ]
      },
      {
       "output_type": "stream",
       "stream": "stdout",
       "text": [
        "libtool: link: ( cd \".libs\" && rm -f \"libgslmultiset.la\" && ln -s \"../libgslmultiset.la\" \"libgslmultiset.la\" )\r\n"
       ]
      },
      {
       "output_type": "stream",
       "stream": "stdout",
       "text": [
        "Making all in sort\r\n",
        "/bin/sh ../libtool --tag=CC   --mode=compile gcc -DHAVE_CONFIG_H -I. -I.. -I..    -g -O2 -MT sort.lo -MD -MP -MF .deps/sort.Tpo -c -o sort.lo sort.c\r\n",
        "libtool: compile:  gcc -DHAVE_CONFIG_H -I. -I.. -I.. -g -O2 -MT sort.lo -MD -MP -MF .deps/sort.Tpo -c sort.c  -fno-common -DPIC -o .libs/sort.o\r\n"
       ]
      },
      {
       "output_type": "stream",
       "stream": "stdout",
       "text": [
        "libtool: compile:  gcc -DHAVE_CONFIG_H -I. -I.. -I.. -g -O2 -MT sort.lo -MD -MP -MF .deps/sort.Tpo -c sort.c -o sort.o >/dev/null 2>&1\r\n"
       ]
      },
      {
       "output_type": "stream",
       "stream": "stdout",
       "text": [
        "mv -f .deps/sort.Tpo .deps/sort.Plo\r\n",
        "/bin/sh ../libtool --tag=CC   --mode=compile gcc -DHAVE_CONFIG_H -I. -I.. -I..    -g -O2 -MT sortind.lo -MD -MP -MF .deps/sortind.Tpo -c -o sortind.lo sortind.c\r\n"
       ]
      },
      {
       "output_type": "stream",
       "stream": "stdout",
       "text": [
        "libtool: compile:  gcc -DHAVE_CONFIG_H -I. -I.. -I.. -g -O2 -MT sortind.lo -MD -MP -MF .deps/sortind.Tpo -c sortind.c  -fno-common -DPIC -o .libs/sortind.o\r\n"
       ]
      },
      {
       "output_type": "stream",
       "stream": "stdout",
       "text": [
        "libtool: compile:  gcc -DHAVE_CONFIG_H -I. -I.. -I.. -g -O2 -MT sortind.lo -MD -MP -MF .deps/sortind.Tpo -c sortind.c -o sortind.o >/dev/null 2>&1\r\n"
       ]
      },
      {
       "output_type": "stream",
       "stream": "stdout",
       "text": [
        "mv -f .deps/sortind.Tpo .deps/sortind.Plo\r\n",
        "/bin/sh ../libtool --tag=CC   --mode=compile gcc -DHAVE_CONFIG_H -I. -I.. -I..    -g -O2 -MT sortvec.lo -MD -MP -MF .deps/sortvec.Tpo -c -o sortvec.lo sortvec.c\r\n"
       ]
      },
      {
       "output_type": "stream",
       "stream": "stdout",
       "text": [
        "libtool: compile:  gcc -DHAVE_CONFIG_H -I. -I.. -I.. -g -O2 -MT sortvec.lo -MD -MP -MF .deps/sortvec.Tpo -c sortvec.c  -fno-common -DPIC -o .libs/sortvec.o\r\n"
       ]
      },
      {
       "output_type": "stream",
       "stream": "stdout",
       "text": [
        "libtool: compile:  gcc -DHAVE_CONFIG_H -I. -I.. -I.. -g -O2 -MT sortvec.lo -MD -MP -MF .deps/sortvec.Tpo -c sortvec.c -o sortvec.o >/dev/null 2>&1\r\n"
       ]
      },
      {
       "output_type": "stream",
       "stream": "stdout",
       "text": [
        "mv -f .deps/sortvec.Tpo .deps/sortvec.Plo\r\n",
        "/bin/sh ../libtool --tag=CC   --mode=compile gcc -DHAVE_CONFIG_H -I. -I.. -I..    -g -O2 -MT sortvecind.lo -MD -MP -MF .deps/sortvecind.Tpo -c -o sortvecind.lo sortvecind.c\r\n",
        "libtool: compile:  gcc -DHAVE_CONFIG_H -I. -I.. -I.. -g -O2 -MT sortvecind.lo -MD -MP -MF .deps/sortvecind.Tpo -c sortvecind.c  -fno-common -DPIC -o .libs/sortvecind.o\r\n"
       ]
      },
      {
       "output_type": "stream",
       "stream": "stdout",
       "text": [
        "libtool: compile:  gcc -DHAVE_CONFIG_H -I. -I.. -I.. -g -O2 -MT sortvecind.lo -MD -MP -MF .deps/sortvecind.Tpo -c sortvecind.c -o sortvecind.o >/dev/null 2>&1\r\n"
       ]
      },
      {
       "output_type": "stream",
       "stream": "stdout",
       "text": [
        "mv -f .deps/sortvecind.Tpo .deps/sortvecind.Plo\r\n"
       ]
      },
      {
       "output_type": "stream",
       "stream": "stdout",
       "text": [
        "/bin/sh ../libtool --tag=CC   --mode=compile gcc -DHAVE_CONFIG_H -I. -I.. -I..    -g -O2 -MT subset.lo -MD -MP -MF .deps/subset.Tpo -c -o subset.lo subset.c\r\n",
        "libtool: compile:  gcc -DHAVE_CONFIG_H -I. -I.. -I.. -g -O2 -MT subset.lo -MD -MP -MF .deps/subset.Tpo -c subset.c  -fno-common -DPIC -o .libs/subset.o\r\n"
       ]
      },
      {
       "output_type": "stream",
       "stream": "stdout",
       "text": [
        "libtool: compile:  gcc -DHAVE_CONFIG_H -I. -I.. -I.. -g -O2 -MT subset.lo -MD -MP -MF .deps/subset.Tpo -c subset.c -o subset.o >/dev/null 2>&1\r\n"
       ]
      },
      {
       "output_type": "stream",
       "stream": "stdout",
       "text": [
        "mv -f .deps/subset.Tpo .deps/subset.Plo\r\n",
        "/bin/sh ../libtool --tag=CC   --mode=compile gcc -DHAVE_CONFIG_H -I. -I.. -I..    -g -O2 -MT subsetind.lo -MD -MP -MF .deps/subsetind.Tpo -c -o subsetind.lo subsetind.c\r\n",
        "libtool: compile:  gcc -DHAVE_CONFIG_H -I. -I.. -I.. -g -O2 -MT subsetind.lo -MD -MP -MF .deps/subsetind.Tpo -c subsetind.c  -fno-common -DPIC -o .libs/subsetind.o\r\n"
       ]
      },
      {
       "output_type": "stream",
       "stream": "stdout",
       "text": [
        "libtool: compile:  gcc -DHAVE_CONFIG_H -I. -I.. -I.. -g -O2 -MT subsetind.lo -MD -MP -MF .deps/subsetind.Tpo -c subsetind.c -o subsetind.o >/dev/null 2>&1\r\n"
       ]
      },
      {
       "output_type": "stream",
       "stream": "stdout",
       "text": [
        "mv -f .deps/subsetind.Tpo .deps/subsetind.Plo\r\n",
        "/bin/sh ../libtool --tag=CC   --mode=link gcc  -g -O2   -o libgslsort.la  sort.lo sortind.lo sortvec.lo sortvecind.lo subset.lo subsetind.lo  -lm \r\n"
       ]
      },
      {
       "output_type": "stream",
       "stream": "stdout",
       "text": [
        "libtool: link: ar cru .libs/libgslsort.a .libs/sort.o .libs/sortind.o .libs/sortvec.o .libs/sortvecind.o .libs/subset.o .libs/subsetind.o \r\n",
        "libtool: link: ranlib .libs/libgslsort.a\r\n"
       ]
      },
      {
       "output_type": "stream",
       "stream": "stdout",
       "text": [
        "libtool: link: ( cd \".libs\" && rm -f \"libgslsort.la\" && ln -s \"../libgslsort.la\" \"libgslsort.la\" )\r\n",
        "Making all in ieee-utils\r\n",
        "/bin/sh ../libtool --tag=CC   --mode=compile gcc -DHAVE_CONFIG_H -I. -I.. -I..    -g -O2 -MT print.lo -MD -MP -MF .deps/print.Tpo -c -o print.lo print.c\r\n",
        "libtool: compile:  gcc -DHAVE_CONFIG_H -I. -I.. -I.. -g -O2 -MT print.lo -MD -MP -MF .deps/print.Tpo -c print.c  -fno-common -DPIC -o .libs/print.o\r\n"
       ]
      },
      {
       "output_type": "stream",
       "stream": "stdout",
       "text": [
        "libtool: compile:  gcc -DHAVE_CONFIG_H -I. -I.. -I.. -g -O2 -MT print.lo -MD -MP -MF .deps/print.Tpo -c print.c -o print.o >/dev/null 2>&1\r\n"
       ]
      },
      {
       "output_type": "stream",
       "stream": "stdout",
       "text": [
        "mv -f .deps/print.Tpo .deps/print.Plo\r\n",
        "/bin/sh ../libtool --tag=CC   --mode=compile gcc -DHAVE_CONFIG_H -I. -I.. -I..    -g -O2 -MT make_rep.lo -MD -MP -MF .deps/make_rep.Tpo -c -o make_rep.lo make_rep.c\r\n"
       ]
      },
      {
       "output_type": "stream",
       "stream": "stdout",
       "text": [
        "libtool: compile:  gcc -DHAVE_CONFIG_H -I. -I.. -I.. -g -O2 -MT make_rep.lo -MD -MP -MF .deps/make_rep.Tpo -c make_rep.c  -fno-common -DPIC -o .libs/make_rep.o\r\n"
       ]
      },
      {
       "output_type": "stream",
       "stream": "stdout",
       "text": [
        "libtool: compile:  gcc -DHAVE_CONFIG_H -I. -I.. -I.. -g -O2 -MT make_rep.lo -MD -MP -MF .deps/make_rep.Tpo -c make_rep.c -o make_rep.o >/dev/null 2>&1\r\n"
       ]
      },
      {
       "output_type": "stream",
       "stream": "stdout",
       "text": [
        "mv -f .deps/make_rep.Tpo .deps/make_rep.Plo\r\n",
        "/bin/sh ../libtool --tag=CC   --mode=compile gcc -DHAVE_CONFIG_H -I. -I.. -I..    -g -O2 -MT env.lo -MD -MP -MF .deps/env.Tpo -c -o env.lo env.c\r\n"
       ]
      },
      {
       "output_type": "stream",
       "stream": "stdout",
       "text": [
        "libtool: compile:  gcc -DHAVE_CONFIG_H -I. -I.. -I.. -g -O2 -MT env.lo -MD -MP -MF .deps/env.Tpo -c env.c  -fno-common -DPIC -o .libs/env.o\r\n"
       ]
      },
      {
       "output_type": "stream",
       "stream": "stdout",
       "text": [
        "libtool: compile:  gcc -DHAVE_CONFIG_H -I. -I.. -I.. -g -O2 -MT env.lo -MD -MP -MF .deps/env.Tpo -c env.c -o env.o >/dev/null 2>&1\r\n"
       ]
      },
      {
       "output_type": "stream",
       "stream": "stdout",
       "text": [
        "mv -f .deps/env.Tpo .deps/env.Plo\r\n",
        "/bin/sh ../libtool --tag=CC   --mode=compile gcc -DHAVE_CONFIG_H -I. -I.. -I..    -g -O2 -MT fp.lo -MD -MP -MF .deps/fp.Tpo -c -o fp.lo fp.c\r\n",
        "libtool: compile:  gcc -DHAVE_CONFIG_H -I. -I.. -I.. -g -O2 -MT fp.lo -MD -MP -MF .deps/fp.Tpo -c fp.c  -fno-common -DPIC -o .libs/fp.o\r\n"
       ]
      },
      {
       "output_type": "stream",
       "stream": "stdout",
       "text": [
        "libtool: compile:  gcc -DHAVE_CONFIG_H -I. -I.. -I.. -g -O2 -MT fp.lo -MD -MP -MF .deps/fp.Tpo -c fp.c -o fp.o >/dev/null 2>&1\r\n"
       ]
      },
      {
       "output_type": "stream",
       "stream": "stdout",
       "text": [
        "mv -f .deps/fp.Tpo .deps/fp.Plo\r\n",
        "/bin/sh ../libtool --tag=CC   --mode=compile gcc -DHAVE_CONFIG_H -I. -I.. -I..    -g -O2 -MT read.lo -MD -MP -MF .deps/read.Tpo -c -o read.lo read.c\r\n"
       ]
      },
      {
       "output_type": "stream",
       "stream": "stdout",
       "text": [
        "libtool: compile:  gcc -DHAVE_CONFIG_H -I. -I.. -I.. -g -O2 -MT read.lo -MD -MP -MF .deps/read.Tpo -c read.c  -fno-common -DPIC -o .libs/read.o\r\n"
       ]
      },
      {
       "output_type": "stream",
       "stream": "stdout",
       "text": [
        "libtool: compile:  gcc -DHAVE_CONFIG_H -I. -I.. -I.. -g -O2 -MT read.lo -MD -MP -MF .deps/read.Tpo -c read.c -o read.o >/dev/null 2>&1\r\n"
       ]
      },
      {
       "output_type": "stream",
       "stream": "stdout",
       "text": [
        "mv -f .deps/read.Tpo .deps/read.Plo\r\n",
        "/bin/sh ../libtool --tag=CC   --mode=link gcc  -g -O2   -o libgslieeeutils.la  print.lo make_rep.lo env.lo fp.lo read.lo  -lm \r\n"
       ]
      },
      {
       "output_type": "stream",
       "stream": "stdout",
       "text": [
        "libtool: link: ar cru .libs/libgslieeeutils.a .libs/print.o .libs/make_rep.o .libs/env.o .libs/fp.o .libs/read.o \r\n",
        "libtool: link: ranlib .libs/libgslieeeutils.a\r\n"
       ]
      },
      {
       "output_type": "stream",
       "stream": "stdout",
       "text": [
        "libtool: link: ( cd \".libs\" && rm -f \"libgslieeeutils.la\" && ln -s \"../libgslieeeutils.la\" \"libgslieeeutils.la\" )\r\n",
        "Making all in cblas\r\n"
       ]
      },
      {
       "output_type": "stream",
       "stream": "stdout",
       "text": [
        "/bin/sh ../libtool --tag=CC   --mode=compile gcc -DHAVE_CONFIG_H -I. -I.. -I..    -g -O2 -MT sasum.lo -MD -MP -MF .deps/sasum.Tpo -c -o sasum.lo sasum.c\r\n",
        "libtool: compile:  gcc -DHAVE_CONFIG_H -I. -I.. -I.. -g -O2 -MT sasum.lo -MD -MP -MF .deps/sasum.Tpo -c sasum.c  -fno-common -DPIC -o .libs/sasum.o\r\n"
       ]
      },
      {
       "output_type": "stream",
       "stream": "stdout",
       "text": [
        "libtool: compile:  gcc -DHAVE_CONFIG_H -I. -I.. -I.. -g -O2 -MT sasum.lo -MD -MP -MF .deps/sasum.Tpo -c sasum.c -o sasum.o >/dev/null 2>&1\r\n"
       ]
      },
      {
       "output_type": "stream",
       "stream": "stdout",
       "text": [
        "mv -f .deps/sasum.Tpo .deps/sasum.Plo\r\n",
        "/bin/sh ../libtool --tag=CC   --mode=compile gcc -DHAVE_CONFIG_H -I. -I.. -I..    -g -O2 -MT saxpy.lo -MD -MP -MF .deps/saxpy.Tpo -c -o saxpy.lo saxpy.c\r\n"
       ]
      },
      {
       "output_type": "stream",
       "stream": "stdout",
       "text": [
        "libtool: compile:  gcc -DHAVE_CONFIG_H -I. -I.. -I.. -g -O2 -MT saxpy.lo -MD -MP -MF .deps/saxpy.Tpo -c saxpy.c  -fno-common -DPIC -o .libs/saxpy.o\r\n"
       ]
      },
      {
       "output_type": "stream",
       "stream": "stdout",
       "text": [
        "libtool: compile:  gcc -DHAVE_CONFIG_H -I. -I.. -I.. -g -O2 -MT saxpy.lo -MD -MP -MF .deps/saxpy.Tpo -c saxpy.c -o saxpy.o >/dev/null 2>&1\r\n"
       ]
      },
      {
       "output_type": "stream",
       "stream": "stdout",
       "text": [
        "mv -f .deps/saxpy.Tpo .deps/saxpy.Plo\r\n",
        "/bin/sh ../libtool --tag=CC   --mode=compile gcc -DHAVE_CONFIG_H -I. -I.. -I..    -g -O2 -MT scasum.lo -MD -MP -MF .deps/scasum.Tpo -c -o scasum.lo scasum.c\r\n",
        "libtool: compile:  gcc -DHAVE_CONFIG_H -I. -I.. -I.. -g -O2 -MT scasum.lo -MD -MP -MF .deps/scasum.Tpo -c scasum.c  -fno-common -DPIC -o .libs/scasum.o\r\n"
       ]
      },
      {
       "output_type": "stream",
       "stream": "stdout",
       "text": [
        "libtool: compile:  gcc -DHAVE_CONFIG_H -I. -I.. -I.. -g -O2 -MT scasum.lo -MD -MP -MF .deps/scasum.Tpo -c scasum.c -o scasum.o >/dev/null 2>&1\r\n"
       ]
      },
      {
       "output_type": "stream",
       "stream": "stdout",
       "text": [
        "mv -f .deps/scasum.Tpo .deps/scasum.Plo\r\n",
        "/bin/sh ../libtool --tag=CC   --mode=compile gcc -DHAVE_CONFIG_H -I. -I.. -I..    -g -O2 -MT scnrm2.lo -MD -MP -MF .deps/scnrm2.Tpo -c -o scnrm2.lo scnrm2.c\r\n"
       ]
      },
      {
       "output_type": "stream",
       "stream": "stdout",
       "text": [
        "libtool: compile:  gcc -DHAVE_CONFIG_H -I. -I.. -I.. -g -O2 -MT scnrm2.lo -MD -MP -MF .deps/scnrm2.Tpo -c scnrm2.c  -fno-common -DPIC -o .libs/scnrm2.o\r\n"
       ]
      },
      {
       "output_type": "stream",
       "stream": "stdout",
       "text": [
        "libtool: compile:  gcc -DHAVE_CONFIG_H -I. -I.. -I.. -g -O2 -MT scnrm2.lo -MD -MP -MF .deps/scnrm2.Tpo -c scnrm2.c -o scnrm2.o >/dev/null 2>&1\r\n"
       ]
      },
      {
       "output_type": "stream",
       "stream": "stdout",
       "text": [
        "mv -f .deps/scnrm2.Tpo .deps/scnrm2.Plo\r\n",
        "/bin/sh ../libtool --tag=CC   --mode=compile gcc -DHAVE_CONFIG_H -I. -I.. -I..    -g -O2 -MT scopy.lo -MD -MP -MF .deps/scopy.Tpo -c -o scopy.lo scopy.c\r\n"
       ]
      },
      {
       "output_type": "stream",
       "stream": "stdout",
       "text": [
        "libtool: compile:  gcc -DHAVE_CONFIG_H -I. -I.. -I.. -g -O2 -MT scopy.lo -MD -MP -MF .deps/scopy.Tpo -c scopy.c  -fno-common -DPIC -o .libs/scopy.o\r\n"
       ]
      },
      {
       "output_type": "stream",
       "stream": "stdout",
       "text": [
        "libtool: compile:  gcc -DHAVE_CONFIG_H -I. -I.. -I.. -g -O2 -MT scopy.lo -MD -MP -MF .deps/scopy.Tpo -c scopy.c -o scopy.o >/dev/null 2>&1\r\n"
       ]
      },
      {
       "output_type": "stream",
       "stream": "stdout",
       "text": [
        "mv -f .deps/scopy.Tpo .deps/scopy.Plo\r\n",
        "/bin/sh ../libtool --tag=CC   --mode=compile gcc -DHAVE_CONFIG_H -I. -I.. -I..    -g -O2 -MT sdot.lo -MD -MP -MF .deps/sdot.Tpo -c -o sdot.lo sdot.c\r\n"
       ]
      },
      {
       "output_type": "stream",
       "stream": "stdout",
       "text": [
        "libtool: compile:  gcc -DHAVE_CONFIG_H -I. -I.. -I.. -g -O2 -MT sdot.lo -MD -MP -MF .deps/sdot.Tpo -c sdot.c  -fno-common -DPIC -o .libs/sdot.o\r\n"
       ]
      },
      {
       "output_type": "stream",
       "stream": "stdout",
       "text": [
        "libtool: compile:  gcc -DHAVE_CONFIG_H -I. -I.. -I.. -g -O2 -MT sdot.lo -MD -MP -MF .deps/sdot.Tpo -c sdot.c -o sdot.o >/dev/null 2>&1\r\n"
       ]
      },
      {
       "output_type": "stream",
       "stream": "stdout",
       "text": [
        "mv -f .deps/sdot.Tpo .deps/sdot.Plo\r\n",
        "/bin/sh ../libtool --tag=CC   --mode=compile gcc -DHAVE_CONFIG_H -I. -I.. -I..    -g -O2 -MT sdsdot.lo -MD -MP -MF .deps/sdsdot.Tpo -c -o sdsdot.lo sdsdot.c\r\n",
        "libtool: compile:  gcc -DHAVE_CONFIG_H -I. -I.. -I.. -g -O2 -MT sdsdot.lo -MD -MP -MF .deps/sdsdot.Tpo -c sdsdot.c  -fno-common -DPIC -o .libs/sdsdot.o\r\n"
       ]
      },
      {
       "output_type": "stream",
       "stream": "stdout",
       "text": [
        "libtool: compile:  gcc -DHAVE_CONFIG_H -I. -I.. -I.. -g -O2 -MT sdsdot.lo -MD -MP -MF .deps/sdsdot.Tpo -c sdsdot.c -o sdsdot.o >/dev/null 2>&1\r\n"
       ]
      },
      {
       "output_type": "stream",
       "stream": "stdout",
       "text": [
        "mv -f .deps/sdsdot.Tpo .deps/sdsdot.Plo\r\n",
        "/bin/sh ../libtool --tag=CC   --mode=compile gcc -DHAVE_CONFIG_H -I. -I.. -I..    -g -O2 -MT sgbmv.lo -MD -MP -MF .deps/sgbmv.Tpo -c -o sgbmv.lo sgbmv.c\r\n",
        "libtool: compile:  gcc -DHAVE_CONFIG_H -I. -I.. -I.. -g -O2 -MT sgbmv.lo -MD -MP -MF .deps/sgbmv.Tpo -c sgbmv.c  -fno-common -DPIC -o .libs/sgbmv.o\r\n"
       ]
      },
      {
       "output_type": "stream",
       "stream": "stdout",
       "text": [
        "libtool: compile:  gcc -DHAVE_CONFIG_H -I. -I.. -I.. -g -O2 -MT sgbmv.lo -MD -MP -MF .deps/sgbmv.Tpo -c sgbmv.c -o sgbmv.o >/dev/null 2>&1\r\n"
       ]
      },
      {
       "output_type": "stream",
       "stream": "stdout",
       "text": [
        "mv -f .deps/sgbmv.Tpo .deps/sgbmv.Plo\r\n",
        "/bin/sh ../libtool --tag=CC   --mode=compile gcc -DHAVE_CONFIG_H -I. -I.. -I..    -g -O2 -MT sgemm.lo -MD -MP -MF .deps/sgemm.Tpo -c -o sgemm.lo sgemm.c\r\n"
       ]
      },
      {
       "output_type": "stream",
       "stream": "stdout",
       "text": [
        "libtool: compile:  gcc -DHAVE_CONFIG_H -I. -I.. -I.. -g -O2 -MT sgemm.lo -MD -MP -MF .deps/sgemm.Tpo -c sgemm.c  -fno-common -DPIC -o .libs/sgemm.o\r\n"
       ]
      },
      {
       "output_type": "stream",
       "stream": "stdout",
       "text": [
        "libtool: compile:  gcc -DHAVE_CONFIG_H -I. -I.. -I.. -g -O2 -MT sgemm.lo -MD -MP -MF .deps/sgemm.Tpo -c sgemm.c -o sgemm.o >/dev/null 2>&1\r\n"
       ]
      },
      {
       "output_type": "stream",
       "stream": "stdout",
       "text": [
        "mv -f .deps/sgemm.Tpo .deps/sgemm.Plo\r\n",
        "/bin/sh ../libtool --tag=CC   --mode=compile gcc -DHAVE_CONFIG_H -I. -I.. -I..    -g -O2 -MT sgemv.lo -MD -MP -MF .deps/sgemv.Tpo -c -o sgemv.lo sgemv.c\r\n"
       ]
      },
      {
       "output_type": "stream",
       "stream": "stdout",
       "text": [
        "libtool: compile:  gcc -DHAVE_CONFIG_H -I. -I.. -I.. -g -O2 -MT sgemv.lo -MD -MP -MF .deps/sgemv.Tpo -c sgemv.c  -fno-common -DPIC -o .libs/sgemv.o\r\n"
       ]
      },
      {
       "output_type": "stream",
       "stream": "stdout",
       "text": [
        "libtool: compile:  gcc -DHAVE_CONFIG_H -I. -I.. -I.. -g -O2 -MT sgemv.lo -MD -MP -MF .deps/sgemv.Tpo -c sgemv.c -o sgemv.o >/dev/null 2>&1\r\n"
       ]
      },
      {
       "output_type": "stream",
       "stream": "stdout",
       "text": [
        "mv -f .deps/sgemv.Tpo .deps/sgemv.Plo\r\n",
        "/bin/sh ../libtool --tag=CC   --mode=compile gcc -DHAVE_CONFIG_H -I. -I.. -I..    -g -O2 -MT sger.lo -MD -MP -MF .deps/sger.Tpo -c -o sger.lo sger.c\r\n",
        "libtool: compile:  gcc -DHAVE_CONFIG_H -I. -I.. -I.. -g -O2 -MT sger.lo -MD -MP -MF .deps/sger.Tpo -c sger.c  -fno-common -DPIC -o .libs/sger.o\r\n"
       ]
      },
      {
       "output_type": "stream",
       "stream": "stdout",
       "text": [
        "libtool: compile:  gcc -DHAVE_CONFIG_H -I. -I.. -I.. -g -O2 -MT sger.lo -MD -MP -MF .deps/sger.Tpo -c sger.c -o sger.o >/dev/null 2>&1\r\n"
       ]
      },
      {
       "output_type": "stream",
       "stream": "stdout",
       "text": [
        "mv -f .deps/sger.Tpo .deps/sger.Plo\r\n",
        "/bin/sh ../libtool --tag=CC   --mode=compile gcc -DHAVE_CONFIG_H -I. -I.. -I..    -g -O2 -MT snrm2.lo -MD -MP -MF .deps/snrm2.Tpo -c -o snrm2.lo snrm2.c\r\n"
       ]
      },
      {
       "output_type": "stream",
       "stream": "stdout",
       "text": [
        "libtool: compile:  gcc -DHAVE_CONFIG_H -I. -I.. -I.. -g -O2 -MT snrm2.lo -MD -MP -MF .deps/snrm2.Tpo -c snrm2.c  -fno-common -DPIC -o .libs/snrm2.o\r\n"
       ]
      },
      {
       "output_type": "stream",
       "stream": "stdout",
       "text": [
        "libtool: compile:  gcc -DHAVE_CONFIG_H -I. -I.. -I.. -g -O2 -MT snrm2.lo -MD -MP -MF .deps/snrm2.Tpo -c snrm2.c -o snrm2.o >/dev/null 2>&1\r\n"
       ]
      },
      {
       "output_type": "stream",
       "stream": "stdout",
       "text": [
        "mv -f .deps/snrm2.Tpo .deps/snrm2.Plo\r\n",
        "/bin/sh ../libtool --tag=CC   --mode=compile gcc -DHAVE_CONFIG_H -I. -I.. -I..    -g -O2 -MT srot.lo -MD -MP -MF .deps/srot.Tpo -c -o srot.lo srot.c\r\n"
       ]
      },
      {
       "output_type": "stream",
       "stream": "stdout",
       "text": [
        "libtool: compile:  gcc -DHAVE_CONFIG_H -I. -I.. -I.. -g -O2 -MT srot.lo -MD -MP -MF .deps/srot.Tpo -c srot.c  -fno-common -DPIC -o .libs/srot.o\r\n"
       ]
      },
      {
       "output_type": "stream",
       "stream": "stdout",
       "text": [
        "libtool: compile:  gcc -DHAVE_CONFIG_H -I. -I.. -I.. -g -O2 -MT srot.lo -MD -MP -MF .deps/srot.Tpo -c srot.c -o srot.o >/dev/null 2>&1\r\n"
       ]
      },
      {
       "output_type": "stream",
       "stream": "stdout",
       "text": [
        "mv -f .deps/srot.Tpo .deps/srot.Plo\r\n",
        "/bin/sh ../libtool --tag=CC   --mode=compile gcc -DHAVE_CONFIG_H -I. -I.. -I..    -g -O2 -MT srotg.lo -MD -MP -MF .deps/srotg.Tpo -c -o srotg.lo srotg.c\r\n"
       ]
      },
      {
       "output_type": "stream",
       "stream": "stdout",
       "text": [
        "libtool: compile:  gcc -DHAVE_CONFIG_H -I. -I.. -I.. -g -O2 -MT srotg.lo -MD -MP -MF .deps/srotg.Tpo -c srotg.c  -fno-common -DPIC -o .libs/srotg.o\r\n"
       ]
      },
      {
       "output_type": "stream",
       "stream": "stdout",
       "text": [
        "libtool: compile:  gcc -DHAVE_CONFIG_H -I. -I.. -I.. -g -O2 -MT srotg.lo -MD -MP -MF .deps/srotg.Tpo -c srotg.c -o srotg.o >/dev/null 2>&1\r\n"
       ]
      },
      {
       "output_type": "stream",
       "stream": "stdout",
       "text": [
        "mv -f .deps/srotg.Tpo .deps/srotg.Plo\r\n",
        "/bin/sh ../libtool --tag=CC   --mode=compile gcc -DHAVE_CONFIG_H -I. -I.. -I..    -g -O2 -MT srotm.lo -MD -MP -MF .deps/srotm.Tpo -c -o srotm.lo srotm.c\r\n",
        "libtool: compile:  gcc -DHAVE_CONFIG_H -I. -I.. -I.. -g -O2 -MT srotm.lo -MD -MP -MF .deps/srotm.Tpo -c srotm.c  -fno-common -DPIC -o .libs/srotm.o\r\n"
       ]
      },
      {
       "output_type": "stream",
       "stream": "stdout",
       "text": [
        "libtool: compile:  gcc -DHAVE_CONFIG_H -I. -I.. -I.. -g -O2 -MT srotm.lo -MD -MP -MF .deps/srotm.Tpo -c srotm.c -o srotm.o >/dev/null 2>&1\r\n"
       ]
      },
      {
       "output_type": "stream",
       "stream": "stdout",
       "text": [
        "mv -f .deps/srotm.Tpo .deps/srotm.Plo\r\n",
        "/bin/sh ../libtool --tag=CC   --mode=compile gcc -DHAVE_CONFIG_H -I. -I.. -I..    -g -O2 -MT srotmg.lo -MD -MP -MF .deps/srotmg.Tpo -c -o srotmg.lo srotmg.c\r\n"
       ]
      },
      {
       "output_type": "stream",
       "stream": "stdout",
       "text": [
        "libtool: compile:  gcc -DHAVE_CONFIG_H -I. -I.. -I.. -g -O2 -MT srotmg.lo -MD -MP -MF .deps/srotmg.Tpo -c srotmg.c  -fno-common -DPIC -o .libs/srotmg.o\r\n"
       ]
      },
      {
       "output_type": "stream",
       "stream": "stdout",
       "text": [
        "libtool: compile:  gcc -DHAVE_CONFIG_H -I. -I.. -I.. -g -O2 -MT srotmg.lo -MD -MP -MF .deps/srotmg.Tpo -c srotmg.c -o srotmg.o >/dev/null 2>&1\r\n"
       ]
      },
      {
       "output_type": "stream",
       "stream": "stdout",
       "text": [
        "mv -f .deps/srotmg.Tpo .deps/srotmg.Plo\r\n",
        "/bin/sh ../libtool --tag=CC   --mode=compile gcc -DHAVE_CONFIG_H -I. -I.. -I..    -g -O2 -MT ssbmv.lo -MD -MP -MF .deps/ssbmv.Tpo -c -o ssbmv.lo ssbmv.c\r\n",
        "libtool: compile:  gcc -DHAVE_CONFIG_H -I. -I.. -I.. -g -O2 -MT ssbmv.lo -MD -MP -MF .deps/ssbmv.Tpo -c ssbmv.c  -fno-common -DPIC -o .libs/ssbmv.o\r\n"
       ]
      },
      {
       "output_type": "stream",
       "stream": "stdout",
       "text": [
        "libtool: compile:  gcc -DHAVE_CONFIG_H -I. -I.. -I.. -g -O2 -MT ssbmv.lo -MD -MP -MF .deps/ssbmv.Tpo -c ssbmv.c -o ssbmv.o >/dev/null 2>&1\r\n"
       ]
      },
      {
       "output_type": "stream",
       "stream": "stdout",
       "text": [
        "mv -f .deps/ssbmv.Tpo .deps/ssbmv.Plo\r\n",
        "/bin/sh ../libtool --tag=CC   --mode=compile gcc -DHAVE_CONFIG_H -I. -I.. -I..    -g -O2 -MT sscal.lo -MD -MP -MF .deps/sscal.Tpo -c -o sscal.lo sscal.c\r\n"
       ]
      },
      {
       "output_type": "stream",
       "stream": "stdout",
       "text": [
        "libtool: compile:  gcc -DHAVE_CONFIG_H -I. -I.. -I.. -g -O2 -MT sscal.lo -MD -MP -MF .deps/sscal.Tpo -c sscal.c  -fno-common -DPIC -o .libs/sscal.o\r\n"
       ]
      },
      {
       "output_type": "stream",
       "stream": "stdout",
       "text": [
        "libtool: compile:  gcc -DHAVE_CONFIG_H -I. -I.. -I.. -g -O2 -MT sscal.lo -MD -MP -MF .deps/sscal.Tpo -c sscal.c -o sscal.o >/dev/null 2>&1\r\n"
       ]
      },
      {
       "output_type": "stream",
       "stream": "stdout",
       "text": [
        "mv -f .deps/sscal.Tpo .deps/sscal.Plo\r\n",
        "/bin/sh ../libtool --tag=CC   --mode=compile gcc -DHAVE_CONFIG_H -I. -I.. -I..    -g -O2 -MT sspmv.lo -MD -MP -MF .deps/sspmv.Tpo -c -o sspmv.lo sspmv.c\r\n"
       ]
      },
      {
       "output_type": "stream",
       "stream": "stdout",
       "text": [
        "libtool: compile:  gcc -DHAVE_CONFIG_H -I. -I.. -I.. -g -O2 -MT sspmv.lo -MD -MP -MF .deps/sspmv.Tpo -c sspmv.c  -fno-common -DPIC -o .libs/sspmv.o\r\n"
       ]
      },
      {
       "output_type": "stream",
       "stream": "stdout",
       "text": [
        "libtool: compile:  gcc -DHAVE_CONFIG_H -I. -I.. -I.. -g -O2 -MT sspmv.lo -MD -MP -MF .deps/sspmv.Tpo -c sspmv.c -o sspmv.o >/dev/null 2>&1\r\n"
       ]
      },
      {
       "output_type": "stream",
       "stream": "stdout",
       "text": [
        "mv -f .deps/sspmv.Tpo .deps/sspmv.Plo\r\n",
        "/bin/sh ../libtool --tag=CC   --mode=compile gcc -DHAVE_CONFIG_H -I. -I.. -I..    -g -O2 -MT sspr.lo -MD -MP -MF .deps/sspr.Tpo -c -o sspr.lo sspr.c\r\n"
       ]
      },
      {
       "output_type": "stream",
       "stream": "stdout",
       "text": [
        "libtool: compile:  gcc -DHAVE_CONFIG_H -I. -I.. -I.. -g -O2 -MT sspr.lo -MD -MP -MF .deps/sspr.Tpo -c sspr.c  -fno-common -DPIC -o .libs/sspr.o\r\n"
       ]
      },
      {
       "output_type": "stream",
       "stream": "stdout",
       "text": [
        "libtool: compile:  gcc -DHAVE_CONFIG_H -I. -I.. -I.. -g -O2 -MT sspr.lo -MD -MP -MF .deps/sspr.Tpo -c sspr.c -o sspr.o >/dev/null 2>&1\r\n"
       ]
      },
      {
       "output_type": "stream",
       "stream": "stdout",
       "text": [
        "mv -f .deps/sspr.Tpo .deps/sspr.Plo\r\n",
        "/bin/sh ../libtool --tag=CC   --mode=compile gcc -DHAVE_CONFIG_H -I. -I.. -I..    -g -O2 -MT sspr2.lo -MD -MP -MF .deps/sspr2.Tpo -c -o sspr2.lo sspr2.c\r\n"
       ]
      },
      {
       "output_type": "stream",
       "stream": "stdout",
       "text": [
        "libtool: compile:  gcc -DHAVE_CONFIG_H -I. -I.. -I.. -g -O2 -MT sspr2.lo -MD -MP -MF .deps/sspr2.Tpo -c sspr2.c  -fno-common -DPIC -o .libs/sspr2.o\r\n"
       ]
      },
      {
       "output_type": "stream",
       "stream": "stdout",
       "text": [
        "libtool: compile:  gcc -DHAVE_CONFIG_H -I. -I.. -I.. -g -O2 -MT sspr2.lo -MD -MP -MF .deps/sspr2.Tpo -c sspr2.c -o sspr2.o >/dev/null 2>&1\r\n"
       ]
      },
      {
       "output_type": "stream",
       "stream": "stdout",
       "text": [
        "mv -f .deps/sspr2.Tpo .deps/sspr2.Plo\r\n",
        "/bin/sh ../libtool --tag=CC   --mode=compile gcc -DHAVE_CONFIG_H -I. -I.. -I..    -g -O2 -MT sswap.lo -MD -MP -MF .deps/sswap.Tpo -c -o sswap.lo sswap.c\r\n"
       ]
      },
      {
       "output_type": "stream",
       "stream": "stdout",
       "text": [
        "libtool: compile:  gcc -DHAVE_CONFIG_H -I. -I.. -I.. -g -O2 -MT sswap.lo -MD -MP -MF .deps/sswap.Tpo -c sswap.c  -fno-common -DPIC -o .libs/sswap.o\r\n"
       ]
      },
      {
       "output_type": "stream",
       "stream": "stdout",
       "text": [
        "libtool: compile:  gcc -DHAVE_CONFIG_H -I. -I.. -I.. -g -O2 -MT sswap.lo -MD -MP -MF .deps/sswap.Tpo -c sswap.c -o sswap.o >/dev/null 2>&1\r\n"
       ]
      },
      {
       "output_type": "stream",
       "stream": "stdout",
       "text": [
        "mv -f .deps/sswap.Tpo .deps/sswap.Plo\r\n",
        "/bin/sh ../libtool --tag=CC   --mode=compile gcc -DHAVE_CONFIG_H -I. -I.. -I..    -g -O2 -MT ssymm.lo -MD -MP -MF .deps/ssymm.Tpo -c -o ssymm.lo ssymm.c\r\n",
        "libtool: compile:  gcc -DHAVE_CONFIG_H -I. -I.. -I.. -g -O2 -MT ssymm.lo -MD -MP -MF .deps/ssymm.Tpo -c ssymm.c  -fno-common -DPIC -o .libs/ssymm.o\r\n"
       ]
      },
      {
       "output_type": "stream",
       "stream": "stdout",
       "text": [
        "libtool: compile:  gcc -DHAVE_CONFIG_H -I. -I.. -I.. -g -O2 -MT ssymm.lo -MD -MP -MF .deps/ssymm.Tpo -c ssymm.c -o ssymm.o >/dev/null 2>&1\r\n"
       ]
      },
      {
       "output_type": "stream",
       "stream": "stdout",
       "text": [
        "mv -f .deps/ssymm.Tpo .deps/ssymm.Plo\r\n",
        "/bin/sh ../libtool --tag=CC   --mode=compile gcc -DHAVE_CONFIG_H -I. -I.. -I..    -g -O2 -MT ssymv.lo -MD -MP -MF .deps/ssymv.Tpo -c -o ssymv.lo ssymv.c\r\n",
        "libtool: compile:  gcc -DHAVE_CONFIG_H -I. -I.. -I.. -g -O2 -MT ssymv.lo -MD -MP -MF .deps/ssymv.Tpo -c ssymv.c  -fno-common -DPIC -o .libs/ssymv.o\r\n"
       ]
      },
      {
       "output_type": "stream",
       "stream": "stdout",
       "text": [
        "libtool: compile:  gcc -DHAVE_CONFIG_H -I. -I.. -I.. -g -O2 -MT ssymv.lo -MD -MP -MF .deps/ssymv.Tpo -c ssymv.c -o ssymv.o >/dev/null 2>&1\r\n"
       ]
      },
      {
       "output_type": "stream",
       "stream": "stdout",
       "text": [
        "mv -f .deps/ssymv.Tpo .deps/ssymv.Plo\r\n",
        "/bin/sh ../libtool --tag=CC   --mode=compile gcc -DHAVE_CONFIG_H -I. -I.. -I..    -g -O2 -MT ssyr.lo -MD -MP -MF .deps/ssyr.Tpo -c -o ssyr.lo ssyr.c\r\n",
        "libtool: compile:  gcc -DHAVE_CONFIG_H -I. -I.. -I.. -g -O2 -MT ssyr.lo -MD -MP -MF .deps/ssyr.Tpo -c ssyr.c  -fno-common -DPIC -o .libs/ssyr.o\r\n"
       ]
      },
      {
       "output_type": "stream",
       "stream": "stdout",
       "text": [
        "libtool: compile:  gcc -DHAVE_CONFIG_H -I. -I.. -I.. -g -O2 -MT ssyr.lo -MD -MP -MF .deps/ssyr.Tpo -c ssyr.c -o ssyr.o >/dev/null 2>&1\r\n"
       ]
      },
      {
       "output_type": "stream",
       "stream": "stdout",
       "text": [
        "mv -f .deps/ssyr.Tpo .deps/ssyr.Plo\r\n",
        "/bin/sh ../libtool --tag=CC   --mode=compile gcc -DHAVE_CONFIG_H -I. -I.. -I..    -g -O2 -MT ssyr2.lo -MD -MP -MF .deps/ssyr2.Tpo -c -o ssyr2.lo ssyr2.c\r\n",
        "libtool: compile:  gcc -DHAVE_CONFIG_H -I. -I.. -I.. -g -O2 -MT ssyr2.lo -MD -MP -MF .deps/ssyr2.Tpo -c ssyr2.c  -fno-common -DPIC -o .libs/ssyr2.o\r\n"
       ]
      },
      {
       "output_type": "stream",
       "stream": "stdout",
       "text": [
        "libtool: compile:  gcc -DHAVE_CONFIG_H -I. -I.. -I.. -g -O2 -MT ssyr2.lo -MD -MP -MF .deps/ssyr2.Tpo -c ssyr2.c -o ssyr2.o >/dev/null 2>&1\r\n"
       ]
      },
      {
       "output_type": "stream",
       "stream": "stdout",
       "text": [
        "mv -f .deps/ssyr2.Tpo .deps/ssyr2.Plo\r\n",
        "/bin/sh ../libtool --tag=CC   --mode=compile gcc -DHAVE_CONFIG_H -I. -I.. -I..    -g -O2 -MT ssyr2k.lo -MD -MP -MF .deps/ssyr2k.Tpo -c -o ssyr2k.lo ssyr2k.c\r\n"
       ]
      },
      {
       "output_type": "stream",
       "stream": "stdout",
       "text": [
        "libtool: compile:  gcc -DHAVE_CONFIG_H -I. -I.. -I.. -g -O2 -MT ssyr2k.lo -MD -MP -MF .deps/ssyr2k.Tpo -c ssyr2k.c  -fno-common -DPIC -o .libs/ssyr2k.o\r\n"
       ]
      },
      {
       "output_type": "stream",
       "stream": "stdout",
       "text": [
        "libtool: compile:  gcc -DHAVE_CONFIG_H -I. -I.. -I.. -g -O2 -MT ssyr2k.lo -MD -MP -MF .deps/ssyr2k.Tpo -c ssyr2k.c -o ssyr2k.o >/dev/null 2>&1\r\n"
       ]
      },
      {
       "output_type": "stream",
       "stream": "stdout",
       "text": [
        "mv -f .deps/ssyr2k.Tpo .deps/ssyr2k.Plo\r\n",
        "/bin/sh ../libtool --tag=CC   --mode=compile gcc -DHAVE_CONFIG_H -I. -I.. -I..    -g -O2 -MT ssyrk.lo -MD -MP -MF .deps/ssyrk.Tpo -c -o ssyrk.lo ssyrk.c\r\n",
        "libtool: compile:  gcc -DHAVE_CONFIG_H -I. -I.. -I.. -g -O2 -MT ssyrk.lo -MD -MP -MF .deps/ssyrk.Tpo -c ssyrk.c  -fno-common -DPIC -o .libs/ssyrk.o\r\n"
       ]
      },
      {
       "output_type": "stream",
       "stream": "stdout",
       "text": [
        "libtool: compile:  gcc -DHAVE_CONFIG_H -I. -I.. -I.. -g -O2 -MT ssyrk.lo -MD -MP -MF .deps/ssyrk.Tpo -c ssyrk.c -o ssyrk.o >/dev/null 2>&1\r\n"
       ]
      },
      {
       "output_type": "stream",
       "stream": "stdout",
       "text": [
        "mv -f .deps/ssyrk.Tpo .deps/ssyrk.Plo\r\n",
        "/bin/sh ../libtool --tag=CC   --mode=compile gcc -DHAVE_CONFIG_H -I. -I.. -I..    -g -O2 -MT stbmv.lo -MD -MP -MF .deps/stbmv.Tpo -c -o stbmv.lo stbmv.c\r\n",
        "libtool: compile:  gcc -DHAVE_CONFIG_H -I. -I.. -I.. -g -O2 -MT stbmv.lo -MD -MP -MF .deps/stbmv.Tpo -c stbmv.c  -fno-common -DPIC -o .libs/stbmv.o\r\n"
       ]
      },
      {
       "output_type": "stream",
       "stream": "stdout",
       "text": [
        "libtool: compile:  gcc -DHAVE_CONFIG_H -I. -I.. -I.. -g -O2 -MT stbmv.lo -MD -MP -MF .deps/stbmv.Tpo -c stbmv.c -o stbmv.o >/dev/null 2>&1\r\n"
       ]
      },
      {
       "output_type": "stream",
       "stream": "stdout",
       "text": [
        "mv -f .deps/stbmv.Tpo .deps/stbmv.Plo\r\n",
        "/bin/sh ../libtool --tag=CC   --mode=compile gcc -DHAVE_CONFIG_H -I. -I.. -I..    -g -O2 -MT stbsv.lo -MD -MP -MF .deps/stbsv.Tpo -c -o stbsv.lo stbsv.c\r\n",
        "libtool: compile:  gcc -DHAVE_CONFIG_H -I. -I.. -I.. -g -O2 -MT stbsv.lo -MD -MP -MF .deps/stbsv.Tpo -c stbsv.c  -fno-common -DPIC -o .libs/stbsv.o\r\n"
       ]
      },
      {
       "output_type": "stream",
       "stream": "stdout",
       "text": [
        "libtool: compile:  gcc -DHAVE_CONFIG_H -I. -I.. -I.. -g -O2 -MT stbsv.lo -MD -MP -MF .deps/stbsv.Tpo -c stbsv.c -o stbsv.o >/dev/null 2>&1\r\n"
       ]
      },
      {
       "output_type": "stream",
       "stream": "stdout",
       "text": [
        "mv -f .deps/stbsv.Tpo .deps/stbsv.Plo\r\n",
        "/bin/sh ../libtool --tag=CC   --mode=compile gcc -DHAVE_CONFIG_H -I. -I.. -I..    -g -O2 -MT stpmv.lo -MD -MP -MF .deps/stpmv.Tpo -c -o stpmv.lo stpmv.c\r\n",
        "libtool: compile:  gcc -DHAVE_CONFIG_H -I. -I.. -I.. -g -O2 -MT stpmv.lo -MD -MP -MF .deps/stpmv.Tpo -c stpmv.c  -fno-common -DPIC -o .libs/stpmv.o\r\n"
       ]
      },
      {
       "output_type": "stream",
       "stream": "stdout",
       "text": [
        "libtool: compile:  gcc -DHAVE_CONFIG_H -I. -I.. -I.. -g -O2 -MT stpmv.lo -MD -MP -MF .deps/stpmv.Tpo -c stpmv.c -o stpmv.o >/dev/null 2>&1\r\n"
       ]
      },
      {
       "output_type": "stream",
       "stream": "stdout",
       "text": [
        "mv -f .deps/stpmv.Tpo .deps/stpmv.Plo\r\n",
        "/bin/sh ../libtool --tag=CC   --mode=compile gcc -DHAVE_CONFIG_H -I. -I.. -I..    -g -O2 -MT stpsv.lo -MD -MP -MF .deps/stpsv.Tpo -c -o stpsv.lo stpsv.c\r\n"
       ]
      },
      {
       "output_type": "stream",
       "stream": "stdout",
       "text": [
        "libtool: compile:  gcc -DHAVE_CONFIG_H -I. -I.. -I.. -g -O2 -MT stpsv.lo -MD -MP -MF .deps/stpsv.Tpo -c stpsv.c  -fno-common -DPIC -o .libs/stpsv.o\r\n"
       ]
      },
      {
       "output_type": "stream",
       "stream": "stdout",
       "text": [
        "libtool: compile:  gcc -DHAVE_CONFIG_H -I. -I.. -I.. -g -O2 -MT stpsv.lo -MD -MP -MF .deps/stpsv.Tpo -c stpsv.c -o stpsv.o >/dev/null 2>&1\r\n"
       ]
      },
      {
       "output_type": "stream",
       "stream": "stdout",
       "text": [
        "mv -f .deps/stpsv.Tpo .deps/stpsv.Plo\r\n",
        "/bin/sh ../libtool --tag=CC   --mode=compile gcc -DHAVE_CONFIG_H -I. -I.. -I..    -g -O2 -MT strmm.lo -MD -MP -MF .deps/strmm.Tpo -c -o strmm.lo strmm.c\r\n"
       ]
      },
      {
       "output_type": "stream",
       "stream": "stdout",
       "text": [
        "libtool: compile:  gcc -DHAVE_CONFIG_H -I. -I.. -I.. -g -O2 -MT strmm.lo -MD -MP -MF .deps/strmm.Tpo -c strmm.c  -fno-common -DPIC -o .libs/strmm.o\r\n"
       ]
      },
      {
       "output_type": "stream",
       "stream": "stdout",
       "text": [
        "libtool: compile:  gcc -DHAVE_CONFIG_H -I. -I.. -I.. -g -O2 -MT strmm.lo -MD -MP -MF .deps/strmm.Tpo -c strmm.c -o strmm.o >/dev/null 2>&1\r\n"
       ]
      },
      {
       "output_type": "stream",
       "stream": "stdout",
       "text": [
        "mv -f .deps/strmm.Tpo .deps/strmm.Plo\r\n",
        "/bin/sh ../libtool --tag=CC   --mode=compile gcc -DHAVE_CONFIG_H -I. -I.. -I..    -g -O2 -MT strmv.lo -MD -MP -MF .deps/strmv.Tpo -c -o strmv.lo strmv.c\r\n",
        "libtool: compile:  gcc -DHAVE_CONFIG_H -I. -I.. -I.. -g -O2 -MT strmv.lo -MD -MP -MF .deps/strmv.Tpo -c strmv.c  -fno-common -DPIC -o .libs/strmv.o\r\n"
       ]
      },
      {
       "output_type": "stream",
       "stream": "stdout",
       "text": [
        "libtool: compile:  gcc -DHAVE_CONFIG_H -I. -I.. -I.. -g -O2 -MT strmv.lo -MD -MP -MF .deps/strmv.Tpo -c strmv.c -o strmv.o >/dev/null 2>&1\r\n"
       ]
      },
      {
       "output_type": "stream",
       "stream": "stdout",
       "text": [
        "mv -f .deps/strmv.Tpo .deps/strmv.Plo\r\n",
        "/bin/sh ../libtool --tag=CC   --mode=compile gcc -DHAVE_CONFIG_H -I. -I.. -I..    -g -O2 -MT strsm.lo -MD -MP -MF .deps/strsm.Tpo -c -o strsm.lo strsm.c\r\n",
        "libtool: compile:  gcc -DHAVE_CONFIG_H -I. -I.. -I.. -g -O2 -MT strsm.lo -MD -MP -MF .deps/strsm.Tpo -c strsm.c  -fno-common -DPIC -o .libs/strsm.o\r\n"
       ]
      },
      {
       "output_type": "stream",
       "stream": "stdout",
       "text": [
        "libtool: compile:  gcc -DHAVE_CONFIG_H -I. -I.. -I.. -g -O2 -MT strsm.lo -MD -MP -MF .deps/strsm.Tpo -c strsm.c -o strsm.o >/dev/null 2>&1\r\n"
       ]
      },
      {
       "output_type": "stream",
       "stream": "stdout",
       "text": [
        "mv -f .deps/strsm.Tpo .deps/strsm.Plo\r\n",
        "/bin/sh ../libtool --tag=CC   --mode=compile gcc -DHAVE_CONFIG_H -I. -I.. -I..    -g -O2 -MT strsv.lo -MD -MP -MF .deps/strsv.Tpo -c -o strsv.lo strsv.c\r\n"
       ]
      },
      {
       "output_type": "stream",
       "stream": "stdout",
       "text": [
        "libtool: compile:  gcc -DHAVE_CONFIG_H -I. -I.. -I.. -g -O2 -MT strsv.lo -MD -MP -MF .deps/strsv.Tpo -c strsv.c  -fno-common -DPIC -o .libs/strsv.o\r\n"
       ]
      },
      {
       "output_type": "stream",
       "stream": "stdout",
       "text": [
        "libtool: compile:  gcc -DHAVE_CONFIG_H -I. -I.. -I.. -g -O2 -MT strsv.lo -MD -MP -MF .deps/strsv.Tpo -c strsv.c -o strsv.o >/dev/null 2>&1\r\n"
       ]
      },
      {
       "output_type": "stream",
       "stream": "stdout",
       "text": [
        "mv -f .deps/strsv.Tpo .deps/strsv.Plo\r\n",
        "/bin/sh ../libtool --tag=CC   --mode=compile gcc -DHAVE_CONFIG_H -I. -I.. -I..    -g -O2 -MT dasum.lo -MD -MP -MF .deps/dasum.Tpo -c -o dasum.lo dasum.c\r\n",
        "libtool: compile:  gcc -DHAVE_CONFIG_H -I. -I.. -I.. -g -O2 -MT dasum.lo -MD -MP -MF .deps/dasum.Tpo -c dasum.c  -fno-common -DPIC -o .libs/dasum.o\r\n"
       ]
      },
      {
       "output_type": "stream",
       "stream": "stdout",
       "text": [
        "libtool: compile:  gcc -DHAVE_CONFIG_H -I. -I.. -I.. -g -O2 -MT dasum.lo -MD -MP -MF .deps/dasum.Tpo -c dasum.c -o dasum.o >/dev/null 2>&1\r\n"
       ]
      },
      {
       "output_type": "stream",
       "stream": "stdout",
       "text": [
        "mv -f .deps/dasum.Tpo .deps/dasum.Plo\r\n"
       ]
      },
      {
       "output_type": "stream",
       "stream": "stdout",
       "text": [
        "/bin/sh ../libtool --tag=CC   --mode=compile gcc -DHAVE_CONFIG_H -I. -I.. -I..    -g -O2 -MT daxpy.lo -MD -MP -MF .deps/daxpy.Tpo -c -o daxpy.lo daxpy.c\r\n",
        "libtool: compile:  gcc -DHAVE_CONFIG_H -I. -I.. -I.. -g -O2 -MT daxpy.lo -MD -MP -MF .deps/daxpy.Tpo -c daxpy.c  -fno-common -DPIC -o .libs/daxpy.o\r\n"
       ]
      },
      {
       "output_type": "stream",
       "stream": "stdout",
       "text": [
        "libtool: compile:  gcc -DHAVE_CONFIG_H -I. -I.. -I.. -g -O2 -MT daxpy.lo -MD -MP -MF .deps/daxpy.Tpo -c daxpy.c -o daxpy.o >/dev/null 2>&1\r\n"
       ]
      },
      {
       "output_type": "stream",
       "stream": "stdout",
       "text": [
        "mv -f .deps/daxpy.Tpo .deps/daxpy.Plo\r\n",
        "/bin/sh ../libtool --tag=CC   --mode=compile gcc -DHAVE_CONFIG_H -I. -I.. -I..    -g -O2 -MT dcopy.lo -MD -MP -MF .deps/dcopy.Tpo -c -o dcopy.lo dcopy.c\r\n",
        "libtool: compile:  gcc -DHAVE_CONFIG_H -I. -I.. -I.. -g -O2 -MT dcopy.lo -MD -MP -MF .deps/dcopy.Tpo -c dcopy.c  -fno-common -DPIC -o .libs/dcopy.o\r\n"
       ]
      },
      {
       "output_type": "stream",
       "stream": "stdout",
       "text": [
        "libtool: compile:  gcc -DHAVE_CONFIG_H -I. -I.. -I.. -g -O2 -MT dcopy.lo -MD -MP -MF .deps/dcopy.Tpo -c dcopy.c -o dcopy.o >/dev/null 2>&1\r\n"
       ]
      },
      {
       "output_type": "stream",
       "stream": "stdout",
       "text": [
        "mv -f .deps/dcopy.Tpo .deps/dcopy.Plo\r\n",
        "/bin/sh ../libtool --tag=CC   --mode=compile gcc -DHAVE_CONFIG_H -I. -I.. -I..    -g -O2 -MT ddot.lo -MD -MP -MF .deps/ddot.Tpo -c -o ddot.lo ddot.c\r\n"
       ]
      },
      {
       "output_type": "stream",
       "stream": "stdout",
       "text": [
        "libtool: compile:  gcc -DHAVE_CONFIG_H -I. -I.. -I.. -g -O2 -MT ddot.lo -MD -MP -MF .deps/ddot.Tpo -c ddot.c  -fno-common -DPIC -o .libs/ddot.o\r\n"
       ]
      },
      {
       "output_type": "stream",
       "stream": "stdout",
       "text": [
        "libtool: compile:  gcc -DHAVE_CONFIG_H -I. -I.. -I.. -g -O2 -MT ddot.lo -MD -MP -MF .deps/ddot.Tpo -c ddot.c -o ddot.o >/dev/null 2>&1\r\n"
       ]
      },
      {
       "output_type": "stream",
       "stream": "stdout",
       "text": [
        "mv -f .deps/ddot.Tpo .deps/ddot.Plo\r\n",
        "/bin/sh ../libtool --tag=CC   --mode=compile gcc -DHAVE_CONFIG_H -I. -I.. -I..    -g -O2 -MT dgbmv.lo -MD -MP -MF .deps/dgbmv.Tpo -c -o dgbmv.lo dgbmv.c\r\n",
        "libtool: compile:  gcc -DHAVE_CONFIG_H -I. -I.. -I.. -g -O2 -MT dgbmv.lo -MD -MP -MF .deps/dgbmv.Tpo -c dgbmv.c  -fno-common -DPIC -o .libs/dgbmv.o\r\n"
       ]
      },
      {
       "output_type": "stream",
       "stream": "stdout",
       "text": [
        "libtool: compile:  gcc -DHAVE_CONFIG_H -I. -I.. -I.. -g -O2 -MT dgbmv.lo -MD -MP -MF .deps/dgbmv.Tpo -c dgbmv.c -o dgbmv.o >/dev/null 2>&1\r\n"
       ]
      },
      {
       "output_type": "stream",
       "stream": "stdout",
       "text": [
        "mv -f .deps/dgbmv.Tpo .deps/dgbmv.Plo\r\n",
        "/bin/sh ../libtool --tag=CC   --mode=compile gcc -DHAVE_CONFIG_H -I. -I.. -I..    -g -O2 -MT dgemm.lo -MD -MP -MF .deps/dgemm.Tpo -c -o dgemm.lo dgemm.c\r\n",
        "libtool: compile:  gcc -DHAVE_CONFIG_H -I. -I.. -I.. -g -O2 -MT dgemm.lo -MD -MP -MF .deps/dgemm.Tpo -c dgemm.c  -fno-common -DPIC -o .libs/dgemm.o\r\n"
       ]
      },
      {
       "output_type": "stream",
       "stream": "stdout",
       "text": [
        "libtool: compile:  gcc -DHAVE_CONFIG_H -I. -I.. -I.. -g -O2 -MT dgemm.lo -MD -MP -MF .deps/dgemm.Tpo -c dgemm.c -o dgemm.o >/dev/null 2>&1\r\n"
       ]
      },
      {
       "output_type": "stream",
       "stream": "stdout",
       "text": [
        "mv -f .deps/dgemm.Tpo .deps/dgemm.Plo\r\n",
        "/bin/sh ../libtool --tag=CC   --mode=compile gcc -DHAVE_CONFIG_H -I. -I.. -I..    -g -O2 -MT dgemv.lo -MD -MP -MF .deps/dgemv.Tpo -c -o dgemv.lo dgemv.c\r\n",
        "libtool: compile:  gcc -DHAVE_CONFIG_H -I. -I.. -I.. -g -O2 -MT dgemv.lo -MD -MP -MF .deps/dgemv.Tpo -c dgemv.c  -fno-common -DPIC -o .libs/dgemv.o\r\n"
       ]
      },
      {
       "output_type": "stream",
       "stream": "stdout",
       "text": [
        "libtool: compile:  gcc -DHAVE_CONFIG_H -I. -I.. -I.. -g -O2 -MT dgemv.lo -MD -MP -MF .deps/dgemv.Tpo -c dgemv.c -o dgemv.o >/dev/null 2>&1\r\n"
       ]
      },
      {
       "output_type": "stream",
       "stream": "stdout",
       "text": [
        "mv -f .deps/dgemv.Tpo .deps/dgemv.Plo\r\n",
        "/bin/sh ../libtool --tag=CC   --mode=compile gcc -DHAVE_CONFIG_H -I. -I.. -I..    -g -O2 -MT dger.lo -MD -MP -MF .deps/dger.Tpo -c -o dger.lo dger.c\r\n",
        "libtool: compile:  gcc -DHAVE_CONFIG_H -I. -I.. -I.. -g -O2 -MT dger.lo -MD -MP -MF .deps/dger.Tpo -c dger.c  -fno-common -DPIC -o .libs/dger.o\r\n"
       ]
      },
      {
       "output_type": "stream",
       "stream": "stdout",
       "text": [
        "libtool: compile:  gcc -DHAVE_CONFIG_H -I. -I.. -I.. -g -O2 -MT dger.lo -MD -MP -MF .deps/dger.Tpo -c dger.c -o dger.o >/dev/null 2>&1\r\n"
       ]
      },
      {
       "output_type": "stream",
       "stream": "stdout",
       "text": [
        "mv -f .deps/dger.Tpo .deps/dger.Plo\r\n",
        "/bin/sh ../libtool --tag=CC   --mode=compile gcc -DHAVE_CONFIG_H -I. -I.. -I..    -g -O2 -MT dnrm2.lo -MD -MP -MF .deps/dnrm2.Tpo -c -o dnrm2.lo dnrm2.c\r\n"
       ]
      },
      {
       "output_type": "stream",
       "stream": "stdout",
       "text": [
        "libtool: compile:  gcc -DHAVE_CONFIG_H -I. -I.. -I.. -g -O2 -MT dnrm2.lo -MD -MP -MF .deps/dnrm2.Tpo -c dnrm2.c  -fno-common -DPIC -o .libs/dnrm2.o\r\n"
       ]
      },
      {
       "output_type": "stream",
       "stream": "stdout",
       "text": [
        "libtool: compile:  gcc -DHAVE_CONFIG_H -I. -I.. -I.. -g -O2 -MT dnrm2.lo -MD -MP -MF .deps/dnrm2.Tpo -c dnrm2.c -o dnrm2.o >/dev/null 2>&1\r\n"
       ]
      },
      {
       "output_type": "stream",
       "stream": "stdout",
       "text": [
        "mv -f .deps/dnrm2.Tpo .deps/dnrm2.Plo\r\n",
        "/bin/sh ../libtool --tag=CC   --mode=compile gcc -DHAVE_CONFIG_H -I. -I.. -I..    -g -O2 -MT drot.lo -MD -MP -MF .deps/drot.Tpo -c -o drot.lo drot.c\r\n",
        "libtool: compile:  gcc -DHAVE_CONFIG_H -I. -I.. -I.. -g -O2 -MT drot.lo -MD -MP -MF .deps/drot.Tpo -c drot.c  -fno-common -DPIC -o .libs/drot.o\r\n"
       ]
      },
      {
       "output_type": "stream",
       "stream": "stdout",
       "text": [
        "libtool: compile:  gcc -DHAVE_CONFIG_H -I. -I.. -I.. -g -O2 -MT drot.lo -MD -MP -MF .deps/drot.Tpo -c drot.c -o drot.o >/dev/null 2>&1\r\n"
       ]
      },
      {
       "output_type": "stream",
       "stream": "stdout",
       "text": [
        "mv -f .deps/drot.Tpo .deps/drot.Plo\r\n",
        "/bin/sh ../libtool --tag=CC   --mode=compile gcc -DHAVE_CONFIG_H -I. -I.. -I..    -g -O2 -MT drotg.lo -MD -MP -MF .deps/drotg.Tpo -c -o drotg.lo drotg.c\r\n"
       ]
      },
      {
       "output_type": "stream",
       "stream": "stdout",
       "text": [
        "libtool: compile:  gcc -DHAVE_CONFIG_H -I. -I.. -I.. -g -O2 -MT drotg.lo -MD -MP -MF .deps/drotg.Tpo -c drotg.c  -fno-common -DPIC -o .libs/drotg.o\r\n"
       ]
      },
      {
       "output_type": "stream",
       "stream": "stdout",
       "text": [
        "libtool: compile:  gcc -DHAVE_CONFIG_H -I. -I.. -I.. -g -O2 -MT drotg.lo -MD -MP -MF .deps/drotg.Tpo -c drotg.c -o drotg.o >/dev/null 2>&1\r\n"
       ]
      },
      {
       "output_type": "stream",
       "stream": "stdout",
       "text": [
        "mv -f .deps/drotg.Tpo .deps/drotg.Plo\r\n",
        "/bin/sh ../libtool --tag=CC   --mode=compile gcc -DHAVE_CONFIG_H -I. -I.. -I..    -g -O2 -MT drotm.lo -MD -MP -MF .deps/drotm.Tpo -c -o drotm.lo drotm.c\r\n"
       ]
      },
      {
       "output_type": "stream",
       "stream": "stdout",
       "text": [
        "libtool: compile:  gcc -DHAVE_CONFIG_H -I. -I.. -I.. -g -O2 -MT drotm.lo -MD -MP -MF .deps/drotm.Tpo -c drotm.c  -fno-common -DPIC -o .libs/drotm.o\r\n"
       ]
      },
      {
       "output_type": "stream",
       "stream": "stdout",
       "text": [
        "libtool: compile:  gcc -DHAVE_CONFIG_H -I. -I.. -I.. -g -O2 -MT drotm.lo -MD -MP -MF .deps/drotm.Tpo -c drotm.c -o drotm.o >/dev/null 2>&1\r\n"
       ]
      },
      {
       "output_type": "stream",
       "stream": "stdout",
       "text": [
        "mv -f .deps/drotm.Tpo .deps/drotm.Plo\r\n",
        "/bin/sh ../libtool --tag=CC   --mode=compile gcc -DHAVE_CONFIG_H -I. -I.. -I..    -g -O2 -MT drotmg.lo -MD -MP -MF .deps/drotmg.Tpo -c -o drotmg.lo drotmg.c\r\n"
       ]
      },
      {
       "output_type": "stream",
       "stream": "stdout",
       "text": [
        "libtool: compile:  gcc -DHAVE_CONFIG_H -I. -I.. -I.. -g -O2 -MT drotmg.lo -MD -MP -MF .deps/drotmg.Tpo -c drotmg.c  -fno-common -DPIC -o .libs/drotmg.o\r\n"
       ]
      },
      {
       "output_type": "stream",
       "stream": "stdout",
       "text": [
        "libtool: compile:  gcc -DHAVE_CONFIG_H -I. -I.. -I.. -g -O2 -MT drotmg.lo -MD -MP -MF .deps/drotmg.Tpo -c drotmg.c -o drotmg.o >/dev/null 2>&1\r\n"
       ]
      },
      {
       "output_type": "stream",
       "stream": "stdout",
       "text": [
        "mv -f .deps/drotmg.Tpo .deps/drotmg.Plo\r\n",
        "/bin/sh ../libtool --tag=CC   --mode=compile gcc -DHAVE_CONFIG_H -I. -I.. -I..    -g -O2 -MT dsbmv.lo -MD -MP -MF .deps/dsbmv.Tpo -c -o dsbmv.lo dsbmv.c\r\n"
       ]
      },
      {
       "output_type": "stream",
       "stream": "stdout",
       "text": [
        "libtool: compile:  gcc -DHAVE_CONFIG_H -I. -I.. -I.. -g -O2 -MT dsbmv.lo -MD -MP -MF .deps/dsbmv.Tpo -c dsbmv.c  -fno-common -DPIC -o .libs/dsbmv.o\r\n"
       ]
      },
      {
       "output_type": "stream",
       "stream": "stdout",
       "text": [
        "libtool: compile:  gcc -DHAVE_CONFIG_H -I. -I.. -I.. -g -O2 -MT dsbmv.lo -MD -MP -MF .deps/dsbmv.Tpo -c dsbmv.c -o dsbmv.o >/dev/null 2>&1\r\n"
       ]
      },
      {
       "output_type": "stream",
       "stream": "stdout",
       "text": [
        "mv -f .deps/dsbmv.Tpo .deps/dsbmv.Plo\r\n",
        "/bin/sh ../libtool --tag=CC   --mode=compile gcc -DHAVE_CONFIG_H -I. -I.. -I..    -g -O2 -MT dscal.lo -MD -MP -MF .deps/dscal.Tpo -c -o dscal.lo dscal.c\r\n"
       ]
      },
      {
       "output_type": "stream",
       "stream": "stdout",
       "text": [
        "libtool: compile:  gcc -DHAVE_CONFIG_H -I. -I.. -I.. -g -O2 -MT dscal.lo -MD -MP -MF .deps/dscal.Tpo -c dscal.c  -fno-common -DPIC -o .libs/dscal.o\r\n"
       ]
      },
      {
       "output_type": "stream",
       "stream": "stdout",
       "text": [
        "libtool: compile:  gcc -DHAVE_CONFIG_H -I. -I.. -I.. -g -O2 -MT dscal.lo -MD -MP -MF .deps/dscal.Tpo -c dscal.c -o dscal.o >/dev/null 2>&1\r\n"
       ]
      },
      {
       "output_type": "stream",
       "stream": "stdout",
       "text": [
        "mv -f .deps/dscal.Tpo .deps/dscal.Plo\r\n",
        "/bin/sh ../libtool --tag=CC   --mode=compile gcc -DHAVE_CONFIG_H -I. -I.. -I..    -g -O2 -MT dsdot.lo -MD -MP -MF .deps/dsdot.Tpo -c -o dsdot.lo dsdot.c\r\n",
        "libtool: compile:  gcc -DHAVE_CONFIG_H -I. -I.. -I.. -g -O2 -MT dsdot.lo -MD -MP -MF .deps/dsdot.Tpo -c dsdot.c  -fno-common -DPIC -o .libs/dsdot.o\r\n"
       ]
      },
      {
       "output_type": "stream",
       "stream": "stdout",
       "text": [
        "libtool: compile:  gcc -DHAVE_CONFIG_H -I. -I.. -I.. -g -O2 -MT dsdot.lo -MD -MP -MF .deps/dsdot.Tpo -c dsdot.c -o dsdot.o >/dev/null 2>&1\r\n"
       ]
      },
      {
       "output_type": "stream",
       "stream": "stdout",
       "text": [
        "mv -f .deps/dsdot.Tpo .deps/dsdot.Plo\r\n",
        "/bin/sh ../libtool --tag=CC   --mode=compile gcc -DHAVE_CONFIG_H -I. -I.. -I..    -g -O2 -MT dspmv.lo -MD -MP -MF .deps/dspmv.Tpo -c -o dspmv.lo dspmv.c\r\n"
       ]
      },
      {
       "output_type": "stream",
       "stream": "stdout",
       "text": [
        "libtool: compile:  gcc -DHAVE_CONFIG_H -I. -I.. -I.. -g -O2 -MT dspmv.lo -MD -MP -MF .deps/dspmv.Tpo -c dspmv.c  -fno-common -DPIC -o .libs/dspmv.o\r\n"
       ]
      },
      {
       "output_type": "stream",
       "stream": "stdout",
       "text": [
        "libtool: compile:  gcc -DHAVE_CONFIG_H -I. -I.. -I.. -g -O2 -MT dspmv.lo -MD -MP -MF .deps/dspmv.Tpo -c dspmv.c -o dspmv.o >/dev/null 2>&1\r\n"
       ]
      },
      {
       "output_type": "stream",
       "stream": "stdout",
       "text": [
        "mv -f .deps/dspmv.Tpo .deps/dspmv.Plo\r\n",
        "/bin/sh ../libtool --tag=CC   --mode=compile gcc -DHAVE_CONFIG_H -I. -I.. -I..    -g -O2 -MT dspr.lo -MD -MP -MF .deps/dspr.Tpo -c -o dspr.lo dspr.c\r\n"
       ]
      },
      {
       "output_type": "stream",
       "stream": "stdout",
       "text": [
        "libtool: compile:  gcc -DHAVE_CONFIG_H -I. -I.. -I.. -g -O2 -MT dspr.lo -MD -MP -MF .deps/dspr.Tpo -c dspr.c  -fno-common -DPIC -o .libs/dspr.o\r\n"
       ]
      },
      {
       "output_type": "stream",
       "stream": "stdout",
       "text": [
        "libtool: compile:  gcc -DHAVE_CONFIG_H -I. -I.. -I.. -g -O2 -MT dspr.lo -MD -MP -MF .deps/dspr.Tpo -c dspr.c -o dspr.o >/dev/null 2>&1\r\n"
       ]
      },
      {
       "output_type": "stream",
       "stream": "stdout",
       "text": [
        "mv -f .deps/dspr.Tpo .deps/dspr.Plo\r\n",
        "/bin/sh ../libtool --tag=CC   --mode=compile gcc -DHAVE_CONFIG_H -I. -I.. -I..    -g -O2 -MT dspr2.lo -MD -MP -MF .deps/dspr2.Tpo -c -o dspr2.lo dspr2.c\r\n",
        "libtool: compile:  gcc -DHAVE_CONFIG_H -I. -I.. -I.. -g -O2 -MT dspr2.lo -MD -MP -MF .deps/dspr2.Tpo -c dspr2.c  -fno-common -DPIC -o .libs/dspr2.o\r\n"
       ]
      },
      {
       "output_type": "stream",
       "stream": "stdout",
       "text": [
        "libtool: compile:  gcc -DHAVE_CONFIG_H -I. -I.. -I.. -g -O2 -MT dspr2.lo -MD -MP -MF .deps/dspr2.Tpo -c dspr2.c -o dspr2.o >/dev/null 2>&1\r\n"
       ]
      },
      {
       "output_type": "stream",
       "stream": "stdout",
       "text": [
        "mv -f .deps/dspr2.Tpo .deps/dspr2.Plo\r\n",
        "/bin/sh ../libtool --tag=CC   --mode=compile gcc -DHAVE_CONFIG_H -I. -I.. -I..    -g -O2 -MT dswap.lo -MD -MP -MF .deps/dswap.Tpo -c -o dswap.lo dswap.c\r\n"
       ]
      },
      {
       "output_type": "stream",
       "stream": "stdout",
       "text": [
        "libtool: compile:  gcc -DHAVE_CONFIG_H -I. -I.. -I.. -g -O2 -MT dswap.lo -MD -MP -MF .deps/dswap.Tpo -c dswap.c  -fno-common -DPIC -o .libs/dswap.o\r\n"
       ]
      },
      {
       "output_type": "stream",
       "stream": "stdout",
       "text": [
        "libtool: compile:  gcc -DHAVE_CONFIG_H -I. -I.. -I.. -g -O2 -MT dswap.lo -MD -MP -MF .deps/dswap.Tpo -c dswap.c -o dswap.o >/dev/null 2>&1\r\n"
       ]
      },
      {
       "output_type": "stream",
       "stream": "stdout",
       "text": [
        "mv -f .deps/dswap.Tpo .deps/dswap.Plo\r\n",
        "/bin/sh ../libtool --tag=CC   --mode=compile gcc -DHAVE_CONFIG_H -I. -I.. -I..    -g -O2 -MT dsymm.lo -MD -MP -MF .deps/dsymm.Tpo -c -o dsymm.lo dsymm.c\r\n"
       ]
      },
      {
       "output_type": "stream",
       "stream": "stdout",
       "text": [
        "libtool: compile:  gcc -DHAVE_CONFIG_H -I. -I.. -I.. -g -O2 -MT dsymm.lo -MD -MP -MF .deps/dsymm.Tpo -c dsymm.c  -fno-common -DPIC -o .libs/dsymm.o\r\n"
       ]
      },
      {
       "output_type": "stream",
       "stream": "stdout",
       "text": [
        "libtool: compile:  gcc -DHAVE_CONFIG_H -I. -I.. -I.. -g -O2 -MT dsymm.lo -MD -MP -MF .deps/dsymm.Tpo -c dsymm.c -o dsymm.o >/dev/null 2>&1\r\n"
       ]
      },
      {
       "output_type": "stream",
       "stream": "stdout",
       "text": [
        "mv -f .deps/dsymm.Tpo .deps/dsymm.Plo\r\n",
        "/bin/sh ../libtool --tag=CC   --mode=compile gcc -DHAVE_CONFIG_H -I. -I.. -I..    -g -O2 -MT dsymv.lo -MD -MP -MF .deps/dsymv.Tpo -c -o dsymv.lo dsymv.c\r\n"
       ]
      },
      {
       "output_type": "stream",
       "stream": "stdout",
       "text": [
        "libtool: compile:  gcc -DHAVE_CONFIG_H -I. -I.. -I.. -g -O2 -MT dsymv.lo -MD -MP -MF .deps/dsymv.Tpo -c dsymv.c  -fno-common -DPIC -o .libs/dsymv.o\r\n"
       ]
      },
      {
       "output_type": "stream",
       "stream": "stdout",
       "text": [
        "libtool: compile:  gcc -DHAVE_CONFIG_H -I. -I.. -I.. -g -O2 -MT dsymv.lo -MD -MP -MF .deps/dsymv.Tpo -c dsymv.c -o dsymv.o >/dev/null 2>&1\r\n"
       ]
      },
      {
       "output_type": "stream",
       "stream": "stdout",
       "text": [
        "mv -f .deps/dsymv.Tpo .deps/dsymv.Plo\r\n",
        "/bin/sh ../libtool --tag=CC   --mode=compile gcc -DHAVE_CONFIG_H -I. -I.. -I..    -g -O2 -MT dsyr.lo -MD -MP -MF .deps/dsyr.Tpo -c -o dsyr.lo dsyr.c\r\n"
       ]
      },
      {
       "output_type": "stream",
       "stream": "stdout",
       "text": [
        "libtool: compile:  gcc -DHAVE_CONFIG_H -I. -I.. -I.. -g -O2 -MT dsyr.lo -MD -MP -MF .deps/dsyr.Tpo -c dsyr.c  -fno-common -DPIC -o .libs/dsyr.o\r\n"
       ]
      },
      {
       "output_type": "stream",
       "stream": "stdout",
       "text": [
        "libtool: compile:  gcc -DHAVE_CONFIG_H -I. -I.. -I.. -g -O2 -MT dsyr.lo -MD -MP -MF .deps/dsyr.Tpo -c dsyr.c -o dsyr.o >/dev/null 2>&1\r\n"
       ]
      },
      {
       "output_type": "stream",
       "stream": "stdout",
       "text": [
        "mv -f .deps/dsyr.Tpo .deps/dsyr.Plo\r\n",
        "/bin/sh ../libtool --tag=CC   --mode=compile gcc -DHAVE_CONFIG_H -I. -I.. -I..    -g -O2 -MT dsyr2.lo -MD -MP -MF .deps/dsyr2.Tpo -c -o dsyr2.lo dsyr2.c\r\n",
        "libtool: compile:  gcc -DHAVE_CONFIG_H -I. -I.. -I.. -g -O2 -MT dsyr2.lo -MD -MP -MF .deps/dsyr2.Tpo -c dsyr2.c  -fno-common -DPIC -o .libs/dsyr2.o\r\n"
       ]
      },
      {
       "output_type": "stream",
       "stream": "stdout",
       "text": [
        "libtool: compile:  gcc -DHAVE_CONFIG_H -I. -I.. -I.. -g -O2 -MT dsyr2.lo -MD -MP -MF .deps/dsyr2.Tpo -c dsyr2.c -o dsyr2.o >/dev/null 2>&1\r\n"
       ]
      },
      {
       "output_type": "stream",
       "stream": "stdout",
       "text": [
        "mv -f .deps/dsyr2.Tpo .deps/dsyr2.Plo\r\n",
        "/bin/sh ../libtool --tag=CC   --mode=compile gcc -DHAVE_CONFIG_H -I. -I.. -I..    -g -O2 -MT dsyr2k.lo -MD -MP -MF .deps/dsyr2k.Tpo -c -o dsyr2k.lo dsyr2k.c\r\n",
        "libtool: compile:  gcc -DHAVE_CONFIG_H -I. -I.. -I.. -g -O2 -MT dsyr2k.lo -MD -MP -MF .deps/dsyr2k.Tpo -c dsyr2k.c  -fno-common -DPIC -o .libs/dsyr2k.o\r\n"
       ]
      },
      {
       "output_type": "stream",
       "stream": "stdout",
       "text": [
        "libtool: compile:  gcc -DHAVE_CONFIG_H -I. -I.. -I.. -g -O2 -MT dsyr2k.lo -MD -MP -MF .deps/dsyr2k.Tpo -c dsyr2k.c -o dsyr2k.o >/dev/null 2>&1\r\n"
       ]
      },
      {
       "output_type": "stream",
       "stream": "stdout",
       "text": [
        "mv -f .deps/dsyr2k.Tpo .deps/dsyr2k.Plo\r\n",
        "/bin/sh ../libtool --tag=CC   --mode=compile gcc -DHAVE_CONFIG_H -I. -I.. -I..    -g -O2 -MT dsyrk.lo -MD -MP -MF .deps/dsyrk.Tpo -c -o dsyrk.lo dsyrk.c\r\n",
        "libtool: compile:  gcc -DHAVE_CONFIG_H -I. -I.. -I.. -g -O2 -MT dsyrk.lo -MD -MP -MF .deps/dsyrk.Tpo -c dsyrk.c  -fno-common -DPIC -o .libs/dsyrk.o\r\n"
       ]
      },
      {
       "output_type": "stream",
       "stream": "stdout",
       "text": [
        "libtool: compile:  gcc -DHAVE_CONFIG_H -I. -I.. -I.. -g -O2 -MT dsyrk.lo -MD -MP -MF .deps/dsyrk.Tpo -c dsyrk.c -o dsyrk.o >/dev/null 2>&1\r\n"
       ]
      },
      {
       "output_type": "stream",
       "stream": "stdout",
       "text": [
        "mv -f .deps/dsyrk.Tpo .deps/dsyrk.Plo\r\n",
        "/bin/sh ../libtool --tag=CC   --mode=compile gcc -DHAVE_CONFIG_H -I. -I.. -I..    -g -O2 -MT dtbmv.lo -MD -MP -MF .deps/dtbmv.Tpo -c -o dtbmv.lo dtbmv.c\r\n",
        "libtool: compile:  gcc -DHAVE_CONFIG_H -I. -I.. -I.. -g -O2 -MT dtbmv.lo -MD -MP -MF .deps/dtbmv.Tpo -c dtbmv.c  -fno-common -DPIC -o .libs/dtbmv.o\r\n"
       ]
      },
      {
       "output_type": "stream",
       "stream": "stdout",
       "text": [
        "libtool: compile:  gcc -DHAVE_CONFIG_H -I. -I.. -I.. -g -O2 -MT dtbmv.lo -MD -MP -MF .deps/dtbmv.Tpo -c dtbmv.c -o dtbmv.o >/dev/null 2>&1\r\n"
       ]
      },
      {
       "output_type": "stream",
       "stream": "stdout",
       "text": [
        "mv -f .deps/dtbmv.Tpo .deps/dtbmv.Plo\r\n",
        "/bin/sh ../libtool --tag=CC   --mode=compile gcc -DHAVE_CONFIG_H -I. -I.. -I..    -g -O2 -MT dtbsv.lo -MD -MP -MF .deps/dtbsv.Tpo -c -o dtbsv.lo dtbsv.c\r\n",
        "libtool: compile:  gcc -DHAVE_CONFIG_H -I. -I.. -I.. -g -O2 -MT dtbsv.lo -MD -MP -MF .deps/dtbsv.Tpo -c dtbsv.c  -fno-common -DPIC -o .libs/dtbsv.o\r\n"
       ]
      },
      {
       "output_type": "stream",
       "stream": "stdout",
       "text": [
        "libtool: compile:  gcc -DHAVE_CONFIG_H -I. -I.. -I.. -g -O2 -MT dtbsv.lo -MD -MP -MF .deps/dtbsv.Tpo -c dtbsv.c -o dtbsv.o >/dev/null 2>&1\r\n"
       ]
      },
      {
       "output_type": "stream",
       "stream": "stdout",
       "text": [
        "mv -f .deps/dtbsv.Tpo .deps/dtbsv.Plo\r\n",
        "/bin/sh ../libtool --tag=CC   --mode=compile gcc -DHAVE_CONFIG_H -I. -I.. -I..    -g -O2 -MT dtpmv.lo -MD -MP -MF .deps/dtpmv.Tpo -c -o dtpmv.lo dtpmv.c\r\n"
       ]
      },
      {
       "output_type": "stream",
       "stream": "stdout",
       "text": [
        "libtool: compile:  gcc -DHAVE_CONFIG_H -I. -I.. -I.. -g -O2 -MT dtpmv.lo -MD -MP -MF .deps/dtpmv.Tpo -c dtpmv.c  -fno-common -DPIC -o .libs/dtpmv.o\r\n"
       ]
      },
      {
       "output_type": "stream",
       "stream": "stdout",
       "text": [
        "libtool: compile:  gcc -DHAVE_CONFIG_H -I. -I.. -I.. -g -O2 -MT dtpmv.lo -MD -MP -MF .deps/dtpmv.Tpo -c dtpmv.c -o dtpmv.o >/dev/null 2>&1\r\n"
       ]
      },
      {
       "output_type": "stream",
       "stream": "stdout",
       "text": [
        "mv -f .deps/dtpmv.Tpo .deps/dtpmv.Plo\r\n",
        "/bin/sh ../libtool --tag=CC   --mode=compile gcc -DHAVE_CONFIG_H -I. -I.. -I..    -g -O2 -MT dtpsv.lo -MD -MP -MF .deps/dtpsv.Tpo -c -o dtpsv.lo dtpsv.c\r\n"
       ]
      },
      {
       "output_type": "stream",
       "stream": "stdout",
       "text": [
        "libtool: compile:  gcc -DHAVE_CONFIG_H -I. -I.. -I.. -g -O2 -MT dtpsv.lo -MD -MP -MF .deps/dtpsv.Tpo -c dtpsv.c  -fno-common -DPIC -o .libs/dtpsv.o\r\n"
       ]
      },
      {
       "output_type": "stream",
       "stream": "stdout",
       "text": [
        "libtool: compile:  gcc -DHAVE_CONFIG_H -I. -I.. -I.. -g -O2 -MT dtpsv.lo -MD -MP -MF .deps/dtpsv.Tpo -c dtpsv.c -o dtpsv.o >/dev/null 2>&1\r\n"
       ]
      },
      {
       "output_type": "stream",
       "stream": "stdout",
       "text": [
        "mv -f .deps/dtpsv.Tpo .deps/dtpsv.Plo\r\n",
        "/bin/sh ../libtool --tag=CC   --mode=compile gcc -DHAVE_CONFIG_H -I. -I.. -I..    -g -O2 -MT dtrmm.lo -MD -MP -MF .deps/dtrmm.Tpo -c -o dtrmm.lo dtrmm.c\r\n",
        "libtool: compile:  gcc -DHAVE_CONFIG_H -I. -I.. -I.. -g -O2 -MT dtrmm.lo -MD -MP -MF .deps/dtrmm.Tpo -c dtrmm.c  -fno-common -DPIC -o .libs/dtrmm.o\r\n"
       ]
      },
      {
       "output_type": "stream",
       "stream": "stdout",
       "text": [
        "libtool: compile:  gcc -DHAVE_CONFIG_H -I. -I.. -I.. -g -O2 -MT dtrmm.lo -MD -MP -MF .deps/dtrmm.Tpo -c dtrmm.c -o dtrmm.o >/dev/null 2>&1\r\n"
       ]
      },
      {
       "output_type": "stream",
       "stream": "stdout",
       "text": [
        "mv -f .deps/dtrmm.Tpo .deps/dtrmm.Plo\r\n",
        "/bin/sh ../libtool --tag=CC   --mode=compile gcc -DHAVE_CONFIG_H -I. -I.. -I..    -g -O2 -MT dtrmv.lo -MD -MP -MF .deps/dtrmv.Tpo -c -o dtrmv.lo dtrmv.c\r\n"
       ]
      },
      {
       "output_type": "stream",
       "stream": "stdout",
       "text": [
        "libtool: compile:  gcc -DHAVE_CONFIG_H -I. -I.. -I.. -g -O2 -MT dtrmv.lo -MD -MP -MF .deps/dtrmv.Tpo -c dtrmv.c  -fno-common -DPIC -o .libs/dtrmv.o\r\n"
       ]
      },
      {
       "output_type": "stream",
       "stream": "stdout",
       "text": [
        "libtool: compile:  gcc -DHAVE_CONFIG_H -I. -I.. -I.. -g -O2 -MT dtrmv.lo -MD -MP -MF .deps/dtrmv.Tpo -c dtrmv.c -o dtrmv.o >/dev/null 2>&1\r\n"
       ]
      },
      {
       "output_type": "stream",
       "stream": "stdout",
       "text": [
        "mv -f .deps/dtrmv.Tpo .deps/dtrmv.Plo\r\n",
        "/bin/sh ../libtool --tag=CC   --mode=compile gcc -DHAVE_CONFIG_H -I. -I.. -I..    -g -O2 -MT dtrsm.lo -MD -MP -MF .deps/dtrsm.Tpo -c -o dtrsm.lo dtrsm.c\r\n"
       ]
      },
      {
       "output_type": "stream",
       "stream": "stdout",
       "text": [
        "libtool: compile:  gcc -DHAVE_CONFIG_H -I. -I.. -I.. -g -O2 -MT dtrsm.lo -MD -MP -MF .deps/dtrsm.Tpo -c dtrsm.c  -fno-common -DPIC -o .libs/dtrsm.o\r\n"
       ]
      },
      {
       "output_type": "stream",
       "stream": "stdout",
       "text": [
        "libtool: compile:  gcc -DHAVE_CONFIG_H -I. -I.. -I.. -g -O2 -MT dtrsm.lo -MD -MP -MF .deps/dtrsm.Tpo -c dtrsm.c -o dtrsm.o >/dev/null 2>&1\r\n"
       ]
      },
      {
       "output_type": "stream",
       "stream": "stdout",
       "text": [
        "mv -f .deps/dtrsm.Tpo .deps/dtrsm.Plo\r\n",
        "/bin/sh ../libtool --tag=CC   --mode=compile gcc -DHAVE_CONFIG_H -I. -I.. -I..    -g -O2 -MT dtrsv.lo -MD -MP -MF .deps/dtrsv.Tpo -c -o dtrsv.lo dtrsv.c\r\n",
        "libtool: compile:  gcc -DHAVE_CONFIG_H -I. -I.. -I.. -g -O2 -MT dtrsv.lo -MD -MP -MF .deps/dtrsv.Tpo -c dtrsv.c  -fno-common -DPIC -o .libs/dtrsv.o\r\n"
       ]
      },
      {
       "output_type": "stream",
       "stream": "stdout",
       "text": [
        "libtool: compile:  gcc -DHAVE_CONFIG_H -I. -I.. -I.. -g -O2 -MT dtrsv.lo -MD -MP -MF .deps/dtrsv.Tpo -c dtrsv.c -o dtrsv.o >/dev/null 2>&1\r\n"
       ]
      },
      {
       "output_type": "stream",
       "stream": "stdout",
       "text": [
        "mv -f .deps/dtrsv.Tpo .deps/dtrsv.Plo\r\n",
        "/bin/sh ../libtool --tag=CC   --mode=compile gcc -DHAVE_CONFIG_H -I. -I.. -I..    -g -O2 -MT dzasum.lo -MD -MP -MF .deps/dzasum.Tpo -c -o dzasum.lo dzasum.c\r\n"
       ]
      },
      {
       "output_type": "stream",
       "stream": "stdout",
       "text": [
        "libtool: compile:  gcc -DHAVE_CONFIG_H -I. -I.. -I.. -g -O2 -MT dzasum.lo -MD -MP -MF .deps/dzasum.Tpo -c dzasum.c  -fno-common -DPIC -o .libs/dzasum.o\r\n"
       ]
      },
      {
       "output_type": "stream",
       "stream": "stdout",
       "text": [
        "libtool: compile:  gcc -DHAVE_CONFIG_H -I. -I.. -I.. -g -O2 -MT dzasum.lo -MD -MP -MF .deps/dzasum.Tpo -c dzasum.c -o dzasum.o >/dev/null 2>&1\r\n"
       ]
      },
      {
       "output_type": "stream",
       "stream": "stdout",
       "text": [
        "mv -f .deps/dzasum.Tpo .deps/dzasum.Plo\r\n",
        "/bin/sh ../libtool --tag=CC   --mode=compile gcc -DHAVE_CONFIG_H -I. -I.. -I..    -g -O2 -MT dznrm2.lo -MD -MP -MF .deps/dznrm2.Tpo -c -o dznrm2.lo dznrm2.c\r\n"
       ]
      },
      {
       "output_type": "stream",
       "stream": "stdout",
       "text": [
        "libtool: compile:  gcc -DHAVE_CONFIG_H -I. -I.. -I.. -g -O2 -MT dznrm2.lo -MD -MP -MF .deps/dznrm2.Tpo -c dznrm2.c  -fno-common -DPIC -o .libs/dznrm2.o\r\n"
       ]
      },
      {
       "output_type": "stream",
       "stream": "stdout",
       "text": [
        "libtool: compile:  gcc -DHAVE_CONFIG_H -I. -I.. -I.. -g -O2 -MT dznrm2.lo -MD -MP -MF .deps/dznrm2.Tpo -c dznrm2.c -o dznrm2.o >/dev/null 2>&1\r\n"
       ]
      },
      {
       "output_type": "stream",
       "stream": "stdout",
       "text": [
        "mv -f .deps/dznrm2.Tpo .deps/dznrm2.Plo\r\n",
        "/bin/sh ../libtool --tag=CC   --mode=compile gcc -DHAVE_CONFIG_H -I. -I.. -I..    -g -O2 -MT caxpy.lo -MD -MP -MF .deps/caxpy.Tpo -c -o caxpy.lo caxpy.c\r\n"
       ]
      },
      {
       "output_type": "stream",
       "stream": "stdout",
       "text": [
        "libtool: compile:  gcc -DHAVE_CONFIG_H -I. -I.. -I.. -g -O2 -MT caxpy.lo -MD -MP -MF .deps/caxpy.Tpo -c caxpy.c  -fno-common -DPIC -o .libs/caxpy.o\r\n"
       ]
      },
      {
       "output_type": "stream",
       "stream": "stdout",
       "text": [
        "libtool: compile:  gcc -DHAVE_CONFIG_H -I. -I.. -I.. -g -O2 -MT caxpy.lo -MD -MP -MF .deps/caxpy.Tpo -c caxpy.c -o caxpy.o >/dev/null 2>&1\r\n"
       ]
      },
      {
       "output_type": "stream",
       "stream": "stdout",
       "text": [
        "mv -f .deps/caxpy.Tpo .deps/caxpy.Plo\r\n",
        "/bin/sh ../libtool --tag=CC   --mode=compile gcc -DHAVE_CONFIG_H -I. -I.. -I..    -g -O2 -MT ccopy.lo -MD -MP -MF .deps/ccopy.Tpo -c -o ccopy.lo ccopy.c\r\n"
       ]
      },
      {
       "output_type": "stream",
       "stream": "stdout",
       "text": [
        "libtool: compile:  gcc -DHAVE_CONFIG_H -I. -I.. -I.. -g -O2 -MT ccopy.lo -MD -MP -MF .deps/ccopy.Tpo -c ccopy.c  -fno-common -DPIC -o .libs/ccopy.o\r\n"
       ]
      },
      {
       "output_type": "stream",
       "stream": "stdout",
       "text": [
        "libtool: compile:  gcc -DHAVE_CONFIG_H -I. -I.. -I.. -g -O2 -MT ccopy.lo -MD -MP -MF .deps/ccopy.Tpo -c ccopy.c -o ccopy.o >/dev/null 2>&1\r\n"
       ]
      },
      {
       "output_type": "stream",
       "stream": "stdout",
       "text": [
        "mv -f .deps/ccopy.Tpo .deps/ccopy.Plo\r\n",
        "/bin/sh ../libtool --tag=CC   --mode=compile gcc -DHAVE_CONFIG_H -I. -I.. -I..    -g -O2 -MT cdotc_sub.lo -MD -MP -MF .deps/cdotc_sub.Tpo -c -o cdotc_sub.lo cdotc_sub.c\r\n",
        "libtool: compile:  gcc -DHAVE_CONFIG_H -I. -I.. -I.. -g -O2 -MT cdotc_sub.lo -MD -MP -MF .deps/cdotc_sub.Tpo -c cdotc_sub.c  -fno-common -DPIC -o .libs/cdotc_sub.o\r\n"
       ]
      },
      {
       "output_type": "stream",
       "stream": "stdout",
       "text": [
        "libtool: compile:  gcc -DHAVE_CONFIG_H -I. -I.. -I.. -g -O2 -MT cdotc_sub.lo -MD -MP -MF .deps/cdotc_sub.Tpo -c cdotc_sub.c -o cdotc_sub.o >/dev/null 2>&1\r\n"
       ]
      },
      {
       "output_type": "stream",
       "stream": "stdout",
       "text": [
        "mv -f .deps/cdotc_sub.Tpo .deps/cdotc_sub.Plo\r\n",
        "/bin/sh ../libtool --tag=CC   --mode=compile gcc -DHAVE_CONFIG_H -I. -I.. -I..    -g -O2 -MT cdotu_sub.lo -MD -MP -MF .deps/cdotu_sub.Tpo -c -o cdotu_sub.lo cdotu_sub.c\r\n"
       ]
      },
      {
       "output_type": "stream",
       "stream": "stdout",
       "text": [
        "libtool: compile:  gcc -DHAVE_CONFIG_H -I. -I.. -I.. -g -O2 -MT cdotu_sub.lo -MD -MP -MF .deps/cdotu_sub.Tpo -c cdotu_sub.c  -fno-common -DPIC -o .libs/cdotu_sub.o\r\n"
       ]
      },
      {
       "output_type": "stream",
       "stream": "stdout",
       "text": [
        "libtool: compile:  gcc -DHAVE_CONFIG_H -I. -I.. -I.. -g -O2 -MT cdotu_sub.lo -MD -MP -MF .deps/cdotu_sub.Tpo -c cdotu_sub.c -o cdotu_sub.o >/dev/null 2>&1\r\n"
       ]
      },
      {
       "output_type": "stream",
       "stream": "stdout",
       "text": [
        "mv -f .deps/cdotu_sub.Tpo .deps/cdotu_sub.Plo\r\n",
        "/bin/sh ../libtool --tag=CC   --mode=compile gcc -DHAVE_CONFIG_H -I. -I.. -I..    -g -O2 -MT cgbmv.lo -MD -MP -MF .deps/cgbmv.Tpo -c -o cgbmv.lo cgbmv.c\r\n"
       ]
      },
      {
       "output_type": "stream",
       "stream": "stdout",
       "text": [
        "libtool: compile:  gcc -DHAVE_CONFIG_H -I. -I.. -I.. -g -O2 -MT cgbmv.lo -MD -MP -MF .deps/cgbmv.Tpo -c cgbmv.c  -fno-common -DPIC -o .libs/cgbmv.o\r\n"
       ]
      },
      {
       "output_type": "stream",
       "stream": "stdout",
       "text": [
        "libtool: compile:  gcc -DHAVE_CONFIG_H -I. -I.. -I.. -g -O2 -MT cgbmv.lo -MD -MP -MF .deps/cgbmv.Tpo -c cgbmv.c -o cgbmv.o >/dev/null 2>&1\r\n"
       ]
      },
      {
       "output_type": "stream",
       "stream": "stdout",
       "text": [
        "mv -f .deps/cgbmv.Tpo .deps/cgbmv.Plo\r\n",
        "/bin/sh ../libtool --tag=CC   --mode=compile gcc -DHAVE_CONFIG_H -I. -I.. -I..    -g -O2 -MT cgemm.lo -MD -MP -MF .deps/cgemm.Tpo -c -o cgemm.lo cgemm.c\r\n"
       ]
      },
      {
       "output_type": "stream",
       "stream": "stdout",
       "text": [
        "libtool: compile:  gcc -DHAVE_CONFIG_H -I. -I.. -I.. -g -O2 -MT cgemm.lo -MD -MP -MF .deps/cgemm.Tpo -c cgemm.c  -fno-common -DPIC -o .libs/cgemm.o\r\n"
       ]
      },
      {
       "output_type": "stream",
       "stream": "stdout",
       "text": [
        "libtool: compile:  gcc -DHAVE_CONFIG_H -I. -I.. -I.. -g -O2 -MT cgemm.lo -MD -MP -MF .deps/cgemm.Tpo -c cgemm.c -o cgemm.o >/dev/null 2>&1\r\n"
       ]
      },
      {
       "output_type": "stream",
       "stream": "stdout",
       "text": [
        "mv -f .deps/cgemm.Tpo .deps/cgemm.Plo\r\n",
        "/bin/sh ../libtool --tag=CC   --mode=compile gcc -DHAVE_CONFIG_H -I. -I.. -I..    -g -O2 -MT cgemv.lo -MD -MP -MF .deps/cgemv.Tpo -c -o cgemv.lo cgemv.c\r\n",
        "libtool: compile:  gcc -DHAVE_CONFIG_H -I. -I.. -I.. -g -O2 -MT cgemv.lo -MD -MP -MF .deps/cgemv.Tpo -c cgemv.c  -fno-common -DPIC -o .libs/cgemv.o\r\n"
       ]
      },
      {
       "output_type": "stream",
       "stream": "stdout",
       "text": [
        "libtool: compile:  gcc -DHAVE_CONFIG_H -I. -I.. -I.. -g -O2 -MT cgemv.lo -MD -MP -MF .deps/cgemv.Tpo -c cgemv.c -o cgemv.o >/dev/null 2>&1\r\n"
       ]
      },
      {
       "output_type": "stream",
       "stream": "stdout",
       "text": [
        "mv -f .deps/cgemv.Tpo .deps/cgemv.Plo\r\n",
        "/bin/sh ../libtool --tag=CC   --mode=compile gcc -DHAVE_CONFIG_H -I. -I.. -I..    -g -O2 -MT cgerc.lo -MD -MP -MF .deps/cgerc.Tpo -c -o cgerc.lo cgerc.c\r\n"
       ]
      },
      {
       "output_type": "stream",
       "stream": "stdout",
       "text": [
        "libtool: compile:  gcc -DHAVE_CONFIG_H -I. -I.. -I.. -g -O2 -MT cgerc.lo -MD -MP -MF .deps/cgerc.Tpo -c cgerc.c  -fno-common -DPIC -o .libs/cgerc.o\r\n"
       ]
      },
      {
       "output_type": "stream",
       "stream": "stdout",
       "text": [
        "libtool: compile:  gcc -DHAVE_CONFIG_H -I. -I.. -I.. -g -O2 -MT cgerc.lo -MD -MP -MF .deps/cgerc.Tpo -c cgerc.c -o cgerc.o >/dev/null 2>&1\r\n"
       ]
      },
      {
       "output_type": "stream",
       "stream": "stdout",
       "text": [
        "mv -f .deps/cgerc.Tpo .deps/cgerc.Plo\r\n",
        "/bin/sh ../libtool --tag=CC   --mode=compile gcc -DHAVE_CONFIG_H -I. -I.. -I..    -g -O2 -MT cgeru.lo -MD -MP -MF .deps/cgeru.Tpo -c -o cgeru.lo cgeru.c\r\n"
       ]
      },
      {
       "output_type": "stream",
       "stream": "stdout",
       "text": [
        "libtool: compile:  gcc -DHAVE_CONFIG_H -I. -I.. -I.. -g -O2 -MT cgeru.lo -MD -MP -MF .deps/cgeru.Tpo -c cgeru.c  -fno-common -DPIC -o .libs/cgeru.o\r\n"
       ]
      },
      {
       "output_type": "stream",
       "stream": "stdout",
       "text": [
        "libtool: compile:  gcc -DHAVE_CONFIG_H -I. -I.. -I.. -g -O2 -MT cgeru.lo -MD -MP -MF .deps/cgeru.Tpo -c cgeru.c -o cgeru.o >/dev/null 2>&1\r\n"
       ]
      },
      {
       "output_type": "stream",
       "stream": "stdout",
       "text": [
        "mv -f .deps/cgeru.Tpo .deps/cgeru.Plo\r\n",
        "/bin/sh ../libtool --tag=CC   --mode=compile gcc -DHAVE_CONFIG_H -I. -I.. -I..    -g -O2 -MT chbmv.lo -MD -MP -MF .deps/chbmv.Tpo -c -o chbmv.lo chbmv.c\r\n",
        "libtool: compile:  gcc -DHAVE_CONFIG_H -I. -I.. -I.. -g -O2 -MT chbmv.lo -MD -MP -MF .deps/chbmv.Tpo -c chbmv.c  -fno-common -DPIC -o .libs/chbmv.o\r\n"
       ]
      },
      {
       "output_type": "stream",
       "stream": "stdout",
       "text": [
        "libtool: compile:  gcc -DHAVE_CONFIG_H -I. -I.. -I.. -g -O2 -MT chbmv.lo -MD -MP -MF .deps/chbmv.Tpo -c chbmv.c -o chbmv.o >/dev/null 2>&1\r\n"
       ]
      },
      {
       "output_type": "stream",
       "stream": "stdout",
       "text": [
        "mv -f .deps/chbmv.Tpo .deps/chbmv.Plo\r\n",
        "/bin/sh ../libtool --tag=CC   --mode=compile gcc -DHAVE_CONFIG_H -I. -I.. -I..    -g -O2 -MT chemm.lo -MD -MP -MF .deps/chemm.Tpo -c -o chemm.lo chemm.c\r\n"
       ]
      },
      {
       "output_type": "stream",
       "stream": "stdout",
       "text": [
        "libtool: compile:  gcc -DHAVE_CONFIG_H -I. -I.. -I.. -g -O2 -MT chemm.lo -MD -MP -MF .deps/chemm.Tpo -c chemm.c  -fno-common -DPIC -o .libs/chemm.o\r\n"
       ]
      },
      {
       "output_type": "stream",
       "stream": "stdout",
       "text": [
        "libtool: compile:  gcc -DHAVE_CONFIG_H -I. -I.. -I.. -g -O2 -MT chemm.lo -MD -MP -MF .deps/chemm.Tpo -c chemm.c -o chemm.o >/dev/null 2>&1\r\n"
       ]
      },
      {
       "output_type": "stream",
       "stream": "stdout",
       "text": [
        "mv -f .deps/chemm.Tpo .deps/chemm.Plo\r\n",
        "/bin/sh ../libtool --tag=CC   --mode=compile gcc -DHAVE_CONFIG_H -I. -I.. -I..    -g -O2 -MT chemv.lo -MD -MP -MF .deps/chemv.Tpo -c -o chemv.lo chemv.c\r\n"
       ]
      },
      {
       "output_type": "stream",
       "stream": "stdout",
       "text": [
        "libtool: compile:  gcc -DHAVE_CONFIG_H -I. -I.. -I.. -g -O2 -MT chemv.lo -MD -MP -MF .deps/chemv.Tpo -c chemv.c  -fno-common -DPIC -o .libs/chemv.o\r\n"
       ]
      },
      {
       "output_type": "stream",
       "stream": "stdout",
       "text": [
        "libtool: compile:  gcc -DHAVE_CONFIG_H -I. -I.. -I.. -g -O2 -MT chemv.lo -MD -MP -MF .deps/chemv.Tpo -c chemv.c -o chemv.o >/dev/null 2>&1\r\n"
       ]
      },
      {
       "output_type": "stream",
       "stream": "stdout",
       "text": [
        "mv -f .deps/chemv.Tpo .deps/chemv.Plo\r\n",
        "/bin/sh ../libtool --tag=CC   --mode=compile gcc -DHAVE_CONFIG_H -I. -I.. -I..    -g -O2 -MT cher.lo -MD -MP -MF .deps/cher.Tpo -c -o cher.lo cher.c\r\n"
       ]
      },
      {
       "output_type": "stream",
       "stream": "stdout",
       "text": [
        "libtool: compile:  gcc -DHAVE_CONFIG_H -I. -I.. -I.. -g -O2 -MT cher.lo -MD -MP -MF .deps/cher.Tpo -c cher.c  -fno-common -DPIC -o .libs/cher.o\r\n"
       ]
      },
      {
       "output_type": "stream",
       "stream": "stdout",
       "text": [
        "libtool: compile:  gcc -DHAVE_CONFIG_H -I. -I.. -I.. -g -O2 -MT cher.lo -MD -MP -MF .deps/cher.Tpo -c cher.c -o cher.o >/dev/null 2>&1\r\n"
       ]
      },
      {
       "output_type": "stream",
       "stream": "stdout",
       "text": [
        "mv -f .deps/cher.Tpo .deps/cher.Plo\r\n"
       ]
      },
      {
       "output_type": "stream",
       "stream": "stdout",
       "text": [
        "/bin/sh ../libtool --tag=CC   --mode=compile gcc -DHAVE_CONFIG_H -I. -I.. -I..    -g -O2 -MT cher2.lo -MD -MP -MF .deps/cher2.Tpo -c -o cher2.lo cher2.c\r\n",
        "libtool: compile:  gcc -DHAVE_CONFIG_H -I. -I.. -I.. -g -O2 -MT cher2.lo -MD -MP -MF .deps/cher2.Tpo -c cher2.c  -fno-common -DPIC -o .libs/cher2.o\r\n"
       ]
      },
      {
       "output_type": "stream",
       "stream": "stdout",
       "text": [
        "libtool: compile:  gcc -DHAVE_CONFIG_H -I. -I.. -I.. -g -O2 -MT cher2.lo -MD -MP -MF .deps/cher2.Tpo -c cher2.c -o cher2.o >/dev/null 2>&1\r\n"
       ]
      },
      {
       "output_type": "stream",
       "stream": "stdout",
       "text": [
        "mv -f .deps/cher2.Tpo .deps/cher2.Plo\r\n",
        "/bin/sh ../libtool --tag=CC   --mode=compile gcc -DHAVE_CONFIG_H -I. -I.. -I..    -g -O2 -MT cher2k.lo -MD -MP -MF .deps/cher2k.Tpo -c -o cher2k.lo cher2k.c\r\n",
        "libtool: compile:  gcc -DHAVE_CONFIG_H -I. -I.. -I.. -g -O2 -MT cher2k.lo -MD -MP -MF .deps/cher2k.Tpo -c cher2k.c  -fno-common -DPIC -o .libs/cher2k.o\r\n"
       ]
      },
      {
       "output_type": "stream",
       "stream": "stdout",
       "text": [
        "libtool: compile:  gcc -DHAVE_CONFIG_H -I. -I.. -I.. -g -O2 -MT cher2k.lo -MD -MP -MF .deps/cher2k.Tpo -c cher2k.c -o cher2k.o >/dev/null 2>&1\r\n"
       ]
      },
      {
       "output_type": "stream",
       "stream": "stdout",
       "text": [
        "mv -f .deps/cher2k.Tpo .deps/cher2k.Plo\r\n",
        "/bin/sh ../libtool --tag=CC   --mode=compile gcc -DHAVE_CONFIG_H -I. -I.. -I..    -g -O2 -MT cherk.lo -MD -MP -MF .deps/cherk.Tpo -c -o cherk.lo cherk.c\r\n",
        "libtool: compile:  gcc -DHAVE_CONFIG_H -I. -I.. -I.. -g -O2 -MT cherk.lo -MD -MP -MF .deps/cherk.Tpo -c cherk.c  -fno-common -DPIC -o .libs/cherk.o\r\n"
       ]
      },
      {
       "output_type": "stream",
       "stream": "stdout",
       "text": [
        "libtool: compile:  gcc -DHAVE_CONFIG_H -I. -I.. -I.. -g -O2 -MT cherk.lo -MD -MP -MF .deps/cherk.Tpo -c cherk.c -o cherk.o >/dev/null 2>&1\r\n"
       ]
      },
      {
       "output_type": "stream",
       "stream": "stdout",
       "text": [
        "mv -f .deps/cherk.Tpo .deps/cherk.Plo\r\n",
        "/bin/sh ../libtool --tag=CC   --mode=compile gcc -DHAVE_CONFIG_H -I. -I.. -I..    -g -O2 -MT chpmv.lo -MD -MP -MF .deps/chpmv.Tpo -c -o chpmv.lo chpmv.c\r\n",
        "libtool: compile:  gcc -DHAVE_CONFIG_H -I. -I.. -I.. -g -O2 -MT chpmv.lo -MD -MP -MF .deps/chpmv.Tpo -c chpmv.c  -fno-common -DPIC -o .libs/chpmv.o\r\n"
       ]
      },
      {
       "output_type": "stream",
       "stream": "stdout",
       "text": [
        "libtool: compile:  gcc -DHAVE_CONFIG_H -I. -I.. -I.. -g -O2 -MT chpmv.lo -MD -MP -MF .deps/chpmv.Tpo -c chpmv.c -o chpmv.o >/dev/null 2>&1\r\n"
       ]
      },
      {
       "output_type": "stream",
       "stream": "stdout",
       "text": [
        "mv -f .deps/chpmv.Tpo .deps/chpmv.Plo\r\n",
        "/bin/sh ../libtool --tag=CC   --mode=compile gcc -DHAVE_CONFIG_H -I. -I.. -I..    -g -O2 -MT chpr.lo -MD -MP -MF .deps/chpr.Tpo -c -o chpr.lo chpr.c\r\n",
        "libtool: compile:  gcc -DHAVE_CONFIG_H -I. -I.. -I.. -g -O2 -MT chpr.lo -MD -MP -MF .deps/chpr.Tpo -c chpr.c  -fno-common -DPIC -o .libs/chpr.o\r\n"
       ]
      },
      {
       "output_type": "stream",
       "stream": "stdout",
       "text": [
        "libtool: compile:  gcc -DHAVE_CONFIG_H -I. -I.. -I.. -g -O2 -MT chpr.lo -MD -MP -MF .deps/chpr.Tpo -c chpr.c -o chpr.o >/dev/null 2>&1\r\n"
       ]
      },
      {
       "output_type": "stream",
       "stream": "stdout",
       "text": [
        "mv -f .deps/chpr.Tpo .deps/chpr.Plo\r\n",
        "/bin/sh ../libtool --tag=CC   --mode=compile gcc -DHAVE_CONFIG_H -I. -I.. -I..    -g -O2 -MT chpr2.lo -MD -MP -MF .deps/chpr2.Tpo -c -o chpr2.lo chpr2.c\r\n"
       ]
      },
      {
       "output_type": "stream",
       "stream": "stdout",
       "text": [
        "libtool: compile:  gcc -DHAVE_CONFIG_H -I. -I.. -I.. -g -O2 -MT chpr2.lo -MD -MP -MF .deps/chpr2.Tpo -c chpr2.c  -fno-common -DPIC -o .libs/chpr2.o\r\n"
       ]
      },
      {
       "output_type": "stream",
       "stream": "stdout",
       "text": [
        "libtool: compile:  gcc -DHAVE_CONFIG_H -I. -I.. -I.. -g -O2 -MT chpr2.lo -MD -MP -MF .deps/chpr2.Tpo -c chpr2.c -o chpr2.o >/dev/null 2>&1\r\n"
       ]
      },
      {
       "output_type": "stream",
       "stream": "stdout",
       "text": [
        "mv -f .deps/chpr2.Tpo .deps/chpr2.Plo\r\n",
        "/bin/sh ../libtool --tag=CC   --mode=compile gcc -DHAVE_CONFIG_H -I. -I.. -I..    -g -O2 -MT cscal.lo -MD -MP -MF .deps/cscal.Tpo -c -o cscal.lo cscal.c\r\n"
       ]
      },
      {
       "output_type": "stream",
       "stream": "stdout",
       "text": [
        "libtool: compile:  gcc -DHAVE_CONFIG_H -I. -I.. -I.. -g -O2 -MT cscal.lo -MD -MP -MF .deps/cscal.Tpo -c cscal.c  -fno-common -DPIC -o .libs/cscal.o\r\n",
        "libtool: compile:  gcc -DHAVE_CONFIG_H -I. -I.. -I.. -g -O2 -MT cscal.lo -MD -MP -MF .deps/cscal.Tpo -c cscal.c -o cscal.o >/dev/null 2>&1\r\n"
       ]
      },
      {
       "output_type": "stream",
       "stream": "stdout",
       "text": [
        "mv -f .deps/cscal.Tpo .deps/cscal.Plo\r\n",
        "/bin/sh ../libtool --tag=CC   --mode=compile gcc -DHAVE_CONFIG_H -I. -I.. -I..    -g -O2 -MT csscal.lo -MD -MP -MF .deps/csscal.Tpo -c -o csscal.lo csscal.c\r\n",
        "libtool: compile:  gcc -DHAVE_CONFIG_H -I. -I.. -I.. -g -O2 -MT csscal.lo -MD -MP -MF .deps/csscal.Tpo -c csscal.c  -fno-common -DPIC -o .libs/csscal.o\r\n"
       ]
      },
      {
       "output_type": "stream",
       "stream": "stdout",
       "text": [
        "libtool: compile:  gcc -DHAVE_CONFIG_H -I. -I.. -I.. -g -O2 -MT csscal.lo -MD -MP -MF .deps/csscal.Tpo -c csscal.c -o csscal.o >/dev/null 2>&1\r\n"
       ]
      },
      {
       "output_type": "stream",
       "stream": "stdout",
       "text": [
        "mv -f .deps/csscal.Tpo .deps/csscal.Plo\r\n",
        "/bin/sh ../libtool --tag=CC   --mode=compile gcc -DHAVE_CONFIG_H -I. -I.. -I..    -g -O2 -MT cswap.lo -MD -MP -MF .deps/cswap.Tpo -c -o cswap.lo cswap.c\r\n",
        "libtool: compile:  gcc -DHAVE_CONFIG_H -I. -I.. -I.. -g -O2 -MT cswap.lo -MD -MP -MF .deps/cswap.Tpo -c cswap.c  -fno-common -DPIC -o .libs/cswap.o\r\n"
       ]
      },
      {
       "output_type": "stream",
       "stream": "stdout",
       "text": [
        "libtool: compile:  gcc -DHAVE_CONFIG_H -I. -I.. -I.. -g -O2 -MT cswap.lo -MD -MP -MF .deps/cswap.Tpo -c cswap.c -o cswap.o >/dev/null 2>&1\r\n"
       ]
      },
      {
       "output_type": "stream",
       "stream": "stdout",
       "text": [
        "mv -f .deps/cswap.Tpo .deps/cswap.Plo\r\n",
        "/bin/sh ../libtool --tag=CC   --mode=compile gcc -DHAVE_CONFIG_H -I. -I.. -I..    -g -O2 -MT csymm.lo -MD -MP -MF .deps/csymm.Tpo -c -o csymm.lo csymm.c\r\n",
        "libtool: compile:  gcc -DHAVE_CONFIG_H -I. -I.. -I.. -g -O2 -MT csymm.lo -MD -MP -MF .deps/csymm.Tpo -c csymm.c  -fno-common -DPIC -o .libs/csymm.o\r\n"
       ]
      },
      {
       "output_type": "stream",
       "stream": "stdout",
       "text": [
        "libtool: compile:  gcc -DHAVE_CONFIG_H -I. -I.. -I.. -g -O2 -MT csymm.lo -MD -MP -MF .deps/csymm.Tpo -c csymm.c -o csymm.o >/dev/null 2>&1\r\n"
       ]
      },
      {
       "output_type": "stream",
       "stream": "stdout",
       "text": [
        "mv -f .deps/csymm.Tpo .deps/csymm.Plo\r\n",
        "/bin/sh ../libtool --tag=CC   --mode=compile gcc -DHAVE_CONFIG_H -I. -I.. -I..    -g -O2 -MT csyr2k.lo -MD -MP -MF .deps/csyr2k.Tpo -c -o csyr2k.lo csyr2k.c\r\n"
       ]
      },
      {
       "output_type": "stream",
       "stream": "stdout",
       "text": [
        "libtool: compile:  gcc -DHAVE_CONFIG_H -I. -I.. -I.. -g -O2 -MT csyr2k.lo -MD -MP -MF .deps/csyr2k.Tpo -c csyr2k.c  -fno-common -DPIC -o .libs/csyr2k.o\r\n"
       ]
      },
      {
       "output_type": "stream",
       "stream": "stdout",
       "text": [
        "libtool: compile:  gcc -DHAVE_CONFIG_H -I. -I.. -I.. -g -O2 -MT csyr2k.lo -MD -MP -MF .deps/csyr2k.Tpo -c csyr2k.c -o csyr2k.o >/dev/null 2>&1\r\n"
       ]
      },
      {
       "output_type": "stream",
       "stream": "stdout",
       "text": [
        "mv -f .deps/csyr2k.Tpo .deps/csyr2k.Plo\r\n",
        "/bin/sh ../libtool --tag=CC   --mode=compile gcc -DHAVE_CONFIG_H -I. -I.. -I..    -g -O2 -MT csyrk.lo -MD -MP -MF .deps/csyrk.Tpo -c -o csyrk.lo csyrk.c\r\n"
       ]
      },
      {
       "output_type": "stream",
       "stream": "stdout",
       "text": [
        "libtool: compile:  gcc -DHAVE_CONFIG_H -I. -I.. -I.. -g -O2 -MT csyrk.lo -MD -MP -MF .deps/csyrk.Tpo -c csyrk.c  -fno-common -DPIC -o .libs/csyrk.o\r\n"
       ]
      },
      {
       "output_type": "stream",
       "stream": "stdout",
       "text": [
        "libtool: compile:  gcc -DHAVE_CONFIG_H -I. -I.. -I.. -g -O2 -MT csyrk.lo -MD -MP -MF .deps/csyrk.Tpo -c csyrk.c -o csyrk.o >/dev/null 2>&1\r\n"
       ]
      },
      {
       "output_type": "stream",
       "stream": "stdout",
       "text": [
        "mv -f .deps/csyrk.Tpo .deps/csyrk.Plo\r\n",
        "/bin/sh ../libtool --tag=CC   --mode=compile gcc -DHAVE_CONFIG_H -I. -I.. -I..    -g -O2 -MT ctbmv.lo -MD -MP -MF .deps/ctbmv.Tpo -c -o ctbmv.lo ctbmv.c\r\n",
        "libtool: compile:  gcc -DHAVE_CONFIG_H -I. -I.. -I.. -g -O2 -MT ctbmv.lo -MD -MP -MF .deps/ctbmv.Tpo -c ctbmv.c  -fno-common -DPIC -o .libs/ctbmv.o\r\n"
       ]
      },
      {
       "output_type": "stream",
       "stream": "stdout",
       "text": [
        "libtool: compile:  gcc -DHAVE_CONFIG_H -I. -I.. -I.. -g -O2 -MT ctbmv.lo -MD -MP -MF .deps/ctbmv.Tpo -c ctbmv.c -o ctbmv.o >/dev/null 2>&1\r\n"
       ]
      },
      {
       "output_type": "stream",
       "stream": "stdout",
       "text": [
        "mv -f .deps/ctbmv.Tpo .deps/ctbmv.Plo\r\n",
        "/bin/sh ../libtool --tag=CC   --mode=compile gcc -DHAVE_CONFIG_H -I. -I.. -I..    -g -O2 -MT ctbsv.lo -MD -MP -MF .deps/ctbsv.Tpo -c -o ctbsv.lo ctbsv.c\r\n",
        "libtool: compile:  gcc -DHAVE_CONFIG_H -I. -I.. -I.. -g -O2 -MT ctbsv.lo -MD -MP -MF .deps/ctbsv.Tpo -c ctbsv.c  -fno-common -DPIC -o .libs/ctbsv.o\r\n"
       ]
      },
      {
       "output_type": "stream",
       "stream": "stdout",
       "text": [
        "libtool: compile:  gcc -DHAVE_CONFIG_H -I. -I.. -I.. -g -O2 -MT ctbsv.lo -MD -MP -MF .deps/ctbsv.Tpo -c ctbsv.c -o ctbsv.o >/dev/null 2>&1\r\n"
       ]
      },
      {
       "output_type": "stream",
       "stream": "stdout",
       "text": [
        "mv -f .deps/ctbsv.Tpo .deps/ctbsv.Plo\r\n",
        "/bin/sh ../libtool --tag=CC   --mode=compile gcc -DHAVE_CONFIG_H -I. -I.. -I..    -g -O2 -MT ctpmv.lo -MD -MP -MF .deps/ctpmv.Tpo -c -o ctpmv.lo ctpmv.c\r\n",
        "libtool: compile:  gcc -DHAVE_CONFIG_H -I. -I.. -I.. -g -O2 -MT ctpmv.lo -MD -MP -MF .deps/ctpmv.Tpo -c ctpmv.c  -fno-common -DPIC -o .libs/ctpmv.o\r\n"
       ]
      },
      {
       "output_type": "stream",
       "stream": "stdout",
       "text": [
        "libtool: compile:  gcc -DHAVE_CONFIG_H -I. -I.. -I.. -g -O2 -MT ctpmv.lo -MD -MP -MF .deps/ctpmv.Tpo -c ctpmv.c -o ctpmv.o >/dev/null 2>&1\r\n"
       ]
      },
      {
       "output_type": "stream",
       "stream": "stdout",
       "text": [
        "mv -f .deps/ctpmv.Tpo .deps/ctpmv.Plo\r\n",
        "/bin/sh ../libtool --tag=CC   --mode=compile gcc -DHAVE_CONFIG_H -I. -I.. -I..    -g -O2 -MT ctpsv.lo -MD -MP -MF .deps/ctpsv.Tpo -c -o ctpsv.lo ctpsv.c\r\n"
       ]
      },
      {
       "output_type": "stream",
       "stream": "stdout",
       "text": [
        "libtool: compile:  gcc -DHAVE_CONFIG_H -I. -I.. -I.. -g -O2 -MT ctpsv.lo -MD -MP -MF .deps/ctpsv.Tpo -c ctpsv.c  -fno-common -DPIC -o .libs/ctpsv.o\r\n"
       ]
      },
      {
       "output_type": "stream",
       "stream": "stdout",
       "text": [
        "libtool: compile:  gcc -DHAVE_CONFIG_H -I. -I.. -I.. -g -O2 -MT ctpsv.lo -MD -MP -MF .deps/ctpsv.Tpo -c ctpsv.c -o ctpsv.o >/dev/null 2>&1\r\n"
       ]
      },
      {
       "output_type": "stream",
       "stream": "stdout",
       "text": [
        "mv -f .deps/ctpsv.Tpo .deps/ctpsv.Plo\r\n",
        "/bin/sh ../libtool --tag=CC   --mode=compile gcc -DHAVE_CONFIG_H -I. -I.. -I..    -g -O2 -MT ctrmm.lo -MD -MP -MF .deps/ctrmm.Tpo -c -o ctrmm.lo ctrmm.c\r\n",
        "libtool: compile:  gcc -DHAVE_CONFIG_H -I. -I.. -I.. -g -O2 -MT ctrmm.lo -MD -MP -MF .deps/ctrmm.Tpo -c ctrmm.c  -fno-common -DPIC -o .libs/ctrmm.o\r\n"
       ]
      },
      {
       "output_type": "stream",
       "stream": "stdout",
       "text": [
        "libtool: compile:  gcc -DHAVE_CONFIG_H -I. -I.. -I.. -g -O2 -MT ctrmm.lo -MD -MP -MF .deps/ctrmm.Tpo -c ctrmm.c -o ctrmm.o >/dev/null 2>&1\r\n"
       ]
      },
      {
       "output_type": "stream",
       "stream": "stdout",
       "text": [
        "mv -f .deps/ctrmm.Tpo .deps/ctrmm.Plo\r\n",
        "/bin/sh ../libtool --tag=CC   --mode=compile gcc -DHAVE_CONFIG_H -I. -I.. -I..    -g -O2 -MT ctrmv.lo -MD -MP -MF .deps/ctrmv.Tpo -c -o ctrmv.lo ctrmv.c\r\n"
       ]
      },
      {
       "output_type": "stream",
       "stream": "stdout",
       "text": [
        "libtool: compile:  gcc -DHAVE_CONFIG_H -I. -I.. -I.. -g -O2 -MT ctrmv.lo -MD -MP -MF .deps/ctrmv.Tpo -c ctrmv.c  -fno-common -DPIC -o .libs/ctrmv.o\r\n"
       ]
      },
      {
       "output_type": "stream",
       "stream": "stdout",
       "text": [
        "libtool: compile:  gcc -DHAVE_CONFIG_H -I. -I.. -I.. -g -O2 -MT ctrmv.lo -MD -MP -MF .deps/ctrmv.Tpo -c ctrmv.c -o ctrmv.o >/dev/null 2>&1\r\n"
       ]
      },
      {
       "output_type": "stream",
       "stream": "stdout",
       "text": [
        "mv -f .deps/ctrmv.Tpo .deps/ctrmv.Plo\r\n",
        "/bin/sh ../libtool --tag=CC   --mode=compile gcc -DHAVE_CONFIG_H -I. -I.. -I..    -g -O2 -MT ctrsm.lo -MD -MP -MF .deps/ctrsm.Tpo -c -o ctrsm.lo ctrsm.c\r\n"
       ]
      },
      {
       "output_type": "stream",
       "stream": "stdout",
       "text": [
        "libtool: compile:  gcc -DHAVE_CONFIG_H -I. -I.. -I.. -g -O2 -MT ctrsm.lo -MD -MP -MF .deps/ctrsm.Tpo -c ctrsm.c  -fno-common -DPIC -o .libs/ctrsm.o\r\n"
       ]
      },
      {
       "output_type": "stream",
       "stream": "stdout",
       "text": [
        "libtool: compile:  gcc -DHAVE_CONFIG_H -I. -I.. -I.. -g -O2 -MT ctrsm.lo -MD -MP -MF .deps/ctrsm.Tpo -c ctrsm.c -o ctrsm.o >/dev/null 2>&1\r\n"
       ]
      },
      {
       "output_type": "stream",
       "stream": "stdout",
       "text": [
        "mv -f .deps/ctrsm.Tpo .deps/ctrsm.Plo\r\n",
        "/bin/sh ../libtool --tag=CC   --mode=compile gcc -DHAVE_CONFIG_H -I. -I.. -I..    -g -O2 -MT ctrsv.lo -MD -MP -MF .deps/ctrsv.Tpo -c -o ctrsv.lo ctrsv.c\r\n"
       ]
      },
      {
       "output_type": "stream",
       "stream": "stdout",
       "text": [
        "libtool: compile:  gcc -DHAVE_CONFIG_H -I. -I.. -I.. -g -O2 -MT ctrsv.lo -MD -MP -MF .deps/ctrsv.Tpo -c ctrsv.c  -fno-common -DPIC -o .libs/ctrsv.o\r\n"
       ]
      },
      {
       "output_type": "stream",
       "stream": "stdout",
       "text": [
        "libtool: compile:  gcc -DHAVE_CONFIG_H -I. -I.. -I.. -g -O2 -MT ctrsv.lo -MD -MP -MF .deps/ctrsv.Tpo -c ctrsv.c -o ctrsv.o >/dev/null 2>&1\r\n"
       ]
      },
      {
       "output_type": "stream",
       "stream": "stdout",
       "text": [
        "mv -f .deps/ctrsv.Tpo .deps/ctrsv.Plo\r\n",
        "/bin/sh ../libtool --tag=CC   --mode=compile gcc -DHAVE_CONFIG_H -I. -I.. -I..    -g -O2 -MT zaxpy.lo -MD -MP -MF .deps/zaxpy.Tpo -c -o zaxpy.lo zaxpy.c\r\n"
       ]
      },
      {
       "output_type": "stream",
       "stream": "stdout",
       "text": [
        "libtool: compile:  gcc -DHAVE_CONFIG_H -I. -I.. -I.. -g -O2 -MT zaxpy.lo -MD -MP -MF .deps/zaxpy.Tpo -c zaxpy.c  -fno-common -DPIC -o .libs/zaxpy.o\r\n"
       ]
      },
      {
       "output_type": "stream",
       "stream": "stdout",
       "text": [
        "libtool: compile:  gcc -DHAVE_CONFIG_H -I. -I.. -I.. -g -O2 -MT zaxpy.lo -MD -MP -MF .deps/zaxpy.Tpo -c zaxpy.c -o zaxpy.o >/dev/null 2>&1\r\n"
       ]
      },
      {
       "output_type": "stream",
       "stream": "stdout",
       "text": [
        "mv -f .deps/zaxpy.Tpo .deps/zaxpy.Plo\r\n",
        "/bin/sh ../libtool --tag=CC   --mode=compile gcc -DHAVE_CONFIG_H -I. -I.. -I..    -g -O2 -MT zcopy.lo -MD -MP -MF .deps/zcopy.Tpo -c -o zcopy.lo zcopy.c\r\n",
        "libtool: compile:  gcc -DHAVE_CONFIG_H -I. -I.. -I.. -g -O2 -MT zcopy.lo -MD -MP -MF .deps/zcopy.Tpo -c zcopy.c  -fno-common -DPIC -o .libs/zcopy.o\r\n"
       ]
      },
      {
       "output_type": "stream",
       "stream": "stdout",
       "text": [
        "libtool: compile:  gcc -DHAVE_CONFIG_H -I. -I.. -I.. -g -O2 -MT zcopy.lo -MD -MP -MF .deps/zcopy.Tpo -c zcopy.c -o zcopy.o >/dev/null 2>&1\r\n"
       ]
      },
      {
       "output_type": "stream",
       "stream": "stdout",
       "text": [
        "mv -f .deps/zcopy.Tpo .deps/zcopy.Plo\r\n",
        "/bin/sh ../libtool --tag=CC   --mode=compile gcc -DHAVE_CONFIG_H -I. -I.. -I..    -g -O2 -MT zdotc_sub.lo -MD -MP -MF .deps/zdotc_sub.Tpo -c -o zdotc_sub.lo zdotc_sub.c\r\n"
       ]
      },
      {
       "output_type": "stream",
       "stream": "stdout",
       "text": [
        "libtool: compile:  gcc -DHAVE_CONFIG_H -I. -I.. -I.. -g -O2 -MT zdotc_sub.lo -MD -MP -MF .deps/zdotc_sub.Tpo -c zdotc_sub.c  -fno-common -DPIC -o .libs/zdotc_sub.o\r\n"
       ]
      },
      {
       "output_type": "stream",
       "stream": "stdout",
       "text": [
        "libtool: compile:  gcc -DHAVE_CONFIG_H -I. -I.. -I.. -g -O2 -MT zdotc_sub.lo -MD -MP -MF .deps/zdotc_sub.Tpo -c zdotc_sub.c -o zdotc_sub.o >/dev/null 2>&1\r\n"
       ]
      },
      {
       "output_type": "stream",
       "stream": "stdout",
       "text": [
        "mv -f .deps/zdotc_sub.Tpo .deps/zdotc_sub.Plo\r\n",
        "/bin/sh ../libtool --tag=CC   --mode=compile gcc -DHAVE_CONFIG_H -I. -I.. -I..    -g -O2 -MT zdotu_sub.lo -MD -MP -MF .deps/zdotu_sub.Tpo -c -o zdotu_sub.lo zdotu_sub.c\r\n"
       ]
      },
      {
       "output_type": "stream",
       "stream": "stdout",
       "text": [
        "libtool: compile:  gcc -DHAVE_CONFIG_H -I. -I.. -I.. -g -O2 -MT zdotu_sub.lo -MD -MP -MF .deps/zdotu_sub.Tpo -c zdotu_sub.c  -fno-common -DPIC -o .libs/zdotu_sub.o\r\n"
       ]
      },
      {
       "output_type": "stream",
       "stream": "stdout",
       "text": [
        "libtool: compile:  gcc -DHAVE_CONFIG_H -I. -I.. -I.. -g -O2 -MT zdotu_sub.lo -MD -MP -MF .deps/zdotu_sub.Tpo -c zdotu_sub.c -o zdotu_sub.o >/dev/null 2>&1\r\n"
       ]
      },
      {
       "output_type": "stream",
       "stream": "stdout",
       "text": [
        "mv -f .deps/zdotu_sub.Tpo .deps/zdotu_sub.Plo\r\n",
        "/bin/sh ../libtool --tag=CC   --mode=compile gcc -DHAVE_CONFIG_H -I. -I.. -I..    -g -O2 -MT zdscal.lo -MD -MP -MF .deps/zdscal.Tpo -c -o zdscal.lo zdscal.c\r\n",
        "libtool: compile:  gcc -DHAVE_CONFIG_H -I. -I.. -I.. -g -O2 -MT zdscal.lo -MD -MP -MF .deps/zdscal.Tpo -c zdscal.c  -fno-common -DPIC -o .libs/zdscal.o\r\n"
       ]
      },
      {
       "output_type": "stream",
       "stream": "stdout",
       "text": [
        "libtool: compile:  gcc -DHAVE_CONFIG_H -I. -I.. -I.. -g -O2 -MT zdscal.lo -MD -MP -MF .deps/zdscal.Tpo -c zdscal.c -o zdscal.o >/dev/null 2>&1\r\n"
       ]
      },
      {
       "output_type": "stream",
       "stream": "stdout",
       "text": [
        "mv -f .deps/zdscal.Tpo .deps/zdscal.Plo\r\n",
        "/bin/sh ../libtool --tag=CC   --mode=compile gcc -DHAVE_CONFIG_H -I. -I.. -I..    -g -O2 -MT zgbmv.lo -MD -MP -MF .deps/zgbmv.Tpo -c -o zgbmv.lo zgbmv.c\r\n",
        "libtool: compile:  gcc -DHAVE_CONFIG_H -I. -I.. -I.. -g -O2 -MT zgbmv.lo -MD -MP -MF .deps/zgbmv.Tpo -c zgbmv.c  -fno-common -DPIC -o .libs/zgbmv.o\r\n"
       ]
      },
      {
       "output_type": "stream",
       "stream": "stdout",
       "text": [
        "libtool: compile:  gcc -DHAVE_CONFIG_H -I. -I.. -I.. -g -O2 -MT zgbmv.lo -MD -MP -MF .deps/zgbmv.Tpo -c zgbmv.c -o zgbmv.o >/dev/null 2>&1\r\n"
       ]
      },
      {
       "output_type": "stream",
       "stream": "stdout",
       "text": [
        "mv -f .deps/zgbmv.Tpo .deps/zgbmv.Plo\r\n",
        "/bin/sh ../libtool --tag=CC   --mode=compile gcc -DHAVE_CONFIG_H -I. -I.. -I..    -g -O2 -MT zgemm.lo -MD -MP -MF .deps/zgemm.Tpo -c -o zgemm.lo zgemm.c\r\n",
        "libtool: compile:  gcc -DHAVE_CONFIG_H -I. -I.. -I.. -g -O2 -MT zgemm.lo -MD -MP -MF .deps/zgemm.Tpo -c zgemm.c  -fno-common -DPIC -o .libs/zgemm.o\r\n"
       ]
      },
      {
       "output_type": "stream",
       "stream": "stdout",
       "text": [
        "libtool: compile:  gcc -DHAVE_CONFIG_H -I. -I.. -I.. -g -O2 -MT zgemm.lo -MD -MP -MF .deps/zgemm.Tpo -c zgemm.c -o zgemm.o >/dev/null 2>&1\r\n"
       ]
      },
      {
       "output_type": "stream",
       "stream": "stdout",
       "text": [
        "mv -f .deps/zgemm.Tpo .deps/zgemm.Plo\r\n",
        "/bin/sh ../libtool --tag=CC   --mode=compile gcc -DHAVE_CONFIG_H -I. -I.. -I..    -g -O2 -MT zgemv.lo -MD -MP -MF .deps/zgemv.Tpo -c -o zgemv.lo zgemv.c\r\n"
       ]
      },
      {
       "output_type": "stream",
       "stream": "stdout",
       "text": [
        "libtool: compile:  gcc -DHAVE_CONFIG_H -I. -I.. -I.. -g -O2 -MT zgemv.lo -MD -MP -MF .deps/zgemv.Tpo -c zgemv.c  -fno-common -DPIC -o .libs/zgemv.o\r\n"
       ]
      },
      {
       "output_type": "stream",
       "stream": "stdout",
       "text": [
        "libtool: compile:  gcc -DHAVE_CONFIG_H -I. -I.. -I.. -g -O2 -MT zgemv.lo -MD -MP -MF .deps/zgemv.Tpo -c zgemv.c -o zgemv.o >/dev/null 2>&1\r\n"
       ]
      },
      {
       "output_type": "stream",
       "stream": "stdout",
       "text": [
        "mv -f .deps/zgemv.Tpo .deps/zgemv.Plo\r\n",
        "/bin/sh ../libtool --tag=CC   --mode=compile gcc -DHAVE_CONFIG_H -I. -I.. -I..    -g -O2 -MT zgerc.lo -MD -MP -MF .deps/zgerc.Tpo -c -o zgerc.lo zgerc.c\r\n",
        "libtool: compile:  gcc -DHAVE_CONFIG_H -I. -I.. -I.. -g -O2 -MT zgerc.lo -MD -MP -MF .deps/zgerc.Tpo -c zgerc.c  -fno-common -DPIC -o .libs/zgerc.o\r\n"
       ]
      },
      {
       "output_type": "stream",
       "stream": "stdout",
       "text": [
        "libtool: compile:  gcc -DHAVE_CONFIG_H -I. -I.. -I.. -g -O2 -MT zgerc.lo -MD -MP -MF .deps/zgerc.Tpo -c zgerc.c -o zgerc.o >/dev/null 2>&1\r\n"
       ]
      },
      {
       "output_type": "stream",
       "stream": "stdout",
       "text": [
        "mv -f .deps/zgerc.Tpo .deps/zgerc.Plo\r\n"
       ]
      },
      {
       "output_type": "stream",
       "stream": "stdout",
       "text": [
        "/bin/sh ../libtool --tag=CC   --mode=compile gcc -DHAVE_CONFIG_H -I. -I.. -I..    -g -O2 -MT zgeru.lo -MD -MP -MF .deps/zgeru.Tpo -c -o zgeru.lo zgeru.c\r\n",
        "libtool: compile:  gcc -DHAVE_CONFIG_H -I. -I.. -I.. -g -O2 -MT zgeru.lo -MD -MP -MF .deps/zgeru.Tpo -c zgeru.c  -fno-common -DPIC -o .libs/zgeru.o\r\n"
       ]
      },
      {
       "output_type": "stream",
       "stream": "stdout",
       "text": [
        "libtool: compile:  gcc -DHAVE_CONFIG_H -I. -I.. -I.. -g -O2 -MT zgeru.lo -MD -MP -MF .deps/zgeru.Tpo -c zgeru.c -o zgeru.o >/dev/null 2>&1\r\n"
       ]
      },
      {
       "output_type": "stream",
       "stream": "stdout",
       "text": [
        "mv -f .deps/zgeru.Tpo .deps/zgeru.Plo\r\n",
        "/bin/sh ../libtool --tag=CC   --mode=compile gcc -DHAVE_CONFIG_H -I. -I.. -I..    -g -O2 -MT zhbmv.lo -MD -MP -MF .deps/zhbmv.Tpo -c -o zhbmv.lo zhbmv.c\r\n",
        "libtool: compile:  gcc -DHAVE_CONFIG_H -I. -I.. -I.. -g -O2 -MT zhbmv.lo -MD -MP -MF .deps/zhbmv.Tpo -c zhbmv.c  -fno-common -DPIC -o .libs/zhbmv.o\r\n"
       ]
      },
      {
       "output_type": "stream",
       "stream": "stdout",
       "text": [
        "libtool: compile:  gcc -DHAVE_CONFIG_H -I. -I.. -I.. -g -O2 -MT zhbmv.lo -MD -MP -MF .deps/zhbmv.Tpo -c zhbmv.c -o zhbmv.o >/dev/null 2>&1\r\n"
       ]
      },
      {
       "output_type": "stream",
       "stream": "stdout",
       "text": [
        "mv -f .deps/zhbmv.Tpo .deps/zhbmv.Plo\r\n",
        "/bin/sh ../libtool --tag=CC   --mode=compile gcc -DHAVE_CONFIG_H -I. -I.. -I..    -g -O2 -MT zhemm.lo -MD -MP -MF .deps/zhemm.Tpo -c -o zhemm.lo zhemm.c\r\n",
        "libtool: compile:  gcc -DHAVE_CONFIG_H -I. -I.. -I.. -g -O2 -MT zhemm.lo -MD -MP -MF .deps/zhemm.Tpo -c zhemm.c  -fno-common -DPIC -o .libs/zhemm.o\r\n"
       ]
      },
      {
       "output_type": "stream",
       "stream": "stdout",
       "text": [
        "libtool: compile:  gcc -DHAVE_CONFIG_H -I. -I.. -I.. -g -O2 -MT zhemm.lo -MD -MP -MF .deps/zhemm.Tpo -c zhemm.c -o zhemm.o >/dev/null 2>&1\r\n"
       ]
      },
      {
       "output_type": "stream",
       "stream": "stdout",
       "text": [
        "mv -f .deps/zhemm.Tpo .deps/zhemm.Plo\r\n",
        "/bin/sh ../libtool --tag=CC   --mode=compile gcc -DHAVE_CONFIG_H -I. -I.. -I..    -g -O2 -MT zhemv.lo -MD -MP -MF .deps/zhemv.Tpo -c -o zhemv.lo zhemv.c\r\n"
       ]
      },
      {
       "output_type": "stream",
       "stream": "stdout",
       "text": [
        "libtool: compile:  gcc -DHAVE_CONFIG_H -I. -I.. -I.. -g -O2 -MT zhemv.lo -MD -MP -MF .deps/zhemv.Tpo -c zhemv.c  -fno-common -DPIC -o .libs/zhemv.o\r\n"
       ]
      },
      {
       "output_type": "stream",
       "stream": "stdout",
       "text": [
        "libtool: compile:  gcc -DHAVE_CONFIG_H -I. -I.. -I.. -g -O2 -MT zhemv.lo -MD -MP -MF .deps/zhemv.Tpo -c zhemv.c -o zhemv.o >/dev/null 2>&1\r\n"
       ]
      },
      {
       "output_type": "stream",
       "stream": "stdout",
       "text": [
        "mv -f .deps/zhemv.Tpo .deps/zhemv.Plo\r\n",
        "/bin/sh ../libtool --tag=CC   --mode=compile gcc -DHAVE_CONFIG_H -I. -I.. -I..    -g -O2 -MT zher.lo -MD -MP -MF .deps/zher.Tpo -c -o zher.lo zher.c\r\n"
       ]
      },
      {
       "output_type": "stream",
       "stream": "stdout",
       "text": [
        "libtool: compile:  gcc -DHAVE_CONFIG_H -I. -I.. -I.. -g -O2 -MT zher.lo -MD -MP -MF .deps/zher.Tpo -c zher.c  -fno-common -DPIC -o .libs/zher.o\r\n"
       ]
      },
      {
       "output_type": "stream",
       "stream": "stdout",
       "text": [
        "libtool: compile:  gcc -DHAVE_CONFIG_H -I. -I.. -I.. -g -O2 -MT zher.lo -MD -MP -MF .deps/zher.Tpo -c zher.c -o zher.o >/dev/null 2>&1\r\n"
       ]
      },
      {
       "output_type": "stream",
       "stream": "stdout",
       "text": [
        "mv -f .deps/zher.Tpo .deps/zher.Plo\r\n",
        "/bin/sh ../libtool --tag=CC   --mode=compile gcc -DHAVE_CONFIG_H -I. -I.. -I..    -g -O2 -MT zher2.lo -MD -MP -MF .deps/zher2.Tpo -c -o zher2.lo zher2.c\r\n"
       ]
      },
      {
       "output_type": "stream",
       "stream": "stdout",
       "text": [
        "libtool: compile:  gcc -DHAVE_CONFIG_H -I. -I.. -I.. -g -O2 -MT zher2.lo -MD -MP -MF .deps/zher2.Tpo -c zher2.c  -fno-common -DPIC -o .libs/zher2.o\r\n"
       ]
      },
      {
       "output_type": "stream",
       "stream": "stdout",
       "text": [
        "libtool: compile:  gcc -DHAVE_CONFIG_H -I. -I.. -I.. -g -O2 -MT zher2.lo -MD -MP -MF .deps/zher2.Tpo -c zher2.c -o zher2.o >/dev/null 2>&1\r\n"
       ]
      },
      {
       "output_type": "stream",
       "stream": "stdout",
       "text": [
        "mv -f .deps/zher2.Tpo .deps/zher2.Plo\r\n",
        "/bin/sh ../libtool --tag=CC   --mode=compile gcc -DHAVE_CONFIG_H -I. -I.. -I..    -g -O2 -MT zher2k.lo -MD -MP -MF .deps/zher2k.Tpo -c -o zher2k.lo zher2k.c\r\n",
        "libtool: compile:  gcc -DHAVE_CONFIG_H -I. -I.. -I.. -g -O2 -MT zher2k.lo -MD -MP -MF .deps/zher2k.Tpo -c zher2k.c  -fno-common -DPIC -o .libs/zher2k.o\r\n"
       ]
      },
      {
       "output_type": "stream",
       "stream": "stdout",
       "text": [
        "libtool: compile:  gcc -DHAVE_CONFIG_H -I. -I.. -I.. -g -O2 -MT zher2k.lo -MD -MP -MF .deps/zher2k.Tpo -c zher2k.c -o zher2k.o >/dev/null 2>&1\r\n"
       ]
      },
      {
       "output_type": "stream",
       "stream": "stdout",
       "text": [
        "mv -f .deps/zher2k.Tpo .deps/zher2k.Plo\r\n"
       ]
      },
      {
       "output_type": "stream",
       "stream": "stdout",
       "text": [
        "/bin/sh ../libtool --tag=CC   --mode=compile gcc -DHAVE_CONFIG_H -I. -I.. -I..    -g -O2 -MT zherk.lo -MD -MP -MF .deps/zherk.Tpo -c -o zherk.lo zherk.c\r\n",
        "libtool: compile:  gcc -DHAVE_CONFIG_H -I. -I.. -I.. -g -O2 -MT zherk.lo -MD -MP -MF .deps/zherk.Tpo -c zherk.c  -fno-common -DPIC -o .libs/zherk.o\r\n"
       ]
      },
      {
       "output_type": "stream",
       "stream": "stdout",
       "text": [
        "libtool: compile:  gcc -DHAVE_CONFIG_H -I. -I.. -I.. -g -O2 -MT zherk.lo -MD -MP -MF .deps/zherk.Tpo -c zherk.c -o zherk.o >/dev/null 2>&1\r\n"
       ]
      },
      {
       "output_type": "stream",
       "stream": "stdout",
       "text": [
        "mv -f .deps/zherk.Tpo .deps/zherk.Plo\r\n",
        "/bin/sh ../libtool --tag=CC   --mode=compile gcc -DHAVE_CONFIG_H -I. -I.. -I..    -g -O2 -MT zhpmv.lo -MD -MP -MF .deps/zhpmv.Tpo -c -o zhpmv.lo zhpmv.c\r\n",
        "libtool: compile:  gcc -DHAVE_CONFIG_H -I. -I.. -I.. -g -O2 -MT zhpmv.lo -MD -MP -MF .deps/zhpmv.Tpo -c zhpmv.c  -fno-common -DPIC -o .libs/zhpmv.o\r\n"
       ]
      },
      {
       "output_type": "stream",
       "stream": "stdout",
       "text": [
        "libtool: compile:  gcc -DHAVE_CONFIG_H -I. -I.. -I.. -g -O2 -MT zhpmv.lo -MD -MP -MF .deps/zhpmv.Tpo -c zhpmv.c -o zhpmv.o >/dev/null 2>&1\r\n"
       ]
      },
      {
       "output_type": "stream",
       "stream": "stdout",
       "text": [
        "mv -f .deps/zhpmv.Tpo .deps/zhpmv.Plo\r\n",
        "/bin/sh ../libtool --tag=CC   --mode=compile gcc -DHAVE_CONFIG_H -I. -I.. -I..    -g -O2 -MT zhpr.lo -MD -MP -MF .deps/zhpr.Tpo -c -o zhpr.lo zhpr.c\r\n",
        "libtool: compile:  gcc -DHAVE_CONFIG_H -I. -I.. -I.. -g -O2 -MT zhpr.lo -MD -MP -MF .deps/zhpr.Tpo -c zhpr.c  -fno-common -DPIC -o .libs/zhpr.o\r\n"
       ]
      },
      {
       "output_type": "stream",
       "stream": "stdout",
       "text": [
        "libtool: compile:  gcc -DHAVE_CONFIG_H -I. -I.. -I.. -g -O2 -MT zhpr.lo -MD -MP -MF .deps/zhpr.Tpo -c zhpr.c -o zhpr.o >/dev/null 2>&1\r\n"
       ]
      },
      {
       "output_type": "stream",
       "stream": "stdout",
       "text": [
        "mv -f .deps/zhpr.Tpo .deps/zhpr.Plo\r\n",
        "/bin/sh ../libtool --tag=CC   --mode=compile gcc -DHAVE_CONFIG_H -I. -I.. -I..    -g -O2 -MT zhpr2.lo -MD -MP -MF .deps/zhpr2.Tpo -c -o zhpr2.lo zhpr2.c\r\n",
        "libtool: compile:  gcc -DHAVE_CONFIG_H -I. -I.. -I.. -g -O2 -MT zhpr2.lo -MD -MP -MF .deps/zhpr2.Tpo -c zhpr2.c  -fno-common -DPIC -o .libs/zhpr2.o\r\n"
       ]
      },
      {
       "output_type": "stream",
       "stream": "stdout",
       "text": [
        "libtool: compile:  gcc -DHAVE_CONFIG_H -I. -I.. -I.. -g -O2 -MT zhpr2.lo -MD -MP -MF .deps/zhpr2.Tpo -c zhpr2.c -o zhpr2.o >/dev/null 2>&1\r\n"
       ]
      },
      {
       "output_type": "stream",
       "stream": "stdout",
       "text": [
        "mv -f .deps/zhpr2.Tpo .deps/zhpr2.Plo\r\n",
        "/bin/sh ../libtool --tag=CC   --mode=compile gcc -DHAVE_CONFIG_H -I. -I.. -I..    -g -O2 -MT zscal.lo -MD -MP -MF .deps/zscal.Tpo -c -o zscal.lo zscal.c\r\n"
       ]
      },
      {
       "output_type": "stream",
       "stream": "stdout",
       "text": [
        "libtool: compile:  gcc -DHAVE_CONFIG_H -I. -I.. -I.. -g -O2 -MT zscal.lo -MD -MP -MF .deps/zscal.Tpo -c zscal.c  -fno-common -DPIC -o .libs/zscal.o\r\n"
       ]
      },
      {
       "output_type": "stream",
       "stream": "stdout",
       "text": [
        "libtool: compile:  gcc -DHAVE_CONFIG_H -I. -I.. -I.. -g -O2 -MT zscal.lo -MD -MP -MF .deps/zscal.Tpo -c zscal.c -o zscal.o >/dev/null 2>&1\r\n"
       ]
      },
      {
       "output_type": "stream",
       "stream": "stdout",
       "text": [
        "mv -f .deps/zscal.Tpo .deps/zscal.Plo\r\n",
        "/bin/sh ../libtool --tag=CC   --mode=compile gcc -DHAVE_CONFIG_H -I. -I.. -I..    -g -O2 -MT zswap.lo -MD -MP -MF .deps/zswap.Tpo -c -o zswap.lo zswap.c\r\n",
        "libtool: compile:  gcc -DHAVE_CONFIG_H -I. -I.. -I.. -g -O2 -MT zswap.lo -MD -MP -MF .deps/zswap.Tpo -c zswap.c  -fno-common -DPIC -o .libs/zswap.o\r\n"
       ]
      },
      {
       "output_type": "stream",
       "stream": "stdout",
       "text": [
        "libtool: compile:  gcc -DHAVE_CONFIG_H -I. -I.. -I.. -g -O2 -MT zswap.lo -MD -MP -MF .deps/zswap.Tpo -c zswap.c -o zswap.o >/dev/null 2>&1\r\n"
       ]
      },
      {
       "output_type": "stream",
       "stream": "stdout",
       "text": [
        "mv -f .deps/zswap.Tpo .deps/zswap.Plo\r\n",
        "/bin/sh ../libtool --tag=CC   --mode=compile gcc -DHAVE_CONFIG_H -I. -I.. -I..    -g -O2 -MT zsymm.lo -MD -MP -MF .deps/zsymm.Tpo -c -o zsymm.lo zsymm.c\r\n",
        "libtool: compile:  gcc -DHAVE_CONFIG_H -I. -I.. -I.. -g -O2 -MT zsymm.lo -MD -MP -MF .deps/zsymm.Tpo -c zsymm.c  -fno-common -DPIC -o .libs/zsymm.o\r\n"
       ]
      },
      {
       "output_type": "stream",
       "stream": "stdout",
       "text": [
        "libtool: compile:  gcc -DHAVE_CONFIG_H -I. -I.. -I.. -g -O2 -MT zsymm.lo -MD -MP -MF .deps/zsymm.Tpo -c zsymm.c -o zsymm.o >/dev/null 2>&1\r\n"
       ]
      },
      {
       "output_type": "stream",
       "stream": "stdout",
       "text": [
        "mv -f .deps/zsymm.Tpo .deps/zsymm.Plo\r\n",
        "/bin/sh ../libtool --tag=CC   --mode=compile gcc -DHAVE_CONFIG_H -I. -I.. -I..    -g -O2 -MT zsyr2k.lo -MD -MP -MF .deps/zsyr2k.Tpo -c -o zsyr2k.lo zsyr2k.c\r\n"
       ]
      },
      {
       "output_type": "stream",
       "stream": "stdout",
       "text": [
        "libtool: compile:  gcc -DHAVE_CONFIG_H -I. -I.. -I.. -g -O2 -MT zsyr2k.lo -MD -MP -MF .deps/zsyr2k.Tpo -c zsyr2k.c  -fno-common -DPIC -o .libs/zsyr2k.o\r\n"
       ]
      },
      {
       "output_type": "stream",
       "stream": "stdout",
       "text": [
        "libtool: compile:  gcc -DHAVE_CONFIG_H -I. -I.. -I.. -g -O2 -MT zsyr2k.lo -MD -MP -MF .deps/zsyr2k.Tpo -c zsyr2k.c -o zsyr2k.o >/dev/null 2>&1\r\n"
       ]
      },
      {
       "output_type": "stream",
       "stream": "stdout",
       "text": [
        "mv -f .deps/zsyr2k.Tpo .deps/zsyr2k.Plo\r\n",
        "/bin/sh ../libtool --tag=CC   --mode=compile gcc -DHAVE_CONFIG_H -I. -I.. -I..    -g -O2 -MT zsyrk.lo -MD -MP -MF .deps/zsyrk.Tpo -c -o zsyrk.lo zsyrk.c\r\n"
       ]
      },
      {
       "output_type": "stream",
       "stream": "stdout",
       "text": [
        "libtool: compile:  gcc -DHAVE_CONFIG_H -I. -I.. -I.. -g -O2 -MT zsyrk.lo -MD -MP -MF .deps/zsyrk.Tpo -c zsyrk.c  -fno-common -DPIC -o .libs/zsyrk.o\r\n"
       ]
      },
      {
       "output_type": "stream",
       "stream": "stdout",
       "text": [
        "libtool: compile:  gcc -DHAVE_CONFIG_H -I. -I.. -I.. -g -O2 -MT zsyrk.lo -MD -MP -MF .deps/zsyrk.Tpo -c zsyrk.c -o zsyrk.o >/dev/null 2>&1\r\n"
       ]
      },
      {
       "output_type": "stream",
       "stream": "stdout",
       "text": [
        "mv -f .deps/zsyrk.Tpo .deps/zsyrk.Plo\r\n",
        "/bin/sh ../libtool --tag=CC   --mode=compile gcc -DHAVE_CONFIG_H -I. -I.. -I..    -g -O2 -MT ztbmv.lo -MD -MP -MF .deps/ztbmv.Tpo -c -o ztbmv.lo ztbmv.c\r\n"
       ]
      },
      {
       "output_type": "stream",
       "stream": "stdout",
       "text": [
        "libtool: compile:  gcc -DHAVE_CONFIG_H -I. -I.. -I.. -g -O2 -MT ztbmv.lo -MD -MP -MF .deps/ztbmv.Tpo -c ztbmv.c  -fno-common -DPIC -o .libs/ztbmv.o\r\n"
       ]
      },
      {
       "output_type": "stream",
       "stream": "stdout",
       "text": [
        "libtool: compile:  gcc -DHAVE_CONFIG_H -I. -I.. -I.. -g -O2 -MT ztbmv.lo -MD -MP -MF .deps/ztbmv.Tpo -c ztbmv.c -o ztbmv.o >/dev/null 2>&1\r\n"
       ]
      },
      {
       "output_type": "stream",
       "stream": "stdout",
       "text": [
        "mv -f .deps/ztbmv.Tpo .deps/ztbmv.Plo\r\n",
        "/bin/sh ../libtool --tag=CC   --mode=compile gcc -DHAVE_CONFIG_H -I. -I.. -I..    -g -O2 -MT ztbsv.lo -MD -MP -MF .deps/ztbsv.Tpo -c -o ztbsv.lo ztbsv.c\r\n"
       ]
      },
      {
       "output_type": "stream",
       "stream": "stdout",
       "text": [
        "libtool: compile:  gcc -DHAVE_CONFIG_H -I. -I.. -I.. -g -O2 -MT ztbsv.lo -MD -MP -MF .deps/ztbsv.Tpo -c ztbsv.c  -fno-common -DPIC -o .libs/ztbsv.o\r\n"
       ]
      },
      {
       "output_type": "stream",
       "stream": "stdout",
       "text": [
        "libtool: compile:  gcc -DHAVE_CONFIG_H -I. -I.. -I.. -g -O2 -MT ztbsv.lo -MD -MP -MF .deps/ztbsv.Tpo -c ztbsv.c -o ztbsv.o >/dev/null 2>&1\r\n"
       ]
      },
      {
       "output_type": "stream",
       "stream": "stdout",
       "text": [
        "mv -f .deps/ztbsv.Tpo .deps/ztbsv.Plo\r\n",
        "/bin/sh ../libtool --tag=CC   --mode=compile gcc -DHAVE_CONFIG_H -I. -I.. -I..    -g -O2 -MT ztpmv.lo -MD -MP -MF .deps/ztpmv.Tpo -c -o ztpmv.lo ztpmv.c\r\n"
       ]
      },
      {
       "output_type": "stream",
       "stream": "stdout",
       "text": [
        "libtool: compile:  gcc -DHAVE_CONFIG_H -I. -I.. -I.. -g -O2 -MT ztpmv.lo -MD -MP -MF .deps/ztpmv.Tpo -c ztpmv.c  -fno-common -DPIC -o .libs/ztpmv.o\r\n"
       ]
      },
      {
       "output_type": "stream",
       "stream": "stdout",
       "text": [
        "libtool: compile:  gcc -DHAVE_CONFIG_H -I. -I.. -I.. -g -O2 -MT ztpmv.lo -MD -MP -MF .deps/ztpmv.Tpo -c ztpmv.c -o ztpmv.o >/dev/null 2>&1\r\n"
       ]
      },
      {
       "output_type": "stream",
       "stream": "stdout",
       "text": [
        "mv -f .deps/ztpmv.Tpo .deps/ztpmv.Plo\r\n",
        "/bin/sh ../libtool --tag=CC   --mode=compile gcc -DHAVE_CONFIG_H -I. -I.. -I..    -g -O2 -MT ztpsv.lo -MD -MP -MF .deps/ztpsv.Tpo -c -o ztpsv.lo ztpsv.c\r\n",
        "libtool: compile:  gcc -DHAVE_CONFIG_H -I. -I.. -I.. -g -O2 -MT ztpsv.lo -MD -MP -MF .deps/ztpsv.Tpo -c ztpsv.c  -fno-common -DPIC -o .libs/ztpsv.o\r\n"
       ]
      },
      {
       "output_type": "stream",
       "stream": "stdout",
       "text": [
        "libtool: compile:  gcc -DHAVE_CONFIG_H -I. -I.. -I.. -g -O2 -MT ztpsv.lo -MD -MP -MF .deps/ztpsv.Tpo -c ztpsv.c -o ztpsv.o >/dev/null 2>&1\r\n"
       ]
      },
      {
       "output_type": "stream",
       "stream": "stdout",
       "text": [
        "mv -f .deps/ztpsv.Tpo .deps/ztpsv.Plo\r\n",
        "/bin/sh ../libtool --tag=CC   --mode=compile gcc -DHAVE_CONFIG_H -I. -I.. -I..    -g -O2 -MT ztrmm.lo -MD -MP -MF .deps/ztrmm.Tpo -c -o ztrmm.lo ztrmm.c\r\n"
       ]
      },
      {
       "output_type": "stream",
       "stream": "stdout",
       "text": [
        "libtool: compile:  gcc -DHAVE_CONFIG_H -I. -I.. -I.. -g -O2 -MT ztrmm.lo -MD -MP -MF .deps/ztrmm.Tpo -c ztrmm.c  -fno-common -DPIC -o .libs/ztrmm.o\r\n"
       ]
      },
      {
       "output_type": "stream",
       "stream": "stdout",
       "text": [
        "libtool: compile:  gcc -DHAVE_CONFIG_H -I. -I.. -I.. -g -O2 -MT ztrmm.lo -MD -MP -MF .deps/ztrmm.Tpo -c ztrmm.c -o ztrmm.o >/dev/null 2>&1\r\n"
       ]
      },
      {
       "output_type": "stream",
       "stream": "stdout",
       "text": [
        "mv -f .deps/ztrmm.Tpo .deps/ztrmm.Plo\r\n",
        "/bin/sh ../libtool --tag=CC   --mode=compile gcc -DHAVE_CONFIG_H -I. -I.. -I..    -g -O2 -MT ztrmv.lo -MD -MP -MF .deps/ztrmv.Tpo -c -o ztrmv.lo ztrmv.c\r\n",
        "libtool: compile:  gcc -DHAVE_CONFIG_H -I. -I.. -I.. -g -O2 -MT ztrmv.lo -MD -MP -MF .deps/ztrmv.Tpo -c ztrmv.c  -fno-common -DPIC -o .libs/ztrmv.o\r\n"
       ]
      },
      {
       "output_type": "stream",
       "stream": "stdout",
       "text": [
        "libtool: compile:  gcc -DHAVE_CONFIG_H -I. -I.. -I.. -g -O2 -MT ztrmv.lo -MD -MP -MF .deps/ztrmv.Tpo -c ztrmv.c -o ztrmv.o >/dev/null 2>&1\r\n"
       ]
      },
      {
       "output_type": "stream",
       "stream": "stdout",
       "text": [
        "mv -f .deps/ztrmv.Tpo .deps/ztrmv.Plo\r\n",
        "/bin/sh ../libtool --tag=CC   --mode=compile gcc -DHAVE_CONFIG_H -I. -I.. -I..    -g -O2 -MT ztrsm.lo -MD -MP -MF .deps/ztrsm.Tpo -c -o ztrsm.lo ztrsm.c\r\n"
       ]
      },
      {
       "output_type": "stream",
       "stream": "stdout",
       "text": [
        "libtool: compile:  gcc -DHAVE_CONFIG_H -I. -I.. -I.. -g -O2 -MT ztrsm.lo -MD -MP -MF .deps/ztrsm.Tpo -c ztrsm.c  -fno-common -DPIC -o .libs/ztrsm.o\r\n"
       ]
      },
      {
       "output_type": "stream",
       "stream": "stdout",
       "text": [
        "libtool: compile:  gcc -DHAVE_CONFIG_H -I. -I.. -I.. -g -O2 -MT ztrsm.lo -MD -MP -MF .deps/ztrsm.Tpo -c ztrsm.c -o ztrsm.o >/dev/null 2>&1\r\n"
       ]
      },
      {
       "output_type": "stream",
       "stream": "stdout",
       "text": [
        "mv -f .deps/ztrsm.Tpo .deps/ztrsm.Plo\r\n",
        "/bin/sh ../libtool --tag=CC   --mode=compile gcc -DHAVE_CONFIG_H -I. -I.. -I..    -g -O2 -MT ztrsv.lo -MD -MP -MF .deps/ztrsv.Tpo -c -o ztrsv.lo ztrsv.c\r\n",
        "libtool: compile:  gcc -DHAVE_CONFIG_H -I. -I.. -I.. -g -O2 -MT ztrsv.lo -MD -MP -MF .deps/ztrsv.Tpo -c ztrsv.c  -fno-common -DPIC -o .libs/ztrsv.o\r\n"
       ]
      },
      {
       "output_type": "stream",
       "stream": "stdout",
       "text": [
        "libtool: compile:  gcc -DHAVE_CONFIG_H -I. -I.. -I.. -g -O2 -MT ztrsv.lo -MD -MP -MF .deps/ztrsv.Tpo -c ztrsv.c -o ztrsv.o >/dev/null 2>&1\r\n"
       ]
      },
      {
       "output_type": "stream",
       "stream": "stdout",
       "text": [
        "mv -f .deps/ztrsv.Tpo .deps/ztrsv.Plo\r\n"
       ]
      },
      {
       "output_type": "stream",
       "stream": "stdout",
       "text": [
        "/bin/sh ../libtool --tag=CC   --mode=compile gcc -DHAVE_CONFIG_H -I. -I.. -I..    -g -O2 -MT icamax.lo -MD -MP -MF .deps/icamax.Tpo -c -o icamax.lo icamax.c\r\n",
        "libtool: compile:  gcc -DHAVE_CONFIG_H -I. -I.. -I.. -g -O2 -MT icamax.lo -MD -MP -MF .deps/icamax.Tpo -c icamax.c  -fno-common -DPIC -o .libs/icamax.o\r\n"
       ]
      },
      {
       "output_type": "stream",
       "stream": "stdout",
       "text": [
        "libtool: compile:  gcc -DHAVE_CONFIG_H -I. -I.. -I.. -g -O2 -MT icamax.lo -MD -MP -MF .deps/icamax.Tpo -c icamax.c -o icamax.o >/dev/null 2>&1\r\n"
       ]
      },
      {
       "output_type": "stream",
       "stream": "stdout",
       "text": [
        "mv -f .deps/icamax.Tpo .deps/icamax.Plo\r\n",
        "/bin/sh ../libtool --tag=CC   --mode=compile gcc -DHAVE_CONFIG_H -I. -I.. -I..    -g -O2 -MT idamax.lo -MD -MP -MF .deps/idamax.Tpo -c -o idamax.lo idamax.c\r\n",
        "libtool: compile:  gcc -DHAVE_CONFIG_H -I. -I.. -I.. -g -O2 -MT idamax.lo -MD -MP -MF .deps/idamax.Tpo -c idamax.c  -fno-common -DPIC -o .libs/idamax.o\r\n"
       ]
      },
      {
       "output_type": "stream",
       "stream": "stdout",
       "text": [
        "libtool: compile:  gcc -DHAVE_CONFIG_H -I. -I.. -I.. -g -O2 -MT idamax.lo -MD -MP -MF .deps/idamax.Tpo -c idamax.c -o idamax.o >/dev/null 2>&1\r\n"
       ]
      },
      {
       "output_type": "stream",
       "stream": "stdout",
       "text": [
        "mv -f .deps/idamax.Tpo .deps/idamax.Plo\r\n",
        "/bin/sh ../libtool --tag=CC   --mode=compile gcc -DHAVE_CONFIG_H -I. -I.. -I..    -g -O2 -MT isamax.lo -MD -MP -MF .deps/isamax.Tpo -c -o isamax.lo isamax.c\r\n"
       ]
      },
      {
       "output_type": "stream",
       "stream": "stdout",
       "text": [
        "libtool: compile:  gcc -DHAVE_CONFIG_H -I. -I.. -I.. -g -O2 -MT isamax.lo -MD -MP -MF .deps/isamax.Tpo -c isamax.c  -fno-common -DPIC -o .libs/isamax.o\r\n"
       ]
      },
      {
       "output_type": "stream",
       "stream": "stdout",
       "text": [
        "libtool: compile:  gcc -DHAVE_CONFIG_H -I. -I.. -I.. -g -O2 -MT isamax.lo -MD -MP -MF .deps/isamax.Tpo -c isamax.c -o isamax.o >/dev/null 2>&1\r\n"
       ]
      },
      {
       "output_type": "stream",
       "stream": "stdout",
       "text": [
        "mv -f .deps/isamax.Tpo .deps/isamax.Plo\r\n",
        "/bin/sh ../libtool --tag=CC   --mode=compile gcc -DHAVE_CONFIG_H -I. -I.. -I..    -g -O2 -MT izamax.lo -MD -MP -MF .deps/izamax.Tpo -c -o izamax.lo izamax.c\r\n"
       ]
      },
      {
       "output_type": "stream",
       "stream": "stdout",
       "text": [
        "libtool: compile:  gcc -DHAVE_CONFIG_H -I. -I.. -I.. -g -O2 -MT izamax.lo -MD -MP -MF .deps/izamax.Tpo -c izamax.c  -fno-common -DPIC -o .libs/izamax.o\r\n"
       ]
      },
      {
       "output_type": "stream",
       "stream": "stdout",
       "text": [
        "libtool: compile:  gcc -DHAVE_CONFIG_H -I. -I.. -I.. -g -O2 -MT izamax.lo -MD -MP -MF .deps/izamax.Tpo -c izamax.c -o izamax.o >/dev/null 2>&1\r\n"
       ]
      },
      {
       "output_type": "stream",
       "stream": "stdout",
       "text": [
        "mv -f .deps/izamax.Tpo .deps/izamax.Plo\r\n",
        "/bin/sh ../libtool --tag=CC   --mode=compile gcc -DHAVE_CONFIG_H -I. -I.. -I..    -g -O2 -MT xerbla.lo -MD -MP -MF .deps/xerbla.Tpo -c -o xerbla.lo xerbla.c\r\n",
        "libtool: compile:  gcc -DHAVE_CONFIG_H -I. -I.. -I.. -g -O2 -MT xerbla.lo -MD -MP -MF .deps/xerbla.Tpo -c xerbla.c  -fno-common -DPIC -o .libs/xerbla.o\r\n"
       ]
      },
      {
       "output_type": "stream",
       "stream": "stdout",
       "text": [
        "libtool: compile:  gcc -DHAVE_CONFIG_H -I. -I.. -I.. -g -O2 -MT xerbla.lo -MD -MP -MF .deps/xerbla.Tpo -c xerbla.c -o xerbla.o >/dev/null 2>&1\r\n"
       ]
      },
      {
       "output_type": "stream",
       "stream": "stdout",
       "text": [
        "mv -f .deps/xerbla.Tpo .deps/xerbla.Plo\r\n",
        "/bin/sh ../libtool --tag=CC   --mode=link gcc  -g -O2 -version-info 0:0:0   -o libgslcblas.la -rpath /usr/local/lib sasum.lo saxpy.lo scasum.lo scnrm2.lo scopy.lo sdot.lo sdsdot.lo sgbmv.lo sgemm.lo sgemv.lo sger.lo snrm2.lo srot.lo srotg.lo srotm.lo srotmg.lo ssbmv.lo sscal.lo sspmv.lo sspr.lo sspr2.lo sswap.lo ssymm.lo ssymv.lo ssyr.lo ssyr2.lo ssyr2k.lo ssyrk.lo stbmv.lo stbsv.lo stpmv.lo stpsv.lo strmm.lo strmv.lo strsm.lo strsv.lo dasum.lo daxpy.lo dcopy.lo ddot.lo dgbmv.lo dgemm.lo dgemv.lo dger.lo dnrm2.lo drot.lo drotg.lo drotm.lo drotmg.lo dsbmv.lo dscal.lo dsdot.lo dspmv.lo dspr.lo dspr2.lo dswap.lo dsymm.lo dsymv.lo dsyr.lo dsyr2.lo dsyr2k.lo dsyrk.lo dtbmv.lo dtbsv.lo dtpmv.lo dtpsv.lo dtrmm.lo dtrmv.lo dtrsm.lo dtrsv.lo dzasum.lo dznrm2.lo caxpy.lo ccopy.lo cdotc_sub.lo cdotu_sub.lo cgbmv.lo cgemm.lo cgemv.lo cgerc.lo cgeru.lo chbmv.lo chemm.lo chemv.lo cher.lo cher2.lo cher2k.lo cherk.lo chpmv.lo chpr.lo chpr2.lo cscal.lo csscal.lo cswap.lo csymm.lo csyr2k.lo csyrk.lo ctbmv.lo ctbsv.lo ctpmv.lo ctpsv.lo ctrmm.lo ctrmv.lo ctrsm.lo ctrsv.lo zaxpy.lo zcopy.lo zdotc_sub.lo zdotu_sub.lo zdscal.lo zgbmv.lo zgemm.lo zgemv.lo zgerc.lo zgeru.lo zhbmv.lo zhemm.lo zhemv.lo zher.lo zher2.lo zher2k.lo zherk.lo zhpmv.lo zhpr.lo zhpr2.lo zscal.lo zswap.lo zsymm.lo zsyr2k.lo zsyrk.lo ztbmv.lo ztbsv.lo ztpmv.lo ztpsv.lo ztrmm.lo ztrmv.lo ztrsm.lo ztrsv.lo icamax.lo idamax.lo isamax.lo izamax.lo xerbla.lo  -lm \r\n"
       ]
      },
      {
       "output_type": "stream",
       "stream": "stdout",
       "text": [
        "libtool: link: gcc -dynamiclib -Wl,-undefined -Wl,dynamic_lookup -o .libs/libgslcblas.0.dylib  .libs/sasum.o .libs/saxpy.o .libs/scasum.o .libs/scnrm2.o .libs/scopy.o .libs/sdot.o .libs/sdsdot.o .libs/sgbmv.o .libs/sgemm.o .libs/sgemv.o .libs/sger.o .libs/snrm2.o .libs/srot.o .libs/srotg.o .libs/srotm.o .libs/srotmg.o .libs/ssbmv.o .libs/sscal.o .libs/sspmv.o .libs/sspr.o .libs/sspr2.o .libs/sswap.o .libs/ssymm.o .libs/ssymv.o .libs/ssyr.o .libs/ssyr2.o .libs/ssyr2k.o .libs/ssyrk.o .libs/stbmv.o .libs/stbsv.o .libs/stpmv.o .libs/stpsv.o .libs/strmm.o .libs/strmv.o .libs/strsm.o .libs/strsv.o .libs/dasum.o .libs/daxpy.o .libs/dcopy.o .libs/ddot.o .libs/dgbmv.o .libs/dgemm.o .libs/dgemv.o .libs/dger.o .libs/dnrm2.o .libs/drot.o .libs/drotg.o .libs/drotm.o .libs/drotmg.o .libs/dsbmv.o .libs/dscal.o .libs/dsdot.o .libs/dspmv.o .libs/dspr.o .libs/dspr2.o .libs/dswap.o .libs/dsymm.o .libs/dsymv.o .libs/dsyr.o .libs/dsyr2.o .libs/dsyr2k.o .libs/dsyrk.o .libs/dtbmv.o .libs/dtbsv.o .libs/dtpmv.o .libs/dtpsv.o .libs/dtrmm.o .libs/dtrmv.o .libs/dtrsm.o .libs/dtrsv.o .libs/dzasum.o .libs/dznrm2.o .libs/caxpy.o .libs/ccopy.o .libs/cdotc_sub.o .libs/cdotu_sub.o .libs/cgbmv.o .libs/cgemm.o .libs/cgemv.o .libs/cgerc.o .libs/cgeru.o .libs/chbmv.o .libs/chemm.o .libs/chemv.o .libs/cher.o .libs/cher2.o .libs/cher2k.o .libs/cherk.o .libs/chpmv.o .libs/chpr.o .libs/chpr2.o .libs/cscal.o .libs/csscal.o .libs/cswap.o .libs/csymm.o .libs/csyr2k.o .libs/csyrk.o .libs/ctbmv.o .libs/ctbsv.o .libs/ctpmv.o .libs/ctpsv.o .libs/ctrmm.o .libs/ctrmv.o .libs/ctrsm.o .libs/ctrsv.o .libs/zaxpy.o .libs/zcopy.o .libs/zdotc_sub.o .libs/zdotu_sub.o .libs/zdscal.o .libs/zgbmv.o .libs/zgemm.o .libs/zgemv.o .libs/zgerc.o .libs/zgeru.o .libs/zhbmv.o .libs/zhemm.o .libs/zhemv.o .libs/zher.o .libs/zher2.o .libs/zher2k.o .libs/zherk.o .libs/zhpmv.o .libs/zhpr.o .libs/zhpr2.o .libs/zscal.o .libs/zswap.o .libs/zsymm.o .libs/zsyr2k.o .libs/zsyrk.o .libs/ztbmv.o .libs/ztbsv.o .libs/ztpmv.o .libs/ztpsv.o .libs/ztrmm.o .libs/ztrmv.o .libs/ztrsm.o .libs/ztrsv.o .libs/icamax.o .libs/idamax.o .libs/isamax.o .libs/izamax.o .libs/xerbla.o   -lm  -O2   -install_name  /usr/local/lib/libgslcblas.0.dylib -compatibility_version 1 -current_version 1.0 -Wl,-single_module\r\n"
       ]
      },
      {
       "output_type": "stream",
       "stream": "stdout",
       "text": [
        "libtool: link: (cd \".libs\" && rm -f \"libgslcblas.dylib\" && ln -s \"libgslcblas.0.dylib\" \"libgslcblas.dylib\")\r\n"
       ]
      },
      {
       "output_type": "stream",
       "stream": "stdout",
       "text": [
        "libtool: link: ar cru .libs/libgslcblas.a  sasum.o saxpy.o scasum.o scnrm2.o scopy.o sdot.o sdsdot.o sgbmv.o sgemm.o sgemv.o sger.o snrm2.o srot.o srotg.o srotm.o srotmg.o ssbmv.o sscal.o sspmv.o sspr.o sspr2.o sswap.o ssymm.o ssymv.o ssyr.o ssyr2.o ssyr2k.o ssyrk.o stbmv.o stbsv.o stpmv.o stpsv.o strmm.o strmv.o strsm.o strsv.o dasum.o daxpy.o dcopy.o ddot.o dgbmv.o dgemm.o dgemv.o dger.o dnrm2.o drot.o drotg.o drotm.o drotmg.o dsbmv.o dscal.o dsdot.o dspmv.o dspr.o dspr2.o dswap.o dsymm.o dsymv.o dsyr.o dsyr2.o dsyr2k.o dsyrk.o dtbmv.o dtbsv.o dtpmv.o dtpsv.o dtrmm.o dtrmv.o dtrsm.o dtrsv.o dzasum.o dznrm2.o caxpy.o ccopy.o cdotc_sub.o cdotu_sub.o cgbmv.o cgemm.o cgemv.o cgerc.o cgeru.o chbmv.o chemm.o chemv.o cher.o cher2.o cher2k.o cherk.o chpmv.o chpr.o chpr2.o cscal.o csscal.o cswap.o csymm.o csyr2k.o csyrk.o ctbmv.o ctbsv.o ctpmv.o ctpsv.o ctrmm.o ctrmv.o ctrsm.o ctrsv.o zaxpy.o zcopy.o zdotc_sub.o zdotu_sub.o zdscal.o zgbmv.o zgemm.o zgemv.o zgerc.o zgeru.o zhbmv.o zhemm.o zhemv.o zher.o zher2.o zher2k.o zherk.o zhpmv.o zhpr.o zhpr2.o zscal.o zswap.o zsymm.o zsyr2k.o zsyrk.o ztbmv.o ztbsv.o ztpmv.o ztpsv.o ztrmm.o ztrmv.o ztrsm.o ztrsv.o icamax.o idamax.o isamax.o izamax.o xerbla.o\r\n"
       ]
      },
      {
       "output_type": "stream",
       "stream": "stdout",
       "text": [
        "libtool: link: ranlib .libs/libgslcblas.a\r\n"
       ]
      },
      {
       "output_type": "stream",
       "stream": "stdout",
       "text": [
        "libtool: link: ( cd \".libs\" && rm -f \"libgslcblas.la\" && ln -s \"../libgslcblas.la\" \"libgslcblas.la\" )\r\n",
        "Making all in blas\r\n",
        "/bin/sh ../libtool --tag=CC   --mode=compile gcc -DHAVE_CONFIG_H -I. -I.. -I..    -g -O2 -MT blas.lo -MD -MP -MF .deps/blas.Tpo -c -o blas.lo blas.c\r\n"
       ]
      },
      {
       "output_type": "stream",
       "stream": "stdout",
       "text": [
        "libtool: compile:  gcc -DHAVE_CONFIG_H -I. -I.. -I.. -g -O2 -MT blas.lo -MD -MP -MF .deps/blas.Tpo -c blas.c  -fno-common -DPIC -o .libs/blas.o\r\n"
       ]
      },
      {
       "output_type": "stream",
       "stream": "stdout",
       "text": [
        "libtool: compile:  gcc -DHAVE_CONFIG_H -I. -I.. -I.. -g -O2 -MT blas.lo -MD -MP -MF .deps/blas.Tpo -c blas.c -o blas.o >/dev/null 2>&1\r\n"
       ]
      },
      {
       "output_type": "stream",
       "stream": "stdout",
       "text": [
        "mv -f .deps/blas.Tpo .deps/blas.Plo\r\n",
        "/bin/sh ../libtool --tag=CC   --mode=link gcc  -g -O2   -o libgslblas.la  blas.lo  -lm \r\n"
       ]
      },
      {
       "output_type": "stream",
       "stream": "stdout",
       "text": [
        "libtool: link: ar cru .libs/libgslblas.a .libs/blas.o \r\n"
       ]
      },
      {
       "output_type": "stream",
       "stream": "stdout",
       "text": [
        "libtool: link: ranlib .libs/libgslblas.a\r\n"
       ]
      },
      {
       "output_type": "stream",
       "stream": "stdout",
       "text": [
        "libtool: link: ( cd \".libs\" && rm -f \"libgslblas.la\" && ln -s \"../libgslblas.la\" \"libgslblas.la\" )\r\n",
        "Making all in linalg\r\n",
        "/bin/sh ../libtool --tag=CC   --mode=compile gcc -DHAVE_CONFIG_H -I. -I.. -I..    -g -O2 -MT multiply.lo -MD -MP -MF .deps/multiply.Tpo -c -o multiply.lo multiply.c\r\n"
       ]
      },
      {
       "output_type": "stream",
       "stream": "stdout",
       "text": [
        "libtool: compile:  gcc -DHAVE_CONFIG_H -I. -I.. -I.. -g -O2 -MT multiply.lo -MD -MP -MF .deps/multiply.Tpo -c multiply.c  -fno-common -DPIC -o .libs/multiply.o\r\n"
       ]
      },
      {
       "output_type": "stream",
       "stream": "stdout",
       "text": [
        "libtool: compile:  gcc -DHAVE_CONFIG_H -I. -I.. -I.. -g -O2 -MT multiply.lo -MD -MP -MF .deps/multiply.Tpo -c multiply.c -o multiply.o >/dev/null 2>&1\r\n"
       ]
      },
      {
       "output_type": "stream",
       "stream": "stdout",
       "text": [
        "mv -f .deps/multiply.Tpo .deps/multiply.Plo\r\n"
       ]
      },
      {
       "output_type": "stream",
       "stream": "stdout",
       "text": [
        "/bin/sh ../libtool --tag=CC   --mode=compile gcc -DHAVE_CONFIG_H -I. -I.. -I..    -g -O2 -MT exponential.lo -MD -MP -MF .deps/exponential.Tpo -c -o exponential.lo exponential.c\r\n",
        "libtool: compile:  gcc -DHAVE_CONFIG_H -I. -I.. -I.. -g -O2 -MT exponential.lo -MD -MP -MF .deps/exponential.Tpo -c exponential.c  -fno-common -DPIC -o .libs/exponential.o\r\n"
       ]
      },
      {
       "output_type": "stream",
       "stream": "stdout",
       "text": [
        "libtool: compile:  gcc -DHAVE_CONFIG_H -I. -I.. -I.. -g -O2 -MT exponential.lo -MD -MP -MF .deps/exponential.Tpo -c exponential.c -o exponential.o >/dev/null 2>&1\r\n"
       ]
      },
      {
       "output_type": "stream",
       "stream": "stdout",
       "text": [
        "mv -f .deps/exponential.Tpo .deps/exponential.Plo\r\n",
        "/bin/sh ../libtool --tag=CC   --mode=compile gcc -DHAVE_CONFIG_H -I. -I.. -I..    -g -O2 -MT tridiag.lo -MD -MP -MF .deps/tridiag.Tpo -c -o tridiag.lo tridiag.c\r\n",
        "libtool: compile:  gcc -DHAVE_CONFIG_H -I. -I.. -I.. -g -O2 -MT tridiag.lo -MD -MP -MF .deps/tridiag.Tpo -c tridiag.c  -fno-common -DPIC -o .libs/tridiag.o\r\n"
       ]
      },
      {
       "output_type": "stream",
       "stream": "stdout",
       "text": [
        "libtool: compile:  gcc -DHAVE_CONFIG_H -I. -I.. -I.. -g -O2 -MT tridiag.lo -MD -MP -MF .deps/tridiag.Tpo -c tridiag.c -o tridiag.o >/dev/null 2>&1\r\n"
       ]
      },
      {
       "output_type": "stream",
       "stream": "stdout",
       "text": [
        "mv -f .deps/tridiag.Tpo .deps/tridiag.Plo\r\n",
        "/bin/sh ../libtool --tag=CC   --mode=compile gcc -DHAVE_CONFIG_H -I. -I.. -I..    -g -O2 -MT lu.lo -MD -MP -MF .deps/lu.Tpo -c -o lu.lo lu.c\r\n"
       ]
      },
      {
       "output_type": "stream",
       "stream": "stdout",
       "text": [
        "libtool: compile:  gcc -DHAVE_CONFIG_H -I. -I.. -I.. -g -O2 -MT lu.lo -MD -MP -MF .deps/lu.Tpo -c lu.c  -fno-common -DPIC -o .libs/lu.o\r\n"
       ]
      },
      {
       "output_type": "stream",
       "stream": "stdout",
       "text": [
        "libtool: compile:  gcc -DHAVE_CONFIG_H -I. -I.. -I.. -g -O2 -MT lu.lo -MD -MP -MF .deps/lu.Tpo -c lu.c -o lu.o >/dev/null 2>&1\r\n"
       ]
      },
      {
       "output_type": "stream",
       "stream": "stdout",
       "text": [
        "mv -f .deps/lu.Tpo .deps/lu.Plo\r\n",
        "/bin/sh ../libtool --tag=CC   --mode=compile gcc -DHAVE_CONFIG_H -I. -I.. -I..    -g -O2 -MT luc.lo -MD -MP -MF .deps/luc.Tpo -c -o luc.lo luc.c\r\n"
       ]
      },
      {
       "output_type": "stream",
       "stream": "stdout",
       "text": [
        "libtool: compile:  gcc -DHAVE_CONFIG_H -I. -I.. -I.. -g -O2 -MT luc.lo -MD -MP -MF .deps/luc.Tpo -c luc.c  -fno-common -DPIC -o .libs/luc.o\r\n"
       ]
      },
      {
       "output_type": "stream",
       "stream": "stdout",
       "text": [
        "libtool: compile:  gcc -DHAVE_CONFIG_H -I. -I.. -I.. -g -O2 -MT luc.lo -MD -MP -MF .deps/luc.Tpo -c luc.c -o luc.o >/dev/null 2>&1\r\n"
       ]
      },
      {
       "output_type": "stream",
       "stream": "stdout",
       "text": [
        "mv -f .deps/luc.Tpo .deps/luc.Plo\r\n",
        "/bin/sh ../libtool --tag=CC   --mode=compile gcc -DHAVE_CONFIG_H -I. -I.. -I..    -g -O2 -MT hh.lo -MD -MP -MF .deps/hh.Tpo -c -o hh.lo hh.c\r\n"
       ]
      },
      {
       "output_type": "stream",
       "stream": "stdout",
       "text": [
        "libtool: compile:  gcc -DHAVE_CONFIG_H -I. -I.. -I.. -g -O2 -MT hh.lo -MD -MP -MF .deps/hh.Tpo -c hh.c  -fno-common -DPIC -o .libs/hh.o\r\n"
       ]
      },
      {
       "output_type": "stream",
       "stream": "stdout",
       "text": [
        "libtool: compile:  gcc -DHAVE_CONFIG_H -I. -I.. -I.. -g -O2 -MT hh.lo -MD -MP -MF .deps/hh.Tpo -c hh.c -o hh.o >/dev/null 2>&1\r\n"
       ]
      },
      {
       "output_type": "stream",
       "stream": "stdout",
       "text": [
        "mv -f .deps/hh.Tpo .deps/hh.Plo\r\n",
        "/bin/sh ../libtool --tag=CC   --mode=compile gcc -DHAVE_CONFIG_H -I. -I.. -I..    -g -O2 -MT qr.lo -MD -MP -MF .deps/qr.Tpo -c -o qr.lo qr.c\r\n"
       ]
      },
      {
       "output_type": "stream",
       "stream": "stdout",
       "text": [
        "libtool: compile:  gcc -DHAVE_CONFIG_H -I. -I.. -I.. -g -O2 -MT qr.lo -MD -MP -MF .deps/qr.Tpo -c qr.c  -fno-common -DPIC -o .libs/qr.o\r\n"
       ]
      },
      {
       "output_type": "stream",
       "stream": "stdout",
       "text": [
        "libtool: compile:  gcc -DHAVE_CONFIG_H -I. -I.. -I.. -g -O2 -MT qr.lo -MD -MP -MF .deps/qr.Tpo -c qr.c -o qr.o >/dev/null 2>&1\r\n"
       ]
      },
      {
       "output_type": "stream",
       "stream": "stdout",
       "text": [
        "mv -f .deps/qr.Tpo .deps/qr.Plo\r\n",
        "/bin/sh ../libtool --tag=CC   --mode=compile gcc -DHAVE_CONFIG_H -I. -I.. -I..    -g -O2 -MT qrpt.lo -MD -MP -MF .deps/qrpt.Tpo -c -o qrpt.lo qrpt.c\r\n"
       ]
      },
      {
       "output_type": "stream",
       "stream": "stdout",
       "text": [
        "libtool: compile:  gcc -DHAVE_CONFIG_H -I. -I.. -I.. -g -O2 -MT qrpt.lo -MD -MP -MF .deps/qrpt.Tpo -c qrpt.c  -fno-common -DPIC -o .libs/qrpt.o\r\n"
       ]
      },
      {
       "output_type": "stream",
       "stream": "stdout",
       "text": [
        "libtool: compile:  gcc -DHAVE_CONFIG_H -I. -I.. -I.. -g -O2 -MT qrpt.lo -MD -MP -MF .deps/qrpt.Tpo -c qrpt.c -o qrpt.o >/dev/null 2>&1\r\n"
       ]
      },
      {
       "output_type": "stream",
       "stream": "stdout",
       "text": [
        "mv -f .deps/qrpt.Tpo .deps/qrpt.Plo\r\n",
        "/bin/sh ../libtool --tag=CC   --mode=compile gcc -DHAVE_CONFIG_H -I. -I.. -I..    -g -O2 -MT lq.lo -MD -MP -MF .deps/lq.Tpo -c -o lq.lo lq.c\r\n"
       ]
      },
      {
       "output_type": "stream",
       "stream": "stdout",
       "text": [
        "libtool: compile:  gcc -DHAVE_CONFIG_H -I. -I.. -I.. -g -O2 -MT lq.lo -MD -MP -MF .deps/lq.Tpo -c lq.c  -fno-common -DPIC -o .libs/lq.o\r\n"
       ]
      },
      {
       "output_type": "stream",
       "stream": "stdout",
       "text": [
        "libtool: compile:  gcc -DHAVE_CONFIG_H -I. -I.. -I.. -g -O2 -MT lq.lo -MD -MP -MF .deps/lq.Tpo -c lq.c -o lq.o >/dev/null 2>&1\r\n"
       ]
      },
      {
       "output_type": "stream",
       "stream": "stdout",
       "text": [
        "mv -f .deps/lq.Tpo .deps/lq.Plo\r\n",
        "/bin/sh ../libtool --tag=CC   --mode=compile gcc -DHAVE_CONFIG_H -I. -I.. -I..    -g -O2 -MT ptlq.lo -MD -MP -MF .deps/ptlq.Tpo -c -o ptlq.lo ptlq.c\r\n",
        "libtool: compile:  gcc -DHAVE_CONFIG_H -I. -I.. -I.. -g -O2 -MT ptlq.lo -MD -MP -MF .deps/ptlq.Tpo -c ptlq.c  -fno-common -DPIC -o .libs/ptlq.o\r\n"
       ]
      },
      {
       "output_type": "stream",
       "stream": "stdout",
       "text": [
        "libtool: compile:  gcc -DHAVE_CONFIG_H -I. -I.. -I.. -g -O2 -MT ptlq.lo -MD -MP -MF .deps/ptlq.Tpo -c ptlq.c -o ptlq.o >/dev/null 2>&1\r\n"
       ]
      },
      {
       "output_type": "stream",
       "stream": "stdout",
       "text": [
        "mv -f .deps/ptlq.Tpo .deps/ptlq.Plo\r\n",
        "/bin/sh ../libtool --tag=CC   --mode=compile gcc -DHAVE_CONFIG_H -I. -I.. -I..    -g -O2 -MT svd.lo -MD -MP -MF .deps/svd.Tpo -c -o svd.lo svd.c\r\n",
        "libtool: compile:  gcc -DHAVE_CONFIG_H -I. -I.. -I.. -g -O2 -MT svd.lo -MD -MP -MF .deps/svd.Tpo -c svd.c  -fno-common -DPIC -o .libs/svd.o\r\n"
       ]
      },
      {
       "output_type": "stream",
       "stream": "stdout",
       "text": [
        "libtool: compile:  gcc -DHAVE_CONFIG_H -I. -I.. -I.. -g -O2 -MT svd.lo -MD -MP -MF .deps/svd.Tpo -c svd.c -o svd.o >/dev/null 2>&1\r\n"
       ]
      },
      {
       "output_type": "stream",
       "stream": "stdout",
       "text": [
        "mv -f .deps/svd.Tpo .deps/svd.Plo\r\n",
        "/bin/sh ../libtool --tag=CC   --mode=compile gcc -DHAVE_CONFIG_H -I. -I.. -I..    -g -O2 -MT householder.lo -MD -MP -MF .deps/householder.Tpo -c -o householder.lo householder.c\r\n",
        "libtool: compile:  gcc -DHAVE_CONFIG_H -I. -I.. -I.. -g -O2 -MT householder.lo -MD -MP -MF .deps/householder.Tpo -c householder.c  -fno-common -DPIC -o .libs/householder.o\r\n"
       ]
      },
      {
       "output_type": "stream",
       "stream": "stdout",
       "text": [
        "libtool: compile:  gcc -DHAVE_CONFIG_H -I. -I.. -I.. -g -O2 -MT householder.lo -MD -MP -MF .deps/householder.Tpo -c householder.c -o householder.o >/dev/null 2>&1\r\n"
       ]
      },
      {
       "output_type": "stream",
       "stream": "stdout",
       "text": [
        "mv -f .deps/householder.Tpo .deps/householder.Plo\r\n",
        "/bin/sh ../libtool --tag=CC   --mode=compile gcc -DHAVE_CONFIG_H -I. -I.. -I..    -g -O2 -MT householdercomplex.lo -MD -MP -MF .deps/householdercomplex.Tpo -c -o householdercomplex.lo householdercomplex.c\r\n"
       ]
      },
      {
       "output_type": "stream",
       "stream": "stdout",
       "text": [
        "libtool: compile:  gcc -DHAVE_CONFIG_H -I. -I.. -I.. -g -O2 -MT householdercomplex.lo -MD -MP -MF .deps/householdercomplex.Tpo -c householdercomplex.c  -fno-common -DPIC -o .libs/householdercomplex.o\r\n"
       ]
      },
      {
       "output_type": "stream",
       "stream": "stdout",
       "text": [
        "libtool: compile:  gcc -DHAVE_CONFIG_H -I. -I.. -I.. -g -O2 -MT householdercomplex.lo -MD -MP -MF .deps/householdercomplex.Tpo -c householdercomplex.c -o householdercomplex.o >/dev/null 2>&1\r\n"
       ]
      },
      {
       "output_type": "stream",
       "stream": "stdout",
       "text": [
        "mv -f .deps/householdercomplex.Tpo .deps/householdercomplex.Plo\r\n",
        "/bin/sh ../libtool --tag=CC   --mode=compile gcc -DHAVE_CONFIG_H -I. -I.. -I..    -g -O2 -MT hessenberg.lo -MD -MP -MF .deps/hessenberg.Tpo -c -o hessenberg.lo hessenberg.c\r\n"
       ]
      },
      {
       "output_type": "stream",
       "stream": "stdout",
       "text": [
        "libtool: compile:  gcc -DHAVE_CONFIG_H -I. -I.. -I.. -g -O2 -MT hessenberg.lo -MD -MP -MF .deps/hessenberg.Tpo -c hessenberg.c  -fno-common -DPIC -o .libs/hessenberg.o\r\n"
       ]
      },
      {
       "output_type": "stream",
       "stream": "stdout",
       "text": [
        "libtool: compile:  gcc -DHAVE_CONFIG_H -I. -I.. -I.. -g -O2 -MT hessenberg.lo -MD -MP -MF .deps/hessenberg.Tpo -c hessenberg.c -o hessenberg.o >/dev/null 2>&1\r\n"
       ]
      },
      {
       "output_type": "stream",
       "stream": "stdout",
       "text": [
        "mv -f .deps/hessenberg.Tpo .deps/hessenberg.Plo\r\n",
        "/bin/sh ../libtool --tag=CC   --mode=compile gcc -DHAVE_CONFIG_H -I. -I.. -I..    -g -O2 -MT hesstri.lo -MD -MP -MF .deps/hesstri.Tpo -c -o hesstri.lo hesstri.c\r\n"
       ]
      },
      {
       "output_type": "stream",
       "stream": "stdout",
       "text": [
        "libtool: compile:  gcc -DHAVE_CONFIG_H -I. -I.. -I.. -g -O2 -MT hesstri.lo -MD -MP -MF .deps/hesstri.Tpo -c hesstri.c  -fno-common -DPIC -o .libs/hesstri.o\r\n"
       ]
      },
      {
       "output_type": "stream",
       "stream": "stdout",
       "text": [
        "libtool: compile:  gcc -DHAVE_CONFIG_H -I. -I.. -I.. -g -O2 -MT hesstri.lo -MD -MP -MF .deps/hesstri.Tpo -c hesstri.c -o hesstri.o >/dev/null 2>&1\r\n"
       ]
      },
      {
       "output_type": "stream",
       "stream": "stdout",
       "text": [
        "mv -f .deps/hesstri.Tpo .deps/hesstri.Plo\r\n",
        "/bin/sh ../libtool --tag=CC   --mode=compile gcc -DHAVE_CONFIG_H -I. -I.. -I..    -g -O2 -MT cholesky.lo -MD -MP -MF .deps/cholesky.Tpo -c -o cholesky.lo cholesky.c\r\n"
       ]
      },
      {
       "output_type": "stream",
       "stream": "stdout",
       "text": [
        "libtool: compile:  gcc -DHAVE_CONFIG_H -I. -I.. -I.. -g -O2 -MT cholesky.lo -MD -MP -MF .deps/cholesky.Tpo -c cholesky.c  -fno-common -DPIC -o .libs/cholesky.o\r\n"
       ]
      },
      {
       "output_type": "stream",
       "stream": "stdout",
       "text": [
        "libtool: compile:  gcc -DHAVE_CONFIG_H -I. -I.. -I.. -g -O2 -MT cholesky.lo -MD -MP -MF .deps/cholesky.Tpo -c cholesky.c -o cholesky.o >/dev/null 2>&1\r\n"
       ]
      },
      {
       "output_type": "stream",
       "stream": "stdout",
       "text": [
        "mv -f .deps/cholesky.Tpo .deps/cholesky.Plo\r\n",
        "/bin/sh ../libtool --tag=CC   --mode=compile gcc -DHAVE_CONFIG_H -I. -I.. -I..    -g -O2 -MT choleskyc.lo -MD -MP -MF .deps/choleskyc.Tpo -c -o choleskyc.lo choleskyc.c\r\n",
        "libtool: compile:  gcc -DHAVE_CONFIG_H -I. -I.. -I.. -g -O2 -MT choleskyc.lo -MD -MP -MF .deps/choleskyc.Tpo -c choleskyc.c  -fno-common -DPIC -o .libs/choleskyc.o\r\n"
       ]
      },
      {
       "output_type": "stream",
       "stream": "stdout",
       "text": [
        "libtool: compile:  gcc -DHAVE_CONFIG_H -I. -I.. -I.. -g -O2 -MT choleskyc.lo -MD -MP -MF .deps/choleskyc.Tpo -c choleskyc.c -o choleskyc.o >/dev/null 2>&1\r\n"
       ]
      },
      {
       "output_type": "stream",
       "stream": "stdout",
       "text": [
        "mv -f .deps/choleskyc.Tpo .deps/choleskyc.Plo\r\n",
        "/bin/sh ../libtool --tag=CC   --mode=compile gcc -DHAVE_CONFIG_H -I. -I.. -I..    -g -O2 -MT symmtd.lo -MD -MP -MF .deps/symmtd.Tpo -c -o symmtd.lo symmtd.c\r\n",
        "libtool: compile:  gcc -DHAVE_CONFIG_H -I. -I.. -I.. -g -O2 -MT symmtd.lo -MD -MP -MF .deps/symmtd.Tpo -c symmtd.c  -fno-common -DPIC -o .libs/symmtd.o\r\n"
       ]
      },
      {
       "output_type": "stream",
       "stream": "stdout",
       "text": [
        "libtool: compile:  gcc -DHAVE_CONFIG_H -I. -I.. -I.. -g -O2 -MT symmtd.lo -MD -MP -MF .deps/symmtd.Tpo -c symmtd.c -o symmtd.o >/dev/null 2>&1\r\n"
       ]
      },
      {
       "output_type": "stream",
       "stream": "stdout",
       "text": [
        "mv -f .deps/symmtd.Tpo .deps/symmtd.Plo\r\n",
        "/bin/sh ../libtool --tag=CC   --mode=compile gcc -DHAVE_CONFIG_H -I. -I.. -I..    -g -O2 -MT hermtd.lo -MD -MP -MF .deps/hermtd.Tpo -c -o hermtd.lo hermtd.c\r\n"
       ]
      },
      {
       "output_type": "stream",
       "stream": "stdout",
       "text": [
        "libtool: compile:  gcc -DHAVE_CONFIG_H -I. -I.. -I.. -g -O2 -MT hermtd.lo -MD -MP -MF .deps/hermtd.Tpo -c hermtd.c  -fno-common -DPIC -o .libs/hermtd.o\r\n"
       ]
      },
      {
       "output_type": "stream",
       "stream": "stdout",
       "text": [
        "libtool: compile:  gcc -DHAVE_CONFIG_H -I. -I.. -I.. -g -O2 -MT hermtd.lo -MD -MP -MF .deps/hermtd.Tpo -c hermtd.c -o hermtd.o >/dev/null 2>&1\r\n"
       ]
      },
      {
       "output_type": "stream",
       "stream": "stdout",
       "text": [
        "mv -f .deps/hermtd.Tpo .deps/hermtd.Plo\r\n",
        "/bin/sh ../libtool --tag=CC   --mode=compile gcc -DHAVE_CONFIG_H -I. -I.. -I..    -g -O2 -MT bidiag.lo -MD -MP -MF .deps/bidiag.Tpo -c -o bidiag.lo bidiag.c\r\n",
        "libtool: compile:  gcc -DHAVE_CONFIG_H -I. -I.. -I.. -g -O2 -MT bidiag.lo -MD -MP -MF .deps/bidiag.Tpo -c bidiag.c  -fno-common -DPIC -o .libs/bidiag.o\r\n"
       ]
      },
      {
       "output_type": "stream",
       "stream": "stdout",
       "text": [
        "libtool: compile:  gcc -DHAVE_CONFIG_H -I. -I.. -I.. -g -O2 -MT bidiag.lo -MD -MP -MF .deps/bidiag.Tpo -c bidiag.c -o bidiag.o >/dev/null 2>&1\r\n"
       ]
      },
      {
       "output_type": "stream",
       "stream": "stdout",
       "text": [
        "mv -f .deps/bidiag.Tpo .deps/bidiag.Plo\r\n",
        "/bin/sh ../libtool --tag=CC   --mode=compile gcc -DHAVE_CONFIG_H -I. -I.. -I..    -g -O2 -MT balance.lo -MD -MP -MF .deps/balance.Tpo -c -o balance.lo balance.c\r\n"
       ]
      },
      {
       "output_type": "stream",
       "stream": "stdout",
       "text": [
        "libtool: compile:  gcc -DHAVE_CONFIG_H -I. -I.. -I.. -g -O2 -MT balance.lo -MD -MP -MF .deps/balance.Tpo -c balance.c  -fno-common -DPIC -o .libs/balance.o\r\n"
       ]
      },
      {
       "output_type": "stream",
       "stream": "stdout",
       "text": [
        "libtool: compile:  gcc -DHAVE_CONFIG_H -I. -I.. -I.. -g -O2 -MT balance.lo -MD -MP -MF .deps/balance.Tpo -c balance.c -o balance.o >/dev/null 2>&1\r\n"
       ]
      },
      {
       "output_type": "stream",
       "stream": "stdout",
       "text": [
        "mv -f .deps/balance.Tpo .deps/balance.Plo\r\n",
        "/bin/sh ../libtool --tag=CC   --mode=compile gcc -DHAVE_CONFIG_H -I. -I.. -I..    -g -O2 -MT balancemat.lo -MD -MP -MF .deps/balancemat.Tpo -c -o balancemat.lo balancemat.c\r\n",
        "libtool: compile:  gcc -DHAVE_CONFIG_H -I. -I.. -I.. -g -O2 -MT balancemat.lo -MD -MP -MF .deps/balancemat.Tpo -c balancemat.c  -fno-common -DPIC -o .libs/balancemat.o\r\n"
       ]
      },
      {
       "output_type": "stream",
       "stream": "stdout",
       "text": [
        "libtool: compile:  gcc -DHAVE_CONFIG_H -I. -I.. -I.. -g -O2 -MT balancemat.lo -MD -MP -MF .deps/balancemat.Tpo -c balancemat.c -o balancemat.o >/dev/null 2>&1\r\n"
       ]
      },
      {
       "output_type": "stream",
       "stream": "stdout",
       "text": [
        "mv -f .deps/balancemat.Tpo .deps/balancemat.Plo\r\n",
        "/bin/sh ../libtool --tag=CC   --mode=link gcc  -g -O2   -o libgsllinalg.la  multiply.lo exponential.lo tridiag.lo lu.lo luc.lo hh.lo qr.lo qrpt.lo lq.lo ptlq.lo svd.lo householder.lo householdercomplex.lo hessenberg.lo hesstri.lo cholesky.lo choleskyc.lo symmtd.lo hermtd.lo bidiag.lo balance.lo balancemat.lo  -lm \r\n"
       ]
      },
      {
       "output_type": "stream",
       "stream": "stdout",
       "text": [
        "libtool: link: ar cru .libs/libgsllinalg.a .libs/multiply.o .libs/exponential.o .libs/tridiag.o .libs/lu.o .libs/luc.o .libs/hh.o .libs/qr.o .libs/qrpt.o .libs/lq.o .libs/ptlq.o .libs/svd.o .libs/householder.o .libs/householdercomplex.o .libs/hessenberg.o .libs/hesstri.o .libs/cholesky.o .libs/choleskyc.o .libs/symmtd.o .libs/hermtd.o .libs/bidiag.o .libs/balance.o .libs/balancemat.o \r\n"
       ]
      },
      {
       "output_type": "stream",
       "stream": "stdout",
       "text": [
        "libtool: link: ranlib .libs/libgsllinalg.a\r\n"
       ]
      },
      {
       "output_type": "stream",
       "stream": "stdout",
       "text": [
        "libtool: link: ( cd \".libs\" && rm -f \"libgsllinalg.la\" && ln -s \"../libgsllinalg.la\" \"libgsllinalg.la\" )\r\n",
        "Making all in eigen\r\n"
       ]
      },
      {
       "output_type": "stream",
       "stream": "stdout",
       "text": [
        "/bin/sh ../libtool --tag=CC   --mode=compile gcc -DHAVE_CONFIG_H -I. -I.. -I..    -g -O2 -MT jacobi.lo -MD -MP -MF .deps/jacobi.Tpo -c -o jacobi.lo jacobi.c\r\n",
        "libtool: compile:  gcc -DHAVE_CONFIG_H -I. -I.. -I.. -g -O2 -MT jacobi.lo -MD -MP -MF .deps/jacobi.Tpo -c jacobi.c  -fno-common -DPIC -o .libs/jacobi.o\r\n"
       ]
      },
      {
       "output_type": "stream",
       "stream": "stdout",
       "text": [
        "libtool: compile:  gcc -DHAVE_CONFIG_H -I. -I.. -I.. -g -O2 -MT jacobi.lo -MD -MP -MF .deps/jacobi.Tpo -c jacobi.c -o jacobi.o >/dev/null 2>&1\r\n"
       ]
      },
      {
       "output_type": "stream",
       "stream": "stdout",
       "text": [
        "mv -f .deps/jacobi.Tpo .deps/jacobi.Plo\r\n",
        "/bin/sh ../libtool --tag=CC   --mode=compile gcc -DHAVE_CONFIG_H -I. -I.. -I..    -g -O2 -MT symm.lo -MD -MP -MF .deps/symm.Tpo -c -o symm.lo symm.c\r\n"
       ]
      },
      {
       "output_type": "stream",
       "stream": "stdout",
       "text": [
        "libtool: compile:  gcc -DHAVE_CONFIG_H -I. -I.. -I.. -g -O2 -MT symm.lo -MD -MP -MF .deps/symm.Tpo -c symm.c  -fno-common -DPIC -o .libs/symm.o\r\n"
       ]
      },
      {
       "output_type": "stream",
       "stream": "stdout",
       "text": [
        "libtool: compile:  gcc -DHAVE_CONFIG_H -I. -I.. -I.. -g -O2 -MT symm.lo -MD -MP -MF .deps/symm.Tpo -c symm.c -o symm.o >/dev/null 2>&1\r\n"
       ]
      },
      {
       "output_type": "stream",
       "stream": "stdout",
       "text": [
        "mv -f .deps/symm.Tpo .deps/symm.Plo\r\n",
        "/bin/sh ../libtool --tag=CC   --mode=compile gcc -DHAVE_CONFIG_H -I. -I.. -I..    -g -O2 -MT symmv.lo -MD -MP -MF .deps/symmv.Tpo -c -o symmv.lo symmv.c\r\n"
       ]
      },
      {
       "output_type": "stream",
       "stream": "stdout",
       "text": [
        "libtool: compile:  gcc -DHAVE_CONFIG_H -I. -I.. -I.. -g -O2 -MT symmv.lo -MD -MP -MF .deps/symmv.Tpo -c symmv.c  -fno-common -DPIC -o .libs/symmv.o\r\n"
       ]
      },
      {
       "output_type": "stream",
       "stream": "stdout",
       "text": [
        "libtool: compile:  gcc -DHAVE_CONFIG_H -I. -I.. -I.. -g -O2 -MT symmv.lo -MD -MP -MF .deps/symmv.Tpo -c symmv.c -o symmv.o >/dev/null 2>&1\r\n"
       ]
      },
      {
       "output_type": "stream",
       "stream": "stdout",
       "text": [
        "mv -f .deps/symmv.Tpo .deps/symmv.Plo\r\n",
        "/bin/sh ../libtool --tag=CC   --mode=compile gcc -DHAVE_CONFIG_H -I. -I.. -I..    -g -O2 -MT nonsymm.lo -MD -MP -MF .deps/nonsymm.Tpo -c -o nonsymm.lo nonsymm.c\r\n"
       ]
      },
      {
       "output_type": "stream",
       "stream": "stdout",
       "text": [
        "libtool: compile:  gcc -DHAVE_CONFIG_H -I. -I.. -I.. -g -O2 -MT nonsymm.lo -MD -MP -MF .deps/nonsymm.Tpo -c nonsymm.c  -fno-common -DPIC -o .libs/nonsymm.o\r\n"
       ]
      },
      {
       "output_type": "stream",
       "stream": "stdout",
       "text": [
        "libtool: compile:  gcc -DHAVE_CONFIG_H -I. -I.. -I.. -g -O2 -MT nonsymm.lo -MD -MP -MF .deps/nonsymm.Tpo -c nonsymm.c -o nonsymm.o >/dev/null 2>&1\r\n"
       ]
      },
      {
       "output_type": "stream",
       "stream": "stdout",
       "text": [
        "mv -f .deps/nonsymm.Tpo .deps/nonsymm.Plo\r\n",
        "/bin/sh ../libtool --tag=CC   --mode=compile gcc -DHAVE_CONFIG_H -I. -I.. -I..    -g -O2 -MT nonsymmv.lo -MD -MP -MF .deps/nonsymmv.Tpo -c -o nonsymmv.lo nonsymmv.c\r\n"
       ]
      },
      {
       "output_type": "stream",
       "stream": "stdout",
       "text": [
        "libtool: compile:  gcc -DHAVE_CONFIG_H -I. -I.. -I.. -g -O2 -MT nonsymmv.lo -MD -MP -MF .deps/nonsymmv.Tpo -c nonsymmv.c  -fno-common -DPIC -o .libs/nonsymmv.o\r\n"
       ]
      },
      {
       "output_type": "stream",
       "stream": "stdout",
       "text": [
        "libtool: compile:  gcc -DHAVE_CONFIG_H -I. -I.. -I.. -g -O2 -MT nonsymmv.lo -MD -MP -MF .deps/nonsymmv.Tpo -c nonsymmv.c -o nonsymmv.o >/dev/null 2>&1\r\n"
       ]
      },
      {
       "output_type": "stream",
       "stream": "stdout",
       "text": [
        "mv -f .deps/nonsymmv.Tpo .deps/nonsymmv.Plo\r\n",
        "/bin/sh ../libtool --tag=CC   --mode=compile gcc -DHAVE_CONFIG_H -I. -I.. -I..    -g -O2 -MT herm.lo -MD -MP -MF .deps/herm.Tpo -c -o herm.lo herm.c\r\n"
       ]
      },
      {
       "output_type": "stream",
       "stream": "stdout",
       "text": [
        "libtool: compile:  gcc -DHAVE_CONFIG_H -I. -I.. -I.. -g -O2 -MT herm.lo -MD -MP -MF .deps/herm.Tpo -c herm.c  -fno-common -DPIC -o .libs/herm.o\r\n"
       ]
      },
      {
       "output_type": "stream",
       "stream": "stdout",
       "text": [
        "libtool: compile:  gcc -DHAVE_CONFIG_H -I. -I.. -I.. -g -O2 -MT herm.lo -MD -MP -MF .deps/herm.Tpo -c herm.c -o herm.o >/dev/null 2>&1\r\n"
       ]
      },
      {
       "output_type": "stream",
       "stream": "stdout",
       "text": [
        "mv -f .deps/herm.Tpo .deps/herm.Plo\r\n",
        "/bin/sh ../libtool --tag=CC   --mode=compile gcc -DHAVE_CONFIG_H -I. -I.. -I..    -g -O2 -MT hermv.lo -MD -MP -MF .deps/hermv.Tpo -c -o hermv.lo hermv.c\r\n",
        "libtool: compile:  gcc -DHAVE_CONFIG_H -I. -I.. -I.. -g -O2 -MT hermv.lo -MD -MP -MF .deps/hermv.Tpo -c hermv.c  -fno-common -DPIC -o .libs/hermv.o\r\n"
       ]
      },
      {
       "output_type": "stream",
       "stream": "stdout",
       "text": [
        "libtool: compile:  gcc -DHAVE_CONFIG_H -I. -I.. -I.. -g -O2 -MT hermv.lo -MD -MP -MF .deps/hermv.Tpo -c hermv.c -o hermv.o >/dev/null 2>&1\r\n"
       ]
      },
      {
       "output_type": "stream",
       "stream": "stdout",
       "text": [
        "mv -f .deps/hermv.Tpo .deps/hermv.Plo\r\n",
        "/bin/sh ../libtool --tag=CC   --mode=compile gcc -DHAVE_CONFIG_H -I. -I.. -I..    -g -O2 -MT gensymm.lo -MD -MP -MF .deps/gensymm.Tpo -c -o gensymm.lo gensymm.c\r\n",
        "libtool: compile:  gcc -DHAVE_CONFIG_H -I. -I.. -I.. -g -O2 -MT gensymm.lo -MD -MP -MF .deps/gensymm.Tpo -c gensymm.c  -fno-common -DPIC -o .libs/gensymm.o\r\n"
       ]
      },
      {
       "output_type": "stream",
       "stream": "stdout",
       "text": [
        "libtool: compile:  gcc -DHAVE_CONFIG_H -I. -I.. -I.. -g -O2 -MT gensymm.lo -MD -MP -MF .deps/gensymm.Tpo -c gensymm.c -o gensymm.o >/dev/null 2>&1\r\n"
       ]
      },
      {
       "output_type": "stream",
       "stream": "stdout",
       "text": [
        "mv -f .deps/gensymm.Tpo .deps/gensymm.Plo\r\n"
       ]
      },
      {
       "output_type": "stream",
       "stream": "stdout",
       "text": [
        "/bin/sh ../libtool --tag=CC   --mode=compile gcc -DHAVE_CONFIG_H -I. -I.. -I..    -g -O2 -MT gensymmv.lo -MD -MP -MF .deps/gensymmv.Tpo -c -o gensymmv.lo gensymmv.c\r\n",
        "libtool: compile:  gcc -DHAVE_CONFIG_H -I. -I.. -I.. -g -O2 -MT gensymmv.lo -MD -MP -MF .deps/gensymmv.Tpo -c gensymmv.c  -fno-common -DPIC -o .libs/gensymmv.o\r\n"
       ]
      },
      {
       "output_type": "stream",
       "stream": "stdout",
       "text": [
        "libtool: compile:  gcc -DHAVE_CONFIG_H -I. -I.. -I.. -g -O2 -MT gensymmv.lo -MD -MP -MF .deps/gensymmv.Tpo -c gensymmv.c -o gensymmv.o >/dev/null 2>&1\r\n"
       ]
      },
      {
       "output_type": "stream",
       "stream": "stdout",
       "text": [
        "mv -f .deps/gensymmv.Tpo .deps/gensymmv.Plo\r\n",
        "/bin/sh ../libtool --tag=CC   --mode=compile gcc -DHAVE_CONFIG_H -I. -I.. -I..    -g -O2 -MT genherm.lo -MD -MP -MF .deps/genherm.Tpo -c -o genherm.lo genherm.c\r\n",
        "libtool: compile:  gcc -DHAVE_CONFIG_H -I. -I.. -I.. -g -O2 -MT genherm.lo -MD -MP -MF .deps/genherm.Tpo -c genherm.c  -fno-common -DPIC -o .libs/genherm.o\r\n"
       ]
      },
      {
       "output_type": "stream",
       "stream": "stdout",
       "text": [
        "libtool: compile:  gcc -DHAVE_CONFIG_H -I. -I.. -I.. -g -O2 -MT genherm.lo -MD -MP -MF .deps/genherm.Tpo -c genherm.c -o genherm.o >/dev/null 2>&1\r\n"
       ]
      },
      {
       "output_type": "stream",
       "stream": "stdout",
       "text": [
        "mv -f .deps/genherm.Tpo .deps/genherm.Plo\r\n",
        "/bin/sh ../libtool --tag=CC   --mode=compile gcc -DHAVE_CONFIG_H -I. -I.. -I..    -g -O2 -MT genhermv.lo -MD -MP -MF .deps/genhermv.Tpo -c -o genhermv.lo genhermv.c\r\n",
        "libtool: compile:  gcc -DHAVE_CONFIG_H -I. -I.. -I.. -g -O2 -MT genhermv.lo -MD -MP -MF .deps/genhermv.Tpo -c genhermv.c  -fno-common -DPIC -o .libs/genhermv.o\r\n"
       ]
      },
      {
       "output_type": "stream",
       "stream": "stdout",
       "text": [
        "libtool: compile:  gcc -DHAVE_CONFIG_H -I. -I.. -I.. -g -O2 -MT genhermv.lo -MD -MP -MF .deps/genhermv.Tpo -c genhermv.c -o genhermv.o >/dev/null 2>&1\r\n"
       ]
      },
      {
       "output_type": "stream",
       "stream": "stdout",
       "text": [
        "mv -f .deps/genhermv.Tpo .deps/genhermv.Plo\r\n",
        "/bin/sh ../libtool --tag=CC   --mode=compile gcc -DHAVE_CONFIG_H -I. -I.. -I..    -g -O2 -MT gen.lo -MD -MP -MF .deps/gen.Tpo -c -o gen.lo gen.c\r\n"
       ]
      },
      {
       "output_type": "stream",
       "stream": "stdout",
       "text": [
        "libtool: compile:  gcc -DHAVE_CONFIG_H -I. -I.. -I.. -g -O2 -MT gen.lo -MD -MP -MF .deps/gen.Tpo -c gen.c  -fno-common -DPIC -o .libs/gen.o\r\n"
       ]
      },
      {
       "output_type": "stream",
       "stream": "stdout",
       "text": [
        "libtool: compile:  gcc -DHAVE_CONFIG_H -I. -I.. -I.. -g -O2 -MT gen.lo -MD -MP -MF .deps/gen.Tpo -c gen.c -o gen.o >/dev/null 2>&1\r\n"
       ]
      },
      {
       "output_type": "stream",
       "stream": "stdout",
       "text": [
        "mv -f .deps/gen.Tpo .deps/gen.Plo\r\n"
       ]
      },
      {
       "output_type": "stream",
       "stream": "stdout",
       "text": [
        "/bin/sh ../libtool --tag=CC   --mode=compile gcc -DHAVE_CONFIG_H -I. -I.. -I..    -g -O2 -MT genv.lo -MD -MP -MF .deps/genv.Tpo -c -o genv.lo genv.c\r\n",
        "libtool: compile:  gcc -DHAVE_CONFIG_H -I. -I.. -I.. -g -O2 -MT genv.lo -MD -MP -MF .deps/genv.Tpo -c genv.c  -fno-common -DPIC -o .libs/genv.o\r\n"
       ]
      },
      {
       "output_type": "stream",
       "stream": "stdout",
       "text": [
        "libtool: compile:  gcc -DHAVE_CONFIG_H -I. -I.. -I.. -g -O2 -MT genv.lo -MD -MP -MF .deps/genv.Tpo -c genv.c -o genv.o >/dev/null 2>&1\r\n"
       ]
      },
      {
       "output_type": "stream",
       "stream": "stdout",
       "text": [
        "mv -f .deps/genv.Tpo .deps/genv.Plo\r\n",
        "/bin/sh ../libtool --tag=CC   --mode=compile gcc -DHAVE_CONFIG_H -I. -I.. -I..    -g -O2 -MT sort.lo -MD -MP -MF .deps/sort.Tpo -c -o sort.lo sort.c\r\n"
       ]
      },
      {
       "output_type": "stream",
       "stream": "stdout",
       "text": [
        "libtool: compile:  gcc -DHAVE_CONFIG_H -I. -I.. -I.. -g -O2 -MT sort.lo -MD -MP -MF .deps/sort.Tpo -c sort.c  -fno-common -DPIC -o .libs/sort.o\r\n"
       ]
      },
      {
       "output_type": "stream",
       "stream": "stdout",
       "text": [
        "libtool: compile:  gcc -DHAVE_CONFIG_H -I. -I.. -I.. -g -O2 -MT sort.lo -MD -MP -MF .deps/sort.Tpo -c sort.c -o sort.o >/dev/null 2>&1\r\n"
       ]
      },
      {
       "output_type": "stream",
       "stream": "stdout",
       "text": [
        "mv -f .deps/sort.Tpo .deps/sort.Plo\r\n"
       ]
      },
      {
       "output_type": "stream",
       "stream": "stdout",
       "text": [
        "/bin/sh ../libtool --tag=CC   --mode=compile gcc -DHAVE_CONFIG_H -I. -I.. -I..    -g -O2 -MT francis.lo -MD -MP -MF .deps/francis.Tpo -c -o francis.lo francis.c\r\n",
        "libtool: compile:  gcc -DHAVE_CONFIG_H -I. -I.. -I.. -g -O2 -MT francis.lo -MD -MP -MF .deps/francis.Tpo -c francis.c  -fno-common -DPIC -o .libs/francis.o\r\n"
       ]
      },
      {
       "output_type": "stream",
       "stream": "stdout",
       "text": [
        "libtool: compile:  gcc -DHAVE_CONFIG_H -I. -I.. -I.. -g -O2 -MT francis.lo -MD -MP -MF .deps/francis.Tpo -c francis.c -o francis.o >/dev/null 2>&1\r\n"
       ]
      },
      {
       "output_type": "stream",
       "stream": "stdout",
       "text": [
        "mv -f .deps/francis.Tpo .deps/francis.Plo\r\n",
        "/bin/sh ../libtool --tag=CC   --mode=compile gcc -DHAVE_CONFIG_H -I. -I.. -I..    -g -O2 -MT schur.lo -MD -MP -MF .deps/schur.Tpo -c -o schur.lo schur.c\r\n"
       ]
      },
      {
       "output_type": "stream",
       "stream": "stdout",
       "text": [
        "libtool: compile:  gcc -DHAVE_CONFIG_H -I. -I.. -I.. -g -O2 -MT schur.lo -MD -MP -MF .deps/schur.Tpo -c schur.c  -fno-common -DPIC -o .libs/schur.o\r\n"
       ]
      },
      {
       "output_type": "stream",
       "stream": "stdout",
       "text": [
        "libtool: compile:  gcc -DHAVE_CONFIG_H -I. -I.. -I.. -g -O2 -MT schur.lo -MD -MP -MF .deps/schur.Tpo -c schur.c -o schur.o >/dev/null 2>&1\r\n"
       ]
      },
      {
       "output_type": "stream",
       "stream": "stdout",
       "text": [
        "mv -f .deps/schur.Tpo .deps/schur.Plo\r\n",
        "/bin/sh ../libtool --tag=CC   --mode=link gcc  -g -O2   -o libgsleigen.la  jacobi.lo symm.lo symmv.lo nonsymm.lo nonsymmv.lo herm.lo hermv.lo gensymm.lo gensymmv.lo genherm.lo genhermv.lo gen.lo genv.lo sort.lo francis.lo schur.lo  -lm \r\n"
       ]
      },
      {
       "output_type": "stream",
       "stream": "stdout",
       "text": [
        "libtool: link: ar cru .libs/libgsleigen.a .libs/jacobi.o .libs/symm.o .libs/symmv.o .libs/nonsymm.o .libs/nonsymmv.o .libs/herm.o .libs/hermv.o .libs/gensymm.o .libs/gensymmv.o .libs/genherm.o .libs/genhermv.o .libs/gen.o .libs/genv.o .libs/sort.o .libs/francis.o .libs/schur.o \r\n"
       ]
      },
      {
       "output_type": "stream",
       "stream": "stdout",
       "text": [
        "libtool: link: ranlib .libs/libgsleigen.a\r\n"
       ]
      },
      {
       "output_type": "stream",
       "stream": "stdout",
       "text": [
        "libtool: link: ( cd \".libs\" && rm -f \"libgsleigen.la\" && ln -s \"../libgsleigen.la\" \"libgsleigen.la\" )\r\n",
        "Making all in specfunc\r\n"
       ]
      },
      {
       "output_type": "stream",
       "stream": "stdout",
       "text": [
        "/bin/sh ../libtool --tag=CC   --mode=compile gcc -DHAVE_CONFIG_H -I. -I.. -I..    -g -O2 -MT airy.lo -MD -MP -MF .deps/airy.Tpo -c -o airy.lo airy.c\r\n",
        "libtool: compile:  gcc -DHAVE_CONFIG_H -I. -I.. -I.. -g -O2 -MT airy.lo -MD -MP -MF .deps/airy.Tpo -c airy.c  -fno-common -DPIC -o .libs/airy.o\r\n"
       ]
      },
      {
       "output_type": "stream",
       "stream": "stdout",
       "text": [
        "libtool: compile:  gcc -DHAVE_CONFIG_H -I. -I.. -I.. -g -O2 -MT airy.lo -MD -MP -MF .deps/airy.Tpo -c airy.c -o airy.o >/dev/null 2>&1\r\n"
       ]
      },
      {
       "output_type": "stream",
       "stream": "stdout",
       "text": [
        "mv -f .deps/airy.Tpo .deps/airy.Plo\r\n",
        "/bin/sh ../libtool --tag=CC   --mode=compile gcc -DHAVE_CONFIG_H -I. -I.. -I..    -g -O2 -MT airy_der.lo -MD -MP -MF .deps/airy_der.Tpo -c -o airy_der.lo airy_der.c\r\n",
        "libtool: compile:  gcc -DHAVE_CONFIG_H -I. -I.. -I.. -g -O2 -MT airy_der.lo -MD -MP -MF .deps/airy_der.Tpo -c airy_der.c  -fno-common -DPIC -o .libs/airy_der.o\r\n"
       ]
      },
      {
       "output_type": "stream",
       "stream": "stdout",
       "text": [
        "libtool: compile:  gcc -DHAVE_CONFIG_H -I. -I.. -I.. -g -O2 -MT airy_der.lo -MD -MP -MF .deps/airy_der.Tpo -c airy_der.c -o airy_der.o >/dev/null 2>&1\r\n"
       ]
      },
      {
       "output_type": "stream",
       "stream": "stdout",
       "text": [
        "mv -f .deps/airy_der.Tpo .deps/airy_der.Plo\r\n",
        "/bin/sh ../libtool --tag=CC   --mode=compile gcc -DHAVE_CONFIG_H -I. -I.. -I..    -g -O2 -MT airy_zero.lo -MD -MP -MF .deps/airy_zero.Tpo -c -o airy_zero.lo airy_zero.c\r\n"
       ]
      },
      {
       "output_type": "stream",
       "stream": "stdout",
       "text": [
        "libtool: compile:  gcc -DHAVE_CONFIG_H -I. -I.. -I.. -g -O2 -MT airy_zero.lo -MD -MP -MF .deps/airy_zero.Tpo -c airy_zero.c  -fno-common -DPIC -o .libs/airy_zero.o\r\n"
       ]
      },
      {
       "output_type": "stream",
       "stream": "stdout",
       "text": [
        "libtool: compile:  gcc -DHAVE_CONFIG_H -I. -I.. -I.. -g -O2 -MT airy_zero.lo -MD -MP -MF .deps/airy_zero.Tpo -c airy_zero.c -o airy_zero.o >/dev/null 2>&1\r\n"
       ]
      },
      {
       "output_type": "stream",
       "stream": "stdout",
       "text": [
        "mv -f .deps/airy_zero.Tpo .deps/airy_zero.Plo\r\n",
        "/bin/sh ../libtool --tag=CC   --mode=compile gcc -DHAVE_CONFIG_H -I. -I.. -I..    -g -O2 -MT atanint.lo -MD -MP -MF .deps/atanint.Tpo -c -o atanint.lo atanint.c\r\n",
        "libtool: compile:  gcc -DHAVE_CONFIG_H -I. -I.. -I.. -g -O2 -MT atanint.lo -MD -MP -MF .deps/atanint.Tpo -c atanint.c  -fno-common -DPIC -o .libs/atanint.o\r\n"
       ]
      },
      {
       "output_type": "stream",
       "stream": "stdout",
       "text": [
        "libtool: compile:  gcc -DHAVE_CONFIG_H -I. -I.. -I.. -g -O2 -MT atanint.lo -MD -MP -MF .deps/atanint.Tpo -c atanint.c -o atanint.o >/dev/null 2>&1\r\n"
       ]
      },
      {
       "output_type": "stream",
       "stream": "stdout",
       "text": [
        "mv -f .deps/atanint.Tpo .deps/atanint.Plo\r\n",
        "/bin/sh ../libtool --tag=CC   --mode=compile gcc -DHAVE_CONFIG_H -I. -I.. -I..    -g -O2 -MT bessel.lo -MD -MP -MF .deps/bessel.Tpo -c -o bessel.lo bessel.c\r\n"
       ]
      },
      {
       "output_type": "stream",
       "stream": "stdout",
       "text": [
        "libtool: compile:  gcc -DHAVE_CONFIG_H -I. -I.. -I.. -g -O2 -MT bessel.lo -MD -MP -MF .deps/bessel.Tpo -c bessel.c  -fno-common -DPIC -o .libs/bessel.o\r\n"
       ]
      },
      {
       "output_type": "stream",
       "stream": "stdout",
       "text": [
        "libtool: compile:  gcc -DHAVE_CONFIG_H -I. -I.. -I.. -g -O2 -MT bessel.lo -MD -MP -MF .deps/bessel.Tpo -c bessel.c -o bessel.o >/dev/null 2>&1\r\n"
       ]
      },
      {
       "output_type": "stream",
       "stream": "stdout",
       "text": [
        "mv -f .deps/bessel.Tpo .deps/bessel.Plo\r\n",
        "/bin/sh ../libtool --tag=CC   --mode=compile gcc -DHAVE_CONFIG_H -I. -I.. -I..    -g -O2 -MT bessel_I0.lo -MD -MP -MF .deps/bessel_I0.Tpo -c -o bessel_I0.lo bessel_I0.c\r\n",
        "libtool: compile:  gcc -DHAVE_CONFIG_H -I. -I.. -I.. -g -O2 -MT bessel_I0.lo -MD -MP -MF .deps/bessel_I0.Tpo -c bessel_I0.c  -fno-common -DPIC -o .libs/bessel_I0.o\r\n"
       ]
      },
      {
       "output_type": "stream",
       "stream": "stdout",
       "text": [
        "libtool: compile:  gcc -DHAVE_CONFIG_H -I. -I.. -I.. -g -O2 -MT bessel_I0.lo -MD -MP -MF .deps/bessel_I0.Tpo -c bessel_I0.c -o bessel_I0.o >/dev/null 2>&1\r\n"
       ]
      },
      {
       "output_type": "stream",
       "stream": "stdout",
       "text": [
        "mv -f .deps/bessel_I0.Tpo .deps/bessel_I0.Plo\r\n",
        "/bin/sh ../libtool --tag=CC   --mode=compile gcc -DHAVE_CONFIG_H -I. -I.. -I..    -g -O2 -MT bessel_I1.lo -MD -MP -MF .deps/bessel_I1.Tpo -c -o bessel_I1.lo bessel_I1.c\r\n",
        "libtool: compile:  gcc -DHAVE_CONFIG_H -I. -I.. -I.. -g -O2 -MT bessel_I1.lo -MD -MP -MF .deps/bessel_I1.Tpo -c bessel_I1.c  -fno-common -DPIC -o .libs/bessel_I1.o\r\n"
       ]
      },
      {
       "output_type": "stream",
       "stream": "stdout",
       "text": [
        "libtool: compile:  gcc -DHAVE_CONFIG_H -I. -I.. -I.. -g -O2 -MT bessel_I1.lo -MD -MP -MF .deps/bessel_I1.Tpo -c bessel_I1.c -o bessel_I1.o >/dev/null 2>&1\r\n"
       ]
      },
      {
       "output_type": "stream",
       "stream": "stdout",
       "text": [
        "mv -f .deps/bessel_I1.Tpo .deps/bessel_I1.Plo\r\n",
        "/bin/sh ../libtool --tag=CC   --mode=compile gcc -DHAVE_CONFIG_H -I. -I.. -I..    -g -O2 -MT bessel_In.lo -MD -MP -MF .deps/bessel_In.Tpo -c -o bessel_In.lo bessel_In.c\r\n",
        "libtool: compile:  gcc -DHAVE_CONFIG_H -I. -I.. -I.. -g -O2 -MT bessel_In.lo -MD -MP -MF .deps/bessel_In.Tpo -c bessel_In.c  -fno-common -DPIC -o .libs/bessel_In.o\r\n"
       ]
      },
      {
       "output_type": "stream",
       "stream": "stdout",
       "text": [
        "libtool: compile:  gcc -DHAVE_CONFIG_H -I. -I.. -I.. -g -O2 -MT bessel_In.lo -MD -MP -MF .deps/bessel_In.Tpo -c bessel_In.c -o bessel_In.o >/dev/null 2>&1\r\n"
       ]
      },
      {
       "output_type": "stream",
       "stream": "stdout",
       "text": [
        "mv -f .deps/bessel_In.Tpo .deps/bessel_In.Plo\r\n"
       ]
      },
      {
       "output_type": "stream",
       "stream": "stdout",
       "text": [
        "/bin/sh ../libtool --tag=CC   --mode=compile gcc -DHAVE_CONFIG_H -I. -I.. -I..    -g -O2 -MT bessel_Inu.lo -MD -MP -MF .deps/bessel_Inu.Tpo -c -o bessel_Inu.lo bessel_Inu.c\r\n",
        "libtool: compile:  gcc -DHAVE_CONFIG_H -I. -I.. -I.. -g -O2 -MT bessel_Inu.lo -MD -MP -MF .deps/bessel_Inu.Tpo -c bessel_Inu.c  -fno-common -DPIC -o .libs/bessel_Inu.o\r\n"
       ]
      },
      {
       "output_type": "stream",
       "stream": "stdout",
       "text": [
        "libtool: compile:  gcc -DHAVE_CONFIG_H -I. -I.. -I.. -g -O2 -MT bessel_Inu.lo -MD -MP -MF .deps/bessel_Inu.Tpo -c bessel_Inu.c -o bessel_Inu.o >/dev/null 2>&1\r\n"
       ]
      },
      {
       "output_type": "stream",
       "stream": "stdout",
       "text": [
        "mv -f .deps/bessel_Inu.Tpo .deps/bessel_Inu.Plo\r\n",
        "/bin/sh ../libtool --tag=CC   --mode=compile gcc -DHAVE_CONFIG_H -I. -I.. -I..    -g -O2 -MT bessel_J0.lo -MD -MP -MF .deps/bessel_J0.Tpo -c -o bessel_J0.lo bessel_J0.c\r\n"
       ]
      },
      {
       "output_type": "stream",
       "stream": "stdout",
       "text": [
        "libtool: compile:  gcc -DHAVE_CONFIG_H -I. -I.. -I.. -g -O2 -MT bessel_J0.lo -MD -MP -MF .deps/bessel_J0.Tpo -c bessel_J0.c  -fno-common -DPIC -o .libs/bessel_J0.o\r\n"
       ]
      },
      {
       "output_type": "stream",
       "stream": "stdout",
       "text": [
        "libtool: compile:  gcc -DHAVE_CONFIG_H -I. -I.. -I.. -g -O2 -MT bessel_J0.lo -MD -MP -MF .deps/bessel_J0.Tpo -c bessel_J0.c -o bessel_J0.o >/dev/null 2>&1\r\n"
       ]
      },
      {
       "output_type": "stream",
       "stream": "stdout",
       "text": [
        "mv -f .deps/bessel_J0.Tpo .deps/bessel_J0.Plo\r\n",
        "/bin/sh ../libtool --tag=CC   --mode=compile gcc -DHAVE_CONFIG_H -I. -I.. -I..    -g -O2 -MT bessel_J1.lo -MD -MP -MF .deps/bessel_J1.Tpo -c -o bessel_J1.lo bessel_J1.c\r\n"
       ]
      },
      {
       "output_type": "stream",
       "stream": "stdout",
       "text": [
        "libtool: compile:  gcc -DHAVE_CONFIG_H -I. -I.. -I.. -g -O2 -MT bessel_J1.lo -MD -MP -MF .deps/bessel_J1.Tpo -c bessel_J1.c  -fno-common -DPIC -o .libs/bessel_J1.o\r\n"
       ]
      },
      {
       "output_type": "stream",
       "stream": "stdout",
       "text": [
        "libtool: compile:  gcc -DHAVE_CONFIG_H -I. -I.. -I.. -g -O2 -MT bessel_J1.lo -MD -MP -MF .deps/bessel_J1.Tpo -c bessel_J1.c -o bessel_J1.o >/dev/null 2>&1\r\n"
       ]
      },
      {
       "output_type": "stream",
       "stream": "stdout",
       "text": [
        "mv -f .deps/bessel_J1.Tpo .deps/bessel_J1.Plo\r\n",
        "/bin/sh ../libtool --tag=CC   --mode=compile gcc -DHAVE_CONFIG_H -I. -I.. -I..    -g -O2 -MT bessel_Jn.lo -MD -MP -MF .deps/bessel_Jn.Tpo -c -o bessel_Jn.lo bessel_Jn.c\r\n"
       ]
      },
      {
       "output_type": "stream",
       "stream": "stdout",
       "text": [
        "libtool: compile:  gcc -DHAVE_CONFIG_H -I. -I.. -I.. -g -O2 -MT bessel_Jn.lo -MD -MP -MF .deps/bessel_Jn.Tpo -c bessel_Jn.c  -fno-common -DPIC -o .libs/bessel_Jn.o\r\n"
       ]
      },
      {
       "output_type": "stream",
       "stream": "stdout",
       "text": [
        "libtool: compile:  gcc -DHAVE_CONFIG_H -I. -I.. -I.. -g -O2 -MT bessel_Jn.lo -MD -MP -MF .deps/bessel_Jn.Tpo -c bessel_Jn.c -o bessel_Jn.o >/dev/null 2>&1\r\n"
       ]
      },
      {
       "output_type": "stream",
       "stream": "stdout",
       "text": [
        "mv -f .deps/bessel_Jn.Tpo .deps/bessel_Jn.Plo\r\n",
        "/bin/sh ../libtool --tag=CC   --mode=compile gcc -DHAVE_CONFIG_H -I. -I.. -I..    -g -O2 -MT bessel_Jnu.lo -MD -MP -MF .deps/bessel_Jnu.Tpo -c -o bessel_Jnu.lo bessel_Jnu.c\r\n"
       ]
      },
      {
       "output_type": "stream",
       "stream": "stdout",
       "text": [
        "libtool: compile:  gcc -DHAVE_CONFIG_H -I. -I.. -I.. -g -O2 -MT bessel_Jnu.lo -MD -MP -MF .deps/bessel_Jnu.Tpo -c bessel_Jnu.c  -fno-common -DPIC -o .libs/bessel_Jnu.o\r\n"
       ]
      },
      {
       "output_type": "stream",
       "stream": "stdout",
       "text": [
        "libtool: compile:  gcc -DHAVE_CONFIG_H -I. -I.. -I.. -g -O2 -MT bessel_Jnu.lo -MD -MP -MF .deps/bessel_Jnu.Tpo -c bessel_Jnu.c -o bessel_Jnu.o >/dev/null 2>&1\r\n"
       ]
      },
      {
       "output_type": "stream",
       "stream": "stdout",
       "text": [
        "mv -f .deps/bessel_Jnu.Tpo .deps/bessel_Jnu.Plo\r\n",
        "/bin/sh ../libtool --tag=CC   --mode=compile gcc -DHAVE_CONFIG_H -I. -I.. -I..    -g -O2 -MT bessel_K0.lo -MD -MP -MF .deps/bessel_K0.Tpo -c -o bessel_K0.lo bessel_K0.c\r\n"
       ]
      },
      {
       "output_type": "stream",
       "stream": "stdout",
       "text": [
        "libtool: compile:  gcc -DHAVE_CONFIG_H -I. -I.. -I.. -g -O2 -MT bessel_K0.lo -MD -MP -MF .deps/bessel_K0.Tpo -c bessel_K0.c  -fno-common -DPIC -o .libs/bessel_K0.o\r\n"
       ]
      },
      {
       "output_type": "stream",
       "stream": "stdout",
       "text": [
        "libtool: compile:  gcc -DHAVE_CONFIG_H -I. -I.. -I.. -g -O2 -MT bessel_K0.lo -MD -MP -MF .deps/bessel_K0.Tpo -c bessel_K0.c -o bessel_K0.o >/dev/null 2>&1\r\n"
       ]
      },
      {
       "output_type": "stream",
       "stream": "stdout",
       "text": [
        "mv -f .deps/bessel_K0.Tpo .deps/bessel_K0.Plo\r\n",
        "/bin/sh ../libtool --tag=CC   --mode=compile gcc -DHAVE_CONFIG_H -I. -I.. -I..    -g -O2 -MT bessel_K1.lo -MD -MP -MF .deps/bessel_K1.Tpo -c -o bessel_K1.lo bessel_K1.c\r\n",
        "libtool: compile:  gcc -DHAVE_CONFIG_H -I. -I.. -I.. -g -O2 -MT bessel_K1.lo -MD -MP -MF .deps/bessel_K1.Tpo -c bessel_K1.c  -fno-common -DPIC -o .libs/bessel_K1.o\r\n"
       ]
      },
      {
       "output_type": "stream",
       "stream": "stdout",
       "text": [
        "libtool: compile:  gcc -DHAVE_CONFIG_H -I. -I.. -I.. -g -O2 -MT bessel_K1.lo -MD -MP -MF .deps/bessel_K1.Tpo -c bessel_K1.c -o bessel_K1.o >/dev/null 2>&1\r\n"
       ]
      },
      {
       "output_type": "stream",
       "stream": "stdout",
       "text": [
        "mv -f .deps/bessel_K1.Tpo .deps/bessel_K1.Plo\r\n",
        "/bin/sh ../libtool --tag=CC   --mode=compile gcc -DHAVE_CONFIG_H -I. -I.. -I..    -g -O2 -MT bessel_Kn.lo -MD -MP -MF .deps/bessel_Kn.Tpo -c -o bessel_Kn.lo bessel_Kn.c\r\n"
       ]
      },
      {
       "output_type": "stream",
       "stream": "stdout",
       "text": [
        "libtool: compile:  gcc -DHAVE_CONFIG_H -I. -I.. -I.. -g -O2 -MT bessel_Kn.lo -MD -MP -MF .deps/bessel_Kn.Tpo -c bessel_Kn.c  -fno-common -DPIC -o .libs/bessel_Kn.o\r\n"
       ]
      },
      {
       "output_type": "stream",
       "stream": "stdout",
       "text": [
        "libtool: compile:  gcc -DHAVE_CONFIG_H -I. -I.. -I.. -g -O2 -MT bessel_Kn.lo -MD -MP -MF .deps/bessel_Kn.Tpo -c bessel_Kn.c -o bessel_Kn.o >/dev/null 2>&1\r\n"
       ]
      },
      {
       "output_type": "stream",
       "stream": "stdout",
       "text": [
        "mv -f .deps/bessel_Kn.Tpo .deps/bessel_Kn.Plo\r\n",
        "/bin/sh ../libtool --tag=CC   --mode=compile gcc -DHAVE_CONFIG_H -I. -I.. -I..    -g -O2 -MT bessel_Knu.lo -MD -MP -MF .deps/bessel_Knu.Tpo -c -o bessel_Knu.lo bessel_Knu.c\r\n"
       ]
      },
      {
       "output_type": "stream",
       "stream": "stdout",
       "text": [
        "libtool: compile:  gcc -DHAVE_CONFIG_H -I. -I.. -I.. -g -O2 -MT bessel_Knu.lo -MD -MP -MF .deps/bessel_Knu.Tpo -c bessel_Knu.c  -fno-common -DPIC -o .libs/bessel_Knu.o\r\n"
       ]
      },
      {
       "output_type": "stream",
       "stream": "stdout",
       "text": [
        "libtool: compile:  gcc -DHAVE_CONFIG_H -I. -I.. -I.. -g -O2 -MT bessel_Knu.lo -MD -MP -MF .deps/bessel_Knu.Tpo -c bessel_Knu.c -o bessel_Knu.o >/dev/null 2>&1\r\n"
       ]
      },
      {
       "output_type": "stream",
       "stream": "stdout",
       "text": [
        "mv -f .deps/bessel_Knu.Tpo .deps/bessel_Knu.Plo\r\n",
        "/bin/sh ../libtool --tag=CC   --mode=compile gcc -DHAVE_CONFIG_H -I. -I.. -I..    -g -O2 -MT bessel_Y0.lo -MD -MP -MF .deps/bessel_Y0.Tpo -c -o bessel_Y0.lo bessel_Y0.c\r\n",
        "libtool: compile:  gcc -DHAVE_CONFIG_H -I. -I.. -I.. -g -O2 -MT bessel_Y0.lo -MD -MP -MF .deps/bessel_Y0.Tpo -c bessel_Y0.c  -fno-common -DPIC -o .libs/bessel_Y0.o\r\n"
       ]
      },
      {
       "output_type": "stream",
       "stream": "stdout",
       "text": [
        "libtool: compile:  gcc -DHAVE_CONFIG_H -I. -I.. -I.. -g -O2 -MT bessel_Y0.lo -MD -MP -MF .deps/bessel_Y0.Tpo -c bessel_Y0.c -o bessel_Y0.o >/dev/null 2>&1\r\n"
       ]
      },
      {
       "output_type": "stream",
       "stream": "stdout",
       "text": [
        "mv -f .deps/bessel_Y0.Tpo .deps/bessel_Y0.Plo\r\n",
        "/bin/sh ../libtool --tag=CC   --mode=compile gcc -DHAVE_CONFIG_H -I. -I.. -I..    -g -O2 -MT bessel_Y1.lo -MD -MP -MF .deps/bessel_Y1.Tpo -c -o bessel_Y1.lo bessel_Y1.c\r\n"
       ]
      },
      {
       "output_type": "stream",
       "stream": "stdout",
       "text": [
        "libtool: compile:  gcc -DHAVE_CONFIG_H -I. -I.. -I.. -g -O2 -MT bessel_Y1.lo -MD -MP -MF .deps/bessel_Y1.Tpo -c bessel_Y1.c  -fno-common -DPIC -o .libs/bessel_Y1.o\r\n"
       ]
      },
      {
       "output_type": "stream",
       "stream": "stdout",
       "text": [
        "libtool: compile:  gcc -DHAVE_CONFIG_H -I. -I.. -I.. -g -O2 -MT bessel_Y1.lo -MD -MP -MF .deps/bessel_Y1.Tpo -c bessel_Y1.c -o bessel_Y1.o >/dev/null 2>&1\r\n"
       ]
      },
      {
       "output_type": "stream",
       "stream": "stdout",
       "text": [
        "mv -f .deps/bessel_Y1.Tpo .deps/bessel_Y1.Plo\r\n",
        "/bin/sh ../libtool --tag=CC   --mode=compile gcc -DHAVE_CONFIG_H -I. -I.. -I..    -g -O2 -MT bessel_Yn.lo -MD -MP -MF .deps/bessel_Yn.Tpo -c -o bessel_Yn.lo bessel_Yn.c\r\n",
        "libtool: compile:  gcc -DHAVE_CONFIG_H -I. -I.. -I.. -g -O2 -MT bessel_Yn.lo -MD -MP -MF .deps/bessel_Yn.Tpo -c bessel_Yn.c  -fno-common -DPIC -o .libs/bessel_Yn.o\r\n"
       ]
      },
      {
       "output_type": "stream",
       "stream": "stdout",
       "text": [
        "libtool: compile:  gcc -DHAVE_CONFIG_H -I. -I.. -I.. -g -O2 -MT bessel_Yn.lo -MD -MP -MF .deps/bessel_Yn.Tpo -c bessel_Yn.c -o bessel_Yn.o >/dev/null 2>&1\r\n"
       ]
      },
      {
       "output_type": "stream",
       "stream": "stdout",
       "text": [
        "mv -f .deps/bessel_Yn.Tpo .deps/bessel_Yn.Plo\r\n",
        "/bin/sh ../libtool --tag=CC   --mode=compile gcc -DHAVE_CONFIG_H -I. -I.. -I..    -g -O2 -MT bessel_Ynu.lo -MD -MP -MF .deps/bessel_Ynu.Tpo -c -o bessel_Ynu.lo bessel_Ynu.c\r\n",
        "libtool: compile:  gcc -DHAVE_CONFIG_H -I. -I.. -I.. -g -O2 -MT bessel_Ynu.lo -MD -MP -MF .deps/bessel_Ynu.Tpo -c bessel_Ynu.c  -fno-common -DPIC -o .libs/bessel_Ynu.o\r\n"
       ]
      },
      {
       "output_type": "stream",
       "stream": "stdout",
       "text": [
        "libtool: compile:  gcc -DHAVE_CONFIG_H -I. -I.. -I.. -g -O2 -MT bessel_Ynu.lo -MD -MP -MF .deps/bessel_Ynu.Tpo -c bessel_Ynu.c -o bessel_Ynu.o >/dev/null 2>&1\r\n"
       ]
      },
      {
       "output_type": "stream",
       "stream": "stdout",
       "text": [
        "mv -f .deps/bessel_Ynu.Tpo .deps/bessel_Ynu.Plo\r\n",
        "/bin/sh ../libtool --tag=CC   --mode=compile gcc -DHAVE_CONFIG_H -I. -I.. -I..    -g -O2 -MT bessel_amp_phase.lo -MD -MP -MF .deps/bessel_amp_phase.Tpo -c -o bessel_amp_phase.lo bessel_amp_phase.c\r\n",
        "libtool: compile:  gcc -DHAVE_CONFIG_H -I. -I.. -I.. -g -O2 -MT bessel_amp_phase.lo -MD -MP -MF .deps/bessel_amp_phase.Tpo -c bessel_amp_phase.c  -fno-common -DPIC -o .libs/bessel_amp_phase.o\r\n"
       ]
      },
      {
       "output_type": "stream",
       "stream": "stdout",
       "text": [
        "libtool: compile:  gcc -DHAVE_CONFIG_H -I. -I.. -I.. -g -O2 -MT bessel_amp_phase.lo -MD -MP -MF .deps/bessel_amp_phase.Tpo -c bessel_amp_phase.c -o bessel_amp_phase.o >/dev/null 2>&1\r\n"
       ]
      },
      {
       "output_type": "stream",
       "stream": "stdout",
       "text": [
        "mv -f .deps/bessel_amp_phase.Tpo .deps/bessel_amp_phase.Plo\r\n",
        "/bin/sh ../libtool --tag=CC   --mode=compile gcc -DHAVE_CONFIG_H -I. -I.. -I..    -g -O2 -MT bessel_i.lo -MD -MP -MF .deps/bessel_i.Tpo -c -o bessel_i.lo bessel_i.c\r\n",
        "libtool: compile:  gcc -DHAVE_CONFIG_H -I. -I.. -I.. -g -O2 -MT bessel_i.lo -MD -MP -MF .deps/bessel_i.Tpo -c bessel_i.c  -fno-common -DPIC -o .libs/bessel_i.o\r\n"
       ]
      },
      {
       "output_type": "stream",
       "stream": "stdout",
       "text": [
        "libtool: compile:  gcc -DHAVE_CONFIG_H -I. -I.. -I.. -g -O2 -MT bessel_i.lo -MD -MP -MF .deps/bessel_i.Tpo -c bessel_i.c -o bessel_i.o >/dev/null 2>&1\r\n"
       ]
      },
      {
       "output_type": "stream",
       "stream": "stdout",
       "text": [
        "mv -f .deps/bessel_i.Tpo .deps/bessel_i.Plo\r\n",
        "/bin/sh ../libtool --tag=CC   --mode=compile gcc -DHAVE_CONFIG_H -I. -I.. -I..    -g -O2 -MT bessel_j.lo -MD -MP -MF .deps/bessel_j.Tpo -c -o bessel_j.lo bessel_j.c\r\n"
       ]
      },
      {
       "output_type": "stream",
       "stream": "stdout",
       "text": [
        "libtool: compile:  gcc -DHAVE_CONFIG_H -I. -I.. -I.. -g -O2 -MT bessel_j.lo -MD -MP -MF .deps/bessel_j.Tpo -c bessel_j.c  -fno-common -DPIC -o .libs/bessel_j.o\r\n"
       ]
      },
      {
       "output_type": "stream",
       "stream": "stdout",
       "text": [
        "libtool: compile:  gcc -DHAVE_CONFIG_H -I. -I.. -I.. -g -O2 -MT bessel_j.lo -MD -MP -MF .deps/bessel_j.Tpo -c bessel_j.c -o bessel_j.o >/dev/null 2>&1\r\n"
       ]
      },
      {
       "output_type": "stream",
       "stream": "stdout",
       "text": [
        "mv -f .deps/bessel_j.Tpo .deps/bessel_j.Plo\r\n",
        "/bin/sh ../libtool --tag=CC   --mode=compile gcc -DHAVE_CONFIG_H -I. -I.. -I..    -g -O2 -MT bessel_k.lo -MD -MP -MF .deps/bessel_k.Tpo -c -o bessel_k.lo bessel_k.c\r\n"
       ]
      },
      {
       "output_type": "stream",
       "stream": "stdout",
       "text": [
        "libtool: compile:  gcc -DHAVE_CONFIG_H -I. -I.. -I.. -g -O2 -MT bessel_k.lo -MD -MP -MF .deps/bessel_k.Tpo -c bessel_k.c  -fno-common -DPIC -o .libs/bessel_k.o\r\n"
       ]
      },
      {
       "output_type": "stream",
       "stream": "stdout",
       "text": [
        "libtool: compile:  gcc -DHAVE_CONFIG_H -I. -I.. -I.. -g -O2 -MT bessel_k.lo -MD -MP -MF .deps/bessel_k.Tpo -c bessel_k.c -o bessel_k.o >/dev/null 2>&1\r\n"
       ]
      },
      {
       "output_type": "stream",
       "stream": "stdout",
       "text": [
        "mv -f .deps/bessel_k.Tpo .deps/bessel_k.Plo\r\n",
        "/bin/sh ../libtool --tag=CC   --mode=compile gcc -DHAVE_CONFIG_H -I. -I.. -I..    -g -O2 -MT bessel_olver.lo -MD -MP -MF .deps/bessel_olver.Tpo -c -o bessel_olver.lo bessel_olver.c\r\n"
       ]
      },
      {
       "output_type": "stream",
       "stream": "stdout",
       "text": [
        "libtool: compile:  gcc -DHAVE_CONFIG_H -I. -I.. -I.. -g -O2 -MT bessel_olver.lo -MD -MP -MF .deps/bessel_olver.Tpo -c bessel_olver.c  -fno-common -DPIC -o .libs/bessel_olver.o\r\n"
       ]
      },
      {
       "output_type": "stream",
       "stream": "stdout",
       "text": [
        "libtool: compile:  gcc -DHAVE_CONFIG_H -I. -I.. -I.. -g -O2 -MT bessel_olver.lo -MD -MP -MF .deps/bessel_olver.Tpo -c bessel_olver.c -o bessel_olver.o >/dev/null 2>&1\r\n"
       ]
      },
      {
       "output_type": "stream",
       "stream": "stdout",
       "text": [
        "mv -f .deps/bessel_olver.Tpo .deps/bessel_olver.Plo\r\n",
        "/bin/sh ../libtool --tag=CC   --mode=compile gcc -DHAVE_CONFIG_H -I. -I.. -I..    -g -O2 -MT bessel_temme.lo -MD -MP -MF .deps/bessel_temme.Tpo -c -o bessel_temme.lo bessel_temme.c\r\n",
        "libtool: compile:  gcc -DHAVE_CONFIG_H -I. -I.. -I.. -g -O2 -MT bessel_temme.lo -MD -MP -MF .deps/bessel_temme.Tpo -c bessel_temme.c  -fno-common -DPIC -o .libs/bessel_temme.o\r\n"
       ]
      },
      {
       "output_type": "stream",
       "stream": "stdout",
       "text": [
        "libtool: compile:  gcc -DHAVE_CONFIG_H -I. -I.. -I.. -g -O2 -MT bessel_temme.lo -MD -MP -MF .deps/bessel_temme.Tpo -c bessel_temme.c -o bessel_temme.o >/dev/null 2>&1\r\n"
       ]
      },
      {
       "output_type": "stream",
       "stream": "stdout",
       "text": [
        "mv -f .deps/bessel_temme.Tpo .deps/bessel_temme.Plo\r\n",
        "/bin/sh ../libtool --tag=CC   --mode=compile gcc -DHAVE_CONFIG_H -I. -I.. -I..    -g -O2 -MT bessel_y.lo -MD -MP -MF .deps/bessel_y.Tpo -c -o bessel_y.lo bessel_y.c\r\n",
        "libtool: compile:  gcc -DHAVE_CONFIG_H -I. -I.. -I.. -g -O2 -MT bessel_y.lo -MD -MP -MF .deps/bessel_y.Tpo -c bessel_y.c  -fno-common -DPIC -o .libs/bessel_y.o\r\n"
       ]
      },
      {
       "output_type": "stream",
       "stream": "stdout",
       "text": [
        "libtool: compile:  gcc -DHAVE_CONFIG_H -I. -I.. -I.. -g -O2 -MT bessel_y.lo -MD -MP -MF .deps/bessel_y.Tpo -c bessel_y.c -o bessel_y.o >/dev/null 2>&1\r\n"
       ]
      },
      {
       "output_type": "stream",
       "stream": "stdout",
       "text": [
        "mv -f .deps/bessel_y.Tpo .deps/bessel_y.Plo\r\n",
        "/bin/sh ../libtool --tag=CC   --mode=compile gcc -DHAVE_CONFIG_H -I. -I.. -I..    -g -O2 -MT bessel_zero.lo -MD -MP -MF .deps/bessel_zero.Tpo -c -o bessel_zero.lo bessel_zero.c\r\n",
        "libtool: compile:  gcc -DHAVE_CONFIG_H -I. -I.. -I.. -g -O2 -MT bessel_zero.lo -MD -MP -MF .deps/bessel_zero.Tpo -c bessel_zero.c  -fno-common -DPIC -o .libs/bessel_zero.o\r\n"
       ]
      },
      {
       "output_type": "stream",
       "stream": "stdout",
       "text": [
        "libtool: compile:  gcc -DHAVE_CONFIG_H -I. -I.. -I.. -g -O2 -MT bessel_zero.lo -MD -MP -MF .deps/bessel_zero.Tpo -c bessel_zero.c -o bessel_zero.o >/dev/null 2>&1\r\n"
       ]
      },
      {
       "output_type": "stream",
       "stream": "stdout",
       "text": [
        "mv -f .deps/bessel_zero.Tpo .deps/bessel_zero.Plo\r\n",
        "/bin/sh ../libtool --tag=CC   --mode=compile gcc -DHAVE_CONFIG_H -I. -I.. -I..    -g -O2 -MT bessel_sequence.lo -MD -MP -MF .deps/bessel_sequence.Tpo -c -o bessel_sequence.lo bessel_sequence.c\r\n",
        "libtool: compile:  gcc -DHAVE_CONFIG_H -I. -I.. -I.. -g -O2 -MT bessel_sequence.lo -MD -MP -MF .deps/bessel_sequence.Tpo -c bessel_sequence.c  -fno-common -DPIC -o .libs/bessel_sequence.o\r\n"
       ]
      },
      {
       "output_type": "stream",
       "stream": "stdout",
       "text": [
        "libtool: compile:  gcc -DHAVE_CONFIG_H -I. -I.. -I.. -g -O2 -MT bessel_sequence.lo -MD -MP -MF .deps/bessel_sequence.Tpo -c bessel_sequence.c -o bessel_sequence.o >/dev/null 2>&1\r\n"
       ]
      },
      {
       "output_type": "stream",
       "stream": "stdout",
       "text": [
        "mv -f .deps/bessel_sequence.Tpo .deps/bessel_sequence.Plo\r\n",
        "/bin/sh ../libtool --tag=CC   --mode=compile gcc -DHAVE_CONFIG_H -I. -I.. -I..    -g -O2 -MT beta.lo -MD -MP -MF .deps/beta.Tpo -c -o beta.lo beta.c\r\n"
       ]
      },
      {
       "output_type": "stream",
       "stream": "stdout",
       "text": [
        "libtool: compile:  gcc -DHAVE_CONFIG_H -I. -I.. -I.. -g -O2 -MT beta.lo -MD -MP -MF .deps/beta.Tpo -c beta.c  -fno-common -DPIC -o .libs/beta.o\r\n"
       ]
      },
      {
       "output_type": "stream",
       "stream": "stdout",
       "text": [
        "libtool: compile:  gcc -DHAVE_CONFIG_H -I. -I.. -I.. -g -O2 -MT beta.lo -MD -MP -MF .deps/beta.Tpo -c beta.c -o beta.o >/dev/null 2>&1\r\n"
       ]
      },
      {
       "output_type": "stream",
       "stream": "stdout",
       "text": [
        "mv -f .deps/beta.Tpo .deps/beta.Plo\r\n",
        "/bin/sh ../libtool --tag=CC   --mode=compile gcc -DHAVE_CONFIG_H -I. -I.. -I..    -g -O2 -MT beta_inc.lo -MD -MP -MF .deps/beta_inc.Tpo -c -o beta_inc.lo beta_inc.c\r\n",
        "libtool: compile:  gcc -DHAVE_CONFIG_H -I. -I.. -I.. -g -O2 -MT beta_inc.lo -MD -MP -MF .deps/beta_inc.Tpo -c beta_inc.c  -fno-common -DPIC -o .libs/beta_inc.o\r\n"
       ]
      },
      {
       "output_type": "stream",
       "stream": "stdout",
       "text": [
        "libtool: compile:  gcc -DHAVE_CONFIG_H -I. -I.. -I.. -g -O2 -MT beta_inc.lo -MD -MP -MF .deps/beta_inc.Tpo -c beta_inc.c -o beta_inc.o >/dev/null 2>&1\r\n"
       ]
      },
      {
       "output_type": "stream",
       "stream": "stdout",
       "text": [
        "mv -f .deps/beta_inc.Tpo .deps/beta_inc.Plo\r\n",
        "/bin/sh ../libtool --tag=CC   --mode=compile gcc -DHAVE_CONFIG_H -I. -I.. -I..    -g -O2 -MT clausen.lo -MD -MP -MF .deps/clausen.Tpo -c -o clausen.lo clausen.c\r\n",
        "libtool: compile:  gcc -DHAVE_CONFIG_H -I. -I.. -I.. -g -O2 -MT clausen.lo -MD -MP -MF .deps/clausen.Tpo -c clausen.c  -fno-common -DPIC -o .libs/clausen.o\r\n"
       ]
      },
      {
       "output_type": "stream",
       "stream": "stdout",
       "text": [
        "libtool: compile:  gcc -DHAVE_CONFIG_H -I. -I.. -I.. -g -O2 -MT clausen.lo -MD -MP -MF .deps/clausen.Tpo -c clausen.c -o clausen.o >/dev/null 2>&1\r\n"
       ]
      },
      {
       "output_type": "stream",
       "stream": "stdout",
       "text": [
        "mv -f .deps/clausen.Tpo .deps/clausen.Plo\r\n",
        "/bin/sh ../libtool --tag=CC   --mode=compile gcc -DHAVE_CONFIG_H -I. -I.. -I..    -g -O2 -MT coulomb.lo -MD -MP -MF .deps/coulomb.Tpo -c -o coulomb.lo coulomb.c\r\n",
        "libtool: compile:  gcc -DHAVE_CONFIG_H -I. -I.. -I.. -g -O2 -MT coulomb.lo -MD -MP -MF .deps/coulomb.Tpo -c coulomb.c  -fno-common -DPIC -o .libs/coulomb.o\r\n"
       ]
      },
      {
       "output_type": "stream",
       "stream": "stdout",
       "text": [
        "libtool: compile:  gcc -DHAVE_CONFIG_H -I. -I.. -I.. -g -O2 -MT coulomb.lo -MD -MP -MF .deps/coulomb.Tpo -c coulomb.c -o coulomb.o >/dev/null 2>&1\r\n"
       ]
      },
      {
       "output_type": "stream",
       "stream": "stdout",
       "text": [
        "mv -f .deps/coulomb.Tpo .deps/coulomb.Plo\r\n",
        "/bin/sh ../libtool --tag=CC   --mode=compile gcc -DHAVE_CONFIG_H -I. -I.. -I..    -g -O2 -MT coupling.lo -MD -MP -MF .deps/coupling.Tpo -c -o coupling.lo coupling.c\r\n",
        "libtool: compile:  gcc -DHAVE_CONFIG_H -I. -I.. -I.. -g -O2 -MT coupling.lo -MD -MP -MF .deps/coupling.Tpo -c coupling.c  -fno-common -DPIC -o .libs/coupling.o\r\n"
       ]
      },
      {
       "output_type": "stream",
       "stream": "stdout",
       "text": [
        "libtool: compile:  gcc -DHAVE_CONFIG_H -I. -I.. -I.. -g -O2 -MT coupling.lo -MD -MP -MF .deps/coupling.Tpo -c coupling.c -o coupling.o >/dev/null 2>&1\r\n"
       ]
      },
      {
       "output_type": "stream",
       "stream": "stdout",
       "text": [
        "mv -f .deps/coupling.Tpo .deps/coupling.Plo\r\n",
        "/bin/sh ../libtool --tag=CC   --mode=compile gcc -DHAVE_CONFIG_H -I. -I.. -I..    -g -O2 -MT coulomb_bound.lo -MD -MP -MF .deps/coulomb_bound.Tpo -c -o coulomb_bound.lo coulomb_bound.c\r\n"
       ]
      },
      {
       "output_type": "stream",
       "stream": "stdout",
       "text": [
        "libtool: compile:  gcc -DHAVE_CONFIG_H -I. -I.. -I.. -g -O2 -MT coulomb_bound.lo -MD -MP -MF .deps/coulomb_bound.Tpo -c coulomb_bound.c  -fno-common -DPIC -o .libs/coulomb_bound.o\r\n"
       ]
      },
      {
       "output_type": "stream",
       "stream": "stdout",
       "text": [
        "libtool: compile:  gcc -DHAVE_CONFIG_H -I. -I.. -I.. -g -O2 -MT coulomb_bound.lo -MD -MP -MF .deps/coulomb_bound.Tpo -c coulomb_bound.c -o coulomb_bound.o >/dev/null 2>&1\r\n"
       ]
      },
      {
       "output_type": "stream",
       "stream": "stdout",
       "text": [
        "mv -f .deps/coulomb_bound.Tpo .deps/coulomb_bound.Plo\r\n",
        "/bin/sh ../libtool --tag=CC   --mode=compile gcc -DHAVE_CONFIG_H -I. -I.. -I..    -g -O2 -MT dawson.lo -MD -MP -MF .deps/dawson.Tpo -c -o dawson.lo dawson.c\r\n",
        "libtool: compile:  gcc -DHAVE_CONFIG_H -I. -I.. -I.. -g -O2 -MT dawson.lo -MD -MP -MF .deps/dawson.Tpo -c dawson.c  -fno-common -DPIC -o .libs/dawson.o\r\n"
       ]
      },
      {
       "output_type": "stream",
       "stream": "stdout",
       "text": [
        "libtool: compile:  gcc -DHAVE_CONFIG_H -I. -I.. -I.. -g -O2 -MT dawson.lo -MD -MP -MF .deps/dawson.Tpo -c dawson.c -o dawson.o >/dev/null 2>&1\r\n"
       ]
      },
      {
       "output_type": "stream",
       "stream": "stdout",
       "text": [
        "mv -f .deps/dawson.Tpo .deps/dawson.Plo\r\n",
        "/bin/sh ../libtool --tag=CC   --mode=compile gcc -DHAVE_CONFIG_H -I. -I.. -I..    -g -O2 -MT debye.lo -MD -MP -MF .deps/debye.Tpo -c -o debye.lo debye.c\r\n"
       ]
      },
      {
       "output_type": "stream",
       "stream": "stdout",
       "text": [
        "libtool: compile:  gcc -DHAVE_CONFIG_H -I. -I.. -I.. -g -O2 -MT debye.lo -MD -MP -MF .deps/debye.Tpo -c debye.c  -fno-common -DPIC -o .libs/debye.o\r\n"
       ]
      },
      {
       "output_type": "stream",
       "stream": "stdout",
       "text": [
        "libtool: compile:  gcc -DHAVE_CONFIG_H -I. -I.. -I.. -g -O2 -MT debye.lo -MD -MP -MF .deps/debye.Tpo -c debye.c -o debye.o >/dev/null 2>&1\r\n"
       ]
      },
      {
       "output_type": "stream",
       "stream": "stdout",
       "text": [
        "mv -f .deps/debye.Tpo .deps/debye.Plo\r\n",
        "/bin/sh ../libtool --tag=CC   --mode=compile gcc -DHAVE_CONFIG_H -I. -I.. -I..    -g -O2 -MT dilog.lo -MD -MP -MF .deps/dilog.Tpo -c -o dilog.lo dilog.c\r\n"
       ]
      },
      {
       "output_type": "stream",
       "stream": "stdout",
       "text": [
        "libtool: compile:  gcc -DHAVE_CONFIG_H -I. -I.. -I.. -g -O2 -MT dilog.lo -MD -MP -MF .deps/dilog.Tpo -c dilog.c  -fno-common -DPIC -o .libs/dilog.o\r\n"
       ]
      },
      {
       "output_type": "stream",
       "stream": "stdout",
       "text": [
        "libtool: compile:  gcc -DHAVE_CONFIG_H -I. -I.. -I.. -g -O2 -MT dilog.lo -MD -MP -MF .deps/dilog.Tpo -c dilog.c -o dilog.o >/dev/null 2>&1\r\n"
       ]
      },
      {
       "output_type": "stream",
       "stream": "stdout",
       "text": [
        "mv -f .deps/dilog.Tpo .deps/dilog.Plo\r\n",
        "/bin/sh ../libtool --tag=CC   --mode=compile gcc -DHAVE_CONFIG_H -I. -I.. -I..    -g -O2 -MT elementary.lo -MD -MP -MF .deps/elementary.Tpo -c -o elementary.lo elementary.c\r\n"
       ]
      },
      {
       "output_type": "stream",
       "stream": "stdout",
       "text": [
        "libtool: compile:  gcc -DHAVE_CONFIG_H -I. -I.. -I.. -g -O2 -MT elementary.lo -MD -MP -MF .deps/elementary.Tpo -c elementary.c  -fno-common -DPIC -o .libs/elementary.o\r\n"
       ]
      },
      {
       "output_type": "stream",
       "stream": "stdout",
       "text": [
        "libtool: compile:  gcc -DHAVE_CONFIG_H -I. -I.. -I.. -g -O2 -MT elementary.lo -MD -MP -MF .deps/elementary.Tpo -c elementary.c -o elementary.o >/dev/null 2>&1\r\n"
       ]
      },
      {
       "output_type": "stream",
       "stream": "stdout",
       "text": [
        "mv -f .deps/elementary.Tpo .deps/elementary.Plo\r\n",
        "/bin/sh ../libtool --tag=CC   --mode=compile gcc -DHAVE_CONFIG_H -I. -I.. -I..    -g -O2 -MT ellint.lo -MD -MP -MF .deps/ellint.Tpo -c -o ellint.lo ellint.c\r\n",
        "libtool: compile:  gcc -DHAVE_CONFIG_H -I. -I.. -I.. -g -O2 -MT ellint.lo -MD -MP -MF .deps/ellint.Tpo -c ellint.c  -fno-common -DPIC -o .libs/ellint.o\r\n"
       ]
      },
      {
       "output_type": "stream",
       "stream": "stdout",
       "text": [
        "\u001b[01m\u001b[Kellint.c:\u001b[m\u001b[K In function '\u001b[01m\u001b[Kgsl_sf_ellint_RD_e\u001b[m\u001b[K':\r\n",
        "\u001b[01m\u001b[Kellint.c:124:9:\u001b[m\u001b[K \u001b[01;35m\u001b[Kwarning: \u001b[m\u001b[Ktype defaults to '\u001b[01m\u001b[Kint\u001b[m\u001b[K' in declaration of '\u001b[01m\u001b[Knmax\u001b[m\u001b[K' [-Wimplicit-int]\r\n",
        "   const nmax = 10000;\r\n",
        "\u001b[01;32m\u001b[K         ^\u001b[m\u001b[K\r\n"
       ]
      },
      {
       "output_type": "stream",
       "stream": "stdout",
       "text": [
        "libtool: compile:  gcc -DHAVE_CONFIG_H -I. -I.. -I.. -g -O2 -MT ellint.lo -MD -MP -MF .deps/ellint.Tpo -c ellint.c -o ellint.o >/dev/null 2>&1\r\n"
       ]
      },
      {
       "output_type": "stream",
       "stream": "stdout",
       "text": [
        "mv -f .deps/ellint.Tpo .deps/ellint.Plo\r\n",
        "/bin/sh ../libtool --tag=CC   --mode=compile gcc -DHAVE_CONFIG_H -I. -I.. -I..    -g -O2 -MT elljac.lo -MD -MP -MF .deps/elljac.Tpo -c -o elljac.lo elljac.c\r\n",
        "libtool: compile:  gcc -DHAVE_CONFIG_H -I. -I.. -I.. -g -O2 -MT elljac.lo -MD -MP -MF .deps/elljac.Tpo -c elljac.c  -fno-common -DPIC -o .libs/elljac.o\r\n"
       ]
      },
      {
       "output_type": "stream",
       "stream": "stdout",
       "text": [
        "libtool: compile:  gcc -DHAVE_CONFIG_H -I. -I.. -I.. -g -O2 -MT elljac.lo -MD -MP -MF .deps/elljac.Tpo -c elljac.c -o elljac.o >/dev/null 2>&1\r\n"
       ]
      },
      {
       "output_type": "stream",
       "stream": "stdout",
       "text": [
        "mv -f .deps/elljac.Tpo .deps/elljac.Plo\r\n",
        "/bin/sh ../libtool --tag=CC   --mode=compile gcc -DHAVE_CONFIG_H -I. -I.. -I..    -g -O2 -MT erfc.lo -MD -MP -MF .deps/erfc.Tpo -c -o erfc.lo erfc.c\r\n"
       ]
      },
      {
       "output_type": "stream",
       "stream": "stdout",
       "text": [
        "libtool: compile:  gcc -DHAVE_CONFIG_H -I. -I.. -I.. -g -O2 -MT erfc.lo -MD -MP -MF .deps/erfc.Tpo -c erfc.c  -fno-common -DPIC -o .libs/erfc.o\r\n"
       ]
      },
      {
       "output_type": "stream",
       "stream": "stdout",
       "text": [
        "libtool: compile:  gcc -DHAVE_CONFIG_H -I. -I.. -I.. -g -O2 -MT erfc.lo -MD -MP -MF .deps/erfc.Tpo -c erfc.c -o erfc.o >/dev/null 2>&1\r\n"
       ]
      },
      {
       "output_type": "stream",
       "stream": "stdout",
       "text": [
        "mv -f .deps/erfc.Tpo .deps/erfc.Plo\r\n",
        "/bin/sh ../libtool --tag=CC   --mode=compile gcc -DHAVE_CONFIG_H -I. -I.. -I..    -g -O2 -MT exp.lo -MD -MP -MF .deps/exp.Tpo -c -o exp.lo exp.c\r\n"
       ]
      },
      {
       "output_type": "stream",
       "stream": "stdout",
       "text": [
        "libtool: compile:  gcc -DHAVE_CONFIG_H -I. -I.. -I.. -g -O2 -MT exp.lo -MD -MP -MF .deps/exp.Tpo -c exp.c  -fno-common -DPIC -o .libs/exp.o\r\n"
       ]
      },
      {
       "output_type": "stream",
       "stream": "stdout",
       "text": [
        "libtool: compile:  gcc -DHAVE_CONFIG_H -I. -I.. -I.. -g -O2 -MT exp.lo -MD -MP -MF .deps/exp.Tpo -c exp.c -o exp.o >/dev/null 2>&1\r\n"
       ]
      },
      {
       "output_type": "stream",
       "stream": "stdout",
       "text": [
        "mv -f .deps/exp.Tpo .deps/exp.Plo\r\n",
        "/bin/sh ../libtool --tag=CC   --mode=compile gcc -DHAVE_CONFIG_H -I. -I.. -I..    -g -O2 -MT expint.lo -MD -MP -MF .deps/expint.Tpo -c -o expint.lo expint.c\r\n",
        "libtool: compile:  gcc -DHAVE_CONFIG_H -I. -I.. -I.. -g -O2 -MT expint.lo -MD -MP -MF .deps/expint.Tpo -c expint.c  -fno-common -DPIC -o .libs/expint.o\r\n"
       ]
      },
      {
       "output_type": "stream",
       "stream": "stdout",
       "text": [
        "libtool: compile:  gcc -DHAVE_CONFIG_H -I. -I.. -I.. -g -O2 -MT expint.lo -MD -MP -MF .deps/expint.Tpo -c expint.c -o expint.o >/dev/null 2>&1\r\n"
       ]
      },
      {
       "output_type": "stream",
       "stream": "stdout",
       "text": [
        "mv -f .deps/expint.Tpo .deps/expint.Plo\r\n",
        "/bin/sh ../libtool --tag=CC   --mode=compile gcc -DHAVE_CONFIG_H -I. -I.. -I..    -g -O2 -MT expint3.lo -MD -MP -MF .deps/expint3.Tpo -c -o expint3.lo expint3.c\r\n"
       ]
      },
      {
       "output_type": "stream",
       "stream": "stdout",
       "text": [
        "libtool: compile:  gcc -DHAVE_CONFIG_H -I. -I.. -I.. -g -O2 -MT expint3.lo -MD -MP -MF .deps/expint3.Tpo -c expint3.c  -fno-common -DPIC -o .libs/expint3.o\r\n"
       ]
      },
      {
       "output_type": "stream",
       "stream": "stdout",
       "text": [
        "libtool: compile:  gcc -DHAVE_CONFIG_H -I. -I.. -I.. -g -O2 -MT expint3.lo -MD -MP -MF .deps/expint3.Tpo -c expint3.c -o expint3.o >/dev/null 2>&1\r\n"
       ]
      },
      {
       "output_type": "stream",
       "stream": "stdout",
       "text": [
        "mv -f .deps/expint3.Tpo .deps/expint3.Plo\r\n",
        "/bin/sh ../libtool --tag=CC   --mode=compile gcc -DHAVE_CONFIG_H -I. -I.. -I..    -g -O2 -MT fermi_dirac.lo -MD -MP -MF .deps/fermi_dirac.Tpo -c -o fermi_dirac.lo fermi_dirac.c\r\n",
        "libtool: compile:  gcc -DHAVE_CONFIG_H -I. -I.. -I.. -g -O2 -MT fermi_dirac.lo -MD -MP -MF .deps/fermi_dirac.Tpo -c fermi_dirac.c  -fno-common -DPIC -o .libs/fermi_dirac.o\r\n"
       ]
      },
      {
       "output_type": "stream",
       "stream": "stdout",
       "text": [
        "libtool: compile:  gcc -DHAVE_CONFIG_H -I. -I.. -I.. -g -O2 -MT fermi_dirac.lo -MD -MP -MF .deps/fermi_dirac.Tpo -c fermi_dirac.c -o fermi_dirac.o >/dev/null 2>&1\r\n"
       ]
      },
      {
       "output_type": "stream",
       "stream": "stdout",
       "text": [
        "mv -f .deps/fermi_dirac.Tpo .deps/fermi_dirac.Plo\r\n",
        "/bin/sh ../libtool --tag=CC   --mode=compile gcc -DHAVE_CONFIG_H -I. -I.. -I..    -g -O2 -MT gegenbauer.lo -MD -MP -MF .deps/gegenbauer.Tpo -c -o gegenbauer.lo gegenbauer.c\r\n"
       ]
      },
      {
       "output_type": "stream",
       "stream": "stdout",
       "text": [
        "libtool: compile:  gcc -DHAVE_CONFIG_H -I. -I.. -I.. -g -O2 -MT gegenbauer.lo -MD -MP -MF .deps/gegenbauer.Tpo -c gegenbauer.c  -fno-common -DPIC -o .libs/gegenbauer.o\r\n"
       ]
      },
      {
       "output_type": "stream",
       "stream": "stdout",
       "text": [
        "libtool: compile:  gcc -DHAVE_CONFIG_H -I. -I.. -I.. -g -O2 -MT gegenbauer.lo -MD -MP -MF .deps/gegenbauer.Tpo -c gegenbauer.c -o gegenbauer.o >/dev/null 2>&1\r\n"
       ]
      },
      {
       "output_type": "stream",
       "stream": "stdout",
       "text": [
        "mv -f .deps/gegenbauer.Tpo .deps/gegenbauer.Plo\r\n",
        "/bin/sh ../libtool --tag=CC   --mode=compile gcc -DHAVE_CONFIG_H -I. -I.. -I..    -g -O2 -MT gamma.lo -MD -MP -MF .deps/gamma.Tpo -c -o gamma.lo gamma.c\r\n",
        "libtool: compile:  gcc -DHAVE_CONFIG_H -I. -I.. -I.. -g -O2 -MT gamma.lo -MD -MP -MF .deps/gamma.Tpo -c gamma.c  -fno-common -DPIC -o .libs/gamma.o\r\n"
       ]
      },
      {
       "output_type": "stream",
       "stream": "stdout",
       "text": [
        "libtool: compile:  gcc -DHAVE_CONFIG_H -I. -I.. -I.. -g -O2 -MT gamma.lo -MD -MP -MF .deps/gamma.Tpo -c gamma.c -o gamma.o >/dev/null 2>&1\r\n"
       ]
      },
      {
       "output_type": "stream",
       "stream": "stdout",
       "text": [
        "mv -f .deps/gamma.Tpo .deps/gamma.Plo\r\n",
        "/bin/sh ../libtool --tag=CC   --mode=compile gcc -DHAVE_CONFIG_H -I. -I.. -I..    -g -O2 -MT gamma_inc.lo -MD -MP -MF .deps/gamma_inc.Tpo -c -o gamma_inc.lo gamma_inc.c\r\n"
       ]
      },
      {
       "output_type": "stream",
       "stream": "stdout",
       "text": [
        "libtool: compile:  gcc -DHAVE_CONFIG_H -I. -I.. -I.. -g -O2 -MT gamma_inc.lo -MD -MP -MF .deps/gamma_inc.Tpo -c gamma_inc.c  -fno-common -DPIC -o .libs/gamma_inc.o\r\n"
       ]
      },
      {
       "output_type": "stream",
       "stream": "stdout",
       "text": [
        "libtool: compile:  gcc -DHAVE_CONFIG_H -I. -I.. -I.. -g -O2 -MT gamma_inc.lo -MD -MP -MF .deps/gamma_inc.Tpo -c gamma_inc.c -o gamma_inc.o >/dev/null 2>&1\r\n"
       ]
      },
      {
       "output_type": "stream",
       "stream": "stdout",
       "text": [
        "mv -f .deps/gamma_inc.Tpo .deps/gamma_inc.Plo\r\n",
        "/bin/sh ../libtool --tag=CC   --mode=compile gcc -DHAVE_CONFIG_H -I. -I.. -I..    -g -O2 -MT hyperg_0F1.lo -MD -MP -MF .deps/hyperg_0F1.Tpo -c -o hyperg_0F1.lo hyperg_0F1.c\r\n",
        "libtool: compile:  gcc -DHAVE_CONFIG_H -I. -I.. -I.. -g -O2 -MT hyperg_0F1.lo -MD -MP -MF .deps/hyperg_0F1.Tpo -c hyperg_0F1.c  -fno-common -DPIC -o .libs/hyperg_0F1.o\r\n"
       ]
      },
      {
       "output_type": "stream",
       "stream": "stdout",
       "text": [
        "libtool: compile:  gcc -DHAVE_CONFIG_H -I. -I.. -I.. -g -O2 -MT hyperg_0F1.lo -MD -MP -MF .deps/hyperg_0F1.Tpo -c hyperg_0F1.c -o hyperg_0F1.o >/dev/null 2>&1\r\n"
       ]
      },
      {
       "output_type": "stream",
       "stream": "stdout",
       "text": [
        "mv -f .deps/hyperg_0F1.Tpo .deps/hyperg_0F1.Plo\r\n",
        "/bin/sh ../libtool --tag=CC   --mode=compile gcc -DHAVE_CONFIG_H -I. -I.. -I..    -g -O2 -MT hyperg_2F0.lo -MD -MP -MF .deps/hyperg_2F0.Tpo -c -o hyperg_2F0.lo hyperg_2F0.c\r\n"
       ]
      },
      {
       "output_type": "stream",
       "stream": "stdout",
       "text": [
        "libtool: compile:  gcc -DHAVE_CONFIG_H -I. -I.. -I.. -g -O2 -MT hyperg_2F0.lo -MD -MP -MF .deps/hyperg_2F0.Tpo -c hyperg_2F0.c  -fno-common -DPIC -o .libs/hyperg_2F0.o\r\n"
       ]
      },
      {
       "output_type": "stream",
       "stream": "stdout",
       "text": [
        "libtool: compile:  gcc -DHAVE_CONFIG_H -I. -I.. -I.. -g -O2 -MT hyperg_2F0.lo -MD -MP -MF .deps/hyperg_2F0.Tpo -c hyperg_2F0.c -o hyperg_2F0.o >/dev/null 2>&1\r\n"
       ]
      },
      {
       "output_type": "stream",
       "stream": "stdout",
       "text": [
        "mv -f .deps/hyperg_2F0.Tpo .deps/hyperg_2F0.Plo\r\n",
        "/bin/sh ../libtool --tag=CC   --mode=compile gcc -DHAVE_CONFIG_H -I. -I.. -I..    -g -O2 -MT hyperg_1F1.lo -MD -MP -MF .deps/hyperg_1F1.Tpo -c -o hyperg_1F1.lo hyperg_1F1.c\r\n",
        "libtool: compile:  gcc -DHAVE_CONFIG_H -I. -I.. -I.. -g -O2 -MT hyperg_1F1.lo -MD -MP -MF .deps/hyperg_1F1.Tpo -c hyperg_1F1.c  -fno-common -DPIC -o .libs/hyperg_1F1.o\r\n"
       ]
      },
      {
       "output_type": "stream",
       "stream": "stdout",
       "text": [
        "libtool: compile:  gcc -DHAVE_CONFIG_H -I. -I.. -I.. -g -O2 -MT hyperg_1F1.lo -MD -MP -MF .deps/hyperg_1F1.Tpo -c hyperg_1F1.c -o hyperg_1F1.o >/dev/null 2>&1\r\n"
       ]
      },
      {
       "output_type": "stream",
       "stream": "stdout",
       "text": [
        "mv -f .deps/hyperg_1F1.Tpo .deps/hyperg_1F1.Plo\r\n",
        "/bin/sh ../libtool --tag=CC   --mode=compile gcc -DHAVE_CONFIG_H -I. -I.. -I..    -g -O2 -MT hyperg_2F1.lo -MD -MP -MF .deps/hyperg_2F1.Tpo -c -o hyperg_2F1.lo hyperg_2F1.c\r\n"
       ]
      },
      {
       "output_type": "stream",
       "stream": "stdout",
       "text": [
        "libtool: compile:  gcc -DHAVE_CONFIG_H -I. -I.. -I.. -g -O2 -MT hyperg_2F1.lo -MD -MP -MF .deps/hyperg_2F1.Tpo -c hyperg_2F1.c  -fno-common -DPIC -o .libs/hyperg_2F1.o\r\n"
       ]
      },
      {
       "output_type": "stream",
       "stream": "stdout",
       "text": [
        "libtool: compile:  gcc -DHAVE_CONFIG_H -I. -I.. -I.. -g -O2 -MT hyperg_2F1.lo -MD -MP -MF .deps/hyperg_2F1.Tpo -c hyperg_2F1.c -o hyperg_2F1.o >/dev/null 2>&1\r\n"
       ]
      },
      {
       "output_type": "stream",
       "stream": "stdout",
       "text": [
        "mv -f .deps/hyperg_2F1.Tpo .deps/hyperg_2F1.Plo\r\n"
       ]
      },
      {
       "output_type": "stream",
       "stream": "stdout",
       "text": [
        "/bin/sh ../libtool --tag=CC   --mode=compile gcc -DHAVE_CONFIG_H -I. -I.. -I..    -g -O2 -MT hyperg_U.lo -MD -MP -MF .deps/hyperg_U.Tpo -c -o hyperg_U.lo hyperg_U.c\r\n",
        "libtool: compile:  gcc -DHAVE_CONFIG_H -I. -I.. -I.. -g -O2 -MT hyperg_U.lo -MD -MP -MF .deps/hyperg_U.Tpo -c hyperg_U.c  -fno-common -DPIC -o .libs/hyperg_U.o\r\n"
       ]
      },
      {
       "output_type": "stream",
       "stream": "stdout",
       "text": [
        "\u001b[01m\u001b[Khyperg_U.c:\u001b[m\u001b[K In function '\u001b[01m\u001b[Khyperg_U_infinite_sum_simple\u001b[m\u001b[K':\r\n",
        "\u001b[01m\u001b[Khyperg_U.c:527:9:\u001b[m\u001b[K \u001b[01;35m\u001b[Kwarning: \u001b[m\u001b[K'\u001b[01m\u001b[Kfinite\u001b[m\u001b[K' is deprecated [-Wdeprecated-declarations]\r\n",
        "         if(!finite(t_val) || fabs(t_val) < EPS*fabs(dchu_val)) break;\r\n",
        "\u001b[01;32m\u001b[K         ^\u001b[m\u001b[K\r\n",
        "In file included from \u001b[01m\u001b[K../gsl/gsl_math.h:22:0\u001b[m\u001b[K,\r\n",
        "                 from \u001b[01m\u001b[Khyperg_U.c:24\u001b[m\u001b[K:\r\n",
        "\u001b[01m\u001b[K/usr/local/Cellar/gcc/5.1.0/lib/gcc/5/gcc/x86_64-apple-darwin14.3.0/5.1.0/include-fixed/math.h:733:12:\u001b[m\u001b[K \u001b[01;36m\u001b[Knote: \u001b[m\u001b[Kdeclared here\r\n",
        " extern int finite(double) __OSX_AVAILABLE_BUT_DEPRECATED(__MAC_10_0, __MAC_10_9, __IPHONE_NA, __IPHONE_NA);\r\n",
        "\u001b[01;32m\u001b[K            ^\u001b[m\u001b[K\r\n"
       ]
      },
      {
       "output_type": "stream",
       "stream": "stdout",
       "text": [
        "libtool: compile:  gcc -DHAVE_CONFIG_H -I. -I.. -I.. -g -O2 -MT hyperg_U.lo -MD -MP -MF .deps/hyperg_U.Tpo -c hyperg_U.c -o hyperg_U.o >/dev/null 2>&1\r\n"
       ]
      },
      {
       "output_type": "stream",
       "stream": "stdout",
       "text": [
        "mv -f .deps/hyperg_U.Tpo .deps/hyperg_U.Plo\r\n",
        "/bin/sh ../libtool --tag=CC   --mode=compile gcc -DHAVE_CONFIG_H -I. -I.. -I..    -g -O2 -MT hyperg.lo -MD -MP -MF .deps/hyperg.Tpo -c -o hyperg.lo hyperg.c\r\n",
        "libtool: compile:  gcc -DHAVE_CONFIG_H -I. -I.. -I.. -g -O2 -MT hyperg.lo -MD -MP -MF .deps/hyperg.Tpo -c hyperg.c  -fno-common -DPIC -o .libs/hyperg.o\r\n"
       ]
      },
      {
       "output_type": "stream",
       "stream": "stdout",
       "text": [
        "libtool: compile:  gcc -DHAVE_CONFIG_H -I. -I.. -I.. -g -O2 -MT hyperg.lo -MD -MP -MF .deps/hyperg.Tpo -c hyperg.c -o hyperg.o >/dev/null 2>&1\r\n"
       ]
      },
      {
       "output_type": "stream",
       "stream": "stdout",
       "text": [
        "mv -f .deps/hyperg.Tpo .deps/hyperg.Plo\r\n",
        "/bin/sh ../libtool --tag=CC   --mode=compile gcc -DHAVE_CONFIG_H -I. -I.. -I..    -g -O2 -MT laguerre.lo -MD -MP -MF .deps/laguerre.Tpo -c -o laguerre.lo laguerre.c\r\n"
       ]
      },
      {
       "output_type": "stream",
       "stream": "stdout",
       "text": [
        "libtool: compile:  gcc -DHAVE_CONFIG_H -I. -I.. -I.. -g -O2 -MT laguerre.lo -MD -MP -MF .deps/laguerre.Tpo -c laguerre.c  -fno-common -DPIC -o .libs/laguerre.o\r\n"
       ]
      },
      {
       "output_type": "stream",
       "stream": "stdout",
       "text": [
        "libtool: compile:  gcc -DHAVE_CONFIG_H -I. -I.. -I.. -g -O2 -MT laguerre.lo -MD -MP -MF .deps/laguerre.Tpo -c laguerre.c -o laguerre.o >/dev/null 2>&1\r\n"
       ]
      },
      {
       "output_type": "stream",
       "stream": "stdout",
       "text": [
        "mv -f .deps/laguerre.Tpo .deps/laguerre.Plo\r\n",
        "/bin/sh ../libtool --tag=CC   --mode=compile gcc -DHAVE_CONFIG_H -I. -I.. -I..    -g -O2 -MT lambert.lo -MD -MP -MF .deps/lambert.Tpo -c -o lambert.lo lambert.c\r\n"
       ]
      },
      {
       "output_type": "stream",
       "stream": "stdout",
       "text": [
        "libtool: compile:  gcc -DHAVE_CONFIG_H -I. -I.. -I.. -g -O2 -MT lambert.lo -MD -MP -MF .deps/lambert.Tpo -c lambert.c  -fno-common -DPIC -o .libs/lambert.o\r\n"
       ]
      },
      {
       "output_type": "stream",
       "stream": "stdout",
       "text": [
        "libtool: compile:  gcc -DHAVE_CONFIG_H -I. -I.. -I.. -g -O2 -MT lambert.lo -MD -MP -MF .deps/lambert.Tpo -c lambert.c -o lambert.o >/dev/null 2>&1\r\n"
       ]
      },
      {
       "output_type": "stream",
       "stream": "stdout",
       "text": [
        "mv -f .deps/lambert.Tpo .deps/lambert.Plo\r\n",
        "/bin/sh ../libtool --tag=CC   --mode=compile gcc -DHAVE_CONFIG_H -I. -I.. -I..    -g -O2 -MT legendre_H3d.lo -MD -MP -MF .deps/legendre_H3d.Tpo -c -o legendre_H3d.lo legendre_H3d.c\r\n"
       ]
      },
      {
       "output_type": "stream",
       "stream": "stdout",
       "text": [
        "libtool: compile:  gcc -DHAVE_CONFIG_H -I. -I.. -I.. -g -O2 -MT legendre_H3d.lo -MD -MP -MF .deps/legendre_H3d.Tpo -c legendre_H3d.c  -fno-common -DPIC -o .libs/legendre_H3d.o\r\n"
       ]
      },
      {
       "output_type": "stream",
       "stream": "stdout",
       "text": [
        "libtool: compile:  gcc -DHAVE_CONFIG_H -I. -I.. -I.. -g -O2 -MT legendre_H3d.lo -MD -MP -MF .deps/legendre_H3d.Tpo -c legendre_H3d.c -o legendre_H3d.o >/dev/null 2>&1\r\n"
       ]
      },
      {
       "output_type": "stream",
       "stream": "stdout",
       "text": [
        "mv -f .deps/legendre_H3d.Tpo .deps/legendre_H3d.Plo\r\n",
        "/bin/sh ../libtool --tag=CC   --mode=compile gcc -DHAVE_CONFIG_H -I. -I.. -I..    -g -O2 -MT legendre_Qn.lo -MD -MP -MF .deps/legendre_Qn.Tpo -c -o legendre_Qn.lo legendre_Qn.c\r\n",
        "libtool: compile:  gcc -DHAVE_CONFIG_H -I. -I.. -I.. -g -O2 -MT legendre_Qn.lo -MD -MP -MF .deps/legendre_Qn.Tpo -c legendre_Qn.c  -fno-common -DPIC -o .libs/legendre_Qn.o\r\n"
       ]
      },
      {
       "output_type": "stream",
       "stream": "stdout",
       "text": [
        "libtool: compile:  gcc -DHAVE_CONFIG_H -I. -I.. -I.. -g -O2 -MT legendre_Qn.lo -MD -MP -MF .deps/legendre_Qn.Tpo -c legendre_Qn.c -o legendre_Qn.o >/dev/null 2>&1\r\n"
       ]
      },
      {
       "output_type": "stream",
       "stream": "stdout",
       "text": [
        "mv -f .deps/legendre_Qn.Tpo .deps/legendre_Qn.Plo\r\n",
        "/bin/sh ../libtool --tag=CC   --mode=compile gcc -DHAVE_CONFIG_H -I. -I.. -I..    -g -O2 -MT legendre_con.lo -MD -MP -MF .deps/legendre_con.Tpo -c -o legendre_con.lo legendre_con.c\r\n",
        "libtool: compile:  gcc -DHAVE_CONFIG_H -I. -I.. -I.. -g -O2 -MT legendre_con.lo -MD -MP -MF .deps/legendre_con.Tpo -c legendre_con.c  -fno-common -DPIC -o .libs/legendre_con.o\r\n"
       ]
      },
      {
       "output_type": "stream",
       "stream": "stdout",
       "text": [
        "libtool: compile:  gcc -DHAVE_CONFIG_H -I. -I.. -I.. -g -O2 -MT legendre_con.lo -MD -MP -MF .deps/legendre_con.Tpo -c legendre_con.c -o legendre_con.o >/dev/null 2>&1\r\n"
       ]
      },
      {
       "output_type": "stream",
       "stream": "stdout",
       "text": [
        "mv -f .deps/legendre_con.Tpo .deps/legendre_con.Plo\r\n",
        "/bin/sh ../libtool --tag=CC   --mode=compile gcc -DHAVE_CONFIG_H -I. -I.. -I..    -g -O2 -MT legendre_poly.lo -MD -MP -MF .deps/legendre_poly.Tpo -c -o legendre_poly.lo legendre_poly.c\r\n",
        "libtool: compile:  gcc -DHAVE_CONFIG_H -I. -I.. -I.. -g -O2 -MT legendre_poly.lo -MD -MP -MF .deps/legendre_poly.Tpo -c legendre_poly.c  -fno-common -DPIC -o .libs/legendre_poly.o\r\n"
       ]
      },
      {
       "output_type": "stream",
       "stream": "stdout",
       "text": [
        "libtool: compile:  gcc -DHAVE_CONFIG_H -I. -I.. -I.. -g -O2 -MT legendre_poly.lo -MD -MP -MF .deps/legendre_poly.Tpo -c legendre_poly.c -o legendre_poly.o >/dev/null 2>&1\r\n"
       ]
      },
      {
       "output_type": "stream",
       "stream": "stdout",
       "text": [
        "mv -f .deps/legendre_poly.Tpo .deps/legendre_poly.Plo\r\n",
        "/bin/sh ../libtool --tag=CC   --mode=compile gcc -DHAVE_CONFIG_H -I. -I.. -I..    -g -O2 -MT log.lo -MD -MP -MF .deps/log.Tpo -c -o log.lo log.c\r\n"
       ]
      },
      {
       "output_type": "stream",
       "stream": "stdout",
       "text": [
        "libtool: compile:  gcc -DHAVE_CONFIG_H -I. -I.. -I.. -g -O2 -MT log.lo -MD -MP -MF .deps/log.Tpo -c log.c  -fno-common -DPIC -o .libs/log.o\r\n"
       ]
      },
      {
       "output_type": "stream",
       "stream": "stdout",
       "text": [
        "libtool: compile:  gcc -DHAVE_CONFIG_H -I. -I.. -I.. -g -O2 -MT log.lo -MD -MP -MF .deps/log.Tpo -c log.c -o log.o >/dev/null 2>&1\r\n"
       ]
      },
      {
       "output_type": "stream",
       "stream": "stdout",
       "text": [
        "mv -f .deps/log.Tpo .deps/log.Plo\r\n",
        "/bin/sh ../libtool --tag=CC   --mode=compile gcc -DHAVE_CONFIG_H -I. -I.. -I..    -g -O2 -MT mathieu_angfunc.lo -MD -MP -MF .deps/mathieu_angfunc.Tpo -c -o mathieu_angfunc.lo mathieu_angfunc.c\r\n",
        "libtool: compile:  gcc -DHAVE_CONFIG_H -I. -I.. -I.. -g -O2 -MT mathieu_angfunc.lo -MD -MP -MF .deps/mathieu_angfunc.Tpo -c mathieu_angfunc.c  -fno-common -DPIC -o .libs/mathieu_angfunc.o\r\n"
       ]
      },
      {
       "output_type": "stream",
       "stream": "stdout",
       "text": [
        "libtool: compile:  gcc -DHAVE_CONFIG_H -I. -I.. -I.. -g -O2 -MT mathieu_angfunc.lo -MD -MP -MF .deps/mathieu_angfunc.Tpo -c mathieu_angfunc.c -o mathieu_angfunc.o >/dev/null 2>&1\r\n"
       ]
      },
      {
       "output_type": "stream",
       "stream": "stdout",
       "text": [
        "mv -f .deps/mathieu_angfunc.Tpo .deps/mathieu_angfunc.Plo\r\n",
        "/bin/sh ../libtool --tag=CC   --mode=compile gcc -DHAVE_CONFIG_H -I. -I.. -I..    -g -O2 -MT mathieu_charv.lo -MD -MP -MF .deps/mathieu_charv.Tpo -c -o mathieu_charv.lo mathieu_charv.c\r\n"
       ]
      },
      {
       "output_type": "stream",
       "stream": "stdout",
       "text": [
        "libtool: compile:  gcc -DHAVE_CONFIG_H -I. -I.. -I.. -g -O2 -MT mathieu_charv.lo -MD -MP -MF .deps/mathieu_charv.Tpo -c mathieu_charv.c  -fno-common -DPIC -o .libs/mathieu_charv.o\r\n"
       ]
      },
      {
       "output_type": "stream",
       "stream": "stdout",
       "text": [
        "libtool: compile:  gcc -DHAVE_CONFIG_H -I. -I.. -I.. -g -O2 -MT mathieu_charv.lo -MD -MP -MF .deps/mathieu_charv.Tpo -c mathieu_charv.c -o mathieu_charv.o >/dev/null 2>&1\r\n"
       ]
      },
      {
       "output_type": "stream",
       "stream": "stdout",
       "text": [
        "mv -f .deps/mathieu_charv.Tpo .deps/mathieu_charv.Plo\r\n",
        "/bin/sh ../libtool --tag=CC   --mode=compile gcc -DHAVE_CONFIG_H -I. -I.. -I..    -g -O2 -MT mathieu_coeff.lo -MD -MP -MF .deps/mathieu_coeff.Tpo -c -o mathieu_coeff.lo mathieu_coeff.c\r\n",
        "libtool: compile:  gcc -DHAVE_CONFIG_H -I. -I.. -I.. -g -O2 -MT mathieu_coeff.lo -MD -MP -MF .deps/mathieu_coeff.Tpo -c mathieu_coeff.c  -fno-common -DPIC -o .libs/mathieu_coeff.o\r\n"
       ]
      },
      {
       "output_type": "stream",
       "stream": "stdout",
       "text": [
        "libtool: compile:  gcc -DHAVE_CONFIG_H -I. -I.. -I.. -g -O2 -MT mathieu_coeff.lo -MD -MP -MF .deps/mathieu_coeff.Tpo -c mathieu_coeff.c -o mathieu_coeff.o >/dev/null 2>&1\r\n"
       ]
      },
      {
       "output_type": "stream",
       "stream": "stdout",
       "text": [
        "mv -f .deps/mathieu_coeff.Tpo .deps/mathieu_coeff.Plo\r\n"
       ]
      },
      {
       "output_type": "stream",
       "stream": "stdout",
       "text": [
        "/bin/sh ../libtool --tag=CC   --mode=compile gcc -DHAVE_CONFIG_H -I. -I.. -I..    -g -O2 -MT mathieu_radfunc.lo -MD -MP -MF .deps/mathieu_radfunc.Tpo -c -o mathieu_radfunc.lo mathieu_radfunc.c\r\n",
        "libtool: compile:  gcc -DHAVE_CONFIG_H -I. -I.. -I.. -g -O2 -MT mathieu_radfunc.lo -MD -MP -MF .deps/mathieu_radfunc.Tpo -c mathieu_radfunc.c  -fno-common -DPIC -o .libs/mathieu_radfunc.o\r\n"
       ]
      },
      {
       "output_type": "stream",
       "stream": "stdout",
       "text": [
        "libtool: compile:  gcc -DHAVE_CONFIG_H -I. -I.. -I.. -g -O2 -MT mathieu_radfunc.lo -MD -MP -MF .deps/mathieu_radfunc.Tpo -c mathieu_radfunc.c -o mathieu_radfunc.o >/dev/null 2>&1\r\n"
       ]
      },
      {
       "output_type": "stream",
       "stream": "stdout",
       "text": [
        "mv -f .deps/mathieu_radfunc.Tpo .deps/mathieu_radfunc.Plo\r\n",
        "/bin/sh ../libtool --tag=CC   --mode=compile gcc -DHAVE_CONFIG_H -I. -I.. -I..    -g -O2 -MT mathieu_workspace.lo -MD -MP -MF .deps/mathieu_workspace.Tpo -c -o mathieu_workspace.lo mathieu_workspace.c\r\n",
        "libtool: compile:  gcc -DHAVE_CONFIG_H -I. -I.. -I.. -g -O2 -MT mathieu_workspace.lo -MD -MP -MF .deps/mathieu_workspace.Tpo -c mathieu_workspace.c  -fno-common -DPIC -o .libs/mathieu_workspace.o\r\n"
       ]
      },
      {
       "output_type": "stream",
       "stream": "stdout",
       "text": [
        "libtool: compile:  gcc -DHAVE_CONFIG_H -I. -I.. -I.. -g -O2 -MT mathieu_workspace.lo -MD -MP -MF .deps/mathieu_workspace.Tpo -c mathieu_workspace.c -o mathieu_workspace.o >/dev/null 2>&1\r\n"
       ]
      },
      {
       "output_type": "stream",
       "stream": "stdout",
       "text": [
        "mv -f .deps/mathieu_workspace.Tpo .deps/mathieu_workspace.Plo\r\n",
        "/bin/sh ../libtool --tag=CC   --mode=compile gcc -DHAVE_CONFIG_H -I. -I.. -I..    -g -O2 -MT poch.lo -MD -MP -MF .deps/poch.Tpo -c -o poch.lo poch.c\r\n",
        "libtool: compile:  gcc -DHAVE_CONFIG_H -I. -I.. -I.. -g -O2 -MT poch.lo -MD -MP -MF .deps/poch.Tpo -c poch.c  -fno-common -DPIC -o .libs/poch.o\r\n"
       ]
      },
      {
       "output_type": "stream",
       "stream": "stdout",
       "text": [
        "libtool: compile:  gcc -DHAVE_CONFIG_H -I. -I.. -I.. -g -O2 -MT poch.lo -MD -MP -MF .deps/poch.Tpo -c poch.c -o poch.o >/dev/null 2>&1\r\n"
       ]
      },
      {
       "output_type": "stream",
       "stream": "stdout",
       "text": [
        "mv -f .deps/poch.Tpo .deps/poch.Plo\r\n",
        "/bin/sh ../libtool --tag=CC   --mode=compile gcc -DHAVE_CONFIG_H -I. -I.. -I..    -g -O2 -MT pow_int.lo -MD -MP -MF .deps/pow_int.Tpo -c -o pow_int.lo pow_int.c\r\n",
        "libtool: compile:  gcc -DHAVE_CONFIG_H -I. -I.. -I.. -g -O2 -MT pow_int.lo -MD -MP -MF .deps/pow_int.Tpo -c pow_int.c  -fno-common -DPIC -o .libs/pow_int.o\r\n"
       ]
      },
      {
       "output_type": "stream",
       "stream": "stdout",
       "text": [
        "libtool: compile:  gcc -DHAVE_CONFIG_H -I. -I.. -I.. -g -O2 -MT pow_int.lo -MD -MP -MF .deps/pow_int.Tpo -c pow_int.c -o pow_int.o >/dev/null 2>&1\r\n"
       ]
      },
      {
       "output_type": "stream",
       "stream": "stdout",
       "text": [
        "mv -f .deps/pow_int.Tpo .deps/pow_int.Plo\r\n",
        "/bin/sh ../libtool --tag=CC   --mode=compile gcc -DHAVE_CONFIG_H -I. -I.. -I..    -g -O2 -MT psi.lo -MD -MP -MF .deps/psi.Tpo -c -o psi.lo psi.c\r\n",
        "libtool: compile:  gcc -DHAVE_CONFIG_H -I. -I.. -I.. -g -O2 -MT psi.lo -MD -MP -MF .deps/psi.Tpo -c psi.c  -fno-common -DPIC -o .libs/psi.o\r\n"
       ]
      },
      {
       "output_type": "stream",
       "stream": "stdout",
       "text": [
        "libtool: compile:  gcc -DHAVE_CONFIG_H -I. -I.. -I.. -g -O2 -MT psi.lo -MD -MP -MF .deps/psi.Tpo -c psi.c -o psi.o >/dev/null 2>&1\r\n"
       ]
      },
      {
       "output_type": "stream",
       "stream": "stdout",
       "text": [
        "mv -f .deps/psi.Tpo .deps/psi.Plo\r\n",
        "/bin/sh ../libtool --tag=CC   --mode=compile gcc -DHAVE_CONFIG_H -I. -I.. -I..    -g -O2 -MT result.lo -MD -MP -MF .deps/result.Tpo -c -o result.lo result.c\r\n",
        "libtool: compile:  gcc -DHAVE_CONFIG_H -I. -I.. -I.. -g -O2 -MT result.lo -MD -MP -MF .deps/result.Tpo -c result.c  -fno-common -DPIC -o .libs/result.o\r\n"
       ]
      },
      {
       "output_type": "stream",
       "stream": "stdout",
       "text": [
        "libtool: compile:  gcc -DHAVE_CONFIG_H -I. -I.. -I.. -g -O2 -MT result.lo -MD -MP -MF .deps/result.Tpo -c result.c -o result.o >/dev/null 2>&1\r\n"
       ]
      },
      {
       "output_type": "stream",
       "stream": "stdout",
       "text": [
        "mv -f .deps/result.Tpo .deps/result.Plo\r\n",
        "/bin/sh ../libtool --tag=CC   --mode=compile gcc -DHAVE_CONFIG_H -I. -I.. -I..    -g -O2 -MT shint.lo -MD -MP -MF .deps/shint.Tpo -c -o shint.lo shint.c\r\n",
        "libtool: compile:  gcc -DHAVE_CONFIG_H -I. -I.. -I.. -g -O2 -MT shint.lo -MD -MP -MF .deps/shint.Tpo -c shint.c  -fno-common -DPIC -o .libs/shint.o\r\n"
       ]
      },
      {
       "output_type": "stream",
       "stream": "stdout",
       "text": [
        "libtool: compile:  gcc -DHAVE_CONFIG_H -I. -I.. -I.. -g -O2 -MT shint.lo -MD -MP -MF .deps/shint.Tpo -c shint.c -o shint.o >/dev/null 2>&1\r\n"
       ]
      },
      {
       "output_type": "stream",
       "stream": "stdout",
       "text": [
        "mv -f .deps/shint.Tpo .deps/shint.Plo\r\n",
        "/bin/sh ../libtool --tag=CC   --mode=compile gcc -DHAVE_CONFIG_H -I. -I.. -I..    -g -O2 -MT sinint.lo -MD -MP -MF .deps/sinint.Tpo -c -o sinint.lo sinint.c\r\n"
       ]
      },
      {
       "output_type": "stream",
       "stream": "stdout",
       "text": [
        "libtool: compile:  gcc -DHAVE_CONFIG_H -I. -I.. -I.. -g -O2 -MT sinint.lo -MD -MP -MF .deps/sinint.Tpo -c sinint.c  -fno-common -DPIC -o .libs/sinint.o\r\n"
       ]
      },
      {
       "output_type": "stream",
       "stream": "stdout",
       "text": [
        "libtool: compile:  gcc -DHAVE_CONFIG_H -I. -I.. -I.. -g -O2 -MT sinint.lo -MD -MP -MF .deps/sinint.Tpo -c sinint.c -o sinint.o >/dev/null 2>&1\r\n"
       ]
      },
      {
       "output_type": "stream",
       "stream": "stdout",
       "text": [
        "mv -f .deps/sinint.Tpo .deps/sinint.Plo\r\n",
        "/bin/sh ../libtool --tag=CC   --mode=compile gcc -DHAVE_CONFIG_H -I. -I.. -I..    -g -O2 -MT synchrotron.lo -MD -MP -MF .deps/synchrotron.Tpo -c -o synchrotron.lo synchrotron.c\r\n"
       ]
      },
      {
       "output_type": "stream",
       "stream": "stdout",
       "text": [
        "libtool: compile:  gcc -DHAVE_CONFIG_H -I. -I.. -I.. -g -O2 -MT synchrotron.lo -MD -MP -MF .deps/synchrotron.Tpo -c synchrotron.c  -fno-common -DPIC -o .libs/synchrotron.o\r\n"
       ]
      },
      {
       "output_type": "stream",
       "stream": "stdout",
       "text": [
        "libtool: compile:  gcc -DHAVE_CONFIG_H -I. -I.. -I.. -g -O2 -MT synchrotron.lo -MD -MP -MF .deps/synchrotron.Tpo -c synchrotron.c -o synchrotron.o >/dev/null 2>&1\r\n"
       ]
      },
      {
       "output_type": "stream",
       "stream": "stdout",
       "text": [
        "mv -f .deps/synchrotron.Tpo .deps/synchrotron.Plo\r\n",
        "/bin/sh ../libtool --tag=CC   --mode=compile gcc -DHAVE_CONFIG_H -I. -I.. -I..    -g -O2 -MT transport.lo -MD -MP -MF .deps/transport.Tpo -c -o transport.lo transport.c\r\n",
        "libtool: compile:  gcc -DHAVE_CONFIG_H -I. -I.. -I.. -g -O2 -MT transport.lo -MD -MP -MF .deps/transport.Tpo -c transport.c  -fno-common -DPIC -o .libs/transport.o\r\n"
       ]
      },
      {
       "output_type": "stream",
       "stream": "stdout",
       "text": [
        "libtool: compile:  gcc -DHAVE_CONFIG_H -I. -I.. -I.. -g -O2 -MT transport.lo -MD -MP -MF .deps/transport.Tpo -c transport.c -o transport.o >/dev/null 2>&1\r\n"
       ]
      },
      {
       "output_type": "stream",
       "stream": "stdout",
       "text": [
        "mv -f .deps/transport.Tpo .deps/transport.Plo\r\n",
        "/bin/sh ../libtool --tag=CC   --mode=compile gcc -DHAVE_CONFIG_H -I. -I.. -I..    -g -O2 -MT trig.lo -MD -MP -MF .deps/trig.Tpo -c -o trig.lo trig.c\r\n",
        "libtool: compile:  gcc -DHAVE_CONFIG_H -I. -I.. -I.. -g -O2 -MT trig.lo -MD -MP -MF .deps/trig.Tpo -c trig.c  -fno-common -DPIC -o .libs/trig.o\r\n"
       ]
      },
      {
       "output_type": "stream",
       "stream": "stdout",
       "text": [
        "libtool: compile:  gcc -DHAVE_CONFIG_H -I. -I.. -I.. -g -O2 -MT trig.lo -MD -MP -MF .deps/trig.Tpo -c trig.c -o trig.o >/dev/null 2>&1\r\n"
       ]
      },
      {
       "output_type": "stream",
       "stream": "stdout",
       "text": [
        "mv -f .deps/trig.Tpo .deps/trig.Plo\r\n",
        "/bin/sh ../libtool --tag=CC   --mode=compile gcc -DHAVE_CONFIG_H -I. -I.. -I..    -g -O2 -MT zeta.lo -MD -MP -MF .deps/zeta.Tpo -c -o zeta.lo zeta.c\r\n",
        "libtool: compile:  gcc -DHAVE_CONFIG_H -I. -I.. -I.. -g -O2 -MT zeta.lo -MD -MP -MF .deps/zeta.Tpo -c zeta.c  -fno-common -DPIC -o .libs/zeta.o\r\n"
       ]
      },
      {
       "output_type": "stream",
       "stream": "stdout",
       "text": [
        "libtool: compile:  gcc -DHAVE_CONFIG_H -I. -I.. -I.. -g -O2 -MT zeta.lo -MD -MP -MF .deps/zeta.Tpo -c zeta.c -o zeta.o >/dev/null 2>&1\r\n"
       ]
      },
      {
       "output_type": "stream",
       "stream": "stdout",
       "text": [
        "mv -f .deps/zeta.Tpo .deps/zeta.Plo\r\n",
        "/bin/sh ../libtool --tag=CC   --mode=link gcc  -g -O2   -o libgslspecfunc.la  airy.lo airy_der.lo airy_zero.lo atanint.lo bessel.lo bessel_I0.lo bessel_I1.lo bessel_In.lo bessel_Inu.lo bessel_J0.lo bessel_J1.lo bessel_Jn.lo bessel_Jnu.lo bessel_K0.lo bessel_K1.lo bessel_Kn.lo bessel_Knu.lo bessel_Y0.lo bessel_Y1.lo bessel_Yn.lo bessel_Ynu.lo bessel_amp_phase.lo bessel_i.lo bessel_j.lo bessel_k.lo bessel_olver.lo bessel_temme.lo bessel_y.lo bessel_zero.lo bessel_sequence.lo beta.lo beta_inc.lo clausen.lo coulomb.lo coupling.lo coulomb_bound.lo dawson.lo debye.lo dilog.lo elementary.lo ellint.lo elljac.lo erfc.lo exp.lo expint.lo expint3.lo fermi_dirac.lo gegenbauer.lo gamma.lo gamma_inc.lo hyperg_0F1.lo hyperg_2F0.lo hyperg_1F1.lo hyperg_2F1.lo hyperg_U.lo hyperg.lo laguerre.lo lambert.lo legendre_H3d.lo legendre_Qn.lo legendre_con.lo legendre_poly.lo log.lo mathieu_angfunc.lo mathieu_charv.lo mathieu_coeff.lo mathieu_radfunc.lo mathieu_workspace.lo poch.lo pow_int.lo psi.lo result.lo shint.lo sinint.lo synchrotron.lo transport.lo trig.lo zeta.lo  -lm \r\n"
       ]
      },
      {
       "output_type": "stream",
       "stream": "stdout",
       "text": [
        "libtool: link: ar cru .libs/libgslspecfunc.a .libs/airy.o .libs/airy_der.o .libs/airy_zero.o .libs/atanint.o .libs/bessel.o .libs/bessel_I0.o .libs/bessel_I1.o .libs/bessel_In.o .libs/bessel_Inu.o .libs/bessel_J0.o .libs/bessel_J1.o .libs/bessel_Jn.o .libs/bessel_Jnu.o .libs/bessel_K0.o .libs/bessel_K1.o .libs/bessel_Kn.o .libs/bessel_Knu.o .libs/bessel_Y0.o .libs/bessel_Y1.o .libs/bessel_Yn.o .libs/bessel_Ynu.o .libs/bessel_amp_phase.o .libs/bessel_i.o .libs/bessel_j.o .libs/bessel_k.o .libs/bessel_olver.o .libs/bessel_temme.o .libs/bessel_y.o .libs/bessel_zero.o .libs/bessel_sequence.o .libs/beta.o .libs/beta_inc.o .libs/clausen.o .libs/coulomb.o .libs/coupling.o .libs/coulomb_bound.o .libs/dawson.o .libs/debye.o .libs/dilog.o .libs/elementary.o .libs/ellint.o .libs/elljac.o .libs/erfc.o .libs/exp.o .libs/expint.o .libs/expint3.o .libs/fermi_dirac.o .libs/gegenbauer.o .libs/gamma.o .libs/gamma_inc.o .libs/hyperg_0F1.o .libs/hyperg_2F0.o .libs/hyperg_1F1.o .libs/hyperg_2F1.o .libs/hyperg_U.o .libs/hyperg.o .libs/laguerre.o .libs/lambert.o .libs/legendre_H3d.o .libs/legendre_Qn.o .libs/legendre_con.o .libs/legendre_poly.o .libs/log.o .libs/mathieu_angfunc.o .libs/mathieu_charv.o .libs/mathieu_coeff.o .libs/mathieu_radfunc.o .libs/mathieu_workspace.o .libs/poch.o .libs/pow_int.o .libs/psi.o .libs/result.o .libs/shint.o .libs/sinint.o .libs/synchrotron.o .libs/transport.o .libs/trig.o .libs/zeta.o \r\n"
       ]
      },
      {
       "output_type": "stream",
       "stream": "stdout",
       "text": [
        "libtool: link: ranlib .libs/libgslspecfunc.a\r\n"
       ]
      },
      {
       "output_type": "stream",
       "stream": "stdout",
       "text": [
        "libtool: link: ( cd \".libs\" && rm -f \"libgslspecfunc.la\" && ln -s \"../libgslspecfunc.la\" \"libgslspecfunc.la\" )\r\n",
        "Making all in dht\r\n",
        "/bin/sh ../libtool --tag=CC   --mode=compile gcc -DHAVE_CONFIG_H -I. -I.. -I..    -g -O2 -MT dht.lo -MD -MP -MF .deps/dht.Tpo -c -o dht.lo dht.c\r\n",
        "libtool: compile:  gcc -DHAVE_CONFIG_H -I. -I.. -I.. -g -O2 -MT dht.lo -MD -MP -MF .deps/dht.Tpo -c dht.c  -fno-common -DPIC -o .libs/dht.o\r\n"
       ]
      },
      {
       "output_type": "stream",
       "stream": "stdout",
       "text": [
        "libtool: compile:  gcc -DHAVE_CONFIG_H -I. -I.. -I.. -g -O2 -MT dht.lo -MD -MP -MF .deps/dht.Tpo -c dht.c -o dht.o >/dev/null 2>&1\r\n"
       ]
      },
      {
       "output_type": "stream",
       "stream": "stdout",
       "text": [
        "mv -f .deps/dht.Tpo .deps/dht.Plo\r\n",
        "/bin/sh ../libtool --tag=CC   --mode=link gcc  -g -O2   -o libgsldht.la  dht.lo  -lm \r\n"
       ]
      },
      {
       "output_type": "stream",
       "stream": "stdout",
       "text": [
        "libtool: link: ar cru .libs/libgsldht.a .libs/dht.o \r\n",
        "libtool: link: ranlib .libs/libgsldht.a\r\n"
       ]
      },
      {
       "output_type": "stream",
       "stream": "stdout",
       "text": [
        "libtool: link: ( cd \".libs\" && rm -f \"libgsldht.la\" && ln -s \"../libgsldht.la\" \"libgsldht.la\" )\r\n",
        "Making all in qrng\r\n",
        "/bin/sh ../libtool --tag=CC   --mode=compile gcc -DHAVE_CONFIG_H -I. -I.. -I..    -g -O2 -MT qrng.lo -MD -MP -MF .deps/qrng.Tpo -c -o qrng.lo qrng.c\r\n"
       ]
      },
      {
       "output_type": "stream",
       "stream": "stdout",
       "text": [
        "libtool: compile:  gcc -DHAVE_CONFIG_H -I. -I.. -I.. -g -O2 -MT qrng.lo -MD -MP -MF .deps/qrng.Tpo -c qrng.c  -fno-common -DPIC -o .libs/qrng.o\r\n"
       ]
      },
      {
       "output_type": "stream",
       "stream": "stdout",
       "text": [
        "libtool: compile:  gcc -DHAVE_CONFIG_H -I. -I.. -I.. -g -O2 -MT qrng.lo -MD -MP -MF .deps/qrng.Tpo -c qrng.c -o qrng.o >/dev/null 2>&1\r\n"
       ]
      },
      {
       "output_type": "stream",
       "stream": "stdout",
       "text": [
        "mv -f .deps/qrng.Tpo .deps/qrng.Plo\r\n",
        "/bin/sh ../libtool --tag=CC   --mode=compile gcc -DHAVE_CONFIG_H -I. -I.. -I..    -g -O2 -MT niederreiter-2.lo -MD -MP -MF .deps/niederreiter-2.Tpo -c -o niederreiter-2.lo niederreiter-2.c\r\n",
        "libtool: compile:  gcc -DHAVE_CONFIG_H -I. -I.. -I.. -g -O2 -MT niederreiter-2.lo -MD -MP -MF .deps/niederreiter-2.Tpo -c niederreiter-2.c  -fno-common -DPIC -o .libs/niederreiter-2.o\r\n"
       ]
      },
      {
       "output_type": "stream",
       "stream": "stdout",
       "text": [
        "libtool: compile:  gcc -DHAVE_CONFIG_H -I. -I.. -I.. -g -O2 -MT niederreiter-2.lo -MD -MP -MF .deps/niederreiter-2.Tpo -c niederreiter-2.c -o niederreiter-2.o >/dev/null 2>&1\r\n"
       ]
      },
      {
       "output_type": "stream",
       "stream": "stdout",
       "text": [
        "mv -f .deps/niederreiter-2.Tpo .deps/niederreiter-2.Plo\r\n",
        "/bin/sh ../libtool --tag=CC   --mode=compile gcc -DHAVE_CONFIG_H -I. -I.. -I..    -g -O2 -MT sobol.lo -MD -MP -MF .deps/sobol.Tpo -c -o sobol.lo sobol.c\r\n",
        "libtool: compile:  gcc -DHAVE_CONFIG_H -I. -I.. -I.. -g -O2 -MT sobol.lo -MD -MP -MF .deps/sobol.Tpo -c sobol.c  -fno-common -DPIC -o .libs/sobol.o\r\n"
       ]
      },
      {
       "output_type": "stream",
       "stream": "stdout",
       "text": [
        "libtool: compile:  gcc -DHAVE_CONFIG_H -I. -I.. -I.. -g -O2 -MT sobol.lo -MD -MP -MF .deps/sobol.Tpo -c sobol.c -o sobol.o >/dev/null 2>&1\r\n"
       ]
      },
      {
       "output_type": "stream",
       "stream": "stdout",
       "text": [
        "mv -f .deps/sobol.Tpo .deps/sobol.Plo\r\n"
       ]
      },
      {
       "output_type": "stream",
       "stream": "stdout",
       "text": [
        "/bin/sh ../libtool --tag=CC   --mode=compile gcc -DHAVE_CONFIG_H -I. -I.. -I..    -g -O2 -MT halton.lo -MD -MP -MF .deps/halton.Tpo -c -o halton.lo halton.c\r\n",
        "libtool: compile:  gcc -DHAVE_CONFIG_H -I. -I.. -I.. -g -O2 -MT halton.lo -MD -MP -MF .deps/halton.Tpo -c halton.c  -fno-common -DPIC -o .libs/halton.o\r\n"
       ]
      },
      {
       "output_type": "stream",
       "stream": "stdout",
       "text": [
        "libtool: compile:  gcc -DHAVE_CONFIG_H -I. -I.. -I.. -g -O2 -MT halton.lo -MD -MP -MF .deps/halton.Tpo -c halton.c -o halton.o >/dev/null 2>&1\r\n"
       ]
      },
      {
       "output_type": "stream",
       "stream": "stdout",
       "text": [
        "mv -f .deps/halton.Tpo .deps/halton.Plo\r\n"
       ]
      },
      {
       "output_type": "stream",
       "stream": "stdout",
       "text": [
        "/bin/sh ../libtool --tag=CC   --mode=compile gcc -DHAVE_CONFIG_H -I. -I.. -I..    -g -O2 -MT reversehalton.lo -MD -MP -MF .deps/reversehalton.Tpo -c -o reversehalton.lo reversehalton.c\r\n",
        "libtool: compile:  gcc -DHAVE_CONFIG_H -I. -I.. -I.. -g -O2 -MT reversehalton.lo -MD -MP -MF .deps/reversehalton.Tpo -c reversehalton.c  -fno-common -DPIC -o .libs/reversehalton.o\r\n"
       ]
      },
      {
       "output_type": "stream",
       "stream": "stdout",
       "text": [
        "libtool: compile:  gcc -DHAVE_CONFIG_H -I. -I.. -I.. -g -O2 -MT reversehalton.lo -MD -MP -MF .deps/reversehalton.Tpo -c reversehalton.c -o reversehalton.o >/dev/null 2>&1\r\n"
       ]
      },
      {
       "output_type": "stream",
       "stream": "stdout",
       "text": [
        "mv -f .deps/reversehalton.Tpo .deps/reversehalton.Plo\r\n"
       ]
      },
      {
       "output_type": "stream",
       "stream": "stdout",
       "text": [
        "/bin/sh ../libtool --tag=CC   --mode=compile gcc -DHAVE_CONFIG_H -I. -I.. -I..    -g -O2 -MT inline.lo -MD -MP -MF .deps/inline.Tpo -c -o inline.lo inline.c\r\n",
        "libtool: compile:  gcc -DHAVE_CONFIG_H -I. -I.. -I.. -g -O2 -MT inline.lo -MD -MP -MF .deps/inline.Tpo -c inline.c  -fno-common -DPIC -o .libs/inline.o\r\n"
       ]
      },
      {
       "output_type": "stream",
       "stream": "stdout",
       "text": [
        "libtool: compile:  gcc -DHAVE_CONFIG_H -I. -I.. -I.. -g -O2 -MT inline.lo -MD -MP -MF .deps/inline.Tpo -c inline.c -o inline.o >/dev/null 2>&1\r\n"
       ]
      },
      {
       "output_type": "stream",
       "stream": "stdout",
       "text": [
        "mv -f .deps/inline.Tpo .deps/inline.Plo\r\n",
        "/bin/sh ../libtool --tag=CC   --mode=link gcc  -g -O2   -o libgslqrng.la  qrng.lo niederreiter-2.lo sobol.lo halton.lo reversehalton.lo inline.lo  -lm \r\n"
       ]
      },
      {
       "output_type": "stream",
       "stream": "stdout",
       "text": [
        "libtool: link: ar cru .libs/libgslqrng.a .libs/qrng.o .libs/niederreiter-2.o .libs/sobol.o .libs/halton.o .libs/reversehalton.o .libs/inline.o \r\n",
        "libtool: link: ranlib .libs/libgslqrng.a\r\n"
       ]
      },
      {
       "output_type": "stream",
       "stream": "stdout",
       "text": [
        "libtool: link: ( cd \".libs\" && rm -f \"libgslqrng.la\" && ln -s \"../libgslqrng.la\" \"libgslqrng.la\" )\r\n",
        "Making all in rng\r\n"
       ]
      },
      {
       "output_type": "stream",
       "stream": "stdout",
       "text": [
        "/bin/sh ../libtool --tag=CC   --mode=compile gcc -DHAVE_CONFIG_H -I. -I.. -I..    -g -O2 -MT borosh13.lo -MD -MP -MF .deps/borosh13.Tpo -c -o borosh13.lo borosh13.c\r\n",
        "libtool: compile:  gcc -DHAVE_CONFIG_H -I. -I.. -I.. -g -O2 -MT borosh13.lo -MD -MP -MF .deps/borosh13.Tpo -c borosh13.c  -fno-common -DPIC -o .libs/borosh13.o\r\n"
       ]
      },
      {
       "output_type": "stream",
       "stream": "stdout",
       "text": [
        "libtool: compile:  gcc -DHAVE_CONFIG_H -I. -I.. -I.. -g -O2 -MT borosh13.lo -MD -MP -MF .deps/borosh13.Tpo -c borosh13.c -o borosh13.o >/dev/null 2>&1\r\n"
       ]
      },
      {
       "output_type": "stream",
       "stream": "stdout",
       "text": [
        "mv -f .deps/borosh13.Tpo .deps/borosh13.Plo\r\n",
        "/bin/sh ../libtool --tag=CC   --mode=compile gcc -DHAVE_CONFIG_H -I. -I.. -I..    -g -O2 -MT cmrg.lo -MD -MP -MF .deps/cmrg.Tpo -c -o cmrg.lo cmrg.c\r\n"
       ]
      },
      {
       "output_type": "stream",
       "stream": "stdout",
       "text": [
        "libtool: compile:  gcc -DHAVE_CONFIG_H -I. -I.. -I.. -g -O2 -MT cmrg.lo -MD -MP -MF .deps/cmrg.Tpo -c cmrg.c  -fno-common -DPIC -o .libs/cmrg.o\r\n"
       ]
      },
      {
       "output_type": "stream",
       "stream": "stdout",
       "text": [
        "libtool: compile:  gcc -DHAVE_CONFIG_H -I. -I.. -I.. -g -O2 -MT cmrg.lo -MD -MP -MF .deps/cmrg.Tpo -c cmrg.c -o cmrg.o >/dev/null 2>&1\r\n"
       ]
      },
      {
       "output_type": "stream",
       "stream": "stdout",
       "text": [
        "mv -f .deps/cmrg.Tpo .deps/cmrg.Plo\r\n",
        "/bin/sh ../libtool --tag=CC   --mode=compile gcc -DHAVE_CONFIG_H -I. -I.. -I..    -g -O2 -MT coveyou.lo -MD -MP -MF .deps/coveyou.Tpo -c -o coveyou.lo coveyou.c\r\n"
       ]
      },
      {
       "output_type": "stream",
       "stream": "stdout",
       "text": [
        "libtool: compile:  gcc -DHAVE_CONFIG_H -I. -I.. -I.. -g -O2 -MT coveyou.lo -MD -MP -MF .deps/coveyou.Tpo -c coveyou.c  -fno-common -DPIC -o .libs/coveyou.o\r\n"
       ]
      },
      {
       "output_type": "stream",
       "stream": "stdout",
       "text": [
        "libtool: compile:  gcc -DHAVE_CONFIG_H -I. -I.. -I.. -g -O2 -MT coveyou.lo -MD -MP -MF .deps/coveyou.Tpo -c coveyou.c -o coveyou.o >/dev/null 2>&1\r\n"
       ]
      },
      {
       "output_type": "stream",
       "stream": "stdout",
       "text": [
        "mv -f .deps/coveyou.Tpo .deps/coveyou.Plo\r\n",
        "/bin/sh ../libtool --tag=CC   --mode=compile gcc -DHAVE_CONFIG_H -I. -I.. -I..    -g -O2 -MT default.lo -MD -MP -MF .deps/default.Tpo -c -o default.lo default.c\r\n",
        "libtool: compile:  gcc -DHAVE_CONFIG_H -I. -I.. -I.. -g -O2 -MT default.lo -MD -MP -MF .deps/default.Tpo -c default.c  -fno-common -DPIC -o .libs/default.o\r\n"
       ]
      },
      {
       "output_type": "stream",
       "stream": "stdout",
       "text": [
        "libtool: compile:  gcc -DHAVE_CONFIG_H -I. -I.. -I.. -g -O2 -MT default.lo -MD -MP -MF .deps/default.Tpo -c default.c -o default.o >/dev/null 2>&1\r\n"
       ]
      },
      {
       "output_type": "stream",
       "stream": "stdout",
       "text": [
        "mv -f .deps/default.Tpo .deps/default.Plo\r\n",
        "/bin/sh ../libtool --tag=CC   --mode=compile gcc -DHAVE_CONFIG_H -I. -I.. -I..    -g -O2 -MT file.lo -MD -MP -MF .deps/file.Tpo -c -o file.lo file.c\r\n"
       ]
      },
      {
       "output_type": "stream",
       "stream": "stdout",
       "text": [
        "libtool: compile:  gcc -DHAVE_CONFIG_H -I. -I.. -I.. -g -O2 -MT file.lo -MD -MP -MF .deps/file.Tpo -c file.c  -fno-common -DPIC -o .libs/file.o\r\n"
       ]
      },
      {
       "output_type": "stream",
       "stream": "stdout",
       "text": [
        "libtool: compile:  gcc -DHAVE_CONFIG_H -I. -I.. -I.. -g -O2 -MT file.lo -MD -MP -MF .deps/file.Tpo -c file.c -o file.o >/dev/null 2>&1\r\n"
       ]
      },
      {
       "output_type": "stream",
       "stream": "stdout",
       "text": [
        "mv -f .deps/file.Tpo .deps/file.Plo\r\n",
        "/bin/sh ../libtool --tag=CC   --mode=compile gcc -DHAVE_CONFIG_H -I. -I.. -I..    -g -O2 -MT fishman18.lo -MD -MP -MF .deps/fishman18.Tpo -c -o fishman18.lo fishman18.c\r\n"
       ]
      },
      {
       "output_type": "stream",
       "stream": "stdout",
       "text": [
        "libtool: compile:  gcc -DHAVE_CONFIG_H -I. -I.. -I.. -g -O2 -MT fishman18.lo -MD -MP -MF .deps/fishman18.Tpo -c fishman18.c  -fno-common -DPIC -o .libs/fishman18.o\r\n"
       ]
      },
      {
       "output_type": "stream",
       "stream": "stdout",
       "text": [
        "libtool: compile:  gcc -DHAVE_CONFIG_H -I. -I.. -I.. -g -O2 -MT fishman18.lo -MD -MP -MF .deps/fishman18.Tpo -c fishman18.c -o fishman18.o >/dev/null 2>&1\r\n"
       ]
      },
      {
       "output_type": "stream",
       "stream": "stdout",
       "text": [
        "mv -f .deps/fishman18.Tpo .deps/fishman18.Plo\r\n",
        "/bin/sh ../libtool --tag=CC   --mode=compile gcc -DHAVE_CONFIG_H -I. -I.. -I..    -g -O2 -MT fishman20.lo -MD -MP -MF .deps/fishman20.Tpo -c -o fishman20.lo fishman20.c\r\n",
        "libtool: compile:  gcc -DHAVE_CONFIG_H -I. -I.. -I.. -g -O2 -MT fishman20.lo -MD -MP -MF .deps/fishman20.Tpo -c fishman20.c  -fno-common -DPIC -o .libs/fishman20.o\r\n"
       ]
      },
      {
       "output_type": "stream",
       "stream": "stdout",
       "text": [
        "libtool: compile:  gcc -DHAVE_CONFIG_H -I. -I.. -I.. -g -O2 -MT fishman20.lo -MD -MP -MF .deps/fishman20.Tpo -c fishman20.c -o fishman20.o >/dev/null 2>&1\r\n"
       ]
      },
      {
       "output_type": "stream",
       "stream": "stdout",
       "text": [
        "mv -f .deps/fishman20.Tpo .deps/fishman20.Plo\r\n"
       ]
      },
      {
       "output_type": "stream",
       "stream": "stdout",
       "text": [
        "/bin/sh ../libtool --tag=CC   --mode=compile gcc -DHAVE_CONFIG_H -I. -I.. -I..    -g -O2 -MT fishman2x.lo -MD -MP -MF .deps/fishman2x.Tpo -c -o fishman2x.lo fishman2x.c\r\n",
        "libtool: compile:  gcc -DHAVE_CONFIG_H -I. -I.. -I.. -g -O2 -MT fishman2x.lo -MD -MP -MF .deps/fishman2x.Tpo -c fishman2x.c  -fno-common -DPIC -o .libs/fishman2x.o\r\n"
       ]
      },
      {
       "output_type": "stream",
       "stream": "stdout",
       "text": [
        "libtool: compile:  gcc -DHAVE_CONFIG_H -I. -I.. -I.. -g -O2 -MT fishman2x.lo -MD -MP -MF .deps/fishman2x.Tpo -c fishman2x.c -o fishman2x.o >/dev/null 2>&1\r\n"
       ]
      },
      {
       "output_type": "stream",
       "stream": "stdout",
       "text": [
        "mv -f .deps/fishman2x.Tpo .deps/fishman2x.Plo\r\n",
        "/bin/sh ../libtool --tag=CC   --mode=compile gcc -DHAVE_CONFIG_H -I. -I.. -I..    -g -O2 -MT gfsr4.lo -MD -MP -MF .deps/gfsr4.Tpo -c -o gfsr4.lo gfsr4.c\r\n",
        "libtool: compile:  gcc -DHAVE_CONFIG_H -I. -I.. -I.. -g -O2 -MT gfsr4.lo -MD -MP -MF .deps/gfsr4.Tpo -c gfsr4.c  -fno-common -DPIC -o .libs/gfsr4.o\r\n"
       ]
      },
      {
       "output_type": "stream",
       "stream": "stdout",
       "text": [
        "libtool: compile:  gcc -DHAVE_CONFIG_H -I. -I.. -I.. -g -O2 -MT gfsr4.lo -MD -MP -MF .deps/gfsr4.Tpo -c gfsr4.c -o gfsr4.o >/dev/null 2>&1\r\n"
       ]
      },
      {
       "output_type": "stream",
       "stream": "stdout",
       "text": [
        "mv -f .deps/gfsr4.Tpo .deps/gfsr4.Plo\r\n",
        "/bin/sh ../libtool --tag=CC   --mode=compile gcc -DHAVE_CONFIG_H -I. -I.. -I..    -g -O2 -MT knuthran2.lo -MD -MP -MF .deps/knuthran2.Tpo -c -o knuthran2.lo knuthran2.c\r\n",
        "libtool: compile:  gcc -DHAVE_CONFIG_H -I. -I.. -I.. -g -O2 -MT knuthran2.lo -MD -MP -MF .deps/knuthran2.Tpo -c knuthran2.c  -fno-common -DPIC -o .libs/knuthran2.o\r\n"
       ]
      },
      {
       "output_type": "stream",
       "stream": "stdout",
       "text": [
        "libtool: compile:  gcc -DHAVE_CONFIG_H -I. -I.. -I.. -g -O2 -MT knuthran2.lo -MD -MP -MF .deps/knuthran2.Tpo -c knuthran2.c -o knuthran2.o >/dev/null 2>&1\r\n"
       ]
      },
      {
       "output_type": "stream",
       "stream": "stdout",
       "text": [
        "mv -f .deps/knuthran2.Tpo .deps/knuthran2.Plo\r\n",
        "/bin/sh ../libtool --tag=CC   --mode=compile gcc -DHAVE_CONFIG_H -I. -I.. -I..    -g -O2 -MT knuthran.lo -MD -MP -MF .deps/knuthran.Tpo -c -o knuthran.lo knuthran.c\r\n"
       ]
      },
      {
       "output_type": "stream",
       "stream": "stdout",
       "text": [
        "libtool: compile:  gcc -DHAVE_CONFIG_H -I. -I.. -I.. -g -O2 -MT knuthran.lo -MD -MP -MF .deps/knuthran.Tpo -c knuthran.c  -fno-common -DPIC -o .libs/knuthran.o\r\n"
       ]
      },
      {
       "output_type": "stream",
       "stream": "stdout",
       "text": [
        "libtool: compile:  gcc -DHAVE_CONFIG_H -I. -I.. -I.. -g -O2 -MT knuthran.lo -MD -MP -MF .deps/knuthran.Tpo -c knuthran.c -o knuthran.o >/dev/null 2>&1\r\n"
       ]
      },
      {
       "output_type": "stream",
       "stream": "stdout",
       "text": [
        "mv -f .deps/knuthran.Tpo .deps/knuthran.Plo\r\n",
        "/bin/sh ../libtool --tag=CC   --mode=compile gcc -DHAVE_CONFIG_H -I. -I.. -I..    -g -O2 -MT knuthran2002.lo -MD -MP -MF .deps/knuthran2002.Tpo -c -o knuthran2002.lo knuthran2002.c\r\n",
        "libtool: compile:  gcc -DHAVE_CONFIG_H -I. -I.. -I.. -g -O2 -MT knuthran2002.lo -MD -MP -MF .deps/knuthran2002.Tpo -c knuthran2002.c  -fno-common -DPIC -o .libs/knuthran2002.o\r\n"
       ]
      },
      {
       "output_type": "stream",
       "stream": "stdout",
       "text": [
        "libtool: compile:  gcc -DHAVE_CONFIG_H -I. -I.. -I.. -g -O2 -MT knuthran2002.lo -MD -MP -MF .deps/knuthran2002.Tpo -c knuthran2002.c -o knuthran2002.o >/dev/null 2>&1\r\n"
       ]
      },
      {
       "output_type": "stream",
       "stream": "stdout",
       "text": [
        "mv -f .deps/knuthran2002.Tpo .deps/knuthran2002.Plo\r\n",
        "/bin/sh ../libtool --tag=CC   --mode=compile gcc -DHAVE_CONFIG_H -I. -I.. -I..    -g -O2 -MT lecuyer21.lo -MD -MP -MF .deps/lecuyer21.Tpo -c -o lecuyer21.lo lecuyer21.c\r\n"
       ]
      },
      {
       "output_type": "stream",
       "stream": "stdout",
       "text": [
        "libtool: compile:  gcc -DHAVE_CONFIG_H -I. -I.. -I.. -g -O2 -MT lecuyer21.lo -MD -MP -MF .deps/lecuyer21.Tpo -c lecuyer21.c  -fno-common -DPIC -o .libs/lecuyer21.o\r\n"
       ]
      },
      {
       "output_type": "stream",
       "stream": "stdout",
       "text": [
        "libtool: compile:  gcc -DHAVE_CONFIG_H -I. -I.. -I.. -g -O2 -MT lecuyer21.lo -MD -MP -MF .deps/lecuyer21.Tpo -c lecuyer21.c -o lecuyer21.o >/dev/null 2>&1\r\n"
       ]
      },
      {
       "output_type": "stream",
       "stream": "stdout",
       "text": [
        "mv -f .deps/lecuyer21.Tpo .deps/lecuyer21.Plo\r\n",
        "/bin/sh ../libtool --tag=CC   --mode=compile gcc -DHAVE_CONFIG_H -I. -I.. -I..    -g -O2 -MT minstd.lo -MD -MP -MF .deps/minstd.Tpo -c -o minstd.lo minstd.c\r\n"
       ]
      },
      {
       "output_type": "stream",
       "stream": "stdout",
       "text": [
        "libtool: compile:  gcc -DHAVE_CONFIG_H -I. -I.. -I.. -g -O2 -MT minstd.lo -MD -MP -MF .deps/minstd.Tpo -c minstd.c  -fno-common -DPIC -o .libs/minstd.o\r\n"
       ]
      },
      {
       "output_type": "stream",
       "stream": "stdout",
       "text": [
        "libtool: compile:  gcc -DHAVE_CONFIG_H -I. -I.. -I.. -g -O2 -MT minstd.lo -MD -MP -MF .deps/minstd.Tpo -c minstd.c -o minstd.o >/dev/null 2>&1\r\n"
       ]
      },
      {
       "output_type": "stream",
       "stream": "stdout",
       "text": [
        "mv -f .deps/minstd.Tpo .deps/minstd.Plo\r\n",
        "/bin/sh ../libtool --tag=CC   --mode=compile gcc -DHAVE_CONFIG_H -I. -I.. -I..    -g -O2 -MT mrg.lo -MD -MP -MF .deps/mrg.Tpo -c -o mrg.lo mrg.c\r\n"
       ]
      },
      {
       "output_type": "stream",
       "stream": "stdout",
       "text": [
        "libtool: compile:  gcc -DHAVE_CONFIG_H -I. -I.. -I.. -g -O2 -MT mrg.lo -MD -MP -MF .deps/mrg.Tpo -c mrg.c  -fno-common -DPIC -o .libs/mrg.o\r\n"
       ]
      },
      {
       "output_type": "stream",
       "stream": "stdout",
       "text": [
        "libtool: compile:  gcc -DHAVE_CONFIG_H -I. -I.. -I.. -g -O2 -MT mrg.lo -MD -MP -MF .deps/mrg.Tpo -c mrg.c -o mrg.o >/dev/null 2>&1\r\n"
       ]
      },
      {
       "output_type": "stream",
       "stream": "stdout",
       "text": [
        "mv -f .deps/mrg.Tpo .deps/mrg.Plo\r\n",
        "/bin/sh ../libtool --tag=CC   --mode=compile gcc -DHAVE_CONFIG_H -I. -I.. -I..    -g -O2 -MT mt.lo -MD -MP -MF .deps/mt.Tpo -c -o mt.lo mt.c\r\n"
       ]
      },
      {
       "output_type": "stream",
       "stream": "stdout",
       "text": [
        "libtool: compile:  gcc -DHAVE_CONFIG_H -I. -I.. -I.. -g -O2 -MT mt.lo -MD -MP -MF .deps/mt.Tpo -c mt.c  -fno-common -DPIC -o .libs/mt.o\r\n"
       ]
      },
      {
       "output_type": "stream",
       "stream": "stdout",
       "text": [
        "libtool: compile:  gcc -DHAVE_CONFIG_H -I. -I.. -I.. -g -O2 -MT mt.lo -MD -MP -MF .deps/mt.Tpo -c mt.c -o mt.o >/dev/null 2>&1\r\n"
       ]
      },
      {
       "output_type": "stream",
       "stream": "stdout",
       "text": [
        "mv -f .deps/mt.Tpo .deps/mt.Plo\r\n",
        "/bin/sh ../libtool --tag=CC   --mode=compile gcc -DHAVE_CONFIG_H -I. -I.. -I..    -g -O2 -MT r250.lo -MD -MP -MF .deps/r250.Tpo -c -o r250.lo r250.c\r\n",
        "libtool: compile:  gcc -DHAVE_CONFIG_H -I. -I.. -I.. -g -O2 -MT r250.lo -MD -MP -MF .deps/r250.Tpo -c r250.c  -fno-common -DPIC -o .libs/r250.o\r\n"
       ]
      },
      {
       "output_type": "stream",
       "stream": "stdout",
       "text": [
        "libtool: compile:  gcc -DHAVE_CONFIG_H -I. -I.. -I.. -g -O2 -MT r250.lo -MD -MP -MF .deps/r250.Tpo -c r250.c -o r250.o >/dev/null 2>&1\r\n"
       ]
      },
      {
       "output_type": "stream",
       "stream": "stdout",
       "text": [
        "mv -f .deps/r250.Tpo .deps/r250.Plo\r\n",
        "/bin/sh ../libtool --tag=CC   --mode=compile gcc -DHAVE_CONFIG_H -I. -I.. -I..    -g -O2 -MT ran0.lo -MD -MP -MF .deps/ran0.Tpo -c -o ran0.lo ran0.c\r\n",
        "libtool: compile:  gcc -DHAVE_CONFIG_H -I. -I.. -I.. -g -O2 -MT ran0.lo -MD -MP -MF .deps/ran0.Tpo -c ran0.c  -fno-common -DPIC -o .libs/ran0.o\r\n"
       ]
      },
      {
       "output_type": "stream",
       "stream": "stdout",
       "text": [
        "libtool: compile:  gcc -DHAVE_CONFIG_H -I. -I.. -I.. -g -O2 -MT ran0.lo -MD -MP -MF .deps/ran0.Tpo -c ran0.c -o ran0.o >/dev/null 2>&1\r\n"
       ]
      },
      {
       "output_type": "stream",
       "stream": "stdout",
       "text": [
        "mv -f .deps/ran0.Tpo .deps/ran0.Plo\r\n",
        "/bin/sh ../libtool --tag=CC   --mode=compile gcc -DHAVE_CONFIG_H -I. -I.. -I..    -g -O2 -MT ran1.lo -MD -MP -MF .deps/ran1.Tpo -c -o ran1.lo ran1.c\r\n",
        "libtool: compile:  gcc -DHAVE_CONFIG_H -I. -I.. -I.. -g -O2 -MT ran1.lo -MD -MP -MF .deps/ran1.Tpo -c ran1.c  -fno-common -DPIC -o .libs/ran1.o\r\n"
       ]
      },
      {
       "output_type": "stream",
       "stream": "stdout",
       "text": [
        "libtool: compile:  gcc -DHAVE_CONFIG_H -I. -I.. -I.. -g -O2 -MT ran1.lo -MD -MP -MF .deps/ran1.Tpo -c ran1.c -o ran1.o >/dev/null 2>&1\r\n"
       ]
      },
      {
       "output_type": "stream",
       "stream": "stdout",
       "text": [
        "mv -f .deps/ran1.Tpo .deps/ran1.Plo\r\n",
        "/bin/sh ../libtool --tag=CC   --mode=compile gcc -DHAVE_CONFIG_H -I. -I.. -I..    -g -O2 -MT ran2.lo -MD -MP -MF .deps/ran2.Tpo -c -o ran2.lo ran2.c\r\n",
        "libtool: compile:  gcc -DHAVE_CONFIG_H -I. -I.. -I.. -g -O2 -MT ran2.lo -MD -MP -MF .deps/ran2.Tpo -c ran2.c  -fno-common -DPIC -o .libs/ran2.o\r\n"
       ]
      },
      {
       "output_type": "stream",
       "stream": "stdout",
       "text": [
        "libtool: compile:  gcc -DHAVE_CONFIG_H -I. -I.. -I.. -g -O2 -MT ran2.lo -MD -MP -MF .deps/ran2.Tpo -c ran2.c -o ran2.o >/dev/null 2>&1\r\n"
       ]
      },
      {
       "output_type": "stream",
       "stream": "stdout",
       "text": [
        "mv -f .deps/ran2.Tpo .deps/ran2.Plo\r\n",
        "/bin/sh ../libtool --tag=CC   --mode=compile gcc -DHAVE_CONFIG_H -I. -I.. -I..    -g -O2 -MT ran3.lo -MD -MP -MF .deps/ran3.Tpo -c -o ran3.lo ran3.c\r\n"
       ]
      },
      {
       "output_type": "stream",
       "stream": "stdout",
       "text": [
        "libtool: compile:  gcc -DHAVE_CONFIG_H -I. -I.. -I.. -g -O2 -MT ran3.lo -MD -MP -MF .deps/ran3.Tpo -c ran3.c  -fno-common -DPIC -o .libs/ran3.o\r\n"
       ]
      },
      {
       "output_type": "stream",
       "stream": "stdout",
       "text": [
        "libtool: compile:  gcc -DHAVE_CONFIG_H -I. -I.. -I.. -g -O2 -MT ran3.lo -MD -MP -MF .deps/ran3.Tpo -c ran3.c -o ran3.o >/dev/null 2>&1\r\n"
       ]
      },
      {
       "output_type": "stream",
       "stream": "stdout",
       "text": [
        "mv -f .deps/ran3.Tpo .deps/ran3.Plo\r\n",
        "/bin/sh ../libtool --tag=CC   --mode=compile gcc -DHAVE_CONFIG_H -I. -I.. -I..    -g -O2 -MT rand48.lo -MD -MP -MF .deps/rand48.Tpo -c -o rand48.lo rand48.c\r\n",
        "libtool: compile:  gcc -DHAVE_CONFIG_H -I. -I.. -I.. -g -O2 -MT rand48.lo -MD -MP -MF .deps/rand48.Tpo -c rand48.c  -fno-common -DPIC -o .libs/rand48.o\r\n"
       ]
      },
      {
       "output_type": "stream",
       "stream": "stdout",
       "text": [
        "libtool: compile:  gcc -DHAVE_CONFIG_H -I. -I.. -I.. -g -O2 -MT rand48.lo -MD -MP -MF .deps/rand48.Tpo -c rand48.c -o rand48.o >/dev/null 2>&1\r\n"
       ]
      },
      {
       "output_type": "stream",
       "stream": "stdout",
       "text": [
        "mv -f .deps/rand48.Tpo .deps/rand48.Plo\r\n",
        "/bin/sh ../libtool --tag=CC   --mode=compile gcc -DHAVE_CONFIG_H -I. -I.. -I..    -g -O2 -MT rand.lo -MD -MP -MF .deps/rand.Tpo -c -o rand.lo rand.c\r\n",
        "libtool: compile:  gcc -DHAVE_CONFIG_H -I. -I.. -I.. -g -O2 -MT rand.lo -MD -MP -MF .deps/rand.Tpo -c rand.c  -fno-common -DPIC -o .libs/rand.o\r\n"
       ]
      },
      {
       "output_type": "stream",
       "stream": "stdout",
       "text": [
        "libtool: compile:  gcc -DHAVE_CONFIG_H -I. -I.. -I.. -g -O2 -MT rand.lo -MD -MP -MF .deps/rand.Tpo -c rand.c -o rand.o >/dev/null 2>&1\r\n"
       ]
      },
      {
       "output_type": "stream",
       "stream": "stdout",
       "text": [
        "mv -f .deps/rand.Tpo .deps/rand.Plo\r\n"
       ]
      },
      {
       "output_type": "stream",
       "stream": "stdout",
       "text": [
        "/bin/sh ../libtool --tag=CC   --mode=compile gcc -DHAVE_CONFIG_H -I. -I.. -I..    -g -O2 -MT random.lo -MD -MP -MF .deps/random.Tpo -c -o random.lo random.c\r\n",
        "libtool: compile:  gcc -DHAVE_CONFIG_H -I. -I.. -I.. -g -O2 -MT random.lo -MD -MP -MF .deps/random.Tpo -c random.c  -fno-common -DPIC -o .libs/random.o\r\n"
       ]
      },
      {
       "output_type": "stream",
       "stream": "stdout",
       "text": [
        "libtool: compile:  gcc -DHAVE_CONFIG_H -I. -I.. -I.. -g -O2 -MT random.lo -MD -MP -MF .deps/random.Tpo -c random.c -o random.o >/dev/null 2>&1\r\n"
       ]
      },
      {
       "output_type": "stream",
       "stream": "stdout",
       "text": [
        "mv -f .deps/random.Tpo .deps/random.Plo\r\n",
        "/bin/sh ../libtool --tag=CC   --mode=compile gcc -DHAVE_CONFIG_H -I. -I.. -I..    -g -O2 -MT randu.lo -MD -MP -MF .deps/randu.Tpo -c -o randu.lo randu.c\r\n"
       ]
      },
      {
       "output_type": "stream",
       "stream": "stdout",
       "text": [
        "libtool: compile:  gcc -DHAVE_CONFIG_H -I. -I.. -I.. -g -O2 -MT randu.lo -MD -MP -MF .deps/randu.Tpo -c randu.c  -fno-common -DPIC -o .libs/randu.o\r\n"
       ]
      },
      {
       "output_type": "stream",
       "stream": "stdout",
       "text": [
        "libtool: compile:  gcc -DHAVE_CONFIG_H -I. -I.. -I.. -g -O2 -MT randu.lo -MD -MP -MF .deps/randu.Tpo -c randu.c -o randu.o >/dev/null 2>&1\r\n"
       ]
      },
      {
       "output_type": "stream",
       "stream": "stdout",
       "text": [
        "mv -f .deps/randu.Tpo .deps/randu.Plo\r\n",
        "/bin/sh ../libtool --tag=CC   --mode=compile gcc -DHAVE_CONFIG_H -I. -I.. -I..    -g -O2 -MT ranf.lo -MD -MP -MF .deps/ranf.Tpo -c -o ranf.lo ranf.c\r\n"
       ]
      },
      {
       "output_type": "stream",
       "stream": "stdout",
       "text": [
        "libtool: compile:  gcc -DHAVE_CONFIG_H -I. -I.. -I.. -g -O2 -MT ranf.lo -MD -MP -MF .deps/ranf.Tpo -c ranf.c  -fno-common -DPIC -o .libs/ranf.o\r\n"
       ]
      },
      {
       "output_type": "stream",
       "stream": "stdout",
       "text": [
        "libtool: compile:  gcc -DHAVE_CONFIG_H -I. -I.. -I.. -g -O2 -MT ranf.lo -MD -MP -MF .deps/ranf.Tpo -c ranf.c -o ranf.o >/dev/null 2>&1\r\n"
       ]
      },
      {
       "output_type": "stream",
       "stream": "stdout",
       "text": [
        "mv -f .deps/ranf.Tpo .deps/ranf.Plo\r\n",
        "/bin/sh ../libtool --tag=CC   --mode=compile gcc -DHAVE_CONFIG_H -I. -I.. -I..    -g -O2 -MT ranlux.lo -MD -MP -MF .deps/ranlux.Tpo -c -o ranlux.lo ranlux.c\r\n",
        "libtool: compile:  gcc -DHAVE_CONFIG_H -I. -I.. -I.. -g -O2 -MT ranlux.lo -MD -MP -MF .deps/ranlux.Tpo -c ranlux.c  -fno-common -DPIC -o .libs/ranlux.o\r\n"
       ]
      },
      {
       "output_type": "stream",
       "stream": "stdout",
       "text": [
        "libtool: compile:  gcc -DHAVE_CONFIG_H -I. -I.. -I.. -g -O2 -MT ranlux.lo -MD -MP -MF .deps/ranlux.Tpo -c ranlux.c -o ranlux.o >/dev/null 2>&1\r\n"
       ]
      },
      {
       "output_type": "stream",
       "stream": "stdout",
       "text": [
        "mv -f .deps/ranlux.Tpo .deps/ranlux.Plo\r\n",
        "/bin/sh ../libtool --tag=CC   --mode=compile gcc -DHAVE_CONFIG_H -I. -I.. -I..    -g -O2 -MT ranlxd.lo -MD -MP -MF .deps/ranlxd.Tpo -c -o ranlxd.lo ranlxd.c\r\n",
        "libtool: compile:  gcc -DHAVE_CONFIG_H -I. -I.. -I.. -g -O2 -MT ranlxd.lo -MD -MP -MF .deps/ranlxd.Tpo -c ranlxd.c  -fno-common -DPIC -o .libs/ranlxd.o\r\n"
       ]
      },
      {
       "output_type": "stream",
       "stream": "stdout",
       "text": [
        "libtool: compile:  gcc -DHAVE_CONFIG_H -I. -I.. -I.. -g -O2 -MT ranlxd.lo -MD -MP -MF .deps/ranlxd.Tpo -c ranlxd.c -o ranlxd.o >/dev/null 2>&1\r\n"
       ]
      },
      {
       "output_type": "stream",
       "stream": "stdout",
       "text": [
        "mv -f .deps/ranlxd.Tpo .deps/ranlxd.Plo\r\n",
        "/bin/sh ../libtool --tag=CC   --mode=compile gcc -DHAVE_CONFIG_H -I. -I.. -I..    -g -O2 -MT ranlxs.lo -MD -MP -MF .deps/ranlxs.Tpo -c -o ranlxs.lo ranlxs.c\r\n",
        "libtool: compile:  gcc -DHAVE_CONFIG_H -I. -I.. -I.. -g -O2 -MT ranlxs.lo -MD -MP -MF .deps/ranlxs.Tpo -c ranlxs.c  -fno-common -DPIC -o .libs/ranlxs.o\r\n"
       ]
      },
      {
       "output_type": "stream",
       "stream": "stdout",
       "text": [
        "libtool: compile:  gcc -DHAVE_CONFIG_H -I. -I.. -I.. -g -O2 -MT ranlxs.lo -MD -MP -MF .deps/ranlxs.Tpo -c ranlxs.c -o ranlxs.o >/dev/null 2>&1\r\n"
       ]
      },
      {
       "output_type": "stream",
       "stream": "stdout",
       "text": [
        "mv -f .deps/ranlxs.Tpo .deps/ranlxs.Plo\r\n",
        "/bin/sh ../libtool --tag=CC   --mode=compile gcc -DHAVE_CONFIG_H -I. -I.. -I..    -g -O2 -MT ranmar.lo -MD -MP -MF .deps/ranmar.Tpo -c -o ranmar.lo ranmar.c\r\n"
       ]
      },
      {
       "output_type": "stream",
       "stream": "stdout",
       "text": [
        "libtool: compile:  gcc -DHAVE_CONFIG_H -I. -I.. -I.. -g -O2 -MT ranmar.lo -MD -MP -MF .deps/ranmar.Tpo -c ranmar.c  -fno-common -DPIC -o .libs/ranmar.o\r\n"
       ]
      },
      {
       "output_type": "stream",
       "stream": "stdout",
       "text": [
        "libtool: compile:  gcc -DHAVE_CONFIG_H -I. -I.. -I.. -g -O2 -MT ranmar.lo -MD -MP -MF .deps/ranmar.Tpo -c ranmar.c -o ranmar.o >/dev/null 2>&1\r\n"
       ]
      },
      {
       "output_type": "stream",
       "stream": "stdout",
       "text": [
        "mv -f .deps/ranmar.Tpo .deps/ranmar.Plo\r\n",
        "/bin/sh ../libtool --tag=CC   --mode=compile gcc -DHAVE_CONFIG_H -I. -I.. -I..    -g -O2 -MT rng.lo -MD -MP -MF .deps/rng.Tpo -c -o rng.lo rng.c\r\n",
        "libtool: compile:  gcc -DHAVE_CONFIG_H -I. -I.. -I.. -g -O2 -MT rng.lo -MD -MP -MF .deps/rng.Tpo -c rng.c  -fno-common -DPIC -o .libs/rng.o\r\n"
       ]
      },
      {
       "output_type": "stream",
       "stream": "stdout",
       "text": [
        "libtool: compile:  gcc -DHAVE_CONFIG_H -I. -I.. -I.. -g -O2 -MT rng.lo -MD -MP -MF .deps/rng.Tpo -c rng.c -o rng.o >/dev/null 2>&1\r\n"
       ]
      },
      {
       "output_type": "stream",
       "stream": "stdout",
       "text": [
        "mv -f .deps/rng.Tpo .deps/rng.Plo\r\n",
        "/bin/sh ../libtool --tag=CC   --mode=compile gcc -DHAVE_CONFIG_H -I. -I.. -I..    -g -O2 -MT slatec.lo -MD -MP -MF .deps/slatec.Tpo -c -o slatec.lo slatec.c\r\n",
        "libtool: compile:  gcc -DHAVE_CONFIG_H -I. -I.. -I.. -g -O2 -MT slatec.lo -MD -MP -MF .deps/slatec.Tpo -c slatec.c  -fno-common -DPIC -o .libs/slatec.o\r\n"
       ]
      },
      {
       "output_type": "stream",
       "stream": "stdout",
       "text": [
        "libtool: compile:  gcc -DHAVE_CONFIG_H -I. -I.. -I.. -g -O2 -MT slatec.lo -MD -MP -MF .deps/slatec.Tpo -c slatec.c -o slatec.o >/dev/null 2>&1\r\n"
       ]
      },
      {
       "output_type": "stream",
       "stream": "stdout",
       "text": [
        "mv -f .deps/slatec.Tpo .deps/slatec.Plo\r\n",
        "/bin/sh ../libtool --tag=CC   --mode=compile gcc -DHAVE_CONFIG_H -I. -I.. -I..    -g -O2 -MT taus.lo -MD -MP -MF .deps/taus.Tpo -c -o taus.lo taus.c\r\n",
        "libtool: compile:  gcc -DHAVE_CONFIG_H -I. -I.. -I.. -g -O2 -MT taus.lo -MD -MP -MF .deps/taus.Tpo -c taus.c  -fno-common -DPIC -o .libs/taus.o\r\n"
       ]
      },
      {
       "output_type": "stream",
       "stream": "stdout",
       "text": [
        "libtool: compile:  gcc -DHAVE_CONFIG_H -I. -I.. -I.. -g -O2 -MT taus.lo -MD -MP -MF .deps/taus.Tpo -c taus.c -o taus.o >/dev/null 2>&1\r\n"
       ]
      },
      {
       "output_type": "stream",
       "stream": "stdout",
       "text": [
        "mv -f .deps/taus.Tpo .deps/taus.Plo\r\n",
        "/bin/sh ../libtool --tag=CC   --mode=compile gcc -DHAVE_CONFIG_H -I. -I.. -I..    -g -O2 -MT taus113.lo -MD -MP -MF .deps/taus113.Tpo -c -o taus113.lo taus113.c\r\n",
        "libtool: compile:  gcc -DHAVE_CONFIG_H -I. -I.. -I.. -g -O2 -MT taus113.lo -MD -MP -MF .deps/taus113.Tpo -c taus113.c  -fno-common -DPIC -o .libs/taus113.o\r\n"
       ]
      },
      {
       "output_type": "stream",
       "stream": "stdout",
       "text": [
        "libtool: compile:  gcc -DHAVE_CONFIG_H -I. -I.. -I.. -g -O2 -MT taus113.lo -MD -MP -MF .deps/taus113.Tpo -c taus113.c -o taus113.o >/dev/null 2>&1\r\n"
       ]
      },
      {
       "output_type": "stream",
       "stream": "stdout",
       "text": [
        "mv -f .deps/taus113.Tpo .deps/taus113.Plo\r\n",
        "/bin/sh ../libtool --tag=CC   --mode=compile gcc -DHAVE_CONFIG_H -I. -I.. -I..    -g -O2 -MT transputer.lo -MD -MP -MF .deps/transputer.Tpo -c -o transputer.lo transputer.c\r\n",
        "libtool: compile:  gcc -DHAVE_CONFIG_H -I. -I.. -I.. -g -O2 -MT transputer.lo -MD -MP -MF .deps/transputer.Tpo -c transputer.c  -fno-common -DPIC -o .libs/transputer.o\r\n"
       ]
      },
      {
       "output_type": "stream",
       "stream": "stdout",
       "text": [
        "libtool: compile:  gcc -DHAVE_CONFIG_H -I. -I.. -I.. -g -O2 -MT transputer.lo -MD -MP -MF .deps/transputer.Tpo -c transputer.c -o transputer.o >/dev/null 2>&1\r\n"
       ]
      },
      {
       "output_type": "stream",
       "stream": "stdout",
       "text": [
        "mv -f .deps/transputer.Tpo .deps/transputer.Plo\r\n",
        "/bin/sh ../libtool --tag=CC   --mode=compile gcc -DHAVE_CONFIG_H -I. -I.. -I..    -g -O2 -MT tt.lo -MD -MP -MF .deps/tt.Tpo -c -o tt.lo tt.c\r\n"
       ]
      },
      {
       "output_type": "stream",
       "stream": "stdout",
       "text": [
        "libtool: compile:  gcc -DHAVE_CONFIG_H -I. -I.. -I.. -g -O2 -MT tt.lo -MD -MP -MF .deps/tt.Tpo -c tt.c  -fno-common -DPIC -o .libs/tt.o\r\n"
       ]
      },
      {
       "output_type": "stream",
       "stream": "stdout",
       "text": [
        "libtool: compile:  gcc -DHAVE_CONFIG_H -I. -I.. -I.. -g -O2 -MT tt.lo -MD -MP -MF .deps/tt.Tpo -c tt.c -o tt.o >/dev/null 2>&1\r\n"
       ]
      },
      {
       "output_type": "stream",
       "stream": "stdout",
       "text": [
        "mv -f .deps/tt.Tpo .deps/tt.Plo\r\n",
        "/bin/sh ../libtool --tag=CC   --mode=compile gcc -DHAVE_CONFIG_H -I. -I.. -I..    -g -O2 -MT types.lo -MD -MP -MF .deps/types.Tpo -c -o types.lo types.c\r\n",
        "libtool: compile:  gcc -DHAVE_CONFIG_H -I. -I.. -I.. -g -O2 -MT types.lo -MD -MP -MF .deps/types.Tpo -c types.c  -fno-common -DPIC -o .libs/types.o\r\n"
       ]
      },
      {
       "output_type": "stream",
       "stream": "stdout",
       "text": [
        "libtool: compile:  gcc -DHAVE_CONFIG_H -I. -I.. -I.. -g -O2 -MT types.lo -MD -MP -MF .deps/types.Tpo -c types.c -o types.o >/dev/null 2>&1\r\n"
       ]
      },
      {
       "output_type": "stream",
       "stream": "stdout",
       "text": [
        "mv -f .deps/types.Tpo .deps/types.Plo\r\n",
        "/bin/sh ../libtool --tag=CC   --mode=compile gcc -DHAVE_CONFIG_H -I. -I.. -I..    -g -O2 -MT uni32.lo -MD -MP -MF .deps/uni32.Tpo -c -o uni32.lo uni32.c\r\n",
        "libtool: compile:  gcc -DHAVE_CONFIG_H -I. -I.. -I.. -g -O2 -MT uni32.lo -MD -MP -MF .deps/uni32.Tpo -c uni32.c  -fno-common -DPIC -o .libs/uni32.o\r\n"
       ]
      },
      {
       "output_type": "stream",
       "stream": "stdout",
       "text": [
        "libtool: compile:  gcc -DHAVE_CONFIG_H -I. -I.. -I.. -g -O2 -MT uni32.lo -MD -MP -MF .deps/uni32.Tpo -c uni32.c -o uni32.o >/dev/null 2>&1\r\n"
       ]
      },
      {
       "output_type": "stream",
       "stream": "stdout",
       "text": [
        "mv -f .deps/uni32.Tpo .deps/uni32.Plo\r\n",
        "/bin/sh ../libtool --tag=CC   --mode=compile gcc -DHAVE_CONFIG_H -I. -I.. -I..    -g -O2 -MT uni.lo -MD -MP -MF .deps/uni.Tpo -c -o uni.lo uni.c\r\n",
        "libtool: compile:  gcc -DHAVE_CONFIG_H -I. -I.. -I.. -g -O2 -MT uni.lo -MD -MP -MF .deps/uni.Tpo -c uni.c  -fno-common -DPIC -o .libs/uni.o\r\n"
       ]
      },
      {
       "output_type": "stream",
       "stream": "stdout",
       "text": [
        "libtool: compile:  gcc -DHAVE_CONFIG_H -I. -I.. -I.. -g -O2 -MT uni.lo -MD -MP -MF .deps/uni.Tpo -c uni.c -o uni.o >/dev/null 2>&1\r\n"
       ]
      },
      {
       "output_type": "stream",
       "stream": "stdout",
       "text": [
        "mv -f .deps/uni.Tpo .deps/uni.Plo\r\n",
        "/bin/sh ../libtool --tag=CC   --mode=compile gcc -DHAVE_CONFIG_H -I. -I.. -I..    -g -O2 -MT vax.lo -MD -MP -MF .deps/vax.Tpo -c -o vax.lo vax.c\r\n",
        "libtool: compile:  gcc -DHAVE_CONFIG_H -I. -I.. -I.. -g -O2 -MT vax.lo -MD -MP -MF .deps/vax.Tpo -c vax.c  -fno-common -DPIC -o .libs/vax.o\r\n"
       ]
      },
      {
       "output_type": "stream",
       "stream": "stdout",
       "text": [
        "libtool: compile:  gcc -DHAVE_CONFIG_H -I. -I.. -I.. -g -O2 -MT vax.lo -MD -MP -MF .deps/vax.Tpo -c vax.c -o vax.o >/dev/null 2>&1\r\n"
       ]
      },
      {
       "output_type": "stream",
       "stream": "stdout",
       "text": [
        "mv -f .deps/vax.Tpo .deps/vax.Plo\r\n",
        "/bin/sh ../libtool --tag=CC   --mode=compile gcc -DHAVE_CONFIG_H -I. -I.. -I..    -g -O2 -MT waterman14.lo -MD -MP -MF .deps/waterman14.Tpo -c -o waterman14.lo waterman14.c\r\n",
        "libtool: compile:  gcc -DHAVE_CONFIG_H -I. -I.. -I.. -g -O2 -MT waterman14.lo -MD -MP -MF .deps/waterman14.Tpo -c waterman14.c  -fno-common -DPIC -o .libs/waterman14.o\r\n"
       ]
      },
      {
       "output_type": "stream",
       "stream": "stdout",
       "text": [
        "libtool: compile:  gcc -DHAVE_CONFIG_H -I. -I.. -I.. -g -O2 -MT waterman14.lo -MD -MP -MF .deps/waterman14.Tpo -c waterman14.c -o waterman14.o >/dev/null 2>&1\r\n"
       ]
      },
      {
       "output_type": "stream",
       "stream": "stdout",
       "text": [
        "mv -f .deps/waterman14.Tpo .deps/waterman14.Plo\r\n",
        "/bin/sh ../libtool --tag=CC   --mode=compile gcc -DHAVE_CONFIG_H -I. -I.. -I..    -g -O2 -MT zuf.lo -MD -MP -MF .deps/zuf.Tpo -c -o zuf.lo zuf.c\r\n",
        "libtool: compile:  gcc -DHAVE_CONFIG_H -I. -I.. -I.. -g -O2 -MT zuf.lo -MD -MP -MF .deps/zuf.Tpo -c zuf.c  -fno-common -DPIC -o .libs/zuf.o\r\n"
       ]
      },
      {
       "output_type": "stream",
       "stream": "stdout",
       "text": [
        "libtool: compile:  gcc -DHAVE_CONFIG_H -I. -I.. -I.. -g -O2 -MT zuf.lo -MD -MP -MF .deps/zuf.Tpo -c zuf.c -o zuf.o >/dev/null 2>&1\r\n"
       ]
      },
      {
       "output_type": "stream",
       "stream": "stdout",
       "text": [
        "mv -f .deps/zuf.Tpo .deps/zuf.Plo\r\n",
        "/bin/sh ../libtool --tag=CC   --mode=compile gcc -DHAVE_CONFIG_H -I. -I.. -I..    -g -O2 -MT inline.lo -MD -MP -MF .deps/inline.Tpo -c -o inline.lo inline.c\r\n",
        "libtool: compile:  gcc -DHAVE_CONFIG_H -I. -I.. -I.. -g -O2 -MT inline.lo -MD -MP -MF .deps/inline.Tpo -c inline.c  -fno-common -DPIC -o .libs/inline.o\r\n"
       ]
      },
      {
       "output_type": "stream",
       "stream": "stdout",
       "text": [
        "libtool: compile:  gcc -DHAVE_CONFIG_H -I. -I.. -I.. -g -O2 -MT inline.lo -MD -MP -MF .deps/inline.Tpo -c inline.c -o inline.o >/dev/null 2>&1\r\n"
       ]
      },
      {
       "output_type": "stream",
       "stream": "stdout",
       "text": [
        "mv -f .deps/inline.Tpo .deps/inline.Plo\r\n",
        "/bin/sh ../libtool --tag=CC   --mode=link gcc  -g -O2   -o libgslrng.la  borosh13.lo cmrg.lo coveyou.lo default.lo file.lo fishman18.lo fishman20.lo fishman2x.lo gfsr4.lo knuthran2.lo knuthran.lo knuthran2002.lo lecuyer21.lo minstd.lo mrg.lo mt.lo r250.lo ran0.lo ran1.lo ran2.lo ran3.lo rand48.lo rand.lo random.lo randu.lo ranf.lo ranlux.lo ranlxd.lo ranlxs.lo ranmar.lo rng.lo slatec.lo taus.lo taus113.lo transputer.lo tt.lo types.lo uni32.lo uni.lo vax.lo waterman14.lo zuf.lo inline.lo  -lm \r\n"
       ]
      },
      {
       "output_type": "stream",
       "stream": "stdout",
       "text": [
        "libtool: link: ar cru .libs/libgslrng.a .libs/borosh13.o .libs/cmrg.o .libs/coveyou.o .libs/default.o .libs/file.o .libs/fishman18.o .libs/fishman20.o .libs/fishman2x.o .libs/gfsr4.o .libs/knuthran2.o .libs/knuthran.o .libs/knuthran2002.o .libs/lecuyer21.o .libs/minstd.o .libs/mrg.o .libs/mt.o .libs/r250.o .libs/ran0.o .libs/ran1.o .libs/ran2.o .libs/ran3.o .libs/rand48.o .libs/rand.o .libs/random.o .libs/randu.o .libs/ranf.o .libs/ranlux.o .libs/ranlxd.o .libs/ranlxs.o .libs/ranmar.o .libs/rng.o .libs/slatec.o .libs/taus.o .libs/taus113.o .libs/transputer.o .libs/tt.o .libs/types.o .libs/uni32.o .libs/uni.o .libs/vax.o .libs/waterman14.o .libs/zuf.o .libs/inline.o \r\n"
       ]
      },
      {
       "output_type": "stream",
       "stream": "stdout",
       "text": [
        "libtool: link: ranlib .libs/libgslrng.a\r\n"
       ]
      },
      {
       "output_type": "stream",
       "stream": "stdout",
       "text": [
        "libtool: link: ( cd \".libs\" && rm -f \"libgslrng.la\" && ln -s \"../libgslrng.la\" \"libgslrng.la\" )\r\n",
        "Making all in randist\r\n"
       ]
      },
      {
       "output_type": "stream",
       "stream": "stdout",
       "text": [
        "/bin/sh ../libtool --tag=CC   --mode=compile gcc -DHAVE_CONFIG_H -I. -I.. -I..    -g -O2 -MT bernoulli.lo -MD -MP -MF .deps/bernoulli.Tpo -c -o bernoulli.lo bernoulli.c\r\n",
        "libtool: compile:  gcc -DHAVE_CONFIG_H -I. -I.. -I.. -g -O2 -MT bernoulli.lo -MD -MP -MF .deps/bernoulli.Tpo -c bernoulli.c  -fno-common -DPIC -o .libs/bernoulli.o\r\n"
       ]
      },
      {
       "output_type": "stream",
       "stream": "stdout",
       "text": [
        "libtool: compile:  gcc -DHAVE_CONFIG_H -I. -I.. -I.. -g -O2 -MT bernoulli.lo -MD -MP -MF .deps/bernoulli.Tpo -c bernoulli.c -o bernoulli.o >/dev/null 2>&1\r\n"
       ]
      },
      {
       "output_type": "stream",
       "stream": "stdout",
       "text": [
        "mv -f .deps/bernoulli.Tpo .deps/bernoulli.Plo\r\n",
        "/bin/sh ../libtool --tag=CC   --mode=compile gcc -DHAVE_CONFIG_H -I. -I.. -I..    -g -O2 -MT beta.lo -MD -MP -MF .deps/beta.Tpo -c -o beta.lo beta.c\r\n",
        "libtool: compile:  gcc -DHAVE_CONFIG_H -I. -I.. -I.. -g -O2 -MT beta.lo -MD -MP -MF .deps/beta.Tpo -c beta.c  -fno-common -DPIC -o .libs/beta.o\r\n"
       ]
      },
      {
       "output_type": "stream",
       "stream": "stdout",
       "text": [
        "libtool: compile:  gcc -DHAVE_CONFIG_H -I. -I.. -I.. -g -O2 -MT beta.lo -MD -MP -MF .deps/beta.Tpo -c beta.c -o beta.o >/dev/null 2>&1\r\n"
       ]
      },
      {
       "output_type": "stream",
       "stream": "stdout",
       "text": [
        "mv -f .deps/beta.Tpo .deps/beta.Plo\r\n",
        "/bin/sh ../libtool --tag=CC   --mode=compile gcc -DHAVE_CONFIG_H -I. -I.. -I..    -g -O2 -MT bigauss.lo -MD -MP -MF .deps/bigauss.Tpo -c -o bigauss.lo bigauss.c\r\n"
       ]
      },
      {
       "output_type": "stream",
       "stream": "stdout",
       "text": [
        "libtool: compile:  gcc -DHAVE_CONFIG_H -I. -I.. -I.. -g -O2 -MT bigauss.lo -MD -MP -MF .deps/bigauss.Tpo -c bigauss.c  -fno-common -DPIC -o .libs/bigauss.o\r\n"
       ]
      },
      {
       "output_type": "stream",
       "stream": "stdout",
       "text": [
        "libtool: compile:  gcc -DHAVE_CONFIG_H -I. -I.. -I.. -g -O2 -MT bigauss.lo -MD -MP -MF .deps/bigauss.Tpo -c bigauss.c -o bigauss.o >/dev/null 2>&1\r\n"
       ]
      },
      {
       "output_type": "stream",
       "stream": "stdout",
       "text": [
        "mv -f .deps/bigauss.Tpo .deps/bigauss.Plo\r\n",
        "/bin/sh ../libtool --tag=CC   --mode=compile gcc -DHAVE_CONFIG_H -I. -I.. -I..    -g -O2 -MT binomial.lo -MD -MP -MF .deps/binomial.Tpo -c -o binomial.lo binomial.c\r\n"
       ]
      },
      {
       "output_type": "stream",
       "stream": "stdout",
       "text": [
        "libtool: compile:  gcc -DHAVE_CONFIG_H -I. -I.. -I.. -g -O2 -MT binomial.lo -MD -MP -MF .deps/binomial.Tpo -c binomial.c  -fno-common -DPIC -o .libs/binomial.o\r\n"
       ]
      },
      {
       "output_type": "stream",
       "stream": "stdout",
       "text": [
        "libtool: compile:  gcc -DHAVE_CONFIG_H -I. -I.. -I.. -g -O2 -MT binomial.lo -MD -MP -MF .deps/binomial.Tpo -c binomial.c -o binomial.o >/dev/null 2>&1\r\n"
       ]
      },
      {
       "output_type": "stream",
       "stream": "stdout",
       "text": [
        "mv -f .deps/binomial.Tpo .deps/binomial.Plo\r\n",
        "/bin/sh ../libtool --tag=CC   --mode=compile gcc -DHAVE_CONFIG_H -I. -I.. -I..    -g -O2 -MT cauchy.lo -MD -MP -MF .deps/cauchy.Tpo -c -o cauchy.lo cauchy.c\r\n"
       ]
      },
      {
       "output_type": "stream",
       "stream": "stdout",
       "text": [
        "libtool: compile:  gcc -DHAVE_CONFIG_H -I. -I.. -I.. -g -O2 -MT cauchy.lo -MD -MP -MF .deps/cauchy.Tpo -c cauchy.c  -fno-common -DPIC -o .libs/cauchy.o\r\n"
       ]
      },
      {
       "output_type": "stream",
       "stream": "stdout",
       "text": [
        "libtool: compile:  gcc -DHAVE_CONFIG_H -I. -I.. -I.. -g -O2 -MT cauchy.lo -MD -MP -MF .deps/cauchy.Tpo -c cauchy.c -o cauchy.o >/dev/null 2>&1\r\n"
       ]
      },
      {
       "output_type": "stream",
       "stream": "stdout",
       "text": [
        "mv -f .deps/cauchy.Tpo .deps/cauchy.Plo\r\n",
        "/bin/sh ../libtool --tag=CC   --mode=compile gcc -DHAVE_CONFIG_H -I. -I.. -I..    -g -O2 -MT chisq.lo -MD -MP -MF .deps/chisq.Tpo -c -o chisq.lo chisq.c\r\n"
       ]
      },
      {
       "output_type": "stream",
       "stream": "stdout",
       "text": [
        "libtool: compile:  gcc -DHAVE_CONFIG_H -I. -I.. -I.. -g -O2 -MT chisq.lo -MD -MP -MF .deps/chisq.Tpo -c chisq.c  -fno-common -DPIC -o .libs/chisq.o\r\n"
       ]
      },
      {
       "output_type": "stream",
       "stream": "stdout",
       "text": [
        "libtool: compile:  gcc -DHAVE_CONFIG_H -I. -I.. -I.. -g -O2 -MT chisq.lo -MD -MP -MF .deps/chisq.Tpo -c chisq.c -o chisq.o >/dev/null 2>&1\r\n"
       ]
      },
      {
       "output_type": "stream",
       "stream": "stdout",
       "text": [
        "mv -f .deps/chisq.Tpo .deps/chisq.Plo\r\n",
        "/bin/sh ../libtool --tag=CC   --mode=compile gcc -DHAVE_CONFIG_H -I. -I.. -I..    -g -O2 -MT dirichlet.lo -MD -MP -MF .deps/dirichlet.Tpo -c -o dirichlet.lo dirichlet.c\r\n",
        "libtool: compile:  gcc -DHAVE_CONFIG_H -I. -I.. -I.. -g -O2 -MT dirichlet.lo -MD -MP -MF .deps/dirichlet.Tpo -c dirichlet.c  -fno-common -DPIC -o .libs/dirichlet.o\r\n"
       ]
      },
      {
       "output_type": "stream",
       "stream": "stdout",
       "text": [
        "libtool: compile:  gcc -DHAVE_CONFIG_H -I. -I.. -I.. -g -O2 -MT dirichlet.lo -MD -MP -MF .deps/dirichlet.Tpo -c dirichlet.c -o dirichlet.o >/dev/null 2>&1\r\n"
       ]
      },
      {
       "output_type": "stream",
       "stream": "stdout",
       "text": [
        "mv -f .deps/dirichlet.Tpo .deps/dirichlet.Plo\r\n",
        "/bin/sh ../libtool --tag=CC   --mode=compile gcc -DHAVE_CONFIG_H -I. -I.. -I..    -g -O2 -MT discrete.lo -MD -MP -MF .deps/discrete.Tpo -c -o discrete.lo discrete.c\r\n"
       ]
      },
      {
       "output_type": "stream",
       "stream": "stdout",
       "text": [
        "libtool: compile:  gcc -DHAVE_CONFIG_H -I. -I.. -I.. -g -O2 -MT discrete.lo -MD -MP -MF .deps/discrete.Tpo -c discrete.c  -fno-common -DPIC -o .libs/discrete.o\r\n"
       ]
      },
      {
       "output_type": "stream",
       "stream": "stdout",
       "text": [
        "libtool: compile:  gcc -DHAVE_CONFIG_H -I. -I.. -I.. -g -O2 -MT discrete.lo -MD -MP -MF .deps/discrete.Tpo -c discrete.c -o discrete.o >/dev/null 2>&1\r\n"
       ]
      },
      {
       "output_type": "stream",
       "stream": "stdout",
       "text": [
        "mv -f .deps/discrete.Tpo .deps/discrete.Plo\r\n"
       ]
      },
      {
       "output_type": "stream",
       "stream": "stdout",
       "text": [
        "/bin/sh ../libtool --tag=CC   --mode=compile gcc -DHAVE_CONFIG_H -I. -I.. -I..    -g -O2 -MT erlang.lo -MD -MP -MF .deps/erlang.Tpo -c -o erlang.lo erlang.c\r\n",
        "libtool: compile:  gcc -DHAVE_CONFIG_H -I. -I.. -I.. -g -O2 -MT erlang.lo -MD -MP -MF .deps/erlang.Tpo -c erlang.c  -fno-common -DPIC -o .libs/erlang.o\r\n"
       ]
      },
      {
       "output_type": "stream",
       "stream": "stdout",
       "text": [
        "libtool: compile:  gcc -DHAVE_CONFIG_H -I. -I.. -I.. -g -O2 -MT erlang.lo -MD -MP -MF .deps/erlang.Tpo -c erlang.c -o erlang.o >/dev/null 2>&1\r\n"
       ]
      },
      {
       "output_type": "stream",
       "stream": "stdout",
       "text": [
        "mv -f .deps/erlang.Tpo .deps/erlang.Plo\r\n"
       ]
      },
      {
       "output_type": "stream",
       "stream": "stdout",
       "text": [
        "/bin/sh ../libtool --tag=CC   --mode=compile gcc -DHAVE_CONFIG_H -I. -I.. -I..    -g -O2 -MT exponential.lo -MD -MP -MF .deps/exponential.Tpo -c -o exponential.lo exponential.c\r\n",
        "libtool: compile:  gcc -DHAVE_CONFIG_H -I. -I.. -I.. -g -O2 -MT exponential.lo -MD -MP -MF .deps/exponential.Tpo -c exponential.c  -fno-common -DPIC -o .libs/exponential.o\r\n"
       ]
      },
      {
       "output_type": "stream",
       "stream": "stdout",
       "text": [
        "libtool: compile:  gcc -DHAVE_CONFIG_H -I. -I.. -I.. -g -O2 -MT exponential.lo -MD -MP -MF .deps/exponential.Tpo -c exponential.c -o exponential.o >/dev/null 2>&1\r\n"
       ]
      },
      {
       "output_type": "stream",
       "stream": "stdout",
       "text": [
        "mv -f .deps/exponential.Tpo .deps/exponential.Plo\r\n",
        "/bin/sh ../libtool --tag=CC   --mode=compile gcc -DHAVE_CONFIG_H -I. -I.. -I..    -g -O2 -MT exppow.lo -MD -MP -MF .deps/exppow.Tpo -c -o exppow.lo exppow.c\r\n",
        "libtool: compile:  gcc -DHAVE_CONFIG_H -I. -I.. -I.. -g -O2 -MT exppow.lo -MD -MP -MF .deps/exppow.Tpo -c exppow.c  -fno-common -DPIC -o .libs/exppow.o\r\n"
       ]
      },
      {
       "output_type": "stream",
       "stream": "stdout",
       "text": [
        "libtool: compile:  gcc -DHAVE_CONFIG_H -I. -I.. -I.. -g -O2 -MT exppow.lo -MD -MP -MF .deps/exppow.Tpo -c exppow.c -o exppow.o >/dev/null 2>&1\r\n"
       ]
      },
      {
       "output_type": "stream",
       "stream": "stdout",
       "text": [
        "mv -f .deps/exppow.Tpo .deps/exppow.Plo\r\n",
        "/bin/sh ../libtool --tag=CC   --mode=compile gcc -DHAVE_CONFIG_H -I. -I.. -I..    -g -O2 -MT fdist.lo -MD -MP -MF .deps/fdist.Tpo -c -o fdist.lo fdist.c\r\n"
       ]
      },
      {
       "output_type": "stream",
       "stream": "stdout",
       "text": [
        "libtool: compile:  gcc -DHAVE_CONFIG_H -I. -I.. -I.. -g -O2 -MT fdist.lo -MD -MP -MF .deps/fdist.Tpo -c fdist.c  -fno-common -DPIC -o .libs/fdist.o\r\n"
       ]
      },
      {
       "output_type": "stream",
       "stream": "stdout",
       "text": [
        "libtool: compile:  gcc -DHAVE_CONFIG_H -I. -I.. -I.. -g -O2 -MT fdist.lo -MD -MP -MF .deps/fdist.Tpo -c fdist.c -o fdist.o >/dev/null 2>&1\r\n"
       ]
      },
      {
       "output_type": "stream",
       "stream": "stdout",
       "text": [
        "mv -f .deps/fdist.Tpo .deps/fdist.Plo\r\n"
       ]
      },
      {
       "output_type": "stream",
       "stream": "stdout",
       "text": [
        "/bin/sh ../libtool --tag=CC   --mode=compile gcc -DHAVE_CONFIG_H -I. -I.. -I..    -g -O2 -MT flat.lo -MD -MP -MF .deps/flat.Tpo -c -o flat.lo flat.c\r\n",
        "libtool: compile:  gcc -DHAVE_CONFIG_H -I. -I.. -I.. -g -O2 -MT flat.lo -MD -MP -MF .deps/flat.Tpo -c flat.c  -fno-common -DPIC -o .libs/flat.o\r\n"
       ]
      },
      {
       "output_type": "stream",
       "stream": "stdout",
       "text": [
        "libtool: compile:  gcc -DHAVE_CONFIG_H -I. -I.. -I.. -g -O2 -MT flat.lo -MD -MP -MF .deps/flat.Tpo -c flat.c -o flat.o >/dev/null 2>&1\r\n"
       ]
      },
      {
       "output_type": "stream",
       "stream": "stdout",
       "text": [
        "mv -f .deps/flat.Tpo .deps/flat.Plo\r\n",
        "/bin/sh ../libtool --tag=CC   --mode=compile gcc -DHAVE_CONFIG_H -I. -I.. -I..    -g -O2 -MT gamma.lo -MD -MP -MF .deps/gamma.Tpo -c -o gamma.lo gamma.c\r\n"
       ]
      },
      {
       "output_type": "stream",
       "stream": "stdout",
       "text": [
        "libtool: compile:  gcc -DHAVE_CONFIG_H -I. -I.. -I.. -g -O2 -MT gamma.lo -MD -MP -MF .deps/gamma.Tpo -c gamma.c  -fno-common -DPIC -o .libs/gamma.o\r\n"
       ]
      },
      {
       "output_type": "stream",
       "stream": "stdout",
       "text": [
        "libtool: compile:  gcc -DHAVE_CONFIG_H -I. -I.. -I.. -g -O2 -MT gamma.lo -MD -MP -MF .deps/gamma.Tpo -c gamma.c -o gamma.o >/dev/null 2>&1\r\n"
       ]
      },
      {
       "output_type": "stream",
       "stream": "stdout",
       "text": [
        "mv -f .deps/gamma.Tpo .deps/gamma.Plo\r\n",
        "/bin/sh ../libtool --tag=CC   --mode=compile gcc -DHAVE_CONFIG_H -I. -I.. -I..    -g -O2 -MT gauss.lo -MD -MP -MF .deps/gauss.Tpo -c -o gauss.lo gauss.c\r\n"
       ]
      },
      {
       "output_type": "stream",
       "stream": "stdout",
       "text": [
        "libtool: compile:  gcc -DHAVE_CONFIG_H -I. -I.. -I.. -g -O2 -MT gauss.lo -MD -MP -MF .deps/gauss.Tpo -c gauss.c  -fno-common -DPIC -o .libs/gauss.o\r\n"
       ]
      },
      {
       "output_type": "stream",
       "stream": "stdout",
       "text": [
        "libtool: compile:  gcc -DHAVE_CONFIG_H -I. -I.. -I.. -g -O2 -MT gauss.lo -MD -MP -MF .deps/gauss.Tpo -c gauss.c -o gauss.o >/dev/null 2>&1\r\n"
       ]
      },
      {
       "output_type": "stream",
       "stream": "stdout",
       "text": [
        "mv -f .deps/gauss.Tpo .deps/gauss.Plo\r\n",
        "/bin/sh ../libtool --tag=CC   --mode=compile gcc -DHAVE_CONFIG_H -I. -I.. -I..    -g -O2 -MT gausszig.lo -MD -MP -MF .deps/gausszig.Tpo -c -o gausszig.lo gausszig.c\r\n",
        "libtool: compile:  gcc -DHAVE_CONFIG_H -I. -I.. -I.. -g -O2 -MT gausszig.lo -MD -MP -MF .deps/gausszig.Tpo -c gausszig.c  -fno-common -DPIC -o .libs/gausszig.o\r\n"
       ]
      },
      {
       "output_type": "stream",
       "stream": "stdout",
       "text": [
        "libtool: compile:  gcc -DHAVE_CONFIG_H -I. -I.. -I.. -g -O2 -MT gausszig.lo -MD -MP -MF .deps/gausszig.Tpo -c gausszig.c -o gausszig.o >/dev/null 2>&1\r\n"
       ]
      },
      {
       "output_type": "stream",
       "stream": "stdout",
       "text": [
        "mv -f .deps/gausszig.Tpo .deps/gausszig.Plo\r\n",
        "/bin/sh ../libtool --tag=CC   --mode=compile gcc -DHAVE_CONFIG_H -I. -I.. -I..    -g -O2 -MT gausstail.lo -MD -MP -MF .deps/gausstail.Tpo -c -o gausstail.lo gausstail.c\r\n",
        "libtool: compile:  gcc -DHAVE_CONFIG_H -I. -I.. -I.. -g -O2 -MT gausstail.lo -MD -MP -MF .deps/gausstail.Tpo -c gausstail.c  -fno-common -DPIC -o .libs/gausstail.o\r\n"
       ]
      },
      {
       "output_type": "stream",
       "stream": "stdout",
       "text": [
        "libtool: compile:  gcc -DHAVE_CONFIG_H -I. -I.. -I.. -g -O2 -MT gausstail.lo -MD -MP -MF .deps/gausstail.Tpo -c gausstail.c -o gausstail.o >/dev/null 2>&1\r\n"
       ]
      },
      {
       "output_type": "stream",
       "stream": "stdout",
       "text": [
        "mv -f .deps/gausstail.Tpo .deps/gausstail.Plo\r\n",
        "/bin/sh ../libtool --tag=CC   --mode=compile gcc -DHAVE_CONFIG_H -I. -I.. -I..    -g -O2 -MT geometric.lo -MD -MP -MF .deps/geometric.Tpo -c -o geometric.lo geometric.c\r\n"
       ]
      },
      {
       "output_type": "stream",
       "stream": "stdout",
       "text": [
        "libtool: compile:  gcc -DHAVE_CONFIG_H -I. -I.. -I.. -g -O2 -MT geometric.lo -MD -MP -MF .deps/geometric.Tpo -c geometric.c  -fno-common -DPIC -o .libs/geometric.o\r\n"
       ]
      },
      {
       "output_type": "stream",
       "stream": "stdout",
       "text": [
        "libtool: compile:  gcc -DHAVE_CONFIG_H -I. -I.. -I.. -g -O2 -MT geometric.lo -MD -MP -MF .deps/geometric.Tpo -c geometric.c -o geometric.o >/dev/null 2>&1\r\n"
       ]
      },
      {
       "output_type": "stream",
       "stream": "stdout",
       "text": [
        "mv -f .deps/geometric.Tpo .deps/geometric.Plo\r\n",
        "/bin/sh ../libtool --tag=CC   --mode=compile gcc -DHAVE_CONFIG_H -I. -I.. -I..    -g -O2 -MT gumbel.lo -MD -MP -MF .deps/gumbel.Tpo -c -o gumbel.lo gumbel.c\r\n"
       ]
      },
      {
       "output_type": "stream",
       "stream": "stdout",
       "text": [
        "libtool: compile:  gcc -DHAVE_CONFIG_H -I. -I.. -I.. -g -O2 -MT gumbel.lo -MD -MP -MF .deps/gumbel.Tpo -c gumbel.c  -fno-common -DPIC -o .libs/gumbel.o\r\n"
       ]
      },
      {
       "output_type": "stream",
       "stream": "stdout",
       "text": [
        "libtool: compile:  gcc -DHAVE_CONFIG_H -I. -I.. -I.. -g -O2 -MT gumbel.lo -MD -MP -MF .deps/gumbel.Tpo -c gumbel.c -o gumbel.o >/dev/null 2>&1\r\n"
       ]
      },
      {
       "output_type": "stream",
       "stream": "stdout",
       "text": [
        "mv -f .deps/gumbel.Tpo .deps/gumbel.Plo\r\n",
        "/bin/sh ../libtool --tag=CC   --mode=compile gcc -DHAVE_CONFIG_H -I. -I.. -I..    -g -O2 -MT hyperg.lo -MD -MP -MF .deps/hyperg.Tpo -c -o hyperg.lo hyperg.c\r\n"
       ]
      },
      {
       "output_type": "stream",
       "stream": "stdout",
       "text": [
        "libtool: compile:  gcc -DHAVE_CONFIG_H -I. -I.. -I.. -g -O2 -MT hyperg.lo -MD -MP -MF .deps/hyperg.Tpo -c hyperg.c  -fno-common -DPIC -o .libs/hyperg.o\r\n"
       ]
      },
      {
       "output_type": "stream",
       "stream": "stdout",
       "text": [
        "libtool: compile:  gcc -DHAVE_CONFIG_H -I. -I.. -I.. -g -O2 -MT hyperg.lo -MD -MP -MF .deps/hyperg.Tpo -c hyperg.c -o hyperg.o >/dev/null 2>&1\r\n"
       ]
      },
      {
       "output_type": "stream",
       "stream": "stdout",
       "text": [
        "mv -f .deps/hyperg.Tpo .deps/hyperg.Plo\r\n",
        "/bin/sh ../libtool --tag=CC   --mode=compile gcc -DHAVE_CONFIG_H -I. -I.. -I..    -g -O2 -MT laplace.lo -MD -MP -MF .deps/laplace.Tpo -c -o laplace.lo laplace.c\r\n"
       ]
      },
      {
       "output_type": "stream",
       "stream": "stdout",
       "text": [
        "libtool: compile:  gcc -DHAVE_CONFIG_H -I. -I.. -I.. -g -O2 -MT laplace.lo -MD -MP -MF .deps/laplace.Tpo -c laplace.c  -fno-common -DPIC -o .libs/laplace.o\r\n"
       ]
      },
      {
       "output_type": "stream",
       "stream": "stdout",
       "text": [
        "libtool: compile:  gcc -DHAVE_CONFIG_H -I. -I.. -I.. -g -O2 -MT laplace.lo -MD -MP -MF .deps/laplace.Tpo -c laplace.c -o laplace.o >/dev/null 2>&1\r\n"
       ]
      },
      {
       "output_type": "stream",
       "stream": "stdout",
       "text": [
        "mv -f .deps/laplace.Tpo .deps/laplace.Plo\r\n",
        "/bin/sh ../libtool --tag=CC   --mode=compile gcc -DHAVE_CONFIG_H -I. -I.. -I..    -g -O2 -MT levy.lo -MD -MP -MF .deps/levy.Tpo -c -o levy.lo levy.c\r\n",
        "libtool: compile:  gcc -DHAVE_CONFIG_H -I. -I.. -I.. -g -O2 -MT levy.lo -MD -MP -MF .deps/levy.Tpo -c levy.c  -fno-common -DPIC -o .libs/levy.o\r\n"
       ]
      },
      {
       "output_type": "stream",
       "stream": "stdout",
       "text": [
        "libtool: compile:  gcc -DHAVE_CONFIG_H -I. -I.. -I.. -g -O2 -MT levy.lo -MD -MP -MF .deps/levy.Tpo -c levy.c -o levy.o >/dev/null 2>&1\r\n"
       ]
      },
      {
       "output_type": "stream",
       "stream": "stdout",
       "text": [
        "mv -f .deps/levy.Tpo .deps/levy.Plo\r\n",
        "/bin/sh ../libtool --tag=CC   --mode=compile gcc -DHAVE_CONFIG_H -I. -I.. -I..    -g -O2 -MT logarithmic.lo -MD -MP -MF .deps/logarithmic.Tpo -c -o logarithmic.lo logarithmic.c\r\n",
        "libtool: compile:  gcc -DHAVE_CONFIG_H -I. -I.. -I.. -g -O2 -MT logarithmic.lo -MD -MP -MF .deps/logarithmic.Tpo -c logarithmic.c  -fno-common -DPIC -o .libs/logarithmic.o\r\n"
       ]
      },
      {
       "output_type": "stream",
       "stream": "stdout",
       "text": [
        "libtool: compile:  gcc -DHAVE_CONFIG_H -I. -I.. -I.. -g -O2 -MT logarithmic.lo -MD -MP -MF .deps/logarithmic.Tpo -c logarithmic.c -o logarithmic.o >/dev/null 2>&1\r\n"
       ]
      },
      {
       "output_type": "stream",
       "stream": "stdout",
       "text": [
        "mv -f .deps/logarithmic.Tpo .deps/logarithmic.Plo\r\n",
        "/bin/sh ../libtool --tag=CC   --mode=compile gcc -DHAVE_CONFIG_H -I. -I.. -I..    -g -O2 -MT logistic.lo -MD -MP -MF .deps/logistic.Tpo -c -o logistic.lo logistic.c\r\n",
        "libtool: compile:  gcc -DHAVE_CONFIG_H -I. -I.. -I.. -g -O2 -MT logistic.lo -MD -MP -MF .deps/logistic.Tpo -c logistic.c  -fno-common -DPIC -o .libs/logistic.o\r\n"
       ]
      },
      {
       "output_type": "stream",
       "stream": "stdout",
       "text": [
        "libtool: compile:  gcc -DHAVE_CONFIG_H -I. -I.. -I.. -g -O2 -MT logistic.lo -MD -MP -MF .deps/logistic.Tpo -c logistic.c -o logistic.o >/dev/null 2>&1\r\n"
       ]
      },
      {
       "output_type": "stream",
       "stream": "stdout",
       "text": [
        "mv -f .deps/logistic.Tpo .deps/logistic.Plo\r\n",
        "/bin/sh ../libtool --tag=CC   --mode=compile gcc -DHAVE_CONFIG_H -I. -I.. -I..    -g -O2 -MT lognormal.lo -MD -MP -MF .deps/lognormal.Tpo -c -o lognormal.lo lognormal.c\r\n",
        "libtool: compile:  gcc -DHAVE_CONFIG_H -I. -I.. -I.. -g -O2 -MT lognormal.lo -MD -MP -MF .deps/lognormal.Tpo -c lognormal.c  -fno-common -DPIC -o .libs/lognormal.o\r\n"
       ]
      },
      {
       "output_type": "stream",
       "stream": "stdout",
       "text": [
        "libtool: compile:  gcc -DHAVE_CONFIG_H -I. -I.. -I.. -g -O2 -MT lognormal.lo -MD -MP -MF .deps/lognormal.Tpo -c lognormal.c -o lognormal.o >/dev/null 2>&1\r\n"
       ]
      },
      {
       "output_type": "stream",
       "stream": "stdout",
       "text": [
        "mv -f .deps/lognormal.Tpo .deps/lognormal.Plo\r\n",
        "/bin/sh ../libtool --tag=CC   --mode=compile gcc -DHAVE_CONFIG_H -I. -I.. -I..    -g -O2 -MT multinomial.lo -MD -MP -MF .deps/multinomial.Tpo -c -o multinomial.lo multinomial.c\r\n",
        "libtool: compile:  gcc -DHAVE_CONFIG_H -I. -I.. -I.. -g -O2 -MT multinomial.lo -MD -MP -MF .deps/multinomial.Tpo -c multinomial.c  -fno-common -DPIC -o .libs/multinomial.o\r\n"
       ]
      },
      {
       "output_type": "stream",
       "stream": "stdout",
       "text": [
        "libtool: compile:  gcc -DHAVE_CONFIG_H -I. -I.. -I.. -g -O2 -MT multinomial.lo -MD -MP -MF .deps/multinomial.Tpo -c multinomial.c -o multinomial.o >/dev/null 2>&1\r\n"
       ]
      },
      {
       "output_type": "stream",
       "stream": "stdout",
       "text": [
        "mv -f .deps/multinomial.Tpo .deps/multinomial.Plo\r\n",
        "/bin/sh ../libtool --tag=CC   --mode=compile gcc -DHAVE_CONFIG_H -I. -I.. -I..    -g -O2 -MT nbinomial.lo -MD -MP -MF .deps/nbinomial.Tpo -c -o nbinomial.lo nbinomial.c\r\n",
        "libtool: compile:  gcc -DHAVE_CONFIG_H -I. -I.. -I.. -g -O2 -MT nbinomial.lo -MD -MP -MF .deps/nbinomial.Tpo -c nbinomial.c  -fno-common -DPIC -o .libs/nbinomial.o\r\n"
       ]
      },
      {
       "output_type": "stream",
       "stream": "stdout",
       "text": [
        "libtool: compile:  gcc -DHAVE_CONFIG_H -I. -I.. -I.. -g -O2 -MT nbinomial.lo -MD -MP -MF .deps/nbinomial.Tpo -c nbinomial.c -o nbinomial.o >/dev/null 2>&1\r\n"
       ]
      },
      {
       "output_type": "stream",
       "stream": "stdout",
       "text": [
        "mv -f .deps/nbinomial.Tpo .deps/nbinomial.Plo\r\n",
        "/bin/sh ../libtool --tag=CC   --mode=compile gcc -DHAVE_CONFIG_H -I. -I.. -I..    -g -O2 -MT pareto.lo -MD -MP -MF .deps/pareto.Tpo -c -o pareto.lo pareto.c\r\n",
        "libtool: compile:  gcc -DHAVE_CONFIG_H -I. -I.. -I.. -g -O2 -MT pareto.lo -MD -MP -MF .deps/pareto.Tpo -c pareto.c  -fno-common -DPIC -o .libs/pareto.o\r\n"
       ]
      },
      {
       "output_type": "stream",
       "stream": "stdout",
       "text": [
        "libtool: compile:  gcc -DHAVE_CONFIG_H -I. -I.. -I.. -g -O2 -MT pareto.lo -MD -MP -MF .deps/pareto.Tpo -c pareto.c -o pareto.o >/dev/null 2>&1\r\n"
       ]
      },
      {
       "output_type": "stream",
       "stream": "stdout",
       "text": [
        "mv -f .deps/pareto.Tpo .deps/pareto.Plo\r\n",
        "/bin/sh ../libtool --tag=CC   --mode=compile gcc -DHAVE_CONFIG_H -I. -I.. -I..    -g -O2 -MT pascal.lo -MD -MP -MF .deps/pascal.Tpo -c -o pascal.lo pascal.c\r\n",
        "libtool: compile:  gcc -DHAVE_CONFIG_H -I. -I.. -I.. -g -O2 -MT pascal.lo -MD -MP -MF .deps/pascal.Tpo -c pascal.c  -fno-common -DPIC -o .libs/pascal.o\r\n"
       ]
      },
      {
       "output_type": "stream",
       "stream": "stdout",
       "text": [
        "libtool: compile:  gcc -DHAVE_CONFIG_H -I. -I.. -I.. -g -O2 -MT pascal.lo -MD -MP -MF .deps/pascal.Tpo -c pascal.c -o pascal.o >/dev/null 2>&1\r\n"
       ]
      },
      {
       "output_type": "stream",
       "stream": "stdout",
       "text": [
        "mv -f .deps/pascal.Tpo .deps/pascal.Plo\r\n"
       ]
      },
      {
       "output_type": "stream",
       "stream": "stdout",
       "text": [
        "/bin/sh ../libtool --tag=CC   --mode=compile gcc -DHAVE_CONFIG_H -I. -I.. -I..    -g -O2 -MT poisson.lo -MD -MP -MF .deps/poisson.Tpo -c -o poisson.lo poisson.c\r\n",
        "libtool: compile:  gcc -DHAVE_CONFIG_H -I. -I.. -I.. -g -O2 -MT poisson.lo -MD -MP -MF .deps/poisson.Tpo -c poisson.c  -fno-common -DPIC -o .libs/poisson.o\r\n"
       ]
      },
      {
       "output_type": "stream",
       "stream": "stdout",
       "text": [
        "libtool: compile:  gcc -DHAVE_CONFIG_H -I. -I.. -I.. -g -O2 -MT poisson.lo -MD -MP -MF .deps/poisson.Tpo -c poisson.c -o poisson.o >/dev/null 2>&1\r\n"
       ]
      },
      {
       "output_type": "stream",
       "stream": "stdout",
       "text": [
        "mv -f .deps/poisson.Tpo .deps/poisson.Plo\r\n",
        "/bin/sh ../libtool --tag=CC   --mode=compile gcc -DHAVE_CONFIG_H -I. -I.. -I..    -g -O2 -MT rayleigh.lo -MD -MP -MF .deps/rayleigh.Tpo -c -o rayleigh.lo rayleigh.c\r\n",
        "libtool: compile:  gcc -DHAVE_CONFIG_H -I. -I.. -I.. -g -O2 -MT rayleigh.lo -MD -MP -MF .deps/rayleigh.Tpo -c rayleigh.c  -fno-common -DPIC -o .libs/rayleigh.o\r\n"
       ]
      },
      {
       "output_type": "stream",
       "stream": "stdout",
       "text": [
        "libtool: compile:  gcc -DHAVE_CONFIG_H -I. -I.. -I.. -g -O2 -MT rayleigh.lo -MD -MP -MF .deps/rayleigh.Tpo -c rayleigh.c -o rayleigh.o >/dev/null 2>&1\r\n"
       ]
      },
      {
       "output_type": "stream",
       "stream": "stdout",
       "text": [
        "mv -f .deps/rayleigh.Tpo .deps/rayleigh.Plo\r\n",
        "/bin/sh ../libtool --tag=CC   --mode=compile gcc -DHAVE_CONFIG_H -I. -I.. -I..    -g -O2 -MT shuffle.lo -MD -MP -MF .deps/shuffle.Tpo -c -o shuffle.lo shuffle.c\r\n"
       ]
      },
      {
       "output_type": "stream",
       "stream": "stdout",
       "text": [
        "libtool: compile:  gcc -DHAVE_CONFIG_H -I. -I.. -I.. -g -O2 -MT shuffle.lo -MD -MP -MF .deps/shuffle.Tpo -c shuffle.c  -fno-common -DPIC -o .libs/shuffle.o\r\n"
       ]
      },
      {
       "output_type": "stream",
       "stream": "stdout",
       "text": [
        "libtool: compile:  gcc -DHAVE_CONFIG_H -I. -I.. -I.. -g -O2 -MT shuffle.lo -MD -MP -MF .deps/shuffle.Tpo -c shuffle.c -o shuffle.o >/dev/null 2>&1\r\n"
       ]
      },
      {
       "output_type": "stream",
       "stream": "stdout",
       "text": [
        "mv -f .deps/shuffle.Tpo .deps/shuffle.Plo\r\n",
        "/bin/sh ../libtool --tag=CC   --mode=compile gcc -DHAVE_CONFIG_H -I. -I.. -I..    -g -O2 -MT sphere.lo -MD -MP -MF .deps/sphere.Tpo -c -o sphere.lo sphere.c\r\n",
        "libtool: compile:  gcc -DHAVE_CONFIG_H -I. -I.. -I.. -g -O2 -MT sphere.lo -MD -MP -MF .deps/sphere.Tpo -c sphere.c  -fno-common -DPIC -o .libs/sphere.o\r\n"
       ]
      },
      {
       "output_type": "stream",
       "stream": "stdout",
       "text": [
        "libtool: compile:  gcc -DHAVE_CONFIG_H -I. -I.. -I.. -g -O2 -MT sphere.lo -MD -MP -MF .deps/sphere.Tpo -c sphere.c -o sphere.o >/dev/null 2>&1\r\n"
       ]
      },
      {
       "output_type": "stream",
       "stream": "stdout",
       "text": [
        "mv -f .deps/sphere.Tpo .deps/sphere.Plo\r\n",
        "/bin/sh ../libtool --tag=CC   --mode=compile gcc -DHAVE_CONFIG_H -I. -I.. -I..    -g -O2 -MT tdist.lo -MD -MP -MF .deps/tdist.Tpo -c -o tdist.lo tdist.c\r\n"
       ]
      },
      {
       "output_type": "stream",
       "stream": "stdout",
       "text": [
        "libtool: compile:  gcc -DHAVE_CONFIG_H -I. -I.. -I.. -g -O2 -MT tdist.lo -MD -MP -MF .deps/tdist.Tpo -c tdist.c  -fno-common -DPIC -o .libs/tdist.o\r\n"
       ]
      },
      {
       "output_type": "stream",
       "stream": "stdout",
       "text": [
        "libtool: compile:  gcc -DHAVE_CONFIG_H -I. -I.. -I.. -g -O2 -MT tdist.lo -MD -MP -MF .deps/tdist.Tpo -c tdist.c -o tdist.o >/dev/null 2>&1\r\n"
       ]
      },
      {
       "output_type": "stream",
       "stream": "stdout",
       "text": [
        "mv -f .deps/tdist.Tpo .deps/tdist.Plo\r\n",
        "/bin/sh ../libtool --tag=CC   --mode=compile gcc -DHAVE_CONFIG_H -I. -I.. -I..    -g -O2 -MT weibull.lo -MD -MP -MF .deps/weibull.Tpo -c -o weibull.lo weibull.c\r\n",
        "libtool: compile:  gcc -DHAVE_CONFIG_H -I. -I.. -I.. -g -O2 -MT weibull.lo -MD -MP -MF .deps/weibull.Tpo -c weibull.c  -fno-common -DPIC -o .libs/weibull.o\r\n"
       ]
      },
      {
       "output_type": "stream",
       "stream": "stdout",
       "text": [
        "libtool: compile:  gcc -DHAVE_CONFIG_H -I. -I.. -I.. -g -O2 -MT weibull.lo -MD -MP -MF .deps/weibull.Tpo -c weibull.c -o weibull.o >/dev/null 2>&1\r\n"
       ]
      },
      {
       "output_type": "stream",
       "stream": "stdout",
       "text": [
        "mv -f .deps/weibull.Tpo .deps/weibull.Plo\r\n",
        "/bin/sh ../libtool --tag=CC   --mode=compile gcc -DHAVE_CONFIG_H -I. -I.. -I..    -g -O2 -MT landau.lo -MD -MP -MF .deps/landau.Tpo -c -o landau.lo landau.c\r\n",
        "libtool: compile:  gcc -DHAVE_CONFIG_H -I. -I.. -I.. -g -O2 -MT landau.lo -MD -MP -MF .deps/landau.Tpo -c landau.c  -fno-common -DPIC -o .libs/landau.o\r\n"
       ]
      },
      {
       "output_type": "stream",
       "stream": "stdout",
       "text": [
        "libtool: compile:  gcc -DHAVE_CONFIG_H -I. -I.. -I.. -g -O2 -MT landau.lo -MD -MP -MF .deps/landau.Tpo -c landau.c -o landau.o >/dev/null 2>&1\r\n"
       ]
      },
      {
       "output_type": "stream",
       "stream": "stdout",
       "text": [
        "mv -f .deps/landau.Tpo .deps/landau.Plo\r\n",
        "/bin/sh ../libtool --tag=CC   --mode=compile gcc -DHAVE_CONFIG_H -I. -I.. -I..    -g -O2 -MT binomial_tpe.lo -MD -MP -MF .deps/binomial_tpe.Tpo -c -o binomial_tpe.lo binomial_tpe.c\r\n",
        "libtool: compile:  gcc -DHAVE_CONFIG_H -I. -I.. -I.. -g -O2 -MT binomial_tpe.lo -MD -MP -MF .deps/binomial_tpe.Tpo -c binomial_tpe.c  -fno-common -DPIC -o .libs/binomial_tpe.o\r\n"
       ]
      },
      {
       "output_type": "stream",
       "stream": "stdout",
       "text": [
        "libtool: compile:  gcc -DHAVE_CONFIG_H -I. -I.. -I.. -g -O2 -MT binomial_tpe.lo -MD -MP -MF .deps/binomial_tpe.Tpo -c binomial_tpe.c -o binomial_tpe.o >/dev/null 2>&1\r\n"
       ]
      },
      {
       "output_type": "stream",
       "stream": "stdout",
       "text": [
        "mv -f .deps/binomial_tpe.Tpo .deps/binomial_tpe.Plo\r\n"
       ]
      },
      {
       "output_type": "stream",
       "stream": "stdout",
       "text": [
        "/bin/sh ../libtool --tag=CC   --mode=link gcc  -g -O2   -o libgslrandist.la  bernoulli.lo beta.lo bigauss.lo binomial.lo cauchy.lo chisq.lo dirichlet.lo discrete.lo erlang.lo exponential.lo exppow.lo fdist.lo flat.lo gamma.lo gauss.lo gausszig.lo gausstail.lo geometric.lo gumbel.lo hyperg.lo laplace.lo levy.lo logarithmic.lo logistic.lo lognormal.lo multinomial.lo nbinomial.lo pareto.lo pascal.lo poisson.lo rayleigh.lo shuffle.lo sphere.lo tdist.lo weibull.lo landau.lo binomial_tpe.lo  -lm \r\n"
       ]
      },
      {
       "output_type": "stream",
       "stream": "stdout",
       "text": [
        "libtool: link: ar cru .libs/libgslrandist.a .libs/bernoulli.o .libs/beta.o .libs/bigauss.o .libs/binomial.o .libs/cauchy.o .libs/chisq.o .libs/dirichlet.o .libs/discrete.o .libs/erlang.o .libs/exponential.o .libs/exppow.o .libs/fdist.o .libs/flat.o .libs/gamma.o .libs/gauss.o .libs/gausszig.o .libs/gausstail.o .libs/geometric.o .libs/gumbel.o .libs/hyperg.o .libs/laplace.o .libs/levy.o .libs/logarithmic.o .libs/logistic.o .libs/lognormal.o .libs/multinomial.o .libs/nbinomial.o .libs/pareto.o .libs/pascal.o .libs/poisson.o .libs/rayleigh.o .libs/shuffle.o .libs/sphere.o .libs/tdist.o .libs/weibull.o .libs/landau.o .libs/binomial_tpe.o \r\n"
       ]
      },
      {
       "output_type": "stream",
       "stream": "stdout",
       "text": [
        "libtool: link: ranlib .libs/libgslrandist.a\r\n"
       ]
      },
      {
       "output_type": "stream",
       "stream": "stdout",
       "text": [
        "libtool: link: ( cd \".libs\" && rm -f \"libgslrandist.la\" && ln -s \"../libgslrandist.la\" \"libgslrandist.la\" )\r\n",
        "Making all in fft\r\n",
        "/bin/sh ../libtool --tag=CC   --mode=compile gcc -DHAVE_CONFIG_H -I. -I.. -I..    -g -O2 -MT dft.lo -MD -MP -MF .deps/dft.Tpo -c -o dft.lo dft.c\r\n"
       ]
      },
      {
       "output_type": "stream",
       "stream": "stdout",
       "text": [
        "libtool: compile:  gcc -DHAVE_CONFIG_H -I. -I.. -I.. -g -O2 -MT dft.lo -MD -MP -MF .deps/dft.Tpo -c dft.c  -fno-common -DPIC -o .libs/dft.o\r\n"
       ]
      },
      {
       "output_type": "stream",
       "stream": "stdout",
       "text": [
        "libtool: compile:  gcc -DHAVE_CONFIG_H -I. -I.. -I.. -g -O2 -MT dft.lo -MD -MP -MF .deps/dft.Tpo -c dft.c -o dft.o >/dev/null 2>&1\r\n"
       ]
      },
      {
       "output_type": "stream",
       "stream": "stdout",
       "text": [
        "mv -f .deps/dft.Tpo .deps/dft.Plo\r\n",
        "/bin/sh ../libtool --tag=CC   --mode=compile gcc -DHAVE_CONFIG_H -I. -I.. -I..    -g -O2 -MT fft.lo -MD -MP -MF .deps/fft.Tpo -c -o fft.lo fft.c\r\n",
        "libtool: compile:  gcc -DHAVE_CONFIG_H -I. -I.. -I.. -g -O2 -MT fft.lo -MD -MP -MF .deps/fft.Tpo -c fft.c  -fno-common -DPIC -o .libs/fft.o\r\n"
       ]
      },
      {
       "output_type": "stream",
       "stream": "stdout",
       "text": [
        "libtool: compile:  gcc -DHAVE_CONFIG_H -I. -I.. -I.. -g -O2 -MT fft.lo -MD -MP -MF .deps/fft.Tpo -c fft.c -o fft.o >/dev/null 2>&1\r\n"
       ]
      },
      {
       "output_type": "stream",
       "stream": "stdout",
       "text": [
        "mv -f .deps/fft.Tpo .deps/fft.Plo\r\n",
        "/bin/sh ../libtool --tag=CC   --mode=link gcc  -g -O2   -o libgslfft.la  dft.lo fft.lo  -lm \r\n"
       ]
      },
      {
       "output_type": "stream",
       "stream": "stdout",
       "text": [
        "libtool: link: ar cru .libs/libgslfft.a .libs/dft.o .libs/fft.o \r\n"
       ]
      },
      {
       "output_type": "stream",
       "stream": "stdout",
       "text": [
        "libtool: link: ranlib .libs/libgslfft.a\r\n",
        "libtool: link: ( cd \".libs\" && rm -f \"libgslfft.la\" && ln -s \"../libgslfft.la\" \"libgslfft.la\" )\r\n"
       ]
      },
      {
       "output_type": "stream",
       "stream": "stdout",
       "text": [
        "Making all in poly\r\n",
        "/bin/sh ../libtool --tag=CC   --mode=compile gcc -DHAVE_CONFIG_H -I. -I.. -I..    -g -O2 -MT dd.lo -MD -MP -MF .deps/dd.Tpo -c -o dd.lo dd.c\r\n",
        "libtool: compile:  gcc -DHAVE_CONFIG_H -I. -I.. -I.. -g -O2 -MT dd.lo -MD -MP -MF .deps/dd.Tpo -c dd.c  -fno-common -DPIC -o .libs/dd.o\r\n"
       ]
      },
      {
       "output_type": "stream",
       "stream": "stdout",
       "text": [
        "libtool: compile:  gcc -DHAVE_CONFIG_H -I. -I.. -I.. -g -O2 -MT dd.lo -MD -MP -MF .deps/dd.Tpo -c dd.c -o dd.o >/dev/null 2>&1\r\n"
       ]
      },
      {
       "output_type": "stream",
       "stream": "stdout",
       "text": [
        "mv -f .deps/dd.Tpo .deps/dd.Plo\r\n",
        "/bin/sh ../libtool --tag=CC   --mode=compile gcc -DHAVE_CONFIG_H -I. -I.. -I..    -g -O2 -MT eval.lo -MD -MP -MF .deps/eval.Tpo -c -o eval.lo eval.c\r\n"
       ]
      },
      {
       "output_type": "stream",
       "stream": "stdout",
       "text": [
        "libtool: compile:  gcc -DHAVE_CONFIG_H -I. -I.. -I.. -g -O2 -MT eval.lo -MD -MP -MF .deps/eval.Tpo -c eval.c  -fno-common -DPIC -o .libs/eval.o\r\n"
       ]
      },
      {
       "output_type": "stream",
       "stream": "stdout",
       "text": [
        "libtool: compile:  gcc -DHAVE_CONFIG_H -I. -I.. -I.. -g -O2 -MT eval.lo -MD -MP -MF .deps/eval.Tpo -c eval.c -o eval.o >/dev/null 2>&1\r\n"
       ]
      },
      {
       "output_type": "stream",
       "stream": "stdout",
       "text": [
        "mv -f .deps/eval.Tpo .deps/eval.Plo\r\n",
        "/bin/sh ../libtool --tag=CC   --mode=compile gcc -DHAVE_CONFIG_H -I. -I.. -I..    -g -O2 -MT solve_quadratic.lo -MD -MP -MF .deps/solve_quadratic.Tpo -c -o solve_quadratic.lo solve_quadratic.c\r\n"
       ]
      },
      {
       "output_type": "stream",
       "stream": "stdout",
       "text": [
        "libtool: compile:  gcc -DHAVE_CONFIG_H -I. -I.. -I.. -g -O2 -MT solve_quadratic.lo -MD -MP -MF .deps/solve_quadratic.Tpo -c solve_quadratic.c  -fno-common -DPIC -o .libs/solve_quadratic.o\r\n"
       ]
      },
      {
       "output_type": "stream",
       "stream": "stdout",
       "text": [
        "libtool: compile:  gcc -DHAVE_CONFIG_H -I. -I.. -I.. -g -O2 -MT solve_quadratic.lo -MD -MP -MF .deps/solve_quadratic.Tpo -c solve_quadratic.c -o solve_quadratic.o >/dev/null 2>&1\r\n"
       ]
      },
      {
       "output_type": "stream",
       "stream": "stdout",
       "text": [
        "mv -f .deps/solve_quadratic.Tpo .deps/solve_quadratic.Plo\r\n",
        "/bin/sh ../libtool --tag=CC   --mode=compile gcc -DHAVE_CONFIG_H -I. -I.. -I..    -g -O2 -MT solve_cubic.lo -MD -MP -MF .deps/solve_cubic.Tpo -c -o solve_cubic.lo solve_cubic.c\r\n",
        "libtool: compile:  gcc -DHAVE_CONFIG_H -I. -I.. -I.. -g -O2 -MT solve_cubic.lo -MD -MP -MF .deps/solve_cubic.Tpo -c solve_cubic.c  -fno-common -DPIC -o .libs/solve_cubic.o\r\n"
       ]
      },
      {
       "output_type": "stream",
       "stream": "stdout",
       "text": [
        "libtool: compile:  gcc -DHAVE_CONFIG_H -I. -I.. -I.. -g -O2 -MT solve_cubic.lo -MD -MP -MF .deps/solve_cubic.Tpo -c solve_cubic.c -o solve_cubic.o >/dev/null 2>&1\r\n"
       ]
      },
      {
       "output_type": "stream",
       "stream": "stdout",
       "text": [
        "mv -f .deps/solve_cubic.Tpo .deps/solve_cubic.Plo\r\n",
        "/bin/sh ../libtool --tag=CC   --mode=compile gcc -DHAVE_CONFIG_H -I. -I.. -I..    -g -O2 -MT zsolve_quadratic.lo -MD -MP -MF .deps/zsolve_quadratic.Tpo -c -o zsolve_quadratic.lo zsolve_quadratic.c\r\n"
       ]
      },
      {
       "output_type": "stream",
       "stream": "stdout",
       "text": [
        "libtool: compile:  gcc -DHAVE_CONFIG_H -I. -I.. -I.. -g -O2 -MT zsolve_quadratic.lo -MD -MP -MF .deps/zsolve_quadratic.Tpo -c zsolve_quadratic.c  -fno-common -DPIC -o .libs/zsolve_quadratic.o\r\n"
       ]
      },
      {
       "output_type": "stream",
       "stream": "stdout",
       "text": [
        "libtool: compile:  gcc -DHAVE_CONFIG_H -I. -I.. -I.. -g -O2 -MT zsolve_quadratic.lo -MD -MP -MF .deps/zsolve_quadratic.Tpo -c zsolve_quadratic.c -o zsolve_quadratic.o >/dev/null 2>&1\r\n"
       ]
      },
      {
       "output_type": "stream",
       "stream": "stdout",
       "text": [
        "mv -f .deps/zsolve_quadratic.Tpo .deps/zsolve_quadratic.Plo\r\n",
        "/bin/sh ../libtool --tag=CC   --mode=compile gcc -DHAVE_CONFIG_H -I. -I.. -I..    -g -O2 -MT zsolve_cubic.lo -MD -MP -MF .deps/zsolve_cubic.Tpo -c -o zsolve_cubic.lo zsolve_cubic.c\r\n"
       ]
      },
      {
       "output_type": "stream",
       "stream": "stdout",
       "text": [
        "libtool: compile:  gcc -DHAVE_CONFIG_H -I. -I.. -I.. -g -O2 -MT zsolve_cubic.lo -MD -MP -MF .deps/zsolve_cubic.Tpo -c zsolve_cubic.c  -fno-common -DPIC -o .libs/zsolve_cubic.o\r\n"
       ]
      },
      {
       "output_type": "stream",
       "stream": "stdout",
       "text": [
        "libtool: compile:  gcc -DHAVE_CONFIG_H -I. -I.. -I.. -g -O2 -MT zsolve_cubic.lo -MD -MP -MF .deps/zsolve_cubic.Tpo -c zsolve_cubic.c -o zsolve_cubic.o >/dev/null 2>&1\r\n"
       ]
      },
      {
       "output_type": "stream",
       "stream": "stdout",
       "text": [
        "mv -f .deps/zsolve_cubic.Tpo .deps/zsolve_cubic.Plo\r\n",
        "/bin/sh ../libtool --tag=CC   --mode=compile gcc -DHAVE_CONFIG_H -I. -I.. -I..    -g -O2 -MT zsolve.lo -MD -MP -MF .deps/zsolve.Tpo -c -o zsolve.lo zsolve.c\r\n",
        "libtool: compile:  gcc -DHAVE_CONFIG_H -I. -I.. -I.. -g -O2 -MT zsolve.lo -MD -MP -MF .deps/zsolve.Tpo -c zsolve.c  -fno-common -DPIC -o .libs/zsolve.o\r\n"
       ]
      },
      {
       "output_type": "stream",
       "stream": "stdout",
       "text": [
        "libtool: compile:  gcc -DHAVE_CONFIG_H -I. -I.. -I.. -g -O2 -MT zsolve.lo -MD -MP -MF .deps/zsolve.Tpo -c zsolve.c -o zsolve.o >/dev/null 2>&1\r\n"
       ]
      },
      {
       "output_type": "stream",
       "stream": "stdout",
       "text": [
        "mv -f .deps/zsolve.Tpo .deps/zsolve.Plo\r\n",
        "/bin/sh ../libtool --tag=CC   --mode=compile gcc -DHAVE_CONFIG_H -I. -I.. -I..    -g -O2 -MT zsolve_init.lo -MD -MP -MF .deps/zsolve_init.Tpo -c -o zsolve_init.lo zsolve_init.c\r\n",
        "libtool: compile:  gcc -DHAVE_CONFIG_H -I. -I.. -I.. -g -O2 -MT zsolve_init.lo -MD -MP -MF .deps/zsolve_init.Tpo -c zsolve_init.c  -fno-common -DPIC -o .libs/zsolve_init.o\r\n"
       ]
      },
      {
       "output_type": "stream",
       "stream": "stdout",
       "text": [
        "libtool: compile:  gcc -DHAVE_CONFIG_H -I. -I.. -I.. -g -O2 -MT zsolve_init.lo -MD -MP -MF .deps/zsolve_init.Tpo -c zsolve_init.c -o zsolve_init.o >/dev/null 2>&1\r\n"
       ]
      },
      {
       "output_type": "stream",
       "stream": "stdout",
       "text": [
        "mv -f .deps/zsolve_init.Tpo .deps/zsolve_init.Plo\r\n",
        "/bin/sh ../libtool --tag=CC   --mode=compile gcc -DHAVE_CONFIG_H -I. -I.. -I..    -g -O2 -MT deriv.lo -MD -MP -MF .deps/deriv.Tpo -c -o deriv.lo deriv.c\r\n",
        "libtool: compile:  gcc -DHAVE_CONFIG_H -I. -I.. -I.. -g -O2 -MT deriv.lo -MD -MP -MF .deps/deriv.Tpo -c deriv.c  -fno-common -DPIC -o .libs/deriv.o\r\n"
       ]
      },
      {
       "output_type": "stream",
       "stream": "stdout",
       "text": [
        "libtool: compile:  gcc -DHAVE_CONFIG_H -I. -I.. -I.. -g -O2 -MT deriv.lo -MD -MP -MF .deps/deriv.Tpo -c deriv.c -o deriv.o >/dev/null 2>&1\r\n"
       ]
      },
      {
       "output_type": "stream",
       "stream": "stdout",
       "text": [
        "mv -f .deps/deriv.Tpo .deps/deriv.Plo\r\n",
        "/bin/sh ../libtool --tag=CC   --mode=link gcc  -g -O2   -o libgslpoly.la  dd.lo eval.lo solve_quadratic.lo solve_cubic.lo zsolve_quadratic.lo zsolve_cubic.lo zsolve.lo zsolve_init.lo deriv.lo  -lm \r\n"
       ]
      },
      {
       "output_type": "stream",
       "stream": "stdout",
       "text": [
        "libtool: link: ar cru .libs/libgslpoly.a .libs/dd.o .libs/eval.o .libs/solve_quadratic.o .libs/solve_cubic.o .libs/zsolve_quadratic.o .libs/zsolve_cubic.o .libs/zsolve.o .libs/zsolve_init.o .libs/deriv.o \r\n"
       ]
      },
      {
       "output_type": "stream",
       "stream": "stdout",
       "text": [
        "libtool: link: ranlib .libs/libgslpoly.a\r\n",
        "libtool: link: ( cd \".libs\" && rm -f \"libgslpoly.la\" && ln -s \"../libgslpoly.la\" \"libgslpoly.la\" )\r\n"
       ]
      },
      {
       "output_type": "stream",
       "stream": "stdout",
       "text": [
        "Making all in fit\r\n",
        "/bin/sh ../libtool --tag=CC   --mode=compile gcc -DHAVE_CONFIG_H -I. -I.. -I..    -g -O2 -MT linear.lo -MD -MP -MF .deps/linear.Tpo -c -o linear.lo linear.c\r\n",
        "libtool: compile:  gcc -DHAVE_CONFIG_H -I. -I.. -I.. -g -O2 -MT linear.lo -MD -MP -MF .deps/linear.Tpo -c linear.c  -fno-common -DPIC -o .libs/linear.o\r\n"
       ]
      },
      {
       "output_type": "stream",
       "stream": "stdout",
       "text": [
        "libtool: compile:  gcc -DHAVE_CONFIG_H -I. -I.. -I.. -g -O2 -MT linear.lo -MD -MP -MF .deps/linear.Tpo -c linear.c -o linear.o >/dev/null 2>&1\r\n"
       ]
      },
      {
       "output_type": "stream",
       "stream": "stdout",
       "text": [
        "mv -f .deps/linear.Tpo .deps/linear.Plo\r\n",
        "/bin/sh ../libtool --tag=CC   --mode=link gcc  -g -O2   -o libgslfit.la  linear.lo  -lm \r\n"
       ]
      },
      {
       "output_type": "stream",
       "stream": "stdout",
       "text": [
        "libtool: link: ar cru .libs/libgslfit.a .libs/linear.o \r\n",
        "libtool: link: ranlib .libs/libgslfit.a\r\n"
       ]
      },
      {
       "output_type": "stream",
       "stream": "stdout",
       "text": [
        "libtool: link: ( cd \".libs\" && rm -f \"libgslfit.la\" && ln -s \"../libgslfit.la\" \"libgslfit.la\" )\r\n",
        "Making all in multifit\r\n"
       ]
      },
      {
       "output_type": "stream",
       "stream": "stdout",
       "text": [
        "/bin/sh ../libtool --tag=CC   --mode=compile gcc -DHAVE_CONFIG_H -I. -I.. -I..    -g -O2 -MT multilinear.lo -MD -MP -MF .deps/multilinear.Tpo -c -o multilinear.lo multilinear.c\r\n",
        "libtool: compile:  gcc -DHAVE_CONFIG_H -I. -I.. -I.. -g -O2 -MT multilinear.lo -MD -MP -MF .deps/multilinear.Tpo -c multilinear.c  -fno-common -DPIC -o .libs/multilinear.o\r\n"
       ]
      },
      {
       "output_type": "stream",
       "stream": "stdout",
       "text": [
        "libtool: compile:  gcc -DHAVE_CONFIG_H -I. -I.. -I.. -g -O2 -MT multilinear.lo -MD -MP -MF .deps/multilinear.Tpo -c multilinear.c -o multilinear.o >/dev/null 2>&1\r\n"
       ]
      },
      {
       "output_type": "stream",
       "stream": "stdout",
       "text": [
        "mv -f .deps/multilinear.Tpo .deps/multilinear.Plo\r\n",
        "/bin/sh ../libtool --tag=CC   --mode=compile gcc -DHAVE_CONFIG_H -I. -I.. -I..    -g -O2 -MT work.lo -MD -MP -MF .deps/work.Tpo -c -o work.lo work.c\r\n",
        "libtool: compile:  gcc -DHAVE_CONFIG_H -I. -I.. -I.. -g -O2 -MT work.lo -MD -MP -MF .deps/work.Tpo -c work.c  -fno-common -DPIC -o .libs/work.o\r\n"
       ]
      },
      {
       "output_type": "stream",
       "stream": "stdout",
       "text": [
        "libtool: compile:  gcc -DHAVE_CONFIG_H -I. -I.. -I.. -g -O2 -MT work.lo -MD -MP -MF .deps/work.Tpo -c work.c -o work.o >/dev/null 2>&1\r\n"
       ]
      },
      {
       "output_type": "stream",
       "stream": "stdout",
       "text": [
        "mv -f .deps/work.Tpo .deps/work.Plo\r\n",
        "/bin/sh ../libtool --tag=CC   --mode=compile gcc -DHAVE_CONFIG_H -I. -I.. -I..    -g -O2 -MT lmder.lo -MD -MP -MF .deps/lmder.Tpo -c -o lmder.lo lmder.c\r\n",
        "libtool: compile:  gcc -DHAVE_CONFIG_H -I. -I.. -I.. -g -O2 -MT lmder.lo -MD -MP -MF .deps/lmder.Tpo -c lmder.c  -fno-common -DPIC -o .libs/lmder.o\r\n"
       ]
      },
      {
       "output_type": "stream",
       "stream": "stdout",
       "text": [
        "libtool: compile:  gcc -DHAVE_CONFIG_H -I. -I.. -I.. -g -O2 -MT lmder.lo -MD -MP -MF .deps/lmder.Tpo -c lmder.c -o lmder.o >/dev/null 2>&1\r\n"
       ]
      },
      {
       "output_type": "stream",
       "stream": "stdout",
       "text": [
        "mv -f .deps/lmder.Tpo .deps/lmder.Plo\r\n",
        "/bin/sh ../libtool --tag=CC   --mode=compile gcc -DHAVE_CONFIG_H -I. -I.. -I..    -g -O2 -MT fsolver.lo -MD -MP -MF .deps/fsolver.Tpo -c -o fsolver.lo fsolver.c\r\n"
       ]
      },
      {
       "output_type": "stream",
       "stream": "stdout",
       "text": [
        "libtool: compile:  gcc -DHAVE_CONFIG_H -I. -I.. -I.. -g -O2 -MT fsolver.lo -MD -MP -MF .deps/fsolver.Tpo -c fsolver.c  -fno-common -DPIC -o .libs/fsolver.o\r\n"
       ]
      },
      {
       "output_type": "stream",
       "stream": "stdout",
       "text": [
        "libtool: compile:  gcc -DHAVE_CONFIG_H -I. -I.. -I.. -g -O2 -MT fsolver.lo -MD -MP -MF .deps/fsolver.Tpo -c fsolver.c -o fsolver.o >/dev/null 2>&1\r\n"
       ]
      },
      {
       "output_type": "stream",
       "stream": "stdout",
       "text": [
        "mv -f .deps/fsolver.Tpo .deps/fsolver.Plo\r\n",
        "/bin/sh ../libtool --tag=CC   --mode=compile gcc -DHAVE_CONFIG_H -I. -I.. -I..    -g -O2 -MT fdfsolver.lo -MD -MP -MF .deps/fdfsolver.Tpo -c -o fdfsolver.lo fdfsolver.c\r\n"
       ]
      },
      {
       "output_type": "stream",
       "stream": "stdout",
       "text": [
        "libtool: compile:  gcc -DHAVE_CONFIG_H -I. -I.. -I.. -g -O2 -MT fdfsolver.lo -MD -MP -MF .deps/fdfsolver.Tpo -c fdfsolver.c  -fno-common -DPIC -o .libs/fdfsolver.o\r\n"
       ]
      },
      {
       "output_type": "stream",
       "stream": "stdout",
       "text": [
        "libtool: compile:  gcc -DHAVE_CONFIG_H -I. -I.. -I.. -g -O2 -MT fdfsolver.lo -MD -MP -MF .deps/fdfsolver.Tpo -c fdfsolver.c -o fdfsolver.o >/dev/null 2>&1\r\n"
       ]
      },
      {
       "output_type": "stream",
       "stream": "stdout",
       "text": [
        "mv -f .deps/fdfsolver.Tpo .deps/fdfsolver.Plo\r\n"
       ]
      },
      {
       "output_type": "stream",
       "stream": "stdout",
       "text": [
        "/bin/sh ../libtool --tag=CC   --mode=compile gcc -DHAVE_CONFIG_H -I. -I.. -I..    -g -O2 -MT convergence.lo -MD -MP -MF .deps/convergence.Tpo -c -o convergence.lo convergence.c\r\n",
        "libtool: compile:  gcc -DHAVE_CONFIG_H -I. -I.. -I.. -g -O2 -MT convergence.lo -MD -MP -MF .deps/convergence.Tpo -c convergence.c  -fno-common -DPIC -o .libs/convergence.o\r\n"
       ]
      },
      {
       "output_type": "stream",
       "stream": "stdout",
       "text": [
        "libtool: compile:  gcc -DHAVE_CONFIG_H -I. -I.. -I.. -g -O2 -MT convergence.lo -MD -MP -MF .deps/convergence.Tpo -c convergence.c -o convergence.o >/dev/null 2>&1\r\n"
       ]
      },
      {
       "output_type": "stream",
       "stream": "stdout",
       "text": [
        "mv -f .deps/convergence.Tpo .deps/convergence.Plo\r\n",
        "/bin/sh ../libtool --tag=CC   --mode=compile gcc -DHAVE_CONFIG_H -I. -I.. -I..    -g -O2 -MT gradient.lo -MD -MP -MF .deps/gradient.Tpo -c -o gradient.lo gradient.c\r\n",
        "libtool: compile:  gcc -DHAVE_CONFIG_H -I. -I.. -I.. -g -O2 -MT gradient.lo -MD -MP -MF .deps/gradient.Tpo -c gradient.c  -fno-common -DPIC -o .libs/gradient.o\r\n"
       ]
      },
      {
       "output_type": "stream",
       "stream": "stdout",
       "text": [
        "libtool: compile:  gcc -DHAVE_CONFIG_H -I. -I.. -I.. -g -O2 -MT gradient.lo -MD -MP -MF .deps/gradient.Tpo -c gradient.c -o gradient.o >/dev/null 2>&1\r\n"
       ]
      },
      {
       "output_type": "stream",
       "stream": "stdout",
       "text": [
        "mv -f .deps/gradient.Tpo .deps/gradient.Plo\r\n",
        "/bin/sh ../libtool --tag=CC   --mode=compile gcc -DHAVE_CONFIG_H -I. -I.. -I..    -g -O2 -MT covar.lo -MD -MP -MF .deps/covar.Tpo -c -o covar.lo covar.c\r\n"
       ]
      },
      {
       "output_type": "stream",
       "stream": "stdout",
       "text": [
        "libtool: compile:  gcc -DHAVE_CONFIG_H -I. -I.. -I.. -g -O2 -MT covar.lo -MD -MP -MF .deps/covar.Tpo -c covar.c  -fno-common -DPIC -o .libs/covar.o\r\n"
       ]
      },
      {
       "output_type": "stream",
       "stream": "stdout",
       "text": [
        "libtool: compile:  gcc -DHAVE_CONFIG_H -I. -I.. -I.. -g -O2 -MT covar.lo -MD -MP -MF .deps/covar.Tpo -c covar.c -o covar.o >/dev/null 2>&1\r\n"
       ]
      },
      {
       "output_type": "stream",
       "stream": "stdout",
       "text": [
        "mv -f .deps/covar.Tpo .deps/covar.Plo\r\n",
        "/bin/sh ../libtool --tag=CC   --mode=link gcc  -g -O2   -o libgslmultifit.la  multilinear.lo work.lo lmder.lo fsolver.lo fdfsolver.lo convergence.lo gradient.lo covar.lo  -lm \r\n"
       ]
      },
      {
       "output_type": "stream",
       "stream": "stdout",
       "text": [
        "libtool: link: ar cru .libs/libgslmultifit.a .libs/multilinear.o .libs/work.o .libs/lmder.o .libs/fsolver.o .libs/fdfsolver.o .libs/convergence.o .libs/gradient.o .libs/covar.o \r\n"
       ]
      },
      {
       "output_type": "stream",
       "stream": "stdout",
       "text": [
        "libtool: link: ranlib .libs/libgslmultifit.a\r\n"
       ]
      },
      {
       "output_type": "stream",
       "stream": "stdout",
       "text": [
        "libtool: link: ( cd \".libs\" && rm -f \"libgslmultifit.la\" && ln -s \"../libgslmultifit.la\" \"libgslmultifit.la\" )\r\n",
        "Making all in statistics\r\n"
       ]
      },
      {
       "output_type": "stream",
       "stream": "stdout",
       "text": [
        "/bin/sh ../libtool --tag=CC   --mode=compile gcc -DHAVE_CONFIG_H -I. -I.. -I..    -g -O2 -MT mean.lo -MD -MP -MF .deps/mean.Tpo -c -o mean.lo mean.c\r\n"
       ]
      },
      {
       "output_type": "stream",
       "stream": "stdout",
       "text": [
        "libtool: compile:  gcc -DHAVE_CONFIG_H -I. -I.. -I.. -g -O2 -MT mean.lo -MD -MP -MF .deps/mean.Tpo -c mean.c  -fno-common -DPIC -o .libs/mean.o\r\n"
       ]
      },
      {
       "output_type": "stream",
       "stream": "stdout",
       "text": [
        "libtool: compile:  gcc -DHAVE_CONFIG_H -I. -I.. -I.. -g -O2 -MT mean.lo -MD -MP -MF .deps/mean.Tpo -c mean.c -o mean.o >/dev/null 2>&1\r\n"
       ]
      },
      {
       "output_type": "stream",
       "stream": "stdout",
       "text": [
        "mv -f .deps/mean.Tpo .deps/mean.Plo\r\n",
        "/bin/sh ../libtool --tag=CC   --mode=compile gcc -DHAVE_CONFIG_H -I. -I.. -I..    -g -O2 -MT variance.lo -MD -MP -MF .deps/variance.Tpo -c -o variance.lo variance.c\r\n"
       ]
      },
      {
       "output_type": "stream",
       "stream": "stdout",
       "text": [
        "libtool: compile:  gcc -DHAVE_CONFIG_H -I. -I.. -I.. -g -O2 -MT variance.lo -MD -MP -MF .deps/variance.Tpo -c variance.c  -fno-common -DPIC -o .libs/variance.o\r\n"
       ]
      },
      {
       "output_type": "stream",
       "stream": "stdout",
       "text": [
        "libtool: compile:  gcc -DHAVE_CONFIG_H -I. -I.. -I.. -g -O2 -MT variance.lo -MD -MP -MF .deps/variance.Tpo -c variance.c -o variance.o >/dev/null 2>&1\r\n"
       ]
      },
      {
       "output_type": "stream",
       "stream": "stdout",
       "text": [
        "mv -f .deps/variance.Tpo .deps/variance.Plo\r\n",
        "/bin/sh ../libtool --tag=CC   --mode=compile gcc -DHAVE_CONFIG_H -I. -I.. -I..    -g -O2 -MT absdev.lo -MD -MP -MF .deps/absdev.Tpo -c -o absdev.lo absdev.c\r\n"
       ]
      },
      {
       "output_type": "stream",
       "stream": "stdout",
       "text": [
        "libtool: compile:  gcc -DHAVE_CONFIG_H -I. -I.. -I.. -g -O2 -MT absdev.lo -MD -MP -MF .deps/absdev.Tpo -c absdev.c  -fno-common -DPIC -o .libs/absdev.o\r\n"
       ]
      },
      {
       "output_type": "stream",
       "stream": "stdout",
       "text": [
        "libtool: compile:  gcc -DHAVE_CONFIG_H -I. -I.. -I.. -g -O2 -MT absdev.lo -MD -MP -MF .deps/absdev.Tpo -c absdev.c -o absdev.o >/dev/null 2>&1\r\n"
       ]
      },
      {
       "output_type": "stream",
       "stream": "stdout",
       "text": [
        "mv -f .deps/absdev.Tpo .deps/absdev.Plo\r\n",
        "/bin/sh ../libtool --tag=CC   --mode=compile gcc -DHAVE_CONFIG_H -I. -I.. -I..    -g -O2 -MT skew.lo -MD -MP -MF .deps/skew.Tpo -c -o skew.lo skew.c\r\n",
        "libtool: compile:  gcc -DHAVE_CONFIG_H -I. -I.. -I.. -g -O2 -MT skew.lo -MD -MP -MF .deps/skew.Tpo -c skew.c  -fno-common -DPIC -o .libs/skew.o\r\n"
       ]
      },
      {
       "output_type": "stream",
       "stream": "stdout",
       "text": [
        "libtool: compile:  gcc -DHAVE_CONFIG_H -I. -I.. -I.. -g -O2 -MT skew.lo -MD -MP -MF .deps/skew.Tpo -c skew.c -o skew.o >/dev/null 2>&1\r\n"
       ]
      },
      {
       "output_type": "stream",
       "stream": "stdout",
       "text": [
        "mv -f .deps/skew.Tpo .deps/skew.Plo\r\n",
        "/bin/sh ../libtool --tag=CC   --mode=compile gcc -DHAVE_CONFIG_H -I. -I.. -I..    -g -O2 -MT kurtosis.lo -MD -MP -MF .deps/kurtosis.Tpo -c -o kurtosis.lo kurtosis.c\r\n"
       ]
      },
      {
       "output_type": "stream",
       "stream": "stdout",
       "text": [
        "libtool: compile:  gcc -DHAVE_CONFIG_H -I. -I.. -I.. -g -O2 -MT kurtosis.lo -MD -MP -MF .deps/kurtosis.Tpo -c kurtosis.c  -fno-common -DPIC -o .libs/kurtosis.o\r\n"
       ]
      },
      {
       "output_type": "stream",
       "stream": "stdout",
       "text": [
        "libtool: compile:  gcc -DHAVE_CONFIG_H -I. -I.. -I.. -g -O2 -MT kurtosis.lo -MD -MP -MF .deps/kurtosis.Tpo -c kurtosis.c -o kurtosis.o >/dev/null 2>&1\r\n"
       ]
      },
      {
       "output_type": "stream",
       "stream": "stdout",
       "text": [
        "mv -f .deps/kurtosis.Tpo .deps/kurtosis.Plo\r\n",
        "/bin/sh ../libtool --tag=CC   --mode=compile gcc -DHAVE_CONFIG_H -I. -I.. -I..    -g -O2 -MT lag1.lo -MD -MP -MF .deps/lag1.Tpo -c -o lag1.lo lag1.c\r\n",
        "libtool: compile:  gcc -DHAVE_CONFIG_H -I. -I.. -I.. -g -O2 -MT lag1.lo -MD -MP -MF .deps/lag1.Tpo -c lag1.c  -fno-common -DPIC -o .libs/lag1.o\r\n"
       ]
      },
      {
       "output_type": "stream",
       "stream": "stdout",
       "text": [
        "libtool: compile:  gcc -DHAVE_CONFIG_H -I. -I.. -I.. -g -O2 -MT lag1.lo -MD -MP -MF .deps/lag1.Tpo -c lag1.c -o lag1.o >/dev/null 2>&1\r\n"
       ]
      },
      {
       "output_type": "stream",
       "stream": "stdout",
       "text": [
        "mv -f .deps/lag1.Tpo .deps/lag1.Plo\r\n",
        "/bin/sh ../libtool --tag=CC   --mode=compile gcc -DHAVE_CONFIG_H -I. -I.. -I..    -g -O2 -MT p_variance.lo -MD -MP -MF .deps/p_variance.Tpo -c -o p_variance.lo p_variance.c\r\n",
        "libtool: compile:  gcc -DHAVE_CONFIG_H -I. -I.. -I.. -g -O2 -MT p_variance.lo -MD -MP -MF .deps/p_variance.Tpo -c p_variance.c  -fno-common -DPIC -o .libs/p_variance.o\r\n"
       ]
      },
      {
       "output_type": "stream",
       "stream": "stdout",
       "text": [
        "libtool: compile:  gcc -DHAVE_CONFIG_H -I. -I.. -I.. -g -O2 -MT p_variance.lo -MD -MP -MF .deps/p_variance.Tpo -c p_variance.c -o p_variance.o >/dev/null 2>&1\r\n"
       ]
      },
      {
       "output_type": "stream",
       "stream": "stdout",
       "text": [
        "mv -f .deps/p_variance.Tpo .deps/p_variance.Plo\r\n",
        "/bin/sh ../libtool --tag=CC   --mode=compile gcc -DHAVE_CONFIG_H -I. -I.. -I..    -g -O2 -MT minmax.lo -MD -MP -MF .deps/minmax.Tpo -c -o minmax.lo minmax.c\r\n",
        "libtool: compile:  gcc -DHAVE_CONFIG_H -I. -I.. -I.. -g -O2 -MT minmax.lo -MD -MP -MF .deps/minmax.Tpo -c minmax.c  -fno-common -DPIC -o .libs/minmax.o\r\n"
       ]
      },
      {
       "output_type": "stream",
       "stream": "stdout",
       "text": [
        "libtool: compile:  gcc -DHAVE_CONFIG_H -I. -I.. -I.. -g -O2 -MT minmax.lo -MD -MP -MF .deps/minmax.Tpo -c minmax.c -o minmax.o >/dev/null 2>&1\r\n"
       ]
      },
      {
       "output_type": "stream",
       "stream": "stdout",
       "text": [
        "mv -f .deps/minmax.Tpo .deps/minmax.Plo\r\n",
        "/bin/sh ../libtool --tag=CC   --mode=compile gcc -DHAVE_CONFIG_H -I. -I.. -I..    -g -O2 -MT ttest.lo -MD -MP -MF .deps/ttest.Tpo -c -o ttest.lo ttest.c\r\n",
        "libtool: compile:  gcc -DHAVE_CONFIG_H -I. -I.. -I.. -g -O2 -MT ttest.lo -MD -MP -MF .deps/ttest.Tpo -c ttest.c  -fno-common -DPIC -o .libs/ttest.o\r\n"
       ]
      },
      {
       "output_type": "stream",
       "stream": "stdout",
       "text": [
        "libtool: compile:  gcc -DHAVE_CONFIG_H -I. -I.. -I.. -g -O2 -MT ttest.lo -MD -MP -MF .deps/ttest.Tpo -c ttest.c -o ttest.o >/dev/null 2>&1\r\n"
       ]
      },
      {
       "output_type": "stream",
       "stream": "stdout",
       "text": [
        "mv -f .deps/ttest.Tpo .deps/ttest.Plo\r\n",
        "/bin/sh ../libtool --tag=CC   --mode=compile gcc -DHAVE_CONFIG_H -I. -I.. -I..    -g -O2 -MT median.lo -MD -MP -MF .deps/median.Tpo -c -o median.lo median.c\r\n",
        "libtool: compile:  gcc -DHAVE_CONFIG_H -I. -I.. -I.. -g -O2 -MT median.lo -MD -MP -MF .deps/median.Tpo -c median.c  -fno-common -DPIC -o .libs/median.o\r\n"
       ]
      },
      {
       "output_type": "stream",
       "stream": "stdout",
       "text": [
        "libtool: compile:  gcc -DHAVE_CONFIG_H -I. -I.. -I.. -g -O2 -MT median.lo -MD -MP -MF .deps/median.Tpo -c median.c -o median.o >/dev/null 2>&1\r\n"
       ]
      },
      {
       "output_type": "stream",
       "stream": "stdout",
       "text": [
        "mv -f .deps/median.Tpo .deps/median.Plo\r\n",
        "/bin/sh ../libtool --tag=CC   --mode=compile gcc -DHAVE_CONFIG_H -I. -I.. -I..    -g -O2 -MT covariance.lo -MD -MP -MF .deps/covariance.Tpo -c -o covariance.lo covariance.c\r\n",
        "libtool: compile:  gcc -DHAVE_CONFIG_H -I. -I.. -I.. -g -O2 -MT covariance.lo -MD -MP -MF .deps/covariance.Tpo -c covariance.c  -fno-common -DPIC -o .libs/covariance.o\r\n"
       ]
      },
      {
       "output_type": "stream",
       "stream": "stdout",
       "text": [
        "libtool: compile:  gcc -DHAVE_CONFIG_H -I. -I.. -I.. -g -O2 -MT covariance.lo -MD -MP -MF .deps/covariance.Tpo -c covariance.c -o covariance.o >/dev/null 2>&1\r\n"
       ]
      },
      {
       "output_type": "stream",
       "stream": "stdout",
       "text": [
        "mv -f .deps/covariance.Tpo .deps/covariance.Plo\r\n",
        "/bin/sh ../libtool --tag=CC   --mode=compile gcc -DHAVE_CONFIG_H -I. -I.. -I..    -g -O2 -MT quantiles.lo -MD -MP -MF .deps/quantiles.Tpo -c -o quantiles.lo quantiles.c\r\n"
       ]
      },
      {
       "output_type": "stream",
       "stream": "stdout",
       "text": [
        "libtool: compile:  gcc -DHAVE_CONFIG_H -I. -I.. -I.. -g -O2 -MT quantiles.lo -MD -MP -MF .deps/quantiles.Tpo -c quantiles.c  -fno-common -DPIC -o .libs/quantiles.o\r\n"
       ]
      },
      {
       "output_type": "stream",
       "stream": "stdout",
       "text": [
        "libtool: compile:  gcc -DHAVE_CONFIG_H -I. -I.. -I.. -g -O2 -MT quantiles.lo -MD -MP -MF .deps/quantiles.Tpo -c quantiles.c -o quantiles.o >/dev/null 2>&1\r\n"
       ]
      },
      {
       "output_type": "stream",
       "stream": "stdout",
       "text": [
        "mv -f .deps/quantiles.Tpo .deps/quantiles.Plo\r\n",
        "/bin/sh ../libtool --tag=CC   --mode=compile gcc -DHAVE_CONFIG_H -I. -I.. -I..    -g -O2 -MT wmean.lo -MD -MP -MF .deps/wmean.Tpo -c -o wmean.lo wmean.c\r\n",
        "libtool: compile:  gcc -DHAVE_CONFIG_H -I. -I.. -I.. -g -O2 -MT wmean.lo -MD -MP -MF .deps/wmean.Tpo -c wmean.c  -fno-common -DPIC -o .libs/wmean.o\r\n"
       ]
      },
      {
       "output_type": "stream",
       "stream": "stdout",
       "text": [
        "libtool: compile:  gcc -DHAVE_CONFIG_H -I. -I.. -I.. -g -O2 -MT wmean.lo -MD -MP -MF .deps/wmean.Tpo -c wmean.c -o wmean.o >/dev/null 2>&1\r\n"
       ]
      },
      {
       "output_type": "stream",
       "stream": "stdout",
       "text": [
        "mv -f .deps/wmean.Tpo .deps/wmean.Plo\r\n",
        "/bin/sh ../libtool --tag=CC   --mode=compile gcc -DHAVE_CONFIG_H -I. -I.. -I..    -g -O2 -MT wvariance.lo -MD -MP -MF .deps/wvariance.Tpo -c -o wvariance.lo wvariance.c\r\n",
        "libtool: compile:  gcc -DHAVE_CONFIG_H -I. -I.. -I.. -g -O2 -MT wvariance.lo -MD -MP -MF .deps/wvariance.Tpo -c wvariance.c  -fno-common -DPIC -o .libs/wvariance.o\r\n"
       ]
      },
      {
       "output_type": "stream",
       "stream": "stdout",
       "text": [
        "libtool: compile:  gcc -DHAVE_CONFIG_H -I. -I.. -I.. -g -O2 -MT wvariance.lo -MD -MP -MF .deps/wvariance.Tpo -c wvariance.c -o wvariance.o >/dev/null 2>&1\r\n"
       ]
      },
      {
       "output_type": "stream",
       "stream": "stdout",
       "text": [
        "mv -f .deps/wvariance.Tpo .deps/wvariance.Plo\r\n",
        "/bin/sh ../libtool --tag=CC   --mode=compile gcc -DHAVE_CONFIG_H -I. -I.. -I..    -g -O2 -MT wabsdev.lo -MD -MP -MF .deps/wabsdev.Tpo -c -o wabsdev.lo wabsdev.c\r\n"
       ]
      },
      {
       "output_type": "stream",
       "stream": "stdout",
       "text": [
        "libtool: compile:  gcc -DHAVE_CONFIG_H -I. -I.. -I.. -g -O2 -MT wabsdev.lo -MD -MP -MF .deps/wabsdev.Tpo -c wabsdev.c  -fno-common -DPIC -o .libs/wabsdev.o\r\n"
       ]
      },
      {
       "output_type": "stream",
       "stream": "stdout",
       "text": [
        "libtool: compile:  gcc -DHAVE_CONFIG_H -I. -I.. -I.. -g -O2 -MT wabsdev.lo -MD -MP -MF .deps/wabsdev.Tpo -c wabsdev.c -o wabsdev.o >/dev/null 2>&1\r\n"
       ]
      },
      {
       "output_type": "stream",
       "stream": "stdout",
       "text": [
        "mv -f .deps/wabsdev.Tpo .deps/wabsdev.Plo\r\n",
        "/bin/sh ../libtool --tag=CC   --mode=compile gcc -DHAVE_CONFIG_H -I. -I.. -I..    -g -O2 -MT wskew.lo -MD -MP -MF .deps/wskew.Tpo -c -o wskew.lo wskew.c\r\n"
       ]
      },
      {
       "output_type": "stream",
       "stream": "stdout",
       "text": [
        "libtool: compile:  gcc -DHAVE_CONFIG_H -I. -I.. -I.. -g -O2 -MT wskew.lo -MD -MP -MF .deps/wskew.Tpo -c wskew.c  -fno-common -DPIC -o .libs/wskew.o\r\n"
       ]
      },
      {
       "output_type": "stream",
       "stream": "stdout",
       "text": [
        "libtool: compile:  gcc -DHAVE_CONFIG_H -I. -I.. -I.. -g -O2 -MT wskew.lo -MD -MP -MF .deps/wskew.Tpo -c wskew.c -o wskew.o >/dev/null 2>&1\r\n"
       ]
      },
      {
       "output_type": "stream",
       "stream": "stdout",
       "text": [
        "mv -f .deps/wskew.Tpo .deps/wskew.Plo\r\n",
        "/bin/sh ../libtool --tag=CC   --mode=compile gcc -DHAVE_CONFIG_H -I. -I.. -I..    -g -O2 -MT wkurtosis.lo -MD -MP -MF .deps/wkurtosis.Tpo -c -o wkurtosis.lo wkurtosis.c\r\n"
       ]
      },
      {
       "output_type": "stream",
       "stream": "stdout",
       "text": [
        "libtool: compile:  gcc -DHAVE_CONFIG_H -I. -I.. -I.. -g -O2 -MT wkurtosis.lo -MD -MP -MF .deps/wkurtosis.Tpo -c wkurtosis.c  -fno-common -DPIC -o .libs/wkurtosis.o\r\n"
       ]
      },
      {
       "output_type": "stream",
       "stream": "stdout",
       "text": [
        "libtool: compile:  gcc -DHAVE_CONFIG_H -I. -I.. -I.. -g -O2 -MT wkurtosis.lo -MD -MP -MF .deps/wkurtosis.Tpo -c wkurtosis.c -o wkurtosis.o >/dev/null 2>&1\r\n"
       ]
      },
      {
       "output_type": "stream",
       "stream": "stdout",
       "text": [
        "mv -f .deps/wkurtosis.Tpo .deps/wkurtosis.Plo\r\n"
       ]
      },
      {
       "output_type": "stream",
       "stream": "stdout",
       "text": [
        "/bin/sh ../libtool --tag=CC   --mode=link gcc  -g -O2   -o libgslstatistics.la  mean.lo variance.lo absdev.lo skew.lo kurtosis.lo lag1.lo p_variance.lo minmax.lo ttest.lo median.lo covariance.lo quantiles.lo wmean.lo wvariance.lo wabsdev.lo wskew.lo wkurtosis.lo  -lm \r\n"
       ]
      },
      {
       "output_type": "stream",
       "stream": "stdout",
       "text": [
        "libtool: link: ar cru .libs/libgslstatistics.a .libs/mean.o .libs/variance.o .libs/absdev.o .libs/skew.o .libs/kurtosis.o .libs/lag1.o .libs/p_variance.o .libs/minmax.o .libs/ttest.o .libs/median.o .libs/covariance.o .libs/quantiles.o .libs/wmean.o .libs/wvariance.o .libs/wabsdev.o .libs/wskew.o .libs/wkurtosis.o \r\n"
       ]
      },
      {
       "output_type": "stream",
       "stream": "stdout",
       "text": [
        "libtool: link: ranlib .libs/libgslstatistics.a\r\n"
       ]
      },
      {
       "output_type": "stream",
       "stream": "stdout",
       "text": [
        "libtool: link: ( cd \".libs\" && rm -f \"libgslstatistics.la\" && ln -s \"../libgslstatistics.la\" \"libgslstatistics.la\" )\r\n",
        "Making all in siman\r\n",
        "/bin/sh ../libtool --tag=CC   --mode=compile gcc -DHAVE_CONFIG_H -I. -I.. -I..    -g -O2 -MT siman.lo -MD -MP -MF .deps/siman.Tpo -c -o siman.lo siman.c\r\n",
        "libtool: compile:  gcc -DHAVE_CONFIG_H -I. -I.. -I.. -g -O2 -MT siman.lo -MD -MP -MF .deps/siman.Tpo -c siman.c  -fno-common -DPIC -o .libs/siman.o\r\n"
       ]
      },
      {
       "output_type": "stream",
       "stream": "stdout",
       "text": [
        "libtool: compile:  gcc -DHAVE_CONFIG_H -I. -I.. -I.. -g -O2 -MT siman.lo -MD -MP -MF .deps/siman.Tpo -c siman.c -o siman.o >/dev/null 2>&1\r\n"
       ]
      },
      {
       "output_type": "stream",
       "stream": "stdout",
       "text": [
        "mv -f .deps/siman.Tpo .deps/siman.Plo\r\n",
        "/bin/sh ../libtool --tag=CC   --mode=link gcc  -g -O2   -o libgslsiman.la  siman.lo  -lm \r\n"
       ]
      },
      {
       "output_type": "stream",
       "stream": "stdout",
       "text": [
        "libtool: link: ar cru .libs/libgslsiman.a .libs/siman.o \r\n",
        "libtool: link: ranlib .libs/libgslsiman.a\r\n"
       ]
      },
      {
       "output_type": "stream",
       "stream": "stdout",
       "text": [
        "libtool: link: ( cd \".libs\" && rm -f \"libgslsiman.la\" && ln -s \"../libgslsiman.la\" \"libgslsiman.la\" )\r\n",
        "gcc -DHAVE_CONFIG_H -I. -I.. -I..    -g -O2 -MT siman_tsp.o -MD -MP -MF .deps/siman_tsp.Tpo -c -o siman_tsp.o siman_tsp.c\r\n"
       ]
      },
      {
       "output_type": "stream",
       "stream": "stdout",
       "text": [
        "mv -f .deps/siman_tsp.Tpo .deps/siman_tsp.Po\r\n"
       ]
      },
      {
       "output_type": "stream",
       "stream": "stdout",
       "text": [
        "/bin/sh ../libtool --tag=CC   --mode=link gcc  -g -O2   -o siman_tsp siman_tsp.o libgslsiman.la ../rng/libgslrng.la ../ieee-utils/libgslieeeutils.la ../err/libgslerr.la ../sys/libgslsys.la ../utils/libutils.la -lm \r\n"
       ]
      },
      {
       "output_type": "stream",
       "stream": "stdout",
       "text": [
        "libtool: link: gcc -g -O2 -o siman_tsp siman_tsp.o  ./.libs/libgslsiman.a ../rng/.libs/libgslrng.a ../ieee-utils/.libs/libgslieeeutils.a ../err/.libs/libgslerr.a ../sys/.libs/libgslsys.a ../utils/.libs/libutils.a -lm\r\n"
       ]
      },
      {
       "output_type": "stream",
       "stream": "stdout",
       "text": [
        "Making all in sum\r\n",
        "/bin/sh ../libtool --tag=CC   --mode=compile gcc -DHAVE_CONFIG_H -I. -I.. -I..    -g -O2 -MT levin_u.lo -MD -MP -MF .deps/levin_u.Tpo -c -o levin_u.lo levin_u.c\r\n"
       ]
      },
      {
       "output_type": "stream",
       "stream": "stdout",
       "text": [
        "libtool: compile:  gcc -DHAVE_CONFIG_H -I. -I.. -I.. -g -O2 -MT levin_u.lo -MD -MP -MF .deps/levin_u.Tpo -c levin_u.c  -fno-common -DPIC -o .libs/levin_u.o\r\n"
       ]
      },
      {
       "output_type": "stream",
       "stream": "stdout",
       "text": [
        "libtool: compile:  gcc -DHAVE_CONFIG_H -I. -I.. -I.. -g -O2 -MT levin_u.lo -MD -MP -MF .deps/levin_u.Tpo -c levin_u.c -o levin_u.o >/dev/null 2>&1\r\n"
       ]
      },
      {
       "output_type": "stream",
       "stream": "stdout",
       "text": [
        "mv -f .deps/levin_u.Tpo .deps/levin_u.Plo\r\n",
        "/bin/sh ../libtool --tag=CC   --mode=compile gcc -DHAVE_CONFIG_H -I. -I.. -I..    -g -O2 -MT levin_utrunc.lo -MD -MP -MF .deps/levin_utrunc.Tpo -c -o levin_utrunc.lo levin_utrunc.c\r\n"
       ]
      },
      {
       "output_type": "stream",
       "stream": "stdout",
       "text": [
        "libtool: compile:  gcc -DHAVE_CONFIG_H -I. -I.. -I.. -g -O2 -MT levin_utrunc.lo -MD -MP -MF .deps/levin_utrunc.Tpo -c levin_utrunc.c  -fno-common -DPIC -o .libs/levin_utrunc.o\r\n"
       ]
      },
      {
       "output_type": "stream",
       "stream": "stdout",
       "text": [
        "libtool: compile:  gcc -DHAVE_CONFIG_H -I. -I.. -I.. -g -O2 -MT levin_utrunc.lo -MD -MP -MF .deps/levin_utrunc.Tpo -c levin_utrunc.c -o levin_utrunc.o >/dev/null 2>&1\r\n"
       ]
      },
      {
       "output_type": "stream",
       "stream": "stdout",
       "text": [
        "mv -f .deps/levin_utrunc.Tpo .deps/levin_utrunc.Plo\r\n",
        "/bin/sh ../libtool --tag=CC   --mode=compile gcc -DHAVE_CONFIG_H -I. -I.. -I..    -g -O2 -MT work_u.lo -MD -MP -MF .deps/work_u.Tpo -c -o work_u.lo work_u.c\r\n",
        "libtool: compile:  gcc -DHAVE_CONFIG_H -I. -I.. -I.. -g -O2 -MT work_u.lo -MD -MP -MF .deps/work_u.Tpo -c work_u.c  -fno-common -DPIC -o .libs/work_u.o\r\n"
       ]
      },
      {
       "output_type": "stream",
       "stream": "stdout",
       "text": [
        "libtool: compile:  gcc -DHAVE_CONFIG_H -I. -I.. -I.. -g -O2 -MT work_u.lo -MD -MP -MF .deps/work_u.Tpo -c work_u.c -o work_u.o >/dev/null 2>&1\r\n"
       ]
      },
      {
       "output_type": "stream",
       "stream": "stdout",
       "text": [
        "mv -f .deps/work_u.Tpo .deps/work_u.Plo\r\n",
        "/bin/sh ../libtool --tag=CC   --mode=compile gcc -DHAVE_CONFIG_H -I. -I.. -I..    -g -O2 -MT work_utrunc.lo -MD -MP -MF .deps/work_utrunc.Tpo -c -o work_utrunc.lo work_utrunc.c\r\n",
        "libtool: compile:  gcc -DHAVE_CONFIG_H -I. -I.. -I.. -g -O2 -MT work_utrunc.lo -MD -MP -MF .deps/work_utrunc.Tpo -c work_utrunc.c  -fno-common -DPIC -o .libs/work_utrunc.o\r\n"
       ]
      },
      {
       "output_type": "stream",
       "stream": "stdout",
       "text": [
        "libtool: compile:  gcc -DHAVE_CONFIG_H -I. -I.. -I.. -g -O2 -MT work_utrunc.lo -MD -MP -MF .deps/work_utrunc.Tpo -c work_utrunc.c -o work_utrunc.o >/dev/null 2>&1\r\n"
       ]
      },
      {
       "output_type": "stream",
       "stream": "stdout",
       "text": [
        "mv -f .deps/work_utrunc.Tpo .deps/work_utrunc.Plo\r\n",
        "/bin/sh ../libtool --tag=CC   --mode=link gcc  -g -O2   -o libgslsum.la  levin_u.lo levin_utrunc.lo work_u.lo work_utrunc.lo  -lm \r\n"
       ]
      },
      {
       "output_type": "stream",
       "stream": "stdout",
       "text": [
        "libtool: link: ar cru .libs/libgslsum.a .libs/levin_u.o .libs/levin_utrunc.o .libs/work_u.o .libs/work_utrunc.o \r\n",
        "libtool: link: ranlib .libs/libgslsum.a\r\n"
       ]
      },
      {
       "output_type": "stream",
       "stream": "stdout",
       "text": [
        "libtool: link: ( cd \".libs\" && rm -f \"libgslsum.la\" && ln -s \"../libgslsum.la\" \"libgslsum.la\" )\r\n"
       ]
      },
      {
       "output_type": "stream",
       "stream": "stdout",
       "text": [
        "Making all in integration\r\n",
        "/bin/sh ../libtool --tag=CC   --mode=compile gcc -DHAVE_CONFIG_H -I. -I.. -I..    -g -O2 -MT qk15.lo -MD -MP -MF .deps/qk15.Tpo -c -o qk15.lo qk15.c\r\n"
       ]
      },
      {
       "output_type": "stream",
       "stream": "stdout",
       "text": [
        "libtool: compile:  gcc -DHAVE_CONFIG_H -I. -I.. -I.. -g -O2 -MT qk15.lo -MD -MP -MF .deps/qk15.Tpo -c qk15.c  -fno-common -DPIC -o .libs/qk15.o\r\n"
       ]
      },
      {
       "output_type": "stream",
       "stream": "stdout",
       "text": [
        "libtool: compile:  gcc -DHAVE_CONFIG_H -I. -I.. -I.. -g -O2 -MT qk15.lo -MD -MP -MF .deps/qk15.Tpo -c qk15.c -o qk15.o >/dev/null 2>&1\r\n"
       ]
      },
      {
       "output_type": "stream",
       "stream": "stdout",
       "text": [
        "mv -f .deps/qk15.Tpo .deps/qk15.Plo\r\n",
        "/bin/sh ../libtool --tag=CC   --mode=compile gcc -DHAVE_CONFIG_H -I. -I.. -I..    -g -O2 -MT qk21.lo -MD -MP -MF .deps/qk21.Tpo -c -o qk21.lo qk21.c\r\n"
       ]
      },
      {
       "output_type": "stream",
       "stream": "stdout",
       "text": [
        "libtool: compile:  gcc -DHAVE_CONFIG_H -I. -I.. -I.. -g -O2 -MT qk21.lo -MD -MP -MF .deps/qk21.Tpo -c qk21.c  -fno-common -DPIC -o .libs/qk21.o\r\n"
       ]
      },
      {
       "output_type": "stream",
       "stream": "stdout",
       "text": [
        "libtool: compile:  gcc -DHAVE_CONFIG_H -I. -I.. -I.. -g -O2 -MT qk21.lo -MD -MP -MF .deps/qk21.Tpo -c qk21.c -o qk21.o >/dev/null 2>&1\r\n"
       ]
      },
      {
       "output_type": "stream",
       "stream": "stdout",
       "text": [
        "mv -f .deps/qk21.Tpo .deps/qk21.Plo\r\n",
        "/bin/sh ../libtool --tag=CC   --mode=compile gcc -DHAVE_CONFIG_H -I. -I.. -I..    -g -O2 -MT qk31.lo -MD -MP -MF .deps/qk31.Tpo -c -o qk31.lo qk31.c\r\n"
       ]
      },
      {
       "output_type": "stream",
       "stream": "stdout",
       "text": [
        "libtool: compile:  gcc -DHAVE_CONFIG_H -I. -I.. -I.. -g -O2 -MT qk31.lo -MD -MP -MF .deps/qk31.Tpo -c qk31.c  -fno-common -DPIC -o .libs/qk31.o\r\n"
       ]
      },
      {
       "output_type": "stream",
       "stream": "stdout",
       "text": [
        "libtool: compile:  gcc -DHAVE_CONFIG_H -I. -I.. -I.. -g -O2 -MT qk31.lo -MD -MP -MF .deps/qk31.Tpo -c qk31.c -o qk31.o >/dev/null 2>&1\r\n"
       ]
      },
      {
       "output_type": "stream",
       "stream": "stdout",
       "text": [
        "mv -f .deps/qk31.Tpo .deps/qk31.Plo\r\n",
        "/bin/sh ../libtool --tag=CC   --mode=compile gcc -DHAVE_CONFIG_H -I. -I.. -I..    -g -O2 -MT qk41.lo -MD -MP -MF .deps/qk41.Tpo -c -o qk41.lo qk41.c\r\n"
       ]
      },
      {
       "output_type": "stream",
       "stream": "stdout",
       "text": [
        "libtool: compile:  gcc -DHAVE_CONFIG_H -I. -I.. -I.. -g -O2 -MT qk41.lo -MD -MP -MF .deps/qk41.Tpo -c qk41.c  -fno-common -DPIC -o .libs/qk41.o\r\n"
       ]
      },
      {
       "output_type": "stream",
       "stream": "stdout",
       "text": [
        "libtool: compile:  gcc -DHAVE_CONFIG_H -I. -I.. -I.. -g -O2 -MT qk41.lo -MD -MP -MF .deps/qk41.Tpo -c qk41.c -o qk41.o >/dev/null 2>&1\r\n"
       ]
      },
      {
       "output_type": "stream",
       "stream": "stdout",
       "text": [
        "mv -f .deps/qk41.Tpo .deps/qk41.Plo\r\n",
        "/bin/sh ../libtool --tag=CC   --mode=compile gcc -DHAVE_CONFIG_H -I. -I.. -I..    -g -O2 -MT qk51.lo -MD -MP -MF .deps/qk51.Tpo -c -o qk51.lo qk51.c\r\n",
        "libtool: compile:  gcc -DHAVE_CONFIG_H -I. -I.. -I.. -g -O2 -MT qk51.lo -MD -MP -MF .deps/qk51.Tpo -c qk51.c  -fno-common -DPIC -o .libs/qk51.o\r\n"
       ]
      },
      {
       "output_type": "stream",
       "stream": "stdout",
       "text": [
        "libtool: compile:  gcc -DHAVE_CONFIG_H -I. -I.. -I.. -g -O2 -MT qk51.lo -MD -MP -MF .deps/qk51.Tpo -c qk51.c -o qk51.o >/dev/null 2>&1\r\n"
       ]
      },
      {
       "output_type": "stream",
       "stream": "stdout",
       "text": [
        "mv -f .deps/qk51.Tpo .deps/qk51.Plo\r\n",
        "/bin/sh ../libtool --tag=CC   --mode=compile gcc -DHAVE_CONFIG_H -I. -I.. -I..    -g -O2 -MT qk61.lo -MD -MP -MF .deps/qk61.Tpo -c -o qk61.lo qk61.c\r\n",
        "libtool: compile:  gcc -DHAVE_CONFIG_H -I. -I.. -I.. -g -O2 -MT qk61.lo -MD -MP -MF .deps/qk61.Tpo -c qk61.c  -fno-common -DPIC -o .libs/qk61.o\r\n"
       ]
      },
      {
       "output_type": "stream",
       "stream": "stdout",
       "text": [
        "libtool: compile:  gcc -DHAVE_CONFIG_H -I. -I.. -I.. -g -O2 -MT qk61.lo -MD -MP -MF .deps/qk61.Tpo -c qk61.c -o qk61.o >/dev/null 2>&1\r\n"
       ]
      },
      {
       "output_type": "stream",
       "stream": "stdout",
       "text": [
        "mv -f .deps/qk61.Tpo .deps/qk61.Plo\r\n",
        "/bin/sh ../libtool --tag=CC   --mode=compile gcc -DHAVE_CONFIG_H -I. -I.. -I..    -g -O2 -MT qk.lo -MD -MP -MF .deps/qk.Tpo -c -o qk.lo qk.c\r\n"
       ]
      },
      {
       "output_type": "stream",
       "stream": "stdout",
       "text": [
        "libtool: compile:  gcc -DHAVE_CONFIG_H -I. -I.. -I.. -g -O2 -MT qk.lo -MD -MP -MF .deps/qk.Tpo -c qk.c  -fno-common -DPIC -o .libs/qk.o\r\n"
       ]
      },
      {
       "output_type": "stream",
       "stream": "stdout",
       "text": [
        "libtool: compile:  gcc -DHAVE_CONFIG_H -I. -I.. -I.. -g -O2 -MT qk.lo -MD -MP -MF .deps/qk.Tpo -c qk.c -o qk.o >/dev/null 2>&1\r\n"
       ]
      },
      {
       "output_type": "stream",
       "stream": "stdout",
       "text": [
        "mv -f .deps/qk.Tpo .deps/qk.Plo\r\n",
        "/bin/sh ../libtool --tag=CC   --mode=compile gcc -DHAVE_CONFIG_H -I. -I.. -I..    -g -O2 -MT qng.lo -MD -MP -MF .deps/qng.Tpo -c -o qng.lo qng.c\r\n",
        "libtool: compile:  gcc -DHAVE_CONFIG_H -I. -I.. -I.. -g -O2 -MT qng.lo -MD -MP -MF .deps/qng.Tpo -c qng.c  -fno-common -DPIC -o .libs/qng.o\r\n"
       ]
      },
      {
       "output_type": "stream",
       "stream": "stdout",
       "text": [
        "libtool: compile:  gcc -DHAVE_CONFIG_H -I. -I.. -I.. -g -O2 -MT qng.lo -MD -MP -MF .deps/qng.Tpo -c qng.c -o qng.o >/dev/null 2>&1\r\n"
       ]
      },
      {
       "output_type": "stream",
       "stream": "stdout",
       "text": [
        "mv -f .deps/qng.Tpo .deps/qng.Plo\r\n",
        "/bin/sh ../libtool --tag=CC   --mode=compile gcc -DHAVE_CONFIG_H -I. -I.. -I..    -g -O2 -MT qag.lo -MD -MP -MF .deps/qag.Tpo -c -o qag.lo qag.c\r\n",
        "libtool: compile:  gcc -DHAVE_CONFIG_H -I. -I.. -I.. -g -O2 -MT qag.lo -MD -MP -MF .deps/qag.Tpo -c qag.c  -fno-common -DPIC -o .libs/qag.o\r\n"
       ]
      },
      {
       "output_type": "stream",
       "stream": "stdout",
       "text": [
        "libtool: compile:  gcc -DHAVE_CONFIG_H -I. -I.. -I.. -g -O2 -MT qag.lo -MD -MP -MF .deps/qag.Tpo -c qag.c -o qag.o >/dev/null 2>&1\r\n"
       ]
      },
      {
       "output_type": "stream",
       "stream": "stdout",
       "text": [
        "mv -f .deps/qag.Tpo .deps/qag.Plo\r\n",
        "/bin/sh ../libtool --tag=CC   --mode=compile gcc -DHAVE_CONFIG_H -I. -I.. -I..    -g -O2 -MT qags.lo -MD -MP -MF .deps/qags.Tpo -c -o qags.lo qags.c\r\n",
        "libtool: compile:  gcc -DHAVE_CONFIG_H -I. -I.. -I.. -g -O2 -MT qags.lo -MD -MP -MF .deps/qags.Tpo -c qags.c  -fno-common -DPIC -o .libs/qags.o\r\n"
       ]
      },
      {
       "output_type": "stream",
       "stream": "stdout",
       "text": [
        "libtool: compile:  gcc -DHAVE_CONFIG_H -I. -I.. -I.. -g -O2 -MT qags.lo -MD -MP -MF .deps/qags.Tpo -c qags.c -o qags.o >/dev/null 2>&1\r\n"
       ]
      },
      {
       "output_type": "stream",
       "stream": "stdout",
       "text": [
        "mv -f .deps/qags.Tpo .deps/qags.Plo\r\n",
        "/bin/sh ../libtool --tag=CC   --mode=compile gcc -DHAVE_CONFIG_H -I. -I.. -I..    -g -O2 -MT qagp.lo -MD -MP -MF .deps/qagp.Tpo -c -o qagp.lo qagp.c\r\n"
       ]
      },
      {
       "output_type": "stream",
       "stream": "stdout",
       "text": [
        "libtool: compile:  gcc -DHAVE_CONFIG_H -I. -I.. -I.. -g -O2 -MT qagp.lo -MD -MP -MF .deps/qagp.Tpo -c qagp.c  -fno-common -DPIC -o .libs/qagp.o\r\n"
       ]
      },
      {
       "output_type": "stream",
       "stream": "stdout",
       "text": [
        "libtool: compile:  gcc -DHAVE_CONFIG_H -I. -I.. -I.. -g -O2 -MT qagp.lo -MD -MP -MF .deps/qagp.Tpo -c qagp.c -o qagp.o >/dev/null 2>&1\r\n"
       ]
      },
      {
       "output_type": "stream",
       "stream": "stdout",
       "text": [
        "mv -f .deps/qagp.Tpo .deps/qagp.Plo\r\n",
        "/bin/sh ../libtool --tag=CC   --mode=compile gcc -DHAVE_CONFIG_H -I. -I.. -I..    -g -O2 -MT workspace.lo -MD -MP -MF .deps/workspace.Tpo -c -o workspace.lo workspace.c\r\n",
        "libtool: compile:  gcc -DHAVE_CONFIG_H -I. -I.. -I.. -g -O2 -MT workspace.lo -MD -MP -MF .deps/workspace.Tpo -c workspace.c  -fno-common -DPIC -o .libs/workspace.o\r\n"
       ]
      },
      {
       "output_type": "stream",
       "stream": "stdout",
       "text": [
        "libtool: compile:  gcc -DHAVE_CONFIG_H -I. -I.. -I.. -g -O2 -MT workspace.lo -MD -MP -MF .deps/workspace.Tpo -c workspace.c -o workspace.o >/dev/null 2>&1\r\n"
       ]
      },
      {
       "output_type": "stream",
       "stream": "stdout",
       "text": [
        "mv -f .deps/workspace.Tpo .deps/workspace.Plo\r\n",
        "/bin/sh ../libtool --tag=CC   --mode=compile gcc -DHAVE_CONFIG_H -I. -I.. -I..    -g -O2 -MT qcheb.lo -MD -MP -MF .deps/qcheb.Tpo -c -o qcheb.lo qcheb.c\r\n"
       ]
      },
      {
       "output_type": "stream",
       "stream": "stdout",
       "text": [
        "libtool: compile:  gcc -DHAVE_CONFIG_H -I. -I.. -I.. -g -O2 -MT qcheb.lo -MD -MP -MF .deps/qcheb.Tpo -c qcheb.c  -fno-common -DPIC -o .libs/qcheb.o\r\n"
       ]
      },
      {
       "output_type": "stream",
       "stream": "stdout",
       "text": [
        "libtool: compile:  gcc -DHAVE_CONFIG_H -I. -I.. -I.. -g -O2 -MT qcheb.lo -MD -MP -MF .deps/qcheb.Tpo -c qcheb.c -o qcheb.o >/dev/null 2>&1\r\n"
       ]
      },
      {
       "output_type": "stream",
       "stream": "stdout",
       "text": [
        "mv -f .deps/qcheb.Tpo .deps/qcheb.Plo\r\n",
        "/bin/sh ../libtool --tag=CC   --mode=compile gcc -DHAVE_CONFIG_H -I. -I.. -I..    -g -O2 -MT qawc.lo -MD -MP -MF .deps/qawc.Tpo -c -o qawc.lo qawc.c\r\n",
        "libtool: compile:  gcc -DHAVE_CONFIG_H -I. -I.. -I.. -g -O2 -MT qawc.lo -MD -MP -MF .deps/qawc.Tpo -c qawc.c  -fno-common -DPIC -o .libs/qawc.o\r\n"
       ]
      },
      {
       "output_type": "stream",
       "stream": "stdout",
       "text": [
        "libtool: compile:  gcc -DHAVE_CONFIG_H -I. -I.. -I.. -g -O2 -MT qawc.lo -MD -MP -MF .deps/qawc.Tpo -c qawc.c -o qawc.o >/dev/null 2>&1\r\n"
       ]
      },
      {
       "output_type": "stream",
       "stream": "stdout",
       "text": [
        "mv -f .deps/qawc.Tpo .deps/qawc.Plo\r\n",
        "/bin/sh ../libtool --tag=CC   --mode=compile gcc -DHAVE_CONFIG_H -I. -I.. -I..    -g -O2 -MT qmomo.lo -MD -MP -MF .deps/qmomo.Tpo -c -o qmomo.lo qmomo.c\r\n",
        "libtool: compile:  gcc -DHAVE_CONFIG_H -I. -I.. -I.. -g -O2 -MT qmomo.lo -MD -MP -MF .deps/qmomo.Tpo -c qmomo.c  -fno-common -DPIC -o .libs/qmomo.o\r\n"
       ]
      },
      {
       "output_type": "stream",
       "stream": "stdout",
       "text": [
        "libtool: compile:  gcc -DHAVE_CONFIG_H -I. -I.. -I.. -g -O2 -MT qmomo.lo -MD -MP -MF .deps/qmomo.Tpo -c qmomo.c -o qmomo.o >/dev/null 2>&1\r\n"
       ]
      },
      {
       "output_type": "stream",
       "stream": "stdout",
       "text": [
        "mv -f .deps/qmomo.Tpo .deps/qmomo.Plo\r\n",
        "/bin/sh ../libtool --tag=CC   --mode=compile gcc -DHAVE_CONFIG_H -I. -I.. -I..    -g -O2 -MT qaws.lo -MD -MP -MF .deps/qaws.Tpo -c -o qaws.lo qaws.c\r\n",
        "libtool: compile:  gcc -DHAVE_CONFIG_H -I. -I.. -I.. -g -O2 -MT qaws.lo -MD -MP -MF .deps/qaws.Tpo -c qaws.c  -fno-common -DPIC -o .libs/qaws.o\r\n"
       ]
      },
      {
       "output_type": "stream",
       "stream": "stdout",
       "text": [
        "libtool: compile:  gcc -DHAVE_CONFIG_H -I. -I.. -I.. -g -O2 -MT qaws.lo -MD -MP -MF .deps/qaws.Tpo -c qaws.c -o qaws.o >/dev/null 2>&1\r\n"
       ]
      },
      {
       "output_type": "stream",
       "stream": "stdout",
       "text": [
        "mv -f .deps/qaws.Tpo .deps/qaws.Plo\r\n",
        "/bin/sh ../libtool --tag=CC   --mode=compile gcc -DHAVE_CONFIG_H -I. -I.. -I..    -g -O2 -MT qmomof.lo -MD -MP -MF .deps/qmomof.Tpo -c -o qmomof.lo qmomof.c\r\n"
       ]
      },
      {
       "output_type": "stream",
       "stream": "stdout",
       "text": [
        "libtool: compile:  gcc -DHAVE_CONFIG_H -I. -I.. -I.. -g -O2 -MT qmomof.lo -MD -MP -MF .deps/qmomof.Tpo -c qmomof.c  -fno-common -DPIC -o .libs/qmomof.o\r\n"
       ]
      },
      {
       "output_type": "stream",
       "stream": "stdout",
       "text": [
        "libtool: compile:  gcc -DHAVE_CONFIG_H -I. -I.. -I.. -g -O2 -MT qmomof.lo -MD -MP -MF .deps/qmomof.Tpo -c qmomof.c -o qmomof.o >/dev/null 2>&1\r\n"
       ]
      },
      {
       "output_type": "stream",
       "stream": "stdout",
       "text": [
        "mv -f .deps/qmomof.Tpo .deps/qmomof.Plo\r\n",
        "/bin/sh ../libtool --tag=CC   --mode=compile gcc -DHAVE_CONFIG_H -I. -I.. -I..    -g -O2 -MT qawo.lo -MD -MP -MF .deps/qawo.Tpo -c -o qawo.lo qawo.c\r\n"
       ]
      },
      {
       "output_type": "stream",
       "stream": "stdout",
       "text": [
        "libtool: compile:  gcc -DHAVE_CONFIG_H -I. -I.. -I.. -g -O2 -MT qawo.lo -MD -MP -MF .deps/qawo.Tpo -c qawo.c  -fno-common -DPIC -o .libs/qawo.o\r\n"
       ]
      },
      {
       "output_type": "stream",
       "stream": "stdout",
       "text": [
        "libtool: compile:  gcc -DHAVE_CONFIG_H -I. -I.. -I.. -g -O2 -MT qawo.lo -MD -MP -MF .deps/qawo.Tpo -c qawo.c -o qawo.o >/dev/null 2>&1\r\n"
       ]
      },
      {
       "output_type": "stream",
       "stream": "stdout",
       "text": [
        "mv -f .deps/qawo.Tpo .deps/qawo.Plo\r\n",
        "/bin/sh ../libtool --tag=CC   --mode=compile gcc -DHAVE_CONFIG_H -I. -I.. -I..    -g -O2 -MT qawf.lo -MD -MP -MF .deps/qawf.Tpo -c -o qawf.lo qawf.c\r\n",
        "libtool: compile:  gcc -DHAVE_CONFIG_H -I. -I.. -I.. -g -O2 -MT qawf.lo -MD -MP -MF .deps/qawf.Tpo -c qawf.c  -fno-common -DPIC -o .libs/qawf.o\r\n"
       ]
      },
      {
       "output_type": "stream",
       "stream": "stdout",
       "text": [
        "libtool: compile:  gcc -DHAVE_CONFIG_H -I. -I.. -I.. -g -O2 -MT qawf.lo -MD -MP -MF .deps/qawf.Tpo -c qawf.c -o qawf.o >/dev/null 2>&1\r\n"
       ]
      },
      {
       "output_type": "stream",
       "stream": "stdout",
       "text": [
        "mv -f .deps/qawf.Tpo .deps/qawf.Plo\r\n",
        "/bin/sh ../libtool --tag=CC   --mode=compile gcc -DHAVE_CONFIG_H -I. -I.. -I..    -g -O2 -MT glfixed.lo -MD -MP -MF .deps/glfixed.Tpo -c -o glfixed.lo glfixed.c\r\n"
       ]
      },
      {
       "output_type": "stream",
       "stream": "stdout",
       "text": [
        "libtool: compile:  gcc -DHAVE_CONFIG_H -I. -I.. -I.. -g -O2 -MT glfixed.lo -MD -MP -MF .deps/glfixed.Tpo -c glfixed.c  -fno-common -DPIC -o .libs/glfixed.o\r\n"
       ]
      },
      {
       "output_type": "stream",
       "stream": "stdout",
       "text": [
        "libtool: compile:  gcc -DHAVE_CONFIG_H -I. -I.. -I.. -g -O2 -MT glfixed.lo -MD -MP -MF .deps/glfixed.Tpo -c glfixed.c -o glfixed.o >/dev/null 2>&1\r\n"
       ]
      },
      {
       "output_type": "stream",
       "stream": "stdout",
       "text": [
        "mv -f .deps/glfixed.Tpo .deps/glfixed.Plo\r\n",
        "/bin/sh ../libtool --tag=CC   --mode=compile gcc -DHAVE_CONFIG_H -I. -I.. -I..    -g -O2 -MT cquad.lo -MD -MP -MF .deps/cquad.Tpo -c -o cquad.lo cquad.c\r\n",
        "libtool: compile:  gcc -DHAVE_CONFIG_H -I. -I.. -I.. -g -O2 -MT cquad.lo -MD -MP -MF .deps/cquad.Tpo -c cquad.c  -fno-common -DPIC -o .libs/cquad.o\r\n"
       ]
      },
      {
       "output_type": "stream",
       "stream": "stdout",
       "text": [
        "\u001b[01m\u001b[Kcquad.c:\u001b[m\u001b[K In function '\u001b[01m\u001b[Kgsl_integration_cquad\u001b[m\u001b[K':\r\n",
        "\u001b[01m\u001b[Kcquad.c:238:7:\u001b[m\u001b[K \u001b[01;35m\u001b[Kwarning: \u001b[m\u001b[K'\u001b[01m\u001b[Kfinite\u001b[m\u001b[K' is deprecated [-Wdeprecated-declarations]\r\n",
        "       if (!finite (iv->fx[i]))\r\n",
        "\u001b[01;32m\u001b[K       ^\u001b[m\u001b[K\r\n",
        "In file included from \u001b[01m\u001b[Kcquad.c:22:0\u001b[m\u001b[K:\r\n",
        "\u001b[01m\u001b[K/usr/local/Cellar/gcc/5.1.0/lib/gcc/5/gcc/x86_64-apple-darwin14.3.0/5.1.0/include-fixed/math.h:733:12:\u001b[m\u001b[K \u001b[01;36m\u001b[Knote: \u001b[m\u001b[Kdeclared here\r\n",
        " extern int finite(double) __OSX_AVAILABLE_BUT_DEPRECATED(__MAC_10_0, __MAC_10_9, __IPHONE_NA, __IPHONE_NA);\r\n",
        "\u001b[01;32m\u001b[K            ^\u001b[m\u001b[K\r\n",
        "\u001b[01m\u001b[Kcquad.c:322:8:\u001b[m\u001b[K \u001b[01;35m\u001b[Kwarning: \u001b[m\u001b[K'\u001b[01m\u001b[Kfinite\u001b[m\u001b[K' is deprecated [-Wdeprecated-declarations]\r\n",
        "        if (!finite (iv->fx[i]))\r\n",
        "\u001b[01;32m\u001b[K        ^\u001b[m\u001b[K\r\n",
        "In file included from \u001b[01m\u001b[Kcquad.c:22:0\u001b[m\u001b[K:\r\n",
        "\u001b[01m\u001b[K/usr/local/Cellar/gcc/5.1.0/lib/gcc/5/gcc/x86_64-apple-darwin14.3.0/5.1.0/include-fixed/math.h:733:12:\u001b[m\u001b[K \u001b[01;36m\u001b[Knote: \u001b[m\u001b[Kdeclared here\r\n",
        " extern int finite(double) __OSX_AVAILABLE_BUT_DEPRECATED(__MAC_10_0, __MAC_10_9, __IPHONE_NA, __IPHONE_NA);\r\n",
        "\u001b[01;32m\u001b[K            ^\u001b[m\u001b[K\r\n",
        "\u001b[01m\u001b[Kcquad.c:447:8:\u001b[m\u001b[K \u001b[01;35m\u001b[Kwarning: \u001b[m\u001b[K'\u001b[01m\u001b[Kfinite\u001b[m\u001b[K' is deprecated [-Wdeprecated-declarations]\r\n",
        "        if (!finite (ivl->fx[i]))\r\n",
        "\u001b[01;32m\u001b[K        ^\u001b[m\u001b[K\r\n",
        "In file included from \u001b[01m\u001b[Kcquad.c:22:0\u001b[m\u001b[K:\r\n",
        "\u001b[01m\u001b[K/usr/local/Cellar/gcc/5.1.0/lib/gcc/5/gcc/x86_64-apple-darwin14.3.0/5.1.0/include-fixed/math.h:733:12:\u001b[m\u001b[K \u001b[01;36m\u001b[Knote: \u001b[m\u001b[Kdeclared here\r\n",
        " extern int finite(double) __OSX_AVAILABLE_BUT_DEPRECATED(__MAC_10_0, __MAC_10_9, __IPHONE_NA, __IPHONE_NA);\r\n",
        "\u001b[01;32m\u001b[K            ^\u001b[m\u001b[K\r\n",
        "\u001b[01m\u001b[Kcquad.c:513:8:\u001b[m\u001b[K \u001b[01;35m\u001b[Kwarning: \u001b[m\u001b[K'\u001b[01m\u001b[Kfinite\u001b[m\u001b[K' is deprecated [-Wdeprecated-declarations]\r\n",
        "        if (!finite (ivr->fx[i]))\r\n",
        "\u001b[01;32m\u001b[K        ^\u001b[m\u001b[K\r\n",
        "In file included from \u001b[01m\u001b[Kcquad.c:22:0\u001b[m\u001b[K:\r\n",
        "\u001b[01m\u001b[K/usr/local/Cellar/gcc/5.1.0/lib/gcc/5/gcc/x86_64-apple-darwin14.3.0/5.1.0/include-fixed/math.h:733:12:\u001b[m\u001b[K \u001b[01;36m\u001b[Knote: \u001b[m\u001b[Kdeclared here\r\n",
        " extern int finite(double) __OSX_AVAILABLE_BUT_DEPRECATED(__MAC_10_0, __MAC_10_9, __IPHONE_NA, __IPHONE_NA);\r\n",
        "\u001b[01;32m\u001b[K            ^\u001b[m\u001b[K\r\n"
       ]
      },
      {
       "output_type": "stream",
       "stream": "stdout",
       "text": [
        "libtool: compile:  gcc -DHAVE_CONFIG_H -I. -I.. -I.. -g -O2 -MT cquad.lo -MD -MP -MF .deps/cquad.Tpo -c cquad.c -o cquad.o >/dev/null 2>&1\r\n"
       ]
      },
      {
       "output_type": "stream",
       "stream": "stdout",
       "text": [
        "mv -f .deps/cquad.Tpo .deps/cquad.Plo\r\n",
        "/bin/sh ../libtool --tag=CC   --mode=link gcc  -g -O2   -o libgslintegration.la  qk15.lo qk21.lo qk31.lo qk41.lo qk51.lo qk61.lo qk.lo qng.lo qag.lo qags.lo qagp.lo workspace.lo qcheb.lo qawc.lo qmomo.lo qaws.lo qmomof.lo qawo.lo qawf.lo glfixed.lo cquad.lo  -lm \r\n"
       ]
      },
      {
       "output_type": "stream",
       "stream": "stdout",
       "text": [
        "libtool: link: ar cru .libs/libgslintegration.a .libs/qk15.o .libs/qk21.o .libs/qk31.o .libs/qk41.o .libs/qk51.o .libs/qk61.o .libs/qk.o .libs/qng.o .libs/qag.o .libs/qags.o .libs/qagp.o .libs/workspace.o .libs/qcheb.o .libs/qawc.o .libs/qmomo.o .libs/qaws.o .libs/qmomof.o .libs/qawo.o .libs/qawf.o .libs/glfixed.o .libs/cquad.o \r\n",
        "libtool: link: ranlib .libs/libgslintegration.a\r\n"
       ]
      },
      {
       "output_type": "stream",
       "stream": "stdout",
       "text": [
        "libtool: link: ( cd \".libs\" && rm -f \"libgslintegration.la\" && ln -s \"../libgslintegration.la\" \"libgslintegration.la\" )\r\n",
        "Making all in interpolation\r\n",
        "/bin/sh ../libtool --tag=CC   --mode=compile gcc -DHAVE_CONFIG_H -I. -I.. -I..    -g -O2 -MT accel.lo -MD -MP -MF .deps/accel.Tpo -c -o accel.lo accel.c\r\n"
       ]
      },
      {
       "output_type": "stream",
       "stream": "stdout",
       "text": [
        "libtool: compile:  gcc -DHAVE_CONFIG_H -I. -I.. -I.. -g -O2 -MT accel.lo -MD -MP -MF .deps/accel.Tpo -c accel.c  -fno-common -DPIC -o .libs/accel.o\r\n"
       ]
      },
      {
       "output_type": "stream",
       "stream": "stdout",
       "text": [
        "libtool: compile:  gcc -DHAVE_CONFIG_H -I. -I.. -I.. -g -O2 -MT accel.lo -MD -MP -MF .deps/accel.Tpo -c accel.c -o accel.o >/dev/null 2>&1\r\n"
       ]
      },
      {
       "output_type": "stream",
       "stream": "stdout",
       "text": [
        "mv -f .deps/accel.Tpo .deps/accel.Plo\r\n",
        "/bin/sh ../libtool --tag=CC   --mode=compile gcc -DHAVE_CONFIG_H -I. -I.. -I..    -g -O2 -MT akima.lo -MD -MP -MF .deps/akima.Tpo -c -o akima.lo akima.c\r\n",
        "libtool: compile:  gcc -DHAVE_CONFIG_H -I. -I.. -I.. -g -O2 -MT akima.lo -MD -MP -MF .deps/akima.Tpo -c akima.c  -fno-common -DPIC -o .libs/akima.o\r\n"
       ]
      },
      {
       "output_type": "stream",
       "stream": "stdout",
       "text": [
        "libtool: compile:  gcc -DHAVE_CONFIG_H -I. -I.. -I.. -g -O2 -MT akima.lo -MD -MP -MF .deps/akima.Tpo -c akima.c -o akima.o >/dev/null 2>&1\r\n"
       ]
      },
      {
       "output_type": "stream",
       "stream": "stdout",
       "text": [
        "mv -f .deps/akima.Tpo .deps/akima.Plo\r\n",
        "/bin/sh ../libtool --tag=CC   --mode=compile gcc -DHAVE_CONFIG_H -I. -I.. -I..    -g -O2 -MT cspline.lo -MD -MP -MF .deps/cspline.Tpo -c -o cspline.lo cspline.c\r\n"
       ]
      },
      {
       "output_type": "stream",
       "stream": "stdout",
       "text": [
        "libtool: compile:  gcc -DHAVE_CONFIG_H -I. -I.. -I.. -g -O2 -MT cspline.lo -MD -MP -MF .deps/cspline.Tpo -c cspline.c  -fno-common -DPIC -o .libs/cspline.o\r\n"
       ]
      },
      {
       "output_type": "stream",
       "stream": "stdout",
       "text": [
        "libtool: compile:  gcc -DHAVE_CONFIG_H -I. -I.. -I.. -g -O2 -MT cspline.lo -MD -MP -MF .deps/cspline.Tpo -c cspline.c -o cspline.o >/dev/null 2>&1\r\n"
       ]
      },
      {
       "output_type": "stream",
       "stream": "stdout",
       "text": [
        "mv -f .deps/cspline.Tpo .deps/cspline.Plo\r\n",
        "/bin/sh ../libtool --tag=CC   --mode=compile gcc -DHAVE_CONFIG_H -I. -I.. -I..    -g -O2 -MT interp.lo -MD -MP -MF .deps/interp.Tpo -c -o interp.lo interp.c\r\n",
        "libtool: compile:  gcc -DHAVE_CONFIG_H -I. -I.. -I.. -g -O2 -MT interp.lo -MD -MP -MF .deps/interp.Tpo -c interp.c  -fno-common -DPIC -o .libs/interp.o\r\n"
       ]
      },
      {
       "output_type": "stream",
       "stream": "stdout",
       "text": [
        "libtool: compile:  gcc -DHAVE_CONFIG_H -I. -I.. -I.. -g -O2 -MT interp.lo -MD -MP -MF .deps/interp.Tpo -c interp.c -o interp.o >/dev/null 2>&1\r\n"
       ]
      },
      {
       "output_type": "stream",
       "stream": "stdout",
       "text": [
        "mv -f .deps/interp.Tpo .deps/interp.Plo\r\n",
        "/bin/sh ../libtool --tag=CC   --mode=compile gcc -DHAVE_CONFIG_H -I. -I.. -I..    -g -O2 -MT linear.lo -MD -MP -MF .deps/linear.Tpo -c -o linear.lo linear.c\r\n"
       ]
      },
      {
       "output_type": "stream",
       "stream": "stdout",
       "text": [
        "libtool: compile:  gcc -DHAVE_CONFIG_H -I. -I.. -I.. -g -O2 -MT linear.lo -MD -MP -MF .deps/linear.Tpo -c linear.c  -fno-common -DPIC -o .libs/linear.o\r\n"
       ]
      },
      {
       "output_type": "stream",
       "stream": "stdout",
       "text": [
        "libtool: compile:  gcc -DHAVE_CONFIG_H -I. -I.. -I.. -g -O2 -MT linear.lo -MD -MP -MF .deps/linear.Tpo -c linear.c -o linear.o >/dev/null 2>&1\r\n"
       ]
      },
      {
       "output_type": "stream",
       "stream": "stdout",
       "text": [
        "mv -f .deps/linear.Tpo .deps/linear.Plo\r\n",
        "/bin/sh ../libtool --tag=CC   --mode=compile gcc -DHAVE_CONFIG_H -I. -I.. -I..    -g -O2 -MT spline.lo -MD -MP -MF .deps/spline.Tpo -c -o spline.lo spline.c\r\n",
        "libtool: compile:  gcc -DHAVE_CONFIG_H -I. -I.. -I.. -g -O2 -MT spline.lo -MD -MP -MF .deps/spline.Tpo -c spline.c  -fno-common -DPIC -o .libs/spline.o\r\n"
       ]
      },
      {
       "output_type": "stream",
       "stream": "stdout",
       "text": [
        "libtool: compile:  gcc -DHAVE_CONFIG_H -I. -I.. -I.. -g -O2 -MT spline.lo -MD -MP -MF .deps/spline.Tpo -c spline.c -o spline.o >/dev/null 2>&1\r\n"
       ]
      },
      {
       "output_type": "stream",
       "stream": "stdout",
       "text": [
        "mv -f .deps/spline.Tpo .deps/spline.Plo\r\n",
        "/bin/sh ../libtool --tag=CC   --mode=compile gcc -DHAVE_CONFIG_H -I. -I.. -I..    -g -O2 -MT poly.lo -MD -MP -MF .deps/poly.Tpo -c -o poly.lo poly.c\r\n",
        "libtool: compile:  gcc -DHAVE_CONFIG_H -I. -I.. -I.. -g -O2 -MT poly.lo -MD -MP -MF .deps/poly.Tpo -c poly.c  -fno-common -DPIC -o .libs/poly.o\r\n"
       ]
      },
      {
       "output_type": "stream",
       "stream": "stdout",
       "text": [
        "libtool: compile:  gcc -DHAVE_CONFIG_H -I. -I.. -I.. -g -O2 -MT poly.lo -MD -MP -MF .deps/poly.Tpo -c poly.c -o poly.o >/dev/null 2>&1\r\n"
       ]
      },
      {
       "output_type": "stream",
       "stream": "stdout",
       "text": [
        "mv -f .deps/poly.Tpo .deps/poly.Plo\r\n",
        "/bin/sh ../libtool --tag=CC   --mode=compile gcc -DHAVE_CONFIG_H -I. -I.. -I..    -g -O2 -MT inline.lo -MD -MP -MF .deps/inline.Tpo -c -o inline.lo inline.c\r\n"
       ]
      },
      {
       "output_type": "stream",
       "stream": "stdout",
       "text": [
        "libtool: compile:  gcc -DHAVE_CONFIG_H -I. -I.. -I.. -g -O2 -MT inline.lo -MD -MP -MF .deps/inline.Tpo -c inline.c  -fno-common -DPIC -o .libs/inline.o\r\n"
       ]
      },
      {
       "output_type": "stream",
       "stream": "stdout",
       "text": [
        "libtool: compile:  gcc -DHAVE_CONFIG_H -I. -I.. -I.. -g -O2 -MT inline.lo -MD -MP -MF .deps/inline.Tpo -c inline.c -o inline.o >/dev/null 2>&1\r\n"
       ]
      },
      {
       "output_type": "stream",
       "stream": "stdout",
       "text": [
        "mv -f .deps/inline.Tpo .deps/inline.Plo\r\n",
        "/bin/sh ../libtool --tag=CC   --mode=link gcc  -g -O2   -o libgslinterpolation.la  accel.lo akima.lo cspline.lo interp.lo linear.lo spline.lo poly.lo inline.lo  -lm \r\n"
       ]
      },
      {
       "output_type": "stream",
       "stream": "stdout",
       "text": [
        "libtool: link: ar cru .libs/libgslinterpolation.a .libs/accel.o .libs/akima.o .libs/cspline.o .libs/interp.o .libs/linear.o .libs/spline.o .libs/poly.o .libs/inline.o \r\n",
        "libtool: link: ranlib .libs/libgslinterpolation.a\r\n"
       ]
      },
      {
       "output_type": "stream",
       "stream": "stdout",
       "text": [
        "libtool: link: ( cd \".libs\" && rm -f \"libgslinterpolation.la\" && ln -s \"../libgslinterpolation.la\" \"libgslinterpolation.la\" )\r\n",
        "Making all in histogram\r\n"
       ]
      },
      {
       "output_type": "stream",
       "stream": "stdout",
       "text": [
        "/bin/sh ../libtool --tag=CC   --mode=compile gcc -DHAVE_CONFIG_H -I. -I.. -I..    -g -O2 -MT add.lo -MD -MP -MF .deps/add.Tpo -c -o add.lo add.c\r\n",
        "libtool: compile:  gcc -DHAVE_CONFIG_H -I. -I.. -I.. -g -O2 -MT add.lo -MD -MP -MF .deps/add.Tpo -c add.c  -fno-common -DPIC -o .libs/add.o\r\n"
       ]
      },
      {
       "output_type": "stream",
       "stream": "stdout",
       "text": [
        "libtool: compile:  gcc -DHAVE_CONFIG_H -I. -I.. -I.. -g -O2 -MT add.lo -MD -MP -MF .deps/add.Tpo -c add.c -o add.o >/dev/null 2>&1\r\n"
       ]
      },
      {
       "output_type": "stream",
       "stream": "stdout",
       "text": [
        "mv -f .deps/add.Tpo .deps/add.Plo\r\n",
        "/bin/sh ../libtool --tag=CC   --mode=compile gcc -DHAVE_CONFIG_H -I. -I.. -I..    -g -O2 -MT get.lo -MD -MP -MF .deps/get.Tpo -c -o get.lo get.c\r\n"
       ]
      },
      {
       "output_type": "stream",
       "stream": "stdout",
       "text": [
        "libtool: compile:  gcc -DHAVE_CONFIG_H -I. -I.. -I.. -g -O2 -MT get.lo -MD -MP -MF .deps/get.Tpo -c get.c  -fno-common -DPIC -o .libs/get.o\r\n"
       ]
      },
      {
       "output_type": "stream",
       "stream": "stdout",
       "text": [
        "libtool: compile:  gcc -DHAVE_CONFIG_H -I. -I.. -I.. -g -O2 -MT get.lo -MD -MP -MF .deps/get.Tpo -c get.c -o get.o >/dev/null 2>&1\r\n"
       ]
      },
      {
       "output_type": "stream",
       "stream": "stdout",
       "text": [
        "mv -f .deps/get.Tpo .deps/get.Plo\r\n",
        "/bin/sh ../libtool --tag=CC   --mode=compile gcc -DHAVE_CONFIG_H -I. -I.. -I..    -g -O2 -MT init.lo -MD -MP -MF .deps/init.Tpo -c -o init.lo init.c\r\n"
       ]
      },
      {
       "output_type": "stream",
       "stream": "stdout",
       "text": [
        "libtool: compile:  gcc -DHAVE_CONFIG_H -I. -I.. -I.. -g -O2 -MT init.lo -MD -MP -MF .deps/init.Tpo -c init.c  -fno-common -DPIC -o .libs/init.o\r\n"
       ]
      },
      {
       "output_type": "stream",
       "stream": "stdout",
       "text": [
        "libtool: compile:  gcc -DHAVE_CONFIG_H -I. -I.. -I.. -g -O2 -MT init.lo -MD -MP -MF .deps/init.Tpo -c init.c -o init.o >/dev/null 2>&1\r\n"
       ]
      },
      {
       "output_type": "stream",
       "stream": "stdout",
       "text": [
        "mv -f .deps/init.Tpo .deps/init.Plo\r\n",
        "/bin/sh ../libtool --tag=CC   --mode=compile gcc -DHAVE_CONFIG_H -I. -I.. -I..    -g -O2 -MT params.lo -MD -MP -MF .deps/params.Tpo -c -o params.lo params.c\r\n",
        "libtool: compile:  gcc -DHAVE_CONFIG_H -I. -I.. -I.. -g -O2 -MT params.lo -MD -MP -MF .deps/params.Tpo -c params.c  -fno-common -DPIC -o .libs/params.o\r\n"
       ]
      },
      {
       "output_type": "stream",
       "stream": "stdout",
       "text": [
        "libtool: compile:  gcc -DHAVE_CONFIG_H -I. -I.. -I.. -g -O2 -MT params.lo -MD -MP -MF .deps/params.Tpo -c params.c -o params.o >/dev/null 2>&1\r\n"
       ]
      },
      {
       "output_type": "stream",
       "stream": "stdout",
       "text": [
        "mv -f .deps/params.Tpo .deps/params.Plo\r\n",
        "/bin/sh ../libtool --tag=CC   --mode=compile gcc -DHAVE_CONFIG_H -I. -I.. -I..    -g -O2 -MT reset.lo -MD -MP -MF .deps/reset.Tpo -c -o reset.lo reset.c\r\n",
        "libtool: compile:  gcc -DHAVE_CONFIG_H -I. -I.. -I.. -g -O2 -MT reset.lo -MD -MP -MF .deps/reset.Tpo -c reset.c  -fno-common -DPIC -o .libs/reset.o\r\n"
       ]
      },
      {
       "output_type": "stream",
       "stream": "stdout",
       "text": [
        "libtool: compile:  gcc -DHAVE_CONFIG_H -I. -I.. -I.. -g -O2 -MT reset.lo -MD -MP -MF .deps/reset.Tpo -c reset.c -o reset.o >/dev/null 2>&1\r\n"
       ]
      },
      {
       "output_type": "stream",
       "stream": "stdout",
       "text": [
        "mv -f .deps/reset.Tpo .deps/reset.Plo\r\n",
        "/bin/sh ../libtool --tag=CC   --mode=compile gcc -DHAVE_CONFIG_H -I. -I.. -I..    -g -O2 -MT file.lo -MD -MP -MF .deps/file.Tpo -c -o file.lo file.c\r\n"
       ]
      },
      {
       "output_type": "stream",
       "stream": "stdout",
       "text": [
        "libtool: compile:  gcc -DHAVE_CONFIG_H -I. -I.. -I.. -g -O2 -MT file.lo -MD -MP -MF .deps/file.Tpo -c file.c  -fno-common -DPIC -o .libs/file.o\r\n"
       ]
      },
      {
       "output_type": "stream",
       "stream": "stdout",
       "text": [
        "libtool: compile:  gcc -DHAVE_CONFIG_H -I. -I.. -I.. -g -O2 -MT file.lo -MD -MP -MF .deps/file.Tpo -c file.c -o file.o >/dev/null 2>&1\r\n"
       ]
      },
      {
       "output_type": "stream",
       "stream": "stdout",
       "text": [
        "mv -f .deps/file.Tpo .deps/file.Plo\r\n",
        "/bin/sh ../libtool --tag=CC   --mode=compile gcc -DHAVE_CONFIG_H -I. -I.. -I..    -g -O2 -MT pdf.lo -MD -MP -MF .deps/pdf.Tpo -c -o pdf.lo pdf.c\r\n"
       ]
      },
      {
       "output_type": "stream",
       "stream": "stdout",
       "text": [
        "libtool: compile:  gcc -DHAVE_CONFIG_H -I. -I.. -I.. -g -O2 -MT pdf.lo -MD -MP -MF .deps/pdf.Tpo -c pdf.c  -fno-common -DPIC -o .libs/pdf.o\r\n"
       ]
      },
      {
       "output_type": "stream",
       "stream": "stdout",
       "text": [
        "libtool: compile:  gcc -DHAVE_CONFIG_H -I. -I.. -I.. -g -O2 -MT pdf.lo -MD -MP -MF .deps/pdf.Tpo -c pdf.c -o pdf.o >/dev/null 2>&1\r\n"
       ]
      },
      {
       "output_type": "stream",
       "stream": "stdout",
       "text": [
        "mv -f .deps/pdf.Tpo .deps/pdf.Plo\r\n",
        "/bin/sh ../libtool --tag=CC   --mode=compile gcc -DHAVE_CONFIG_H -I. -I.. -I..    -g -O2 -MT add2d.lo -MD -MP -MF .deps/add2d.Tpo -c -o add2d.lo add2d.c\r\n"
       ]
      },
      {
       "output_type": "stream",
       "stream": "stdout",
       "text": [
        "libtool: compile:  gcc -DHAVE_CONFIG_H -I. -I.. -I.. -g -O2 -MT add2d.lo -MD -MP -MF .deps/add2d.Tpo -c add2d.c  -fno-common -DPIC -o .libs/add2d.o\r\n"
       ]
      },
      {
       "output_type": "stream",
       "stream": "stdout",
       "text": [
        "libtool: compile:  gcc -DHAVE_CONFIG_H -I. -I.. -I.. -g -O2 -MT add2d.lo -MD -MP -MF .deps/add2d.Tpo -c add2d.c -o add2d.o >/dev/null 2>&1\r\n"
       ]
      },
      {
       "output_type": "stream",
       "stream": "stdout",
       "text": [
        "mv -f .deps/add2d.Tpo .deps/add2d.Plo\r\n",
        "/bin/sh ../libtool --tag=CC   --mode=compile gcc -DHAVE_CONFIG_H -I. -I.. -I..    -g -O2 -MT get2d.lo -MD -MP -MF .deps/get2d.Tpo -c -o get2d.lo get2d.c\r\n",
        "libtool: compile:  gcc -DHAVE_CONFIG_H -I. -I.. -I.. -g -O2 -MT get2d.lo -MD -MP -MF .deps/get2d.Tpo -c get2d.c  -fno-common -DPIC -o .libs/get2d.o\r\n"
       ]
      },
      {
       "output_type": "stream",
       "stream": "stdout",
       "text": [
        "libtool: compile:  gcc -DHAVE_CONFIG_H -I. -I.. -I.. -g -O2 -MT get2d.lo -MD -MP -MF .deps/get2d.Tpo -c get2d.c -o get2d.o >/dev/null 2>&1\r\n"
       ]
      },
      {
       "output_type": "stream",
       "stream": "stdout",
       "text": [
        "mv -f .deps/get2d.Tpo .deps/get2d.Plo\r\n",
        "/bin/sh ../libtool --tag=CC   --mode=compile gcc -DHAVE_CONFIG_H -I. -I.. -I..    -g -O2 -MT init2d.lo -MD -MP -MF .deps/init2d.Tpo -c -o init2d.lo init2d.c\r\n",
        "libtool: compile:  gcc -DHAVE_CONFIG_H -I. -I.. -I.. -g -O2 -MT init2d.lo -MD -MP -MF .deps/init2d.Tpo -c init2d.c  -fno-common -DPIC -o .libs/init2d.o\r\n"
       ]
      },
      {
       "output_type": "stream",
       "stream": "stdout",
       "text": [
        "libtool: compile:  gcc -DHAVE_CONFIG_H -I. -I.. -I.. -g -O2 -MT init2d.lo -MD -MP -MF .deps/init2d.Tpo -c init2d.c -o init2d.o >/dev/null 2>&1\r\n"
       ]
      },
      {
       "output_type": "stream",
       "stream": "stdout",
       "text": [
        "mv -f .deps/init2d.Tpo .deps/init2d.Plo\r\n",
        "/bin/sh ../libtool --tag=CC   --mode=compile gcc -DHAVE_CONFIG_H -I. -I.. -I..    -g -O2 -MT params2d.lo -MD -MP -MF .deps/params2d.Tpo -c -o params2d.lo params2d.c\r\n"
       ]
      },
      {
       "output_type": "stream",
       "stream": "stdout",
       "text": [
        "libtool: compile:  gcc -DHAVE_CONFIG_H -I. -I.. -I.. -g -O2 -MT params2d.lo -MD -MP -MF .deps/params2d.Tpo -c params2d.c  -fno-common -DPIC -o .libs/params2d.o\r\n"
       ]
      },
      {
       "output_type": "stream",
       "stream": "stdout",
       "text": [
        "libtool: compile:  gcc -DHAVE_CONFIG_H -I. -I.. -I.. -g -O2 -MT params2d.lo -MD -MP -MF .deps/params2d.Tpo -c params2d.c -o params2d.o >/dev/null 2>&1\r\n"
       ]
      },
      {
       "output_type": "stream",
       "stream": "stdout",
       "text": [
        "mv -f .deps/params2d.Tpo .deps/params2d.Plo\r\n",
        "/bin/sh ../libtool --tag=CC   --mode=compile gcc -DHAVE_CONFIG_H -I. -I.. -I..    -g -O2 -MT reset2d.lo -MD -MP -MF .deps/reset2d.Tpo -c -o reset2d.lo reset2d.c\r\n"
       ]
      },
      {
       "output_type": "stream",
       "stream": "stdout",
       "text": [
        "libtool: compile:  gcc -DHAVE_CONFIG_H -I. -I.. -I.. -g -O2 -MT reset2d.lo -MD -MP -MF .deps/reset2d.Tpo -c reset2d.c  -fno-common -DPIC -o .libs/reset2d.o\r\n"
       ]
      },
      {
       "output_type": "stream",
       "stream": "stdout",
       "text": [
        "libtool: compile:  gcc -DHAVE_CONFIG_H -I. -I.. -I.. -g -O2 -MT reset2d.lo -MD -MP -MF .deps/reset2d.Tpo -c reset2d.c -o reset2d.o >/dev/null 2>&1\r\n"
       ]
      },
      {
       "output_type": "stream",
       "stream": "stdout",
       "text": [
        "mv -f .deps/reset2d.Tpo .deps/reset2d.Plo\r\n",
        "/bin/sh ../libtool --tag=CC   --mode=compile gcc -DHAVE_CONFIG_H -I. -I.. -I..    -g -O2 -MT file2d.lo -MD -MP -MF .deps/file2d.Tpo -c -o file2d.lo file2d.c\r\n",
        "libtool: compile:  gcc -DHAVE_CONFIG_H -I. -I.. -I.. -g -O2 -MT file2d.lo -MD -MP -MF .deps/file2d.Tpo -c file2d.c  -fno-common -DPIC -o .libs/file2d.o\r\n"
       ]
      },
      {
       "output_type": "stream",
       "stream": "stdout",
       "text": [
        "libtool: compile:  gcc -DHAVE_CONFIG_H -I. -I.. -I.. -g -O2 -MT file2d.lo -MD -MP -MF .deps/file2d.Tpo -c file2d.c -o file2d.o >/dev/null 2>&1\r\n"
       ]
      },
      {
       "output_type": "stream",
       "stream": "stdout",
       "text": [
        "mv -f .deps/file2d.Tpo .deps/file2d.Plo\r\n",
        "/bin/sh ../libtool --tag=CC   --mode=compile gcc -DHAVE_CONFIG_H -I. -I.. -I..    -g -O2 -MT pdf2d.lo -MD -MP -MF .deps/pdf2d.Tpo -c -o pdf2d.lo pdf2d.c\r\n",
        "libtool: compile:  gcc -DHAVE_CONFIG_H -I. -I.. -I.. -g -O2 -MT pdf2d.lo -MD -MP -MF .deps/pdf2d.Tpo -c pdf2d.c  -fno-common -DPIC -o .libs/pdf2d.o\r\n"
       ]
      },
      {
       "output_type": "stream",
       "stream": "stdout",
       "text": [
        "libtool: compile:  gcc -DHAVE_CONFIG_H -I. -I.. -I.. -g -O2 -MT pdf2d.lo -MD -MP -MF .deps/pdf2d.Tpo -c pdf2d.c -o pdf2d.o >/dev/null 2>&1\r\n"
       ]
      },
      {
       "output_type": "stream",
       "stream": "stdout",
       "text": [
        "mv -f .deps/pdf2d.Tpo .deps/pdf2d.Plo\r\n",
        "/bin/sh ../libtool --tag=CC   --mode=compile gcc -DHAVE_CONFIG_H -I. -I.. -I..    -g -O2 -MT calloc_range.lo -MD -MP -MF .deps/calloc_range.Tpo -c -o calloc_range.lo calloc_range.c\r\n",
        "libtool: compile:  gcc -DHAVE_CONFIG_H -I. -I.. -I.. -g -O2 -MT calloc_range.lo -MD -MP -MF .deps/calloc_range.Tpo -c calloc_range.c  -fno-common -DPIC -o .libs/calloc_range.o\r\n"
       ]
      },
      {
       "output_type": "stream",
       "stream": "stdout",
       "text": [
        "libtool: compile:  gcc -DHAVE_CONFIG_H -I. -I.. -I.. -g -O2 -MT calloc_range.lo -MD -MP -MF .deps/calloc_range.Tpo -c calloc_range.c -o calloc_range.o >/dev/null 2>&1\r\n"
       ]
      },
      {
       "output_type": "stream",
       "stream": "stdout",
       "text": [
        "mv -f .deps/calloc_range.Tpo .deps/calloc_range.Plo\r\n",
        "/bin/sh ../libtool --tag=CC   --mode=compile gcc -DHAVE_CONFIG_H -I. -I.. -I..    -g -O2 -MT calloc_range2d.lo -MD -MP -MF .deps/calloc_range2d.Tpo -c -o calloc_range2d.lo calloc_range2d.c\r\n",
        "libtool: compile:  gcc -DHAVE_CONFIG_H -I. -I.. -I.. -g -O2 -MT calloc_range2d.lo -MD -MP -MF .deps/calloc_range2d.Tpo -c calloc_range2d.c  -fno-common -DPIC -o .libs/calloc_range2d.o\r\n"
       ]
      },
      {
       "output_type": "stream",
       "stream": "stdout",
       "text": [
        "libtool: compile:  gcc -DHAVE_CONFIG_H -I. -I.. -I.. -g -O2 -MT calloc_range2d.lo -MD -MP -MF .deps/calloc_range2d.Tpo -c calloc_range2d.c -o calloc_range2d.o >/dev/null 2>&1\r\n"
       ]
      },
      {
       "output_type": "stream",
       "stream": "stdout",
       "text": [
        "mv -f .deps/calloc_range2d.Tpo .deps/calloc_range2d.Plo\r\n",
        "/bin/sh ../libtool --tag=CC   --mode=compile gcc -DHAVE_CONFIG_H -I. -I.. -I..    -g -O2 -MT copy.lo -MD -MP -MF .deps/copy.Tpo -c -o copy.lo copy.c\r\n"
       ]
      },
      {
       "output_type": "stream",
       "stream": "stdout",
       "text": [
        "libtool: compile:  gcc -DHAVE_CONFIG_H -I. -I.. -I.. -g -O2 -MT copy.lo -MD -MP -MF .deps/copy.Tpo -c copy.c  -fno-common -DPIC -o .libs/copy.o\r\n"
       ]
      },
      {
       "output_type": "stream",
       "stream": "stdout",
       "text": [
        "libtool: compile:  gcc -DHAVE_CONFIG_H -I. -I.. -I.. -g -O2 -MT copy.lo -MD -MP -MF .deps/copy.Tpo -c copy.c -o copy.o >/dev/null 2>&1\r\n"
       ]
      },
      {
       "output_type": "stream",
       "stream": "stdout",
       "text": [
        "mv -f .deps/copy.Tpo .deps/copy.Plo\r\n",
        "/bin/sh ../libtool --tag=CC   --mode=compile gcc -DHAVE_CONFIG_H -I. -I.. -I..    -g -O2 -MT copy2d.lo -MD -MP -MF .deps/copy2d.Tpo -c -o copy2d.lo copy2d.c\r\n",
        "libtool: compile:  gcc -DHAVE_CONFIG_H -I. -I.. -I.. -g -O2 -MT copy2d.lo -MD -MP -MF .deps/copy2d.Tpo -c copy2d.c  -fno-common -DPIC -o .libs/copy2d.o\r\n"
       ]
      },
      {
       "output_type": "stream",
       "stream": "stdout",
       "text": [
        "libtool: compile:  gcc -DHAVE_CONFIG_H -I. -I.. -I.. -g -O2 -MT copy2d.lo -MD -MP -MF .deps/copy2d.Tpo -c copy2d.c -o copy2d.o >/dev/null 2>&1\r\n"
       ]
      },
      {
       "output_type": "stream",
       "stream": "stdout",
       "text": [
        "mv -f .deps/copy2d.Tpo .deps/copy2d.Plo\r\n",
        "/bin/sh ../libtool --tag=CC   --mode=compile gcc -DHAVE_CONFIG_H -I. -I.. -I..    -g -O2 -MT maxval.lo -MD -MP -MF .deps/maxval.Tpo -c -o maxval.lo maxval.c\r\n"
       ]
      },
      {
       "output_type": "stream",
       "stream": "stdout",
       "text": [
        "libtool: compile:  gcc -DHAVE_CONFIG_H -I. -I.. -I.. -g -O2 -MT maxval.lo -MD -MP -MF .deps/maxval.Tpo -c maxval.c  -fno-common -DPIC -o .libs/maxval.o\r\n"
       ]
      },
      {
       "output_type": "stream",
       "stream": "stdout",
       "text": [
        "libtool: compile:  gcc -DHAVE_CONFIG_H -I. -I.. -I.. -g -O2 -MT maxval.lo -MD -MP -MF .deps/maxval.Tpo -c maxval.c -o maxval.o >/dev/null 2>&1\r\n"
       ]
      },
      {
       "output_type": "stream",
       "stream": "stdout",
       "text": [
        "mv -f .deps/maxval.Tpo .deps/maxval.Plo\r\n",
        "/bin/sh ../libtool --tag=CC   --mode=compile gcc -DHAVE_CONFIG_H -I. -I.. -I..    -g -O2 -MT maxval2d.lo -MD -MP -MF .deps/maxval2d.Tpo -c -o maxval2d.lo maxval2d.c\r\n",
        "libtool: compile:  gcc -DHAVE_CONFIG_H -I. -I.. -I.. -g -O2 -MT maxval2d.lo -MD -MP -MF .deps/maxval2d.Tpo -c maxval2d.c  -fno-common -DPIC -o .libs/maxval2d.o\r\n"
       ]
      },
      {
       "output_type": "stream",
       "stream": "stdout",
       "text": [
        "libtool: compile:  gcc -DHAVE_CONFIG_H -I. -I.. -I.. -g -O2 -MT maxval2d.lo -MD -MP -MF .deps/maxval2d.Tpo -c maxval2d.c -o maxval2d.o >/dev/null 2>&1\r\n"
       ]
      },
      {
       "output_type": "stream",
       "stream": "stdout",
       "text": [
        "mv -f .deps/maxval2d.Tpo .deps/maxval2d.Plo\r\n",
        "/bin/sh ../libtool --tag=CC   --mode=compile gcc -DHAVE_CONFIG_H -I. -I.. -I..    -g -O2 -MT oper.lo -MD -MP -MF .deps/oper.Tpo -c -o oper.lo oper.c\r\n"
       ]
      },
      {
       "output_type": "stream",
       "stream": "stdout",
       "text": [
        "libtool: compile:  gcc -DHAVE_CONFIG_H -I. -I.. -I.. -g -O2 -MT oper.lo -MD -MP -MF .deps/oper.Tpo -c oper.c  -fno-common -DPIC -o .libs/oper.o\r\n"
       ]
      },
      {
       "output_type": "stream",
       "stream": "stdout",
       "text": [
        "libtool: compile:  gcc -DHAVE_CONFIG_H -I. -I.. -I.. -g -O2 -MT oper.lo -MD -MP -MF .deps/oper.Tpo -c oper.c -o oper.o >/dev/null 2>&1\r\n"
       ]
      },
      {
       "output_type": "stream",
       "stream": "stdout",
       "text": [
        "mv -f .deps/oper.Tpo .deps/oper.Plo\r\n",
        "/bin/sh ../libtool --tag=CC   --mode=compile gcc -DHAVE_CONFIG_H -I. -I.. -I..    -g -O2 -MT oper2d.lo -MD -MP -MF .deps/oper2d.Tpo -c -o oper2d.lo oper2d.c\r\n",
        "libtool: compile:  gcc -DHAVE_CONFIG_H -I. -I.. -I.. -g -O2 -MT oper2d.lo -MD -MP -MF .deps/oper2d.Tpo -c oper2d.c  -fno-common -DPIC -o .libs/oper2d.o\r\n"
       ]
      },
      {
       "output_type": "stream",
       "stream": "stdout",
       "text": [
        "libtool: compile:  gcc -DHAVE_CONFIG_H -I. -I.. -I.. -g -O2 -MT oper2d.lo -MD -MP -MF .deps/oper2d.Tpo -c oper2d.c -o oper2d.o >/dev/null 2>&1\r\n"
       ]
      },
      {
       "output_type": "stream",
       "stream": "stdout",
       "text": [
        "mv -f .deps/oper2d.Tpo .deps/oper2d.Plo\r\n",
        "/bin/sh ../libtool --tag=CC   --mode=compile gcc -DHAVE_CONFIG_H -I. -I.. -I..    -g -O2 -MT stat.lo -MD -MP -MF .deps/stat.Tpo -c -o stat.lo stat.c\r\n",
        "libtool: compile:  gcc -DHAVE_CONFIG_H -I. -I.. -I.. -g -O2 -MT stat.lo -MD -MP -MF .deps/stat.Tpo -c stat.c  -fno-common -DPIC -o .libs/stat.o\r\n"
       ]
      },
      {
       "output_type": "stream",
       "stream": "stdout",
       "text": [
        "libtool: compile:  gcc -DHAVE_CONFIG_H -I. -I.. -I.. -g -O2 -MT stat.lo -MD -MP -MF .deps/stat.Tpo -c stat.c -o stat.o >/dev/null 2>&1\r\n"
       ]
      },
      {
       "output_type": "stream",
       "stream": "stdout",
       "text": [
        "mv -f .deps/stat.Tpo .deps/stat.Plo\r\n",
        "/bin/sh ../libtool --tag=CC   --mode=compile gcc -DHAVE_CONFIG_H -I. -I.. -I..    -g -O2 -MT stat2d.lo -MD -MP -MF .deps/stat2d.Tpo -c -o stat2d.lo stat2d.c\r\n",
        "libtool: compile:  gcc -DHAVE_CONFIG_H -I. -I.. -I.. -g -O2 -MT stat2d.lo -MD -MP -MF .deps/stat2d.Tpo -c stat2d.c  -fno-common -DPIC -o .libs/stat2d.o\r\n"
       ]
      },
      {
       "output_type": "stream",
       "stream": "stdout",
       "text": [
        "libtool: compile:  gcc -DHAVE_CONFIG_H -I. -I.. -I.. -g -O2 -MT stat2d.lo -MD -MP -MF .deps/stat2d.Tpo -c stat2d.c -o stat2d.o >/dev/null 2>&1\r\n"
       ]
      },
      {
       "output_type": "stream",
       "stream": "stdout",
       "text": [
        "mv -f .deps/stat2d.Tpo .deps/stat2d.Plo\r\n",
        "/bin/sh ../libtool --tag=CC   --mode=link gcc  -g -O2   -o libgslhistogram.la  add.lo get.lo init.lo params.lo reset.lo file.lo pdf.lo add2d.lo get2d.lo init2d.lo params2d.lo reset2d.lo file2d.lo pdf2d.lo calloc_range.lo calloc_range2d.lo copy.lo copy2d.lo maxval.lo maxval2d.lo oper.lo oper2d.lo stat.lo stat2d.lo  -lm \r\n"
       ]
      },
      {
       "output_type": "stream",
       "stream": "stdout",
       "text": [
        "libtool: link: ar cru .libs/libgslhistogram.a .libs/add.o .libs/get.o .libs/init.o .libs/params.o .libs/reset.o .libs/file.o .libs/pdf.o .libs/add2d.o .libs/get2d.o .libs/init2d.o .libs/params2d.o .libs/reset2d.o .libs/file2d.o .libs/pdf2d.o .libs/calloc_range.o .libs/calloc_range2d.o .libs/copy.o .libs/copy2d.o .libs/maxval.o .libs/maxval2d.o .libs/oper.o .libs/oper2d.o .libs/stat.o .libs/stat2d.o \r\n"
       ]
      },
      {
       "output_type": "stream",
       "stream": "stdout",
       "text": [
        "libtool: link: ranlib .libs/libgslhistogram.a\r\n"
       ]
      },
      {
       "output_type": "stream",
       "stream": "stdout",
       "text": [
        "libtool: link: ( cd \".libs\" && rm -f \"libgslhistogram.la\" && ln -s \"../libgslhistogram.la\" \"libgslhistogram.la\" )\r\n",
        "Making all in ode-initval\r\n",
        "/bin/sh ../libtool --tag=CC   --mode=compile gcc -DHAVE_CONFIG_H -I. -I.. -I..    -g -O2 -MT control.lo -MD -MP -MF .deps/control.Tpo -c -o control.lo control.c\r\n"
       ]
      },
      {
       "output_type": "stream",
       "stream": "stdout",
       "text": [
        "libtool: compile:  gcc -DHAVE_CONFIG_H -I. -I.. -I.. -g -O2 -MT control.lo -MD -MP -MF .deps/control.Tpo -c control.c  -fno-common -DPIC -o .libs/control.o\r\n"
       ]
      },
      {
       "output_type": "stream",
       "stream": "stdout",
       "text": [
        "libtool: compile:  gcc -DHAVE_CONFIG_H -I. -I.. -I.. -g -O2 -MT control.lo -MD -MP -MF .deps/control.Tpo -c control.c -o control.o >/dev/null 2>&1\r\n"
       ]
      },
      {
       "output_type": "stream",
       "stream": "stdout",
       "text": [
        "mv -f .deps/control.Tpo .deps/control.Plo\r\n",
        "/bin/sh ../libtool --tag=CC   --mode=compile gcc -DHAVE_CONFIG_H -I. -I.. -I..    -g -O2 -MT cstd.lo -MD -MP -MF .deps/cstd.Tpo -c -o cstd.lo cstd.c\r\n",
        "libtool: compile:  gcc -DHAVE_CONFIG_H -I. -I.. -I.. -g -O2 -MT cstd.lo -MD -MP -MF .deps/cstd.Tpo -c cstd.c  -fno-common -DPIC -o .libs/cstd.o\r\n"
       ]
      },
      {
       "output_type": "stream",
       "stream": "stdout",
       "text": [
        "libtool: compile:  gcc -DHAVE_CONFIG_H -I. -I.. -I.. -g -O2 -MT cstd.lo -MD -MP -MF .deps/cstd.Tpo -c cstd.c -o cstd.o >/dev/null 2>&1\r\n"
       ]
      },
      {
       "output_type": "stream",
       "stream": "stdout",
       "text": [
        "mv -f .deps/cstd.Tpo .deps/cstd.Plo\r\n",
        "/bin/sh ../libtool --tag=CC   --mode=compile gcc -DHAVE_CONFIG_H -I. -I.. -I..    -g -O2 -MT cscal.lo -MD -MP -MF .deps/cscal.Tpo -c -o cscal.lo cscal.c\r\n"
       ]
      },
      {
       "output_type": "stream",
       "stream": "stdout",
       "text": [
        "libtool: compile:  gcc -DHAVE_CONFIG_H -I. -I.. -I.. -g -O2 -MT cscal.lo -MD -MP -MF .deps/cscal.Tpo -c cscal.c  -fno-common -DPIC -o .libs/cscal.o\r\n"
       ]
      },
      {
       "output_type": "stream",
       "stream": "stdout",
       "text": [
        "libtool: compile:  gcc -DHAVE_CONFIG_H -I. -I.. -I.. -g -O2 -MT cscal.lo -MD -MP -MF .deps/cscal.Tpo -c cscal.c -o cscal.o >/dev/null 2>&1\r\n"
       ]
      },
      {
       "output_type": "stream",
       "stream": "stdout",
       "text": [
        "mv -f .deps/cscal.Tpo .deps/cscal.Plo\r\n",
        "/bin/sh ../libtool --tag=CC   --mode=compile gcc -DHAVE_CONFIG_H -I. -I.. -I..    -g -O2 -MT evolve.lo -MD -MP -MF .deps/evolve.Tpo -c -o evolve.lo evolve.c\r\n",
        "libtool: compile:  gcc -DHAVE_CONFIG_H -I. -I.. -I.. -g -O2 -MT evolve.lo -MD -MP -MF .deps/evolve.Tpo -c evolve.c  -fno-common -DPIC -o .libs/evolve.o\r\n"
       ]
      },
      {
       "output_type": "stream",
       "stream": "stdout",
       "text": [
        "libtool: compile:  gcc -DHAVE_CONFIG_H -I. -I.. -I.. -g -O2 -MT evolve.lo -MD -MP -MF .deps/evolve.Tpo -c evolve.c -o evolve.o >/dev/null 2>&1\r\n"
       ]
      },
      {
       "output_type": "stream",
       "stream": "stdout",
       "text": [
        "mv -f .deps/evolve.Tpo .deps/evolve.Plo\r\n",
        "/bin/sh ../libtool --tag=CC   --mode=compile gcc -DHAVE_CONFIG_H -I. -I.. -I..    -g -O2 -MT step.lo -MD -MP -MF .deps/step.Tpo -c -o step.lo step.c\r\n",
        "libtool: compile:  gcc -DHAVE_CONFIG_H -I. -I.. -I.. -g -O2 -MT step.lo -MD -MP -MF .deps/step.Tpo -c step.c  -fno-common -DPIC -o .libs/step.o\r\n"
       ]
      },
      {
       "output_type": "stream",
       "stream": "stdout",
       "text": [
        "libtool: compile:  gcc -DHAVE_CONFIG_H -I. -I.. -I.. -g -O2 -MT step.lo -MD -MP -MF .deps/step.Tpo -c step.c -o step.o >/dev/null 2>&1\r\n"
       ]
      },
      {
       "output_type": "stream",
       "stream": "stdout",
       "text": [
        "mv -f .deps/step.Tpo .deps/step.Plo\r\n",
        "/bin/sh ../libtool --tag=CC   --mode=compile gcc -DHAVE_CONFIG_H -I. -I.. -I..    -g -O2 -MT rk2.lo -MD -MP -MF .deps/rk2.Tpo -c -o rk2.lo rk2.c\r\n"
       ]
      },
      {
       "output_type": "stream",
       "stream": "stdout",
       "text": [
        "libtool: compile:  gcc -DHAVE_CONFIG_H -I. -I.. -I.. -g -O2 -MT rk2.lo -MD -MP -MF .deps/rk2.Tpo -c rk2.c  -fno-common -DPIC -o .libs/rk2.o\r\n"
       ]
      },
      {
       "output_type": "stream",
       "stream": "stdout",
       "text": [
        "libtool: compile:  gcc -DHAVE_CONFIG_H -I. -I.. -I.. -g -O2 -MT rk2.lo -MD -MP -MF .deps/rk2.Tpo -c rk2.c -o rk2.o >/dev/null 2>&1\r\n"
       ]
      },
      {
       "output_type": "stream",
       "stream": "stdout",
       "text": [
        "mv -f .deps/rk2.Tpo .deps/rk2.Plo\r\n",
        "/bin/sh ../libtool --tag=CC   --mode=compile gcc -DHAVE_CONFIG_H -I. -I.. -I..    -g -O2 -MT rk2imp.lo -MD -MP -MF .deps/rk2imp.Tpo -c -o rk2imp.lo rk2imp.c\r\n",
        "libtool: compile:  gcc -DHAVE_CONFIG_H -I. -I.. -I.. -g -O2 -MT rk2imp.lo -MD -MP -MF .deps/rk2imp.Tpo -c rk2imp.c  -fno-common -DPIC -o .libs/rk2imp.o\r\n"
       ]
      },
      {
       "output_type": "stream",
       "stream": "stdout",
       "text": [
        "libtool: compile:  gcc -DHAVE_CONFIG_H -I. -I.. -I.. -g -O2 -MT rk2imp.lo -MD -MP -MF .deps/rk2imp.Tpo -c rk2imp.c -o rk2imp.o >/dev/null 2>&1\r\n"
       ]
      },
      {
       "output_type": "stream",
       "stream": "stdout",
       "text": [
        "mv -f .deps/rk2imp.Tpo .deps/rk2imp.Plo\r\n",
        "/bin/sh ../libtool --tag=CC   --mode=compile gcc -DHAVE_CONFIG_H -I. -I.. -I..    -g -O2 -MT rk2simp.lo -MD -MP -MF .deps/rk2simp.Tpo -c -o rk2simp.lo rk2simp.c\r\n"
       ]
      },
      {
       "output_type": "stream",
       "stream": "stdout",
       "text": [
        "libtool: compile:  gcc -DHAVE_CONFIG_H -I. -I.. -I.. -g -O2 -MT rk2simp.lo -MD -MP -MF .deps/rk2simp.Tpo -c rk2simp.c  -fno-common -DPIC -o .libs/rk2simp.o\r\n"
       ]
      },
      {
       "output_type": "stream",
       "stream": "stdout",
       "text": [
        "libtool: compile:  gcc -DHAVE_CONFIG_H -I. -I.. -I.. -g -O2 -MT rk2simp.lo -MD -MP -MF .deps/rk2simp.Tpo -c rk2simp.c -o rk2simp.o >/dev/null 2>&1\r\n"
       ]
      },
      {
       "output_type": "stream",
       "stream": "stdout",
       "text": [
        "mv -f .deps/rk2simp.Tpo .deps/rk2simp.Plo\r\n",
        "/bin/sh ../libtool --tag=CC   --mode=compile gcc -DHAVE_CONFIG_H -I. -I.. -I..    -g -O2 -MT rk4.lo -MD -MP -MF .deps/rk4.Tpo -c -o rk4.lo rk4.c\r\n"
       ]
      },
      {
       "output_type": "stream",
       "stream": "stdout",
       "text": [
        "libtool: compile:  gcc -DHAVE_CONFIG_H -I. -I.. -I.. -g -O2 -MT rk4.lo -MD -MP -MF .deps/rk4.Tpo -c rk4.c  -fno-common -DPIC -o .libs/rk4.o\r\n"
       ]
      },
      {
       "output_type": "stream",
       "stream": "stdout",
       "text": [
        "libtool: compile:  gcc -DHAVE_CONFIG_H -I. -I.. -I.. -g -O2 -MT rk4.lo -MD -MP -MF .deps/rk4.Tpo -c rk4.c -o rk4.o >/dev/null 2>&1\r\n"
       ]
      },
      {
       "output_type": "stream",
       "stream": "stdout",
       "text": [
        "mv -f .deps/rk4.Tpo .deps/rk4.Plo\r\n"
       ]
      },
      {
       "output_type": "stream",
       "stream": "stdout",
       "text": [
        "/bin/sh ../libtool --tag=CC   --mode=compile gcc -DHAVE_CONFIG_H -I. -I.. -I..    -g -O2 -MT rk4imp.lo -MD -MP -MF .deps/rk4imp.Tpo -c -o rk4imp.lo rk4imp.c\r\n",
        "libtool: compile:  gcc -DHAVE_CONFIG_H -I. -I.. -I.. -g -O2 -MT rk4imp.lo -MD -MP -MF .deps/rk4imp.Tpo -c rk4imp.c  -fno-common -DPIC -o .libs/rk4imp.o\r\n"
       ]
      },
      {
       "output_type": "stream",
       "stream": "stdout",
       "text": [
        "libtool: compile:  gcc -DHAVE_CONFIG_H -I. -I.. -I.. -g -O2 -MT rk4imp.lo -MD -MP -MF .deps/rk4imp.Tpo -c rk4imp.c -o rk4imp.o >/dev/null 2>&1\r\n"
       ]
      },
      {
       "output_type": "stream",
       "stream": "stdout",
       "text": [
        "mv -f .deps/rk4imp.Tpo .deps/rk4imp.Plo\r\n",
        "/bin/sh ../libtool --tag=CC   --mode=compile gcc -DHAVE_CONFIG_H -I. -I.. -I..    -g -O2 -MT rkf45.lo -MD -MP -MF .deps/rkf45.Tpo -c -o rkf45.lo rkf45.c\r\n",
        "libtool: compile:  gcc -DHAVE_CONFIG_H -I. -I.. -I.. -g -O2 -MT rkf45.lo -MD -MP -MF .deps/rkf45.Tpo -c rkf45.c  -fno-common -DPIC -o .libs/rkf45.o\r\n"
       ]
      },
      {
       "output_type": "stream",
       "stream": "stdout",
       "text": [
        "libtool: compile:  gcc -DHAVE_CONFIG_H -I. -I.. -I.. -g -O2 -MT rkf45.lo -MD -MP -MF .deps/rkf45.Tpo -c rkf45.c -o rkf45.o >/dev/null 2>&1\r\n"
       ]
      },
      {
       "output_type": "stream",
       "stream": "stdout",
       "text": [
        "mv -f .deps/rkf45.Tpo .deps/rkf45.Plo\r\n",
        "/bin/sh ../libtool --tag=CC   --mode=compile gcc -DHAVE_CONFIG_H -I. -I.. -I..    -g -O2 -MT rk8pd.lo -MD -MP -MF .deps/rk8pd.Tpo -c -o rk8pd.lo rk8pd.c\r\n"
       ]
      },
      {
       "output_type": "stream",
       "stream": "stdout",
       "text": [
        "libtool: compile:  gcc -DHAVE_CONFIG_H -I. -I.. -I.. -g -O2 -MT rk8pd.lo -MD -MP -MF .deps/rk8pd.Tpo -c rk8pd.c  -fno-common -DPIC -o .libs/rk8pd.o\r\n"
       ]
      },
      {
       "output_type": "stream",
       "stream": "stdout",
       "text": [
        "libtool: compile:  gcc -DHAVE_CONFIG_H -I. -I.. -I.. -g -O2 -MT rk8pd.lo -MD -MP -MF .deps/rk8pd.Tpo -c rk8pd.c -o rk8pd.o >/dev/null 2>&1\r\n"
       ]
      },
      {
       "output_type": "stream",
       "stream": "stdout",
       "text": [
        "mv -f .deps/rk8pd.Tpo .deps/rk8pd.Plo\r\n",
        "/bin/sh ../libtool --tag=CC   --mode=compile gcc -DHAVE_CONFIG_H -I. -I.. -I..    -g -O2 -MT rkck.lo -MD -MP -MF .deps/rkck.Tpo -c -o rkck.lo rkck.c\r\n",
        "libtool: compile:  gcc -DHAVE_CONFIG_H -I. -I.. -I.. -g -O2 -MT rkck.lo -MD -MP -MF .deps/rkck.Tpo -c rkck.c  -fno-common -DPIC -o .libs/rkck.o\r\n"
       ]
      },
      {
       "output_type": "stream",
       "stream": "stdout",
       "text": [
        "libtool: compile:  gcc -DHAVE_CONFIG_H -I. -I.. -I.. -g -O2 -MT rkck.lo -MD -MP -MF .deps/rkck.Tpo -c rkck.c -o rkck.o >/dev/null 2>&1\r\n"
       ]
      },
      {
       "output_type": "stream",
       "stream": "stdout",
       "text": [
        "mv -f .deps/rkck.Tpo .deps/rkck.Plo\r\n"
       ]
      },
      {
       "output_type": "stream",
       "stream": "stdout",
       "text": [
        "/bin/sh ../libtool --tag=CC   --mode=compile gcc -DHAVE_CONFIG_H -I. -I.. -I..    -g -O2 -MT bsimp.lo -MD -MP -MF .deps/bsimp.Tpo -c -o bsimp.lo bsimp.c\r\n",
        "libtool: compile:  gcc -DHAVE_CONFIG_H -I. -I.. -I.. -g -O2 -MT bsimp.lo -MD -MP -MF .deps/bsimp.Tpo -c bsimp.c  -fno-common -DPIC -o .libs/bsimp.o\r\n"
       ]
      },
      {
       "output_type": "stream",
       "stream": "stdout",
       "text": [
        "libtool: compile:  gcc -DHAVE_CONFIG_H -I. -I.. -I.. -g -O2 -MT bsimp.lo -MD -MP -MF .deps/bsimp.Tpo -c bsimp.c -o bsimp.o >/dev/null 2>&1\r\n"
       ]
      },
      {
       "output_type": "stream",
       "stream": "stdout",
       "text": [
        "mv -f .deps/bsimp.Tpo .deps/bsimp.Plo\r\n",
        "/bin/sh ../libtool --tag=CC   --mode=compile gcc -DHAVE_CONFIG_H -I. -I.. -I..    -g -O2 -MT gear1.lo -MD -MP -MF .deps/gear1.Tpo -c -o gear1.lo gear1.c\r\n",
        "libtool: compile:  gcc -DHAVE_CONFIG_H -I. -I.. -I.. -g -O2 -MT gear1.lo -MD -MP -MF .deps/gear1.Tpo -c gear1.c  -fno-common -DPIC -o .libs/gear1.o\r\n"
       ]
      },
      {
       "output_type": "stream",
       "stream": "stdout",
       "text": [
        "libtool: compile:  gcc -DHAVE_CONFIG_H -I. -I.. -I.. -g -O2 -MT gear1.lo -MD -MP -MF .deps/gear1.Tpo -c gear1.c -o gear1.o >/dev/null 2>&1\r\n"
       ]
      },
      {
       "output_type": "stream",
       "stream": "stdout",
       "text": [
        "mv -f .deps/gear1.Tpo .deps/gear1.Plo\r\n",
        "/bin/sh ../libtool --tag=CC   --mode=compile gcc -DHAVE_CONFIG_H -I. -I.. -I..    -g -O2 -MT gear2.lo -MD -MP -MF .deps/gear2.Tpo -c -o gear2.lo gear2.c\r\n"
       ]
      },
      {
       "output_type": "stream",
       "stream": "stdout",
       "text": [
        "libtool: compile:  gcc -DHAVE_CONFIG_H -I. -I.. -I.. -g -O2 -MT gear2.lo -MD -MP -MF .deps/gear2.Tpo -c gear2.c  -fno-common -DPIC -o .libs/gear2.o\r\n"
       ]
      },
      {
       "output_type": "stream",
       "stream": "stdout",
       "text": [
        "libtool: compile:  gcc -DHAVE_CONFIG_H -I. -I.. -I.. -g -O2 -MT gear2.lo -MD -MP -MF .deps/gear2.Tpo -c gear2.c -o gear2.o >/dev/null 2>&1\r\n"
       ]
      },
      {
       "output_type": "stream",
       "stream": "stdout",
       "text": [
        "mv -f .deps/gear2.Tpo .deps/gear2.Plo\r\n",
        "/bin/sh ../libtool --tag=CC   --mode=link gcc  -g -O2   -o libgslodeiv.la  control.lo cstd.lo cscal.lo evolve.lo step.lo rk2.lo rk2imp.lo rk2simp.lo rk4.lo rk4imp.lo rkf45.lo rk8pd.lo rkck.lo bsimp.lo gear1.lo gear2.lo  -lm \r\n"
       ]
      },
      {
       "output_type": "stream",
       "stream": "stdout",
       "text": [
        "libtool: link: ar cru .libs/libgslodeiv.a .libs/control.o .libs/cstd.o .libs/cscal.o .libs/evolve.o .libs/step.o .libs/rk2.o .libs/rk2imp.o .libs/rk2simp.o .libs/rk4.o .libs/rk4imp.o .libs/rkf45.o .libs/rk8pd.o .libs/rkck.o .libs/bsimp.o .libs/gear1.o .libs/gear2.o \r\n",
        "libtool: link: ranlib .libs/libgslodeiv.a\r\n"
       ]
      },
      {
       "output_type": "stream",
       "stream": "stdout",
       "text": [
        "libtool: link: ( cd \".libs\" && rm -f \"libgslodeiv.la\" && ln -s \"../libgslodeiv.la\" \"libgslodeiv.la\" )\r\n",
        "Making all in ode-initval2\r\n"
       ]
      },
      {
       "output_type": "stream",
       "stream": "stdout",
       "text": [
        "/bin/sh ../libtool --tag=CC   --mode=compile gcc -DHAVE_CONFIG_H -I. -I.. -I..    -g -O2 -MT control.lo -MD -MP -MF .deps/control.Tpo -c -o control.lo control.c\r\n",
        "libtool: compile:  gcc -DHAVE_CONFIG_H -I. -I.. -I.. -g -O2 -MT control.lo -MD -MP -MF .deps/control.Tpo -c control.c  -fno-common -DPIC -o .libs/control.o\r\n"
       ]
      },
      {
       "output_type": "stream",
       "stream": "stdout",
       "text": [
        "libtool: compile:  gcc -DHAVE_CONFIG_H -I. -I.. -I.. -g -O2 -MT control.lo -MD -MP -MF .deps/control.Tpo -c control.c -o control.o >/dev/null 2>&1\r\n"
       ]
      },
      {
       "output_type": "stream",
       "stream": "stdout",
       "text": [
        "mv -f .deps/control.Tpo .deps/control.Plo\r\n",
        "/bin/sh ../libtool --tag=CC   --mode=compile gcc -DHAVE_CONFIG_H -I. -I.. -I..    -g -O2 -MT cstd.lo -MD -MP -MF .deps/cstd.Tpo -c -o cstd.lo cstd.c\r\n",
        "libtool: compile:  gcc -DHAVE_CONFIG_H -I. -I.. -I.. -g -O2 -MT cstd.lo -MD -MP -MF .deps/cstd.Tpo -c cstd.c  -fno-common -DPIC -o .libs/cstd.o\r\n"
       ]
      },
      {
       "output_type": "stream",
       "stream": "stdout",
       "text": [
        "libtool: compile:  gcc -DHAVE_CONFIG_H -I. -I.. -I.. -g -O2 -MT cstd.lo -MD -MP -MF .deps/cstd.Tpo -c cstd.c -o cstd.o >/dev/null 2>&1\r\n"
       ]
      },
      {
       "output_type": "stream",
       "stream": "stdout",
       "text": [
        "mv -f .deps/cstd.Tpo .deps/cstd.Plo\r\n",
        "/bin/sh ../libtool --tag=CC   --mode=compile gcc -DHAVE_CONFIG_H -I. -I.. -I..    -g -O2 -MT cscal.lo -MD -MP -MF .deps/cscal.Tpo -c -o cscal.lo cscal.c\r\n"
       ]
      },
      {
       "output_type": "stream",
       "stream": "stdout",
       "text": [
        "libtool: compile:  gcc -DHAVE_CONFIG_H -I. -I.. -I.. -g -O2 -MT cscal.lo -MD -MP -MF .deps/cscal.Tpo -c cscal.c  -fno-common -DPIC -o .libs/cscal.o\r\n"
       ]
      },
      {
       "output_type": "stream",
       "stream": "stdout",
       "text": [
        "libtool: compile:  gcc -DHAVE_CONFIG_H -I. -I.. -I.. -g -O2 -MT cscal.lo -MD -MP -MF .deps/cscal.Tpo -c cscal.c -o cscal.o >/dev/null 2>&1\r\n"
       ]
      },
      {
       "output_type": "stream",
       "stream": "stdout",
       "text": [
        "mv -f .deps/cscal.Tpo .deps/cscal.Plo\r\n",
        "/bin/sh ../libtool --tag=CC   --mode=compile gcc -DHAVE_CONFIG_H -I. -I.. -I..    -g -O2 -MT evolve.lo -MD -MP -MF .deps/evolve.Tpo -c -o evolve.lo evolve.c\r\n",
        "libtool: compile:  gcc -DHAVE_CONFIG_H -I. -I.. -I.. -g -O2 -MT evolve.lo -MD -MP -MF .deps/evolve.Tpo -c evolve.c  -fno-common -DPIC -o .libs/evolve.o\r\n"
       ]
      },
      {
       "output_type": "stream",
       "stream": "stdout",
       "text": [
        "libtool: compile:  gcc -DHAVE_CONFIG_H -I. -I.. -I.. -g -O2 -MT evolve.lo -MD -MP -MF .deps/evolve.Tpo -c evolve.c -o evolve.o >/dev/null 2>&1\r\n"
       ]
      },
      {
       "output_type": "stream",
       "stream": "stdout",
       "text": [
        "mv -f .deps/evolve.Tpo .deps/evolve.Plo\r\n",
        "/bin/sh ../libtool --tag=CC   --mode=compile gcc -DHAVE_CONFIG_H -I. -I.. -I..    -g -O2 -MT step.lo -MD -MP -MF .deps/step.Tpo -c -o step.lo step.c\r\n",
        "libtool: compile:  gcc -DHAVE_CONFIG_H -I. -I.. -I.. -g -O2 -MT step.lo -MD -MP -MF .deps/step.Tpo -c step.c  -fno-common -DPIC -o .libs/step.o\r\n"
       ]
      },
      {
       "output_type": "stream",
       "stream": "stdout",
       "text": [
        "libtool: compile:  gcc -DHAVE_CONFIG_H -I. -I.. -I.. -g -O2 -MT step.lo -MD -MP -MF .deps/step.Tpo -c step.c -o step.o >/dev/null 2>&1\r\n"
       ]
      },
      {
       "output_type": "stream",
       "stream": "stdout",
       "text": [
        "mv -f .deps/step.Tpo .deps/step.Plo\r\n",
        "/bin/sh ../libtool --tag=CC   --mode=compile gcc -DHAVE_CONFIG_H -I. -I.. -I..    -g -O2 -MT rk2.lo -MD -MP -MF .deps/rk2.Tpo -c -o rk2.lo rk2.c\r\n",
        "libtool: compile:  gcc -DHAVE_CONFIG_H -I. -I.. -I.. -g -O2 -MT rk2.lo -MD -MP -MF .deps/rk2.Tpo -c rk2.c  -fno-common -DPIC -o .libs/rk2.o\r\n"
       ]
      },
      {
       "output_type": "stream",
       "stream": "stdout",
       "text": [
        "libtool: compile:  gcc -DHAVE_CONFIG_H -I. -I.. -I.. -g -O2 -MT rk2.lo -MD -MP -MF .deps/rk2.Tpo -c rk2.c -o rk2.o >/dev/null 2>&1\r\n"
       ]
      },
      {
       "output_type": "stream",
       "stream": "stdout",
       "text": [
        "mv -f .deps/rk2.Tpo .deps/rk2.Plo\r\n",
        "/bin/sh ../libtool --tag=CC   --mode=compile gcc -DHAVE_CONFIG_H -I. -I.. -I..    -g -O2 -MT rk2imp.lo -MD -MP -MF .deps/rk2imp.Tpo -c -o rk2imp.lo rk2imp.c\r\n",
        "libtool: compile:  gcc -DHAVE_CONFIG_H -I. -I.. -I.. -g -O2 -MT rk2imp.lo -MD -MP -MF .deps/rk2imp.Tpo -c rk2imp.c  -fno-common -DPIC -o .libs/rk2imp.o\r\n"
       ]
      },
      {
       "output_type": "stream",
       "stream": "stdout",
       "text": [
        "libtool: compile:  gcc -DHAVE_CONFIG_H -I. -I.. -I.. -g -O2 -MT rk2imp.lo -MD -MP -MF .deps/rk2imp.Tpo -c rk2imp.c -o rk2imp.o >/dev/null 2>&1\r\n"
       ]
      },
      {
       "output_type": "stream",
       "stream": "stdout",
       "text": [
        "mv -f .deps/rk2imp.Tpo .deps/rk2imp.Plo\r\n",
        "/bin/sh ../libtool --tag=CC   --mode=compile gcc -DHAVE_CONFIG_H -I. -I.. -I..    -g -O2 -MT rk4.lo -MD -MP -MF .deps/rk4.Tpo -c -o rk4.lo rk4.c\r\n"
       ]
      },
      {
       "output_type": "stream",
       "stream": "stdout",
       "text": [
        "libtool: compile:  gcc -DHAVE_CONFIG_H -I. -I.. -I.. -g -O2 -MT rk4.lo -MD -MP -MF .deps/rk4.Tpo -c rk4.c  -fno-common -DPIC -o .libs/rk4.o\r\n"
       ]
      },
      {
       "output_type": "stream",
       "stream": "stdout",
       "text": [
        "libtool: compile:  gcc -DHAVE_CONFIG_H -I. -I.. -I.. -g -O2 -MT rk4.lo -MD -MP -MF .deps/rk4.Tpo -c rk4.c -o rk4.o >/dev/null 2>&1\r\n"
       ]
      },
      {
       "output_type": "stream",
       "stream": "stdout",
       "text": [
        "mv -f .deps/rk4.Tpo .deps/rk4.Plo\r\n",
        "/bin/sh ../libtool --tag=CC   --mode=compile gcc -DHAVE_CONFIG_H -I. -I.. -I..    -g -O2 -MT rk4imp.lo -MD -MP -MF .deps/rk4imp.Tpo -c -o rk4imp.lo rk4imp.c\r\n",
        "libtool: compile:  gcc -DHAVE_CONFIG_H -I. -I.. -I.. -g -O2 -MT rk4imp.lo -MD -MP -MF .deps/rk4imp.Tpo -c rk4imp.c  -fno-common -DPIC -o .libs/rk4imp.o\r\n"
       ]
      },
      {
       "output_type": "stream",
       "stream": "stdout",
       "text": [
        "libtool: compile:  gcc -DHAVE_CONFIG_H -I. -I.. -I.. -g -O2 -MT rk4imp.lo -MD -MP -MF .deps/rk4imp.Tpo -c rk4imp.c -o rk4imp.o >/dev/null 2>&1\r\n"
       ]
      },
      {
       "output_type": "stream",
       "stream": "stdout",
       "text": [
        "mv -f .deps/rk4imp.Tpo .deps/rk4imp.Plo\r\n",
        "/bin/sh ../libtool --tag=CC   --mode=compile gcc -DHAVE_CONFIG_H -I. -I.. -I..    -g -O2 -MT rkf45.lo -MD -MP -MF .deps/rkf45.Tpo -c -o rkf45.lo rkf45.c\r\n",
        "libtool: compile:  gcc -DHAVE_CONFIG_H -I. -I.. -I.. -g -O2 -MT rkf45.lo -MD -MP -MF .deps/rkf45.Tpo -c rkf45.c  -fno-common -DPIC -o .libs/rkf45.o\r\n"
       ]
      },
      {
       "output_type": "stream",
       "stream": "stdout",
       "text": [
        "libtool: compile:  gcc -DHAVE_CONFIG_H -I. -I.. -I.. -g -O2 -MT rkf45.lo -MD -MP -MF .deps/rkf45.Tpo -c rkf45.c -o rkf45.o >/dev/null 2>&1\r\n"
       ]
      },
      {
       "output_type": "stream",
       "stream": "stdout",
       "text": [
        "mv -f .deps/rkf45.Tpo .deps/rkf45.Plo\r\n",
        "/bin/sh ../libtool --tag=CC   --mode=compile gcc -DHAVE_CONFIG_H -I. -I.. -I..    -g -O2 -MT rk8pd.lo -MD -MP -MF .deps/rk8pd.Tpo -c -o rk8pd.lo rk8pd.c\r\n"
       ]
      },
      {
       "output_type": "stream",
       "stream": "stdout",
       "text": [
        "libtool: compile:  gcc -DHAVE_CONFIG_H -I. -I.. -I.. -g -O2 -MT rk8pd.lo -MD -MP -MF .deps/rk8pd.Tpo -c rk8pd.c  -fno-common -DPIC -o .libs/rk8pd.o\r\n"
       ]
      },
      {
       "output_type": "stream",
       "stream": "stdout",
       "text": [
        "libtool: compile:  gcc -DHAVE_CONFIG_H -I. -I.. -I.. -g -O2 -MT rk8pd.lo -MD -MP -MF .deps/rk8pd.Tpo -c rk8pd.c -o rk8pd.o >/dev/null 2>&1\r\n"
       ]
      },
      {
       "output_type": "stream",
       "stream": "stdout",
       "text": [
        "mv -f .deps/rk8pd.Tpo .deps/rk8pd.Plo\r\n",
        "/bin/sh ../libtool --tag=CC   --mode=compile gcc -DHAVE_CONFIG_H -I. -I.. -I..    -g -O2 -MT rkck.lo -MD -MP -MF .deps/rkck.Tpo -c -o rkck.lo rkck.c\r\n",
        "libtool: compile:  gcc -DHAVE_CONFIG_H -I. -I.. -I.. -g -O2 -MT rkck.lo -MD -MP -MF .deps/rkck.Tpo -c rkck.c  -fno-common -DPIC -o .libs/rkck.o\r\n"
       ]
      },
      {
       "output_type": "stream",
       "stream": "stdout",
       "text": [
        "libtool: compile:  gcc -DHAVE_CONFIG_H -I. -I.. -I.. -g -O2 -MT rkck.lo -MD -MP -MF .deps/rkck.Tpo -c rkck.c -o rkck.o >/dev/null 2>&1\r\n"
       ]
      },
      {
       "output_type": "stream",
       "stream": "stdout",
       "text": [
        "mv -f .deps/rkck.Tpo .deps/rkck.Plo\r\n",
        "/bin/sh ../libtool --tag=CC   --mode=compile gcc -DHAVE_CONFIG_H -I. -I.. -I..    -g -O2 -MT bsimp.lo -MD -MP -MF .deps/bsimp.Tpo -c -o bsimp.lo bsimp.c\r\n"
       ]
      },
      {
       "output_type": "stream",
       "stream": "stdout",
       "text": [
        "libtool: compile:  gcc -DHAVE_CONFIG_H -I. -I.. -I.. -g -O2 -MT bsimp.lo -MD -MP -MF .deps/bsimp.Tpo -c bsimp.c  -fno-common -DPIC -o .libs/bsimp.o\r\n"
       ]
      },
      {
       "output_type": "stream",
       "stream": "stdout",
       "text": [
        "libtool: compile:  gcc -DHAVE_CONFIG_H -I. -I.. -I.. -g -O2 -MT bsimp.lo -MD -MP -MF .deps/bsimp.Tpo -c bsimp.c -o bsimp.o >/dev/null 2>&1\r\n"
       ]
      },
      {
       "output_type": "stream",
       "stream": "stdout",
       "text": [
        "mv -f .deps/bsimp.Tpo .deps/bsimp.Plo\r\n",
        "/bin/sh ../libtool --tag=CC   --mode=compile gcc -DHAVE_CONFIG_H -I. -I.. -I..    -g -O2 -MT rk1imp.lo -MD -MP -MF .deps/rk1imp.Tpo -c -o rk1imp.lo rk1imp.c\r\n"
       ]
      },
      {
       "output_type": "stream",
       "stream": "stdout",
       "text": [
        "libtool: compile:  gcc -DHAVE_CONFIG_H -I. -I.. -I.. -g -O2 -MT rk1imp.lo -MD -MP -MF .deps/rk1imp.Tpo -c rk1imp.c  -fno-common -DPIC -o .libs/rk1imp.o\r\n"
       ]
      },
      {
       "output_type": "stream",
       "stream": "stdout",
       "text": [
        "libtool: compile:  gcc -DHAVE_CONFIG_H -I. -I.. -I.. -g -O2 -MT rk1imp.lo -MD -MP -MF .deps/rk1imp.Tpo -c rk1imp.c -o rk1imp.o >/dev/null 2>&1\r\n"
       ]
      },
      {
       "output_type": "stream",
       "stream": "stdout",
       "text": [
        "mv -f .deps/rk1imp.Tpo .deps/rk1imp.Plo\r\n",
        "/bin/sh ../libtool --tag=CC   --mode=compile gcc -DHAVE_CONFIG_H -I. -I.. -I..    -g -O2 -MT msadams.lo -MD -MP -MF .deps/msadams.Tpo -c -o msadams.lo msadams.c\r\n",
        "libtool: compile:  gcc -DHAVE_CONFIG_H -I. -I.. -I.. -g -O2 -MT msadams.lo -MD -MP -MF .deps/msadams.Tpo -c msadams.c  -fno-common -DPIC -o .libs/msadams.o\r\n"
       ]
      },
      {
       "output_type": "stream",
       "stream": "stdout",
       "text": [
        "libtool: compile:  gcc -DHAVE_CONFIG_H -I. -I.. -I.. -g -O2 -MT msadams.lo -MD -MP -MF .deps/msadams.Tpo -c msadams.c -o msadams.o >/dev/null 2>&1\r\n"
       ]
      },
      {
       "output_type": "stream",
       "stream": "stdout",
       "text": [
        "mv -f .deps/msadams.Tpo .deps/msadams.Plo\r\n",
        "/bin/sh ../libtool --tag=CC   --mode=compile gcc -DHAVE_CONFIG_H -I. -I.. -I..    -g -O2 -MT msbdf.lo -MD -MP -MF .deps/msbdf.Tpo -c -o msbdf.lo msbdf.c\r\n",
        "libtool: compile:  gcc -DHAVE_CONFIG_H -I. -I.. -I.. -g -O2 -MT msbdf.lo -MD -MP -MF .deps/msbdf.Tpo -c msbdf.c  -fno-common -DPIC -o .libs/msbdf.o\r\n"
       ]
      },
      {
       "output_type": "stream",
       "stream": "stdout",
       "text": [
        "libtool: compile:  gcc -DHAVE_CONFIG_H -I. -I.. -I.. -g -O2 -MT msbdf.lo -MD -MP -MF .deps/msbdf.Tpo -c msbdf.c -o msbdf.o >/dev/null 2>&1\r\n"
       ]
      },
      {
       "output_type": "stream",
       "stream": "stdout",
       "text": [
        "mv -f .deps/msbdf.Tpo .deps/msbdf.Plo\r\n",
        "/bin/sh ../libtool --tag=CC   --mode=compile gcc -DHAVE_CONFIG_H -I. -I.. -I..    -g -O2 -MT driver.lo -MD -MP -MF .deps/driver.Tpo -c -o driver.lo driver.c\r\n"
       ]
      },
      {
       "output_type": "stream",
       "stream": "stdout",
       "text": [
        "libtool: compile:  gcc -DHAVE_CONFIG_H -I. -I.. -I.. -g -O2 -MT driver.lo -MD -MP -MF .deps/driver.Tpo -c driver.c  -fno-common -DPIC -o .libs/driver.o\r\n"
       ]
      },
      {
       "output_type": "stream",
       "stream": "stdout",
       "text": [
        "libtool: compile:  gcc -DHAVE_CONFIG_H -I. -I.. -I.. -g -O2 -MT driver.lo -MD -MP -MF .deps/driver.Tpo -c driver.c -o driver.o >/dev/null 2>&1\r\n"
       ]
      },
      {
       "output_type": "stream",
       "stream": "stdout",
       "text": [
        "mv -f .deps/driver.Tpo .deps/driver.Plo\r\n",
        "/bin/sh ../libtool --tag=CC   --mode=link gcc  -g -O2   -o libgslodeiv2.la  control.lo cstd.lo cscal.lo evolve.lo step.lo rk2.lo rk2imp.lo rk4.lo rk4imp.lo rkf45.lo rk8pd.lo rkck.lo bsimp.lo rk1imp.lo msadams.lo msbdf.lo driver.lo  -lm \r\n"
       ]
      },
      {
       "output_type": "stream",
       "stream": "stdout",
       "text": [
        "libtool: link: ar cru .libs/libgslodeiv2.a .libs/control.o .libs/cstd.o .libs/cscal.o .libs/evolve.o .libs/step.o .libs/rk2.o .libs/rk2imp.o .libs/rk4.o .libs/rk4imp.o .libs/rkf45.o .libs/rk8pd.o .libs/rkck.o .libs/bsimp.o .libs/rk1imp.o .libs/msadams.o .libs/msbdf.o .libs/driver.o \r\n"
       ]
      },
      {
       "output_type": "stream",
       "stream": "stdout",
       "text": [
        "libtool: link: ranlib .libs/libgslodeiv2.a\r\n"
       ]
      },
      {
       "output_type": "stream",
       "stream": "stdout",
       "text": [
        "libtool: link: ( cd \".libs\" && rm -f \"libgslodeiv2.la\" && ln -s \"../libgslodeiv2.la\" \"libgslodeiv2.la\" )\r\n",
        "Making all in roots\r\n"
       ]
      },
      {
       "output_type": "stream",
       "stream": "stdout",
       "text": [
        "/bin/sh ../libtool --tag=CC   --mode=compile gcc -DHAVE_CONFIG_H -I. -I.. -I..    -g -O2 -MT bisection.lo -MD -MP -MF .deps/bisection.Tpo -c -o bisection.lo bisection.c\r\n",
        "libtool: compile:  gcc -DHAVE_CONFIG_H -I. -I.. -I.. -g -O2 -MT bisection.lo -MD -MP -MF .deps/bisection.Tpo -c bisection.c  -fno-common -DPIC -o .libs/bisection.o\r\n"
       ]
      },
      {
       "output_type": "stream",
       "stream": "stdout",
       "text": [
        "libtool: compile:  gcc -DHAVE_CONFIG_H -I. -I.. -I.. -g -O2 -MT bisection.lo -MD -MP -MF .deps/bisection.Tpo -c bisection.c -o bisection.o >/dev/null 2>&1\r\n"
       ]
      },
      {
       "output_type": "stream",
       "stream": "stdout",
       "text": [
        "mv -f .deps/bisection.Tpo .deps/bisection.Plo\r\n",
        "/bin/sh ../libtool --tag=CC   --mode=compile gcc -DHAVE_CONFIG_H -I. -I.. -I..    -g -O2 -MT brent.lo -MD -MP -MF .deps/brent.Tpo -c -o brent.lo brent.c\r\n"
       ]
      },
      {
       "output_type": "stream",
       "stream": "stdout",
       "text": [
        "libtool: compile:  gcc -DHAVE_CONFIG_H -I. -I.. -I.. -g -O2 -MT brent.lo -MD -MP -MF .deps/brent.Tpo -c brent.c  -fno-common -DPIC -o .libs/brent.o\r\n"
       ]
      },
      {
       "output_type": "stream",
       "stream": "stdout",
       "text": [
        "libtool: compile:  gcc -DHAVE_CONFIG_H -I. -I.. -I.. -g -O2 -MT brent.lo -MD -MP -MF .deps/brent.Tpo -c brent.c -o brent.o >/dev/null 2>&1\r\n"
       ]
      },
      {
       "output_type": "stream",
       "stream": "stdout",
       "text": [
        "mv -f .deps/brent.Tpo .deps/brent.Plo\r\n",
        "/bin/sh ../libtool --tag=CC   --mode=compile gcc -DHAVE_CONFIG_H -I. -I.. -I..    -g -O2 -MT falsepos.lo -MD -MP -MF .deps/falsepos.Tpo -c -o falsepos.lo falsepos.c\r\n"
       ]
      },
      {
       "output_type": "stream",
       "stream": "stdout",
       "text": [
        "libtool: compile:  gcc -DHAVE_CONFIG_H -I. -I.. -I.. -g -O2 -MT falsepos.lo -MD -MP -MF .deps/falsepos.Tpo -c falsepos.c  -fno-common -DPIC -o .libs/falsepos.o\r\n"
       ]
      },
      {
       "output_type": "stream",
       "stream": "stdout",
       "text": [
        "libtool: compile:  gcc -DHAVE_CONFIG_H -I. -I.. -I.. -g -O2 -MT falsepos.lo -MD -MP -MF .deps/falsepos.Tpo -c falsepos.c -o falsepos.o >/dev/null 2>&1\r\n"
       ]
      },
      {
       "output_type": "stream",
       "stream": "stdout",
       "text": [
        "mv -f .deps/falsepos.Tpo .deps/falsepos.Plo\r\n",
        "/bin/sh ../libtool --tag=CC   --mode=compile gcc -DHAVE_CONFIG_H -I. -I.. -I..    -g -O2 -MT newton.lo -MD -MP -MF .deps/newton.Tpo -c -o newton.lo newton.c\r\n",
        "libtool: compile:  gcc -DHAVE_CONFIG_H -I. -I.. -I.. -g -O2 -MT newton.lo -MD -MP -MF .deps/newton.Tpo -c newton.c  -fno-common -DPIC -o .libs/newton.o\r\n"
       ]
      },
      {
       "output_type": "stream",
       "stream": "stdout",
       "text": [
        "libtool: compile:  gcc -DHAVE_CONFIG_H -I. -I.. -I.. -g -O2 -MT newton.lo -MD -MP -MF .deps/newton.Tpo -c newton.c -o newton.o >/dev/null 2>&1\r\n"
       ]
      },
      {
       "output_type": "stream",
       "stream": "stdout",
       "text": [
        "mv -f .deps/newton.Tpo .deps/newton.Plo\r\n",
        "/bin/sh ../libtool --tag=CC   --mode=compile gcc -DHAVE_CONFIG_H -I. -I.. -I..    -g -O2 -MT secant.lo -MD -MP -MF .deps/secant.Tpo -c -o secant.lo secant.c\r\n",
        "libtool: compile:  gcc -DHAVE_CONFIG_H -I. -I.. -I.. -g -O2 -MT secant.lo -MD -MP -MF .deps/secant.Tpo -c secant.c  -fno-common -DPIC -o .libs/secant.o\r\n"
       ]
      },
      {
       "output_type": "stream",
       "stream": "stdout",
       "text": [
        "libtool: compile:  gcc -DHAVE_CONFIG_H -I. -I.. -I.. -g -O2 -MT secant.lo -MD -MP -MF .deps/secant.Tpo -c secant.c -o secant.o >/dev/null 2>&1\r\n"
       ]
      },
      {
       "output_type": "stream",
       "stream": "stdout",
       "text": [
        "mv -f .deps/secant.Tpo .deps/secant.Plo\r\n",
        "/bin/sh ../libtool --tag=CC   --mode=compile gcc -DHAVE_CONFIG_H -I. -I.. -I..    -g -O2 -MT steffenson.lo -MD -MP -MF .deps/steffenson.Tpo -c -o steffenson.lo steffenson.c\r\n",
        "libtool: compile:  gcc -DHAVE_CONFIG_H -I. -I.. -I.. -g -O2 -MT steffenson.lo -MD -MP -MF .deps/steffenson.Tpo -c steffenson.c  -fno-common -DPIC -o .libs/steffenson.o\r\n"
       ]
      },
      {
       "output_type": "stream",
       "stream": "stdout",
       "text": [
        "libtool: compile:  gcc -DHAVE_CONFIG_H -I. -I.. -I.. -g -O2 -MT steffenson.lo -MD -MP -MF .deps/steffenson.Tpo -c steffenson.c -o steffenson.o >/dev/null 2>&1\r\n"
       ]
      },
      {
       "output_type": "stream",
       "stream": "stdout",
       "text": [
        "mv -f .deps/steffenson.Tpo .deps/steffenson.Plo\r\n",
        "/bin/sh ../libtool --tag=CC   --mode=compile gcc -DHAVE_CONFIG_H -I. -I.. -I..    -g -O2 -MT convergence.lo -MD -MP -MF .deps/convergence.Tpo -c -o convergence.lo convergence.c\r\n",
        "libtool: compile:  gcc -DHAVE_CONFIG_H -I. -I.. -I.. -g -O2 -MT convergence.lo -MD -MP -MF .deps/convergence.Tpo -c convergence.c  -fno-common -DPIC -o .libs/convergence.o\r\n"
       ]
      },
      {
       "output_type": "stream",
       "stream": "stdout",
       "text": [
        "libtool: compile:  gcc -DHAVE_CONFIG_H -I. -I.. -I.. -g -O2 -MT convergence.lo -MD -MP -MF .deps/convergence.Tpo -c convergence.c -o convergence.o >/dev/null 2>&1\r\n"
       ]
      },
      {
       "output_type": "stream",
       "stream": "stdout",
       "text": [
        "mv -f .deps/convergence.Tpo .deps/convergence.Plo\r\n",
        "/bin/sh ../libtool --tag=CC   --mode=compile gcc -DHAVE_CONFIG_H -I. -I.. -I..    -g -O2 -MT fsolver.lo -MD -MP -MF .deps/fsolver.Tpo -c -o fsolver.lo fsolver.c\r\n"
       ]
      },
      {
       "output_type": "stream",
       "stream": "stdout",
       "text": [
        "libtool: compile:  gcc -DHAVE_CONFIG_H -I. -I.. -I.. -g -O2 -MT fsolver.lo -MD -MP -MF .deps/fsolver.Tpo -c fsolver.c  -fno-common -DPIC -o .libs/fsolver.o\r\n"
       ]
      },
      {
       "output_type": "stream",
       "stream": "stdout",
       "text": [
        "libtool: compile:  gcc -DHAVE_CONFIG_H -I. -I.. -I.. -g -O2 -MT fsolver.lo -MD -MP -MF .deps/fsolver.Tpo -c fsolver.c -o fsolver.o >/dev/null 2>&1\r\n"
       ]
      },
      {
       "output_type": "stream",
       "stream": "stdout",
       "text": [
        "mv -f .deps/fsolver.Tpo .deps/fsolver.Plo\r\n",
        "/bin/sh ../libtool --tag=CC   --mode=compile gcc -DHAVE_CONFIG_H -I. -I.. -I..    -g -O2 -MT fdfsolver.lo -MD -MP -MF .deps/fdfsolver.Tpo -c -o fdfsolver.lo fdfsolver.c\r\n",
        "libtool: compile:  gcc -DHAVE_CONFIG_H -I. -I.. -I.. -g -O2 -MT fdfsolver.lo -MD -MP -MF .deps/fdfsolver.Tpo -c fdfsolver.c  -fno-common -DPIC -o .libs/fdfsolver.o\r\n"
       ]
      },
      {
       "output_type": "stream",
       "stream": "stdout",
       "text": [
        "libtool: compile:  gcc -DHAVE_CONFIG_H -I. -I.. -I.. -g -O2 -MT fdfsolver.lo -MD -MP -MF .deps/fdfsolver.Tpo -c fdfsolver.c -o fdfsolver.o >/dev/null 2>&1\r\n"
       ]
      },
      {
       "output_type": "stream",
       "stream": "stdout",
       "text": [
        "mv -f .deps/fdfsolver.Tpo .deps/fdfsolver.Plo\r\n",
        "/bin/sh ../libtool --tag=CC   --mode=link gcc  -g -O2   -o libgslroots.la  bisection.lo brent.lo falsepos.lo newton.lo secant.lo steffenson.lo convergence.lo fsolver.lo fdfsolver.lo  -lm \r\n"
       ]
      },
      {
       "output_type": "stream",
       "stream": "stdout",
       "text": [
        "libtool: link: ar cru .libs/libgslroots.a .libs/bisection.o .libs/brent.o .libs/falsepos.o .libs/newton.o .libs/secant.o .libs/steffenson.o .libs/convergence.o .libs/fsolver.o .libs/fdfsolver.o \r\n",
        "libtool: link: ranlib .libs/libgslroots.a\r\n"
       ]
      },
      {
       "output_type": "stream",
       "stream": "stdout",
       "text": [
        "libtool: link: ( cd \".libs\" && rm -f \"libgslroots.la\" && ln -s \"../libgslroots.la\" \"libgslroots.la\" )\r\n",
        "Making all in multiroots\r\n"
       ]
      },
      {
       "output_type": "stream",
       "stream": "stdout",
       "text": [
        "/bin/sh ../libtool --tag=CC   --mode=compile gcc -DHAVE_CONFIG_H -I. -I.. -I..    -g -O2 -MT fdjac.lo -MD -MP -MF .deps/fdjac.Tpo -c -o fdjac.lo fdjac.c\r\n",
        "libtool: compile:  gcc -DHAVE_CONFIG_H -I. -I.. -I.. -g -O2 -MT fdjac.lo -MD -MP -MF .deps/fdjac.Tpo -c fdjac.c  -fno-common -DPIC -o .libs/fdjac.o\r\n"
       ]
      },
      {
       "output_type": "stream",
       "stream": "stdout",
       "text": [
        "libtool: compile:  gcc -DHAVE_CONFIG_H -I. -I.. -I.. -g -O2 -MT fdjac.lo -MD -MP -MF .deps/fdjac.Tpo -c fdjac.c -o fdjac.o >/dev/null 2>&1\r\n"
       ]
      },
      {
       "output_type": "stream",
       "stream": "stdout",
       "text": [
        "mv -f .deps/fdjac.Tpo .deps/fdjac.Plo\r\n",
        "/bin/sh ../libtool --tag=CC   --mode=compile gcc -DHAVE_CONFIG_H -I. -I.. -I..    -g -O2 -MT fsolver.lo -MD -MP -MF .deps/fsolver.Tpo -c -o fsolver.lo fsolver.c\r\n"
       ]
      },
      {
       "output_type": "stream",
       "stream": "stdout",
       "text": [
        "libtool: compile:  gcc -DHAVE_CONFIG_H -I. -I.. -I.. -g -O2 -MT fsolver.lo -MD -MP -MF .deps/fsolver.Tpo -c fsolver.c  -fno-common -DPIC -o .libs/fsolver.o\r\n"
       ]
      },
      {
       "output_type": "stream",
       "stream": "stdout",
       "text": [
        "libtool: compile:  gcc -DHAVE_CONFIG_H -I. -I.. -I.. -g -O2 -MT fsolver.lo -MD -MP -MF .deps/fsolver.Tpo -c fsolver.c -o fsolver.o >/dev/null 2>&1\r\n"
       ]
      },
      {
       "output_type": "stream",
       "stream": "stdout",
       "text": [
        "mv -f .deps/fsolver.Tpo .deps/fsolver.Plo\r\n",
        "/bin/sh ../libtool --tag=CC   --mode=compile gcc -DHAVE_CONFIG_H -I. -I.. -I..    -g -O2 -MT fdfsolver.lo -MD -MP -MF .deps/fdfsolver.Tpo -c -o fdfsolver.lo fdfsolver.c\r\n"
       ]
      },
      {
       "output_type": "stream",
       "stream": "stdout",
       "text": [
        "libtool: compile:  gcc -DHAVE_CONFIG_H -I. -I.. -I.. -g -O2 -MT fdfsolver.lo -MD -MP -MF .deps/fdfsolver.Tpo -c fdfsolver.c  -fno-common -DPIC -o .libs/fdfsolver.o\r\n"
       ]
      },
      {
       "output_type": "stream",
       "stream": "stdout",
       "text": [
        "libtool: compile:  gcc -DHAVE_CONFIG_H -I. -I.. -I.. -g -O2 -MT fdfsolver.lo -MD -MP -MF .deps/fdfsolver.Tpo -c fdfsolver.c -o fdfsolver.o >/dev/null 2>&1\r\n"
       ]
      },
      {
       "output_type": "stream",
       "stream": "stdout",
       "text": [
        "mv -f .deps/fdfsolver.Tpo .deps/fdfsolver.Plo\r\n",
        "/bin/sh ../libtool --tag=CC   --mode=compile gcc -DHAVE_CONFIG_H -I. -I.. -I..    -g -O2 -MT convergence.lo -MD -MP -MF .deps/convergence.Tpo -c -o convergence.lo convergence.c\r\n",
        "libtool: compile:  gcc -DHAVE_CONFIG_H -I. -I.. -I.. -g -O2 -MT convergence.lo -MD -MP -MF .deps/convergence.Tpo -c convergence.c  -fno-common -DPIC -o .libs/convergence.o\r\n"
       ]
      },
      {
       "output_type": "stream",
       "stream": "stdout",
       "text": [
        "libtool: compile:  gcc -DHAVE_CONFIG_H -I. -I.. -I.. -g -O2 -MT convergence.lo -MD -MP -MF .deps/convergence.Tpo -c convergence.c -o convergence.o >/dev/null 2>&1\r\n"
       ]
      },
      {
       "output_type": "stream",
       "stream": "stdout",
       "text": [
        "mv -f .deps/convergence.Tpo .deps/convergence.Plo\r\n",
        "/bin/sh ../libtool --tag=CC   --mode=compile gcc -DHAVE_CONFIG_H -I. -I.. -I..    -g -O2 -MT newton.lo -MD -MP -MF .deps/newton.Tpo -c -o newton.lo newton.c\r\n",
        "libtool: compile:  gcc -DHAVE_CONFIG_H -I. -I.. -I.. -g -O2 -MT newton.lo -MD -MP -MF .deps/newton.Tpo -c newton.c  -fno-common -DPIC -o .libs/newton.o\r\n"
       ]
      },
      {
       "output_type": "stream",
       "stream": "stdout",
       "text": [
        "libtool: compile:  gcc -DHAVE_CONFIG_H -I. -I.. -I.. -g -O2 -MT newton.lo -MD -MP -MF .deps/newton.Tpo -c newton.c -o newton.o >/dev/null 2>&1\r\n"
       ]
      },
      {
       "output_type": "stream",
       "stream": "stdout",
       "text": [
        "mv -f .deps/newton.Tpo .deps/newton.Plo\r\n",
        "/bin/sh ../libtool --tag=CC   --mode=compile gcc -DHAVE_CONFIG_H -I. -I.. -I..    -g -O2 -MT gnewton.lo -MD -MP -MF .deps/gnewton.Tpo -c -o gnewton.lo gnewton.c\r\n"
       ]
      },
      {
       "output_type": "stream",
       "stream": "stdout",
       "text": [
        "libtool: compile:  gcc -DHAVE_CONFIG_H -I. -I.. -I.. -g -O2 -MT gnewton.lo -MD -MP -MF .deps/gnewton.Tpo -c gnewton.c  -fno-common -DPIC -o .libs/gnewton.o\r\n"
       ]
      },
      {
       "output_type": "stream",
       "stream": "stdout",
       "text": [
        "libtool: compile:  gcc -DHAVE_CONFIG_H -I. -I.. -I.. -g -O2 -MT gnewton.lo -MD -MP -MF .deps/gnewton.Tpo -c gnewton.c -o gnewton.o >/dev/null 2>&1\r\n"
       ]
      },
      {
       "output_type": "stream",
       "stream": "stdout",
       "text": [
        "mv -f .deps/gnewton.Tpo .deps/gnewton.Plo\r\n"
       ]
      },
      {
       "output_type": "stream",
       "stream": "stdout",
       "text": [
        "/bin/sh ../libtool --tag=CC   --mode=compile gcc -DHAVE_CONFIG_H -I. -I.. -I..    -g -O2 -MT dnewton.lo -MD -MP -MF .deps/dnewton.Tpo -c -o dnewton.lo dnewton.c\r\n",
        "libtool: compile:  gcc -DHAVE_CONFIG_H -I. -I.. -I.. -g -O2 -MT dnewton.lo -MD -MP -MF .deps/dnewton.Tpo -c dnewton.c  -fno-common -DPIC -o .libs/dnewton.o\r\n"
       ]
      },
      {
       "output_type": "stream",
       "stream": "stdout",
       "text": [
        "libtool: compile:  gcc -DHAVE_CONFIG_H -I. -I.. -I.. -g -O2 -MT dnewton.lo -MD -MP -MF .deps/dnewton.Tpo -c dnewton.c -o dnewton.o >/dev/null 2>&1\r\n"
       ]
      },
      {
       "output_type": "stream",
       "stream": "stdout",
       "text": [
        "mv -f .deps/dnewton.Tpo .deps/dnewton.Plo\r\n",
        "/bin/sh ../libtool --tag=CC   --mode=compile gcc -DHAVE_CONFIG_H -I. -I.. -I..    -g -O2 -MT broyden.lo -MD -MP -MF .deps/broyden.Tpo -c -o broyden.lo broyden.c\r\n"
       ]
      },
      {
       "output_type": "stream",
       "stream": "stdout",
       "text": [
        "libtool: compile:  gcc -DHAVE_CONFIG_H -I. -I.. -I.. -g -O2 -MT broyden.lo -MD -MP -MF .deps/broyden.Tpo -c broyden.c  -fno-common -DPIC -o .libs/broyden.o\r\n"
       ]
      },
      {
       "output_type": "stream",
       "stream": "stdout",
       "text": [
        "libtool: compile:  gcc -DHAVE_CONFIG_H -I. -I.. -I.. -g -O2 -MT broyden.lo -MD -MP -MF .deps/broyden.Tpo -c broyden.c -o broyden.o >/dev/null 2>&1\r\n"
       ]
      },
      {
       "output_type": "stream",
       "stream": "stdout",
       "text": [
        "mv -f .deps/broyden.Tpo .deps/broyden.Plo\r\n",
        "/bin/sh ../libtool --tag=CC   --mode=compile gcc -DHAVE_CONFIG_H -I. -I.. -I..    -g -O2 -MT hybrid.lo -MD -MP -MF .deps/hybrid.Tpo -c -o hybrid.lo hybrid.c\r\n",
        "libtool: compile:  gcc -DHAVE_CONFIG_H -I. -I.. -I.. -g -O2 -MT hybrid.lo -MD -MP -MF .deps/hybrid.Tpo -c hybrid.c  -fno-common -DPIC -o .libs/hybrid.o\r\n"
       ]
      },
      {
       "output_type": "stream",
       "stream": "stdout",
       "text": [
        "libtool: compile:  gcc -DHAVE_CONFIG_H -I. -I.. -I.. -g -O2 -MT hybrid.lo -MD -MP -MF .deps/hybrid.Tpo -c hybrid.c -o hybrid.o >/dev/null 2>&1\r\n"
       ]
      },
      {
       "output_type": "stream",
       "stream": "stdout",
       "text": [
        "mv -f .deps/hybrid.Tpo .deps/hybrid.Plo\r\n",
        "/bin/sh ../libtool --tag=CC   --mode=compile gcc -DHAVE_CONFIG_H -I. -I.. -I..    -g -O2 -MT hybridj.lo -MD -MP -MF .deps/hybridj.Tpo -c -o hybridj.lo hybridj.c\r\n"
       ]
      },
      {
       "output_type": "stream",
       "stream": "stdout",
       "text": [
        "libtool: compile:  gcc -DHAVE_CONFIG_H -I. -I.. -I.. -g -O2 -MT hybridj.lo -MD -MP -MF .deps/hybridj.Tpo -c hybridj.c  -fno-common -DPIC -o .libs/hybridj.o\r\n"
       ]
      },
      {
       "output_type": "stream",
       "stream": "stdout",
       "text": [
        "libtool: compile:  gcc -DHAVE_CONFIG_H -I. -I.. -I.. -g -O2 -MT hybridj.lo -MD -MP -MF .deps/hybridj.Tpo -c hybridj.c -o hybridj.o >/dev/null 2>&1\r\n"
       ]
      },
      {
       "output_type": "stream",
       "stream": "stdout",
       "text": [
        "mv -f .deps/hybridj.Tpo .deps/hybridj.Plo\r\n",
        "/bin/sh ../libtool --tag=CC   --mode=link gcc  -g -O2   -o libgslmultiroots.la  fdjac.lo fsolver.lo fdfsolver.lo convergence.lo newton.lo gnewton.lo dnewton.lo broyden.lo hybrid.lo hybridj.lo  -lm \r\n"
       ]
      },
      {
       "output_type": "stream",
       "stream": "stdout",
       "text": [
        "libtool: link: ar cru .libs/libgslmultiroots.a .libs/fdjac.o .libs/fsolver.o .libs/fdfsolver.o .libs/convergence.o .libs/newton.o .libs/gnewton.o .libs/dnewton.o .libs/broyden.o .libs/hybrid.o .libs/hybridj.o \r\n"
       ]
      },
      {
       "output_type": "stream",
       "stream": "stdout",
       "text": [
        "libtool: link: ranlib .libs/libgslmultiroots.a\r\n"
       ]
      },
      {
       "output_type": "stream",
       "stream": "stdout",
       "text": [
        "libtool: link: ( cd \".libs\" && rm -f \"libgslmultiroots.la\" && ln -s \"../libgslmultiroots.la\" \"libgslmultiroots.la\" )\r\n",
        "Making all in min\r\n",
        "/bin/sh ../libtool --tag=CC   --mode=compile gcc -DHAVE_CONFIG_H -I. -I.. -I..    -g -O2 -MT fsolver.lo -MD -MP -MF .deps/fsolver.Tpo -c -o fsolver.lo fsolver.c\r\n"
       ]
      },
      {
       "output_type": "stream",
       "stream": "stdout",
       "text": [
        "libtool: compile:  gcc -DHAVE_CONFIG_H -I. -I.. -I.. -g -O2 -MT fsolver.lo -MD -MP -MF .deps/fsolver.Tpo -c fsolver.c  -fno-common -DPIC -o .libs/fsolver.o\r\n"
       ]
      },
      {
       "output_type": "stream",
       "stream": "stdout",
       "text": [
        "libtool: compile:  gcc -DHAVE_CONFIG_H -I. -I.. -I.. -g -O2 -MT fsolver.lo -MD -MP -MF .deps/fsolver.Tpo -c fsolver.c -o fsolver.o >/dev/null 2>&1\r\n"
       ]
      },
      {
       "output_type": "stream",
       "stream": "stdout",
       "text": [
        "mv -f .deps/fsolver.Tpo .deps/fsolver.Plo\r\n",
        "/bin/sh ../libtool --tag=CC   --mode=compile gcc -DHAVE_CONFIG_H -I. -I.. -I..    -g -O2 -MT golden.lo -MD -MP -MF .deps/golden.Tpo -c -o golden.lo golden.c\r\n"
       ]
      },
      {
       "output_type": "stream",
       "stream": "stdout",
       "text": [
        "libtool: compile:  gcc -DHAVE_CONFIG_H -I. -I.. -I.. -g -O2 -MT golden.lo -MD -MP -MF .deps/golden.Tpo -c golden.c  -fno-common -DPIC -o .libs/golden.o\r\n"
       ]
      },
      {
       "output_type": "stream",
       "stream": "stdout",
       "text": [
        "libtool: compile:  gcc -DHAVE_CONFIG_H -I. -I.. -I.. -g -O2 -MT golden.lo -MD -MP -MF .deps/golden.Tpo -c golden.c -o golden.o >/dev/null 2>&1\r\n"
       ]
      },
      {
       "output_type": "stream",
       "stream": "stdout",
       "text": [
        "mv -f .deps/golden.Tpo .deps/golden.Plo\r\n",
        "/bin/sh ../libtool --tag=CC   --mode=compile gcc -DHAVE_CONFIG_H -I. -I.. -I..    -g -O2 -MT brent.lo -MD -MP -MF .deps/brent.Tpo -c -o brent.lo brent.c\r\n"
       ]
      },
      {
       "output_type": "stream",
       "stream": "stdout",
       "text": [
        "libtool: compile:  gcc -DHAVE_CONFIG_H -I. -I.. -I.. -g -O2 -MT brent.lo -MD -MP -MF .deps/brent.Tpo -c brent.c  -fno-common -DPIC -o .libs/brent.o\r\n"
       ]
      },
      {
       "output_type": "stream",
       "stream": "stdout",
       "text": [
        "libtool: compile:  gcc -DHAVE_CONFIG_H -I. -I.. -I.. -g -O2 -MT brent.lo -MD -MP -MF .deps/brent.Tpo -c brent.c -o brent.o >/dev/null 2>&1\r\n"
       ]
      },
      {
       "output_type": "stream",
       "stream": "stdout",
       "text": [
        "mv -f .deps/brent.Tpo .deps/brent.Plo\r\n",
        "/bin/sh ../libtool --tag=CC   --mode=compile gcc -DHAVE_CONFIG_H -I. -I.. -I..    -g -O2 -MT convergence.lo -MD -MP -MF .deps/convergence.Tpo -c -o convergence.lo convergence.c\r\n"
       ]
      },
      {
       "output_type": "stream",
       "stream": "stdout",
       "text": [
        "libtool: compile:  gcc -DHAVE_CONFIG_H -I. -I.. -I.. -g -O2 -MT convergence.lo -MD -MP -MF .deps/convergence.Tpo -c convergence.c  -fno-common -DPIC -o .libs/convergence.o\r\n"
       ]
      },
      {
       "output_type": "stream",
       "stream": "stdout",
       "text": [
        "libtool: compile:  gcc -DHAVE_CONFIG_H -I. -I.. -I.. -g -O2 -MT convergence.lo -MD -MP -MF .deps/convergence.Tpo -c convergence.c -o convergence.o >/dev/null 2>&1\r\n"
       ]
      },
      {
       "output_type": "stream",
       "stream": "stdout",
       "text": [
        "mv -f .deps/convergence.Tpo .deps/convergence.Plo\r\n",
        "/bin/sh ../libtool --tag=CC   --mode=compile gcc -DHAVE_CONFIG_H -I. -I.. -I..    -g -O2 -MT bracketing.lo -MD -MP -MF .deps/bracketing.Tpo -c -o bracketing.lo bracketing.c\r\n",
        "libtool: compile:  gcc -DHAVE_CONFIG_H -I. -I.. -I.. -g -O2 -MT bracketing.lo -MD -MP -MF .deps/bracketing.Tpo -c bracketing.c  -fno-common -DPIC -o .libs/bracketing.o\r\n"
       ]
      },
      {
       "output_type": "stream",
       "stream": "stdout",
       "text": [
        "libtool: compile:  gcc -DHAVE_CONFIG_H -I. -I.. -I.. -g -O2 -MT bracketing.lo -MD -MP -MF .deps/bracketing.Tpo -c bracketing.c -o bracketing.o >/dev/null 2>&1\r\n"
       ]
      },
      {
       "output_type": "stream",
       "stream": "stdout",
       "text": [
        "mv -f .deps/bracketing.Tpo .deps/bracketing.Plo\r\n"
       ]
      },
      {
       "output_type": "stream",
       "stream": "stdout",
       "text": [
        "/bin/sh ../libtool --tag=CC   --mode=compile gcc -DHAVE_CONFIG_H -I. -I.. -I..    -g -O2 -MT quad_golden.lo -MD -MP -MF .deps/quad_golden.Tpo -c -o quad_golden.lo quad_golden.c\r\n",
        "libtool: compile:  gcc -DHAVE_CONFIG_H -I. -I.. -I.. -g -O2 -MT quad_golden.lo -MD -MP -MF .deps/quad_golden.Tpo -c quad_golden.c  -fno-common -DPIC -o .libs/quad_golden.o\r\n"
       ]
      },
      {
       "output_type": "stream",
       "stream": "stdout",
       "text": [
        "libtool: compile:  gcc -DHAVE_CONFIG_H -I. -I.. -I.. -g -O2 -MT quad_golden.lo -MD -MP -MF .deps/quad_golden.Tpo -c quad_golden.c -o quad_golden.o >/dev/null 2>&1\r\n"
       ]
      },
      {
       "output_type": "stream",
       "stream": "stdout",
       "text": [
        "mv -f .deps/quad_golden.Tpo .deps/quad_golden.Plo\r\n",
        "/bin/sh ../libtool --tag=CC   --mode=link gcc  -g -O2   -o libgslmin.la  fsolver.lo golden.lo brent.lo convergence.lo bracketing.lo quad_golden.lo  -lm \r\n"
       ]
      },
      {
       "output_type": "stream",
       "stream": "stdout",
       "text": [
        "libtool: link: ar cru .libs/libgslmin.a .libs/fsolver.o .libs/golden.o .libs/brent.o .libs/convergence.o .libs/bracketing.o .libs/quad_golden.o \r\n"
       ]
      },
      {
       "output_type": "stream",
       "stream": "stdout",
       "text": [
        "libtool: link: ranlib .libs/libgslmin.a\r\n",
        "libtool: link: ( cd \".libs\" && rm -f \"libgslmin.la\" && ln -s \"../libgslmin.la\" \"libgslmin.la\" )\r\n",
        "Making all in multimin\r\n"
       ]
      },
      {
       "output_type": "stream",
       "stream": "stdout",
       "text": [
        "/bin/sh ../libtool --tag=CC   --mode=compile gcc -DHAVE_CONFIG_H -I. -I.. -I..    -g -O2 -MT fdfminimizer.lo -MD -MP -MF .deps/fdfminimizer.Tpo -c -o fdfminimizer.lo fdfminimizer.c\r\n",
        "libtool: compile:  gcc -DHAVE_CONFIG_H -I. -I.. -I.. -g -O2 -MT fdfminimizer.lo -MD -MP -MF .deps/fdfminimizer.Tpo -c fdfminimizer.c  -fno-common -DPIC -o .libs/fdfminimizer.o\r\n"
       ]
      },
      {
       "output_type": "stream",
       "stream": "stdout",
       "text": [
        "libtool: compile:  gcc -DHAVE_CONFIG_H -I. -I.. -I.. -g -O2 -MT fdfminimizer.lo -MD -MP -MF .deps/fdfminimizer.Tpo -c fdfminimizer.c -o fdfminimizer.o >/dev/null 2>&1\r\n"
       ]
      },
      {
       "output_type": "stream",
       "stream": "stdout",
       "text": [
        "mv -f .deps/fdfminimizer.Tpo .deps/fdfminimizer.Plo\r\n",
        "/bin/sh ../libtool --tag=CC   --mode=compile gcc -DHAVE_CONFIG_H -I. -I.. -I..    -g -O2 -MT steepest_descent.lo -MD -MP -MF .deps/steepest_descent.Tpo -c -o steepest_descent.lo steepest_descent.c\r\n",
        "libtool: compile:  gcc -DHAVE_CONFIG_H -I. -I.. -I.. -g -O2 -MT steepest_descent.lo -MD -MP -MF .deps/steepest_descent.Tpo -c steepest_descent.c  -fno-common -DPIC -o .libs/steepest_descent.o\r\n"
       ]
      },
      {
       "output_type": "stream",
       "stream": "stdout",
       "text": [
        "libtool: compile:  gcc -DHAVE_CONFIG_H -I. -I.. -I.. -g -O2 -MT steepest_descent.lo -MD -MP -MF .deps/steepest_descent.Tpo -c steepest_descent.c -o steepest_descent.o >/dev/null 2>&1\r\n"
       ]
      },
      {
       "output_type": "stream",
       "stream": "stdout",
       "text": [
        "mv -f .deps/steepest_descent.Tpo .deps/steepest_descent.Plo\r\n",
        "/bin/sh ../libtool --tag=CC   --mode=compile gcc -DHAVE_CONFIG_H -I. -I.. -I..    -g -O2 -MT conjugate_fr.lo -MD -MP -MF .deps/conjugate_fr.Tpo -c -o conjugate_fr.lo conjugate_fr.c\r\n",
        "libtool: compile:  gcc -DHAVE_CONFIG_H -I. -I.. -I.. -g -O2 -MT conjugate_fr.lo -MD -MP -MF .deps/conjugate_fr.Tpo -c conjugate_fr.c  -fno-common -DPIC -o .libs/conjugate_fr.o\r\n"
       ]
      },
      {
       "output_type": "stream",
       "stream": "stdout",
       "text": [
        "libtool: compile:  gcc -DHAVE_CONFIG_H -I. -I.. -I.. -g -O2 -MT conjugate_fr.lo -MD -MP -MF .deps/conjugate_fr.Tpo -c conjugate_fr.c -o conjugate_fr.o >/dev/null 2>&1\r\n"
       ]
      },
      {
       "output_type": "stream",
       "stream": "stdout",
       "text": [
        "mv -f .deps/conjugate_fr.Tpo .deps/conjugate_fr.Plo\r\n",
        "/bin/sh ../libtool --tag=CC   --mode=compile gcc -DHAVE_CONFIG_H -I. -I.. -I..    -g -O2 -MT conjugate_pr.lo -MD -MP -MF .deps/conjugate_pr.Tpo -c -o conjugate_pr.lo conjugate_pr.c\r\n",
        "libtool: compile:  gcc -DHAVE_CONFIG_H -I. -I.. -I.. -g -O2 -MT conjugate_pr.lo -MD -MP -MF .deps/conjugate_pr.Tpo -c conjugate_pr.c  -fno-common -DPIC -o .libs/conjugate_pr.o\r\n"
       ]
      },
      {
       "output_type": "stream",
       "stream": "stdout",
       "text": [
        "libtool: compile:  gcc -DHAVE_CONFIG_H -I. -I.. -I.. -g -O2 -MT conjugate_pr.lo -MD -MP -MF .deps/conjugate_pr.Tpo -c conjugate_pr.c -o conjugate_pr.o >/dev/null 2>&1\r\n"
       ]
      },
      {
       "output_type": "stream",
       "stream": "stdout",
       "text": [
        "mv -f .deps/conjugate_pr.Tpo .deps/conjugate_pr.Plo\r\n"
       ]
      },
      {
       "output_type": "stream",
       "stream": "stdout",
       "text": [
        "/bin/sh ../libtool --tag=CC   --mode=compile gcc -DHAVE_CONFIG_H -I. -I.. -I..    -g -O2 -MT convergence.lo -MD -MP -MF .deps/convergence.Tpo -c -o convergence.lo convergence.c\r\n",
        "libtool: compile:  gcc -DHAVE_CONFIG_H -I. -I.. -I.. -g -O2 -MT convergence.lo -MD -MP -MF .deps/convergence.Tpo -c convergence.c  -fno-common -DPIC -o .libs/convergence.o\r\n"
       ]
      },
      {
       "output_type": "stream",
       "stream": "stdout",
       "text": [
        "libtool: compile:  gcc -DHAVE_CONFIG_H -I. -I.. -I.. -g -O2 -MT convergence.lo -MD -MP -MF .deps/convergence.Tpo -c convergence.c -o convergence.o >/dev/null 2>&1\r\n"
       ]
      },
      {
       "output_type": "stream",
       "stream": "stdout",
       "text": [
        "mv -f .deps/convergence.Tpo .deps/convergence.Plo\r\n",
        "/bin/sh ../libtool --tag=CC   --mode=compile gcc -DHAVE_CONFIG_H -I. -I.. -I..    -g -O2 -MT diff.lo -MD -MP -MF .deps/diff.Tpo -c -o diff.lo diff.c\r\n"
       ]
      },
      {
       "output_type": "stream",
       "stream": "stdout",
       "text": [
        "libtool: compile:  gcc -DHAVE_CONFIG_H -I. -I.. -I.. -g -O2 -MT diff.lo -MD -MP -MF .deps/diff.Tpo -c diff.c  -fno-common -DPIC -o .libs/diff.o\r\n"
       ]
      },
      {
       "output_type": "stream",
       "stream": "stdout",
       "text": [
        "libtool: compile:  gcc -DHAVE_CONFIG_H -I. -I.. -I.. -g -O2 -MT diff.lo -MD -MP -MF .deps/diff.Tpo -c diff.c -o diff.o >/dev/null 2>&1\r\n"
       ]
      },
      {
       "output_type": "stream",
       "stream": "stdout",
       "text": [
        "mv -f .deps/diff.Tpo .deps/diff.Plo\r\n"
       ]
      },
      {
       "output_type": "stream",
       "stream": "stdout",
       "text": [
        "/bin/sh ../libtool --tag=CC   --mode=compile gcc -DHAVE_CONFIG_H -I. -I.. -I..    -g -O2 -MT vector_bfgs.lo -MD -MP -MF .deps/vector_bfgs.Tpo -c -o vector_bfgs.lo vector_bfgs.c\r\n",
        "libtool: compile:  gcc -DHAVE_CONFIG_H -I. -I.. -I.. -g -O2 -MT vector_bfgs.lo -MD -MP -MF .deps/vector_bfgs.Tpo -c vector_bfgs.c  -fno-common -DPIC -o .libs/vector_bfgs.o\r\n"
       ]
      },
      {
       "output_type": "stream",
       "stream": "stdout",
       "text": [
        "libtool: compile:  gcc -DHAVE_CONFIG_H -I. -I.. -I.. -g -O2 -MT vector_bfgs.lo -MD -MP -MF .deps/vector_bfgs.Tpo -c vector_bfgs.c -o vector_bfgs.o >/dev/null 2>&1\r\n"
       ]
      },
      {
       "output_type": "stream",
       "stream": "stdout",
       "text": [
        "mv -f .deps/vector_bfgs.Tpo .deps/vector_bfgs.Plo\r\n",
        "/bin/sh ../libtool --tag=CC   --mode=compile gcc -DHAVE_CONFIG_H -I. -I.. -I..    -g -O2 -MT vector_bfgs2.lo -MD -MP -MF .deps/vector_bfgs2.Tpo -c -o vector_bfgs2.lo vector_bfgs2.c\r\n"
       ]
      },
      {
       "output_type": "stream",
       "stream": "stdout",
       "text": [
        "libtool: compile:  gcc -DHAVE_CONFIG_H -I. -I.. -I.. -g -O2 -MT vector_bfgs2.lo -MD -MP -MF .deps/vector_bfgs2.Tpo -c vector_bfgs2.c  -fno-common -DPIC -o .libs/vector_bfgs2.o\r\n"
       ]
      },
      {
       "output_type": "stream",
       "stream": "stdout",
       "text": [
        "libtool: compile:  gcc -DHAVE_CONFIG_H -I. -I.. -I.. -g -O2 -MT vector_bfgs2.lo -MD -MP -MF .deps/vector_bfgs2.Tpo -c vector_bfgs2.c -o vector_bfgs2.o >/dev/null 2>&1\r\n"
       ]
      },
      {
       "output_type": "stream",
       "stream": "stdout",
       "text": [
        "mv -f .deps/vector_bfgs2.Tpo .deps/vector_bfgs2.Plo\r\n",
        "/bin/sh ../libtool --tag=CC   --mode=compile gcc -DHAVE_CONFIG_H -I. -I.. -I..    -g -O2 -MT fminimizer.lo -MD -MP -MF .deps/fminimizer.Tpo -c -o fminimizer.lo fminimizer.c\r\n"
       ]
      },
      {
       "output_type": "stream",
       "stream": "stdout",
       "text": [
        "libtool: compile:  gcc -DHAVE_CONFIG_H -I. -I.. -I.. -g -O2 -MT fminimizer.lo -MD -MP -MF .deps/fminimizer.Tpo -c fminimizer.c  -fno-common -DPIC -o .libs/fminimizer.o\r\n"
       ]
      },
      {
       "output_type": "stream",
       "stream": "stdout",
       "text": [
        "libtool: compile:  gcc -DHAVE_CONFIG_H -I. -I.. -I.. -g -O2 -MT fminimizer.lo -MD -MP -MF .deps/fminimizer.Tpo -c fminimizer.c -o fminimizer.o >/dev/null 2>&1\r\n"
       ]
      },
      {
       "output_type": "stream",
       "stream": "stdout",
       "text": [
        "mv -f .deps/fminimizer.Tpo .deps/fminimizer.Plo\r\n",
        "/bin/sh ../libtool --tag=CC   --mode=compile gcc -DHAVE_CONFIG_H -I. -I.. -I..    -g -O2 -MT simplex.lo -MD -MP -MF .deps/simplex.Tpo -c -o simplex.lo simplex.c\r\n",
        "libtool: compile:  gcc -DHAVE_CONFIG_H -I. -I.. -I.. -g -O2 -MT simplex.lo -MD -MP -MF .deps/simplex.Tpo -c simplex.c  -fno-common -DPIC -o .libs/simplex.o\r\n"
       ]
      },
      {
       "output_type": "stream",
       "stream": "stdout",
       "text": [
        "libtool: compile:  gcc -DHAVE_CONFIG_H -I. -I.. -I.. -g -O2 -MT simplex.lo -MD -MP -MF .deps/simplex.Tpo -c simplex.c -o simplex.o >/dev/null 2>&1\r\n"
       ]
      },
      {
       "output_type": "stream",
       "stream": "stdout",
       "text": [
        "mv -f .deps/simplex.Tpo .deps/simplex.Plo\r\n",
        "/bin/sh ../libtool --tag=CC   --mode=compile gcc -DHAVE_CONFIG_H -I. -I.. -I..    -g -O2 -MT simplex2.lo -MD -MP -MF .deps/simplex2.Tpo -c -o simplex2.lo simplex2.c\r\n",
        "libtool: compile:  gcc -DHAVE_CONFIG_H -I. -I.. -I.. -g -O2 -MT simplex2.lo -MD -MP -MF .deps/simplex2.Tpo -c simplex2.c  -fno-common -DPIC -o .libs/simplex2.o\r\n"
       ]
      },
      {
       "output_type": "stream",
       "stream": "stdout",
       "text": [
        "libtool: compile:  gcc -DHAVE_CONFIG_H -I. -I.. -I.. -g -O2 -MT simplex2.lo -MD -MP -MF .deps/simplex2.Tpo -c simplex2.c -o simplex2.o >/dev/null 2>&1\r\n"
       ]
      },
      {
       "output_type": "stream",
       "stream": "stdout",
       "text": [
        "mv -f .deps/simplex2.Tpo .deps/simplex2.Plo\r\n",
        "/bin/sh ../libtool --tag=CC   --mode=link gcc  -g -O2   -o libgslmultimin.la  fdfminimizer.lo steepest_descent.lo conjugate_fr.lo conjugate_pr.lo convergence.lo diff.lo vector_bfgs.lo vector_bfgs2.lo fminimizer.lo simplex.lo simplex2.lo  -lm \r\n"
       ]
      },
      {
       "output_type": "stream",
       "stream": "stdout",
       "text": [
        "libtool: link: ar cru .libs/libgslmultimin.a .libs/fdfminimizer.o .libs/steepest_descent.o .libs/conjugate_fr.o .libs/conjugate_pr.o .libs/convergence.o .libs/diff.o .libs/vector_bfgs.o .libs/vector_bfgs2.o .libs/fminimizer.o .libs/simplex.o .libs/simplex2.o \r\n"
       ]
      },
      {
       "output_type": "stream",
       "stream": "stdout",
       "text": [
        "libtool: link: ranlib .libs/libgslmultimin.a\r\n",
        "libtool: link: ( cd \".libs\" && rm -f \"libgslmultimin.la\" && ln -s \"../libgslmultimin.la\" \"libgslmultimin.la\" )\r\n",
        "Making all in monte\r\n"
       ]
      },
      {
       "output_type": "stream",
       "stream": "stdout",
       "text": [
        "/bin/sh ../libtool --tag=CC   --mode=compile gcc -DHAVE_CONFIG_H -I. -I.. -I..    -g -O2 -MT miser.lo -MD -MP -MF .deps/miser.Tpo -c -o miser.lo miser.c\r\n",
        "libtool: compile:  gcc -DHAVE_CONFIG_H -I. -I.. -I.. -g -O2 -MT miser.lo -MD -MP -MF .deps/miser.Tpo -c miser.c  -fno-common -DPIC -o .libs/miser.o\r\n"
       ]
      },
      {
       "output_type": "stream",
       "stream": "stdout",
       "text": [
        "libtool: compile:  gcc -DHAVE_CONFIG_H -I. -I.. -I.. -g -O2 -MT miser.lo -MD -MP -MF .deps/miser.Tpo -c miser.c -o miser.o >/dev/null 2>&1\r\n"
       ]
      },
      {
       "output_type": "stream",
       "stream": "stdout",
       "text": [
        "mv -f .deps/miser.Tpo .deps/miser.Plo\r\n",
        "/bin/sh ../libtool --tag=CC   --mode=compile gcc -DHAVE_CONFIG_H -I. -I.. -I..    -g -O2 -MT plain.lo -MD -MP -MF .deps/plain.Tpo -c -o plain.lo plain.c\r\n",
        "libtool: compile:  gcc -DHAVE_CONFIG_H -I. -I.. -I.. -g -O2 -MT plain.lo -MD -MP -MF .deps/plain.Tpo -c plain.c  -fno-common -DPIC -o .libs/plain.o\r\n"
       ]
      },
      {
       "output_type": "stream",
       "stream": "stdout",
       "text": [
        "libtool: compile:  gcc -DHAVE_CONFIG_H -I. -I.. -I.. -g -O2 -MT plain.lo -MD -MP -MF .deps/plain.Tpo -c plain.c -o plain.o >/dev/null 2>&1\r\n"
       ]
      },
      {
       "output_type": "stream",
       "stream": "stdout",
       "text": [
        "mv -f .deps/plain.Tpo .deps/plain.Plo\r\n",
        "/bin/sh ../libtool --tag=CC   --mode=compile gcc -DHAVE_CONFIG_H -I. -I.. -I..    -g -O2 -MT vegas.lo -MD -MP -MF .deps/vegas.Tpo -c -o vegas.lo vegas.c\r\n"
       ]
      },
      {
       "output_type": "stream",
       "stream": "stdout",
       "text": [
        "libtool: compile:  gcc -DHAVE_CONFIG_H -I. -I.. -I.. -g -O2 -MT vegas.lo -MD -MP -MF .deps/vegas.Tpo -c vegas.c  -fno-common -DPIC -o .libs/vegas.o\r\n"
       ]
      },
      {
       "output_type": "stream",
       "stream": "stdout",
       "text": [
        "libtool: compile:  gcc -DHAVE_CONFIG_H -I. -I.. -I.. -g -O2 -MT vegas.lo -MD -MP -MF .deps/vegas.Tpo -c vegas.c -o vegas.o >/dev/null 2>&1\r\n"
       ]
      },
      {
       "output_type": "stream",
       "stream": "stdout",
       "text": [
        "mv -f .deps/vegas.Tpo .deps/vegas.Plo\r\n",
        "/bin/sh ../libtool --tag=CC   --mode=link gcc  -g -O2   -o libgslmonte.la  miser.lo plain.lo vegas.lo  -lm \r\n"
       ]
      },
      {
       "output_type": "stream",
       "stream": "stdout",
       "text": [
        "libtool: link: ar cru .libs/libgslmonte.a .libs/miser.o .libs/plain.o .libs/vegas.o \r\n",
        "libtool: link: ranlib .libs/libgslmonte.a\r\n"
       ]
      },
      {
       "output_type": "stream",
       "stream": "stdout",
       "text": [
        "libtool: link: ( cd \".libs\" && rm -f \"libgslmonte.la\" && ln -s \"../libgslmonte.la\" \"libgslmonte.la\" )\r\n",
        "Making all in ntuple\r\n"
       ]
      },
      {
       "output_type": "stream",
       "stream": "stdout",
       "text": [
        "/bin/sh ../libtool --tag=CC   --mode=compile gcc -DHAVE_CONFIG_H -I. -I.. -I..    -g -O2 -MT ntuple.lo -MD -MP -MF .deps/ntuple.Tpo -c -o ntuple.lo ntuple.c\r\n",
        "libtool: compile:  gcc -DHAVE_CONFIG_H -I. -I.. -I.. -g -O2 -MT ntuple.lo -MD -MP -MF .deps/ntuple.Tpo -c ntuple.c  -fno-common -DPIC -o .libs/ntuple.o\r\n"
       ]
      },
      {
       "output_type": "stream",
       "stream": "stdout",
       "text": [
        "libtool: compile:  gcc -DHAVE_CONFIG_H -I. -I.. -I.. -g -O2 -MT ntuple.lo -MD -MP -MF .deps/ntuple.Tpo -c ntuple.c -o ntuple.o >/dev/null 2>&1\r\n"
       ]
      },
      {
       "output_type": "stream",
       "stream": "stdout",
       "text": [
        "mv -f .deps/ntuple.Tpo .deps/ntuple.Plo\r\n",
        "/bin/sh ../libtool --tag=CC   --mode=link gcc  -g -O2   -o libgslntuple.la  ntuple.lo  -lm \r\n"
       ]
      },
      {
       "output_type": "stream",
       "stream": "stdout",
       "text": [
        "libtool: link: ar cru .libs/libgslntuple.a .libs/ntuple.o \r\n"
       ]
      },
      {
       "output_type": "stream",
       "stream": "stdout",
       "text": [
        "libtool: link: ranlib .libs/libgslntuple.a\r\n",
        "libtool: link: ( cd \".libs\" && rm -f \"libgslntuple.la\" && ln -s \"../libgslntuple.la\" \"libgslntuple.la\" )\r\n",
        "Making all in diff\r\n"
       ]
      },
      {
       "output_type": "stream",
       "stream": "stdout",
       "text": [
        "/bin/sh ../libtool --tag=CC   --mode=compile gcc -DHAVE_CONFIG_H -I. -I.. -I..    -g -O2 -MT diff.lo -MD -MP -MF .deps/diff.Tpo -c -o diff.lo diff.c\r\n",
        "libtool: compile:  gcc -DHAVE_CONFIG_H -I. -I.. -I.. -g -O2 -MT diff.lo -MD -MP -MF .deps/diff.Tpo -c diff.c  -fno-common -DPIC -o .libs/diff.o\r\n"
       ]
      },
      {
       "output_type": "stream",
       "stream": "stdout",
       "text": [
        "libtool: compile:  gcc -DHAVE_CONFIG_H -I. -I.. -I.. -g -O2 -MT diff.lo -MD -MP -MF .deps/diff.Tpo -c diff.c -o diff.o >/dev/null 2>&1\r\n"
       ]
      },
      {
       "output_type": "stream",
       "stream": "stdout",
       "text": [
        "mv -f .deps/diff.Tpo .deps/diff.Plo\r\n",
        "/bin/sh ../libtool --tag=CC   --mode=link gcc  -g -O2   -o libgsldiff.la  diff.lo  -lm \r\n"
       ]
      },
      {
       "output_type": "stream",
       "stream": "stdout",
       "text": [
        "libtool: link: ar cru .libs/libgsldiff.a .libs/diff.o \r\n",
        "libtool: link: ranlib .libs/libgsldiff.a\r\n"
       ]
      },
      {
       "output_type": "stream",
       "stream": "stdout",
       "text": [
        "libtool: link: ( cd \".libs\" && rm -f \"libgsldiff.la\" && ln -s \"../libgsldiff.la\" \"libgsldiff.la\" )\r\n",
        "Making all in deriv\r\n",
        "/bin/sh ../libtool --tag=CC   --mode=compile gcc -DHAVE_CONFIG_H -I. -I.. -I..    -g -O2 -MT deriv.lo -MD -MP -MF .deps/deriv.Tpo -c -o deriv.lo deriv.c\r\n",
        "libtool: compile:  gcc -DHAVE_CONFIG_H -I. -I.. -I.. -g -O2 -MT deriv.lo -MD -MP -MF .deps/deriv.Tpo -c deriv.c  -fno-common -DPIC -o .libs/deriv.o\r\n"
       ]
      },
      {
       "output_type": "stream",
       "stream": "stdout",
       "text": [
        "libtool: compile:  gcc -DHAVE_CONFIG_H -I. -I.. -I.. -g -O2 -MT deriv.lo -MD -MP -MF .deps/deriv.Tpo -c deriv.c -o deriv.o >/dev/null 2>&1\r\n"
       ]
      },
      {
       "output_type": "stream",
       "stream": "stdout",
       "text": [
        "mv -f .deps/deriv.Tpo .deps/deriv.Plo\r\n",
        "/bin/sh ../libtool --tag=CC   --mode=link gcc  -g -O2   -o libgslderiv.la  deriv.lo  -lm \r\n"
       ]
      },
      {
       "output_type": "stream",
       "stream": "stdout",
       "text": [
        "libtool: link: ar cru .libs/libgslderiv.a .libs/deriv.o \r\n",
        "libtool: link: ranlib .libs/libgslderiv.a\r\n"
       ]
      },
      {
       "output_type": "stream",
       "stream": "stdout",
       "text": [
        "libtool: link: ( cd \".libs\" && rm -f \"libgslderiv.la\" && ln -s \"../libgslderiv.la\" \"libgslderiv.la\" )\r\n",
        "Making all in cdf\r\n",
        "/bin/sh ../libtool --tag=CC   --mode=compile gcc -DHAVE_CONFIG_H -I. -I.. -I..    -g -O2 -MT beta.lo -MD -MP -MF .deps/beta.Tpo -c -o beta.lo beta.c\r\n"
       ]
      },
      {
       "output_type": "stream",
       "stream": "stdout",
       "text": [
        "libtool: compile:  gcc -DHAVE_CONFIG_H -I. -I.. -I.. -g -O2 -MT beta.lo -MD -MP -MF .deps/beta.Tpo -c beta.c  -fno-common -DPIC -o .libs/beta.o\r\n"
       ]
      },
      {
       "output_type": "stream",
       "stream": "stdout",
       "text": [
        "libtool: compile:  gcc -DHAVE_CONFIG_H -I. -I.. -I.. -g -O2 -MT beta.lo -MD -MP -MF .deps/beta.Tpo -c beta.c -o beta.o >/dev/null 2>&1\r\n"
       ]
      },
      {
       "output_type": "stream",
       "stream": "stdout",
       "text": [
        "mv -f .deps/beta.Tpo .deps/beta.Plo\r\n",
        "/bin/sh ../libtool --tag=CC   --mode=compile gcc -DHAVE_CONFIG_H -I. -I.. -I..    -g -O2 -MT betainv.lo -MD -MP -MF .deps/betainv.Tpo -c -o betainv.lo betainv.c\r\n",
        "libtool: compile:  gcc -DHAVE_CONFIG_H -I. -I.. -I.. -g -O2 -MT betainv.lo -MD -MP -MF .deps/betainv.Tpo -c betainv.c  -fno-common -DPIC -o .libs/betainv.o\r\n"
       ]
      },
      {
       "output_type": "stream",
       "stream": "stdout",
       "text": [
        "libtool: compile:  gcc -DHAVE_CONFIG_H -I. -I.. -I.. -g -O2 -MT betainv.lo -MD -MP -MF .deps/betainv.Tpo -c betainv.c -o betainv.o >/dev/null 2>&1\r\n"
       ]
      },
      {
       "output_type": "stream",
       "stream": "stdout",
       "text": [
        "mv -f .deps/betainv.Tpo .deps/betainv.Plo\r\n",
        "/bin/sh ../libtool --tag=CC   --mode=compile gcc -DHAVE_CONFIG_H -I. -I.. -I..    -g -O2 -MT cauchy.lo -MD -MP -MF .deps/cauchy.Tpo -c -o cauchy.lo cauchy.c\r\n",
        "libtool: compile:  gcc -DHAVE_CONFIG_H -I. -I.. -I.. -g -O2 -MT cauchy.lo -MD -MP -MF .deps/cauchy.Tpo -c cauchy.c  -fno-common -DPIC -o .libs/cauchy.o\r\n"
       ]
      },
      {
       "output_type": "stream",
       "stream": "stdout",
       "text": [
        "libtool: compile:  gcc -DHAVE_CONFIG_H -I. -I.. -I.. -g -O2 -MT cauchy.lo -MD -MP -MF .deps/cauchy.Tpo -c cauchy.c -o cauchy.o >/dev/null 2>&1\r\n"
       ]
      },
      {
       "output_type": "stream",
       "stream": "stdout",
       "text": [
        "mv -f .deps/cauchy.Tpo .deps/cauchy.Plo\r\n",
        "/bin/sh ../libtool --tag=CC   --mode=compile gcc -DHAVE_CONFIG_H -I. -I.. -I..    -g -O2 -MT cauchyinv.lo -MD -MP -MF .deps/cauchyinv.Tpo -c -o cauchyinv.lo cauchyinv.c\r\n"
       ]
      },
      {
       "output_type": "stream",
       "stream": "stdout",
       "text": [
        "libtool: compile:  gcc -DHAVE_CONFIG_H -I. -I.. -I.. -g -O2 -MT cauchyinv.lo -MD -MP -MF .deps/cauchyinv.Tpo -c cauchyinv.c  -fno-common -DPIC -o .libs/cauchyinv.o\r\n",
        "libtool: compile:  gcc -DHAVE_CONFIG_H -I. -I.. -I.. -g -O2 -MT cauchyinv.lo -MD -MP -MF .deps/cauchyinv.Tpo -c cauchyinv.c -o cauchyinv.o >/dev/null 2>&1\r\n"
       ]
      },
      {
       "output_type": "stream",
       "stream": "stdout",
       "text": [
        "mv -f .deps/cauchyinv.Tpo .deps/cauchyinv.Plo\r\n",
        "/bin/sh ../libtool --tag=CC   --mode=compile gcc -DHAVE_CONFIG_H -I. -I.. -I..    -g -O2 -MT chisq.lo -MD -MP -MF .deps/chisq.Tpo -c -o chisq.lo chisq.c\r\n",
        "libtool: compile:  gcc -DHAVE_CONFIG_H -I. -I.. -I.. -g -O2 -MT chisq.lo -MD -MP -MF .deps/chisq.Tpo -c chisq.c  -fno-common -DPIC -o .libs/chisq.o\r\n"
       ]
      },
      {
       "output_type": "stream",
       "stream": "stdout",
       "text": [
        "libtool: compile:  gcc -DHAVE_CONFIG_H -I. -I.. -I.. -g -O2 -MT chisq.lo -MD -MP -MF .deps/chisq.Tpo -c chisq.c -o chisq.o >/dev/null 2>&1\r\n",
        "mv -f .deps/chisq.Tpo .deps/chisq.Plo\r\n",
        "/bin/sh ../libtool --tag=CC   --mode=compile gcc -DHAVE_CONFIG_H -I. -I.. -I..    -g -O2 -MT chisqinv.lo -MD -MP -MF .deps/chisqinv.Tpo -c -o chisqinv.lo chisqinv.c\r\n"
       ]
      },
      {
       "output_type": "stream",
       "stream": "stdout",
       "text": [
        "libtool: compile:  gcc -DHAVE_CONFIG_H -I. -I.. -I.. -g -O2 -MT chisqinv.lo -MD -MP -MF .deps/chisqinv.Tpo -c chisqinv.c  -fno-common -DPIC -o .libs/chisqinv.o\r\n"
       ]
      },
      {
       "output_type": "stream",
       "stream": "stdout",
       "text": [
        "libtool: compile:  gcc -DHAVE_CONFIG_H -I. -I.. -I.. -g -O2 -MT chisqinv.lo -MD -MP -MF .deps/chisqinv.Tpo -c chisqinv.c -o chisqinv.o >/dev/null 2>&1\r\n",
        "mv -f .deps/chisqinv.Tpo .deps/chisqinv.Plo\r\n",
        "/bin/sh ../libtool --tag=CC   --mode=compile gcc -DHAVE_CONFIG_H -I. -I.. -I..    -g -O2 -MT exponential.lo -MD -MP -MF .deps/exponential.Tpo -c -o exponential.lo exponential.c\r\n"
       ]
      },
      {
       "output_type": "stream",
       "stream": "stdout",
       "text": [
        "libtool: compile:  gcc -DHAVE_CONFIG_H -I. -I.. -I.. -g -O2 -MT exponential.lo -MD -MP -MF .deps/exponential.Tpo -c exponential.c  -fno-common -DPIC -o .libs/exponential.o\r\n"
       ]
      },
      {
       "output_type": "stream",
       "stream": "stdout",
       "text": [
        "libtool: compile:  gcc -DHAVE_CONFIG_H -I. -I.. -I.. -g -O2 -MT exponential.lo -MD -MP -MF .deps/exponential.Tpo -c exponential.c -o exponential.o >/dev/null 2>&1\r\n"
       ]
      },
      {
       "output_type": "stream",
       "stream": "stdout",
       "text": [
        "mv -f .deps/exponential.Tpo .deps/exponential.Plo\r\n",
        "/bin/sh ../libtool --tag=CC   --mode=compile gcc -DHAVE_CONFIG_H -I. -I.. -I..    -g -O2 -MT exponentialinv.lo -MD -MP -MF .deps/exponentialinv.Tpo -c -o exponentialinv.lo exponentialinv.c\r\n",
        "libtool: compile:  gcc -DHAVE_CONFIG_H -I. -I.. -I.. -g -O2 -MT exponentialinv.lo -MD -MP -MF .deps/exponentialinv.Tpo -c exponentialinv.c  -fno-common -DPIC -o .libs/exponentialinv.o\r\n"
       ]
      },
      {
       "output_type": "stream",
       "stream": "stdout",
       "text": [
        "libtool: compile:  gcc -DHAVE_CONFIG_H -I. -I.. -I.. -g -O2 -MT exponentialinv.lo -MD -MP -MF .deps/exponentialinv.Tpo -c exponentialinv.c -o exponentialinv.o >/dev/null 2>&1\r\n"
       ]
      },
      {
       "output_type": "stream",
       "stream": "stdout",
       "text": [
        "mv -f .deps/exponentialinv.Tpo .deps/exponentialinv.Plo\r\n",
        "/bin/sh ../libtool --tag=CC   --mode=compile gcc -DHAVE_CONFIG_H -I. -I.. -I..    -g -O2 -MT exppow.lo -MD -MP -MF .deps/exppow.Tpo -c -o exppow.lo exppow.c\r\n",
        "libtool: compile:  gcc -DHAVE_CONFIG_H -I. -I.. -I.. -g -O2 -MT exppow.lo -MD -MP -MF .deps/exppow.Tpo -c exppow.c  -fno-common -DPIC -o .libs/exppow.o\r\n"
       ]
      },
      {
       "output_type": "stream",
       "stream": "stdout",
       "text": [
        "libtool: compile:  gcc -DHAVE_CONFIG_H -I. -I.. -I.. -g -O2 -MT exppow.lo -MD -MP -MF .deps/exppow.Tpo -c exppow.c -o exppow.o >/dev/null 2>&1\r\n"
       ]
      },
      {
       "output_type": "stream",
       "stream": "stdout",
       "text": [
        "mv -f .deps/exppow.Tpo .deps/exppow.Plo\r\n",
        "/bin/sh ../libtool --tag=CC   --mode=compile gcc -DHAVE_CONFIG_H -I. -I.. -I..    -g -O2 -MT fdist.lo -MD -MP -MF .deps/fdist.Tpo -c -o fdist.lo fdist.c\r\n"
       ]
      },
      {
       "output_type": "stream",
       "stream": "stdout",
       "text": [
        "libtool: compile:  gcc -DHAVE_CONFIG_H -I. -I.. -I.. -g -O2 -MT fdist.lo -MD -MP -MF .deps/fdist.Tpo -c fdist.c  -fno-common -DPIC -o .libs/fdist.o\r\n"
       ]
      },
      {
       "output_type": "stream",
       "stream": "stdout",
       "text": [
        "libtool: compile:  gcc -DHAVE_CONFIG_H -I. -I.. -I.. -g -O2 -MT fdist.lo -MD -MP -MF .deps/fdist.Tpo -c fdist.c -o fdist.o >/dev/null 2>&1\r\n"
       ]
      },
      {
       "output_type": "stream",
       "stream": "stdout",
       "text": [
        "mv -f .deps/fdist.Tpo .deps/fdist.Plo\r\n",
        "/bin/sh ../libtool --tag=CC   --mode=compile gcc -DHAVE_CONFIG_H -I. -I.. -I..    -g -O2 -MT fdistinv.lo -MD -MP -MF .deps/fdistinv.Tpo -c -o fdistinv.lo fdistinv.c\r\n"
       ]
      },
      {
       "output_type": "stream",
       "stream": "stdout",
       "text": [
        "libtool: compile:  gcc -DHAVE_CONFIG_H -I. -I.. -I.. -g -O2 -MT fdistinv.lo -MD -MP -MF .deps/fdistinv.Tpo -c fdistinv.c  -fno-common -DPIC -o .libs/fdistinv.o\r\n"
       ]
      },
      {
       "output_type": "stream",
       "stream": "stdout",
       "text": [
        "libtool: compile:  gcc -DHAVE_CONFIG_H -I. -I.. -I.. -g -O2 -MT fdistinv.lo -MD -MP -MF .deps/fdistinv.Tpo -c fdistinv.c -o fdistinv.o >/dev/null 2>&1\r\n"
       ]
      },
      {
       "output_type": "stream",
       "stream": "stdout",
       "text": [
        "mv -f .deps/fdistinv.Tpo .deps/fdistinv.Plo\r\n",
        "/bin/sh ../libtool --tag=CC   --mode=compile gcc -DHAVE_CONFIG_H -I. -I.. -I..    -g -O2 -MT flat.lo -MD -MP -MF .deps/flat.Tpo -c -o flat.lo flat.c\r\n"
       ]
      },
      {
       "output_type": "stream",
       "stream": "stdout",
       "text": [
        "libtool: compile:  gcc -DHAVE_CONFIG_H -I. -I.. -I.. -g -O2 -MT flat.lo -MD -MP -MF .deps/flat.Tpo -c flat.c  -fno-common -DPIC -o .libs/flat.o\r\n",
        "libtool: compile:  gcc -DHAVE_CONFIG_H -I. -I.. -I.. -g -O2 -MT flat.lo -MD -MP -MF .deps/flat.Tpo -c flat.c -o flat.o >/dev/null 2>&1\r\n"
       ]
      },
      {
       "output_type": "stream",
       "stream": "stdout",
       "text": [
        "mv -f .deps/flat.Tpo .deps/flat.Plo\r\n",
        "/bin/sh ../libtool --tag=CC   --mode=compile gcc -DHAVE_CONFIG_H -I. -I.. -I..    -g -O2 -MT flatinv.lo -MD -MP -MF .deps/flatinv.Tpo -c -o flatinv.lo flatinv.c\r\n"
       ]
      },
      {
       "output_type": "stream",
       "stream": "stdout",
       "text": [
        "libtool: compile:  gcc -DHAVE_CONFIG_H -I. -I.. -I.. -g -O2 -MT flatinv.lo -MD -MP -MF .deps/flatinv.Tpo -c flatinv.c  -fno-common -DPIC -o .libs/flatinv.o\r\n"
       ]
      },
      {
       "output_type": "stream",
       "stream": "stdout",
       "text": [
        "libtool: compile:  gcc -DHAVE_CONFIG_H -I. -I.. -I.. -g -O2 -MT flatinv.lo -MD -MP -MF .deps/flatinv.Tpo -c flatinv.c -o flatinv.o >/dev/null 2>&1\r\n",
        "mv -f .deps/flatinv.Tpo .deps/flatinv.Plo\r\n",
        "/bin/sh ../libtool --tag=CC   --mode=compile gcc -DHAVE_CONFIG_H -I. -I.. -I..    -g -O2 -MT gamma.lo -MD -MP -MF .deps/gamma.Tpo -c -o gamma.lo gamma.c\r\n"
       ]
      },
      {
       "output_type": "stream",
       "stream": "stdout",
       "text": [
        "libtool: compile:  gcc -DHAVE_CONFIG_H -I. -I.. -I.. -g -O2 -MT gamma.lo -MD -MP -MF .deps/gamma.Tpo -c gamma.c  -fno-common -DPIC -o .libs/gamma.o\r\n"
       ]
      },
      {
       "output_type": "stream",
       "stream": "stdout",
       "text": [
        "libtool: compile:  gcc -DHAVE_CONFIG_H -I. -I.. -I.. -g -O2 -MT gamma.lo -MD -MP -MF .deps/gamma.Tpo -c gamma.c -o gamma.o >/dev/null 2>&1\r\n"
       ]
      },
      {
       "output_type": "stream",
       "stream": "stdout",
       "text": [
        "mv -f .deps/gamma.Tpo .deps/gamma.Plo\r\n",
        "/bin/sh ../libtool --tag=CC   --mode=compile gcc -DHAVE_CONFIG_H -I. -I.. -I..    -g -O2 -MT gammainv.lo -MD -MP -MF .deps/gammainv.Tpo -c -o gammainv.lo gammainv.c\r\n",
        "libtool: compile:  gcc -DHAVE_CONFIG_H -I. -I.. -I.. -g -O2 -MT gammainv.lo -MD -MP -MF .deps/gammainv.Tpo -c gammainv.c  -fno-common -DPIC -o .libs/gammainv.o\r\n"
       ]
      },
      {
       "output_type": "stream",
       "stream": "stdout",
       "text": [
        "libtool: compile:  gcc -DHAVE_CONFIG_H -I. -I.. -I.. -g -O2 -MT gammainv.lo -MD -MP -MF .deps/gammainv.Tpo -c gammainv.c -o gammainv.o >/dev/null 2>&1\r\n"
       ]
      },
      {
       "output_type": "stream",
       "stream": "stdout",
       "text": [
        "mv -f .deps/gammainv.Tpo .deps/gammainv.Plo\r\n",
        "/bin/sh ../libtool --tag=CC   --mode=compile gcc -DHAVE_CONFIG_H -I. -I.. -I..    -g -O2 -MT gauss.lo -MD -MP -MF .deps/gauss.Tpo -c -o gauss.lo gauss.c\r\n",
        "libtool: compile:  gcc -DHAVE_CONFIG_H -I. -I.. -I.. -g -O2 -MT gauss.lo -MD -MP -MF .deps/gauss.Tpo -c gauss.c  -fno-common -DPIC -o .libs/gauss.o\r\n"
       ]
      },
      {
       "output_type": "stream",
       "stream": "stdout",
       "text": [
        "libtool: compile:  gcc -DHAVE_CONFIG_H -I. -I.. -I.. -g -O2 -MT gauss.lo -MD -MP -MF .deps/gauss.Tpo -c gauss.c -o gauss.o >/dev/null 2>&1\r\n"
       ]
      },
      {
       "output_type": "stream",
       "stream": "stdout",
       "text": [
        "mv -f .deps/gauss.Tpo .deps/gauss.Plo\r\n",
        "/bin/sh ../libtool --tag=CC   --mode=compile gcc -DHAVE_CONFIG_H -I. -I.. -I..    -g -O2 -MT gaussinv.lo -MD -MP -MF .deps/gaussinv.Tpo -c -o gaussinv.lo gaussinv.c\r\n",
        "libtool: compile:  gcc -DHAVE_CONFIG_H -I. -I.. -I.. -g -O2 -MT gaussinv.lo -MD -MP -MF .deps/gaussinv.Tpo -c gaussinv.c  -fno-common -DPIC -o .libs/gaussinv.o\r\n"
       ]
      },
      {
       "output_type": "stream",
       "stream": "stdout",
       "text": [
        "libtool: compile:  gcc -DHAVE_CONFIG_H -I. -I.. -I.. -g -O2 -MT gaussinv.lo -MD -MP -MF .deps/gaussinv.Tpo -c gaussinv.c -o gaussinv.o >/dev/null 2>&1\r\n"
       ]
      },
      {
       "output_type": "stream",
       "stream": "stdout",
       "text": [
        "mv -f .deps/gaussinv.Tpo .deps/gaussinv.Plo\r\n",
        "/bin/sh ../libtool --tag=CC   --mode=compile gcc -DHAVE_CONFIG_H -I. -I.. -I..    -g -O2 -MT gumbel1.lo -MD -MP -MF .deps/gumbel1.Tpo -c -o gumbel1.lo gumbel1.c\r\n",
        "libtool: compile:  gcc -DHAVE_CONFIG_H -I. -I.. -I.. -g -O2 -MT gumbel1.lo -MD -MP -MF .deps/gumbel1.Tpo -c gumbel1.c  -fno-common -DPIC -o .libs/gumbel1.o\r\n"
       ]
      },
      {
       "output_type": "stream",
       "stream": "stdout",
       "text": [
        "libtool: compile:  gcc -DHAVE_CONFIG_H -I. -I.. -I.. -g -O2 -MT gumbel1.lo -MD -MP -MF .deps/gumbel1.Tpo -c gumbel1.c -o gumbel1.o >/dev/null 2>&1\r\n"
       ]
      },
      {
       "output_type": "stream",
       "stream": "stdout",
       "text": [
        "mv -f .deps/gumbel1.Tpo .deps/gumbel1.Plo\r\n",
        "/bin/sh ../libtool --tag=CC   --mode=compile gcc -DHAVE_CONFIG_H -I. -I.. -I..    -g -O2 -MT gumbel1inv.lo -MD -MP -MF .deps/gumbel1inv.Tpo -c -o gumbel1inv.lo gumbel1inv.c\r\n"
       ]
      },
      {
       "output_type": "stream",
       "stream": "stdout",
       "text": [
        "libtool: compile:  gcc -DHAVE_CONFIG_H -I. -I.. -I.. -g -O2 -MT gumbel1inv.lo -MD -MP -MF .deps/gumbel1inv.Tpo -c gumbel1inv.c  -fno-common -DPIC -o .libs/gumbel1inv.o\r\n"
       ]
      },
      {
       "output_type": "stream",
       "stream": "stdout",
       "text": [
        "libtool: compile:  gcc -DHAVE_CONFIG_H -I. -I.. -I.. -g -O2 -MT gumbel1inv.lo -MD -MP -MF .deps/gumbel1inv.Tpo -c gumbel1inv.c -o gumbel1inv.o >/dev/null 2>&1\r\n"
       ]
      },
      {
       "output_type": "stream",
       "stream": "stdout",
       "text": [
        "mv -f .deps/gumbel1inv.Tpo .deps/gumbel1inv.Plo\r\n",
        "/bin/sh ../libtool --tag=CC   --mode=compile gcc -DHAVE_CONFIG_H -I. -I.. -I..    -g -O2 -MT gumbel2.lo -MD -MP -MF .deps/gumbel2.Tpo -c -o gumbel2.lo gumbel2.c\r\n",
        "libtool: compile:  gcc -DHAVE_CONFIG_H -I. -I.. -I.. -g -O2 -MT gumbel2.lo -MD -MP -MF .deps/gumbel2.Tpo -c gumbel2.c  -fno-common -DPIC -o .libs/gumbel2.o\r\n"
       ]
      },
      {
       "output_type": "stream",
       "stream": "stdout",
       "text": [
        "libtool: compile:  gcc -DHAVE_CONFIG_H -I. -I.. -I.. -g -O2 -MT gumbel2.lo -MD -MP -MF .deps/gumbel2.Tpo -c gumbel2.c -o gumbel2.o >/dev/null 2>&1\r\n"
       ]
      },
      {
       "output_type": "stream",
       "stream": "stdout",
       "text": [
        "mv -f .deps/gumbel2.Tpo .deps/gumbel2.Plo\r\n",
        "/bin/sh ../libtool --tag=CC   --mode=compile gcc -DHAVE_CONFIG_H -I. -I.. -I..    -g -O2 -MT gumbel2inv.lo -MD -MP -MF .deps/gumbel2inv.Tpo -c -o gumbel2inv.lo gumbel2inv.c\r\n",
        "libtool: compile:  gcc -DHAVE_CONFIG_H -I. -I.. -I.. -g -O2 -MT gumbel2inv.lo -MD -MP -MF .deps/gumbel2inv.Tpo -c gumbel2inv.c  -fno-common -DPIC -o .libs/gumbel2inv.o\r\n"
       ]
      },
      {
       "output_type": "stream",
       "stream": "stdout",
       "text": [
        "libtool: compile:  gcc -DHAVE_CONFIG_H -I. -I.. -I.. -g -O2 -MT gumbel2inv.lo -MD -MP -MF .deps/gumbel2inv.Tpo -c gumbel2inv.c -o gumbel2inv.o >/dev/null 2>&1\r\n"
       ]
      },
      {
       "output_type": "stream",
       "stream": "stdout",
       "text": [
        "mv -f .deps/gumbel2inv.Tpo .deps/gumbel2inv.Plo\r\n",
        "/bin/sh ../libtool --tag=CC   --mode=compile gcc -DHAVE_CONFIG_H -I. -I.. -I..    -g -O2 -MT laplace.lo -MD -MP -MF .deps/laplace.Tpo -c -o laplace.lo laplace.c\r\n",
        "libtool: compile:  gcc -DHAVE_CONFIG_H -I. -I.. -I.. -g -O2 -MT laplace.lo -MD -MP -MF .deps/laplace.Tpo -c laplace.c  -fno-common -DPIC -o .libs/laplace.o\r\n"
       ]
      },
      {
       "output_type": "stream",
       "stream": "stdout",
       "text": [
        "libtool: compile:  gcc -DHAVE_CONFIG_H -I. -I.. -I.. -g -O2 -MT laplace.lo -MD -MP -MF .deps/laplace.Tpo -c laplace.c -o laplace.o >/dev/null 2>&1\r\n"
       ]
      },
      {
       "output_type": "stream",
       "stream": "stdout",
       "text": [
        "mv -f .deps/laplace.Tpo .deps/laplace.Plo\r\n",
        "/bin/sh ../libtool --tag=CC   --mode=compile gcc -DHAVE_CONFIG_H -I. -I.. -I..    -g -O2 -MT laplaceinv.lo -MD -MP -MF .deps/laplaceinv.Tpo -c -o laplaceinv.lo laplaceinv.c\r\n"
       ]
      },
      {
       "output_type": "stream",
       "stream": "stdout",
       "text": [
        "libtool: compile:  gcc -DHAVE_CONFIG_H -I. -I.. -I.. -g -O2 -MT laplaceinv.lo -MD -MP -MF .deps/laplaceinv.Tpo -c laplaceinv.c  -fno-common -DPIC -o .libs/laplaceinv.o\r\n"
       ]
      },
      {
       "output_type": "stream",
       "stream": "stdout",
       "text": [
        "libtool: compile:  gcc -DHAVE_CONFIG_H -I. -I.. -I.. -g -O2 -MT laplaceinv.lo -MD -MP -MF .deps/laplaceinv.Tpo -c laplaceinv.c -o laplaceinv.o >/dev/null 2>&1\r\n"
       ]
      },
      {
       "output_type": "stream",
       "stream": "stdout",
       "text": [
        "mv -f .deps/laplaceinv.Tpo .deps/laplaceinv.Plo\r\n",
        "/bin/sh ../libtool --tag=CC   --mode=compile gcc -DHAVE_CONFIG_H -I. -I.. -I..    -g -O2 -MT logistic.lo -MD -MP -MF .deps/logistic.Tpo -c -o logistic.lo logistic.c\r\n",
        "libtool: compile:  gcc -DHAVE_CONFIG_H -I. -I.. -I.. -g -O2 -MT logistic.lo -MD -MP -MF .deps/logistic.Tpo -c logistic.c  -fno-common -DPIC -o .libs/logistic.o\r\n"
       ]
      },
      {
       "output_type": "stream",
       "stream": "stdout",
       "text": [
        "libtool: compile:  gcc -DHAVE_CONFIG_H -I. -I.. -I.. -g -O2 -MT logistic.lo -MD -MP -MF .deps/logistic.Tpo -c logistic.c -o logistic.o >/dev/null 2>&1\r\n"
       ]
      },
      {
       "output_type": "stream",
       "stream": "stdout",
       "text": [
        "mv -f .deps/logistic.Tpo .deps/logistic.Plo\r\n",
        "/bin/sh ../libtool --tag=CC   --mode=compile gcc -DHAVE_CONFIG_H -I. -I.. -I..    -g -O2 -MT logisticinv.lo -MD -MP -MF .deps/logisticinv.Tpo -c -o logisticinv.lo logisticinv.c\r\n"
       ]
      },
      {
       "output_type": "stream",
       "stream": "stdout",
       "text": [
        "libtool: compile:  gcc -DHAVE_CONFIG_H -I. -I.. -I.. -g -O2 -MT logisticinv.lo -MD -MP -MF .deps/logisticinv.Tpo -c logisticinv.c  -fno-common -DPIC -o .libs/logisticinv.o\r\n",
        "libtool: compile:  gcc -DHAVE_CONFIG_H -I. -I.. -I.. -g -O2 -MT logisticinv.lo -MD -MP -MF .deps/logisticinv.Tpo -c logisticinv.c -o logisticinv.o >/dev/null 2>&1\r\n"
       ]
      },
      {
       "output_type": "stream",
       "stream": "stdout",
       "text": [
        "mv -f .deps/logisticinv.Tpo .deps/logisticinv.Plo\r\n",
        "/bin/sh ../libtool --tag=CC   --mode=compile gcc -DHAVE_CONFIG_H -I. -I.. -I..    -g -O2 -MT lognormal.lo -MD -MP -MF .deps/lognormal.Tpo -c -o lognormal.lo lognormal.c\r\n"
       ]
      },
      {
       "output_type": "stream",
       "stream": "stdout",
       "text": [
        "libtool: compile:  gcc -DHAVE_CONFIG_H -I. -I.. -I.. -g -O2 -MT lognormal.lo -MD -MP -MF .deps/lognormal.Tpo -c lognormal.c  -fno-common -DPIC -o .libs/lognormal.o\r\n"
       ]
      },
      {
       "output_type": "stream",
       "stream": "stdout",
       "text": [
        "libtool: compile:  gcc -DHAVE_CONFIG_H -I. -I.. -I.. -g -O2 -MT lognormal.lo -MD -MP -MF .deps/lognormal.Tpo -c lognormal.c -o lognormal.o >/dev/null 2>&1\r\n"
       ]
      },
      {
       "output_type": "stream",
       "stream": "stdout",
       "text": [
        "mv -f .deps/lognormal.Tpo .deps/lognormal.Plo\r\n",
        "/bin/sh ../libtool --tag=CC   --mode=compile gcc -DHAVE_CONFIG_H -I. -I.. -I..    -g -O2 -MT lognormalinv.lo -MD -MP -MF .deps/lognormalinv.Tpo -c -o lognormalinv.lo lognormalinv.c\r\n",
        "libtool: compile:  gcc -DHAVE_CONFIG_H -I. -I.. -I.. -g -O2 -MT lognormalinv.lo -MD -MP -MF .deps/lognormalinv.Tpo -c lognormalinv.c  -fno-common -DPIC -o .libs/lognormalinv.o\r\n"
       ]
      },
      {
       "output_type": "stream",
       "stream": "stdout",
       "text": [
        "libtool: compile:  gcc -DHAVE_CONFIG_H -I. -I.. -I.. -g -O2 -MT lognormalinv.lo -MD -MP -MF .deps/lognormalinv.Tpo -c lognormalinv.c -o lognormalinv.o >/dev/null 2>&1\r\n"
       ]
      },
      {
       "output_type": "stream",
       "stream": "stdout",
       "text": [
        "mv -f .deps/lognormalinv.Tpo .deps/lognormalinv.Plo\r\n",
        "/bin/sh ../libtool --tag=CC   --mode=compile gcc -DHAVE_CONFIG_H -I. -I.. -I..    -g -O2 -MT pareto.lo -MD -MP -MF .deps/pareto.Tpo -c -o pareto.lo pareto.c\r\n",
        "libtool: compile:  gcc -DHAVE_CONFIG_H -I. -I.. -I.. -g -O2 -MT pareto.lo -MD -MP -MF .deps/pareto.Tpo -c pareto.c  -fno-common -DPIC -o .libs/pareto.o\r\n"
       ]
      },
      {
       "output_type": "stream",
       "stream": "stdout",
       "text": [
        "libtool: compile:  gcc -DHAVE_CONFIG_H -I. -I.. -I.. -g -O2 -MT pareto.lo -MD -MP -MF .deps/pareto.Tpo -c pareto.c -o pareto.o >/dev/null 2>&1\r\n"
       ]
      },
      {
       "output_type": "stream",
       "stream": "stdout",
       "text": [
        "mv -f .deps/pareto.Tpo .deps/pareto.Plo\r\n",
        "/bin/sh ../libtool --tag=CC   --mode=compile gcc -DHAVE_CONFIG_H -I. -I.. -I..    -g -O2 -MT paretoinv.lo -MD -MP -MF .deps/paretoinv.Tpo -c -o paretoinv.lo paretoinv.c\r\n"
       ]
      },
      {
       "output_type": "stream",
       "stream": "stdout",
       "text": [
        "libtool: compile:  gcc -DHAVE_CONFIG_H -I. -I.. -I.. -g -O2 -MT paretoinv.lo -MD -MP -MF .deps/paretoinv.Tpo -c paretoinv.c  -fno-common -DPIC -o .libs/paretoinv.o\r\n"
       ]
      },
      {
       "output_type": "stream",
       "stream": "stdout",
       "text": [
        "libtool: compile:  gcc -DHAVE_CONFIG_H -I. -I.. -I.. -g -O2 -MT paretoinv.lo -MD -MP -MF .deps/paretoinv.Tpo -c paretoinv.c -o paretoinv.o >/dev/null 2>&1\r\n"
       ]
      },
      {
       "output_type": "stream",
       "stream": "stdout",
       "text": [
        "mv -f .deps/paretoinv.Tpo .deps/paretoinv.Plo\r\n",
        "/bin/sh ../libtool --tag=CC   --mode=compile gcc -DHAVE_CONFIG_H -I. -I.. -I..    -g -O2 -MT rayleigh.lo -MD -MP -MF .deps/rayleigh.Tpo -c -o rayleigh.lo rayleigh.c\r\n",
        "libtool: compile:  gcc -DHAVE_CONFIG_H -I. -I.. -I.. -g -O2 -MT rayleigh.lo -MD -MP -MF .deps/rayleigh.Tpo -c rayleigh.c  -fno-common -DPIC -o .libs/rayleigh.o\r\n"
       ]
      },
      {
       "output_type": "stream",
       "stream": "stdout",
       "text": [
        "libtool: compile:  gcc -DHAVE_CONFIG_H -I. -I.. -I.. -g -O2 -MT rayleigh.lo -MD -MP -MF .deps/rayleigh.Tpo -c rayleigh.c -o rayleigh.o >/dev/null 2>&1\r\n"
       ]
      },
      {
       "output_type": "stream",
       "stream": "stdout",
       "text": [
        "mv -f .deps/rayleigh.Tpo .deps/rayleigh.Plo\r\n",
        "/bin/sh ../libtool --tag=CC   --mode=compile gcc -DHAVE_CONFIG_H -I. -I.. -I..    -g -O2 -MT rayleighinv.lo -MD -MP -MF .deps/rayleighinv.Tpo -c -o rayleighinv.lo rayleighinv.c\r\n"
       ]
      },
      {
       "output_type": "stream",
       "stream": "stdout",
       "text": [
        "libtool: compile:  gcc -DHAVE_CONFIG_H -I. -I.. -I.. -g -O2 -MT rayleighinv.lo -MD -MP -MF .deps/rayleighinv.Tpo -c rayleighinv.c  -fno-common -DPIC -o .libs/rayleighinv.o\r\n"
       ]
      },
      {
       "output_type": "stream",
       "stream": "stdout",
       "text": [
        "libtool: compile:  gcc -DHAVE_CONFIG_H -I. -I.. -I.. -g -O2 -MT rayleighinv.lo -MD -MP -MF .deps/rayleighinv.Tpo -c rayleighinv.c -o rayleighinv.o >/dev/null 2>&1\r\n"
       ]
      },
      {
       "output_type": "stream",
       "stream": "stdout",
       "text": [
        "mv -f .deps/rayleighinv.Tpo .deps/rayleighinv.Plo\r\n",
        "/bin/sh ../libtool --tag=CC   --mode=compile gcc -DHAVE_CONFIG_H -I. -I.. -I..    -g -O2 -MT tdist.lo -MD -MP -MF .deps/tdist.Tpo -c -o tdist.lo tdist.c\r\n",
        "libtool: compile:  gcc -DHAVE_CONFIG_H -I. -I.. -I.. -g -O2 -MT tdist.lo -MD -MP -MF .deps/tdist.Tpo -c tdist.c  -fno-common -DPIC -o .libs/tdist.o\r\n"
       ]
      },
      {
       "output_type": "stream",
       "stream": "stdout",
       "text": [
        "libtool: compile:  gcc -DHAVE_CONFIG_H -I. -I.. -I.. -g -O2 -MT tdist.lo -MD -MP -MF .deps/tdist.Tpo -c tdist.c -o tdist.o >/dev/null 2>&1\r\n"
       ]
      },
      {
       "output_type": "stream",
       "stream": "stdout",
       "text": [
        "mv -f .deps/tdist.Tpo .deps/tdist.Plo\r\n",
        "/bin/sh ../libtool --tag=CC   --mode=compile gcc -DHAVE_CONFIG_H -I. -I.. -I..    -g -O2 -MT tdistinv.lo -MD -MP -MF .deps/tdistinv.Tpo -c -o tdistinv.lo tdistinv.c\r\n"
       ]
      },
      {
       "output_type": "stream",
       "stream": "stdout",
       "text": [
        "libtool: compile:  gcc -DHAVE_CONFIG_H -I. -I.. -I.. -g -O2 -MT tdistinv.lo -MD -MP -MF .deps/tdistinv.Tpo -c tdistinv.c  -fno-common -DPIC -o .libs/tdistinv.o\r\n"
       ]
      },
      {
       "output_type": "stream",
       "stream": "stdout",
       "text": [
        "libtool: compile:  gcc -DHAVE_CONFIG_H -I. -I.. -I.. -g -O2 -MT tdistinv.lo -MD -MP -MF .deps/tdistinv.Tpo -c tdistinv.c -o tdistinv.o >/dev/null 2>&1\r\n"
       ]
      },
      {
       "output_type": "stream",
       "stream": "stdout",
       "text": [
        "mv -f .deps/tdistinv.Tpo .deps/tdistinv.Plo\r\n",
        "/bin/sh ../libtool --tag=CC   --mode=compile gcc -DHAVE_CONFIG_H -I. -I.. -I..    -g -O2 -MT weibull.lo -MD -MP -MF .deps/weibull.Tpo -c -o weibull.lo weibull.c\r\n"
       ]
      },
      {
       "output_type": "stream",
       "stream": "stdout",
       "text": [
        "libtool: compile:  gcc -DHAVE_CONFIG_H -I. -I.. -I.. -g -O2 -MT weibull.lo -MD -MP -MF .deps/weibull.Tpo -c weibull.c  -fno-common -DPIC -o .libs/weibull.o\r\n"
       ]
      },
      {
       "output_type": "stream",
       "stream": "stdout",
       "text": [
        "libtool: compile:  gcc -DHAVE_CONFIG_H -I. -I.. -I.. -g -O2 -MT weibull.lo -MD -MP -MF .deps/weibull.Tpo -c weibull.c -o weibull.o >/dev/null 2>&1\r\n"
       ]
      },
      {
       "output_type": "stream",
       "stream": "stdout",
       "text": [
        "mv -f .deps/weibull.Tpo .deps/weibull.Plo\r\n",
        "/bin/sh ../libtool --tag=CC   --mode=compile gcc -DHAVE_CONFIG_H -I. -I.. -I..    -g -O2 -MT weibullinv.lo -MD -MP -MF .deps/weibullinv.Tpo -c -o weibullinv.lo weibullinv.c\r\n",
        "libtool: compile:  gcc -DHAVE_CONFIG_H -I. -I.. -I.. -g -O2 -MT weibullinv.lo -MD -MP -MF .deps/weibullinv.Tpo -c weibullinv.c  -fno-common -DPIC -o .libs/weibullinv.o\r\n"
       ]
      },
      {
       "output_type": "stream",
       "stream": "stdout",
       "text": [
        "libtool: compile:  gcc -DHAVE_CONFIG_H -I. -I.. -I.. -g -O2 -MT weibullinv.lo -MD -MP -MF .deps/weibullinv.Tpo -c weibullinv.c -o weibullinv.o >/dev/null 2>&1\r\n"
       ]
      },
      {
       "output_type": "stream",
       "stream": "stdout",
       "text": [
        "mv -f .deps/weibullinv.Tpo .deps/weibullinv.Plo\r\n",
        "/bin/sh ../libtool --tag=CC   --mode=compile gcc -DHAVE_CONFIG_H -I. -I.. -I..    -g -O2 -MT binomial.lo -MD -MP -MF .deps/binomial.Tpo -c -o binomial.lo binomial.c\r\n",
        "libtool: compile:  gcc -DHAVE_CONFIG_H -I. -I.. -I.. -g -O2 -MT binomial.lo -MD -MP -MF .deps/binomial.Tpo -c binomial.c  -fno-common -DPIC -o .libs/binomial.o\r\n"
       ]
      },
      {
       "output_type": "stream",
       "stream": "stdout",
       "text": [
        "libtool: compile:  gcc -DHAVE_CONFIG_H -I. -I.. -I.. -g -O2 -MT binomial.lo -MD -MP -MF .deps/binomial.Tpo -c binomial.c -o binomial.o >/dev/null 2>&1\r\n"
       ]
      },
      {
       "output_type": "stream",
       "stream": "stdout",
       "text": [
        "mv -f .deps/binomial.Tpo .deps/binomial.Plo\r\n",
        "/bin/sh ../libtool --tag=CC   --mode=compile gcc -DHAVE_CONFIG_H -I. -I.. -I..    -g -O2 -MT poisson.lo -MD -MP -MF .deps/poisson.Tpo -c -o poisson.lo poisson.c\r\n"
       ]
      },
      {
       "output_type": "stream",
       "stream": "stdout",
       "text": [
        "libtool: compile:  gcc -DHAVE_CONFIG_H -I. -I.. -I.. -g -O2 -MT poisson.lo -MD -MP -MF .deps/poisson.Tpo -c poisson.c  -fno-common -DPIC -o .libs/poisson.o\r\n"
       ]
      },
      {
       "output_type": "stream",
       "stream": "stdout",
       "text": [
        "libtool: compile:  gcc -DHAVE_CONFIG_H -I. -I.. -I.. -g -O2 -MT poisson.lo -MD -MP -MF .deps/poisson.Tpo -c poisson.c -o poisson.o >/dev/null 2>&1\r\n"
       ]
      },
      {
       "output_type": "stream",
       "stream": "stdout",
       "text": [
        "mv -f .deps/poisson.Tpo .deps/poisson.Plo\r\n",
        "/bin/sh ../libtool --tag=CC   --mode=compile gcc -DHAVE_CONFIG_H -I. -I.. -I..    -g -O2 -MT geometric.lo -MD -MP -MF .deps/geometric.Tpo -c -o geometric.lo geometric.c\r\n",
        "libtool: compile:  gcc -DHAVE_CONFIG_H -I. -I.. -I.. -g -O2 -MT geometric.lo -MD -MP -MF .deps/geometric.Tpo -c geometric.c  -fno-common -DPIC -o .libs/geometric.o\r\n"
       ]
      },
      {
       "output_type": "stream",
       "stream": "stdout",
       "text": [
        "libtool: compile:  gcc -DHAVE_CONFIG_H -I. -I.. -I.. -g -O2 -MT geometric.lo -MD -MP -MF .deps/geometric.Tpo -c geometric.c -o geometric.o >/dev/null 2>&1\r\n"
       ]
      },
      {
       "output_type": "stream",
       "stream": "stdout",
       "text": [
        "mv -f .deps/geometric.Tpo .deps/geometric.Plo\r\n",
        "/bin/sh ../libtool --tag=CC   --mode=compile gcc -DHAVE_CONFIG_H -I. -I.. -I..    -g -O2 -MT nbinomial.lo -MD -MP -MF .deps/nbinomial.Tpo -c -o nbinomial.lo nbinomial.c\r\n",
        "libtool: compile:  gcc -DHAVE_CONFIG_H -I. -I.. -I.. -g -O2 -MT nbinomial.lo -MD -MP -MF .deps/nbinomial.Tpo -c nbinomial.c  -fno-common -DPIC -o .libs/nbinomial.o\r\n"
       ]
      },
      {
       "output_type": "stream",
       "stream": "stdout",
       "text": [
        "libtool: compile:  gcc -DHAVE_CONFIG_H -I. -I.. -I.. -g -O2 -MT nbinomial.lo -MD -MP -MF .deps/nbinomial.Tpo -c nbinomial.c -o nbinomial.o >/dev/null 2>&1\r\n"
       ]
      },
      {
       "output_type": "stream",
       "stream": "stdout",
       "text": [
        "mv -f .deps/nbinomial.Tpo .deps/nbinomial.Plo\r\n",
        "/bin/sh ../libtool --tag=CC   --mode=compile gcc -DHAVE_CONFIG_H -I. -I.. -I..    -g -O2 -MT pascal.lo -MD -MP -MF .deps/pascal.Tpo -c -o pascal.lo pascal.c\r\n",
        "libtool: compile:  gcc -DHAVE_CONFIG_H -I. -I.. -I.. -g -O2 -MT pascal.lo -MD -MP -MF .deps/pascal.Tpo -c pascal.c  -fno-common -DPIC -o .libs/pascal.o\r\n"
       ]
      },
      {
       "output_type": "stream",
       "stream": "stdout",
       "text": [
        "libtool: compile:  gcc -DHAVE_CONFIG_H -I. -I.. -I.. -g -O2 -MT pascal.lo -MD -MP -MF .deps/pascal.Tpo -c pascal.c -o pascal.o >/dev/null 2>&1\r\n"
       ]
      },
      {
       "output_type": "stream",
       "stream": "stdout",
       "text": [
        "mv -f .deps/pascal.Tpo .deps/pascal.Plo\r\n",
        "/bin/sh ../libtool --tag=CC   --mode=compile gcc -DHAVE_CONFIG_H -I. -I.. -I..    -g -O2 -MT hypergeometric.lo -MD -MP -MF .deps/hypergeometric.Tpo -c -o hypergeometric.lo hypergeometric.c\r\n",
        "libtool: compile:  gcc -DHAVE_CONFIG_H -I. -I.. -I.. -g -O2 -MT hypergeometric.lo -MD -MP -MF .deps/hypergeometric.Tpo -c hypergeometric.c  -fno-common -DPIC -o .libs/hypergeometric.o\r\n"
       ]
      },
      {
       "output_type": "stream",
       "stream": "stdout",
       "text": [
        "libtool: compile:  gcc -DHAVE_CONFIG_H -I. -I.. -I.. -g -O2 -MT hypergeometric.lo -MD -MP -MF .deps/hypergeometric.Tpo -c hypergeometric.c -o hypergeometric.o >/dev/null 2>&1\r\n"
       ]
      },
      {
       "output_type": "stream",
       "stream": "stdout",
       "text": [
        "mv -f .deps/hypergeometric.Tpo .deps/hypergeometric.Plo\r\n",
        "/bin/sh ../libtool --tag=CC   --mode=link gcc  -g -O2   -o libgslcdf.la  beta.lo betainv.lo cauchy.lo cauchyinv.lo chisq.lo chisqinv.lo exponential.lo exponentialinv.lo exppow.lo fdist.lo fdistinv.lo flat.lo flatinv.lo gamma.lo gammainv.lo gauss.lo gaussinv.lo gumbel1.lo gumbel1inv.lo gumbel2.lo gumbel2inv.lo laplace.lo laplaceinv.lo logistic.lo logisticinv.lo lognormal.lo lognormalinv.lo pareto.lo paretoinv.lo rayleigh.lo rayleighinv.lo tdist.lo tdistinv.lo weibull.lo weibullinv.lo binomial.lo poisson.lo geometric.lo nbinomial.lo pascal.lo hypergeometric.lo  -lm \r\n"
       ]
      },
      {
       "output_type": "stream",
       "stream": "stdout",
       "text": [
        "libtool: link: ar cru .libs/libgslcdf.a .libs/beta.o .libs/betainv.o .libs/cauchy.o .libs/cauchyinv.o .libs/chisq.o .libs/chisqinv.o .libs/exponential.o .libs/exponentialinv.o .libs/exppow.o .libs/fdist.o .libs/fdistinv.o .libs/flat.o .libs/flatinv.o .libs/gamma.o .libs/gammainv.o .libs/gauss.o .libs/gaussinv.o .libs/gumbel1.o .libs/gumbel1inv.o .libs/gumbel2.o .libs/gumbel2inv.o .libs/laplace.o .libs/laplaceinv.o .libs/logistic.o .libs/logisticinv.o .libs/lognormal.o .libs/lognormalinv.o .libs/pareto.o .libs/paretoinv.o .libs/rayleigh.o .libs/rayleighinv.o .libs/tdist.o .libs/tdistinv.o .libs/weibull.o .libs/weibullinv.o .libs/binomial.o .libs/poisson.o .libs/geometric.o .libs/nbinomial.o .libs/pascal.o .libs/hypergeometric.o \r\n",
        "libtool: link: ranlib .libs/libgslcdf.a\r\n"
       ]
      },
      {
       "output_type": "stream",
       "stream": "stdout",
       "text": [
        "libtool: link: ( cd \".libs\" && rm -f \"libgslcdf.la\" && ln -s \"../libgslcdf.la\" \"libgslcdf.la\" )\r\n",
        "Making all in wavelet\r\n"
       ]
      },
      {
       "output_type": "stream",
       "stream": "stdout",
       "text": [
        "/bin/sh ../libtool --tag=CC   --mode=compile gcc -DHAVE_CONFIG_H -I. -I.. -I..    -g -O2 -MT dwt.lo -MD -MP -MF .deps/dwt.Tpo -c -o dwt.lo dwt.c\r\n",
        "libtool: compile:  gcc -DHAVE_CONFIG_H -I. -I.. -I.. -g -O2 -MT dwt.lo -MD -MP -MF .deps/dwt.Tpo -c dwt.c  -fno-common -DPIC -o .libs/dwt.o\r\n"
       ]
      },
      {
       "output_type": "stream",
       "stream": "stdout",
       "text": [
        "libtool: compile:  gcc -DHAVE_CONFIG_H -I. -I.. -I.. -g -O2 -MT dwt.lo -MD -MP -MF .deps/dwt.Tpo -c dwt.c -o dwt.o >/dev/null 2>&1\r\n"
       ]
      },
      {
       "output_type": "stream",
       "stream": "stdout",
       "text": [
        "mv -f .deps/dwt.Tpo .deps/dwt.Plo\r\n",
        "/bin/sh ../libtool --tag=CC   --mode=compile gcc -DHAVE_CONFIG_H -I. -I.. -I..    -g -O2 -MT wavelet.lo -MD -MP -MF .deps/wavelet.Tpo -c -o wavelet.lo wavelet.c\r\n",
        "libtool: compile:  gcc -DHAVE_CONFIG_H -I. -I.. -I.. -g -O2 -MT wavelet.lo -MD -MP -MF .deps/wavelet.Tpo -c wavelet.c  -fno-common -DPIC -o .libs/wavelet.o\r\n"
       ]
      },
      {
       "output_type": "stream",
       "stream": "stdout",
       "text": [
        "libtool: compile:  gcc -DHAVE_CONFIG_H -I. -I.. -I.. -g -O2 -MT wavelet.lo -MD -MP -MF .deps/wavelet.Tpo -c wavelet.c -o wavelet.o >/dev/null 2>&1\r\n"
       ]
      },
      {
       "output_type": "stream",
       "stream": "stdout",
       "text": [
        "mv -f .deps/wavelet.Tpo .deps/wavelet.Plo\r\n",
        "/bin/sh ../libtool --tag=CC   --mode=compile gcc -DHAVE_CONFIG_H -I. -I.. -I..    -g -O2 -MT bspline.lo -MD -MP -MF .deps/bspline.Tpo -c -o bspline.lo bspline.c\r\n"
       ]
      },
      {
       "output_type": "stream",
       "stream": "stdout",
       "text": [
        "libtool: compile:  gcc -DHAVE_CONFIG_H -I. -I.. -I.. -g -O2 -MT bspline.lo -MD -MP -MF .deps/bspline.Tpo -c bspline.c  -fno-common -DPIC -o .libs/bspline.o\r\n"
       ]
      },
      {
       "output_type": "stream",
       "stream": "stdout",
       "text": [
        "libtool: compile:  gcc -DHAVE_CONFIG_H -I. -I.. -I.. -g -O2 -MT bspline.lo -MD -MP -MF .deps/bspline.Tpo -c bspline.c -o bspline.o >/dev/null 2>&1\r\n"
       ]
      },
      {
       "output_type": "stream",
       "stream": "stdout",
       "text": [
        "mv -f .deps/bspline.Tpo .deps/bspline.Plo\r\n",
        "/bin/sh ../libtool --tag=CC   --mode=compile gcc -DHAVE_CONFIG_H -I. -I.. -I..    -g -O2 -MT daubechies.lo -MD -MP -MF .deps/daubechies.Tpo -c -o daubechies.lo daubechies.c\r\n",
        "libtool: compile:  gcc -DHAVE_CONFIG_H -I. -I.. -I.. -g -O2 -MT daubechies.lo -MD -MP -MF .deps/daubechies.Tpo -c daubechies.c  -fno-common -DPIC -o .libs/daubechies.o\r\n"
       ]
      },
      {
       "output_type": "stream",
       "stream": "stdout",
       "text": [
        "libtool: compile:  gcc -DHAVE_CONFIG_H -I. -I.. -I.. -g -O2 -MT daubechies.lo -MD -MP -MF .deps/daubechies.Tpo -c daubechies.c -o daubechies.o >/dev/null 2>&1\r\n"
       ]
      },
      {
       "output_type": "stream",
       "stream": "stdout",
       "text": [
        "mv -f .deps/daubechies.Tpo .deps/daubechies.Plo\r\n",
        "/bin/sh ../libtool --tag=CC   --mode=compile gcc -DHAVE_CONFIG_H -I. -I.. -I..    -g -O2 -MT haar.lo -MD -MP -MF .deps/haar.Tpo -c -o haar.lo haar.c\r\n",
        "libtool: compile:  gcc -DHAVE_CONFIG_H -I. -I.. -I.. -g -O2 -MT haar.lo -MD -MP -MF .deps/haar.Tpo -c haar.c  -fno-common -DPIC -o .libs/haar.o\r\n"
       ]
      },
      {
       "output_type": "stream",
       "stream": "stdout",
       "text": [
        "libtool: compile:  gcc -DHAVE_CONFIG_H -I. -I.. -I.. -g -O2 -MT haar.lo -MD -MP -MF .deps/haar.Tpo -c haar.c -o haar.o >/dev/null 2>&1\r\n"
       ]
      },
      {
       "output_type": "stream",
       "stream": "stdout",
       "text": [
        "mv -f .deps/haar.Tpo .deps/haar.Plo\r\n",
        "/bin/sh ../libtool --tag=CC   --mode=link gcc  -g -O2   -o libgslwavelet.la  dwt.lo wavelet.lo bspline.lo daubechies.lo haar.lo  -lm \r\n"
       ]
      },
      {
       "output_type": "stream",
       "stream": "stdout",
       "text": [
        "libtool: link: ar cru .libs/libgslwavelet.a .libs/dwt.o .libs/wavelet.o .libs/bspline.o .libs/daubechies.o .libs/haar.o \r\n",
        "libtool: link: ranlib .libs/libgslwavelet.a\r\n"
       ]
      },
      {
       "output_type": "stream",
       "stream": "stdout",
       "text": [
        "libtool: link: ( cd \".libs\" && rm -f \"libgslwavelet.la\" && ln -s \"../libgslwavelet.la\" \"libgslwavelet.la\" )\r\n",
        "Making all in bspline\r\n",
        "/bin/sh ../libtool --tag=CC   --mode=compile gcc -DHAVE_CONFIG_H -I. -I.. -I..    -g -O2 -MT bspline.lo -MD -MP -MF .deps/bspline.Tpo -c -o bspline.lo bspline.c\r\n"
       ]
      },
      {
       "output_type": "stream",
       "stream": "stdout",
       "text": [
        "libtool: compile:  gcc -DHAVE_CONFIG_H -I. -I.. -I.. -g -O2 -MT bspline.lo -MD -MP -MF .deps/bspline.Tpo -c bspline.c  -fno-common -DPIC -o .libs/bspline.o\r\n"
       ]
      },
      {
       "output_type": "stream",
       "stream": "stdout",
       "text": [
        "libtool: compile:  gcc -DHAVE_CONFIG_H -I. -I.. -I.. -g -O2 -MT bspline.lo -MD -MP -MF .deps/bspline.Tpo -c bspline.c -o bspline.o >/dev/null 2>&1\r\n"
       ]
      },
      {
       "output_type": "stream",
       "stream": "stdout",
       "text": [
        "mv -f .deps/bspline.Tpo .deps/bspline.Plo\r\n",
        "/bin/sh ../libtool --tag=CC   --mode=link gcc  -g -O2   -o libgslbspline.la  bspline.lo  -lm \r\n"
       ]
      },
      {
       "output_type": "stream",
       "stream": "stdout",
       "text": [
        "libtool: link: ar cru .libs/libgslbspline.a .libs/bspline.o \r\n",
        "libtool: link: ranlib .libs/libgslbspline.a\r\n"
       ]
      },
      {
       "output_type": "stream",
       "stream": "stdout",
       "text": [
        "libtool: link: ( cd \".libs\" && rm -f \"libgslbspline.la\" && ln -s \"../libgslbspline.la\" \"libgslbspline.la\" )\r\n",
        "Making all in doc\r\n",
        "restore=: && backupdir=\".am$$\" && \\\r\n",
        "\tam__cwd=`pwd` && CDPATH=\"${ZSH_VERSION+.}:\" && cd . && \\\r\n",
        "\trm -rf $backupdir && mkdir $backupdir && \\\r\n",
        "\tif (/bin/sh /Users/rpearson/src/github/malariagen/methods-dev/pf3k_techbm/opt/cortex/CORTEX_release_v1.0.5.21/libs/gsl-1.15/missing --run makeinfo --version) >/dev/null 2>&1; then \\\r\n",
        "\t  for f in gsl-ref.info gsl-ref.info-[0-9] gsl-ref.info-[0-9][0-9] gsl-ref.i[0-9] gsl-ref.i[0-9][0-9]; do \\\r\n",
        "\t    if test -f $f; then mv $f $backupdir; restore=mv; else :; fi; \\\r\n",
        "\t  done; \\\r\n",
        "\telse :; fi && \\\r\n",
        "\tcd \"$am__cwd\"; \\\r\n",
        "\tif /bin/sh /Users/rpearson/src/github/malariagen/methods-dev/pf3k_techbm/opt/cortex/CORTEX_release_v1.0.5.21/libs/gsl-1.15/missing --run makeinfo   -I . \\\r\n",
        "\t -o gsl-ref.info gsl-ref.texi; \\\r\n",
        "\tthen \\\r\n",
        "\t  rc=0; \\\r\n",
        "\t  CDPATH=\"${ZSH_VERSION+.}:\" && cd .; \\\r\n",
        "\telse \\\r\n",
        "\t  rc=$?; \\\r\n",
        "\t  CDPATH=\"${ZSH_VERSION+.}:\" && cd . && \\\r\n",
        "\t  $restore $backupdir/* `echo \"./gsl-ref.info\" | sed 's|[^/]*$||'`; \\\r\n",
        "\tfi; \\\r\n",
        "\trm -rf $backupdir; exit $rc\r\n"
       ]
      },
      {
       "output_type": "stream",
       "stream": "stdout",
       "text": [
        "/bin/sh ./libtool --tag=CC   --mode=compile gcc -DHAVE_CONFIG_H -I.     -g -O2 -MT version.lo -MD -MP -MF .deps/version.Tpo -c -o version.lo version.c\r\n"
       ]
      },
      {
       "output_type": "stream",
       "stream": "stdout",
       "text": [
        "libtool: compile:  gcc -DHAVE_CONFIG_H -I. -g -O2 -MT version.lo -MD -MP -MF .deps/version.Tpo -c version.c  -fno-common -DPIC -o .libs/version.o\r\n",
        "libtool: compile:  gcc -DHAVE_CONFIG_H -I. -g -O2 -MT version.lo -MD -MP -MF .deps/version.Tpo -c version.c -o version.o >/dev/null 2>&1\r\n"
       ]
      },
      {
       "output_type": "stream",
       "stream": "stdout",
       "text": [
        "mv -f .deps/version.Tpo .deps/version.Plo\r\n",
        "/bin/sh ./libtool --tag=CC   --mode=link gcc  -g -O2 -version-info 16:0:16   -o libgsl.la -rpath /usr/local/lib version.lo block/libgslblock.la blas/libgslblas.la bspline/libgslbspline.la complex/libgslcomplex.la cheb/libgslcheb.la dht/libgsldht.la diff/libgsldiff.la deriv/libgslderiv.la eigen/libgsleigen.la err/libgslerr.la fft/libgslfft.la fit/libgslfit.la histogram/libgslhistogram.la ieee-utils/libgslieeeutils.la integration/libgslintegration.la interpolation/libgslinterpolation.la linalg/libgsllinalg.la matrix/libgslmatrix.la min/libgslmin.la monte/libgslmonte.la multifit/libgslmultifit.la multimin/libgslmultimin.la multiroots/libgslmultiroots.la ntuple/libgslntuple.la ode-initval/libgslodeiv.la ode-initval2/libgslodeiv2.la permutation/libgslpermutation.la combination/libgslcombination.la multiset/libgslmultiset.la poly/libgslpoly.la qrng/libgslqrng.la randist/libgslrandist.la rng/libgslrng.la roots/libgslroots.la siman/libgslsiman.la sort/libgslsort.la specfunc/libgslspecfunc.la statistics/libgslstatistics.la sum/libgslsum.la sys/libgslsys.la test/libgsltest.la utils/libutils.la vector/libgslvector.la cdf/libgslcdf.la wavelet/libgslwavelet.la  -lm \r\n"
       ]
      },
      {
       "output_type": "stream",
       "stream": "stdout",
       "text": [
        "libtool: link: gcc -dynamiclib -Wl,-undefined -Wl,dynamic_lookup -o .libs/libgsl.0.dylib  .libs/version.o   -Wl,-force_load,block/.libs/libgslblock.a -Wl,-force_load,blas/.libs/libgslblas.a -Wl,-force_load,bspline/.libs/libgslbspline.a -Wl,-force_load,complex/.libs/libgslcomplex.a -Wl,-force_load,cheb/.libs/libgslcheb.a -Wl,-force_load,dht/.libs/libgsldht.a -Wl,-force_load,diff/.libs/libgsldiff.a -Wl,-force_load,deriv/.libs/libgslderiv.a -Wl,-force_load,eigen/.libs/libgsleigen.a -Wl,-force_load,err/.libs/libgslerr.a -Wl,-force_load,fft/.libs/libgslfft.a -Wl,-force_load,fit/.libs/libgslfit.a -Wl,-force_load,histogram/.libs/libgslhistogram.a -Wl,-force_load,ieee-utils/.libs/libgslieeeutils.a -Wl,-force_load,integration/.libs/libgslintegration.a -Wl,-force_load,interpolation/.libs/libgslinterpolation.a -Wl,-force_load,linalg/.libs/libgsllinalg.a -Wl,-force_load,matrix/.libs/libgslmatrix.a -Wl,-force_load,min/.libs/libgslmin.a -Wl,-force_load,monte/.libs/libgslmonte.a -Wl,-force_load,multifit/.libs/libgslmultifit.a -Wl,-force_load,multimin/.libs/libgslmultimin.a -Wl,-force_load,multiroots/.libs/libgslmultiroots.a -Wl,-force_load,ntuple/.libs/libgslntuple.a -Wl,-force_load,ode-initval/.libs/libgslodeiv.a -Wl,-force_load,ode-initval2/.libs/libgslodeiv2.a -Wl,-force_load,permutation/.libs/libgslpermutation.a -Wl,-force_load,combination/.libs/libgslcombination.a -Wl,-force_load,multiset/.libs/libgslmultiset.a -Wl,-force_load,poly/.libs/libgslpoly.a -Wl,-force_load,qrng/.libs/libgslqrng.a -Wl,-force_load,randist/.libs/libgslrandist.a -Wl,-force_load,rng/.libs/libgslrng.a -Wl,-force_load,roots/.libs/libgslroots.a -Wl,-force_load,siman/.libs/libgslsiman.a -Wl,-force_load,sort/.libs/libgslsort.a -Wl,-force_load,specfunc/.libs/libgslspecfunc.a -Wl,-force_load,statistics/.libs/libgslstatistics.a -Wl,-force_load,sum/.libs/libgslsum.a -Wl,-force_load,sys/.libs/libgslsys.a -Wl,-force_load,test/.libs/libgsltest.a -Wl,-force_load,utils/.libs/libutils.a -Wl,-force_load,vector/.libs/libgslvector.a -Wl,-force_load,cdf/.libs/libgslcdf.a -Wl,-force_load,wavelet/.libs/libgslwavelet.a  -lm  -O2   -install_name  /usr/local/lib/libgsl.0.dylib -compatibility_version 17 -current_version 17.0 -Wl,-single_module\r\n"
       ]
      },
      {
       "output_type": "stream",
       "stream": "stdout",
       "text": [
        "libtool: link: (cd \".libs\" && rm -f \"libgsl.dylib\" && ln -s \"libgsl.0.dylib\" \"libgsl.dylib\")\r\n"
       ]
      },
      {
       "output_type": "stream",
       "stream": "stdout",
       "text": [
        "libtool: link: (cd .libs/libgsl.lax/libgslblock.a && ar x \"/Users/rpearson/src/github/malariagen/methods-dev/pf3k_techbm/opt/cortex/CORTEX_release_v1.0.5.21/libs/gsl-1.15/block/.libs/libgslblock.a\")\r\n"
       ]
      },
      {
       "output_type": "stream",
       "stream": "stdout",
       "text": [
        "libtool: link: (cd .libs/libgsl.lax/libgslblas.a && ar x \"/Users/rpearson/src/github/malariagen/methods-dev/pf3k_techbm/opt/cortex/CORTEX_release_v1.0.5.21/libs/gsl-1.15/blas/.libs/libgslblas.a\")\r\n"
       ]
      },
      {
       "output_type": "stream",
       "stream": "stdout",
       "text": [
        "libtool: link: (cd .libs/libgsl.lax/libgslbspline.a && ar x \"/Users/rpearson/src/github/malariagen/methods-dev/pf3k_techbm/opt/cortex/CORTEX_release_v1.0.5.21/libs/gsl-1.15/bspline/.libs/libgslbspline.a\")\r\n"
       ]
      },
      {
       "output_type": "stream",
       "stream": "stdout",
       "text": [
        "libtool: link: (cd .libs/libgsl.lax/libgslcomplex.a && ar x \"/Users/rpearson/src/github/malariagen/methods-dev/pf3k_techbm/opt/cortex/CORTEX_release_v1.0.5.21/libs/gsl-1.15/complex/.libs/libgslcomplex.a\")\r\n"
       ]
      },
      {
       "output_type": "stream",
       "stream": "stdout",
       "text": [
        "libtool: link: (cd .libs/libgsl.lax/libgslcheb.a && ar x \"/Users/rpearson/src/github/malariagen/methods-dev/pf3k_techbm/opt/cortex/CORTEX_release_v1.0.5.21/libs/gsl-1.15/cheb/.libs/libgslcheb.a\")\r\n",
        "libtool: link: (cd .libs/libgsl.lax/libgsldht.a && ar x \"/Users/rpearson/src/github/malariagen/methods-dev/pf3k_techbm/opt/cortex/CORTEX_release_v1.0.5.21/libs/gsl-1.15/dht/.libs/libgsldht.a\")\r\n"
       ]
      },
      {
       "output_type": "stream",
       "stream": "stdout",
       "text": [
        "libtool: link: (cd .libs/libgsl.lax/libgsldiff.a && ar x \"/Users/rpearson/src/github/malariagen/methods-dev/pf3k_techbm/opt/cortex/CORTEX_release_v1.0.5.21/libs/gsl-1.15/diff/.libs/libgsldiff.a\")\r\n"
       ]
      },
      {
       "output_type": "stream",
       "stream": "stdout",
       "text": [
        "libtool: link: (cd .libs/libgsl.lax/libgslderiv.a && ar x \"/Users/rpearson/src/github/malariagen/methods-dev/pf3k_techbm/opt/cortex/CORTEX_release_v1.0.5.21/libs/gsl-1.15/deriv/.libs/libgslderiv.a\")\r\n"
       ]
      },
      {
       "output_type": "stream",
       "stream": "stdout",
       "text": [
        "libtool: link: (cd .libs/libgsl.lax/libgsleigen.a && ar x \"/Users/rpearson/src/github/malariagen/methods-dev/pf3k_techbm/opt/cortex/CORTEX_release_v1.0.5.21/libs/gsl-1.15/eigen/.libs/libgsleigen.a\")\r\n"
       ]
      },
      {
       "output_type": "stream",
       "stream": "stdout",
       "text": [
        "libtool: link: (cd .libs/libgsl.lax/libgslerr.a && ar x \"/Users/rpearson/src/github/malariagen/methods-dev/pf3k_techbm/opt/cortex/CORTEX_release_v1.0.5.21/libs/gsl-1.15/err/.libs/libgslerr.a\")\r\n",
        "libtool: link: (cd .libs/libgsl.lax/libgslfft.a && ar x \"/Users/rpearson/src/github/malariagen/methods-dev/pf3k_techbm/opt/cortex/CORTEX_release_v1.0.5.21/libs/gsl-1.15/fft/.libs/libgslfft.a\")\r\n"
       ]
      },
      {
       "output_type": "stream",
       "stream": "stdout",
       "text": [
        "libtool: link: (cd .libs/libgsl.lax/libgslfit.a && ar x \"/Users/rpearson/src/github/malariagen/methods-dev/pf3k_techbm/opt/cortex/CORTEX_release_v1.0.5.21/libs/gsl-1.15/fit/.libs/libgslfit.a\")\r\n"
       ]
      },
      {
       "output_type": "stream",
       "stream": "stdout",
       "text": [
        "libtool: link: (cd .libs/libgsl.lax/libgslhistogram.a && ar x \"/Users/rpearson/src/github/malariagen/methods-dev/pf3k_techbm/opt/cortex/CORTEX_release_v1.0.5.21/libs/gsl-1.15/histogram/.libs/libgslhistogram.a\")\r\n"
       ]
      },
      {
       "output_type": "stream",
       "stream": "stdout",
       "text": [
        "libtool: link: (cd .libs/libgsl.lax/libgslieeeutils.a && ar x \"/Users/rpearson/src/github/malariagen/methods-dev/pf3k_techbm/opt/cortex/CORTEX_release_v1.0.5.21/libs/gsl-1.15/ieee-utils/.libs/libgslieeeutils.a\")\r\n"
       ]
      },
      {
       "output_type": "stream",
       "stream": "stdout",
       "text": [
        "libtool: link: (cd .libs/libgsl.lax/libgslintegration.a && ar x \"/Users/rpearson/src/github/malariagen/methods-dev/pf3k_techbm/opt/cortex/CORTEX_release_v1.0.5.21/libs/gsl-1.15/integration/.libs/libgslintegration.a\")\r\n"
       ]
      },
      {
       "output_type": "stream",
       "stream": "stdout",
       "text": [
        "libtool: link: (cd .libs/libgsl.lax/libgslinterpolation.a && ar x \"/Users/rpearson/src/github/malariagen/methods-dev/pf3k_techbm/opt/cortex/CORTEX_release_v1.0.5.21/libs/gsl-1.15/interpolation/.libs/libgslinterpolation.a\")\r\n"
       ]
      },
      {
       "output_type": "stream",
       "stream": "stdout",
       "text": [
        "libtool: link: (cd .libs/libgsl.lax/libgsllinalg.a && ar x \"/Users/rpearson/src/github/malariagen/methods-dev/pf3k_techbm/opt/cortex/CORTEX_release_v1.0.5.21/libs/gsl-1.15/linalg/.libs/libgsllinalg.a\")\r\n"
       ]
      },
      {
       "output_type": "stream",
       "stream": "stdout",
       "text": [
        "libtool: link: (cd .libs/libgsl.lax/libgslmatrix.a && ar x \"/Users/rpearson/src/github/malariagen/methods-dev/pf3k_techbm/opt/cortex/CORTEX_release_v1.0.5.21/libs/gsl-1.15/matrix/.libs/libgslmatrix.a\")\r\n"
       ]
      },
      {
       "output_type": "stream",
       "stream": "stdout",
       "text": [
        "libtool: link: (cd .libs/libgsl.lax/libgslmin.a && ar x \"/Users/rpearson/src/github/malariagen/methods-dev/pf3k_techbm/opt/cortex/CORTEX_release_v1.0.5.21/libs/gsl-1.15/min/.libs/libgslmin.a\")\r\n"
       ]
      },
      {
       "output_type": "stream",
       "stream": "stdout",
       "text": [
        "libtool: link: (cd .libs/libgsl.lax/libgslmonte.a && ar x \"/Users/rpearson/src/github/malariagen/methods-dev/pf3k_techbm/opt/cortex/CORTEX_release_v1.0.5.21/libs/gsl-1.15/monte/.libs/libgslmonte.a\")\r\n"
       ]
      },
      {
       "output_type": "stream",
       "stream": "stdout",
       "text": [
        "libtool: link: (cd .libs/libgsl.lax/libgslmultifit.a && ar x \"/Users/rpearson/src/github/malariagen/methods-dev/pf3k_techbm/opt/cortex/CORTEX_release_v1.0.5.21/libs/gsl-1.15/multifit/.libs/libgslmultifit.a\")\r\n"
       ]
      },
      {
       "output_type": "stream",
       "stream": "stdout",
       "text": [
        "libtool: link: (cd .libs/libgsl.lax/libgslmultimin.a && ar x \"/Users/rpearson/src/github/malariagen/methods-dev/pf3k_techbm/opt/cortex/CORTEX_release_v1.0.5.21/libs/gsl-1.15/multimin/.libs/libgslmultimin.a\")\r\n"
       ]
      },
      {
       "output_type": "stream",
       "stream": "stdout",
       "text": [
        "libtool: link: (cd .libs/libgsl.lax/libgslmultiroots.a && ar x \"/Users/rpearson/src/github/malariagen/methods-dev/pf3k_techbm/opt/cortex/CORTEX_release_v1.0.5.21/libs/gsl-1.15/multiroots/.libs/libgslmultiroots.a\")\r\n"
       ]
      },
      {
       "output_type": "stream",
       "stream": "stdout",
       "text": [
        "libtool: link: (cd .libs/libgsl.lax/libgslntuple.a && ar x \"/Users/rpearson/src/github/malariagen/methods-dev/pf3k_techbm/opt/cortex/CORTEX_release_v1.0.5.21/libs/gsl-1.15/ntuple/.libs/libgslntuple.a\")\r\n"
       ]
      },
      {
       "output_type": "stream",
       "stream": "stdout",
       "text": [
        "libtool: link: (cd .libs/libgsl.lax/libgslodeiv.a && ar x \"/Users/rpearson/src/github/malariagen/methods-dev/pf3k_techbm/opt/cortex/CORTEX_release_v1.0.5.21/libs/gsl-1.15/ode-initval/.libs/libgslodeiv.a\")\r\n"
       ]
      },
      {
       "output_type": "stream",
       "stream": "stdout",
       "text": [
        "libtool: link: (cd .libs/libgsl.lax/libgslodeiv2.a && ar x \"/Users/rpearson/src/github/malariagen/methods-dev/pf3k_techbm/opt/cortex/CORTEX_release_v1.0.5.21/libs/gsl-1.15/ode-initval2/.libs/libgslodeiv2.a\")\r\n"
       ]
      },
      {
       "output_type": "stream",
       "stream": "stdout",
       "text": [
        "libtool: link: (cd .libs/libgsl.lax/libgslpermutation.a && ar x \"/Users/rpearson/src/github/malariagen/methods-dev/pf3k_techbm/opt/cortex/CORTEX_release_v1.0.5.21/libs/gsl-1.15/permutation/.libs/libgslpermutation.a\")\r\n"
       ]
      },
      {
       "output_type": "stream",
       "stream": "stdout",
       "text": [
        "libtool: link: (cd .libs/libgsl.lax/libgslcombination.a && ar x \"/Users/rpearson/src/github/malariagen/methods-dev/pf3k_techbm/opt/cortex/CORTEX_release_v1.0.5.21/libs/gsl-1.15/combination/.libs/libgslcombination.a\")\r\n"
       ]
      },
      {
       "output_type": "stream",
       "stream": "stdout",
       "text": [
        "libtool: link: (cd .libs/libgsl.lax/libgslmultiset.a && ar x \"/Users/rpearson/src/github/malariagen/methods-dev/pf3k_techbm/opt/cortex/CORTEX_release_v1.0.5.21/libs/gsl-1.15/multiset/.libs/libgslmultiset.a\")\r\n"
       ]
      },
      {
       "output_type": "stream",
       "stream": "stdout",
       "text": [
        "libtool: link: (cd .libs/libgsl.lax/libgslpoly.a && ar x \"/Users/rpearson/src/github/malariagen/methods-dev/pf3k_techbm/opt/cortex/CORTEX_release_v1.0.5.21/libs/gsl-1.15/poly/.libs/libgslpoly.a\")\r\n"
       ]
      },
      {
       "output_type": "stream",
       "stream": "stdout",
       "text": [
        "libtool: link: (cd .libs/libgsl.lax/libgslqrng.a && ar x \"/Users/rpearson/src/github/malariagen/methods-dev/pf3k_techbm/opt/cortex/CORTEX_release_v1.0.5.21/libs/gsl-1.15/qrng/.libs/libgslqrng.a\")\r\n",
        "libtool: link: (cd .libs/libgsl.lax/libgslrandist.a && ar x \"/Users/rpearson/src/github/malariagen/methods-dev/pf3k_techbm/opt/cortex/CORTEX_release_v1.0.5.21/libs/gsl-1.15/randist/.libs/libgslrandist.a\")\r\n"
       ]
      },
      {
       "output_type": "stream",
       "stream": "stdout",
       "text": [
        "libtool: link: (cd .libs/libgsl.lax/libgslrng.a && ar x \"/Users/rpearson/src/github/malariagen/methods-dev/pf3k_techbm/opt/cortex/CORTEX_release_v1.0.5.21/libs/gsl-1.15/rng/.libs/libgslrng.a\")\r\n"
       ]
      },
      {
       "output_type": "stream",
       "stream": "stdout",
       "text": [
        "libtool: link: (cd .libs/libgsl.lax/libgslroots.a && ar x \"/Users/rpearson/src/github/malariagen/methods-dev/pf3k_techbm/opt/cortex/CORTEX_release_v1.0.5.21/libs/gsl-1.15/roots/.libs/libgslroots.a\")\r\n",
        "libtool: link: (cd .libs/libgsl.lax/libgslsiman.a && ar x \"/Users/rpearson/src/github/malariagen/methods-dev/pf3k_techbm/opt/cortex/CORTEX_release_v1.0.5.21/libs/gsl-1.15/siman/.libs/libgslsiman.a\")\r\n"
       ]
      },
      {
       "output_type": "stream",
       "stream": "stdout",
       "text": [
        "libtool: link: (cd .libs/libgsl.lax/libgslsort.a && ar x \"/Users/rpearson/src/github/malariagen/methods-dev/pf3k_techbm/opt/cortex/CORTEX_release_v1.0.5.21/libs/gsl-1.15/sort/.libs/libgslsort.a\")\r\n"
       ]
      },
      {
       "output_type": "stream",
       "stream": "stdout",
       "text": [
        "libtool: link: (cd .libs/libgsl.lax/libgslspecfunc.a && ar x \"/Users/rpearson/src/github/malariagen/methods-dev/pf3k_techbm/opt/cortex/CORTEX_release_v1.0.5.21/libs/gsl-1.15/specfunc/.libs/libgslspecfunc.a\")\r\n"
       ]
      },
      {
       "output_type": "stream",
       "stream": "stdout",
       "text": [
        "libtool: link: (cd .libs/libgsl.lax/libgslstatistics.a && ar x \"/Users/rpearson/src/github/malariagen/methods-dev/pf3k_techbm/opt/cortex/CORTEX_release_v1.0.5.21/libs/gsl-1.15/statistics/.libs/libgslstatistics.a\")\r\n"
       ]
      },
      {
       "output_type": "stream",
       "stream": "stdout",
       "text": [
        "libtool: link: (cd .libs/libgsl.lax/libgslsum.a && ar x \"/Users/rpearson/src/github/malariagen/methods-dev/pf3k_techbm/opt/cortex/CORTEX_release_v1.0.5.21/libs/gsl-1.15/sum/.libs/libgslsum.a\")\r\n"
       ]
      },
      {
       "output_type": "stream",
       "stream": "stdout",
       "text": [
        "libtool: link: (cd .libs/libgsl.lax/libgslsys.a && ar x \"/Users/rpearson/src/github/malariagen/methods-dev/pf3k_techbm/opt/cortex/CORTEX_release_v1.0.5.21/libs/gsl-1.15/sys/.libs/libgslsys.a\")\r\n"
       ]
      },
      {
       "output_type": "stream",
       "stream": "stdout",
       "text": [
        "libtool: link: (cd .libs/libgsl.lax/libgsltest.a && ar x \"/Users/rpearson/src/github/malariagen/methods-dev/pf3k_techbm/opt/cortex/CORTEX_release_v1.0.5.21/libs/gsl-1.15/test/.libs/libgsltest.a\")\r\n"
       ]
      },
      {
       "output_type": "stream",
       "stream": "stdout",
       "text": [
        "libtool: link: (cd .libs/libgsl.lax/libutils.a && ar x \"/Users/rpearson/src/github/malariagen/methods-dev/pf3k_techbm/opt/cortex/CORTEX_release_v1.0.5.21/libs/gsl-1.15/utils/.libs/libutils.a\")\r\n"
       ]
      },
      {
       "output_type": "stream",
       "stream": "stdout",
       "text": [
        "libtool: link: (cd .libs/libgsl.lax/libgslvector.a && ar x \"/Users/rpearson/src/github/malariagen/methods-dev/pf3k_techbm/opt/cortex/CORTEX_release_v1.0.5.21/libs/gsl-1.15/vector/.libs/libgslvector.a\")\r\n"
       ]
      },
      {
       "output_type": "stream",
       "stream": "stdout",
       "text": [
        "libtool: link: (cd .libs/libgsl.lax/libgslcdf.a && ar x \"/Users/rpearson/src/github/malariagen/methods-dev/pf3k_techbm/opt/cortex/CORTEX_release_v1.0.5.21/libs/gsl-1.15/cdf/.libs/libgslcdf.a\")\r\n"
       ]
      },
      {
       "output_type": "stream",
       "stream": "stdout",
       "text": [
        "libtool: link: (cd .libs/libgsl.lax/libgslwavelet.a && ar x \"/Users/rpearson/src/github/malariagen/methods-dev/pf3k_techbm/opt/cortex/CORTEX_release_v1.0.5.21/libs/gsl-1.15/wavelet/.libs/libgslwavelet.a\")\r\n"
       ]
      },
      {
       "output_type": "stream",
       "stream": "stdout",
       "text": [
        "copying selected object files to avoid basename conflicts...\r\n",
        "libtool: link: ln .libs/libgsl.lax/libgslcheb.a/init.o .libs/libgsl.lax/lt1-init.o || cp .libs/libgsl.lax/libgslcheb.a/init.o .libs/libgsl.lax/lt1-init.o\r\n",
        "libtool: link: ln .libs/libgsl.lax/libgslderiv.a/deriv.o .libs/libgsl.lax/lt2-deriv.o || cp .libs/libgsl.lax/libgslderiv.a/deriv.o .libs/libgsl.lax/lt2-deriv.o\r\n",
        "libtool: link: ln .libs/libgsl.lax/libgslhistogram.a/file.o .libs/libgsl.lax/lt3-file.o || cp .libs/libgsl.lax/libgslhistogram.a/file.o .libs/libgsl.lax/lt3-file.o\r\n",
        "libtool: link: ln .libs/libgsl.lax/libgslhistogram.a/init.o .libs/libgsl.lax/lt4-init.o || cp .libs/libgsl.lax/libgslhistogram.a/init.o .libs/libgsl.lax/lt4-init.o\r\n",
        "libtool: link: ln .libs/libgsl.lax/libgslinterpolation.a/inline.o .libs/libgsl.lax/lt5-inline.o || cp .libs/libgsl.lax/libgslinterpolation.a/inline.o .libs/libgsl.lax/lt5-inline.o\r\n",
        "libtool: link: ln .libs/libgsl.lax/libgslinterpolation.a/linear.o .libs/libgsl.lax/lt6-linear.o || cp .libs/libgsl.lax/libgslinterpolation.a/linear.o .libs/libgsl.lax/lt6-linear.o\r\n"
       ]
      },
      {
       "output_type": "stream",
       "stream": "stdout",
       "text": [
        "libtool: link: ln .libs/libgsl.lax/libgslmatrix.a/copy.o .libs/libgsl.lax/lt7-copy.o || cp .libs/libgsl.lax/libgslmatrix.a/copy.o .libs/libgsl.lax/lt7-copy.o\r\n",
        "libtool: link: ln .libs/libgsl.lax/libgslmatrix.a/file.o .libs/libgsl.lax/lt8-file.o || cp .libs/libgsl.lax/libgslmatrix.a/file.o .libs/libgsl.lax/lt8-file.o\r\n",
        "libtool: link: ln .libs/libgsl.lax/libgslmatrix.a/init.o .libs/libgsl.lax/lt9-init.o || cp .libs/libgsl.lax/libgslmatrix.a/init.o .libs/libgsl.lax/lt9-init.o\r\n",
        "libtool: link: ln .libs/libgsl.lax/libgslmatrix.a/oper.o .libs/libgsl.lax/lt10-oper.o || cp .libs/libgsl.lax/libgslmatrix.a/oper.o .libs/libgsl.lax/lt10-oper.o\r\n",
        "libtool: link: ln .libs/libgsl.lax/libgslmultifit.a/convergence.o .libs/libgsl.lax/lt11-convergence.o || cp .libs/libgsl.lax/libgslmultifit.a/convergence.o .libs/libgsl.lax/lt11-convergence.o\r\n",
        "libtool: link: ln .libs/libgsl.lax/libgslmultifit.a/fsolver.o .libs/libgsl.lax/lt12-fsolver.o || cp .libs/libgsl.lax/libgslmultifit.a/fsolver.o .libs/libgsl.lax/lt12-fsolver.o\r\n",
        "libtool: link: ln .libs/libgsl.lax/libgslmultimin.a/convergence.o .libs/libgsl.lax/lt13-convergence.o || cp .libs/libgsl.lax/libgslmultimin.a/convergence.o .libs/libgsl.lax/lt13-convergence.o\r\n"
       ]
      },
      {
       "output_type": "stream",
       "stream": "stdout",
       "text": [
        "libtool: link: ln .libs/libgsl.lax/libgslmultimin.a/diff.o .libs/libgsl.lax/lt14-diff.o || cp .libs/libgsl.lax/libgslmultimin.a/diff.o .libs/libgsl.lax/lt14-diff.o\r\n",
        "libtool: link: ln .libs/libgsl.lax/libgslmultiroots.a/convergence.o .libs/libgsl.lax/lt15-convergence.o || cp .libs/libgsl.lax/libgslmultiroots.a/convergence.o .libs/libgsl.lax/lt15-convergence.o\r\n",
        "libtool: link: ln .libs/libgsl.lax/libgslmultiroots.a/fdfsolver.o .libs/libgsl.lax/lt16-fdfsolver.o || cp .libs/libgsl.lax/libgslmultiroots.a/fdfsolver.o .libs/libgsl.lax/lt16-fdfsolver.o\r\n",
        "libtool: link: ln .libs/libgsl.lax/libgslmultiroots.a/fsolver.o .libs/libgsl.lax/lt17-fsolver.o || cp .libs/libgsl.lax/libgslmultiroots.a/fsolver.o .libs/libgsl.lax/lt17-fsolver.o\r\n",
        "libtool: link: ln .libs/libgsl.lax/libgslodeiv2.a/bsimp.o .libs/libgsl.lax/lt18-bsimp.o || cp .libs/libgsl.lax/libgslodeiv2.a/bsimp.o .libs/libgsl.lax/lt18-bsimp.o\r\n",
        "libtool: link: ln .libs/libgsl.lax/libgslodeiv2.a/control.o .libs/libgsl.lax/lt19-control.o || cp .libs/libgsl.lax/libgslodeiv2.a/control.o .libs/libgsl.lax/lt19-control.o\r\n"
       ]
      },
      {
       "output_type": "stream",
       "stream": "stdout",
       "text": [
        "libtool: link: ln .libs/libgsl.lax/libgslodeiv2.a/cscal.o .libs/libgsl.lax/lt20-cscal.o || cp .libs/libgsl.lax/libgslodeiv2.a/cscal.o .libs/libgsl.lax/lt20-cscal.o\r\n",
        "libtool: link: ln .libs/libgsl.lax/libgslodeiv2.a/cstd.o .libs/libgsl.lax/lt21-cstd.o || cp .libs/libgsl.lax/libgslodeiv2.a/cstd.o .libs/libgsl.lax/lt21-cstd.o\r\n",
        "libtool: link: ln .libs/libgsl.lax/libgslodeiv2.a/evolve.o .libs/libgsl.lax/lt22-evolve.o || cp .libs/libgsl.lax/libgslodeiv2.a/evolve.o .libs/libgsl.lax/lt22-evolve.o\r\n",
        "libtool: link: ln .libs/libgsl.lax/libgslodeiv2.a/rk2.o .libs/libgsl.lax/lt23-rk2.o || cp .libs/libgsl.lax/libgslodeiv2.a/rk2.o .libs/libgsl.lax/lt23-rk2.o\r\n",
        "libtool: link: ln .libs/libgsl.lax/libgslodeiv2.a/rk2imp.o .libs/libgsl.lax/lt24-rk2imp.o || cp .libs/libgsl.lax/libgslodeiv2.a/rk2imp.o .libs/libgsl.lax/lt24-rk2imp.o\r\n",
        "libtool: link: ln .libs/libgsl.lax/libgslodeiv2.a/rk4.o .libs/libgsl.lax/lt25-rk4.o || cp .libs/libgsl.lax/libgslodeiv2.a/rk4.o .libs/libgsl.lax/lt25-rk4.o\r\n",
        "libtool: link: ln .libs/libgsl.lax/libgslodeiv2.a/rk4imp.o .libs/libgsl.lax/lt26-rk4imp.o || cp .libs/libgsl.lax/libgslodeiv2.a/rk4imp.o .libs/libgsl.lax/lt26-rk4imp.o\r\n",
        "libtool: link: ln .libs/libgsl.lax/libgslodeiv2.a/rk8pd.o .libs/libgsl.lax/lt27-rk8pd.o || cp .libs/libgsl.lax/libgslodeiv2.a/rk8pd.o .libs/libgsl.lax/lt27-rk8pd.o\r\n",
        "libtool: link: ln .libs/libgsl.lax/libgslodeiv2.a/rkck.o .libs/libgsl.lax/lt28-rkck.o || cp .libs/libgsl.lax/libgslodeiv2.a/rkck.o .libs/libgsl.lax/lt28-rkck.o\r\n",
        "libtool: link: ln .libs/libgsl.lax/libgslodeiv2.a/rkf45.o .libs/libgsl.lax/lt29-rkf45.o || cp .libs/libgsl.lax/libgslodeiv2.a/rkf45.o .libs/libgsl.lax/lt29-rkf45.o\r\n",
        "libtool: link: ln .libs/libgsl.lax/libgslodeiv2.a/step.o .libs/libgsl.lax/lt30-step.o || cp .libs/libgsl.lax/libgslodeiv2.a/step.o .libs/libgsl.lax/lt30-step.o\r\n"
       ]
      },
      {
       "output_type": "stream",
       "stream": "stdout",
       "text": [
        "libtool: link: ln .libs/libgsl.lax/libgslpermutation.a/file.o .libs/libgsl.lax/lt31-file.o || cp .libs/libgsl.lax/libgslpermutation.a/file.o .libs/libgsl.lax/lt31-file.o\r\n",
        "libtool: link: ln .libs/libgsl.lax/libgslpermutation.a/init.o .libs/libgsl.lax/lt32-init.o || cp .libs/libgsl.lax/libgslpermutation.a/init.o .libs/libgsl.lax/lt32-init.o\r\n",
        "libtool: link: ln .libs/libgsl.lax/libgslpermutation.a/inline.o .libs/libgsl.lax/lt33-inline.o || cp .libs/libgsl.lax/libgslpermutation.a/inline.o .libs/libgsl.lax/lt33-inline.o\r\n",
        "libtool: link: ln .libs/libgsl.lax/libgslcombination.a/file.o .libs/libgsl.lax/lt34-file.o || cp .libs/libgsl.lax/libgslcombination.a/file.o .libs/libgsl.lax/lt34-file.o\r\n",
        "libtool: link: ln .libs/libgsl.lax/libgslcombination.a/init.o .libs/libgsl.lax/lt35-init.o || cp .libs/libgsl.lax/libgslcombination.a/init.o .libs/libgsl.lax/lt35-init.o\r\n",
        "libtool: link: ln .libs/libgsl.lax/libgslcombination.a/inline.o .libs/libgsl.lax/lt36-inline.o || cp .libs/libgsl.lax/libgslcombination.a/inline.o .libs/libgsl.lax/lt36-inline.o\r\n",
        "libtool: link: ln .libs/libgsl.lax/libgslmultiset.a/file.o .libs/libgsl.lax/lt37-file.o || cp .libs/libgsl.lax/libgslmultiset.a/file.o .libs/libgsl.lax/lt37-file.o\r\n",
        "libtool: link: ln .libs/libgsl.lax/libgslmultiset.a/init.o .libs/libgsl.lax/lt38-init.o || cp .libs/libgsl.lax/libgslmultiset.a/init.o .libs/libgsl.lax/lt38-init.o\r\n",
        "libtool: link: ln .libs/libgsl.lax/libgslmultiset.a/inline.o .libs/libgsl.lax/lt39-inline.o || cp .libs/libgsl.lax/libgslmultiset.a/inline.o .libs/libgsl.lax/lt39-inline.o\r\n",
        "libtool: link: ln .libs/libgsl.lax/libgslpoly.a/deriv.o .libs/libgsl.lax/lt40-deriv.o || cp .libs/libgsl.lax/libgslpoly.a/deriv.o .libs/libgsl.lax/lt40-deriv.o\r\n",
        "libtool: link: ln .libs/libgsl.lax/libgslpoly.a/eval.o .libs/libgsl.lax/lt41-eval.o || cp .libs/libgsl.lax/libgslpoly.a/eval.o .libs/libgsl.lax/lt41-eval.o\r\n"
       ]
      },
      {
       "output_type": "stream",
       "stream": "stdout",
       "text": [
        "libtool: link: ln .libs/libgsl.lax/libgslqrng.a/inline.o .libs/libgsl.lax/lt42-inline.o || cp .libs/libgsl.lax/libgslqrng.a/inline.o .libs/libgsl.lax/lt42-inline.o\r\n",
        "libtool: link: ln .libs/libgsl.lax/libgslrandist.a/exponential.o .libs/libgsl.lax/lt43-exponential.o || cp .libs/libgsl.lax/libgslrandist.a/exponential.o .libs/libgsl.lax/lt43-exponential.o\r\n"
       ]
      },
      {
       "output_type": "stream",
       "stream": "stdout",
       "text": [
        "libtool: link: ln .libs/libgsl.lax/libgslrng.a/file.o .libs/libgsl.lax/lt44-file.o || cp .libs/libgsl.lax/libgslrng.a/file.o .libs/libgsl.lax/lt44-file.o\r\n",
        "libtool: link: ln .libs/libgsl.lax/libgslrng.a/inline.o .libs/libgsl.lax/lt45-inline.o || cp .libs/libgsl.lax/libgslrng.a/inline.o .libs/libgsl.lax/lt45-inline.o\r\n"
       ]
      },
      {
       "output_type": "stream",
       "stream": "stdout",
       "text": [
        "libtool: link: ln .libs/libgsl.lax/libgslroots.a/brent.o .libs/libgsl.lax/lt46-brent.o || cp .libs/libgsl.lax/libgslroots.a/brent.o .libs/libgsl.lax/lt46-brent.o\r\n",
        "libtool: link: ln .libs/libgsl.lax/libgslroots.a/convergence.o .libs/libgsl.lax/lt47-convergence.o || cp .libs/libgsl.lax/libgslroots.a/convergence.o .libs/libgsl.lax/lt47-convergence.o\r\n",
        "libtool: link: ln .libs/libgsl.lax/libgslroots.a/fdfsolver.o .libs/libgsl.lax/lt48-fdfsolver.o || cp .libs/libgsl.lax/libgslroots.a/fdfsolver.o .libs/libgsl.lax/lt48-fdfsolver.o\r\n",
        "libtool: link: ln .libs/libgsl.lax/libgslroots.a/fsolver.o .libs/libgsl.lax/lt49-fsolver.o || cp .libs/libgsl.lax/libgslroots.a/fsolver.o .libs/libgsl.lax/lt49-fsolver.o\r\n",
        "libtool: link: ln .libs/libgsl.lax/libgslroots.a/newton.o .libs/libgsl.lax/lt50-newton.o || cp .libs/libgsl.lax/libgslroots.a/newton.o .libs/libgsl.lax/lt50-newton.o\r\n",
        "libtool: link: ln .libs/libgsl.lax/libgslsort.a/sort.o .libs/libgsl.lax/lt51-sort.o || cp .libs/libgsl.lax/libgslsort.a/sort.o .libs/libgsl.lax/lt51-sort.o\r\n"
       ]
      },
      {
       "output_type": "stream",
       "stream": "stdout",
       "text": [
        "libtool: link: ln .libs/libgsl.lax/libgslspecfunc.a/beta.o .libs/libgsl.lax/lt52-beta.o || cp .libs/libgsl.lax/libgslspecfunc.a/beta.o .libs/libgsl.lax/lt52-beta.o\r\n"
       ]
      },
      {
       "output_type": "stream",
       "stream": "stdout",
       "text": [
        "libtool: link: ln .libs/libgsl.lax/libgslspecfunc.a/gamma.o .libs/libgsl.lax/lt53-gamma.o || cp .libs/libgsl.lax/libgslspecfunc.a/gamma.o .libs/libgsl.lax/lt53-gamma.o\r\n",
        "libtool: link: ln .libs/libgsl.lax/libgslspecfunc.a/hyperg.o .libs/libgsl.lax/lt54-hyperg.o || cp .libs/libgsl.lax/libgslspecfunc.a/hyperg.o .libs/libgsl.lax/lt54-hyperg.o\r\n"
       ]
      },
      {
       "output_type": "stream",
       "stream": "stdout",
       "text": [
        "libtool: link: ln .libs/libgsl.lax/libgslstatistics.a/minmax.o .libs/libgsl.lax/lt55-minmax.o || cp .libs/libgsl.lax/libgslstatistics.a/minmax.o .libs/libgsl.lax/lt55-minmax.o\r\n"
       ]
      },
      {
       "output_type": "stream",
       "stream": "stdout",
       "text": [
        "libtool: link: ln .libs/libgsl.lax/libgslsys.a/minmax.o .libs/libgsl.lax/lt56-minmax.o || cp .libs/libgsl.lax/libgslsys.a/minmax.o .libs/libgsl.lax/lt56-minmax.o\r\n",
        "libtool: link: ln .libs/libgsl.lax/libgslsys.a/pow_int.o .libs/libgsl.lax/lt57-pow_int.o || cp .libs/libgsl.lax/libgslsys.a/pow_int.o .libs/libgsl.lax/lt57-pow_int.o\r\n"
       ]
      },
      {
       "output_type": "stream",
       "stream": "stdout",
       "text": [
        "libtool: link: ln .libs/libgsl.lax/libgslvector.a/copy.o .libs/libgsl.lax/lt58-copy.o || cp .libs/libgsl.lax/libgslvector.a/copy.o .libs/libgsl.lax/lt58-copy.o\r\n",
        "libtool: link: ln .libs/libgsl.lax/libgslvector.a/file.o .libs/libgsl.lax/lt59-file.o || cp .libs/libgsl.lax/libgslvector.a/file.o .libs/libgsl.lax/lt59-file.o\r\n",
        "libtool: link: ln .libs/libgsl.lax/libgslvector.a/init.o .libs/libgsl.lax/lt60-init.o || cp .libs/libgsl.lax/libgslvector.a/init.o .libs/libgsl.lax/lt60-init.o\r\n",
        "libtool: link: ln .libs/libgsl.lax/libgslvector.a/minmax.o .libs/libgsl.lax/lt61-minmax.o || cp .libs/libgsl.lax/libgslvector.a/minmax.o .libs/libgsl.lax/lt61-minmax.o\r\n",
        "libtool: link: ln .libs/libgsl.lax/libgslvector.a/oper.o .libs/libgsl.lax/lt62-oper.o || cp .libs/libgsl.lax/libgslvector.a/oper.o .libs/libgsl.lax/lt62-oper.o\r\n",
        "libtool: link: ln .libs/libgsl.lax/libgslvector.a/prop.o .libs/libgsl.lax/lt63-prop.o || cp .libs/libgsl.lax/libgslvector.a/prop.o .libs/libgsl.lax/lt63-prop.o\r\n",
        "libtool: link: ln .libs/libgsl.lax/libgslvector.a/swap.o .libs/libgsl.lax/lt64-swap.o || cp .libs/libgsl.lax/libgslvector.a/swap.o .libs/libgsl.lax/lt64-swap.o\r\n",
        "libtool: link: ln .libs/libgsl.lax/libgslvector.a/view.o .libs/libgsl.lax/lt65-view.o || cp .libs/libgsl.lax/libgslvector.a/view.o .libs/libgsl.lax/lt65-view.o\r\n",
        "libtool: link: ln .libs/libgsl.lax/libgslcdf.a/beta.o .libs/libgsl.lax/lt66-beta.o || cp .libs/libgsl.lax/libgslcdf.a/beta.o .libs/libgsl.lax/lt66-beta.o\r\n"
       ]
      }
     ],
     "prompt_number": 6
    },
    {
     "cell_type": "code",
     "collapsed": false,
     "input": [
      "%"
     ],
     "language": "python",
     "metadata": {},
     "outputs": []
    }
   ],
   "metadata": {}
  }
 ]
}