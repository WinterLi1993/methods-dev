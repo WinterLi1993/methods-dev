{
 "metadata": {
  "name": "",
  "signature": "sha256:bcb3b9602be49ddc637bfc3819c66557e657aeea19fb1dc90bb4cb8b7b9111fe"
 },
 "nbformat": 3,
 "nbformat_minor": 0,
 "worksheets": [
  {
   "cells": [
    {
     "cell_type": "heading",
     "level": 1,
     "metadata": {},
     "source": [
      "Setup"
     ]
    },
    {
     "cell_type": "code",
     "collapsed": false,
     "input": [
      "%run standard_imports.ipynb\n",
      "\n",
      "PGV_METADATA_FN = '../../meta/Pf/PGV4_mk5.xlsx'\n",
      "PF3K_PANOPTES_FN = '../../meta/Pf/Pf3k_release3_panoptes_samples.txt'"
     ],
     "language": "python",
     "metadata": {},
     "outputs": [
      {
       "output_type": "stream",
       "stream": "stdout",
       "text": [
        "python 3.4.1 |Anaconda 2.1.0 (x86_64)| (default, Sep 10 2014, 17:24:09) \n",
        "[GCC 4.2.1 (Apple Inc. build 5577)]\n",
        "numpy 1.9.2\n",
        "scipy 0.14.0\n",
        "pandas 0.14.1\n",
        "numexpr 2.3.1\n",
        "pysam 0.8.3\n",
        "petl 1.0.2\n",
        "petlx 1.0.3\n",
        "vcf 0.6.7\n",
        "h5py 2.3.1\n",
        "tables 3.1.1\n",
        "vcfplt 0.8\n"
       ]
      }
     ],
     "prompt_number": 2
    },
    {
     "cell_type": "heading",
     "level": 1,
     "metadata": {},
     "source": [
      "Load data"
     ]
    },
    {
     "cell_type": "code",
     "collapsed": false,
     "input": [
      "tbl_pgv_metadata = etl.fromxlsx(PGV_METADATA_FN)\n",
      "tbl_pgv_metadata"
     ],
     "language": "python",
     "metadata": {},
     "outputs": []
    }
   ],
   "metadata": {}
  }
 ]
}