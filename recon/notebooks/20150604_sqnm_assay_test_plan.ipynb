{
 "metadata": {
  "name": "",
  "signature": "sha256:dd8c68ec5c9556cceb7c5baaf2ce0294cfd4cd6428bb94a66913603b1d2972fa"
 },
 "nbformat": 3,
 "nbformat_minor": 0,
 "worksheets": [
  {
   "cells": [
    {
     "cell_type": "markdown",
     "metadata": {},
     "source": [
      "- Start copying over Pf 4.0 vcf (currently running)\n",
      "- Start copying over bam files for all samples (20150605_transfer_bams.ipynb)\n",
      "- Figure out how to pull out relevant rows from vcf, e.g. by creating a bed (samtools?)\n",
      "- Missingness per sample plots (broken down by Pf, human, water)\n",
      "- Missingness per assay plots (broken down by Pf, human, water)\n",
      "- Discordance table\n",
      "- Discordance by sample and by assay plots\n",
      "- Cluster plots, coloured by Sequenom calls, Christina calls and Illumina calls\n",
      "- Colour cluster plots by Pf, human, water, dilution\n",
      "- Add lines to cluster plots (to recreate Kirk's)\n",
      "- Comparison of allelic ratio plots\n",
      "- New calling based on different thresholds, including concordance\n",
      "\n",
      "- Analysis of previous Christina calls, including different thresholds on different plates\n",
      "- Can we make an argument for same thresholds on different plates?"
     ]
    },
    {
     "cell_type": "code",
     "collapsed": false,
     "input": [],
     "language": "python",
     "metadata": {},
     "outputs": []
    }
   ],
   "metadata": {}
  }
 ]
}