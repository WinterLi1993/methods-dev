{
 "metadata": {
  "name": "",
  "signature": "sha256:a56ffce5282303ec989af451330c7025caf4896a140ff2c6acd3127b096ef352"
 },
 "nbformat": 3,
 "nbformat_minor": 0,
 "worksheets": [
  {
   "cells": [
    {
     "cell_type": "heading",
     "level": 1,
     "metadata": {},
     "source": [
      "Setup"
     ]
    },
    {
     "cell_type": "code",
     "collapsed": false,
     "input": [
      "%run _shared_setup.ipynb"
     ],
     "language": "python",
     "metadata": {},
     "outputs": [
      {
       "output_type": "stream",
       "stream": "stdout",
       "text": [
        "python 3.4.1 |Anaconda 2.1.0 (x86_64)| (default, Sep 10 2014, 17:24:09) \n",
        "[GCC 4.2.1 (Apple Inc. build 5577)]\n",
        "numpy 1.9.2\n",
        "scipy 0.14.0\n",
        "pandas 0.14.1\n",
        "numexpr 2.3.1\n",
        "pysam 0.8.3\n",
        "petl 1.0.10\n",
        "petlx 1.0.3\n",
        "vcf 0.6.7\n",
        "h5py 2.3.1\n",
        "tables 3.1.1\n",
        "vcfplt 0.8\n"
       ]
      },
      {
       "output_type": "stream",
       "stream": "stdout",
       "text": [
        "384\n",
        "5729"
       ]
      },
      {
       "output_type": "stream",
       "stream": "stdout",
       "text": [
        "\n",
        "10\n"
       ]
      }
     ],
     "prompt_number": 1
    },
    {
     "cell_type": "code",
     "collapsed": false,
     "input": [
      "SANGER_BAM_DIR = '/nfs/team112_internal/production_files/Pf/4_0'\n",
      "CAPILLARY_SAMPLES_FN = '/data/plasmodium/pfalciparum/recon/data/processed/capillary/initial_capillary_samples.xlsx'\n"
     ],
     "language": "python",
     "metadata": {},
     "outputs": [],
     "prompt_number": 10
    },
    {
     "cell_type": "heading",
     "level": 1,
     "metadata": {},
     "source": [
      "Load data"
     ]
    },
    {
     "cell_type": "code",
     "collapsed": false,
     "input": [
      "tbl_sample_sets"
     ],
     "language": "python",
     "metadata": {},
     "outputs": [
      {
       "html": [
        "<table class='petl'>\n",
        "<thead>\n",
        "<tr>\n",
        "<th>sample_code</th>\n",
        "<th>source_code</th>\n",
        "<th>donor_source_code</th>\n",
        "<th>country_code</th>\n",
        "<th>384_sample_set_code</th>\n",
        "<th>384_position_code</th>\n",
        "<th>96_sample_set_code</th>\n",
        "<th>96_position_code</th>\n",
        "</tr>\n",
        "</thead>\n",
        "<tbody>\n",
        "<tr>\n",
        "<td>PH0043-C</td>\n",
        "<td style='text-align: right'>722519</td>\n",
        "<td style='text-align: right'>722519</td>\n",
        "<td>KH</td>\n",
        "<td>DK1066</td>\n",
        "<td>A01</td>\n",
        "<td>PH150527-1</td>\n",
        "<td>A01</td>\n",
        "</tr>\n",
        "<tr>\n",
        "<td>PN0004-C</td>\n",
        "<td>pfXUA010</td>\n",
        "<td>pfXUA010</td>\n",
        "<td>PG</td>\n",
        "<td>DK1066</td>\n",
        "<td>A02</td>\n",
        "<td>PF150527-1</td>\n",
        "<td>A01</td>\n",
        "</tr>\n",
        "<tr>\n",
        "<td>PH0457-CW</td>\n",
        "<td>PF860-2MACS_WGA</td>\n",
        "<td>PF860-2MACS</td>\n",
        "<td>KH</td>\n",
        "<td>DK1066</td>\n",
        "<td>A03</td>\n",
        "<td>PH150527-1</td>\n",
        "<td>A02</td>\n",
        "</tr>\n",
        "<tr>\n",
        "<td>PN0005-C</td>\n",
        "<td>pfXUA013</td>\n",
        "<td>pfXUA013</td>\n",
        "<td>PG</td>\n",
        "<td>DK1066</td>\n",
        "<td>A04</td>\n",
        "<td>PF150527-1</td>\n",
        "<td>A02</td>\n",
        "</tr>\n",
        "<tr>\n",
        "<td>PH0002-C</td>\n",
        "<td>CP185</td>\n",
        "<td>CP185</td>\n",
        "<td>KH</td>\n",
        "<td>DK1066</td>\n",
        "<td>A05</td>\n",
        "<td>PH150527-1</td>\n",
        "<td>A03</td>\n",
        "</tr>\n",
        "</tbody>\n",
        "</table>\n",
        "<p><strong>...</strong></p>"
       ],
       "metadata": {},
       "output_type": "pyout",
       "prompt_number": 3,
       "text": [
        "+-------------+-------------------+-------------------+--------------+---------------------+-------------------+--------------------+------------------+\n",
        "| sample_code | source_code       | donor_source_code | country_code | 384_sample_set_code | 384_position_code | 96_sample_set_code | 96_position_code |\n",
        "+=============+===================+===================+==============+=====================+===================+====================+==================+\n",
        "| 'PH0043-C'  |            722519 |            722519 | 'KH'         | 'DK1066'            | 'A01'             | 'PH150527-1'       | 'A01'            |\n",
        "+-------------+-------------------+-------------------+--------------+---------------------+-------------------+--------------------+------------------+\n",
        "| 'PN0004-C'  | 'pfXUA010'        | 'pfXUA010'        | 'PG'         | 'DK1066'            | 'A02'             | 'PF150527-1'       | 'A01'            |\n",
        "+-------------+-------------------+-------------------+--------------+---------------------+-------------------+--------------------+------------------+\n",
        "| 'PH0457-CW' | 'PF860-2MACS_WGA' | 'PF860-2MACS'     | 'KH'         | 'DK1066'            | 'A03'             | 'PH150527-1'       | 'A02'            |\n",
        "+-------------+-------------------+-------------------+--------------+---------------------+-------------------+--------------------+------------------+\n",
        "| 'PN0005-C'  | 'pfXUA013'        | 'pfXUA013'        | 'PG'         | 'DK1066'            | 'A04'             | 'PF150527-1'       | 'A02'            |\n",
        "+-------------+-------------------+-------------------+--------------+---------------------+-------------------+--------------------+------------------+\n",
        "| 'PH0002-C'  | 'CP185'           | 'CP185'           | 'KH'         | 'DK1066'            | 'A05'             | 'PH150527-1'       | 'A03'            |\n",
        "+-------------+-------------------+-------------------+--------------+---------------------+-------------------+--------------------+------------------+\n",
        "..."
       ]
      }
     ],
     "prompt_number": 3
    },
    {
     "cell_type": "code",
     "collapsed": false,
     "input": [
      "tbl_capillary_samples = etl.fromxlsx(CAPILLARY_SAMPLES_FN)\n",
      "tbl_capillary_samples"
     ],
     "language": "python",
     "metadata": {},
     "outputs": [
      {
       "html": [
        "<table class='petl'>\n",
        "<thead>\n",
        "<tr>\n",
        "<th>ox_code</th>\n",
        "<th>company</th>\n",
        "<th>have_sequenom_data</th>\n",
        "<th>is_in_pgv4_vcf</th>\n",
        "<th>Pf3k v3</th>\n",
        "</tr>\n",
        "</thead>\n",
        "<tbody>\n",
        "<tr>\n",
        "<td>PA0155-C</td>\n",
        "<td>GATC</td>\n",
        "<td>None</td>\n",
        "<td>True</td>\n",
        "<td>True</td>\n",
        "</tr>\n",
        "<tr>\n",
        "<td>PA0223-C</td>\n",
        "<td>GATC</td>\n",
        "<td>None</td>\n",
        "<td>True</td>\n",
        "<td>True</td>\n",
        "</tr>\n",
        "<tr>\n",
        "<td>PH0022-C</td>\n",
        "<td>GATC</td>\n",
        "<td>True</td>\n",
        "<td>True</td>\n",
        "<td>None</td>\n",
        "</tr>\n",
        "<tr>\n",
        "<td>PA0020-C</td>\n",
        "<td>Source_Bioscience</td>\n",
        "<td>True</td>\n",
        "<td>True</td>\n",
        "<td>True</td>\n",
        "</tr>\n",
        "<tr>\n",
        "<td>PA0079-C</td>\n",
        "<td>Source_Bioscience</td>\n",
        "<td>None</td>\n",
        "<td>True</td>\n",
        "<td>True</td>\n",
        "</tr>\n",
        "</tbody>\n",
        "</table>\n",
        "<p><strong>...</strong></p>"
       ],
       "metadata": {},
       "output_type": "pyout",
       "prompt_number": 12,
       "text": [
        "+------------+---------------------+--------------------+----------------+---------+\n",
        "| ox_code    | company             | have_sequenom_data | is_in_pgv4_vcf | Pf3k v3 |\n",
        "+============+=====================+====================+================+=========+\n",
        "| 'PA0155-C' | 'GATC'              | None               | True           | True    |\n",
        "+------------+---------------------+--------------------+----------------+---------+\n",
        "| 'PA0223-C' | 'GATC'              | None               | True           | True    |\n",
        "+------------+---------------------+--------------------+----------------+---------+\n",
        "| 'PH0022-C' | 'GATC'              | True               | True           | None    |\n",
        "+------------+---------------------+--------------------+----------------+---------+\n",
        "| 'PA0020-C' | 'Source_Bioscience' | True               | True           | True    |\n",
        "+------------+---------------------+--------------------+----------------+---------+\n",
        "| 'PA0079-C' | 'Source_Bioscience' | None               | True           | True    |\n",
        "+------------+---------------------+--------------------+----------------+---------+\n",
        "..."
       ]
      }
     ],
     "prompt_number": 12
    },
    {
     "cell_type": "code",
     "collapsed": false,
     "input": [
      "tbl_sample_bam_info = (\n",
      "    tbl_capillary_samples\n",
      "    .join(tbl_pgv4_sample_manifest, lkey='ox_code', rkey='Sample')\n",
      "    .cut(['ox_code', 'Study'])\n",
      "    .addfield('sanger_bam_fn', lambda rec: \"%s/%s/%s/%s.bam\" % (\n",
      "        SANGER_BAM_DIR,\n",
      "        rec['Study'],\n",
      "        rec['ox_code'].replace('-', '_'),\n",
      "        rec['ox_code'].replace('-', '_')\n",
      "    ))\n",
      "    .addfield('local_dir', lambda rec: \"%s/%s/%s/\" % (\n",
      "        SANGER_BAM_DIR,\n",
      "        rec['Study'],\n",
      "        rec['ox_code'].replace('-', '_')\n",
      "    ))\n",
      ")\n",
      "print(len(tbl_sample_bam_info.data()))\n",
      "tbl_sample_bam_info.display(index_header=True)"
     ],
     "language": "python",
     "metadata": {},
     "outputs": [
      {
       "output_type": "stream",
       "stream": "stdout",
       "text": [
        "14\n"
       ]
      },
      {
       "html": [
        "<table class='petl'>\n",
        "<thead>\n",
        "<tr>\n",
        "<th>0|ox_code</th>\n",
        "<th>1|Study</th>\n",
        "<th>2|sanger_bam_fn</th>\n",
        "<th>3|local_dir</th>\n",
        "</tr>\n",
        "</thead>\n",
        "<tbody>\n",
        "<tr>\n",
        "<td>PA0020-C</td>\n",
        "<td>PF6</td>\n",
        "<td>/nfs/team112_internal/production_files/Pf/4_0/PF6/PA0020_C/PA0020_C.bam</td>\n",
        "<td>/nfs/team112_internal/production_files/Pf/4_0/PF6/PA0020_C/</td>\n",
        "</tr>\n",
        "<tr>\n",
        "<td>PA0079-C</td>\n",
        "<td>PF6</td>\n",
        "<td>/nfs/team112_internal/production_files/Pf/4_0/PF6/PA0079_C/PA0079_C.bam</td>\n",
        "<td>/nfs/team112_internal/production_files/Pf/4_0/PF6/PA0079_C/</td>\n",
        "</tr>\n",
        "<tr>\n",
        "<td>PA0155-C</td>\n",
        "<td>PF26</td>\n",
        "<td>/nfs/team112_internal/production_files/Pf/4_0/PF26/PA0155_C/PA0155_C.bam</td>\n",
        "<td>/nfs/team112_internal/production_files/Pf/4_0/PF26/PA0155_C/</td>\n",
        "</tr>\n",
        "<tr>\n",
        "<td>PA0223-C</td>\n",
        "<td>PF26</td>\n",
        "<td>/nfs/team112_internal/production_files/Pf/4_0/PF26/PA0223_C/PA0223_C.bam</td>\n",
        "<td>/nfs/team112_internal/production_files/Pf/4_0/PF26/PA0223_C/</td>\n",
        "</tr>\n",
        "<tr>\n",
        "<td>PF0428-CW</td>\n",
        "<td>PF17</td>\n",
        "<td>/nfs/team112_internal/production_files/Pf/4_0/PF17/PF0428_CW/PF0428_CW.bam</td>\n",
        "<td>/nfs/team112_internal/production_files/Pf/4_0/PF17/PF0428_CW/</td>\n",
        "</tr>\n",
        "</tbody>\n",
        "</table>\n",
        "<p><strong>...</strong></p>"
       ],
       "metadata": {},
       "output_type": "display_data"
      }
     ],
     "prompt_number": 15
    },
    {
     "cell_type": "heading",
     "level": 1,
     "metadata": {},
     "source": [
      "Transfer bams for capilliary sequenced data"
     ]
    },
    {
     "cell_type": "code",
     "collapsed": false,
     "input": [
      "for rec in tbl_sample_bam_info.data():\n",
      "    print(rec[2])\n",
      "    !mkdir -p {rec[3]}\n",
      "    !rsync -avL malsrv2:{rec[2]} {rec[3]}\n",
      "    !samtools index {rec[2]}"
     ],
     "language": "python",
     "metadata": {},
     "outputs": [
      {
       "output_type": "stream",
       "stream": "stdout",
       "text": [
        "/nfs/team112_internal/production_files/Pf/4_0/PF6/PA0020_C/PA0020_C.bam\n"
       ]
      },
      {
       "output_type": "stream",
       "stream": "stdout",
       "text": [
        "receiving file list ... "
       ]
      },
      {
       "output_type": "stream",
       "stream": "stdout",
       "text": [
        "done\r\n"
       ]
      },
      {
       "output_type": "stream",
       "stream": "stdout",
       "text": [
        "\r\n",
        "sent 20 bytes  received 95 bytes  76.67 bytes/sec\r\n",
        "total size is 3736331950  speedup is 32489843.04\r\n"
       ]
      },
      {
       "output_type": "stream",
       "stream": "stdout",
       "text": [
        "/nfs/team112_internal/production_files/Pf/4_0/PF6/PA0079_C/PA0079_C.bam\n"
       ]
      },
      {
       "output_type": "stream",
       "stream": "stdout",
       "text": [
        "receiving file list ... "
       ]
      },
      {
       "output_type": "stream",
       "stream": "stdout",
       "text": [
        "done\r\n"
       ]
      },
      {
       "output_type": "stream",
       "stream": "stdout",
       "text": [
        "\r\n",
        "sent 20 bytes  received 87 bytes  42.80 bytes/sec\r\n",
        "total size is 176212462  speedup is 1646845.44\r\n"
       ]
      },
      {
       "output_type": "stream",
       "stream": "stdout",
       "text": [
        "/nfs/team112_internal/production_files/Pf/4_0/PF26/PA0155_C/PA0155_C.bam\n"
       ]
      },
      {
       "output_type": "stream",
       "stream": "stdout",
       "text": [
        "receiving file list ... done\r\n"
       ]
      },
      {
       "output_type": "stream",
       "stream": "stdout",
       "text": [
        "\r\n",
        "sent 20 bytes  received 87 bytes  42.80 bytes/sec\r\n",
        "total size is 1206396992  speedup is 11274738.24\r\n"
       ]
      },
      {
       "output_type": "stream",
       "stream": "stdout",
       "text": [
        "/nfs/team112_internal/production_files/Pf/4_0/PF26/PA0223_C/PA0223_C.bam\n"
       ]
      },
      {
       "output_type": "stream",
       "stream": "stdout",
       "text": [
        "receiving file list ... "
       ]
      },
      {
       "output_type": "stream",
       "stream": "stdout",
       "text": [
        "done\r\n"
       ]
      },
      {
       "output_type": "stream",
       "stream": "stdout",
       "text": [
        "\r\n",
        "sent 20 bytes  received 87 bytes  71.33 bytes/sec\r\n",
        "total size is 1144007395  speedup is 10691657.90\r\n"
       ]
      },
      {
       "output_type": "stream",
       "stream": "stdout",
       "text": [
        "/nfs/team112_internal/production_files/Pf/4_0/PF17/PF0428_CW/PF0428_CW.bam\n"
       ]
      },
      {
       "output_type": "stream",
       "stream": "stdout",
       "text": [
        "receiving file list ... "
       ]
      },
      {
       "output_type": "stream",
       "stream": "stdout",
       "text": [
        "done\r\n"
       ]
      },
      {
       "output_type": "stream",
       "stream": "stdout",
       "text": [
        "\r\n",
        "sent 20 bytes  received 96 bytes  77.33 bytes/sec\r\n",
        "total size is 9413418147  speedup is 81150156.44\r\n"
       ]
      },
      {
       "output_type": "stream",
       "stream": "stdout",
       "text": [
        "/nfs/team112_internal/production_files/Pf/4_0/PF17/PF0467_C/PF0467_C.bam\n"
       ]
      },
      {
       "output_type": "stream",
       "stream": "stdout",
       "text": [
        "receiving file list ... "
       ]
      },
      {
       "output_type": "stream",
       "stream": "stdout",
       "text": [
        "done\r\n"
       ]
      },
      {
       "output_type": "stream",
       "stream": "stdout",
       "text": [
        "\r\n",
        "sent 20 bytes  received 87 bytes  30.57 bytes/sec\r\n",
        "total size is 956624857  speedup is 8940419.22\r\n"
       ]
      },
      {
       "output_type": "stream",
       "stream": "stdout",
       "text": [
        "/nfs/team112_internal/production_files/Pf/4_0/PFlab1/PG0001_C/PG0001_C.bam\n"
       ]
      },
      {
       "output_type": "stream",
       "stream": "stdout",
       "text": [
        "receiving file list ... "
       ]
      },
      {
       "output_type": "stream",
       "stream": "stdout",
       "text": [
        "done\r\n"
       ]
      },
      {
       "output_type": "stream",
       "stream": "stdout",
       "text": [
        "PG0001_C.bam\r\n"
       ]
      },
      {
       "output_type": "stream",
       "stream": "stdout",
       "text": [
        "Connection to localhost closed by remote host.\r",
        "\r\n",
        "rsync: connection unexpectedly closed (381597277 bytes received so far) [receiver]\r\n",
        "rsync error: error in rsync protocol data stream (code 12) at /SourceCache/rsync/rsync-45/rsync/io.c(453) [receiver=2.6.9]\r\n",
        "rsync: connection unexpectedly closed (83 bytes received so far) [generator]\r\n",
        "rsync error: unexplained error (code 255) at /SourceCache/rsync/rsync-45/rsync/io.c(453) [generator=2.6.9]\r\n"
       ]
      },
      {
       "output_type": "stream",
       "stream": "stdout",
       "text": [
        "open: No such file or directory\r\n",
        "[bam_index_build2] fail to open the BAM file.\r\n"
       ]
      },
      {
       "output_type": "stream",
       "stream": "stdout",
       "text": [
        "/nfs/team112_internal/production_files/Pf/4_0/PFlab1/PG0002_C/PG0002_C.bam\n"
       ]
      },
      {
       "output_type": "stream",
       "stream": "stdout",
       "text": [
        "ssh: connect to host localhost port 11222: Connection refused\r",
        "\r\n",
        "rsync: connection unexpectedly closed (0 bytes received so far) [receiver]\r\n",
        "rsync error: error in rsync protocol data stream (code 12) at /SourceCache/rsync/rsync-45/rsync/io.c(453) [receiver=2.6.9]\r\n"
       ]
      },
      {
       "output_type": "stream",
       "stream": "stdout",
       "text": [
        "open: No such file or directory\r\n",
        "[bam_index_build2] fail to open the BAM file.\r\n"
       ]
      },
      {
       "output_type": "stream",
       "stream": "stdout",
       "text": [
        "/nfs/team112_internal/production_files/Pf/4_0/PF12/PH0022_C/PH0022_C.bam\n"
       ]
      },
      {
       "output_type": "stream",
       "stream": "stdout",
       "text": [
        "ssh: connect to host localhost port 11222: Connection refused\r",
        "\r\n",
        "rsync: connection unexpectedly closed (0 bytes received so far) [receiver]\r\n",
        "rsync error: error in rsync protocol data stream (code 12) at /SourceCache/rsync/rsync-45/rsync/io.c(453) [receiver=2.6.9]\r\n"
       ]
      },
      {
       "output_type": "stream",
       "stream": "stdout",
       "text": [
        "/nfs/team112_internal/production_files/Pf/4_0/PF11/PH0024_C/PH0024_C.bam\n"
       ]
      },
      {
       "output_type": "stream",
       "stream": "stdout",
       "text": [
        "ssh: connect to host localhost port 11222: Connection refused\r",
        "\r\n",
        "rsync: connection unexpectedly closed (0 bytes received so far) [receiver]\r\n",
        "rsync error: unexplained error (code 255) at /SourceCache/rsync/rsync-45/rsync/io.c(453) [receiver=2.6.9]\r\n"
       ]
      },
      {
       "output_type": "stream",
       "stream": "stdout",
       "text": [
        "open: No such file or directory\r\n",
        "[bam_index_build2] fail to open the BAM file.\r\n"
       ]
      },
      {
       "output_type": "stream",
       "stream": "stdout",
       "text": [
        "/nfs/team112_internal/production_files/Pf/4_0/PF11/PH0026_C/PH0026_C.bam\n"
       ]
      },
      {
       "output_type": "stream",
       "stream": "stdout",
       "text": [
        "ssh: connect to host localhost port 11222: Connection refused\r",
        "\r\n",
        "rsync: connection unexpectedly closed (0 bytes received so far) [receiver]\r\n",
        "rsync error: error in rsync protocol data stream (code 12) at /SourceCache/rsync/rsync-45/rsync/io.c(453) [receiver=2.6.9]\r\n"
       ]
      },
      {
       "output_type": "stream",
       "stream": "stdout",
       "text": [
        "open: No such file or directory\r\n",
        "[bam_index_build2] fail to open the BAM file.\r\n"
       ]
      },
      {
       "output_type": "stream",
       "stream": "stdout",
       "text": [
        "/nfs/team112_internal/production_files/Pf/4_0/PARC3/PH0227_C/PH0227_C.bam\n"
       ]
      },
      {
       "output_type": "stream",
       "stream": "stdout",
       "text": [
        "ssh: connect to host localhost port 11222: Connection refused\r",
        "\r\n",
        "rsync: connection unexpectedly closed (0 bytes received so far) [receiver]\r\n",
        "rsync error: error in rsync protocol data stream (code 12) at /SourceCache/rsync/rsync-45/rsync/io.c(453) [receiver=2.6.9]\r\n"
       ]
      },
      {
       "output_type": "stream",
       "stream": "stdout",
       "text": [
        "open: No such file or directory\r\n",
        "[bam_index_build2] fail to open the BAM file.\r\n"
       ]
      },
      {
       "output_type": "stream",
       "stream": "stdout",
       "text": [
        "/nfs/team112_internal/production_files/Pf/4_0/PFV2/PH0302_C/PH0302_C.bam\n"
       ]
      },
      {
       "output_type": "stream",
       "stream": "stdout",
       "text": [
        "ssh: connect to host localhost port 11222: Connection refused\r",
        "\r\n",
        "rsync: connection unexpectedly closed (0 bytes received so far) [receiver]\r\n",
        "rsync error: error in rsync protocol data stream (code 12) at /SourceCache/rsync/rsync-45/rsync/io.c(453) [receiver=2.6.9]\r\n"
       ]
      },
      {
       "output_type": "stream",
       "stream": "stdout",
       "text": [
        "open: No such file or directory\r\n",
        "[bam_index_build2] fail to open the BAM file.\r\n"
       ]
      },
      {
       "output_type": "stream",
       "stream": "stdout",
       "text": [
        "/nfs/team112_internal/production_files/Pf/4_0/PF1/PM0090_C/PM0090_C.bam\n"
       ]
      },
      {
       "output_type": "stream",
       "stream": "stdout",
       "text": [
        "ssh: connect to host localhost port 11222: Connection refused\r",
        "\r\n",
        "rsync: connection unexpectedly closed (0 bytes received so far) [receiver]\r\n",
        "rsync error: error in rsync protocol data stream (code 12) at /SourceCache/rsync/rsync-45/rsync/io.c(453) [receiver=2.6.9]\r\n"
       ]
      },
      {
       "output_type": "stream",
       "stream": "stdout",
       "text": [
        "open: No such file or directory\r\n",
        "[bam_index_build2] fail to open the BAM file.\r\n"
       ]
      }
     ],
     "prompt_number": 17
    },
    {
     "cell_type": "code",
     "collapsed": false,
     "input": [],
     "language": "python",
     "metadata": {},
     "outputs": []
    }
   ],
   "metadata": {}
  }
 ]
}