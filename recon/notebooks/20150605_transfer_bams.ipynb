{
 "metadata": {
  "name": "",
  "signature": "sha256:e03464adc12d330370723f53ef3d82c19a50c7219e013de7b6786e240ebe5f92"
 },
 "nbformat": 3,
 "nbformat_minor": 0,
 "worksheets": [
  {
   "cells": [
    {
     "cell_type": "heading",
     "level": 1,
     "metadata": {},
     "source": [
      "Setup"
     ]
    },
    {
     "cell_type": "code",
     "collapsed": false,
     "input": [
      "%run _shared_setup.ipynb"
     ],
     "language": "python",
     "metadata": {},
     "outputs": [
      {
       "output_type": "stream",
       "stream": "stdout",
       "text": [
        "python 3.4.1 |Anaconda 2.1.0 (x86_64)| (default, Sep 10 2014, 17:24:09) \n",
        "[GCC 4.2.1 (Apple Inc. build 5577)]\n",
        "numpy 1.9.0\n",
        "scipy 0.14.0\n",
        "pandas 0.14.1\n",
        "numexpr 2.3.1\n",
        "pysam 0.8.3\n",
        "petl 1.0.2\n",
        "petlx 1.0.3\n",
        "vcf 0.6.7\n",
        "h5py 2.3.1\n",
        "tables 3.1.1\n",
        "vcfplt 0.8\n"
       ]
      },
      {
       "output_type": "stream",
       "stream": "stdout",
       "text": [
        "384\n",
        "5729\n"
       ]
      }
     ],
     "prompt_number": 1
    },
    {
     "cell_type": "code",
     "collapsed": false,
     "input": [
      "SANGER_BAM_DIR = '/nfs/team112_internal/production_files/Pf/4_0'"
     ],
     "language": "python",
     "metadata": {},
     "outputs": [],
     "prompt_number": 2
    },
    {
     "cell_type": "heading",
     "level": 1,
     "metadata": {},
     "source": [
      "Load data"
     ]
    },
    {
     "cell_type": "code",
     "collapsed": false,
     "input": [
      "tbl_sample_sets"
     ],
     "language": "python",
     "metadata": {},
     "outputs": [
      {
       "html": [
        "<table class='petl'>\n",
        "<thead>\n",
        "<tr>\n",
        "<th>sample_code</th>\n",
        "<th>source_code</th>\n",
        "<th>donor_source_code</th>\n",
        "<th>country_code</th>\n",
        "<th>384_sample_set_code</th>\n",
        "<th>384_position_code</th>\n",
        "<th>96_sample_set_code</th>\n",
        "<th>96_position_code</th>\n",
        "</tr>\n",
        "</thead>\n",
        "<tbody>\n",
        "<tr>\n",
        "<td>PH0043-C</td>\n",
        "<td style='text-align: right'>722519</td>\n",
        "<td style='text-align: right'>722519</td>\n",
        "<td>KH</td>\n",
        "<td>DK1066</td>\n",
        "<td>A01</td>\n",
        "<td>PH150527-1</td>\n",
        "<td>A01</td>\n",
        "</tr>\n",
        "<tr>\n",
        "<td>PN0004-C</td>\n",
        "<td>pfXUA010</td>\n",
        "<td>pfXUA010</td>\n",
        "<td>PG</td>\n",
        "<td>DK1066</td>\n",
        "<td>A02</td>\n",
        "<td>PF150527-1</td>\n",
        "<td>A01</td>\n",
        "</tr>\n",
        "<tr>\n",
        "<td>PH0457-CW</td>\n",
        "<td>PF860-2MACS_WGA</td>\n",
        "<td>PF860-2MACS</td>\n",
        "<td>KH</td>\n",
        "<td>DK1066</td>\n",
        "<td>A03</td>\n",
        "<td>PH150527-1</td>\n",
        "<td>A02</td>\n",
        "</tr>\n",
        "<tr>\n",
        "<td>PN0005-C</td>\n",
        "<td>pfXUA013</td>\n",
        "<td>pfXUA013</td>\n",
        "<td>PG</td>\n",
        "<td>DK1066</td>\n",
        "<td>A04</td>\n",
        "<td>PF150527-1</td>\n",
        "<td>A02</td>\n",
        "</tr>\n",
        "<tr>\n",
        "<td>PH0002-C</td>\n",
        "<td>CP185</td>\n",
        "<td>CP185</td>\n",
        "<td>KH</td>\n",
        "<td>DK1066</td>\n",
        "<td>A05</td>\n",
        "<td>PH150527-1</td>\n",
        "<td>A03</td>\n",
        "</tr>\n",
        "</tbody>\n",
        "</table>\n",
        "<p><strong>...</strong></p>"
       ],
       "metadata": {},
       "output_type": "pyout",
       "prompt_number": 3,
       "text": [
        "+-------------+-------------------+-------------------+--------------+---------------------+-------------------+--------------------+------------------+\n",
        "| sample_code | source_code       | donor_source_code | country_code | 384_sample_set_code | 384_position_code | 96_sample_set_code | 96_position_code |\n",
        "+=============+===================+===================+==============+=====================+===================+====================+==================+\n",
        "| 'PH0043-C'  |            722519 |            722519 | 'KH'         | 'DK1066'            | 'A01'             | 'PH150527-1'       | 'A01'            |\n",
        "+-------------+-------------------+-------------------+--------------+---------------------+-------------------+--------------------+------------------+\n",
        "| 'PN0004-C'  | 'pfXUA010'        | 'pfXUA010'        | 'PG'         | 'DK1066'            | 'A02'             | 'PF150527-1'       | 'A01'            |\n",
        "+-------------+-------------------+-------------------+--------------+---------------------+-------------------+--------------------+------------------+\n",
        "| 'PH0457-CW' | 'PF860-2MACS_WGA' | 'PF860-2MACS'     | 'KH'         | 'DK1066'            | 'A03'             | 'PH150527-1'       | 'A02'            |\n",
        "+-------------+-------------------+-------------------+--------------+---------------------+-------------------+--------------------+------------------+\n",
        "| 'PN0005-C'  | 'pfXUA013'        | 'pfXUA013'        | 'PG'         | 'DK1066'            | 'A04'             | 'PF150527-1'       | 'A02'            |\n",
        "+-------------+-------------------+-------------------+--------------+---------------------+-------------------+--------------------+------------------+\n",
        "| 'PH0002-C'  | 'CP185'           | 'CP185'           | 'KH'         | 'DK1066'            | 'A05'             | 'PH150527-1'       | 'A03'            |\n",
        "+-------------+-------------------+-------------------+--------------+---------------------+-------------------+--------------------+------------------+\n",
        "..."
       ]
      }
     ],
     "prompt_number": 3
    },
    {
     "cell_type": "code",
     "collapsed": false,
     "input": [
      "tbl_sample_bam_info = (\n",
      "    tbl_sample_sets\n",
      "    .join(tbl_pgv4_sample_manifest, lkey='sample_code', rkey='Sample')\n",
      "    .cut(['sample_code', 'Study'])\n",
      "    .addfield('sanger_bam_fn', lambda rec: \"%s/%s/%s/%s.bam\" % (\n",
      "        SANGER_BAM_DIR,\n",
      "        rec['Study'],\n",
      "        rec['sample_code'].replace('-', '_'),\n",
      "        rec['sample_code'].replace('-', '_')\n",
      "    ))\n",
      "    .addfield('local_dir', lambda rec: \"%s/%s/%s/\" % (\n",
      "        SANGER_BAM_DIR,\n",
      "        rec['Study'],\n",
      "        rec['sample_code'].replace('-', '_')\n",
      "    ))\n",
      ")\n",
      "print(len(tbl_sample_bam_info.data()))\n",
      "tbl_sample_bam_info.display(index_header=True)"
     ],
     "language": "python",
     "metadata": {},
     "outputs": [
      {
       "output_type": "stream",
       "stream": "stdout",
       "text": [
        "227\n"
       ]
      },
      {
       "html": [
        "<table class='petl'>\n",
        "<thead>\n",
        "<tr>\n",
        "<th>0|sample_code</th>\n",
        "<th>1|Study</th>\n",
        "<th>2|sanger_bam_fn</th>\n",
        "<th>3|local_dir</th>\n",
        "</tr>\n",
        "</thead>\n",
        "<tbody>\n",
        "<tr>\n",
        "<td>PA0011-C</td>\n",
        "<td>PF6</td>\n",
        "<td>/nfs/team112_internal/production_files/Pf/4_0/PF6/PA0011_C/PA0011_C.bam</td>\n",
        "<td>/nfs/team112_internal/production_files/Pf/4_0/PF6/PA0011_C/</td>\n",
        "</tr>\n",
        "<tr>\n",
        "<td>PA0015-C</td>\n",
        "<td>PF6</td>\n",
        "<td>/nfs/team112_internal/production_files/Pf/4_0/PF6/PA0015_C/PA0015_C.bam</td>\n",
        "<td>/nfs/team112_internal/production_files/Pf/4_0/PF6/PA0015_C/</td>\n",
        "</tr>\n",
        "<tr>\n",
        "<td>PA0016-C</td>\n",
        "<td>PF6</td>\n",
        "<td>/nfs/team112_internal/production_files/Pf/4_0/PF6/PA0016_C/PA0016_C.bam</td>\n",
        "<td>/nfs/team112_internal/production_files/Pf/4_0/PF6/PA0016_C/</td>\n",
        "</tr>\n",
        "<tr>\n",
        "<td>PA0018-C</td>\n",
        "<td>PF6</td>\n",
        "<td>/nfs/team112_internal/production_files/Pf/4_0/PF6/PA0018_C/PA0018_C.bam</td>\n",
        "<td>/nfs/team112_internal/production_files/Pf/4_0/PF6/PA0018_C/</td>\n",
        "</tr>\n",
        "<tr>\n",
        "<td>PA0020-C</td>\n",
        "<td>PF6</td>\n",
        "<td>/nfs/team112_internal/production_files/Pf/4_0/PF6/PA0020_C/PA0020_C.bam</td>\n",
        "<td>/nfs/team112_internal/production_files/Pf/4_0/PF6/PA0020_C/</td>\n",
        "</tr>\n",
        "</tbody>\n",
        "</table>\n",
        "<p><strong>...</strong></p>"
       ],
       "metadata": {},
       "output_type": "display_data"
      }
     ],
     "prompt_number": 4
    },
    {
     "cell_type": "code",
     "collapsed": false,
     "input": [
      "for rec in tbl_sample_bam_info.data():\n",
      "    print(rec[2])\n",
      "    !mkdir -p {rec[3]}\n",
      "    !rsync -avL malsrv2:{rec[2]} {rec[3]}\n",
      "    !samtools index {rec[2]}"
     ],
     "language": "python",
     "metadata": {},
     "outputs": [
      {
       "output_type": "stream",
       "stream": "stdout",
       "text": [
        "/nfs/team112_internal/production_files/Pf/4_0/PF6/PA0011_C/PA0011_C.bam\n"
       ]
      },
      {
       "output_type": "stream",
       "stream": "stdout",
       "text": [
        "receiving file list ... done\r\n"
       ]
      },
      {
       "output_type": "stream",
       "stream": "stdout",
       "text": [
        "\r\n",
        "sent 20 bytes  received 95 bytes  76.67 bytes/sec\r\n",
        "total size is 3494475968  speedup is 30386747.55\r\n"
       ]
      },
      {
       "output_type": "stream",
       "stream": "stdout",
       "text": [
        "/nfs/team112_internal/production_files/Pf/4_0/PF6/PA0015_C/PA0015_C.bam\n"
       ]
      },
      {
       "output_type": "stream",
       "stream": "stdout",
       "text": [
        "receiving file list ... "
       ]
      },
      {
       "output_type": "stream",
       "stream": "stdout",
       "text": [
        "done\r\n"
       ]
      },
      {
       "output_type": "stream",
       "stream": "stdout",
       "text": [
        "\r\n",
        "sent 20 bytes  received 95 bytes  76.67 bytes/sec\r\n",
        "total size is 4186558870  speedup is 36404859.74\r\n"
       ]
      }
     ]
    },
    {
     "cell_type": "heading",
     "level": 1,
     "metadata": {},
     "source": [
      "Transfer bams for capilliary sequenced data"
     ]
    },
    {
     "cell_type": "code",
     "collapsed": false,
     "input": [
      "for rec in tbl_sample_bam_info.data():\n",
      "    if rec[0] in ['PA0155-C', 'PA0223-C', 'PH022-C']:\n",
      "        print(rec[2])\n",
      "        !mkdir -p {rec[3]}\n",
      "        !rsync -avL malsrv2:{rec[2]} {rec[3]}\n",
      "        !samtools index {rec[2]}"
     ],
     "language": "python",
     "metadata": {},
     "outputs": []
    }
   ],
   "metadata": {}
  }
 ]
}